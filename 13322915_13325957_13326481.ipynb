{
 "cells": [
  {
   "cell_type": "markdown",
   "metadata": {
    "deletable": false,
    "editable": false,
    "id": "BBPDEKU44IWO",
    "nbgrader": {
     "cell_type": "markdown",
     "checksum": "758d05f39ab671358f17858c55f7161c",
     "grade": false,
     "grade_id": "cell-c9cd9e550239e812",
     "locked": true,
     "schema_version": 3,
     "solution": false,
     "task": false
    }
   },
   "source": [
    "# Homework 1 (Total Points: 260) <a class=\"anchor\" id=\"top\"></a>\n",
    "\n",
    "\n",
    "**Submission instructions**:\n",
    "- Only the code `TODO: Implement this!` denotes that these sections are graded.\n",
    "- For Part 1: You can use the `nltk`, `numpy` and `matplotlib` libraries here. Other libraries, e.g., `gensim` or `scikit-learn`, may not be used. For Part 2: `gensim` is allowed in addition to the imported libraries in the next code cell\n",
    "- The notebook you submit has to have the student ids, separated by underscores (E.g., `12341234_12341234_12341234.ipynb`). \n",
    "- This will be parsed by a regexp, so please double check your filename.\n",
    "- Only one member of each group has to submit the file to canvas.\n",
    "- Make sure to check that your notebook runs before submission. A quick way to do this is to restart the kernel and run all the cells.  \n",
    "- Please do not delete/add new cells. Removing cells can lead to grade deduction.\n",
    "- Note, that you are not allowed to use Google Colab.\n",
    "\n",
    "\n",
    "**Learning Goals**:\n",
    "- [Part 1, Term-based matching](#part1) (175 points):\n",
    "    - Learn how to load a dataset and process it.\n",
    "    - Learn how to implement several standard IR methods (TF-IDF, BM25, QL) and understand their weaknesses & strengths.\n",
    "    - Learn how to evaluate IR methods.\n",
    "- [Part 2, Semantic-based matching](#part2) (85 points):\n",
    "    - Learn how to implement vector-space retrieval methods (LSI, LDA).\n",
    "    - Learn how to use LSI and LDA for re-ranking\n",
    "\n",
    "    \n",
    "**Resources**: \n",
    "- **Part 1**: Sections 2.3, 4.1, 4.2, 4.3, 5.3, 5.6, 5.7, 6.2, 7, 8 of [Search Engines: Information Retrieval in Practice](https://ciir.cs.umass.edu/downloads/SEIRiP.pdf)\n",
    "- **Part 2**: [LSI - Chapter 18](https://nlp.stanford.edu/IR-book/pdf/18lsi.pdf) from [Introduction to Information Retrieval](https://nlp.stanford.edu/IR-book/) book and the [original LDA paper](https://jmlr.org/papers/volume3/blei03a/blei03a.pdf)"
   ]
  },
  {
   "cell_type": "code",
   "execution_count": 36,
   "metadata": {
    "ExecuteTime": {
     "end_time": "2021-02-19T10:38:35.631495Z",
     "start_time": "2021-02-19T10:38:34.489256Z"
    },
    "deletable": false,
    "editable": false,
    "id": "RS9pLvO94IWT",
    "nbgrader": {
     "cell_type": "code",
     "checksum": "c55bfe94ff1f564dd595547e516c4c6e",
     "grade": false,
     "grade_id": "cell-f5357fabdb9660e3",
     "locked": true,
     "schema_version": 3,
     "solution": false,
     "task": false
    }
   },
   "outputs": [],
   "source": [
    "# imports \n",
    "# TODO: Ensure that no additional library is imported in the notebook. \n",
    "# TODO: Only the standard library and the following libraries are allowed:\n",
    "# TODO: You can also use unlisted classes from these libraries or standard libraries (such as defaultdict, Counter, ...).\n",
    "\n",
    "import os\n",
    "import zipfile\n",
    "from functools import partial\n",
    "\n",
    "import nltk\n",
    "import requests\n",
    "import numpy as np\n",
    "from tqdm import tqdm\n",
    "\n",
    "import matplotlib.pyplot as plt\n",
    "from matplotlib.pyplot import cm\n",
    "\n",
    "from ipywidgets import widgets\n",
    "from IPython.display import display, HTML\n",
    "#from IPython.html import widgets\n",
    "from collections import namedtuple\n",
    "\n",
    "# Own imports from standard libraries\n",
    "from collections import Counter\n",
    "import math\n",
    "import operator\n",
    "\n",
    "\n",
    "\n",
    "%matplotlib inline"
   ]
  },
  {
   "cell_type": "markdown",
   "metadata": {
    "deletable": false,
    "editable": false,
    "id": "A4kKorew4IWU",
    "nbgrader": {
     "cell_type": "markdown",
     "checksum": "4ef0139c6fbc22b41520721a9275c1e1",
     "grade": false,
     "grade_id": "cell-7428e12ed184408b",
     "locked": true,
     "schema_version": 3,
     "solution": false,
     "task": false
    }
   },
   "source": [
    "\n",
    "# Part 1: Term-based Matching (175 points) <a class=\"anchor\" id=\"part1\"></a>\n",
    "\n",
    "[Back to top](#top)\n",
    "\n",
    "In the first part, we will learn the basics of IR from loading and preprocessing the material, to implementing some well known search algorithms, to evaluating the ranking performance of the implemented algorithms. We will be using the CACM dataset throughout the assignment. The CACM dataset is a collection of titles and abstracts from the journal CACM (Communication of the ACM).\n",
    "\n",
    "Table of contents:\n",
    "- [Section 1: Text Processing](#text_processing) (15 points)\n",
    "- [Section 2: Indexing](#indexing) (10 points)\n",
    "- [Section 3: Ranking](#ranking) (80 points)\n",
    "- [Section 4: Evaluation](#evaluation) (40 points)\n",
    "- [Section 5: Analysis](#analysis) (30 points)\n"
   ]
  },
  {
   "cell_type": "markdown",
   "metadata": {
    "deletable": false,
    "editable": false,
    "id": "6vnjcjoy4IWU",
    "nbgrader": {
     "cell_type": "markdown",
     "checksum": "a9050c97b011a926b9e4cf6831eff5bd",
     "grade": false,
     "grade_id": "cell-4b24825cf4ae55ec",
     "locked": true,
     "schema_version": 3,
     "solution": false,
     "task": false
    }
   },
   "source": [
    "---\n",
    "## Section 1: Text Processing (15 points)<a class=\"anchor\" id=\"text_processing\"></a>\n",
    "\n",
    "[Back to Part 1](#part1)\n",
    "\n",
    "In this section, we will load the dataset and learn how to clean up the data to make it usable for an IR system. \n",
    "The points of this section are earned for the following implementations:\n",
    "- `read_cacm_docs` (4 points): Reads in the CACM documents.\n",
    "- `read_queries` (3 points): Reads in the CACM queries.\n",
    "- `load_stopwords` (1 point): Loads the stopwords.\n",
    "- `tokenize` (4 points): Tokenizes the input text.\n",
    "- `stem_token` (3 points): Stems the given token. \n",
    "\n",
    "We are using the [CACM dataset](http://ir.dcs.gla.ac.uk/resources/test_collections/cacm/), which is a small, classic IR dataset, composed of a collection of titles and abstracts from the journal CACM. It comes with relevance judgements for queries, so we can evaluate our IR system. \n"
   ]
  },
  {
   "cell_type": "markdown",
   "metadata": {
    "deletable": false,
    "editable": false,
    "id": "p_lmQikc4IWV",
    "nbgrader": {
     "cell_type": "markdown",
     "checksum": "1de1b97f9ee233ad2348359f0c158eb7",
     "grade": false,
     "grade_id": "cell-45651364e7af6d5a",
     "locked": true,
     "schema_version": 3,
     "solution": false,
     "task": false
    }
   },
   "source": [
    "---\n",
    "### 1.1 Read the CACM documents (4 points)\n",
    "\n",
    "\n",
    "The following cell downloads the dataset and unzips it to a local directory."
   ]
  },
  {
   "cell_type": "code",
   "execution_count": 37,
   "metadata": {
    "ExecuteTime": {
     "end_time": "2021-02-19T10:38:35.657564Z",
     "start_time": "2021-02-19T10:38:35.631495Z"
    },
    "deletable": false,
    "editable": false,
    "id": "GzgZPFdR4IWV",
    "nbgrader": {
     "cell_type": "code",
     "checksum": "4d43c9ad6e77cc01ce4cef0c34824930",
     "grade": false,
     "grade_id": "cell-bbc3030bb3fe7e02",
     "locked": true,
     "schema_version": 3,
     "solution": false,
     "task": false
    }
   },
   "outputs": [],
   "source": [
    "def download_dataset():\n",
    "    folder_path = os.environ.get(\"IR1_DATA_PATH\")\n",
    "    if not folder_path:\n",
    "        folder_path = \"./datasets/\"\n",
    "    os.makedirs(folder_path, exist_ok=True)\n",
    "    \n",
    "    file_location = os.path.join(folder_path, \"cacm.zip\")\n",
    "    \n",
    "    # download file if it doesn't exist\n",
    "    if not os.path.exists(file_location):\n",
    "        \n",
    "        url = \"https://surfdrive.surf.nl/files/index.php/s/M0FGJpX2p8wDwxR/download\"\n",
    "\n",
    "        with open(file_location, \"wb\") as handle:\n",
    "            print(f\"Downloading file from {url} to {file_location}\")\n",
    "            response = requests.get(url, stream=True)\n",
    "            for data in tqdm(response.iter_content()):\n",
    "                handle.write(data)\n",
    "            print(\"Finished downloading file\")\n",
    "    \n",
    "    if not os.path.exists(os.path.join(folder_path, \"train.txt\")):\n",
    "        \n",
    "        # unzip file\n",
    "        with zipfile.ZipFile(file_location, 'r') as zip_ref:\n",
    "            zip_ref.extractall(folder_path)\n",
    "        \n",
    "download_dataset()"
   ]
  },
  {
   "cell_type": "markdown",
   "metadata": {
    "deletable": false,
    "editable": false,
    "id": "mFgbUp9Q4IWW",
    "nbgrader": {
     "cell_type": "markdown",
     "checksum": "31609b0d61d0c74cbd69bc43e47c23be",
     "grade": false,
     "grade_id": "cell-a7dd9a9bf98ede05",
     "locked": true,
     "schema_version": 3,
     "solution": false,
     "task": false
    }
   },
   "source": [
    "---\n",
    "\n",
    "You can see a brief description of each file in the dataset by looking at the README file:"
   ]
  },
  {
   "cell_type": "code",
   "execution_count": 38,
   "metadata": {
    "ExecuteTime": {
     "end_time": "2021-02-19T10:38:35.712739Z",
     "start_time": "2021-02-19T10:38:35.659360Z"
    },
    "colab": {
     "base_uri": "https://localhost:8080/"
    },
    "deletable": false,
    "editable": false,
    "id": "XiphLpFK4IWW",
    "nbgrader": {
     "cell_type": "code",
     "checksum": "1783f9999c7d06955e8da815de62ba5f",
     "grade": false,
     "grade_id": "cell-9b6ff1a17124711f",
     "locked": true,
     "schema_version": 3,
     "solution": false,
     "task": false
    },
    "outputId": "0c34744f-c08a-45f7-ad13-ffdc2287cbda"
   },
   "outputs": [
    {
     "output_type": "stream",
     "name": "stderr",
     "text": [
      "'cat' is not recognized as an internal or external command,\noperable program or batch file.\n"
     ]
    }
   ],
   "source": [
    "##### Read the README file \n",
    "!cat ./datasets/README\n",
    "#####"
   ]
  },
  {
   "cell_type": "markdown",
   "metadata": {
    "deletable": false,
    "editable": false,
    "id": "NYQpF9664IWW",
    "nbgrader": {
     "cell_type": "markdown",
     "checksum": "d6a5333ae8e7f69d81900e714cc43852",
     "grade": false,
     "grade_id": "cell-73351431869fda76",
     "locked": true,
     "schema_version": 3,
     "solution": false,
     "task": false
    }
   },
   "source": [
    "---\n",
    "We are interested in 4 files:\n",
    "- `cacm.all` : Contains the text for all documents. Note that some documents do not have abstracts available. \n",
    "- `query.text` : The text of all queries\n",
    "- `qrels.text` : The relevance judgements\n",
    "- `common_words` : A list of common words. This may be used as a collection of stopwords"
   ]
  },
  {
   "cell_type": "code",
   "execution_count": 39,
   "metadata": {
    "ExecuteTime": {
     "end_time": "2021-02-19T10:38:35.748642Z",
     "start_time": "2021-02-19T10:38:35.714733Z"
    },
    "colab": {
     "base_uri": "https://localhost:8080/"
    },
    "deletable": false,
    "editable": false,
    "id": "YlAL1Byf4IWW",
    "nbgrader": {
     "cell_type": "code",
     "checksum": "c78e4256a08889ce3d0d985ea799b0a9",
     "grade": false,
     "grade_id": "cell-b44dd14079f278ca",
     "locked": true,
     "schema_version": 3,
     "solution": false,
     "task": false
    },
    "outputId": "671b1068-6500-45c4-e9d5-e4578d137c7b"
   },
   "outputs": [
    {
     "output_type": "stream",
     "name": "stderr",
     "text": [
      "'head' is not recognized as an internal or external command,\noperable program or batch file.\n"
     ]
    }
   ],
   "source": [
    "##### The first 45 lines of the CACM dataset forms the first record\n",
    "# We are interested only in 3 fields. \n",
    "# 1. the '.I' field, which is the document id\n",
    "# 2. the '.T' field (the title) and\n",
    "# 3. the '.W' field (the abstract, which may be absent)\n",
    "!head -45 ./datasets/cacm.all\n",
    "#####"
   ]
  },
  {
   "cell_type": "markdown",
   "metadata": {
    "deletable": false,
    "editable": false,
    "id": "96QRlEr34IWX",
    "nbgrader": {
     "cell_type": "markdown",
     "checksum": "aff7cbe5a15a0e3329dc223e3e31abf3",
     "grade": false,
     "grade_id": "cell-c4bf2e263ec553d8",
     "locked": true,
     "schema_version": 3,
     "solution": false,
     "task": false
    }
   },
   "source": [
    "---\n",
    "\n",
    "**Implementation (4 points):**\n",
    "Write a function to read the `cacm.all` file. Note that each document has a variable number of lines. The `.I` field denotes a new document:"
   ]
  },
  {
   "cell_type": "code",
   "execution_count": 40,
   "metadata": {
    "ExecuteTime": {
     "end_time": "2021-02-19T10:38:35.756587Z",
     "start_time": "2021-02-19T10:38:35.750602Z"
    },
    "deletable": false,
    "id": "vNE2WPK-4IWX",
    "nbgrader": {
     "cell_type": "code",
     "checksum": "45fef5d5b543ee439176d7fd0a9d20be",
     "grade": false,
     "grade_id": "cell-b736116eb419c624",
     "locked": false,
     "schema_version": 3,
     "solution": true,
     "task": false
    }
   },
   "outputs": [],
   "source": [
    "# TODO: Implement this! (4 points)\n",
    "def read_cacm_docs(root_folder = \"./datasets/\"):\n",
    "    \"\"\"\n",
    "        Reads in the CACM documents. The dataset is assumed to be in the folder \"./datasets/\" by default\n",
    "        Returns: A list of 2-tuples: (doc_id, document), where 'document' is a single string created by \n",
    "            appending the title and abstract (separated by a \"\\n\"). \n",
    "            In case the record doesn't have an abstract, the document is composed only by the title\n",
    "    \"\"\"\n",
    "    # YOUR CODE HERE\n",
    "    doc_list = []\n",
    "    with open(root_folder + 'cacm.all') as f:\n",
    "        data = (\"\\n\" + f.read()).split(\"\\n.I\")\n",
    "        for i in data[1:]:\n",
    "            lines = i.split(\"\\n.\")\n",
    "            doc_id = str(lines[0][1:])\n",
    "            document = ''\n",
    "            for line in lines[1:]:\n",
    "                if line[0] == \"T\":\n",
    "                    document += line[2:]\n",
    "                if line[0] == \"W\":\n",
    "                    document += line[1:]\n",
    "            doc_list.append((doc_id,document))\n",
    "    return doc_list"
   ]
  },
  {
   "cell_type": "code",
   "execution_count": 41,
   "metadata": {
    "ExecuteTime": {
     "end_time": "2021-02-19T10:38:35.776577Z",
     "start_time": "2021-02-19T10:38:35.757585Z"
    },
    "deletable": false,
    "editable": false,
    "id": "qXIA2lFl4IWY",
    "nbgrader": {
     "cell_type": "code",
     "checksum": "70472b5c277bb7c417de8da24e4e5261",
     "grade": true,
     "grade_id": "cell-a1c43818e0d3fd79",
     "locked": true,
     "points": 4,
     "schema_version": 3,
     "solution": false,
     "task": false
    }
   },
   "outputs": [],
   "source": [
    "##### Function check\n",
    "docs = read_cacm_docs()\n",
    "assert isinstance(docs, list)\n",
    "assert len(docs) == 3204, \"There should be exactly 3024 documents\"\n",
    "##### "
   ]
  },
  {
   "cell_type": "markdown",
   "metadata": {
    "deletable": false,
    "editable": false,
    "id": "uZRyfi9R4IWY",
    "nbgrader": {
     "cell_type": "markdown",
     "checksum": "6fd095d2204cce3935444ca37c7c42da",
     "grade": false,
     "grade_id": "cell-5ed2ddc91f73c60e",
     "locked": true,
     "schema_version": 3,
     "solution": false,
     "task": false
    }
   },
   "source": [
    "---\n",
    "### 1.2 Read the CACM queries (3 points)\n",
    "\n",
    "Next, let us read the queries. They are formatted similarly:"
   ]
  },
  {
   "cell_type": "code",
   "execution_count": 42,
   "metadata": {
    "ExecuteTime": {
     "end_time": "2021-02-19T10:38:35.819419Z",
     "start_time": "2021-02-19T10:38:35.777532Z"
    },
    "colab": {
     "base_uri": "https://localhost:8080/"
    },
    "deletable": false,
    "editable": false,
    "id": "SypqoG8T4IWY",
    "nbgrader": {
     "cell_type": "code",
     "checksum": "5d26c0908e758acb9968b84056b1060a",
     "grade": false,
     "grade_id": "cell-5c7e8e7c4fc2757f",
     "locked": true,
     "schema_version": 3,
     "solution": false,
     "task": false
    },
    "outputId": "061e0dc1-6f1b-4d21-ff2b-775699a7a874"
   },
   "outputs": [
    {
     "output_type": "stream",
     "name": "stderr",
     "text": [
      "'head' is not recognized as an internal or external command,\noperable program or batch file.\n"
     ]
    }
   ],
   "source": [
    "##### The first 15 lines of 'query.text' has 2 queries\n",
    "# We are interested only in 2 fields. \n",
    "# 1. the '.I' - the query id\n",
    "# 2. the '.W' - the query\n",
    "!head -15 ./datasets/query.text\n",
    "#####"
   ]
  },
  {
   "cell_type": "markdown",
   "metadata": {
    "deletable": false,
    "editable": false,
    "id": "wrddYisC4IWY",
    "nbgrader": {
     "cell_type": "markdown",
     "checksum": "da34d95924026ea55bf0a9b2070ec237",
     "grade": false,
     "grade_id": "cell-88e293507d2dcef6",
     "locked": true,
     "schema_version": 3,
     "solution": false,
     "task": false
    }
   },
   "source": [
    "---\n",
    "\n",
    "**Implementation (3 points):**\n",
    "Write a function to read the `query.text` file:"
   ]
  },
  {
   "cell_type": "code",
   "execution_count": 43,
   "metadata": {
    "ExecuteTime": {
     "end_time": "2021-02-19T10:38:35.826400Z",
     "start_time": "2021-02-19T10:38:35.821414Z"
    },
    "deletable": false,
    "id": "Ct3uxE-s4IWZ",
    "nbgrader": {
     "cell_type": "code",
     "checksum": "f98ac81b2ccb44fe3441e202e980c847",
     "grade": false,
     "grade_id": "cell-433e3ad5d0e2572a",
     "locked": false,
     "schema_version": 3,
     "solution": true,
     "task": false
    }
   },
   "outputs": [],
   "source": [
    "# TODO: Implement this! (3 points)\n",
    "def read_queries(root_folder = \"./datasets/\"):\n",
    "    \"\"\"\n",
    "        Reads in the CACM queries. The dataset is assumed to be in the folder \"./datasets/\" by default\n",
    "        Returns: A list of 2-tuples: (query_id, query)\n",
    "    \"\"\"\n",
    "    # YOUR CODE HERE\n",
    "    query_list = []\n",
    "    with open(root_folder + 'query.text') as f:\n",
    "        data = (\"\\n\" + f.read()).split(\"\\n.I\")\n",
    "        for i in data[1:]:\n",
    "            lines = i.split(\"\\n.\")\n",
    "            query_id = str(lines[0][1:])\n",
    "            query = ''\n",
    "            for line in lines[1:]:\n",
    "                if line[0] == \"W\":\n",
    "                    query += line[1:]\n",
    "            query_list.append((query_id,query))\n",
    "    print(query_list)\n",
    "    return query_list\n"
   ]
  },
  {
   "cell_type": "code",
   "execution_count": 44,
   "metadata": {
    "ExecuteTime": {
     "end_time": "2021-02-19T10:38:35.832385Z",
     "start_time": "2021-02-19T10:38:35.827398Z"
    },
    "colab": {
     "base_uri": "https://localhost:8080/"
    },
    "deletable": false,
    "editable": false,
    "id": "DYO92aQn4IWZ",
    "nbgrader": {
     "cell_type": "code",
     "checksum": "c0e7a9868bd4b92692c33732af640b8b",
     "grade": true,
     "grade_id": "cell-6ec540abce66c598",
     "locked": true,
     "points": 3,
     "schema_version": 3,
     "solution": false,
     "task": false
    },
    "outputId": "e6294e67-a14f-425e-d65d-a5780b07b487"
   },
   "outputs": [
    {
     "output_type": "stream",
     "name": "stdout",
     "text": [
      "[('1', '\\n What articles exist which deal with TSS (Time Sharing System), an\\noperating system for IBM computers?'), ('2', '\\n I am interested in articles written either by Prieve or Udo Pooch'), ('3', '\\n Intermediate languages used in construction of multi-targeted compilers; TCOLL'), ('4', \"\\n I'm interested in mechanisms for communicating between disjoint processes,\\npossibly, but not exclusively, in a distributed environment.  I would\\nrather see descriptions of complete mechanisms, with or without implementations,\\nas opposed to theoretical work on the abstract problem.  Remote procedure\\ncalls and message-passing are examples of my interests.\"), ('5', \"\\n I'd like papers on design and implementation of editing interfaces,\\nwindow-managers, command interpreters, etc.  The essential issues are\\nhuman interface design, with views on improvements to user efficiency,\\neffectiveness and satisfaction.\"), ('6', '\\n Interested in articles on robotics, motion planning particularly the\\ngeometric and combinatorial aspects.  We are not interested in the\\ndynamics of arm motion.'), ('7', '\\n I am interested in distributed algorithms - concurrent programs in\\nwhich processes communicate and synchronize by using message passing.\\nAreas of particular interest include fault-tolerance and techniques\\nfor understanding the correctness of these algorithms.'), ('8', '\\n Addressing schemes for resources in networks; resource addressing in\\nnetwork operating systems'), ('9', '\\n Security considerations in local networks, network operating systems,\\nand distributed systems.'), ('10', '\\n Parallel languages; languages for parallel computation'), ('11', '\\n SETL, Very High Level Languages'), ('12', '\\n portable operating systems'), ('13', '\\n code optimization for space efficiency'), ('14', '\\n find all discussions of optimal implementations of sort algorithms for\\ndatabase management applications'), ('15', '\\n Find all discussions of horizontal microcode optimization with special\\nemphasis on optimization of loops and global optimization.'), ('16', '\\n find all descriptions of file handling in operating systems based on\\nmultiple processes and message passing.'), ('17', '\\n Optimization of intermediate and machine code'), ('18', '\\n Languages and compilers for parallel processors, especially highly\\nhorizontal microcoded machines; code compaction'), ('19', '\\n Parallel algorithms'), ('20', '\\n Graph theoretic algorithms applicable to sparse matrices'), ('21', '\\n computational complexity, intractability, class-complete reductions,\\nalgorithms and efficiency'), ('22', '\\n I am interested in hidden-line and hidden-surface algorithms for\\ncylinders, toroids, spheres, and cones.  This is a rather specialized\\ntopic in computer graphics.'), ('23', '\\n Distributed computing structures and algorithms'), ('24', '\\n Applied stochastic processes'), ('25', '\\n Performance evaluation and modelling of computer systems'), ('26', '\\n Concurrency control mechanisms in operating systems'), ('27', '\\n Memory management aspects of operating systems'), ('28', '\\n Any information on packet radio networks.  Of particular interest are\\nalgorithms for packet routing, and for dealing with changes in\\nnetwork topography.  I am not interested in the hardware used in the\\nnetwork.'), ('29', '\\n Number-theoretic algorithms, especially involving prime number series,\\nsieves, and Chinese Remainder theorem.'), ('30', '\\n Articles on text formatting systems, including \"what you see is what you\\nget\" systems.  Examples: t/nroff, scribe, bravo.'), ('31', '\\n I\\'d like to find articles describing the use of singular value decomposition\\nin digital image processing.  Applications include finding approximations\\nto the original image and restoring images that are subject to noise. An\\narticle on the subject is H.C. Andrews and C.L. Patterson \"Outer product\\nexpansions and their uses in digital image processing\", American Mathematical\\nMonthly, vol. 82.'), ('32', \"\\n I'd like to find articles describing graph algorithms that are based on\\nthe eigenvalue decomposition (or singular value decomposition) of the\\najacency matrix for the graph.  I'm especially interested in any heuristic\\nalgorithms for graph coloring and graph isomorphism using this method.\"), ('33', '\\n Articles about the sensitivity of the eigenvalue decomposition of real\\nmatrices, in particular, zero-one matrices.  I\\'m especially interested in\\nthe separation of eigenspaces corresponding to distinct eigenvalues.\\nArticles on the subject:\\nC. Davis and W.M. Kahn, \"The rotation of eigenvectors by a permutation:,\\nSIAM J. Numerical Analysis, vol. 7, no. 1 (1970); G.W. Stewart, \"Error\\nbounds for approximate invariant subspaces of closed linear operators\",\\nSIAM J. Numerical Analysis., Vol. 8, no. 4 (1971).'), ('34', '\\n Currently interested in isolation of root of polynomial; there is an old\\narticle by Heindel, L.E. in J. ACM, Vol. 18, 533-548.  I would like to find\\nmore recent material.'), ('35', '\\n Probabilistic algorithms especially those dealing with algebraic and\\nsymbolic manipulation.  Some examples:\\nRabiin, \"Probabilistic algorithm on finite field\", SIAM\\nWaztch, \"Probabilistic testing of polynomial identities\", SIAM'), ('36', '\\n Fast algorithm for context-free language recognition or parsing'), ('37', '\\n Articles describing the relationship between data types and concurrency\\n(e.g. what is the type of a process?  when is a synchronization attempt \\nbetween two processes \"type correct\"?  in a message-passing system is there\\nany notion of the types of messages?--i.e. any way to check that the sender\\nof the message and the receiver are both treating the bit stream as some\\nparticular type)'), ('38', '\\n What is the type of a module?\\t(I don\\'t want the entire literature on\\nAbstract Data Types here, but I\\'m not sure how to phrase this to avoid it.\\nI\\'m interested in questions about how one can check that a module \"matches\"\\ncontexts in which it is used.)'), ('39', '\\n What does type compatibility mean in languages that allow programmer\\ndefined types?  (You might want to restrict this to \"extensible\" languages\\nthat allow definition of abstract data types or programmer-supplied\\ndefinitions of operators like *, +.)'), ('40', '\\n List all articles dealing with data types in the following languages:\\nPascal, CLU, Alphard, Russell, Ada, ALGOL 68, EL1.  List any other languages\\nthat are referenced frequently in papers on the above languages (e.g. catch\\nany languages with interesting type structures that I might have missed).'), ('41', '\\n Theory of distributed systems and databases.  Subtopics of special\\ninterest include reliability and fault-tolerance in distributed systems,\\natomicity, distributed transactions, synchronization algorithms, \\nresource allocation; lower bounds and models for asynchronous parallel\\nsystems.  Also theory of communicating processes and protocols.   '), ('42', '\\n Computer performance evaluation techniques using pattern recognition\\nand clustering.'), ('43', '\\n Analysis and perception of shape by humans and computers.  Shape\\ndescriptions, shape recognition by computer.  Two-dimensional shapes.\\nMeasures of circularity.  Shape matching.'), ('44', '\\n Texture analysis by computer.\\tDigitized texture analysis.  Texture\\nsynthesis. Perception of texture.'), ('45', '\\n The use of operations research models to optimize information system\\nperformance.  This includes fine tuning decisions such as secondary index\\nselection, file reorganization, and distributed databases.'), ('46', '\\n The application of fuzzy subset theory to clustering and information\\nretrieval problems.  This includes performance evaluation and automatic\\nindexing considerations.'), ('47', '\\n The use of Bayesian decision models to optimize information retrieval\\nsystem performance.  This includes stopping rules to determine when a\\nuser should cease scanning the output of a retrieval search.'), ('48', '\\n The use of computer science principles (e.g. data structures, \\nnumerical methods) in generating optimization (e.g. linear programming)\\nalgorithms.  This includes issues of the Khachian (Russian, ellipsoidal)\\nalgorithm and complexity of such algorithms.'), ('49', '\\n The role of information retrieval in knowledge based systems\\n(i.e., expert systems).'), ('50', '\\n Parallel processors in information retrieval'), ('51', '\\n Parallel processors and paging algorithms'), ('52', '\\n Modelling and simulation in agricultural ecosystems.'), ('53', '\\n mathematical induction, group theory, integers modulo m,\\nprobability, binomial coefficients, binomial theorem, homomorphism,\\nmorphism, transitivity, relations, relation matrix.'), ('54', '\\n Semantics of programming languages, including abstract specifications\\nof data types, denotational semantics, and proofs of correctness.'), ('55', '\\n Anything dealing with star height of regular languages or regular\\nexpressions or regular events.'), ('56', '\\n Articles relation the algebraic theory of semigroups and monoids\\nto the study of automata and regular languages.'), ('57', '\\n Abstracts of articles:\\n    J. Backus, \"Can programming be liberated from the Von Neumann style?\\n               A functional style and its algebra of programs\", CACM 21\\n               (1978), 613-641.\\n    R.A.De Millo, R.J. Lipton, A.J. Perlis, letter to ACM Forum, CACM 22\\n\\t       (1979), 629-630'), ('58', \"\\n Algorithms or statistical packages for ANOVA, regression using least\\nsquares or generalized linear models.  System design, capabilities,\\nstatistical formula are of interest.  Student's t test, Wilcoxon and\\nsign tests, multivariate and univariate components can be included.\"), ('59', '\\n Dictionary construction and accessing methods for fast retrieval\\nof words or lexical items or morphologically related information.\\nHashing or indexing methods are usually applied to English spelling or\\nnatural language problems.'), ('60', '\\n Hardware and software relating to database management systems.\\nDatabase packages, back end computers, special associative hardware\\nwith microcomputers attached to disk heads or things like RAP, \\nrelational or network (CODASYL) or hierarchical models, systems\\nlike SYSTEM R, IMS, ADABAS, TOTAL, etc.'), ('61', '\\n Information retrieval articles by Gerard Salton or others about clustering,\\nbibliographic coupling, use of citations or co-citations, the vector\\nspace model, Boolean search methods using inverted files, feedback, etc.'), ('62', \"\\n Results relating parallel complexity theory (both for PRAM's and\\nuniform circuits).\"), ('63', '\\n Algorithms for parallel computation, and especially comparisons\\nbetween parallel and sequential algorithms.'), ('64', \"\\n List all articles on EL1 and ECL (EL1 may be given as EL/1; I don't\\nremember how they did it.\")]\n"
     ]
    }
   ],
   "source": [
    "##### Function check\n",
    "queries = read_queries()\n",
    "\n",
    "assert isinstance(queries, list)\n",
    "assert len(queries) == 64 and all([q[1] is not None for q in queries]), \"There should be exactly 64 queries\"\n",
    "##### "
   ]
  },
  {
   "cell_type": "markdown",
   "metadata": {
    "deletable": false,
    "editable": false,
    "id": "7PZ1YsjO4IWa",
    "nbgrader": {
     "cell_type": "markdown",
     "checksum": "652f9159caea63888e06b54103bd7f32",
     "grade": false,
     "grade_id": "cell-1c31569491d7b782",
     "locked": true,
     "schema_version": 3,
     "solution": false,
     "task": false
    }
   },
   "source": [
    "---\n",
    "### 1.3 Read the stop words (1 point)\n",
    "\n",
    "We use the common words stored in `common_words`:"
   ]
  },
  {
   "cell_type": "code",
   "execution_count": 45,
   "metadata": {
    "ExecuteTime": {
     "end_time": "2021-02-19T10:38:35.874310Z",
     "start_time": "2021-02-19T10:38:35.833382Z"
    },
    "colab": {
     "base_uri": "https://localhost:8080/"
    },
    "deletable": false,
    "editable": false,
    "id": "3eIEzeOd4IWa",
    "nbgrader": {
     "cell_type": "code",
     "checksum": "1ad6f5bae6a792504c1c8513ae5751ad",
     "grade": false,
     "grade_id": "cell-34bdb63461418a96",
     "locked": true,
     "schema_version": 3,
     "solution": false,
     "task": false
    },
    "outputId": "4b9a90c7-f76e-41fa-cf60-f87c74f6061f"
   },
   "outputs": [
    {
     "output_type": "stream",
     "name": "stderr",
     "text": [
      "'head' is not recognized as an internal or external command,\noperable program or batch file.\n"
     ]
    }
   ],
   "source": [
    "##### Read the stop words file \n",
    "!head ./datasets/common_words\n",
    "##### Read the README file "
   ]
  },
  {
   "cell_type": "markdown",
   "metadata": {
    "deletable": false,
    "editable": false,
    "id": "yS-QJ59W4IWa",
    "nbgrader": {
     "cell_type": "markdown",
     "checksum": "f720edbacd79170351156a443e0018ff",
     "grade": false,
     "grade_id": "cell-4744bde0338895d8",
     "locked": true,
     "schema_version": 3,
     "solution": false,
     "task": false
    }
   },
   "source": [
    "---\n",
    "**Implementation (1 point):**\n",
    "Write a function to read the `common_words` file (For better coverage, try to keep them in lowercase):"
   ]
  },
  {
   "cell_type": "code",
   "execution_count": 46,
   "metadata": {
    "ExecuteTime": {
     "end_time": "2021-02-19T10:38:35.879294Z",
     "start_time": "2021-02-19T10:38:35.875270Z"
    },
    "deletable": false,
    "id": "lgwbY-mG4IWb",
    "nbgrader": {
     "cell_type": "code",
     "checksum": "e6a9e9bb3ad0f8dc2ec3c497a3149092",
     "grade": false,
     "grade_id": "cell-7357aa40f64e5bcb",
     "locked": false,
     "schema_version": 3,
     "solution": true,
     "task": false
    }
   },
   "outputs": [],
   "source": [
    "# TODO: Implement this! (1 point)\n",
    "def load_stopwords(root_folder = \"./datasets/\"):\n",
    "    \"\"\"\n",
    "        Loads the stopwords. The dataset is assumed to be in the folder \"./datasets/\" by default\n",
    "        Output: A set of stopwords\n",
    "    \"\"\"\n",
    "    # YOUR CODE HERE\n",
    "    with open(os.path.join(root_folder, \"common_words\"), 'r+') as f:\n",
    "        words = set(f.readlines())\n",
    "        \n",
    "    \n",
    "    return words"
   ]
  },
  {
   "cell_type": "code",
   "execution_count": 47,
   "metadata": {
    "ExecuteTime": {
     "end_time": "2021-02-19T10:38:35.883286Z",
     "start_time": "2021-02-19T10:38:35.880255Z"
    },
    "colab": {
     "base_uri": "https://localhost:8080/",
     "height": 316
    },
    "deletable": false,
    "editable": false,
    "id": "H_RpcrQ84IWb",
    "nbgrader": {
     "cell_type": "code",
     "checksum": "9211b9735b828d89d1a51d8743c448b4",
     "grade": true,
     "grade_id": "cell-2ca3ac162004de97",
     "locked": true,
     "points": 1,
     "schema_version": 3,
     "solution": false,
     "task": false
    },
    "outputId": "ac1d355d-212f-4b8a-deda-f4058a3716b2"
   },
   "outputs": [],
   "source": [
    "##### Function check\n",
    "stopwords = load_stopwords()\n",
    "\n",
    "assert isinstance(stopwords, set)\n",
    "assert len(stopwords) == 428, \"There should be exactly 428 stop words\"\n",
    "##### "
   ]
  },
  {
   "cell_type": "markdown",
   "metadata": {
    "deletable": false,
    "editable": false,
    "id": "OKFMtm3T4IWb",
    "nbgrader": {
     "cell_type": "markdown",
     "checksum": "fc7e419f35dfd3f507d8a7555ce2cde9",
     "grade": false,
     "grade_id": "cell-134b72872f4300cb",
     "locked": true,
     "schema_version": 3,
     "solution": false,
     "task": false
    }
   },
   "source": [
    "---\n",
    "### 1.4 Tokenization (4 points)\n",
    "\n",
    "We can now write some basic text processing functions. \n",
    "A first step is to tokenize the text. \n",
    "\n",
    "**Note**: Use the  `WordPunctTokenizer` available in the `nltk` library:"
   ]
  },
  {
   "cell_type": "code",
   "execution_count": 48,
   "metadata": {
    "ExecuteTime": {
     "end_time": "2021-02-19T10:38:35.887275Z",
     "start_time": "2021-02-19T10:38:35.884246Z"
    },
    "deletable": false,
    "id": "OWakwkEw4IWb",
    "nbgrader": {
     "cell_type": "code",
     "checksum": "3f5564d3c75bf22fbf832b3a9b938f37",
     "grade": false,
     "grade_id": "cell-322be4c9499bdc4b",
     "locked": false,
     "schema_version": 3,
     "solution": true,
     "task": false
    }
   },
   "outputs": [],
   "source": [
    "# TODO: Implement this! (4 points)\n",
    "def tokenize(text):\n",
    "    \"\"\"\n",
    "        Tokenizes the input text. Use the WordPunctTokenizer\n",
    "        Input: text - a string\n",
    "        Output: a list of tokens\n",
    "    \"\"\"\n",
    "    # YOUR CODE HERE\n",
    "    return nltk.tokenize.WordPunctTokenizer().tokenize(text)\n",
    "    "
   ]
  },
  {
   "cell_type": "code",
   "execution_count": 49,
   "metadata": {
    "ExecuteTime": {
     "end_time": "2021-02-19T10:38:35.892224Z",
     "start_time": "2021-02-19T10:38:35.888236Z"
    },
    "deletable": false,
    "editable": false,
    "id": "Mk4dGvkP4IWc",
    "nbgrader": {
     "cell_type": "code",
     "checksum": "f60b93aa03bf9eced64940252eb33fe3",
     "grade": true,
     "grade_id": "cell-7fbf48bf7541a622",
     "locked": true,
     "points": 4,
     "schema_version": 3,
     "solution": false,
     "task": false
    }
   },
   "outputs": [
    {
     "output_type": "stream",
     "name": "stdout",
     "text": [
      "['the', 'quick', 'brown', 'fox', 'jumps', 'over', 'the', 'lazy', 'dog']\n"
     ]
    }
   ],
   "source": [
    "##### Function check\n",
    "text = \"the quick brown fox jumps over the lazy dog\"\n",
    "tokens = tokenize(text)\n",
    "\n",
    "assert isinstance(tokens, list)\n",
    "assert len(tokens) == 9\n",
    "\n",
    "print(tokens)\n",
    "# output: ['the', 'quick', 'brown', 'fox', 'jumps', 'over', 'the', 'lazy', 'dog']\n",
    "#####"
   ]
  },
  {
   "cell_type": "markdown",
   "metadata": {
    "deletable": false,
    "editable": false,
    "id": "PEw9RAKO4IWc",
    "nbgrader": {
     "cell_type": "markdown",
     "checksum": "1b1cc868db22735e5e193bc64ff67877",
     "grade": false,
     "grade_id": "cell-fd1b98ae61b697ca",
     "locked": true,
     "schema_version": 3,
     "solution": false,
     "task": false
    }
   },
   "source": [
    "---\n",
    "### 1.5 Stemming (3 points)\n",
    "\n",
    "Write a function to stem tokens. \n",
    "Again, you can use the nltk library for this:"
   ]
  },
  {
   "cell_type": "code",
   "execution_count": 50,
   "metadata": {
    "ExecuteTime": {
     "end_time": "2021-02-19T10:38:35.897221Z",
     "start_time": "2021-02-19T10:38:35.893222Z"
    },
    "deletable": false,
    "id": "ViYt0smN4IWc",
    "nbgrader": {
     "cell_type": "code",
     "checksum": "1c4a6aa979d66158c7b6b992af43293a",
     "grade": false,
     "grade_id": "cell-e3f6c8e3f874b28d",
     "locked": false,
     "schema_version": 3,
     "solution": true,
     "task": false
    }
   },
   "outputs": [],
   "source": [
    "# TODO: Implement this! (3 points)\n",
    "def stem_token(token):\n",
    "    \"\"\"\n",
    "        Stems the given token using the PorterStemmer from the nltk library\n",
    "        Input: a single token\n",
    "        Output: the stem of the token\n",
    "    \"\"\"\n",
    "    ps = nltk.stem.PorterStemmer()\n",
    "    return ps.stem(token)\n"
   ]
  },
  {
   "cell_type": "code",
   "execution_count": 51,
   "metadata": {
    "ExecuteTime": {
     "end_time": "2021-02-19T10:38:35.904192Z",
     "start_time": "2021-02-19T10:38:35.899206Z"
    },
    "deletable": false,
    "editable": false,
    "id": "-qSBNMns4IWd",
    "nbgrader": {
     "cell_type": "code",
     "checksum": "cd2611a46e7c2e92af438d7166cf2616",
     "grade": true,
     "grade_id": "cell-cd6863e6ee6ed205",
     "locked": true,
     "points": 3,
     "schema_version": 3,
     "solution": false,
     "task": false
    }
   },
   "outputs": [],
   "source": [
    "##### Function check\n",
    "assert stem_token('owned') == 'own'\n",
    "assert stem_token('itemization') == 'item'\n",
    "#####"
   ]
  },
  {
   "cell_type": "markdown",
   "metadata": {
    "deletable": false,
    "editable": false,
    "id": "M10Gq1wo4IWd",
    "nbgrader": {
     "cell_type": "markdown",
     "checksum": "5fcc93f08a6abcaffd5bd9475e4768e5",
     "grade": false,
     "grade_id": "cell-47c9f90498699110",
     "locked": true,
     "schema_version": 3,
     "solution": false,
     "task": false
    }
   },
   "source": [
    "---\n",
    "### 1.6 Summary\n",
    "\n",
    "The following function puts it all together. Given a string, it tokenizes it and processes it according to the flags that you set."
   ]
  },
  {
   "cell_type": "code",
   "execution_count": 52,
   "metadata": {
    "ExecuteTime": {
     "end_time": "2021-02-19T10:38:35.909178Z",
     "start_time": "2021-02-19T10:38:35.905189Z"
    },
    "deletable": false,
    "editable": false,
    "id": "Y9P9q9074IWd",
    "nbgrader": {
     "cell_type": "code",
     "checksum": "2ff2d215ee8e0039c5a91fd3de12e6bd",
     "grade": false,
     "grade_id": "cell-dd0d3f46b30801da",
     "locked": true,
     "schema_version": 3,
     "solution": false,
     "task": false
    }
   },
   "outputs": [],
   "source": [
    "#### Putting it all together\n",
    "def process_text(text, stem=False, remove_stopwords=False, lowercase_text=False):\n",
    "    \n",
    "    tokens = []\n",
    "    for token in tokenize(text):\n",
    "        if remove_stopwords and token.lower() in stopwords:\n",
    "            continue\n",
    "        if stem:\n",
    "            token = stem_token(token)\n",
    "        if lowercase_text:\n",
    "            token = token.lower()\n",
    "        tokens.append(token)\n",
    "\n",
    "    return tokens\n",
    "#### "
   ]
  },
  {
   "cell_type": "markdown",
   "metadata": {
    "deletable": false,
    "editable": false,
    "id": "3ZprLpXX4IWd",
    "nbgrader": {
     "cell_type": "markdown",
     "checksum": "02d433b18eb43654fa4306a7bf55b190",
     "grade": false,
     "grade_id": "cell-8d885bfd2edd43ae",
     "locked": true,
     "schema_version": 3,
     "solution": false,
     "task": false
    }
   },
   "source": [
    "---\n",
    "\n",
    "Let's create two sets of preprocessed documents.\n",
    "We can process the documents and queries according to these two configurations:"
   ]
  },
  {
   "cell_type": "code",
   "execution_count": 53,
   "metadata": {
    "ExecuteTime": {
     "end_time": "2021-02-19T10:38:39.106652Z",
     "start_time": "2021-02-19T10:38:35.910176Z"
    },
    "deletable": false,
    "editable": false,
    "id": "zSAhYQo84IWd",
    "nbgrader": {
     "cell_type": "code",
     "checksum": "dbe4ca667be6842fdcf512fbcad50c7f",
     "grade": false,
     "grade_id": "cell-d427365ee0fb21d8",
     "locked": true,
     "schema_version": 3,
     "solution": false,
     "task": false
    }
   },
   "outputs": [],
   "source": [
    "# In this configuration:\n",
    "# Don't preprocess the text, except to tokenize \n",
    "config_1 = {\n",
    "  \"stem\": False,\n",
    "  \"remove_stopwords\" : False,\n",
    "  \"lowercase_text\": True\n",
    "} \n",
    "\n",
    "\n",
    "# In this configuration:\n",
    "# Preprocess the text, stem and remove stopwords\n",
    "config_2 = {\n",
    "  \"stem\": True,\n",
    "  \"remove_stopwords\" : True,\n",
    "  \"lowercase_text\": True, \n",
    "} \n",
    "\n",
    "####\n",
    "doc_repr_1 = []\n",
    "doc_repr_2 = []\n",
    "for (doc_id, document) in docs:\n",
    "    doc_repr_1.append((doc_id, process_text(document, **config_1)))\n",
    "    doc_repr_2.append((doc_id, process_text(document, **config_2)))\n",
    "\n",
    "####"
   ]
  },
  {
   "cell_type": "markdown",
   "metadata": {
    "deletable": false,
    "editable": false,
    "id": "ARVTcJrC4IWe",
    "nbgrader": {
     "cell_type": "markdown",
     "checksum": "b60589aac19e80941d860d9b3f1e9a16",
     "grade": false,
     "grade_id": "cell-b1c102db61ae7495",
     "locked": true,
     "schema_version": 3,
     "solution": false,
     "task": false
    }
   },
   "source": [
    "--- \n",
    "\n",
    "## Section 2: Indexing (10 points)<a class=\"anchor\" id=\"indexing\"></a>\n",
    "\n",
    "[Back to Part 1](#part1)\n",
    "\n",
    "\n",
    "\n",
    "A retrieval function usually takes in a query document pair, and scores a query against a document.  Our document set is quite small - just a few thousand documents. However, consider a web-scale dataset with a few million documents. In such a scenario, it would become infeasible to score every query and document pair. In such a case, we can build an inverted index. From Wikipedia:\n",
    "\n",
    "> ... , an inverted index (also referred to as a postings file or inverted file) is a database index storing a mapping from content, such as words or numbers, to its locations in a table, .... The purpose of an inverted index is to allow fast full-text searches, at a cost of increased processing when a document is added to the database. ...\n",
    "\n",
    "\n",
    "Consider a simple inverted index, which maps from word to document. This can improve the performance of a retrieval system significantly. In this assignment, we consider a *simple* inverted index, which maps a word to a set of documents. In practice, however, more complex indices might be used.  \n"
   ]
  },
  {
   "cell_type": "markdown",
   "metadata": {
    "deletable": false,
    "editable": false,
    "id": "pu4nDAJQ4IWe",
    "nbgrader": {
     "cell_type": "markdown",
     "checksum": "710fd943f45523ac36fcb887cc0d4d39",
     "grade": false,
     "grade_id": "cell-fa373192c1b7bb95",
     "locked": true,
     "schema_version": 3,
     "solution": false,
     "task": false
    }
   },
   "source": [
    "### 2.1 Term Frequency-index (10 points)\n",
    "In this assignment, we will be using an index created in memory since our dataset is tiny. To get started, build a simple index that maps each `token` to a list of `(doc_id, count)` where `count` is the count of the `token` in `doc_id`.\n",
    "For consistency, build this index using a python dictionary.\n",
    "    \n",
    "Now, implement a function to build an index:"
   ]
  },
  {
   "cell_type": "code",
   "execution_count": 54,
   "metadata": {
    "ExecuteTime": {
     "end_time": "2021-02-19T10:38:39.112283Z",
     "start_time": "2021-02-19T10:38:39.108316Z"
    },
    "deletable": false,
    "id": "oILPNIpe4IWe",
    "nbgrader": {
     "cell_type": "code",
     "checksum": "c281c45196493b87e45e1b3fb4ddd6c9",
     "grade": false,
     "grade_id": "cell-077599b87e953209",
     "locked": false,
     "schema_version": 3,
     "solution": true,
     "task": false
    }
   },
   "outputs": [],
   "source": [
    "# TODO: Implement this! (10 points)\n",
    "def build_tf_index(documents):\n",
    "    \"\"\"\n",
    "        Build an inverted index (with counts). The output is a dictionary which takes in a token\n",
    "        and returns a list of (doc_id, count) where 'count' is the count of the 'token' in 'doc_id'\n",
    "        Input: a list of documents - (doc_id, tokens) \n",
    "        Output: An inverted index. [token] -> [(doc_id, token_count)]\n",
    "    \"\"\"\n",
    "    # YOUR CODE HERE\n",
    "    inverted_index = {}\n",
    "    for (doc_id, words) in documents:\n",
    "        word_occurences = Counter(words)        \n",
    "        for word in word_occurences:\n",
    "            token_count = word_occurences[word]\n",
    "            if word not in inverted_index:\n",
    "                inverted_index[word] = [(doc_id,token_count)]\n",
    "            else:\n",
    "                inverted_index[word].append((doc_id, token_count))\n",
    "\n",
    "    return inverted_index"
   ]
  },
  {
   "cell_type": "markdown",
   "metadata": {
    "deletable": false,
    "editable": false,
    "id": "Ydx63-0M4IWe",
    "nbgrader": {
     "cell_type": "markdown",
     "checksum": "15e7041b4323d2a290322de538ff7670",
     "grade": false,
     "grade_id": "cell-093aebfa504f96f2",
     "locked": true,
     "schema_version": 3,
     "solution": false,
     "task": false
    }
   },
   "source": [
    "---\n",
    "Now we can build indexed documents and preprocess the queries based on the two configurations:"
   ]
  },
  {
   "cell_type": "code",
   "execution_count": 55,
   "metadata": {
    "ExecuteTime": {
     "end_time": "2021-02-19T10:38:39.267655Z",
     "start_time": "2021-02-19T10:38:39.113279Z"
    },
    "deletable": false,
    "editable": false,
    "id": "uPguIGwp4IWe",
    "nbgrader": {
     "cell_type": "code",
     "checksum": "e27540c1d8d77a3779a05f557f3f40c6",
     "grade": false,
     "grade_id": "cell-b2ff1676348b90a8",
     "locked": true,
     "schema_version": 3,
     "solution": false,
     "task": false
    },
    "tags": []
   },
   "outputs": [],
   "source": [
    "#### Indexed documents based on the two configs\n",
    "\n",
    "# Create the 2 indices\n",
    "tf_index_1 = build_tf_index(doc_repr_1)\n",
    "tf_index_2 = build_tf_index(doc_repr_2)\n",
    "\n",
    "# This function returns the tf_index of the corresponding config\n",
    "def get_index(index_set):\n",
    "    assert index_set in {1, 2}\n",
    "    return {\n",
    "        1: tf_index_1,\n",
    "        2: tf_index_2\n",
    "    }[index_set]\n",
    "\n",
    "####\n",
    "#### Preprocessed query based on the two configs\n",
    "\n",
    "# This function preprocesses the text given the index set, according to the specified config\n",
    "def preprocess_query(text, index_set):\n",
    "    assert index_set in {1, 2}\n",
    "    if index_set == 1:\n",
    "        return process_text(text, **config_1)\n",
    "    elif index_set == 2:\n",
    "        return process_text(text, **config_2)\n",
    "\n",
    "#### "
   ]
  },
  {
   "cell_type": "code",
   "execution_count": 56,
   "metadata": {
    "ExecuteTime": {
     "end_time": "2021-02-19T10:38:39.272513Z",
     "start_time": "2021-02-19T10:38:39.268522Z"
    },
    "deletable": false,
    "editable": false,
    "id": "XgY38oQB4IWe",
    "nbgrader": {
     "cell_type": "code",
     "checksum": "2c50e4b4c68261ff1184277bcf3c38d8",
     "grade": true,
     "grade_id": "cell-fc7c7232d5d2ee46",
     "locked": true,
     "points": 5,
     "schema_version": 3,
     "solution": false,
     "task": false
    }
   },
   "outputs": [
    {
     "output_type": "stream",
     "name": "stdout",
     "text": [
      "[('4', 1), ('7', 1), ('10', 1), ('13', 1), ('19', 1), ('22', 1), ('23', 1), ('37', 1), ('40', 3), ('41', 1)]\n"
     ]
    }
   ],
   "source": [
    "##### Function check\n",
    "\n",
    "print(tf_index_1['computer'][:10])\n",
    "#### "
   ]
  },
  {
   "cell_type": "code",
   "execution_count": 57,
   "metadata": {
    "ExecuteTime": {
     "end_time": "2021-02-19T10:38:39.282487Z",
     "start_time": "2021-02-19T10:38:39.273511Z"
    },
    "deletable": false,
    "editable": false,
    "id": "IaQl12X74IWe",
    "nbgrader": {
     "cell_type": "code",
     "checksum": "02de27463e2a393f46278d6fe3160481",
     "grade": true,
     "grade_id": "cell-ff06bd11204db250",
     "locked": true,
     "points": 5,
     "schema_version": 3,
     "solution": false,
     "task": false
    }
   },
   "outputs": [
    {
     "output_type": "stream",
     "name": "stdout",
     "text": [
      "[('670', 1), ('675', 1), ('1621', 3), ('1681', 1), ('2145', 1), ('2339', 1), ('2572', 1), ('2583', 1), ('2739', 1), ('3012', 1)]\n"
     ]
    }
   ],
   "source": [
    "##### Function check\n",
    "\n",
    "print(tf_index_2['computer'][:10]) \n",
    "#### "
   ]
  },
  {
   "cell_type": "markdown",
   "metadata": {
    "deletable": false,
    "editable": false,
    "id": "D3EIl_rY4IWf",
    "nbgrader": {
     "cell_type": "markdown",
     "checksum": "982112dca3f9a75e871bea74fe1adab4",
     "grade": false,
     "grade_id": "cell-89eba71f04310291",
     "locked": true,
     "schema_version": 3,
     "solution": false,
     "task": false
    }
   },
   "source": [
    "\n",
    "---\n",
    "## Section 3: Ranking  (80 points) <a class=\"anchor\" id=\"ranking\"></a>\n",
    "\n",
    "[Back to Part 1](#part1)\n",
    "\n",
    "Now that we have cleaned and processed our dataset, we can start building simple IR systems. \n",
    "\n",
    "For now, we consider *simple* IR systems, which involve computing scores from the tokens present in the document/query. More advanced methods are covered in later assignments.\n",
    "\n",
    "We will implement the following methods in this section:\n",
    "- [Section 3.1: Bag of Words](#bow) (10 points)\n",
    "- [Section 3.2: TF-IDF](#tfidf) (15 points)\n",
    "- [Section 3.3: Query Likelihood Model](#qlm) (35 points)\n",
    "- [Section 3.4: BM25](#bm25) (20 points)\n",
    "\n",
    "**Scoring policy:**\n",
    "Your implementations in this section are scored based on the expected performance of your ranking functions.\n",
    "You will get a full mark if your implementation meets the expected performance (measured by some evaluation metric).\n",
    "Otherwise, you may get partial credit.\n",
    "For example, if your *Bag of words* ranking function has 60% of expected performance, you will get 4 out of 10."
   ]
  },
  {
   "cell_type": "markdown",
   "metadata": {
    "deletable": false,
    "editable": false,
    "id": "43wdjFkt4IWf",
    "nbgrader": {
     "cell_type": "markdown",
     "checksum": "97c13d2e2cad60df4a70dcb61ea7c30e",
     "grade": false,
     "grade_id": "cell-3daf70a60e393adf",
     "locked": true,
     "schema_version": 3,
     "solution": false,
     "task": false
    }
   },
   "source": [
    "--- \n",
    "\n",
    "### Section 3.1: Bag of Words (10 points)<a class=\"anchor\" id=\"bow\"></a>\n",
    "\n",
    "Probably the simplest IR model is the Bag of Words (BOW) model.\n",
    "Implement a function that scores and ranks all the documents against a query using this model.   \n",
    "\n",
    "Note that you can use either the count of the token or 'binarize' it i.e set the value equal to 1 if the token appears.   \n"
   ]
  },
  {
   "cell_type": "code",
   "execution_count": 58,
   "metadata": {
    "ExecuteTime": {
     "end_time": "2021-02-19T10:38:39.290466Z",
     "start_time": "2021-02-19T10:38:39.285479Z"
    },
    "deletable": false,
    "id": "YdfD8mWa4IWf",
    "nbgrader": {
     "cell_type": "code",
     "checksum": "1178c8a8908b0e4dc07add7aa49b7fde",
     "grade": false,
     "grade_id": "cell-de9cf0459c4b9324",
     "locked": false,
     "schema_version": 3,
     "solution": true,
     "task": false
    }
   },
   "outputs": [],
   "source": [
    "# TODO: Implement this! (10 points)\n",
    "def bow_search(query, index_set):\n",
    "    \"\"\"\n",
    "        Perform a search over all documents with the given query. \n",
    "        Note: You have to use the `get_index` function created in the previous cells\n",
    "        Input: \n",
    "            query - a (unprocessed) query\n",
    "            index_set - the index to use\n",
    "        Output: a list of (document_id, score), sorted in descending relevance to the given query \n",
    "    \"\"\"\n",
    "    index = get_index(index_set)\n",
    "    processed_query = preprocess_query(query, index_set)\n",
    "    \n",
    "    # YOUR CODE HERE\n",
    "    doc_scores = {}\n",
    "    for query_word in processed_query:\n",
    "        if query_word in index:\n",
    "            word_occurences = index[query_word] \n",
    "            for (doc_id, counts) in word_occurences:\n",
    "                if doc_id not in doc_scores:\n",
    "                    doc_scores[doc_id] = 1\n",
    "                else:\n",
    "                    doc_scores[doc_id] += 1\n",
    "    \n",
    "    sorted_scores = [(k, float(v)) for k, v in sorted(doc_scores.items(), key=lambda item:item[1], reverse=True)]\n",
    "\n",
    "    return sorted_scores"
   ]
  },
  {
   "cell_type": "code",
   "execution_count": 59,
   "metadata": {
    "ExecuteTime": {
     "end_time": "2021-02-19T10:38:39.297448Z",
     "start_time": "2021-02-19T10:38:39.292461Z"
    },
    "deletable": false,
    "editable": false,
    "id": "YAeh2kuY4IWf",
    "nbgrader": {
     "cell_type": "code",
     "checksum": "644d6d33cf5075c6d9878d4fe24c6213",
     "grade": true,
     "grade_id": "cell-9f6aceae6dd9125f",
     "locked": true,
     "points": 2,
     "schema_version": 3,
     "solution": false,
     "task": false
    }
   },
   "outputs": [
    {
     "output_type": "stream",
     "name": "stdout",
     "text": [
      "BOW Results:\nRank 0(1.0): Preliminary Report-International Algebraic Languag...\nRank 1(1.0): ALGOL Sub-Committee Report - Extensions...\nRank 2(1.0): The Use of Computers in Engineering Classroom Inst...\nRank 3(1.0): Report on a Conference of University Computing Cen...\nRank 4(1.0): Report on the Algorithmic Language ALGOL 60...\n"
     ]
    }
   ],
   "source": [
    "#### Function check\n",
    "\n",
    "docs_by_id = dict(docs)\n",
    "def print_results(docs, len_limit=50):    \n",
    "    for i, (doc_id, score) in enumerate(docs):\n",
    "        doc_content = docs_by_id[doc_id].strip().replace(\"\\n\", \"\\\\n\")[:len_limit] + \"...\"\n",
    "        print(f\"Rank {i}({score:.2}): {doc_content}\")\n",
    "\n",
    "test_bow = bow_search(\"report\", index_set=1)[:5]\n",
    "print(f\"BOW Results:\")\n",
    "print_results(test_bow)\n",
    "#### "
   ]
  },
  {
   "cell_type": "code",
   "execution_count": 60,
   "metadata": {
    "ExecuteTime": {
     "end_time": "2021-02-19T10:38:39.301437Z",
     "start_time": "2021-02-19T10:38:39.298444Z"
    },
    "deletable": false,
    "editable": false,
    "id": "VxcFb-PS4IWf",
    "nbgrader": {
     "cell_type": "code",
     "checksum": "8d54c91b913d7a54b25f3358c969fa45",
     "grade": true,
     "grade_id": "cell-4eed3abf233d9b58",
     "locked": true,
     "points": 2,
     "schema_version": 3,
     "solution": false,
     "task": false
    }
   },
   "outputs": [],
   "source": [
    "#### Please do not change this. This cell is used for grading."
   ]
  },
  {
   "cell_type": "code",
   "execution_count": 61,
   "metadata": {
    "ExecuteTime": {
     "end_time": "2021-02-19T10:38:39.305426Z",
     "start_time": "2021-02-19T10:38:39.302433Z"
    },
    "deletable": false,
    "editable": false,
    "id": "2Q52Hizy4IWf",
    "nbgrader": {
     "cell_type": "code",
     "checksum": "58bcc16d36dc079b7f41f9572423c62b",
     "grade": true,
     "grade_id": "cell-4d65a2d7090c466c",
     "locked": true,
     "points": 3,
     "schema_version": 3,
     "solution": false,
     "task": false
    }
   },
   "outputs": [],
   "source": [
    "#### Please do not change this. This cell is used for grading."
   ]
  },
  {
   "cell_type": "code",
   "execution_count": 62,
   "metadata": {
    "ExecuteTime": {
     "end_time": "2021-02-19T10:38:39.309426Z",
     "start_time": "2021-02-19T10:38:39.307421Z"
    },
    "deletable": false,
    "editable": false,
    "id": "_EV8Ezcu4IWg",
    "nbgrader": {
     "cell_type": "code",
     "checksum": "65e4561970c4eba3e5ce43b142f858af",
     "grade": true,
     "grade_id": "cell-dedf36ab5853ce20",
     "locked": true,
     "points": 3,
     "schema_version": 3,
     "solution": false,
     "task": false
    }
   },
   "outputs": [],
   "source": [
    "#### Please do not change this. This cell is used for grading."
   ]
  },
  {
   "cell_type": "markdown",
   "metadata": {
    "deletable": false,
    "editable": false,
    "id": "a6te4fbZ4IWg",
    "nbgrader": {
     "cell_type": "markdown",
     "checksum": "a5c2318004c5ce534b67c7a36bbc7c31",
     "grade": false,
     "grade_id": "cell-a5c09c79ac1f2871",
     "locked": true,
     "schema_version": 3,
     "solution": false,
     "task": false
    }
   },
   "source": [
    "\n",
    "---\n",
    "\n",
    "### Section 3.2: TF-IDF (15 points) <a class=\"anchor\" id=\"tfidf\"></a>\n",
    "\n",
    "Before we implement the tf-idf scoring functions, let's first write a function to compute the document frequencies of all words.  \n",
    "\n",
    "#### 3.2.1 Document frequency (5 points)\n",
    "Compute the document frequencies of all tokens in the collection.  "
   ]
  },
  {
   "cell_type": "code",
   "execution_count": 63,
   "metadata": {
    "ExecuteTime": {
     "end_time": "2021-02-19T10:38:39.315400Z",
     "start_time": "2021-02-19T10:38:39.311412Z"
    },
    "deletable": false,
    "id": "JTO8ZA5t4IWg",
    "nbgrader": {
     "cell_type": "code",
     "checksum": "11cdde77378ded394d7922fe36bbc5d1",
     "grade": false,
     "grade_id": "cell-9a2369f32e864b8a",
     "locked": false,
     "schema_version": 3,
     "solution": true,
     "task": false
    }
   },
   "outputs": [],
   "source": [
    "# TODO: Implement this! (5 points)\n",
    "def compute_df(documents):\n",
    "    \"\"\"\n",
    "        Compute the document frequency of all terms in the vocabulary\n",
    "        Input: A list of documents\n",
    "        Output: A dictionary with {token: document frequency)\n",
    "    \"\"\"\n",
    "    # YOUR CODE HERE\n",
    "    merge_list = []\n",
    "    for doc in documents:\n",
    "        merge_list.extend(set(doc))\n",
    "    dict_ = Counter(merge_list)\n",
    "    \n",
    "    return dict_ \n"
   ]
  },
  {
   "cell_type": "code",
   "execution_count": 64,
   "metadata": {
    "ExecuteTime": {
     "end_time": "2021-02-19T10:38:39.368293Z",
     "start_time": "2021-02-19T10:38:39.316397Z"
    },
    "deletable": false,
    "editable": false,
    "id": "pWi3HvTH4IWg",
    "nbgrader": {
     "cell_type": "code",
     "checksum": "154985511d7925c5793a1f97dea81880",
     "grade": false,
     "grade_id": "cell-4c3bddd0b73ac90e",
     "locked": true,
     "schema_version": 3,
     "solution": false,
     "task": false
    },
    "tags": []
   },
   "outputs": [],
   "source": [
    "#### Compute df based on the two configs\n",
    "\n",
    "# get the document frequencies of each document\n",
    "df_1 = compute_df([d[1] for d in doc_repr_1])\n",
    "df_2 = compute_df([d[1] for d in doc_repr_2])\n",
    "\n",
    "def get_df(index_set):\n",
    "    assert index_set in {1, 2}\n",
    "    return {\n",
    "        1: df_1,\n",
    "        2: df_2\n",
    "    }[index_set]\n",
    "####"
   ]
  },
  {
   "cell_type": "code",
   "execution_count": 65,
   "metadata": {
    "ExecuteTime": {
     "end_time": "2021-02-19T10:38:39.373265Z",
     "start_time": "2021-02-19T10:38:39.369255Z"
    },
    "deletable": false,
    "editable": false,
    "id": "5Y16YYM04IWg",
    "nbgrader": {
     "cell_type": "code",
     "checksum": "110cc180068cf3f77c682ee3de2a117c",
     "grade": true,
     "grade_id": "cell-79e8a6db1e5fc46f",
     "locked": true,
     "points": 5,
     "schema_version": 3,
     "solution": false,
     "task": false
    }
   },
   "outputs": [
    {
     "output_type": "stream",
     "name": "stdout",
     "text": [
      "597\n11\n"
     ]
    }
   ],
   "source": [
    "#### Function check\n",
    "\n",
    "print(df_1['computer'])\n",
    "print(df_2['computer'])\n",
    "####"
   ]
  },
  {
   "cell_type": "markdown",
   "metadata": {
    "deletable": false,
    "editable": false,
    "id": "X2fSm6OJ4IWg",
    "nbgrader": {
     "cell_type": "markdown",
     "checksum": "6646996a2d016ef86e7cedd2f79a29d1",
     "grade": false,
     "grade_id": "cell-52f6acc487e1b96d",
     "locked": true,
     "schema_version": 3,
     "solution": false,
     "task": false
    }
   },
   "source": [
    "---\n",
    "#### 3.2.2 TF-IDF search (10 points)\n",
    "Next, implement a function that computes a tf-idf score given a query.      "
   ]
  },
  {
   "cell_type": "code",
   "execution_count": 66,
   "metadata": {
    "ExecuteTime": {
     "end_time": "2021-02-19T10:38:39.380258Z",
     "start_time": "2021-02-19T10:38:39.374241Z"
    },
    "deletable": false,
    "id": "xxWNAcOB4IWg",
    "nbgrader": {
     "cell_type": "code",
     "checksum": "b33c859693d1b383bcb53acea340027f",
     "grade": false,
     "grade_id": "cell-2fb5ba34b2994cd9",
     "locked": false,
     "schema_version": 3,
     "solution": true,
     "task": false
    },
    "tags": []
   },
   "outputs": [],
   "source": [
    "# TODO: Implement this! (10 points)\n",
    "def tfidf_search(query, index_set):\n",
    "    \"\"\"\n",
    "        Perform a search over all documents with the given query using tf-idf. \n",
    "        Note #1: You have to use the `get_index` (and the `get_df`) function created in the previous cells\n",
    "        Input: \n",
    "            query - a (unprocessed) query\n",
    "            index_set - the index to use\n",
    "        Output: a list of (document_id, score), sorted in descending relevance to the given query \n",
    "    \"\"\"\n",
    "    index = get_index(index_set)\n",
    "    df = get_df(index_set)\n",
    "    processed_query = preprocess_query(query, index_set)\n",
    "\n",
    "    if index_set == 1:\n",
    "        doc_repr = doc_repr_1\n",
    "    else:\n",
    "        doc_repr = doc_repr_2\n",
    "\n",
    "   \n",
    "    # YOUR CODE HERE\n",
    "    results = {}\n",
    "    length_of_docs = len(docs)\n",
    "    for token in processed_query:\n",
    "        if token in index:\n",
    "            idf = -math.log(df[token]/length_of_docs)\n",
    "            for (doc_id ,tf) in index[token]:\n",
    "                norm_tf = math.log(1 + tf)\n",
    "                if doc_id not in results:\n",
    "                    results[doc_id] = norm_tf * idf\n",
    "                else:\n",
    "                    results[doc_id] += norm_tf * idf\n",
    "    result_scores = [(k, v) for k, v in sorted(results.items(), key=lambda item:item[1], reverse=True)]\n",
    "    return result_scores"
   ]
  },
  {
   "cell_type": "code",
   "execution_count": 67,
   "metadata": {
    "ExecuteTime": {
     "end_time": "2021-02-19T10:38:39.386210Z",
     "start_time": "2021-02-19T10:38:39.382220Z"
    },
    "deletable": false,
    "editable": false,
    "id": "leBfCIu04IWh",
    "nbgrader": {
     "cell_type": "code",
     "checksum": "10b9fd39f3c9a9f3ca274c020ad79323",
     "grade": true,
     "grade_id": "cell-bc68aeeacf42beb3",
     "locked": true,
     "points": 2,
     "schema_version": 3,
     "solution": false,
     "task": false
    },
    "tags": []
   },
   "outputs": [
    {
     "output_type": "stream",
     "name": "stdout",
     "text": [
      "TFIDF Results:\nRank 0(7.6): An Information Algebra - Phase I Report-Language\\n...\nRank 1(7.6): Rejuvenating Experimental Computer Science\\nThis r...\nRank 2(5.4): ALGOL 60 Confidential\\nThe ALGOL 60 Report,* when ...\nRank 3(4.3): Automatic Abstracting and Indexing Survey and Reco...\nRank 4(4.3): A String Language for Symbol Manipulation Based on...\n"
     ]
    }
   ],
   "source": [
    "#### Function check\n",
    "test_tfidf = tfidf_search(\"report\", index_set=1)[:5]\n",
    "print(f\"TFIDF Results:\")\n",
    "print_results(test_tfidf)\n",
    "####"
   ]
  },
  {
   "cell_type": "code",
   "execution_count": 68,
   "metadata": {
    "ExecuteTime": {
     "end_time": "2021-02-19T10:38:39.391196Z",
     "start_time": "2021-02-19T10:38:39.387207Z"
    },
    "deletable": false,
    "editable": false,
    "id": "Npd3IiET4IWh",
    "nbgrader": {
     "cell_type": "code",
     "checksum": "03441f97df9db4996d0f260fcc974e9d",
     "grade": true,
     "grade_id": "cell-c7702fa8179fadb9",
     "locked": true,
     "points": 2,
     "schema_version": 3,
     "solution": false,
     "task": false
    }
   },
   "outputs": [],
   "source": [
    "#### Please do not change this. This cell is used for grading."
   ]
  },
  {
   "cell_type": "code",
   "execution_count": 69,
   "metadata": {
    "ExecuteTime": {
     "end_time": "2021-02-19T10:38:39.395186Z",
     "start_time": "2021-02-19T10:38:39.392193Z"
    },
    "deletable": false,
    "editable": false,
    "id": "wNuwNNBt4IWh",
    "nbgrader": {
     "cell_type": "code",
     "checksum": "7272cfcbb457a74d23bfec1f85d22d5f",
     "grade": true,
     "grade_id": "cell-3284f50ac29abbaa",
     "locked": true,
     "points": 3,
     "schema_version": 3,
     "solution": false,
     "task": false
    }
   },
   "outputs": [],
   "source": [
    "#### Please do not change this. This cell is used for grading."
   ]
  },
  {
   "cell_type": "code",
   "execution_count": 70,
   "metadata": {
    "ExecuteTime": {
     "end_time": "2021-02-19T10:38:39.399175Z",
     "start_time": "2021-02-19T10:38:39.396182Z"
    },
    "deletable": false,
    "editable": false,
    "id": "ZH-U34qc4IWh",
    "nbgrader": {
     "cell_type": "code",
     "checksum": "fcbcc867713612b90395d653db8fd5e3",
     "grade": true,
     "grade_id": "cell-d908c80a3155354b",
     "locked": true,
     "points": 3,
     "schema_version": 3,
     "solution": false,
     "task": false
    }
   },
   "outputs": [],
   "source": [
    "#### Please do not change this. This cell is used for grading."
   ]
  },
  {
   "cell_type": "markdown",
   "metadata": {
    "deletable": false,
    "editable": false,
    "id": "CF8mA1LD4IWh",
    "nbgrader": {
     "cell_type": "markdown",
     "checksum": "cdffc83f0eaea937cf64a212e7e9af8d",
     "grade": false,
     "grade_id": "cell-f5d923459ba21733",
     "locked": true,
     "schema_version": 3,
     "solution": false,
     "task": false
    }
   },
   "source": [
    "--- \n",
    "\n",
    "### Section 3.3: Query Likelihood Model (35 points) <a class=\"anchor\" id=\"qlm\"></a>\n",
    "\n",
    "In this section, you will implement a simple query likelihood model. \n",
    "\n",
    "\n",
    "#### 3.3.1 Naive QL (15 points)\n",
    "\n",
    "First, let us implement a naive version of a QL model, assuming a multinomial unigram language model (with a uniform prior over the documents). \n",
    "\n"
   ]
  },
  {
   "cell_type": "code",
   "execution_count": 71,
   "metadata": {
    "ExecuteTime": {
     "end_time": "2021-02-19T10:38:39.405198Z",
     "start_time": "2021-02-19T10:38:39.400171Z"
    },
    "deletable": false,
    "editable": false,
    "id": "5Z4AnsRm4IWh",
    "nbgrader": {
     "cell_type": "code",
     "checksum": "b7ae2b7d818b428b4638c1c9206d2aca",
     "grade": false,
     "grade_id": "cell-98505778f7b68e7f",
     "locked": true,
     "schema_version": 3,
     "solution": false,
     "task": false
    }
   },
   "outputs": [],
   "source": [
    "#### Document length for normalization\n",
    "\n",
    "def doc_lengths(documents):\n",
    "    doc_lengths = {doc_id:len(doc) for (doc_id, doc) in documents}\n",
    "    return doc_lengths\n",
    "\n",
    "doc_lengths_1 = doc_lengths(doc_repr_1)\n",
    "doc_lengths_2 = doc_lengths(doc_repr_2)\n",
    "\n",
    "def get_doc_lengths(index_set):\n",
    "    assert index_set in {1, 2}\n",
    "    return {\n",
    "        1: doc_lengths_1,\n",
    "        2: doc_lengths_2\n",
    "    }[index_set]\n",
    "####"
   ]
  },
  {
   "cell_type": "code",
   "execution_count": 72,
   "metadata": {
    "ExecuteTime": {
     "end_time": "2021-02-19T10:38:39.412140Z",
     "start_time": "2021-02-19T10:38:39.406157Z"
    },
    "deletable": false,
    "id": "-WXzO9tU4IWi",
    "nbgrader": {
     "cell_type": "code",
     "checksum": "cedd08303a914243fefdb6b876977ca1",
     "grade": false,
     "grade_id": "cell-8bcf2b804d636c2e",
     "locked": false,
     "schema_version": 3,
     "solution": true,
     "task": false
    }
   },
   "outputs": [],
   "source": [
    "# TODO: Implement this! (15 points)\n",
    "def naive_ql_search(query, index_set):\n",
    "    \"\"\"\n",
    "        Perform a search over all documents with the given query using a naive QL model. \n",
    "        Note #1: You have to use the `get_index` (and get_doc_lengths) function created in the previous cells\n",
    "        Input: \n",
    "            query - a (unprocessed) query\n",
    "            index_set - the index to use\n",
    "        Output: a list of (document_id, score), sorted in descending relevance to the given query \n",
    "    \"\"\"\n",
    "    index = get_index(index_set)\n",
    "    doc_lengths = get_doc_lengths(index_set)\n",
    "    processed_query = preprocess_query(query, index_set)\n",
    "    # YOUR CODE HERE\n",
    "    sum_of_all_words = sum(doc_lengths.values())                    \n",
    "    result_dict = {}            \n",
    "    for token in processed_query:\n",
    "        if token in index:\n",
    "            dict_token = dict(index[token])\n",
    "            for (doc_id,length) in doc_lengths.items():\n",
    "                term_1 = 0\n",
    "                if doc_id in dict_token.keys():\n",
    "                    term_1 = dict_token[doc_id]/doc_lengths[doc_id]    \n",
    "                if doc_id not in result_dict:\n",
    "                    result_dict[doc_id] = term_1\n",
    "                else:\n",
    "                    result_dict[doc_id] *= term_1\n",
    "                    \n",
    "    \n",
    "    ql_scores_list = [(key, score) for key, score in result_dict.items()]\n",
    "    ql_scores_list.sort(key=lambda x: x[1], reverse = True)\n",
    "    return ql_scores_list  "
   ]
  },
  {
   "cell_type": "code",
   "execution_count": 73,
   "metadata": {
    "ExecuteTime": {
     "end_time": "2021-02-19T10:38:39.418124Z",
     "start_time": "2021-02-19T10:38:39.413137Z"
    },
    "deletable": false,
    "editable": false,
    "id": "VHLDABlc4IWi",
    "nbgrader": {
     "cell_type": "code",
     "checksum": "b550d15bdad28354c336020a00c33d56",
     "grade": true,
     "grade_id": "cell-5a83ac12ecde8578",
     "locked": true,
     "points": 3,
     "schema_version": 3,
     "solution": false,
     "task": false
    }
   },
   "outputs": [
    {
     "output_type": "stream",
     "name": "stdout",
     "text": [
      "Naive QL Results:\nRank 0(0.2): A Report Writer For COBOL...\nRank 1(0.2): A CRT Report Generating System...\nRank 2(0.17): Preliminary Report-International Algebraic Languag...\nRank 3(0.17): Supplement to the ALGOL 60 Report...\nRank 4(0.14): ALGOL Sub-Committee Report - Extensions...\n"
     ]
    }
   ],
   "source": [
    "#### Function check\n",
    "test_naiveql = naive_ql_search(\"report\", index_set=1)[:5]\n",
    "print(f\"Naive QL Results:\")\n",
    "print_results(test_naiveql)\n",
    "####"
   ]
  },
  {
   "cell_type": "code",
   "execution_count": 74,
   "metadata": {
    "ExecuteTime": {
     "end_time": "2021-02-19T10:38:39.423111Z",
     "start_time": "2021-02-19T10:38:39.419121Z"
    },
    "deletable": false,
    "editable": false,
    "id": "52J5wGHX4IWi",
    "nbgrader": {
     "cell_type": "code",
     "checksum": "799df1d81c63fe90edbb6c218fc707fb",
     "grade": true,
     "grade_id": "cell-80f4bf2137f997bb",
     "locked": true,
     "points": 2,
     "schema_version": 3,
     "solution": false,
     "task": false
    }
   },
   "outputs": [],
   "source": [
    "#### Please do not change this. This cell is used for grading."
   ]
  },
  {
   "cell_type": "code",
   "execution_count": 75,
   "metadata": {
    "ExecuteTime": {
     "end_time": "2021-02-19T10:38:39.428098Z",
     "start_time": "2021-02-19T10:38:39.425106Z"
    },
    "deletable": false,
    "editable": false,
    "id": "vXS0rYJ94IWi",
    "nbgrader": {
     "cell_type": "code",
     "checksum": "875a4a517d27e20625d41783cebec118",
     "grade": true,
     "grade_id": "cell-5ce2993458a8ce51",
     "locked": true,
     "points": 3,
     "schema_version": 3,
     "solution": false,
     "task": false
    }
   },
   "outputs": [],
   "source": [
    "#### Please do not change this. This cell is used for grading."
   ]
  },
  {
   "cell_type": "code",
   "execution_count": 76,
   "metadata": {
    "ExecuteTime": {
     "end_time": "2021-02-19T10:38:39.433084Z",
     "start_time": "2021-02-19T10:38:39.429094Z"
    },
    "deletable": false,
    "editable": false,
    "id": "E7Og-DYJ4IWi",
    "nbgrader": {
     "cell_type": "code",
     "checksum": "d5c4e1c3852e71a46f32825b122f1b71",
     "grade": true,
     "grade_id": "cell-7753bdb54e292f3d",
     "locked": true,
     "points": 3,
     "schema_version": 3,
     "solution": false,
     "task": false
    }
   },
   "outputs": [],
   "source": [
    "#### Please do not change this. This cell is used for grading."
   ]
  },
  {
   "cell_type": "code",
   "execution_count": 77,
   "metadata": {
    "ExecuteTime": {
     "end_time": "2021-02-19T10:38:39.437075Z",
     "start_time": "2021-02-19T10:38:39.434081Z"
    },
    "deletable": false,
    "editable": false,
    "id": "GIrjDu1G4IWi",
    "nbgrader": {
     "cell_type": "code",
     "checksum": "c4d4332d4356e89ce0240f6b80e1899a",
     "grade": true,
     "grade_id": "cell-54e476e2f96e64bb",
     "locked": true,
     "points": 4,
     "schema_version": 3,
     "solution": false,
     "task": false
    }
   },
   "outputs": [],
   "source": [
    "#### Please do not change this. This cell is used for grading."
   ]
  },
  {
   "cell_type": "markdown",
   "metadata": {
    "deletable": false,
    "editable": false,
    "id": "PwcdEmYB4IWi",
    "nbgrader": {
     "cell_type": "markdown",
     "checksum": "8d739dc91a22bd48897f603885f95a74",
     "grade": false,
     "grade_id": "cell-5414dfd69dab8b94",
     "locked": true,
     "schema_version": 3,
     "solution": false,
     "task": false
    }
   },
   "source": [
    "---\n",
    "#### 3.3.2 QL (20 points)\n",
    "Now, let's implement a QL model that handles the issues with the naive version. In particular, you will implement a QL model with Jelinek-Mercer Smoothing. That means an interpolated score is computed per word - one term is the same as the previous naive version, and the second term comes from a unigram language model. In addition, you should accumulate the scores by summing the **log** (smoothed) probability which leads to better numerical stability."
   ]
  },
  {
   "cell_type": "code",
   "execution_count": 78,
   "metadata": {
    "ExecuteTime": {
     "end_time": "2021-02-19T10:38:39.445091Z",
     "start_time": "2021-02-19T10:38:39.438071Z"
    },
    "deletable": false,
    "id": "vQ7JGYo34IWj",
    "nbgrader": {
     "cell_type": "code",
     "checksum": "b8c6abf937ad333e628f1db891f2e29e",
     "grade": false,
     "grade_id": "cell-bb1f506409771257",
     "locked": false,
     "schema_version": 3,
     "solution": true,
     "task": false
    }
   },
   "outputs": [],
   "source": [
    "# TODO: Implement this! (20 points)\n",
    "\n",
    "# YOUR CODE HERE\n",
    "def ql_search(query, index_set):\n",
    "    \"\"\"\n",
    "        Perform a search over all documents with the given query using a QL model \n",
    "        with Jelinek-Mercer Smoothing (set smoothing=0.1). \n",
    "        \n",
    "        \n",
    "        Note #1: You have to use the `get_index` (and get_doc_lengths) function created in the previous cells\n",
    "        Note #2: You might have to create some variables beforehand and use them in this function\n",
    "        \n",
    "        \n",
    "        Input: \n",
    "            query - a (unprocessed) query\n",
    "            index_set - the index to use\n",
    "        Output: a list of (document_id, score), sorted in descending relevance to the given query \n",
    "    \"\"\"\n",
    "    index = get_index(index_set)\n",
    "    doc_lengths = get_doc_lengths(index_set)\n",
    "    processed_query = preprocess_query(query, index_set)\n",
    "    \n",
    "    # YOUR CODE HERE\n",
    "    smoothing = 0.9\n",
    "    sum_of_all_words = sum(doc_lengths.values())\n",
    "                    \n",
    "    result_dict = {}            \n",
    "    for token in processed_query:\n",
    "        if token in index:\n",
    "            sum_freq = 0\n",
    "            [sum_freq := sum_freq + x[1] for x in index[token]]\n",
    "            term_2= (1-smoothing) * (sum_freq / sum_of_all_words)\n",
    "            dict_token = dict(index[token])\n",
    "            for (doc_id,length) in doc_lengths.items():\n",
    "                term_1 = 0\n",
    "                if doc_id in dict_token.keys():\n",
    "                    term_1 = smoothing * (dict_token[doc_id]/doc_lengths[doc_id])    \n",
    "                if doc_id not in result_dict:\n",
    "                    result_dict[doc_id] = math.log(term_1 + term_2)\n",
    "                else:\n",
    "                    result_dict[doc_id] += math.log(term_1 + term_2)\n",
    "                    \n",
    "    \n",
    "    ql_scores_list = [(key, score) for key, score in result_dict.items()]\n",
    "    ql_scores_list.sort(key=lambda x: x[1], reverse = True)\n",
    "    return ql_scores_list  "
   ]
  },
  {
   "cell_type": "code",
   "execution_count": 79,
   "metadata": {
    "ExecuteTime": {
     "end_time": "2021-02-19T10:38:39.466994Z",
     "start_time": "2021-02-19T10:38:39.446049Z"
    },
    "deletable": false,
    "editable": false,
    "id": "onjd74_U4IWj",
    "nbgrader": {
     "cell_type": "code",
     "checksum": "0b12a7f3355193a257fd9f5f69a66562",
     "grade": true,
     "grade_id": "cell-850e9d6369bcec32",
     "locked": true,
     "points": 4,
     "schema_version": 3,
     "solution": false,
     "task": false
    }
   },
   "outputs": [
    {
     "output_type": "stream",
     "name": "stdout",
     "text": [
      "Rank 0(-1.7): A Report Writer For COBOL...\n",
      "Rank 1(-1.7): A CRT Report Generating System...\n",
      "Rank 2(-1.9): Preliminary Report-International Algebraic Languag...\n",
      "Rank 3(-1.9): Supplement to the ALGOL 60 Report...\n",
      "Rank 4(-2.1): ALGOL Sub-Committee Report - Extensions...\n",
      "\n",
      "Rank 0(-1.7e+01): A Report Writer For COBOL...\n",
      "Rank 1(-1.7e+01): A CRT Report Generating System...\n",
      "Rank 2(-1.9e+01): Preliminary Report-International Algebraic Languag...\n",
      "Rank 3(-1.9e+01): Supplement to the ALGOL 60 Report...\n",
      "Rank 4(-2.1e+01): ALGOL Sub-Committee Report - Extensions...\n"
     ]
    }
   ],
   "source": [
    "#### Function check\n",
    "test_ql_results = ql_search(\"report\", index_set=1)[:5]\n",
    "print_results(test_ql_results)\n",
    "print()\n",
    "test_ql_results_long = ql_search(\"report \" * 10, index_set=1)[:5]\n",
    "print_results(test_ql_results_long)\n",
    "####"
   ]
  },
  {
   "cell_type": "code",
   "execution_count": 80,
   "metadata": {
    "ExecuteTime": {
     "end_time": "2021-02-19T10:38:39.471982Z",
     "start_time": "2021-02-19T10:38:39.467991Z"
    },
    "deletable": false,
    "editable": false,
    "id": "2Nf0hYoy4IWj",
    "nbgrader": {
     "cell_type": "code",
     "checksum": "e40be645140389c115849856145f5b59",
     "grade": true,
     "grade_id": "cell-958cdcf6fd6899b7",
     "locked": true,
     "points": 3,
     "schema_version": 3,
     "solution": false,
     "task": false
    }
   },
   "outputs": [],
   "source": [
    "#### Please do not change this. This cell is used for grading."
   ]
  },
  {
   "cell_type": "code",
   "execution_count": 81,
   "metadata": {
    "ExecuteTime": {
     "end_time": "2021-02-19T10:38:39.475015Z",
     "start_time": "2021-02-19T10:38:39.472979Z"
    },
    "deletable": false,
    "editable": false,
    "id": "LBhA_QfH4IWj",
    "nbgrader": {
     "cell_type": "code",
     "checksum": "41d4aff001df17e7963ba79b45810b30",
     "grade": true,
     "grade_id": "cell-384dc23a0c251f6e",
     "locked": true,
     "points": 4,
     "schema_version": 3,
     "solution": false,
     "task": false
    }
   },
   "outputs": [],
   "source": [
    "#### Please do not change this. This cell is used for grading."
   ]
  },
  {
   "cell_type": "code",
   "execution_count": 82,
   "metadata": {
    "ExecuteTime": {
     "end_time": "2021-02-19T10:38:39.478962Z",
     "start_time": "2021-02-19T10:38:39.475969Z"
    },
    "deletable": false,
    "editable": false,
    "id": "RweZvvbK4IWj",
    "nbgrader": {
     "cell_type": "code",
     "checksum": "893e8c5a073abc8ebb763d267b91bc02",
     "grade": true,
     "grade_id": "cell-7218966cba5097cc",
     "locked": true,
     "points": 4,
     "schema_version": 3,
     "solution": false,
     "task": false
    }
   },
   "outputs": [],
   "source": [
    "#### Please do not change this. This cell is used for grading."
   ]
  },
  {
   "cell_type": "code",
   "execution_count": 83,
   "metadata": {
    "ExecuteTime": {
     "end_time": "2021-02-19T10:38:39.482951Z",
     "start_time": "2021-02-19T10:38:39.479958Z"
    },
    "deletable": false,
    "editable": false,
    "id": "9WGyJzph4IWj",
    "nbgrader": {
     "cell_type": "code",
     "checksum": "f99cb6f8b1f5830aaed8f06712ff846e",
     "grade": true,
     "grade_id": "cell-481ab073259ae53f",
     "locked": true,
     "points": 5,
     "schema_version": 3,
     "solution": false,
     "task": false
    }
   },
   "outputs": [],
   "source": [
    "#### Please do not change this. This cell is used for grading."
   ]
  },
  {
   "cell_type": "markdown",
   "metadata": {
    "deletable": false,
    "editable": false,
    "id": "a3vu_N7C4IWj",
    "nbgrader": {
     "cell_type": "markdown",
     "checksum": "c02f14705d679579b1aa9f78f54779d5",
     "grade": false,
     "grade_id": "cell-f44088bfdac1dc90",
     "locked": true,
     "schema_version": 3,
     "solution": false,
     "task": false
    }
   },
   "source": [
    "--- \n",
    "\n",
    "### Section 3.4: BM25 (20 points) <a class=\"anchor\" id=\"bm25\"></a>\n",
    "\n",
    "In this section, we will implement the BM25 scoring function. \n"
   ]
  },
  {
   "cell_type": "code",
   "execution_count": 84,
   "metadata": {
    "ExecuteTime": {
     "end_time": "2021-02-19T10:38:39.490931Z",
     "start_time": "2021-02-19T10:38:39.483947Z"
    },
    "deletable": false,
    "id": "NLVmJujG4IWk",
    "nbgrader": {
     "cell_type": "code",
     "checksum": "e57efe06ea92af1c83784a42eb3d86e0",
     "grade": false,
     "grade_id": "cell-15640fc9b5d00a3c",
     "locked": false,
     "schema_version": 3,
     "solution": true,
     "task": false
    }
   },
   "outputs": [],
   "source": [
    "# TODO: Implement this! (20 points)\n",
    "def bm25_search(query, index_set):\n",
    "    \"\"\"\n",
    "        Perform a search over all documents with the given query using BM25. Use k_1 = 1.5 and b = 0.75\n",
    "        Note #1: You have to use the `get_index` (and `get_doc_lengths`) function created in the previous cells\n",
    "        Note #2: You might have to create some variables beforehand and use them in this function\n",
    "        \n",
    "        Input: \n",
    "            query - a (unprocessed) query\n",
    "            index_set - the index to use\n",
    "        Output: a list of (document_id, score), sorted in descending relevance to the given query \n",
    "    \"\"\"\n",
    "    \n",
    "    index = get_index(index_set)\n",
    "    df = get_df(index_set)\n",
    "    doc_lengths = get_doc_lengths(index_set)\n",
    "    processed_query = preprocess_query(query, index_set)\n",
    "    \n",
    "    # YOUR CODE HERE\n",
    "    b = 0.75\n",
    "    k_1 = 1.5\n",
    "    \n",
    "    num_of_docs = len(doc_lengths)\n",
    "    avg_doc_length = sum(doc_lengths[key] for key in doc_lengths) / num_of_docs\n",
    "    \n",
    "    bm25_scores = {}\n",
    "    for token in processed_query:\n",
    "        if token in index:\n",
    "            token_freq = df[token]\n",
    "            for doc_id, num_of_occurences in index[token]:\n",
    "                doc_length = doc_lengths[doc_id]\n",
    "                idf = math.log((num_of_docs - token_freq + 0.5) / (token_freq + 0.5) + 1)\n",
    "                K = k_1 * (1 - b + b * (doc_length / avg_doc_length))\n",
    "                score = idf * (num_of_occurences * (k_1 + 1)) / (num_of_occurences + K)\n",
    "                if doc_id in bm25_scores:\n",
    "                    bm25_scores[doc_id] += score\n",
    "                else:\n",
    "                    bm25_scores[doc_id] = score \n",
    "\n",
    "    bm25_scores_list = [(key, score) for key, score in bm25_scores.items()]\n",
    "    bm25_scores_list.sort(key=lambda x: x[1], reverse = True)   \n",
    "    \n",
    "    return bm25_scores_list \n",
    "    "
   ]
  },
  {
   "cell_type": "code",
   "execution_count": 85,
   "metadata": {
    "ExecuteTime": {
     "end_time": "2021-02-19T10:38:39.495917Z",
     "start_time": "2021-02-19T10:38:39.491928Z"
    },
    "deletable": false,
    "editable": false,
    "id": "YocJglWu4IWk",
    "nbgrader": {
     "cell_type": "code",
     "checksum": "4be9de5d4e94637960d83725422bea6c",
     "grade": true,
     "grade_id": "cell-d10536bca72c74b1",
     "locked": true,
     "points": 3,
     "schema_version": 3,
     "solution": false,
     "task": false
    }
   },
   "outputs": [
    {
     "output_type": "stream",
     "name": "stdout",
     "text": [
      "Rank 0(6.7): A Report Writer For COBOL...\nRank 1(6.7): A CRT Report Generating System...\nRank 2(6.6): Preliminary Report-International Algebraic Languag...\nRank 3(6.6): Supplement to the ALGOL 60 Report...\nRank 4(6.5): ALGOL Sub-Committee Report - Extensions...\n"
     ]
    }
   ],
   "source": [
    "#### Function check\n",
    "test_bm25_results = bm25_search(\"report\", index_set=1)[:5]\n",
    "print_results(test_bm25_results)\n",
    "####"
   ]
  },
  {
   "cell_type": "code",
   "execution_count": 86,
   "metadata": {
    "ExecuteTime": {
     "end_time": "2021-02-19T10:38:39.499905Z",
     "start_time": "2021-02-19T10:38:39.496914Z"
    },
    "deletable": false,
    "editable": false,
    "id": "LMKx7x7X4IWk",
    "nbgrader": {
     "cell_type": "code",
     "checksum": "31b550d6a46ae4f8ede88788799ac2b9",
     "grade": true,
     "grade_id": "cell-60f6ec5052712d79",
     "locked": true,
     "points": 5,
     "schema_version": 3,
     "solution": false,
     "task": false
    }
   },
   "outputs": [],
   "source": [
    "#### Please do not change this. This cell is used for grading."
   ]
  },
  {
   "cell_type": "code",
   "execution_count": 87,
   "metadata": {
    "ExecuteTime": {
     "end_time": "2021-02-19T10:38:39.503896Z",
     "start_time": "2021-02-19T10:38:39.500904Z"
    },
    "deletable": false,
    "editable": false,
    "id": "zMyvPilQ4IWk",
    "nbgrader": {
     "cell_type": "code",
     "checksum": "3da2ec16bfe781916e71755d65aa2983",
     "grade": true,
     "grade_id": "cell-5d17524043a5abcc",
     "locked": true,
     "points": 5,
     "schema_version": 3,
     "solution": false,
     "task": false
    }
   },
   "outputs": [],
   "source": [
    "#### Please do not change this. This cell is used for grading."
   ]
  },
  {
   "cell_type": "code",
   "execution_count": 88,
   "metadata": {
    "ExecuteTime": {
     "end_time": "2021-02-19T10:38:39.507885Z",
     "start_time": "2021-02-19T10:38:39.504892Z"
    },
    "deletable": false,
    "editable": false,
    "id": "50XzuKTa4IWk",
    "nbgrader": {
     "cell_type": "code",
     "checksum": "e7b563d54fa84c20909c0ae107010541",
     "grade": true,
     "grade_id": "cell-ff8e704eda1184e3",
     "locked": true,
     "points": 3,
     "schema_version": 3,
     "solution": false,
     "task": false
    }
   },
   "outputs": [],
   "source": [
    "#### Please do not change this. This cell is used for grading."
   ]
  },
  {
   "cell_type": "code",
   "execution_count": 89,
   "metadata": {
    "ExecuteTime": {
     "end_time": "2021-02-19T10:38:39.511875Z",
     "start_time": "2021-02-19T10:38:39.508881Z"
    },
    "deletable": false,
    "editable": false,
    "id": "DYTt6NKh4IWk",
    "nbgrader": {
     "cell_type": "code",
     "checksum": "b013f90974b396630a8831d6f1d7e5f7",
     "grade": true,
     "grade_id": "cell-a52310500a2543cb",
     "locked": true,
     "points": 4,
     "schema_version": 3,
     "solution": false,
     "task": false
    }
   },
   "outputs": [],
   "source": [
    "#### Please do not change this. This cell is used for grading."
   ]
  },
  {
   "cell_type": "markdown",
   "metadata": {
    "deletable": false,
    "editable": false,
    "id": "bD5EZ9eN4IWl",
    "nbgrader": {
     "cell_type": "markdown",
     "checksum": "8fcf67cb7d5e8b26cb9bf1f0aa42c847",
     "grade": false,
     "grade_id": "cell-8b2b412c81d62f2d",
     "locked": true,
     "schema_version": 3,
     "solution": false,
     "task": false
    }
   },
   "source": [
    "\n",
    "---\n",
    "\n",
    "### 3.5. Test Your Functions\n",
    "\n",
    "The widget below allows you to play with the search functions you've written so far. Use this to test your search functions and ensure that they work as expected."
   ]
  },
  {
   "cell_type": "code",
   "execution_count": 90,
   "metadata": {
    "ExecuteTime": {
     "end_time": "2021-02-19T10:38:39.521846Z",
     "start_time": "2021-02-19T10:38:39.512872Z"
    },
    "deletable": false,
    "editable": false,
    "id": "mIWUmEd14IWl",
    "nbgrader": {
     "cell_type": "code",
     "checksum": "dfeb204b390acc0794dbdcac92b0cf2c",
     "grade": false,
     "grade_id": "cell-c9c2bb76354e8d97",
     "locked": true,
     "schema_version": 3,
     "solution": false,
     "task": false
    }
   },
   "outputs": [],
   "source": [
    "#### Highlighter function\n",
    "# class for results\n",
    "ResultRow = namedtuple(\"ResultRow\", [\"doc_id\", \"snippet\", \"score\"])\n",
    "# doc_id -> doc\n",
    "docs_by_id = dict((d[0], d[1]) for d in docs)\n",
    "\n",
    "def highlight_text(document, query, tol=17):\n",
    "    import re\n",
    "    tokens = tokenize(query)\n",
    "    regex = \"|\".join(f\"(\\\\b{t}\\\\b)\" for t in tokens)\n",
    "    regex = re.compile(regex, flags=re.IGNORECASE)\n",
    "    output = \"\"\n",
    "    i = 0\n",
    "    for m in regex.finditer(document):\n",
    "        start_idx = max(0, m.start() - tol)\n",
    "        end_idx = min(len(document), m.end() + tol)\n",
    "        output += \"\".join([\"...\",\n",
    "                        document[start_idx:m.start()],\n",
    "                        \"<strong>\",\n",
    "                        document[m.start():m.end()],\n",
    "                        \"</strong>\",\n",
    "                        document[m.end():end_idx],\n",
    "                        \"...\"])\n",
    "    return output.replace(\"\\n\", \" \")\n",
    "\n",
    "\n",
    "def make_results(query, search_fn, index_set):\n",
    "    results = []\n",
    "    for doc_id, score in search_fn(query, index_set):\n",
    "        highlight = highlight_text(docs_by_id[doc_id], query)\n",
    "        if len(highlight.strip()) == 0:\n",
    "            highlight = docs_by_id[doc_id]\n",
    "        results.append(ResultRow(doc_id, highlight, score))\n",
    "    return results\n",
    "####"
   ]
  },
  {
   "cell_type": "code",
   "execution_count": 91,
   "metadata": {
    "ExecuteTime": {
     "end_time": "2021-02-19T10:38:39.534813Z",
     "start_time": "2021-02-19T10:38:39.523842Z"
    },
    "id": "lLBwC48L4IWl"
   },
   "outputs": [
    {
     "output_type": "display_data",
     "data": {
      "text/plain": "Text(value='', description='Search Bar')",
      "application/vnd.jupyter.widget-view+json": {
       "version_major": 2,
       "version_minor": 0,
       "model_id": "02ad2482f655487486e4e6e322bfea09"
      }
     },
     "metadata": {}
    }
   ],
   "source": [
    "# TODO: Set this to the function you want to test!\n",
    "# this function should take in a query (string)\n",
    "# and return a sorted list of (doc_id, score) \n",
    "# with the most relevant document in the first position\n",
    "search_fn = bm25_search\n",
    "index_set = 1\n",
    "\n",
    "text = widgets.Text(description=\"Search Bar\", width=200)\n",
    "display(text)\n",
    "\n",
    "def handle_submit(sender):\n",
    "    print(f\"Searching for: '{sender.value}'\")\n",
    "    \n",
    "    results = make_results(sender.value, search_fn, index_set)\n",
    "    \n",
    "    # display only the top 5\n",
    "    results = results[:5]\n",
    "    \n",
    "    body = \"\"\n",
    "    for idx, r in enumerate(results):\n",
    "        body += f\"<li>Document #{r.doc_id}({r.score}): {r.snippet}</li>\"\n",
    "    display(HTML(f\"<ul>{body}</ul>\"))\n",
    "    \n",
    "\n",
    "text.on_submit(handle_submit)"
   ]
  },
  {
   "cell_type": "markdown",
   "metadata": {
    "deletable": false,
    "editable": false,
    "id": "V_eNBPNC4IWl",
    "nbgrader": {
     "cell_type": "markdown",
     "checksum": "b315c280048a50e8bad7d6250f6f39d1",
     "grade": false,
     "grade_id": "cell-8d46fe8e4f3d8cdb",
     "locked": true,
     "schema_version": 3,
     "solution": false,
     "task": false
    }
   },
   "source": [
    "---\n",
    "\n",
    "## Section 4: Evaluation (40 points) <a class=\"anchor\" id=\"evaluation\"></a>\n",
    "\n",
    "[Back to Part 1](#part1)\n",
    "\n",
    "Before we jump in and implement an algorithm for retrieval, we first have to learn how to evaluate such a system. In particular, we will work with offline evaluation metrics. These metrics are computed on a dataset with known relevance judgements.\n",
    "\n",
    "Implement the following evaluation metrics. \n",
    "\n",
    "1. Precision (7 points)\n",
    "2. Recall (7 points)\n",
    "3. Mean Average Precision (12 points)\n",
    "4. Expected Reciprocal Rank (12 points)"
   ]
  },
  {
   "cell_type": "markdown",
   "metadata": {
    "deletable": false,
    "editable": false,
    "id": "gLVYII234IWl",
    "nbgrader": {
     "cell_type": "markdown",
     "checksum": "82e90076c51893e31fec5c40c49d1828",
     "grade": false,
     "grade_id": "cell-3419fd3bc663d7cc",
     "locked": true,
     "schema_version": 3,
     "solution": false,
     "task": false
    }
   },
   "source": [
    "---\n",
    "### 4.1 Read relevance labels (2 points)\n",
    "\n",
    "Let's take a look at the `qrels.text` file, which contains the ground truth relevance scores. The relevance labels for CACM are binary - either 0 or 1. \n"
   ]
  },
  {
   "cell_type": "code",
   "execution_count": 92,
   "metadata": {
    "ExecuteTime": {
     "end_time": "2021-02-19T10:38:39.589665Z",
     "start_time": "2021-02-19T10:38:39.536808Z"
    },
    "deletable": false,
    "editable": false,
    "id": "dD-BtESw4IWl",
    "nbgrader": {
     "cell_type": "code",
     "checksum": "6c11025f5a222796f2882c73c1634799",
     "grade": false,
     "grade_id": "cell-6b738366059dde9e",
     "locked": true,
     "schema_version": 3,
     "solution": false,
     "task": false
    }
   },
   "outputs": [
    {
     "output_type": "stream",
     "name": "stderr",
     "text": [
      "'head' is not recognized as an internal or external command,\noperable program or batch file.\n"
     ]
    }
   ],
   "source": [
    "!head ./datasets/qrels.text"
   ]
  },
  {
   "cell_type": "markdown",
   "metadata": {
    "deletable": false,
    "editable": false,
    "id": "O1d_Ru854IWm",
    "nbgrader": {
     "cell_type": "markdown",
     "checksum": "e77d7cc6aae69fdbadb5ac9f78f8a560",
     "grade": false,
     "grade_id": "cell-10e16bff2753ffbb",
     "locked": true,
     "schema_version": 3,
     "solution": false,
     "task": false
    }
   },
   "source": [
    "---\n",
    "**Implementation (2 points):**\n",
    "The first column is the query_id and the second column is the document_id. You can safely ignore the 3rd and 4th columns. Write a function to read in the file:"
   ]
  },
  {
   "cell_type": "code",
   "execution_count": 93,
   "metadata": {
    "ExecuteTime": {
     "end_time": "2021-02-19T10:38:39.594690Z",
     "start_time": "2021-02-19T10:38:39.590662Z"
    },
    "deletable": false,
    "id": "gaPgBW-q4IWm",
    "nbgrader": {
     "cell_type": "code",
     "checksum": "ef347565a0990ddbd049835105753d59",
     "grade": false,
     "grade_id": "cell-ee5253a4ef602fce",
     "locked": false,
     "schema_version": 3,
     "solution": true,
     "task": false
    }
   },
   "outputs": [],
   "source": [
    "# TODO: Implement this! (2 points)\n",
    "def read_qrels(root_folder = \"./datasets/\"):\n",
    "    \"\"\"\n",
    "        Reads the qrels.text file. \n",
    "        Output: A dictionary: query_id -> [list of relevant documents]\n",
    "    \"\"\"\n",
    "    # YOUR CODE HERE\n",
    "    qrels_dict = {}\n",
    "    with open(root_folder + 'qrels.text') as f:\n",
    "        for line in f:\n",
    "            line_split = line.split(' ')\n",
    "            q_id = str(int(line_split[0]))\n",
    "            doc_id = line_split[1]\n",
    "            if q_id in qrels_dict:\n",
    "                qrels_dict[q_id].append(doc_id)\n",
    "            else:\n",
    "                qrels_dict[q_id] = [doc_id]\n",
    "        \n",
    "    return qrels_dict"
   ]
  },
  {
   "cell_type": "code",
   "execution_count": 94,
   "metadata": {
    "ExecuteTime": {
     "end_time": "2021-02-19T10:38:39.600674Z",
     "start_time": "2021-02-19T10:38:39.595649Z"
    },
    "deletable": false,
    "editable": false,
    "id": "42HAaoxI4IWm",
    "nbgrader": {
     "cell_type": "code",
     "checksum": "6a258a834392cc8cbf8af5d4ccdee81f",
     "grade": true,
     "grade_id": "cell-72215605fbe24f65",
     "locked": true,
     "points": 2,
     "schema_version": 3,
     "solution": false,
     "task": false
    }
   },
   "outputs": [],
   "source": [
    "#### Function check\n",
    "qrels = read_qrels()\n",
    "\n",
    "assert len(qrels) == 52, \"There should be 52 queries with relevance judgements\"\n",
    "assert sum(len(j) for j in qrels.values()) == 796, \"There should be a total of 796 Relevance Judgements\"\n",
    "####"
   ]
  },
  {
   "cell_type": "markdown",
   "metadata": {
    "deletable": false,
    "editable": false,
    "id": "XSWVVWzl4IWm",
    "nbgrader": {
     "cell_type": "markdown",
     "checksum": "6c9e7428a52e291a2cdf92a379730d4c",
     "grade": false,
     "grade_id": "cell-176a6fb2939d0420",
     "locked": true,
     "schema_version": 3,
     "solution": false,
     "task": false
    }
   },
   "source": [
    "---\n",
    "**Note:** For a given query `query_id`, you can assume that documents *not* in `qrels[query_id]` are not relevant to `query_id`. \n"
   ]
  },
  {
   "cell_type": "markdown",
   "metadata": {
    "deletable": false,
    "editable": false,
    "id": "Ad2E1OAb4IWm",
    "nbgrader": {
     "cell_type": "markdown",
     "checksum": "b26a818c7b4f7ad490e00b35ea0edd69",
     "grade": false,
     "grade_id": "cell-bd8341b72cdd89bb",
     "locked": true,
     "schema_version": 3,
     "solution": false,
     "task": false
    }
   },
   "source": [
    "---\n",
    "### 4.2 Precision (7 points)\n",
    "Implement the `precision@k` metric:"
   ]
  },
  {
   "cell_type": "code",
   "execution_count": 95,
   "metadata": {
    "ExecuteTime": {
     "end_time": "2021-02-19T10:38:39.604665Z",
     "start_time": "2021-02-19T10:38:39.601634Z"
    },
    "deletable": false,
    "id": "itsA-mo54IWm",
    "nbgrader": {
     "cell_type": "code",
     "checksum": "ad3cc3234a361d269ecb6b59cc447e9f",
     "grade": false,
     "grade_id": "cell-494bd0cce108ed67",
     "locked": false,
     "schema_version": 3,
     "solution": true,
     "task": false
    }
   },
   "outputs": [],
   "source": [
    "# TODO: Implement this! (7 points)\n",
    "def precision_k(results, relevant_docs, k):\n",
    "    \"\"\"\n",
    "        Compute Precision@K\n",
    "        Input: \n",
    "            results: A sorted list of 2-tuples (document_id, score), \n",
    "                    with the most relevant document in the first position\n",
    "            relevant_docs: A set of relevant documents. \n",
    "            k: the cut-off\n",
    "        Output: Precision@K\n",
    "    \"\"\"\n",
    "    # YOUR CODE HERE\n",
    "    \n",
    "    relevant_doc_set = set(relevant_docs)\n",
    "    results_doc_set = {k for k, v in results[:k]}\n",
    "\n",
    "    numerator = len(relevant_doc_set.intersection(results_doc_set))\n",
    "    \n",
    "    precision = numerator / k\n",
    "\n",
    "\n",
    "    return precision"
   ]
  },
  {
   "cell_type": "code",
   "execution_count": 96,
   "metadata": {
    "ExecuteTime": {
     "end_time": "2021-02-19T10:38:39.618626Z",
     "start_time": "2021-02-19T10:38:39.605623Z"
    },
    "deletable": false,
    "editable": false,
    "id": "QnBXQiHM4IWm",
    "nbgrader": {
     "cell_type": "code",
     "checksum": "964b214dbfff8fc53cada864019ee863",
     "grade": true,
     "grade_id": "cell-e7ff0d91c319ca64",
     "locked": true,
     "points": 7,
     "schema_version": 3,
     "solution": false,
     "task": false
    }
   },
   "outputs": [
    {
     "output_type": "stream",
     "name": "stdout",
     "text": [
      "query:\n What articles exist which deal with TSS (Time Sharing System), an\noperating system for IBM computers?\nprecision@10 = 0.2\n"
     ]
    }
   ],
   "source": [
    "#### Function check\n",
    "qid = queries[0][0]\n",
    "qtext = queries[0][1]\n",
    "print(f'query:{qtext}')\n",
    "results = bm25_search(qtext, 2)\n",
    "precision = precision_k(results, qrels[qid], 10)\n",
    "print(f'precision@10 = {precision}')\n",
    "####"
   ]
  },
  {
   "cell_type": "markdown",
   "metadata": {
    "deletable": false,
    "editable": false,
    "id": "rsVw36Qs4IWn",
    "nbgrader": {
     "cell_type": "markdown",
     "checksum": "8fd3b3998197c7097a40348500affb68",
     "grade": false,
     "grade_id": "cell-afd95f865bc7191e",
     "locked": true,
     "schema_version": 3,
     "solution": false,
     "task": false
    }
   },
   "source": [
    "---\n",
    "### 4.3 Recall (7 points)\n",
    "Implement the `recall@k` metric:"
   ]
  },
  {
   "cell_type": "code",
   "execution_count": null,
   "metadata": {
    "ExecuteTime": {
     "end_time": "2021-02-19T10:38:39.622634Z",
     "start_time": "2021-02-19T10:38:39.619585Z"
    },
    "deletable": false,
    "id": "5MCAhvPt4IWn",
    "nbgrader": {
     "cell_type": "code",
     "checksum": "b2020e5741ae03b3fe35817ed8f4ccaa",
     "grade": false,
     "grade_id": "cell-c323fc8c3f8a7cf8",
     "locked": false,
     "schema_version": 3,
     "solution": true,
     "task": false
    }
   },
   "outputs": [],
   "source": [
    "# TODO: Implement this! (7 points)\n",
    "def recall_k(results, relevant_docs, k):\n",
    "    \"\"\"\n",
    "        Compute Recall@K\n",
    "        Input: \n",
    "            results: A sorted list of 2-tuples (document_id, score), with the most relevant document in the first position\n",
    "            relevant_docs: A set of relevant documents. \n",
    "            k: the cut-off\n",
    "        Output: Recall@K\n",
    "    \"\"\"\n",
    "    # YOUR CODE HERE\n",
    "    relevant_doc_set = set(relevant_docs)\n",
    "    results_doc_set = {k for k, v in results[:k]}\n",
    "\n",
    "    numerator = len(relevant_doc_set.intersection(results_doc_set))\n",
    "\n",
    "    denominator = len(relevant_doc_set)\n",
    "    \n",
    "    recall = numerator / denominator if denominator > 0 else 0\n",
    "\n",
    "\n",
    "    return recall\n"
   ]
  },
  {
   "cell_type": "code",
   "execution_count": null,
   "metadata": {
    "ExecuteTime": {
     "end_time": "2021-02-19T10:38:39.630599Z",
     "start_time": "2021-02-19T10:38:39.623575Z"
    },
    "deletable": false,
    "editable": false,
    "id": "oJrL_tLY4IWn",
    "nbgrader": {
     "cell_type": "code",
     "checksum": "56b6e0b8522f8b2dffbfb3206b2efa84",
     "grade": true,
     "grade_id": "cell-b25172161aef165c",
     "locked": true,
     "points": 7,
     "schema_version": 3,
     "solution": false,
     "task": false
    }
   },
   "outputs": [],
   "source": [
    "#### Function check\n",
    "qid = queries[10][0]\n",
    "qtext = queries[10][1]\n",
    "print(f'query:{qtext}')\n",
    "results = bm25_search(qtext, 2)\n",
    "recall = recall_k(results, qrels[qid], 10)\n",
    "print(f'recall@10 = {recall}')\n",
    "####"
   ]
  },
  {
   "cell_type": "markdown",
   "metadata": {
    "deletable": false,
    "editable": false,
    "id": "O6zOyivS4IWn",
    "nbgrader": {
     "cell_type": "markdown",
     "checksum": "d43c63fa38f333e0b52d41639b2655f7",
     "grade": false,
     "grade_id": "cell-77fd2e7a39a74739",
     "locked": true,
     "schema_version": 3,
     "solution": false,
     "task": false
    }
   },
   "source": [
    "---\n",
    "### 4.4 Mean Average Precision (12 points)\n",
    "Implement the `map` metric:"
   ]
  },
  {
   "cell_type": "code",
   "execution_count": 99,
   "metadata": {
    "ExecuteTime": {
     "end_time": "2021-02-19T10:38:39.635542Z",
     "start_time": "2021-02-19T10:38:39.631553Z"
    },
    "deletable": false,
    "id": "NtBBAX-34IWn",
    "nbgrader": {
     "cell_type": "code",
     "checksum": "aae2c62f2ffd76f5b6c004e9519b9f14",
     "grade": false,
     "grade_id": "cell-e50925fa9093a30d",
     "locked": false,
     "schema_version": 3,
     "solution": true,
     "task": false
    }
   },
   "outputs": [],
   "source": [
    "# TODO: Implement this! (12 points)\n",
    "def average_precision(results, relevant_docs):\n",
    "    \"\"\"\n",
    "        Compute Average Precision (for a single query - the results are \n",
    "        averaged across queries to get MAP in the next few cells)\n",
    "        Hint: You can use the recall_k and precision_k functions here!\n",
    "        Input: \n",
    "            results: A sorted list of 2-tuples (document_id, score), with the most \n",
    "                    relevant document in the first position\n",
    "            relevant_docs: A set of relevant documents. \n",
    "        Output: Average Precision\n",
    "    \"\"\"\n",
    "    # YOUR CODE HERE\n",
    "    precisions = []\n",
    "    relevant_results = []\n",
    "    for i in range(len(results)):\n",
    "        cur_precision = precision_k(results, relevant_docs, i+1)\n",
    "        doc_id, _ = results[i]\n",
    "        if doc_id in relevant_docs:\n",
    "            precisions.append(cur_precision)\n",
    "\n",
    "    return sum(precisions)/len(precisions) if len(precisions) > 0 else 0\n",
    "\n",
    "    \n",
    "\n",
    "    \n",
    "        \n"
   ]
  },
  {
   "cell_type": "code",
   "execution_count": 100,
   "metadata": {
    "ExecuteTime": {
     "end_time": "2021-02-19T10:38:39.909808Z",
     "start_time": "2021-02-19T10:38:39.637537Z"
    },
    "deletable": false,
    "editable": false,
    "id": "Ij731snQ4IWn",
    "nbgrader": {
     "cell_type": "code",
     "checksum": "5db8cb2dfd3a77554f4147b409f47f38",
     "grade": true,
     "grade_id": "cell-8a1f7ec98571e58b",
     "locked": true,
     "points": 12,
     "schema_version": 3,
     "solution": false,
     "task": false
    },
    "tags": []
   },
   "outputs": [
    {
     "output_type": "stream",
     "name": "stdout",
     "text": [
      "query:\n",
      " computational complexity, intractability, class-complete reductions,\n",
      "algorithms and efficiency\n",
      "MAP = 0.13885003916324018\n"
     ]
    }
   ],
   "source": [
    "#### Function check\n",
    "qid = queries[20][0]\n",
    "qtext = queries[20][1]\n",
    "print(f'query:{qtext}')\n",
    "results = bm25_search(qtext, 2)\n",
    "mean_ap = average_precision(results, qrels[qid])\n",
    "print(f'MAP = {mean_ap}')\n",
    "####"
   ]
  },
  {
   "cell_type": "markdown",
   "metadata": {
    "deletable": false,
    "editable": false,
    "id": "Q38CrFOO4IWo",
    "nbgrader": {
     "cell_type": "markdown",
     "checksum": "cb645b79d04cc3eed33ca060a5e7bf0f",
     "grade": false,
     "grade_id": "cell-1da18f0fe6f6d7be",
     "locked": true,
     "schema_version": 3,
     "solution": false,
     "task": false
    }
   },
   "source": [
    "---\n",
    "### 4.5 Expected Reciprocal Rank (12 points)\n",
    "Implement the `err` metric:"
   ]
  },
  {
   "cell_type": "code",
   "execution_count": 101,
   "metadata": {
    "ExecuteTime": {
     "end_time": "2021-02-19T10:38:39.915792Z",
     "start_time": "2021-02-19T10:38:39.910806Z"
    },
    "deletable": false,
    "id": "Wm7tmYcH4IWo",
    "nbgrader": {
     "cell_type": "code",
     "checksum": "9ac94db728e23ea1f5dc0d509473c6fb",
     "grade": false,
     "grade_id": "cell-64262889f9b267ea",
     "locked": false,
     "schema_version": 3,
     "solution": true,
     "task": false
    }
   },
   "outputs": [],
   "source": [
    "# TODO: Implement this! (12 points)\n",
    "def err(results, relevant_docs):\n",
    "    \"\"\"\n",
    "        Compute the expected reciprocal rank.\n",
    "        Hint: https://dl.acm.org/doi/pdf/10.1145/1645953.1646033?download=true\n",
    "        Input: \n",
    "            results: A sorted list of 2-tuples (document_id, score), with the most \n",
    "                    relevant document in the first position\n",
    "            relevant_docs: A set of relevant documents. \n",
    "        Output: ERR\n",
    "        \n",
    "    \"\"\"\n",
    "    # The relevance grade is binary, so when a document is irrelevant, we get (2^0-1)/2 = 0\n",
    "    # For a relevant document, this is (2^1-1)/2 = 0.5, hence the R of 0 or 0.5.\n",
    "    p, ERR = 1, 0\n",
    "    nr_docs = len(results)\n",
    "    for r in range(nr_docs):\n",
    "        cur_doc = results[r][0]\n",
    "        if cur_doc in relevant_docs:\n",
    "            R = 0.5\n",
    "        else:\n",
    "            R = 0\n",
    "        ERR += p * R/(r + 1)\n",
    "        p *= (1-R)\n",
    "    \n",
    "    return ERR"
   ]
  },
  {
   "cell_type": "code",
   "execution_count": 102,
   "metadata": {
    "ExecuteTime": {
     "end_time": "2021-02-19T10:38:39.967654Z",
     "start_time": "2021-02-19T10:38:39.916790Z"
    },
    "deletable": false,
    "editable": false,
    "id": "xD69_bIF4IWo",
    "nbgrader": {
     "cell_type": "code",
     "checksum": "eb97e6d89a0b992b642e4e0ff36ff9f5",
     "grade": true,
     "grade_id": "cell-071e3970ff1afae4",
     "locked": true,
     "points": 12,
     "schema_version": 3,
     "solution": false,
     "task": false
    }
   },
   "outputs": [
    {
     "output_type": "stream",
     "name": "stdout",
     "text": [
      "query:\n I'd like to find articles describing the use of singular value decomposition\nin digital image processing.  Applications include finding approximations\nto the original image and restoring images that are subject to noise. An\narticle on the subject is H.C. Andrews and C.L. Patterson \"Outer product\nexpansions and their uses in digital image processing\", American Mathematical\nMonthly, vol. 82.\nERR = 0.3333333333333333\n"
     ]
    }
   ],
   "source": [
    "#### Function check\n",
    "qid = queries[30][0]\n",
    "qtext = queries[30][1]\n",
    "print(f'query:{qtext}')\n",
    "results = bm25_search(qtext, 2)\n",
    "ERR = err(results, qrels[qid])\n",
    "print(f'ERR = {ERR}')\n",
    "####"
   ]
  },
  {
   "cell_type": "markdown",
   "metadata": {
    "deletable": false,
    "editable": false,
    "id": "Gh1iz9Ht4IWo",
    "nbgrader": {
     "cell_type": "markdown",
     "checksum": "5bd94caf77cfa5f34675df758d91002d",
     "grade": false,
     "grade_id": "cell-43709a765f353946",
     "locked": true,
     "schema_version": 3,
     "solution": false,
     "task": false
    }
   },
   "source": [
    "---\n",
    "### 4.6 Evaluate Search Functions\n",
    "\n",
    "Let's define some metrics@k using [partial functions](https://docs.python.org/3/library/functools.html#functools.partial)"
   ]
  },
  {
   "cell_type": "code",
   "execution_count": 109,
   "metadata": {
    "ExecuteTime": {
     "end_time": "2021-02-19T10:38:39.976630Z",
     "start_time": "2021-02-19T10:38:39.972641Z"
    },
    "deletable": false,
    "editable": false,
    "id": "Z-lVjRDV4IWo",
    "nbgrader": {
     "cell_type": "code",
     "checksum": "49ccc158e5fb7340ace55e90eeb9d62a",
     "grade": false,
     "grade_id": "cell-dab560e18e340da8",
     "locked": true,
     "schema_version": 3,
     "solution": false,
     "task": false
    }
   },
   "outputs": [],
   "source": [
    "#### metrics@k functions\n",
    "\n",
    "recall_at_1 = partial(recall_k, k=1)\n",
    "recall_at_5 = partial(recall_k, k=5)\n",
    "recall_at_10 = partial(recall_k, k=10)\n",
    "precision_at_1 = partial(precision_k, k=1)\n",
    "precision_at_5 = partial(precision_k, k=5)\n",
    "precision_at_10 = partial(precision_k, k=10)\n",
    "\n",
    "\n",
    "list_of_metrics = [\n",
    "    (\"ERR\", err),\n",
    "    (\"MAP\", average_precision),\n",
    "    (\"Recall@1\",recall_at_1),\n",
    "    (\"Recall@5\", recall_at_5),\n",
    "    (\"Recall@10\", recall_at_10),\n",
    "    (\"Precision@1\", precision_at_1),\n",
    "    (\"Precision@5\", precision_at_5),\n",
    "    (\"Precision@10\", precision_at_10)]\n",
    "####"
   ]
  },
  {
   "cell_type": "markdown",
   "metadata": {
    "deletable": false,
    "editable": false,
    "id": "tkpES_rl4IWo",
    "nbgrader": {
     "cell_type": "markdown",
     "checksum": "fb541002c03221b453b8936290020ea5",
     "grade": false,
     "grade_id": "cell-580a2bdc66d03b47",
     "locked": true,
     "schema_version": 3,
     "solution": false,
     "task": false
    }
   },
   "source": [
    "---\n",
    "\n",
    "The following function evaluates a `search_fn` using the `metric_fn`. Note that the final number is averaged over all the queries"
   ]
  },
  {
   "cell_type": "code",
   "execution_count": 111,
   "metadata": {
    "ExecuteTime": {
     "end_time": "2021-02-19T10:38:39.983611Z",
     "start_time": "2021-02-19T10:38:39.978625Z"
    },
    "id": "SGKA8Ci54IWo"
   },
   "outputs": [],
   "source": [
    "#### Evaluate a search function\n",
    "\n",
    "list_of_search_fns = [\n",
    "    (\"BOW\", bow_search),\n",
    "    (\"TF-IDF\", tfidf_search),\n",
    "    (\"NaiveQL\", naive_ql_search),\n",
    "    (\"QL\", ql_search),\n",
    "    (\"BM25\", bm25_search)\n",
    "]\n",
    "\n",
    "def evaluate_search_fn(search_fn, metric_fns, index_set=None):\n",
    "    # build a dict query_id -> query \n",
    "    queries_by_id = dict((q[0], q[1]) for q in queries)\n",
    "    metrics = {}\n",
    "    for metric, metric_fn in metric_fns:\n",
    "        metrics[metric] = np.zeros(len(qrels), dtype=np.float32)\n",
    "    \n",
    "    for i, (query_id, relevant_docs) in enumerate(qrels.items()):\n",
    "        query = queries_by_id[query_id]\n",
    "        if index_set:\n",
    "            results = search_fn(query, index_set)\n",
    "        else:\n",
    "            results = search_fn(query)\n",
    "        \n",
    "        for metric, metric_fn in metric_fns:\n",
    "            metrics[metric][i] = metric_fn(results, relevant_docs)\n",
    "\n",
    "    \n",
    "    \n",
    "    final_dict = {}\n",
    "    for metric, metric_vals in metrics.items():\n",
    "        final_dict[metric] = metric_vals.mean()\n",
    "    \n",
    "    return final_dict\n",
    "####"
   ]
  },
  {
   "cell_type": "markdown",
   "metadata": {
    "deletable": false,
    "editable": false,
    "id": "b54ANEqK4IWp",
    "nbgrader": {
     "cell_type": "markdown",
     "checksum": "6ea67534f74a8f81e1f504794f641709",
     "grade": false,
     "grade_id": "cell-b156d83a0649cbb4",
     "locked": true,
     "schema_version": 3,
     "solution": false,
     "task": false
    }
   },
   "source": [
    "## Section 5: Analysis (30 points) <a class=\"anchor\" id=\"analysis\"></a>\n",
    "\n",
    "[Back to Part 1](#part1)\n",
    "\n",
    "In the final section of Part1, we will compare the different term-based IR algorithms and different preprocessing configurations and analyze their advantages and disadvantages.\n",
    "\n",
    "### Section 5.1: Plot (20 points)\n",
    "\n",
    "First, gather the results. The results should consider the index set, the different search functions and different metrics. Plot the results in bar charts, per metric, with clear labels.\n",
    "\n",
    "**Rubric:**\n",
    "- Each Metric is plotted: 7 points\n",
    "- Each Method is plotted: 7 points\n",
    "- Clear titles, x label, y labels and legends (if applicable): 6 points"
   ]
  },
  {
   "cell_type": "code",
   "execution_count": 112,
   "metadata": {
    "ExecuteTime": {
     "end_time": "2021-02-19T10:40:49.123932Z",
     "start_time": "2021-02-19T10:38:39.984609Z"
    },
    "deletable": false,
    "id": "YcKLzbIQ4IWp",
    "nbgrader": {
     "cell_type": "code",
     "checksum": "7e2588a925d13ddf588abe8311dc9cfc",
     "grade": true,
     "grade_id": "cell-46fda42a25863a04",
     "locked": false,
     "points": 20,
     "schema_version": 3,
     "solution": true,
     "task": false
    },
    "scrolled": true,
    "tags": []
   },
   "outputs": [
    {
     "output_type": "display_data",
     "data": {
      "text/plain": "<Figure size 432x288 with 1 Axes>",
      "image/svg+xml": "<?xml version=\"1.0\" encoding=\"utf-8\" standalone=\"no\"?>\r\n<!DOCTYPE svg PUBLIC \"-//W3C//DTD SVG 1.1//EN\"\r\n  \"http://www.w3.org/Graphics/SVG/1.1/DTD/svg11.dtd\">\r\n<!-- Created with matplotlib (https://matplotlib.org/) -->\r\n<svg height=\"306.069702pt\" version=\"1.1\" viewBox=\"0 0 424.49375 306.069702\" width=\"424.49375pt\" xmlns=\"http://www.w3.org/2000/svg\" xmlns:xlink=\"http://www.w3.org/1999/xlink\">\r\n <metadata>\r\n  <rdf:RDF xmlns:cc=\"http://creativecommons.org/ns#\" xmlns:dc=\"http://purl.org/dc/elements/1.1/\" xmlns:rdf=\"http://www.w3.org/1999/02/22-rdf-syntax-ns#\">\r\n   <cc:Work>\r\n    <dc:type rdf:resource=\"http://purl.org/dc/dcmitype/StillImage\"/>\r\n    <dc:date>2021-02-19T17:36:05.534588</dc:date>\r\n    <dc:format>image/svg+xml</dc:format>\r\n    <dc:creator>\r\n     <cc:Agent>\r\n      <dc:title>Matplotlib v3.3.4, https://matplotlib.org/</dc:title>\r\n     </cc:Agent>\r\n    </dc:creator>\r\n   </cc:Work>\r\n  </rdf:RDF>\r\n </metadata>\r\n <defs>\r\n  <style type=\"text/css\">*{stroke-linecap:butt;stroke-linejoin:round;}</style>\r\n </defs>\r\n <g id=\"figure_1\">\r\n  <g id=\"patch_1\">\r\n   <path d=\"M 0 306.069702 \r\nL 424.49375 306.069702 \r\nL 424.49375 0 \r\nL 0 0 \r\nz\r\n\" style=\"fill:none;\"/>\r\n  </g>\r\n  <g id=\"axes_1\">\r\n   <g id=\"patch_2\">\r\n    <path d=\"M 50.14375 241.718125 \r\nL 417.29375 241.718125 \r\nL 417.29375 22.318125 \r\nL 50.14375 22.318125 \r\nz\r\n\" style=\"fill:#ffffff;\"/>\r\n   </g>\r\n   <g id=\"patch_3\">\r\n    <path clip-path=\"url(#p963115a381)\" d=\"M 66.832386 241.718125 \r\nL 91.687802 241.718125 \r\nL 91.687802 139.353092 \r\nL 66.832386 139.353092 \r\nz\r\n\" style=\"fill:#0000ff;opacity:0.8;\"/>\r\n   </g>\r\n   <g id=\"patch_4\">\r\n    <path clip-path=\"url(#p963115a381)\" d=\"M 137.84786 241.718125 \r\nL 162.703276 241.718125 \r\nL 162.703276 91.404876 \r\nL 137.84786 91.404876 \r\nz\r\n\" style=\"fill:#0000ff;opacity:0.8;\"/>\r\n   </g>\r\n   <g id=\"patch_5\">\r\n    <path clip-path=\"url(#p963115a381)\" d=\"M 208.863334 241.718125 \r\nL 233.71875 241.718125 \r\nL 233.71875 226.211345 \r\nL 208.863334 226.211345 \r\nz\r\n\" style=\"fill:#0000ff;opacity:0.8;\"/>\r\n   </g>\r\n   <g id=\"patch_6\">\r\n    <path clip-path=\"url(#p963115a381)\" d=\"M 279.878808 241.718125 \r\nL 304.734224 241.718125 \r\nL 304.734224 89.26828 \r\nL 279.878808 89.26828 \r\nz\r\n\" style=\"fill:#0000ff;opacity:0.8;\"/>\r\n   </g>\r\n   <g id=\"patch_7\">\r\n    <path clip-path=\"url(#p963115a381)\" d=\"M 350.894282 241.718125 \r\nL 375.749698 241.718125 \r\nL 375.749698 58.076766 \r\nL 350.894282 58.076766 \r\nz\r\n\" style=\"fill:#0000ff;opacity:0.8;\"/>\r\n   </g>\r\n   <g id=\"patch_8\">\r\n    <path clip-path=\"url(#p963115a381)\" d=\"M 91.687802 241.718125 \r\nL 116.543218 241.718125 \r\nL 116.543218 119.538279 \r\nL 91.687802 119.538279 \r\nz\r\n\" style=\"fill:#008000;opacity:0.8;\"/>\r\n   </g>\r\n   <g id=\"patch_9\">\r\n    <path clip-path=\"url(#p963115a381)\" d=\"M 162.703276 241.718125 \r\nL 187.558692 241.718125 \r\nL 187.558692 83.472002 \r\nL 162.703276 83.472002 \r\nz\r\n\" style=\"fill:#008000;opacity:0.8;\"/>\r\n   </g>\r\n   <g id=\"patch_10\">\r\n    <path clip-path=\"url(#p963115a381)\" d=\"M 233.71875 241.718125 \r\nL 258.574166 241.718125 \r\nL 258.574166 210.193316 \r\nL 233.71875 210.193316 \r\nz\r\n\" style=\"fill:#008000;opacity:0.8;\"/>\r\n   </g>\r\n   <g id=\"patch_11\">\r\n    <path clip-path=\"url(#p963115a381)\" d=\"M 304.734224 241.718125 \r\nL 329.58964 241.718125 \r\nL 329.58964 64.427883 \r\nL 304.734224 64.427883 \r\nz\r\n\" style=\"fill:#008000;opacity:0.8;\"/>\r\n   </g>\r\n   <g id=\"patch_12\">\r\n    <path clip-path=\"url(#p963115a381)\" d=\"M 375.749698 241.718125 \r\nL 400.605114 241.718125 \r\nL 400.605114 32.765744 \r\nL 375.749698 32.765744 \r\nz\r\n\" style=\"fill:#008000;opacity:0.8;\"/>\r\n   </g>\r\n   <g id=\"matplotlib.axis_1\">\r\n    <g id=\"xtick_1\">\r\n     <g id=\"line2d_1\">\r\n      <defs>\r\n       <path d=\"M 0 0 \r\nL 0 3.5 \r\n\" id=\"m65ae16f659\" style=\"stroke:#000000;stroke-width:0.8;\"/>\r\n      </defs>\r\n      <g>\r\n       <use style=\"stroke:#000000;stroke-width:0.8;\" x=\"104.11551\" xlink:href=\"#m65ae16f659\" y=\"241.718125\"/>\r\n      </g>\r\n     </g>\r\n     <g id=\"text_1\">\r\n      <!-- BOW -->\r\n      <g transform=\"translate(97.42396 271.376478)rotate(-45)scale(0.1 -0.1)\">\r\n       <defs>\r\n        <path d=\"M 19.671875 34.8125 \r\nL 19.671875 8.109375 \r\nL 35.5 8.109375 \r\nQ 43.453125 8.109375 47.28125 11.40625 \r\nQ 51.125 14.703125 51.125 21.484375 \r\nQ 51.125 28.328125 47.28125 31.5625 \r\nQ 43.453125 34.8125 35.5 34.8125 \r\nz\r\nM 19.671875 64.796875 \r\nL 19.671875 42.828125 \r\nL 34.28125 42.828125 \r\nQ 41.5 42.828125 45.03125 45.53125 \r\nQ 48.578125 48.25 48.578125 53.8125 \r\nQ 48.578125 59.328125 45.03125 62.0625 \r\nQ 41.5 64.796875 34.28125 64.796875 \r\nz\r\nM 9.8125 72.90625 \r\nL 35.015625 72.90625 \r\nQ 46.296875 72.90625 52.390625 68.21875 \r\nQ 58.5 63.53125 58.5 54.890625 \r\nQ 58.5 48.1875 55.375 44.234375 \r\nQ 52.25 40.28125 46.1875 39.3125 \r\nQ 53.46875 37.75 57.5 32.78125 \r\nQ 61.53125 27.828125 61.53125 20.40625 \r\nQ 61.53125 10.640625 54.890625 5.3125 \r\nQ 48.25 0 35.984375 0 \r\nL 9.8125 0 \r\nz\r\n\" id=\"DejaVuSans-66\"/>\r\n        <path d=\"M 39.40625 66.21875 \r\nQ 28.65625 66.21875 22.328125 58.203125 \r\nQ 16.015625 50.203125 16.015625 36.375 \r\nQ 16.015625 22.609375 22.328125 14.59375 \r\nQ 28.65625 6.59375 39.40625 6.59375 \r\nQ 50.140625 6.59375 56.421875 14.59375 \r\nQ 62.703125 22.609375 62.703125 36.375 \r\nQ 62.703125 50.203125 56.421875 58.203125 \r\nQ 50.140625 66.21875 39.40625 66.21875 \r\nz\r\nM 39.40625 74.21875 \r\nQ 54.734375 74.21875 63.90625 63.9375 \r\nQ 73.09375 53.65625 73.09375 36.375 \r\nQ 73.09375 19.140625 63.90625 8.859375 \r\nQ 54.734375 -1.421875 39.40625 -1.421875 \r\nQ 24.03125 -1.421875 14.8125 8.828125 \r\nQ 5.609375 19.09375 5.609375 36.375 \r\nQ 5.609375 53.65625 14.8125 63.9375 \r\nQ 24.03125 74.21875 39.40625 74.21875 \r\nz\r\n\" id=\"DejaVuSans-79\"/>\r\n        <path d=\"M 3.328125 72.90625 \r\nL 13.28125 72.90625 \r\nL 28.609375 11.28125 \r\nL 43.890625 72.90625 \r\nL 54.984375 72.90625 \r\nL 70.3125 11.28125 \r\nL 85.59375 72.90625 \r\nL 95.609375 72.90625 \r\nL 77.296875 0 \r\nL 64.890625 0 \r\nL 49.515625 63.28125 \r\nL 33.984375 0 \r\nL 21.578125 0 \r\nz\r\n\" id=\"DejaVuSans-87\"/>\r\n       </defs>\r\n       <use xlink:href=\"#DejaVuSans-66\"/>\r\n       <use x=\"66.853516\" xlink:href=\"#DejaVuSans-79\"/>\r\n       <use x=\"145.564453\" xlink:href=\"#DejaVuSans-87\"/>\r\n      </g>\r\n     </g>\r\n    </g>\r\n    <g id=\"xtick_2\">\r\n     <g id=\"line2d_2\">\r\n      <g>\r\n       <use style=\"stroke:#000000;stroke-width:0.8;\" x=\"175.130984\" xlink:href=\"#m65ae16f659\" y=\"241.718125\"/>\r\n      </g>\r\n     </g>\r\n     <g id=\"text_2\">\r\n      <!-- TF-IDF -->\r\n      <g transform=\"translate(165.814852 276.625641)rotate(-45)scale(0.1 -0.1)\">\r\n       <defs>\r\n        <path d=\"M -0.296875 72.90625 \r\nL 61.375 72.90625 \r\nL 61.375 64.59375 \r\nL 35.5 64.59375 \r\nL 35.5 0 \r\nL 25.59375 0 \r\nL 25.59375 64.59375 \r\nL -0.296875 64.59375 \r\nz\r\n\" id=\"DejaVuSans-84\"/>\r\n        <path d=\"M 9.8125 72.90625 \r\nL 51.703125 72.90625 \r\nL 51.703125 64.59375 \r\nL 19.671875 64.59375 \r\nL 19.671875 43.109375 \r\nL 48.578125 43.109375 \r\nL 48.578125 34.8125 \r\nL 19.671875 34.8125 \r\nL 19.671875 0 \r\nL 9.8125 0 \r\nz\r\n\" id=\"DejaVuSans-70\"/>\r\n        <path d=\"M 4.890625 31.390625 \r\nL 31.203125 31.390625 \r\nL 31.203125 23.390625 \r\nL 4.890625 23.390625 \r\nz\r\n\" id=\"DejaVuSans-45\"/>\r\n        <path d=\"M 9.8125 72.90625 \r\nL 19.671875 72.90625 \r\nL 19.671875 0 \r\nL 9.8125 0 \r\nz\r\n\" id=\"DejaVuSans-73\"/>\r\n        <path d=\"M 19.671875 64.796875 \r\nL 19.671875 8.109375 \r\nL 31.59375 8.109375 \r\nQ 46.6875 8.109375 53.6875 14.9375 \r\nQ 60.6875 21.78125 60.6875 36.53125 \r\nQ 60.6875 51.171875 53.6875 57.984375 \r\nQ 46.6875 64.796875 31.59375 64.796875 \r\nz\r\nM 9.8125 72.90625 \r\nL 30.078125 72.90625 \r\nQ 51.265625 72.90625 61.171875 64.09375 \r\nQ 71.09375 55.28125 71.09375 36.53125 \r\nQ 71.09375 17.671875 61.125 8.828125 \r\nQ 51.171875 0 30.078125 0 \r\nL 9.8125 0 \r\nz\r\n\" id=\"DejaVuSans-68\"/>\r\n       </defs>\r\n       <use xlink:href=\"#DejaVuSans-84\"/>\r\n       <use x=\"61.083984\" xlink:href=\"#DejaVuSans-70\"/>\r\n       <use x=\"118.603516\" xlink:href=\"#DejaVuSans-45\"/>\r\n       <use x=\"154.6875\" xlink:href=\"#DejaVuSans-73\"/>\r\n       <use x=\"184.179688\" xlink:href=\"#DejaVuSans-68\"/>\r\n       <use x=\"261.181641\" xlink:href=\"#DejaVuSans-70\"/>\r\n      </g>\r\n     </g>\r\n    </g>\r\n    <g id=\"xtick_3\">\r\n     <g id=\"line2d_3\">\r\n      <g>\r\n       <use style=\"stroke:#000000;stroke-width:0.8;\" x=\"246.146458\" xlink:href=\"#m65ae16f659\" y=\"241.718125\"/>\r\n      </g>\r\n     </g>\r\n     <g id=\"text_3\">\r\n      <!-- NaiveQL -->\r\n      <g transform=\"translate(233.282639 283.721016)rotate(-45)scale(0.1 -0.1)\">\r\n       <defs>\r\n        <path d=\"M 9.8125 72.90625 \r\nL 23.09375 72.90625 \r\nL 55.421875 11.921875 \r\nL 55.421875 72.90625 \r\nL 64.984375 72.90625 \r\nL 64.984375 0 \r\nL 51.703125 0 \r\nL 19.390625 60.984375 \r\nL 19.390625 0 \r\nL 9.8125 0 \r\nz\r\n\" id=\"DejaVuSans-78\"/>\r\n        <path d=\"M 34.28125 27.484375 \r\nQ 23.390625 27.484375 19.1875 25 \r\nQ 14.984375 22.515625 14.984375 16.5 \r\nQ 14.984375 11.71875 18.140625 8.90625 \r\nQ 21.296875 6.109375 26.703125 6.109375 \r\nQ 34.1875 6.109375 38.703125 11.40625 \r\nQ 43.21875 16.703125 43.21875 25.484375 \r\nL 43.21875 27.484375 \r\nz\r\nM 52.203125 31.203125 \r\nL 52.203125 0 \r\nL 43.21875 0 \r\nL 43.21875 8.296875 \r\nQ 40.140625 3.328125 35.546875 0.953125 \r\nQ 30.953125 -1.421875 24.3125 -1.421875 \r\nQ 15.921875 -1.421875 10.953125 3.296875 \r\nQ 6 8.015625 6 15.921875 \r\nQ 6 25.140625 12.171875 29.828125 \r\nQ 18.359375 34.515625 30.609375 34.515625 \r\nL 43.21875 34.515625 \r\nL 43.21875 35.40625 \r\nQ 43.21875 41.609375 39.140625 45 \r\nQ 35.0625 48.390625 27.6875 48.390625 \r\nQ 23 48.390625 18.546875 47.265625 \r\nQ 14.109375 46.140625 10.015625 43.890625 \r\nL 10.015625 52.203125 \r\nQ 14.9375 54.109375 19.578125 55.046875 \r\nQ 24.21875 56 28.609375 56 \r\nQ 40.484375 56 46.34375 49.84375 \r\nQ 52.203125 43.703125 52.203125 31.203125 \r\nz\r\n\" id=\"DejaVuSans-97\"/>\r\n        <path d=\"M 9.421875 54.6875 \r\nL 18.40625 54.6875 \r\nL 18.40625 0 \r\nL 9.421875 0 \r\nz\r\nM 9.421875 75.984375 \r\nL 18.40625 75.984375 \r\nL 18.40625 64.59375 \r\nL 9.421875 64.59375 \r\nz\r\n\" id=\"DejaVuSans-105\"/>\r\n        <path d=\"M 2.984375 54.6875 \r\nL 12.5 54.6875 \r\nL 29.59375 8.796875 \r\nL 46.6875 54.6875 \r\nL 56.203125 54.6875 \r\nL 35.6875 0 \r\nL 23.484375 0 \r\nz\r\n\" id=\"DejaVuSans-118\"/>\r\n        <path d=\"M 56.203125 29.59375 \r\nL 56.203125 25.203125 \r\nL 14.890625 25.203125 \r\nQ 15.484375 15.921875 20.484375 11.0625 \r\nQ 25.484375 6.203125 34.421875 6.203125 \r\nQ 39.59375 6.203125 44.453125 7.46875 \r\nQ 49.3125 8.734375 54.109375 11.28125 \r\nL 54.109375 2.78125 \r\nQ 49.265625 0.734375 44.1875 -0.34375 \r\nQ 39.109375 -1.421875 33.890625 -1.421875 \r\nQ 20.796875 -1.421875 13.15625 6.1875 \r\nQ 5.515625 13.8125 5.515625 26.8125 \r\nQ 5.515625 40.234375 12.765625 48.109375 \r\nQ 20.015625 56 32.328125 56 \r\nQ 43.359375 56 49.78125 48.890625 \r\nQ 56.203125 41.796875 56.203125 29.59375 \r\nz\r\nM 47.21875 32.234375 \r\nQ 47.125 39.59375 43.09375 43.984375 \r\nQ 39.0625 48.390625 32.421875 48.390625 \r\nQ 24.90625 48.390625 20.390625 44.140625 \r\nQ 15.875 39.890625 15.1875 32.171875 \r\nz\r\n\" id=\"DejaVuSans-101\"/>\r\n        <path d=\"M 39.40625 66.21875 \r\nQ 28.65625 66.21875 22.328125 58.203125 \r\nQ 16.015625 50.203125 16.015625 36.375 \r\nQ 16.015625 22.609375 22.328125 14.59375 \r\nQ 28.65625 6.59375 39.40625 6.59375 \r\nQ 50.140625 6.59375 56.421875 14.59375 \r\nQ 62.703125 22.609375 62.703125 36.375 \r\nQ 62.703125 50.203125 56.421875 58.203125 \r\nQ 50.140625 66.21875 39.40625 66.21875 \r\nz\r\nM 53.21875 1.3125 \r\nL 66.21875 -12.890625 \r\nL 54.296875 -12.890625 \r\nL 43.5 -1.21875 \r\nQ 41.890625 -1.3125 41.03125 -1.359375 \r\nQ 40.1875 -1.421875 39.40625 -1.421875 \r\nQ 24.03125 -1.421875 14.8125 8.859375 \r\nQ 5.609375 19.140625 5.609375 36.375 \r\nQ 5.609375 53.65625 14.8125 63.9375 \r\nQ 24.03125 74.21875 39.40625 74.21875 \r\nQ 54.734375 74.21875 63.90625 63.9375 \r\nQ 73.09375 53.65625 73.09375 36.375 \r\nQ 73.09375 23.6875 67.984375 14.640625 \r\nQ 62.890625 5.609375 53.21875 1.3125 \r\nz\r\n\" id=\"DejaVuSans-81\"/>\r\n        <path d=\"M 9.8125 72.90625 \r\nL 19.671875 72.90625 \r\nL 19.671875 8.296875 \r\nL 55.171875 8.296875 \r\nL 55.171875 0 \r\nL 9.8125 0 \r\nz\r\n\" id=\"DejaVuSans-76\"/>\r\n       </defs>\r\n       <use xlink:href=\"#DejaVuSans-78\"/>\r\n       <use x=\"74.804688\" xlink:href=\"#DejaVuSans-97\"/>\r\n       <use x=\"136.083984\" xlink:href=\"#DejaVuSans-105\"/>\r\n       <use x=\"163.867188\" xlink:href=\"#DejaVuSans-118\"/>\r\n       <use x=\"223.046875\" xlink:href=\"#DejaVuSans-101\"/>\r\n       <use x=\"284.570312\" xlink:href=\"#DejaVuSans-81\"/>\r\n       <use x=\"363.28125\" xlink:href=\"#DejaVuSans-76\"/>\r\n      </g>\r\n     </g>\r\n    </g>\r\n    <g id=\"xtick_4\">\r\n     <g id=\"line2d_4\">\r\n      <g>\r\n       <use style=\"stroke:#000000;stroke-width:0.8;\" x=\"317.161932\" xlink:href=\"#m65ae16f659\" y=\"241.718125\"/>\r\n      </g>\r\n     </g>\r\n     <g id=\"text_4\">\r\n      <!-- QL -->\r\n      <g transform=\"translate(314.360021 263.597198)rotate(-45)scale(0.1 -0.1)\">\r\n       <use xlink:href=\"#DejaVuSans-81\"/>\r\n       <use x=\"78.710938\" xlink:href=\"#DejaVuSans-76\"/>\r\n      </g>\r\n     </g>\r\n    </g>\r\n    <g id=\"xtick_5\">\r\n     <g id=\"line2d_5\">\r\n      <g>\r\n       <use style=\"stroke:#000000;stroke-width:0.8;\" x=\"388.177406\" xlink:href=\"#m65ae16f659\" y=\"241.718125\"/>\r\n      </g>\r\n     </g>\r\n     <g id=\"text_5\">\r\n      <!-- BM25 -->\r\n      <g transform=\"translate(380.153401 274.041387)rotate(-45)scale(0.1 -0.1)\">\r\n       <defs>\r\n        <path d=\"M 9.8125 72.90625 \r\nL 24.515625 72.90625 \r\nL 43.109375 23.296875 \r\nL 61.8125 72.90625 \r\nL 76.515625 72.90625 \r\nL 76.515625 0 \r\nL 66.890625 0 \r\nL 66.890625 64.015625 \r\nL 48.09375 14.015625 \r\nL 38.1875 14.015625 \r\nL 19.390625 64.015625 \r\nL 19.390625 0 \r\nL 9.8125 0 \r\nz\r\n\" id=\"DejaVuSans-77\"/>\r\n        <path d=\"M 19.1875 8.296875 \r\nL 53.609375 8.296875 \r\nL 53.609375 0 \r\nL 7.328125 0 \r\nL 7.328125 8.296875 \r\nQ 12.9375 14.109375 22.625 23.890625 \r\nQ 32.328125 33.6875 34.8125 36.53125 \r\nQ 39.546875 41.84375 41.421875 45.53125 \r\nQ 43.3125 49.21875 43.3125 52.78125 \r\nQ 43.3125 58.59375 39.234375 62.25 \r\nQ 35.15625 65.921875 28.609375 65.921875 \r\nQ 23.96875 65.921875 18.8125 64.3125 \r\nQ 13.671875 62.703125 7.8125 59.421875 \r\nL 7.8125 69.390625 \r\nQ 13.765625 71.78125 18.9375 73 \r\nQ 24.125 74.21875 28.421875 74.21875 \r\nQ 39.75 74.21875 46.484375 68.546875 \r\nQ 53.21875 62.890625 53.21875 53.421875 \r\nQ 53.21875 48.921875 51.53125 44.890625 \r\nQ 49.859375 40.875 45.40625 35.40625 \r\nQ 44.1875 33.984375 37.640625 27.21875 \r\nQ 31.109375 20.453125 19.1875 8.296875 \r\nz\r\n\" id=\"DejaVuSans-50\"/>\r\n        <path d=\"M 10.796875 72.90625 \r\nL 49.515625 72.90625 \r\nL 49.515625 64.59375 \r\nL 19.828125 64.59375 \r\nL 19.828125 46.734375 \r\nQ 21.96875 47.46875 24.109375 47.828125 \r\nQ 26.265625 48.1875 28.421875 48.1875 \r\nQ 40.625 48.1875 47.75 41.5 \r\nQ 54.890625 34.8125 54.890625 23.390625 \r\nQ 54.890625 11.625 47.5625 5.09375 \r\nQ 40.234375 -1.421875 26.90625 -1.421875 \r\nQ 22.3125 -1.421875 17.546875 -0.640625 \r\nQ 12.796875 0.140625 7.71875 1.703125 \r\nL 7.71875 11.625 \r\nQ 12.109375 9.234375 16.796875 8.0625 \r\nQ 21.484375 6.890625 26.703125 6.890625 \r\nQ 35.15625 6.890625 40.078125 11.328125 \r\nQ 45.015625 15.765625 45.015625 23.390625 \r\nQ 45.015625 31 40.078125 35.4375 \r\nQ 35.15625 39.890625 26.703125 39.890625 \r\nQ 22.75 39.890625 18.8125 39.015625 \r\nQ 14.890625 38.140625 10.796875 36.28125 \r\nz\r\n\" id=\"DejaVuSans-53\"/>\r\n       </defs>\r\n       <use xlink:href=\"#DejaVuSans-66\"/>\r\n       <use x=\"68.603516\" xlink:href=\"#DejaVuSans-77\"/>\r\n       <use x=\"154.882812\" xlink:href=\"#DejaVuSans-50\"/>\r\n       <use x=\"218.505859\" xlink:href=\"#DejaVuSans-53\"/>\r\n      </g>\r\n     </g>\r\n    </g>\r\n    <g id=\"text_6\">\r\n     <!-- Search functions -->\r\n     <g transform=\"translate(191.925 296.790014)scale(0.1 -0.1)\">\r\n      <defs>\r\n       <path d=\"M 53.515625 70.515625 \r\nL 53.515625 60.890625 \r\nQ 47.90625 63.578125 42.921875 64.890625 \r\nQ 37.9375 66.21875 33.296875 66.21875 \r\nQ 25.25 66.21875 20.875 63.09375 \r\nQ 16.5 59.96875 16.5 54.203125 \r\nQ 16.5 49.359375 19.40625 46.890625 \r\nQ 22.3125 44.4375 30.421875 42.921875 \r\nL 36.375 41.703125 \r\nQ 47.40625 39.59375 52.65625 34.296875 \r\nQ 57.90625 29 57.90625 20.125 \r\nQ 57.90625 9.515625 50.796875 4.046875 \r\nQ 43.703125 -1.421875 29.984375 -1.421875 \r\nQ 24.8125 -1.421875 18.96875 -0.25 \r\nQ 13.140625 0.921875 6.890625 3.21875 \r\nL 6.890625 13.375 \r\nQ 12.890625 10.015625 18.65625 8.296875 \r\nQ 24.421875 6.59375 29.984375 6.59375 \r\nQ 38.421875 6.59375 43.015625 9.90625 \r\nQ 47.609375 13.234375 47.609375 19.390625 \r\nQ 47.609375 24.75 44.3125 27.78125 \r\nQ 41.015625 30.8125 33.5 32.328125 \r\nL 27.484375 33.5 \r\nQ 16.453125 35.6875 11.515625 40.375 \r\nQ 6.59375 45.0625 6.59375 53.421875 \r\nQ 6.59375 63.09375 13.40625 68.65625 \r\nQ 20.21875 74.21875 32.171875 74.21875 \r\nQ 37.3125 74.21875 42.625 73.28125 \r\nQ 47.953125 72.359375 53.515625 70.515625 \r\nz\r\n\" id=\"DejaVuSans-83\"/>\r\n       <path d=\"M 41.109375 46.296875 \r\nQ 39.59375 47.171875 37.8125 47.578125 \r\nQ 36.03125 48 33.890625 48 \r\nQ 26.265625 48 22.1875 43.046875 \r\nQ 18.109375 38.09375 18.109375 28.8125 \r\nL 18.109375 0 \r\nL 9.078125 0 \r\nL 9.078125 54.6875 \r\nL 18.109375 54.6875 \r\nL 18.109375 46.1875 \r\nQ 20.953125 51.171875 25.484375 53.578125 \r\nQ 30.03125 56 36.53125 56 \r\nQ 37.453125 56 38.578125 55.875 \r\nQ 39.703125 55.765625 41.0625 55.515625 \r\nz\r\n\" id=\"DejaVuSans-114\"/>\r\n       <path d=\"M 48.78125 52.59375 \r\nL 48.78125 44.1875 \r\nQ 44.96875 46.296875 41.140625 47.34375 \r\nQ 37.3125 48.390625 33.40625 48.390625 \r\nQ 24.65625 48.390625 19.8125 42.84375 \r\nQ 14.984375 37.3125 14.984375 27.296875 \r\nQ 14.984375 17.28125 19.8125 11.734375 \r\nQ 24.65625 6.203125 33.40625 6.203125 \r\nQ 37.3125 6.203125 41.140625 7.25 \r\nQ 44.96875 8.296875 48.78125 10.40625 \r\nL 48.78125 2.09375 \r\nQ 45.015625 0.34375 40.984375 -0.53125 \r\nQ 36.96875 -1.421875 32.421875 -1.421875 \r\nQ 20.0625 -1.421875 12.78125 6.34375 \r\nQ 5.515625 14.109375 5.515625 27.296875 \r\nQ 5.515625 40.671875 12.859375 48.328125 \r\nQ 20.21875 56 33.015625 56 \r\nQ 37.15625 56 41.109375 55.140625 \r\nQ 45.0625 54.296875 48.78125 52.59375 \r\nz\r\n\" id=\"DejaVuSans-99\"/>\r\n       <path d=\"M 54.890625 33.015625 \r\nL 54.890625 0 \r\nL 45.90625 0 \r\nL 45.90625 32.71875 \r\nQ 45.90625 40.484375 42.875 44.328125 \r\nQ 39.84375 48.1875 33.796875 48.1875 \r\nQ 26.515625 48.1875 22.3125 43.546875 \r\nQ 18.109375 38.921875 18.109375 30.90625 \r\nL 18.109375 0 \r\nL 9.078125 0 \r\nL 9.078125 75.984375 \r\nL 18.109375 75.984375 \r\nL 18.109375 46.1875 \r\nQ 21.34375 51.125 25.703125 53.5625 \r\nQ 30.078125 56 35.796875 56 \r\nQ 45.21875 56 50.046875 50.171875 \r\nQ 54.890625 44.34375 54.890625 33.015625 \r\nz\r\n\" id=\"DejaVuSans-104\"/>\r\n       <path id=\"DejaVuSans-32\"/>\r\n       <path d=\"M 37.109375 75.984375 \r\nL 37.109375 68.5 \r\nL 28.515625 68.5 \r\nQ 23.6875 68.5 21.796875 66.546875 \r\nQ 19.921875 64.59375 19.921875 59.515625 \r\nL 19.921875 54.6875 \r\nL 34.71875 54.6875 \r\nL 34.71875 47.703125 \r\nL 19.921875 47.703125 \r\nL 19.921875 0 \r\nL 10.890625 0 \r\nL 10.890625 47.703125 \r\nL 2.296875 47.703125 \r\nL 2.296875 54.6875 \r\nL 10.890625 54.6875 \r\nL 10.890625 58.5 \r\nQ 10.890625 67.625 15.140625 71.796875 \r\nQ 19.390625 75.984375 28.609375 75.984375 \r\nz\r\n\" id=\"DejaVuSans-102\"/>\r\n       <path d=\"M 8.5 21.578125 \r\nL 8.5 54.6875 \r\nL 17.484375 54.6875 \r\nL 17.484375 21.921875 \r\nQ 17.484375 14.15625 20.5 10.265625 \r\nQ 23.53125 6.390625 29.59375 6.390625 \r\nQ 36.859375 6.390625 41.078125 11.03125 \r\nQ 45.3125 15.671875 45.3125 23.6875 \r\nL 45.3125 54.6875 \r\nL 54.296875 54.6875 \r\nL 54.296875 0 \r\nL 45.3125 0 \r\nL 45.3125 8.40625 \r\nQ 42.046875 3.421875 37.71875 1 \r\nQ 33.40625 -1.421875 27.6875 -1.421875 \r\nQ 18.265625 -1.421875 13.375 4.4375 \r\nQ 8.5 10.296875 8.5 21.578125 \r\nz\r\nM 31.109375 56 \r\nz\r\n\" id=\"DejaVuSans-117\"/>\r\n       <path d=\"M 54.890625 33.015625 \r\nL 54.890625 0 \r\nL 45.90625 0 \r\nL 45.90625 32.71875 \r\nQ 45.90625 40.484375 42.875 44.328125 \r\nQ 39.84375 48.1875 33.796875 48.1875 \r\nQ 26.515625 48.1875 22.3125 43.546875 \r\nQ 18.109375 38.921875 18.109375 30.90625 \r\nL 18.109375 0 \r\nL 9.078125 0 \r\nL 9.078125 54.6875 \r\nL 18.109375 54.6875 \r\nL 18.109375 46.1875 \r\nQ 21.34375 51.125 25.703125 53.5625 \r\nQ 30.078125 56 35.796875 56 \r\nQ 45.21875 56 50.046875 50.171875 \r\nQ 54.890625 44.34375 54.890625 33.015625 \r\nz\r\n\" id=\"DejaVuSans-110\"/>\r\n       <path d=\"M 18.3125 70.21875 \r\nL 18.3125 54.6875 \r\nL 36.8125 54.6875 \r\nL 36.8125 47.703125 \r\nL 18.3125 47.703125 \r\nL 18.3125 18.015625 \r\nQ 18.3125 11.328125 20.140625 9.421875 \r\nQ 21.96875 7.515625 27.59375 7.515625 \r\nL 36.8125 7.515625 \r\nL 36.8125 0 \r\nL 27.59375 0 \r\nQ 17.1875 0 13.234375 3.875 \r\nQ 9.28125 7.765625 9.28125 18.015625 \r\nL 9.28125 47.703125 \r\nL 2.6875 47.703125 \r\nL 2.6875 54.6875 \r\nL 9.28125 54.6875 \r\nL 9.28125 70.21875 \r\nz\r\n\" id=\"DejaVuSans-116\"/>\r\n       <path d=\"M 30.609375 48.390625 \r\nQ 23.390625 48.390625 19.1875 42.75 \r\nQ 14.984375 37.109375 14.984375 27.296875 \r\nQ 14.984375 17.484375 19.15625 11.84375 \r\nQ 23.34375 6.203125 30.609375 6.203125 \r\nQ 37.796875 6.203125 41.984375 11.859375 \r\nQ 46.1875 17.53125 46.1875 27.296875 \r\nQ 46.1875 37.015625 41.984375 42.703125 \r\nQ 37.796875 48.390625 30.609375 48.390625 \r\nz\r\nM 30.609375 56 \r\nQ 42.328125 56 49.015625 48.375 \r\nQ 55.71875 40.765625 55.71875 27.296875 \r\nQ 55.71875 13.875 49.015625 6.21875 \r\nQ 42.328125 -1.421875 30.609375 -1.421875 \r\nQ 18.84375 -1.421875 12.171875 6.21875 \r\nQ 5.515625 13.875 5.515625 27.296875 \r\nQ 5.515625 40.765625 12.171875 48.375 \r\nQ 18.84375 56 30.609375 56 \r\nz\r\n\" id=\"DejaVuSans-111\"/>\r\n       <path d=\"M 44.28125 53.078125 \r\nL 44.28125 44.578125 \r\nQ 40.484375 46.53125 36.375 47.5 \r\nQ 32.28125 48.484375 27.875 48.484375 \r\nQ 21.1875 48.484375 17.84375 46.4375 \r\nQ 14.5 44.390625 14.5 40.28125 \r\nQ 14.5 37.15625 16.890625 35.375 \r\nQ 19.28125 33.59375 26.515625 31.984375 \r\nL 29.59375 31.296875 \r\nQ 39.15625 29.25 43.1875 25.515625 \r\nQ 47.21875 21.78125 47.21875 15.09375 \r\nQ 47.21875 7.46875 41.1875 3.015625 \r\nQ 35.15625 -1.421875 24.609375 -1.421875 \r\nQ 20.21875 -1.421875 15.453125 -0.5625 \r\nQ 10.6875 0.296875 5.421875 2 \r\nL 5.421875 11.28125 \r\nQ 10.40625 8.6875 15.234375 7.390625 \r\nQ 20.0625 6.109375 24.8125 6.109375 \r\nQ 31.15625 6.109375 34.5625 8.28125 \r\nQ 37.984375 10.453125 37.984375 14.40625 \r\nQ 37.984375 18.0625 35.515625 20.015625 \r\nQ 33.0625 21.96875 24.703125 23.78125 \r\nL 21.578125 24.515625 \r\nQ 13.234375 26.265625 9.515625 29.90625 \r\nQ 5.8125 33.546875 5.8125 39.890625 \r\nQ 5.8125 47.609375 11.28125 51.796875 \r\nQ 16.75 56 26.8125 56 \r\nQ 31.78125 56 36.171875 55.265625 \r\nQ 40.578125 54.546875 44.28125 53.078125 \r\nz\r\n\" id=\"DejaVuSans-115\"/>\r\n      </defs>\r\n      <use xlink:href=\"#DejaVuSans-83\"/>\r\n      <use x=\"63.476562\" xlink:href=\"#DejaVuSans-101\"/>\r\n      <use x=\"125\" xlink:href=\"#DejaVuSans-97\"/>\r\n      <use x=\"186.279297\" xlink:href=\"#DejaVuSans-114\"/>\r\n      <use x=\"225.142578\" xlink:href=\"#DejaVuSans-99\"/>\r\n      <use x=\"280.123047\" xlink:href=\"#DejaVuSans-104\"/>\r\n      <use x=\"343.501953\" xlink:href=\"#DejaVuSans-32\"/>\r\n      <use x=\"375.289062\" xlink:href=\"#DejaVuSans-102\"/>\r\n      <use x=\"410.494141\" xlink:href=\"#DejaVuSans-117\"/>\r\n      <use x=\"473.873047\" xlink:href=\"#DejaVuSans-110\"/>\r\n      <use x=\"537.251953\" xlink:href=\"#DejaVuSans-99\"/>\r\n      <use x=\"592.232422\" xlink:href=\"#DejaVuSans-116\"/>\r\n      <use x=\"631.441406\" xlink:href=\"#DejaVuSans-105\"/>\r\n      <use x=\"659.224609\" xlink:href=\"#DejaVuSans-111\"/>\r\n      <use x=\"720.40625\" xlink:href=\"#DejaVuSans-110\"/>\r\n      <use x=\"783.785156\" xlink:href=\"#DejaVuSans-115\"/>\r\n     </g>\r\n    </g>\r\n   </g>\r\n   <g id=\"matplotlib.axis_2\">\r\n    <g id=\"ytick_1\">\r\n     <g id=\"line2d_6\">\r\n      <defs>\r\n       <path d=\"M 0 0 \r\nL -3.5 0 \r\n\" id=\"me8a5f79773\" style=\"stroke:#000000;stroke-width:0.8;\"/>\r\n      </defs>\r\n      <g>\r\n       <use style=\"stroke:#000000;stroke-width:0.8;\" x=\"50.14375\" xlink:href=\"#me8a5f79773\" y=\"241.718125\"/>\r\n      </g>\r\n     </g>\r\n     <g id=\"text_7\">\r\n      <!-- 0.00 -->\r\n      <g transform=\"translate(20.878125 245.517344)scale(0.1 -0.1)\">\r\n       <defs>\r\n        <path d=\"M 31.78125 66.40625 \r\nQ 24.171875 66.40625 20.328125 58.90625 \r\nQ 16.5 51.421875 16.5 36.375 \r\nQ 16.5 21.390625 20.328125 13.890625 \r\nQ 24.171875 6.390625 31.78125 6.390625 \r\nQ 39.453125 6.390625 43.28125 13.890625 \r\nQ 47.125 21.390625 47.125 36.375 \r\nQ 47.125 51.421875 43.28125 58.90625 \r\nQ 39.453125 66.40625 31.78125 66.40625 \r\nz\r\nM 31.78125 74.21875 \r\nQ 44.046875 74.21875 50.515625 64.515625 \r\nQ 56.984375 54.828125 56.984375 36.375 \r\nQ 56.984375 17.96875 50.515625 8.265625 \r\nQ 44.046875 -1.421875 31.78125 -1.421875 \r\nQ 19.53125 -1.421875 13.0625 8.265625 \r\nQ 6.59375 17.96875 6.59375 36.375 \r\nQ 6.59375 54.828125 13.0625 64.515625 \r\nQ 19.53125 74.21875 31.78125 74.21875 \r\nz\r\n\" id=\"DejaVuSans-48\"/>\r\n        <path d=\"M 10.6875 12.40625 \r\nL 21 12.40625 \r\nL 21 0 \r\nL 10.6875 0 \r\nz\r\n\" id=\"DejaVuSans-46\"/>\r\n       </defs>\r\n       <use xlink:href=\"#DejaVuSans-48\"/>\r\n       <use x=\"63.623047\" xlink:href=\"#DejaVuSans-46\"/>\r\n       <use x=\"95.410156\" xlink:href=\"#DejaVuSans-48\"/>\r\n       <use x=\"159.033203\" xlink:href=\"#DejaVuSans-48\"/>\r\n      </g>\r\n     </g>\r\n    </g>\r\n    <g id=\"ytick_2\">\r\n     <g id=\"line2d_7\">\r\n      <g>\r\n       <use style=\"stroke:#000000;stroke-width:0.8;\" x=\"50.14375\" xlink:href=\"#me8a5f79773\" y=\"217.090742\"/>\r\n      </g>\r\n     </g>\r\n     <g id=\"text_8\">\r\n      <!-- 0.05 -->\r\n      <g transform=\"translate(20.878125 220.889961)scale(0.1 -0.1)\">\r\n       <use xlink:href=\"#DejaVuSans-48\"/>\r\n       <use x=\"63.623047\" xlink:href=\"#DejaVuSans-46\"/>\r\n       <use x=\"95.410156\" xlink:href=\"#DejaVuSans-48\"/>\r\n       <use x=\"159.033203\" xlink:href=\"#DejaVuSans-53\"/>\r\n      </g>\r\n     </g>\r\n    </g>\r\n    <g id=\"ytick_3\">\r\n     <g id=\"line2d_8\">\r\n      <g>\r\n       <use style=\"stroke:#000000;stroke-width:0.8;\" x=\"50.14375\" xlink:href=\"#me8a5f79773\" y=\"192.463359\"/>\r\n      </g>\r\n     </g>\r\n     <g id=\"text_9\">\r\n      <!-- 0.10 -->\r\n      <g transform=\"translate(20.878125 196.262578)scale(0.1 -0.1)\">\r\n       <defs>\r\n        <path d=\"M 12.40625 8.296875 \r\nL 28.515625 8.296875 \r\nL 28.515625 63.921875 \r\nL 10.984375 60.40625 \r\nL 10.984375 69.390625 \r\nL 28.421875 72.90625 \r\nL 38.28125 72.90625 \r\nL 38.28125 8.296875 \r\nL 54.390625 8.296875 \r\nL 54.390625 0 \r\nL 12.40625 0 \r\nz\r\n\" id=\"DejaVuSans-49\"/>\r\n       </defs>\r\n       <use xlink:href=\"#DejaVuSans-48\"/>\r\n       <use x=\"63.623047\" xlink:href=\"#DejaVuSans-46\"/>\r\n       <use x=\"95.410156\" xlink:href=\"#DejaVuSans-49\"/>\r\n       <use x=\"159.033203\" xlink:href=\"#DejaVuSans-48\"/>\r\n      </g>\r\n     </g>\r\n    </g>\r\n    <g id=\"ytick_4\">\r\n     <g id=\"line2d_9\">\r\n      <g>\r\n       <use style=\"stroke:#000000;stroke-width:0.8;\" x=\"50.14375\" xlink:href=\"#me8a5f79773\" y=\"167.835977\"/>\r\n      </g>\r\n     </g>\r\n     <g id=\"text_10\">\r\n      <!-- 0.15 -->\r\n      <g transform=\"translate(20.878125 171.635195)scale(0.1 -0.1)\">\r\n       <use xlink:href=\"#DejaVuSans-48\"/>\r\n       <use x=\"63.623047\" xlink:href=\"#DejaVuSans-46\"/>\r\n       <use x=\"95.410156\" xlink:href=\"#DejaVuSans-49\"/>\r\n       <use x=\"159.033203\" xlink:href=\"#DejaVuSans-53\"/>\r\n      </g>\r\n     </g>\r\n    </g>\r\n    <g id=\"ytick_5\">\r\n     <g id=\"line2d_10\">\r\n      <g>\r\n       <use style=\"stroke:#000000;stroke-width:0.8;\" x=\"50.14375\" xlink:href=\"#me8a5f79773\" y=\"143.208594\"/>\r\n      </g>\r\n     </g>\r\n     <g id=\"text_11\">\r\n      <!-- 0.20 -->\r\n      <g transform=\"translate(20.878125 147.007813)scale(0.1 -0.1)\">\r\n       <use xlink:href=\"#DejaVuSans-48\"/>\r\n       <use x=\"63.623047\" xlink:href=\"#DejaVuSans-46\"/>\r\n       <use x=\"95.410156\" xlink:href=\"#DejaVuSans-50\"/>\r\n       <use x=\"159.033203\" xlink:href=\"#DejaVuSans-48\"/>\r\n      </g>\r\n     </g>\r\n    </g>\r\n    <g id=\"ytick_6\">\r\n     <g id=\"line2d_11\">\r\n      <g>\r\n       <use style=\"stroke:#000000;stroke-width:0.8;\" x=\"50.14375\" xlink:href=\"#me8a5f79773\" y=\"118.581211\"/>\r\n      </g>\r\n     </g>\r\n     <g id=\"text_12\">\r\n      <!-- 0.25 -->\r\n      <g transform=\"translate(20.878125 122.38043)scale(0.1 -0.1)\">\r\n       <use xlink:href=\"#DejaVuSans-48\"/>\r\n       <use x=\"63.623047\" xlink:href=\"#DejaVuSans-46\"/>\r\n       <use x=\"95.410156\" xlink:href=\"#DejaVuSans-50\"/>\r\n       <use x=\"159.033203\" xlink:href=\"#DejaVuSans-53\"/>\r\n      </g>\r\n     </g>\r\n    </g>\r\n    <g id=\"ytick_7\">\r\n     <g id=\"line2d_12\">\r\n      <g>\r\n       <use style=\"stroke:#000000;stroke-width:0.8;\" x=\"50.14375\" xlink:href=\"#me8a5f79773\" y=\"93.953828\"/>\r\n      </g>\r\n     </g>\r\n     <g id=\"text_13\">\r\n      <!-- 0.30 -->\r\n      <g transform=\"translate(20.878125 97.753047)scale(0.1 -0.1)\">\r\n       <defs>\r\n        <path d=\"M 40.578125 39.3125 \r\nQ 47.65625 37.796875 51.625 33 \r\nQ 55.609375 28.21875 55.609375 21.1875 \r\nQ 55.609375 10.40625 48.1875 4.484375 \r\nQ 40.765625 -1.421875 27.09375 -1.421875 \r\nQ 22.515625 -1.421875 17.65625 -0.515625 \r\nQ 12.796875 0.390625 7.625 2.203125 \r\nL 7.625 11.71875 \r\nQ 11.71875 9.328125 16.59375 8.109375 \r\nQ 21.484375 6.890625 26.8125 6.890625 \r\nQ 36.078125 6.890625 40.9375 10.546875 \r\nQ 45.796875 14.203125 45.796875 21.1875 \r\nQ 45.796875 27.640625 41.28125 31.265625 \r\nQ 36.765625 34.90625 28.71875 34.90625 \r\nL 20.21875 34.90625 \r\nL 20.21875 43.015625 \r\nL 29.109375 43.015625 \r\nQ 36.375 43.015625 40.234375 45.921875 \r\nQ 44.09375 48.828125 44.09375 54.296875 \r\nQ 44.09375 59.90625 40.109375 62.90625 \r\nQ 36.140625 65.921875 28.71875 65.921875 \r\nQ 24.65625 65.921875 20.015625 65.03125 \r\nQ 15.375 64.15625 9.8125 62.3125 \r\nL 9.8125 71.09375 \r\nQ 15.4375 72.65625 20.34375 73.4375 \r\nQ 25.25 74.21875 29.59375 74.21875 \r\nQ 40.828125 74.21875 47.359375 69.109375 \r\nQ 53.90625 64.015625 53.90625 55.328125 \r\nQ 53.90625 49.265625 50.4375 45.09375 \r\nQ 46.96875 40.921875 40.578125 39.3125 \r\nz\r\n\" id=\"DejaVuSans-51\"/>\r\n       </defs>\r\n       <use xlink:href=\"#DejaVuSans-48\"/>\r\n       <use x=\"63.623047\" xlink:href=\"#DejaVuSans-46\"/>\r\n       <use x=\"95.410156\" xlink:href=\"#DejaVuSans-51\"/>\r\n       <use x=\"159.033203\" xlink:href=\"#DejaVuSans-48\"/>\r\n      </g>\r\n     </g>\r\n    </g>\r\n    <g id=\"ytick_8\">\r\n     <g id=\"line2d_13\">\r\n      <g>\r\n       <use style=\"stroke:#000000;stroke-width:0.8;\" x=\"50.14375\" xlink:href=\"#me8a5f79773\" y=\"69.326446\"/>\r\n      </g>\r\n     </g>\r\n     <g id=\"text_14\">\r\n      <!-- 0.35 -->\r\n      <g transform=\"translate(20.878125 73.125664)scale(0.1 -0.1)\">\r\n       <use xlink:href=\"#DejaVuSans-48\"/>\r\n       <use x=\"63.623047\" xlink:href=\"#DejaVuSans-46\"/>\r\n       <use x=\"95.410156\" xlink:href=\"#DejaVuSans-51\"/>\r\n       <use x=\"159.033203\" xlink:href=\"#DejaVuSans-53\"/>\r\n      </g>\r\n     </g>\r\n    </g>\r\n    <g id=\"ytick_9\">\r\n     <g id=\"line2d_14\">\r\n      <g>\r\n       <use style=\"stroke:#000000;stroke-width:0.8;\" x=\"50.14375\" xlink:href=\"#me8a5f79773\" y=\"44.699063\"/>\r\n      </g>\r\n     </g>\r\n     <g id=\"text_15\">\r\n      <!-- 0.40 -->\r\n      <g transform=\"translate(20.878125 48.498281)scale(0.1 -0.1)\">\r\n       <defs>\r\n        <path d=\"M 37.796875 64.3125 \r\nL 12.890625 25.390625 \r\nL 37.796875 25.390625 \r\nz\r\nM 35.203125 72.90625 \r\nL 47.609375 72.90625 \r\nL 47.609375 25.390625 \r\nL 58.015625 25.390625 \r\nL 58.015625 17.1875 \r\nL 47.609375 17.1875 \r\nL 47.609375 0 \r\nL 37.796875 0 \r\nL 37.796875 17.1875 \r\nL 4.890625 17.1875 \r\nL 4.890625 26.703125 \r\nz\r\n\" id=\"DejaVuSans-52\"/>\r\n       </defs>\r\n       <use xlink:href=\"#DejaVuSans-48\"/>\r\n       <use x=\"63.623047\" xlink:href=\"#DejaVuSans-46\"/>\r\n       <use x=\"95.410156\" xlink:href=\"#DejaVuSans-52\"/>\r\n       <use x=\"159.033203\" xlink:href=\"#DejaVuSans-48\"/>\r\n      </g>\r\n     </g>\r\n    </g>\r\n    <g id=\"text_16\">\r\n     <!-- Results -->\r\n     <g transform=\"translate(14.798438 150.07125)rotate(-90)scale(0.1 -0.1)\">\r\n      <defs>\r\n       <path d=\"M 44.390625 34.1875 \r\nQ 47.5625 33.109375 50.5625 29.59375 \r\nQ 53.5625 26.078125 56.59375 19.921875 \r\nL 66.609375 0 \r\nL 56 0 \r\nL 46.6875 18.703125 \r\nQ 43.0625 26.03125 39.671875 28.421875 \r\nQ 36.28125 30.8125 30.421875 30.8125 \r\nL 19.671875 30.8125 \r\nL 19.671875 0 \r\nL 9.8125 0 \r\nL 9.8125 72.90625 \r\nL 32.078125 72.90625 \r\nQ 44.578125 72.90625 50.734375 67.671875 \r\nQ 56.890625 62.453125 56.890625 51.90625 \r\nQ 56.890625 45.015625 53.6875 40.46875 \r\nQ 50.484375 35.9375 44.390625 34.1875 \r\nz\r\nM 19.671875 64.796875 \r\nL 19.671875 38.921875 \r\nL 32.078125 38.921875 \r\nQ 39.203125 38.921875 42.84375 42.21875 \r\nQ 46.484375 45.515625 46.484375 51.90625 \r\nQ 46.484375 58.296875 42.84375 61.546875 \r\nQ 39.203125 64.796875 32.078125 64.796875 \r\nz\r\n\" id=\"DejaVuSans-82\"/>\r\n       <path d=\"M 9.421875 75.984375 \r\nL 18.40625 75.984375 \r\nL 18.40625 0 \r\nL 9.421875 0 \r\nz\r\n\" id=\"DejaVuSans-108\"/>\r\n      </defs>\r\n      <use xlink:href=\"#DejaVuSans-82\"/>\r\n      <use x=\"64.982422\" xlink:href=\"#DejaVuSans-101\"/>\r\n      <use x=\"126.505859\" xlink:href=\"#DejaVuSans-115\"/>\r\n      <use x=\"178.605469\" xlink:href=\"#DejaVuSans-117\"/>\r\n      <use x=\"241.984375\" xlink:href=\"#DejaVuSans-108\"/>\r\n      <use x=\"269.767578\" xlink:href=\"#DejaVuSans-116\"/>\r\n      <use x=\"308.976562\" xlink:href=\"#DejaVuSans-115\"/>\r\n     </g>\r\n    </g>\r\n   </g>\r\n   <g id=\"patch_13\">\r\n    <path d=\"M 50.14375 241.718125 \r\nL 50.14375 22.318125 \r\n\" style=\"fill:none;stroke:#000000;stroke-linecap:square;stroke-linejoin:miter;stroke-width:0.8;\"/>\r\n   </g>\r\n   <g id=\"patch_14\">\r\n    <path d=\"M 417.29375 241.718125 \r\nL 417.29375 22.318125 \r\n\" style=\"fill:none;stroke:#000000;stroke-linecap:square;stroke-linejoin:miter;stroke-width:0.8;\"/>\r\n   </g>\r\n   <g id=\"patch_15\">\r\n    <path d=\"M 50.14375 241.718125 \r\nL 417.29375 241.718125 \r\n\" style=\"fill:none;stroke:#000000;stroke-linecap:square;stroke-linejoin:miter;stroke-width:0.8;\"/>\r\n   </g>\r\n   <g id=\"patch_16\">\r\n    <path d=\"M 50.14375 22.318125 \r\nL 417.29375 22.318125 \r\n\" style=\"fill:none;stroke:#000000;stroke-linecap:square;stroke-linejoin:miter;stroke-width:0.8;\"/>\r\n   </g>\r\n   <g id=\"text_17\">\r\n    <!-- Results using ERR metric -->\r\n    <g transform=\"translate(158.6775 16.318125)scale(0.12 -0.12)\">\r\n     <defs>\r\n      <path d=\"M 45.40625 27.984375 \r\nQ 45.40625 37.75 41.375 43.109375 \r\nQ 37.359375 48.484375 30.078125 48.484375 \r\nQ 22.859375 48.484375 18.828125 43.109375 \r\nQ 14.796875 37.75 14.796875 27.984375 \r\nQ 14.796875 18.265625 18.828125 12.890625 \r\nQ 22.859375 7.515625 30.078125 7.515625 \r\nQ 37.359375 7.515625 41.375 12.890625 \r\nQ 45.40625 18.265625 45.40625 27.984375 \r\nz\r\nM 54.390625 6.78125 \r\nQ 54.390625 -7.171875 48.1875 -13.984375 \r\nQ 42 -20.796875 29.203125 -20.796875 \r\nQ 24.46875 -20.796875 20.265625 -20.09375 \r\nQ 16.0625 -19.390625 12.109375 -17.921875 \r\nL 12.109375 -9.1875 \r\nQ 16.0625 -11.328125 19.921875 -12.34375 \r\nQ 23.78125 -13.375 27.78125 -13.375 \r\nQ 36.625 -13.375 41.015625 -8.765625 \r\nQ 45.40625 -4.15625 45.40625 5.171875 \r\nL 45.40625 9.625 \r\nQ 42.625 4.78125 38.28125 2.390625 \r\nQ 33.9375 0 27.875 0 \r\nQ 17.828125 0 11.671875 7.65625 \r\nQ 5.515625 15.328125 5.515625 27.984375 \r\nQ 5.515625 40.671875 11.671875 48.328125 \r\nQ 17.828125 56 27.875 56 \r\nQ 33.9375 56 38.28125 53.609375 \r\nQ 42.625 51.21875 45.40625 46.390625 \r\nL 45.40625 54.6875 \r\nL 54.390625 54.6875 \r\nz\r\n\" id=\"DejaVuSans-103\"/>\r\n      <path d=\"M 9.8125 72.90625 \r\nL 55.90625 72.90625 \r\nL 55.90625 64.59375 \r\nL 19.671875 64.59375 \r\nL 19.671875 43.015625 \r\nL 54.390625 43.015625 \r\nL 54.390625 34.71875 \r\nL 19.671875 34.71875 \r\nL 19.671875 8.296875 \r\nL 56.78125 8.296875 \r\nL 56.78125 0 \r\nL 9.8125 0 \r\nz\r\n\" id=\"DejaVuSans-69\"/>\r\n      <path d=\"M 52 44.1875 \r\nQ 55.375 50.25 60.0625 53.125 \r\nQ 64.75 56 71.09375 56 \r\nQ 79.640625 56 84.28125 50.015625 \r\nQ 88.921875 44.046875 88.921875 33.015625 \r\nL 88.921875 0 \r\nL 79.890625 0 \r\nL 79.890625 32.71875 \r\nQ 79.890625 40.578125 77.09375 44.375 \r\nQ 74.3125 48.1875 68.609375 48.1875 \r\nQ 61.625 48.1875 57.5625 43.546875 \r\nQ 53.515625 38.921875 53.515625 30.90625 \r\nL 53.515625 0 \r\nL 44.484375 0 \r\nL 44.484375 32.71875 \r\nQ 44.484375 40.625 41.703125 44.40625 \r\nQ 38.921875 48.1875 33.109375 48.1875 \r\nQ 26.21875 48.1875 22.15625 43.53125 \r\nQ 18.109375 38.875 18.109375 30.90625 \r\nL 18.109375 0 \r\nL 9.078125 0 \r\nL 9.078125 54.6875 \r\nL 18.109375 54.6875 \r\nL 18.109375 46.1875 \r\nQ 21.1875 51.21875 25.484375 53.609375 \r\nQ 29.78125 56 35.6875 56 \r\nQ 41.65625 56 45.828125 52.96875 \r\nQ 50 49.953125 52 44.1875 \r\nz\r\n\" id=\"DejaVuSans-109\"/>\r\n     </defs>\r\n     <use xlink:href=\"#DejaVuSans-82\"/>\r\n     <use x=\"64.982422\" xlink:href=\"#DejaVuSans-101\"/>\r\n     <use x=\"126.505859\" xlink:href=\"#DejaVuSans-115\"/>\r\n     <use x=\"178.605469\" xlink:href=\"#DejaVuSans-117\"/>\r\n     <use x=\"241.984375\" xlink:href=\"#DejaVuSans-108\"/>\r\n     <use x=\"269.767578\" xlink:href=\"#DejaVuSans-116\"/>\r\n     <use x=\"308.976562\" xlink:href=\"#DejaVuSans-115\"/>\r\n     <use x=\"361.076172\" xlink:href=\"#DejaVuSans-32\"/>\r\n     <use x=\"392.863281\" xlink:href=\"#DejaVuSans-117\"/>\r\n     <use x=\"456.242188\" xlink:href=\"#DejaVuSans-115\"/>\r\n     <use x=\"508.341797\" xlink:href=\"#DejaVuSans-105\"/>\r\n     <use x=\"536.125\" xlink:href=\"#DejaVuSans-110\"/>\r\n     <use x=\"599.503906\" xlink:href=\"#DejaVuSans-103\"/>\r\n     <use x=\"662.980469\" xlink:href=\"#DejaVuSans-32\"/>\r\n     <use x=\"694.767578\" xlink:href=\"#DejaVuSans-69\"/>\r\n     <use x=\"757.951172\" xlink:href=\"#DejaVuSans-82\"/>\r\n     <use x=\"827.433594\" xlink:href=\"#DejaVuSans-82\"/>\r\n     <use x=\"896.916016\" xlink:href=\"#DejaVuSans-32\"/>\r\n     <use x=\"928.703125\" xlink:href=\"#DejaVuSans-109\"/>\r\n     <use x=\"1026.115234\" xlink:href=\"#DejaVuSans-101\"/>\r\n     <use x=\"1087.638672\" xlink:href=\"#DejaVuSans-116\"/>\r\n     <use x=\"1126.847656\" xlink:href=\"#DejaVuSans-114\"/>\r\n     <use x=\"1167.960938\" xlink:href=\"#DejaVuSans-105\"/>\r\n     <use x=\"1195.744141\" xlink:href=\"#DejaVuSans-99\"/>\r\n    </g>\r\n   </g>\r\n   <g id=\"legend_1\">\r\n    <g id=\"patch_17\">\r\n     <path d=\"M 57.14375 59.674375 \r\nL 156.235938 59.674375 \r\nQ 158.235938 59.674375 158.235938 57.674375 \r\nL 158.235938 29.318125 \r\nQ 158.235938 27.318125 156.235938 27.318125 \r\nL 57.14375 27.318125 \r\nQ 55.14375 27.318125 55.14375 29.318125 \r\nL 55.14375 57.674375 \r\nQ 55.14375 59.674375 57.14375 59.674375 \r\nz\r\n\" style=\"fill:#ffffff;opacity:0.8;stroke:#cccccc;stroke-linejoin:miter;\"/>\r\n    </g>\r\n    <g id=\"patch_18\">\r\n     <path d=\"M 59.14375 38.916562 \r\nL 79.14375 38.916562 \r\nL 79.14375 31.916562 \r\nL 59.14375 31.916562 \r\nz\r\n\" style=\"fill:#0000ff;opacity:0.8;\"/>\r\n    </g>\r\n    <g id=\"text_18\">\r\n     <!-- Index set = 1 -->\r\n     <g transform=\"translate(87.14375 38.916562)scale(0.1 -0.1)\">\r\n      <defs>\r\n       <path d=\"M 45.40625 46.390625 \r\nL 45.40625 75.984375 \r\nL 54.390625 75.984375 \r\nL 54.390625 0 \r\nL 45.40625 0 \r\nL 45.40625 8.203125 \r\nQ 42.578125 3.328125 38.25 0.953125 \r\nQ 33.9375 -1.421875 27.875 -1.421875 \r\nQ 17.96875 -1.421875 11.734375 6.484375 \r\nQ 5.515625 14.40625 5.515625 27.296875 \r\nQ 5.515625 40.1875 11.734375 48.09375 \r\nQ 17.96875 56 27.875 56 \r\nQ 33.9375 56 38.25 53.625 \r\nQ 42.578125 51.265625 45.40625 46.390625 \r\nz\r\nM 14.796875 27.296875 \r\nQ 14.796875 17.390625 18.875 11.75 \r\nQ 22.953125 6.109375 30.078125 6.109375 \r\nQ 37.203125 6.109375 41.296875 11.75 \r\nQ 45.40625 17.390625 45.40625 27.296875 \r\nQ 45.40625 37.203125 41.296875 42.84375 \r\nQ 37.203125 48.484375 30.078125 48.484375 \r\nQ 22.953125 48.484375 18.875 42.84375 \r\nQ 14.796875 37.203125 14.796875 27.296875 \r\nz\r\n\" id=\"DejaVuSans-100\"/>\r\n       <path d=\"M 54.890625 54.6875 \r\nL 35.109375 28.078125 \r\nL 55.90625 0 \r\nL 45.3125 0 \r\nL 29.390625 21.484375 \r\nL 13.484375 0 \r\nL 2.875 0 \r\nL 24.125 28.609375 \r\nL 4.6875 54.6875 \r\nL 15.28125 54.6875 \r\nL 29.78125 35.203125 \r\nL 44.28125 54.6875 \r\nz\r\n\" id=\"DejaVuSans-120\"/>\r\n       <path d=\"M 10.59375 45.40625 \r\nL 73.1875 45.40625 \r\nL 73.1875 37.203125 \r\nL 10.59375 37.203125 \r\nz\r\nM 10.59375 25.484375 \r\nL 73.1875 25.484375 \r\nL 73.1875 17.1875 \r\nL 10.59375 17.1875 \r\nz\r\n\" id=\"DejaVuSans-61\"/>\r\n      </defs>\r\n      <use xlink:href=\"#DejaVuSans-73\"/>\r\n      <use x=\"29.492188\" xlink:href=\"#DejaVuSans-110\"/>\r\n      <use x=\"92.871094\" xlink:href=\"#DejaVuSans-100\"/>\r\n      <use x=\"156.347656\" xlink:href=\"#DejaVuSans-101\"/>\r\n      <use x=\"216.121094\" xlink:href=\"#DejaVuSans-120\"/>\r\n      <use x=\"275.300781\" xlink:href=\"#DejaVuSans-32\"/>\r\n      <use x=\"307.087891\" xlink:href=\"#DejaVuSans-115\"/>\r\n      <use x=\"359.1875\" xlink:href=\"#DejaVuSans-101\"/>\r\n      <use x=\"420.710938\" xlink:href=\"#DejaVuSans-116\"/>\r\n      <use x=\"459.919922\" xlink:href=\"#DejaVuSans-32\"/>\r\n      <use x=\"491.707031\" xlink:href=\"#DejaVuSans-61\"/>\r\n      <use x=\"575.496094\" xlink:href=\"#DejaVuSans-32\"/>\r\n      <use x=\"607.283203\" xlink:href=\"#DejaVuSans-49\"/>\r\n     </g>\r\n    </g>\r\n    <g id=\"patch_19\">\r\n     <path d=\"M 59.14375 53.594687 \r\nL 79.14375 53.594687 \r\nL 79.14375 46.594687 \r\nL 59.14375 46.594687 \r\nz\r\n\" style=\"fill:#008000;opacity:0.8;\"/>\r\n    </g>\r\n    <g id=\"text_19\">\r\n     <!-- Index set = 2 -->\r\n     <g transform=\"translate(87.14375 53.594687)scale(0.1 -0.1)\">\r\n      <use xlink:href=\"#DejaVuSans-73\"/>\r\n      <use x=\"29.492188\" xlink:href=\"#DejaVuSans-110\"/>\r\n      <use x=\"92.871094\" xlink:href=\"#DejaVuSans-100\"/>\r\n      <use x=\"156.347656\" xlink:href=\"#DejaVuSans-101\"/>\r\n      <use x=\"216.121094\" xlink:href=\"#DejaVuSans-120\"/>\r\n      <use x=\"275.300781\" xlink:href=\"#DejaVuSans-32\"/>\r\n      <use x=\"307.087891\" xlink:href=\"#DejaVuSans-115\"/>\r\n      <use x=\"359.1875\" xlink:href=\"#DejaVuSans-101\"/>\r\n      <use x=\"420.710938\" xlink:href=\"#DejaVuSans-116\"/>\r\n      <use x=\"459.919922\" xlink:href=\"#DejaVuSans-32\"/>\r\n      <use x=\"491.707031\" xlink:href=\"#DejaVuSans-61\"/>\r\n      <use x=\"575.496094\" xlink:href=\"#DejaVuSans-32\"/>\r\n      <use x=\"607.283203\" xlink:href=\"#DejaVuSans-50\"/>\r\n     </g>\r\n    </g>\r\n   </g>\r\n  </g>\r\n </g>\r\n <defs>\r\n  <clipPath id=\"p963115a381\">\r\n   <rect height=\"219.4\" width=\"367.15\" x=\"50.14375\" y=\"22.318125\"/>\r\n  </clipPath>\r\n </defs>\r\n</svg>\r\n",
      "image/png": "[encoded data removed]"
     },
     "metadata": {
      "needs_background": "light"
     }
    },
    {
     "output_type": "display_data",
     "data": {
      "text/plain": "<Figure size 432x288 with 1 Axes>",
      "image/svg+xml": "<?xml version=\"1.0\" encoding=\"utf-8\" standalone=\"no\"?>\r\n<!DOCTYPE svg PUBLIC \"-//W3C//DTD SVG 1.1//EN\"\r\n  \"http://www.w3.org/Graphics/SVG/1.1/DTD/svg11.dtd\">\r\n<!-- Created with matplotlib (https://matplotlib.org/) -->\r\n<svg height=\"306.069702pt\" version=\"1.1\" viewBox=\"0 0 424.49375 306.069702\" width=\"424.49375pt\" xmlns=\"http://www.w3.org/2000/svg\" xmlns:xlink=\"http://www.w3.org/1999/xlink\">\r\n <metadata>\r\n  <rdf:RDF xmlns:cc=\"http://creativecommons.org/ns#\" xmlns:dc=\"http://purl.org/dc/elements/1.1/\" xmlns:rdf=\"http://www.w3.org/1999/02/22-rdf-syntax-ns#\">\r\n   <cc:Work>\r\n    <dc:type rdf:resource=\"http://purl.org/dc/dcmitype/StillImage\"/>\r\n    <dc:date>2021-02-19T17:36:05.944492</dc:date>\r\n    <dc:format>image/svg+xml</dc:format>\r\n    <dc:creator>\r\n     <cc:Agent>\r\n      <dc:title>Matplotlib v3.3.4, https://matplotlib.org/</dc:title>\r\n     </cc:Agent>\r\n    </dc:creator>\r\n   </cc:Work>\r\n  </rdf:RDF>\r\n </metadata>\r\n <defs>\r\n  <style type=\"text/css\">*{stroke-linecap:butt;stroke-linejoin:round;}</style>\r\n </defs>\r\n <g id=\"figure_1\">\r\n  <g id=\"patch_1\">\r\n   <path d=\"M 0 306.069702 \r\nL 424.49375 306.069702 \r\nL 424.49375 0 \r\nL 0 0 \r\nz\r\n\" style=\"fill:none;\"/>\r\n  </g>\r\n  <g id=\"axes_1\">\r\n   <g id=\"patch_2\">\r\n    <path d=\"M 50.14375 241.718125 \r\nL 417.29375 241.718125 \r\nL 417.29375 22.318125 \r\nL 50.14375 22.318125 \r\nz\r\n\" style=\"fill:#ffffff;\"/>\r\n   </g>\r\n   <g id=\"patch_3\">\r\n    <path clip-path=\"url(#pb9f78d4530)\" d=\"M 66.832386 241.718125 \r\nL 91.687802 241.718125 \r\nL 91.687802 146.990087 \r\nL 66.832386 146.990087 \r\nz\r\n\" style=\"fill:#0000ff;opacity:0.8;\"/>\r\n   </g>\r\n   <g id=\"patch_4\">\r\n    <path clip-path=\"url(#pb9f78d4530)\" d=\"M 137.84786 241.718125 \r\nL 162.703276 241.718125 \r\nL 162.703276 98.216547 \r\nL 137.84786 98.216547 \r\nz\r\n\" style=\"fill:#0000ff;opacity:0.8;\"/>\r\n   </g>\r\n   <g id=\"patch_5\">\r\n    <path clip-path=\"url(#pb9f78d4530)\" d=\"M 208.863334 241.718125 \r\nL 233.71875 241.718125 \r\nL 233.71875 234.091324 \r\nL 208.863334 234.091324 \r\nz\r\n\" style=\"fill:#0000ff;opacity:0.8;\"/>\r\n   </g>\r\n   <g id=\"patch_6\">\r\n    <path clip-path=\"url(#pb9f78d4530)\" d=\"M 279.878808 241.718125 \r\nL 304.734224 241.718125 \r\nL 304.734224 112.003631 \r\nL 279.878808 112.003631 \r\nz\r\n\" style=\"fill:#0000ff;opacity:0.8;\"/>\r\n   </g>\r\n   <g id=\"patch_7\">\r\n    <path clip-path=\"url(#pb9f78d4530)\" d=\"M 350.894282 241.718125 \r\nL 375.749698 241.718125 \r\nL 375.749698 63.530915 \r\nL 350.894282 63.530915 \r\nz\r\n\" style=\"fill:#0000ff;opacity:0.8;\"/>\r\n   </g>\r\n   <g id=\"patch_8\">\r\n    <path clip-path=\"url(#pb9f78d4530)\" d=\"M 91.687802 241.718125 \r\nL 116.543218 241.718125 \r\nL 116.543218 144.201135 \r\nL 91.687802 144.201135 \r\nz\r\n\" style=\"fill:#008000;opacity:0.8;\"/>\r\n   </g>\r\n   <g id=\"patch_9\">\r\n    <path clip-path=\"url(#pb9f78d4530)\" d=\"M 162.703276 241.718125 \r\nL 187.558692 241.718125 \r\nL 187.558692 87.396545 \r\nL 162.703276 87.396545 \r\nz\r\n\" style=\"fill:#008000;opacity:0.8;\"/>\r\n   </g>\r\n   <g id=\"patch_10\">\r\n    <path clip-path=\"url(#pb9f78d4530)\" d=\"M 233.71875 241.718125 \r\nL 258.574166 241.718125 \r\nL 258.574166 224.478929 \r\nL 233.71875 224.478929 \r\nz\r\n\" style=\"fill:#008000;opacity:0.8;\"/>\r\n   </g>\r\n   <g id=\"patch_11\">\r\n    <path clip-path=\"url(#pb9f78d4530)\" d=\"M 304.734224 241.718125 \r\nL 329.58964 241.718125 \r\nL 329.58964 79.422771 \r\nL 304.734224 79.422771 \r\nz\r\n\" style=\"fill:#008000;opacity:0.8;\"/>\r\n   </g>\r\n   <g id=\"patch_12\">\r\n    <path clip-path=\"url(#pb9f78d4530)\" d=\"M 375.749698 241.718125 \r\nL 400.605114 241.718125 \r\nL 400.605114 32.765744 \r\nL 375.749698 32.765744 \r\nz\r\n\" style=\"fill:#008000;opacity:0.8;\"/>\r\n   </g>\r\n   <g id=\"matplotlib.axis_1\">\r\n    <g id=\"xtick_1\">\r\n     <g id=\"line2d_1\">\r\n      <defs>\r\n       <path d=\"M 0 0 \r\nL 0 3.5 \r\n\" id=\"mac199d32b7\" style=\"stroke:#000000;stroke-width:0.8;\"/>\r\n      </defs>\r\n      <g>\r\n       <use style=\"stroke:#000000;stroke-width:0.8;\" x=\"104.11551\" xlink:href=\"#mac199d32b7\" y=\"241.718125\"/>\r\n      </g>\r\n     </g>\r\n     <g id=\"text_1\">\r\n      <!-- BOW -->\r\n      <g transform=\"translate(97.42396 271.376478)rotate(-45)scale(0.1 -0.1)\">\r\n       <defs>\r\n        <path d=\"M 19.671875 34.8125 \r\nL 19.671875 8.109375 \r\nL 35.5 8.109375 \r\nQ 43.453125 8.109375 47.28125 11.40625 \r\nQ 51.125 14.703125 51.125 21.484375 \r\nQ 51.125 28.328125 47.28125 31.5625 \r\nQ 43.453125 34.8125 35.5 34.8125 \r\nz\r\nM 19.671875 64.796875 \r\nL 19.671875 42.828125 \r\nL 34.28125 42.828125 \r\nQ 41.5 42.828125 45.03125 45.53125 \r\nQ 48.578125 48.25 48.578125 53.8125 \r\nQ 48.578125 59.328125 45.03125 62.0625 \r\nQ 41.5 64.796875 34.28125 64.796875 \r\nz\r\nM 9.8125 72.90625 \r\nL 35.015625 72.90625 \r\nQ 46.296875 72.90625 52.390625 68.21875 \r\nQ 58.5 63.53125 58.5 54.890625 \r\nQ 58.5 48.1875 55.375 44.234375 \r\nQ 52.25 40.28125 46.1875 39.3125 \r\nQ 53.46875 37.75 57.5 32.78125 \r\nQ 61.53125 27.828125 61.53125 20.40625 \r\nQ 61.53125 10.640625 54.890625 5.3125 \r\nQ 48.25 0 35.984375 0 \r\nL 9.8125 0 \r\nz\r\n\" id=\"DejaVuSans-66\"/>\r\n        <path d=\"M 39.40625 66.21875 \r\nQ 28.65625 66.21875 22.328125 58.203125 \r\nQ 16.015625 50.203125 16.015625 36.375 \r\nQ 16.015625 22.609375 22.328125 14.59375 \r\nQ 28.65625 6.59375 39.40625 6.59375 \r\nQ 50.140625 6.59375 56.421875 14.59375 \r\nQ 62.703125 22.609375 62.703125 36.375 \r\nQ 62.703125 50.203125 56.421875 58.203125 \r\nQ 50.140625 66.21875 39.40625 66.21875 \r\nz\r\nM 39.40625 74.21875 \r\nQ 54.734375 74.21875 63.90625 63.9375 \r\nQ 73.09375 53.65625 73.09375 36.375 \r\nQ 73.09375 19.140625 63.90625 8.859375 \r\nQ 54.734375 -1.421875 39.40625 -1.421875 \r\nQ 24.03125 -1.421875 14.8125 8.828125 \r\nQ 5.609375 19.09375 5.609375 36.375 \r\nQ 5.609375 53.65625 14.8125 63.9375 \r\nQ 24.03125 74.21875 39.40625 74.21875 \r\nz\r\n\" id=\"DejaVuSans-79\"/>\r\n        <path d=\"M 3.328125 72.90625 \r\nL 13.28125 72.90625 \r\nL 28.609375 11.28125 \r\nL 43.890625 72.90625 \r\nL 54.984375 72.90625 \r\nL 70.3125 11.28125 \r\nL 85.59375 72.90625 \r\nL 95.609375 72.90625 \r\nL 77.296875 0 \r\nL 64.890625 0 \r\nL 49.515625 63.28125 \r\nL 33.984375 0 \r\nL 21.578125 0 \r\nz\r\n\" id=\"DejaVuSans-87\"/>\r\n       </defs>\r\n       <use xlink:href=\"#DejaVuSans-66\"/>\r\n       <use x=\"66.853516\" xlink:href=\"#DejaVuSans-79\"/>\r\n       <use x=\"145.564453\" xlink:href=\"#DejaVuSans-87\"/>\r\n      </g>\r\n     </g>\r\n    </g>\r\n    <g id=\"xtick_2\">\r\n     <g id=\"line2d_2\">\r\n      <g>\r\n       <use style=\"stroke:#000000;stroke-width:0.8;\" x=\"175.130984\" xlink:href=\"#mac199d32b7\" y=\"241.718125\"/>\r\n      </g>\r\n     </g>\r\n     <g id=\"text_2\">\r\n      <!-- TF-IDF -->\r\n      <g transform=\"translate(165.814852 276.625641)rotate(-45)scale(0.1 -0.1)\">\r\n       <defs>\r\n        <path d=\"M -0.296875 72.90625 \r\nL 61.375 72.90625 \r\nL 61.375 64.59375 \r\nL 35.5 64.59375 \r\nL 35.5 0 \r\nL 25.59375 0 \r\nL 25.59375 64.59375 \r\nL -0.296875 64.59375 \r\nz\r\n\" id=\"DejaVuSans-84\"/>\r\n        <path d=\"M 9.8125 72.90625 \r\nL 51.703125 72.90625 \r\nL 51.703125 64.59375 \r\nL 19.671875 64.59375 \r\nL 19.671875 43.109375 \r\nL 48.578125 43.109375 \r\nL 48.578125 34.8125 \r\nL 19.671875 34.8125 \r\nL 19.671875 0 \r\nL 9.8125 0 \r\nz\r\n\" id=\"DejaVuSans-70\"/>\r\n        <path d=\"M 4.890625 31.390625 \r\nL 31.203125 31.390625 \r\nL 31.203125 23.390625 \r\nL 4.890625 23.390625 \r\nz\r\n\" id=\"DejaVuSans-45\"/>\r\n        <path d=\"M 9.8125 72.90625 \r\nL 19.671875 72.90625 \r\nL 19.671875 0 \r\nL 9.8125 0 \r\nz\r\n\" id=\"DejaVuSans-73\"/>\r\n        <path d=\"M 19.671875 64.796875 \r\nL 19.671875 8.109375 \r\nL 31.59375 8.109375 \r\nQ 46.6875 8.109375 53.6875 14.9375 \r\nQ 60.6875 21.78125 60.6875 36.53125 \r\nQ 60.6875 51.171875 53.6875 57.984375 \r\nQ 46.6875 64.796875 31.59375 64.796875 \r\nz\r\nM 9.8125 72.90625 \r\nL 30.078125 72.90625 \r\nQ 51.265625 72.90625 61.171875 64.09375 \r\nQ 71.09375 55.28125 71.09375 36.53125 \r\nQ 71.09375 17.671875 61.125 8.828125 \r\nQ 51.171875 0 30.078125 0 \r\nL 9.8125 0 \r\nz\r\n\" id=\"DejaVuSans-68\"/>\r\n       </defs>\r\n       <use xlink:href=\"#DejaVuSans-84\"/>\r\n       <use x=\"61.083984\" xlink:href=\"#DejaVuSans-70\"/>\r\n       <use x=\"118.603516\" xlink:href=\"#DejaVuSans-45\"/>\r\n       <use x=\"154.6875\" xlink:href=\"#DejaVuSans-73\"/>\r\n       <use x=\"184.179688\" xlink:href=\"#DejaVuSans-68\"/>\r\n       <use x=\"261.181641\" xlink:href=\"#DejaVuSans-70\"/>\r\n      </g>\r\n     </g>\r\n    </g>\r\n    <g id=\"xtick_3\">\r\n     <g id=\"line2d_3\">\r\n      <g>\r\n       <use style=\"stroke:#000000;stroke-width:0.8;\" x=\"246.146458\" xlink:href=\"#mac199d32b7\" y=\"241.718125\"/>\r\n      </g>\r\n     </g>\r\n     <g id=\"text_3\">\r\n      <!-- NaiveQL -->\r\n      <g transform=\"translate(233.282639 283.721016)rotate(-45)scale(0.1 -0.1)\">\r\n       <defs>\r\n        <path d=\"M 9.8125 72.90625 \r\nL 23.09375 72.90625 \r\nL 55.421875 11.921875 \r\nL 55.421875 72.90625 \r\nL 64.984375 72.90625 \r\nL 64.984375 0 \r\nL 51.703125 0 \r\nL 19.390625 60.984375 \r\nL 19.390625 0 \r\nL 9.8125 0 \r\nz\r\n\" id=\"DejaVuSans-78\"/>\r\n        <path d=\"M 34.28125 27.484375 \r\nQ 23.390625 27.484375 19.1875 25 \r\nQ 14.984375 22.515625 14.984375 16.5 \r\nQ 14.984375 11.71875 18.140625 8.90625 \r\nQ 21.296875 6.109375 26.703125 6.109375 \r\nQ 34.1875 6.109375 38.703125 11.40625 \r\nQ 43.21875 16.703125 43.21875 25.484375 \r\nL 43.21875 27.484375 \r\nz\r\nM 52.203125 31.203125 \r\nL 52.203125 0 \r\nL 43.21875 0 \r\nL 43.21875 8.296875 \r\nQ 40.140625 3.328125 35.546875 0.953125 \r\nQ 30.953125 -1.421875 24.3125 -1.421875 \r\nQ 15.921875 -1.421875 10.953125 3.296875 \r\nQ 6 8.015625 6 15.921875 \r\nQ 6 25.140625 12.171875 29.828125 \r\nQ 18.359375 34.515625 30.609375 34.515625 \r\nL 43.21875 34.515625 \r\nL 43.21875 35.40625 \r\nQ 43.21875 41.609375 39.140625 45 \r\nQ 35.0625 48.390625 27.6875 48.390625 \r\nQ 23 48.390625 18.546875 47.265625 \r\nQ 14.109375 46.140625 10.015625 43.890625 \r\nL 10.015625 52.203125 \r\nQ 14.9375 54.109375 19.578125 55.046875 \r\nQ 24.21875 56 28.609375 56 \r\nQ 40.484375 56 46.34375 49.84375 \r\nQ 52.203125 43.703125 52.203125 31.203125 \r\nz\r\n\" id=\"DejaVuSans-97\"/>\r\n        <path d=\"M 9.421875 54.6875 \r\nL 18.40625 54.6875 \r\nL 18.40625 0 \r\nL 9.421875 0 \r\nz\r\nM 9.421875 75.984375 \r\nL 18.40625 75.984375 \r\nL 18.40625 64.59375 \r\nL 9.421875 64.59375 \r\nz\r\n\" id=\"DejaVuSans-105\"/>\r\n        <path d=\"M 2.984375 54.6875 \r\nL 12.5 54.6875 \r\nL 29.59375 8.796875 \r\nL 46.6875 54.6875 \r\nL 56.203125 54.6875 \r\nL 35.6875 0 \r\nL 23.484375 0 \r\nz\r\n\" id=\"DejaVuSans-118\"/>\r\n        <path d=\"M 56.203125 29.59375 \r\nL 56.203125 25.203125 \r\nL 14.890625 25.203125 \r\nQ 15.484375 15.921875 20.484375 11.0625 \r\nQ 25.484375 6.203125 34.421875 6.203125 \r\nQ 39.59375 6.203125 44.453125 7.46875 \r\nQ 49.3125 8.734375 54.109375 11.28125 \r\nL 54.109375 2.78125 \r\nQ 49.265625 0.734375 44.1875 -0.34375 \r\nQ 39.109375 -1.421875 33.890625 -1.421875 \r\nQ 20.796875 -1.421875 13.15625 6.1875 \r\nQ 5.515625 13.8125 5.515625 26.8125 \r\nQ 5.515625 40.234375 12.765625 48.109375 \r\nQ 20.015625 56 32.328125 56 \r\nQ 43.359375 56 49.78125 48.890625 \r\nQ 56.203125 41.796875 56.203125 29.59375 \r\nz\r\nM 47.21875 32.234375 \r\nQ 47.125 39.59375 43.09375 43.984375 \r\nQ 39.0625 48.390625 32.421875 48.390625 \r\nQ 24.90625 48.390625 20.390625 44.140625 \r\nQ 15.875 39.890625 15.1875 32.171875 \r\nz\r\n\" id=\"DejaVuSans-101\"/>\r\n        <path d=\"M 39.40625 66.21875 \r\nQ 28.65625 66.21875 22.328125 58.203125 \r\nQ 16.015625 50.203125 16.015625 36.375 \r\nQ 16.015625 22.609375 22.328125 14.59375 \r\nQ 28.65625 6.59375 39.40625 6.59375 \r\nQ 50.140625 6.59375 56.421875 14.59375 \r\nQ 62.703125 22.609375 62.703125 36.375 \r\nQ 62.703125 50.203125 56.421875 58.203125 \r\nQ 50.140625 66.21875 39.40625 66.21875 \r\nz\r\nM 53.21875 1.3125 \r\nL 66.21875 -12.890625 \r\nL 54.296875 -12.890625 \r\nL 43.5 -1.21875 \r\nQ 41.890625 -1.3125 41.03125 -1.359375 \r\nQ 40.1875 -1.421875 39.40625 -1.421875 \r\nQ 24.03125 -1.421875 14.8125 8.859375 \r\nQ 5.609375 19.140625 5.609375 36.375 \r\nQ 5.609375 53.65625 14.8125 63.9375 \r\nQ 24.03125 74.21875 39.40625 74.21875 \r\nQ 54.734375 74.21875 63.90625 63.9375 \r\nQ 73.09375 53.65625 73.09375 36.375 \r\nQ 73.09375 23.6875 67.984375 14.640625 \r\nQ 62.890625 5.609375 53.21875 1.3125 \r\nz\r\n\" id=\"DejaVuSans-81\"/>\r\n        <path d=\"M 9.8125 72.90625 \r\nL 19.671875 72.90625 \r\nL 19.671875 8.296875 \r\nL 55.171875 8.296875 \r\nL 55.171875 0 \r\nL 9.8125 0 \r\nz\r\n\" id=\"DejaVuSans-76\"/>\r\n       </defs>\r\n       <use xlink:href=\"#DejaVuSans-78\"/>\r\n       <use x=\"74.804688\" xlink:href=\"#DejaVuSans-97\"/>\r\n       <use x=\"136.083984\" xlink:href=\"#DejaVuSans-105\"/>\r\n       <use x=\"163.867188\" xlink:href=\"#DejaVuSans-118\"/>\r\n       <use x=\"223.046875\" xlink:href=\"#DejaVuSans-101\"/>\r\n       <use x=\"284.570312\" xlink:href=\"#DejaVuSans-81\"/>\r\n       <use x=\"363.28125\" xlink:href=\"#DejaVuSans-76\"/>\r\n      </g>\r\n     </g>\r\n    </g>\r\n    <g id=\"xtick_4\">\r\n     <g id=\"line2d_4\">\r\n      <g>\r\n       <use style=\"stroke:#000000;stroke-width:0.8;\" x=\"317.161932\" xlink:href=\"#mac199d32b7\" y=\"241.718125\"/>\r\n      </g>\r\n     </g>\r\n     <g id=\"text_4\">\r\n      <!-- QL -->\r\n      <g transform=\"translate(314.360021 263.597198)rotate(-45)scale(0.1 -0.1)\">\r\n       <use xlink:href=\"#DejaVuSans-81\"/>\r\n       <use x=\"78.710938\" xlink:href=\"#DejaVuSans-76\"/>\r\n      </g>\r\n     </g>\r\n    </g>\r\n    <g id=\"xtick_5\">\r\n     <g id=\"line2d_5\">\r\n      <g>\r\n       <use style=\"stroke:#000000;stroke-width:0.8;\" x=\"388.177406\" xlink:href=\"#mac199d32b7\" y=\"241.718125\"/>\r\n      </g>\r\n     </g>\r\n     <g id=\"text_5\">\r\n      <!-- BM25 -->\r\n      <g transform=\"translate(380.153401 274.041387)rotate(-45)scale(0.1 -0.1)\">\r\n       <defs>\r\n        <path d=\"M 9.8125 72.90625 \r\nL 24.515625 72.90625 \r\nL 43.109375 23.296875 \r\nL 61.8125 72.90625 \r\nL 76.515625 72.90625 \r\nL 76.515625 0 \r\nL 66.890625 0 \r\nL 66.890625 64.015625 \r\nL 48.09375 14.015625 \r\nL 38.1875 14.015625 \r\nL 19.390625 64.015625 \r\nL 19.390625 0 \r\nL 9.8125 0 \r\nz\r\n\" id=\"DejaVuSans-77\"/>\r\n        <path d=\"M 19.1875 8.296875 \r\nL 53.609375 8.296875 \r\nL 53.609375 0 \r\nL 7.328125 0 \r\nL 7.328125 8.296875 \r\nQ 12.9375 14.109375 22.625 23.890625 \r\nQ 32.328125 33.6875 34.8125 36.53125 \r\nQ 39.546875 41.84375 41.421875 45.53125 \r\nQ 43.3125 49.21875 43.3125 52.78125 \r\nQ 43.3125 58.59375 39.234375 62.25 \r\nQ 35.15625 65.921875 28.609375 65.921875 \r\nQ 23.96875 65.921875 18.8125 64.3125 \r\nQ 13.671875 62.703125 7.8125 59.421875 \r\nL 7.8125 69.390625 \r\nQ 13.765625 71.78125 18.9375 73 \r\nQ 24.125 74.21875 28.421875 74.21875 \r\nQ 39.75 74.21875 46.484375 68.546875 \r\nQ 53.21875 62.890625 53.21875 53.421875 \r\nQ 53.21875 48.921875 51.53125 44.890625 \r\nQ 49.859375 40.875 45.40625 35.40625 \r\nQ 44.1875 33.984375 37.640625 27.21875 \r\nQ 31.109375 20.453125 19.1875 8.296875 \r\nz\r\n\" id=\"DejaVuSans-50\"/>\r\n        <path d=\"M 10.796875 72.90625 \r\nL 49.515625 72.90625 \r\nL 49.515625 64.59375 \r\nL 19.828125 64.59375 \r\nL 19.828125 46.734375 \r\nQ 21.96875 47.46875 24.109375 47.828125 \r\nQ 26.265625 48.1875 28.421875 48.1875 \r\nQ 40.625 48.1875 47.75 41.5 \r\nQ 54.890625 34.8125 54.890625 23.390625 \r\nQ 54.890625 11.625 47.5625 5.09375 \r\nQ 40.234375 -1.421875 26.90625 -1.421875 \r\nQ 22.3125 -1.421875 17.546875 -0.640625 \r\nQ 12.796875 0.140625 7.71875 1.703125 \r\nL 7.71875 11.625 \r\nQ 12.109375 9.234375 16.796875 8.0625 \r\nQ 21.484375 6.890625 26.703125 6.890625 \r\nQ 35.15625 6.890625 40.078125 11.328125 \r\nQ 45.015625 15.765625 45.015625 23.390625 \r\nQ 45.015625 31 40.078125 35.4375 \r\nQ 35.15625 39.890625 26.703125 39.890625 \r\nQ 22.75 39.890625 18.8125 39.015625 \r\nQ 14.890625 38.140625 10.796875 36.28125 \r\nz\r\n\" id=\"DejaVuSans-53\"/>\r\n       </defs>\r\n       <use xlink:href=\"#DejaVuSans-66\"/>\r\n       <use x=\"68.603516\" xlink:href=\"#DejaVuSans-77\"/>\r\n       <use x=\"154.882812\" xlink:href=\"#DejaVuSans-50\"/>\r\n       <use x=\"218.505859\" xlink:href=\"#DejaVuSans-53\"/>\r\n      </g>\r\n     </g>\r\n    </g>\r\n    <g id=\"text_6\">\r\n     <!-- Search functions -->\r\n     <g transform=\"translate(191.925 296.790014)scale(0.1 -0.1)\">\r\n      <defs>\r\n       <path d=\"M 53.515625 70.515625 \r\nL 53.515625 60.890625 \r\nQ 47.90625 63.578125 42.921875 64.890625 \r\nQ 37.9375 66.21875 33.296875 66.21875 \r\nQ 25.25 66.21875 20.875 63.09375 \r\nQ 16.5 59.96875 16.5 54.203125 \r\nQ 16.5 49.359375 19.40625 46.890625 \r\nQ 22.3125 44.4375 30.421875 42.921875 \r\nL 36.375 41.703125 \r\nQ 47.40625 39.59375 52.65625 34.296875 \r\nQ 57.90625 29 57.90625 20.125 \r\nQ 57.90625 9.515625 50.796875 4.046875 \r\nQ 43.703125 -1.421875 29.984375 -1.421875 \r\nQ 24.8125 -1.421875 18.96875 -0.25 \r\nQ 13.140625 0.921875 6.890625 3.21875 \r\nL 6.890625 13.375 \r\nQ 12.890625 10.015625 18.65625 8.296875 \r\nQ 24.421875 6.59375 29.984375 6.59375 \r\nQ 38.421875 6.59375 43.015625 9.90625 \r\nQ 47.609375 13.234375 47.609375 19.390625 \r\nQ 47.609375 24.75 44.3125 27.78125 \r\nQ 41.015625 30.8125 33.5 32.328125 \r\nL 27.484375 33.5 \r\nQ 16.453125 35.6875 11.515625 40.375 \r\nQ 6.59375 45.0625 6.59375 53.421875 \r\nQ 6.59375 63.09375 13.40625 68.65625 \r\nQ 20.21875 74.21875 32.171875 74.21875 \r\nQ 37.3125 74.21875 42.625 73.28125 \r\nQ 47.953125 72.359375 53.515625 70.515625 \r\nz\r\n\" id=\"DejaVuSans-83\"/>\r\n       <path d=\"M 41.109375 46.296875 \r\nQ 39.59375 47.171875 37.8125 47.578125 \r\nQ 36.03125 48 33.890625 48 \r\nQ 26.265625 48 22.1875 43.046875 \r\nQ 18.109375 38.09375 18.109375 28.8125 \r\nL 18.109375 0 \r\nL 9.078125 0 \r\nL 9.078125 54.6875 \r\nL 18.109375 54.6875 \r\nL 18.109375 46.1875 \r\nQ 20.953125 51.171875 25.484375 53.578125 \r\nQ 30.03125 56 36.53125 56 \r\nQ 37.453125 56 38.578125 55.875 \r\nQ 39.703125 55.765625 41.0625 55.515625 \r\nz\r\n\" id=\"DejaVuSans-114\"/>\r\n       <path d=\"M 48.78125 52.59375 \r\nL 48.78125 44.1875 \r\nQ 44.96875 46.296875 41.140625 47.34375 \r\nQ 37.3125 48.390625 33.40625 48.390625 \r\nQ 24.65625 48.390625 19.8125 42.84375 \r\nQ 14.984375 37.3125 14.984375 27.296875 \r\nQ 14.984375 17.28125 19.8125 11.734375 \r\nQ 24.65625 6.203125 33.40625 6.203125 \r\nQ 37.3125 6.203125 41.140625 7.25 \r\nQ 44.96875 8.296875 48.78125 10.40625 \r\nL 48.78125 2.09375 \r\nQ 45.015625 0.34375 40.984375 -0.53125 \r\nQ 36.96875 -1.421875 32.421875 -1.421875 \r\nQ 20.0625 -1.421875 12.78125 6.34375 \r\nQ 5.515625 14.109375 5.515625 27.296875 \r\nQ 5.515625 40.671875 12.859375 48.328125 \r\nQ 20.21875 56 33.015625 56 \r\nQ 37.15625 56 41.109375 55.140625 \r\nQ 45.0625 54.296875 48.78125 52.59375 \r\nz\r\n\" id=\"DejaVuSans-99\"/>\r\n       <path d=\"M 54.890625 33.015625 \r\nL 54.890625 0 \r\nL 45.90625 0 \r\nL 45.90625 32.71875 \r\nQ 45.90625 40.484375 42.875 44.328125 \r\nQ 39.84375 48.1875 33.796875 48.1875 \r\nQ 26.515625 48.1875 22.3125 43.546875 \r\nQ 18.109375 38.921875 18.109375 30.90625 \r\nL 18.109375 0 \r\nL 9.078125 0 \r\nL 9.078125 75.984375 \r\nL 18.109375 75.984375 \r\nL 18.109375 46.1875 \r\nQ 21.34375 51.125 25.703125 53.5625 \r\nQ 30.078125 56 35.796875 56 \r\nQ 45.21875 56 50.046875 50.171875 \r\nQ 54.890625 44.34375 54.890625 33.015625 \r\nz\r\n\" id=\"DejaVuSans-104\"/>\r\n       <path id=\"DejaVuSans-32\"/>\r\n       <path d=\"M 37.109375 75.984375 \r\nL 37.109375 68.5 \r\nL 28.515625 68.5 \r\nQ 23.6875 68.5 21.796875 66.546875 \r\nQ 19.921875 64.59375 19.921875 59.515625 \r\nL 19.921875 54.6875 \r\nL 34.71875 54.6875 \r\nL 34.71875 47.703125 \r\nL 19.921875 47.703125 \r\nL 19.921875 0 \r\nL 10.890625 0 \r\nL 10.890625 47.703125 \r\nL 2.296875 47.703125 \r\nL 2.296875 54.6875 \r\nL 10.890625 54.6875 \r\nL 10.890625 58.5 \r\nQ 10.890625 67.625 15.140625 71.796875 \r\nQ 19.390625 75.984375 28.609375 75.984375 \r\nz\r\n\" id=\"DejaVuSans-102\"/>\r\n       <path d=\"M 8.5 21.578125 \r\nL 8.5 54.6875 \r\nL 17.484375 54.6875 \r\nL 17.484375 21.921875 \r\nQ 17.484375 14.15625 20.5 10.265625 \r\nQ 23.53125 6.390625 29.59375 6.390625 \r\nQ 36.859375 6.390625 41.078125 11.03125 \r\nQ 45.3125 15.671875 45.3125 23.6875 \r\nL 45.3125 54.6875 \r\nL 54.296875 54.6875 \r\nL 54.296875 0 \r\nL 45.3125 0 \r\nL 45.3125 8.40625 \r\nQ 42.046875 3.421875 37.71875 1 \r\nQ 33.40625 -1.421875 27.6875 -1.421875 \r\nQ 18.265625 -1.421875 13.375 4.4375 \r\nQ 8.5 10.296875 8.5 21.578125 \r\nz\r\nM 31.109375 56 \r\nz\r\n\" id=\"DejaVuSans-117\"/>\r\n       <path d=\"M 54.890625 33.015625 \r\nL 54.890625 0 \r\nL 45.90625 0 \r\nL 45.90625 32.71875 \r\nQ 45.90625 40.484375 42.875 44.328125 \r\nQ 39.84375 48.1875 33.796875 48.1875 \r\nQ 26.515625 48.1875 22.3125 43.546875 \r\nQ 18.109375 38.921875 18.109375 30.90625 \r\nL 18.109375 0 \r\nL 9.078125 0 \r\nL 9.078125 54.6875 \r\nL 18.109375 54.6875 \r\nL 18.109375 46.1875 \r\nQ 21.34375 51.125 25.703125 53.5625 \r\nQ 30.078125 56 35.796875 56 \r\nQ 45.21875 56 50.046875 50.171875 \r\nQ 54.890625 44.34375 54.890625 33.015625 \r\nz\r\n\" id=\"DejaVuSans-110\"/>\r\n       <path d=\"M 18.3125 70.21875 \r\nL 18.3125 54.6875 \r\nL 36.8125 54.6875 \r\nL 36.8125 47.703125 \r\nL 18.3125 47.703125 \r\nL 18.3125 18.015625 \r\nQ 18.3125 11.328125 20.140625 9.421875 \r\nQ 21.96875 7.515625 27.59375 7.515625 \r\nL 36.8125 7.515625 \r\nL 36.8125 0 \r\nL 27.59375 0 \r\nQ 17.1875 0 13.234375 3.875 \r\nQ 9.28125 7.765625 9.28125 18.015625 \r\nL 9.28125 47.703125 \r\nL 2.6875 47.703125 \r\nL 2.6875 54.6875 \r\nL 9.28125 54.6875 \r\nL 9.28125 70.21875 \r\nz\r\n\" id=\"DejaVuSans-116\"/>\r\n       <path d=\"M 30.609375 48.390625 \r\nQ 23.390625 48.390625 19.1875 42.75 \r\nQ 14.984375 37.109375 14.984375 27.296875 \r\nQ 14.984375 17.484375 19.15625 11.84375 \r\nQ 23.34375 6.203125 30.609375 6.203125 \r\nQ 37.796875 6.203125 41.984375 11.859375 \r\nQ 46.1875 17.53125 46.1875 27.296875 \r\nQ 46.1875 37.015625 41.984375 42.703125 \r\nQ 37.796875 48.390625 30.609375 48.390625 \r\nz\r\nM 30.609375 56 \r\nQ 42.328125 56 49.015625 48.375 \r\nQ 55.71875 40.765625 55.71875 27.296875 \r\nQ 55.71875 13.875 49.015625 6.21875 \r\nQ 42.328125 -1.421875 30.609375 -1.421875 \r\nQ 18.84375 -1.421875 12.171875 6.21875 \r\nQ 5.515625 13.875 5.515625 27.296875 \r\nQ 5.515625 40.765625 12.171875 48.375 \r\nQ 18.84375 56 30.609375 56 \r\nz\r\n\" id=\"DejaVuSans-111\"/>\r\n       <path d=\"M 44.28125 53.078125 \r\nL 44.28125 44.578125 \r\nQ 40.484375 46.53125 36.375 47.5 \r\nQ 32.28125 48.484375 27.875 48.484375 \r\nQ 21.1875 48.484375 17.84375 46.4375 \r\nQ 14.5 44.390625 14.5 40.28125 \r\nQ 14.5 37.15625 16.890625 35.375 \r\nQ 19.28125 33.59375 26.515625 31.984375 \r\nL 29.59375 31.296875 \r\nQ 39.15625 29.25 43.1875 25.515625 \r\nQ 47.21875 21.78125 47.21875 15.09375 \r\nQ 47.21875 7.46875 41.1875 3.015625 \r\nQ 35.15625 -1.421875 24.609375 -1.421875 \r\nQ 20.21875 -1.421875 15.453125 -0.5625 \r\nQ 10.6875 0.296875 5.421875 2 \r\nL 5.421875 11.28125 \r\nQ 10.40625 8.6875 15.234375 7.390625 \r\nQ 20.0625 6.109375 24.8125 6.109375 \r\nQ 31.15625 6.109375 34.5625 8.28125 \r\nQ 37.984375 10.453125 37.984375 14.40625 \r\nQ 37.984375 18.0625 35.515625 20.015625 \r\nQ 33.0625 21.96875 24.703125 23.78125 \r\nL 21.578125 24.515625 \r\nQ 13.234375 26.265625 9.515625 29.90625 \r\nQ 5.8125 33.546875 5.8125 39.890625 \r\nQ 5.8125 47.609375 11.28125 51.796875 \r\nQ 16.75 56 26.8125 56 \r\nQ 31.78125 56 36.171875 55.265625 \r\nQ 40.578125 54.546875 44.28125 53.078125 \r\nz\r\n\" id=\"DejaVuSans-115\"/>\r\n      </defs>\r\n      <use xlink:href=\"#DejaVuSans-83\"/>\r\n      <use x=\"63.476562\" xlink:href=\"#DejaVuSans-101\"/>\r\n      <use x=\"125\" xlink:href=\"#DejaVuSans-97\"/>\r\n      <use x=\"186.279297\" xlink:href=\"#DejaVuSans-114\"/>\r\n      <use x=\"225.142578\" xlink:href=\"#DejaVuSans-99\"/>\r\n      <use x=\"280.123047\" xlink:href=\"#DejaVuSans-104\"/>\r\n      <use x=\"343.501953\" xlink:href=\"#DejaVuSans-32\"/>\r\n      <use x=\"375.289062\" xlink:href=\"#DejaVuSans-102\"/>\r\n      <use x=\"410.494141\" xlink:href=\"#DejaVuSans-117\"/>\r\n      <use x=\"473.873047\" xlink:href=\"#DejaVuSans-110\"/>\r\n      <use x=\"537.251953\" xlink:href=\"#DejaVuSans-99\"/>\r\n      <use x=\"592.232422\" xlink:href=\"#DejaVuSans-116\"/>\r\n      <use x=\"631.441406\" xlink:href=\"#DejaVuSans-105\"/>\r\n      <use x=\"659.224609\" xlink:href=\"#DejaVuSans-111\"/>\r\n      <use x=\"720.40625\" xlink:href=\"#DejaVuSans-110\"/>\r\n      <use x=\"783.785156\" xlink:href=\"#DejaVuSans-115\"/>\r\n     </g>\r\n    </g>\r\n   </g>\r\n   <g id=\"matplotlib.axis_2\">\r\n    <g id=\"ytick_1\">\r\n     <g id=\"line2d_6\">\r\n      <defs>\r\n       <path d=\"M 0 0 \r\nL -3.5 0 \r\n\" id=\"m78af5a4c9d\" style=\"stroke:#000000;stroke-width:0.8;\"/>\r\n      </defs>\r\n      <g>\r\n       <use style=\"stroke:#000000;stroke-width:0.8;\" x=\"50.14375\" xlink:href=\"#m78af5a4c9d\" y=\"241.718125\"/>\r\n      </g>\r\n     </g>\r\n     <g id=\"text_7\">\r\n      <!-- 0.00 -->\r\n      <g transform=\"translate(20.878125 245.517344)scale(0.1 -0.1)\">\r\n       <defs>\r\n        <path d=\"M 31.78125 66.40625 \r\nQ 24.171875 66.40625 20.328125 58.90625 \r\nQ 16.5 51.421875 16.5 36.375 \r\nQ 16.5 21.390625 20.328125 13.890625 \r\nQ 24.171875 6.390625 31.78125 6.390625 \r\nQ 39.453125 6.390625 43.28125 13.890625 \r\nQ 47.125 21.390625 47.125 36.375 \r\nQ 47.125 51.421875 43.28125 58.90625 \r\nQ 39.453125 66.40625 31.78125 66.40625 \r\nz\r\nM 31.78125 74.21875 \r\nQ 44.046875 74.21875 50.515625 64.515625 \r\nQ 56.984375 54.828125 56.984375 36.375 \r\nQ 56.984375 17.96875 50.515625 8.265625 \r\nQ 44.046875 -1.421875 31.78125 -1.421875 \r\nQ 19.53125 -1.421875 13.0625 8.265625 \r\nQ 6.59375 17.96875 6.59375 36.375 \r\nQ 6.59375 54.828125 13.0625 64.515625 \r\nQ 19.53125 74.21875 31.78125 74.21875 \r\nz\r\n\" id=\"DejaVuSans-48\"/>\r\n        <path d=\"M 10.6875 12.40625 \r\nL 21 12.40625 \r\nL 21 0 \r\nL 10.6875 0 \r\nz\r\n\" id=\"DejaVuSans-46\"/>\r\n       </defs>\r\n       <use xlink:href=\"#DejaVuSans-48\"/>\r\n       <use x=\"63.623047\" xlink:href=\"#DejaVuSans-46\"/>\r\n       <use x=\"95.410156\" xlink:href=\"#DejaVuSans-48\"/>\r\n       <use x=\"159.033203\" xlink:href=\"#DejaVuSans-48\"/>\r\n      </g>\r\n     </g>\r\n    </g>\r\n    <g id=\"ytick_2\">\r\n     <g id=\"line2d_7\">\r\n      <g>\r\n       <use style=\"stroke:#000000;stroke-width:0.8;\" x=\"50.14375\" xlink:href=\"#m78af5a4c9d\" y=\"204.335685\"/>\r\n      </g>\r\n     </g>\r\n     <g id=\"text_8\">\r\n      <!-- 0.05 -->\r\n      <g transform=\"translate(20.878125 208.134904)scale(0.1 -0.1)\">\r\n       <use xlink:href=\"#DejaVuSans-48\"/>\r\n       <use x=\"63.623047\" xlink:href=\"#DejaVuSans-46\"/>\r\n       <use x=\"95.410156\" xlink:href=\"#DejaVuSans-48\"/>\r\n       <use x=\"159.033203\" xlink:href=\"#DejaVuSans-53\"/>\r\n      </g>\r\n     </g>\r\n    </g>\r\n    <g id=\"ytick_3\">\r\n     <g id=\"line2d_8\">\r\n      <g>\r\n       <use style=\"stroke:#000000;stroke-width:0.8;\" x=\"50.14375\" xlink:href=\"#m78af5a4c9d\" y=\"166.953245\"/>\r\n      </g>\r\n     </g>\r\n     <g id=\"text_9\">\r\n      <!-- 0.10 -->\r\n      <g transform=\"translate(20.878125 170.752464)scale(0.1 -0.1)\">\r\n       <defs>\r\n        <path d=\"M 12.40625 8.296875 \r\nL 28.515625 8.296875 \r\nL 28.515625 63.921875 \r\nL 10.984375 60.40625 \r\nL 10.984375 69.390625 \r\nL 28.421875 72.90625 \r\nL 38.28125 72.90625 \r\nL 38.28125 8.296875 \r\nL 54.390625 8.296875 \r\nL 54.390625 0 \r\nL 12.40625 0 \r\nz\r\n\" id=\"DejaVuSans-49\"/>\r\n       </defs>\r\n       <use xlink:href=\"#DejaVuSans-48\"/>\r\n       <use x=\"63.623047\" xlink:href=\"#DejaVuSans-46\"/>\r\n       <use x=\"95.410156\" xlink:href=\"#DejaVuSans-49\"/>\r\n       <use x=\"159.033203\" xlink:href=\"#DejaVuSans-48\"/>\r\n      </g>\r\n     </g>\r\n    </g>\r\n    <g id=\"ytick_4\">\r\n     <g id=\"line2d_9\">\r\n      <g>\r\n       <use style=\"stroke:#000000;stroke-width:0.8;\" x=\"50.14375\" xlink:href=\"#m78af5a4c9d\" y=\"129.570805\"/>\r\n      </g>\r\n     </g>\r\n     <g id=\"text_10\">\r\n      <!-- 0.15 -->\r\n      <g transform=\"translate(20.878125 133.370024)scale(0.1 -0.1)\">\r\n       <use xlink:href=\"#DejaVuSans-48\"/>\r\n       <use x=\"63.623047\" xlink:href=\"#DejaVuSans-46\"/>\r\n       <use x=\"95.410156\" xlink:href=\"#DejaVuSans-49\"/>\r\n       <use x=\"159.033203\" xlink:href=\"#DejaVuSans-53\"/>\r\n      </g>\r\n     </g>\r\n    </g>\r\n    <g id=\"ytick_5\">\r\n     <g id=\"line2d_10\">\r\n      <g>\r\n       <use style=\"stroke:#000000;stroke-width:0.8;\" x=\"50.14375\" xlink:href=\"#m78af5a4c9d\" y=\"92.188366\"/>\r\n      </g>\r\n     </g>\r\n     <g id=\"text_11\">\r\n      <!-- 0.20 -->\r\n      <g transform=\"translate(20.878125 95.987584)scale(0.1 -0.1)\">\r\n       <use xlink:href=\"#DejaVuSans-48\"/>\r\n       <use x=\"63.623047\" xlink:href=\"#DejaVuSans-46\"/>\r\n       <use x=\"95.410156\" xlink:href=\"#DejaVuSans-50\"/>\r\n       <use x=\"159.033203\" xlink:href=\"#DejaVuSans-48\"/>\r\n      </g>\r\n     </g>\r\n    </g>\r\n    <g id=\"ytick_6\">\r\n     <g id=\"line2d_11\">\r\n      <g>\r\n       <use style=\"stroke:#000000;stroke-width:0.8;\" x=\"50.14375\" xlink:href=\"#m78af5a4c9d\" y=\"54.805926\"/>\r\n      </g>\r\n     </g>\r\n     <g id=\"text_12\">\r\n      <!-- 0.25 -->\r\n      <g transform=\"translate(20.878125 58.605145)scale(0.1 -0.1)\">\r\n       <use xlink:href=\"#DejaVuSans-48\"/>\r\n       <use x=\"63.623047\" xlink:href=\"#DejaVuSans-46\"/>\r\n       <use x=\"95.410156\" xlink:href=\"#DejaVuSans-50\"/>\r\n       <use x=\"159.033203\" xlink:href=\"#DejaVuSans-53\"/>\r\n      </g>\r\n     </g>\r\n    </g>\r\n    <g id=\"text_13\">\r\n     <!-- Results -->\r\n     <g transform=\"translate(14.798438 150.07125)rotate(-90)scale(0.1 -0.1)\">\r\n      <defs>\r\n       <path d=\"M 44.390625 34.1875 \r\nQ 47.5625 33.109375 50.5625 29.59375 \r\nQ 53.5625 26.078125 56.59375 19.921875 \r\nL 66.609375 0 \r\nL 56 0 \r\nL 46.6875 18.703125 \r\nQ 43.0625 26.03125 39.671875 28.421875 \r\nQ 36.28125 30.8125 30.421875 30.8125 \r\nL 19.671875 30.8125 \r\nL 19.671875 0 \r\nL 9.8125 0 \r\nL 9.8125 72.90625 \r\nL 32.078125 72.90625 \r\nQ 44.578125 72.90625 50.734375 67.671875 \r\nQ 56.890625 62.453125 56.890625 51.90625 \r\nQ 56.890625 45.015625 53.6875 40.46875 \r\nQ 50.484375 35.9375 44.390625 34.1875 \r\nz\r\nM 19.671875 64.796875 \r\nL 19.671875 38.921875 \r\nL 32.078125 38.921875 \r\nQ 39.203125 38.921875 42.84375 42.21875 \r\nQ 46.484375 45.515625 46.484375 51.90625 \r\nQ 46.484375 58.296875 42.84375 61.546875 \r\nQ 39.203125 64.796875 32.078125 64.796875 \r\nz\r\n\" id=\"DejaVuSans-82\"/>\r\n       <path d=\"M 9.421875 75.984375 \r\nL 18.40625 75.984375 \r\nL 18.40625 0 \r\nL 9.421875 0 \r\nz\r\n\" id=\"DejaVuSans-108\"/>\r\n      </defs>\r\n      <use xlink:href=\"#DejaVuSans-82\"/>\r\n      <use x=\"64.982422\" xlink:href=\"#DejaVuSans-101\"/>\r\n      <use x=\"126.505859\" xlink:href=\"#DejaVuSans-115\"/>\r\n      <use x=\"178.605469\" xlink:href=\"#DejaVuSans-117\"/>\r\n      <use x=\"241.984375\" xlink:href=\"#DejaVuSans-108\"/>\r\n      <use x=\"269.767578\" xlink:href=\"#DejaVuSans-116\"/>\r\n      <use x=\"308.976562\" xlink:href=\"#DejaVuSans-115\"/>\r\n     </g>\r\n    </g>\r\n   </g>\r\n   <g id=\"patch_13\">\r\n    <path d=\"M 50.14375 241.718125 \r\nL 50.14375 22.318125 \r\n\" style=\"fill:none;stroke:#000000;stroke-linecap:square;stroke-linejoin:miter;stroke-width:0.8;\"/>\r\n   </g>\r\n   <g id=\"patch_14\">\r\n    <path d=\"M 417.29375 241.718125 \r\nL 417.29375 22.318125 \r\n\" style=\"fill:none;stroke:#000000;stroke-linecap:square;stroke-linejoin:miter;stroke-width:0.8;\"/>\r\n   </g>\r\n   <g id=\"patch_15\">\r\n    <path d=\"M 50.14375 241.718125 \r\nL 417.29375 241.718125 \r\n\" style=\"fill:none;stroke:#000000;stroke-linecap:square;stroke-linejoin:miter;stroke-width:0.8;\"/>\r\n   </g>\r\n   <g id=\"patch_16\">\r\n    <path d=\"M 50.14375 22.318125 \r\nL 417.29375 22.318125 \r\n\" style=\"fill:none;stroke:#000000;stroke-linecap:square;stroke-linejoin:miter;stroke-width:0.8;\"/>\r\n   </g>\r\n   <g id=\"text_14\">\r\n    <!-- Results using MAP metric -->\r\n    <g transform=\"translate(157.907812 16.318125)scale(0.12 -0.12)\">\r\n     <defs>\r\n      <path d=\"M 45.40625 27.984375 \r\nQ 45.40625 37.75 41.375 43.109375 \r\nQ 37.359375 48.484375 30.078125 48.484375 \r\nQ 22.859375 48.484375 18.828125 43.109375 \r\nQ 14.796875 37.75 14.796875 27.984375 \r\nQ 14.796875 18.265625 18.828125 12.890625 \r\nQ 22.859375 7.515625 30.078125 7.515625 \r\nQ 37.359375 7.515625 41.375 12.890625 \r\nQ 45.40625 18.265625 45.40625 27.984375 \r\nz\r\nM 54.390625 6.78125 \r\nQ 54.390625 -7.171875 48.1875 -13.984375 \r\nQ 42 -20.796875 29.203125 -20.796875 \r\nQ 24.46875 -20.796875 20.265625 -20.09375 \r\nQ 16.0625 -19.390625 12.109375 -17.921875 \r\nL 12.109375 -9.1875 \r\nQ 16.0625 -11.328125 19.921875 -12.34375 \r\nQ 23.78125 -13.375 27.78125 -13.375 \r\nQ 36.625 -13.375 41.015625 -8.765625 \r\nQ 45.40625 -4.15625 45.40625 5.171875 \r\nL 45.40625 9.625 \r\nQ 42.625 4.78125 38.28125 2.390625 \r\nQ 33.9375 0 27.875 0 \r\nQ 17.828125 0 11.671875 7.65625 \r\nQ 5.515625 15.328125 5.515625 27.984375 \r\nQ 5.515625 40.671875 11.671875 48.328125 \r\nQ 17.828125 56 27.875 56 \r\nQ 33.9375 56 38.28125 53.609375 \r\nQ 42.625 51.21875 45.40625 46.390625 \r\nL 45.40625 54.6875 \r\nL 54.390625 54.6875 \r\nz\r\n\" id=\"DejaVuSans-103\"/>\r\n      <path d=\"M 34.1875 63.1875 \r\nL 20.796875 26.90625 \r\nL 47.609375 26.90625 \r\nz\r\nM 28.609375 72.90625 \r\nL 39.796875 72.90625 \r\nL 67.578125 0 \r\nL 57.328125 0 \r\nL 50.6875 18.703125 \r\nL 17.828125 18.703125 \r\nL 11.1875 0 \r\nL 0.78125 0 \r\nz\r\n\" id=\"DejaVuSans-65\"/>\r\n      <path d=\"M 19.671875 64.796875 \r\nL 19.671875 37.40625 \r\nL 32.078125 37.40625 \r\nQ 38.96875 37.40625 42.71875 40.96875 \r\nQ 46.484375 44.53125 46.484375 51.125 \r\nQ 46.484375 57.671875 42.71875 61.234375 \r\nQ 38.96875 64.796875 32.078125 64.796875 \r\nz\r\nM 9.8125 72.90625 \r\nL 32.078125 72.90625 \r\nQ 44.34375 72.90625 50.609375 67.359375 \r\nQ 56.890625 61.8125 56.890625 51.125 \r\nQ 56.890625 40.328125 50.609375 34.8125 \r\nQ 44.34375 29.296875 32.078125 29.296875 \r\nL 19.671875 29.296875 \r\nL 19.671875 0 \r\nL 9.8125 0 \r\nz\r\n\" id=\"DejaVuSans-80\"/>\r\n      <path d=\"M 52 44.1875 \r\nQ 55.375 50.25 60.0625 53.125 \r\nQ 64.75 56 71.09375 56 \r\nQ 79.640625 56 84.28125 50.015625 \r\nQ 88.921875 44.046875 88.921875 33.015625 \r\nL 88.921875 0 \r\nL 79.890625 0 \r\nL 79.890625 32.71875 \r\nQ 79.890625 40.578125 77.09375 44.375 \r\nQ 74.3125 48.1875 68.609375 48.1875 \r\nQ 61.625 48.1875 57.5625 43.546875 \r\nQ 53.515625 38.921875 53.515625 30.90625 \r\nL 53.515625 0 \r\nL 44.484375 0 \r\nL 44.484375 32.71875 \r\nQ 44.484375 40.625 41.703125 44.40625 \r\nQ 38.921875 48.1875 33.109375 48.1875 \r\nQ 26.21875 48.1875 22.15625 43.53125 \r\nQ 18.109375 38.875 18.109375 30.90625 \r\nL 18.109375 0 \r\nL 9.078125 0 \r\nL 9.078125 54.6875 \r\nL 18.109375 54.6875 \r\nL 18.109375 46.1875 \r\nQ 21.1875 51.21875 25.484375 53.609375 \r\nQ 29.78125 56 35.6875 56 \r\nQ 41.65625 56 45.828125 52.96875 \r\nQ 50 49.953125 52 44.1875 \r\nz\r\n\" id=\"DejaVuSans-109\"/>\r\n     </defs>\r\n     <use xlink:href=\"#DejaVuSans-82\"/>\r\n     <use x=\"64.982422\" xlink:href=\"#DejaVuSans-101\"/>\r\n     <use x=\"126.505859\" xlink:href=\"#DejaVuSans-115\"/>\r\n     <use x=\"178.605469\" xlink:href=\"#DejaVuSans-117\"/>\r\n     <use x=\"241.984375\" xlink:href=\"#DejaVuSans-108\"/>\r\n     <use x=\"269.767578\" xlink:href=\"#DejaVuSans-116\"/>\r\n     <use x=\"308.976562\" xlink:href=\"#DejaVuSans-115\"/>\r\n     <use x=\"361.076172\" xlink:href=\"#DejaVuSans-32\"/>\r\n     <use x=\"392.863281\" xlink:href=\"#DejaVuSans-117\"/>\r\n     <use x=\"456.242188\" xlink:href=\"#DejaVuSans-115\"/>\r\n     <use x=\"508.341797\" xlink:href=\"#DejaVuSans-105\"/>\r\n     <use x=\"536.125\" xlink:href=\"#DejaVuSans-110\"/>\r\n     <use x=\"599.503906\" xlink:href=\"#DejaVuSans-103\"/>\r\n     <use x=\"662.980469\" xlink:href=\"#DejaVuSans-32\"/>\r\n     <use x=\"694.767578\" xlink:href=\"#DejaVuSans-77\"/>\r\n     <use x=\"781.046875\" xlink:href=\"#DejaVuSans-65\"/>\r\n     <use x=\"849.455078\" xlink:href=\"#DejaVuSans-80\"/>\r\n     <use x=\"909.757812\" xlink:href=\"#DejaVuSans-32\"/>\r\n     <use x=\"941.544922\" xlink:href=\"#DejaVuSans-109\"/>\r\n     <use x=\"1038.957031\" xlink:href=\"#DejaVuSans-101\"/>\r\n     <use x=\"1100.480469\" xlink:href=\"#DejaVuSans-116\"/>\r\n     <use x=\"1139.689453\" xlink:href=\"#DejaVuSans-114\"/>\r\n     <use x=\"1180.802734\" xlink:href=\"#DejaVuSans-105\"/>\r\n     <use x=\"1208.585938\" xlink:href=\"#DejaVuSans-99\"/>\r\n    </g>\r\n   </g>\r\n   <g id=\"legend_1\">\r\n    <g id=\"patch_17\">\r\n     <path d=\"M 57.14375 59.674375 \r\nL 156.235938 59.674375 \r\nQ 158.235938 59.674375 158.235938 57.674375 \r\nL 158.235938 29.318125 \r\nQ 158.235938 27.318125 156.235938 27.318125 \r\nL 57.14375 27.318125 \r\nQ 55.14375 27.318125 55.14375 29.318125 \r\nL 55.14375 57.674375 \r\nQ 55.14375 59.674375 57.14375 59.674375 \r\nz\r\n\" style=\"fill:#ffffff;opacity:0.8;stroke:#cccccc;stroke-linejoin:miter;\"/>\r\n    </g>\r\n    <g id=\"patch_18\">\r\n     <path d=\"M 59.14375 38.916562 \r\nL 79.14375 38.916562 \r\nL 79.14375 31.916562 \r\nL 59.14375 31.916562 \r\nz\r\n\" style=\"fill:#0000ff;opacity:0.8;\"/>\r\n    </g>\r\n    <g id=\"text_15\">\r\n     <!-- Index set = 1 -->\r\n     <g transform=\"translate(87.14375 38.916562)scale(0.1 -0.1)\">\r\n      <defs>\r\n       <path d=\"M 45.40625 46.390625 \r\nL 45.40625 75.984375 \r\nL 54.390625 75.984375 \r\nL 54.390625 0 \r\nL 45.40625 0 \r\nL 45.40625 8.203125 \r\nQ 42.578125 3.328125 38.25 0.953125 \r\nQ 33.9375 -1.421875 27.875 -1.421875 \r\nQ 17.96875 -1.421875 11.734375 6.484375 \r\nQ 5.515625 14.40625 5.515625 27.296875 \r\nQ 5.515625 40.1875 11.734375 48.09375 \r\nQ 17.96875 56 27.875 56 \r\nQ 33.9375 56 38.25 53.625 \r\nQ 42.578125 51.265625 45.40625 46.390625 \r\nz\r\nM 14.796875 27.296875 \r\nQ 14.796875 17.390625 18.875 11.75 \r\nQ 22.953125 6.109375 30.078125 6.109375 \r\nQ 37.203125 6.109375 41.296875 11.75 \r\nQ 45.40625 17.390625 45.40625 27.296875 \r\nQ 45.40625 37.203125 41.296875 42.84375 \r\nQ 37.203125 48.484375 30.078125 48.484375 \r\nQ 22.953125 48.484375 18.875 42.84375 \r\nQ 14.796875 37.203125 14.796875 27.296875 \r\nz\r\n\" id=\"DejaVuSans-100\"/>\r\n       <path d=\"M 54.890625 54.6875 \r\nL 35.109375 28.078125 \r\nL 55.90625 0 \r\nL 45.3125 0 \r\nL 29.390625 21.484375 \r\nL 13.484375 0 \r\nL 2.875 0 \r\nL 24.125 28.609375 \r\nL 4.6875 54.6875 \r\nL 15.28125 54.6875 \r\nL 29.78125 35.203125 \r\nL 44.28125 54.6875 \r\nz\r\n\" id=\"DejaVuSans-120\"/>\r\n       <path d=\"M 10.59375 45.40625 \r\nL 73.1875 45.40625 \r\nL 73.1875 37.203125 \r\nL 10.59375 37.203125 \r\nz\r\nM 10.59375 25.484375 \r\nL 73.1875 25.484375 \r\nL 73.1875 17.1875 \r\nL 10.59375 17.1875 \r\nz\r\n\" id=\"DejaVuSans-61\"/>\r\n      </defs>\r\n      <use xlink:href=\"#DejaVuSans-73\"/>\r\n      <use x=\"29.492188\" xlink:href=\"#DejaVuSans-110\"/>\r\n      <use x=\"92.871094\" xlink:href=\"#DejaVuSans-100\"/>\r\n      <use x=\"156.347656\" xlink:href=\"#DejaVuSans-101\"/>\r\n      <use x=\"216.121094\" xlink:href=\"#DejaVuSans-120\"/>\r\n      <use x=\"275.300781\" xlink:href=\"#DejaVuSans-32\"/>\r\n      <use x=\"307.087891\" xlink:href=\"#DejaVuSans-115\"/>\r\n      <use x=\"359.1875\" xlink:href=\"#DejaVuSans-101\"/>\r\n      <use x=\"420.710938\" xlink:href=\"#DejaVuSans-116\"/>\r\n      <use x=\"459.919922\" xlink:href=\"#DejaVuSans-32\"/>\r\n      <use x=\"491.707031\" xlink:href=\"#DejaVuSans-61\"/>\r\n      <use x=\"575.496094\" xlink:href=\"#DejaVuSans-32\"/>\r\n      <use x=\"607.283203\" xlink:href=\"#DejaVuSans-49\"/>\r\n     </g>\r\n    </g>\r\n    <g id=\"patch_19\">\r\n     <path d=\"M 59.14375 53.594687 \r\nL 79.14375 53.594687 \r\nL 79.14375 46.594687 \r\nL 59.14375 46.594687 \r\nz\r\n\" style=\"fill:#008000;opacity:0.8;\"/>\r\n    </g>\r\n    <g id=\"text_16\">\r\n     <!-- Index set = 2 -->\r\n     <g transform=\"translate(87.14375 53.594687)scale(0.1 -0.1)\">\r\n      <use xlink:href=\"#DejaVuSans-73\"/>\r\n      <use x=\"29.492188\" xlink:href=\"#DejaVuSans-110\"/>\r\n      <use x=\"92.871094\" xlink:href=\"#DejaVuSans-100\"/>\r\n      <use x=\"156.347656\" xlink:href=\"#DejaVuSans-101\"/>\r\n      <use x=\"216.121094\" xlink:href=\"#DejaVuSans-120\"/>\r\n      <use x=\"275.300781\" xlink:href=\"#DejaVuSans-32\"/>\r\n      <use x=\"307.087891\" xlink:href=\"#DejaVuSans-115\"/>\r\n      <use x=\"359.1875\" xlink:href=\"#DejaVuSans-101\"/>\r\n      <use x=\"420.710938\" xlink:href=\"#DejaVuSans-116\"/>\r\n      <use x=\"459.919922\" xlink:href=\"#DejaVuSans-32\"/>\r\n      <use x=\"491.707031\" xlink:href=\"#DejaVuSans-61\"/>\r\n      <use x=\"575.496094\" xlink:href=\"#DejaVuSans-32\"/>\r\n      <use x=\"607.283203\" xlink:href=\"#DejaVuSans-50\"/>\r\n     </g>\r\n    </g>\r\n   </g>\r\n  </g>\r\n </g>\r\n <defs>\r\n  <clipPath id=\"pb9f78d4530\">\r\n   <rect height=\"219.4\" width=\"367.15\" x=\"50.14375\" y=\"22.318125\"/>\r\n  </clipPath>\r\n </defs>\r\n</svg>\r\n",
      "image/png": "[encoded data removed]"
     },
     "metadata": {
      "needs_background": "light"
     }
    },
    {
     "output_type": "display_data",
     "data": {
      "text/plain": "<Figure size 432x288 with 1 Axes>",
      "image/svg+xml": "<?xml version=\"1.0\" encoding=\"utf-8\" standalone=\"no\"?>\r\n<!DOCTYPE svg PUBLIC \"-//W3C//DTD SVG 1.1//EN\"\r\n  \"http://www.w3.org/Graphics/SVG/1.1/DTD/svg11.dtd\">\r\n<!-- Created with matplotlib (https://matplotlib.org/) -->\r\n<svg height=\"306.069702pt\" version=\"1.1\" viewBox=\"0 0 424.61875 306.069702\" width=\"424.61875pt\" xmlns=\"http://www.w3.org/2000/svg\" xmlns:xlink=\"http://www.w3.org/1999/xlink\">\r\n <metadata>\r\n  <rdf:RDF xmlns:cc=\"http://creativecommons.org/ns#\" xmlns:dc=\"http://purl.org/dc/elements/1.1/\" xmlns:rdf=\"http://www.w3.org/1999/02/22-rdf-syntax-ns#\">\r\n   <cc:Work>\r\n    <dc:type rdf:resource=\"http://purl.org/dc/dcmitype/StillImage\"/>\r\n    <dc:date>2021-02-19T17:36:06.436177</dc:date>\r\n    <dc:format>image/svg+xml</dc:format>\r\n    <dc:creator>\r\n     <cc:Agent>\r\n      <dc:title>Matplotlib v3.3.4, https://matplotlib.org/</dc:title>\r\n     </cc:Agent>\r\n    </dc:creator>\r\n   </cc:Work>\r\n  </rdf:RDF>\r\n </metadata>\r\n <defs>\r\n  <style type=\"text/css\">*{stroke-linecap:butt;stroke-linejoin:round;}</style>\r\n </defs>\r\n <g id=\"figure_1\">\r\n  <g id=\"patch_1\">\r\n   <path d=\"M 0 306.069702 \r\nL 424.61875 306.069702 \r\nL 424.61875 0 \r\nL 0 0 \r\nz\r\n\" style=\"fill:none;\"/>\r\n  </g>\r\n  <g id=\"axes_1\">\r\n   <g id=\"patch_2\">\r\n    <path d=\"M 50.14375 241.718125 \r\nL 417.41875 241.718125 \r\nL 417.41875 22.318125 \r\nL 50.14375 22.318125 \r\nz\r\n\" style=\"fill:#ffffff;\"/>\r\n   </g>\r\n   <g id=\"patch_3\">\r\n    <path clip-path=\"url(#p4c1a9f42a8)\" d=\"M 66.838068 241.718125 \r\nL 91.701946 241.718125 \r\nL 91.701946 151.313719 \r\nL 66.838068 151.313719 \r\nz\r\n\" style=\"fill:#0000ff;opacity:0.8;\"/>\r\n   </g>\r\n   <g id=\"patch_4\">\r\n    <path clip-path=\"url(#p4c1a9f42a8)\" d=\"M 137.87772 241.718125 \r\nL 162.741598 241.718125 \r\nL 162.741598 32.765744 \r\nL 137.87772 32.765744 \r\nz\r\n\" style=\"fill:#0000ff;opacity:0.8;\"/>\r\n   </g>\r\n   <g id=\"patch_5\">\r\n    <path clip-path=\"url(#p4c1a9f42a8)\" d=\"M 208.917372 241.718125 \r\nL 233.78125 241.718125 \r\nL 233.78125 231.997573 \r\nL 208.917372 231.997573 \r\nz\r\n\" style=\"fill:#0000ff;opacity:0.8;\"/>\r\n   </g>\r\n   <g id=\"patch_6\">\r\n    <path clip-path=\"url(#p4c1a9f42a8)\" d=\"M 279.957024 241.718125 \r\nL 304.820902 241.718125 \r\nL 304.820902 109.461121 \r\nL 279.957024 109.461121 \r\nz\r\n\" style=\"fill:#0000ff;opacity:0.8;\"/>\r\n   </g>\r\n   <g id=\"patch_7\">\r\n    <path clip-path=\"url(#p4c1a9f42a8)\" d=\"M 350.996676 241.718125 \r\nL 375.860554 241.718125 \r\nL 375.860554 56.065317 \r\nL 350.996676 56.065317 \r\nz\r\n\" style=\"fill:#0000ff;opacity:0.8;\"/>\r\n   </g>\r\n   <g id=\"patch_8\">\r\n    <path clip-path=\"url(#p4c1a9f42a8)\" d=\"M 91.701946 241.718125 \r\nL 116.565824 241.718125 \r\nL 116.565824 141.855322 \r\nL 91.701946 141.855322 \r\nz\r\n\" style=\"fill:#008000;opacity:0.8;\"/>\r\n   </g>\r\n   <g id=\"patch_9\">\r\n    <path clip-path=\"url(#p4c1a9f42a8)\" d=\"M 162.741598 241.718125 \r\nL 187.605476 241.718125 \r\nL 187.605476 89.220771 \r\nL 162.741598 89.220771 \r\nz\r\n\" style=\"fill:#008000;opacity:0.8;\"/>\r\n   </g>\r\n   <g id=\"patch_10\">\r\n    <path clip-path=\"url(#p4c1a9f42a8)\" d=\"M 233.78125 241.718125 \r\nL 258.645128 241.718125 \r\nL 258.645128 216.198839 \r\nL 233.78125 216.198839 \r\nz\r\n\" style=\"fill:#008000;opacity:0.8;\"/>\r\n   </g>\r\n   <g id=\"patch_11\">\r\n    <path clip-path=\"url(#p4c1a9f42a8)\" d=\"M 304.820902 241.718125 \r\nL 329.68478 241.718125 \r\nL 329.68478 93.434672 \r\nL 304.820902 93.434672 \r\nz\r\n\" style=\"fill:#008000;opacity:0.8;\"/>\r\n   </g>\r\n   <g id=\"patch_12\">\r\n    <path clip-path=\"url(#p4c1a9f42a8)\" d=\"M 375.860554 241.718125 \r\nL 400.724432 241.718125 \r\nL 400.724432 60.823498 \r\nL 375.860554 60.823498 \r\nz\r\n\" style=\"fill:#008000;opacity:0.8;\"/>\r\n   </g>\r\n   <g id=\"matplotlib.axis_1\">\r\n    <g id=\"xtick_1\">\r\n     <g id=\"line2d_1\">\r\n      <defs>\r\n       <path d=\"M 0 0 \r\nL 0 3.5 \r\n\" id=\"mfe0026349b\" style=\"stroke:#000000;stroke-width:0.8;\"/>\r\n      </defs>\r\n      <g>\r\n       <use style=\"stroke:#000000;stroke-width:0.8;\" x=\"104.133885\" xlink:href=\"#mfe0026349b\" y=\"241.718125\"/>\r\n      </g>\r\n     </g>\r\n     <g id=\"text_1\">\r\n      <!-- BOW -->\r\n      <g transform=\"translate(97.442335 271.376478)rotate(-45)scale(0.1 -0.1)\">\r\n       <defs>\r\n        <path d=\"M 19.671875 34.8125 \r\nL 19.671875 8.109375 \r\nL 35.5 8.109375 \r\nQ 43.453125 8.109375 47.28125 11.40625 \r\nQ 51.125 14.703125 51.125 21.484375 \r\nQ 51.125 28.328125 47.28125 31.5625 \r\nQ 43.453125 34.8125 35.5 34.8125 \r\nz\r\nM 19.671875 64.796875 \r\nL 19.671875 42.828125 \r\nL 34.28125 42.828125 \r\nQ 41.5 42.828125 45.03125 45.53125 \r\nQ 48.578125 48.25 48.578125 53.8125 \r\nQ 48.578125 59.328125 45.03125 62.0625 \r\nQ 41.5 64.796875 34.28125 64.796875 \r\nz\r\nM 9.8125 72.90625 \r\nL 35.015625 72.90625 \r\nQ 46.296875 72.90625 52.390625 68.21875 \r\nQ 58.5 63.53125 58.5 54.890625 \r\nQ 58.5 48.1875 55.375 44.234375 \r\nQ 52.25 40.28125 46.1875 39.3125 \r\nQ 53.46875 37.75 57.5 32.78125 \r\nQ 61.53125 27.828125 61.53125 20.40625 \r\nQ 61.53125 10.640625 54.890625 5.3125 \r\nQ 48.25 0 35.984375 0 \r\nL 9.8125 0 \r\nz\r\n\" id=\"DejaVuSans-66\"/>\r\n        <path d=\"M 39.40625 66.21875 \r\nQ 28.65625 66.21875 22.328125 58.203125 \r\nQ 16.015625 50.203125 16.015625 36.375 \r\nQ 16.015625 22.609375 22.328125 14.59375 \r\nQ 28.65625 6.59375 39.40625 6.59375 \r\nQ 50.140625 6.59375 56.421875 14.59375 \r\nQ 62.703125 22.609375 62.703125 36.375 \r\nQ 62.703125 50.203125 56.421875 58.203125 \r\nQ 50.140625 66.21875 39.40625 66.21875 \r\nz\r\nM 39.40625 74.21875 \r\nQ 54.734375 74.21875 63.90625 63.9375 \r\nQ 73.09375 53.65625 73.09375 36.375 \r\nQ 73.09375 19.140625 63.90625 8.859375 \r\nQ 54.734375 -1.421875 39.40625 -1.421875 \r\nQ 24.03125 -1.421875 14.8125 8.828125 \r\nQ 5.609375 19.09375 5.609375 36.375 \r\nQ 5.609375 53.65625 14.8125 63.9375 \r\nQ 24.03125 74.21875 39.40625 74.21875 \r\nz\r\n\" id=\"DejaVuSans-79\"/>\r\n        <path d=\"M 3.328125 72.90625 \r\nL 13.28125 72.90625 \r\nL 28.609375 11.28125 \r\nL 43.890625 72.90625 \r\nL 54.984375 72.90625 \r\nL 70.3125 11.28125 \r\nL 85.59375 72.90625 \r\nL 95.609375 72.90625 \r\nL 77.296875 0 \r\nL 64.890625 0 \r\nL 49.515625 63.28125 \r\nL 33.984375 0 \r\nL 21.578125 0 \r\nz\r\n\" id=\"DejaVuSans-87\"/>\r\n       </defs>\r\n       <use xlink:href=\"#DejaVuSans-66\"/>\r\n       <use x=\"66.853516\" xlink:href=\"#DejaVuSans-79\"/>\r\n       <use x=\"145.564453\" xlink:href=\"#DejaVuSans-87\"/>\r\n      </g>\r\n     </g>\r\n    </g>\r\n    <g id=\"xtick_2\">\r\n     <g id=\"line2d_2\">\r\n      <g>\r\n       <use style=\"stroke:#000000;stroke-width:0.8;\" x=\"175.173537\" xlink:href=\"#mfe0026349b\" y=\"241.718125\"/>\r\n      </g>\r\n     </g>\r\n     <g id=\"text_2\">\r\n      <!-- TF-IDF -->\r\n      <g transform=\"translate(165.857405 276.625641)rotate(-45)scale(0.1 -0.1)\">\r\n       <defs>\r\n        <path d=\"M -0.296875 72.90625 \r\nL 61.375 72.90625 \r\nL 61.375 64.59375 \r\nL 35.5 64.59375 \r\nL 35.5 0 \r\nL 25.59375 0 \r\nL 25.59375 64.59375 \r\nL -0.296875 64.59375 \r\nz\r\n\" id=\"DejaVuSans-84\"/>\r\n        <path d=\"M 9.8125 72.90625 \r\nL 51.703125 72.90625 \r\nL 51.703125 64.59375 \r\nL 19.671875 64.59375 \r\nL 19.671875 43.109375 \r\nL 48.578125 43.109375 \r\nL 48.578125 34.8125 \r\nL 19.671875 34.8125 \r\nL 19.671875 0 \r\nL 9.8125 0 \r\nz\r\n\" id=\"DejaVuSans-70\"/>\r\n        <path d=\"M 4.890625 31.390625 \r\nL 31.203125 31.390625 \r\nL 31.203125 23.390625 \r\nL 4.890625 23.390625 \r\nz\r\n\" id=\"DejaVuSans-45\"/>\r\n        <path d=\"M 9.8125 72.90625 \r\nL 19.671875 72.90625 \r\nL 19.671875 0 \r\nL 9.8125 0 \r\nz\r\n\" id=\"DejaVuSans-73\"/>\r\n        <path d=\"M 19.671875 64.796875 \r\nL 19.671875 8.109375 \r\nL 31.59375 8.109375 \r\nQ 46.6875 8.109375 53.6875 14.9375 \r\nQ 60.6875 21.78125 60.6875 36.53125 \r\nQ 60.6875 51.171875 53.6875 57.984375 \r\nQ 46.6875 64.796875 31.59375 64.796875 \r\nz\r\nM 9.8125 72.90625 \r\nL 30.078125 72.90625 \r\nQ 51.265625 72.90625 61.171875 64.09375 \r\nQ 71.09375 55.28125 71.09375 36.53125 \r\nQ 71.09375 17.671875 61.125 8.828125 \r\nQ 51.171875 0 30.078125 0 \r\nL 9.8125 0 \r\nz\r\n\" id=\"DejaVuSans-68\"/>\r\n       </defs>\r\n       <use xlink:href=\"#DejaVuSans-84\"/>\r\n       <use x=\"61.083984\" xlink:href=\"#DejaVuSans-70\"/>\r\n       <use x=\"118.603516\" xlink:href=\"#DejaVuSans-45\"/>\r\n       <use x=\"154.6875\" xlink:href=\"#DejaVuSans-73\"/>\r\n       <use x=\"184.179688\" xlink:href=\"#DejaVuSans-68\"/>\r\n       <use x=\"261.181641\" xlink:href=\"#DejaVuSans-70\"/>\r\n      </g>\r\n     </g>\r\n    </g>\r\n    <g id=\"xtick_3\">\r\n     <g id=\"line2d_3\">\r\n      <g>\r\n       <use style=\"stroke:#000000;stroke-width:0.8;\" x=\"246.213189\" xlink:href=\"#mfe0026349b\" y=\"241.718125\"/>\r\n      </g>\r\n     </g>\r\n     <g id=\"text_3\">\r\n      <!-- NaiveQL -->\r\n      <g transform=\"translate(233.34937 283.721016)rotate(-45)scale(0.1 -0.1)\">\r\n       <defs>\r\n        <path d=\"M 9.8125 72.90625 \r\nL 23.09375 72.90625 \r\nL 55.421875 11.921875 \r\nL 55.421875 72.90625 \r\nL 64.984375 72.90625 \r\nL 64.984375 0 \r\nL 51.703125 0 \r\nL 19.390625 60.984375 \r\nL 19.390625 0 \r\nL 9.8125 0 \r\nz\r\n\" id=\"DejaVuSans-78\"/>\r\n        <path d=\"M 34.28125 27.484375 \r\nQ 23.390625 27.484375 19.1875 25 \r\nQ 14.984375 22.515625 14.984375 16.5 \r\nQ 14.984375 11.71875 18.140625 8.90625 \r\nQ 21.296875 6.109375 26.703125 6.109375 \r\nQ 34.1875 6.109375 38.703125 11.40625 \r\nQ 43.21875 16.703125 43.21875 25.484375 \r\nL 43.21875 27.484375 \r\nz\r\nM 52.203125 31.203125 \r\nL 52.203125 0 \r\nL 43.21875 0 \r\nL 43.21875 8.296875 \r\nQ 40.140625 3.328125 35.546875 0.953125 \r\nQ 30.953125 -1.421875 24.3125 -1.421875 \r\nQ 15.921875 -1.421875 10.953125 3.296875 \r\nQ 6 8.015625 6 15.921875 \r\nQ 6 25.140625 12.171875 29.828125 \r\nQ 18.359375 34.515625 30.609375 34.515625 \r\nL 43.21875 34.515625 \r\nL 43.21875 35.40625 \r\nQ 43.21875 41.609375 39.140625 45 \r\nQ 35.0625 48.390625 27.6875 48.390625 \r\nQ 23 48.390625 18.546875 47.265625 \r\nQ 14.109375 46.140625 10.015625 43.890625 \r\nL 10.015625 52.203125 \r\nQ 14.9375 54.109375 19.578125 55.046875 \r\nQ 24.21875 56 28.609375 56 \r\nQ 40.484375 56 46.34375 49.84375 \r\nQ 52.203125 43.703125 52.203125 31.203125 \r\nz\r\n\" id=\"DejaVuSans-97\"/>\r\n        <path d=\"M 9.421875 54.6875 \r\nL 18.40625 54.6875 \r\nL 18.40625 0 \r\nL 9.421875 0 \r\nz\r\nM 9.421875 75.984375 \r\nL 18.40625 75.984375 \r\nL 18.40625 64.59375 \r\nL 9.421875 64.59375 \r\nz\r\n\" id=\"DejaVuSans-105\"/>\r\n        <path d=\"M 2.984375 54.6875 \r\nL 12.5 54.6875 \r\nL 29.59375 8.796875 \r\nL 46.6875 54.6875 \r\nL 56.203125 54.6875 \r\nL 35.6875 0 \r\nL 23.484375 0 \r\nz\r\n\" id=\"DejaVuSans-118\"/>\r\n        <path d=\"M 56.203125 29.59375 \r\nL 56.203125 25.203125 \r\nL 14.890625 25.203125 \r\nQ 15.484375 15.921875 20.484375 11.0625 \r\nQ 25.484375 6.203125 34.421875 6.203125 \r\nQ 39.59375 6.203125 44.453125 7.46875 \r\nQ 49.3125 8.734375 54.109375 11.28125 \r\nL 54.109375 2.78125 \r\nQ 49.265625 0.734375 44.1875 -0.34375 \r\nQ 39.109375 -1.421875 33.890625 -1.421875 \r\nQ 20.796875 -1.421875 13.15625 6.1875 \r\nQ 5.515625 13.8125 5.515625 26.8125 \r\nQ 5.515625 40.234375 12.765625 48.109375 \r\nQ 20.015625 56 32.328125 56 \r\nQ 43.359375 56 49.78125 48.890625 \r\nQ 56.203125 41.796875 56.203125 29.59375 \r\nz\r\nM 47.21875 32.234375 \r\nQ 47.125 39.59375 43.09375 43.984375 \r\nQ 39.0625 48.390625 32.421875 48.390625 \r\nQ 24.90625 48.390625 20.390625 44.140625 \r\nQ 15.875 39.890625 15.1875 32.171875 \r\nz\r\n\" id=\"DejaVuSans-101\"/>\r\n        <path d=\"M 39.40625 66.21875 \r\nQ 28.65625 66.21875 22.328125 58.203125 \r\nQ 16.015625 50.203125 16.015625 36.375 \r\nQ 16.015625 22.609375 22.328125 14.59375 \r\nQ 28.65625 6.59375 39.40625 6.59375 \r\nQ 50.140625 6.59375 56.421875 14.59375 \r\nQ 62.703125 22.609375 62.703125 36.375 \r\nQ 62.703125 50.203125 56.421875 58.203125 \r\nQ 50.140625 66.21875 39.40625 66.21875 \r\nz\r\nM 53.21875 1.3125 \r\nL 66.21875 -12.890625 \r\nL 54.296875 -12.890625 \r\nL 43.5 -1.21875 \r\nQ 41.890625 -1.3125 41.03125 -1.359375 \r\nQ 40.1875 -1.421875 39.40625 -1.421875 \r\nQ 24.03125 -1.421875 14.8125 8.859375 \r\nQ 5.609375 19.140625 5.609375 36.375 \r\nQ 5.609375 53.65625 14.8125 63.9375 \r\nQ 24.03125 74.21875 39.40625 74.21875 \r\nQ 54.734375 74.21875 63.90625 63.9375 \r\nQ 73.09375 53.65625 73.09375 36.375 \r\nQ 73.09375 23.6875 67.984375 14.640625 \r\nQ 62.890625 5.609375 53.21875 1.3125 \r\nz\r\n\" id=\"DejaVuSans-81\"/>\r\n        <path d=\"M 9.8125 72.90625 \r\nL 19.671875 72.90625 \r\nL 19.671875 8.296875 \r\nL 55.171875 8.296875 \r\nL 55.171875 0 \r\nL 9.8125 0 \r\nz\r\n\" id=\"DejaVuSans-76\"/>\r\n       </defs>\r\n       <use xlink:href=\"#DejaVuSans-78\"/>\r\n       <use x=\"74.804688\" xlink:href=\"#DejaVuSans-97\"/>\r\n       <use x=\"136.083984\" xlink:href=\"#DejaVuSans-105\"/>\r\n       <use x=\"163.867188\" xlink:href=\"#DejaVuSans-118\"/>\r\n       <use x=\"223.046875\" xlink:href=\"#DejaVuSans-101\"/>\r\n       <use x=\"284.570312\" xlink:href=\"#DejaVuSans-81\"/>\r\n       <use x=\"363.28125\" xlink:href=\"#DejaVuSans-76\"/>\r\n      </g>\r\n     </g>\r\n    </g>\r\n    <g id=\"xtick_4\">\r\n     <g id=\"line2d_4\">\r\n      <g>\r\n       <use style=\"stroke:#000000;stroke-width:0.8;\" x=\"317.252841\" xlink:href=\"#mfe0026349b\" y=\"241.718125\"/>\r\n      </g>\r\n     </g>\r\n     <g id=\"text_4\">\r\n      <!-- QL -->\r\n      <g transform=\"translate(314.45093 263.597198)rotate(-45)scale(0.1 -0.1)\">\r\n       <use xlink:href=\"#DejaVuSans-81\"/>\r\n       <use x=\"78.710938\" xlink:href=\"#DejaVuSans-76\"/>\r\n      </g>\r\n     </g>\r\n    </g>\r\n    <g id=\"xtick_5\">\r\n     <g id=\"line2d_5\">\r\n      <g>\r\n       <use style=\"stroke:#000000;stroke-width:0.8;\" x=\"388.292493\" xlink:href=\"#mfe0026349b\" y=\"241.718125\"/>\r\n      </g>\r\n     </g>\r\n     <g id=\"text_5\">\r\n      <!-- BM25 -->\r\n      <g transform=\"translate(380.268488 274.041387)rotate(-45)scale(0.1 -0.1)\">\r\n       <defs>\r\n        <path d=\"M 9.8125 72.90625 \r\nL 24.515625 72.90625 \r\nL 43.109375 23.296875 \r\nL 61.8125 72.90625 \r\nL 76.515625 72.90625 \r\nL 76.515625 0 \r\nL 66.890625 0 \r\nL 66.890625 64.015625 \r\nL 48.09375 14.015625 \r\nL 38.1875 14.015625 \r\nL 19.390625 64.015625 \r\nL 19.390625 0 \r\nL 9.8125 0 \r\nz\r\n\" id=\"DejaVuSans-77\"/>\r\n        <path d=\"M 19.1875 8.296875 \r\nL 53.609375 8.296875 \r\nL 53.609375 0 \r\nL 7.328125 0 \r\nL 7.328125 8.296875 \r\nQ 12.9375 14.109375 22.625 23.890625 \r\nQ 32.328125 33.6875 34.8125 36.53125 \r\nQ 39.546875 41.84375 41.421875 45.53125 \r\nQ 43.3125 49.21875 43.3125 52.78125 \r\nQ 43.3125 58.59375 39.234375 62.25 \r\nQ 35.15625 65.921875 28.609375 65.921875 \r\nQ 23.96875 65.921875 18.8125 64.3125 \r\nQ 13.671875 62.703125 7.8125 59.421875 \r\nL 7.8125 69.390625 \r\nQ 13.765625 71.78125 18.9375 73 \r\nQ 24.125 74.21875 28.421875 74.21875 \r\nQ 39.75 74.21875 46.484375 68.546875 \r\nQ 53.21875 62.890625 53.21875 53.421875 \r\nQ 53.21875 48.921875 51.53125 44.890625 \r\nQ 49.859375 40.875 45.40625 35.40625 \r\nQ 44.1875 33.984375 37.640625 27.21875 \r\nQ 31.109375 20.453125 19.1875 8.296875 \r\nz\r\n\" id=\"DejaVuSans-50\"/>\r\n        <path d=\"M 10.796875 72.90625 \r\nL 49.515625 72.90625 \r\nL 49.515625 64.59375 \r\nL 19.828125 64.59375 \r\nL 19.828125 46.734375 \r\nQ 21.96875 47.46875 24.109375 47.828125 \r\nQ 26.265625 48.1875 28.421875 48.1875 \r\nQ 40.625 48.1875 47.75 41.5 \r\nQ 54.890625 34.8125 54.890625 23.390625 \r\nQ 54.890625 11.625 47.5625 5.09375 \r\nQ 40.234375 -1.421875 26.90625 -1.421875 \r\nQ 22.3125 -1.421875 17.546875 -0.640625 \r\nQ 12.796875 0.140625 7.71875 1.703125 \r\nL 7.71875 11.625 \r\nQ 12.109375 9.234375 16.796875 8.0625 \r\nQ 21.484375 6.890625 26.703125 6.890625 \r\nQ 35.15625 6.890625 40.078125 11.328125 \r\nQ 45.015625 15.765625 45.015625 23.390625 \r\nQ 45.015625 31 40.078125 35.4375 \r\nQ 35.15625 39.890625 26.703125 39.890625 \r\nQ 22.75 39.890625 18.8125 39.015625 \r\nQ 14.890625 38.140625 10.796875 36.28125 \r\nz\r\n\" id=\"DejaVuSans-53\"/>\r\n       </defs>\r\n       <use xlink:href=\"#DejaVuSans-66\"/>\r\n       <use x=\"68.603516\" xlink:href=\"#DejaVuSans-77\"/>\r\n       <use x=\"154.882812\" xlink:href=\"#DejaVuSans-50\"/>\r\n       <use x=\"218.505859\" xlink:href=\"#DejaVuSans-53\"/>\r\n      </g>\r\n     </g>\r\n    </g>\r\n    <g id=\"text_6\">\r\n     <!-- Search functions -->\r\n     <g transform=\"translate(191.9875 296.790014)scale(0.1 -0.1)\">\r\n      <defs>\r\n       <path d=\"M 53.515625 70.515625 \r\nL 53.515625 60.890625 \r\nQ 47.90625 63.578125 42.921875 64.890625 \r\nQ 37.9375 66.21875 33.296875 66.21875 \r\nQ 25.25 66.21875 20.875 63.09375 \r\nQ 16.5 59.96875 16.5 54.203125 \r\nQ 16.5 49.359375 19.40625 46.890625 \r\nQ 22.3125 44.4375 30.421875 42.921875 \r\nL 36.375 41.703125 \r\nQ 47.40625 39.59375 52.65625 34.296875 \r\nQ 57.90625 29 57.90625 20.125 \r\nQ 57.90625 9.515625 50.796875 4.046875 \r\nQ 43.703125 -1.421875 29.984375 -1.421875 \r\nQ 24.8125 -1.421875 18.96875 -0.25 \r\nQ 13.140625 0.921875 6.890625 3.21875 \r\nL 6.890625 13.375 \r\nQ 12.890625 10.015625 18.65625 8.296875 \r\nQ 24.421875 6.59375 29.984375 6.59375 \r\nQ 38.421875 6.59375 43.015625 9.90625 \r\nQ 47.609375 13.234375 47.609375 19.390625 \r\nQ 47.609375 24.75 44.3125 27.78125 \r\nQ 41.015625 30.8125 33.5 32.328125 \r\nL 27.484375 33.5 \r\nQ 16.453125 35.6875 11.515625 40.375 \r\nQ 6.59375 45.0625 6.59375 53.421875 \r\nQ 6.59375 63.09375 13.40625 68.65625 \r\nQ 20.21875 74.21875 32.171875 74.21875 \r\nQ 37.3125 74.21875 42.625 73.28125 \r\nQ 47.953125 72.359375 53.515625 70.515625 \r\nz\r\n\" id=\"DejaVuSans-83\"/>\r\n       <path d=\"M 41.109375 46.296875 \r\nQ 39.59375 47.171875 37.8125 47.578125 \r\nQ 36.03125 48 33.890625 48 \r\nQ 26.265625 48 22.1875 43.046875 \r\nQ 18.109375 38.09375 18.109375 28.8125 \r\nL 18.109375 0 \r\nL 9.078125 0 \r\nL 9.078125 54.6875 \r\nL 18.109375 54.6875 \r\nL 18.109375 46.1875 \r\nQ 20.953125 51.171875 25.484375 53.578125 \r\nQ 30.03125 56 36.53125 56 \r\nQ 37.453125 56 38.578125 55.875 \r\nQ 39.703125 55.765625 41.0625 55.515625 \r\nz\r\n\" id=\"DejaVuSans-114\"/>\r\n       <path d=\"M 48.78125 52.59375 \r\nL 48.78125 44.1875 \r\nQ 44.96875 46.296875 41.140625 47.34375 \r\nQ 37.3125 48.390625 33.40625 48.390625 \r\nQ 24.65625 48.390625 19.8125 42.84375 \r\nQ 14.984375 37.3125 14.984375 27.296875 \r\nQ 14.984375 17.28125 19.8125 11.734375 \r\nQ 24.65625 6.203125 33.40625 6.203125 \r\nQ 37.3125 6.203125 41.140625 7.25 \r\nQ 44.96875 8.296875 48.78125 10.40625 \r\nL 48.78125 2.09375 \r\nQ 45.015625 0.34375 40.984375 -0.53125 \r\nQ 36.96875 -1.421875 32.421875 -1.421875 \r\nQ 20.0625 -1.421875 12.78125 6.34375 \r\nQ 5.515625 14.109375 5.515625 27.296875 \r\nQ 5.515625 40.671875 12.859375 48.328125 \r\nQ 20.21875 56 33.015625 56 \r\nQ 37.15625 56 41.109375 55.140625 \r\nQ 45.0625 54.296875 48.78125 52.59375 \r\nz\r\n\" id=\"DejaVuSans-99\"/>\r\n       <path d=\"M 54.890625 33.015625 \r\nL 54.890625 0 \r\nL 45.90625 0 \r\nL 45.90625 32.71875 \r\nQ 45.90625 40.484375 42.875 44.328125 \r\nQ 39.84375 48.1875 33.796875 48.1875 \r\nQ 26.515625 48.1875 22.3125 43.546875 \r\nQ 18.109375 38.921875 18.109375 30.90625 \r\nL 18.109375 0 \r\nL 9.078125 0 \r\nL 9.078125 75.984375 \r\nL 18.109375 75.984375 \r\nL 18.109375 46.1875 \r\nQ 21.34375 51.125 25.703125 53.5625 \r\nQ 30.078125 56 35.796875 56 \r\nQ 45.21875 56 50.046875 50.171875 \r\nQ 54.890625 44.34375 54.890625 33.015625 \r\nz\r\n\" id=\"DejaVuSans-104\"/>\r\n       <path id=\"DejaVuSans-32\"/>\r\n       <path d=\"M 37.109375 75.984375 \r\nL 37.109375 68.5 \r\nL 28.515625 68.5 \r\nQ 23.6875 68.5 21.796875 66.546875 \r\nQ 19.921875 64.59375 19.921875 59.515625 \r\nL 19.921875 54.6875 \r\nL 34.71875 54.6875 \r\nL 34.71875 47.703125 \r\nL 19.921875 47.703125 \r\nL 19.921875 0 \r\nL 10.890625 0 \r\nL 10.890625 47.703125 \r\nL 2.296875 47.703125 \r\nL 2.296875 54.6875 \r\nL 10.890625 54.6875 \r\nL 10.890625 58.5 \r\nQ 10.890625 67.625 15.140625 71.796875 \r\nQ 19.390625 75.984375 28.609375 75.984375 \r\nz\r\n\" id=\"DejaVuSans-102\"/>\r\n       <path d=\"M 8.5 21.578125 \r\nL 8.5 54.6875 \r\nL 17.484375 54.6875 \r\nL 17.484375 21.921875 \r\nQ 17.484375 14.15625 20.5 10.265625 \r\nQ 23.53125 6.390625 29.59375 6.390625 \r\nQ 36.859375 6.390625 41.078125 11.03125 \r\nQ 45.3125 15.671875 45.3125 23.6875 \r\nL 45.3125 54.6875 \r\nL 54.296875 54.6875 \r\nL 54.296875 0 \r\nL 45.3125 0 \r\nL 45.3125 8.40625 \r\nQ 42.046875 3.421875 37.71875 1 \r\nQ 33.40625 -1.421875 27.6875 -1.421875 \r\nQ 18.265625 -1.421875 13.375 4.4375 \r\nQ 8.5 10.296875 8.5 21.578125 \r\nz\r\nM 31.109375 56 \r\nz\r\n\" id=\"DejaVuSans-117\"/>\r\n       <path d=\"M 54.890625 33.015625 \r\nL 54.890625 0 \r\nL 45.90625 0 \r\nL 45.90625 32.71875 \r\nQ 45.90625 40.484375 42.875 44.328125 \r\nQ 39.84375 48.1875 33.796875 48.1875 \r\nQ 26.515625 48.1875 22.3125 43.546875 \r\nQ 18.109375 38.921875 18.109375 30.90625 \r\nL 18.109375 0 \r\nL 9.078125 0 \r\nL 9.078125 54.6875 \r\nL 18.109375 54.6875 \r\nL 18.109375 46.1875 \r\nQ 21.34375 51.125 25.703125 53.5625 \r\nQ 30.078125 56 35.796875 56 \r\nQ 45.21875 56 50.046875 50.171875 \r\nQ 54.890625 44.34375 54.890625 33.015625 \r\nz\r\n\" id=\"DejaVuSans-110\"/>\r\n       <path d=\"M 18.3125 70.21875 \r\nL 18.3125 54.6875 \r\nL 36.8125 54.6875 \r\nL 36.8125 47.703125 \r\nL 18.3125 47.703125 \r\nL 18.3125 18.015625 \r\nQ 18.3125 11.328125 20.140625 9.421875 \r\nQ 21.96875 7.515625 27.59375 7.515625 \r\nL 36.8125 7.515625 \r\nL 36.8125 0 \r\nL 27.59375 0 \r\nQ 17.1875 0 13.234375 3.875 \r\nQ 9.28125 7.765625 9.28125 18.015625 \r\nL 9.28125 47.703125 \r\nL 2.6875 47.703125 \r\nL 2.6875 54.6875 \r\nL 9.28125 54.6875 \r\nL 9.28125 70.21875 \r\nz\r\n\" id=\"DejaVuSans-116\"/>\r\n       <path d=\"M 30.609375 48.390625 \r\nQ 23.390625 48.390625 19.1875 42.75 \r\nQ 14.984375 37.109375 14.984375 27.296875 \r\nQ 14.984375 17.484375 19.15625 11.84375 \r\nQ 23.34375 6.203125 30.609375 6.203125 \r\nQ 37.796875 6.203125 41.984375 11.859375 \r\nQ 46.1875 17.53125 46.1875 27.296875 \r\nQ 46.1875 37.015625 41.984375 42.703125 \r\nQ 37.796875 48.390625 30.609375 48.390625 \r\nz\r\nM 30.609375 56 \r\nQ 42.328125 56 49.015625 48.375 \r\nQ 55.71875 40.765625 55.71875 27.296875 \r\nQ 55.71875 13.875 49.015625 6.21875 \r\nQ 42.328125 -1.421875 30.609375 -1.421875 \r\nQ 18.84375 -1.421875 12.171875 6.21875 \r\nQ 5.515625 13.875 5.515625 27.296875 \r\nQ 5.515625 40.765625 12.171875 48.375 \r\nQ 18.84375 56 30.609375 56 \r\nz\r\n\" id=\"DejaVuSans-111\"/>\r\n       <path d=\"M 44.28125 53.078125 \r\nL 44.28125 44.578125 \r\nQ 40.484375 46.53125 36.375 47.5 \r\nQ 32.28125 48.484375 27.875 48.484375 \r\nQ 21.1875 48.484375 17.84375 46.4375 \r\nQ 14.5 44.390625 14.5 40.28125 \r\nQ 14.5 37.15625 16.890625 35.375 \r\nQ 19.28125 33.59375 26.515625 31.984375 \r\nL 29.59375 31.296875 \r\nQ 39.15625 29.25 43.1875 25.515625 \r\nQ 47.21875 21.78125 47.21875 15.09375 \r\nQ 47.21875 7.46875 41.1875 3.015625 \r\nQ 35.15625 -1.421875 24.609375 -1.421875 \r\nQ 20.21875 -1.421875 15.453125 -0.5625 \r\nQ 10.6875 0.296875 5.421875 2 \r\nL 5.421875 11.28125 \r\nQ 10.40625 8.6875 15.234375 7.390625 \r\nQ 20.0625 6.109375 24.8125 6.109375 \r\nQ 31.15625 6.109375 34.5625 8.28125 \r\nQ 37.984375 10.453125 37.984375 14.40625 \r\nQ 37.984375 18.0625 35.515625 20.015625 \r\nQ 33.0625 21.96875 24.703125 23.78125 \r\nL 21.578125 24.515625 \r\nQ 13.234375 26.265625 9.515625 29.90625 \r\nQ 5.8125 33.546875 5.8125 39.890625 \r\nQ 5.8125 47.609375 11.28125 51.796875 \r\nQ 16.75 56 26.8125 56 \r\nQ 31.78125 56 36.171875 55.265625 \r\nQ 40.578125 54.546875 44.28125 53.078125 \r\nz\r\n\" id=\"DejaVuSans-115\"/>\r\n      </defs>\r\n      <use xlink:href=\"#DejaVuSans-83\"/>\r\n      <use x=\"63.476562\" xlink:href=\"#DejaVuSans-101\"/>\r\n      <use x=\"125\" xlink:href=\"#DejaVuSans-97\"/>\r\n      <use x=\"186.279297\" xlink:href=\"#DejaVuSans-114\"/>\r\n      <use x=\"225.142578\" xlink:href=\"#DejaVuSans-99\"/>\r\n      <use x=\"280.123047\" xlink:href=\"#DejaVuSans-104\"/>\r\n      <use x=\"343.501953\" xlink:href=\"#DejaVuSans-32\"/>\r\n      <use x=\"375.289062\" xlink:href=\"#DejaVuSans-102\"/>\r\n      <use x=\"410.494141\" xlink:href=\"#DejaVuSans-117\"/>\r\n      <use x=\"473.873047\" xlink:href=\"#DejaVuSans-110\"/>\r\n      <use x=\"537.251953\" xlink:href=\"#DejaVuSans-99\"/>\r\n      <use x=\"592.232422\" xlink:href=\"#DejaVuSans-116\"/>\r\n      <use x=\"631.441406\" xlink:href=\"#DejaVuSans-105\"/>\r\n      <use x=\"659.224609\" xlink:href=\"#DejaVuSans-111\"/>\r\n      <use x=\"720.40625\" xlink:href=\"#DejaVuSans-110\"/>\r\n      <use x=\"783.785156\" xlink:href=\"#DejaVuSans-115\"/>\r\n     </g>\r\n    </g>\r\n   </g>\r\n   <g id=\"matplotlib.axis_2\">\r\n    <g id=\"ytick_1\">\r\n     <g id=\"line2d_6\">\r\n      <defs>\r\n       <path d=\"M 0 0 \r\nL -3.5 0 \r\n\" id=\"m2a07673cd5\" style=\"stroke:#000000;stroke-width:0.8;\"/>\r\n      </defs>\r\n      <g>\r\n       <use style=\"stroke:#000000;stroke-width:0.8;\" x=\"50.14375\" xlink:href=\"#m2a07673cd5\" y=\"241.718125\"/>\r\n      </g>\r\n     </g>\r\n     <g id=\"text_7\">\r\n      <!-- 0.00 -->\r\n      <g transform=\"translate(20.878125 245.517344)scale(0.1 -0.1)\">\r\n       <defs>\r\n        <path d=\"M 31.78125 66.40625 \r\nQ 24.171875 66.40625 20.328125 58.90625 \r\nQ 16.5 51.421875 16.5 36.375 \r\nQ 16.5 21.390625 20.328125 13.890625 \r\nQ 24.171875 6.390625 31.78125 6.390625 \r\nQ 39.453125 6.390625 43.28125 13.890625 \r\nQ 47.125 21.390625 47.125 36.375 \r\nQ 47.125 51.421875 43.28125 58.90625 \r\nQ 39.453125 66.40625 31.78125 66.40625 \r\nz\r\nM 31.78125 74.21875 \r\nQ 44.046875 74.21875 50.515625 64.515625 \r\nQ 56.984375 54.828125 56.984375 36.375 \r\nQ 56.984375 17.96875 50.515625 8.265625 \r\nQ 44.046875 -1.421875 31.78125 -1.421875 \r\nQ 19.53125 -1.421875 13.0625 8.265625 \r\nQ 6.59375 17.96875 6.59375 36.375 \r\nQ 6.59375 54.828125 13.0625 64.515625 \r\nQ 19.53125 74.21875 31.78125 74.21875 \r\nz\r\n\" id=\"DejaVuSans-48\"/>\r\n        <path d=\"M 10.6875 12.40625 \r\nL 21 12.40625 \r\nL 21 0 \r\nL 10.6875 0 \r\nz\r\n\" id=\"DejaVuSans-46\"/>\r\n       </defs>\r\n       <use xlink:href=\"#DejaVuSans-48\"/>\r\n       <use x=\"63.623047\" xlink:href=\"#DejaVuSans-46\"/>\r\n       <use x=\"95.410156\" xlink:href=\"#DejaVuSans-48\"/>\r\n       <use x=\"159.033203\" xlink:href=\"#DejaVuSans-48\"/>\r\n      </g>\r\n     </g>\r\n    </g>\r\n    <g id=\"ytick_2\">\r\n     <g id=\"line2d_7\">\r\n      <g>\r\n       <use style=\"stroke:#000000;stroke-width:0.8;\" x=\"50.14375\" xlink:href=\"#m2a07673cd5\" y=\"212.503141\"/>\r\n      </g>\r\n     </g>\r\n     <g id=\"text_8\">\r\n      <!-- 0.01 -->\r\n      <g transform=\"translate(20.878125 216.30236)scale(0.1 -0.1)\">\r\n       <defs>\r\n        <path d=\"M 12.40625 8.296875 \r\nL 28.515625 8.296875 \r\nL 28.515625 63.921875 \r\nL 10.984375 60.40625 \r\nL 10.984375 69.390625 \r\nL 28.421875 72.90625 \r\nL 38.28125 72.90625 \r\nL 38.28125 8.296875 \r\nL 54.390625 8.296875 \r\nL 54.390625 0 \r\nL 12.40625 0 \r\nz\r\n\" id=\"DejaVuSans-49\"/>\r\n       </defs>\r\n       <use xlink:href=\"#DejaVuSans-48\"/>\r\n       <use x=\"63.623047\" xlink:href=\"#DejaVuSans-46\"/>\r\n       <use x=\"95.410156\" xlink:href=\"#DejaVuSans-48\"/>\r\n       <use x=\"159.033203\" xlink:href=\"#DejaVuSans-49\"/>\r\n      </g>\r\n     </g>\r\n    </g>\r\n    <g id=\"ytick_3\">\r\n     <g id=\"line2d_8\">\r\n      <g>\r\n       <use style=\"stroke:#000000;stroke-width:0.8;\" x=\"50.14375\" xlink:href=\"#m2a07673cd5\" y=\"183.288157\"/>\r\n      </g>\r\n     </g>\r\n     <g id=\"text_9\">\r\n      <!-- 0.02 -->\r\n      <g transform=\"translate(20.878125 187.087376)scale(0.1 -0.1)\">\r\n       <use xlink:href=\"#DejaVuSans-48\"/>\r\n       <use x=\"63.623047\" xlink:href=\"#DejaVuSans-46\"/>\r\n       <use x=\"95.410156\" xlink:href=\"#DejaVuSans-48\"/>\r\n       <use x=\"159.033203\" xlink:href=\"#DejaVuSans-50\"/>\r\n      </g>\r\n     </g>\r\n    </g>\r\n    <g id=\"ytick_4\">\r\n     <g id=\"line2d_9\">\r\n      <g>\r\n       <use style=\"stroke:#000000;stroke-width:0.8;\" x=\"50.14375\" xlink:href=\"#m2a07673cd5\" y=\"154.073173\"/>\r\n      </g>\r\n     </g>\r\n     <g id=\"text_10\">\r\n      <!-- 0.03 -->\r\n      <g transform=\"translate(20.878125 157.872392)scale(0.1 -0.1)\">\r\n       <defs>\r\n        <path d=\"M 40.578125 39.3125 \r\nQ 47.65625 37.796875 51.625 33 \r\nQ 55.609375 28.21875 55.609375 21.1875 \r\nQ 55.609375 10.40625 48.1875 4.484375 \r\nQ 40.765625 -1.421875 27.09375 -1.421875 \r\nQ 22.515625 -1.421875 17.65625 -0.515625 \r\nQ 12.796875 0.390625 7.625 2.203125 \r\nL 7.625 11.71875 \r\nQ 11.71875 9.328125 16.59375 8.109375 \r\nQ 21.484375 6.890625 26.8125 6.890625 \r\nQ 36.078125 6.890625 40.9375 10.546875 \r\nQ 45.796875 14.203125 45.796875 21.1875 \r\nQ 45.796875 27.640625 41.28125 31.265625 \r\nQ 36.765625 34.90625 28.71875 34.90625 \r\nL 20.21875 34.90625 \r\nL 20.21875 43.015625 \r\nL 29.109375 43.015625 \r\nQ 36.375 43.015625 40.234375 45.921875 \r\nQ 44.09375 48.828125 44.09375 54.296875 \r\nQ 44.09375 59.90625 40.109375 62.90625 \r\nQ 36.140625 65.921875 28.71875 65.921875 \r\nQ 24.65625 65.921875 20.015625 65.03125 \r\nQ 15.375 64.15625 9.8125 62.3125 \r\nL 9.8125 71.09375 \r\nQ 15.4375 72.65625 20.34375 73.4375 \r\nQ 25.25 74.21875 29.59375 74.21875 \r\nQ 40.828125 74.21875 47.359375 69.109375 \r\nQ 53.90625 64.015625 53.90625 55.328125 \r\nQ 53.90625 49.265625 50.4375 45.09375 \r\nQ 46.96875 40.921875 40.578125 39.3125 \r\nz\r\n\" id=\"DejaVuSans-51\"/>\r\n       </defs>\r\n       <use xlink:href=\"#DejaVuSans-48\"/>\r\n       <use x=\"63.623047\" xlink:href=\"#DejaVuSans-46\"/>\r\n       <use x=\"95.410156\" xlink:href=\"#DejaVuSans-48\"/>\r\n       <use x=\"159.033203\" xlink:href=\"#DejaVuSans-51\"/>\r\n      </g>\r\n     </g>\r\n    </g>\r\n    <g id=\"ytick_5\">\r\n     <g id=\"line2d_10\">\r\n      <g>\r\n       <use style=\"stroke:#000000;stroke-width:0.8;\" x=\"50.14375\" xlink:href=\"#m2a07673cd5\" y=\"124.858189\"/>\r\n      </g>\r\n     </g>\r\n     <g id=\"text_11\">\r\n      <!-- 0.04 -->\r\n      <g transform=\"translate(20.878125 128.657408)scale(0.1 -0.1)\">\r\n       <defs>\r\n        <path d=\"M 37.796875 64.3125 \r\nL 12.890625 25.390625 \r\nL 37.796875 25.390625 \r\nz\r\nM 35.203125 72.90625 \r\nL 47.609375 72.90625 \r\nL 47.609375 25.390625 \r\nL 58.015625 25.390625 \r\nL 58.015625 17.1875 \r\nL 47.609375 17.1875 \r\nL 47.609375 0 \r\nL 37.796875 0 \r\nL 37.796875 17.1875 \r\nL 4.890625 17.1875 \r\nL 4.890625 26.703125 \r\nz\r\n\" id=\"DejaVuSans-52\"/>\r\n       </defs>\r\n       <use xlink:href=\"#DejaVuSans-48\"/>\r\n       <use x=\"63.623047\" xlink:href=\"#DejaVuSans-46\"/>\r\n       <use x=\"95.410156\" xlink:href=\"#DejaVuSans-48\"/>\r\n       <use x=\"159.033203\" xlink:href=\"#DejaVuSans-52\"/>\r\n      </g>\r\n     </g>\r\n    </g>\r\n    <g id=\"ytick_6\">\r\n     <g id=\"line2d_11\">\r\n      <g>\r\n       <use style=\"stroke:#000000;stroke-width:0.8;\" x=\"50.14375\" xlink:href=\"#m2a07673cd5\" y=\"95.643205\"/>\r\n      </g>\r\n     </g>\r\n     <g id=\"text_12\">\r\n      <!-- 0.05 -->\r\n      <g transform=\"translate(20.878125 99.442424)scale(0.1 -0.1)\">\r\n       <use xlink:href=\"#DejaVuSans-48\"/>\r\n       <use x=\"63.623047\" xlink:href=\"#DejaVuSans-46\"/>\r\n       <use x=\"95.410156\" xlink:href=\"#DejaVuSans-48\"/>\r\n       <use x=\"159.033203\" xlink:href=\"#DejaVuSans-53\"/>\r\n      </g>\r\n     </g>\r\n    </g>\r\n    <g id=\"ytick_7\">\r\n     <g id=\"line2d_12\">\r\n      <g>\r\n       <use style=\"stroke:#000000;stroke-width:0.8;\" x=\"50.14375\" xlink:href=\"#m2a07673cd5\" y=\"66.428221\"/>\r\n      </g>\r\n     </g>\r\n     <g id=\"text_13\">\r\n      <!-- 0.06 -->\r\n      <g transform=\"translate(20.878125 70.227439)scale(0.1 -0.1)\">\r\n       <defs>\r\n        <path d=\"M 33.015625 40.375 \r\nQ 26.375 40.375 22.484375 35.828125 \r\nQ 18.609375 31.296875 18.609375 23.390625 \r\nQ 18.609375 15.53125 22.484375 10.953125 \r\nQ 26.375 6.390625 33.015625 6.390625 \r\nQ 39.65625 6.390625 43.53125 10.953125 \r\nQ 47.40625 15.53125 47.40625 23.390625 \r\nQ 47.40625 31.296875 43.53125 35.828125 \r\nQ 39.65625 40.375 33.015625 40.375 \r\nz\r\nM 52.59375 71.296875 \r\nL 52.59375 62.3125 \r\nQ 48.875 64.0625 45.09375 64.984375 \r\nQ 41.3125 65.921875 37.59375 65.921875 \r\nQ 27.828125 65.921875 22.671875 59.328125 \r\nQ 17.53125 52.734375 16.796875 39.40625 \r\nQ 19.671875 43.65625 24.015625 45.921875 \r\nQ 28.375 48.1875 33.59375 48.1875 \r\nQ 44.578125 48.1875 50.953125 41.515625 \r\nQ 57.328125 34.859375 57.328125 23.390625 \r\nQ 57.328125 12.15625 50.6875 5.359375 \r\nQ 44.046875 -1.421875 33.015625 -1.421875 \r\nQ 20.359375 -1.421875 13.671875 8.265625 \r\nQ 6.984375 17.96875 6.984375 36.375 \r\nQ 6.984375 53.65625 15.1875 63.9375 \r\nQ 23.390625 74.21875 37.203125 74.21875 \r\nQ 40.921875 74.21875 44.703125 73.484375 \r\nQ 48.484375 72.75 52.59375 71.296875 \r\nz\r\n\" id=\"DejaVuSans-54\"/>\r\n       </defs>\r\n       <use xlink:href=\"#DejaVuSans-48\"/>\r\n       <use x=\"63.623047\" xlink:href=\"#DejaVuSans-46\"/>\r\n       <use x=\"95.410156\" xlink:href=\"#DejaVuSans-48\"/>\r\n       <use x=\"159.033203\" xlink:href=\"#DejaVuSans-54\"/>\r\n      </g>\r\n     </g>\r\n    </g>\r\n    <g id=\"ytick_8\">\r\n     <g id=\"line2d_13\">\r\n      <g>\r\n       <use style=\"stroke:#000000;stroke-width:0.8;\" x=\"50.14375\" xlink:href=\"#m2a07673cd5\" y=\"37.213237\"/>\r\n      </g>\r\n     </g>\r\n     <g id=\"text_14\">\r\n      <!-- 0.07 -->\r\n      <g transform=\"translate(20.878125 41.012455)scale(0.1 -0.1)\">\r\n       <defs>\r\n        <path d=\"M 8.203125 72.90625 \r\nL 55.078125 72.90625 \r\nL 55.078125 68.703125 \r\nL 28.609375 0 \r\nL 18.3125 0 \r\nL 43.21875 64.59375 \r\nL 8.203125 64.59375 \r\nz\r\n\" id=\"DejaVuSans-55\"/>\r\n       </defs>\r\n       <use xlink:href=\"#DejaVuSans-48\"/>\r\n       <use x=\"63.623047\" xlink:href=\"#DejaVuSans-46\"/>\r\n       <use x=\"95.410156\" xlink:href=\"#DejaVuSans-48\"/>\r\n       <use x=\"159.033203\" xlink:href=\"#DejaVuSans-55\"/>\r\n      </g>\r\n     </g>\r\n    </g>\r\n    <g id=\"text_15\">\r\n     <!-- Results -->\r\n     <g transform=\"translate(14.798438 150.07125)rotate(-90)scale(0.1 -0.1)\">\r\n      <defs>\r\n       <path d=\"M 44.390625 34.1875 \r\nQ 47.5625 33.109375 50.5625 29.59375 \r\nQ 53.5625 26.078125 56.59375 19.921875 \r\nL 66.609375 0 \r\nL 56 0 \r\nL 46.6875 18.703125 \r\nQ 43.0625 26.03125 39.671875 28.421875 \r\nQ 36.28125 30.8125 30.421875 30.8125 \r\nL 19.671875 30.8125 \r\nL 19.671875 0 \r\nL 9.8125 0 \r\nL 9.8125 72.90625 \r\nL 32.078125 72.90625 \r\nQ 44.578125 72.90625 50.734375 67.671875 \r\nQ 56.890625 62.453125 56.890625 51.90625 \r\nQ 56.890625 45.015625 53.6875 40.46875 \r\nQ 50.484375 35.9375 44.390625 34.1875 \r\nz\r\nM 19.671875 64.796875 \r\nL 19.671875 38.921875 \r\nL 32.078125 38.921875 \r\nQ 39.203125 38.921875 42.84375 42.21875 \r\nQ 46.484375 45.515625 46.484375 51.90625 \r\nQ 46.484375 58.296875 42.84375 61.546875 \r\nQ 39.203125 64.796875 32.078125 64.796875 \r\nz\r\n\" id=\"DejaVuSans-82\"/>\r\n       <path d=\"M 9.421875 75.984375 \r\nL 18.40625 75.984375 \r\nL 18.40625 0 \r\nL 9.421875 0 \r\nz\r\n\" id=\"DejaVuSans-108\"/>\r\n      </defs>\r\n      <use xlink:href=\"#DejaVuSans-82\"/>\r\n      <use x=\"64.982422\" xlink:href=\"#DejaVuSans-101\"/>\r\n      <use x=\"126.505859\" xlink:href=\"#DejaVuSans-115\"/>\r\n      <use x=\"178.605469\" xlink:href=\"#DejaVuSans-117\"/>\r\n      <use x=\"241.984375\" xlink:href=\"#DejaVuSans-108\"/>\r\n      <use x=\"269.767578\" xlink:href=\"#DejaVuSans-116\"/>\r\n      <use x=\"308.976562\" xlink:href=\"#DejaVuSans-115\"/>\r\n     </g>\r\n    </g>\r\n   </g>\r\n   <g id=\"patch_13\">\r\n    <path d=\"M 50.14375 241.718125 \r\nL 50.14375 22.318125 \r\n\" style=\"fill:none;stroke:#000000;stroke-linecap:square;stroke-linejoin:miter;stroke-width:0.8;\"/>\r\n   </g>\r\n   <g id=\"patch_14\">\r\n    <path d=\"M 417.41875 241.718125 \r\nL 417.41875 22.318125 \r\n\" style=\"fill:none;stroke:#000000;stroke-linecap:square;stroke-linejoin:miter;stroke-width:0.8;\"/>\r\n   </g>\r\n   <g id=\"patch_15\">\r\n    <path d=\"M 50.14375 241.718125 \r\nL 417.41875 241.718125 \r\n\" style=\"fill:none;stroke:#000000;stroke-linecap:square;stroke-linejoin:miter;stroke-width:0.8;\"/>\r\n   </g>\r\n   <g id=\"patch_16\">\r\n    <path d=\"M 50.14375 22.318125 \r\nL 417.41875 22.318125 \r\n\" style=\"fill:none;stroke:#000000;stroke-linecap:square;stroke-linejoin:miter;stroke-width:0.8;\"/>\r\n   </g>\r\n   <g id=\"text_16\">\r\n    <!-- Results using Recall@1 metric -->\r\n    <g transform=\"translate(143.15125 16.318125)scale(0.12 -0.12)\">\r\n     <defs>\r\n      <path d=\"M 45.40625 27.984375 \r\nQ 45.40625 37.75 41.375 43.109375 \r\nQ 37.359375 48.484375 30.078125 48.484375 \r\nQ 22.859375 48.484375 18.828125 43.109375 \r\nQ 14.796875 37.75 14.796875 27.984375 \r\nQ 14.796875 18.265625 18.828125 12.890625 \r\nQ 22.859375 7.515625 30.078125 7.515625 \r\nQ 37.359375 7.515625 41.375 12.890625 \r\nQ 45.40625 18.265625 45.40625 27.984375 \r\nz\r\nM 54.390625 6.78125 \r\nQ 54.390625 -7.171875 48.1875 -13.984375 \r\nQ 42 -20.796875 29.203125 -20.796875 \r\nQ 24.46875 -20.796875 20.265625 -20.09375 \r\nQ 16.0625 -19.390625 12.109375 -17.921875 \r\nL 12.109375 -9.1875 \r\nQ 16.0625 -11.328125 19.921875 -12.34375 \r\nQ 23.78125 -13.375 27.78125 -13.375 \r\nQ 36.625 -13.375 41.015625 -8.765625 \r\nQ 45.40625 -4.15625 45.40625 5.171875 \r\nL 45.40625 9.625 \r\nQ 42.625 4.78125 38.28125 2.390625 \r\nQ 33.9375 0 27.875 0 \r\nQ 17.828125 0 11.671875 7.65625 \r\nQ 5.515625 15.328125 5.515625 27.984375 \r\nQ 5.515625 40.671875 11.671875 48.328125 \r\nQ 17.828125 56 27.875 56 \r\nQ 33.9375 56 38.28125 53.609375 \r\nQ 42.625 51.21875 45.40625 46.390625 \r\nL 45.40625 54.6875 \r\nL 54.390625 54.6875 \r\nz\r\n\" id=\"DejaVuSans-103\"/>\r\n      <path d=\"M 37.203125 26.21875 \r\nQ 37.203125 19.234375 40.671875 15.25 \r\nQ 44.140625 11.28125 50.203125 11.28125 \r\nQ 56.203125 11.28125 59.640625 15.28125 \r\nQ 63.09375 19.28125 63.09375 26.21875 \r\nQ 63.09375 33.0625 59.578125 37.078125 \r\nQ 56.0625 41.109375 50.09375 41.109375 \r\nQ 44.1875 41.109375 40.6875 37.109375 \r\nQ 37.203125 33.109375 37.203125 26.21875 \r\nz\r\nM 63.8125 11.625 \r\nQ 60.890625 7.859375 57.109375 6.078125 \r\nQ 53.328125 4.296875 48.296875 4.296875 \r\nQ 39.890625 4.296875 34.640625 10.375 \r\nQ 29.390625 16.453125 29.390625 26.21875 \r\nQ 29.390625 35.984375 34.65625 42.078125 \r\nQ 39.9375 48.1875 48.296875 48.1875 \r\nQ 53.328125 48.1875 57.125 46.359375 \r\nQ 60.9375 44.53125 63.8125 40.828125 \r\nL 63.8125 47.21875 \r\nL 70.796875 47.21875 \r\nL 70.796875 11.28125 \r\nQ 77.9375 12.359375 81.953125 17.796875 \r\nQ 85.984375 23.25 85.984375 31.890625 \r\nQ 85.984375 37.109375 84.4375 41.703125 \r\nQ 82.90625 46.296875 79.78125 50.203125 \r\nQ 74.703125 56.59375 67.40625 59.984375 \r\nQ 60.109375 63.375 51.515625 63.375 \r\nQ 45.515625 63.375 39.984375 61.78125 \r\nQ 34.46875 60.203125 29.78125 57.078125 \r\nQ 22.125 52.09375 17.796875 44.015625 \r\nQ 13.484375 35.9375 13.484375 26.515625 \r\nQ 13.484375 18.75 16.28125 11.953125 \r\nQ 19.09375 5.171875 24.421875 0 \r\nQ 29.546875 -5.078125 36.28125 -7.734375 \r\nQ 43.015625 -10.40625 50.6875 -10.40625 \r\nQ 56.984375 -10.40625 63.0625 -8.28125 \r\nQ 69.140625 -6.15625 74.21875 -2.203125 \r\nL 78.609375 -7.625 \r\nQ 72.515625 -12.359375 65.3125 -14.875 \r\nQ 58.109375 -17.390625 50.6875 -17.390625 \r\nQ 41.65625 -17.390625 33.640625 -14.1875 \r\nQ 25.640625 -10.984375 19.390625 -4.890625 \r\nQ 13.140625 1.21875 9.859375 9.25 \r\nQ 6.59375 17.28125 6.59375 26.515625 \r\nQ 6.59375 35.40625 9.90625 43.453125 \r\nQ 13.234375 51.515625 19.390625 57.625 \r\nQ 25.6875 63.8125 33.9375 67.109375 \r\nQ 42.1875 70.40625 51.421875 70.40625 \r\nQ 61.765625 70.40625 70.625 66.15625 \r\nQ 79.5 61.921875 85.5 54.109375 \r\nQ 89.15625 49.3125 91.078125 43.703125 \r\nQ 93.015625 38.09375 93.015625 32.078125 \r\nQ 93.015625 19.234375 85.25 11.8125 \r\nQ 77.484375 4.390625 63.8125 4.109375 \r\nz\r\n\" id=\"DejaVuSans-64\"/>\r\n      <path d=\"M 52 44.1875 \r\nQ 55.375 50.25 60.0625 53.125 \r\nQ 64.75 56 71.09375 56 \r\nQ 79.640625 56 84.28125 50.015625 \r\nQ 88.921875 44.046875 88.921875 33.015625 \r\nL 88.921875 0 \r\nL 79.890625 0 \r\nL 79.890625 32.71875 \r\nQ 79.890625 40.578125 77.09375 44.375 \r\nQ 74.3125 48.1875 68.609375 48.1875 \r\nQ 61.625 48.1875 57.5625 43.546875 \r\nQ 53.515625 38.921875 53.515625 30.90625 \r\nL 53.515625 0 \r\nL 44.484375 0 \r\nL 44.484375 32.71875 \r\nQ 44.484375 40.625 41.703125 44.40625 \r\nQ 38.921875 48.1875 33.109375 48.1875 \r\nQ 26.21875 48.1875 22.15625 43.53125 \r\nQ 18.109375 38.875 18.109375 30.90625 \r\nL 18.109375 0 \r\nL 9.078125 0 \r\nL 9.078125 54.6875 \r\nL 18.109375 54.6875 \r\nL 18.109375 46.1875 \r\nQ 21.1875 51.21875 25.484375 53.609375 \r\nQ 29.78125 56 35.6875 56 \r\nQ 41.65625 56 45.828125 52.96875 \r\nQ 50 49.953125 52 44.1875 \r\nz\r\n\" id=\"DejaVuSans-109\"/>\r\n     </defs>\r\n     <use xlink:href=\"#DejaVuSans-82\"/>\r\n     <use x=\"64.982422\" xlink:href=\"#DejaVuSans-101\"/>\r\n     <use x=\"126.505859\" xlink:href=\"#DejaVuSans-115\"/>\r\n     <use x=\"178.605469\" xlink:href=\"#DejaVuSans-117\"/>\r\n     <use x=\"241.984375\" xlink:href=\"#DejaVuSans-108\"/>\r\n     <use x=\"269.767578\" xlink:href=\"#DejaVuSans-116\"/>\r\n     <use x=\"308.976562\" xlink:href=\"#DejaVuSans-115\"/>\r\n     <use x=\"361.076172\" xlink:href=\"#DejaVuSans-32\"/>\r\n     <use x=\"392.863281\" xlink:href=\"#DejaVuSans-117\"/>\r\n     <use x=\"456.242188\" xlink:href=\"#DejaVuSans-115\"/>\r\n     <use x=\"508.341797\" xlink:href=\"#DejaVuSans-105\"/>\r\n     <use x=\"536.125\" xlink:href=\"#DejaVuSans-110\"/>\r\n     <use x=\"599.503906\" xlink:href=\"#DejaVuSans-103\"/>\r\n     <use x=\"662.980469\" xlink:href=\"#DejaVuSans-32\"/>\r\n     <use x=\"694.767578\" xlink:href=\"#DejaVuSans-82\"/>\r\n     <use x=\"759.75\" xlink:href=\"#DejaVuSans-101\"/>\r\n     <use x=\"821.273438\" xlink:href=\"#DejaVuSans-99\"/>\r\n     <use x=\"876.253906\" xlink:href=\"#DejaVuSans-97\"/>\r\n     <use x=\"937.533203\" xlink:href=\"#DejaVuSans-108\"/>\r\n     <use x=\"965.316406\" xlink:href=\"#DejaVuSans-108\"/>\r\n     <use x=\"993.099609\" xlink:href=\"#DejaVuSans-64\"/>\r\n     <use x=\"1093.099609\" xlink:href=\"#DejaVuSans-49\"/>\r\n     <use x=\"1156.722656\" xlink:href=\"#DejaVuSans-32\"/>\r\n     <use x=\"1188.509766\" xlink:href=\"#DejaVuSans-109\"/>\r\n     <use x=\"1285.921875\" xlink:href=\"#DejaVuSans-101\"/>\r\n     <use x=\"1347.445312\" xlink:href=\"#DejaVuSans-116\"/>\r\n     <use x=\"1386.654297\" xlink:href=\"#DejaVuSans-114\"/>\r\n     <use x=\"1427.767578\" xlink:href=\"#DejaVuSans-105\"/>\r\n     <use x=\"1455.550781\" xlink:href=\"#DejaVuSans-99\"/>\r\n    </g>\r\n   </g>\r\n   <g id=\"legend_1\">\r\n    <g id=\"patch_17\">\r\n     <path d=\"M 184.235156 59.674375 \r\nL 283.327344 59.674375 \r\nQ 285.327344 59.674375 285.327344 57.674375 \r\nL 285.327344 29.318125 \r\nQ 285.327344 27.318125 283.327344 27.318125 \r\nL 184.235156 27.318125 \r\nQ 182.235156 27.318125 182.235156 29.318125 \r\nL 182.235156 57.674375 \r\nQ 182.235156 59.674375 184.235156 59.674375 \r\nz\r\n\" style=\"fill:#ffffff;opacity:0.8;stroke:#cccccc;stroke-linejoin:miter;\"/>\r\n    </g>\r\n    <g id=\"patch_18\">\r\n     <path d=\"M 186.235156 38.916562 \r\nL 206.235156 38.916562 \r\nL 206.235156 31.916562 \r\nL 186.235156 31.916562 \r\nz\r\n\" style=\"fill:#0000ff;opacity:0.8;\"/>\r\n    </g>\r\n    <g id=\"text_17\">\r\n     <!-- Index set = 1 -->\r\n     <g transform=\"translate(214.235156 38.916562)scale(0.1 -0.1)\">\r\n      <defs>\r\n       <path d=\"M 45.40625 46.390625 \r\nL 45.40625 75.984375 \r\nL 54.390625 75.984375 \r\nL 54.390625 0 \r\nL 45.40625 0 \r\nL 45.40625 8.203125 \r\nQ 42.578125 3.328125 38.25 0.953125 \r\nQ 33.9375 -1.421875 27.875 -1.421875 \r\nQ 17.96875 -1.421875 11.734375 6.484375 \r\nQ 5.515625 14.40625 5.515625 27.296875 \r\nQ 5.515625 40.1875 11.734375 48.09375 \r\nQ 17.96875 56 27.875 56 \r\nQ 33.9375 56 38.25 53.625 \r\nQ 42.578125 51.265625 45.40625 46.390625 \r\nz\r\nM 14.796875 27.296875 \r\nQ 14.796875 17.390625 18.875 11.75 \r\nQ 22.953125 6.109375 30.078125 6.109375 \r\nQ 37.203125 6.109375 41.296875 11.75 \r\nQ 45.40625 17.390625 45.40625 27.296875 \r\nQ 45.40625 37.203125 41.296875 42.84375 \r\nQ 37.203125 48.484375 30.078125 48.484375 \r\nQ 22.953125 48.484375 18.875 42.84375 \r\nQ 14.796875 37.203125 14.796875 27.296875 \r\nz\r\n\" id=\"DejaVuSans-100\"/>\r\n       <path d=\"M 54.890625 54.6875 \r\nL 35.109375 28.078125 \r\nL 55.90625 0 \r\nL 45.3125 0 \r\nL 29.390625 21.484375 \r\nL 13.484375 0 \r\nL 2.875 0 \r\nL 24.125 28.609375 \r\nL 4.6875 54.6875 \r\nL 15.28125 54.6875 \r\nL 29.78125 35.203125 \r\nL 44.28125 54.6875 \r\nz\r\n\" id=\"DejaVuSans-120\"/>\r\n       <path d=\"M 10.59375 45.40625 \r\nL 73.1875 45.40625 \r\nL 73.1875 37.203125 \r\nL 10.59375 37.203125 \r\nz\r\nM 10.59375 25.484375 \r\nL 73.1875 25.484375 \r\nL 73.1875 17.1875 \r\nL 10.59375 17.1875 \r\nz\r\n\" id=\"DejaVuSans-61\"/>\r\n      </defs>\r\n      <use xlink:href=\"#DejaVuSans-73\"/>\r\n      <use x=\"29.492188\" xlink:href=\"#DejaVuSans-110\"/>\r\n      <use x=\"92.871094\" xlink:href=\"#DejaVuSans-100\"/>\r\n      <use x=\"156.347656\" xlink:href=\"#DejaVuSans-101\"/>\r\n      <use x=\"216.121094\" xlink:href=\"#DejaVuSans-120\"/>\r\n      <use x=\"275.300781\" xlink:href=\"#DejaVuSans-32\"/>\r\n      <use x=\"307.087891\" xlink:href=\"#DejaVuSans-115\"/>\r\n      <use x=\"359.1875\" xlink:href=\"#DejaVuSans-101\"/>\r\n      <use x=\"420.710938\" xlink:href=\"#DejaVuSans-116\"/>\r\n      <use x=\"459.919922\" xlink:href=\"#DejaVuSans-32\"/>\r\n      <use x=\"491.707031\" xlink:href=\"#DejaVuSans-61\"/>\r\n      <use x=\"575.496094\" xlink:href=\"#DejaVuSans-32\"/>\r\n      <use x=\"607.283203\" xlink:href=\"#DejaVuSans-49\"/>\r\n     </g>\r\n    </g>\r\n    <g id=\"patch_19\">\r\n     <path d=\"M 186.235156 53.594687 \r\nL 206.235156 53.594687 \r\nL 206.235156 46.594687 \r\nL 186.235156 46.594687 \r\nz\r\n\" style=\"fill:#008000;opacity:0.8;\"/>\r\n    </g>\r\n    <g id=\"text_18\">\r\n     <!-- Index set = 2 -->\r\n     <g transform=\"translate(214.235156 53.594687)scale(0.1 -0.1)\">\r\n      <use xlink:href=\"#DejaVuSans-73\"/>\r\n      <use x=\"29.492188\" xlink:href=\"#DejaVuSans-110\"/>\r\n      <use x=\"92.871094\" xlink:href=\"#DejaVuSans-100\"/>\r\n      <use x=\"156.347656\" xlink:href=\"#DejaVuSans-101\"/>\r\n      <use x=\"216.121094\" xlink:href=\"#DejaVuSans-120\"/>\r\n      <use x=\"275.300781\" xlink:href=\"#DejaVuSans-32\"/>\r\n      <use x=\"307.087891\" xlink:href=\"#DejaVuSans-115\"/>\r\n      <use x=\"359.1875\" xlink:href=\"#DejaVuSans-101\"/>\r\n      <use x=\"420.710938\" xlink:href=\"#DejaVuSans-116\"/>\r\n      <use x=\"459.919922\" xlink:href=\"#DejaVuSans-32\"/>\r\n      <use x=\"491.707031\" xlink:href=\"#DejaVuSans-61\"/>\r\n      <use x=\"575.496094\" xlink:href=\"#DejaVuSans-32\"/>\r\n      <use x=\"607.283203\" xlink:href=\"#DejaVuSans-50\"/>\r\n     </g>\r\n    </g>\r\n   </g>\r\n  </g>\r\n </g>\r\n <defs>\r\n  <clipPath id=\"p4c1a9f42a8\">\r\n   <rect height=\"219.4\" width=\"367.275\" x=\"50.14375\" y=\"22.318125\"/>\r\n  </clipPath>\r\n </defs>\r\n</svg>\r\n",
      "image/png": "[encoded data removed]"
     },
     "metadata": {
      "needs_background": "light"
     }
    },
    {
     "output_type": "display_data",
     "data": {
      "text/plain": "<Figure size 432x288 with 1 Axes>",
      "image/svg+xml": "<?xml version=\"1.0\" encoding=\"utf-8\" standalone=\"no\"?>\r\n<!DOCTYPE svg PUBLIC \"-//W3C//DTD SVG 1.1//EN\"\r\n  \"http://www.w3.org/Graphics/SVG/1.1/DTD/svg11.dtd\">\r\n<!-- Created with matplotlib (https://matplotlib.org/) -->\r\n<svg height=\"306.069702pt\" version=\"1.1\" viewBox=\"0 0 424.49375 306.069702\" width=\"424.49375pt\" xmlns=\"http://www.w3.org/2000/svg\" xmlns:xlink=\"http://www.w3.org/1999/xlink\">\r\n <metadata>\r\n  <rdf:RDF xmlns:cc=\"http://creativecommons.org/ns#\" xmlns:dc=\"http://purl.org/dc/elements/1.1/\" xmlns:rdf=\"http://www.w3.org/1999/02/22-rdf-syntax-ns#\">\r\n   <cc:Work>\r\n    <dc:type rdf:resource=\"http://purl.org/dc/dcmitype/StillImage\"/>\r\n    <dc:date>2021-02-19T17:36:06.930856</dc:date>\r\n    <dc:format>image/svg+xml</dc:format>\r\n    <dc:creator>\r\n     <cc:Agent>\r\n      <dc:title>Matplotlib v3.3.4, https://matplotlib.org/</dc:title>\r\n     </cc:Agent>\r\n    </dc:creator>\r\n   </cc:Work>\r\n  </rdf:RDF>\r\n </metadata>\r\n <defs>\r\n  <style type=\"text/css\">*{stroke-linecap:butt;stroke-linejoin:round;}</style>\r\n </defs>\r\n <g id=\"figure_1\">\r\n  <g id=\"patch_1\">\r\n   <path d=\"M 0 306.069702 \r\nL 424.49375 306.069702 \r\nL 424.49375 0 \r\nL 0 0 \r\nz\r\n\" style=\"fill:none;\"/>\r\n  </g>\r\n  <g id=\"axes_1\">\r\n   <g id=\"patch_2\">\r\n    <path d=\"M 50.14375 241.718125 \r\nL 417.29375 241.718125 \r\nL 417.29375 22.318125 \r\nL 50.14375 22.318125 \r\nz\r\n\" style=\"fill:#ffffff;\"/>\r\n   </g>\r\n   <g id=\"patch_3\">\r\n    <path clip-path=\"url(#p3b5b5b85f9)\" d=\"M 66.832386 241.718125 \r\nL 91.687802 241.718125 \r\nL 91.687802 144.154323 \r\nL 66.832386 144.154323 \r\nz\r\n\" style=\"fill:#0000ff;opacity:0.8;\"/>\r\n   </g>\r\n   <g id=\"patch_4\">\r\n    <path clip-path=\"url(#p3b5b5b85f9)\" d=\"M 137.84786 241.718125 \r\nL 162.703276 241.718125 \r\nL 162.703276 111.495649 \r\nL 137.84786 111.495649 \r\nz\r\n\" style=\"fill:#0000ff;opacity:0.8;\"/>\r\n   </g>\r\n   <g id=\"patch_5\">\r\n    <path clip-path=\"url(#p3b5b5b85f9)\" d=\"M 208.863334 241.718125 \r\nL 233.71875 241.718125 \r\nL 233.71875 235.335574 \r\nL 208.863334 235.335574 \r\nz\r\n\" style=\"fill:#0000ff;opacity:0.8;\"/>\r\n   </g>\r\n   <g id=\"patch_6\">\r\n    <path clip-path=\"url(#p3b5b5b85f9)\" d=\"M 279.878808 241.718125 \r\nL 304.734224 241.718125 \r\nL 304.734224 89.375249 \r\nL 279.878808 89.375249 \r\nz\r\n\" style=\"fill:#0000ff;opacity:0.8;\"/>\r\n   </g>\r\n   <g id=\"patch_7\">\r\n    <path clip-path=\"url(#p3b5b5b85f9)\" d=\"M 350.894282 241.718125 \r\nL 375.749698 241.718125 \r\nL 375.749698 65.884105 \r\nL 350.894282 65.884105 \r\nz\r\n\" style=\"fill:#0000ff;opacity:0.8;\"/>\r\n   </g>\r\n   <g id=\"patch_8\">\r\n    <path clip-path=\"url(#p3b5b5b85f9)\" d=\"M 91.687802 241.718125 \r\nL 116.543218 241.718125 \r\nL 116.543218 160.162853 \r\nL 91.687802 160.162853 \r\nz\r\n\" style=\"fill:#008000;opacity:0.8;\"/>\r\n   </g>\r\n   <g id=\"patch_9\">\r\n    <path clip-path=\"url(#p3b5b5b85f9)\" d=\"M 162.703276 241.718125 \r\nL 187.558692 241.718125 \r\nL 187.558692 85.444971 \r\nL 162.703276 85.444971 \r\nz\r\n\" style=\"fill:#008000;opacity:0.8;\"/>\r\n   </g>\r\n   <g id=\"patch_10\">\r\n    <path clip-path=\"url(#p3b5b5b85f9)\" d=\"M 233.71875 241.718125 \r\nL 258.574166 241.718125 \r\nL 258.574166 227.936869 \r\nL 233.71875 227.936869 \r\nz\r\n\" style=\"fill:#008000;opacity:0.8;\"/>\r\n   </g>\r\n   <g id=\"patch_11\">\r\n    <path clip-path=\"url(#p3b5b5b85f9)\" d=\"M 304.734224 241.718125 \r\nL 329.58964 241.718125 \r\nL 329.58964 80.185273 \r\nL 304.734224 80.185273 \r\nz\r\n\" style=\"fill:#008000;opacity:0.8;\"/>\r\n   </g>\r\n   <g id=\"patch_12\">\r\n    <path clip-path=\"url(#p3b5b5b85f9)\" d=\"M 375.749698 241.718125 \r\nL 400.605114 241.718125 \r\nL 400.605114 32.765744 \r\nL 375.749698 32.765744 \r\nz\r\n\" style=\"fill:#008000;opacity:0.8;\"/>\r\n   </g>\r\n   <g id=\"matplotlib.axis_1\">\r\n    <g id=\"xtick_1\">\r\n     <g id=\"line2d_1\">\r\n      <defs>\r\n       <path d=\"M 0 0 \r\nL 0 3.5 \r\n\" id=\"m91f94c2dc4\" style=\"stroke:#000000;stroke-width:0.8;\"/>\r\n      </defs>\r\n      <g>\r\n       <use style=\"stroke:#000000;stroke-width:0.8;\" x=\"104.11551\" xlink:href=\"#m91f94c2dc4\" y=\"241.718125\"/>\r\n      </g>\r\n     </g>\r\n     <g id=\"text_1\">\r\n      <!-- BOW -->\r\n      <g transform=\"translate(97.42396 271.376478)rotate(-45)scale(0.1 -0.1)\">\r\n       <defs>\r\n        <path d=\"M 19.671875 34.8125 \r\nL 19.671875 8.109375 \r\nL 35.5 8.109375 \r\nQ 43.453125 8.109375 47.28125 11.40625 \r\nQ 51.125 14.703125 51.125 21.484375 \r\nQ 51.125 28.328125 47.28125 31.5625 \r\nQ 43.453125 34.8125 35.5 34.8125 \r\nz\r\nM 19.671875 64.796875 \r\nL 19.671875 42.828125 \r\nL 34.28125 42.828125 \r\nQ 41.5 42.828125 45.03125 45.53125 \r\nQ 48.578125 48.25 48.578125 53.8125 \r\nQ 48.578125 59.328125 45.03125 62.0625 \r\nQ 41.5 64.796875 34.28125 64.796875 \r\nz\r\nM 9.8125 72.90625 \r\nL 35.015625 72.90625 \r\nQ 46.296875 72.90625 52.390625 68.21875 \r\nQ 58.5 63.53125 58.5 54.890625 \r\nQ 58.5 48.1875 55.375 44.234375 \r\nQ 52.25 40.28125 46.1875 39.3125 \r\nQ 53.46875 37.75 57.5 32.78125 \r\nQ 61.53125 27.828125 61.53125 20.40625 \r\nQ 61.53125 10.640625 54.890625 5.3125 \r\nQ 48.25 0 35.984375 0 \r\nL 9.8125 0 \r\nz\r\n\" id=\"DejaVuSans-66\"/>\r\n        <path d=\"M 39.40625 66.21875 \r\nQ 28.65625 66.21875 22.328125 58.203125 \r\nQ 16.015625 50.203125 16.015625 36.375 \r\nQ 16.015625 22.609375 22.328125 14.59375 \r\nQ 28.65625 6.59375 39.40625 6.59375 \r\nQ 50.140625 6.59375 56.421875 14.59375 \r\nQ 62.703125 22.609375 62.703125 36.375 \r\nQ 62.703125 50.203125 56.421875 58.203125 \r\nQ 50.140625 66.21875 39.40625 66.21875 \r\nz\r\nM 39.40625 74.21875 \r\nQ 54.734375 74.21875 63.90625 63.9375 \r\nQ 73.09375 53.65625 73.09375 36.375 \r\nQ 73.09375 19.140625 63.90625 8.859375 \r\nQ 54.734375 -1.421875 39.40625 -1.421875 \r\nQ 24.03125 -1.421875 14.8125 8.828125 \r\nQ 5.609375 19.09375 5.609375 36.375 \r\nQ 5.609375 53.65625 14.8125 63.9375 \r\nQ 24.03125 74.21875 39.40625 74.21875 \r\nz\r\n\" id=\"DejaVuSans-79\"/>\r\n        <path d=\"M 3.328125 72.90625 \r\nL 13.28125 72.90625 \r\nL 28.609375 11.28125 \r\nL 43.890625 72.90625 \r\nL 54.984375 72.90625 \r\nL 70.3125 11.28125 \r\nL 85.59375 72.90625 \r\nL 95.609375 72.90625 \r\nL 77.296875 0 \r\nL 64.890625 0 \r\nL 49.515625 63.28125 \r\nL 33.984375 0 \r\nL 21.578125 0 \r\nz\r\n\" id=\"DejaVuSans-87\"/>\r\n       </defs>\r\n       <use xlink:href=\"#DejaVuSans-66\"/>\r\n       <use x=\"66.853516\" xlink:href=\"#DejaVuSans-79\"/>\r\n       <use x=\"145.564453\" xlink:href=\"#DejaVuSans-87\"/>\r\n      </g>\r\n     </g>\r\n    </g>\r\n    <g id=\"xtick_2\">\r\n     <g id=\"line2d_2\">\r\n      <g>\r\n       <use style=\"stroke:#000000;stroke-width:0.8;\" x=\"175.130984\" xlink:href=\"#m91f94c2dc4\" y=\"241.718125\"/>\r\n      </g>\r\n     </g>\r\n     <g id=\"text_2\">\r\n      <!-- TF-IDF -->\r\n      <g transform=\"translate(165.814852 276.625641)rotate(-45)scale(0.1 -0.1)\">\r\n       <defs>\r\n        <path d=\"M -0.296875 72.90625 \r\nL 61.375 72.90625 \r\nL 61.375 64.59375 \r\nL 35.5 64.59375 \r\nL 35.5 0 \r\nL 25.59375 0 \r\nL 25.59375 64.59375 \r\nL -0.296875 64.59375 \r\nz\r\n\" id=\"DejaVuSans-84\"/>\r\n        <path d=\"M 9.8125 72.90625 \r\nL 51.703125 72.90625 \r\nL 51.703125 64.59375 \r\nL 19.671875 64.59375 \r\nL 19.671875 43.109375 \r\nL 48.578125 43.109375 \r\nL 48.578125 34.8125 \r\nL 19.671875 34.8125 \r\nL 19.671875 0 \r\nL 9.8125 0 \r\nz\r\n\" id=\"DejaVuSans-70\"/>\r\n        <path d=\"M 4.890625 31.390625 \r\nL 31.203125 31.390625 \r\nL 31.203125 23.390625 \r\nL 4.890625 23.390625 \r\nz\r\n\" id=\"DejaVuSans-45\"/>\r\n        <path d=\"M 9.8125 72.90625 \r\nL 19.671875 72.90625 \r\nL 19.671875 0 \r\nL 9.8125 0 \r\nz\r\n\" id=\"DejaVuSans-73\"/>\r\n        <path d=\"M 19.671875 64.796875 \r\nL 19.671875 8.109375 \r\nL 31.59375 8.109375 \r\nQ 46.6875 8.109375 53.6875 14.9375 \r\nQ 60.6875 21.78125 60.6875 36.53125 \r\nQ 60.6875 51.171875 53.6875 57.984375 \r\nQ 46.6875 64.796875 31.59375 64.796875 \r\nz\r\nM 9.8125 72.90625 \r\nL 30.078125 72.90625 \r\nQ 51.265625 72.90625 61.171875 64.09375 \r\nQ 71.09375 55.28125 71.09375 36.53125 \r\nQ 71.09375 17.671875 61.125 8.828125 \r\nQ 51.171875 0 30.078125 0 \r\nL 9.8125 0 \r\nz\r\n\" id=\"DejaVuSans-68\"/>\r\n       </defs>\r\n       <use xlink:href=\"#DejaVuSans-84\"/>\r\n       <use x=\"61.083984\" xlink:href=\"#DejaVuSans-70\"/>\r\n       <use x=\"118.603516\" xlink:href=\"#DejaVuSans-45\"/>\r\n       <use x=\"154.6875\" xlink:href=\"#DejaVuSans-73\"/>\r\n       <use x=\"184.179688\" xlink:href=\"#DejaVuSans-68\"/>\r\n       <use x=\"261.181641\" xlink:href=\"#DejaVuSans-70\"/>\r\n      </g>\r\n     </g>\r\n    </g>\r\n    <g id=\"xtick_3\">\r\n     <g id=\"line2d_3\">\r\n      <g>\r\n       <use style=\"stroke:#000000;stroke-width:0.8;\" x=\"246.146458\" xlink:href=\"#m91f94c2dc4\" y=\"241.718125\"/>\r\n      </g>\r\n     </g>\r\n     <g id=\"text_3\">\r\n      <!-- NaiveQL -->\r\n      <g transform=\"translate(233.282639 283.721016)rotate(-45)scale(0.1 -0.1)\">\r\n       <defs>\r\n        <path d=\"M 9.8125 72.90625 \r\nL 23.09375 72.90625 \r\nL 55.421875 11.921875 \r\nL 55.421875 72.90625 \r\nL 64.984375 72.90625 \r\nL 64.984375 0 \r\nL 51.703125 0 \r\nL 19.390625 60.984375 \r\nL 19.390625 0 \r\nL 9.8125 0 \r\nz\r\n\" id=\"DejaVuSans-78\"/>\r\n        <path d=\"M 34.28125 27.484375 \r\nQ 23.390625 27.484375 19.1875 25 \r\nQ 14.984375 22.515625 14.984375 16.5 \r\nQ 14.984375 11.71875 18.140625 8.90625 \r\nQ 21.296875 6.109375 26.703125 6.109375 \r\nQ 34.1875 6.109375 38.703125 11.40625 \r\nQ 43.21875 16.703125 43.21875 25.484375 \r\nL 43.21875 27.484375 \r\nz\r\nM 52.203125 31.203125 \r\nL 52.203125 0 \r\nL 43.21875 0 \r\nL 43.21875 8.296875 \r\nQ 40.140625 3.328125 35.546875 0.953125 \r\nQ 30.953125 -1.421875 24.3125 -1.421875 \r\nQ 15.921875 -1.421875 10.953125 3.296875 \r\nQ 6 8.015625 6 15.921875 \r\nQ 6 25.140625 12.171875 29.828125 \r\nQ 18.359375 34.515625 30.609375 34.515625 \r\nL 43.21875 34.515625 \r\nL 43.21875 35.40625 \r\nQ 43.21875 41.609375 39.140625 45 \r\nQ 35.0625 48.390625 27.6875 48.390625 \r\nQ 23 48.390625 18.546875 47.265625 \r\nQ 14.109375 46.140625 10.015625 43.890625 \r\nL 10.015625 52.203125 \r\nQ 14.9375 54.109375 19.578125 55.046875 \r\nQ 24.21875 56 28.609375 56 \r\nQ 40.484375 56 46.34375 49.84375 \r\nQ 52.203125 43.703125 52.203125 31.203125 \r\nz\r\n\" id=\"DejaVuSans-97\"/>\r\n        <path d=\"M 9.421875 54.6875 \r\nL 18.40625 54.6875 \r\nL 18.40625 0 \r\nL 9.421875 0 \r\nz\r\nM 9.421875 75.984375 \r\nL 18.40625 75.984375 \r\nL 18.40625 64.59375 \r\nL 9.421875 64.59375 \r\nz\r\n\" id=\"DejaVuSans-105\"/>\r\n        <path d=\"M 2.984375 54.6875 \r\nL 12.5 54.6875 \r\nL 29.59375 8.796875 \r\nL 46.6875 54.6875 \r\nL 56.203125 54.6875 \r\nL 35.6875 0 \r\nL 23.484375 0 \r\nz\r\n\" id=\"DejaVuSans-118\"/>\r\n        <path d=\"M 56.203125 29.59375 \r\nL 56.203125 25.203125 \r\nL 14.890625 25.203125 \r\nQ 15.484375 15.921875 20.484375 11.0625 \r\nQ 25.484375 6.203125 34.421875 6.203125 \r\nQ 39.59375 6.203125 44.453125 7.46875 \r\nQ 49.3125 8.734375 54.109375 11.28125 \r\nL 54.109375 2.78125 \r\nQ 49.265625 0.734375 44.1875 -0.34375 \r\nQ 39.109375 -1.421875 33.890625 -1.421875 \r\nQ 20.796875 -1.421875 13.15625 6.1875 \r\nQ 5.515625 13.8125 5.515625 26.8125 \r\nQ 5.515625 40.234375 12.765625 48.109375 \r\nQ 20.015625 56 32.328125 56 \r\nQ 43.359375 56 49.78125 48.890625 \r\nQ 56.203125 41.796875 56.203125 29.59375 \r\nz\r\nM 47.21875 32.234375 \r\nQ 47.125 39.59375 43.09375 43.984375 \r\nQ 39.0625 48.390625 32.421875 48.390625 \r\nQ 24.90625 48.390625 20.390625 44.140625 \r\nQ 15.875 39.890625 15.1875 32.171875 \r\nz\r\n\" id=\"DejaVuSans-101\"/>\r\n        <path d=\"M 39.40625 66.21875 \r\nQ 28.65625 66.21875 22.328125 58.203125 \r\nQ 16.015625 50.203125 16.015625 36.375 \r\nQ 16.015625 22.609375 22.328125 14.59375 \r\nQ 28.65625 6.59375 39.40625 6.59375 \r\nQ 50.140625 6.59375 56.421875 14.59375 \r\nQ 62.703125 22.609375 62.703125 36.375 \r\nQ 62.703125 50.203125 56.421875 58.203125 \r\nQ 50.140625 66.21875 39.40625 66.21875 \r\nz\r\nM 53.21875 1.3125 \r\nL 66.21875 -12.890625 \r\nL 54.296875 -12.890625 \r\nL 43.5 -1.21875 \r\nQ 41.890625 -1.3125 41.03125 -1.359375 \r\nQ 40.1875 -1.421875 39.40625 -1.421875 \r\nQ 24.03125 -1.421875 14.8125 8.859375 \r\nQ 5.609375 19.140625 5.609375 36.375 \r\nQ 5.609375 53.65625 14.8125 63.9375 \r\nQ 24.03125 74.21875 39.40625 74.21875 \r\nQ 54.734375 74.21875 63.90625 63.9375 \r\nQ 73.09375 53.65625 73.09375 36.375 \r\nQ 73.09375 23.6875 67.984375 14.640625 \r\nQ 62.890625 5.609375 53.21875 1.3125 \r\nz\r\n\" id=\"DejaVuSans-81\"/>\r\n        <path d=\"M 9.8125 72.90625 \r\nL 19.671875 72.90625 \r\nL 19.671875 8.296875 \r\nL 55.171875 8.296875 \r\nL 55.171875 0 \r\nL 9.8125 0 \r\nz\r\n\" id=\"DejaVuSans-76\"/>\r\n       </defs>\r\n       <use xlink:href=\"#DejaVuSans-78\"/>\r\n       <use x=\"74.804688\" xlink:href=\"#DejaVuSans-97\"/>\r\n       <use x=\"136.083984\" xlink:href=\"#DejaVuSans-105\"/>\r\n       <use x=\"163.867188\" xlink:href=\"#DejaVuSans-118\"/>\r\n       <use x=\"223.046875\" xlink:href=\"#DejaVuSans-101\"/>\r\n       <use x=\"284.570312\" xlink:href=\"#DejaVuSans-81\"/>\r\n       <use x=\"363.28125\" xlink:href=\"#DejaVuSans-76\"/>\r\n      </g>\r\n     </g>\r\n    </g>\r\n    <g id=\"xtick_4\">\r\n     <g id=\"line2d_4\">\r\n      <g>\r\n       <use style=\"stroke:#000000;stroke-width:0.8;\" x=\"317.161932\" xlink:href=\"#m91f94c2dc4\" y=\"241.718125\"/>\r\n      </g>\r\n     </g>\r\n     <g id=\"text_4\">\r\n      <!-- QL -->\r\n      <g transform=\"translate(314.360021 263.597198)rotate(-45)scale(0.1 -0.1)\">\r\n       <use xlink:href=\"#DejaVuSans-81\"/>\r\n       <use x=\"78.710938\" xlink:href=\"#DejaVuSans-76\"/>\r\n      </g>\r\n     </g>\r\n    </g>\r\n    <g id=\"xtick_5\">\r\n     <g id=\"line2d_5\">\r\n      <g>\r\n       <use style=\"stroke:#000000;stroke-width:0.8;\" x=\"388.177406\" xlink:href=\"#m91f94c2dc4\" y=\"241.718125\"/>\r\n      </g>\r\n     </g>\r\n     <g id=\"text_5\">\r\n      <!-- BM25 -->\r\n      <g transform=\"translate(380.153401 274.041387)rotate(-45)scale(0.1 -0.1)\">\r\n       <defs>\r\n        <path d=\"M 9.8125 72.90625 \r\nL 24.515625 72.90625 \r\nL 43.109375 23.296875 \r\nL 61.8125 72.90625 \r\nL 76.515625 72.90625 \r\nL 76.515625 0 \r\nL 66.890625 0 \r\nL 66.890625 64.015625 \r\nL 48.09375 14.015625 \r\nL 38.1875 14.015625 \r\nL 19.390625 64.015625 \r\nL 19.390625 0 \r\nL 9.8125 0 \r\nz\r\n\" id=\"DejaVuSans-77\"/>\r\n        <path d=\"M 19.1875 8.296875 \r\nL 53.609375 8.296875 \r\nL 53.609375 0 \r\nL 7.328125 0 \r\nL 7.328125 8.296875 \r\nQ 12.9375 14.109375 22.625 23.890625 \r\nQ 32.328125 33.6875 34.8125 36.53125 \r\nQ 39.546875 41.84375 41.421875 45.53125 \r\nQ 43.3125 49.21875 43.3125 52.78125 \r\nQ 43.3125 58.59375 39.234375 62.25 \r\nQ 35.15625 65.921875 28.609375 65.921875 \r\nQ 23.96875 65.921875 18.8125 64.3125 \r\nQ 13.671875 62.703125 7.8125 59.421875 \r\nL 7.8125 69.390625 \r\nQ 13.765625 71.78125 18.9375 73 \r\nQ 24.125 74.21875 28.421875 74.21875 \r\nQ 39.75 74.21875 46.484375 68.546875 \r\nQ 53.21875 62.890625 53.21875 53.421875 \r\nQ 53.21875 48.921875 51.53125 44.890625 \r\nQ 49.859375 40.875 45.40625 35.40625 \r\nQ 44.1875 33.984375 37.640625 27.21875 \r\nQ 31.109375 20.453125 19.1875 8.296875 \r\nz\r\n\" id=\"DejaVuSans-50\"/>\r\n        <path d=\"M 10.796875 72.90625 \r\nL 49.515625 72.90625 \r\nL 49.515625 64.59375 \r\nL 19.828125 64.59375 \r\nL 19.828125 46.734375 \r\nQ 21.96875 47.46875 24.109375 47.828125 \r\nQ 26.265625 48.1875 28.421875 48.1875 \r\nQ 40.625 48.1875 47.75 41.5 \r\nQ 54.890625 34.8125 54.890625 23.390625 \r\nQ 54.890625 11.625 47.5625 5.09375 \r\nQ 40.234375 -1.421875 26.90625 -1.421875 \r\nQ 22.3125 -1.421875 17.546875 -0.640625 \r\nQ 12.796875 0.140625 7.71875 1.703125 \r\nL 7.71875 11.625 \r\nQ 12.109375 9.234375 16.796875 8.0625 \r\nQ 21.484375 6.890625 26.703125 6.890625 \r\nQ 35.15625 6.890625 40.078125 11.328125 \r\nQ 45.015625 15.765625 45.015625 23.390625 \r\nQ 45.015625 31 40.078125 35.4375 \r\nQ 35.15625 39.890625 26.703125 39.890625 \r\nQ 22.75 39.890625 18.8125 39.015625 \r\nQ 14.890625 38.140625 10.796875 36.28125 \r\nz\r\n\" id=\"DejaVuSans-53\"/>\r\n       </defs>\r\n       <use xlink:href=\"#DejaVuSans-66\"/>\r\n       <use x=\"68.603516\" xlink:href=\"#DejaVuSans-77\"/>\r\n       <use x=\"154.882812\" xlink:href=\"#DejaVuSans-50\"/>\r\n       <use x=\"218.505859\" xlink:href=\"#DejaVuSans-53\"/>\r\n      </g>\r\n     </g>\r\n    </g>\r\n    <g id=\"text_6\">\r\n     <!-- Search functions -->\r\n     <g transform=\"translate(191.925 296.790014)scale(0.1 -0.1)\">\r\n      <defs>\r\n       <path d=\"M 53.515625 70.515625 \r\nL 53.515625 60.890625 \r\nQ 47.90625 63.578125 42.921875 64.890625 \r\nQ 37.9375 66.21875 33.296875 66.21875 \r\nQ 25.25 66.21875 20.875 63.09375 \r\nQ 16.5 59.96875 16.5 54.203125 \r\nQ 16.5 49.359375 19.40625 46.890625 \r\nQ 22.3125 44.4375 30.421875 42.921875 \r\nL 36.375 41.703125 \r\nQ 47.40625 39.59375 52.65625 34.296875 \r\nQ 57.90625 29 57.90625 20.125 \r\nQ 57.90625 9.515625 50.796875 4.046875 \r\nQ 43.703125 -1.421875 29.984375 -1.421875 \r\nQ 24.8125 -1.421875 18.96875 -0.25 \r\nQ 13.140625 0.921875 6.890625 3.21875 \r\nL 6.890625 13.375 \r\nQ 12.890625 10.015625 18.65625 8.296875 \r\nQ 24.421875 6.59375 29.984375 6.59375 \r\nQ 38.421875 6.59375 43.015625 9.90625 \r\nQ 47.609375 13.234375 47.609375 19.390625 \r\nQ 47.609375 24.75 44.3125 27.78125 \r\nQ 41.015625 30.8125 33.5 32.328125 \r\nL 27.484375 33.5 \r\nQ 16.453125 35.6875 11.515625 40.375 \r\nQ 6.59375 45.0625 6.59375 53.421875 \r\nQ 6.59375 63.09375 13.40625 68.65625 \r\nQ 20.21875 74.21875 32.171875 74.21875 \r\nQ 37.3125 74.21875 42.625 73.28125 \r\nQ 47.953125 72.359375 53.515625 70.515625 \r\nz\r\n\" id=\"DejaVuSans-83\"/>\r\n       <path d=\"M 41.109375 46.296875 \r\nQ 39.59375 47.171875 37.8125 47.578125 \r\nQ 36.03125 48 33.890625 48 \r\nQ 26.265625 48 22.1875 43.046875 \r\nQ 18.109375 38.09375 18.109375 28.8125 \r\nL 18.109375 0 \r\nL 9.078125 0 \r\nL 9.078125 54.6875 \r\nL 18.109375 54.6875 \r\nL 18.109375 46.1875 \r\nQ 20.953125 51.171875 25.484375 53.578125 \r\nQ 30.03125 56 36.53125 56 \r\nQ 37.453125 56 38.578125 55.875 \r\nQ 39.703125 55.765625 41.0625 55.515625 \r\nz\r\n\" id=\"DejaVuSans-114\"/>\r\n       <path d=\"M 48.78125 52.59375 \r\nL 48.78125 44.1875 \r\nQ 44.96875 46.296875 41.140625 47.34375 \r\nQ 37.3125 48.390625 33.40625 48.390625 \r\nQ 24.65625 48.390625 19.8125 42.84375 \r\nQ 14.984375 37.3125 14.984375 27.296875 \r\nQ 14.984375 17.28125 19.8125 11.734375 \r\nQ 24.65625 6.203125 33.40625 6.203125 \r\nQ 37.3125 6.203125 41.140625 7.25 \r\nQ 44.96875 8.296875 48.78125 10.40625 \r\nL 48.78125 2.09375 \r\nQ 45.015625 0.34375 40.984375 -0.53125 \r\nQ 36.96875 -1.421875 32.421875 -1.421875 \r\nQ 20.0625 -1.421875 12.78125 6.34375 \r\nQ 5.515625 14.109375 5.515625 27.296875 \r\nQ 5.515625 40.671875 12.859375 48.328125 \r\nQ 20.21875 56 33.015625 56 \r\nQ 37.15625 56 41.109375 55.140625 \r\nQ 45.0625 54.296875 48.78125 52.59375 \r\nz\r\n\" id=\"DejaVuSans-99\"/>\r\n       <path d=\"M 54.890625 33.015625 \r\nL 54.890625 0 \r\nL 45.90625 0 \r\nL 45.90625 32.71875 \r\nQ 45.90625 40.484375 42.875 44.328125 \r\nQ 39.84375 48.1875 33.796875 48.1875 \r\nQ 26.515625 48.1875 22.3125 43.546875 \r\nQ 18.109375 38.921875 18.109375 30.90625 \r\nL 18.109375 0 \r\nL 9.078125 0 \r\nL 9.078125 75.984375 \r\nL 18.109375 75.984375 \r\nL 18.109375 46.1875 \r\nQ 21.34375 51.125 25.703125 53.5625 \r\nQ 30.078125 56 35.796875 56 \r\nQ 45.21875 56 50.046875 50.171875 \r\nQ 54.890625 44.34375 54.890625 33.015625 \r\nz\r\n\" id=\"DejaVuSans-104\"/>\r\n       <path id=\"DejaVuSans-32\"/>\r\n       <path d=\"M 37.109375 75.984375 \r\nL 37.109375 68.5 \r\nL 28.515625 68.5 \r\nQ 23.6875 68.5 21.796875 66.546875 \r\nQ 19.921875 64.59375 19.921875 59.515625 \r\nL 19.921875 54.6875 \r\nL 34.71875 54.6875 \r\nL 34.71875 47.703125 \r\nL 19.921875 47.703125 \r\nL 19.921875 0 \r\nL 10.890625 0 \r\nL 10.890625 47.703125 \r\nL 2.296875 47.703125 \r\nL 2.296875 54.6875 \r\nL 10.890625 54.6875 \r\nL 10.890625 58.5 \r\nQ 10.890625 67.625 15.140625 71.796875 \r\nQ 19.390625 75.984375 28.609375 75.984375 \r\nz\r\n\" id=\"DejaVuSans-102\"/>\r\n       <path d=\"M 8.5 21.578125 \r\nL 8.5 54.6875 \r\nL 17.484375 54.6875 \r\nL 17.484375 21.921875 \r\nQ 17.484375 14.15625 20.5 10.265625 \r\nQ 23.53125 6.390625 29.59375 6.390625 \r\nQ 36.859375 6.390625 41.078125 11.03125 \r\nQ 45.3125 15.671875 45.3125 23.6875 \r\nL 45.3125 54.6875 \r\nL 54.296875 54.6875 \r\nL 54.296875 0 \r\nL 45.3125 0 \r\nL 45.3125 8.40625 \r\nQ 42.046875 3.421875 37.71875 1 \r\nQ 33.40625 -1.421875 27.6875 -1.421875 \r\nQ 18.265625 -1.421875 13.375 4.4375 \r\nQ 8.5 10.296875 8.5 21.578125 \r\nz\r\nM 31.109375 56 \r\nz\r\n\" id=\"DejaVuSans-117\"/>\r\n       <path d=\"M 54.890625 33.015625 \r\nL 54.890625 0 \r\nL 45.90625 0 \r\nL 45.90625 32.71875 \r\nQ 45.90625 40.484375 42.875 44.328125 \r\nQ 39.84375 48.1875 33.796875 48.1875 \r\nQ 26.515625 48.1875 22.3125 43.546875 \r\nQ 18.109375 38.921875 18.109375 30.90625 \r\nL 18.109375 0 \r\nL 9.078125 0 \r\nL 9.078125 54.6875 \r\nL 18.109375 54.6875 \r\nL 18.109375 46.1875 \r\nQ 21.34375 51.125 25.703125 53.5625 \r\nQ 30.078125 56 35.796875 56 \r\nQ 45.21875 56 50.046875 50.171875 \r\nQ 54.890625 44.34375 54.890625 33.015625 \r\nz\r\n\" id=\"DejaVuSans-110\"/>\r\n       <path d=\"M 18.3125 70.21875 \r\nL 18.3125 54.6875 \r\nL 36.8125 54.6875 \r\nL 36.8125 47.703125 \r\nL 18.3125 47.703125 \r\nL 18.3125 18.015625 \r\nQ 18.3125 11.328125 20.140625 9.421875 \r\nQ 21.96875 7.515625 27.59375 7.515625 \r\nL 36.8125 7.515625 \r\nL 36.8125 0 \r\nL 27.59375 0 \r\nQ 17.1875 0 13.234375 3.875 \r\nQ 9.28125 7.765625 9.28125 18.015625 \r\nL 9.28125 47.703125 \r\nL 2.6875 47.703125 \r\nL 2.6875 54.6875 \r\nL 9.28125 54.6875 \r\nL 9.28125 70.21875 \r\nz\r\n\" id=\"DejaVuSans-116\"/>\r\n       <path d=\"M 30.609375 48.390625 \r\nQ 23.390625 48.390625 19.1875 42.75 \r\nQ 14.984375 37.109375 14.984375 27.296875 \r\nQ 14.984375 17.484375 19.15625 11.84375 \r\nQ 23.34375 6.203125 30.609375 6.203125 \r\nQ 37.796875 6.203125 41.984375 11.859375 \r\nQ 46.1875 17.53125 46.1875 27.296875 \r\nQ 46.1875 37.015625 41.984375 42.703125 \r\nQ 37.796875 48.390625 30.609375 48.390625 \r\nz\r\nM 30.609375 56 \r\nQ 42.328125 56 49.015625 48.375 \r\nQ 55.71875 40.765625 55.71875 27.296875 \r\nQ 55.71875 13.875 49.015625 6.21875 \r\nQ 42.328125 -1.421875 30.609375 -1.421875 \r\nQ 18.84375 -1.421875 12.171875 6.21875 \r\nQ 5.515625 13.875 5.515625 27.296875 \r\nQ 5.515625 40.765625 12.171875 48.375 \r\nQ 18.84375 56 30.609375 56 \r\nz\r\n\" id=\"DejaVuSans-111\"/>\r\n       <path d=\"M 44.28125 53.078125 \r\nL 44.28125 44.578125 \r\nQ 40.484375 46.53125 36.375 47.5 \r\nQ 32.28125 48.484375 27.875 48.484375 \r\nQ 21.1875 48.484375 17.84375 46.4375 \r\nQ 14.5 44.390625 14.5 40.28125 \r\nQ 14.5 37.15625 16.890625 35.375 \r\nQ 19.28125 33.59375 26.515625 31.984375 \r\nL 29.59375 31.296875 \r\nQ 39.15625 29.25 43.1875 25.515625 \r\nQ 47.21875 21.78125 47.21875 15.09375 \r\nQ 47.21875 7.46875 41.1875 3.015625 \r\nQ 35.15625 -1.421875 24.609375 -1.421875 \r\nQ 20.21875 -1.421875 15.453125 -0.5625 \r\nQ 10.6875 0.296875 5.421875 2 \r\nL 5.421875 11.28125 \r\nQ 10.40625 8.6875 15.234375 7.390625 \r\nQ 20.0625 6.109375 24.8125 6.109375 \r\nQ 31.15625 6.109375 34.5625 8.28125 \r\nQ 37.984375 10.453125 37.984375 14.40625 \r\nQ 37.984375 18.0625 35.515625 20.015625 \r\nQ 33.0625 21.96875 24.703125 23.78125 \r\nL 21.578125 24.515625 \r\nQ 13.234375 26.265625 9.515625 29.90625 \r\nQ 5.8125 33.546875 5.8125 39.890625 \r\nQ 5.8125 47.609375 11.28125 51.796875 \r\nQ 16.75 56 26.8125 56 \r\nQ 31.78125 56 36.171875 55.265625 \r\nQ 40.578125 54.546875 44.28125 53.078125 \r\nz\r\n\" id=\"DejaVuSans-115\"/>\r\n      </defs>\r\n      <use xlink:href=\"#DejaVuSans-83\"/>\r\n      <use x=\"63.476562\" xlink:href=\"#DejaVuSans-101\"/>\r\n      <use x=\"125\" xlink:href=\"#DejaVuSans-97\"/>\r\n      <use x=\"186.279297\" xlink:href=\"#DejaVuSans-114\"/>\r\n      <use x=\"225.142578\" xlink:href=\"#DejaVuSans-99\"/>\r\n      <use x=\"280.123047\" xlink:href=\"#DejaVuSans-104\"/>\r\n      <use x=\"343.501953\" xlink:href=\"#DejaVuSans-32\"/>\r\n      <use x=\"375.289062\" xlink:href=\"#DejaVuSans-102\"/>\r\n      <use x=\"410.494141\" xlink:href=\"#DejaVuSans-117\"/>\r\n      <use x=\"473.873047\" xlink:href=\"#DejaVuSans-110\"/>\r\n      <use x=\"537.251953\" xlink:href=\"#DejaVuSans-99\"/>\r\n      <use x=\"592.232422\" xlink:href=\"#DejaVuSans-116\"/>\r\n      <use x=\"631.441406\" xlink:href=\"#DejaVuSans-105\"/>\r\n      <use x=\"659.224609\" xlink:href=\"#DejaVuSans-111\"/>\r\n      <use x=\"720.40625\" xlink:href=\"#DejaVuSans-110\"/>\r\n      <use x=\"783.785156\" xlink:href=\"#DejaVuSans-115\"/>\r\n     </g>\r\n    </g>\r\n   </g>\r\n   <g id=\"matplotlib.axis_2\">\r\n    <g id=\"ytick_1\">\r\n     <g id=\"line2d_6\">\r\n      <defs>\r\n       <path d=\"M 0 0 \r\nL -3.5 0 \r\n\" id=\"mf66816d1e5\" style=\"stroke:#000000;stroke-width:0.8;\"/>\r\n      </defs>\r\n      <g>\r\n       <use style=\"stroke:#000000;stroke-width:0.8;\" x=\"50.14375\" xlink:href=\"#mf66816d1e5\" y=\"241.718125\"/>\r\n      </g>\r\n     </g>\r\n     <g id=\"text_7\">\r\n      <!-- 0.00 -->\r\n      <g transform=\"translate(20.878125 245.517344)scale(0.1 -0.1)\">\r\n       <defs>\r\n        <path d=\"M 31.78125 66.40625 \r\nQ 24.171875 66.40625 20.328125 58.90625 \r\nQ 16.5 51.421875 16.5 36.375 \r\nQ 16.5 21.390625 20.328125 13.890625 \r\nQ 24.171875 6.390625 31.78125 6.390625 \r\nQ 39.453125 6.390625 43.28125 13.890625 \r\nQ 47.125 21.390625 47.125 36.375 \r\nQ 47.125 51.421875 43.28125 58.90625 \r\nQ 39.453125 66.40625 31.78125 66.40625 \r\nz\r\nM 31.78125 74.21875 \r\nQ 44.046875 74.21875 50.515625 64.515625 \r\nQ 56.984375 54.828125 56.984375 36.375 \r\nQ 56.984375 17.96875 50.515625 8.265625 \r\nQ 44.046875 -1.421875 31.78125 -1.421875 \r\nQ 19.53125 -1.421875 13.0625 8.265625 \r\nQ 6.59375 17.96875 6.59375 36.375 \r\nQ 6.59375 54.828125 13.0625 64.515625 \r\nQ 19.53125 74.21875 31.78125 74.21875 \r\nz\r\n\" id=\"DejaVuSans-48\"/>\r\n        <path d=\"M 10.6875 12.40625 \r\nL 21 12.40625 \r\nL 21 0 \r\nL 10.6875 0 \r\nz\r\n\" id=\"DejaVuSans-46\"/>\r\n       </defs>\r\n       <use xlink:href=\"#DejaVuSans-48\"/>\r\n       <use x=\"63.623047\" xlink:href=\"#DejaVuSans-46\"/>\r\n       <use x=\"95.410156\" xlink:href=\"#DejaVuSans-48\"/>\r\n       <use x=\"159.033203\" xlink:href=\"#DejaVuSans-48\"/>\r\n      </g>\r\n     </g>\r\n    </g>\r\n    <g id=\"ytick_2\">\r\n     <g id=\"line2d_7\">\r\n      <g>\r\n       <use style=\"stroke:#000000;stroke-width:0.8;\" x=\"50.14375\" xlink:href=\"#mf66816d1e5\" y=\"194.950961\"/>\r\n      </g>\r\n     </g>\r\n     <g id=\"text_8\">\r\n      <!-- 0.05 -->\r\n      <g transform=\"translate(20.878125 198.75018)scale(0.1 -0.1)\">\r\n       <use xlink:href=\"#DejaVuSans-48\"/>\r\n       <use x=\"63.623047\" xlink:href=\"#DejaVuSans-46\"/>\r\n       <use x=\"95.410156\" xlink:href=\"#DejaVuSans-48\"/>\r\n       <use x=\"159.033203\" xlink:href=\"#DejaVuSans-53\"/>\r\n      </g>\r\n     </g>\r\n    </g>\r\n    <g id=\"ytick_3\">\r\n     <g id=\"line2d_8\">\r\n      <g>\r\n       <use style=\"stroke:#000000;stroke-width:0.8;\" x=\"50.14375\" xlink:href=\"#mf66816d1e5\" y=\"148.183798\"/>\r\n      </g>\r\n     </g>\r\n     <g id=\"text_9\">\r\n      <!-- 0.10 -->\r\n      <g transform=\"translate(20.878125 151.983016)scale(0.1 -0.1)\">\r\n       <defs>\r\n        <path d=\"M 12.40625 8.296875 \r\nL 28.515625 8.296875 \r\nL 28.515625 63.921875 \r\nL 10.984375 60.40625 \r\nL 10.984375 69.390625 \r\nL 28.421875 72.90625 \r\nL 38.28125 72.90625 \r\nL 38.28125 8.296875 \r\nL 54.390625 8.296875 \r\nL 54.390625 0 \r\nL 12.40625 0 \r\nz\r\n\" id=\"DejaVuSans-49\"/>\r\n       </defs>\r\n       <use xlink:href=\"#DejaVuSans-48\"/>\r\n       <use x=\"63.623047\" xlink:href=\"#DejaVuSans-46\"/>\r\n       <use x=\"95.410156\" xlink:href=\"#DejaVuSans-49\"/>\r\n       <use x=\"159.033203\" xlink:href=\"#DejaVuSans-48\"/>\r\n      </g>\r\n     </g>\r\n    </g>\r\n    <g id=\"ytick_4\">\r\n     <g id=\"line2d_9\">\r\n      <g>\r\n       <use style=\"stroke:#000000;stroke-width:0.8;\" x=\"50.14375\" xlink:href=\"#mf66816d1e5\" y=\"101.416634\"/>\r\n      </g>\r\n     </g>\r\n     <g id=\"text_10\">\r\n      <!-- 0.15 -->\r\n      <g transform=\"translate(20.878125 105.215853)scale(0.1 -0.1)\">\r\n       <use xlink:href=\"#DejaVuSans-48\"/>\r\n       <use x=\"63.623047\" xlink:href=\"#DejaVuSans-46\"/>\r\n       <use x=\"95.410156\" xlink:href=\"#DejaVuSans-49\"/>\r\n       <use x=\"159.033203\" xlink:href=\"#DejaVuSans-53\"/>\r\n      </g>\r\n     </g>\r\n    </g>\r\n    <g id=\"ytick_5\">\r\n     <g id=\"line2d_10\">\r\n      <g>\r\n       <use style=\"stroke:#000000;stroke-width:0.8;\" x=\"50.14375\" xlink:href=\"#mf66816d1e5\" y=\"54.64947\"/>\r\n      </g>\r\n     </g>\r\n     <g id=\"text_11\">\r\n      <!-- 0.20 -->\r\n      <g transform=\"translate(20.878125 58.448689)scale(0.1 -0.1)\">\r\n       <use xlink:href=\"#DejaVuSans-48\"/>\r\n       <use x=\"63.623047\" xlink:href=\"#DejaVuSans-46\"/>\r\n       <use x=\"95.410156\" xlink:href=\"#DejaVuSans-50\"/>\r\n       <use x=\"159.033203\" xlink:href=\"#DejaVuSans-48\"/>\r\n      </g>\r\n     </g>\r\n    </g>\r\n    <g id=\"text_12\">\r\n     <!-- Results -->\r\n     <g transform=\"translate(14.798438 150.07125)rotate(-90)scale(0.1 -0.1)\">\r\n      <defs>\r\n       <path d=\"M 44.390625 34.1875 \r\nQ 47.5625 33.109375 50.5625 29.59375 \r\nQ 53.5625 26.078125 56.59375 19.921875 \r\nL 66.609375 0 \r\nL 56 0 \r\nL 46.6875 18.703125 \r\nQ 43.0625 26.03125 39.671875 28.421875 \r\nQ 36.28125 30.8125 30.421875 30.8125 \r\nL 19.671875 30.8125 \r\nL 19.671875 0 \r\nL 9.8125 0 \r\nL 9.8125 72.90625 \r\nL 32.078125 72.90625 \r\nQ 44.578125 72.90625 50.734375 67.671875 \r\nQ 56.890625 62.453125 56.890625 51.90625 \r\nQ 56.890625 45.015625 53.6875 40.46875 \r\nQ 50.484375 35.9375 44.390625 34.1875 \r\nz\r\nM 19.671875 64.796875 \r\nL 19.671875 38.921875 \r\nL 32.078125 38.921875 \r\nQ 39.203125 38.921875 42.84375 42.21875 \r\nQ 46.484375 45.515625 46.484375 51.90625 \r\nQ 46.484375 58.296875 42.84375 61.546875 \r\nQ 39.203125 64.796875 32.078125 64.796875 \r\nz\r\n\" id=\"DejaVuSans-82\"/>\r\n       <path d=\"M 9.421875 75.984375 \r\nL 18.40625 75.984375 \r\nL 18.40625 0 \r\nL 9.421875 0 \r\nz\r\n\" id=\"DejaVuSans-108\"/>\r\n      </defs>\r\n      <use xlink:href=\"#DejaVuSans-82\"/>\r\n      <use x=\"64.982422\" xlink:href=\"#DejaVuSans-101\"/>\r\n      <use x=\"126.505859\" xlink:href=\"#DejaVuSans-115\"/>\r\n      <use x=\"178.605469\" xlink:href=\"#DejaVuSans-117\"/>\r\n      <use x=\"241.984375\" xlink:href=\"#DejaVuSans-108\"/>\r\n      <use x=\"269.767578\" xlink:href=\"#DejaVuSans-116\"/>\r\n      <use x=\"308.976562\" xlink:href=\"#DejaVuSans-115\"/>\r\n     </g>\r\n    </g>\r\n   </g>\r\n   <g id=\"patch_13\">\r\n    <path d=\"M 50.14375 241.718125 \r\nL 50.14375 22.318125 \r\n\" style=\"fill:none;stroke:#000000;stroke-linecap:square;stroke-linejoin:miter;stroke-width:0.8;\"/>\r\n   </g>\r\n   <g id=\"patch_14\">\r\n    <path d=\"M 417.29375 241.718125 \r\nL 417.29375 22.318125 \r\n\" style=\"fill:none;stroke:#000000;stroke-linecap:square;stroke-linejoin:miter;stroke-width:0.8;\"/>\r\n   </g>\r\n   <g id=\"patch_15\">\r\n    <path d=\"M 50.14375 241.718125 \r\nL 417.29375 241.718125 \r\n\" style=\"fill:none;stroke:#000000;stroke-linecap:square;stroke-linejoin:miter;stroke-width:0.8;\"/>\r\n   </g>\r\n   <g id=\"patch_16\">\r\n    <path d=\"M 50.14375 22.318125 \r\nL 417.29375 22.318125 \r\n\" style=\"fill:none;stroke:#000000;stroke-linecap:square;stroke-linejoin:miter;stroke-width:0.8;\"/>\r\n   </g>\r\n   <g id=\"text_13\">\r\n    <!-- Results using Recall@5 metric -->\r\n    <g transform=\"translate(143.08875 16.318125)scale(0.12 -0.12)\">\r\n     <defs>\r\n      <path d=\"M 45.40625 27.984375 \r\nQ 45.40625 37.75 41.375 43.109375 \r\nQ 37.359375 48.484375 30.078125 48.484375 \r\nQ 22.859375 48.484375 18.828125 43.109375 \r\nQ 14.796875 37.75 14.796875 27.984375 \r\nQ 14.796875 18.265625 18.828125 12.890625 \r\nQ 22.859375 7.515625 30.078125 7.515625 \r\nQ 37.359375 7.515625 41.375 12.890625 \r\nQ 45.40625 18.265625 45.40625 27.984375 \r\nz\r\nM 54.390625 6.78125 \r\nQ 54.390625 -7.171875 48.1875 -13.984375 \r\nQ 42 -20.796875 29.203125 -20.796875 \r\nQ 24.46875 -20.796875 20.265625 -20.09375 \r\nQ 16.0625 -19.390625 12.109375 -17.921875 \r\nL 12.109375 -9.1875 \r\nQ 16.0625 -11.328125 19.921875 -12.34375 \r\nQ 23.78125 -13.375 27.78125 -13.375 \r\nQ 36.625 -13.375 41.015625 -8.765625 \r\nQ 45.40625 -4.15625 45.40625 5.171875 \r\nL 45.40625 9.625 \r\nQ 42.625 4.78125 38.28125 2.390625 \r\nQ 33.9375 0 27.875 0 \r\nQ 17.828125 0 11.671875 7.65625 \r\nQ 5.515625 15.328125 5.515625 27.984375 \r\nQ 5.515625 40.671875 11.671875 48.328125 \r\nQ 17.828125 56 27.875 56 \r\nQ 33.9375 56 38.28125 53.609375 \r\nQ 42.625 51.21875 45.40625 46.390625 \r\nL 45.40625 54.6875 \r\nL 54.390625 54.6875 \r\nz\r\n\" id=\"DejaVuSans-103\"/>\r\n      <path d=\"M 37.203125 26.21875 \r\nQ 37.203125 19.234375 40.671875 15.25 \r\nQ 44.140625 11.28125 50.203125 11.28125 \r\nQ 56.203125 11.28125 59.640625 15.28125 \r\nQ 63.09375 19.28125 63.09375 26.21875 \r\nQ 63.09375 33.0625 59.578125 37.078125 \r\nQ 56.0625 41.109375 50.09375 41.109375 \r\nQ 44.1875 41.109375 40.6875 37.109375 \r\nQ 37.203125 33.109375 37.203125 26.21875 \r\nz\r\nM 63.8125 11.625 \r\nQ 60.890625 7.859375 57.109375 6.078125 \r\nQ 53.328125 4.296875 48.296875 4.296875 \r\nQ 39.890625 4.296875 34.640625 10.375 \r\nQ 29.390625 16.453125 29.390625 26.21875 \r\nQ 29.390625 35.984375 34.65625 42.078125 \r\nQ 39.9375 48.1875 48.296875 48.1875 \r\nQ 53.328125 48.1875 57.125 46.359375 \r\nQ 60.9375 44.53125 63.8125 40.828125 \r\nL 63.8125 47.21875 \r\nL 70.796875 47.21875 \r\nL 70.796875 11.28125 \r\nQ 77.9375 12.359375 81.953125 17.796875 \r\nQ 85.984375 23.25 85.984375 31.890625 \r\nQ 85.984375 37.109375 84.4375 41.703125 \r\nQ 82.90625 46.296875 79.78125 50.203125 \r\nQ 74.703125 56.59375 67.40625 59.984375 \r\nQ 60.109375 63.375 51.515625 63.375 \r\nQ 45.515625 63.375 39.984375 61.78125 \r\nQ 34.46875 60.203125 29.78125 57.078125 \r\nQ 22.125 52.09375 17.796875 44.015625 \r\nQ 13.484375 35.9375 13.484375 26.515625 \r\nQ 13.484375 18.75 16.28125 11.953125 \r\nQ 19.09375 5.171875 24.421875 0 \r\nQ 29.546875 -5.078125 36.28125 -7.734375 \r\nQ 43.015625 -10.40625 50.6875 -10.40625 \r\nQ 56.984375 -10.40625 63.0625 -8.28125 \r\nQ 69.140625 -6.15625 74.21875 -2.203125 \r\nL 78.609375 -7.625 \r\nQ 72.515625 -12.359375 65.3125 -14.875 \r\nQ 58.109375 -17.390625 50.6875 -17.390625 \r\nQ 41.65625 -17.390625 33.640625 -14.1875 \r\nQ 25.640625 -10.984375 19.390625 -4.890625 \r\nQ 13.140625 1.21875 9.859375 9.25 \r\nQ 6.59375 17.28125 6.59375 26.515625 \r\nQ 6.59375 35.40625 9.90625 43.453125 \r\nQ 13.234375 51.515625 19.390625 57.625 \r\nQ 25.6875 63.8125 33.9375 67.109375 \r\nQ 42.1875 70.40625 51.421875 70.40625 \r\nQ 61.765625 70.40625 70.625 66.15625 \r\nQ 79.5 61.921875 85.5 54.109375 \r\nQ 89.15625 49.3125 91.078125 43.703125 \r\nQ 93.015625 38.09375 93.015625 32.078125 \r\nQ 93.015625 19.234375 85.25 11.8125 \r\nQ 77.484375 4.390625 63.8125 4.109375 \r\nz\r\n\" id=\"DejaVuSans-64\"/>\r\n      <path d=\"M 52 44.1875 \r\nQ 55.375 50.25 60.0625 53.125 \r\nQ 64.75 56 71.09375 56 \r\nQ 79.640625 56 84.28125 50.015625 \r\nQ 88.921875 44.046875 88.921875 33.015625 \r\nL 88.921875 0 \r\nL 79.890625 0 \r\nL 79.890625 32.71875 \r\nQ 79.890625 40.578125 77.09375 44.375 \r\nQ 74.3125 48.1875 68.609375 48.1875 \r\nQ 61.625 48.1875 57.5625 43.546875 \r\nQ 53.515625 38.921875 53.515625 30.90625 \r\nL 53.515625 0 \r\nL 44.484375 0 \r\nL 44.484375 32.71875 \r\nQ 44.484375 40.625 41.703125 44.40625 \r\nQ 38.921875 48.1875 33.109375 48.1875 \r\nQ 26.21875 48.1875 22.15625 43.53125 \r\nQ 18.109375 38.875 18.109375 30.90625 \r\nL 18.109375 0 \r\nL 9.078125 0 \r\nL 9.078125 54.6875 \r\nL 18.109375 54.6875 \r\nL 18.109375 46.1875 \r\nQ 21.1875 51.21875 25.484375 53.609375 \r\nQ 29.78125 56 35.6875 56 \r\nQ 41.65625 56 45.828125 52.96875 \r\nQ 50 49.953125 52 44.1875 \r\nz\r\n\" id=\"DejaVuSans-109\"/>\r\n     </defs>\r\n     <use xlink:href=\"#DejaVuSans-82\"/>\r\n     <use x=\"64.982422\" xlink:href=\"#DejaVuSans-101\"/>\r\n     <use x=\"126.505859\" xlink:href=\"#DejaVuSans-115\"/>\r\n     <use x=\"178.605469\" xlink:href=\"#DejaVuSans-117\"/>\r\n     <use x=\"241.984375\" xlink:href=\"#DejaVuSans-108\"/>\r\n     <use x=\"269.767578\" xlink:href=\"#DejaVuSans-116\"/>\r\n     <use x=\"308.976562\" xlink:href=\"#DejaVuSans-115\"/>\r\n     <use x=\"361.076172\" xlink:href=\"#DejaVuSans-32\"/>\r\n     <use x=\"392.863281\" xlink:href=\"#DejaVuSans-117\"/>\r\n     <use x=\"456.242188\" xlink:href=\"#DejaVuSans-115\"/>\r\n     <use x=\"508.341797\" xlink:href=\"#DejaVuSans-105\"/>\r\n     <use x=\"536.125\" xlink:href=\"#DejaVuSans-110\"/>\r\n     <use x=\"599.503906\" xlink:href=\"#DejaVuSans-103\"/>\r\n     <use x=\"662.980469\" xlink:href=\"#DejaVuSans-32\"/>\r\n     <use x=\"694.767578\" xlink:href=\"#DejaVuSans-82\"/>\r\n     <use x=\"759.75\" xlink:href=\"#DejaVuSans-101\"/>\r\n     <use x=\"821.273438\" xlink:href=\"#DejaVuSans-99\"/>\r\n     <use x=\"876.253906\" xlink:href=\"#DejaVuSans-97\"/>\r\n     <use x=\"937.533203\" xlink:href=\"#DejaVuSans-108\"/>\r\n     <use x=\"965.316406\" xlink:href=\"#DejaVuSans-108\"/>\r\n     <use x=\"993.099609\" xlink:href=\"#DejaVuSans-64\"/>\r\n     <use x=\"1093.099609\" xlink:href=\"#DejaVuSans-53\"/>\r\n     <use x=\"1156.722656\" xlink:href=\"#DejaVuSans-32\"/>\r\n     <use x=\"1188.509766\" xlink:href=\"#DejaVuSans-109\"/>\r\n     <use x=\"1285.921875\" xlink:href=\"#DejaVuSans-101\"/>\r\n     <use x=\"1347.445312\" xlink:href=\"#DejaVuSans-116\"/>\r\n     <use x=\"1386.654297\" xlink:href=\"#DejaVuSans-114\"/>\r\n     <use x=\"1427.767578\" xlink:href=\"#DejaVuSans-105\"/>\r\n     <use x=\"1455.550781\" xlink:href=\"#DejaVuSans-99\"/>\r\n    </g>\r\n   </g>\r\n   <g id=\"legend_1\">\r\n    <g id=\"patch_17\">\r\n     <path d=\"M 57.14375 59.674375 \r\nL 156.235938 59.674375 \r\nQ 158.235938 59.674375 158.235938 57.674375 \r\nL 158.235938 29.318125 \r\nQ 158.235938 27.318125 156.235938 27.318125 \r\nL 57.14375 27.318125 \r\nQ 55.14375 27.318125 55.14375 29.318125 \r\nL 55.14375 57.674375 \r\nQ 55.14375 59.674375 57.14375 59.674375 \r\nz\r\n\" style=\"fill:#ffffff;opacity:0.8;stroke:#cccccc;stroke-linejoin:miter;\"/>\r\n    </g>\r\n    <g id=\"patch_18\">\r\n     <path d=\"M 59.14375 38.916562 \r\nL 79.14375 38.916562 \r\nL 79.14375 31.916562 \r\nL 59.14375 31.916562 \r\nz\r\n\" style=\"fill:#0000ff;opacity:0.8;\"/>\r\n    </g>\r\n    <g id=\"text_14\">\r\n     <!-- Index set = 1 -->\r\n     <g transform=\"translate(87.14375 38.916562)scale(0.1 -0.1)\">\r\n      <defs>\r\n       <path d=\"M 45.40625 46.390625 \r\nL 45.40625 75.984375 \r\nL 54.390625 75.984375 \r\nL 54.390625 0 \r\nL 45.40625 0 \r\nL 45.40625 8.203125 \r\nQ 42.578125 3.328125 38.25 0.953125 \r\nQ 33.9375 -1.421875 27.875 -1.421875 \r\nQ 17.96875 -1.421875 11.734375 6.484375 \r\nQ 5.515625 14.40625 5.515625 27.296875 \r\nQ 5.515625 40.1875 11.734375 48.09375 \r\nQ 17.96875 56 27.875 56 \r\nQ 33.9375 56 38.25 53.625 \r\nQ 42.578125 51.265625 45.40625 46.390625 \r\nz\r\nM 14.796875 27.296875 \r\nQ 14.796875 17.390625 18.875 11.75 \r\nQ 22.953125 6.109375 30.078125 6.109375 \r\nQ 37.203125 6.109375 41.296875 11.75 \r\nQ 45.40625 17.390625 45.40625 27.296875 \r\nQ 45.40625 37.203125 41.296875 42.84375 \r\nQ 37.203125 48.484375 30.078125 48.484375 \r\nQ 22.953125 48.484375 18.875 42.84375 \r\nQ 14.796875 37.203125 14.796875 27.296875 \r\nz\r\n\" id=\"DejaVuSans-100\"/>\r\n       <path d=\"M 54.890625 54.6875 \r\nL 35.109375 28.078125 \r\nL 55.90625 0 \r\nL 45.3125 0 \r\nL 29.390625 21.484375 \r\nL 13.484375 0 \r\nL 2.875 0 \r\nL 24.125 28.609375 \r\nL 4.6875 54.6875 \r\nL 15.28125 54.6875 \r\nL 29.78125 35.203125 \r\nL 44.28125 54.6875 \r\nz\r\n\" id=\"DejaVuSans-120\"/>\r\n       <path d=\"M 10.59375 45.40625 \r\nL 73.1875 45.40625 \r\nL 73.1875 37.203125 \r\nL 10.59375 37.203125 \r\nz\r\nM 10.59375 25.484375 \r\nL 73.1875 25.484375 \r\nL 73.1875 17.1875 \r\nL 10.59375 17.1875 \r\nz\r\n\" id=\"DejaVuSans-61\"/>\r\n      </defs>\r\n      <use xlink:href=\"#DejaVuSans-73\"/>\r\n      <use x=\"29.492188\" xlink:href=\"#DejaVuSans-110\"/>\r\n      <use x=\"92.871094\" xlink:href=\"#DejaVuSans-100\"/>\r\n      <use x=\"156.347656\" xlink:href=\"#DejaVuSans-101\"/>\r\n      <use x=\"216.121094\" xlink:href=\"#DejaVuSans-120\"/>\r\n      <use x=\"275.300781\" xlink:href=\"#DejaVuSans-32\"/>\r\n      <use x=\"307.087891\" xlink:href=\"#DejaVuSans-115\"/>\r\n      <use x=\"359.1875\" xlink:href=\"#DejaVuSans-101\"/>\r\n      <use x=\"420.710938\" xlink:href=\"#DejaVuSans-116\"/>\r\n      <use x=\"459.919922\" xlink:href=\"#DejaVuSans-32\"/>\r\n      <use x=\"491.707031\" xlink:href=\"#DejaVuSans-61\"/>\r\n      <use x=\"575.496094\" xlink:href=\"#DejaVuSans-32\"/>\r\n      <use x=\"607.283203\" xlink:href=\"#DejaVuSans-49\"/>\r\n     </g>\r\n    </g>\r\n    <g id=\"patch_19\">\r\n     <path d=\"M 59.14375 53.594687 \r\nL 79.14375 53.594687 \r\nL 79.14375 46.594687 \r\nL 59.14375 46.594687 \r\nz\r\n\" style=\"fill:#008000;opacity:0.8;\"/>\r\n    </g>\r\n    <g id=\"text_15\">\r\n     <!-- Index set = 2 -->\r\n     <g transform=\"translate(87.14375 53.594687)scale(0.1 -0.1)\">\r\n      <use xlink:href=\"#DejaVuSans-73\"/>\r\n      <use x=\"29.492188\" xlink:href=\"#DejaVuSans-110\"/>\r\n      <use x=\"92.871094\" xlink:href=\"#DejaVuSans-100\"/>\r\n      <use x=\"156.347656\" xlink:href=\"#DejaVuSans-101\"/>\r\n      <use x=\"216.121094\" xlink:href=\"#DejaVuSans-120\"/>\r\n      <use x=\"275.300781\" xlink:href=\"#DejaVuSans-32\"/>\r\n      <use x=\"307.087891\" xlink:href=\"#DejaVuSans-115\"/>\r\n      <use x=\"359.1875\" xlink:href=\"#DejaVuSans-101\"/>\r\n      <use x=\"420.710938\" xlink:href=\"#DejaVuSans-116\"/>\r\n      <use x=\"459.919922\" xlink:href=\"#DejaVuSans-32\"/>\r\n      <use x=\"491.707031\" xlink:href=\"#DejaVuSans-61\"/>\r\n      <use x=\"575.496094\" xlink:href=\"#DejaVuSans-32\"/>\r\n      <use x=\"607.283203\" xlink:href=\"#DejaVuSans-50\"/>\r\n     </g>\r\n    </g>\r\n   </g>\r\n  </g>\r\n </g>\r\n <defs>\r\n  <clipPath id=\"p3b5b5b85f9\">\r\n   <rect height=\"219.4\" width=\"367.15\" x=\"50.14375\" y=\"22.318125\"/>\r\n  </clipPath>\r\n </defs>\r\n</svg>\r\n",
      "image/png": "[encoded data removed]"
     },
     "metadata": {
      "needs_background": "light"
     }
    },
    {
     "output_type": "display_data",
     "data": {
      "text/plain": "<Figure size 432x288 with 1 Axes>",
      "image/svg+xml": "<?xml version=\"1.0\" encoding=\"utf-8\" standalone=\"no\"?>\r\n<!DOCTYPE svg PUBLIC \"-//W3C//DTD SVG 1.1//EN\"\r\n  \"http://www.w3.org/Graphics/SVG/1.1/DTD/svg11.dtd\">\r\n<!-- Created with matplotlib (https://matplotlib.org/) -->\r\n<svg height=\"306.069702pt\" version=\"1.1\" viewBox=\"0 0 424.49375 306.069702\" width=\"424.49375pt\" xmlns=\"http://www.w3.org/2000/svg\" xmlns:xlink=\"http://www.w3.org/1999/xlink\">\r\n <metadata>\r\n  <rdf:RDF xmlns:cc=\"http://creativecommons.org/ns#\" xmlns:dc=\"http://purl.org/dc/elements/1.1/\" xmlns:rdf=\"http://www.w3.org/1999/02/22-rdf-syntax-ns#\">\r\n   <cc:Work>\r\n    <dc:type rdf:resource=\"http://purl.org/dc/dcmitype/StillImage\"/>\r\n    <dc:date>2021-02-19T17:36:07.274936</dc:date>\r\n    <dc:format>image/svg+xml</dc:format>\r\n    <dc:creator>\r\n     <cc:Agent>\r\n      <dc:title>Matplotlib v3.3.4, https://matplotlib.org/</dc:title>\r\n     </cc:Agent>\r\n    </dc:creator>\r\n   </cc:Work>\r\n  </rdf:RDF>\r\n </metadata>\r\n <defs>\r\n  <style type=\"text/css\">*{stroke-linecap:butt;stroke-linejoin:round;}</style>\r\n </defs>\r\n <g id=\"figure_1\">\r\n  <g id=\"patch_1\">\r\n   <path d=\"M 0 306.069702 \r\nL 424.49375 306.069702 \r\nL 424.49375 0 \r\nL 0 0 \r\nz\r\n\" style=\"fill:none;\"/>\r\n  </g>\r\n  <g id=\"axes_1\">\r\n   <g id=\"patch_2\">\r\n    <path d=\"M 50.14375 241.718125 \r\nL 417.29375 241.718125 \r\nL 417.29375 22.318125 \r\nL 50.14375 22.318125 \r\nz\r\n\" style=\"fill:#ffffff;\"/>\r\n   </g>\r\n   <g id=\"patch_3\">\r\n    <path clip-path=\"url(#p667173f97a)\" d=\"M 66.832386 241.718125 \r\nL 91.687802 241.718125 \r\nL 91.687802 135.776819 \r\nL 66.832386 135.776819 \r\nz\r\n\" style=\"fill:#0000ff;opacity:0.8;\"/>\r\n   </g>\r\n   <g id=\"patch_4\">\r\n    <path clip-path=\"url(#p667173f97a)\" d=\"M 137.84786 241.718125 \r\nL 162.703276 241.718125 \r\nL 162.703276 106.028672 \r\nL 137.84786 106.028672 \r\nz\r\n\" style=\"fill:#0000ff;opacity:0.8;\"/>\r\n   </g>\r\n   <g id=\"patch_5\">\r\n    <path clip-path=\"url(#p667173f97a)\" d=\"M 208.863334 241.718125 \r\nL 233.71875 241.718125 \r\nL 233.71875 237.109067 \r\nL 208.863334 237.109067 \r\nz\r\n\" style=\"fill:#0000ff;opacity:0.8;\"/>\r\n   </g>\r\n   <g id=\"patch_6\">\r\n    <path clip-path=\"url(#p667173f97a)\" d=\"M 279.878808 241.718125 \r\nL 304.734224 241.718125 \r\nL 304.734224 103.243466 \r\nL 279.878808 103.243466 \r\nz\r\n\" style=\"fill:#0000ff;opacity:0.8;\"/>\r\n   </g>\r\n   <g id=\"patch_7\">\r\n    <path clip-path=\"url(#p667173f97a)\" d=\"M 350.894282 241.718125 \r\nL 375.749698 241.718125 \r\nL 375.749698 47.914287 \r\nL 350.894282 47.914287 \r\nz\r\n\" style=\"fill:#0000ff;opacity:0.8;\"/>\r\n   </g>\r\n   <g id=\"patch_8\">\r\n    <path clip-path=\"url(#p667173f97a)\" d=\"M 91.687802 241.718125 \r\nL 116.543218 241.718125 \r\nL 116.543218 161.057172 \r\nL 91.687802 161.057172 \r\nz\r\n\" style=\"fill:#008000;opacity:0.8;\"/>\r\n   </g>\r\n   <g id=\"patch_9\">\r\n    <path clip-path=\"url(#p667173f97a)\" d=\"M 162.703276 241.718125 \r\nL 187.558692 241.718125 \r\nL 187.558692 95.014121 \r\nL 162.703276 95.014121 \r\nz\r\n\" style=\"fill:#008000;opacity:0.8;\"/>\r\n   </g>\r\n   <g id=\"patch_10\">\r\n    <path clip-path=\"url(#p667173f97a)\" d=\"M 233.71875 241.718125 \r\nL 258.574166 241.718125 \r\nL 258.574166 230.585366 \r\nL 233.71875 230.585366 \r\nz\r\n\" style=\"fill:#008000;opacity:0.8;\"/>\r\n   </g>\r\n   <g id=\"patch_11\">\r\n    <path clip-path=\"url(#p667173f97a)\" d=\"M 304.734224 241.718125 \r\nL 329.58964 241.718125 \r\nL 329.58964 83.56529 \r\nL 304.734224 83.56529 \r\nz\r\n\" style=\"fill:#008000;opacity:0.8;\"/>\r\n   </g>\r\n   <g id=\"patch_12\">\r\n    <path clip-path=\"url(#p667173f97a)\" d=\"M 375.749698 241.718125 \r\nL 400.605114 241.718125 \r\nL 400.605114 32.765744 \r\nL 375.749698 32.765744 \r\nz\r\n\" style=\"fill:#008000;opacity:0.8;\"/>\r\n   </g>\r\n   <g id=\"matplotlib.axis_1\">\r\n    <g id=\"xtick_1\">\r\n     <g id=\"line2d_1\">\r\n      <defs>\r\n       <path d=\"M 0 0 \r\nL 0 3.5 \r\n\" id=\"m7879dddc29\" style=\"stroke:#000000;stroke-width:0.8;\"/>\r\n      </defs>\r\n      <g>\r\n       <use style=\"stroke:#000000;stroke-width:0.8;\" x=\"104.11551\" xlink:href=\"#m7879dddc29\" y=\"241.718125\"/>\r\n      </g>\r\n     </g>\r\n     <g id=\"text_1\">\r\n      <!-- BOW -->\r\n      <g transform=\"translate(97.42396 271.376478)rotate(-45)scale(0.1 -0.1)\">\r\n       <defs>\r\n        <path d=\"M 19.671875 34.8125 \r\nL 19.671875 8.109375 \r\nL 35.5 8.109375 \r\nQ 43.453125 8.109375 47.28125 11.40625 \r\nQ 51.125 14.703125 51.125 21.484375 \r\nQ 51.125 28.328125 47.28125 31.5625 \r\nQ 43.453125 34.8125 35.5 34.8125 \r\nz\r\nM 19.671875 64.796875 \r\nL 19.671875 42.828125 \r\nL 34.28125 42.828125 \r\nQ 41.5 42.828125 45.03125 45.53125 \r\nQ 48.578125 48.25 48.578125 53.8125 \r\nQ 48.578125 59.328125 45.03125 62.0625 \r\nQ 41.5 64.796875 34.28125 64.796875 \r\nz\r\nM 9.8125 72.90625 \r\nL 35.015625 72.90625 \r\nQ 46.296875 72.90625 52.390625 68.21875 \r\nQ 58.5 63.53125 58.5 54.890625 \r\nQ 58.5 48.1875 55.375 44.234375 \r\nQ 52.25 40.28125 46.1875 39.3125 \r\nQ 53.46875 37.75 57.5 32.78125 \r\nQ 61.53125 27.828125 61.53125 20.40625 \r\nQ 61.53125 10.640625 54.890625 5.3125 \r\nQ 48.25 0 35.984375 0 \r\nL 9.8125 0 \r\nz\r\n\" id=\"DejaVuSans-66\"/>\r\n        <path d=\"M 39.40625 66.21875 \r\nQ 28.65625 66.21875 22.328125 58.203125 \r\nQ 16.015625 50.203125 16.015625 36.375 \r\nQ 16.015625 22.609375 22.328125 14.59375 \r\nQ 28.65625 6.59375 39.40625 6.59375 \r\nQ 50.140625 6.59375 56.421875 14.59375 \r\nQ 62.703125 22.609375 62.703125 36.375 \r\nQ 62.703125 50.203125 56.421875 58.203125 \r\nQ 50.140625 66.21875 39.40625 66.21875 \r\nz\r\nM 39.40625 74.21875 \r\nQ 54.734375 74.21875 63.90625 63.9375 \r\nQ 73.09375 53.65625 73.09375 36.375 \r\nQ 73.09375 19.140625 63.90625 8.859375 \r\nQ 54.734375 -1.421875 39.40625 -1.421875 \r\nQ 24.03125 -1.421875 14.8125 8.828125 \r\nQ 5.609375 19.09375 5.609375 36.375 \r\nQ 5.609375 53.65625 14.8125 63.9375 \r\nQ 24.03125 74.21875 39.40625 74.21875 \r\nz\r\n\" id=\"DejaVuSans-79\"/>\r\n        <path d=\"M 3.328125 72.90625 \r\nL 13.28125 72.90625 \r\nL 28.609375 11.28125 \r\nL 43.890625 72.90625 \r\nL 54.984375 72.90625 \r\nL 70.3125 11.28125 \r\nL 85.59375 72.90625 \r\nL 95.609375 72.90625 \r\nL 77.296875 0 \r\nL 64.890625 0 \r\nL 49.515625 63.28125 \r\nL 33.984375 0 \r\nL 21.578125 0 \r\nz\r\n\" id=\"DejaVuSans-87\"/>\r\n       </defs>\r\n       <use xlink:href=\"#DejaVuSans-66\"/>\r\n       <use x=\"66.853516\" xlink:href=\"#DejaVuSans-79\"/>\r\n       <use x=\"145.564453\" xlink:href=\"#DejaVuSans-87\"/>\r\n      </g>\r\n     </g>\r\n    </g>\r\n    <g id=\"xtick_2\">\r\n     <g id=\"line2d_2\">\r\n      <g>\r\n       <use style=\"stroke:#000000;stroke-width:0.8;\" x=\"175.130984\" xlink:href=\"#m7879dddc29\" y=\"241.718125\"/>\r\n      </g>\r\n     </g>\r\n     <g id=\"text_2\">\r\n      <!-- TF-IDF -->\r\n      <g transform=\"translate(165.814852 276.625641)rotate(-45)scale(0.1 -0.1)\">\r\n       <defs>\r\n        <path d=\"M -0.296875 72.90625 \r\nL 61.375 72.90625 \r\nL 61.375 64.59375 \r\nL 35.5 64.59375 \r\nL 35.5 0 \r\nL 25.59375 0 \r\nL 25.59375 64.59375 \r\nL -0.296875 64.59375 \r\nz\r\n\" id=\"DejaVuSans-84\"/>\r\n        <path d=\"M 9.8125 72.90625 \r\nL 51.703125 72.90625 \r\nL 51.703125 64.59375 \r\nL 19.671875 64.59375 \r\nL 19.671875 43.109375 \r\nL 48.578125 43.109375 \r\nL 48.578125 34.8125 \r\nL 19.671875 34.8125 \r\nL 19.671875 0 \r\nL 9.8125 0 \r\nz\r\n\" id=\"DejaVuSans-70\"/>\r\n        <path d=\"M 4.890625 31.390625 \r\nL 31.203125 31.390625 \r\nL 31.203125 23.390625 \r\nL 4.890625 23.390625 \r\nz\r\n\" id=\"DejaVuSans-45\"/>\r\n        <path d=\"M 9.8125 72.90625 \r\nL 19.671875 72.90625 \r\nL 19.671875 0 \r\nL 9.8125 0 \r\nz\r\n\" id=\"DejaVuSans-73\"/>\r\n        <path d=\"M 19.671875 64.796875 \r\nL 19.671875 8.109375 \r\nL 31.59375 8.109375 \r\nQ 46.6875 8.109375 53.6875 14.9375 \r\nQ 60.6875 21.78125 60.6875 36.53125 \r\nQ 60.6875 51.171875 53.6875 57.984375 \r\nQ 46.6875 64.796875 31.59375 64.796875 \r\nz\r\nM 9.8125 72.90625 \r\nL 30.078125 72.90625 \r\nQ 51.265625 72.90625 61.171875 64.09375 \r\nQ 71.09375 55.28125 71.09375 36.53125 \r\nQ 71.09375 17.671875 61.125 8.828125 \r\nQ 51.171875 0 30.078125 0 \r\nL 9.8125 0 \r\nz\r\n\" id=\"DejaVuSans-68\"/>\r\n       </defs>\r\n       <use xlink:href=\"#DejaVuSans-84\"/>\r\n       <use x=\"61.083984\" xlink:href=\"#DejaVuSans-70\"/>\r\n       <use x=\"118.603516\" xlink:href=\"#DejaVuSans-45\"/>\r\n       <use x=\"154.6875\" xlink:href=\"#DejaVuSans-73\"/>\r\n       <use x=\"184.179688\" xlink:href=\"#DejaVuSans-68\"/>\r\n       <use x=\"261.181641\" xlink:href=\"#DejaVuSans-70\"/>\r\n      </g>\r\n     </g>\r\n    </g>\r\n    <g id=\"xtick_3\">\r\n     <g id=\"line2d_3\">\r\n      <g>\r\n       <use style=\"stroke:#000000;stroke-width:0.8;\" x=\"246.146458\" xlink:href=\"#m7879dddc29\" y=\"241.718125\"/>\r\n      </g>\r\n     </g>\r\n     <g id=\"text_3\">\r\n      <!-- NaiveQL -->\r\n      <g transform=\"translate(233.282639 283.721016)rotate(-45)scale(0.1 -0.1)\">\r\n       <defs>\r\n        <path d=\"M 9.8125 72.90625 \r\nL 23.09375 72.90625 \r\nL 55.421875 11.921875 \r\nL 55.421875 72.90625 \r\nL 64.984375 72.90625 \r\nL 64.984375 0 \r\nL 51.703125 0 \r\nL 19.390625 60.984375 \r\nL 19.390625 0 \r\nL 9.8125 0 \r\nz\r\n\" id=\"DejaVuSans-78\"/>\r\n        <path d=\"M 34.28125 27.484375 \r\nQ 23.390625 27.484375 19.1875 25 \r\nQ 14.984375 22.515625 14.984375 16.5 \r\nQ 14.984375 11.71875 18.140625 8.90625 \r\nQ 21.296875 6.109375 26.703125 6.109375 \r\nQ 34.1875 6.109375 38.703125 11.40625 \r\nQ 43.21875 16.703125 43.21875 25.484375 \r\nL 43.21875 27.484375 \r\nz\r\nM 52.203125 31.203125 \r\nL 52.203125 0 \r\nL 43.21875 0 \r\nL 43.21875 8.296875 \r\nQ 40.140625 3.328125 35.546875 0.953125 \r\nQ 30.953125 -1.421875 24.3125 -1.421875 \r\nQ 15.921875 -1.421875 10.953125 3.296875 \r\nQ 6 8.015625 6 15.921875 \r\nQ 6 25.140625 12.171875 29.828125 \r\nQ 18.359375 34.515625 30.609375 34.515625 \r\nL 43.21875 34.515625 \r\nL 43.21875 35.40625 \r\nQ 43.21875 41.609375 39.140625 45 \r\nQ 35.0625 48.390625 27.6875 48.390625 \r\nQ 23 48.390625 18.546875 47.265625 \r\nQ 14.109375 46.140625 10.015625 43.890625 \r\nL 10.015625 52.203125 \r\nQ 14.9375 54.109375 19.578125 55.046875 \r\nQ 24.21875 56 28.609375 56 \r\nQ 40.484375 56 46.34375 49.84375 \r\nQ 52.203125 43.703125 52.203125 31.203125 \r\nz\r\n\" id=\"DejaVuSans-97\"/>\r\n        <path d=\"M 9.421875 54.6875 \r\nL 18.40625 54.6875 \r\nL 18.40625 0 \r\nL 9.421875 0 \r\nz\r\nM 9.421875 75.984375 \r\nL 18.40625 75.984375 \r\nL 18.40625 64.59375 \r\nL 9.421875 64.59375 \r\nz\r\n\" id=\"DejaVuSans-105\"/>\r\n        <path d=\"M 2.984375 54.6875 \r\nL 12.5 54.6875 \r\nL 29.59375 8.796875 \r\nL 46.6875 54.6875 \r\nL 56.203125 54.6875 \r\nL 35.6875 0 \r\nL 23.484375 0 \r\nz\r\n\" id=\"DejaVuSans-118\"/>\r\n        <path d=\"M 56.203125 29.59375 \r\nL 56.203125 25.203125 \r\nL 14.890625 25.203125 \r\nQ 15.484375 15.921875 20.484375 11.0625 \r\nQ 25.484375 6.203125 34.421875 6.203125 \r\nQ 39.59375 6.203125 44.453125 7.46875 \r\nQ 49.3125 8.734375 54.109375 11.28125 \r\nL 54.109375 2.78125 \r\nQ 49.265625 0.734375 44.1875 -0.34375 \r\nQ 39.109375 -1.421875 33.890625 -1.421875 \r\nQ 20.796875 -1.421875 13.15625 6.1875 \r\nQ 5.515625 13.8125 5.515625 26.8125 \r\nQ 5.515625 40.234375 12.765625 48.109375 \r\nQ 20.015625 56 32.328125 56 \r\nQ 43.359375 56 49.78125 48.890625 \r\nQ 56.203125 41.796875 56.203125 29.59375 \r\nz\r\nM 47.21875 32.234375 \r\nQ 47.125 39.59375 43.09375 43.984375 \r\nQ 39.0625 48.390625 32.421875 48.390625 \r\nQ 24.90625 48.390625 20.390625 44.140625 \r\nQ 15.875 39.890625 15.1875 32.171875 \r\nz\r\n\" id=\"DejaVuSans-101\"/>\r\n        <path d=\"M 39.40625 66.21875 \r\nQ 28.65625 66.21875 22.328125 58.203125 \r\nQ 16.015625 50.203125 16.015625 36.375 \r\nQ 16.015625 22.609375 22.328125 14.59375 \r\nQ 28.65625 6.59375 39.40625 6.59375 \r\nQ 50.140625 6.59375 56.421875 14.59375 \r\nQ 62.703125 22.609375 62.703125 36.375 \r\nQ 62.703125 50.203125 56.421875 58.203125 \r\nQ 50.140625 66.21875 39.40625 66.21875 \r\nz\r\nM 53.21875 1.3125 \r\nL 66.21875 -12.890625 \r\nL 54.296875 -12.890625 \r\nL 43.5 -1.21875 \r\nQ 41.890625 -1.3125 41.03125 -1.359375 \r\nQ 40.1875 -1.421875 39.40625 -1.421875 \r\nQ 24.03125 -1.421875 14.8125 8.859375 \r\nQ 5.609375 19.140625 5.609375 36.375 \r\nQ 5.609375 53.65625 14.8125 63.9375 \r\nQ 24.03125 74.21875 39.40625 74.21875 \r\nQ 54.734375 74.21875 63.90625 63.9375 \r\nQ 73.09375 53.65625 73.09375 36.375 \r\nQ 73.09375 23.6875 67.984375 14.640625 \r\nQ 62.890625 5.609375 53.21875 1.3125 \r\nz\r\n\" id=\"DejaVuSans-81\"/>\r\n        <path d=\"M 9.8125 72.90625 \r\nL 19.671875 72.90625 \r\nL 19.671875 8.296875 \r\nL 55.171875 8.296875 \r\nL 55.171875 0 \r\nL 9.8125 0 \r\nz\r\n\" id=\"DejaVuSans-76\"/>\r\n       </defs>\r\n       <use xlink:href=\"#DejaVuSans-78\"/>\r\n       <use x=\"74.804688\" xlink:href=\"#DejaVuSans-97\"/>\r\n       <use x=\"136.083984\" xlink:href=\"#DejaVuSans-105\"/>\r\n       <use x=\"163.867188\" xlink:href=\"#DejaVuSans-118\"/>\r\n       <use x=\"223.046875\" xlink:href=\"#DejaVuSans-101\"/>\r\n       <use x=\"284.570312\" xlink:href=\"#DejaVuSans-81\"/>\r\n       <use x=\"363.28125\" xlink:href=\"#DejaVuSans-76\"/>\r\n      </g>\r\n     </g>\r\n    </g>\r\n    <g id=\"xtick_4\">\r\n     <g id=\"line2d_4\">\r\n      <g>\r\n       <use style=\"stroke:#000000;stroke-width:0.8;\" x=\"317.161932\" xlink:href=\"#m7879dddc29\" y=\"241.718125\"/>\r\n      </g>\r\n     </g>\r\n     <g id=\"text_4\">\r\n      <!-- QL -->\r\n      <g transform=\"translate(314.360021 263.597198)rotate(-45)scale(0.1 -0.1)\">\r\n       <use xlink:href=\"#DejaVuSans-81\"/>\r\n       <use x=\"78.710938\" xlink:href=\"#DejaVuSans-76\"/>\r\n      </g>\r\n     </g>\r\n    </g>\r\n    <g id=\"xtick_5\">\r\n     <g id=\"line2d_5\">\r\n      <g>\r\n       <use style=\"stroke:#000000;stroke-width:0.8;\" x=\"388.177406\" xlink:href=\"#m7879dddc29\" y=\"241.718125\"/>\r\n      </g>\r\n     </g>\r\n     <g id=\"text_5\">\r\n      <!-- BM25 -->\r\n      <g transform=\"translate(380.153401 274.041387)rotate(-45)scale(0.1 -0.1)\">\r\n       <defs>\r\n        <path d=\"M 9.8125 72.90625 \r\nL 24.515625 72.90625 \r\nL 43.109375 23.296875 \r\nL 61.8125 72.90625 \r\nL 76.515625 72.90625 \r\nL 76.515625 0 \r\nL 66.890625 0 \r\nL 66.890625 64.015625 \r\nL 48.09375 14.015625 \r\nL 38.1875 14.015625 \r\nL 19.390625 64.015625 \r\nL 19.390625 0 \r\nL 9.8125 0 \r\nz\r\n\" id=\"DejaVuSans-77\"/>\r\n        <path d=\"M 19.1875 8.296875 \r\nL 53.609375 8.296875 \r\nL 53.609375 0 \r\nL 7.328125 0 \r\nL 7.328125 8.296875 \r\nQ 12.9375 14.109375 22.625 23.890625 \r\nQ 32.328125 33.6875 34.8125 36.53125 \r\nQ 39.546875 41.84375 41.421875 45.53125 \r\nQ 43.3125 49.21875 43.3125 52.78125 \r\nQ 43.3125 58.59375 39.234375 62.25 \r\nQ 35.15625 65.921875 28.609375 65.921875 \r\nQ 23.96875 65.921875 18.8125 64.3125 \r\nQ 13.671875 62.703125 7.8125 59.421875 \r\nL 7.8125 69.390625 \r\nQ 13.765625 71.78125 18.9375 73 \r\nQ 24.125 74.21875 28.421875 74.21875 \r\nQ 39.75 74.21875 46.484375 68.546875 \r\nQ 53.21875 62.890625 53.21875 53.421875 \r\nQ 53.21875 48.921875 51.53125 44.890625 \r\nQ 49.859375 40.875 45.40625 35.40625 \r\nQ 44.1875 33.984375 37.640625 27.21875 \r\nQ 31.109375 20.453125 19.1875 8.296875 \r\nz\r\n\" id=\"DejaVuSans-50\"/>\r\n        <path d=\"M 10.796875 72.90625 \r\nL 49.515625 72.90625 \r\nL 49.515625 64.59375 \r\nL 19.828125 64.59375 \r\nL 19.828125 46.734375 \r\nQ 21.96875 47.46875 24.109375 47.828125 \r\nQ 26.265625 48.1875 28.421875 48.1875 \r\nQ 40.625 48.1875 47.75 41.5 \r\nQ 54.890625 34.8125 54.890625 23.390625 \r\nQ 54.890625 11.625 47.5625 5.09375 \r\nQ 40.234375 -1.421875 26.90625 -1.421875 \r\nQ 22.3125 -1.421875 17.546875 -0.640625 \r\nQ 12.796875 0.140625 7.71875 1.703125 \r\nL 7.71875 11.625 \r\nQ 12.109375 9.234375 16.796875 8.0625 \r\nQ 21.484375 6.890625 26.703125 6.890625 \r\nQ 35.15625 6.890625 40.078125 11.328125 \r\nQ 45.015625 15.765625 45.015625 23.390625 \r\nQ 45.015625 31 40.078125 35.4375 \r\nQ 35.15625 39.890625 26.703125 39.890625 \r\nQ 22.75 39.890625 18.8125 39.015625 \r\nQ 14.890625 38.140625 10.796875 36.28125 \r\nz\r\n\" id=\"DejaVuSans-53\"/>\r\n       </defs>\r\n       <use xlink:href=\"#DejaVuSans-66\"/>\r\n       <use x=\"68.603516\" xlink:href=\"#DejaVuSans-77\"/>\r\n       <use x=\"154.882812\" xlink:href=\"#DejaVuSans-50\"/>\r\n       <use x=\"218.505859\" xlink:href=\"#DejaVuSans-53\"/>\r\n      </g>\r\n     </g>\r\n    </g>\r\n    <g id=\"text_6\">\r\n     <!-- Search functions -->\r\n     <g transform=\"translate(191.925 296.790014)scale(0.1 -0.1)\">\r\n      <defs>\r\n       <path d=\"M 53.515625 70.515625 \r\nL 53.515625 60.890625 \r\nQ 47.90625 63.578125 42.921875 64.890625 \r\nQ 37.9375 66.21875 33.296875 66.21875 \r\nQ 25.25 66.21875 20.875 63.09375 \r\nQ 16.5 59.96875 16.5 54.203125 \r\nQ 16.5 49.359375 19.40625 46.890625 \r\nQ 22.3125 44.4375 30.421875 42.921875 \r\nL 36.375 41.703125 \r\nQ 47.40625 39.59375 52.65625 34.296875 \r\nQ 57.90625 29 57.90625 20.125 \r\nQ 57.90625 9.515625 50.796875 4.046875 \r\nQ 43.703125 -1.421875 29.984375 -1.421875 \r\nQ 24.8125 -1.421875 18.96875 -0.25 \r\nQ 13.140625 0.921875 6.890625 3.21875 \r\nL 6.890625 13.375 \r\nQ 12.890625 10.015625 18.65625 8.296875 \r\nQ 24.421875 6.59375 29.984375 6.59375 \r\nQ 38.421875 6.59375 43.015625 9.90625 \r\nQ 47.609375 13.234375 47.609375 19.390625 \r\nQ 47.609375 24.75 44.3125 27.78125 \r\nQ 41.015625 30.8125 33.5 32.328125 \r\nL 27.484375 33.5 \r\nQ 16.453125 35.6875 11.515625 40.375 \r\nQ 6.59375 45.0625 6.59375 53.421875 \r\nQ 6.59375 63.09375 13.40625 68.65625 \r\nQ 20.21875 74.21875 32.171875 74.21875 \r\nQ 37.3125 74.21875 42.625 73.28125 \r\nQ 47.953125 72.359375 53.515625 70.515625 \r\nz\r\n\" id=\"DejaVuSans-83\"/>\r\n       <path d=\"M 41.109375 46.296875 \r\nQ 39.59375 47.171875 37.8125 47.578125 \r\nQ 36.03125 48 33.890625 48 \r\nQ 26.265625 48 22.1875 43.046875 \r\nQ 18.109375 38.09375 18.109375 28.8125 \r\nL 18.109375 0 \r\nL 9.078125 0 \r\nL 9.078125 54.6875 \r\nL 18.109375 54.6875 \r\nL 18.109375 46.1875 \r\nQ 20.953125 51.171875 25.484375 53.578125 \r\nQ 30.03125 56 36.53125 56 \r\nQ 37.453125 56 38.578125 55.875 \r\nQ 39.703125 55.765625 41.0625 55.515625 \r\nz\r\n\" id=\"DejaVuSans-114\"/>\r\n       <path d=\"M 48.78125 52.59375 \r\nL 48.78125 44.1875 \r\nQ 44.96875 46.296875 41.140625 47.34375 \r\nQ 37.3125 48.390625 33.40625 48.390625 \r\nQ 24.65625 48.390625 19.8125 42.84375 \r\nQ 14.984375 37.3125 14.984375 27.296875 \r\nQ 14.984375 17.28125 19.8125 11.734375 \r\nQ 24.65625 6.203125 33.40625 6.203125 \r\nQ 37.3125 6.203125 41.140625 7.25 \r\nQ 44.96875 8.296875 48.78125 10.40625 \r\nL 48.78125 2.09375 \r\nQ 45.015625 0.34375 40.984375 -0.53125 \r\nQ 36.96875 -1.421875 32.421875 -1.421875 \r\nQ 20.0625 -1.421875 12.78125 6.34375 \r\nQ 5.515625 14.109375 5.515625 27.296875 \r\nQ 5.515625 40.671875 12.859375 48.328125 \r\nQ 20.21875 56 33.015625 56 \r\nQ 37.15625 56 41.109375 55.140625 \r\nQ 45.0625 54.296875 48.78125 52.59375 \r\nz\r\n\" id=\"DejaVuSans-99\"/>\r\n       <path d=\"M 54.890625 33.015625 \r\nL 54.890625 0 \r\nL 45.90625 0 \r\nL 45.90625 32.71875 \r\nQ 45.90625 40.484375 42.875 44.328125 \r\nQ 39.84375 48.1875 33.796875 48.1875 \r\nQ 26.515625 48.1875 22.3125 43.546875 \r\nQ 18.109375 38.921875 18.109375 30.90625 \r\nL 18.109375 0 \r\nL 9.078125 0 \r\nL 9.078125 75.984375 \r\nL 18.109375 75.984375 \r\nL 18.109375 46.1875 \r\nQ 21.34375 51.125 25.703125 53.5625 \r\nQ 30.078125 56 35.796875 56 \r\nQ 45.21875 56 50.046875 50.171875 \r\nQ 54.890625 44.34375 54.890625 33.015625 \r\nz\r\n\" id=\"DejaVuSans-104\"/>\r\n       <path id=\"DejaVuSans-32\"/>\r\n       <path d=\"M 37.109375 75.984375 \r\nL 37.109375 68.5 \r\nL 28.515625 68.5 \r\nQ 23.6875 68.5 21.796875 66.546875 \r\nQ 19.921875 64.59375 19.921875 59.515625 \r\nL 19.921875 54.6875 \r\nL 34.71875 54.6875 \r\nL 34.71875 47.703125 \r\nL 19.921875 47.703125 \r\nL 19.921875 0 \r\nL 10.890625 0 \r\nL 10.890625 47.703125 \r\nL 2.296875 47.703125 \r\nL 2.296875 54.6875 \r\nL 10.890625 54.6875 \r\nL 10.890625 58.5 \r\nQ 10.890625 67.625 15.140625 71.796875 \r\nQ 19.390625 75.984375 28.609375 75.984375 \r\nz\r\n\" id=\"DejaVuSans-102\"/>\r\n       <path d=\"M 8.5 21.578125 \r\nL 8.5 54.6875 \r\nL 17.484375 54.6875 \r\nL 17.484375 21.921875 \r\nQ 17.484375 14.15625 20.5 10.265625 \r\nQ 23.53125 6.390625 29.59375 6.390625 \r\nQ 36.859375 6.390625 41.078125 11.03125 \r\nQ 45.3125 15.671875 45.3125 23.6875 \r\nL 45.3125 54.6875 \r\nL 54.296875 54.6875 \r\nL 54.296875 0 \r\nL 45.3125 0 \r\nL 45.3125 8.40625 \r\nQ 42.046875 3.421875 37.71875 1 \r\nQ 33.40625 -1.421875 27.6875 -1.421875 \r\nQ 18.265625 -1.421875 13.375 4.4375 \r\nQ 8.5 10.296875 8.5 21.578125 \r\nz\r\nM 31.109375 56 \r\nz\r\n\" id=\"DejaVuSans-117\"/>\r\n       <path d=\"M 54.890625 33.015625 \r\nL 54.890625 0 \r\nL 45.90625 0 \r\nL 45.90625 32.71875 \r\nQ 45.90625 40.484375 42.875 44.328125 \r\nQ 39.84375 48.1875 33.796875 48.1875 \r\nQ 26.515625 48.1875 22.3125 43.546875 \r\nQ 18.109375 38.921875 18.109375 30.90625 \r\nL 18.109375 0 \r\nL 9.078125 0 \r\nL 9.078125 54.6875 \r\nL 18.109375 54.6875 \r\nL 18.109375 46.1875 \r\nQ 21.34375 51.125 25.703125 53.5625 \r\nQ 30.078125 56 35.796875 56 \r\nQ 45.21875 56 50.046875 50.171875 \r\nQ 54.890625 44.34375 54.890625 33.015625 \r\nz\r\n\" id=\"DejaVuSans-110\"/>\r\n       <path d=\"M 18.3125 70.21875 \r\nL 18.3125 54.6875 \r\nL 36.8125 54.6875 \r\nL 36.8125 47.703125 \r\nL 18.3125 47.703125 \r\nL 18.3125 18.015625 \r\nQ 18.3125 11.328125 20.140625 9.421875 \r\nQ 21.96875 7.515625 27.59375 7.515625 \r\nL 36.8125 7.515625 \r\nL 36.8125 0 \r\nL 27.59375 0 \r\nQ 17.1875 0 13.234375 3.875 \r\nQ 9.28125 7.765625 9.28125 18.015625 \r\nL 9.28125 47.703125 \r\nL 2.6875 47.703125 \r\nL 2.6875 54.6875 \r\nL 9.28125 54.6875 \r\nL 9.28125 70.21875 \r\nz\r\n\" id=\"DejaVuSans-116\"/>\r\n       <path d=\"M 30.609375 48.390625 \r\nQ 23.390625 48.390625 19.1875 42.75 \r\nQ 14.984375 37.109375 14.984375 27.296875 \r\nQ 14.984375 17.484375 19.15625 11.84375 \r\nQ 23.34375 6.203125 30.609375 6.203125 \r\nQ 37.796875 6.203125 41.984375 11.859375 \r\nQ 46.1875 17.53125 46.1875 27.296875 \r\nQ 46.1875 37.015625 41.984375 42.703125 \r\nQ 37.796875 48.390625 30.609375 48.390625 \r\nz\r\nM 30.609375 56 \r\nQ 42.328125 56 49.015625 48.375 \r\nQ 55.71875 40.765625 55.71875 27.296875 \r\nQ 55.71875 13.875 49.015625 6.21875 \r\nQ 42.328125 -1.421875 30.609375 -1.421875 \r\nQ 18.84375 -1.421875 12.171875 6.21875 \r\nQ 5.515625 13.875 5.515625 27.296875 \r\nQ 5.515625 40.765625 12.171875 48.375 \r\nQ 18.84375 56 30.609375 56 \r\nz\r\n\" id=\"DejaVuSans-111\"/>\r\n       <path d=\"M 44.28125 53.078125 \r\nL 44.28125 44.578125 \r\nQ 40.484375 46.53125 36.375 47.5 \r\nQ 32.28125 48.484375 27.875 48.484375 \r\nQ 21.1875 48.484375 17.84375 46.4375 \r\nQ 14.5 44.390625 14.5 40.28125 \r\nQ 14.5 37.15625 16.890625 35.375 \r\nQ 19.28125 33.59375 26.515625 31.984375 \r\nL 29.59375 31.296875 \r\nQ 39.15625 29.25 43.1875 25.515625 \r\nQ 47.21875 21.78125 47.21875 15.09375 \r\nQ 47.21875 7.46875 41.1875 3.015625 \r\nQ 35.15625 -1.421875 24.609375 -1.421875 \r\nQ 20.21875 -1.421875 15.453125 -0.5625 \r\nQ 10.6875 0.296875 5.421875 2 \r\nL 5.421875 11.28125 \r\nQ 10.40625 8.6875 15.234375 7.390625 \r\nQ 20.0625 6.109375 24.8125 6.109375 \r\nQ 31.15625 6.109375 34.5625 8.28125 \r\nQ 37.984375 10.453125 37.984375 14.40625 \r\nQ 37.984375 18.0625 35.515625 20.015625 \r\nQ 33.0625 21.96875 24.703125 23.78125 \r\nL 21.578125 24.515625 \r\nQ 13.234375 26.265625 9.515625 29.90625 \r\nQ 5.8125 33.546875 5.8125 39.890625 \r\nQ 5.8125 47.609375 11.28125 51.796875 \r\nQ 16.75 56 26.8125 56 \r\nQ 31.78125 56 36.171875 55.265625 \r\nQ 40.578125 54.546875 44.28125 53.078125 \r\nz\r\n\" id=\"DejaVuSans-115\"/>\r\n      </defs>\r\n      <use xlink:href=\"#DejaVuSans-83\"/>\r\n      <use x=\"63.476562\" xlink:href=\"#DejaVuSans-101\"/>\r\n      <use x=\"125\" xlink:href=\"#DejaVuSans-97\"/>\r\n      <use x=\"186.279297\" xlink:href=\"#DejaVuSans-114\"/>\r\n      <use x=\"225.142578\" xlink:href=\"#DejaVuSans-99\"/>\r\n      <use x=\"280.123047\" xlink:href=\"#DejaVuSans-104\"/>\r\n      <use x=\"343.501953\" xlink:href=\"#DejaVuSans-32\"/>\r\n      <use x=\"375.289062\" xlink:href=\"#DejaVuSans-102\"/>\r\n      <use x=\"410.494141\" xlink:href=\"#DejaVuSans-117\"/>\r\n      <use x=\"473.873047\" xlink:href=\"#DejaVuSans-110\"/>\r\n      <use x=\"537.251953\" xlink:href=\"#DejaVuSans-99\"/>\r\n      <use x=\"592.232422\" xlink:href=\"#DejaVuSans-116\"/>\r\n      <use x=\"631.441406\" xlink:href=\"#DejaVuSans-105\"/>\r\n      <use x=\"659.224609\" xlink:href=\"#DejaVuSans-111\"/>\r\n      <use x=\"720.40625\" xlink:href=\"#DejaVuSans-110\"/>\r\n      <use x=\"783.785156\" xlink:href=\"#DejaVuSans-115\"/>\r\n     </g>\r\n    </g>\r\n   </g>\r\n   <g id=\"matplotlib.axis_2\">\r\n    <g id=\"ytick_1\">\r\n     <g id=\"line2d_6\">\r\n      <defs>\r\n       <path d=\"M 0 0 \r\nL -3.5 0 \r\n\" id=\"md2546ee435\" style=\"stroke:#000000;stroke-width:0.8;\"/>\r\n      </defs>\r\n      <g>\r\n       <use style=\"stroke:#000000;stroke-width:0.8;\" x=\"50.14375\" xlink:href=\"#md2546ee435\" y=\"241.718125\"/>\r\n      </g>\r\n     </g>\r\n     <g id=\"text_7\">\r\n      <!-- 0.00 -->\r\n      <g transform=\"translate(20.878125 245.517344)scale(0.1 -0.1)\">\r\n       <defs>\r\n        <path d=\"M 31.78125 66.40625 \r\nQ 24.171875 66.40625 20.328125 58.90625 \r\nQ 16.5 51.421875 16.5 36.375 \r\nQ 16.5 21.390625 20.328125 13.890625 \r\nQ 24.171875 6.390625 31.78125 6.390625 \r\nQ 39.453125 6.390625 43.28125 13.890625 \r\nQ 47.125 21.390625 47.125 36.375 \r\nQ 47.125 51.421875 43.28125 58.90625 \r\nQ 39.453125 66.40625 31.78125 66.40625 \r\nz\r\nM 31.78125 74.21875 \r\nQ 44.046875 74.21875 50.515625 64.515625 \r\nQ 56.984375 54.828125 56.984375 36.375 \r\nQ 56.984375 17.96875 50.515625 8.265625 \r\nQ 44.046875 -1.421875 31.78125 -1.421875 \r\nQ 19.53125 -1.421875 13.0625 8.265625 \r\nQ 6.59375 17.96875 6.59375 36.375 \r\nQ 6.59375 54.828125 13.0625 64.515625 \r\nQ 19.53125 74.21875 31.78125 74.21875 \r\nz\r\n\" id=\"DejaVuSans-48\"/>\r\n        <path d=\"M 10.6875 12.40625 \r\nL 21 12.40625 \r\nL 21 0 \r\nL 10.6875 0 \r\nz\r\n\" id=\"DejaVuSans-46\"/>\r\n       </defs>\r\n       <use xlink:href=\"#DejaVuSans-48\"/>\r\n       <use x=\"63.623047\" xlink:href=\"#DejaVuSans-46\"/>\r\n       <use x=\"95.410156\" xlink:href=\"#DejaVuSans-48\"/>\r\n       <use x=\"159.033203\" xlink:href=\"#DejaVuSans-48\"/>\r\n      </g>\r\n     </g>\r\n    </g>\r\n    <g id=\"ytick_2\">\r\n     <g id=\"line2d_7\">\r\n      <g>\r\n       <use style=\"stroke:#000000;stroke-width:0.8;\" x=\"50.14375\" xlink:href=\"#md2546ee435\" y=\"207.945963\"/>\r\n      </g>\r\n     </g>\r\n     <g id=\"text_8\">\r\n      <!-- 0.05 -->\r\n      <g transform=\"translate(20.878125 211.745182)scale(0.1 -0.1)\">\r\n       <use xlink:href=\"#DejaVuSans-48\"/>\r\n       <use x=\"63.623047\" xlink:href=\"#DejaVuSans-46\"/>\r\n       <use x=\"95.410156\" xlink:href=\"#DejaVuSans-48\"/>\r\n       <use x=\"159.033203\" xlink:href=\"#DejaVuSans-53\"/>\r\n      </g>\r\n     </g>\r\n    </g>\r\n    <g id=\"ytick_3\">\r\n     <g id=\"line2d_8\">\r\n      <g>\r\n       <use style=\"stroke:#000000;stroke-width:0.8;\" x=\"50.14375\" xlink:href=\"#md2546ee435\" y=\"174.173801\"/>\r\n      </g>\r\n     </g>\r\n     <g id=\"text_9\">\r\n      <!-- 0.10 -->\r\n      <g transform=\"translate(20.878125 177.97302)scale(0.1 -0.1)\">\r\n       <defs>\r\n        <path d=\"M 12.40625 8.296875 \r\nL 28.515625 8.296875 \r\nL 28.515625 63.921875 \r\nL 10.984375 60.40625 \r\nL 10.984375 69.390625 \r\nL 28.421875 72.90625 \r\nL 38.28125 72.90625 \r\nL 38.28125 8.296875 \r\nL 54.390625 8.296875 \r\nL 54.390625 0 \r\nL 12.40625 0 \r\nz\r\n\" id=\"DejaVuSans-49\"/>\r\n       </defs>\r\n       <use xlink:href=\"#DejaVuSans-48\"/>\r\n       <use x=\"63.623047\" xlink:href=\"#DejaVuSans-46\"/>\r\n       <use x=\"95.410156\" xlink:href=\"#DejaVuSans-49\"/>\r\n       <use x=\"159.033203\" xlink:href=\"#DejaVuSans-48\"/>\r\n      </g>\r\n     </g>\r\n    </g>\r\n    <g id=\"ytick_4\">\r\n     <g id=\"line2d_9\">\r\n      <g>\r\n       <use style=\"stroke:#000000;stroke-width:0.8;\" x=\"50.14375\" xlink:href=\"#md2546ee435\" y=\"140.401639\"/>\r\n      </g>\r\n     </g>\r\n     <g id=\"text_10\">\r\n      <!-- 0.15 -->\r\n      <g transform=\"translate(20.878125 144.200858)scale(0.1 -0.1)\">\r\n       <use xlink:href=\"#DejaVuSans-48\"/>\r\n       <use x=\"63.623047\" xlink:href=\"#DejaVuSans-46\"/>\r\n       <use x=\"95.410156\" xlink:href=\"#DejaVuSans-49\"/>\r\n       <use x=\"159.033203\" xlink:href=\"#DejaVuSans-53\"/>\r\n      </g>\r\n     </g>\r\n    </g>\r\n    <g id=\"ytick_5\">\r\n     <g id=\"line2d_10\">\r\n      <g>\r\n       <use style=\"stroke:#000000;stroke-width:0.8;\" x=\"50.14375\" xlink:href=\"#md2546ee435\" y=\"106.629477\"/>\r\n      </g>\r\n     </g>\r\n     <g id=\"text_11\">\r\n      <!-- 0.20 -->\r\n      <g transform=\"translate(20.878125 110.428696)scale(0.1 -0.1)\">\r\n       <use xlink:href=\"#DejaVuSans-48\"/>\r\n       <use x=\"63.623047\" xlink:href=\"#DejaVuSans-46\"/>\r\n       <use x=\"95.410156\" xlink:href=\"#DejaVuSans-50\"/>\r\n       <use x=\"159.033203\" xlink:href=\"#DejaVuSans-48\"/>\r\n      </g>\r\n     </g>\r\n    </g>\r\n    <g id=\"ytick_6\">\r\n     <g id=\"line2d_11\">\r\n      <g>\r\n       <use style=\"stroke:#000000;stroke-width:0.8;\" x=\"50.14375\" xlink:href=\"#md2546ee435\" y=\"72.857315\"/>\r\n      </g>\r\n     </g>\r\n     <g id=\"text_12\">\r\n      <!-- 0.25 -->\r\n      <g transform=\"translate(20.878125 76.656534)scale(0.1 -0.1)\">\r\n       <use xlink:href=\"#DejaVuSans-48\"/>\r\n       <use x=\"63.623047\" xlink:href=\"#DejaVuSans-46\"/>\r\n       <use x=\"95.410156\" xlink:href=\"#DejaVuSans-50\"/>\r\n       <use x=\"159.033203\" xlink:href=\"#DejaVuSans-53\"/>\r\n      </g>\r\n     </g>\r\n    </g>\r\n    <g id=\"ytick_7\">\r\n     <g id=\"line2d_12\">\r\n      <g>\r\n       <use style=\"stroke:#000000;stroke-width:0.8;\" x=\"50.14375\" xlink:href=\"#md2546ee435\" y=\"39.085153\"/>\r\n      </g>\r\n     </g>\r\n     <g id=\"text_13\">\r\n      <!-- 0.30 -->\r\n      <g transform=\"translate(20.878125 42.884372)scale(0.1 -0.1)\">\r\n       <defs>\r\n        <path d=\"M 40.578125 39.3125 \r\nQ 47.65625 37.796875 51.625 33 \r\nQ 55.609375 28.21875 55.609375 21.1875 \r\nQ 55.609375 10.40625 48.1875 4.484375 \r\nQ 40.765625 -1.421875 27.09375 -1.421875 \r\nQ 22.515625 -1.421875 17.65625 -0.515625 \r\nQ 12.796875 0.390625 7.625 2.203125 \r\nL 7.625 11.71875 \r\nQ 11.71875 9.328125 16.59375 8.109375 \r\nQ 21.484375 6.890625 26.8125 6.890625 \r\nQ 36.078125 6.890625 40.9375 10.546875 \r\nQ 45.796875 14.203125 45.796875 21.1875 \r\nQ 45.796875 27.640625 41.28125 31.265625 \r\nQ 36.765625 34.90625 28.71875 34.90625 \r\nL 20.21875 34.90625 \r\nL 20.21875 43.015625 \r\nL 29.109375 43.015625 \r\nQ 36.375 43.015625 40.234375 45.921875 \r\nQ 44.09375 48.828125 44.09375 54.296875 \r\nQ 44.09375 59.90625 40.109375 62.90625 \r\nQ 36.140625 65.921875 28.71875 65.921875 \r\nQ 24.65625 65.921875 20.015625 65.03125 \r\nQ 15.375 64.15625 9.8125 62.3125 \r\nL 9.8125 71.09375 \r\nQ 15.4375 72.65625 20.34375 73.4375 \r\nQ 25.25 74.21875 29.59375 74.21875 \r\nQ 40.828125 74.21875 47.359375 69.109375 \r\nQ 53.90625 64.015625 53.90625 55.328125 \r\nQ 53.90625 49.265625 50.4375 45.09375 \r\nQ 46.96875 40.921875 40.578125 39.3125 \r\nz\r\n\" id=\"DejaVuSans-51\"/>\r\n       </defs>\r\n       <use xlink:href=\"#DejaVuSans-48\"/>\r\n       <use x=\"63.623047\" xlink:href=\"#DejaVuSans-46\"/>\r\n       <use x=\"95.410156\" xlink:href=\"#DejaVuSans-51\"/>\r\n       <use x=\"159.033203\" xlink:href=\"#DejaVuSans-48\"/>\r\n      </g>\r\n     </g>\r\n    </g>\r\n    <g id=\"text_14\">\r\n     <!-- Results -->\r\n     <g transform=\"translate(14.798438 150.07125)rotate(-90)scale(0.1 -0.1)\">\r\n      <defs>\r\n       <path d=\"M 44.390625 34.1875 \r\nQ 47.5625 33.109375 50.5625 29.59375 \r\nQ 53.5625 26.078125 56.59375 19.921875 \r\nL 66.609375 0 \r\nL 56 0 \r\nL 46.6875 18.703125 \r\nQ 43.0625 26.03125 39.671875 28.421875 \r\nQ 36.28125 30.8125 30.421875 30.8125 \r\nL 19.671875 30.8125 \r\nL 19.671875 0 \r\nL 9.8125 0 \r\nL 9.8125 72.90625 \r\nL 32.078125 72.90625 \r\nQ 44.578125 72.90625 50.734375 67.671875 \r\nQ 56.890625 62.453125 56.890625 51.90625 \r\nQ 56.890625 45.015625 53.6875 40.46875 \r\nQ 50.484375 35.9375 44.390625 34.1875 \r\nz\r\nM 19.671875 64.796875 \r\nL 19.671875 38.921875 \r\nL 32.078125 38.921875 \r\nQ 39.203125 38.921875 42.84375 42.21875 \r\nQ 46.484375 45.515625 46.484375 51.90625 \r\nQ 46.484375 58.296875 42.84375 61.546875 \r\nQ 39.203125 64.796875 32.078125 64.796875 \r\nz\r\n\" id=\"DejaVuSans-82\"/>\r\n       <path d=\"M 9.421875 75.984375 \r\nL 18.40625 75.984375 \r\nL 18.40625 0 \r\nL 9.421875 0 \r\nz\r\n\" id=\"DejaVuSans-108\"/>\r\n      </defs>\r\n      <use xlink:href=\"#DejaVuSans-82\"/>\r\n      <use x=\"64.982422\" xlink:href=\"#DejaVuSans-101\"/>\r\n      <use x=\"126.505859\" xlink:href=\"#DejaVuSans-115\"/>\r\n      <use x=\"178.605469\" xlink:href=\"#DejaVuSans-117\"/>\r\n      <use x=\"241.984375\" xlink:href=\"#DejaVuSans-108\"/>\r\n      <use x=\"269.767578\" xlink:href=\"#DejaVuSans-116\"/>\r\n      <use x=\"308.976562\" xlink:href=\"#DejaVuSans-115\"/>\r\n     </g>\r\n    </g>\r\n   </g>\r\n   <g id=\"patch_13\">\r\n    <path d=\"M 50.14375 241.718125 \r\nL 50.14375 22.318125 \r\n\" style=\"fill:none;stroke:#000000;stroke-linecap:square;stroke-linejoin:miter;stroke-width:0.8;\"/>\r\n   </g>\r\n   <g id=\"patch_14\">\r\n    <path d=\"M 417.29375 241.718125 \r\nL 417.29375 22.318125 \r\n\" style=\"fill:none;stroke:#000000;stroke-linecap:square;stroke-linejoin:miter;stroke-width:0.8;\"/>\r\n   </g>\r\n   <g id=\"patch_15\">\r\n    <path d=\"M 50.14375 241.718125 \r\nL 417.29375 241.718125 \r\n\" style=\"fill:none;stroke:#000000;stroke-linecap:square;stroke-linejoin:miter;stroke-width:0.8;\"/>\r\n   </g>\r\n   <g id=\"patch_16\">\r\n    <path d=\"M 50.14375 22.318125 \r\nL 417.29375 22.318125 \r\n\" style=\"fill:none;stroke:#000000;stroke-linecap:square;stroke-linejoin:miter;stroke-width:0.8;\"/>\r\n   </g>\r\n   <g id=\"text_15\">\r\n    <!-- Results using Recall@10 metric -->\r\n    <g transform=\"translate(139.27125 16.318125)scale(0.12 -0.12)\">\r\n     <defs>\r\n      <path d=\"M 45.40625 27.984375 \r\nQ 45.40625 37.75 41.375 43.109375 \r\nQ 37.359375 48.484375 30.078125 48.484375 \r\nQ 22.859375 48.484375 18.828125 43.109375 \r\nQ 14.796875 37.75 14.796875 27.984375 \r\nQ 14.796875 18.265625 18.828125 12.890625 \r\nQ 22.859375 7.515625 30.078125 7.515625 \r\nQ 37.359375 7.515625 41.375 12.890625 \r\nQ 45.40625 18.265625 45.40625 27.984375 \r\nz\r\nM 54.390625 6.78125 \r\nQ 54.390625 -7.171875 48.1875 -13.984375 \r\nQ 42 -20.796875 29.203125 -20.796875 \r\nQ 24.46875 -20.796875 20.265625 -20.09375 \r\nQ 16.0625 -19.390625 12.109375 -17.921875 \r\nL 12.109375 -9.1875 \r\nQ 16.0625 -11.328125 19.921875 -12.34375 \r\nQ 23.78125 -13.375 27.78125 -13.375 \r\nQ 36.625 -13.375 41.015625 -8.765625 \r\nQ 45.40625 -4.15625 45.40625 5.171875 \r\nL 45.40625 9.625 \r\nQ 42.625 4.78125 38.28125 2.390625 \r\nQ 33.9375 0 27.875 0 \r\nQ 17.828125 0 11.671875 7.65625 \r\nQ 5.515625 15.328125 5.515625 27.984375 \r\nQ 5.515625 40.671875 11.671875 48.328125 \r\nQ 17.828125 56 27.875 56 \r\nQ 33.9375 56 38.28125 53.609375 \r\nQ 42.625 51.21875 45.40625 46.390625 \r\nL 45.40625 54.6875 \r\nL 54.390625 54.6875 \r\nz\r\n\" id=\"DejaVuSans-103\"/>\r\n      <path d=\"M 37.203125 26.21875 \r\nQ 37.203125 19.234375 40.671875 15.25 \r\nQ 44.140625 11.28125 50.203125 11.28125 \r\nQ 56.203125 11.28125 59.640625 15.28125 \r\nQ 63.09375 19.28125 63.09375 26.21875 \r\nQ 63.09375 33.0625 59.578125 37.078125 \r\nQ 56.0625 41.109375 50.09375 41.109375 \r\nQ 44.1875 41.109375 40.6875 37.109375 \r\nQ 37.203125 33.109375 37.203125 26.21875 \r\nz\r\nM 63.8125 11.625 \r\nQ 60.890625 7.859375 57.109375 6.078125 \r\nQ 53.328125 4.296875 48.296875 4.296875 \r\nQ 39.890625 4.296875 34.640625 10.375 \r\nQ 29.390625 16.453125 29.390625 26.21875 \r\nQ 29.390625 35.984375 34.65625 42.078125 \r\nQ 39.9375 48.1875 48.296875 48.1875 \r\nQ 53.328125 48.1875 57.125 46.359375 \r\nQ 60.9375 44.53125 63.8125 40.828125 \r\nL 63.8125 47.21875 \r\nL 70.796875 47.21875 \r\nL 70.796875 11.28125 \r\nQ 77.9375 12.359375 81.953125 17.796875 \r\nQ 85.984375 23.25 85.984375 31.890625 \r\nQ 85.984375 37.109375 84.4375 41.703125 \r\nQ 82.90625 46.296875 79.78125 50.203125 \r\nQ 74.703125 56.59375 67.40625 59.984375 \r\nQ 60.109375 63.375 51.515625 63.375 \r\nQ 45.515625 63.375 39.984375 61.78125 \r\nQ 34.46875 60.203125 29.78125 57.078125 \r\nQ 22.125 52.09375 17.796875 44.015625 \r\nQ 13.484375 35.9375 13.484375 26.515625 \r\nQ 13.484375 18.75 16.28125 11.953125 \r\nQ 19.09375 5.171875 24.421875 0 \r\nQ 29.546875 -5.078125 36.28125 -7.734375 \r\nQ 43.015625 -10.40625 50.6875 -10.40625 \r\nQ 56.984375 -10.40625 63.0625 -8.28125 \r\nQ 69.140625 -6.15625 74.21875 -2.203125 \r\nL 78.609375 -7.625 \r\nQ 72.515625 -12.359375 65.3125 -14.875 \r\nQ 58.109375 -17.390625 50.6875 -17.390625 \r\nQ 41.65625 -17.390625 33.640625 -14.1875 \r\nQ 25.640625 -10.984375 19.390625 -4.890625 \r\nQ 13.140625 1.21875 9.859375 9.25 \r\nQ 6.59375 17.28125 6.59375 26.515625 \r\nQ 6.59375 35.40625 9.90625 43.453125 \r\nQ 13.234375 51.515625 19.390625 57.625 \r\nQ 25.6875 63.8125 33.9375 67.109375 \r\nQ 42.1875 70.40625 51.421875 70.40625 \r\nQ 61.765625 70.40625 70.625 66.15625 \r\nQ 79.5 61.921875 85.5 54.109375 \r\nQ 89.15625 49.3125 91.078125 43.703125 \r\nQ 93.015625 38.09375 93.015625 32.078125 \r\nQ 93.015625 19.234375 85.25 11.8125 \r\nQ 77.484375 4.390625 63.8125 4.109375 \r\nz\r\n\" id=\"DejaVuSans-64\"/>\r\n      <path d=\"M 52 44.1875 \r\nQ 55.375 50.25 60.0625 53.125 \r\nQ 64.75 56 71.09375 56 \r\nQ 79.640625 56 84.28125 50.015625 \r\nQ 88.921875 44.046875 88.921875 33.015625 \r\nL 88.921875 0 \r\nL 79.890625 0 \r\nL 79.890625 32.71875 \r\nQ 79.890625 40.578125 77.09375 44.375 \r\nQ 74.3125 48.1875 68.609375 48.1875 \r\nQ 61.625 48.1875 57.5625 43.546875 \r\nQ 53.515625 38.921875 53.515625 30.90625 \r\nL 53.515625 0 \r\nL 44.484375 0 \r\nL 44.484375 32.71875 \r\nQ 44.484375 40.625 41.703125 44.40625 \r\nQ 38.921875 48.1875 33.109375 48.1875 \r\nQ 26.21875 48.1875 22.15625 43.53125 \r\nQ 18.109375 38.875 18.109375 30.90625 \r\nL 18.109375 0 \r\nL 9.078125 0 \r\nL 9.078125 54.6875 \r\nL 18.109375 54.6875 \r\nL 18.109375 46.1875 \r\nQ 21.1875 51.21875 25.484375 53.609375 \r\nQ 29.78125 56 35.6875 56 \r\nQ 41.65625 56 45.828125 52.96875 \r\nQ 50 49.953125 52 44.1875 \r\nz\r\n\" id=\"DejaVuSans-109\"/>\r\n     </defs>\r\n     <use xlink:href=\"#DejaVuSans-82\"/>\r\n     <use x=\"64.982422\" xlink:href=\"#DejaVuSans-101\"/>\r\n     <use x=\"126.505859\" xlink:href=\"#DejaVuSans-115\"/>\r\n     <use x=\"178.605469\" xlink:href=\"#DejaVuSans-117\"/>\r\n     <use x=\"241.984375\" xlink:href=\"#DejaVuSans-108\"/>\r\n     <use x=\"269.767578\" xlink:href=\"#DejaVuSans-116\"/>\r\n     <use x=\"308.976562\" xlink:href=\"#DejaVuSans-115\"/>\r\n     <use x=\"361.076172\" xlink:href=\"#DejaVuSans-32\"/>\r\n     <use x=\"392.863281\" xlink:href=\"#DejaVuSans-117\"/>\r\n     <use x=\"456.242188\" xlink:href=\"#DejaVuSans-115\"/>\r\n     <use x=\"508.341797\" xlink:href=\"#DejaVuSans-105\"/>\r\n     <use x=\"536.125\" xlink:href=\"#DejaVuSans-110\"/>\r\n     <use x=\"599.503906\" xlink:href=\"#DejaVuSans-103\"/>\r\n     <use x=\"662.980469\" xlink:href=\"#DejaVuSans-32\"/>\r\n     <use x=\"694.767578\" xlink:href=\"#DejaVuSans-82\"/>\r\n     <use x=\"759.75\" xlink:href=\"#DejaVuSans-101\"/>\r\n     <use x=\"821.273438\" xlink:href=\"#DejaVuSans-99\"/>\r\n     <use x=\"876.253906\" xlink:href=\"#DejaVuSans-97\"/>\r\n     <use x=\"937.533203\" xlink:href=\"#DejaVuSans-108\"/>\r\n     <use x=\"965.316406\" xlink:href=\"#DejaVuSans-108\"/>\r\n     <use x=\"993.099609\" xlink:href=\"#DejaVuSans-64\"/>\r\n     <use x=\"1093.099609\" xlink:href=\"#DejaVuSans-49\"/>\r\n     <use x=\"1156.722656\" xlink:href=\"#DejaVuSans-48\"/>\r\n     <use x=\"1220.345703\" xlink:href=\"#DejaVuSans-32\"/>\r\n     <use x=\"1252.132812\" xlink:href=\"#DejaVuSans-109\"/>\r\n     <use x=\"1349.544922\" xlink:href=\"#DejaVuSans-101\"/>\r\n     <use x=\"1411.068359\" xlink:href=\"#DejaVuSans-116\"/>\r\n     <use x=\"1450.277344\" xlink:href=\"#DejaVuSans-114\"/>\r\n     <use x=\"1491.390625\" xlink:href=\"#DejaVuSans-105\"/>\r\n     <use x=\"1519.173828\" xlink:href=\"#DejaVuSans-99\"/>\r\n    </g>\r\n   </g>\r\n   <g id=\"legend_1\">\r\n    <g id=\"patch_17\">\r\n     <path d=\"M 57.14375 59.674375 \r\nL 156.235938 59.674375 \r\nQ 158.235938 59.674375 158.235938 57.674375 \r\nL 158.235938 29.318125 \r\nQ 158.235938 27.318125 156.235938 27.318125 \r\nL 57.14375 27.318125 \r\nQ 55.14375 27.318125 55.14375 29.318125 \r\nL 55.14375 57.674375 \r\nQ 55.14375 59.674375 57.14375 59.674375 \r\nz\r\n\" style=\"fill:#ffffff;opacity:0.8;stroke:#cccccc;stroke-linejoin:miter;\"/>\r\n    </g>\r\n    <g id=\"patch_18\">\r\n     <path d=\"M 59.14375 38.916562 \r\nL 79.14375 38.916562 \r\nL 79.14375 31.916562 \r\nL 59.14375 31.916562 \r\nz\r\n\" style=\"fill:#0000ff;opacity:0.8;\"/>\r\n    </g>\r\n    <g id=\"text_16\">\r\n     <!-- Index set = 1 -->\r\n     <g transform=\"translate(87.14375 38.916562)scale(0.1 -0.1)\">\r\n      <defs>\r\n       <path d=\"M 45.40625 46.390625 \r\nL 45.40625 75.984375 \r\nL 54.390625 75.984375 \r\nL 54.390625 0 \r\nL 45.40625 0 \r\nL 45.40625 8.203125 \r\nQ 42.578125 3.328125 38.25 0.953125 \r\nQ 33.9375 -1.421875 27.875 -1.421875 \r\nQ 17.96875 -1.421875 11.734375 6.484375 \r\nQ 5.515625 14.40625 5.515625 27.296875 \r\nQ 5.515625 40.1875 11.734375 48.09375 \r\nQ 17.96875 56 27.875 56 \r\nQ 33.9375 56 38.25 53.625 \r\nQ 42.578125 51.265625 45.40625 46.390625 \r\nz\r\nM 14.796875 27.296875 \r\nQ 14.796875 17.390625 18.875 11.75 \r\nQ 22.953125 6.109375 30.078125 6.109375 \r\nQ 37.203125 6.109375 41.296875 11.75 \r\nQ 45.40625 17.390625 45.40625 27.296875 \r\nQ 45.40625 37.203125 41.296875 42.84375 \r\nQ 37.203125 48.484375 30.078125 48.484375 \r\nQ 22.953125 48.484375 18.875 42.84375 \r\nQ 14.796875 37.203125 14.796875 27.296875 \r\nz\r\n\" id=\"DejaVuSans-100\"/>\r\n       <path d=\"M 54.890625 54.6875 \r\nL 35.109375 28.078125 \r\nL 55.90625 0 \r\nL 45.3125 0 \r\nL 29.390625 21.484375 \r\nL 13.484375 0 \r\nL 2.875 0 \r\nL 24.125 28.609375 \r\nL 4.6875 54.6875 \r\nL 15.28125 54.6875 \r\nL 29.78125 35.203125 \r\nL 44.28125 54.6875 \r\nz\r\n\" id=\"DejaVuSans-120\"/>\r\n       <path d=\"M 10.59375 45.40625 \r\nL 73.1875 45.40625 \r\nL 73.1875 37.203125 \r\nL 10.59375 37.203125 \r\nz\r\nM 10.59375 25.484375 \r\nL 73.1875 25.484375 \r\nL 73.1875 17.1875 \r\nL 10.59375 17.1875 \r\nz\r\n\" id=\"DejaVuSans-61\"/>\r\n      </defs>\r\n      <use xlink:href=\"#DejaVuSans-73\"/>\r\n      <use x=\"29.492188\" xlink:href=\"#DejaVuSans-110\"/>\r\n      <use x=\"92.871094\" xlink:href=\"#DejaVuSans-100\"/>\r\n      <use x=\"156.347656\" xlink:href=\"#DejaVuSans-101\"/>\r\n      <use x=\"216.121094\" xlink:href=\"#DejaVuSans-120\"/>\r\n      <use x=\"275.300781\" xlink:href=\"#DejaVuSans-32\"/>\r\n      <use x=\"307.087891\" xlink:href=\"#DejaVuSans-115\"/>\r\n      <use x=\"359.1875\" xlink:href=\"#DejaVuSans-101\"/>\r\n      <use x=\"420.710938\" xlink:href=\"#DejaVuSans-116\"/>\r\n      <use x=\"459.919922\" xlink:href=\"#DejaVuSans-32\"/>\r\n      <use x=\"491.707031\" xlink:href=\"#DejaVuSans-61\"/>\r\n      <use x=\"575.496094\" xlink:href=\"#DejaVuSans-32\"/>\r\n      <use x=\"607.283203\" xlink:href=\"#DejaVuSans-49\"/>\r\n     </g>\r\n    </g>\r\n    <g id=\"patch_19\">\r\n     <path d=\"M 59.14375 53.594687 \r\nL 79.14375 53.594687 \r\nL 79.14375 46.594687 \r\nL 59.14375 46.594687 \r\nz\r\n\" style=\"fill:#008000;opacity:0.8;\"/>\r\n    </g>\r\n    <g id=\"text_17\">\r\n     <!-- Index set = 2 -->\r\n     <g transform=\"translate(87.14375 53.594687)scale(0.1 -0.1)\">\r\n      <use xlink:href=\"#DejaVuSans-73\"/>\r\n      <use x=\"29.492188\" xlink:href=\"#DejaVuSans-110\"/>\r\n      <use x=\"92.871094\" xlink:href=\"#DejaVuSans-100\"/>\r\n      <use x=\"156.347656\" xlink:href=\"#DejaVuSans-101\"/>\r\n      <use x=\"216.121094\" xlink:href=\"#DejaVuSans-120\"/>\r\n      <use x=\"275.300781\" xlink:href=\"#DejaVuSans-32\"/>\r\n      <use x=\"307.087891\" xlink:href=\"#DejaVuSans-115\"/>\r\n      <use x=\"359.1875\" xlink:href=\"#DejaVuSans-101\"/>\r\n      <use x=\"420.710938\" xlink:href=\"#DejaVuSans-116\"/>\r\n      <use x=\"459.919922\" xlink:href=\"#DejaVuSans-32\"/>\r\n      <use x=\"491.707031\" xlink:href=\"#DejaVuSans-61\"/>\r\n      <use x=\"575.496094\" xlink:href=\"#DejaVuSans-32\"/>\r\n      <use x=\"607.283203\" xlink:href=\"#DejaVuSans-50\"/>\r\n     </g>\r\n    </g>\r\n   </g>\r\n  </g>\r\n </g>\r\n <defs>\r\n  <clipPath id=\"p667173f97a\">\r\n   <rect height=\"219.4\" width=\"367.15\" x=\"50.14375\" y=\"22.318125\"/>\r\n  </clipPath>\r\n </defs>\r\n</svg>\r\n",
      "image/png": "[encoded data removed]"
     },
     "metadata": {
      "needs_background": "light"
     }
    },
    {
     "output_type": "display_data",
     "data": {
      "text/plain": "<Figure size 432x288 with 1 Axes>",
      "image/svg+xml": "<?xml version=\"1.0\" encoding=\"utf-8\" standalone=\"no\"?>\r\n<!DOCTYPE svg PUBLIC \"-//W3C//DTD SVG 1.1//EN\"\r\n  \"http://www.w3.org/Graphics/SVG/1.1/DTD/svg11.dtd\">\r\n<!-- Created with matplotlib (https://matplotlib.org/) -->\r\n<svg height=\"306.069702pt\" version=\"1.1\" viewBox=\"0 0 424.50625 306.069702\" width=\"424.50625pt\" xmlns=\"http://www.w3.org/2000/svg\" xmlns:xlink=\"http://www.w3.org/1999/xlink\">\r\n <metadata>\r\n  <rdf:RDF xmlns:cc=\"http://creativecommons.org/ns#\" xmlns:dc=\"http://purl.org/dc/elements/1.1/\" xmlns:rdf=\"http://www.w3.org/1999/02/22-rdf-syntax-ns#\">\r\n   <cc:Work>\r\n    <dc:type rdf:resource=\"http://purl.org/dc/dcmitype/StillImage\"/>\r\n    <dc:date>2021-02-19T17:36:07.660903</dc:date>\r\n    <dc:format>image/svg+xml</dc:format>\r\n    <dc:creator>\r\n     <cc:Agent>\r\n      <dc:title>Matplotlib v3.3.4, https://matplotlib.org/</dc:title>\r\n     </cc:Agent>\r\n    </dc:creator>\r\n   </cc:Work>\r\n  </rdf:RDF>\r\n </metadata>\r\n <defs>\r\n  <style type=\"text/css\">*{stroke-linecap:butt;stroke-linejoin:round;}</style>\r\n </defs>\r\n <g id=\"figure_1\">\r\n  <g id=\"patch_1\">\r\n   <path d=\"M 0 306.069702 \r\nL 424.50625 306.069702 \r\nL 424.50625 0 \r\nL 0 0 \r\nz\r\n\" style=\"fill:none;\"/>\r\n  </g>\r\n  <g id=\"axes_1\">\r\n   <g id=\"patch_2\">\r\n    <path d=\"M 43.78125 241.718125 \r\nL 417.30625 241.718125 \r\nL 417.30625 22.318125 \r\nL 43.78125 22.318125 \r\nz\r\n\" style=\"fill:#ffffff;\"/>\r\n   </g>\r\n   <g id=\"patch_3\">\r\n    <path clip-path=\"url(#pbc7c71e79f)\" d=\"M 60.759659 241.718125 \r\nL 86.046651 241.718125 \r\nL 86.046651 174.554861 \r\nL 60.759659 174.554861 \r\nz\r\n\" style=\"fill:#0000ff;opacity:0.8;\"/>\r\n   </g>\r\n   <g id=\"patch_4\">\r\n    <path clip-path=\"url(#pbc7c71e79f)\" d=\"M 133.008208 241.718125 \r\nL 158.295201 241.718125 \r\nL 158.295201 92.466429 \r\nL 133.008208 92.466429 \r\nz\r\n\" style=\"fill:#0000ff;opacity:0.8;\"/>\r\n   </g>\r\n   <g id=\"patch_5\">\r\n    <path clip-path=\"url(#pbc7c71e79f)\" d=\"M 205.256758 241.718125 \r\nL 230.54375 241.718125 \r\nL 230.54375 219.330371 \r\nL 205.256758 219.330371 \r\nz\r\n\" style=\"fill:#0000ff;opacity:0.8;\"/>\r\n   </g>\r\n   <g id=\"patch_6\">\r\n    <path clip-path=\"url(#pbc7c71e79f)\" d=\"M 277.505307 241.718125 \r\nL 302.792299 241.718125 \r\nL 302.792299 107.391598 \r\nL 277.505307 107.391598 \r\nz\r\n\" style=\"fill:#0000ff;opacity:0.8;\"/>\r\n   </g>\r\n   <g id=\"patch_7\">\r\n    <path clip-path=\"url(#pbc7c71e79f)\" d=\"M 349.753856 241.718125 \r\nL 375.040849 241.718125 \r\nL 375.040849 70.078682 \r\nL 349.753856 70.078682 \r\nz\r\n\" style=\"fill:#0000ff;opacity:0.8;\"/>\r\n   </g>\r\n   <g id=\"patch_8\">\r\n    <path clip-path=\"url(#pbc7c71e79f)\" d=\"M 86.046651 241.718125 \r\nL 111.333644 241.718125 \r\nL 111.333644 129.779356 \r\nL 86.046651 129.779356 \r\nz\r\n\" style=\"fill:#008000;opacity:0.8;\"/>\r\n   </g>\r\n   <g id=\"patch_9\">\r\n    <path clip-path=\"url(#pbc7c71e79f)\" d=\"M 158.295201 241.718125 \r\nL 183.582193 241.718125 \r\nL 183.582193 107.391598 \r\nL 158.295201 107.391598 \r\nz\r\n\" style=\"fill:#008000;opacity:0.8;\"/>\r\n   </g>\r\n   <g id=\"patch_10\">\r\n    <path clip-path=\"url(#pbc7c71e79f)\" d=\"M 230.54375 241.718125 \r\nL 255.830742 241.718125 \r\nL 255.830742 196.942617 \r\nL 230.54375 196.942617 \r\nz\r\n\" style=\"fill:#008000;opacity:0.8;\"/>\r\n   </g>\r\n   <g id=\"patch_11\">\r\n    <path clip-path=\"url(#pbc7c71e79f)\" d=\"M 302.792299 241.718125 \r\nL 328.079292 241.718125 \r\nL 328.079292 85.003851 \r\nL 302.792299 85.003851 \r\nz\r\n\" style=\"fill:#008000;opacity:0.8;\"/>\r\n   </g>\r\n   <g id=\"patch_12\">\r\n    <path clip-path=\"url(#pbc7c71e79f)\" d=\"M 375.040849 241.718125 \r\nL 400.327841 241.718125 \r\nL 400.327841 32.765744 \r\nL 375.040849 32.765744 \r\nz\r\n\" style=\"fill:#008000;opacity:0.8;\"/>\r\n   </g>\r\n   <g id=\"matplotlib.axis_1\">\r\n    <g id=\"xtick_1\">\r\n     <g id=\"line2d_1\">\r\n      <defs>\r\n       <path d=\"M 0 0 \r\nL 0 3.5 \r\n\" id=\"m8b75977f0f\" style=\"stroke:#000000;stroke-width:0.8;\"/>\r\n      </defs>\r\n      <g>\r\n       <use style=\"stroke:#000000;stroke-width:0.8;\" x=\"98.690147\" xlink:href=\"#m8b75977f0f\" y=\"241.718125\"/>\r\n      </g>\r\n     </g>\r\n     <g id=\"text_1\">\r\n      <!-- BOW -->\r\n      <g transform=\"translate(91.998597 271.376478)rotate(-45)scale(0.1 -0.1)\">\r\n       <defs>\r\n        <path d=\"M 19.671875 34.8125 \r\nL 19.671875 8.109375 \r\nL 35.5 8.109375 \r\nQ 43.453125 8.109375 47.28125 11.40625 \r\nQ 51.125 14.703125 51.125 21.484375 \r\nQ 51.125 28.328125 47.28125 31.5625 \r\nQ 43.453125 34.8125 35.5 34.8125 \r\nz\r\nM 19.671875 64.796875 \r\nL 19.671875 42.828125 \r\nL 34.28125 42.828125 \r\nQ 41.5 42.828125 45.03125 45.53125 \r\nQ 48.578125 48.25 48.578125 53.8125 \r\nQ 48.578125 59.328125 45.03125 62.0625 \r\nQ 41.5 64.796875 34.28125 64.796875 \r\nz\r\nM 9.8125 72.90625 \r\nL 35.015625 72.90625 \r\nQ 46.296875 72.90625 52.390625 68.21875 \r\nQ 58.5 63.53125 58.5 54.890625 \r\nQ 58.5 48.1875 55.375 44.234375 \r\nQ 52.25 40.28125 46.1875 39.3125 \r\nQ 53.46875 37.75 57.5 32.78125 \r\nQ 61.53125 27.828125 61.53125 20.40625 \r\nQ 61.53125 10.640625 54.890625 5.3125 \r\nQ 48.25 0 35.984375 0 \r\nL 9.8125 0 \r\nz\r\n\" id=\"DejaVuSans-66\"/>\r\n        <path d=\"M 39.40625 66.21875 \r\nQ 28.65625 66.21875 22.328125 58.203125 \r\nQ 16.015625 50.203125 16.015625 36.375 \r\nQ 16.015625 22.609375 22.328125 14.59375 \r\nQ 28.65625 6.59375 39.40625 6.59375 \r\nQ 50.140625 6.59375 56.421875 14.59375 \r\nQ 62.703125 22.609375 62.703125 36.375 \r\nQ 62.703125 50.203125 56.421875 58.203125 \r\nQ 50.140625 66.21875 39.40625 66.21875 \r\nz\r\nM 39.40625 74.21875 \r\nQ 54.734375 74.21875 63.90625 63.9375 \r\nQ 73.09375 53.65625 73.09375 36.375 \r\nQ 73.09375 19.140625 63.90625 8.859375 \r\nQ 54.734375 -1.421875 39.40625 -1.421875 \r\nQ 24.03125 -1.421875 14.8125 8.828125 \r\nQ 5.609375 19.09375 5.609375 36.375 \r\nQ 5.609375 53.65625 14.8125 63.9375 \r\nQ 24.03125 74.21875 39.40625 74.21875 \r\nz\r\n\" id=\"DejaVuSans-79\"/>\r\n        <path d=\"M 3.328125 72.90625 \r\nL 13.28125 72.90625 \r\nL 28.609375 11.28125 \r\nL 43.890625 72.90625 \r\nL 54.984375 72.90625 \r\nL 70.3125 11.28125 \r\nL 85.59375 72.90625 \r\nL 95.609375 72.90625 \r\nL 77.296875 0 \r\nL 64.890625 0 \r\nL 49.515625 63.28125 \r\nL 33.984375 0 \r\nL 21.578125 0 \r\nz\r\n\" id=\"DejaVuSans-87\"/>\r\n       </defs>\r\n       <use xlink:href=\"#DejaVuSans-66\"/>\r\n       <use x=\"66.853516\" xlink:href=\"#DejaVuSans-79\"/>\r\n       <use x=\"145.564453\" xlink:href=\"#DejaVuSans-87\"/>\r\n      </g>\r\n     </g>\r\n    </g>\r\n    <g id=\"xtick_2\">\r\n     <g id=\"line2d_2\">\r\n      <g>\r\n       <use style=\"stroke:#000000;stroke-width:0.8;\" x=\"170.938697\" xlink:href=\"#m8b75977f0f\" y=\"241.718125\"/>\r\n      </g>\r\n     </g>\r\n     <g id=\"text_2\">\r\n      <!-- TF-IDF -->\r\n      <g transform=\"translate(161.622565 276.625641)rotate(-45)scale(0.1 -0.1)\">\r\n       <defs>\r\n        <path d=\"M -0.296875 72.90625 \r\nL 61.375 72.90625 \r\nL 61.375 64.59375 \r\nL 35.5 64.59375 \r\nL 35.5 0 \r\nL 25.59375 0 \r\nL 25.59375 64.59375 \r\nL -0.296875 64.59375 \r\nz\r\n\" id=\"DejaVuSans-84\"/>\r\n        <path d=\"M 9.8125 72.90625 \r\nL 51.703125 72.90625 \r\nL 51.703125 64.59375 \r\nL 19.671875 64.59375 \r\nL 19.671875 43.109375 \r\nL 48.578125 43.109375 \r\nL 48.578125 34.8125 \r\nL 19.671875 34.8125 \r\nL 19.671875 0 \r\nL 9.8125 0 \r\nz\r\n\" id=\"DejaVuSans-70\"/>\r\n        <path d=\"M 4.890625 31.390625 \r\nL 31.203125 31.390625 \r\nL 31.203125 23.390625 \r\nL 4.890625 23.390625 \r\nz\r\n\" id=\"DejaVuSans-45\"/>\r\n        <path d=\"M 9.8125 72.90625 \r\nL 19.671875 72.90625 \r\nL 19.671875 0 \r\nL 9.8125 0 \r\nz\r\n\" id=\"DejaVuSans-73\"/>\r\n        <path d=\"M 19.671875 64.796875 \r\nL 19.671875 8.109375 \r\nL 31.59375 8.109375 \r\nQ 46.6875 8.109375 53.6875 14.9375 \r\nQ 60.6875 21.78125 60.6875 36.53125 \r\nQ 60.6875 51.171875 53.6875 57.984375 \r\nQ 46.6875 64.796875 31.59375 64.796875 \r\nz\r\nM 9.8125 72.90625 \r\nL 30.078125 72.90625 \r\nQ 51.265625 72.90625 61.171875 64.09375 \r\nQ 71.09375 55.28125 71.09375 36.53125 \r\nQ 71.09375 17.671875 61.125 8.828125 \r\nQ 51.171875 0 30.078125 0 \r\nL 9.8125 0 \r\nz\r\n\" id=\"DejaVuSans-68\"/>\r\n       </defs>\r\n       <use xlink:href=\"#DejaVuSans-84\"/>\r\n       <use x=\"61.083984\" xlink:href=\"#DejaVuSans-70\"/>\r\n       <use x=\"118.603516\" xlink:href=\"#DejaVuSans-45\"/>\r\n       <use x=\"154.6875\" xlink:href=\"#DejaVuSans-73\"/>\r\n       <use x=\"184.179688\" xlink:href=\"#DejaVuSans-68\"/>\r\n       <use x=\"261.181641\" xlink:href=\"#DejaVuSans-70\"/>\r\n      </g>\r\n     </g>\r\n    </g>\r\n    <g id=\"xtick_3\">\r\n     <g id=\"line2d_3\">\r\n      <g>\r\n       <use style=\"stroke:#000000;stroke-width:0.8;\" x=\"243.187246\" xlink:href=\"#m8b75977f0f\" y=\"241.718125\"/>\r\n      </g>\r\n     </g>\r\n     <g id=\"text_3\">\r\n      <!-- NaiveQL -->\r\n      <g transform=\"translate(230.323427 283.721016)rotate(-45)scale(0.1 -0.1)\">\r\n       <defs>\r\n        <path d=\"M 9.8125 72.90625 \r\nL 23.09375 72.90625 \r\nL 55.421875 11.921875 \r\nL 55.421875 72.90625 \r\nL 64.984375 72.90625 \r\nL 64.984375 0 \r\nL 51.703125 0 \r\nL 19.390625 60.984375 \r\nL 19.390625 0 \r\nL 9.8125 0 \r\nz\r\n\" id=\"DejaVuSans-78\"/>\r\n        <path d=\"M 34.28125 27.484375 \r\nQ 23.390625 27.484375 19.1875 25 \r\nQ 14.984375 22.515625 14.984375 16.5 \r\nQ 14.984375 11.71875 18.140625 8.90625 \r\nQ 21.296875 6.109375 26.703125 6.109375 \r\nQ 34.1875 6.109375 38.703125 11.40625 \r\nQ 43.21875 16.703125 43.21875 25.484375 \r\nL 43.21875 27.484375 \r\nz\r\nM 52.203125 31.203125 \r\nL 52.203125 0 \r\nL 43.21875 0 \r\nL 43.21875 8.296875 \r\nQ 40.140625 3.328125 35.546875 0.953125 \r\nQ 30.953125 -1.421875 24.3125 -1.421875 \r\nQ 15.921875 -1.421875 10.953125 3.296875 \r\nQ 6 8.015625 6 15.921875 \r\nQ 6 25.140625 12.171875 29.828125 \r\nQ 18.359375 34.515625 30.609375 34.515625 \r\nL 43.21875 34.515625 \r\nL 43.21875 35.40625 \r\nQ 43.21875 41.609375 39.140625 45 \r\nQ 35.0625 48.390625 27.6875 48.390625 \r\nQ 23 48.390625 18.546875 47.265625 \r\nQ 14.109375 46.140625 10.015625 43.890625 \r\nL 10.015625 52.203125 \r\nQ 14.9375 54.109375 19.578125 55.046875 \r\nQ 24.21875 56 28.609375 56 \r\nQ 40.484375 56 46.34375 49.84375 \r\nQ 52.203125 43.703125 52.203125 31.203125 \r\nz\r\n\" id=\"DejaVuSans-97\"/>\r\n        <path d=\"M 9.421875 54.6875 \r\nL 18.40625 54.6875 \r\nL 18.40625 0 \r\nL 9.421875 0 \r\nz\r\nM 9.421875 75.984375 \r\nL 18.40625 75.984375 \r\nL 18.40625 64.59375 \r\nL 9.421875 64.59375 \r\nz\r\n\" id=\"DejaVuSans-105\"/>\r\n        <path d=\"M 2.984375 54.6875 \r\nL 12.5 54.6875 \r\nL 29.59375 8.796875 \r\nL 46.6875 54.6875 \r\nL 56.203125 54.6875 \r\nL 35.6875 0 \r\nL 23.484375 0 \r\nz\r\n\" id=\"DejaVuSans-118\"/>\r\n        <path d=\"M 56.203125 29.59375 \r\nL 56.203125 25.203125 \r\nL 14.890625 25.203125 \r\nQ 15.484375 15.921875 20.484375 11.0625 \r\nQ 25.484375 6.203125 34.421875 6.203125 \r\nQ 39.59375 6.203125 44.453125 7.46875 \r\nQ 49.3125 8.734375 54.109375 11.28125 \r\nL 54.109375 2.78125 \r\nQ 49.265625 0.734375 44.1875 -0.34375 \r\nQ 39.109375 -1.421875 33.890625 -1.421875 \r\nQ 20.796875 -1.421875 13.15625 6.1875 \r\nQ 5.515625 13.8125 5.515625 26.8125 \r\nQ 5.515625 40.234375 12.765625 48.109375 \r\nQ 20.015625 56 32.328125 56 \r\nQ 43.359375 56 49.78125 48.890625 \r\nQ 56.203125 41.796875 56.203125 29.59375 \r\nz\r\nM 47.21875 32.234375 \r\nQ 47.125 39.59375 43.09375 43.984375 \r\nQ 39.0625 48.390625 32.421875 48.390625 \r\nQ 24.90625 48.390625 20.390625 44.140625 \r\nQ 15.875 39.890625 15.1875 32.171875 \r\nz\r\n\" id=\"DejaVuSans-101\"/>\r\n        <path d=\"M 39.40625 66.21875 \r\nQ 28.65625 66.21875 22.328125 58.203125 \r\nQ 16.015625 50.203125 16.015625 36.375 \r\nQ 16.015625 22.609375 22.328125 14.59375 \r\nQ 28.65625 6.59375 39.40625 6.59375 \r\nQ 50.140625 6.59375 56.421875 14.59375 \r\nQ 62.703125 22.609375 62.703125 36.375 \r\nQ 62.703125 50.203125 56.421875 58.203125 \r\nQ 50.140625 66.21875 39.40625 66.21875 \r\nz\r\nM 53.21875 1.3125 \r\nL 66.21875 -12.890625 \r\nL 54.296875 -12.890625 \r\nL 43.5 -1.21875 \r\nQ 41.890625 -1.3125 41.03125 -1.359375 \r\nQ 40.1875 -1.421875 39.40625 -1.421875 \r\nQ 24.03125 -1.421875 14.8125 8.859375 \r\nQ 5.609375 19.140625 5.609375 36.375 \r\nQ 5.609375 53.65625 14.8125 63.9375 \r\nQ 24.03125 74.21875 39.40625 74.21875 \r\nQ 54.734375 74.21875 63.90625 63.9375 \r\nQ 73.09375 53.65625 73.09375 36.375 \r\nQ 73.09375 23.6875 67.984375 14.640625 \r\nQ 62.890625 5.609375 53.21875 1.3125 \r\nz\r\n\" id=\"DejaVuSans-81\"/>\r\n        <path d=\"M 9.8125 72.90625 \r\nL 19.671875 72.90625 \r\nL 19.671875 8.296875 \r\nL 55.171875 8.296875 \r\nL 55.171875 0 \r\nL 9.8125 0 \r\nz\r\n\" id=\"DejaVuSans-76\"/>\r\n       </defs>\r\n       <use xlink:href=\"#DejaVuSans-78\"/>\r\n       <use x=\"74.804688\" xlink:href=\"#DejaVuSans-97\"/>\r\n       <use x=\"136.083984\" xlink:href=\"#DejaVuSans-105\"/>\r\n       <use x=\"163.867188\" xlink:href=\"#DejaVuSans-118\"/>\r\n       <use x=\"223.046875\" xlink:href=\"#DejaVuSans-101\"/>\r\n       <use x=\"284.570312\" xlink:href=\"#DejaVuSans-81\"/>\r\n       <use x=\"363.28125\" xlink:href=\"#DejaVuSans-76\"/>\r\n      </g>\r\n     </g>\r\n    </g>\r\n    <g id=\"xtick_4\">\r\n     <g id=\"line2d_4\">\r\n      <g>\r\n       <use style=\"stroke:#000000;stroke-width:0.8;\" x=\"315.435795\" xlink:href=\"#m8b75977f0f\" y=\"241.718125\"/>\r\n      </g>\r\n     </g>\r\n     <g id=\"text_4\">\r\n      <!-- QL -->\r\n      <g transform=\"translate(312.633885 263.597198)rotate(-45)scale(0.1 -0.1)\">\r\n       <use xlink:href=\"#DejaVuSans-81\"/>\r\n       <use x=\"78.710938\" xlink:href=\"#DejaVuSans-76\"/>\r\n      </g>\r\n     </g>\r\n    </g>\r\n    <g id=\"xtick_5\">\r\n     <g id=\"line2d_5\">\r\n      <g>\r\n       <use style=\"stroke:#000000;stroke-width:0.8;\" x=\"387.684345\" xlink:href=\"#m8b75977f0f\" y=\"241.718125\"/>\r\n      </g>\r\n     </g>\r\n     <g id=\"text_5\">\r\n      <!-- BM25 -->\r\n      <g transform=\"translate(379.66034 274.041387)rotate(-45)scale(0.1 -0.1)\">\r\n       <defs>\r\n        <path d=\"M 9.8125 72.90625 \r\nL 24.515625 72.90625 \r\nL 43.109375 23.296875 \r\nL 61.8125 72.90625 \r\nL 76.515625 72.90625 \r\nL 76.515625 0 \r\nL 66.890625 0 \r\nL 66.890625 64.015625 \r\nL 48.09375 14.015625 \r\nL 38.1875 14.015625 \r\nL 19.390625 64.015625 \r\nL 19.390625 0 \r\nL 9.8125 0 \r\nz\r\n\" id=\"DejaVuSans-77\"/>\r\n        <path d=\"M 19.1875 8.296875 \r\nL 53.609375 8.296875 \r\nL 53.609375 0 \r\nL 7.328125 0 \r\nL 7.328125 8.296875 \r\nQ 12.9375 14.109375 22.625 23.890625 \r\nQ 32.328125 33.6875 34.8125 36.53125 \r\nQ 39.546875 41.84375 41.421875 45.53125 \r\nQ 43.3125 49.21875 43.3125 52.78125 \r\nQ 43.3125 58.59375 39.234375 62.25 \r\nQ 35.15625 65.921875 28.609375 65.921875 \r\nQ 23.96875 65.921875 18.8125 64.3125 \r\nQ 13.671875 62.703125 7.8125 59.421875 \r\nL 7.8125 69.390625 \r\nQ 13.765625 71.78125 18.9375 73 \r\nQ 24.125 74.21875 28.421875 74.21875 \r\nQ 39.75 74.21875 46.484375 68.546875 \r\nQ 53.21875 62.890625 53.21875 53.421875 \r\nQ 53.21875 48.921875 51.53125 44.890625 \r\nQ 49.859375 40.875 45.40625 35.40625 \r\nQ 44.1875 33.984375 37.640625 27.21875 \r\nQ 31.109375 20.453125 19.1875 8.296875 \r\nz\r\n\" id=\"DejaVuSans-50\"/>\r\n        <path d=\"M 10.796875 72.90625 \r\nL 49.515625 72.90625 \r\nL 49.515625 64.59375 \r\nL 19.828125 64.59375 \r\nL 19.828125 46.734375 \r\nQ 21.96875 47.46875 24.109375 47.828125 \r\nQ 26.265625 48.1875 28.421875 48.1875 \r\nQ 40.625 48.1875 47.75 41.5 \r\nQ 54.890625 34.8125 54.890625 23.390625 \r\nQ 54.890625 11.625 47.5625 5.09375 \r\nQ 40.234375 -1.421875 26.90625 -1.421875 \r\nQ 22.3125 -1.421875 17.546875 -0.640625 \r\nQ 12.796875 0.140625 7.71875 1.703125 \r\nL 7.71875 11.625 \r\nQ 12.109375 9.234375 16.796875 8.0625 \r\nQ 21.484375 6.890625 26.703125 6.890625 \r\nQ 35.15625 6.890625 40.078125 11.328125 \r\nQ 45.015625 15.765625 45.015625 23.390625 \r\nQ 45.015625 31 40.078125 35.4375 \r\nQ 35.15625 39.890625 26.703125 39.890625 \r\nQ 22.75 39.890625 18.8125 39.015625 \r\nQ 14.890625 38.140625 10.796875 36.28125 \r\nz\r\n\" id=\"DejaVuSans-53\"/>\r\n       </defs>\r\n       <use xlink:href=\"#DejaVuSans-66\"/>\r\n       <use x=\"68.603516\" xlink:href=\"#DejaVuSans-77\"/>\r\n       <use x=\"154.882812\" xlink:href=\"#DejaVuSans-50\"/>\r\n       <use x=\"218.505859\" xlink:href=\"#DejaVuSans-53\"/>\r\n      </g>\r\n     </g>\r\n    </g>\r\n    <g id=\"text_6\">\r\n     <!-- Search functions -->\r\n     <g transform=\"translate(188.75 296.790014)scale(0.1 -0.1)\">\r\n      <defs>\r\n       <path d=\"M 53.515625 70.515625 \r\nL 53.515625 60.890625 \r\nQ 47.90625 63.578125 42.921875 64.890625 \r\nQ 37.9375 66.21875 33.296875 66.21875 \r\nQ 25.25 66.21875 20.875 63.09375 \r\nQ 16.5 59.96875 16.5 54.203125 \r\nQ 16.5 49.359375 19.40625 46.890625 \r\nQ 22.3125 44.4375 30.421875 42.921875 \r\nL 36.375 41.703125 \r\nQ 47.40625 39.59375 52.65625 34.296875 \r\nQ 57.90625 29 57.90625 20.125 \r\nQ 57.90625 9.515625 50.796875 4.046875 \r\nQ 43.703125 -1.421875 29.984375 -1.421875 \r\nQ 24.8125 -1.421875 18.96875 -0.25 \r\nQ 13.140625 0.921875 6.890625 3.21875 \r\nL 6.890625 13.375 \r\nQ 12.890625 10.015625 18.65625 8.296875 \r\nQ 24.421875 6.59375 29.984375 6.59375 \r\nQ 38.421875 6.59375 43.015625 9.90625 \r\nQ 47.609375 13.234375 47.609375 19.390625 \r\nQ 47.609375 24.75 44.3125 27.78125 \r\nQ 41.015625 30.8125 33.5 32.328125 \r\nL 27.484375 33.5 \r\nQ 16.453125 35.6875 11.515625 40.375 \r\nQ 6.59375 45.0625 6.59375 53.421875 \r\nQ 6.59375 63.09375 13.40625 68.65625 \r\nQ 20.21875 74.21875 32.171875 74.21875 \r\nQ 37.3125 74.21875 42.625 73.28125 \r\nQ 47.953125 72.359375 53.515625 70.515625 \r\nz\r\n\" id=\"DejaVuSans-83\"/>\r\n       <path d=\"M 41.109375 46.296875 \r\nQ 39.59375 47.171875 37.8125 47.578125 \r\nQ 36.03125 48 33.890625 48 \r\nQ 26.265625 48 22.1875 43.046875 \r\nQ 18.109375 38.09375 18.109375 28.8125 \r\nL 18.109375 0 \r\nL 9.078125 0 \r\nL 9.078125 54.6875 \r\nL 18.109375 54.6875 \r\nL 18.109375 46.1875 \r\nQ 20.953125 51.171875 25.484375 53.578125 \r\nQ 30.03125 56 36.53125 56 \r\nQ 37.453125 56 38.578125 55.875 \r\nQ 39.703125 55.765625 41.0625 55.515625 \r\nz\r\n\" id=\"DejaVuSans-114\"/>\r\n       <path d=\"M 48.78125 52.59375 \r\nL 48.78125 44.1875 \r\nQ 44.96875 46.296875 41.140625 47.34375 \r\nQ 37.3125 48.390625 33.40625 48.390625 \r\nQ 24.65625 48.390625 19.8125 42.84375 \r\nQ 14.984375 37.3125 14.984375 27.296875 \r\nQ 14.984375 17.28125 19.8125 11.734375 \r\nQ 24.65625 6.203125 33.40625 6.203125 \r\nQ 37.3125 6.203125 41.140625 7.25 \r\nQ 44.96875 8.296875 48.78125 10.40625 \r\nL 48.78125 2.09375 \r\nQ 45.015625 0.34375 40.984375 -0.53125 \r\nQ 36.96875 -1.421875 32.421875 -1.421875 \r\nQ 20.0625 -1.421875 12.78125 6.34375 \r\nQ 5.515625 14.109375 5.515625 27.296875 \r\nQ 5.515625 40.671875 12.859375 48.328125 \r\nQ 20.21875 56 33.015625 56 \r\nQ 37.15625 56 41.109375 55.140625 \r\nQ 45.0625 54.296875 48.78125 52.59375 \r\nz\r\n\" id=\"DejaVuSans-99\"/>\r\n       <path d=\"M 54.890625 33.015625 \r\nL 54.890625 0 \r\nL 45.90625 0 \r\nL 45.90625 32.71875 \r\nQ 45.90625 40.484375 42.875 44.328125 \r\nQ 39.84375 48.1875 33.796875 48.1875 \r\nQ 26.515625 48.1875 22.3125 43.546875 \r\nQ 18.109375 38.921875 18.109375 30.90625 \r\nL 18.109375 0 \r\nL 9.078125 0 \r\nL 9.078125 75.984375 \r\nL 18.109375 75.984375 \r\nL 18.109375 46.1875 \r\nQ 21.34375 51.125 25.703125 53.5625 \r\nQ 30.078125 56 35.796875 56 \r\nQ 45.21875 56 50.046875 50.171875 \r\nQ 54.890625 44.34375 54.890625 33.015625 \r\nz\r\n\" id=\"DejaVuSans-104\"/>\r\n       <path id=\"DejaVuSans-32\"/>\r\n       <path d=\"M 37.109375 75.984375 \r\nL 37.109375 68.5 \r\nL 28.515625 68.5 \r\nQ 23.6875 68.5 21.796875 66.546875 \r\nQ 19.921875 64.59375 19.921875 59.515625 \r\nL 19.921875 54.6875 \r\nL 34.71875 54.6875 \r\nL 34.71875 47.703125 \r\nL 19.921875 47.703125 \r\nL 19.921875 0 \r\nL 10.890625 0 \r\nL 10.890625 47.703125 \r\nL 2.296875 47.703125 \r\nL 2.296875 54.6875 \r\nL 10.890625 54.6875 \r\nL 10.890625 58.5 \r\nQ 10.890625 67.625 15.140625 71.796875 \r\nQ 19.390625 75.984375 28.609375 75.984375 \r\nz\r\n\" id=\"DejaVuSans-102\"/>\r\n       <path d=\"M 8.5 21.578125 \r\nL 8.5 54.6875 \r\nL 17.484375 54.6875 \r\nL 17.484375 21.921875 \r\nQ 17.484375 14.15625 20.5 10.265625 \r\nQ 23.53125 6.390625 29.59375 6.390625 \r\nQ 36.859375 6.390625 41.078125 11.03125 \r\nQ 45.3125 15.671875 45.3125 23.6875 \r\nL 45.3125 54.6875 \r\nL 54.296875 54.6875 \r\nL 54.296875 0 \r\nL 45.3125 0 \r\nL 45.3125 8.40625 \r\nQ 42.046875 3.421875 37.71875 1 \r\nQ 33.40625 -1.421875 27.6875 -1.421875 \r\nQ 18.265625 -1.421875 13.375 4.4375 \r\nQ 8.5 10.296875 8.5 21.578125 \r\nz\r\nM 31.109375 56 \r\nz\r\n\" id=\"DejaVuSans-117\"/>\r\n       <path d=\"M 54.890625 33.015625 \r\nL 54.890625 0 \r\nL 45.90625 0 \r\nL 45.90625 32.71875 \r\nQ 45.90625 40.484375 42.875 44.328125 \r\nQ 39.84375 48.1875 33.796875 48.1875 \r\nQ 26.515625 48.1875 22.3125 43.546875 \r\nQ 18.109375 38.921875 18.109375 30.90625 \r\nL 18.109375 0 \r\nL 9.078125 0 \r\nL 9.078125 54.6875 \r\nL 18.109375 54.6875 \r\nL 18.109375 46.1875 \r\nQ 21.34375 51.125 25.703125 53.5625 \r\nQ 30.078125 56 35.796875 56 \r\nQ 45.21875 56 50.046875 50.171875 \r\nQ 54.890625 44.34375 54.890625 33.015625 \r\nz\r\n\" id=\"DejaVuSans-110\"/>\r\n       <path d=\"M 18.3125 70.21875 \r\nL 18.3125 54.6875 \r\nL 36.8125 54.6875 \r\nL 36.8125 47.703125 \r\nL 18.3125 47.703125 \r\nL 18.3125 18.015625 \r\nQ 18.3125 11.328125 20.140625 9.421875 \r\nQ 21.96875 7.515625 27.59375 7.515625 \r\nL 36.8125 7.515625 \r\nL 36.8125 0 \r\nL 27.59375 0 \r\nQ 17.1875 0 13.234375 3.875 \r\nQ 9.28125 7.765625 9.28125 18.015625 \r\nL 9.28125 47.703125 \r\nL 2.6875 47.703125 \r\nL 2.6875 54.6875 \r\nL 9.28125 54.6875 \r\nL 9.28125 70.21875 \r\nz\r\n\" id=\"DejaVuSans-116\"/>\r\n       <path d=\"M 30.609375 48.390625 \r\nQ 23.390625 48.390625 19.1875 42.75 \r\nQ 14.984375 37.109375 14.984375 27.296875 \r\nQ 14.984375 17.484375 19.15625 11.84375 \r\nQ 23.34375 6.203125 30.609375 6.203125 \r\nQ 37.796875 6.203125 41.984375 11.859375 \r\nQ 46.1875 17.53125 46.1875 27.296875 \r\nQ 46.1875 37.015625 41.984375 42.703125 \r\nQ 37.796875 48.390625 30.609375 48.390625 \r\nz\r\nM 30.609375 56 \r\nQ 42.328125 56 49.015625 48.375 \r\nQ 55.71875 40.765625 55.71875 27.296875 \r\nQ 55.71875 13.875 49.015625 6.21875 \r\nQ 42.328125 -1.421875 30.609375 -1.421875 \r\nQ 18.84375 -1.421875 12.171875 6.21875 \r\nQ 5.515625 13.875 5.515625 27.296875 \r\nQ 5.515625 40.765625 12.171875 48.375 \r\nQ 18.84375 56 30.609375 56 \r\nz\r\n\" id=\"DejaVuSans-111\"/>\r\n       <path d=\"M 44.28125 53.078125 \r\nL 44.28125 44.578125 \r\nQ 40.484375 46.53125 36.375 47.5 \r\nQ 32.28125 48.484375 27.875 48.484375 \r\nQ 21.1875 48.484375 17.84375 46.4375 \r\nQ 14.5 44.390625 14.5 40.28125 \r\nQ 14.5 37.15625 16.890625 35.375 \r\nQ 19.28125 33.59375 26.515625 31.984375 \r\nL 29.59375 31.296875 \r\nQ 39.15625 29.25 43.1875 25.515625 \r\nQ 47.21875 21.78125 47.21875 15.09375 \r\nQ 47.21875 7.46875 41.1875 3.015625 \r\nQ 35.15625 -1.421875 24.609375 -1.421875 \r\nQ 20.21875 -1.421875 15.453125 -0.5625 \r\nQ 10.6875 0.296875 5.421875 2 \r\nL 5.421875 11.28125 \r\nQ 10.40625 8.6875 15.234375 7.390625 \r\nQ 20.0625 6.109375 24.8125 6.109375 \r\nQ 31.15625 6.109375 34.5625 8.28125 \r\nQ 37.984375 10.453125 37.984375 14.40625 \r\nQ 37.984375 18.0625 35.515625 20.015625 \r\nQ 33.0625 21.96875 24.703125 23.78125 \r\nL 21.578125 24.515625 \r\nQ 13.234375 26.265625 9.515625 29.90625 \r\nQ 5.8125 33.546875 5.8125 39.890625 \r\nQ 5.8125 47.609375 11.28125 51.796875 \r\nQ 16.75 56 26.8125 56 \r\nQ 31.78125 56 36.171875 55.265625 \r\nQ 40.578125 54.546875 44.28125 53.078125 \r\nz\r\n\" id=\"DejaVuSans-115\"/>\r\n      </defs>\r\n      <use xlink:href=\"#DejaVuSans-83\"/>\r\n      <use x=\"63.476562\" xlink:href=\"#DejaVuSans-101\"/>\r\n      <use x=\"125\" xlink:href=\"#DejaVuSans-97\"/>\r\n      <use x=\"186.279297\" xlink:href=\"#DejaVuSans-114\"/>\r\n      <use x=\"225.142578\" xlink:href=\"#DejaVuSans-99\"/>\r\n      <use x=\"280.123047\" xlink:href=\"#DejaVuSans-104\"/>\r\n      <use x=\"343.501953\" xlink:href=\"#DejaVuSans-32\"/>\r\n      <use x=\"375.289062\" xlink:href=\"#DejaVuSans-102\"/>\r\n      <use x=\"410.494141\" xlink:href=\"#DejaVuSans-117\"/>\r\n      <use x=\"473.873047\" xlink:href=\"#DejaVuSans-110\"/>\r\n      <use x=\"537.251953\" xlink:href=\"#DejaVuSans-99\"/>\r\n      <use x=\"592.232422\" xlink:href=\"#DejaVuSans-116\"/>\r\n      <use x=\"631.441406\" xlink:href=\"#DejaVuSans-105\"/>\r\n      <use x=\"659.224609\" xlink:href=\"#DejaVuSans-111\"/>\r\n      <use x=\"720.40625\" xlink:href=\"#DejaVuSans-110\"/>\r\n      <use x=\"783.785156\" xlink:href=\"#DejaVuSans-115\"/>\r\n     </g>\r\n    </g>\r\n   </g>\r\n   <g id=\"matplotlib.axis_2\">\r\n    <g id=\"ytick_1\">\r\n     <g id=\"line2d_6\">\r\n      <defs>\r\n       <path d=\"M 0 0 \r\nL -3.5 0 \r\n\" id=\"m7147d1e05b\" style=\"stroke:#000000;stroke-width:0.8;\"/>\r\n      </defs>\r\n      <g>\r\n       <use style=\"stroke:#000000;stroke-width:0.8;\" x=\"43.78125\" xlink:href=\"#m7147d1e05b\" y=\"241.718125\"/>\r\n      </g>\r\n     </g>\r\n     <g id=\"text_7\">\r\n      <!-- 0.0 -->\r\n      <g transform=\"translate(20.878125 245.517344)scale(0.1 -0.1)\">\r\n       <defs>\r\n        <path d=\"M 31.78125 66.40625 \r\nQ 24.171875 66.40625 20.328125 58.90625 \r\nQ 16.5 51.421875 16.5 36.375 \r\nQ 16.5 21.390625 20.328125 13.890625 \r\nQ 24.171875 6.390625 31.78125 6.390625 \r\nQ 39.453125 6.390625 43.28125 13.890625 \r\nQ 47.125 21.390625 47.125 36.375 \r\nQ 47.125 51.421875 43.28125 58.90625 \r\nQ 39.453125 66.40625 31.78125 66.40625 \r\nz\r\nM 31.78125 74.21875 \r\nQ 44.046875 74.21875 50.515625 64.515625 \r\nQ 56.984375 54.828125 56.984375 36.375 \r\nQ 56.984375 17.96875 50.515625 8.265625 \r\nQ 44.046875 -1.421875 31.78125 -1.421875 \r\nQ 19.53125 -1.421875 13.0625 8.265625 \r\nQ 6.59375 17.96875 6.59375 36.375 \r\nQ 6.59375 54.828125 13.0625 64.515625 \r\nQ 19.53125 74.21875 31.78125 74.21875 \r\nz\r\n\" id=\"DejaVuSans-48\"/>\r\n        <path d=\"M 10.6875 12.40625 \r\nL 21 12.40625 \r\nL 21 0 \r\nL 10.6875 0 \r\nz\r\n\" id=\"DejaVuSans-46\"/>\r\n       </defs>\r\n       <use xlink:href=\"#DejaVuSans-48\"/>\r\n       <use x=\"63.623047\" xlink:href=\"#DejaVuSans-46\"/>\r\n       <use x=\"95.410156\" xlink:href=\"#DejaVuSans-48\"/>\r\n      </g>\r\n     </g>\r\n    </g>\r\n    <g id=\"ytick_2\">\r\n     <g id=\"line2d_7\">\r\n      <g>\r\n       <use style=\"stroke:#000000;stroke-width:0.8;\" x=\"43.78125\" xlink:href=\"#m7147d1e05b\" y=\"202.912685\"/>\r\n      </g>\r\n     </g>\r\n     <g id=\"text_8\">\r\n      <!-- 0.1 -->\r\n      <g transform=\"translate(20.878125 206.711904)scale(0.1 -0.1)\">\r\n       <defs>\r\n        <path d=\"M 12.40625 8.296875 \r\nL 28.515625 8.296875 \r\nL 28.515625 63.921875 \r\nL 10.984375 60.40625 \r\nL 10.984375 69.390625 \r\nL 28.421875 72.90625 \r\nL 38.28125 72.90625 \r\nL 38.28125 8.296875 \r\nL 54.390625 8.296875 \r\nL 54.390625 0 \r\nL 12.40625 0 \r\nz\r\n\" id=\"DejaVuSans-49\"/>\r\n       </defs>\r\n       <use xlink:href=\"#DejaVuSans-48\"/>\r\n       <use x=\"63.623047\" xlink:href=\"#DejaVuSans-46\"/>\r\n       <use x=\"95.410156\" xlink:href=\"#DejaVuSans-49\"/>\r\n      </g>\r\n     </g>\r\n    </g>\r\n    <g id=\"ytick_3\">\r\n     <g id=\"line2d_8\">\r\n      <g>\r\n       <use style=\"stroke:#000000;stroke-width:0.8;\" x=\"43.78125\" xlink:href=\"#m7147d1e05b\" y=\"164.107245\"/>\r\n      </g>\r\n     </g>\r\n     <g id=\"text_9\">\r\n      <!-- 0.2 -->\r\n      <g transform=\"translate(20.878125 167.906463)scale(0.1 -0.1)\">\r\n       <use xlink:href=\"#DejaVuSans-48\"/>\r\n       <use x=\"63.623047\" xlink:href=\"#DejaVuSans-46\"/>\r\n       <use x=\"95.410156\" xlink:href=\"#DejaVuSans-50\"/>\r\n      </g>\r\n     </g>\r\n    </g>\r\n    <g id=\"ytick_4\">\r\n     <g id=\"line2d_9\">\r\n      <g>\r\n       <use style=\"stroke:#000000;stroke-width:0.8;\" x=\"43.78125\" xlink:href=\"#m7147d1e05b\" y=\"125.301804\"/>\r\n      </g>\r\n     </g>\r\n     <g id=\"text_10\">\r\n      <!-- 0.3 -->\r\n      <g transform=\"translate(20.878125 129.101023)scale(0.1 -0.1)\">\r\n       <defs>\r\n        <path d=\"M 40.578125 39.3125 \r\nQ 47.65625 37.796875 51.625 33 \r\nQ 55.609375 28.21875 55.609375 21.1875 \r\nQ 55.609375 10.40625 48.1875 4.484375 \r\nQ 40.765625 -1.421875 27.09375 -1.421875 \r\nQ 22.515625 -1.421875 17.65625 -0.515625 \r\nQ 12.796875 0.390625 7.625 2.203125 \r\nL 7.625 11.71875 \r\nQ 11.71875 9.328125 16.59375 8.109375 \r\nQ 21.484375 6.890625 26.8125 6.890625 \r\nQ 36.078125 6.890625 40.9375 10.546875 \r\nQ 45.796875 14.203125 45.796875 21.1875 \r\nQ 45.796875 27.640625 41.28125 31.265625 \r\nQ 36.765625 34.90625 28.71875 34.90625 \r\nL 20.21875 34.90625 \r\nL 20.21875 43.015625 \r\nL 29.109375 43.015625 \r\nQ 36.375 43.015625 40.234375 45.921875 \r\nQ 44.09375 48.828125 44.09375 54.296875 \r\nQ 44.09375 59.90625 40.109375 62.90625 \r\nQ 36.140625 65.921875 28.71875 65.921875 \r\nQ 24.65625 65.921875 20.015625 65.03125 \r\nQ 15.375 64.15625 9.8125 62.3125 \r\nL 9.8125 71.09375 \r\nQ 15.4375 72.65625 20.34375 73.4375 \r\nQ 25.25 74.21875 29.59375 74.21875 \r\nQ 40.828125 74.21875 47.359375 69.109375 \r\nQ 53.90625 64.015625 53.90625 55.328125 \r\nQ 53.90625 49.265625 50.4375 45.09375 \r\nQ 46.96875 40.921875 40.578125 39.3125 \r\nz\r\n\" id=\"DejaVuSans-51\"/>\r\n       </defs>\r\n       <use xlink:href=\"#DejaVuSans-48\"/>\r\n       <use x=\"63.623047\" xlink:href=\"#DejaVuSans-46\"/>\r\n       <use x=\"95.410156\" xlink:href=\"#DejaVuSans-51\"/>\r\n      </g>\r\n     </g>\r\n    </g>\r\n    <g id=\"ytick_5\">\r\n     <g id=\"line2d_10\">\r\n      <g>\r\n       <use style=\"stroke:#000000;stroke-width:0.8;\" x=\"43.78125\" xlink:href=\"#m7147d1e05b\" y=\"86.496364\"/>\r\n      </g>\r\n     </g>\r\n     <g id=\"text_11\">\r\n      <!-- 0.4 -->\r\n      <g transform=\"translate(20.878125 90.295583)scale(0.1 -0.1)\">\r\n       <defs>\r\n        <path d=\"M 37.796875 64.3125 \r\nL 12.890625 25.390625 \r\nL 37.796875 25.390625 \r\nz\r\nM 35.203125 72.90625 \r\nL 47.609375 72.90625 \r\nL 47.609375 25.390625 \r\nL 58.015625 25.390625 \r\nL 58.015625 17.1875 \r\nL 47.609375 17.1875 \r\nL 47.609375 0 \r\nL 37.796875 0 \r\nL 37.796875 17.1875 \r\nL 4.890625 17.1875 \r\nL 4.890625 26.703125 \r\nz\r\n\" id=\"DejaVuSans-52\"/>\r\n       </defs>\r\n       <use xlink:href=\"#DejaVuSans-48\"/>\r\n       <use x=\"63.623047\" xlink:href=\"#DejaVuSans-46\"/>\r\n       <use x=\"95.410156\" xlink:href=\"#DejaVuSans-52\"/>\r\n      </g>\r\n     </g>\r\n    </g>\r\n    <g id=\"ytick_6\">\r\n     <g id=\"line2d_11\">\r\n      <g>\r\n       <use style=\"stroke:#000000;stroke-width:0.8;\" x=\"43.78125\" xlink:href=\"#m7147d1e05b\" y=\"47.690924\"/>\r\n      </g>\r\n     </g>\r\n     <g id=\"text_12\">\r\n      <!-- 0.5 -->\r\n      <g transform=\"translate(20.878125 51.490143)scale(0.1 -0.1)\">\r\n       <use xlink:href=\"#DejaVuSans-48\"/>\r\n       <use x=\"63.623047\" xlink:href=\"#DejaVuSans-46\"/>\r\n       <use x=\"95.410156\" xlink:href=\"#DejaVuSans-53\"/>\r\n      </g>\r\n     </g>\r\n    </g>\r\n    <g id=\"text_13\">\r\n     <!-- Results -->\r\n     <g transform=\"translate(14.798438 150.07125)rotate(-90)scale(0.1 -0.1)\">\r\n      <defs>\r\n       <path d=\"M 44.390625 34.1875 \r\nQ 47.5625 33.109375 50.5625 29.59375 \r\nQ 53.5625 26.078125 56.59375 19.921875 \r\nL 66.609375 0 \r\nL 56 0 \r\nL 46.6875 18.703125 \r\nQ 43.0625 26.03125 39.671875 28.421875 \r\nQ 36.28125 30.8125 30.421875 30.8125 \r\nL 19.671875 30.8125 \r\nL 19.671875 0 \r\nL 9.8125 0 \r\nL 9.8125 72.90625 \r\nL 32.078125 72.90625 \r\nQ 44.578125 72.90625 50.734375 67.671875 \r\nQ 56.890625 62.453125 56.890625 51.90625 \r\nQ 56.890625 45.015625 53.6875 40.46875 \r\nQ 50.484375 35.9375 44.390625 34.1875 \r\nz\r\nM 19.671875 64.796875 \r\nL 19.671875 38.921875 \r\nL 32.078125 38.921875 \r\nQ 39.203125 38.921875 42.84375 42.21875 \r\nQ 46.484375 45.515625 46.484375 51.90625 \r\nQ 46.484375 58.296875 42.84375 61.546875 \r\nQ 39.203125 64.796875 32.078125 64.796875 \r\nz\r\n\" id=\"DejaVuSans-82\"/>\r\n       <path d=\"M 9.421875 75.984375 \r\nL 18.40625 75.984375 \r\nL 18.40625 0 \r\nL 9.421875 0 \r\nz\r\n\" id=\"DejaVuSans-108\"/>\r\n      </defs>\r\n      <use xlink:href=\"#DejaVuSans-82\"/>\r\n      <use x=\"64.982422\" xlink:href=\"#DejaVuSans-101\"/>\r\n      <use x=\"126.505859\" xlink:href=\"#DejaVuSans-115\"/>\r\n      <use x=\"178.605469\" xlink:href=\"#DejaVuSans-117\"/>\r\n      <use x=\"241.984375\" xlink:href=\"#DejaVuSans-108\"/>\r\n      <use x=\"269.767578\" xlink:href=\"#DejaVuSans-116\"/>\r\n      <use x=\"308.976562\" xlink:href=\"#DejaVuSans-115\"/>\r\n     </g>\r\n    </g>\r\n   </g>\r\n   <g id=\"patch_13\">\r\n    <path d=\"M 43.78125 241.718125 \r\nL 43.78125 22.318125 \r\n\" style=\"fill:none;stroke:#000000;stroke-linecap:square;stroke-linejoin:miter;stroke-width:0.8;\"/>\r\n   </g>\r\n   <g id=\"patch_14\">\r\n    <path d=\"M 417.30625 241.718125 \r\nL 417.30625 22.318125 \r\n\" style=\"fill:none;stroke:#000000;stroke-linecap:square;stroke-linejoin:miter;stroke-width:0.8;\"/>\r\n   </g>\r\n   <g id=\"patch_15\">\r\n    <path d=\"M 43.78125 241.718125 \r\nL 417.30625 241.718125 \r\n\" style=\"fill:none;stroke:#000000;stroke-linecap:square;stroke-linejoin:miter;stroke-width:0.8;\"/>\r\n   </g>\r\n   <g id=\"patch_16\">\r\n    <path d=\"M 43.78125 22.318125 \r\nL 417.30625 22.318125 \r\n\" style=\"fill:none;stroke:#000000;stroke-linecap:square;stroke-linejoin:miter;stroke-width:0.8;\"/>\r\n   </g>\r\n   <g id=\"text_14\">\r\n    <!-- Results using Precision@1 metric -->\r\n    <g transform=\"translate(131.045937 16.318125)scale(0.12 -0.12)\">\r\n     <defs>\r\n      <path d=\"M 45.40625 27.984375 \r\nQ 45.40625 37.75 41.375 43.109375 \r\nQ 37.359375 48.484375 30.078125 48.484375 \r\nQ 22.859375 48.484375 18.828125 43.109375 \r\nQ 14.796875 37.75 14.796875 27.984375 \r\nQ 14.796875 18.265625 18.828125 12.890625 \r\nQ 22.859375 7.515625 30.078125 7.515625 \r\nQ 37.359375 7.515625 41.375 12.890625 \r\nQ 45.40625 18.265625 45.40625 27.984375 \r\nz\r\nM 54.390625 6.78125 \r\nQ 54.390625 -7.171875 48.1875 -13.984375 \r\nQ 42 -20.796875 29.203125 -20.796875 \r\nQ 24.46875 -20.796875 20.265625 -20.09375 \r\nQ 16.0625 -19.390625 12.109375 -17.921875 \r\nL 12.109375 -9.1875 \r\nQ 16.0625 -11.328125 19.921875 -12.34375 \r\nQ 23.78125 -13.375 27.78125 -13.375 \r\nQ 36.625 -13.375 41.015625 -8.765625 \r\nQ 45.40625 -4.15625 45.40625 5.171875 \r\nL 45.40625 9.625 \r\nQ 42.625 4.78125 38.28125 2.390625 \r\nQ 33.9375 0 27.875 0 \r\nQ 17.828125 0 11.671875 7.65625 \r\nQ 5.515625 15.328125 5.515625 27.984375 \r\nQ 5.515625 40.671875 11.671875 48.328125 \r\nQ 17.828125 56 27.875 56 \r\nQ 33.9375 56 38.28125 53.609375 \r\nQ 42.625 51.21875 45.40625 46.390625 \r\nL 45.40625 54.6875 \r\nL 54.390625 54.6875 \r\nz\r\n\" id=\"DejaVuSans-103\"/>\r\n      <path d=\"M 19.671875 64.796875 \r\nL 19.671875 37.40625 \r\nL 32.078125 37.40625 \r\nQ 38.96875 37.40625 42.71875 40.96875 \r\nQ 46.484375 44.53125 46.484375 51.125 \r\nQ 46.484375 57.671875 42.71875 61.234375 \r\nQ 38.96875 64.796875 32.078125 64.796875 \r\nz\r\nM 9.8125 72.90625 \r\nL 32.078125 72.90625 \r\nQ 44.34375 72.90625 50.609375 67.359375 \r\nQ 56.890625 61.8125 56.890625 51.125 \r\nQ 56.890625 40.328125 50.609375 34.8125 \r\nQ 44.34375 29.296875 32.078125 29.296875 \r\nL 19.671875 29.296875 \r\nL 19.671875 0 \r\nL 9.8125 0 \r\nz\r\n\" id=\"DejaVuSans-80\"/>\r\n      <path d=\"M 37.203125 26.21875 \r\nQ 37.203125 19.234375 40.671875 15.25 \r\nQ 44.140625 11.28125 50.203125 11.28125 \r\nQ 56.203125 11.28125 59.640625 15.28125 \r\nQ 63.09375 19.28125 63.09375 26.21875 \r\nQ 63.09375 33.0625 59.578125 37.078125 \r\nQ 56.0625 41.109375 50.09375 41.109375 \r\nQ 44.1875 41.109375 40.6875 37.109375 \r\nQ 37.203125 33.109375 37.203125 26.21875 \r\nz\r\nM 63.8125 11.625 \r\nQ 60.890625 7.859375 57.109375 6.078125 \r\nQ 53.328125 4.296875 48.296875 4.296875 \r\nQ 39.890625 4.296875 34.640625 10.375 \r\nQ 29.390625 16.453125 29.390625 26.21875 \r\nQ 29.390625 35.984375 34.65625 42.078125 \r\nQ 39.9375 48.1875 48.296875 48.1875 \r\nQ 53.328125 48.1875 57.125 46.359375 \r\nQ 60.9375 44.53125 63.8125 40.828125 \r\nL 63.8125 47.21875 \r\nL 70.796875 47.21875 \r\nL 70.796875 11.28125 \r\nQ 77.9375 12.359375 81.953125 17.796875 \r\nQ 85.984375 23.25 85.984375 31.890625 \r\nQ 85.984375 37.109375 84.4375 41.703125 \r\nQ 82.90625 46.296875 79.78125 50.203125 \r\nQ 74.703125 56.59375 67.40625 59.984375 \r\nQ 60.109375 63.375 51.515625 63.375 \r\nQ 45.515625 63.375 39.984375 61.78125 \r\nQ 34.46875 60.203125 29.78125 57.078125 \r\nQ 22.125 52.09375 17.796875 44.015625 \r\nQ 13.484375 35.9375 13.484375 26.515625 \r\nQ 13.484375 18.75 16.28125 11.953125 \r\nQ 19.09375 5.171875 24.421875 0 \r\nQ 29.546875 -5.078125 36.28125 -7.734375 \r\nQ 43.015625 -10.40625 50.6875 -10.40625 \r\nQ 56.984375 -10.40625 63.0625 -8.28125 \r\nQ 69.140625 -6.15625 74.21875 -2.203125 \r\nL 78.609375 -7.625 \r\nQ 72.515625 -12.359375 65.3125 -14.875 \r\nQ 58.109375 -17.390625 50.6875 -17.390625 \r\nQ 41.65625 -17.390625 33.640625 -14.1875 \r\nQ 25.640625 -10.984375 19.390625 -4.890625 \r\nQ 13.140625 1.21875 9.859375 9.25 \r\nQ 6.59375 17.28125 6.59375 26.515625 \r\nQ 6.59375 35.40625 9.90625 43.453125 \r\nQ 13.234375 51.515625 19.390625 57.625 \r\nQ 25.6875 63.8125 33.9375 67.109375 \r\nQ 42.1875 70.40625 51.421875 70.40625 \r\nQ 61.765625 70.40625 70.625 66.15625 \r\nQ 79.5 61.921875 85.5 54.109375 \r\nQ 89.15625 49.3125 91.078125 43.703125 \r\nQ 93.015625 38.09375 93.015625 32.078125 \r\nQ 93.015625 19.234375 85.25 11.8125 \r\nQ 77.484375 4.390625 63.8125 4.109375 \r\nz\r\n\" id=\"DejaVuSans-64\"/>\r\n      <path d=\"M 52 44.1875 \r\nQ 55.375 50.25 60.0625 53.125 \r\nQ 64.75 56 71.09375 56 \r\nQ 79.640625 56 84.28125 50.015625 \r\nQ 88.921875 44.046875 88.921875 33.015625 \r\nL 88.921875 0 \r\nL 79.890625 0 \r\nL 79.890625 32.71875 \r\nQ 79.890625 40.578125 77.09375 44.375 \r\nQ 74.3125 48.1875 68.609375 48.1875 \r\nQ 61.625 48.1875 57.5625 43.546875 \r\nQ 53.515625 38.921875 53.515625 30.90625 \r\nL 53.515625 0 \r\nL 44.484375 0 \r\nL 44.484375 32.71875 \r\nQ 44.484375 40.625 41.703125 44.40625 \r\nQ 38.921875 48.1875 33.109375 48.1875 \r\nQ 26.21875 48.1875 22.15625 43.53125 \r\nQ 18.109375 38.875 18.109375 30.90625 \r\nL 18.109375 0 \r\nL 9.078125 0 \r\nL 9.078125 54.6875 \r\nL 18.109375 54.6875 \r\nL 18.109375 46.1875 \r\nQ 21.1875 51.21875 25.484375 53.609375 \r\nQ 29.78125 56 35.6875 56 \r\nQ 41.65625 56 45.828125 52.96875 \r\nQ 50 49.953125 52 44.1875 \r\nz\r\n\" id=\"DejaVuSans-109\"/>\r\n     </defs>\r\n     <use xlink:href=\"#DejaVuSans-82\"/>\r\n     <use x=\"64.982422\" xlink:href=\"#DejaVuSans-101\"/>\r\n     <use x=\"126.505859\" xlink:href=\"#DejaVuSans-115\"/>\r\n     <use x=\"178.605469\" xlink:href=\"#DejaVuSans-117\"/>\r\n     <use x=\"241.984375\" xlink:href=\"#DejaVuSans-108\"/>\r\n     <use x=\"269.767578\" xlink:href=\"#DejaVuSans-116\"/>\r\n     <use x=\"308.976562\" xlink:href=\"#DejaVuSans-115\"/>\r\n     <use x=\"361.076172\" xlink:href=\"#DejaVuSans-32\"/>\r\n     <use x=\"392.863281\" xlink:href=\"#DejaVuSans-117\"/>\r\n     <use x=\"456.242188\" xlink:href=\"#DejaVuSans-115\"/>\r\n     <use x=\"508.341797\" xlink:href=\"#DejaVuSans-105\"/>\r\n     <use x=\"536.125\" xlink:href=\"#DejaVuSans-110\"/>\r\n     <use x=\"599.503906\" xlink:href=\"#DejaVuSans-103\"/>\r\n     <use x=\"662.980469\" xlink:href=\"#DejaVuSans-32\"/>\r\n     <use x=\"694.767578\" xlink:href=\"#DejaVuSans-80\"/>\r\n     <use x=\"753.320312\" xlink:href=\"#DejaVuSans-114\"/>\r\n     <use x=\"792.183594\" xlink:href=\"#DejaVuSans-101\"/>\r\n     <use x=\"853.707031\" xlink:href=\"#DejaVuSans-99\"/>\r\n     <use x=\"908.6875\" xlink:href=\"#DejaVuSans-105\"/>\r\n     <use x=\"936.470703\" xlink:href=\"#DejaVuSans-115\"/>\r\n     <use x=\"988.570312\" xlink:href=\"#DejaVuSans-105\"/>\r\n     <use x=\"1016.353516\" xlink:href=\"#DejaVuSans-111\"/>\r\n     <use x=\"1077.535156\" xlink:href=\"#DejaVuSans-110\"/>\r\n     <use x=\"1140.914062\" xlink:href=\"#DejaVuSans-64\"/>\r\n     <use x=\"1240.914062\" xlink:href=\"#DejaVuSans-49\"/>\r\n     <use x=\"1304.537109\" xlink:href=\"#DejaVuSans-32\"/>\r\n     <use x=\"1336.324219\" xlink:href=\"#DejaVuSans-109\"/>\r\n     <use x=\"1433.736328\" xlink:href=\"#DejaVuSans-101\"/>\r\n     <use x=\"1495.259766\" xlink:href=\"#DejaVuSans-116\"/>\r\n     <use x=\"1534.46875\" xlink:href=\"#DejaVuSans-114\"/>\r\n     <use x=\"1575.582031\" xlink:href=\"#DejaVuSans-105\"/>\r\n     <use x=\"1603.365234\" xlink:href=\"#DejaVuSans-99\"/>\r\n    </g>\r\n   </g>\r\n   <g id=\"legend_1\">\r\n    <g id=\"patch_17\">\r\n     <path d=\"M 50.78125 59.674375 \r\nL 149.873438 59.674375 \r\nQ 151.873438 59.674375 151.873438 57.674375 \r\nL 151.873438 29.318125 \r\nQ 151.873438 27.318125 149.873438 27.318125 \r\nL 50.78125 27.318125 \r\nQ 48.78125 27.318125 48.78125 29.318125 \r\nL 48.78125 57.674375 \r\nQ 48.78125 59.674375 50.78125 59.674375 \r\nz\r\n\" style=\"fill:#ffffff;opacity:0.8;stroke:#cccccc;stroke-linejoin:miter;\"/>\r\n    </g>\r\n    <g id=\"patch_18\">\r\n     <path d=\"M 52.78125 38.916562 \r\nL 72.78125 38.916562 \r\nL 72.78125 31.916562 \r\nL 52.78125 31.916562 \r\nz\r\n\" style=\"fill:#0000ff;opacity:0.8;\"/>\r\n    </g>\r\n    <g id=\"text_15\">\r\n     <!-- Index set = 1 -->\r\n     <g transform=\"translate(80.78125 38.916562)scale(0.1 -0.1)\">\r\n      <defs>\r\n       <path d=\"M 45.40625 46.390625 \r\nL 45.40625 75.984375 \r\nL 54.390625 75.984375 \r\nL 54.390625 0 \r\nL 45.40625 0 \r\nL 45.40625 8.203125 \r\nQ 42.578125 3.328125 38.25 0.953125 \r\nQ 33.9375 -1.421875 27.875 -1.421875 \r\nQ 17.96875 -1.421875 11.734375 6.484375 \r\nQ 5.515625 14.40625 5.515625 27.296875 \r\nQ 5.515625 40.1875 11.734375 48.09375 \r\nQ 17.96875 56 27.875 56 \r\nQ 33.9375 56 38.25 53.625 \r\nQ 42.578125 51.265625 45.40625 46.390625 \r\nz\r\nM 14.796875 27.296875 \r\nQ 14.796875 17.390625 18.875 11.75 \r\nQ 22.953125 6.109375 30.078125 6.109375 \r\nQ 37.203125 6.109375 41.296875 11.75 \r\nQ 45.40625 17.390625 45.40625 27.296875 \r\nQ 45.40625 37.203125 41.296875 42.84375 \r\nQ 37.203125 48.484375 30.078125 48.484375 \r\nQ 22.953125 48.484375 18.875 42.84375 \r\nQ 14.796875 37.203125 14.796875 27.296875 \r\nz\r\n\" id=\"DejaVuSans-100\"/>\r\n       <path d=\"M 54.890625 54.6875 \r\nL 35.109375 28.078125 \r\nL 55.90625 0 \r\nL 45.3125 0 \r\nL 29.390625 21.484375 \r\nL 13.484375 0 \r\nL 2.875 0 \r\nL 24.125 28.609375 \r\nL 4.6875 54.6875 \r\nL 15.28125 54.6875 \r\nL 29.78125 35.203125 \r\nL 44.28125 54.6875 \r\nz\r\n\" id=\"DejaVuSans-120\"/>\r\n       <path d=\"M 10.59375 45.40625 \r\nL 73.1875 45.40625 \r\nL 73.1875 37.203125 \r\nL 10.59375 37.203125 \r\nz\r\nM 10.59375 25.484375 \r\nL 73.1875 25.484375 \r\nL 73.1875 17.1875 \r\nL 10.59375 17.1875 \r\nz\r\n\" id=\"DejaVuSans-61\"/>\r\n      </defs>\r\n      <use xlink:href=\"#DejaVuSans-73\"/>\r\n      <use x=\"29.492188\" xlink:href=\"#DejaVuSans-110\"/>\r\n      <use x=\"92.871094\" xlink:href=\"#DejaVuSans-100\"/>\r\n      <use x=\"156.347656\" xlink:href=\"#DejaVuSans-101\"/>\r\n      <use x=\"216.121094\" xlink:href=\"#DejaVuSans-120\"/>\r\n      <use x=\"275.300781\" xlink:href=\"#DejaVuSans-32\"/>\r\n      <use x=\"307.087891\" xlink:href=\"#DejaVuSans-115\"/>\r\n      <use x=\"359.1875\" xlink:href=\"#DejaVuSans-101\"/>\r\n      <use x=\"420.710938\" xlink:href=\"#DejaVuSans-116\"/>\r\n      <use x=\"459.919922\" xlink:href=\"#DejaVuSans-32\"/>\r\n      <use x=\"491.707031\" xlink:href=\"#DejaVuSans-61\"/>\r\n      <use x=\"575.496094\" xlink:href=\"#DejaVuSans-32\"/>\r\n      <use x=\"607.283203\" xlink:href=\"#DejaVuSans-49\"/>\r\n     </g>\r\n    </g>\r\n    <g id=\"patch_19\">\r\n     <path d=\"M 52.78125 53.594687 \r\nL 72.78125 53.594687 \r\nL 72.78125 46.594687 \r\nL 52.78125 46.594687 \r\nz\r\n\" style=\"fill:#008000;opacity:0.8;\"/>\r\n    </g>\r\n    <g id=\"text_16\">\r\n     <!-- Index set = 2 -->\r\n     <g transform=\"translate(80.78125 53.594687)scale(0.1 -0.1)\">\r\n      <use xlink:href=\"#DejaVuSans-73\"/>\r\n      <use x=\"29.492188\" xlink:href=\"#DejaVuSans-110\"/>\r\n      <use x=\"92.871094\" xlink:href=\"#DejaVuSans-100\"/>\r\n      <use x=\"156.347656\" xlink:href=\"#DejaVuSans-101\"/>\r\n      <use x=\"216.121094\" xlink:href=\"#DejaVuSans-120\"/>\r\n      <use x=\"275.300781\" xlink:href=\"#DejaVuSans-32\"/>\r\n      <use x=\"307.087891\" xlink:href=\"#DejaVuSans-115\"/>\r\n      <use x=\"359.1875\" xlink:href=\"#DejaVuSans-101\"/>\r\n      <use x=\"420.710938\" xlink:href=\"#DejaVuSans-116\"/>\r\n      <use x=\"459.919922\" xlink:href=\"#DejaVuSans-32\"/>\r\n      <use x=\"491.707031\" xlink:href=\"#DejaVuSans-61\"/>\r\n      <use x=\"575.496094\" xlink:href=\"#DejaVuSans-32\"/>\r\n      <use x=\"607.283203\" xlink:href=\"#DejaVuSans-50\"/>\r\n     </g>\r\n    </g>\r\n   </g>\r\n  </g>\r\n </g>\r\n <defs>\r\n  <clipPath id=\"pbc7c71e79f\">\r\n   <rect height=\"219.4\" width=\"373.525\" x=\"43.78125\" y=\"22.318125\"/>\r\n  </clipPath>\r\n </defs>\r\n</svg>\r\n",
      "image/png": "[encoded data removed]"
     },
     "metadata": {
      "needs_background": "light"
     }
    },
    {
     "output_type": "display_data",
     "data": {
      "text/plain": "<Figure size 432x288 with 1 Axes>",
      "image/svg+xml": "<?xml version=\"1.0\" encoding=\"utf-8\" standalone=\"no\"?>\r\n<!DOCTYPE svg PUBLIC \"-//W3C//DTD SVG 1.1//EN\"\r\n  \"http://www.w3.org/Graphics/SVG/1.1/DTD/svg11.dtd\">\r\n<!-- Created with matplotlib (https://matplotlib.org/) -->\r\n<svg height=\"306.069702pt\" version=\"1.1\" viewBox=\"0 0 424.49375 306.069702\" width=\"424.49375pt\" xmlns=\"http://www.w3.org/2000/svg\" xmlns:xlink=\"http://www.w3.org/1999/xlink\">\r\n <metadata>\r\n  <rdf:RDF xmlns:cc=\"http://creativecommons.org/ns#\" xmlns:dc=\"http://purl.org/dc/elements/1.1/\" xmlns:rdf=\"http://www.w3.org/1999/02/22-rdf-syntax-ns#\">\r\n   <cc:Work>\r\n    <dc:type rdf:resource=\"http://purl.org/dc/dcmitype/StillImage\"/>\r\n    <dc:date>2021-02-19T17:36:07.994013</dc:date>\r\n    <dc:format>image/svg+xml</dc:format>\r\n    <dc:creator>\r\n     <cc:Agent>\r\n      <dc:title>Matplotlib v3.3.4, https://matplotlib.org/</dc:title>\r\n     </cc:Agent>\r\n    </dc:creator>\r\n   </cc:Work>\r\n  </rdf:RDF>\r\n </metadata>\r\n <defs>\r\n  <style type=\"text/css\">*{stroke-linecap:butt;stroke-linejoin:round;}</style>\r\n </defs>\r\n <g id=\"figure_1\">\r\n  <g id=\"patch_1\">\r\n   <path d=\"M 0 306.069702 \r\nL 424.49375 306.069702 \r\nL 424.49375 0 \r\nL 0 0 \r\nz\r\n\" style=\"fill:none;\"/>\r\n  </g>\r\n  <g id=\"axes_1\">\r\n   <g id=\"patch_2\">\r\n    <path d=\"M 50.14375 241.718125 \r\nL 417.29375 241.718125 \r\nL 417.29375 22.318125 \r\nL 50.14375 22.318125 \r\nz\r\n\" style=\"fill:#ffffff;\"/>\r\n   </g>\r\n   <g id=\"patch_3\">\r\n    <path clip-path=\"url(#pa1094c7151)\" d=\"M 66.832386 241.718125 \r\nL 91.687802 241.718125 \r\nL 91.687802 138.39002 \r\nL 66.832386 138.39002 \r\nz\r\n\" style=\"fill:#0000ff;opacity:0.8;\"/>\r\n   </g>\r\n   <g id=\"patch_4\">\r\n    <path clip-path=\"url(#pa1094c7151)\" d=\"M 137.84786 241.718125 \r\nL 162.703276 241.718125 \r\nL 162.703276 115.428232 \r\nL 137.84786 115.428232 \r\nz\r\n\" style=\"fill:#0000ff;opacity:0.8;\"/>\r\n   </g>\r\n   <g id=\"patch_5\">\r\n    <path clip-path=\"url(#pa1094c7151)\" d=\"M 208.863334 241.718125 \r\nL 233.71875 241.718125 \r\nL 233.71875 230.237225 \r\nL 208.863334 230.237225 \r\nz\r\n\" style=\"fill:#0000ff;opacity:0.8;\"/>\r\n   </g>\r\n   <g id=\"patch_6\">\r\n    <path clip-path=\"url(#pa1094c7151)\" d=\"M 279.878808 241.718125 \r\nL 304.734224 241.718125 \r\nL 304.734224 90.170264 \r\nL 279.878808 90.170264 \r\nz\r\n\" style=\"fill:#0000ff;opacity:0.8;\"/>\r\n   </g>\r\n   <g id=\"patch_7\">\r\n    <path clip-path=\"url(#pa1094c7151)\" d=\"M 350.894282 241.718125 \r\nL 375.749698 241.718125 \r\nL 375.749698 71.800808 \r\nL 350.894282 71.800808 \r\nz\r\n\" style=\"fill:#0000ff;opacity:0.8;\"/>\r\n   </g>\r\n   <g id=\"patch_8\">\r\n    <path clip-path=\"url(#pa1094c7151)\" d=\"M 91.687802 241.718125 \r\nL 116.543218 241.718125 \r\nL 116.543218 124.612951 \r\nL 91.687802 124.612951 \r\nz\r\n\" style=\"fill:#008000;opacity:0.8;\"/>\r\n   </g>\r\n   <g id=\"patch_9\">\r\n    <path clip-path=\"url(#pa1094c7151)\" d=\"M 162.703276 241.718125 \r\nL 187.558692 241.718125 \r\nL 187.558692 83.281698 \r\nL 162.703276 83.281698 \r\nz\r\n\" style=\"fill:#008000;opacity:0.8;\"/>\r\n   </g>\r\n   <g id=\"patch_10\">\r\n    <path clip-path=\"url(#pa1094c7151)\" d=\"M 233.71875 241.718125 \r\nL 258.574166 241.718125 \r\nL 258.574166 216.460146 \r\nL 233.71875 216.460146 \r\nz\r\n\" style=\"fill:#008000;opacity:0.8;\"/>\r\n   </g>\r\n   <g id=\"patch_11\">\r\n    <path clip-path=\"url(#pa1094c7151)\" d=\"M 304.734224 241.718125 \r\nL 329.58964 241.718125 \r\nL 329.58964 39.654292 \r\nL 304.734224 39.654292 \r\nz\r\n\" style=\"fill:#008000;opacity:0.8;\"/>\r\n   </g>\r\n   <g id=\"patch_12\">\r\n    <path clip-path=\"url(#pa1094c7151)\" d=\"M 375.749698 241.718125 \r\nL 400.605114 241.718125 \r\nL 400.605114 32.765744 \r\nL 375.749698 32.765744 \r\nz\r\n\" style=\"fill:#008000;opacity:0.8;\"/>\r\n   </g>\r\n   <g id=\"matplotlib.axis_1\">\r\n    <g id=\"xtick_1\">\r\n     <g id=\"line2d_1\">\r\n      <defs>\r\n       <path d=\"M 0 0 \r\nL 0 3.5 \r\n\" id=\"m321a3174b1\" style=\"stroke:#000000;stroke-width:0.8;\"/>\r\n      </defs>\r\n      <g>\r\n       <use style=\"stroke:#000000;stroke-width:0.8;\" x=\"104.11551\" xlink:href=\"#m321a3174b1\" y=\"241.718125\"/>\r\n      </g>\r\n     </g>\r\n     <g id=\"text_1\">\r\n      <!-- BOW -->\r\n      <g transform=\"translate(97.42396 271.376478)rotate(-45)scale(0.1 -0.1)\">\r\n       <defs>\r\n        <path d=\"M 19.671875 34.8125 \r\nL 19.671875 8.109375 \r\nL 35.5 8.109375 \r\nQ 43.453125 8.109375 47.28125 11.40625 \r\nQ 51.125 14.703125 51.125 21.484375 \r\nQ 51.125 28.328125 47.28125 31.5625 \r\nQ 43.453125 34.8125 35.5 34.8125 \r\nz\r\nM 19.671875 64.796875 \r\nL 19.671875 42.828125 \r\nL 34.28125 42.828125 \r\nQ 41.5 42.828125 45.03125 45.53125 \r\nQ 48.578125 48.25 48.578125 53.8125 \r\nQ 48.578125 59.328125 45.03125 62.0625 \r\nQ 41.5 64.796875 34.28125 64.796875 \r\nz\r\nM 9.8125 72.90625 \r\nL 35.015625 72.90625 \r\nQ 46.296875 72.90625 52.390625 68.21875 \r\nQ 58.5 63.53125 58.5 54.890625 \r\nQ 58.5 48.1875 55.375 44.234375 \r\nQ 52.25 40.28125 46.1875 39.3125 \r\nQ 53.46875 37.75 57.5 32.78125 \r\nQ 61.53125 27.828125 61.53125 20.40625 \r\nQ 61.53125 10.640625 54.890625 5.3125 \r\nQ 48.25 0 35.984375 0 \r\nL 9.8125 0 \r\nz\r\n\" id=\"DejaVuSans-66\"/>\r\n        <path d=\"M 39.40625 66.21875 \r\nQ 28.65625 66.21875 22.328125 58.203125 \r\nQ 16.015625 50.203125 16.015625 36.375 \r\nQ 16.015625 22.609375 22.328125 14.59375 \r\nQ 28.65625 6.59375 39.40625 6.59375 \r\nQ 50.140625 6.59375 56.421875 14.59375 \r\nQ 62.703125 22.609375 62.703125 36.375 \r\nQ 62.703125 50.203125 56.421875 58.203125 \r\nQ 50.140625 66.21875 39.40625 66.21875 \r\nz\r\nM 39.40625 74.21875 \r\nQ 54.734375 74.21875 63.90625 63.9375 \r\nQ 73.09375 53.65625 73.09375 36.375 \r\nQ 73.09375 19.140625 63.90625 8.859375 \r\nQ 54.734375 -1.421875 39.40625 -1.421875 \r\nQ 24.03125 -1.421875 14.8125 8.828125 \r\nQ 5.609375 19.09375 5.609375 36.375 \r\nQ 5.609375 53.65625 14.8125 63.9375 \r\nQ 24.03125 74.21875 39.40625 74.21875 \r\nz\r\n\" id=\"DejaVuSans-79\"/>\r\n        <path d=\"M 3.328125 72.90625 \r\nL 13.28125 72.90625 \r\nL 28.609375 11.28125 \r\nL 43.890625 72.90625 \r\nL 54.984375 72.90625 \r\nL 70.3125 11.28125 \r\nL 85.59375 72.90625 \r\nL 95.609375 72.90625 \r\nL 77.296875 0 \r\nL 64.890625 0 \r\nL 49.515625 63.28125 \r\nL 33.984375 0 \r\nL 21.578125 0 \r\nz\r\n\" id=\"DejaVuSans-87\"/>\r\n       </defs>\r\n       <use xlink:href=\"#DejaVuSans-66\"/>\r\n       <use x=\"66.853516\" xlink:href=\"#DejaVuSans-79\"/>\r\n       <use x=\"145.564453\" xlink:href=\"#DejaVuSans-87\"/>\r\n      </g>\r\n     </g>\r\n    </g>\r\n    <g id=\"xtick_2\">\r\n     <g id=\"line2d_2\">\r\n      <g>\r\n       <use style=\"stroke:#000000;stroke-width:0.8;\" x=\"175.130984\" xlink:href=\"#m321a3174b1\" y=\"241.718125\"/>\r\n      </g>\r\n     </g>\r\n     <g id=\"text_2\">\r\n      <!-- TF-IDF -->\r\n      <g transform=\"translate(165.814852 276.625641)rotate(-45)scale(0.1 -0.1)\">\r\n       <defs>\r\n        <path d=\"M -0.296875 72.90625 \r\nL 61.375 72.90625 \r\nL 61.375 64.59375 \r\nL 35.5 64.59375 \r\nL 35.5 0 \r\nL 25.59375 0 \r\nL 25.59375 64.59375 \r\nL -0.296875 64.59375 \r\nz\r\n\" id=\"DejaVuSans-84\"/>\r\n        <path d=\"M 9.8125 72.90625 \r\nL 51.703125 72.90625 \r\nL 51.703125 64.59375 \r\nL 19.671875 64.59375 \r\nL 19.671875 43.109375 \r\nL 48.578125 43.109375 \r\nL 48.578125 34.8125 \r\nL 19.671875 34.8125 \r\nL 19.671875 0 \r\nL 9.8125 0 \r\nz\r\n\" id=\"DejaVuSans-70\"/>\r\n        <path d=\"M 4.890625 31.390625 \r\nL 31.203125 31.390625 \r\nL 31.203125 23.390625 \r\nL 4.890625 23.390625 \r\nz\r\n\" id=\"DejaVuSans-45\"/>\r\n        <path d=\"M 9.8125 72.90625 \r\nL 19.671875 72.90625 \r\nL 19.671875 0 \r\nL 9.8125 0 \r\nz\r\n\" id=\"DejaVuSans-73\"/>\r\n        <path d=\"M 19.671875 64.796875 \r\nL 19.671875 8.109375 \r\nL 31.59375 8.109375 \r\nQ 46.6875 8.109375 53.6875 14.9375 \r\nQ 60.6875 21.78125 60.6875 36.53125 \r\nQ 60.6875 51.171875 53.6875 57.984375 \r\nQ 46.6875 64.796875 31.59375 64.796875 \r\nz\r\nM 9.8125 72.90625 \r\nL 30.078125 72.90625 \r\nQ 51.265625 72.90625 61.171875 64.09375 \r\nQ 71.09375 55.28125 71.09375 36.53125 \r\nQ 71.09375 17.671875 61.125 8.828125 \r\nQ 51.171875 0 30.078125 0 \r\nL 9.8125 0 \r\nz\r\n\" id=\"DejaVuSans-68\"/>\r\n       </defs>\r\n       <use xlink:href=\"#DejaVuSans-84\"/>\r\n       <use x=\"61.083984\" xlink:href=\"#DejaVuSans-70\"/>\r\n       <use x=\"118.603516\" xlink:href=\"#DejaVuSans-45\"/>\r\n       <use x=\"154.6875\" xlink:href=\"#DejaVuSans-73\"/>\r\n       <use x=\"184.179688\" xlink:href=\"#DejaVuSans-68\"/>\r\n       <use x=\"261.181641\" xlink:href=\"#DejaVuSans-70\"/>\r\n      </g>\r\n     </g>\r\n    </g>\r\n    <g id=\"xtick_3\">\r\n     <g id=\"line2d_3\">\r\n      <g>\r\n       <use style=\"stroke:#000000;stroke-width:0.8;\" x=\"246.146458\" xlink:href=\"#m321a3174b1\" y=\"241.718125\"/>\r\n      </g>\r\n     </g>\r\n     <g id=\"text_3\">\r\n      <!-- NaiveQL -->\r\n      <g transform=\"translate(233.282639 283.721016)rotate(-45)scale(0.1 -0.1)\">\r\n       <defs>\r\n        <path d=\"M 9.8125 72.90625 \r\nL 23.09375 72.90625 \r\nL 55.421875 11.921875 \r\nL 55.421875 72.90625 \r\nL 64.984375 72.90625 \r\nL 64.984375 0 \r\nL 51.703125 0 \r\nL 19.390625 60.984375 \r\nL 19.390625 0 \r\nL 9.8125 0 \r\nz\r\n\" id=\"DejaVuSans-78\"/>\r\n        <path d=\"M 34.28125 27.484375 \r\nQ 23.390625 27.484375 19.1875 25 \r\nQ 14.984375 22.515625 14.984375 16.5 \r\nQ 14.984375 11.71875 18.140625 8.90625 \r\nQ 21.296875 6.109375 26.703125 6.109375 \r\nQ 34.1875 6.109375 38.703125 11.40625 \r\nQ 43.21875 16.703125 43.21875 25.484375 \r\nL 43.21875 27.484375 \r\nz\r\nM 52.203125 31.203125 \r\nL 52.203125 0 \r\nL 43.21875 0 \r\nL 43.21875 8.296875 \r\nQ 40.140625 3.328125 35.546875 0.953125 \r\nQ 30.953125 -1.421875 24.3125 -1.421875 \r\nQ 15.921875 -1.421875 10.953125 3.296875 \r\nQ 6 8.015625 6 15.921875 \r\nQ 6 25.140625 12.171875 29.828125 \r\nQ 18.359375 34.515625 30.609375 34.515625 \r\nL 43.21875 34.515625 \r\nL 43.21875 35.40625 \r\nQ 43.21875 41.609375 39.140625 45 \r\nQ 35.0625 48.390625 27.6875 48.390625 \r\nQ 23 48.390625 18.546875 47.265625 \r\nQ 14.109375 46.140625 10.015625 43.890625 \r\nL 10.015625 52.203125 \r\nQ 14.9375 54.109375 19.578125 55.046875 \r\nQ 24.21875 56 28.609375 56 \r\nQ 40.484375 56 46.34375 49.84375 \r\nQ 52.203125 43.703125 52.203125 31.203125 \r\nz\r\n\" id=\"DejaVuSans-97\"/>\r\n        <path d=\"M 9.421875 54.6875 \r\nL 18.40625 54.6875 \r\nL 18.40625 0 \r\nL 9.421875 0 \r\nz\r\nM 9.421875 75.984375 \r\nL 18.40625 75.984375 \r\nL 18.40625 64.59375 \r\nL 9.421875 64.59375 \r\nz\r\n\" id=\"DejaVuSans-105\"/>\r\n        <path d=\"M 2.984375 54.6875 \r\nL 12.5 54.6875 \r\nL 29.59375 8.796875 \r\nL 46.6875 54.6875 \r\nL 56.203125 54.6875 \r\nL 35.6875 0 \r\nL 23.484375 0 \r\nz\r\n\" id=\"DejaVuSans-118\"/>\r\n        <path d=\"M 56.203125 29.59375 \r\nL 56.203125 25.203125 \r\nL 14.890625 25.203125 \r\nQ 15.484375 15.921875 20.484375 11.0625 \r\nQ 25.484375 6.203125 34.421875 6.203125 \r\nQ 39.59375 6.203125 44.453125 7.46875 \r\nQ 49.3125 8.734375 54.109375 11.28125 \r\nL 54.109375 2.78125 \r\nQ 49.265625 0.734375 44.1875 -0.34375 \r\nQ 39.109375 -1.421875 33.890625 -1.421875 \r\nQ 20.796875 -1.421875 13.15625 6.1875 \r\nQ 5.515625 13.8125 5.515625 26.8125 \r\nQ 5.515625 40.234375 12.765625 48.109375 \r\nQ 20.015625 56 32.328125 56 \r\nQ 43.359375 56 49.78125 48.890625 \r\nQ 56.203125 41.796875 56.203125 29.59375 \r\nz\r\nM 47.21875 32.234375 \r\nQ 47.125 39.59375 43.09375 43.984375 \r\nQ 39.0625 48.390625 32.421875 48.390625 \r\nQ 24.90625 48.390625 20.390625 44.140625 \r\nQ 15.875 39.890625 15.1875 32.171875 \r\nz\r\n\" id=\"DejaVuSans-101\"/>\r\n        <path d=\"M 39.40625 66.21875 \r\nQ 28.65625 66.21875 22.328125 58.203125 \r\nQ 16.015625 50.203125 16.015625 36.375 \r\nQ 16.015625 22.609375 22.328125 14.59375 \r\nQ 28.65625 6.59375 39.40625 6.59375 \r\nQ 50.140625 6.59375 56.421875 14.59375 \r\nQ 62.703125 22.609375 62.703125 36.375 \r\nQ 62.703125 50.203125 56.421875 58.203125 \r\nQ 50.140625 66.21875 39.40625 66.21875 \r\nz\r\nM 53.21875 1.3125 \r\nL 66.21875 -12.890625 \r\nL 54.296875 -12.890625 \r\nL 43.5 -1.21875 \r\nQ 41.890625 -1.3125 41.03125 -1.359375 \r\nQ 40.1875 -1.421875 39.40625 -1.421875 \r\nQ 24.03125 -1.421875 14.8125 8.859375 \r\nQ 5.609375 19.140625 5.609375 36.375 \r\nQ 5.609375 53.65625 14.8125 63.9375 \r\nQ 24.03125 74.21875 39.40625 74.21875 \r\nQ 54.734375 74.21875 63.90625 63.9375 \r\nQ 73.09375 53.65625 73.09375 36.375 \r\nQ 73.09375 23.6875 67.984375 14.640625 \r\nQ 62.890625 5.609375 53.21875 1.3125 \r\nz\r\n\" id=\"DejaVuSans-81\"/>\r\n        <path d=\"M 9.8125 72.90625 \r\nL 19.671875 72.90625 \r\nL 19.671875 8.296875 \r\nL 55.171875 8.296875 \r\nL 55.171875 0 \r\nL 9.8125 0 \r\nz\r\n\" id=\"DejaVuSans-76\"/>\r\n       </defs>\r\n       <use xlink:href=\"#DejaVuSans-78\"/>\r\n       <use x=\"74.804688\" xlink:href=\"#DejaVuSans-97\"/>\r\n       <use x=\"136.083984\" xlink:href=\"#DejaVuSans-105\"/>\r\n       <use x=\"163.867188\" xlink:href=\"#DejaVuSans-118\"/>\r\n       <use x=\"223.046875\" xlink:href=\"#DejaVuSans-101\"/>\r\n       <use x=\"284.570312\" xlink:href=\"#DejaVuSans-81\"/>\r\n       <use x=\"363.28125\" xlink:href=\"#DejaVuSans-76\"/>\r\n      </g>\r\n     </g>\r\n    </g>\r\n    <g id=\"xtick_4\">\r\n     <g id=\"line2d_4\">\r\n      <g>\r\n       <use style=\"stroke:#000000;stroke-width:0.8;\" x=\"317.161932\" xlink:href=\"#m321a3174b1\" y=\"241.718125\"/>\r\n      </g>\r\n     </g>\r\n     <g id=\"text_4\">\r\n      <!-- QL -->\r\n      <g transform=\"translate(314.360021 263.597198)rotate(-45)scale(0.1 -0.1)\">\r\n       <use xlink:href=\"#DejaVuSans-81\"/>\r\n       <use x=\"78.710938\" xlink:href=\"#DejaVuSans-76\"/>\r\n      </g>\r\n     </g>\r\n    </g>\r\n    <g id=\"xtick_5\">\r\n     <g id=\"line2d_5\">\r\n      <g>\r\n       <use style=\"stroke:#000000;stroke-width:0.8;\" x=\"388.177406\" xlink:href=\"#m321a3174b1\" y=\"241.718125\"/>\r\n      </g>\r\n     </g>\r\n     <g id=\"text_5\">\r\n      <!-- BM25 -->\r\n      <g transform=\"translate(380.153401 274.041387)rotate(-45)scale(0.1 -0.1)\">\r\n       <defs>\r\n        <path d=\"M 9.8125 72.90625 \r\nL 24.515625 72.90625 \r\nL 43.109375 23.296875 \r\nL 61.8125 72.90625 \r\nL 76.515625 72.90625 \r\nL 76.515625 0 \r\nL 66.890625 0 \r\nL 66.890625 64.015625 \r\nL 48.09375 14.015625 \r\nL 38.1875 14.015625 \r\nL 19.390625 64.015625 \r\nL 19.390625 0 \r\nL 9.8125 0 \r\nz\r\n\" id=\"DejaVuSans-77\"/>\r\n        <path d=\"M 19.1875 8.296875 \r\nL 53.609375 8.296875 \r\nL 53.609375 0 \r\nL 7.328125 0 \r\nL 7.328125 8.296875 \r\nQ 12.9375 14.109375 22.625 23.890625 \r\nQ 32.328125 33.6875 34.8125 36.53125 \r\nQ 39.546875 41.84375 41.421875 45.53125 \r\nQ 43.3125 49.21875 43.3125 52.78125 \r\nQ 43.3125 58.59375 39.234375 62.25 \r\nQ 35.15625 65.921875 28.609375 65.921875 \r\nQ 23.96875 65.921875 18.8125 64.3125 \r\nQ 13.671875 62.703125 7.8125 59.421875 \r\nL 7.8125 69.390625 \r\nQ 13.765625 71.78125 18.9375 73 \r\nQ 24.125 74.21875 28.421875 74.21875 \r\nQ 39.75 74.21875 46.484375 68.546875 \r\nQ 53.21875 62.890625 53.21875 53.421875 \r\nQ 53.21875 48.921875 51.53125 44.890625 \r\nQ 49.859375 40.875 45.40625 35.40625 \r\nQ 44.1875 33.984375 37.640625 27.21875 \r\nQ 31.109375 20.453125 19.1875 8.296875 \r\nz\r\n\" id=\"DejaVuSans-50\"/>\r\n        <path d=\"M 10.796875 72.90625 \r\nL 49.515625 72.90625 \r\nL 49.515625 64.59375 \r\nL 19.828125 64.59375 \r\nL 19.828125 46.734375 \r\nQ 21.96875 47.46875 24.109375 47.828125 \r\nQ 26.265625 48.1875 28.421875 48.1875 \r\nQ 40.625 48.1875 47.75 41.5 \r\nQ 54.890625 34.8125 54.890625 23.390625 \r\nQ 54.890625 11.625 47.5625 5.09375 \r\nQ 40.234375 -1.421875 26.90625 -1.421875 \r\nQ 22.3125 -1.421875 17.546875 -0.640625 \r\nQ 12.796875 0.140625 7.71875 1.703125 \r\nL 7.71875 11.625 \r\nQ 12.109375 9.234375 16.796875 8.0625 \r\nQ 21.484375 6.890625 26.703125 6.890625 \r\nQ 35.15625 6.890625 40.078125 11.328125 \r\nQ 45.015625 15.765625 45.015625 23.390625 \r\nQ 45.015625 31 40.078125 35.4375 \r\nQ 35.15625 39.890625 26.703125 39.890625 \r\nQ 22.75 39.890625 18.8125 39.015625 \r\nQ 14.890625 38.140625 10.796875 36.28125 \r\nz\r\n\" id=\"DejaVuSans-53\"/>\r\n       </defs>\r\n       <use xlink:href=\"#DejaVuSans-66\"/>\r\n       <use x=\"68.603516\" xlink:href=\"#DejaVuSans-77\"/>\r\n       <use x=\"154.882812\" xlink:href=\"#DejaVuSans-50\"/>\r\n       <use x=\"218.505859\" xlink:href=\"#DejaVuSans-53\"/>\r\n      </g>\r\n     </g>\r\n    </g>\r\n    <g id=\"text_6\">\r\n     <!-- Search functions -->\r\n     <g transform=\"translate(191.925 296.790014)scale(0.1 -0.1)\">\r\n      <defs>\r\n       <path d=\"M 53.515625 70.515625 \r\nL 53.515625 60.890625 \r\nQ 47.90625 63.578125 42.921875 64.890625 \r\nQ 37.9375 66.21875 33.296875 66.21875 \r\nQ 25.25 66.21875 20.875 63.09375 \r\nQ 16.5 59.96875 16.5 54.203125 \r\nQ 16.5 49.359375 19.40625 46.890625 \r\nQ 22.3125 44.4375 30.421875 42.921875 \r\nL 36.375 41.703125 \r\nQ 47.40625 39.59375 52.65625 34.296875 \r\nQ 57.90625 29 57.90625 20.125 \r\nQ 57.90625 9.515625 50.796875 4.046875 \r\nQ 43.703125 -1.421875 29.984375 -1.421875 \r\nQ 24.8125 -1.421875 18.96875 -0.25 \r\nQ 13.140625 0.921875 6.890625 3.21875 \r\nL 6.890625 13.375 \r\nQ 12.890625 10.015625 18.65625 8.296875 \r\nQ 24.421875 6.59375 29.984375 6.59375 \r\nQ 38.421875 6.59375 43.015625 9.90625 \r\nQ 47.609375 13.234375 47.609375 19.390625 \r\nQ 47.609375 24.75 44.3125 27.78125 \r\nQ 41.015625 30.8125 33.5 32.328125 \r\nL 27.484375 33.5 \r\nQ 16.453125 35.6875 11.515625 40.375 \r\nQ 6.59375 45.0625 6.59375 53.421875 \r\nQ 6.59375 63.09375 13.40625 68.65625 \r\nQ 20.21875 74.21875 32.171875 74.21875 \r\nQ 37.3125 74.21875 42.625 73.28125 \r\nQ 47.953125 72.359375 53.515625 70.515625 \r\nz\r\n\" id=\"DejaVuSans-83\"/>\r\n       <path d=\"M 41.109375 46.296875 \r\nQ 39.59375 47.171875 37.8125 47.578125 \r\nQ 36.03125 48 33.890625 48 \r\nQ 26.265625 48 22.1875 43.046875 \r\nQ 18.109375 38.09375 18.109375 28.8125 \r\nL 18.109375 0 \r\nL 9.078125 0 \r\nL 9.078125 54.6875 \r\nL 18.109375 54.6875 \r\nL 18.109375 46.1875 \r\nQ 20.953125 51.171875 25.484375 53.578125 \r\nQ 30.03125 56 36.53125 56 \r\nQ 37.453125 56 38.578125 55.875 \r\nQ 39.703125 55.765625 41.0625 55.515625 \r\nz\r\n\" id=\"DejaVuSans-114\"/>\r\n       <path d=\"M 48.78125 52.59375 \r\nL 48.78125 44.1875 \r\nQ 44.96875 46.296875 41.140625 47.34375 \r\nQ 37.3125 48.390625 33.40625 48.390625 \r\nQ 24.65625 48.390625 19.8125 42.84375 \r\nQ 14.984375 37.3125 14.984375 27.296875 \r\nQ 14.984375 17.28125 19.8125 11.734375 \r\nQ 24.65625 6.203125 33.40625 6.203125 \r\nQ 37.3125 6.203125 41.140625 7.25 \r\nQ 44.96875 8.296875 48.78125 10.40625 \r\nL 48.78125 2.09375 \r\nQ 45.015625 0.34375 40.984375 -0.53125 \r\nQ 36.96875 -1.421875 32.421875 -1.421875 \r\nQ 20.0625 -1.421875 12.78125 6.34375 \r\nQ 5.515625 14.109375 5.515625 27.296875 \r\nQ 5.515625 40.671875 12.859375 48.328125 \r\nQ 20.21875 56 33.015625 56 \r\nQ 37.15625 56 41.109375 55.140625 \r\nQ 45.0625 54.296875 48.78125 52.59375 \r\nz\r\n\" id=\"DejaVuSans-99\"/>\r\n       <path d=\"M 54.890625 33.015625 \r\nL 54.890625 0 \r\nL 45.90625 0 \r\nL 45.90625 32.71875 \r\nQ 45.90625 40.484375 42.875 44.328125 \r\nQ 39.84375 48.1875 33.796875 48.1875 \r\nQ 26.515625 48.1875 22.3125 43.546875 \r\nQ 18.109375 38.921875 18.109375 30.90625 \r\nL 18.109375 0 \r\nL 9.078125 0 \r\nL 9.078125 75.984375 \r\nL 18.109375 75.984375 \r\nL 18.109375 46.1875 \r\nQ 21.34375 51.125 25.703125 53.5625 \r\nQ 30.078125 56 35.796875 56 \r\nQ 45.21875 56 50.046875 50.171875 \r\nQ 54.890625 44.34375 54.890625 33.015625 \r\nz\r\n\" id=\"DejaVuSans-104\"/>\r\n       <path id=\"DejaVuSans-32\"/>\r\n       <path d=\"M 37.109375 75.984375 \r\nL 37.109375 68.5 \r\nL 28.515625 68.5 \r\nQ 23.6875 68.5 21.796875 66.546875 \r\nQ 19.921875 64.59375 19.921875 59.515625 \r\nL 19.921875 54.6875 \r\nL 34.71875 54.6875 \r\nL 34.71875 47.703125 \r\nL 19.921875 47.703125 \r\nL 19.921875 0 \r\nL 10.890625 0 \r\nL 10.890625 47.703125 \r\nL 2.296875 47.703125 \r\nL 2.296875 54.6875 \r\nL 10.890625 54.6875 \r\nL 10.890625 58.5 \r\nQ 10.890625 67.625 15.140625 71.796875 \r\nQ 19.390625 75.984375 28.609375 75.984375 \r\nz\r\n\" id=\"DejaVuSans-102\"/>\r\n       <path d=\"M 8.5 21.578125 \r\nL 8.5 54.6875 \r\nL 17.484375 54.6875 \r\nL 17.484375 21.921875 \r\nQ 17.484375 14.15625 20.5 10.265625 \r\nQ 23.53125 6.390625 29.59375 6.390625 \r\nQ 36.859375 6.390625 41.078125 11.03125 \r\nQ 45.3125 15.671875 45.3125 23.6875 \r\nL 45.3125 54.6875 \r\nL 54.296875 54.6875 \r\nL 54.296875 0 \r\nL 45.3125 0 \r\nL 45.3125 8.40625 \r\nQ 42.046875 3.421875 37.71875 1 \r\nQ 33.40625 -1.421875 27.6875 -1.421875 \r\nQ 18.265625 -1.421875 13.375 4.4375 \r\nQ 8.5 10.296875 8.5 21.578125 \r\nz\r\nM 31.109375 56 \r\nz\r\n\" id=\"DejaVuSans-117\"/>\r\n       <path d=\"M 54.890625 33.015625 \r\nL 54.890625 0 \r\nL 45.90625 0 \r\nL 45.90625 32.71875 \r\nQ 45.90625 40.484375 42.875 44.328125 \r\nQ 39.84375 48.1875 33.796875 48.1875 \r\nQ 26.515625 48.1875 22.3125 43.546875 \r\nQ 18.109375 38.921875 18.109375 30.90625 \r\nL 18.109375 0 \r\nL 9.078125 0 \r\nL 9.078125 54.6875 \r\nL 18.109375 54.6875 \r\nL 18.109375 46.1875 \r\nQ 21.34375 51.125 25.703125 53.5625 \r\nQ 30.078125 56 35.796875 56 \r\nQ 45.21875 56 50.046875 50.171875 \r\nQ 54.890625 44.34375 54.890625 33.015625 \r\nz\r\n\" id=\"DejaVuSans-110\"/>\r\n       <path d=\"M 18.3125 70.21875 \r\nL 18.3125 54.6875 \r\nL 36.8125 54.6875 \r\nL 36.8125 47.703125 \r\nL 18.3125 47.703125 \r\nL 18.3125 18.015625 \r\nQ 18.3125 11.328125 20.140625 9.421875 \r\nQ 21.96875 7.515625 27.59375 7.515625 \r\nL 36.8125 7.515625 \r\nL 36.8125 0 \r\nL 27.59375 0 \r\nQ 17.1875 0 13.234375 3.875 \r\nQ 9.28125 7.765625 9.28125 18.015625 \r\nL 9.28125 47.703125 \r\nL 2.6875 47.703125 \r\nL 2.6875 54.6875 \r\nL 9.28125 54.6875 \r\nL 9.28125 70.21875 \r\nz\r\n\" id=\"DejaVuSans-116\"/>\r\n       <path d=\"M 30.609375 48.390625 \r\nQ 23.390625 48.390625 19.1875 42.75 \r\nQ 14.984375 37.109375 14.984375 27.296875 \r\nQ 14.984375 17.484375 19.15625 11.84375 \r\nQ 23.34375 6.203125 30.609375 6.203125 \r\nQ 37.796875 6.203125 41.984375 11.859375 \r\nQ 46.1875 17.53125 46.1875 27.296875 \r\nQ 46.1875 37.015625 41.984375 42.703125 \r\nQ 37.796875 48.390625 30.609375 48.390625 \r\nz\r\nM 30.609375 56 \r\nQ 42.328125 56 49.015625 48.375 \r\nQ 55.71875 40.765625 55.71875 27.296875 \r\nQ 55.71875 13.875 49.015625 6.21875 \r\nQ 42.328125 -1.421875 30.609375 -1.421875 \r\nQ 18.84375 -1.421875 12.171875 6.21875 \r\nQ 5.515625 13.875 5.515625 27.296875 \r\nQ 5.515625 40.765625 12.171875 48.375 \r\nQ 18.84375 56 30.609375 56 \r\nz\r\n\" id=\"DejaVuSans-111\"/>\r\n       <path d=\"M 44.28125 53.078125 \r\nL 44.28125 44.578125 \r\nQ 40.484375 46.53125 36.375 47.5 \r\nQ 32.28125 48.484375 27.875 48.484375 \r\nQ 21.1875 48.484375 17.84375 46.4375 \r\nQ 14.5 44.390625 14.5 40.28125 \r\nQ 14.5 37.15625 16.890625 35.375 \r\nQ 19.28125 33.59375 26.515625 31.984375 \r\nL 29.59375 31.296875 \r\nQ 39.15625 29.25 43.1875 25.515625 \r\nQ 47.21875 21.78125 47.21875 15.09375 \r\nQ 47.21875 7.46875 41.1875 3.015625 \r\nQ 35.15625 -1.421875 24.609375 -1.421875 \r\nQ 20.21875 -1.421875 15.453125 -0.5625 \r\nQ 10.6875 0.296875 5.421875 2 \r\nL 5.421875 11.28125 \r\nQ 10.40625 8.6875 15.234375 7.390625 \r\nQ 20.0625 6.109375 24.8125 6.109375 \r\nQ 31.15625 6.109375 34.5625 8.28125 \r\nQ 37.984375 10.453125 37.984375 14.40625 \r\nQ 37.984375 18.0625 35.515625 20.015625 \r\nQ 33.0625 21.96875 24.703125 23.78125 \r\nL 21.578125 24.515625 \r\nQ 13.234375 26.265625 9.515625 29.90625 \r\nQ 5.8125 33.546875 5.8125 39.890625 \r\nQ 5.8125 47.609375 11.28125 51.796875 \r\nQ 16.75 56 26.8125 56 \r\nQ 31.78125 56 36.171875 55.265625 \r\nQ 40.578125 54.546875 44.28125 53.078125 \r\nz\r\n\" id=\"DejaVuSans-115\"/>\r\n      </defs>\r\n      <use xlink:href=\"#DejaVuSans-83\"/>\r\n      <use x=\"63.476562\" xlink:href=\"#DejaVuSans-101\"/>\r\n      <use x=\"125\" xlink:href=\"#DejaVuSans-97\"/>\r\n      <use x=\"186.279297\" xlink:href=\"#DejaVuSans-114\"/>\r\n      <use x=\"225.142578\" xlink:href=\"#DejaVuSans-99\"/>\r\n      <use x=\"280.123047\" xlink:href=\"#DejaVuSans-104\"/>\r\n      <use x=\"343.501953\" xlink:href=\"#DejaVuSans-32\"/>\r\n      <use x=\"375.289062\" xlink:href=\"#DejaVuSans-102\"/>\r\n      <use x=\"410.494141\" xlink:href=\"#DejaVuSans-117\"/>\r\n      <use x=\"473.873047\" xlink:href=\"#DejaVuSans-110\"/>\r\n      <use x=\"537.251953\" xlink:href=\"#DejaVuSans-99\"/>\r\n      <use x=\"592.232422\" xlink:href=\"#DejaVuSans-116\"/>\r\n      <use x=\"631.441406\" xlink:href=\"#DejaVuSans-105\"/>\r\n      <use x=\"659.224609\" xlink:href=\"#DejaVuSans-111\"/>\r\n      <use x=\"720.40625\" xlink:href=\"#DejaVuSans-110\"/>\r\n      <use x=\"783.785156\" xlink:href=\"#DejaVuSans-115\"/>\r\n     </g>\r\n    </g>\r\n   </g>\r\n   <g id=\"matplotlib.axis_2\">\r\n    <g id=\"ytick_1\">\r\n     <g id=\"line2d_6\">\r\n      <defs>\r\n       <path d=\"M 0 0 \r\nL -3.5 0 \r\n\" id=\"m93d3ffb885\" style=\"stroke:#000000;stroke-width:0.8;\"/>\r\n      </defs>\r\n      <g>\r\n       <use style=\"stroke:#000000;stroke-width:0.8;\" x=\"50.14375\" xlink:href=\"#m93d3ffb885\" y=\"241.718125\"/>\r\n      </g>\r\n     </g>\r\n     <g id=\"text_7\">\r\n      <!-- 0.00 -->\r\n      <g transform=\"translate(20.878125 245.517344)scale(0.1 -0.1)\">\r\n       <defs>\r\n        <path d=\"M 31.78125 66.40625 \r\nQ 24.171875 66.40625 20.328125 58.90625 \r\nQ 16.5 51.421875 16.5 36.375 \r\nQ 16.5 21.390625 20.328125 13.890625 \r\nQ 24.171875 6.390625 31.78125 6.390625 \r\nQ 39.453125 6.390625 43.28125 13.890625 \r\nQ 47.125 21.390625 47.125 36.375 \r\nQ 47.125 51.421875 43.28125 58.90625 \r\nQ 39.453125 66.40625 31.78125 66.40625 \r\nz\r\nM 31.78125 74.21875 \r\nQ 44.046875 74.21875 50.515625 64.515625 \r\nQ 56.984375 54.828125 56.984375 36.375 \r\nQ 56.984375 17.96875 50.515625 8.265625 \r\nQ 44.046875 -1.421875 31.78125 -1.421875 \r\nQ 19.53125 -1.421875 13.0625 8.265625 \r\nQ 6.59375 17.96875 6.59375 36.375 \r\nQ 6.59375 54.828125 13.0625 64.515625 \r\nQ 19.53125 74.21875 31.78125 74.21875 \r\nz\r\n\" id=\"DejaVuSans-48\"/>\r\n        <path d=\"M 10.6875 12.40625 \r\nL 21 12.40625 \r\nL 21 0 \r\nL 10.6875 0 \r\nz\r\n\" id=\"DejaVuSans-46\"/>\r\n       </defs>\r\n       <use xlink:href=\"#DejaVuSans-48\"/>\r\n       <use x=\"63.623047\" xlink:href=\"#DejaVuSans-46\"/>\r\n       <use x=\"95.410156\" xlink:href=\"#DejaVuSans-48\"/>\r\n       <use x=\"159.033203\" xlink:href=\"#DejaVuSans-48\"/>\r\n      </g>\r\n     </g>\r\n    </g>\r\n    <g id=\"ytick_2\">\r\n     <g id=\"line2d_7\">\r\n      <g>\r\n       <use style=\"stroke:#000000;stroke-width:0.8;\" x=\"50.14375\" xlink:href=\"#m93d3ffb885\" y=\"211.867787\"/>\r\n      </g>\r\n     </g>\r\n     <g id=\"text_8\">\r\n      <!-- 0.05 -->\r\n      <g transform=\"translate(20.878125 215.667006)scale(0.1 -0.1)\">\r\n       <use xlink:href=\"#DejaVuSans-48\"/>\r\n       <use x=\"63.623047\" xlink:href=\"#DejaVuSans-46\"/>\r\n       <use x=\"95.410156\" xlink:href=\"#DejaVuSans-48\"/>\r\n       <use x=\"159.033203\" xlink:href=\"#DejaVuSans-53\"/>\r\n      </g>\r\n     </g>\r\n    </g>\r\n    <g id=\"ytick_3\">\r\n     <g id=\"line2d_8\">\r\n      <g>\r\n       <use style=\"stroke:#000000;stroke-width:0.8;\" x=\"50.14375\" xlink:href=\"#m93d3ffb885\" y=\"182.017449\"/>\r\n      </g>\r\n     </g>\r\n     <g id=\"text_9\">\r\n      <!-- 0.10 -->\r\n      <g transform=\"translate(20.878125 185.816668)scale(0.1 -0.1)\">\r\n       <defs>\r\n        <path d=\"M 12.40625 8.296875 \r\nL 28.515625 8.296875 \r\nL 28.515625 63.921875 \r\nL 10.984375 60.40625 \r\nL 10.984375 69.390625 \r\nL 28.421875 72.90625 \r\nL 38.28125 72.90625 \r\nL 38.28125 8.296875 \r\nL 54.390625 8.296875 \r\nL 54.390625 0 \r\nL 12.40625 0 \r\nz\r\n\" id=\"DejaVuSans-49\"/>\r\n       </defs>\r\n       <use xlink:href=\"#DejaVuSans-48\"/>\r\n       <use x=\"63.623047\" xlink:href=\"#DejaVuSans-46\"/>\r\n       <use x=\"95.410156\" xlink:href=\"#DejaVuSans-49\"/>\r\n       <use x=\"159.033203\" xlink:href=\"#DejaVuSans-48\"/>\r\n      </g>\r\n     </g>\r\n    </g>\r\n    <g id=\"ytick_4\">\r\n     <g id=\"line2d_9\">\r\n      <g>\r\n       <use style=\"stroke:#000000;stroke-width:0.8;\" x=\"50.14375\" xlink:href=\"#m93d3ffb885\" y=\"152.167111\"/>\r\n      </g>\r\n     </g>\r\n     <g id=\"text_10\">\r\n      <!-- 0.15 -->\r\n      <g transform=\"translate(20.878125 155.966329)scale(0.1 -0.1)\">\r\n       <use xlink:href=\"#DejaVuSans-48\"/>\r\n       <use x=\"63.623047\" xlink:href=\"#DejaVuSans-46\"/>\r\n       <use x=\"95.410156\" xlink:href=\"#DejaVuSans-49\"/>\r\n       <use x=\"159.033203\" xlink:href=\"#DejaVuSans-53\"/>\r\n      </g>\r\n     </g>\r\n    </g>\r\n    <g id=\"ytick_5\">\r\n     <g id=\"line2d_10\">\r\n      <g>\r\n       <use style=\"stroke:#000000;stroke-width:0.8;\" x=\"50.14375\" xlink:href=\"#m93d3ffb885\" y=\"122.316773\"/>\r\n      </g>\r\n     </g>\r\n     <g id=\"text_11\">\r\n      <!-- 0.20 -->\r\n      <g transform=\"translate(20.878125 126.115991)scale(0.1 -0.1)\">\r\n       <use xlink:href=\"#DejaVuSans-48\"/>\r\n       <use x=\"63.623047\" xlink:href=\"#DejaVuSans-46\"/>\r\n       <use x=\"95.410156\" xlink:href=\"#DejaVuSans-50\"/>\r\n       <use x=\"159.033203\" xlink:href=\"#DejaVuSans-48\"/>\r\n      </g>\r\n     </g>\r\n    </g>\r\n    <g id=\"ytick_6\">\r\n     <g id=\"line2d_11\">\r\n      <g>\r\n       <use style=\"stroke:#000000;stroke-width:0.8;\" x=\"50.14375\" xlink:href=\"#m93d3ffb885\" y=\"92.466434\"/>\r\n      </g>\r\n     </g>\r\n     <g id=\"text_12\">\r\n      <!-- 0.25 -->\r\n      <g transform=\"translate(20.878125 96.265653)scale(0.1 -0.1)\">\r\n       <use xlink:href=\"#DejaVuSans-48\"/>\r\n       <use x=\"63.623047\" xlink:href=\"#DejaVuSans-46\"/>\r\n       <use x=\"95.410156\" xlink:href=\"#DejaVuSans-50\"/>\r\n       <use x=\"159.033203\" xlink:href=\"#DejaVuSans-53\"/>\r\n      </g>\r\n     </g>\r\n    </g>\r\n    <g id=\"ytick_7\">\r\n     <g id=\"line2d_12\">\r\n      <g>\r\n       <use style=\"stroke:#000000;stroke-width:0.8;\" x=\"50.14375\" xlink:href=\"#m93d3ffb885\" y=\"62.616096\"/>\r\n      </g>\r\n     </g>\r\n     <g id=\"text_13\">\r\n      <!-- 0.30 -->\r\n      <g transform=\"translate(20.878125 66.415315)scale(0.1 -0.1)\">\r\n       <defs>\r\n        <path d=\"M 40.578125 39.3125 \r\nQ 47.65625 37.796875 51.625 33 \r\nQ 55.609375 28.21875 55.609375 21.1875 \r\nQ 55.609375 10.40625 48.1875 4.484375 \r\nQ 40.765625 -1.421875 27.09375 -1.421875 \r\nQ 22.515625 -1.421875 17.65625 -0.515625 \r\nQ 12.796875 0.390625 7.625 2.203125 \r\nL 7.625 11.71875 \r\nQ 11.71875 9.328125 16.59375 8.109375 \r\nQ 21.484375 6.890625 26.8125 6.890625 \r\nQ 36.078125 6.890625 40.9375 10.546875 \r\nQ 45.796875 14.203125 45.796875 21.1875 \r\nQ 45.796875 27.640625 41.28125 31.265625 \r\nQ 36.765625 34.90625 28.71875 34.90625 \r\nL 20.21875 34.90625 \r\nL 20.21875 43.015625 \r\nL 29.109375 43.015625 \r\nQ 36.375 43.015625 40.234375 45.921875 \r\nQ 44.09375 48.828125 44.09375 54.296875 \r\nQ 44.09375 59.90625 40.109375 62.90625 \r\nQ 36.140625 65.921875 28.71875 65.921875 \r\nQ 24.65625 65.921875 20.015625 65.03125 \r\nQ 15.375 64.15625 9.8125 62.3125 \r\nL 9.8125 71.09375 \r\nQ 15.4375 72.65625 20.34375 73.4375 \r\nQ 25.25 74.21875 29.59375 74.21875 \r\nQ 40.828125 74.21875 47.359375 69.109375 \r\nQ 53.90625 64.015625 53.90625 55.328125 \r\nQ 53.90625 49.265625 50.4375 45.09375 \r\nQ 46.96875 40.921875 40.578125 39.3125 \r\nz\r\n\" id=\"DejaVuSans-51\"/>\r\n       </defs>\r\n       <use xlink:href=\"#DejaVuSans-48\"/>\r\n       <use x=\"63.623047\" xlink:href=\"#DejaVuSans-46\"/>\r\n       <use x=\"95.410156\" xlink:href=\"#DejaVuSans-51\"/>\r\n       <use x=\"159.033203\" xlink:href=\"#DejaVuSans-48\"/>\r\n      </g>\r\n     </g>\r\n    </g>\r\n    <g id=\"ytick_8\">\r\n     <g id=\"line2d_13\">\r\n      <g>\r\n       <use style=\"stroke:#000000;stroke-width:0.8;\" x=\"50.14375\" xlink:href=\"#m93d3ffb885\" y=\"32.765758\"/>\r\n      </g>\r\n     </g>\r\n     <g id=\"text_14\">\r\n      <!-- 0.35 -->\r\n      <g transform=\"translate(20.878125 36.564977)scale(0.1 -0.1)\">\r\n       <use xlink:href=\"#DejaVuSans-48\"/>\r\n       <use x=\"63.623047\" xlink:href=\"#DejaVuSans-46\"/>\r\n       <use x=\"95.410156\" xlink:href=\"#DejaVuSans-51\"/>\r\n       <use x=\"159.033203\" xlink:href=\"#DejaVuSans-53\"/>\r\n      </g>\r\n     </g>\r\n    </g>\r\n    <g id=\"text_15\">\r\n     <!-- Results -->\r\n     <g transform=\"translate(14.798438 150.07125)rotate(-90)scale(0.1 -0.1)\">\r\n      <defs>\r\n       <path d=\"M 44.390625 34.1875 \r\nQ 47.5625 33.109375 50.5625 29.59375 \r\nQ 53.5625 26.078125 56.59375 19.921875 \r\nL 66.609375 0 \r\nL 56 0 \r\nL 46.6875 18.703125 \r\nQ 43.0625 26.03125 39.671875 28.421875 \r\nQ 36.28125 30.8125 30.421875 30.8125 \r\nL 19.671875 30.8125 \r\nL 19.671875 0 \r\nL 9.8125 0 \r\nL 9.8125 72.90625 \r\nL 32.078125 72.90625 \r\nQ 44.578125 72.90625 50.734375 67.671875 \r\nQ 56.890625 62.453125 56.890625 51.90625 \r\nQ 56.890625 45.015625 53.6875 40.46875 \r\nQ 50.484375 35.9375 44.390625 34.1875 \r\nz\r\nM 19.671875 64.796875 \r\nL 19.671875 38.921875 \r\nL 32.078125 38.921875 \r\nQ 39.203125 38.921875 42.84375 42.21875 \r\nQ 46.484375 45.515625 46.484375 51.90625 \r\nQ 46.484375 58.296875 42.84375 61.546875 \r\nQ 39.203125 64.796875 32.078125 64.796875 \r\nz\r\n\" id=\"DejaVuSans-82\"/>\r\n       <path d=\"M 9.421875 75.984375 \r\nL 18.40625 75.984375 \r\nL 18.40625 0 \r\nL 9.421875 0 \r\nz\r\n\" id=\"DejaVuSans-108\"/>\r\n      </defs>\r\n      <use xlink:href=\"#DejaVuSans-82\"/>\r\n      <use x=\"64.982422\" xlink:href=\"#DejaVuSans-101\"/>\r\n      <use x=\"126.505859\" xlink:href=\"#DejaVuSans-115\"/>\r\n      <use x=\"178.605469\" xlink:href=\"#DejaVuSans-117\"/>\r\n      <use x=\"241.984375\" xlink:href=\"#DejaVuSans-108\"/>\r\n      <use x=\"269.767578\" xlink:href=\"#DejaVuSans-116\"/>\r\n      <use x=\"308.976562\" xlink:href=\"#DejaVuSans-115\"/>\r\n     </g>\r\n    </g>\r\n   </g>\r\n   <g id=\"patch_13\">\r\n    <path d=\"M 50.14375 241.718125 \r\nL 50.14375 22.318125 \r\n\" style=\"fill:none;stroke:#000000;stroke-linecap:square;stroke-linejoin:miter;stroke-width:0.8;\"/>\r\n   </g>\r\n   <g id=\"patch_14\">\r\n    <path d=\"M 417.29375 241.718125 \r\nL 417.29375 22.318125 \r\n\" style=\"fill:none;stroke:#000000;stroke-linecap:square;stroke-linejoin:miter;stroke-width:0.8;\"/>\r\n   </g>\r\n   <g id=\"patch_15\">\r\n    <path d=\"M 50.14375 241.718125 \r\nL 417.29375 241.718125 \r\n\" style=\"fill:none;stroke:#000000;stroke-linecap:square;stroke-linejoin:miter;stroke-width:0.8;\"/>\r\n   </g>\r\n   <g id=\"patch_16\">\r\n    <path d=\"M 50.14375 22.318125 \r\nL 417.29375 22.318125 \r\n\" style=\"fill:none;stroke:#000000;stroke-linecap:square;stroke-linejoin:miter;stroke-width:0.8;\"/>\r\n   </g>\r\n   <g id=\"text_16\">\r\n    <!-- Results using Precision@5 metric -->\r\n    <g transform=\"translate(134.220937 16.318125)scale(0.12 -0.12)\">\r\n     <defs>\r\n      <path d=\"M 45.40625 27.984375 \r\nQ 45.40625 37.75 41.375 43.109375 \r\nQ 37.359375 48.484375 30.078125 48.484375 \r\nQ 22.859375 48.484375 18.828125 43.109375 \r\nQ 14.796875 37.75 14.796875 27.984375 \r\nQ 14.796875 18.265625 18.828125 12.890625 \r\nQ 22.859375 7.515625 30.078125 7.515625 \r\nQ 37.359375 7.515625 41.375 12.890625 \r\nQ 45.40625 18.265625 45.40625 27.984375 \r\nz\r\nM 54.390625 6.78125 \r\nQ 54.390625 -7.171875 48.1875 -13.984375 \r\nQ 42 -20.796875 29.203125 -20.796875 \r\nQ 24.46875 -20.796875 20.265625 -20.09375 \r\nQ 16.0625 -19.390625 12.109375 -17.921875 \r\nL 12.109375 -9.1875 \r\nQ 16.0625 -11.328125 19.921875 -12.34375 \r\nQ 23.78125 -13.375 27.78125 -13.375 \r\nQ 36.625 -13.375 41.015625 -8.765625 \r\nQ 45.40625 -4.15625 45.40625 5.171875 \r\nL 45.40625 9.625 \r\nQ 42.625 4.78125 38.28125 2.390625 \r\nQ 33.9375 0 27.875 0 \r\nQ 17.828125 0 11.671875 7.65625 \r\nQ 5.515625 15.328125 5.515625 27.984375 \r\nQ 5.515625 40.671875 11.671875 48.328125 \r\nQ 17.828125 56 27.875 56 \r\nQ 33.9375 56 38.28125 53.609375 \r\nQ 42.625 51.21875 45.40625 46.390625 \r\nL 45.40625 54.6875 \r\nL 54.390625 54.6875 \r\nz\r\n\" id=\"DejaVuSans-103\"/>\r\n      <path d=\"M 19.671875 64.796875 \r\nL 19.671875 37.40625 \r\nL 32.078125 37.40625 \r\nQ 38.96875 37.40625 42.71875 40.96875 \r\nQ 46.484375 44.53125 46.484375 51.125 \r\nQ 46.484375 57.671875 42.71875 61.234375 \r\nQ 38.96875 64.796875 32.078125 64.796875 \r\nz\r\nM 9.8125 72.90625 \r\nL 32.078125 72.90625 \r\nQ 44.34375 72.90625 50.609375 67.359375 \r\nQ 56.890625 61.8125 56.890625 51.125 \r\nQ 56.890625 40.328125 50.609375 34.8125 \r\nQ 44.34375 29.296875 32.078125 29.296875 \r\nL 19.671875 29.296875 \r\nL 19.671875 0 \r\nL 9.8125 0 \r\nz\r\n\" id=\"DejaVuSans-80\"/>\r\n      <path d=\"M 37.203125 26.21875 \r\nQ 37.203125 19.234375 40.671875 15.25 \r\nQ 44.140625 11.28125 50.203125 11.28125 \r\nQ 56.203125 11.28125 59.640625 15.28125 \r\nQ 63.09375 19.28125 63.09375 26.21875 \r\nQ 63.09375 33.0625 59.578125 37.078125 \r\nQ 56.0625 41.109375 50.09375 41.109375 \r\nQ 44.1875 41.109375 40.6875 37.109375 \r\nQ 37.203125 33.109375 37.203125 26.21875 \r\nz\r\nM 63.8125 11.625 \r\nQ 60.890625 7.859375 57.109375 6.078125 \r\nQ 53.328125 4.296875 48.296875 4.296875 \r\nQ 39.890625 4.296875 34.640625 10.375 \r\nQ 29.390625 16.453125 29.390625 26.21875 \r\nQ 29.390625 35.984375 34.65625 42.078125 \r\nQ 39.9375 48.1875 48.296875 48.1875 \r\nQ 53.328125 48.1875 57.125 46.359375 \r\nQ 60.9375 44.53125 63.8125 40.828125 \r\nL 63.8125 47.21875 \r\nL 70.796875 47.21875 \r\nL 70.796875 11.28125 \r\nQ 77.9375 12.359375 81.953125 17.796875 \r\nQ 85.984375 23.25 85.984375 31.890625 \r\nQ 85.984375 37.109375 84.4375 41.703125 \r\nQ 82.90625 46.296875 79.78125 50.203125 \r\nQ 74.703125 56.59375 67.40625 59.984375 \r\nQ 60.109375 63.375 51.515625 63.375 \r\nQ 45.515625 63.375 39.984375 61.78125 \r\nQ 34.46875 60.203125 29.78125 57.078125 \r\nQ 22.125 52.09375 17.796875 44.015625 \r\nQ 13.484375 35.9375 13.484375 26.515625 \r\nQ 13.484375 18.75 16.28125 11.953125 \r\nQ 19.09375 5.171875 24.421875 0 \r\nQ 29.546875 -5.078125 36.28125 -7.734375 \r\nQ 43.015625 -10.40625 50.6875 -10.40625 \r\nQ 56.984375 -10.40625 63.0625 -8.28125 \r\nQ 69.140625 -6.15625 74.21875 -2.203125 \r\nL 78.609375 -7.625 \r\nQ 72.515625 -12.359375 65.3125 -14.875 \r\nQ 58.109375 -17.390625 50.6875 -17.390625 \r\nQ 41.65625 -17.390625 33.640625 -14.1875 \r\nQ 25.640625 -10.984375 19.390625 -4.890625 \r\nQ 13.140625 1.21875 9.859375 9.25 \r\nQ 6.59375 17.28125 6.59375 26.515625 \r\nQ 6.59375 35.40625 9.90625 43.453125 \r\nQ 13.234375 51.515625 19.390625 57.625 \r\nQ 25.6875 63.8125 33.9375 67.109375 \r\nQ 42.1875 70.40625 51.421875 70.40625 \r\nQ 61.765625 70.40625 70.625 66.15625 \r\nQ 79.5 61.921875 85.5 54.109375 \r\nQ 89.15625 49.3125 91.078125 43.703125 \r\nQ 93.015625 38.09375 93.015625 32.078125 \r\nQ 93.015625 19.234375 85.25 11.8125 \r\nQ 77.484375 4.390625 63.8125 4.109375 \r\nz\r\n\" id=\"DejaVuSans-64\"/>\r\n      <path d=\"M 52 44.1875 \r\nQ 55.375 50.25 60.0625 53.125 \r\nQ 64.75 56 71.09375 56 \r\nQ 79.640625 56 84.28125 50.015625 \r\nQ 88.921875 44.046875 88.921875 33.015625 \r\nL 88.921875 0 \r\nL 79.890625 0 \r\nL 79.890625 32.71875 \r\nQ 79.890625 40.578125 77.09375 44.375 \r\nQ 74.3125 48.1875 68.609375 48.1875 \r\nQ 61.625 48.1875 57.5625 43.546875 \r\nQ 53.515625 38.921875 53.515625 30.90625 \r\nL 53.515625 0 \r\nL 44.484375 0 \r\nL 44.484375 32.71875 \r\nQ 44.484375 40.625 41.703125 44.40625 \r\nQ 38.921875 48.1875 33.109375 48.1875 \r\nQ 26.21875 48.1875 22.15625 43.53125 \r\nQ 18.109375 38.875 18.109375 30.90625 \r\nL 18.109375 0 \r\nL 9.078125 0 \r\nL 9.078125 54.6875 \r\nL 18.109375 54.6875 \r\nL 18.109375 46.1875 \r\nQ 21.1875 51.21875 25.484375 53.609375 \r\nQ 29.78125 56 35.6875 56 \r\nQ 41.65625 56 45.828125 52.96875 \r\nQ 50 49.953125 52 44.1875 \r\nz\r\n\" id=\"DejaVuSans-109\"/>\r\n     </defs>\r\n     <use xlink:href=\"#DejaVuSans-82\"/>\r\n     <use x=\"64.982422\" xlink:href=\"#DejaVuSans-101\"/>\r\n     <use x=\"126.505859\" xlink:href=\"#DejaVuSans-115\"/>\r\n     <use x=\"178.605469\" xlink:href=\"#DejaVuSans-117\"/>\r\n     <use x=\"241.984375\" xlink:href=\"#DejaVuSans-108\"/>\r\n     <use x=\"269.767578\" xlink:href=\"#DejaVuSans-116\"/>\r\n     <use x=\"308.976562\" xlink:href=\"#DejaVuSans-115\"/>\r\n     <use x=\"361.076172\" xlink:href=\"#DejaVuSans-32\"/>\r\n     <use x=\"392.863281\" xlink:href=\"#DejaVuSans-117\"/>\r\n     <use x=\"456.242188\" xlink:href=\"#DejaVuSans-115\"/>\r\n     <use x=\"508.341797\" xlink:href=\"#DejaVuSans-105\"/>\r\n     <use x=\"536.125\" xlink:href=\"#DejaVuSans-110\"/>\r\n     <use x=\"599.503906\" xlink:href=\"#DejaVuSans-103\"/>\r\n     <use x=\"662.980469\" xlink:href=\"#DejaVuSans-32\"/>\r\n     <use x=\"694.767578\" xlink:href=\"#DejaVuSans-80\"/>\r\n     <use x=\"753.320312\" xlink:href=\"#DejaVuSans-114\"/>\r\n     <use x=\"792.183594\" xlink:href=\"#DejaVuSans-101\"/>\r\n     <use x=\"853.707031\" xlink:href=\"#DejaVuSans-99\"/>\r\n     <use x=\"908.6875\" xlink:href=\"#DejaVuSans-105\"/>\r\n     <use x=\"936.470703\" xlink:href=\"#DejaVuSans-115\"/>\r\n     <use x=\"988.570312\" xlink:href=\"#DejaVuSans-105\"/>\r\n     <use x=\"1016.353516\" xlink:href=\"#DejaVuSans-111\"/>\r\n     <use x=\"1077.535156\" xlink:href=\"#DejaVuSans-110\"/>\r\n     <use x=\"1140.914062\" xlink:href=\"#DejaVuSans-64\"/>\r\n     <use x=\"1240.914062\" xlink:href=\"#DejaVuSans-53\"/>\r\n     <use x=\"1304.537109\" xlink:href=\"#DejaVuSans-32\"/>\r\n     <use x=\"1336.324219\" xlink:href=\"#DejaVuSans-109\"/>\r\n     <use x=\"1433.736328\" xlink:href=\"#DejaVuSans-101\"/>\r\n     <use x=\"1495.259766\" xlink:href=\"#DejaVuSans-116\"/>\r\n     <use x=\"1534.46875\" xlink:href=\"#DejaVuSans-114\"/>\r\n     <use x=\"1575.582031\" xlink:href=\"#DejaVuSans-105\"/>\r\n     <use x=\"1603.365234\" xlink:href=\"#DejaVuSans-99\"/>\r\n    </g>\r\n   </g>\r\n   <g id=\"legend_1\">\r\n    <g id=\"patch_17\">\r\n     <path d=\"M 57.14375 59.674375 \r\nL 156.235938 59.674375 \r\nQ 158.235938 59.674375 158.235938 57.674375 \r\nL 158.235938 29.318125 \r\nQ 158.235938 27.318125 156.235938 27.318125 \r\nL 57.14375 27.318125 \r\nQ 55.14375 27.318125 55.14375 29.318125 \r\nL 55.14375 57.674375 \r\nQ 55.14375 59.674375 57.14375 59.674375 \r\nz\r\n\" style=\"fill:#ffffff;opacity:0.8;stroke:#cccccc;stroke-linejoin:miter;\"/>\r\n    </g>\r\n    <g id=\"patch_18\">\r\n     <path d=\"M 59.14375 38.916562 \r\nL 79.14375 38.916562 \r\nL 79.14375 31.916562 \r\nL 59.14375 31.916562 \r\nz\r\n\" style=\"fill:#0000ff;opacity:0.8;\"/>\r\n    </g>\r\n    <g id=\"text_17\">\r\n     <!-- Index set = 1 -->\r\n     <g transform=\"translate(87.14375 38.916562)scale(0.1 -0.1)\">\r\n      <defs>\r\n       <path d=\"M 45.40625 46.390625 \r\nL 45.40625 75.984375 \r\nL 54.390625 75.984375 \r\nL 54.390625 0 \r\nL 45.40625 0 \r\nL 45.40625 8.203125 \r\nQ 42.578125 3.328125 38.25 0.953125 \r\nQ 33.9375 -1.421875 27.875 -1.421875 \r\nQ 17.96875 -1.421875 11.734375 6.484375 \r\nQ 5.515625 14.40625 5.515625 27.296875 \r\nQ 5.515625 40.1875 11.734375 48.09375 \r\nQ 17.96875 56 27.875 56 \r\nQ 33.9375 56 38.25 53.625 \r\nQ 42.578125 51.265625 45.40625 46.390625 \r\nz\r\nM 14.796875 27.296875 \r\nQ 14.796875 17.390625 18.875 11.75 \r\nQ 22.953125 6.109375 30.078125 6.109375 \r\nQ 37.203125 6.109375 41.296875 11.75 \r\nQ 45.40625 17.390625 45.40625 27.296875 \r\nQ 45.40625 37.203125 41.296875 42.84375 \r\nQ 37.203125 48.484375 30.078125 48.484375 \r\nQ 22.953125 48.484375 18.875 42.84375 \r\nQ 14.796875 37.203125 14.796875 27.296875 \r\nz\r\n\" id=\"DejaVuSans-100\"/>\r\n       <path d=\"M 54.890625 54.6875 \r\nL 35.109375 28.078125 \r\nL 55.90625 0 \r\nL 45.3125 0 \r\nL 29.390625 21.484375 \r\nL 13.484375 0 \r\nL 2.875 0 \r\nL 24.125 28.609375 \r\nL 4.6875 54.6875 \r\nL 15.28125 54.6875 \r\nL 29.78125 35.203125 \r\nL 44.28125 54.6875 \r\nz\r\n\" id=\"DejaVuSans-120\"/>\r\n       <path d=\"M 10.59375 45.40625 \r\nL 73.1875 45.40625 \r\nL 73.1875 37.203125 \r\nL 10.59375 37.203125 \r\nz\r\nM 10.59375 25.484375 \r\nL 73.1875 25.484375 \r\nL 73.1875 17.1875 \r\nL 10.59375 17.1875 \r\nz\r\n\" id=\"DejaVuSans-61\"/>\r\n      </defs>\r\n      <use xlink:href=\"#DejaVuSans-73\"/>\r\n      <use x=\"29.492188\" xlink:href=\"#DejaVuSans-110\"/>\r\n      <use x=\"92.871094\" xlink:href=\"#DejaVuSans-100\"/>\r\n      <use x=\"156.347656\" xlink:href=\"#DejaVuSans-101\"/>\r\n      <use x=\"216.121094\" xlink:href=\"#DejaVuSans-120\"/>\r\n      <use x=\"275.300781\" xlink:href=\"#DejaVuSans-32\"/>\r\n      <use x=\"307.087891\" xlink:href=\"#DejaVuSans-115\"/>\r\n      <use x=\"359.1875\" xlink:href=\"#DejaVuSans-101\"/>\r\n      <use x=\"420.710938\" xlink:href=\"#DejaVuSans-116\"/>\r\n      <use x=\"459.919922\" xlink:href=\"#DejaVuSans-32\"/>\r\n      <use x=\"491.707031\" xlink:href=\"#DejaVuSans-61\"/>\r\n      <use x=\"575.496094\" xlink:href=\"#DejaVuSans-32\"/>\r\n      <use x=\"607.283203\" xlink:href=\"#DejaVuSans-49\"/>\r\n     </g>\r\n    </g>\r\n    <g id=\"patch_19\">\r\n     <path d=\"M 59.14375 53.594687 \r\nL 79.14375 53.594687 \r\nL 79.14375 46.594687 \r\nL 59.14375 46.594687 \r\nz\r\n\" style=\"fill:#008000;opacity:0.8;\"/>\r\n    </g>\r\n    <g id=\"text_18\">\r\n     <!-- Index set = 2 -->\r\n     <g transform=\"translate(87.14375 53.594687)scale(0.1 -0.1)\">\r\n      <use xlink:href=\"#DejaVuSans-73\"/>\r\n      <use x=\"29.492188\" xlink:href=\"#DejaVuSans-110\"/>\r\n      <use x=\"92.871094\" xlink:href=\"#DejaVuSans-100\"/>\r\n      <use x=\"156.347656\" xlink:href=\"#DejaVuSans-101\"/>\r\n      <use x=\"216.121094\" xlink:href=\"#DejaVuSans-120\"/>\r\n      <use x=\"275.300781\" xlink:href=\"#DejaVuSans-32\"/>\r\n      <use x=\"307.087891\" xlink:href=\"#DejaVuSans-115\"/>\r\n      <use x=\"359.1875\" xlink:href=\"#DejaVuSans-101\"/>\r\n      <use x=\"420.710938\" xlink:href=\"#DejaVuSans-116\"/>\r\n      <use x=\"459.919922\" xlink:href=\"#DejaVuSans-32\"/>\r\n      <use x=\"491.707031\" xlink:href=\"#DejaVuSans-61\"/>\r\n      <use x=\"575.496094\" xlink:href=\"#DejaVuSans-32\"/>\r\n      <use x=\"607.283203\" xlink:href=\"#DejaVuSans-50\"/>\r\n     </g>\r\n    </g>\r\n   </g>\r\n  </g>\r\n </g>\r\n <defs>\r\n  <clipPath id=\"pa1094c7151\">\r\n   <rect height=\"219.4\" width=\"367.15\" x=\"50.14375\" y=\"22.318125\"/>\r\n  </clipPath>\r\n </defs>\r\n</svg>\r\n",
      "image/png": "[encoded data removed]"
     },
     "metadata": {
      "needs_background": "light"
     }
    },
    {
     "output_type": "display_data",
     "data": {
      "text/plain": "<Figure size 432x288 with 1 Axes>",
      "image/svg+xml": "<?xml version=\"1.0\" encoding=\"utf-8\" standalone=\"no\"?>\r\n<!DOCTYPE svg PUBLIC \"-//W3C//DTD SVG 1.1//EN\"\r\n  \"http://www.w3.org/Graphics/SVG/1.1/DTD/svg11.dtd\">\r\n<!-- Created with matplotlib (https://matplotlib.org/) -->\r\n<svg height=\"306.069702pt\" version=\"1.1\" viewBox=\"0 0 424.49375 306.069702\" width=\"424.49375pt\" xmlns=\"http://www.w3.org/2000/svg\" xmlns:xlink=\"http://www.w3.org/1999/xlink\">\r\n <metadata>\r\n  <rdf:RDF xmlns:cc=\"http://creativecommons.org/ns#\" xmlns:dc=\"http://purl.org/dc/elements/1.1/\" xmlns:rdf=\"http://www.w3.org/1999/02/22-rdf-syntax-ns#\">\r\n   <cc:Work>\r\n    <dc:type rdf:resource=\"http://purl.org/dc/dcmitype/StillImage\"/>\r\n    <dc:date>2021-02-19T17:36:08.480712</dc:date>\r\n    <dc:format>image/svg+xml</dc:format>\r\n    <dc:creator>\r\n     <cc:Agent>\r\n      <dc:title>Matplotlib v3.3.4, https://matplotlib.org/</dc:title>\r\n     </cc:Agent>\r\n    </dc:creator>\r\n   </cc:Work>\r\n  </rdf:RDF>\r\n </metadata>\r\n <defs>\r\n  <style type=\"text/css\">*{stroke-linecap:butt;stroke-linejoin:round;}</style>\r\n </defs>\r\n <g id=\"figure_1\">\r\n  <g id=\"patch_1\">\r\n   <path d=\"M 0 306.069702 \r\nL 424.49375 306.069702 \r\nL 424.49375 0 \r\nL 0 0 \r\nz\r\n\" style=\"fill:none;\"/>\r\n  </g>\r\n  <g id=\"axes_1\">\r\n   <g id=\"patch_2\">\r\n    <path d=\"M 50.14375 241.718125 \r\nL 417.29375 241.718125 \r\nL 417.29375 22.318125 \r\nL 50.14375 22.318125 \r\nz\r\n\" style=\"fill:#ffffff;\"/>\r\n   </g>\r\n   <g id=\"patch_3\">\r\n    <path clip-path=\"url(#p96c1e180bf)\" d=\"M 66.832386 241.718125 \r\nL 91.687802 241.718125 \r\nL 91.687802 135.245577 \r\nL 66.832386 135.245577 \r\nz\r\n\" style=\"fill:#0000ff;opacity:0.8;\"/>\r\n   </g>\r\n   <g id=\"patch_4\">\r\n    <path clip-path=\"url(#p96c1e180bf)\" d=\"M 137.84786 241.718125 \r\nL 162.703276 241.718125 \r\nL 162.703276 120.605598 \r\nL 137.84786 120.605598 \r\nz\r\n\" style=\"fill:#0000ff;opacity:0.8;\"/>\r\n   </g>\r\n   <g id=\"patch_5\">\r\n    <path clip-path=\"url(#p96c1e180bf)\" d=\"M 208.863334 241.718125 \r\nL 233.71875 241.718125 \r\nL 233.71875 235.063591 \r\nL 208.863334 235.063591 \r\nz\r\n\" style=\"fill:#0000ff;opacity:0.8;\"/>\r\n   </g>\r\n   <g id=\"patch_6\">\r\n    <path clip-path=\"url(#p96c1e180bf)\" d=\"M 279.878808 241.718125 \r\nL 304.734224 241.718125 \r\nL 304.734224 107.296531 \r\nL 279.878808 107.296531 \r\nz\r\n\" style=\"fill:#0000ff;opacity:0.8;\"/>\r\n   </g>\r\n   <g id=\"patch_7\">\r\n    <path clip-path=\"url(#p96c1e180bf)\" d=\"M 350.894282 241.718125 \r\nL 375.749698 241.718125 \r\nL 375.749698 75.354759 \r\nL 350.894282 75.354759 \r\nz\r\n\" style=\"fill:#0000ff;opacity:0.8;\"/>\r\n   </g>\r\n   <g id=\"patch_8\">\r\n    <path clip-path=\"url(#p96c1e180bf)\" d=\"M 91.687802 241.718125 \r\nL 116.543218 241.718125 \r\nL 116.543218 133.914665 \r\nL 91.687802 133.914665 \r\nz\r\n\" style=\"fill:#008000;opacity:0.8;\"/>\r\n   </g>\r\n   <g id=\"patch_9\">\r\n    <path clip-path=\"url(#p96c1e180bf)\" d=\"M 162.703276 241.718125 \r\nL 187.558692 241.718125 \r\nL 187.558692 96.649287 \r\nL 162.703276 96.649287 \r\nz\r\n\" style=\"fill:#008000;opacity:0.8;\"/>\r\n   </g>\r\n   <g id=\"patch_10\">\r\n    <path clip-path=\"url(#p96c1e180bf)\" d=\"M 233.71875 241.718125 \r\nL 258.574166 241.718125 \r\nL 258.574166 225.747243 \r\nL 233.71875 225.747243 \r\nz\r\n\" style=\"fill:#008000;opacity:0.8;\"/>\r\n   </g>\r\n   <g id=\"patch_11\">\r\n    <path clip-path=\"url(#p96c1e180bf)\" d=\"M 304.734224 241.718125 \r\nL 329.58964 241.718125 \r\nL 329.58964 67.369329 \r\nL 304.734224 67.369329 \r\nz\r\n\" style=\"fill:#008000;opacity:0.8;\"/>\r\n   </g>\r\n   <g id=\"patch_12\">\r\n    <path clip-path=\"url(#p96c1e180bf)\" d=\"M 375.749698 241.718125 \r\nL 400.605114 241.718125 \r\nL 400.605114 32.765744 \r\nL 375.749698 32.765744 \r\nz\r\n\" style=\"fill:#008000;opacity:0.8;\"/>\r\n   </g>\r\n   <g id=\"matplotlib.axis_1\">\r\n    <g id=\"xtick_1\">\r\n     <g id=\"line2d_1\">\r\n      <defs>\r\n       <path d=\"M 0 0 \r\nL 0 3.5 \r\n\" id=\"maa934079ac\" style=\"stroke:#000000;stroke-width:0.8;\"/>\r\n      </defs>\r\n      <g>\r\n       <use style=\"stroke:#000000;stroke-width:0.8;\" x=\"104.11551\" xlink:href=\"#maa934079ac\" y=\"241.718125\"/>\r\n      </g>\r\n     </g>\r\n     <g id=\"text_1\">\r\n      <!-- BOW -->\r\n      <g transform=\"translate(97.42396 271.376478)rotate(-45)scale(0.1 -0.1)\">\r\n       <defs>\r\n        <path d=\"M 19.671875 34.8125 \r\nL 19.671875 8.109375 \r\nL 35.5 8.109375 \r\nQ 43.453125 8.109375 47.28125 11.40625 \r\nQ 51.125 14.703125 51.125 21.484375 \r\nQ 51.125 28.328125 47.28125 31.5625 \r\nQ 43.453125 34.8125 35.5 34.8125 \r\nz\r\nM 19.671875 64.796875 \r\nL 19.671875 42.828125 \r\nL 34.28125 42.828125 \r\nQ 41.5 42.828125 45.03125 45.53125 \r\nQ 48.578125 48.25 48.578125 53.8125 \r\nQ 48.578125 59.328125 45.03125 62.0625 \r\nQ 41.5 64.796875 34.28125 64.796875 \r\nz\r\nM 9.8125 72.90625 \r\nL 35.015625 72.90625 \r\nQ 46.296875 72.90625 52.390625 68.21875 \r\nQ 58.5 63.53125 58.5 54.890625 \r\nQ 58.5 48.1875 55.375 44.234375 \r\nQ 52.25 40.28125 46.1875 39.3125 \r\nQ 53.46875 37.75 57.5 32.78125 \r\nQ 61.53125 27.828125 61.53125 20.40625 \r\nQ 61.53125 10.640625 54.890625 5.3125 \r\nQ 48.25 0 35.984375 0 \r\nL 9.8125 0 \r\nz\r\n\" id=\"DejaVuSans-66\"/>\r\n        <path d=\"M 39.40625 66.21875 \r\nQ 28.65625 66.21875 22.328125 58.203125 \r\nQ 16.015625 50.203125 16.015625 36.375 \r\nQ 16.015625 22.609375 22.328125 14.59375 \r\nQ 28.65625 6.59375 39.40625 6.59375 \r\nQ 50.140625 6.59375 56.421875 14.59375 \r\nQ 62.703125 22.609375 62.703125 36.375 \r\nQ 62.703125 50.203125 56.421875 58.203125 \r\nQ 50.140625 66.21875 39.40625 66.21875 \r\nz\r\nM 39.40625 74.21875 \r\nQ 54.734375 74.21875 63.90625 63.9375 \r\nQ 73.09375 53.65625 73.09375 36.375 \r\nQ 73.09375 19.140625 63.90625 8.859375 \r\nQ 54.734375 -1.421875 39.40625 -1.421875 \r\nQ 24.03125 -1.421875 14.8125 8.828125 \r\nQ 5.609375 19.09375 5.609375 36.375 \r\nQ 5.609375 53.65625 14.8125 63.9375 \r\nQ 24.03125 74.21875 39.40625 74.21875 \r\nz\r\n\" id=\"DejaVuSans-79\"/>\r\n        <path d=\"M 3.328125 72.90625 \r\nL 13.28125 72.90625 \r\nL 28.609375 11.28125 \r\nL 43.890625 72.90625 \r\nL 54.984375 72.90625 \r\nL 70.3125 11.28125 \r\nL 85.59375 72.90625 \r\nL 95.609375 72.90625 \r\nL 77.296875 0 \r\nL 64.890625 0 \r\nL 49.515625 63.28125 \r\nL 33.984375 0 \r\nL 21.578125 0 \r\nz\r\n\" id=\"DejaVuSans-87\"/>\r\n       </defs>\r\n       <use xlink:href=\"#DejaVuSans-66\"/>\r\n       <use x=\"66.853516\" xlink:href=\"#DejaVuSans-79\"/>\r\n       <use x=\"145.564453\" xlink:href=\"#DejaVuSans-87\"/>\r\n      </g>\r\n     </g>\r\n    </g>\r\n    <g id=\"xtick_2\">\r\n     <g id=\"line2d_2\">\r\n      <g>\r\n       <use style=\"stroke:#000000;stroke-width:0.8;\" x=\"175.130984\" xlink:href=\"#maa934079ac\" y=\"241.718125\"/>\r\n      </g>\r\n     </g>\r\n     <g id=\"text_2\">\r\n      <!-- TF-IDF -->\r\n      <g transform=\"translate(165.814852 276.625641)rotate(-45)scale(0.1 -0.1)\">\r\n       <defs>\r\n        <path d=\"M -0.296875 72.90625 \r\nL 61.375 72.90625 \r\nL 61.375 64.59375 \r\nL 35.5 64.59375 \r\nL 35.5 0 \r\nL 25.59375 0 \r\nL 25.59375 64.59375 \r\nL -0.296875 64.59375 \r\nz\r\n\" id=\"DejaVuSans-84\"/>\r\n        <path d=\"M 9.8125 72.90625 \r\nL 51.703125 72.90625 \r\nL 51.703125 64.59375 \r\nL 19.671875 64.59375 \r\nL 19.671875 43.109375 \r\nL 48.578125 43.109375 \r\nL 48.578125 34.8125 \r\nL 19.671875 34.8125 \r\nL 19.671875 0 \r\nL 9.8125 0 \r\nz\r\n\" id=\"DejaVuSans-70\"/>\r\n        <path d=\"M 4.890625 31.390625 \r\nL 31.203125 31.390625 \r\nL 31.203125 23.390625 \r\nL 4.890625 23.390625 \r\nz\r\n\" id=\"DejaVuSans-45\"/>\r\n        <path d=\"M 9.8125 72.90625 \r\nL 19.671875 72.90625 \r\nL 19.671875 0 \r\nL 9.8125 0 \r\nz\r\n\" id=\"DejaVuSans-73\"/>\r\n        <path d=\"M 19.671875 64.796875 \r\nL 19.671875 8.109375 \r\nL 31.59375 8.109375 \r\nQ 46.6875 8.109375 53.6875 14.9375 \r\nQ 60.6875 21.78125 60.6875 36.53125 \r\nQ 60.6875 51.171875 53.6875 57.984375 \r\nQ 46.6875 64.796875 31.59375 64.796875 \r\nz\r\nM 9.8125 72.90625 \r\nL 30.078125 72.90625 \r\nQ 51.265625 72.90625 61.171875 64.09375 \r\nQ 71.09375 55.28125 71.09375 36.53125 \r\nQ 71.09375 17.671875 61.125 8.828125 \r\nQ 51.171875 0 30.078125 0 \r\nL 9.8125 0 \r\nz\r\n\" id=\"DejaVuSans-68\"/>\r\n       </defs>\r\n       <use xlink:href=\"#DejaVuSans-84\"/>\r\n       <use x=\"61.083984\" xlink:href=\"#DejaVuSans-70\"/>\r\n       <use x=\"118.603516\" xlink:href=\"#DejaVuSans-45\"/>\r\n       <use x=\"154.6875\" xlink:href=\"#DejaVuSans-73\"/>\r\n       <use x=\"184.179688\" xlink:href=\"#DejaVuSans-68\"/>\r\n       <use x=\"261.181641\" xlink:href=\"#DejaVuSans-70\"/>\r\n      </g>\r\n     </g>\r\n    </g>\r\n    <g id=\"xtick_3\">\r\n     <g id=\"line2d_3\">\r\n      <g>\r\n       <use style=\"stroke:#000000;stroke-width:0.8;\" x=\"246.146458\" xlink:href=\"#maa934079ac\" y=\"241.718125\"/>\r\n      </g>\r\n     </g>\r\n     <g id=\"text_3\">\r\n      <!-- NaiveQL -->\r\n      <g transform=\"translate(233.282639 283.721016)rotate(-45)scale(0.1 -0.1)\">\r\n       <defs>\r\n        <path d=\"M 9.8125 72.90625 \r\nL 23.09375 72.90625 \r\nL 55.421875 11.921875 \r\nL 55.421875 72.90625 \r\nL 64.984375 72.90625 \r\nL 64.984375 0 \r\nL 51.703125 0 \r\nL 19.390625 60.984375 \r\nL 19.390625 0 \r\nL 9.8125 0 \r\nz\r\n\" id=\"DejaVuSans-78\"/>\r\n        <path d=\"M 34.28125 27.484375 \r\nQ 23.390625 27.484375 19.1875 25 \r\nQ 14.984375 22.515625 14.984375 16.5 \r\nQ 14.984375 11.71875 18.140625 8.90625 \r\nQ 21.296875 6.109375 26.703125 6.109375 \r\nQ 34.1875 6.109375 38.703125 11.40625 \r\nQ 43.21875 16.703125 43.21875 25.484375 \r\nL 43.21875 27.484375 \r\nz\r\nM 52.203125 31.203125 \r\nL 52.203125 0 \r\nL 43.21875 0 \r\nL 43.21875 8.296875 \r\nQ 40.140625 3.328125 35.546875 0.953125 \r\nQ 30.953125 -1.421875 24.3125 -1.421875 \r\nQ 15.921875 -1.421875 10.953125 3.296875 \r\nQ 6 8.015625 6 15.921875 \r\nQ 6 25.140625 12.171875 29.828125 \r\nQ 18.359375 34.515625 30.609375 34.515625 \r\nL 43.21875 34.515625 \r\nL 43.21875 35.40625 \r\nQ 43.21875 41.609375 39.140625 45 \r\nQ 35.0625 48.390625 27.6875 48.390625 \r\nQ 23 48.390625 18.546875 47.265625 \r\nQ 14.109375 46.140625 10.015625 43.890625 \r\nL 10.015625 52.203125 \r\nQ 14.9375 54.109375 19.578125 55.046875 \r\nQ 24.21875 56 28.609375 56 \r\nQ 40.484375 56 46.34375 49.84375 \r\nQ 52.203125 43.703125 52.203125 31.203125 \r\nz\r\n\" id=\"DejaVuSans-97\"/>\r\n        <path d=\"M 9.421875 54.6875 \r\nL 18.40625 54.6875 \r\nL 18.40625 0 \r\nL 9.421875 0 \r\nz\r\nM 9.421875 75.984375 \r\nL 18.40625 75.984375 \r\nL 18.40625 64.59375 \r\nL 9.421875 64.59375 \r\nz\r\n\" id=\"DejaVuSans-105\"/>\r\n        <path d=\"M 2.984375 54.6875 \r\nL 12.5 54.6875 \r\nL 29.59375 8.796875 \r\nL 46.6875 54.6875 \r\nL 56.203125 54.6875 \r\nL 35.6875 0 \r\nL 23.484375 0 \r\nz\r\n\" id=\"DejaVuSans-118\"/>\r\n        <path d=\"M 56.203125 29.59375 \r\nL 56.203125 25.203125 \r\nL 14.890625 25.203125 \r\nQ 15.484375 15.921875 20.484375 11.0625 \r\nQ 25.484375 6.203125 34.421875 6.203125 \r\nQ 39.59375 6.203125 44.453125 7.46875 \r\nQ 49.3125 8.734375 54.109375 11.28125 \r\nL 54.109375 2.78125 \r\nQ 49.265625 0.734375 44.1875 -0.34375 \r\nQ 39.109375 -1.421875 33.890625 -1.421875 \r\nQ 20.796875 -1.421875 13.15625 6.1875 \r\nQ 5.515625 13.8125 5.515625 26.8125 \r\nQ 5.515625 40.234375 12.765625 48.109375 \r\nQ 20.015625 56 32.328125 56 \r\nQ 43.359375 56 49.78125 48.890625 \r\nQ 56.203125 41.796875 56.203125 29.59375 \r\nz\r\nM 47.21875 32.234375 \r\nQ 47.125 39.59375 43.09375 43.984375 \r\nQ 39.0625 48.390625 32.421875 48.390625 \r\nQ 24.90625 48.390625 20.390625 44.140625 \r\nQ 15.875 39.890625 15.1875 32.171875 \r\nz\r\n\" id=\"DejaVuSans-101\"/>\r\n        <path d=\"M 39.40625 66.21875 \r\nQ 28.65625 66.21875 22.328125 58.203125 \r\nQ 16.015625 50.203125 16.015625 36.375 \r\nQ 16.015625 22.609375 22.328125 14.59375 \r\nQ 28.65625 6.59375 39.40625 6.59375 \r\nQ 50.140625 6.59375 56.421875 14.59375 \r\nQ 62.703125 22.609375 62.703125 36.375 \r\nQ 62.703125 50.203125 56.421875 58.203125 \r\nQ 50.140625 66.21875 39.40625 66.21875 \r\nz\r\nM 53.21875 1.3125 \r\nL 66.21875 -12.890625 \r\nL 54.296875 -12.890625 \r\nL 43.5 -1.21875 \r\nQ 41.890625 -1.3125 41.03125 -1.359375 \r\nQ 40.1875 -1.421875 39.40625 -1.421875 \r\nQ 24.03125 -1.421875 14.8125 8.859375 \r\nQ 5.609375 19.140625 5.609375 36.375 \r\nQ 5.609375 53.65625 14.8125 63.9375 \r\nQ 24.03125 74.21875 39.40625 74.21875 \r\nQ 54.734375 74.21875 63.90625 63.9375 \r\nQ 73.09375 53.65625 73.09375 36.375 \r\nQ 73.09375 23.6875 67.984375 14.640625 \r\nQ 62.890625 5.609375 53.21875 1.3125 \r\nz\r\n\" id=\"DejaVuSans-81\"/>\r\n        <path d=\"M 9.8125 72.90625 \r\nL 19.671875 72.90625 \r\nL 19.671875 8.296875 \r\nL 55.171875 8.296875 \r\nL 55.171875 0 \r\nL 9.8125 0 \r\nz\r\n\" id=\"DejaVuSans-76\"/>\r\n       </defs>\r\n       <use xlink:href=\"#DejaVuSans-78\"/>\r\n       <use x=\"74.804688\" xlink:href=\"#DejaVuSans-97\"/>\r\n       <use x=\"136.083984\" xlink:href=\"#DejaVuSans-105\"/>\r\n       <use x=\"163.867188\" xlink:href=\"#DejaVuSans-118\"/>\r\n       <use x=\"223.046875\" xlink:href=\"#DejaVuSans-101\"/>\r\n       <use x=\"284.570312\" xlink:href=\"#DejaVuSans-81\"/>\r\n       <use x=\"363.28125\" xlink:href=\"#DejaVuSans-76\"/>\r\n      </g>\r\n     </g>\r\n    </g>\r\n    <g id=\"xtick_4\">\r\n     <g id=\"line2d_4\">\r\n      <g>\r\n       <use style=\"stroke:#000000;stroke-width:0.8;\" x=\"317.161932\" xlink:href=\"#maa934079ac\" y=\"241.718125\"/>\r\n      </g>\r\n     </g>\r\n     <g id=\"text_4\">\r\n      <!-- QL -->\r\n      <g transform=\"translate(314.360021 263.597198)rotate(-45)scale(0.1 -0.1)\">\r\n       <use xlink:href=\"#DejaVuSans-81\"/>\r\n       <use x=\"78.710938\" xlink:href=\"#DejaVuSans-76\"/>\r\n      </g>\r\n     </g>\r\n    </g>\r\n    <g id=\"xtick_5\">\r\n     <g id=\"line2d_5\">\r\n      <g>\r\n       <use style=\"stroke:#000000;stroke-width:0.8;\" x=\"388.177406\" xlink:href=\"#maa934079ac\" y=\"241.718125\"/>\r\n      </g>\r\n     </g>\r\n     <g id=\"text_5\">\r\n      <!-- BM25 -->\r\n      <g transform=\"translate(380.153401 274.041387)rotate(-45)scale(0.1 -0.1)\">\r\n       <defs>\r\n        <path d=\"M 9.8125 72.90625 \r\nL 24.515625 72.90625 \r\nL 43.109375 23.296875 \r\nL 61.8125 72.90625 \r\nL 76.515625 72.90625 \r\nL 76.515625 0 \r\nL 66.890625 0 \r\nL 66.890625 64.015625 \r\nL 48.09375 14.015625 \r\nL 38.1875 14.015625 \r\nL 19.390625 64.015625 \r\nL 19.390625 0 \r\nL 9.8125 0 \r\nz\r\n\" id=\"DejaVuSans-77\"/>\r\n        <path d=\"M 19.1875 8.296875 \r\nL 53.609375 8.296875 \r\nL 53.609375 0 \r\nL 7.328125 0 \r\nL 7.328125 8.296875 \r\nQ 12.9375 14.109375 22.625 23.890625 \r\nQ 32.328125 33.6875 34.8125 36.53125 \r\nQ 39.546875 41.84375 41.421875 45.53125 \r\nQ 43.3125 49.21875 43.3125 52.78125 \r\nQ 43.3125 58.59375 39.234375 62.25 \r\nQ 35.15625 65.921875 28.609375 65.921875 \r\nQ 23.96875 65.921875 18.8125 64.3125 \r\nQ 13.671875 62.703125 7.8125 59.421875 \r\nL 7.8125 69.390625 \r\nQ 13.765625 71.78125 18.9375 73 \r\nQ 24.125 74.21875 28.421875 74.21875 \r\nQ 39.75 74.21875 46.484375 68.546875 \r\nQ 53.21875 62.890625 53.21875 53.421875 \r\nQ 53.21875 48.921875 51.53125 44.890625 \r\nQ 49.859375 40.875 45.40625 35.40625 \r\nQ 44.1875 33.984375 37.640625 27.21875 \r\nQ 31.109375 20.453125 19.1875 8.296875 \r\nz\r\n\" id=\"DejaVuSans-50\"/>\r\n        <path d=\"M 10.796875 72.90625 \r\nL 49.515625 72.90625 \r\nL 49.515625 64.59375 \r\nL 19.828125 64.59375 \r\nL 19.828125 46.734375 \r\nQ 21.96875 47.46875 24.109375 47.828125 \r\nQ 26.265625 48.1875 28.421875 48.1875 \r\nQ 40.625 48.1875 47.75 41.5 \r\nQ 54.890625 34.8125 54.890625 23.390625 \r\nQ 54.890625 11.625 47.5625 5.09375 \r\nQ 40.234375 -1.421875 26.90625 -1.421875 \r\nQ 22.3125 -1.421875 17.546875 -0.640625 \r\nQ 12.796875 0.140625 7.71875 1.703125 \r\nL 7.71875 11.625 \r\nQ 12.109375 9.234375 16.796875 8.0625 \r\nQ 21.484375 6.890625 26.703125 6.890625 \r\nQ 35.15625 6.890625 40.078125 11.328125 \r\nQ 45.015625 15.765625 45.015625 23.390625 \r\nQ 45.015625 31 40.078125 35.4375 \r\nQ 35.15625 39.890625 26.703125 39.890625 \r\nQ 22.75 39.890625 18.8125 39.015625 \r\nQ 14.890625 38.140625 10.796875 36.28125 \r\nz\r\n\" id=\"DejaVuSans-53\"/>\r\n       </defs>\r\n       <use xlink:href=\"#DejaVuSans-66\"/>\r\n       <use x=\"68.603516\" xlink:href=\"#DejaVuSans-77\"/>\r\n       <use x=\"154.882812\" xlink:href=\"#DejaVuSans-50\"/>\r\n       <use x=\"218.505859\" xlink:href=\"#DejaVuSans-53\"/>\r\n      </g>\r\n     </g>\r\n    </g>\r\n    <g id=\"text_6\">\r\n     <!-- Search functions -->\r\n     <g transform=\"translate(191.925 296.790014)scale(0.1 -0.1)\">\r\n      <defs>\r\n       <path d=\"M 53.515625 70.515625 \r\nL 53.515625 60.890625 \r\nQ 47.90625 63.578125 42.921875 64.890625 \r\nQ 37.9375 66.21875 33.296875 66.21875 \r\nQ 25.25 66.21875 20.875 63.09375 \r\nQ 16.5 59.96875 16.5 54.203125 \r\nQ 16.5 49.359375 19.40625 46.890625 \r\nQ 22.3125 44.4375 30.421875 42.921875 \r\nL 36.375 41.703125 \r\nQ 47.40625 39.59375 52.65625 34.296875 \r\nQ 57.90625 29 57.90625 20.125 \r\nQ 57.90625 9.515625 50.796875 4.046875 \r\nQ 43.703125 -1.421875 29.984375 -1.421875 \r\nQ 24.8125 -1.421875 18.96875 -0.25 \r\nQ 13.140625 0.921875 6.890625 3.21875 \r\nL 6.890625 13.375 \r\nQ 12.890625 10.015625 18.65625 8.296875 \r\nQ 24.421875 6.59375 29.984375 6.59375 \r\nQ 38.421875 6.59375 43.015625 9.90625 \r\nQ 47.609375 13.234375 47.609375 19.390625 \r\nQ 47.609375 24.75 44.3125 27.78125 \r\nQ 41.015625 30.8125 33.5 32.328125 \r\nL 27.484375 33.5 \r\nQ 16.453125 35.6875 11.515625 40.375 \r\nQ 6.59375 45.0625 6.59375 53.421875 \r\nQ 6.59375 63.09375 13.40625 68.65625 \r\nQ 20.21875 74.21875 32.171875 74.21875 \r\nQ 37.3125 74.21875 42.625 73.28125 \r\nQ 47.953125 72.359375 53.515625 70.515625 \r\nz\r\n\" id=\"DejaVuSans-83\"/>\r\n       <path d=\"M 41.109375 46.296875 \r\nQ 39.59375 47.171875 37.8125 47.578125 \r\nQ 36.03125 48 33.890625 48 \r\nQ 26.265625 48 22.1875 43.046875 \r\nQ 18.109375 38.09375 18.109375 28.8125 \r\nL 18.109375 0 \r\nL 9.078125 0 \r\nL 9.078125 54.6875 \r\nL 18.109375 54.6875 \r\nL 18.109375 46.1875 \r\nQ 20.953125 51.171875 25.484375 53.578125 \r\nQ 30.03125 56 36.53125 56 \r\nQ 37.453125 56 38.578125 55.875 \r\nQ 39.703125 55.765625 41.0625 55.515625 \r\nz\r\n\" id=\"DejaVuSans-114\"/>\r\n       <path d=\"M 48.78125 52.59375 \r\nL 48.78125 44.1875 \r\nQ 44.96875 46.296875 41.140625 47.34375 \r\nQ 37.3125 48.390625 33.40625 48.390625 \r\nQ 24.65625 48.390625 19.8125 42.84375 \r\nQ 14.984375 37.3125 14.984375 27.296875 \r\nQ 14.984375 17.28125 19.8125 11.734375 \r\nQ 24.65625 6.203125 33.40625 6.203125 \r\nQ 37.3125 6.203125 41.140625 7.25 \r\nQ 44.96875 8.296875 48.78125 10.40625 \r\nL 48.78125 2.09375 \r\nQ 45.015625 0.34375 40.984375 -0.53125 \r\nQ 36.96875 -1.421875 32.421875 -1.421875 \r\nQ 20.0625 -1.421875 12.78125 6.34375 \r\nQ 5.515625 14.109375 5.515625 27.296875 \r\nQ 5.515625 40.671875 12.859375 48.328125 \r\nQ 20.21875 56 33.015625 56 \r\nQ 37.15625 56 41.109375 55.140625 \r\nQ 45.0625 54.296875 48.78125 52.59375 \r\nz\r\n\" id=\"DejaVuSans-99\"/>\r\n       <path d=\"M 54.890625 33.015625 \r\nL 54.890625 0 \r\nL 45.90625 0 \r\nL 45.90625 32.71875 \r\nQ 45.90625 40.484375 42.875 44.328125 \r\nQ 39.84375 48.1875 33.796875 48.1875 \r\nQ 26.515625 48.1875 22.3125 43.546875 \r\nQ 18.109375 38.921875 18.109375 30.90625 \r\nL 18.109375 0 \r\nL 9.078125 0 \r\nL 9.078125 75.984375 \r\nL 18.109375 75.984375 \r\nL 18.109375 46.1875 \r\nQ 21.34375 51.125 25.703125 53.5625 \r\nQ 30.078125 56 35.796875 56 \r\nQ 45.21875 56 50.046875 50.171875 \r\nQ 54.890625 44.34375 54.890625 33.015625 \r\nz\r\n\" id=\"DejaVuSans-104\"/>\r\n       <path id=\"DejaVuSans-32\"/>\r\n       <path d=\"M 37.109375 75.984375 \r\nL 37.109375 68.5 \r\nL 28.515625 68.5 \r\nQ 23.6875 68.5 21.796875 66.546875 \r\nQ 19.921875 64.59375 19.921875 59.515625 \r\nL 19.921875 54.6875 \r\nL 34.71875 54.6875 \r\nL 34.71875 47.703125 \r\nL 19.921875 47.703125 \r\nL 19.921875 0 \r\nL 10.890625 0 \r\nL 10.890625 47.703125 \r\nL 2.296875 47.703125 \r\nL 2.296875 54.6875 \r\nL 10.890625 54.6875 \r\nL 10.890625 58.5 \r\nQ 10.890625 67.625 15.140625 71.796875 \r\nQ 19.390625 75.984375 28.609375 75.984375 \r\nz\r\n\" id=\"DejaVuSans-102\"/>\r\n       <path d=\"M 8.5 21.578125 \r\nL 8.5 54.6875 \r\nL 17.484375 54.6875 \r\nL 17.484375 21.921875 \r\nQ 17.484375 14.15625 20.5 10.265625 \r\nQ 23.53125 6.390625 29.59375 6.390625 \r\nQ 36.859375 6.390625 41.078125 11.03125 \r\nQ 45.3125 15.671875 45.3125 23.6875 \r\nL 45.3125 54.6875 \r\nL 54.296875 54.6875 \r\nL 54.296875 0 \r\nL 45.3125 0 \r\nL 45.3125 8.40625 \r\nQ 42.046875 3.421875 37.71875 1 \r\nQ 33.40625 -1.421875 27.6875 -1.421875 \r\nQ 18.265625 -1.421875 13.375 4.4375 \r\nQ 8.5 10.296875 8.5 21.578125 \r\nz\r\nM 31.109375 56 \r\nz\r\n\" id=\"DejaVuSans-117\"/>\r\n       <path d=\"M 54.890625 33.015625 \r\nL 54.890625 0 \r\nL 45.90625 0 \r\nL 45.90625 32.71875 \r\nQ 45.90625 40.484375 42.875 44.328125 \r\nQ 39.84375 48.1875 33.796875 48.1875 \r\nQ 26.515625 48.1875 22.3125 43.546875 \r\nQ 18.109375 38.921875 18.109375 30.90625 \r\nL 18.109375 0 \r\nL 9.078125 0 \r\nL 9.078125 54.6875 \r\nL 18.109375 54.6875 \r\nL 18.109375 46.1875 \r\nQ 21.34375 51.125 25.703125 53.5625 \r\nQ 30.078125 56 35.796875 56 \r\nQ 45.21875 56 50.046875 50.171875 \r\nQ 54.890625 44.34375 54.890625 33.015625 \r\nz\r\n\" id=\"DejaVuSans-110\"/>\r\n       <path d=\"M 18.3125 70.21875 \r\nL 18.3125 54.6875 \r\nL 36.8125 54.6875 \r\nL 36.8125 47.703125 \r\nL 18.3125 47.703125 \r\nL 18.3125 18.015625 \r\nQ 18.3125 11.328125 20.140625 9.421875 \r\nQ 21.96875 7.515625 27.59375 7.515625 \r\nL 36.8125 7.515625 \r\nL 36.8125 0 \r\nL 27.59375 0 \r\nQ 17.1875 0 13.234375 3.875 \r\nQ 9.28125 7.765625 9.28125 18.015625 \r\nL 9.28125 47.703125 \r\nL 2.6875 47.703125 \r\nL 2.6875 54.6875 \r\nL 9.28125 54.6875 \r\nL 9.28125 70.21875 \r\nz\r\n\" id=\"DejaVuSans-116\"/>\r\n       <path d=\"M 30.609375 48.390625 \r\nQ 23.390625 48.390625 19.1875 42.75 \r\nQ 14.984375 37.109375 14.984375 27.296875 \r\nQ 14.984375 17.484375 19.15625 11.84375 \r\nQ 23.34375 6.203125 30.609375 6.203125 \r\nQ 37.796875 6.203125 41.984375 11.859375 \r\nQ 46.1875 17.53125 46.1875 27.296875 \r\nQ 46.1875 37.015625 41.984375 42.703125 \r\nQ 37.796875 48.390625 30.609375 48.390625 \r\nz\r\nM 30.609375 56 \r\nQ 42.328125 56 49.015625 48.375 \r\nQ 55.71875 40.765625 55.71875 27.296875 \r\nQ 55.71875 13.875 49.015625 6.21875 \r\nQ 42.328125 -1.421875 30.609375 -1.421875 \r\nQ 18.84375 -1.421875 12.171875 6.21875 \r\nQ 5.515625 13.875 5.515625 27.296875 \r\nQ 5.515625 40.765625 12.171875 48.375 \r\nQ 18.84375 56 30.609375 56 \r\nz\r\n\" id=\"DejaVuSans-111\"/>\r\n       <path d=\"M 44.28125 53.078125 \r\nL 44.28125 44.578125 \r\nQ 40.484375 46.53125 36.375 47.5 \r\nQ 32.28125 48.484375 27.875 48.484375 \r\nQ 21.1875 48.484375 17.84375 46.4375 \r\nQ 14.5 44.390625 14.5 40.28125 \r\nQ 14.5 37.15625 16.890625 35.375 \r\nQ 19.28125 33.59375 26.515625 31.984375 \r\nL 29.59375 31.296875 \r\nQ 39.15625 29.25 43.1875 25.515625 \r\nQ 47.21875 21.78125 47.21875 15.09375 \r\nQ 47.21875 7.46875 41.1875 3.015625 \r\nQ 35.15625 -1.421875 24.609375 -1.421875 \r\nQ 20.21875 -1.421875 15.453125 -0.5625 \r\nQ 10.6875 0.296875 5.421875 2 \r\nL 5.421875 11.28125 \r\nQ 10.40625 8.6875 15.234375 7.390625 \r\nQ 20.0625 6.109375 24.8125 6.109375 \r\nQ 31.15625 6.109375 34.5625 8.28125 \r\nQ 37.984375 10.453125 37.984375 14.40625 \r\nQ 37.984375 18.0625 35.515625 20.015625 \r\nQ 33.0625 21.96875 24.703125 23.78125 \r\nL 21.578125 24.515625 \r\nQ 13.234375 26.265625 9.515625 29.90625 \r\nQ 5.8125 33.546875 5.8125 39.890625 \r\nQ 5.8125 47.609375 11.28125 51.796875 \r\nQ 16.75 56 26.8125 56 \r\nQ 31.78125 56 36.171875 55.265625 \r\nQ 40.578125 54.546875 44.28125 53.078125 \r\nz\r\n\" id=\"DejaVuSans-115\"/>\r\n      </defs>\r\n      <use xlink:href=\"#DejaVuSans-83\"/>\r\n      <use x=\"63.476562\" xlink:href=\"#DejaVuSans-101\"/>\r\n      <use x=\"125\" xlink:href=\"#DejaVuSans-97\"/>\r\n      <use x=\"186.279297\" xlink:href=\"#DejaVuSans-114\"/>\r\n      <use x=\"225.142578\" xlink:href=\"#DejaVuSans-99\"/>\r\n      <use x=\"280.123047\" xlink:href=\"#DejaVuSans-104\"/>\r\n      <use x=\"343.501953\" xlink:href=\"#DejaVuSans-32\"/>\r\n      <use x=\"375.289062\" xlink:href=\"#DejaVuSans-102\"/>\r\n      <use x=\"410.494141\" xlink:href=\"#DejaVuSans-117\"/>\r\n      <use x=\"473.873047\" xlink:href=\"#DejaVuSans-110\"/>\r\n      <use x=\"537.251953\" xlink:href=\"#DejaVuSans-99\"/>\r\n      <use x=\"592.232422\" xlink:href=\"#DejaVuSans-116\"/>\r\n      <use x=\"631.441406\" xlink:href=\"#DejaVuSans-105\"/>\r\n      <use x=\"659.224609\" xlink:href=\"#DejaVuSans-111\"/>\r\n      <use x=\"720.40625\" xlink:href=\"#DejaVuSans-110\"/>\r\n      <use x=\"783.785156\" xlink:href=\"#DejaVuSans-115\"/>\r\n     </g>\r\n    </g>\r\n   </g>\r\n   <g id=\"matplotlib.axis_2\">\r\n    <g id=\"ytick_1\">\r\n     <g id=\"line2d_6\">\r\n      <defs>\r\n       <path d=\"M 0 0 \r\nL -3.5 0 \r\n\" id=\"m86989a74f8\" style=\"stroke:#000000;stroke-width:0.8;\"/>\r\n      </defs>\r\n      <g>\r\n       <use style=\"stroke:#000000;stroke-width:0.8;\" x=\"50.14375\" xlink:href=\"#m86989a74f8\" y=\"241.718125\"/>\r\n      </g>\r\n     </g>\r\n     <g id=\"text_7\">\r\n      <!-- 0.00 -->\r\n      <g transform=\"translate(20.878125 245.517344)scale(0.1 -0.1)\">\r\n       <defs>\r\n        <path d=\"M 31.78125 66.40625 \r\nQ 24.171875 66.40625 20.328125 58.90625 \r\nQ 16.5 51.421875 16.5 36.375 \r\nQ 16.5 21.390625 20.328125 13.890625 \r\nQ 24.171875 6.390625 31.78125 6.390625 \r\nQ 39.453125 6.390625 43.28125 13.890625 \r\nQ 47.125 21.390625 47.125 36.375 \r\nQ 47.125 51.421875 43.28125 58.90625 \r\nQ 39.453125 66.40625 31.78125 66.40625 \r\nz\r\nM 31.78125 74.21875 \r\nQ 44.046875 74.21875 50.515625 64.515625 \r\nQ 56.984375 54.828125 56.984375 36.375 \r\nQ 56.984375 17.96875 50.515625 8.265625 \r\nQ 44.046875 -1.421875 31.78125 -1.421875 \r\nQ 19.53125 -1.421875 13.0625 8.265625 \r\nQ 6.59375 17.96875 6.59375 36.375 \r\nQ 6.59375 54.828125 13.0625 64.515625 \r\nQ 19.53125 74.21875 31.78125 74.21875 \r\nz\r\n\" id=\"DejaVuSans-48\"/>\r\n        <path d=\"M 10.6875 12.40625 \r\nL 21 12.40625 \r\nL 21 0 \r\nL 10.6875 0 \r\nz\r\n\" id=\"DejaVuSans-46\"/>\r\n       </defs>\r\n       <use xlink:href=\"#DejaVuSans-48\"/>\r\n       <use x=\"63.623047\" xlink:href=\"#DejaVuSans-46\"/>\r\n       <use x=\"95.410156\" xlink:href=\"#DejaVuSans-48\"/>\r\n       <use x=\"159.033203\" xlink:href=\"#DejaVuSans-48\"/>\r\n      </g>\r\n     </g>\r\n    </g>\r\n    <g id=\"ytick_2\">\r\n     <g id=\"line2d_7\">\r\n      <g>\r\n       <use style=\"stroke:#000000;stroke-width:0.8;\" x=\"50.14375\" xlink:href=\"#m86989a74f8\" y=\"207.114548\"/>\r\n      </g>\r\n     </g>\r\n     <g id=\"text_8\">\r\n      <!-- 0.05 -->\r\n      <g transform=\"translate(20.878125 210.913767)scale(0.1 -0.1)\">\r\n       <use xlink:href=\"#DejaVuSans-48\"/>\r\n       <use x=\"63.623047\" xlink:href=\"#DejaVuSans-46\"/>\r\n       <use x=\"95.410156\" xlink:href=\"#DejaVuSans-48\"/>\r\n       <use x=\"159.033203\" xlink:href=\"#DejaVuSans-53\"/>\r\n      </g>\r\n     </g>\r\n    </g>\r\n    <g id=\"ytick_3\">\r\n     <g id=\"line2d_8\">\r\n      <g>\r\n       <use style=\"stroke:#000000;stroke-width:0.8;\" x=\"50.14375\" xlink:href=\"#m86989a74f8\" y=\"172.510971\"/>\r\n      </g>\r\n     </g>\r\n     <g id=\"text_9\">\r\n      <!-- 0.10 -->\r\n      <g transform=\"translate(20.878125 176.31019)scale(0.1 -0.1)\">\r\n       <defs>\r\n        <path d=\"M 12.40625 8.296875 \r\nL 28.515625 8.296875 \r\nL 28.515625 63.921875 \r\nL 10.984375 60.40625 \r\nL 10.984375 69.390625 \r\nL 28.421875 72.90625 \r\nL 38.28125 72.90625 \r\nL 38.28125 8.296875 \r\nL 54.390625 8.296875 \r\nL 54.390625 0 \r\nL 12.40625 0 \r\nz\r\n\" id=\"DejaVuSans-49\"/>\r\n       </defs>\r\n       <use xlink:href=\"#DejaVuSans-48\"/>\r\n       <use x=\"63.623047\" xlink:href=\"#DejaVuSans-46\"/>\r\n       <use x=\"95.410156\" xlink:href=\"#DejaVuSans-49\"/>\r\n       <use x=\"159.033203\" xlink:href=\"#DejaVuSans-48\"/>\r\n      </g>\r\n     </g>\r\n    </g>\r\n    <g id=\"ytick_4\">\r\n     <g id=\"line2d_9\">\r\n      <g>\r\n       <use style=\"stroke:#000000;stroke-width:0.8;\" x=\"50.14375\" xlink:href=\"#m86989a74f8\" y=\"137.907395\"/>\r\n      </g>\r\n     </g>\r\n     <g id=\"text_10\">\r\n      <!-- 0.15 -->\r\n      <g transform=\"translate(20.878125 141.706613)scale(0.1 -0.1)\">\r\n       <use xlink:href=\"#DejaVuSans-48\"/>\r\n       <use x=\"63.623047\" xlink:href=\"#DejaVuSans-46\"/>\r\n       <use x=\"95.410156\" xlink:href=\"#DejaVuSans-49\"/>\r\n       <use x=\"159.033203\" xlink:href=\"#DejaVuSans-53\"/>\r\n      </g>\r\n     </g>\r\n    </g>\r\n    <g id=\"ytick_5\">\r\n     <g id=\"line2d_10\">\r\n      <g>\r\n       <use style=\"stroke:#000000;stroke-width:0.8;\" x=\"50.14375\" xlink:href=\"#m86989a74f8\" y=\"103.303818\"/>\r\n      </g>\r\n     </g>\r\n     <g id=\"text_11\">\r\n      <!-- 0.20 -->\r\n      <g transform=\"translate(20.878125 107.103037)scale(0.1 -0.1)\">\r\n       <use xlink:href=\"#DejaVuSans-48\"/>\r\n       <use x=\"63.623047\" xlink:href=\"#DejaVuSans-46\"/>\r\n       <use x=\"95.410156\" xlink:href=\"#DejaVuSans-50\"/>\r\n       <use x=\"159.033203\" xlink:href=\"#DejaVuSans-48\"/>\r\n      </g>\r\n     </g>\r\n    </g>\r\n    <g id=\"ytick_6\">\r\n     <g id=\"line2d_11\">\r\n      <g>\r\n       <use style=\"stroke:#000000;stroke-width:0.8;\" x=\"50.14375\" xlink:href=\"#m86989a74f8\" y=\"68.700241\"/>\r\n      </g>\r\n     </g>\r\n     <g id=\"text_12\">\r\n      <!-- 0.25 -->\r\n      <g transform=\"translate(20.878125 72.49946)scale(0.1 -0.1)\">\r\n       <use xlink:href=\"#DejaVuSans-48\"/>\r\n       <use x=\"63.623047\" xlink:href=\"#DejaVuSans-46\"/>\r\n       <use x=\"95.410156\" xlink:href=\"#DejaVuSans-50\"/>\r\n       <use x=\"159.033203\" xlink:href=\"#DejaVuSans-53\"/>\r\n      </g>\r\n     </g>\r\n    </g>\r\n    <g id=\"ytick_7\">\r\n     <g id=\"line2d_12\">\r\n      <g>\r\n       <use style=\"stroke:#000000;stroke-width:0.8;\" x=\"50.14375\" xlink:href=\"#m86989a74f8\" y=\"34.096664\"/>\r\n      </g>\r\n     </g>\r\n     <g id=\"text_13\">\r\n      <!-- 0.30 -->\r\n      <g transform=\"translate(20.878125 37.895883)scale(0.1 -0.1)\">\r\n       <defs>\r\n        <path d=\"M 40.578125 39.3125 \r\nQ 47.65625 37.796875 51.625 33 \r\nQ 55.609375 28.21875 55.609375 21.1875 \r\nQ 55.609375 10.40625 48.1875 4.484375 \r\nQ 40.765625 -1.421875 27.09375 -1.421875 \r\nQ 22.515625 -1.421875 17.65625 -0.515625 \r\nQ 12.796875 0.390625 7.625 2.203125 \r\nL 7.625 11.71875 \r\nQ 11.71875 9.328125 16.59375 8.109375 \r\nQ 21.484375 6.890625 26.8125 6.890625 \r\nQ 36.078125 6.890625 40.9375 10.546875 \r\nQ 45.796875 14.203125 45.796875 21.1875 \r\nQ 45.796875 27.640625 41.28125 31.265625 \r\nQ 36.765625 34.90625 28.71875 34.90625 \r\nL 20.21875 34.90625 \r\nL 20.21875 43.015625 \r\nL 29.109375 43.015625 \r\nQ 36.375 43.015625 40.234375 45.921875 \r\nQ 44.09375 48.828125 44.09375 54.296875 \r\nQ 44.09375 59.90625 40.109375 62.90625 \r\nQ 36.140625 65.921875 28.71875 65.921875 \r\nQ 24.65625 65.921875 20.015625 65.03125 \r\nQ 15.375 64.15625 9.8125 62.3125 \r\nL 9.8125 71.09375 \r\nQ 15.4375 72.65625 20.34375 73.4375 \r\nQ 25.25 74.21875 29.59375 74.21875 \r\nQ 40.828125 74.21875 47.359375 69.109375 \r\nQ 53.90625 64.015625 53.90625 55.328125 \r\nQ 53.90625 49.265625 50.4375 45.09375 \r\nQ 46.96875 40.921875 40.578125 39.3125 \r\nz\r\n\" id=\"DejaVuSans-51\"/>\r\n       </defs>\r\n       <use xlink:href=\"#DejaVuSans-48\"/>\r\n       <use x=\"63.623047\" xlink:href=\"#DejaVuSans-46\"/>\r\n       <use x=\"95.410156\" xlink:href=\"#DejaVuSans-51\"/>\r\n       <use x=\"159.033203\" xlink:href=\"#DejaVuSans-48\"/>\r\n      </g>\r\n     </g>\r\n    </g>\r\n    <g id=\"text_14\">\r\n     <!-- Results -->\r\n     <g transform=\"translate(14.798438 150.07125)rotate(-90)scale(0.1 -0.1)\">\r\n      <defs>\r\n       <path d=\"M 44.390625 34.1875 \r\nQ 47.5625 33.109375 50.5625 29.59375 \r\nQ 53.5625 26.078125 56.59375 19.921875 \r\nL 66.609375 0 \r\nL 56 0 \r\nL 46.6875 18.703125 \r\nQ 43.0625 26.03125 39.671875 28.421875 \r\nQ 36.28125 30.8125 30.421875 30.8125 \r\nL 19.671875 30.8125 \r\nL 19.671875 0 \r\nL 9.8125 0 \r\nL 9.8125 72.90625 \r\nL 32.078125 72.90625 \r\nQ 44.578125 72.90625 50.734375 67.671875 \r\nQ 56.890625 62.453125 56.890625 51.90625 \r\nQ 56.890625 45.015625 53.6875 40.46875 \r\nQ 50.484375 35.9375 44.390625 34.1875 \r\nz\r\nM 19.671875 64.796875 \r\nL 19.671875 38.921875 \r\nL 32.078125 38.921875 \r\nQ 39.203125 38.921875 42.84375 42.21875 \r\nQ 46.484375 45.515625 46.484375 51.90625 \r\nQ 46.484375 58.296875 42.84375 61.546875 \r\nQ 39.203125 64.796875 32.078125 64.796875 \r\nz\r\n\" id=\"DejaVuSans-82\"/>\r\n       <path d=\"M 9.421875 75.984375 \r\nL 18.40625 75.984375 \r\nL 18.40625 0 \r\nL 9.421875 0 \r\nz\r\n\" id=\"DejaVuSans-108\"/>\r\n      </defs>\r\n      <use xlink:href=\"#DejaVuSans-82\"/>\r\n      <use x=\"64.982422\" xlink:href=\"#DejaVuSans-101\"/>\r\n      <use x=\"126.505859\" xlink:href=\"#DejaVuSans-115\"/>\r\n      <use x=\"178.605469\" xlink:href=\"#DejaVuSans-117\"/>\r\n      <use x=\"241.984375\" xlink:href=\"#DejaVuSans-108\"/>\r\n      <use x=\"269.767578\" xlink:href=\"#DejaVuSans-116\"/>\r\n      <use x=\"308.976562\" xlink:href=\"#DejaVuSans-115\"/>\r\n     </g>\r\n    </g>\r\n   </g>\r\n   <g id=\"patch_13\">\r\n    <path d=\"M 50.14375 241.718125 \r\nL 50.14375 22.318125 \r\n\" style=\"fill:none;stroke:#000000;stroke-linecap:square;stroke-linejoin:miter;stroke-width:0.8;\"/>\r\n   </g>\r\n   <g id=\"patch_14\">\r\n    <path d=\"M 417.29375 241.718125 \r\nL 417.29375 22.318125 \r\n\" style=\"fill:none;stroke:#000000;stroke-linecap:square;stroke-linejoin:miter;stroke-width:0.8;\"/>\r\n   </g>\r\n   <g id=\"patch_15\">\r\n    <path d=\"M 50.14375 241.718125 \r\nL 417.29375 241.718125 \r\n\" style=\"fill:none;stroke:#000000;stroke-linecap:square;stroke-linejoin:miter;stroke-width:0.8;\"/>\r\n   </g>\r\n   <g id=\"patch_16\">\r\n    <path d=\"M 50.14375 22.318125 \r\nL 417.29375 22.318125 \r\n\" style=\"fill:none;stroke:#000000;stroke-linecap:square;stroke-linejoin:miter;stroke-width:0.8;\"/>\r\n   </g>\r\n   <g id=\"text_15\">\r\n    <!-- Results using Precision@10 metric -->\r\n    <g transform=\"translate(130.403437 16.318125)scale(0.12 -0.12)\">\r\n     <defs>\r\n      <path d=\"M 45.40625 27.984375 \r\nQ 45.40625 37.75 41.375 43.109375 \r\nQ 37.359375 48.484375 30.078125 48.484375 \r\nQ 22.859375 48.484375 18.828125 43.109375 \r\nQ 14.796875 37.75 14.796875 27.984375 \r\nQ 14.796875 18.265625 18.828125 12.890625 \r\nQ 22.859375 7.515625 30.078125 7.515625 \r\nQ 37.359375 7.515625 41.375 12.890625 \r\nQ 45.40625 18.265625 45.40625 27.984375 \r\nz\r\nM 54.390625 6.78125 \r\nQ 54.390625 -7.171875 48.1875 -13.984375 \r\nQ 42 -20.796875 29.203125 -20.796875 \r\nQ 24.46875 -20.796875 20.265625 -20.09375 \r\nQ 16.0625 -19.390625 12.109375 -17.921875 \r\nL 12.109375 -9.1875 \r\nQ 16.0625 -11.328125 19.921875 -12.34375 \r\nQ 23.78125 -13.375 27.78125 -13.375 \r\nQ 36.625 -13.375 41.015625 -8.765625 \r\nQ 45.40625 -4.15625 45.40625 5.171875 \r\nL 45.40625 9.625 \r\nQ 42.625 4.78125 38.28125 2.390625 \r\nQ 33.9375 0 27.875 0 \r\nQ 17.828125 0 11.671875 7.65625 \r\nQ 5.515625 15.328125 5.515625 27.984375 \r\nQ 5.515625 40.671875 11.671875 48.328125 \r\nQ 17.828125 56 27.875 56 \r\nQ 33.9375 56 38.28125 53.609375 \r\nQ 42.625 51.21875 45.40625 46.390625 \r\nL 45.40625 54.6875 \r\nL 54.390625 54.6875 \r\nz\r\n\" id=\"DejaVuSans-103\"/>\r\n      <path d=\"M 19.671875 64.796875 \r\nL 19.671875 37.40625 \r\nL 32.078125 37.40625 \r\nQ 38.96875 37.40625 42.71875 40.96875 \r\nQ 46.484375 44.53125 46.484375 51.125 \r\nQ 46.484375 57.671875 42.71875 61.234375 \r\nQ 38.96875 64.796875 32.078125 64.796875 \r\nz\r\nM 9.8125 72.90625 \r\nL 32.078125 72.90625 \r\nQ 44.34375 72.90625 50.609375 67.359375 \r\nQ 56.890625 61.8125 56.890625 51.125 \r\nQ 56.890625 40.328125 50.609375 34.8125 \r\nQ 44.34375 29.296875 32.078125 29.296875 \r\nL 19.671875 29.296875 \r\nL 19.671875 0 \r\nL 9.8125 0 \r\nz\r\n\" id=\"DejaVuSans-80\"/>\r\n      <path d=\"M 37.203125 26.21875 \r\nQ 37.203125 19.234375 40.671875 15.25 \r\nQ 44.140625 11.28125 50.203125 11.28125 \r\nQ 56.203125 11.28125 59.640625 15.28125 \r\nQ 63.09375 19.28125 63.09375 26.21875 \r\nQ 63.09375 33.0625 59.578125 37.078125 \r\nQ 56.0625 41.109375 50.09375 41.109375 \r\nQ 44.1875 41.109375 40.6875 37.109375 \r\nQ 37.203125 33.109375 37.203125 26.21875 \r\nz\r\nM 63.8125 11.625 \r\nQ 60.890625 7.859375 57.109375 6.078125 \r\nQ 53.328125 4.296875 48.296875 4.296875 \r\nQ 39.890625 4.296875 34.640625 10.375 \r\nQ 29.390625 16.453125 29.390625 26.21875 \r\nQ 29.390625 35.984375 34.65625 42.078125 \r\nQ 39.9375 48.1875 48.296875 48.1875 \r\nQ 53.328125 48.1875 57.125 46.359375 \r\nQ 60.9375 44.53125 63.8125 40.828125 \r\nL 63.8125 47.21875 \r\nL 70.796875 47.21875 \r\nL 70.796875 11.28125 \r\nQ 77.9375 12.359375 81.953125 17.796875 \r\nQ 85.984375 23.25 85.984375 31.890625 \r\nQ 85.984375 37.109375 84.4375 41.703125 \r\nQ 82.90625 46.296875 79.78125 50.203125 \r\nQ 74.703125 56.59375 67.40625 59.984375 \r\nQ 60.109375 63.375 51.515625 63.375 \r\nQ 45.515625 63.375 39.984375 61.78125 \r\nQ 34.46875 60.203125 29.78125 57.078125 \r\nQ 22.125 52.09375 17.796875 44.015625 \r\nQ 13.484375 35.9375 13.484375 26.515625 \r\nQ 13.484375 18.75 16.28125 11.953125 \r\nQ 19.09375 5.171875 24.421875 0 \r\nQ 29.546875 -5.078125 36.28125 -7.734375 \r\nQ 43.015625 -10.40625 50.6875 -10.40625 \r\nQ 56.984375 -10.40625 63.0625 -8.28125 \r\nQ 69.140625 -6.15625 74.21875 -2.203125 \r\nL 78.609375 -7.625 \r\nQ 72.515625 -12.359375 65.3125 -14.875 \r\nQ 58.109375 -17.390625 50.6875 -17.390625 \r\nQ 41.65625 -17.390625 33.640625 -14.1875 \r\nQ 25.640625 -10.984375 19.390625 -4.890625 \r\nQ 13.140625 1.21875 9.859375 9.25 \r\nQ 6.59375 17.28125 6.59375 26.515625 \r\nQ 6.59375 35.40625 9.90625 43.453125 \r\nQ 13.234375 51.515625 19.390625 57.625 \r\nQ 25.6875 63.8125 33.9375 67.109375 \r\nQ 42.1875 70.40625 51.421875 70.40625 \r\nQ 61.765625 70.40625 70.625 66.15625 \r\nQ 79.5 61.921875 85.5 54.109375 \r\nQ 89.15625 49.3125 91.078125 43.703125 \r\nQ 93.015625 38.09375 93.015625 32.078125 \r\nQ 93.015625 19.234375 85.25 11.8125 \r\nQ 77.484375 4.390625 63.8125 4.109375 \r\nz\r\n\" id=\"DejaVuSans-64\"/>\r\n      <path d=\"M 52 44.1875 \r\nQ 55.375 50.25 60.0625 53.125 \r\nQ 64.75 56 71.09375 56 \r\nQ 79.640625 56 84.28125 50.015625 \r\nQ 88.921875 44.046875 88.921875 33.015625 \r\nL 88.921875 0 \r\nL 79.890625 0 \r\nL 79.890625 32.71875 \r\nQ 79.890625 40.578125 77.09375 44.375 \r\nQ 74.3125 48.1875 68.609375 48.1875 \r\nQ 61.625 48.1875 57.5625 43.546875 \r\nQ 53.515625 38.921875 53.515625 30.90625 \r\nL 53.515625 0 \r\nL 44.484375 0 \r\nL 44.484375 32.71875 \r\nQ 44.484375 40.625 41.703125 44.40625 \r\nQ 38.921875 48.1875 33.109375 48.1875 \r\nQ 26.21875 48.1875 22.15625 43.53125 \r\nQ 18.109375 38.875 18.109375 30.90625 \r\nL 18.109375 0 \r\nL 9.078125 0 \r\nL 9.078125 54.6875 \r\nL 18.109375 54.6875 \r\nL 18.109375 46.1875 \r\nQ 21.1875 51.21875 25.484375 53.609375 \r\nQ 29.78125 56 35.6875 56 \r\nQ 41.65625 56 45.828125 52.96875 \r\nQ 50 49.953125 52 44.1875 \r\nz\r\n\" id=\"DejaVuSans-109\"/>\r\n     </defs>\r\n     <use xlink:href=\"#DejaVuSans-82\"/>\r\n     <use x=\"64.982422\" xlink:href=\"#DejaVuSans-101\"/>\r\n     <use x=\"126.505859\" xlink:href=\"#DejaVuSans-115\"/>\r\n     <use x=\"178.605469\" xlink:href=\"#DejaVuSans-117\"/>\r\n     <use x=\"241.984375\" xlink:href=\"#DejaVuSans-108\"/>\r\n     <use x=\"269.767578\" xlink:href=\"#DejaVuSans-116\"/>\r\n     <use x=\"308.976562\" xlink:href=\"#DejaVuSans-115\"/>\r\n     <use x=\"361.076172\" xlink:href=\"#DejaVuSans-32\"/>\r\n     <use x=\"392.863281\" xlink:href=\"#DejaVuSans-117\"/>\r\n     <use x=\"456.242188\" xlink:href=\"#DejaVuSans-115\"/>\r\n     <use x=\"508.341797\" xlink:href=\"#DejaVuSans-105\"/>\r\n     <use x=\"536.125\" xlink:href=\"#DejaVuSans-110\"/>\r\n     <use x=\"599.503906\" xlink:href=\"#DejaVuSans-103\"/>\r\n     <use x=\"662.980469\" xlink:href=\"#DejaVuSans-32\"/>\r\n     <use x=\"694.767578\" xlink:href=\"#DejaVuSans-80\"/>\r\n     <use x=\"753.320312\" xlink:href=\"#DejaVuSans-114\"/>\r\n     <use x=\"792.183594\" xlink:href=\"#DejaVuSans-101\"/>\r\n     <use x=\"853.707031\" xlink:href=\"#DejaVuSans-99\"/>\r\n     <use x=\"908.6875\" xlink:href=\"#DejaVuSans-105\"/>\r\n     <use x=\"936.470703\" xlink:href=\"#DejaVuSans-115\"/>\r\n     <use x=\"988.570312\" xlink:href=\"#DejaVuSans-105\"/>\r\n     <use x=\"1016.353516\" xlink:href=\"#DejaVuSans-111\"/>\r\n     <use x=\"1077.535156\" xlink:href=\"#DejaVuSans-110\"/>\r\n     <use x=\"1140.914062\" xlink:href=\"#DejaVuSans-64\"/>\r\n     <use x=\"1240.914062\" xlink:href=\"#DejaVuSans-49\"/>\r\n     <use x=\"1304.537109\" xlink:href=\"#DejaVuSans-48\"/>\r\n     <use x=\"1368.160156\" xlink:href=\"#DejaVuSans-32\"/>\r\n     <use x=\"1399.947266\" xlink:href=\"#DejaVuSans-109\"/>\r\n     <use x=\"1497.359375\" xlink:href=\"#DejaVuSans-101\"/>\r\n     <use x=\"1558.882812\" xlink:href=\"#DejaVuSans-116\"/>\r\n     <use x=\"1598.091797\" xlink:href=\"#DejaVuSans-114\"/>\r\n     <use x=\"1639.205078\" xlink:href=\"#DejaVuSans-105\"/>\r\n     <use x=\"1666.988281\" xlink:href=\"#DejaVuSans-99\"/>\r\n    </g>\r\n   </g>\r\n   <g id=\"legend_1\">\r\n    <g id=\"patch_17\">\r\n     <path d=\"M 57.14375 59.674375 \r\nL 156.235938 59.674375 \r\nQ 158.235938 59.674375 158.235938 57.674375 \r\nL 158.235938 29.318125 \r\nQ 158.235938 27.318125 156.235938 27.318125 \r\nL 57.14375 27.318125 \r\nQ 55.14375 27.318125 55.14375 29.318125 \r\nL 55.14375 57.674375 \r\nQ 55.14375 59.674375 57.14375 59.674375 \r\nz\r\n\" style=\"fill:#ffffff;opacity:0.8;stroke:#cccccc;stroke-linejoin:miter;\"/>\r\n    </g>\r\n    <g id=\"patch_18\">\r\n     <path d=\"M 59.14375 38.916562 \r\nL 79.14375 38.916562 \r\nL 79.14375 31.916562 \r\nL 59.14375 31.916562 \r\nz\r\n\" style=\"fill:#0000ff;opacity:0.8;\"/>\r\n    </g>\r\n    <g id=\"text_16\">\r\n     <!-- Index set = 1 -->\r\n     <g transform=\"translate(87.14375 38.916562)scale(0.1 -0.1)\">\r\n      <defs>\r\n       <path d=\"M 45.40625 46.390625 \r\nL 45.40625 75.984375 \r\nL 54.390625 75.984375 \r\nL 54.390625 0 \r\nL 45.40625 0 \r\nL 45.40625 8.203125 \r\nQ 42.578125 3.328125 38.25 0.953125 \r\nQ 33.9375 -1.421875 27.875 -1.421875 \r\nQ 17.96875 -1.421875 11.734375 6.484375 \r\nQ 5.515625 14.40625 5.515625 27.296875 \r\nQ 5.515625 40.1875 11.734375 48.09375 \r\nQ 17.96875 56 27.875 56 \r\nQ 33.9375 56 38.25 53.625 \r\nQ 42.578125 51.265625 45.40625 46.390625 \r\nz\r\nM 14.796875 27.296875 \r\nQ 14.796875 17.390625 18.875 11.75 \r\nQ 22.953125 6.109375 30.078125 6.109375 \r\nQ 37.203125 6.109375 41.296875 11.75 \r\nQ 45.40625 17.390625 45.40625 27.296875 \r\nQ 45.40625 37.203125 41.296875 42.84375 \r\nQ 37.203125 48.484375 30.078125 48.484375 \r\nQ 22.953125 48.484375 18.875 42.84375 \r\nQ 14.796875 37.203125 14.796875 27.296875 \r\nz\r\n\" id=\"DejaVuSans-100\"/>\r\n       <path d=\"M 54.890625 54.6875 \r\nL 35.109375 28.078125 \r\nL 55.90625 0 \r\nL 45.3125 0 \r\nL 29.390625 21.484375 \r\nL 13.484375 0 \r\nL 2.875 0 \r\nL 24.125 28.609375 \r\nL 4.6875 54.6875 \r\nL 15.28125 54.6875 \r\nL 29.78125 35.203125 \r\nL 44.28125 54.6875 \r\nz\r\n\" id=\"DejaVuSans-120\"/>\r\n       <path d=\"M 10.59375 45.40625 \r\nL 73.1875 45.40625 \r\nL 73.1875 37.203125 \r\nL 10.59375 37.203125 \r\nz\r\nM 10.59375 25.484375 \r\nL 73.1875 25.484375 \r\nL 73.1875 17.1875 \r\nL 10.59375 17.1875 \r\nz\r\n\" id=\"DejaVuSans-61\"/>\r\n      </defs>\r\n      <use xlink:href=\"#DejaVuSans-73\"/>\r\n      <use x=\"29.492188\" xlink:href=\"#DejaVuSans-110\"/>\r\n      <use x=\"92.871094\" xlink:href=\"#DejaVuSans-100\"/>\r\n      <use x=\"156.347656\" xlink:href=\"#DejaVuSans-101\"/>\r\n      <use x=\"216.121094\" xlink:href=\"#DejaVuSans-120\"/>\r\n      <use x=\"275.300781\" xlink:href=\"#DejaVuSans-32\"/>\r\n      <use x=\"307.087891\" xlink:href=\"#DejaVuSans-115\"/>\r\n      <use x=\"359.1875\" xlink:href=\"#DejaVuSans-101\"/>\r\n      <use x=\"420.710938\" xlink:href=\"#DejaVuSans-116\"/>\r\n      <use x=\"459.919922\" xlink:href=\"#DejaVuSans-32\"/>\r\n      <use x=\"491.707031\" xlink:href=\"#DejaVuSans-61\"/>\r\n      <use x=\"575.496094\" xlink:href=\"#DejaVuSans-32\"/>\r\n      <use x=\"607.283203\" xlink:href=\"#DejaVuSans-49\"/>\r\n     </g>\r\n    </g>\r\n    <g id=\"patch_19\">\r\n     <path d=\"M 59.14375 53.594687 \r\nL 79.14375 53.594687 \r\nL 79.14375 46.594687 \r\nL 59.14375 46.594687 \r\nz\r\n\" style=\"fill:#008000;opacity:0.8;\"/>\r\n    </g>\r\n    <g id=\"text_17\">\r\n     <!-- Index set = 2 -->\r\n     <g transform=\"translate(87.14375 53.594687)scale(0.1 -0.1)\">\r\n      <use xlink:href=\"#DejaVuSans-73\"/>\r\n      <use x=\"29.492188\" xlink:href=\"#DejaVuSans-110\"/>\r\n      <use x=\"92.871094\" xlink:href=\"#DejaVuSans-100\"/>\r\n      <use x=\"156.347656\" xlink:href=\"#DejaVuSans-101\"/>\r\n      <use x=\"216.121094\" xlink:href=\"#DejaVuSans-120\"/>\r\n      <use x=\"275.300781\" xlink:href=\"#DejaVuSans-32\"/>\r\n      <use x=\"307.087891\" xlink:href=\"#DejaVuSans-115\"/>\r\n      <use x=\"359.1875\" xlink:href=\"#DejaVuSans-101\"/>\r\n      <use x=\"420.710938\" xlink:href=\"#DejaVuSans-116\"/>\r\n      <use x=\"459.919922\" xlink:href=\"#DejaVuSans-32\"/>\r\n      <use x=\"491.707031\" xlink:href=\"#DejaVuSans-61\"/>\r\n      <use x=\"575.496094\" xlink:href=\"#DejaVuSans-32\"/>\r\n      <use x=\"607.283203\" xlink:href=\"#DejaVuSans-50\"/>\r\n     </g>\r\n    </g>\r\n   </g>\r\n  </g>\r\n </g>\r\n <defs>\r\n  <clipPath id=\"p96c1e180bf\">\r\n   <rect height=\"219.4\" width=\"367.15\" x=\"50.14375\" y=\"22.318125\"/>\r\n  </clipPath>\r\n </defs>\r\n</svg>\r\n",
      "image/png": "[encoded data removed]"
     },
     "metadata": {
      "needs_background": "light"
     }
    }
   ],
   "source": [
    "# YOUR CODE HERE\n",
    "toplot = {'ERR':[[],[]],\n",
    "          'MAP':[[],[]],\n",
    "          'Recall@1':[[],[]],\n",
    "          'Recall@5':[[],[]],\n",
    "          'Recall@10':[[],[]],\n",
    "          'Precision@1':[[],[]],\n",
    "          'Precision@5':[[],[]],\n",
    "          'Precision@10':[[],[]]\n",
    "         }\n",
    "\n",
    "for search_name, search_fn in list_of_search_fns:\n",
    "    index_set_res_1 = evaluate_search_fn(search_fn,list_of_metrics,1)\n",
    "    for key,value in index_set_res_1.items():\n",
    "        toplot[key][0].append(value)\n",
    "    index_set_res_2 = evaluate_search_fn(search_fn,list_of_metrics,2)\n",
    "    for key,value in index_set_res_2.items():\n",
    "        toplot[key][1].append(value)\n",
    "\n",
    "n_groups = len(list_of_search_fns)        \n",
    "for (name,values) in toplot.items():\n",
    "        dict_keys = dict(list_of_search_fns).keys()\n",
    "        score_1 = values[0]\n",
    "        score_2 = values[1]\n",
    "        # create plot\n",
    "        fig, ax = plt.subplots()\n",
    "        index = np.arange(n_groups)\n",
    "        bar_width = 0.35\n",
    "        opacity = 0.8\n",
    "\n",
    "        rects1 = plt.bar(index, score_1, bar_width,\n",
    "        alpha=opacity,\n",
    "        color='b',\n",
    "        label='Index set = 1')\n",
    "\n",
    "        rects2 = plt.bar(index + bar_width, score_2, bar_width,\n",
    "        alpha=opacity,\n",
    "        color='g',\n",
    "        label='Index set = 2')\n",
    "\n",
    "        plt.xlabel('Search functions')\n",
    "        plt.ylabel('Results')\n",
    "        plt.title('Results using ' + name + ' metric')\n",
    "        plt.xticks(index + bar_width, dict_keys )\n",
    "        plt.legend()\n",
    "\n",
    "        plt.tight_layout()\n",
    "        plt.xticks(rotation=45)\n",
    "        plt.show()"
   ]
  },
  {
   "cell_type": "markdown",
   "metadata": {
    "deletable": false,
    "editable": false,
    "id": "lZ3SttfV4IWp",
    "nbgrader": {
     "cell_type": "markdown",
     "checksum": "e88c444a0acf4e398c65e289169b75f7",
     "grade": false,
     "grade_id": "cell-8aabe3bcf265deb0",
     "locked": true,
     "points": 10,
     "schema_version": 3,
     "solution": false,
     "task": true
    }
   },
   "source": [
    "---\n",
    "### Section 5.2: Summary (10 points)\n",
    "Write a summary of what you observe in the results.\n",
    "Your summary should compare results across the 2 indices and the methods being used. State what you expected to see in the results, followed by either supporting evidence *or* justify why the results did not support your expectations.      "
   ]
  },
  {
   "cell_type": "markdown",
   "metadata": {
    "id": "iD_gTGV84IWp"
   },
   "source": [
    "We have implemented log normalization on the term frequencies, because it worked better when compared to using the raw frequencies. It appears that the weights of the raw term frequencies have a too large effect on the scores, and a smaller (normalized) version of the term frequencies works better in this particular collection. When comparing the BOW with the TF-IDF search function, we notice that the TF-IDF scores are higher.  This is in line with our expectations, because the TF-IDF should work better for every evaluation metric. It seems  The reason behind this is that TF-IDF penalizes words that occur in many documents, expecting them to be less relevant, whereas binarized BOW counts the query tokens that also appear in the document. Previously, we had an implementation using the term frequency, and there our hypothesis appeared to be valid: TF-IDF would score higher than BOW. It appears that in this collection, the binarized BOW worked better. It seems that for these specific queries, it is important whether a query term appears in a document and not how many times. In 2 out of the 8 cases, index 1 is better than index 2 for TF-IDF. These cases are for the evaluation metrics recall@1 and precision@1. It might be that on average, the first document that is given back is matches better with a collection still containing the stop words and performing no stemming. In line with out expectations for TF-IDF, index 2 yields higher evaluation scores more frequently, reducing the stop word noise and performing the stemming procedure. For the BOW implementation, index set 2 always scores (slightly) higher, but this result is negligible for MAP and precision@10. \n",
    "\n",
    "Naive QL appears to have the lowest scores for all evaluation metrics. This was in line with our idea of the method, because if a query term does not appear in the document, then this score will result in 0 (because it is mutliplied by zero). This is of course too extreme a measure, because there could be 4/5 query terms that are indeed appearing in the document and yet this document obtains a score of zero. In contrast, QL works way better because it uses some kind of smoothing, which allows for documents to have a relatively high score even if some of the query tokens are not in the document. For both Naive QL and QL, index 2 appears to work better than index 1. This coincides with our idea of Naive QL and QL. Stop words like 'the' may appear many times in the document, resulting in an unnaturally high score, even though it might not be relevant and possibly obfuscate more relevant documents that do not contain many stop words. Similarly, query terms that occur in a different 'form' are considered to be not in the document and obtain a 0-score or a very small score, even though they might be relevant query terms. When applying a stemming procedure, one increases the probability of obtaining the same stem for words with different 'forms', therefore not unnecessarily decreasing the total score. We surmise that therefore index 2 works better in general than index 1.\n",
    "\n",
    "BM25 is a technique that has been developed over the years and is considered to be one of the most succesful IR algorithms, according to the literature [1]. This shows in our results, because there BM25 seems to outperform all other techniques/methods when considering the same index, except for index 1 of TF-IDF of the recall@1 metric. TF-IDF appears to pick relevant documents more frequently on average. For the precision@1 metric applied on BM25 and index 1, the result is higher than 0.5, which means that in for half of the queries, a revelant document has been obtained, on average! We deem this quite impressive. Only for recall@1, index 2 outperforms index 1, but only by a small amount. Therefore we ask ourselves whether this is different is statistically significant, or if index 1 is just 'lucky'. We do not know exactly what caused this and why this is not the case for recall at other cut-off values.  \n",
    "\n",
    "\n",
    "\n",
    "\n",
    "[1] - Robertson, S., & Zaragoza, H. (2009). The probabilistic relevance framework: BM25 and beyond. Now Publishers Inc.\n"
   ]
  },
  {
   "cell_type": "markdown",
   "metadata": {
    "deletable": false,
    "editable": false,
    "id": "GB_eEIJE4IWp",
    "nbgrader": {
     "cell_type": "markdown",
     "checksum": "b3eb77be74eecca205fc7b47316d1627",
     "grade": false,
     "grade_id": "cell-bb60dd5c092d0f2e",
     "locked": true,
     "schema_version": 3,
     "solution": false,
     "task": false
    }
   },
   "source": [
    "---\n",
    "---\n",
    "# Part 2: Semantic-based Matching (85 points) <a class=\"anchor\" id=\"part2\"></a>\n",
    "\n",
    "[Back to top](#top)\n",
    "\n",
    "We will now experiment with methods that go beyond lexical methods like TF-IDF, which operate at the word level and are high dimensional and sparse, and look at methods which constructs low dimensional dense representations of queries and documents. \n",
    "\n",
    "Since these low-dimensional methods have a higher time complexity, they are typically used in conjunction with methods like BM-25. That is, instead of searching through potentially million documents to find matches using low dimensional vectors, a list of K documents are retrieved using BM25, and then **re-ranked** using the other method. This is the method that is going to be applied in the following exercises. \n",
    "\n",
    "LSI/LDA takes documents that are similar on a semantic level - for instance, if they are describing the same topic - and projects them into nearby vectors, despite having low lexical overlap.\n",
    "\n",
    "In this assignment, you will use `gensim` to create LSI/LDA models and use them in re-ranking. \n",
    "\n",
    "**Note**: The following exercises only uses `doc_repr_2` and `config_2`\n",
    "\n",
    "Table of contents:\n",
    "- [Section 6: LSI](#lsi) (15 points)\n",
    "- [Section 7: LDA](#lda) (10 points)\n",
    "- [Section 8: Word2Vec/Doc2Vec](#2vec) (20 points)\n",
    "- [Section 8: Re-ranking](#reranking) (10 points)\n",
    "- [Section 9: Re-ranking Evaluation](#reranking_eval) (30 points)"
   ]
  },
  {
   "cell_type": "markdown",
   "metadata": {
    "deletable": false,
    "editable": false,
    "id": "-hdtSyZZ4IWp",
    "nbgrader": {
     "cell_type": "markdown",
     "checksum": "f7c7b2cab82f576ed0acf836ca57171c",
     "grade": false,
     "grade_id": "cell-6b2c81e7a8abd180",
     "locked": true,
     "schema_version": 3,
     "solution": false,
     "task": false
    }
   },
   "source": [
    "---\n",
    "## Section 6: Latent Semantic Indexing (LSI) (15 points) <a class=\"anchor\" id=\"lsi\"></a>\n",
    "\n",
    "[Back to Part 2](#part2)\n",
    "\n",
    "LSI is one of the methods to embed the queries and documents into vectors. It is based on a method similar to Principal Component Analysis (PCA) for obtaining a dense concept matrix out of the sparse term-document matrix.\n",
    "\n",
    "See [wikipedia](https://en.wikipedia.org/wiki/Latent_semantic_analysis), particularly [#Mathematics_of_LSI](https://en.wikipedia.org/wiki/Latent_semantic_analysis#Mathematics_of_LSI)."
   ]
  },
  {
   "cell_type": "code",
   "execution_count": 71,
   "metadata": {
    "ExecuteTime": {
     "end_time": "2021-02-19T10:40:49.270540Z",
     "start_time": "2021-02-19T10:40:49.124931Z"
    },
    "deletable": false,
    "editable": false,
    "id": "Qlqfq_y34IWq",
    "nbgrader": {
     "cell_type": "code",
     "checksum": "c17ee75319cb517e2bf48ec3d9efc329",
     "grade": false,
     "grade_id": "cell-59913daee47f680d",
     "locked": true,
     "schema_version": 3,
     "solution": false,
     "task": false
    }
   },
   "outputs": [],
   "source": [
    "from gensim.corpora import Dictionary\n",
    "from gensim.models import LdaModel, LsiModel, Word2Vec\n",
    "from gensim.models.doc2vec import Doc2Vec, TaggedDocument\n",
    "from gensim import downloader as g_downloader\n",
    "# gensim uses logging, so set it up \n",
    "import logging\n",
    "logging.basicConfig(format='%(asctime)s : %(levelname)s : %(message)s', level=logging.INFO)"
   ]
  },
  {
   "cell_type": "markdown",
   "metadata": {
    "deletable": false,
    "editable": false,
    "id": "KqeQEm1Q4IWq",
    "nbgrader": {
     "cell_type": "markdown",
     "checksum": "5fce140c546759b54a9fc060901ae77c",
     "grade": false,
     "grade_id": "cell-3644faff4976598a",
     "locked": true,
     "schema_version": 3,
     "solution": false,
     "task": false
    }
   },
   "source": [
    "---\n",
    "### Section 6.1: Cosine Similarity (5 points)<a class=\"anchor\" id=\"cosing_sim\"></a>\n",
    "Before we begin, let us first define our method of similarity for the LSI model, the cosine similarity:\n",
    "\n",
    "$$\\text{similarity} = \\cos(\\theta) = {\\mathbf{A} \\cdot \\mathbf{B} \\over \\|\\mathbf{A}\\| \\|\\mathbf{B}\\|} = \\frac{ \\sum\\limits_{i=1}^{n}{A_i  B_i} }{ \\sqrt{\\sum\\limits_{i=1}^{n}{A_i^2}}  \\sqrt{\\sum\\limits_{i=1}^{n}{B_i^2}} }$$\n",
    "\n",
    "Since we are using gensim, the types of vectors returned by their classes are of the form defined below (they are not just simple vectors):"
   ]
  },
  {
   "cell_type": "code",
   "execution_count": 72,
   "metadata": {
    "ExecuteTime": {
     "end_time": "2021-02-19T10:40:49.275527Z",
     "start_time": "2021-02-19T10:40:49.271538Z"
    },
    "deletable": false,
    "editable": false,
    "id": "GGCJRThj4IWq",
    "nbgrader": {
     "cell_type": "code",
     "checksum": "4e340e1a1d546f430c018fd0760e707a",
     "grade": false,
     "grade_id": "cell-3995a50f951314d5",
     "locked": true,
     "schema_version": 3,
     "solution": false,
     "task": false
    }
   },
   "outputs": [],
   "source": [
    "# 1, 2, 3 are either latent dimensions (LSI), or topics (LDA)\n",
    "# The second value in each tuple is a number (LSI) or a probability (LDA)  \n",
    "example_vec_1 = [(1, 0.2), (2, 0.3), (3, 0.4)]\n",
    "example_vec_2 = [(1, 0.2), (2, 0.7), (3, 0.4)]"
   ]
  },
  {
   "cell_type": "markdown",
   "metadata": {
    "deletable": false,
    "editable": false,
    "id": "yrXWRnVx4IWq",
    "nbgrader": {
     "cell_type": "markdown",
     "checksum": "20832fd4f579f49ae204b0efee02edd1",
     "grade": false,
     "grade_id": "cell-5e54d581858dc8f7",
     "locked": true,
     "schema_version": 3,
     "solution": false,
     "task": false
    }
   },
   "source": [
    "---\n",
    "**Implementation (2+3 points):**\n",
    "Now, implement the `dot product` operation on these types of vectors and using this operator, implement the `cosine similarity` (don't forget: two functions to implement!):"
   ]
  },
  {
   "cell_type": "code",
   "execution_count": 73,
   "metadata": {
    "ExecuteTime": {
     "end_time": "2021-02-19T10:40:49.286290Z",
     "start_time": "2021-02-19T10:40:49.276313Z"
    },
    "deletable": false,
    "id": "OLHTT0Pb4IWq",
    "nbgrader": {
     "cell_type": "code",
     "checksum": "06a712ee75fc213a21c5f0067fd8fe28",
     "grade": false,
     "grade_id": "cell-0e8189f5f93de33f",
     "locked": false,
     "schema_version": 3,
     "solution": true,
     "task": false
    }
   },
   "outputs": [],
   "source": [
    "# TODO: Implement this! (2 points)\n",
    "def dot(vec_1,vec_2): \n",
    "    \"\"\"\n",
    "        vec_1 and vec_2 are of the form: [(int, float), (int, float), ...]\n",
    "        Return the dot product of two such vectors, computed only on the floats\n",
    "        You can assume that the lengths of the vectors are the same, and the dimensions are aligned \n",
    "            i.e you won't get: vec_1 = [(1, 0.2)] ; vec_2 = [(2, 0.3)] \n",
    "                                (dimensions are unaligned and lengths are different)\n",
    "    \"\"\"\n",
    "    # YOUR CODE HERE\n",
    "    dot_product = 0\n",
    "    for i in range(len(vec_1)):\n",
    "        dot_product +=  vec_1[i][1] * vec_2[i][1]\n",
    "    \n",
    "    return dot_product\n",
    "\n",
    "# TODO: Implement this! (3 points)\n",
    "def cosine_sim(vec_1, vec_2):\n",
    "    # YOUR CODE HERE\n",
    "    similarity = 0\n",
    "    res_a = 0\n",
    "    res_b = 0\n",
    "    for i in range(len(vec_1)):\n",
    "        res_a += vec_1[i][1] ** 2\n",
    "        res_b += vec_2[i][1] ** 2\n",
    "    numerator = dot(vec_1,vec_2)\n",
    "    \n",
    "    # When there exists a zero vector\n",
    "    # This happens when none of the tokens in the query are in the w2v model.\n",
    "    # As per instruction, we return a similarity score of 0.\n",
    "    if res_a == 0 or res_b == 0:\n",
    "        return 0\n",
    "    else:\n",
    "        denominator = math.sqrt(res_a)*math.sqrt(res_b)\n",
    "        return numerator/denominator\n",
    "    "
   ]
  },
  {
   "cell_type": "code",
   "execution_count": 74,
   "metadata": {
    "ExecuteTime": {
     "end_time": "2021-02-19T10:40:49.292273Z",
     "start_time": "2021-02-19T10:40:49.287286Z"
    },
    "deletable": false,
    "editable": false,
    "id": "opNcoM_E4IWq",
    "nbgrader": {
     "cell_type": "code",
     "checksum": "d22a4a7325ba7815a808390388f534a1",
     "grade": true,
     "grade_id": "cell-b25d04ed6b79fd35",
     "locked": true,
     "points": 2,
     "schema_version": 3,
     "solution": false,
     "task": false
    }
   },
   "outputs": [
    {
     "name": "stdout",
     "output_type": "stream",
     "text": [
      "vectors: ([(1, 0.2), (2, 0.3), (3, 0.4)], [(1, 0.2), (2, 0.7), (3, 0.4)])\n",
      "dot product = 0.41000000000000003\n",
      "cosine similarity = 0.9165587597202866\n"
     ]
    }
   ],
   "source": [
    "##### Function check\n",
    "print(f'vectors: {(example_vec_1,example_vec_2)}')\n",
    "print(f'dot product = {dot(example_vec_1,example_vec_2)}')\n",
    "print(f'cosine similarity = {cosine_sim(example_vec_1,example_vec_2)}')\n",
    "##### "
   ]
  },
  {
   "cell_type": "code",
   "execution_count": 75,
   "metadata": {
    "ExecuteTime": {
     "end_time": "2021-02-19T10:40:49.297261Z",
     "start_time": "2021-02-19T10:40:49.294268Z"
    },
    "deletable": false,
    "editable": false,
    "id": "fqGAn-Qy4IWr",
    "nbgrader": {
     "cell_type": "code",
     "checksum": "0744131724ce76b1b3f163b4bae5f700",
     "grade": true,
     "grade_id": "cell-ae3c4466866ace77",
     "locked": true,
     "points": 3,
     "schema_version": 3,
     "solution": false,
     "task": false
    }
   },
   "outputs": [],
   "source": [
    "#### Please do not change this. This cell is used for grading."
   ]
  },
  {
   "cell_type": "markdown",
   "metadata": {
    "deletable": false,
    "editable": false,
    "id": "-EkJ-o9j4IWr",
    "nbgrader": {
     "cell_type": "markdown",
     "checksum": "9b123f599f9ea372d14676e23f1c6a52",
     "grade": false,
     "grade_id": "cell-4b2534067c44fcdf",
     "locked": true,
     "schema_version": 3,
     "solution": false,
     "task": false
    }
   },
   "source": [
    "---\n",
    "### Section 6.2: LSI Retrieval (10 points)<a class=\"anchor\" id=\"lsi_retrieval\"></a>\n",
    "LSI retrieval is simply ranking the documents based on their cosine similarity to the query vector.\n",
    "First, let's write a parent class for vector-based retrieval models:"
   ]
  },
  {
   "cell_type": "code",
   "execution_count": 76,
   "metadata": {
    "ExecuteTime": {
     "end_time": "2021-02-19T10:40:49.307235Z",
     "start_time": "2021-02-19T10:40:49.299255Z"
    },
    "deletable": false,
    "editable": false,
    "id": "vui4hfKK4IWr",
    "nbgrader": {
     "cell_type": "code",
     "checksum": "ecc111d58182570e2252b8ef5d6b02af",
     "grade": false,
     "grade_id": "cell-937936cea18711ee",
     "locked": true,
     "schema_version": 3,
     "solution": false,
     "task": false
    }
   },
   "outputs": [],
   "source": [
    "class VectorSpaceRetrievalModel:\n",
    "    \"\"\"\n",
    "        Parent class for Dense Vector Retrieval models\n",
    "    \"\"\"\n",
    "    def __init__(self, doc_repr):\n",
    "        \"\"\"\n",
    "            document_collection: \n",
    "                [\n",
    "                    (doc_id_1, [token 1, token 2, ...]), \n",
    "                    (doc_id_2, [token 1, token 2, ....]) \n",
    "                    ...\n",
    "                ]\n",
    "\n",
    "        \"\"\"\n",
    "        self.doc_repr = doc_repr\n",
    "        self.documents = [_[1] for _ in self.doc_repr]\n",
    "        \n",
    "        # construct a dictionary\n",
    "        self.dictionary = Dictionary(self.documents)\n",
    "        # Filter out words that occur less than 20 documents, or more than 50% of the documents.\n",
    "        self.dictionary.filter_extremes(no_below=10)\n",
    "        self.corpus = [self.dictionary.doc2bow(doc) for doc in self.documents]\n",
    "    \n",
    "        # Make a index to word dictionary.\n",
    "        temp = self.dictionary[0]  # This is only to \"load\" the dictionary.\n",
    "        self.id2word = self.dictionary.id2token\n",
    "        \n",
    "        # this is set by the train_model function\n",
    "        self.model = None\n",
    "        \n",
    "        \n",
    "    def vectorize_documents(self):\n",
    "        \"\"\"\n",
    "            Returns a doc_id -> vector dictionary\n",
    "        \"\"\"\n",
    "        vectors = {}\n",
    "        for (doc_id, _), cc in zip(self.doc_repr, self.corpus):\n",
    "            vectors[doc_id] = self.model[cc]\n",
    "        return vectors\n",
    "\n",
    "    def vectorize_query(self, query):\n",
    "        # Note the use of config_2 here!\n",
    "        query = process_text(query, **config_2)\n",
    "        query_vector = self.dictionary.doc2bow(query)\n",
    "        return self.model[query_vector]\n",
    "    \n",
    "    def train_model(self):\n",
    "        \"\"\"\n",
    "            Trains a model and sets the 'self.model' variable. \n",
    "            Make sure to use the variables created in the __init__ method.\n",
    "            e.g the variables which may be useful: {corpus, dictionary, id2word}\n",
    "        \"\"\"\n",
    "        raise NotImplementedError()"
   ]
  },
  {
   "cell_type": "markdown",
   "metadata": {
    "deletable": false,
    "editable": false,
    "id": "7hVlHxL34IWr",
    "nbgrader": {
     "cell_type": "markdown",
     "checksum": "ff161eefd9b81b768cd6361bc1a502b0",
     "grade": false,
     "grade_id": "cell-704a18c2f80cd60c",
     "locked": true,
     "schema_version": 3,
     "solution": false,
     "task": false
    }
   },
   "source": [
    "---\n",
    "**Implementation (5 points):**\n",
    "Implement the `train_model` method in the following class (note that this is only one line of code in `gensim`!). Ensure that the parameters defined in the `__init__` method are not changed, and are *used in the `train_method` function*. Normally, the hyperaparameter space will be searched using grid search / other methods - in this assignment we have provided the hyperparameters for you.\n",
    "\n",
    "The last two lines of code train an LSI model on the list of documents which have been stemmed, lower-cased and have stopwords removed. "
   ]
  },
  {
   "cell_type": "code",
   "execution_count": 77,
   "metadata": {
    "ExecuteTime": {
     "end_time": "2021-02-19T10:40:49.314215Z",
     "start_time": "2021-02-19T10:40:49.309229Z"
    },
    "deletable": false,
    "id": "stvTMFN44IWr",
    "nbgrader": {
     "cell_type": "code",
     "checksum": "0e90eedc27c248bc1ae050518a46a46c",
     "grade": false,
     "grade_id": "cell-307682c9089f15d6",
     "locked": false,
     "schema_version": 3,
     "solution": true,
     "task": false
    }
   },
   "outputs": [],
   "source": [
    "# TODO: Implement this! (5 points)\n",
    "class LsiRetrievalModel(VectorSpaceRetrievalModel):\n",
    "    def __init__(self, doc_repr):\n",
    "        super().__init__(doc_repr)\n",
    "        \n",
    "        self.num_topics = 100\n",
    "        self.chunksize = 2000\n",
    "    \n",
    "    def train_model(self):\n",
    "        # YOUR CODE HERE\n",
    "        self.model = LsiModel(self.corpus, id2word = self.id2word, num_topics = self.num_topics, chunksize = self.chunksize)"
   ]
  },
  {
   "cell_type": "code",
   "execution_count": 78,
   "metadata": {
    "ExecuteTime": {
     "end_time": "2021-02-19T10:40:49.982427Z",
     "start_time": "2021-02-19T10:40:49.316210Z"
    },
    "deletable": false,
    "editable": false,
    "id": "_khGWJSi4IWr",
    "nbgrader": {
     "cell_type": "code",
     "checksum": "00399cfe13d60cb4beed1271e36004b0",
     "grade": true,
     "grade_id": "cell-5ce512650c1b2dfb",
     "locked": true,
     "points": 0,
     "schema_version": 3,
     "solution": false,
     "task": false
    }
   },
   "outputs": [
    {
     "name": "stderr",
     "output_type": "stream",
     "text": [
      "2021-02-19 11:40:49,318 : INFO : adding document #0 to Dictionary(0 unique tokens: [])\n",
      "2021-02-19 11:40:49,483 : INFO : built Dictionary(6204 unique tokens: ['-', 'algebra', 'intern', 'languag', 'preliminari']...) from 3204 documents (total 196845 corpus positions)\n",
      "2021-02-19 11:40:49,490 : INFO : discarding 4795 tokens: [('of', 2061), ('repeat', 8), ('glossari', 7), ('inspect', 8), ('the', 1794), ('uncol', 2), ('a', 1807), ('rung', 9), ('secant', 2), ('.', 1603)]...\n",
      "2021-02-19 11:40:49,491 : INFO : keeping 1409 tokens which were in no less than 10 and no more than 1602 (=50.0%) documents\n",
      "2021-02-19 11:40:49,495 : INFO : resulting dictionary: Dictionary(1409 unique tokens: ['-', 'algebra', 'intern', 'languag', 'preliminari']...)\n",
      "2021-02-19 11:40:49,593 : INFO : using serial LSI version on this node\n",
      "2021-02-19 11:40:49,594 : INFO : updating model with new documents\n",
      "2021-02-19 11:40:49,594 : INFO : preparing a new chunk of documents\n",
      "2021-02-19 11:40:49,611 : INFO : using 100 extra samples and 2 power iterations\n",
      "2021-02-19 11:40:49,611 : INFO : 1st phase: constructing (1409, 200) action matrix\n",
      "2021-02-19 11:40:49,640 : INFO : orthonormalizing (1409, 200) action matrix\n",
      "2021-02-19 11:40:49,728 : INFO : 2nd phase: running dense svd on (200, 2000) matrix\n",
      "2021-02-19 11:40:49,771 : INFO : computing the final decomposition\n",
      "2021-02-19 11:40:49,772 : INFO : keeping 100 factors (discarding 11.397% of energy spectrum)\n",
      "2021-02-19 11:40:49,776 : INFO : processed documents up to #2000\n",
      "2021-02-19 11:40:49,778 : INFO : topic #0(226.245): -0.469*\",\" + -0.358*\"and\" + -0.302*\"to\" + -0.287*\"is\" + -0.272*\"in\" + -0.231*\"for\" + -0.218*\"-\" + -0.158*\"are\" + -0.139*\"system\" + -0.137*\"program\"\n",
      "2021-02-19 11:40:49,779 : INFO : topic #1(63.170): -0.439*\"(\" + 0.341*\",\" + -0.309*\")\" + 0.307*\"and\" + -0.300*\"algorithm\" + -0.284*\"is\" + 0.269*\"system\" + -0.163*\"to\" + -0.141*\"method\" + -0.091*\"it\"\n",
      "2021-02-19 11:40:49,781 : INFO : topic #2(62.650): 0.560*\",\" + 0.387*\"(\" + -0.314*\"to\" + 0.278*\")\" + -0.252*\"is\" + 0.229*\"-\" + -0.217*\"in\" + 0.156*\"algorithm\" + -0.137*\"comput\" + -0.114*\"be\"\n",
      "2021-02-19 11:40:49,782 : INFO : topic #3(58.616): 0.758*\"-\" + -0.441*\",\" + 0.226*\"system\" + -0.217*\"is\" + 0.156*\"and\" + 0.097*\"for\" + -0.075*\"it\" + 0.075*\"time\" + 0.065*\"program\" + -0.062*\"that\"\n",
      "2021-02-19 11:40:49,784 : INFO : topic #4(52.367): 0.492*\"and\" + -0.409*\"-\" + 0.281*\"(\" + -0.260*\",\" + -0.253*\"to\" + 0.239*\"are\" + 0.217*\")\" + 0.213*\"algorithm\" + -0.183*\"is\" + 0.170*\"for\"\n",
      "2021-02-19 11:40:49,785 : INFO : preparing a new chunk of documents\n",
      "2021-02-19 11:40:49,803 : INFO : using 100 extra samples and 2 power iterations\n",
      "2021-02-19 11:40:49,804 : INFO : 1st phase: constructing (1409, 200) action matrix\n",
      "2021-02-19 11:40:49,825 : INFO : orthonormalizing (1409, 200) action matrix\n",
      "2021-02-19 11:40:49,906 : INFO : 2nd phase: running dense svd on (200, 1204) matrix\n",
      "2021-02-19 11:40:49,934 : INFO : computing the final decomposition\n",
      "2021-02-19 11:40:49,935 : INFO : keeping 100 factors (discarding 11.410% of energy spectrum)\n",
      "2021-02-19 11:40:49,939 : INFO : merging projections: (1409, 100) + (1409, 100)\n",
      "2021-02-19 11:40:49,954 : INFO : keeping 100 factors (discarding 6.298% of energy spectrum)\n",
      "2021-02-19 11:40:49,959 : INFO : processed documents up to #3204\n",
      "2021-02-19 11:40:49,960 : INFO : topic #0(340.063): 0.471*\",\" + 0.367*\"and\" + 0.309*\"to\" + 0.296*\"is\" + 0.270*\"in\" + 0.224*\"for\" + 0.212*\"-\" + 0.156*\"are\" + 0.129*\"system\" + 0.126*\"program\"\n",
      "2021-02-19 11:40:49,962 : INFO : topic #1(94.998): -0.646*\",\" + 0.354*\"is\" + -0.248*\"and\" + 0.244*\"to\" + 0.233*\"algorithm\" + 0.163*\"(\" + -0.154*\"system\" + 0.142*\"-\" + 0.142*\"method\" + 0.136*\"in\"\n",
      "2021-02-19 11:40:49,963 : INFO : topic #2(89.650): 0.436*\"(\" + 0.367*\",\" + 0.363*\"-\" + 0.315*\")\" + 0.264*\"algorithm\" + -0.229*\"to\" + -0.223*\"program\" + -0.207*\"system\" + -0.197*\"and\" + -0.160*\"in\"\n",
      "2021-02-19 11:40:49,965 : INFO : topic #3(83.159): 0.790*\"-\" + -0.297*\",\" + 0.257*\"system\" + -0.249*\"is\" + 0.182*\"and\" + -0.109*\"(\" + -0.088*\"to\" + -0.086*\"algorithm\" + -0.077*\")\" + 0.070*\"time\"\n",
      "2021-02-19 11:40:49,966 : INFO : topic #4(77.282): -0.420*\"and\" + -0.386*\"(\" + 0.312*\"is\" + -0.294*\")\" + 0.291*\",\" + 0.289*\"-\" + -0.256*\"for\" + -0.211*\"program\" + 0.202*\"to\" + -0.183*\"algorithm\"\n"
     ]
    },
    {
     "data": {
      "text/plain": [
       "[(0, 0.009994369146817145),\n",
       " (1, -0.017276339480367723),\n",
       " (2, -0.007050158012975424),\n",
       " (3, -0.0018908312772318912),\n",
       " (4, -0.0068423255825955185),\n",
       " (5, 0.0014790957857360003),\n",
       " (6, 0.0051943101464950805),\n",
       " (7, -0.027775194194278697),\n",
       " (8, -0.0071221115305628024),\n",
       " (9, -0.011928582519292769),\n",
       " (10, 0.01849039077585642),\n",
       " (11, 0.014697953322985825),\n",
       " (12, 0.04146308279798203),\n",
       " (13, -0.0057774956294732),\n",
       " (14, -0.00019290760301067696),\n",
       " (15, 0.0016502040807302911),\n",
       " (16, 0.014734286179444559),\n",
       " (17, -0.0008491654027777823),\n",
       " (18, 0.016495722874536344),\n",
       " (19, -0.0169413543900393),\n",
       " (20, 0.021288209111351392),\n",
       " (21, -0.007607828414676162),\n",
       " (22, 0.00729831668374162),\n",
       " (23, 0.018428812782692733),\n",
       " (24, -0.0402203439939572),\n",
       " (25, -0.036633121854030844),\n",
       " (26, -0.005972420589923809),\n",
       " (27, 0.014794157966275492),\n",
       " (28, 0.010407800703111064),\n",
       " (29, -0.016021197425636582),\n",
       " (30, -0.004039333189061226),\n",
       " (31, -0.0012056932201110846),\n",
       " (32, -0.010752614599328938),\n",
       " (33, -0.013457344412838324),\n",
       " (34, -0.008705236651743591),\n",
       " (35, -0.008445262369022922),\n",
       " (36, -0.010145922653284366),\n",
       " (37, 0.026769868946143173),\n",
       " (38, 0.011285072076392273),\n",
       " (39, 0.02015830848652349),\n",
       " (40, 0.025191542828095416),\n",
       " (41, -0.033471427906106514),\n",
       " (42, 0.0018762189766691455),\n",
       " (43, -0.02229465824365686),\n",
       " (44, 0.04631982857447371),\n",
       " (45, 0.012194045831977569),\n",
       " (46, -0.033846988929734),\n",
       " (47, -0.03061113241616887),\n",
       " (48, 0.002985123560999902),\n",
       " (49, -0.018685673383983976),\n",
       " (50, 0.08796862026407287),\n",
       " (51, -0.004472927100709491),\n",
       " (52, 0.02322715480303397),\n",
       " (53, -0.05666526692554215),\n",
       " (54, -0.0029212590333550785),\n",
       " (55, 0.0013019024821165335),\n",
       " (56, 0.041079773279737414),\n",
       " (57, 0.014872195342420211),\n",
       " (58, 0.019356884197020304),\n",
       " (59, -0.07007341568669445),\n",
       " (60, -0.009618349947760459),\n",
       " (61, -0.0062147378085387235),\n",
       " (62, -0.019016902940305197),\n",
       " (63, 0.038194559788472866),\n",
       " (64, 0.035575466077771165),\n",
       " (65, 0.029273299053406084),\n",
       " (66, 0.006531628519772088),\n",
       " (67, 0.0012122461383868182),\n",
       " (68, -0.03327595684136224),\n",
       " (69, 0.023582978745509364),\n",
       " (70, -0.0050972298363839135),\n",
       " (71, 0.022783302138844372),\n",
       " (72, 0.023755910935898395),\n",
       " (73, 0.05859874303390593),\n",
       " (74, 0.005724507209857774),\n",
       " (75, 0.008738806680057894),\n",
       " (76, 0.005795243101299205),\n",
       " (77, -0.011545150565529069),\n",
       " (78, -0.019564439709010395),\n",
       " (79, 0.01702883097970191),\n",
       " (80, -0.05835614406800471),\n",
       " (81, 0.024591977998825336),\n",
       " (82, -0.023960792823191454),\n",
       " (83, 0.031247900299554834),\n",
       " (84, -0.02238422408483043),\n",
       " (85, -0.01736606375983389),\n",
       " (86, 0.003151020270477799),\n",
       " (87, -0.05864615022336877),\n",
       " (88, 0.02214461166546497),\n",
       " (89, -0.02025419774150023),\n",
       " (90, 0.02953847891830731),\n",
       " (91, 0.03358760142562359),\n",
       " (92, -0.06864470185719028),\n",
       " (93, -0.02405305628243892),\n",
       " (94, 0.0008908472178733133),\n",
       " (95, -0.029472639175228743),\n",
       " (96, -0.043838456127237975),\n",
       " (97, 0.00850954509358576),\n",
       " (98, -0.007042244777463112),\n",
       " (99, 0.022775145343349415)]"
      ]
     },
     "execution_count": 78,
     "metadata": {},
     "output_type": "execute_result"
    }
   ],
   "source": [
    "##### Function check\n",
    "lsi = LsiRetrievalModel(doc_repr_2)\n",
    "lsi.train_model()\n",
    "\n",
    "# you can now get an LSI vector for a given query in the following way:\n",
    "lsi.vectorize_query(\"report\")\n",
    "##### "
   ]
  },
  {
   "cell_type": "markdown",
   "metadata": {
    "deletable": false,
    "editable": false,
    "id": "NGA8x3e54IWs",
    "nbgrader": {
     "cell_type": "markdown",
     "checksum": "7116bb9f576c5bb04934e1d59c51d729",
     "grade": false,
     "grade_id": "cell-4c5eeb557b4fca2f",
     "locked": true,
     "points": 5,
     "schema_version": 3,
     "solution": false,
     "task": true
    }
   },
   "source": [
    "\\#### Please do not change this. This cell is used for grading."
   ]
  },
  {
   "cell_type": "markdown",
   "metadata": {
    "deletable": false,
    "editable": false,
    "id": "XC11dqNi4IWs",
    "nbgrader": {
     "cell_type": "markdown",
     "checksum": "1068a108600b8c1539117d543e720354",
     "grade": false,
     "grade_id": "cell-c4e50296cd17a555",
     "locked": true,
     "schema_version": 3,
     "solution": false,
     "task": false
    }
   },
   "source": [
    "---\n",
    "Next, implement a basic ranking class for vector space retrieval (used for all semantic methods): "
   ]
  },
  {
   "cell_type": "code",
   "execution_count": 79,
   "metadata": {
    "ExecuteTime": {
     "end_time": "2021-02-19T10:40:49.993397Z",
     "start_time": "2021-02-19T10:40:49.985422Z"
    },
    "deletable": false,
    "id": "7-cQ_F004IWs",
    "nbgrader": {
     "cell_type": "code",
     "checksum": "1a8389d2f0635c3405e2b0b27ed9f327",
     "grade": false,
     "grade_id": "cell-250515d288e80cdc",
     "locked": false,
     "schema_version": 3,
     "solution": true,
     "task": false
    }
   },
   "outputs": [],
   "source": [
    "# TODO: Implement this! (5 points)\n",
    "class DenseRetrievalRanker:\n",
    "    def __init__(self, vsrm, similarity_fn):\n",
    "        \"\"\"\n",
    "            vsrm: instance of `VectorSpaceRetrievalModel`\n",
    "            similarity_fn: function instance that takes in two vectors \n",
    "                            and returns a similarity score e.g cosine_sim defined earlier\n",
    "        \"\"\"\n",
    "        self.vsrm = vsrm \n",
    "        self.vectorized_documents = self.vsrm.vectorize_documents()\n",
    "        self.similarity_fn = similarity_fn\n",
    "    \n",
    "    def _compute_sim(self, query_vector):\n",
    "        \"\"\"\n",
    "            Compute the similarity of `query_vector` to documents in \n",
    "            `self.vectorized_documents` using `self.similarity_fn`\n",
    "            Returns a list of (doc_id, score) tuples\n",
    "        \"\"\"\n",
    "        # YOUR CODE HERE\n",
    "        result_list = []\n",
    "        self.query_vector = query_vector\n",
    "        for key, doc in self.vectorized_documents.items():\n",
    "            if len(doc) != 0:\n",
    "                score = self.similarity_fn(doc,self.query_vector)\n",
    "                result_list.append((key,score))               \n",
    "        return result_list\n",
    "    \n",
    "    def search(self, query):\n",
    "        scores = self._compute_sim(self.vsrm.vectorize_query(query))\n",
    "        scores.sort(key=lambda _:-_[1])\n",
    "        return scores "
   ]
  },
  {
   "cell_type": "code",
   "execution_count": 80,
   "metadata": {
    "ExecuteTime": {
     "end_time": "2021-02-19T10:40:51.181109Z",
     "start_time": "2021-02-19T10:40:49.995393Z"
    },
    "deletable": false,
    "editable": false,
    "id": "84ShnBqC4IWs",
    "nbgrader": {
     "cell_type": "code",
     "checksum": "f237dd1ef6c1783c06797f4b514421f5",
     "grade": true,
     "grade_id": "cell-b73068b3e77a8e31",
     "locked": true,
     "points": 0,
     "schema_version": 3,
     "solution": false,
     "task": false
    }
   },
   "outputs": [
    {
     "data": {
      "text/plain": [
       "[('2531', 0.4832525409833293),\n",
       " ('53', 0.45342855705667745),\n",
       " ('947', 0.44810345753481595),\n",
       " ('3160', 0.43858681809839095),\n",
       " ('722', 0.4191244620298293)]"
      ]
     },
     "execution_count": 80,
     "metadata": {},
     "output_type": "execute_result"
    }
   ],
   "source": [
    "##### Function check\n",
    "drm_lsi = DenseRetrievalRanker(lsi, cosine_sim)\n",
    "drm_lsi.search(\"report\")[:5]\n",
    "##### "
   ]
  },
  {
   "cell_type": "markdown",
   "metadata": {
    "deletable": false,
    "editable": false,
    "id": "J7KStoCJ4IWs",
    "nbgrader": {
     "cell_type": "markdown",
     "checksum": "5b3f19fdcaa585d263706d5a26038799",
     "grade": false,
     "grade_id": "cell-034c755a6502b868",
     "locked": true,
     "points": 5,
     "schema_version": 3,
     "solution": false,
     "task": true
    }
   },
   "source": [
    "\\#### Please do not change this. This cell is used for grading."
   ]
  },
  {
   "cell_type": "markdown",
   "metadata": {
    "deletable": false,
    "editable": false,
    "id": "151cPjf34IWs",
    "nbgrader": {
     "cell_type": "markdown",
     "checksum": "dcafef6e037033c46304b914f7c78bdf",
     "grade": false,
     "grade_id": "cell-d1df23f497d5ed6b",
     "locked": true,
     "schema_version": 3,
     "solution": false,
     "task": false
    }
   },
   "source": [
    "---\n",
    "Now, you can test your LSI model in the following cell: try finding queries which are lexically different to documents, but semantically similar - does LSI work well for these queries?!"
   ]
  },
  {
   "cell_type": "code",
   "execution_count": 81,
   "metadata": {
    "ExecuteTime": {
     "end_time": "2021-02-19T10:40:51.195072Z",
     "start_time": "2021-02-19T10:40:51.182106Z"
    },
    "deletable": false,
    "editable": false,
    "id": "_YwVurAt4IWs",
    "nbgrader": {
     "cell_type": "code",
     "checksum": "11734bc7674377b340ad51297a8e8bb5",
     "grade": false,
     "grade_id": "cell-efd1d08dfc04ec3e",
     "locked": true,
     "schema_version": 3,
     "solution": false,
     "task": false
    }
   },
   "outputs": [
    {
     "data": {
      "application/vnd.jupyter.widget-view+json": {
       "model_id": "0903038d62544c7e9ef26dbfb5ca38eb",
       "version_major": 2,
       "version_minor": 0
      },
      "text/plain": [
       "Text(value='', description='Search Bar')"
      ]
     },
     "metadata": {},
     "output_type": "display_data"
    }
   ],
   "source": [
    "# test your LSI model\n",
    "search_fn = drm_lsi.search\n",
    "\n",
    "text = widgets.Text(description=\"Search Bar\", width=200)\n",
    "display(text)\n",
    "\n",
    "def make_results_2(query, search_fn):\n",
    "    results = []\n",
    "    for doc_id, score in search_fn(query):\n",
    "        highlight = highlight_text(docs_by_id[doc_id], query)\n",
    "        if len(highlight.strip()) == 0:\n",
    "            highlight = docs_by_id[doc_id]\n",
    "        results.append(ResultRow(doc_id, highlight, score))\n",
    "    return results\n",
    "\n",
    "def handle_submit_2(sender):\n",
    "    print(f\"Searching for: '{sender.value}' (SEARCH FN: {search_fn})\")\n",
    "    \n",
    "    results = make_results_2(sender.value, search_fn)\n",
    "    \n",
    "    # display only the top 5\n",
    "    results = results[:5]\n",
    "    \n",
    "    body = \"\"\n",
    "    for idx, r in enumerate(results):\n",
    "        body += f\"<li>Document #{r.doc_id}({r.score}): {r.snippet}</li>\"\n",
    "    display(HTML(f\"<ul>{body}</ul>\"))\n",
    "    \n",
    "\n",
    "text.on_submit(handle_submit_2)"
   ]
  },
  {
   "cell_type": "markdown",
   "metadata": {
    "deletable": false,
    "editable": false,
    "id": "0PGe6mPD4IWt",
    "nbgrader": {
     "cell_type": "markdown",
     "checksum": "d074ce1ca48384cdda78742741c938be",
     "grade": false,
     "grade_id": "cell-3a86cef264d8f6cf",
     "locked": true,
     "schema_version": 3,
     "solution": false,
     "task": false
    }
   },
   "source": [
    "---\n",
    "## Section 7: Latent Dirichlet Allocation (LDA) (10 points) <a class=\"anchor\" id=\"lda\"></a>\n",
    "\n",
    "[Back to Part 2](#part2)\n",
    "\n",
    "The specifics of LDA is out of the scope of this assignment, but we will use the `gensim` implementation to perform search using LDA over our small document collection. The key thing to remember is that LDA, unlike LSI, outputs a topic **distribution**, not a vector. With that in mind, let's first define a similarity measure.\n"
   ]
  },
  {
   "cell_type": "markdown",
   "metadata": {
    "deletable": false,
    "editable": false,
    "id": "xMbAwqEW4IWt",
    "nbgrader": {
     "cell_type": "markdown",
     "checksum": "db01092373b18f0c9dfed1bb17db4ad9",
     "grade": false,
     "grade_id": "cell-6b78ad22c2d60ba7",
     "locked": true,
     "schema_version": 3,
     "solution": false,
     "task": false
    }
   },
   "source": [
    "---\n",
    "### Section 7.1: Jenson-Shannon divergence (5 points) <a class=\"anchor\" id=\"js_sim\"></a>\n",
    "\n",
    "The Jenson-Shannon divergence is a symmetric and finite measure on two probability distributions (unlike the KL, which is neither). For identical distributions, the JSD is equal to 0, and since our code uses 0 as irrelevant and higher scores as relevant, we use `(1 - JSD)` as the score or 'similarity' in our setup\n",
    "\n",
    "**Note**: the JSD is bounded to \\[0,1\\] only if we use log base 2. So please ensure that you're using `np.log2` instead of `np.log`"
   ]
  },
  {
   "cell_type": "code",
   "execution_count": 82,
   "metadata": {
    "ExecuteTime": {
     "end_time": "2021-02-19T10:40:51.203070Z",
     "start_time": "2021-02-19T10:40:51.196068Z"
    },
    "deletable": false,
    "id": "OP-T-8i-4IWt",
    "nbgrader": {
     "cell_type": "code",
     "checksum": "a579e6cd7a24a3516bc9a84528b392d3",
     "grade": false,
     "grade_id": "cell-d2376a85a4841e98",
     "locked": false,
     "schema_version": 3,
     "solution": true,
     "task": false
    }
   },
   "outputs": [],
   "source": [
    "## TODO: Implement this! (5 points)\n",
    "def jenson_shannon_divergence(vec_1, vec_2, assert_prob=False):\n",
    "    \"\"\"\n",
    "        Computes the Jensen-Shannon divergence between two probability distributions. \n",
    "        NOTE: DO NOT RETURN 1 - JSD here, that is handled by the next function which is already implemented! \n",
    "        The inputs are *gensim* vectors - same as the vectors for the cosine_sim function\n",
    "        assert_prob is a flag that checks if the inputs are proper probability distributions \n",
    "            i.e they sum to 1 and are positive - use this to check your inputs if needed. \n",
    "                (This is optional to implement, but recommended - \n",
    "                you can the default to False to save a few ms off the runtime)\n",
    "    \"\"\"\n",
    "    # YOUR CODE HERE\n",
    "    if assert_prob:\n",
    "        sum_vec_1 = sum(value[1] for value in vec_1)\n",
    "        sum_vec_2 = sum(value[1] for value in vec_2)\n",
    "        if sum_vec_1 != 1:\n",
    "            print('Input vec_1 is not in the correct format!')\n",
    "            return\n",
    "        if sum_vec_2 != 1:\n",
    "            print('Input vec_2 is not in the correct format!')\n",
    "            return\n",
    "            \n",
    "    vec_1 = np.array([value for id,value in vec_1])\n",
    "    vec_2 = np.array([value for id,value in vec_2])\n",
    "    \n",
    "    d1 = vec_1*np.log2(vec_1/((vec_1+vec_2)/2))\n",
    "    d2 = vec_2*np.log2(vec_2/((vec_1+vec_2)/2))\n",
    "    d1[np.isnan(d1)] = 0\n",
    "    d2[np.isnan(d2)] = 0\n",
    "    d = 0.5*np.sum(d1+d2)\n",
    "    \n",
    "    return d\n",
    "    \n",
    "def jenson_shannon_sim(vec_1, vec_2, assert_prob=False):\n",
    "    return 1 - jenson_shannon_divergence(vec_1, vec_2, assert_prob)\n"
   ]
  },
  {
   "cell_type": "code",
   "execution_count": 83,
   "metadata": {
    "ExecuteTime": {
     "end_time": "2021-02-19T10:40:51.210068Z",
     "start_time": "2021-02-19T10:40:51.204047Z"
    },
    "deletable": false,
    "editable": false,
    "id": "0Jx8X0vU4IWt",
    "nbgrader": {
     "cell_type": "code",
     "checksum": "ab340aa941c9fb5c89b3fd0a9139e246",
     "grade": true,
     "grade_id": "cell-487c6d2933f38053",
     "locked": true,
     "points": 5,
     "schema_version": 3,
     "solution": false,
     "task": false
    }
   },
   "outputs": [
    {
     "data": {
      "text/plain": [
       "0.9251064410358459"
      ]
     },
     "execution_count": 83,
     "metadata": {},
     "output_type": "execute_result"
    }
   ],
   "source": [
    "##### Function check\n",
    "vec_1 = [(1, 0.3), (2, 0.4), (3, 0.3)]\n",
    "vec_2 = [(1, 0.1), (2, 0.7), (3, 0.2)]\n",
    "jenson_shannon_sim(vec_1, vec_2, assert_prob=True)\n",
    "##### "
   ]
  },
  {
   "cell_type": "markdown",
   "metadata": {
    "deletable": false,
    "editable": false,
    "id": "1qyB_mcw4IWt",
    "nbgrader": {
     "cell_type": "markdown",
     "checksum": "0a1583a5f23e3390038331cce67f5d8e",
     "grade": false,
     "grade_id": "cell-4535cc67a50b80fa",
     "locked": true,
     "schema_version": 3,
     "solution": false,
     "task": false
    }
   },
   "source": [
    "---\n",
    "### Section 7.2: LDA retrieval (5 points) <a class=\"anchor\" id=\"lda_ret\"></a>\n",
    "\n",
    "Implement the `train_model` method in the following class (note that this is only one line of code in `gensim`!). Ensure that the parameters defined in the `__init__` method are not changed, and are *used in the `train_method` function*. You do not need to set this. Normally, the hyperaparameter space will be searched using grid search / other methods. Note that training the LDA model might take some time\n",
    "\n",
    "The last two lines of code train an LDA model on the list of documents which have been stemmed, lower-cased and have stopwords removed. "
   ]
  },
  {
   "cell_type": "code",
   "execution_count": 84,
   "metadata": {
    "ExecuteTime": {
     "end_time": "2021-02-19T10:40:51.217042Z",
     "start_time": "2021-02-19T10:40:51.211028Z"
    },
    "deletable": false,
    "id": "Z9-cv36K4IWt",
    "nbgrader": {
     "cell_type": "code",
     "checksum": "27de8e4fa85536bb396b73bfc51b3f50",
     "grade": false,
     "grade_id": "cell-021a48dff4a8bb91",
     "locked": false,
     "schema_version": 3,
     "solution": true,
     "task": false
    }
   },
   "outputs": [],
   "source": [
    "# TODO: Implement this! (5 points)\n",
    "class LdaRetrievalModel(VectorSpaceRetrievalModel):\n",
    "    def __init__(self, doc_repr):\n",
    "        super().__init__(doc_repr)\n",
    "        \n",
    "        # use these parameters in the train_model method\n",
    "        self.num_topics = 100\n",
    "        self.chunksize = 2000\n",
    "        self.passes = 20\n",
    "        self.iterations = 400\n",
    "        self.eval_every = 10\n",
    "        # this is need to get full vectors\n",
    "        self.minimum_probability=0.0\n",
    "        self.alpha='auto'\n",
    "        self.eta='auto'\n",
    "    \n",
    "    \n",
    "    def train_model(self):\n",
    "        # YOUR CODE HERE\n",
    "        self.model = LdaModel(self.corpus, num_topics = self.num_topics, chunksize = self.chunksize, id2word = self.id2word,\n",
    "                              passes = self.passes, iterations = self.iterations, eval_every = self.eval_every, \n",
    "                              minimum_probability = self.minimum_probability, alpha = self.alpha, eta = self.eta)"
   ]
  },
  {
   "cell_type": "code",
   "execution_count": 85,
   "metadata": {
    "ExecuteTime": {
     "end_time": "2021-02-19T10:42:39.268682Z",
     "start_time": "2021-02-19T10:40:51.218010Z"
    },
    "deletable": false,
    "editable": false,
    "id": "Fb0jrpWb4IWu",
    "nbgrader": {
     "cell_type": "code",
     "checksum": "be70fcb8098d0b6ce64cd2a10e6a05b7",
     "grade": true,
     "grade_id": "cell-86750b715f0345fd",
     "locked": true,
     "points": 0,
     "schema_version": 3,
     "solution": false,
     "task": false
    },
    "tags": [
     "outputPrepend"
    ]
   },
   "outputs": [
    {
     "name": "stderr",
     "output_type": "stream",
     "text": [
      "2021-02-19 11:40:51,220 : INFO : adding document #0 to Dictionary(0 unique tokens: [])\n",
      "2021-02-19 11:40:51,380 : INFO : built Dictionary(6204 unique tokens: ['-', 'algebra', 'intern', 'languag', 'preliminari']...) from 3204 documents (total 196845 corpus positions)\n",
      "2021-02-19 11:40:51,386 : INFO : discarding 4795 tokens: [('of', 2061), ('repeat', 8), ('glossari', 7), ('inspect', 8), ('the', 1794), ('uncol', 2), ('a', 1807), ('rung', 9), ('secant', 2), ('.', 1603)]...\n",
      "2021-02-19 11:40:51,387 : INFO : keeping 1409 tokens which were in no less than 10 and no more than 1602 (=50.0%) documents\n",
      "2021-02-19 11:40:51,390 : INFO : resulting dictionary: Dictionary(1409 unique tokens: ['-', 'algebra', 'intern', 'languag', 'preliminari']...)\n",
      "2021-02-19 11:40:51,476 : INFO : using autotuned alpha, starting with [0.01, 0.01, 0.01, 0.01, 0.01, 0.01, 0.01, 0.01, 0.01, 0.01, 0.01, 0.01, 0.01, 0.01, 0.01, 0.01, 0.01, 0.01, 0.01, 0.01, 0.01, 0.01, 0.01, 0.01, 0.01, 0.01, 0.01, 0.01, 0.01, 0.01, 0.01, 0.01, 0.01, 0.01, 0.01, 0.01, 0.01, 0.01, 0.01, 0.01, 0.01, 0.01, 0.01, 0.01, 0.01, 0.01, 0.01, 0.01, 0.01, 0.01, 0.01, 0.01, 0.01, 0.01, 0.01, 0.01, 0.01, 0.01, 0.01, 0.01, 0.01, 0.01, 0.01, 0.01, 0.01, 0.01, 0.01, 0.01, 0.01, 0.01, 0.01, 0.01, 0.01, 0.01, 0.01, 0.01, 0.01, 0.01, 0.01, 0.01, 0.01, 0.01, 0.01, 0.01, 0.01, 0.01, 0.01, 0.01, 0.01, 0.01, 0.01, 0.01, 0.01, 0.01, 0.01, 0.01, 0.01, 0.01, 0.01, 0.01]\n",
      "2021-02-19 11:40:51,477 : INFO : using serial LDA version on this node\n",
      "2021-02-19 11:40:51,491 : INFO : running online (multi-pass) LDA training, 100 topics, 20 passes over the supplied corpus of 3204 documents, updating model once every 2000 documents, evaluating perplexity every 3204 documents, iterating 400x with a convergence threshold of 0.001000\n",
      "2021-02-19 11:40:51,492 : INFO : PROGRESS: pass 0, at document #2000/3204\n",
      "2021-02-19 11:40:55,212 : INFO : optimized alpha [0.0099843135, 0.00972521, 0.00979195, 0.009766119, 0.009781917, 0.009830007, 0.009818532, 0.009797499, 0.009750628, 0.009781972, 0.009797048, 0.00976637, 0.009781788, 0.009766326, 0.009828392, 0.009766525, 0.009839077, 0.009781599, 0.009931773, 0.009735374, 0.009755924, 0.009750675, 0.009865945, 0.009766351, 0.009823228, 0.00978691, 0.009870644, 0.009766213, 0.009724985, 0.009760844, 0.009807824, 0.00976093, 0.0097353365, 0.009876345, 0.009761065, 0.009776978, 0.009786634, 0.009735289, 0.010012114, 0.009813481, 0.009812455, 0.00981841, 0.009725012, 0.009818967, 0.009818539, 0.0097405035, 0.009770102, 0.009807685, 0.009750597, 0.009865126, 0.009836626, 0.009761057, 0.009759031, 0.00978695, 0.0097352825, 0.009938259, 0.009838713, 0.009761194, 0.009771095, 0.009766212, 0.0098083075, 0.009939456, 0.009818812, 0.009828839, 0.009865362, 0.009901128, 0.010038004, 0.0097563, 0.009751072, 0.009782025, 0.009750738, 0.009860201, 0.009818282, 0.009787346, 0.009791773, 0.009895419, 0.009782228, 0.009787165, 0.009735206, 0.009865966, 0.009746259, 0.009750825, 0.0097249225, 0.009838381, 0.0098926965, 0.0098395115, 0.009760994, 0.009740504, 0.009725, 0.009730186, 0.009771458, 0.009797564, 0.009760896, 0.00980302, 0.009776844, 0.009897244, 0.009828426, 0.009797206, 0.009750668, 0.010027882]\n",
      "2021-02-19 11:40:55,221 : INFO : merging changes from 2000 documents into a model of 3204 documents\n",
      "2021-02-19 11:40:55,238 : INFO : topic #82 (0.010): 0.041*\"in\" + 0.039*\"pattern\" + 0.038*\"regress\" + 0.036*\"and\" + 0.035*\"code\" + 0.034*\"edit\" + 0.030*\"data\" + 0.001*\"reduc\" + 0.001*\"quit\" + 0.001*\"column\"\n",
      "2021-02-19 11:40:55,240 : INFO : topic #89 (0.010): 0.051*\"contour\" + 0.046*\"map\" + 0.039*\"techniqu\" + 0.029*\"to\" + 0.027*\"use\" + 0.024*\"these\" + 0.023*\"in\" + 0.022*\"topolog\" + 0.021*\"gener\" + 0.019*\"properti\"\n",
      "2021-02-19 11:40:55,241 : INFO : topic #38 (0.010): 0.053*\",\" + 0.029*\"and\" + 0.027*\"is\" + 0.027*\"in\" + 0.023*\"to\" + 0.021*\"for\" + 0.020*\"-\" + 0.013*\"be\" + 0.013*\"which\" + 0.013*\"are\"\n",
      "2021-02-19 11:40:55,242 : INFO : topic #66 (0.010): 0.034*\"-\" + 0.032*\"to\" + 0.029*\",\" + 0.025*\"is\" + 0.025*\"and\" + 0.024*\"in\" + 0.019*\"for\" + 0.015*\"system\" + 0.014*\"are\" + 0.014*\"comput\"\n",
      "2021-02-19 11:40:55,244 : INFO : topic #99 (0.010): 0.052*\",\" + 0.031*\"and\" + 0.029*\"for\" + 0.028*\"to\" + 0.025*\"is\" + 0.021*\"system\" + 0.017*\"program\" + 0.016*\"comput\" + 0.015*\"in\" + 0.014*\"-\"\n",
      "2021-02-19 11:40:55,246 : INFO : topic diff=80.119507, rho=1.000000\n",
      "2021-02-19 11:40:57,570 : INFO : -6.966 per-word bound, 125.0 perplexity estimate based on a held-out corpus of 1204 documents with 79462 words\n",
      "2021-02-19 11:40:57,571 : INFO : PROGRESS: pass 0, at document #3204/3204\n",
      "2021-02-19 11:40:59,535 : INFO : optimized alpha [0.010141815, 0.009542538, 0.009754503, 0.009652785, 0.0097392015, 0.009832711, 0.010160261, 0.009807098, 0.009619775, 0.009615502, 0.009641476, 0.009852689, 0.009774158, 0.009670451, 0.010395817, 0.009994303, 0.010038545, 0.00995337, 0.010215874, 0.009651739, 0.00960736, 0.009608232, 0.010397302, 0.009729288, 0.009883971, 0.009813661, 0.010321132, 0.009670062, 0.009681787, 0.009611749, 0.0099120755, 0.0096006105, 0.0096525615, 0.010237357, 0.0096296575, 0.010005552, 0.00963102, 0.00965674, 0.01063594, 0.009874536, 0.00994733, 0.009988713, 0.00974433, 0.01009046, 0.010461587, 0.0100518055, 0.009880245, 0.009634092, 0.009561153, 0.009916496, 0.010019833, 0.009829165, 0.009680521, 0.009925907, 0.009558333, 0.010369086, 0.009787866, 0.009917816, 0.009756433, 0.009664179, 0.009930676, 0.01034171, 0.009925048, 0.009879849, 0.010280447, 0.010256236, 0.010791134, 0.009778855, 0.009884771, 0.009732929, 0.009602174, 0.00988156, 0.009909598, 0.0098031005, 0.009659854, 0.00978402, 0.009769389, 0.009938362, 0.009812136, 0.010593552, 0.009644355, 0.009795514, 0.009473254, 0.010025542, 0.010516303, 0.010129082, 0.01012352, 0.0097037945, 0.009525268, 0.009692383, 0.009750913, 0.009931951, 0.009577403, 0.010073589, 0.009863203, 0.010398632, 0.01005719, 0.00976424, 0.00973041, 0.010756579]\n",
      "2021-02-19 11:40:59,545 : INFO : merging changes from 1204 documents into a model of 3204 documents\n",
      "2021-02-19 11:40:59,558 : INFO : topic #82 (0.009): 0.428*\"pattern\" + 0.150*\"regress\" + 0.082*\"edit\" + 0.024*\"in\" + 0.017*\"and\" + 0.004*\"code\" + 0.004*\"data\" + 0.000*\"quit\" + 0.000*\"reduc\" + 0.000*\"major\"\n",
      "2021-02-19 11:40:59,559 : INFO : topic #1 (0.010): 0.119*\"project\" + 0.079*\"alloc\" + 0.070*\"concern\" + 0.064*\"keep\" + 0.054*\"organ\" + 0.050*\"dynam\" + 0.035*\"program\" + 0.033*\"portion\" + 0.032*\"certain\" + 0.027*\"is\"\n",
      "2021-02-19 11:40:59,559 : INFO : topic #38 (0.011): 0.058*\",\" + 0.031*\"is\" + 0.030*\"and\" + 0.027*\"in\" + 0.024*\"to\" + 0.021*\"for\" + 0.017*\"-\" + 0.016*\"be\" + 0.016*\"which\" + 0.013*\"are\"\n",
      "2021-02-19 11:40:59,560 : INFO : topic #66 (0.011): 0.035*\"to\" + 0.032*\",\" + 0.031*\"-\" + 0.026*\"is\" + 0.026*\"and\" + 0.024*\"in\" + 0.017*\"for\" + 0.016*\"time\" + 0.014*\"are\" + 0.014*\"program\"\n",
      "2021-02-19 11:40:59,560 : INFO : topic #99 (0.011): 0.053*\",\" + 0.036*\"and\" + 0.029*\"to\" + 0.028*\"is\" + 0.026*\"for\" + 0.024*\"system\" + 0.016*\"program\" + 0.015*\"in\" + 0.013*\"languag\" + 0.013*\"-\"\n",
      "2021-02-19 11:40:59,561 : INFO : topic diff=0.740481, rho=0.707107\n",
      "2021-02-19 11:40:59,571 : INFO : PROGRESS: pass 1, at document #2000/3204\n",
      "2021-02-19 11:41:01,249 : INFO : optimized alpha [0.010068811, 0.009463483, 0.0096942615, 0.009628391, 0.009727025, 0.009795125, 0.010048019, 0.009685745, 0.009664821, 0.009520119, 0.009634919, 0.009792888, 0.009692839, 0.009647867, 0.010315969, 0.00993692, 0.009988964, 0.009816467, 0.010112806, 0.009583203, 0.00956279, 0.009568509, 0.010340624, 0.009695589, 0.009783872, 0.00982306, 0.010254126, 0.009678779, 0.00960992, 0.009628437, 0.009899329, 0.009627773, 0.009668323, 0.010147639, 0.009548955, 0.009942631, 0.009753317, 0.009687862, 0.010589095, 0.009920555, 0.009894093, 0.009921468, 0.009807778, 0.010059569, 0.010365007, 0.010047954, 0.00995201, 0.009504799, 0.009601144, 0.009816221, 0.010224416, 0.009817294, 0.009754029, 0.010019232, 0.009537828, 0.0103217345, 0.009745388, 0.00987258, 0.009856014, 0.010086895, 0.009859122, 0.010323441, 0.009805986, 0.009809574, 0.010209062, 0.010162995, 0.010757925, 0.009739429, 0.009853677, 0.0096267, 0.009606225, 0.0098142745, 0.009861969, 0.009697658, 0.009655807, 0.009689639, 0.009793142, 0.009860817, 0.009768113, 0.010635659, 0.009565781, 0.009812449, 0.009368083, 0.010002698, 0.010565919, 0.010047661, 0.010092304, 0.009668536, 0.009622819, 0.009635434, 0.009662284, 0.009889602, 0.009731166, 0.0099881245, 0.009879858, 0.010353116, 0.009966325, 0.009802482, 0.009964089, 0.010804007]\n"
     ]
    },
    {
     "name": "stderr",
     "output_type": "stream",
     "text": [
      "2021-02-19 11:41:01,264 : INFO : merging changes from 2000 documents into a model of 3204 documents\n",
      "2021-02-19 11:41:01,285 : INFO : topic #82 (0.009): 0.369*\"pattern\" + 0.186*\"edit\" + 0.167*\"regress\" + 0.017*\"in\" + 0.013*\"and\" + 0.002*\"code\" + 0.002*\"data\" + 0.000*\"reduc\" + 0.000*\"repetit\" + 0.000*\"quit\"\n",
      "2021-02-19 11:41:01,287 : INFO : topic #1 (0.009): 0.105*\"project\" + 0.097*\"alloc\" + 0.074*\"concern\" + 0.055*\"certain\" + 0.048*\"dynam\" + 0.045*\"keep\" + 0.039*\"organ\" + 0.034*\"program\" + 0.029*\"portion\" + 0.028*\"is\"\n",
      "2021-02-19 11:41:01,288 : INFO : topic #79 (0.011): 0.053*\"and\" + 0.040*\"in\" + 0.037*\"program\" + 0.036*\",\" + 0.025*\"are\" + 0.024*\"to\" + 0.022*\"for\" + 0.018*\"languag\" + 0.018*\"is\" + 0.012*\"be\"\n",
      "2021-02-19 11:41:01,289 : INFO : topic #66 (0.011): 0.036*\"to\" + 0.033*\"-\" + 0.031*\",\" + 0.026*\"is\" + 0.026*\"and\" + 0.025*\"in\" + 0.017*\"for\" + 0.017*\"time\" + 0.015*\"program\" + 0.015*\"are\"\n",
      "2021-02-19 11:41:01,290 : INFO : topic #99 (0.011): 0.056*\",\" + 0.036*\"and\" + 0.028*\"to\" + 0.027*\"is\" + 0.027*\"for\" + 0.026*\"system\" + 0.019*\"program\" + 0.016*\"languag\" + 0.015*\"in\" + 0.014*\"comput\"\n",
      "2021-02-19 11:41:01,291 : INFO : topic diff=0.366000, rho=0.526900\n",
      "2021-02-19 11:41:03,525 : INFO : -6.675 per-word bound, 102.2 perplexity estimate based on a held-out corpus of 1204 documents with 79462 words\n",
      "2021-02-19 11:41:03,525 : INFO : PROGRESS: pass 1, at document #3204/3204\n",
      "2021-02-19 11:41:05,665 : INFO : optimized alpha [0.010168183, 0.009467444, 0.009730431, 0.009712823, 0.00974989, 0.009781641, 0.010255515, 0.009735293, 0.009596665, 0.0094953, 0.009589923, 0.009892933, 0.0098154675, 0.009691747, 0.010810116, 0.010186819, 0.010172939, 0.009922934, 0.010352782, 0.009589791, 0.009556633, 0.009583586, 0.010746579, 0.009761904, 0.009891579, 0.00989616, 0.010544337, 0.0097141955, 0.009658627, 0.009642108, 0.010043374, 0.009667219, 0.009747368, 0.010354101, 0.009581446, 0.0102023715, 0.0096355695, 0.009794859, 0.01092979, 0.00995222, 0.010039152, 0.010093341, 0.010187077, 0.010312596, 0.01085058, 0.010401487, 0.010130444, 0.009391323, 0.0096109, 0.009847386, 0.010377549, 0.009995681, 0.009705648, 0.01021119, 0.0095151905, 0.01052639, 0.009763206, 0.01000695, 0.009971684, 0.010303306, 0.009915458, 0.010552891, 0.009864653, 0.009862149, 0.010554342, 0.010429801, 0.011085848, 0.009805821, 0.010049846, 0.009616832, 0.009603655, 0.009858691, 0.0099080205, 0.00971214, 0.009653141, 0.009644272, 0.009868147, 0.010004288, 0.00995154, 0.011282034, 0.009581044, 0.009972155, 0.009324326, 0.01018214, 0.011035043, 0.010268025, 0.010469143, 0.009759984, 0.009618605, 0.009657758, 0.009757688, 0.010047699, 0.009648771, 0.010209287, 0.009978845, 0.01059561, 0.0101731345, 0.009913063, 0.010033799, 0.011221666]\n",
      "2021-02-19 11:41:05,674 : INFO : merging changes from 1204 documents into a model of 3204 documents\n",
      "2021-02-19 11:41:05,688 : INFO : topic #82 (0.009): 0.659*\"pattern\" + 0.128*\"edit\" + 0.103*\"regress\" + 0.011*\"in\" + 0.006*\"and\" + 0.000*\"code\" + 0.000*\"data\" + 0.000*\"reduc\" + 0.000*\"repetit\" + 0.000*\"quit\"\n",
      "2021-02-19 11:41:05,689 : INFO : topic #47 (0.009): 0.046*\"model\" + 0.027*\"criterion\" + 0.026*\"comput\" + 0.025*\"to\" + 0.025*\"in\" + 0.022*\"one\" + 0.020*\"and\" + 0.019*\"be\" + 0.018*\"is\" + 0.018*\"low\"\n",
      "2021-02-19 11:41:05,690 : INFO : topic #66 (0.011): 0.037*\"to\" + 0.033*\",\" + 0.033*\"-\" + 0.027*\"is\" + 0.026*\"in\" + 0.025*\"and\" + 0.020*\"time\" + 0.015*\"for\" + 0.015*\"program\" + 0.014*\"are\"\n",
      "2021-02-19 11:41:05,690 : INFO : topic #99 (0.011): 0.056*\",\" + 0.038*\"and\" + 0.029*\"to\" + 0.028*\"is\" + 0.027*\"system\" + 0.025*\"for\" + 0.017*\"program\" + 0.016*\"languag\" + 0.016*\"design\" + 0.014*\"in\"\n",
      "2021-02-19 11:41:05,691 : INFO : topic #79 (0.011): 0.057*\"and\" + 0.050*\"program\" + 0.040*\"in\" + 0.039*\",\" + 0.026*\"to\" + 0.026*\"are\" + 0.021*\"for\" + 0.020*\"languag\" + 0.019*\"is\" + 0.012*\"be\"\n",
      "2021-02-19 11:41:05,692 : INFO : topic diff=0.521605, rho=0.526900\n",
      "2021-02-19 11:41:05,701 : INFO : PROGRESS: pass 2, at document #2000/3204\n",
      "2021-02-19 11:41:07,497 : INFO : optimized alpha [0.010103998, 0.009442412, 0.00971067, 0.009776351, 0.009825608, 0.009748086, 0.010152532, 0.009649478, 0.009642154, 0.009459616, 0.009680915, 0.009852084, 0.009757866, 0.009711142, 0.010744073, 0.010164631, 0.010168537, 0.009815578, 0.010266933, 0.009565251, 0.009581951, 0.00960849, 0.010708491, 0.009760452, 0.009827302, 0.009972373, 0.010486473, 0.009724868, 0.009635102, 0.009752256, 0.010047995, 0.009720849, 0.009857583, 0.010275552, 0.009534747, 0.010175384, 0.009808992, 0.009881645, 0.010899348, 0.009969428, 0.010015101, 0.010047443, 0.010382068, 0.010322114, 0.010779993, 0.010406215, 0.0102627585, 0.009297885, 0.009752665, 0.009773199, 0.010496522, 0.010042714, 0.009853997, 0.010324882, 0.009552336, 0.010479976, 0.009764343, 0.009980751, 0.010052545, 0.010934643, 0.009886499, 0.010536928, 0.009780851, 0.009820495, 0.010496431, 0.01035695, 0.0110278865, 0.009815787, 0.010051663, 0.009547492, 0.009676067, 0.009838414, 0.009895103, 0.009633823, 0.00968472, 0.009601648, 0.009931255, 0.00994258, 0.009943857, 0.01137113, 0.009552416, 0.010047238, 0.009251376, 0.010213159, 0.011087542, 0.010213522, 0.010475684, 0.009771971, 0.009719168, 0.009625204, 0.009714783, 0.010037878, 0.009838097, 0.010180367, 0.010045333, 0.010578012, 0.010110693, 0.01001178, 0.010250248, 0.011272798]\n",
      "2021-02-19 11:41:07,506 : INFO : merging changes from 2000 documents into a model of 3204 documents\n",
      "2021-02-19 11:41:07,530 : INFO : topic #82 (0.009): 0.572*\"pattern\" + 0.179*\"edit\" + 0.118*\"regress\" + 0.010*\"in\" + 0.005*\"and\" + 0.000*\"code\" + 0.000*\"data\" + 0.000*\"reduc\" + 0.000*\"repetit\" + 0.000*\"quit\"\n",
      "2021-02-19 11:41:07,532 : INFO : topic #47 (0.009): 0.034*\"model\" + 0.031*\"comput\" + 0.029*\"in\" + 0.026*\"to\" + 0.025*\"one\" + 0.022*\"criterion\" + 0.020*\"variabl\" + 0.020*\"be\" + 0.019*\"is\" + 0.019*\"and\"\n",
      "2021-02-19 11:41:07,533 : INFO : topic #84 (0.011): 0.069*\",\" + 0.048*\"and\" + 0.029*\"system\" + 0.028*\"to\" + 0.025*\"-\" + 0.021*\"in\" + 0.018*\"is\" + 0.016*\"comput\" + 0.016*\"for\" + 0.012*\"data\"\n",
      "2021-02-19 11:41:07,534 : INFO : topic #99 (0.011): 0.059*\",\" + 0.037*\"and\" + 0.029*\"to\" + 0.028*\"system\" + 0.027*\"is\" + 0.026*\"for\" + 0.020*\"program\" + 0.018*\"languag\" + 0.014*\"-\" + 0.014*\"in\"\n",
      "2021-02-19 11:41:07,535 : INFO : topic #79 (0.011): 0.056*\"and\" + 0.050*\"program\" + 0.041*\"in\" + 0.038*\",\" + 0.026*\"are\" + 0.025*\"to\" + 0.022*\"for\" + 0.021*\"languag\" + 0.019*\"is\" + 0.012*\"be\"\n",
      "2021-02-19 11:41:07,536 : INFO : topic diff=0.468299, rho=0.466151\n",
      "2021-02-19 11:41:09,601 : INFO : -6.582 per-word bound, 95.8 perplexity estimate based on a held-out corpus of 1204 documents with 79462 words\n",
      "2021-02-19 11:41:09,602 : INFO : PROGRESS: pass 2, at document #3204/3204\n",
      "2021-02-19 11:41:11,510 : INFO : optimized alpha [0.010200803, 0.009488119, 0.009785818, 0.00995098, 0.009914558, 0.009738418, 0.010353223, 0.009706592, 0.009598545, 0.009506677, 0.009683057, 0.009956577, 0.009890435, 0.009784553, 0.011205246, 0.010407544, 0.010352146, 0.0099072745, 0.010545917, 0.009594948, 0.009614842, 0.00967865, 0.011109074, 0.009896108, 0.009962028, 0.010067903, 0.010737473, 0.009783808, 0.009694322, 0.009813009, 0.010191702, 0.009808762, 0.009988307, 0.010446809, 0.009639485, 0.010419414, 0.009708262, 0.010029861, 0.011161043, 0.010009508, 0.010175729, 0.010208313, 0.0108904755, 0.010535971, 0.011207294, 0.010716362, 0.010465572, 0.0092229275, 0.009828434, 0.009848825, 0.010639816, 0.010237038, 0.009844969, 0.010536593, 0.009574294, 0.010641152, 0.0098270755, 0.010131679, 0.010177966, 0.011272713, 0.009964622, 0.010716216, 0.009873032, 0.009891079, 0.010806263, 0.010607373, 0.011258563, 0.009909992, 0.010285589, 0.009586993, 0.009749108, 0.009902128, 0.009944215, 0.009641532, 0.0097021395, 0.009595118, 0.01004035, 0.0100779245, 0.010146212, 0.011992535, 0.009616092, 0.01024007, 0.0092346165, 0.01040865, 0.01152263, 0.0104217585, 0.010844309, 0.009853509, 0.009722586, 0.009668936, 0.009849464, 0.0101982895, 0.009790632, 0.010409991, 0.0101484675, 0.010764413, 0.010299043, 0.010152027, 0.010317569, 0.011614285]\n",
      "2021-02-19 11:41:11,519 : INFO : merging changes from 1204 documents into a model of 3204 documents\n",
      "2021-02-19 11:41:11,532 : INFO : topic #82 (0.009): 0.693*\"pattern\" + 0.129*\"edit\" + 0.093*\"regress\" + 0.008*\"in\" + 0.003*\"and\" + 0.000*\"code\" + 0.000*\"data\" + 0.000*\"reduc\" + 0.000*\"repetit\" + 0.000*\"quit\"\n"
     ]
    },
    {
     "name": "stderr",
     "output_type": "stream",
     "text": [
      "2021-02-19 11:41:11,533 : INFO : topic #47 (0.009): 0.053*\"model\" + 0.033*\"criterion\" + 0.030*\"one\" + 0.028*\"comput\" + 0.027*\"in\" + 0.025*\"to\" + 0.024*\"low\" + 0.022*\"variabl\" + 0.021*\"be\" + 0.021*\"concept\"\n",
      "2021-02-19 11:41:11,533 : INFO : topic #84 (0.012): 0.071*\",\" + 0.052*\"and\" + 0.033*\"system\" + 0.030*\"to\" + 0.024*\"-\" + 0.022*\"in\" + 0.018*\"comput\" + 0.018*\"is\" + 0.015*\"for\" + 0.012*\"data\"\n",
      "2021-02-19 11:41:11,534 : INFO : topic #99 (0.012): 0.059*\",\" + 0.039*\"and\" + 0.029*\"system\" + 0.029*\"to\" + 0.028*\"is\" + 0.024*\"for\" + 0.018*\"design\" + 0.018*\"languag\" + 0.017*\"program\" + 0.015*\"-\"\n",
      "2021-02-19 11:41:11,534 : INFO : topic #79 (0.012): 0.060*\"program\" + 0.059*\"and\" + 0.041*\",\" + 0.039*\"in\" + 0.028*\"are\" + 0.027*\"to\" + 0.021*\"for\" + 0.021*\"languag\" + 0.020*\"is\" + 0.012*\"that\"\n",
      "2021-02-19 11:41:11,535 : INFO : topic diff=0.644041, rho=0.466151\n",
      "2021-02-19 11:41:11,545 : INFO : PROGRESS: pass 3, at document #2000/3204\n",
      "2021-02-19 11:41:13,203 : INFO : optimized alpha [0.010147445, 0.0094904, 0.009785067, 0.010059325, 0.010032097, 0.00972871, 0.010258968, 0.00963899, 0.009640959, 0.00948153, 0.009795237, 0.009911063, 0.009844486, 0.009821003, 0.011153041, 0.010400722, 0.010369201, 0.009824257, 0.010483135, 0.009579925, 0.009656791, 0.00971788, 0.011086342, 0.009923706, 0.009910047, 0.010160856, 0.010698816, 0.009802134, 0.009684047, 0.009946887, 0.010208318, 0.009888514, 0.010114085, 0.010377179, 0.009611714, 0.010390502, 0.009940011, 0.010136198, 0.011150222, 0.010031802, 0.010161887, 0.010179254, 0.011110474, 0.01057734, 0.011146716, 0.010724439, 0.010633338, 0.0091510145, 0.010006127, 0.009789149, 0.010731758, 0.010315662, 0.010018557, 0.010673616, 0.0096185375, 0.010625846, 0.009845432, 0.010113821, 0.010250988, 0.011963481, 0.009964555, 0.010707549, 0.009813123, 0.009864773, 0.0107735945, 0.010557317, 0.011216018, 0.009955145, 0.010329339, 0.00956074, 0.009872926, 0.009905804, 0.009965137, 0.009577379, 0.00975398, 0.009564812, 0.0101575395, 0.010051963, 0.010148553, 0.012102868, 0.009617325, 0.010359891, 0.009177311, 0.01043561, 0.011594056, 0.010395479, 0.010862288, 0.009883333, 0.009824836, 0.009644619, 0.009818684, 0.010214653, 0.009972213, 0.010413221, 0.010234867, 0.010749584, 0.010256856, 0.010278561, 0.010551708, 0.011667773]\n",
      "2021-02-19 11:41:13,212 : INFO : merging changes from 2000 documents into a model of 3204 documents\n",
      "2021-02-19 11:41:13,227 : INFO : topic #82 (0.009): 0.622*\"pattern\" + 0.170*\"edit\" + 0.104*\"regress\" + 0.007*\"in\" + 0.003*\"and\" + 0.000*\"code\" + 0.000*\"data\" + 0.000*\"reduc\" + 0.000*\"repetit\" + 0.000*\"quit\"\n",
      "2021-02-19 11:41:13,228 : INFO : topic #47 (0.009): 0.041*\"model\" + 0.032*\"comput\" + 0.032*\"one\" + 0.031*\"in\" + 0.027*\"criterion\" + 0.027*\"variabl\" + 0.025*\"to\" + 0.024*\"sever\" + 0.022*\"be\" + 0.021*\"which\"\n",
      "2021-02-19 11:41:13,229 : INFO : topic #84 (0.012): 0.073*\",\" + 0.051*\"and\" + 0.032*\"system\" + 0.030*\"to\" + 0.024*\"-\" + 0.021*\"in\" + 0.018*\"comput\" + 0.017*\"is\" + 0.015*\"for\" + 0.012*\"data\"\n",
      "2021-02-19 11:41:13,229 : INFO : topic #59 (0.012): 0.260*\"(\" + 0.247*\")\" + 0.235*\"algorithm\" + 0.035*\"polynomi\" + 0.027*\"complex\" + 0.022*\"integ\" + 0.021*\"-\" + 0.017*\"number\" + 0.016*\"function\" + 0.013*\"x\"\n",
      "2021-02-19 11:41:13,230 : INFO : topic #79 (0.012): 0.061*\"program\" + 0.058*\"and\" + 0.040*\"in\" + 0.040*\",\" + 0.028*\"are\" + 0.026*\"to\" + 0.022*\"for\" + 0.022*\"languag\" + 0.020*\"is\" + 0.012*\"that\"\n",
      "2021-02-19 11:41:13,231 : INFO : topic diff=0.628096, rho=0.422502\n",
      "2021-02-19 11:41:15,238 : INFO : -6.518 per-word bound, 91.6 perplexity estimate based on a held-out corpus of 1204 documents with 79462 words\n",
      "2021-02-19 11:41:15,239 : INFO : PROGRESS: pass 3, at document #3204/3204\n",
      "2021-02-19 11:41:17,107 : INFO : optimized alpha [0.010246957, 0.009559353, 0.009881726, 0.0102585405, 0.010137185, 0.009735339, 0.010442349, 0.0097094085, 0.009602671, 0.009521849, 0.009817625, 0.010013523, 0.010046048, 0.009919126, 0.011588982, 0.01062311, 0.010543932, 0.009908542, 0.010754403, 0.009614602, 0.009707282, 0.009809058, 0.011513138, 0.010065023, 0.010040257, 0.010247172, 0.01091314, 0.009866511, 0.009735193, 0.010029213, 0.010367942, 0.010002998, 0.010260933, 0.010548276, 0.009737842, 0.01059536, 0.009853567, 0.010310326, 0.01139397, 0.010079085, 0.010330025, 0.010344474, 0.011635592, 0.010757725, 0.011541802, 0.011024861, 0.010841382, 0.009116993, 0.010112514, 0.009886785, 0.010846131, 0.010522504, 0.010030011, 0.010879057, 0.009665665, 0.010776408, 0.009930722, 0.010265902, 0.010368371, 0.012403833, 0.010075104, 0.010836319, 0.009915265, 0.009947207, 0.011062452, 0.010786723, 0.011406158, 0.0100582205, 0.010562188, 0.009638377, 0.009973187, 0.009999605, 0.010027847, 0.00960687, 0.009790626, 0.009588024, 0.010314077, 0.010178776, 0.010340851, 0.01269027, 0.009713014, 0.010550926, 0.009171055, 0.0106512485, 0.01198161, 0.010604257, 0.011218304, 0.009971688, 0.0098378835, 0.00970906, 0.009955634, 0.010400921, 0.009931101, 0.0106347585, 0.010328179, 0.010888291, 0.010450823, 0.010416748, 0.010629101, 0.0119991945]\n",
      "2021-02-19 11:41:17,116 : INFO : merging changes from 1204 documents into a model of 3204 documents\n",
      "2021-02-19 11:41:17,130 : INFO : topic #47 (0.009): 0.061*\"model\" + 0.041*\"one\" + 0.034*\"criterion\" + 0.029*\"in\" + 0.028*\"sever\" + 0.028*\"comput\" + 0.026*\"low\" + 0.025*\"to\" + 0.025*\"variabl\" + 0.023*\"be\"\n",
      "2021-02-19 11:41:17,131 : INFO : topic #82 (0.009): 0.705*\"pattern\" + 0.129*\"edit\" + 0.089*\"regress\" + 0.005*\"in\" + 0.001*\"and\" + 0.000*\"code\" + 0.000*\"data\" + 0.000*\"reduc\" + 0.000*\"repetit\" + 0.000*\"quit\"\n",
      "2021-02-19 11:41:17,132 : INFO : topic #84 (0.012): 0.074*\",\" + 0.055*\"and\" + 0.035*\"system\" + 0.031*\"to\" + 0.023*\"-\" + 0.021*\"in\" + 0.020*\"comput\" + 0.017*\"is\" + 0.014*\"for\" + 0.013*\"data\"\n",
      "2021-02-19 11:41:17,132 : INFO : topic #59 (0.012): 0.271*\"(\" + 0.257*\")\" + 0.241*\"algorithm\" + 0.029*\"complex\" + 0.027*\"polynomi\" + 0.024*\"integ\" + 0.022*\"-\" + 0.016*\"function\" + 0.015*\"number\" + 0.012*\"x\"\n",
      "2021-02-19 11:41:17,133 : INFO : topic #79 (0.013): 0.068*\"program\" + 0.061*\"and\" + 0.042*\",\" + 0.039*\"in\" + 0.030*\"are\" + 0.027*\"to\" + 0.021*\"for\" + 0.020*\"languag\" + 0.020*\"is\" + 0.013*\"that\"\n",
      "2021-02-19 11:41:17,134 : INFO : topic diff=0.752116, rho=0.422502\n",
      "2021-02-19 11:41:17,144 : INFO : PROGRESS: pass 4, at document #2000/3204\n",
      "2021-02-19 11:41:19,020 : INFO : optimized alpha [0.010206253, 0.009569189, 0.009896565, 0.010385259, 0.010264287, 0.009737223, 0.010367246, 0.009661702, 0.009661449, 0.009508822, 0.009925814, 0.009983553, 0.009998365, 0.009966374, 0.01155127, 0.010621477, 0.010565019, 0.009840975, 0.010696107, 0.009601579, 0.009753819, 0.009870023, 0.011523985, 0.010109809, 0.010010011, 0.010353418, 0.010888975, 0.009883664, 0.009726388, 0.010169437, 0.010396851, 0.010098204, 0.010403802, 0.01050022, 0.009719516, 0.010565266, 0.010095317, 0.010418745, 0.011388867, 0.010105796, 0.010340782, 0.010331223, 0.011863502, 0.010818783, 0.011485614, 0.011036129, 0.011047181, 0.009069949, 0.010292535, 0.009836272, 0.010939416, 0.010609099, 0.0102093965, 0.011042845, 0.009716088, 0.010778956, 0.009957525, 0.010260832, 0.010435579, 0.013118481, 0.0100988075, 0.010828174, 0.009884018, 0.009936959, 0.011038363, 0.010758088, 0.011381665, 0.01011766, 0.010603166, 0.00963546, 0.010115601, 0.010026928, 0.010069144, 0.009555239, 0.009850478, 0.009582075, 0.010449295, 0.010160593, 0.010339775, 0.012811584, 0.009733019, 0.010676539, 0.009120438, 0.010687259, 0.012047349, 0.010601839, 0.011249218, 0.009999282, 0.009932883, 0.00968536, 0.009940497, 0.0104335155, 0.01010392, 0.0106425155, 0.010414463, 0.010869749, 0.010419046, 0.010558688, 0.010877404, 0.012062901]\n",
      "2021-02-19 11:41:19,033 : INFO : merging changes from 2000 documents into a model of 3204 documents\n",
      "2021-02-19 11:41:19,054 : INFO : topic #47 (0.009): 0.046*\"model\" + 0.044*\"one\" + 0.033*\"comput\" + 0.032*\"in\" + 0.032*\"variabl\" + 0.030*\"sever\" + 0.027*\"criterion\" + 0.026*\"factor\" + 0.026*\"to\" + 0.023*\"low\"\n",
      "2021-02-19 11:41:19,055 : INFO : topic #82 (0.009): 0.646*\"pattern\" + 0.161*\"edit\" + 0.100*\"regress\" + 0.005*\"in\" + 0.001*\"and\" + 0.000*\"code\" + 0.000*\"data\" + 0.000*\"reduc\" + 0.000*\"repetit\" + 0.000*\"quit\"\n",
      "2021-02-19 11:41:19,057 : INFO : topic #99 (0.012): 0.064*\",\" + 0.039*\"and\" + 0.032*\"system\" + 0.029*\"to\" + 0.028*\"is\" + 0.025*\"for\" + 0.021*\"program\" + 0.020*\"languag\" + 0.017*\"design\" + 0.016*\"-\"\n"
     ]
    },
    {
     "name": "stderr",
     "output_type": "stream",
     "text": [
      "2021-02-19 11:41:19,058 : INFO : topic #79 (0.013): 0.068*\"program\" + 0.060*\"and\" + 0.041*\",\" + 0.039*\"in\" + 0.030*\"are\" + 0.027*\"to\" + 0.022*\"for\" + 0.021*\"languag\" + 0.020*\"is\" + 0.013*\"that\"\n",
      "2021-02-19 11:41:19,059 : INFO : topic #59 (0.013): 0.276*\"(\" + 0.264*\")\" + 0.245*\"algorithm\" + 0.031*\"polynomi\" + 0.025*\"complex\" + 0.021*\"integ\" + 0.021*\"-\" + 0.015*\"number\" + 0.014*\"function\" + 0.011*\"coeffici\"\n",
      "2021-02-19 11:41:19,060 : INFO : topic diff=0.698172, rho=0.389191\n",
      "2021-02-19 11:41:21,153 : INFO : -6.472 per-word bound, 88.8 perplexity estimate based on a held-out corpus of 1204 documents with 79462 words\n",
      "2021-02-19 11:41:21,154 : INFO : PROGRESS: pass 4, at document #3204/3204\n",
      "2021-02-19 11:41:22,894 : INFO : optimized alpha [0.01029542, 0.009667226, 0.009999026, 0.0105945915, 0.010380792, 0.009757109, 0.010537594, 0.009737117, 0.009642521, 0.009552898, 0.009952567, 0.010088331, 0.010195544, 0.01006032, 0.011961538, 0.010821387, 0.0107305525, 0.009932358, 0.010942075, 0.0096499575, 0.009809834, 0.009954203, 0.011950076, 0.010250588, 0.010153738, 0.010442587, 0.011095615, 0.00993381, 0.009774282, 0.010261153, 0.010541438, 0.010216843, 0.010559622, 0.010655582, 0.00986483, 0.010734621, 0.01001982, 0.010603888, 0.011646092, 0.010149583, 0.010510389, 0.010494803, 0.012418207, 0.010989705, 0.011844728, 0.011316816, 0.01126243, 0.009067908, 0.010426561, 0.009965826, 0.011026547, 0.010818891, 0.010261355, 0.011256188, 0.0097626755, 0.010918231, 0.010036438, 0.010415184, 0.010543861, 0.0136805065, 0.010230982, 0.010972676, 0.009995042, 0.010013399, 0.0113115655, 0.01098562, 0.0115804905, 0.010229333, 0.010809774, 0.009723509, 0.010217301, 0.010117044, 0.010123699, 0.009580564, 0.009906627, 0.009616745, 0.010601084, 0.010288112, 0.010505075, 0.013381497, 0.009849893, 0.010878416, 0.009116598, 0.0108878985, 0.012424033, 0.010799301, 0.011605481, 0.010090882, 0.009944546, 0.009732949, 0.01009347, 0.010623596, 0.010077812, 0.010866251, 0.01048658, 0.010991005, 0.010602564, 0.010706652, 0.010967777, 0.012364951]\n",
      "2021-02-19 11:41:22,903 : INFO : merging changes from 1204 documents into a model of 3204 documents\n",
      "2021-02-19 11:41:22,917 : INFO : topic #47 (0.009): 0.063*\"model\" + 0.055*\"one\" + 0.033*\"sever\" + 0.032*\"in\" + 0.031*\"variabl\" + 0.031*\"criterion\" + 0.029*\"low\" + 0.027*\"comput\" + 0.025*\"to\" + 0.024*\"be\"\n",
      "2021-02-19 11:41:22,918 : INFO : topic #82 (0.009): 0.713*\"pattern\" + 0.126*\"edit\" + 0.088*\"regress\" + 0.003*\"in\" + 0.001*\"and\" + 0.000*\"code\" + 0.000*\"data\" + 0.000*\"reduc\" + 0.000*\"repetit\" + 0.000*\"quit\"\n",
      "2021-02-19 11:41:22,919 : INFO : topic #42 (0.012): 0.289*\"s\" + 0.274*\"'\" + 0.211*\"\"\" + 0.046*\"correct\" + 0.035*\"on\" + 0.031*\"two\" + 0.021*\"with\" + 0.019*\"comput\" + 0.018*\"complement\" + 0.017*\"to\"\n",
      "2021-02-19 11:41:22,919 : INFO : topic #79 (0.013): 0.074*\"program\" + 0.062*\"and\" + 0.042*\",\" + 0.038*\"in\" + 0.031*\"are\" + 0.028*\"to\" + 0.021*\"for\" + 0.020*\"is\" + 0.020*\"languag\" + 0.013*\"that\"\n",
      "2021-02-19 11:41:22,920 : INFO : topic #59 (0.014): 0.287*\"(\" + 0.270*\")\" + 0.251*\"algorithm\" + 0.027*\"complex\" + 0.023*\"polynomi\" + 0.022*\"integ\" + 0.022*\"-\" + 0.013*\"number\" + 0.012*\"function\" + 0.011*\"x\"\n",
      "2021-02-19 11:41:22,921 : INFO : topic diff=0.753068, rho=0.389191\n",
      "2021-02-19 11:41:22,931 : INFO : PROGRESS: pass 5, at document #2000/3204\n",
      "2021-02-19 11:41:24,542 : INFO : optimized alpha [0.010267435, 0.009685098, 0.010032905, 0.010729249, 0.010515631, 0.009768768, 0.010468985, 0.009700447, 0.009705133, 0.00954317, 0.010047316, 0.010058675, 0.010162959, 0.010113649, 0.01193044, 0.010822483, 0.01076123, 0.009880966, 0.010887809, 0.009641941, 0.009860652, 0.010024036, 0.011965308, 0.010305121, 0.01013258, 0.01055574, 0.011080037, 0.009942964, 0.00976851, 0.010408155, 0.010575664, 0.010309788, 0.010700091, 0.010616107, 0.009856103, 0.010709791, 0.010341968, 0.010715072, 0.011641705, 0.010171152, 0.0105389, 0.010491352, 0.012640119, 0.011054683, 0.01179688, 0.011327201, 0.011472205, 0.0090391375, 0.010608339, 0.009931389, 0.011126012, 0.010901551, 0.010450899, 0.011431778, 0.009806548, 0.010932272, 0.010070743, 0.010417481, 0.010606534, 0.01445333, 0.010267787, 0.010968684, 0.009984344, 0.0100206155, 0.011295129, 0.010965423, 0.011565031, 0.010279239, 0.0108628385, 0.009733453, 0.010368182, 0.010153867, 0.010175554, 0.009537433, 0.00997726, 0.009617301, 0.010743688, 0.01027653, 0.010503156, 0.01351757, 0.00987733, 0.0110103395, 0.009072898, 0.010930586, 0.012499353, 0.010795804, 0.011631498, 0.01012402, 0.010028562, 0.009718684, 0.010089767, 0.010656974, 0.010253528, 0.010892032, 0.010573369, 0.010977721, 0.010589448, 0.010857973, 0.011221358, 0.0124250725]\n",
      "2021-02-19 11:41:24,557 : INFO : merging changes from 2000 documents into a model of 3204 documents\n",
      "2021-02-19 11:41:24,580 : INFO : topic #47 (0.009): 0.058*\"one\" + 0.049*\"model\" + 0.036*\"variabl\" + 0.034*\"sever\" + 0.034*\"in\" + 0.031*\"comput\" + 0.029*\"factor\" + 0.026*\"low\" + 0.026*\"to\" + 0.025*\"criterion\"\n",
      "2021-02-19 11:41:24,581 : INFO : topic #82 (0.009): 0.656*\"pattern\" + 0.158*\"edit\" + 0.097*\"regress\" + 0.003*\"in\" + 0.000*\"and\" + 0.000*\"code\" + 0.000*\"data\" + 0.000*\"reduc\" + 0.000*\"repetit\" + 0.000*\"quit\"\n",
      "2021-02-19 11:41:24,582 : INFO : topic #42 (0.013): 0.292*\"s\" + 0.280*\"'\" + 0.215*\"\"\" + 0.037*\"correct\" + 0.033*\"on\" + 0.030*\"two\" + 0.021*\"with\" + 0.020*\"comput\" + 0.017*\"to\" + 0.016*\"complement\"\n",
      "2021-02-19 11:41:24,582 : INFO : topic #79 (0.014): 0.075*\"program\" + 0.061*\"and\" + 0.041*\",\" + 0.038*\"in\" + 0.031*\"are\" + 0.027*\"to\" + 0.021*\"for\" + 0.020*\"languag\" + 0.020*\"is\" + 0.014*\"that\"\n",
      "2021-02-19 11:41:24,583 : INFO : topic #59 (0.014): 0.292*\"(\" + 0.278*\")\" + 0.251*\"algorithm\" + 0.026*\"polynomi\" + 0.024*\"complex\" + 0.020*\"-\" + 0.019*\"integ\" + 0.012*\"number\" + 0.010*\"function\" + 0.010*\"x\"\n",
      "2021-02-19 11:41:24,584 : INFO : topic diff=0.667955, rho=0.362690\n",
      "2021-02-19 11:41:26,701 : INFO : -6.440 per-word bound, 86.8 perplexity estimate based on a held-out corpus of 1204 documents with 79462 words\n",
      "2021-02-19 11:41:26,702 : INFO : PROGRESS: pass 5, at document #3204/3204\n",
      "2021-02-19 11:41:28,463 : INFO : optimized alpha [0.01035454, 0.009780033, 0.010135042, 0.010930184, 0.010640175, 0.009794026, 0.010625948, 0.009774599, 0.009696742, 0.009593682, 0.010075109, 0.010175455, 0.010379704, 0.010204622, 0.0123462975, 0.011010414, 0.010919904, 0.009979095, 0.011129656, 0.009687733, 0.009919032, 0.010111752, 0.012413257, 0.010440321, 0.010270653, 0.010635401, 0.011291476, 0.009999491, 0.009819792, 0.010509056, 0.010724233, 0.010414694, 0.010849338, 0.010781609, 0.010001565, 0.010875442, 0.010270565, 0.010899116, 0.0118842805, 0.010212453, 0.0106981145, 0.010638593, 0.013186774, 0.011204856, 0.012151453, 0.011602635, 0.011685778, 0.009055276, 0.010749637, 0.010059329, 0.011220438, 0.011109235, 0.010545786, 0.011654063, 0.009847191, 0.01105951, 0.0101631135, 0.010575003, 0.010714212, 0.015080982, 0.010394986, 0.01109761, 0.010110071, 0.0101045435, 0.011556629, 0.011186578, 0.011780338, 0.010380626, 0.0110739125, 0.009843006, 0.010469026, 0.010253781, 0.010238916, 0.009562373, 0.01004776, 0.009659066, 0.010925129, 0.010396156, 0.010671251, 0.014071233, 0.010022695, 0.011214098, 0.009071024, 0.011122483, 0.012853577, 0.010994631, 0.011959438, 0.010228396, 0.01004234, 0.009772661, 0.010236676, 0.010832586, 0.010240264, 0.0111097535, 0.01064378, 0.0110949455, 0.010765185, 0.010996418, 0.011317656, 0.012699045]\n",
      "2021-02-19 11:41:28,473 : INFO : merging changes from 1204 documents into a model of 3204 documents\n",
      "2021-02-19 11:41:28,486 : INFO : topic #47 (0.009): 0.067*\"one\" + 0.064*\"model\" + 0.036*\"variabl\" + 0.034*\"sever\" + 0.034*\"in\" + 0.031*\"low\" + 0.027*\"criterion\" + 0.025*\"comput\" + 0.025*\"to\" + 0.024*\"be\"\n",
      "2021-02-19 11:41:28,487 : INFO : topic #82 (0.009): 0.713*\"pattern\" + 0.128*\"edit\" + 0.088*\"regress\" + 0.002*\"in\" + 0.000*\"and\" + 0.000*\"code\" + 0.000*\"data\" + 0.000*\"reduc\" + 0.000*\"repetit\" + 0.000*\"quit\"\n",
      "2021-02-19 11:41:28,487 : INFO : topic #42 (0.013): 0.303*\"s\" + 0.288*\"'\" + 0.211*\"\"\" + 0.037*\"correct\" + 0.032*\"on\" + 0.028*\"two\" + 0.020*\"with\" + 0.018*\"comput\" + 0.018*\"complement\" + 0.017*\"to\"\n",
      "2021-02-19 11:41:28,488 : INFO : topic #79 (0.014): 0.080*\"program\" + 0.063*\"and\" + 0.043*\",\" + 0.037*\"in\" + 0.032*\"are\" + 0.028*\"to\" + 0.021*\"for\" + 0.020*\"is\" + 0.019*\"languag\" + 0.014*\"that\"\n"
     ]
    },
    {
     "name": "stderr",
     "output_type": "stream",
     "text": [
      "2021-02-19 11:41:28,488 : INFO : topic #59 (0.015): 0.299*\"(\" + 0.281*\")\" + 0.258*\"algorithm\" + 0.025*\"complex\" + 0.021*\"-\" + 0.020*\"polynomi\" + 0.020*\"integ\" + 0.011*\"number\" + 0.010*\"x\" + 0.008*\"function\"\n",
      "2021-02-19 11:41:28,489 : INFO : topic diff=0.683811, rho=0.362690\n",
      "2021-02-19 11:41:28,499 : INFO : PROGRESS: pass 6, at document #2000/3204\n",
      "2021-02-19 11:41:30,235 : INFO : optimized alpha [0.010333989, 0.009795171, 0.010163442, 0.011069417, 0.010779295, 0.009810704, 0.010559281, 0.009744006, 0.009761321, 0.00958663, 0.0101649985, 0.010150985, 0.010356568, 0.010261956, 0.012323299, 0.011004846, 0.010948222, 0.009927718, 0.011076783, 0.009688976, 0.009972277, 0.010174348, 0.012456364, 0.0104933, 0.010255624, 0.010744536, 0.011277448, 0.010006771, 0.009814876, 0.010654383, 0.010761649, 0.010506186, 0.010992037, 0.010749391, 0.0100047225, 0.010855097, 0.010613431, 0.011011766, 0.011886918, 0.010240168, 0.010726388, 0.010644046, 0.013401566, 0.011273698, 0.0121049965, 0.011616364, 0.011894715, 0.009044897, 0.010928799, 0.0100353705, 0.01133152, 0.011192565, 0.010751594, 0.011835702, 0.0098905135, 0.011068675, 0.010204099, 0.010578405, 0.010773194, 0.015964368, 0.010429494, 0.0111013735, 0.010101485, 0.010121865, 0.011547306, 0.011175894, 0.011774698, 0.010427593, 0.011117403, 0.009862431, 0.010617978, 0.010290365, 0.010309153, 0.009532921, 0.010121582, 0.009670094, 0.011062664, 0.010388692, 0.010676061, 0.014214927, 0.010063456, 0.011362529, 0.009031509, 0.0111848535, 0.012927331, 0.010999756, 0.01197725, 0.010278914, 0.010125485, 0.009766412, 0.01024141, 0.0108689815, 0.010414392, 0.011148347, 0.01072789, 0.011090094, 0.010757615, 0.011161119, 0.011564262, 0.012763298]\n",
      "2021-02-19 11:41:30,246 : INFO : merging changes from 2000 documents into a model of 3204 documents\n",
      "2021-02-19 11:41:30,260 : INFO : topic #82 (0.009): 0.662*\"pattern\" + 0.157*\"edit\" + 0.096*\"regress\" + 0.002*\"in\" + 0.000*\"and\" + 0.000*\"code\" + 0.000*\"data\" + 0.000*\"reduc\" + 0.000*\"repetit\" + 0.000*\"quit\"\n",
      "2021-02-19 11:41:30,262 : INFO : topic #47 (0.009): 0.068*\"one\" + 0.053*\"model\" + 0.041*\"variabl\" + 0.036*\"sever\" + 0.035*\"in\" + 0.030*\"comput\" + 0.029*\"factor\" + 0.027*\"low\" + 0.026*\"to\" + 0.025*\"be\"\n",
      "2021-02-19 11:41:30,263 : INFO : topic #42 (0.013): 0.305*\"s\" + 0.292*\"'\" + 0.214*\"\"\" + 0.032*\"correct\" + 0.030*\"on\" + 0.027*\"two\" + 0.019*\"with\" + 0.019*\"comput\" + 0.016*\"to\" + 0.015*\"complement\"\n",
      "2021-02-19 11:41:30,264 : INFO : topic #79 (0.014): 0.082*\"program\" + 0.062*\"and\" + 0.042*\",\" + 0.038*\"in\" + 0.032*\"are\" + 0.028*\"to\" + 0.021*\"for\" + 0.020*\"is\" + 0.019*\"languag\" + 0.014*\"that\"\n",
      "2021-02-19 11:41:30,265 : INFO : topic #59 (0.016): 0.302*\"(\" + 0.289*\")\" + 0.257*\"algorithm\" + 0.022*\"complex\" + 0.022*\"polynomi\" + 0.019*\"-\" + 0.017*\"integ\" + 0.011*\"number\" + 0.009*\"x\" + 0.007*\"coeffici\"\n",
      "2021-02-19 11:41:30,266 : INFO : topic diff=0.593901, rho=0.340958\n",
      "2021-02-19 11:41:32,329 : INFO : -6.416 per-word bound, 85.4 perplexity estimate based on a held-out corpus of 1204 documents with 79462 words\n",
      "2021-02-19 11:41:32,330 : INFO : PROGRESS: pass 6, at document #3204/3204\n",
      "2021-02-19 11:41:34,293 : INFO : optimized alpha [0.01042572, 0.009896031, 0.010274556, 0.01127329, 0.010905956, 0.009849071, 0.010717186, 0.009825728, 0.009750948, 0.0096347295, 0.010205373, 0.010267399, 0.0105597805, 0.010359582, 0.012711547, 0.011186131, 0.011098414, 0.010018012, 0.011303374, 0.009732615, 0.010032928, 0.0102743525, 0.012903743, 0.010633102, 0.010401064, 0.010813034, 0.011497793, 0.010066227, 0.009863772, 0.010755148, 0.0109206475, 0.010607991, 0.011136141, 0.0109061785, 0.010145411, 0.010996531, 0.01055079, 0.0111927735, 0.012141889, 0.010282283, 0.010895741, 0.010798757, 0.013931101, 0.011419034, 0.012443654, 0.011875479, 0.012101123, 0.009068728, 0.011080864, 0.010171028, 0.011439451, 0.011399572, 0.01087689, 0.012071375, 0.009926114, 0.011192289, 0.010294334, 0.010727715, 0.010868709, 0.016697813, 0.010552785, 0.011236325, 0.010220684, 0.010218575, 0.011819484, 0.011386145, 0.011985757, 0.010532262, 0.01133068, 0.009971929, 0.010715664, 0.010390811, 0.010380506, 0.009557426, 0.010199517, 0.009726407, 0.011234908, 0.01049599, 0.0108385, 0.014756022, 0.010209767, 0.011572708, 0.009031171, 0.0113830585, 0.013262968, 0.011188375, 0.0122973155, 0.010365853, 0.010135484, 0.009823339, 0.010386502, 0.011048049, 0.010424343, 0.01137474, 0.010800172, 0.011197806, 0.010942827, 0.011307466, 0.011669794, 0.013020058]\n",
      "2021-02-19 11:41:34,302 : INFO : merging changes from 1204 documents into a model of 3204 documents\n",
      "2021-02-19 11:41:34,316 : INFO : topic #82 (0.009): 0.713*\"pattern\" + 0.129*\"edit\" + 0.088*\"regress\" + 0.001*\"in\" + 0.000*\"and\" + 0.000*\"code\" + 0.000*\"data\" + 0.000*\"reduc\" + 0.000*\"repetit\" + 0.000*\"quit\"\n",
      "2021-02-19 11:41:34,317 : INFO : topic #47 (0.009): 0.073*\"one\" + 0.067*\"model\" + 0.039*\"variabl\" + 0.035*\"in\" + 0.035*\"sever\" + 0.031*\"low\" + 0.025*\"criterion\" + 0.025*\"to\" + 0.025*\"comput\" + 0.025*\"be\"\n",
      "2021-02-19 11:41:34,318 : INFO : topic #42 (0.014): 0.313*\"s\" + 0.297*\"'\" + 0.210*\"\"\" + 0.032*\"correct\" + 0.029*\"on\" + 0.026*\"two\" + 0.018*\"with\" + 0.017*\"comput\" + 0.017*\"complement\" + 0.016*\"to\"\n",
      "2021-02-19 11:41:34,318 : INFO : topic #79 (0.015): 0.085*\"program\" + 0.064*\"and\" + 0.044*\",\" + 0.037*\"in\" + 0.033*\"are\" + 0.029*\"to\" + 0.021*\"is\" + 0.020*\"for\" + 0.018*\"languag\" + 0.014*\"that\"\n",
      "2021-02-19 11:41:34,318 : INFO : topic #59 (0.017): 0.308*\"(\" + 0.290*\")\" + 0.264*\"algorithm\" + 0.023*\"complex\" + 0.020*\"-\" + 0.018*\"integ\" + 0.017*\"polynomi\" + 0.009*\"number\" + 0.009*\"x\" + 0.006*\"coeffici\"\n",
      "2021-02-19 11:41:34,320 : INFO : topic diff=0.596570, rho=0.340958\n",
      "2021-02-19 11:41:34,330 : INFO : PROGRESS: pass 7, at document #2000/3204\n",
      "2021-02-19 11:41:36,155 : INFO : optimized alpha [0.010404733, 0.009916647, 0.010306364, 0.011413948, 0.011042813, 0.009876555, 0.010657196, 0.009800288, 0.009820704, 0.009625389, 0.010304463, 0.010247428, 0.010538442, 0.010420814, 0.0127047915, 0.0111817, 0.011130222, 0.009971425, 0.011259178, 0.009737465, 0.010086966, 0.010343875, 0.012952473, 0.0106849335, 0.010386423, 0.010915436, 0.011490714, 0.010075136, 0.009861213, 0.01088908, 0.010957449, 0.0106986035, 0.011271014, 0.010878642, 0.010144736, 0.010984001, 0.010901521, 0.011300158, 0.012146772, 0.010315548, 0.010918512, 0.010808689, 0.014139613, 0.011505154, 0.012402486, 0.011886833, 0.01230831, 0.009066972, 0.011262099, 0.010156248, 0.011548921, 0.011489492, 0.011097852, 0.012255965, 0.009962841, 0.011204566, 0.010331719, 0.010740903, 0.010924705, 0.017677752, 0.010590508, 0.011250718, 0.010220735, 0.010239909, 0.011804849, 0.011382345, 0.011985066, 0.010578589, 0.011376638, 0.010014646, 0.0108688185, 0.010428947, 0.010454223, 0.009535197, 0.010274811, 0.009745025, 0.011366398, 0.010492323, 0.010838879, 0.014898363, 0.010254735, 0.011743139, 0.00899511, 0.011447422, 0.013333571, 0.011201492, 0.012305753, 0.010417471, 0.010218238, 0.009817851, 0.01039388, 0.011085607, 0.010604668, 0.011416016, 0.010891028, 0.01120052, 0.010934841, 0.01147279, 0.011913048, 0.013088499]\n",
      "2021-02-19 11:41:36,166 : INFO : merging changes from 2000 documents into a model of 3204 documents\n",
      "2021-02-19 11:41:36,189 : INFO : topic #82 (0.009): 0.665*\"pattern\" + 0.157*\"edit\" + 0.096*\"regress\" + 0.001*\"in\" + 0.000*\"and\" + 0.000*\"code\" + 0.000*\"data\" + 0.000*\"reduc\" + 0.000*\"repetit\" + 0.000*\"quit\"\n",
      "2021-02-19 11:41:36,190 : INFO : topic #47 (0.009): 0.073*\"one\" + 0.053*\"model\" + 0.044*\"variabl\" + 0.037*\"sever\" + 0.037*\"in\" + 0.031*\"factor\" + 0.029*\"comput\" + 0.028*\"low\" + 0.026*\"be\" + 0.026*\"to\"\n",
      "2021-02-19 11:41:36,191 : INFO : topic #42 (0.014): 0.314*\"s\" + 0.299*\"'\" + 0.213*\"\"\" + 0.028*\"correct\" + 0.028*\"on\" + 0.025*\"two\" + 0.019*\"comput\" + 0.018*\"with\" + 0.016*\"to\" + 0.015*\"complement\"\n",
      "2021-02-19 11:41:36,192 : INFO : topic #79 (0.015): 0.086*\"program\" + 0.063*\"and\" + 0.043*\",\" + 0.037*\"in\" + 0.034*\"are\" + 0.028*\"to\" + 0.021*\"for\" + 0.021*\"is\" + 0.017*\"languag\" + 0.014*\"that\"\n",
      "2021-02-19 11:41:36,193 : INFO : topic #59 (0.018): 0.310*\"(\" + 0.298*\")\" + 0.261*\"algorithm\" + 0.021*\"complex\" + 0.019*\"-\" + 0.018*\"polynomi\" + 0.016*\"integ\" + 0.009*\"number\" + 0.008*\"x\" + 0.006*\"coeffici\"\n",
      "2021-02-19 11:41:36,194 : INFO : topic diff=0.515744, rho=0.322715\n"
     ]
    },
    {
     "name": "stderr",
     "output_type": "stream",
     "text": [
      "2021-02-19 11:41:38,296 : INFO : -6.396 per-word bound, 84.2 perplexity estimate based on a held-out corpus of 1204 documents with 79462 words\n",
      "2021-02-19 11:41:38,297 : INFO : PROGRESS: pass 7, at document #3204/3204\n",
      "2021-02-19 11:41:40,121 : INFO : optimized alpha [0.010506502, 0.010012741, 0.010417867, 0.011603162, 0.011169128, 0.009913276, 0.010810661, 0.00987572, 0.009813662, 0.0096715, 0.010356341, 0.010364018, 0.010738623, 0.010513697, 0.013079129, 0.011345692, 0.011285447, 0.010055023, 0.011482145, 0.00978713, 0.010144596, 0.010447243, 0.013416034, 0.010821005, 0.010525255, 0.010980007, 0.011701563, 0.010142898, 0.009908122, 0.010987292, 0.011112179, 0.010803838, 0.011402054, 0.011051999, 0.010287132, 0.011127713, 0.01083768, 0.0114853, 0.012390968, 0.010364028, 0.011080218, 0.010959082, 0.014657345, 0.011643505, 0.012738, 0.012138247, 0.012512355, 0.009100037, 0.011415866, 0.010299541, 0.01166962, 0.011693726, 0.011246317, 0.012492303, 0.00999149, 0.0113345375, 0.010423218, 0.010886277, 0.011015418, 0.018552523, 0.010716632, 0.011379336, 0.010348233, 0.010320902, 0.012053017, 0.011602045, 0.012209687, 0.010683775, 0.01158079, 0.010124506, 0.010966926, 0.010530334, 0.010533137, 0.009561925, 0.010362636, 0.009811994, 0.011539864, 0.010597339, 0.010993954, 0.015425486, 0.0104054045, 0.011947745, 0.008996056, 0.011643235, 0.013645071, 0.011390696, 0.01261018, 0.010517064, 0.010227611, 0.009877531, 0.010518269, 0.011271825, 0.01062144, 0.011642315, 0.010959408, 0.011312225, 0.011110037, 0.011618098, 0.012008559, 0.013330594]\n",
      "2021-02-19 11:41:40,130 : INFO : merging changes from 1204 documents into a model of 3204 documents\n",
      "2021-02-19 11:41:40,144 : INFO : topic #82 (0.009): 0.713*\"pattern\" + 0.130*\"edit\" + 0.088*\"regress\" + 0.000*\"in\" + 0.000*\"and\" + 0.000*\"code\" + 0.000*\"data\" + 0.000*\"reduc\" + 0.000*\"repetit\" + 0.000*\"quit\"\n",
      "2021-02-19 11:41:40,145 : INFO : topic #47 (0.009): 0.076*\"one\" + 0.066*\"model\" + 0.044*\"variabl\" + 0.037*\"in\" + 0.037*\"sever\" + 0.031*\"low\" + 0.026*\"be\" + 0.026*\"factor\" + 0.025*\"to\" + 0.025*\"comput\"\n",
      "2021-02-19 11:41:40,146 : INFO : topic #42 (0.015): 0.321*\"s\" + 0.303*\"'\" + 0.209*\"\"\" + 0.029*\"correct\" + 0.027*\"on\" + 0.024*\"two\" + 0.017*\"with\" + 0.017*\"comput\" + 0.017*\"complement\" + 0.016*\"to\"\n",
      "2021-02-19 11:41:40,147 : INFO : topic #79 (0.015): 0.089*\"program\" + 0.065*\"and\" + 0.044*\",\" + 0.036*\"in\" + 0.034*\"are\" + 0.029*\"to\" + 0.021*\"is\" + 0.020*\"for\" + 0.016*\"languag\" + 0.014*\"that\"\n",
      "2021-02-19 11:41:40,148 : INFO : topic #59 (0.019): 0.315*\"(\" + 0.298*\")\" + 0.268*\"algorithm\" + 0.021*\"complex\" + 0.019*\"-\" + 0.016*\"integ\" + 0.015*\"polynomi\" + 0.008*\"number\" + 0.008*\"x\" + 0.005*\"coeffici\"\n",
      "2021-02-19 11:41:40,149 : INFO : topic diff=0.515911, rho=0.322715\n",
      "2021-02-19 11:41:40,158 : INFO : PROGRESS: pass 8, at document #2000/3204\n",
      "2021-02-19 11:41:41,821 : INFO : optimized alpha [0.010488253, 0.010026273, 0.010457804, 0.011740356, 0.0113077955, 0.009942884, 0.01075649, 0.00985028, 0.009882273, 0.009663068, 0.010454693, 0.010352896, 0.010715573, 0.010567472, 0.013067603, 0.011344323, 0.011322329, 0.010011031, 0.011436962, 0.009792123, 0.0101964325, 0.010516869, 0.013478743, 0.010882048, 0.010514149, 0.011081675, 0.011695477, 0.010164203, 0.009906145, 0.011112619, 0.0111537995, 0.010893987, 0.011535175, 0.011042196, 0.010295486, 0.011113653, 0.01118392, 0.011586397, 0.012396117, 0.010396034, 0.01110646, 0.01095948, 0.014860188, 0.011744327, 0.012705488, 0.012153096, 0.012724507, 0.009108719, 0.01159632, 0.01030099, 0.011794204, 0.011784932, 0.011478024, 0.012674582, 0.01001925, 0.011347806, 0.010457323, 0.010896768, 0.0110706, 0.019585285, 0.010759099, 0.011401811, 0.0103431605, 0.010339794, 0.01204489, 0.011595329, 0.012221204, 0.0107213715, 0.0116221225, 0.010165238, 0.011116184, 0.010568401, 0.0106167365, 0.009548989, 0.010442781, 0.009825374, 0.01169122, 0.01060032, 0.011003929, 0.015579314, 0.010459209, 0.012106915, 0.008964316, 0.01170429, 0.013715499, 0.01140938, 0.012625764, 0.0105811, 0.010305543, 0.009875704, 0.010528365, 0.011306992, 0.01080519, 0.011697121, 0.011051746, 0.011321842, 0.011106835, 0.011773979, 0.012251311, 0.013390949]\n",
      "2021-02-19 11:41:41,832 : INFO : merging changes from 2000 documents into a model of 3204 documents\n",
      "2021-02-19 11:41:41,854 : INFO : topic #82 (0.009): 0.665*\"pattern\" + 0.158*\"edit\" + 0.095*\"regress\" + 0.000*\"in\" + 0.000*\"and\" + 0.000*\"code\" + 0.000*\"data\" + 0.000*\"reduc\" + 0.000*\"repetit\" + 0.000*\"quit\"\n",
      "2021-02-19 11:41:41,856 : INFO : topic #47 (0.009): 0.076*\"one\" + 0.053*\"model\" + 0.048*\"variabl\" + 0.039*\"sever\" + 0.038*\"in\" + 0.033*\"factor\" + 0.028*\"comput\" + 0.028*\"be\" + 0.028*\"low\" + 0.027*\"techniqu\"\n",
      "2021-02-19 11:41:41,856 : INFO : topic #42 (0.015): 0.320*\"s\" + 0.304*\"'\" + 0.212*\"\"\" + 0.026*\"correct\" + 0.026*\"on\" + 0.023*\"two\" + 0.018*\"comput\" + 0.017*\"with\" + 0.015*\"complement\" + 0.015*\"to\"\n",
      "2021-02-19 11:41:41,857 : INFO : topic #79 (0.016): 0.090*\"program\" + 0.063*\"and\" + 0.043*\",\" + 0.037*\"in\" + 0.035*\"are\" + 0.028*\"to\" + 0.021*\"for\" + 0.021*\"is\" + 0.016*\"languag\" + 0.014*\"that\"\n",
      "2021-02-19 11:41:41,858 : INFO : topic #59 (0.020): 0.317*\"(\" + 0.304*\")\" + 0.265*\"algorithm\" + 0.020*\"complex\" + 0.018*\"-\" + 0.016*\"polynomi\" + 0.014*\"integ\" + 0.008*\"number\" + 0.007*\"x\" + 0.005*\"coeffici\"\n",
      "2021-02-19 11:41:41,859 : INFO : topic diff=0.445460, rho=0.307119\n",
      "2021-02-19 11:41:43,880 : INFO : -6.378 per-word bound, 83.2 perplexity estimate based on a held-out corpus of 1204 documents with 79462 words\n",
      "2021-02-19 11:41:43,881 : INFO : PROGRESS: pass 8, at document #3204/3204\n",
      "2021-02-19 11:41:45,647 : INFO : optimized alpha [0.01058855, 0.010120859, 0.010559151, 0.011934348, 0.011434268, 0.009975532, 0.0109064, 0.009940514, 0.009883239, 0.009712426, 0.010506604, 0.010467342, 0.010916388, 0.010667042, 0.013436828, 0.011495575, 0.011474182, 0.010096374, 0.011657271, 0.009842304, 0.010253983, 0.010618378, 0.013942744, 0.011015124, 0.010658048, 0.011145628, 0.011916364, 0.010231767, 0.009951336, 0.011220114, 0.011322382, 0.011005542, 0.011657258, 0.011231619, 0.010434689, 0.011254145, 0.011127434, 0.01177025, 0.012653933, 0.0104477, 0.011261594, 0.011106563, 0.015370981, 0.011873696, 0.013019662, 0.01237953, 0.012910354, 0.009150064, 0.011740612, 0.01044639, 0.011915021, 0.011984475, 0.011649197, 0.012919066, 0.010044299, 0.01148414, 0.010544931, 0.011030543, 0.0111543555, 0.02054553, 0.010879913, 0.011525028, 0.010478809, 0.01041187, 0.012293155, 0.011806656, 0.0124339005, 0.010802542, 0.011818332, 0.010275846, 0.011215082, 0.010662711, 0.0106973825, 0.00957513, 0.010529189, 0.009891993, 0.011860673, 0.010700939, 0.011152613, 0.016118443, 0.010614532, 0.01231025, 0.008968565, 0.011895497, 0.014026811, 0.011596928, 0.01292615, 0.010679094, 0.0103170145, 0.009935539, 0.01065834, 0.011494808, 0.010819857, 0.0119274855, 0.011111105, 0.011422904, 0.011282553, 0.011903788, 0.012353497, 0.0136095695]\n",
      "2021-02-19 11:41:45,656 : INFO : merging changes from 1204 documents into a model of 3204 documents\n",
      "2021-02-19 11:41:45,670 : INFO : topic #82 (0.009): 0.708*\"pattern\" + 0.136*\"edit\" + 0.087*\"regress\" + 0.000*\"in\" + 0.000*\"and\" + 0.000*\"code\" + 0.000*\"data\" + 0.000*\"reduc\" + 0.000*\"repetit\" + 0.000*\"quit\"\n",
      "2021-02-19 11:41:45,671 : INFO : topic #47 (0.009): 0.077*\"one\" + 0.064*\"model\" + 0.047*\"variabl\" + 0.038*\"in\" + 0.038*\"sever\" + 0.030*\"low\" + 0.028*\"be\" + 0.028*\"factor\" + 0.026*\"techniqu\" + 0.024*\"comput\"\n",
      "2021-02-19 11:41:45,671 : INFO : topic #42 (0.015): 0.326*\"s\" + 0.307*\"'\" + 0.211*\"\"\" + 0.025*\"on\" + 0.024*\"correct\" + 0.023*\"two\" + 0.017*\"comput\" + 0.017*\"complement\" + 0.017*\"with\" + 0.015*\"to\"\n",
      "2021-02-19 11:41:45,672 : INFO : topic #79 (0.016): 0.092*\"program\" + 0.065*\"and\" + 0.044*\",\" + 0.036*\"in\" + 0.035*\"are\" + 0.029*\"to\" + 0.021*\"is\" + 0.020*\"for\" + 0.015*\"languag\" + 0.015*\"discuss\"\n",
      "2021-02-19 11:41:45,673 : INFO : topic #59 (0.021): 0.322*\"(\" + 0.304*\")\" + 0.268*\"algorithm\" + 0.020*\"complex\" + 0.018*\"-\" + 0.014*\"integ\" + 0.013*\"polynomi\" + 0.007*\"number\" + 0.006*\"x\" + 0.004*\"coeffici\"\n",
      "2021-02-19 11:41:45,674 : INFO : topic diff=0.446713, rho=0.307119\n",
      "2021-02-19 11:41:45,684 : INFO : PROGRESS: pass 9, at document #2000/3204\n",
      "2021-02-19 11:41:47,318 : INFO : optimized alpha [0.010577441, 0.010132299, 0.010599008, 0.012066933, 0.011571788, 0.010002837, 0.010855851, 0.0099206995, 0.009961159, 0.009704759, 0.010604608, 0.010448801, 0.010896436, 0.010723375, 0.013436583, 0.011497214, 0.011509213, 0.010054655, 0.011619641, 0.009847409, 0.010305428, 0.010691512, 0.014012927, 0.011081652, 0.010653252, 0.011246941, 0.011914678, 0.01025542, 0.009951339, 0.011342677, 0.011363558, 0.011097165, 0.0117857875, 0.0112213185, 0.010440832, 0.011240234, 0.011467282, 0.011865691, 0.012666911, 0.010478613, 0.011282943, 0.011116477, 0.015561988, 0.011977977, 0.012991961, 0.012392557, 0.013116458, 0.009165512, 0.011922529, 0.010452013, 0.012035096, 0.012080749, 0.011882147, 0.013109057, 0.010069839, 0.011500022, 0.010579298, 0.011041914, 0.011210706, 0.02166985, 0.010920543, 0.011543053, 0.01047826, 0.010434755, 0.012293053, 0.011811519, 0.012432717, 0.010843484, 0.0118659735, 0.010327152, 0.011364475, 0.010697643, 0.010785873, 0.009569101, 0.010623527, 0.009907872, 0.012008982, 0.010706924, 0.0111584645, 0.016271984, 0.010675283, 0.012473399, 0.008939209, 0.011960698, 0.014097149, 0.011614088, 0.0129391225, 0.010748562, 0.010393731, 0.009935538, 0.010675561, 0.011526108, 0.011007407, 0.011979422, 0.011200087, 0.011428708, 0.011283784, 0.012058033, 0.012589484, 0.01366248]\n"
     ]
    },
    {
     "name": "stderr",
     "output_type": "stream",
     "text": [
      "2021-02-19 11:41:47,328 : INFO : merging changes from 2000 documents into a model of 3204 documents\n",
      "2021-02-19 11:41:47,343 : INFO : topic #82 (0.009): 0.664*\"pattern\" + 0.161*\"edit\" + 0.094*\"regress\" + 0.000*\"in\" + 0.000*\"and\" + 0.000*\"code\" + 0.000*\"data\" + 0.000*\"reduc\" + 0.000*\"repetit\" + 0.000*\"quit\"\n",
      "2021-02-19 11:41:47,344 : INFO : topic #47 (0.009): 0.078*\"one\" + 0.053*\"model\" + 0.050*\"variabl\" + 0.041*\"sever\" + 0.039*\"in\" + 0.035*\"factor\" + 0.030*\"be\" + 0.029*\"techniqu\" + 0.028*\"comput\" + 0.028*\"low\"\n",
      "2021-02-19 11:41:47,346 : INFO : topic #42 (0.016): 0.325*\"s\" + 0.308*\"'\" + 0.214*\"\"\" + 0.024*\"on\" + 0.022*\"correct\" + 0.022*\"two\" + 0.018*\"comput\" + 0.017*\"with\" + 0.015*\"complement\" + 0.015*\"to\"\n",
      "2021-02-19 11:41:47,346 : INFO : topic #79 (0.016): 0.093*\"program\" + 0.064*\"and\" + 0.044*\",\" + 0.036*\"in\" + 0.036*\"are\" + 0.028*\"to\" + 0.021*\"for\" + 0.021*\"is\" + 0.015*\"languag\" + 0.015*\"discuss\"\n",
      "2021-02-19 11:41:47,347 : INFO : topic #59 (0.022): 0.322*\"(\" + 0.309*\")\" + 0.265*\"algorithm\" + 0.019*\"complex\" + 0.017*\"-\" + 0.014*\"polynomi\" + 0.012*\"integ\" + 0.007*\"number\" + 0.006*\"x\" + 0.005*\"coeffici\"\n",
      "2021-02-19 11:41:47,349 : INFO : topic diff=0.385915, rho=0.293585\n",
      "2021-02-19 11:41:49,334 : INFO : -6.366 per-word bound, 82.5 perplexity estimate based on a held-out corpus of 1204 documents with 79462 words\n",
      "2021-02-19 11:41:49,335 : INFO : PROGRESS: pass 9, at document #3204/3204\n",
      "2021-02-19 11:41:51,051 : INFO : optimized alpha [0.01068195, 0.010223305, 0.010696425, 0.0122663, 0.011693212, 0.01003681, 0.010989537, 0.010012524, 0.009962061, 0.009750122, 0.010667055, 0.010559028, 0.011098468, 0.010813817, 0.013815573, 0.011648361, 0.011658309, 0.010146851, 0.011829641, 0.009895866, 0.010365625, 0.010796827, 0.014468405, 0.011225929, 0.010791985, 0.011313428, 0.012134209, 0.010330487, 0.009995077, 0.011445665, 0.011517707, 0.011209657, 0.011905575, 0.011418104, 0.010577491, 0.011375486, 0.011406505, 0.012057722, 0.012929214, 0.010528266, 0.011429608, 0.011255388, 0.016066955, 0.012105312, 0.01330287, 0.012623062, 0.013291941, 0.009209931, 0.0120697785, 0.010589681, 0.012150756, 0.012285428, 0.012052886, 0.013356039, 0.010094174, 0.011636992, 0.010679162, 0.011176047, 0.011296561, 0.022700265, 0.011036793, 0.011667507, 0.010601246, 0.010504082, 0.012542386, 0.012015734, 0.012647267, 0.010932168, 0.012064073, 0.010448888, 0.011461731, 0.010796187, 0.010865717, 0.009594736, 0.010721975, 0.009981821, 0.012184048, 0.010806403, 0.011299033, 0.01680479, 0.010832979, 0.012682217, 0.00894422, 0.012151208, 0.014395476, 0.01179217, 0.013223784, 0.010847891, 0.010402127, 0.009998109, 0.010800779, 0.011704529, 0.011028295, 0.012190659, 0.011259638, 0.011528788, 0.0114532765, 0.012182425, 0.012683102, 0.013869644]\n",
      "2021-02-19 11:41:51,061 : INFO : merging changes from 1204 documents into a model of 3204 documents\n",
      "2021-02-19 11:41:51,074 : INFO : topic #82 (0.009): 0.705*\"pattern\" + 0.139*\"edit\" + 0.087*\"regress\" + 0.000*\"in\" + 0.000*\"and\" + 0.000*\"code\" + 0.000*\"data\" + 0.000*\"reduc\" + 0.000*\"repetit\" + 0.000*\"quit\"\n",
      "2021-02-19 11:41:51,075 : INFO : topic #47 (0.009): 0.078*\"one\" + 0.064*\"model\" + 0.048*\"variabl\" + 0.039*\"sever\" + 0.039*\"in\" + 0.031*\"low\" + 0.030*\"be\" + 0.029*\"factor\" + 0.028*\"techniqu\" + 0.026*\"cost\"\n",
      "2021-02-19 11:41:51,075 : INFO : topic #42 (0.016): 0.330*\"s\" + 0.310*\"'\" + 0.213*\"\"\" + 0.023*\"on\" + 0.021*\"two\" + 0.020*\"correct\" + 0.017*\"comput\" + 0.017*\"complement\" + 0.016*\"with\" + 0.015*\"to\"\n",
      "2021-02-19 11:41:51,076 : INFO : topic #79 (0.017): 0.095*\"program\" + 0.066*\"and\" + 0.045*\",\" + 0.036*\"are\" + 0.036*\"in\" + 0.029*\"to\" + 0.020*\"is\" + 0.020*\"for\" + 0.016*\"discuss\" + 0.015*\"that\"\n",
      "2021-02-19 11:41:51,077 : INFO : topic #59 (0.023): 0.326*\"(\" + 0.309*\")\" + 0.268*\"algorithm\" + 0.020*\"complex\" + 0.017*\"-\" + 0.012*\"polynomi\" + 0.012*\"integ\" + 0.006*\"number\" + 0.005*\"x\" + 0.004*\"coeffici\"\n",
      "2021-02-19 11:41:51,078 : INFO : topic diff=0.389435, rho=0.293585\n",
      "2021-02-19 11:41:51,088 : INFO : PROGRESS: pass 10, at document #2000/3204\n",
      "2021-02-19 11:41:52,707 : INFO : optimized alpha [0.0106773665, 0.010231438, 0.01073488, 0.012391272, 0.011828341, 0.010076278, 0.010940787, 0.009987865, 0.010048819, 0.009744544, 0.010769546, 0.010550169, 0.011078299, 0.010871263, 0.013818252, 0.011651119, 0.011693353, 0.010109863, 0.011797437, 0.0099080475, 0.010416815, 0.010879587, 0.0145568615, 0.011297937, 0.010791652, 0.011409876, 0.012138412, 0.010353417, 0.009995497, 0.011564369, 0.011561924, 0.011304548, 0.012026693, 0.011413823, 0.010585989, 0.01136516, 0.011737627, 0.012147994, 0.012944054, 0.01055819, 0.011459576, 0.0112613635, 0.016246453, 0.012213253, 0.013271812, 0.012634385, 0.013488958, 0.009221163, 0.012250245, 0.010599255, 0.012283993, 0.012376391, 0.012301291, 0.013544892, 0.010119168, 0.011655366, 0.010716727, 0.011191406, 0.011354111, 0.023922693, 0.011078981, 0.011689704, 0.010598968, 0.010533719, 0.012546295, 0.0120177865, 0.012659644, 0.010970033, 0.012109319, 0.010508726, 0.01160842, 0.010834422, 0.010949782, 0.009596352, 0.01082087, 0.010001435, 0.012336587, 0.0108214505, 0.011302738, 0.0169661, 0.010891337, 0.012849888, 0.008918207, 0.012220543, 0.014470355, 0.011804692, 0.013230701, 0.010922611, 0.010473474, 0.010001166, 0.010827874, 0.011739041, 0.011220071, 0.012243433, 0.011344128, 0.011536089, 0.011457106, 0.012335582, 0.012923825, 0.013921864]\n",
      "2021-02-19 11:41:52,721 : INFO : merging changes from 2000 documents into a model of 3204 documents\n",
      "2021-02-19 11:41:52,742 : INFO : topic #82 (0.009): 0.662*\"pattern\" + 0.164*\"edit\" + 0.094*\"regress\" + 0.000*\"in\" + 0.000*\"and\" + 0.000*\"code\" + 0.000*\"data\" + 0.000*\"reduc\" + 0.000*\"repetit\" + 0.000*\"quit\"\n",
      "2021-02-19 11:41:52,743 : INFO : topic #47 (0.009): 0.079*\"one\" + 0.054*\"model\" + 0.050*\"variabl\" + 0.042*\"sever\" + 0.040*\"in\" + 0.035*\"factor\" + 0.032*\"be\" + 0.031*\"techniqu\" + 0.028*\"low\" + 0.027*\"comput\"\n",
      "2021-02-19 11:41:52,743 : INFO : topic #42 (0.016): 0.329*\"s\" + 0.310*\"'\" + 0.216*\"\"\" + 0.023*\"on\" + 0.020*\"two\" + 0.019*\"correct\" + 0.018*\"comput\" + 0.016*\"with\" + 0.015*\"complement\" + 0.014*\"to\"\n",
      "2021-02-19 11:41:52,744 : INFO : topic #79 (0.017): 0.095*\"program\" + 0.065*\"and\" + 0.044*\",\" + 0.037*\"are\" + 0.036*\"in\" + 0.029*\"to\" + 0.021*\"for\" + 0.020*\"is\" + 0.016*\"discuss\" + 0.015*\"that\"\n",
      "2021-02-19 11:41:52,745 : INFO : topic #59 (0.024): 0.326*\"(\" + 0.314*\")\" + 0.266*\"algorithm\" + 0.019*\"complex\" + 0.016*\"-\" + 0.013*\"polynomi\" + 0.010*\"integ\" + 0.006*\"number\" + 0.005*\"x\" + 0.004*\"coeffici\"\n",
      "2021-02-19 11:41:52,746 : INFO : topic diff=0.337176, rho=0.281696\n",
      "2021-02-19 11:41:54,676 : INFO : -6.353 per-word bound, 81.7 perplexity estimate based on a held-out corpus of 1204 documents with 79462 words\n",
      "2021-02-19 11:41:54,676 : INFO : PROGRESS: pass 10, at document #3204/3204\n",
      "2021-02-19 11:41:56,380 : INFO : optimized alpha [0.010780947, 0.010319375, 0.010821349, 0.012590496, 0.011962122, 0.010113923, 0.011080444, 0.010081422, 0.01005428, 0.009788597, 0.010839494, 0.010651685, 0.011266469, 0.0109636355, 0.014185044, 0.011802741, 0.011837626, 0.010194322, 0.011998013, 0.00995499, 0.010472405, 0.010978635, 0.015019082, 0.011437467, 0.010925847, 0.011473619, 0.012345692, 0.010423574, 0.010038018, 0.011666065, 0.01172761, 0.011418382, 0.012139121, 0.011618189, 0.0107207075, 0.01150126, 0.011672765, 0.01233424, 0.013199061, 0.010606168, 0.011609588, 0.011401081, 0.016735017, 0.012336059, 0.0135741085, 0.012860871, 0.0136582805, 0.0092707975, 0.012406604, 0.010739902, 0.012403688, 0.012572074, 0.012477887, 0.013801358, 0.01014293, 0.011785023, 0.010823223, 0.011323718, 0.011431471, 0.025101015, 0.011196485, 0.011824052, 0.010720337, 0.010600634, 0.012788486, 0.0122272195, 0.012876689, 0.011055647, 0.0123099005, 0.010633902, 0.011707136, 0.010934705, 0.011029165, 0.009626038, 0.0109234, 0.010077638, 0.012511769, 0.010920138, 0.011441354, 0.017498104, 0.011046657, 0.013055727, 0.008923895, 0.012416734, 0.014763887, 0.01197715, 0.013491711, 0.011010747, 0.010481612, 0.0100617, 0.010951523, 0.011914616, 0.011246825, 0.012454257, 0.011401336, 0.011632808, 0.011623989, 0.012452185, 0.01302467, 0.014122337]\n",
      "2021-02-19 11:41:56,389 : INFO : merging changes from 1204 documents into a model of 3204 documents\n",
      "2021-02-19 11:41:56,403 : INFO : topic #82 (0.009): 0.702*\"pattern\" + 0.142*\"edit\" + 0.087*\"regress\" + 0.000*\"in\" + 0.000*\"and\" + 0.000*\"code\" + 0.000*\"data\" + 0.000*\"reduc\" + 0.000*\"repetit\" + 0.000*\"quit\"\n"
     ]
    },
    {
     "name": "stderr",
     "output_type": "stream",
     "text": [
      "2021-02-19 11:41:56,404 : INFO : topic #47 (0.009): 0.078*\"one\" + 0.065*\"model\" + 0.048*\"variabl\" + 0.041*\"sever\" + 0.040*\"in\" + 0.032*\"be\" + 0.031*\"factor\" + 0.030*\"low\" + 0.029*\"techniqu\" + 0.028*\"cost\"\n",
      "2021-02-19 11:41:56,404 : INFO : topic #42 (0.017): 0.333*\"s\" + 0.312*\"'\" + 0.214*\"\"\" + 0.022*\"on\" + 0.020*\"two\" + 0.018*\"correct\" + 0.017*\"comput\" + 0.017*\"complement\" + 0.016*\"with\" + 0.014*\"to\"\n",
      "2021-02-19 11:41:56,405 : INFO : topic #79 (0.017): 0.097*\"program\" + 0.067*\"and\" + 0.045*\",\" + 0.037*\"are\" + 0.036*\"in\" + 0.029*\"to\" + 0.020*\"for\" + 0.020*\"is\" + 0.016*\"discuss\" + 0.015*\"that\"\n",
      "2021-02-19 11:41:56,406 : INFO : topic #59 (0.025): 0.330*\"(\" + 0.314*\")\" + 0.267*\"algorithm\" + 0.019*\"complex\" + 0.016*\"-\" + 0.011*\"polynomi\" + 0.011*\"integ\" + 0.005*\"number\" + 0.004*\"x\" + 0.003*\"coeffici\"\n",
      "2021-02-19 11:41:56,407 : INFO : topic diff=0.342083, rho=0.281696\n",
      "2021-02-19 11:41:56,416 : INFO : PROGRESS: pass 11, at document #2000/3204\n",
      "2021-02-19 11:41:57,929 : INFO : optimized alpha [0.010785359, 0.010327233, 0.010858576, 0.012718701, 0.012096925, 0.010152308, 0.01103778, 0.010057663, 0.010148154, 0.009782267, 0.010939076, 0.010643104, 0.011249214, 0.011025224, 0.014186806, 0.011803309, 0.011876032, 0.01016034, 0.01196268, 0.009972435, 0.01052206, 0.011063346, 0.01510691, 0.0115070585, 0.010925196, 0.011568787, 0.0123471515, 0.010451572, 0.010038822, 0.0117829535, 0.011773193, 0.01151662, 0.012255143, 0.011614689, 0.010732973, 0.0114957, 0.011999154, 0.012428132, 0.0132157635, 0.010638207, 0.011633401, 0.011412803, 0.016905695, 0.012451062, 0.013543871, 0.012867152, 0.013854078, 0.009289488, 0.012589526, 0.010747338, 0.012539761, 0.012661568, 0.012740564, 0.0139971925, 0.010167441, 0.011809053, 0.010863857, 0.011339803, 0.011490309, 0.026393028, 0.011241763, 0.0118502425, 0.010719355, 0.01062935, 0.012789261, 0.012233192, 0.012889429, 0.011095322, 0.012354621, 0.010701984, 0.011845255, 0.010971623, 0.011113728, 0.009633358, 0.011023928, 0.010095288, 0.012661976, 0.010939095, 0.01143989, 0.017662503, 0.011102879, 0.013230008, 0.00890089, 0.012488467, 0.014839333, 0.011988632, 0.013493155, 0.011087776, 0.010553786, 0.010064881, 0.010983472, 0.011947453, 0.0114445975, 0.012503103, 0.0114833545, 0.01163819, 0.011628758, 0.012611467, 0.013263664, 0.014174176]\n",
      "2021-02-19 11:41:57,938 : INFO : merging changes from 2000 documents into a model of 3204 documents\n",
      "2021-02-19 11:41:57,953 : INFO : topic #82 (0.009): 0.660*\"pattern\" + 0.168*\"edit\" + 0.093*\"regress\" + 0.000*\"in\" + 0.000*\"and\" + 0.000*\"code\" + 0.000*\"data\" + 0.000*\"reduc\" + 0.000*\"repetit\" + 0.000*\"quit\"\n",
      "2021-02-19 11:41:57,954 : INFO : topic #47 (0.009): 0.079*\"one\" + 0.055*\"model\" + 0.051*\"variabl\" + 0.044*\"sever\" + 0.041*\"in\" + 0.037*\"factor\" + 0.034*\"be\" + 0.032*\"techniqu\" + 0.028*\"low\" + 0.028*\"comput\"\n",
      "2021-02-19 11:41:57,955 : INFO : topic #42 (0.017): 0.332*\"s\" + 0.312*\"'\" + 0.216*\"\"\" + 0.022*\"on\" + 0.019*\"two\" + 0.019*\"comput\" + 0.016*\"correct\" + 0.016*\"complement\" + 0.015*\"with\" + 0.014*\"to\"\n",
      "2021-02-19 11:41:57,956 : INFO : topic #79 (0.018): 0.098*\"program\" + 0.066*\"and\" + 0.044*\",\" + 0.037*\"are\" + 0.036*\"in\" + 0.029*\"to\" + 0.021*\"for\" + 0.020*\"is\" + 0.016*\"discuss\" + 0.015*\"that\"\n",
      "2021-02-19 11:41:57,957 : INFO : topic #59 (0.026): 0.330*\"(\" + 0.319*\")\" + 0.265*\"algorithm\" + 0.018*\"complex\" + 0.015*\"-\" + 0.012*\"polynomi\" + 0.009*\"integ\" + 0.005*\"number\" + 0.004*\"x\" + 0.004*\"coeffici\"\n",
      "2021-02-19 11:41:57,958 : INFO : topic diff=0.297674, rho=0.271143\n",
      "2021-02-19 11:41:59,924 : INFO : -6.345 per-word bound, 81.3 perplexity estimate based on a held-out corpus of 1204 documents with 79462 words\n",
      "2021-02-19 11:41:59,925 : INFO : PROGRESS: pass 11, at document #3204/3204\n",
      "2021-02-19 11:42:01,612 : INFO : optimized alpha [0.010888273, 0.010412379, 0.010947038, 0.012912454, 0.012223628, 0.010198009, 0.011175751, 0.010148387, 0.010153167, 0.009822912, 0.011011326, 0.010741474, 0.011429545, 0.011119526, 0.014545573, 0.01194759, 0.012018576, 0.010242284, 0.012157672, 0.01002466, 0.010575726, 0.011159047, 0.015590803, 0.011644808, 0.011065266, 0.011635101, 0.012562862, 0.010524326, 0.010080221, 0.011881092, 0.011934053, 0.011626662, 0.012363539, 0.011824136, 0.010866069, 0.011617191, 0.0119330725, 0.012609127, 0.0134641165, 0.010684641, 0.011786845, 0.011540469, 0.017389696, 0.012564012, 0.013829029, 0.013093156, 0.014020764, 0.009348149, 0.0127409855, 0.010886194, 0.012657704, 0.01285465, 0.01292612, 0.014263601, 0.010188349, 0.011945632, 0.010969456, 0.011473135, 0.011570251, 0.027646743, 0.011358163, 0.01197492, 0.010837027, 0.010696506, 0.013024864, 0.012448122, 0.013106378, 0.011178074, 0.01255238, 0.010830835, 0.011942926, 0.011076271, 0.011197791, 0.009671133, 0.011133012, 0.010173569, 0.012834821, 0.011039624, 0.011576738, 0.01819857, 0.011261192, 0.013454466, 0.008907107, 0.012676357, 0.015149308, 0.012161496, 0.013746987, 0.011188003, 0.010561614, 0.010130379, 0.011100833, 0.0121151665, 0.011474308, 0.012716894, 0.011538422, 0.011729207, 0.0117960945, 0.012726731, 0.013368831, 0.014358648]\n",
      "2021-02-19 11:42:01,621 : INFO : merging changes from 1204 documents into a model of 3204 documents\n",
      "2021-02-19 11:42:01,635 : INFO : topic #82 (0.009): 0.699*\"pattern\" + 0.146*\"edit\" + 0.087*\"regress\" + 0.000*\"in\" + 0.000*\"and\" + 0.000*\"code\" + 0.000*\"data\" + 0.000*\"reduc\" + 0.000*\"repetit\" + 0.000*\"quit\"\n",
      "2021-02-19 11:42:01,635 : INFO : topic #47 (0.009): 0.078*\"one\" + 0.066*\"model\" + 0.048*\"variabl\" + 0.043*\"sever\" + 0.041*\"in\" + 0.034*\"factor\" + 0.033*\"be\" + 0.030*\"cost\" + 0.030*\"low\" + 0.029*\"techniqu\"\n",
      "2021-02-19 11:42:01,636 : INFO : topic #42 (0.017): 0.335*\"s\" + 0.313*\"'\" + 0.216*\"\"\" + 0.021*\"on\" + 0.020*\"two\" + 0.018*\"comput\" + 0.017*\"complement\" + 0.016*\"correct\" + 0.015*\"with\" + 0.014*\"to\"\n",
      "2021-02-19 11:42:01,636 : INFO : topic #79 (0.018): 0.099*\"program\" + 0.067*\"and\" + 0.045*\",\" + 0.038*\"are\" + 0.035*\"in\" + 0.029*\"to\" + 0.020*\"for\" + 0.020*\"is\" + 0.017*\"discuss\" + 0.015*\"that\"\n",
      "2021-02-19 11:42:01,637 : INFO : topic #59 (0.028): 0.335*\"(\" + 0.320*\")\" + 0.263*\"algorithm\" + 0.019*\"complex\" + 0.015*\"-\" + 0.010*\"polynomi\" + 0.009*\"integ\" + 0.004*\"number\" + 0.004*\"x\" + 0.003*\"coeffici\"\n",
      "2021-02-19 11:42:01,638 : INFO : topic diff=0.303598, rho=0.271143\n",
      "2021-02-19 11:42:01,648 : INFO : PROGRESS: pass 12, at document #2000/3204\n",
      "2021-02-19 11:42:03,145 : INFO : optimized alpha [0.010898342, 0.010421349, 0.010983105, 0.013040665, 0.012359958, 0.010238092, 0.011135744, 0.010130836, 0.010247291, 0.009818472, 0.011111131, 0.010740278, 0.011410589, 0.0111778965, 0.014554278, 0.011949376, 0.012055539, 0.010211012, 0.012122571, 0.010044365, 0.010624031, 0.011242921, 0.015684437, 0.011712237, 0.011067226, 0.011727634, 0.012564968, 0.010555742, 0.010081361, 0.011999573, 0.011984205, 0.011722185, 0.012474771, 0.011827578, 0.010877636, 0.011608558, 0.012255367, 0.012698495, 0.013480875, 0.0107145, 0.0118111735, 0.011546975, 0.017554104, 0.01267275, 0.01379785, 0.013103223, 0.01421597, 0.009375029, 0.012925139, 0.01089588, 0.012791803, 0.012944662, 0.013195423, 0.014466718, 0.010212459, 0.011968725, 0.0110146245, 0.011494434, 0.011630439, 0.029001314, 0.01140197, 0.01201145, 0.010834444, 0.010723054, 0.013029603, 0.012451303, 0.013124794, 0.011210644, 0.01259507, 0.010907018, 0.012080781, 0.011114985, 0.011280052, 0.009678546, 0.011241144, 0.010193392, 0.012986495, 0.011059386, 0.011574932, 0.018363826, 0.011315469, 0.013626769, 0.008885609, 0.012747277, 0.015223263, 0.012180071, 0.013741419, 0.011268754, 0.010629182, 0.0101323, 0.0111374995, 0.012149687, 0.011672583, 0.012766962, 0.011621286, 0.011734561, 0.011801679, 0.012877245, 0.013604868, 0.014408451]\n",
      "2021-02-19 11:42:03,155 : INFO : merging changes from 2000 documents into a model of 3204 documents\n",
      "2021-02-19 11:42:03,171 : INFO : topic #82 (0.009): 0.658*\"pattern\" + 0.170*\"edit\" + 0.093*\"regress\" + 0.000*\"in\" + 0.000*\"and\" + 0.000*\"code\" + 0.000*\"data\" + 0.000*\"reduc\" + 0.000*\"repetit\" + 0.000*\"quit\"\n",
      "2021-02-19 11:42:03,172 : INFO : topic #47 (0.009): 0.079*\"one\" + 0.056*\"model\" + 0.051*\"variabl\" + 0.045*\"sever\" + 0.042*\"in\" + 0.042*\"factor\" + 0.035*\"be\" + 0.033*\"techniqu\" + 0.028*\"low\" + 0.027*\"comput\"\n",
      "2021-02-19 11:42:03,173 : INFO : topic #42 (0.018): 0.334*\"s\" + 0.313*\"'\" + 0.218*\"\"\" + 0.021*\"on\" + 0.019*\"two\" + 0.019*\"comput\" + 0.016*\"complement\" + 0.015*\"correct\" + 0.015*\"with\" + 0.014*\"to\"\n"
     ]
    },
    {
     "name": "stderr",
     "output_type": "stream",
     "text": [
      "2021-02-19 11:42:03,174 : INFO : topic #79 (0.018): 0.100*\"program\" + 0.066*\"and\" + 0.044*\",\" + 0.038*\"are\" + 0.036*\"in\" + 0.029*\"to\" + 0.021*\"for\" + 0.020*\"is\" + 0.017*\"discuss\" + 0.015*\"that\"\n",
      "2021-02-19 11:42:03,176 : INFO : topic #59 (0.029): 0.335*\"(\" + 0.325*\")\" + 0.262*\"algorithm\" + 0.018*\"complex\" + 0.014*\"-\" + 0.011*\"polynomi\" + 0.008*\"integ\" + 0.004*\"coeffici\" + 0.004*\"number\" + 0.004*\"x\"\n",
      "2021-02-19 11:42:03,177 : INFO : topic diff=0.265431, rho=0.261694\n",
      "2021-02-19 11:42:05,033 : INFO : -6.337 per-word bound, 80.8 perplexity estimate based on a held-out corpus of 1204 documents with 79462 words\n",
      "2021-02-19 11:42:05,034 : INFO : PROGRESS: pass 12, at document #3204/3204\n",
      "2021-02-19 11:42:06,679 : INFO : optimized alpha [0.011008068, 0.010506363, 0.011066607, 0.013226672, 0.012491091, 0.010291482, 0.011267417, 0.010225787, 0.010263048, 0.009856084, 0.011183424, 0.010842897, 0.011601383, 0.0112693785, 0.014912494, 0.012092316, 0.012210107, 0.010292973, 0.01232069, 0.010097363, 0.010673749, 0.011340557, 0.01617027, 0.011848642, 0.0112010995, 0.011794252, 0.012780938, 0.010628737, 0.010124019, 0.012097088, 0.012140796, 0.011828797, 0.012579631, 0.012050357, 0.011009508, 0.011726669, 0.012185459, 0.012880365, 0.013732458, 0.010759596, 0.011952818, 0.01167624, 0.018030323, 0.012796425, 0.014076294, 0.013320697, 0.014371138, 0.009436113, 0.013072098, 0.011038216, 0.012899928, 0.013135662, 0.013384732, 0.0147627825, 0.0102330325, 0.012093603, 0.011117308, 0.01162144, 0.01171809, 0.030365145, 0.011512595, 0.012140675, 0.0109465, 0.010781179, 0.013276896, 0.012661034, 0.01333637, 0.011290989, 0.012790633, 0.011030091, 0.012175125, 0.011214179, 0.01136394, 0.009721861, 0.011347072, 0.010276148, 0.013143228, 0.011161982, 0.011708184, 0.018905127, 0.011474586, 0.01385501, 0.008892338, 0.012941497, 0.015519648, 0.012351029, 0.013997855, 0.011363592, 0.010639143, 0.010193832, 0.011251592, 0.01231835, 0.011702737, 0.012975638, 0.011679636, 0.0118203815, 0.011962062, 0.012988661, 0.013711453, 0.014587756]\n",
      "2021-02-19 11:42:06,688 : INFO : merging changes from 1204 documents into a model of 3204 documents\n",
      "2021-02-19 11:42:06,706 : INFO : topic #82 (0.009): 0.696*\"pattern\" + 0.148*\"edit\" + 0.087*\"regress\" + 0.000*\"in\" + 0.000*\"and\" + 0.000*\"code\" + 0.000*\"data\" + 0.000*\"reduc\" + 0.000*\"repetit\" + 0.000*\"quit\"\n",
      "2021-02-19 11:42:06,708 : INFO : topic #47 (0.009): 0.076*\"one\" + 0.068*\"model\" + 0.049*\"variabl\" + 0.044*\"sever\" + 0.042*\"in\" + 0.038*\"factor\" + 0.034*\"be\" + 0.033*\"cost\" + 0.031*\"techniqu\" + 0.031*\"low\"\n",
      "2021-02-19 11:42:06,709 : INFO : topic #42 (0.018): 0.336*\"s\" + 0.315*\"'\" + 0.217*\"\"\" + 0.020*\"on\" + 0.020*\"two\" + 0.018*\"comput\" + 0.017*\"complement\" + 0.015*\"with\" + 0.014*\"to\" + 0.014*\"correct\"\n",
      "2021-02-19 11:42:06,710 : INFO : topic #79 (0.019): 0.101*\"program\" + 0.068*\"and\" + 0.045*\",\" + 0.038*\"are\" + 0.035*\"in\" + 0.029*\"to\" + 0.020*\"for\" + 0.020*\"is\" + 0.017*\"discuss\" + 0.015*\"that\"\n",
      "2021-02-19 11:42:06,711 : INFO : topic #59 (0.030): 0.340*\"(\" + 0.326*\")\" + 0.260*\"algorithm\" + 0.019*\"complex\" + 0.014*\"-\" + 0.009*\"polynomi\" + 0.008*\"integ\" + 0.003*\"number\" + 0.003*\"coeffici\" + 0.003*\"x\"\n",
      "2021-02-19 11:42:06,713 : INFO : topic diff=0.270962, rho=0.261694\n",
      "2021-02-19 11:42:06,722 : INFO : PROGRESS: pass 13, at document #2000/3204\n",
      "2021-02-19 11:42:08,297 : INFO : optimized alpha [0.01102484, 0.010515097, 0.01110171, 0.013351671, 0.0126308445, 0.0103345215, 0.011228432, 0.010210097, 0.010374429, 0.00985345, 0.011289386, 0.010838924, 0.011585161, 0.011329014, 0.014922354, 0.012093709, 0.012245634, 0.010264188, 0.012285736, 0.010117951, 0.010720849, 0.011426616, 0.016265607, 0.011911082, 0.011202726, 0.011884537, 0.012788615, 0.010663427, 0.010126759, 0.012212775, 0.012192324, 0.011914433, 0.012686465, 0.01205566, 0.0110218115, 0.01171521, 0.012501134, 0.012972025, 0.013752901, 0.0107887965, 0.011983721, 0.011692908, 0.018193344, 0.012900947, 0.014044158, 0.0133310435, 0.014560575, 0.009463524, 0.013256109, 0.011052947, 0.013030754, 0.013228042, 0.013654402, 0.01496033, 0.010256792, 0.012120618, 0.011165458, 0.011638997, 0.01178855, 0.031797513, 0.011556593, 0.012174484, 0.010942492, 0.010808475, 0.013278523, 0.012668084, 0.013358471, 0.011327007, 0.012836373, 0.011107196, 0.012309911, 0.011253221, 0.011442669, 0.009729316, 0.011464108, 0.010305795, 0.013298227, 0.01118254, 0.011704695, 0.019076183, 0.011528519, 0.0140292, 0.008872216, 0.013011713, 0.015596287, 0.012363735, 0.013992718, 0.011432298, 0.010705116, 0.010195875, 0.011288578, 0.01234988, 0.011895781, 0.013025366, 0.011764958, 0.0118272435, 0.011970079, 0.013144043, 0.013950166, 0.014635636]\n",
      "2021-02-19 11:42:08,306 : INFO : merging changes from 2000 documents into a model of 3204 documents\n",
      "2021-02-19 11:42:08,321 : INFO : topic #82 (0.009): 0.657*\"pattern\" + 0.172*\"edit\" + 0.092*\"regress\" + 0.000*\"in\" + 0.000*\"and\" + 0.000*\"code\" + 0.000*\"data\" + 0.000*\"reduc\" + 0.000*\"repetit\" + 0.000*\"quit\"\n",
      "2021-02-19 11:42:08,322 : INFO : topic #47 (0.009): 0.078*\"one\" + 0.058*\"model\" + 0.051*\"variabl\" + 0.047*\"sever\" + 0.046*\"factor\" + 0.042*\"in\" + 0.036*\"be\" + 0.034*\"techniqu\" + 0.028*\"cost\" + 0.028*\"low\"\n",
      "2021-02-19 11:42:08,322 : INFO : topic #42 (0.018): 0.335*\"s\" + 0.314*\"'\" + 0.219*\"\"\" + 0.020*\"on\" + 0.020*\"two\" + 0.019*\"comput\" + 0.016*\"complement\" + 0.014*\"with\" + 0.014*\"to\" + 0.013*\"correct\"\n",
      "2021-02-19 11:42:08,323 : INFO : topic #79 (0.019): 0.102*\"program\" + 0.067*\"and\" + 0.045*\",\" + 0.039*\"are\" + 0.035*\"in\" + 0.029*\"to\" + 0.021*\"for\" + 0.020*\"is\" + 0.017*\"discuss\" + 0.015*\"that\"\n",
      "2021-02-19 11:42:08,324 : INFO : topic #59 (0.032): 0.340*\"(\" + 0.330*\")\" + 0.259*\"algorithm\" + 0.018*\"complex\" + 0.013*\"-\" + 0.009*\"polynomi\" + 0.007*\"integ\" + 0.003*\"coeffici\" + 0.003*\"jacobi\" + 0.003*\"number\"\n",
      "2021-02-19 11:42:08,325 : INFO : topic diff=0.239095, rho=0.253169\n",
      "2021-02-19 11:42:10,117 : INFO : -6.330 per-word bound, 80.4 perplexity estimate based on a held-out corpus of 1204 documents with 79462 words\n",
      "2021-02-19 11:42:10,119 : INFO : PROGRESS: pass 13, at document #3204/3204\n",
      "2021-02-19 11:42:11,736 : INFO : optimized alpha [0.011138748, 0.010595629, 0.011187624, 0.01352459, 0.012766384, 0.010401819, 0.01135907, 0.010300446, 0.010393598, 0.0098902555, 0.011366414, 0.010948007, 0.011774075, 0.011417907, 0.015296562, 0.012235513, 0.012393703, 0.010344078, 0.012479144, 0.010173774, 0.010771361, 0.011523815, 0.016760979, 0.012053875, 0.011335595, 0.011948951, 0.013002486, 0.010732178, 0.010168457, 0.012304667, 0.012347688, 0.012007856, 0.012785345, 0.012273792, 0.011155006, 0.011832715, 0.012424865, 0.013149489, 0.014005041, 0.010832659, 0.012124239, 0.011811348, 0.018662088, 0.013009904, 0.014313368, 0.013551738, 0.0147140995, 0.009529027, 0.013398871, 0.011191788, 0.013143384, 0.013414519, 0.013853304, 0.015280448, 0.010277017, 0.012239651, 0.011277258, 0.011765155, 0.011881081, 0.033240348, 0.0116691785, 0.012297793, 0.011056324, 0.010867323, 0.013520538, 0.012881262, 0.01357381, 0.011409793, 0.01302731, 0.011236613, 0.012401162, 0.011342559, 0.011526491, 0.009773683, 0.011571866, 0.0103841, 0.013459028, 0.011279999, 0.011831995, 0.019610822, 0.011678988, 0.01425836, 0.008879345, 0.013206963, 0.01587287, 0.0125304805, 0.014225332, 0.011526876, 0.010712524, 0.010260082, 0.011399662, 0.0125222355, 0.0119289, 0.013234937, 0.011821461, 0.011913332, 0.012126438, 0.013254593, 0.014052439, 0.014810177]\n",
      "2021-02-19 11:42:11,745 : INFO : merging changes from 1204 documents into a model of 3204 documents\n",
      "2021-02-19 11:42:11,760 : INFO : topic #82 (0.009): 0.694*\"pattern\" + 0.150*\"edit\" + 0.087*\"regress\" + 0.000*\"in\" + 0.000*\"and\" + 0.000*\"code\" + 0.000*\"data\" + 0.000*\"reduc\" + 0.000*\"repetit\" + 0.000*\"quit\"\n",
      "2021-02-19 11:42:11,761 : INFO : topic #47 (0.010): 0.074*\"one\" + 0.071*\"model\" + 0.048*\"variabl\" + 0.045*\"sever\" + 0.043*\"in\" + 0.042*\"factor\" + 0.036*\"be\" + 0.035*\"cost\" + 0.031*\"techniqu\" + 0.031*\"low\"\n",
      "2021-02-19 11:42:11,762 : INFO : topic #42 (0.019): 0.337*\"s\" + 0.315*\"'\" + 0.219*\"\"\" + 0.020*\"two\" + 0.019*\"on\" + 0.018*\"comput\" + 0.017*\"complement\" + 0.014*\"with\" + 0.014*\"to\" + 0.012*\"correct\"\n",
      "2021-02-19 11:42:11,762 : INFO : topic #79 (0.020): 0.103*\"program\" + 0.069*\"and\" + 0.045*\",\" + 0.039*\"are\" + 0.035*\"in\" + 0.029*\"to\" + 0.020*\"for\" + 0.020*\"is\" + 0.018*\"discuss\" + 0.015*\"that\"\n"
     ]
    },
    {
     "name": "stderr",
     "output_type": "stream",
     "text": [
      "2021-02-19 11:42:11,763 : INFO : topic #59 (0.033): 0.345*\"(\" + 0.332*\")\" + 0.257*\"algorithm\" + 0.018*\"complex\" + 0.013*\"-\" + 0.008*\"polynomi\" + 0.007*\"integ\" + 0.003*\"jacobi\" + 0.003*\"coeffici\" + 0.002*\"number\"\n",
      "2021-02-19 11:42:11,764 : INFO : topic diff=0.244355, rho=0.253169\n",
      "2021-02-19 11:42:11,774 : INFO : PROGRESS: pass 14, at document #2000/3204\n",
      "2021-02-19 11:42:13,259 : INFO : optimized alpha [0.011154936, 0.010604165, 0.011227397, 0.013643414, 0.012906541, 0.010445118, 0.011320976, 0.0102852015, 0.010511687, 0.009886806, 0.011467316, 0.010944036, 0.01176047, 0.011477486, 0.015303586, 0.012238062, 0.012429527, 0.01031375, 0.012442855, 0.010195227, 0.01081739, 0.011612189, 0.016860357, 0.012117544, 0.011339666, 0.012040169, 0.013013946, 0.010767395, 0.010171427, 0.012420816, 0.012405325, 0.012091531, 0.012889696, 0.012273391, 0.011169456, 0.011820005, 0.012734291, 0.013243512, 0.014025491, 0.010862633, 0.012158595, 0.011825854, 0.018817132, 0.013117016, 0.014278703, 0.013562555, 0.014897923, 0.009560488, 0.013582977, 0.01121133, 0.0132825095, 0.013502747, 0.014125413, 0.015497633, 0.010300482, 0.012268863, 0.011326892, 0.011776179, 0.011949845, 0.03474207, 0.011717722, 0.012333692, 0.0110563515, 0.010895411, 0.013520846, 0.0128904255, 0.013597818, 0.011446327, 0.013072974, 0.011318854, 0.012534671, 0.011382026, 0.011606173, 0.009786041, 0.011689464, 0.010413051, 0.013610907, 0.011302755, 0.011828349, 0.019778388, 0.011729856, 0.014434668, 0.008860439, 0.013276613, 0.015948676, 0.012548556, 0.014213864, 0.011601036, 0.010775739, 0.0102622155, 0.011434135, 0.012558564, 0.012121529, 0.013296033, 0.0119078, 0.0119290445, 0.012138349, 0.013403549, 0.014287269, 0.014860151]\n",
      "2021-02-19 11:42:13,268 : INFO : merging changes from 2000 documents into a model of 3204 documents\n",
      "2021-02-19 11:42:13,282 : INFO : topic #82 (0.009): 0.657*\"pattern\" + 0.173*\"edit\" + 0.092*\"regress\" + 0.000*\"in\" + 0.000*\"and\" + 0.000*\"code\" + 0.000*\"data\" + 0.000*\"reduc\" + 0.000*\"repetit\" + 0.000*\"quit\"\n",
      "2021-02-19 11:42:13,283 : INFO : topic #47 (0.010): 0.077*\"one\" + 0.061*\"model\" + 0.051*\"variabl\" + 0.049*\"factor\" + 0.048*\"sever\" + 0.043*\"in\" + 0.037*\"be\" + 0.035*\"techniqu\" + 0.029*\"cost\" + 0.029*\"low\"\n",
      "2021-02-19 11:42:13,283 : INFO : topic #42 (0.019): 0.336*\"s\" + 0.315*\"'\" + 0.221*\"\"\" + 0.020*\"two\" + 0.019*\"on\" + 0.019*\"comput\" + 0.016*\"complement\" + 0.014*\"with\" + 0.013*\"to\" + 0.011*\"correct\"\n",
      "2021-02-19 11:42:13,284 : INFO : topic #79 (0.020): 0.103*\"program\" + 0.068*\"and\" + 0.045*\",\" + 0.039*\"are\" + 0.035*\"in\" + 0.029*\"to\" + 0.021*\"for\" + 0.020*\"is\" + 0.018*\"discuss\" + 0.015*\"that\"\n",
      "2021-02-19 11:42:13,285 : INFO : topic #59 (0.035): 0.345*\"(\" + 0.336*\")\" + 0.256*\"algorithm\" + 0.017*\"complex\" + 0.012*\"-\" + 0.007*\"polynomi\" + 0.006*\"integ\" + 0.003*\"jacobi\" + 0.003*\"coeffici\" + 0.002*\"number\"\n",
      "2021-02-19 11:42:13,286 : INFO : topic diff=0.216859, rho=0.245426\n",
      "2021-02-19 11:42:15,075 : INFO : -6.324 per-word bound, 80.1 perplexity estimate based on a held-out corpus of 1204 documents with 79462 words\n",
      "2021-02-19 11:42:15,075 : INFO : PROGRESS: pass 14, at document #3204/3204\n",
      "2021-02-19 11:42:16,600 : INFO : optimized alpha [0.011268466, 0.010684889, 0.011308808, 0.013809324, 0.013038632, 0.0105171995, 0.01144618, 0.010373313, 0.010534186, 0.009922925, 0.01155627, 0.011052793, 0.0119454665, 0.01156639, 0.015675249, 0.012381633, 0.012576697, 0.010391789, 0.012634579, 0.010251753, 0.01086434, 0.011709155, 0.017373255, 0.012252037, 0.011471745, 0.012107532, 0.013234242, 0.010838924, 0.010212278, 0.012507491, 0.012567494, 0.012189827, 0.012988391, 0.012494828, 0.0112973275, 0.01193472, 0.0126571795, 0.013422376, 0.014275828, 0.010905393, 0.012303382, 0.01195371, 0.019282721, 0.013228486, 0.014545346, 0.013775679, 0.0150501365, 0.009628335, 0.01373006, 0.011346994, 0.013394301, 0.01368783, 0.014331436, 0.015852125, 0.010320428, 0.012390081, 0.011435912, 0.011904115, 0.012039829, 0.036214255, 0.011834756, 0.01245409, 0.011160616, 0.010952793, 0.013763632, 0.013096512, 0.013814223, 0.011527063, 0.013262366, 0.011457088, 0.012625661, 0.011469138, 0.011685255, 0.009837494, 0.011801538, 0.010493718, 0.013773288, 0.011407094, 0.011947763, 0.020315118, 0.011876927, 0.014644343, 0.008867954, 0.01346771, 0.016223129, 0.012714102, 0.014447011, 0.011690819, 0.0107851885, 0.010322804, 0.011544858, 0.012732343, 0.012152689, 0.013506906, 0.011967522, 0.012000593, 0.012296271, 0.013507953, 0.014400193, 0.015014728]\n",
      "2021-02-19 11:42:16,610 : INFO : merging changes from 1204 documents into a model of 3204 documents\n",
      "2021-02-19 11:42:16,627 : INFO : topic #82 (0.009): 0.693*\"pattern\" + 0.152*\"edit\" + 0.087*\"regress\" + 0.000*\"in\" + 0.000*\"and\" + 0.000*\"code\" + 0.000*\"data\" + 0.000*\"reduc\" + 0.000*\"repetit\" + 0.000*\"quit\"\n",
      "2021-02-19 11:42:16,627 : INFO : topic #47 (0.010): 0.075*\"model\" + 0.073*\"one\" + 0.048*\"variabl\" + 0.046*\"sever\" + 0.045*\"factor\" + 0.043*\"in\" + 0.037*\"be\" + 0.036*\"cost\" + 0.032*\"techniqu\" + 0.031*\"low\"\n",
      "2021-02-19 11:42:16,628 : INFO : topic #42 (0.019): 0.337*\"s\" + 0.315*\"'\" + 0.222*\"\"\" + 0.020*\"two\" + 0.019*\"on\" + 0.018*\"comput\" + 0.017*\"complement\" + 0.014*\"with\" + 0.013*\"to\" + 0.010*\"correct\"\n",
      "2021-02-19 11:42:16,628 : INFO : topic #79 (0.020): 0.104*\"program\" + 0.069*\"and\" + 0.046*\",\" + 0.039*\"are\" + 0.035*\"in\" + 0.029*\"to\" + 0.020*\"for\" + 0.020*\"is\" + 0.018*\"discuss\" + 0.015*\"that\"\n",
      "2021-02-19 11:42:16,629 : INFO : topic #59 (0.036): 0.349*\"(\" + 0.337*\")\" + 0.254*\"algorithm\" + 0.018*\"complex\" + 0.012*\"-\" + 0.006*\"integ\" + 0.006*\"polynomi\" + 0.003*\"jacobi\" + 0.002*\"coeffici\" + 0.002*\"number\"\n",
      "2021-02-19 11:42:16,630 : INFO : topic diff=0.222208, rho=0.245426\n",
      "2021-02-19 11:42:16,641 : INFO : PROGRESS: pass 15, at document #2000/3204\n",
      "2021-02-19 11:42:18,076 : INFO : optimized alpha [0.011288222, 0.010691975, 0.011346248, 0.013925493, 0.0131762335, 0.010563331, 0.011408979, 0.010361002, 0.0106613515, 0.009922298, 0.011659266, 0.011051481, 0.011928536, 0.011623198, 0.01568151, 0.012386762, 0.0126097845, 0.010363726, 0.01259688, 0.010275216, 0.01091067, 0.011794221, 0.017481044, 0.012312603, 0.011476814, 0.0121952975, 0.01324617, 0.010874705, 0.010215483, 0.012624262, 0.012622029, 0.012273097, 0.013088871, 0.012504047, 0.011312521, 0.011925117, 0.012960793, 0.013514103, 0.014289412, 0.010934832, 0.012333655, 0.011967666, 0.019429944, 0.01334148, 0.014515273, 0.013783639, 0.015234313, 0.009663743, 0.013917715, 0.011365751, 0.013532242, 0.013777076, 0.014601195, 0.016077707, 0.010343605, 0.012415421, 0.011492593, 0.011918914, 0.012108445, 0.037779097, 0.011880593, 0.012495098, 0.011163278, 0.01097901, 0.0137627795, 0.013098236, 0.013835249, 0.011566864, 0.013306328, 0.011545884, 0.012758124, 0.011507683, 0.01176456, 0.009856818, 0.011926796, 0.010524492, 0.013922266, 0.011433378, 0.011945506, 0.020474104, 0.011927722, 0.014826512, 0.008850167, 0.013538549, 0.016294153, 0.012731258, 0.014434579, 0.0117646735, 0.010849716, 0.010326268, 0.011579787, 0.0127672665, 0.012343782, 0.01357251, 0.012052086, 0.01201614, 0.012305942, 0.013655709, 0.0146383485, 0.015063177]\n",
      "2021-02-19 11:42:18,090 : INFO : merging changes from 2000 documents into a model of 3204 documents\n",
      "2021-02-19 11:42:18,114 : INFO : topic #82 (0.009): 0.657*\"pattern\" + 0.173*\"edit\" + 0.092*\"regress\" + 0.000*\"in\" + 0.000*\"and\" + 0.000*\"code\" + 0.000*\"data\" + 0.000*\"reduc\" + 0.000*\"repetit\" + 0.000*\"quit\"\n",
      "2021-02-19 11:42:18,115 : INFO : topic #47 (0.010): 0.077*\"one\" + 0.065*\"model\" + 0.052*\"factor\" + 0.050*\"variabl\" + 0.048*\"sever\" + 0.044*\"in\" + 0.038*\"be\" + 0.035*\"techniqu\" + 0.030*\"cost\" + 0.029*\"low\"\n",
      "2021-02-19 11:42:18,116 : INFO : topic #42 (0.019): 0.336*\"s\" + 0.314*\"'\" + 0.224*\"\"\" + 0.020*\"two\" + 0.019*\"comput\" + 0.019*\"on\" + 0.016*\"complement\" + 0.014*\"with\" + 0.013*\"to\" + 0.010*\"correct\"\n",
      "2021-02-19 11:42:18,117 : INFO : topic #79 (0.020): 0.105*\"program\" + 0.069*\"and\" + 0.045*\",\" + 0.040*\"are\" + 0.035*\"in\" + 0.029*\"to\" + 0.021*\"for\" + 0.020*\"is\" + 0.018*\"discuss\" + 0.016*\"that\"\n",
      "2021-02-19 11:42:18,117 : INFO : topic #59 (0.038): 0.349*\"(\" + 0.340*\")\" + 0.254*\"algorithm\" + 0.017*\"complex\" + 0.011*\"-\" + 0.005*\"integ\" + 0.005*\"polynomi\" + 0.003*\"jacobi\" + 0.002*\"coeffici\" + 0.002*\"or\"\n",
      "2021-02-19 11:42:18,119 : INFO : topic diff=0.198601, rho=0.238352\n"
     ]
    },
    {
     "name": "stderr",
     "output_type": "stream",
     "text": [
      "2021-02-19 11:42:19,848 : INFO : -6.318 per-word bound, 79.8 perplexity estimate based on a held-out corpus of 1204 documents with 79462 words\n",
      "2021-02-19 11:42:19,848 : INFO : PROGRESS: pass 15, at document #3204/3204\n",
      "2021-02-19 11:42:21,335 : INFO : optimized alpha [0.011410644, 0.010770865, 0.011427997, 0.014084942, 0.013320812, 0.010633719, 0.011522148, 0.010445124, 0.010689124, 0.0099597685, 0.011741368, 0.011164465, 0.012107549, 0.0117145935, 0.01605101, 0.01252723, 0.012751206, 0.010440077, 0.0127795795, 0.010334529, 0.0109586, 0.0118911015, 0.017987574, 0.012441559, 0.011606059, 0.012260729, 0.013465031, 0.010959885, 0.01025557, 0.01270845, 0.012778264, 0.0123664765, 0.013184847, 0.0127291195, 0.011442082, 0.012053949, 0.012880325, 0.013689193, 0.014555625, 0.010974432, 0.012475352, 0.012085479, 0.019892542, 0.013458184, 0.014765153, 0.013997918, 0.0153823625, 0.009737735, 0.014061101, 0.011503112, 0.013638061, 0.01395559, 0.014805864, 0.016431982, 0.010363304, 0.012526524, 0.011612875, 0.012048771, 0.012198628, 0.03932467, 0.011997401, 0.012612717, 0.011278721, 0.011037236, 0.014003963, 0.013300328, 0.014058441, 0.011636415, 0.013489213, 0.011702264, 0.012846452, 0.011592754, 0.011841573, 0.0099189365, 0.01203623, 0.010605425, 0.014078044, 0.01153767, 0.012074154, 0.021004828, 0.012073989, 0.015043852, 0.008858018, 0.013728549, 0.016560044, 0.012893324, 0.01465141, 0.011849972, 0.0108632315, 0.010389599, 0.011687985, 0.012934935, 0.012372975, 0.013771388, 0.012112638, 0.012090905, 0.012458107, 0.013757129, 0.01474438, 0.015217215]\n",
      "2021-02-19 11:42:21,344 : INFO : merging changes from 1204 documents into a model of 3204 documents\n",
      "2021-02-19 11:42:21,359 : INFO : topic #82 (0.009): 0.692*\"pattern\" + 0.153*\"edit\" + 0.087*\"regress\" + 0.000*\"in\" + 0.000*\"and\" + 0.000*\"code\" + 0.000*\"data\" + 0.000*\"reduc\" + 0.000*\"repetit\" + 0.000*\"quit\"\n",
      "2021-02-19 11:42:21,360 : INFO : topic #47 (0.010): 0.076*\"model\" + 0.072*\"one\" + 0.049*\"factor\" + 0.049*\"variabl\" + 0.047*\"sever\" + 0.044*\"in\" + 0.037*\"be\" + 0.036*\"cost\" + 0.033*\"techniqu\" + 0.031*\"low\"\n",
      "2021-02-19 11:42:21,360 : INFO : topic #42 (0.020): 0.337*\"s\" + 0.315*\"'\" + 0.224*\"\"\" + 0.021*\"two\" + 0.018*\"comput\" + 0.018*\"on\" + 0.017*\"complement\" + 0.013*\"with\" + 0.013*\"to\" + 0.009*\"correct\"\n",
      "2021-02-19 11:42:21,361 : INFO : topic #79 (0.021): 0.106*\"program\" + 0.070*\"and\" + 0.046*\",\" + 0.040*\"are\" + 0.035*\"in\" + 0.029*\"to\" + 0.020*\"for\" + 0.020*\"is\" + 0.019*\"discuss\" + 0.016*\"that\"\n",
      "2021-02-19 11:42:21,362 : INFO : topic #59 (0.039): 0.353*\"(\" + 0.341*\")\" + 0.251*\"algorithm\" + 0.018*\"complex\" + 0.011*\"-\" + 0.005*\"integ\" + 0.004*\"polynomi\" + 0.003*\"jacobi\" + 0.001*\"coeffici\" + 0.001*\"or\"\n",
      "2021-02-19 11:42:21,363 : INFO : topic diff=0.203703, rho=0.238352\n",
      "2021-02-19 11:42:21,373 : INFO : PROGRESS: pass 16, at document #2000/3204\n",
      "2021-02-19 11:42:22,869 : INFO : optimized alpha [0.011431114, 0.010779072, 0.011461894, 0.014197008, 0.013459154, 0.010683777, 0.011485852, 0.010434392, 0.010813016, 0.009959479, 0.011841091, 0.01116434, 0.012096017, 0.01177289, 0.016064066, 0.012533409, 0.012787744, 0.010412923, 0.012740603, 0.010357573, 0.011002739, 0.011975829, 0.018095165, 0.012497704, 0.011610763, 0.012349665, 0.013482148, 0.010997431, 0.010258976, 0.012823023, 0.012837281, 0.012448022, 0.013283264, 0.0127416635, 0.011455319, 0.012045737, 0.013179948, 0.013778776, 0.014574444, 0.011004651, 0.012509033, 0.012100437, 0.020036628, 0.01357704, 0.014734492, 0.0140063455, 0.01555798, 0.009775787, 0.014245962, 0.011521154, 0.013776534, 0.01404272, 0.0150750885, 0.016674178, 0.010386225, 0.012554149, 0.0116723655, 0.01206152, 0.012258661, 0.04095487, 0.012044966, 0.012651204, 0.011281132, 0.011064282, 0.014003654, 0.013305898, 0.014076399, 0.011671304, 0.013530044, 0.011788015, 0.012978022, 0.011626317, 0.011917913, 0.009940265, 0.0121580735, 0.010635495, 0.014227708, 0.011564601, 0.012067481, 0.02115801, 0.0121233985, 0.015221382, 0.0088412305, 0.0138006555, 0.016630517, 0.012911104, 0.014638273, 0.011920978, 0.010925283, 0.010391894, 0.011723347, 0.012968664, 0.012564107, 0.013835194, 0.012201229, 0.01210617, 0.012471557, 0.013900622, 0.014984453, 0.015264293]\n",
      "2021-02-19 11:42:22,878 : INFO : merging changes from 2000 documents into a model of 3204 documents\n",
      "2021-02-19 11:42:22,894 : INFO : topic #82 (0.009): 0.657*\"pattern\" + 0.174*\"edit\" + 0.092*\"regress\" + 0.000*\"in\" + 0.000*\"and\" + 0.000*\"code\" + 0.000*\"data\" + 0.000*\"reduc\" + 0.000*\"repetit\" + 0.000*\"quit\"\n",
      "2021-02-19 11:42:22,895 : INFO : topic #47 (0.010): 0.076*\"one\" + 0.067*\"model\" + 0.056*\"factor\" + 0.051*\"variabl\" + 0.049*\"sever\" + 0.045*\"in\" + 0.039*\"be\" + 0.036*\"techniqu\" + 0.031*\"cost\" + 0.029*\"low\"\n",
      "2021-02-19 11:42:22,896 : INFO : topic #42 (0.020): 0.336*\"s\" + 0.315*\"'\" + 0.227*\"\"\" + 0.020*\"two\" + 0.019*\"comput\" + 0.018*\"on\" + 0.016*\"complement\" + 0.013*\"with\" + 0.013*\"to\" + 0.008*\"correct\"\n",
      "2021-02-19 11:42:22,896 : INFO : topic #79 (0.021): 0.106*\"program\" + 0.070*\"and\" + 0.045*\",\" + 0.040*\"are\" + 0.035*\"in\" + 0.029*\"to\" + 0.021*\"for\" + 0.020*\"is\" + 0.019*\"discuss\" + 0.016*\"that\"\n",
      "2021-02-19 11:42:22,897 : INFO : topic #59 (0.041): 0.353*\"(\" + 0.344*\")\" + 0.252*\"algorithm\" + 0.017*\"complex\" + 0.010*\"-\" + 0.005*\"integ\" + 0.003*\"polynomi\" + 0.003*\"jacobi\" + 0.002*\"or\" + 0.001*\"coeffici\"\n",
      "2021-02-19 11:42:22,899 : INFO : topic diff=0.183161, rho=0.231857\n",
      "2021-02-19 11:42:24,596 : INFO : -6.312 per-word bound, 79.4 perplexity estimate based on a held-out corpus of 1204 documents with 79462 words\n",
      "2021-02-19 11:42:24,596 : INFO : PROGRESS: pass 16, at document #3204/3204\n",
      "2021-02-19 11:42:26,014 : INFO : optimized alpha [0.011548907, 0.010860408, 0.011544032, 0.01435851, 0.013605889, 0.010752597, 0.011609997, 0.010520795, 0.010847979, 0.00999245, 0.011925737, 0.011270637, 0.012278882, 0.0118690105, 0.016431881, 0.0126709975, 0.012931235, 0.010489729, 0.012924789, 0.010415596, 0.0110495305, 0.012072717, 0.0186098, 0.012623798, 0.011741896, 0.012410969, 0.013705184, 0.011085162, 0.010298361, 0.012904918, 0.012988021, 0.012543914, 0.013376752, 0.012958276, 0.011586714, 0.012174244, 0.013098801, 0.013953059, 0.0148363765, 0.011043395, 0.012652714, 0.012222919, 0.020492762, 0.01368836, 0.014982607, 0.014219253, 0.015702168, 0.009853859, 0.014388503, 0.011658019, 0.013881999, 0.014220431, 0.015284397, 0.017028324, 0.010405692, 0.012667821, 0.011785744, 0.012186287, 0.012346727, 0.042500854, 0.01215698, 0.012766405, 0.011389797, 0.011119059, 0.014246341, 0.013501675, 0.014301323, 0.011746085, 0.0137119815, 0.011953334, 0.013063893, 0.01170727, 0.01199536, 0.0099992, 0.012269705, 0.010720852, 0.014382829, 0.01166445, 0.012188783, 0.021691438, 0.012264465, 0.015431771, 0.008849382, 0.013995112, 0.016898077, 0.0130724665, 0.014850742, 0.012011204, 0.010938495, 0.010455891, 0.011833766, 0.013140723, 0.012591504, 0.014038612, 0.01225779, 0.012181744, 0.012620728, 0.014001924, 0.015086782, 0.01541489]\n",
      "2021-02-19 11:42:26,023 : INFO : merging changes from 1204 documents into a model of 3204 documents\n",
      "2021-02-19 11:42:26,037 : INFO : topic #82 (0.009): 0.691*\"pattern\" + 0.153*\"edit\" + 0.087*\"regress\" + 0.000*\"in\" + 0.000*\"and\" + 0.000*\"code\" + 0.000*\"data\" + 0.000*\"reduc\" + 0.000*\"repetit\" + 0.000*\"quit\"\n",
      "2021-02-19 11:42:26,038 : INFO : topic #47 (0.010): 0.077*\"model\" + 0.071*\"one\" + 0.054*\"factor\" + 0.049*\"variabl\" + 0.047*\"sever\" + 0.045*\"in\" + 0.038*\"be\" + 0.038*\"cost\" + 0.033*\"techniqu\" + 0.031*\"low\"\n",
      "2021-02-19 11:42:26,039 : INFO : topic #42 (0.020): 0.337*\"s\" + 0.315*\"'\" + 0.226*\"\"\" + 0.021*\"two\" + 0.019*\"comput\" + 0.018*\"on\" + 0.017*\"complement\" + 0.013*\"with\" + 0.013*\"to\" + 0.007*\"correct\"\n",
      "2021-02-19 11:42:26,040 : INFO : topic #79 (0.022): 0.107*\"program\" + 0.071*\"and\" + 0.046*\",\" + 0.040*\"are\" + 0.034*\"in\" + 0.029*\"to\" + 0.020*\"for\" + 0.020*\"is\" + 0.019*\"discuss\" + 0.016*\"that\"\n",
      "2021-02-19 11:42:26,041 : INFO : topic #59 (0.043): 0.356*\"(\" + 0.344*\")\" + 0.250*\"algorithm\" + 0.018*\"complex\" + 0.011*\"-\" + 0.005*\"integ\" + 0.003*\"polynomi\" + 0.003*\"jacobi\" + 0.001*\"or\" + 0.001*\"number\"\n",
      "2021-02-19 11:42:26,042 : INFO : topic diff=0.187729, rho=0.231857\n",
      "2021-02-19 11:42:26,051 : INFO : PROGRESS: pass 17, at document #2000/3204\n",
      "2021-02-19 11:42:27,488 : INFO : optimized alpha [0.011570079, 0.010868466, 0.011578571, 0.014470033, 0.01374359, 0.010807868, 0.011574423, 0.01050914, 0.010972465, 0.009993616, 0.012023749, 0.011271689, 0.012268362, 0.011931486, 0.016444152, 0.01267679, 0.01296678, 0.01046817, 0.012889025, 0.010438246, 0.011092844, 0.012154457, 0.018721767, 0.012681487, 0.011748902, 0.012501076, 0.013724243, 0.011126971, 0.010301977, 0.013016036, 0.0130500505, 0.012629548, 0.01347476, 0.012971109, 0.011600696, 0.012168652, 0.0133977365, 0.014045351, 0.014844926, 0.011071884, 0.0126897525, 0.012241615, 0.020629361, 0.01381939, 0.014949574, 0.014228194, 0.015874907, 0.009894491, 0.014572462, 0.011676722, 0.014024323, 0.01430721, 0.015553298, 0.017274009, 0.010428401, 0.012699062, 0.011849398, 0.012197156, 0.012406914, 0.044166345, 0.012206229, 0.012808437, 0.011389455, 0.011148203, 0.014249852, 0.013507928, 0.014322896, 0.011777631, 0.01375605, 0.012038913, 0.013191787, 0.011737419, 0.012072956, 0.010022444, 0.012395196, 0.010752734, 0.014528351, 0.011696041, 0.012180664, 0.021856746, 0.0123153515, 0.015617149, 0.008833515, 0.014065392, 0.016964072, 0.013086427, 0.014841948, 0.01207947, 0.010999455, 0.0104582645, 0.011872343, 0.013174724, 0.012778641, 0.014102354, 0.01234756, 0.012196832, 0.012634985, 0.01413997, 0.015327268, 0.015460661]\n"
     ]
    },
    {
     "name": "stderr",
     "output_type": "stream",
     "text": [
      "2021-02-19 11:42:27,498 : INFO : merging changes from 2000 documents into a model of 3204 documents\n",
      "2021-02-19 11:42:27,513 : INFO : topic #82 (0.009): 0.657*\"pattern\" + 0.174*\"edit\" + 0.092*\"regress\" + 0.000*\"in\" + 0.000*\"and\" + 0.000*\"code\" + 0.000*\"data\" + 0.000*\"reduc\" + 0.000*\"repetit\" + 0.000*\"quit\"\n",
      "2021-02-19 11:42:27,514 : INFO : topic #47 (0.010): 0.075*\"one\" + 0.068*\"model\" + 0.061*\"factor\" + 0.051*\"variabl\" + 0.049*\"sever\" + 0.045*\"in\" + 0.039*\"be\" + 0.036*\"techniqu\" + 0.032*\"cost\" + 0.029*\"low\"\n",
      "2021-02-19 11:42:27,514 : INFO : topic #42 (0.021): 0.336*\"s\" + 0.315*\"'\" + 0.228*\"\"\" + 0.020*\"two\" + 0.019*\"comput\" + 0.017*\"on\" + 0.016*\"complement\" + 0.013*\"with\" + 0.013*\"to\" + 0.006*\"correct\"\n",
      "2021-02-19 11:42:27,515 : INFO : topic #79 (0.022): 0.108*\"program\" + 0.070*\"and\" + 0.046*\",\" + 0.041*\"are\" + 0.035*\"in\" + 0.029*\"to\" + 0.021*\"for\" + 0.020*\"is\" + 0.019*\"discuss\" + 0.016*\"that\"\n",
      "2021-02-19 11:42:27,515 : INFO : topic #59 (0.044): 0.355*\"(\" + 0.347*\")\" + 0.250*\"algorithm\" + 0.017*\"complex\" + 0.010*\"-\" + 0.004*\"integ\" + 0.003*\"jacobi\" + 0.002*\"polynomi\" + 0.002*\"or\" + 0.001*\"date\"\n",
      "2021-02-19 11:42:27,517 : INFO : topic diff=0.169696, rho=0.225865\n",
      "2021-02-19 11:42:29,168 : INFO : -6.307 per-word bound, 79.2 perplexity estimate based on a held-out corpus of 1204 documents with 79462 words\n",
      "2021-02-19 11:42:29,169 : INFO : PROGRESS: pass 17, at document #3204/3204\n",
      "2021-02-19 11:42:30,543 : INFO : optimized alpha [0.011692267, 0.010948208, 0.011659036, 0.014620053, 0.013889987, 0.010881366, 0.011689593, 0.010597893, 0.011012459, 0.010026111, 0.012113218, 0.011378052, 0.012452893, 0.012021132, 0.016807562, 0.012814124, 0.013112494, 0.010545481, 0.013069993, 0.010495096, 0.011136544, 0.012251472, 0.019248506, 0.01280026, 0.011875358, 0.012565501, 0.0139413355, 0.011217217, 0.010340733, 0.013098259, 0.013202998, 0.012725679, 0.013563374, 0.013191844, 0.011729649, 0.0122853555, 0.013318419, 0.014208412, 0.015114605, 0.0111119645, 0.012833227, 0.012361804, 0.021075282, 0.013936172, 0.015193457, 0.0144373765, 0.016012492, 0.009972996, 0.014706371, 0.011804473, 0.0141269555, 0.0144816125, 0.015764577, 0.017638072, 0.01044767, 0.012822523, 0.011965099, 0.012319504, 0.012493001, 0.045694012, 0.012320687, 0.012923845, 0.011502585, 0.011206144, 0.014491546, 0.01371339, 0.014544135, 0.011848686, 0.013932121, 0.012206342, 0.013277855, 0.011812263, 0.01214858, 0.010082079, 0.01250676, 0.010840452, 0.014680123, 0.011798294, 0.01229964, 0.022397686, 0.012453787, 0.015823754, 0.008841943, 0.014253863, 0.017220687, 0.013242287, 0.0150476685, 0.012174673, 0.011012377, 0.010522994, 0.01197835, 0.01333879, 0.012809229, 0.014299727, 0.012407391, 0.012268577, 0.012788535, 0.014236012, 0.015428954, 0.015605177]\n",
      "2021-02-19 11:42:30,553 : INFO : merging changes from 1204 documents into a model of 3204 documents\n",
      "2021-02-19 11:42:30,568 : INFO : topic #82 (0.009): 0.690*\"pattern\" + 0.154*\"edit\" + 0.087*\"regress\" + 0.000*\"in\" + 0.000*\"and\" + 0.000*\"code\" + 0.000*\"data\" + 0.000*\"reduc\" + 0.000*\"repetit\" + 0.000*\"quit\"\n",
      "2021-02-19 11:42:30,569 : INFO : topic #47 (0.010): 0.078*\"model\" + 0.071*\"one\" + 0.059*\"factor\" + 0.049*\"variabl\" + 0.047*\"sever\" + 0.045*\"in\" + 0.039*\"cost\" + 0.038*\"be\" + 0.033*\"techniqu\" + 0.031*\"low\"\n",
      "2021-02-19 11:42:30,569 : INFO : topic #42 (0.021): 0.338*\"s\" + 0.316*\"'\" + 0.227*\"\"\" + 0.021*\"two\" + 0.019*\"comput\" + 0.017*\"complement\" + 0.017*\"on\" + 0.013*\"with\" + 0.013*\"to\" + 0.006*\"correct\"\n",
      "2021-02-19 11:42:30,570 : INFO : topic #79 (0.022): 0.109*\"program\" + 0.071*\"and\" + 0.046*\",\" + 0.041*\"are\" + 0.034*\"in\" + 0.029*\"to\" + 0.020*\"for\" + 0.020*\"is\" + 0.019*\"discuss\" + 0.016*\"that\"\n",
      "2021-02-19 11:42:30,570 : INFO : topic #59 (0.046): 0.359*\"(\" + 0.347*\")\" + 0.248*\"algorithm\" + 0.017*\"complex\" + 0.010*\"-\" + 0.004*\"integ\" + 0.003*\"jacobi\" + 0.002*\"polynomi\" + 0.001*\"or\" + 0.001*\"date\"\n",
      "2021-02-19 11:42:30,571 : INFO : topic diff=0.173816, rho=0.225865\n",
      "2021-02-19 11:42:30,583 : INFO : PROGRESS: pass 18, at document #2000/3204\n",
      "2021-02-19 11:42:31,876 : INFO : optimized alpha [0.011711514, 0.010956115, 0.011692876, 0.0147294905, 0.014030235, 0.010937986, 0.0116534075, 0.0105876615, 0.0111364415, 0.010025316, 0.012216266, 0.011375164, 0.012439129, 0.012086402, 0.016822929, 0.012818067, 0.013148426, 0.010523337, 0.013034363, 0.010517372, 0.011180352, 0.0123357745, 0.019356145, 0.012856692, 0.011878023, 0.012652658, 0.013963902, 0.011259433, 0.010344534, 0.013208921, 0.013265072, 0.012811152, 0.013659628, 0.013206524, 0.011745644, 0.012282551, 0.013609592, 0.01429568, 0.015130248, 0.011142499, 0.012870671, 0.012377177, 0.021206902, 0.0140621355, 0.01515477, 0.014443656, 0.016182473, 0.010015079, 0.014886376, 0.01182518, 0.014267013, 0.014569724, 0.016031533, 0.017889215, 0.010470171, 0.012855765, 0.012039449, 0.012328526, 0.0125520155, 0.04737027, 0.012370256, 0.012963484, 0.011504633, 0.01123481, 0.0144954715, 0.01372333, 0.014566062, 0.011883599, 0.01397637, 0.012297191, 0.013406619, 0.011845895, 0.0122247515, 0.010107186, 0.012634613, 0.010874056, 0.014820009, 0.011830475, 0.012291592, 0.022559639, 0.012503446, 0.016013712, 0.008826913, 0.014325518, 0.01729415, 0.013258457, 0.015038256, 0.012237591, 0.011074742, 0.010525428, 0.012014691, 0.013373152, 0.012995379, 0.014360065, 0.012501154, 0.012287603, 0.012800645, 0.014373352, 0.015668347, 0.015653526]\n",
      "2021-02-19 11:42:31,887 : INFO : merging changes from 2000 documents into a model of 3204 documents\n",
      "2021-02-19 11:42:31,904 : INFO : topic #82 (0.009): 0.657*\"pattern\" + 0.174*\"edit\" + 0.091*\"regress\" + 0.000*\"in\" + 0.000*\"and\" + 0.000*\"code\" + 0.000*\"data\" + 0.000*\"reduc\" + 0.000*\"repetit\" + 0.000*\"quit\"\n",
      "2021-02-19 11:42:31,905 : INFO : topic #47 (0.010): 0.075*\"one\" + 0.069*\"model\" + 0.065*\"factor\" + 0.050*\"variabl\" + 0.049*\"sever\" + 0.045*\"in\" + 0.039*\"be\" + 0.036*\"techniqu\" + 0.034*\"cost\" + 0.029*\"low\"\n",
      "2021-02-19 11:42:31,906 : INFO : topic #42 (0.021): 0.337*\"s\" + 0.315*\"'\" + 0.229*\"\"\" + 0.020*\"two\" + 0.019*\"comput\" + 0.017*\"on\" + 0.016*\"complement\" + 0.013*\"with\" + 0.013*\"to\" + 0.005*\"correct\"\n",
      "2021-02-19 11:42:31,906 : INFO : topic #79 (0.023): 0.109*\"program\" + 0.071*\"and\" + 0.046*\",\" + 0.041*\"are\" + 0.035*\"in\" + 0.029*\"to\" + 0.021*\"for\" + 0.020*\"is\" + 0.019*\"discuss\" + 0.016*\"that\"\n",
      "2021-02-19 11:42:31,907 : INFO : topic #59 (0.047): 0.358*\"(\" + 0.349*\")\" + 0.248*\"algorithm\" + 0.017*\"complex\" + 0.010*\"-\" + 0.004*\"integ\" + 0.003*\"jacobi\" + 0.002*\"or\" + 0.002*\"polynomi\" + 0.001*\"date\"\n",
      "2021-02-19 11:42:31,908 : INFO : topic diff=0.158271, rho=0.220316\n",
      "2021-02-19 11:42:33,486 : INFO : -6.303 per-word bound, 78.9 perplexity estimate based on a held-out corpus of 1204 documents with 79462 words\n",
      "2021-02-19 11:42:33,487 : INFO : PROGRESS: pass 18, at document #3204/3204\n",
      "2021-02-19 11:42:34,839 : INFO : optimized alpha [0.011833732, 0.011036351, 0.011771718, 0.014870997, 0.014168598, 0.011011988, 0.011770709, 0.010674766, 0.011177203, 0.010055519, 0.0123038255, 0.011479559, 0.012618386, 0.012178542, 0.017188461, 0.0129528325, 0.0132939145, 0.010605013, 0.013217157, 0.010575013, 0.011225152, 0.012428417, 0.019891638, 0.012970741, 0.012008751, 0.0127155, 0.014182942, 0.0113543095, 0.010382662, 0.013291501, 0.013420264, 0.012912225, 0.013748639, 0.013429056, 0.011872305, 0.012408458, 0.013521957, 0.014455667, 0.015387795, 0.011181782, 0.013016268, 0.012492863, 0.021650644, 0.014184328, 0.0153916925, 0.0146492645, 0.016313542, 0.010099504, 0.015022436, 0.011948449, 0.014366903, 0.014746188, 0.01624472, 0.018260367, 0.010489223, 0.01297451, 0.012157481, 0.012450803, 0.012636329, 0.04889426, 0.012477941, 0.013083985, 0.011611381, 0.011289486, 0.014733683, 0.013915372, 0.014794864, 0.0119509585, 0.014149318, 0.012462265, 0.013488008, 0.011923555, 0.012294199, 0.010169435, 0.012741522, 0.01096212, 0.014968555, 0.011935139, 0.012412839, 0.02309498, 0.012643896, 0.016219515, 0.008835562, 0.014508181, 0.017549755, 0.013406639, 0.015245793, 0.012333146, 0.011091386, 0.010592768, 0.012120866, 0.013539313, 0.013024251, 0.0145624885, 0.012559481, 0.012353265, 0.012956395, 0.014469417, 0.015763676, 0.015810026]\n",
      "2021-02-19 11:42:34,849 : INFO : merging changes from 1204 documents into a model of 3204 documents\n",
      "2021-02-19 11:42:34,864 : INFO : topic #82 (0.009): 0.690*\"pattern\" + 0.154*\"edit\" + 0.087*\"regress\" + 0.000*\"in\" + 0.000*\"and\" + 0.000*\"code\" + 0.000*\"data\" + 0.000*\"reduc\" + 0.000*\"repetit\" + 0.000*\"quit\"\n"
     ]
    },
    {
     "name": "stderr",
     "output_type": "stream",
     "text": [
      "2021-02-19 11:42:34,866 : INFO : topic #9 (0.010): 0.312*\"network\" + 0.125*\"disk\" + 0.041*\"and\" + 0.034*\"to\" + 0.032*\"for\" + 0.029*\"comput\" + 0.029*\"is\" + 0.026*\"power\" + 0.026*\"exampl\" + 0.025*\"in\"\n",
      "2021-02-19 11:42:34,866 : INFO : topic #42 (0.022): 0.338*\"s\" + 0.316*\"'\" + 0.228*\"\"\" + 0.021*\"two\" + 0.019*\"comput\" + 0.017*\"complement\" + 0.017*\"on\" + 0.013*\"to\" + 0.013*\"with\" + 0.005*\"correct\"\n",
      "2021-02-19 11:42:34,867 : INFO : topic #79 (0.023): 0.110*\"program\" + 0.072*\"and\" + 0.046*\",\" + 0.041*\"are\" + 0.034*\"in\" + 0.029*\"to\" + 0.020*\"for\" + 0.020*\"is\" + 0.019*\"discuss\" + 0.016*\"that\"\n",
      "2021-02-19 11:42:34,868 : INFO : topic #59 (0.049): 0.360*\"(\" + 0.349*\")\" + 0.246*\"algorithm\" + 0.017*\"complex\" + 0.010*\"-\" + 0.004*\"integ\" + 0.003*\"jacobi\" + 0.001*\"or\" + 0.001*\"polynomi\" + 0.001*\"date\"\n",
      "2021-02-19 11:42:34,870 : INFO : topic diff=0.162161, rho=0.220316\n",
      "2021-02-19 11:42:34,880 : INFO : PROGRESS: pass 19, at document #2000/3204\n",
      "2021-02-19 11:42:36,234 : INFO : optimized alpha [0.011852417, 0.0110441055, 0.011806213, 0.014975242, 0.014309987, 0.01106648, 0.011736473, 0.010664717, 0.011300798, 0.010055031, 0.012402678, 0.011481573, 0.012606965, 0.01224913, 0.01720692, 0.012959228, 0.0133317355, 0.010583424, 0.013187416, 0.010596926, 0.011267035, 0.01250862, 0.020010395, 0.01302741, 0.012013651, 0.012799865, 0.014204285, 0.011403135, 0.010386624, 0.013398968, 0.013472239, 0.012997631, 0.013843223, 0.013442574, 0.011887744, 0.012409543, 0.013809958, 0.014544274, 0.015401938, 0.011211879, 0.01305125, 0.012510538, 0.021775054, 0.014317887, 0.015352683, 0.014654556, 0.016480997, 0.010138644, 0.015201741, 0.011969849, 0.014504752, 0.014835688, 0.016511481, 0.01851321, 0.010511523, 0.013005606, 0.012229199, 0.0124621065, 0.012695607, 0.050566196, 0.012525101, 0.013134235, 0.011615784, 0.011315259, 0.014734791, 0.013924477, 0.014815331, 0.011977508, 0.014189172, 0.012558476, 0.01361336, 0.0119526135, 0.012370422, 0.010196318, 0.012869046, 0.01099861, 0.015106278, 0.011970452, 0.012403392, 0.023243895, 0.012692385, 0.016401827, 0.008821298, 0.014576617, 0.017626802, 0.013420676, 0.015238965, 0.0124095855, 0.011152761, 0.010595228, 0.012157731, 0.013571122, 0.01320822, 0.014622854, 0.012658578, 0.012370668, 0.012970684, 0.014601571, 0.01599874, 0.0158624]\n",
      "2021-02-19 11:42:36,244 : INFO : merging changes from 2000 documents into a model of 3204 documents\n",
      "2021-02-19 11:42:36,264 : INFO : topic #82 (0.009): 0.658*\"pattern\" + 0.173*\"edit\" + 0.091*\"regress\" + 0.000*\"in\" + 0.000*\"and\" + 0.000*\"code\" + 0.000*\"data\" + 0.000*\"reduc\" + 0.000*\"repetit\" + 0.000*\"quit\"\n",
      "2021-02-19 11:42:36,265 : INFO : topic #9 (0.010): 0.299*\"network\" + 0.126*\"disk\" + 0.042*\"and\" + 0.035*\"to\" + 0.032*\"for\" + 0.030*\"power\" + 0.029*\"is\" + 0.028*\"comput\" + 0.025*\"in\" + 0.025*\"are\"\n",
      "2021-02-19 11:42:36,266 : INFO : topic #42 (0.022): 0.337*\"s\" + 0.316*\"'\" + 0.230*\"\"\" + 0.021*\"two\" + 0.019*\"comput\" + 0.016*\"on\" + 0.016*\"complement\" + 0.012*\"with\" + 0.012*\"to\" + 0.004*\"correct\"\n",
      "2021-02-19 11:42:36,266 : INFO : topic #79 (0.023): 0.111*\"program\" + 0.072*\"and\" + 0.046*\",\" + 0.042*\"are\" + 0.034*\"in\" + 0.029*\"to\" + 0.021*\"for\" + 0.020*\"is\" + 0.019*\"discuss\" + 0.016*\"that\"\n",
      "2021-02-19 11:42:36,267 : INFO : topic #59 (0.051): 0.359*\"(\" + 0.351*\")\" + 0.247*\"algorithm\" + 0.016*\"complex\" + 0.009*\"-\" + 0.004*\"integ\" + 0.003*\"jacobi\" + 0.002*\"or\" + 0.001*\"polynomi\" + 0.001*\"date\"\n",
      "2021-02-19 11:42:36,268 : INFO : topic diff=0.148296, rho=0.215156\n",
      "2021-02-19 11:42:37,868 : INFO : -6.298 per-word bound, 78.7 perplexity estimate based on a held-out corpus of 1204 documents with 79462 words\n",
      "2021-02-19 11:42:37,869 : INFO : PROGRESS: pass 19, at document #3204/3204\n",
      "2021-02-19 11:42:39,214 : INFO : optimized alpha [0.011976966, 0.0111248735, 0.0118857045, 0.015113917, 0.014448246, 0.011141063, 0.011860227, 0.010750307, 0.011340321, 0.010081253, 0.012492918, 0.011588217, 0.0127858585, 0.012341728, 0.017577989, 0.013094029, 0.013472352, 0.010661757, 0.013357746, 0.010655404, 0.011312944, 0.012599381, 0.020555504, 0.013134592, 0.012142229, 0.012863565, 0.014420284, 0.011502584, 0.01042418, 0.01347964, 0.013629745, 0.013099054, 0.01392766, 0.013664725, 0.0120164845, 0.012540069, 0.013719297, 0.014703965, 0.015653223, 0.01125044, 0.013192133, 0.012624238, 0.022212865, 0.014429755, 0.015583024, 0.01486473, 0.016608868, 0.010221632, 0.0153347505, 0.01209318, 0.014602199, 0.015006577, 0.01672388, 0.018884243, 0.010530389, 0.013122289, 0.012345165, 0.012582249, 0.012778239, 0.052070435, 0.012630852, 0.013259931, 0.011718608, 0.011370991, 0.014977885, 0.0141160665, 0.015040967, 0.012035014, 0.014361774, 0.012730513, 0.013695135, 0.012026711, 0.012449434, 0.010264739, 0.012973839, 0.011087079, 0.015259957, 0.01207112, 0.012520297, 0.023769997, 0.012832738, 0.016607087, 0.008830156, 0.0147616165, 0.017871741, 0.013563864, 0.0154458, 0.01250781, 0.011171031, 0.010661401, 0.012266424, 0.013737087, 0.013233155, 0.014827594, 0.012720049, 0.0124351615, 0.013128684, 0.014695399, 0.016099343, 0.016010264]\n",
      "2021-02-19 11:42:39,228 : INFO : merging changes from 1204 documents into a model of 3204 documents\n",
      "2021-02-19 11:42:39,245 : INFO : topic #82 (0.009): 0.689*\"pattern\" + 0.155*\"edit\" + 0.087*\"regress\" + 0.000*\"in\" + 0.000*\"and\" + 0.000*\"code\" + 0.000*\"data\" + 0.000*\"reduc\" + 0.000*\"repetit\" + 0.000*\"quit\"\n",
      "2021-02-19 11:42:39,246 : INFO : topic #9 (0.010): 0.314*\"network\" + 0.126*\"disk\" + 0.042*\"and\" + 0.034*\"to\" + 0.032*\"for\" + 0.029*\"comput\" + 0.029*\"is\" + 0.026*\"exampl\" + 0.026*\"power\" + 0.025*\"in\"\n",
      "2021-02-19 11:42:39,247 : INFO : topic #42 (0.022): 0.338*\"s\" + 0.316*\"'\" + 0.230*\"\"\" + 0.021*\"two\" + 0.019*\"comput\" + 0.017*\"complement\" + 0.016*\"on\" + 0.012*\"to\" + 0.012*\"with\" + 0.004*\"correct\"\n",
      "2021-02-19 11:42:39,247 : INFO : topic #79 (0.024): 0.111*\"program\" + 0.073*\"and\" + 0.047*\",\" + 0.042*\"are\" + 0.034*\"in\" + 0.029*\"to\" + 0.020*\"is\" + 0.020*\"for\" + 0.019*\"discuss\" + 0.016*\"that\"\n",
      "2021-02-19 11:42:39,248 : INFO : topic #59 (0.052): 0.362*\"(\" + 0.350*\")\" + 0.245*\"algorithm\" + 0.017*\"complex\" + 0.009*\"-\" + 0.004*\"integ\" + 0.003*\"jacobi\" + 0.001*\"or\" + 0.001*\"date\" + 0.001*\"polynomi\"\n",
      "2021-02-19 11:42:39,250 : INFO : topic diff=0.151869, rho=0.215156\n"
     ]
    },
    {
     "data": {
      "text/plain": [
       "[(0, 0.00502821),\n",
       " (1, 0.0046704817),\n",
       " (2, 0.0049898964),\n",
       " (3, 0.006345175),\n",
       " (4, 0.006065711),\n",
       " (5, 0.0046772785),\n",
       " (6, 0.0049792),\n",
       " (7, 0.0045132297),\n",
       " (8, 0.0047609317),\n",
       " (9, 0.0042323456),\n",
       " (10, 0.005244819),\n",
       " (11, 0.004865004),\n",
       " (12, 0.005367802),\n",
       " (13, 0.0051813456),\n",
       " (14, 0.00737965),\n",
       " (15, 0.0054971795),\n",
       " (16, 0.005656008),\n",
       " (17, 0.0044760546),\n",
       " (18, 0.0056078937),\n",
       " (19, 0.0044733873),\n",
       " (20, 0.0047494383),\n",
       " (21, 0.005289514),\n",
       " (22, 0.008629681),\n",
       " (23, 0.0055142087),\n",
       " (24, 0.0050975913),\n",
       " (25, 0.0054004253),\n",
       " (26, 0.006053972),\n",
       " (27, 0.0048290538),\n",
       " (28, 0.004376314),\n",
       " (29, 0.0056590675),\n",
       " (30, 0.005722085),\n",
       " (31, 0.005499289),\n",
       " (32, 0.005847157),\n",
       " (33, 0.0057367706),\n",
       " (34, 0.0050448007),\n",
       " (35, 0.005264614),\n",
       " (36, 0.005759681),\n",
       " (37, 0.0061730677),\n",
       " (38, 0.0065715886),\n",
       " (39, 0.0047231973),\n",
       " (40, 0.0055383653),\n",
       " (41, 0.00529995),\n",
       " (42, 0.009325479),\n",
       " (43, 0.006057948),\n",
       " (44, 0.0065421173),\n",
       " (45, 0.0062405607),\n",
       " (46, 0.0069727907),\n",
       " (47, 0.0042912797),\n",
       " (48, 0.0064378865),\n",
       " (49, 0.0050769993),\n",
       " (50, 0.0061303442),\n",
       " (51, 0.0063001113),\n",
       " (52, 0.0070210756),\n",
       " (53, 0.007928046),\n",
       " (54, 0.004420903),\n",
       " (55, 0.0055090436),\n",
       " (56, 0.0051827887),\n",
       " (57, 0.005282322),\n",
       " (58, 0.0053646034),\n",
       " (59, 0.021860385),\n",
       " (60, 0.0053027268),\n",
       " (61, 0.0055668284),\n",
       " (62, 0.0049197455),\n",
       " (63, 0.0047738077),\n",
       " (64, 0.006288066),\n",
       " (65, 0.005926254),\n",
       " (66, 0.006314549),\n",
       " (67, 0.00505258),\n",
       " (68, 0.006029408),\n",
       " (69, 0.0053445664),\n",
       " (70, 0.0057495376),\n",
       " (71, 0.005049094),\n",
       " (72, 0.005226563),\n",
       " (73, 0.004309377),\n",
       " (74, 0.005446721),\n",
       " (75, 0.0046546147),\n",
       " (76, 0.0064064865),\n",
       " (77, 0.005067738),\n",
       " (78, 0.0052563134),\n",
       " (79, 0.0099792),\n",
       " (80, 0.005387483),\n",
       " (81, 0.006972043),\n",
       " (82, 0.0037071058),\n",
       " (83, 0.0061972714),\n",
       " (84, 0.0075029745),\n",
       " (85, 0.005694427),\n",
       " (86, 0.0064845076),\n",
       " (87, 0.005251072),\n",
       " (88, 0.0046898597),\n",
       " (89, 0.004475905),\n",
       " (90, 0.005149731),\n",
       " (91, 0.00576715),\n",
       " (92, 0.0055555874),\n",
       " (93, 0.0062249703),\n",
       " (94, 0.42515746),\n",
       " (95, 0.005220571),\n",
       " (96, 0.005511728),\n",
       " (97, 0.006169472),\n",
       " (98, 0.0067588803),\n",
       " (99, 0.0067214826)]"
      ]
     },
     "execution_count": 85,
     "metadata": {},
     "output_type": "execute_result"
    }
   ],
   "source": [
    "##### Function check\n",
    "lda = LdaRetrievalModel(doc_repr_2)\n",
    "lda.train_model()\n",
    "\n",
    "# you can now get an LDA vector for a given query in the following way:\n",
    "lda.vectorize_query(\"report\")\n",
    "##### "
   ]
  },
  {
   "cell_type": "markdown",
   "metadata": {
    "deletable": false,
    "editable": false,
    "id": "Ytw2BnNn4IWu",
    "nbgrader": {
     "cell_type": "markdown",
     "checksum": "32d83b6ea79ca3ddb789a7f8805a1b25",
     "grade": false,
     "grade_id": "cell-0e24b727d5908c0e",
     "locked": true,
     "points": 5,
     "schema_version": 3,
     "solution": false,
     "task": true
    }
   },
   "source": [
    "\\#### Please do not change this. This cell is used for grading."
   ]
  },
  {
   "cell_type": "markdown",
   "metadata": {
    "deletable": false,
    "editable": false,
    "id": "PqZBboVz4IWu",
    "nbgrader": {
     "cell_type": "markdown",
     "checksum": "114a934f0b9ce696e6cf09d3b8da6a3d",
     "grade": false,
     "grade_id": "cell-b1bffcb970b18aeb",
     "locked": true,
     "schema_version": 3,
     "solution": false,
     "task": false
    }
   },
   "source": [
    "---\n",
    "Now we can use the `DenseRetrievalModel` class to obtain an LDA search function.\n",
    "You can test your LDA model in the following cell: Try finding queries which are lexically different to documents, but semantically similar - does LDA work well for these queries?!"
   ]
  },
  {
   "cell_type": "code",
   "execution_count": 86,
   "metadata": {
    "ExecuteTime": {
     "end_time": "2021-02-19T10:42:42.397316Z",
     "start_time": "2021-02-19T10:42:39.270676Z"
    },
    "id": "TnPkNnQb4IWu"
   },
   "outputs": [
    {
     "data": {
      "application/vnd.jupyter.widget-view+json": {
       "model_id": "43228065b3df4676b9d1d83ae8fd4e57",
       "version_major": 2,
       "version_minor": 0
      },
      "text/plain": [
       "Text(value='', description='Search Bar')"
      ]
     },
     "metadata": {},
     "output_type": "display_data"
    }
   ],
   "source": [
    "drm_lda = DenseRetrievalRanker(lda, jenson_shannon_sim)\n",
    "\n",
    "# test your LDA model\n",
    "search_fn = drm_lda.search\n",
    "\n",
    "text = widgets.Text(description=\"Search Bar\", width=200)\n",
    "display(text)\n",
    "\n",
    "\n",
    "text.on_submit(handle_submit_2)"
   ]
  },
  {
   "cell_type": "markdown",
   "metadata": {
    "deletable": false,
    "editable": false,
    "id": "xa0oM-SP4IWu",
    "nbgrader": {
     "cell_type": "markdown",
     "checksum": "9d7f15863b655119b45f4d89354e5661",
     "grade": false,
     "grade_id": "cell-190cd0854b2791cc",
     "locked": true,
     "schema_version": 3,
     "solution": false,
     "task": false
    }
   },
   "source": [
    "## Section 8: Word2Vec/Doc2Vec (20 points) <a class=\"anchor\" id=\"2vec\"></a>\n",
    "\n",
    "[Back to Part 2](#part2)\n",
    "\n",
    "We will implement two other methods here, the Word2Vec model and the Doc2Vec model, also using `gensim`. Word2Vec creates representations of words, not documents, so the word level vectors need to be aggregated to obtain a representation for the document. Here, we will simply take the mean of the vectors. \n",
    "\n",
    "\n",
    "A drawback of these models is that they need a lot of training data. Our dataset is tiny, so in addition to using a model trained on the data, we will also use a pre-trained model for Word2Vec (this will be automatically downloaded).     \n",
    "\n",
    "*Note*:\n",
    "1. The code in vectorize_documents / vectorize_query should return gensim-like vectors i.e `[(dim, val), .. (dim, val)]`. \n",
    "2. For Word2Vec: You should also handle the following two cases: (a) A word in the query is not present in the vocabulary of the model and (b) none of the words in the query are present in the model - you can return 0 scores for all documents in this case. For either of these, you can check if a `word` is present in the vocab by using `word in self.model`\n"
   ]
  },
  {
   "cell_type": "code",
   "execution_count": 87,
   "metadata": {
    "ExecuteTime": {
     "end_time": "2021-02-19T10:42:44.193113Z",
     "start_time": "2021-02-19T10:42:42.398313Z"
    },
    "deletable": false,
    "id": "gPHOpyp34IWu",
    "nbgrader": {
     "cell_type": "code",
     "checksum": "83ab733608ed14c29c09b36b4e1b6daa",
     "grade": false,
     "grade_id": "cell-2b73759f9baf688f",
     "locked": false,
     "schema_version": 3,
     "solution": true,
     "task": false
    }
   },
   "outputs": [
    {
     "name": "stderr",
     "output_type": "stream",
     "text": [
      "2021-02-19 11:42:42,408 : INFO : adding document #0 to Dictionary(0 unique tokens: [])\n",
      "2021-02-19 11:42:42,572 : INFO : built Dictionary(6204 unique tokens: ['-', 'algebra', 'intern', 'languag', 'preliminari']...) from 3204 documents (total 196845 corpus positions)\n",
      "2021-02-19 11:42:42,580 : INFO : discarding 4795 tokens: [('of', 2061), ('repeat', 8), ('glossari', 7), ('inspect', 8), ('the', 1794), ('uncol', 2), ('a', 1807), ('rung', 9), ('secant', 2), ('.', 1603)]...\n",
      "2021-02-19 11:42:42,580 : INFO : keeping 1409 tokens which were in no less than 10 and no more than 1602 (=50.0%) documents\n",
      "2021-02-19 11:42:42,583 : INFO : resulting dictionary: Dictionary(1409 unique tokens: ['-', 'algebra', 'intern', 'languag', 'preliminari']...)\n",
      "2021-02-19 11:42:42,674 : INFO : collecting all words and their counts\n",
      "2021-02-19 11:42:42,674 : INFO : PROGRESS: at sentence #0, processed 0 words, keeping 0 word types\n",
      "2021-02-19 11:42:42,703 : INFO : collected 6204 word types from a corpus of 196845 raw words and 3204 sentences\n",
      "2021-02-19 11:42:42,704 : INFO : Loading a fresh vocabulary\n",
      "2021-02-19 11:42:42,713 : INFO : effective_min_count=1 retains 6204 unique words (100% of original 6204, drops 0)\n",
      "2021-02-19 11:42:42,714 : INFO : effective_min_count=1 leaves 196845 word corpus (100% of original 196845, drops 0)\n",
      "2021-02-19 11:42:42,731 : INFO : deleting the raw counts dictionary of 6204 items\n",
      "2021-02-19 11:42:42,732 : INFO : sample=0.001 downsamples 42 most-common words\n",
      "2021-02-19 11:42:42,732 : INFO : downsampling leaves estimated 136742 word corpus (69.5% of prior 196845)\n",
      "2021-02-19 11:42:42,744 : INFO : estimated required memory for 6204 words and 100 dimensions: 8065200 bytes\n",
      "2021-02-19 11:42:42,744 : INFO : resetting layer weights\n",
      "2021-02-19 11:42:43,711 : INFO : training model with 3 workers on 6204 vocabulary and 100 features, using sg=0 hs=0 sample=0.001 negative=5 window=5\n",
      "2021-02-19 11:42:43,786 : INFO : worker thread finished; awaiting finish of 2 more threads\n",
      "2021-02-19 11:42:43,790 : INFO : worker thread finished; awaiting finish of 1 more threads\n",
      "2021-02-19 11:42:43,792 : INFO : worker thread finished; awaiting finish of 0 more threads\n",
      "2021-02-19 11:42:43,793 : INFO : EPOCH - 1 : training on 196845 raw words (136686 effective words) took 0.1s, 1772123 effective words/s\n",
      "2021-02-19 11:42:43,871 : INFO : worker thread finished; awaiting finish of 2 more threads\n",
      "2021-02-19 11:42:43,878 : INFO : worker thread finished; awaiting finish of 1 more threads\n",
      "2021-02-19 11:42:43,879 : INFO : worker thread finished; awaiting finish of 0 more threads\n",
      "2021-02-19 11:42:43,879 : INFO : EPOCH - 2 : training on 196845 raw words (136850 effective words) took 0.1s, 1657099 effective words/s\n",
      "2021-02-19 11:42:43,967 : INFO : worker thread finished; awaiting finish of 2 more threads\n",
      "2021-02-19 11:42:43,974 : INFO : worker thread finished; awaiting finish of 1 more threads\n",
      "2021-02-19 11:42:43,975 : INFO : worker thread finished; awaiting finish of 0 more threads\n",
      "2021-02-19 11:42:43,975 : INFO : EPOCH - 3 : training on 196845 raw words (136866 effective words) took 0.1s, 1518422 effective words/s\n",
      "2021-02-19 11:42:44,070 : INFO : worker thread finished; awaiting finish of 2 more threads\n",
      "2021-02-19 11:42:44,076 : INFO : worker thread finished; awaiting finish of 1 more threads\n",
      "2021-02-19 11:42:44,078 : INFO : worker thread finished; awaiting finish of 0 more threads\n",
      "2021-02-19 11:42:44,078 : INFO : EPOCH - 4 : training on 196845 raw words (136843 effective words) took 0.1s, 1402311 effective words/s\n",
      "2021-02-19 11:42:44,172 : INFO : worker thread finished; awaiting finish of 2 more threads\n",
      "2021-02-19 11:42:44,179 : INFO : worker thread finished; awaiting finish of 1 more threads\n",
      "2021-02-19 11:42:44,180 : INFO : worker thread finished; awaiting finish of 0 more threads\n",
      "2021-02-19 11:42:44,180 : INFO : EPOCH - 5 : training on 196845 raw words (136951 effective words) took 0.1s, 1419894 effective words/s\n",
      "2021-02-19 11:42:44,181 : INFO : training on a 984225 raw words (684196 effective words) took 0.5s, 1459230 effective words/s\n",
      "<ipython-input-87-2f5bb1a63d99>:44: DeprecationWarning: Call to deprecated `__contains__` (Method will be removed in 4.0.0, use self.wv.__contains__() instead).\n",
      "  if token in self.model:\n",
      "<ipython-input-87-2f5bb1a63d99>:45: DeprecationWarning: Call to deprecated `__getitem__` (Method will be removed in 4.0.0, use self.wv.__getitem__() instead).\n",
      "  accum_vecs.append(self.model[token])\n"
     ]
    },
    {
     "data": {
      "text/plain": [
       "[(0, 0.47856995),\n",
       " (1, -0.24023534),\n",
       " (2, 0.38712654),\n",
       " (3, 0.3149415),\n",
       " (4, 0.29214883),\n",
       " (5, -0.021007953),\n",
       " (6, -0.2566655),\n",
       " (7, 0.8757976),\n",
       " (8, 0.5473611),\n",
       " (9, -0.29273197),\n",
       " (10, -0.48998109),\n",
       " (11, 0.35414487),\n",
       " (12, -0.21826038),\n",
       " (13, -0.37822098),\n",
       " (14, 0.07074226),\n",
       " (15, 0.18564281),\n",
       " (16, 0.08731384),\n",
       " (17, 0.13559303),\n",
       " (18, -0.21609016),\n",
       " (19, -0.5298929),\n",
       " (20, -0.34724438),\n",
       " (21, -0.45690656),\n",
       " (22, -0.56087095),\n",
       " (23, -0.557687),\n",
       " (24, -0.21658608),\n",
       " (25, -0.14090486),\n",
       " (26, 0.42897135),\n",
       " (27, -0.057012264),\n",
       " (28, -0.5757805),\n",
       " (29, -0.5037114),\n",
       " (30, 0.022859415),\n",
       " (31, -0.16462328),\n",
       " (32, -0.21685618),\n",
       " (33, -0.4493334),\n",
       " (34, 0.20098178),\n",
       " (35, -0.7201918),\n",
       " (36, 0.053263813),\n",
       " (37, 0.6559644),\n",
       " (38, -0.15823902),\n",
       " (39, 0.059095312),\n",
       " (40, -0.3007825),\n",
       " (41, 0.33893028),\n",
       " (42, -0.17132545),\n",
       " (43, -0.25316718),\n",
       " (44, 0.21398294),\n",
       " (45, -0.5542454),\n",
       " (46, 0.36009023),\n",
       " (47, 0.072113216),\n",
       " (48, -0.9676841),\n",
       " (49, -0.07129934),\n",
       " (50, -0.14208572),\n",
       " (51, 0.22819759),\n",
       " (52, 0.053682864),\n",
       " (53, -0.31697765),\n",
       " (54, -0.19671845),\n",
       " (55, -0.021745829),\n",
       " (56, -0.5334642),\n",
       " (57, 0.49639755),\n",
       " (58, -0.09467293),\n",
       " (59, 0.20574254),\n",
       " (60, -0.05369969),\n",
       " (61, -0.43120593),\n",
       " (62, 0.5006591),\n",
       " (63, -0.49968368),\n",
       " (64, 0.04675843),\n",
       " (65, 0.14097425),\n",
       " (66, 0.47562668),\n",
       " (67, -0.29176757),\n",
       " (68, 0.3923744),\n",
       " (69, -0.19178973),\n",
       " (70, 0.18410105),\n",
       " (71, -0.21107413),\n",
       " (72, 0.09298357),\n",
       " (73, 0.016576359),\n",
       " (74, -0.4773759),\n",
       " (75, 0.24063161),\n",
       " (76, -0.23604597),\n",
       " (77, -0.08259174),\n",
       " (78, 0.18376134),\n",
       " (79, 0.17116502),\n",
       " (80, -0.22095263),\n",
       " (81, 0.25164875),\n",
       " (82, -0.1835128),\n",
       " (83, 0.51597023),\n",
       " (84, 0.3307448),\n",
       " (85, 0.5005378),\n",
       " (86, 0.40973133),\n",
       " (87, -0.014947581),\n",
       " (88, 0.34850734),\n",
       " (89, -0.12916812),\n",
       " (90, -0.048618548),\n",
       " (91, -0.117945716),\n",
       " (92, 0.12225865),\n",
       " (93, 0.6505816),\n",
       " (94, 0.5271935),\n",
       " (95, -0.17508869),\n",
       " (96, 0.48715097),\n",
       " (97, 0.29631144),\n",
       " (98, 0.082498975),\n",
       " (99, 0.5283317)]"
      ]
     },
     "execution_count": 87,
     "metadata": {},
     "output_type": "execute_result"
    }
   ],
   "source": [
    "# TODO: Implement this! (10 points)\n",
    "class W2VRetrievalModel(VectorSpaceRetrievalModel):\n",
    "    def __init__(self, doc_repr):\n",
    "        super().__init__(doc_repr)\n",
    "        \n",
    "        # the dimensionality of the vectors\n",
    "        self.size = 100 \n",
    "        self.min_count = 1\n",
    "    \n",
    "    def train_model(self):\n",
    "        \"\"\"\n",
    "        Trains the W2V model\n",
    "        \"\"\"\n",
    "        # YOUR CODE HERE\n",
    "        self.model = Word2Vec(self.documents, size=self.size, min_count=self.min_count) \n",
    "        \n",
    "    def vectorize_documents(self):\n",
    "        \"\"\"\n",
    "            Returns a doc_id -> vector dictionary\n",
    "        \"\"\"\n",
    "        # YOUR CODE HERE\n",
    "        vectors = {}\n",
    "        for (doc_id, doc) in self.doc_repr:\n",
    "            accum_vecs = []\n",
    "            for token in doc:\n",
    "                if token in self.model:\n",
    "                    accum_vecs.append(self.model[token])\n",
    "\n",
    "            aggregated_vec = np.mean(accum_vecs, axis=0)\n",
    "            if not accum_vecs:\n",
    "                vectors[doc_id] = list(zip(range(self.size), self.size * [0]))\n",
    "            else:\n",
    "                vectors[doc_id] = list(zip(range(self.size), aggregated_vec))\n",
    "        return vectors\n",
    "\n",
    "    def vectorize_query(self, query):\n",
    "        \"\"\"\n",
    "        Vectorizes the query using the W2V model\n",
    "        \"\"\"\n",
    "        query = process_text(query, **config_2)\n",
    "        # YOUR CODE HERE\n",
    "        accum_vecs = []\n",
    "        for token in query:\n",
    "            if token in self.model:\n",
    "                accum_vecs.append(self.model[token])\n",
    "        aggregated_vec = np.mean(accum_vecs, axis=0)\n",
    "    \n",
    "        # If no tokens are in the model\n",
    "        if not accum_vecs:\n",
    "            return list(zip(range(self.size), self.size * [0]))\n",
    "        else:\n",
    "            return list(zip(range(self.size), aggregated_vec))\n",
    "    \n",
    "    \n",
    "class W2VPretrainedRetrievalModel(W2VRetrievalModel):\n",
    "    def __init__(self, doc_repr):\n",
    "        super().__init__(doc_repr)\n",
    "        self.model_name = \"word2vec-google-news-300\"\n",
    "        self.size = 300\n",
    "    \n",
    "    def train_model(self):\n",
    "        \"\"\"\n",
    "        Loads the pretrained model\n",
    "        \"\"\"\n",
    "        self.model = g_downloader.load(self.model_name)\n",
    "\n",
    "w2v = W2VRetrievalModel(doc_repr_2)\n",
    "w2v.train_model()\n",
    "\n",
    "# you can now get a W2V vector for a given query in the following way:\n",
    "w2v.vectorize_query(\"report\")"
   ]
  },
  {
   "cell_type": "code",
   "execution_count": 88,
   "metadata": {
    "ExecuteTime": {
     "end_time": "2021-02-19T10:42:44.199100Z",
     "start_time": "2021-02-19T10:42:44.194149Z"
    },
    "deletable": false,
    "editable": false,
    "id": "ATy5tnMV4IWv",
    "nbgrader": {
     "cell_type": "code",
     "checksum": "f92b5c5a8c6c4b80652b94223209ab0b",
     "grade": true,
     "grade_id": "cell-b31c0f8d214b8bdf",
     "locked": true,
     "points": 0,
     "schema_version": 3,
     "solution": false,
     "task": false
    }
   },
   "outputs": [
    {
     "name": "stderr",
     "output_type": "stream",
     "text": [
      "<ipython-input-87-2f5bb1a63d99>:44: DeprecationWarning: Call to deprecated `__contains__` (Method will be removed in 4.0.0, use self.wv.__contains__() instead).\n",
      "  if token in self.model:\n",
      "<ipython-input-87-2f5bb1a63d99>:45: DeprecationWarning: Call to deprecated `__getitem__` (Method will be removed in 4.0.0, use self.wv.__getitem__() instead).\n",
      "  accum_vecs.append(self.model[token])\n"
     ]
    }
   ],
   "source": [
    "assert len(w2v.vectorize_query(\"report\")) == 100\n",
    "assert len(w2v.vectorize_query(\"this is a sentence that is not mellifluous\")) == 100\n"
   ]
  },
  {
   "cell_type": "markdown",
   "metadata": {
    "deletable": false,
    "editable": false,
    "id": "lP0VtCid4IWv",
    "nbgrader": {
     "cell_type": "markdown",
     "checksum": "8dfaabebcb06f308a7ca61fdc5d369e7",
     "grade": false,
     "grade_id": "cell-c2614fa067386384",
     "locked": true,
     "points": 8,
     "schema_version": 3,
     "solution": false,
     "task": true
    }
   },
   "source": [
    "\\#### Please do not change this. This cell is used for grading."
   ]
  },
  {
   "cell_type": "code",
   "execution_count": 89,
   "metadata": {
    "ExecuteTime": {
     "end_time": "2021-02-19T10:43:20.703873Z",
     "start_time": "2021-02-19T10:42:44.200095Z"
    },
    "id": "-aeBam5p4IWv"
   },
   "outputs": [
    {
     "name": "stderr",
     "output_type": "stream",
     "text": [
      "2021-02-19 11:42:44,207 : INFO : adding document #0 to Dictionary(0 unique tokens: [])\n",
      "2021-02-19 11:42:44,382 : INFO : built Dictionary(6204 unique tokens: ['-', 'algebra', 'intern', 'languag', 'preliminari']...) from 3204 documents (total 196845 corpus positions)\n",
      "2021-02-19 11:42:44,388 : INFO : discarding 4795 tokens: [('of', 2061), ('repeat', 8), ('glossari', 7), ('inspect', 8), ('the', 1794), ('uncol', 2), ('a', 1807), ('rung', 9), ('secant', 2), ('.', 1603)]...\n",
      "2021-02-19 11:42:44,389 : INFO : keeping 1409 tokens which were in no less than 10 and no more than 1602 (=50.0%) documents\n",
      "2021-02-19 11:42:44,392 : INFO : resulting dictionary: Dictionary(1409 unique tokens: ['-', 'algebra', 'intern', 'languag', 'preliminari']...)\n",
      "2021-02-19 11:42:45,128 : INFO : loading projection weights from C:\\Users\\Lenovo/gensim-data\\word2vec-google-news-300\\word2vec-google-news-300.gz\n",
      "2021-02-19 11:43:20,689 : INFO : loaded (3000000, 300) matrix from C:\\Users\\Lenovo/gensim-data\\word2vec-google-news-300\\word2vec-google-news-300.gz\n"
     ]
    },
    {
     "data": {
      "text/plain": [
       "[(0, -0.14257812),\n",
       " (1, -0.1640625),\n",
       " (2, -0.09033203),\n",
       " (3, -0.11230469),\n",
       " (4, 0.100097656),\n",
       " (5, -0.041259766),\n",
       " (6, 0.048828125),\n",
       " (7, -0.13671875),\n",
       " (8, 0.19628906),\n",
       " (9, -0.13476562),\n",
       " (10, -0.017578125),\n",
       " (11, 0.032226562),\n",
       " (12, 0.095214844),\n",
       " (13, -0.10595703),\n",
       " (14, -0.16992188),\n",
       " (15, 0.041015625),\n",
       " (16, -0.26367188),\n",
       " (17, -0.0063171387),\n",
       " (18, -0.17773438),\n",
       " (19, -0.24023438),\n",
       " (20, 0.3515625),\n",
       " (21, -0.012207031),\n",
       " (22, -0.16210938),\n",
       " (23, -0.12060547),\n",
       " (24, 0.04321289),\n",
       " (25, 0.10986328),\n",
       " (26, 0.052490234),\n",
       " (27, 0.17871094),\n",
       " (28, -0.14550781),\n",
       " (29, 0.13769531),\n",
       " (30, -0.08203125),\n",
       " (31, -0.28320312),\n",
       " (32, -0.10888672),\n",
       " (33, -0.2890625),\n",
       " (34, 0.072265625),\n",
       " (35, -0.04736328),\n",
       " (36, 0.040283203),\n",
       " (37, 0.067871094),\n",
       " (38, 0.11669922),\n",
       " (39, 0.000831604),\n",
       " (40, 0.068359375),\n",
       " (41, 0.12011719),\n",
       " (42, -0.088378906),\n",
       " (43, 0.33789062),\n",
       " (44, -0.044677734),\n",
       " (45, -0.030151367),\n",
       " (46, 0.0076904297),\n",
       " (47, -0.021118164),\n",
       " (48, -0.25390625),\n",
       " (49, 0.14941406),\n",
       " (50, 0.3984375),\n",
       " (51, 0.021606445),\n",
       " (52, -0.02319336),\n",
       " (53, 0.0063476562),\n",
       " (54, 0.008239746),\n",
       " (55, -0.16894531),\n",
       " (56, 0.037353516),\n",
       " (57, -0.06347656),\n",
       " (58, 0.1171875),\n",
       " (59, -0.1484375),\n",
       " (60, -0.07861328),\n",
       " (61, 0.36914062),\n",
       " (62, -0.22460938),\n",
       " (63, 0.17382812),\n",
       " (64, 0.0138549805),\n",
       " (65, 0.1875),\n",
       " (66, -0.10107422),\n",
       " (67, 0.037841797),\n",
       " (68, 0.0021209717),\n",
       " (69, -0.05126953),\n",
       " (70, 0.096191406),\n",
       " (71, -0.057128906),\n",
       " (72, 0.10595703),\n",
       " (73, -0.020996094),\n",
       " (74, 0.16113281),\n",
       " (75, 0.09765625),\n",
       " (76, 0.038330078),\n",
       " (77, 0.21972656),\n",
       " (78, 0.10644531),\n",
       " (79, 0.0859375),\n",
       " (80, 0.1796875),\n",
       " (81, -0.08300781),\n",
       " (82, -0.033203125),\n",
       " (83, 0.041015625),\n",
       " (84, -0.064941406),\n",
       " (85, 0.019897461),\n",
       " (86, 0.13378906),\n",
       " (87, -0.09765625),\n",
       " (88, -0.19335938),\n",
       " (89, -0.23535156),\n",
       " (90, 0.19042969),\n",
       " (91, 0.0024871826),\n",
       " (92, -0.01574707),\n",
       " (93, 0.032226562),\n",
       " (94, -0.21972656),\n",
       " (95, -0.091308594),\n",
       " (96, 0.021240234),\n",
       " (97, 0.15820312),\n",
       " (98, 0.29882812),\n",
       " (99, -0.328125),\n",
       " (100, 0.057373047),\n",
       " (101, -0.04638672),\n",
       " (102, 0.11328125),\n",
       " (103, -0.1015625),\n",
       " (104, 0.18066406),\n",
       " (105, -0.025146484),\n",
       " (106, -0.16601562),\n",
       " (107, -0.096191406),\n",
       " (108, 0.018798828),\n",
       " (109, -0.19433594),\n",
       " (110, 0.14941406),\n",
       " (111, -0.056640625),\n",
       " (112, -0.106933594),\n",
       " (113, -0.15039062),\n",
       " (114, -0.17578125),\n",
       " (115, 0.11279297),\n",
       " (116, 0.049316406),\n",
       " (117, 0.21972656),\n",
       " (118, 0.31835938),\n",
       " (119, 0.15722656),\n",
       " (120, -0.29296875),\n",
       " (121, 0.10498047),\n",
       " (122, -0.296875),\n",
       " (123, -0.013427734),\n",
       " (124, 0.09082031),\n",
       " (125, 0.012573242),\n",
       " (126, -0.051513672),\n",
       " (127, -0.12890625),\n",
       " (128, 0.014465332),\n",
       " (129, 0.12060547),\n",
       " (130, -0.10107422),\n",
       " (131, -0.111328125),\n",
       " (132, 0.063964844),\n",
       " (133, -0.052978516),\n",
       " (134, -0.04321289),\n",
       " (135, -0.012939453),\n",
       " (136, -0.02758789),\n",
       " (137, -0.09716797),\n",
       " (138, -0.20214844),\n",
       " (139, 0.123046875),\n",
       " (140, -0.04248047),\n",
       " (141, 0.17382812),\n",
       " (142, -0.013671875),\n",
       " (143, 0.1015625),\n",
       " (144, -0.0009384155),\n",
       " (145, -0.03564453),\n",
       " (146, 0.30078125),\n",
       " (147, -0.068359375),\n",
       " (148, -0.056152344),\n",
       " (149, 0.037597656),\n",
       " (150, 0.06591797),\n",
       " (151, 0.040283203),\n",
       " (152, 0.0119018555),\n",
       " (153, 0.096191406),\n",
       " (154, 0.3671875),\n",
       " (155, -0.27929688),\n",
       " (156, -0.052001953),\n",
       " (157, -0.106933594),\n",
       " (158, -0.13476562),\n",
       " (159, -0.046142578),\n",
       " (160, 0.25),\n",
       " (161, 0.0056762695),\n",
       " (162, -0.014404297),\n",
       " (163, -0.03100586),\n",
       " (164, -0.060302734),\n",
       " (165, 0.10595703),\n",
       " (166, 0.37890625),\n",
       " (167, 0.05883789),\n",
       " (168, 0.123046875),\n",
       " (169, -0.115234375),\n",
       " (170, 0.14941406),\n",
       " (171, -0.1640625),\n",
       " (172, -0.23339844),\n",
       " (173, -0.07763672),\n",
       " (174, 0.026733398),\n",
       " (175, -0.021118164),\n",
       " (176, 0.19433594),\n",
       " (177, -0.056152344),\n",
       " (178, -0.006439209),\n",
       " (179, -0.16992188),\n",
       " (180, -0.118652344),\n",
       " (181, -0.06738281),\n",
       " (182, -0.068847656),\n",
       " (183, -0.08691406),\n",
       " (184, -0.1015625),\n",
       " (185, 0.014160156),\n",
       " (186, -0.20117188),\n",
       " (187, 0.09814453),\n",
       " (188, -0.010253906),\n",
       " (189, 0.1875),\n",
       " (190, 0.19628906),\n",
       " (191, -0.22070312),\n",
       " (192, -0.19628906),\n",
       " (193, -0.07373047),\n",
       " (194, 0.06640625),\n",
       " (195, -0.13378906),\n",
       " (196, 0.18359375),\n",
       " (197, -0.20019531),\n",
       " (198, 0.19824219),\n",
       " (199, 0.05029297),\n",
       " (200, 0.029907227),\n",
       " (201, 0.017700195),\n",
       " (202, -0.19335938),\n",
       " (203, -0.096191406),\n",
       " (204, -0.10253906),\n",
       " (205, 0.21289062),\n",
       " (206, -0.029907227),\n",
       " (207, 0.14355469),\n",
       " (208, 0.041015625),\n",
       " (209, -0.21191406),\n",
       " (210, 0.20800781),\n",
       " (211, 0.13769531),\n",
       " (212, -0.01965332),\n",
       " (213, 0.014953613),\n",
       " (214, -0.09765625),\n",
       " (215, 0.24316406),\n",
       " (216, 0.080078125),\n",
       " (217, 0.08251953),\n",
       " (218, 0.09863281),\n",
       " (219, 0.056884766),\n",
       " (220, 0.04248047),\n",
       " (221, 0.068847656),\n",
       " (222, -0.03540039),\n",
       " (223, -0.076171875),\n",
       " (224, -0.00016117096),\n",
       " (225, -0.07519531),\n",
       " (226, 0.22460938),\n",
       " (227, 0.15136719),\n",
       " (228, 0.10058594),\n",
       " (229, 0.10986328),\n",
       " (230, 0.023803711),\n",
       " (231, 0.088378906),\n",
       " (232, 0.061767578),\n",
       " (233, -0.107910156),\n",
       " (234, 0.06225586),\n",
       " (235, 0.0034332275),\n",
       " (236, 0.080566406),\n",
       " (237, 0.106933594),\n",
       " (238, 0.08886719),\n",
       " (239, -0.23730469),\n",
       " (240, 0.064941406),\n",
       " (241, 0.010192871),\n",
       " (242, -0.088378906),\n",
       " (243, -0.33203125),\n",
       " (244, 0.0046691895),\n",
       " (245, 0.21289062),\n",
       " (246, 0.0859375),\n",
       " (247, 0.020385742),\n",
       " (248, 0.045654297),\n",
       " (249, 0.1484375),\n",
       " (250, 0.11816406),\n",
       " (251, 0.055664062),\n",
       " (252, -0.17285156),\n",
       " (253, -0.125),\n",
       " (254, -0.025390625),\n",
       " (255, -0.31835938),\n",
       " (256, 0.03112793),\n",
       " (257, 0.0859375),\n",
       " (258, -0.041992188),\n",
       " (259, 0.15625),\n",
       " (260, 0.16113281),\n",
       " (261, 0.19824219),\n",
       " (262, -0.100097656),\n",
       " (263, 0.203125),\n",
       " (264, 0.12890625),\n",
       " (265, 0.23339844),\n",
       " (266, -0.26757812),\n",
       " (267, 0.05517578),\n",
       " (268, 0.048828125),\n",
       " (269, 0.072265625),\n",
       " (270, 0.24414062),\n",
       " (271, 0.24414062),\n",
       " (272, 0.056884766),\n",
       " (273, -0.0546875),\n",
       " (274, -0.033691406),\n",
       " (275, -0.12060547),\n",
       " (276, 0.03491211),\n",
       " (277, -0.14550781),\n",
       " (278, 0.087402344),\n",
       " (279, -0.08300781),\n",
       " (280, 0.017211914),\n",
       " (281, 0.14355469),\n",
       " (282, -0.122558594),\n",
       " (283, 0.1796875),\n",
       " (284, 0.13085938),\n",
       " (285, -0.16503906),\n",
       " (286, 0.012756348),\n",
       " (287, 0.16015625),\n",
       " (288, -0.03112793),\n",
       " (289, 0.08203125),\n",
       " (290, 0.17382812),\n",
       " (291, -0.16796875),\n",
       " (292, 0.13085938),\n",
       " (293, 0.08544922),\n",
       " (294, -0.2109375),\n",
       " (295, -0.13085938),\n",
       " (296, -0.028930664),\n",
       " (297, -0.10546875),\n",
       " (298, 0.084472656),\n",
       " (299, -0.14160156)]"
      ]
     },
     "execution_count": 89,
     "metadata": {},
     "output_type": "execute_result"
    }
   ],
   "source": [
    "w2v_pretrained = W2VPretrainedRetrievalModel(doc_repr_2)\n",
    "w2v_pretrained.train_model()\n",
    "\n",
    "# you can now get an W2V vector for a given query in the following way:\n",
    "w2v_pretrained.vectorize_query(\"report\")"
   ]
  },
  {
   "cell_type": "code",
   "execution_count": 90,
   "metadata": {
    "ExecuteTime": {
     "end_time": "2021-02-19T10:43:20.708528Z",
     "start_time": "2021-02-19T10:43:20.704586Z"
    },
    "deletable": false,
    "editable": false,
    "id": "_0ifhcln4IWv",
    "nbgrader": {
     "cell_type": "code",
     "checksum": "0822845afb5eafe5ddb1ffeaa4f4942a",
     "grade": true,
     "grade_id": "cell-1b1466f8ce516f42",
     "locked": true,
     "points": 2,
     "schema_version": 3,
     "solution": false,
     "task": false
    }
   },
   "outputs": [
    {
     "name": "stdout",
     "output_type": "stream",
     "text": [
      "300\n"
     ]
    }
   ],
   "source": [
    "##### Function check\n",
    "\n",
    "print(len(w2v_pretrained.vectorize_query(\"report\")))\n",
    "#####"
   ]
  },
  {
   "cell_type": "code",
   "execution_count": 91,
   "metadata": {
    "ExecuteTime": {
     "end_time": "2021-02-19T10:43:21.724605Z",
     "start_time": "2021-02-19T10:43:20.709525Z"
    },
    "id": "VCpO-xcU4IWv"
   },
   "outputs": [
    {
     "name": "stderr",
     "output_type": "stream",
     "text": [
      "<ipython-input-87-2f5bb1a63d99>:26: DeprecationWarning: Call to deprecated `__contains__` (Method will be removed in 4.0.0, use self.wv.__contains__() instead).\n",
      "  if token in self.model:\n",
      "<ipython-input-87-2f5bb1a63d99>:27: DeprecationWarning: Call to deprecated `__getitem__` (Method will be removed in 4.0.0, use self.wv.__getitem__() instead).\n",
      "  accum_vecs.append(self.model[token])\n"
     ]
    },
    {
     "data": {
      "application/vnd.jupyter.widget-view+json": {
       "model_id": "5e4c00f367634a76ac51fb93534c9bf7",
       "version_major": 2,
       "version_minor": 0
      },
      "text/plain": [
       "Text(value='', description='Search Bar')"
      ]
     },
     "metadata": {},
     "output_type": "display_data"
    }
   ],
   "source": [
    "drm_w2v = DenseRetrievalRanker(w2v, cosine_sim)\n",
    "\n",
    "# test your LDA model\n",
    "search_fn = drm_w2v.search\n",
    "\n",
    "text = widgets.Text(description=\"Search Bar\", width=200)\n",
    "display(text)\n",
    "\n",
    "\n",
    "text.on_submit(handle_submit_2)"
   ]
  },
  {
   "cell_type": "code",
   "execution_count": 92,
   "metadata": {
    "ExecuteTime": {
     "end_time": "2021-02-19T10:43:22.136047Z",
     "start_time": "2021-02-19T10:43:21.725603Z"
    },
    "id": "7wyn-qfY4IWv"
   },
   "outputs": [
    {
     "name": "stderr",
     "output_type": "stream",
     "text": [
      "C:\\Users\\Lenovo\\anaconda3\\lib\\site-packages\\numpy\\core\\fromnumeric.py:3372: RuntimeWarning: Mean of empty slice.\n",
      "  return _methods._mean(a, axis=axis, dtype=dtype,\n",
      "C:\\Users\\Lenovo\\anaconda3\\lib\\site-packages\\numpy\\core\\_methods.py:170: RuntimeWarning: invalid value encountered in double_scalars\n",
      "  ret = ret.dtype.type(ret / rcount)\n"
     ]
    },
    {
     "data": {
      "application/vnd.jupyter.widget-view+json": {
       "model_id": "e6ca8b0148a24c569548ddad95bd6908",
       "version_major": 2,
       "version_minor": 0
      },
      "text/plain": [
       "Text(value='', description='Search Bar')"
      ]
     },
     "metadata": {},
     "output_type": "display_data"
    }
   ],
   "source": [
    "drm_w2v_pretrained = DenseRetrievalRanker(w2v_pretrained, cosine_sim)\n",
    "\n",
    "# test your LDA model\n",
    "search_fn = drm_w2v_pretrained.search\n",
    "\n",
    "text = widgets.Text(description=\"Search Bar\", width=200)\n",
    "display(text)\n",
    "\n",
    "\n",
    "text.on_submit(handle_submit_2)"
   ]
  },
  {
   "cell_type": "markdown",
   "metadata": {
    "deletable": false,
    "editable": false,
    "id": "giJFuUld4IWv",
    "nbgrader": {
     "cell_type": "markdown",
     "checksum": "51b778984fd60757974f51047c61eb15",
     "grade": false,
     "grade_id": "cell-b92f701cbc706108",
     "locked": true,
     "schema_version": 3,
     "solution": false,
     "task": false
    }
   },
   "source": [
    "**Implementation (10 points):**\n",
    "For Doc2Vec, you will need to create a list of `TaggedDocument` instead of using the `self.corpus` or `self.documents` variable. Use the document id as the 'tag'.\n",
    "  "
   ]
  },
  {
   "cell_type": "code",
   "execution_count": 93,
   "metadata": {
    "ExecuteTime": {
     "end_time": "2021-02-19T10:43:27.972102Z",
     "start_time": "2021-02-19T10:43:22.137044Z"
    },
    "deletable": false,
    "id": "_Ie4aqXa4IWw",
    "nbgrader": {
     "cell_type": "code",
     "checksum": "1f60fdeb97febb7f4a6fd5bf109aac20",
     "grade": false,
     "grade_id": "cell-680facdcc98a19ab",
     "locked": false,
     "schema_version": 3,
     "solution": true,
     "task": false
    },
    "tags": []
   },
   "outputs": [
    {
     "name": "stderr",
     "output_type": "stream",
     "text": [
      "2021-02-19 11:43:22,141 : INFO : adding document #0 to Dictionary(0 unique tokens: [])\n",
      "2021-02-19 11:43:22,283 : INFO : built Dictionary(6204 unique tokens: ['-', 'algebra', 'intern', 'languag', 'preliminari']...) from 3204 documents (total 196845 corpus positions)\n",
      "2021-02-19 11:43:22,284 : INFO : discarding 4795 tokens: [('of', 2061), ('repeat', 8), ('glossari', 7), ('inspect', 8), ('the', 1794), ('uncol', 2), ('a', 1807), ('rung', 9), ('secant', 2), ('.', 1603)]...\n",
      "2021-02-19 11:43:22,284 : INFO : keeping 1409 tokens which were in no less than 10 and no more than 1602 (=50.0%) documents\n",
      "2021-02-19 11:43:22,290 : INFO : resulting dictionary: Dictionary(1409 unique tokens: ['-', 'algebra', 'intern', 'languag', 'preliminari']...)\n",
      "2021-02-19 11:43:22,374 : INFO : collecting all words and their counts\n",
      "2021-02-19 11:43:22,375 : INFO : PROGRESS: at example #0, processed 0 words (0/s), 0 word types, 0 tags\n",
      "2021-02-19 11:43:22,403 : INFO : collected 6204 word types and 3205 unique tags from a corpus of 3204 examples and 196845 words\n",
      "2021-02-19 11:43:22,404 : INFO : Loading a fresh vocabulary\n",
      "2021-02-19 11:43:22,413 : INFO : effective_min_count=1 retains 6204 unique words (100% of original 6204, drops 0)\n",
      "2021-02-19 11:43:22,413 : INFO : effective_min_count=1 leaves 196845 word corpus (100% of original 196845, drops 0)\n",
      "2021-02-19 11:43:22,429 : INFO : deleting the raw counts dictionary of 6204 items\n",
      "2021-02-19 11:43:22,429 : INFO : sample=0.001 downsamples 42 most-common words\n",
      "2021-02-19 11:43:22,430 : INFO : downsampling leaves estimated 136742 word corpus (69.5% of prior 196845)\n",
      "2021-02-19 11:43:22,441 : INFO : estimated required memory for 6204 words and 100 dimensions: 9347200 bytes\n",
      "2021-02-19 11:43:22,441 : INFO : resetting layer weights\n",
      "2021-02-19 11:43:23,880 : INFO : training model with 3 workers on 6204 vocabulary and 100 features, using sg=0 hs=0 sample=0.001 negative=5 window=5\n",
      "2021-02-19 11:43:24,043 : INFO : worker thread finished; awaiting finish of 2 more threads\n",
      "2021-02-19 11:43:24,052 : INFO : worker thread finished; awaiting finish of 1 more threads\n",
      "2021-02-19 11:43:24,052 : INFO : worker thread finished; awaiting finish of 0 more threads\n",
      "2021-02-19 11:43:24,053 : INFO : EPOCH - 1 : training on 196845 raw words (139906 effective words) took 0.2s, 832191 effective words/s\n",
      "2021-02-19 11:43:24,242 : INFO : worker thread finished; awaiting finish of 2 more threads\n",
      "2021-02-19 11:43:24,256 : INFO : worker thread finished; awaiting finish of 1 more threads\n",
      "2021-02-19 11:43:24,258 : INFO : worker thread finished; awaiting finish of 0 more threads\n",
      "2021-02-19 11:43:24,258 : INFO : EPOCH - 2 : training on 196845 raw words (139954 effective words) took 0.2s, 697507 effective words/s\n",
      "2021-02-19 11:43:24,443 : INFO : worker thread finished; awaiting finish of 2 more threads\n",
      "2021-02-19 11:43:24,456 : INFO : worker thread finished; awaiting finish of 1 more threads\n",
      "2021-02-19 11:43:24,457 : INFO : worker thread finished; awaiting finish of 0 more threads\n",
      "2021-02-19 11:43:24,458 : INFO : EPOCH - 3 : training on 196845 raw words (139994 effective words) took 0.2s, 716577 effective words/s\n",
      "2021-02-19 11:43:24,649 : INFO : worker thread finished; awaiting finish of 2 more threads\n",
      "2021-02-19 11:43:24,660 : INFO : worker thread finished; awaiting finish of 1 more threads\n",
      "2021-02-19 11:43:24,660 : INFO : worker thread finished; awaiting finish of 0 more threads\n",
      "2021-02-19 11:43:24,661 : INFO : EPOCH - 4 : training on 196845 raw words (140027 effective words) took 0.2s, 708662 effective words/s\n",
      "2021-02-19 11:43:24,853 : INFO : worker thread finished; awaiting finish of 2 more threads\n",
      "2021-02-19 11:43:24,866 : INFO : worker thread finished; awaiting finish of 1 more threads\n",
      "2021-02-19 11:43:24,866 : INFO : worker thread finished; awaiting finish of 0 more threads\n",
      "2021-02-19 11:43:24,867 : INFO : EPOCH - 5 : training on 196845 raw words (139856 effective words) took 0.2s, 698057 effective words/s\n",
      "2021-02-19 11:43:25,047 : INFO : worker thread finished; awaiting finish of 2 more threads\n",
      "2021-02-19 11:43:25,070 : INFO : worker thread finished; awaiting finish of 1 more threads\n",
      "2021-02-19 11:43:25,070 : INFO : worker thread finished; awaiting finish of 0 more threads\n",
      "2021-02-19 11:43:25,070 : INFO : EPOCH - 6 : training on 196845 raw words (140015 effective words) took 0.2s, 691239 effective words/s\n",
      "2021-02-19 11:43:25,262 : INFO : worker thread finished; awaiting finish of 2 more threads\n",
      "2021-02-19 11:43:25,276 : INFO : worker thread finished; awaiting finish of 1 more threads\n",
      "2021-02-19 11:43:25,278 : INFO : worker thread finished; awaiting finish of 0 more threads\n",
      "2021-02-19 11:43:25,279 : INFO : EPOCH - 7 : training on 196845 raw words (140257 effective words) took 0.2s, 700812 effective words/s\n",
      "2021-02-19 11:43:25,467 : INFO : worker thread finished; awaiting finish of 2 more threads\n",
      "2021-02-19 11:43:25,476 : INFO : worker thread finished; awaiting finish of 1 more threads\n",
      "2021-02-19 11:43:25,476 : INFO : worker thread finished; awaiting finish of 0 more threads\n",
      "2021-02-19 11:43:25,485 : INFO : EPOCH - 8 : training on 196845 raw words (139815 effective words) took 0.2s, 695032 effective words/s\n",
      "2021-02-19 11:43:25,684 : INFO : worker thread finished; awaiting finish of 2 more threads\n",
      "2021-02-19 11:43:25,689 : INFO : worker thread finished; awaiting finish of 1 more threads\n",
      "2021-02-19 11:43:25,690 : INFO : worker thread finished; awaiting finish of 0 more threads\n",
      "2021-02-19 11:43:25,690 : INFO : EPOCH - 9 : training on 196845 raw words (139893 effective words) took 0.2s, 698079 effective words/s\n",
      "2021-02-19 11:43:25,883 : INFO : worker thread finished; awaiting finish of 2 more threads\n",
      "2021-02-19 11:43:25,895 : INFO : worker thread finished; awaiting finish of 1 more threads\n",
      "2021-02-19 11:43:25,897 : INFO : worker thread finished; awaiting finish of 0 more threads\n",
      "2021-02-19 11:43:25,898 : INFO : EPOCH - 10 : training on 196845 raw words (140075 effective words) took 0.2s, 689027 effective words/s\n",
      "2021-02-19 11:43:26,088 : INFO : worker thread finished; awaiting finish of 2 more threads\n",
      "2021-02-19 11:43:26,102 : INFO : worker thread finished; awaiting finish of 1 more threads\n",
      "2021-02-19 11:43:26,104 : INFO : worker thread finished; awaiting finish of 0 more threads\n",
      "2021-02-19 11:43:26,104 : INFO : EPOCH - 11 : training on 196845 raw words (140001 effective words) took 0.2s, 692880 effective words/s\n",
      "2021-02-19 11:43:26,296 : INFO : worker thread finished; awaiting finish of 2 more threads\n",
      "2021-02-19 11:43:26,311 : INFO : worker thread finished; awaiting finish of 1 more threads\n",
      "2021-02-19 11:43:26,312 : INFO : worker thread finished; awaiting finish of 0 more threads\n",
      "2021-02-19 11:43:26,312 : INFO : EPOCH - 12 : training on 196845 raw words (140018 effective words) took 0.2s, 692469 effective words/s\n",
      "2021-02-19 11:43:26,502 : INFO : worker thread finished; awaiting finish of 2 more threads\n",
      "2021-02-19 11:43:26,517 : INFO : worker thread finished; awaiting finish of 1 more threads\n",
      "2021-02-19 11:43:26,518 : INFO : worker thread finished; awaiting finish of 0 more threads\n",
      "2021-02-19 11:43:26,518 : INFO : EPOCH - 13 : training on 196845 raw words (139975 effective words) took 0.2s, 692713 effective words/s\n",
      "2021-02-19 11:43:26,708 : INFO : worker thread finished; awaiting finish of 2 more threads\n",
      "2021-02-19 11:43:26,724 : INFO : worker thread finished; awaiting finish of 1 more threads\n",
      "2021-02-19 11:43:26,725 : INFO : worker thread finished; awaiting finish of 0 more threads\n",
      "2021-02-19 11:43:26,726 : INFO : EPOCH - 14 : training on 196845 raw words (139948 effective words) took 0.2s, 685329 effective words/s\n",
      "2021-02-19 11:43:26,914 : INFO : worker thread finished; awaiting finish of 2 more threads\n",
      "2021-02-19 11:43:26,929 : INFO : worker thread finished; awaiting finish of 1 more threads\n",
      "2021-02-19 11:43:26,930 : INFO : worker thread finished; awaiting finish of 0 more threads\n",
      "2021-02-19 11:43:26,930 : INFO : EPOCH - 15 : training on 196845 raw words (140080 effective words) took 0.2s, 696875 effective words/s\n",
      "2021-02-19 11:43:27,121 : INFO : worker thread finished; awaiting finish of 2 more threads\n",
      "2021-02-19 11:43:27,137 : INFO : worker thread finished; awaiting finish of 1 more threads\n"
     ]
    },
    {
     "name": "stderr",
     "output_type": "stream",
     "text": [
      "2021-02-19 11:43:27,139 : INFO : worker thread finished; awaiting finish of 0 more threads\n",
      "2021-02-19 11:43:27,140 : INFO : EPOCH - 16 : training on 196845 raw words (139940 effective words) took 0.2s, 680739 effective words/s\n",
      "2021-02-19 11:43:27,332 : INFO : worker thread finished; awaiting finish of 2 more threads\n",
      "2021-02-19 11:43:27,345 : INFO : worker thread finished; awaiting finish of 1 more threads\n",
      "2021-02-19 11:43:27,347 : INFO : worker thread finished; awaiting finish of 0 more threads\n",
      "2021-02-19 11:43:27,347 : INFO : EPOCH - 17 : training on 196845 raw words (139939 effective words) took 0.2s, 684842 effective words/s\n",
      "2021-02-19 11:43:27,522 : INFO : worker thread finished; awaiting finish of 2 more threads\n",
      "2021-02-19 11:43:27,538 : INFO : worker thread finished; awaiting finish of 1 more threads\n",
      "2021-02-19 11:43:27,538 : INFO : worker thread finished; awaiting finish of 0 more threads\n",
      "2021-02-19 11:43:27,552 : INFO : EPOCH - 18 : training on 196845 raw words (140101 effective words) took 0.2s, 699032 effective words/s\n",
      "2021-02-19 11:43:27,745 : INFO : worker thread finished; awaiting finish of 2 more threads\n",
      "2021-02-19 11:43:27,754 : INFO : worker thread finished; awaiting finish of 1 more threads\n",
      "2021-02-19 11:43:27,756 : INFO : worker thread finished; awaiting finish of 0 more threads\n",
      "2021-02-19 11:43:27,757 : INFO : EPOCH - 19 : training on 196845 raw words (139875 effective words) took 0.2s, 694809 effective words/s\n",
      "2021-02-19 11:43:27,945 : INFO : worker thread finished; awaiting finish of 2 more threads\n",
      "2021-02-19 11:43:27,957 : INFO : worker thread finished; awaiting finish of 1 more threads\n",
      "2021-02-19 11:43:27,959 : INFO : worker thread finished; awaiting finish of 0 more threads\n",
      "2021-02-19 11:43:27,961 : INFO : EPOCH - 20 : training on 196845 raw words (140220 effective words) took 0.2s, 699354 effective words/s\n",
      "2021-02-19 11:43:27,961 : INFO : training on a 3936900 raw words (2799889 effective words) took 4.1s, 686300 effective words/s\n"
     ]
    },
    {
     "data": {
      "text/plain": [
       "[(0, 0.08511245),\n",
       " (1, -0.13498515),\n",
       " (2, 0.0952538),\n",
       " (3, -0.011200808),\n",
       " (4, 0.021789376),\n",
       " (5, -0.023548057),\n",
       " (6, 0.07347319),\n",
       " (7, 0.18853983),\n",
       " (8, -0.026181228),\n",
       " (9, -0.10009168),\n",
       " (10, -0.08861366),\n",
       " (11, 0.054451484),\n",
       " (12, 0.030578079),\n",
       " (13, -0.05611226),\n",
       " (14, -0.01857685),\n",
       " (15, -0.015171219),\n",
       " (16, -0.02976372),\n",
       " (17, 0.039954748),\n",
       " (18, -0.07754054),\n",
       " (19, -0.00074132945),\n",
       " (20, -0.021379504),\n",
       " (21, -0.12201671),\n",
       " (22, 0.019874897),\n",
       " (23, -0.06838851),\n",
       " (24, -0.033284225),\n",
       " (25, -0.07454178),\n",
       " (26, 0.0568531),\n",
       " (27, -0.013382283),\n",
       " (28, -0.07352608),\n",
       " (29, -0.005386763),\n",
       " (30, -0.03746747),\n",
       " (31, 0.039984234),\n",
       " (32, -0.054322507),\n",
       " (33, -0.10996804),\n",
       " (34, -0.016456041),\n",
       " (35, -0.12664771),\n",
       " (36, -0.06285555),\n",
       " (37, 0.07572257),\n",
       " (38, -0.064437434),\n",
       " (39, 0.050683603),\n",
       " (40, -0.013846579),\n",
       " (41, 0.03763084),\n",
       " (42, 0.043217827),\n",
       " (43, -0.017700918),\n",
       " (44, 0.049607705),\n",
       " (45, -0.055436086),\n",
       " (46, 0.096791886),\n",
       " (47, 0.0050866557),\n",
       " (48, -0.12198547),\n",
       " (49, 0.04200169),\n",
       " (50, -0.0032336873),\n",
       " (51, 0.07628397),\n",
       " (52, 0.021876317),\n",
       " (53, -0.07234368),\n",
       " (54, -0.018453162),\n",
       " (55, 0.021876397),\n",
       " (56, -0.016898151),\n",
       " (57, 0.042210206),\n",
       " (58, -0.07189988),\n",
       " (59, 0.05016568),\n",
       " (60, -0.020792274),\n",
       " (61, -0.08792008),\n",
       " (62, 0.12635645),\n",
       " (63, -0.023093706),\n",
       " (64, 0.039020367),\n",
       " (65, -0.035704102),\n",
       " (66, 0.08244362),\n",
       " (67, -0.094254375),\n",
       " (68, -0.014783033),\n",
       " (69, -0.0537935),\n",
       " (70, -0.047820646),\n",
       " (71, -0.07208525),\n",
       " (72, -0.004878267),\n",
       " (73, -0.0070432406),\n",
       " (74, -0.08478147),\n",
       " (75, -0.039299715),\n",
       " (76, -0.082712285),\n",
       " (77, 0.014897501),\n",
       " (78, 0.0065213214),\n",
       " (79, -0.07129555),\n",
       " (80, -0.0414633),\n",
       " (81, 0.034606542),\n",
       " (82, 0.0117196785),\n",
       " (83, 0.030078404),\n",
       " (84, 0.0027998362),\n",
       " (85, 0.111396015),\n",
       " (86, 0.026071629),\n",
       " (87, -0.07686325),\n",
       " (88, 0.03455123),\n",
       " (89, -0.039617468),\n",
       " (90, -0.05981045),\n",
       " (91, -0.0948802),\n",
       " (92, -0.027859095),\n",
       " (93, 0.111666195),\n",
       " (94, 0.13520256),\n",
       " (95, 0.040606134),\n",
       " (96, 0.05312954),\n",
       " (97, 0.04068146),\n",
       " (98, 0.012507859),\n",
       " (99, 0.027902238)]"
      ]
     },
     "execution_count": 93,
     "metadata": {},
     "output_type": "execute_result"
    }
   ],
   "source": [
    "# TODO: Implement this! (10 points)\n",
    "class D2VRetrievalModel(VectorSpaceRetrievalModel):\n",
    "    def __init__(self, doc_repr):\n",
    "        super().__init__(doc_repr)\n",
    "        \n",
    "        self.vector_size= 100\n",
    "        self.min_count = 1\n",
    "        self.epochs = 20\n",
    "        \n",
    "        # YOUR CODE HERE\n",
    "        self.tagged_docs = [TaggedDocument(doc, [int(doc_id)]) for doc_id, doc in self.doc_repr]\n",
    "\n",
    "    def train_model(self):\n",
    "        # YOUR CODE HERE\n",
    "        self.model = Doc2Vec(self.tagged_docs, vector_size=self.vector_size, min_count=self.min_count, epochs=self.epochs)\n",
    "    \n",
    "    def vectorize_documents(self):\n",
    "        \"\"\"\n",
    "            Returns a doc_id -> vector dictionary\n",
    "        \"\"\"\n",
    "        # YOUR CODE HERE\n",
    "        vectors = {}\n",
    "        for (doc_id, _) in self.doc_repr:\n",
    "            vectors[doc_id] = list(zip(range(self.vector_size), self.model[int(doc_id)]))\n",
    "        return vectors\n",
    "\n",
    "    def vectorize_query(self, query): \n",
    "        query = process_text(query, **config_2)\n",
    "        # YOUR CODE HERE\n",
    "        # Here we just infer the vector for the query.\n",
    "        return list(zip(range(self.vector_size), self.model.infer_vector(query)))\n",
    "        \n",
    "d2v = D2VRetrievalModel(doc_repr_2)\n",
    "d2v.train_model()\n",
    "\n",
    "\n",
    "# # you can now get an LSI vector for a given query in the following way:\n",
    "d2v.vectorize_query(\"report\")"
   ]
  },
  {
   "cell_type": "code",
   "execution_count": 94,
   "metadata": {
    "ExecuteTime": {
     "end_time": "2021-02-19T10:43:27.985768Z",
     "start_time": "2021-02-19T10:43:27.973226Z"
    },
    "deletable": false,
    "editable": false,
    "id": "PES2gma44IWw",
    "nbgrader": {
     "cell_type": "code",
     "checksum": "e83a363a9d4f136efbdde1426a83925e",
     "grade": true,
     "grade_id": "cell-5e2c5e0c9a2e8cb5",
     "locked": true,
     "points": 0,
     "schema_version": 3,
     "solution": false,
     "task": false
    }
   },
   "outputs": [],
   "source": [
    "#### Please do not change this. This cell is used for grading."
   ]
  },
  {
   "cell_type": "markdown",
   "metadata": {
    "deletable": false,
    "editable": false,
    "id": "uCHYfnTf4IWw",
    "nbgrader": {
     "cell_type": "markdown",
     "checksum": "5bb46bf6b9be1e0ca66f0b0bc6260ecb",
     "grade": false,
     "grade_id": "cell-8a49d414f798a595",
     "locked": true,
     "points": 10,
     "schema_version": 3,
     "solution": false,
     "task": true
    }
   },
   "source": [
    "\\#### Please do not change this. This cell is used for grading."
   ]
  },
  {
   "cell_type": "code",
   "execution_count": 95,
   "metadata": {
    "ExecuteTime": {
     "end_time": "2021-02-19T10:43:28.046305Z",
     "start_time": "2021-02-19T10:43:27.986800Z"
    },
    "id": "eceopG-Y4IWw",
    "tags": []
   },
   "outputs": [
    {
     "data": {
      "application/vnd.jupyter.widget-view+json": {
       "model_id": "4935374f7e7d42b7a001b2882a75d26d",
       "version_major": 2,
       "version_minor": 0
      },
      "text/plain": [
       "Text(value='', description='Search Bar')"
      ]
     },
     "metadata": {},
     "output_type": "display_data"
    }
   ],
   "source": [
    "drm_d2v = DenseRetrievalRanker(d2v, cosine_sim)\n",
    "\n",
    "# test your LDA model\n",
    "search_fn = drm_d2v.search\n",
    "\n",
    "text = widgets.Text(description=\"Search Bar\", width=200)\n",
    "display(text)\n",
    "\n",
    "\n",
    "text.on_submit(handle_submit_2)"
   ]
  },
  {
   "cell_type": "markdown",
   "metadata": {
    "deletable": false,
    "editable": false,
    "id": "uJBmD00Y4IWw",
    "nbgrader": {
     "cell_type": "markdown",
     "checksum": "363ec36c1d03d9f9e1c2045a6e193c14",
     "grade": false,
     "grade_id": "cell-3529ae29eece7b97",
     "locked": true,
     "schema_version": 3,
     "solution": false,
     "task": false
    }
   },
   "source": [
    "---\n",
    "## Section 9: Re-ranking (10 points) <a class=\"anchor\" id=\"reranking\"></a>\n",
    "\n",
    "[Back to Part 2](#part2)\n",
    "\n",
    "To motivate the re-ranking perspective (i.e retrieve with lexical method + rerank with a semantic method), let's search using semantic methods and compare it to BM25's performance, along with their runtime:\n"
   ]
  },
  {
   "cell_type": "code",
   "execution_count": 96,
   "metadata": {
    "ExecuteTime": {
     "end_time": "2021-02-19T10:44:50.866956Z",
     "start_time": "2021-02-19T10:43:28.047294Z"
    },
    "deletable": false,
    "editable": false,
    "id": "iO8Q3KWc4IWw",
    "nbgrader": {
     "cell_type": "code",
     "checksum": "5755f70e3eb28abc65d14d80125338af",
     "grade": false,
     "grade_id": "cell-f8f43bf5ae383128",
     "locked": true,
     "schema_version": 3,
     "solution": false,
     "task": false
    }
   },
   "outputs": [
    {
     "name": "stdout",
     "output_type": "stream",
     "text": [
      "BM25: \n",
      "719 µs ± 92.8 µs per loop (mean ± std. dev. of 7 runs, 1000 loops each)\n",
      "LSI: \n",
      "378 ms ± 1.08 ms per loop (mean ± std. dev. of 7 runs, 1 loop each)\n",
      "LDA: \n",
      "140 ms ± 674 µs per loop (mean ± std. dev. of 7 runs, 10 loops each)\n",
      "W2V: \n"
     ]
    },
    {
     "name": "stderr",
     "output_type": "stream",
     "text": [
      "<ipython-input-87-2f5bb1a63d99>:44: DeprecationWarning: Call to deprecated `__contains__` (Method will be removed in 4.0.0, use self.wv.__contains__() instead).\n",
      "  if token in self.model:\n",
      "<ipython-input-87-2f5bb1a63d99>:45: DeprecationWarning: Call to deprecated `__getitem__` (Method will be removed in 4.0.0, use self.wv.__getitem__() instead).\n",
      "  accum_vecs.append(self.model[token])\n"
     ]
    },
    {
     "name": "stdout",
     "output_type": "stream",
     "text": [
      "1.57 s ± 16.1 ms per loop (mean ± std. dev. of 7 runs, 1 loop each)\n",
      "W2V(Pretrained): \n",
      "4.7 s ± 138 ms per loop (mean ± std. dev. of 7 runs, 1 loop each)\n",
      "D2V:\n",
      "1.54 s ± 11.5 ms per loop (mean ± std. dev. of 7 runs, 1 loop each)\n"
     ]
    }
   ],
   "source": [
    "query = \"algebraic functions\"\n",
    "print(\"BM25: \")\n",
    "%timeit bm25_search(query, 2)\n",
    "print(\"LSI: \")\n",
    "%timeit drm_lsi.search(query)\n",
    "print(\"LDA: \")\n",
    "%timeit drm_lda.search(query)\n",
    "print(\"W2V: \")\n",
    "%timeit drm_w2v.search(query)\n",
    "print(\"W2V(Pretrained): \")\n",
    "%timeit drm_w2v_pretrained.search(query)\n",
    "print(\"D2V:\")\n",
    "%timeit drm_d2v.search(query)"
   ]
  },
  {
   "cell_type": "markdown",
   "metadata": {
    "deletable": false,
    "editable": false,
    "id": "oBnOArQC4IWx",
    "nbgrader": {
     "cell_type": "markdown",
     "checksum": "ae398da0a8c23c95bcbb0023b7ec6f34",
     "grade": false,
     "grade_id": "cell-db5ff09f97841af7",
     "locked": true,
     "schema_version": 3,
     "solution": false,
     "task": false
    }
   },
   "source": [
    "---\n",
    "\n",
    "**Implementation (10 points):**\n",
    "Re-ranking involves retrieving a small set of documents using simple but fast methods like BM25 and then re-ranking them with the aid of semantic methods such as LDA or LSI. Implement the following class, which takes in an `initial_retrieval_fn` - the initial retrieval function and `vsrm` - an instance of the `VectorSpaceRetrievalModel` class (i.e LSI/LDA) as input. The search function should first retrieve an initial list of K documents, and then these documents are re-ranked using a semantic method. This not only makes retrieval faster, but semantic methods perform poorly when used in isolation, as you will find out."
   ]
  },
  {
   "cell_type": "code",
   "execution_count": 97,
   "metadata": {
    "ExecuteTime": {
     "end_time": "2021-02-19T10:44:50.873947Z",
     "start_time": "2021-02-19T10:44:50.867912Z"
    },
    "deletable": false,
    "id": "Uxl8iQ1q4IWx",
    "nbgrader": {
     "cell_type": "code",
     "checksum": "63b6b05a676a2ae3f08d8bed1bc59428",
     "grade": false,
     "grade_id": "cell-5bf47600d1a0c507",
     "locked": false,
     "schema_version": 3,
     "solution": true,
     "task": false
    }
   },
   "outputs": [],
   "source": [
    "# TODO: Implement this! (10 points)\n",
    "class DenseRerankingModel:\n",
    "    def __init__(self, initial_retrieval_fn, vsrm, similarity_fn):\n",
    "        \"\"\"\n",
    "            initial_retrieval_fn: takes in a query and returns a list of [(doc_id, score)] (sorted)\n",
    "            vsrm: instance of `VectorSpaceRetrievalModel`\n",
    "            similarity_fn: function instance that takes in two vectors \n",
    "                            and returns a similarity score e.g cosine_sim defined earlier\n",
    "        \"\"\"\n",
    "        self.ret = initial_retrieval_fn\n",
    "        self.vsrm = vsrm\n",
    "        self.similarity_fn = similarity_fn\n",
    "        self.vectorized_documents = vsrm.vectorize_documents()\n",
    "        \n",
    "        assert len(self.vectorized_documents) == len(doc_repr_2)\n",
    "    \n",
    "    def search(self, query, K=50):\n",
    "        \"\"\"\n",
    "            First, retrieve the top K results using the retrieval function\n",
    "            Then, re-rank the results using the VSRM instance\n",
    "        \"\"\"\n",
    "        # YOUR CODE HERE\n",
    "        init_ranking = self.ret(query)[:K]\n",
    "        doc_ids_init_ranking = [rank[0] for rank in init_ranking]\n",
    "        rerank_docs = {}\n",
    "        for doc_id in doc_ids_init_ranking:\n",
    "            rerank_docs[doc_id] = self.vectorized_documents[doc_id]\n",
    "        \n",
    "        rerank_results = []\n",
    "        query_vector = self.vsrm.vectorize_query(query)\n",
    "        for key, doc_vector in rerank_docs.items():\n",
    "            score = self.similarity_fn(doc_vector, query_vector)\n",
    "            rerank_results.append((key,score))               \n",
    "\n",
    "        rerank_results.sort(key=lambda _:-_[1])\n",
    "\n",
    "        return rerank_results"
   ]
  },
  {
   "cell_type": "code",
   "execution_count": 98,
   "metadata": {
    "ExecuteTime": {
     "end_time": "2021-02-19T10:44:55.525071Z",
     "start_time": "2021-02-19T10:44:50.874892Z"
    },
    "deletable": false,
    "editable": false,
    "id": "rNBMLq3T4IWx",
    "nbgrader": {
     "cell_type": "code",
     "checksum": "334ab5af96976265cace682ab82a7387",
     "grade": true,
     "grade_id": "cell-52c6d18a4c0b4882",
     "locked": true,
     "points": 0,
     "schema_version": 3,
     "solution": false,
     "task": false
    }
   },
   "outputs": [
    {
     "name": "stderr",
     "output_type": "stream",
     "text": [
      "<ipython-input-87-2f5bb1a63d99>:26: DeprecationWarning: Call to deprecated `__contains__` (Method will be removed in 4.0.0, use self.wv.__contains__() instead).\n",
      "  if token in self.model:\n",
      "<ipython-input-87-2f5bb1a63d99>:27: DeprecationWarning: Call to deprecated `__getitem__` (Method will be removed in 4.0.0, use self.wv.__getitem__() instead).\n",
      "  accum_vecs.append(self.model[token])\n"
     ]
    }
   ],
   "source": [
    "##### Function check\n",
    "bm25_search_2 = partial(bm25_search, index_set=2)\n",
    "lsi_rerank = DenseRerankingModel(bm25_search_2, lsi, cosine_sim)\n",
    "lda_rerank = DenseRerankingModel(bm25_search_2, lda, jenson_shannon_sim)\n",
    "w2v_rerank = DenseRerankingModel(bm25_search_2, w2v, cosine_sim)\n",
    "w2v_pretrained_rerank = DenseRerankingModel(bm25_search_2, w2v_pretrained, cosine_sim)\n",
    "d2v_rerank = DenseRerankingModel(bm25_search_2, d2v, cosine_sim)\n",
    "\n",
    "##### "
   ]
  },
  {
   "cell_type": "markdown",
   "metadata": {
    "deletable": false,
    "editable": false,
    "id": "LPYGMblR4IWx",
    "nbgrader": {
     "cell_type": "markdown",
     "checksum": "bd904253f45f84e63bab3a69729058fc",
     "grade": false,
     "grade_id": "cell-93215dfe6bcf7cff",
     "locked": true,
     "points": 10,
     "schema_version": 3,
     "solution": false,
     "task": true
    }
   },
   "source": [
    "\\#### Please do not change this. This cell is used for grading."
   ]
  },
  {
   "cell_type": "markdown",
   "metadata": {
    "deletable": false,
    "editable": false,
    "id": "qkEXXhZR4IWx",
    "nbgrader": {
     "cell_type": "markdown",
     "checksum": "b592e60292bfe3d9ef2930a354c4077a",
     "grade": false,
     "grade_id": "cell-aa694ff55fa91e7d",
     "locked": true,
     "schema_version": 3,
     "solution": false,
     "task": false
    }
   },
   "source": [
    "---\n",
    "Now, let us time the new search functions:"
   ]
  },
  {
   "cell_type": "code",
   "execution_count": 99,
   "metadata": {
    "ExecuteTime": {
     "end_time": "2021-02-19T10:45:19.107292Z",
     "start_time": "2021-02-19T10:44:55.528037Z"
    },
    "deletable": false,
    "editable": false,
    "id": "CLJJ1U8P4IWy",
    "nbgrader": {
     "cell_type": "code",
     "checksum": "338c7e3528cba266a865a061287c0e38",
     "grade": false,
     "grade_id": "cell-5edbd481562ad91f",
     "locked": true,
     "schema_version": 3,
     "solution": false,
     "task": false
    }
   },
   "outputs": [
    {
     "name": "stdout",
     "output_type": "stream",
     "text": [
      "BM25: \n",
      "663 µs ± 25.3 µs per loop (mean ± std. dev. of 7 runs, 1000 loops each)\n",
      "LSI: \n",
      "6.55 ms ± 54.3 µs per loop (mean ± std. dev. of 7 runs, 100 loops each)\n",
      "LDA: \n",
      "3.13 ms ± 18.7 µs per loop (mean ± std. dev. of 7 runs, 100 loops each)\n",
      "W2V: \n"
     ]
    },
    {
     "name": "stderr",
     "output_type": "stream",
     "text": [
      "<ipython-input-87-2f5bb1a63d99>:44: DeprecationWarning: Call to deprecated `__contains__` (Method will be removed in 4.0.0, use self.wv.__contains__() instead).\n",
      "  if token in self.model:\n",
      "<ipython-input-87-2f5bb1a63d99>:45: DeprecationWarning: Call to deprecated `__getitem__` (Method will be removed in 4.0.0, use self.wv.__getitem__() instead).\n",
      "  accum_vecs.append(self.model[token])\n"
     ]
    },
    {
     "name": "stdout",
     "output_type": "stream",
     "text": [
      "24.6 ms ± 295 µs per loop (mean ± std. dev. of 7 runs, 10 loops each)\n",
      "W2V(Pretrained): \n",
      "75.1 ms ± 5.12 ms per loop (mean ± std. dev. of 7 runs, 10 loops each)\n",
      "D2V:\n",
      "28.3 ms ± 690 µs per loop (mean ± std. dev. of 7 runs, 10 loops each)\n"
     ]
    }
   ],
   "source": [
    "query = \"algebraic functions\"\n",
    "print(\"BM25: \")\n",
    "%timeit bm25_search(query, 2)\n",
    "print(\"LSI: \")\n",
    "%timeit lsi_rerank.search(query)\n",
    "print(\"LDA: \")\n",
    "%timeit lda_rerank.search(query)\n",
    "print(\"W2V: \")\n",
    "%timeit w2v_rerank.search(query)\n",
    "print(\"W2V(Pretrained): \")\n",
    "%timeit w2v_pretrained_rerank.search(query)\n",
    "print(\"D2V:\")\n",
    "%timeit d2v_rerank.search(query)"
   ]
  },
  {
   "cell_type": "markdown",
   "metadata": {
    "deletable": false,
    "editable": false,
    "id": "3YxKmu1l4IWy",
    "nbgrader": {
     "cell_type": "markdown",
     "checksum": "c45c5e3f015b2de89d9d39ae3766368b",
     "grade": false,
     "grade_id": "cell-85c50f2ab9eec301",
     "locked": true,
     "schema_version": 3,
     "solution": false,
     "task": false
    }
   },
   "source": [
    "---\n",
    "As you can see, it is much faster (but BM25 is still orders of magnitude faster)."
   ]
  },
  {
   "cell_type": "markdown",
   "metadata": {
    "deletable": false,
    "editable": false,
    "id": "MdjNyWo34IWy",
    "nbgrader": {
     "cell_type": "markdown",
     "checksum": "1e2f3388e3807659f303fe31a75a010e",
     "grade": false,
     "grade_id": "cell-5071bb99b2af61cb",
     "locked": true,
     "schema_version": 3,
     "solution": false,
     "task": false
    }
   },
   "source": [
    "---\n",
    "## Section 10: Evaluation & Analysis (30 points) <a class=\"anchor\" id=\"reranking_eval\"></a>\n",
    "\n",
    "[Back to Part 2](#part2)\n",
    "\n",
    "[Previously](#evaluation) we have implemented some evaluation metrics and used them for measuring the ranking performance of term-based IR algorithms. In this section, we will do the same for semantic methods, both with and without re-ranking.\n",
    "\n",
    "### Section 10.1: Plot (10 points)\n",
    "\n",
    "First, gather the results. The results should consider the index set, the different search functions and different metrics. Plot the results in bar charts, per metric, with clear labels.\n",
    "\n",
    "Then, gather only the re-ranking models, and plot and compare them with the results obtained in part 1 (only index set 2)."
   ]
  },
  {
   "cell_type": "code",
   "execution_count": 100,
   "metadata": {
    "ExecuteTime": {
     "end_time": "2021-02-19T10:45:19.113317Z",
     "start_time": "2021-02-19T10:45:19.108329Z"
    },
    "deletable": false,
    "editable": false,
    "id": "2Y2Ntwj84IWy",
    "nbgrader": {
     "cell_type": "code",
     "checksum": "4fe81520ac6413a803838913fd64de03",
     "grade": false,
     "grade_id": "cell-b672fe6dfae0b1ce",
     "locked": true,
     "schema_version": 3,
     "solution": false,
     "task": false
    }
   },
   "outputs": [],
   "source": [
    "list_of_sem_search_fns = [\n",
    "    (\"lda\", drm_lda.search),\n",
    "    (\"lsi\", drm_lsi.search),\n",
    "    (\"w2v\", drm_w2v.search),\n",
    "    (\"w2v_pretrained\", drm_w2v_pretrained.search),\n",
    "    (\"d2v\", drm_d2v.search),\n",
    "    (\"lsi_rr\", lsi_rerank.search),\n",
    "    (\"lda_rr\", lda_rerank.search),\n",
    "    (\"w2v_rr\", w2v_rerank.search),\n",
    "    (\"w2v_pretrained_rr\", w2v_pretrained_rerank.search),\n",
    "    (\"d2v_rr\", d2v_rerank.search),\n",
    "    \n",
    "]"
   ]
  },
  {
   "cell_type": "code",
   "execution_count": 101,
   "metadata": {
    "ExecuteTime": {
     "end_time": "2021-02-19T10:47:17.075307Z",
     "start_time": "2021-02-19T10:45:19.114272Z"
    },
    "deletable": false,
    "id": "XqoUKAKO4IWy",
    "nbgrader": {
     "cell_type": "code",
     "checksum": "54707c4afac084299aeefa047259b4a9",
     "grade": true,
     "grade_id": "cell-7dd8273b0f5a3c22",
     "locked": false,
     "points": 10,
     "schema_version": 3,
     "solution": true,
     "task": false
    }
   },
   "outputs": [
    {
     "name": "stderr",
     "output_type": "stream",
     "text": [
      "<ipython-input-87-2f5bb1a63d99>:44: DeprecationWarning: Call to deprecated `__contains__` (Method will be removed in 4.0.0, use self.wv.__contains__() instead).\n",
      "  if token in self.model:\n",
      "<ipython-input-87-2f5bb1a63d99>:45: DeprecationWarning: Call to deprecated `__getitem__` (Method will be removed in 4.0.0, use self.wv.__getitem__() instead).\n",
      "  accum_vecs.append(self.model[token])\n"
     ]
    },
    {
     "ename": "KeyboardInterrupt",
     "evalue": "",
     "output_type": "error",
     "traceback": [
      "\u001b[1;31m---------------------------------------------------------------------------\u001b[0m",
      "\u001b[1;31mKeyboardInterrupt\u001b[0m                         Traceback (most recent call last)",
      "\u001b[1;32m<ipython-input-101-91248eb893ab>\u001b[0m in \u001b[0;36m<module>\u001b[1;34m\u001b[0m\n\u001b[0;32m     22\u001b[0m \u001b[1;32mfor\u001b[0m \u001b[1;33m(\u001b[0m\u001b[0mname\u001b[0m\u001b[1;33m,\u001b[0m\u001b[0mfn\u001b[0m\u001b[1;33m)\u001b[0m \u001b[1;32min\u001b[0m \u001b[0mlist_of_sem_search_fns\u001b[0m\u001b[1;33m:\u001b[0m\u001b[1;33m\u001b[0m\u001b[1;33m\u001b[0m\u001b[0m\n\u001b[0;32m     23\u001b[0m     \u001b[1;32mif\u001b[0m \u001b[0mname\u001b[0m\u001b[1;33m[\u001b[0m\u001b[1;33m-\u001b[0m\u001b[1;36m2\u001b[0m\u001b[1;33m:\u001b[0m\u001b[1;33m]\u001b[0m \u001b[1;33m!=\u001b[0m \u001b[1;34m'rr'\u001b[0m\u001b[1;33m:\u001b[0m\u001b[1;33m\u001b[0m\u001b[1;33m\u001b[0m\u001b[0m\n\u001b[1;32m---> 24\u001b[1;33m         \u001b[0mresult\u001b[0m \u001b[1;33m=\u001b[0m \u001b[0mevaluate_search_fn\u001b[0m\u001b[1;33m(\u001b[0m\u001b[0mfn\u001b[0m\u001b[1;33m,\u001b[0m\u001b[0mlist_of_metrics\u001b[0m\u001b[1;33m)\u001b[0m\u001b[1;33m\u001b[0m\u001b[1;33m\u001b[0m\u001b[0m\n\u001b[0m\u001b[0;32m     25\u001b[0m         \u001b[1;32mfor\u001b[0m \u001b[0mkey\u001b[0m\u001b[1;33m,\u001b[0m\u001b[0mvalue\u001b[0m \u001b[1;32min\u001b[0m \u001b[0mresult\u001b[0m\u001b[1;33m.\u001b[0m\u001b[0mitems\u001b[0m\u001b[1;33m(\u001b[0m\u001b[1;33m)\u001b[0m\u001b[1;33m:\u001b[0m\u001b[1;33m\u001b[0m\u001b[1;33m\u001b[0m\u001b[0m\n\u001b[0;32m     26\u001b[0m             \u001b[0mtoplot\u001b[0m\u001b[1;33m[\u001b[0m\u001b[0mkey\u001b[0m\u001b[1;33m]\u001b[0m\u001b[1;33m.\u001b[0m\u001b[0mappend\u001b[0m\u001b[1;33m(\u001b[0m\u001b[0mvalue\u001b[0m\u001b[1;33m)\u001b[0m\u001b[1;33m\u001b[0m\u001b[1;33m\u001b[0m\u001b[0m\n",
      "\u001b[1;32m<ipython-input-69-bdf9118cd741>\u001b[0m in \u001b[0;36mevaluate_search_fn\u001b[1;34m(search_fn, metric_fns, index_set)\u001b[0m\n\u001b[0;32m     21\u001b[0m             \u001b[0mresults\u001b[0m \u001b[1;33m=\u001b[0m \u001b[0msearch_fn\u001b[0m\u001b[1;33m(\u001b[0m\u001b[0mquery\u001b[0m\u001b[1;33m,\u001b[0m \u001b[0mindex_set\u001b[0m\u001b[1;33m)\u001b[0m\u001b[1;33m\u001b[0m\u001b[1;33m\u001b[0m\u001b[0m\n\u001b[0;32m     22\u001b[0m         \u001b[1;32melse\u001b[0m\u001b[1;33m:\u001b[0m\u001b[1;33m\u001b[0m\u001b[1;33m\u001b[0m\u001b[0m\n\u001b[1;32m---> 23\u001b[1;33m             \u001b[0mresults\u001b[0m \u001b[1;33m=\u001b[0m \u001b[0msearch_fn\u001b[0m\u001b[1;33m(\u001b[0m\u001b[0mquery\u001b[0m\u001b[1;33m)\u001b[0m\u001b[1;33m\u001b[0m\u001b[1;33m\u001b[0m\u001b[0m\n\u001b[0m\u001b[0;32m     24\u001b[0m \u001b[1;33m\u001b[0m\u001b[0m\n\u001b[0;32m     25\u001b[0m         \u001b[1;32mfor\u001b[0m \u001b[0mmetric\u001b[0m\u001b[1;33m,\u001b[0m \u001b[0mmetric_fn\u001b[0m \u001b[1;32min\u001b[0m \u001b[0mmetric_fns\u001b[0m\u001b[1;33m:\u001b[0m\u001b[1;33m\u001b[0m\u001b[1;33m\u001b[0m\u001b[0m\n",
      "\u001b[1;32m<ipython-input-79-eee8a0bf28a6>\u001b[0m in \u001b[0;36msearch\u001b[1;34m(self, query)\u001b[0m\n\u001b[0;32m     27\u001b[0m \u001b[1;33m\u001b[0m\u001b[0m\n\u001b[0;32m     28\u001b[0m     \u001b[1;32mdef\u001b[0m \u001b[0msearch\u001b[0m\u001b[1;33m(\u001b[0m\u001b[0mself\u001b[0m\u001b[1;33m,\u001b[0m \u001b[0mquery\u001b[0m\u001b[1;33m)\u001b[0m\u001b[1;33m:\u001b[0m\u001b[1;33m\u001b[0m\u001b[1;33m\u001b[0m\u001b[0m\n\u001b[1;32m---> 29\u001b[1;33m         \u001b[0mscores\u001b[0m \u001b[1;33m=\u001b[0m \u001b[0mself\u001b[0m\u001b[1;33m.\u001b[0m\u001b[0m_compute_sim\u001b[0m\u001b[1;33m(\u001b[0m\u001b[0mself\u001b[0m\u001b[1;33m.\u001b[0m\u001b[0mvsrm\u001b[0m\u001b[1;33m.\u001b[0m\u001b[0mvectorize_query\u001b[0m\u001b[1;33m(\u001b[0m\u001b[0mquery\u001b[0m\u001b[1;33m)\u001b[0m\u001b[1;33m)\u001b[0m\u001b[1;33m\u001b[0m\u001b[1;33m\u001b[0m\u001b[0m\n\u001b[0m\u001b[0;32m     30\u001b[0m         \u001b[0mscores\u001b[0m\u001b[1;33m.\u001b[0m\u001b[0msort\u001b[0m\u001b[1;33m(\u001b[0m\u001b[0mkey\u001b[0m\u001b[1;33m=\u001b[0m\u001b[1;32mlambda\u001b[0m \u001b[0m_\u001b[0m\u001b[1;33m:\u001b[0m\u001b[1;33m-\u001b[0m\u001b[0m_\u001b[0m\u001b[1;33m[\u001b[0m\u001b[1;36m1\u001b[0m\u001b[1;33m]\u001b[0m\u001b[1;33m)\u001b[0m\u001b[1;33m\u001b[0m\u001b[1;33m\u001b[0m\u001b[0m\n\u001b[0;32m     31\u001b[0m         \u001b[1;32mreturn\u001b[0m \u001b[0mscores\u001b[0m\u001b[1;33m\u001b[0m\u001b[1;33m\u001b[0m\u001b[0m\n",
      "\u001b[1;32m<ipython-input-79-eee8a0bf28a6>\u001b[0m in \u001b[0;36m_compute_sim\u001b[1;34m(self, query_vector)\u001b[0m\n\u001b[0;32m     22\u001b[0m         \u001b[1;32mfor\u001b[0m \u001b[0mkey\u001b[0m\u001b[1;33m,\u001b[0m \u001b[0mdoc\u001b[0m \u001b[1;32min\u001b[0m \u001b[0mself\u001b[0m\u001b[1;33m.\u001b[0m\u001b[0mvectorized_documents\u001b[0m\u001b[1;33m.\u001b[0m\u001b[0mitems\u001b[0m\u001b[1;33m(\u001b[0m\u001b[1;33m)\u001b[0m\u001b[1;33m:\u001b[0m\u001b[1;33m\u001b[0m\u001b[1;33m\u001b[0m\u001b[0m\n\u001b[0;32m     23\u001b[0m             \u001b[1;32mif\u001b[0m \u001b[0mlen\u001b[0m\u001b[1;33m(\u001b[0m\u001b[0mdoc\u001b[0m\u001b[1;33m)\u001b[0m \u001b[1;33m!=\u001b[0m \u001b[1;36m0\u001b[0m\u001b[1;33m:\u001b[0m\u001b[1;33m\u001b[0m\u001b[1;33m\u001b[0m\u001b[0m\n\u001b[1;32m---> 24\u001b[1;33m                 \u001b[0mscore\u001b[0m \u001b[1;33m=\u001b[0m \u001b[0mself\u001b[0m\u001b[1;33m.\u001b[0m\u001b[0msimilarity_fn\u001b[0m\u001b[1;33m(\u001b[0m\u001b[0mdoc\u001b[0m\u001b[1;33m,\u001b[0m\u001b[0mself\u001b[0m\u001b[1;33m.\u001b[0m\u001b[0mquery_vector\u001b[0m\u001b[1;33m)\u001b[0m\u001b[1;33m\u001b[0m\u001b[1;33m\u001b[0m\u001b[0m\n\u001b[0m\u001b[0;32m     25\u001b[0m                 \u001b[0mresult_list\u001b[0m\u001b[1;33m.\u001b[0m\u001b[0mappend\u001b[0m\u001b[1;33m(\u001b[0m\u001b[1;33m(\u001b[0m\u001b[0mkey\u001b[0m\u001b[1;33m,\u001b[0m\u001b[0mscore\u001b[0m\u001b[1;33m)\u001b[0m\u001b[1;33m)\u001b[0m\u001b[1;33m\u001b[0m\u001b[1;33m\u001b[0m\u001b[0m\n\u001b[0;32m     26\u001b[0m         \u001b[1;32mreturn\u001b[0m \u001b[0mresult_list\u001b[0m\u001b[1;33m\u001b[0m\u001b[1;33m\u001b[0m\u001b[0m\n",
      "\u001b[1;32m<ipython-input-73-6877f38bee2f>\u001b[0m in \u001b[0;36mcosine_sim\u001b[1;34m(vec_1, vec_2)\u001b[0m\n\u001b[0;32m     23\u001b[0m     \u001b[1;32mfor\u001b[0m \u001b[0mi\u001b[0m \u001b[1;32min\u001b[0m \u001b[0mrange\u001b[0m\u001b[1;33m(\u001b[0m\u001b[0mlen\u001b[0m\u001b[1;33m(\u001b[0m\u001b[0mvec_1\u001b[0m\u001b[1;33m)\u001b[0m\u001b[1;33m)\u001b[0m\u001b[1;33m:\u001b[0m\u001b[1;33m\u001b[0m\u001b[1;33m\u001b[0m\u001b[0m\n\u001b[0;32m     24\u001b[0m         \u001b[0mres_a\u001b[0m \u001b[1;33m+=\u001b[0m \u001b[0mvec_1\u001b[0m\u001b[1;33m[\u001b[0m\u001b[0mi\u001b[0m\u001b[1;33m]\u001b[0m\u001b[1;33m[\u001b[0m\u001b[1;36m1\u001b[0m\u001b[1;33m]\u001b[0m \u001b[1;33m**\u001b[0m \u001b[1;36m2\u001b[0m\u001b[1;33m\u001b[0m\u001b[1;33m\u001b[0m\u001b[0m\n\u001b[1;32m---> 25\u001b[1;33m         \u001b[0mres_b\u001b[0m \u001b[1;33m+=\u001b[0m \u001b[0mvec_2\u001b[0m\u001b[1;33m[\u001b[0m\u001b[0mi\u001b[0m\u001b[1;33m]\u001b[0m\u001b[1;33m[\u001b[0m\u001b[1;36m1\u001b[0m\u001b[1;33m]\u001b[0m \u001b[1;33m**\u001b[0m \u001b[1;36m2\u001b[0m\u001b[1;33m\u001b[0m\u001b[1;33m\u001b[0m\u001b[0m\n\u001b[0m\u001b[0;32m     26\u001b[0m     \u001b[0mnumerator\u001b[0m \u001b[1;33m=\u001b[0m \u001b[0mdot\u001b[0m\u001b[1;33m(\u001b[0m\u001b[0mvec_1\u001b[0m\u001b[1;33m,\u001b[0m\u001b[0mvec_2\u001b[0m\u001b[1;33m)\u001b[0m\u001b[1;33m\u001b[0m\u001b[1;33m\u001b[0m\u001b[0m\n\u001b[0;32m     27\u001b[0m \u001b[1;33m\u001b[0m\u001b[0m\n",
      "\u001b[1;31mKeyboardInterrupt\u001b[0m: "
     ]
    }
   ],
   "source": [
    "# YOUR CODE HERE\n",
    "# YOUR CODE HERE\n",
    "toplot = {'ERR':[],\n",
    "          'MAP':[],\n",
    "          'Recall@1':[],\n",
    "          'Recall@5':[],\n",
    "          'Recall@10':[],\n",
    "          'Precision@1':[],\n",
    "          'Precision@5':[],\n",
    "          'Precision@10':[]\n",
    "         }\n",
    "toplot_rr = {'ERR':[],\n",
    "          'MAP':[],\n",
    "          'Recall@1':[],\n",
    "          'Recall@5':[],\n",
    "          'Recall@10':[],\n",
    "          'Precision@1':[],\n",
    "          'Precision@5':[],\n",
    "          'Precision@10':[]\n",
    "         }\n",
    "\n",
    "for (name,fn) in list_of_sem_search_fns:\n",
    "    if name[-2:] != 'rr':\n",
    "        result = evaluate_search_fn(fn,list_of_metrics)\n",
    "        for key,value in result.items():\n",
    "            toplot[key].append(value)\n",
    "    else:\n",
    "        result = evaluate_search_fn(fn,list_of_metrics)\n",
    "        for key,value in result.items():\n",
    "            toplot_rr[key].append(value)\n",
    "            \n",
    "for (name,list_scores) in toplot.items():\n",
    "    objects = dict(list_of_sem_search_fns[:5]).keys()\n",
    "    y_pos = np.arange(len(objects))\n",
    "    score = list_scores\n",
    "    plt.bar(y_pos, score, align='center', alpha=0.5, color='b')\n",
    "    plt.xticks(y_pos, objects)\n",
    "    plt.ylabel('Scores')\n",
    "    plt.title('Results using ' + name + ' metric')\n",
    "    plt.show()\n",
    "    \n",
    "for (name,list_scores) in toplot_rr.items():\n",
    "    objects = dict(list_of_sem_search_fns[5:]).keys()\n",
    "    y_pos = np.arange(len(objects))\n",
    "    score = list_scores\n",
    "    plt.bar(y_pos, score, align='center', alpha=0.5, color='b')\n",
    "    plt.xticks(y_pos, objects)\n",
    "    plt.ylabel('Scores')\n",
    "    plt.title('Results using ' + name + ' metric')\n",
    "    plt.show()"
   ]
  },
  {
   "cell_type": "markdown",
   "metadata": {
    "deletable": false,
    "editable": false,
    "id": "TO7Rx1xc4IWy",
    "nbgrader": {
     "cell_type": "markdown",
     "checksum": "a8a3b6189bdde66704c694d85e38d049",
     "grade": false,
     "grade_id": "cell-deb2ef3daa306e82",
     "locked": true,
     "schema_version": 3,
     "solution": false,
     "task": false
    }
   },
   "source": [
    "### Section 10.2: Summary (20 points)\n",
    "\n",
    "Your summary should compare methods from Part 1 and Part 2 (only for index set 2). State what you expected to see in the results, followed by either supporting evidence *or* justify why the results did not support your expectations. Consider the availability of data, scalability, domain/type of data, etc."
   ]
  },
  {
   "cell_type": "markdown",
   "metadata": {
    "deletable": false,
    "id": "8kHCX99n4IWz",
    "nbgrader": {
     "cell_type": "markdown",
     "checksum": "ff97c43837d10bff6aaffa75e1492887",
     "grade": true,
     "grade_id": "cell-ec5dd7d9cf59dd86",
     "locked": false,
     "points": 20,
     "schema_version": 3,
     "solution": true,
     "task": false
    }
   },
   "source": [
    "YOUR ANSWER HERE"
   ]
  }
 ],
 "metadata": {
  "colab": {
   "collapsed_sections": [
    "7PZ1YsjO4IWa",
    "PEw9RAKO4IWc",
    "M10Gq1wo4IWd",
    "ARVTcJrC4IWe",
    "pu4nDAJQ4IWe",
    "D3EIl_rY4IWf",
    "43wdjFkt4IWf",
    "a6te4fbZ4IWg",
    "X2fSm6OJ4IWg",
    "CF8mA1LD4IWh",
    "PwcdEmYB4IWi",
    "a3vu_N7C4IWj",
    "bD5EZ9eN4IWl",
    "V_eNBPNC4IWl",
    "gLVYII234IWl",
    "Ad2E1OAb4IWm",
    "rsVw36Qs4IWn",
    "O6zOyivS4IWn",
    "Q38CrFOO4IWo",
    "Gh1iz9Ht4IWo",
    "b54ANEqK4IWp",
    "lZ3SttfV4IWp",
    "-hdtSyZZ4IWp",
    "KqeQEm1Q4IWq",
    "-EkJ-o9j4IWr",
    "0PGe6mPD4IWt",
    "xMbAwqEW4IWt",
    "1qyB_mcw4IWt",
    "xa0oM-SP4IWu",
    "uJBmD00Y4IWw",
    "MdjNyWo34IWy",
    "TO7Rx1xc4IWy"
   ],
   "name": "13322915_13325957_13326481.ipynb",
   "provenance": []
  },
  "kernelspec": {
   "display_name": "Python 3",
   "language": "python",
   "name": "python3"
  },
  "language_info": {
   "codemirror_mode": {
    "name": "ipython",
    "version": 3
   },
   "file_extension": ".py",
   "mimetype": "text/x-python",
   "name": "python",
   "nbconvert_exporter": "python",
   "pygments_lexer": "ipython3",
   "version": "3.8.7"
  }
 },
 "nbformat": 4,
 "nbformat_minor": 1
}