{
 "cells": [
  {
   "cell_type": "markdown",
   "metadata": {
    "deletable": false,
    "editable": false,
    "id": "BBPDEKU44IWO",
    "nbgrader": {
     "cell_type": "markdown",
     "checksum": "758d05f39ab671358f17858c55f7161c",
     "grade": false,
     "grade_id": "cell-c9cd9e550239e812",
     "locked": true,
     "schema_version": 3,
     "solution": false,
     "task": false
    }
   },
   "source": [
    "# Homework 1 (Total Points: 260) <a class=\"anchor\" id=\"top\"></a>\n",
    "\n",
    "\n",
    "**Submission instructions**:\n",
    "- Only the code `TODO: Implement this!` denotes that these sections are graded.\n",
    "- For Part 1: You can use the `nltk`, `numpy` and `matplotlib` libraries here. Other libraries, e.g., `gensim` or `scikit-learn`, may not be used. For Part 2: `gensim` is allowed in addition to the imported libraries in the next code cell\n",
    "- The notebook you submit has to have the student ids, separated by underscores (E.g., `12341234_12341234_12341234.ipynb`). \n",
    "- This will be parsed by a regexp, so please double check your filename.\n",
    "- Only one member of each group has to submit the file to canvas.\n",
    "- Make sure to check that your notebook runs before submission. A quick way to do this is to restart the kernel and run all the cells.  \n",
    "- Please do not delete/add new cells. Removing cells can lead to grade deduction.\n",
    "- Note, that you are not allowed to use Google Colab.\n",
    "\n",
    "\n",
    "**Learning Goals**:\n",
    "- [Part 1, Term-based matching](#part1) (175 points):\n",
    "    - Learn how to load a dataset and process it.\n",
    "    - Learn how to implement several standard IR methods (TF-IDF, BM25, QL) and understand their weaknesses & strengths.\n",
    "    - Learn how to evaluate IR methods.\n",
    "- [Part 2, Semantic-based matching](#part2) (85 points):\n",
    "    - Learn how to implement vector-space retrieval methods (LSI, LDA).\n",
    "    - Learn how to use LSI and LDA for re-ranking\n",
    "\n",
    "    \n",
    "**Resources**: \n",
    "- **Part 1**: Sections 2.3, 4.1, 4.2, 4.3, 5.3, 5.6, 5.7, 6.2, 7, 8 of [Search Engines: Information Retrieval in Practice](https://ciir.cs.umass.edu/downloads/SEIRiP.pdf)\n",
    "- **Part 2**: [LSI - Chapter 18](https://nlp.stanford.edu/IR-book/pdf/18lsi.pdf) from [Introduction to Information Retrieval](https://nlp.stanford.edu/IR-book/) book and the [original LDA paper](https://jmlr.org/papers/volume3/blei03a/blei03a.pdf)"
   ]
  },
  {
   "cell_type": "code",
   "execution_count": null,
   "metadata": {
    "ExecuteTime": {
     "end_time": "2021-02-15T10:47:45.068241Z",
     "start_time": "2021-02-15T10:47:43.719770Z"
    },
    "deletable": false,
    "editable": false,
    "id": "RS9pLvO94IWT",
    "nbgrader": {
     "cell_type": "code",
     "checksum": "c55bfe94ff1f564dd595547e516c4c6e",
     "grade": false,
     "grade_id": "cell-f5357fabdb9660e3",
     "locked": true,
     "schema_version": 3,
     "solution": false,
     "task": false
    }
   },
   "outputs": [],
   "source": [
    "# imports \n",
    "# TODO: Ensure that no additional library is imported in the notebook. \n",
    "# TODO: Only the standard library and the following libraries are allowed:\n",
    "# TODO: You can also use unlisted classes from these libraries or standard libraries (such as defaultdict, Counter, ...).\n",
    "\n",
    "import os\n",
    "import zipfile\n",
    "from functools import partial\n",
    "\n",
    "import nltk\n",
    "import requests\n",
    "import numpy as np\n",
    "from tqdm import tqdm\n",
    "\n",
    "import matplotlib.pyplot as plt\n",
    "from matplotlib.pyplot import cm\n",
    "\n",
    "from ipywidgets import widgets\n",
    "from IPython.display import display, HTML\n",
    "#from IPython.html import widgets\n",
    "from collections import namedtuple\n",
    "\n",
    "# Own imports from standard libraries\n",
    "from collections import Counter\n",
    "import math\n",
    "\n",
    "\n",
    "\n",
    "%matplotlib inline"
   ]
  },
  {
   "cell_type": "markdown",
   "metadata": {
    "deletable": false,
    "editable": false,
    "id": "A4kKorew4IWU",
    "nbgrader": {
     "cell_type": "markdown",
     "checksum": "4ef0139c6fbc22b41520721a9275c1e1",
     "grade": false,
     "grade_id": "cell-7428e12ed184408b",
     "locked": true,
     "schema_version": 3,
     "solution": false,
     "task": false
    }
   },
   "source": [
    "\n",
    "# Part 1: Term-based Matching (175 points) <a class=\"anchor\" id=\"part1\"></a>\n",
    "\n",
    "[Back to top](#top)\n",
    "\n",
    "In the first part, we will learn the basics of IR from loading and preprocessing the material, to implementing some well known search algorithms, to evaluating the ranking performance of the implemented algorithms. We will be using the CACM dataset throughout the assignment. The CACM dataset is a collection of titles and abstracts from the journal CACM (Communication of the ACM).\n",
    "\n",
    "Table of contents:\n",
    "- [Section 1: Text Processing](#text_processing) (15 points)\n",
    "- [Section 2: Indexing](#indexing) (10 points)\n",
    "- [Section 3: Ranking](#ranking) (80 points)\n",
    "- [Section 4: Evaluation](#evaluation) (40 points)\n",
    "- [Section 5: Analysis](#analysis) (30 points)\n"
   ]
  },
  {
   "cell_type": "markdown",
   "metadata": {
    "deletable": false,
    "editable": false,
    "id": "6vnjcjoy4IWU",
    "nbgrader": {
     "cell_type": "markdown",
     "checksum": "a9050c97b011a926b9e4cf6831eff5bd",
     "grade": false,
     "grade_id": "cell-4b24825cf4ae55ec",
     "locked": true,
     "schema_version": 3,
     "solution": false,
     "task": false
    }
   },
   "source": [
    "---\n",
    "## Section 1: Text Processing (15 points)<a class=\"anchor\" id=\"text_processing\"></a>\n",
    "\n",
    "[Back to Part 1](#part1)\n",
    "\n",
    "In this section, we will load the dataset and learn how to clean up the data to make it usable for an IR system. \n",
    "The points of this section are earned for the following implementations:\n",
    "- `read_cacm_docs` (4 points): Reads in the CACM documents.\n",
    "- `read_queries` (3 points): Reads in the CACM queries.\n",
    "- `load_stopwords` (1 point): Loads the stopwords.\n",
    "- `tokenize` (4 points): Tokenizes the input text.\n",
    "- `stem_token` (3 points): Stems the given token. \n",
    "\n",
    "We are using the [CACM dataset](http://ir.dcs.gla.ac.uk/resources/test_collections/cacm/), which is a small, classic IR dataset, composed of a collection of titles and abstracts from the journal CACM. It comes with relevance judgements for queries, so we can evaluate our IR system. \n"
   ]
  },
  {
   "cell_type": "markdown",
   "metadata": {
    "deletable": false,
    "editable": false,
    "id": "p_lmQikc4IWV",
    "nbgrader": {
     "cell_type": "markdown",
     "checksum": "1de1b97f9ee233ad2348359f0c158eb7",
     "grade": false,
     "grade_id": "cell-45651364e7af6d5a",
     "locked": true,
     "schema_version": 3,
     "solution": false,
     "task": false
    }
   },
   "source": [
    "---\n",
    "### 1.1 Read the CACM documents (4 points)\n",
    "\n",
    "\n",
    "The following cell downloads the dataset and unzips it to a local directory."
   ]
  },
  {
   "cell_type": "code",
   "execution_count": 106,
   "metadata": {
    "ExecuteTime": {
     "end_time": "2021-02-15T10:47:45.090689Z",
     "start_time": "2021-02-15T10:47:45.070235Z"
    },
    "deletable": false,
    "editable": false,
    "id": "GzgZPFdR4IWV",
    "nbgrader": {
     "cell_type": "code",
     "checksum": "4d43c9ad6e77cc01ce4cef0c34824930",
     "grade": false,
     "grade_id": "cell-bbc3030bb3fe7e02",
     "locked": true,
     "schema_version": 3,
     "solution": false,
     "task": false
    }
   },
   "outputs": [],
   "source": [
    "def download_dataset():\n",
    "    folder_path = os.environ.get(\"IR1_DATA_PATH\")\n",
    "    if not folder_path:\n",
    "        folder_path = \"./datasets/\"\n",
    "    os.makedirs(folder_path, exist_ok=True)\n",
    "    \n",
    "    file_location = os.path.join(folder_path, \"cacm.zip\")\n",
    "    \n",
    "    # download file if it doesn't exist\n",
    "    if not os.path.exists(file_location):\n",
    "        \n",
    "        url = \"https://surfdrive.surf.nl/files/index.php/s/M0FGJpX2p8wDwxR/download\"\n",
    "\n",
    "        with open(file_location, \"wb\") as handle:\n",
    "            print(f\"Downloading file from {url} to {file_location}\")\n",
    "            response = requests.get(url, stream=True)\n",
    "            for data in tqdm(response.iter_content()):\n",
    "                handle.write(data)\n",
    "            print(\"Finished downloading file\")\n",
    "    \n",
    "    if not os.path.exists(os.path.join(folder_path, \"train.txt\")):\n",
    "        \n",
    "        # unzip file\n",
    "        with zipfile.ZipFile(file_location, 'r') as zip_ref:\n",
    "            zip_ref.extractall(folder_path)\n",
    "        \n",
    "download_dataset()"
   ]
  },
  {
   "cell_type": "markdown",
   "metadata": {
    "deletable": false,
    "editable": false,
    "id": "mFgbUp9Q4IWW",
    "nbgrader": {
     "cell_type": "markdown",
     "checksum": "31609b0d61d0c74cbd69bc43e47c23be",
     "grade": false,
     "grade_id": "cell-a7dd9a9bf98ede05",
     "locked": true,
     "schema_version": 3,
     "solution": false,
     "task": false
    }
   },
   "source": [
    "---\n",
    "\n",
    "You can see a brief description of each file in the dataset by looking at the README file:"
   ]
  },
  {
   "cell_type": "code",
   "execution_count": 109,
   "metadata": {
    "ExecuteTime": {
     "end_time": "2021-02-15T10:47:45.154518Z",
     "start_time": "2021-02-15T10:47:45.094678Z"
    },
    "colab": {
     "base_uri": "https://localhost:8080/"
    },
    "deletable": false,
    "editable": false,
    "id": "XiphLpFK4IWW",
    "nbgrader": {
     "cell_type": "code",
     "checksum": "1783f9999c7d06955e8da815de62ba5f",
     "grade": false,
     "grade_id": "cell-9b6ff1a17124711f",
     "locked": true,
     "schema_version": 3,
     "solution": false,
     "task": false
    },
    "outputId": "0c34744f-c08a-45f7-ad13-ffdc2287cbda"
   },
   "outputs": [
    {
     "output_type": "stream",
     "name": "stderr",
     "text": [
      "'cat' is not recognized as an internal or external command,\noperable program or batch file.\n"
     ]
    }
   ],
   "source": [
    "##### Read the README file \n",
    "!cat ./datasets/README\n",
    "#####"
   ]
  },
  {
   "cell_type": "markdown",
   "metadata": {
    "deletable": false,
    "editable": false,
    "id": "NYQpF9664IWW",
    "nbgrader": {
     "cell_type": "markdown",
     "checksum": "d6a5333ae8e7f69d81900e714cc43852",
     "grade": false,
     "grade_id": "cell-73351431869fda76",
     "locked": true,
     "schema_version": 3,
     "solution": false,
     "task": false
    }
   },
   "source": [
    "---\n",
    "We are interested in 4 files:\n",
    "- `cacm.all` : Contains the text for all documents. Note that some documents do not have abstracts available. \n",
    "- `query.text` : The text of all queries\n",
    "- `qrels.text` : The relevance judgements\n",
    "- `common_words` : A list of common words. This may be used as a collection of stopwords"
   ]
  },
  {
   "cell_type": "code",
   "execution_count": 112,
   "metadata": {
    "ExecuteTime": {
     "end_time": "2021-02-15T10:47:45.219855Z",
     "start_time": "2021-02-15T10:47:45.156513Z"
    },
    "colab": {
     "base_uri": "https://localhost:8080/"
    },
    "deletable": false,
    "editable": false,
    "id": "YlAL1Byf4IWW",
    "nbgrader": {
     "cell_type": "code",
     "checksum": "c78e4256a08889ce3d0d985ea799b0a9",
     "grade": false,
     "grade_id": "cell-b44dd14079f278ca",
     "locked": true,
     "schema_version": 3,
     "solution": false,
     "task": false
    },
    "outputId": "671b1068-6500-45c4-e9d5-e4578d137c7b"
   },
   "outputs": [
    {
     "output_type": "stream",
     "name": "stderr",
     "text": [
      "'head' is not recognized as an internal or external command,\noperable program or batch file.\n"
     ]
    }
   ],
   "source": [
    "##### The first 45 lines of the CACM dataset forms the first record\n",
    "# We are interested only in 3 fields. \n",
    "# 1. the '.I' field, which is the document id\n",
    "# 2. the '.T' field (the title) and\n",
    "# 3. the '.W' field (the abstract, which may be absent)\n",
    "!head -45 ./datasets/cacm.all\n",
    "#####"
   ]
  },
  {
   "cell_type": "markdown",
   "metadata": {
    "deletable": false,
    "editable": false,
    "id": "96QRlEr34IWX",
    "nbgrader": {
     "cell_type": "markdown",
     "checksum": "aff7cbe5a15a0e3329dc223e3e31abf3",
     "grade": false,
     "grade_id": "cell-c4bf2e263ec553d8",
     "locked": true,
     "schema_version": 3,
     "solution": false,
     "task": false
    }
   },
   "source": [
    "---\n",
    "\n",
    "**Implementation (4 points):**\n",
    "Write a function to read the `cacm.all` file. Note that each document has a variable number of lines. The `.I` field denotes a new document:"
   ]
  },
  {
   "cell_type": "code",
   "execution_count": 115,
   "metadata": {
    "ExecuteTime": {
     "end_time": "2021-02-15T10:47:45.227835Z",
     "start_time": "2021-02-15T10:47:45.220853Z"
    },
    "deletable": false,
    "id": "vNE2WPK-4IWX",
    "nbgrader": {
     "cell_type": "code",
     "checksum": "45fef5d5b543ee439176d7fd0a9d20be",
     "grade": false,
     "grade_id": "cell-b736116eb419c624",
     "locked": false,
     "schema_version": 3,
     "solution": true,
     "task": false
    }
   },
   "outputs": [],
   "source": [
    "# TODO: Implement this! (4 points)\n",
    "def read_cacm_docs(root_folder = \"./datasets/\"):\n",
    "    \"\"\"\n",
    "        Reads in the CACM documents. The dataset is assumed to be in the folder \"./datasets/\" by default\n",
    "        Returns: A list of 2-tuples: (doc_id, document), where 'document' is a single string created by \n",
    "            appending the title and abstract (separated by a \"\\n\"). \n",
    "            In case the record doesn't have an abstract, the document is composed only by the title\n",
    "    \"\"\"\n",
    "    # YOUR CODE HERE\n",
    "    doc_list = []\n",
    "    with open(root_folder + 'cacm.all') as f:\n",
    "        data = (\"\\n\" + f.read()).split(\"\\n.I\")\n",
    "        for i in data[1:]:\n",
    "            lines = i.split(\"\\n.\")\n",
    "            doc_id = str(lines[0][1:])\n",
    "            document = ''\n",
    "            for line in lines[1:]:\n",
    "                if line[0] == \"T\":\n",
    "                    document += line[2:]\n",
    "                if line[0] == \"W\":\n",
    "                    document += line[1:]\n",
    "            doc_list.append((doc_id,document))\n",
    "    return doc_list"
   ]
  },
  {
   "cell_type": "code",
   "execution_count": 118,
   "metadata": {
    "ExecuteTime": {
     "end_time": "2021-02-15T10:47:45.252768Z",
     "start_time": "2021-02-15T10:47:45.230827Z"
    },
    "deletable": false,
    "editable": false,
    "id": "qXIA2lFl4IWY",
    "nbgrader": {
     "cell_type": "code",
     "checksum": "70472b5c277bb7c417de8da24e4e5261",
     "grade": true,
     "grade_id": "cell-a1c43818e0d3fd79",
     "locked": true,
     "points": 4,
     "schema_version": 3,
     "solution": false,
     "task": false
    }
   },
   "outputs": [],
   "source": [
    "##### Function check\n",
    "docs = read_cacm_docs()\n",
    "assert isinstance(docs, list)\n",
    "assert len(docs) == 3204, \"There should be exactly 3024 documents\"\n",
    "##### "
   ]
  },
  {
   "cell_type": "markdown",
   "metadata": {
    "deletable": false,
    "editable": false,
    "id": "uZRyfi9R4IWY",
    "nbgrader": {
     "cell_type": "markdown",
     "checksum": "6fd095d2204cce3935444ca37c7c42da",
     "grade": false,
     "grade_id": "cell-5ed2ddc91f73c60e",
     "locked": true,
     "schema_version": 3,
     "solution": false,
     "task": false
    }
   },
   "source": [
    "---\n",
    "### 1.2 Read the CACM queries (3 points)\n",
    "\n",
    "Next, let us read the queries. They are formatted similarly:"
   ]
  },
  {
   "cell_type": "code",
   "execution_count": 121,
   "metadata": {
    "ExecuteTime": {
     "end_time": "2021-02-15T10:47:45.309639Z",
     "start_time": "2021-02-15T10:47:45.255759Z"
    },
    "colab": {
     "base_uri": "https://localhost:8080/"
    },
    "deletable": false,
    "editable": false,
    "id": "SypqoG8T4IWY",
    "nbgrader": {
     "cell_type": "code",
     "checksum": "5d26c0908e758acb9968b84056b1060a",
     "grade": false,
     "grade_id": "cell-5c7e8e7c4fc2757f",
     "locked": true,
     "schema_version": 3,
     "solution": false,
     "task": false
    },
    "outputId": "061e0dc1-6f1b-4d21-ff2b-775699a7a874"
   },
   "outputs": [
    {
     "output_type": "stream",
     "name": "stderr",
     "text": [
      "'head' is not recognized as an internal or external command,\noperable program or batch file.\n"
     ]
    }
   ],
   "source": [
    "##### The first 15 lines of 'query.text' has 2 queries\n",
    "# We are interested only in 2 fields. \n",
    "# 1. the '.I' - the query id\n",
    "# 2. the '.W' - the query\n",
    "!head -15 ./datasets/query.text\n",
    "#####"
   ]
  },
  {
   "cell_type": "markdown",
   "metadata": {
    "deletable": false,
    "editable": false,
    "id": "wrddYisC4IWY",
    "nbgrader": {
     "cell_type": "markdown",
     "checksum": "da34d95924026ea55bf0a9b2070ec237",
     "grade": false,
     "grade_id": "cell-88e293507d2dcef6",
     "locked": true,
     "schema_version": 3,
     "solution": false,
     "task": false
    }
   },
   "source": [
    "---\n",
    "\n",
    "**Implementation (3 points):**\n",
    "Write a function to read the `query.text` file:"
   ]
  },
  {
   "cell_type": "code",
   "execution_count": 124,
   "metadata": {
    "ExecuteTime": {
     "end_time": "2021-02-15T10:47:45.317616Z",
     "start_time": "2021-02-15T10:47:45.311632Z"
    },
    "deletable": false,
    "id": "Ct3uxE-s4IWZ",
    "nbgrader": {
     "cell_type": "code",
     "checksum": "f98ac81b2ccb44fe3441e202e980c847",
     "grade": false,
     "grade_id": "cell-433e3ad5d0e2572a",
     "locked": false,
     "schema_version": 3,
     "solution": true,
     "task": false
    }
   },
   "outputs": [],
   "source": [
    "# TODO: Implement this! (3 points)\n",
    "def read_queries(root_folder = \"./datasets/\"):\n",
    "    \"\"\"\n",
    "        Reads in the CACM queries. The dataset is assumed to be in the folder \"./datasets/\" by default\n",
    "        Returns: A list of 2-tuples: (query_id, query)\n",
    "    \"\"\"\n",
    "    # YOUR CODE HERE\n",
    "    query_list = []\n",
    "    with open(root_folder + 'query.text') as f:\n",
    "        data = (\"\\n\" + f.read()).split(\"\\n.I\")\n",
    "        for i in data[1:]:\n",
    "            lines = i.split(\"\\n.\")\n",
    "            query_id = str(lines[0][1:])\n",
    "            query = ''\n",
    "            for line in lines[1:]:\n",
    "                if line[0] == \"W\":\n",
    "                    query += line[1:]\n",
    "            query_list.append((query_id,query))\n",
    "    print(query_list)\n",
    "    return query_list\n"
   ]
  },
  {
   "cell_type": "code",
   "execution_count": 127,
   "metadata": {
    "ExecuteTime": {
     "end_time": "2021-02-15T10:47:45.325595Z",
     "start_time": "2021-02-15T10:47:45.319612Z"
    },
    "colab": {
     "base_uri": "https://localhost:8080/"
    },
    "deletable": false,
    "editable": false,
    "id": "DYO92aQn4IWZ",
    "nbgrader": {
     "cell_type": "code",
     "checksum": "c0e7a9868bd4b92692c33732af640b8b",
     "grade": true,
     "grade_id": "cell-6ec540abce66c598",
     "locked": true,
     "points": 3,
     "schema_version": 3,
     "solution": false,
     "task": false
    },
    "outputId": "e6294e67-a14f-425e-d65d-a5780b07b487"
   },
   "outputs": [
    {
     "output_type": "stream",
     "name": "stdout",
     "text": [
      "[('1', '\\n What articles exist which deal with TSS (Time Sharing System), an\\noperating system for IBM computers?'), ('2', '\\n I am interested in articles written either by Prieve or Udo Pooch'), ('3', '\\n Intermediate languages used in construction of multi-targeted compilers; TCOLL'), ('4', \"\\n I'm interested in mechanisms for communicating between disjoint processes,\\npossibly, but not exclusively, in a distributed environment.  I would\\nrather see descriptions of complete mechanisms, with or without implementations,\\nas opposed to theoretical work on the abstract problem.  Remote procedure\\ncalls and message-passing are examples of my interests.\"), ('5', \"\\n I'd like papers on design and implementation of editing interfaces,\\nwindow-managers, command interpreters, etc.  The essential issues are\\nhuman interface design, with views on improvements to user efficiency,\\neffectiveness and satisfaction.\"), ('6', '\\n Interested in articles on robotics, motion planning particularly the\\ngeometric and combinatorial aspects.  We are not interested in the\\ndynamics of arm motion.'), ('7', '\\n I am interested in distributed algorithms - concurrent programs in\\nwhich processes communicate and synchronize by using message passing.\\nAreas of particular interest include fault-tolerance and techniques\\nfor understanding the correctness of these algorithms.'), ('8', '\\n Addressing schemes for resources in networks; resource addressing in\\nnetwork operating systems'), ('9', '\\n Security considerations in local networks, network operating systems,\\nand distributed systems.'), ('10', '\\n Parallel languages; languages for parallel computation'), ('11', '\\n SETL, Very High Level Languages'), ('12', '\\n portable operating systems'), ('13', '\\n code optimization for space efficiency'), ('14', '\\n find all discussions of optimal implementations of sort algorithms for\\ndatabase management applications'), ('15', '\\n Find all discussions of horizontal microcode optimization with special\\nemphasis on optimization of loops and global optimization.'), ('16', '\\n find all descriptions of file handling in operating systems based on\\nmultiple processes and message passing.'), ('17', '\\n Optimization of intermediate and machine code'), ('18', '\\n Languages and compilers for parallel processors, especially highly\\nhorizontal microcoded machines; code compaction'), ('19', '\\n Parallel algorithms'), ('20', '\\n Graph theoretic algorithms applicable to sparse matrices'), ('21', '\\n computational complexity, intractability, class-complete reductions,\\nalgorithms and efficiency'), ('22', '\\n I am interested in hidden-line and hidden-surface algorithms for\\ncylinders, toroids, spheres, and cones.  This is a rather specialized\\ntopic in computer graphics.'), ('23', '\\n Distributed computing structures and algorithms'), ('24', '\\n Applied stochastic processes'), ('25', '\\n Performance evaluation and modelling of computer systems'), ('26', '\\n Concurrency control mechanisms in operating systems'), ('27', '\\n Memory management aspects of operating systems'), ('28', '\\n Any information on packet radio networks.  Of particular interest are\\nalgorithms for packet routing, and for dealing with changes in\\nnetwork topography.  I am not interested in the hardware used in the\\nnetwork.'), ('29', '\\n Number-theoretic algorithms, especially involving prime number series,\\nsieves, and Chinese Remainder theorem.'), ('30', '\\n Articles on text formatting systems, including \"what you see is what you\\nget\" systems.  Examples: t/nroff, scribe, bravo.'), ('31', '\\n I\\'d like to find articles describing the use of singular value decomposition\\nin digital image processing.  Applications include finding approximations\\nto the original image and restoring images that are subject to noise. An\\narticle on the subject is H.C. Andrews and C.L. Patterson \"Outer product\\nexpansions and their uses in digital image processing\", American Mathematical\\nMonthly, vol. 82.'), ('32', \"\\n I'd like to find articles describing graph algorithms that are based on\\nthe eigenvalue decomposition (or singular value decomposition) of the\\najacency matrix for the graph.  I'm especially interested in any heuristic\\nalgorithms for graph coloring and graph isomorphism using this method.\"), ('33', '\\n Articles about the sensitivity of the eigenvalue decomposition of real\\nmatrices, in particular, zero-one matrices.  I\\'m especially interested in\\nthe separation of eigenspaces corresponding to distinct eigenvalues.\\nArticles on the subject:\\nC. Davis and W.M. Kahn, \"The rotation of eigenvectors by a permutation:,\\nSIAM J. Numerical Analysis, vol. 7, no. 1 (1970); G.W. Stewart, \"Error\\nbounds for approximate invariant subspaces of closed linear operators\",\\nSIAM J. Numerical Analysis., Vol. 8, no. 4 (1971).'), ('34', '\\n Currently interested in isolation of root of polynomial; there is an old\\narticle by Heindel, L.E. in J. ACM, Vol. 18, 533-548.  I would like to find\\nmore recent material.'), ('35', '\\n Probabilistic algorithms especially those dealing with algebraic and\\nsymbolic manipulation.  Some examples:\\nRabiin, \"Probabilistic algorithm on finite field\", SIAM\\nWaztch, \"Probabilistic testing of polynomial identities\", SIAM'), ('36', '\\n Fast algorithm for context-free language recognition or parsing'), ('37', '\\n Articles describing the relationship between data types and concurrency\\n(e.g. what is the type of a process?  when is a synchronization attempt \\nbetween two processes \"type correct\"?  in a message-passing system is there\\nany notion of the types of messages?--i.e. any way to check that the sender\\nof the message and the receiver are both treating the bit stream as some\\nparticular type)'), ('38', '\\n What is the type of a module?\\t(I don\\'t want the entire literature on\\nAbstract Data Types here, but I\\'m not sure how to phrase this to avoid it.\\nI\\'m interested in questions about how one can check that a module \"matches\"\\ncontexts in which it is used.)'), ('39', '\\n What does type compatibility mean in languages that allow programmer\\ndefined types?  (You might want to restrict this to \"extensible\" languages\\nthat allow definition of abstract data types or programmer-supplied\\ndefinitions of operators like *, +.)'), ('40', '\\n List all articles dealing with data types in the following languages:\\nPascal, CLU, Alphard, Russell, Ada, ALGOL 68, EL1.  List any other languages\\nthat are referenced frequently in papers on the above languages (e.g. catch\\nany languages with interesting type structures that I might have missed).'), ('41', '\\n Theory of distributed systems and databases.  Subtopics of special\\ninterest include reliability and fault-tolerance in distributed systems,\\natomicity, distributed transactions, synchronization algorithms, \\nresource allocation; lower bounds and models for asynchronous parallel\\nsystems.  Also theory of communicating processes and protocols.   '), ('42', '\\n Computer performance evaluation techniques using pattern recognition\\nand clustering.'), ('43', '\\n Analysis and perception of shape by humans and computers.  Shape\\ndescriptions, shape recognition by computer.  Two-dimensional shapes.\\nMeasures of circularity.  Shape matching.'), ('44', '\\n Texture analysis by computer.\\tDigitized texture analysis.  Texture\\nsynthesis. Perception of texture.'), ('45', '\\n The use of operations research models to optimize information system\\nperformance.  This includes fine tuning decisions such as secondary index\\nselection, file reorganization, and distributed databases.'), ('46', '\\n The application of fuzzy subset theory to clustering and information\\nretrieval problems.  This includes performance evaluation and automatic\\nindexing considerations.'), ('47', '\\n The use of Bayesian decision models to optimize information retrieval\\nsystem performance.  This includes stopping rules to determine when a\\nuser should cease scanning the output of a retrieval search.'), ('48', '\\n The use of computer science principles (e.g. data structures, \\nnumerical methods) in generating optimization (e.g. linear programming)\\nalgorithms.  This includes issues of the Khachian (Russian, ellipsoidal)\\nalgorithm and complexity of such algorithms.'), ('49', '\\n The role of information retrieval in knowledge based systems\\n(i.e., expert systems).'), ('50', '\\n Parallel processors in information retrieval'), ('51', '\\n Parallel processors and paging algorithms'), ('52', '\\n Modelling and simulation in agricultural ecosystems.'), ('53', '\\n mathematical induction, group theory, integers modulo m,\\nprobability, binomial coefficients, binomial theorem, homomorphism,\\nmorphism, transitivity, relations, relation matrix.'), ('54', '\\n Semantics of programming languages, including abstract specifications\\nof data types, denotational semantics, and proofs of correctness.'), ('55', '\\n Anything dealing with star height of regular languages or regular\\nexpressions or regular events.'), ('56', '\\n Articles relation the algebraic theory of semigroups and monoids\\nto the study of automata and regular languages.'), ('57', '\\n Abstracts of articles:\\n    J. Backus, \"Can programming be liberated from the Von Neumann style?\\n               A functional style and its algebra of programs\", CACM 21\\n               (1978), 613-641.\\n    R.A.De Millo, R.J. Lipton, A.J. Perlis, letter to ACM Forum, CACM 22\\n\\t       (1979), 629-630'), ('58', \"\\n Algorithms or statistical packages for ANOVA, regression using least\\nsquares or generalized linear models.  System design, capabilities,\\nstatistical formula are of interest.  Student's t test, Wilcoxon and\\nsign tests, multivariate and univariate components can be included.\"), ('59', '\\n Dictionary construction and accessing methods for fast retrieval\\nof words or lexical items or morphologically related information.\\nHashing or indexing methods are usually applied to English spelling or\\nnatural language problems.'), ('60', '\\n Hardware and software relating to database management systems.\\nDatabase packages, back end computers, special associative hardware\\nwith microcomputers attached to disk heads or things like RAP, \\nrelational or network (CODASYL) or hierarchical models, systems\\nlike SYSTEM R, IMS, ADABAS, TOTAL, etc.'), ('61', '\\n Information retrieval articles by Gerard Salton or others about clustering,\\nbibliographic coupling, use of citations or co-citations, the vector\\nspace model, Boolean search methods using inverted files, feedback, etc.'), ('62', \"\\n Results relating parallel complexity theory (both for PRAM's and\\nuniform circuits).\"), ('63', '\\n Algorithms for parallel computation, and especially comparisons\\nbetween parallel and sequential algorithms.'), ('64', \"\\n List all articles on EL1 and ECL (EL1 may be given as EL/1; I don't\\nremember how they did it.\")]\n"
     ]
    }
   ],
   "source": [
    "##### Function check\n",
    "queries = read_queries()\n",
    "\n",
    "assert isinstance(queries, list)\n",
    "assert len(queries) == 64 and all([q[1] is not None for q in queries]), \"There should be exactly 64 queries\"\n",
    "##### "
   ]
  },
  {
   "cell_type": "markdown",
   "metadata": {
    "deletable": false,
    "editable": false,
    "id": "7PZ1YsjO4IWa",
    "nbgrader": {
     "cell_type": "markdown",
     "checksum": "652f9159caea63888e06b54103bd7f32",
     "grade": false,
     "grade_id": "cell-1c31569491d7b782",
     "locked": true,
     "schema_version": 3,
     "solution": false,
     "task": false
    }
   },
   "source": [
    "---\n",
    "### 1.3 Read the stop words (1 point)\n",
    "\n",
    "We use the common words stored in `common_words`:"
   ]
  },
  {
   "cell_type": "code",
   "execution_count": 130,
   "metadata": {
    "ExecuteTime": {
     "end_time": "2021-02-15T10:47:45.379477Z",
     "start_time": "2021-02-15T10:47:45.326593Z"
    },
    "colab": {
     "base_uri": "https://localhost:8080/"
    },
    "deletable": false,
    "editable": false,
    "id": "3eIEzeOd4IWa",
    "nbgrader": {
     "cell_type": "code",
     "checksum": "1ad6f5bae6a792504c1c8513ae5751ad",
     "grade": false,
     "grade_id": "cell-34bdb63461418a96",
     "locked": true,
     "schema_version": 3,
     "solution": false,
     "task": false
    },
    "outputId": "4b9a90c7-f76e-41fa-cf60-f87c74f6061f"
   },
   "outputs": [
    {
     "output_type": "stream",
     "name": "stderr",
     "text": [
      "'head' is not recognized as an internal or external command,\noperable program or batch file.\n"
     ]
    }
   ],
   "source": [
    "##### Read the stop words file \n",
    "!head ./datasets/common_words\n",
    "##### Read the README file "
   ]
  },
  {
   "cell_type": "markdown",
   "metadata": {
    "deletable": false,
    "editable": false,
    "id": "yS-QJ59W4IWa",
    "nbgrader": {
     "cell_type": "markdown",
     "checksum": "f720edbacd79170351156a443e0018ff",
     "grade": false,
     "grade_id": "cell-4744bde0338895d8",
     "locked": true,
     "schema_version": 3,
     "solution": false,
     "task": false
    }
   },
   "source": [
    "---\n",
    "**Implementation (1 point):**\n",
    "Write a function to read the `common_words` file (For better coverage, try to keep them in lowercase):"
   ]
  },
  {
   "cell_type": "code",
   "execution_count": 133,
   "metadata": {
    "ExecuteTime": {
     "end_time": "2021-02-15T10:47:45.385461Z",
     "start_time": "2021-02-15T10:47:45.381472Z"
    },
    "deletable": false,
    "id": "lgwbY-mG4IWb",
    "nbgrader": {
     "cell_type": "code",
     "checksum": "e6a9e9bb3ad0f8dc2ec3c497a3149092",
     "grade": false,
     "grade_id": "cell-7357aa40f64e5bcb",
     "locked": false,
     "schema_version": 3,
     "solution": true,
     "task": false
    }
   },
   "outputs": [],
   "source": [
    "# TODO: Implement this! (1 point)\n",
    "def load_stopwords(root_folder = \"./datasets/\"):\n",
    "    \"\"\"\n",
    "        Loads the stopwords. The dataset is assumed to be in the folder \"./datasets/\" by default\n",
    "        Output: A set of stopwords\n",
    "    \"\"\"\n",
    "    # YOUR CODE HERE\n",
    "    with open(os.path.join(root_folder, \"common_words\"), 'r+') as f:\n",
    "        words = set(f.readlines())\n",
    "        \n",
    "    \n",
    "    return words"
   ]
  },
  {
   "cell_type": "code",
   "execution_count": 136,
   "metadata": {
    "ExecuteTime": {
     "end_time": "2021-02-15T10:47:45.391445Z",
     "start_time": "2021-02-15T10:47:45.387456Z"
    },
    "colab": {
     "base_uri": "https://localhost:8080/",
     "height": 316
    },
    "deletable": false,
    "editable": false,
    "id": "H_RpcrQ84IWb",
    "nbgrader": {
     "cell_type": "code",
     "checksum": "9211b9735b828d89d1a51d8743c448b4",
     "grade": true,
     "grade_id": "cell-2ca3ac162004de97",
     "locked": true,
     "points": 1,
     "schema_version": 3,
     "solution": false,
     "task": false
    },
    "outputId": "ac1d355d-212f-4b8a-deda-f4058a3716b2"
   },
   "outputs": [],
   "source": [
    "##### Function check\n",
    "stopwords = load_stopwords()\n",
    "\n",
    "assert isinstance(stopwords, set)\n",
    "assert len(stopwords) == 428, \"There should be exactly 428 stop words\"\n",
    "##### "
   ]
  },
  {
   "cell_type": "markdown",
   "metadata": {
    "deletable": false,
    "editable": false,
    "id": "OKFMtm3T4IWb",
    "nbgrader": {
     "cell_type": "markdown",
     "checksum": "fc7e419f35dfd3f507d8a7555ce2cde9",
     "grade": false,
     "grade_id": "cell-134b72872f4300cb",
     "locked": true,
     "schema_version": 3,
     "solution": false,
     "task": false
    }
   },
   "source": [
    "---\n",
    "### 1.4 Tokenization (4 points)\n",
    "\n",
    "We can now write some basic text processing functions. \n",
    "A first step is to tokenize the text. \n",
    "\n",
    "**Note**: Use the  `WordPunctTokenizer` available in the `nltk` library:"
   ]
  },
  {
   "cell_type": "code",
   "execution_count": 139,
   "metadata": {
    "ExecuteTime": {
     "end_time": "2021-02-15T10:47:45.396432Z",
     "start_time": "2021-02-15T10:47:45.392442Z"
    },
    "deletable": false,
    "id": "OWakwkEw4IWb",
    "nbgrader": {
     "cell_type": "code",
     "checksum": "3f5564d3c75bf22fbf832b3a9b938f37",
     "grade": false,
     "grade_id": "cell-322be4c9499bdc4b",
     "locked": false,
     "schema_version": 3,
     "solution": true,
     "task": false
    }
   },
   "outputs": [],
   "source": [
    "# TODO: Implement this! (4 points)\n",
    "def tokenize(text):\n",
    "    \"\"\"\n",
    "        Tokenizes the input text. Use the WordPunctTokenizer\n",
    "        Input: text - a string\n",
    "        Output: a list of tokens\n",
    "    \"\"\"\n",
    "    # YOUR CODE HERE\n",
    "    return nltk.tokenize.WordPunctTokenizer().tokenize(text)\n",
    "    "
   ]
  },
  {
   "cell_type": "code",
   "execution_count": 143,
   "metadata": {
    "ExecuteTime": {
     "end_time": "2021-02-15T10:47:45.402416Z",
     "start_time": "2021-02-15T10:47:45.398428Z"
    },
    "deletable": false,
    "editable": false,
    "id": "Mk4dGvkP4IWc",
    "nbgrader": {
     "cell_type": "code",
     "checksum": "f60b93aa03bf9eced64940252eb33fe3",
     "grade": true,
     "grade_id": "cell-7fbf48bf7541a622",
     "locked": true,
     "points": 4,
     "schema_version": 3,
     "solution": false,
     "task": false
    }
   },
   "outputs": [
    {
     "output_type": "stream",
     "name": "stdout",
     "text": [
      "['the', 'quick', 'brown', 'fox', 'jumps', 'over', 'the', 'lazy', 'dog']\n"
     ]
    }
   ],
   "source": [
    "##### Function check\n",
    "text = \"the quick brown fox jumps over the lazy dog\"\n",
    "tokens = tokenize(text)\n",
    "\n",
    "assert isinstance(tokens, list)\n",
    "assert len(tokens) == 9\n",
    "\n",
    "print(tokens)\n",
    "# output: ['the', 'quick', 'brown', 'fox', 'jumps', 'over', 'the', 'lazy', 'dog']\n",
    "#####"
   ]
  },
  {
   "cell_type": "markdown",
   "metadata": {
    "deletable": false,
    "editable": false,
    "id": "PEw9RAKO4IWc",
    "nbgrader": {
     "cell_type": "markdown",
     "checksum": "1b1cc868db22735e5e193bc64ff67877",
     "grade": false,
     "grade_id": "cell-fd1b98ae61b697ca",
     "locked": true,
     "schema_version": 3,
     "solution": false,
     "task": false
    }
   },
   "source": [
    "---\n",
    "### 1.5 Stemming (3 points)\n",
    "\n",
    "Write a function to stem tokens. \n",
    "Again, you can use the nltk library for this:"
   ]
  },
  {
   "cell_type": "code",
   "execution_count": 146,
   "metadata": {
    "ExecuteTime": {
     "end_time": "2021-02-15T10:47:45.408401Z",
     "start_time": "2021-02-15T10:47:45.404412Z"
    },
    "deletable": false,
    "id": "ViYt0smN4IWc",
    "nbgrader": {
     "cell_type": "code",
     "checksum": "1c4a6aa979d66158c7b6b992af43293a",
     "grade": false,
     "grade_id": "cell-e3f6c8e3f874b28d",
     "locked": false,
     "schema_version": 3,
     "solution": true,
     "task": false
    }
   },
   "outputs": [],
   "source": [
    "# TODO: Implement this! (3 points)\n",
    "def stem_token(token):\n",
    "    \"\"\"\n",
    "        Stems the given token using the PorterStemmer from the nltk library\n",
    "        Input: a single token\n",
    "        Output: the stem of the token\n",
    "    \"\"\"\n",
    "    ps = nltk.stem.PorterStemmer()\n",
    "    return ps.stem(token)\n"
   ]
  },
  {
   "cell_type": "code",
   "execution_count": 149,
   "metadata": {
    "ExecuteTime": {
     "end_time": "2021-02-15T10:47:45.415382Z",
     "start_time": "2021-02-15T10:47:45.411394Z"
    },
    "deletable": false,
    "editable": false,
    "id": "-qSBNMns4IWd",
    "nbgrader": {
     "cell_type": "code",
     "checksum": "cd2611a46e7c2e92af438d7166cf2616",
     "grade": true,
     "grade_id": "cell-cd6863e6ee6ed205",
     "locked": true,
     "points": 3,
     "schema_version": 3,
     "solution": false,
     "task": false
    }
   },
   "outputs": [],
   "source": [
    "##### Function check\n",
    "assert stem_token('owned') == 'own'\n",
    "assert stem_token('itemization') == 'item'\n",
    "#####"
   ]
  },
  {
   "cell_type": "markdown",
   "metadata": {
    "deletable": false,
    "editable": false,
    "id": "M10Gq1wo4IWd",
    "nbgrader": {
     "cell_type": "markdown",
     "checksum": "5fcc93f08a6abcaffd5bd9475e4768e5",
     "grade": false,
     "grade_id": "cell-47c9f90498699110",
     "locked": true,
     "schema_version": 3,
     "solution": false,
     "task": false
    }
   },
   "source": [
    "---\n",
    "### 1.6 Summary\n",
    "\n",
    "The following function puts it all together. Given a string, it tokenizes it and processes it according to the flags that you set."
   ]
  },
  {
   "cell_type": "code",
   "execution_count": 152,
   "metadata": {
    "ExecuteTime": {
     "end_time": "2021-02-15T10:47:45.421365Z",
     "start_time": "2021-02-15T10:47:45.417376Z"
    },
    "deletable": false,
    "editable": false,
    "id": "Y9P9q9074IWd",
    "nbgrader": {
     "cell_type": "code",
     "checksum": "2ff2d215ee8e0039c5a91fd3de12e6bd",
     "grade": false,
     "grade_id": "cell-dd0d3f46b30801da",
     "locked": true,
     "schema_version": 3,
     "solution": false,
     "task": false
    }
   },
   "outputs": [],
   "source": [
    "#### Putting it all together\n",
    "def process_text(text, stem=False, remove_stopwords=False, lowercase_text=False):\n",
    "    \n",
    "    tokens = []\n",
    "    for token in tokenize(text):\n",
    "        if remove_stopwords and token.lower() in stopwords:\n",
    "            continue\n",
    "        if stem:\n",
    "            token = stem_token(token)\n",
    "        if lowercase_text:\n",
    "            token = token.lower()\n",
    "        tokens.append(token)\n",
    "\n",
    "    return tokens\n",
    "#### "
   ]
  },
  {
   "cell_type": "markdown",
   "metadata": {
    "deletable": false,
    "editable": false,
    "id": "3ZprLpXX4IWd",
    "nbgrader": {
     "cell_type": "markdown",
     "checksum": "02d433b18eb43654fa4306a7bf55b190",
     "grade": false,
     "grade_id": "cell-8d885bfd2edd43ae",
     "locked": true,
     "schema_version": 3,
     "solution": false,
     "task": false
    }
   },
   "source": [
    "---\n",
    "\n",
    "Let's create two sets of preprocessed documents.\n",
    "We can process the documents and queries according to these two configurations:"
   ]
  },
  {
   "cell_type": "code",
   "execution_count": 155,
   "metadata": {
    "ExecuteTime": {
     "end_time": "2021-02-15T10:47:49.254201Z",
     "start_time": "2021-02-15T10:47:45.422364Z"
    },
    "deletable": false,
    "editable": false,
    "id": "zSAhYQo84IWd",
    "nbgrader": {
     "cell_type": "code",
     "checksum": "dbe4ca667be6842fdcf512fbcad50c7f",
     "grade": false,
     "grade_id": "cell-d427365ee0fb21d8",
     "locked": true,
     "schema_version": 3,
     "solution": false,
     "task": false
    }
   },
   "outputs": [],
   "source": [
    "# In this configuration:\n",
    "# Don't preprocess the text, except to tokenize \n",
    "config_1 = {\n",
    "  \"stem\": False,\n",
    "  \"remove_stopwords\" : False,\n",
    "  \"lowercase_text\": True\n",
    "} \n",
    "\n",
    "\n",
    "# In this configuration:\n",
    "# Preprocess the text, stem and remove stopwords\n",
    "config_2 = {\n",
    "  \"stem\": True,\n",
    "  \"remove_stopwords\" : True,\n",
    "  \"lowercase_text\": True, \n",
    "} \n",
    "\n",
    "####\n",
    "doc_repr_1 = []\n",
    "doc_repr_2 = []\n",
    "for (doc_id, document) in docs:\n",
    "    doc_repr_1.append((doc_id, process_text(document, **config_1)))\n",
    "    doc_repr_2.append((doc_id, process_text(document, **config_2)))\n",
    "\n",
    "####"
   ]
  },
  {
   "cell_type": "markdown",
   "metadata": {
    "deletable": false,
    "editable": false,
    "id": "ARVTcJrC4IWe",
    "nbgrader": {
     "cell_type": "markdown",
     "checksum": "b60589aac19e80941d860d9b3f1e9a16",
     "grade": false,
     "grade_id": "cell-b1c102db61ae7495",
     "locked": true,
     "schema_version": 3,
     "solution": false,
     "task": false
    }
   },
   "source": [
    "--- \n",
    "\n",
    "## Section 2: Indexing (10 points)<a class=\"anchor\" id=\"indexing\"></a>\n",
    "\n",
    "[Back to Part 1](#part1)\n",
    "\n",
    "\n",
    "\n",
    "A retrieval function usually takes in a query document pair, and scores a query against a document.  Our document set is quite small - just a few thousand documents. However, consider a web-scale dataset with a few million documents. In such a scenario, it would become infeasible to score every query and document pair. In such a case, we can build an inverted index. From Wikipedia:\n",
    "\n",
    "> ... , an inverted index (also referred to as a postings file or inverted file) is a database index storing a mapping from content, such as words or numbers, to its locations in a table, .... The purpose of an inverted index is to allow fast full-text searches, at a cost of increased processing when a document is added to the database. ...\n",
    "\n",
    "\n",
    "Consider a simple inverted index, which maps from word to document. This can improve the performance of a retrieval system significantly. In this assignment, we consider a *simple* inverted index, which maps a word to a set of documents. In practice, however, more complex indices might be used.  \n"
   ]
  },
  {
   "cell_type": "markdown",
   "metadata": {
    "deletable": false,
    "editable": false,
    "id": "pu4nDAJQ4IWe",
    "nbgrader": {
     "cell_type": "markdown",
     "checksum": "710fd943f45523ac36fcb887cc0d4d39",
     "grade": false,
     "grade_id": "cell-fa373192c1b7bb95",
     "locked": true,
     "schema_version": 3,
     "solution": false,
     "task": false
    }
   },
   "source": [
    "### 2.1 Term Frequency-index (10 points)\n",
    "In this assignment, we will be using an index created in memory since our dataset is tiny. To get started, build a simple index that maps each `token` to a list of `(doc_id, count)` where `count` is the count of the `token` in `doc_id`.\n",
    "For consistency, build this index using a python dictionary.\n",
    "    \n",
    "Now, implement a function to build an index:"
   ]
  },
  {
   "cell_type": "code",
   "execution_count": 159,
   "metadata": {
    "ExecuteTime": {
     "end_time": "2021-02-15T10:47:49.259046Z",
     "start_time": "2021-02-15T10:47:49.255022Z"
    },
    "deletable": false,
    "id": "oILPNIpe4IWe",
    "nbgrader": {
     "cell_type": "code",
     "checksum": "c281c45196493b87e45e1b3fb4ddd6c9",
     "grade": false,
     "grade_id": "cell-077599b87e953209",
     "locked": false,
     "schema_version": 3,
     "solution": true,
     "task": false
    }
   },
   "outputs": [],
   "source": [
    "# TODO: Implement this! (10 points)\n",
    "def build_tf_index(documents):\n",
    "    \"\"\"\n",
    "        Build an inverted index (with counts). The output is a dictionary which takes in a token\n",
    "        and returns a list of (doc_id, count) where 'count' is the count of the 'token' in 'doc_id'\n",
    "        Input: a list of documents - (doc_id, tokens) \n",
    "        Output: An inverted index. [token] -> [(doc_id, token_count)]\n",
    "    \"\"\"\n",
    "    # YOUR CODE HERE\n",
    "    inverted_index = {}\n",
    "    for (doc_id, words) in documents:\n",
    "        word_occurences = Counter(words)        \n",
    "        for word in word_occurences:\n",
    "            token_count = word_occurences[word]\n",
    "            if word not in inverted_index:\n",
    "               inverted_index[word] = [(doc_id,token_count)]\n",
    "            else:\n",
    "                inverted_index[word].append((doc_id, token_count))\n",
    "\n",
    "    return inverted_index"
   ]
  },
  {
   "cell_type": "markdown",
   "metadata": {
    "deletable": false,
    "editable": false,
    "id": "Ydx63-0M4IWe",
    "nbgrader": {
     "cell_type": "markdown",
     "checksum": "15e7041b4323d2a290322de538ff7670",
     "grade": false,
     "grade_id": "cell-093aebfa504f96f2",
     "locked": true,
     "schema_version": 3,
     "solution": false,
     "task": false
    }
   },
   "source": [
    "---\n",
    "Now we can build indexed documents and preprocess the queries based on the two configurations:"
   ]
  },
  {
   "cell_type": "code",
   "execution_count": 162,
   "metadata": {
    "ExecuteTime": {
     "end_time": "2021-02-15T10:47:49.428891Z",
     "start_time": "2021-02-15T10:47:49.260008Z"
    },
    "deletable": false,
    "editable": false,
    "id": "uPguIGwp4IWe",
    "nbgrader": {
     "cell_type": "code",
     "checksum": "e27540c1d8d77a3779a05f557f3f40c6",
     "grade": false,
     "grade_id": "cell-b2ff1676348b90a8",
     "locked": true,
     "schema_version": 3,
     "solution": false,
     "task": false
    },
    "tags": []
   },
   "outputs": [],
   "source": [
    "#### Indexed documents based on the two configs\n",
    "\n",
    "# Create the 2 indices\n",
    "tf_index_1 = build_tf_index(doc_repr_1)\n",
    "tf_index_2 = build_tf_index(doc_repr_2)\n",
    "\n",
    "# This function returns the tf_index of the corresponding config\n",
    "def get_index(index_set):\n",
    "    assert index_set in {1, 2}\n",
    "    return {\n",
    "        1: tf_index_1,\n",
    "        2: tf_index_2\n",
    "    }[index_set]\n",
    "\n",
    "####\n",
    "#### Preprocessed query based on the two configs\n",
    "\n",
    "# This function preprocesses the text given the index set, according to the specified config\n",
    "def preprocess_query(text, index_set):\n",
    "    assert index_set in {1, 2}\n",
    "    if index_set == 1:\n",
    "        return process_text(text, **config_1)\n",
    "    elif index_set == 2:\n",
    "        return process_text(text, **config_2)\n",
    "\n",
    "#### "
   ]
  },
  {
   "cell_type": "code",
   "execution_count": 165,
   "metadata": {
    "ExecuteTime": {
     "end_time": "2021-02-15T10:47:49.433561Z",
     "start_time": "2021-02-15T10:47:49.429568Z"
    },
    "deletable": false,
    "editable": false,
    "id": "XgY38oQB4IWe",
    "nbgrader": {
     "cell_type": "code",
     "checksum": "2c50e4b4c68261ff1184277bcf3c38d8",
     "grade": true,
     "grade_id": "cell-fc7c7232d5d2ee46",
     "locked": true,
     "points": 5,
     "schema_version": 3,
     "solution": false,
     "task": false
    }
   },
   "outputs": [
    {
     "output_type": "stream",
     "name": "stdout",
     "text": [
      "[('4', 1), ('7', 1), ('10', 1), ('13', 1), ('19', 1), ('22', 1), ('23', 1), ('37', 1), ('40', 3), ('41', 1)]\n"
     ]
    }
   ],
   "source": [
    "##### Function check\n",
    "\n",
    "print(tf_index_1['computer'][:10])\n",
    "#### "
   ]
  },
  {
   "cell_type": "code",
   "execution_count": 168,
   "metadata": {
    "ExecuteTime": {
     "end_time": "2021-02-15T10:47:49.441539Z",
     "start_time": "2021-02-15T10:47:49.437588Z"
    },
    "deletable": false,
    "editable": false,
    "id": "IaQl12X74IWe",
    "nbgrader": {
     "cell_type": "code",
     "checksum": "02de27463e2a393f46278d6fe3160481",
     "grade": true,
     "grade_id": "cell-ff06bd11204db250",
     "locked": true,
     "points": 5,
     "schema_version": 3,
     "solution": false,
     "task": false
    }
   },
   "outputs": [
    {
     "output_type": "stream",
     "name": "stdout",
     "text": [
      "[('670', 1), ('675', 1), ('1621', 3), ('1681', 1), ('2145', 1), ('2339', 1), ('2572', 1), ('2583', 1), ('2739', 1), ('3012', 1)]\n"
     ]
    }
   ],
   "source": [
    "##### Function check\n",
    "\n",
    "print(tf_index_2['computer'][:10]) \n",
    "#### "
   ]
  },
  {
   "cell_type": "markdown",
   "metadata": {
    "deletable": false,
    "editable": false,
    "id": "D3EIl_rY4IWf",
    "nbgrader": {
     "cell_type": "markdown",
     "checksum": "982112dca3f9a75e871bea74fe1adab4",
     "grade": false,
     "grade_id": "cell-89eba71f04310291",
     "locked": true,
     "schema_version": 3,
     "solution": false,
     "task": false
    }
   },
   "source": [
    "\n",
    "---\n",
    "## Section 3: Ranking  (80 points) <a class=\"anchor\" id=\"ranking\"></a>\n",
    "\n",
    "[Back to Part 1](#part1)\n",
    "\n",
    "Now that we have cleaned and processed our dataset, we can start building simple IR systems. \n",
    "\n",
    "For now, we consider *simple* IR systems, which involve computing scores from the tokens present in the document/query. More advanced methods are covered in later assignments.\n",
    "\n",
    "We will implement the following methods in this section:\n",
    "- [Section 3.1: Bag of Words](#bow) (10 points)\n",
    "- [Section 3.2: TF-IDF](#tfidf) (15 points)\n",
    "- [Section 3.3: Query Likelihood Model](#qlm) (35 points)\n",
    "- [Section 3.4: BM25](#bm25) (20 points)\n",
    "\n",
    "**Scoring policy:**\n",
    "Your implementations in this section are scored based on the expected performance of your ranking functions.\n",
    "You will get a full mark if your implementation meets the expected performance (measured by some evaluation metric).\n",
    "Otherwise, you may get partial credit.\n",
    "For example, if your *Bag of words* ranking function has 60% of expected performance, you will get 4 out of 10."
   ]
  },
  {
   "cell_type": "markdown",
   "metadata": {
    "deletable": false,
    "editable": false,
    "id": "43wdjFkt4IWf",
    "nbgrader": {
     "cell_type": "markdown",
     "checksum": "97c13d2e2cad60df4a70dcb61ea7c30e",
     "grade": false,
     "grade_id": "cell-3daf70a60e393adf",
     "locked": true,
     "schema_version": 3,
     "solution": false,
     "task": false
    }
   },
   "source": [
    "--- \n",
    "\n",
    "### Section 3.1: Bag of Words (10 points)<a class=\"anchor\" id=\"bow\"></a>\n",
    "\n",
    "Probably the simplest IR model is the Bag of Words (BOW) model.\n",
    "Implement a function that scores and ranks all the documents against a query using this model.   \n",
    "\n",
    "Note that you can use either the count of the token or 'binarize' it i.e set the value equal to 1 if the token appears.   \n"
   ]
  },
  {
   "cell_type": "code",
   "execution_count": 171,
   "metadata": {
    "ExecuteTime": {
     "end_time": "2021-02-15T10:47:49.448570Z",
     "start_time": "2021-02-15T10:47:49.443533Z"
    },
    "deletable": false,
    "id": "YdfD8mWa4IWf",
    "nbgrader": {
     "cell_type": "code",
     "checksum": "1178c8a8908b0e4dc07add7aa49b7fde",
     "grade": false,
     "grade_id": "cell-de9cf0459c4b9324",
     "locked": false,
     "schema_version": 3,
     "solution": true,
     "task": false
    }
   },
   "outputs": [],
   "source": [
    "# TODO: Implement this! (10 points)\n",
    "def bow_search(query, index_set):\n",
    "    \"\"\"\n",
    "        Perform a search over all documents with the given query. \n",
    "        Note: You have to use the `get_index` function created in the previous cells\n",
    "        Input: \n",
    "            query - a (unprocessed) query\n",
    "            index_set - the index to use\n",
    "        Output: a list of (document_id, score), sorted in descending relevance to the given query \n",
    "    \"\"\"\n",
    "    index = get_index(index_set)\n",
    "    processed_query = preprocess_query(query, index_set)\n",
    "    \n",
    "    # YOUR CODE HERE\n",
    "    doc_scores = {}\n",
    "    for query_word in processed_query:\n",
    "        if query_word in index:\n",
    "            word_occurences = index[query_word] \n",
    "            for (doc_id, counts) in word_occurences:\n",
    "                if doc_id not in doc_scores:\n",
    "                    doc_scores[doc_id] = counts\n",
    "                else:\n",
    "                    doc_scores[doc_id] += counts\n",
    "    \n",
    "    sorted_scores = [(k, float(v)) for k, v in sorted(doc_scores.items(), key=lambda item:item[1], reverse=True)]\n",
    "\n",
    "    return sorted_scores"
   ]
  },
  {
   "cell_type": "code",
   "execution_count": 174,
   "metadata": {
    "ExecuteTime": {
     "end_time": "2021-02-15T10:47:49.455538Z",
     "start_time": "2021-02-15T10:47:49.449517Z"
    },
    "deletable": false,
    "editable": false,
    "id": "YAeh2kuY4IWf",
    "nbgrader": {
     "cell_type": "code",
     "checksum": "644d6d33cf5075c6d9878d4fe24c6213",
     "grade": true,
     "grade_id": "cell-9f6aceae6dd9125f",
     "locked": true,
     "points": 2,
     "schema_version": 3,
     "solution": false,
     "task": false
    }
   },
   "outputs": [
    {
     "output_type": "stream",
     "name": "stdout",
     "text": [
      "BOW Results:\nRank 0(6.0): An Information Algebra - Phase I Report-Language\\n...\nRank 1(6.0): Rejuvenating Experimental Computer Science\\nThis r...\nRank 2(3.0): ALGOL 60 Confidential\\nThe ALGOL 60 Report,* when ...\nRank 3(2.0): Automatic Abstracting and Indexing Survey and Reco...\nRank 4(2.0): A String Language for Symbol Manipulation Based on...\n"
     ]
    }
   ],
   "source": [
    "#### Function check\n",
    "\n",
    "docs_by_id = dict(docs)\n",
    "def print_results(docs, len_limit=50):    \n",
    "    for i, (doc_id, score) in enumerate(docs):\n",
    "        doc_content = docs_by_id[doc_id].strip().replace(\"\\n\", \"\\\\n\")[:len_limit] + \"...\"\n",
    "        print(f\"Rank {i}({score:.2}): {doc_content}\")\n",
    "\n",
    "test_bow = bow_search(\"report\", index_set=1)[:5]\n",
    "print(f\"BOW Results:\")\n",
    "print_results(test_bow)\n",
    "#### "
   ]
  },
  {
   "cell_type": "code",
   "execution_count": 177,
   "metadata": {
    "ExecuteTime": {
     "end_time": "2021-02-15T10:47:49.459524Z",
     "start_time": "2021-02-15T10:47:49.456499Z"
    },
    "deletable": false,
    "editable": false,
    "id": "VxcFb-PS4IWf",
    "nbgrader": {
     "cell_type": "code",
     "checksum": "8d54c91b913d7a54b25f3358c969fa45",
     "grade": true,
     "grade_id": "cell-4eed3abf233d9b58",
     "locked": true,
     "points": 2,
     "schema_version": 3,
     "solution": false,
     "task": false
    }
   },
   "outputs": [],
   "source": [
    "#### Please do not change this. This cell is used for grading."
   ]
  },
  {
   "cell_type": "code",
   "execution_count": 180,
   "metadata": {
    "ExecuteTime": {
     "end_time": "2021-02-15T10:47:49.463481Z",
     "start_time": "2021-02-15T10:47:49.460488Z"
    },
    "deletable": false,
    "editable": false,
    "id": "2Q52Hizy4IWf",
    "nbgrader": {
     "cell_type": "code",
     "checksum": "58bcc16d36dc079b7f41f9572423c62b",
     "grade": true,
     "grade_id": "cell-4d65a2d7090c466c",
     "locked": true,
     "points": 3,
     "schema_version": 3,
     "solution": false,
     "task": false
    }
   },
   "outputs": [],
   "source": [
    "#### Please do not change this. This cell is used for grading."
   ]
  },
  {
   "cell_type": "code",
   "execution_count": 183,
   "metadata": {
    "ExecuteTime": {
     "end_time": "2021-02-15T10:47:49.468604Z",
     "start_time": "2021-02-15T10:47:49.465475Z"
    },
    "deletable": false,
    "editable": false,
    "id": "_EV8Ezcu4IWg",
    "nbgrader": {
     "cell_type": "code",
     "checksum": "65e4561970c4eba3e5ce43b142f858af",
     "grade": true,
     "grade_id": "cell-dedf36ab5853ce20",
     "locked": true,
     "points": 3,
     "schema_version": 3,
     "solution": false,
     "task": false
    }
   },
   "outputs": [],
   "source": [
    "#### Please do not change this. This cell is used for grading."
   ]
  },
  {
   "cell_type": "markdown",
   "metadata": {
    "deletable": false,
    "editable": false,
    "id": "a6te4fbZ4IWg",
    "nbgrader": {
     "cell_type": "markdown",
     "checksum": "a5c2318004c5ce534b67c7a36bbc7c31",
     "grade": false,
     "grade_id": "cell-a5c09c79ac1f2871",
     "locked": true,
     "schema_version": 3,
     "solution": false,
     "task": false
    }
   },
   "source": [
    "\n",
    "---\n",
    "\n",
    "### Section 3.2: TF-IDF (15 points) <a class=\"anchor\" id=\"tfidf\"></a>\n",
    "\n",
    "Before we implement the tf-idf scoring functions, let's first write a function to compute the document frequencies of all words.  \n",
    "\n",
    "#### 3.2.1 Document frequency (5 points)\n",
    "Compute the document frequencies of all tokens in the collection.  "
   ]
  },
  {
   "cell_type": "code",
   "execution_count": 186,
   "metadata": {
    "ExecuteTime": {
     "end_time": "2021-02-15T10:47:49.475448Z",
     "start_time": "2021-02-15T10:47:49.470466Z"
    },
    "deletable": false,
    "id": "JTO8ZA5t4IWg",
    "nbgrader": {
     "cell_type": "code",
     "checksum": "11cdde77378ded394d7922fe36bbc5d1",
     "grade": false,
     "grade_id": "cell-9a2369f32e864b8a",
     "locked": false,
     "schema_version": 3,
     "solution": true,
     "task": false
    }
   },
   "outputs": [],
   "source": [
    "# TODO: Implement this! (5 points)\n",
    "def compute_df(documents):\n",
    "    \"\"\"\n",
    "        Compute the document frequency of all terms in the vocabulary\n",
    "        Input: A list of documents\n",
    "        Output: A dictionary with {token: document frequency)\n",
    "    \"\"\"\n",
    "    # YOUR CODE HERE\n",
    "    merge_list = []\n",
    "    for doc in documents:\n",
    "        merge_list.extend(set(doc))\n",
    "    dict_ = Counter(merge_list)\n",
    "    \n",
    "    return dict_ \n"
   ]
  },
  {
   "cell_type": "code",
   "execution_count": 189,
   "metadata": {
    "ExecuteTime": {
     "end_time": "2021-02-15T10:47:49.529309Z",
     "start_time": "2021-02-15T10:47:49.477442Z"
    },
    "deletable": false,
    "editable": false,
    "id": "pWi3HvTH4IWg",
    "nbgrader": {
     "cell_type": "code",
     "checksum": "154985511d7925c5793a1f97dea81880",
     "grade": false,
     "grade_id": "cell-4c3bddd0b73ac90e",
     "locked": true,
     "schema_version": 3,
     "solution": false,
     "task": false
    }
   },
   "outputs": [],
   "source": [
    "#### Compute df based on the two configs\n",
    "\n",
    "# get the document frequencies of each document\n",
    "df_1 = compute_df([d[1] for d in doc_repr_1])\n",
    "df_2 = compute_df([d[1] for d in doc_repr_2])\n",
    "\n",
    "def get_df(index_set):\n",
    "    assert index_set in {1, 2}\n",
    "    return {\n",
    "        1: df_1,\n",
    "        2: df_2\n",
    "    }[index_set]\n",
    "####"
   ]
  },
  {
   "cell_type": "code",
   "execution_count": 192,
   "metadata": {
    "ExecuteTime": {
     "end_time": "2021-02-15T10:47:49.534295Z",
     "start_time": "2021-02-15T10:47:49.530306Z"
    },
    "deletable": false,
    "editable": false,
    "id": "5Y16YYM04IWg",
    "nbgrader": {
     "cell_type": "code",
     "checksum": "110cc180068cf3f77c682ee3de2a117c",
     "grade": true,
     "grade_id": "cell-79e8a6db1e5fc46f",
     "locked": true,
     "points": 5,
     "schema_version": 3,
     "solution": false,
     "task": false
    }
   },
   "outputs": [
    {
     "output_type": "stream",
     "name": "stdout",
     "text": [
      "597\n11\n"
     ]
    }
   ],
   "source": [
    "#### Function check\n",
    "\n",
    "print(df_1['computer'])\n",
    "print(df_2['computer'])\n",
    "####"
   ]
  },
  {
   "cell_type": "markdown",
   "metadata": {
    "deletable": false,
    "editable": false,
    "id": "X2fSm6OJ4IWg",
    "nbgrader": {
     "cell_type": "markdown",
     "checksum": "6646996a2d016ef86e7cedd2f79a29d1",
     "grade": false,
     "grade_id": "cell-52f6acc487e1b96d",
     "locked": true,
     "schema_version": 3,
     "solution": false,
     "task": false
    }
   },
   "source": [
    "---\n",
    "#### 3.2.2 TF-IDF search (10 points)\n",
    "Next, implement a function that computes a tf-idf score given a query.      "
   ]
  },
  {
   "cell_type": "code",
   "execution_count": 195,
   "metadata": {
    "ExecuteTime": {
     "end_time": "2021-02-15T10:47:49.543835Z",
     "start_time": "2021-02-15T10:47:49.535293Z"
    },
    "deletable": false,
    "id": "xxWNAcOB4IWg",
    "nbgrader": {
     "cell_type": "code",
     "checksum": "b33c859693d1b383bcb53acea340027f",
     "grade": false,
     "grade_id": "cell-2fb5ba34b2994cd9",
     "locked": false,
     "schema_version": 3,
     "solution": true,
     "task": false
    }
   },
   "outputs": [
    {
     "output_type": "stream",
     "name": "stdout",
     "text": [
      "TFIDF Results:\nRank 0(1.3e+01): Logic and Programming Languages\\nLogic has been lo...\nRank 1(1.3e+01): Consumer Difficulties With Computerized Transactio...\nRank 2(8.9): What is Proprietary In Mathematical Programming?-I...\nRank 3(8.9): A Statistical Model for Console Behavior in Multiu...\nRank 4(8.9): Arguments for a Moratorium on the Construction\\nof...\n"
     ]
    }
   ],
   "source": [
    "# TODO: Implement this! (10 points)\n",
    "def tfidf_search(query, index_set):\n",
    "    \"\"\"\n",
    "        Perform a search over all documents with the given query using tf-idf. \n",
    "        Note #1: You have to use the `get_index` (and the `get_df`) function created in the previous cells\n",
    "        Input: \n",
    "            query - a (unprocessed) query\n",
    "            index_set - the index to use\n",
    "        Output: a list of (document_id, score), sorted in descending relevance to the given query \n",
    "    \"\"\"\n",
    "    index = get_index(index_set)\n",
    "    df = get_df(index_set)\n",
    "    processed_query = preprocess_query(query, index_set)\n",
    "    \n",
    "    # YOUR CODE HERE\n",
    "    nr_docs = len(doc_repr_1)\n",
    "    doc_scores = {}\n",
    "    for query_word in processed_query:\n",
    "        idf = math.log(nr_docs/df[query_word])\n",
    "        if query_word in index:\n",
    "            for (doc_id, tf) in index[query_word]:\n",
    "                if doc_id not in doc_scores:\n",
    "                    doc_scores[doc_id] = tf * idf\n",
    "                else:\n",
    "                    doc_scores[doc_id] += (tf * idf)\n",
    "\n",
    "        sorted_scores = [(k, v) for k, v in sorted(doc_scores.items(), key=lambda item:item[1], reverse=True)]\n",
    "        return sorted_scores\n",
    "\n",
    "\n",
    "\n",
    "\n",
    "test_tfidf = tfidf_search(\"What articles exist which deal with TSS (Time Sharing System), an operating system for IBM computers?\", index_set=1)[:5]\n",
    "print(f\"TFIDF Results:\")\n",
    "print_results(test_tfidf)"
   ]
  },
  {
   "cell_type": "code",
   "execution_count": 198,
   "metadata": {
    "ExecuteTime": {
     "end_time": "2021-02-15T10:47:49.548821Z",
     "start_time": "2021-02-15T10:47:49.544831Z"
    },
    "deletable": false,
    "editable": false,
    "id": "leBfCIu04IWh",
    "nbgrader": {
     "cell_type": "code",
     "checksum": "10b9fd39f3c9a9f3ca274c020ad79323",
     "grade": true,
     "grade_id": "cell-bc68aeeacf42beb3",
     "locked": true,
     "points": 2,
     "schema_version": 3,
     "solution": false,
     "task": false
    },
    "tags": []
   },
   "outputs": [
    {
     "output_type": "stream",
     "name": "stdout",
     "text": [
      "TFIDF Results:\nRank 0(2.3e+01): An Information Algebra - Phase I Report-Language\\n...\nRank 1(2.3e+01): Rejuvenating Experimental Computer Science\\nThis r...\nRank 2(1.2e+01): ALGOL 60 Confidential\\nThe ALGOL 60 Report,* when ...\nRank 3(7.8): Automatic Abstracting and Indexing Survey and Reco...\nRank 4(7.8): A String Language for Symbol Manipulation Based on...\n"
     ]
    }
   ],
   "source": [
    "#### Function check\n",
    "test_tfidf = tfidf_search(\"report\", index_set=1)[:5]\n",
    "print(f\"TFIDF Results:\")\n",
    "print_results(test_tfidf)\n",
    "####"
   ]
  },
  {
   "cell_type": "code",
   "execution_count": 201,
   "metadata": {
    "ExecuteTime": {
     "end_time": "2021-02-15T10:47:49.552811Z",
     "start_time": "2021-02-15T10:47:49.549818Z"
    },
    "deletable": false,
    "editable": false,
    "id": "Npd3IiET4IWh",
    "nbgrader": {
     "cell_type": "code",
     "checksum": "03441f97df9db4996d0f260fcc974e9d",
     "grade": true,
     "grade_id": "cell-c7702fa8179fadb9",
     "locked": true,
     "points": 2,
     "schema_version": 3,
     "solution": false,
     "task": false
    }
   },
   "outputs": [],
   "source": [
    "#### Please do not change this. This cell is used for grading."
   ]
  },
  {
   "cell_type": "code",
   "execution_count": 204,
   "metadata": {
    "ExecuteTime": {
     "end_time": "2021-02-15T10:47:49.557807Z",
     "start_time": "2021-02-15T10:47:49.554805Z"
    },
    "deletable": false,
    "editable": false,
    "id": "wNuwNNBt4IWh",
    "nbgrader": {
     "cell_type": "code",
     "checksum": "7272cfcbb457a74d23bfec1f85d22d5f",
     "grade": true,
     "grade_id": "cell-3284f50ac29abbaa",
     "locked": true,
     "points": 3,
     "schema_version": 3,
     "solution": false,
     "task": false
    }
   },
   "outputs": [],
   "source": [
    "#### Please do not change this. This cell is used for grading."
   ]
  },
  {
   "cell_type": "code",
   "execution_count": 207,
   "metadata": {
    "ExecuteTime": {
     "end_time": "2021-02-15T10:47:49.562537Z",
     "start_time": "2021-02-15T10:47:49.558794Z"
    },
    "deletable": false,
    "editable": false,
    "id": "ZH-U34qc4IWh",
    "nbgrader": {
     "cell_type": "code",
     "checksum": "fcbcc867713612b90395d653db8fd5e3",
     "grade": true,
     "grade_id": "cell-d908c80a3155354b",
     "locked": true,
     "points": 3,
     "schema_version": 3,
     "solution": false,
     "task": false
    }
   },
   "outputs": [],
   "source": [
    "#### Please do not change this. This cell is used for grading."
   ]
  },
  {
   "cell_type": "markdown",
   "metadata": {
    "deletable": false,
    "editable": false,
    "id": "CF8mA1LD4IWh",
    "nbgrader": {
     "cell_type": "markdown",
     "checksum": "cdffc83f0eaea937cf64a212e7e9af8d",
     "grade": false,
     "grade_id": "cell-f5d923459ba21733",
     "locked": true,
     "schema_version": 3,
     "solution": false,
     "task": false
    }
   },
   "source": [
    "--- \n",
    "\n",
    "### Section 3.3: Query Likelihood Model (35 points) <a class=\"anchor\" id=\"qlm\"></a>\n",
    "\n",
    "In this section, you will implement a simple query likelihood model. \n",
    "\n",
    "\n",
    "#### 3.3.1 Naive QL (15 points)\n",
    "\n",
    "First, let us implement a naive version of a QL model, assuming a multinomial unigram language model (with a uniform prior over the documents). \n",
    "\n"
   ]
  },
  {
   "cell_type": "code",
   "execution_count": 210,
   "metadata": {
    "ExecuteTime": {
     "end_time": "2021-02-15T10:47:49.570477Z",
     "start_time": "2021-02-15T10:47:49.563495Z"
    },
    "deletable": false,
    "editable": false,
    "id": "5Z4AnsRm4IWh",
    "nbgrader": {
     "cell_type": "code",
     "checksum": "b7ae2b7d818b428b4638c1c9206d2aca",
     "grade": false,
     "grade_id": "cell-98505778f7b68e7f",
     "locked": true,
     "schema_version": 3,
     "solution": false,
     "task": false
    }
   },
   "outputs": [],
   "source": [
    "#### Document length for normalization\n",
    "\n",
    "def doc_lengths(documents):\n",
    "    doc_lengths = {doc_id:len(doc) for (doc_id, doc) in documents}\n",
    "    return doc_lengths\n",
    "\n",
    "doc_lengths_1 = doc_lengths(doc_repr_1)\n",
    "doc_lengths_2 = doc_lengths(doc_repr_2)\n",
    "\n",
    "def get_doc_lengths(index_set):\n",
    "    assert index_set in {1, 2}\n",
    "    return {\n",
    "        1: doc_lengths_1,\n",
    "        2: doc_lengths_2\n",
    "    }[index_set]\n",
    "####"
   ]
  },
  {
   "cell_type": "code",
   "execution_count": 213,
   "metadata": {
    "ExecuteTime": {
     "end_time": "2021-02-15T10:47:49.579453Z",
     "start_time": "2021-02-15T10:47:49.572653Z"
    },
    "deletable": false,
    "id": "-WXzO9tU4IWi",
    "nbgrader": {
     "cell_type": "code",
     "checksum": "cedd08303a914243fefdb6b876977ca1",
     "grade": false,
     "grade_id": "cell-8bcf2b804d636c2e",
     "locked": false,
     "schema_version": 3,
     "solution": true,
     "task": false
    }
   },
   "outputs": [],
   "source": [
    "# TODO: Implement this! (15 points)\n",
    "def naive_ql_search(query, index_set):\n",
    "    \"\"\"\n",
    "        Perform a search over all documents with the given query using a naive QL model. \n",
    "        Note #1: You have to use the `get_index` (and get_doc_lengths) function created in the previous cells\n",
    "        Input: \n",
    "            query - a (unprocessed) query\n",
    "            index_set - the index to use\n",
    "        Output: a list of (document_id, score), sorted in descending relevance to the given query \n",
    "    \"\"\"\n",
    "    index = get_index(index_set)\n",
    "    doc_lengths = get_doc_lengths(index_set)\n",
    "    processed_query = preprocess_query(query, index_set)\n",
    "    # YOUR CODE HERE\n",
    "    #structure is {'doc_id':['score','query occurence']}\n",
    "    ql_scores = {}\n",
    "    num_query = 0\n",
    "    for token in processed_query:\n",
    "        if token in index:\n",
    "            num_query += 1\n",
    "            for (id,num) in index[token]:\n",
    "                score = num / doc_lengths[id]\n",
    "                if id not in ql_scores:\n",
    "                    ql_scores[id] = [score,1]\n",
    "                else:\n",
    "                    ql_scores[id][0] *= score\n",
    "                    ql_scores[id][1] +=1\n",
    "    \n",
    "                       \n",
    "    ql_scores_list = []\n",
    "    for (key,score) in ql_scores.items():\n",
    "        if score[1] == num_query:\n",
    "            ql_scores_list.append((key,score[0]))  \n",
    "    ql_scores_list.sort(key=lambda x: x[1], reverse = True)\n",
    "    return ql_scores_list"
   ]
  },
  {
   "cell_type": "code",
   "execution_count": 216,
   "metadata": {
    "ExecuteTime": {
     "end_time": "2021-02-15T10:47:49.585437Z",
     "start_time": "2021-02-15T10:47:49.581447Z"
    },
    "deletable": false,
    "editable": false,
    "id": "VHLDABlc4IWi",
    "nbgrader": {
     "cell_type": "code",
     "checksum": "b550d15bdad28354c336020a00c33d56",
     "grade": true,
     "grade_id": "cell-5a83ac12ecde8578",
     "locked": true,
     "points": 3,
     "schema_version": 3,
     "solution": false,
     "task": false
    }
   },
   "outputs": [
    {
     "output_type": "stream",
     "name": "stdout",
     "text": [
      "Naive QL Results:\nRank 0(0.2): A Report Writer For COBOL...\nRank 1(0.2): A CRT Report Generating System...\nRank 2(0.17): Preliminary Report-International Algebraic Languag...\nRank 3(0.17): Supplement to the ALGOL 60 Report...\nRank 4(0.14): ALGOL Sub-Committee Report - Extensions...\n"
     ]
    }
   ],
   "source": [
    "#### Function check\n",
    "test_naiveql = naive_ql_search(\"report\", index_set=1)[:5]\n",
    "print(f\"Naive QL Results:\")\n",
    "print_results(test_naiveql)\n",
    "####"
   ]
  },
  {
   "cell_type": "code",
   "execution_count": 219,
   "metadata": {
    "ExecuteTime": {
     "end_time": "2021-02-15T10:47:49.591421Z",
     "start_time": "2021-02-15T10:47:49.586434Z"
    },
    "deletable": false,
    "editable": false,
    "id": "52J5wGHX4IWi",
    "nbgrader": {
     "cell_type": "code",
     "checksum": "799df1d81c63fe90edbb6c218fc707fb",
     "grade": true,
     "grade_id": "cell-80f4bf2137f997bb",
     "locked": true,
     "points": 2,
     "schema_version": 3,
     "solution": false,
     "task": false
    }
   },
   "outputs": [],
   "source": [
    "#### Please do not change this. This cell is used for grading."
   ]
  },
  {
   "cell_type": "code",
   "execution_count": 222,
   "metadata": {
    "ExecuteTime": {
     "end_time": "2021-02-15T10:47:49.595410Z",
     "start_time": "2021-02-15T10:47:49.592418Z"
    },
    "deletable": false,
    "editable": false,
    "id": "vXS0rYJ94IWi",
    "nbgrader": {
     "cell_type": "code",
     "checksum": "875a4a517d27e20625d41783cebec118",
     "grade": true,
     "grade_id": "cell-5ce2993458a8ce51",
     "locked": true,
     "points": 3,
     "schema_version": 3,
     "solution": false,
     "task": false
    }
   },
   "outputs": [],
   "source": [
    "#### Please do not change this. This cell is used for grading."
   ]
  },
  {
   "cell_type": "code",
   "execution_count": 225,
   "metadata": {
    "ExecuteTime": {
     "end_time": "2021-02-15T10:47:49.599400Z",
     "start_time": "2021-02-15T10:47:49.596408Z"
    },
    "deletable": false,
    "editable": false,
    "id": "E7Og-DYJ4IWi",
    "nbgrader": {
     "cell_type": "code",
     "checksum": "d5c4e1c3852e71a46f32825b122f1b71",
     "grade": true,
     "grade_id": "cell-7753bdb54e292f3d",
     "locked": true,
     "points": 3,
     "schema_version": 3,
     "solution": false,
     "task": false
    }
   },
   "outputs": [],
   "source": [
    "#### Please do not change this. This cell is used for grading."
   ]
  },
  {
   "cell_type": "code",
   "execution_count": 228,
   "metadata": {
    "ExecuteTime": {
     "end_time": "2021-02-15T10:47:49.603389Z",
     "start_time": "2021-02-15T10:47:49.600396Z"
    },
    "deletable": false,
    "editable": false,
    "id": "GIrjDu1G4IWi",
    "nbgrader": {
     "cell_type": "code",
     "checksum": "c4d4332d4356e89ce0240f6b80e1899a",
     "grade": true,
     "grade_id": "cell-54e476e2f96e64bb",
     "locked": true,
     "points": 4,
     "schema_version": 3,
     "solution": false,
     "task": false
    }
   },
   "outputs": [],
   "source": [
    "#### Please do not change this. This cell is used for grading."
   ]
  },
  {
   "cell_type": "markdown",
   "metadata": {
    "deletable": false,
    "editable": false,
    "id": "PwcdEmYB4IWi",
    "nbgrader": {
     "cell_type": "markdown",
     "checksum": "8d739dc91a22bd48897f603885f95a74",
     "grade": false,
     "grade_id": "cell-5414dfd69dab8b94",
     "locked": true,
     "schema_version": 3,
     "solution": false,
     "task": false
    }
   },
   "source": [
    "---\n",
    "#### 3.3.2 QL (20 points)\n",
    "Now, let's implement a QL model that handles the issues with the naive version. In particular, you will implement a QL model with Jelinek-Mercer Smoothing. That means an interpolated score is computed per word - one term is the same as the previous naive version, and the second term comes from a unigram language model. In addition, you should accumulate the scores by summing the **log** (smoothed) probability which leads to better numerical stability."
   ]
  },
  {
   "cell_type": "code",
   "execution_count": 231,
   "metadata": {
    "ExecuteTime": {
     "end_time": "2021-02-15T10:47:49.611367Z",
     "start_time": "2021-02-15T10:47:49.604387Z"
    },
    "deletable": false,
    "id": "vQ7JGYo34IWj",
    "nbgrader": {
     "cell_type": "code",
     "checksum": "b8c6abf937ad333e628f1db891f2e29e",
     "grade": false,
     "grade_id": "cell-bb1f506409771257",
     "locked": false,
     "schema_version": 3,
     "solution": true,
     "task": false
    }
   },
   "outputs": [],
   "source": [
    "# TODO: Implement this! (20 points)\n",
    "\n",
    "# YOUR CODE HERE\n",
    "def ql_search(query, index_set):\n",
    "    \"\"\"\n",
    "        Perform a search over all documents with the given query using a QL model \n",
    "        with Jelinek-Mercer Smoothing (set smoothing=0.1). \n",
    "        \n",
    "        \n",
    "        Note #1: You have to use the `get_index` (and get_doc_lengths) function created in the previous cells\n",
    "        Note #2: You might have to create some variables beforehand and use them in this function\n",
    "        \n",
    "        \n",
    "        Input: \n",
    "            query - a (unprocessed) query\n",
    "            index_set - the index to use\n",
    "        Output: a list of (document_id, score), sorted in descending relevance to the given query \n",
    "    \"\"\"\n",
    "    index = get_index(index_set)\n",
    "    doc_lengths = get_doc_lengths(index_set)\n",
    "    processed_query = preprocess_query(query, index_set)\n",
    "    \n",
    "    # YOUR CODE HERE\n",
    "    smoothing = 0.1\n",
    "    sum_of_all_words = sum(doc_lengths.values())\n",
    "    ql_scores = {}\n",
    "    for token in processed_query:\n",
    "        if token in index:\n",
    "            sum_freq = 0\n",
    "            [sum_freq := sum_freq + x[1] for x in index[token]]\n",
    "            term_2 = (1-smoothing) * (sum_freq / sum_of_all_words)\n",
    "            id_list = []\n",
    "            for (id,num) in index[token]:\n",
    "                term_1 = smoothing * (num / doc_lengths[id])\n",
    "                score = math.log(term_1 + term_2)\n",
    "                id_list.append(id)\n",
    "                if id not in ql_scores:\n",
    "                    ql_scores[id] = score\n",
    "                else:\n",
    "                    ql_scores[id] += score\n",
    "            #this is when a token not in a document - term_1 = 0 so we only have to multiply it with term_2\n",
    "            for key,value in ql_scores.items():\n",
    "                if key not in id_list:\n",
    "                    ql_scores[key] += math.log(term_2)\n",
    "                \n",
    "    ql_scores_list = [(key, score) for key, score in ql_scores.items()]\n",
    "    ql_scores_list.sort(key=lambda x: x[1], reverse = True)\n",
    "    return ql_scores_list"
   ]
  },
  {
   "cell_type": "code",
   "execution_count": 234,
   "metadata": {
    "ExecuteTime": {
     "end_time": "2021-02-15T10:47:49.618349Z",
     "start_time": "2021-02-15T10:47:49.612364Z"
    },
    "deletable": false,
    "editable": false,
    "id": "onjd74_U4IWj",
    "nbgrader": {
     "cell_type": "code",
     "checksum": "0b12a7f3355193a257fd9f5f69a66562",
     "grade": true,
     "grade_id": "cell-850e9d6369bcec32",
     "locked": true,
     "points": 4,
     "schema_version": 3,
     "solution": false,
     "task": false
    }
   },
   "outputs": [
    {
     "output_type": "stream",
     "name": "stdout",
     "text": [
      "Rank 0(-3.9): A Report Writer For COBOL...\nRank 1(-3.9): A CRT Report Generating System...\nRank 2(-4.1): Preliminary Report-International Algebraic Languag...\nRank 3(-4.1): Supplement to the ALGOL 60 Report...\nRank 4(-4.2): ALGOL Sub-Committee Report - Extensions...\n\nRank 0(-3.9e+01): A Report Writer For COBOL...\nRank 1(-3.9e+01): A CRT Report Generating System...\nRank 2(-4.1e+01): Preliminary Report-International Algebraic Languag...\nRank 3(-4.1e+01): Supplement to the ALGOL 60 Report...\nRank 4(-4.2e+01): ALGOL Sub-Committee Report - Extensions...\n"
     ]
    }
   ],
   "source": [
    "#### Function check\n",
    "test_ql_results = ql_search(\"report\", index_set=1)[:5]\n",
    "print_results(test_ql_results)\n",
    "print()\n",
    "test_ql_results_long = ql_search(\"report \" * 10, index_set=1)[:5]\n",
    "print_results(test_ql_results_long)\n",
    "####"
   ]
  },
  {
   "cell_type": "code",
   "execution_count": 237,
   "metadata": {
    "ExecuteTime": {
     "end_time": "2021-02-15T10:47:49.622349Z",
     "start_time": "2021-02-15T10:47:49.619348Z"
    },
    "deletable": false,
    "editable": false,
    "id": "2Nf0hYoy4IWj",
    "nbgrader": {
     "cell_type": "code",
     "checksum": "e40be645140389c115849856145f5b59",
     "grade": true,
     "grade_id": "cell-958cdcf6fd6899b7",
     "locked": true,
     "points": 3,
     "schema_version": 3,
     "solution": false,
     "task": false
    }
   },
   "outputs": [],
   "source": [
    "#### Please do not change this. This cell is used for grading."
   ]
  },
  {
   "cell_type": "code",
   "execution_count": 240,
   "metadata": {
    "ExecuteTime": {
     "end_time": "2021-02-15T10:47:49.628322Z",
     "start_time": "2021-02-15T10:47:49.624337Z"
    },
    "deletable": false,
    "editable": false,
    "id": "LBhA_QfH4IWj",
    "nbgrader": {
     "cell_type": "code",
     "checksum": "41d4aff001df17e7963ba79b45810b30",
     "grade": true,
     "grade_id": "cell-384dc23a0c251f6e",
     "locked": true,
     "points": 4,
     "schema_version": 3,
     "solution": false,
     "task": false
    }
   },
   "outputs": [],
   "source": [
    "#### Please do not change this. This cell is used for grading."
   ]
  },
  {
   "cell_type": "code",
   "execution_count": 243,
   "metadata": {
    "ExecuteTime": {
     "end_time": "2021-02-15T10:47:49.632311Z",
     "start_time": "2021-02-15T10:47:49.629320Z"
    },
    "deletable": false,
    "editable": false,
    "id": "RweZvvbK4IWj",
    "nbgrader": {
     "cell_type": "code",
     "checksum": "893e8c5a073abc8ebb763d267b91bc02",
     "grade": true,
     "grade_id": "cell-7218966cba5097cc",
     "locked": true,
     "points": 4,
     "schema_version": 3,
     "solution": false,
     "task": false
    }
   },
   "outputs": [],
   "source": [
    "#### Please do not change this. This cell is used for grading."
   ]
  },
  {
   "cell_type": "code",
   "execution_count": 246,
   "metadata": {
    "ExecuteTime": {
     "end_time": "2021-02-15T10:47:49.637299Z",
     "start_time": "2021-02-15T10:47:49.633309Z"
    },
    "deletable": false,
    "editable": false,
    "id": "9WGyJzph4IWj",
    "nbgrader": {
     "cell_type": "code",
     "checksum": "f99cb6f8b1f5830aaed8f06712ff846e",
     "grade": true,
     "grade_id": "cell-481ab073259ae53f",
     "locked": true,
     "points": 5,
     "schema_version": 3,
     "solution": false,
     "task": false
    }
   },
   "outputs": [],
   "source": [
    "#### Please do not change this. This cell is used for grading."
   ]
  },
  {
   "cell_type": "markdown",
   "metadata": {
    "deletable": false,
    "editable": false,
    "id": "a3vu_N7C4IWj",
    "nbgrader": {
     "cell_type": "markdown",
     "checksum": "c02f14705d679579b1aa9f78f54779d5",
     "grade": false,
     "grade_id": "cell-f44088bfdac1dc90",
     "locked": true,
     "schema_version": 3,
     "solution": false,
     "task": false
    }
   },
   "source": [
    "--- \n",
    "\n",
    "### Section 3.4: BM25 (20 points) <a class=\"anchor\" id=\"bm25\"></a>\n",
    "\n",
    "In this section, we will implement the BM25 scoring function. \n"
   ]
  },
  {
   "cell_type": "code",
   "execution_count": 249,
   "metadata": {
    "ExecuteTime": {
     "end_time": "2021-02-15T10:47:49.645277Z",
     "start_time": "2021-02-15T10:47:49.639292Z"
    },
    "deletable": false,
    "id": "NLVmJujG4IWk",
    "nbgrader": {
     "cell_type": "code",
     "checksum": "e57efe06ea92af1c83784a42eb3d86e0",
     "grade": false,
     "grade_id": "cell-15640fc9b5d00a3c",
     "locked": false,
     "schema_version": 3,
     "solution": true,
     "task": false
    }
   },
   "outputs": [],
   "source": [
    "# TODO: Implement this! (20 points)\n",
    "def bm25_search(query, index_set):\n",
    "    \"\"\"\n",
    "        Perform a search over all documents with the given query using BM25. Use k_1 = 1.5 and b = 0.75\n",
    "        Note #1: You have to use the `get_index` (and `get_doc_lengths`) function created in the previous cells\n",
    "        Note #2: You might have to create some variables beforehand and use them in this function\n",
    "        \n",
    "        Input: \n",
    "            query - a (unprocessed) query\n",
    "            index_set - the index to use\n",
    "        Output: a list of (document_id, score), sorted in descending relevance to the given query \n",
    "    \"\"\"\n",
    "    \n",
    "    index = get_index(index_set)\n",
    "    df = get_df(index_set)\n",
    "    doc_lengths = get_doc_lengths(index_set)\n",
    "    processed_query = preprocess_query(query, index_set)\n",
    "    \n",
    "    # YOUR CODE HERE\n",
    "    b = 0.75\n",
    "    k_1 = 1.5\n",
    "    \n",
    "    num_of_docs = len(doc_lengths)\n",
    "    avg_doc_length = sum(doc_lengths[key] for key in doc_lengths) / num_of_docs\n",
    "    \n",
    "    bm25_scores = {}\n",
    "    for token in processed_query:\n",
    "        if token in index:\n",
    "            token_freq = df[token]\n",
    "            for doc_id, num_of_occurences in index[token]:\n",
    "                doc_length = doc_lengths[doc_id]\n",
    "                idf = math.log((num_of_docs - token_freq + 0.5) / (token_freq + 0.5) + 1)\n",
    "                K = k_1 * (1 - b + b * (doc_length / avg_doc_length))\n",
    "                score = idf * (num_of_occurences * (k_1 + 1)) / (num_of_occurences + K)\n",
    "                if doc_id in bm25_scores:\n",
    "                    bm25_scores[doc_id] += score\n",
    "                else:\n",
    "                    bm25_scores[doc_id] = score \n",
    "\n",
    "    bm25_scores_list = [(key, score) for key, score in bm25_scores.items()]\n",
    "    bm25_scores_list.sort(key=lambda x: x[1], reverse = True)   \n",
    "    \n",
    "    return bm25_scores_list \n",
    "    "
   ]
  },
  {
   "cell_type": "code",
   "execution_count": 252,
   "metadata": {
    "ExecuteTime": {
     "end_time": "2021-02-15T10:47:49.650263Z",
     "start_time": "2021-02-15T10:47:49.646273Z"
    },
    "deletable": false,
    "editable": false,
    "id": "YocJglWu4IWk",
    "nbgrader": {
     "cell_type": "code",
     "checksum": "4be9de5d4e94637960d83725422bea6c",
     "grade": true,
     "grade_id": "cell-d10536bca72c74b1",
     "locked": true,
     "points": 3,
     "schema_version": 3,
     "solution": false,
     "task": false
    }
   },
   "outputs": [
    {
     "output_type": "stream",
     "name": "stdout",
     "text": [
      "Rank 0(6.7): A Report Writer For COBOL...\nRank 1(6.7): A CRT Report Generating System...\nRank 2(6.6): Preliminary Report-International Algebraic Languag...\nRank 3(6.6): Supplement to the ALGOL 60 Report...\nRank 4(6.5): ALGOL Sub-Committee Report - Extensions...\n"
     ]
    }
   ],
   "source": [
    "#### Function check\n",
    "test_bm25_results = bm25_search(\"report\", index_set=1)[:5]\n",
    "print_results(test_bm25_results)\n",
    "####"
   ]
  },
  {
   "cell_type": "code",
   "execution_count": 255,
   "metadata": {
    "ExecuteTime": {
     "end_time": "2021-02-15T10:47:49.654252Z",
     "start_time": "2021-02-15T10:47:49.651260Z"
    },
    "deletable": false,
    "editable": false,
    "id": "LMKx7x7X4IWk",
    "nbgrader": {
     "cell_type": "code",
     "checksum": "31b550d6a46ae4f8ede88788799ac2b9",
     "grade": true,
     "grade_id": "cell-60f6ec5052712d79",
     "locked": true,
     "points": 5,
     "schema_version": 3,
     "solution": false,
     "task": false
    }
   },
   "outputs": [],
   "source": [
    "#### Please do not change this. This cell is used for grading."
   ]
  },
  {
   "cell_type": "code",
   "execution_count": 258,
   "metadata": {
    "ExecuteTime": {
     "end_time": "2021-02-15T10:47:49.658242Z",
     "start_time": "2021-02-15T10:47:49.655250Z"
    },
    "deletable": false,
    "editable": false,
    "id": "zMyvPilQ4IWk",
    "nbgrader": {
     "cell_type": "code",
     "checksum": "3da2ec16bfe781916e71755d65aa2983",
     "grade": true,
     "grade_id": "cell-5d17524043a5abcc",
     "locked": true,
     "points": 5,
     "schema_version": 3,
     "solution": false,
     "task": false
    }
   },
   "outputs": [],
   "source": [
    "#### Please do not change this. This cell is used for grading."
   ]
  },
  {
   "cell_type": "code",
   "execution_count": 261,
   "metadata": {
    "ExecuteTime": {
     "end_time": "2021-02-15T10:47:49.662232Z",
     "start_time": "2021-02-15T10:47:49.659239Z"
    },
    "deletable": false,
    "editable": false,
    "id": "50XzuKTa4IWk",
    "nbgrader": {
     "cell_type": "code",
     "checksum": "e7b563d54fa84c20909c0ae107010541",
     "grade": true,
     "grade_id": "cell-ff8e704eda1184e3",
     "locked": true,
     "points": 3,
     "schema_version": 3,
     "solution": false,
     "task": false
    }
   },
   "outputs": [],
   "source": [
    "#### Please do not change this. This cell is used for grading."
   ]
  },
  {
   "cell_type": "code",
   "execution_count": 264,
   "metadata": {
    "ExecuteTime": {
     "end_time": "2021-02-15T10:47:49.667223Z",
     "start_time": "2021-02-15T10:47:49.664226Z"
    },
    "deletable": false,
    "editable": false,
    "id": "DYTt6NKh4IWk",
    "nbgrader": {
     "cell_type": "code",
     "checksum": "b013f90974b396630a8831d6f1d7e5f7",
     "grade": true,
     "grade_id": "cell-a52310500a2543cb",
     "locked": true,
     "points": 4,
     "schema_version": 3,
     "solution": false,
     "task": false
    }
   },
   "outputs": [],
   "source": [
    "#### Please do not change this. This cell is used for grading."
   ]
  },
  {
   "cell_type": "markdown",
   "metadata": {
    "deletable": false,
    "editable": false,
    "id": "bD5EZ9eN4IWl",
    "nbgrader": {
     "cell_type": "markdown",
     "checksum": "8fcf67cb7d5e8b26cb9bf1f0aa42c847",
     "grade": false,
     "grade_id": "cell-8b2b412c81d62f2d",
     "locked": true,
     "schema_version": 3,
     "solution": false,
     "task": false
    }
   },
   "source": [
    "\n",
    "---\n",
    "\n",
    "### 3.5. Test Your Functions\n",
    "\n",
    "The widget below allows you to play with the search functions you've written so far. Use this to test your search functions and ensure that they work as expected."
   ]
  },
  {
   "cell_type": "code",
   "execution_count": null,
   "metadata": {
    "ExecuteTime": {
     "end_time": "2021-02-15T10:47:49.677191Z",
     "start_time": "2021-02-15T10:47:49.669214Z"
    },
    "deletable": false,
    "editable": false,
    "id": "mIWUmEd14IWl",
    "nbgrader": {
     "cell_type": "code",
     "checksum": "dfeb204b390acc0794dbdcac92b0cf2c",
     "grade": false,
     "grade_id": "cell-c9c2bb76354e8d97",
     "locked": true,
     "schema_version": 3,
     "solution": false,
     "task": false
    }
   },
   "outputs": [],
   "source": [
    "#### Highlighter function\n",
    "# class for results\n",
    "ResultRow = namedtuple(\"ResultRow\", [\"doc_id\", \"snippet\", \"score\"])\n",
    "# doc_id -> doc\n",
    "docs_by_id = dict((d[0], d[1]) for d in docs)\n",
    "\n",
    "def highlight_text(document, query, tol=17):\n",
    "    import re\n",
    "    tokens = tokenize(query)\n",
    "    regex = \"|\".join(f\"(\\\\b{t}\\\\b)\" for t in tokens)\n",
    "    regex = re.compile(regex, flags=re.IGNORECASE)\n",
    "    output = \"\"\n",
    "    i = 0\n",
    "    for m in regex.finditer(document):\n",
    "        start_idx = max(0, m.start() - tol)\n",
    "        end_idx = min(len(document), m.end() + tol)\n",
    "        output += \"\".join([\"...\",\n",
    "                        document[start_idx:m.start()],\n",
    "                        \"<strong>\",\n",
    "                        document[m.start():m.end()],\n",
    "                        \"</strong>\",\n",
    "                        document[m.end():end_idx],\n",
    "                        \"...\"])\n",
    "    return output.replace(\"\\n\", \" \")\n",
    "\n",
    "\n",
    "def make_results(query, search_fn, index_set):\n",
    "    results = []\n",
    "    for doc_id, score in search_fn(query, index_set):\n",
    "        highlight = highlight_text(docs_by_id[doc_id], query)\n",
    "        if len(highlight.strip()) == 0:\n",
    "            highlight = docs_by_id[doc_id]\n",
    "        results.append(ResultRow(doc_id, highlight, score))\n",
    "    return results\n",
    "####"
   ]
  },
  {
   "cell_type": "code",
   "execution_count": 224,
   "metadata": {
    "ExecuteTime": {
     "end_time": "2021-02-15T10:47:49.688162Z",
     "start_time": "2021-02-15T10:47:49.678188Z"
    },
    "id": "lLBwC48L4IWl"
   },
   "outputs": [
    {
     "output_type": "display_data",
     "data": {
      "text/plain": "Text(value='', description='Search Bar')",
      "application/vnd.jupyter.widget-view+json": {
       "version_major": 2,
       "version_minor": 0,
       "model_id": "299bb44e658c4d76a7d8825b327e6ed3"
      }
     },
     "metadata": {}
    }
   ],
   "source": [
    "# TODO: Set this to the function you want to test!\n",
    "# this function should take in a query (string)\n",
    "# and return a sorted list of (doc_id, score) \n",
    "# with the most relevant document in the first position\n",
    "search_fn = bm25_search\n",
    "index_set = 1\n",
    "\n",
    "text = widgets.Text(description=\"Search Bar\", width=200)\n",
    "display(text)\n",
    "\n",
    "def handle_submit(sender):\n",
    "    print(f\"Searching for: '{sender.value}'\")\n",
    "    \n",
    "    results = make_results(sender.value, search_fn, index_set)\n",
    "    \n",
    "    # display only the top 5\n",
    "    results = results[:5]\n",
    "    \n",
    "    body = \"\"\n",
    "    for idx, r in enumerate(results):\n",
    "        body += f\"<li>Document #{r.doc_id}({r.score}): {r.snippet}</li>\"\n",
    "    display(HTML(f\"<ul>{body}</ul>\"))\n",
    "    \n",
    "\n",
    "text.on_submit(handle_submit)"
   ]
  },
  {
   "cell_type": "markdown",
   "metadata": {
    "deletable": false,
    "editable": false,
    "id": "V_eNBPNC4IWl",
    "nbgrader": {
     "cell_type": "markdown",
     "checksum": "b315c280048a50e8bad7d6250f6f39d1",
     "grade": false,
     "grade_id": "cell-8d46fe8e4f3d8cdb",
     "locked": true,
     "schema_version": 3,
     "solution": false,
     "task": false
    }
   },
   "source": [
    "---\n",
    "\n",
    "## Section 4: Evaluation (40 points) <a class=\"anchor\" id=\"evaluation\"></a>\n",
    "\n",
    "[Back to Part 1](#part1)\n",
    "\n",
    "Before we jump in and implement an algorithm for retrieval, we first have to learn how to evaluate such a system. In particular, we will work with offline evaluation metrics. These metrics are computed on a dataset with known relevance judgements.\n",
    "\n",
    "Implement the following evaluation metrics. \n",
    "\n",
    "1. Precision (7 points)\n",
    "2. Recall (7 points)\n",
    "3. Mean Average Precision (12 points)\n",
    "4. Expected Reciprocal Rank (12 points)"
   ]
  },
  {
   "cell_type": "markdown",
   "metadata": {
    "deletable": false,
    "editable": false,
    "id": "gLVYII234IWl",
    "nbgrader": {
     "cell_type": "markdown",
     "checksum": "82e90076c51893e31fec5c40c49d1828",
     "grade": false,
     "grade_id": "cell-3419fd3bc663d7cc",
     "locked": true,
     "schema_version": 3,
     "solution": false,
     "task": false
    }
   },
   "source": [
    "---\n",
    "### 4.1 Read relevance labels (2 points)\n",
    "\n",
    "Let's take a look at the `qrels.text` file, which contains the ground truth relevance scores. The relevance labels for CACM are binary - either 0 or 1. \n"
   ]
  },
  {
   "cell_type": "code",
   "execution_count": 227,
   "metadata": {
    "ExecuteTime": {
     "end_time": "2021-02-15T10:47:49.741020Z",
     "start_time": "2021-02-15T10:47:49.689159Z"
    },
    "deletable": false,
    "editable": false,
    "id": "dD-BtESw4IWl",
    "nbgrader": {
     "cell_type": "code",
     "checksum": "6c11025f5a222796f2882c73c1634799",
     "grade": false,
     "grade_id": "cell-6b738366059dde9e",
     "locked": true,
     "schema_version": 3,
     "solution": false,
     "task": false
    }
   },
   "outputs": [
    {
     "output_type": "stream",
     "name": "stderr",
     "text": [
      "'head' is not recognized as an internal or external command,\noperable program or batch file.\n"
     ]
    }
   ],
   "source": [
    "!head ./datasets/qrels.text"
   ]
  },
  {
   "cell_type": "markdown",
   "metadata": {
    "deletable": false,
    "editable": false,
    "id": "O1d_Ru854IWm",
    "nbgrader": {
     "cell_type": "markdown",
     "checksum": "e77d7cc6aae69fdbadb5ac9f78f8a560",
     "grade": false,
     "grade_id": "cell-10e16bff2753ffbb",
     "locked": true,
     "schema_version": 3,
     "solution": false,
     "task": false
    }
   },
   "source": [
    "---\n",
    "**Implementation (2 points):**\n",
    "The first column is the query_id and the second column is the document_id. You can safely ignore the 3rd and 4th columns. Write a function to read in the file:"
   ]
  },
  {
   "cell_type": "code",
   "execution_count": 230,
   "metadata": {
    "ExecuteTime": {
     "end_time": "2021-02-15T10:47:49.746007Z",
     "start_time": "2021-02-15T10:47:49.742018Z"
    },
    "deletable": false,
    "id": "gaPgBW-q4IWm",
    "nbgrader": {
     "cell_type": "code",
     "checksum": "ef347565a0990ddbd049835105753d59",
     "grade": false,
     "grade_id": "cell-ee5253a4ef602fce",
     "locked": false,
     "schema_version": 3,
     "solution": true,
     "task": false
    }
   },
   "outputs": [],
   "source": [
    "# TODO: Implement this! (2 points)\n",
    "def read_qrels(root_folder = \"./datasets/\"):\n",
    "    \"\"\"\n",
    "        Reads the qrels.text file. \n",
    "        Output: A dictionary: query_id -> [list of relevant documents]\n",
    "    \"\"\"\n",
    "    # YOUR CODE HERE\n",
    "    qrels_dict = {}\n",
    "    with open(root_folder + 'qrels.text') as f:\n",
    "        for line in f:\n",
    "            line_split = line.split(' ')\n",
    "            q_id = str(int(line_split[0]))\n",
    "            doc_id = line_split[1]\n",
    "            if q_id in qrels_dict:\n",
    "                qrels_dict[q_id].append(doc_id)\n",
    "            else:\n",
    "                qrels_dict[q_id] = [doc_id]\n",
    "        \n",
    "    return qrels_dict"
   ]
  },
  {
   "cell_type": "code",
   "execution_count": 233,
   "metadata": {
    "ExecuteTime": {
     "end_time": "2021-02-15T10:47:49.751991Z",
     "start_time": "2021-02-15T10:47:49.747005Z"
    },
    "deletable": false,
    "editable": false,
    "id": "42HAaoxI4IWm",
    "nbgrader": {
     "cell_type": "code",
     "checksum": "6a258a834392cc8cbf8af5d4ccdee81f",
     "grade": true,
     "grade_id": "cell-72215605fbe24f65",
     "locked": true,
     "points": 2,
     "schema_version": 3,
     "solution": false,
     "task": false
    }
   },
   "outputs": [],
   "source": [
    "#### Function check\n",
    "qrels = read_qrels()\n",
    "\n",
    "assert len(qrels) == 52, \"There should be 52 queries with relevance judgements\"\n",
    "assert sum(len(j) for j in qrels.values()) == 796, \"There should be a total of 796 Relevance Judgements\"\n",
    "####"
   ]
  },
  {
   "cell_type": "markdown",
   "metadata": {
    "deletable": false,
    "editable": false,
    "id": "XSWVVWzl4IWm",
    "nbgrader": {
     "cell_type": "markdown",
     "checksum": "6c9e7428a52e291a2cdf92a379730d4c",
     "grade": false,
     "grade_id": "cell-176a6fb2939d0420",
     "locked": true,
     "schema_version": 3,
     "solution": false,
     "task": false
    }
   },
   "source": [
    "---\n",
    "**Note:** For a given query `query_id`, you can assume that documents *not* in `qrels[query_id]` are not relevant to `query_id`. \n"
   ]
  },
  {
   "cell_type": "markdown",
   "metadata": {
    "deletable": false,
    "editable": false,
    "id": "Ad2E1OAb4IWm",
    "nbgrader": {
     "cell_type": "markdown",
     "checksum": "b26a818c7b4f7ad490e00b35ea0edd69",
     "grade": false,
     "grade_id": "cell-bd8341b72cdd89bb",
     "locked": true,
     "schema_version": 3,
     "solution": false,
     "task": false
    }
   },
   "source": [
    "---\n",
    "### 4.2 Precision (7 points)\n",
    "Implement the `precision@k` metric:"
   ]
  },
  {
   "cell_type": "code",
   "execution_count": 236,
   "metadata": {
    "ExecuteTime": {
     "end_time": "2021-02-15T10:47:49.757975Z",
     "start_time": "2021-02-15T10:47:49.752988Z"
    },
    "deletable": false,
    "id": "itsA-mo54IWm",
    "nbgrader": {
     "cell_type": "code",
     "checksum": "ad3cc3234a361d269ecb6b59cc447e9f",
     "grade": false,
     "grade_id": "cell-494bd0cce108ed67",
     "locked": false,
     "schema_version": 3,
     "solution": true,
     "task": false
    }
   },
   "outputs": [],
   "source": [
    "# TODO: Implement this! (7 points)\n",
    "def precision_k(results, relevant_docs, k):\n",
    "    \"\"\"\n",
    "        Compute Precision@K\n",
    "        Input: \n",
    "            results: A sorted list of 2-tuples (document_id, score), \n",
    "                    with the most relevant document in the first position\n",
    "            relevant_docs: A set of relevant documents. \n",
    "            k: the cut-off\n",
    "        Output: Precision@K\n",
    "    \"\"\"\n",
    "    # YOUR CODE HERE\n",
    "    \n",
    "    relevant_doc_set = set(relevant_docs)\n",
    "    results_doc_set = {k for k, v in results[:k]}\n",
    "\n",
    "    numerator = len(relevant_doc_set.intersection(results_doc_set))\n",
    "    denomerator = len(results_doc_set)\n",
    "    \n",
    "    precision = numerator / denomerator if denomerator > 0 else 0\n",
    "\n",
    "\n",
    "    return precision"
   ]
  },
  {
   "cell_type": "code",
   "execution_count": 239,
   "metadata": {
    "ExecuteTime": {
     "end_time": "2021-02-15T10:47:49.773933Z",
     "start_time": "2021-02-15T10:47:49.758972Z"
    },
    "deletable": false,
    "editable": false,
    "id": "QnBXQiHM4IWm",
    "nbgrader": {
     "cell_type": "code",
     "checksum": "964b214dbfff8fc53cada864019ee863",
     "grade": true,
     "grade_id": "cell-e7ff0d91c319ca64",
     "locked": true,
     "points": 7,
     "schema_version": 3,
     "solution": false,
     "task": false
    }
   },
   "outputs": [
    {
     "output_type": "stream",
     "name": "stdout",
     "text": [
      "query:\n What articles exist which deal with TSS (Time Sharing System), an\noperating system for IBM computers?\nprecision@10 = 0.2\n"
     ]
    }
   ],
   "source": [
    "#### Function check\n",
    "qid = queries[0][0]\n",
    "qtext = queries[0][1]\n",
    "print(f'query:{qtext}')\n",
    "results = bm25_search(qtext, 2)\n",
    "precision = precision_k(results, qrels[qid], 10)\n",
    "print(f'precision@10 = {precision}')\n",
    "####"
   ]
  },
  {
   "cell_type": "markdown",
   "metadata": {
    "deletable": false,
    "editable": false,
    "id": "rsVw36Qs4IWn",
    "nbgrader": {
     "cell_type": "markdown",
     "checksum": "8fd3b3998197c7097a40348500affb68",
     "grade": false,
     "grade_id": "cell-afd95f865bc7191e",
     "locked": true,
     "schema_version": 3,
     "solution": false,
     "task": false
    }
   },
   "source": [
    "---\n",
    "### 4.3 Recall (7 points)\n",
    "Implement the `recall@k` metric:"
   ]
  },
  {
   "cell_type": "code",
   "execution_count": 242,
   "metadata": {
    "ExecuteTime": {
     "end_time": "2021-02-15T10:47:49.778919Z",
     "start_time": "2021-02-15T10:47:49.774931Z"
    },
    "deletable": false,
    "id": "5MCAhvPt4IWn",
    "nbgrader": {
     "cell_type": "code",
     "checksum": "b2020e5741ae03b3fe35817ed8f4ccaa",
     "grade": false,
     "grade_id": "cell-c323fc8c3f8a7cf8",
     "locked": false,
     "schema_version": 3,
     "solution": true,
     "task": false
    }
   },
   "outputs": [],
   "source": [
    "# TODO: Implement this! (7 points)\n",
    "def recall_k(results, relevant_docs, k):\n",
    "    \"\"\"\n",
    "        Compute Recall@K\n",
    "        Input: \n",
    "            results: A sorted list of 2-tuples (document_id, score), with the most relevant document in the first position\n",
    "            relevant_docs: A set of relevant documents. \n",
    "            k: the cut-off\n",
    "        Output: Recall@K\n",
    "    \"\"\"\n",
    "    # YOUR CODE HERE\n",
    "    relevant_doc_set = set(relevant_docs)\n",
    "    results_doc_set = {k for k, v in results[:k]}\n",
    "\n",
    "    numerator = len(relevant_doc_set.intersection(results_doc_set))\n",
    "    denomerator = len(relevant_doc_set)\n",
    "    \n",
    "    recall = numerator / denomerator if denomerator > 0 else 0\n",
    "\n",
    "    return recall\n"
   ]
  },
  {
   "cell_type": "code",
   "execution_count": 245,
   "metadata": {
    "ExecuteTime": {
     "end_time": "2021-02-15T10:47:49.786898Z",
     "start_time": "2021-02-15T10:47:49.779916Z"
    },
    "deletable": false,
    "editable": false,
    "id": "oJrL_tLY4IWn",
    "nbgrader": {
     "cell_type": "code",
     "checksum": "56b6e0b8522f8b2dffbfb3206b2efa84",
     "grade": true,
     "grade_id": "cell-b25172161aef165c",
     "locked": true,
     "points": 7,
     "schema_version": 3,
     "solution": false,
     "task": false
    }
   },
   "outputs": [
    {
     "output_type": "stream",
     "name": "stdout",
     "text": [
      "query:\n SETL, Very High Level Languages\nrecall@10 = 0.3157894736842105\n"
     ]
    }
   ],
   "source": [
    "#### Function check\n",
    "qid = queries[10][0]\n",
    "qtext = queries[10][1]\n",
    "print(f'query:{qtext}')\n",
    "results = bm25_search(qtext, 2)\n",
    "recall = recall_k(results, qrels[qid], 10)\n",
    "print(f'recall@10 = {recall}')\n",
    "####"
   ]
  },
  {
   "cell_type": "markdown",
   "metadata": {
    "deletable": false,
    "editable": false,
    "id": "O6zOyivS4IWn",
    "nbgrader": {
     "cell_type": "markdown",
     "checksum": "d43c63fa38f333e0b52d41639b2655f7",
     "grade": false,
     "grade_id": "cell-77fd2e7a39a74739",
     "locked": true,
     "schema_version": 3,
     "solution": false,
     "task": false
    }
   },
   "source": [
    "---\n",
    "### 4.4 Mean Average Precision (12 points)\n",
    "Implement the `map` metric:"
   ]
  },
  {
   "cell_type": "code",
   "execution_count": 248,
   "metadata": {
    "ExecuteTime": {
     "end_time": "2021-02-15T10:47:49.791884Z",
     "start_time": "2021-02-15T10:47:49.787895Z"
    },
    "deletable": false,
    "id": "NtBBAX-34IWn",
    "nbgrader": {
     "cell_type": "code",
     "checksum": "aae2c62f2ffd76f5b6c004e9519b9f14",
     "grade": false,
     "grade_id": "cell-e50925fa9093a30d",
     "locked": false,
     "schema_version": 3,
     "solution": true,
     "task": false
    }
   },
   "outputs": [],
   "source": [
    "# TODO: Implement this! (12 points)\n",
    "def average_precision(results, relevant_docs):\n",
    "    \"\"\"\n",
    "        Compute Average Precision (for a single query - the results are \n",
    "        averaged across queries to get MAP in the next few cells)\n",
    "        Hint: You can use the recall_k and precision_k functions here!\n",
    "        Input: \n",
    "            results: A sorted list of 2-tuples (document_id, score), with the most \n",
    "                    relevant document in the first position\n",
    "            relevant_docs: A set of relevant documents. \n",
    "        Output: Average Precision\n",
    "    \"\"\"\n",
    "    # YOUR CODE HERE\n",
    "    precisions = []\n",
    "    relevant_results = []\n",
    "    for i in range(len(results)):\n",
    "        cur_precision = precision_k(results, relevant_docs, i+1)\n",
    "        doc_id, _ = results[i]\n",
    "        if doc_id in relevant_docs:\n",
    "            precisions.append(cur_precision)\n",
    "\n",
    "    return sum(precisions)/len(precisions) if len(precisions) > 0 else 0\n",
    "\n",
    "    \n",
    "\n",
    "    \n",
    "        \n"
   ]
  },
  {
   "cell_type": "code",
   "execution_count": 251,
   "metadata": {
    "ExecuteTime": {
     "end_time": "2021-02-15T10:47:50.084102Z",
     "start_time": "2021-02-15T10:47:49.792882Z"
    },
    "deletable": false,
    "editable": false,
    "id": "Ij731snQ4IWn",
    "nbgrader": {
     "cell_type": "code",
     "checksum": "5db8cb2dfd3a77554f4147b409f47f38",
     "grade": true,
     "grade_id": "cell-8a1f7ec98571e58b",
     "locked": true,
     "points": 12,
     "schema_version": 3,
     "solution": false,
     "task": false
    },
    "tags": []
   },
   "outputs": [
    {
     "output_type": "stream",
     "name": "stdout",
     "text": [
      "query:\n",
      " computational complexity, intractability, class-complete reductions,\n",
      "algorithms and efficiency\n",
      "MAP = 0.13885003916324018\n"
     ]
    }
   ],
   "source": [
    "#### Function check\n",
    "qid = queries[20][0]\n",
    "qtext = queries[20][1]\n",
    "print(f'query:{qtext}')\n",
    "results = bm25_search(qtext, 2)\n",
    "mean_ap = average_precision(results, qrels[qid])\n",
    "print(f'MAP = {mean_ap}')\n",
    "####"
   ]
  },
  {
   "cell_type": "markdown",
   "metadata": {
    "deletable": false,
    "editable": false,
    "id": "Q38CrFOO4IWo",
    "nbgrader": {
     "cell_type": "markdown",
     "checksum": "cb645b79d04cc3eed33ca060a5e7bf0f",
     "grade": false,
     "grade_id": "cell-1da18f0fe6f6d7be",
     "locked": true,
     "schema_version": 3,
     "solution": false,
     "task": false
    }
   },
   "source": [
    "---\n",
    "### 4.5 Expected Reciprocal Rank (12 points)\n",
    "Implement the `err` metric:"
   ]
  },
  {
   "cell_type": "code",
   "execution_count": 254,
   "metadata": {
    "ExecuteTime": {
     "end_time": "2021-02-15T10:47:50.090086Z",
     "start_time": "2021-02-15T10:47:50.085100Z"
    },
    "deletable": false,
    "id": "Wm7tmYcH4IWo",
    "nbgrader": {
     "cell_type": "code",
     "checksum": "9ac94db728e23ea1f5dc0d509473c6fb",
     "grade": false,
     "grade_id": "cell-64262889f9b267ea",
     "locked": false,
     "schema_version": 3,
     "solution": true,
     "task": false
    }
   },
   "outputs": [],
   "source": [
    "# TODO: Implement this! (12 points)\n",
    "def err(results, relevant_docs):\n",
    "    \"\"\"\n",
    "        Compute the expected reciprocal rank.\n",
    "        Hint: https://dl.acm.org/doi/pdf/10.1145/1645953.1646033?download=true\n",
    "        Input: \n",
    "            results: A sorted list of 2-tuples (document_id, score), with the most \n",
    "                    relevant document in the first position\n",
    "            relevant_docs: A set of relevant documents. \n",
    "        Output: ERR\n",
    "        \n",
    "    \"\"\"\n",
    "    # The relevance grade is binary, so when a document is irrelevant, we get (2^0-1)/2 = 0\n",
    "    # For a relevant document, this is (2^1-1)/2 = 0.5, hence the R of 0 or 0.5.\n",
    "    p, ERR = 1, 0\n",
    "    nr_docs = len(results)\n",
    "    for r in range(nr_docs):\n",
    "        cur_doc = results[r][0]\n",
    "        if cur_doc in relevant_docs:\n",
    "            R = 0.5\n",
    "        else:\n",
    "            R = 0\n",
    "        ERR += p * R/(r + 1)\n",
    "        p *= (1-R)\n",
    "    \n",
    "    return ERR"
   ]
  },
  {
   "cell_type": "code",
   "execution_count": 257,
   "metadata": {
    "ExecuteTime": {
     "end_time": "2021-02-15T10:47:50.146935Z",
     "start_time": "2021-02-15T10:47:50.096071Z"
    },
    "deletable": false,
    "editable": false,
    "id": "xD69_bIF4IWo",
    "nbgrader": {
     "cell_type": "code",
     "checksum": "eb97e6d89a0b992b642e4e0ff36ff9f5",
     "grade": true,
     "grade_id": "cell-071e3970ff1afae4",
     "locked": true,
     "points": 12,
     "schema_version": 3,
     "solution": false,
     "task": false
    }
   },
   "outputs": [
    {
     "output_type": "stream",
     "name": "stdout",
     "text": [
      "query:\n I'd like to find articles describing the use of singular value decomposition\nin digital image processing.  Applications include finding approximations\nto the original image and restoring images that are subject to noise. An\narticle on the subject is H.C. Andrews and C.L. Patterson \"Outer product\nexpansions and their uses in digital image processing\", American Mathematical\nMonthly, vol. 82.\nERR = 0.3333333333333333\n"
     ]
    }
   ],
   "source": [
    "#### Function check\n",
    "qid = queries[30][0]\n",
    "qtext = queries[30][1]\n",
    "print(f'query:{qtext}')\n",
    "results = bm25_search(qtext, 2)\n",
    "ERR = err(results, qrels[qid])\n",
    "print(f'ERR = {ERR}')\n",
    "####"
   ]
  },
  {
   "cell_type": "markdown",
   "metadata": {
    "deletable": false,
    "editable": false,
    "id": "Gh1iz9Ht4IWo",
    "nbgrader": {
     "cell_type": "markdown",
     "checksum": "5bd94caf77cfa5f34675df758d91002d",
     "grade": false,
     "grade_id": "cell-43709a765f353946",
     "locked": true,
     "schema_version": 3,
     "solution": false,
     "task": false
    }
   },
   "source": [
    "---\n",
    "### 4.6 Evaluate Search Functions\n",
    "\n",
    "Let's define some metrics@k using [partial functions](https://docs.python.org/3/library/functools.html#functools.partial)"
   ]
  },
  {
   "cell_type": "code",
   "execution_count": 260,
   "metadata": {
    "ExecuteTime": {
     "end_time": "2021-02-15T10:47:50.152921Z",
     "start_time": "2021-02-15T10:47:50.147932Z"
    },
    "deletable": false,
    "editable": false,
    "id": "Z-lVjRDV4IWo",
    "nbgrader": {
     "cell_type": "code",
     "checksum": "49ccc158e5fb7340ace55e90eeb9d62a",
     "grade": false,
     "grade_id": "cell-dab560e18e340da8",
     "locked": true,
     "schema_version": 3,
     "solution": false,
     "task": false
    }
   },
   "outputs": [],
   "source": [
    "#### metrics@k functions\n",
    "\n",
    "recall_at_1 = partial(recall_k, k=1)\n",
    "recall_at_5 = partial(recall_k, k=5)\n",
    "recall_at_10 = partial(recall_k, k=10)\n",
    "precision_at_1 = partial(precision_k, k=1)\n",
    "precision_at_5 = partial(precision_k, k=5)\n",
    "precision_at_10 = partial(precision_k, k=10)\n",
    "\n",
    "\n",
    "list_of_metrics = [\n",
    "    (\"ERR\", err),\n",
    "    (\"MAP\", average_precision),\n",
    "    (\"Recall@1\",recall_at_1),\n",
    "    (\"Recall@5\", recall_at_5),\n",
    "    (\"Recall@10\", recall_at_10),\n",
    "    (\"Precision@1\", precision_at_1),\n",
    "    (\"Precision@5\", precision_at_5),\n",
    "    (\"Precision@10\", precision_at_10)]\n",
    "####"
   ]
  },
  {
   "cell_type": "markdown",
   "metadata": {
    "deletable": false,
    "editable": false,
    "id": "tkpES_rl4IWo",
    "nbgrader": {
     "cell_type": "markdown",
     "checksum": "fb541002c03221b453b8936290020ea5",
     "grade": false,
     "grade_id": "cell-580a2bdc66d03b47",
     "locked": true,
     "schema_version": 3,
     "solution": false,
     "task": false
    }
   },
   "source": [
    "---\n",
    "\n",
    "The following function evaluates a `search_fn` using the `metric_fn`. Note that the final number is averaged over all the queries"
   ]
  },
  {
   "cell_type": "code",
   "execution_count": 263,
   "metadata": {
    "ExecuteTime": {
     "end_time": "2021-02-15T10:47:50.159336Z",
     "start_time": "2021-02-15T10:47:50.153917Z"
    },
    "id": "SGKA8Ci54IWo"
   },
   "outputs": [],
   "source": [
    "#### Evaluate a search function\n",
    "\n",
    "list_of_search_fns = [\n",
    "    (\"BOW\", bow_search),\n",
    "    (\"TF-IDF\", tfidf_search),\n",
    "    (\"NaiveQL\", naive_ql_search),\n",
    "    (\"QL\", ql_search),\n",
    "    (\"BM25\", bm25_search)\n",
    "]\n",
    "\n",
    "def evaluate_search_fn(search_fn, metric_fns, index_set=None):\n",
    "    # build a dict query_id -> query \n",
    "    queries_by_id = dict((q[0], q[1]) for q in queries)\n",
    "    metrics = {}\n",
    "    for metric, metric_fn in metric_fns:\n",
    "        metrics[metric] = np.zeros(len(qrels), dtype=np.float32)\n",
    "    \n",
    "    for i, (query_id, relevant_docs) in enumerate(qrels.items()):\n",
    "        query = queries_by_id[query_id]\n",
    "        if index_set:\n",
    "            results = search_fn(query, index_set)\n",
    "        else:\n",
    "            results = search_fn(query)\n",
    "        \n",
    "        for metric, metric_fn in metric_fns:\n",
    "            metrics[metric][i] = metric_fn(results, relevant_docs)\n",
    "\n",
    "    \n",
    "    \n",
    "    final_dict = {}\n",
    "    for metric, metric_vals in metrics.items():\n",
    "        final_dict[metric] = metric_vals.mean()\n",
    "    \n",
    "    return final_dict\n",
    "####"
   ]
  },
  {
   "cell_type": "markdown",
   "metadata": {
    "deletable": false,
    "editable": false,
    "id": "b54ANEqK4IWp",
    "nbgrader": {
     "cell_type": "markdown",
     "checksum": "6ea67534f74a8f81e1f504794f641709",
     "grade": false,
     "grade_id": "cell-b156d83a0649cbb4",
     "locked": true,
     "schema_version": 3,
     "solution": false,
     "task": false
    }
   },
   "source": [
    "## Section 5: Analysis (30 points) <a class=\"anchor\" id=\"analysis\"></a>\n",
    "\n",
    "[Back to Part 1](#part1)\n",
    "\n",
    "In the final section of Part1, we will compare the different term-based IR algorithms and different preprocessing configurations and analyze their advantages and disadvantages.\n",
    "\n",
    "### Section 5.1: Plot (20 points)\n",
    "\n",
    "First, gather the results. The results should consider the index set, the different search functions and different metrics. Plot the results in bar charts, per metric, with clear labels.\n",
    "\n",
    "**Rubric:**\n",
    "- Each Metric is plotted: 7 points\n",
    "- Each Method is plotted: 7 points\n",
    "- Clear titles, x label, y labels and legends (if applicable): 6 points"
   ]
  },
  {
   "cell_type": "code",
   "execution_count": 266,
   "metadata": {
    "ExecuteTime": {
     "end_time": "2021-02-15T10:48:00.842263Z",
     "start_time": "2021-02-15T10:47:50.160329Z"
    },
    "deletable": false,
    "id": "YcKLzbIQ4IWp",
    "nbgrader": {
     "cell_type": "code",
     "checksum": "7e2588a925d13ddf588abe8311dc9cfc",
     "grade": true,
     "grade_id": "cell-46fda42a25863a04",
     "locked": false,
     "points": 20,
     "schema_version": 3,
     "solution": true,
     "task": false
    },
    "scrolled": true
   },
   "outputs": [
    {
     "output_type": "stream",
     "name": "stdout",
     "text": [
      "{'ERR': 0.055224963, 'MAP': 0.035598792, 'Recall@1': 0.0027097901, 'Recall@5': 0.032127813, 'Recall@10': 0.039613284, 'Precision@1': 0.03846154, 'Precision@5': 0.034615386, 'Precision@10': 0.028846154}\n"
     ]
    },
    {
     "output_type": "display_data",
     "data": {
      "text/plain": "<Figure size 432x288 with 1 Axes>",
      "image/svg+xml": "<?xml version=\"1.0\" encoding=\"utf-8\" standalone=\"no\"?>\r\n<!DOCTYPE svg PUBLIC \"-//W3C//DTD SVG 1.1//EN\"\r\n  \"http://www.w3.org/Graphics/SVG/1.1/DTD/svg11.dtd\">\r\n<!-- Created with matplotlib (https://matplotlib.org/) -->\r\n<svg height=\"324.055626pt\" version=\"1.1\" viewBox=\"0 0 416.777596 324.055626\" width=\"416.777596pt\" xmlns=\"http://www.w3.org/2000/svg\" xmlns:xlink=\"http://www.w3.org/1999/xlink\">\r\n <metadata>\r\n  <rdf:RDF xmlns:cc=\"http://creativecommons.org/ns#\" xmlns:dc=\"http://purl.org/dc/elements/1.1/\" xmlns:rdf=\"http://www.w3.org/1999/02/22-rdf-syntax-ns#\">\r\n   <cc:Work>\r\n    <dc:type rdf:resource=\"http://purl.org/dc/dcmitype/StillImage\"/>\r\n    <dc:date>2021-02-15T16:53:03.789013</dc:date>\r\n    <dc:format>image/svg+xml</dc:format>\r\n    <dc:creator>\r\n     <cc:Agent>\r\n      <dc:title>Matplotlib v3.3.4, https://matplotlib.org/</dc:title>\r\n     </cc:Agent>\r\n    </dc:creator>\r\n   </cc:Work>\r\n  </rdf:RDF>\r\n </metadata>\r\n <defs>\r\n  <style type=\"text/css\">*{stroke-linecap:butt;stroke-linejoin:round;}</style>\r\n </defs>\r\n <g id=\"figure_1\">\r\n  <g id=\"patch_1\">\r\n   <path d=\"M 0 324.055626 \r\nL 416.777596 324.055626 \r\nL 416.777596 0 \r\nL 0 0 \r\nz\r\n\" style=\"fill:none;\"/>\r\n  </g>\r\n  <g id=\"axes_1\">\r\n   <g id=\"patch_2\">\r\n    <path d=\"M 50.14375 241.718125 \r\nL 405.866787 241.718125 \r\nL 405.866787 22.318125 \r\nL 50.14375 22.318125 \r\nz\r\n\" style=\"fill:#ffffff;\"/>\r\n   </g>\r\n   <g id=\"patch_3\">\r\n    <path clip-path=\"url(#p5e541f4790)\" d=\"M 66.312979 241.718125 \r\nL 81.012278 241.718125 \r\nL 81.012278 60.310426 \r\nL 66.312979 60.310426 \r\nz\r\n\" style=\"fill:#0000ff;opacity:0.8;\"/>\r\n   </g>\r\n   <g id=\"patch_4\">\r\n    <path clip-path=\"url(#p5e541f4790)\" d=\"M 108.310976 241.718125 \r\nL 123.010275 241.718125 \r\nL 123.010275 124.780156 \r\nL 108.310976 124.780156 \r\nz\r\n\" style=\"fill:#0000ff;opacity:0.8;\"/>\r\n   </g>\r\n   <g id=\"patch_5\">\r\n    <path clip-path=\"url(#p5e541f4790)\" d=\"M 150.308974 241.718125 \r\nL 165.008273 241.718125 \r\nL 165.008273 232.816774 \r\nL 150.308974 232.816774 \r\nz\r\n\" style=\"fill:#0000ff;opacity:0.8;\"/>\r\n   </g>\r\n   <g id=\"patch_6\">\r\n    <path clip-path=\"url(#p5e541f4790)\" d=\"M 192.306971 241.718125 \r\nL 207.00627 241.718125 \r\nL 207.00627 136.181928 \r\nL 192.306971 136.181928 \r\nz\r\n\" style=\"fill:#0000ff;opacity:0.8;\"/>\r\n   </g>\r\n   <g id=\"patch_7\">\r\n    <path clip-path=\"url(#p5e541f4790)\" d=\"M 234.304968 241.718125 \r\nL 249.004267 241.718125 \r\nL 249.004267 111.593008 \r\nL 234.304968 111.593008 \r\nz\r\n\" style=\"fill:#0000ff;opacity:0.8;\"/>\r\n   </g>\r\n   <g id=\"patch_8\">\r\n    <path clip-path=\"url(#p5e541f4790)\" d=\"M 276.302965 241.718125 \r\nL 291.002265 241.718125 \r\nL 291.002265 115.376356 \r\nL 276.302965 115.376356 \r\nz\r\n\" style=\"fill:#0000ff;opacity:0.8;\"/>\r\n   </g>\r\n   <g id=\"patch_9\">\r\n    <path clip-path=\"url(#p5e541f4790)\" d=\"M 318.300963 241.718125 \r\nL 333.000262 241.718125 \r\nL 333.000262 128.010532 \r\nL 318.300963 128.010532 \r\nz\r\n\" style=\"fill:#0000ff;opacity:0.8;\"/>\r\n   </g>\r\n   <g id=\"patch_10\">\r\n    <path clip-path=\"url(#p5e541f4790)\" d=\"M 360.29896 241.718125 \r\nL 374.998259 241.718125 \r\nL 374.998259 146.961801 \r\nL 360.29896 146.961801 \r\nz\r\n\" style=\"fill:#0000ff;opacity:0.8;\"/>\r\n   </g>\r\n   <g id=\"patch_11\">\r\n    <path clip-path=\"url(#p5e541f4790)\" d=\"M 81.012278 241.718125 \r\nL 95.711577 241.718125 \r\nL 95.711577 32.765744 \r\nL 81.012278 32.765744 \r\nz\r\n\" style=\"fill:#008000;opacity:0.8;\"/>\r\n   </g>\r\n   <g id=\"patch_12\">\r\n    <path clip-path=\"url(#p5e541f4790)\" d=\"M 123.010275 241.718125 \r\nL 137.709574 241.718125 \r\nL 137.709574 108.31071 \r\nL 123.010275 108.31071 \r\nz\r\n\" style=\"fill:#008000;opacity:0.8;\"/>\r\n   </g>\r\n   <g id=\"patch_13\">\r\n    <path clip-path=\"url(#p5e541f4790)\" d=\"M 165.008273 241.718125 \r\nL 179.707572 241.718125 \r\nL 179.707572 232.816774 \r\nL 165.008273 232.816774 \r\nz\r\n\" style=\"fill:#008000;opacity:0.8;\"/>\r\n   </g>\r\n   <g id=\"patch_14\">\r\n    <path clip-path=\"url(#p5e541f4790)\" d=\"M 207.00627 241.718125 \r\nL 221.705569 241.718125 \r\nL 221.705569 132.317631 \r\nL 207.00627 132.317631 \r\nz\r\n\" style=\"fill:#008000;opacity:0.8;\"/>\r\n   </g>\r\n   <g id=\"patch_15\">\r\n    <path clip-path=\"url(#p5e541f4790)\" d=\"M 249.004267 241.718125 \r\nL 263.703566 241.718125 \r\nL 263.703566 92.593995 \r\nL 249.004267 92.593995 \r\nz\r\n\" style=\"fill:#008000;opacity:0.8;\"/>\r\n   </g>\r\n   <g id=\"patch_16\">\r\n    <path clip-path=\"url(#p5e541f4790)\" d=\"M 291.002265 241.718125 \r\nL 305.701564 241.718125 \r\nL 305.701564 115.376356 \r\nL 291.002265 115.376356 \r\nz\r\n\" style=\"fill:#008000;opacity:0.8;\"/>\r\n   </g>\r\n   <g id=\"patch_17\">\r\n    <path clip-path=\"url(#p5e541f4790)\" d=\"M 333.000262 241.718125 \r\nL 347.699561 241.718125 \r\nL 347.699561 140.644708 \r\nL 333.000262 140.644708 \r\nz\r\n\" style=\"fill:#008000;opacity:0.8;\"/>\r\n   </g>\r\n   <g id=\"patch_18\">\r\n    <path clip-path=\"url(#p5e541f4790)\" d=\"M 374.998259 241.718125 \r\nL 389.697558 241.718125 \r\nL 389.697558 146.961795 \r\nL 374.998259 146.961795 \r\nz\r\n\" style=\"fill:#008000;opacity:0.8;\"/>\r\n   </g>\r\n   <g id=\"matplotlib.axis_1\">\r\n    <g id=\"xtick_1\">\r\n     <g id=\"line2d_1\">\r\n      <defs>\r\n       <path d=\"M 0 0 \r\nL 0 3.5 \r\n\" id=\"m895ee3df5b\" style=\"stroke:#000000;stroke-width:0.8;\"/>\r\n      </defs>\r\n      <g>\r\n       <use style=\"stroke:#000000;stroke-width:0.8;\" x=\"88.361928\" xlink:href=\"#m895ee3df5b\" y=\"241.718125\"/>\r\n      </g>\r\n     </g>\r\n     <g id=\"text_1\">\r\n      <!-- ERR -->\r\n      <g transform=\"translate(83.165798 268.385637)rotate(-45)scale(0.1 -0.1)\">\r\n       <defs>\r\n        <path d=\"M 9.8125 72.90625 \r\nL 55.90625 72.90625 \r\nL 55.90625 64.59375 \r\nL 19.671875 64.59375 \r\nL 19.671875 43.015625 \r\nL 54.390625 43.015625 \r\nL 54.390625 34.71875 \r\nL 19.671875 34.71875 \r\nL 19.671875 8.296875 \r\nL 56.78125 8.296875 \r\nL 56.78125 0 \r\nL 9.8125 0 \r\nz\r\n\" id=\"DejaVuSans-69\"/>\r\n        <path d=\"M 44.390625 34.1875 \r\nQ 47.5625 33.109375 50.5625 29.59375 \r\nQ 53.5625 26.078125 56.59375 19.921875 \r\nL 66.609375 0 \r\nL 56 0 \r\nL 46.6875 18.703125 \r\nQ 43.0625 26.03125 39.671875 28.421875 \r\nQ 36.28125 30.8125 30.421875 30.8125 \r\nL 19.671875 30.8125 \r\nL 19.671875 0 \r\nL 9.8125 0 \r\nL 9.8125 72.90625 \r\nL 32.078125 72.90625 \r\nQ 44.578125 72.90625 50.734375 67.671875 \r\nQ 56.890625 62.453125 56.890625 51.90625 \r\nQ 56.890625 45.015625 53.6875 40.46875 \r\nQ 50.484375 35.9375 44.390625 34.1875 \r\nz\r\nM 19.671875 64.796875 \r\nL 19.671875 38.921875 \r\nL 32.078125 38.921875 \r\nQ 39.203125 38.921875 42.84375 42.21875 \r\nQ 46.484375 45.515625 46.484375 51.90625 \r\nQ 46.484375 58.296875 42.84375 61.546875 \r\nQ 39.203125 64.796875 32.078125 64.796875 \r\nz\r\n\" id=\"DejaVuSans-82\"/>\r\n       </defs>\r\n       <use xlink:href=\"#DejaVuSans-69\"/>\r\n       <use x=\"63.183594\" xlink:href=\"#DejaVuSans-82\"/>\r\n       <use x=\"132.666016\" xlink:href=\"#DejaVuSans-82\"/>\r\n      </g>\r\n     </g>\r\n    </g>\r\n    <g id=\"xtick_2\">\r\n     <g id=\"line2d_2\">\r\n      <g>\r\n       <use style=\"stroke:#000000;stroke-width:0.8;\" x=\"130.359925\" xlink:href=\"#m895ee3df5b\" y=\"241.718125\"/>\r\n      </g>\r\n     </g>\r\n     <g id=\"text_2\">\r\n      <!-- MAP -->\r\n      <g transform=\"translate(124.710252 269.292723)rotate(-45)scale(0.1 -0.1)\">\r\n       <defs>\r\n        <path d=\"M 9.8125 72.90625 \r\nL 24.515625 72.90625 \r\nL 43.109375 23.296875 \r\nL 61.8125 72.90625 \r\nL 76.515625 72.90625 \r\nL 76.515625 0 \r\nL 66.890625 0 \r\nL 66.890625 64.015625 \r\nL 48.09375 14.015625 \r\nL 38.1875 14.015625 \r\nL 19.390625 64.015625 \r\nL 19.390625 0 \r\nL 9.8125 0 \r\nz\r\n\" id=\"DejaVuSans-77\"/>\r\n        <path d=\"M 34.1875 63.1875 \r\nL 20.796875 26.90625 \r\nL 47.609375 26.90625 \r\nz\r\nM 28.609375 72.90625 \r\nL 39.796875 72.90625 \r\nL 67.578125 0 \r\nL 57.328125 0 \r\nL 50.6875 18.703125 \r\nL 17.828125 18.703125 \r\nL 11.1875 0 \r\nL 0.78125 0 \r\nz\r\n\" id=\"DejaVuSans-65\"/>\r\n        <path d=\"M 19.671875 64.796875 \r\nL 19.671875 37.40625 \r\nL 32.078125 37.40625 \r\nQ 38.96875 37.40625 42.71875 40.96875 \r\nQ 46.484375 44.53125 46.484375 51.125 \r\nQ 46.484375 57.671875 42.71875 61.234375 \r\nQ 38.96875 64.796875 32.078125 64.796875 \r\nz\r\nM 9.8125 72.90625 \r\nL 32.078125 72.90625 \r\nQ 44.34375 72.90625 50.609375 67.359375 \r\nQ 56.890625 61.8125 56.890625 51.125 \r\nQ 56.890625 40.328125 50.609375 34.8125 \r\nQ 44.34375 29.296875 32.078125 29.296875 \r\nL 19.671875 29.296875 \r\nL 19.671875 0 \r\nL 9.8125 0 \r\nz\r\n\" id=\"DejaVuSans-80\"/>\r\n       </defs>\r\n       <use xlink:href=\"#DejaVuSans-77\"/>\r\n       <use x=\"86.279297\" xlink:href=\"#DejaVuSans-65\"/>\r\n       <use x=\"154.6875\" xlink:href=\"#DejaVuSans-80\"/>\r\n      </g>\r\n     </g>\r\n    </g>\r\n    <g id=\"xtick_3\">\r\n     <g id=\"line2d_3\">\r\n      <g>\r\n       <use style=\"stroke:#000000;stroke-width:0.8;\" x=\"172.357922\" xlink:href=\"#m895ee3df5b\" y=\"241.718125\"/>\r\n      </g>\r\n     </g>\r\n     <g id=\"text_3\">\r\n      <!-- Recall@1 -->\r\n      <g transform=\"translate(157.976033 286.757155)rotate(-45)scale(0.1 -0.1)\">\r\n       <defs>\r\n        <path d=\"M 56.203125 29.59375 \r\nL 56.203125 25.203125 \r\nL 14.890625 25.203125 \r\nQ 15.484375 15.921875 20.484375 11.0625 \r\nQ 25.484375 6.203125 34.421875 6.203125 \r\nQ 39.59375 6.203125 44.453125 7.46875 \r\nQ 49.3125 8.734375 54.109375 11.28125 \r\nL 54.109375 2.78125 \r\nQ 49.265625 0.734375 44.1875 -0.34375 \r\nQ 39.109375 -1.421875 33.890625 -1.421875 \r\nQ 20.796875 -1.421875 13.15625 6.1875 \r\nQ 5.515625 13.8125 5.515625 26.8125 \r\nQ 5.515625 40.234375 12.765625 48.109375 \r\nQ 20.015625 56 32.328125 56 \r\nQ 43.359375 56 49.78125 48.890625 \r\nQ 56.203125 41.796875 56.203125 29.59375 \r\nz\r\nM 47.21875 32.234375 \r\nQ 47.125 39.59375 43.09375 43.984375 \r\nQ 39.0625 48.390625 32.421875 48.390625 \r\nQ 24.90625 48.390625 20.390625 44.140625 \r\nQ 15.875 39.890625 15.1875 32.171875 \r\nz\r\n\" id=\"DejaVuSans-101\"/>\r\n        <path d=\"M 48.78125 52.59375 \r\nL 48.78125 44.1875 \r\nQ 44.96875 46.296875 41.140625 47.34375 \r\nQ 37.3125 48.390625 33.40625 48.390625 \r\nQ 24.65625 48.390625 19.8125 42.84375 \r\nQ 14.984375 37.3125 14.984375 27.296875 \r\nQ 14.984375 17.28125 19.8125 11.734375 \r\nQ 24.65625 6.203125 33.40625 6.203125 \r\nQ 37.3125 6.203125 41.140625 7.25 \r\nQ 44.96875 8.296875 48.78125 10.40625 \r\nL 48.78125 2.09375 \r\nQ 45.015625 0.34375 40.984375 -0.53125 \r\nQ 36.96875 -1.421875 32.421875 -1.421875 \r\nQ 20.0625 -1.421875 12.78125 6.34375 \r\nQ 5.515625 14.109375 5.515625 27.296875 \r\nQ 5.515625 40.671875 12.859375 48.328125 \r\nQ 20.21875 56 33.015625 56 \r\nQ 37.15625 56 41.109375 55.140625 \r\nQ 45.0625 54.296875 48.78125 52.59375 \r\nz\r\n\" id=\"DejaVuSans-99\"/>\r\n        <path d=\"M 34.28125 27.484375 \r\nQ 23.390625 27.484375 19.1875 25 \r\nQ 14.984375 22.515625 14.984375 16.5 \r\nQ 14.984375 11.71875 18.140625 8.90625 \r\nQ 21.296875 6.109375 26.703125 6.109375 \r\nQ 34.1875 6.109375 38.703125 11.40625 \r\nQ 43.21875 16.703125 43.21875 25.484375 \r\nL 43.21875 27.484375 \r\nz\r\nM 52.203125 31.203125 \r\nL 52.203125 0 \r\nL 43.21875 0 \r\nL 43.21875 8.296875 \r\nQ 40.140625 3.328125 35.546875 0.953125 \r\nQ 30.953125 -1.421875 24.3125 -1.421875 \r\nQ 15.921875 -1.421875 10.953125 3.296875 \r\nQ 6 8.015625 6 15.921875 \r\nQ 6 25.140625 12.171875 29.828125 \r\nQ 18.359375 34.515625 30.609375 34.515625 \r\nL 43.21875 34.515625 \r\nL 43.21875 35.40625 \r\nQ 43.21875 41.609375 39.140625 45 \r\nQ 35.0625 48.390625 27.6875 48.390625 \r\nQ 23 48.390625 18.546875 47.265625 \r\nQ 14.109375 46.140625 10.015625 43.890625 \r\nL 10.015625 52.203125 \r\nQ 14.9375 54.109375 19.578125 55.046875 \r\nQ 24.21875 56 28.609375 56 \r\nQ 40.484375 56 46.34375 49.84375 \r\nQ 52.203125 43.703125 52.203125 31.203125 \r\nz\r\n\" id=\"DejaVuSans-97\"/>\r\n        <path d=\"M 9.421875 75.984375 \r\nL 18.40625 75.984375 \r\nL 18.40625 0 \r\nL 9.421875 0 \r\nz\r\n\" id=\"DejaVuSans-108\"/>\r\n        <path d=\"M 37.203125 26.21875 \r\nQ 37.203125 19.234375 40.671875 15.25 \r\nQ 44.140625 11.28125 50.203125 11.28125 \r\nQ 56.203125 11.28125 59.640625 15.28125 \r\nQ 63.09375 19.28125 63.09375 26.21875 \r\nQ 63.09375 33.0625 59.578125 37.078125 \r\nQ 56.0625 41.109375 50.09375 41.109375 \r\nQ 44.1875 41.109375 40.6875 37.109375 \r\nQ 37.203125 33.109375 37.203125 26.21875 \r\nz\r\nM 63.8125 11.625 \r\nQ 60.890625 7.859375 57.109375 6.078125 \r\nQ 53.328125 4.296875 48.296875 4.296875 \r\nQ 39.890625 4.296875 34.640625 10.375 \r\nQ 29.390625 16.453125 29.390625 26.21875 \r\nQ 29.390625 35.984375 34.65625 42.078125 \r\nQ 39.9375 48.1875 48.296875 48.1875 \r\nQ 53.328125 48.1875 57.125 46.359375 \r\nQ 60.9375 44.53125 63.8125 40.828125 \r\nL 63.8125 47.21875 \r\nL 70.796875 47.21875 \r\nL 70.796875 11.28125 \r\nQ 77.9375 12.359375 81.953125 17.796875 \r\nQ 85.984375 23.25 85.984375 31.890625 \r\nQ 85.984375 37.109375 84.4375 41.703125 \r\nQ 82.90625 46.296875 79.78125 50.203125 \r\nQ 74.703125 56.59375 67.40625 59.984375 \r\nQ 60.109375 63.375 51.515625 63.375 \r\nQ 45.515625 63.375 39.984375 61.78125 \r\nQ 34.46875 60.203125 29.78125 57.078125 \r\nQ 22.125 52.09375 17.796875 44.015625 \r\nQ 13.484375 35.9375 13.484375 26.515625 \r\nQ 13.484375 18.75 16.28125 11.953125 \r\nQ 19.09375 5.171875 24.421875 0 \r\nQ 29.546875 -5.078125 36.28125 -7.734375 \r\nQ 43.015625 -10.40625 50.6875 -10.40625 \r\nQ 56.984375 -10.40625 63.0625 -8.28125 \r\nQ 69.140625 -6.15625 74.21875 -2.203125 \r\nL 78.609375 -7.625 \r\nQ 72.515625 -12.359375 65.3125 -14.875 \r\nQ 58.109375 -17.390625 50.6875 -17.390625 \r\nQ 41.65625 -17.390625 33.640625 -14.1875 \r\nQ 25.640625 -10.984375 19.390625 -4.890625 \r\nQ 13.140625 1.21875 9.859375 9.25 \r\nQ 6.59375 17.28125 6.59375 26.515625 \r\nQ 6.59375 35.40625 9.90625 43.453125 \r\nQ 13.234375 51.515625 19.390625 57.625 \r\nQ 25.6875 63.8125 33.9375 67.109375 \r\nQ 42.1875 70.40625 51.421875 70.40625 \r\nQ 61.765625 70.40625 70.625 66.15625 \r\nQ 79.5 61.921875 85.5 54.109375 \r\nQ 89.15625 49.3125 91.078125 43.703125 \r\nQ 93.015625 38.09375 93.015625 32.078125 \r\nQ 93.015625 19.234375 85.25 11.8125 \r\nQ 77.484375 4.390625 63.8125 4.109375 \r\nz\r\n\" id=\"DejaVuSans-64\"/>\r\n        <path d=\"M 12.40625 8.296875 \r\nL 28.515625 8.296875 \r\nL 28.515625 63.921875 \r\nL 10.984375 60.40625 \r\nL 10.984375 69.390625 \r\nL 28.421875 72.90625 \r\nL 38.28125 72.90625 \r\nL 38.28125 8.296875 \r\nL 54.390625 8.296875 \r\nL 54.390625 0 \r\nL 12.40625 0 \r\nz\r\n\" id=\"DejaVuSans-49\"/>\r\n       </defs>\r\n       <use xlink:href=\"#DejaVuSans-82\"/>\r\n       <use x=\"64.982422\" xlink:href=\"#DejaVuSans-101\"/>\r\n       <use x=\"126.505859\" xlink:href=\"#DejaVuSans-99\"/>\r\n       <use x=\"181.486328\" xlink:href=\"#DejaVuSans-97\"/>\r\n       <use x=\"242.765625\" xlink:href=\"#DejaVuSans-108\"/>\r\n       <use x=\"270.548828\" xlink:href=\"#DejaVuSans-108\"/>\r\n       <use x=\"298.332031\" xlink:href=\"#DejaVuSans-64\"/>\r\n       <use x=\"398.332031\" xlink:href=\"#DejaVuSans-49\"/>\r\n      </g>\r\n     </g>\r\n    </g>\r\n    <g id=\"xtick_4\">\r\n     <g id=\"line2d_4\">\r\n      <g>\r\n       <use style=\"stroke:#000000;stroke-width:0.8;\" x=\"214.355919\" xlink:href=\"#m895ee3df5b\" y=\"241.718125\"/>\r\n      </g>\r\n     </g>\r\n     <g id=\"text_4\">\r\n      <!-- Recall@5 -->\r\n      <g transform=\"translate(199.97403 286.757155)rotate(-45)scale(0.1 -0.1)\">\r\n       <defs>\r\n        <path d=\"M 10.796875 72.90625 \r\nL 49.515625 72.90625 \r\nL 49.515625 64.59375 \r\nL 19.828125 64.59375 \r\nL 19.828125 46.734375 \r\nQ 21.96875 47.46875 24.109375 47.828125 \r\nQ 26.265625 48.1875 28.421875 48.1875 \r\nQ 40.625 48.1875 47.75 41.5 \r\nQ 54.890625 34.8125 54.890625 23.390625 \r\nQ 54.890625 11.625 47.5625 5.09375 \r\nQ 40.234375 -1.421875 26.90625 -1.421875 \r\nQ 22.3125 -1.421875 17.546875 -0.640625 \r\nQ 12.796875 0.140625 7.71875 1.703125 \r\nL 7.71875 11.625 \r\nQ 12.109375 9.234375 16.796875 8.0625 \r\nQ 21.484375 6.890625 26.703125 6.890625 \r\nQ 35.15625 6.890625 40.078125 11.328125 \r\nQ 45.015625 15.765625 45.015625 23.390625 \r\nQ 45.015625 31 40.078125 35.4375 \r\nQ 35.15625 39.890625 26.703125 39.890625 \r\nQ 22.75 39.890625 18.8125 39.015625 \r\nQ 14.890625 38.140625 10.796875 36.28125 \r\nz\r\n\" id=\"DejaVuSans-53\"/>\r\n       </defs>\r\n       <use xlink:href=\"#DejaVuSans-82\"/>\r\n       <use x=\"64.982422\" xlink:href=\"#DejaVuSans-101\"/>\r\n       <use x=\"126.505859\" xlink:href=\"#DejaVuSans-99\"/>\r\n       <use x=\"181.486328\" xlink:href=\"#DejaVuSans-97\"/>\r\n       <use x=\"242.765625\" xlink:href=\"#DejaVuSans-108\"/>\r\n       <use x=\"270.548828\" xlink:href=\"#DejaVuSans-108\"/>\r\n       <use x=\"298.332031\" xlink:href=\"#DejaVuSans-64\"/>\r\n       <use x=\"398.332031\" xlink:href=\"#DejaVuSans-53\"/>\r\n      </g>\r\n     </g>\r\n    </g>\r\n    <g id=\"xtick_5\">\r\n     <g id=\"line2d_5\">\r\n      <g>\r\n       <use style=\"stroke:#000000;stroke-width:0.8;\" x=\"256.353917\" xlink:href=\"#m895ee3df5b\" y=\"241.718125\"/>\r\n      </g>\r\n     </g>\r\n     <g id=\"text_5\">\r\n      <!-- Recall@10 -->\r\n      <g transform=\"translate(239.722544 291.256122)rotate(-45)scale(0.1 -0.1)\">\r\n       <defs>\r\n        <path d=\"M 31.78125 66.40625 \r\nQ 24.171875 66.40625 20.328125 58.90625 \r\nQ 16.5 51.421875 16.5 36.375 \r\nQ 16.5 21.390625 20.328125 13.890625 \r\nQ 24.171875 6.390625 31.78125 6.390625 \r\nQ 39.453125 6.390625 43.28125 13.890625 \r\nQ 47.125 21.390625 47.125 36.375 \r\nQ 47.125 51.421875 43.28125 58.90625 \r\nQ 39.453125 66.40625 31.78125 66.40625 \r\nz\r\nM 31.78125 74.21875 \r\nQ 44.046875 74.21875 50.515625 64.515625 \r\nQ 56.984375 54.828125 56.984375 36.375 \r\nQ 56.984375 17.96875 50.515625 8.265625 \r\nQ 44.046875 -1.421875 31.78125 -1.421875 \r\nQ 19.53125 -1.421875 13.0625 8.265625 \r\nQ 6.59375 17.96875 6.59375 36.375 \r\nQ 6.59375 54.828125 13.0625 64.515625 \r\nQ 19.53125 74.21875 31.78125 74.21875 \r\nz\r\n\" id=\"DejaVuSans-48\"/>\r\n       </defs>\r\n       <use xlink:href=\"#DejaVuSans-82\"/>\r\n       <use x=\"64.982422\" xlink:href=\"#DejaVuSans-101\"/>\r\n       <use x=\"126.505859\" xlink:href=\"#DejaVuSans-99\"/>\r\n       <use x=\"181.486328\" xlink:href=\"#DejaVuSans-97\"/>\r\n       <use x=\"242.765625\" xlink:href=\"#DejaVuSans-108\"/>\r\n       <use x=\"270.548828\" xlink:href=\"#DejaVuSans-108\"/>\r\n       <use x=\"298.332031\" xlink:href=\"#DejaVuSans-64\"/>\r\n       <use x=\"398.332031\" xlink:href=\"#DejaVuSans-49\"/>\r\n       <use x=\"461.955078\" xlink:href=\"#DejaVuSans-48\"/>\r\n      </g>\r\n     </g>\r\n    </g>\r\n    <g id=\"xtick_6\">\r\n     <g id=\"line2d_6\">\r\n      <g>\r\n       <use style=\"stroke:#000000;stroke-width:0.8;\" x=\"298.351914\" xlink:href=\"#m895ee3df5b\" y=\"241.718125\"/>\r\n      </g>\r\n     </g>\r\n     <g id=\"text_6\">\r\n      <!-- Precision@1 -->\r\n      <g transform=\"translate(278.744616 297.207973)rotate(-45)scale(0.1 -0.1)\">\r\n       <defs>\r\n        <path d=\"M 41.109375 46.296875 \r\nQ 39.59375 47.171875 37.8125 47.578125 \r\nQ 36.03125 48 33.890625 48 \r\nQ 26.265625 48 22.1875 43.046875 \r\nQ 18.109375 38.09375 18.109375 28.8125 \r\nL 18.109375 0 \r\nL 9.078125 0 \r\nL 9.078125 54.6875 \r\nL 18.109375 54.6875 \r\nL 18.109375 46.1875 \r\nQ 20.953125 51.171875 25.484375 53.578125 \r\nQ 30.03125 56 36.53125 56 \r\nQ 37.453125 56 38.578125 55.875 \r\nQ 39.703125 55.765625 41.0625 55.515625 \r\nz\r\n\" id=\"DejaVuSans-114\"/>\r\n        <path d=\"M 9.421875 54.6875 \r\nL 18.40625 54.6875 \r\nL 18.40625 0 \r\nL 9.421875 0 \r\nz\r\nM 9.421875 75.984375 \r\nL 18.40625 75.984375 \r\nL 18.40625 64.59375 \r\nL 9.421875 64.59375 \r\nz\r\n\" id=\"DejaVuSans-105\"/>\r\n        <path d=\"M 44.28125 53.078125 \r\nL 44.28125 44.578125 \r\nQ 40.484375 46.53125 36.375 47.5 \r\nQ 32.28125 48.484375 27.875 48.484375 \r\nQ 21.1875 48.484375 17.84375 46.4375 \r\nQ 14.5 44.390625 14.5 40.28125 \r\nQ 14.5 37.15625 16.890625 35.375 \r\nQ 19.28125 33.59375 26.515625 31.984375 \r\nL 29.59375 31.296875 \r\nQ 39.15625 29.25 43.1875 25.515625 \r\nQ 47.21875 21.78125 47.21875 15.09375 \r\nQ 47.21875 7.46875 41.1875 3.015625 \r\nQ 35.15625 -1.421875 24.609375 -1.421875 \r\nQ 20.21875 -1.421875 15.453125 -0.5625 \r\nQ 10.6875 0.296875 5.421875 2 \r\nL 5.421875 11.28125 \r\nQ 10.40625 8.6875 15.234375 7.390625 \r\nQ 20.0625 6.109375 24.8125 6.109375 \r\nQ 31.15625 6.109375 34.5625 8.28125 \r\nQ 37.984375 10.453125 37.984375 14.40625 \r\nQ 37.984375 18.0625 35.515625 20.015625 \r\nQ 33.0625 21.96875 24.703125 23.78125 \r\nL 21.578125 24.515625 \r\nQ 13.234375 26.265625 9.515625 29.90625 \r\nQ 5.8125 33.546875 5.8125 39.890625 \r\nQ 5.8125 47.609375 11.28125 51.796875 \r\nQ 16.75 56 26.8125 56 \r\nQ 31.78125 56 36.171875 55.265625 \r\nQ 40.578125 54.546875 44.28125 53.078125 \r\nz\r\n\" id=\"DejaVuSans-115\"/>\r\n        <path d=\"M 30.609375 48.390625 \r\nQ 23.390625 48.390625 19.1875 42.75 \r\nQ 14.984375 37.109375 14.984375 27.296875 \r\nQ 14.984375 17.484375 19.15625 11.84375 \r\nQ 23.34375 6.203125 30.609375 6.203125 \r\nQ 37.796875 6.203125 41.984375 11.859375 \r\nQ 46.1875 17.53125 46.1875 27.296875 \r\nQ 46.1875 37.015625 41.984375 42.703125 \r\nQ 37.796875 48.390625 30.609375 48.390625 \r\nz\r\nM 30.609375 56 \r\nQ 42.328125 56 49.015625 48.375 \r\nQ 55.71875 40.765625 55.71875 27.296875 \r\nQ 55.71875 13.875 49.015625 6.21875 \r\nQ 42.328125 -1.421875 30.609375 -1.421875 \r\nQ 18.84375 -1.421875 12.171875 6.21875 \r\nQ 5.515625 13.875 5.515625 27.296875 \r\nQ 5.515625 40.765625 12.171875 48.375 \r\nQ 18.84375 56 30.609375 56 \r\nz\r\n\" id=\"DejaVuSans-111\"/>\r\n        <path d=\"M 54.890625 33.015625 \r\nL 54.890625 0 \r\nL 45.90625 0 \r\nL 45.90625 32.71875 \r\nQ 45.90625 40.484375 42.875 44.328125 \r\nQ 39.84375 48.1875 33.796875 48.1875 \r\nQ 26.515625 48.1875 22.3125 43.546875 \r\nQ 18.109375 38.921875 18.109375 30.90625 \r\nL 18.109375 0 \r\nL 9.078125 0 \r\nL 9.078125 54.6875 \r\nL 18.109375 54.6875 \r\nL 18.109375 46.1875 \r\nQ 21.34375 51.125 25.703125 53.5625 \r\nQ 30.078125 56 35.796875 56 \r\nQ 45.21875 56 50.046875 50.171875 \r\nQ 54.890625 44.34375 54.890625 33.015625 \r\nz\r\n\" id=\"DejaVuSans-110\"/>\r\n       </defs>\r\n       <use xlink:href=\"#DejaVuSans-80\"/>\r\n       <use x=\"58.552734\" xlink:href=\"#DejaVuSans-114\"/>\r\n       <use x=\"97.416016\" xlink:href=\"#DejaVuSans-101\"/>\r\n       <use x=\"158.939453\" xlink:href=\"#DejaVuSans-99\"/>\r\n       <use x=\"213.919922\" xlink:href=\"#DejaVuSans-105\"/>\r\n       <use x=\"241.703125\" xlink:href=\"#DejaVuSans-115\"/>\r\n       <use x=\"293.802734\" xlink:href=\"#DejaVuSans-105\"/>\r\n       <use x=\"321.585938\" xlink:href=\"#DejaVuSans-111\"/>\r\n       <use x=\"382.767578\" xlink:href=\"#DejaVuSans-110\"/>\r\n       <use x=\"446.146484\" xlink:href=\"#DejaVuSans-64\"/>\r\n       <use x=\"546.146484\" xlink:href=\"#DejaVuSans-49\"/>\r\n      </g>\r\n     </g>\r\n    </g>\r\n    <g id=\"xtick_7\">\r\n     <g id=\"line2d_7\">\r\n      <g>\r\n       <use style=\"stroke:#000000;stroke-width:0.8;\" x=\"340.349911\" xlink:href=\"#m895ee3df5b\" y=\"241.718125\"/>\r\n      </g>\r\n     </g>\r\n     <g id=\"text_7\">\r\n      <!-- Precision@5 -->\r\n      <g transform=\"translate(320.742614 297.207973)rotate(-45)scale(0.1 -0.1)\">\r\n       <use xlink:href=\"#DejaVuSans-80\"/>\r\n       <use x=\"58.552734\" xlink:href=\"#DejaVuSans-114\"/>\r\n       <use x=\"97.416016\" xlink:href=\"#DejaVuSans-101\"/>\r\n       <use x=\"158.939453\" xlink:href=\"#DejaVuSans-99\"/>\r\n       <use x=\"213.919922\" xlink:href=\"#DejaVuSans-105\"/>\r\n       <use x=\"241.703125\" xlink:href=\"#DejaVuSans-115\"/>\r\n       <use x=\"293.802734\" xlink:href=\"#DejaVuSans-105\"/>\r\n       <use x=\"321.585938\" xlink:href=\"#DejaVuSans-111\"/>\r\n       <use x=\"382.767578\" xlink:href=\"#DejaVuSans-110\"/>\r\n       <use x=\"446.146484\" xlink:href=\"#DejaVuSans-64\"/>\r\n       <use x=\"546.146484\" xlink:href=\"#DejaVuSans-53\"/>\r\n      </g>\r\n     </g>\r\n    </g>\r\n    <g id=\"xtick_8\">\r\n     <g id=\"line2d_8\">\r\n      <g>\r\n       <use style=\"stroke:#000000;stroke-width:0.8;\" x=\"382.347909\" xlink:href=\"#m895ee3df5b\" y=\"241.718125\"/>\r\n      </g>\r\n     </g>\r\n     <g id=\"text_8\">\r\n      <!-- Precision@10 -->\r\n      <g transform=\"translate(360.491128 301.706939)rotate(-45)scale(0.1 -0.1)\">\r\n       <use xlink:href=\"#DejaVuSans-80\"/>\r\n       <use x=\"58.552734\" xlink:href=\"#DejaVuSans-114\"/>\r\n       <use x=\"97.416016\" xlink:href=\"#DejaVuSans-101\"/>\r\n       <use x=\"158.939453\" xlink:href=\"#DejaVuSans-99\"/>\r\n       <use x=\"213.919922\" xlink:href=\"#DejaVuSans-105\"/>\r\n       <use x=\"241.703125\" xlink:href=\"#DejaVuSans-115\"/>\r\n       <use x=\"293.802734\" xlink:href=\"#DejaVuSans-105\"/>\r\n       <use x=\"321.585938\" xlink:href=\"#DejaVuSans-111\"/>\r\n       <use x=\"382.767578\" xlink:href=\"#DejaVuSans-110\"/>\r\n       <use x=\"446.146484\" xlink:href=\"#DejaVuSans-64\"/>\r\n       <use x=\"546.146484\" xlink:href=\"#DejaVuSans-49\"/>\r\n       <use x=\"609.769531\" xlink:href=\"#DejaVuSans-48\"/>\r\n      </g>\r\n     </g>\r\n    </g>\r\n    <g id=\"text_9\">\r\n     <!-- Metrics -->\r\n     <g transform=\"translate(209.85605 314.775938)scale(0.1 -0.1)\">\r\n      <defs>\r\n       <path d=\"M 18.3125 70.21875 \r\nL 18.3125 54.6875 \r\nL 36.8125 54.6875 \r\nL 36.8125 47.703125 \r\nL 18.3125 47.703125 \r\nL 18.3125 18.015625 \r\nQ 18.3125 11.328125 20.140625 9.421875 \r\nQ 21.96875 7.515625 27.59375 7.515625 \r\nL 36.8125 7.515625 \r\nL 36.8125 0 \r\nL 27.59375 0 \r\nQ 17.1875 0 13.234375 3.875 \r\nQ 9.28125 7.765625 9.28125 18.015625 \r\nL 9.28125 47.703125 \r\nL 2.6875 47.703125 \r\nL 2.6875 54.6875 \r\nL 9.28125 54.6875 \r\nL 9.28125 70.21875 \r\nz\r\n\" id=\"DejaVuSans-116\"/>\r\n      </defs>\r\n      <use xlink:href=\"#DejaVuSans-77\"/>\r\n      <use x=\"86.279297\" xlink:href=\"#DejaVuSans-101\"/>\r\n      <use x=\"147.802734\" xlink:href=\"#DejaVuSans-116\"/>\r\n      <use x=\"187.011719\" xlink:href=\"#DejaVuSans-114\"/>\r\n      <use x=\"228.125\" xlink:href=\"#DejaVuSans-105\"/>\r\n      <use x=\"255.908203\" xlink:href=\"#DejaVuSans-99\"/>\r\n      <use x=\"310.888672\" xlink:href=\"#DejaVuSans-115\"/>\r\n     </g>\r\n    </g>\r\n   </g>\r\n   <g id=\"matplotlib.axis_2\">\r\n    <g id=\"ytick_1\">\r\n     <g id=\"line2d_9\">\r\n      <defs>\r\n       <path d=\"M 0 0 \r\nL -3.5 0 \r\n\" id=\"m919da611ad\" style=\"stroke:#000000;stroke-width:0.8;\"/>\r\n      </defs>\r\n      <g>\r\n       <use style=\"stroke:#000000;stroke-width:0.8;\" x=\"50.14375\" xlink:href=\"#m919da611ad\" y=\"241.718125\"/>\r\n      </g>\r\n     </g>\r\n     <g id=\"text_10\">\r\n      <!-- 0.00 -->\r\n      <g transform=\"translate(20.878125 245.517344)scale(0.1 -0.1)\">\r\n       <defs>\r\n        <path d=\"M 10.6875 12.40625 \r\nL 21 12.40625 \r\nL 21 0 \r\nL 10.6875 0 \r\nz\r\n\" id=\"DejaVuSans-46\"/>\r\n       </defs>\r\n       <use xlink:href=\"#DejaVuSans-48\"/>\r\n       <use x=\"63.623047\" xlink:href=\"#DejaVuSans-46\"/>\r\n       <use x=\"95.410156\" xlink:href=\"#DejaVuSans-48\"/>\r\n       <use x=\"159.033203\" xlink:href=\"#DejaVuSans-48\"/>\r\n      </g>\r\n     </g>\r\n    </g>\r\n    <g id=\"ytick_2\">\r\n     <g id=\"line2d_10\">\r\n      <g>\r\n       <use style=\"stroke:#000000;stroke-width:0.8;\" x=\"50.14375\" xlink:href=\"#m919da611ad\" y=\"208.869266\"/>\r\n      </g>\r\n     </g>\r\n     <g id=\"text_11\">\r\n      <!-- 0.01 -->\r\n      <g transform=\"translate(20.878125 212.668485)scale(0.1 -0.1)\">\r\n       <use xlink:href=\"#DejaVuSans-48\"/>\r\n       <use x=\"63.623047\" xlink:href=\"#DejaVuSans-46\"/>\r\n       <use x=\"95.410156\" xlink:href=\"#DejaVuSans-48\"/>\r\n       <use x=\"159.033203\" xlink:href=\"#DejaVuSans-49\"/>\r\n      </g>\r\n     </g>\r\n    </g>\r\n    <g id=\"ytick_3\">\r\n     <g id=\"line2d_11\">\r\n      <g>\r\n       <use style=\"stroke:#000000;stroke-width:0.8;\" x=\"50.14375\" xlink:href=\"#m919da611ad\" y=\"176.020408\"/>\r\n      </g>\r\n     </g>\r\n     <g id=\"text_12\">\r\n      <!-- 0.02 -->\r\n      <g transform=\"translate(20.878125 179.819626)scale(0.1 -0.1)\">\r\n       <defs>\r\n        <path d=\"M 19.1875 8.296875 \r\nL 53.609375 8.296875 \r\nL 53.609375 0 \r\nL 7.328125 0 \r\nL 7.328125 8.296875 \r\nQ 12.9375 14.109375 22.625 23.890625 \r\nQ 32.328125 33.6875 34.8125 36.53125 \r\nQ 39.546875 41.84375 41.421875 45.53125 \r\nQ 43.3125 49.21875 43.3125 52.78125 \r\nQ 43.3125 58.59375 39.234375 62.25 \r\nQ 35.15625 65.921875 28.609375 65.921875 \r\nQ 23.96875 65.921875 18.8125 64.3125 \r\nQ 13.671875 62.703125 7.8125 59.421875 \r\nL 7.8125 69.390625 \r\nQ 13.765625 71.78125 18.9375 73 \r\nQ 24.125 74.21875 28.421875 74.21875 \r\nQ 39.75 74.21875 46.484375 68.546875 \r\nQ 53.21875 62.890625 53.21875 53.421875 \r\nQ 53.21875 48.921875 51.53125 44.890625 \r\nQ 49.859375 40.875 45.40625 35.40625 \r\nQ 44.1875 33.984375 37.640625 27.21875 \r\nQ 31.109375 20.453125 19.1875 8.296875 \r\nz\r\n\" id=\"DejaVuSans-50\"/>\r\n       </defs>\r\n       <use xlink:href=\"#DejaVuSans-48\"/>\r\n       <use x=\"63.623047\" xlink:href=\"#DejaVuSans-46\"/>\r\n       <use x=\"95.410156\" xlink:href=\"#DejaVuSans-48\"/>\r\n       <use x=\"159.033203\" xlink:href=\"#DejaVuSans-50\"/>\r\n      </g>\r\n     </g>\r\n    </g>\r\n    <g id=\"ytick_4\">\r\n     <g id=\"line2d_12\">\r\n      <g>\r\n       <use style=\"stroke:#000000;stroke-width:0.8;\" x=\"50.14375\" xlink:href=\"#m919da611ad\" y=\"143.171549\"/>\r\n      </g>\r\n     </g>\r\n     <g id=\"text_13\">\r\n      <!-- 0.03 -->\r\n      <g transform=\"translate(20.878125 146.970768)scale(0.1 -0.1)\">\r\n       <defs>\r\n        <path d=\"M 40.578125 39.3125 \r\nQ 47.65625 37.796875 51.625 33 \r\nQ 55.609375 28.21875 55.609375 21.1875 \r\nQ 55.609375 10.40625 48.1875 4.484375 \r\nQ 40.765625 -1.421875 27.09375 -1.421875 \r\nQ 22.515625 -1.421875 17.65625 -0.515625 \r\nQ 12.796875 0.390625 7.625 2.203125 \r\nL 7.625 11.71875 \r\nQ 11.71875 9.328125 16.59375 8.109375 \r\nQ 21.484375 6.890625 26.8125 6.890625 \r\nQ 36.078125 6.890625 40.9375 10.546875 \r\nQ 45.796875 14.203125 45.796875 21.1875 \r\nQ 45.796875 27.640625 41.28125 31.265625 \r\nQ 36.765625 34.90625 28.71875 34.90625 \r\nL 20.21875 34.90625 \r\nL 20.21875 43.015625 \r\nL 29.109375 43.015625 \r\nQ 36.375 43.015625 40.234375 45.921875 \r\nQ 44.09375 48.828125 44.09375 54.296875 \r\nQ 44.09375 59.90625 40.109375 62.90625 \r\nQ 36.140625 65.921875 28.71875 65.921875 \r\nQ 24.65625 65.921875 20.015625 65.03125 \r\nQ 15.375 64.15625 9.8125 62.3125 \r\nL 9.8125 71.09375 \r\nQ 15.4375 72.65625 20.34375 73.4375 \r\nQ 25.25 74.21875 29.59375 74.21875 \r\nQ 40.828125 74.21875 47.359375 69.109375 \r\nQ 53.90625 64.015625 53.90625 55.328125 \r\nQ 53.90625 49.265625 50.4375 45.09375 \r\nQ 46.96875 40.921875 40.578125 39.3125 \r\nz\r\n\" id=\"DejaVuSans-51\"/>\r\n       </defs>\r\n       <use xlink:href=\"#DejaVuSans-48\"/>\r\n       <use x=\"63.623047\" xlink:href=\"#DejaVuSans-46\"/>\r\n       <use x=\"95.410156\" xlink:href=\"#DejaVuSans-48\"/>\r\n       <use x=\"159.033203\" xlink:href=\"#DejaVuSans-51\"/>\r\n      </g>\r\n     </g>\r\n    </g>\r\n    <g id=\"ytick_5\">\r\n     <g id=\"line2d_13\">\r\n      <g>\r\n       <use style=\"stroke:#000000;stroke-width:0.8;\" x=\"50.14375\" xlink:href=\"#m919da611ad\" y=\"110.32269\"/>\r\n      </g>\r\n     </g>\r\n     <g id=\"text_14\">\r\n      <!-- 0.04 -->\r\n      <g transform=\"translate(20.878125 114.121909)scale(0.1 -0.1)\">\r\n       <defs>\r\n        <path d=\"M 37.796875 64.3125 \r\nL 12.890625 25.390625 \r\nL 37.796875 25.390625 \r\nz\r\nM 35.203125 72.90625 \r\nL 47.609375 72.90625 \r\nL 47.609375 25.390625 \r\nL 58.015625 25.390625 \r\nL 58.015625 17.1875 \r\nL 47.609375 17.1875 \r\nL 47.609375 0 \r\nL 37.796875 0 \r\nL 37.796875 17.1875 \r\nL 4.890625 17.1875 \r\nL 4.890625 26.703125 \r\nz\r\n\" id=\"DejaVuSans-52\"/>\r\n       </defs>\r\n       <use xlink:href=\"#DejaVuSans-48\"/>\r\n       <use x=\"63.623047\" xlink:href=\"#DejaVuSans-46\"/>\r\n       <use x=\"95.410156\" xlink:href=\"#DejaVuSans-48\"/>\r\n       <use x=\"159.033203\" xlink:href=\"#DejaVuSans-52\"/>\r\n      </g>\r\n     </g>\r\n    </g>\r\n    <g id=\"ytick_6\">\r\n     <g id=\"line2d_14\">\r\n      <g>\r\n       <use style=\"stroke:#000000;stroke-width:0.8;\" x=\"50.14375\" xlink:href=\"#m919da611ad\" y=\"77.473832\"/>\r\n      </g>\r\n     </g>\r\n     <g id=\"text_15\">\r\n      <!-- 0.05 -->\r\n      <g transform=\"translate(20.878125 81.27305)scale(0.1 -0.1)\">\r\n       <use xlink:href=\"#DejaVuSans-48\"/>\r\n       <use x=\"63.623047\" xlink:href=\"#DejaVuSans-46\"/>\r\n       <use x=\"95.410156\" xlink:href=\"#DejaVuSans-48\"/>\r\n       <use x=\"159.033203\" xlink:href=\"#DejaVuSans-53\"/>\r\n      </g>\r\n     </g>\r\n    </g>\r\n    <g id=\"ytick_7\">\r\n     <g id=\"line2d_15\">\r\n      <g>\r\n       <use style=\"stroke:#000000;stroke-width:0.8;\" x=\"50.14375\" xlink:href=\"#m919da611ad\" y=\"44.624973\"/>\r\n      </g>\r\n     </g>\r\n     <g id=\"text_16\">\r\n      <!-- 0.06 -->\r\n      <g transform=\"translate(20.878125 48.424192)scale(0.1 -0.1)\">\r\n       <defs>\r\n        <path d=\"M 33.015625 40.375 \r\nQ 26.375 40.375 22.484375 35.828125 \r\nQ 18.609375 31.296875 18.609375 23.390625 \r\nQ 18.609375 15.53125 22.484375 10.953125 \r\nQ 26.375 6.390625 33.015625 6.390625 \r\nQ 39.65625 6.390625 43.53125 10.953125 \r\nQ 47.40625 15.53125 47.40625 23.390625 \r\nQ 47.40625 31.296875 43.53125 35.828125 \r\nQ 39.65625 40.375 33.015625 40.375 \r\nz\r\nM 52.59375 71.296875 \r\nL 52.59375 62.3125 \r\nQ 48.875 64.0625 45.09375 64.984375 \r\nQ 41.3125 65.921875 37.59375 65.921875 \r\nQ 27.828125 65.921875 22.671875 59.328125 \r\nQ 17.53125 52.734375 16.796875 39.40625 \r\nQ 19.671875 43.65625 24.015625 45.921875 \r\nQ 28.375 48.1875 33.59375 48.1875 \r\nQ 44.578125 48.1875 50.953125 41.515625 \r\nQ 57.328125 34.859375 57.328125 23.390625 \r\nQ 57.328125 12.15625 50.6875 5.359375 \r\nQ 44.046875 -1.421875 33.015625 -1.421875 \r\nQ 20.359375 -1.421875 13.671875 8.265625 \r\nQ 6.984375 17.96875 6.984375 36.375 \r\nQ 6.984375 53.65625 15.1875 63.9375 \r\nQ 23.390625 74.21875 37.203125 74.21875 \r\nQ 40.921875 74.21875 44.703125 73.484375 \r\nQ 48.484375 72.75 52.59375 71.296875 \r\nz\r\n\" id=\"DejaVuSans-54\"/>\r\n       </defs>\r\n       <use xlink:href=\"#DejaVuSans-48\"/>\r\n       <use x=\"63.623047\" xlink:href=\"#DejaVuSans-46\"/>\r\n       <use x=\"95.410156\" xlink:href=\"#DejaVuSans-48\"/>\r\n       <use x=\"159.033203\" xlink:href=\"#DejaVuSans-54\"/>\r\n      </g>\r\n     </g>\r\n    </g>\r\n    <g id=\"text_17\">\r\n     <!-- Results -->\r\n     <g transform=\"translate(14.798438 150.07125)rotate(-90)scale(0.1 -0.1)\">\r\n      <defs>\r\n       <path d=\"M 8.5 21.578125 \r\nL 8.5 54.6875 \r\nL 17.484375 54.6875 \r\nL 17.484375 21.921875 \r\nQ 17.484375 14.15625 20.5 10.265625 \r\nQ 23.53125 6.390625 29.59375 6.390625 \r\nQ 36.859375 6.390625 41.078125 11.03125 \r\nQ 45.3125 15.671875 45.3125 23.6875 \r\nL 45.3125 54.6875 \r\nL 54.296875 54.6875 \r\nL 54.296875 0 \r\nL 45.3125 0 \r\nL 45.3125 8.40625 \r\nQ 42.046875 3.421875 37.71875 1 \r\nQ 33.40625 -1.421875 27.6875 -1.421875 \r\nQ 18.265625 -1.421875 13.375 4.4375 \r\nQ 8.5 10.296875 8.5 21.578125 \r\nz\r\nM 31.109375 56 \r\nz\r\n\" id=\"DejaVuSans-117\"/>\r\n      </defs>\r\n      <use xlink:href=\"#DejaVuSans-82\"/>\r\n      <use x=\"64.982422\" xlink:href=\"#DejaVuSans-101\"/>\r\n      <use x=\"126.505859\" xlink:href=\"#DejaVuSans-115\"/>\r\n      <use x=\"178.605469\" xlink:href=\"#DejaVuSans-117\"/>\r\n      <use x=\"241.984375\" xlink:href=\"#DejaVuSans-108\"/>\r\n      <use x=\"269.767578\" xlink:href=\"#DejaVuSans-116\"/>\r\n      <use x=\"308.976562\" xlink:href=\"#DejaVuSans-115\"/>\r\n     </g>\r\n    </g>\r\n   </g>\r\n   <g id=\"patch_19\">\r\n    <path d=\"M 50.14375 241.718125 \r\nL 50.14375 22.318125 \r\n\" style=\"fill:none;stroke:#000000;stroke-linecap:square;stroke-linejoin:miter;stroke-width:0.8;\"/>\r\n   </g>\r\n   <g id=\"patch_20\">\r\n    <path d=\"M 405.866787 241.718125 \r\nL 405.866787 22.318125 \r\n\" style=\"fill:none;stroke:#000000;stroke-linecap:square;stroke-linejoin:miter;stroke-width:0.8;\"/>\r\n   </g>\r\n   <g id=\"patch_21\">\r\n    <path d=\"M 50.14375 241.718125 \r\nL 405.866787 241.718125 \r\n\" style=\"fill:none;stroke:#000000;stroke-linecap:square;stroke-linejoin:miter;stroke-width:0.8;\"/>\r\n   </g>\r\n   <g id=\"patch_22\">\r\n    <path d=\"M 50.14375 22.318125 \r\nL 405.866787 22.318125 \r\n\" style=\"fill:none;stroke:#000000;stroke-linecap:square;stroke-linejoin:miter;stroke-width:0.8;\"/>\r\n   </g>\r\n   <g id=\"text_18\">\r\n    <!-- Results using BOW function -->\r\n    <g transform=\"translate(145.238081 16.318125)scale(0.12 -0.12)\">\r\n     <defs>\r\n      <path id=\"DejaVuSans-32\"/>\r\n      <path d=\"M 45.40625 27.984375 \r\nQ 45.40625 37.75 41.375 43.109375 \r\nQ 37.359375 48.484375 30.078125 48.484375 \r\nQ 22.859375 48.484375 18.828125 43.109375 \r\nQ 14.796875 37.75 14.796875 27.984375 \r\nQ 14.796875 18.265625 18.828125 12.890625 \r\nQ 22.859375 7.515625 30.078125 7.515625 \r\nQ 37.359375 7.515625 41.375 12.890625 \r\nQ 45.40625 18.265625 45.40625 27.984375 \r\nz\r\nM 54.390625 6.78125 \r\nQ 54.390625 -7.171875 48.1875 -13.984375 \r\nQ 42 -20.796875 29.203125 -20.796875 \r\nQ 24.46875 -20.796875 20.265625 -20.09375 \r\nQ 16.0625 -19.390625 12.109375 -17.921875 \r\nL 12.109375 -9.1875 \r\nQ 16.0625 -11.328125 19.921875 -12.34375 \r\nQ 23.78125 -13.375 27.78125 -13.375 \r\nQ 36.625 -13.375 41.015625 -8.765625 \r\nQ 45.40625 -4.15625 45.40625 5.171875 \r\nL 45.40625 9.625 \r\nQ 42.625 4.78125 38.28125 2.390625 \r\nQ 33.9375 0 27.875 0 \r\nQ 17.828125 0 11.671875 7.65625 \r\nQ 5.515625 15.328125 5.515625 27.984375 \r\nQ 5.515625 40.671875 11.671875 48.328125 \r\nQ 17.828125 56 27.875 56 \r\nQ 33.9375 56 38.28125 53.609375 \r\nQ 42.625 51.21875 45.40625 46.390625 \r\nL 45.40625 54.6875 \r\nL 54.390625 54.6875 \r\nz\r\n\" id=\"DejaVuSans-103\"/>\r\n      <path d=\"M 19.671875 34.8125 \r\nL 19.671875 8.109375 \r\nL 35.5 8.109375 \r\nQ 43.453125 8.109375 47.28125 11.40625 \r\nQ 51.125 14.703125 51.125 21.484375 \r\nQ 51.125 28.328125 47.28125 31.5625 \r\nQ 43.453125 34.8125 35.5 34.8125 \r\nz\r\nM 19.671875 64.796875 \r\nL 19.671875 42.828125 \r\nL 34.28125 42.828125 \r\nQ 41.5 42.828125 45.03125 45.53125 \r\nQ 48.578125 48.25 48.578125 53.8125 \r\nQ 48.578125 59.328125 45.03125 62.0625 \r\nQ 41.5 64.796875 34.28125 64.796875 \r\nz\r\nM 9.8125 72.90625 \r\nL 35.015625 72.90625 \r\nQ 46.296875 72.90625 52.390625 68.21875 \r\nQ 58.5 63.53125 58.5 54.890625 \r\nQ 58.5 48.1875 55.375 44.234375 \r\nQ 52.25 40.28125 46.1875 39.3125 \r\nQ 53.46875 37.75 57.5 32.78125 \r\nQ 61.53125 27.828125 61.53125 20.40625 \r\nQ 61.53125 10.640625 54.890625 5.3125 \r\nQ 48.25 0 35.984375 0 \r\nL 9.8125 0 \r\nz\r\n\" id=\"DejaVuSans-66\"/>\r\n      <path d=\"M 39.40625 66.21875 \r\nQ 28.65625 66.21875 22.328125 58.203125 \r\nQ 16.015625 50.203125 16.015625 36.375 \r\nQ 16.015625 22.609375 22.328125 14.59375 \r\nQ 28.65625 6.59375 39.40625 6.59375 \r\nQ 50.140625 6.59375 56.421875 14.59375 \r\nQ 62.703125 22.609375 62.703125 36.375 \r\nQ 62.703125 50.203125 56.421875 58.203125 \r\nQ 50.140625 66.21875 39.40625 66.21875 \r\nz\r\nM 39.40625 74.21875 \r\nQ 54.734375 74.21875 63.90625 63.9375 \r\nQ 73.09375 53.65625 73.09375 36.375 \r\nQ 73.09375 19.140625 63.90625 8.859375 \r\nQ 54.734375 -1.421875 39.40625 -1.421875 \r\nQ 24.03125 -1.421875 14.8125 8.828125 \r\nQ 5.609375 19.09375 5.609375 36.375 \r\nQ 5.609375 53.65625 14.8125 63.9375 \r\nQ 24.03125 74.21875 39.40625 74.21875 \r\nz\r\n\" id=\"DejaVuSans-79\"/>\r\n      <path d=\"M 3.328125 72.90625 \r\nL 13.28125 72.90625 \r\nL 28.609375 11.28125 \r\nL 43.890625 72.90625 \r\nL 54.984375 72.90625 \r\nL 70.3125 11.28125 \r\nL 85.59375 72.90625 \r\nL 95.609375 72.90625 \r\nL 77.296875 0 \r\nL 64.890625 0 \r\nL 49.515625 63.28125 \r\nL 33.984375 0 \r\nL 21.578125 0 \r\nz\r\n\" id=\"DejaVuSans-87\"/>\r\n      <path d=\"M 37.109375 75.984375 \r\nL 37.109375 68.5 \r\nL 28.515625 68.5 \r\nQ 23.6875 68.5 21.796875 66.546875 \r\nQ 19.921875 64.59375 19.921875 59.515625 \r\nL 19.921875 54.6875 \r\nL 34.71875 54.6875 \r\nL 34.71875 47.703125 \r\nL 19.921875 47.703125 \r\nL 19.921875 0 \r\nL 10.890625 0 \r\nL 10.890625 47.703125 \r\nL 2.296875 47.703125 \r\nL 2.296875 54.6875 \r\nL 10.890625 54.6875 \r\nL 10.890625 58.5 \r\nQ 10.890625 67.625 15.140625 71.796875 \r\nQ 19.390625 75.984375 28.609375 75.984375 \r\nz\r\n\" id=\"DejaVuSans-102\"/>\r\n     </defs>\r\n     <use xlink:href=\"#DejaVuSans-82\"/>\r\n     <use x=\"64.982422\" xlink:href=\"#DejaVuSans-101\"/>\r\n     <use x=\"126.505859\" xlink:href=\"#DejaVuSans-115\"/>\r\n     <use x=\"178.605469\" xlink:href=\"#DejaVuSans-117\"/>\r\n     <use x=\"241.984375\" xlink:href=\"#DejaVuSans-108\"/>\r\n     <use x=\"269.767578\" xlink:href=\"#DejaVuSans-116\"/>\r\n     <use x=\"308.976562\" xlink:href=\"#DejaVuSans-115\"/>\r\n     <use x=\"361.076172\" xlink:href=\"#DejaVuSans-32\"/>\r\n     <use x=\"392.863281\" xlink:href=\"#DejaVuSans-117\"/>\r\n     <use x=\"456.242188\" xlink:href=\"#DejaVuSans-115\"/>\r\n     <use x=\"508.341797\" xlink:href=\"#DejaVuSans-105\"/>\r\n     <use x=\"536.125\" xlink:href=\"#DejaVuSans-110\"/>\r\n     <use x=\"599.503906\" xlink:href=\"#DejaVuSans-103\"/>\r\n     <use x=\"662.980469\" xlink:href=\"#DejaVuSans-32\"/>\r\n     <use x=\"694.767578\" xlink:href=\"#DejaVuSans-66\"/>\r\n     <use x=\"761.621094\" xlink:href=\"#DejaVuSans-79\"/>\r\n     <use x=\"840.332031\" xlink:href=\"#DejaVuSans-87\"/>\r\n     <use x=\"939.208984\" xlink:href=\"#DejaVuSans-32\"/>\r\n     <use x=\"970.996094\" xlink:href=\"#DejaVuSans-102\"/>\r\n     <use x=\"1006.201172\" xlink:href=\"#DejaVuSans-117\"/>\r\n     <use x=\"1069.580078\" xlink:href=\"#DejaVuSans-110\"/>\r\n     <use x=\"1132.958984\" xlink:href=\"#DejaVuSans-99\"/>\r\n     <use x=\"1187.939453\" xlink:href=\"#DejaVuSans-116\"/>\r\n     <use x=\"1227.148438\" xlink:href=\"#DejaVuSans-105\"/>\r\n     <use x=\"1254.931641\" xlink:href=\"#DejaVuSans-111\"/>\r\n     <use x=\"1316.113281\" xlink:href=\"#DejaVuSans-110\"/>\r\n    </g>\r\n   </g>\r\n   <g id=\"legend_1\">\r\n    <g id=\"patch_23\">\r\n     <path d=\"M 299.7746 59.674375 \r\nL 398.866787 59.674375 \r\nQ 400.866787 59.674375 400.866787 57.674375 \r\nL 400.866787 29.318125 \r\nQ 400.866787 27.318125 398.866787 27.318125 \r\nL 299.7746 27.318125 \r\nQ 297.7746 27.318125 297.7746 29.318125 \r\nL 297.7746 57.674375 \r\nQ 297.7746 59.674375 299.7746 59.674375 \r\nz\r\n\" style=\"fill:#ffffff;opacity:0.8;stroke:#cccccc;stroke-linejoin:miter;\"/>\r\n    </g>\r\n    <g id=\"patch_24\">\r\n     <path d=\"M 301.7746 38.916563 \r\nL 321.7746 38.916563 \r\nL 321.7746 31.916563 \r\nL 301.7746 31.916563 \r\nz\r\n\" style=\"fill:#0000ff;opacity:0.8;\"/>\r\n    </g>\r\n    <g id=\"text_19\">\r\n     <!-- Index set = 1 -->\r\n     <g transform=\"translate(329.7746 38.916563)scale(0.1 -0.1)\">\r\n      <defs>\r\n       <path d=\"M 9.8125 72.90625 \r\nL 19.671875 72.90625 \r\nL 19.671875 0 \r\nL 9.8125 0 \r\nz\r\n\" id=\"DejaVuSans-73\"/>\r\n       <path d=\"M 45.40625 46.390625 \r\nL 45.40625 75.984375 \r\nL 54.390625 75.984375 \r\nL 54.390625 0 \r\nL 45.40625 0 \r\nL 45.40625 8.203125 \r\nQ 42.578125 3.328125 38.25 0.953125 \r\nQ 33.9375 -1.421875 27.875 -1.421875 \r\nQ 17.96875 -1.421875 11.734375 6.484375 \r\nQ 5.515625 14.40625 5.515625 27.296875 \r\nQ 5.515625 40.1875 11.734375 48.09375 \r\nQ 17.96875 56 27.875 56 \r\nQ 33.9375 56 38.25 53.625 \r\nQ 42.578125 51.265625 45.40625 46.390625 \r\nz\r\nM 14.796875 27.296875 \r\nQ 14.796875 17.390625 18.875 11.75 \r\nQ 22.953125 6.109375 30.078125 6.109375 \r\nQ 37.203125 6.109375 41.296875 11.75 \r\nQ 45.40625 17.390625 45.40625 27.296875 \r\nQ 45.40625 37.203125 41.296875 42.84375 \r\nQ 37.203125 48.484375 30.078125 48.484375 \r\nQ 22.953125 48.484375 18.875 42.84375 \r\nQ 14.796875 37.203125 14.796875 27.296875 \r\nz\r\n\" id=\"DejaVuSans-100\"/>\r\n       <path d=\"M 54.890625 54.6875 \r\nL 35.109375 28.078125 \r\nL 55.90625 0 \r\nL 45.3125 0 \r\nL 29.390625 21.484375 \r\nL 13.484375 0 \r\nL 2.875 0 \r\nL 24.125 28.609375 \r\nL 4.6875 54.6875 \r\nL 15.28125 54.6875 \r\nL 29.78125 35.203125 \r\nL 44.28125 54.6875 \r\nz\r\n\" id=\"DejaVuSans-120\"/>\r\n       <path d=\"M 10.59375 45.40625 \r\nL 73.1875 45.40625 \r\nL 73.1875 37.203125 \r\nL 10.59375 37.203125 \r\nz\r\nM 10.59375 25.484375 \r\nL 73.1875 25.484375 \r\nL 73.1875 17.1875 \r\nL 10.59375 17.1875 \r\nz\r\n\" id=\"DejaVuSans-61\"/>\r\n      </defs>\r\n      <use xlink:href=\"#DejaVuSans-73\"/>\r\n      <use x=\"29.492188\" xlink:href=\"#DejaVuSans-110\"/>\r\n      <use x=\"92.871094\" xlink:href=\"#DejaVuSans-100\"/>\r\n      <use x=\"156.347656\" xlink:href=\"#DejaVuSans-101\"/>\r\n      <use x=\"216.121094\" xlink:href=\"#DejaVuSans-120\"/>\r\n      <use x=\"275.300781\" xlink:href=\"#DejaVuSans-32\"/>\r\n      <use x=\"307.087891\" xlink:href=\"#DejaVuSans-115\"/>\r\n      <use x=\"359.1875\" xlink:href=\"#DejaVuSans-101\"/>\r\n      <use x=\"420.710938\" xlink:href=\"#DejaVuSans-116\"/>\r\n      <use x=\"459.919922\" xlink:href=\"#DejaVuSans-32\"/>\r\n      <use x=\"491.707031\" xlink:href=\"#DejaVuSans-61\"/>\r\n      <use x=\"575.496094\" xlink:href=\"#DejaVuSans-32\"/>\r\n      <use x=\"607.283203\" xlink:href=\"#DejaVuSans-49\"/>\r\n     </g>\r\n    </g>\r\n    <g id=\"patch_25\">\r\n     <path d=\"M 301.7746 53.594688 \r\nL 321.7746 53.594688 \r\nL 321.7746 46.594688 \r\nL 301.7746 46.594688 \r\nz\r\n\" style=\"fill:#008000;opacity:0.8;\"/>\r\n    </g>\r\n    <g id=\"text_20\">\r\n     <!-- Index set = 2 -->\r\n     <g transform=\"translate(329.7746 53.594688)scale(0.1 -0.1)\">\r\n      <use xlink:href=\"#DejaVuSans-73\"/>\r\n      <use x=\"29.492188\" xlink:href=\"#DejaVuSans-110\"/>\r\n      <use x=\"92.871094\" xlink:href=\"#DejaVuSans-100\"/>\r\n      <use x=\"156.347656\" xlink:href=\"#DejaVuSans-101\"/>\r\n      <use x=\"216.121094\" xlink:href=\"#DejaVuSans-120\"/>\r\n      <use x=\"275.300781\" xlink:href=\"#DejaVuSans-32\"/>\r\n      <use x=\"307.087891\" xlink:href=\"#DejaVuSans-115\"/>\r\n      <use x=\"359.1875\" xlink:href=\"#DejaVuSans-101\"/>\r\n      <use x=\"420.710938\" xlink:href=\"#DejaVuSans-116\"/>\r\n      <use x=\"459.919922\" xlink:href=\"#DejaVuSans-32\"/>\r\n      <use x=\"491.707031\" xlink:href=\"#DejaVuSans-61\"/>\r\n      <use x=\"575.496094\" xlink:href=\"#DejaVuSans-32\"/>\r\n      <use x=\"607.283203\" xlink:href=\"#DejaVuSans-50\"/>\r\n     </g>\r\n    </g>\r\n   </g>\r\n  </g>\r\n </g>\r\n <defs>\r\n  <clipPath id=\"p5e541f4790\">\r\n   <rect height=\"219.4\" width=\"355.723037\" x=\"50.14375\" y=\"22.318125\"/>\r\n  </clipPath>\r\n </defs>\r\n</svg>\r\n",
      "image/png": "[encoded data removed]"
     },
     "metadata": {
      "needs_background": "light"
     }
    },
    {
     "output_type": "stream",
     "name": "stdout",
     "text": [
      "{'ERR': 0.14915784, 'MAP': 0.1861915, 'Recall@1': 0.020363005, 'Recall@5': 0.053164855, 'Recall@10': 0.06952466, 'Precision@1': 0.17307693, 'Precision@5': 0.16538462, 'Precision@10': 0.14038461}\n"
     ]
    },
    {
     "output_type": "display_data",
     "data": {
      "text/plain": "<Figure size 432x288 with 1 Axes>",
      "image/svg+xml": "<?xml version=\"1.0\" encoding=\"utf-8\" standalone=\"no\"?>\r\n<!DOCTYPE svg PUBLIC \"-//W3C//DTD SVG 1.1//EN\"\r\n  \"http://www.w3.org/Graphics/SVG/1.1/DTD/svg11.dtd\">\r\n<!-- Created with matplotlib (https://matplotlib.org/) -->\r\n<svg height=\"324.055626pt\" version=\"1.1\" viewBox=\"0 0 417.069849 324.055626\" width=\"417.069849pt\" xmlns=\"http://www.w3.org/2000/svg\" xmlns:xlink=\"http://www.w3.org/1999/xlink\">\r\n <metadata>\r\n  <rdf:RDF xmlns:cc=\"http://creativecommons.org/ns#\" xmlns:dc=\"http://purl.org/dc/elements/1.1/\" xmlns:rdf=\"http://www.w3.org/1999/02/22-rdf-syntax-ns#\">\r\n   <cc:Work>\r\n    <dc:type rdf:resource=\"http://purl.org/dc/dcmitype/StillImage\"/>\r\n    <dc:date>2021-02-15T16:53:05.135459</dc:date>\r\n    <dc:format>image/svg+xml</dc:format>\r\n    <dc:creator>\r\n     <cc:Agent>\r\n      <dc:title>Matplotlib v3.3.4, https://matplotlib.org/</dc:title>\r\n     </cc:Agent>\r\n    </dc:creator>\r\n   </cc:Work>\r\n  </rdf:RDF>\r\n </metadata>\r\n <defs>\r\n  <style type=\"text/css\">*{stroke-linecap:butt;stroke-linejoin:round;}</style>\r\n </defs>\r\n <g id=\"figure_1\">\r\n  <g id=\"patch_1\">\r\n   <path d=\"M 0 324.055626 \r\nL 417.069849 324.055626 \r\nL 417.069849 0 \r\nL 0 0 \r\nz\r\n\" style=\"fill:none;\"/>\r\n  </g>\r\n  <g id=\"axes_1\">\r\n   <g id=\"patch_2\">\r\n    <path d=\"M 56.50625 241.718125 \r\nL 405.729287 241.718125 \r\nL 405.729287 22.318125 \r\nL 56.50625 22.318125 \r\nz\r\n\" style=\"fill:#ffffff;\"/>\r\n   </g>\r\n   <g id=\"patch_3\">\r\n    <path clip-path=\"url(#p4dd2131faf)\" d=\"M 72.380024 241.718125 \r\nL 86.810728 241.718125 \r\nL 86.810728 74.326567 \r\nL 72.380024 74.326567 \r\nz\r\n\" style=\"fill:#0000ff;opacity:0.8;\"/>\r\n   </g>\r\n   <g id=\"patch_4\">\r\n    <path clip-path=\"url(#p4dd2131faf)\" d=\"M 113.610607 241.718125 \r\nL 128.041311 241.718125 \r\nL 128.041311 32.765744 \r\nL 113.610607 32.765744 \r\nz\r\n\" style=\"fill:#0000ff;opacity:0.8;\"/>\r\n   </g>\r\n   <g id=\"patch_5\">\r\n    <path clip-path=\"url(#p4dd2131faf)\" d=\"M 154.84119 241.718125 \r\nL 169.271894 241.718125 \r\nL 169.271894 218.865855 \r\nL 154.84119 218.865855 \r\nz\r\n\" style=\"fill:#0000ff;opacity:0.8;\"/>\r\n   </g>\r\n   <g id=\"patch_6\">\r\n    <path clip-path=\"url(#p4dd2131faf)\" d=\"M 196.071773 241.718125 \r\nL 210.502477 241.718125 \r\nL 210.502477 182.054161 \r\nL 196.071773 182.054161 \r\nz\r\n\" style=\"fill:#0000ff;opacity:0.8;\"/>\r\n   </g>\r\n   <g id=\"patch_7\">\r\n    <path clip-path=\"url(#p4dd2131faf)\" d=\"M 237.302356 241.718125 \r\nL 251.73306 241.718125 \r\nL 251.73306 163.694459 \r\nL 237.302356 163.694459 \r\nz\r\n\" style=\"fill:#0000ff;opacity:0.8;\"/>\r\n   </g>\r\n   <g id=\"patch_8\">\r\n    <path clip-path=\"url(#p4dd2131faf)\" d=\"M 278.532939 241.718125 \r\nL 292.963643 241.718125 \r\nL 292.963643 47.4835 \r\nL 278.532939 47.4835 \r\nz\r\n\" style=\"fill:#0000ff;opacity:0.8;\"/>\r\n   </g>\r\n   <g id=\"patch_9\">\r\n    <path clip-path=\"url(#p4dd2131faf)\" d=\"M 319.763522 241.718125 \r\nL 334.194226 241.718125 \r\nL 334.194226 56.116149 \r\nL 319.763522 56.116149 \r\nz\r\n\" style=\"fill:#0000ff;opacity:0.8;\"/>\r\n   </g>\r\n   <g id=\"patch_10\">\r\n    <path clip-path=\"url(#p4dd2131faf)\" d=\"M 360.994105 241.718125 \r\nL 375.424809 241.718125 \r\nL 375.424809 84.172267 \r\nL 360.994105 84.172267 \r\nz\r\n\" style=\"fill:#0000ff;opacity:0.8;\"/>\r\n   </g>\r\n   <g id=\"patch_11\">\r\n    <path clip-path=\"url(#p4dd2131faf)\" d=\"M 86.810728 241.718125 \r\nL 101.241432 241.718125 \r\nL 101.241432 91.810532 \r\nL 86.810728 91.810532 \r\nz\r\n\" style=\"fill:#008000;opacity:0.8;\"/>\r\n   </g>\r\n   <g id=\"patch_12\">\r\n    <path clip-path=\"url(#p4dd2131faf)\" d=\"M 128.041311 241.718125 \r\nL 142.472015 241.718125 \r\nL 142.472015 48.007641 \r\nL 128.041311 48.007641 \r\nz\r\n\" style=\"fill:#008000;opacity:0.8;\"/>\r\n   </g>\r\n   <g id=\"patch_13\">\r\n    <path clip-path=\"url(#p4dd2131faf)\" d=\"M 169.271894 241.718125 \r\nL 183.702598 241.718125 \r\nL 183.702598 224.158494 \r\nL 169.271894 224.158494 \r\nz\r\n\" style=\"fill:#008000;opacity:0.8;\"/>\r\n   </g>\r\n   <g id=\"patch_14\">\r\n    <path clip-path=\"url(#p4dd2131faf)\" d=\"M 210.502477 241.718125 \r\nL 224.933181 241.718125 \r\nL 224.933181 193.679872 \r\nL 210.502477 193.679872 \r\nz\r\n\" style=\"fill:#008000;opacity:0.8;\"/>\r\n   </g>\r\n   <g id=\"patch_15\">\r\n    <path clip-path=\"url(#p4dd2131faf)\" d=\"M 251.73306 241.718125 \r\nL 266.163764 241.718125 \r\nL 266.163764 171.027115 \r\nL 251.73306 171.027115 \r\nz\r\n\" style=\"fill:#008000;opacity:0.8;\"/>\r\n   </g>\r\n   <g id=\"patch_16\">\r\n    <path clip-path=\"url(#p4dd2131faf)\" d=\"M 292.963643 241.718125 \r\nL 307.394347 241.718125 \r\nL 307.394347 69.065123 \r\nL 292.963643 69.065123 \r\nz\r\n\" style=\"fill:#008000;opacity:0.8;\"/>\r\n   </g>\r\n   <g id=\"patch_17\">\r\n    <path clip-path=\"url(#p4dd2131faf)\" d=\"M 334.194226 241.718125 \r\nL 348.62493 241.718125 \r\nL 348.62493 75.539618 \r\nL 334.194226 75.539618 \r\nz\r\n\" style=\"fill:#008000;opacity:0.8;\"/>\r\n   </g>\r\n   <g id=\"patch_18\">\r\n    <path clip-path=\"url(#p4dd2131faf)\" d=\"M 375.424809 241.718125 \r\nL 389.855513 241.718125 \r\nL 389.855513 88.488575 \r\nL 375.424809 88.488575 \r\nz\r\n\" style=\"fill:#008000;opacity:0.8;\"/>\r\n   </g>\r\n   <g id=\"matplotlib.axis_1\">\r\n    <g id=\"xtick_1\">\r\n     <g id=\"line2d_1\">\r\n      <defs>\r\n       <path d=\"M 0 0 \r\nL 0 3.5 \r\n\" id=\"m02d890b960\" style=\"stroke:#000000;stroke-width:0.8;\"/>\r\n      </defs>\r\n      <g>\r\n       <use style=\"stroke:#000000;stroke-width:0.8;\" x=\"94.02608\" xlink:href=\"#m02d890b960\" y=\"241.718125\"/>\r\n      </g>\r\n     </g>\r\n     <g id=\"text_1\">\r\n      <!-- ERR -->\r\n      <g transform=\"translate(88.82995 268.385637)rotate(-45)scale(0.1 -0.1)\">\r\n       <defs>\r\n        <path d=\"M 9.8125 72.90625 \r\nL 55.90625 72.90625 \r\nL 55.90625 64.59375 \r\nL 19.671875 64.59375 \r\nL 19.671875 43.015625 \r\nL 54.390625 43.015625 \r\nL 54.390625 34.71875 \r\nL 19.671875 34.71875 \r\nL 19.671875 8.296875 \r\nL 56.78125 8.296875 \r\nL 56.78125 0 \r\nL 9.8125 0 \r\nz\r\n\" id=\"DejaVuSans-69\"/>\r\n        <path d=\"M 44.390625 34.1875 \r\nQ 47.5625 33.109375 50.5625 29.59375 \r\nQ 53.5625 26.078125 56.59375 19.921875 \r\nL 66.609375 0 \r\nL 56 0 \r\nL 46.6875 18.703125 \r\nQ 43.0625 26.03125 39.671875 28.421875 \r\nQ 36.28125 30.8125 30.421875 30.8125 \r\nL 19.671875 30.8125 \r\nL 19.671875 0 \r\nL 9.8125 0 \r\nL 9.8125 72.90625 \r\nL 32.078125 72.90625 \r\nQ 44.578125 72.90625 50.734375 67.671875 \r\nQ 56.890625 62.453125 56.890625 51.90625 \r\nQ 56.890625 45.015625 53.6875 40.46875 \r\nQ 50.484375 35.9375 44.390625 34.1875 \r\nz\r\nM 19.671875 64.796875 \r\nL 19.671875 38.921875 \r\nL 32.078125 38.921875 \r\nQ 39.203125 38.921875 42.84375 42.21875 \r\nQ 46.484375 45.515625 46.484375 51.90625 \r\nQ 46.484375 58.296875 42.84375 61.546875 \r\nQ 39.203125 64.796875 32.078125 64.796875 \r\nz\r\n\" id=\"DejaVuSans-82\"/>\r\n       </defs>\r\n       <use xlink:href=\"#DejaVuSans-69\"/>\r\n       <use x=\"63.183594\" xlink:href=\"#DejaVuSans-82\"/>\r\n       <use x=\"132.666016\" xlink:href=\"#DejaVuSans-82\"/>\r\n      </g>\r\n     </g>\r\n    </g>\r\n    <g id=\"xtick_2\">\r\n     <g id=\"line2d_2\">\r\n      <g>\r\n       <use style=\"stroke:#000000;stroke-width:0.8;\" x=\"135.256663\" xlink:href=\"#m02d890b960\" y=\"241.718125\"/>\r\n      </g>\r\n     </g>\r\n     <g id=\"text_2\">\r\n      <!-- MAP -->\r\n      <g transform=\"translate(129.606991 269.292723)rotate(-45)scale(0.1 -0.1)\">\r\n       <defs>\r\n        <path d=\"M 9.8125 72.90625 \r\nL 24.515625 72.90625 \r\nL 43.109375 23.296875 \r\nL 61.8125 72.90625 \r\nL 76.515625 72.90625 \r\nL 76.515625 0 \r\nL 66.890625 0 \r\nL 66.890625 64.015625 \r\nL 48.09375 14.015625 \r\nL 38.1875 14.015625 \r\nL 19.390625 64.015625 \r\nL 19.390625 0 \r\nL 9.8125 0 \r\nz\r\n\" id=\"DejaVuSans-77\"/>\r\n        <path d=\"M 34.1875 63.1875 \r\nL 20.796875 26.90625 \r\nL 47.609375 26.90625 \r\nz\r\nM 28.609375 72.90625 \r\nL 39.796875 72.90625 \r\nL 67.578125 0 \r\nL 57.328125 0 \r\nL 50.6875 18.703125 \r\nL 17.828125 18.703125 \r\nL 11.1875 0 \r\nL 0.78125 0 \r\nz\r\n\" id=\"DejaVuSans-65\"/>\r\n        <path d=\"M 19.671875 64.796875 \r\nL 19.671875 37.40625 \r\nL 32.078125 37.40625 \r\nQ 38.96875 37.40625 42.71875 40.96875 \r\nQ 46.484375 44.53125 46.484375 51.125 \r\nQ 46.484375 57.671875 42.71875 61.234375 \r\nQ 38.96875 64.796875 32.078125 64.796875 \r\nz\r\nM 9.8125 72.90625 \r\nL 32.078125 72.90625 \r\nQ 44.34375 72.90625 50.609375 67.359375 \r\nQ 56.890625 61.8125 56.890625 51.125 \r\nQ 56.890625 40.328125 50.609375 34.8125 \r\nQ 44.34375 29.296875 32.078125 29.296875 \r\nL 19.671875 29.296875 \r\nL 19.671875 0 \r\nL 9.8125 0 \r\nz\r\n\" id=\"DejaVuSans-80\"/>\r\n       </defs>\r\n       <use xlink:href=\"#DejaVuSans-77\"/>\r\n       <use x=\"86.279297\" xlink:href=\"#DejaVuSans-65\"/>\r\n       <use x=\"154.6875\" xlink:href=\"#DejaVuSans-80\"/>\r\n      </g>\r\n     </g>\r\n    </g>\r\n    <g id=\"xtick_3\">\r\n     <g id=\"line2d_3\">\r\n      <g>\r\n       <use style=\"stroke:#000000;stroke-width:0.8;\" x=\"176.487246\" xlink:href=\"#m02d890b960\" y=\"241.718125\"/>\r\n      </g>\r\n     </g>\r\n     <g id=\"text_3\">\r\n      <!-- Recall@1 -->\r\n      <g transform=\"translate(162.105357 286.757155)rotate(-45)scale(0.1 -0.1)\">\r\n       <defs>\r\n        <path d=\"M 56.203125 29.59375 \r\nL 56.203125 25.203125 \r\nL 14.890625 25.203125 \r\nQ 15.484375 15.921875 20.484375 11.0625 \r\nQ 25.484375 6.203125 34.421875 6.203125 \r\nQ 39.59375 6.203125 44.453125 7.46875 \r\nQ 49.3125 8.734375 54.109375 11.28125 \r\nL 54.109375 2.78125 \r\nQ 49.265625 0.734375 44.1875 -0.34375 \r\nQ 39.109375 -1.421875 33.890625 -1.421875 \r\nQ 20.796875 -1.421875 13.15625 6.1875 \r\nQ 5.515625 13.8125 5.515625 26.8125 \r\nQ 5.515625 40.234375 12.765625 48.109375 \r\nQ 20.015625 56 32.328125 56 \r\nQ 43.359375 56 49.78125 48.890625 \r\nQ 56.203125 41.796875 56.203125 29.59375 \r\nz\r\nM 47.21875 32.234375 \r\nQ 47.125 39.59375 43.09375 43.984375 \r\nQ 39.0625 48.390625 32.421875 48.390625 \r\nQ 24.90625 48.390625 20.390625 44.140625 \r\nQ 15.875 39.890625 15.1875 32.171875 \r\nz\r\n\" id=\"DejaVuSans-101\"/>\r\n        <path d=\"M 48.78125 52.59375 \r\nL 48.78125 44.1875 \r\nQ 44.96875 46.296875 41.140625 47.34375 \r\nQ 37.3125 48.390625 33.40625 48.390625 \r\nQ 24.65625 48.390625 19.8125 42.84375 \r\nQ 14.984375 37.3125 14.984375 27.296875 \r\nQ 14.984375 17.28125 19.8125 11.734375 \r\nQ 24.65625 6.203125 33.40625 6.203125 \r\nQ 37.3125 6.203125 41.140625 7.25 \r\nQ 44.96875 8.296875 48.78125 10.40625 \r\nL 48.78125 2.09375 \r\nQ 45.015625 0.34375 40.984375 -0.53125 \r\nQ 36.96875 -1.421875 32.421875 -1.421875 \r\nQ 20.0625 -1.421875 12.78125 6.34375 \r\nQ 5.515625 14.109375 5.515625 27.296875 \r\nQ 5.515625 40.671875 12.859375 48.328125 \r\nQ 20.21875 56 33.015625 56 \r\nQ 37.15625 56 41.109375 55.140625 \r\nQ 45.0625 54.296875 48.78125 52.59375 \r\nz\r\n\" id=\"DejaVuSans-99\"/>\r\n        <path d=\"M 34.28125 27.484375 \r\nQ 23.390625 27.484375 19.1875 25 \r\nQ 14.984375 22.515625 14.984375 16.5 \r\nQ 14.984375 11.71875 18.140625 8.90625 \r\nQ 21.296875 6.109375 26.703125 6.109375 \r\nQ 34.1875 6.109375 38.703125 11.40625 \r\nQ 43.21875 16.703125 43.21875 25.484375 \r\nL 43.21875 27.484375 \r\nz\r\nM 52.203125 31.203125 \r\nL 52.203125 0 \r\nL 43.21875 0 \r\nL 43.21875 8.296875 \r\nQ 40.140625 3.328125 35.546875 0.953125 \r\nQ 30.953125 -1.421875 24.3125 -1.421875 \r\nQ 15.921875 -1.421875 10.953125 3.296875 \r\nQ 6 8.015625 6 15.921875 \r\nQ 6 25.140625 12.171875 29.828125 \r\nQ 18.359375 34.515625 30.609375 34.515625 \r\nL 43.21875 34.515625 \r\nL 43.21875 35.40625 \r\nQ 43.21875 41.609375 39.140625 45 \r\nQ 35.0625 48.390625 27.6875 48.390625 \r\nQ 23 48.390625 18.546875 47.265625 \r\nQ 14.109375 46.140625 10.015625 43.890625 \r\nL 10.015625 52.203125 \r\nQ 14.9375 54.109375 19.578125 55.046875 \r\nQ 24.21875 56 28.609375 56 \r\nQ 40.484375 56 46.34375 49.84375 \r\nQ 52.203125 43.703125 52.203125 31.203125 \r\nz\r\n\" id=\"DejaVuSans-97\"/>\r\n        <path d=\"M 9.421875 75.984375 \r\nL 18.40625 75.984375 \r\nL 18.40625 0 \r\nL 9.421875 0 \r\nz\r\n\" id=\"DejaVuSans-108\"/>\r\n        <path d=\"M 37.203125 26.21875 \r\nQ 37.203125 19.234375 40.671875 15.25 \r\nQ 44.140625 11.28125 50.203125 11.28125 \r\nQ 56.203125 11.28125 59.640625 15.28125 \r\nQ 63.09375 19.28125 63.09375 26.21875 \r\nQ 63.09375 33.0625 59.578125 37.078125 \r\nQ 56.0625 41.109375 50.09375 41.109375 \r\nQ 44.1875 41.109375 40.6875 37.109375 \r\nQ 37.203125 33.109375 37.203125 26.21875 \r\nz\r\nM 63.8125 11.625 \r\nQ 60.890625 7.859375 57.109375 6.078125 \r\nQ 53.328125 4.296875 48.296875 4.296875 \r\nQ 39.890625 4.296875 34.640625 10.375 \r\nQ 29.390625 16.453125 29.390625 26.21875 \r\nQ 29.390625 35.984375 34.65625 42.078125 \r\nQ 39.9375 48.1875 48.296875 48.1875 \r\nQ 53.328125 48.1875 57.125 46.359375 \r\nQ 60.9375 44.53125 63.8125 40.828125 \r\nL 63.8125 47.21875 \r\nL 70.796875 47.21875 \r\nL 70.796875 11.28125 \r\nQ 77.9375 12.359375 81.953125 17.796875 \r\nQ 85.984375 23.25 85.984375 31.890625 \r\nQ 85.984375 37.109375 84.4375 41.703125 \r\nQ 82.90625 46.296875 79.78125 50.203125 \r\nQ 74.703125 56.59375 67.40625 59.984375 \r\nQ 60.109375 63.375 51.515625 63.375 \r\nQ 45.515625 63.375 39.984375 61.78125 \r\nQ 34.46875 60.203125 29.78125 57.078125 \r\nQ 22.125 52.09375 17.796875 44.015625 \r\nQ 13.484375 35.9375 13.484375 26.515625 \r\nQ 13.484375 18.75 16.28125 11.953125 \r\nQ 19.09375 5.171875 24.421875 0 \r\nQ 29.546875 -5.078125 36.28125 -7.734375 \r\nQ 43.015625 -10.40625 50.6875 -10.40625 \r\nQ 56.984375 -10.40625 63.0625 -8.28125 \r\nQ 69.140625 -6.15625 74.21875 -2.203125 \r\nL 78.609375 -7.625 \r\nQ 72.515625 -12.359375 65.3125 -14.875 \r\nQ 58.109375 -17.390625 50.6875 -17.390625 \r\nQ 41.65625 -17.390625 33.640625 -14.1875 \r\nQ 25.640625 -10.984375 19.390625 -4.890625 \r\nQ 13.140625 1.21875 9.859375 9.25 \r\nQ 6.59375 17.28125 6.59375 26.515625 \r\nQ 6.59375 35.40625 9.90625 43.453125 \r\nQ 13.234375 51.515625 19.390625 57.625 \r\nQ 25.6875 63.8125 33.9375 67.109375 \r\nQ 42.1875 70.40625 51.421875 70.40625 \r\nQ 61.765625 70.40625 70.625 66.15625 \r\nQ 79.5 61.921875 85.5 54.109375 \r\nQ 89.15625 49.3125 91.078125 43.703125 \r\nQ 93.015625 38.09375 93.015625 32.078125 \r\nQ 93.015625 19.234375 85.25 11.8125 \r\nQ 77.484375 4.390625 63.8125 4.109375 \r\nz\r\n\" id=\"DejaVuSans-64\"/>\r\n        <path d=\"M 12.40625 8.296875 \r\nL 28.515625 8.296875 \r\nL 28.515625 63.921875 \r\nL 10.984375 60.40625 \r\nL 10.984375 69.390625 \r\nL 28.421875 72.90625 \r\nL 38.28125 72.90625 \r\nL 38.28125 8.296875 \r\nL 54.390625 8.296875 \r\nL 54.390625 0 \r\nL 12.40625 0 \r\nz\r\n\" id=\"DejaVuSans-49\"/>\r\n       </defs>\r\n       <use xlink:href=\"#DejaVuSans-82\"/>\r\n       <use x=\"64.982422\" xlink:href=\"#DejaVuSans-101\"/>\r\n       <use x=\"126.505859\" xlink:href=\"#DejaVuSans-99\"/>\r\n       <use x=\"181.486328\" xlink:href=\"#DejaVuSans-97\"/>\r\n       <use x=\"242.765625\" xlink:href=\"#DejaVuSans-108\"/>\r\n       <use x=\"270.548828\" xlink:href=\"#DejaVuSans-108\"/>\r\n       <use x=\"298.332031\" xlink:href=\"#DejaVuSans-64\"/>\r\n       <use x=\"398.332031\" xlink:href=\"#DejaVuSans-49\"/>\r\n      </g>\r\n     </g>\r\n    </g>\r\n    <g id=\"xtick_4\">\r\n     <g id=\"line2d_4\">\r\n      <g>\r\n       <use style=\"stroke:#000000;stroke-width:0.8;\" x=\"217.717829\" xlink:href=\"#m02d890b960\" y=\"241.718125\"/>\r\n      </g>\r\n     </g>\r\n     <g id=\"text_4\">\r\n      <!-- Recall@5 -->\r\n      <g transform=\"translate(203.33594 286.757155)rotate(-45)scale(0.1 -0.1)\">\r\n       <defs>\r\n        <path d=\"M 10.796875 72.90625 \r\nL 49.515625 72.90625 \r\nL 49.515625 64.59375 \r\nL 19.828125 64.59375 \r\nL 19.828125 46.734375 \r\nQ 21.96875 47.46875 24.109375 47.828125 \r\nQ 26.265625 48.1875 28.421875 48.1875 \r\nQ 40.625 48.1875 47.75 41.5 \r\nQ 54.890625 34.8125 54.890625 23.390625 \r\nQ 54.890625 11.625 47.5625 5.09375 \r\nQ 40.234375 -1.421875 26.90625 -1.421875 \r\nQ 22.3125 -1.421875 17.546875 -0.640625 \r\nQ 12.796875 0.140625 7.71875 1.703125 \r\nL 7.71875 11.625 \r\nQ 12.109375 9.234375 16.796875 8.0625 \r\nQ 21.484375 6.890625 26.703125 6.890625 \r\nQ 35.15625 6.890625 40.078125 11.328125 \r\nQ 45.015625 15.765625 45.015625 23.390625 \r\nQ 45.015625 31 40.078125 35.4375 \r\nQ 35.15625 39.890625 26.703125 39.890625 \r\nQ 22.75 39.890625 18.8125 39.015625 \r\nQ 14.890625 38.140625 10.796875 36.28125 \r\nz\r\n\" id=\"DejaVuSans-53\"/>\r\n       </defs>\r\n       <use xlink:href=\"#DejaVuSans-82\"/>\r\n       <use x=\"64.982422\" xlink:href=\"#DejaVuSans-101\"/>\r\n       <use x=\"126.505859\" xlink:href=\"#DejaVuSans-99\"/>\r\n       <use x=\"181.486328\" xlink:href=\"#DejaVuSans-97\"/>\r\n       <use x=\"242.765625\" xlink:href=\"#DejaVuSans-108\"/>\r\n       <use x=\"270.548828\" xlink:href=\"#DejaVuSans-108\"/>\r\n       <use x=\"298.332031\" xlink:href=\"#DejaVuSans-64\"/>\r\n       <use x=\"398.332031\" xlink:href=\"#DejaVuSans-53\"/>\r\n      </g>\r\n     </g>\r\n    </g>\r\n    <g id=\"xtick_5\">\r\n     <g id=\"line2d_5\">\r\n      <g>\r\n       <use style=\"stroke:#000000;stroke-width:0.8;\" x=\"258.948412\" xlink:href=\"#m02d890b960\" y=\"241.718125\"/>\r\n      </g>\r\n     </g>\r\n     <g id=\"text_5\">\r\n      <!-- Recall@10 -->\r\n      <g transform=\"translate(242.31704 291.256122)rotate(-45)scale(0.1 -0.1)\">\r\n       <defs>\r\n        <path d=\"M 31.78125 66.40625 \r\nQ 24.171875 66.40625 20.328125 58.90625 \r\nQ 16.5 51.421875 16.5 36.375 \r\nQ 16.5 21.390625 20.328125 13.890625 \r\nQ 24.171875 6.390625 31.78125 6.390625 \r\nQ 39.453125 6.390625 43.28125 13.890625 \r\nQ 47.125 21.390625 47.125 36.375 \r\nQ 47.125 51.421875 43.28125 58.90625 \r\nQ 39.453125 66.40625 31.78125 66.40625 \r\nz\r\nM 31.78125 74.21875 \r\nQ 44.046875 74.21875 50.515625 64.515625 \r\nQ 56.984375 54.828125 56.984375 36.375 \r\nQ 56.984375 17.96875 50.515625 8.265625 \r\nQ 44.046875 -1.421875 31.78125 -1.421875 \r\nQ 19.53125 -1.421875 13.0625 8.265625 \r\nQ 6.59375 17.96875 6.59375 36.375 \r\nQ 6.59375 54.828125 13.0625 64.515625 \r\nQ 19.53125 74.21875 31.78125 74.21875 \r\nz\r\n\" id=\"DejaVuSans-48\"/>\r\n       </defs>\r\n       <use xlink:href=\"#DejaVuSans-82\"/>\r\n       <use x=\"64.982422\" xlink:href=\"#DejaVuSans-101\"/>\r\n       <use x=\"126.505859\" xlink:href=\"#DejaVuSans-99\"/>\r\n       <use x=\"181.486328\" xlink:href=\"#DejaVuSans-97\"/>\r\n       <use x=\"242.765625\" xlink:href=\"#DejaVuSans-108\"/>\r\n       <use x=\"270.548828\" xlink:href=\"#DejaVuSans-108\"/>\r\n       <use x=\"298.332031\" xlink:href=\"#DejaVuSans-64\"/>\r\n       <use x=\"398.332031\" xlink:href=\"#DejaVuSans-49\"/>\r\n       <use x=\"461.955078\" xlink:href=\"#DejaVuSans-48\"/>\r\n      </g>\r\n     </g>\r\n    </g>\r\n    <g id=\"xtick_6\">\r\n     <g id=\"line2d_6\">\r\n      <g>\r\n       <use style=\"stroke:#000000;stroke-width:0.8;\" x=\"300.178995\" xlink:href=\"#m02d890b960\" y=\"241.718125\"/>\r\n      </g>\r\n     </g>\r\n     <g id=\"text_6\">\r\n      <!-- Precision@1 -->\r\n      <g transform=\"translate(280.571697 297.207973)rotate(-45)scale(0.1 -0.1)\">\r\n       <defs>\r\n        <path d=\"M 41.109375 46.296875 \r\nQ 39.59375 47.171875 37.8125 47.578125 \r\nQ 36.03125 48 33.890625 48 \r\nQ 26.265625 48 22.1875 43.046875 \r\nQ 18.109375 38.09375 18.109375 28.8125 \r\nL 18.109375 0 \r\nL 9.078125 0 \r\nL 9.078125 54.6875 \r\nL 18.109375 54.6875 \r\nL 18.109375 46.1875 \r\nQ 20.953125 51.171875 25.484375 53.578125 \r\nQ 30.03125 56 36.53125 56 \r\nQ 37.453125 56 38.578125 55.875 \r\nQ 39.703125 55.765625 41.0625 55.515625 \r\nz\r\n\" id=\"DejaVuSans-114\"/>\r\n        <path d=\"M 9.421875 54.6875 \r\nL 18.40625 54.6875 \r\nL 18.40625 0 \r\nL 9.421875 0 \r\nz\r\nM 9.421875 75.984375 \r\nL 18.40625 75.984375 \r\nL 18.40625 64.59375 \r\nL 9.421875 64.59375 \r\nz\r\n\" id=\"DejaVuSans-105\"/>\r\n        <path d=\"M 44.28125 53.078125 \r\nL 44.28125 44.578125 \r\nQ 40.484375 46.53125 36.375 47.5 \r\nQ 32.28125 48.484375 27.875 48.484375 \r\nQ 21.1875 48.484375 17.84375 46.4375 \r\nQ 14.5 44.390625 14.5 40.28125 \r\nQ 14.5 37.15625 16.890625 35.375 \r\nQ 19.28125 33.59375 26.515625 31.984375 \r\nL 29.59375 31.296875 \r\nQ 39.15625 29.25 43.1875 25.515625 \r\nQ 47.21875 21.78125 47.21875 15.09375 \r\nQ 47.21875 7.46875 41.1875 3.015625 \r\nQ 35.15625 -1.421875 24.609375 -1.421875 \r\nQ 20.21875 -1.421875 15.453125 -0.5625 \r\nQ 10.6875 0.296875 5.421875 2 \r\nL 5.421875 11.28125 \r\nQ 10.40625 8.6875 15.234375 7.390625 \r\nQ 20.0625 6.109375 24.8125 6.109375 \r\nQ 31.15625 6.109375 34.5625 8.28125 \r\nQ 37.984375 10.453125 37.984375 14.40625 \r\nQ 37.984375 18.0625 35.515625 20.015625 \r\nQ 33.0625 21.96875 24.703125 23.78125 \r\nL 21.578125 24.515625 \r\nQ 13.234375 26.265625 9.515625 29.90625 \r\nQ 5.8125 33.546875 5.8125 39.890625 \r\nQ 5.8125 47.609375 11.28125 51.796875 \r\nQ 16.75 56 26.8125 56 \r\nQ 31.78125 56 36.171875 55.265625 \r\nQ 40.578125 54.546875 44.28125 53.078125 \r\nz\r\n\" id=\"DejaVuSans-115\"/>\r\n        <path d=\"M 30.609375 48.390625 \r\nQ 23.390625 48.390625 19.1875 42.75 \r\nQ 14.984375 37.109375 14.984375 27.296875 \r\nQ 14.984375 17.484375 19.15625 11.84375 \r\nQ 23.34375 6.203125 30.609375 6.203125 \r\nQ 37.796875 6.203125 41.984375 11.859375 \r\nQ 46.1875 17.53125 46.1875 27.296875 \r\nQ 46.1875 37.015625 41.984375 42.703125 \r\nQ 37.796875 48.390625 30.609375 48.390625 \r\nz\r\nM 30.609375 56 \r\nQ 42.328125 56 49.015625 48.375 \r\nQ 55.71875 40.765625 55.71875 27.296875 \r\nQ 55.71875 13.875 49.015625 6.21875 \r\nQ 42.328125 -1.421875 30.609375 -1.421875 \r\nQ 18.84375 -1.421875 12.171875 6.21875 \r\nQ 5.515625 13.875 5.515625 27.296875 \r\nQ 5.515625 40.765625 12.171875 48.375 \r\nQ 18.84375 56 30.609375 56 \r\nz\r\n\" id=\"DejaVuSans-111\"/>\r\n        <path d=\"M 54.890625 33.015625 \r\nL 54.890625 0 \r\nL 45.90625 0 \r\nL 45.90625 32.71875 \r\nQ 45.90625 40.484375 42.875 44.328125 \r\nQ 39.84375 48.1875 33.796875 48.1875 \r\nQ 26.515625 48.1875 22.3125 43.546875 \r\nQ 18.109375 38.921875 18.109375 30.90625 \r\nL 18.109375 0 \r\nL 9.078125 0 \r\nL 9.078125 54.6875 \r\nL 18.109375 54.6875 \r\nL 18.109375 46.1875 \r\nQ 21.34375 51.125 25.703125 53.5625 \r\nQ 30.078125 56 35.796875 56 \r\nQ 45.21875 56 50.046875 50.171875 \r\nQ 54.890625 44.34375 54.890625 33.015625 \r\nz\r\n\" id=\"DejaVuSans-110\"/>\r\n       </defs>\r\n       <use xlink:href=\"#DejaVuSans-80\"/>\r\n       <use x=\"58.552734\" xlink:href=\"#DejaVuSans-114\"/>\r\n       <use x=\"97.416016\" xlink:href=\"#DejaVuSans-101\"/>\r\n       <use x=\"158.939453\" xlink:href=\"#DejaVuSans-99\"/>\r\n       <use x=\"213.919922\" xlink:href=\"#DejaVuSans-105\"/>\r\n       <use x=\"241.703125\" xlink:href=\"#DejaVuSans-115\"/>\r\n       <use x=\"293.802734\" xlink:href=\"#DejaVuSans-105\"/>\r\n       <use x=\"321.585938\" xlink:href=\"#DejaVuSans-111\"/>\r\n       <use x=\"382.767578\" xlink:href=\"#DejaVuSans-110\"/>\r\n       <use x=\"446.146484\" xlink:href=\"#DejaVuSans-64\"/>\r\n       <use x=\"546.146484\" xlink:href=\"#DejaVuSans-49\"/>\r\n      </g>\r\n     </g>\r\n    </g>\r\n    <g id=\"xtick_7\">\r\n     <g id=\"line2d_7\">\r\n      <g>\r\n       <use style=\"stroke:#000000;stroke-width:0.8;\" x=\"341.409578\" xlink:href=\"#m02d890b960\" y=\"241.718125\"/>\r\n      </g>\r\n     </g>\r\n     <g id=\"text_7\">\r\n      <!-- Precision@5 -->\r\n      <g transform=\"translate(321.80228 297.207973)rotate(-45)scale(0.1 -0.1)\">\r\n       <use xlink:href=\"#DejaVuSans-80\"/>\r\n       <use x=\"58.552734\" xlink:href=\"#DejaVuSans-114\"/>\r\n       <use x=\"97.416016\" xlink:href=\"#DejaVuSans-101\"/>\r\n       <use x=\"158.939453\" xlink:href=\"#DejaVuSans-99\"/>\r\n       <use x=\"213.919922\" xlink:href=\"#DejaVuSans-105\"/>\r\n       <use x=\"241.703125\" xlink:href=\"#DejaVuSans-115\"/>\r\n       <use x=\"293.802734\" xlink:href=\"#DejaVuSans-105\"/>\r\n       <use x=\"321.585938\" xlink:href=\"#DejaVuSans-111\"/>\r\n       <use x=\"382.767578\" xlink:href=\"#DejaVuSans-110\"/>\r\n       <use x=\"446.146484\" xlink:href=\"#DejaVuSans-64\"/>\r\n       <use x=\"546.146484\" xlink:href=\"#DejaVuSans-53\"/>\r\n      </g>\r\n     </g>\r\n    </g>\r\n    <g id=\"xtick_8\">\r\n     <g id=\"line2d_8\">\r\n      <g>\r\n       <use style=\"stroke:#000000;stroke-width:0.8;\" x=\"382.640161\" xlink:href=\"#m02d890b960\" y=\"241.718125\"/>\r\n      </g>\r\n     </g>\r\n     <g id=\"text_8\">\r\n      <!-- Precision@10 -->\r\n      <g transform=\"translate(360.78338 301.706939)rotate(-45)scale(0.1 -0.1)\">\r\n       <use xlink:href=\"#DejaVuSans-80\"/>\r\n       <use x=\"58.552734\" xlink:href=\"#DejaVuSans-114\"/>\r\n       <use x=\"97.416016\" xlink:href=\"#DejaVuSans-101\"/>\r\n       <use x=\"158.939453\" xlink:href=\"#DejaVuSans-99\"/>\r\n       <use x=\"213.919922\" xlink:href=\"#DejaVuSans-105\"/>\r\n       <use x=\"241.703125\" xlink:href=\"#DejaVuSans-115\"/>\r\n       <use x=\"293.802734\" xlink:href=\"#DejaVuSans-105\"/>\r\n       <use x=\"321.585938\" xlink:href=\"#DejaVuSans-111\"/>\r\n       <use x=\"382.767578\" xlink:href=\"#DejaVuSans-110\"/>\r\n       <use x=\"446.146484\" xlink:href=\"#DejaVuSans-64\"/>\r\n       <use x=\"546.146484\" xlink:href=\"#DejaVuSans-49\"/>\r\n       <use x=\"609.769531\" xlink:href=\"#DejaVuSans-48\"/>\r\n      </g>\r\n     </g>\r\n    </g>\r\n    <g id=\"text_9\">\r\n     <!-- Metrics -->\r\n     <g transform=\"translate(212.96855 314.775938)scale(0.1 -0.1)\">\r\n      <defs>\r\n       <path d=\"M 18.3125 70.21875 \r\nL 18.3125 54.6875 \r\nL 36.8125 54.6875 \r\nL 36.8125 47.703125 \r\nL 18.3125 47.703125 \r\nL 18.3125 18.015625 \r\nQ 18.3125 11.328125 20.140625 9.421875 \r\nQ 21.96875 7.515625 27.59375 7.515625 \r\nL 36.8125 7.515625 \r\nL 36.8125 0 \r\nL 27.59375 0 \r\nQ 17.1875 0 13.234375 3.875 \r\nQ 9.28125 7.765625 9.28125 18.015625 \r\nL 9.28125 47.703125 \r\nL 2.6875 47.703125 \r\nL 2.6875 54.6875 \r\nL 9.28125 54.6875 \r\nL 9.28125 70.21875 \r\nz\r\n\" id=\"DejaVuSans-116\"/>\r\n      </defs>\r\n      <use xlink:href=\"#DejaVuSans-77\"/>\r\n      <use x=\"86.279297\" xlink:href=\"#DejaVuSans-101\"/>\r\n      <use x=\"147.802734\" xlink:href=\"#DejaVuSans-116\"/>\r\n      <use x=\"187.011719\" xlink:href=\"#DejaVuSans-114\"/>\r\n      <use x=\"228.125\" xlink:href=\"#DejaVuSans-105\"/>\r\n      <use x=\"255.908203\" xlink:href=\"#DejaVuSans-99\"/>\r\n      <use x=\"310.888672\" xlink:href=\"#DejaVuSans-115\"/>\r\n     </g>\r\n    </g>\r\n   </g>\r\n   <g id=\"matplotlib.axis_2\">\r\n    <g id=\"ytick_1\">\r\n     <g id=\"line2d_9\">\r\n      <defs>\r\n       <path d=\"M 0 0 \r\nL -3.5 0 \r\n\" id=\"mfad7608abe\" style=\"stroke:#000000;stroke-width:0.8;\"/>\r\n      </defs>\r\n      <g>\r\n       <use style=\"stroke:#000000;stroke-width:0.8;\" x=\"56.50625\" xlink:href=\"#mfad7608abe\" y=\"241.718125\"/>\r\n      </g>\r\n     </g>\r\n     <g id=\"text_10\">\r\n      <!-- 0.000 -->\r\n      <g transform=\"translate(20.878125 245.517344)scale(0.1 -0.1)\">\r\n       <defs>\r\n        <path d=\"M 10.6875 12.40625 \r\nL 21 12.40625 \r\nL 21 0 \r\nL 10.6875 0 \r\nz\r\n\" id=\"DejaVuSans-46\"/>\r\n       </defs>\r\n       <use xlink:href=\"#DejaVuSans-48\"/>\r\n       <use x=\"63.623047\" xlink:href=\"#DejaVuSans-46\"/>\r\n       <use x=\"95.410156\" xlink:href=\"#DejaVuSans-48\"/>\r\n       <use x=\"159.033203\" xlink:href=\"#DejaVuSans-48\"/>\r\n       <use x=\"222.65625\" xlink:href=\"#DejaVuSans-48\"/>\r\n      </g>\r\n     </g>\r\n    </g>\r\n    <g id=\"ytick_2\">\r\n     <g id=\"line2d_10\">\r\n      <g>\r\n       <use style=\"stroke:#000000;stroke-width:0.8;\" x=\"56.50625\" xlink:href=\"#mfad7608abe\" y=\"213.662013\"/>\r\n      </g>\r\n     </g>\r\n     <g id=\"text_11\">\r\n      <!-- 0.025 -->\r\n      <g transform=\"translate(20.878125 217.461232)scale(0.1 -0.1)\">\r\n       <defs>\r\n        <path d=\"M 19.1875 8.296875 \r\nL 53.609375 8.296875 \r\nL 53.609375 0 \r\nL 7.328125 0 \r\nL 7.328125 8.296875 \r\nQ 12.9375 14.109375 22.625 23.890625 \r\nQ 32.328125 33.6875 34.8125 36.53125 \r\nQ 39.546875 41.84375 41.421875 45.53125 \r\nQ 43.3125 49.21875 43.3125 52.78125 \r\nQ 43.3125 58.59375 39.234375 62.25 \r\nQ 35.15625 65.921875 28.609375 65.921875 \r\nQ 23.96875 65.921875 18.8125 64.3125 \r\nQ 13.671875 62.703125 7.8125 59.421875 \r\nL 7.8125 69.390625 \r\nQ 13.765625 71.78125 18.9375 73 \r\nQ 24.125 74.21875 28.421875 74.21875 \r\nQ 39.75 74.21875 46.484375 68.546875 \r\nQ 53.21875 62.890625 53.21875 53.421875 \r\nQ 53.21875 48.921875 51.53125 44.890625 \r\nQ 49.859375 40.875 45.40625 35.40625 \r\nQ 44.1875 33.984375 37.640625 27.21875 \r\nQ 31.109375 20.453125 19.1875 8.296875 \r\nz\r\n\" id=\"DejaVuSans-50\"/>\r\n       </defs>\r\n       <use xlink:href=\"#DejaVuSans-48\"/>\r\n       <use x=\"63.623047\" xlink:href=\"#DejaVuSans-46\"/>\r\n       <use x=\"95.410156\" xlink:href=\"#DejaVuSans-48\"/>\r\n       <use x=\"159.033203\" xlink:href=\"#DejaVuSans-50\"/>\r\n       <use x=\"222.65625\" xlink:href=\"#DejaVuSans-53\"/>\r\n      </g>\r\n     </g>\r\n    </g>\r\n    <g id=\"ytick_3\">\r\n     <g id=\"line2d_11\">\r\n      <g>\r\n       <use style=\"stroke:#000000;stroke-width:0.8;\" x=\"56.50625\" xlink:href=\"#mfad7608abe\" y=\"185.605901\"/>\r\n      </g>\r\n     </g>\r\n     <g id=\"text_12\">\r\n      <!-- 0.050 -->\r\n      <g transform=\"translate(20.878125 189.40512)scale(0.1 -0.1)\">\r\n       <use xlink:href=\"#DejaVuSans-48\"/>\r\n       <use x=\"63.623047\" xlink:href=\"#DejaVuSans-46\"/>\r\n       <use x=\"95.410156\" xlink:href=\"#DejaVuSans-48\"/>\r\n       <use x=\"159.033203\" xlink:href=\"#DejaVuSans-53\"/>\r\n       <use x=\"222.65625\" xlink:href=\"#DejaVuSans-48\"/>\r\n      </g>\r\n     </g>\r\n    </g>\r\n    <g id=\"ytick_4\">\r\n     <g id=\"line2d_12\">\r\n      <g>\r\n       <use style=\"stroke:#000000;stroke-width:0.8;\" x=\"56.50625\" xlink:href=\"#mfad7608abe\" y=\"157.54979\"/>\r\n      </g>\r\n     </g>\r\n     <g id=\"text_13\">\r\n      <!-- 0.075 -->\r\n      <g transform=\"translate(20.878125 161.349008)scale(0.1 -0.1)\">\r\n       <defs>\r\n        <path d=\"M 8.203125 72.90625 \r\nL 55.078125 72.90625 \r\nL 55.078125 68.703125 \r\nL 28.609375 0 \r\nL 18.3125 0 \r\nL 43.21875 64.59375 \r\nL 8.203125 64.59375 \r\nz\r\n\" id=\"DejaVuSans-55\"/>\r\n       </defs>\r\n       <use xlink:href=\"#DejaVuSans-48\"/>\r\n       <use x=\"63.623047\" xlink:href=\"#DejaVuSans-46\"/>\r\n       <use x=\"95.410156\" xlink:href=\"#DejaVuSans-48\"/>\r\n       <use x=\"159.033203\" xlink:href=\"#DejaVuSans-55\"/>\r\n       <use x=\"222.65625\" xlink:href=\"#DejaVuSans-53\"/>\r\n      </g>\r\n     </g>\r\n    </g>\r\n    <g id=\"ytick_5\">\r\n     <g id=\"line2d_13\">\r\n      <g>\r\n       <use style=\"stroke:#000000;stroke-width:0.8;\" x=\"56.50625\" xlink:href=\"#mfad7608abe\" y=\"129.493678\"/>\r\n      </g>\r\n     </g>\r\n     <g id=\"text_14\">\r\n      <!-- 0.100 -->\r\n      <g transform=\"translate(20.878125 133.292896)scale(0.1 -0.1)\">\r\n       <use xlink:href=\"#DejaVuSans-48\"/>\r\n       <use x=\"63.623047\" xlink:href=\"#DejaVuSans-46\"/>\r\n       <use x=\"95.410156\" xlink:href=\"#DejaVuSans-49\"/>\r\n       <use x=\"159.033203\" xlink:href=\"#DejaVuSans-48\"/>\r\n       <use x=\"222.65625\" xlink:href=\"#DejaVuSans-48\"/>\r\n      </g>\r\n     </g>\r\n    </g>\r\n    <g id=\"ytick_6\">\r\n     <g id=\"line2d_14\">\r\n      <g>\r\n       <use style=\"stroke:#000000;stroke-width:0.8;\" x=\"56.50625\" xlink:href=\"#mfad7608abe\" y=\"101.437566\"/>\r\n      </g>\r\n     </g>\r\n     <g id=\"text_15\">\r\n      <!-- 0.125 -->\r\n      <g transform=\"translate(20.878125 105.236785)scale(0.1 -0.1)\">\r\n       <use xlink:href=\"#DejaVuSans-48\"/>\r\n       <use x=\"63.623047\" xlink:href=\"#DejaVuSans-46\"/>\r\n       <use x=\"95.410156\" xlink:href=\"#DejaVuSans-49\"/>\r\n       <use x=\"159.033203\" xlink:href=\"#DejaVuSans-50\"/>\r\n       <use x=\"222.65625\" xlink:href=\"#DejaVuSans-53\"/>\r\n      </g>\r\n     </g>\r\n    </g>\r\n    <g id=\"ytick_7\">\r\n     <g id=\"line2d_15\">\r\n      <g>\r\n       <use style=\"stroke:#000000;stroke-width:0.8;\" x=\"56.50625\" xlink:href=\"#mfad7608abe\" y=\"73.381454\"/>\r\n      </g>\r\n     </g>\r\n     <g id=\"text_16\">\r\n      <!-- 0.150 -->\r\n      <g transform=\"translate(20.878125 77.180673)scale(0.1 -0.1)\">\r\n       <use xlink:href=\"#DejaVuSans-48\"/>\r\n       <use x=\"63.623047\" xlink:href=\"#DejaVuSans-46\"/>\r\n       <use x=\"95.410156\" xlink:href=\"#DejaVuSans-49\"/>\r\n       <use x=\"159.033203\" xlink:href=\"#DejaVuSans-53\"/>\r\n       <use x=\"222.65625\" xlink:href=\"#DejaVuSans-48\"/>\r\n      </g>\r\n     </g>\r\n    </g>\r\n    <g id=\"ytick_8\">\r\n     <g id=\"line2d_16\">\r\n      <g>\r\n       <use style=\"stroke:#000000;stroke-width:0.8;\" x=\"56.50625\" xlink:href=\"#mfad7608abe\" y=\"45.325342\"/>\r\n      </g>\r\n     </g>\r\n     <g id=\"text_17\">\r\n      <!-- 0.175 -->\r\n      <g transform=\"translate(20.878125 49.124561)scale(0.1 -0.1)\">\r\n       <use xlink:href=\"#DejaVuSans-48\"/>\r\n       <use x=\"63.623047\" xlink:href=\"#DejaVuSans-46\"/>\r\n       <use x=\"95.410156\" xlink:href=\"#DejaVuSans-49\"/>\r\n       <use x=\"159.033203\" xlink:href=\"#DejaVuSans-55\"/>\r\n       <use x=\"222.65625\" xlink:href=\"#DejaVuSans-53\"/>\r\n      </g>\r\n     </g>\r\n    </g>\r\n    <g id=\"text_18\">\r\n     <!-- Results -->\r\n     <g transform=\"translate(14.798438 150.07125)rotate(-90)scale(0.1 -0.1)\">\r\n      <defs>\r\n       <path d=\"M 8.5 21.578125 \r\nL 8.5 54.6875 \r\nL 17.484375 54.6875 \r\nL 17.484375 21.921875 \r\nQ 17.484375 14.15625 20.5 10.265625 \r\nQ 23.53125 6.390625 29.59375 6.390625 \r\nQ 36.859375 6.390625 41.078125 11.03125 \r\nQ 45.3125 15.671875 45.3125 23.6875 \r\nL 45.3125 54.6875 \r\nL 54.296875 54.6875 \r\nL 54.296875 0 \r\nL 45.3125 0 \r\nL 45.3125 8.40625 \r\nQ 42.046875 3.421875 37.71875 1 \r\nQ 33.40625 -1.421875 27.6875 -1.421875 \r\nQ 18.265625 -1.421875 13.375 4.4375 \r\nQ 8.5 10.296875 8.5 21.578125 \r\nz\r\nM 31.109375 56 \r\nz\r\n\" id=\"DejaVuSans-117\"/>\r\n      </defs>\r\n      <use xlink:href=\"#DejaVuSans-82\"/>\r\n      <use x=\"64.982422\" xlink:href=\"#DejaVuSans-101\"/>\r\n      <use x=\"126.505859\" xlink:href=\"#DejaVuSans-115\"/>\r\n      <use x=\"178.605469\" xlink:href=\"#DejaVuSans-117\"/>\r\n      <use x=\"241.984375\" xlink:href=\"#DejaVuSans-108\"/>\r\n      <use x=\"269.767578\" xlink:href=\"#DejaVuSans-116\"/>\r\n      <use x=\"308.976562\" xlink:href=\"#DejaVuSans-115\"/>\r\n     </g>\r\n    </g>\r\n   </g>\r\n   <g id=\"patch_19\">\r\n    <path d=\"M 56.50625 241.718125 \r\nL 56.50625 22.318125 \r\n\" style=\"fill:none;stroke:#000000;stroke-linecap:square;stroke-linejoin:miter;stroke-width:0.8;\"/>\r\n   </g>\r\n   <g id=\"patch_20\">\r\n    <path d=\"M 405.729287 241.718125 \r\nL 405.729287 22.318125 \r\n\" style=\"fill:none;stroke:#000000;stroke-linecap:square;stroke-linejoin:miter;stroke-width:0.8;\"/>\r\n   </g>\r\n   <g id=\"patch_21\">\r\n    <path d=\"M 56.50625 241.718125 \r\nL 405.729287 241.718125 \r\n\" style=\"fill:none;stroke:#000000;stroke-linecap:square;stroke-linejoin:miter;stroke-width:0.8;\"/>\r\n   </g>\r\n   <g id=\"patch_22\">\r\n    <path d=\"M 56.50625 22.318125 \r\nL 405.729287 22.318125 \r\n\" style=\"fill:none;stroke:#000000;stroke-linecap:square;stroke-linejoin:miter;stroke-width:0.8;\"/>\r\n   </g>\r\n   <g id=\"text_19\">\r\n    <!-- Results using TF-IDF function -->\r\n    <g transform=\"translate(143.896519 16.318125)scale(0.12 -0.12)\">\r\n     <defs>\r\n      <path id=\"DejaVuSans-32\"/>\r\n      <path d=\"M 45.40625 27.984375 \r\nQ 45.40625 37.75 41.375 43.109375 \r\nQ 37.359375 48.484375 30.078125 48.484375 \r\nQ 22.859375 48.484375 18.828125 43.109375 \r\nQ 14.796875 37.75 14.796875 27.984375 \r\nQ 14.796875 18.265625 18.828125 12.890625 \r\nQ 22.859375 7.515625 30.078125 7.515625 \r\nQ 37.359375 7.515625 41.375 12.890625 \r\nQ 45.40625 18.265625 45.40625 27.984375 \r\nz\r\nM 54.390625 6.78125 \r\nQ 54.390625 -7.171875 48.1875 -13.984375 \r\nQ 42 -20.796875 29.203125 -20.796875 \r\nQ 24.46875 -20.796875 20.265625 -20.09375 \r\nQ 16.0625 -19.390625 12.109375 -17.921875 \r\nL 12.109375 -9.1875 \r\nQ 16.0625 -11.328125 19.921875 -12.34375 \r\nQ 23.78125 -13.375 27.78125 -13.375 \r\nQ 36.625 -13.375 41.015625 -8.765625 \r\nQ 45.40625 -4.15625 45.40625 5.171875 \r\nL 45.40625 9.625 \r\nQ 42.625 4.78125 38.28125 2.390625 \r\nQ 33.9375 0 27.875 0 \r\nQ 17.828125 0 11.671875 7.65625 \r\nQ 5.515625 15.328125 5.515625 27.984375 \r\nQ 5.515625 40.671875 11.671875 48.328125 \r\nQ 17.828125 56 27.875 56 \r\nQ 33.9375 56 38.28125 53.609375 \r\nQ 42.625 51.21875 45.40625 46.390625 \r\nL 45.40625 54.6875 \r\nL 54.390625 54.6875 \r\nz\r\n\" id=\"DejaVuSans-103\"/>\r\n      <path d=\"M -0.296875 72.90625 \r\nL 61.375 72.90625 \r\nL 61.375 64.59375 \r\nL 35.5 64.59375 \r\nL 35.5 0 \r\nL 25.59375 0 \r\nL 25.59375 64.59375 \r\nL -0.296875 64.59375 \r\nz\r\n\" id=\"DejaVuSans-84\"/>\r\n      <path d=\"M 9.8125 72.90625 \r\nL 51.703125 72.90625 \r\nL 51.703125 64.59375 \r\nL 19.671875 64.59375 \r\nL 19.671875 43.109375 \r\nL 48.578125 43.109375 \r\nL 48.578125 34.8125 \r\nL 19.671875 34.8125 \r\nL 19.671875 0 \r\nL 9.8125 0 \r\nz\r\n\" id=\"DejaVuSans-70\"/>\r\n      <path d=\"M 4.890625 31.390625 \r\nL 31.203125 31.390625 \r\nL 31.203125 23.390625 \r\nL 4.890625 23.390625 \r\nz\r\n\" id=\"DejaVuSans-45\"/>\r\n      <path d=\"M 9.8125 72.90625 \r\nL 19.671875 72.90625 \r\nL 19.671875 0 \r\nL 9.8125 0 \r\nz\r\n\" id=\"DejaVuSans-73\"/>\r\n      <path d=\"M 19.671875 64.796875 \r\nL 19.671875 8.109375 \r\nL 31.59375 8.109375 \r\nQ 46.6875 8.109375 53.6875 14.9375 \r\nQ 60.6875 21.78125 60.6875 36.53125 \r\nQ 60.6875 51.171875 53.6875 57.984375 \r\nQ 46.6875 64.796875 31.59375 64.796875 \r\nz\r\nM 9.8125 72.90625 \r\nL 30.078125 72.90625 \r\nQ 51.265625 72.90625 61.171875 64.09375 \r\nQ 71.09375 55.28125 71.09375 36.53125 \r\nQ 71.09375 17.671875 61.125 8.828125 \r\nQ 51.171875 0 30.078125 0 \r\nL 9.8125 0 \r\nz\r\n\" id=\"DejaVuSans-68\"/>\r\n      <path d=\"M 37.109375 75.984375 \r\nL 37.109375 68.5 \r\nL 28.515625 68.5 \r\nQ 23.6875 68.5 21.796875 66.546875 \r\nQ 19.921875 64.59375 19.921875 59.515625 \r\nL 19.921875 54.6875 \r\nL 34.71875 54.6875 \r\nL 34.71875 47.703125 \r\nL 19.921875 47.703125 \r\nL 19.921875 0 \r\nL 10.890625 0 \r\nL 10.890625 47.703125 \r\nL 2.296875 47.703125 \r\nL 2.296875 54.6875 \r\nL 10.890625 54.6875 \r\nL 10.890625 58.5 \r\nQ 10.890625 67.625 15.140625 71.796875 \r\nQ 19.390625 75.984375 28.609375 75.984375 \r\nz\r\n\" id=\"DejaVuSans-102\"/>\r\n     </defs>\r\n     <use xlink:href=\"#DejaVuSans-82\"/>\r\n     <use x=\"64.982422\" xlink:href=\"#DejaVuSans-101\"/>\r\n     <use x=\"126.505859\" xlink:href=\"#DejaVuSans-115\"/>\r\n     <use x=\"178.605469\" xlink:href=\"#DejaVuSans-117\"/>\r\n     <use x=\"241.984375\" xlink:href=\"#DejaVuSans-108\"/>\r\n     <use x=\"269.767578\" xlink:href=\"#DejaVuSans-116\"/>\r\n     <use x=\"308.976562\" xlink:href=\"#DejaVuSans-115\"/>\r\n     <use x=\"361.076172\" xlink:href=\"#DejaVuSans-32\"/>\r\n     <use x=\"392.863281\" xlink:href=\"#DejaVuSans-117\"/>\r\n     <use x=\"456.242188\" xlink:href=\"#DejaVuSans-115\"/>\r\n     <use x=\"508.341797\" xlink:href=\"#DejaVuSans-105\"/>\r\n     <use x=\"536.125\" xlink:href=\"#DejaVuSans-110\"/>\r\n     <use x=\"599.503906\" xlink:href=\"#DejaVuSans-103\"/>\r\n     <use x=\"662.980469\" xlink:href=\"#DejaVuSans-32\"/>\r\n     <use x=\"694.767578\" xlink:href=\"#DejaVuSans-84\"/>\r\n     <use x=\"755.851562\" xlink:href=\"#DejaVuSans-70\"/>\r\n     <use x=\"813.371094\" xlink:href=\"#DejaVuSans-45\"/>\r\n     <use x=\"849.455078\" xlink:href=\"#DejaVuSans-73\"/>\r\n     <use x=\"878.947266\" xlink:href=\"#DejaVuSans-68\"/>\r\n     <use x=\"955.949219\" xlink:href=\"#DejaVuSans-70\"/>\r\n     <use x=\"1013.46875\" xlink:href=\"#DejaVuSans-32\"/>\r\n     <use x=\"1045.255859\" xlink:href=\"#DejaVuSans-102\"/>\r\n     <use x=\"1080.460938\" xlink:href=\"#DejaVuSans-117\"/>\r\n     <use x=\"1143.839844\" xlink:href=\"#DejaVuSans-110\"/>\r\n     <use x=\"1207.21875\" xlink:href=\"#DejaVuSans-99\"/>\r\n     <use x=\"1262.199219\" xlink:href=\"#DejaVuSans-116\"/>\r\n     <use x=\"1301.408203\" xlink:href=\"#DejaVuSans-105\"/>\r\n     <use x=\"1329.191406\" xlink:href=\"#DejaVuSans-111\"/>\r\n     <use x=\"1390.373047\" xlink:href=\"#DejaVuSans-110\"/>\r\n    </g>\r\n   </g>\r\n   <g id=\"legend_1\">\r\n    <g id=\"patch_23\">\r\n     <path d=\"M 299.6371 59.674375 \r\nL 398.729287 59.674375 \r\nQ 400.729287 59.674375 400.729287 57.674375 \r\nL 400.729287 29.318125 \r\nQ 400.729287 27.318125 398.729287 27.318125 \r\nL 299.6371 27.318125 \r\nQ 297.6371 27.318125 297.6371 29.318125 \r\nL 297.6371 57.674375 \r\nQ 297.6371 59.674375 299.6371 59.674375 \r\nz\r\n\" style=\"fill:#ffffff;opacity:0.8;stroke:#cccccc;stroke-linejoin:miter;\"/>\r\n    </g>\r\n    <g id=\"patch_24\">\r\n     <path d=\"M 301.6371 38.916563 \r\nL 321.6371 38.916563 \r\nL 321.6371 31.916563 \r\nL 301.6371 31.916563 \r\nz\r\n\" style=\"fill:#0000ff;opacity:0.8;\"/>\r\n    </g>\r\n    <g id=\"text_20\">\r\n     <!-- Index set = 1 -->\r\n     <g transform=\"translate(329.6371 38.916563)scale(0.1 -0.1)\">\r\n      <defs>\r\n       <path d=\"M 45.40625 46.390625 \r\nL 45.40625 75.984375 \r\nL 54.390625 75.984375 \r\nL 54.390625 0 \r\nL 45.40625 0 \r\nL 45.40625 8.203125 \r\nQ 42.578125 3.328125 38.25 0.953125 \r\nQ 33.9375 -1.421875 27.875 -1.421875 \r\nQ 17.96875 -1.421875 11.734375 6.484375 \r\nQ 5.515625 14.40625 5.515625 27.296875 \r\nQ 5.515625 40.1875 11.734375 48.09375 \r\nQ 17.96875 56 27.875 56 \r\nQ 33.9375 56 38.25 53.625 \r\nQ 42.578125 51.265625 45.40625 46.390625 \r\nz\r\nM 14.796875 27.296875 \r\nQ 14.796875 17.390625 18.875 11.75 \r\nQ 22.953125 6.109375 30.078125 6.109375 \r\nQ 37.203125 6.109375 41.296875 11.75 \r\nQ 45.40625 17.390625 45.40625 27.296875 \r\nQ 45.40625 37.203125 41.296875 42.84375 \r\nQ 37.203125 48.484375 30.078125 48.484375 \r\nQ 22.953125 48.484375 18.875 42.84375 \r\nQ 14.796875 37.203125 14.796875 27.296875 \r\nz\r\n\" id=\"DejaVuSans-100\"/>\r\n       <path d=\"M 54.890625 54.6875 \r\nL 35.109375 28.078125 \r\nL 55.90625 0 \r\nL 45.3125 0 \r\nL 29.390625 21.484375 \r\nL 13.484375 0 \r\nL 2.875 0 \r\nL 24.125 28.609375 \r\nL 4.6875 54.6875 \r\nL 15.28125 54.6875 \r\nL 29.78125 35.203125 \r\nL 44.28125 54.6875 \r\nz\r\n\" id=\"DejaVuSans-120\"/>\r\n       <path d=\"M 10.59375 45.40625 \r\nL 73.1875 45.40625 \r\nL 73.1875 37.203125 \r\nL 10.59375 37.203125 \r\nz\r\nM 10.59375 25.484375 \r\nL 73.1875 25.484375 \r\nL 73.1875 17.1875 \r\nL 10.59375 17.1875 \r\nz\r\n\" id=\"DejaVuSans-61\"/>\r\n      </defs>\r\n      <use xlink:href=\"#DejaVuSans-73\"/>\r\n      <use x=\"29.492188\" xlink:href=\"#DejaVuSans-110\"/>\r\n      <use x=\"92.871094\" xlink:href=\"#DejaVuSans-100\"/>\r\n      <use x=\"156.347656\" xlink:href=\"#DejaVuSans-101\"/>\r\n      <use x=\"216.121094\" xlink:href=\"#DejaVuSans-120\"/>\r\n      <use x=\"275.300781\" xlink:href=\"#DejaVuSans-32\"/>\r\n      <use x=\"307.087891\" xlink:href=\"#DejaVuSans-115\"/>\r\n      <use x=\"359.1875\" xlink:href=\"#DejaVuSans-101\"/>\r\n      <use x=\"420.710938\" xlink:href=\"#DejaVuSans-116\"/>\r\n      <use x=\"459.919922\" xlink:href=\"#DejaVuSans-32\"/>\r\n      <use x=\"491.707031\" xlink:href=\"#DejaVuSans-61\"/>\r\n      <use x=\"575.496094\" xlink:href=\"#DejaVuSans-32\"/>\r\n      <use x=\"607.283203\" xlink:href=\"#DejaVuSans-49\"/>\r\n     </g>\r\n    </g>\r\n    <g id=\"patch_25\">\r\n     <path d=\"M 301.6371 53.594688 \r\nL 321.6371 53.594688 \r\nL 321.6371 46.594688 \r\nL 301.6371 46.594688 \r\nz\r\n\" style=\"fill:#008000;opacity:0.8;\"/>\r\n    </g>\r\n    <g id=\"text_21\">\r\n     <!-- Index set = 2 -->\r\n     <g transform=\"translate(329.6371 53.594688)scale(0.1 -0.1)\">\r\n      <use xlink:href=\"#DejaVuSans-73\"/>\r\n      <use x=\"29.492188\" xlink:href=\"#DejaVuSans-110\"/>\r\n      <use x=\"92.871094\" xlink:href=\"#DejaVuSans-100\"/>\r\n      <use x=\"156.347656\" xlink:href=\"#DejaVuSans-101\"/>\r\n      <use x=\"216.121094\" xlink:href=\"#DejaVuSans-120\"/>\r\n      <use x=\"275.300781\" xlink:href=\"#DejaVuSans-32\"/>\r\n      <use x=\"307.087891\" xlink:href=\"#DejaVuSans-115\"/>\r\n      <use x=\"359.1875\" xlink:href=\"#DejaVuSans-101\"/>\r\n      <use x=\"420.710938\" xlink:href=\"#DejaVuSans-116\"/>\r\n      <use x=\"459.919922\" xlink:href=\"#DejaVuSans-32\"/>\r\n      <use x=\"491.707031\" xlink:href=\"#DejaVuSans-61\"/>\r\n      <use x=\"575.496094\" xlink:href=\"#DejaVuSans-32\"/>\r\n      <use x=\"607.283203\" xlink:href=\"#DejaVuSans-50\"/>\r\n     </g>\r\n    </g>\r\n   </g>\r\n  </g>\r\n </g>\r\n <defs>\r\n  <clipPath id=\"p4dd2131faf\">\r\n   <rect height=\"219.4\" width=\"349.223037\" x=\"56.50625\" y=\"22.318125\"/>\r\n  </clipPath>\r\n </defs>\r\n</svg>\r\n",
      "image/png": "[encoded data removed]"
     },
     "metadata": {
      "needs_background": "light"
     }
    },
    {
     "output_type": "stream",
     "name": "stdout",
     "text": [
      "{'ERR': 0.030929487, 'MAP': 0.052991454, 'Recall@1': 0.0033272489, 'Recall@5': 0.0068237525, 'Recall@10': 0.0068237525, 'Precision@1': 0.057692308, 'Precision@5': 0.034615386, 'Precision@10': 0.028846154}\n"
     ]
    },
    {
     "output_type": "display_data",
     "data": {
      "text/plain": "<Figure size 432x288 with 1 Axes>",
      "image/svg+xml": "<?xml version=\"1.0\" encoding=\"utf-8\" standalone=\"no\"?>\r\n<!DOCTYPE svg PUBLIC \"-//W3C//DTD SVG 1.1//EN\"\r\n  \"http://www.w3.org/Graphics/SVG/1.1/DTD/svg11.dtd\">\r\n<!-- Created with matplotlib (https://matplotlib.org/) -->\r\n<svg height=\"324.055626pt\" version=\"1.1\" viewBox=\"0 0 416.660861 324.055626\" width=\"416.660861pt\" xmlns=\"http://www.w3.org/2000/svg\" xmlns:xlink=\"http://www.w3.org/1999/xlink\">\r\n <metadata>\r\n  <rdf:RDF xmlns:cc=\"http://creativecommons.org/ns#\" xmlns:dc=\"http://purl.org/dc/elements/1.1/\" xmlns:rdf=\"http://www.w3.org/1999/02/22-rdf-syntax-ns#\">\r\n   <cc:Work>\r\n    <dc:type rdf:resource=\"http://purl.org/dc/dcmitype/StillImage\"/>\r\n    <dc:date>2021-02-15T16:53:06.171668</dc:date>\r\n    <dc:format>image/svg+xml</dc:format>\r\n    <dc:creator>\r\n     <cc:Agent>\r\n      <dc:title>Matplotlib v3.3.4, https://matplotlib.org/</dc:title>\r\n     </cc:Agent>\r\n    </dc:creator>\r\n   </cc:Work>\r\n  </rdf:RDF>\r\n </metadata>\r\n <defs>\r\n  <style type=\"text/css\">*{stroke-linecap:butt;stroke-linejoin:round;}</style>\r\n </defs>\r\n <g id=\"figure_1\">\r\n  <g id=\"patch_1\">\r\n   <path d=\"M 0 324.055626 \r\nL 416.660861 324.055626 \r\nL 416.660861 0 \r\nL 0 0 \r\nz\r\n\" style=\"fill:none;\"/>\r\n  </g>\r\n  <g id=\"axes_1\">\r\n   <g id=\"patch_2\">\r\n    <path d=\"M 50.14375 241.718125 \r\nL 405.741787 241.718125 \r\nL 405.741787 22.318125 \r\nL 50.14375 22.318125 \r\nz\r\n\" style=\"fill:#ffffff;\"/>\r\n   </g>\r\n   <g id=\"patch_3\">\r\n    <path clip-path=\"url(#p6bbe0c911e)\" d=\"M 66.307297 241.718125 \r\nL 81.001431 241.718125 \r\nL 81.001431 185.707279 \r\nL 66.307297 185.707279 \r\nz\r\n\" style=\"fill:#0000ff;opacity:0.8;\"/>\r\n   </g>\r\n   <g id=\"patch_4\">\r\n    <path clip-path=\"url(#p6bbe0c911e)\" d=\"M 108.290536 241.718125 \r\nL 122.98467 241.718125 \r\nL 122.98467 145.754809 \r\nL 108.290536 145.754809 \r\nz\r\n\" style=\"fill:#0000ff;opacity:0.8;\"/>\r\n   </g>\r\n   <g id=\"patch_5\">\r\n    <path clip-path=\"url(#p6bbe0c911e)\" d=\"M 150.273776 241.718125 \r\nL 164.96791 241.718125 \r\nL 164.96791 235.692741 \r\nL 150.273776 235.692741 \r\nz\r\n\" style=\"fill:#0000ff;opacity:0.8;\"/>\r\n   </g>\r\n   <g id=\"patch_6\">\r\n    <path clip-path=\"url(#p6bbe0c911e)\" d=\"M 192.257015 241.718125 \r\nL 206.951149 241.718125 \r\nL 206.951149 229.360851 \r\nL 192.257015 229.360851 \r\nz\r\n\" style=\"fill:#0000ff;opacity:0.8;\"/>\r\n   </g>\r\n   <g id=\"patch_7\">\r\n    <path clip-path=\"url(#p6bbe0c911e)\" d=\"M 234.240254 241.718125 \r\nL 248.934388 241.718125 \r\nL 248.934388 229.360851 \r\nL 234.240254 229.360851 \r\nz\r\n\" style=\"fill:#0000ff;opacity:0.8;\"/>\r\n   </g>\r\n   <g id=\"patch_8\">\r\n    <path clip-path=\"url(#p6bbe0c911e)\" d=\"M 276.223494 241.718125 \r\nL 290.917628 241.718125 \r\nL 290.917628 137.241935 \r\nL 276.223494 137.241935 \r\nz\r\n\" style=\"fill:#0000ff;opacity:0.8;\"/>\r\n   </g>\r\n   <g id=\"patch_9\">\r\n    <path clip-path=\"url(#p6bbe0c911e)\" d=\"M 318.206733 241.718125 \r\nL 332.900867 241.718125 \r\nL 332.900867 179.032408 \r\nL 318.206733 179.032408 \r\nz\r\n\" style=\"fill:#0000ff;opacity:0.8;\"/>\r\n   </g>\r\n   <g id=\"patch_10\">\r\n    <path clip-path=\"url(#p6bbe0c911e)\" d=\"M 360.189973 241.718125 \r\nL 374.884106 241.718125 \r\nL 374.884106 189.48003 \r\nL 360.189973 189.48003 \r\nz\r\n\" style=\"fill:#0000ff;opacity:0.8;\"/>\r\n   </g>\r\n   <g id=\"patch_11\">\r\n    <path clip-path=\"url(#p6bbe0c911e)\" d=\"M 81.001431 241.718125 \r\nL 95.695565 241.718125 \r\nL 95.695565 126.765112 \r\nL 81.001431 126.765112 \r\nz\r\n\" style=\"fill:#008000;opacity:0.8;\"/>\r\n   </g>\r\n   <g id=\"patch_12\">\r\n    <path clip-path=\"url(#p6bbe0c911e)\" d=\"M 122.98467 241.718125 \r\nL 137.678804 241.718125 \r\nL 137.678804 42.679953 \r\nL 122.98467 42.679953 \r\nz\r\n\" style=\"fill:#008000;opacity:0.8;\"/>\r\n   </g>\r\n   <g id=\"patch_13\">\r\n    <path clip-path=\"url(#p6bbe0c911e)\" d=\"M 164.96791 241.718125 \r\nL 179.662043 241.718125 \r\nL 179.662043 225.899735 \r\nL 164.96791 225.899735 \r\nz\r\n\" style=\"fill:#008000;opacity:0.8;\"/>\r\n   </g>\r\n   <g id=\"patch_14\">\r\n    <path clip-path=\"url(#p6bbe0c911e)\" d=\"M 206.951149 241.718125 \r\nL 221.645283 241.718125 \r\nL 221.645283 215.036198 \r\nL 206.951149 215.036198 \r\nz\r\n\" style=\"fill:#008000;opacity:0.8;\"/>\r\n   </g>\r\n   <g id=\"patch_15\">\r\n    <path clip-path=\"url(#p6bbe0c911e)\" d=\"M 248.934388 241.718125 \r\nL 263.628522 241.718125 \r\nL 263.628522 211.870253 \r\nL 248.934388 211.870253 \r\nz\r\n\" style=\"fill:#008000;opacity:0.8;\"/>\r\n   </g>\r\n   <g id=\"patch_16\">\r\n    <path clip-path=\"url(#p6bbe0c911e)\" d=\"M 290.917628 241.718125 \r\nL 305.611761 241.718125 \r\nL 305.611761 32.765744 \r\nL 290.917628 32.765744 \r\nz\r\n\" style=\"fill:#008000;opacity:0.8;\"/>\r\n   </g>\r\n   <g id=\"patch_17\">\r\n    <path clip-path=\"url(#p6bbe0c911e)\" d=\"M 332.900867 241.718125 \r\nL 347.595001 241.718125 \r\nL 347.595001 39.730823 \r\nL 332.900867 39.730823 \r\nz\r\n\" style=\"fill:#008000;opacity:0.8;\"/>\r\n   </g>\r\n   <g id=\"patch_18\">\r\n    <path clip-path=\"url(#p6bbe0c911e)\" d=\"M 374.884106 241.718125 \r\nL 389.57824 241.718125 \r\nL 389.57824 50.178441 \r\nL 374.884106 50.178441 \r\nz\r\n\" style=\"fill:#008000;opacity:0.8;\"/>\r\n   </g>\r\n   <g id=\"matplotlib.axis_1\">\r\n    <g id=\"xtick_1\">\r\n     <g id=\"line2d_1\">\r\n      <defs>\r\n       <path d=\"M 0 0 \r\nL 0 3.5 \r\n\" id=\"m67b3ef7eee\" style=\"stroke:#000000;stroke-width:0.8;\"/>\r\n      </defs>\r\n      <g>\r\n       <use style=\"stroke:#000000;stroke-width:0.8;\" x=\"88.348498\" xlink:href=\"#m67b3ef7eee\" y=\"241.718125\"/>\r\n      </g>\r\n     </g>\r\n     <g id=\"text_1\">\r\n      <!-- ERR -->\r\n      <g transform=\"translate(83.152368 268.385637)rotate(-45)scale(0.1 -0.1)\">\r\n       <defs>\r\n        <path d=\"M 9.8125 72.90625 \r\nL 55.90625 72.90625 \r\nL 55.90625 64.59375 \r\nL 19.671875 64.59375 \r\nL 19.671875 43.015625 \r\nL 54.390625 43.015625 \r\nL 54.390625 34.71875 \r\nL 19.671875 34.71875 \r\nL 19.671875 8.296875 \r\nL 56.78125 8.296875 \r\nL 56.78125 0 \r\nL 9.8125 0 \r\nz\r\n\" id=\"DejaVuSans-69\"/>\r\n        <path d=\"M 44.390625 34.1875 \r\nQ 47.5625 33.109375 50.5625 29.59375 \r\nQ 53.5625 26.078125 56.59375 19.921875 \r\nL 66.609375 0 \r\nL 56 0 \r\nL 46.6875 18.703125 \r\nQ 43.0625 26.03125 39.671875 28.421875 \r\nQ 36.28125 30.8125 30.421875 30.8125 \r\nL 19.671875 30.8125 \r\nL 19.671875 0 \r\nL 9.8125 0 \r\nL 9.8125 72.90625 \r\nL 32.078125 72.90625 \r\nQ 44.578125 72.90625 50.734375 67.671875 \r\nQ 56.890625 62.453125 56.890625 51.90625 \r\nQ 56.890625 45.015625 53.6875 40.46875 \r\nQ 50.484375 35.9375 44.390625 34.1875 \r\nz\r\nM 19.671875 64.796875 \r\nL 19.671875 38.921875 \r\nL 32.078125 38.921875 \r\nQ 39.203125 38.921875 42.84375 42.21875 \r\nQ 46.484375 45.515625 46.484375 51.90625 \r\nQ 46.484375 58.296875 42.84375 61.546875 \r\nQ 39.203125 64.796875 32.078125 64.796875 \r\nz\r\n\" id=\"DejaVuSans-82\"/>\r\n       </defs>\r\n       <use xlink:href=\"#DejaVuSans-69\"/>\r\n       <use x=\"63.183594\" xlink:href=\"#DejaVuSans-82\"/>\r\n       <use x=\"132.666016\" xlink:href=\"#DejaVuSans-82\"/>\r\n      </g>\r\n     </g>\r\n    </g>\r\n    <g id=\"xtick_2\">\r\n     <g id=\"line2d_2\">\r\n      <g>\r\n       <use style=\"stroke:#000000;stroke-width:0.8;\" x=\"130.331737\" xlink:href=\"#m67b3ef7eee\" y=\"241.718125\"/>\r\n      </g>\r\n     </g>\r\n     <g id=\"text_2\">\r\n      <!-- MAP -->\r\n      <g transform=\"translate(124.682064 269.292723)rotate(-45)scale(0.1 -0.1)\">\r\n       <defs>\r\n        <path d=\"M 9.8125 72.90625 \r\nL 24.515625 72.90625 \r\nL 43.109375 23.296875 \r\nL 61.8125 72.90625 \r\nL 76.515625 72.90625 \r\nL 76.515625 0 \r\nL 66.890625 0 \r\nL 66.890625 64.015625 \r\nL 48.09375 14.015625 \r\nL 38.1875 14.015625 \r\nL 19.390625 64.015625 \r\nL 19.390625 0 \r\nL 9.8125 0 \r\nz\r\n\" id=\"DejaVuSans-77\"/>\r\n        <path d=\"M 34.1875 63.1875 \r\nL 20.796875 26.90625 \r\nL 47.609375 26.90625 \r\nz\r\nM 28.609375 72.90625 \r\nL 39.796875 72.90625 \r\nL 67.578125 0 \r\nL 57.328125 0 \r\nL 50.6875 18.703125 \r\nL 17.828125 18.703125 \r\nL 11.1875 0 \r\nL 0.78125 0 \r\nz\r\n\" id=\"DejaVuSans-65\"/>\r\n        <path d=\"M 19.671875 64.796875 \r\nL 19.671875 37.40625 \r\nL 32.078125 37.40625 \r\nQ 38.96875 37.40625 42.71875 40.96875 \r\nQ 46.484375 44.53125 46.484375 51.125 \r\nQ 46.484375 57.671875 42.71875 61.234375 \r\nQ 38.96875 64.796875 32.078125 64.796875 \r\nz\r\nM 9.8125 72.90625 \r\nL 32.078125 72.90625 \r\nQ 44.34375 72.90625 50.609375 67.359375 \r\nQ 56.890625 61.8125 56.890625 51.125 \r\nQ 56.890625 40.328125 50.609375 34.8125 \r\nQ 44.34375 29.296875 32.078125 29.296875 \r\nL 19.671875 29.296875 \r\nL 19.671875 0 \r\nL 9.8125 0 \r\nz\r\n\" id=\"DejaVuSans-80\"/>\r\n       </defs>\r\n       <use xlink:href=\"#DejaVuSans-77\"/>\r\n       <use x=\"86.279297\" xlink:href=\"#DejaVuSans-65\"/>\r\n       <use x=\"154.6875\" xlink:href=\"#DejaVuSans-80\"/>\r\n      </g>\r\n     </g>\r\n    </g>\r\n    <g id=\"xtick_3\">\r\n     <g id=\"line2d_3\">\r\n      <g>\r\n       <use style=\"stroke:#000000;stroke-width:0.8;\" x=\"172.314976\" xlink:href=\"#m67b3ef7eee\" y=\"241.718125\"/>\r\n      </g>\r\n     </g>\r\n     <g id=\"text_3\">\r\n      <!-- Recall@1 -->\r\n      <g transform=\"translate(157.933087 286.757155)rotate(-45)scale(0.1 -0.1)\">\r\n       <defs>\r\n        <path d=\"M 56.203125 29.59375 \r\nL 56.203125 25.203125 \r\nL 14.890625 25.203125 \r\nQ 15.484375 15.921875 20.484375 11.0625 \r\nQ 25.484375 6.203125 34.421875 6.203125 \r\nQ 39.59375 6.203125 44.453125 7.46875 \r\nQ 49.3125 8.734375 54.109375 11.28125 \r\nL 54.109375 2.78125 \r\nQ 49.265625 0.734375 44.1875 -0.34375 \r\nQ 39.109375 -1.421875 33.890625 -1.421875 \r\nQ 20.796875 -1.421875 13.15625 6.1875 \r\nQ 5.515625 13.8125 5.515625 26.8125 \r\nQ 5.515625 40.234375 12.765625 48.109375 \r\nQ 20.015625 56 32.328125 56 \r\nQ 43.359375 56 49.78125 48.890625 \r\nQ 56.203125 41.796875 56.203125 29.59375 \r\nz\r\nM 47.21875 32.234375 \r\nQ 47.125 39.59375 43.09375 43.984375 \r\nQ 39.0625 48.390625 32.421875 48.390625 \r\nQ 24.90625 48.390625 20.390625 44.140625 \r\nQ 15.875 39.890625 15.1875 32.171875 \r\nz\r\n\" id=\"DejaVuSans-101\"/>\r\n        <path d=\"M 48.78125 52.59375 \r\nL 48.78125 44.1875 \r\nQ 44.96875 46.296875 41.140625 47.34375 \r\nQ 37.3125 48.390625 33.40625 48.390625 \r\nQ 24.65625 48.390625 19.8125 42.84375 \r\nQ 14.984375 37.3125 14.984375 27.296875 \r\nQ 14.984375 17.28125 19.8125 11.734375 \r\nQ 24.65625 6.203125 33.40625 6.203125 \r\nQ 37.3125 6.203125 41.140625 7.25 \r\nQ 44.96875 8.296875 48.78125 10.40625 \r\nL 48.78125 2.09375 \r\nQ 45.015625 0.34375 40.984375 -0.53125 \r\nQ 36.96875 -1.421875 32.421875 -1.421875 \r\nQ 20.0625 -1.421875 12.78125 6.34375 \r\nQ 5.515625 14.109375 5.515625 27.296875 \r\nQ 5.515625 40.671875 12.859375 48.328125 \r\nQ 20.21875 56 33.015625 56 \r\nQ 37.15625 56 41.109375 55.140625 \r\nQ 45.0625 54.296875 48.78125 52.59375 \r\nz\r\n\" id=\"DejaVuSans-99\"/>\r\n        <path d=\"M 34.28125 27.484375 \r\nQ 23.390625 27.484375 19.1875 25 \r\nQ 14.984375 22.515625 14.984375 16.5 \r\nQ 14.984375 11.71875 18.140625 8.90625 \r\nQ 21.296875 6.109375 26.703125 6.109375 \r\nQ 34.1875 6.109375 38.703125 11.40625 \r\nQ 43.21875 16.703125 43.21875 25.484375 \r\nL 43.21875 27.484375 \r\nz\r\nM 52.203125 31.203125 \r\nL 52.203125 0 \r\nL 43.21875 0 \r\nL 43.21875 8.296875 \r\nQ 40.140625 3.328125 35.546875 0.953125 \r\nQ 30.953125 -1.421875 24.3125 -1.421875 \r\nQ 15.921875 -1.421875 10.953125 3.296875 \r\nQ 6 8.015625 6 15.921875 \r\nQ 6 25.140625 12.171875 29.828125 \r\nQ 18.359375 34.515625 30.609375 34.515625 \r\nL 43.21875 34.515625 \r\nL 43.21875 35.40625 \r\nQ 43.21875 41.609375 39.140625 45 \r\nQ 35.0625 48.390625 27.6875 48.390625 \r\nQ 23 48.390625 18.546875 47.265625 \r\nQ 14.109375 46.140625 10.015625 43.890625 \r\nL 10.015625 52.203125 \r\nQ 14.9375 54.109375 19.578125 55.046875 \r\nQ 24.21875 56 28.609375 56 \r\nQ 40.484375 56 46.34375 49.84375 \r\nQ 52.203125 43.703125 52.203125 31.203125 \r\nz\r\n\" id=\"DejaVuSans-97\"/>\r\n        <path d=\"M 9.421875 75.984375 \r\nL 18.40625 75.984375 \r\nL 18.40625 0 \r\nL 9.421875 0 \r\nz\r\n\" id=\"DejaVuSans-108\"/>\r\n        <path d=\"M 37.203125 26.21875 \r\nQ 37.203125 19.234375 40.671875 15.25 \r\nQ 44.140625 11.28125 50.203125 11.28125 \r\nQ 56.203125 11.28125 59.640625 15.28125 \r\nQ 63.09375 19.28125 63.09375 26.21875 \r\nQ 63.09375 33.0625 59.578125 37.078125 \r\nQ 56.0625 41.109375 50.09375 41.109375 \r\nQ 44.1875 41.109375 40.6875 37.109375 \r\nQ 37.203125 33.109375 37.203125 26.21875 \r\nz\r\nM 63.8125 11.625 \r\nQ 60.890625 7.859375 57.109375 6.078125 \r\nQ 53.328125 4.296875 48.296875 4.296875 \r\nQ 39.890625 4.296875 34.640625 10.375 \r\nQ 29.390625 16.453125 29.390625 26.21875 \r\nQ 29.390625 35.984375 34.65625 42.078125 \r\nQ 39.9375 48.1875 48.296875 48.1875 \r\nQ 53.328125 48.1875 57.125 46.359375 \r\nQ 60.9375 44.53125 63.8125 40.828125 \r\nL 63.8125 47.21875 \r\nL 70.796875 47.21875 \r\nL 70.796875 11.28125 \r\nQ 77.9375 12.359375 81.953125 17.796875 \r\nQ 85.984375 23.25 85.984375 31.890625 \r\nQ 85.984375 37.109375 84.4375 41.703125 \r\nQ 82.90625 46.296875 79.78125 50.203125 \r\nQ 74.703125 56.59375 67.40625 59.984375 \r\nQ 60.109375 63.375 51.515625 63.375 \r\nQ 45.515625 63.375 39.984375 61.78125 \r\nQ 34.46875 60.203125 29.78125 57.078125 \r\nQ 22.125 52.09375 17.796875 44.015625 \r\nQ 13.484375 35.9375 13.484375 26.515625 \r\nQ 13.484375 18.75 16.28125 11.953125 \r\nQ 19.09375 5.171875 24.421875 0 \r\nQ 29.546875 -5.078125 36.28125 -7.734375 \r\nQ 43.015625 -10.40625 50.6875 -10.40625 \r\nQ 56.984375 -10.40625 63.0625 -8.28125 \r\nQ 69.140625 -6.15625 74.21875 -2.203125 \r\nL 78.609375 -7.625 \r\nQ 72.515625 -12.359375 65.3125 -14.875 \r\nQ 58.109375 -17.390625 50.6875 -17.390625 \r\nQ 41.65625 -17.390625 33.640625 -14.1875 \r\nQ 25.640625 -10.984375 19.390625 -4.890625 \r\nQ 13.140625 1.21875 9.859375 9.25 \r\nQ 6.59375 17.28125 6.59375 26.515625 \r\nQ 6.59375 35.40625 9.90625 43.453125 \r\nQ 13.234375 51.515625 19.390625 57.625 \r\nQ 25.6875 63.8125 33.9375 67.109375 \r\nQ 42.1875 70.40625 51.421875 70.40625 \r\nQ 61.765625 70.40625 70.625 66.15625 \r\nQ 79.5 61.921875 85.5 54.109375 \r\nQ 89.15625 49.3125 91.078125 43.703125 \r\nQ 93.015625 38.09375 93.015625 32.078125 \r\nQ 93.015625 19.234375 85.25 11.8125 \r\nQ 77.484375 4.390625 63.8125 4.109375 \r\nz\r\n\" id=\"DejaVuSans-64\"/>\r\n        <path d=\"M 12.40625 8.296875 \r\nL 28.515625 8.296875 \r\nL 28.515625 63.921875 \r\nL 10.984375 60.40625 \r\nL 10.984375 69.390625 \r\nL 28.421875 72.90625 \r\nL 38.28125 72.90625 \r\nL 38.28125 8.296875 \r\nL 54.390625 8.296875 \r\nL 54.390625 0 \r\nL 12.40625 0 \r\nz\r\n\" id=\"DejaVuSans-49\"/>\r\n       </defs>\r\n       <use xlink:href=\"#DejaVuSans-82\"/>\r\n       <use x=\"64.982422\" xlink:href=\"#DejaVuSans-101\"/>\r\n       <use x=\"126.505859\" xlink:href=\"#DejaVuSans-99\"/>\r\n       <use x=\"181.486328\" xlink:href=\"#DejaVuSans-97\"/>\r\n       <use x=\"242.765625\" xlink:href=\"#DejaVuSans-108\"/>\r\n       <use x=\"270.548828\" xlink:href=\"#DejaVuSans-108\"/>\r\n       <use x=\"298.332031\" xlink:href=\"#DejaVuSans-64\"/>\r\n       <use x=\"398.332031\" xlink:href=\"#DejaVuSans-49\"/>\r\n      </g>\r\n     </g>\r\n    </g>\r\n    <g id=\"xtick_4\">\r\n     <g id=\"line2d_4\">\r\n      <g>\r\n       <use style=\"stroke:#000000;stroke-width:0.8;\" x=\"214.298216\" xlink:href=\"#m67b3ef7eee\" y=\"241.718125\"/>\r\n      </g>\r\n     </g>\r\n     <g id=\"text_4\">\r\n      <!-- Recall@5 -->\r\n      <g transform=\"translate(199.916327 286.757155)rotate(-45)scale(0.1 -0.1)\">\r\n       <defs>\r\n        <path d=\"M 10.796875 72.90625 \r\nL 49.515625 72.90625 \r\nL 49.515625 64.59375 \r\nL 19.828125 64.59375 \r\nL 19.828125 46.734375 \r\nQ 21.96875 47.46875 24.109375 47.828125 \r\nQ 26.265625 48.1875 28.421875 48.1875 \r\nQ 40.625 48.1875 47.75 41.5 \r\nQ 54.890625 34.8125 54.890625 23.390625 \r\nQ 54.890625 11.625 47.5625 5.09375 \r\nQ 40.234375 -1.421875 26.90625 -1.421875 \r\nQ 22.3125 -1.421875 17.546875 -0.640625 \r\nQ 12.796875 0.140625 7.71875 1.703125 \r\nL 7.71875 11.625 \r\nQ 12.109375 9.234375 16.796875 8.0625 \r\nQ 21.484375 6.890625 26.703125 6.890625 \r\nQ 35.15625 6.890625 40.078125 11.328125 \r\nQ 45.015625 15.765625 45.015625 23.390625 \r\nQ 45.015625 31 40.078125 35.4375 \r\nQ 35.15625 39.890625 26.703125 39.890625 \r\nQ 22.75 39.890625 18.8125 39.015625 \r\nQ 14.890625 38.140625 10.796875 36.28125 \r\nz\r\n\" id=\"DejaVuSans-53\"/>\r\n       </defs>\r\n       <use xlink:href=\"#DejaVuSans-82\"/>\r\n       <use x=\"64.982422\" xlink:href=\"#DejaVuSans-101\"/>\r\n       <use x=\"126.505859\" xlink:href=\"#DejaVuSans-99\"/>\r\n       <use x=\"181.486328\" xlink:href=\"#DejaVuSans-97\"/>\r\n       <use x=\"242.765625\" xlink:href=\"#DejaVuSans-108\"/>\r\n       <use x=\"270.548828\" xlink:href=\"#DejaVuSans-108\"/>\r\n       <use x=\"298.332031\" xlink:href=\"#DejaVuSans-64\"/>\r\n       <use x=\"398.332031\" xlink:href=\"#DejaVuSans-53\"/>\r\n      </g>\r\n     </g>\r\n    </g>\r\n    <g id=\"xtick_5\">\r\n     <g id=\"line2d_5\">\r\n      <g>\r\n       <use style=\"stroke:#000000;stroke-width:0.8;\" x=\"256.281455\" xlink:href=\"#m67b3ef7eee\" y=\"241.718125\"/>\r\n      </g>\r\n     </g>\r\n     <g id=\"text_5\">\r\n      <!-- Recall@10 -->\r\n      <g transform=\"translate(239.650083 291.256122)rotate(-45)scale(0.1 -0.1)\">\r\n       <defs>\r\n        <path d=\"M 31.78125 66.40625 \r\nQ 24.171875 66.40625 20.328125 58.90625 \r\nQ 16.5 51.421875 16.5 36.375 \r\nQ 16.5 21.390625 20.328125 13.890625 \r\nQ 24.171875 6.390625 31.78125 6.390625 \r\nQ 39.453125 6.390625 43.28125 13.890625 \r\nQ 47.125 21.390625 47.125 36.375 \r\nQ 47.125 51.421875 43.28125 58.90625 \r\nQ 39.453125 66.40625 31.78125 66.40625 \r\nz\r\nM 31.78125 74.21875 \r\nQ 44.046875 74.21875 50.515625 64.515625 \r\nQ 56.984375 54.828125 56.984375 36.375 \r\nQ 56.984375 17.96875 50.515625 8.265625 \r\nQ 44.046875 -1.421875 31.78125 -1.421875 \r\nQ 19.53125 -1.421875 13.0625 8.265625 \r\nQ 6.59375 17.96875 6.59375 36.375 \r\nQ 6.59375 54.828125 13.0625 64.515625 \r\nQ 19.53125 74.21875 31.78125 74.21875 \r\nz\r\n\" id=\"DejaVuSans-48\"/>\r\n       </defs>\r\n       <use xlink:href=\"#DejaVuSans-82\"/>\r\n       <use x=\"64.982422\" xlink:href=\"#DejaVuSans-101\"/>\r\n       <use x=\"126.505859\" xlink:href=\"#DejaVuSans-99\"/>\r\n       <use x=\"181.486328\" xlink:href=\"#DejaVuSans-97\"/>\r\n       <use x=\"242.765625\" xlink:href=\"#DejaVuSans-108\"/>\r\n       <use x=\"270.548828\" xlink:href=\"#DejaVuSans-108\"/>\r\n       <use x=\"298.332031\" xlink:href=\"#DejaVuSans-64\"/>\r\n       <use x=\"398.332031\" xlink:href=\"#DejaVuSans-49\"/>\r\n       <use x=\"461.955078\" xlink:href=\"#DejaVuSans-48\"/>\r\n      </g>\r\n     </g>\r\n    </g>\r\n    <g id=\"xtick_6\">\r\n     <g id=\"line2d_6\">\r\n      <g>\r\n       <use style=\"stroke:#000000;stroke-width:0.8;\" x=\"298.264694\" xlink:href=\"#m67b3ef7eee\" y=\"241.718125\"/>\r\n      </g>\r\n     </g>\r\n     <g id=\"text_6\">\r\n      <!-- Precision@1 -->\r\n      <g transform=\"translate(278.657397 297.207973)rotate(-45)scale(0.1 -0.1)\">\r\n       <defs>\r\n        <path d=\"M 41.109375 46.296875 \r\nQ 39.59375 47.171875 37.8125 47.578125 \r\nQ 36.03125 48 33.890625 48 \r\nQ 26.265625 48 22.1875 43.046875 \r\nQ 18.109375 38.09375 18.109375 28.8125 \r\nL 18.109375 0 \r\nL 9.078125 0 \r\nL 9.078125 54.6875 \r\nL 18.109375 54.6875 \r\nL 18.109375 46.1875 \r\nQ 20.953125 51.171875 25.484375 53.578125 \r\nQ 30.03125 56 36.53125 56 \r\nQ 37.453125 56 38.578125 55.875 \r\nQ 39.703125 55.765625 41.0625 55.515625 \r\nz\r\n\" id=\"DejaVuSans-114\"/>\r\n        <path d=\"M 9.421875 54.6875 \r\nL 18.40625 54.6875 \r\nL 18.40625 0 \r\nL 9.421875 0 \r\nz\r\nM 9.421875 75.984375 \r\nL 18.40625 75.984375 \r\nL 18.40625 64.59375 \r\nL 9.421875 64.59375 \r\nz\r\n\" id=\"DejaVuSans-105\"/>\r\n        <path d=\"M 44.28125 53.078125 \r\nL 44.28125 44.578125 \r\nQ 40.484375 46.53125 36.375 47.5 \r\nQ 32.28125 48.484375 27.875 48.484375 \r\nQ 21.1875 48.484375 17.84375 46.4375 \r\nQ 14.5 44.390625 14.5 40.28125 \r\nQ 14.5 37.15625 16.890625 35.375 \r\nQ 19.28125 33.59375 26.515625 31.984375 \r\nL 29.59375 31.296875 \r\nQ 39.15625 29.25 43.1875 25.515625 \r\nQ 47.21875 21.78125 47.21875 15.09375 \r\nQ 47.21875 7.46875 41.1875 3.015625 \r\nQ 35.15625 -1.421875 24.609375 -1.421875 \r\nQ 20.21875 -1.421875 15.453125 -0.5625 \r\nQ 10.6875 0.296875 5.421875 2 \r\nL 5.421875 11.28125 \r\nQ 10.40625 8.6875 15.234375 7.390625 \r\nQ 20.0625 6.109375 24.8125 6.109375 \r\nQ 31.15625 6.109375 34.5625 8.28125 \r\nQ 37.984375 10.453125 37.984375 14.40625 \r\nQ 37.984375 18.0625 35.515625 20.015625 \r\nQ 33.0625 21.96875 24.703125 23.78125 \r\nL 21.578125 24.515625 \r\nQ 13.234375 26.265625 9.515625 29.90625 \r\nQ 5.8125 33.546875 5.8125 39.890625 \r\nQ 5.8125 47.609375 11.28125 51.796875 \r\nQ 16.75 56 26.8125 56 \r\nQ 31.78125 56 36.171875 55.265625 \r\nQ 40.578125 54.546875 44.28125 53.078125 \r\nz\r\n\" id=\"DejaVuSans-115\"/>\r\n        <path d=\"M 30.609375 48.390625 \r\nQ 23.390625 48.390625 19.1875 42.75 \r\nQ 14.984375 37.109375 14.984375 27.296875 \r\nQ 14.984375 17.484375 19.15625 11.84375 \r\nQ 23.34375 6.203125 30.609375 6.203125 \r\nQ 37.796875 6.203125 41.984375 11.859375 \r\nQ 46.1875 17.53125 46.1875 27.296875 \r\nQ 46.1875 37.015625 41.984375 42.703125 \r\nQ 37.796875 48.390625 30.609375 48.390625 \r\nz\r\nM 30.609375 56 \r\nQ 42.328125 56 49.015625 48.375 \r\nQ 55.71875 40.765625 55.71875 27.296875 \r\nQ 55.71875 13.875 49.015625 6.21875 \r\nQ 42.328125 -1.421875 30.609375 -1.421875 \r\nQ 18.84375 -1.421875 12.171875 6.21875 \r\nQ 5.515625 13.875 5.515625 27.296875 \r\nQ 5.515625 40.765625 12.171875 48.375 \r\nQ 18.84375 56 30.609375 56 \r\nz\r\n\" id=\"DejaVuSans-111\"/>\r\n        <path d=\"M 54.890625 33.015625 \r\nL 54.890625 0 \r\nL 45.90625 0 \r\nL 45.90625 32.71875 \r\nQ 45.90625 40.484375 42.875 44.328125 \r\nQ 39.84375 48.1875 33.796875 48.1875 \r\nQ 26.515625 48.1875 22.3125 43.546875 \r\nQ 18.109375 38.921875 18.109375 30.90625 \r\nL 18.109375 0 \r\nL 9.078125 0 \r\nL 9.078125 54.6875 \r\nL 18.109375 54.6875 \r\nL 18.109375 46.1875 \r\nQ 21.34375 51.125 25.703125 53.5625 \r\nQ 30.078125 56 35.796875 56 \r\nQ 45.21875 56 50.046875 50.171875 \r\nQ 54.890625 44.34375 54.890625 33.015625 \r\nz\r\n\" id=\"DejaVuSans-110\"/>\r\n       </defs>\r\n       <use xlink:href=\"#DejaVuSans-80\"/>\r\n       <use x=\"58.552734\" xlink:href=\"#DejaVuSans-114\"/>\r\n       <use x=\"97.416016\" xlink:href=\"#DejaVuSans-101\"/>\r\n       <use x=\"158.939453\" xlink:href=\"#DejaVuSans-99\"/>\r\n       <use x=\"213.919922\" xlink:href=\"#DejaVuSans-105\"/>\r\n       <use x=\"241.703125\" xlink:href=\"#DejaVuSans-115\"/>\r\n       <use x=\"293.802734\" xlink:href=\"#DejaVuSans-105\"/>\r\n       <use x=\"321.585938\" xlink:href=\"#DejaVuSans-111\"/>\r\n       <use x=\"382.767578\" xlink:href=\"#DejaVuSans-110\"/>\r\n       <use x=\"446.146484\" xlink:href=\"#DejaVuSans-64\"/>\r\n       <use x=\"546.146484\" xlink:href=\"#DejaVuSans-49\"/>\r\n      </g>\r\n     </g>\r\n    </g>\r\n    <g id=\"xtick_7\">\r\n     <g id=\"line2d_7\">\r\n      <g>\r\n       <use style=\"stroke:#000000;stroke-width:0.8;\" x=\"340.247934\" xlink:href=\"#m67b3ef7eee\" y=\"241.718125\"/>\r\n      </g>\r\n     </g>\r\n     <g id=\"text_7\">\r\n      <!-- Precision@5 -->\r\n      <g transform=\"translate(320.640636 297.207973)rotate(-45)scale(0.1 -0.1)\">\r\n       <use xlink:href=\"#DejaVuSans-80\"/>\r\n       <use x=\"58.552734\" xlink:href=\"#DejaVuSans-114\"/>\r\n       <use x=\"97.416016\" xlink:href=\"#DejaVuSans-101\"/>\r\n       <use x=\"158.939453\" xlink:href=\"#DejaVuSans-99\"/>\r\n       <use x=\"213.919922\" xlink:href=\"#DejaVuSans-105\"/>\r\n       <use x=\"241.703125\" xlink:href=\"#DejaVuSans-115\"/>\r\n       <use x=\"293.802734\" xlink:href=\"#DejaVuSans-105\"/>\r\n       <use x=\"321.585938\" xlink:href=\"#DejaVuSans-111\"/>\r\n       <use x=\"382.767578\" xlink:href=\"#DejaVuSans-110\"/>\r\n       <use x=\"446.146484\" xlink:href=\"#DejaVuSans-64\"/>\r\n       <use x=\"546.146484\" xlink:href=\"#DejaVuSans-53\"/>\r\n      </g>\r\n     </g>\r\n    </g>\r\n    <g id=\"xtick_8\">\r\n     <g id=\"line2d_8\">\r\n      <g>\r\n       <use style=\"stroke:#000000;stroke-width:0.8;\" x=\"382.231173\" xlink:href=\"#m67b3ef7eee\" y=\"241.718125\"/>\r\n      </g>\r\n     </g>\r\n     <g id=\"text_8\">\r\n      <!-- Precision@10 -->\r\n      <g transform=\"translate(360.374392 301.706939)rotate(-45)scale(0.1 -0.1)\">\r\n       <use xlink:href=\"#DejaVuSans-80\"/>\r\n       <use x=\"58.552734\" xlink:href=\"#DejaVuSans-114\"/>\r\n       <use x=\"97.416016\" xlink:href=\"#DejaVuSans-101\"/>\r\n       <use x=\"158.939453\" xlink:href=\"#DejaVuSans-99\"/>\r\n       <use x=\"213.919922\" xlink:href=\"#DejaVuSans-105\"/>\r\n       <use x=\"241.703125\" xlink:href=\"#DejaVuSans-115\"/>\r\n       <use x=\"293.802734\" xlink:href=\"#DejaVuSans-105\"/>\r\n       <use x=\"321.585938\" xlink:href=\"#DejaVuSans-111\"/>\r\n       <use x=\"382.767578\" xlink:href=\"#DejaVuSans-110\"/>\r\n       <use x=\"446.146484\" xlink:href=\"#DejaVuSans-64\"/>\r\n       <use x=\"546.146484\" xlink:href=\"#DejaVuSans-49\"/>\r\n       <use x=\"609.769531\" xlink:href=\"#DejaVuSans-48\"/>\r\n      </g>\r\n     </g>\r\n    </g>\r\n    <g id=\"text_9\">\r\n     <!-- Metrics -->\r\n     <g transform=\"translate(209.79355 314.775938)scale(0.1 -0.1)\">\r\n      <defs>\r\n       <path d=\"M 18.3125 70.21875 \r\nL 18.3125 54.6875 \r\nL 36.8125 54.6875 \r\nL 36.8125 47.703125 \r\nL 18.3125 47.703125 \r\nL 18.3125 18.015625 \r\nQ 18.3125 11.328125 20.140625 9.421875 \r\nQ 21.96875 7.515625 27.59375 7.515625 \r\nL 36.8125 7.515625 \r\nL 36.8125 0 \r\nL 27.59375 0 \r\nQ 17.1875 0 13.234375 3.875 \r\nQ 9.28125 7.765625 9.28125 18.015625 \r\nL 9.28125 47.703125 \r\nL 2.6875 47.703125 \r\nL 2.6875 54.6875 \r\nL 9.28125 54.6875 \r\nL 9.28125 70.21875 \r\nz\r\n\" id=\"DejaVuSans-116\"/>\r\n      </defs>\r\n      <use xlink:href=\"#DejaVuSans-77\"/>\r\n      <use x=\"86.279297\" xlink:href=\"#DejaVuSans-101\"/>\r\n      <use x=\"147.802734\" xlink:href=\"#DejaVuSans-116\"/>\r\n      <use x=\"187.011719\" xlink:href=\"#DejaVuSans-114\"/>\r\n      <use x=\"228.125\" xlink:href=\"#DejaVuSans-105\"/>\r\n      <use x=\"255.908203\" xlink:href=\"#DejaVuSans-99\"/>\r\n      <use x=\"310.888672\" xlink:href=\"#DejaVuSans-115\"/>\r\n     </g>\r\n    </g>\r\n   </g>\r\n   <g id=\"matplotlib.axis_2\">\r\n    <g id=\"ytick_1\">\r\n     <g id=\"line2d_9\">\r\n      <defs>\r\n       <path d=\"M 0 0 \r\nL -3.5 0 \r\n\" id=\"m550d0208d0\" style=\"stroke:#000000;stroke-width:0.8;\"/>\r\n      </defs>\r\n      <g>\r\n       <use style=\"stroke:#000000;stroke-width:0.8;\" x=\"50.14375\" xlink:href=\"#m550d0208d0\" y=\"241.718125\"/>\r\n      </g>\r\n     </g>\r\n     <g id=\"text_10\">\r\n      <!-- 0.00 -->\r\n      <g transform=\"translate(20.878125 245.517344)scale(0.1 -0.1)\">\r\n       <defs>\r\n        <path d=\"M 10.6875 12.40625 \r\nL 21 12.40625 \r\nL 21 0 \r\nL 10.6875 0 \r\nz\r\n\" id=\"DejaVuSans-46\"/>\r\n       </defs>\r\n       <use xlink:href=\"#DejaVuSans-48\"/>\r\n       <use x=\"63.623047\" xlink:href=\"#DejaVuSans-46\"/>\r\n       <use x=\"95.410156\" xlink:href=\"#DejaVuSans-48\"/>\r\n       <use x=\"159.033203\" xlink:href=\"#DejaVuSans-48\"/>\r\n      </g>\r\n     </g>\r\n    </g>\r\n    <g id=\"ytick_2\">\r\n     <g id=\"line2d_10\">\r\n      <g>\r\n       <use style=\"stroke:#000000;stroke-width:0.8;\" x=\"50.14375\" xlink:href=\"#m550d0208d0\" y=\"205.499712\"/>\r\n      </g>\r\n     </g>\r\n     <g id=\"text_11\">\r\n      <!-- 0.02 -->\r\n      <g transform=\"translate(20.878125 209.298931)scale(0.1 -0.1)\">\r\n       <defs>\r\n        <path d=\"M 19.1875 8.296875 \r\nL 53.609375 8.296875 \r\nL 53.609375 0 \r\nL 7.328125 0 \r\nL 7.328125 8.296875 \r\nQ 12.9375 14.109375 22.625 23.890625 \r\nQ 32.328125 33.6875 34.8125 36.53125 \r\nQ 39.546875 41.84375 41.421875 45.53125 \r\nQ 43.3125 49.21875 43.3125 52.78125 \r\nQ 43.3125 58.59375 39.234375 62.25 \r\nQ 35.15625 65.921875 28.609375 65.921875 \r\nQ 23.96875 65.921875 18.8125 64.3125 \r\nQ 13.671875 62.703125 7.8125 59.421875 \r\nL 7.8125 69.390625 \r\nQ 13.765625 71.78125 18.9375 73 \r\nQ 24.125 74.21875 28.421875 74.21875 \r\nQ 39.75 74.21875 46.484375 68.546875 \r\nQ 53.21875 62.890625 53.21875 53.421875 \r\nQ 53.21875 48.921875 51.53125 44.890625 \r\nQ 49.859375 40.875 45.40625 35.40625 \r\nQ 44.1875 33.984375 37.640625 27.21875 \r\nQ 31.109375 20.453125 19.1875 8.296875 \r\nz\r\n\" id=\"DejaVuSans-50\"/>\r\n       </defs>\r\n       <use xlink:href=\"#DejaVuSans-48\"/>\r\n       <use x=\"63.623047\" xlink:href=\"#DejaVuSans-46\"/>\r\n       <use x=\"95.410156\" xlink:href=\"#DejaVuSans-48\"/>\r\n       <use x=\"159.033203\" xlink:href=\"#DejaVuSans-50\"/>\r\n      </g>\r\n     </g>\r\n    </g>\r\n    <g id=\"ytick_3\">\r\n     <g id=\"line2d_11\">\r\n      <g>\r\n       <use style=\"stroke:#000000;stroke-width:0.8;\" x=\"50.14375\" xlink:href=\"#m550d0208d0\" y=\"169.2813\"/>\r\n      </g>\r\n     </g>\r\n     <g id=\"text_12\">\r\n      <!-- 0.04 -->\r\n      <g transform=\"translate(20.878125 173.080519)scale(0.1 -0.1)\">\r\n       <defs>\r\n        <path d=\"M 37.796875 64.3125 \r\nL 12.890625 25.390625 \r\nL 37.796875 25.390625 \r\nz\r\nM 35.203125 72.90625 \r\nL 47.609375 72.90625 \r\nL 47.609375 25.390625 \r\nL 58.015625 25.390625 \r\nL 58.015625 17.1875 \r\nL 47.609375 17.1875 \r\nL 47.609375 0 \r\nL 37.796875 0 \r\nL 37.796875 17.1875 \r\nL 4.890625 17.1875 \r\nL 4.890625 26.703125 \r\nz\r\n\" id=\"DejaVuSans-52\"/>\r\n       </defs>\r\n       <use xlink:href=\"#DejaVuSans-48\"/>\r\n       <use x=\"63.623047\" xlink:href=\"#DejaVuSans-46\"/>\r\n       <use x=\"95.410156\" xlink:href=\"#DejaVuSans-48\"/>\r\n       <use x=\"159.033203\" xlink:href=\"#DejaVuSans-52\"/>\r\n      </g>\r\n     </g>\r\n    </g>\r\n    <g id=\"ytick_4\">\r\n     <g id=\"line2d_12\">\r\n      <g>\r\n       <use style=\"stroke:#000000;stroke-width:0.8;\" x=\"50.14375\" xlink:href=\"#m550d0208d0\" y=\"133.062887\"/>\r\n      </g>\r\n     </g>\r\n     <g id=\"text_13\">\r\n      <!-- 0.06 -->\r\n      <g transform=\"translate(20.878125 136.862106)scale(0.1 -0.1)\">\r\n       <defs>\r\n        <path d=\"M 33.015625 40.375 \r\nQ 26.375 40.375 22.484375 35.828125 \r\nQ 18.609375 31.296875 18.609375 23.390625 \r\nQ 18.609375 15.53125 22.484375 10.953125 \r\nQ 26.375 6.390625 33.015625 6.390625 \r\nQ 39.65625 6.390625 43.53125 10.953125 \r\nQ 47.40625 15.53125 47.40625 23.390625 \r\nQ 47.40625 31.296875 43.53125 35.828125 \r\nQ 39.65625 40.375 33.015625 40.375 \r\nz\r\nM 52.59375 71.296875 \r\nL 52.59375 62.3125 \r\nQ 48.875 64.0625 45.09375 64.984375 \r\nQ 41.3125 65.921875 37.59375 65.921875 \r\nQ 27.828125 65.921875 22.671875 59.328125 \r\nQ 17.53125 52.734375 16.796875 39.40625 \r\nQ 19.671875 43.65625 24.015625 45.921875 \r\nQ 28.375 48.1875 33.59375 48.1875 \r\nQ 44.578125 48.1875 50.953125 41.515625 \r\nQ 57.328125 34.859375 57.328125 23.390625 \r\nQ 57.328125 12.15625 50.6875 5.359375 \r\nQ 44.046875 -1.421875 33.015625 -1.421875 \r\nQ 20.359375 -1.421875 13.671875 8.265625 \r\nQ 6.984375 17.96875 6.984375 36.375 \r\nQ 6.984375 53.65625 15.1875 63.9375 \r\nQ 23.390625 74.21875 37.203125 74.21875 \r\nQ 40.921875 74.21875 44.703125 73.484375 \r\nQ 48.484375 72.75 52.59375 71.296875 \r\nz\r\n\" id=\"DejaVuSans-54\"/>\r\n       </defs>\r\n       <use xlink:href=\"#DejaVuSans-48\"/>\r\n       <use x=\"63.623047\" xlink:href=\"#DejaVuSans-46\"/>\r\n       <use x=\"95.410156\" xlink:href=\"#DejaVuSans-48\"/>\r\n       <use x=\"159.033203\" xlink:href=\"#DejaVuSans-54\"/>\r\n      </g>\r\n     </g>\r\n    </g>\r\n    <g id=\"ytick_5\">\r\n     <g id=\"line2d_13\">\r\n      <g>\r\n       <use style=\"stroke:#000000;stroke-width:0.8;\" x=\"50.14375\" xlink:href=\"#m550d0208d0\" y=\"96.844475\"/>\r\n      </g>\r\n     </g>\r\n     <g id=\"text_14\">\r\n      <!-- 0.08 -->\r\n      <g transform=\"translate(20.878125 100.643694)scale(0.1 -0.1)\">\r\n       <defs>\r\n        <path d=\"M 31.78125 34.625 \r\nQ 24.75 34.625 20.71875 30.859375 \r\nQ 16.703125 27.09375 16.703125 20.515625 \r\nQ 16.703125 13.921875 20.71875 10.15625 \r\nQ 24.75 6.390625 31.78125 6.390625 \r\nQ 38.8125 6.390625 42.859375 10.171875 \r\nQ 46.921875 13.96875 46.921875 20.515625 \r\nQ 46.921875 27.09375 42.890625 30.859375 \r\nQ 38.875 34.625 31.78125 34.625 \r\nz\r\nM 21.921875 38.8125 \r\nQ 15.578125 40.375 12.03125 44.71875 \r\nQ 8.5 49.078125 8.5 55.328125 \r\nQ 8.5 64.0625 14.71875 69.140625 \r\nQ 20.953125 74.21875 31.78125 74.21875 \r\nQ 42.671875 74.21875 48.875 69.140625 \r\nQ 55.078125 64.0625 55.078125 55.328125 \r\nQ 55.078125 49.078125 51.53125 44.71875 \r\nQ 48 40.375 41.703125 38.8125 \r\nQ 48.828125 37.15625 52.796875 32.3125 \r\nQ 56.78125 27.484375 56.78125 20.515625 \r\nQ 56.78125 9.90625 50.3125 4.234375 \r\nQ 43.84375 -1.421875 31.78125 -1.421875 \r\nQ 19.734375 -1.421875 13.25 4.234375 \r\nQ 6.78125 9.90625 6.78125 20.515625 \r\nQ 6.78125 27.484375 10.78125 32.3125 \r\nQ 14.796875 37.15625 21.921875 38.8125 \r\nz\r\nM 18.3125 54.390625 \r\nQ 18.3125 48.734375 21.84375 45.5625 \r\nQ 25.390625 42.390625 31.78125 42.390625 \r\nQ 38.140625 42.390625 41.71875 45.5625 \r\nQ 45.3125 48.734375 45.3125 54.390625 \r\nQ 45.3125 60.0625 41.71875 63.234375 \r\nQ 38.140625 66.40625 31.78125 66.40625 \r\nQ 25.390625 66.40625 21.84375 63.234375 \r\nQ 18.3125 60.0625 18.3125 54.390625 \r\nz\r\n\" id=\"DejaVuSans-56\"/>\r\n       </defs>\r\n       <use xlink:href=\"#DejaVuSans-48\"/>\r\n       <use x=\"63.623047\" xlink:href=\"#DejaVuSans-46\"/>\r\n       <use x=\"95.410156\" xlink:href=\"#DejaVuSans-48\"/>\r\n       <use x=\"159.033203\" xlink:href=\"#DejaVuSans-56\"/>\r\n      </g>\r\n     </g>\r\n    </g>\r\n    <g id=\"ytick_6\">\r\n     <g id=\"line2d_14\">\r\n      <g>\r\n       <use style=\"stroke:#000000;stroke-width:0.8;\" x=\"50.14375\" xlink:href=\"#m550d0208d0\" y=\"60.626062\"/>\r\n      </g>\r\n     </g>\r\n     <g id=\"text_15\">\r\n      <!-- 0.10 -->\r\n      <g transform=\"translate(20.878125 64.425281)scale(0.1 -0.1)\">\r\n       <use xlink:href=\"#DejaVuSans-48\"/>\r\n       <use x=\"63.623047\" xlink:href=\"#DejaVuSans-46\"/>\r\n       <use x=\"95.410156\" xlink:href=\"#DejaVuSans-49\"/>\r\n       <use x=\"159.033203\" xlink:href=\"#DejaVuSans-48\"/>\r\n      </g>\r\n     </g>\r\n    </g>\r\n    <g id=\"ytick_7\">\r\n     <g id=\"line2d_15\">\r\n      <g>\r\n       <use style=\"stroke:#000000;stroke-width:0.8;\" x=\"50.14375\" xlink:href=\"#m550d0208d0\" y=\"24.40765\"/>\r\n      </g>\r\n     </g>\r\n     <g id=\"text_16\">\r\n      <!-- 0.12 -->\r\n      <g transform=\"translate(20.878125 28.206869)scale(0.1 -0.1)\">\r\n       <use xlink:href=\"#DejaVuSans-48\"/>\r\n       <use x=\"63.623047\" xlink:href=\"#DejaVuSans-46\"/>\r\n       <use x=\"95.410156\" xlink:href=\"#DejaVuSans-49\"/>\r\n       <use x=\"159.033203\" xlink:href=\"#DejaVuSans-50\"/>\r\n      </g>\r\n     </g>\r\n    </g>\r\n    <g id=\"text_17\">\r\n     <!-- Results -->\r\n     <g transform=\"translate(14.798438 150.07125)rotate(-90)scale(0.1 -0.1)\">\r\n      <defs>\r\n       <path d=\"M 8.5 21.578125 \r\nL 8.5 54.6875 \r\nL 17.484375 54.6875 \r\nL 17.484375 21.921875 \r\nQ 17.484375 14.15625 20.5 10.265625 \r\nQ 23.53125 6.390625 29.59375 6.390625 \r\nQ 36.859375 6.390625 41.078125 11.03125 \r\nQ 45.3125 15.671875 45.3125 23.6875 \r\nL 45.3125 54.6875 \r\nL 54.296875 54.6875 \r\nL 54.296875 0 \r\nL 45.3125 0 \r\nL 45.3125 8.40625 \r\nQ 42.046875 3.421875 37.71875 1 \r\nQ 33.40625 -1.421875 27.6875 -1.421875 \r\nQ 18.265625 -1.421875 13.375 4.4375 \r\nQ 8.5 10.296875 8.5 21.578125 \r\nz\r\nM 31.109375 56 \r\nz\r\n\" id=\"DejaVuSans-117\"/>\r\n      </defs>\r\n      <use xlink:href=\"#DejaVuSans-82\"/>\r\n      <use x=\"64.982422\" xlink:href=\"#DejaVuSans-101\"/>\r\n      <use x=\"126.505859\" xlink:href=\"#DejaVuSans-115\"/>\r\n      <use x=\"178.605469\" xlink:href=\"#DejaVuSans-117\"/>\r\n      <use x=\"241.984375\" xlink:href=\"#DejaVuSans-108\"/>\r\n      <use x=\"269.767578\" xlink:href=\"#DejaVuSans-116\"/>\r\n      <use x=\"308.976562\" xlink:href=\"#DejaVuSans-115\"/>\r\n     </g>\r\n    </g>\r\n   </g>\r\n   <g id=\"patch_19\">\r\n    <path d=\"M 50.14375 241.718125 \r\nL 50.14375 22.318125 \r\n\" style=\"fill:none;stroke:#000000;stroke-linecap:square;stroke-linejoin:miter;stroke-width:0.8;\"/>\r\n   </g>\r\n   <g id=\"patch_20\">\r\n    <path d=\"M 405.741787 241.718125 \r\nL 405.741787 22.318125 \r\n\" style=\"fill:none;stroke:#000000;stroke-linecap:square;stroke-linejoin:miter;stroke-width:0.8;\"/>\r\n   </g>\r\n   <g id=\"patch_21\">\r\n    <path d=\"M 50.14375 241.718125 \r\nL 405.741787 241.718125 \r\n\" style=\"fill:none;stroke:#000000;stroke-linecap:square;stroke-linejoin:miter;stroke-width:0.8;\"/>\r\n   </g>\r\n   <g id=\"patch_22\">\r\n    <path d=\"M 50.14375 22.318125 \r\nL 405.741787 22.318125 \r\n\" style=\"fill:none;stroke:#000000;stroke-linecap:square;stroke-linejoin:miter;stroke-width:0.8;\"/>\r\n   </g>\r\n   <g id=\"text_18\">\r\n    <!-- Results using NaiveQL function -->\r\n    <g transform=\"translate(134.700894 16.318125)scale(0.12 -0.12)\">\r\n     <defs>\r\n      <path id=\"DejaVuSans-32\"/>\r\n      <path d=\"M 45.40625 27.984375 \r\nQ 45.40625 37.75 41.375 43.109375 \r\nQ 37.359375 48.484375 30.078125 48.484375 \r\nQ 22.859375 48.484375 18.828125 43.109375 \r\nQ 14.796875 37.75 14.796875 27.984375 \r\nQ 14.796875 18.265625 18.828125 12.890625 \r\nQ 22.859375 7.515625 30.078125 7.515625 \r\nQ 37.359375 7.515625 41.375 12.890625 \r\nQ 45.40625 18.265625 45.40625 27.984375 \r\nz\r\nM 54.390625 6.78125 \r\nQ 54.390625 -7.171875 48.1875 -13.984375 \r\nQ 42 -20.796875 29.203125 -20.796875 \r\nQ 24.46875 -20.796875 20.265625 -20.09375 \r\nQ 16.0625 -19.390625 12.109375 -17.921875 \r\nL 12.109375 -9.1875 \r\nQ 16.0625 -11.328125 19.921875 -12.34375 \r\nQ 23.78125 -13.375 27.78125 -13.375 \r\nQ 36.625 -13.375 41.015625 -8.765625 \r\nQ 45.40625 -4.15625 45.40625 5.171875 \r\nL 45.40625 9.625 \r\nQ 42.625 4.78125 38.28125 2.390625 \r\nQ 33.9375 0 27.875 0 \r\nQ 17.828125 0 11.671875 7.65625 \r\nQ 5.515625 15.328125 5.515625 27.984375 \r\nQ 5.515625 40.671875 11.671875 48.328125 \r\nQ 17.828125 56 27.875 56 \r\nQ 33.9375 56 38.28125 53.609375 \r\nQ 42.625 51.21875 45.40625 46.390625 \r\nL 45.40625 54.6875 \r\nL 54.390625 54.6875 \r\nz\r\n\" id=\"DejaVuSans-103\"/>\r\n      <path d=\"M 9.8125 72.90625 \r\nL 23.09375 72.90625 \r\nL 55.421875 11.921875 \r\nL 55.421875 72.90625 \r\nL 64.984375 72.90625 \r\nL 64.984375 0 \r\nL 51.703125 0 \r\nL 19.390625 60.984375 \r\nL 19.390625 0 \r\nL 9.8125 0 \r\nz\r\n\" id=\"DejaVuSans-78\"/>\r\n      <path d=\"M 2.984375 54.6875 \r\nL 12.5 54.6875 \r\nL 29.59375 8.796875 \r\nL 46.6875 54.6875 \r\nL 56.203125 54.6875 \r\nL 35.6875 0 \r\nL 23.484375 0 \r\nz\r\n\" id=\"DejaVuSans-118\"/>\r\n      <path d=\"M 39.40625 66.21875 \r\nQ 28.65625 66.21875 22.328125 58.203125 \r\nQ 16.015625 50.203125 16.015625 36.375 \r\nQ 16.015625 22.609375 22.328125 14.59375 \r\nQ 28.65625 6.59375 39.40625 6.59375 \r\nQ 50.140625 6.59375 56.421875 14.59375 \r\nQ 62.703125 22.609375 62.703125 36.375 \r\nQ 62.703125 50.203125 56.421875 58.203125 \r\nQ 50.140625 66.21875 39.40625 66.21875 \r\nz\r\nM 53.21875 1.3125 \r\nL 66.21875 -12.890625 \r\nL 54.296875 -12.890625 \r\nL 43.5 -1.21875 \r\nQ 41.890625 -1.3125 41.03125 -1.359375 \r\nQ 40.1875 -1.421875 39.40625 -1.421875 \r\nQ 24.03125 -1.421875 14.8125 8.859375 \r\nQ 5.609375 19.140625 5.609375 36.375 \r\nQ 5.609375 53.65625 14.8125 63.9375 \r\nQ 24.03125 74.21875 39.40625 74.21875 \r\nQ 54.734375 74.21875 63.90625 63.9375 \r\nQ 73.09375 53.65625 73.09375 36.375 \r\nQ 73.09375 23.6875 67.984375 14.640625 \r\nQ 62.890625 5.609375 53.21875 1.3125 \r\nz\r\n\" id=\"DejaVuSans-81\"/>\r\n      <path d=\"M 9.8125 72.90625 \r\nL 19.671875 72.90625 \r\nL 19.671875 8.296875 \r\nL 55.171875 8.296875 \r\nL 55.171875 0 \r\nL 9.8125 0 \r\nz\r\n\" id=\"DejaVuSans-76\"/>\r\n      <path d=\"M 37.109375 75.984375 \r\nL 37.109375 68.5 \r\nL 28.515625 68.5 \r\nQ 23.6875 68.5 21.796875 66.546875 \r\nQ 19.921875 64.59375 19.921875 59.515625 \r\nL 19.921875 54.6875 \r\nL 34.71875 54.6875 \r\nL 34.71875 47.703125 \r\nL 19.921875 47.703125 \r\nL 19.921875 0 \r\nL 10.890625 0 \r\nL 10.890625 47.703125 \r\nL 2.296875 47.703125 \r\nL 2.296875 54.6875 \r\nL 10.890625 54.6875 \r\nL 10.890625 58.5 \r\nQ 10.890625 67.625 15.140625 71.796875 \r\nQ 19.390625 75.984375 28.609375 75.984375 \r\nz\r\n\" id=\"DejaVuSans-102\"/>\r\n     </defs>\r\n     <use xlink:href=\"#DejaVuSans-82\"/>\r\n     <use x=\"64.982422\" xlink:href=\"#DejaVuSans-101\"/>\r\n     <use x=\"126.505859\" xlink:href=\"#DejaVuSans-115\"/>\r\n     <use x=\"178.605469\" xlink:href=\"#DejaVuSans-117\"/>\r\n     <use x=\"241.984375\" xlink:href=\"#DejaVuSans-108\"/>\r\n     <use x=\"269.767578\" xlink:href=\"#DejaVuSans-116\"/>\r\n     <use x=\"308.976562\" xlink:href=\"#DejaVuSans-115\"/>\r\n     <use x=\"361.076172\" xlink:href=\"#DejaVuSans-32\"/>\r\n     <use x=\"392.863281\" xlink:href=\"#DejaVuSans-117\"/>\r\n     <use x=\"456.242188\" xlink:href=\"#DejaVuSans-115\"/>\r\n     <use x=\"508.341797\" xlink:href=\"#DejaVuSans-105\"/>\r\n     <use x=\"536.125\" xlink:href=\"#DejaVuSans-110\"/>\r\n     <use x=\"599.503906\" xlink:href=\"#DejaVuSans-103\"/>\r\n     <use x=\"662.980469\" xlink:href=\"#DejaVuSans-32\"/>\r\n     <use x=\"694.767578\" xlink:href=\"#DejaVuSans-78\"/>\r\n     <use x=\"769.572266\" xlink:href=\"#DejaVuSans-97\"/>\r\n     <use x=\"830.851562\" xlink:href=\"#DejaVuSans-105\"/>\r\n     <use x=\"858.634766\" xlink:href=\"#DejaVuSans-118\"/>\r\n     <use x=\"917.814453\" xlink:href=\"#DejaVuSans-101\"/>\r\n     <use x=\"979.337891\" xlink:href=\"#DejaVuSans-81\"/>\r\n     <use x=\"1058.048828\" xlink:href=\"#DejaVuSans-76\"/>\r\n     <use x=\"1113.761719\" xlink:href=\"#DejaVuSans-32\"/>\r\n     <use x=\"1145.548828\" xlink:href=\"#DejaVuSans-102\"/>\r\n     <use x=\"1180.753906\" xlink:href=\"#DejaVuSans-117\"/>\r\n     <use x=\"1244.132812\" xlink:href=\"#DejaVuSans-110\"/>\r\n     <use x=\"1307.511719\" xlink:href=\"#DejaVuSans-99\"/>\r\n     <use x=\"1362.492188\" xlink:href=\"#DejaVuSans-116\"/>\r\n     <use x=\"1401.701172\" xlink:href=\"#DejaVuSans-105\"/>\r\n     <use x=\"1429.484375\" xlink:href=\"#DejaVuSans-111\"/>\r\n     <use x=\"1490.666016\" xlink:href=\"#DejaVuSans-110\"/>\r\n    </g>\r\n   </g>\r\n   <g id=\"legend_1\">\r\n    <g id=\"patch_23\">\r\n     <path d=\"M 178.396675 59.674375 \r\nL 277.488862 59.674375 \r\nQ 279.488862 59.674375 279.488862 57.674375 \r\nL 279.488862 29.318125 \r\nQ 279.488862 27.318125 277.488862 27.318125 \r\nL 178.396675 27.318125 \r\nQ 176.396675 27.318125 176.396675 29.318125 \r\nL 176.396675 57.674375 \r\nQ 176.396675 59.674375 178.396675 59.674375 \r\nz\r\n\" style=\"fill:#ffffff;opacity:0.8;stroke:#cccccc;stroke-linejoin:miter;\"/>\r\n    </g>\r\n    <g id=\"patch_24\">\r\n     <path d=\"M 180.396675 38.916563 \r\nL 200.396675 38.916563 \r\nL 200.396675 31.916563 \r\nL 180.396675 31.916563 \r\nz\r\n\" style=\"fill:#0000ff;opacity:0.8;\"/>\r\n    </g>\r\n    <g id=\"text_19\">\r\n     <!-- Index set = 1 -->\r\n     <g transform=\"translate(208.396675 38.916563)scale(0.1 -0.1)\">\r\n      <defs>\r\n       <path d=\"M 9.8125 72.90625 \r\nL 19.671875 72.90625 \r\nL 19.671875 0 \r\nL 9.8125 0 \r\nz\r\n\" id=\"DejaVuSans-73\"/>\r\n       <path d=\"M 45.40625 46.390625 \r\nL 45.40625 75.984375 \r\nL 54.390625 75.984375 \r\nL 54.390625 0 \r\nL 45.40625 0 \r\nL 45.40625 8.203125 \r\nQ 42.578125 3.328125 38.25 0.953125 \r\nQ 33.9375 -1.421875 27.875 -1.421875 \r\nQ 17.96875 -1.421875 11.734375 6.484375 \r\nQ 5.515625 14.40625 5.515625 27.296875 \r\nQ 5.515625 40.1875 11.734375 48.09375 \r\nQ 17.96875 56 27.875 56 \r\nQ 33.9375 56 38.25 53.625 \r\nQ 42.578125 51.265625 45.40625 46.390625 \r\nz\r\nM 14.796875 27.296875 \r\nQ 14.796875 17.390625 18.875 11.75 \r\nQ 22.953125 6.109375 30.078125 6.109375 \r\nQ 37.203125 6.109375 41.296875 11.75 \r\nQ 45.40625 17.390625 45.40625 27.296875 \r\nQ 45.40625 37.203125 41.296875 42.84375 \r\nQ 37.203125 48.484375 30.078125 48.484375 \r\nQ 22.953125 48.484375 18.875 42.84375 \r\nQ 14.796875 37.203125 14.796875 27.296875 \r\nz\r\n\" id=\"DejaVuSans-100\"/>\r\n       <path d=\"M 54.890625 54.6875 \r\nL 35.109375 28.078125 \r\nL 55.90625 0 \r\nL 45.3125 0 \r\nL 29.390625 21.484375 \r\nL 13.484375 0 \r\nL 2.875 0 \r\nL 24.125 28.609375 \r\nL 4.6875 54.6875 \r\nL 15.28125 54.6875 \r\nL 29.78125 35.203125 \r\nL 44.28125 54.6875 \r\nz\r\n\" id=\"DejaVuSans-120\"/>\r\n       <path d=\"M 10.59375 45.40625 \r\nL 73.1875 45.40625 \r\nL 73.1875 37.203125 \r\nL 10.59375 37.203125 \r\nz\r\nM 10.59375 25.484375 \r\nL 73.1875 25.484375 \r\nL 73.1875 17.1875 \r\nL 10.59375 17.1875 \r\nz\r\n\" id=\"DejaVuSans-61\"/>\r\n      </defs>\r\n      <use xlink:href=\"#DejaVuSans-73\"/>\r\n      <use x=\"29.492188\" xlink:href=\"#DejaVuSans-110\"/>\r\n      <use x=\"92.871094\" xlink:href=\"#DejaVuSans-100\"/>\r\n      <use x=\"156.347656\" xlink:href=\"#DejaVuSans-101\"/>\r\n      <use x=\"216.121094\" xlink:href=\"#DejaVuSans-120\"/>\r\n      <use x=\"275.300781\" xlink:href=\"#DejaVuSans-32\"/>\r\n      <use x=\"307.087891\" xlink:href=\"#DejaVuSans-115\"/>\r\n      <use x=\"359.1875\" xlink:href=\"#DejaVuSans-101\"/>\r\n      <use x=\"420.710938\" xlink:href=\"#DejaVuSans-116\"/>\r\n      <use x=\"459.919922\" xlink:href=\"#DejaVuSans-32\"/>\r\n      <use x=\"491.707031\" xlink:href=\"#DejaVuSans-61\"/>\r\n      <use x=\"575.496094\" xlink:href=\"#DejaVuSans-32\"/>\r\n      <use x=\"607.283203\" xlink:href=\"#DejaVuSans-49\"/>\r\n     </g>\r\n    </g>\r\n    <g id=\"patch_25\">\r\n     <path d=\"M 180.396675 53.594688 \r\nL 200.396675 53.594688 \r\nL 200.396675 46.594688 \r\nL 180.396675 46.594688 \r\nz\r\n\" style=\"fill:#008000;opacity:0.8;\"/>\r\n    </g>\r\n    <g id=\"text_20\">\r\n     <!-- Index set = 2 -->\r\n     <g transform=\"translate(208.396675 53.594688)scale(0.1 -0.1)\">\r\n      <use xlink:href=\"#DejaVuSans-73\"/>\r\n      <use x=\"29.492188\" xlink:href=\"#DejaVuSans-110\"/>\r\n      <use x=\"92.871094\" xlink:href=\"#DejaVuSans-100\"/>\r\n      <use x=\"156.347656\" xlink:href=\"#DejaVuSans-101\"/>\r\n      <use x=\"216.121094\" xlink:href=\"#DejaVuSans-120\"/>\r\n      <use x=\"275.300781\" xlink:href=\"#DejaVuSans-32\"/>\r\n      <use x=\"307.087891\" xlink:href=\"#DejaVuSans-115\"/>\r\n      <use x=\"359.1875\" xlink:href=\"#DejaVuSans-101\"/>\r\n      <use x=\"420.710938\" xlink:href=\"#DejaVuSans-116\"/>\r\n      <use x=\"459.919922\" xlink:href=\"#DejaVuSans-32\"/>\r\n      <use x=\"491.707031\" xlink:href=\"#DejaVuSans-61\"/>\r\n      <use x=\"575.496094\" xlink:href=\"#DejaVuSans-32\"/>\r\n      <use x=\"607.283203\" xlink:href=\"#DejaVuSans-50\"/>\r\n     </g>\r\n    </g>\r\n   </g>\r\n  </g>\r\n </g>\r\n <defs>\r\n  <clipPath id=\"p6bbe0c911e\">\r\n   <rect height=\"219.4\" width=\"355.598037\" x=\"50.14375\" y=\"22.318125\"/>\r\n  </clipPath>\r\n </defs>\r\n</svg>\r\n",
      "image/png": "[encoded data removed]"
     },
     "metadata": {
      "needs_background": "light"
     }
    },
    {
     "output_type": "stream",
     "name": "stdout",
     "text": [
      "{'ERR': 0.0074176732, 'MAP': 0.009831599, 'Recall@1': 0.0, 'Recall@5': 0.0, 'Recall@10': 0.0017482518, 'Precision@1': 0.0, 'Precision@5': 0.0, 'Precision@10': 0.0019230769}\n"
     ]
    },
    {
     "output_type": "display_data",
     "data": {
      "text/plain": "<Figure size 432x288 with 1 Axes>",
      "image/svg+xml": "<?xml version=\"1.0\" encoding=\"utf-8\" standalone=\"no\"?>\r\n<!DOCTYPE svg PUBLIC \"-//W3C//DTD SVG 1.1//EN\"\r\n  \"http://www.w3.org/Graphics/SVG/1.1/DTD/svg11.dtd\">\r\n<!-- Created with matplotlib (https://matplotlib.org/) -->\r\n<svg height=\"324.055626pt\" version=\"1.1\" viewBox=\"0 0 417.30332 324.055626\" width=\"417.30332pt\" xmlns=\"http://www.w3.org/2000/svg\" xmlns:xlink=\"http://www.w3.org/1999/xlink\">\r\n <metadata>\r\n  <rdf:RDF xmlns:cc=\"http://creativecommons.org/ns#\" xmlns:dc=\"http://purl.org/dc/elements/1.1/\" xmlns:rdf=\"http://www.w3.org/1999/02/22-rdf-syntax-ns#\">\r\n   <cc:Work>\r\n    <dc:type rdf:resource=\"http://purl.org/dc/dcmitype/StillImage\"/>\r\n    <dc:date>2021-02-15T16:54:12.307161</dc:date>\r\n    <dc:format>image/svg+xml</dc:format>\r\n    <dc:creator>\r\n     <cc:Agent>\r\n      <dc:title>Matplotlib v3.3.4, https://matplotlib.org/</dc:title>\r\n     </cc:Agent>\r\n    </dc:creator>\r\n   </cc:Work>\r\n  </rdf:RDF>\r\n </metadata>\r\n <defs>\r\n  <style type=\"text/css\">*{stroke-linecap:butt;stroke-linejoin:round;}</style>\r\n </defs>\r\n <g id=\"figure_1\">\r\n  <g id=\"patch_1\">\r\n   <path d=\"M 0 324.055626 \r\nL 417.30332 324.055626 \r\nL 417.30332 0 \r\nL 0 0 \r\nz\r\n\" style=\"fill:none;\"/>\r\n  </g>\r\n  <g id=\"axes_1\">\r\n   <g id=\"patch_2\">\r\n    <path d=\"M 56.50625 241.718125 \r\nL 405.979287 241.718125 \r\nL 405.979287 22.318125 \r\nL 56.50625 22.318125 \r\nz\r\n\" style=\"fill:#ffffff;\"/>\r\n   </g>\r\n   <g id=\"patch_3\">\r\n    <path clip-path=\"url(#pa8e7abaa2b)\" d=\"M 72.391388 241.718125 \r\nL 86.832423 241.718125 \r\nL 86.832423 84.069253 \r\nL 72.391388 84.069253 \r\nz\r\n\" style=\"fill:#0000ff;opacity:0.8;\"/>\r\n   </g>\r\n   <g id=\"patch_4\">\r\n    <path clip-path=\"url(#pa8e7abaa2b)\" d=\"M 113.651487 241.718125 \r\nL 128.092521 241.718125 \r\nL 128.092521 32.765744 \r\nL 113.651487 32.765744 \r\nz\r\n\" style=\"fill:#0000ff;opacity:0.8;\"/>\r\n   </g>\r\n   <g id=\"patch_5\">\r\n    <path clip-path=\"url(#pa8e7abaa2b)\" d=\"M 154.911586 241.718125 \r\nL 169.35262 241.718125 \r\nL 169.35262 241.718125 \r\nL 154.911586 241.718125 \r\nz\r\n\" style=\"fill:#0000ff;opacity:0.8;\"/>\r\n   </g>\r\n   <g id=\"patch_6\">\r\n    <path clip-path=\"url(#pa8e7abaa2b)\" d=\"M 196.171685 241.718125 \r\nL 210.612719 241.718125 \r\nL 210.612719 241.718125 \r\nL 196.171685 241.718125 \r\nz\r\n\" style=\"fill:#0000ff;opacity:0.8;\"/>\r\n   </g>\r\n   <g id=\"patch_7\">\r\n    <path clip-path=\"url(#pa8e7abaa2b)\" d=\"M 237.431783 241.718125 \r\nL 251.872818 241.718125 \r\nL 251.872818 204.562278 \r\nL 237.431783 204.562278 \r\nz\r\n\" style=\"fill:#0000ff;opacity:0.8;\"/>\r\n   </g>\r\n   <g id=\"patch_8\">\r\n    <path clip-path=\"url(#pa8e7abaa2b)\" d=\"M 278.691882 241.718125 \r\nL 293.132917 241.718125 \r\nL 293.132917 241.718125 \r\nL 278.691882 241.718125 \r\nz\r\n\" style=\"fill:#0000ff;opacity:0.8;\"/>\r\n   </g>\r\n   <g id=\"patch_9\">\r\n    <path clip-path=\"url(#pa8e7abaa2b)\" d=\"M 319.951981 241.718125 \r\nL 334.393016 241.718125 \r\nL 334.393016 241.718125 \r\nL 319.951981 241.718125 \r\nz\r\n\" style=\"fill:#0000ff;opacity:0.8;\"/>\r\n   </g>\r\n   <g id=\"patch_10\">\r\n    <path clip-path=\"url(#pa8e7abaa2b)\" d=\"M 361.21208 241.718125 \r\nL 375.653115 241.718125 \r\nL 375.653115 200.846696 \r\nL 361.21208 200.846696 \r\nz\r\n\" style=\"fill:#0000ff;opacity:0.8;\"/>\r\n   </g>\r\n   <g id=\"patch_11\">\r\n    <path clip-path=\"url(#pa8e7abaa2b)\" d=\"M 86.832423 241.718125 \r\nL 101.273457 241.718125 \r\nL 101.273457 167.762868 \r\nL 86.832423 167.762868 \r\nz\r\n\" style=\"fill:#008000;opacity:0.8;\"/>\r\n   </g>\r\n   <g id=\"patch_12\">\r\n    <path clip-path=\"url(#pa8e7abaa2b)\" d=\"M 128.092521 241.718125 \r\nL 142.533556 241.718125 \r\nL 142.533556 93.475248 \r\nL 128.092521 93.475248 \r\nz\r\n\" style=\"fill:#008000;opacity:0.8;\"/>\r\n   </g>\r\n   <g id=\"patch_13\">\r\n    <path clip-path=\"url(#pa8e7abaa2b)\" d=\"M 169.35262 241.718125 \r\nL 183.793655 241.718125 \r\nL 183.793655 241.718125 \r\nL 169.35262 241.718125 \r\nz\r\n\" style=\"fill:#008000;opacity:0.8;\"/>\r\n   </g>\r\n   <g id=\"patch_14\">\r\n    <path clip-path=\"url(#pa8e7abaa2b)\" d=\"M 210.612719 241.718125 \r\nL 225.053754 241.718125 \r\nL 225.053754 241.718125 \r\nL 210.612719 241.718125 \r\nz\r\n\" style=\"fill:#008000;opacity:0.8;\"/>\r\n   </g>\r\n   <g id=\"patch_15\">\r\n    <path clip-path=\"url(#pa8e7abaa2b)\" d=\"M 251.872818 241.718125 \r\nL 266.313853 241.718125 \r\nL 266.313853 241.718125 \r\nL 251.872818 241.718125 \r\nz\r\n\" style=\"fill:#008000;opacity:0.8;\"/>\r\n   </g>\r\n   <g id=\"patch_16\">\r\n    <path clip-path=\"url(#pa8e7abaa2b)\" d=\"M 293.132917 241.718125 \r\nL 307.573951 241.718125 \r\nL 307.573951 241.718125 \r\nL 293.132917 241.718125 \r\nz\r\n\" style=\"fill:#008000;opacity:0.8;\"/>\r\n   </g>\r\n   <g id=\"patch_17\">\r\n    <path clip-path=\"url(#pa8e7abaa2b)\" d=\"M 334.393016 241.718125 \r\nL 348.83405 241.718125 \r\nL 348.83405 241.718125 \r\nL 334.393016 241.718125 \r\nz\r\n\" style=\"fill:#008000;opacity:0.8;\"/>\r\n   </g>\r\n   <g id=\"patch_18\">\r\n    <path clip-path=\"url(#pa8e7abaa2b)\" d=\"M 375.653115 241.718125 \r\nL 390.094149 241.718125 \r\nL 390.094149 241.718125 \r\nL 375.653115 241.718125 \r\nz\r\n\" style=\"fill:#008000;opacity:0.8;\"/>\r\n   </g>\r\n   <g id=\"matplotlib.axis_1\">\r\n    <g id=\"xtick_1\">\r\n     <g id=\"line2d_1\">\r\n      <defs>\r\n       <path d=\"M 0 0 \r\nL 0 3.5 \r\n\" id=\"mab6738c3af\" style=\"stroke:#000000;stroke-width:0.8;\"/>\r\n      </defs>\r\n      <g>\r\n       <use style=\"stroke:#000000;stroke-width:0.8;\" x=\"94.05294\" xlink:href=\"#mab6738c3af\" y=\"241.718125\"/>\r\n      </g>\r\n     </g>\r\n     <g id=\"text_1\">\r\n      <!-- ERR -->\r\n      <g transform=\"translate(88.85681 268.385637)rotate(-45)scale(0.1 -0.1)\">\r\n       <defs>\r\n        <path d=\"M 9.8125 72.90625 \r\nL 55.90625 72.90625 \r\nL 55.90625 64.59375 \r\nL 19.671875 64.59375 \r\nL 19.671875 43.015625 \r\nL 54.390625 43.015625 \r\nL 54.390625 34.71875 \r\nL 19.671875 34.71875 \r\nL 19.671875 8.296875 \r\nL 56.78125 8.296875 \r\nL 56.78125 0 \r\nL 9.8125 0 \r\nz\r\n\" id=\"DejaVuSans-69\"/>\r\n        <path d=\"M 44.390625 34.1875 \r\nQ 47.5625 33.109375 50.5625 29.59375 \r\nQ 53.5625 26.078125 56.59375 19.921875 \r\nL 66.609375 0 \r\nL 56 0 \r\nL 46.6875 18.703125 \r\nQ 43.0625 26.03125 39.671875 28.421875 \r\nQ 36.28125 30.8125 30.421875 30.8125 \r\nL 19.671875 30.8125 \r\nL 19.671875 0 \r\nL 9.8125 0 \r\nL 9.8125 72.90625 \r\nL 32.078125 72.90625 \r\nQ 44.578125 72.90625 50.734375 67.671875 \r\nQ 56.890625 62.453125 56.890625 51.90625 \r\nQ 56.890625 45.015625 53.6875 40.46875 \r\nQ 50.484375 35.9375 44.390625 34.1875 \r\nz\r\nM 19.671875 64.796875 \r\nL 19.671875 38.921875 \r\nL 32.078125 38.921875 \r\nQ 39.203125 38.921875 42.84375 42.21875 \r\nQ 46.484375 45.515625 46.484375 51.90625 \r\nQ 46.484375 58.296875 42.84375 61.546875 \r\nQ 39.203125 64.796875 32.078125 64.796875 \r\nz\r\n\" id=\"DejaVuSans-82\"/>\r\n       </defs>\r\n       <use xlink:href=\"#DejaVuSans-69\"/>\r\n       <use x=\"63.183594\" xlink:href=\"#DejaVuSans-82\"/>\r\n       <use x=\"132.666016\" xlink:href=\"#DejaVuSans-82\"/>\r\n      </g>\r\n     </g>\r\n    </g>\r\n    <g id=\"xtick_2\">\r\n     <g id=\"line2d_2\">\r\n      <g>\r\n       <use style=\"stroke:#000000;stroke-width:0.8;\" x=\"135.313039\" xlink:href=\"#mab6738c3af\" y=\"241.718125\"/>\r\n      </g>\r\n     </g>\r\n     <g id=\"text_2\">\r\n      <!-- MAP -->\r\n      <g transform=\"translate(129.663366 269.292723)rotate(-45)scale(0.1 -0.1)\">\r\n       <defs>\r\n        <path d=\"M 9.8125 72.90625 \r\nL 24.515625 72.90625 \r\nL 43.109375 23.296875 \r\nL 61.8125 72.90625 \r\nL 76.515625 72.90625 \r\nL 76.515625 0 \r\nL 66.890625 0 \r\nL 66.890625 64.015625 \r\nL 48.09375 14.015625 \r\nL 38.1875 14.015625 \r\nL 19.390625 64.015625 \r\nL 19.390625 0 \r\nL 9.8125 0 \r\nz\r\n\" id=\"DejaVuSans-77\"/>\r\n        <path d=\"M 34.1875 63.1875 \r\nL 20.796875 26.90625 \r\nL 47.609375 26.90625 \r\nz\r\nM 28.609375 72.90625 \r\nL 39.796875 72.90625 \r\nL 67.578125 0 \r\nL 57.328125 0 \r\nL 50.6875 18.703125 \r\nL 17.828125 18.703125 \r\nL 11.1875 0 \r\nL 0.78125 0 \r\nz\r\n\" id=\"DejaVuSans-65\"/>\r\n        <path d=\"M 19.671875 64.796875 \r\nL 19.671875 37.40625 \r\nL 32.078125 37.40625 \r\nQ 38.96875 37.40625 42.71875 40.96875 \r\nQ 46.484375 44.53125 46.484375 51.125 \r\nQ 46.484375 57.671875 42.71875 61.234375 \r\nQ 38.96875 64.796875 32.078125 64.796875 \r\nz\r\nM 9.8125 72.90625 \r\nL 32.078125 72.90625 \r\nQ 44.34375 72.90625 50.609375 67.359375 \r\nQ 56.890625 61.8125 56.890625 51.125 \r\nQ 56.890625 40.328125 50.609375 34.8125 \r\nQ 44.34375 29.296875 32.078125 29.296875 \r\nL 19.671875 29.296875 \r\nL 19.671875 0 \r\nL 9.8125 0 \r\nz\r\n\" id=\"DejaVuSans-80\"/>\r\n       </defs>\r\n       <use xlink:href=\"#DejaVuSans-77\"/>\r\n       <use x=\"86.279297\" xlink:href=\"#DejaVuSans-65\"/>\r\n       <use x=\"154.6875\" xlink:href=\"#DejaVuSans-80\"/>\r\n      </g>\r\n     </g>\r\n    </g>\r\n    <g id=\"xtick_3\">\r\n     <g id=\"line2d_3\">\r\n      <g>\r\n       <use style=\"stroke:#000000;stroke-width:0.8;\" x=\"176.573138\" xlink:href=\"#mab6738c3af\" y=\"241.718125\"/>\r\n      </g>\r\n     </g>\r\n     <g id=\"text_3\">\r\n      <!-- Recall@1 -->\r\n      <g transform=\"translate(162.191249 286.757155)rotate(-45)scale(0.1 -0.1)\">\r\n       <defs>\r\n        <path d=\"M 56.203125 29.59375 \r\nL 56.203125 25.203125 \r\nL 14.890625 25.203125 \r\nQ 15.484375 15.921875 20.484375 11.0625 \r\nQ 25.484375 6.203125 34.421875 6.203125 \r\nQ 39.59375 6.203125 44.453125 7.46875 \r\nQ 49.3125 8.734375 54.109375 11.28125 \r\nL 54.109375 2.78125 \r\nQ 49.265625 0.734375 44.1875 -0.34375 \r\nQ 39.109375 -1.421875 33.890625 -1.421875 \r\nQ 20.796875 -1.421875 13.15625 6.1875 \r\nQ 5.515625 13.8125 5.515625 26.8125 \r\nQ 5.515625 40.234375 12.765625 48.109375 \r\nQ 20.015625 56 32.328125 56 \r\nQ 43.359375 56 49.78125 48.890625 \r\nQ 56.203125 41.796875 56.203125 29.59375 \r\nz\r\nM 47.21875 32.234375 \r\nQ 47.125 39.59375 43.09375 43.984375 \r\nQ 39.0625 48.390625 32.421875 48.390625 \r\nQ 24.90625 48.390625 20.390625 44.140625 \r\nQ 15.875 39.890625 15.1875 32.171875 \r\nz\r\n\" id=\"DejaVuSans-101\"/>\r\n        <path d=\"M 48.78125 52.59375 \r\nL 48.78125 44.1875 \r\nQ 44.96875 46.296875 41.140625 47.34375 \r\nQ 37.3125 48.390625 33.40625 48.390625 \r\nQ 24.65625 48.390625 19.8125 42.84375 \r\nQ 14.984375 37.3125 14.984375 27.296875 \r\nQ 14.984375 17.28125 19.8125 11.734375 \r\nQ 24.65625 6.203125 33.40625 6.203125 \r\nQ 37.3125 6.203125 41.140625 7.25 \r\nQ 44.96875 8.296875 48.78125 10.40625 \r\nL 48.78125 2.09375 \r\nQ 45.015625 0.34375 40.984375 -0.53125 \r\nQ 36.96875 -1.421875 32.421875 -1.421875 \r\nQ 20.0625 -1.421875 12.78125 6.34375 \r\nQ 5.515625 14.109375 5.515625 27.296875 \r\nQ 5.515625 40.671875 12.859375 48.328125 \r\nQ 20.21875 56 33.015625 56 \r\nQ 37.15625 56 41.109375 55.140625 \r\nQ 45.0625 54.296875 48.78125 52.59375 \r\nz\r\n\" id=\"DejaVuSans-99\"/>\r\n        <path d=\"M 34.28125 27.484375 \r\nQ 23.390625 27.484375 19.1875 25 \r\nQ 14.984375 22.515625 14.984375 16.5 \r\nQ 14.984375 11.71875 18.140625 8.90625 \r\nQ 21.296875 6.109375 26.703125 6.109375 \r\nQ 34.1875 6.109375 38.703125 11.40625 \r\nQ 43.21875 16.703125 43.21875 25.484375 \r\nL 43.21875 27.484375 \r\nz\r\nM 52.203125 31.203125 \r\nL 52.203125 0 \r\nL 43.21875 0 \r\nL 43.21875 8.296875 \r\nQ 40.140625 3.328125 35.546875 0.953125 \r\nQ 30.953125 -1.421875 24.3125 -1.421875 \r\nQ 15.921875 -1.421875 10.953125 3.296875 \r\nQ 6 8.015625 6 15.921875 \r\nQ 6 25.140625 12.171875 29.828125 \r\nQ 18.359375 34.515625 30.609375 34.515625 \r\nL 43.21875 34.515625 \r\nL 43.21875 35.40625 \r\nQ 43.21875 41.609375 39.140625 45 \r\nQ 35.0625 48.390625 27.6875 48.390625 \r\nQ 23 48.390625 18.546875 47.265625 \r\nQ 14.109375 46.140625 10.015625 43.890625 \r\nL 10.015625 52.203125 \r\nQ 14.9375 54.109375 19.578125 55.046875 \r\nQ 24.21875 56 28.609375 56 \r\nQ 40.484375 56 46.34375 49.84375 \r\nQ 52.203125 43.703125 52.203125 31.203125 \r\nz\r\n\" id=\"DejaVuSans-97\"/>\r\n        <path d=\"M 9.421875 75.984375 \r\nL 18.40625 75.984375 \r\nL 18.40625 0 \r\nL 9.421875 0 \r\nz\r\n\" id=\"DejaVuSans-108\"/>\r\n        <path d=\"M 37.203125 26.21875 \r\nQ 37.203125 19.234375 40.671875 15.25 \r\nQ 44.140625 11.28125 50.203125 11.28125 \r\nQ 56.203125 11.28125 59.640625 15.28125 \r\nQ 63.09375 19.28125 63.09375 26.21875 \r\nQ 63.09375 33.0625 59.578125 37.078125 \r\nQ 56.0625 41.109375 50.09375 41.109375 \r\nQ 44.1875 41.109375 40.6875 37.109375 \r\nQ 37.203125 33.109375 37.203125 26.21875 \r\nz\r\nM 63.8125 11.625 \r\nQ 60.890625 7.859375 57.109375 6.078125 \r\nQ 53.328125 4.296875 48.296875 4.296875 \r\nQ 39.890625 4.296875 34.640625 10.375 \r\nQ 29.390625 16.453125 29.390625 26.21875 \r\nQ 29.390625 35.984375 34.65625 42.078125 \r\nQ 39.9375 48.1875 48.296875 48.1875 \r\nQ 53.328125 48.1875 57.125 46.359375 \r\nQ 60.9375 44.53125 63.8125 40.828125 \r\nL 63.8125 47.21875 \r\nL 70.796875 47.21875 \r\nL 70.796875 11.28125 \r\nQ 77.9375 12.359375 81.953125 17.796875 \r\nQ 85.984375 23.25 85.984375 31.890625 \r\nQ 85.984375 37.109375 84.4375 41.703125 \r\nQ 82.90625 46.296875 79.78125 50.203125 \r\nQ 74.703125 56.59375 67.40625 59.984375 \r\nQ 60.109375 63.375 51.515625 63.375 \r\nQ 45.515625 63.375 39.984375 61.78125 \r\nQ 34.46875 60.203125 29.78125 57.078125 \r\nQ 22.125 52.09375 17.796875 44.015625 \r\nQ 13.484375 35.9375 13.484375 26.515625 \r\nQ 13.484375 18.75 16.28125 11.953125 \r\nQ 19.09375 5.171875 24.421875 0 \r\nQ 29.546875 -5.078125 36.28125 -7.734375 \r\nQ 43.015625 -10.40625 50.6875 -10.40625 \r\nQ 56.984375 -10.40625 63.0625 -8.28125 \r\nQ 69.140625 -6.15625 74.21875 -2.203125 \r\nL 78.609375 -7.625 \r\nQ 72.515625 -12.359375 65.3125 -14.875 \r\nQ 58.109375 -17.390625 50.6875 -17.390625 \r\nQ 41.65625 -17.390625 33.640625 -14.1875 \r\nQ 25.640625 -10.984375 19.390625 -4.890625 \r\nQ 13.140625 1.21875 9.859375 9.25 \r\nQ 6.59375 17.28125 6.59375 26.515625 \r\nQ 6.59375 35.40625 9.90625 43.453125 \r\nQ 13.234375 51.515625 19.390625 57.625 \r\nQ 25.6875 63.8125 33.9375 67.109375 \r\nQ 42.1875 70.40625 51.421875 70.40625 \r\nQ 61.765625 70.40625 70.625 66.15625 \r\nQ 79.5 61.921875 85.5 54.109375 \r\nQ 89.15625 49.3125 91.078125 43.703125 \r\nQ 93.015625 38.09375 93.015625 32.078125 \r\nQ 93.015625 19.234375 85.25 11.8125 \r\nQ 77.484375 4.390625 63.8125 4.109375 \r\nz\r\n\" id=\"DejaVuSans-64\"/>\r\n        <path d=\"M 12.40625 8.296875 \r\nL 28.515625 8.296875 \r\nL 28.515625 63.921875 \r\nL 10.984375 60.40625 \r\nL 10.984375 69.390625 \r\nL 28.421875 72.90625 \r\nL 38.28125 72.90625 \r\nL 38.28125 8.296875 \r\nL 54.390625 8.296875 \r\nL 54.390625 0 \r\nL 12.40625 0 \r\nz\r\n\" id=\"DejaVuSans-49\"/>\r\n       </defs>\r\n       <use xlink:href=\"#DejaVuSans-82\"/>\r\n       <use x=\"64.982422\" xlink:href=\"#DejaVuSans-101\"/>\r\n       <use x=\"126.505859\" xlink:href=\"#DejaVuSans-99\"/>\r\n       <use x=\"181.486328\" xlink:href=\"#DejaVuSans-97\"/>\r\n       <use x=\"242.765625\" xlink:href=\"#DejaVuSans-108\"/>\r\n       <use x=\"270.548828\" xlink:href=\"#DejaVuSans-108\"/>\r\n       <use x=\"298.332031\" xlink:href=\"#DejaVuSans-64\"/>\r\n       <use x=\"398.332031\" xlink:href=\"#DejaVuSans-49\"/>\r\n      </g>\r\n     </g>\r\n    </g>\r\n    <g id=\"xtick_4\">\r\n     <g id=\"line2d_4\">\r\n      <g>\r\n       <use style=\"stroke:#000000;stroke-width:0.8;\" x=\"217.833236\" xlink:href=\"#mab6738c3af\" y=\"241.718125\"/>\r\n      </g>\r\n     </g>\r\n     <g id=\"text_4\">\r\n      <!-- Recall@5 -->\r\n      <g transform=\"translate(203.451347 286.757155)rotate(-45)scale(0.1 -0.1)\">\r\n       <defs>\r\n        <path d=\"M 10.796875 72.90625 \r\nL 49.515625 72.90625 \r\nL 49.515625 64.59375 \r\nL 19.828125 64.59375 \r\nL 19.828125 46.734375 \r\nQ 21.96875 47.46875 24.109375 47.828125 \r\nQ 26.265625 48.1875 28.421875 48.1875 \r\nQ 40.625 48.1875 47.75 41.5 \r\nQ 54.890625 34.8125 54.890625 23.390625 \r\nQ 54.890625 11.625 47.5625 5.09375 \r\nQ 40.234375 -1.421875 26.90625 -1.421875 \r\nQ 22.3125 -1.421875 17.546875 -0.640625 \r\nQ 12.796875 0.140625 7.71875 1.703125 \r\nL 7.71875 11.625 \r\nQ 12.109375 9.234375 16.796875 8.0625 \r\nQ 21.484375 6.890625 26.703125 6.890625 \r\nQ 35.15625 6.890625 40.078125 11.328125 \r\nQ 45.015625 15.765625 45.015625 23.390625 \r\nQ 45.015625 31 40.078125 35.4375 \r\nQ 35.15625 39.890625 26.703125 39.890625 \r\nQ 22.75 39.890625 18.8125 39.015625 \r\nQ 14.890625 38.140625 10.796875 36.28125 \r\nz\r\n\" id=\"DejaVuSans-53\"/>\r\n       </defs>\r\n       <use xlink:href=\"#DejaVuSans-82\"/>\r\n       <use x=\"64.982422\" xlink:href=\"#DejaVuSans-101\"/>\r\n       <use x=\"126.505859\" xlink:href=\"#DejaVuSans-99\"/>\r\n       <use x=\"181.486328\" xlink:href=\"#DejaVuSans-97\"/>\r\n       <use x=\"242.765625\" xlink:href=\"#DejaVuSans-108\"/>\r\n       <use x=\"270.548828\" xlink:href=\"#DejaVuSans-108\"/>\r\n       <use x=\"298.332031\" xlink:href=\"#DejaVuSans-64\"/>\r\n       <use x=\"398.332031\" xlink:href=\"#DejaVuSans-53\"/>\r\n      </g>\r\n     </g>\r\n    </g>\r\n    <g id=\"xtick_5\">\r\n     <g id=\"line2d_5\">\r\n      <g>\r\n       <use style=\"stroke:#000000;stroke-width:0.8;\" x=\"259.093335\" xlink:href=\"#mab6738c3af\" y=\"241.718125\"/>\r\n      </g>\r\n     </g>\r\n     <g id=\"text_5\">\r\n      <!-- Recall@10 -->\r\n      <g transform=\"translate(242.461963 291.256122)rotate(-45)scale(0.1 -0.1)\">\r\n       <defs>\r\n        <path d=\"M 31.78125 66.40625 \r\nQ 24.171875 66.40625 20.328125 58.90625 \r\nQ 16.5 51.421875 16.5 36.375 \r\nQ 16.5 21.390625 20.328125 13.890625 \r\nQ 24.171875 6.390625 31.78125 6.390625 \r\nQ 39.453125 6.390625 43.28125 13.890625 \r\nQ 47.125 21.390625 47.125 36.375 \r\nQ 47.125 51.421875 43.28125 58.90625 \r\nQ 39.453125 66.40625 31.78125 66.40625 \r\nz\r\nM 31.78125 74.21875 \r\nQ 44.046875 74.21875 50.515625 64.515625 \r\nQ 56.984375 54.828125 56.984375 36.375 \r\nQ 56.984375 17.96875 50.515625 8.265625 \r\nQ 44.046875 -1.421875 31.78125 -1.421875 \r\nQ 19.53125 -1.421875 13.0625 8.265625 \r\nQ 6.59375 17.96875 6.59375 36.375 \r\nQ 6.59375 54.828125 13.0625 64.515625 \r\nQ 19.53125 74.21875 31.78125 74.21875 \r\nz\r\n\" id=\"DejaVuSans-48\"/>\r\n       </defs>\r\n       <use xlink:href=\"#DejaVuSans-82\"/>\r\n       <use x=\"64.982422\" xlink:href=\"#DejaVuSans-101\"/>\r\n       <use x=\"126.505859\" xlink:href=\"#DejaVuSans-99\"/>\r\n       <use x=\"181.486328\" xlink:href=\"#DejaVuSans-97\"/>\r\n       <use x=\"242.765625\" xlink:href=\"#DejaVuSans-108\"/>\r\n       <use x=\"270.548828\" xlink:href=\"#DejaVuSans-108\"/>\r\n       <use x=\"298.332031\" xlink:href=\"#DejaVuSans-64\"/>\r\n       <use x=\"398.332031\" xlink:href=\"#DejaVuSans-49\"/>\r\n       <use x=\"461.955078\" xlink:href=\"#DejaVuSans-48\"/>\r\n      </g>\r\n     </g>\r\n    </g>\r\n    <g id=\"xtick_6\">\r\n     <g id=\"line2d_6\">\r\n      <g>\r\n       <use style=\"stroke:#000000;stroke-width:0.8;\" x=\"300.353434\" xlink:href=\"#mab6738c3af\" y=\"241.718125\"/>\r\n      </g>\r\n     </g>\r\n     <g id=\"text_6\">\r\n      <!-- Precision@1 -->\r\n      <g transform=\"translate(280.746137 297.207973)rotate(-45)scale(0.1 -0.1)\">\r\n       <defs>\r\n        <path d=\"M 41.109375 46.296875 \r\nQ 39.59375 47.171875 37.8125 47.578125 \r\nQ 36.03125 48 33.890625 48 \r\nQ 26.265625 48 22.1875 43.046875 \r\nQ 18.109375 38.09375 18.109375 28.8125 \r\nL 18.109375 0 \r\nL 9.078125 0 \r\nL 9.078125 54.6875 \r\nL 18.109375 54.6875 \r\nL 18.109375 46.1875 \r\nQ 20.953125 51.171875 25.484375 53.578125 \r\nQ 30.03125 56 36.53125 56 \r\nQ 37.453125 56 38.578125 55.875 \r\nQ 39.703125 55.765625 41.0625 55.515625 \r\nz\r\n\" id=\"DejaVuSans-114\"/>\r\n        <path d=\"M 9.421875 54.6875 \r\nL 18.40625 54.6875 \r\nL 18.40625 0 \r\nL 9.421875 0 \r\nz\r\nM 9.421875 75.984375 \r\nL 18.40625 75.984375 \r\nL 18.40625 64.59375 \r\nL 9.421875 64.59375 \r\nz\r\n\" id=\"DejaVuSans-105\"/>\r\n        <path d=\"M 44.28125 53.078125 \r\nL 44.28125 44.578125 \r\nQ 40.484375 46.53125 36.375 47.5 \r\nQ 32.28125 48.484375 27.875 48.484375 \r\nQ 21.1875 48.484375 17.84375 46.4375 \r\nQ 14.5 44.390625 14.5 40.28125 \r\nQ 14.5 37.15625 16.890625 35.375 \r\nQ 19.28125 33.59375 26.515625 31.984375 \r\nL 29.59375 31.296875 \r\nQ 39.15625 29.25 43.1875 25.515625 \r\nQ 47.21875 21.78125 47.21875 15.09375 \r\nQ 47.21875 7.46875 41.1875 3.015625 \r\nQ 35.15625 -1.421875 24.609375 -1.421875 \r\nQ 20.21875 -1.421875 15.453125 -0.5625 \r\nQ 10.6875 0.296875 5.421875 2 \r\nL 5.421875 11.28125 \r\nQ 10.40625 8.6875 15.234375 7.390625 \r\nQ 20.0625 6.109375 24.8125 6.109375 \r\nQ 31.15625 6.109375 34.5625 8.28125 \r\nQ 37.984375 10.453125 37.984375 14.40625 \r\nQ 37.984375 18.0625 35.515625 20.015625 \r\nQ 33.0625 21.96875 24.703125 23.78125 \r\nL 21.578125 24.515625 \r\nQ 13.234375 26.265625 9.515625 29.90625 \r\nQ 5.8125 33.546875 5.8125 39.890625 \r\nQ 5.8125 47.609375 11.28125 51.796875 \r\nQ 16.75 56 26.8125 56 \r\nQ 31.78125 56 36.171875 55.265625 \r\nQ 40.578125 54.546875 44.28125 53.078125 \r\nz\r\n\" id=\"DejaVuSans-115\"/>\r\n        <path d=\"M 30.609375 48.390625 \r\nQ 23.390625 48.390625 19.1875 42.75 \r\nQ 14.984375 37.109375 14.984375 27.296875 \r\nQ 14.984375 17.484375 19.15625 11.84375 \r\nQ 23.34375 6.203125 30.609375 6.203125 \r\nQ 37.796875 6.203125 41.984375 11.859375 \r\nQ 46.1875 17.53125 46.1875 27.296875 \r\nQ 46.1875 37.015625 41.984375 42.703125 \r\nQ 37.796875 48.390625 30.609375 48.390625 \r\nz\r\nM 30.609375 56 \r\nQ 42.328125 56 49.015625 48.375 \r\nQ 55.71875 40.765625 55.71875 27.296875 \r\nQ 55.71875 13.875 49.015625 6.21875 \r\nQ 42.328125 -1.421875 30.609375 -1.421875 \r\nQ 18.84375 -1.421875 12.171875 6.21875 \r\nQ 5.515625 13.875 5.515625 27.296875 \r\nQ 5.515625 40.765625 12.171875 48.375 \r\nQ 18.84375 56 30.609375 56 \r\nz\r\n\" id=\"DejaVuSans-111\"/>\r\n        <path d=\"M 54.890625 33.015625 \r\nL 54.890625 0 \r\nL 45.90625 0 \r\nL 45.90625 32.71875 \r\nQ 45.90625 40.484375 42.875 44.328125 \r\nQ 39.84375 48.1875 33.796875 48.1875 \r\nQ 26.515625 48.1875 22.3125 43.546875 \r\nQ 18.109375 38.921875 18.109375 30.90625 \r\nL 18.109375 0 \r\nL 9.078125 0 \r\nL 9.078125 54.6875 \r\nL 18.109375 54.6875 \r\nL 18.109375 46.1875 \r\nQ 21.34375 51.125 25.703125 53.5625 \r\nQ 30.078125 56 35.796875 56 \r\nQ 45.21875 56 50.046875 50.171875 \r\nQ 54.890625 44.34375 54.890625 33.015625 \r\nz\r\n\" id=\"DejaVuSans-110\"/>\r\n       </defs>\r\n       <use xlink:href=\"#DejaVuSans-80\"/>\r\n       <use x=\"58.552734\" xlink:href=\"#DejaVuSans-114\"/>\r\n       <use x=\"97.416016\" xlink:href=\"#DejaVuSans-101\"/>\r\n       <use x=\"158.939453\" xlink:href=\"#DejaVuSans-99\"/>\r\n       <use x=\"213.919922\" xlink:href=\"#DejaVuSans-105\"/>\r\n       <use x=\"241.703125\" xlink:href=\"#DejaVuSans-115\"/>\r\n       <use x=\"293.802734\" xlink:href=\"#DejaVuSans-105\"/>\r\n       <use x=\"321.585938\" xlink:href=\"#DejaVuSans-111\"/>\r\n       <use x=\"382.767578\" xlink:href=\"#DejaVuSans-110\"/>\r\n       <use x=\"446.146484\" xlink:href=\"#DejaVuSans-64\"/>\r\n       <use x=\"546.146484\" xlink:href=\"#DejaVuSans-49\"/>\r\n      </g>\r\n     </g>\r\n    </g>\r\n    <g id=\"xtick_7\">\r\n     <g id=\"line2d_7\">\r\n      <g>\r\n       <use style=\"stroke:#000000;stroke-width:0.8;\" x=\"341.613533\" xlink:href=\"#mab6738c3af\" y=\"241.718125\"/>\r\n      </g>\r\n     </g>\r\n     <g id=\"text_7\">\r\n      <!-- Precision@5 -->\r\n      <g transform=\"translate(322.006235 297.207973)rotate(-45)scale(0.1 -0.1)\">\r\n       <use xlink:href=\"#DejaVuSans-80\"/>\r\n       <use x=\"58.552734\" xlink:href=\"#DejaVuSans-114\"/>\r\n       <use x=\"97.416016\" xlink:href=\"#DejaVuSans-101\"/>\r\n       <use x=\"158.939453\" xlink:href=\"#DejaVuSans-99\"/>\r\n       <use x=\"213.919922\" xlink:href=\"#DejaVuSans-105\"/>\r\n       <use x=\"241.703125\" xlink:href=\"#DejaVuSans-115\"/>\r\n       <use x=\"293.802734\" xlink:href=\"#DejaVuSans-105\"/>\r\n       <use x=\"321.585938\" xlink:href=\"#DejaVuSans-111\"/>\r\n       <use x=\"382.767578\" xlink:href=\"#DejaVuSans-110\"/>\r\n       <use x=\"446.146484\" xlink:href=\"#DejaVuSans-64\"/>\r\n       <use x=\"546.146484\" xlink:href=\"#DejaVuSans-53\"/>\r\n      </g>\r\n     </g>\r\n    </g>\r\n    <g id=\"xtick_8\">\r\n     <g id=\"line2d_8\">\r\n      <g>\r\n       <use style=\"stroke:#000000;stroke-width:0.8;\" x=\"382.873632\" xlink:href=\"#mab6738c3af\" y=\"241.718125\"/>\r\n      </g>\r\n     </g>\r\n     <g id=\"text_8\">\r\n      <!-- Precision@10 -->\r\n      <g transform=\"translate(361.016851 301.706939)rotate(-45)scale(0.1 -0.1)\">\r\n       <use xlink:href=\"#DejaVuSans-80\"/>\r\n       <use x=\"58.552734\" xlink:href=\"#DejaVuSans-114\"/>\r\n       <use x=\"97.416016\" xlink:href=\"#DejaVuSans-101\"/>\r\n       <use x=\"158.939453\" xlink:href=\"#DejaVuSans-99\"/>\r\n       <use x=\"213.919922\" xlink:href=\"#DejaVuSans-105\"/>\r\n       <use x=\"241.703125\" xlink:href=\"#DejaVuSans-115\"/>\r\n       <use x=\"293.802734\" xlink:href=\"#DejaVuSans-105\"/>\r\n       <use x=\"321.585938\" xlink:href=\"#DejaVuSans-111\"/>\r\n       <use x=\"382.767578\" xlink:href=\"#DejaVuSans-110\"/>\r\n       <use x=\"446.146484\" xlink:href=\"#DejaVuSans-64\"/>\r\n       <use x=\"546.146484\" xlink:href=\"#DejaVuSans-49\"/>\r\n       <use x=\"609.769531\" xlink:href=\"#DejaVuSans-48\"/>\r\n      </g>\r\n     </g>\r\n    </g>\r\n    <g id=\"text_9\">\r\n     <!-- Metrics -->\r\n     <g transform=\"translate(213.09355 314.775938)scale(0.1 -0.1)\">\r\n      <defs>\r\n       <path d=\"M 18.3125 70.21875 \r\nL 18.3125 54.6875 \r\nL 36.8125 54.6875 \r\nL 36.8125 47.703125 \r\nL 18.3125 47.703125 \r\nL 18.3125 18.015625 \r\nQ 18.3125 11.328125 20.140625 9.421875 \r\nQ 21.96875 7.515625 27.59375 7.515625 \r\nL 36.8125 7.515625 \r\nL 36.8125 0 \r\nL 27.59375 0 \r\nQ 17.1875 0 13.234375 3.875 \r\nQ 9.28125 7.765625 9.28125 18.015625 \r\nL 9.28125 47.703125 \r\nL 2.6875 47.703125 \r\nL 2.6875 54.6875 \r\nL 9.28125 54.6875 \r\nL 9.28125 70.21875 \r\nz\r\n\" id=\"DejaVuSans-116\"/>\r\n      </defs>\r\n      <use xlink:href=\"#DejaVuSans-77\"/>\r\n      <use x=\"86.279297\" xlink:href=\"#DejaVuSans-101\"/>\r\n      <use x=\"147.802734\" xlink:href=\"#DejaVuSans-116\"/>\r\n      <use x=\"187.011719\" xlink:href=\"#DejaVuSans-114\"/>\r\n      <use x=\"228.125\" xlink:href=\"#DejaVuSans-105\"/>\r\n      <use x=\"255.908203\" xlink:href=\"#DejaVuSans-99\"/>\r\n      <use x=\"310.888672\" xlink:href=\"#DejaVuSans-115\"/>\r\n     </g>\r\n    </g>\r\n   </g>\r\n   <g id=\"matplotlib.axis_2\">\r\n    <g id=\"ytick_1\">\r\n     <g id=\"line2d_9\">\r\n      <defs>\r\n       <path d=\"M 0 0 \r\nL -3.5 0 \r\n\" id=\"mbe850a7beb\" style=\"stroke:#000000;stroke-width:0.8;\"/>\r\n      </defs>\r\n      <g>\r\n       <use style=\"stroke:#000000;stroke-width:0.8;\" x=\"56.50625\" xlink:href=\"#mbe850a7beb\" y=\"241.718125\"/>\r\n      </g>\r\n     </g>\r\n     <g id=\"text_10\">\r\n      <!-- 0.000 -->\r\n      <g transform=\"translate(20.878125 245.517344)scale(0.1 -0.1)\">\r\n       <defs>\r\n        <path d=\"M 10.6875 12.40625 \r\nL 21 12.40625 \r\nL 21 0 \r\nL 10.6875 0 \r\nz\r\n\" id=\"DejaVuSans-46\"/>\r\n       </defs>\r\n       <use xlink:href=\"#DejaVuSans-48\"/>\r\n       <use x=\"63.623047\" xlink:href=\"#DejaVuSans-46\"/>\r\n       <use x=\"95.410156\" xlink:href=\"#DejaVuSans-48\"/>\r\n       <use x=\"159.033203\" xlink:href=\"#DejaVuSans-48\"/>\r\n       <use x=\"222.65625\" xlink:href=\"#DejaVuSans-48\"/>\r\n      </g>\r\n     </g>\r\n    </g>\r\n    <g id=\"ytick_2\">\r\n     <g id=\"line2d_10\">\r\n      <g>\r\n       <use style=\"stroke:#000000;stroke-width:0.8;\" x=\"56.50625\" xlink:href=\"#mbe850a7beb\" y=\"199.211839\"/>\r\n      </g>\r\n     </g>\r\n     <g id=\"text_11\">\r\n      <!-- 0.002 -->\r\n      <g transform=\"translate(20.878125 203.011057)scale(0.1 -0.1)\">\r\n       <defs>\r\n        <path d=\"M 19.1875 8.296875 \r\nL 53.609375 8.296875 \r\nL 53.609375 0 \r\nL 7.328125 0 \r\nL 7.328125 8.296875 \r\nQ 12.9375 14.109375 22.625 23.890625 \r\nQ 32.328125 33.6875 34.8125 36.53125 \r\nQ 39.546875 41.84375 41.421875 45.53125 \r\nQ 43.3125 49.21875 43.3125 52.78125 \r\nQ 43.3125 58.59375 39.234375 62.25 \r\nQ 35.15625 65.921875 28.609375 65.921875 \r\nQ 23.96875 65.921875 18.8125 64.3125 \r\nQ 13.671875 62.703125 7.8125 59.421875 \r\nL 7.8125 69.390625 \r\nQ 13.765625 71.78125 18.9375 73 \r\nQ 24.125 74.21875 28.421875 74.21875 \r\nQ 39.75 74.21875 46.484375 68.546875 \r\nQ 53.21875 62.890625 53.21875 53.421875 \r\nQ 53.21875 48.921875 51.53125 44.890625 \r\nQ 49.859375 40.875 45.40625 35.40625 \r\nQ 44.1875 33.984375 37.640625 27.21875 \r\nQ 31.109375 20.453125 19.1875 8.296875 \r\nz\r\n\" id=\"DejaVuSans-50\"/>\r\n       </defs>\r\n       <use xlink:href=\"#DejaVuSans-48\"/>\r\n       <use x=\"63.623047\" xlink:href=\"#DejaVuSans-46\"/>\r\n       <use x=\"95.410156\" xlink:href=\"#DejaVuSans-48\"/>\r\n       <use x=\"159.033203\" xlink:href=\"#DejaVuSans-48\"/>\r\n       <use x=\"222.65625\" xlink:href=\"#DejaVuSans-50\"/>\r\n      </g>\r\n     </g>\r\n    </g>\r\n    <g id=\"ytick_3\">\r\n     <g id=\"line2d_11\">\r\n      <g>\r\n       <use style=\"stroke:#000000;stroke-width:0.8;\" x=\"56.50625\" xlink:href=\"#mbe850a7beb\" y=\"156.705552\"/>\r\n      </g>\r\n     </g>\r\n     <g id=\"text_12\">\r\n      <!-- 0.004 -->\r\n      <g transform=\"translate(20.878125 160.504771)scale(0.1 -0.1)\">\r\n       <defs>\r\n        <path d=\"M 37.796875 64.3125 \r\nL 12.890625 25.390625 \r\nL 37.796875 25.390625 \r\nz\r\nM 35.203125 72.90625 \r\nL 47.609375 72.90625 \r\nL 47.609375 25.390625 \r\nL 58.015625 25.390625 \r\nL 58.015625 17.1875 \r\nL 47.609375 17.1875 \r\nL 47.609375 0 \r\nL 37.796875 0 \r\nL 37.796875 17.1875 \r\nL 4.890625 17.1875 \r\nL 4.890625 26.703125 \r\nz\r\n\" id=\"DejaVuSans-52\"/>\r\n       </defs>\r\n       <use xlink:href=\"#DejaVuSans-48\"/>\r\n       <use x=\"63.623047\" xlink:href=\"#DejaVuSans-46\"/>\r\n       <use x=\"95.410156\" xlink:href=\"#DejaVuSans-48\"/>\r\n       <use x=\"159.033203\" xlink:href=\"#DejaVuSans-48\"/>\r\n       <use x=\"222.65625\" xlink:href=\"#DejaVuSans-52\"/>\r\n      </g>\r\n     </g>\r\n    </g>\r\n    <g id=\"ytick_4\">\r\n     <g id=\"line2d_12\">\r\n      <g>\r\n       <use style=\"stroke:#000000;stroke-width:0.8;\" x=\"56.50625\" xlink:href=\"#mbe850a7beb\" y=\"114.199266\"/>\r\n      </g>\r\n     </g>\r\n     <g id=\"text_13\">\r\n      <!-- 0.006 -->\r\n      <g transform=\"translate(20.878125 117.998484)scale(0.1 -0.1)\">\r\n       <defs>\r\n        <path d=\"M 33.015625 40.375 \r\nQ 26.375 40.375 22.484375 35.828125 \r\nQ 18.609375 31.296875 18.609375 23.390625 \r\nQ 18.609375 15.53125 22.484375 10.953125 \r\nQ 26.375 6.390625 33.015625 6.390625 \r\nQ 39.65625 6.390625 43.53125 10.953125 \r\nQ 47.40625 15.53125 47.40625 23.390625 \r\nQ 47.40625 31.296875 43.53125 35.828125 \r\nQ 39.65625 40.375 33.015625 40.375 \r\nz\r\nM 52.59375 71.296875 \r\nL 52.59375 62.3125 \r\nQ 48.875 64.0625 45.09375 64.984375 \r\nQ 41.3125 65.921875 37.59375 65.921875 \r\nQ 27.828125 65.921875 22.671875 59.328125 \r\nQ 17.53125 52.734375 16.796875 39.40625 \r\nQ 19.671875 43.65625 24.015625 45.921875 \r\nQ 28.375 48.1875 33.59375 48.1875 \r\nQ 44.578125 48.1875 50.953125 41.515625 \r\nQ 57.328125 34.859375 57.328125 23.390625 \r\nQ 57.328125 12.15625 50.6875 5.359375 \r\nQ 44.046875 -1.421875 33.015625 -1.421875 \r\nQ 20.359375 -1.421875 13.671875 8.265625 \r\nQ 6.984375 17.96875 6.984375 36.375 \r\nQ 6.984375 53.65625 15.1875 63.9375 \r\nQ 23.390625 74.21875 37.203125 74.21875 \r\nQ 40.921875 74.21875 44.703125 73.484375 \r\nQ 48.484375 72.75 52.59375 71.296875 \r\nz\r\n\" id=\"DejaVuSans-54\"/>\r\n       </defs>\r\n       <use xlink:href=\"#DejaVuSans-48\"/>\r\n       <use x=\"63.623047\" xlink:href=\"#DejaVuSans-46\"/>\r\n       <use x=\"95.410156\" xlink:href=\"#DejaVuSans-48\"/>\r\n       <use x=\"159.033203\" xlink:href=\"#DejaVuSans-48\"/>\r\n       <use x=\"222.65625\" xlink:href=\"#DejaVuSans-54\"/>\r\n      </g>\r\n     </g>\r\n    </g>\r\n    <g id=\"ytick_5\">\r\n     <g id=\"line2d_13\">\r\n      <g>\r\n       <use style=\"stroke:#000000;stroke-width:0.8;\" x=\"56.50625\" xlink:href=\"#mbe850a7beb\" y=\"71.692979\"/>\r\n      </g>\r\n     </g>\r\n     <g id=\"text_14\">\r\n      <!-- 0.008 -->\r\n      <g transform=\"translate(20.878125 75.492198)scale(0.1 -0.1)\">\r\n       <defs>\r\n        <path d=\"M 31.78125 34.625 \r\nQ 24.75 34.625 20.71875 30.859375 \r\nQ 16.703125 27.09375 16.703125 20.515625 \r\nQ 16.703125 13.921875 20.71875 10.15625 \r\nQ 24.75 6.390625 31.78125 6.390625 \r\nQ 38.8125 6.390625 42.859375 10.171875 \r\nQ 46.921875 13.96875 46.921875 20.515625 \r\nQ 46.921875 27.09375 42.890625 30.859375 \r\nQ 38.875 34.625 31.78125 34.625 \r\nz\r\nM 21.921875 38.8125 \r\nQ 15.578125 40.375 12.03125 44.71875 \r\nQ 8.5 49.078125 8.5 55.328125 \r\nQ 8.5 64.0625 14.71875 69.140625 \r\nQ 20.953125 74.21875 31.78125 74.21875 \r\nQ 42.671875 74.21875 48.875 69.140625 \r\nQ 55.078125 64.0625 55.078125 55.328125 \r\nQ 55.078125 49.078125 51.53125 44.71875 \r\nQ 48 40.375 41.703125 38.8125 \r\nQ 48.828125 37.15625 52.796875 32.3125 \r\nQ 56.78125 27.484375 56.78125 20.515625 \r\nQ 56.78125 9.90625 50.3125 4.234375 \r\nQ 43.84375 -1.421875 31.78125 -1.421875 \r\nQ 19.734375 -1.421875 13.25 4.234375 \r\nQ 6.78125 9.90625 6.78125 20.515625 \r\nQ 6.78125 27.484375 10.78125 32.3125 \r\nQ 14.796875 37.15625 21.921875 38.8125 \r\nz\r\nM 18.3125 54.390625 \r\nQ 18.3125 48.734375 21.84375 45.5625 \r\nQ 25.390625 42.390625 31.78125 42.390625 \r\nQ 38.140625 42.390625 41.71875 45.5625 \r\nQ 45.3125 48.734375 45.3125 54.390625 \r\nQ 45.3125 60.0625 41.71875 63.234375 \r\nQ 38.140625 66.40625 31.78125 66.40625 \r\nQ 25.390625 66.40625 21.84375 63.234375 \r\nQ 18.3125 60.0625 18.3125 54.390625 \r\nz\r\n\" id=\"DejaVuSans-56\"/>\r\n       </defs>\r\n       <use xlink:href=\"#DejaVuSans-48\"/>\r\n       <use x=\"63.623047\" xlink:href=\"#DejaVuSans-46\"/>\r\n       <use x=\"95.410156\" xlink:href=\"#DejaVuSans-48\"/>\r\n       <use x=\"159.033203\" xlink:href=\"#DejaVuSans-48\"/>\r\n       <use x=\"222.65625\" xlink:href=\"#DejaVuSans-56\"/>\r\n      </g>\r\n     </g>\r\n    </g>\r\n    <g id=\"ytick_6\">\r\n     <g id=\"line2d_14\">\r\n      <g>\r\n       <use style=\"stroke:#000000;stroke-width:0.8;\" x=\"56.50625\" xlink:href=\"#mbe850a7beb\" y=\"29.186693\"/>\r\n      </g>\r\n     </g>\r\n     <g id=\"text_15\">\r\n      <!-- 0.010 -->\r\n      <g transform=\"translate(20.878125 32.985911)scale(0.1 -0.1)\">\r\n       <use xlink:href=\"#DejaVuSans-48\"/>\r\n       <use x=\"63.623047\" xlink:href=\"#DejaVuSans-46\"/>\r\n       <use x=\"95.410156\" xlink:href=\"#DejaVuSans-48\"/>\r\n       <use x=\"159.033203\" xlink:href=\"#DejaVuSans-49\"/>\r\n       <use x=\"222.65625\" xlink:href=\"#DejaVuSans-48\"/>\r\n      </g>\r\n     </g>\r\n    </g>\r\n    <g id=\"text_16\">\r\n     <!-- Results -->\r\n     <g transform=\"translate(14.798438 150.07125)rotate(-90)scale(0.1 -0.1)\">\r\n      <defs>\r\n       <path d=\"M 8.5 21.578125 \r\nL 8.5 54.6875 \r\nL 17.484375 54.6875 \r\nL 17.484375 21.921875 \r\nQ 17.484375 14.15625 20.5 10.265625 \r\nQ 23.53125 6.390625 29.59375 6.390625 \r\nQ 36.859375 6.390625 41.078125 11.03125 \r\nQ 45.3125 15.671875 45.3125 23.6875 \r\nL 45.3125 54.6875 \r\nL 54.296875 54.6875 \r\nL 54.296875 0 \r\nL 45.3125 0 \r\nL 45.3125 8.40625 \r\nQ 42.046875 3.421875 37.71875 1 \r\nQ 33.40625 -1.421875 27.6875 -1.421875 \r\nQ 18.265625 -1.421875 13.375 4.4375 \r\nQ 8.5 10.296875 8.5 21.578125 \r\nz\r\nM 31.109375 56 \r\nz\r\n\" id=\"DejaVuSans-117\"/>\r\n      </defs>\r\n      <use xlink:href=\"#DejaVuSans-82\"/>\r\n      <use x=\"64.982422\" xlink:href=\"#DejaVuSans-101\"/>\r\n      <use x=\"126.505859\" xlink:href=\"#DejaVuSans-115\"/>\r\n      <use x=\"178.605469\" xlink:href=\"#DejaVuSans-117\"/>\r\n      <use x=\"241.984375\" xlink:href=\"#DejaVuSans-108\"/>\r\n      <use x=\"269.767578\" xlink:href=\"#DejaVuSans-116\"/>\r\n      <use x=\"308.976562\" xlink:href=\"#DejaVuSans-115\"/>\r\n     </g>\r\n    </g>\r\n   </g>\r\n   <g id=\"patch_19\">\r\n    <path d=\"M 56.50625 241.718125 \r\nL 56.50625 22.318125 \r\n\" style=\"fill:none;stroke:#000000;stroke-linecap:square;stroke-linejoin:miter;stroke-width:0.8;\"/>\r\n   </g>\r\n   <g id=\"patch_20\">\r\n    <path d=\"M 405.979287 241.718125 \r\nL 405.979287 22.318125 \r\n\" style=\"fill:none;stroke:#000000;stroke-linecap:square;stroke-linejoin:miter;stroke-width:0.8;\"/>\r\n   </g>\r\n   <g id=\"patch_21\">\r\n    <path d=\"M 56.50625 241.718125 \r\nL 405.979287 241.718125 \r\n\" style=\"fill:none;stroke:#000000;stroke-linecap:square;stroke-linejoin:miter;stroke-width:0.8;\"/>\r\n   </g>\r\n   <g id=\"patch_22\">\r\n    <path d=\"M 56.50625 22.318125 \r\nL 405.979287 22.318125 \r\n\" style=\"fill:none;stroke:#000000;stroke-linecap:square;stroke-linejoin:miter;stroke-width:0.8;\"/>\r\n   </g>\r\n   <g id=\"text_17\">\r\n    <!-- Results using QL function -->\r\n    <g transform=\"translate(155.076519 16.318125)scale(0.12 -0.12)\">\r\n     <defs>\r\n      <path id=\"DejaVuSans-32\"/>\r\n      <path d=\"M 45.40625 27.984375 \r\nQ 45.40625 37.75 41.375 43.109375 \r\nQ 37.359375 48.484375 30.078125 48.484375 \r\nQ 22.859375 48.484375 18.828125 43.109375 \r\nQ 14.796875 37.75 14.796875 27.984375 \r\nQ 14.796875 18.265625 18.828125 12.890625 \r\nQ 22.859375 7.515625 30.078125 7.515625 \r\nQ 37.359375 7.515625 41.375 12.890625 \r\nQ 45.40625 18.265625 45.40625 27.984375 \r\nz\r\nM 54.390625 6.78125 \r\nQ 54.390625 -7.171875 48.1875 -13.984375 \r\nQ 42 -20.796875 29.203125 -20.796875 \r\nQ 24.46875 -20.796875 20.265625 -20.09375 \r\nQ 16.0625 -19.390625 12.109375 -17.921875 \r\nL 12.109375 -9.1875 \r\nQ 16.0625 -11.328125 19.921875 -12.34375 \r\nQ 23.78125 -13.375 27.78125 -13.375 \r\nQ 36.625 -13.375 41.015625 -8.765625 \r\nQ 45.40625 -4.15625 45.40625 5.171875 \r\nL 45.40625 9.625 \r\nQ 42.625 4.78125 38.28125 2.390625 \r\nQ 33.9375 0 27.875 0 \r\nQ 17.828125 0 11.671875 7.65625 \r\nQ 5.515625 15.328125 5.515625 27.984375 \r\nQ 5.515625 40.671875 11.671875 48.328125 \r\nQ 17.828125 56 27.875 56 \r\nQ 33.9375 56 38.28125 53.609375 \r\nQ 42.625 51.21875 45.40625 46.390625 \r\nL 45.40625 54.6875 \r\nL 54.390625 54.6875 \r\nz\r\n\" id=\"DejaVuSans-103\"/>\r\n      <path d=\"M 39.40625 66.21875 \r\nQ 28.65625 66.21875 22.328125 58.203125 \r\nQ 16.015625 50.203125 16.015625 36.375 \r\nQ 16.015625 22.609375 22.328125 14.59375 \r\nQ 28.65625 6.59375 39.40625 6.59375 \r\nQ 50.140625 6.59375 56.421875 14.59375 \r\nQ 62.703125 22.609375 62.703125 36.375 \r\nQ 62.703125 50.203125 56.421875 58.203125 \r\nQ 50.140625 66.21875 39.40625 66.21875 \r\nz\r\nM 53.21875 1.3125 \r\nL 66.21875 -12.890625 \r\nL 54.296875 -12.890625 \r\nL 43.5 -1.21875 \r\nQ 41.890625 -1.3125 41.03125 -1.359375 \r\nQ 40.1875 -1.421875 39.40625 -1.421875 \r\nQ 24.03125 -1.421875 14.8125 8.859375 \r\nQ 5.609375 19.140625 5.609375 36.375 \r\nQ 5.609375 53.65625 14.8125 63.9375 \r\nQ 24.03125 74.21875 39.40625 74.21875 \r\nQ 54.734375 74.21875 63.90625 63.9375 \r\nQ 73.09375 53.65625 73.09375 36.375 \r\nQ 73.09375 23.6875 67.984375 14.640625 \r\nQ 62.890625 5.609375 53.21875 1.3125 \r\nz\r\n\" id=\"DejaVuSans-81\"/>\r\n      <path d=\"M 9.8125 72.90625 \r\nL 19.671875 72.90625 \r\nL 19.671875 8.296875 \r\nL 55.171875 8.296875 \r\nL 55.171875 0 \r\nL 9.8125 0 \r\nz\r\n\" id=\"DejaVuSans-76\"/>\r\n      <path d=\"M 37.109375 75.984375 \r\nL 37.109375 68.5 \r\nL 28.515625 68.5 \r\nQ 23.6875 68.5 21.796875 66.546875 \r\nQ 19.921875 64.59375 19.921875 59.515625 \r\nL 19.921875 54.6875 \r\nL 34.71875 54.6875 \r\nL 34.71875 47.703125 \r\nL 19.921875 47.703125 \r\nL 19.921875 0 \r\nL 10.890625 0 \r\nL 10.890625 47.703125 \r\nL 2.296875 47.703125 \r\nL 2.296875 54.6875 \r\nL 10.890625 54.6875 \r\nL 10.890625 58.5 \r\nQ 10.890625 67.625 15.140625 71.796875 \r\nQ 19.390625 75.984375 28.609375 75.984375 \r\nz\r\n\" id=\"DejaVuSans-102\"/>\r\n     </defs>\r\n     <use xlink:href=\"#DejaVuSans-82\"/>\r\n     <use x=\"64.982422\" xlink:href=\"#DejaVuSans-101\"/>\r\n     <use x=\"126.505859\" xlink:href=\"#DejaVuSans-115\"/>\r\n     <use x=\"178.605469\" xlink:href=\"#DejaVuSans-117\"/>\r\n     <use x=\"241.984375\" xlink:href=\"#DejaVuSans-108\"/>\r\n     <use x=\"269.767578\" xlink:href=\"#DejaVuSans-116\"/>\r\n     <use x=\"308.976562\" xlink:href=\"#DejaVuSans-115\"/>\r\n     <use x=\"361.076172\" xlink:href=\"#DejaVuSans-32\"/>\r\n     <use x=\"392.863281\" xlink:href=\"#DejaVuSans-117\"/>\r\n     <use x=\"456.242188\" xlink:href=\"#DejaVuSans-115\"/>\r\n     <use x=\"508.341797\" xlink:href=\"#DejaVuSans-105\"/>\r\n     <use x=\"536.125\" xlink:href=\"#DejaVuSans-110\"/>\r\n     <use x=\"599.503906\" xlink:href=\"#DejaVuSans-103\"/>\r\n     <use x=\"662.980469\" xlink:href=\"#DejaVuSans-32\"/>\r\n     <use x=\"694.767578\" xlink:href=\"#DejaVuSans-81\"/>\r\n     <use x=\"773.478516\" xlink:href=\"#DejaVuSans-76\"/>\r\n     <use x=\"829.191406\" xlink:href=\"#DejaVuSans-32\"/>\r\n     <use x=\"860.978516\" xlink:href=\"#DejaVuSans-102\"/>\r\n     <use x=\"896.183594\" xlink:href=\"#DejaVuSans-117\"/>\r\n     <use x=\"959.5625\" xlink:href=\"#DejaVuSans-110\"/>\r\n     <use x=\"1022.941406\" xlink:href=\"#DejaVuSans-99\"/>\r\n     <use x=\"1077.921875\" xlink:href=\"#DejaVuSans-116\"/>\r\n     <use x=\"1117.130859\" xlink:href=\"#DejaVuSans-105\"/>\r\n     <use x=\"1144.914062\" xlink:href=\"#DejaVuSans-111\"/>\r\n     <use x=\"1206.095703\" xlink:href=\"#DejaVuSans-110\"/>\r\n    </g>\r\n   </g>\r\n   <g id=\"legend_1\">\r\n    <g id=\"patch_23\">\r\n     <path d=\"M 299.8871 59.674375 \r\nL 398.979287 59.674375 \r\nQ 400.979287 59.674375 400.979287 57.674375 \r\nL 400.979287 29.318125 \r\nQ 400.979287 27.318125 398.979287 27.318125 \r\nL 299.8871 27.318125 \r\nQ 297.8871 27.318125 297.8871 29.318125 \r\nL 297.8871 57.674375 \r\nQ 297.8871 59.674375 299.8871 59.674375 \r\nz\r\n\" style=\"fill:#ffffff;opacity:0.8;stroke:#cccccc;stroke-linejoin:miter;\"/>\r\n    </g>\r\n    <g id=\"patch_24\">\r\n     <path d=\"M 301.8871 38.916563 \r\nL 321.8871 38.916563 \r\nL 321.8871 31.916563 \r\nL 301.8871 31.916563 \r\nz\r\n\" style=\"fill:#0000ff;opacity:0.8;\"/>\r\n    </g>\r\n    <g id=\"text_18\">\r\n     <!-- Index set = 1 -->\r\n     <g transform=\"translate(329.8871 38.916563)scale(0.1 -0.1)\">\r\n      <defs>\r\n       <path d=\"M 9.8125 72.90625 \r\nL 19.671875 72.90625 \r\nL 19.671875 0 \r\nL 9.8125 0 \r\nz\r\n\" id=\"DejaVuSans-73\"/>\r\n       <path d=\"M 45.40625 46.390625 \r\nL 45.40625 75.984375 \r\nL 54.390625 75.984375 \r\nL 54.390625 0 \r\nL 45.40625 0 \r\nL 45.40625 8.203125 \r\nQ 42.578125 3.328125 38.25 0.953125 \r\nQ 33.9375 -1.421875 27.875 -1.421875 \r\nQ 17.96875 -1.421875 11.734375 6.484375 \r\nQ 5.515625 14.40625 5.515625 27.296875 \r\nQ 5.515625 40.1875 11.734375 48.09375 \r\nQ 17.96875 56 27.875 56 \r\nQ 33.9375 56 38.25 53.625 \r\nQ 42.578125 51.265625 45.40625 46.390625 \r\nz\r\nM 14.796875 27.296875 \r\nQ 14.796875 17.390625 18.875 11.75 \r\nQ 22.953125 6.109375 30.078125 6.109375 \r\nQ 37.203125 6.109375 41.296875 11.75 \r\nQ 45.40625 17.390625 45.40625 27.296875 \r\nQ 45.40625 37.203125 41.296875 42.84375 \r\nQ 37.203125 48.484375 30.078125 48.484375 \r\nQ 22.953125 48.484375 18.875 42.84375 \r\nQ 14.796875 37.203125 14.796875 27.296875 \r\nz\r\n\" id=\"DejaVuSans-100\"/>\r\n       <path d=\"M 54.890625 54.6875 \r\nL 35.109375 28.078125 \r\nL 55.90625 0 \r\nL 45.3125 0 \r\nL 29.390625 21.484375 \r\nL 13.484375 0 \r\nL 2.875 0 \r\nL 24.125 28.609375 \r\nL 4.6875 54.6875 \r\nL 15.28125 54.6875 \r\nL 29.78125 35.203125 \r\nL 44.28125 54.6875 \r\nz\r\n\" id=\"DejaVuSans-120\"/>\r\n       <path d=\"M 10.59375 45.40625 \r\nL 73.1875 45.40625 \r\nL 73.1875 37.203125 \r\nL 10.59375 37.203125 \r\nz\r\nM 10.59375 25.484375 \r\nL 73.1875 25.484375 \r\nL 73.1875 17.1875 \r\nL 10.59375 17.1875 \r\nz\r\n\" id=\"DejaVuSans-61\"/>\r\n      </defs>\r\n      <use xlink:href=\"#DejaVuSans-73\"/>\r\n      <use x=\"29.492188\" xlink:href=\"#DejaVuSans-110\"/>\r\n      <use x=\"92.871094\" xlink:href=\"#DejaVuSans-100\"/>\r\n      <use x=\"156.347656\" xlink:href=\"#DejaVuSans-101\"/>\r\n      <use x=\"216.121094\" xlink:href=\"#DejaVuSans-120\"/>\r\n      <use x=\"275.300781\" xlink:href=\"#DejaVuSans-32\"/>\r\n      <use x=\"307.087891\" xlink:href=\"#DejaVuSans-115\"/>\r\n      <use x=\"359.1875\" xlink:href=\"#DejaVuSans-101\"/>\r\n      <use x=\"420.710938\" xlink:href=\"#DejaVuSans-116\"/>\r\n      <use x=\"459.919922\" xlink:href=\"#DejaVuSans-32\"/>\r\n      <use x=\"491.707031\" xlink:href=\"#DejaVuSans-61\"/>\r\n      <use x=\"575.496094\" xlink:href=\"#DejaVuSans-32\"/>\r\n      <use x=\"607.283203\" xlink:href=\"#DejaVuSans-49\"/>\r\n     </g>\r\n    </g>\r\n    <g id=\"patch_25\">\r\n     <path d=\"M 301.8871 53.594688 \r\nL 321.8871 53.594688 \r\nL 321.8871 46.594688 \r\nL 301.8871 46.594688 \r\nz\r\n\" style=\"fill:#008000;opacity:0.8;\"/>\r\n    </g>\r\n    <g id=\"text_19\">\r\n     <!-- Index set = 2 -->\r\n     <g transform=\"translate(329.8871 53.594688)scale(0.1 -0.1)\">\r\n      <use xlink:href=\"#DejaVuSans-73\"/>\r\n      <use x=\"29.492188\" xlink:href=\"#DejaVuSans-110\"/>\r\n      <use x=\"92.871094\" xlink:href=\"#DejaVuSans-100\"/>\r\n      <use x=\"156.347656\" xlink:href=\"#DejaVuSans-101\"/>\r\n      <use x=\"216.121094\" xlink:href=\"#DejaVuSans-120\"/>\r\n      <use x=\"275.300781\" xlink:href=\"#DejaVuSans-32\"/>\r\n      <use x=\"307.087891\" xlink:href=\"#DejaVuSans-115\"/>\r\n      <use x=\"359.1875\" xlink:href=\"#DejaVuSans-101\"/>\r\n      <use x=\"420.710938\" xlink:href=\"#DejaVuSans-116\"/>\r\n      <use x=\"459.919922\" xlink:href=\"#DejaVuSans-32\"/>\r\n      <use x=\"491.707031\" xlink:href=\"#DejaVuSans-61\"/>\r\n      <use x=\"575.496094\" xlink:href=\"#DejaVuSans-32\"/>\r\n      <use x=\"607.283203\" xlink:href=\"#DejaVuSans-50\"/>\r\n     </g>\r\n    </g>\r\n   </g>\r\n  </g>\r\n </g>\r\n <defs>\r\n  <clipPath id=\"pa8e7abaa2b\">\r\n   <rect height=\"219.4\" width=\"349.473037\" x=\"56.50625\" y=\"22.318125\"/>\r\n  </clipPath>\r\n </defs>\r\n</svg>\r\n",
      "image/png": "[encoded data removed]"
     },
     "metadata": {
      "needs_background": "light"
     }
    },
    {
     "output_type": "stream",
     "name": "stdout",
     "text": [
      "{'ERR': 0.37283978, 'MAP': 0.2383301, 'Recall@1': 0.06354712, 'Recall@5': 0.18798876, 'Recall@10': 0.2869284, 'Precision@1': 0.44230768, 'Precision@5': 0.2846154, 'Precision@10': 0.24038464}\n"
     ]
    },
    {
     "output_type": "error",
     "ename": "KeyboardInterrupt",
     "evalue": "",
     "traceback": [
      "\u001b[1;31m---------------------------------------------------------------------------\u001b[0m",
      "\u001b[1;31mKeyboardInterrupt\u001b[0m                         Traceback (most recent call last)",
      "\u001b[1;32m<ipython-input-266-f9462a868cf0>\u001b[0m in \u001b[0;36m<module>\u001b[1;34m\u001b[0m\n\u001b[0;32m     14\u001b[0m         \u001b[0mdict_keys\u001b[0m \u001b[1;33m=\u001b[0m \u001b[0mscore_1_dict\u001b[0m\u001b[1;33m.\u001b[0m\u001b[0mkeys\u001b[0m\u001b[1;33m(\u001b[0m\u001b[1;33m)\u001b[0m\u001b[1;33m\u001b[0m\u001b[1;33m\u001b[0m\u001b[0m\n\u001b[0;32m     15\u001b[0m         \u001b[0mscore_1\u001b[0m \u001b[1;33m=\u001b[0m \u001b[0mlist\u001b[0m\u001b[1;33m(\u001b[0m\u001b[0mscore_1_dict\u001b[0m\u001b[1;33m.\u001b[0m\u001b[0mvalues\u001b[0m\u001b[1;33m(\u001b[0m\u001b[1;33m)\u001b[0m\u001b[1;33m)\u001b[0m\u001b[1;33m\u001b[0m\u001b[1;33m\u001b[0m\u001b[0m\n\u001b[1;32m---> 16\u001b[1;33m         \u001b[0mscore_2\u001b[0m \u001b[1;33m=\u001b[0m \u001b[0mlist\u001b[0m\u001b[1;33m(\u001b[0m\u001b[0mevaluate_search_fn\u001b[0m\u001b[1;33m(\u001b[0m\u001b[0msearch_fn\u001b[0m\u001b[1;33m,\u001b[0m\u001b[0mlist_of_metrics\u001b[0m\u001b[1;33m,\u001b[0m\u001b[1;36m2\u001b[0m\u001b[1;33m)\u001b[0m\u001b[1;33m.\u001b[0m\u001b[0mvalues\u001b[0m\u001b[1;33m(\u001b[0m\u001b[1;33m)\u001b[0m\u001b[1;33m)\u001b[0m\u001b[1;33m\u001b[0m\u001b[1;33m\u001b[0m\u001b[0m\n\u001b[0m\u001b[0;32m     17\u001b[0m         \u001b[1;31m# create plot\u001b[0m\u001b[1;33m\u001b[0m\u001b[1;33m\u001b[0m\u001b[1;33m\u001b[0m\u001b[0m\n\u001b[0;32m     18\u001b[0m         \u001b[0mfig\u001b[0m\u001b[1;33m,\u001b[0m \u001b[0max\u001b[0m \u001b[1;33m=\u001b[0m \u001b[0mplt\u001b[0m\u001b[1;33m.\u001b[0m\u001b[0msubplots\u001b[0m\u001b[1;33m(\u001b[0m\u001b[1;33m)\u001b[0m\u001b[1;33m\u001b[0m\u001b[1;33m\u001b[0m\u001b[0m\n",
      "\u001b[1;32m<ipython-input-263-bdf9118cd741>\u001b[0m in \u001b[0;36mevaluate_search_fn\u001b[1;34m(search_fn, metric_fns, index_set)\u001b[0m\n\u001b[0;32m     24\u001b[0m \u001b[1;33m\u001b[0m\u001b[0m\n\u001b[0;32m     25\u001b[0m         \u001b[1;32mfor\u001b[0m \u001b[0mmetric\u001b[0m\u001b[1;33m,\u001b[0m \u001b[0mmetric_fn\u001b[0m \u001b[1;32min\u001b[0m \u001b[0mmetric_fns\u001b[0m\u001b[1;33m:\u001b[0m\u001b[1;33m\u001b[0m\u001b[1;33m\u001b[0m\u001b[0m\n\u001b[1;32m---> 26\u001b[1;33m             \u001b[0mmetrics\u001b[0m\u001b[1;33m[\u001b[0m\u001b[0mmetric\u001b[0m\u001b[1;33m]\u001b[0m\u001b[1;33m[\u001b[0m\u001b[0mi\u001b[0m\u001b[1;33m]\u001b[0m \u001b[1;33m=\u001b[0m \u001b[0mmetric_fn\u001b[0m\u001b[1;33m(\u001b[0m\u001b[0mresults\u001b[0m\u001b[1;33m,\u001b[0m \u001b[0mrelevant_docs\u001b[0m\u001b[1;33m)\u001b[0m\u001b[1;33m\u001b[0m\u001b[1;33m\u001b[0m\u001b[0m\n\u001b[0m\u001b[0;32m     27\u001b[0m \u001b[1;33m\u001b[0m\u001b[0m\n\u001b[0;32m     28\u001b[0m \u001b[1;33m\u001b[0m\u001b[0m\n",
      "\u001b[1;32m<ipython-input-248-f0fafdbc1997>\u001b[0m in \u001b[0;36maverage_precision\u001b[1;34m(results, relevant_docs)\u001b[0m\n\u001b[0;32m     15\u001b[0m     \u001b[0mrelevant_results\u001b[0m \u001b[1;33m=\u001b[0m \u001b[1;33m[\u001b[0m\u001b[1;33m]\u001b[0m\u001b[1;33m\u001b[0m\u001b[1;33m\u001b[0m\u001b[0m\n\u001b[0;32m     16\u001b[0m     \u001b[1;32mfor\u001b[0m \u001b[0mi\u001b[0m \u001b[1;32min\u001b[0m \u001b[0mrange\u001b[0m\u001b[1;33m(\u001b[0m\u001b[0mlen\u001b[0m\u001b[1;33m(\u001b[0m\u001b[0mresults\u001b[0m\u001b[1;33m)\u001b[0m\u001b[1;33m)\u001b[0m\u001b[1;33m:\u001b[0m\u001b[1;33m\u001b[0m\u001b[1;33m\u001b[0m\u001b[0m\n\u001b[1;32m---> 17\u001b[1;33m         \u001b[0mcur_precision\u001b[0m \u001b[1;33m=\u001b[0m \u001b[0mprecision_k\u001b[0m\u001b[1;33m(\u001b[0m\u001b[0mresults\u001b[0m\u001b[1;33m,\u001b[0m \u001b[0mrelevant_docs\u001b[0m\u001b[1;33m,\u001b[0m \u001b[0mi\u001b[0m\u001b[1;33m+\u001b[0m\u001b[1;36m1\u001b[0m\u001b[1;33m)\u001b[0m\u001b[1;33m\u001b[0m\u001b[1;33m\u001b[0m\u001b[0m\n\u001b[0m\u001b[0;32m     18\u001b[0m         \u001b[0mdoc_id\u001b[0m\u001b[1;33m,\u001b[0m \u001b[0m_\u001b[0m \u001b[1;33m=\u001b[0m \u001b[0mresults\u001b[0m\u001b[1;33m[\u001b[0m\u001b[0mi\u001b[0m\u001b[1;33m]\u001b[0m\u001b[1;33m\u001b[0m\u001b[1;33m\u001b[0m\u001b[0m\n\u001b[0;32m     19\u001b[0m         \u001b[1;32mif\u001b[0m \u001b[0mdoc_id\u001b[0m \u001b[1;32min\u001b[0m \u001b[0mrelevant_docs\u001b[0m\u001b[1;33m:\u001b[0m\u001b[1;33m\u001b[0m\u001b[1;33m\u001b[0m\u001b[0m\n",
      "\u001b[1;31mKeyboardInterrupt\u001b[0m: "
     ]
    }
   ],
   "source": [
    "# YOUR CODE HERE\n",
    "list_of_search_fns = [\n",
    "    (\"BOW\", bow_search),\n",
    "    (\"TF-IDF\", tfidf_search),\n",
    "    (\"NaiveQL\", naive_ql_search),\n",
    "    (\"QL\", ql_search),\n",
    "    (\"BM25\", bm25_search)\n",
    "]\n",
    "n_groups = len(list_of_metrics)\n",
    "for (name_search,search_fn) in list_of_search_fns:\n",
    "        #we need the first dictionary separet to get the list of keys\n",
    "        score_1_dict = evaluate_search_fn(search_fn,list_of_metrics,1)\n",
    "        print(score_1_dict)\n",
    "        dict_keys = score_1_dict.keys()\n",
    "        score_1 = list(score_1_dict.values())\n",
    "        score_2 = list(evaluate_search_fn(search_fn,list_of_metrics,2).values())\n",
    "        # create plot\n",
    "        fig, ax = plt.subplots()\n",
    "        index = np.arange(n_groups)\n",
    "        bar_width = 0.35\n",
    "        opacity = 0.8\n",
    "\n",
    "        rects1 = plt.bar(index, score_1, bar_width,\n",
    "        alpha=opacity,\n",
    "        color='b',\n",
    "        label='Index set = 1')\n",
    "\n",
    "        rects2 = plt.bar(index + bar_width, score_2, bar_width,\n",
    "        alpha=opacity,\n",
    "        color='g',\n",
    "        label='Index set = 2')\n",
    "\n",
    "        plt.xlabel('Metrics')\n",
    "        plt.ylabel('Results')\n",
    "        plt.title('Results using ' + name_search + ' function')\n",
    "        plt.xticks(index + bar_width, dict_keys )\n",
    "        plt.legend()\n",
    "\n",
    "        plt.tight_layout()\n",
    "        plt.xticks(rotation=45)\n",
    "        plt.show()"
   ]
  },
  {
   "cell_type": "markdown",
   "metadata": {
    "deletable": false,
    "editable": false,
    "id": "lZ3SttfV4IWp",
    "nbgrader": {
     "cell_type": "markdown",
     "checksum": "e88c444a0acf4e398c65e289169b75f7",
     "grade": false,
     "grade_id": "cell-8aabe3bcf265deb0",
     "locked": true,
     "points": 10,
     "schema_version": 3,
     "solution": false,
     "task": true
    }
   },
   "source": [
    "---\n",
    "### Section 5.2: Summary (10 points)\n",
    "Write a summary of what you observe in the results.\n",
    "Your summary should compare results across the 2 indices and the methods being used. State what you expected to see in the results, followed by either supporting evidence *or* justify why the results did not support your expectations.      "
   ]
  },
  {
   "cell_type": "markdown",
   "metadata": {
    "id": "iD_gTGV84IWp"
   },
   "source": [
    "Write your answer here!"
   ]
  },
  {
   "cell_type": "markdown",
   "metadata": {
    "deletable": false,
    "editable": false,
    "id": "GB_eEIJE4IWp",
    "nbgrader": {
     "cell_type": "markdown",
     "checksum": "b3eb77be74eecca205fc7b47316d1627",
     "grade": false,
     "grade_id": "cell-bb60dd5c092d0f2e",
     "locked": true,
     "schema_version": 3,
     "solution": false,
     "task": false
    }
   },
   "source": [
    "---\n",
    "---\n",
    "# Part 2: Semantic-based Matching (85 points) <a class=\"anchor\" id=\"part2\"></a>\n",
    "\n",
    "[Back to top](#top)\n",
    "\n",
    "We will now experiment with methods that go beyond lexical methods like TF-IDF, which operate at the word level and are high dimensional and sparse, and look at methods which constructs low dimensional dense representations of queries and documents. \n",
    "\n",
    "Since these low-dimensional methods have a higher time complexity, they are typically used in conjunction with methods like BM-25. That is, instead of searching through potentially million documents to find matches using low dimensional vectors, a list of K documents are retrieved using BM25, and then **re-ranked** using the other method. This is the method that is going to be applied in the following exercises. \n",
    "\n",
    "LSI/LDA takes documents that are similar on a semantic level - for instance, if they are describing the same topic - and projects them into nearby vectors, despite having low lexical overlap.\n",
    "\n",
    "In this assignment, you will use `gensim` to create LSI/LDA models and use them in re-ranking. \n",
    "\n",
    "**Note**: The following exercises only uses `doc_repr_2` and `config_2`\n",
    "\n",
    "Table of contents:\n",
    "- [Section 6: LSI](#lsi) (15 points)\n",
    "- [Section 7: LDA](#lda) (10 points)\n",
    "- [Section 8: Word2Vec/Doc2Vec](#2vec) (20 points)\n",
    "- [Section 8: Re-ranking](#reranking) (10 points)\n",
    "- [Section 9: Re-ranking Evaluation](#reranking_eval) (30 points)"
   ]
  },
  {
   "cell_type": "markdown",
   "metadata": {
    "deletable": false,
    "editable": false,
    "id": "-hdtSyZZ4IWp",
    "nbgrader": {
     "cell_type": "markdown",
     "checksum": "f7c7b2cab82f576ed0acf836ca57171c",
     "grade": false,
     "grade_id": "cell-6b2c81e7a8abd180",
     "locked": true,
     "schema_version": 3,
     "solution": false,
     "task": false
    }
   },
   "source": [
    "---\n",
    "## Section 6: Latent Semantic Indexing (LSI) (15 points) <a class=\"anchor\" id=\"lsi\"></a>\n",
    "\n",
    "[Back to Part 2](#part2)\n",
    "\n",
    "LSI is one of the methods to embed the queries and documents into vectors. It is based on a method similar to Principal Component Analysis (PCA) for obtaining a dense concept matrix out of the sparse term-document matrix.\n",
    "\n",
    "See [wikipedia](https://en.wikipedia.org/wiki/Latent_semantic_analysis), particularly [#Mathematics_of_LSI](https://en.wikipedia.org/wiki/Latent_semantic_analysis#Mathematics_of_LSI)."
   ]
  },
  {
   "cell_type": "code",
   "execution_count": 265,
   "metadata": {
    "ExecuteTime": {
     "end_time": "2021-02-15T10:48:00.844212Z",
     "start_time": "2021-02-15T10:47:43.923Z"
    },
    "deletable": false,
    "editable": false,
    "id": "Qlqfq_y34IWq",
    "nbgrader": {
     "cell_type": "code",
     "checksum": "c17ee75319cb517e2bf48ec3d9efc329",
     "grade": false,
     "grade_id": "cell-59913daee47f680d",
     "locked": true,
     "schema_version": 3,
     "solution": false,
     "task": false
    }
   },
   "outputs": [],
   "source": [
    "from gensim.corpora import Dictionary\n",
    "from gensim.models import LdaModel, LsiModel, Word2Vec\n",
    "from gensim.models.doc2vec import Doc2Vec, TaggedDocument\n",
    "from gensim import downloader as g_downloader\n",
    "# gensim uses logging, so set it up \n",
    "import logging\n",
    "logging.basicConfig(format='%(asctime)s : %(levelname)s : %(message)s', level=logging.INFO)"
   ]
  },
  {
   "cell_type": "markdown",
   "metadata": {
    "deletable": false,
    "editable": false,
    "id": "KqeQEm1Q4IWq",
    "nbgrader": {
     "cell_type": "markdown",
     "checksum": "5fce140c546759b54a9fc060901ae77c",
     "grade": false,
     "grade_id": "cell-3644faff4976598a",
     "locked": true,
     "schema_version": 3,
     "solution": false,
     "task": false
    }
   },
   "source": [
    "---\n",
    "### Section 6.1: Cosine Similarity (5 points)<a class=\"anchor\" id=\"cosing_sim\"></a>\n",
    "Before we begin, let us first define our method of similarity for the LSI model, the cosine similarity:\n",
    "\n",
    "$$\\text{similarity} = \\cos(\\theta) = {\\mathbf{A} \\cdot \\mathbf{B} \\over \\|\\mathbf{A}\\| \\|\\mathbf{B}\\|} = \\frac{ \\sum\\limits_{i=1}^{n}{A_i  B_i} }{ \\sqrt{\\sum\\limits_{i=1}^{n}{A_i^2}}  \\sqrt{\\sum\\limits_{i=1}^{n}{B_i^2}} }$$\n",
    "\n",
    "Since we are using gensim, the types of vectors returned by their classes are of the form defined below (they are not just simple vectors):"
   ]
  },
  {
   "cell_type": "code",
   "execution_count": null,
   "metadata": {
    "ExecuteTime": {
     "end_time": "2021-02-15T10:48:00.844212Z",
     "start_time": "2021-02-15T10:47:43.926Z"
    },
    "deletable": false,
    "editable": false,
    "id": "GGCJRThj4IWq",
    "nbgrader": {
     "cell_type": "code",
     "checksum": "4e340e1a1d546f430c018fd0760e707a",
     "grade": false,
     "grade_id": "cell-3995a50f951314d5",
     "locked": true,
     "schema_version": 3,
     "solution": false,
     "task": false
    }
   },
   "outputs": [],
   "source": [
    "# 1, 2, 3 are either latent dimensions (LSI), or topics (LDA)\n",
    "# The second value in each tuple is a number (LSI) or a probability (LDA)  \n",
    "example_vec_1 = [(1, 0.2), (2, 0.3), (3, 0.4)]\n",
    "example_vec_2 = [(1, 0.2), (2, 0.7), (3, 0.4)]"
   ]
  },
  {
   "cell_type": "markdown",
   "metadata": {
    "deletable": false,
    "editable": false,
    "id": "yrXWRnVx4IWq",
    "nbgrader": {
     "cell_type": "markdown",
     "checksum": "20832fd4f579f49ae204b0efee02edd1",
     "grade": false,
     "grade_id": "cell-5e54d581858dc8f7",
     "locked": true,
     "schema_version": 3,
     "solution": false,
     "task": false
    }
   },
   "source": [
    "---\n",
    "**Implementation (2+3 points):**\n",
    "Now, implement the `dot product` operation on these types of vectors and using this operator, implement the `cosine similarity` (don't forget: two functions to implement!):"
   ]
  },
  {
   "cell_type": "code",
   "execution_count": null,
   "metadata": {
    "ExecuteTime": {
     "end_time": "2021-02-15T10:48:00.845209Z",
     "start_time": "2021-02-15T10:47:43.928Z"
    },
    "deletable": false,
    "id": "OLHTT0Pb4IWq",
    "nbgrader": {
     "cell_type": "code",
     "checksum": "06a712ee75fc213a21c5f0067fd8fe28",
     "grade": false,
     "grade_id": "cell-0e8189f5f93de33f",
     "locked": false,
     "schema_version": 3,
     "solution": true,
     "task": false
    }
   },
   "outputs": [],
   "source": [
    "# TODO: Implement this! (2 points)\n",
    "def dot(vec_1,vec_2): \n",
    "    \"\"\"\n",
    "        vec_1 and vec_2 are of the form: [(int, float), (int, float), ...]\n",
    "        Return the dot product of two such vectors, computed only on the floats\n",
    "        You can assume that the lengths of the vectors are the same, and the dimensions are aligned \n",
    "            i.e you won't get: vec_1 = [(1, 0.2)] ; vec_2 = [(2, 0.3)] \n",
    "                                (dimensions are unaligned and lengths are different)\n",
    "    \"\"\"\n",
    "    # YOUR CODE HERE\n",
    "    dot_product = 0\n",
    "    for i in range(len(vec_1)):\n",
    "        dot_product +=  vec_1[i][1] * vec_2[i][1]\n",
    "    \n",
    "    return dot_product\n",
    "\n",
    "# TODO: Implement this! (3 points)\n",
    "def cosine_sim(vec_1, vec_2):\n",
    "    # YOUR CODE HERE\n",
    "    similarity = 0\n",
    "    res_a = 0\n",
    "    res_b = 0\n",
    "    for i in range(len(vec_1)):\n",
    "        res_a += vec_1[i][1] ** 2\n",
    "        res_b += vec_2[i][1] ** 2\n",
    "    numerator = dot(vec_1,vec_2)\n",
    "    \n",
    "    # When there exists a zero vector\n",
    "    # This happens when none of the tokens in the query are in the w2v model.\n",
    "    # As per instruction, we return a similarity score of 0.\n",
    "    if res_a == 0 or res_b == 0:\n",
    "        return 0\n",
    "    else:\n",
    "        denominator = math.sqrt(res_a)*math.sqrt(res_b)\n",
    "        return numerator/denominator\n",
    "    \n",
    "    \n",
    "print(cosine_sim(example_vec_1,example_vec_2))"
   ]
  },
  {
   "cell_type": "code",
   "execution_count": null,
   "metadata": {
    "ExecuteTime": {
     "end_time": "2021-02-15T10:48:00.846207Z",
     "start_time": "2021-02-15T10:47:43.930Z"
    },
    "deletable": false,
    "editable": false,
    "id": "opNcoM_E4IWq",
    "nbgrader": {
     "cell_type": "code",
     "checksum": "d22a4a7325ba7815a808390388f534a1",
     "grade": true,
     "grade_id": "cell-b25d04ed6b79fd35",
     "locked": true,
     "points": 2,
     "schema_version": 3,
     "solution": false,
     "task": false
    }
   },
   "outputs": [],
   "source": [
    "##### Function check\n",
    "print(f'vectors: {(example_vec_1,example_vec_2)}')\n",
    "print(f'dot product = {dot(example_vec_1,example_vec_2)}')\n",
    "print(f'cosine similarity = {cosine_sim(example_vec_1,example_vec_2)}')\n",
    "##### "
   ]
  },
  {
   "cell_type": "code",
   "execution_count": null,
   "metadata": {
    "ExecuteTime": {
     "end_time": "2021-02-15T10:48:00.847204Z",
     "start_time": "2021-02-15T10:47:43.932Z"
    },
    "deletable": false,
    "editable": false,
    "id": "fqGAn-Qy4IWr",
    "nbgrader": {
     "cell_type": "code",
     "checksum": "0744131724ce76b1b3f163b4bae5f700",
     "grade": true,
     "grade_id": "cell-ae3c4466866ace77",
     "locked": true,
     "points": 3,
     "schema_version": 3,
     "solution": false,
     "task": false
    }
   },
   "outputs": [],
   "source": [
    "#### Please do not change this. This cell is used for grading."
   ]
  },
  {
   "cell_type": "markdown",
   "metadata": {
    "deletable": false,
    "editable": false,
    "id": "-EkJ-o9j4IWr",
    "nbgrader": {
     "cell_type": "markdown",
     "checksum": "9b123f599f9ea372d14676e23f1c6a52",
     "grade": false,
     "grade_id": "cell-4b2534067c44fcdf",
     "locked": true,
     "schema_version": 3,
     "solution": false,
     "task": false
    }
   },
   "source": [
    "---\n",
    "### Section 6.2: LSI Retrieval (10 points)<a class=\"anchor\" id=\"lsi_retrieval\"></a>\n",
    "LSI retrieval is simply ranking the documents based on their cosine similarity to the query vector.\n",
    "First, let's write a parent class for vector-based retrieval models:"
   ]
  },
  {
   "cell_type": "code",
   "execution_count": null,
   "metadata": {
    "ExecuteTime": {
     "end_time": "2021-02-15T10:48:00.848201Z",
     "start_time": "2021-02-15T10:47:43.935Z"
    },
    "deletable": false,
    "editable": false,
    "id": "vui4hfKK4IWr",
    "nbgrader": {
     "cell_type": "code",
     "checksum": "ecc111d58182570e2252b8ef5d6b02af",
     "grade": false,
     "grade_id": "cell-937936cea18711ee",
     "locked": true,
     "schema_version": 3,
     "solution": false,
     "task": false
    }
   },
   "outputs": [],
   "source": [
    "class VectorSpaceRetrievalModel:\n",
    "    \"\"\"\n",
    "        Parent class for Dense Vector Retrieval models\n",
    "    \"\"\"\n",
    "    def __init__(self, doc_repr):\n",
    "        \"\"\"\n",
    "            document_collection: \n",
    "                [\n",
    "                    (doc_id_1, [token 1, token 2, ...]), \n",
    "                    (doc_id_2, [token 1, token 2, ....]) \n",
    "                    ...\n",
    "                ]\n",
    "\n",
    "        \"\"\"\n",
    "        self.doc_repr = doc_repr\n",
    "        self.documents = [_[1] for _ in self.doc_repr]\n",
    "        \n",
    "        # construct a dictionary\n",
    "        self.dictionary = Dictionary(self.documents)\n",
    "        # Filter out words that occur less than 20 documents, or more than 50% of the documents.\n",
    "        self.dictionary.filter_extremes(no_below=10)\n",
    "        self.corpus = [self.dictionary.doc2bow(doc) for doc in self.documents]\n",
    "    \n",
    "        # Make a index to word dictionary.\n",
    "        temp = self.dictionary[0]  # This is only to \"load\" the dictionary.\n",
    "        self.id2word = self.dictionary.id2token\n",
    "        \n",
    "        # this is set by the train_model function\n",
    "        self.model = None\n",
    "        \n",
    "        \n",
    "    def vectorize_documents(self):\n",
    "        \"\"\"\n",
    "            Returns a doc_id -> vector dictionary\n",
    "        \"\"\"\n",
    "        vectors = {}\n",
    "        for (doc_id, _), cc in zip(self.doc_repr, self.corpus):\n",
    "            vectors[doc_id] = self.model[cc]\n",
    "        return vectors\n",
    "\n",
    "    def vectorize_query(self, query):\n",
    "        # Note the use of config_2 here!\n",
    "        query = process_text(query, **config_2)\n",
    "        query_vector = self.dictionary.doc2bow(query)\n",
    "        return self.model[query_vector]\n",
    "    \n",
    "    def train_model(self):\n",
    "        \"\"\"\n",
    "            Trains a model and sets the 'self.model' variable. \n",
    "            Make sure to use the variables created in the __init__ method.\n",
    "            e.g the variables which may be useful: {corpus, dictionary, id2word}\n",
    "        \"\"\"\n",
    "        raise NotImplementedError()"
   ]
  },
  {
   "cell_type": "markdown",
   "metadata": {
    "deletable": false,
    "editable": false,
    "id": "7hVlHxL34IWr",
    "nbgrader": {
     "cell_type": "markdown",
     "checksum": "ff161eefd9b81b768cd6361bc1a502b0",
     "grade": false,
     "grade_id": "cell-704a18c2f80cd60c",
     "locked": true,
     "schema_version": 3,
     "solution": false,
     "task": false
    }
   },
   "source": [
    "---\n",
    "**Implementation (5 points):**\n",
    "Implement the `train_model` method in the following class (note that this is only one line of code in `gensim`!). Ensure that the parameters defined in the `__init__` method are not changed, and are *used in the `train_method` function*. Normally, the hyperaparameter space will be searched using grid search / other methods - in this assignment we have provided the hyperparameters for you.\n",
    "\n",
    "The last two lines of code train an LSI model on the list of documents which have been stemmed, lower-cased and have stopwords removed. "
   ]
  },
  {
   "cell_type": "code",
   "execution_count": null,
   "metadata": {
    "ExecuteTime": {
     "end_time": "2021-02-15T10:48:00.849204Z",
     "start_time": "2021-02-15T10:47:43.937Z"
    },
    "deletable": false,
    "id": "stvTMFN44IWr",
    "nbgrader": {
     "cell_type": "code",
     "checksum": "0e90eedc27c248bc1ae050518a46a46c",
     "grade": false,
     "grade_id": "cell-307682c9089f15d6",
     "locked": false,
     "schema_version": 3,
     "solution": true,
     "task": false
    }
   },
   "outputs": [],
   "source": [
    "# TODO: Implement this! (5 points)\n",
    "class LsiRetrievalModel(VectorSpaceRetrievalModel):\n",
    "    def __init__(self, doc_repr):\n",
    "        super().__init__(doc_repr)\n",
    "        \n",
    "        self.num_topics = 100\n",
    "        self.chunksize = 2000\n",
    "    \n",
    "    def train_model(self):\n",
    "        # YOUR CODE HERE\n",
    "        self.model = LsiModel(self.corpus, id2word = self.id2word, num_topics = self.num_topics, chunksize = self.chunksize)"
   ]
  },
  {
   "cell_type": "code",
   "execution_count": null,
   "metadata": {
    "ExecuteTime": {
     "end_time": "2021-02-15T10:48:00.850196Z",
     "start_time": "2021-02-15T10:47:43.939Z"
    },
    "deletable": false,
    "editable": false,
    "id": "_khGWJSi4IWr",
    "nbgrader": {
     "cell_type": "code",
     "checksum": "00399cfe13d60cb4beed1271e36004b0",
     "grade": true,
     "grade_id": "cell-5ce512650c1b2dfb",
     "locked": true,
     "points": 0,
     "schema_version": 3,
     "solution": false,
     "task": false
    }
   },
   "outputs": [],
   "source": [
    "##### Function check\n",
    "lsi = LsiRetrievalModel(doc_repr_2)\n",
    "lsi.train_model()\n",
    "\n",
    "# you can now get an LSI vector for a given query in the following way:\n",
    "lsi.vectorize_query(\"report\")\n",
    "##### "
   ]
  },
  {
   "cell_type": "markdown",
   "metadata": {
    "deletable": false,
    "editable": false,
    "id": "NGA8x3e54IWs",
    "nbgrader": {
     "cell_type": "markdown",
     "checksum": "7116bb9f576c5bb04934e1d59c51d729",
     "grade": false,
     "grade_id": "cell-4c5eeb557b4fca2f",
     "locked": true,
     "points": 5,
     "schema_version": 3,
     "solution": false,
     "task": true
    }
   },
   "source": [
    "\\#### Please do not change this. This cell is used for grading."
   ]
  },
  {
   "cell_type": "markdown",
   "metadata": {
    "deletable": false,
    "editable": false,
    "id": "XC11dqNi4IWs",
    "nbgrader": {
     "cell_type": "markdown",
     "checksum": "1068a108600b8c1539117d543e720354",
     "grade": false,
     "grade_id": "cell-c4e50296cd17a555",
     "locked": true,
     "schema_version": 3,
     "solution": false,
     "task": false
    }
   },
   "source": [
    "---\n",
    "Next, implement a basic ranking class for vector space retrieval (used for all semantic methods): "
   ]
  },
  {
   "cell_type": "code",
   "execution_count": null,
   "metadata": {
    "ExecuteTime": {
     "end_time": "2021-02-15T10:48:00.851193Z",
     "start_time": "2021-02-15T10:47:43.942Z"
    },
    "deletable": false,
    "id": "7-cQ_F004IWs",
    "nbgrader": {
     "cell_type": "code",
     "checksum": "1a8389d2f0635c3405e2b0b27ed9f327",
     "grade": false,
     "grade_id": "cell-250515d288e80cdc",
     "locked": false,
     "schema_version": 3,
     "solution": true,
     "task": false
    }
   },
   "outputs": [],
   "source": [
    "# TODO: Implement this! (5 points)\n",
    "class DenseRetrievalRanker:\n",
    "    def __init__(self, vsrm, similarity_fn):\n",
    "        \"\"\"\n",
    "            vsrm: instance of `VectorSpaceRetrievalModel`\n",
    "            similarity_fn: function instance that takes in two vectors \n",
    "                            and returns a similarity score e.g cosine_sim defined earlier\n",
    "        \"\"\"\n",
    "        self.vsrm = vsrm \n",
    "        self.vectorized_documents = self.vsrm.vectorize_documents()\n",
    "        self.similarity_fn = similarity_fn\n",
    "    \n",
    "    def _compute_sim(self, query_vector):\n",
    "        \"\"\"\n",
    "            Compute the similarity of `query_vector` to documents in \n",
    "            `self.vectorized_documents` using `self.similarity_fn`\n",
    "            Returns a list of (doc_id, score) tuples\n",
    "        \"\"\"\n",
    "        # YOUR CODE HERE\n",
    "        result_list = []\n",
    "        self.query_vector = query_vector\n",
    "        for key, doc in self.vectorized_documents.items():\n",
    "            if len(doc) != 0:\n",
    "                score = self.similarity_fn(doc,self.query_vector)\n",
    "                result_list.append((key,score))               \n",
    "        return result_list\n",
    "    \n",
    "    def search(self, query):\n",
    "        scores = self._compute_sim(self.vsrm.vectorize_query(query))\n",
    "        scores.sort(key=lambda _:-_[1])\n",
    "        return scores "
   ]
  },
  {
   "cell_type": "code",
   "execution_count": null,
   "metadata": {
    "ExecuteTime": {
     "end_time": "2021-02-15T10:48:00.852191Z",
     "start_time": "2021-02-15T10:47:43.945Z"
    },
    "deletable": false,
    "editable": false,
    "id": "84ShnBqC4IWs",
    "nbgrader": {
     "cell_type": "code",
     "checksum": "f237dd1ef6c1783c06797f4b514421f5",
     "grade": true,
     "grade_id": "cell-b73068b3e77a8e31",
     "locked": true,
     "points": 0,
     "schema_version": 3,
     "solution": false,
     "task": false
    }
   },
   "outputs": [],
   "source": [
    "##### Function check\n",
    "drm_lsi = DenseRetrievalRanker(lsi, cosine_sim)\n",
    "drm_lsi.search(\"report\")[:5]\n",
    "##### "
   ]
  },
  {
   "cell_type": "markdown",
   "metadata": {
    "deletable": false,
    "editable": false,
    "id": "J7KStoCJ4IWs",
    "nbgrader": {
     "cell_type": "markdown",
     "checksum": "5b3f19fdcaa585d263706d5a26038799",
     "grade": false,
     "grade_id": "cell-034c755a6502b868",
     "locked": true,
     "points": 5,
     "schema_version": 3,
     "solution": false,
     "task": true
    }
   },
   "source": [
    "\\#### Please do not change this. This cell is used for grading."
   ]
  },
  {
   "cell_type": "markdown",
   "metadata": {
    "deletable": false,
    "editable": false,
    "id": "151cPjf34IWs",
    "nbgrader": {
     "cell_type": "markdown",
     "checksum": "dcafef6e037033c46304b914f7c78bdf",
     "grade": false,
     "grade_id": "cell-d1df23f497d5ed6b",
     "locked": true,
     "schema_version": 3,
     "solution": false,
     "task": false
    }
   },
   "source": [
    "---\n",
    "Now, you can test your LSI model in the following cell: try finding queries which are lexically different to documents, but semantically similar - does LSI work well for these queries?!"
   ]
  },
  {
   "cell_type": "code",
   "execution_count": null,
   "metadata": {
    "ExecuteTime": {
     "end_time": "2021-02-15T10:48:00.852191Z",
     "start_time": "2021-02-15T10:47:43.948Z"
    },
    "deletable": false,
    "editable": false,
    "id": "_YwVurAt4IWs",
    "nbgrader": {
     "cell_type": "code",
     "checksum": "11734bc7674377b340ad51297a8e8bb5",
     "grade": false,
     "grade_id": "cell-efd1d08dfc04ec3e",
     "locked": true,
     "schema_version": 3,
     "solution": false,
     "task": false
    }
   },
   "outputs": [],
   "source": [
    "# test your LSI model\n",
    "search_fn = drm_lsi.search\n",
    "\n",
    "text = widgets.Text(description=\"Search Bar\", width=200)\n",
    "display(text)\n",
    "\n",
    "def make_results_2(query, search_fn):\n",
    "    results = []\n",
    "    for doc_id, score in search_fn(query):\n",
    "        highlight = highlight_text(docs_by_id[doc_id], query)\n",
    "        if len(highlight.strip()) == 0:\n",
    "            highlight = docs_by_id[doc_id]\n",
    "        results.append(ResultRow(doc_id, highlight, score))\n",
    "    return results\n",
    "\n",
    "def handle_submit_2(sender):\n",
    "    print(f\"Searching for: '{sender.value}' (SEARCH FN: {search_fn})\")\n",
    "    \n",
    "    results = make_results_2(sender.value, search_fn)\n",
    "    \n",
    "    # display only the top 5\n",
    "    results = results[:5]\n",
    "    \n",
    "    body = \"\"\n",
    "    for idx, r in enumerate(results):\n",
    "        body += f\"<li>Document #{r.doc_id}({r.score}): {r.snippet}</li>\"\n",
    "    display(HTML(f\"<ul>{body}</ul>\"))\n",
    "    \n",
    "\n",
    "text.on_submit(handle_submit_2)"
   ]
  },
  {
   "cell_type": "markdown",
   "metadata": {
    "deletable": false,
    "editable": false,
    "id": "0PGe6mPD4IWt",
    "nbgrader": {
     "cell_type": "markdown",
     "checksum": "d074ce1ca48384cdda78742741c938be",
     "grade": false,
     "grade_id": "cell-3a86cef264d8f6cf",
     "locked": true,
     "schema_version": 3,
     "solution": false,
     "task": false
    }
   },
   "source": [
    "---\n",
    "## Section 7: Latent Dirichlet Allocation (LDA) (10 points) <a class=\"anchor\" id=\"lda\"></a>\n",
    "\n",
    "[Back to Part 2](#part2)\n",
    "\n",
    "The specifics of LDA is out of the scope of this assignment, but we will use the `gensim` implementation to perform search using LDA over our small document collection. The key thing to remember is that LDA, unlike LSI, outputs a topic **distribution**, not a vector. With that in mind, let's first define a similarity measure.\n"
   ]
  },
  {
   "cell_type": "markdown",
   "metadata": {
    "deletable": false,
    "editable": false,
    "id": "xMbAwqEW4IWt",
    "nbgrader": {
     "cell_type": "markdown",
     "checksum": "db01092373b18f0c9dfed1bb17db4ad9",
     "grade": false,
     "grade_id": "cell-6b78ad22c2d60ba7",
     "locked": true,
     "schema_version": 3,
     "solution": false,
     "task": false
    }
   },
   "source": [
    "---\n",
    "### Section 7.1: Jenson-Shannon divergence (5 points) <a class=\"anchor\" id=\"js_sim\"></a>\n",
    "\n",
    "The Jenson-Shannon divergence is a symmetric and finite measure on two probability distributions (unlike the KL, which is neither). For identical distributions, the JSD is equal to 0, and since our code uses 0 as irrelevant and higher scores as relevant, we use `(1 - JSD)` as the score or 'similarity' in our setup\n",
    "\n",
    "**Note**: the JSD is bounded to \\[0,1\\] only if we use log base 2. So please ensure that you're using `np.log2` instead of `np.log`"
   ]
  },
  {
   "cell_type": "code",
   "execution_count": null,
   "metadata": {
    "ExecuteTime": {
     "end_time": "2021-02-15T10:48:00.853188Z",
     "start_time": "2021-02-15T10:47:43.953Z"
    },
    "deletable": false,
    "id": "OP-T-8i-4IWt",
    "nbgrader": {
     "cell_type": "code",
     "checksum": "a579e6cd7a24a3516bc9a84528b392d3",
     "grade": false,
     "grade_id": "cell-d2376a85a4841e98",
     "locked": false,
     "schema_version": 3,
     "solution": true,
     "task": false
    }
   },
   "outputs": [],
   "source": [
    "## TODO: Implement this! (5 points)\n",
    "def jenson_shannon_divergence(vec_1, vec_2, assert_prob=False):\n",
    "    \"\"\"\n",
    "        Computes the Jensen-Shannon divergence between two probability distributions. \n",
    "        NOTE: DO NOT RETURN 1 - JSD here, that is handled by the next function which is already implemented! \n",
    "        The inputs are *gensim* vectors - same as the vectors for the cosine_sim function\n",
    "        assert_prob is a flag that checks if the inputs are proper probability distributions \n",
    "            i.e they sum to 1 and are positive - use this to check your inputs if needed. \n",
    "                (This is optional to implement, but recommended - \n",
    "                you can the default to False to save a few ms off the runtime)\n",
    "    \"\"\"\n",
    "    # YOUR CODE HERE\n",
    "    if assert_prob:\n",
    "        sum_vec_1 = sum(value[1] for value in vec_1)\n",
    "        sum_vec_2 = sum(value[1] for value in vec_2)\n",
    "        if sum_vec_1 != 1:\n",
    "            print('Input vec_1 is not in the correct format!')\n",
    "            return\n",
    "        if sum_vec_2 != 1:\n",
    "            print('Input vec_2 is not in the correct format!')\n",
    "            return\n",
    "            \n",
    "    vec_1 = np.array([value for id,value in vec_1])\n",
    "    vec_2 = np.array([value for id,value in vec_2])\n",
    "    \n",
    "    d1 = vec_1*np.log2(vec_1/((vec_1+vec_2)/2))\n",
    "    d2 = vec_2*np.log2(vec_2/((vec_1+vec_2)/2))\n",
    "    d1[np.isnan(d1)] = 0\n",
    "    d2[np.isnan(d2)] = 0\n",
    "    d = 0.5*np.sum(d1+d2)\n",
    "    \n",
    "    return d\n",
    "    \n",
    "def jenson_shannon_sim(vec_1, vec_2, assert_prob=False):\n",
    "    return 1 - jenson_shannon_divergence(vec_1, vec_2, assert_prob)\n"
   ]
  },
  {
   "cell_type": "code",
   "execution_count": null,
   "metadata": {
    "ExecuteTime": {
     "end_time": "2021-02-15T10:48:00.854185Z",
     "start_time": "2021-02-15T10:47:43.955Z"
    },
    "deletable": false,
    "editable": false,
    "id": "0Jx8X0vU4IWt",
    "nbgrader": {
     "cell_type": "code",
     "checksum": "ab340aa941c9fb5c89b3fd0a9139e246",
     "grade": true,
     "grade_id": "cell-487c6d2933f38053",
     "locked": true,
     "points": 5,
     "schema_version": 3,
     "solution": false,
     "task": false
    }
   },
   "outputs": [],
   "source": [
    "##### Function check\n",
    "vec_1 = [(1, 0.3), (2, 0.4), (3, 0.3)]\n",
    "vec_2 = [(1, 0.1), (2, 0.7), (3, 0.2)]\n",
    "jenson_shannon_sim(vec_1, vec_2, assert_prob=True)\n",
    "##### "
   ]
  },
  {
   "cell_type": "markdown",
   "metadata": {
    "deletable": false,
    "editable": false,
    "id": "1qyB_mcw4IWt",
    "nbgrader": {
     "cell_type": "markdown",
     "checksum": "0a1583a5f23e3390038331cce67f5d8e",
     "grade": false,
     "grade_id": "cell-4535cc67a50b80fa",
     "locked": true,
     "schema_version": 3,
     "solution": false,
     "task": false
    }
   },
   "source": [
    "---\n",
    "### Section 7.2: LDA retrieval (5 points) <a class=\"anchor\" id=\"lda_ret\"></a>\n",
    "\n",
    "Implement the `train_model` method in the following class (note that this is only one line of code in `gensim`!). Ensure that the parameters defined in the `__init__` method are not changed, and are *used in the `train_method` function*. You do not need to set this. Normally, the hyperaparameter space will be searched using grid search / other methods. Note that training the LDA model might take some time\n",
    "\n",
    "The last two lines of code train an LDA model on the list of documents which have been stemmed, lower-cased and have stopwords removed. "
   ]
  },
  {
   "cell_type": "code",
   "execution_count": null,
   "metadata": {
    "ExecuteTime": {
     "end_time": "2021-02-15T10:48:00.855183Z",
     "start_time": "2021-02-15T10:47:43.957Z"
    },
    "deletable": false,
    "id": "Z9-cv36K4IWt",
    "nbgrader": {
     "cell_type": "code",
     "checksum": "27de8e4fa85536bb396b73bfc51b3f50",
     "grade": false,
     "grade_id": "cell-021a48dff4a8bb91",
     "locked": false,
     "schema_version": 3,
     "solution": true,
     "task": false
    }
   },
   "outputs": [],
   "source": [
    "# TODO: Implement this! (5 points)\n",
    "class LdaRetrievalModel(VectorSpaceRetrievalModel):\n",
    "    def __init__(self, doc_repr):\n",
    "        super().__init__(doc_repr)\n",
    "        \n",
    "        # use these parameters in the train_model method\n",
    "        self.num_topics = 100\n",
    "        self.chunksize = 2000\n",
    "        self.passes = 20\n",
    "        self.iterations = 400\n",
    "        self.eval_every = 10\n",
    "        # this is need to get full vectors\n",
    "        self.minimum_probability=0.0\n",
    "        self.alpha='auto'\n",
    "        self.eta='auto'\n",
    "    \n",
    "    \n",
    "    def train_model(self):\n",
    "        # YOUR CODE HERE\n",
    "        self.model = LdaModel(self.corpus, num_topics = self.num_topics, chunksize = self.chunksize, id2word = self.id2word,\n",
    "                              passes = self.passes, iterations = self.iterations, eval_every = self.eval_every, \n",
    "                              minimum_probability = self.minimum_probability, alpha = self.alpha, eta = self.eta)"
   ]
  },
  {
   "cell_type": "code",
   "execution_count": null,
   "metadata": {
    "ExecuteTime": {
     "end_time": "2021-02-15T10:48:00.856180Z",
     "start_time": "2021-02-15T10:47:43.959Z"
    },
    "deletable": false,
    "editable": false,
    "id": "Fb0jrpWb4IWu",
    "nbgrader": {
     "cell_type": "code",
     "checksum": "be70fcb8098d0b6ce64cd2a10e6a05b7",
     "grade": true,
     "grade_id": "cell-86750b715f0345fd",
     "locked": true,
     "points": 0,
     "schema_version": 3,
     "solution": false,
     "task": false
    },
    "tags": []
   },
   "outputs": [],
   "source": [
    "##### Function check\n",
    "lda = LdaRetrievalModel(doc_repr_2)\n",
    "lda.train_model()\n",
    "\n",
    "# you can now get an LDA vector for a given query in the following way:\n",
    "lda.vectorize_query(\"report\")\n",
    "##### "
   ]
  },
  {
   "cell_type": "markdown",
   "metadata": {
    "deletable": false,
    "editable": false,
    "id": "Ytw2BnNn4IWu",
    "nbgrader": {
     "cell_type": "markdown",
     "checksum": "32d83b6ea79ca3ddb789a7f8805a1b25",
     "grade": false,
     "grade_id": "cell-0e24b727d5908c0e",
     "locked": true,
     "points": 5,
     "schema_version": 3,
     "solution": false,
     "task": true
    }
   },
   "source": [
    "\\#### Please do not change this. This cell is used for grading."
   ]
  },
  {
   "cell_type": "markdown",
   "metadata": {
    "deletable": false,
    "editable": false,
    "id": "PqZBboVz4IWu",
    "nbgrader": {
     "cell_type": "markdown",
     "checksum": "114a934f0b9ce696e6cf09d3b8da6a3d",
     "grade": false,
     "grade_id": "cell-b1bffcb970b18aeb",
     "locked": true,
     "schema_version": 3,
     "solution": false,
     "task": false
    }
   },
   "source": [
    "---\n",
    "Now we can use the `DenseRetrievalModel` class to obtain an LDA search function.\n",
    "You can test your LDA model in the following cell: Try finding queries which are lexically different to documents, but semantically similar - does LDA work well for these queries?!"
   ]
  },
  {
   "cell_type": "code",
   "execution_count": null,
   "metadata": {
    "ExecuteTime": {
     "end_time": "2021-02-15T10:48:00.857177Z",
     "start_time": "2021-02-15T10:47:43.962Z"
    },
    "id": "TnPkNnQb4IWu"
   },
   "outputs": [],
   "source": [
    "drm_lda = DenseRetrievalRanker(lda, jenson_shannon_sim)\n",
    "\n",
    "# test your LDA model\n",
    "search_fn = drm_lda.search\n",
    "\n",
    "text = widgets.Text(description=\"Search Bar\", width=200)\n",
    "display(text)\n",
    "\n",
    "\n",
    "text.on_submit(handle_submit_2)"
   ]
  },
  {
   "cell_type": "markdown",
   "metadata": {
    "deletable": false,
    "editable": false,
    "id": "xa0oM-SP4IWu",
    "nbgrader": {
     "cell_type": "markdown",
     "checksum": "9d7f15863b655119b45f4d89354e5661",
     "grade": false,
     "grade_id": "cell-190cd0854b2791cc",
     "locked": true,
     "schema_version": 3,
     "solution": false,
     "task": false
    }
   },
   "source": [
    "## Section 8: Word2Vec/Doc2Vec (20 points) <a class=\"anchor\" id=\"2vec\"></a>\n",
    "\n",
    "[Back to Part 2](#part2)\n",
    "\n",
    "We will implement two other methods here, the Word2Vec model and the Doc2Vec model, also using `gensim`. Word2Vec creates representations of words, not documents, so the word level vectors need to be aggregated to obtain a representation for the document. Here, we will simply take the mean of the vectors. \n",
    "\n",
    "\n",
    "A drawback of these models is that they need a lot of training data. Our dataset is tiny, so in addition to using a model trained on the data, we will also use a pre-trained model for Word2Vec (this will be automatically downloaded).     \n",
    "\n",
    "*Note*:\n",
    "1. The code in vectorize_documents / vectorize_query should return gensim-like vectors i.e `[(dim, val), .. (dim, val)]`. \n",
    "2. For Word2Vec: You should also handle the following two cases: (a) A word in the query is not present in the vocabulary of the model and (b) none of the words in the query are present in the model - you can return 0 scores for all documents in this case. For either of these, you can check if a `word` is present in the vocab by using `word in self.model`\n"
   ]
  },
  {
   "cell_type": "code",
   "execution_count": null,
   "metadata": {
    "ExecuteTime": {
     "end_time": "2021-02-15T10:48:00.857177Z",
     "start_time": "2021-02-15T10:47:43.966Z"
    },
    "deletable": false,
    "id": "gPHOpyp34IWu",
    "nbgrader": {
     "cell_type": "code",
     "checksum": "83ab733608ed14c29c09b36b4e1b6daa",
     "grade": false,
     "grade_id": "cell-2b73759f9baf688f",
     "locked": false,
     "schema_version": 3,
     "solution": true,
     "task": false
    }
   },
   "outputs": [],
   "source": [
    "# TODO: Implement this! (10 points)\n",
    "class W2VRetrievalModel(VectorSpaceRetrievalModel):\n",
    "    def __init__(self, doc_repr):\n",
    "        super().__init__(doc_repr)\n",
    "        \n",
    "        # the dimensionality of the vectors\n",
    "        self.size = 100 \n",
    "        self.min_count = 1\n",
    "    \n",
    "    def train_model(self):\n",
    "        \"\"\"\n",
    "        Trains the W2V model\n",
    "        \"\"\"\n",
    "        # YOUR CODE HERE\n",
    "        self.model = Word2Vec(self.documents, size=self.size, min_count=self.min_count) \n",
    "        \n",
    "    def vectorize_documents(self):\n",
    "        \"\"\"\n",
    "            Returns a doc_id -> vector dictionary\n",
    "        \"\"\"\n",
    "        # YOUR CODE HERE\n",
    "        vectors = {}\n",
    "        for (doc_id, doc) in self.doc_repr:\n",
    "            accum_vecs = []\n",
    "            for token in doc:\n",
    "                if token in self.model:\n",
    "                    accum_vecs.append(self.model[token])\n",
    "\n",
    "            aggregated_vec = np.mean(accum_vecs, axis=0)\n",
    "            if not accum_vecs:\n",
    "                vectors[doc_id] = list(zip(range(self.size), self.size * [0]))\n",
    "            else:\n",
    "                vectors[doc_id] = list(zip(range(self.size), aggregated_vec))\n",
    "        return vectors\n",
    "\n",
    "    def vectorize_query(self, query):\n",
    "        \"\"\"\n",
    "        Vectorizes the query using the W2V model\n",
    "        \"\"\"\n",
    "        query = process_text(query, **config_2)\n",
    "        # YOUR CODE HERE\n",
    "        accum_vecs = []\n",
    "        for token in query:\n",
    "            if token in self.model:\n",
    "                accum_vecs.append(self.model[token])\n",
    "        aggregated_vec = np.mean(accum_vecs, axis=0)\n",
    "    \n",
    "        # If no tokens are in the model\n",
    "        if not accum_vecs:\n",
    "            return list(zip(range(self.size), self.size * [0]))\n",
    "        else:\n",
    "            return list(zip(range(self.size), aggregated_vec))\n",
    "    \n",
    "    \n",
    "class W2VPretrainedRetrievalModel(W2VRetrievalModel):\n",
    "    def __init__(self, doc_repr):\n",
    "        super().__init__(doc_repr)\n",
    "        self.model_name = \"word2vec-google-news-300\"\n",
    "        self.size = 300\n",
    "    \n",
    "    def train_model(self):\n",
    "        \"\"\"\n",
    "        Loads the pretrained model\n",
    "        \"\"\"\n",
    "        self.model = g_downloader.load(self.model_name)\n",
    "\n",
    "w2v = W2VRetrievalModel(doc_repr_2)\n",
    "w2v.train_model()\n",
    "\n",
    "# you can now get a W2V vector for a given query in the following way:\n",
    "w2v.vectorize_query(\"report\")"
   ]
  },
  {
   "cell_type": "code",
   "execution_count": null,
   "metadata": {
    "ExecuteTime": {
     "end_time": "2021-02-15T10:48:00.858174Z",
     "start_time": "2021-02-15T10:47:43.969Z"
    },
    "deletable": false,
    "editable": false,
    "id": "ATy5tnMV4IWv",
    "nbgrader": {
     "cell_type": "code",
     "checksum": "f92b5c5a8c6c4b80652b94223209ab0b",
     "grade": true,
     "grade_id": "cell-b31c0f8d214b8bdf",
     "locked": true,
     "points": 0,
     "schema_version": 3,
     "solution": false,
     "task": false
    }
   },
   "outputs": [],
   "source": [
    "assert len(w2v.vectorize_query(\"report\")) == 100\n",
    "assert len(w2v.vectorize_query(\"this is a sentence that is not mellifluous\")) == 100\n"
   ]
  },
  {
   "cell_type": "markdown",
   "metadata": {
    "deletable": false,
    "editable": false,
    "id": "lP0VtCid4IWv",
    "nbgrader": {
     "cell_type": "markdown",
     "checksum": "8dfaabebcb06f308a7ca61fdc5d369e7",
     "grade": false,
     "grade_id": "cell-c2614fa067386384",
     "locked": true,
     "points": 8,
     "schema_version": 3,
     "solution": false,
     "task": true
    }
   },
   "source": [
    "\\#### Please do not change this. This cell is used for grading."
   ]
  },
  {
   "cell_type": "code",
   "execution_count": 290,
   "metadata": {
    "ExecuteTime": {
     "end_time": "2021-02-15T10:48:00.859172Z",
     "start_time": "2021-02-15T10:47:43.972Z"
    },
    "id": "-aeBam5p4IWv"
   },
   "outputs": [
    {
     "output_type": "stream",
     "name": "stderr",
     "text": [
      "2021-02-15 16:57:46,645 : INFO : adding document #0 to Dictionary(0 unique tokens: [])\n",
      "2021-02-15 16:57:46,934 : INFO : built Dictionary(6204 unique tokens: ['-', 'algebra', 'intern', 'languag', 'preliminari']...) from 3204 documents (total 196845 corpus positions)\n",
      "2021-02-15 16:57:46,941 : INFO : discarding 4795 tokens: [('of', 2061), ('repeat', 8), ('glossari', 7), ('inspect', 8), ('the', 1794), ('uncol', 2), ('a', 1807), ('rung', 9), ('secant', 2), ('.', 1603)]...\n",
      "2021-02-15 16:57:46,942 : INFO : keeping 1409 tokens which were in no less than 10 and no more than 1602 (=50.0%) documents\n",
      "2021-02-15 16:57:46,945 : INFO : resulting dictionary: Dictionary(1409 unique tokens: ['-', 'algebra', 'intern', 'languag', 'preliminari']...)\n",
      "2021-02-15 16:57:48,153 : INFO : loading projection weights from C:\\Users\\Ruben/gensim-data\\word2vec-google-news-300\\word2vec-google-news-300.gz\n",
      "2021-02-15 16:58:29,118 : INFO : loaded (3000000, 300) matrix from C:\\Users\\Ruben/gensim-data\\word2vec-google-news-300\\word2vec-google-news-300.gz\n"
     ]
    },
    {
     "output_type": "execute_result",
     "data": {
      "text/plain": [
       "[(0, -0.14257812),\n",
       " (1, -0.1640625),\n",
       " (2, -0.09033203),\n",
       " (3, -0.11230469),\n",
       " (4, 0.100097656),\n",
       " (5, -0.041259766),\n",
       " (6, 0.048828125),\n",
       " (7, -0.13671875),\n",
       " (8, 0.19628906),\n",
       " (9, -0.13476562),\n",
       " (10, -0.017578125),\n",
       " (11, 0.032226562),\n",
       " (12, 0.095214844),\n",
       " (13, -0.10595703),\n",
       " (14, -0.16992188),\n",
       " (15, 0.041015625),\n",
       " (16, -0.26367188),\n",
       " (17, -0.0063171387),\n",
       " (18, -0.17773438),\n",
       " (19, -0.24023438),\n",
       " (20, 0.3515625),\n",
       " (21, -0.012207031),\n",
       " (22, -0.16210938),\n",
       " (23, -0.12060547),\n",
       " (24, 0.04321289),\n",
       " (25, 0.10986328),\n",
       " (26, 0.052490234),\n",
       " (27, 0.17871094),\n",
       " (28, -0.14550781),\n",
       " (29, 0.13769531),\n",
       " (30, -0.08203125),\n",
       " (31, -0.28320312),\n",
       " (32, -0.10888672),\n",
       " (33, -0.2890625),\n",
       " (34, 0.072265625),\n",
       " (35, -0.04736328),\n",
       " (36, 0.040283203),\n",
       " (37, 0.067871094),\n",
       " (38, 0.11669922),\n",
       " (39, 0.000831604),\n",
       " (40, 0.068359375),\n",
       " (41, 0.12011719),\n",
       " (42, -0.088378906),\n",
       " (43, 0.33789062),\n",
       " (44, -0.044677734),\n",
       " (45, -0.030151367),\n",
       " (46, 0.0076904297),\n",
       " (47, -0.021118164),\n",
       " (48, -0.25390625),\n",
       " (49, 0.14941406),\n",
       " (50, 0.3984375),\n",
       " (51, 0.021606445),\n",
       " (52, -0.02319336),\n",
       " (53, 0.0063476562),\n",
       " (54, 0.008239746),\n",
       " (55, -0.16894531),\n",
       " (56, 0.037353516),\n",
       " (57, -0.06347656),\n",
       " (58, 0.1171875),\n",
       " (59, -0.1484375),\n",
       " (60, -0.07861328),\n",
       " (61, 0.36914062),\n",
       " (62, -0.22460938),\n",
       " (63, 0.17382812),\n",
       " (64, 0.0138549805),\n",
       " (65, 0.1875),\n",
       " (66, -0.10107422),\n",
       " (67, 0.037841797),\n",
       " (68, 0.0021209717),\n",
       " (69, -0.05126953),\n",
       " (70, 0.096191406),\n",
       " (71, -0.057128906),\n",
       " (72, 0.10595703),\n",
       " (73, -0.020996094),\n",
       " (74, 0.16113281),\n",
       " (75, 0.09765625),\n",
       " (76, 0.038330078),\n",
       " (77, 0.21972656),\n",
       " (78, 0.10644531),\n",
       " (79, 0.0859375),\n",
       " (80, 0.1796875),\n",
       " (81, -0.08300781),\n",
       " (82, -0.033203125),\n",
       " (83, 0.041015625),\n",
       " (84, -0.064941406),\n",
       " (85, 0.019897461),\n",
       " (86, 0.13378906),\n",
       " (87, -0.09765625),\n",
       " (88, -0.19335938),\n",
       " (89, -0.23535156),\n",
       " (90, 0.19042969),\n",
       " (91, 0.0024871826),\n",
       " (92, -0.01574707),\n",
       " (93, 0.032226562),\n",
       " (94, -0.21972656),\n",
       " (95, -0.091308594),\n",
       " (96, 0.021240234),\n",
       " (97, 0.15820312),\n",
       " (98, 0.29882812),\n",
       " (99, -0.328125),\n",
       " (100, 0.057373047),\n",
       " (101, -0.04638672),\n",
       " (102, 0.11328125),\n",
       " (103, -0.1015625),\n",
       " (104, 0.18066406),\n",
       " (105, -0.025146484),\n",
       " (106, -0.16601562),\n",
       " (107, -0.096191406),\n",
       " (108, 0.018798828),\n",
       " (109, -0.19433594),\n",
       " (110, 0.14941406),\n",
       " (111, -0.056640625),\n",
       " (112, -0.106933594),\n",
       " (113, -0.15039062),\n",
       " (114, -0.17578125),\n",
       " (115, 0.11279297),\n",
       " (116, 0.049316406),\n",
       " (117, 0.21972656),\n",
       " (118, 0.31835938),\n",
       " (119, 0.15722656),\n",
       " (120, -0.29296875),\n",
       " (121, 0.10498047),\n",
       " (122, -0.296875),\n",
       " (123, -0.013427734),\n",
       " (124, 0.09082031),\n",
       " (125, 0.012573242),\n",
       " (126, -0.051513672),\n",
       " (127, -0.12890625),\n",
       " (128, 0.014465332),\n",
       " (129, 0.12060547),\n",
       " (130, -0.10107422),\n",
       " (131, -0.111328125),\n",
       " (132, 0.063964844),\n",
       " (133, -0.052978516),\n",
       " (134, -0.04321289),\n",
       " (135, -0.012939453),\n",
       " (136, -0.02758789),\n",
       " (137, -0.09716797),\n",
       " (138, -0.20214844),\n",
       " (139, 0.123046875),\n",
       " (140, -0.04248047),\n",
       " (141, 0.17382812),\n",
       " (142, -0.013671875),\n",
       " (143, 0.1015625),\n",
       " (144, -0.0009384155),\n",
       " (145, -0.03564453),\n",
       " (146, 0.30078125),\n",
       " (147, -0.068359375),\n",
       " (148, -0.056152344),\n",
       " (149, 0.037597656),\n",
       " (150, 0.06591797),\n",
       " (151, 0.040283203),\n",
       " (152, 0.0119018555),\n",
       " (153, 0.096191406),\n",
       " (154, 0.3671875),\n",
       " (155, -0.27929688),\n",
       " (156, -0.052001953),\n",
       " (157, -0.106933594),\n",
       " (158, -0.13476562),\n",
       " (159, -0.046142578),\n",
       " (160, 0.25),\n",
       " (161, 0.0056762695),\n",
       " (162, -0.014404297),\n",
       " (163, -0.03100586),\n",
       " (164, -0.060302734),\n",
       " (165, 0.10595703),\n",
       " (166, 0.37890625),\n",
       " (167, 0.05883789),\n",
       " (168, 0.123046875),\n",
       " (169, -0.115234375),\n",
       " (170, 0.14941406),\n",
       " (171, -0.1640625),\n",
       " (172, -0.23339844),\n",
       " (173, -0.07763672),\n",
       " (174, 0.026733398),\n",
       " (175, -0.021118164),\n",
       " (176, 0.19433594),\n",
       " (177, -0.056152344),\n",
       " (178, -0.006439209),\n",
       " (179, -0.16992188),\n",
       " (180, -0.118652344),\n",
       " (181, -0.06738281),\n",
       " (182, -0.068847656),\n",
       " (183, -0.08691406),\n",
       " (184, -0.1015625),\n",
       " (185, 0.014160156),\n",
       " (186, -0.20117188),\n",
       " (187, 0.09814453),\n",
       " (188, -0.010253906),\n",
       " (189, 0.1875),\n",
       " (190, 0.19628906),\n",
       " (191, -0.22070312),\n",
       " (192, -0.19628906),\n",
       " (193, -0.07373047),\n",
       " (194, 0.06640625),\n",
       " (195, -0.13378906),\n",
       " (196, 0.18359375),\n",
       " (197, -0.20019531),\n",
       " (198, 0.19824219),\n",
       " (199, 0.05029297),\n",
       " (200, 0.029907227),\n",
       " (201, 0.017700195),\n",
       " (202, -0.19335938),\n",
       " (203, -0.096191406),\n",
       " (204, -0.10253906),\n",
       " (205, 0.21289062),\n",
       " (206, -0.029907227),\n",
       " (207, 0.14355469),\n",
       " (208, 0.041015625),\n",
       " (209, -0.21191406),\n",
       " (210, 0.20800781),\n",
       " (211, 0.13769531),\n",
       " (212, -0.01965332),\n",
       " (213, 0.014953613),\n",
       " (214, -0.09765625),\n",
       " (215, 0.24316406),\n",
       " (216, 0.080078125),\n",
       " (217, 0.08251953),\n",
       " (218, 0.09863281),\n",
       " (219, 0.056884766),\n",
       " (220, 0.04248047),\n",
       " (221, 0.068847656),\n",
       " (222, -0.03540039),\n",
       " (223, -0.076171875),\n",
       " (224, -0.00016117096),\n",
       " (225, -0.07519531),\n",
       " (226, 0.22460938),\n",
       " (227, 0.15136719),\n",
       " (228, 0.10058594),\n",
       " (229, 0.10986328),\n",
       " (230, 0.023803711),\n",
       " (231, 0.088378906),\n",
       " (232, 0.061767578),\n",
       " (233, -0.107910156),\n",
       " (234, 0.06225586),\n",
       " (235, 0.0034332275),\n",
       " (236, 0.080566406),\n",
       " (237, 0.106933594),\n",
       " (238, 0.08886719),\n",
       " (239, -0.23730469),\n",
       " (240, 0.064941406),\n",
       " (241, 0.010192871),\n",
       " (242, -0.088378906),\n",
       " (243, -0.33203125),\n",
       " (244, 0.0046691895),\n",
       " (245, 0.21289062),\n",
       " (246, 0.0859375),\n",
       " (247, 0.020385742),\n",
       " (248, 0.045654297),\n",
       " (249, 0.1484375),\n",
       " (250, 0.11816406),\n",
       " (251, 0.055664062),\n",
       " (252, -0.17285156),\n",
       " (253, -0.125),\n",
       " (254, -0.025390625),\n",
       " (255, -0.31835938),\n",
       " (256, 0.03112793),\n",
       " (257, 0.0859375),\n",
       " (258, -0.041992188),\n",
       " (259, 0.15625),\n",
       " (260, 0.16113281),\n",
       " (261, 0.19824219),\n",
       " (262, -0.100097656),\n",
       " (263, 0.203125),\n",
       " (264, 0.12890625),\n",
       " (265, 0.23339844),\n",
       " (266, -0.26757812),\n",
       " (267, 0.05517578),\n",
       " (268, 0.048828125),\n",
       " (269, 0.072265625),\n",
       " (270, 0.24414062),\n",
       " (271, 0.24414062),\n",
       " (272, 0.056884766),\n",
       " (273, -0.0546875),\n",
       " (274, -0.033691406),\n",
       " (275, -0.12060547),\n",
       " (276, 0.03491211),\n",
       " (277, -0.14550781),\n",
       " (278, 0.087402344),\n",
       " (279, -0.08300781),\n",
       " (280, 0.017211914),\n",
       " (281, 0.14355469),\n",
       " (282, -0.122558594),\n",
       " (283, 0.1796875),\n",
       " (284, 0.13085938),\n",
       " (285, -0.16503906),\n",
       " (286, 0.012756348),\n",
       " (287, 0.16015625),\n",
       " (288, -0.03112793),\n",
       " (289, 0.08203125),\n",
       " (290, 0.17382812),\n",
       " (291, -0.16796875),\n",
       " (292, 0.13085938),\n",
       " (293, 0.08544922),\n",
       " (294, -0.2109375),\n",
       " (295, -0.13085938),\n",
       " (296, -0.028930664),\n",
       " (297, -0.10546875),\n",
       " (298, 0.084472656),\n",
       " (299, -0.14160156)]"
      ]
     },
     "metadata": {},
     "execution_count": 290
    }
   ],
   "source": [
    "w2v_pretrained = W2VPretrainedRetrievalModel(doc_repr_2)\n",
    "w2v_pretrained.train_model()\n",
    "\n",
    "# you can now get an W2V vector for a given query in the following way:\n",
    "w2v_pretrained.vectorize_query(\"report\")"
   ]
  },
  {
   "cell_type": "code",
   "execution_count": 291,
   "metadata": {
    "ExecuteTime": {
     "end_time": "2021-02-15T10:48:00.860169Z",
     "start_time": "2021-02-15T10:47:43.974Z"
    },
    "deletable": false,
    "editable": false,
    "id": "_0ifhcln4IWv",
    "nbgrader": {
     "cell_type": "code",
     "checksum": "0822845afb5eafe5ddb1ffeaa4f4942a",
     "grade": true,
     "grade_id": "cell-1b1466f8ce516f42",
     "locked": true,
     "points": 2,
     "schema_version": 3,
     "solution": false,
     "task": false
    }
   },
   "outputs": [
    {
     "output_type": "stream",
     "name": "stdout",
     "text": [
      "300\n"
     ]
    }
   ],
   "source": [
    "##### Function check\n",
    "\n",
    "print(len(w2v_pretrained.vectorize_query(\"report\")))\n",
    "#####"
   ]
  },
  {
   "cell_type": "code",
   "execution_count": 292,
   "metadata": {
    "ExecuteTime": {
     "end_time": "2021-02-15T10:48:00.861166Z",
     "start_time": "2021-02-15T10:47:43.976Z"
    },
    "id": "VCpO-xcU4IWv"
   },
   "outputs": [
    {
     "output_type": "display_data",
     "data": {
      "text/plain": "Text(value='', description='Search Bar')",
      "application/vnd.jupyter.widget-view+json": {
       "version_major": 2,
       "version_minor": 0,
       "model_id": "10905565ec60483fb46bf3d931b16517"
      }
     },
     "metadata": {}
    }
   ],
   "source": [
    "drm_w2v = DenseRetrievalRanker(w2v, cosine_sim)\n",
    "\n",
    "# test your LDA model\n",
    "search_fn = drm_w2v.search\n",
    "\n",
    "text = widgets.Text(description=\"Search Bar\", width=200)\n",
    "display(text)\n",
    "\n",
    "\n",
    "text.on_submit(handle_submit_2)"
   ]
  },
  {
   "cell_type": "code",
   "execution_count": 293,
   "metadata": {
    "ExecuteTime": {
     "end_time": "2021-02-15T10:48:00.861166Z",
     "start_time": "2021-02-15T10:47:43.978Z"
    },
    "id": "7wyn-qfY4IWv"
   },
   "outputs": [
    {
     "output_type": "display_data",
     "data": {
      "text/plain": "Text(value='', description='Search Bar')",
      "application/vnd.jupyter.widget-view+json": {
       "version_major": 2,
       "version_minor": 0,
       "model_id": "21857d56748d4c5cad8e9ef32c92fc15"
      }
     },
     "metadata": {}
    }
   ],
   "source": [
    "drm_w2v_pretrained = DenseRetrievalRanker(w2v_pretrained, cosine_sim)\n",
    "\n",
    "# test your LDA model\n",
    "search_fn = drm_w2v_pretrained.search\n",
    "\n",
    "text = widgets.Text(description=\"Search Bar\", width=200)\n",
    "display(text)\n",
    "\n",
    "\n",
    "text.on_submit(handle_submit_2)"
   ]
  },
  {
   "cell_type": "markdown",
   "metadata": {
    "deletable": false,
    "editable": false,
    "id": "giJFuUld4IWv",
    "nbgrader": {
     "cell_type": "markdown",
     "checksum": "51b778984fd60757974f51047c61eb15",
     "grade": false,
     "grade_id": "cell-b92f701cbc706108",
     "locked": true,
     "schema_version": 3,
     "solution": false,
     "task": false
    }
   },
   "source": [
    "**Implementation (10 points):**\n",
    "For Doc2Vec, you will need to create a list of `TaggedDocument` instead of using the `self.corpus` or `self.documents` variable. Use the document id as the 'tag'.\n",
    "  "
   ]
  },
  {
   "cell_type": "code",
   "execution_count": 294,
   "metadata": {
    "ExecuteTime": {
     "end_time": "2021-02-15T10:48:00.862164Z",
     "start_time": "2021-02-15T10:47:43.980Z"
    },
    "deletable": false,
    "id": "_Ie4aqXa4IWw",
    "nbgrader": {
     "cell_type": "code",
     "checksum": "1f60fdeb97febb7f4a6fd5bf109aac20",
     "grade": false,
     "grade_id": "cell-680facdcc98a19ab",
     "locked": false,
     "schema_version": 3,
     "solution": true,
     "task": false
    },
    "tags": []
   },
   "outputs": [
    {
     "output_type": "stream",
     "name": "stderr",
     "text": [
      "2021-02-15 16:58:57,862 : INFO : adding document #0 to Dictionary(0 unique tokens: [])\n",
      "2021-02-15 16:58:58,012 : INFO : built Dictionary(6204 unique tokens: ['-', 'algebra', 'intern', 'languag', 'preliminari']...) from 3204 documents (total 196845 corpus positions)\n",
      "2021-02-15 16:58:58,019 : INFO : discarding 4795 tokens: [('of', 2061), ('repeat', 8), ('glossari', 7), ('inspect', 8), ('the', 1794), ('uncol', 2), ('a', 1807), ('rung', 9), ('secant', 2), ('.', 1603)]...\n",
      "2021-02-15 16:58:58,020 : INFO : keeping 1409 tokens which were in no less than 10 and no more than 1602 (=50.0%) documents\n",
      "2021-02-15 16:58:58,024 : INFO : resulting dictionary: Dictionary(1409 unique tokens: ['-', 'algebra', 'intern', 'languag', 'preliminari']...)\n",
      "2021-02-15 16:58:58,129 : INFO : collecting all words and their counts\n",
      "2021-02-15 16:58:58,129 : INFO : PROGRESS: at example #0, processed 0 words (0/s), 0 word types, 0 tags\n",
      "2021-02-15 16:58:58,162 : INFO : collected 6204 word types and 3205 unique tags from a corpus of 3204 examples and 196845 words\n",
      "2021-02-15 16:58:58,163 : INFO : Loading a fresh vocabulary\n",
      "2021-02-15 16:58:58,173 : INFO : effective_min_count=1 retains 6204 unique words (100% of original 6204, drops 0)\n",
      "2021-02-15 16:58:58,174 : INFO : effective_min_count=1 leaves 196845 word corpus (100% of original 196845, drops 0)\n",
      "2021-02-15 16:58:58,189 : INFO : deleting the raw counts dictionary of 6204 items\n",
      "2021-02-15 16:58:58,191 : INFO : sample=0.001 downsamples 42 most-common words\n",
      "2021-02-15 16:58:58,191 : INFO : downsampling leaves estimated 136742 word corpus (69.5% of prior 196845)\n",
      "2021-02-15 16:58:58,206 : INFO : estimated required memory for 6204 words and 100 dimensions: 9347200 bytes\n",
      "2021-02-15 16:58:58,207 : INFO : resetting layer weights\n",
      "2021-02-15 16:58:59,821 : INFO : training model with 3 workers on 6204 vocabulary and 100 features, using sg=0 hs=0 sample=0.001 negative=5 window=5\n",
      "2021-02-15 16:59:00,094 : INFO : worker thread finished; awaiting finish of 2 more threads\n",
      "2021-02-15 16:59:00,104 : INFO : worker thread finished; awaiting finish of 1 more threads\n",
      "2021-02-15 16:59:00,107 : INFO : worker thread finished; awaiting finish of 0 more threads\n",
      "2021-02-15 16:59:00,108 : INFO : EPOCH - 1 : training on 196845 raw words (139939 effective words) took 0.3s, 526336 effective words/s\n",
      "2021-02-15 16:59:00,358 : INFO : worker thread finished; awaiting finish of 2 more threads\n",
      "2021-02-15 16:59:00,363 : INFO : worker thread finished; awaiting finish of 1 more threads\n",
      "2021-02-15 16:59:00,367 : INFO : worker thread finished; awaiting finish of 0 more threads\n",
      "2021-02-15 16:59:00,367 : INFO : EPOCH - 2 : training on 196845 raw words (140067 effective words) took 0.3s, 545646 effective words/s\n",
      "2021-02-15 16:59:00,616 : INFO : worker thread finished; awaiting finish of 2 more threads\n",
      "2021-02-15 16:59:00,620 : INFO : worker thread finished; awaiting finish of 1 more threads\n",
      "2021-02-15 16:59:00,622 : INFO : worker thread finished; awaiting finish of 0 more threads\n",
      "2021-02-15 16:59:00,622 : INFO : EPOCH - 3 : training on 196845 raw words (139838 effective words) took 0.3s, 556023 effective words/s\n",
      "2021-02-15 16:59:00,864 : INFO : worker thread finished; awaiting finish of 2 more threads\n",
      "2021-02-15 16:59:00,876 : INFO : worker thread finished; awaiting finish of 1 more threads\n",
      "2021-02-15 16:59:00,877 : INFO : worker thread finished; awaiting finish of 0 more threads\n",
      "2021-02-15 16:59:00,877 : INFO : EPOCH - 4 : training on 196845 raw words (140152 effective words) took 0.3s, 556505 effective words/s\n",
      "2021-02-15 16:59:01,128 : INFO : worker thread finished; awaiting finish of 2 more threads\n",
      "2021-02-15 16:59:01,144 : INFO : worker thread finished; awaiting finish of 1 more threads\n",
      "2021-02-15 16:59:01,145 : INFO : worker thread finished; awaiting finish of 0 more threads\n",
      "2021-02-15 16:59:01,146 : INFO : EPOCH - 5 : training on 196845 raw words (140176 effective words) took 0.3s, 531394 effective words/s\n",
      "2021-02-15 16:59:01,402 : INFO : worker thread finished; awaiting finish of 2 more threads\n",
      "2021-02-15 16:59:01,412 : INFO : worker thread finished; awaiting finish of 1 more threads\n",
      "2021-02-15 16:59:01,416 : INFO : worker thread finished; awaiting finish of 0 more threads\n",
      "2021-02-15 16:59:01,418 : INFO : EPOCH - 6 : training on 196845 raw words (139940 effective words) took 0.3s, 520330 effective words/s\n",
      "2021-02-15 16:59:01,667 : INFO : worker thread finished; awaiting finish of 2 more threads\n",
      "2021-02-15 16:59:01,675 : INFO : worker thread finished; awaiting finish of 1 more threads\n",
      "2021-02-15 16:59:01,676 : INFO : worker thread finished; awaiting finish of 0 more threads\n",
      "2021-02-15 16:59:01,677 : INFO : EPOCH - 7 : training on 196845 raw words (140040 effective words) took 0.3s, 545117 effective words/s\n",
      "2021-02-15 16:59:01,932 : INFO : worker thread finished; awaiting finish of 2 more threads\n",
      "2021-02-15 16:59:01,939 : INFO : worker thread finished; awaiting finish of 1 more threads\n",
      "2021-02-15 16:59:01,940 : INFO : worker thread finished; awaiting finish of 0 more threads\n",
      "2021-02-15 16:59:01,940 : INFO : EPOCH - 8 : training on 196845 raw words (140044 effective words) took 0.3s, 540365 effective words/s\n",
      "2021-02-15 16:59:02,192 : INFO : worker thread finished; awaiting finish of 2 more threads\n",
      "2021-02-15 16:59:02,203 : INFO : worker thread finished; awaiting finish of 1 more threads\n",
      "2021-02-15 16:59:02,204 : INFO : worker thread finished; awaiting finish of 0 more threads\n",
      "2021-02-15 16:59:02,205 : INFO : EPOCH - 9 : training on 196845 raw words (140019 effective words) took 0.3s, 535344 effective words/s\n",
      "2021-02-15 16:59:02,455 : INFO : worker thread finished; awaiting finish of 2 more threads\n",
      "2021-02-15 16:59:02,472 : INFO : worker thread finished; awaiting finish of 1 more threads\n",
      "2021-02-15 16:59:02,475 : INFO : worker thread finished; awaiting finish of 0 more threads\n",
      "2021-02-15 16:59:02,476 : INFO : EPOCH - 10 : training on 196845 raw words (139986 effective words) took 0.3s, 523599 effective words/s\n",
      "2021-02-15 16:59:02,728 : INFO : worker thread finished; awaiting finish of 2 more threads\n",
      "2021-02-15 16:59:02,738 : INFO : worker thread finished; awaiting finish of 1 more threads\n",
      "2021-02-15 16:59:02,740 : INFO : worker thread finished; awaiting finish of 0 more threads\n",
      "2021-02-15 16:59:02,741 : INFO : EPOCH - 11 : training on 196845 raw words (139888 effective words) took 0.3s, 534107 effective words/s\n",
      "2021-02-15 16:59:03,005 : INFO : worker thread finished; awaiting finish of 2 more threads\n",
      "2021-02-15 16:59:03,013 : INFO : worker thread finished; awaiting finish of 1 more threads\n",
      "2021-02-15 16:59:03,015 : INFO : worker thread finished; awaiting finish of 0 more threads\n",
      "2021-02-15 16:59:03,017 : INFO : EPOCH - 12 : training on 196845 raw words (139923 effective words) took 0.3s, 514613 effective words/s\n",
      "2021-02-15 16:59:03,270 : INFO : worker thread finished; awaiting finish of 2 more threads\n",
      "2021-02-15 16:59:03,286 : INFO : worker thread finished; awaiting finish of 1 more threads\n",
      "2021-02-15 16:59:03,287 : INFO : worker thread finished; awaiting finish of 0 more threads\n",
      "2021-02-15 16:59:03,288 : INFO : EPOCH - 13 : training on 196845 raw words (139910 effective words) took 0.3s, 521107 effective words/s\n",
      "2021-02-15 16:59:03,539 : INFO : worker thread finished; awaiting finish of 2 more threads\n",
      "2021-02-15 16:59:03,556 : INFO : worker thread finished; awaiting finish of 1 more threads\n",
      "2021-02-15 16:59:03,558 : INFO : worker thread finished; awaiting finish of 0 more threads\n",
      "2021-02-15 16:59:03,559 : INFO : EPOCH - 14 : training on 196845 raw words (139999 effective words) took 0.3s, 522846 effective words/s\n",
      "2021-02-15 16:59:03,809 : INFO : worker thread finished; awaiting finish of 2 more threads\n",
      "2021-02-15 16:59:03,823 : INFO : worker thread finished; awaiting finish of 1 more threads\n",
      "2021-02-15 16:59:03,826 : INFO : worker thread finished; awaiting finish of 0 more threads\n",
      "2021-02-15 16:59:03,826 : INFO : EPOCH - 15 : training on 196845 raw words (139800 effective words) took 0.3s, 530380 effective words/s\n",
      "2021-02-15 16:59:04,097 : INFO : worker thread finished; awaiting finish of 2 more threads\n",
      "2021-02-15 16:59:04,103 : INFO : worker thread finished; awaiting finish of 1 more threads\n",
      "2021-02-15 16:59:04,105 : INFO : worker thread finished; awaiting finish of 0 more threads\n",
      "2021-02-15 16:59:04,106 : INFO : EPOCH - 16 : training on 196845 raw words (139756 effective words) took 0.3s, 506239 effective words/s\n",
      "2021-02-15 16:59:04,369 : INFO : worker thread finished; awaiting finish of 2 more threads\n",
      "2021-02-15 16:59:04,374 : INFO : worker thread finished; awaiting finish of 1 more threads\n",
      "2021-02-15 16:59:04,375 : INFO : worker thread finished; awaiting finish of 0 more threads\n",
      "2021-02-15 16:59:04,376 : INFO : EPOCH - 17 : training on 196845 raw words (139902 effective words) took 0.3s, 523278 effective words/s\n",
      "2021-02-15 16:59:04,634 : INFO : worker thread finished; awaiting finish of 2 more threads\n",
      "2021-02-15 16:59:04,649 : INFO : worker thread finished; awaiting finish of 1 more threads\n",
      "2021-02-15 16:59:04,649 : INFO : worker thread finished; awaiting finish of 0 more threads\n",
      "2021-02-15 16:59:04,650 : INFO : EPOCH - 18 : training on 196845 raw words (139842 effective words) took 0.3s, 520066 effective words/s\n",
      "2021-02-15 16:59:04,884 : INFO : worker thread finished; awaiting finish of 2 more threads\n",
      "2021-02-15 16:59:04,898 : INFO : worker thread finished; awaiting finish of 1 more threads\n",
      "2021-02-15 16:59:04,899 : INFO : worker thread finished; awaiting finish of 0 more threads\n",
      "2021-02-15 16:59:04,900 : INFO : EPOCH - 19 : training on 196845 raw words (139861 effective words) took 0.2s, 569060 effective words/s\n",
      "2021-02-15 16:59:05,145 : INFO : worker thread finished; awaiting finish of 2 more threads\n",
      "2021-02-15 16:59:05,150 : INFO : worker thread finished; awaiting finish of 1 more threads\n",
      "2021-02-15 16:59:05,152 : INFO : worker thread finished; awaiting finish of 0 more threads\n",
      "2021-02-15 16:59:05,153 : INFO : EPOCH - 20 : training on 196845 raw words (140002 effective words) took 0.2s, 560390 effective words/s\n",
      "2021-02-15 16:59:05,153 : INFO : training on a 3936900 raw words (2799084 effective words) took 5.3s, 525040 effective words/s\n"
     ]
    },
    {
     "output_type": "execute_result",
     "data": {
      "text/plain": [
       "[(0, 0.030458093),\n",
       " (1, -0.10330837),\n",
       " (2, -0.030851273),\n",
       " (3, 0.017395075),\n",
       " (4, -0.02724556),\n",
       " (5, -0.041927174),\n",
       " (6, 0.01454587),\n",
       " (7, -0.07917409),\n",
       " (8, -0.069923006),\n",
       " (9, 0.145718),\n",
       " (10, 0.025010528),\n",
       " (11, 0.06443714),\n",
       " (12, 0.07579766),\n",
       " (13, 0.037443843),\n",
       " (14, -0.081770256),\n",
       " (15, 0.054890208),\n",
       " (16, 0.053694177),\n",
       " (17, -0.07740489),\n",
       " (18, 0.06925261),\n",
       " (19, 0.05295206),\n",
       " (20, -0.11138406),\n",
       " (21, -0.049584042),\n",
       " (22, -0.057546612),\n",
       " (23, 0.10071735),\n",
       " (24, 0.07206973),\n",
       " (25, 0.05475045),\n",
       " (26, 0.061118424),\n",
       " (27, 0.007805746),\n",
       " (28, -0.080160506),\n",
       " (29, 0.050211),\n",
       " (30, 0.07618337),\n",
       " (31, 0.013674337),\n",
       " (32, -0.03038249),\n",
       " (33, 0.017519288),\n",
       " (34, -0.10762323),\n",
       " (35, 0.0021520734),\n",
       " (36, -0.07818067),\n",
       " (37, 0.013561896),\n",
       " (38, -0.07669476),\n",
       " (39, -0.096356995),\n",
       " (40, 0.07375243),\n",
       " (41, -0.059931815),\n",
       " (42, -0.09331523),\n",
       " (43, -0.0114515405),\n",
       " (44, -0.004445448),\n",
       " (45, 0.013078437),\n",
       " (46, -0.04819145),\n",
       " (47, 0.08689441),\n",
       " (48, -0.026797252),\n",
       " (49, -0.0016781124),\n",
       " (50, 0.09335938),\n",
       " (51, -0.058225986),\n",
       " (52, 0.06276534),\n",
       " (53, -0.02742156),\n",
       " (54, 0.060778107),\n",
       " (55, 0.07018259),\n",
       " (56, -0.035902455),\n",
       " (57, 0.0329586),\n",
       " (58, 0.013535923),\n",
       " (59, 0.15285844),\n",
       " (60, 0.0662403),\n",
       " (61, 0.005211085),\n",
       " (62, 0.059358384),\n",
       " (63, 0.029300097),\n",
       " (64, -0.06363767),\n",
       " (65, 0.06901541),\n",
       " (66, 0.08289427),\n",
       " (67, -0.012844054),\n",
       " (68, -0.12000647),\n",
       " (69, 0.072358474),\n",
       " (70, -0.031312753),\n",
       " (71, -0.11381734),\n",
       " (72, 0.13124648),\n",
       " (73, -0.054522667),\n",
       " (74, 0.030694006),\n",
       " (75, 0.027308702),\n",
       " (76, -0.048286833),\n",
       " (77, -0.025879027),\n",
       " (78, 0.1093399),\n",
       " (79, 0.055704832),\n",
       " (80, -0.005568691),\n",
       " (81, 0.059578765),\n",
       " (82, 0.13334215),\n",
       " (83, 0.009451138),\n",
       " (84, 0.046425432),\n",
       " (85, -0.06882162),\n",
       " (86, 0.035656225),\n",
       " (87, -0.0035309112),\n",
       " (88, -0.028559899),\n",
       " (89, -0.03910497),\n",
       " (90, -0.073634855),\n",
       " (91, 0.01235834),\n",
       " (92, -0.030366976),\n",
       " (93, -0.0013782098),\n",
       " (94, 0.10112782),\n",
       " (95, -0.015910093),\n",
       " (96, 0.051442362),\n",
       " (97, -0.03254336),\n",
       " (98, 0.022326328),\n",
       " (99, -0.0142642865)]"
      ]
     },
     "metadata": {},
     "execution_count": 294
    }
   ],
   "source": [
    "# TODO: Implement this! (10 points)\n",
    "class D2VRetrievalModel(VectorSpaceRetrievalModel):\n",
    "    def __init__(self, doc_repr):\n",
    "        super().__init__(doc_repr)\n",
    "        \n",
    "        self.vector_size= 100\n",
    "        self.min_count = 1\n",
    "        self.epochs = 20\n",
    "        \n",
    "        # YOUR CODE HERE\n",
    "        self.tagged_docs = [TaggedDocument(doc, [int(doc_id)]) for doc_id, doc in self.doc_repr]\n",
    "\n",
    "    def train_model(self):\n",
    "        # YOUR CODE HERE\n",
    "        self.model = Doc2Vec(self.tagged_docs, vector_size=self.vector_size, min_count=self.min_count, epochs=self.epochs)\n",
    "    \n",
    "    def vectorize_documents(self):\n",
    "        \"\"\"\n",
    "            Returns a doc_id -> vector dictionary\n",
    "        \"\"\"\n",
    "        # YOUR CODE HERE\n",
    "        vectors = {}\n",
    "        for (doc_id, _) in self.doc_repr:\n",
    "            vectors[doc_id] = list(zip(range(self.vector_size), self.model[int(doc_id)]))\n",
    "        return vectors\n",
    "\n",
    "    def vectorize_query(self, query): \n",
    "        query = process_text(query, **config_2)\n",
    "        # YOUR CODE HERE\n",
    "        # Here we just infer the vector for the query.\n",
    "        return list(zip(range(self.vector_size), self.model.infer_vector(query)))\n",
    "        \n",
    "d2v = D2VRetrievalModel(doc_repr_2)\n",
    "d2v.train_model()\n",
    "\n",
    "\n",
    "# # you can now get an LSI vector for a given query in the following way:\n",
    "d2v.vectorize_query(\"report\")"
   ]
  },
  {
   "cell_type": "code",
   "execution_count": 182,
   "metadata": {
    "ExecuteTime": {
     "end_time": "2021-02-15T10:48:00.862164Z",
     "start_time": "2021-02-15T10:47:43.983Z"
    },
    "deletable": false,
    "editable": false,
    "id": "PES2gma44IWw",
    "nbgrader": {
     "cell_type": "code",
     "checksum": "e83a363a9d4f136efbdde1426a83925e",
     "grade": true,
     "grade_id": "cell-5e2c5e0c9a2e8cb5",
     "locked": true,
     "points": 0,
     "schema_version": 3,
     "solution": false,
     "task": false
    }
   },
   "outputs": [],
   "source": [
    "#### Please do not change this. This cell is used for grading."
   ]
  },
  {
   "cell_type": "markdown",
   "metadata": {
    "deletable": false,
    "editable": false,
    "id": "uCHYfnTf4IWw",
    "nbgrader": {
     "cell_type": "markdown",
     "checksum": "5bb46bf6b9be1e0ca66f0b0bc6260ecb",
     "grade": false,
     "grade_id": "cell-8a49d414f798a595",
     "locked": true,
     "points": 10,
     "schema_version": 3,
     "solution": false,
     "task": true
    }
   },
   "source": [
    "\\#### Please do not change this. This cell is used for grading."
   ]
  },
  {
   "cell_type": "code",
   "execution_count": 295,
   "metadata": {
    "ExecuteTime": {
     "end_time": "2021-02-15T10:48:00.863162Z",
     "start_time": "2021-02-15T10:47:43.986Z"
    },
    "id": "eceopG-Y4IWw",
    "tags": []
   },
   "outputs": [
    {
     "output_type": "display_data",
     "data": {
      "text/plain": "Text(value='', description='Search Bar')",
      "application/vnd.jupyter.widget-view+json": {
       "version_major": 2,
       "version_minor": 0,
       "model_id": "323360a3676741558902d72bb7ef7947"
      }
     },
     "metadata": {}
    }
   ],
   "source": [
    "drm_d2v = DenseRetrievalRanker(d2v, cosine_sim)\n",
    "\n",
    "# test your LDA model\n",
    "search_fn = drm_d2v.search\n",
    "\n",
    "text = widgets.Text(description=\"Search Bar\", width=200)\n",
    "display(text)\n",
    "\n",
    "\n",
    "text.on_submit(handle_submit_2)"
   ]
  },
  {
   "cell_type": "markdown",
   "metadata": {
    "deletable": false,
    "editable": false,
    "id": "uJBmD00Y4IWw",
    "nbgrader": {
     "cell_type": "markdown",
     "checksum": "363ec36c1d03d9f9e1c2045a6e193c14",
     "grade": false,
     "grade_id": "cell-3529ae29eece7b97",
     "locked": true,
     "schema_version": 3,
     "solution": false,
     "task": false
    }
   },
   "source": [
    "---\n",
    "## Section 9: Re-ranking (10 points) <a class=\"anchor\" id=\"reranking\"></a>\n",
    "\n",
    "[Back to Part 2](#part2)\n",
    "\n",
    "To motivate the re-ranking perspective (i.e retrieve with lexical method + rerank with a semantic method), let's search using semantic methods and compare it to BM25's performance, along with their runtime:\n"
   ]
  },
  {
   "cell_type": "code",
   "execution_count": 296,
   "metadata": {
    "ExecuteTime": {
     "end_time": "2021-02-15T10:48:00.864159Z",
     "start_time": "2021-02-15T10:47:43.988Z"
    },
    "deletable": false,
    "editable": false,
    "id": "iO8Q3KWc4IWw",
    "nbgrader": {
     "cell_type": "code",
     "checksum": "5755f70e3eb28abc65d14d80125338af",
     "grade": false,
     "grade_id": "cell-f8f43bf5ae383128",
     "locked": true,
     "schema_version": 3,
     "solution": false,
     "task": false
    }
   },
   "outputs": [
    {
     "output_type": "stream",
     "name": "stdout",
     "text": [
      "BM25: \n",
      "632 µs ± 30.6 µs per loop (mean ± std. dev. of 7 runs, 1000 loops each)\n",
      "LSI: \n",
      "276 ms ± 6.87 ms per loop (mean ± std. dev. of 7 runs, 1 loop each)\n",
      "LDA: \n",
      "144 ms ± 4.83 ms per loop (mean ± std. dev. of 7 runs, 10 loops each)\n",
      "W2V: \n",
      "1.64 s ± 54.7 ms per loop (mean ± std. dev. of 7 runs, 1 loop each)\n",
      "W2V(Pretrained): \n",
      "5.6 s ± 926 ms per loop (mean ± std. dev. of 7 runs, 1 loop each)\n",
      "D2V:\n",
      "1.68 s ± 44.8 ms per loop (mean ± std. dev. of 7 runs, 1 loop each)\n"
     ]
    }
   ],
   "source": [
    "query = \"algebraic functions\"\n",
    "print(\"BM25: \")\n",
    "%timeit bm25_search(query, 2)\n",
    "print(\"LSI: \")\n",
    "%timeit drm_lsi.search(query)\n",
    "print(\"LDA: \")\n",
    "%timeit drm_lda.search(query)\n",
    "print(\"W2V: \")\n",
    "%timeit drm_w2v.search(query)\n",
    "print(\"W2V(Pretrained): \")\n",
    "%timeit drm_w2v_pretrained.search(query)\n",
    "print(\"D2V:\")\n",
    "%timeit drm_d2v.search(query)"
   ]
  },
  {
   "cell_type": "markdown",
   "metadata": {
    "deletable": false,
    "editable": false,
    "id": "oBnOArQC4IWx",
    "nbgrader": {
     "cell_type": "markdown",
     "checksum": "ae398da0a8c23c95bcbb0023b7ec6f34",
     "grade": false,
     "grade_id": "cell-db5ff09f97841af7",
     "locked": true,
     "schema_version": 3,
     "solution": false,
     "task": false
    }
   },
   "source": [
    "---\n",
    "\n",
    "**Implementation (10 points):**\n",
    "Re-ranking involves retrieving a small set of documents using simple but fast methods like BM25 and then re-ranking them with the aid of semantic methods such as LDA or LSI. Implement the following class, which takes in an `initial_retrieval_fn` - the initial retrieval function and `vsrm` - an instance of the `VectorSpaceRetrievalModel` class (i.e LSI/LDA) as input. The search function should first retrieve an initial list of K documents, and then these documents are re-ranked using a semantic method. This not only makes retrieval faster, but semantic methods perform poorly when used in isolation, as you will find out."
   ]
  },
  {
   "cell_type": "code",
   "execution_count": 297,
   "metadata": {
    "ExecuteTime": {
     "end_time": "2021-02-15T10:48:00.864159Z",
     "start_time": "2021-02-15T10:47:43.991Z"
    },
    "deletable": false,
    "id": "Uxl8iQ1q4IWx",
    "nbgrader": {
     "cell_type": "code",
     "checksum": "63b6b05a676a2ae3f08d8bed1bc59428",
     "grade": false,
     "grade_id": "cell-5bf47600d1a0c507",
     "locked": false,
     "schema_version": 3,
     "solution": true,
     "task": false
    }
   },
   "outputs": [],
   "source": [
    "# TODO: Implement this! (10 points)\n",
    "class DenseRerankingModel:\n",
    "    def __init__(self, initial_retrieval_fn, vsrm, similarity_fn):\n",
    "        \"\"\"\n",
    "            initial_retrieval_fn: takes in a query and returns a list of [(doc_id, score)] (sorted)\n",
    "            vsrm: instance of `VectorSpaceRetrievalModel`\n",
    "            similarity_fn: function instance that takes in two vectors \n",
    "                            and returns a similarity score e.g cosine_sim defined earlier\n",
    "        \"\"\"\n",
    "        self.ret = initial_retrieval_fn\n",
    "        self.vsrm = vsrm\n",
    "        self.similarity_fn = similarity_fn\n",
    "        self.vectorized_documents = vsrm.vectorize_documents()\n",
    "        \n",
    "        assert len(self.vectorized_documents) == len(doc_repr_2)\n",
    "    \n",
    "    def search(self, query, K=50):\n",
    "        \"\"\"\n",
    "            First, retrieve the top K results using the retrieval function\n",
    "            Then, re-rank the results using the VSRM instance\n",
    "        \"\"\"\n",
    "        # YOUR CODE HERE\n",
    "        init_ranking = self.ret(query)[:K]\n",
    "        doc_ids_init_ranking = [rank[0] for rank in init_ranking]\n",
    "        rerank_docs = {}\n",
    "        for doc_id in doc_ids_init_ranking:\n",
    "            rerank_docs[doc_id] = self.vectorized_documents[doc_id]\n",
    "        \n",
    "        rerank_results = []\n",
    "        query_vector = self.vsrm.vectorize_query(query)\n",
    "        for key, doc_vector in rerank_docs.items():\n",
    "            score = self.similarity_fn(doc_vector, query_vector)\n",
    "            rerank_results.append((key,score))               \n",
    "\n",
    "        rerank_results.sort(key=lambda _:-_[1])\n",
    "\n",
    "        return rerank_results"
   ]
  },
  {
   "cell_type": "code",
   "execution_count": 298,
   "metadata": {
    "ExecuteTime": {
     "end_time": "2021-02-15T10:48:00.865156Z",
     "start_time": "2021-02-15T10:47:43.993Z"
    },
    "deletable": false,
    "editable": false,
    "id": "rNBMLq3T4IWx",
    "nbgrader": {
     "cell_type": "code",
     "checksum": "334ab5af96976265cace682ab82a7387",
     "grade": true,
     "grade_id": "cell-52c6d18a4c0b4882",
     "locked": true,
     "points": 0,
     "schema_version": 3,
     "solution": false,
     "task": false
    }
   },
   "outputs": [],
   "source": [
    "##### Function check\n",
    "bm25_search_2 = partial(bm25_search, index_set=2)\n",
    "lsi_rerank = DenseRerankingModel(bm25_search_2, lsi, cosine_sim)\n",
    "lda_rerank = DenseRerankingModel(bm25_search_2, lda, jenson_shannon_sim)\n",
    "w2v_rerank = DenseRerankingModel(bm25_search_2, w2v, cosine_sim)\n",
    "w2v_pretrained_rerank = DenseRerankingModel(bm25_search_2, w2v_pretrained, cosine_sim)\n",
    "d2v_rerank = DenseRerankingModel(bm25_search_2, d2v, cosine_sim)\n",
    "\n",
    "##### "
   ]
  },
  {
   "cell_type": "markdown",
   "metadata": {
    "deletable": false,
    "editable": false,
    "id": "LPYGMblR4IWx",
    "nbgrader": {
     "cell_type": "markdown",
     "checksum": "bd904253f45f84e63bab3a69729058fc",
     "grade": false,
     "grade_id": "cell-93215dfe6bcf7cff",
     "locked": true,
     "points": 10,
     "schema_version": 3,
     "solution": false,
     "task": true
    }
   },
   "source": [
    "\\#### Please do not change this. This cell is used for grading."
   ]
  },
  {
   "cell_type": "markdown",
   "metadata": {
    "deletable": false,
    "editable": false,
    "id": "qkEXXhZR4IWx",
    "nbgrader": {
     "cell_type": "markdown",
     "checksum": "b592e60292bfe3d9ef2930a354c4077a",
     "grade": false,
     "grade_id": "cell-aa694ff55fa91e7d",
     "locked": true,
     "schema_version": 3,
     "solution": false,
     "task": false
    }
   },
   "source": [
    "---\n",
    "Now, let us time the new search functions:"
   ]
  },
  {
   "cell_type": "code",
   "execution_count": 299,
   "metadata": {
    "ExecuteTime": {
     "end_time": "2021-02-15T10:48:00.866155Z",
     "start_time": "2021-02-15T10:47:43.996Z"
    },
    "deletable": false,
    "editable": false,
    "id": "CLJJ1U8P4IWy",
    "nbgrader": {
     "cell_type": "code",
     "checksum": "338c7e3528cba266a865a061287c0e38",
     "grade": false,
     "grade_id": "cell-5edbd481562ad91f",
     "locked": true,
     "schema_version": 3,
     "solution": false,
     "task": false
    }
   },
   "outputs": [
    {
     "output_type": "stream",
     "name": "stdout",
     "text": [
      "BM25: \n",
      "649 µs ± 18.2 µs per loop (mean ± std. dev. of 7 runs, 1000 loops each)\n",
      "LSI: \n",
      "5.4 ms ± 117 µs per loop (mean ± std. dev. of 7 runs, 100 loops each)\n",
      "LDA: \n",
      "3.32 ms ± 24.9 µs per loop (mean ± std. dev. of 7 runs, 100 loops each)\n",
      "W2V: \n",
      "26.5 ms ± 139 µs per loop (mean ± std. dev. of 7 runs, 10 loops each)\n",
      "W2V(Pretrained): \n",
      "77 ms ± 117 µs per loop (mean ± std. dev. of 7 runs, 10 loops each)\n",
      "D2V:\n",
      "27.5 ms ± 694 µs per loop (mean ± std. dev. of 7 runs, 10 loops each)\n"
     ]
    }
   ],
   "source": [
    "query = \"algebraic functions\"\n",
    "print(\"BM25: \")\n",
    "%timeit bm25_search(query, 2)\n",
    "print(\"LSI: \")\n",
    "%timeit lsi_rerank.search(query)\n",
    "print(\"LDA: \")\n",
    "%timeit lda_rerank.search(query)\n",
    "print(\"W2V: \")\n",
    "%timeit w2v_rerank.search(query)\n",
    "print(\"W2V(Pretrained): \")\n",
    "%timeit w2v_pretrained_rerank.search(query)\n",
    "print(\"D2V:\")\n",
    "%timeit d2v_rerank.search(query)"
   ]
  },
  {
   "cell_type": "markdown",
   "metadata": {
    "deletable": false,
    "editable": false,
    "id": "3YxKmu1l4IWy",
    "nbgrader": {
     "cell_type": "markdown",
     "checksum": "c45c5e3f015b2de89d9d39ae3766368b",
     "grade": false,
     "grade_id": "cell-85c50f2ab9eec301",
     "locked": true,
     "schema_version": 3,
     "solution": false,
     "task": false
    }
   },
   "source": [
    "---\n",
    "As you can see, it is much faster (but BM25 is still orders of magnitude faster)."
   ]
  },
  {
   "cell_type": "markdown",
   "metadata": {
    "deletable": false,
    "editable": false,
    "id": "MdjNyWo34IWy",
    "nbgrader": {
     "cell_type": "markdown",
     "checksum": "1e2f3388e3807659f303fe31a75a010e",
     "grade": false,
     "grade_id": "cell-5071bb99b2af61cb",
     "locked": true,
     "schema_version": 3,
     "solution": false,
     "task": false
    }
   },
   "source": [
    "---\n",
    "## Section 10: Evaluation & Analysis (30 points) <a class=\"anchor\" id=\"reranking_eval\"></a>\n",
    "\n",
    "[Back to Part 2](#part2)\n",
    "\n",
    "[Previously](#evaluation) we have implemented some evaluation metrics and used them for measuring the ranking performance of term-based IR algorithms. In this section, we will do the same for semantic methods, both with and without re-ranking.\n",
    "\n",
    "### Section 10.1: Plot (10 points)\n",
    "\n",
    "First, gather the results. The results should consider the index set, the different search functions and different metrics. Plot the results in bar charts, per metric, with clear labels.\n",
    "\n",
    "Then, gather only the re-ranking models, and plot and compare them with the results obtained in part 1 (only index set 2)."
   ]
  },
  {
   "cell_type": "code",
   "execution_count": 195,
   "metadata": {
    "ExecuteTime": {
     "end_time": "2021-02-15T10:48:00.867152Z",
     "start_time": "2021-02-15T10:47:43.999Z"
    },
    "deletable": false,
    "editable": false,
    "id": "2Y2Ntwj84IWy",
    "nbgrader": {
     "cell_type": "code",
     "checksum": "4fe81520ac6413a803838913fd64de03",
     "grade": false,
     "grade_id": "cell-b672fe6dfae0b1ce",
     "locked": true,
     "schema_version": 3,
     "solution": false,
     "task": false
    }
   },
   "outputs": [
    {
     "output_type": "error",
     "ename": "NameError",
     "evalue": "name 'w2v_pretrained_rerank' is not defined",
     "traceback": [
      "\u001b[1;31m---------------------------------------------------------------------------\u001b[0m",
      "\u001b[1;31mNameError\u001b[0m                                 Traceback (most recent call last)",
      "\u001b[1;32m<ipython-input-195-b7ad8d08fece>\u001b[0m in \u001b[0;36m<module>\u001b[1;34m\u001b[0m\n\u001b[0;32m      8\u001b[0m     \u001b[1;33m(\u001b[0m\u001b[1;34m\"lda_rr\"\u001b[0m\u001b[1;33m,\u001b[0m \u001b[0mlda_rerank\u001b[0m\u001b[1;33m.\u001b[0m\u001b[0msearch\u001b[0m\u001b[1;33m)\u001b[0m\u001b[1;33m,\u001b[0m\u001b[1;33m\u001b[0m\u001b[1;33m\u001b[0m\u001b[0m\n\u001b[0;32m      9\u001b[0m     \u001b[1;33m(\u001b[0m\u001b[1;34m\"w2v_rr\"\u001b[0m\u001b[1;33m,\u001b[0m \u001b[0mw2v_rerank\u001b[0m\u001b[1;33m.\u001b[0m\u001b[0msearch\u001b[0m\u001b[1;33m)\u001b[0m\u001b[1;33m,\u001b[0m\u001b[1;33m\u001b[0m\u001b[1;33m\u001b[0m\u001b[0m\n\u001b[1;32m---> 10\u001b[1;33m     \u001b[1;33m(\u001b[0m\u001b[1;34m\"w2v_pretrained_rr\"\u001b[0m\u001b[1;33m,\u001b[0m \u001b[0mw2v_pretrained_rerank\u001b[0m\u001b[1;33m.\u001b[0m\u001b[0msearch\u001b[0m\u001b[1;33m)\u001b[0m\u001b[1;33m,\u001b[0m\u001b[1;33m\u001b[0m\u001b[1;33m\u001b[0m\u001b[0m\n\u001b[0m\u001b[0;32m     11\u001b[0m     \u001b[1;33m(\u001b[0m\u001b[1;34m\"d2v_rr\"\u001b[0m\u001b[1;33m,\u001b[0m \u001b[0md2v_rerank\u001b[0m\u001b[1;33m.\u001b[0m\u001b[0msearch\u001b[0m\u001b[1;33m)\u001b[0m\u001b[1;33m,\u001b[0m\u001b[1;33m\u001b[0m\u001b[1;33m\u001b[0m\u001b[0m\n\u001b[0;32m     12\u001b[0m \u001b[1;33m\u001b[0m\u001b[0m\n",
      "\u001b[1;31mNameError\u001b[0m: name 'w2v_pretrained_rerank' is not defined"
     ]
    }
   ],
   "source": [
    "list_of_sem_search_fns = [\n",
    "    (\"lda\", drm_lda.search),\n",
    "    (\"lsi\", drm_lsi.search),\n",
    "    (\"w2v\", drm_w2v.search),\n",
    "    (\"w2v_pretrained\", drm_w2v_pretrained.search),\n",
    "    (\"d2v\", drm_d2v.search),\n",
    "    (\"lsi_rr\", lsi_rerank.search),\n",
    "    (\"lda_rr\", lda_rerank.search),\n",
    "    (\"w2v_rr\", w2v_rerank.search),\n",
    "    (\"w2v_pretrained_rr\", w2v_pretrained_rerank.search),\n",
    "    (\"d2v_rr\", d2v_rerank.search),\n",
    "    \n",
    "]"
   ]
  },
  {
   "cell_type": "code",
   "execution_count": null,
   "metadata": {
    "ExecuteTime": {
     "end_time": "2021-02-15T10:48:00.868148Z",
     "start_time": "2021-02-15T10:47:44.001Z"
    },
    "deletable": false,
    "id": "XqoUKAKO4IWy",
    "nbgrader": {
     "cell_type": "code",
     "checksum": "54707c4afac084299aeefa047259b4a9",
     "grade": true,
     "grade_id": "cell-7dd8273b0f5a3c22",
     "locked": false,
     "points": 10,
     "schema_version": 3,
     "solution": true,
     "task": false
    }
   },
   "outputs": [],
   "source": [
    "# YOUR CODE HERE\n",
    "raise NotImplementedError()"
   ]
  },
  {
   "cell_type": "markdown",
   "metadata": {
    "deletable": false,
    "editable": false,
    "id": "TO7Rx1xc4IWy",
    "nbgrader": {
     "cell_type": "markdown",
     "checksum": "a8a3b6189bdde66704c694d85e38d049",
     "grade": false,
     "grade_id": "cell-deb2ef3daa306e82",
     "locked": true,
     "schema_version": 3,
     "solution": false,
     "task": false
    }
   },
   "source": [
    "### Section 10.2: Summary (20 points)\n",
    "\n",
    "Your summary should compare methods from Part 1 and Part 2 (only for index set 2). State what you expected to see in the results, followed by either supporting evidence *or* justify why the results did not support your expectations. Consider the availability of data, scalability, domain/type of data, etc."
   ]
  },
  {
   "cell_type": "markdown",
   "metadata": {
    "deletable": false,
    "id": "8kHCX99n4IWz",
    "nbgrader": {
     "cell_type": "markdown",
     "checksum": "ff97c43837d10bff6aaffa75e1492887",
     "grade": true,
     "grade_id": "cell-ec5dd7d9cf59dd86",
     "locked": false,
     "points": 20,
     "schema_version": 3,
     "solution": true,
     "task": false
    }
   },
   "source": [
    "YOUR ANSWER HERE"
   ]
  }
 ],
 "metadata": {
  "colab": {
   "collapsed_sections": [
    "7PZ1YsjO4IWa",
    "PEw9RAKO4IWc",
    "M10Gq1wo4IWd",
    "ARVTcJrC4IWe",
    "pu4nDAJQ4IWe",
    "D3EIl_rY4IWf",
    "43wdjFkt4IWf",
    "a6te4fbZ4IWg",
    "X2fSm6OJ4IWg",
    "CF8mA1LD4IWh",
    "PwcdEmYB4IWi",
    "a3vu_N7C4IWj",
    "bD5EZ9eN4IWl",
    "V_eNBPNC4IWl",
    "gLVYII234IWl",
    "Ad2E1OAb4IWm",
    "rsVw36Qs4IWn",
    "O6zOyivS4IWn",
    "Q38CrFOO4IWo",
    "Gh1iz9Ht4IWo",
    "b54ANEqK4IWp",
    "lZ3SttfV4IWp",
    "-hdtSyZZ4IWp",
    "KqeQEm1Q4IWq",
    "-EkJ-o9j4IWr",
    "0PGe6mPD4IWt",
    "xMbAwqEW4IWt",
    "1qyB_mcw4IWt",
    "xa0oM-SP4IWu",
    "uJBmD00Y4IWw",
    "MdjNyWo34IWy",
    "TO7Rx1xc4IWy"
   ],
   "name": "13322915_13325957_13326481.ipynb",
   "provenance": []
  },
  "kernelspec": {
   "display_name": "Python 3",
   "language": "python",
   "name": "python3"
  },
  "language_info": {
   "codemirror_mode": {
    "name": "ipython",
    "version": 3
   },
   "file_extension": ".py",
   "mimetype": "text/x-python",
   "name": "python",
   "nbconvert_exporter": "python",
   "pygments_lexer": "ipython3",
   "version": "3.8.7-final"
  }
 },
 "nbformat": 4,
 "nbformat_minor": 1
}