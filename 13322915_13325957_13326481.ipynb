{
 "cells": [
  {
   "cell_type": "markdown",
   "metadata": {
    "deletable": false,
    "editable": false,
    "id": "BBPDEKU44IWO",
    "nbgrader": {
     "cell_type": "markdown",
     "checksum": "758d05f39ab671358f17858c55f7161c",
     "grade": false,
     "grade_id": "cell-c9cd9e550239e812",
     "locked": true,
     "schema_version": 3,
     "solution": false,
     "task": false
    }
   },
   "source": [
    "# Homework 1 (Total Points: 260) <a class=\"anchor\" id=\"top\"></a>\n",
    "\n",
    "\n",
    "**Submission instructions**:\n",
    "- Only the code `TODO: Implement this!` denotes that these sections are graded.\n",
    "- For Part 1: You can use the `nltk`, `numpy` and `matplotlib` libraries here. Other libraries, e.g., `gensim` or `scikit-learn`, may not be used. For Part 2: `gensim` is allowed in addition to the imported libraries in the next code cell\n",
    "- The notebook you submit has to have the student ids, separated by underscores (E.g., `12341234_12341234_12341234.ipynb`). \n",
    "- This will be parsed by a regexp, so please double check your filename.\n",
    "- Only one member of each group has to submit the file to canvas.\n",
    "- Make sure to check that your notebook runs before submission. A quick way to do this is to restart the kernel and run all the cells.  \n",
    "- Please do not delete/add new cells. Removing cells can lead to grade deduction.\n",
    "- Note, that you are not allowed to use Google Colab.\n",
    "\n",
    "\n",
    "**Learning Goals**:\n",
    "- [Part 1, Term-based matching](#part1) (175 points):\n",
    "    - Learn how to load a dataset and process it.\n",
    "    - Learn how to implement several standard IR methods (TF-IDF, BM25, QL) and understand their weaknesses & strengths.\n",
    "    - Learn how to evaluate IR methods.\n",
    "- [Part 2, Semantic-based matching](#part2) (85 points):\n",
    "    - Learn how to implement vector-space retrieval methods (LSI, LDA).\n",
    "    - Learn how to use LSI and LDA for re-ranking\n",
    "\n",
    "    \n",
    "**Resources**: \n",
    "- **Part 1**: Sections 2.3, 4.1, 4.2, 4.3, 5.3, 5.6, 5.7, 6.2, 7, 8 of [Search Engines: Information Retrieval in Practice](https://ciir.cs.umass.edu/downloads/SEIRiP.pdf)\n",
    "- **Part 2**: [LSI - Chapter 18](https://nlp.stanford.edu/IR-book/pdf/18lsi.pdf) from [Introduction to Information Retrieval](https://nlp.stanford.edu/IR-book/) book and the [original LDA paper](https://jmlr.org/papers/volume3/blei03a/blei03a.pdf)"
   ]
  },
  {
   "cell_type": "code",
   "execution_count": 1,
   "metadata": {
    "ExecuteTime": {
     "end_time": "2021-02-18T09:28:19.455285Z",
     "start_time": "2021-02-18T09:28:16.310230Z"
    },
    "deletable": false,
    "editable": false,
    "id": "RS9pLvO94IWT",
    "nbgrader": {
     "cell_type": "code",
     "checksum": "c55bfe94ff1f564dd595547e516c4c6e",
     "grade": false,
     "grade_id": "cell-f5357fabdb9660e3",
     "locked": true,
     "schema_version": 3,
     "solution": false,
     "task": false
    }
   },
   "outputs": [],
   "source": [
    "# imports \n",
    "# TODO: Ensure that no additional library is imported in the notebook. \n",
    "# TODO: Only the standard library and the following libraries are allowed:\n",
    "# TODO: You can also use unlisted classes from these libraries or standard libraries (such as defaultdict, Counter, ...).\n",
    "\n",
    "import os\n",
    "import zipfile\n",
    "from functools import partial\n",
    "\n",
    "import nltk\n",
    "import requests\n",
    "import numpy as np\n",
    "from tqdm import tqdm\n",
    "\n",
    "import matplotlib.pyplot as plt\n",
    "from matplotlib.pyplot import cm\n",
    "\n",
    "from ipywidgets import widgets\n",
    "from IPython.display import display, HTML\n",
    "#from IPython.html import widgets\n",
    "from collections import namedtuple\n",
    "\n",
    "# Own imports from standard libraries\n",
    "from collections import Counter\n",
    "import math\n",
    "\n",
    "\n",
    "\n",
    "%matplotlib inline"
   ]
  },
  {
   "cell_type": "markdown",
   "metadata": {
    "deletable": false,
    "editable": false,
    "id": "A4kKorew4IWU",
    "nbgrader": {
     "cell_type": "markdown",
     "checksum": "4ef0139c6fbc22b41520721a9275c1e1",
     "grade": false,
     "grade_id": "cell-7428e12ed184408b",
     "locked": true,
     "schema_version": 3,
     "solution": false,
     "task": false
    }
   },
   "source": [
    "\n",
    "# Part 1: Term-based Matching (175 points) <a class=\"anchor\" id=\"part1\"></a>\n",
    "\n",
    "[Back to top](#top)\n",
    "\n",
    "In the first part, we will learn the basics of IR from loading and preprocessing the material, to implementing some well known search algorithms, to evaluating the ranking performance of the implemented algorithms. We will be using the CACM dataset throughout the assignment. The CACM dataset is a collection of titles and abstracts from the journal CACM (Communication of the ACM).\n",
    "\n",
    "Table of contents:\n",
    "- [Section 1: Text Processing](#text_processing) (15 points)\n",
    "- [Section 2: Indexing](#indexing) (10 points)\n",
    "- [Section 3: Ranking](#ranking) (80 points)\n",
    "- [Section 4: Evaluation](#evaluation) (40 points)\n",
    "- [Section 5: Analysis](#analysis) (30 points)\n"
   ]
  },
  {
   "cell_type": "markdown",
   "metadata": {
    "deletable": false,
    "editable": false,
    "id": "6vnjcjoy4IWU",
    "nbgrader": {
     "cell_type": "markdown",
     "checksum": "a9050c97b011a926b9e4cf6831eff5bd",
     "grade": false,
     "grade_id": "cell-4b24825cf4ae55ec",
     "locked": true,
     "schema_version": 3,
     "solution": false,
     "task": false
    }
   },
   "source": [
    "---\n",
    "## Section 1: Text Processing (15 points)<a class=\"anchor\" id=\"text_processing\"></a>\n",
    "\n",
    "[Back to Part 1](#part1)\n",
    "\n",
    "In this section, we will load the dataset and learn how to clean up the data to make it usable for an IR system. \n",
    "The points of this section are earned for the following implementations:\n",
    "- `read_cacm_docs` (4 points): Reads in the CACM documents.\n",
    "- `read_queries` (3 points): Reads in the CACM queries.\n",
    "- `load_stopwords` (1 point): Loads the stopwords.\n",
    "- `tokenize` (4 points): Tokenizes the input text.\n",
    "- `stem_token` (3 points): Stems the given token. \n",
    "\n",
    "We are using the [CACM dataset](http://ir.dcs.gla.ac.uk/resources/test_collections/cacm/), which is a small, classic IR dataset, composed of a collection of titles and abstracts from the journal CACM. It comes with relevance judgements for queries, so we can evaluate our IR system. \n"
   ]
  },
  {
   "cell_type": "markdown",
   "metadata": {
    "deletable": false,
    "editable": false,
    "id": "p_lmQikc4IWV",
    "nbgrader": {
     "cell_type": "markdown",
     "checksum": "1de1b97f9ee233ad2348359f0c158eb7",
     "grade": false,
     "grade_id": "cell-45651364e7af6d5a",
     "locked": true,
     "schema_version": 3,
     "solution": false,
     "task": false
    }
   },
   "source": [
    "---\n",
    "### 1.1 Read the CACM documents (4 points)\n",
    "\n",
    "\n",
    "The following cell downloads the dataset and unzips it to a local directory."
   ]
  },
  {
   "cell_type": "code",
   "execution_count": 2,
   "metadata": {
    "ExecuteTime": {
     "end_time": "2021-02-18T09:28:19.487365Z",
     "start_time": "2021-02-18T09:28:19.456282Z"
    },
    "deletable": false,
    "editable": false,
    "id": "GzgZPFdR4IWV",
    "nbgrader": {
     "cell_type": "code",
     "checksum": "4d43c9ad6e77cc01ce4cef0c34824930",
     "grade": false,
     "grade_id": "cell-bbc3030bb3fe7e02",
     "locked": true,
     "schema_version": 3,
     "solution": false,
     "task": false
    }
   },
   "outputs": [],
   "source": [
    "def download_dataset():\n",
    "    folder_path = os.environ.get(\"IR1_DATA_PATH\")\n",
    "    if not folder_path:\n",
    "        folder_path = \"./datasets/\"\n",
    "    os.makedirs(folder_path, exist_ok=True)\n",
    "    \n",
    "    file_location = os.path.join(folder_path, \"cacm.zip\")\n",
    "    \n",
    "    # download file if it doesn't exist\n",
    "    if not os.path.exists(file_location):\n",
    "        \n",
    "        url = \"https://surfdrive.surf.nl/files/index.php/s/M0FGJpX2p8wDwxR/download\"\n",
    "\n",
    "        with open(file_location, \"wb\") as handle:\n",
    "            print(f\"Downloading file from {url} to {file_location}\")\n",
    "            response = requests.get(url, stream=True)\n",
    "            for data in tqdm(response.iter_content()):\n",
    "                handle.write(data)\n",
    "            print(\"Finished downloading file\")\n",
    "    \n",
    "    if not os.path.exists(os.path.join(folder_path, \"train.txt\")):\n",
    "        \n",
    "        # unzip file\n",
    "        with zipfile.ZipFile(file_location, 'r') as zip_ref:\n",
    "            zip_ref.extractall(folder_path)\n",
    "        \n",
    "download_dataset()"
   ]
  },
  {
   "cell_type": "markdown",
   "metadata": {
    "deletable": false,
    "editable": false,
    "id": "mFgbUp9Q4IWW",
    "nbgrader": {
     "cell_type": "markdown",
     "checksum": "31609b0d61d0c74cbd69bc43e47c23be",
     "grade": false,
     "grade_id": "cell-a7dd9a9bf98ede05",
     "locked": true,
     "schema_version": 3,
     "solution": false,
     "task": false
    }
   },
   "source": [
    "---\n",
    "\n",
    "You can see a brief description of each file in the dataset by looking at the README file:"
   ]
  },
  {
   "cell_type": "code",
   "execution_count": 3,
   "metadata": {
    "ExecuteTime": {
     "end_time": "2021-02-18T09:28:19.575823Z",
     "start_time": "2021-02-18T09:28:19.488870Z"
    },
    "colab": {
     "base_uri": "https://localhost:8080/"
    },
    "deletable": false,
    "editable": false,
    "id": "XiphLpFK4IWW",
    "nbgrader": {
     "cell_type": "code",
     "checksum": "1783f9999c7d06955e8da815de62ba5f",
     "grade": false,
     "grade_id": "cell-9b6ff1a17124711f",
     "locked": true,
     "schema_version": 3,
     "solution": false,
     "task": false
    },
    "outputId": "0c34744f-c08a-45f7-ad13-ffdc2287cbda"
   },
   "outputs": [
    {
     "name": "stdout",
     "output_type": "stream",
     "text": [
      "Files in this directory with sizes:\n",
      "          0 Jun 19 21:01 README\n",
      "\n",
      "    2187734 Jun 19 20:55 cacm.all              text of documents\n",
      "        626 Jun 19 20:58 cite.info             key to citation info\n",
      "                                                (the X sections in cacm.all)\n",
      "       2668 Jun 19 20:55 common_words           stop words used by smart\n",
      "       2194 Jun 19 20:55 make_coll*             shell script to make collection\n",
      "       1557 Jun 19 20:55 make_coll_term*        ditto (both useless without\n",
      "                                                smart system)\n",
      "       9948 Jun 19 20:55 qrels.text             relation giving\n",
      "                                                    qid did 0 0\n",
      "                                                to indicate dument did is\n",
      "                                                relevant to query qid\n",
      "      13689 Jun 19 20:55 query.text             Original text of the query\n"
     ]
    }
   ],
   "source": [
    "##### Read the README file \n",
    "!cat ./datasets/README\n",
    "#####"
   ]
  },
  {
   "cell_type": "markdown",
   "metadata": {
    "deletable": false,
    "editable": false,
    "id": "NYQpF9664IWW",
    "nbgrader": {
     "cell_type": "markdown",
     "checksum": "d6a5333ae8e7f69d81900e714cc43852",
     "grade": false,
     "grade_id": "cell-73351431869fda76",
     "locked": true,
     "schema_version": 3,
     "solution": false,
     "task": false
    }
   },
   "source": [
    "---\n",
    "We are interested in 4 files:\n",
    "- `cacm.all` : Contains the text for all documents. Note that some documents do not have abstracts available. \n",
    "- `query.text` : The text of all queries\n",
    "- `qrels.text` : The relevance judgements\n",
    "- `common_words` : A list of common words. This may be used as a collection of stopwords"
   ]
  },
  {
   "cell_type": "code",
   "execution_count": 4,
   "metadata": {
    "ExecuteTime": {
     "end_time": "2021-02-18T09:28:19.645639Z",
     "start_time": "2021-02-18T09:28:19.578814Z"
    },
    "colab": {
     "base_uri": "https://localhost:8080/"
    },
    "deletable": false,
    "editable": false,
    "id": "YlAL1Byf4IWW",
    "nbgrader": {
     "cell_type": "code",
     "checksum": "c78e4256a08889ce3d0d985ea799b0a9",
     "grade": false,
     "grade_id": "cell-b44dd14079f278ca",
     "locked": true,
     "schema_version": 3,
     "solution": false,
     "task": false
    },
    "outputId": "671b1068-6500-45c4-e9d5-e4578d137c7b"
   },
   "outputs": [
    {
     "name": "stdout",
     "output_type": "stream",
     "text": [
      ".I 1\n",
      ".T\n",
      "Preliminary Report-International Algebraic Language\n",
      ".B\n",
      "CACM December, 1958\n",
      ".A\n",
      "Perlis, A. J.\n",
      "Samelson,K.\n",
      ".N\n",
      "CA581203 JB March 22, 1978  8:28 PM\n",
      ".X\n",
      "100\t5\t1\n",
      "123\t5\t1\n",
      "164\t5\t1\n",
      "1\t5\t1\n",
      "1\t5\t1\n",
      "1\t5\t1\n",
      "205\t5\t1\n",
      "210\t5\t1\n",
      "214\t5\t1\n",
      "1982\t5\t1\n",
      "398\t5\t1\n",
      "642\t5\t1\n",
      "669\t5\t1\n",
      "1\t6\t1\n",
      "1\t6\t1\n",
      "1\t6\t1\n",
      "1\t6\t1\n",
      "1\t6\t1\n",
      "1\t6\t1\n",
      "1\t6\t1\n",
      "1\t6\t1\n",
      "1\t6\t1\n",
      "1\t6\t1\n",
      "165\t6\t1\n",
      "196\t6\t1\n",
      "196\t6\t1\n",
      "1273\t6\t1\n",
      "1883\t6\t1\n",
      "324\t6\t1\n",
      "43\t6\t1\n",
      "53\t6\t1\n",
      "91\t6\t1\n",
      "410\t6\t1\n",
      "3184\t6\t1\n"
     ]
    }
   ],
   "source": [
    "##### The first 45 lines of the CACM dataset forms the first record\n",
    "# We are interested only in 3 fields. \n",
    "# 1. the '.I' field, which is the document id\n",
    "# 2. the '.T' field (the title) and\n",
    "# 3. the '.W' field (the abstract, which may be absent)\n",
    "!head -45 ./datasets/cacm.all\n",
    "#####"
   ]
  },
  {
   "cell_type": "markdown",
   "metadata": {
    "deletable": false,
    "editable": false,
    "id": "96QRlEr34IWX",
    "nbgrader": {
     "cell_type": "markdown",
     "checksum": "aff7cbe5a15a0e3329dc223e3e31abf3",
     "grade": false,
     "grade_id": "cell-c4bf2e263ec553d8",
     "locked": true,
     "schema_version": 3,
     "solution": false,
     "task": false
    }
   },
   "source": [
    "---\n",
    "\n",
    "**Implementation (4 points):**\n",
    "Write a function to read the `cacm.all` file. Note that each document has a variable number of lines. The `.I` field denotes a new document:"
   ]
  },
  {
   "cell_type": "code",
   "execution_count": 5,
   "metadata": {
    "ExecuteTime": {
     "end_time": "2021-02-18T09:28:19.654612Z",
     "start_time": "2021-02-18T09:28:19.646632Z"
    },
    "deletable": false,
    "id": "vNE2WPK-4IWX",
    "nbgrader": {
     "cell_type": "code",
     "checksum": "45fef5d5b543ee439176d7fd0a9d20be",
     "grade": false,
     "grade_id": "cell-b736116eb419c624",
     "locked": false,
     "schema_version": 3,
     "solution": true,
     "task": false
    }
   },
   "outputs": [],
   "source": [
    "# TODO: Implement this! (4 points)\n",
    "def read_cacm_docs(root_folder = \"./datasets/\"):\n",
    "    \"\"\"\n",
    "        Reads in the CACM documents. The dataset is assumed to be in the folder \"./datasets/\" by default\n",
    "        Returns: A list of 2-tuples: (doc_id, document), where 'document' is a single string created by \n",
    "            appending the title and abstract (separated by a \"\\n\"). \n",
    "            In case the record doesn't have an abstract, the document is composed only by the title\n",
    "    \"\"\"\n",
    "    # YOUR CODE HERE\n",
    "    doc_list = []\n",
    "    with open(root_folder + 'cacm.all') as f:\n",
    "        data = (\"\\n\" + f.read()).split(\"\\n.I\")\n",
    "        for i in data[1:]:\n",
    "            lines = i.split(\"\\n.\")\n",
    "            doc_id = str(lines[0][1:])\n",
    "            document = ''\n",
    "            for line in lines[1:]:\n",
    "                if line[0] == \"T\":\n",
    "                    document += line[2:]\n",
    "                if line[0] == \"W\":\n",
    "                    document += line[1:]\n",
    "            doc_list.append((doc_id,document))\n",
    "    return doc_list"
   ]
  },
  {
   "cell_type": "code",
   "execution_count": 6,
   "metadata": {
    "ExecuteTime": {
     "end_time": "2021-02-18T09:28:19.688520Z",
     "start_time": "2021-02-18T09:28:19.657603Z"
    },
    "deletable": false,
    "editable": false,
    "id": "qXIA2lFl4IWY",
    "nbgrader": {
     "cell_type": "code",
     "checksum": "70472b5c277bb7c417de8da24e4e5261",
     "grade": true,
     "grade_id": "cell-a1c43818e0d3fd79",
     "locked": true,
     "points": 4,
     "schema_version": 3,
     "solution": false,
     "task": false
    }
   },
   "outputs": [],
   "source": [
    "##### Function check\n",
    "docs = read_cacm_docs()\n",
    "assert isinstance(docs, list)\n",
    "assert len(docs) == 3204, \"There should be exactly 3024 documents\"\n",
    "##### "
   ]
  },
  {
   "cell_type": "markdown",
   "metadata": {
    "deletable": false,
    "editable": false,
    "id": "uZRyfi9R4IWY",
    "nbgrader": {
     "cell_type": "markdown",
     "checksum": "6fd095d2204cce3935444ca37c7c42da",
     "grade": false,
     "grade_id": "cell-5ed2ddc91f73c60e",
     "locked": true,
     "schema_version": 3,
     "solution": false,
     "task": false
    }
   },
   "source": [
    "---\n",
    "### 1.2 Read the CACM queries (3 points)\n",
    "\n",
    "Next, let us read the queries. They are formatted similarly:"
   ]
  },
  {
   "cell_type": "code",
   "execution_count": 7,
   "metadata": {
    "ExecuteTime": {
     "end_time": "2021-02-18T09:28:19.734398Z",
     "start_time": "2021-02-18T09:28:19.691512Z"
    },
    "colab": {
     "base_uri": "https://localhost:8080/"
    },
    "deletable": false,
    "editable": false,
    "id": "SypqoG8T4IWY",
    "nbgrader": {
     "cell_type": "code",
     "checksum": "5d26c0908e758acb9968b84056b1060a",
     "grade": false,
     "grade_id": "cell-5c7e8e7c4fc2757f",
     "locked": true,
     "schema_version": 3,
     "solution": false,
     "task": false
    },
    "outputId": "061e0dc1-6f1b-4d21-ff2b-775699a7a874"
   },
   "outputs": [
    {
     "name": "stdout",
     "output_type": "stream",
     "text": [
      ".I 1\n",
      ".W\n",
      " What articles exist which deal with TSS (Time Sharing System), an\n",
      "operating system for IBM computers?\n",
      ".N\n",
      " 1. Richard Alexander, Comp Serv, Langmuir Lab (TSS)\n",
      " \n",
      ".I 2\n",
      ".W\n",
      " I am interested in articles written either by Prieve or Udo Pooch\n",
      ".A\n",
      "Prieve, B.\n",
      "Pooch, U.\n",
      ".N\n",
      " 2. Richard Alexander, Comp Serv, Langmuir Lab (author = Pooch or Prieve)\n"
     ]
    }
   ],
   "source": [
    "##### The first 15 lines of 'query.text' has 2 queries\n",
    "# We are interested only in 2 fields. \n",
    "# 1. the '.I' - the query id\n",
    "# 2. the '.W' - the query\n",
    "!head -15 ./datasets/query.text\n",
    "#####"
   ]
  },
  {
   "cell_type": "markdown",
   "metadata": {
    "deletable": false,
    "editable": false,
    "id": "wrddYisC4IWY",
    "nbgrader": {
     "cell_type": "markdown",
     "checksum": "da34d95924026ea55bf0a9b2070ec237",
     "grade": false,
     "grade_id": "cell-88e293507d2dcef6",
     "locked": true,
     "schema_version": 3,
     "solution": false,
     "task": false
    }
   },
   "source": [
    "---\n",
    "\n",
    "**Implementation (3 points):**\n",
    "Write a function to read the `query.text` file:"
   ]
  },
  {
   "cell_type": "code",
   "execution_count": 8,
   "metadata": {
    "ExecuteTime": {
     "end_time": "2021-02-18T09:28:19.741379Z",
     "start_time": "2021-02-18T09:28:19.736393Z"
    },
    "deletable": false,
    "id": "Ct3uxE-s4IWZ",
    "nbgrader": {
     "cell_type": "code",
     "checksum": "f98ac81b2ccb44fe3441e202e980c847",
     "grade": false,
     "grade_id": "cell-433e3ad5d0e2572a",
     "locked": false,
     "schema_version": 3,
     "solution": true,
     "task": false
    }
   },
   "outputs": [],
   "source": [
    "# TODO: Implement this! (3 points)\n",
    "def read_queries(root_folder = \"./datasets/\"):\n",
    "    \"\"\"\n",
    "        Reads in the CACM queries. The dataset is assumed to be in the folder \"./datasets/\" by default\n",
    "        Returns: A list of 2-tuples: (query_id, query)\n",
    "    \"\"\"\n",
    "    # YOUR CODE HERE\n",
    "    query_list = []\n",
    "    with open(root_folder + 'query.text') as f:\n",
    "        data = (\"\\n\" + f.read()).split(\"\\n.I\")\n",
    "        for i in data[1:]:\n",
    "            lines = i.split(\"\\n.\")\n",
    "            query_id = str(lines[0][1:])\n",
    "            query = ''\n",
    "            for line in lines[1:]:\n",
    "                if line[0] == \"W\":\n",
    "                    query += line[1:]\n",
    "            query_list.append((query_id,query))\n",
    "    print(query_list)\n",
    "    return query_list\n"
   ]
  },
  {
   "cell_type": "code",
   "execution_count": 9,
   "metadata": {
    "ExecuteTime": {
     "end_time": "2021-02-18T09:28:19.748361Z",
     "start_time": "2021-02-18T09:28:19.743374Z"
    },
    "colab": {
     "base_uri": "https://localhost:8080/"
    },
    "deletable": false,
    "editable": false,
    "id": "DYO92aQn4IWZ",
    "nbgrader": {
     "cell_type": "code",
     "checksum": "c0e7a9868bd4b92692c33732af640b8b",
     "grade": true,
     "grade_id": "cell-6ec540abce66c598",
     "locked": true,
     "points": 3,
     "schema_version": 3,
     "solution": false,
     "task": false
    },
    "outputId": "e6294e67-a14f-425e-d65d-a5780b07b487"
   },
   "outputs": [
    {
     "name": "stdout",
     "output_type": "stream",
     "text": [
      "[('1', '\\n What articles exist which deal with TSS (Time Sharing System), an\\noperating system for IBM computers?'), ('2', '\\n I am interested in articles written either by Prieve or Udo Pooch'), ('3', '\\n Intermediate languages used in construction of multi-targeted compilers; TCOLL'), ('4', \"\\n I'm interested in mechanisms for communicating between disjoint processes,\\npossibly, but not exclusively, in a distributed environment.  I would\\nrather see descriptions of complete mechanisms, with or without implementations,\\nas opposed to theoretical work on the abstract problem.  Remote procedure\\ncalls and message-passing are examples of my interests.\"), ('5', \"\\n I'd like papers on design and implementation of editing interfaces,\\nwindow-managers, command interpreters, etc.  The essential issues are\\nhuman interface design, with views on improvements to user efficiency,\\neffectiveness and satisfaction.\"), ('6', '\\n Interested in articles on robotics, motion planning particularly the\\ngeometric and combinatorial aspects.  We are not interested in the\\ndynamics of arm motion.'), ('7', '\\n I am interested in distributed algorithms - concurrent programs in\\nwhich processes communicate and synchronize by using message passing.\\nAreas of particular interest include fault-tolerance and techniques\\nfor understanding the correctness of these algorithms.'), ('8', '\\n Addressing schemes for resources in networks; resource addressing in\\nnetwork operating systems'), ('9', '\\n Security considerations in local networks, network operating systems,\\nand distributed systems.'), ('10', '\\n Parallel languages; languages for parallel computation'), ('11', '\\n SETL, Very High Level Languages'), ('12', '\\n portable operating systems'), ('13', '\\n code optimization for space efficiency'), ('14', '\\n find all discussions of optimal implementations of sort algorithms for\\ndatabase management applications'), ('15', '\\n Find all discussions of horizontal microcode optimization with special\\nemphasis on optimization of loops and global optimization.'), ('16', '\\n find all descriptions of file handling in operating systems based on\\nmultiple processes and message passing.'), ('17', '\\n Optimization of intermediate and machine code'), ('18', '\\n Languages and compilers for parallel processors, especially highly\\nhorizontal microcoded machines; code compaction'), ('19', '\\n Parallel algorithms'), ('20', '\\n Graph theoretic algorithms applicable to sparse matrices'), ('21', '\\n computational complexity, intractability, class-complete reductions,\\nalgorithms and efficiency'), ('22', '\\n I am interested in hidden-line and hidden-surface algorithms for\\ncylinders, toroids, spheres, and cones.  This is a rather specialized\\ntopic in computer graphics.'), ('23', '\\n Distributed computing structures and algorithms'), ('24', '\\n Applied stochastic processes'), ('25', '\\n Performance evaluation and modelling of computer systems'), ('26', '\\n Concurrency control mechanisms in operating systems'), ('27', '\\n Memory management aspects of operating systems'), ('28', '\\n Any information on packet radio networks.  Of particular interest are\\nalgorithms for packet routing, and for dealing with changes in\\nnetwork topography.  I am not interested in the hardware used in the\\nnetwork.'), ('29', '\\n Number-theoretic algorithms, especially involving prime number series,\\nsieves, and Chinese Remainder theorem.'), ('30', '\\n Articles on text formatting systems, including \"what you see is what you\\nget\" systems.  Examples: t/nroff, scribe, bravo.'), ('31', '\\n I\\'d like to find articles describing the use of singular value decomposition\\nin digital image processing.  Applications include finding approximations\\nto the original image and restoring images that are subject to noise. An\\narticle on the subject is H.C. Andrews and C.L. Patterson \"Outer product\\nexpansions and their uses in digital image processing\", American Mathematical\\nMonthly, vol. 82.'), ('32', \"\\n I'd like to find articles describing graph algorithms that are based on\\nthe eigenvalue decomposition (or singular value decomposition) of the\\najacency matrix for the graph.  I'm especially interested in any heuristic\\nalgorithms for graph coloring and graph isomorphism using this method.\"), ('33', '\\n Articles about the sensitivity of the eigenvalue decomposition of real\\nmatrices, in particular, zero-one matrices.  I\\'m especially interested in\\nthe separation of eigenspaces corresponding to distinct eigenvalues.\\nArticles on the subject:\\nC. Davis and W.M. Kahn, \"The rotation of eigenvectors by a permutation:,\\nSIAM J. Numerical Analysis, vol. 7, no. 1 (1970); G.W. Stewart, \"Error\\nbounds for approximate invariant subspaces of closed linear operators\",\\nSIAM J. Numerical Analysis., Vol. 8, no. 4 (1971).'), ('34', '\\n Currently interested in isolation of root of polynomial; there is an old\\narticle by Heindel, L.E. in J. ACM, Vol. 18, 533-548.  I would like to find\\nmore recent material.'), ('35', '\\n Probabilistic algorithms especially those dealing with algebraic and\\nsymbolic manipulation.  Some examples:\\nRabiin, \"Probabilistic algorithm on finite field\", SIAM\\nWaztch, \"Probabilistic testing of polynomial identities\", SIAM'), ('36', '\\n Fast algorithm for context-free language recognition or parsing'), ('37', '\\n Articles describing the relationship between data types and concurrency\\n(e.g. what is the type of a process?  when is a synchronization attempt \\nbetween two processes \"type correct\"?  in a message-passing system is there\\nany notion of the types of messages?--i.e. any way to check that the sender\\nof the message and the receiver are both treating the bit stream as some\\nparticular type)'), ('38', '\\n What is the type of a module?\\t(I don\\'t want the entire literature on\\nAbstract Data Types here, but I\\'m not sure how to phrase this to avoid it.\\nI\\'m interested in questions about how one can check that a module \"matches\"\\ncontexts in which it is used.)'), ('39', '\\n What does type compatibility mean in languages that allow programmer\\ndefined types?  (You might want to restrict this to \"extensible\" languages\\nthat allow definition of abstract data types or programmer-supplied\\ndefinitions of operators like *, +.)'), ('40', '\\n List all articles dealing with data types in the following languages:\\nPascal, CLU, Alphard, Russell, Ada, ALGOL 68, EL1.  List any other languages\\nthat are referenced frequently in papers on the above languages (e.g. catch\\nany languages with interesting type structures that I might have missed).'), ('41', '\\n Theory of distributed systems and databases.  Subtopics of special\\ninterest include reliability and fault-tolerance in distributed systems,\\natomicity, distributed transactions, synchronization algorithms, \\nresource allocation; lower bounds and models for asynchronous parallel\\nsystems.  Also theory of communicating processes and protocols.   '), ('42', '\\n Computer performance evaluation techniques using pattern recognition\\nand clustering.'), ('43', '\\n Analysis and perception of shape by humans and computers.  Shape\\ndescriptions, shape recognition by computer.  Two-dimensional shapes.\\nMeasures of circularity.  Shape matching.'), ('44', '\\n Texture analysis by computer.\\tDigitized texture analysis.  Texture\\nsynthesis. Perception of texture.'), ('45', '\\n The use of operations research models to optimize information system\\nperformance.  This includes fine tuning decisions such as secondary index\\nselection, file reorganization, and distributed databases.'), ('46', '\\n The application of fuzzy subset theory to clustering and information\\nretrieval problems.  This includes performance evaluation and automatic\\nindexing considerations.'), ('47', '\\n The use of Bayesian decision models to optimize information retrieval\\nsystem performance.  This includes stopping rules to determine when a\\nuser should cease scanning the output of a retrieval search.'), ('48', '\\n The use of computer science principles (e.g. data structures, \\nnumerical methods) in generating optimization (e.g. linear programming)\\nalgorithms.  This includes issues of the Khachian (Russian, ellipsoidal)\\nalgorithm and complexity of such algorithms.'), ('49', '\\n The role of information retrieval in knowledge based systems\\n(i.e., expert systems).'), ('50', '\\n Parallel processors in information retrieval'), ('51', '\\n Parallel processors and paging algorithms'), ('52', '\\n Modelling and simulation in agricultural ecosystems.'), ('53', '\\n mathematical induction, group theory, integers modulo m,\\nprobability, binomial coefficients, binomial theorem, homomorphism,\\nmorphism, transitivity, relations, relation matrix.'), ('54', '\\n Semantics of programming languages, including abstract specifications\\nof data types, denotational semantics, and proofs of correctness.'), ('55', '\\n Anything dealing with star height of regular languages or regular\\nexpressions or regular events.'), ('56', '\\n Articles relation the algebraic theory of semigroups and monoids\\nto the study of automata and regular languages.'), ('57', '\\n Abstracts of articles:\\n    J. Backus, \"Can programming be liberated from the Von Neumann style?\\n               A functional style and its algebra of programs\", CACM 21\\n               (1978), 613-641.\\n    R.A.De Millo, R.J. Lipton, A.J. Perlis, letter to ACM Forum, CACM 22\\n\\t       (1979), 629-630'), ('58', \"\\n Algorithms or statistical packages for ANOVA, regression using least\\nsquares or generalized linear models.  System design, capabilities,\\nstatistical formula are of interest.  Student's t test, Wilcoxon and\\nsign tests, multivariate and univariate components can be included.\"), ('59', '\\n Dictionary construction and accessing methods for fast retrieval\\nof words or lexical items or morphologically related information.\\nHashing or indexing methods are usually applied to English spelling or\\nnatural language problems.'), ('60', '\\n Hardware and software relating to database management systems.\\nDatabase packages, back end computers, special associative hardware\\nwith microcomputers attached to disk heads or things like RAP, \\nrelational or network (CODASYL) or hierarchical models, systems\\nlike SYSTEM R, IMS, ADABAS, TOTAL, etc.'), ('61', '\\n Information retrieval articles by Gerard Salton or others about clustering,\\nbibliographic coupling, use of citations or co-citations, the vector\\nspace model, Boolean search methods using inverted files, feedback, etc.'), ('62', \"\\n Results relating parallel complexity theory (both for PRAM's and\\nuniform circuits).\"), ('63', '\\n Algorithms for parallel computation, and especially comparisons\\nbetween parallel and sequential algorithms.'), ('64', \"\\n List all articles on EL1 and ECL (EL1 may be given as EL/1; I don't\\nremember how they did it.\")]\n"
     ]
    }
   ],
   "source": [
    "##### Function check\n",
    "queries = read_queries()\n",
    "\n",
    "assert isinstance(queries, list)\n",
    "assert len(queries) == 64 and all([q[1] is not None for q in queries]), \"There should be exactly 64 queries\"\n",
    "##### "
   ]
  },
  {
   "cell_type": "markdown",
   "metadata": {
    "deletable": false,
    "editable": false,
    "id": "7PZ1YsjO4IWa",
    "nbgrader": {
     "cell_type": "markdown",
     "checksum": "652f9159caea63888e06b54103bd7f32",
     "grade": false,
     "grade_id": "cell-1c31569491d7b782",
     "locked": true,
     "schema_version": 3,
     "solution": false,
     "task": false
    }
   },
   "source": [
    "---\n",
    "### 1.3 Read the stop words (1 point)\n",
    "\n",
    "We use the common words stored in `common_words`:"
   ]
  },
  {
   "cell_type": "code",
   "execution_count": 10,
   "metadata": {
    "ExecuteTime": {
     "end_time": "2021-02-18T09:28:19.792244Z",
     "start_time": "2021-02-18T09:28:19.750355Z"
    },
    "colab": {
     "base_uri": "https://localhost:8080/"
    },
    "deletable": false,
    "editable": false,
    "id": "3eIEzeOd4IWa",
    "nbgrader": {
     "cell_type": "code",
     "checksum": "1ad6f5bae6a792504c1c8513ae5751ad",
     "grade": false,
     "grade_id": "cell-34bdb63461418a96",
     "locked": true,
     "schema_version": 3,
     "solution": false,
     "task": false
    },
    "outputId": "4b9a90c7-f76e-41fa-cf60-f87c74f6061f"
   },
   "outputs": [
    {
     "name": "stdout",
     "output_type": "stream",
     "text": [
      "a\n",
      "about\n",
      "above\n",
      "accordingly\n",
      "across\n",
      "after\n",
      "afterwards\n",
      "again\n",
      "against\n",
      "all\n"
     ]
    }
   ],
   "source": [
    "##### Read the stop words file \n",
    "!head ./datasets/common_words\n",
    "##### Read the README file "
   ]
  },
  {
   "cell_type": "markdown",
   "metadata": {
    "deletable": false,
    "editable": false,
    "id": "yS-QJ59W4IWa",
    "nbgrader": {
     "cell_type": "markdown",
     "checksum": "f720edbacd79170351156a443e0018ff",
     "grade": false,
     "grade_id": "cell-4744bde0338895d8",
     "locked": true,
     "schema_version": 3,
     "solution": false,
     "task": false
    }
   },
   "source": [
    "---\n",
    "**Implementation (1 point):**\n",
    "Write a function to read the `common_words` file (For better coverage, try to keep them in lowercase):"
   ]
  },
  {
   "cell_type": "code",
   "execution_count": 11,
   "metadata": {
    "ExecuteTime": {
     "end_time": "2021-02-18T09:28:19.800222Z",
     "start_time": "2021-02-18T09:28:19.795235Z"
    },
    "deletable": false,
    "id": "lgwbY-mG4IWb",
    "nbgrader": {
     "cell_type": "code",
     "checksum": "e6a9e9bb3ad0f8dc2ec3c497a3149092",
     "grade": false,
     "grade_id": "cell-7357aa40f64e5bcb",
     "locked": false,
     "schema_version": 3,
     "solution": true,
     "task": false
    }
   },
   "outputs": [],
   "source": [
    "# TODO: Implement this! (1 point)\n",
    "def load_stopwords(root_folder = \"./datasets/\"):\n",
    "    \"\"\"\n",
    "        Loads the stopwords. The dataset is assumed to be in the folder \"./datasets/\" by default\n",
    "        Output: A set of stopwords\n",
    "    \"\"\"\n",
    "    # YOUR CODE HERE\n",
    "    with open(os.path.join(root_folder, \"common_words\"), 'r+') as f:\n",
    "        words = set(f.readlines())\n",
    "        \n",
    "    \n",
    "    return words"
   ]
  },
  {
   "cell_type": "code",
   "execution_count": 12,
   "metadata": {
    "ExecuteTime": {
     "end_time": "2021-02-18T09:28:19.808200Z",
     "start_time": "2021-02-18T09:28:19.802216Z"
    },
    "colab": {
     "base_uri": "https://localhost:8080/",
     "height": 316
    },
    "deletable": false,
    "editable": false,
    "id": "H_RpcrQ84IWb",
    "nbgrader": {
     "cell_type": "code",
     "checksum": "9211b9735b828d89d1a51d8743c448b4",
     "grade": true,
     "grade_id": "cell-2ca3ac162004de97",
     "locked": true,
     "points": 1,
     "schema_version": 3,
     "solution": false,
     "task": false
    },
    "outputId": "ac1d355d-212f-4b8a-deda-f4058a3716b2"
   },
   "outputs": [],
   "source": [
    "##### Function check\n",
    "stopwords = load_stopwords()\n",
    "\n",
    "assert isinstance(stopwords, set)\n",
    "assert len(stopwords) == 428, \"There should be exactly 428 stop words\"\n",
    "##### "
   ]
  },
  {
   "cell_type": "markdown",
   "metadata": {
    "deletable": false,
    "editable": false,
    "id": "OKFMtm3T4IWb",
    "nbgrader": {
     "cell_type": "markdown",
     "checksum": "fc7e419f35dfd3f507d8a7555ce2cde9",
     "grade": false,
     "grade_id": "cell-134b72872f4300cb",
     "locked": true,
     "schema_version": 3,
     "solution": false,
     "task": false
    }
   },
   "source": [
    "---\n",
    "### 1.4 Tokenization (4 points)\n",
    "\n",
    "We can now write some basic text processing functions. \n",
    "A first step is to tokenize the text. \n",
    "\n",
    "**Note**: Use the  `WordPunctTokenizer` available in the `nltk` library:"
   ]
  },
  {
   "cell_type": "code",
   "execution_count": 13,
   "metadata": {
    "ExecuteTime": {
     "end_time": "2021-02-18T09:28:19.815193Z",
     "start_time": "2021-02-18T09:28:19.809198Z"
    },
    "deletable": false,
    "id": "OWakwkEw4IWb",
    "nbgrader": {
     "cell_type": "code",
     "checksum": "3f5564d3c75bf22fbf832b3a9b938f37",
     "grade": false,
     "grade_id": "cell-322be4c9499bdc4b",
     "locked": false,
     "schema_version": 3,
     "solution": true,
     "task": false
    }
   },
   "outputs": [],
   "source": [
    "# TODO: Implement this! (4 points)\n",
    "def tokenize(text):\n",
    "    \"\"\"\n",
    "        Tokenizes the input text. Use the WordPunctTokenizer\n",
    "        Input: text - a string\n",
    "        Output: a list of tokens\n",
    "    \"\"\"\n",
    "    # YOUR CODE HERE\n",
    "    return nltk.tokenize.WordPunctTokenizer().tokenize(text)\n",
    "    "
   ]
  },
  {
   "cell_type": "code",
   "execution_count": 14,
   "metadata": {
    "ExecuteTime": {
     "end_time": "2021-02-18T09:28:19.822163Z",
     "start_time": "2021-02-18T09:28:19.817177Z"
    },
    "deletable": false,
    "editable": false,
    "id": "Mk4dGvkP4IWc",
    "nbgrader": {
     "cell_type": "code",
     "checksum": "f60b93aa03bf9eced64940252eb33fe3",
     "grade": true,
     "grade_id": "cell-7fbf48bf7541a622",
     "locked": true,
     "points": 4,
     "schema_version": 3,
     "solution": false,
     "task": false
    }
   },
   "outputs": [
    {
     "name": "stdout",
     "output_type": "stream",
     "text": [
      "['the', 'quick', 'brown', 'fox', 'jumps', 'over', 'the', 'lazy', 'dog']\n"
     ]
    }
   ],
   "source": [
    "##### Function check\n",
    "text = \"the quick brown fox jumps over the lazy dog\"\n",
    "tokens = tokenize(text)\n",
    "\n",
    "assert isinstance(tokens, list)\n",
    "assert len(tokens) == 9\n",
    "\n",
    "print(tokens)\n",
    "# output: ['the', 'quick', 'brown', 'fox', 'jumps', 'over', 'the', 'lazy', 'dog']\n",
    "#####"
   ]
  },
  {
   "cell_type": "markdown",
   "metadata": {
    "deletable": false,
    "editable": false,
    "id": "PEw9RAKO4IWc",
    "nbgrader": {
     "cell_type": "markdown",
     "checksum": "1b1cc868db22735e5e193bc64ff67877",
     "grade": false,
     "grade_id": "cell-fd1b98ae61b697ca",
     "locked": true,
     "schema_version": 3,
     "solution": false,
     "task": false
    }
   },
   "source": [
    "---\n",
    "### 1.5 Stemming (3 points)\n",
    "\n",
    "Write a function to stem tokens. \n",
    "Again, you can use the nltk library for this:"
   ]
  },
  {
   "cell_type": "code",
   "execution_count": 15,
   "metadata": {
    "ExecuteTime": {
     "end_time": "2021-02-18T09:28:19.829144Z",
     "start_time": "2021-02-18T09:28:19.824158Z"
    },
    "deletable": false,
    "id": "ViYt0smN4IWc",
    "nbgrader": {
     "cell_type": "code",
     "checksum": "1c4a6aa979d66158c7b6b992af43293a",
     "grade": false,
     "grade_id": "cell-e3f6c8e3f874b28d",
     "locked": false,
     "schema_version": 3,
     "solution": true,
     "task": false
    }
   },
   "outputs": [],
   "source": [
    "# TODO: Implement this! (3 points)\n",
    "def stem_token(token):\n",
    "    \"\"\"\n",
    "        Stems the given token using the PorterStemmer from the nltk library\n",
    "        Input: a single token\n",
    "        Output: the stem of the token\n",
    "    \"\"\"\n",
    "    ps = nltk.stem.PorterStemmer()\n",
    "    return ps.stem(token)\n"
   ]
  },
  {
   "cell_type": "code",
   "execution_count": 16,
   "metadata": {
    "ExecuteTime": {
     "end_time": "2021-02-18T09:28:19.835128Z",
     "start_time": "2021-02-18T09:28:19.830142Z"
    },
    "deletable": false,
    "editable": false,
    "id": "-qSBNMns4IWd",
    "nbgrader": {
     "cell_type": "code",
     "checksum": "cd2611a46e7c2e92af438d7166cf2616",
     "grade": true,
     "grade_id": "cell-cd6863e6ee6ed205",
     "locked": true,
     "points": 3,
     "schema_version": 3,
     "solution": false,
     "task": false
    }
   },
   "outputs": [],
   "source": [
    "##### Function check\n",
    "assert stem_token('owned') == 'own'\n",
    "assert stem_token('itemization') == 'item'\n",
    "#####"
   ]
  },
  {
   "cell_type": "markdown",
   "metadata": {
    "deletable": false,
    "editable": false,
    "id": "M10Gq1wo4IWd",
    "nbgrader": {
     "cell_type": "markdown",
     "checksum": "5fcc93f08a6abcaffd5bd9475e4768e5",
     "grade": false,
     "grade_id": "cell-47c9f90498699110",
     "locked": true,
     "schema_version": 3,
     "solution": false,
     "task": false
    }
   },
   "source": [
    "---\n",
    "### 1.6 Summary\n",
    "\n",
    "The following function puts it all together. Given a string, it tokenizes it and processes it according to the flags that you set."
   ]
  },
  {
   "cell_type": "code",
   "execution_count": 17,
   "metadata": {
    "ExecuteTime": {
     "end_time": "2021-02-18T09:28:19.841113Z",
     "start_time": "2021-02-18T09:28:19.836126Z"
    },
    "deletable": false,
    "editable": false,
    "id": "Y9P9q9074IWd",
    "nbgrader": {
     "cell_type": "code",
     "checksum": "2ff2d215ee8e0039c5a91fd3de12e6bd",
     "grade": false,
     "grade_id": "cell-dd0d3f46b30801da",
     "locked": true,
     "schema_version": 3,
     "solution": false,
     "task": false
    }
   },
   "outputs": [],
   "source": [
    "#### Putting it all together\n",
    "def process_text(text, stem=False, remove_stopwords=False, lowercase_text=False):\n",
    "    \n",
    "    tokens = []\n",
    "    for token in tokenize(text):\n",
    "        if remove_stopwords and token.lower() in stopwords:\n",
    "            continue\n",
    "        if stem:\n",
    "            token = stem_token(token)\n",
    "        if lowercase_text:\n",
    "            token = token.lower()\n",
    "        tokens.append(token)\n",
    "\n",
    "    return tokens\n",
    "#### "
   ]
  },
  {
   "cell_type": "markdown",
   "metadata": {
    "deletable": false,
    "editable": false,
    "id": "3ZprLpXX4IWd",
    "nbgrader": {
     "cell_type": "markdown",
     "checksum": "02d433b18eb43654fa4306a7bf55b190",
     "grade": false,
     "grade_id": "cell-8d885bfd2edd43ae",
     "locked": true,
     "schema_version": 3,
     "solution": false,
     "task": false
    }
   },
   "source": [
    "---\n",
    "\n",
    "Let's create two sets of preprocessed documents.\n",
    "We can process the documents and queries according to these two configurations:"
   ]
  },
  {
   "cell_type": "code",
   "execution_count": 18,
   "metadata": {
    "ExecuteTime": {
     "end_time": "2021-02-18T09:28:23.684702Z",
     "start_time": "2021-02-18T09:28:19.842109Z"
    },
    "deletable": false,
    "editable": false,
    "id": "zSAhYQo84IWd",
    "nbgrader": {
     "cell_type": "code",
     "checksum": "dbe4ca667be6842fdcf512fbcad50c7f",
     "grade": false,
     "grade_id": "cell-d427365ee0fb21d8",
     "locked": true,
     "schema_version": 3,
     "solution": false,
     "task": false
    }
   },
   "outputs": [],
   "source": [
    "# In this configuration:\n",
    "# Don't preprocess the text, except to tokenize \n",
    "config_1 = {\n",
    "  \"stem\": False,\n",
    "  \"remove_stopwords\" : False,\n",
    "  \"lowercase_text\": True\n",
    "} \n",
    "\n",
    "\n",
    "# In this configuration:\n",
    "# Preprocess the text, stem and remove stopwords\n",
    "config_2 = {\n",
    "  \"stem\": True,\n",
    "  \"remove_stopwords\" : True,\n",
    "  \"lowercase_text\": True, \n",
    "} \n",
    "\n",
    "####\n",
    "doc_repr_1 = []\n",
    "doc_repr_2 = []\n",
    "for (doc_id, document) in docs:\n",
    "    doc_repr_1.append((doc_id, process_text(document, **config_1)))\n",
    "    doc_repr_2.append((doc_id, process_text(document, **config_2)))\n",
    "\n",
    "####"
   ]
  },
  {
   "cell_type": "markdown",
   "metadata": {
    "deletable": false,
    "editable": false,
    "id": "ARVTcJrC4IWe",
    "nbgrader": {
     "cell_type": "markdown",
     "checksum": "b60589aac19e80941d860d9b3f1e9a16",
     "grade": false,
     "grade_id": "cell-b1c102db61ae7495",
     "locked": true,
     "schema_version": 3,
     "solution": false,
     "task": false
    }
   },
   "source": [
    "--- \n",
    "\n",
    "## Section 2: Indexing (10 points)<a class=\"anchor\" id=\"indexing\"></a>\n",
    "\n",
    "[Back to Part 1](#part1)\n",
    "\n",
    "\n",
    "\n",
    "A retrieval function usually takes in a query document pair, and scores a query against a document.  Our document set is quite small - just a few thousand documents. However, consider a web-scale dataset with a few million documents. In such a scenario, it would become infeasible to score every query and document pair. In such a case, we can build an inverted index. From Wikipedia:\n",
    "\n",
    "> ... , an inverted index (also referred to as a postings file or inverted file) is a database index storing a mapping from content, such as words or numbers, to its locations in a table, .... The purpose of an inverted index is to allow fast full-text searches, at a cost of increased processing when a document is added to the database. ...\n",
    "\n",
    "\n",
    "Consider a simple inverted index, which maps from word to document. This can improve the performance of a retrieval system significantly. In this assignment, we consider a *simple* inverted index, which maps a word to a set of documents. In practice, however, more complex indices might be used.  \n"
   ]
  },
  {
   "cell_type": "markdown",
   "metadata": {
    "deletable": false,
    "editable": false,
    "id": "pu4nDAJQ4IWe",
    "nbgrader": {
     "cell_type": "markdown",
     "checksum": "710fd943f45523ac36fcb887cc0d4d39",
     "grade": false,
     "grade_id": "cell-fa373192c1b7bb95",
     "locked": true,
     "schema_version": 3,
     "solution": false,
     "task": false
    }
   },
   "source": [
    "### 2.1 Term Frequency-index (10 points)\n",
    "In this assignment, we will be using an index created in memory since our dataset is tiny. To get started, build a simple index that maps each `token` to a list of `(doc_id, count)` where `count` is the count of the `token` in `doc_id`.\n",
    "For consistency, build this index using a python dictionary.\n",
    "    \n",
    "Now, implement a function to build an index:"
   ]
  },
  {
   "cell_type": "code",
   "execution_count": 19,
   "metadata": {
    "ExecuteTime": {
     "end_time": "2021-02-18T09:28:23.691644Z",
     "start_time": "2021-02-18T09:28:23.685658Z"
    },
    "deletable": false,
    "id": "oILPNIpe4IWe",
    "nbgrader": {
     "cell_type": "code",
     "checksum": "c281c45196493b87e45e1b3fb4ddd6c9",
     "grade": false,
     "grade_id": "cell-077599b87e953209",
     "locked": false,
     "schema_version": 3,
     "solution": true,
     "task": false
    }
   },
   "outputs": [],
   "source": [
    "# TODO: Implement this! (10 points)\n",
    "def build_tf_index(documents):\n",
    "    \"\"\"\n",
    "        Build an inverted index (with counts). The output is a dictionary which takes in a token\n",
    "        and returns a list of (doc_id, count) where 'count' is the count of the 'token' in 'doc_id'\n",
    "        Input: a list of documents - (doc_id, tokens) \n",
    "        Output: An inverted index. [token] -> [(doc_id, token_count)]\n",
    "    \"\"\"\n",
    "    # YOUR CODE HERE\n",
    "    inverted_index = {}\n",
    "    for (doc_id, words) in documents:\n",
    "        word_occurences = Counter(words)        \n",
    "        for word in word_occurences:\n",
    "            token_count = word_occurences[word]\n",
    "            if word not in inverted_index:\n",
    "               inverted_index[word] = [(doc_id,token_count)]\n",
    "            else:\n",
    "                inverted_index[word].append((doc_id, token_count))\n",
    "\n",
    "    return inverted_index"
   ]
  },
  {
   "cell_type": "markdown",
   "metadata": {
    "deletable": false,
    "editable": false,
    "id": "Ydx63-0M4IWe",
    "nbgrader": {
     "cell_type": "markdown",
     "checksum": "15e7041b4323d2a290322de538ff7670",
     "grade": false,
     "grade_id": "cell-093aebfa504f96f2",
     "locked": true,
     "schema_version": 3,
     "solution": false,
     "task": false
    }
   },
   "source": [
    "---\n",
    "Now we can build indexed documents and preprocess the queries based on the two configurations:"
   ]
  },
  {
   "cell_type": "code",
   "execution_count": 20,
   "metadata": {
    "ExecuteTime": {
     "end_time": "2021-02-18T09:28:23.886154Z",
     "start_time": "2021-02-18T09:28:23.693638Z"
    },
    "deletable": false,
    "editable": false,
    "id": "uPguIGwp4IWe",
    "nbgrader": {
     "cell_type": "code",
     "checksum": "e27540c1d8d77a3779a05f557f3f40c6",
     "grade": false,
     "grade_id": "cell-b2ff1676348b90a8",
     "locked": true,
     "schema_version": 3,
     "solution": false,
     "task": false
    },
    "tags": []
   },
   "outputs": [],
   "source": [
    "#### Indexed documents based on the two configs\n",
    "\n",
    "# Create the 2 indices\n",
    "tf_index_1 = build_tf_index(doc_repr_1)\n",
    "tf_index_2 = build_tf_index(doc_repr_2)\n",
    "\n",
    "# This function returns the tf_index of the corresponding config\n",
    "def get_index(index_set):\n",
    "    assert index_set in {1, 2}\n",
    "    return {\n",
    "        1: tf_index_1,\n",
    "        2: tf_index_2\n",
    "    }[index_set]\n",
    "\n",
    "####\n",
    "#### Preprocessed query based on the two configs\n",
    "\n",
    "# This function preprocesses the text given the index set, according to the specified config\n",
    "def preprocess_query(text, index_set):\n",
    "    assert index_set in {1, 2}\n",
    "    if index_set == 1:\n",
    "        return process_text(text, **config_1)\n",
    "    elif index_set == 2:\n",
    "        return process_text(text, **config_2)\n",
    "\n",
    "#### "
   ]
  },
  {
   "cell_type": "code",
   "execution_count": 21,
   "metadata": {
    "ExecuteTime": {
     "end_time": "2021-02-18T09:28:23.892108Z",
     "start_time": "2021-02-18T09:28:23.888120Z"
    },
    "deletable": false,
    "editable": false,
    "id": "XgY38oQB4IWe",
    "nbgrader": {
     "cell_type": "code",
     "checksum": "2c50e4b4c68261ff1184277bcf3c38d8",
     "grade": true,
     "grade_id": "cell-fc7c7232d5d2ee46",
     "locked": true,
     "points": 5,
     "schema_version": 3,
     "solution": false,
     "task": false
    }
   },
   "outputs": [
    {
     "name": "stdout",
     "output_type": "stream",
     "text": [
      "[('4', 1), ('7', 1), ('10', 1), ('13', 1), ('19', 1), ('22', 1), ('23', 1), ('37', 1), ('40', 3), ('41', 1)]\n"
     ]
    }
   ],
   "source": [
    "##### Function check\n",
    "\n",
    "print(tf_index_1['computer'][:10])\n",
    "#### "
   ]
  },
  {
   "cell_type": "code",
   "execution_count": 22,
   "metadata": {
    "ExecuteTime": {
     "end_time": "2021-02-18T09:28:23.898091Z",
     "start_time": "2021-02-18T09:28:23.894101Z"
    },
    "deletable": false,
    "editable": false,
    "id": "IaQl12X74IWe",
    "nbgrader": {
     "cell_type": "code",
     "checksum": "02de27463e2a393f46278d6fe3160481",
     "grade": true,
     "grade_id": "cell-ff06bd11204db250",
     "locked": true,
     "points": 5,
     "schema_version": 3,
     "solution": false,
     "task": false
    }
   },
   "outputs": [
    {
     "name": "stdout",
     "output_type": "stream",
     "text": [
      "[('670', 1), ('675', 1), ('1621', 3), ('1681', 1), ('2145', 1), ('2339', 1), ('2572', 1), ('2583', 1), ('2739', 1), ('3012', 1)]\n"
     ]
    }
   ],
   "source": [
    "##### Function check\n",
    "\n",
    "print(tf_index_2['computer'][:10]) \n",
    "#### "
   ]
  },
  {
   "cell_type": "markdown",
   "metadata": {
    "deletable": false,
    "editable": false,
    "id": "D3EIl_rY4IWf",
    "nbgrader": {
     "cell_type": "markdown",
     "checksum": "982112dca3f9a75e871bea74fe1adab4",
     "grade": false,
     "grade_id": "cell-89eba71f04310291",
     "locked": true,
     "schema_version": 3,
     "solution": false,
     "task": false
    }
   },
   "source": [
    "\n",
    "---\n",
    "## Section 3: Ranking  (80 points) <a class=\"anchor\" id=\"ranking\"></a>\n",
    "\n",
    "[Back to Part 1](#part1)\n",
    "\n",
    "Now that we have cleaned and processed our dataset, we can start building simple IR systems. \n",
    "\n",
    "For now, we consider *simple* IR systems, which involve computing scores from the tokens present in the document/query. More advanced methods are covered in later assignments.\n",
    "\n",
    "We will implement the following methods in this section:\n",
    "- [Section 3.1: Bag of Words](#bow) (10 points)\n",
    "- [Section 3.2: TF-IDF](#tfidf) (15 points)\n",
    "- [Section 3.3: Query Likelihood Model](#qlm) (35 points)\n",
    "- [Section 3.4: BM25](#bm25) (20 points)\n",
    "\n",
    "**Scoring policy:**\n",
    "Your implementations in this section are scored based on the expected performance of your ranking functions.\n",
    "You will get a full mark if your implementation meets the expected performance (measured by some evaluation metric).\n",
    "Otherwise, you may get partial credit.\n",
    "For example, if your *Bag of words* ranking function has 60% of expected performance, you will get 4 out of 10."
   ]
  },
  {
   "cell_type": "markdown",
   "metadata": {
    "deletable": false,
    "editable": false,
    "id": "43wdjFkt4IWf",
    "nbgrader": {
     "cell_type": "markdown",
     "checksum": "97c13d2e2cad60df4a70dcb61ea7c30e",
     "grade": false,
     "grade_id": "cell-3daf70a60e393adf",
     "locked": true,
     "schema_version": 3,
     "solution": false,
     "task": false
    }
   },
   "source": [
    "--- \n",
    "\n",
    "### Section 3.1: Bag of Words (10 points)<a class=\"anchor\" id=\"bow\"></a>\n",
    "\n",
    "Probably the simplest IR model is the Bag of Words (BOW) model.\n",
    "Implement a function that scores and ranks all the documents against a query using this model.   \n",
    "\n",
    "Note that you can use either the count of the token or 'binarize' it i.e set the value equal to 1 if the token appears.   \n"
   ]
  },
  {
   "cell_type": "code",
   "execution_count": 103,
   "metadata": {
    "ExecuteTime": {
     "end_time": "2021-02-18T09:51:01.994616Z",
     "start_time": "2021-02-18T09:51:01.986642Z"
    },
    "deletable": false,
    "id": "YdfD8mWa4IWf",
    "nbgrader": {
     "cell_type": "code",
     "checksum": "1178c8a8908b0e4dc07add7aa49b7fde",
     "grade": false,
     "grade_id": "cell-de9cf0459c4b9324",
     "locked": false,
     "schema_version": 3,
     "solution": true,
     "task": false
    }
   },
   "outputs": [],
   "source": [
    "# TODO: Implement this! (10 points)\n",
    "def bow_search(query, index_set):\n",
    "    \"\"\"\n",
    "        Perform a search over all documents with the given query. \n",
    "        Note: You have to use the `get_index` function created in the previous cells\n",
    "        Input: \n",
    "            query - a (unprocessed) query\n",
    "            index_set - the index to use\n",
    "        Output: a list of (document_id, score), sorted in descending relevance to the given query \n",
    "    \"\"\"\n",
    "    index = get_index(index_set)\n",
    "    processed_query = preprocess_query(query, index_set)\n",
    "    \n",
    "    # YOUR CODE HERE\n",
    "    doc_scores = {}\n",
    "    for query_word in processed_query:\n",
    "        if query_word in index:\n",
    "            word_occurences = index[query_word] \n",
    "            for (doc_id, counts) in word_occurences:\n",
    "                if doc_id not in doc_scores:\n",
    "                    doc_scores[doc_id] = 1\n",
    "                else:\n",
    "                    doc_scores[doc_id] += 1\n",
    "    \n",
    "    sorted_scores = [(k, float(v)) for k, v in sorted(doc_scores.items(), key=lambda item:item[1], reverse=True)]\n",
    "\n",
    "    return sorted_scores"
   ]
  },
  {
   "cell_type": "code",
   "execution_count": 104,
   "metadata": {
    "ExecuteTime": {
     "end_time": "2021-02-18T09:51:03.068175Z",
     "start_time": "2021-02-18T09:51:03.063183Z"
    },
    "deletable": false,
    "editable": false,
    "id": "YAeh2kuY4IWf",
    "nbgrader": {
     "cell_type": "code",
     "checksum": "644d6d33cf5075c6d9878d4fe24c6213",
     "grade": true,
     "grade_id": "cell-9f6aceae6dd9125f",
     "locked": true,
     "points": 2,
     "schema_version": 3,
     "solution": false,
     "task": false
    }
   },
   "outputs": [
    {
     "name": "stdout",
     "output_type": "stream",
     "text": [
      "BOW Results:\n",
      "Rank 0(1.0): Preliminary Report-International Algebraic Languag...\n",
      "Rank 1(1.0): ALGOL Sub-Committee Report - Extensions...\n",
      "Rank 2(1.0): The Use of Computers in Engineering Classroom Inst...\n",
      "Rank 3(1.0): Report on a Conference of University Computing Cen...\n",
      "Rank 4(1.0): Report on the Algorithmic Language ALGOL 60...\n"
     ]
    }
   ],
   "source": [
    "#### Function check\n",
    "\n",
    "docs_by_id = dict(docs)\n",
    "def print_results(docs, len_limit=50):    \n",
    "    for i, (doc_id, score) in enumerate(docs):\n",
    "        doc_content = docs_by_id[doc_id].strip().replace(\"\\n\", \"\\\\n\")[:len_limit] + \"...\"\n",
    "        print(f\"Rank {i}({score:.2}): {doc_content}\")\n",
    "\n",
    "test_bow = bow_search(\"report\", index_set=1)[:5]\n",
    "print(f\"BOW Results:\")\n",
    "print_results(test_bow)\n",
    "#### "
   ]
  },
  {
   "cell_type": "code",
   "execution_count": 25,
   "metadata": {
    "ExecuteTime": {
     "end_time": "2021-02-18T09:28:23.920032Z",
     "start_time": "2021-02-18T09:28:23.917040Z"
    },
    "deletable": false,
    "editable": false,
    "id": "VxcFb-PS4IWf",
    "nbgrader": {
     "cell_type": "code",
     "checksum": "8d54c91b913d7a54b25f3358c969fa45",
     "grade": true,
     "grade_id": "cell-4eed3abf233d9b58",
     "locked": true,
     "points": 2,
     "schema_version": 3,
     "solution": false,
     "task": false
    }
   },
   "outputs": [],
   "source": [
    "#### Please do not change this. This cell is used for grading."
   ]
  },
  {
   "cell_type": "code",
   "execution_count": 26,
   "metadata": {
    "ExecuteTime": {
     "end_time": "2021-02-18T09:28:23.925019Z",
     "start_time": "2021-02-18T09:28:23.922027Z"
    },
    "deletable": false,
    "editable": false,
    "id": "2Q52Hizy4IWf",
    "nbgrader": {
     "cell_type": "code",
     "checksum": "58bcc16d36dc079b7f41f9572423c62b",
     "grade": true,
     "grade_id": "cell-4d65a2d7090c466c",
     "locked": true,
     "points": 3,
     "schema_version": 3,
     "solution": false,
     "task": false
    }
   },
   "outputs": [],
   "source": [
    "#### Please do not change this. This cell is used for grading."
   ]
  },
  {
   "cell_type": "code",
   "execution_count": 27,
   "metadata": {
    "ExecuteTime": {
     "end_time": "2021-02-18T09:28:23.930005Z",
     "start_time": "2021-02-18T09:28:23.927013Z"
    },
    "deletable": false,
    "editable": false,
    "id": "_EV8Ezcu4IWg",
    "nbgrader": {
     "cell_type": "code",
     "checksum": "65e4561970c4eba3e5ce43b142f858af",
     "grade": true,
     "grade_id": "cell-dedf36ab5853ce20",
     "locked": true,
     "points": 3,
     "schema_version": 3,
     "solution": false,
     "task": false
    }
   },
   "outputs": [],
   "source": [
    "#### Please do not change this. This cell is used for grading."
   ]
  },
  {
   "cell_type": "markdown",
   "metadata": {
    "deletable": false,
    "editable": false,
    "id": "a6te4fbZ4IWg",
    "nbgrader": {
     "cell_type": "markdown",
     "checksum": "a5c2318004c5ce534b67c7a36bbc7c31",
     "grade": false,
     "grade_id": "cell-a5c09c79ac1f2871",
     "locked": true,
     "schema_version": 3,
     "solution": false,
     "task": false
    }
   },
   "source": [
    "\n",
    "---\n",
    "\n",
    "### Section 3.2: TF-IDF (15 points) <a class=\"anchor\" id=\"tfidf\"></a>\n",
    "\n",
    "Before we implement the tf-idf scoring functions, let's first write a function to compute the document frequencies of all words.  \n",
    "\n",
    "#### 3.2.1 Document frequency (5 points)\n",
    "Compute the document frequencies of all tokens in the collection.  "
   ]
  },
  {
   "cell_type": "code",
   "execution_count": 28,
   "metadata": {
    "ExecuteTime": {
     "end_time": "2021-02-18T09:28:23.935993Z",
     "start_time": "2021-02-18T09:28:23.931003Z"
    },
    "deletable": false,
    "id": "JTO8ZA5t4IWg",
    "nbgrader": {
     "cell_type": "code",
     "checksum": "11cdde77378ded394d7922fe36bbc5d1",
     "grade": false,
     "grade_id": "cell-9a2369f32e864b8a",
     "locked": false,
     "schema_version": 3,
     "solution": true,
     "task": false
    }
   },
   "outputs": [],
   "source": [
    "# TODO: Implement this! (5 points)\n",
    "def compute_df(documents):\n",
    "    \"\"\"\n",
    "        Compute the document frequency of all terms in the vocabulary\n",
    "        Input: A list of documents\n",
    "        Output: A dictionary with {token: document frequency)\n",
    "    \"\"\"\n",
    "    # YOUR CODE HERE\n",
    "    merge_list = []\n",
    "    for doc in documents:\n",
    "        merge_list.extend(set(doc))\n",
    "    dict_ = Counter(merge_list)\n",
    "    \n",
    "    return dict_ \n"
   ]
  },
  {
   "cell_type": "code",
   "execution_count": 29,
   "metadata": {
    "ExecuteTime": {
     "end_time": "2021-02-18T09:28:23.998822Z",
     "start_time": "2021-02-18T09:28:23.938981Z"
    },
    "deletable": false,
    "editable": false,
    "id": "pWi3HvTH4IWg",
    "nbgrader": {
     "cell_type": "code",
     "checksum": "154985511d7925c5793a1f97dea81880",
     "grade": false,
     "grade_id": "cell-4c3bddd0b73ac90e",
     "locked": true,
     "schema_version": 3,
     "solution": false,
     "task": false
    }
   },
   "outputs": [],
   "source": [
    "#### Compute df based on the two configs\n",
    "\n",
    "# get the document frequencies of each document\n",
    "df_1 = compute_df([d[1] for d in doc_repr_1])\n",
    "df_2 = compute_df([d[1] for d in doc_repr_2])\n",
    "\n",
    "def get_df(index_set):\n",
    "    assert index_set in {1, 2}\n",
    "    return {\n",
    "        1: df_1,\n",
    "        2: df_2\n",
    "    }[index_set]\n",
    "####"
   ]
  },
  {
   "cell_type": "code",
   "execution_count": 30,
   "metadata": {
    "ExecuteTime": {
     "end_time": "2021-02-18T09:28:24.004805Z",
     "start_time": "2021-02-18T09:28:23.999831Z"
    },
    "deletable": false,
    "editable": false,
    "id": "5Y16YYM04IWg",
    "nbgrader": {
     "cell_type": "code",
     "checksum": "110cc180068cf3f77c682ee3de2a117c",
     "grade": true,
     "grade_id": "cell-79e8a6db1e5fc46f",
     "locked": true,
     "points": 5,
     "schema_version": 3,
     "solution": false,
     "task": false
    }
   },
   "outputs": [
    {
     "name": "stdout",
     "output_type": "stream",
     "text": [
      "597\n",
      "11\n"
     ]
    }
   ],
   "source": [
    "#### Function check\n",
    "\n",
    "print(df_1['computer'])\n",
    "print(df_2['computer'])\n",
    "####"
   ]
  },
  {
   "cell_type": "markdown",
   "metadata": {
    "deletable": false,
    "editable": false,
    "id": "X2fSm6OJ4IWg",
    "nbgrader": {
     "cell_type": "markdown",
     "checksum": "6646996a2d016ef86e7cedd2f79a29d1",
     "grade": false,
     "grade_id": "cell-52f6acc487e1b96d",
     "locked": true,
     "schema_version": 3,
     "solution": false,
     "task": false
    }
   },
   "source": [
    "---\n",
    "#### 3.2.2 TF-IDF search (10 points)\n",
    "Next, implement a function that computes a tf-idf score given a query.      "
   ]
  },
  {
   "cell_type": "code",
   "execution_count": 31,
   "metadata": {
    "ExecuteTime": {
     "end_time": "2021-02-18T09:28:24.013782Z",
     "start_time": "2021-02-18T09:28:24.006800Z"
    },
    "deletable": false,
    "id": "xxWNAcOB4IWg",
    "nbgrader": {
     "cell_type": "code",
     "checksum": "b33c859693d1b383bcb53acea340027f",
     "grade": false,
     "grade_id": "cell-2fb5ba34b2994cd9",
     "locked": false,
     "schema_version": 3,
     "solution": true,
     "task": false
    }
   },
   "outputs": [
    {
     "name": "stdout",
     "output_type": "stream",
     "text": [
      "TFIDF Results:\n",
      "Rank 0(1.3e+01): Logic and Programming Languages\\nLogic has been lo...\n",
      "Rank 1(1.3e+01): Consumer Difficulties With Computerized Transactio...\n",
      "Rank 2(8.9): What is Proprietary In Mathematical Programming?-I...\n",
      "Rank 3(8.9): A Statistical Model for Console Behavior in Multiu...\n",
      "Rank 4(8.9): Arguments for a Moratorium on the Construction\\nof...\n"
     ]
    }
   ],
   "source": [
    "# TODO: Implement this! (10 points)\n",
    "def tfidf_search(query, index_set):\n",
    "    \"\"\"\n",
    "        Perform a search over all documents with the given query using tf-idf. \n",
    "        Note #1: You have to use the `get_index` (and the `get_df`) function created in the previous cells\n",
    "        Input: \n",
    "            query - a (unprocessed) query\n",
    "            index_set - the index to use\n",
    "        Output: a list of (document_id, score), sorted in descending relevance to the given query \n",
    "    \"\"\"\n",
    "    index = get_index(index_set)\n",
    "    df = get_df(index_set)\n",
    "    processed_query = preprocess_query(query, index_set)\n",
    "    \n",
    "    # YOUR CODE HERE\n",
    "    nr_docs = len(doc_repr_1)\n",
    "    doc_scores = {}\n",
    "    for query_word in processed_query:\n",
    "        idf = math.log(nr_docs/df[query_word])\n",
    "        if query_word in index:\n",
    "            for (doc_id, tf) in index[query_word]:\n",
    "                if doc_id not in doc_scores:\n",
    "                    doc_scores[doc_id] = tf * idf\n",
    "                else:\n",
    "                    doc_scores[doc_id] += (tf * idf)\n",
    "\n",
    "        sorted_scores = [(k, v) for k, v in sorted(doc_scores.items(), key=lambda item:item[1], reverse=True)]\n",
    "        return sorted_scores\n",
    "\n",
    "\n",
    "\n",
    "\n",
    "test_tfidf = tfidf_search(\"What articles exist which deal with TSS (Time Sharing System), an operating system for IBM computers?\", index_set=1)[:5]\n",
    "print(f\"TFIDF Results:\")\n",
    "print_results(test_tfidf)"
   ]
  },
  {
   "cell_type": "code",
   "execution_count": 32,
   "metadata": {
    "ExecuteTime": {
     "end_time": "2021-02-18T09:28:24.023755Z",
     "start_time": "2021-02-18T09:28:24.018768Z"
    },
    "deletable": false,
    "editable": false,
    "id": "leBfCIu04IWh",
    "nbgrader": {
     "cell_type": "code",
     "checksum": "10b9fd39f3c9a9f3ca274c020ad79323",
     "grade": true,
     "grade_id": "cell-bc68aeeacf42beb3",
     "locked": true,
     "points": 2,
     "schema_version": 3,
     "solution": false,
     "task": false
    },
    "tags": []
   },
   "outputs": [
    {
     "name": "stdout",
     "output_type": "stream",
     "text": [
      "TFIDF Results:\n",
      "Rank 0(2.3e+01): An Information Algebra - Phase I Report-Language\\n...\n",
      "Rank 1(2.3e+01): Rejuvenating Experimental Computer Science\\nThis r...\n",
      "Rank 2(1.2e+01): ALGOL 60 Confidential\\nThe ALGOL 60 Report,* when ...\n",
      "Rank 3(7.8): Automatic Abstracting and Indexing Survey and Reco...\n",
      "Rank 4(7.8): A String Language for Symbol Manipulation Based on...\n"
     ]
    }
   ],
   "source": [
    "#### Function check\n",
    "test_tfidf = tfidf_search(\"report\", index_set=1)[:5]\n",
    "print(f\"TFIDF Results:\")\n",
    "print_results(test_tfidf)\n",
    "####"
   ]
  },
  {
   "cell_type": "code",
   "execution_count": 33,
   "metadata": {
    "ExecuteTime": {
     "end_time": "2021-02-18T09:28:24.028741Z",
     "start_time": "2021-02-18T09:28:24.025751Z"
    },
    "deletable": false,
    "editable": false,
    "id": "Npd3IiET4IWh",
    "nbgrader": {
     "cell_type": "code",
     "checksum": "03441f97df9db4996d0f260fcc974e9d",
     "grade": true,
     "grade_id": "cell-c7702fa8179fadb9",
     "locked": true,
     "points": 2,
     "schema_version": 3,
     "solution": false,
     "task": false
    }
   },
   "outputs": [],
   "source": [
    "#### Please do not change this. This cell is used for grading."
   ]
  },
  {
   "cell_type": "code",
   "execution_count": 34,
   "metadata": {
    "ExecuteTime": {
     "end_time": "2021-02-18T09:28:24.032730Z",
     "start_time": "2021-02-18T09:28:24.029738Z"
    },
    "deletable": false,
    "editable": false,
    "id": "wNuwNNBt4IWh",
    "nbgrader": {
     "cell_type": "code",
     "checksum": "7272cfcbb457a74d23bfec1f85d22d5f",
     "grade": true,
     "grade_id": "cell-3284f50ac29abbaa",
     "locked": true,
     "points": 3,
     "schema_version": 3,
     "solution": false,
     "task": false
    }
   },
   "outputs": [],
   "source": [
    "#### Please do not change this. This cell is used for grading."
   ]
  },
  {
   "cell_type": "code",
   "execution_count": 35,
   "metadata": {
    "ExecuteTime": {
     "end_time": "2021-02-18T09:28:24.037720Z",
     "start_time": "2021-02-18T09:28:24.033728Z"
    },
    "deletable": false,
    "editable": false,
    "id": "ZH-U34qc4IWh",
    "nbgrader": {
     "cell_type": "code",
     "checksum": "fcbcc867713612b90395d653db8fd5e3",
     "grade": true,
     "grade_id": "cell-d908c80a3155354b",
     "locked": true,
     "points": 3,
     "schema_version": 3,
     "solution": false,
     "task": false
    }
   },
   "outputs": [],
   "source": [
    "#### Please do not change this. This cell is used for grading."
   ]
  },
  {
   "cell_type": "markdown",
   "metadata": {
    "deletable": false,
    "editable": false,
    "id": "CF8mA1LD4IWh",
    "nbgrader": {
     "cell_type": "markdown",
     "checksum": "cdffc83f0eaea937cf64a212e7e9af8d",
     "grade": false,
     "grade_id": "cell-f5d923459ba21733",
     "locked": true,
     "schema_version": 3,
     "solution": false,
     "task": false
    }
   },
   "source": [
    "--- \n",
    "\n",
    "### Section 3.3: Query Likelihood Model (35 points) <a class=\"anchor\" id=\"qlm\"></a>\n",
    "\n",
    "In this section, you will implement a simple query likelihood model. \n",
    "\n",
    "\n",
    "#### 3.3.1 Naive QL (15 points)\n",
    "\n",
    "First, let us implement a naive version of a QL model, assuming a multinomial unigram language model (with a uniform prior over the documents). \n",
    "\n"
   ]
  },
  {
   "cell_type": "code",
   "execution_count": 36,
   "metadata": {
    "ExecuteTime": {
     "end_time": "2021-02-18T09:28:24.045696Z",
     "start_time": "2021-02-18T09:28:24.039713Z"
    },
    "deletable": false,
    "editable": false,
    "id": "5Z4AnsRm4IWh",
    "nbgrader": {
     "cell_type": "code",
     "checksum": "b7ae2b7d818b428b4638c1c9206d2aca",
     "grade": false,
     "grade_id": "cell-98505778f7b68e7f",
     "locked": true,
     "schema_version": 3,
     "solution": false,
     "task": false
    }
   },
   "outputs": [],
   "source": [
    "#### Document length for normalization\n",
    "\n",
    "def doc_lengths(documents):\n",
    "    doc_lengths = {doc_id:len(doc) for (doc_id, doc) in documents}\n",
    "    return doc_lengths\n",
    "\n",
    "doc_lengths_1 = doc_lengths(doc_repr_1)\n",
    "doc_lengths_2 = doc_lengths(doc_repr_2)\n",
    "\n",
    "def get_doc_lengths(index_set):\n",
    "    assert index_set in {1, 2}\n",
    "    return {\n",
    "        1: doc_lengths_1,\n",
    "        2: doc_lengths_2\n",
    "    }[index_set]\n",
    "####"
   ]
  },
  {
   "cell_type": "code",
   "execution_count": 37,
   "metadata": {
    "ExecuteTime": {
     "end_time": "2021-02-18T09:28:24.051681Z",
     "start_time": "2021-02-18T09:28:24.046695Z"
    },
    "deletable": false,
    "id": "-WXzO9tU4IWi",
    "nbgrader": {
     "cell_type": "code",
     "checksum": "cedd08303a914243fefdb6b876977ca1",
     "grade": false,
     "grade_id": "cell-8bcf2b804d636c2e",
     "locked": false,
     "schema_version": 3,
     "solution": true,
     "task": false
    }
   },
   "outputs": [],
   "source": [
    "# TODO: Implement this! (15 points)\n",
    "def naive_ql_search(query, index_set):\n",
    "    \"\"\"\n",
    "        Perform a search over all documents with the given query using a naive QL model. \n",
    "        Note #1: You have to use the `get_index` (and get_doc_lengths) function created in the previous cells\n",
    "        Input: \n",
    "            query - a (unprocessed) query\n",
    "            index_set - the index to use\n",
    "        Output: a list of (document_id, score), sorted in descending relevance to the given query \n",
    "    \"\"\"\n",
    "    index = get_index(index_set)\n",
    "    doc_lengths = get_doc_lengths(index_set)\n",
    "    processed_query = preprocess_query(query, index_set)\n",
    "    # YOUR CODE HERE\n",
    "    sum_of_all_words = sum(doc_lengths.values())                    \n",
    "    result_dict = {}            \n",
    "    for token in processed_query:\n",
    "        if token in index:\n",
    "            dict_token = dict(index[token])\n",
    "            for (doc_id,length) in doc_lengths.items():\n",
    "                term_1 = 0\n",
    "                if doc_id in dict_token.keys():\n",
    "                    term_1 = dict_token[doc_id]/doc_lengths[doc_id]    \n",
    "                if doc_id not in result_dict:\n",
    "                    result_dict[doc_id] = term_1\n",
    "                else:\n",
    "                    result_dict[doc_id] *= term_1\n",
    "                    \n",
    "    \n",
    "    ql_scores_list = [(key, score) for key, score in result_dict.items()]\n",
    "    ql_scores_list.sort(key=lambda x: x[1], reverse = True)\n",
    "    return ql_scores_list  "
   ]
  },
  {
   "cell_type": "code",
   "execution_count": 38,
   "metadata": {
    "ExecuteTime": {
     "end_time": "2021-02-18T09:28:24.062652Z",
     "start_time": "2021-02-18T09:28:24.054673Z"
    },
    "deletable": false,
    "editable": false,
    "id": "VHLDABlc4IWi",
    "nbgrader": {
     "cell_type": "code",
     "checksum": "b550d15bdad28354c336020a00c33d56",
     "grade": true,
     "grade_id": "cell-5a83ac12ecde8578",
     "locked": true,
     "points": 3,
     "schema_version": 3,
     "solution": false,
     "task": false
    }
   },
   "outputs": [
    {
     "name": "stdout",
     "output_type": "stream",
     "text": [
      "Naive QL Results:\n",
      "Rank 0(0.2): A Report Writer For COBOL...\n",
      "Rank 1(0.2): A CRT Report Generating System...\n",
      "Rank 2(0.17): Preliminary Report-International Algebraic Languag...\n",
      "Rank 3(0.17): Supplement to the ALGOL 60 Report...\n",
      "Rank 4(0.14): ALGOL Sub-Committee Report - Extensions...\n"
     ]
    }
   ],
   "source": [
    "#### Function check\n",
    "test_naiveql = naive_ql_search(\"report\", index_set=1)[:5]\n",
    "print(f\"Naive QL Results:\")\n",
    "print_results(test_naiveql)\n",
    "####"
   ]
  },
  {
   "cell_type": "code",
   "execution_count": 39,
   "metadata": {
    "ExecuteTime": {
     "end_time": "2021-02-18T09:28:24.067637Z",
     "start_time": "2021-02-18T09:28:24.064645Z"
    },
    "deletable": false,
    "editable": false,
    "id": "52J5wGHX4IWi",
    "nbgrader": {
     "cell_type": "code",
     "checksum": "799df1d81c63fe90edbb6c218fc707fb",
     "grade": true,
     "grade_id": "cell-80f4bf2137f997bb",
     "locked": true,
     "points": 2,
     "schema_version": 3,
     "solution": false,
     "task": false
    }
   },
   "outputs": [],
   "source": [
    "#### Please do not change this. This cell is used for grading."
   ]
  },
  {
   "cell_type": "code",
   "execution_count": 40,
   "metadata": {
    "ExecuteTime": {
     "end_time": "2021-02-18T09:28:24.072626Z",
     "start_time": "2021-02-18T09:28:24.068634Z"
    },
    "deletable": false,
    "editable": false,
    "id": "vXS0rYJ94IWi",
    "nbgrader": {
     "cell_type": "code",
     "checksum": "875a4a517d27e20625d41783cebec118",
     "grade": true,
     "grade_id": "cell-5ce2993458a8ce51",
     "locked": true,
     "points": 3,
     "schema_version": 3,
     "solution": false,
     "task": false
    }
   },
   "outputs": [],
   "source": [
    "#### Please do not change this. This cell is used for grading."
   ]
  },
  {
   "cell_type": "code",
   "execution_count": 41,
   "metadata": {
    "ExecuteTime": {
     "end_time": "2021-02-18T09:28:24.078608Z",
     "start_time": "2021-02-18T09:28:24.075731Z"
    },
    "deletable": false,
    "editable": false,
    "id": "E7Og-DYJ4IWi",
    "nbgrader": {
     "cell_type": "code",
     "checksum": "d5c4e1c3852e71a46f32825b122f1b71",
     "grade": true,
     "grade_id": "cell-7753bdb54e292f3d",
     "locked": true,
     "points": 3,
     "schema_version": 3,
     "solution": false,
     "task": false
    }
   },
   "outputs": [],
   "source": [
    "#### Please do not change this. This cell is used for grading."
   ]
  },
  {
   "cell_type": "code",
   "execution_count": 42,
   "metadata": {
    "ExecuteTime": {
     "end_time": "2021-02-18T09:28:24.082599Z",
     "start_time": "2021-02-18T09:28:24.079605Z"
    },
    "deletable": false,
    "editable": false,
    "id": "GIrjDu1G4IWi",
    "nbgrader": {
     "cell_type": "code",
     "checksum": "c4d4332d4356e89ce0240f6b80e1899a",
     "grade": true,
     "grade_id": "cell-54e476e2f96e64bb",
     "locked": true,
     "points": 4,
     "schema_version": 3,
     "solution": false,
     "task": false
    }
   },
   "outputs": [],
   "source": [
    "#### Please do not change this. This cell is used for grading."
   ]
  },
  {
   "cell_type": "markdown",
   "metadata": {
    "deletable": false,
    "editable": false,
    "id": "PwcdEmYB4IWi",
    "nbgrader": {
     "cell_type": "markdown",
     "checksum": "8d739dc91a22bd48897f603885f95a74",
     "grade": false,
     "grade_id": "cell-5414dfd69dab8b94",
     "locked": true,
     "schema_version": 3,
     "solution": false,
     "task": false
    }
   },
   "source": [
    "---\n",
    "#### 3.3.2 QL (20 points)\n",
    "Now, let's implement a QL model that handles the issues with the naive version. In particular, you will implement a QL model with Jelinek-Mercer Smoothing. That means an interpolated score is computed per word - one term is the same as the previous naive version, and the second term comes from a unigram language model. In addition, you should accumulate the scores by summing the **log** (smoothed) probability which leads to better numerical stability."
   ]
  },
  {
   "cell_type": "code",
   "execution_count": 43,
   "metadata": {
    "ExecuteTime": {
     "end_time": "2021-02-18T09:28:24.093567Z",
     "start_time": "2021-02-18T09:28:24.084593Z"
    },
    "deletable": false,
    "id": "vQ7JGYo34IWj",
    "nbgrader": {
     "cell_type": "code",
     "checksum": "b8c6abf937ad333e628f1db891f2e29e",
     "grade": false,
     "grade_id": "cell-bb1f506409771257",
     "locked": false,
     "schema_version": 3,
     "solution": true,
     "task": false
    }
   },
   "outputs": [],
   "source": [
    "# TODO: Implement this! (20 points)\n",
    "\n",
    "# YOUR CODE HERE\n",
    "def ql_search(query, index_set):\n",
    "    \"\"\"\n",
    "        Perform a search over all documents with the given query using a QL model \n",
    "        with Jelinek-Mercer Smoothing (set smoothing=0.1). \n",
    "        \n",
    "        \n",
    "        Note #1: You have to use the `get_index` (and get_doc_lengths) function created in the previous cells\n",
    "        Note #2: You might have to create some variables beforehand and use them in this function\n",
    "        \n",
    "        \n",
    "        Input: \n",
    "            query - a (unprocessed) query\n",
    "            index_set - the index to use\n",
    "        Output: a list of (document_id, score), sorted in descending relevance to the given query \n",
    "    \"\"\"\n",
    "    index = get_index(index_set)\n",
    "    doc_lengths = get_doc_lengths(index_set)\n",
    "    processed_query = preprocess_query(query, index_set)\n",
    "    \n",
    "    # YOUR CODE HERE\n",
    "    smoothing = 0.9\n",
    "    sum_of_all_words = sum(doc_lengths.values())\n",
    "                    \n",
    "    result_dict = {}            \n",
    "    for token in processed_query:\n",
    "        if token in index:\n",
    "            sum_freq = 0\n",
    "            [sum_freq := sum_freq + x[1] for x in index[token]]\n",
    "            term_2= (1-smoothing) * (sum_freq / sum_of_all_words)\n",
    "            dict_token = dict(index[token])\n",
    "            for (doc_id,length) in doc_lengths.items():\n",
    "                term_1 = 0\n",
    "                if doc_id in dict_token.keys():\n",
    "                    term_1 = smoothing * (dict_token[doc_id]/doc_lengths[doc_id])    \n",
    "                if doc_id not in result_dict:\n",
    "                    result_dict[doc_id] = math.log(term_1 + term_2)\n",
    "                else:\n",
    "                    result_dict[doc_id] += math.log(term_1 + term_2)\n",
    "                    \n",
    "    \n",
    "    ql_scores_list = [(key, score) for key, score in result_dict.items()]\n",
    "    ql_scores_list.sort(key=lambda x: x[1], reverse = True)\n",
    "    return ql_scores_list  "
   ]
  },
  {
   "cell_type": "code",
   "execution_count": 44,
   "metadata": {
    "ExecuteTime": {
     "end_time": "2021-02-18T09:28:24.122000Z",
     "start_time": "2021-02-18T09:28:24.094566Z"
    },
    "deletable": false,
    "editable": false,
    "id": "onjd74_U4IWj",
    "nbgrader": {
     "cell_type": "code",
     "checksum": "0b12a7f3355193a257fd9f5f69a66562",
     "grade": true,
     "grade_id": "cell-850e9d6369bcec32",
     "locked": true,
     "points": 4,
     "schema_version": 3,
     "solution": false,
     "task": false
    }
   },
   "outputs": [
    {
     "name": "stdout",
     "output_type": "stream",
     "text": [
      "Rank 0(-1.7): A Report Writer For COBOL...\n",
      "Rank 1(-1.7): A CRT Report Generating System...\n",
      "Rank 2(-1.9): Preliminary Report-International Algebraic Languag...\n",
      "Rank 3(-1.9): Supplement to the ALGOL 60 Report...\n",
      "Rank 4(-2.1): ALGOL Sub-Committee Report - Extensions...\n",
      "\n",
      "Rank 0(-1.7e+01): A Report Writer For COBOL...\n",
      "Rank 1(-1.7e+01): A CRT Report Generating System...\n",
      "Rank 2(-1.9e+01): Preliminary Report-International Algebraic Languag...\n",
      "Rank 3(-1.9e+01): Supplement to the ALGOL 60 Report...\n",
      "Rank 4(-2.1e+01): ALGOL Sub-Committee Report - Extensions...\n"
     ]
    }
   ],
   "source": [
    "#### Function check\n",
    "test_ql_results = ql_search(\"report\", index_set=1)[:5]\n",
    "print_results(test_ql_results)\n",
    "print()\n",
    "test_ql_results_long = ql_search(\"report \" * 10, index_set=1)[:5]\n",
    "print_results(test_ql_results_long)\n",
    "####"
   ]
  },
  {
   "cell_type": "code",
   "execution_count": 45,
   "metadata": {
    "ExecuteTime": {
     "end_time": "2021-02-18T09:28:24.126987Z",
     "start_time": "2021-02-18T09:28:24.123995Z"
    },
    "deletable": false,
    "editable": false,
    "id": "2Nf0hYoy4IWj",
    "nbgrader": {
     "cell_type": "code",
     "checksum": "e40be645140389c115849856145f5b59",
     "grade": true,
     "grade_id": "cell-958cdcf6fd6899b7",
     "locked": true,
     "points": 3,
     "schema_version": 3,
     "solution": false,
     "task": false
    }
   },
   "outputs": [],
   "source": [
    "#### Please do not change this. This cell is used for grading."
   ]
  },
  {
   "cell_type": "code",
   "execution_count": 46,
   "metadata": {
    "ExecuteTime": {
     "end_time": "2021-02-18T09:28:24.131974Z",
     "start_time": "2021-02-18T09:28:24.128981Z"
    },
    "deletable": false,
    "editable": false,
    "id": "LBhA_QfH4IWj",
    "nbgrader": {
     "cell_type": "code",
     "checksum": "41d4aff001df17e7963ba79b45810b30",
     "grade": true,
     "grade_id": "cell-384dc23a0c251f6e",
     "locked": true,
     "points": 4,
     "schema_version": 3,
     "solution": false,
     "task": false
    }
   },
   "outputs": [],
   "source": [
    "#### Please do not change this. This cell is used for grading."
   ]
  },
  {
   "cell_type": "code",
   "execution_count": 47,
   "metadata": {
    "ExecuteTime": {
     "end_time": "2021-02-18T09:28:24.136962Z",
     "start_time": "2021-02-18T09:28:24.132971Z"
    },
    "deletable": false,
    "editable": false,
    "id": "RweZvvbK4IWj",
    "nbgrader": {
     "cell_type": "code",
     "checksum": "893e8c5a073abc8ebb763d267b91bc02",
     "grade": true,
     "grade_id": "cell-7218966cba5097cc",
     "locked": true,
     "points": 4,
     "schema_version": 3,
     "solution": false,
     "task": false
    }
   },
   "outputs": [],
   "source": [
    "#### Please do not change this. This cell is used for grading."
   ]
  },
  {
   "cell_type": "code",
   "execution_count": 48,
   "metadata": {
    "ExecuteTime": {
     "end_time": "2021-02-18T09:28:24.142944Z",
     "start_time": "2021-02-18T09:28:24.139952Z"
    },
    "deletable": false,
    "editable": false,
    "id": "9WGyJzph4IWj",
    "nbgrader": {
     "cell_type": "code",
     "checksum": "f99cb6f8b1f5830aaed8f06712ff846e",
     "grade": true,
     "grade_id": "cell-481ab073259ae53f",
     "locked": true,
     "points": 5,
     "schema_version": 3,
     "solution": false,
     "task": false
    }
   },
   "outputs": [],
   "source": [
    "#### Please do not change this. This cell is used for grading."
   ]
  },
  {
   "cell_type": "markdown",
   "metadata": {
    "deletable": false,
    "editable": false,
    "id": "a3vu_N7C4IWj",
    "nbgrader": {
     "cell_type": "markdown",
     "checksum": "c02f14705d679579b1aa9f78f54779d5",
     "grade": false,
     "grade_id": "cell-f44088bfdac1dc90",
     "locked": true,
     "schema_version": 3,
     "solution": false,
     "task": false
    }
   },
   "source": [
    "--- \n",
    "\n",
    "### Section 3.4: BM25 (20 points) <a class=\"anchor\" id=\"bm25\"></a>\n",
    "\n",
    "In this section, we will implement the BM25 scoring function. \n"
   ]
  },
  {
   "cell_type": "code",
   "execution_count": 49,
   "metadata": {
    "ExecuteTime": {
     "end_time": "2021-02-18T09:28:24.151920Z",
     "start_time": "2021-02-18T09:28:24.143941Z"
    },
    "deletable": false,
    "id": "NLVmJujG4IWk",
    "nbgrader": {
     "cell_type": "code",
     "checksum": "e57efe06ea92af1c83784a42eb3d86e0",
     "grade": false,
     "grade_id": "cell-15640fc9b5d00a3c",
     "locked": false,
     "schema_version": 3,
     "solution": true,
     "task": false
    }
   },
   "outputs": [],
   "source": [
    "# TODO: Implement this! (20 points)\n",
    "def bm25_search(query, index_set):\n",
    "    \"\"\"\n",
    "        Perform a search over all documents with the given query using BM25. Use k_1 = 1.5 and b = 0.75\n",
    "        Note #1: You have to use the `get_index` (and `get_doc_lengths`) function created in the previous cells\n",
    "        Note #2: You might have to create some variables beforehand and use them in this function\n",
    "        \n",
    "        Input: \n",
    "            query - a (unprocessed) query\n",
    "            index_set - the index to use\n",
    "        Output: a list of (document_id, score), sorted in descending relevance to the given query \n",
    "    \"\"\"\n",
    "    \n",
    "    index = get_index(index_set)\n",
    "    df = get_df(index_set)\n",
    "    doc_lengths = get_doc_lengths(index_set)\n",
    "    processed_query = preprocess_query(query, index_set)\n",
    "    \n",
    "    # YOUR CODE HERE\n",
    "    b = 0.75\n",
    "    k_1 = 1.5\n",
    "    \n",
    "    num_of_docs = len(doc_lengths)\n",
    "    avg_doc_length = sum(doc_lengths[key] for key in doc_lengths) / num_of_docs\n",
    "    \n",
    "    bm25_scores = {}\n",
    "    for token in processed_query:\n",
    "        if token in index:\n",
    "            token_freq = df[token]\n",
    "            for doc_id, num_of_occurences in index[token]:\n",
    "                doc_length = doc_lengths[doc_id]\n",
    "                idf = math.log((num_of_docs - token_freq + 0.5) / (token_freq + 0.5) + 1)\n",
    "                K = k_1 * (1 - b + b * (doc_length / avg_doc_length))\n",
    "                score = idf * (num_of_occurences * (k_1 + 1)) / (num_of_occurences + K)\n",
    "                if doc_id in bm25_scores:\n",
    "                    bm25_scores[doc_id] += score\n",
    "                else:\n",
    "                    bm25_scores[doc_id] = score \n",
    "\n",
    "    bm25_scores_list = [(key, score) for key, score in bm25_scores.items()]\n",
    "    bm25_scores_list.sort(key=lambda x: x[1], reverse = True)   \n",
    "    \n",
    "    return bm25_scores_list \n",
    "    "
   ]
  },
  {
   "cell_type": "code",
   "execution_count": 50,
   "metadata": {
    "ExecuteTime": {
     "end_time": "2021-02-18T09:28:24.156907Z",
     "start_time": "2021-02-18T09:28:24.152918Z"
    },
    "deletable": false,
    "editable": false,
    "id": "YocJglWu4IWk",
    "nbgrader": {
     "cell_type": "code",
     "checksum": "4be9de5d4e94637960d83725422bea6c",
     "grade": true,
     "grade_id": "cell-d10536bca72c74b1",
     "locked": true,
     "points": 3,
     "schema_version": 3,
     "solution": false,
     "task": false
    }
   },
   "outputs": [
    {
     "name": "stdout",
     "output_type": "stream",
     "text": [
      "Rank 0(6.7): A Report Writer For COBOL...\n",
      "Rank 1(6.7): A CRT Report Generating System...\n",
      "Rank 2(6.6): Preliminary Report-International Algebraic Languag...\n",
      "Rank 3(6.6): Supplement to the ALGOL 60 Report...\n",
      "Rank 4(6.5): ALGOL Sub-Committee Report - Extensions...\n"
     ]
    }
   ],
   "source": [
    "#### Function check\n",
    "test_bm25_results = bm25_search(\"report\", index_set=1)[:5]\n",
    "print_results(test_bm25_results)\n",
    "####"
   ]
  },
  {
   "cell_type": "code",
   "execution_count": 51,
   "metadata": {
    "ExecuteTime": {
     "end_time": "2021-02-18T09:28:24.161893Z",
     "start_time": "2021-02-18T09:28:24.157904Z"
    },
    "deletable": false,
    "editable": false,
    "id": "LMKx7x7X4IWk",
    "nbgrader": {
     "cell_type": "code",
     "checksum": "31b550d6a46ae4f8ede88788799ac2b9",
     "grade": true,
     "grade_id": "cell-60f6ec5052712d79",
     "locked": true,
     "points": 5,
     "schema_version": 3,
     "solution": false,
     "task": false
    }
   },
   "outputs": [],
   "source": [
    "#### Please do not change this. This cell is used for grading."
   ]
  },
  {
   "cell_type": "code",
   "execution_count": 52,
   "metadata": {
    "ExecuteTime": {
     "end_time": "2021-02-18T09:28:24.165883Z",
     "start_time": "2021-02-18T09:28:24.162890Z"
    },
    "deletable": false,
    "editable": false,
    "id": "zMyvPilQ4IWk",
    "nbgrader": {
     "cell_type": "code",
     "checksum": "3da2ec16bfe781916e71755d65aa2983",
     "grade": true,
     "grade_id": "cell-5d17524043a5abcc",
     "locked": true,
     "points": 5,
     "schema_version": 3,
     "solution": false,
     "task": false
    }
   },
   "outputs": [],
   "source": [
    "#### Please do not change this. This cell is used for grading."
   ]
  },
  {
   "cell_type": "code",
   "execution_count": 53,
   "metadata": {
    "ExecuteTime": {
     "end_time": "2021-02-18T09:28:24.169872Z",
     "start_time": "2021-02-18T09:28:24.166880Z"
    },
    "deletable": false,
    "editable": false,
    "id": "50XzuKTa4IWk",
    "nbgrader": {
     "cell_type": "code",
     "checksum": "e7b563d54fa84c20909c0ae107010541",
     "grade": true,
     "grade_id": "cell-ff8e704eda1184e3",
     "locked": true,
     "points": 3,
     "schema_version": 3,
     "solution": false,
     "task": false
    }
   },
   "outputs": [],
   "source": [
    "#### Please do not change this. This cell is used for grading."
   ]
  },
  {
   "cell_type": "code",
   "execution_count": 54,
   "metadata": {
    "ExecuteTime": {
     "end_time": "2021-02-18T09:28:24.174859Z",
     "start_time": "2021-02-18T09:28:24.170870Z"
    },
    "deletable": false,
    "editable": false,
    "id": "DYTt6NKh4IWk",
    "nbgrader": {
     "cell_type": "code",
     "checksum": "b013f90974b396630a8831d6f1d7e5f7",
     "grade": true,
     "grade_id": "cell-a52310500a2543cb",
     "locked": true,
     "points": 4,
     "schema_version": 3,
     "solution": false,
     "task": false
    }
   },
   "outputs": [],
   "source": [
    "#### Please do not change this. This cell is used for grading."
   ]
  },
  {
   "cell_type": "markdown",
   "metadata": {
    "deletable": false,
    "editable": false,
    "id": "bD5EZ9eN4IWl",
    "nbgrader": {
     "cell_type": "markdown",
     "checksum": "8fcf67cb7d5e8b26cb9bf1f0aa42c847",
     "grade": false,
     "grade_id": "cell-8b2b412c81d62f2d",
     "locked": true,
     "schema_version": 3,
     "solution": false,
     "task": false
    }
   },
   "source": [
    "\n",
    "---\n",
    "\n",
    "### 3.5. Test Your Functions\n",
    "\n",
    "The widget below allows you to play with the search functions you've written so far. Use this to test your search functions and ensure that they work as expected."
   ]
  },
  {
   "cell_type": "code",
   "execution_count": 55,
   "metadata": {
    "ExecuteTime": {
     "end_time": "2021-02-18T09:28:24.186828Z",
     "start_time": "2021-02-18T09:28:24.176854Z"
    },
    "deletable": false,
    "editable": false,
    "id": "mIWUmEd14IWl",
    "nbgrader": {
     "cell_type": "code",
     "checksum": "dfeb204b390acc0794dbdcac92b0cf2c",
     "grade": false,
     "grade_id": "cell-c9c2bb76354e8d97",
     "locked": true,
     "schema_version": 3,
     "solution": false,
     "task": false
    }
   },
   "outputs": [],
   "source": [
    "#### Highlighter function\n",
    "# class for results\n",
    "ResultRow = namedtuple(\"ResultRow\", [\"doc_id\", \"snippet\", \"score\"])\n",
    "# doc_id -> doc\n",
    "docs_by_id = dict((d[0], d[1]) for d in docs)\n",
    "\n",
    "def highlight_text(document, query, tol=17):\n",
    "    import re\n",
    "    tokens = tokenize(query)\n",
    "    regex = \"|\".join(f\"(\\\\b{t}\\\\b)\" for t in tokens)\n",
    "    regex = re.compile(regex, flags=re.IGNORECASE)\n",
    "    output = \"\"\n",
    "    i = 0\n",
    "    for m in regex.finditer(document):\n",
    "        start_idx = max(0, m.start() - tol)\n",
    "        end_idx = min(len(document), m.end() + tol)\n",
    "        output += \"\".join([\"...\",\n",
    "                        document[start_idx:m.start()],\n",
    "                        \"<strong>\",\n",
    "                        document[m.start():m.end()],\n",
    "                        \"</strong>\",\n",
    "                        document[m.end():end_idx],\n",
    "                        \"...\"])\n",
    "    return output.replace(\"\\n\", \" \")\n",
    "\n",
    "\n",
    "def make_results(query, search_fn, index_set):\n",
    "    results = []\n",
    "    for doc_id, score in search_fn(query, index_set):\n",
    "        highlight = highlight_text(docs_by_id[doc_id], query)\n",
    "        if len(highlight.strip()) == 0:\n",
    "            highlight = docs_by_id[doc_id]\n",
    "        results.append(ResultRow(doc_id, highlight, score))\n",
    "    return results\n",
    "####"
   ]
  },
  {
   "cell_type": "code",
   "execution_count": 56,
   "metadata": {
    "ExecuteTime": {
     "end_time": "2021-02-18T09:28:24.198795Z",
     "start_time": "2021-02-18T09:28:24.187824Z"
    },
    "id": "lLBwC48L4IWl"
   },
   "outputs": [
    {
     "data": {
      "application/vnd.jupyter.widget-view+json": {
       "model_id": "bef6f25c5eec474eaeb6e087bd378885",
       "version_major": 2,
       "version_minor": 0
      },
      "text/plain": [
       "Text(value='', description='Search Bar')"
      ]
     },
     "metadata": {},
     "output_type": "display_data"
    }
   ],
   "source": [
    "# TODO: Set this to the function you want to test!\n",
    "# this function should take in a query (string)\n",
    "# and return a sorted list of (doc_id, score) \n",
    "# with the most relevant document in the first position\n",
    "search_fn = bm25_search\n",
    "index_set = 1\n",
    "\n",
    "text = widgets.Text(description=\"Search Bar\", width=200)\n",
    "display(text)\n",
    "\n",
    "def handle_submit(sender):\n",
    "    print(f\"Searching for: '{sender.value}'\")\n",
    "    \n",
    "    results = make_results(sender.value, search_fn, index_set)\n",
    "    \n",
    "    # display only the top 5\n",
    "    results = results[:5]\n",
    "    \n",
    "    body = \"\"\n",
    "    for idx, r in enumerate(results):\n",
    "        body += f\"<li>Document #{r.doc_id}({r.score}): {r.snippet}</li>\"\n",
    "    display(HTML(f\"<ul>{body}</ul>\"))\n",
    "    \n",
    "\n",
    "text.on_submit(handle_submit)"
   ]
  },
  {
   "cell_type": "markdown",
   "metadata": {
    "deletable": false,
    "editable": false,
    "id": "V_eNBPNC4IWl",
    "nbgrader": {
     "cell_type": "markdown",
     "checksum": "b315c280048a50e8bad7d6250f6f39d1",
     "grade": false,
     "grade_id": "cell-8d46fe8e4f3d8cdb",
     "locked": true,
     "schema_version": 3,
     "solution": false,
     "task": false
    }
   },
   "source": [
    "---\n",
    "\n",
    "## Section 4: Evaluation (40 points) <a class=\"anchor\" id=\"evaluation\"></a>\n",
    "\n",
    "[Back to Part 1](#part1)\n",
    "\n",
    "Before we jump in and implement an algorithm for retrieval, we first have to learn how to evaluate such a system. In particular, we will work with offline evaluation metrics. These metrics are computed on a dataset with known relevance judgements.\n",
    "\n",
    "Implement the following evaluation metrics. \n",
    "\n",
    "1. Precision (7 points)\n",
    "2. Recall (7 points)\n",
    "3. Mean Average Precision (12 points)\n",
    "4. Expected Reciprocal Rank (12 points)"
   ]
  },
  {
   "cell_type": "markdown",
   "metadata": {
    "deletable": false,
    "editable": false,
    "id": "gLVYII234IWl",
    "nbgrader": {
     "cell_type": "markdown",
     "checksum": "82e90076c51893e31fec5c40c49d1828",
     "grade": false,
     "grade_id": "cell-3419fd3bc663d7cc",
     "locked": true,
     "schema_version": 3,
     "solution": false,
     "task": false
    }
   },
   "source": [
    "---\n",
    "### 4.1 Read relevance labels (2 points)\n",
    "\n",
    "Let's take a look at the `qrels.text` file, which contains the ground truth relevance scores. The relevance labels for CACM are binary - either 0 or 1. \n"
   ]
  },
  {
   "cell_type": "code",
   "execution_count": 57,
   "metadata": {
    "ExecuteTime": {
     "end_time": "2021-02-18T09:28:24.242694Z",
     "start_time": "2021-02-18T09:28:24.199793Z"
    },
    "deletable": false,
    "editable": false,
    "id": "dD-BtESw4IWl",
    "nbgrader": {
     "cell_type": "code",
     "checksum": "6c11025f5a222796f2882c73c1634799",
     "grade": false,
     "grade_id": "cell-6b738366059dde9e",
     "locked": true,
     "schema_version": 3,
     "solution": false,
     "task": false
    }
   },
   "outputs": [
    {
     "name": "stdout",
     "output_type": "stream",
     "text": [
      "01 1410  0 0\n",
      "01 1572  0 0\n",
      "01 1605  0 0\n",
      "01 2020  0 0\n",
      "01 2358  0 0\n",
      "02 2434  0 0\n",
      "02 2863  0 0\n",
      "02 3078  0 0\n",
      "03 1134  0 0\n",
      "03 1613  0 0\n"
     ]
    }
   ],
   "source": [
    "!head ./datasets/qrels.text"
   ]
  },
  {
   "cell_type": "markdown",
   "metadata": {
    "deletable": false,
    "editable": false,
    "id": "O1d_Ru854IWm",
    "nbgrader": {
     "cell_type": "markdown",
     "checksum": "e77d7cc6aae69fdbadb5ac9f78f8a560",
     "grade": false,
     "grade_id": "cell-10e16bff2753ffbb",
     "locked": true,
     "schema_version": 3,
     "solution": false,
     "task": false
    }
   },
   "source": [
    "---\n",
    "**Implementation (2 points):**\n",
    "The first column is the query_id and the second column is the document_id. You can safely ignore the 3rd and 4th columns. Write a function to read in the file:"
   ]
  },
  {
   "cell_type": "code",
   "execution_count": 58,
   "metadata": {
    "ExecuteTime": {
     "end_time": "2021-02-18T09:28:24.250667Z",
     "start_time": "2021-02-18T09:28:24.243685Z"
    },
    "deletable": false,
    "id": "gaPgBW-q4IWm",
    "nbgrader": {
     "cell_type": "code",
     "checksum": "ef347565a0990ddbd049835105753d59",
     "grade": false,
     "grade_id": "cell-ee5253a4ef602fce",
     "locked": false,
     "schema_version": 3,
     "solution": true,
     "task": false
    }
   },
   "outputs": [],
   "source": [
    "# TODO: Implement this! (2 points)\n",
    "def read_qrels(root_folder = \"./datasets/\"):\n",
    "    \"\"\"\n",
    "        Reads the qrels.text file. \n",
    "        Output: A dictionary: query_id -> [list of relevant documents]\n",
    "    \"\"\"\n",
    "    # YOUR CODE HERE\n",
    "    qrels_dict = {}\n",
    "    with open(root_folder + 'qrels.text') as f:\n",
    "        for line in f:\n",
    "            line_split = line.split(' ')\n",
    "            q_id = str(int(line_split[0]))\n",
    "            doc_id = line_split[1]\n",
    "            if q_id in qrels_dict:\n",
    "                qrels_dict[q_id].append(doc_id)\n",
    "            else:\n",
    "                qrels_dict[q_id] = [doc_id]\n",
    "        \n",
    "    return qrels_dict"
   ]
  },
  {
   "cell_type": "code",
   "execution_count": 59,
   "metadata": {
    "ExecuteTime": {
     "end_time": "2021-02-18T09:28:24.259154Z",
     "start_time": "2021-02-18T09:28:24.252661Z"
    },
    "deletable": false,
    "editable": false,
    "id": "42HAaoxI4IWm",
    "nbgrader": {
     "cell_type": "code",
     "checksum": "6a258a834392cc8cbf8af5d4ccdee81f",
     "grade": true,
     "grade_id": "cell-72215605fbe24f65",
     "locked": true,
     "points": 2,
     "schema_version": 3,
     "solution": false,
     "task": false
    }
   },
   "outputs": [],
   "source": [
    "#### Function check\n",
    "qrels = read_qrels()\n",
    "\n",
    "assert len(qrels) == 52, \"There should be 52 queries with relevance judgements\"\n",
    "assert sum(len(j) for j in qrels.values()) == 796, \"There should be a total of 796 Relevance Judgements\"\n",
    "####"
   ]
  },
  {
   "cell_type": "markdown",
   "metadata": {
    "deletable": false,
    "editable": false,
    "id": "XSWVVWzl4IWm",
    "nbgrader": {
     "cell_type": "markdown",
     "checksum": "6c9e7428a52e291a2cdf92a379730d4c",
     "grade": false,
     "grade_id": "cell-176a6fb2939d0420",
     "locked": true,
     "schema_version": 3,
     "solution": false,
     "task": false
    }
   },
   "source": [
    "---\n",
    "**Note:** For a given query `query_id`, you can assume that documents *not* in `qrels[query_id]` are not relevant to `query_id`. \n"
   ]
  },
  {
   "cell_type": "markdown",
   "metadata": {
    "deletable": false,
    "editable": false,
    "id": "Ad2E1OAb4IWm",
    "nbgrader": {
     "cell_type": "markdown",
     "checksum": "b26a818c7b4f7ad490e00b35ea0edd69",
     "grade": false,
     "grade_id": "cell-bd8341b72cdd89bb",
     "locked": true,
     "schema_version": 3,
     "solution": false,
     "task": false
    }
   },
   "source": [
    "---\n",
    "### 4.2 Precision (7 points)\n",
    "Implement the `precision@k` metric:"
   ]
  },
  {
   "cell_type": "code",
   "execution_count": 60,
   "metadata": {
    "ExecuteTime": {
     "end_time": "2021-02-18T09:28:24.265113Z",
     "start_time": "2021-02-18T09:28:24.261120Z"
    },
    "deletable": false,
    "id": "itsA-mo54IWm",
    "nbgrader": {
     "cell_type": "code",
     "checksum": "ad3cc3234a361d269ecb6b59cc447e9f",
     "grade": false,
     "grade_id": "cell-494bd0cce108ed67",
     "locked": false,
     "schema_version": 3,
     "solution": true,
     "task": false
    }
   },
   "outputs": [],
   "source": [
    "# TODO: Implement this! (7 points)\n",
    "def precision_k(results, relevant_docs, k):\n",
    "    \"\"\"\n",
    "        Compute Precision@K\n",
    "        Input: \n",
    "            results: A sorted list of 2-tuples (document_id, score), \n",
    "                    with the most relevant document in the first position\n",
    "            relevant_docs: A set of relevant documents. \n",
    "            k: the cut-off\n",
    "        Output: Precision@K\n",
    "    \"\"\"\n",
    "    # YOUR CODE HERE\n",
    "    \n",
    "    relevant_doc_set = set(relevant_docs)\n",
    "    results_doc_set = {k for k, v in results[:k]}\n",
    "\n",
    "    numerator = len(relevant_doc_set.intersection(results_doc_set))\n",
    "    \n",
    "    precision = numerator / k\n",
    "\n",
    "\n",
    "    return precision"
   ]
  },
  {
   "cell_type": "code",
   "execution_count": 61,
   "metadata": {
    "ExecuteTime": {
     "end_time": "2021-02-18T09:28:24.283066Z",
     "start_time": "2021-02-18T09:28:24.266111Z"
    },
    "deletable": false,
    "editable": false,
    "id": "QnBXQiHM4IWm",
    "nbgrader": {
     "cell_type": "code",
     "checksum": "964b214dbfff8fc53cada864019ee863",
     "grade": true,
     "grade_id": "cell-e7ff0d91c319ca64",
     "locked": true,
     "points": 7,
     "schema_version": 3,
     "solution": false,
     "task": false
    }
   },
   "outputs": [
    {
     "name": "stdout",
     "output_type": "stream",
     "text": [
      "query:\n",
      " What articles exist which deal with TSS (Time Sharing System), an\n",
      "operating system for IBM computers?\n",
      "precision@10 = 0.2\n"
     ]
    }
   ],
   "source": [
    "#### Function check\n",
    "qid = queries[0][0]\n",
    "qtext = queries[0][1]\n",
    "print(f'query:{qtext}')\n",
    "results = bm25_search(qtext, 2)\n",
    "precision = precision_k(results, qrels[qid], 10)\n",
    "print(f'precision@10 = {precision}')\n",
    "####"
   ]
  },
  {
   "cell_type": "markdown",
   "metadata": {
    "deletable": false,
    "editable": false,
    "id": "rsVw36Qs4IWn",
    "nbgrader": {
     "cell_type": "markdown",
     "checksum": "8fd3b3998197c7097a40348500affb68",
     "grade": false,
     "grade_id": "cell-afd95f865bc7191e",
     "locked": true,
     "schema_version": 3,
     "solution": false,
     "task": false
    }
   },
   "source": [
    "---\n",
    "### 4.3 Recall (7 points)\n",
    "Implement the `recall@k` metric:"
   ]
  },
  {
   "cell_type": "code",
   "execution_count": 62,
   "metadata": {
    "ExecuteTime": {
     "end_time": "2021-02-18T09:28:24.289688Z",
     "start_time": "2021-02-18T09:28:24.284064Z"
    },
    "deletable": false,
    "id": "5MCAhvPt4IWn",
    "nbgrader": {
     "cell_type": "code",
     "checksum": "b2020e5741ae03b3fe35817ed8f4ccaa",
     "grade": false,
     "grade_id": "cell-c323fc8c3f8a7cf8",
     "locked": false,
     "schema_version": 3,
     "solution": true,
     "task": false
    }
   },
   "outputs": [],
   "source": [
    "# TODO: Implement this! (7 points)\n",
    "def recall_k(results, relevant_docs, k):\n",
    "    \"\"\"\n",
    "        Compute Recall@K\n",
    "        Input: \n",
    "            results: A sorted list of 2-tuples (document_id, score), with the most relevant document in the first position\n",
    "            relevant_docs: A set of relevant documents. \n",
    "            k: the cut-off\n",
    "        Output: Recall@K\n",
    "    \"\"\"\n",
    "    # YOUR CODE HERE\n",
    "    relevant_doc_set = set(relevant_docs)\n",
    "    results_doc_set = {k for k, v in results[:k]}\n",
    "\n",
    "    numerator = len(relevant_doc_set.intersection(results_doc_set))\n",
    "    denominator = len(relevant_doc_set)\n",
    "    \n",
    "    recall = numerator / denominator if denominator > 0 else 0\n",
    "\n",
    "    return recall\n"
   ]
  },
  {
   "cell_type": "code",
   "execution_count": 63,
   "metadata": {
    "ExecuteTime": {
     "end_time": "2021-02-18T09:28:24.297796Z",
     "start_time": "2021-02-18T09:28:24.290686Z"
    },
    "deletable": false,
    "editable": false,
    "id": "oJrL_tLY4IWn",
    "nbgrader": {
     "cell_type": "code",
     "checksum": "56b6e0b8522f8b2dffbfb3206b2efa84",
     "grade": true,
     "grade_id": "cell-b25172161aef165c",
     "locked": true,
     "points": 7,
     "schema_version": 3,
     "solution": false,
     "task": false
    }
   },
   "outputs": [
    {
     "name": "stdout",
     "output_type": "stream",
     "text": [
      "query:\n",
      " SETL, Very High Level Languages\n",
      "recall@10 = 0.3157894736842105\n"
     ]
    }
   ],
   "source": [
    "#### Function check\n",
    "qid = queries[10][0]\n",
    "qtext = queries[10][1]\n",
    "print(f'query:{qtext}')\n",
    "results = bm25_search(qtext, 2)\n",
    "recall = recall_k(results, qrels[qid], 10)\n",
    "print(f'recall@10 = {recall}')\n",
    "####"
   ]
  },
  {
   "cell_type": "markdown",
   "metadata": {
    "deletable": false,
    "editable": false,
    "id": "O6zOyivS4IWn",
    "nbgrader": {
     "cell_type": "markdown",
     "checksum": "d43c63fa38f333e0b52d41639b2655f7",
     "grade": false,
     "grade_id": "cell-77fd2e7a39a74739",
     "locked": true,
     "schema_version": 3,
     "solution": false,
     "task": false
    }
   },
   "source": [
    "---\n",
    "### 4.4 Mean Average Precision (12 points)\n",
    "Implement the `map` metric:"
   ]
  },
  {
   "cell_type": "code",
   "execution_count": 64,
   "metadata": {
    "ExecuteTime": {
     "end_time": "2021-02-18T09:28:24.305774Z",
     "start_time": "2021-02-18T09:28:24.298794Z"
    },
    "deletable": false,
    "id": "NtBBAX-34IWn",
    "nbgrader": {
     "cell_type": "code",
     "checksum": "aae2c62f2ffd76f5b6c004e9519b9f14",
     "grade": false,
     "grade_id": "cell-e50925fa9093a30d",
     "locked": false,
     "schema_version": 3,
     "solution": true,
     "task": false
    }
   },
   "outputs": [],
   "source": [
    "# TODO: Implement this! (12 points)\n",
    "def average_precision(results, relevant_docs):\n",
    "    \"\"\"\n",
    "        Compute Average Precision (for a single query - the results are \n",
    "        averaged across queries to get MAP in the next few cells)\n",
    "        Hint: You can use the recall_k and precision_k functions here!\n",
    "        Input: \n",
    "            results: A sorted list of 2-tuples (document_id, score), with the most \n",
    "                    relevant document in the first position\n",
    "            relevant_docs: A set of relevant documents. \n",
    "        Output: Average Precision\n",
    "    \"\"\"\n",
    "    # YOUR CODE HERE\n",
    "    precisions = []\n",
    "    relevant_results = []\n",
    "    for i in range(len(results)):\n",
    "        cur_precision = precision_k(results, relevant_docs, i+1)\n",
    "        doc_id, _ = results[i]\n",
    "        if doc_id in relevant_docs:\n",
    "            precisions.append(cur_precision)\n",
    "\n",
    "    return sum(precisions)/len(precisions) if len(precisions) > 0 else 0\n",
    "\n",
    "    \n",
    "\n",
    "    \n",
    "        \n"
   ]
  },
  {
   "cell_type": "code",
   "execution_count": 65,
   "metadata": {
    "ExecuteTime": {
     "end_time": "2021-02-18T09:28:24.648899Z",
     "start_time": "2021-02-18T09:28:24.306772Z"
    },
    "deletable": false,
    "editable": false,
    "id": "Ij731snQ4IWn",
    "nbgrader": {
     "cell_type": "code",
     "checksum": "5db8cb2dfd3a77554f4147b409f47f38",
     "grade": true,
     "grade_id": "cell-8a1f7ec98571e58b",
     "locked": true,
     "points": 12,
     "schema_version": 3,
     "solution": false,
     "task": false
    },
    "tags": []
   },
   "outputs": [
    {
     "name": "stdout",
     "output_type": "stream",
     "text": [
      "query:\n",
      " computational complexity, intractability, class-complete reductions,\n",
      "algorithms and efficiency\n",
      "MAP = 0.13885003916324018\n"
     ]
    }
   ],
   "source": [
    "#### Function check\n",
    "qid = queries[20][0]\n",
    "qtext = queries[20][1]\n",
    "print(f'query:{qtext}')\n",
    "results = bm25_search(qtext, 2)\n",
    "mean_ap = average_precision(results, qrels[qid])\n",
    "print(f'MAP = {mean_ap}')\n",
    "####"
   ]
  },
  {
   "cell_type": "markdown",
   "metadata": {
    "deletable": false,
    "editable": false,
    "id": "Q38CrFOO4IWo",
    "nbgrader": {
     "cell_type": "markdown",
     "checksum": "cb645b79d04cc3eed33ca060a5e7bf0f",
     "grade": false,
     "grade_id": "cell-1da18f0fe6f6d7be",
     "locked": true,
     "schema_version": 3,
     "solution": false,
     "task": false
    }
   },
   "source": [
    "---\n",
    "### 4.5 Expected Reciprocal Rank (12 points)\n",
    "Implement the `err` metric:"
   ]
  },
  {
   "cell_type": "code",
   "execution_count": 66,
   "metadata": {
    "ExecuteTime": {
     "end_time": "2021-02-18T09:28:24.654842Z",
     "start_time": "2021-02-18T09:28:24.649855Z"
    },
    "deletable": false,
    "id": "Wm7tmYcH4IWo",
    "nbgrader": {
     "cell_type": "code",
     "checksum": "9ac94db728e23ea1f5dc0d509473c6fb",
     "grade": false,
     "grade_id": "cell-64262889f9b267ea",
     "locked": false,
     "schema_version": 3,
     "solution": true,
     "task": false
    }
   },
   "outputs": [],
   "source": [
    "# TODO: Implement this! (12 points)\n",
    "def err(results, relevant_docs):\n",
    "    \"\"\"\n",
    "        Compute the expected reciprocal rank.\n",
    "        Hint: https://dl.acm.org/doi/pdf/10.1145/1645953.1646033?download=true\n",
    "        Input: \n",
    "            results: A sorted list of 2-tuples (document_id, score), with the most \n",
    "                    relevant document in the first position\n",
    "            relevant_docs: A set of relevant documents. \n",
    "        Output: ERR\n",
    "        \n",
    "    \"\"\"\n",
    "    # YOUR CODE HERE\n",
    "    # The relevance grade is binary, so when a document is irrelevant, we get (2^0-1)/2 = 0\n",
    "    # For a relevant document, this is (2^1-1)/2 = 0.5, hence the R of 0 or 0.5.\n",
    "    p, ERR = 1, 0\n",
    "    nr_docs = len(results)\n",
    "    for r in range(nr_docs):\n",
    "        cur_doc = results[r][0]\n",
    "        if cur_doc in relevant_docs:\n",
    "            R = 0.5\n",
    "        else:\n",
    "            R = 0\n",
    "        ERR += p * R/(r + 1)\n",
    "        p *= (1-R)\n",
    "    \n",
    "    return ERR"
   ]
  },
  {
   "cell_type": "code",
   "execution_count": 67,
   "metadata": {
    "ExecuteTime": {
     "end_time": "2021-02-18T09:28:24.705740Z",
     "start_time": "2021-02-18T09:28:24.655840Z"
    },
    "deletable": false,
    "editable": false,
    "id": "xD69_bIF4IWo",
    "nbgrader": {
     "cell_type": "code",
     "checksum": "eb97e6d89a0b992b642e4e0ff36ff9f5",
     "grade": true,
     "grade_id": "cell-071e3970ff1afae4",
     "locked": true,
     "points": 12,
     "schema_version": 3,
     "solution": false,
     "task": false
    }
   },
   "outputs": [
    {
     "name": "stdout",
     "output_type": "stream",
     "text": [
      "query:\n",
      " I'd like to find articles describing the use of singular value decomposition\n",
      "in digital image processing.  Applications include finding approximations\n",
      "to the original image and restoring images that are subject to noise. An\n",
      "article on the subject is H.C. Andrews and C.L. Patterson \"Outer product\n",
      "expansions and their uses in digital image processing\", American Mathematical\n",
      "Monthly, vol. 82.\n",
      "ERR = 0.3333333333333333\n"
     ]
    }
   ],
   "source": [
    "#### Function check\n",
    "qid = queries[30][0]\n",
    "qtext = queries[30][1]\n",
    "print(f'query:{qtext}')\n",
    "results = bm25_search(qtext, 2)\n",
    "ERR = err(results, qrels[qid])\n",
    "print(f'ERR = {ERR}')\n",
    "####"
   ]
  },
  {
   "cell_type": "markdown",
   "metadata": {
    "deletable": false,
    "editable": false,
    "id": "Gh1iz9Ht4IWo",
    "nbgrader": {
     "cell_type": "markdown",
     "checksum": "5bd94caf77cfa5f34675df758d91002d",
     "grade": false,
     "grade_id": "cell-43709a765f353946",
     "locked": true,
     "schema_version": 3,
     "solution": false,
     "task": false
    }
   },
   "source": [
    "---\n",
    "### 4.6 Evaluate Search Functions\n",
    "\n",
    "Let's define some metrics@k using [partial functions](https://docs.python.org/3/library/functools.html#functools.partial)"
   ]
  },
  {
   "cell_type": "code",
   "execution_count": 107,
   "metadata": {
    "ExecuteTime": {
     "end_time": "2021-02-18T09:54:21.224166Z",
     "start_time": "2021-02-18T09:54:21.220169Z"
    },
    "deletable": false,
    "editable": false,
    "id": "Z-lVjRDV4IWo",
    "nbgrader": {
     "cell_type": "code",
     "checksum": "49ccc158e5fb7340ace55e90eeb9d62a",
     "grade": false,
     "grade_id": "cell-dab560e18e340da8",
     "locked": true,
     "schema_version": 3,
     "solution": false,
     "task": false
    }
   },
   "outputs": [],
   "source": [
    "#### metrics@k functions\n",
    "\n",
    "recall_at_1 = partial(recall_k, k=1)\n",
    "recall_at_5 = partial(recall_k, k=5)\n",
    "recall_at_10 = partial(recall_k, k=10)\n",
    "precision_at_1 = partial(precision_k, k=1)\n",
    "precision_at_5 = partial(precision_k, k=5)\n",
    "precision_at_10 = partial(precision_k, k=10)\n",
    "\n",
    "\n",
    "list_of_metrics = [\n",
    "    (\"ERR\", err),\n",
    "    (\"MAP\", average_precision),\n",
    "    (\"Recall@1\",recall_at_1),\n",
    "    (\"Recall@5\", recall_at_5),\n",
    "    (\"Recall@10\", recall_at_10),\n",
    "    (\"Precision@1\", precision_at_1),\n",
    "    (\"Precision@5\", precision_at_5),\n",
    "    (\"Precision@10\", precision_at_10)]\n",
    "####"
   ]
  },
  {
   "cell_type": "markdown",
   "metadata": {
    "deletable": false,
    "editable": false,
    "id": "tkpES_rl4IWo",
    "nbgrader": {
     "cell_type": "markdown",
     "checksum": "fb541002c03221b453b8936290020ea5",
     "grade": false,
     "grade_id": "cell-580a2bdc66d03b47",
     "locked": true,
     "schema_version": 3,
     "solution": false,
     "task": false
    }
   },
   "source": [
    "---\n",
    "\n",
    "The following function evaluates a `search_fn` using the `metric_fn`. Note that the final number is averaged over all the queries"
   ]
  },
  {
   "cell_type": "code",
   "execution_count": 110,
   "metadata": {
    "ExecuteTime": {
     "end_time": "2021-02-18T10:00:59.885470Z",
     "start_time": "2021-02-18T10:00:59.874502Z"
    },
    "id": "SGKA8Ci54IWo"
   },
   "outputs": [],
   "source": [
    "#### Evaluate a search function\n",
    "\n",
    "list_of_search_fns = [\n",
    "    (\"BOW\", bow_search),\n",
    "    (\"TF-IDF\", tfidf_search),\n",
    "    (\"NaiveQL\", naive_ql_search),\n",
    "    (\"QL\", ql_search),\n",
    "    (\"BM25\", bm25_search)\n",
    "]\n",
    "\n",
    "def evaluate_search_fn(search_fn, metric_fns, index_set=None):\n",
    "    # build a dict query_id -> query \n",
    "    queries_by_id = dict((q[0], q[1]) for q in queries)\n",
    "    metrics = {}\n",
    "    for metric, metric_fn in metric_fns:\n",
    "        metrics[metric] = np.zeros(len(qrels), dtype=np.float32)\n",
    "    \n",
    "    for i, (query_id, relevant_docs) in enumerate(qrels.items()):\n",
    "        query = queries_by_id[query_id]\n",
    "        if index_set:\n",
    "            results = search_fn(query, index_set)\n",
    "        else:\n",
    "            results = search_fn(query)\n",
    "        \n",
    "        for metric, metric_fn in metric_fns:\n",
    "            metrics[metric][i] = metric_fn(results, relevant_docs)\n",
    "\n",
    "    \n",
    "    \n",
    "    final_dict = {}\n",
    "    for metric, metric_vals in metrics.items():\n",
    "        final_dict[metric] = metric_vals.mean()\n",
    "    \n",
    "    return final_dict\n",
    "####"
   ]
  },
  {
   "cell_type": "markdown",
   "metadata": {
    "deletable": false,
    "editable": false,
    "id": "b54ANEqK4IWp",
    "nbgrader": {
     "cell_type": "markdown",
     "checksum": "6ea67534f74a8f81e1f504794f641709",
     "grade": false,
     "grade_id": "cell-b156d83a0649cbb4",
     "locked": true,
     "schema_version": 3,
     "solution": false,
     "task": false
    }
   },
   "source": [
    "## Section 5: Analysis (30 points) <a class=\"anchor\" id=\"analysis\"></a>\n",
    "\n",
    "[Back to Part 1](#part1)\n",
    "\n",
    "In the final section of Part1, we will compare the different term-based IR algorithms and different preprocessing configurations and analyze their advantages and disadvantages.\n",
    "\n",
    "### Section 5.1: Plot (20 points)\n",
    "\n",
    "First, gather the results. The results should consider the index set, the different search functions and different metrics. Plot the results in bar charts, per metric, with clear labels.\n",
    "\n",
    "**Rubric:**\n",
    "- Each Metric is plotted: 7 points\n",
    "- Each Method is plotted: 7 points\n",
    "- Clear titles, x label, y labels and legends (if applicable): 6 points"
   ]
  },
  {
   "cell_type": "code",
   "execution_count": 118,
   "metadata": {
    "ExecuteTime": {
     "end_time": "2021-02-18T10:29:49.155945Z",
     "start_time": "2021-02-18T10:29:32.082265Z"
    },
    "deletable": false,
    "id": "YcKLzbIQ4IWp",
    "nbgrader": {
     "cell_type": "code",
     "checksum": "7e2588a925d13ddf588abe8311dc9cfc",
     "grade": true,
     "grade_id": "cell-46fda42a25863a04",
     "locked": false,
     "points": 20,
     "schema_version": 3,
     "solution": true,
     "task": false
    },
    "scrolled": true
   },
   "outputs": [
    {
     "ename": "KeyboardInterrupt",
     "evalue": "",
     "output_type": "error",
     "traceback": [
      "\u001b[1;31m---------------------------------------------------------------------------\u001b[0m",
      "\u001b[1;31mKeyboardInterrupt\u001b[0m                         Traceback (most recent call last)",
      "\u001b[1;32m<ipython-input-118-df642c422599>\u001b[0m in \u001b[0;36m<module>\u001b[1;34m\u001b[0m\n\u001b[0;32m     14\u001b[0m     \u001b[1;32mfor\u001b[0m \u001b[0mkey\u001b[0m\u001b[1;33m,\u001b[0m\u001b[0mvalue\u001b[0m \u001b[1;32min\u001b[0m \u001b[0mindex_set_res_1\u001b[0m\u001b[1;33m.\u001b[0m\u001b[0mitems\u001b[0m\u001b[1;33m(\u001b[0m\u001b[1;33m)\u001b[0m\u001b[1;33m:\u001b[0m\u001b[1;33m\u001b[0m\u001b[1;33m\u001b[0m\u001b[0m\n\u001b[0;32m     15\u001b[0m         \u001b[0mtoplot\u001b[0m\u001b[1;33m[\u001b[0m\u001b[0mkey\u001b[0m\u001b[1;33m]\u001b[0m\u001b[1;33m[\u001b[0m\u001b[1;36m0\u001b[0m\u001b[1;33m]\u001b[0m\u001b[1;33m.\u001b[0m\u001b[0mappend\u001b[0m\u001b[1;33m(\u001b[0m\u001b[0mvalue\u001b[0m\u001b[1;33m)\u001b[0m\u001b[1;33m\u001b[0m\u001b[1;33m\u001b[0m\u001b[0m\n\u001b[1;32m---> 16\u001b[1;33m     \u001b[0mindex_set_res_2\u001b[0m \u001b[1;33m=\u001b[0m \u001b[0mevaluate_search_fn\u001b[0m\u001b[1;33m(\u001b[0m\u001b[0msearch_fn\u001b[0m\u001b[1;33m,\u001b[0m\u001b[0mlist_of_metrics\u001b[0m\u001b[1;33m,\u001b[0m\u001b[1;36m2\u001b[0m\u001b[1;33m)\u001b[0m\u001b[1;33m\u001b[0m\u001b[1;33m\u001b[0m\u001b[0m\n\u001b[0m\u001b[0;32m     17\u001b[0m     \u001b[1;32mfor\u001b[0m \u001b[0mkey\u001b[0m\u001b[1;33m,\u001b[0m\u001b[0mvalue\u001b[0m \u001b[1;32min\u001b[0m \u001b[0mindex_set_res_2\u001b[0m\u001b[1;33m.\u001b[0m\u001b[0mitems\u001b[0m\u001b[1;33m(\u001b[0m\u001b[1;33m)\u001b[0m\u001b[1;33m:\u001b[0m\u001b[1;33m\u001b[0m\u001b[1;33m\u001b[0m\u001b[0m\n\u001b[0;32m     18\u001b[0m         \u001b[0mtoplot\u001b[0m\u001b[1;33m[\u001b[0m\u001b[0mkey\u001b[0m\u001b[1;33m]\u001b[0m\u001b[1;33m[\u001b[0m\u001b[1;36m1\u001b[0m\u001b[1;33m]\u001b[0m\u001b[1;33m.\u001b[0m\u001b[0mappend\u001b[0m\u001b[1;33m(\u001b[0m\u001b[0mvalue\u001b[0m\u001b[1;33m)\u001b[0m\u001b[1;33m\u001b[0m\u001b[1;33m\u001b[0m\u001b[0m\n",
      "\u001b[1;32m<ipython-input-110-bdf9118cd741>\u001b[0m in \u001b[0;36mevaluate_search_fn\u001b[1;34m(search_fn, metric_fns, index_set)\u001b[0m\n\u001b[0;32m     24\u001b[0m \u001b[1;33m\u001b[0m\u001b[0m\n\u001b[0;32m     25\u001b[0m         \u001b[1;32mfor\u001b[0m \u001b[0mmetric\u001b[0m\u001b[1;33m,\u001b[0m \u001b[0mmetric_fn\u001b[0m \u001b[1;32min\u001b[0m \u001b[0mmetric_fns\u001b[0m\u001b[1;33m:\u001b[0m\u001b[1;33m\u001b[0m\u001b[1;33m\u001b[0m\u001b[0m\n\u001b[1;32m---> 26\u001b[1;33m             \u001b[0mmetrics\u001b[0m\u001b[1;33m[\u001b[0m\u001b[0mmetric\u001b[0m\u001b[1;33m]\u001b[0m\u001b[1;33m[\u001b[0m\u001b[0mi\u001b[0m\u001b[1;33m]\u001b[0m \u001b[1;33m=\u001b[0m \u001b[0mmetric_fn\u001b[0m\u001b[1;33m(\u001b[0m\u001b[0mresults\u001b[0m\u001b[1;33m,\u001b[0m \u001b[0mrelevant_docs\u001b[0m\u001b[1;33m)\u001b[0m\u001b[1;33m\u001b[0m\u001b[1;33m\u001b[0m\u001b[0m\n\u001b[0m\u001b[0;32m     27\u001b[0m \u001b[1;33m\u001b[0m\u001b[0m\n\u001b[0;32m     28\u001b[0m \u001b[1;33m\u001b[0m\u001b[0m\n",
      "\u001b[1;32m<ipython-input-66-03a2753ea90c>\u001b[0m in \u001b[0;36merr\u001b[1;34m(results, relevant_docs)\u001b[0m\n\u001b[0;32m     21\u001b[0m         \u001b[1;32melse\u001b[0m\u001b[1;33m:\u001b[0m\u001b[1;33m\u001b[0m\u001b[1;33m\u001b[0m\u001b[0m\n\u001b[0;32m     22\u001b[0m             \u001b[0mR\u001b[0m \u001b[1;33m=\u001b[0m \u001b[1;36m0\u001b[0m\u001b[1;33m\u001b[0m\u001b[1;33m\u001b[0m\u001b[0m\n\u001b[1;32m---> 23\u001b[1;33m         \u001b[0mERR\u001b[0m \u001b[1;33m+=\u001b[0m \u001b[0mp\u001b[0m \u001b[1;33m*\u001b[0m \u001b[0mR\u001b[0m\u001b[1;33m/\u001b[0m\u001b[1;33m(\u001b[0m\u001b[0mr\u001b[0m \u001b[1;33m+\u001b[0m \u001b[1;36m1\u001b[0m\u001b[1;33m)\u001b[0m\u001b[1;33m\u001b[0m\u001b[1;33m\u001b[0m\u001b[0m\n\u001b[0m\u001b[0;32m     24\u001b[0m         \u001b[0mp\u001b[0m \u001b[1;33m*=\u001b[0m \u001b[1;33m(\u001b[0m\u001b[1;36m1\u001b[0m\u001b[1;33m-\u001b[0m\u001b[0mR\u001b[0m\u001b[1;33m)\u001b[0m\u001b[1;33m\u001b[0m\u001b[1;33m\u001b[0m\u001b[0m\n\u001b[0;32m     25\u001b[0m \u001b[1;33m\u001b[0m\u001b[0m\n",
      "\u001b[1;31mKeyboardInterrupt\u001b[0m: "
     ]
    }
   ],
   "source": [
    "# YOUR CODE HERE\n",
    "toplot = {'ERR':[[],[]],\n",
    "          'MAP':[[],[]],\n",
    "          'Recall@1':[[],[]],\n",
    "          'Recall@5':[[],[]],\n",
    "          'Recall@10':[[],[]],\n",
    "          'Precision@1':[[],[]],\n",
    "          'Precision@5':[[],[]],\n",
    "          'Precision@10':[[],[]]\n",
    "         }\n",
    "\n",
    "for search_name, search_fn in list_of_search_fns:\n",
    "    index_set_res_1 = evaluate_search_fn(search_fn,list_of_metrics,1)\n",
    "    for key,value in index_set_res_1.items():\n",
    "        toplot[key][0].append(value)\n",
    "    index_set_res_2 = evaluate_search_fn(search_fn,list_of_metrics,2)\n",
    "    for key,value in index_set_res_2.items():\n",
    "        toplot[key][1].append(value)\n",
    "\n",
    "n_groups = len(list_of_search_fns)        \n",
    "for (name,values) in toplot.items():\n",
    "        dict_keys = dict(list_of_search_fns).keys()\n",
    "        score_1 = values[0]\n",
    "        score_2 = values[1]\n",
    "        # create plot\n",
    "        fig, ax = plt.subplots()\n",
    "        index = np.arange(n_groups)\n",
    "        bar_width = 0.35\n",
    "        opacity = 0.8\n",
    "\n",
    "        rects1 = plt.bar(index, score_1, bar_width,\n",
    "        alpha=opacity,\n",
    "        color='b',\n",
    "        label='Index set = 1')\n",
    "\n",
    "        rects2 = plt.bar(index + bar_width, score_2, bar_width,\n",
    "        alpha=opacity,\n",
    "        color='g',\n",
    "        label='Index set = 2')\n",
    "\n",
    "        plt.xlabel('Search functions')\n",
    "        plt.ylabel('Results')\n",
    "        plt.title('Results using ' + name + ' metric')\n",
    "        plt.xticks(index + bar_width, dict_keys )\n",
    "        plt.legend()\n",
    "\n",
    "        plt.tight_layout()\n",
    "        plt.xticks(rotation=45)\n",
    "        plt.show()"
   ]
  },
  {
   "cell_type": "markdown",
   "metadata": {
    "deletable": false,
    "editable": false,
    "id": "lZ3SttfV4IWp",
    "nbgrader": {
     "cell_type": "markdown",
     "checksum": "e88c444a0acf4e398c65e289169b75f7",
     "grade": false,
     "grade_id": "cell-8aabe3bcf265deb0",
     "locked": true,
     "points": 10,
     "schema_version": 3,
     "solution": false,
     "task": true
    }
   },
   "source": [
    "---\n",
    "### Section 5.2: Summary (10 points)\n",
    "Write a summary of what you observe in the results.\n",
    "Your summary should compare results across the 2 indices and the methods being used. State what you expected to see in the results, followed by either supporting evidence *or* justify why the results did not support your expectations.      "
   ]
  },
  {
   "cell_type": "markdown",
   "metadata": {
    "id": "iD_gTGV84IWp"
   },
   "source": [
    "- Highest value - Precision@1 - BM25 - more than 0.5\n",
    "- BM25 has the highest value using each metric\n",
    "- NaiveQl - almost everytime the lowest value - reason : 0 multiplication\n",
    "- QL model is significantly improve the score - reason: using smoothing insted of just 0 multiplication - using different weights for each word\n",
    "- scores increase with higher partial values using Recall\n",
    "- scores decrease using Precision with higher partial functions\n",
    "- TF-IDF - index set 1 is better - 8 of 7 cases\n",
    "    - in another cases index 2 is works better (only Recall1 + BM25 is an exception)"
   ]
  },
  {
   "cell_type": "markdown",
   "metadata": {
    "deletable": false,
    "editable": false,
    "id": "GB_eEIJE4IWp",
    "nbgrader": {
     "cell_type": "markdown",
     "checksum": "b3eb77be74eecca205fc7b47316d1627",
     "grade": false,
     "grade_id": "cell-bb60dd5c092d0f2e",
     "locked": true,
     "schema_version": 3,
     "solution": false,
     "task": false
    }
   },
   "source": [
    "---\n",
    "---\n",
    "# Part 2: Semantic-based Matching (85 points) <a class=\"anchor\" id=\"part2\"></a>\n",
    "\n",
    "[Back to top](#top)\n",
    "\n",
    "We will now experiment with methods that go beyond lexical methods like TF-IDF, which operate at the word level and are high dimensional and sparse, and look at methods which constructs low dimensional dense representations of queries and documents. \n",
    "\n",
    "Since these low-dimensional methods have a higher time complexity, they are typically used in conjunction with methods like BM-25. That is, instead of searching through potentially million documents to find matches using low dimensional vectors, a list of K documents are retrieved using BM25, and then **re-ranked** using the other method. This is the method that is going to be applied in the following exercises. \n",
    "\n",
    "LSI/LDA takes documents that are similar on a semantic level - for instance, if they are describing the same topic - and projects them into nearby vectors, despite having low lexical overlap.\n",
    "\n",
    "In this assignment, you will use `gensim` to create LSI/LDA models and use them in re-ranking. \n",
    "\n",
    "**Note**: The following exercises only uses `doc_repr_2` and `config_2`\n",
    "\n",
    "Table of contents:\n",
    "- [Section 6: LSI](#lsi) (15 points)\n",
    "- [Section 7: LDA](#lda) (10 points)\n",
    "- [Section 8: Word2Vec/Doc2Vec](#2vec) (20 points)\n",
    "- [Section 8: Re-ranking](#reranking) (10 points)\n",
    "- [Section 9: Re-ranking Evaluation](#reranking_eval) (30 points)"
   ]
  },
  {
   "cell_type": "markdown",
   "metadata": {
    "deletable": false,
    "editable": false,
    "id": "-hdtSyZZ4IWp",
    "nbgrader": {
     "cell_type": "markdown",
     "checksum": "f7c7b2cab82f576ed0acf836ca57171c",
     "grade": false,
     "grade_id": "cell-6b2c81e7a8abd180",
     "locked": true,
     "schema_version": 3,
     "solution": false,
     "task": false
    }
   },
   "source": [
    "---\n",
    "## Section 6: Latent Semantic Indexing (LSI) (15 points) <a class=\"anchor\" id=\"lsi\"></a>\n",
    "\n",
    "[Back to Part 2](#part2)\n",
    "\n",
    "LSI is one of the methods to embed the queries and documents into vectors. It is based on a method similar to Principal Component Analysis (PCA) for obtaining a dense concept matrix out of the sparse term-document matrix.\n",
    "\n",
    "See [wikipedia](https://en.wikipedia.org/wiki/Latent_semantic_analysis), particularly [#Mathematics_of_LSI](https://en.wikipedia.org/wiki/Latent_semantic_analysis#Mathematics_of_LSI)."
   ]
  },
  {
   "cell_type": "code",
   "execution_count": 71,
   "metadata": {
    "ExecuteTime": {
     "end_time": "2021-02-18T09:30:25.407823Z",
     "start_time": "2021-02-18T09:30:25.134778Z"
    },
    "deletable": false,
    "editable": false,
    "id": "Qlqfq_y34IWq",
    "nbgrader": {
     "cell_type": "code",
     "checksum": "c17ee75319cb517e2bf48ec3d9efc329",
     "grade": false,
     "grade_id": "cell-59913daee47f680d",
     "locked": true,
     "schema_version": 3,
     "solution": false,
     "task": false
    }
   },
   "outputs": [],
   "source": [
    "from gensim.corpora import Dictionary\n",
    "from gensim.models import LdaModel, LsiModel, Word2Vec\n",
    "from gensim.models.doc2vec import Doc2Vec, TaggedDocument\n",
    "from gensim import downloader as g_downloader\n",
    "# gensim uses logging, so set it up \n",
    "import logging\n",
    "logging.basicConfig(format='%(asctime)s : %(levelname)s : %(message)s', level=logging.INFO)"
   ]
  },
  {
   "cell_type": "markdown",
   "metadata": {
    "deletable": false,
    "editable": false,
    "id": "KqeQEm1Q4IWq",
    "nbgrader": {
     "cell_type": "markdown",
     "checksum": "5fce140c546759b54a9fc060901ae77c",
     "grade": false,
     "grade_id": "cell-3644faff4976598a",
     "locked": true,
     "schema_version": 3,
     "solution": false,
     "task": false
    }
   },
   "source": [
    "---\n",
    "### Section 6.1: Cosine Similarity (5 points)<a class=\"anchor\" id=\"cosing_sim\"></a>\n",
    "Before we begin, let us first define our method of similarity for the LSI model, the cosine similarity:\n",
    "\n",
    "$$\\text{similarity} = \\cos(\\theta) = {\\mathbf{A} \\cdot \\mathbf{B} \\over \\|\\mathbf{A}\\| \\|\\mathbf{B}\\|} = \\frac{ \\sum\\limits_{i=1}^{n}{A_i  B_i} }{ \\sqrt{\\sum\\limits_{i=1}^{n}{A_i^2}}  \\sqrt{\\sum\\limits_{i=1}^{n}{B_i^2}} }$$\n",
    "\n",
    "Since we are using gensim, the types of vectors returned by their classes are of the form defined below (they are not just simple vectors):"
   ]
  },
  {
   "cell_type": "code",
   "execution_count": 72,
   "metadata": {
    "ExecuteTime": {
     "end_time": "2021-02-18T09:30:25.411799Z",
     "start_time": "2021-02-18T09:30:25.408766Z"
    },
    "deletable": false,
    "editable": false,
    "id": "GGCJRThj4IWq",
    "nbgrader": {
     "cell_type": "code",
     "checksum": "4e340e1a1d546f430c018fd0760e707a",
     "grade": false,
     "grade_id": "cell-3995a50f951314d5",
     "locked": true,
     "schema_version": 3,
     "solution": false,
     "task": false
    }
   },
   "outputs": [],
   "source": [
    "# 1, 2, 3 are either latent dimensions (LSI), or topics (LDA)\n",
    "# The second value in each tuple is a number (LSI) or a probability (LDA)  \n",
    "example_vec_1 = [(1, 0.2), (2, 0.3), (3, 0.4)]\n",
    "example_vec_2 = [(1, 0.2), (2, 0.7), (3, 0.4)]"
   ]
  },
  {
   "cell_type": "markdown",
   "metadata": {
    "deletable": false,
    "editable": false,
    "id": "yrXWRnVx4IWq",
    "nbgrader": {
     "cell_type": "markdown",
     "checksum": "20832fd4f579f49ae204b0efee02edd1",
     "grade": false,
     "grade_id": "cell-5e54d581858dc8f7",
     "locked": true,
     "schema_version": 3,
     "solution": false,
     "task": false
    }
   },
   "source": [
    "---\n",
    "**Implementation (2+3 points):**\n",
    "Now, implement the `dot product` operation on these types of vectors and using this operator, implement the `cosine similarity` (don't forget: two functions to implement!):"
   ]
  },
  {
   "cell_type": "code",
   "execution_count": 73,
   "metadata": {
    "ExecuteTime": {
     "end_time": "2021-02-18T09:30:25.419739Z",
     "start_time": "2021-02-18T09:30:25.412755Z"
    },
    "deletable": false,
    "id": "OLHTT0Pb4IWq",
    "nbgrader": {
     "cell_type": "code",
     "checksum": "06a712ee75fc213a21c5f0067fd8fe28",
     "grade": false,
     "grade_id": "cell-0e8189f5f93de33f",
     "locked": false,
     "schema_version": 3,
     "solution": true,
     "task": false
    }
   },
   "outputs": [
    {
     "name": "stdout",
     "output_type": "stream",
     "text": [
      "0.9165587597202866\n"
     ]
    }
   ],
   "source": [
    "# TODO: Implement this! (2 points)\n",
    "def dot(vec_1,vec_2): \n",
    "    \"\"\"\n",
    "        vec_1 and vec_2 are of the form: [(int, float), (int, float), ...]\n",
    "        Return the dot product of two such vectors, computed only on the floats\n",
    "        You can assume that the lengths of the vectors are the same, and the dimensions are aligned \n",
    "            i.e you won't get: vec_1 = [(1, 0.2)] ; vec_2 = [(2, 0.3)] \n",
    "                                (dimensions are unaligned and lengths are different)\n",
    "    \"\"\"\n",
    "    # YOUR CODE HERE\n",
    "    dot_product = 0\n",
    "    for i in range(len(vec_1)):\n",
    "        dot_product +=  vec_1[i][1] * vec_2[i][1]\n",
    "    \n",
    "    return dot_product\n",
    "\n",
    "# TODO: Implement this! (3 points)\n",
    "def cosine_sim(vec_1, vec_2):\n",
    "    # YOUR CODE HERE\n",
    "    similarity = 0\n",
    "    res_a = 0\n",
    "    res_b = 0\n",
    "    for i in range(len(vec_1)):\n",
    "        res_a += vec_1[i][1] ** 2\n",
    "        res_b += vec_2[i][1] ** 2\n",
    "    numerator = dot(vec_1,vec_2)\n",
    "    \n",
    "    # When there exists a zero vector\n",
    "    # This happens when none of the tokens in the query are in the w2v model.\n",
    "    # As per instruction, we return a similarity score of 0.\n",
    "    if res_a == 0 or res_b == 0:\n",
    "        return 0\n",
    "    else:\n",
    "        denominator = math.sqrt(res_a)*math.sqrt(res_b)\n",
    "        return numerator/denominator\n",
    "    \n",
    "    \n",
    "print(cosine_sim(example_vec_1,example_vec_2))"
   ]
  },
  {
   "cell_type": "code",
   "execution_count": 74,
   "metadata": {
    "ExecuteTime": {
     "end_time": "2021-02-18T09:30:25.425723Z",
     "start_time": "2021-02-18T09:30:25.420734Z"
    },
    "deletable": false,
    "editable": false,
    "id": "opNcoM_E4IWq",
    "nbgrader": {
     "cell_type": "code",
     "checksum": "d22a4a7325ba7815a808390388f534a1",
     "grade": true,
     "grade_id": "cell-b25d04ed6b79fd35",
     "locked": true,
     "points": 2,
     "schema_version": 3,
     "solution": false,
     "task": false
    }
   },
   "outputs": [
    {
     "name": "stdout",
     "output_type": "stream",
     "text": [
      "vectors: ([(1, 0.2), (2, 0.3), (3, 0.4)], [(1, 0.2), (2, 0.7), (3, 0.4)])\n",
      "dot product = 0.41000000000000003\n",
      "cosine similarity = 0.9165587597202866\n"
     ]
    }
   ],
   "source": [
    "##### Function check\n",
    "print(f'vectors: {(example_vec_1,example_vec_2)}')\n",
    "print(f'dot product = {dot(example_vec_1,example_vec_2)}')\n",
    "print(f'cosine similarity = {cosine_sim(example_vec_1,example_vec_2)}')\n",
    "##### "
   ]
  },
  {
   "cell_type": "code",
   "execution_count": 75,
   "metadata": {
    "ExecuteTime": {
     "end_time": "2021-02-18T09:30:25.430708Z",
     "start_time": "2021-02-18T09:30:25.426720Z"
    },
    "deletable": false,
    "editable": false,
    "id": "fqGAn-Qy4IWr",
    "nbgrader": {
     "cell_type": "code",
     "checksum": "0744131724ce76b1b3f163b4bae5f700",
     "grade": true,
     "grade_id": "cell-ae3c4466866ace77",
     "locked": true,
     "points": 3,
     "schema_version": 3,
     "solution": false,
     "task": false
    }
   },
   "outputs": [],
   "source": [
    "#### Please do not change this. This cell is used for grading."
   ]
  },
  {
   "cell_type": "markdown",
   "metadata": {
    "deletable": false,
    "editable": false,
    "id": "-EkJ-o9j4IWr",
    "nbgrader": {
     "cell_type": "markdown",
     "checksum": "9b123f599f9ea372d14676e23f1c6a52",
     "grade": false,
     "grade_id": "cell-4b2534067c44fcdf",
     "locked": true,
     "schema_version": 3,
     "solution": false,
     "task": false
    }
   },
   "source": [
    "---\n",
    "### Section 6.2: LSI Retrieval (10 points)<a class=\"anchor\" id=\"lsi_retrieval\"></a>\n",
    "LSI retrieval is simply ranking the documents based on their cosine similarity to the query vector.\n",
    "First, let's write a parent class for vector-based retrieval models:"
   ]
  },
  {
   "cell_type": "code",
   "execution_count": 76,
   "metadata": {
    "ExecuteTime": {
     "end_time": "2021-02-18T09:30:25.437691Z",
     "start_time": "2021-02-18T09:30:25.431706Z"
    },
    "deletable": false,
    "editable": false,
    "id": "vui4hfKK4IWr",
    "nbgrader": {
     "cell_type": "code",
     "checksum": "ecc111d58182570e2252b8ef5d6b02af",
     "grade": false,
     "grade_id": "cell-937936cea18711ee",
     "locked": true,
     "schema_version": 3,
     "solution": false,
     "task": false
    }
   },
   "outputs": [],
   "source": [
    "class VectorSpaceRetrievalModel:\n",
    "    \"\"\"\n",
    "        Parent class for Dense Vector Retrieval models\n",
    "    \"\"\"\n",
    "    def __init__(self, doc_repr):\n",
    "        \"\"\"\n",
    "            document_collection: \n",
    "                [\n",
    "                    (doc_id_1, [token 1, token 2, ...]), \n",
    "                    (doc_id_2, [token 1, token 2, ....]) \n",
    "                    ...\n",
    "                ]\n",
    "\n",
    "        \"\"\"\n",
    "        self.doc_repr = doc_repr\n",
    "        self.documents = [_[1] for _ in self.doc_repr]\n",
    "        \n",
    "        # construct a dictionary\n",
    "        self.dictionary = Dictionary(self.documents)\n",
    "        # Filter out words that occur less than 20 documents, or more than 50% of the documents.\n",
    "        self.dictionary.filter_extremes(no_below=10)\n",
    "        self.corpus = [self.dictionary.doc2bow(doc) for doc in self.documents]\n",
    "    \n",
    "        # Make a index to word dictionary.\n",
    "        temp = self.dictionary[0]  # This is only to \"load\" the dictionary.\n",
    "        self.id2word = self.dictionary.id2token\n",
    "        \n",
    "        # this is set by the train_model function\n",
    "        self.model = None\n",
    "        \n",
    "        \n",
    "    def vectorize_documents(self):\n",
    "        \"\"\"\n",
    "            Returns a doc_id -> vector dictionary\n",
    "        \"\"\"\n",
    "        vectors = {}\n",
    "        for (doc_id, _), cc in zip(self.doc_repr, self.corpus):\n",
    "            vectors[doc_id] = self.model[cc]\n",
    "        return vectors\n",
    "\n",
    "    def vectorize_query(self, query):\n",
    "        # Note the use of config_2 here!\n",
    "        query = process_text(query, **config_2)\n",
    "        query_vector = self.dictionary.doc2bow(query)\n",
    "        return self.model[query_vector]\n",
    "    \n",
    "    def train_model(self):\n",
    "        \"\"\"\n",
    "            Trains a model and sets the 'self.model' variable. \n",
    "            Make sure to use the variables created in the __init__ method.\n",
    "            e.g the variables which may be useful: {corpus, dictionary, id2word}\n",
    "        \"\"\"\n",
    "        raise NotImplementedError()"
   ]
  },
  {
   "cell_type": "markdown",
   "metadata": {
    "deletable": false,
    "editable": false,
    "id": "7hVlHxL34IWr",
    "nbgrader": {
     "cell_type": "markdown",
     "checksum": "ff161eefd9b81b768cd6361bc1a502b0",
     "grade": false,
     "grade_id": "cell-704a18c2f80cd60c",
     "locked": true,
     "schema_version": 3,
     "solution": false,
     "task": false
    }
   },
   "source": [
    "---\n",
    "**Implementation (5 points):**\n",
    "Implement the `train_model` method in the following class (note that this is only one line of code in `gensim`!). Ensure that the parameters defined in the `__init__` method are not changed, and are *used in the `train_method` function*. Normally, the hyperaparameter space will be searched using grid search / other methods - in this assignment we have provided the hyperparameters for you.\n",
    "\n",
    "The last two lines of code train an LSI model on the list of documents which have been stemmed, lower-cased and have stopwords removed. "
   ]
  },
  {
   "cell_type": "code",
   "execution_count": 77,
   "metadata": {
    "ExecuteTime": {
     "end_time": "2021-02-18T09:30:25.442677Z",
     "start_time": "2021-02-18T09:30:25.438687Z"
    },
    "deletable": false,
    "id": "stvTMFN44IWr",
    "nbgrader": {
     "cell_type": "code",
     "checksum": "0e90eedc27c248bc1ae050518a46a46c",
     "grade": false,
     "grade_id": "cell-307682c9089f15d6",
     "locked": false,
     "schema_version": 3,
     "solution": true,
     "task": false
    }
   },
   "outputs": [],
   "source": [
    "# TODO: Implement this! (5 points)\n",
    "class LsiRetrievalModel(VectorSpaceRetrievalModel):\n",
    "    def __init__(self, doc_repr):\n",
    "        super().__init__(doc_repr)\n",
    "        \n",
    "        self.num_topics = 100\n",
    "        self.chunksize = 2000\n",
    "    \n",
    "    def train_model(self):\n",
    "        # YOUR CODE HERE\n",
    "        self.model = LsiModel(self.corpus, id2word = self.id2word, num_topics = self.num_topics, chunksize = self.chunksize)"
   ]
  },
  {
   "cell_type": "code",
   "execution_count": 78,
   "metadata": {
    "ExecuteTime": {
     "end_time": "2021-02-18T09:30:26.069600Z",
     "start_time": "2021-02-18T09:30:25.443673Z"
    },
    "deletable": false,
    "editable": false,
    "id": "_khGWJSi4IWr",
    "nbgrader": {
     "cell_type": "code",
     "checksum": "00399cfe13d60cb4beed1271e36004b0",
     "grade": true,
     "grade_id": "cell-5ce512650c1b2dfb",
     "locked": true,
     "points": 0,
     "schema_version": 3,
     "solution": false,
     "task": false
    }
   },
   "outputs": [
    {
     "name": "stderr",
     "output_type": "stream",
     "text": [
      "2021-02-18 10:30:25,445 : INFO : adding document #0 to Dictionary(0 unique tokens: [])\n",
      "2021-02-18 10:30:25,599 : INFO : built Dictionary(6204 unique tokens: ['-', 'algebra', 'intern', 'languag', 'preliminari']...) from 3204 documents (total 196845 corpus positions)\n",
      "2021-02-18 10:30:25,605 : INFO : discarding 4795 tokens: [('of', 2061), ('repeat', 8), ('glossari', 7), ('inspect', 8), ('the', 1794), ('uncol', 2), ('a', 1807), ('rung', 9), ('secant', 2), ('.', 1603)]...\n",
      "2021-02-18 10:30:25,606 : INFO : keeping 1409 tokens which were in no less than 10 and no more than 1602 (=50.0%) documents\n",
      "2021-02-18 10:30:25,608 : INFO : resulting dictionary: Dictionary(1409 unique tokens: ['-', 'algebra', 'intern', 'languag', 'preliminari']...)\n",
      "2021-02-18 10:30:25,693 : INFO : using serial LSI version on this node\n",
      "2021-02-18 10:30:25,693 : INFO : updating model with new documents\n",
      "2021-02-18 10:30:25,694 : INFO : preparing a new chunk of documents\n",
      "2021-02-18 10:30:25,707 : INFO : using 100 extra samples and 2 power iterations\n",
      "2021-02-18 10:30:25,708 : INFO : 1st phase: constructing (1409, 200) action matrix\n",
      "2021-02-18 10:30:25,735 : INFO : orthonormalizing (1409, 200) action matrix\n",
      "2021-02-18 10:30:25,849 : INFO : 2nd phase: running dense svd on (200, 2000) matrix\n",
      "2021-02-18 10:30:25,897 : INFO : computing the final decomposition\n",
      "2021-02-18 10:30:25,898 : INFO : keeping 100 factors (discarding 11.377% of energy spectrum)\n",
      "2021-02-18 10:30:25,902 : INFO : processed documents up to #2000\n",
      "2021-02-18 10:30:25,904 : INFO : topic #0(226.245): -0.469*\",\" + -0.358*\"and\" + -0.302*\"to\" + -0.287*\"is\" + -0.272*\"in\" + -0.231*\"for\" + -0.218*\"-\" + -0.158*\"are\" + -0.139*\"system\" + -0.137*\"program\"\n",
      "2021-02-18 10:30:25,905 : INFO : topic #1(63.170): -0.439*\"(\" + 0.341*\",\" + -0.309*\")\" + 0.307*\"and\" + -0.300*\"algorithm\" + -0.284*\"is\" + 0.269*\"system\" + -0.163*\"to\" + -0.141*\"method\" + -0.091*\"it\"\n",
      "2021-02-18 10:30:25,906 : INFO : topic #2(62.650): -0.560*\",\" + -0.387*\"(\" + 0.314*\"to\" + -0.278*\")\" + 0.252*\"is\" + -0.229*\"-\" + 0.217*\"in\" + -0.156*\"algorithm\" + 0.137*\"comput\" + 0.114*\"be\"\n",
      "2021-02-18 10:30:25,906 : INFO : topic #3(58.616): -0.758*\"-\" + 0.441*\",\" + -0.226*\"system\" + 0.217*\"is\" + -0.156*\"and\" + -0.097*\"for\" + 0.075*\"it\" + -0.075*\"time\" + -0.065*\"program\" + 0.062*\"that\"\n",
      "2021-02-18 10:30:25,907 : INFO : topic #4(52.367): -0.492*\"and\" + 0.409*\"-\" + -0.281*\"(\" + 0.260*\",\" + 0.253*\"to\" + -0.239*\"are\" + -0.217*\")\" + -0.213*\"algorithm\" + 0.183*\"is\" + -0.170*\"for\"\n",
      "2021-02-18 10:30:25,907 : INFO : preparing a new chunk of documents\n",
      "2021-02-18 10:30:25,922 : INFO : using 100 extra samples and 2 power iterations\n",
      "2021-02-18 10:30:25,922 : INFO : 1st phase: constructing (1409, 200) action matrix\n",
      "2021-02-18 10:30:25,938 : INFO : orthonormalizing (1409, 200) action matrix\n",
      "2021-02-18 10:30:26,000 : INFO : 2nd phase: running dense svd on (200, 1204) matrix\n",
      "2021-02-18 10:30:26,023 : INFO : computing the final decomposition\n",
      "2021-02-18 10:30:26,024 : INFO : keeping 100 factors (discarding 11.433% of energy spectrum)\n",
      "2021-02-18 10:30:26,029 : INFO : merging projections: (1409, 100) + (1409, 100)\n",
      "2021-02-18 10:30:26,048 : INFO : keeping 100 factors (discarding 6.297% of energy spectrum)\n",
      "2021-02-18 10:30:26,051 : INFO : processed documents up to #3204\n",
      "2021-02-18 10:30:26,053 : INFO : topic #0(340.063): 0.471*\",\" + 0.367*\"and\" + 0.309*\"to\" + 0.296*\"is\" + 0.270*\"in\" + 0.224*\"for\" + 0.212*\"-\" + 0.156*\"are\" + 0.129*\"system\" + 0.126*\"program\"\n",
      "2021-02-18 10:30:26,055 : INFO : topic #1(94.997): -0.646*\",\" + 0.354*\"is\" + -0.248*\"and\" + 0.244*\"to\" + 0.233*\"algorithm\" + 0.163*\"(\" + -0.154*\"system\" + 0.142*\"-\" + 0.142*\"method\" + 0.136*\"in\"\n",
      "2021-02-18 10:30:26,056 : INFO : topic #2(89.650): 0.436*\"(\" + 0.367*\",\" + 0.363*\"-\" + 0.315*\")\" + 0.264*\"algorithm\" + -0.229*\"to\" + -0.223*\"program\" + -0.207*\"system\" + -0.197*\"and\" + -0.160*\"in\"\n",
      "2021-02-18 10:30:26,058 : INFO : topic #3(83.160): 0.790*\"-\" + -0.297*\",\" + 0.257*\"system\" + -0.249*\"is\" + 0.182*\"and\" + -0.109*\"(\" + -0.088*\"to\" + -0.086*\"algorithm\" + -0.077*\")\" + 0.070*\"time\"\n",
      "2021-02-18 10:30:26,059 : INFO : topic #4(77.282): -0.420*\"and\" + -0.386*\"(\" + 0.312*\"is\" + -0.294*\")\" + 0.291*\",\" + 0.289*\"-\" + -0.256*\"for\" + -0.211*\"program\" + 0.202*\"to\" + -0.183*\"algorithm\"\n"
     ]
    },
    {
     "data": {
      "text/plain": [
       "[(0, 0.009993383376755333),\n",
       " (1, -0.017277176070156452),\n",
       " (2, -0.0070684462210846115),\n",
       " (3, -0.0019305810002882575),\n",
       " (4, -0.006814029157683152),\n",
       " (5, 0.001447915351095468),\n",
       " (6, 0.005123062741064224),\n",
       " (7, -0.027669981065930667),\n",
       " (8, -0.007060240619858028),\n",
       " (9, -0.011944077358479013),\n",
       " (10, 0.018472384393366865),\n",
       " (11, 0.014778926332597975),\n",
       " (12, 0.041351660623568084),\n",
       " (13, -0.005843028236306556),\n",
       " (14, -0.0002639276717660089),\n",
       " (15, 0.001141290606981843),\n",
       " (16, 0.014582450503214705),\n",
       " (17, -0.0012194012779183118),\n",
       " (18, 0.016239260034582884),\n",
       " (19, -0.01638265224570167),\n",
       " (20, 0.021465739665252448),\n",
       " (21, -0.007911975204506719),\n",
       " (22, 0.007245535246986758),\n",
       " (23, 0.01882757438638228),\n",
       " (24, -0.039342422956939814),\n",
       " (25, -0.03790560394169666),\n",
       " (26, -0.005868167898832569),\n",
       " (27, 0.015157818608140658),\n",
       " (28, 0.010417381741452736),\n",
       " (29, -0.016672511107195916),\n",
       " (30, -0.0010495301914918423),\n",
       " (31, -0.0012180417246531426),\n",
       " (32, -0.009900954932706998),\n",
       " (33, -0.011971842357891694),\n",
       " (34, 0.007113922759863781),\n",
       " (35, -0.009887113050937226),\n",
       " (36, -0.011876272001309036),\n",
       " (37, 0.02706575095084793),\n",
       " (38, 0.010567662957835426),\n",
       " (39, 0.01866496444102726),\n",
       " (40, 0.023013153150108996),\n",
       " (41, -0.0323603937008274),\n",
       " (42, -0.0021281872687980725),\n",
       " (43, -0.02307066707553028),\n",
       " (44, 0.0517297826294635),\n",
       " (45, 0.018508324302424176),\n",
       " (46, -0.03290430734602796),\n",
       " (47, -0.030667530376199247),\n",
       " (48, 0.012285421936321466),\n",
       " (49, -0.02290627382637767),\n",
       " (50, 0.09342583182310299),\n",
       " (51, -0.002632591532978205),\n",
       " (52, 0.020598982228594496),\n",
       " (53, -0.0583538344589806),\n",
       " (54, -0.012821870734628517),\n",
       " (55, 0.035082253971807),\n",
       " (56, 0.025041245922366742),\n",
       " (57, 0.011036191654622647),\n",
       " (58, 0.027317725050099592),\n",
       " (59, -0.04910469508908194),\n",
       " (60, -0.037406529768856014),\n",
       " (61, -0.01202476079092665),\n",
       " (62, -0.029567233256579412),\n",
       " (63, 0.0400855799920054),\n",
       " (64, 0.04143957721047597),\n",
       " (65, 0.017814246916483846),\n",
       " (66, -0.0014846034872940048),\n",
       " (67, -0.009004528170412546),\n",
       " (68, -0.026508433909682362),\n",
       " (69, 0.036685369026362255),\n",
       " (70, -0.0031544879669330437),\n",
       " (71, 0.01674602269519693),\n",
       " (72, 0.012886776778873194),\n",
       " (73, 0.05710414856514285),\n",
       " (74, -0.022499306336353702),\n",
       " (75, 0.014169855527778108),\n",
       " (76, 0.01346987995393914),\n",
       " (77, -0.023437185917002053),\n",
       " (78, -0.0072590564063828265),\n",
       " (79, 0.03704908415993017),\n",
       " (80, 0.01741720782280759),\n",
       " (81, 0.008575872421540351),\n",
       " (82, 0.03064799825993776),\n",
       " (83, 0.03761857890635905),\n",
       " (84, -0.03292153125971163),\n",
       " (85, -0.002678660924637786),\n",
       " (86, -0.03622922092833561),\n",
       " (87, 0.06181466350640499),\n",
       " (88, 0.004135123403281572),\n",
       " (89, 0.015954695046192034),\n",
       " (90, 0.04291149158133401),\n",
       " (91, -0.031505070024372535),\n",
       " (92, 0.06282718200424796),\n",
       " (93, -0.05245213409489562),\n",
       " (94, -0.004065273757255893),\n",
       " (95, 0.004219273540325136),\n",
       " (96, -0.04225912227433769),\n",
       " (97, -0.0018207830433268762),\n",
       " (98, 0.018512774519999053),\n",
       " (99, -0.009280204596787547)]"
      ]
     },
     "execution_count": 78,
     "metadata": {},
     "output_type": "execute_result"
    }
   ],
   "source": [
    "##### Function check\n",
    "lsi = LsiRetrievalModel(doc_repr_2)\n",
    "lsi.train_model()\n",
    "\n",
    "# you can now get an LSI vector for a given query in the following way:\n",
    "lsi.vectorize_query(\"report\")\n",
    "##### "
   ]
  },
  {
   "cell_type": "markdown",
   "metadata": {
    "deletable": false,
    "editable": false,
    "id": "NGA8x3e54IWs",
    "nbgrader": {
     "cell_type": "markdown",
     "checksum": "7116bb9f576c5bb04934e1d59c51d729",
     "grade": false,
     "grade_id": "cell-4c5eeb557b4fca2f",
     "locked": true,
     "points": 5,
     "schema_version": 3,
     "solution": false,
     "task": true
    }
   },
   "source": [
    "\\#### Please do not change this. This cell is used for grading."
   ]
  },
  {
   "cell_type": "markdown",
   "metadata": {
    "deletable": false,
    "editable": false,
    "id": "XC11dqNi4IWs",
    "nbgrader": {
     "cell_type": "markdown",
     "checksum": "1068a108600b8c1539117d543e720354",
     "grade": false,
     "grade_id": "cell-c4e50296cd17a555",
     "locked": true,
     "schema_version": 3,
     "solution": false,
     "task": false
    }
   },
   "source": [
    "---\n",
    "Next, implement a basic ranking class for vector space retrieval (used for all semantic methods): "
   ]
  },
  {
   "cell_type": "code",
   "execution_count": 79,
   "metadata": {
    "ExecuteTime": {
     "end_time": "2021-02-18T09:30:26.078576Z",
     "start_time": "2021-02-18T09:30:26.071595Z"
    },
    "deletable": false,
    "id": "7-cQ_F004IWs",
    "nbgrader": {
     "cell_type": "code",
     "checksum": "1a8389d2f0635c3405e2b0b27ed9f327",
     "grade": false,
     "grade_id": "cell-250515d288e80cdc",
     "locked": false,
     "schema_version": 3,
     "solution": true,
     "task": false
    }
   },
   "outputs": [],
   "source": [
    "# TODO: Implement this! (5 points)\n",
    "class DenseRetrievalRanker:\n",
    "    def __init__(self, vsrm, similarity_fn):\n",
    "        \"\"\"\n",
    "            vsrm: instance of `VectorSpaceRetrievalModel`\n",
    "            similarity_fn: function instance that takes in two vectors \n",
    "                            and returns a similarity score e.g cosine_sim defined earlier\n",
    "        \"\"\"\n",
    "        self.vsrm = vsrm \n",
    "        self.vectorized_documents = self.vsrm.vectorize_documents()\n",
    "        self.similarity_fn = similarity_fn\n",
    "    \n",
    "    def _compute_sim(self, query_vector):\n",
    "        \"\"\"\n",
    "            Compute the similarity of `query_vector` to documents in \n",
    "            `self.vectorized_documents` using `self.similarity_fn`\n",
    "            Returns a list of (doc_id, score) tuples\n",
    "        \"\"\"\n",
    "        # YOUR CODE HERE\n",
    "        result_list = []\n",
    "        self.query_vector = query_vector\n",
    "        for key, doc in self.vectorized_documents.items():\n",
    "            if len(doc) != 0:\n",
    "                score = self.similarity_fn(doc,self.query_vector)\n",
    "                result_list.append((key,score))               \n",
    "        return result_list\n",
    "    \n",
    "    def search(self, query):\n",
    "        scores = self._compute_sim(self.vsrm.vectorize_query(query))\n",
    "        scores.sort(key=lambda _:-_[1])\n",
    "        return scores "
   ]
  },
  {
   "cell_type": "code",
   "execution_count": 80,
   "metadata": {
    "ExecuteTime": {
     "end_time": "2021-02-18T09:30:26.911857Z",
     "start_time": "2021-02-18T09:30:26.080571Z"
    },
    "deletable": false,
    "editable": false,
    "id": "84ShnBqC4IWs",
    "nbgrader": {
     "cell_type": "code",
     "checksum": "f237dd1ef6c1783c06797f4b514421f5",
     "grade": true,
     "grade_id": "cell-b73068b3e77a8e31",
     "locked": true,
     "points": 0,
     "schema_version": 3,
     "solution": false,
     "task": false
    }
   },
   "outputs": [
    {
     "data": {
      "text/plain": [
       "[('2531', 0.4878682192325991),\n",
       " ('53', 0.4484562401900328),\n",
       " ('947', 0.4463261988701967),\n",
       " ('3160', 0.4358787406613438),\n",
       " ('722', 0.3976848836849527)]"
      ]
     },
     "execution_count": 80,
     "metadata": {},
     "output_type": "execute_result"
    }
   ],
   "source": [
    "##### Function check\n",
    "drm_lsi = DenseRetrievalRanker(lsi, cosine_sim)\n",
    "drm_lsi.search(\"report\")[:5]\n",
    "##### "
   ]
  },
  {
   "cell_type": "markdown",
   "metadata": {
    "deletable": false,
    "editable": false,
    "id": "J7KStoCJ4IWs",
    "nbgrader": {
     "cell_type": "markdown",
     "checksum": "5b3f19fdcaa585d263706d5a26038799",
     "grade": false,
     "grade_id": "cell-034c755a6502b868",
     "locked": true,
     "points": 5,
     "schema_version": 3,
     "solution": false,
     "task": true
    }
   },
   "source": [
    "\\#### Please do not change this. This cell is used for grading."
   ]
  },
  {
   "cell_type": "markdown",
   "metadata": {
    "deletable": false,
    "editable": false,
    "id": "151cPjf34IWs",
    "nbgrader": {
     "cell_type": "markdown",
     "checksum": "dcafef6e037033c46304b914f7c78bdf",
     "grade": false,
     "grade_id": "cell-d1df23f497d5ed6b",
     "locked": true,
     "schema_version": 3,
     "solution": false,
     "task": false
    }
   },
   "source": [
    "---\n",
    "Now, you can test your LSI model in the following cell: try finding queries which are lexically different to documents, but semantically similar - does LSI work well for these queries?!"
   ]
  },
  {
   "cell_type": "code",
   "execution_count": 81,
   "metadata": {
    "ExecuteTime": {
     "end_time": "2021-02-18T09:30:26.923825Z",
     "start_time": "2021-02-18T09:30:26.912853Z"
    },
    "deletable": false,
    "editable": false,
    "id": "_YwVurAt4IWs",
    "nbgrader": {
     "cell_type": "code",
     "checksum": "11734bc7674377b340ad51297a8e8bb5",
     "grade": false,
     "grade_id": "cell-efd1d08dfc04ec3e",
     "locked": true,
     "schema_version": 3,
     "solution": false,
     "task": false
    }
   },
   "outputs": [
    {
     "data": {
      "application/vnd.jupyter.widget-view+json": {
       "model_id": "932cdc4ea3da4ca79ff1036689616c77",
       "version_major": 2,
       "version_minor": 0
      },
      "text/plain": [
       "Text(value='', description='Search Bar')"
      ]
     },
     "metadata": {},
     "output_type": "display_data"
    }
   ],
   "source": [
    "# test your LSI model\n",
    "search_fn = drm_lsi.search\n",
    "\n",
    "text = widgets.Text(description=\"Search Bar\", width=200)\n",
    "display(text)\n",
    "\n",
    "def make_results_2(query, search_fn):\n",
    "    results = []\n",
    "    for doc_id, score in search_fn(query):\n",
    "        highlight = highlight_text(docs_by_id[doc_id], query)\n",
    "        if len(highlight.strip()) == 0:\n",
    "            highlight = docs_by_id[doc_id]\n",
    "        results.append(ResultRow(doc_id, highlight, score))\n",
    "    return results\n",
    "\n",
    "def handle_submit_2(sender):\n",
    "    print(f\"Searching for: '{sender.value}' (SEARCH FN: {search_fn})\")\n",
    "    \n",
    "    results = make_results_2(sender.value, search_fn)\n",
    "    \n",
    "    # display only the top 5\n",
    "    results = results[:5]\n",
    "    \n",
    "    body = \"\"\n",
    "    for idx, r in enumerate(results):\n",
    "        body += f\"<li>Document #{r.doc_id}({r.score}): {r.snippet}</li>\"\n",
    "    display(HTML(f\"<ul>{body}</ul>\"))\n",
    "    \n",
    "\n",
    "text.on_submit(handle_submit_2)"
   ]
  },
  {
   "cell_type": "markdown",
   "metadata": {
    "deletable": false,
    "editable": false,
    "id": "0PGe6mPD4IWt",
    "nbgrader": {
     "cell_type": "markdown",
     "checksum": "d074ce1ca48384cdda78742741c938be",
     "grade": false,
     "grade_id": "cell-3a86cef264d8f6cf",
     "locked": true,
     "schema_version": 3,
     "solution": false,
     "task": false
    }
   },
   "source": [
    "---\n",
    "## Section 7: Latent Dirichlet Allocation (LDA) (10 points) <a class=\"anchor\" id=\"lda\"></a>\n",
    "\n",
    "[Back to Part 2](#part2)\n",
    "\n",
    "The specifics of LDA is out of the scope of this assignment, but we will use the `gensim` implementation to perform search using LDA over our small document collection. The key thing to remember is that LDA, unlike LSI, outputs a topic **distribution**, not a vector. With that in mind, let's first define a similarity measure.\n"
   ]
  },
  {
   "cell_type": "markdown",
   "metadata": {
    "deletable": false,
    "editable": false,
    "id": "xMbAwqEW4IWt",
    "nbgrader": {
     "cell_type": "markdown",
     "checksum": "db01092373b18f0c9dfed1bb17db4ad9",
     "grade": false,
     "grade_id": "cell-6b78ad22c2d60ba7",
     "locked": true,
     "schema_version": 3,
     "solution": false,
     "task": false
    }
   },
   "source": [
    "---\n",
    "### Section 7.1: Jenson-Shannon divergence (5 points) <a class=\"anchor\" id=\"js_sim\"></a>\n",
    "\n",
    "The Jenson-Shannon divergence is a symmetric and finite measure on two probability distributions (unlike the KL, which is neither). For identical distributions, the JSD is equal to 0, and since our code uses 0 as irrelevant and higher scores as relevant, we use `(1 - JSD)` as the score or 'similarity' in our setup\n",
    "\n",
    "**Note**: the JSD is bounded to \\[0,1\\] only if we use log base 2. So please ensure that you're using `np.log2` instead of `np.log`"
   ]
  },
  {
   "cell_type": "code",
   "execution_count": 82,
   "metadata": {
    "ExecuteTime": {
     "end_time": "2021-02-18T09:30:26.932801Z",
     "start_time": "2021-02-18T09:30:26.924823Z"
    },
    "deletable": false,
    "id": "OP-T-8i-4IWt",
    "nbgrader": {
     "cell_type": "code",
     "checksum": "a579e6cd7a24a3516bc9a84528b392d3",
     "grade": false,
     "grade_id": "cell-d2376a85a4841e98",
     "locked": false,
     "schema_version": 3,
     "solution": true,
     "task": false
    }
   },
   "outputs": [],
   "source": [
    "## TODO: Implement this! (5 points)\n",
    "def jenson_shannon_divergence(vec_1, vec_2, assert_prob=False):\n",
    "    \"\"\"\n",
    "        Computes the Jensen-Shannon divergence between two probability distributions. \n",
    "        NOTE: DO NOT RETURN 1 - JSD here, that is handled by the next function which is already implemented! \n",
    "        The inputs are *gensim* vectors - same as the vectors for the cosine_sim function\n",
    "        assert_prob is a flag that checks if the inputs are proper probability distributions \n",
    "            i.e they sum to 1 and are positive - use this to check your inputs if needed. \n",
    "                (This is optional to implement, but recommended - \n",
    "                you can the default to False to save a few ms off the runtime)\n",
    "    \"\"\"\n",
    "    # YOUR CODE HERE\n",
    "    if assert_prob:\n",
    "        sum_vec_1 = sum(value[1] for value in vec_1)\n",
    "        sum_vec_2 = sum(value[1] for value in vec_2)\n",
    "        if sum_vec_1 != 1:\n",
    "            print('Input vec_1 is not in the correct format!')\n",
    "            return\n",
    "        if sum_vec_2 != 1:\n",
    "            print('Input vec_2 is not in the correct format!')\n",
    "            return\n",
    "            \n",
    "    vec_1 = np.array([value for id,value in vec_1])\n",
    "    vec_2 = np.array([value for id,value in vec_2])\n",
    "    \n",
    "    d1 = vec_1*np.log2(vec_1/((vec_1+vec_2)/2))\n",
    "    d2 = vec_2*np.log2(vec_2/((vec_1+vec_2)/2))\n",
    "    d1[np.isnan(d1)] = 0\n",
    "    d2[np.isnan(d2)] = 0\n",
    "    d = 0.5*np.sum(d1+d2)\n",
    "    \n",
    "    return d\n",
    "    \n",
    "def jenson_shannon_sim(vec_1, vec_2, assert_prob=False):\n",
    "    return 1 - jenson_shannon_divergence(vec_1, vec_2, assert_prob)\n"
   ]
  },
  {
   "cell_type": "code",
   "execution_count": 83,
   "metadata": {
    "ExecuteTime": {
     "end_time": "2021-02-18T09:30:26.937789Z",
     "start_time": "2021-02-18T09:30:26.933799Z"
    },
    "deletable": false,
    "editable": false,
    "id": "0Jx8X0vU4IWt",
    "nbgrader": {
     "cell_type": "code",
     "checksum": "ab340aa941c9fb5c89b3fd0a9139e246",
     "grade": true,
     "grade_id": "cell-487c6d2933f38053",
     "locked": true,
     "points": 5,
     "schema_version": 3,
     "solution": false,
     "task": false
    }
   },
   "outputs": [
    {
     "data": {
      "text/plain": [
       "0.9251064410358459"
      ]
     },
     "execution_count": 83,
     "metadata": {},
     "output_type": "execute_result"
    }
   ],
   "source": [
    "##### Function check\n",
    "vec_1 = [(1, 0.3), (2, 0.4), (3, 0.3)]\n",
    "vec_2 = [(1, 0.1), (2, 0.7), (3, 0.2)]\n",
    "jenson_shannon_sim(vec_1, vec_2, assert_prob=True)\n",
    "##### "
   ]
  },
  {
   "cell_type": "markdown",
   "metadata": {
    "deletable": false,
    "editable": false,
    "id": "1qyB_mcw4IWt",
    "nbgrader": {
     "cell_type": "markdown",
     "checksum": "0a1583a5f23e3390038331cce67f5d8e",
     "grade": false,
     "grade_id": "cell-4535cc67a50b80fa",
     "locked": true,
     "schema_version": 3,
     "solution": false,
     "task": false
    }
   },
   "source": [
    "---\n",
    "### Section 7.2: LDA retrieval (5 points) <a class=\"anchor\" id=\"lda_ret\"></a>\n",
    "\n",
    "Implement the `train_model` method in the following class (note that this is only one line of code in `gensim`!). Ensure that the parameters defined in the `__init__` method are not changed, and are *used in the `train_method` function*. You do not need to set this. Normally, the hyperaparameter space will be searched using grid search / other methods. Note that training the LDA model might take some time\n",
    "\n",
    "The last two lines of code train an LDA model on the list of documents which have been stemmed, lower-cased and have stopwords removed. "
   ]
  },
  {
   "cell_type": "code",
   "execution_count": 84,
   "metadata": {
    "ExecuteTime": {
     "end_time": "2021-02-18T09:30:26.943772Z",
     "start_time": "2021-02-18T09:30:26.938786Z"
    },
    "deletable": false,
    "id": "Z9-cv36K4IWt",
    "nbgrader": {
     "cell_type": "code",
     "checksum": "27de8e4fa85536bb396b73bfc51b3f50",
     "grade": false,
     "grade_id": "cell-021a48dff4a8bb91",
     "locked": false,
     "schema_version": 3,
     "solution": true,
     "task": false
    }
   },
   "outputs": [],
   "source": [
    "# TODO: Implement this! (5 points)\n",
    "class LdaRetrievalModel(VectorSpaceRetrievalModel):\n",
    "    def __init__(self, doc_repr):\n",
    "        super().__init__(doc_repr)\n",
    "        \n",
    "        # use these parameters in the train_model method\n",
    "        self.num_topics = 100\n",
    "        self.chunksize = 2000\n",
    "        self.passes = 20\n",
    "        self.iterations = 400\n",
    "        self.eval_every = 10\n",
    "        # this is need to get full vectors\n",
    "        self.minimum_probability=0.0\n",
    "        self.alpha='auto'\n",
    "        self.eta='auto'\n",
    "    \n",
    "    \n",
    "    def train_model(self):\n",
    "        # YOUR CODE HERE\n",
    "        self.model = LdaModel(self.corpus, num_topics = self.num_topics, chunksize = self.chunksize, id2word = self.id2word,\n",
    "                              passes = self.passes, iterations = self.iterations, eval_every = self.eval_every, \n",
    "                              minimum_probability = self.minimum_probability, alpha = self.alpha, eta = self.eta)"
   ]
  },
  {
   "cell_type": "code",
   "execution_count": 85,
   "metadata": {
    "ExecuteTime": {
     "end_time": "2021-02-18T09:32:17.739886Z",
     "start_time": "2021-02-18T09:30:26.945767Z"
    },
    "deletable": false,
    "editable": false,
    "id": "Fb0jrpWb4IWu",
    "nbgrader": {
     "cell_type": "code",
     "checksum": "be70fcb8098d0b6ce64cd2a10e6a05b7",
     "grade": true,
     "grade_id": "cell-86750b715f0345fd",
     "locked": true,
     "points": 0,
     "schema_version": 3,
     "solution": false,
     "task": false
    },
    "tags": []
   },
   "outputs": [
    {
     "name": "stderr",
     "output_type": "stream",
     "text": [
      "2021-02-18 10:30:26,946 : INFO : adding document #0 to Dictionary(0 unique tokens: [])\n",
      "2021-02-18 10:30:27,103 : INFO : built Dictionary(6204 unique tokens: ['-', 'algebra', 'intern', 'languag', 'preliminari']...) from 3204 documents (total 196845 corpus positions)\n",
      "2021-02-18 10:30:27,109 : INFO : discarding 4795 tokens: [('of', 2061), ('repeat', 8), ('glossari', 7), ('inspect', 8), ('the', 1794), ('uncol', 2), ('a', 1807), ('rung', 9), ('secant', 2), ('.', 1603)]...\n",
      "2021-02-18 10:30:27,109 : INFO : keeping 1409 tokens which were in no less than 10 and no more than 1602 (=50.0%) documents\n",
      "2021-02-18 10:30:27,113 : INFO : resulting dictionary: Dictionary(1409 unique tokens: ['-', 'algebra', 'intern', 'languag', 'preliminari']...)\n",
      "2021-02-18 10:30:27,197 : INFO : using autotuned alpha, starting with [0.01, 0.01, 0.01, 0.01, 0.01, 0.01, 0.01, 0.01, 0.01, 0.01, 0.01, 0.01, 0.01, 0.01, 0.01, 0.01, 0.01, 0.01, 0.01, 0.01, 0.01, 0.01, 0.01, 0.01, 0.01, 0.01, 0.01, 0.01, 0.01, 0.01, 0.01, 0.01, 0.01, 0.01, 0.01, 0.01, 0.01, 0.01, 0.01, 0.01, 0.01, 0.01, 0.01, 0.01, 0.01, 0.01, 0.01, 0.01, 0.01, 0.01, 0.01, 0.01, 0.01, 0.01, 0.01, 0.01, 0.01, 0.01, 0.01, 0.01, 0.01, 0.01, 0.01, 0.01, 0.01, 0.01, 0.01, 0.01, 0.01, 0.01, 0.01, 0.01, 0.01, 0.01, 0.01, 0.01, 0.01, 0.01, 0.01, 0.01, 0.01, 0.01, 0.01, 0.01, 0.01, 0.01, 0.01, 0.01, 0.01, 0.01, 0.01, 0.01, 0.01, 0.01, 0.01, 0.01, 0.01, 0.01, 0.01, 0.01]\n",
      "2021-02-18 10:30:27,198 : INFO : using serial LDA version on this node\n",
      "2021-02-18 10:30:27,219 : INFO : running online (multi-pass) LDA training, 100 topics, 20 passes over the supplied corpus of 3204 documents, updating model once every 2000 documents, evaluating perplexity every 3204 documents, iterating 400x with a convergence threshold of 0.001000\n",
      "2021-02-18 10:30:27,220 : INFO : PROGRESS: pass 0, at document #2000/3204\n",
      "2021-02-18 10:30:30,253 : INFO : optimized alpha [0.009806737, 0.009802694, 0.009745114, 0.009781438, 0.009854003, 0.009779446, 0.009719308, 0.009896808, 0.00978666, 0.009750282, 0.009764149, 0.009739865, 0.0097862985, 0.009765901, 0.009853563, 0.010168113, 0.009848306, 0.0097501995, 0.00975565, 0.009868502, 0.009734792, 0.009791593, 0.009827978, 0.009739813, 0.00985936, 0.009765743, 0.009865288, 0.009739826, 0.009855273, 0.009890413, 0.009765731, 0.009765775, 0.00973996, 0.009833435, 0.009779546, 0.009823136, 0.009760609, 0.00988975, 0.009853602, 0.009885726, 0.0097556915, 0.009785769, 0.009745331, 0.009781674, 0.009750519, 0.009734624, 0.009817876, 0.009744985, 0.009835374, 0.00974505, 0.010004598, 0.009755495, 0.009791732, 0.00974504, 0.009837944, 0.009807399, 0.0097974, 0.010000975, 0.009797912, 0.009843949, 0.009739794, 0.009791249, 0.009823288, 0.009766567, 0.009791256, 0.009781326, 0.009765934, 0.009807805, 0.009760732, 0.009833243, 0.009765555, 0.009765736, 0.009817815, 0.0099533815, 0.009849746, 0.009771471, 0.009781516, 0.0097912075, 0.009778462, 0.009734663, 0.00975019, 0.009783737, 0.009770648, 0.010016931, 0.00994896, 0.009729554, 0.009776189, 0.00974781, 0.009801696, 0.009775855, 0.009765993, 0.009755691, 0.009740749, 0.009755302, 0.009869763, 0.009760609, 0.00977085, 0.0097400155, 0.009760616, 0.009802653]\n",
      "2021-02-18 10:30:30,264 : INFO : merging changes from 2000 documents into a model of 3204 documents\n",
      "2021-02-18 10:30:30,282 : INFO : topic #42 (0.010): 0.046*\",\" + 0.038*\"languag\" + 0.026*\"to\" + 0.025*\"-\" + 0.023*\"is\" + 0.023*\"memori\" + 0.020*\"use\" + 0.020*\"from\" + 0.020*\"for\" + 0.017*\"method\"\n",
      "2021-02-18 10:30:30,283 : INFO : topic #60 (0.010): 0.061*\"and\" + 0.038*\"valu\" + 0.038*\"associ\" + 0.037*\"algorithm\" + 0.037*\"differenti\" + 0.037*\"s\" + 0.037*\"characterist\" + 0.036*\"solut\" + 0.036*\"s22\" + 0.035*\"equat\"\n",
      "2021-02-18 10:30:30,284 : INFO : topic #57 (0.010): 0.046*\",\" + 0.034*\"is\" + 0.030*\"and\" + 0.029*\"to\" + 0.026*\"for\" + 0.025*\"in\" + 0.014*\"-\" + 0.011*\"are\" + 0.011*\"an\" + 0.010*\"by\"\n",
      "2021-02-18 10:30:30,284 : INFO : topic #83 (0.010): 0.033*\",\" + 0.033*\"to\" + 0.032*\"-\" + 0.029*\"and\" + 0.027*\"for\" + 0.021*\"is\" + 0.017*\"in\" + 0.016*\"are\" + 0.014*\"system\" + 0.013*\"on\"\n",
      "2021-02-18 10:30:30,285 : INFO : topic #15 (0.010): 0.048*\",\" + 0.031*\"and\" + 0.031*\"to\" + 0.025*\"in\" + 0.023*\"-\" + 0.020*\"for\" + 0.019*\"is\" + 0.016*\"comput\" + 0.016*\"are\" + 0.016*\"system\"\n",
      "2021-02-18 10:30:30,286 : INFO : topic diff=80.797112, rho=1.000000\n",
      "2021-02-18 10:30:32,341 : INFO : -6.950 per-word bound, 123.6 perplexity estimate based on a held-out corpus of 1204 documents with 79462 words\n",
      "2021-02-18 10:30:32,342 : INFO : PROGRESS: pass 0, at document #3204/3204\n",
      "2021-02-18 10:30:34,107 : INFO : optimized alpha [0.0097675305, 0.010068164, 0.009760426, 0.009944271, 0.010076539, 0.010067517, 0.009433566, 0.010380198, 0.0098138675, 0.0097878985, 0.009796446, 0.009660905, 0.010108905, 0.00988679, 0.00976107, 0.011236125, 0.009714832, 0.009665629, 0.009741872, 0.0099653555, 0.009860308, 0.009847944, 0.009736537, 0.009551135, 0.010059564, 0.009658726, 0.010187122, 0.009707341, 0.010836027, 0.010059156, 0.00960581, 0.00990442, 0.009691584, 0.009860576, 0.009954638, 0.009934856, 0.009630143, 0.009934305, 0.009927966, 0.0100937225, 0.009649295, 0.009993326, 0.010019413, 0.00993252, 0.0101252105, 0.009592714, 0.009891964, 0.009620326, 0.010059343, 0.009818771, 0.01018135, 0.009689233, 0.010018691, 0.009736878, 0.00988875, 0.009917962, 0.0100977635, 0.010337441, 0.010265031, 0.010061821, 0.009858464, 0.009794601, 0.009703139, 0.009975989, 0.009775509, 0.009825904, 0.009864086, 0.009943667, 0.009964213, 0.009901415, 0.009780734, 0.009751269, 0.009886594, 0.010075762, 0.010205836, 0.0100766765, 0.009892157, 0.009705958, 0.009836352, 0.00956434, 0.009706382, 0.010033542, 0.009691507, 0.010529766, 0.0107512465, 0.009489299, 0.009697957, 0.009845477, 0.0097574545, 0.0098846145, 0.009664629, 0.0099344235, 0.00963908, 0.009699794, 0.010129188, 0.009717394, 0.009867978, 0.009896932, 0.01007671, 0.009989801]\n",
      "2021-02-18 10:30:34,115 : INFO : merging changes from 1204 documents into a model of 3204 documents\n",
      "2021-02-18 10:30:34,127 : INFO : topic #6 (0.009): 0.001*\"lead\" + 0.001*\"debug\" + 0.001*\"major\" + 0.001*\"divid\" + 0.001*\"column\" + 0.001*\"verifi\" + 0.001*\"repetit\" + 0.001*\"reduc\" + 0.001*\"quit\" + 0.001*\"maximum\"\n",
      "2021-02-18 10:30:34,129 : INFO : topic #85 (0.009): 0.201*\"editor\" + 0.103*\"60\" + 0.087*\"algol\" + 0.079*\"algorithm\" + 0.064*\"iter\" + 0.045*\"languag\" + 0.042*\"(\" + 0.036*\"refer\" + 0.023*\"with\" + 0.021*\")\"\n",
      "2021-02-18 10:30:34,130 : INFO : topic #84 (0.011): 0.057*\"and\" + 0.052*\",\" + 0.030*\"system\" + 0.026*\"in\" + 0.023*\"to\" + 0.021*\"are\" + 0.020*\"is\" + 0.020*\"for\" + 0.013*\"comput\" + 0.011*\"use\"\n",
      "2021-02-18 10:30:34,130 : INFO : topic #28 (0.011): 0.044*\"is\" + 0.039*\",\" + 0.037*\"to\" + 0.028*\"and\" + 0.025*\"in\" + 0.021*\"tree\" + 0.018*\"that\" + 0.017*\"method\" + 0.016*\"use\" + 0.015*\"are\"\n",
      "2021-02-18 10:30:34,131 : INFO : topic #15 (0.011): 0.055*\",\" + 0.037*\"and\" + 0.035*\"to\" + 0.025*\"in\" + 0.020*\"is\" + 0.019*\"-\" + 0.018*\"for\" + 0.017*\"system\" + 0.015*\"comput\" + 0.015*\"program\"\n",
      "2021-02-18 10:30:34,132 : INFO : topic diff=0.720670, rho=0.707107\n",
      "2021-02-18 10:30:34,141 : INFO : PROGRESS: pass 1, at document #2000/3204\n",
      "2021-02-18 10:30:35,774 : INFO : optimized alpha [0.009735327, 0.010012362, 0.009796154, 0.009903692, 0.009979921, 0.010014707, 0.009274806, 0.010355277, 0.0097421715, 0.009797273, 0.0097323125, 0.009692278, 0.010024022, 0.009954461, 0.009693346, 0.011277517, 0.009695013, 0.009596721, 0.00966892, 0.009989206, 0.009826532, 0.009880855, 0.009625113, 0.009654654, 0.009979783, 0.0096033225, 0.010239528, 0.00972533, 0.010798123, 0.009963567, 0.009564378, 0.009930913, 0.009670984, 0.009780339, 0.009855464, 0.009855609, 0.009541936, 0.00984149, 0.009877981, 0.009992109, 0.009617461, 0.010737628, 0.009931829, 0.009916565, 0.0100675365, 0.009650344, 0.009871895, 0.00965232, 0.009949881, 0.00974119, 0.010071689, 0.009645492, 0.00999587, 0.010036611, 0.009918912, 0.009868196, 0.0100710355, 0.010274039, 0.010260483, 0.009998186, 0.00980339, 0.009823129, 0.009629248, 0.0099132005, 0.009693826, 0.009758953, 0.009791278, 0.009859298, 0.009912657, 0.009793574, 0.009790736, 0.009675202, 0.00981652, 0.009985508, 0.01013966, 0.010028335, 0.009853286, 0.009709332, 0.009740509, 0.009825553, 0.0097188065, 0.009993705, 0.009713027, 0.010487926, 0.010751448, 0.009557948, 0.009631338, 0.009977211, 0.009634772, 0.009926841, 0.009686978, 0.009901873, 0.009622298, 0.0098438775, 0.010025901, 0.009691509, 0.00982582, 0.009926729, 0.010098295, 0.009884858]\n"
     ]
    },
    {
     "name": "stderr",
     "output_type": "stream",
     "text": [
      "2021-02-18 10:30:35,784 : INFO : merging changes from 2000 documents into a model of 3204 documents\n",
      "2021-02-18 10:30:35,805 : INFO : topic #6 (0.009): 0.001*\"lead\" + 0.001*\"debug\" + 0.001*\"major\" + 0.001*\"divid\" + 0.001*\"column\" + 0.001*\"verifi\" + 0.001*\"repetit\" + 0.001*\"reduc\" + 0.001*\"quit\" + 0.001*\"maximum\"\n",
      "2021-02-18 10:30:35,806 : INFO : topic #85 (0.010): 0.348*\"algol\" + 0.221*\"60\" + 0.073*\"iter\" + 0.054*\"languag\" + 0.046*\"algorithm\" + 0.042*\"(\" + 0.041*\"editor\" + 0.029*\"with\" + 0.020*\"and\" + 0.019*\"[\"\n",
      "2021-02-18 10:30:35,806 : INFO : topic #41 (0.011): 0.221*\"(\" + 0.216*\")\" + 0.208*\"algorithm\" + 0.032*\"integr\" + 0.030*\"s\" + 0.025*\"'\" + 0.021*\"[\" + 0.018*\"polynomi\" + 0.018*\"rule\" + 0.017*\"root\"\n",
      "2021-02-18 10:30:35,807 : INFO : topic #28 (0.011): 0.045*\"is\" + 0.039*\",\" + 0.037*\"to\" + 0.027*\"and\" + 0.026*\"in\" + 0.018*\"tree\" + 0.018*\"that\" + 0.017*\"method\" + 0.016*\"be\" + 0.016*\"are\"\n",
      "2021-02-18 10:30:35,807 : INFO : topic #15 (0.011): 0.055*\",\" + 0.037*\"and\" + 0.035*\"to\" + 0.025*\"in\" + 0.020*\"-\" + 0.020*\"is\" + 0.018*\"for\" + 0.017*\"system\" + 0.016*\"program\" + 0.016*\"comput\"\n",
      "2021-02-18 10:30:35,808 : INFO : topic diff=0.342620, rho=0.526900\n",
      "2021-02-18 10:30:37,914 : INFO : -6.669 per-word bound, 101.7 perplexity estimate based on a held-out corpus of 1204 documents with 79462 words\n",
      "2021-02-18 10:30:37,915 : INFO : PROGRESS: pass 1, at document #3204/3204\n",
      "2021-02-18 10:30:39,733 : INFO : optimized alpha [0.009804175, 0.010237775, 0.009904175, 0.010073554, 0.010195558, 0.0102486005, 0.009082313, 0.010634615, 0.00976034, 0.009864389, 0.009793088, 0.009807913, 0.010410707, 0.010199418, 0.009716587, 0.011860163, 0.009631811, 0.009603089, 0.009704537, 0.0100917425, 0.010021316, 0.010033313, 0.009602792, 0.009672426, 0.010125069, 0.009619794, 0.01055116, 0.009780471, 0.011580639, 0.0100719165, 0.009529697, 0.010087673, 0.009809951, 0.009880912, 0.009990609, 0.0099618975, 0.009571541, 0.009894079, 0.009956521, 0.01015669, 0.009637668, 0.011312503, 0.010167805, 0.010059291, 0.010459047, 0.0097068185, 0.009949332, 0.009636423, 0.010068024, 0.0098540345, 0.010149355, 0.009672746, 0.010209583, 0.010101285, 0.009951405, 0.009982018, 0.010346237, 0.0104383435, 0.0106486045, 0.010094049, 0.010040674, 0.009857175, 0.009594, 0.010153718, 0.00971117, 0.009824291, 0.009895987, 0.009912658, 0.010148488, 0.009872856, 0.009851338, 0.009761886, 0.009921601, 0.010032591, 0.010407158, 0.010297844, 0.010024409, 0.009666352, 0.009880886, 0.009823843, 0.009838886, 0.01027011, 0.009790273, 0.010740946, 0.011289536, 0.009484058, 0.0096851755, 0.010136783, 0.009662843, 0.01011352, 0.009697291, 0.009947486, 0.009644851, 0.009836331, 0.010139104, 0.009718078, 0.00998559, 0.01030474, 0.010452943, 0.010002419]\n",
      "2021-02-18 10:30:39,741 : INFO : merging changes from 1204 documents into a model of 3204 documents\n",
      "2021-02-18 10:30:39,754 : INFO : topic #6 (0.009): 0.001*\"lead\" + 0.001*\"debug\" + 0.001*\"major\" + 0.001*\"divid\" + 0.001*\"column\" + 0.001*\"verifi\" + 0.001*\"repetit\" + 0.001*\"reduc\" + 0.001*\"quit\" + 0.001*\"maximum\"\n",
      "2021-02-18 10:30:39,755 : INFO : topic #85 (0.009): 0.337*\"algol\" + 0.226*\"60\" + 0.097*\"iter\" + 0.072*\"editor\" + 0.050*\"languag\" + 0.037*\"algorithm\" + 0.029*\"(\" + 0.024*\"with\" + 0.018*\"and\" + 0.011*\"[\"\n",
      "2021-02-18 10:30:39,756 : INFO : topic #41 (0.011): 0.243*\"(\" + 0.240*\")\" + 0.222*\"algorithm\" + 0.024*\"s\" + 0.021*\"integr\" + 0.020*\"rule\" + 0.019*\"[\" + 0.019*\"'\" + 0.015*\"normal\" + 0.014*\"polynomi\"\n",
      "2021-02-18 10:30:39,756 : INFO : topic #28 (0.012): 0.046*\"is\" + 0.041*\",\" + 0.040*\"to\" + 0.027*\"and\" + 0.026*\"in\" + 0.024*\"tree\" + 0.021*\"that\" + 0.017*\"method\" + 0.017*\"be\" + 0.016*\"are\"\n",
      "2021-02-18 10:30:39,757 : INFO : topic #15 (0.012): 0.059*\",\" + 0.040*\"and\" + 0.037*\"to\" + 0.025*\"in\" + 0.020*\"is\" + 0.018*\"-\" + 0.018*\"for\" + 0.017*\"system\" + 0.015*\"comput\" + 0.015*\"program\"\n",
      "2021-02-18 10:30:39,758 : INFO : topic diff=0.472206, rho=0.526900\n",
      "2021-02-18 10:30:39,769 : INFO : PROGRESS: pass 2, at document #2000/3204\n",
      "2021-02-18 10:30:41,378 : INFO : optimized alpha [0.009826999, 0.010212963, 0.01000783, 0.010067368, 0.010144604, 0.010201972, 0.008953254, 0.0106144175, 0.009731575, 0.009919182, 0.009753757, 0.009911112, 0.010332289, 0.010313525, 0.009681686, 0.0119180605, 0.009634947, 0.009571688, 0.009669371, 0.010131238, 0.010020439, 0.0100998655, 0.009540633, 0.009862641, 0.010088048, 0.009606961, 0.010635115, 0.009814971, 0.011552983, 0.009995359, 0.0095248595, 0.010172482, 0.009872132, 0.0098339785, 0.009905847, 0.009942085, 0.009520711, 0.009835366, 0.009920365, 0.010098157, 0.009667942, 0.012187041, 0.010095445, 0.010049231, 0.010426986, 0.0098219635, 0.009943935, 0.009710893, 0.009986435, 0.009804523, 0.0100495815, 0.00965825, 0.01022837, 0.010338654, 0.009994967, 0.00995705, 0.010331915, 0.01036632, 0.01067515, 0.010071921, 0.010055914, 0.009910384, 0.009577502, 0.010110185, 0.009653004, 0.009773532, 0.009846406, 0.009851798, 0.010126818, 0.009817072, 0.009876462, 0.009716331, 0.009893194, 0.009971565, 0.010362865, 0.010266669, 0.010024667, 0.009704783, 0.009817187, 0.010319305, 0.009895543, 0.010241686, 0.009854769, 0.010693344, 0.011295705, 0.009619311, 0.009666747, 0.010341869, 0.009564882, 0.010261878, 0.009777426, 0.009964225, 0.009649327, 0.010025097, 0.010046446, 0.009721547, 0.009975671, 0.010407937, 0.010507552, 0.009917527]\n",
      "2021-02-18 10:30:41,389 : INFO : merging changes from 2000 documents into a model of 3204 documents\n",
      "2021-02-18 10:30:41,403 : INFO : topic #6 (0.009): 0.001*\"lead\" + 0.001*\"debug\" + 0.001*\"major\" + 0.001*\"divid\" + 0.001*\"column\" + 0.001*\"verifi\" + 0.001*\"repetit\" + 0.001*\"reduc\" + 0.001*\"quit\" + 0.001*\"maximum\"\n",
      "2021-02-18 10:30:41,404 : INFO : topic #62 (0.010): 0.041*\",\" + 0.034*\"is\" + 0.031*\"to\" + 0.029*\"and\" + 0.028*\"precis\" + 0.027*\"divis\" + 0.019*\"-\" + 0.019*\"in\" + 0.018*\"for\" + 0.017*\"comput\"\n",
      "2021-02-18 10:30:41,404 : INFO : topic #28 (0.012): 0.046*\"is\" + 0.041*\",\" + 0.040*\"to\" + 0.026*\"in\" + 0.026*\"and\" + 0.022*\"tree\" + 0.021*\"that\" + 0.017*\"be\" + 0.017*\"search\" + 0.016*\"are\"\n",
      "2021-02-18 10:30:41,405 : INFO : topic #15 (0.012): 0.060*\",\" + 0.040*\"and\" + 0.037*\"to\" + 0.025*\"in\" + 0.020*\"is\" + 0.019*\"-\" + 0.018*\"for\" + 0.018*\"system\" + 0.016*\"program\" + 0.016*\"comput\"\n",
      "2021-02-18 10:30:41,406 : INFO : topic #41 (0.012): 0.269*\"(\" + 0.266*\")\" + 0.224*\"algorithm\" + 0.026*\"integr\" + 0.017*\"polynomi\" + 0.016*\"evalu\" + 0.015*\"s\" + 0.014*\"normal\" + 0.014*\"rule\" + 0.012*\"root\"\n",
      "2021-02-18 10:30:41,407 : INFO : topic diff=0.439654, rho=0.466151\n",
      "2021-02-18 10:30:43,478 : INFO : -6.582 per-word bound, 95.8 perplexity estimate based on a held-out corpus of 1204 documents with 79462 words\n",
      "2021-02-18 10:30:43,479 : INFO : PROGRESS: pass 2, at document #3204/3204\n",
      "2021-02-18 10:30:45,272 : INFO : optimized alpha [0.009926641, 0.010441838, 0.010161608, 0.010289347, 0.01038466, 0.010406532, 0.008795792, 0.010843033, 0.009791249, 0.010001368, 0.009827745, 0.010059685, 0.010683846, 0.010573591, 0.009760584, 0.012383437, 0.00960094, 0.009609067, 0.009728472, 0.01027761, 0.010233365, 0.010278719, 0.009558176, 0.009972799, 0.010225349, 0.009690954, 0.010902817, 0.009879228, 0.01225281, 0.0101275975, 0.009541173, 0.010379602, 0.010088281, 0.00994706, 0.0100265425, 0.01004036, 0.009608539, 0.009894795, 0.010014329, 0.010257023, 0.009709262, 0.012959205, 0.010317702, 0.0101956455, 0.010768402, 0.0098787295, 0.0100090355, 0.009712158, 0.010068359, 0.009940084, 0.010115782, 0.009702564, 0.010438638, 0.0104050655, 0.010019669, 0.010090019, 0.010577895, 0.010520432, 0.011008555, 0.010169116, 0.010433492, 0.009956163, 0.0095862895, 0.010328785, 0.009681658, 0.0098554995, 0.0099710375, 0.009912243, 0.01038462, 0.009969816, 0.009972988, 0.009835688, 0.010033586, 0.010030501, 0.010597849, 0.010543983, 0.010192772, 0.009713882, 0.009969399, 0.010369707, 0.010028992, 0.010549641, 0.009957471, 0.010901426, 0.011736786, 0.009568755, 0.009723114, 0.0105391, 0.009629493, 0.0104924785, 0.009809348, 0.010087103, 0.009722577, 0.010027795, 0.010151622, 0.009768783, 0.010156622, 0.010824902, 0.010844304, 0.010034228]\n",
      "2021-02-18 10:30:45,280 : INFO : merging changes from 1204 documents into a model of 3204 documents\n",
      "2021-02-18 10:30:45,293 : INFO : topic #6 (0.009): 0.001*\"lead\" + 0.001*\"debug\" + 0.001*\"major\" + 0.001*\"divid\" + 0.001*\"column\" + 0.001*\"verifi\" + 0.001*\"repetit\" + 0.001*\"reduc\" + 0.001*\"quit\" + 0.001*\"maximum\"\n"
     ]
    },
    {
     "name": "stderr",
     "output_type": "stream",
     "text": [
      "2021-02-18 10:30:45,294 : INFO : topic #22 (0.010): 0.039*\"for\" + 0.035*\"usag\" + 0.033*\"gener\" + 0.030*\"implement\" + 0.024*\"comput\" + 0.023*\"protect\" + 0.022*\"-\" + 0.021*\"time\" + 0.020*\"with\" + 0.019*\"design\"\n",
      "2021-02-18 10:30:45,294 : INFO : topic #28 (0.012): 0.046*\"is\" + 0.042*\",\" + 0.042*\"to\" + 0.027*\"tree\" + 0.027*\"in\" + 0.025*\"and\" + 0.023*\"that\" + 0.018*\"be\" + 0.017*\"search\" + 0.017*\"are\"\n",
      "2021-02-18 10:30:45,295 : INFO : topic #15 (0.012): 0.063*\",\" + 0.042*\"and\" + 0.039*\"to\" + 0.025*\"in\" + 0.020*\"is\" + 0.018*\"for\" + 0.017*\"system\" + 0.017*\"-\" + 0.015*\"comput\" + 0.015*\"program\"\n",
      "2021-02-18 10:30:45,295 : INFO : topic #41 (0.013): 0.287*\"(\" + 0.283*\")\" + 0.224*\"algorithm\" + 0.019*\"integr\" + 0.013*\"normal\" + 0.013*\"rule\" + 0.013*\"evalu\" + 0.013*\"polynomi\" + 0.011*\"[\" + 0.011*\"find\"\n",
      "2021-02-18 10:30:45,297 : INFO : topic diff=0.596241, rho=0.466151\n",
      "2021-02-18 10:30:45,306 : INFO : PROGRESS: pass 3, at document #2000/3204\n",
      "2021-02-18 10:30:46,949 : INFO : optimized alpha [0.009979096, 0.010442041, 0.010271016, 0.010319222, 0.010345211, 0.010369518, 0.0086871525, 0.010853485, 0.009784823, 0.010055293, 0.0098096, 0.010179012, 0.0106083825, 0.010699723, 0.00973783, 0.012428909, 0.00961987, 0.009589964, 0.00969956, 0.010345884, 0.010261635, 0.010356218, 0.009514336, 0.010184071, 0.010209258, 0.009687916, 0.010994358, 0.00991685, 0.012243549, 0.01006702, 0.009570401, 0.010478494, 0.010201893, 0.009921536, 0.00995891, 0.0100182695, 0.009585768, 0.00984719, 0.0099841915, 0.010245742, 0.009751957, 0.014030796, 0.010261476, 0.0102009345, 0.010760918, 0.009996269, 0.010036956, 0.009798748, 0.0099936165, 0.009899219, 0.010031676, 0.009706801, 0.010467368, 0.010618661, 0.010098571, 0.010084352, 0.010571829, 0.010450311, 0.011055675, 0.010160327, 0.010503889, 0.010000488, 0.009586998, 0.010300884, 0.009634872, 0.0098208, 0.009949644, 0.009869053, 0.010380306, 0.009938201, 0.010021333, 0.009815422, 0.010013715, 0.010000206, 0.010553225, 0.010524208, 0.010226865, 0.009790613, 0.0099155, 0.0109132845, 0.010103477, 0.010559175, 0.010030728, 0.010870834, 0.011747583, 0.009700664, 0.009721524, 0.010750675, 0.009561185, 0.010706894, 0.009918406, 0.010153589, 0.009747496, 0.010224367, 0.010081857, 0.009776776, 0.010168104, 0.010968093, 0.010921705, 0.00995583]\n",
      "2021-02-18 10:30:46,962 : INFO : merging changes from 2000 documents into a model of 3204 documents\n",
      "2021-02-18 10:30:46,978 : INFO : topic #6 (0.009): 0.001*\"lead\" + 0.001*\"debug\" + 0.001*\"major\" + 0.001*\"divid\" + 0.001*\"column\" + 0.001*\"verifi\" + 0.001*\"repetit\" + 0.001*\"reduc\" + 0.001*\"quit\" + 0.001*\"maximum\"\n",
      "2021-02-18 10:30:46,979 : INFO : topic #22 (0.010): 0.038*\"for\" + 0.033*\"gener\" + 0.031*\"usag\" + 0.030*\"implement\" + 0.027*\"comput\" + 0.023*\"-\" + 0.021*\"design\" + 0.020*\"time\" + 0.019*\",\" + 0.019*\"with\"\n",
      "2021-02-18 10:30:46,980 : INFO : topic #28 (0.012): 0.047*\"is\" + 0.042*\",\" + 0.042*\"to\" + 0.027*\"in\" + 0.025*\"and\" + 0.024*\"tree\" + 0.023*\"that\" + 0.019*\"be\" + 0.017*\"search\" + 0.017*\"are\"\n",
      "2021-02-18 10:30:46,980 : INFO : topic #15 (0.012): 0.064*\",\" + 0.042*\"and\" + 0.039*\"to\" + 0.024*\"in\" + 0.019*\"is\" + 0.018*\"-\" + 0.018*\"system\" + 0.018*\"for\" + 0.016*\"program\" + 0.016*\"comput\"\n",
      "2021-02-18 10:30:46,981 : INFO : topic #41 (0.014): 0.302*\"(\" + 0.301*\")\" + 0.222*\"algorithm\" + 0.023*\"integr\" + 0.014*\"evalu\" + 0.014*\"polynomi\" + 0.012*\"normal\" + 0.009*\"rule\" + 0.009*\"find\" + 0.008*\"x\"\n",
      "2021-02-18 10:30:46,982 : INFO : topic diff=0.579320, rho=0.422502\n",
      "2021-02-18 10:30:49,061 : INFO : -6.527 per-word bound, 92.2 perplexity estimate based on a held-out corpus of 1204 documents with 79462 words\n",
      "2021-02-18 10:30:49,062 : INFO : PROGRESS: pass 3, at document #3204/3204\n",
      "2021-02-18 10:30:50,882 : INFO : optimized alpha [0.0100767845, 0.010677304, 0.010400325, 0.010584779, 0.010605953, 0.01057869, 0.008553965, 0.0110743595, 0.009881236, 0.010136824, 0.009870641, 0.010343031, 0.01095043, 0.01095811, 0.009841175, 0.012815015, 0.009604348, 0.009652075, 0.009750578, 0.010497649, 0.010489302, 0.010541705, 0.009569434, 0.010344451, 0.010349203, 0.009788833, 0.011263956, 0.009999685, 0.0129092075, 0.010213051, 0.009589358, 0.010686767, 0.010465394, 0.010053018, 0.010097868, 0.010115393, 0.009676408, 0.009919726, 0.010098779, 0.010461152, 0.009800217, 0.015031638, 0.010461028, 0.010334325, 0.011102792, 0.010046923, 0.010103573, 0.009806567, 0.010069209, 0.010047713, 0.010118309, 0.009765003, 0.010674523, 0.010691965, 0.010142282, 0.010227544, 0.010804562, 0.010594618, 0.011355339, 0.010256322, 0.010966753, 0.010049341, 0.009623453, 0.010526636, 0.009689537, 0.00989951, 0.010081442, 0.009963965, 0.010624382, 0.010145464, 0.010137644, 0.009962568, 0.010166729, 0.010069123, 0.010760762, 0.010771441, 0.010409266, 0.009826572, 0.010079421, 0.010978875, 0.01025697, 0.010899358, 0.010141659, 0.011080346, 0.012096706, 0.00965793, 0.0097872075, 0.010923254, 0.009658239, 0.010949591, 0.009953871, 0.010337501, 0.00980735, 0.010221195, 0.0101855425, 0.009837623, 0.010366019, 0.011401116, 0.0112603, 0.010080528]\n",
      "2021-02-18 10:30:50,891 : INFO : merging changes from 1204 documents into a model of 3204 documents\n",
      "2021-02-18 10:30:50,904 : INFO : topic #6 (0.009): 0.001*\"lead\" + 0.001*\"debug\" + 0.001*\"major\" + 0.001*\"divid\" + 0.001*\"column\" + 0.001*\"verifi\" + 0.001*\"repetit\" + 0.001*\"reduc\" + 0.001*\"quit\" + 0.001*\"maximum\"\n",
      "2021-02-18 10:30:50,904 : INFO : topic #22 (0.010): 0.039*\"for\" + 0.035*\"implement\" + 0.035*\"usag\" + 0.034*\"gener\" + 0.027*\"comput\" + 0.025*\"protect\" + 0.024*\"necessari\" + 0.022*\"with\" + 0.021*\"design\" + 0.021*\"-\"\n",
      "2021-02-18 10:30:50,905 : INFO : topic #15 (0.013): 0.066*\",\" + 0.043*\"and\" + 0.040*\"to\" + 0.024*\"in\" + 0.019*\"is\" + 0.018*\"system\" + 0.017*\"for\" + 0.016*\"-\" + 0.015*\"comput\" + 0.014*\"program\"\n",
      "2021-02-18 10:30:50,905 : INFO : topic #28 (0.013): 0.046*\"is\" + 0.043*\",\" + 0.043*\"to\" + 0.028*\"tree\" + 0.027*\"in\" + 0.024*\"that\" + 0.024*\"and\" + 0.019*\"be\" + 0.017*\"search\" + 0.017*\"are\"\n",
      "2021-02-18 10:30:50,906 : INFO : topic #41 (0.015): 0.312*\"(\" + 0.310*\")\" + 0.225*\"algorithm\" + 0.017*\"integr\" + 0.012*\"evalu\" + 0.011*\"normal\" + 0.011*\"polynomi\" + 0.009*\"find\" + 0.009*\"rule\" + 0.008*\"x\"\n",
      "2021-02-18 10:30:50,907 : INFO : topic diff=0.695840, rho=0.422502\n",
      "2021-02-18 10:30:50,916 : INFO : PROGRESS: pass 4, at document #2000/3204\n",
      "2021-02-18 10:30:52,511 : INFO : optimized alpha [0.010137196, 0.010680016, 0.010520197, 0.010612845, 0.010588254, 0.010539051, 0.008460311, 0.011089278, 0.009887165, 0.010194681, 0.0098604215, 0.010461981, 0.010887719, 0.011063886, 0.009841626, 0.01287959, 0.009649419, 0.009640832, 0.009722925, 0.01058759, 0.010532634, 0.0106295245, 0.009556591, 0.010553228, 0.010354603, 0.009791818, 0.0113701625, 0.010048167, 0.012912726, 0.010175167, 0.009633975, 0.010796851, 0.0106138, 0.010039158, 0.010031638, 0.01010331, 0.009661431, 0.009878641, 0.010086931, 0.010476532, 0.009853627, 0.016300518, 0.010410162, 0.010349048, 0.01109713, 0.01020068, 0.010161747, 0.009896658, 0.010007634, 0.010017554, 0.01005206, 0.009782864, 0.010723033, 0.010893526, 0.010229842, 0.010238128, 0.010803759, 0.010534174, 0.011403551, 0.010260699, 0.0110809235, 0.010098518, 0.009628784, 0.01050548, 0.009655206, 0.009870131, 0.010081559, 0.009938443, 0.010629033, 0.010131105, 0.010194237, 0.009953075, 0.010153825, 0.010051916, 0.01072685, 0.010770365, 0.010452331, 0.009899877, 0.010035135, 0.011528339, 0.010339692, 0.0109311445, 0.010231168, 0.011052896, 0.012098641, 0.009776942, 0.0098169735, 0.011130393, 0.009607405, 0.011173007, 0.0100748455, 0.010429102, 0.009844131, 0.010414758, 0.010124038, 0.009843508, 0.010389749, 0.011551862, 0.011352405, 0.010018683]\n",
      "2021-02-18 10:30:52,520 : INFO : merging changes from 2000 documents into a model of 3204 documents\n",
      "2021-02-18 10:30:52,535 : INFO : topic #6 (0.008): 0.001*\"lead\" + 0.001*\"debug\" + 0.001*\"major\" + 0.001*\"divid\" + 0.001*\"column\" + 0.001*\"verifi\" + 0.001*\"repetit\" + 0.001*\"reduc\" + 0.001*\"quit\" + 0.001*\"maximum\"\n",
      "2021-02-18 10:30:52,537 : INFO : topic #22 (0.010): 0.039*\"for\" + 0.037*\"gener\" + 0.035*\"implement\" + 0.032*\"usag\" + 0.029*\"comput\" + 0.022*\"design\" + 0.022*\"been\" + 0.021*\"-\" + 0.021*\"necessari\" + 0.020*\"protect\"\n",
      "2021-02-18 10:30:52,538 : INFO : topic #15 (0.013): 0.067*\",\" + 0.043*\"and\" + 0.040*\"to\" + 0.024*\"in\" + 0.019*\"is\" + 0.018*\"system\" + 0.017*\"for\" + 0.017*\"-\" + 0.015*\"comput\" + 0.015*\"program\"\n"
     ]
    },
    {
     "name": "stderr",
     "output_type": "stream",
     "text": [
      "2021-02-18 10:30:52,538 : INFO : topic #28 (0.013): 0.047*\"is\" + 0.043*\"to\" + 0.043*\",\" + 0.027*\"in\" + 0.026*\"tree\" + 0.024*\"that\" + 0.024*\"and\" + 0.020*\"be\" + 0.018*\"search\" + 0.017*\"are\"\n",
      "2021-02-18 10:30:52,539 : INFO : topic #41 (0.016): 0.323*\")\" + 0.321*\"(\" + 0.223*\"algorithm\" + 0.016*\"integr\" + 0.013*\"evalu\" + 0.012*\"polynomi\" + 0.011*\"normal\" + 0.007*\"find\" + 0.007*\"x\" + 0.007*\"rule\"\n",
      "2021-02-18 10:30:52,540 : INFO : topic diff=0.643906, rho=0.389191\n",
      "2021-02-18 10:30:54,536 : INFO : -6.486 per-word bound, 89.7 perplexity estimate based on a held-out corpus of 1204 documents with 79462 words\n",
      "2021-02-18 10:30:54,536 : INFO : PROGRESS: pass 4, at document #3204/3204\n",
      "2021-02-18 10:30:56,334 : INFO : optimized alpha [0.010250615, 0.010888591, 0.010650013, 0.010892246, 0.010855998, 0.010726702, 0.008344977, 0.011287438, 0.009989567, 0.010279896, 0.009923904, 0.01062096, 0.011218521, 0.0113455765, 0.0099697765, 0.013236896, 0.009648597, 0.0097051775, 0.009777251, 0.010724663, 0.010772516, 0.0108123785, 0.009642906, 0.010715601, 0.010484496, 0.009878966, 0.011633518, 0.010131259, 0.013536341, 0.010347612, 0.009676957, 0.011012067, 0.010895756, 0.010174313, 0.010154419, 0.010196895, 0.009761413, 0.009959597, 0.010199941, 0.010712291, 0.009908036, 0.017454458, 0.010585453, 0.010465915, 0.0114252865, 0.01025601, 0.010230023, 0.009910062, 0.010088259, 0.010171983, 0.010162828, 0.0098626185, 0.010940413, 0.010973709, 0.010289987, 0.010394809, 0.011020343, 0.010671697, 0.011676445, 0.010373503, 0.011595159, 0.010156897, 0.009672599, 0.010719108, 0.009719223, 0.009946806, 0.010217212, 0.010036806, 0.010881021, 0.010357664, 0.010325453, 0.010102717, 0.0103025315, 0.010139605, 0.010930564, 0.010993836, 0.010632134, 0.009962144, 0.010197345, 0.011616378, 0.010505435, 0.011286709, 0.010346792, 0.011243878, 0.012389022, 0.009740571, 0.009900336, 0.011290048, 0.009716659, 0.011433103, 0.010123327, 0.010630893, 0.009902623, 0.010413497, 0.01021402, 0.009893868, 0.010597479, 0.011982642, 0.011693318, 0.010134708]\n",
      "2021-02-18 10:30:56,343 : INFO : merging changes from 1204 documents into a model of 3204 documents\n",
      "2021-02-18 10:30:56,357 : INFO : topic #6 (0.008): 0.001*\"lead\" + 0.001*\"debug\" + 0.001*\"major\" + 0.001*\"divid\" + 0.001*\"column\" + 0.001*\"verifi\" + 0.001*\"repetit\" + 0.001*\"reduc\" + 0.001*\"quit\" + 0.001*\"maximum\"\n",
      "2021-02-18 10:30:56,357 : INFO : topic #62 (0.010): 0.055*\"precis\" + 0.039*\"is\" + 0.038*\"divis\" + 0.036*\",\" + 0.032*\"to\" + 0.029*\"-\" + 0.027*\"stage\" + 0.027*\"and\" + 0.020*\"for\" + 0.018*\"present\"\n",
      "2021-02-18 10:30:56,357 : INFO : topic #15 (0.013): 0.068*\",\" + 0.045*\"and\" + 0.041*\"to\" + 0.024*\"in\" + 0.019*\"is\" + 0.018*\"system\" + 0.017*\"for\" + 0.016*\"-\" + 0.015*\"comput\" + 0.014*\"program\"\n",
      "2021-02-18 10:30:56,358 : INFO : topic #28 (0.014): 0.045*\"is\" + 0.044*\",\" + 0.044*\"to\" + 0.029*\"tree\" + 0.027*\"in\" + 0.025*\"that\" + 0.023*\"and\" + 0.021*\"be\" + 0.017*\"search\" + 0.017*\"are\"\n",
      "2021-02-18 10:30:56,359 : INFO : topic #41 (0.017): 0.328*\"(\" + 0.328*\")\" + 0.225*\"algorithm\" + 0.013*\"integr\" + 0.010*\"evalu\" + 0.010*\"normal\" + 0.010*\"polynomi\" + 0.008*\"x\" + 0.008*\"find\" + 0.006*\"rule\"\n",
      "2021-02-18 10:30:56,360 : INFO : topic diff=0.702329, rho=0.389191\n",
      "2021-02-18 10:30:56,370 : INFO : PROGRESS: pass 5, at document #2000/3204\n",
      "2021-02-18 10:30:58,045 : INFO : optimized alpha [0.010322048, 0.010905829, 0.010768657, 0.010934678, 0.010847456, 0.010690789, 0.008262775, 0.011319248, 0.010006146, 0.010341669, 0.009918588, 0.010744381, 0.011160728, 0.0114734275, 0.009979121, 0.013282348, 0.009707364, 0.009698722, 0.009763007, 0.010836507, 0.010817877, 0.010888569, 0.009654418, 0.010923718, 0.010499065, 0.009881958, 0.011745442, 0.010174841, 0.013542471, 0.010313435, 0.009726205, 0.011127524, 0.011047952, 0.010162928, 0.010104154, 0.010185894, 0.0097511085, 0.009934697, 0.010192664, 0.0107572405, 0.009972856, 0.018848266, 0.010543132, 0.0104834, 0.011433903, 0.010425167, 0.010309186, 0.010003808, 0.0100373, 0.010145214, 0.010109009, 0.009883093, 0.010994711, 0.011164198, 0.0103990035, 0.010411913, 0.011022494, 0.0106151905, 0.011739364, 0.010389052, 0.011728509, 0.010208808, 0.009683482, 0.010705917, 0.0096968, 0.0099290265, 0.010219002, 0.010022529, 0.010899594, 0.010367667, 0.010397197, 0.010107921, 0.010289996, 0.010136994, 0.010899793, 0.011005686, 0.010673744, 0.010043696, 0.01016669, 0.012155986, 0.01058657, 0.011334582, 0.010440083, 0.011225719, 0.012397836, 0.009850865, 0.009953706, 0.011490472, 0.009674856, 0.011664771, 0.010246585, 0.01073785, 0.009937336, 0.010604016, 0.0101537425, 0.009903504, 0.010620541, 0.012141746, 0.011780433, 0.010083067]\n",
      "2021-02-18 10:30:58,058 : INFO : merging changes from 2000 documents into a model of 3204 documents\n",
      "2021-02-18 10:30:58,075 : INFO : topic #6 (0.008): 0.001*\"lead\" + 0.001*\"debug\" + 0.001*\"major\" + 0.001*\"divid\" + 0.001*\"column\" + 0.001*\"verifi\" + 0.001*\"repetit\" + 0.001*\"reduc\" + 0.001*\"quit\" + 0.001*\"maximum\"\n",
      "2021-02-18 10:30:58,078 : INFO : topic #16 (0.010): 0.043*\"and\" + 0.041*\"input\" + 0.040*\"path\" + 0.037*\",\" + 0.029*\"for\" + 0.029*\"(\" + 0.029*\"english\" + 0.027*\")\" + 0.026*\"right\" + 0.025*\"format\"\n",
      "2021-02-18 10:30:58,079 : INFO : topic #15 (0.013): 0.069*\",\" + 0.044*\"and\" + 0.041*\"to\" + 0.024*\"in\" + 0.019*\"is\" + 0.018*\"system\" + 0.017*\"for\" + 0.016*\"-\" + 0.015*\"comput\" + 0.014*\"program\"\n",
      "2021-02-18 10:30:58,079 : INFO : topic #28 (0.014): 0.046*\"is\" + 0.044*\"to\" + 0.044*\",\" + 0.027*\"in\" + 0.027*\"tree\" + 0.025*\"that\" + 0.023*\"and\" + 0.021*\"be\" + 0.018*\"search\" + 0.017*\"are\"\n",
      "2021-02-18 10:30:58,080 : INFO : topic #41 (0.019): 0.336*\")\" + 0.333*\"(\" + 0.223*\"algorithm\" + 0.011*\"evalu\" + 0.011*\"polynomi\" + 0.010*\"integr\" + 0.010*\"normal\" + 0.007*\"x\" + 0.006*\"find\" + 0.005*\"rule\"\n",
      "2021-02-18 10:30:58,081 : INFO : topic diff=0.620435, rho=0.362690\n",
      "2021-02-18 10:31:00,108 : INFO : -6.458 per-word bound, 87.9 perplexity estimate based on a held-out corpus of 1204 documents with 79462 words\n",
      "2021-02-18 10:31:00,108 : INFO : PROGRESS: pass 5, at document #3204/3204\n",
      "2021-02-18 10:31:01,870 : INFO : optimized alpha [0.010434531, 0.011102124, 0.01091303, 0.011206038, 0.0111105805, 0.010873944, 0.008161162, 0.011530313, 0.01012978, 0.010421467, 0.009999555, 0.010890437, 0.0114705125, 0.011789808, 0.010099569, 0.013628773, 0.009709994, 0.009777053, 0.009817426, 0.010978014, 0.011060982, 0.011060613, 0.009765099, 0.011089322, 0.010646817, 0.009966909, 0.011987628, 0.010255745, 0.014130452, 0.010510371, 0.009766628, 0.011320338, 0.011360005, 0.01030847, 0.010232077, 0.010258177, 0.009839205, 0.01001101, 0.01030206, 0.011016649, 0.010032858, 0.020203484, 0.010717602, 0.010589865, 0.011720821, 0.010484921, 0.010394991, 0.0100130625, 0.010113381, 0.010305848, 0.010231858, 0.009964152, 0.011209547, 0.011251468, 0.010473774, 0.010565773, 0.011223085, 0.01074113, 0.012015255, 0.01048225, 0.012272854, 0.010272819, 0.009727904, 0.0109267, 0.009769141, 0.010007307, 0.010349692, 0.010146029, 0.0111544, 0.010623014, 0.010526731, 0.010251655, 0.010442266, 0.010235026, 0.011084734, 0.011222999, 0.010846063, 0.010135385, 0.010331641, 0.0122443745, 0.010758385, 0.011718235, 0.010551449, 0.011398349, 0.012660385, 0.009816875, 0.01004085, 0.011632798, 0.009777733, 0.0119221, 0.010297581, 0.01096076, 0.0099982275, 0.010614125, 0.010220073, 0.009960077, 0.010829184, 0.012573947, 0.0121191265, 0.01020772]\n",
      "2021-02-18 10:31:01,879 : INFO : merging changes from 1204 documents into a model of 3204 documents\n",
      "2021-02-18 10:31:01,893 : INFO : topic #6 (0.008): 0.001*\"lead\" + 0.001*\"debug\" + 0.001*\"major\" + 0.001*\"divid\" + 0.001*\"column\" + 0.001*\"verifi\" + 0.001*\"repetit\" + 0.001*\"reduc\" + 0.001*\"quit\" + 0.001*\"maximum\"\n",
      "2021-02-18 10:31:01,894 : INFO : topic #62 (0.010): 0.061*\"precis\" + 0.040*\"divis\" + 0.040*\"is\" + 0.034*\",\" + 0.032*\"to\" + 0.031*\"-\" + 0.029*\"stage\" + 0.026*\"and\" + 0.021*\"for\" + 0.018*\"present\"\n",
      "2021-02-18 10:31:01,895 : INFO : topic #15 (0.014): 0.070*\",\" + 0.046*\"and\" + 0.042*\"to\" + 0.024*\"in\" + 0.019*\"is\" + 0.018*\"system\" + 0.017*\"for\" + 0.015*\"comput\" + 0.015*\"-\" + 0.013*\"program\"\n",
      "2021-02-18 10:31:01,895 : INFO : topic #28 (0.014): 0.045*\"to\" + 0.045*\",\" + 0.045*\"is\" + 0.030*\"tree\" + 0.028*\"in\" + 0.026*\"that\" + 0.022*\"and\" + 0.022*\"be\" + 0.017*\"are\" + 0.017*\"search\"\n"
     ]
    },
    {
     "name": "stderr",
     "output_type": "stream",
     "text": [
      "2021-02-18 10:31:01,896 : INFO : topic #41 (0.020): 0.340*\")\" + 0.340*\"(\" + 0.224*\"algorithm\" + 0.009*\"evalu\" + 0.009*\"normal\" + 0.009*\"polynomi\" + 0.007*\"x\" + 0.007*\"integr\" + 0.006*\"find\" + 0.005*\"rule\"\n",
      "2021-02-18 10:31:01,897 : INFO : topic diff=0.641777, rho=0.362690\n",
      "2021-02-18 10:31:01,908 : INFO : PROGRESS: pass 6, at document #2000/3204\n",
      "2021-02-18 10:31:03,563 : INFO : optimized alpha [0.0105057275, 0.011115565, 0.011040611, 0.011254378, 0.011112261, 0.010846811, 0.008088033, 0.011559493, 0.0101539325, 0.010487058, 0.009999992, 0.011013203, 0.011423195, 0.011918878, 0.010111745, 0.013676391, 0.0097727245, 0.009774637, 0.009808067, 0.011097525, 0.011110361, 0.011149469, 0.009797928, 0.011296285, 0.010676807, 0.009973418, 0.012101702, 0.010302287, 0.0141298855, 0.01047722, 0.009826882, 0.011437471, 0.011520546, 0.010302707, 0.010188347, 0.010253583, 0.00983145, 0.009993233, 0.010295239, 0.011081236, 0.010096203, 0.021744, 0.010680775, 0.010613715, 0.011735139, 0.010642618, 0.010482683, 0.010110619, 0.0100698555, 0.0102818515, 0.01018843, 0.0099905515, 0.011269647, 0.011442725, 0.010586353, 0.010590602, 0.011239628, 0.010690149, 0.012085905, 0.010502501, 0.012425817, 0.010327386, 0.009742089, 0.010920392, 0.009751885, 0.009996199, 0.010358388, 0.010144879, 0.011178068, 0.010644004, 0.010598307, 0.010266744, 0.010426442, 0.010238081, 0.011053053, 0.011238814, 0.010892394, 0.01023524, 0.010309406, 0.01278143, 0.010842231, 0.01177535, 0.010641549, 0.011384583, 0.012684875, 0.009921705, 0.0100982785, 0.011836344, 0.009745385, 0.0121693695, 0.010421852, 0.011073258, 0.010039746, 0.010815688, 0.010168033, 0.009964477, 0.010859246, 0.012722793, 0.012196076, 0.010164472]\n",
      "2021-02-18 10:31:03,573 : INFO : merging changes from 2000 documents into a model of 3204 documents\n",
      "2021-02-18 10:31:03,591 : INFO : topic #6 (0.008): 0.001*\"lead\" + 0.001*\"debug\" + 0.001*\"major\" + 0.001*\"divid\" + 0.001*\"column\" + 0.001*\"verifi\" + 0.001*\"repetit\" + 0.001*\"reduc\" + 0.001*\"quit\" + 0.001*\"maximum\"\n",
      "2021-02-18 10:31:03,593 : INFO : topic #62 (0.010): 0.061*\"precis\" + 0.044*\"divis\" + 0.039*\"is\" + 0.035*\",\" + 0.032*\"to\" + 0.031*\"-\" + 0.027*\"and\" + 0.022*\"stage\" + 0.020*\"for\" + 0.019*\"thi\"\n",
      "2021-02-18 10:31:03,593 : INFO : topic #15 (0.014): 0.071*\",\" + 0.045*\"and\" + 0.042*\"to\" + 0.024*\"in\" + 0.019*\"is\" + 0.019*\"system\" + 0.017*\"for\" + 0.016*\"-\" + 0.015*\"comput\" + 0.013*\"program\"\n",
      "2021-02-18 10:31:03,594 : INFO : topic #28 (0.014): 0.046*\"to\" + 0.045*\"is\" + 0.045*\",\" + 0.028*\"in\" + 0.028*\"tree\" + 0.026*\"that\" + 0.022*\"be\" + 0.022*\"and\" + 0.018*\"search\" + 0.017*\"are\"\n",
      "2021-02-18 10:31:03,595 : INFO : topic #41 (0.022): 0.346*\")\" + 0.343*\"(\" + 0.222*\"algorithm\" + 0.010*\"evalu\" + 0.010*\"polynomi\" + 0.009*\"normal\" + 0.007*\"x\" + 0.006*\"integr\" + 0.005*\"find\" + 0.004*\"rule\"\n",
      "2021-02-18 10:31:03,597 : INFO : topic diff=0.555439, rho=0.340958\n",
      "2021-02-18 10:31:05,673 : INFO : -6.434 per-word bound, 86.5 perplexity estimate based on a held-out corpus of 1204 documents with 79462 words\n",
      "2021-02-18 10:31:05,674 : INFO : PROGRESS: pass 6, at document #3204/3204\n",
      "2021-02-18 10:31:07,497 : INFO : optimized alpha [0.010620985, 0.011292351, 0.011183595, 0.011529758, 0.011379269, 0.01102053, 0.0079973, 0.011749985, 0.010282815, 0.010568258, 0.01008542, 0.011148174, 0.011715517, 0.012250224, 0.010231657, 0.013995219, 0.009778309, 0.009851766, 0.009871138, 0.011237778, 0.011370667, 0.011315881, 0.009914211, 0.011462737, 0.010813895, 0.010051202, 0.012346298, 0.010381662, 0.014707207, 0.010676407, 0.009887411, 0.011633799, 0.011853591, 0.010452551, 0.010309717, 0.010319293, 0.009915038, 0.010074402, 0.0104018655, 0.011374573, 0.010158662, 0.023233734, 0.0108462535, 0.010708368, 0.012015823, 0.010704129, 0.010584613, 0.010119081, 0.010142408, 0.010440258, 0.010313803, 0.010090066, 0.01148033, 0.011527278, 0.010665665, 0.010736662, 0.011436428, 0.01080019, 0.012352622, 0.010596729, 0.0129691865, 0.010396642, 0.009787287, 0.011127236, 0.009829038, 0.010067732, 0.010488285, 0.010279595, 0.011433817, 0.010924892, 0.010742315, 0.010417459, 0.010558969, 0.01034285, 0.011222034, 0.011455168, 0.011074582, 0.0103304805, 0.010466018, 0.012874425, 0.011002293, 0.012175214, 0.010743641, 0.01154165, 0.0129346065, 0.009889728, 0.010192142, 0.011980429, 0.0098457225, 0.012439778, 0.010481309, 0.011304835, 0.010097263, 0.010848348, 0.010249024, 0.010018255, 0.011054541, 0.013148253, 0.012524468, 0.010282714]\n",
      "2021-02-18 10:31:07,506 : INFO : merging changes from 1204 documents into a model of 3204 documents\n",
      "2021-02-18 10:31:07,520 : INFO : topic #6 (0.008): 0.001*\"lead\" + 0.001*\"debug\" + 0.001*\"major\" + 0.001*\"divid\" + 0.001*\"column\" + 0.001*\"verifi\" + 0.001*\"repetit\" + 0.001*\"reduc\" + 0.001*\"quit\" + 0.001*\"maximum\"\n",
      "2021-02-18 10:31:07,520 : INFO : topic #16 (0.010): 0.049*\"path\" + 0.046*\"and\" + 0.040*\",\" + 0.039*\"input\" + 0.037*\"right\" + 0.032*\"english\" + 0.028*\"for\" + 0.025*\"left\" + 0.024*\"format\" + 0.024*\"(\"\n",
      "2021-02-18 10:31:07,521 : INFO : topic #15 (0.014): 0.072*\",\" + 0.047*\"and\" + 0.043*\"to\" + 0.023*\"in\" + 0.019*\"is\" + 0.018*\"system\" + 0.017*\"for\" + 0.015*\"comput\" + 0.015*\"-\" + 0.012*\"are\"\n",
      "2021-02-18 10:31:07,521 : INFO : topic #28 (0.015): 0.046*\"to\" + 0.046*\",\" + 0.044*\"is\" + 0.030*\"tree\" + 0.028*\"in\" + 0.026*\"that\" + 0.023*\"be\" + 0.022*\"and\" + 0.017*\"are\" + 0.017*\"search\"\n",
      "2021-02-18 10:31:07,522 : INFO : topic #41 (0.023): 0.350*\")\" + 0.348*\"(\" + 0.219*\"algorithm\" + 0.009*\"normal\" + 0.009*\"evalu\" + 0.009*\"polynomi\" + 0.007*\"x\" + 0.005*\"find\" + 0.004*\"rule\" + 0.004*\"integr\"\n",
      "2021-02-18 10:31:07,523 : INFO : topic diff=0.561646, rho=0.340958\n",
      "2021-02-18 10:31:07,533 : INFO : PROGRESS: pass 7, at document #2000/3204\n",
      "2021-02-18 10:31:09,274 : INFO : optimized alpha [0.0106922425, 0.011308196, 0.011318455, 0.011582059, 0.011381057, 0.011003232, 0.007931531, 0.01178265, 0.010310632, 0.010627418, 0.010086075, 0.011276329, 0.011664537, 0.012389275, 0.01024972, 0.014040963, 0.009849667, 0.00986093, 0.009861168, 0.011353919, 0.011418435, 0.011400459, 0.009964922, 0.011662403, 0.01084753, 0.010062547, 0.012452929, 0.010427744, 0.014702986, 0.010645645, 0.009949876, 0.011755087, 0.012030894, 0.010453382, 0.010273392, 0.01031218, 0.009911124, 0.01007103, 0.010397256, 0.011448362, 0.010227507, 0.024883049, 0.010812532, 0.010727697, 0.012039487, 0.010857111, 0.010680513, 0.010217317, 0.010101924, 0.010423708, 0.010276056, 0.010116819, 0.011540598, 0.011709009, 0.010783775, 0.010768774, 0.011451283, 0.010748628, 0.012424871, 0.010626439, 0.013125513, 0.010445401, 0.009807628, 0.0111257145, 0.009819399, 0.010064228, 0.01049977, 0.010300118, 0.011458645, 0.010968428, 0.010820911, 0.010438111, 0.010552435, 0.010354271, 0.011187817, 0.011486022, 0.011123628, 0.010434247, 0.01044611, 0.013411348, 0.011089059, 0.012241355, 0.010833258, 0.011530129, 0.012954358, 0.009993187, 0.010255147, 0.012187829, 0.009816863, 0.012687481, 0.01060199, 0.01141579, 0.010138695, 0.011056224, 0.01020047, 0.010029429, 0.011089608, 0.01331161, 0.012590204, 0.010240146]\n",
      "2021-02-18 10:31:09,284 : INFO : merging changes from 2000 documents into a model of 3204 documents\n",
      "2021-02-18 10:31:09,300 : INFO : topic #6 (0.008): 0.001*\"lead\" + 0.001*\"debug\" + 0.001*\"major\" + 0.001*\"divid\" + 0.001*\"column\" + 0.001*\"verifi\" + 0.001*\"repetit\" + 0.001*\"reduc\" + 0.001*\"quit\" + 0.001*\"maximum\"\n",
      "2021-02-18 10:31:09,301 : INFO : topic #88 (0.010): 0.166*\"o\" + 0.044*\"comput\" + 0.041*\"human\" + 0.036*\"on\" + 0.031*\"respons\" + 0.031*\"convers\" + 0.030*\"for\" + 0.029*\"understand\" + 0.029*\"is\" + 0.026*\"and\"\n",
      "2021-02-18 10:31:09,302 : INFO : topic #15 (0.014): 0.072*\",\" + 0.046*\"and\" + 0.043*\"to\" + 0.023*\"in\" + 0.019*\"is\" + 0.018*\"system\" + 0.017*\"for\" + 0.015*\"-\" + 0.015*\"comput\" + 0.013*\"are\"\n",
      "2021-02-18 10:31:09,303 : INFO : topic #28 (0.015): 0.047*\"to\" + 0.046*\",\" + 0.045*\"is\" + 0.028*\"tree\" + 0.028*\"in\" + 0.027*\"that\" + 0.023*\"be\" + 0.021*\"and\" + 0.018*\"search\" + 0.017*\"are\"\n",
      "2021-02-18 10:31:09,304 : INFO : topic #41 (0.025): 0.354*\")\" + 0.350*\"(\" + 0.218*\"algorithm\" + 0.009*\"polynomi\" + 0.009*\"evalu\" + 0.009*\"normal\" + 0.007*\"x\" + 0.004*\"by\" + 0.004*\"rule\" + 0.004*\"find\"\n",
      "2021-02-18 10:31:09,305 : INFO : topic diff=0.483583, rho=0.322715\n",
      "2021-02-18 10:31:11,397 : INFO : -6.416 per-word bound, 85.4 perplexity estimate based on a held-out corpus of 1204 documents with 79462 words\n"
     ]
    },
    {
     "name": "stderr",
     "output_type": "stream",
     "text": [
      "2021-02-18 10:31:11,398 : INFO : PROGRESS: pass 7, at document #3204/3204\n",
      "2021-02-18 10:31:13,391 : INFO : optimized alpha [0.010813495, 0.011467779, 0.011451593, 0.011850042, 0.011646821, 0.011175165, 0.00784963, 0.01199035, 0.010447493, 0.010704589, 0.010170346, 0.011407781, 0.011945083, 0.012716576, 0.010372381, 0.014354249, 0.009860423, 0.009945067, 0.009921581, 0.011508918, 0.011662625, 0.011565488, 0.010089555, 0.011814716, 0.010975341, 0.010144914, 0.012667014, 0.010506032, 0.01525196, 0.010841999, 0.010012756, 0.011946092, 0.012379872, 0.01060217, 0.0103950165, 0.010383474, 0.009990873, 0.010151281, 0.010501863, 0.011760262, 0.01028123, 0.026546966, 0.010973378, 0.0108179925, 0.012309192, 0.01092339, 0.010783109, 0.010225049, 0.0101687, 0.0105749555, 0.010395764, 0.010219935, 0.011767301, 0.011794654, 0.010876222, 0.010917083, 0.011642402, 0.010853896, 0.012694316, 0.010733551, 0.013680438, 0.0105196405, 0.009848219, 0.011335634, 0.009893143, 0.010140702, 0.010626689, 0.010448544, 0.011713546, 0.011266422, 0.010967151, 0.010587616, 0.010678874, 0.010465591, 0.011352225, 0.011702567, 0.011291687, 0.010538588, 0.010609835, 0.013494646, 0.011253742, 0.012636136, 0.010930233, 0.011683197, 0.013182495, 0.009962888, 0.010352692, 0.012314534, 0.009910094, 0.01298554, 0.01066654, 0.011656754, 0.010196188, 0.011100717, 0.01028924, 0.0100808665, 0.011276366, 0.013743366, 0.01291019, 0.010350277]\n",
      "2021-02-18 10:31:13,399 : INFO : merging changes from 1204 documents into a model of 3204 documents\n",
      "2021-02-18 10:31:13,412 : INFO : topic #6 (0.008): 0.001*\"lead\" + 0.001*\"debug\" + 0.001*\"major\" + 0.001*\"divid\" + 0.001*\"column\" + 0.001*\"verifi\" + 0.001*\"repetit\" + 0.001*\"reduc\" + 0.001*\"quit\" + 0.001*\"maximum\"\n",
      "2021-02-18 10:31:13,413 : INFO : topic #16 (0.010): 0.048*\"path\" + 0.046*\"and\" + 0.042*\"input\" + 0.041*\",\" + 0.036*\"right\" + 0.032*\"english\" + 0.028*\"for\" + 0.025*\"format\" + 0.024*\"left\" + 0.024*\"famili\"\n",
      "2021-02-18 10:31:13,414 : INFO : topic #15 (0.014): 0.073*\",\" + 0.047*\"and\" + 0.044*\"to\" + 0.023*\"in\" + 0.019*\"is\" + 0.018*\"system\" + 0.017*\"for\" + 0.015*\"comput\" + 0.014*\"-\" + 0.012*\"are\"\n",
      "2021-02-18 10:31:13,414 : INFO : topic #28 (0.015): 0.047*\"to\" + 0.046*\",\" + 0.044*\"is\" + 0.031*\"tree\" + 0.028*\"in\" + 0.027*\"that\" + 0.023*\"be\" + 0.021*\"and\" + 0.017*\"are\" + 0.017*\"search\"\n",
      "2021-02-18 10:31:13,415 : INFO : topic #41 (0.027): 0.356*\")\" + 0.354*\"(\" + 0.218*\"algorithm\" + 0.008*\"normal\" + 0.008*\"polynomi\" + 0.008*\"evalu\" + 0.007*\"x\" + 0.004*\"find\" + 0.004*\"rule\" + 0.003*\"by\"\n",
      "2021-02-18 10:31:13,416 : INFO : topic diff=0.487454, rho=0.322715\n",
      "2021-02-18 10:31:13,426 : INFO : PROGRESS: pass 8, at document #2000/3204\n",
      "2021-02-18 10:31:15,190 : INFO : optimized alpha [0.010885074, 0.011478888, 0.01158324, 0.011908132, 0.011652398, 0.011158087, 0.0077899722, 0.012030477, 0.010478717, 0.010762996, 0.010175895, 0.011527607, 0.011899952, 0.012848121, 0.01038302, 0.014405116, 0.009936824, 0.009953957, 0.00991869, 0.011627653, 0.011707387, 0.011648178, 0.010144396, 0.012009856, 0.011014367, 0.010157543, 0.012768968, 0.010555043, 0.015254382, 0.010815157, 0.010074308, 0.012068277, 0.0125554195, 0.01061419, 0.010362001, 0.010383508, 0.009984351, 0.010154691, 0.0104992, 0.011846873, 0.010360131, 0.028338747, 0.010945847, 0.0108449375, 0.012334312, 0.011060708, 0.010883645, 0.010321095, 0.01013399, 0.010565332, 0.010364673, 0.010253445, 0.011829714, 0.011979054, 0.010996709, 0.010952631, 0.011663045, 0.0108119305, 0.01276848, 0.010765318, 0.013838425, 0.010564803, 0.00987116, 0.011338451, 0.009893396, 0.010140847, 0.01063758, 0.0104760835, 0.011743245, 0.011331554, 0.011050885, 0.01061023, 0.010672549, 0.010483048, 0.01131912, 0.011736684, 0.01134871, 0.010644754, 0.010593655, 0.014022492, 0.011340218, 0.012715137, 0.011023005, 0.01167925, 0.013189977, 0.010062376, 0.010422636, 0.012518956, 0.009884372, 0.013230793, 0.010785901, 0.01176311, 0.010239153, 0.011312005, 0.010248343, 0.010085657, 0.011311059, 0.013908595, 0.012969614, 0.010319604]\n",
      "2021-02-18 10:31:15,202 : INFO : merging changes from 2000 documents into a model of 3204 documents\n",
      "2021-02-18 10:31:15,218 : INFO : topic #6 (0.008): 0.001*\"lead\" + 0.001*\"debug\" + 0.001*\"major\" + 0.001*\"divid\" + 0.001*\"column\" + 0.001*\"verifi\" + 0.001*\"repetit\" + 0.001*\"reduc\" + 0.001*\"quit\" + 0.001*\"maximum\"\n",
      "2021-02-18 10:31:15,219 : INFO : topic #88 (0.010): 0.171*\"o\" + 0.045*\"comput\" + 0.040*\"human\" + 0.038*\"on\" + 0.032*\"respons\" + 0.032*\"convers\" + 0.030*\"for\" + 0.029*\"understand\" + 0.027*\"is\" + 0.025*\"and\"\n",
      "2021-02-18 10:31:15,219 : INFO : topic #15 (0.014): 0.073*\",\" + 0.047*\"and\" + 0.044*\"to\" + 0.023*\"in\" + 0.019*\"is\" + 0.018*\"system\" + 0.017*\"for\" + 0.015*\"comput\" + 0.015*\"-\" + 0.013*\"are\"\n",
      "2021-02-18 10:31:15,220 : INFO : topic #28 (0.015): 0.047*\"to\" + 0.046*\",\" + 0.044*\"is\" + 0.029*\"tree\" + 0.029*\"in\" + 0.027*\"that\" + 0.024*\"be\" + 0.021*\"and\" + 0.018*\"search\" + 0.018*\"are\"\n",
      "2021-02-18 10:31:15,221 : INFO : topic #41 (0.028): 0.359*\")\" + 0.354*\"(\" + 0.217*\"algorithm\" + 0.009*\"polynomi\" + 0.009*\"evalu\" + 0.008*\"normal\" + 0.007*\"x\" + 0.004*\"by\" + 0.004*\"rule\" + 0.003*\"find\"\n",
      "2021-02-18 10:31:15,222 : INFO : topic diff=0.419229, rho=0.307119\n",
      "2021-02-18 10:31:17,194 : INFO : -6.400 per-word bound, 84.4 perplexity estimate based on a held-out corpus of 1204 documents with 79462 words\n",
      "2021-02-18 10:31:17,194 : INFO : PROGRESS: pass 8, at document #3204/3204\n",
      "2021-02-18 10:31:18,997 : INFO : optimized alpha [0.011001277, 0.0116230585, 0.011722624, 0.012182531, 0.0119091235, 0.0113261845, 0.0077154418, 0.012230604, 0.010618316, 0.010839554, 0.010259394, 0.01165344, 0.012176828, 0.013192699, 0.010516762, 0.014703542, 0.009949713, 0.010037311, 0.009969138, 0.011785384, 0.01195503, 0.011815514, 0.010274632, 0.012180202, 0.011151328, 0.010241829, 0.012985135, 0.010632668, 0.015809705, 0.011004145, 0.010142209, 0.01226449, 0.012899144, 0.010767906, 0.010478765, 0.010457428, 0.010063525, 0.010239652, 0.010594184, 0.012172162, 0.010416756, 0.030100798, 0.011103213, 0.010923162, 0.012588277, 0.011126389, 0.010981815, 0.010333516, 0.010206315, 0.010718861, 0.01049305, 0.010370738, 0.012048362, 0.012066166, 0.011107683, 0.011092236, 0.011849702, 0.01091871, 0.013031881, 0.010865207, 0.014389273, 0.010644099, 0.009905226, 0.011529003, 0.009969354, 0.010216944, 0.010762162, 0.010632354, 0.011995298, 0.011650769, 0.011214063, 0.010748311, 0.010788473, 0.010603501, 0.011471062, 0.011936146, 0.011504278, 0.010755491, 0.010756527, 0.014097218, 0.011507046, 0.013109692, 0.011112801, 0.011844508, 0.013422696, 0.010030988, 0.010510624, 0.01264902, 0.009971395, 0.013520078, 0.010855662, 0.012013974, 0.0102968905, 0.011364771, 0.010336414, 0.010130058, 0.011487605, 0.014352058, 0.013279451, 0.010433314]\n",
      "2021-02-18 10:31:19,005 : INFO : merging changes from 1204 documents into a model of 3204 documents\n",
      "2021-02-18 10:31:19,019 : INFO : topic #6 (0.008): 0.001*\"lead\" + 0.001*\"debug\" + 0.001*\"major\" + 0.001*\"divid\" + 0.001*\"column\" + 0.001*\"verifi\" + 0.001*\"repetit\" + 0.001*\"reduc\" + 0.001*\"quit\" + 0.001*\"maximum\"\n",
      "2021-02-18 10:31:19,020 : INFO : topic #62 (0.010): 0.069*\"precis\" + 0.043*\"divis\" + 0.043*\"is\" + 0.037*\"-\" + 0.032*\"stage\" + 0.031*\"to\" + 0.030*\",\" + 0.026*\"and\" + 0.021*\"for\" + 0.020*\"thi\"\n",
      "2021-02-18 10:31:19,021 : INFO : topic #15 (0.015): 0.074*\",\" + 0.048*\"and\" + 0.044*\"to\" + 0.023*\"in\" + 0.019*\"is\" + 0.018*\"system\" + 0.017*\"for\" + 0.015*\"comput\" + 0.014*\"-\" + 0.012*\"are\"\n",
      "2021-02-18 10:31:19,021 : INFO : topic #28 (0.016): 0.048*\"to\" + 0.046*\",\" + 0.043*\"is\" + 0.031*\"tree\" + 0.029*\"in\" + 0.028*\"that\" + 0.024*\"be\" + 0.021*\"and\" + 0.018*\"are\" + 0.017*\"search\"\n",
      "2021-02-18 10:31:19,022 : INFO : topic #41 (0.030): 0.361*\")\" + 0.360*\"(\" + 0.213*\"algorithm\" + 0.008*\"polynomi\" + 0.007*\"normal\" + 0.007*\"evalu\" + 0.007*\"x\" + 0.004*\"rule\" + 0.003*\"find\" + 0.003*\"by\"\n",
      "2021-02-18 10:31:19,023 : INFO : topic diff=0.423659, rho=0.307119\n",
      "2021-02-18 10:31:19,033 : INFO : PROGRESS: pass 9, at document #2000/3204\n",
      "2021-02-18 10:31:20,638 : INFO : optimized alpha [0.011073425, 0.011628311, 0.011855123, 0.0122482795, 0.011911301, 0.01131438, 0.0076609086, 0.012281313, 0.0106560085, 0.010902224, 0.010272585, 0.011764031, 0.01212811, 0.013331065, 0.010531406, 0.0147509575, 0.010027986, 0.010051936, 0.009971245, 0.011896543, 0.012005886, 0.011894988, 0.010342659, 0.012362668, 0.01119708, 0.010254067, 0.013094688, 0.0106799435, 0.015813658, 0.010984209, 0.010201644, 0.012393304, 0.013069481, 0.010782163, 0.010453406, 0.010456262, 0.010054543, 0.01024917, 0.010594977, 0.012273356, 0.010496021, 0.03198343, 0.011078022, 0.0109525565, 0.012614954, 0.01126248, 0.011082165, 0.010424725, 0.01017818, 0.010714037, 0.010466307, 0.010402867, 0.012102378, 0.012248348, 0.011234043, 0.011136159, 0.011870603, 0.01087887, 0.013106154, 0.010902309, 0.014543077, 0.0106923245, 0.009924774, 0.011531085, 0.009971313, 0.010221909, 0.010778924, 0.010668023, 0.01202797, 0.011743673, 0.011304593, 0.010771324, 0.010790338, 0.010627964, 0.011440754, 0.011964727, 0.011558887, 0.010859672, 0.010742087, 0.014625331, 0.011590195, 0.013188142, 0.011194059, 0.011849221, 0.013438918, 0.010128569, 0.010582735, 0.012856925, 0.009947039, 0.01376746, 0.010967876, 0.012116272, 0.010342985, 0.0115885995, 0.010300774, 0.01013216, 0.011523757, 0.014521903, 0.013333235, 0.010408641]\n"
     ]
    },
    {
     "name": "stderr",
     "output_type": "stream",
     "text": [
      "2021-02-18 10:31:20,647 : INFO : merging changes from 2000 documents into a model of 3204 documents\n",
      "2021-02-18 10:31:20,668 : INFO : topic #6 (0.008): 0.001*\"lead\" + 0.001*\"debug\" + 0.001*\"major\" + 0.001*\"divid\" + 0.001*\"column\" + 0.001*\"verifi\" + 0.001*\"repetit\" + 0.001*\"reduc\" + 0.001*\"quit\" + 0.001*\"maximum\"\n",
      "2021-02-18 10:31:20,669 : INFO : topic #62 (0.010): 0.069*\"precis\" + 0.045*\"divis\" + 0.042*\"is\" + 0.036*\"-\" + 0.032*\"to\" + 0.031*\",\" + 0.026*\"and\" + 0.026*\"stage\" + 0.020*\"for\" + 0.020*\"thi\"\n",
      "2021-02-18 10:31:20,670 : INFO : topic #15 (0.015): 0.074*\",\" + 0.048*\"and\" + 0.044*\"to\" + 0.023*\"in\" + 0.019*\"is\" + 0.018*\"system\" + 0.017*\"for\" + 0.015*\"comput\" + 0.014*\"-\" + 0.012*\"are\"\n",
      "2021-02-18 10:31:20,671 : INFO : topic #28 (0.016): 0.048*\"to\" + 0.046*\",\" + 0.044*\"is\" + 0.029*\"tree\" + 0.029*\"in\" + 0.028*\"that\" + 0.025*\"be\" + 0.021*\"and\" + 0.018*\"search\" + 0.018*\"are\"\n",
      "2021-02-18 10:31:20,671 : INFO : topic #41 (0.032): 0.363*\")\" + 0.359*\"(\" + 0.213*\"algorithm\" + 0.009*\"polynomi\" + 0.008*\"evalu\" + 0.008*\"normal\" + 0.006*\"x\" + 0.004*\"by\" + 0.003*\"rule\" + 0.003*\"multipl\"\n",
      "2021-02-18 10:31:20,673 : INFO : topic diff=0.365611, rho=0.293585\n",
      "2021-02-18 10:31:22,651 : INFO : -6.387 per-word bound, 83.7 perplexity estimate based on a held-out corpus of 1204 documents with 79462 words\n",
      "2021-02-18 10:31:22,652 : INFO : PROGRESS: pass 9, at document #3204/3204\n",
      "2021-02-18 10:31:24,418 : INFO : optimized alpha [0.011182392, 0.011769962, 0.012003681, 0.012514687, 0.012168882, 0.011484913, 0.0075925444, 0.012477758, 0.01080644, 0.010973037, 0.010353086, 0.011882004, 0.012393621, 0.013670762, 0.010670678, 0.015028526, 0.010045216, 0.010132198, 0.010022459, 0.012057281, 0.012237127, 0.012053414, 0.010473494, 0.012517533, 0.011348592, 0.010337778, 0.0133067155, 0.010762297, 0.016337086, 0.011174932, 0.0102669075, 0.012579793, 0.013395939, 0.010927791, 0.010576271, 0.0105301775, 0.010133306, 0.010336051, 0.010691714, 0.012619211, 0.01054501, 0.033805285, 0.011235163, 0.011030478, 0.012870265, 0.011322163, 0.011189927, 0.0104388995, 0.0102505265, 0.010870034, 0.01059783, 0.010515895, 0.01232267, 0.012334131, 0.011340684, 0.011284629, 0.012041842, 0.01097918, 0.013357989, 0.0110092005, 0.015097542, 0.010778948, 0.009957838, 0.011720754, 0.010051876, 0.010292726, 0.010909711, 0.0108429175, 0.012272244, 0.012073496, 0.011456624, 0.01090703, 0.01090198, 0.010741409, 0.01159863, 0.012172097, 0.011708834, 0.010976599, 0.010901872, 0.014645247, 0.011762456, 0.013583662, 0.011280169, 0.012011416, 0.013663973, 0.010098533, 0.010672352, 0.012981231, 0.010033449, 0.014055554, 0.011037177, 0.01237179, 0.010398404, 0.011652191, 0.010390761, 0.010172629, 0.011694022, 0.0149531495, 0.0136372885, 0.010525915]\n",
      "2021-02-18 10:31:24,427 : INFO : merging changes from 1204 documents into a model of 3204 documents\n",
      "2021-02-18 10:31:24,441 : INFO : topic #6 (0.008): 0.001*\"lead\" + 0.001*\"debug\" + 0.001*\"major\" + 0.001*\"divid\" + 0.001*\"column\" + 0.001*\"verifi\" + 0.001*\"repetit\" + 0.001*\"reduc\" + 0.001*\"quit\" + 0.001*\"maximum\"\n",
      "2021-02-18 10:31:24,442 : INFO : topic #62 (0.010): 0.071*\"precis\" + 0.043*\"divis\" + 0.043*\"is\" + 0.038*\"-\" + 0.033*\"stage\" + 0.032*\"to\" + 0.029*\",\" + 0.025*\"and\" + 0.021*\"for\" + 0.020*\"techniqu\"\n",
      "2021-02-18 10:31:24,443 : INFO : topic #60 (0.015): 0.341*\"s\" + 0.312*\"'\" + 0.067*\"algorithm\" + 0.061*\"$\" + 0.060*\"paramet\" + 0.054*\"))\" + 0.022*\"and\" + 0.017*\"(\" + 0.014*\"for\" + 0.012*\"characterist\"\n",
      "2021-02-18 10:31:24,444 : INFO : topic #28 (0.016): 0.048*\"to\" + 0.046*\",\" + 0.043*\"is\" + 0.032*\"tree\" + 0.029*\"in\" + 0.028*\"that\" + 0.025*\"be\" + 0.020*\"and\" + 0.018*\"are\" + 0.018*\"search\"\n",
      "2021-02-18 10:31:24,445 : INFO : topic #41 (0.034): 0.365*\"(\" + 0.364*\")\" + 0.210*\"algorithm\" + 0.008*\"polynomi\" + 0.007*\"normal\" + 0.007*\"evalu\" + 0.007*\"x\" + 0.003*\"rule\" + 0.003*\"by\" + 0.003*\"graph\"\n",
      "2021-02-18 10:31:24,447 : INFO : topic diff=0.371905, rho=0.293585\n",
      "2021-02-18 10:31:24,456 : INFO : PROGRESS: pass 10, at document #2000/3204\n",
      "2021-02-18 10:31:26,063 : INFO : optimized alpha [0.011255249, 0.011776413, 0.012139034, 0.012573815, 0.012178269, 0.011474673, 0.007542362, 0.012528059, 0.010845551, 0.011030558, 0.010367424, 0.011987376, 0.012348552, 0.013804459, 0.010689015, 0.01507971, 0.010128306, 0.010147801, 0.010027761, 0.012171752, 0.012287116, 0.012130057, 0.010545269, 0.0126844365, 0.011416547, 0.010349694, 0.013408722, 0.010807996, 0.016336119, 0.011159744, 0.010327365, 0.012708282, 0.013563534, 0.010942835, 0.010553367, 0.0105322795, 0.010126324, 0.010349806, 0.0106956, 0.012729461, 0.01062183, 0.03576283, 0.011210526, 0.01106221, 0.012898543, 0.011452575, 0.011295087, 0.010525791, 0.010223964, 0.010864945, 0.010571933, 0.010543854, 0.012384484, 0.0125147635, 0.011466659, 0.011328473, 0.012066583, 0.01094116, 0.01343472, 0.011038704, 0.01525369, 0.010830127, 0.009978534, 0.011722035, 0.010059626, 0.01029778, 0.010925681, 0.010889348, 0.012306147, 0.012211006, 0.011545816, 0.010928965, 0.0108990725, 0.010766483, 0.011567444, 0.012207561, 0.011759664, 0.011083732, 0.010889035, 0.01517538, 0.011845921, 0.013657801, 0.011361997, 0.0120189795, 0.013676671, 0.010193073, 0.010745137, 0.013191233, 0.010011663, 0.014305751, 0.011146006, 0.012470402, 0.01044455, 0.011890466, 0.010358312, 0.01017513, 0.011730054, 0.01511757, 0.013687733, 0.01050664]\n",
      "2021-02-18 10:31:26,073 : INFO : merging changes from 2000 documents into a model of 3204 documents\n",
      "2021-02-18 10:31:26,092 : INFO : topic #6 (0.008): 0.001*\"lead\" + 0.001*\"debug\" + 0.001*\"major\" + 0.001*\"divid\" + 0.001*\"column\" + 0.001*\"verifi\" + 0.001*\"repetit\" + 0.001*\"reduc\" + 0.001*\"quit\" + 0.001*\"maximum\"\n",
      "2021-02-18 10:31:26,093 : INFO : topic #62 (0.010): 0.070*\"precis\" + 0.046*\"divis\" + 0.042*\"is\" + 0.038*\"-\" + 0.032*\"to\" + 0.030*\",\" + 0.026*\"stage\" + 0.026*\"and\" + 0.021*\"techniqu\" + 0.021*\"thi\"\n",
      "2021-02-18 10:31:26,094 : INFO : topic #60 (0.015): 0.349*\"s\" + 0.319*\"'\" + 0.062*\"algorithm\" + 0.058*\"paramet\" + 0.056*\"$\" + 0.049*\"))\" + 0.022*\"and\" + 0.017*\"(\" + 0.014*\"for\" + 0.012*\"characterist\"\n",
      "2021-02-18 10:31:26,096 : INFO : topic #28 (0.016): 0.049*\"to\" + 0.046*\",\" + 0.043*\"is\" + 0.030*\"tree\" + 0.029*\"in\" + 0.028*\"that\" + 0.025*\"be\" + 0.020*\"and\" + 0.018*\"search\" + 0.018*\"are\"\n",
      "2021-02-18 10:31:26,097 : INFO : topic #41 (0.036): 0.366*\")\" + 0.363*\"(\" + 0.210*\"algorithm\" + 0.009*\"polynomi\" + 0.008*\"evalu\" + 0.007*\"normal\" + 0.006*\"x\" + 0.004*\"by\" + 0.003*\"rule\" + 0.003*\"multipl\"\n",
      "2021-02-18 10:31:26,099 : INFO : topic diff=0.321979, rho=0.281696\n",
      "2021-02-18 10:31:28,105 : INFO : -6.375 per-word bound, 83.0 perplexity estimate based on a held-out corpus of 1204 documents with 79462 words\n",
      "2021-02-18 10:31:28,106 : INFO : PROGRESS: pass 10, at document #3204/3204\n",
      "2021-02-18 10:31:29,844 : INFO : optimized alpha [0.01136046, 0.011907653, 0.0122825755, 0.012836218, 0.012434626, 0.011639923, 0.0074792956, 0.0127394805, 0.0109938765, 0.011101421, 0.0104477415, 0.012098267, 0.012606659, 0.014143326, 0.010844021, 0.015359828, 0.010147235, 0.010223071, 0.010077459, 0.012324414, 0.012514809, 0.012286184, 0.010704578, 0.012828003, 0.01156062, 0.010433175, 0.013610999, 0.0108875, 0.016848752, 0.011352693, 0.010390298, 0.012891955, 0.013898874, 0.011094131, 0.01067728, 0.010606364, 0.010209568, 0.0104362415, 0.0107942205, 0.013093921, 0.010684028, 0.03762182, 0.011367897, 0.011147902, 0.013140552, 0.011509464, 0.011404348, 0.010539288, 0.010298939, 0.011021177, 0.010701728, 0.0106581645, 0.012613107, 0.012599556, 0.0115803145, 0.011477688, 0.012235041, 0.011046071, 0.013676248, 0.011144672, 0.015795115, 0.010913655, 0.0100107305, 0.011903146, 0.010142259, 0.010366302, 0.011062687, 0.011066958, 0.012537843, 0.012573234, 0.011701314, 0.011062762, 0.011007063, 0.010878791, 0.011722936, 0.012417379, 0.011910247, 0.011204453, 0.011051563, 0.015159426, 0.012015606, 0.014048866, 0.011447547, 0.012178878, 0.013894623, 0.010164272, 0.010831571, 0.013316516, 0.010095311, 0.014596788, 0.011212532, 0.012725269, 0.010502914, 0.011958863, 0.010447863, 0.010219345, 0.011897566, 0.015534004, 0.013980571, 0.010620064]\n",
      "2021-02-18 10:31:29,852 : INFO : merging changes from 1204 documents into a model of 3204 documents\n",
      "2021-02-18 10:31:29,866 : INFO : topic #6 (0.007): 0.001*\"lead\" + 0.001*\"debug\" + 0.001*\"major\" + 0.001*\"divid\" + 0.001*\"column\" + 0.001*\"verifi\" + 0.001*\"repetit\" + 0.001*\"reduc\" + 0.001*\"quit\" + 0.001*\"maximum\"\n"
     ]
    },
    {
     "name": "stderr",
     "output_type": "stream",
     "text": [
      "2021-02-18 10:31:29,867 : INFO : topic #62 (0.010): 0.072*\"precis\" + 0.044*\"divis\" + 0.044*\"is\" + 0.040*\"-\" + 0.033*\"stage\" + 0.032*\"to\" + 0.029*\",\" + 0.025*\"and\" + 0.022*\"techniqu\" + 0.021*\"for\"\n",
      "2021-02-18 10:31:29,868 : INFO : topic #60 (0.016): 0.348*\"s\" + 0.318*\"'\" + 0.064*\"algorithm\" + 0.061*\"$\" + 0.059*\"paramet\" + 0.054*\"))\" + 0.021*\"and\" + 0.015*\"(\" + 0.013*\"for\" + 0.011*\"associ\"\n",
      "2021-02-18 10:31:29,868 : INFO : topic #28 (0.017): 0.049*\"to\" + 0.046*\",\" + 0.043*\"is\" + 0.032*\"tree\" + 0.030*\"in\" + 0.028*\"that\" + 0.025*\"be\" + 0.020*\"and\" + 0.018*\"search\" + 0.018*\"are\"\n",
      "2021-02-18 10:31:29,869 : INFO : topic #41 (0.038): 0.368*\"(\" + 0.366*\")\" + 0.208*\"algorithm\" + 0.008*\"polynomi\" + 0.007*\"normal\" + 0.007*\"evalu\" + 0.006*\"x\" + 0.003*\"by\" + 0.003*\"rule\" + 0.003*\"type\"\n",
      "2021-02-18 10:31:29,870 : INFO : topic diff=0.329465, rho=0.281696\n",
      "2021-02-18 10:31:29,880 : INFO : PROGRESS: pass 11, at document #2000/3204\n",
      "2021-02-18 10:31:31,406 : INFO : optimized alpha [0.011432623, 0.011912118, 0.012415982, 0.0129013, 0.0124458205, 0.011631159, 0.0074328743, 0.012792707, 0.01103154, 0.011161773, 0.010460338, 0.012203827, 0.012558132, 0.014290038, 0.0108584, 0.0154037075, 0.010235018, 0.010238297, 0.0100829825, 0.012435651, 0.012562473, 0.01236525, 0.010786013, 0.012990629, 0.011635883, 0.010449074, 0.013711528, 0.010933289, 0.016840998, 0.011338839, 0.010454645, 0.013014932, 0.014067783, 0.011112944, 0.010657999, 0.010608675, 0.010200223, 0.010452474, 0.010801019, 0.013213476, 0.010767447, 0.03964148, 0.0113452915, 0.011178677, 0.013161462, 0.0116394125, 0.011511272, 0.010626589, 0.0102765225, 0.011023324, 0.0106765805, 0.010686559, 0.012679211, 0.012777431, 0.0117171435, 0.011524712, 0.012263572, 0.011014199, 0.01375355, 0.01117319, 0.015951848, 0.010964781, 0.010032506, 0.011902125, 0.010149858, 0.010370038, 0.011083983, 0.011113138, 0.012573188, 0.012714315, 0.0117879035, 0.01108521, 0.011005743, 0.010902957, 0.011700569, 0.012456074, 0.011960879, 0.011311612, 0.011040262, 0.01568568, 0.012094697, 0.014120892, 0.011530102, 0.0121892635, 0.013913777, 0.010254777, 0.010908104, 0.0135199865, 0.0100786695, 0.014850409, 0.011321425, 0.012815262, 0.010547751, 0.012202232, 0.010415435, 0.010220809, 0.011940042, 0.015697481, 0.01403187, 0.010605798]\n",
      "2021-02-18 10:31:31,416 : INFO : merging changes from 2000 documents into a model of 3204 documents\n",
      "2021-02-18 10:31:31,434 : INFO : topic #6 (0.007): 0.001*\"lead\" + 0.001*\"debug\" + 0.001*\"major\" + 0.001*\"divid\" + 0.001*\"column\" + 0.001*\"verifi\" + 0.001*\"repetit\" + 0.001*\"reduc\" + 0.001*\"quit\" + 0.001*\"maximum\"\n",
      "2021-02-18 10:31:31,435 : INFO : topic #62 (0.010): 0.071*\"precis\" + 0.046*\"divis\" + 0.043*\"is\" + 0.039*\"-\" + 0.033*\"to\" + 0.029*\",\" + 0.027*\"stage\" + 0.026*\"and\" + 0.022*\"techniqu\" + 0.021*\"thi\"\n",
      "2021-02-18 10:31:31,436 : INFO : topic #60 (0.016): 0.354*\"s\" + 0.325*\"'\" + 0.059*\"algorithm\" + 0.058*\"paramet\" + 0.056*\"$\" + 0.049*\"))\" + 0.021*\"and\" + 0.015*\"(\" + 0.014*\"for\" + 0.011*\"associ\"\n",
      "2021-02-18 10:31:31,436 : INFO : topic #28 (0.017): 0.049*\"to\" + 0.046*\",\" + 0.043*\"is\" + 0.030*\"tree\" + 0.030*\"in\" + 0.029*\"that\" + 0.026*\"be\" + 0.020*\"and\" + 0.018*\"search\" + 0.018*\"are\"\n",
      "2021-02-18 10:31:31,437 : INFO : topic #41 (0.040): 0.368*\")\" + 0.366*\"(\" + 0.208*\"algorithm\" + 0.009*\"polynomi\" + 0.007*\"evalu\" + 0.007*\"normal\" + 0.006*\"x\" + 0.004*\"by\" + 0.003*\"rule\" + 0.002*\"type\"\n",
      "2021-02-18 10:31:31,438 : INFO : topic diff=0.286481, rho=0.271143\n",
      "2021-02-18 10:31:33,360 : INFO : -6.365 per-word bound, 82.4 perplexity estimate based on a held-out corpus of 1204 documents with 79462 words\n",
      "2021-02-18 10:31:33,360 : INFO : PROGRESS: pass 11, at document #3204/3204\n",
      "2021-02-18 10:31:34,987 : INFO : optimized alpha [0.011539633, 0.012033959, 0.012563633, 0.0131575335, 0.012698756, 0.011794363, 0.0073743938, 0.013004526, 0.011175763, 0.011230308, 0.010540635, 0.012313706, 0.012806682, 0.014638911, 0.011016517, 0.015676295, 0.010253189, 0.010313597, 0.010133607, 0.012583733, 0.0127842445, 0.012522422, 0.010946289, 0.013138222, 0.011775967, 0.010527706, 0.013917622, 0.011010271, 0.017356044, 0.01152404, 0.010517861, 0.013205224, 0.014406533, 0.011262375, 0.010775855, 0.0106782075, 0.010278694, 0.010533846, 0.010899203, 0.013588318, 0.010827502, 0.041538805, 0.011495489, 0.011266814, 0.013394196, 0.0116992, 0.011619691, 0.01063949, 0.010347037, 0.011172606, 0.010800153, 0.010795085, 0.012893329, 0.012864392, 0.011824396, 0.01167243, 0.012427181, 0.0111237075, 0.013995064, 0.011270888, 0.016487677, 0.011048093, 0.010066229, 0.01207823, 0.0102300495, 0.010436602, 0.011222202, 0.011283615, 0.012810338, 0.013098667, 0.0119363, 0.011207474, 0.01111307, 0.011024344, 0.011854302, 0.012654688, 0.012101609, 0.011431172, 0.011208171, 0.015656495, 0.012262326, 0.0145050455, 0.011615285, 0.012347375, 0.014132197, 0.010229428, 0.010994193, 0.013643752, 0.010159914, 0.015145117, 0.011390594, 0.013078635, 0.010608974, 0.012280899, 0.010504793, 0.01026396, 0.012110891, 0.016106745, 0.014317617, 0.010723147]\n",
      "2021-02-18 10:31:34,995 : INFO : merging changes from 1204 documents into a model of 3204 documents\n",
      "2021-02-18 10:31:35,009 : INFO : topic #6 (0.007): 0.001*\"lead\" + 0.001*\"debug\" + 0.001*\"major\" + 0.001*\"divid\" + 0.001*\"column\" + 0.001*\"verifi\" + 0.001*\"repetit\" + 0.001*\"reduc\" + 0.001*\"quit\" + 0.001*\"maximum\"\n",
      "2021-02-18 10:31:35,010 : INFO : topic #62 (0.010): 0.072*\"precis\" + 0.044*\"is\" + 0.044*\"divis\" + 0.041*\"-\" + 0.033*\"stage\" + 0.032*\"to\" + 0.028*\",\" + 0.025*\"and\" + 0.023*\"techniqu\" + 0.021*\"for\"\n",
      "2021-02-18 10:31:35,011 : INFO : topic #60 (0.016): 0.353*\"s\" + 0.324*\"'\" + 0.061*\"$\" + 0.061*\"algorithm\" + 0.058*\"paramet\" + 0.054*\"))\" + 0.020*\"and\" + 0.013*\"for\" + 0.013*\"(\" + 0.010*\"associ\"\n",
      "2021-02-18 10:31:35,012 : INFO : topic #28 (0.017): 0.049*\"to\" + 0.046*\",\" + 0.042*\"is\" + 0.032*\"tree\" + 0.030*\"in\" + 0.029*\"that\" + 0.025*\"be\" + 0.020*\"and\" + 0.018*\"search\" + 0.018*\"are\"\n",
      "2021-02-18 10:31:35,012 : INFO : topic #41 (0.042): 0.371*\"(\" + 0.368*\")\" + 0.206*\"algorithm\" + 0.008*\"polynomi\" + 0.006*\"x\" + 0.006*\"evalu\" + 0.006*\"normal\" + 0.003*\"by\" + 0.003*\"type\" + 0.003*\"rule\"\n",
      "2021-02-18 10:31:35,013 : INFO : topic diff=0.293663, rho=0.271143\n",
      "2021-02-18 10:31:35,023 : INFO : PROGRESS: pass 12, at document #2000/3204\n",
      "2021-02-18 10:31:36,546 : INFO : optimized alpha [0.011612776, 0.0120397685, 0.012690481, 0.013214777, 0.012705039, 0.011788552, 0.0073312535, 0.013053871, 0.011216555, 0.011286148, 0.010555723, 0.0124228895, 0.012759982, 0.014783631, 0.011037302, 0.015723977, 0.010345566, 0.01032717, 0.010139306, 0.012695325, 0.012828086, 0.012597552, 0.011041577, 0.013300465, 0.011847647, 0.010544586, 0.01401892, 0.011053414, 0.01734388, 0.011514547, 0.010581905, 0.013326834, 0.0145695275, 0.011284774, 0.010762859, 0.010682133, 0.010271167, 0.010555297, 0.010908718, 0.013721068, 0.010911626, 0.043614365, 0.011474759, 0.011296775, 0.013420692, 0.011825961, 0.011727017, 0.010723163, 0.010328467, 0.0111787375, 0.01077856, 0.010828226, 0.012960345, 0.013041633, 0.011961207, 0.011728742, 0.012457731, 0.01109441, 0.014069428, 0.011300103, 0.016638853, 0.011100687, 0.010086364, 0.012078308, 0.010240192, 0.010445964, 0.011242655, 0.011337155, 0.012846967, 0.01326099, 0.012022067, 0.011231972, 0.011111729, 0.011052064, 0.011834002, 0.0126949875, 0.012149015, 0.011544619, 0.011199647, 0.016173216, 0.012345374, 0.014577094, 0.011697065, 0.012363715, 0.01414414, 0.010318961, 0.011071561, 0.013848291, 0.01014269, 0.015402568, 0.011499744, 0.013175978, 0.010652668, 0.012533074, 0.010475085, 0.010268471, 0.01215013, 0.016269607, 0.01436614, 0.010712083]\n",
      "2021-02-18 10:31:36,558 : INFO : merging changes from 2000 documents into a model of 3204 documents\n",
      "2021-02-18 10:31:36,572 : INFO : topic #6 (0.007): 0.001*\"lead\" + 0.001*\"debug\" + 0.001*\"major\" + 0.001*\"divid\" + 0.001*\"column\" + 0.001*\"verifi\" + 0.001*\"repetit\" + 0.001*\"reduc\" + 0.001*\"quit\" + 0.001*\"maximum\"\n",
      "2021-02-18 10:31:36,574 : INFO : topic #88 (0.010): 0.178*\"o\" + 0.047*\"comput\" + 0.042*\"on\" + 0.040*\"respons\" + 0.039*\"i\" + 0.033*\"convers\" + 0.029*\"human\" + 0.028*\"understand\" + 0.028*\"for\" + 0.025*\"is\"\n",
      "2021-02-18 10:31:36,575 : INFO : topic #60 (0.017): 0.359*\"s\" + 0.330*\"'\" + 0.057*\"algorithm\" + 0.057*\"paramet\" + 0.057*\"$\" + 0.049*\"))\" + 0.020*\"and\" + 0.013*\"for\" + 0.013*\"(\" + 0.011*\"associ\"\n"
     ]
    },
    {
     "name": "stderr",
     "output_type": "stream",
     "text": [
      "2021-02-18 10:31:36,576 : INFO : topic #28 (0.017): 0.050*\"to\" + 0.046*\",\" + 0.043*\"is\" + 0.031*\"tree\" + 0.030*\"in\" + 0.029*\"that\" + 0.026*\"be\" + 0.020*\"and\" + 0.018*\"search\" + 0.018*\"are\"\n",
      "2021-02-18 10:31:36,576 : INFO : topic #41 (0.044): 0.370*\")\" + 0.368*\"(\" + 0.206*\"algorithm\" + 0.008*\"polynomi\" + 0.007*\"evalu\" + 0.007*\"normal\" + 0.006*\"x\" + 0.003*\"by\" + 0.003*\"rule\" + 0.002*\"type\"\n",
      "2021-02-18 10:31:36,578 : INFO : topic diff=0.256958, rho=0.261694\n",
      "2021-02-18 10:31:38,487 : INFO : -6.355 per-word bound, 81.8 perplexity estimate based on a held-out corpus of 1204 documents with 79462 words\n",
      "2021-02-18 10:31:38,488 : INFO : PROGRESS: pass 12, at document #3204/3204\n",
      "2021-02-18 10:31:40,194 : INFO : optimized alpha [0.011724218, 0.0121659795, 0.012830982, 0.013459551, 0.012952252, 0.011955113, 0.0072767423, 0.013257765, 0.011361955, 0.011352589, 0.01063835, 0.012531964, 0.013007972, 0.015162398, 0.011198666, 0.015996771, 0.010362959, 0.01040033, 0.010188613, 0.012841932, 0.013047233, 0.012750422, 0.011205537, 0.013443462, 0.011997052, 0.010621006, 0.014229251, 0.011130518, 0.017838504, 0.011700229, 0.010643155, 0.013509243, 0.014902501, 0.011437733, 0.010875158, 0.010749757, 0.010358647, 0.010632023, 0.01100419, 0.014110613, 0.010972104, 0.045506347, 0.011618252, 0.011382389, 0.013650673, 0.011883366, 0.011832142, 0.0107355025, 0.010399429, 0.011333859, 0.010903483, 0.010933734, 0.013169306, 0.013130773, 0.01206763, 0.011877762, 0.012611417, 0.011200977, 0.014301954, 0.011397513, 0.017169178, 0.0111863045, 0.010119288, 0.012252535, 0.010320378, 0.010508394, 0.01137975, 0.011498588, 0.013075764, 0.013666014, 0.01217706, 0.011348345, 0.011218526, 0.011175005, 0.0119941, 0.012891433, 0.012288476, 0.011668215, 0.011360836, 0.016127376, 0.012513962, 0.014948483, 0.01177451, 0.012514838, 0.014347288, 0.010294429, 0.011159847, 0.013967487, 0.010226173, 0.015697861, 0.011568934, 0.013434137, 0.01071905, 0.012621793, 0.010566592, 0.010310517, 0.012319017, 0.016693536, 0.014648592, 0.010833351]\n",
      "2021-02-18 10:31:40,203 : INFO : merging changes from 1204 documents into a model of 3204 documents\n",
      "2021-02-18 10:31:40,217 : INFO : topic #6 (0.007): 0.001*\"lead\" + 0.001*\"debug\" + 0.001*\"major\" + 0.001*\"divid\" + 0.001*\"column\" + 0.001*\"verifi\" + 0.001*\"repetit\" + 0.001*\"reduc\" + 0.001*\"quit\" + 0.001*\"maximum\"\n",
      "2021-02-18 10:31:40,218 : INFO : topic #62 (0.010): 0.073*\"precis\" + 0.045*\"divis\" + 0.045*\"is\" + 0.042*\"-\" + 0.033*\"stage\" + 0.032*\"to\" + 0.028*\",\" + 0.025*\"and\" + 0.024*\"techniqu\" + 0.021*\"thi\"\n",
      "2021-02-18 10:31:40,219 : INFO : topic #60 (0.017): 0.357*\"s\" + 0.329*\"'\" + 0.061*\"$\" + 0.058*\"algorithm\" + 0.058*\"paramet\" + 0.054*\"))\" + 0.018*\"and\" + 0.013*\"for\" + 0.011*\"(\" + 0.010*\"associ\"\n",
      "2021-02-18 10:31:40,220 : INFO : topic #28 (0.018): 0.049*\"to\" + 0.046*\",\" + 0.042*\"is\" + 0.033*\"tree\" + 0.030*\"in\" + 0.029*\"that\" + 0.026*\"be\" + 0.020*\"and\" + 0.018*\"search\" + 0.018*\"are\"\n",
      "2021-02-18 10:31:40,221 : INFO : topic #41 (0.046): 0.373*\"(\" + 0.370*\")\" + 0.205*\"algorithm\" + 0.008*\"polynomi\" + 0.006*\"x\" + 0.006*\"evalu\" + 0.006*\"normal\" + 0.003*\"by\" + 0.003*\"type\" + 0.003*\"rule\"\n",
      "2021-02-18 10:31:40,222 : INFO : topic diff=0.264396, rho=0.261694\n",
      "2021-02-18 10:31:40,231 : INFO : PROGRESS: pass 13, at document #2000/3204\n",
      "2021-02-18 10:31:41,729 : INFO : optimized alpha [0.011799939, 0.012177688, 0.012953267, 0.013517863, 0.012960569, 0.011952064, 0.007236494, 0.013301841, 0.011402881, 0.011405638, 0.01065582, 0.012640108, 0.012961267, 0.015307066, 0.011222744, 0.01604195, 0.010459793, 0.010416287, 0.010195748, 0.01294921, 0.013085842, 0.012829915, 0.011310216, 0.013598725, 0.012071455, 0.0106389215, 0.014334856, 0.011176753, 0.017824767, 0.0116903195, 0.010702958, 0.013624358, 0.015061727, 0.011464994, 0.010866688, 0.010753808, 0.010350125, 0.010654416, 0.0110120475, 0.014242126, 0.011055618, 0.047629103, 0.011599379, 0.011415918, 0.013679082, 0.012008735, 0.011935477, 0.010818569, 0.010384383, 0.011336577, 0.010883821, 0.010967335, 0.013237354, 0.013309394, 0.012210761, 0.01192794, 0.012642369, 0.0111741135, 0.01437737, 0.011425902, 0.01731486, 0.011241777, 0.010141811, 0.012253618, 0.01033166, 0.010517716, 0.011399419, 0.011551982, 0.0131088765, 0.013850185, 0.012259019, 0.011369181, 0.011218642, 0.011207609, 0.011980119, 0.012930029, 0.012335982, 0.011773217, 0.011353559, 0.016632704, 0.0125962645, 0.015018835, 0.011855802, 0.012538481, 0.014354513, 0.010383101, 0.011235324, 0.0141718, 0.010212273, 0.015953286, 0.011674094, 0.013526919, 0.010761658, 0.012881708, 0.010539317, 0.010315293, 0.012356777, 0.016862355, 0.01469641, 0.010832195]\n",
      "2021-02-18 10:31:41,741 : INFO : merging changes from 2000 documents into a model of 3204 documents\n",
      "2021-02-18 10:31:41,759 : INFO : topic #6 (0.007): 0.001*\"lead\" + 0.001*\"debug\" + 0.001*\"major\" + 0.001*\"divid\" + 0.001*\"column\" + 0.001*\"verifi\" + 0.001*\"repetit\" + 0.001*\"reduc\" + 0.001*\"quit\" + 0.001*\"maximum\"\n",
      "2021-02-18 10:31:41,760 : INFO : topic #88 (0.010): 0.177*\"o\" + 0.049*\"comput\" + 0.045*\"i\" + 0.043*\"on\" + 0.041*\"respons\" + 0.032*\"convers\" + 0.028*\"human\" + 0.028*\"for\" + 0.028*\"understand\" + 0.026*\"small\"\n",
      "2021-02-18 10:31:41,761 : INFO : topic #60 (0.017): 0.363*\"s\" + 0.335*\"'\" + 0.057*\"$\" + 0.056*\"paramet\" + 0.055*\"algorithm\" + 0.049*\"))\" + 0.019*\"and\" + 0.013*\"for\" + 0.011*\"(\" + 0.010*\"associ\"\n",
      "2021-02-18 10:31:41,762 : INFO : topic #28 (0.018): 0.050*\"to\" + 0.046*\",\" + 0.043*\"is\" + 0.031*\"tree\" + 0.030*\"in\" + 0.029*\"that\" + 0.026*\"be\" + 0.020*\"and\" + 0.019*\"search\" + 0.018*\"are\"\n",
      "2021-02-18 10:31:41,763 : INFO : topic #41 (0.048): 0.371*\"(\" + 0.371*\")\" + 0.206*\"algorithm\" + 0.008*\"polynomi\" + 0.007*\"evalu\" + 0.006*\"normal\" + 0.006*\"x\" + 0.003*\"by\" + 0.003*\"rule\" + 0.002*\"type\"\n",
      "2021-02-18 10:31:41,765 : INFO : topic diff=0.232773, rho=0.253169\n",
      "2021-02-18 10:31:43,713 : INFO : -6.349 per-word bound, 81.5 perplexity estimate based on a held-out corpus of 1204 documents with 79462 words\n",
      "2021-02-18 10:31:43,714 : INFO : PROGRESS: pass 13, at document #3204/3204\n",
      "2021-02-18 10:31:45,496 : INFO : optimized alpha [0.011915914, 0.012300771, 0.0130927395, 0.013763286, 0.013205454, 0.012109613, 0.007185502, 0.013509716, 0.011542428, 0.011470193, 0.0107453875, 0.012746028, 0.013198224, 0.015680827, 0.011382852, 0.016305028, 0.0104809245, 0.010487589, 0.010246085, 0.013092022, 0.013302928, 0.012981669, 0.011487786, 0.013737617, 0.012222382, 0.010715673, 0.014543407, 0.011254082, 0.018303756, 0.011871749, 0.010762484, 0.013805293, 0.015399011, 0.0116046965, 0.010980792, 0.010822004, 0.010428893, 0.010729162, 0.011112147, 0.014631467, 0.011107234, 0.049497735, 0.011739406, 0.011506548, 0.013903984, 0.0120665915, 0.012037648, 0.010830456, 0.010458065, 0.01148803, 0.011003329, 0.01107709, 0.01344167, 0.01339252, 0.012319151, 0.012081042, 0.012800324, 0.011294866, 0.014607802, 0.011518375, 0.017836357, 0.011329718, 0.010176221, 0.012423645, 0.010416351, 0.010583085, 0.011525877, 0.01172463, 0.013332779, 0.014268554, 0.01240775, 0.0114849275, 0.011320405, 0.011325165, 0.012138915, 0.013133087, 0.012474517, 0.011903529, 0.011518189, 0.016574852, 0.012763512, 0.015378111, 0.0119384825, 0.012694034, 0.014555927, 0.010361601, 0.01132589, 0.014287021, 0.010293678, 0.016249806, 0.011741095, 0.013783153, 0.01082401, 0.012974949, 0.010621879, 0.010360835, 0.0125190215, 0.017262345, 0.014979296, 0.010950535]\n",
      "2021-02-18 10:31:45,505 : INFO : merging changes from 1204 documents into a model of 3204 documents\n",
      "2021-02-18 10:31:45,520 : INFO : topic #6 (0.007): 0.001*\"lead\" + 0.001*\"debug\" + 0.001*\"major\" + 0.001*\"divid\" + 0.001*\"column\" + 0.001*\"verifi\" + 0.001*\"repetit\" + 0.001*\"reduc\" + 0.001*\"quit\" + 0.001*\"maximum\"\n",
      "2021-02-18 10:31:45,521 : INFO : topic #62 (0.010): 0.074*\"precis\" + 0.045*\"divis\" + 0.045*\"is\" + 0.042*\"-\" + 0.033*\"stage\" + 0.032*\"to\" + 0.027*\",\" + 0.025*\"techniqu\" + 0.025*\"and\" + 0.021*\"thi\"\n",
      "2021-02-18 10:31:45,522 : INFO : topic #60 (0.018): 0.361*\"s\" + 0.333*\"'\" + 0.062*\"$\" + 0.057*\"paramet\" + 0.056*\"algorithm\" + 0.054*\"))\" + 0.018*\"and\" + 0.013*\"for\" + 0.010*\"(\" + 0.009*\"associ\"\n",
      "2021-02-18 10:31:45,523 : INFO : topic #28 (0.018): 0.050*\"to\" + 0.046*\",\" + 0.043*\"is\" + 0.033*\"tree\" + 0.030*\"in\" + 0.030*\"that\" + 0.026*\"be\" + 0.020*\"and\" + 0.018*\"search\" + 0.018*\"are\"\n"
     ]
    },
    {
     "name": "stderr",
     "output_type": "stream",
     "text": [
      "2021-02-18 10:31:45,524 : INFO : topic #41 (0.049): 0.375*\"(\" + 0.371*\")\" + 0.204*\"algorithm\" + 0.007*\"polynomi\" + 0.007*\"x\" + 0.006*\"evalu\" + 0.006*\"normal\" + 0.003*\"by\" + 0.003*\"type\" + 0.002*\"rule\"\n",
      "2021-02-18 10:31:45,525 : INFO : topic diff=0.239817, rho=0.253169\n",
      "2021-02-18 10:31:45,536 : INFO : PROGRESS: pass 14, at document #2000/3204\n",
      "2021-02-18 10:31:47,190 : INFO : optimized alpha [0.011989803, 0.012321061, 0.013212356, 0.0138192605, 0.013217388, 0.012106276, 0.0071477997, 0.013562157, 0.011585022, 0.011526246, 0.0107624335, 0.012851814, 0.013151601, 0.015835468, 0.011407357, 0.016347978, 0.010575809, 0.010504545, 0.010257074, 0.013196787, 0.013341441, 0.013055915, 0.011594778, 0.013891451, 0.012300947, 0.010731907, 0.014651703, 0.0112992525, 0.018288666, 0.011867358, 0.010819632, 0.013919396, 0.01555837, 0.011631058, 0.010972477, 0.010823496, 0.010423295, 0.010749688, 0.011124015, 0.014765464, 0.011194411, 0.05162719, 0.011719294, 0.011536433, 0.013936003, 0.012189343, 0.012140301, 0.010913034, 0.010444979, 0.011491672, 0.010984084, 0.011111088, 0.013509278, 0.013574391, 0.012459606, 0.012137336, 0.01283327, 0.011271504, 0.014682555, 0.011544654, 0.017978862, 0.011383883, 0.010198429, 0.012425738, 0.010429932, 0.010591089, 0.0115549285, 0.011777961, 0.013360832, 0.014464598, 0.012490759, 0.011505056, 0.011319158, 0.011362486, 0.012124957, 0.013170088, 0.012522183, 0.012006313, 0.011510651, 0.017081335, 0.012846829, 0.015450751, 0.012020903, 0.012719935, 0.014565932, 0.010450887, 0.011402467, 0.014491316, 0.010282816, 0.016505806, 0.011848362, 0.0138783995, 0.010866957, 0.013241409, 0.010596951, 0.010365807, 0.012555472, 0.017435236, 0.01502464, 0.010956063]\n",
      "2021-02-18 10:31:47,206 : INFO : merging changes from 2000 documents into a model of 3204 documents\n",
      "2021-02-18 10:31:47,229 : INFO : topic #6 (0.007): 0.001*\"lead\" + 0.001*\"debug\" + 0.001*\"major\" + 0.001*\"divid\" + 0.001*\"column\" + 0.001*\"verifi\" + 0.001*\"repetit\" + 0.001*\"reduc\" + 0.001*\"quit\" + 0.001*\"maximum\"\n",
      "2021-02-18 10:31:47,230 : INFO : topic #62 (0.010): 0.074*\"precis\" + 0.048*\"divis\" + 0.045*\"is\" + 0.042*\"-\" + 0.033*\"to\" + 0.028*\",\" + 0.027*\"stage\" + 0.025*\"and\" + 0.025*\"techniqu\" + 0.022*\"thi\"\n",
      "2021-02-18 10:31:47,231 : INFO : topic #60 (0.018): 0.366*\"s\" + 0.339*\"'\" + 0.057*\"$\" + 0.056*\"paramet\" + 0.052*\"algorithm\" + 0.050*\"))\" + 0.018*\"and\" + 0.013*\"for\" + 0.010*\"associ\" + 0.009*\"(\"\n",
      "2021-02-18 10:31:47,233 : INFO : topic #28 (0.018): 0.050*\"to\" + 0.046*\",\" + 0.043*\"is\" + 0.031*\"tree\" + 0.030*\"in\" + 0.030*\"that\" + 0.027*\"be\" + 0.019*\"and\" + 0.019*\"search\" + 0.018*\"are\"\n",
      "2021-02-18 10:31:47,234 : INFO : topic #41 (0.052): 0.373*\"(\" + 0.373*\")\" + 0.205*\"algorithm\" + 0.008*\"polynomi\" + 0.007*\"evalu\" + 0.006*\"x\" + 0.006*\"normal\" + 0.003*\"by\" + 0.002*\"type\" + 0.002*\"rule\"\n",
      "2021-02-18 10:31:47,236 : INFO : topic diff=0.212680, rho=0.245426\n",
      "2021-02-18 10:31:49,140 : INFO : -6.342 per-word bound, 81.1 perplexity estimate based on a held-out corpus of 1204 documents with 79462 words\n",
      "2021-02-18 10:31:49,141 : INFO : PROGRESS: pass 14, at document #3204/3204\n",
      "2021-02-18 10:31:50,747 : INFO : optimized alpha [0.012107814, 0.012441165, 0.013348311, 0.014062895, 0.013454958, 0.01226528, 0.0070999195, 0.013763042, 0.011723796, 0.0115891015, 0.0108498745, 0.012952224, 0.013378103, 0.016221112, 0.011564048, 0.01661225, 0.010602666, 0.0105719995, 0.010306302, 0.013327979, 0.013556801, 0.013209518, 0.0117812725, 0.014029304, 0.012456241, 0.010811226, 0.01486189, 0.0113769155, 0.01875656, 0.012057306, 0.010882001, 0.014104824, 0.01589396, 0.011772386, 0.011083952, 0.010892389, 0.010504421, 0.010822645, 0.0112263905, 0.015176856, 0.0112513555, 0.05345821, 0.011858487, 0.011620123, 0.014147709, 0.012242732, 0.012239782, 0.010924489, 0.01051484, 0.011639745, 0.0111008715, 0.011220538, 0.013709278, 0.013660023, 0.012575309, 0.012297274, 0.01298742, 0.011398656, 0.014911238, 0.011642069, 0.018491572, 0.011467287, 0.010232154, 0.012591928, 0.010512598, 0.010657102, 0.011685647, 0.011947211, 0.013591104, 0.014903044, 0.012636189, 0.011622765, 0.011423158, 0.011479652, 0.012287735, 0.013363419, 0.012652303, 0.012133518, 0.01167407, 0.017032783, 0.013010387, 0.015807673, 0.012098818, 0.012869286, 0.014778185, 0.010427847, 0.011493025, 0.0145997675, 0.010362326, 0.01678676, 0.011915809, 0.014138545, 0.010927726, 0.01334187, 0.010679786, 0.010410375, 0.012714047, 0.017833214, 0.015302156, 0.011076183]\n",
      "2021-02-18 10:31:50,756 : INFO : merging changes from 1204 documents into a model of 3204 documents\n",
      "2021-02-18 10:31:50,772 : INFO : topic #6 (0.007): 0.001*\"lead\" + 0.001*\"debug\" + 0.001*\"major\" + 0.001*\"divid\" + 0.001*\"column\" + 0.001*\"verifi\" + 0.001*\"repetit\" + 0.001*\"reduc\" + 0.001*\"quit\" + 0.001*\"maximum\"\n",
      "2021-02-18 10:31:50,773 : INFO : topic #62 (0.010): 0.074*\"precis\" + 0.046*\"divis\" + 0.046*\"is\" + 0.043*\"-\" + 0.033*\"stage\" + 0.032*\"to\" + 0.027*\",\" + 0.026*\"techniqu\" + 0.025*\"and\" + 0.022*\"thi\"\n",
      "2021-02-18 10:31:50,774 : INFO : topic #60 (0.018): 0.364*\"s\" + 0.337*\"'\" + 0.062*\"$\" + 0.056*\"paramet\" + 0.055*\"))\" + 0.054*\"algorithm\" + 0.017*\"and\" + 0.013*\"for\" + 0.009*\"associ\" + 0.008*\"(\"\n",
      "2021-02-18 10:31:50,775 : INFO : topic #28 (0.019): 0.050*\"to\" + 0.046*\",\" + 0.043*\"is\" + 0.033*\"tree\" + 0.031*\"in\" + 0.030*\"that\" + 0.026*\"be\" + 0.019*\"and\" + 0.018*\"search\" + 0.018*\"are\"\n",
      "2021-02-18 10:31:50,776 : INFO : topic #41 (0.053): 0.378*\"(\" + 0.373*\")\" + 0.203*\"algorithm\" + 0.007*\"polynomi\" + 0.007*\"x\" + 0.006*\"evalu\" + 0.006*\"normal\" + 0.003*\"type\" + 0.003*\"by\" + 0.002*\"graph\"\n",
      "2021-02-18 10:31:50,777 : INFO : topic diff=0.218747, rho=0.245426\n",
      "2021-02-18 10:31:50,786 : INFO : PROGRESS: pass 15, at document #2000/3204\n",
      "2021-02-18 10:31:52,495 : INFO : optimized alpha [0.012182961, 0.012459389, 0.013467061, 0.014115123, 0.013465543, 0.0122601045, 0.0070644785, 0.013805395, 0.011765152, 0.011642579, 0.01086912, 0.013058909, 0.01333639, 0.016372204, 0.011591735, 0.01665492, 0.010698265, 0.010588648, 0.010318488, 0.013432149, 0.013593637, 0.013285099, 0.011899232, 0.014186897, 0.012534611, 0.010829727, 0.014974803, 0.011421105, 0.018728636, 0.012058193, 0.010945718, 0.014221506, 0.01605556, 0.011800739, 0.011077141, 0.010892742, 0.010497858, 0.010842781, 0.011240621, 0.015321158, 0.011340818, 0.055592813, 0.011837246, 0.011652162, 0.014176598, 0.012367439, 0.012338884, 0.0110040745, 0.0105036255, 0.011647118, 0.011084747, 0.011255032, 0.013781403, 0.013840458, 0.012716365, 0.012356591, 0.013017752, 0.011373022, 0.014983621, 0.01167053, 0.018626582, 0.011520244, 0.010257798, 0.012597983, 0.010525893, 0.010665086, 0.011709603, 0.012000508, 0.013617616, 0.015115095, 0.012717294, 0.0116477655, 0.011421937, 0.011514653, 0.012281211, 0.013402191, 0.012694132, 0.012241433, 0.01166625, 0.017532963, 0.013091697, 0.015877096, 0.0121823605, 0.012895904, 0.014781738, 0.010515315, 0.011570743, 0.0147989895, 0.01035439, 0.017043326, 0.012022413, 0.014234587, 0.0109711075, 0.013607382, 0.010654419, 0.0104167685, 0.012750783, 0.018010525, 0.01534523, 0.01108811]\n",
      "2021-02-18 10:31:52,509 : INFO : merging changes from 2000 documents into a model of 3204 documents\n",
      "2021-02-18 10:31:52,536 : INFO : topic #6 (0.007): 0.001*\"lead\" + 0.001*\"debug\" + 0.001*\"major\" + 0.001*\"divid\" + 0.001*\"column\" + 0.001*\"verifi\" + 0.001*\"repetit\" + 0.001*\"reduc\" + 0.001*\"quit\" + 0.001*\"maximum\"\n",
      "2021-02-18 10:31:52,538 : INFO : topic #62 (0.010): 0.074*\"precis\" + 0.048*\"divis\" + 0.045*\"is\" + 0.042*\"-\" + 0.033*\"to\" + 0.028*\"stage\" + 0.028*\",\" + 0.025*\"techniqu\" + 0.025*\"and\" + 0.022*\"thi\"\n",
      "2021-02-18 10:31:52,540 : INFO : topic #60 (0.019): 0.370*\"s\" + 0.343*\"'\" + 0.058*\"$\" + 0.055*\"paramet\" + 0.051*\"algorithm\" + 0.050*\"))\" + 0.017*\"and\" + 0.013*\"for\" + 0.009*\"associ\" + 0.008*\"(\"\n",
      "2021-02-18 10:31:52,541 : INFO : topic #28 (0.019): 0.051*\"to\" + 0.046*\",\" + 0.043*\"is\" + 0.032*\"tree\" + 0.031*\"in\" + 0.030*\"that\" + 0.027*\"be\" + 0.019*\"and\" + 0.019*\"search\" + 0.018*\"are\"\n",
      "2021-02-18 10:31:52,543 : INFO : topic #41 (0.056): 0.375*\"(\" + 0.373*\")\" + 0.204*\"algorithm\" + 0.008*\"polynomi\" + 0.007*\"evalu\" + 0.006*\"x\" + 0.006*\"normal\" + 0.003*\"by\" + 0.002*\"type\" + 0.002*\"bessel\"\n",
      "2021-02-18 10:31:52,545 : INFO : topic diff=0.195389, rho=0.238352\n",
      "2021-02-18 10:31:54,925 : INFO : -6.335 per-word bound, 80.7 perplexity estimate based on a held-out corpus of 1204 documents with 79462 words\n"
     ]
    },
    {
     "name": "stderr",
     "output_type": "stream",
     "text": [
      "2021-02-18 10:31:54,927 : INFO : PROGRESS: pass 15, at document #3204/3204\n",
      "2021-02-18 10:31:56,853 : INFO : optimized alpha [0.012295881, 0.012581833, 0.013607819, 0.014357264, 0.013696128, 0.012420752, 0.007019373, 0.01400238, 0.011901131, 0.011703881, 0.010952432, 0.013156669, 0.013555751, 0.016763609, 0.011749984, 0.016914142, 0.010726368, 0.010660907, 0.010370777, 0.013557476, 0.013804919, 0.013438061, 0.012087794, 0.014335072, 0.012694386, 0.01091166, 0.015165497, 0.01150144, 0.019170454, 0.012251963, 0.011006571, 0.014403073, 0.016399281, 0.011946186, 0.011179558, 0.010962368, 0.010575177, 0.010916226, 0.011340798, 0.0157402, 0.011398469, 0.057350673, 0.011973495, 0.011740941, 0.014386916, 0.012419018, 0.012433415, 0.011015148, 0.010574137, 0.011794409, 0.011203414, 0.011366619, 0.013977286, 0.0139205, 0.012821552, 0.012530832, 0.013179058, 0.011499612, 0.01521093, 0.011763396, 0.019134218, 0.011608466, 0.010294926, 0.012763279, 0.010604634, 0.010729654, 0.011847005, 0.012176344, 0.013843625, 0.015574625, 0.012867225, 0.011758246, 0.011528232, 0.011636224, 0.012448046, 0.0135889165, 0.012821352, 0.0123657985, 0.011823969, 0.017486397, 0.013249242, 0.016216204, 0.012270305, 0.0130421035, 0.014989767, 0.010494975, 0.011661424, 0.0149010345, 0.010434279, 0.017325887, 0.012095073, 0.014501937, 0.011030437, 0.0137125645, 0.010735496, 0.010468746, 0.012911103, 0.018410379, 0.015620924, 0.0112079]\n",
      "2021-02-18 10:31:56,862 : INFO : merging changes from 1204 documents into a model of 3204 documents\n",
      "2021-02-18 10:31:56,877 : INFO : topic #6 (0.007): 0.001*\"lead\" + 0.001*\"debug\" + 0.001*\"major\" + 0.001*\"divid\" + 0.001*\"column\" + 0.001*\"verifi\" + 0.001*\"repetit\" + 0.001*\"reduc\" + 0.001*\"quit\" + 0.001*\"maximum\"\n",
      "2021-02-18 10:31:56,878 : INFO : topic #62 (0.010): 0.075*\"precis\" + 0.046*\"divis\" + 0.046*\"is\" + 0.043*\"-\" + 0.033*\"stage\" + 0.032*\"to\" + 0.027*\"techniqu\" + 0.026*\",\" + 0.025*\"and\" + 0.022*\"thi\"\n",
      "2021-02-18 10:31:56,878 : INFO : topic #28 (0.019): 0.050*\"to\" + 0.046*\",\" + 0.043*\"is\" + 0.033*\"tree\" + 0.031*\"in\" + 0.030*\"that\" + 0.027*\"be\" + 0.019*\"and\" + 0.019*\"search\" + 0.018*\"are\"\n",
      "2021-02-18 10:31:56,880 : INFO : topic #60 (0.019): 0.367*\"s\" + 0.340*\"'\" + 0.062*\"$\" + 0.056*\"paramet\" + 0.055*\"))\" + 0.052*\"algorithm\" + 0.016*\"and\" + 0.013*\"for\" + 0.008*\"associ\" + 0.007*\"(\"\n",
      "2021-02-18 10:31:56,881 : INFO : topic #41 (0.057): 0.379*\"(\" + 0.373*\")\" + 0.203*\"algorithm\" + 0.007*\"polynomi\" + 0.007*\"x\" + 0.006*\"evalu\" + 0.005*\"normal\" + 0.003*\"type\" + 0.002*\"by\" + 0.001*\"find\"\n",
      "2021-02-18 10:31:56,882 : INFO : topic diff=0.201561, rho=0.238352\n",
      "2021-02-18 10:31:56,892 : INFO : PROGRESS: pass 16, at document #2000/3204\n",
      "2021-02-18 10:31:58,438 : INFO : optimized alpha [0.012368023, 0.012602424, 0.013724287, 0.014410789, 0.013702299, 0.012415264, 0.0069859624, 0.014048272, 0.011937216, 0.011757678, 0.010973859, 0.0132613005, 0.01351565, 0.016922908, 0.011782161, 0.016954973, 0.010825276, 0.010673531, 0.010381696, 0.013656393, 0.013838622, 0.013508728, 0.012213982, 0.014493225, 0.012778606, 0.010925956, 0.015290407, 0.011546043, 0.019148897, 0.012250713, 0.011071618, 0.014517327, 0.01656135, 0.011976392, 0.011172885, 0.010964169, 0.010571347, 0.010939818, 0.0113640325, 0.015887383, 0.011492959, 0.05945896, 0.01194974, 0.011773667, 0.014417807, 0.012541502, 0.012533597, 0.011094517, 0.01056588, 0.011798531, 0.011186216, 0.011404234, 0.014047378, 0.014096437, 0.01295888, 0.012591664, 0.013209823, 0.011474454, 0.015284606, 0.011792558, 0.019266307, 0.011662993, 0.01031902, 0.012768662, 0.01061645, 0.010738844, 0.011877142, 0.012229656, 0.013868645, 0.01579429, 0.01294801, 0.011785321, 0.011531042, 0.011679897, 0.012438259, 0.01362951, 0.012866583, 0.012476042, 0.011818637, 0.017984698, 0.013328683, 0.016282607, 0.012352234, 0.013067854, 0.014997764, 0.0105807865, 0.011737622, 0.015100748, 0.010425418, 0.017587297, 0.01219834, 0.014598856, 0.011072957, 0.013982154, 0.01071348, 0.010476433, 0.012948178, 0.018590072, 0.015661841, 0.011216809]\n",
      "2021-02-18 10:31:58,447 : INFO : merging changes from 2000 documents into a model of 3204 documents\n",
      "2021-02-18 10:31:58,464 : INFO : topic #6 (0.007): 0.001*\"lead\" + 0.001*\"debug\" + 0.001*\"major\" + 0.001*\"divid\" + 0.001*\"column\" + 0.001*\"verifi\" + 0.001*\"repetit\" + 0.001*\"reduc\" + 0.001*\"quit\" + 0.001*\"maximum\"\n",
      "2021-02-18 10:31:58,465 : INFO : topic #62 (0.010): 0.075*\"precis\" + 0.048*\"divis\" + 0.045*\"is\" + 0.043*\"-\" + 0.033*\"to\" + 0.028*\"stage\" + 0.027*\",\" + 0.026*\"techniqu\" + 0.025*\"and\" + 0.023*\"thi\"\n",
      "2021-02-18 10:31:58,466 : INFO : topic #28 (0.019): 0.051*\"to\" + 0.046*\",\" + 0.043*\"is\" + 0.032*\"tree\" + 0.031*\"in\" + 0.030*\"that\" + 0.027*\"be\" + 0.019*\"and\" + 0.019*\"search\" + 0.018*\"are\"\n",
      "2021-02-18 10:31:58,469 : INFO : topic #60 (0.019): 0.372*\"s\" + 0.346*\"'\" + 0.058*\"$\" + 0.055*\"paramet\" + 0.050*\"))\" + 0.049*\"algorithm\" + 0.016*\"and\" + 0.013*\"for\" + 0.009*\"associ\" + 0.007*\"(\"\n",
      "2021-02-18 10:31:58,470 : INFO : topic #41 (0.059): 0.377*\"(\" + 0.374*\")\" + 0.203*\"algorithm\" + 0.008*\"polynomi\" + 0.007*\"evalu\" + 0.006*\"x\" + 0.006*\"normal\" + 0.003*\"by\" + 0.002*\"type\" + 0.002*\"bessel\"\n",
      "2021-02-18 10:31:58,472 : INFO : topic diff=0.181018, rho=0.231857\n",
      "2021-02-18 10:32:00,272 : INFO : -6.330 per-word bound, 80.4 perplexity estimate based on a held-out corpus of 1204 documents with 79462 words\n",
      "2021-02-18 10:32:00,273 : INFO : PROGRESS: pass 16, at document #3204/3204\n",
      "2021-02-18 10:32:01,766 : INFO : optimized alpha [0.012483192, 0.012722214, 0.013859239, 0.014643217, 0.013928967, 0.012570359, 0.0069433367, 0.014244306, 0.012075099, 0.011815252, 0.0110617755, 0.013361668, 0.013733478, 0.017333848, 0.011937474, 0.017212672, 0.010854543, 0.0107421875, 0.010428903, 0.013773507, 0.014051463, 0.013663856, 0.01240712, 0.014635047, 0.0129404655, 0.011008259, 0.015498463, 0.011624583, 0.019599358, 0.012438777, 0.011137427, 0.014700823, 0.016907144, 0.012121341, 0.011284042, 0.011034549, 0.010649066, 0.011018086, 0.011464354, 0.016317302, 0.01155354, 0.06113222, 0.012083187, 0.0118559105, 0.01463555, 0.012591391, 0.012628233, 0.011105188, 0.010637023, 0.011942956, 0.011304668, 0.011513464, 0.014247745, 0.014171005, 0.013066552, 0.012763001, 0.013367847, 0.0116053, 0.015516679, 0.011883411, 0.019768864, 0.011744684, 0.010353422, 0.012935754, 0.010693506, 0.010802044, 0.01201653, 0.012400049, 0.014087957, 0.016276082, 0.013089978, 0.011900255, 0.0116283875, 0.011801341, 0.012597071, 0.01381265, 0.012991041, 0.012607238, 0.011975657, 0.017936591, 0.013480429, 0.016604135, 0.012440391, 0.013211008, 0.015192813, 0.010558875, 0.01182394, 0.015199477, 0.010503707, 0.017864741, 0.012266711, 0.014870843, 0.011130916, 0.01408391, 0.010799167, 0.010529382, 0.01311777, 0.018992156, 0.015923638, 0.01133197]\n",
      "2021-02-18 10:32:01,775 : INFO : merging changes from 1204 documents into a model of 3204 documents\n",
      "2021-02-18 10:32:01,790 : INFO : topic #6 (0.007): 0.001*\"lead\" + 0.001*\"debug\" + 0.001*\"major\" + 0.001*\"divid\" + 0.001*\"column\" + 0.001*\"verifi\" + 0.001*\"repetit\" + 0.001*\"reduc\" + 0.001*\"quit\" + 0.001*\"maximum\"\n",
      "2021-02-18 10:32:01,791 : INFO : topic #62 (0.010): 0.076*\"precis\" + 0.046*\"divis\" + 0.046*\"is\" + 0.044*\"-\" + 0.033*\"stage\" + 0.032*\"to\" + 0.027*\"techniqu\" + 0.026*\",\" + 0.025*\"and\" + 0.022*\"thi\"\n",
      "2021-02-18 10:32:01,792 : INFO : topic #28 (0.020): 0.051*\"to\" + 0.046*\",\" + 0.043*\"is\" + 0.033*\"tree\" + 0.031*\"in\" + 0.030*\"that\" + 0.027*\"be\" + 0.019*\"and\" + 0.019*\"search\" + 0.018*\"are\"\n",
      "2021-02-18 10:32:01,792 : INFO : topic #60 (0.020): 0.370*\"s\" + 0.343*\"'\" + 0.063*\"$\" + 0.056*\"paramet\" + 0.055*\"))\" + 0.051*\"algorithm\" + 0.016*\"and\" + 0.012*\"for\" + 0.008*\"associ\" + 0.006*\"(\"\n",
      "2021-02-18 10:32:01,793 : INFO : topic #41 (0.061): 0.381*\"(\" + 0.374*\")\" + 0.202*\"algorithm\" + 0.007*\"polynomi\" + 0.007*\"x\" + 0.006*\"evalu\" + 0.005*\"normal\" + 0.003*\"type\" + 0.002*\"by\" + 0.001*\"find\"\n",
      "2021-02-18 10:32:01,794 : INFO : topic diff=0.186621, rho=0.231857\n",
      "2021-02-18 10:32:01,804 : INFO : PROGRESS: pass 17, at document #2000/3204\n",
      "2021-02-18 10:32:03,201 : INFO : optimized alpha [0.012555325, 0.012740766, 0.013971983, 0.014693192, 0.013933963, 0.012563174, 0.006911753, 0.014283825, 0.012112969, 0.0118680615, 0.011085244, 0.013459875, 0.013691782, 0.01749764, 0.011971407, 0.017261522, 0.010954304, 0.010757081, 0.0104374075, 0.0138721205, 0.014082112, 0.013740579, 0.012541712, 0.014788999, 0.013030452, 0.011026051, 0.015620972, 0.011666993, 0.01957475, 0.012436903, 0.011203817, 0.014814429, 0.017062178, 0.012152024, 0.011283845, 0.011041519, 0.010645398, 0.011043734, 0.011492374, 0.016478898, 0.011645127, 0.063236654, 0.0120597705, 0.011888039, 0.014668323, 0.012714663, 0.012726672, 0.011183149, 0.010631538, 0.011952071, 0.011285117, 0.011547605, 0.014319256, 0.014345938, 0.013209147, 0.01282242, 0.013393003, 0.011584527, 0.015586419, 0.01191201, 0.019895878, 0.011799473, 0.010377229, 0.012940606, 0.010707556, 0.010813642, 0.0120389005, 0.012453421, 0.014109928, 0.016505364, 0.013170628, 0.011926625, 0.011629851, 0.011850808, 0.012587099, 0.013850337, 0.013036721, 0.012717049, 0.01197275, 0.01842549, 0.013559669, 0.016667739, 0.012523603, 0.013245167, 0.015196469, 0.010643137, 0.011897367, 0.015398054, 0.010496348, 0.018116977, 0.012368224, 0.014962049, 0.011172676, 0.014352983, 0.010780272, 0.010537091, 0.01315664, 0.019176595, 0.015964387, 0.011345726]\n"
     ]
    },
    {
     "name": "stderr",
     "output_type": "stream",
     "text": [
      "2021-02-18 10:32:03,213 : INFO : merging changes from 2000 documents into a model of 3204 documents\n",
      "2021-02-18 10:32:03,228 : INFO : topic #6 (0.007): 0.001*\"lead\" + 0.001*\"debug\" + 0.001*\"major\" + 0.001*\"divid\" + 0.001*\"column\" + 0.001*\"verifi\" + 0.001*\"repetit\" + 0.001*\"reduc\" + 0.001*\"quit\" + 0.001*\"maximum\"\n",
      "2021-02-18 10:32:03,230 : INFO : topic #62 (0.010): 0.076*\"precis\" + 0.048*\"divis\" + 0.045*\"is\" + 0.043*\"-\" + 0.033*\"to\" + 0.028*\"stage\" + 0.027*\",\" + 0.026*\"techniqu\" + 0.025*\"and\" + 0.023*\"thi\"\n",
      "2021-02-18 10:32:03,231 : INFO : topic #28 (0.020): 0.051*\"to\" + 0.046*\",\" + 0.044*\"is\" + 0.032*\"tree\" + 0.031*\"in\" + 0.030*\"that\" + 0.027*\"be\" + 0.019*\"and\" + 0.019*\"search\" + 0.018*\"are\"\n",
      "2021-02-18 10:32:03,232 : INFO : topic #60 (0.020): 0.374*\"s\" + 0.349*\"'\" + 0.058*\"$\" + 0.055*\"paramet\" + 0.051*\"))\" + 0.048*\"algorithm\" + 0.016*\"and\" + 0.013*\"for\" + 0.009*\"associ\" + 0.006*\"(\"\n",
      "2021-02-18 10:32:03,233 : INFO : topic #41 (0.063): 0.379*\"(\" + 0.374*\")\" + 0.203*\"algorithm\" + 0.007*\"polynomi\" + 0.007*\"evalu\" + 0.006*\"x\" + 0.006*\"normal\" + 0.002*\"by\" + 0.002*\"type\" + 0.002*\"bessel\"\n",
      "2021-02-18 10:32:03,235 : INFO : topic diff=0.168412, rho=0.225865\n",
      "2021-02-18 10:32:04,958 : INFO : -6.326 per-word bound, 80.2 perplexity estimate based on a held-out corpus of 1204 documents with 79462 words\n",
      "2021-02-18 10:32:04,958 : INFO : PROGRESS: pass 17, at document #3204/3204\n",
      "2021-02-18 10:32:06,595 : INFO : optimized alpha [0.012668187, 0.012855759, 0.0141067505, 0.014924658, 0.014156905, 0.012710658, 0.006871377, 0.014482136, 0.012248375, 0.011924361, 0.011177758, 0.013565566, 0.013905803, 0.017918592, 0.012133152, 0.017524859, 0.010984774, 0.010824409, 0.010483721, 0.013991855, 0.014291377, 0.013884969, 0.012727865, 0.014933101, 0.013204597, 0.011112943, 0.015819432, 0.011743902, 0.020030875, 0.012622017, 0.01126818, 0.014988952, 0.017403891, 0.012296643, 0.011392932, 0.011112636, 0.010723631, 0.011120373, 0.011590732, 0.016923817, 0.011710825, 0.06488371, 0.012192978, 0.011966376, 0.014879565, 0.012765323, 0.012816692, 0.011193494, 0.0106993085, 0.012098347, 0.011403464, 0.011652546, 0.014505293, 0.0144234365, 0.013319268, 0.013000761, 0.013548177, 0.011719653, 0.015811574, 0.012003312, 0.020397283, 0.011883818, 0.010413037, 0.013112034, 0.010783104, 0.010875626, 0.012171167, 0.0126187885, 0.014325558, 0.016988065, 0.013309904, 0.012039287, 0.011731993, 0.01197217, 0.012752685, 0.014035499, 0.0131611945, 0.012848055, 0.012131557, 0.01836192, 0.013716146, 0.016981399, 0.012609781, 0.013388123, 0.015405511, 0.010621745, 0.011984067, 0.015490821, 0.010577082, 0.018392922, 0.012437179, 0.01523615, 0.011231486, 0.01445958, 0.010860259, 0.010591036, 0.013320784, 0.019577501, 0.01622787, 0.011465232]\n",
      "2021-02-18 10:32:06,605 : INFO : merging changes from 1204 documents into a model of 3204 documents\n",
      "2021-02-18 10:32:06,620 : INFO : topic #6 (0.007): 0.001*\"lead\" + 0.001*\"debug\" + 0.001*\"major\" + 0.001*\"divid\" + 0.001*\"column\" + 0.001*\"verifi\" + 0.001*\"repetit\" + 0.001*\"reduc\" + 0.001*\"quit\" + 0.001*\"maximum\"\n",
      "2021-02-18 10:32:06,621 : INFO : topic #62 (0.010): 0.077*\"precis\" + 0.046*\"divis\" + 0.046*\"is\" + 0.044*\"-\" + 0.033*\"stage\" + 0.032*\"to\" + 0.027*\"techniqu\" + 0.026*\",\" + 0.025*\"and\" + 0.022*\"thi\"\n",
      "2021-02-18 10:32:06,621 : INFO : topic #28 (0.020): 0.051*\"to\" + 0.046*\",\" + 0.043*\"is\" + 0.033*\"tree\" + 0.031*\"in\" + 0.030*\"that\" + 0.027*\"be\" + 0.019*\"and\" + 0.019*\"search\" + 0.018*\"are\"\n",
      "2021-02-18 10:32:06,622 : INFO : topic #60 (0.020): 0.372*\"s\" + 0.345*\"'\" + 0.063*\"$\" + 0.056*\"paramet\" + 0.055*\"))\" + 0.049*\"algorithm\" + 0.015*\"and\" + 0.012*\"for\" + 0.008*\"associ\" + 0.005*\"(\"\n",
      "2021-02-18 10:32:06,623 : INFO : topic #41 (0.065): 0.383*\"(\" + 0.374*\")\" + 0.203*\"algorithm\" + 0.007*\"polynomi\" + 0.006*\"x\" + 0.006*\"evalu\" + 0.005*\"normal\" + 0.003*\"type\" + 0.002*\"by\" + 0.001*\"bessel\"\n",
      "2021-02-18 10:32:06,625 : INFO : topic diff=0.173433, rho=0.225865\n",
      "2021-02-18 10:32:06,634 : INFO : PROGRESS: pass 18, at document #2000/3204\n",
      "2021-02-18 10:32:08,139 : INFO : optimized alpha [0.012743121, 0.012872403, 0.014219038, 0.014974557, 0.014162479, 0.012706128, 0.006841453, 0.014528483, 0.012286594, 0.011973624, 0.011198238, 0.013665063, 0.013867147, 0.018079042, 0.012163353, 0.017565861, 0.011086662, 0.0108402725, 0.010492271, 0.014090265, 0.014323859, 0.013957134, 0.012865166, 0.015096238, 0.013298846, 0.011131571, 0.015936, 0.0117855305, 0.020005303, 0.012622329, 0.011332194, 0.015102129, 0.01755955, 0.012326457, 0.011391364, 0.011118329, 0.010722489, 0.011146775, 0.01162203, 0.017096395, 0.011807491, 0.06694507, 0.012171229, 0.011997898, 0.014909287, 0.012889478, 0.012917713, 0.011270143, 0.010692882, 0.012104319, 0.011390534, 0.011685905, 0.014583084, 0.0145926755, 0.013458513, 0.013064628, 0.013573923, 0.011696415, 0.015877571, 0.012032646, 0.020519277, 0.01194281, 0.010435421, 0.013116247, 0.010796893, 0.01088472, 0.012202455, 0.012672313, 0.014339904, 0.017221522, 0.013390454, 0.01206498, 0.011734693, 0.012023346, 0.012749682, 0.014076621, 0.013204373, 0.012954661, 0.0121309245, 0.018841136, 0.013795231, 0.017038548, 0.012690115, 0.013418365, 0.015410219, 0.010704599, 0.012060216, 0.015688496, 0.010573472, 0.018642059, 0.012538386, 0.015330077, 0.011271284, 0.014728322, 0.010840703, 0.010597608, 0.013359911, 0.019760214, 0.01627037, 0.011475994]\n",
      "2021-02-18 10:32:08,151 : INFO : merging changes from 2000 documents into a model of 3204 documents\n",
      "2021-02-18 10:32:08,170 : INFO : topic #6 (0.007): 0.001*\"lead\" + 0.001*\"debug\" + 0.001*\"major\" + 0.001*\"divid\" + 0.001*\"column\" + 0.001*\"verifi\" + 0.001*\"repetit\" + 0.001*\"reduc\" + 0.001*\"quit\" + 0.001*\"maximum\"\n",
      "2021-02-18 10:32:08,172 : INFO : topic #62 (0.010): 0.077*\"precis\" + 0.048*\"divis\" + 0.045*\"is\" + 0.044*\"-\" + 0.033*\"to\" + 0.028*\"stage\" + 0.026*\"techniqu\" + 0.026*\",\" + 0.025*\"and\" + 0.023*\"thi\"\n",
      "2021-02-18 10:32:08,173 : INFO : topic #28 (0.020): 0.051*\"to\" + 0.046*\",\" + 0.044*\"is\" + 0.032*\"tree\" + 0.031*\"in\" + 0.030*\"that\" + 0.027*\"be\" + 0.019*\"and\" + 0.019*\"search\" + 0.018*\"are\"\n",
      "2021-02-18 10:32:08,175 : INFO : topic #60 (0.021): 0.376*\"s\" + 0.351*\"'\" + 0.059*\"$\" + 0.055*\"paramet\" + 0.051*\"))\" + 0.046*\"algorithm\" + 0.015*\"and\" + 0.013*\"for\" + 0.009*\"associ\" + 0.005*\"(\"\n",
      "2021-02-18 10:32:08,176 : INFO : topic #41 (0.067): 0.381*\"(\" + 0.374*\")\" + 0.204*\"algorithm\" + 0.007*\"polynomi\" + 0.007*\"evalu\" + 0.006*\"x\" + 0.005*\"normal\" + 0.002*\"type\" + 0.002*\"by\" + 0.002*\"bessel\"\n",
      "2021-02-18 10:32:08,178 : INFO : topic diff=0.157662, rho=0.220316\n",
      "2021-02-18 10:32:10,206 : INFO : -6.322 per-word bound, 80.0 perplexity estimate based on a held-out corpus of 1204 documents with 79462 words\n",
      "2021-02-18 10:32:10,207 : INFO : PROGRESS: pass 18, at document #3204/3204\n",
      "2021-02-18 10:32:11,879 : INFO : optimized alpha [0.012863164, 0.012980537, 0.014358973, 0.015199714, 0.014387335, 0.012853403, 0.006803113, 0.014712718, 0.0124197, 0.012028751, 0.011289096, 0.013768495, 0.014080199, 0.018510431, 0.012322578, 0.017818332, 0.01111418, 0.010902352, 0.010535908, 0.01420483, 0.014524557, 0.014101405, 0.0130682215, 0.015239861, 0.013475504, 0.011216844, 0.016130881, 0.011863047, 0.02045566, 0.012818675, 0.011403498, 0.015276316, 0.017906908, 0.012470963, 0.011498515, 0.011190269, 0.010797324, 0.011221937, 0.011720773, 0.017540863, 0.011880419, 0.06852622, 0.012306615, 0.012081393, 0.015111503, 0.012938623, 0.013005786, 0.011280177, 0.010757477, 0.012248201, 0.011513208, 0.011793275, 0.014771382, 0.014667793, 0.013561222, 0.013242821, 0.013726306, 0.011833578, 0.016099121, 0.012120041, 0.02101585, 0.012025403, 0.010468687, 0.013280029, 0.010871045, 0.010949558, 0.012330136, 0.012842276, 0.014549473, 0.017724559, 0.013524758, 0.012171157, 0.011828363, 0.012147079, 0.012907822, 0.0142614385, 0.013326463, 0.013085631, 0.012296124, 0.018770084, 0.013948929, 0.01733501, 0.012772079, 0.013561426, 0.015612948, 0.010687619, 0.012147293, 0.01578972, 0.0106527675, 0.018923556, 0.012607992, 0.015609385, 0.011328922, 0.014839757, 0.010921245, 0.010652546, 0.013533552, 0.020156574, 0.016529858, 0.011595574]\n",
      "2021-02-18 10:32:11,889 : INFO : merging changes from 1204 documents into a model of 3204 documents\n",
      "2021-02-18 10:32:11,905 : INFO : topic #6 (0.007): 0.001*\"lead\" + 0.001*\"debug\" + 0.001*\"major\" + 0.001*\"divid\" + 0.001*\"column\" + 0.001*\"verifi\" + 0.001*\"repetit\" + 0.001*\"reduc\" + 0.001*\"quit\" + 0.001*\"maximum\"\n"
     ]
    },
    {
     "name": "stderr",
     "output_type": "stream",
     "text": [
      "2021-02-18 10:32:11,906 : INFO : topic #62 (0.010): 0.078*\"precis\" + 0.046*\"divis\" + 0.046*\"is\" + 0.045*\"-\" + 0.033*\"stage\" + 0.032*\"to\" + 0.028*\"techniqu\" + 0.026*\",\" + 0.025*\"and\" + 0.023*\"thi\"\n",
      "2021-02-18 10:32:11,907 : INFO : topic #28 (0.020): 0.051*\"to\" + 0.046*\",\" + 0.043*\"is\" + 0.033*\"tree\" + 0.031*\"in\" + 0.030*\"that\" + 0.027*\"be\" + 0.019*\"and\" + 0.019*\"search\" + 0.018*\"are\"\n",
      "2021-02-18 10:32:11,907 : INFO : topic #60 (0.021): 0.373*\"s\" + 0.348*\"'\" + 0.063*\"$\" + 0.056*\"paramet\" + 0.055*\"))\" + 0.048*\"algorithm\" + 0.014*\"and\" + 0.012*\"for\" + 0.008*\"associ\" + 0.004*\"(\"\n",
      "2021-02-18 10:32:11,908 : INFO : topic #41 (0.069): 0.384*\"(\" + 0.373*\")\" + 0.203*\"algorithm\" + 0.007*\"x\" + 0.006*\"polynomi\" + 0.006*\"evalu\" + 0.005*\"normal\" + 0.003*\"type\" + 0.002*\"by\" + 0.001*\"bessel\"\n",
      "2021-02-18 10:32:11,909 : INFO : topic diff=0.162207, rho=0.220316\n",
      "2021-02-18 10:32:11,921 : INFO : PROGRESS: pass 19, at document #2000/3204\n",
      "2021-02-18 10:32:13,547 : INFO : optimized alpha [0.012942356, 0.012996811, 0.014466275, 0.015251253, 0.014388759, 0.012848626, 0.006774696, 0.014743084, 0.01245437, 0.012077225, 0.011307937, 0.013867856, 0.014041437, 0.018671617, 0.0123572005, 0.017857464, 0.011218239, 0.010916844, 0.010544477, 0.014300064, 0.014557302, 0.0141720595, 0.013215554, 0.015394057, 0.0135756545, 0.011236331, 0.016256163, 0.011906456, 0.020422589, 0.012816919, 0.0114689395, 0.015390881, 0.01806143, 0.01250533, 0.011496883, 0.011198401, 0.0107963, 0.011245464, 0.0117527405, 0.017726626, 0.011980787, 0.07055666, 0.01228501, 0.012112341, 0.015140011, 0.013058181, 0.013106713, 0.011355655, 0.010753735, 0.012253675, 0.011501562, 0.011831033, 0.014839374, 0.01483955, 0.013698581, 0.013306852, 0.01375275, 0.011807901, 0.016172083, 0.012148855, 0.021132965, 0.012089804, 0.010492001, 0.013285092, 0.010884629, 0.010957435, 0.012360671, 0.012901568, 0.014565917, 0.017971966, 0.013602368, 0.012194954, 0.011833615, 0.012202573, 0.012898824, 0.01430747, 0.01337021, 0.013196271, 0.0122909555, 0.019243961, 0.014026456, 0.017391587, 0.012856604, 0.013593855, 0.015625522, 0.010769155, 0.012218235, 0.015986647, 0.010649254, 0.019175908, 0.012709008, 0.01570277, 0.011369316, 0.015111666, 0.010902229, 0.010660278, 0.013575932, 0.020331157, 0.016570436, 0.011612256]\n",
      "2021-02-18 10:32:13,561 : INFO : merging changes from 2000 documents into a model of 3204 documents\n",
      "2021-02-18 10:32:13,583 : INFO : topic #6 (0.007): 0.001*\"lead\" + 0.001*\"debug\" + 0.001*\"major\" + 0.001*\"divid\" + 0.001*\"column\" + 0.001*\"verifi\" + 0.001*\"repetit\" + 0.001*\"reduc\" + 0.001*\"quit\" + 0.001*\"maximum\"\n",
      "2021-02-18 10:32:13,584 : INFO : topic #62 (0.010): 0.077*\"precis\" + 0.048*\"divis\" + 0.045*\"is\" + 0.044*\"-\" + 0.033*\"to\" + 0.029*\"stage\" + 0.027*\"techniqu\" + 0.026*\",\" + 0.025*\"and\" + 0.023*\"thi\"\n",
      "2021-02-18 10:32:13,585 : INFO : topic #28 (0.020): 0.051*\"to\" + 0.046*\",\" + 0.044*\"is\" + 0.032*\"tree\" + 0.031*\"in\" + 0.030*\"that\" + 0.028*\"be\" + 0.019*\"and\" + 0.019*\"search\" + 0.018*\"are\"\n",
      "2021-02-18 10:32:13,587 : INFO : topic #60 (0.021): 0.378*\"s\" + 0.353*\"'\" + 0.059*\"$\" + 0.055*\"paramet\" + 0.051*\"))\" + 0.045*\"algorithm\" + 0.015*\"and\" + 0.012*\"for\" + 0.009*\"associ\" + 0.004*\"characterist\"\n",
      "2021-02-18 10:32:13,588 : INFO : topic #41 (0.071): 0.382*\"(\" + 0.374*\")\" + 0.204*\"algorithm\" + 0.007*\"evalu\" + 0.007*\"polynomi\" + 0.006*\"x\" + 0.005*\"normal\" + 0.002*\"type\" + 0.002*\"by\" + 0.002*\"bessel\"\n",
      "2021-02-18 10:32:13,591 : INFO : topic diff=0.148189, rho=0.215156\n",
      "2021-02-18 10:32:15,751 : INFO : -6.316 per-word bound, 79.7 perplexity estimate based on a held-out corpus of 1204 documents with 79462 words\n",
      "2021-02-18 10:32:15,752 : INFO : PROGRESS: pass 19, at document #3204/3204\n",
      "2021-02-18 10:32:17,692 : INFO : optimized alpha [0.013060282, 0.013103052, 0.01460621, 0.015478495, 0.01461037, 0.012993467, 0.00673821, 0.014932643, 0.012591986, 0.012131234, 0.011401268, 0.013971609, 0.014248673, 0.01910366, 0.012511846, 0.018112604, 0.011248968, 0.010981745, 0.010587379, 0.01441487, 0.014760089, 0.014311222, 0.013423894, 0.015542858, 0.013752284, 0.01132009, 0.016450837, 0.011982516, 0.02086435, 0.013005896, 0.011538866, 0.015561977, 0.018421018, 0.01264759, 0.011608477, 0.011267054, 0.010875628, 0.011323363, 0.011854074, 0.018180532, 0.01204573, 0.0720436, 0.012411466, 0.012187717, 0.015333449, 0.013105903, 0.013197642, 0.011365393, 0.010822984, 0.012399671, 0.011624279, 0.011938665, 0.015019145, 0.014915066, 0.013794167, 0.013485087, 0.013897691, 0.011947146, 0.01638718, 0.012241311, 0.02162094, 0.012166434, 0.010526646, 0.013450983, 0.0109574655, 0.0110211335, 0.012499794, 0.0130574545, 0.0147747975, 0.018483043, 0.01372691, 0.012301415, 0.011932059, 0.0123242745, 0.01305915, 0.0144867925, 0.013497558, 0.013327312, 0.012446964, 0.019175712, 0.014175004, 0.017680578, 0.012941508, 0.013732071, 0.015833583, 0.010750573, 0.012303566, 0.016079286, 0.010729087, 0.01944928, 0.012781532, 0.015976127, 0.0114258425, 0.015222703, 0.010983388, 0.010716193, 0.013744456, 0.020730391, 0.016819991, 0.011725769]\n",
      "2021-02-18 10:32:17,702 : INFO : merging changes from 1204 documents into a model of 3204 documents\n",
      "2021-02-18 10:32:17,717 : INFO : topic #6 (0.007): 0.001*\"lead\" + 0.001*\"debug\" + 0.001*\"major\" + 0.001*\"divid\" + 0.001*\"column\" + 0.001*\"verifi\" + 0.001*\"repetit\" + 0.001*\"reduc\" + 0.001*\"quit\" + 0.001*\"maximum\"\n",
      "2021-02-18 10:32:17,718 : INFO : topic #62 (0.011): 0.078*\"precis\" + 0.047*\"divis\" + 0.046*\"is\" + 0.045*\"-\" + 0.033*\"stage\" + 0.032*\"to\" + 0.028*\"techniqu\" + 0.025*\",\" + 0.025*\"and\" + 0.023*\"thi\"\n",
      "2021-02-18 10:32:17,718 : INFO : topic #28 (0.021): 0.051*\"to\" + 0.046*\",\" + 0.043*\"is\" + 0.033*\"tree\" + 0.032*\"in\" + 0.030*\"that\" + 0.027*\"be\" + 0.019*\"and\" + 0.019*\"search\" + 0.018*\"are\"\n",
      "2021-02-18 10:32:17,719 : INFO : topic #60 (0.022): 0.375*\"s\" + 0.350*\"'\" + 0.063*\"$\" + 0.056*\"paramet\" + 0.056*\"))\" + 0.046*\"algorithm\" + 0.014*\"and\" + 0.012*\"for\" + 0.008*\"associ\" + 0.003*\"(\"\n",
      "2021-02-18 10:32:17,720 : INFO : topic #41 (0.072): 0.386*\"(\" + 0.373*\")\" + 0.203*\"algorithm\" + 0.006*\"x\" + 0.006*\"polynomi\" + 0.006*\"evalu\" + 0.005*\"normal\" + 0.003*\"type\" + 0.002*\"by\" + 0.001*\"bessel\"\n",
      "2021-02-18 10:32:17,721 : INFO : topic diff=0.152316, rho=0.215156\n"
     ]
    },
    {
     "data": {
      "text/plain": [
       "[(0, 0.0053872056),\n",
       " (1, 0.0054048477),\n",
       " (2, 0.006024882),\n",
       " (3, 0.0063846884),\n",
       " (4, 0.0060265977),\n",
       " (5, 0.0053596455),\n",
       " (6, 0.0027794288),\n",
       " (7, 0.0061595314),\n",
       " (8, 0.005194039),\n",
       " (9, 0.0050039846),\n",
       " (10, 0.004702883),\n",
       " (11, 0.0057631168),\n",
       " (12, 0.005877402),\n",
       " (13, 0.007880025),\n",
       " (14, 0.0051609823),\n",
       " (15, 0.007471226),\n",
       " (16, 0.004640061),\n",
       " (17, 0.0045298347),\n",
       " (18, 0.004367164),\n",
       " (19, 0.005945957),\n",
       " (20, 0.006088355),\n",
       " (21, 0.005903203),\n",
       " (22, 0.005537191),\n",
       " (23, 0.0064112376),\n",
       " (24, 0.005672648),\n",
       " (25, 0.0046693976),\n",
       " (26, 0.006785768),\n",
       " (27, 0.0049426407),\n",
       " (28, 0.008606288),\n",
       " (29, 0.005364772),\n",
       " (30, 0.0047596404),\n",
       " (31, 0.006419124),\n",
       " (32, 0.0075984434),\n",
       " (33, 0.005216975),\n",
       " (34, 0.004788354),\n",
       " (35, 0.0046475213),\n",
       " (36, 0.004486063),\n",
       " (37, 0.0046707476),\n",
       " (38, 0.0048896596),\n",
       " (39, 0.007499246),\n",
       " (40, 0.0049687154),\n",
       " (41, 0.029717097),\n",
       " (42, 0.005119577),\n",
       " (43, 0.005027283),\n",
       " (44, 0.006324859),\n",
       " (45, 0.0054060235),\n",
       " (46, 0.005443865),\n",
       " (47, 0.004688085),\n",
       " (48, 0.004464348),\n",
       " (49, 0.0051147114),\n",
       " (50, 0.0047948724),\n",
       " (51, 0.0049245525),\n",
       " (52, 0.0061952122),\n",
       " (53, 0.006152281),\n",
       " (54, 0.005689924),\n",
       " (55, 0.0055624326),\n",
       " (56, 0.0057326267),\n",
       " (57, 0.0049280506),\n",
       " (58, 0.00675951),\n",
       " (59, 0.0050493903),\n",
       " (60, 0.008918372),\n",
       " (61, 0.0050185043),\n",
       " (62, 0.0043421118),\n",
       " (63, 0.005548365),\n",
       " (64, 0.0045198197),\n",
       " (65, 0.004546082),\n",
       " (66, 0.0051560113),\n",
       " (67, 0.005386039),\n",
       " (68, 0.006094422),\n",
       " (69, 0.007624028),\n",
       " (70, 0.0056621814),\n",
       " (71, 0.0050741825),\n",
       " (72, 0.0049218275),\n",
       " (73, 0.0050836117),\n",
       " (74, 0.005386739),\n",
       " (75, 0.0059756236),\n",
       " (76, 0.0055675767),\n",
       " (77, 0.41798198),\n",
       " (78, 0.00513422),\n",
       " (79, 0.007909745),\n",
       " (80, 0.005847015),\n",
       " (81, 0.007293021),\n",
       " (82, 0.0053382125),\n",
       " (83, 0.0056643104),\n",
       " (84, 0.006531158),\n",
       " (85, 0.004434479),\n",
       " (86, 0.0050750696),\n",
       " (87, 0.006632508),\n",
       " (88, 0.004425616),\n",
       " (89, 0.008022589),\n",
       " (90, 0.0052722245),\n",
       " (91, 0.006589956),\n",
       " (92, 0.0047130194),\n",
       " (93, 0.0062791775),\n",
       " (94, 0.0045305123),\n",
       " (95, 0.0044202977),\n",
       " (96, 0.0056694187),\n",
       " (97, 0.008551031),\n",
       " (98, 0.0069380393),\n",
       " (99, 0.004836736)]"
      ]
     },
     "execution_count": 85,
     "metadata": {},
     "output_type": "execute_result"
    }
   ],
   "source": [
    "##### Function check\n",
    "lda = LdaRetrievalModel(doc_repr_2)\n",
    "lda.train_model()\n",
    "\n",
    "# you can now get an LDA vector for a given query in the following way:\n",
    "lda.vectorize_query(\"report\")\n",
    "##### "
   ]
  },
  {
   "cell_type": "markdown",
   "metadata": {
    "deletable": false,
    "editable": false,
    "id": "Ytw2BnNn4IWu",
    "nbgrader": {
     "cell_type": "markdown",
     "checksum": "32d83b6ea79ca3ddb789a7f8805a1b25",
     "grade": false,
     "grade_id": "cell-0e24b727d5908c0e",
     "locked": true,
     "points": 5,
     "schema_version": 3,
     "solution": false,
     "task": true
    }
   },
   "source": [
    "\\#### Please do not change this. This cell is used for grading."
   ]
  },
  {
   "cell_type": "markdown",
   "metadata": {
    "deletable": false,
    "editable": false,
    "id": "PqZBboVz4IWu",
    "nbgrader": {
     "cell_type": "markdown",
     "checksum": "114a934f0b9ce696e6cf09d3b8da6a3d",
     "grade": false,
     "grade_id": "cell-b1bffcb970b18aeb",
     "locked": true,
     "schema_version": 3,
     "solution": false,
     "task": false
    }
   },
   "source": [
    "---\n",
    "Now we can use the `DenseRetrievalModel` class to obtain an LDA search function.\n",
    "You can test your LDA model in the following cell: Try finding queries which are lexically different to documents, but semantically similar - does LDA work well for these queries?!"
   ]
  },
  {
   "cell_type": "code",
   "execution_count": 86,
   "metadata": {
    "ExecuteTime": {
     "end_time": "2021-02-18T09:32:20.947064Z",
     "start_time": "2021-02-18T09:32:17.740726Z"
    },
    "id": "TnPkNnQb4IWu"
   },
   "outputs": [
    {
     "data": {
      "application/vnd.jupyter.widget-view+json": {
       "model_id": "8a2100445afb4a2bb89d5b1172062c3e",
       "version_major": 2,
       "version_minor": 0
      },
      "text/plain": [
       "Text(value='', description='Search Bar')"
      ]
     },
     "metadata": {},
     "output_type": "display_data"
    }
   ],
   "source": [
    "drm_lda = DenseRetrievalRanker(lda, jenson_shannon_sim)\n",
    "\n",
    "# test your LDA model\n",
    "search_fn = drm_lda.search\n",
    "\n",
    "text = widgets.Text(description=\"Search Bar\", width=200)\n",
    "display(text)\n",
    "\n",
    "\n",
    "text.on_submit(handle_submit_2)"
   ]
  },
  {
   "cell_type": "markdown",
   "metadata": {
    "deletable": false,
    "editable": false,
    "id": "xa0oM-SP4IWu",
    "nbgrader": {
     "cell_type": "markdown",
     "checksum": "9d7f15863b655119b45f4d89354e5661",
     "grade": false,
     "grade_id": "cell-190cd0854b2791cc",
     "locked": true,
     "schema_version": 3,
     "solution": false,
     "task": false
    }
   },
   "source": [
    "## Section 8: Word2Vec/Doc2Vec (20 points) <a class=\"anchor\" id=\"2vec\"></a>\n",
    "\n",
    "[Back to Part 2](#part2)\n",
    "\n",
    "We will implement two other methods here, the Word2Vec model and the Doc2Vec model, also using `gensim`. Word2Vec creates representations of words, not documents, so the word level vectors need to be aggregated to obtain a representation for the document. Here, we will simply take the mean of the vectors. \n",
    "\n",
    "\n",
    "A drawback of these models is that they need a lot of training data. Our dataset is tiny, so in addition to using a model trained on the data, we will also use a pre-trained model for Word2Vec (this will be automatically downloaded).     \n",
    "\n",
    "*Note*:\n",
    "1. The code in vectorize_documents / vectorize_query should return gensim-like vectors i.e `[(dim, val), .. (dim, val)]`. \n",
    "2. For Word2Vec: You should also handle the following two cases: (a) A word in the query is not present in the vocabulary of the model and (b) none of the words in the query are present in the model - you can return 0 scores for all documents in this case. For either of these, you can check if a `word` is present in the vocab by using `word in self.model`\n"
   ]
  },
  {
   "cell_type": "code",
   "execution_count": 87,
   "metadata": {
    "ExecuteTime": {
     "end_time": "2021-02-18T09:32:23.023247Z",
     "start_time": "2021-02-18T09:32:20.948061Z"
    },
    "deletable": false,
    "id": "gPHOpyp34IWu",
    "nbgrader": {
     "cell_type": "code",
     "checksum": "83ab733608ed14c29c09b36b4e1b6daa",
     "grade": false,
     "grade_id": "cell-2b73759f9baf688f",
     "locked": false,
     "schema_version": 3,
     "solution": true,
     "task": false
    }
   },
   "outputs": [
    {
     "name": "stderr",
     "output_type": "stream",
     "text": [
      "2021-02-18 10:32:20,956 : INFO : adding document #0 to Dictionary(0 unique tokens: [])\n",
      "2021-02-18 10:32:21,135 : INFO : built Dictionary(6204 unique tokens: ['-', 'algebra', 'intern', 'languag', 'preliminari']...) from 3204 documents (total 196845 corpus positions)\n",
      "2021-02-18 10:32:21,142 : INFO : discarding 4795 tokens: [('of', 2061), ('repeat', 8), ('glossari', 7), ('inspect', 8), ('the', 1794), ('uncol', 2), ('a', 1807), ('rung', 9), ('secant', 2), ('.', 1603)]...\n",
      "2021-02-18 10:32:21,143 : INFO : keeping 1409 tokens which were in no less than 10 and no more than 1602 (=50.0%) documents\n",
      "2021-02-18 10:32:21,146 : INFO : resulting dictionary: Dictionary(1409 unique tokens: ['-', 'algebra', 'intern', 'languag', 'preliminari']...)\n",
      "2021-02-18 10:32:21,247 : INFO : collecting all words and their counts\n",
      "2021-02-18 10:32:21,248 : INFO : PROGRESS: at sentence #0, processed 0 words, keeping 0 word types\n",
      "2021-02-18 10:32:21,281 : INFO : collected 6204 word types from a corpus of 196845 raw words and 3204 sentences\n",
      "2021-02-18 10:32:21,282 : INFO : Loading a fresh vocabulary\n",
      "2021-02-18 10:32:21,292 : INFO : effective_min_count=1 retains 6204 unique words (100% of original 6204, drops 0)\n",
      "2021-02-18 10:32:21,293 : INFO : effective_min_count=1 leaves 196845 word corpus (100% of original 196845, drops 0)\n",
      "2021-02-18 10:32:21,310 : INFO : deleting the raw counts dictionary of 6204 items\n",
      "2021-02-18 10:32:21,311 : INFO : sample=0.001 downsamples 42 most-common words\n",
      "2021-02-18 10:32:21,311 : INFO : downsampling leaves estimated 136742 word corpus (69.5% of prior 196845)\n",
      "2021-02-18 10:32:21,334 : INFO : estimated required memory for 6204 words and 100 dimensions: 8065200 bytes\n",
      "2021-02-18 10:32:21,334 : INFO : resetting layer weights\n",
      "2021-02-18 10:32:22,358 : INFO : training model with 3 workers on 6204 vocabulary and 100 features, using sg=0 hs=0 sample=0.001 negative=5 window=5\n",
      "2021-02-18 10:32:22,448 : INFO : worker thread finished; awaiting finish of 2 more threads\n",
      "2021-02-18 10:32:22,455 : INFO : worker thread finished; awaiting finish of 1 more threads\n",
      "2021-02-18 10:32:22,456 : INFO : worker thread finished; awaiting finish of 0 more threads\n",
      "2021-02-18 10:32:22,456 : INFO : EPOCH - 1 : training on 196845 raw words (136599 effective words) took 0.1s, 1468298 effective words/s\n",
      "2021-02-18 10:32:22,557 : INFO : worker thread finished; awaiting finish of 2 more threads\n",
      "2021-02-18 10:32:22,565 : INFO : worker thread finished; awaiting finish of 1 more threads\n",
      "2021-02-18 10:32:22,566 : INFO : worker thread finished; awaiting finish of 0 more threads\n",
      "2021-02-18 10:32:22,566 : INFO : EPOCH - 2 : training on 196845 raw words (136537 effective words) took 0.1s, 1293023 effective words/s\n",
      "2021-02-18 10:32:22,677 : INFO : worker thread finished; awaiting finish of 2 more threads\n",
      "2021-02-18 10:32:22,685 : INFO : worker thread finished; awaiting finish of 1 more threads\n",
      "2021-02-18 10:32:22,687 : INFO : worker thread finished; awaiting finish of 0 more threads\n",
      "2021-02-18 10:32:22,688 : INFO : EPOCH - 3 : training on 196845 raw words (136809 effective words) took 0.1s, 1189430 effective words/s\n",
      "2021-02-18 10:32:22,856 : INFO : worker thread finished; awaiting finish of 2 more threads\n",
      "2021-02-18 10:32:22,866 : INFO : worker thread finished; awaiting finish of 1 more threads\n",
      "2021-02-18 10:32:22,868 : INFO : worker thread finished; awaiting finish of 0 more threads\n",
      "2021-02-18 10:32:22,870 : INFO : EPOCH - 4 : training on 196845 raw words (136628 effective words) took 0.2s, 774554 effective words/s\n",
      "2021-02-18 10:32:22,994 : INFO : worker thread finished; awaiting finish of 2 more threads\n",
      "2021-02-18 10:32:23,005 : INFO : worker thread finished; awaiting finish of 1 more threads\n",
      "2021-02-18 10:32:23,008 : INFO : worker thread finished; awaiting finish of 0 more threads\n",
      "2021-02-18 10:32:23,009 : INFO : EPOCH - 5 : training on 196845 raw words (136722 effective words) took 0.1s, 1020141 effective words/s\n",
      "2021-02-18 10:32:23,010 : INFO : training on a 984225 raw words (683295 effective words) took 0.7s, 1050309 effective words/s\n",
      "<ipython-input-87-2f5bb1a63d99>:44: DeprecationWarning: Call to deprecated `__contains__` (Method will be removed in 4.0.0, use self.wv.__contains__() instead).\n",
      "  if token in self.model:\n",
      "<ipython-input-87-2f5bb1a63d99>:45: DeprecationWarning: Call to deprecated `__getitem__` (Method will be removed in 4.0.0, use self.wv.__getitem__() instead).\n",
      "  accum_vecs.append(self.model[token])\n"
     ]
    },
    {
     "data": {
      "text/plain": [
       "[(0, -0.21797433),\n",
       " (1, 0.29363018),\n",
       " (2, 0.44798073),\n",
       " (3, 0.48633277),\n",
       " (4, -0.26308218),\n",
       " (5, 0.6163346),\n",
       " (6, 0.6194032),\n",
       " (7, -0.27473277),\n",
       " (8, 0.106308095),\n",
       " (9, 0.8754732),\n",
       " (10, 0.043273285),\n",
       " (11, 0.007342942),\n",
       " (12, 0.061213195),\n",
       " (13, 0.2148582),\n",
       " (14, 0.5103049),\n",
       " (15, -0.32976082),\n",
       " (16, 0.09507981),\n",
       " (17, 0.032684736),\n",
       " (18, -0.6046834),\n",
       " (19, -0.10366663),\n",
       " (20, 0.13782202),\n",
       " (21, -0.70971316),\n",
       " (22, -0.030011998),\n",
       " (23, 0.05774759),\n",
       " (24, 0.31920055),\n",
       " (25, -0.66972196),\n",
       " (26, 0.100932695),\n",
       " (27, -0.3690439),\n",
       " (28, 0.43471313),\n",
       " (29, 0.4112181),\n",
       " (30, 0.31732997),\n",
       " (31, 0.46848565),\n",
       " (32, -0.09791471),\n",
       " (33, 0.18068244),\n",
       " (34, -0.7082389),\n",
       " (35, -0.20685248),\n",
       " (36, -0.22399968),\n",
       " (37, -0.001143088),\n",
       " (38, 0.19116509),\n",
       " (39, 0.4104181),\n",
       " (40, 0.21436368),\n",
       " (41, 0.121224105),\n",
       " (42, -0.1883466),\n",
       " (43, -0.05598579),\n",
       " (44, 0.5078981),\n",
       " (45, -0.2831377),\n",
       " (46, 0.3485772),\n",
       " (47, 0.092254095),\n",
       " (48, -0.44009808),\n",
       " (49, -0.10001993),\n",
       " (50, 0.024670875),\n",
       " (51, -0.4263461),\n",
       " (52, 0.36683682),\n",
       " (53, -0.8697209),\n",
       " (54, -0.28454816),\n",
       " (55, 0.14749904),\n",
       " (56, 0.55783904),\n",
       " (57, 0.2128707),\n",
       " (58, 0.06981734),\n",
       " (59, -0.41854277),\n",
       " (60, 0.023252724),\n",
       " (61, -0.47772217),\n",
       " (62, -0.08559681),\n",
       " (63, 0.37382486),\n",
       " (64, -0.22732334),\n",
       " (65, -0.45175523),\n",
       " (66, -0.182154),\n",
       " (67, 0.21223661),\n",
       " (68, -0.30584142),\n",
       " (69, -0.084203266),\n",
       " (70, -0.31054154),\n",
       " (71, -0.55434865),\n",
       " (72, -0.80264354),\n",
       " (73, 0.17625158),\n",
       " (74, 0.032153383),\n",
       " (75, 0.088707566),\n",
       " (76, -0.0100202765),\n",
       " (77, -0.6838864),\n",
       " (78, -0.2618779),\n",
       " (79, -0.22487138),\n",
       " (80, -0.6866707),\n",
       " (81, 0.31126925),\n",
       " (82, 0.5232226),\n",
       " (83, 0.14742894),\n",
       " (84, 0.64352226),\n",
       " (85, -0.04860717),\n",
       " (86, -0.37596554),\n",
       " (87, 0.014080295),\n",
       " (88, -0.04264683),\n",
       " (89, -0.64526004),\n",
       " (90, -0.045411836),\n",
       " (91, -0.029552775),\n",
       " (92, 0.49900118),\n",
       " (93, 0.28599334),\n",
       " (94, 0.3952775),\n",
       " (95, -0.14485082),\n",
       " (96, 0.23654276),\n",
       " (97, -0.16754723),\n",
       " (98, 0.042377006),\n",
       " (99, -0.34194994)]"
      ]
     },
     "execution_count": 87,
     "metadata": {},
     "output_type": "execute_result"
    }
   ],
   "source": [
    "# TODO: Implement this! (10 points)\n",
    "class W2VRetrievalModel(VectorSpaceRetrievalModel):\n",
    "    def __init__(self, doc_repr):\n",
    "        super().__init__(doc_repr)\n",
    "        \n",
    "        # the dimensionality of the vectors\n",
    "        self.size = 100 \n",
    "        self.min_count = 1\n",
    "    \n",
    "    def train_model(self):\n",
    "        \"\"\"\n",
    "        Trains the W2V model\n",
    "        \"\"\"\n",
    "        # YOUR CODE HERE\n",
    "        self.model = Word2Vec(self.documents, size=self.size, min_count=self.min_count) \n",
    "        \n",
    "    def vectorize_documents(self):\n",
    "        \"\"\"\n",
    "            Returns a doc_id -> vector dictionary\n",
    "        \"\"\"\n",
    "        # YOUR CODE HERE\n",
    "        vectors = {}\n",
    "        for (doc_id, doc) in self.doc_repr:\n",
    "            accum_vecs = []\n",
    "            for token in doc:\n",
    "                if token in self.model:\n",
    "                    accum_vecs.append(self.model[token])\n",
    "\n",
    "            aggregated_vec = np.mean(accum_vecs, axis=0)\n",
    "            if not accum_vecs:\n",
    "                vectors[doc_id] = list(zip(range(self.size), self.size * [0]))\n",
    "            else:\n",
    "                vectors[doc_id] = list(zip(range(self.size), aggregated_vec))\n",
    "        return vectors\n",
    "\n",
    "    def vectorize_query(self, query):\n",
    "        \"\"\"\n",
    "        Vectorizes the query using the W2V model\n",
    "        \"\"\"\n",
    "        query = process_text(query, **config_2)\n",
    "        # YOUR CODE HERE\n",
    "        accum_vecs = []\n",
    "        for token in query:\n",
    "            if token in self.model:\n",
    "                accum_vecs.append(self.model[token])\n",
    "        aggregated_vec = np.mean(accum_vecs, axis=0)\n",
    "    \n",
    "        # If no tokens are in the model\n",
    "        if not accum_vecs:\n",
    "            return list(zip(range(self.size), self.size * [0]))\n",
    "        else:\n",
    "            return list(zip(range(self.size), aggregated_vec))\n",
    "    \n",
    "    \n",
    "class W2VPretrainedRetrievalModel(W2VRetrievalModel):\n",
    "    def __init__(self, doc_repr):\n",
    "        super().__init__(doc_repr)\n",
    "        self.model_name = \"word2vec-google-news-300\"\n",
    "        self.size = 300\n",
    "    \n",
    "    def train_model(self):\n",
    "        \"\"\"\n",
    "        Loads the pretrained model\n",
    "        \"\"\"\n",
    "        self.model = g_downloader.load(self.model_name)\n",
    "\n",
    "w2v = W2VRetrievalModel(doc_repr_2)\n",
    "w2v.train_model()\n",
    "\n",
    "# you can now get a W2V vector for a given query in the following way:\n",
    "w2v.vectorize_query(\"report\")"
   ]
  },
  {
   "cell_type": "code",
   "execution_count": 88,
   "metadata": {
    "ExecuteTime": {
     "end_time": "2021-02-18T09:32:23.032222Z",
     "start_time": "2021-02-18T09:32:23.025241Z"
    },
    "deletable": false,
    "editable": false,
    "id": "ATy5tnMV4IWv",
    "nbgrader": {
     "cell_type": "code",
     "checksum": "f92b5c5a8c6c4b80652b94223209ab0b",
     "grade": true,
     "grade_id": "cell-b31c0f8d214b8bdf",
     "locked": true,
     "points": 0,
     "schema_version": 3,
     "solution": false,
     "task": false
    }
   },
   "outputs": [
    {
     "name": "stderr",
     "output_type": "stream",
     "text": [
      "<ipython-input-87-2f5bb1a63d99>:44: DeprecationWarning: Call to deprecated `__contains__` (Method will be removed in 4.0.0, use self.wv.__contains__() instead).\n",
      "  if token in self.model:\n",
      "<ipython-input-87-2f5bb1a63d99>:45: DeprecationWarning: Call to deprecated `__getitem__` (Method will be removed in 4.0.0, use self.wv.__getitem__() instead).\n",
      "  accum_vecs.append(self.model[token])\n"
     ]
    }
   ],
   "source": [
    "assert len(w2v.vectorize_query(\"report\")) == 100\n",
    "assert len(w2v.vectorize_query(\"this is a sentence that is not mellifluous\")) == 100\n"
   ]
  },
  {
   "cell_type": "markdown",
   "metadata": {
    "deletable": false,
    "editable": false,
    "id": "lP0VtCid4IWv",
    "nbgrader": {
     "cell_type": "markdown",
     "checksum": "8dfaabebcb06f308a7ca61fdc5d369e7",
     "grade": false,
     "grade_id": "cell-c2614fa067386384",
     "locked": true,
     "points": 8,
     "schema_version": 3,
     "solution": false,
     "task": true
    }
   },
   "source": [
    "\\#### Please do not change this. This cell is used for grading."
   ]
  },
  {
   "cell_type": "code",
   "execution_count": 89,
   "metadata": {
    "ExecuteTime": {
     "end_time": "2021-02-18T09:33:02.832084Z",
     "start_time": "2021-02-18T09:32:23.034218Z"
    },
    "id": "-aeBam5p4IWv"
   },
   "outputs": [
    {
     "name": "stderr",
     "output_type": "stream",
     "text": [
      "2021-02-18 10:32:23,036 : INFO : adding document #0 to Dictionary(0 unique tokens: [])\n",
      "2021-02-18 10:32:23,279 : INFO : built Dictionary(6204 unique tokens: ['-', 'algebra', 'intern', 'languag', 'preliminari']...) from 3204 documents (total 196845 corpus positions)\n",
      "2021-02-18 10:32:23,290 : INFO : discarding 4795 tokens: [('of', 2061), ('repeat', 8), ('glossari', 7), ('inspect', 8), ('the', 1794), ('uncol', 2), ('a', 1807), ('rung', 9), ('secant', 2), ('.', 1603)]...\n",
      "2021-02-18 10:32:23,291 : INFO : keeping 1409 tokens which were in no less than 10 and no more than 1602 (=50.0%) documents\n",
      "2021-02-18 10:32:23,295 : INFO : resulting dictionary: Dictionary(1409 unique tokens: ['-', 'algebra', 'intern', 'languag', 'preliminari']...)\n",
      "2021-02-18 10:32:23,866 : INFO : loading projection weights from C:\\Users\\Lenovo/gensim-data\\word2vec-google-news-300\\word2vec-google-news-300.gz\n",
      "2021-02-18 10:33:02,816 : INFO : loaded (3000000, 300) matrix from C:\\Users\\Lenovo/gensim-data\\word2vec-google-news-300\\word2vec-google-news-300.gz\n"
     ]
    },
    {
     "data": {
      "text/plain": [
       "[(0, -0.14257812),\n",
       " (1, -0.1640625),\n",
       " (2, -0.09033203),\n",
       " (3, -0.11230469),\n",
       " (4, 0.100097656),\n",
       " (5, -0.041259766),\n",
       " (6, 0.048828125),\n",
       " (7, -0.13671875),\n",
       " (8, 0.19628906),\n",
       " (9, -0.13476562),\n",
       " (10, -0.017578125),\n",
       " (11, 0.032226562),\n",
       " (12, 0.095214844),\n",
       " (13, -0.10595703),\n",
       " (14, -0.16992188),\n",
       " (15, 0.041015625),\n",
       " (16, -0.26367188),\n",
       " (17, -0.0063171387),\n",
       " (18, -0.17773438),\n",
       " (19, -0.24023438),\n",
       " (20, 0.3515625),\n",
       " (21, -0.012207031),\n",
       " (22, -0.16210938),\n",
       " (23, -0.12060547),\n",
       " (24, 0.04321289),\n",
       " (25, 0.10986328),\n",
       " (26, 0.052490234),\n",
       " (27, 0.17871094),\n",
       " (28, -0.14550781),\n",
       " (29, 0.13769531),\n",
       " (30, -0.08203125),\n",
       " (31, -0.28320312),\n",
       " (32, -0.10888672),\n",
       " (33, -0.2890625),\n",
       " (34, 0.072265625),\n",
       " (35, -0.04736328),\n",
       " (36, 0.040283203),\n",
       " (37, 0.067871094),\n",
       " (38, 0.11669922),\n",
       " (39, 0.000831604),\n",
       " (40, 0.068359375),\n",
       " (41, 0.12011719),\n",
       " (42, -0.088378906),\n",
       " (43, 0.33789062),\n",
       " (44, -0.044677734),\n",
       " (45, -0.030151367),\n",
       " (46, 0.0076904297),\n",
       " (47, -0.021118164),\n",
       " (48, -0.25390625),\n",
       " (49, 0.14941406),\n",
       " (50, 0.3984375),\n",
       " (51, 0.021606445),\n",
       " (52, -0.02319336),\n",
       " (53, 0.0063476562),\n",
       " (54, 0.008239746),\n",
       " (55, -0.16894531),\n",
       " (56, 0.037353516),\n",
       " (57, -0.06347656),\n",
       " (58, 0.1171875),\n",
       " (59, -0.1484375),\n",
       " (60, -0.07861328),\n",
       " (61, 0.36914062),\n",
       " (62, -0.22460938),\n",
       " (63, 0.17382812),\n",
       " (64, 0.0138549805),\n",
       " (65, 0.1875),\n",
       " (66, -0.10107422),\n",
       " (67, 0.037841797),\n",
       " (68, 0.0021209717),\n",
       " (69, -0.05126953),\n",
       " (70, 0.096191406),\n",
       " (71, -0.057128906),\n",
       " (72, 0.10595703),\n",
       " (73, -0.020996094),\n",
       " (74, 0.16113281),\n",
       " (75, 0.09765625),\n",
       " (76, 0.038330078),\n",
       " (77, 0.21972656),\n",
       " (78, 0.10644531),\n",
       " (79, 0.0859375),\n",
       " (80, 0.1796875),\n",
       " (81, -0.08300781),\n",
       " (82, -0.033203125),\n",
       " (83, 0.041015625),\n",
       " (84, -0.064941406),\n",
       " (85, 0.019897461),\n",
       " (86, 0.13378906),\n",
       " (87, -0.09765625),\n",
       " (88, -0.19335938),\n",
       " (89, -0.23535156),\n",
       " (90, 0.19042969),\n",
       " (91, 0.0024871826),\n",
       " (92, -0.01574707),\n",
       " (93, 0.032226562),\n",
       " (94, -0.21972656),\n",
       " (95, -0.091308594),\n",
       " (96, 0.021240234),\n",
       " (97, 0.15820312),\n",
       " (98, 0.29882812),\n",
       " (99, -0.328125),\n",
       " (100, 0.057373047),\n",
       " (101, -0.04638672),\n",
       " (102, 0.11328125),\n",
       " (103, -0.1015625),\n",
       " (104, 0.18066406),\n",
       " (105, -0.025146484),\n",
       " (106, -0.16601562),\n",
       " (107, -0.096191406),\n",
       " (108, 0.018798828),\n",
       " (109, -0.19433594),\n",
       " (110, 0.14941406),\n",
       " (111, -0.056640625),\n",
       " (112, -0.106933594),\n",
       " (113, -0.15039062),\n",
       " (114, -0.17578125),\n",
       " (115, 0.11279297),\n",
       " (116, 0.049316406),\n",
       " (117, 0.21972656),\n",
       " (118, 0.31835938),\n",
       " (119, 0.15722656),\n",
       " (120, -0.29296875),\n",
       " (121, 0.10498047),\n",
       " (122, -0.296875),\n",
       " (123, -0.013427734),\n",
       " (124, 0.09082031),\n",
       " (125, 0.012573242),\n",
       " (126, -0.051513672),\n",
       " (127, -0.12890625),\n",
       " (128, 0.014465332),\n",
       " (129, 0.12060547),\n",
       " (130, -0.10107422),\n",
       " (131, -0.111328125),\n",
       " (132, 0.063964844),\n",
       " (133, -0.052978516),\n",
       " (134, -0.04321289),\n",
       " (135, -0.012939453),\n",
       " (136, -0.02758789),\n",
       " (137, -0.09716797),\n",
       " (138, -0.20214844),\n",
       " (139, 0.123046875),\n",
       " (140, -0.04248047),\n",
       " (141, 0.17382812),\n",
       " (142, -0.013671875),\n",
       " (143, 0.1015625),\n",
       " (144, -0.0009384155),\n",
       " (145, -0.03564453),\n",
       " (146, 0.30078125),\n",
       " (147, -0.068359375),\n",
       " (148, -0.056152344),\n",
       " (149, 0.037597656),\n",
       " (150, 0.06591797),\n",
       " (151, 0.040283203),\n",
       " (152, 0.0119018555),\n",
       " (153, 0.096191406),\n",
       " (154, 0.3671875),\n",
       " (155, -0.27929688),\n",
       " (156, -0.052001953),\n",
       " (157, -0.106933594),\n",
       " (158, -0.13476562),\n",
       " (159, -0.046142578),\n",
       " (160, 0.25),\n",
       " (161, 0.0056762695),\n",
       " (162, -0.014404297),\n",
       " (163, -0.03100586),\n",
       " (164, -0.060302734),\n",
       " (165, 0.10595703),\n",
       " (166, 0.37890625),\n",
       " (167, 0.05883789),\n",
       " (168, 0.123046875),\n",
       " (169, -0.115234375),\n",
       " (170, 0.14941406),\n",
       " (171, -0.1640625),\n",
       " (172, -0.23339844),\n",
       " (173, -0.07763672),\n",
       " (174, 0.026733398),\n",
       " (175, -0.021118164),\n",
       " (176, 0.19433594),\n",
       " (177, -0.056152344),\n",
       " (178, -0.006439209),\n",
       " (179, -0.16992188),\n",
       " (180, -0.118652344),\n",
       " (181, -0.06738281),\n",
       " (182, -0.068847656),\n",
       " (183, -0.08691406),\n",
       " (184, -0.1015625),\n",
       " (185, 0.014160156),\n",
       " (186, -0.20117188),\n",
       " (187, 0.09814453),\n",
       " (188, -0.010253906),\n",
       " (189, 0.1875),\n",
       " (190, 0.19628906),\n",
       " (191, -0.22070312),\n",
       " (192, -0.19628906),\n",
       " (193, -0.07373047),\n",
       " (194, 0.06640625),\n",
       " (195, -0.13378906),\n",
       " (196, 0.18359375),\n",
       " (197, -0.20019531),\n",
       " (198, 0.19824219),\n",
       " (199, 0.05029297),\n",
       " (200, 0.029907227),\n",
       " (201, 0.017700195),\n",
       " (202, -0.19335938),\n",
       " (203, -0.096191406),\n",
       " (204, -0.10253906),\n",
       " (205, 0.21289062),\n",
       " (206, -0.029907227),\n",
       " (207, 0.14355469),\n",
       " (208, 0.041015625),\n",
       " (209, -0.21191406),\n",
       " (210, 0.20800781),\n",
       " (211, 0.13769531),\n",
       " (212, -0.01965332),\n",
       " (213, 0.014953613),\n",
       " (214, -0.09765625),\n",
       " (215, 0.24316406),\n",
       " (216, 0.080078125),\n",
       " (217, 0.08251953),\n",
       " (218, 0.09863281),\n",
       " (219, 0.056884766),\n",
       " (220, 0.04248047),\n",
       " (221, 0.068847656),\n",
       " (222, -0.03540039),\n",
       " (223, -0.076171875),\n",
       " (224, -0.00016117096),\n",
       " (225, -0.07519531),\n",
       " (226, 0.22460938),\n",
       " (227, 0.15136719),\n",
       " (228, 0.10058594),\n",
       " (229, 0.10986328),\n",
       " (230, 0.023803711),\n",
       " (231, 0.088378906),\n",
       " (232, 0.061767578),\n",
       " (233, -0.107910156),\n",
       " (234, 0.06225586),\n",
       " (235, 0.0034332275),\n",
       " (236, 0.080566406),\n",
       " (237, 0.106933594),\n",
       " (238, 0.08886719),\n",
       " (239, -0.23730469),\n",
       " (240, 0.064941406),\n",
       " (241, 0.010192871),\n",
       " (242, -0.088378906),\n",
       " (243, -0.33203125),\n",
       " (244, 0.0046691895),\n",
       " (245, 0.21289062),\n",
       " (246, 0.0859375),\n",
       " (247, 0.020385742),\n",
       " (248, 0.045654297),\n",
       " (249, 0.1484375),\n",
       " (250, 0.11816406),\n",
       " (251, 0.055664062),\n",
       " (252, -0.17285156),\n",
       " (253, -0.125),\n",
       " (254, -0.025390625),\n",
       " (255, -0.31835938),\n",
       " (256, 0.03112793),\n",
       " (257, 0.0859375),\n",
       " (258, -0.041992188),\n",
       " (259, 0.15625),\n",
       " (260, 0.16113281),\n",
       " (261, 0.19824219),\n",
       " (262, -0.100097656),\n",
       " (263, 0.203125),\n",
       " (264, 0.12890625),\n",
       " (265, 0.23339844),\n",
       " (266, -0.26757812),\n",
       " (267, 0.05517578),\n",
       " (268, 0.048828125),\n",
       " (269, 0.072265625),\n",
       " (270, 0.24414062),\n",
       " (271, 0.24414062),\n",
       " (272, 0.056884766),\n",
       " (273, -0.0546875),\n",
       " (274, -0.033691406),\n",
       " (275, -0.12060547),\n",
       " (276, 0.03491211),\n",
       " (277, -0.14550781),\n",
       " (278, 0.087402344),\n",
       " (279, -0.08300781),\n",
       " (280, 0.017211914),\n",
       " (281, 0.14355469),\n",
       " (282, -0.122558594),\n",
       " (283, 0.1796875),\n",
       " (284, 0.13085938),\n",
       " (285, -0.16503906),\n",
       " (286, 0.012756348),\n",
       " (287, 0.16015625),\n",
       " (288, -0.03112793),\n",
       " (289, 0.08203125),\n",
       " (290, 0.17382812),\n",
       " (291, -0.16796875),\n",
       " (292, 0.13085938),\n",
       " (293, 0.08544922),\n",
       " (294, -0.2109375),\n",
       " (295, -0.13085938),\n",
       " (296, -0.028930664),\n",
       " (297, -0.10546875),\n",
       " (298, 0.084472656),\n",
       " (299, -0.14160156)]"
      ]
     },
     "execution_count": 89,
     "metadata": {},
     "output_type": "execute_result"
    }
   ],
   "source": [
    "w2v_pretrained = W2VPretrainedRetrievalModel(doc_repr_2)\n",
    "w2v_pretrained.train_model()\n",
    "\n",
    "# you can now get an W2V vector for a given query in the following way:\n",
    "w2v_pretrained.vectorize_query(\"report\")"
   ]
  },
  {
   "cell_type": "code",
   "execution_count": 90,
   "metadata": {
    "ExecuteTime": {
     "end_time": "2021-02-18T09:33:02.837033Z",
     "start_time": "2021-02-18T09:33:02.833043Z"
    },
    "deletable": false,
    "editable": false,
    "id": "_0ifhcln4IWv",
    "nbgrader": {
     "cell_type": "code",
     "checksum": "0822845afb5eafe5ddb1ffeaa4f4942a",
     "grade": true,
     "grade_id": "cell-1b1466f8ce516f42",
     "locked": true,
     "points": 2,
     "schema_version": 3,
     "solution": false,
     "task": false
    }
   },
   "outputs": [
    {
     "name": "stdout",
     "output_type": "stream",
     "text": [
      "300\n"
     ]
    }
   ],
   "source": [
    "##### Function check\n",
    "\n",
    "print(len(w2v_pretrained.vectorize_query(\"report\")))\n",
    "#####"
   ]
  },
  {
   "cell_type": "code",
   "execution_count": 91,
   "metadata": {
    "ExecuteTime": {
     "end_time": "2021-02-18T09:33:04.282212Z",
     "start_time": "2021-02-18T09:33:02.839028Z"
    },
    "id": "VCpO-xcU4IWv"
   },
   "outputs": [
    {
     "name": "stderr",
     "output_type": "stream",
     "text": [
      "<ipython-input-87-2f5bb1a63d99>:26: DeprecationWarning: Call to deprecated `__contains__` (Method will be removed in 4.0.0, use self.wv.__contains__() instead).\n",
      "  if token in self.model:\n",
      "<ipython-input-87-2f5bb1a63d99>:27: DeprecationWarning: Call to deprecated `__getitem__` (Method will be removed in 4.0.0, use self.wv.__getitem__() instead).\n",
      "  accum_vecs.append(self.model[token])\n"
     ]
    },
    {
     "data": {
      "application/vnd.jupyter.widget-view+json": {
       "model_id": "cd91a408b2304718988902d7a62ae66b",
       "version_major": 2,
       "version_minor": 0
      },
      "text/plain": [
       "Text(value='', description='Search Bar')"
      ]
     },
     "metadata": {},
     "output_type": "display_data"
    }
   ],
   "source": [
    "drm_w2v = DenseRetrievalRanker(w2v, cosine_sim)\n",
    "\n",
    "# test your LDA model\n",
    "search_fn = drm_w2v.search\n",
    "\n",
    "text = widgets.Text(description=\"Search Bar\", width=200)\n",
    "display(text)\n",
    "\n",
    "\n",
    "text.on_submit(handle_submit_2)"
   ]
  },
  {
   "cell_type": "code",
   "execution_count": 92,
   "metadata": {
    "ExecuteTime": {
     "end_time": "2021-02-18T09:33:04.890076Z",
     "start_time": "2021-02-18T09:33:04.284207Z"
    },
    "id": "7wyn-qfY4IWv"
   },
   "outputs": [
    {
     "name": "stderr",
     "output_type": "stream",
     "text": [
      "C:\\Users\\Lenovo\\anaconda3\\lib\\site-packages\\numpy\\core\\fromnumeric.py:3372: RuntimeWarning: Mean of empty slice.\n",
      "  return _methods._mean(a, axis=axis, dtype=dtype,\n",
      "C:\\Users\\Lenovo\\anaconda3\\lib\\site-packages\\numpy\\core\\_methods.py:170: RuntimeWarning: invalid value encountered in double_scalars\n",
      "  ret = ret.dtype.type(ret / rcount)\n"
     ]
    },
    {
     "data": {
      "application/vnd.jupyter.widget-view+json": {
       "model_id": "af6922b3230c48f18e6c982760bb8bd2",
       "version_major": 2,
       "version_minor": 0
      },
      "text/plain": [
       "Text(value='', description='Search Bar')"
      ]
     },
     "metadata": {},
     "output_type": "display_data"
    }
   ],
   "source": [
    "drm_w2v_pretrained = DenseRetrievalRanker(w2v_pretrained, cosine_sim)\n",
    "\n",
    "# test your LDA model\n",
    "search_fn = drm_w2v_pretrained.search\n",
    "\n",
    "text = widgets.Text(description=\"Search Bar\", width=200)\n",
    "display(text)\n",
    "\n",
    "\n",
    "text.on_submit(handle_submit_2)"
   ]
  },
  {
   "cell_type": "markdown",
   "metadata": {
    "deletable": false,
    "editable": false,
    "id": "giJFuUld4IWv",
    "nbgrader": {
     "cell_type": "markdown",
     "checksum": "51b778984fd60757974f51047c61eb15",
     "grade": false,
     "grade_id": "cell-b92f701cbc706108",
     "locked": true,
     "schema_version": 3,
     "solution": false,
     "task": false
    }
   },
   "source": [
    "**Implementation (10 points):**\n",
    "For Doc2Vec, you will need to create a list of `TaggedDocument` instead of using the `self.corpus` or `self.documents` variable. Use the document id as the 'tag'.\n",
    "  "
   ]
  },
  {
   "cell_type": "code",
   "execution_count": 93,
   "metadata": {
    "ExecuteTime": {
     "end_time": "2021-02-18T09:33:12.542910Z",
     "start_time": "2021-02-18T09:33:04.891080Z"
    },
    "deletable": false,
    "id": "_Ie4aqXa4IWw",
    "nbgrader": {
     "cell_type": "code",
     "checksum": "1f60fdeb97febb7f4a6fd5bf109aac20",
     "grade": false,
     "grade_id": "cell-680facdcc98a19ab",
     "locked": false,
     "schema_version": 3,
     "solution": true,
     "task": false
    },
    "tags": []
   },
   "outputs": [
    {
     "name": "stderr",
     "output_type": "stream",
     "text": [
      "2021-02-18 10:33:04,896 : INFO : adding document #0 to Dictionary(0 unique tokens: [])\n",
      "2021-02-18 10:33:05,120 : INFO : built Dictionary(6204 unique tokens: ['-', 'algebra', 'intern', 'languag', 'preliminari']...) from 3204 documents (total 196845 corpus positions)\n",
      "2021-02-18 10:33:05,128 : INFO : discarding 4795 tokens: [('of', 2061), ('repeat', 8), ('glossari', 7), ('inspect', 8), ('the', 1794), ('uncol', 2), ('a', 1807), ('rung', 9), ('secant', 2), ('.', 1603)]...\n",
      "2021-02-18 10:33:05,128 : INFO : keeping 1409 tokens which were in no less than 10 and no more than 1602 (=50.0%) documents\n",
      "2021-02-18 10:33:05,132 : INFO : resulting dictionary: Dictionary(1409 unique tokens: ['-', 'algebra', 'intern', 'languag', 'preliminari']...)\n",
      "2021-02-18 10:33:05,245 : INFO : collecting all words and their counts\n",
      "2021-02-18 10:33:05,246 : INFO : PROGRESS: at example #0, processed 0 words (0/s), 0 word types, 0 tags\n",
      "2021-02-18 10:33:05,283 : INFO : collected 6204 word types and 3205 unique tags from a corpus of 3204 examples and 196845 words\n",
      "2021-02-18 10:33:05,284 : INFO : Loading a fresh vocabulary\n",
      "2021-02-18 10:33:05,296 : INFO : effective_min_count=1 retains 6204 unique words (100% of original 6204, drops 0)\n",
      "2021-02-18 10:33:05,296 : INFO : effective_min_count=1 leaves 196845 word corpus (100% of original 196845, drops 0)\n",
      "2021-02-18 10:33:05,316 : INFO : deleting the raw counts dictionary of 6204 items\n",
      "2021-02-18 10:33:05,316 : INFO : sample=0.001 downsamples 42 most-common words\n",
      "2021-02-18 10:33:05,317 : INFO : downsampling leaves estimated 136742 word corpus (69.5% of prior 196845)\n",
      "2021-02-18 10:33:05,335 : INFO : estimated required memory for 6204 words and 100 dimensions: 9347200 bytes\n",
      "2021-02-18 10:33:05,336 : INFO : resetting layer weights\n",
      "2021-02-18 10:33:07,156 : INFO : training model with 3 workers on 6204 vocabulary and 100 features, using sg=0 hs=0 sample=0.001 negative=5 window=5\n",
      "2021-02-18 10:33:07,378 : INFO : worker thread finished; awaiting finish of 2 more threads\n",
      "2021-02-18 10:33:07,399 : INFO : worker thread finished; awaiting finish of 1 more threads\n",
      "2021-02-18 10:33:07,400 : INFO : worker thread finished; awaiting finish of 0 more threads\n",
      "2021-02-18 10:33:07,401 : INFO : EPOCH - 1 : training on 196845 raw words (139987 effective words) took 0.2s, 584224 effective words/s\n",
      "2021-02-18 10:33:07,670 : INFO : worker thread finished; awaiting finish of 2 more threads\n",
      "2021-02-18 10:33:07,696 : INFO : worker thread finished; awaiting finish of 1 more threads\n",
      "2021-02-18 10:33:07,699 : INFO : worker thread finished; awaiting finish of 0 more threads\n",
      "2021-02-18 10:33:07,700 : INFO : EPOCH - 2 : training on 196845 raw words (139895 effective words) took 0.3s, 477315 effective words/s\n",
      "2021-02-18 10:33:07,984 : INFO : worker thread finished; awaiting finish of 2 more threads\n",
      "2021-02-18 10:33:07,999 : INFO : worker thread finished; awaiting finish of 1 more threads\n",
      "2021-02-18 10:33:08,004 : INFO : worker thread finished; awaiting finish of 0 more threads\n",
      "2021-02-18 10:33:08,005 : INFO : EPOCH - 3 : training on 196845 raw words (139880 effective words) took 0.3s, 470300 effective words/s\n",
      "2021-02-18 10:33:08,277 : INFO : worker thread finished; awaiting finish of 2 more threads\n",
      "2021-02-18 10:33:08,297 : INFO : worker thread finished; awaiting finish of 1 more threads\n",
      "2021-02-18 10:33:08,300 : INFO : worker thread finished; awaiting finish of 0 more threads\n",
      "2021-02-18 10:33:08,300 : INFO : EPOCH - 4 : training on 196845 raw words (139947 effective words) took 0.3s, 483626 effective words/s\n",
      "2021-02-18 10:33:08,561 : INFO : worker thread finished; awaiting finish of 2 more threads\n",
      "2021-02-18 10:33:08,576 : INFO : worker thread finished; awaiting finish of 1 more threads\n",
      "2021-02-18 10:33:08,577 : INFO : worker thread finished; awaiting finish of 0 more threads\n",
      "2021-02-18 10:33:08,577 : INFO : EPOCH - 5 : training on 196845 raw words (140008 effective words) took 0.3s, 515783 effective words/s\n",
      "2021-02-18 10:33:08,848 : INFO : worker thread finished; awaiting finish of 2 more threads\n",
      "2021-02-18 10:33:08,863 : INFO : worker thread finished; awaiting finish of 1 more threads\n",
      "2021-02-18 10:33:08,864 : INFO : worker thread finished; awaiting finish of 0 more threads\n",
      "2021-02-18 10:33:08,865 : INFO : EPOCH - 6 : training on 196845 raw words (140038 effective words) took 0.3s, 494883 effective words/s\n",
      "2021-02-18 10:33:09,103 : INFO : worker thread finished; awaiting finish of 2 more threads\n",
      "2021-02-18 10:33:09,117 : INFO : worker thread finished; awaiting finish of 1 more threads\n",
      "2021-02-18 10:33:09,118 : INFO : worker thread finished; awaiting finish of 0 more threads\n",
      "2021-02-18 10:33:09,119 : INFO : EPOCH - 7 : training on 196845 raw words (139724 effective words) took 0.2s, 563534 effective words/s\n",
      "2021-02-18 10:33:09,348 : INFO : worker thread finished; awaiting finish of 2 more threads\n",
      "2021-02-18 10:33:09,367 : INFO : worker thread finished; awaiting finish of 1 more threads\n",
      "2021-02-18 10:33:09,369 : INFO : worker thread finished; awaiting finish of 0 more threads\n",
      "2021-02-18 10:33:09,370 : INFO : EPOCH - 8 : training on 196845 raw words (140041 effective words) took 0.2s, 570813 effective words/s\n",
      "2021-02-18 10:33:09,609 : INFO : worker thread finished; awaiting finish of 2 more threads\n",
      "2021-02-18 10:33:09,616 : INFO : worker thread finished; awaiting finish of 1 more threads\n",
      "2021-02-18 10:33:09,617 : INFO : worker thread finished; awaiting finish of 0 more threads\n",
      "2021-02-18 10:33:09,617 : INFO : EPOCH - 9 : training on 196845 raw words (139830 effective words) took 0.2s, 577430 effective words/s\n",
      "2021-02-18 10:33:09,833 : INFO : worker thread finished; awaiting finish of 2 more threads\n",
      "2021-02-18 10:33:09,850 : INFO : worker thread finished; awaiting finish of 1 more threads\n",
      "2021-02-18 10:33:09,851 : INFO : worker thread finished; awaiting finish of 0 more threads\n",
      "2021-02-18 10:33:09,851 : INFO : EPOCH - 10 : training on 196845 raw words (140029 effective words) took 0.2s, 612235 effective words/s\n",
      "2021-02-18 10:33:10,081 : INFO : worker thread finished; awaiting finish of 2 more threads\n",
      "2021-02-18 10:33:10,102 : INFO : worker thread finished; awaiting finish of 1 more threads\n",
      "2021-02-18 10:33:10,104 : INFO : worker thread finished; awaiting finish of 0 more threads\n",
      "2021-02-18 10:33:10,105 : INFO : EPOCH - 11 : training on 196845 raw words (139782 effective words) took 0.2s, 562998 effective words/s\n",
      "2021-02-18 10:33:10,344 : INFO : worker thread finished; awaiting finish of 2 more threads\n",
      "2021-02-18 10:33:10,359 : INFO : worker thread finished; awaiting finish of 1 more threads\n",
      "2021-02-18 10:33:10,361 : INFO : worker thread finished; awaiting finish of 0 more threads\n",
      "2021-02-18 10:33:10,362 : INFO : EPOCH - 12 : training on 196845 raw words (139949 effective words) took 0.3s, 558392 effective words/s\n",
      "2021-02-18 10:33:10,586 : INFO : worker thread finished; awaiting finish of 2 more threads\n",
      "2021-02-18 10:33:10,604 : INFO : worker thread finished; awaiting finish of 1 more threads\n",
      "2021-02-18 10:33:10,607 : INFO : worker thread finished; awaiting finish of 0 more threads\n",
      "2021-02-18 10:33:10,607 : INFO : EPOCH - 13 : training on 196845 raw words (139892 effective words) took 0.2s, 582718 effective words/s\n",
      "2021-02-18 10:33:10,855 : INFO : worker thread finished; awaiting finish of 2 more threads\n",
      "2021-02-18 10:33:10,873 : INFO : worker thread finished; awaiting finish of 1 more threads\n",
      "2021-02-18 10:33:10,874 : INFO : worker thread finished; awaiting finish of 0 more threads\n",
      "2021-02-18 10:33:10,875 : INFO : EPOCH - 14 : training on 196845 raw words (140236 effective words) took 0.3s, 531809 effective words/s\n",
      "2021-02-18 10:33:11,147 : INFO : worker thread finished; awaiting finish of 2 more threads\n",
      "2021-02-18 10:33:11,162 : INFO : worker thread finished; awaiting finish of 1 more threads\n",
      "2021-02-18 10:33:11,166 : INFO : worker thread finished; awaiting finish of 0 more threads\n",
      "2021-02-18 10:33:11,167 : INFO : EPOCH - 15 : training on 196845 raw words (139647 effective words) took 0.3s, 483599 effective words/s\n",
      "2021-02-18 10:33:11,416 : INFO : worker thread finished; awaiting finish of 2 more threads\n",
      "2021-02-18 10:33:11,433 : INFO : worker thread finished; awaiting finish of 1 more threads\n"
     ]
    },
    {
     "name": "stderr",
     "output_type": "stream",
     "text": [
      "2021-02-18 10:33:11,434 : INFO : worker thread finished; awaiting finish of 0 more threads\n",
      "2021-02-18 10:33:11,435 : INFO : EPOCH - 16 : training on 196845 raw words (140080 effective words) took 0.3s, 534943 effective words/s\n",
      "2021-02-18 10:33:11,690 : INFO : worker thread finished; awaiting finish of 2 more threads\n",
      "2021-02-18 10:33:11,707 : INFO : worker thread finished; awaiting finish of 1 more threads\n",
      "2021-02-18 10:33:11,708 : INFO : worker thread finished; awaiting finish of 0 more threads\n",
      "2021-02-18 10:33:11,708 : INFO : EPOCH - 17 : training on 196845 raw words (139946 effective words) took 0.3s, 520439 effective words/s\n",
      "2021-02-18 10:33:11,955 : INFO : worker thread finished; awaiting finish of 2 more threads\n",
      "2021-02-18 10:33:11,979 : INFO : worker thread finished; awaiting finish of 1 more threads\n",
      "2021-02-18 10:33:11,983 : INFO : worker thread finished; awaiting finish of 0 more threads\n",
      "2021-02-18 10:33:11,984 : INFO : EPOCH - 18 : training on 196845 raw words (139920 effective words) took 0.3s, 516577 effective words/s\n",
      "2021-02-18 10:33:12,257 : INFO : worker thread finished; awaiting finish of 2 more threads\n",
      "2021-02-18 10:33:12,278 : INFO : worker thread finished; awaiting finish of 1 more threads\n",
      "2021-02-18 10:33:12,279 : INFO : worker thread finished; awaiting finish of 0 more threads\n",
      "2021-02-18 10:33:12,280 : INFO : EPOCH - 19 : training on 196845 raw words (139832 effective words) took 0.3s, 482338 effective words/s\n",
      "2021-02-18 10:33:12,509 : INFO : worker thread finished; awaiting finish of 2 more threads\n",
      "2021-02-18 10:33:12,524 : INFO : worker thread finished; awaiting finish of 1 more threads\n",
      "2021-02-18 10:33:12,525 : INFO : worker thread finished; awaiting finish of 0 more threads\n",
      "2021-02-18 10:33:12,527 : INFO : EPOCH - 20 : training on 196845 raw words (140063 effective words) took 0.2s, 579942 effective words/s\n",
      "2021-02-18 10:33:12,527 : INFO : training on a 3936900 raw words (2798726 effective words) took 5.4s, 521130 effective words/s\n"
     ]
    },
    {
     "data": {
      "text/plain": [
       "[(0, -0.035835788),\n",
       " (1, 0.035669368),\n",
       " (2, 0.013635722),\n",
       " (3, 0.009951726),\n",
       " (4, -0.10988473),\n",
       " (5, 0.082064755),\n",
       " (6, 0.101332575),\n",
       " (7, -0.03577373),\n",
       " (8, 0.03522782),\n",
       " (9, 0.103660055),\n",
       " (10, 0.016160747),\n",
       " (11, -0.045502227),\n",
       " (12, -0.015544295),\n",
       " (13, 0.038512185),\n",
       " (14, 0.028655764),\n",
       " (15, 0.00067865336),\n",
       " (16, 0.01592007),\n",
       " (17, -0.028375827),\n",
       " (18, -0.06585895),\n",
       " (19, -0.0018624353),\n",
       " (20, 0.059122078),\n",
       " (21, -0.11374417),\n",
       " (22, -0.061846063),\n",
       " (23, 0.026505131),\n",
       " (24, 0.048032023),\n",
       " (25, -0.061747774),\n",
       " (26, 0.020185279),\n",
       " (27, -0.026829202),\n",
       " (28, 0.057540737),\n",
       " (29, 0.025608283),\n",
       " (30, -0.002159885),\n",
       " (31, 0.07973099),\n",
       " (32, -0.034286976),\n",
       " (33, -0.034795705),\n",
       " (34, -0.10407952),\n",
       " (35, 0.045472562),\n",
       " (36, -0.07186854),\n",
       " (37, 0.12587221),\n",
       " (38, -0.0064631733),\n",
       " (39, 0.019719083),\n",
       " (40, 0.061336774),\n",
       " (41, 0.002187198),\n",
       " (42, -0.052609995),\n",
       " (43, -0.055941883),\n",
       " (44, 0.10538186),\n",
       " (45, -0.06484728),\n",
       " (46, 0.054287948),\n",
       " (47, -0.0106153255),\n",
       " (48, 0.01953684),\n",
       " (49, -0.018295806),\n",
       " (50, 0.012771494),\n",
       " (51, -0.11396936),\n",
       " (52, 0.0865376),\n",
       " (53, -0.16166525),\n",
       " (54, -0.066856086),\n",
       " (55, -0.030166497),\n",
       " (56, 0.057907287),\n",
       " (57, -0.025732022),\n",
       " (58, -0.0024134275),\n",
       " (59, -0.10573713),\n",
       " (60, -0.031113952),\n",
       " (61, -0.016831608),\n",
       " (62, 0.04504098),\n",
       " (63, 0.060128827),\n",
       " (64, 0.0053434586),\n",
       " (65, -0.0736412),\n",
       " (66, -0.094208986),\n",
       " (67, 0.0073531778),\n",
       " (68, -0.019822313),\n",
       " (69, -0.07481819),\n",
       " (70, -0.079745606),\n",
       " (71, -0.074332796),\n",
       " (72, -0.098794006),\n",
       " (73, 0.059971996),\n",
       " (74, 0.022530606),\n",
       " (75, 0.013230547),\n",
       " (76, -0.043248188),\n",
       " (77, -0.122432254),\n",
       " (78, -0.029697683),\n",
       " (79, -0.027449496),\n",
       " (80, -0.13872957),\n",
       " (81, 0.109950855),\n",
       " (82, 0.08219065),\n",
       " (83, 0.023737572),\n",
       " (84, 0.14875294),\n",
       " (85, -0.012045879),\n",
       " (86, -0.08164912),\n",
       " (87, -0.017539736),\n",
       " (88, -0.034218527),\n",
       " (89, -0.115127966),\n",
       " (90, -0.011214224),\n",
       " (91, -0.06284708),\n",
       " (92, 0.06776326),\n",
       " (93, 0.02126744),\n",
       " (94, -0.015435307),\n",
       " (95, -0.052357834),\n",
       " (96, 0.01587589),\n",
       " (97, -0.0872847),\n",
       " (98, 0.0014864585),\n",
       " (99, -0.040547363)]"
      ]
     },
     "execution_count": 93,
     "metadata": {},
     "output_type": "execute_result"
    }
   ],
   "source": [
    "# TODO: Implement this! (10 points)\n",
    "class D2VRetrievalModel(VectorSpaceRetrievalModel):\n",
    "    def __init__(self, doc_repr):\n",
    "        super().__init__(doc_repr)\n",
    "        \n",
    "        self.vector_size= 100\n",
    "        self.min_count = 1\n",
    "        self.epochs = 20\n",
    "        \n",
    "        # YOUR CODE HERE\n",
    "        self.tagged_docs = [TaggedDocument(doc, [int(doc_id)]) for doc_id, doc in self.doc_repr]\n",
    "\n",
    "    def train_model(self):\n",
    "        # YOUR CODE HERE\n",
    "        self.model = Doc2Vec(self.tagged_docs, vector_size=self.vector_size, min_count=self.min_count, epochs=self.epochs)\n",
    "    \n",
    "    def vectorize_documents(self):\n",
    "        \"\"\"\n",
    "            Returns a doc_id -> vector dictionary\n",
    "        \"\"\"\n",
    "        # YOUR CODE HERE\n",
    "        vectors = {}\n",
    "        for (doc_id, _) in self.doc_repr:\n",
    "            vectors[doc_id] = list(zip(range(self.vector_size), self.model[int(doc_id)]))\n",
    "        return vectors\n",
    "\n",
    "    def vectorize_query(self, query): \n",
    "        query = process_text(query, **config_2)\n",
    "        # YOUR CODE HERE\n",
    "        # Here we just infer the vector for the query.\n",
    "        return list(zip(range(self.vector_size), self.model.infer_vector(query)))\n",
    "        \n",
    "d2v = D2VRetrievalModel(doc_repr_2)\n",
    "d2v.train_model()\n",
    "\n",
    "\n",
    "# # you can now get an LSI vector for a given query in the following way:\n",
    "d2v.vectorize_query(\"report\")"
   ]
  },
  {
   "cell_type": "code",
   "execution_count": 94,
   "metadata": {
    "ExecuteTime": {
     "end_time": "2021-02-18T09:33:12.547042Z",
     "start_time": "2021-02-18T09:33:12.544905Z"
    },
    "deletable": false,
    "editable": false,
    "id": "PES2gma44IWw",
    "nbgrader": {
     "cell_type": "code",
     "checksum": "e83a363a9d4f136efbdde1426a83925e",
     "grade": true,
     "grade_id": "cell-5e2c5e0c9a2e8cb5",
     "locked": true,
     "points": 0,
     "schema_version": 3,
     "solution": false,
     "task": false
    }
   },
   "outputs": [],
   "source": [
    "#### Please do not change this. This cell is used for grading."
   ]
  },
  {
   "cell_type": "markdown",
   "metadata": {
    "deletable": false,
    "editable": false,
    "id": "uCHYfnTf4IWw",
    "nbgrader": {
     "cell_type": "markdown",
     "checksum": "5bb46bf6b9be1e0ca66f0b0bc6260ecb",
     "grade": false,
     "grade_id": "cell-8a49d414f798a595",
     "locked": true,
     "points": 10,
     "schema_version": 3,
     "solution": false,
     "task": true
    }
   },
   "source": [
    "\\#### Please do not change this. This cell is used for grading."
   ]
  },
  {
   "cell_type": "code",
   "execution_count": 95,
   "metadata": {
    "ExecuteTime": {
     "end_time": "2021-02-18T09:33:12.638421Z",
     "start_time": "2021-02-18T09:33:12.548895Z"
    },
    "id": "eceopG-Y4IWw",
    "tags": []
   },
   "outputs": [
    {
     "data": {
      "application/vnd.jupyter.widget-view+json": {
       "model_id": "1c0da019c5ce42d8be2fe6917f2d3ecd",
       "version_major": 2,
       "version_minor": 0
      },
      "text/plain": [
       "Text(value='', description='Search Bar')"
      ]
     },
     "metadata": {},
     "output_type": "display_data"
    }
   ],
   "source": [
    "drm_d2v = DenseRetrievalRanker(d2v, cosine_sim)\n",
    "\n",
    "# test your LDA model\n",
    "search_fn = drm_d2v.search\n",
    "\n",
    "text = widgets.Text(description=\"Search Bar\", width=200)\n",
    "display(text)\n",
    "\n",
    "\n",
    "text.on_submit(handle_submit_2)"
   ]
  },
  {
   "cell_type": "markdown",
   "metadata": {
    "deletable": false,
    "editable": false,
    "id": "uJBmD00Y4IWw",
    "nbgrader": {
     "cell_type": "markdown",
     "checksum": "363ec36c1d03d9f9e1c2045a6e193c14",
     "grade": false,
     "grade_id": "cell-3529ae29eece7b97",
     "locked": true,
     "schema_version": 3,
     "solution": false,
     "task": false
    }
   },
   "source": [
    "---\n",
    "## Section 9: Re-ranking (10 points) <a class=\"anchor\" id=\"reranking\"></a>\n",
    "\n",
    "[Back to Part 2](#part2)\n",
    "\n",
    "To motivate the re-ranking perspective (i.e retrieve with lexical method + rerank with a semantic method), let's search using semantic methods and compare it to BM25's performance, along with their runtime:\n"
   ]
  },
  {
   "cell_type": "code",
   "execution_count": 96,
   "metadata": {
    "ExecuteTime": {
     "end_time": "2021-02-18T09:34:50.143251Z",
     "start_time": "2021-02-18T09:33:12.640237Z"
    },
    "deletable": false,
    "editable": false,
    "id": "iO8Q3KWc4IWw",
    "nbgrader": {
     "cell_type": "code",
     "checksum": "5755f70e3eb28abc65d14d80125338af",
     "grade": false,
     "grade_id": "cell-f8f43bf5ae383128",
     "locked": true,
     "schema_version": 3,
     "solution": false,
     "task": false
    }
   },
   "outputs": [
    {
     "name": "stdout",
     "output_type": "stream",
     "text": [
      "BM25: \n",
      "746 µs ± 25.4 µs per loop (mean ± std. dev. of 7 runs, 1000 loops each)\n",
      "LSI: \n",
      "411 ms ± 17.5 ms per loop (mean ± std. dev. of 7 runs, 1 loop each)\n",
      "LDA: \n",
      "171 ms ± 9.02 ms per loop (mean ± std. dev. of 7 runs, 10 loops each)\n",
      "W2V: \n"
     ]
    },
    {
     "name": "stderr",
     "output_type": "stream",
     "text": [
      "<ipython-input-87-2f5bb1a63d99>:44: DeprecationWarning: Call to deprecated `__contains__` (Method will be removed in 4.0.0, use self.wv.__contains__() instead).\n",
      "  if token in self.model:\n",
      "<ipython-input-87-2f5bb1a63d99>:45: DeprecationWarning: Call to deprecated `__getitem__` (Method will be removed in 4.0.0, use self.wv.__getitem__() instead).\n",
      "  accum_vecs.append(self.model[token])\n"
     ]
    },
    {
     "name": "stdout",
     "output_type": "stream",
     "text": [
      "2.08 s ± 206 ms per loop (mean ± std. dev. of 7 runs, 1 loop each)\n",
      "W2V(Pretrained): \n",
      "5.15 s ± 146 ms per loop (mean ± std. dev. of 7 runs, 1 loop each)\n",
      "D2V:\n",
      "1.75 s ± 119 ms per loop (mean ± std. dev. of 7 runs, 1 loop each)\n"
     ]
    }
   ],
   "source": [
    "query = \"algebraic functions\"\n",
    "print(\"BM25: \")\n",
    "%timeit bm25_search(query, 2)\n",
    "print(\"LSI: \")\n",
    "%timeit drm_lsi.search(query)\n",
    "print(\"LDA: \")\n",
    "%timeit drm_lda.search(query)\n",
    "print(\"W2V: \")\n",
    "%timeit drm_w2v.search(query)\n",
    "print(\"W2V(Pretrained): \")\n",
    "%timeit drm_w2v_pretrained.search(query)\n",
    "print(\"D2V:\")\n",
    "%timeit drm_d2v.search(query)"
   ]
  },
  {
   "cell_type": "markdown",
   "metadata": {
    "deletable": false,
    "editable": false,
    "id": "oBnOArQC4IWx",
    "nbgrader": {
     "cell_type": "markdown",
     "checksum": "ae398da0a8c23c95bcbb0023b7ec6f34",
     "grade": false,
     "grade_id": "cell-db5ff09f97841af7",
     "locked": true,
     "schema_version": 3,
     "solution": false,
     "task": false
    }
   },
   "source": [
    "---\n",
    "\n",
    "**Implementation (10 points):**\n",
    "Re-ranking involves retrieving a small set of documents using simple but fast methods like BM25 and then re-ranking them with the aid of semantic methods such as LDA or LSI. Implement the following class, which takes in an `initial_retrieval_fn` - the initial retrieval function and `vsrm` - an instance of the `VectorSpaceRetrievalModel` class (i.e LSI/LDA) as input. The search function should first retrieve an initial list of K documents, and then these documents are re-ranked using a semantic method. This not only makes retrieval faster, but semantic methods perform poorly when used in isolation, as you will find out."
   ]
  },
  {
   "cell_type": "code",
   "execution_count": 238,
   "metadata": {
    "ExecuteTime": {
     "end_time": "2021-02-18T14:19:33.557430Z",
     "start_time": "2021-02-18T14:19:33.551407Z"
    },
    "deletable": false,
    "id": "Uxl8iQ1q4IWx",
    "nbgrader": {
     "cell_type": "code",
     "checksum": "63b6b05a676a2ae3f08d8bed1bc59428",
     "grade": false,
     "grade_id": "cell-5bf47600d1a0c507",
     "locked": false,
     "schema_version": 3,
     "solution": true,
     "task": false
    }
   },
   "outputs": [],
   "source": [
    "# TODO: Implement this! (10 points)\n",
    "class DenseRerankingModel:\n",
    "    def __init__(self, initial_retrieval_fn, vsrm, similarity_fn):\n",
    "        \"\"\"\n",
    "            initial_retrieval_fn: takes in a query and returns a list of [(doc_id, score)] (sorted)\n",
    "            vsrm: instance of `VectorSpaceRetrievalModel`\n",
    "            similarity_fn: function instance that takes in two vectors \n",
    "                            and returns a similarity score e.g cosine_sim defined earlier\n",
    "        \"\"\"\n",
    "        self.ret = initial_retrieval_fn\n",
    "        self.vsrm = vsrm\n",
    "        self.similarity_fn = similarity_fn\n",
    "        self.vectorized_documents = vsrm.vectorize_documents()\n",
    "        \n",
    "        assert len(self.vectorized_documents) == len(doc_repr_2)\n",
    "    \n",
    "    def search(self, query, K=50):\n",
    "        \"\"\"\n",
    "            First, retrieve the top K results using the retrieval function\n",
    "            Then, re-rank the results using the VSRM instance\n",
    "        \"\"\"\n",
    "        # YOUR CODE HERE\n",
    "        init_ranking = self.ret(query)[:K]\n",
    "        doc_ids_init_ranking = [rank[0] for rank in init_ranking]\n",
    "        rerank_docs = {}\n",
    "        for doc_id in doc_ids_init_ranking:\n",
    "            rerank_docs[doc_id] = self.vectorized_documents[doc_id]\n",
    "        \n",
    "        rerank_results = []\n",
    "        query_vector = self.vsrm.vectorize_query(query)\n",
    "        for key, doc_vector in rerank_docs.items():\n",
    "            score = self.similarity_fn(query_vector, doc_vector)\n",
    "            rerank_results.append((key,score))\n",
    "\n",
    "        rerank_results.sort(key=lambda _:-_[1])\n",
    "        return rerank_results"
   ]
  },
  {
   "cell_type": "code",
   "execution_count": 239,
   "metadata": {
    "ExecuteTime": {
     "end_time": "2021-02-18T14:19:40.339307Z",
     "start_time": "2021-02-18T14:19:35.043376Z"
    },
    "deletable": false,
    "editable": false,
    "id": "rNBMLq3T4IWx",
    "nbgrader": {
     "cell_type": "code",
     "checksum": "334ab5af96976265cace682ab82a7387",
     "grade": true,
     "grade_id": "cell-52c6d18a4c0b4882",
     "locked": true,
     "points": 0,
     "schema_version": 3,
     "solution": false,
     "task": false
    }
   },
   "outputs": [
    {
     "name": "stderr",
     "output_type": "stream",
     "text": [
      "<ipython-input-87-2f5bb1a63d99>:26: DeprecationWarning: Call to deprecated `__contains__` (Method will be removed in 4.0.0, use self.wv.__contains__() instead).\n",
      "  if token in self.model:\n",
      "<ipython-input-87-2f5bb1a63d99>:27: DeprecationWarning: Call to deprecated `__getitem__` (Method will be removed in 4.0.0, use self.wv.__getitem__() instead).\n",
      "  accum_vecs.append(self.model[token])\n"
     ]
    }
   ],
   "source": [
    "##### Function check\n",
    "bm25_search_2 = partial(bm25_search, index_set=2)\n",
    "lsi_rerank = DenseRerankingModel(bm25_search_2, lsi, cosine_sim)\n",
    "lda_rerank = DenseRerankingModel(bm25_search_2, lda, jenson_shannon_sim)\n",
    "w2v_rerank = DenseRerankingModel(bm25_search_2, w2v, cosine_sim)\n",
    "w2v_pretrained_rerank = DenseRerankingModel(bm25_search_2, w2v_pretrained, cosine_sim)\n",
    "d2v_rerank = DenseRerankingModel(bm25_search_2, d2v, cosine_sim)\n",
    "\n",
    "##### "
   ]
  },
  {
   "cell_type": "markdown",
   "metadata": {
    "deletable": false,
    "editable": false,
    "id": "LPYGMblR4IWx",
    "nbgrader": {
     "cell_type": "markdown",
     "checksum": "bd904253f45f84e63bab3a69729058fc",
     "grade": false,
     "grade_id": "cell-93215dfe6bcf7cff",
     "locked": true,
     "points": 10,
     "schema_version": 3,
     "solution": false,
     "task": true
    }
   },
   "source": [
    "\\#### Please do not change this. This cell is used for grading."
   ]
  },
  {
   "cell_type": "markdown",
   "metadata": {
    "deletable": false,
    "editable": false,
    "id": "qkEXXhZR4IWx",
    "nbgrader": {
     "cell_type": "markdown",
     "checksum": "b592e60292bfe3d9ef2930a354c4077a",
     "grade": false,
     "grade_id": "cell-aa694ff55fa91e7d",
     "locked": true,
     "schema_version": 3,
     "solution": false,
     "task": false
    }
   },
   "source": [
    "---\n",
    "Now, let us time the new search functions:"
   ]
  },
  {
   "cell_type": "code",
   "execution_count": 240,
   "metadata": {
    "ExecuteTime": {
     "end_time": "2021-02-18T14:20:13.305181Z",
     "start_time": "2021-02-18T14:19:46.453822Z"
    },
    "deletable": false,
    "editable": false,
    "id": "CLJJ1U8P4IWy",
    "nbgrader": {
     "cell_type": "code",
     "checksum": "338c7e3528cba266a865a061287c0e38",
     "grade": false,
     "grade_id": "cell-5edbd481562ad91f",
     "locked": true,
     "schema_version": 3,
     "solution": false,
     "task": false
    },
    "scrolled": false
   },
   "outputs": [
    {
     "name": "stdout",
     "output_type": "stream",
     "text": [
      "BM25: \n",
      "713 µs ± 5.09 µs per loop (mean ± std. dev. of 7 runs, 1000 loops each)\n",
      "LSI: \n",
      "7.6 ms ± 116 µs per loop (mean ± std. dev. of 7 runs, 100 loops each)\n",
      "LDA: \n",
      "3.7 ms ± 78.6 µs per loop (mean ± std. dev. of 7 runs, 100 loops each)\n",
      "W2V: \n"
     ]
    },
    {
     "name": "stderr",
     "output_type": "stream",
     "text": [
      "<ipython-input-87-2f5bb1a63d99>:44: DeprecationWarning: Call to deprecated `__contains__` (Method will be removed in 4.0.0, use self.wv.__contains__() instead).\n",
      "  if token in self.model:\n",
      "<ipython-input-87-2f5bb1a63d99>:45: DeprecationWarning: Call to deprecated `__getitem__` (Method will be removed in 4.0.0, use self.wv.__getitem__() instead).\n",
      "  accum_vecs.append(self.model[token])\n"
     ]
    },
    {
     "name": "stdout",
     "output_type": "stream",
     "text": [
      "28.9 ms ± 677 µs per loop (mean ± std. dev. of 7 runs, 10 loops each)\n",
      "W2V(Pretrained): \n",
      "83.6 ms ± 3.01 ms per loop (mean ± std. dev. of 7 runs, 10 loops each)\n",
      "D2V:\n",
      "34 ms ± 5.03 ms per loop (mean ± std. dev. of 7 runs, 10 loops each)\n"
     ]
    }
   ],
   "source": [
    "query = \"algebraic functions\"\n",
    "print(\"BM25: \")\n",
    "%timeit bm25_search(query, 2)\n",
    "print(\"LSI: \")\n",
    "%timeit lsi_rerank.search(query)\n",
    "print(\"LDA: \")\n",
    "%timeit lda_rerank.search(query)\n",
    "print(\"W2V: \")\n",
    "%timeit w2v_rerank.search(query)\n",
    "print(\"W2V(Pretrained): \")\n",
    "%timeit w2v_pretrained_rerank.search(query)\n",
    "print(\"D2V:\")\n",
    "%timeit d2v_rerank.search(query)"
   ]
  },
  {
   "cell_type": "markdown",
   "metadata": {
    "deletable": false,
    "editable": false,
    "id": "3YxKmu1l4IWy",
    "nbgrader": {
     "cell_type": "markdown",
     "checksum": "c45c5e3f015b2de89d9d39ae3766368b",
     "grade": false,
     "grade_id": "cell-85c50f2ab9eec301",
     "locked": true,
     "schema_version": 3,
     "solution": false,
     "task": false
    }
   },
   "source": [
    "---\n",
    "As you can see, it is much faster (but BM25 is still orders of magnitude faster)."
   ]
  },
  {
   "cell_type": "markdown",
   "metadata": {
    "deletable": false,
    "editable": false,
    "id": "MdjNyWo34IWy",
    "nbgrader": {
     "cell_type": "markdown",
     "checksum": "1e2f3388e3807659f303fe31a75a010e",
     "grade": false,
     "grade_id": "cell-5071bb99b2af61cb",
     "locked": true,
     "schema_version": 3,
     "solution": false,
     "task": false
    }
   },
   "source": [
    "---\n",
    "## Section 10: Evaluation & Analysis (30 points) <a class=\"anchor\" id=\"reranking_eval\"></a>\n",
    "\n",
    "[Back to Part 2](#part2)\n",
    "\n",
    "[Previously](#evaluation) we have implemented some evaluation metrics and used them for measuring the ranking performance of term-based IR algorithms. In this section, we will do the same for semantic methods, both with and without re-ranking.\n",
    "\n",
    "### Section 10.1: Plot (10 points)\n",
    "\n",
    "First, gather the results. The results should consider the index set, the different search functions and different metrics. Plot the results in bar charts, per metric, with clear labels.\n",
    "\n",
    "Then, gather only the re-ranking models, and plot and compare them with the results obtained in part 1 (only index set 2)."
   ]
  },
  {
   "cell_type": "code",
   "execution_count": 220,
   "metadata": {
    "ExecuteTime": {
     "end_time": "2021-02-18T14:07:30.720770Z",
     "start_time": "2021-02-18T14:07:30.715784Z"
    },
    "deletable": false,
    "editable": false,
    "id": "2Y2Ntwj84IWy",
    "nbgrader": {
     "cell_type": "code",
     "checksum": "4fe81520ac6413a803838913fd64de03",
     "grade": false,
     "grade_id": "cell-b672fe6dfae0b1ce",
     "locked": true,
     "schema_version": 3,
     "solution": false,
     "task": false
    }
   },
   "outputs": [],
   "source": [
    "list_of_sem_search_fns = [\n",
    "    (\"lda\", drm_lda.search),\n",
    "    (\"lsi\", drm_lsi.search),\n",
    "    (\"w2v\", drm_w2v.search),\n",
    "    (\"w2v_pretrained\", drm_w2v_pretrained.search),\n",
    "    (\"d2v\", drm_d2v.search),\n",
    "    (\"lsi_rr\", lsi_rerank.search),\n",
    "    (\"lda_rr\", lda_rerank.search),\n",
    "    (\"w2v_rr\", w2v_rerank.search),\n",
    "    (\"w2v_pretrained_rr\", w2v_pretrained_rerank.search),\n",
    "    (\"d2v_rr\", d2v_rerank.search),\n",
    "    \n",
    "]"
   ]
  },
  {
   "cell_type": "code",
   "execution_count": 241,
   "metadata": {
    "ExecuteTime": {
     "end_time": "2021-02-18T14:24:15.576279Z",
     "start_time": "2021-02-18T14:23:41.234736Z"
    },
    "deletable": false,
    "id": "XqoUKAKO4IWy",
    "nbgrader": {
     "cell_type": "code",
     "checksum": "54707c4afac084299aeefa047259b4a9",
     "grade": true,
     "grade_id": "cell-7dd8273b0f5a3c22",
     "locked": false,
     "points": 10,
     "schema_version": 3,
     "solution": true,
     "task": false
    },
    "scrolled": true
   },
   "outputs": [
    {
     "ename": "KeyboardInterrupt",
     "evalue": "",
     "output_type": "error",
     "traceback": [
      "\u001b[1;31m---------------------------------------------------------------------------\u001b[0m",
      "\u001b[1;31mKeyboardInterrupt\u001b[0m                         Traceback (most recent call last)",
      "\u001b[1;32m<ipython-input-241-df81789e775a>\u001b[0m in \u001b[0;36m<module>\u001b[1;34m\u001b[0m\n\u001b[0;32m     21\u001b[0m \u001b[1;32mfor\u001b[0m \u001b[1;33m(\u001b[0m\u001b[0mname\u001b[0m\u001b[1;33m,\u001b[0m\u001b[0mfn\u001b[0m\u001b[1;33m)\u001b[0m \u001b[1;32min\u001b[0m \u001b[0mlist_of_sem_search_fns\u001b[0m\u001b[1;33m:\u001b[0m\u001b[1;33m\u001b[0m\u001b[1;33m\u001b[0m\u001b[0m\n\u001b[0;32m     22\u001b[0m     \u001b[1;32mif\u001b[0m \u001b[0mname\u001b[0m\u001b[1;33m[\u001b[0m\u001b[1;33m-\u001b[0m\u001b[1;36m2\u001b[0m\u001b[1;33m:\u001b[0m\u001b[1;33m]\u001b[0m \u001b[1;33m!=\u001b[0m \u001b[1;34m'rr'\u001b[0m\u001b[1;33m:\u001b[0m\u001b[1;33m\u001b[0m\u001b[1;33m\u001b[0m\u001b[0m\n\u001b[1;32m---> 23\u001b[1;33m         \u001b[0mresult\u001b[0m \u001b[1;33m=\u001b[0m \u001b[0mevaluate_search_fn\u001b[0m\u001b[1;33m(\u001b[0m\u001b[0mfn\u001b[0m\u001b[1;33m,\u001b[0m\u001b[0mlist_of_metrics\u001b[0m\u001b[1;33m)\u001b[0m\u001b[1;33m\u001b[0m\u001b[1;33m\u001b[0m\u001b[0m\n\u001b[0m\u001b[0;32m     24\u001b[0m         \u001b[1;32mfor\u001b[0m \u001b[0mkey\u001b[0m\u001b[1;33m,\u001b[0m\u001b[0mvalue\u001b[0m \u001b[1;32min\u001b[0m \u001b[0mresult\u001b[0m\u001b[1;33m.\u001b[0m\u001b[0mitems\u001b[0m\u001b[1;33m(\u001b[0m\u001b[1;33m)\u001b[0m\u001b[1;33m:\u001b[0m\u001b[1;33m\u001b[0m\u001b[1;33m\u001b[0m\u001b[0m\n\u001b[0;32m     25\u001b[0m             \u001b[0mtoplot\u001b[0m\u001b[1;33m[\u001b[0m\u001b[0mkey\u001b[0m\u001b[1;33m]\u001b[0m\u001b[1;33m.\u001b[0m\u001b[0mappend\u001b[0m\u001b[1;33m(\u001b[0m\u001b[0mvalue\u001b[0m\u001b[1;33m)\u001b[0m\u001b[1;33m\u001b[0m\u001b[1;33m\u001b[0m\u001b[0m\n",
      "\u001b[1;32m<ipython-input-110-bdf9118cd741>\u001b[0m in \u001b[0;36mevaluate_search_fn\u001b[1;34m(search_fn, metric_fns, index_set)\u001b[0m\n\u001b[0;32m     21\u001b[0m             \u001b[0mresults\u001b[0m \u001b[1;33m=\u001b[0m \u001b[0msearch_fn\u001b[0m\u001b[1;33m(\u001b[0m\u001b[0mquery\u001b[0m\u001b[1;33m,\u001b[0m \u001b[0mindex_set\u001b[0m\u001b[1;33m)\u001b[0m\u001b[1;33m\u001b[0m\u001b[1;33m\u001b[0m\u001b[0m\n\u001b[0;32m     22\u001b[0m         \u001b[1;32melse\u001b[0m\u001b[1;33m:\u001b[0m\u001b[1;33m\u001b[0m\u001b[1;33m\u001b[0m\u001b[0m\n\u001b[1;32m---> 23\u001b[1;33m             \u001b[0mresults\u001b[0m \u001b[1;33m=\u001b[0m \u001b[0msearch_fn\u001b[0m\u001b[1;33m(\u001b[0m\u001b[0mquery\u001b[0m\u001b[1;33m)\u001b[0m\u001b[1;33m\u001b[0m\u001b[1;33m\u001b[0m\u001b[0m\n\u001b[0m\u001b[0;32m     24\u001b[0m \u001b[1;33m\u001b[0m\u001b[0m\n\u001b[0;32m     25\u001b[0m         \u001b[1;32mfor\u001b[0m \u001b[0mmetric\u001b[0m\u001b[1;33m,\u001b[0m \u001b[0mmetric_fn\u001b[0m \u001b[1;32min\u001b[0m \u001b[0mmetric_fns\u001b[0m\u001b[1;33m:\u001b[0m\u001b[1;33m\u001b[0m\u001b[1;33m\u001b[0m\u001b[0m\n",
      "\u001b[1;32m<ipython-input-79-eee8a0bf28a6>\u001b[0m in \u001b[0;36msearch\u001b[1;34m(self, query)\u001b[0m\n\u001b[0;32m     27\u001b[0m \u001b[1;33m\u001b[0m\u001b[0m\n\u001b[0;32m     28\u001b[0m     \u001b[1;32mdef\u001b[0m \u001b[0msearch\u001b[0m\u001b[1;33m(\u001b[0m\u001b[0mself\u001b[0m\u001b[1;33m,\u001b[0m \u001b[0mquery\u001b[0m\u001b[1;33m)\u001b[0m\u001b[1;33m:\u001b[0m\u001b[1;33m\u001b[0m\u001b[1;33m\u001b[0m\u001b[0m\n\u001b[1;32m---> 29\u001b[1;33m         \u001b[0mscores\u001b[0m \u001b[1;33m=\u001b[0m \u001b[0mself\u001b[0m\u001b[1;33m.\u001b[0m\u001b[0m_compute_sim\u001b[0m\u001b[1;33m(\u001b[0m\u001b[0mself\u001b[0m\u001b[1;33m.\u001b[0m\u001b[0mvsrm\u001b[0m\u001b[1;33m.\u001b[0m\u001b[0mvectorize_query\u001b[0m\u001b[1;33m(\u001b[0m\u001b[0mquery\u001b[0m\u001b[1;33m)\u001b[0m\u001b[1;33m)\u001b[0m\u001b[1;33m\u001b[0m\u001b[1;33m\u001b[0m\u001b[0m\n\u001b[0m\u001b[0;32m     30\u001b[0m         \u001b[0mscores\u001b[0m\u001b[1;33m.\u001b[0m\u001b[0msort\u001b[0m\u001b[1;33m(\u001b[0m\u001b[0mkey\u001b[0m\u001b[1;33m=\u001b[0m\u001b[1;32mlambda\u001b[0m \u001b[0m_\u001b[0m\u001b[1;33m:\u001b[0m\u001b[1;33m-\u001b[0m\u001b[0m_\u001b[0m\u001b[1;33m[\u001b[0m\u001b[1;36m1\u001b[0m\u001b[1;33m]\u001b[0m\u001b[1;33m)\u001b[0m\u001b[1;33m\u001b[0m\u001b[1;33m\u001b[0m\u001b[0m\n\u001b[0;32m     31\u001b[0m         \u001b[1;32mreturn\u001b[0m \u001b[0mscores\u001b[0m\u001b[1;33m\u001b[0m\u001b[1;33m\u001b[0m\u001b[0m\n",
      "\u001b[1;32m<ipython-input-79-eee8a0bf28a6>\u001b[0m in \u001b[0;36m_compute_sim\u001b[1;34m(self, query_vector)\u001b[0m\n\u001b[0;32m     22\u001b[0m         \u001b[1;32mfor\u001b[0m \u001b[0mkey\u001b[0m\u001b[1;33m,\u001b[0m \u001b[0mdoc\u001b[0m \u001b[1;32min\u001b[0m \u001b[0mself\u001b[0m\u001b[1;33m.\u001b[0m\u001b[0mvectorized_documents\u001b[0m\u001b[1;33m.\u001b[0m\u001b[0mitems\u001b[0m\u001b[1;33m(\u001b[0m\u001b[1;33m)\u001b[0m\u001b[1;33m:\u001b[0m\u001b[1;33m\u001b[0m\u001b[1;33m\u001b[0m\u001b[0m\n\u001b[0;32m     23\u001b[0m             \u001b[1;32mif\u001b[0m \u001b[0mlen\u001b[0m\u001b[1;33m(\u001b[0m\u001b[0mdoc\u001b[0m\u001b[1;33m)\u001b[0m \u001b[1;33m!=\u001b[0m \u001b[1;36m0\u001b[0m\u001b[1;33m:\u001b[0m\u001b[1;33m\u001b[0m\u001b[1;33m\u001b[0m\u001b[0m\n\u001b[1;32m---> 24\u001b[1;33m                 \u001b[0mscore\u001b[0m \u001b[1;33m=\u001b[0m \u001b[0mself\u001b[0m\u001b[1;33m.\u001b[0m\u001b[0msimilarity_fn\u001b[0m\u001b[1;33m(\u001b[0m\u001b[0mdoc\u001b[0m\u001b[1;33m,\u001b[0m\u001b[0mself\u001b[0m\u001b[1;33m.\u001b[0m\u001b[0mquery_vector\u001b[0m\u001b[1;33m)\u001b[0m\u001b[1;33m\u001b[0m\u001b[1;33m\u001b[0m\u001b[0m\n\u001b[0m\u001b[0;32m     25\u001b[0m                 \u001b[0mresult_list\u001b[0m\u001b[1;33m.\u001b[0m\u001b[0mappend\u001b[0m\u001b[1;33m(\u001b[0m\u001b[1;33m(\u001b[0m\u001b[0mkey\u001b[0m\u001b[1;33m,\u001b[0m\u001b[0mscore\u001b[0m\u001b[1;33m)\u001b[0m\u001b[1;33m)\u001b[0m\u001b[1;33m\u001b[0m\u001b[1;33m\u001b[0m\u001b[0m\n\u001b[0;32m     26\u001b[0m         \u001b[1;32mreturn\u001b[0m \u001b[0mresult_list\u001b[0m\u001b[1;33m\u001b[0m\u001b[1;33m\u001b[0m\u001b[0m\n",
      "\u001b[1;32m<ipython-input-73-4bc52f2db943>\u001b[0m in \u001b[0;36mcosine_sim\u001b[1;34m(vec_1, vec_2)\u001b[0m\n\u001b[0;32m     23\u001b[0m     \u001b[1;32mfor\u001b[0m \u001b[0mi\u001b[0m \u001b[1;32min\u001b[0m \u001b[0mrange\u001b[0m\u001b[1;33m(\u001b[0m\u001b[0mlen\u001b[0m\u001b[1;33m(\u001b[0m\u001b[0mvec_1\u001b[0m\u001b[1;33m)\u001b[0m\u001b[1;33m)\u001b[0m\u001b[1;33m:\u001b[0m\u001b[1;33m\u001b[0m\u001b[1;33m\u001b[0m\u001b[0m\n\u001b[0;32m     24\u001b[0m         \u001b[0mres_a\u001b[0m \u001b[1;33m+=\u001b[0m \u001b[0mvec_1\u001b[0m\u001b[1;33m[\u001b[0m\u001b[0mi\u001b[0m\u001b[1;33m]\u001b[0m\u001b[1;33m[\u001b[0m\u001b[1;36m1\u001b[0m\u001b[1;33m]\u001b[0m \u001b[1;33m**\u001b[0m \u001b[1;36m2\u001b[0m\u001b[1;33m\u001b[0m\u001b[1;33m\u001b[0m\u001b[0m\n\u001b[1;32m---> 25\u001b[1;33m         \u001b[0mres_b\u001b[0m \u001b[1;33m+=\u001b[0m \u001b[0mvec_2\u001b[0m\u001b[1;33m[\u001b[0m\u001b[0mi\u001b[0m\u001b[1;33m]\u001b[0m\u001b[1;33m[\u001b[0m\u001b[1;36m1\u001b[0m\u001b[1;33m]\u001b[0m \u001b[1;33m**\u001b[0m \u001b[1;36m2\u001b[0m\u001b[1;33m\u001b[0m\u001b[1;33m\u001b[0m\u001b[0m\n\u001b[0m\u001b[0;32m     26\u001b[0m     \u001b[0mnumerator\u001b[0m \u001b[1;33m=\u001b[0m \u001b[0mdot\u001b[0m\u001b[1;33m(\u001b[0m\u001b[0mvec_1\u001b[0m\u001b[1;33m,\u001b[0m\u001b[0mvec_2\u001b[0m\u001b[1;33m)\u001b[0m\u001b[1;33m\u001b[0m\u001b[1;33m\u001b[0m\u001b[0m\n\u001b[0;32m     27\u001b[0m \u001b[1;33m\u001b[0m\u001b[0m\n",
      "\u001b[1;31mKeyboardInterrupt\u001b[0m: "
     ]
    }
   ],
   "source": [
    "# YOUR CODE HERE\n",
    "toplot = {'ERR':[],\n",
    "          'MAP':[],\n",
    "          'Recall@1':[],\n",
    "          'Recall@5':[],\n",
    "          'Recall@10':[],\n",
    "          'Precision@1':[],\n",
    "          'Precision@5':[],\n",
    "          'Precision@10':[]\n",
    "         }\n",
    "toplot_rr = {'ERR':[],\n",
    "          'MAP':[],\n",
    "          'Recall@1':[],\n",
    "          'Recall@5':[],\n",
    "          'Recall@10':[],\n",
    "          'Precision@1':[],\n",
    "          'Precision@5':[],\n",
    "          'Precision@10':[]\n",
    "         }\n",
    "\n",
    "for (name,fn) in list_of_sem_search_fns:\n",
    "    if name[-2:] != 'rr':\n",
    "        result = evaluate_search_fn(fn,list_of_metrics)\n",
    "        for key,value in result.items():\n",
    "            toplot[key].append(value)\n",
    "    else:\n",
    "        result = evaluate_search_fn(fn,list_of_metrics,2)\n",
    "        for key,value in result.items():\n",
    "            toplot_rr[key].append(value)\n",
    "            \n",
    "for (name,list_scores) in toplot.items():\n",
    "    objects = dict(list_of_sem_search_fns[:5]).keys()\n",
    "    y_pos = np.arange(len(objects))\n",
    "    score = list_scores\n",
    "    plt.bar(y_pos, score, align='center', alpha=0.5, color='b')\n",
    "    plt.xticks(y_pos, objects)\n",
    "    plt.ylabel('Scores')\n",
    "    plt.title('Results using ' + name + ' metric')\n",
    "    plt.show()\n",
    "    \n",
    "for (name,list_scores) in toplot_rr.items():\n",
    "    objects = dict(list_of_sem_search_fns[5:]).keys()\n",
    "    y_pos = np.arange(len(objects))\n",
    "    score = list_scores\n",
    "    plt.bar(y_pos, score, align='center', alpha=0.5, color='b')\n",
    "    plt.xticks(y_pos, objects)\n",
    "    plt.ylabel('Scores')\n",
    "    plt.title('Results using ' + name + ' metric')\n",
    "    plt.show()"
   ]
  },
  {
   "cell_type": "markdown",
   "metadata": {
    "deletable": false,
    "editable": false,
    "id": "TO7Rx1xc4IWy",
    "nbgrader": {
     "cell_type": "markdown",
     "checksum": "a8a3b6189bdde66704c694d85e38d049",
     "grade": false,
     "grade_id": "cell-deb2ef3daa306e82",
     "locked": true,
     "schema_version": 3,
     "solution": false,
     "task": false
    }
   },
   "source": [
    "### Section 10.2: Summary (20 points)\n",
    "\n",
    "Your summary should compare methods from Part 1 and Part 2 (only for index set 2). State what you expected to see in the results, followed by either supporting evidence *or* justify why the results did not support your expectations. Consider the availability of data, scalability, domain/type of data, etc."
   ]
  },
  {
   "cell_type": "markdown",
   "metadata": {
    "deletable": false,
    "id": "8kHCX99n4IWz",
    "nbgrader": {
     "cell_type": "markdown",
     "checksum": "ff97c43837d10bff6aaffa75e1492887",
     "grade": true,
     "grade_id": "cell-ec5dd7d9cf59dd86",
     "locked": false,
     "points": 20,
     "schema_version": 3,
     "solution": true,
     "task": false
    }
   },
   "source": [
    "YOUR ANSWER HERE"
   ]
  }
 ],
 "metadata": {
  "colab": {
   "collapsed_sections": [
    "7PZ1YsjO4IWa",
    "PEw9RAKO4IWc",
    "M10Gq1wo4IWd",
    "ARVTcJrC4IWe",
    "pu4nDAJQ4IWe",
    "D3EIl_rY4IWf",
    "43wdjFkt4IWf",
    "a6te4fbZ4IWg",
    "X2fSm6OJ4IWg",
    "CF8mA1LD4IWh",
    "PwcdEmYB4IWi",
    "a3vu_N7C4IWj",
    "bD5EZ9eN4IWl",
    "V_eNBPNC4IWl",
    "gLVYII234IWl",
    "Ad2E1OAb4IWm",
    "rsVw36Qs4IWn",
    "O6zOyivS4IWn",
    "Q38CrFOO4IWo",
    "Gh1iz9Ht4IWo",
    "b54ANEqK4IWp",
    "lZ3SttfV4IWp",
    "-hdtSyZZ4IWp",
    "KqeQEm1Q4IWq",
    "-EkJ-o9j4IWr",
    "0PGe6mPD4IWt",
    "xMbAwqEW4IWt",
    "1qyB_mcw4IWt",
    "xa0oM-SP4IWu",
    "uJBmD00Y4IWw",
    "MdjNyWo34IWy",
    "TO7Rx1xc4IWy"
   ],
   "name": "13322915_13325957_13326481.ipynb",
   "provenance": []
  },
  "kernelspec": {
   "display_name": "Python 3",
   "language": "python",
   "name": "python3"
  },
  "language_info": {
   "codemirror_mode": {
    "name": "ipython",
    "version": 3
   },
   "file_extension": ".py",
   "mimetype": "text/x-python",
   "name": "python",
   "nbconvert_exporter": "python",
   "pygments_lexer": "ipython3",
   "version": "3.8.5"
  }
 },
 "nbformat": 4,
 "nbformat_minor": 1
}
