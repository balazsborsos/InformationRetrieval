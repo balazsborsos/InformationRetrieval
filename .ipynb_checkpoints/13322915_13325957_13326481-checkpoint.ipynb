{
 "cells": [
  {
   "cell_type": "markdown",
   "metadata": {
    "deletable": false,
    "editable": false,
    "id": "BBPDEKU44IWO",
    "nbgrader": {
     "cell_type": "markdown",
     "checksum": "758d05f39ab671358f17858c55f7161c",
     "grade": false,
     "grade_id": "cell-c9cd9e550239e812",
     "locked": true,
     "schema_version": 3,
     "solution": false,
     "task": false
    }
   },
   "source": [
    "# Homework 1 (Total Points: 260) <a class=\"anchor\" id=\"top\"></a>\n",
    "\n",
    "\n",
    "**Submission instructions**:\n",
    "- Only the code `TODO: Implement this!` denotes that these sections are graded.\n",
    "- For Part 1: You can use the `nltk`, `numpy` and `matplotlib` libraries here. Other libraries, e.g., `gensim` or `scikit-learn`, may not be used. For Part 2: `gensim` is allowed in addition to the imported libraries in the next code cell\n",
    "- The notebook you submit has to have the student ids, separated by underscores (E.g., `12341234_12341234_12341234.ipynb`). \n",
    "- This will be parsed by a regexp, so please double check your filename.\n",
    "- Only one member of each group has to submit the file to canvas.\n",
    "- Make sure to check that your notebook runs before submission. A quick way to do this is to restart the kernel and run all the cells.  \n",
    "- Please do not delete/add new cells. Removing cells can lead to grade deduction.\n",
    "- Note, that you are not allowed to use Google Colab.\n",
    "\n",
    "\n",
    "**Learning Goals**:\n",
    "- [Part 1, Term-based matching](#part1) (175 points):\n",
    "    - Learn how to load a dataset and process it.\n",
    "    - Learn how to implement several standard IR methods (TF-IDF, BM25, QL) and understand their weaknesses & strengths.\n",
    "    - Learn how to evaluate IR methods.\n",
    "- [Part 2, Semantic-based matching](#part2) (85 points):\n",
    "    - Learn how to implement vector-space retrieval methods (LSI, LDA).\n",
    "    - Learn how to use LSI and LDA for re-ranking\n",
    "\n",
    "    \n",
    "**Resources**: \n",
    "- **Part 1**: Sections 2.3, 4.1, 4.2, 4.3, 5.3, 5.6, 5.7, 6.2, 7, 8 of [Search Engines: Information Retrieval in Practice](https://ciir.cs.umass.edu/downloads/SEIRiP.pdf)\n",
    "- **Part 2**: [LSI - Chapter 18](https://nlp.stanford.edu/IR-book/pdf/18lsi.pdf) from [Introduction to Information Retrieval](https://nlp.stanford.edu/IR-book/) book and the [original LDA paper](https://jmlr.org/papers/volume3/blei03a/blei03a.pdf)"
   ]
  },
  {
   "cell_type": "code",
   "execution_count": 1,
   "metadata": {
    "ExecuteTime": {
     "end_time": "2021-02-09T08:10:43.761403Z",
     "start_time": "2021-02-09T08:10:42.481741Z"
    },
    "deletable": false,
    "editable": false,
    "id": "RS9pLvO94IWT",
    "nbgrader": {
     "cell_type": "code",
     "checksum": "c55bfe94ff1f564dd595547e516c4c6e",
     "grade": false,
     "grade_id": "cell-f5357fabdb9660e3",
     "locked": true,
     "schema_version": 3,
     "solution": false,
     "task": false
    }
   },
   "outputs": [],
   "source": [
    "# imports \n",
    "# TODO: Ensure that no additional library is imported in the notebook. \n",
    "# TODO: Only the standard library and the following libraries are allowed:\n",
    "# TODO: You can also use unlisted classes from these libraries or standard libraries (such as defaultdict, Counter, ...).\n",
    "\n",
    "import os\n",
    "import zipfile\n",
    "from functools import partial\n",
    "\n",
    "import nltk\n",
    "import requests\n",
    "import numpy as np\n",
    "from tqdm import tqdm\n",
    "\n",
    "import matplotlib.pyplot as plt\n",
    "from matplotlib.pyplot import cm\n",
    "\n",
    "from ipywidgets import widgets\n",
    "from IPython.display import display, HTML\n",
    "#from IPython.html import widgets\n",
    "from collections import namedtuple\n",
    "\n",
    "# Own imports from standard libraries\n",
    "from collections import Counter\n",
    "import math\n",
    "\n",
    "\n",
    "\n",
    "%matplotlib inline"
   ]
  },
  {
   "cell_type": "markdown",
   "metadata": {
    "deletable": false,
    "editable": false,
    "id": "A4kKorew4IWU",
    "nbgrader": {
     "cell_type": "markdown",
     "checksum": "4ef0139c6fbc22b41520721a9275c1e1",
     "grade": false,
     "grade_id": "cell-7428e12ed184408b",
     "locked": true,
     "schema_version": 3,
     "solution": false,
     "task": false
    }
   },
   "source": [
    "\n",
    "# Part 1: Term-based Matching (175 points) <a class=\"anchor\" id=\"part1\"></a>\n",
    "\n",
    "[Back to top](#top)\n",
    "\n",
    "In the first part, we will learn the basics of IR from loading and preprocessing the material, to implementing some well known search algorithms, to evaluating the ranking performance of the implemented algorithms. We will be using the CACM dataset throughout the assignment. The CACM dataset is a collection of titles and abstracts from the journal CACM (Communication of the ACM).\n",
    "\n",
    "Table of contents:\n",
    "- [Section 1: Text Processing](#text_processing) (15 points)\n",
    "- [Section 2: Indexing](#indexing) (10 points)\n",
    "- [Section 3: Ranking](#ranking) (80 points)\n",
    "- [Section 4: Evaluation](#evaluation) (40 points)\n",
    "- [Section 5: Analysis](#analysis) (30 points)\n"
   ]
  },
  {
   "cell_type": "markdown",
   "metadata": {
    "deletable": false,
    "editable": false,
    "id": "6vnjcjoy4IWU",
    "nbgrader": {
     "cell_type": "markdown",
     "checksum": "a9050c97b011a926b9e4cf6831eff5bd",
     "grade": false,
     "grade_id": "cell-4b24825cf4ae55ec",
     "locked": true,
     "schema_version": 3,
     "solution": false,
     "task": false
    }
   },
   "source": [
    "---\n",
    "## Section 1: Text Processing (15 points)<a class=\"anchor\" id=\"text_processing\"></a>\n",
    "\n",
    "[Back to Part 1](#part1)\n",
    "\n",
    "In this section, we will load the dataset and learn how to clean up the data to make it usable for an IR system. \n",
    "The points of this section are earned for the following implementations:\n",
    "- `read_cacm_docs` (4 points): Reads in the CACM documents.\n",
    "- `read_queries` (3 points): Reads in the CACM queries.\n",
    "- `load_stopwords` (1 point): Loads the stopwords.\n",
    "- `tokenize` (4 points): Tokenizes the input text.\n",
    "- `stem_token` (3 points): Stems the given token. \n",
    "\n",
    "We are using the [CACM dataset](http://ir.dcs.gla.ac.uk/resources/test_collections/cacm/), which is a small, classic IR dataset, composed of a collection of titles and abstracts from the journal CACM. It comes with relevance judgements for queries, so we can evaluate our IR system. \n"
   ]
  },
  {
   "cell_type": "markdown",
   "metadata": {
    "deletable": false,
    "editable": false,
    "id": "p_lmQikc4IWV",
    "nbgrader": {
     "cell_type": "markdown",
     "checksum": "1de1b97f9ee233ad2348359f0c158eb7",
     "grade": false,
     "grade_id": "cell-45651364e7af6d5a",
     "locked": true,
     "schema_version": 3,
     "solution": false,
     "task": false
    }
   },
   "source": [
    "---\n",
    "### 1.1 Read the CACM documents (4 points)\n",
    "\n",
    "\n",
    "The following cell downloads the dataset and unzips it to a local directory."
   ]
  },
  {
   "cell_type": "code",
   "execution_count": 2,
   "metadata": {
    "ExecuteTime": {
     "end_time": "2021-02-09T08:10:43.781012Z",
     "start_time": "2021-02-09T08:10:43.762372Z"
    },
    "deletable": false,
    "editable": false,
    "id": "GzgZPFdR4IWV",
    "nbgrader": {
     "cell_type": "code",
     "checksum": "4d43c9ad6e77cc01ce4cef0c34824930",
     "grade": false,
     "grade_id": "cell-bbc3030bb3fe7e02",
     "locked": true,
     "schema_version": 3,
     "solution": false,
     "task": false
    }
   },
   "outputs": [],
   "source": [
    "def download_dataset():\n",
    "    folder_path = os.environ.get(\"IR1_DATA_PATH\")\n",
    "    if not folder_path:\n",
    "        folder_path = \"./datasets/\"\n",
    "    os.makedirs(folder_path, exist_ok=True)\n",
    "    \n",
    "    file_location = os.path.join(folder_path, \"cacm.zip\")\n",
    "    \n",
    "    # download file if it doesn't exist\n",
    "    if not os.path.exists(file_location):\n",
    "        \n",
    "        url = \"https://surfdrive.surf.nl/files/index.php/s/M0FGJpX2p8wDwxR/download\"\n",
    "\n",
    "        with open(file_location, \"wb\") as handle:\n",
    "            print(f\"Downloading file from {url} to {file_location}\")\n",
    "            response = requests.get(url, stream=True)\n",
    "            for data in tqdm(response.iter_content()):\n",
    "                handle.write(data)\n",
    "            print(\"Finished downloading file\")\n",
    "    \n",
    "    if not os.path.exists(os.path.join(folder_path, \"train.txt\")):\n",
    "        \n",
    "        # unzip file\n",
    "        with zipfile.ZipFile(file_location, 'r') as zip_ref:\n",
    "            zip_ref.extractall(folder_path)\n",
    "        \n",
    "download_dataset()"
   ]
  },
  {
   "cell_type": "markdown",
   "metadata": {
    "deletable": false,
    "editable": false,
    "id": "mFgbUp9Q4IWW",
    "nbgrader": {
     "cell_type": "markdown",
     "checksum": "31609b0d61d0c74cbd69bc43e47c23be",
     "grade": false,
     "grade_id": "cell-a7dd9a9bf98ede05",
     "locked": true,
     "schema_version": 3,
     "solution": false,
     "task": false
    }
   },
   "source": [
    "---\n",
    "\n",
    "You can see a brief description of each file in the dataset by looking at the README file:"
   ]
  },
  {
   "cell_type": "code",
   "execution_count": 3,
   "metadata": {
    "ExecuteTime": {
     "end_time": "2021-02-09T08:10:43.840119Z",
     "start_time": "2021-02-09T08:10:43.783998Z"
    },
    "colab": {
     "base_uri": "https://localhost:8080/"
    },
    "deletable": false,
    "editable": false,
    "id": "XiphLpFK4IWW",
    "nbgrader": {
     "cell_type": "code",
     "checksum": "1783f9999c7d06955e8da815de62ba5f",
     "grade": false,
     "grade_id": "cell-9b6ff1a17124711f",
     "locked": true,
     "schema_version": 3,
     "solution": false,
     "task": false
    },
    "outputId": "0c34744f-c08a-45f7-ad13-ffdc2287cbda"
   },
   "outputs": [],
   "source": [
    "##### Read the README file \n",
    "!cat ./datasets/README\n",
    "#####"
   ]
  },
  {
   "cell_type": "markdown",
   "metadata": {
    "deletable": false,
    "editable": false,
    "id": "NYQpF9664IWW",
    "nbgrader": {
     "cell_type": "markdown",
     "checksum": "d6a5333ae8e7f69d81900e714cc43852",
     "grade": false,
     "grade_id": "cell-73351431869fda76",
     "locked": true,
     "schema_version": 3,
     "solution": false,
     "task": false
    }
   },
   "source": [
    "---\n",
    "We are interested in 4 files:\n",
    "- `cacm.all` : Contains the text for all documents. Note that some documents do not have abstracts available. \n",
    "- `query.text` : The text of all queries\n",
    "- `qrels.text` : The relevance judgements\n",
    "- `common_words` : A list of common words. This may be used as a collection of stopwords"
   ]
  },
  {
   "cell_type": "code",
   "execution_count": 4,
   "metadata": {
    "ExecuteTime": {
     "end_time": "2021-02-09T08:10:43.895316Z",
     "start_time": "2021-02-09T08:10:43.842488Z"
    },
    "colab": {
     "base_uri": "https://localhost:8080/"
    },
    "deletable": false,
    "editable": false,
    "id": "YlAL1Byf4IWW",
    "nbgrader": {
     "cell_type": "code",
     "checksum": "c78e4256a08889ce3d0d985ea799b0a9",
     "grade": false,
     "grade_id": "cell-b44dd14079f278ca",
     "locked": true,
     "schema_version": 3,
     "solution": false,
     "task": false
    },
    "outputId": "671b1068-6500-45c4-e9d5-e4578d137c7b"
   },
   "outputs": [],
   "source": [
    "##### The first 45 lines of the CACM dataset forms the first record\n",
    "# We are interested only in 3 fields. \n",
    "# 1. the '.I' field, which is the document id\n",
    "# 2. the '.T' field (the title) and\n",
    "# 3. the '.W' field (the abstract, which may be absent)\n",
    "!head -45 ./datasets/cacm.all\n",
    "#####"
   ]
  },
  {
   "cell_type": "markdown",
   "metadata": {
    "deletable": false,
    "editable": false,
    "id": "96QRlEr34IWX",
    "nbgrader": {
     "cell_type": "markdown",
     "checksum": "aff7cbe5a15a0e3329dc223e3e31abf3",
     "grade": false,
     "grade_id": "cell-c4bf2e263ec553d8",
     "locked": true,
     "schema_version": 3,
     "solution": false,
     "task": false
    }
   },
   "source": [
    "---\n",
    "\n",
    "**Implementation (4 points):**\n",
    "Write a function to read the `cacm.all` file. Note that each document has a variable number of lines. The `.I` field denotes a new document:"
   ]
  },
  {
   "cell_type": "code",
   "execution_count": 5,
   "metadata": {
    "ExecuteTime": {
     "end_time": "2021-02-09T08:10:43.902561Z",
     "start_time": "2021-02-09T08:10:43.896282Z"
    },
    "deletable": false,
    "id": "vNE2WPK-4IWX",
    "nbgrader": {
     "cell_type": "code",
     "checksum": "45fef5d5b543ee439176d7fd0a9d20be",
     "grade": false,
     "grade_id": "cell-b736116eb419c624",
     "locked": false,
     "schema_version": 3,
     "solution": true,
     "task": false
    }
   },
   "outputs": [],
   "source": [
    "# TODO: Implement this! (4 points)\n",
    "def read_cacm_docs(root_folder = \"./datasets/\"):\n",
    "    \"\"\"\n",
    "        Reads in the CACM documents. The dataset is assumed to be in the folder \"./datasets/\" by default\n",
    "        Returns: A list of 2-tuples: (doc_id, document), where 'document' is a single string created by \n",
    "            appending the title and abstract (separated by a \"\\n\"). \n",
    "            In case the record doesn't have an abstract, the document is composed only by the title\n",
    "    \"\"\"\n",
    "    # YOUR CODE HERE\n",
    "    with open(root_folder + 'cacm.all') as f:\n",
    "        doc = f.read()\n",
    "        doc_list = []\n",
    "        split_doc = doc.split('.I ')[1:]\n",
    "        for i in split_doc:\n",
    "            doc_id = i.split('.T')[0].replace('\\n','')\n",
    "            if i.find('.W\\n') == -1:\n",
    "                document = i.split('.T')[1].split('.B')[0]\n",
    "            else:\n",
    "                doc_title = i.split('.T')[1].split('\\n.W\\n')[0]\n",
    "                doc_abstract = i.split('\\n.W\\n')[1].split('.B')[0]\n",
    "                document = doc_title + '\\n' + doc_abstract\n",
    "\n",
    "            doc_list.append((doc_id,document))\n",
    "    return doc_list"
   ]
  },
  {
   "cell_type": "code",
   "execution_count": 6,
   "metadata": {
    "ExecuteTime": {
     "end_time": "2021-02-09T08:10:43.935798Z",
     "start_time": "2021-02-09T08:10:43.903558Z"
    },
    "deletable": false,
    "editable": false,
    "id": "qXIA2lFl4IWY",
    "nbgrader": {
     "cell_type": "code",
     "checksum": "70472b5c277bb7c417de8da24e4e5261",
     "grade": true,
     "grade_id": "cell-a1c43818e0d3fd79",
     "locked": true,
     "points": 4,
     "schema_version": 3,
     "solution": false,
     "task": false
    }
   },
   "outputs": [],
   "source": [
    "##### Function check\n",
    "docs = read_cacm_docs()\n",
    "assert isinstance(docs, list)\n",
    "assert len(docs) == 3204, \"There should be exactly 3024 documents\"\n",
    "##### "
   ]
  },
  {
   "cell_type": "markdown",
   "metadata": {
    "deletable": false,
    "editable": false,
    "id": "uZRyfi9R4IWY",
    "nbgrader": {
     "cell_type": "markdown",
     "checksum": "6fd095d2204cce3935444ca37c7c42da",
     "grade": false,
     "grade_id": "cell-5ed2ddc91f73c60e",
     "locked": true,
     "schema_version": 3,
     "solution": false,
     "task": false
    }
   },
   "source": [
    "---\n",
    "### 1.2 Read the CACM queries (3 points)\n",
    "\n",
    "Next, let us read the queries. They are formatted similarly:"
   ]
  },
  {
   "cell_type": "code",
   "execution_count": 7,
   "metadata": {
    "ExecuteTime": {
     "end_time": "2021-02-09T08:10:43.991972Z",
     "start_time": "2021-02-09T08:10:43.937751Z"
    },
    "colab": {
     "base_uri": "https://localhost:8080/"
    },
    "deletable": false,
    "editable": false,
    "id": "SypqoG8T4IWY",
    "nbgrader": {
     "cell_type": "code",
     "checksum": "5d26c0908e758acb9968b84056b1060a",
     "grade": false,
     "grade_id": "cell-5c7e8e7c4fc2757f",
     "locked": true,
     "schema_version": 3,
     "solution": false,
     "task": false
    },
    "outputId": "061e0dc1-6f1b-4d21-ff2b-775699a7a874"
   },
   "outputs": [],
   "source": [
    "##### The first 15 lines of 'query.text' has 2 queries\n",
    "# We are interested only in 2 fields. \n",
    "# 1. the '.I' - the query id\n",
    "# 2. the '.W' - the query\n",
    "!head -15 ./datasets/query.text\n",
    "#####"
   ]
  },
  {
   "cell_type": "markdown",
   "metadata": {
    "deletable": false,
    "editable": false,
    "id": "wrddYisC4IWY",
    "nbgrader": {
     "cell_type": "markdown",
     "checksum": "da34d95924026ea55bf0a9b2070ec237",
     "grade": false,
     "grade_id": "cell-88e293507d2dcef6",
     "locked": true,
     "schema_version": 3,
     "solution": false,
     "task": false
    }
   },
   "source": [
    "---\n",
    "\n",
    "**Implementation (3 points):**\n",
    "Write a function to read the `query.text` file:"
   ]
  },
  {
   "cell_type": "code",
   "execution_count": 8,
   "metadata": {
    "ExecuteTime": {
     "end_time": "2021-02-09T08:10:44.000664Z",
     "start_time": "2021-02-09T08:10:43.994927Z"
    },
    "deletable": false,
    "id": "Ct3uxE-s4IWZ",
    "nbgrader": {
     "cell_type": "code",
     "checksum": "f98ac81b2ccb44fe3441e202e980c847",
     "grade": false,
     "grade_id": "cell-433e3ad5d0e2572a",
     "locked": false,
     "schema_version": 3,
     "solution": true,
     "task": false
    }
   },
   "outputs": [],
   "source": [
    "# TODO: Implement this! (3 points)\n",
    "def read_queries(root_folder = \"./datasets/\"):\n",
    "    \"\"\"\n",
    "        Reads in the CACM queries. The dataset is assumed to be in the folder \"./datasets/\" by default\n",
    "        Returns: A list of 2-tuples: (query_id, query)\n",
    "    \"\"\"\n",
    "    # YOUR CODE HERE\n",
    "    with open(root_folder + 'query.text') as f:\n",
    "      doc = f.read()\n",
    "      doc_list = []\n",
    "      split_doc = doc.split('.I ')[1:]\n",
    "      for i in split_doc:\n",
    "        doc_id = i.split('.W\\n')[0].replace('\\n','')\n",
    "        document = i.split('.W\\n')[1].split('.N\\n')[0]        \n",
    "        doc_list.append((doc_id,document))\n",
    "      print(doc_list[:5])\n",
    "      return doc_list\n"
   ]
  },
  {
   "cell_type": "code",
   "execution_count": 9,
   "metadata": {
    "ExecuteTime": {
     "end_time": "2021-02-09T08:10:44.007902Z",
     "start_time": "2021-02-09T08:10:44.002907Z"
    },
    "colab": {
     "base_uri": "https://localhost:8080/"
    },
    "deletable": false,
    "editable": false,
    "id": "DYO92aQn4IWZ",
    "nbgrader": {
     "cell_type": "code",
     "checksum": "c0e7a9868bd4b92692c33732af640b8b",
     "grade": true,
     "grade_id": "cell-6ec540abce66c598",
     "locked": true,
     "points": 3,
     "schema_version": 3,
     "solution": false,
     "task": false
    },
    "outputId": "e6294e67-a14f-425e-d65d-a5780b07b487"
   },
   "outputs": [
    {
     "name": "stdout",
     "output_type": "stream",
     "text": [
      "[('1', ' What articles exist which deal with TSS (Time Sharing System), an\\noperating system for IBM computers?\\n'), ('2', ' I am interested in articles written either by Prieve or Udo Pooch\\n.A\\nPrieve, B.\\nPooch, U.\\n'), ('3', ' Intermediate languages used in construction of multi-targeted compilers; TCOLL\\n'), ('4', \" I'm interested in mechanisms for communicating between disjoint processes,\\npossibly, but not exclusively, in a distributed environment.  I would\\nrather see descriptions of complete mechanisms, with or without implementations,\\nas opposed to theoretical work on the abstract problem.  Remote procedure\\ncalls and message-passing are examples of my interests.\\n\"), ('5', \" I'd like papers on design and implementation of editing interfaces,\\nwindow-managers, command interpreters, etc.  The essential issues are\\nhuman interface design, with views on improvements to user efficiency,\\neffectiveness and satisfaction.\\n\")]\n"
     ]
    }
   ],
   "source": [
    "##### Function check\n",
    "queries = read_queries()\n",
    "\n",
    "assert isinstance(queries, list)\n",
    "assert len(queries) == 64 and all([q[1] is not None for q in queries]), \"There should be exactly 64 queries\"\n",
    "##### "
   ]
  },
  {
   "cell_type": "markdown",
   "metadata": {
    "deletable": false,
    "editable": false,
    "id": "7PZ1YsjO4IWa",
    "nbgrader": {
     "cell_type": "markdown",
     "checksum": "652f9159caea63888e06b54103bd7f32",
     "grade": false,
     "grade_id": "cell-1c31569491d7b782",
     "locked": true,
     "schema_version": 3,
     "solution": false,
     "task": false
    }
   },
   "source": [
    "---\n",
    "### 1.3 Read the stop words (1 point)\n",
    "\n",
    "We use the common words stored in `common_words`:"
   ]
  },
  {
   "cell_type": "code",
   "execution_count": 10,
   "metadata": {
    "ExecuteTime": {
     "end_time": "2021-02-09T08:10:44.049888Z",
     "start_time": "2021-02-09T08:10:44.008890Z"
    },
    "colab": {
     "base_uri": "https://localhost:8080/"
    },
    "deletable": false,
    "editable": false,
    "id": "3eIEzeOd4IWa",
    "nbgrader": {
     "cell_type": "code",
     "checksum": "1ad6f5bae6a792504c1c8513ae5751ad",
     "grade": false,
     "grade_id": "cell-34bdb63461418a96",
     "locked": true,
     "schema_version": 3,
     "solution": false,
     "task": false
    },
    "outputId": "4b9a90c7-f76e-41fa-cf60-f87c74f6061f"
   },
   "outputs": [],
   "source": [
    "##### Read the stop words file \n",
    "!head ./datasets/common_words\n",
    "##### Read the README file "
   ]
  },
  {
   "cell_type": "markdown",
   "metadata": {
    "deletable": false,
    "editable": false,
    "id": "yS-QJ59W4IWa",
    "nbgrader": {
     "cell_type": "markdown",
     "checksum": "f720edbacd79170351156a443e0018ff",
     "grade": false,
     "grade_id": "cell-4744bde0338895d8",
     "locked": true,
     "schema_version": 3,
     "solution": false,
     "task": false
    }
   },
   "source": [
    "---\n",
    "**Implementation (1 point):**\n",
    "Write a function to read the `common_words` file (For better coverage, try to keep them in lowercase):"
   ]
  },
  {
   "cell_type": "code",
   "execution_count": 11,
   "metadata": {
    "ExecuteTime": {
     "end_time": "2021-02-09T08:10:44.054329Z",
     "start_time": "2021-02-09T08:10:44.049888Z"
    },
    "deletable": false,
    "id": "lgwbY-mG4IWb",
    "nbgrader": {
     "cell_type": "code",
     "checksum": "e6a9e9bb3ad0f8dc2ec3c497a3149092",
     "grade": false,
     "grade_id": "cell-7357aa40f64e5bcb",
     "locked": false,
     "schema_version": 3,
     "solution": true,
     "task": false
    }
   },
   "outputs": [],
   "source": [
    "# TODO: Implement this! (1 point)\n",
    "def load_stopwords(root_folder = \"./datasets/\"):\n",
    "    \"\"\"\n",
    "        Loads the stopwords. The dataset is assumed to be in the folder \"./datasets/\" by default\n",
    "        Output: A set of stopwords\n",
    "    \"\"\"\n",
    "    # YOUR CODE HERE\n",
    "    with open(os.path.join(root_folder, \"common_words\"), 'r+') as f:\n",
    "        words = set(f.readlines())\n",
    "        \n",
    "    \n",
    "    return words"
   ]
  },
  {
   "cell_type": "code",
   "execution_count": 12,
   "metadata": {
    "ExecuteTime": {
     "end_time": "2021-02-09T08:10:44.059339Z",
     "start_time": "2021-02-09T08:10:44.055324Z"
    },
    "colab": {
     "base_uri": "https://localhost:8080/",
     "height": 316
    },
    "deletable": false,
    "editable": false,
    "id": "H_RpcrQ84IWb",
    "nbgrader": {
     "cell_type": "code",
     "checksum": "9211b9735b828d89d1a51d8743c448b4",
     "grade": true,
     "grade_id": "cell-2ca3ac162004de97",
     "locked": true,
     "points": 1,
     "schema_version": 3,
     "solution": false,
     "task": false
    },
    "outputId": "ac1d355d-212f-4b8a-deda-f4058a3716b2"
   },
   "outputs": [],
   "source": [
    "##### Function check\n",
    "stopwords = load_stopwords()\n",
    "\n",
    "assert isinstance(stopwords, set)\n",
    "assert len(stopwords) == 428, \"There should be exactly 428 stop words\"\n",
    "##### "
   ]
  },
  {
   "cell_type": "markdown",
   "metadata": {
    "deletable": false,
    "editable": false,
    "id": "OKFMtm3T4IWb",
    "nbgrader": {
     "cell_type": "markdown",
     "checksum": "fc7e419f35dfd3f507d8a7555ce2cde9",
     "grade": false,
     "grade_id": "cell-134b72872f4300cb",
     "locked": true,
     "schema_version": 3,
     "solution": false,
     "task": false
    }
   },
   "source": [
    "---\n",
    "### 1.4 Tokenization (4 points)\n",
    "\n",
    "We can now write some basic text processing functions. \n",
    "A first step is to tokenize the text. \n",
    "\n",
    "**Note**: Use the  `WordPunctTokenizer` available in the `nltk` library:"
   ]
  },
  {
   "cell_type": "code",
   "execution_count": 13,
   "metadata": {
    "ExecuteTime": {
     "end_time": "2021-02-09T08:10:44.065894Z",
     "start_time": "2021-02-09T08:10:44.060907Z"
    },
    "deletable": false,
    "id": "OWakwkEw4IWb",
    "nbgrader": {
     "cell_type": "code",
     "checksum": "3f5564d3c75bf22fbf832b3a9b938f37",
     "grade": false,
     "grade_id": "cell-322be4c9499bdc4b",
     "locked": false,
     "schema_version": 3,
     "solution": true,
     "task": false
    }
   },
   "outputs": [],
   "source": [
    "# TODO: Implement this! (4 points)\n",
    "def tokenize(text):\n",
    "    \"\"\"\n",
    "        Tokenizes the input text. Use the WordPunctTokenizer\n",
    "        Input: text - a string\n",
    "        Output: a list of tokens\n",
    "    \"\"\"\n",
    "    # YOUR CODE HERE\n",
    "    return nltk.tokenize.WordPunctTokenizer().tokenize(text)\n",
    "    "
   ]
  },
  {
   "cell_type": "code",
   "execution_count": 14,
   "metadata": {
    "ExecuteTime": {
     "end_time": "2021-02-09T08:10:44.071877Z",
     "start_time": "2021-02-09T08:10:44.066892Z"
    },
    "deletable": false,
    "editable": false,
    "id": "Mk4dGvkP4IWc",
    "nbgrader": {
     "cell_type": "code",
     "checksum": "f60b93aa03bf9eced64940252eb33fe3",
     "grade": true,
     "grade_id": "cell-7fbf48bf7541a622",
     "locked": true,
     "points": 4,
     "schema_version": 3,
     "solution": false,
     "task": false
    }
   },
   "outputs": [
    {
     "name": "stdout",
     "output_type": "stream",
     "text": [
      "['the', 'quick', 'brown', 'fox', 'jumps', 'over', 'the', 'lazy', 'dog']\n"
     ]
    }
   ],
   "source": [
    "##### Function check\n",
    "text = \"the quick brown fox jumps over the lazy dog\"\n",
    "tokens = tokenize(text)\n",
    "\n",
    "assert isinstance(tokens, list)\n",
    "assert len(tokens) == 9\n",
    "\n",
    "print(tokens)\n",
    "# output: ['the', 'quick', 'brown', 'fox', 'jumps', 'over', 'the', 'lazy', 'dog']\n",
    "#####"
   ]
  },
  {
   "cell_type": "markdown",
   "metadata": {
    "deletable": false,
    "editable": false,
    "id": "PEw9RAKO4IWc",
    "nbgrader": {
     "cell_type": "markdown",
     "checksum": "1b1cc868db22735e5e193bc64ff67877",
     "grade": false,
     "grade_id": "cell-fd1b98ae61b697ca",
     "locked": true,
     "schema_version": 3,
     "solution": false,
     "task": false
    }
   },
   "source": [
    "---\n",
    "### 1.5 Stemming (3 points)\n",
    "\n",
    "Write a function to stem tokens. \n",
    "Again, you can use the nltk library for this:"
   ]
  },
  {
   "cell_type": "code",
   "execution_count": 15,
   "metadata": {
    "ExecuteTime": {
     "end_time": "2021-02-09T08:10:44.076865Z",
     "start_time": "2021-02-09T08:10:44.072876Z"
    },
    "deletable": false,
    "id": "ViYt0smN4IWc",
    "nbgrader": {
     "cell_type": "code",
     "checksum": "1c4a6aa979d66158c7b6b992af43293a",
     "grade": false,
     "grade_id": "cell-e3f6c8e3f874b28d",
     "locked": false,
     "schema_version": 3,
     "solution": true,
     "task": false
    }
   },
   "outputs": [],
   "source": [
    "# TODO: Implement this! (3 points)\n",
    "def stem_token(token):\n",
    "    \"\"\"\n",
    "        Stems the given token using the PorterStemmer from the nltk library\n",
    "        Input: a single token\n",
    "        Output: the stem of the token\n",
    "    \"\"\"\n",
    "    ps = nltk.stem.PorterStemmer()\n",
    "    return ps.stem(token)\n"
   ]
  },
  {
   "cell_type": "code",
   "execution_count": 16,
   "metadata": {
    "ExecuteTime": {
     "end_time": "2021-02-09T08:10:44.082643Z",
     "start_time": "2021-02-09T08:10:44.077861Z"
    },
    "deletable": false,
    "editable": false,
    "id": "-qSBNMns4IWd",
    "nbgrader": {
     "cell_type": "code",
     "checksum": "cd2611a46e7c2e92af438d7166cf2616",
     "grade": true,
     "grade_id": "cell-cd6863e6ee6ed205",
     "locked": true,
     "points": 3,
     "schema_version": 3,
     "solution": false,
     "task": false
    }
   },
   "outputs": [],
   "source": [
    "##### Function check\n",
    "assert stem_token('owned') == 'own'\n",
    "assert stem_token('itemization') == 'item'\n",
    "#####"
   ]
  },
  {
   "cell_type": "markdown",
   "metadata": {
    "deletable": false,
    "editable": false,
    "id": "M10Gq1wo4IWd",
    "nbgrader": {
     "cell_type": "markdown",
     "checksum": "5fcc93f08a6abcaffd5bd9475e4768e5",
     "grade": false,
     "grade_id": "cell-47c9f90498699110",
     "locked": true,
     "schema_version": 3,
     "solution": false,
     "task": false
    }
   },
   "source": [
    "---\n",
    "### 1.6 Summary\n",
    "\n",
    "The following function puts it all together. Given a string, it tokenizes it and processes it according to the flags that you set."
   ]
  },
  {
   "cell_type": "code",
   "execution_count": 17,
   "metadata": {
    "ExecuteTime": {
     "end_time": "2021-02-09T08:10:44.087587Z",
     "start_time": "2021-02-09T08:10:44.083595Z"
    },
    "deletable": false,
    "editable": false,
    "id": "Y9P9q9074IWd",
    "nbgrader": {
     "cell_type": "code",
     "checksum": "2ff2d215ee8e0039c5a91fd3de12e6bd",
     "grade": false,
     "grade_id": "cell-dd0d3f46b30801da",
     "locked": true,
     "schema_version": 3,
     "solution": false,
     "task": false
    }
   },
   "outputs": [],
   "source": [
    "#### Putting it all together\n",
    "def process_text(text, stem=False, remove_stopwords=False, lowercase_text=False):\n",
    "    \n",
    "    tokens = []\n",
    "    for token in tokenize(text):\n",
    "        if remove_stopwords and token.lower() in stopwords:\n",
    "            continue\n",
    "        if stem:\n",
    "            token = stem_token(token)\n",
    "        if lowercase_text:\n",
    "            token = token.lower()\n",
    "        tokens.append(token)\n",
    "\n",
    "    return tokens\n",
    "#### "
   ]
  },
  {
   "cell_type": "markdown",
   "metadata": {
    "deletable": false,
    "editable": false,
    "id": "3ZprLpXX4IWd",
    "nbgrader": {
     "cell_type": "markdown",
     "checksum": "02d433b18eb43654fa4306a7bf55b190",
     "grade": false,
     "grade_id": "cell-8d885bfd2edd43ae",
     "locked": true,
     "schema_version": 3,
     "solution": false,
     "task": false
    }
   },
   "source": [
    "---\n",
    "\n",
    "Let's create two sets of preprocessed documents.\n",
    "We can process the documents and queries according to these two configurations:"
   ]
  },
  {
   "cell_type": "code",
   "execution_count": 18,
   "metadata": {
    "ExecuteTime": {
     "end_time": "2021-02-09T08:10:47.496837Z",
     "start_time": "2021-02-09T08:10:44.089580Z"
    },
    "deletable": false,
    "editable": false,
    "id": "zSAhYQo84IWd",
    "nbgrader": {
     "cell_type": "code",
     "checksum": "dbe4ca667be6842fdcf512fbcad50c7f",
     "grade": false,
     "grade_id": "cell-d427365ee0fb21d8",
     "locked": true,
     "schema_version": 3,
     "solution": false,
     "task": false
    }
   },
   "outputs": [],
   "source": [
    "# In this configuration:\n",
    "# Don't preprocess the text, except to tokenize \n",
    "config_1 = {\n",
    "  \"stem\": False,\n",
    "  \"remove_stopwords\" : False,\n",
    "  \"lowercase_text\": True\n",
    "} \n",
    "\n",
    "\n",
    "# In this configuration:\n",
    "# Preprocess the text, stem and remove stopwords\n",
    "config_2 = {\n",
    "  \"stem\": True,\n",
    "  \"remove_stopwords\" : True,\n",
    "  \"lowercase_text\": True, \n",
    "} \n",
    "\n",
    "####\n",
    "doc_repr_1 = []\n",
    "doc_repr_2 = []\n",
    "for (doc_id, document) in docs:\n",
    "    doc_repr_1.append((doc_id, process_text(document, **config_1)))\n",
    "    doc_repr_2.append((doc_id, process_text(document, **config_2)))\n",
    "\n",
    "####"
   ]
  },
  {
   "cell_type": "markdown",
   "metadata": {
    "deletable": false,
    "editable": false,
    "id": "ARVTcJrC4IWe",
    "nbgrader": {
     "cell_type": "markdown",
     "checksum": "b60589aac19e80941d860d9b3f1e9a16",
     "grade": false,
     "grade_id": "cell-b1c102db61ae7495",
     "locked": true,
     "schema_version": 3,
     "solution": false,
     "task": false
    }
   },
   "source": [
    "--- \n",
    "\n",
    "## Section 2: Indexing (10 points)<a class=\"anchor\" id=\"indexing\"></a>\n",
    "\n",
    "[Back to Part 1](#part1)\n",
    "\n",
    "\n",
    "\n",
    "A retrieval function usually takes in a query document pair, and scores a query against a document.  Our document set is quite small - just a few thousand documents. However, consider a web-scale dataset with a few million documents. In such a scenario, it would become infeasible to score every query and document pair. In such a case, we can build an inverted index. From Wikipedia:\n",
    "\n",
    "> ... , an inverted index (also referred to as a postings file or inverted file) is a database index storing a mapping from content, such as words or numbers, to its locations in a table, .... The purpose of an inverted index is to allow fast full-text searches, at a cost of increased processing when a document is added to the database. ...\n",
    "\n",
    "\n",
    "Consider a simple inverted index, which maps from word to document. This can improve the performance of a retrieval system significantly. In this assignment, we consider a *simple* inverted index, which maps a word to a set of documents. In practice, however, more complex indices might be used.  \n"
   ]
  },
  {
   "cell_type": "markdown",
   "metadata": {
    "deletable": false,
    "editable": false,
    "id": "pu4nDAJQ4IWe",
    "nbgrader": {
     "cell_type": "markdown",
     "checksum": "710fd943f45523ac36fcb887cc0d4d39",
     "grade": false,
     "grade_id": "cell-fa373192c1b7bb95",
     "locked": true,
     "schema_version": 3,
     "solution": false,
     "task": false
    }
   },
   "source": [
    "### 2.1 Term Frequency-index (10 points)\n",
    "In this assignment, we will be using an index created in memory since our dataset is tiny. To get started, build a simple index that maps each `token` to a list of `(doc_id, count)` where `count` is the count of the `token` in `doc_id`.\n",
    "For consistency, build this index using a python dictionary.\n",
    "    \n",
    "Now, implement a function to build an index:"
   ]
  },
  {
   "cell_type": "code",
   "execution_count": 19,
   "metadata": {
    "ExecuteTime": {
     "end_time": "2021-02-09T08:10:47.503748Z",
     "start_time": "2021-02-09T08:10:47.497710Z"
    },
    "deletable": false,
    "id": "oILPNIpe4IWe",
    "nbgrader": {
     "cell_type": "code",
     "checksum": "c281c45196493b87e45e1b3fb4ddd6c9",
     "grade": false,
     "grade_id": "cell-077599b87e953209",
     "locked": false,
     "schema_version": 3,
     "solution": true,
     "task": false
    }
   },
   "outputs": [],
   "source": [
    "# TODO: Implement this! (10 points)\n",
    "def build_tf_index(documents):\n",
    "    \"\"\"\n",
    "        Build an inverted index (with counts). The output is a dictionary which takes in a token\n",
    "        and returns a list of (doc_id, count) where 'count' is the count of the 'token' in 'doc_id'\n",
    "        Input: a list of documents - (doc_id, tokens) \n",
    "        Output: An inverted index. [token] -> [(doc_id, token_count)]\n",
    "    \"\"\"\n",
    "    # YOUR CODE HERE\n",
    "    inverted_index = {}\n",
    "    for (doc_id, words) in documents:\n",
    "        word_occurences = Counter(words)        \n",
    "        for word in word_occurences:\n",
    "            token_count = word_occurences[word]\n",
    "            if word not in inverted_index:\n",
    "               inverted_index[word] = [(doc_id,token_count)]\n",
    "            else:\n",
    "                inverted_index[word].append((doc_id, token_count))\n",
    "\n",
    "    return inverted_index"
   ]
  },
  {
   "cell_type": "markdown",
   "metadata": {
    "deletable": false,
    "editable": false,
    "id": "Ydx63-0M4IWe",
    "nbgrader": {
     "cell_type": "markdown",
     "checksum": "15e7041b4323d2a290322de538ff7670",
     "grade": false,
     "grade_id": "cell-093aebfa504f96f2",
     "locked": true,
     "schema_version": 3,
     "solution": false,
     "task": false
    }
   },
   "source": [
    "---\n",
    "Now we can build indexed documents and preprocess the queries based on the two configurations:"
   ]
  },
  {
   "cell_type": "code",
   "execution_count": 20,
   "metadata": {
    "ExecuteTime": {
     "end_time": "2021-02-09T08:10:47.679975Z",
     "start_time": "2021-02-09T08:10:47.504694Z"
    },
    "deletable": false,
    "editable": false,
    "id": "uPguIGwp4IWe",
    "nbgrader": {
     "cell_type": "code",
     "checksum": "e27540c1d8d77a3779a05f557f3f40c6",
     "grade": false,
     "grade_id": "cell-b2ff1676348b90a8",
     "locked": true,
     "schema_version": 3,
     "solution": false,
     "task": false
    },
    "tags": []
   },
   "outputs": [],
   "source": [
    "#### Indexed documents based on the two configs\n",
    "\n",
    "# Create the 2 indices\n",
    "tf_index_1 = build_tf_index(doc_repr_1)\n",
    "tf_index_2 = build_tf_index(doc_repr_2)\n",
    "\n",
    "# This function returns the tf_index of the corresponding config\n",
    "def get_index(index_set):\n",
    "    assert index_set in {1, 2}\n",
    "    return {\n",
    "        1: tf_index_1,\n",
    "        2: tf_index_2\n",
    "    }[index_set]\n",
    "\n",
    "####\n",
    "#### Preprocessed query based on the two configs\n",
    "\n",
    "# This function preprocesses the text given the index set, according to the specified config\n",
    "def preprocess_query(text, index_set):\n",
    "    assert index_set in {1, 2}\n",
    "    if index_set == 1:\n",
    "        return process_text(text, **config_1)\n",
    "    elif index_set == 2:\n",
    "        return process_text(text, **config_2)\n",
    "\n",
    "#### "
   ]
  },
  {
   "cell_type": "code",
   "execution_count": 21,
   "metadata": {
    "ExecuteTime": {
     "end_time": "2021-02-09T08:10:47.684958Z",
     "start_time": "2021-02-09T08:10:47.680968Z"
    },
    "deletable": false,
    "editable": false,
    "id": "XgY38oQB4IWe",
    "nbgrader": {
     "cell_type": "code",
     "checksum": "2c50e4b4c68261ff1184277bcf3c38d8",
     "grade": true,
     "grade_id": "cell-fc7c7232d5d2ee46",
     "locked": true,
     "points": 5,
     "schema_version": 3,
     "solution": false,
     "task": false
    }
   },
   "outputs": [
    {
     "name": "stdout",
     "output_type": "stream",
     "text": [
      "[('4', 1), ('7', 1), ('10', 1), ('13', 1), ('19', 1), ('22', 1), ('23', 1), ('37', 1), ('40', 3), ('41', 1)]\n"
     ]
    }
   ],
   "source": [
    "##### Function check\n",
    "\n",
    "print(tf_index_1['computer'][:10])\n",
    "#### "
   ]
  },
  {
   "cell_type": "code",
   "execution_count": 22,
   "metadata": {
    "ExecuteTime": {
     "end_time": "2021-02-09T08:10:47.694945Z",
     "start_time": "2021-02-09T08:10:47.688948Z"
    },
    "deletable": false,
    "editable": false,
    "id": "IaQl12X74IWe",
    "nbgrader": {
     "cell_type": "code",
     "checksum": "02de27463e2a393f46278d6fe3160481",
     "grade": true,
     "grade_id": "cell-ff06bd11204db250",
     "locked": true,
     "points": 5,
     "schema_version": 3,
     "solution": false,
     "task": false
    }
   },
   "outputs": [
    {
     "name": "stdout",
     "output_type": "stream",
     "text": [
      "[('670', 1), ('675', 1), ('1621', 3), ('1681', 1), ('2145', 1), ('2339', 1), ('2572', 1), ('2583', 1), ('2739', 1), ('3012', 1)]\n"
     ]
    }
   ],
   "source": [
    "##### Function check\n",
    "\n",
    "print(tf_index_2['computer'][:10]) \n",
    "#### "
   ]
  },
  {
   "cell_type": "markdown",
   "metadata": {
    "deletable": false,
    "editable": false,
    "id": "D3EIl_rY4IWf",
    "nbgrader": {
     "cell_type": "markdown",
     "checksum": "982112dca3f9a75e871bea74fe1adab4",
     "grade": false,
     "grade_id": "cell-89eba71f04310291",
     "locked": true,
     "schema_version": 3,
     "solution": false,
     "task": false
    }
   },
   "source": [
    "\n",
    "---\n",
    "## Section 3: Ranking  (80 points) <a class=\"anchor\" id=\"ranking\"></a>\n",
    "\n",
    "[Back to Part 1](#part1)\n",
    "\n",
    "Now that we have cleaned and processed our dataset, we can start building simple IR systems. \n",
    "\n",
    "For now, we consider *simple* IR systems, which involve computing scores from the tokens present in the document/query. More advanced methods are covered in later assignments.\n",
    "\n",
    "We will implement the following methods in this section:\n",
    "- [Section 3.1: Bag of Words](#bow) (10 points)\n",
    "- [Section 3.2: TF-IDF](#tfidf) (15 points)\n",
    "- [Section 3.3: Query Likelihood Model](#qlm) (35 points)\n",
    "- [Section 3.4: BM25](#bm25) (20 points)\n",
    "\n",
    "**Scoring policy:**\n",
    "Your implementations in this section are scored based on the expected performance of your ranking functions.\n",
    "You will get a full mark if your implementation meets the expected performance (measured by some evaluation metric).\n",
    "Otherwise, you may get partial credit.\n",
    "For example, if your *Bag of words* ranking function has 60% of expected performance, you will get 4 out of 10."
   ]
  },
  {
   "cell_type": "markdown",
   "metadata": {
    "deletable": false,
    "editable": false,
    "id": "43wdjFkt4IWf",
    "nbgrader": {
     "cell_type": "markdown",
     "checksum": "97c13d2e2cad60df4a70dcb61ea7c30e",
     "grade": false,
     "grade_id": "cell-3daf70a60e393adf",
     "locked": true,
     "schema_version": 3,
     "solution": false,
     "task": false
    }
   },
   "source": [
    "--- \n",
    "\n",
    "### Section 3.1: Bag of Words (10 points)<a class=\"anchor\" id=\"bow\"></a>\n",
    "\n",
    "Probably the simplest IR model is the Bag of Words (BOW) model.\n",
    "Implement a function that scores and ranks all the documents against a query using this model.   \n",
    "\n",
    "Note that you can use either the count of the token or 'binarize' it i.e set the value equal to 1 if the token appears.   \n"
   ]
  },
  {
   "cell_type": "code",
   "execution_count": 23,
   "metadata": {
    "ExecuteTime": {
     "end_time": "2021-02-09T08:10:47.701707Z",
     "start_time": "2021-02-09T08:10:47.696925Z"
    },
    "deletable": false,
    "id": "YdfD8mWa4IWf",
    "nbgrader": {
     "cell_type": "code",
     "checksum": "1178c8a8908b0e4dc07add7aa49b7fde",
     "grade": false,
     "grade_id": "cell-de9cf0459c4b9324",
     "locked": false,
     "schema_version": 3,
     "solution": true,
     "task": false
    }
   },
   "outputs": [],
   "source": [
    "# TODO: Implement this! (10 points)\n",
    "def bow_search(query, index_set):\n",
    "    \"\"\"\n",
    "        Perform a search over all documents with the given query. \n",
    "        Note: You have to use the `get_index` function created in the previous cells\n",
    "        Input: \n",
    "            query - a (unprocessed) query\n",
    "            index_set - the index to use\n",
    "        Output: a list of (document_id, score), sorted in descending relevance to the given query \n",
    "    \"\"\"\n",
    "    index = get_index(index_set)\n",
    "    processed_query = preprocess_query(query, index_set)\n",
    "    \n",
    "    # YOUR CODE HERE\n",
    "    doc_scores = {}\n",
    "    for query_word in processed_query:\n",
    "        if query_word in index:\n",
    "            word_occurences = index[query_word] \n",
    "            for (doc_id, counts) in word_occurences:\n",
    "                if doc_id not in doc_scores:\n",
    "                    doc_scores[doc_id] = counts\n",
    "                else:\n",
    "                    doc_scores[doc_id] += counts\n",
    "    \n",
    "    sorted_scores = [(k, float(v)) for k, v in sorted(doc_scores.items(), key=lambda item:item[1], reverse=True)]\n",
    "\n",
    "    return sorted_scores"
   ]
  },
  {
   "cell_type": "code",
   "execution_count": 24,
   "metadata": {
    "ExecuteTime": {
     "end_time": "2021-02-09T08:10:47.707691Z",
     "start_time": "2021-02-09T08:10:47.702703Z"
    },
    "deletable": false,
    "editable": false,
    "id": "YAeh2kuY4IWf",
    "nbgrader": {
     "cell_type": "code",
     "checksum": "644d6d33cf5075c6d9878d4fe24c6213",
     "grade": true,
     "grade_id": "cell-9f6aceae6dd9125f",
     "locked": true,
     "points": 2,
     "schema_version": 3,
     "solution": false,
     "task": false
    }
   },
   "outputs": [
    {
     "name": "stdout",
     "output_type": "stream",
     "text": [
      "BOW Results:\n",
      "Rank 0(6.0): An Information Algebra - Phase I Report-Language\\n...\n",
      "Rank 1(6.0): Rejuvenating Experimental Computer Science\\nThis r...\n",
      "Rank 2(3.0): ALGOL 60 Confidential\\nThe ALGOL 60 Report,* when ...\n",
      "Rank 3(2.0): Automatic Abstracting and Indexing Survey and Reco...\n",
      "Rank 4(2.0): A String Language for Symbol Manipulation Based on...\n"
     ]
    }
   ],
   "source": [
    "#### Function check\n",
    "\n",
    "docs_by_id = dict(docs)\n",
    "def print_results(docs, len_limit=50):    \n",
    "    for i, (doc_id, score) in enumerate(docs):\n",
    "        doc_content = docs_by_id[doc_id].strip().replace(\"\\n\", \"\\\\n\")[:len_limit] + \"...\"\n",
    "        print(f\"Rank {i}({score:.2}): {doc_content}\")\n",
    "\n",
    "test_bow = bow_search(\"report\", index_set=1)[:5]\n",
    "print(f\"BOW Results:\")\n",
    "print_results(test_bow)\n",
    "#### "
   ]
  },
  {
   "cell_type": "code",
   "execution_count": 25,
   "metadata": {
    "ExecuteTime": {
     "end_time": "2021-02-09T08:10:47.712506Z",
     "start_time": "2021-02-09T08:10:47.708687Z"
    },
    "deletable": false,
    "editable": false,
    "id": "VxcFb-PS4IWf",
    "nbgrader": {
     "cell_type": "code",
     "checksum": "8d54c91b913d7a54b25f3358c969fa45",
     "grade": true,
     "grade_id": "cell-4eed3abf233d9b58",
     "locked": true,
     "points": 2,
     "schema_version": 3,
     "solution": false,
     "task": false
    }
   },
   "outputs": [],
   "source": [
    "#### Please do not change this. This cell is used for grading."
   ]
  },
  {
   "cell_type": "code",
   "execution_count": 26,
   "metadata": {
    "ExecuteTime": {
     "end_time": "2021-02-09T08:10:47.716464Z",
     "start_time": "2021-02-09T08:10:47.713470Z"
    },
    "deletable": false,
    "editable": false,
    "id": "2Q52Hizy4IWf",
    "nbgrader": {
     "cell_type": "code",
     "checksum": "58bcc16d36dc079b7f41f9572423c62b",
     "grade": true,
     "grade_id": "cell-4d65a2d7090c466c",
     "locked": true,
     "points": 3,
     "schema_version": 3,
     "solution": false,
     "task": false
    }
   },
   "outputs": [],
   "source": [
    "#### Please do not change this. This cell is used for grading."
   ]
  },
  {
   "cell_type": "code",
   "execution_count": 27,
   "metadata": {
    "ExecuteTime": {
     "end_time": "2021-02-09T08:10:47.721358Z",
     "start_time": "2021-02-09T08:10:47.718457Z"
    },
    "deletable": false,
    "editable": false,
    "id": "_EV8Ezcu4IWg",
    "nbgrader": {
     "cell_type": "code",
     "checksum": "65e4561970c4eba3e5ce43b142f858af",
     "grade": true,
     "grade_id": "cell-dedf36ab5853ce20",
     "locked": true,
     "points": 3,
     "schema_version": 3,
     "solution": false,
     "task": false
    }
   },
   "outputs": [],
   "source": [
    "#### Please do not change this. This cell is used for grading."
   ]
  },
  {
   "cell_type": "markdown",
   "metadata": {
    "deletable": false,
    "editable": false,
    "id": "a6te4fbZ4IWg",
    "nbgrader": {
     "cell_type": "markdown",
     "checksum": "a5c2318004c5ce534b67c7a36bbc7c31",
     "grade": false,
     "grade_id": "cell-a5c09c79ac1f2871",
     "locked": true,
     "schema_version": 3,
     "solution": false,
     "task": false
    }
   },
   "source": [
    "\n",
    "---\n",
    "\n",
    "### Section 3.2: TF-IDF (15 points) <a class=\"anchor\" id=\"tfidf\"></a>\n",
    "\n",
    "Before we implement the tf-idf scoring functions, let's first write a function to compute the document frequencies of all words.  \n",
    "\n",
    "#### 3.2.1 Document frequency (5 points)\n",
    "Compute the document frequencies of all tokens in the collection.  "
   ]
  },
  {
   "cell_type": "code",
   "execution_count": 28,
   "metadata": {
    "ExecuteTime": {
     "end_time": "2021-02-09T08:10:47.726368Z",
     "start_time": "2021-02-09T08:10:47.723337Z"
    },
    "deletable": false,
    "id": "JTO8ZA5t4IWg",
    "nbgrader": {
     "cell_type": "code",
     "checksum": "11cdde77378ded394d7922fe36bbc5d1",
     "grade": false,
     "grade_id": "cell-9a2369f32e864b8a",
     "locked": false,
     "schema_version": 3,
     "solution": true,
     "task": false
    }
   },
   "outputs": [],
   "source": [
    "# TODO: Implement this! (5 points)\n",
    "def compute_df(documents):\n",
    "    \"\"\"\n",
    "        Compute the document frequency of all terms in the vocabulary\n",
    "        Input: A list of documents\n",
    "        Output: A dictionary with {token: document frequency)\n",
    "    \"\"\"\n",
    "    # YOUR CODE HERE\n",
    "    merge_list = []\n",
    "    for doc in documents:\n",
    "        merge_list.extend(set(doc))\n",
    "    dict_ = Counter(merge_list)\n",
    "    \n",
    "    return dict_ \n"
   ]
  },
  {
   "cell_type": "code",
   "execution_count": 29,
   "metadata": {
    "ExecuteTime": {
     "end_time": "2021-02-09T08:10:47.780884Z",
     "start_time": "2021-02-09T08:10:47.728323Z"
    },
    "deletable": false,
    "editable": false,
    "id": "pWi3HvTH4IWg",
    "nbgrader": {
     "cell_type": "code",
     "checksum": "154985511d7925c5793a1f97dea81880",
     "grade": false,
     "grade_id": "cell-4c3bddd0b73ac90e",
     "locked": true,
     "schema_version": 3,
     "solution": false,
     "task": false
    }
   },
   "outputs": [],
   "source": [
    "#### Compute df based on the two configs\n",
    "\n",
    "# get the document frequencies of each document\n",
    "df_1 = compute_df([d[1] for d in doc_repr_1])\n",
    "df_2 = compute_df([d[1] for d in doc_repr_2])\n",
    "\n",
    "def get_df(index_set):\n",
    "    assert index_set in {1, 2}\n",
    "    return {\n",
    "        1: df_1,\n",
    "        2: df_2\n",
    "    }[index_set]\n",
    "####"
   ]
  },
  {
   "cell_type": "code",
   "execution_count": 30,
   "metadata": {
    "ExecuteTime": {
     "end_time": "2021-02-09T08:10:47.784620Z",
     "start_time": "2021-02-09T08:10:47.781630Z"
    },
    "deletable": false,
    "editable": false,
    "id": "5Y16YYM04IWg",
    "nbgrader": {
     "cell_type": "code",
     "checksum": "110cc180068cf3f77c682ee3de2a117c",
     "grade": true,
     "grade_id": "cell-79e8a6db1e5fc46f",
     "locked": true,
     "points": 5,
     "schema_version": 3,
     "solution": false,
     "task": false
    }
   },
   "outputs": [
    {
     "name": "stdout",
     "output_type": "stream",
     "text": [
      "597\n",
      "11\n"
     ]
    }
   ],
   "source": [
    "#### Function check\n",
    "\n",
    "print(df_1['computer'])\n",
    "print(df_2['computer'])\n",
    "####"
   ]
  },
  {
   "cell_type": "markdown",
   "metadata": {
    "deletable": false,
    "editable": false,
    "id": "X2fSm6OJ4IWg",
    "nbgrader": {
     "cell_type": "markdown",
     "checksum": "6646996a2d016ef86e7cedd2f79a29d1",
     "grade": false,
     "grade_id": "cell-52f6acc487e1b96d",
     "locked": true,
     "schema_version": 3,
     "solution": false,
     "task": false
    }
   },
   "source": [
    "---\n",
    "#### 3.2.2 TF-IDF search (10 points)\n",
    "Next, implement a function that computes a tf-idf score given a query.      "
   ]
  },
  {
   "cell_type": "code",
   "execution_count": 31,
   "metadata": {
    "ExecuteTime": {
     "end_time": "2021-02-09T08:27:39.870224Z",
     "start_time": "2021-02-09T08:27:39.859248Z"
    },
    "deletable": false,
    "id": "xxWNAcOB4IWg",
    "nbgrader": {
     "cell_type": "code",
     "checksum": "b33c859693d1b383bcb53acea340027f",
     "grade": false,
     "grade_id": "cell-2fb5ba34b2994cd9",
     "locked": false,
     "schema_version": 3,
     "solution": true,
     "task": false
    }
   },
   "outputs": [
    {
     "name": "stdout",
     "output_type": "stream",
     "text": [
      "TFIDF Results:\n",
      "Rank 0(1.3e+01): Logic and Programming Languages\\nLogic has been lo...\n",
      "Rank 1(1.3e+01): Consumer Difficulties With Computerized Transactio...\n",
      "Rank 2(8.9): What is Proprietary In Mathematical Programming?-I...\n",
      "Rank 3(8.9): A Statistical Model for Console Behavior in Multiu...\n",
      "Rank 4(8.9): Arguments for a Moratorium on the Construction\\nof...\n"
     ]
    }
   ],
   "source": [
    "# TODO: Implement this! (10 points)\n",
    "def tfidf_search(query, index_set):\n",
    "    \"\"\"\n",
    "        Perform a search over all documents with the given query using tf-idf. \n",
    "        Note #1: You have to use the `get_index` (and the `get_df`) function created in the previous cells\n",
    "        Input: \n",
    "            query - a (unprocessed) query\n",
    "            index_set - the index to use\n",
    "        Output: a list of (document_id, score), sorted in descending relevance to the given query \n",
    "    \"\"\"\n",
    "    index = get_index(index_set)\n",
    "    df = get_df(index_set)\n",
    "    processed_query = preprocess_query(query, index_set)\n",
    "    \n",
    "    # YOUR CODE HERE\n",
    "    nr_docs = len(doc_repr_1)\n",
    "    doc_scores = {}\n",
    "    for query_word in processed_query:\n",
    "        idf = math.log(nr_docs/df[query_word])\n",
    "        if query_word in index:\n",
    "            for (doc_id, tf) in index[query_word]:\n",
    "                if doc_id not in doc_scores:\n",
    "                    doc_scores[doc_id] = tf * idf\n",
    "                else:\n",
    "                    doc_scores[doc_id] += (tf * idf)\n",
    "\n",
    "        sorted_scores = [(k, v) for k, v in sorted(doc_scores.items(), key=lambda item:item[1], reverse=True)]\n",
    "        return sorted_scores\n",
    "\n",
    "\n",
    "\n",
    "\n",
    "test_tfidf = tfidf_search(\"What articles exist which deal with TSS (Time Sharing System), an operating system for IBM computers?\", index_set=1)[:5]\n",
    "print(f\"TFIDF Results:\")\n",
    "print_results(test_tfidf)"
   ]
  },
  {
   "cell_type": "code",
   "execution_count": 32,
   "metadata": {
    "ExecuteTime": {
     "end_time": "2021-02-09T08:10:47.800150Z",
     "start_time": "2021-02-09T08:10:47.796588Z"
    },
    "deletable": false,
    "editable": false,
    "id": "leBfCIu04IWh",
    "nbgrader": {
     "cell_type": "code",
     "checksum": "10b9fd39f3c9a9f3ca274c020ad79323",
     "grade": true,
     "grade_id": "cell-bc68aeeacf42beb3",
     "locked": true,
     "points": 2,
     "schema_version": 3,
     "solution": false,
     "task": false
    },
    "tags": []
   },
   "outputs": [
    {
     "name": "stdout",
     "output_type": "stream",
     "text": [
      "TFIDF Results:\n",
      "Rank 0(2.3e+01): An Information Algebra - Phase I Report-Language\\n...\n",
      "Rank 1(2.3e+01): Rejuvenating Experimental Computer Science\\nThis r...\n",
      "Rank 2(1.2e+01): ALGOL 60 Confidential\\nThe ALGOL 60 Report,* when ...\n",
      "Rank 3(7.8): Automatic Abstracting and Indexing Survey and Reco...\n",
      "Rank 4(7.8): A String Language for Symbol Manipulation Based on...\n"
     ]
    }
   ],
   "source": [
    "#### Function check\n",
    "test_tfidf = tfidf_search(\"report\", index_set=1)[:5]\n",
    "print(f\"TFIDF Results:\")\n",
    "print_results(test_tfidf)\n",
    "####"
   ]
  },
  {
   "cell_type": "code",
   "execution_count": 33,
   "metadata": {
    "ExecuteTime": {
     "end_time": "2021-02-09T08:10:47.805931Z",
     "start_time": "2021-02-09T08:10:47.801943Z"
    },
    "deletable": false,
    "editable": false,
    "id": "Npd3IiET4IWh",
    "nbgrader": {
     "cell_type": "code",
     "checksum": "03441f97df9db4996d0f260fcc974e9d",
     "grade": true,
     "grade_id": "cell-c7702fa8179fadb9",
     "locked": true,
     "points": 2,
     "schema_version": 3,
     "solution": false,
     "task": false
    }
   },
   "outputs": [],
   "source": [
    "#### Please do not change this. This cell is used for grading."
   ]
  },
  {
   "cell_type": "code",
   "execution_count": 34,
   "metadata": {
    "ExecuteTime": {
     "end_time": "2021-02-09T08:10:47.809920Z",
     "start_time": "2021-02-09T08:10:47.806928Z"
    },
    "deletable": false,
    "editable": false,
    "id": "wNuwNNBt4IWh",
    "nbgrader": {
     "cell_type": "code",
     "checksum": "7272cfcbb457a74d23bfec1f85d22d5f",
     "grade": true,
     "grade_id": "cell-3284f50ac29abbaa",
     "locked": true,
     "points": 3,
     "schema_version": 3,
     "solution": false,
     "task": false
    }
   },
   "outputs": [],
   "source": [
    "#### Please do not change this. This cell is used for grading."
   ]
  },
  {
   "cell_type": "code",
   "execution_count": 35,
   "metadata": {
    "ExecuteTime": {
     "end_time": "2021-02-09T08:10:47.813648Z",
     "start_time": "2021-02-09T08:10:47.810660Z"
    },
    "deletable": false,
    "editable": false,
    "id": "ZH-U34qc4IWh",
    "nbgrader": {
     "cell_type": "code",
     "checksum": "fcbcc867713612b90395d653db8fd5e3",
     "grade": true,
     "grade_id": "cell-d908c80a3155354b",
     "locked": true,
     "points": 3,
     "schema_version": 3,
     "solution": false,
     "task": false
    }
   },
   "outputs": [],
   "source": [
    "#### Please do not change this. This cell is used for grading."
   ]
  },
  {
   "cell_type": "markdown",
   "metadata": {
    "deletable": false,
    "editable": false,
    "id": "CF8mA1LD4IWh",
    "nbgrader": {
     "cell_type": "markdown",
     "checksum": "cdffc83f0eaea937cf64a212e7e9af8d",
     "grade": false,
     "grade_id": "cell-f5d923459ba21733",
     "locked": true,
     "schema_version": 3,
     "solution": false,
     "task": false
    }
   },
   "source": [
    "--- \n",
    "\n",
    "### Section 3.3: Query Likelihood Model (35 points) <a class=\"anchor\" id=\"qlm\"></a>\n",
    "\n",
    "In this section, you will implement a simple query likelihood model. \n",
    "\n",
    "\n",
    "#### 3.3.1 Naive QL (15 points)\n",
    "\n",
    "First, let us implement a naive version of a QL model, assuming a multinomial unigram language model (with a uniform prior over the documents). \n",
    "\n"
   ]
  },
  {
   "cell_type": "code",
   "execution_count": 36,
   "metadata": {
    "ExecuteTime": {
     "end_time": "2021-02-09T08:10:47.820630Z",
     "start_time": "2021-02-09T08:10:47.814646Z"
    },
    "deletable": false,
    "editable": false,
    "id": "5Z4AnsRm4IWh",
    "nbgrader": {
     "cell_type": "code",
     "checksum": "b7ae2b7d818b428b4638c1c9206d2aca",
     "grade": false,
     "grade_id": "cell-98505778f7b68e7f",
     "locked": true,
     "schema_version": 3,
     "solution": false,
     "task": false
    }
   },
   "outputs": [],
   "source": [
    "#### Document length for normalization\n",
    "\n",
    "def doc_lengths(documents):\n",
    "    doc_lengths = {doc_id:len(doc) for (doc_id, doc) in documents}\n",
    "    return doc_lengths\n",
    "\n",
    "doc_lengths_1 = doc_lengths(doc_repr_1)\n",
    "doc_lengths_2 = doc_lengths(doc_repr_2)\n",
    "\n",
    "def get_doc_lengths(index_set):\n",
    "    assert index_set in {1, 2}\n",
    "    return {\n",
    "        1: doc_lengths_1,\n",
    "        2: doc_lengths_2\n",
    "    }[index_set]\n",
    "####"
   ]
  },
  {
   "cell_type": "code",
   "execution_count": 37,
   "metadata": {
    "ExecuteTime": {
     "end_time": "2021-02-09T08:43:27.254693Z",
     "start_time": "2021-02-09T08:43:27.248707Z"
    },
    "deletable": false,
    "id": "-WXzO9tU4IWi",
    "nbgrader": {
     "cell_type": "code",
     "checksum": "cedd08303a914243fefdb6b876977ca1",
     "grade": false,
     "grade_id": "cell-8bcf2b804d636c2e",
     "locked": false,
     "schema_version": 3,
     "solution": true,
     "task": false
    }
   },
   "outputs": [],
   "source": [
    "# TODO: Implement this! (15 points)\n",
    "def naive_ql_search(query, index_set):\n",
    "    \"\"\"\n",
    "        Perform a search over all documents with the given query using a naive QL model. \n",
    "        Note #1: You have to use the `get_index` (and get_doc_lengths) function created in the previous cells\n",
    "        Input: \n",
    "            query - a (unprocessed) query\n",
    "            index_set - the index to use\n",
    "        Output: a list of (document_id, score), sorted in descending relevance to the given query \n",
    "    \"\"\"\n",
    "    index = get_index(index_set)\n",
    "    doc_lengths = get_doc_lengths(index_set)\n",
    "    processed_query = preprocess_query(query, index_set)\n",
    "    # YOUR CODE HERE\n",
    "    ql_scores = {}\n",
    "    for token in processed_query:\n",
    "        if token in index:\n",
    "            for (id,num) in index[token]:\n",
    "                score = num / doc_lengths[id]\n",
    "                if id not in ql_scores:\n",
    "                    ql_scores[id] = score\n",
    "                else:\n",
    "                    ql_scores[id] += score\n",
    "                \n",
    "    ql_scores_list = [(key, score) for key, score in ql_scores.items()]\n",
    "    ql_scores_list.sort(key=lambda x: x[1], reverse = True)\n",
    "    return ql_scores_list "
   ]
  },
  {
   "cell_type": "code",
   "execution_count": 38,
   "metadata": {
    "ExecuteTime": {
     "end_time": "2021-02-09T08:43:28.834426Z",
     "start_time": "2021-02-09T08:43:28.830437Z"
    },
    "deletable": false,
    "editable": false,
    "id": "VHLDABlc4IWi",
    "nbgrader": {
     "cell_type": "code",
     "checksum": "b550d15bdad28354c336020a00c33d56",
     "grade": true,
     "grade_id": "cell-5a83ac12ecde8578",
     "locked": true,
     "points": 3,
     "schema_version": 3,
     "solution": false,
     "task": false
    }
   },
   "outputs": [
    {
     "name": "stdout",
     "output_type": "stream",
     "text": [
      "Naive QL Results:\n",
      "Rank 0(0.2): A Report Writer For COBOL...\n",
      "Rank 1(0.2): A CRT Report Generating System...\n",
      "Rank 2(0.17): Preliminary Report-International Algebraic Languag...\n",
      "Rank 3(0.17): Supplement to the ALGOL 60 Report...\n",
      "Rank 4(0.14): ALGOL Sub-Committee Report - Extensions...\n"
     ]
    }
   ],
   "source": [
    "#### Function check\n",
    "test_naiveql = naive_ql_search(\"report\", index_set=1)[:5]\n",
    "print(f\"Naive QL Results:\")\n",
    "print_results(test_naiveql)\n",
    "####"
   ]
  },
  {
   "cell_type": "code",
   "execution_count": 39,
   "metadata": {
    "ExecuteTime": {
     "end_time": "2021-02-09T08:10:47.836875Z",
     "start_time": "2021-02-09T08:10:47.832885Z"
    },
    "deletable": false,
    "editable": false,
    "id": "52J5wGHX4IWi",
    "nbgrader": {
     "cell_type": "code",
     "checksum": "799df1d81c63fe90edbb6c218fc707fb",
     "grade": true,
     "grade_id": "cell-80f4bf2137f997bb",
     "locked": true,
     "points": 2,
     "schema_version": 3,
     "solution": false,
     "task": false
    }
   },
   "outputs": [],
   "source": [
    "#### Please do not change this. This cell is used for grading."
   ]
  },
  {
   "cell_type": "code",
   "execution_count": 40,
   "metadata": {
    "ExecuteTime": {
     "end_time": "2021-02-09T08:10:47.841861Z",
     "start_time": "2021-02-09T08:10:47.837877Z"
    },
    "deletable": false,
    "editable": false,
    "id": "vXS0rYJ94IWi",
    "nbgrader": {
     "cell_type": "code",
     "checksum": "875a4a517d27e20625d41783cebec118",
     "grade": true,
     "grade_id": "cell-5ce2993458a8ce51",
     "locked": true,
     "points": 3,
     "schema_version": 3,
     "solution": false,
     "task": false
    }
   },
   "outputs": [],
   "source": [
    "#### Please do not change this. This cell is used for grading."
   ]
  },
  {
   "cell_type": "code",
   "execution_count": 41,
   "metadata": {
    "ExecuteTime": {
     "end_time": "2021-02-09T08:10:47.845851Z",
     "start_time": "2021-02-09T08:10:47.842859Z"
    },
    "deletable": false,
    "editable": false,
    "id": "E7Og-DYJ4IWi",
    "nbgrader": {
     "cell_type": "code",
     "checksum": "d5c4e1c3852e71a46f32825b122f1b71",
     "grade": true,
     "grade_id": "cell-7753bdb54e292f3d",
     "locked": true,
     "points": 3,
     "schema_version": 3,
     "solution": false,
     "task": false
    }
   },
   "outputs": [],
   "source": [
    "#### Please do not change this. This cell is used for grading."
   ]
  },
  {
   "cell_type": "code",
   "execution_count": 42,
   "metadata": {
    "ExecuteTime": {
     "end_time": "2021-02-09T08:10:47.849840Z",
     "start_time": "2021-02-09T08:10:47.846848Z"
    },
    "deletable": false,
    "editable": false,
    "id": "GIrjDu1G4IWi",
    "nbgrader": {
     "cell_type": "code",
     "checksum": "c4d4332d4356e89ce0240f6b80e1899a",
     "grade": true,
     "grade_id": "cell-54e476e2f96e64bb",
     "locked": true,
     "points": 4,
     "schema_version": 3,
     "solution": false,
     "task": false
    }
   },
   "outputs": [],
   "source": [
    "#### Please do not change this. This cell is used for grading."
   ]
  },
  {
   "cell_type": "markdown",
   "metadata": {
    "deletable": false,
    "editable": false,
    "id": "PwcdEmYB4IWi",
    "nbgrader": {
     "cell_type": "markdown",
     "checksum": "8d739dc91a22bd48897f603885f95a74",
     "grade": false,
     "grade_id": "cell-5414dfd69dab8b94",
     "locked": true,
     "schema_version": 3,
     "solution": false,
     "task": false
    }
   },
   "source": [
    "---\n",
    "#### 3.3.2 QL (20 points)\n",
    "Now, let's implement a QL model that handles the issues with the naive version. In particular, you will implement a QL model with Jelinek-Mercer Smoothing. That means an interpolated score is computed per word - one term is the same as the previous naive version, and the second term comes from a unigram language model. In addition, you should accumulate the scores by summing the **log** (smoothed) probability which leads to better numerical stability."
   ]
  },
  {
   "cell_type": "code",
   "execution_count": 43,
   "metadata": {
    "ExecuteTime": {
     "end_time": "2021-02-09T08:45:57.267618Z",
     "start_time": "2021-02-09T08:45:57.259635Z"
    },
    "deletable": false,
    "id": "vQ7JGYo34IWj",
    "nbgrader": {
     "cell_type": "code",
     "checksum": "b8c6abf937ad333e628f1db891f2e29e",
     "grade": false,
     "grade_id": "cell-bb1f506409771257",
     "locked": false,
     "schema_version": 3,
     "solution": true,
     "task": false
    }
   },
   "outputs": [],
   "source": [
    "# TODO: Implement this! (20 points)\n",
    "\n",
    "# YOUR CODE HERE\n",
    "def ql_search(query, index_set):\n",
    "    \"\"\"\n",
    "        Perform a search over all documents with the given query using a QL model \n",
    "        with Jelinek-Mercer Smoothing (set smoothing=0.1). \n",
    "        \n",
    "        \n",
    "        Note #1: You have to use the `get_index` (and get_doc_lengths) function created in the previous cells\n",
    "        Note #2: You might have to create some variables beforehand and use them in this function\n",
    "        \n",
    "        \n",
    "        Input: \n",
    "            query - a (unprocessed) query\n",
    "            index_set - the index to use\n",
    "        Output: a list of (document_id, score), sorted in descending relevance to the given query \n",
    "    \"\"\"\n",
    "    index = get_index(index_set)\n",
    "    doc_lengths = get_doc_lengths(index_set)\n",
    "    processed_query = preprocess_query(query, index_set)\n",
    "    \n",
    "    # YOUR CODE HERE\n",
    "    smoothing = 0.1\n",
    "    num_of_docs = len(doc_lengths)\n",
    "    df = get_df(index_set)\n",
    "    ql_scores = {}\n",
    "    for token in processed_query:\n",
    "        if token in index:\n",
    "            term_2 = (1-smoothing) * (df[token] / num_of_docs)\n",
    "            for (id,num) in index[token]:\n",
    "                term_1 = smoothing * (num / doc_lengths[id])\n",
    "                score = math.log(term_1 + term_2)\n",
    "                if id not in ql_scores:\n",
    "                    ql_scores[id] = score\n",
    "                else:\n",
    "                    ql_scores[id] += score\n",
    "                \n",
    "    ql_scores_list = [(key, score) for key, score in ql_scores.items()]\n",
    "    ql_scores_list.sort(key=lambda x: x[1], reverse = True)\n",
    "    return ql_scores_list\n",
    "    "
   ]
  },
  {
   "cell_type": "code",
   "execution_count": 44,
   "metadata": {
    "ExecuteTime": {
     "end_time": "2021-02-09T08:45:58.861592Z",
     "start_time": "2021-02-09T08:45:58.856648Z"
    },
    "deletable": false,
    "editable": false,
    "id": "onjd74_U4IWj",
    "nbgrader": {
     "cell_type": "code",
     "checksum": "0b12a7f3355193a257fd9f5f69a66562",
     "grade": true,
     "grade_id": "cell-850e9d6369bcec32",
     "locked": true,
     "points": 4,
     "schema_version": 3,
     "solution": false,
     "task": false
    }
   },
   "outputs": [
    {
     "name": "stdout",
     "output_type": "stream",
     "text": [
      "Rank 0(-3.3): A Report Writer For COBOL...\n",
      "Rank 1(-3.3): A CRT Report Generating System...\n",
      "Rank 2(-3.4): Preliminary Report-International Algebraic Languag...\n",
      "Rank 3(-3.4): Supplement to the ALGOL 60 Report...\n",
      "Rank 4(-3.4): ALGOL Sub-Committee Report - Extensions...\n",
      "\n",
      "Rank 0(-3.3e+01): A Report Writer For COBOL...\n",
      "Rank 1(-3.3e+01): A CRT Report Generating System...\n",
      "Rank 2(-3.4e+01): Preliminary Report-International Algebraic Languag...\n",
      "Rank 3(-3.4e+01): Supplement to the ALGOL 60 Report...\n",
      "Rank 4(-3.4e+01): ALGOL Sub-Committee Report - Extensions...\n"
     ]
    }
   ],
   "source": [
    "#### Function check\n",
    "test_ql_results = ql_search(\"report\", index_set=1)[:5]\n",
    "print_results(test_ql_results)\n",
    "print()\n",
    "test_ql_results_long = ql_search(\"report \" * 10, index_set=1)[:5]\n",
    "print_results(test_ql_results_long)\n",
    "####"
   ]
  },
  {
   "cell_type": "code",
   "execution_count": 45,
   "metadata": {
    "ExecuteTime": {
     "end_time": "2021-02-09T08:10:47.868806Z",
     "start_time": "2021-02-09T08:10:47.865813Z"
    },
    "deletable": false,
    "editable": false,
    "id": "2Nf0hYoy4IWj",
    "nbgrader": {
     "cell_type": "code",
     "checksum": "e40be645140389c115849856145f5b59",
     "grade": true,
     "grade_id": "cell-958cdcf6fd6899b7",
     "locked": true,
     "points": 3,
     "schema_version": 3,
     "solution": false,
     "task": false
    }
   },
   "outputs": [],
   "source": [
    "#### Please do not change this. This cell is used for grading."
   ]
  },
  {
   "cell_type": "code",
   "execution_count": 46,
   "metadata": {
    "ExecuteTime": {
     "end_time": "2021-02-09T08:10:47.875601Z",
     "start_time": "2021-02-09T08:10:47.871613Z"
    },
    "deletable": false,
    "editable": false,
    "id": "LBhA_QfH4IWj",
    "nbgrader": {
     "cell_type": "code",
     "checksum": "41d4aff001df17e7963ba79b45810b30",
     "grade": true,
     "grade_id": "cell-384dc23a0c251f6e",
     "locked": true,
     "points": 4,
     "schema_version": 3,
     "solution": false,
     "task": false
    }
   },
   "outputs": [],
   "source": [
    "#### Please do not change this. This cell is used for grading."
   ]
  },
  {
   "cell_type": "code",
   "execution_count": 47,
   "metadata": {
    "ExecuteTime": {
     "end_time": "2021-02-09T08:10:47.879590Z",
     "start_time": "2021-02-09T08:10:47.876598Z"
    },
    "deletable": false,
    "editable": false,
    "id": "RweZvvbK4IWj",
    "nbgrader": {
     "cell_type": "code",
     "checksum": "893e8c5a073abc8ebb763d267b91bc02",
     "grade": true,
     "grade_id": "cell-7218966cba5097cc",
     "locked": true,
     "points": 4,
     "schema_version": 3,
     "solution": false,
     "task": false
    }
   },
   "outputs": [],
   "source": [
    "#### Please do not change this. This cell is used for grading."
   ]
  },
  {
   "cell_type": "code",
   "execution_count": 48,
   "metadata": {
    "ExecuteTime": {
     "end_time": "2021-02-09T08:10:47.883579Z",
     "start_time": "2021-02-09T08:10:47.880588Z"
    },
    "deletable": false,
    "editable": false,
    "id": "9WGyJzph4IWj",
    "nbgrader": {
     "cell_type": "code",
     "checksum": "f99cb6f8b1f5830aaed8f06712ff846e",
     "grade": true,
     "grade_id": "cell-481ab073259ae53f",
     "locked": true,
     "points": 5,
     "schema_version": 3,
     "solution": false,
     "task": false
    }
   },
   "outputs": [],
   "source": [
    "#### Please do not change this. This cell is used for grading."
   ]
  },
  {
   "cell_type": "markdown",
   "metadata": {
    "deletable": false,
    "editable": false,
    "id": "a3vu_N7C4IWj",
    "nbgrader": {
     "cell_type": "markdown",
     "checksum": "c02f14705d679579b1aa9f78f54779d5",
     "grade": false,
     "grade_id": "cell-f44088bfdac1dc90",
     "locked": true,
     "schema_version": 3,
     "solution": false,
     "task": false
    }
   },
   "source": [
    "--- \n",
    "\n",
    "### Section 3.4: BM25 (20 points) <a class=\"anchor\" id=\"bm25\"></a>\n",
    "\n",
    "In this section, we will implement the BM25 scoring function. \n"
   ]
  },
  {
   "cell_type": "code",
   "execution_count": 49,
   "metadata": {
    "ExecuteTime": {
     "end_time": "2021-02-09T08:51:24.359426Z",
     "start_time": "2021-02-09T08:51:24.350388Z"
    },
    "deletable": false,
    "id": "NLVmJujG4IWk",
    "nbgrader": {
     "cell_type": "code",
     "checksum": "e57efe06ea92af1c83784a42eb3d86e0",
     "grade": false,
     "grade_id": "cell-15640fc9b5d00a3c",
     "locked": false,
     "schema_version": 3,
     "solution": true,
     "task": false
    }
   },
   "outputs": [],
   "source": [
    "# TODO: Implement this! (20 points)\n",
    "def bm25_search(query, index_set):\n",
    "    \"\"\"\n",
    "        Perform a search over all documents with the given query using BM25. Use k_1 = 1.5 and b = 0.75\n",
    "        Note #1: You have to use the `get_index` (and `get_doc_lengths`) function created in the previous cells\n",
    "        Note #2: You might have to create some variables beforehand and use them in this function\n",
    "        \n",
    "        Input: \n",
    "            query - a (unprocessed) query\n",
    "            index_set - the index to use\n",
    "        Output: a list of (document_id, score), sorted in descending relevance to the given query \n",
    "    \"\"\"\n",
    "    \n",
    "    index = get_index(index_set)\n",
    "    df = get_df(index_set)\n",
    "    doc_lengths = get_doc_lengths(index_set)\n",
    "    processed_query = preprocess_query(query, index_set)\n",
    "    \n",
    "    # YOUR CODE HERE\n",
    "    b = 0.75\n",
    "    k_1 = 1.5\n",
    "    \n",
    "    num_of_docs = len(doc_lengths)\n",
    "    avg_doc_length = sum(doc_lengths[key] for key in doc_lengths) / num_of_docs\n",
    "    \n",
    "    bm25_scores = {}\n",
    "    for token in processed_query:\n",
    "        if token in index:\n",
    "            token_freq = df[token]\n",
    "            for doc_id, num_of_occurences in index[token]:\n",
    "                doc_length = doc_lengths[doc_id]\n",
    "                idf = math.log((num_of_docs - token_freq + 0.5) / (token_freq + 0.5) + 1)\n",
    "                K = k_1 * (1 - b + b * (doc_length / avg_doc_length))\n",
    "                score = idf * (num_of_occurences * (k_1 + 1)) / (num_of_occurences + K)\n",
    "                if doc_id in bm25_scores:\n",
    "                    bm25_scores[doc_id] += score\n",
    "                else:\n",
    "                    bm25_scores[doc_id] = score \n",
    "\n",
    "    bm25_scores_list = [(key, score) for key, score in bm25_scores.items()]\n",
    "    bm25_scores_list.sort(key=lambda x: x[1], reverse = True)   \n",
    "    \n",
    "    return bm25_scores_list \n",
    "    "
   ]
  },
  {
   "cell_type": "code",
   "execution_count": 50,
   "metadata": {
    "ExecuteTime": {
     "end_time": "2021-02-09T08:51:25.804584Z",
     "start_time": "2021-02-09T08:51:25.798386Z"
    },
    "deletable": false,
    "editable": false,
    "id": "YocJglWu4IWk",
    "nbgrader": {
     "cell_type": "code",
     "checksum": "4be9de5d4e94637960d83725422bea6c",
     "grade": true,
     "grade_id": "cell-d10536bca72c74b1",
     "locked": true,
     "points": 3,
     "schema_version": 3,
     "solution": false,
     "task": false
    }
   },
   "outputs": [
    {
     "name": "stdout",
     "output_type": "stream",
     "text": [
      "Rank 0(6.7): A Report Writer For COBOL...\n",
      "Rank 1(6.7): A CRT Report Generating System...\n",
      "Rank 2(6.6): Preliminary Report-International Algebraic Languag...\n",
      "Rank 3(6.6): Supplement to the ALGOL 60 Report...\n",
      "Rank 4(6.5): ALGOL Sub-Committee Report - Extensions...\n"
     ]
    }
   ],
   "source": [
    "#### Function check\n",
    "test_bm25_results = bm25_search(\"report\", index_set=1)[:5]\n",
    "print_results(test_bm25_results)\n",
    "####"
   ]
  },
  {
   "cell_type": "code",
   "execution_count": 51,
   "metadata": {
    "ExecuteTime": {
     "end_time": "2021-02-09T08:10:47.899742Z",
     "start_time": "2021-02-09T08:10:47.897077Z"
    },
    "deletable": false,
    "editable": false,
    "id": "LMKx7x7X4IWk",
    "nbgrader": {
     "cell_type": "code",
     "checksum": "31b550d6a46ae4f8ede88788799ac2b9",
     "grade": true,
     "grade_id": "cell-60f6ec5052712d79",
     "locked": true,
     "points": 5,
     "schema_version": 3,
     "solution": false,
     "task": false
    }
   },
   "outputs": [],
   "source": [
    "#### Please do not change this. This cell is used for grading."
   ]
  },
  {
   "cell_type": "code",
   "execution_count": 52,
   "metadata": {
    "ExecuteTime": {
     "end_time": "2021-02-09T08:10:47.903728Z",
     "start_time": "2021-02-09T08:10:47.900735Z"
    },
    "deletable": false,
    "editable": false,
    "id": "zMyvPilQ4IWk",
    "nbgrader": {
     "cell_type": "code",
     "checksum": "3da2ec16bfe781916e71755d65aa2983",
     "grade": true,
     "grade_id": "cell-5d17524043a5abcc",
     "locked": true,
     "points": 5,
     "schema_version": 3,
     "solution": false,
     "task": false
    }
   },
   "outputs": [],
   "source": [
    "#### Please do not change this. This cell is used for grading."
   ]
  },
  {
   "cell_type": "code",
   "execution_count": 53,
   "metadata": {
    "ExecuteTime": {
     "end_time": "2021-02-09T08:10:47.908714Z",
     "start_time": "2021-02-09T08:10:47.905722Z"
    },
    "deletable": false,
    "editable": false,
    "id": "50XzuKTa4IWk",
    "nbgrader": {
     "cell_type": "code",
     "checksum": "e7b563d54fa84c20909c0ae107010541",
     "grade": true,
     "grade_id": "cell-ff8e704eda1184e3",
     "locked": true,
     "points": 3,
     "schema_version": 3,
     "solution": false,
     "task": false
    }
   },
   "outputs": [],
   "source": [
    "#### Please do not change this. This cell is used for grading."
   ]
  },
  {
   "cell_type": "code",
   "execution_count": 54,
   "metadata": {
    "ExecuteTime": {
     "end_time": "2021-02-09T08:10:47.913701Z",
     "start_time": "2021-02-09T08:10:47.910479Z"
    },
    "deletable": false,
    "editable": false,
    "id": "DYTt6NKh4IWk",
    "nbgrader": {
     "cell_type": "code",
     "checksum": "b013f90974b396630a8831d6f1d7e5f7",
     "grade": true,
     "grade_id": "cell-a52310500a2543cb",
     "locked": true,
     "points": 4,
     "schema_version": 3,
     "solution": false,
     "task": false
    }
   },
   "outputs": [],
   "source": [
    "#### Please do not change this. This cell is used for grading."
   ]
  },
  {
   "cell_type": "markdown",
   "metadata": {
    "deletable": false,
    "editable": false,
    "id": "bD5EZ9eN4IWl",
    "nbgrader": {
     "cell_type": "markdown",
     "checksum": "8fcf67cb7d5e8b26cb9bf1f0aa42c847",
     "grade": false,
     "grade_id": "cell-8b2b412c81d62f2d",
     "locked": true,
     "schema_version": 3,
     "solution": false,
     "task": false
    }
   },
   "source": [
    "\n",
    "---\n",
    "\n",
    "### 3.5. Test Your Functions\n",
    "\n",
    "The widget below allows you to play with the search functions you've written so far. Use this to test your search functions and ensure that they work as expected."
   ]
  },
  {
   "cell_type": "code",
   "execution_count": 55,
   "metadata": {
    "ExecuteTime": {
     "end_time": "2021-02-09T08:10:47.923674Z",
     "start_time": "2021-02-09T08:10:47.914698Z"
    },
    "deletable": false,
    "editable": false,
    "id": "mIWUmEd14IWl",
    "nbgrader": {
     "cell_type": "code",
     "checksum": "dfeb204b390acc0794dbdcac92b0cf2c",
     "grade": false,
     "grade_id": "cell-c9c2bb76354e8d97",
     "locked": true,
     "schema_version": 3,
     "solution": false,
     "task": false
    }
   },
   "outputs": [],
   "source": [
    "#### Highlighter function\n",
    "# class for results\n",
    "ResultRow = namedtuple(\"ResultRow\", [\"doc_id\", \"snippet\", \"score\"])\n",
    "# doc_id -> doc\n",
    "docs_by_id = dict((d[0], d[1]) for d in docs)\n",
    "\n",
    "def highlight_text(document, query, tol=17):\n",
    "    import re\n",
    "    tokens = tokenize(query)\n",
    "    regex = \"|\".join(f\"(\\\\b{t}\\\\b)\" for t in tokens)\n",
    "    regex = re.compile(regex, flags=re.IGNORECASE)\n",
    "    output = \"\"\n",
    "    i = 0\n",
    "    for m in regex.finditer(document):\n",
    "        start_idx = max(0, m.start() - tol)\n",
    "        end_idx = min(len(document), m.end() + tol)\n",
    "        output += \"\".join([\"...\",\n",
    "                        document[start_idx:m.start()],\n",
    "                        \"<strong>\",\n",
    "                        document[m.start():m.end()],\n",
    "                        \"</strong>\",\n",
    "                        document[m.end():end_idx],\n",
    "                        \"...\"])\n",
    "    return output.replace(\"\\n\", \" \")\n",
    "\n",
    "\n",
    "def make_results(query, search_fn, index_set):\n",
    "    results = []\n",
    "    for doc_id, score in search_fn(query, index_set):\n",
    "        highlight = highlight_text(docs_by_id[doc_id], query)\n",
    "        if len(highlight.strip()) == 0:\n",
    "            highlight = docs_by_id[doc_id]\n",
    "        results.append(ResultRow(doc_id, highlight, score))\n",
    "    return results\n",
    "####"
   ]
  },
  {
   "cell_type": "code",
   "execution_count": 56,
   "metadata": {
    "ExecuteTime": {
     "end_time": "2021-02-09T08:10:47.937641Z",
     "start_time": "2021-02-09T08:10:47.925669Z"
    },
    "id": "lLBwC48L4IWl"
   },
   "outputs": [
    {
     "data": {
      "application/vnd.jupyter.widget-view+json": {
       "model_id": "2cb34297b2ee45f8915a73c998c9f1ce",
       "version_major": 2,
       "version_minor": 0
      },
      "text/plain": [
       "Text(value='', description='Search Bar')"
      ]
     },
     "metadata": {},
     "output_type": "display_data"
    }
   ],
   "source": [
    "# TODO: Set this to the function you want to test!\n",
    "# this function should take in a query (string)\n",
    "# and return a sorted list of (doc_id, score) \n",
    "# with the most relevant document in the first position\n",
    "search_fn = bm25_search\n",
    "index_set = 1\n",
    "\n",
    "text = widgets.Text(description=\"Search Bar\", width=200)\n",
    "display(text)\n",
    "\n",
    "def handle_submit(sender):\n",
    "    print(f\"Searching for: '{sender.value}'\")\n",
    "    \n",
    "    results = make_results(sender.value, search_fn, index_set)\n",
    "    \n",
    "    # display only the top 5\n",
    "    results = results[:5]\n",
    "    \n",
    "    body = \"\"\n",
    "    for idx, r in enumerate(results):\n",
    "        body += f\"<li>Document #{r.doc_id}({r.score}): {r.snippet}</li>\"\n",
    "    display(HTML(f\"<ul>{body}</ul>\"))\n",
    "    \n",
    "\n",
    "text.on_submit(handle_submit)"
   ]
  },
  {
   "cell_type": "markdown",
   "metadata": {
    "deletable": false,
    "editable": false,
    "id": "V_eNBPNC4IWl",
    "nbgrader": {
     "cell_type": "markdown",
     "checksum": "b315c280048a50e8bad7d6250f6f39d1",
     "grade": false,
     "grade_id": "cell-8d46fe8e4f3d8cdb",
     "locked": true,
     "schema_version": 3,
     "solution": false,
     "task": false
    }
   },
   "source": [
    "---\n",
    "\n",
    "## Section 4: Evaluation (40 points) <a class=\"anchor\" id=\"evaluation\"></a>\n",
    "\n",
    "[Back to Part 1](#part1)\n",
    "\n",
    "Before we jump in and implement an algorithm for retrieval, we first have to learn how to evaluate such a system. In particular, we will work with offline evaluation metrics. These metrics are computed on a dataset with known relevance judgements.\n",
    "\n",
    "Implement the following evaluation metrics. \n",
    "\n",
    "1. Precision (7 points)\n",
    "2. Recall (7 points)\n",
    "3. Mean Average Precision (12 points)\n",
    "4. Expected Reciprocal Rank (12 points)"
   ]
  },
  {
   "cell_type": "markdown",
   "metadata": {
    "deletable": false,
    "editable": false,
    "id": "gLVYII234IWl",
    "nbgrader": {
     "cell_type": "markdown",
     "checksum": "82e90076c51893e31fec5c40c49d1828",
     "grade": false,
     "grade_id": "cell-3419fd3bc663d7cc",
     "locked": true,
     "schema_version": 3,
     "solution": false,
     "task": false
    }
   },
   "source": [
    "---\n",
    "### 4.1 Read relevance labels (2 points)\n",
    "\n",
    "Let's take a look at the `qrels.text` file, which contains the ground truth relevance scores. The relevance labels for CACM are binary - either 0 or 1. \n"
   ]
  },
  {
   "cell_type": "code",
   "execution_count": 57,
   "metadata": {
    "ExecuteTime": {
     "end_time": "2021-02-09T08:10:47.978965Z",
     "start_time": "2021-02-09T08:10:47.939635Z"
    },
    "deletable": false,
    "editable": false,
    "id": "dD-BtESw4IWl",
    "nbgrader": {
     "cell_type": "code",
     "checksum": "6c11025f5a222796f2882c73c1634799",
     "grade": false,
     "grade_id": "cell-6b738366059dde9e",
     "locked": true,
     "schema_version": 3,
     "solution": false,
     "task": false
    }
   },
   "outputs": [],
   "source": [
    "!head ./datasets/qrels.text"
   ]
  },
  {
   "cell_type": "markdown",
   "metadata": {
    "deletable": false,
    "editable": false,
    "id": "O1d_Ru854IWm",
    "nbgrader": {
     "cell_type": "markdown",
     "checksum": "e77d7cc6aae69fdbadb5ac9f78f8a560",
     "grade": false,
     "grade_id": "cell-10e16bff2753ffbb",
     "locked": true,
     "schema_version": 3,
     "solution": false,
     "task": false
    }
   },
   "source": [
    "---\n",
    "**Implementation (2 points):**\n",
    "The first column is the query_id and the second column is the document_id. You can safely ignore the 3rd and 4th columns. Write a function to read in the file:"
   ]
  },
  {
   "cell_type": "code",
   "execution_count": 58,
   "metadata": {
    "ExecuteTime": {
     "end_time": "2021-02-09T08:10:47.984926Z",
     "start_time": "2021-02-09T08:10:47.979945Z"
    },
    "deletable": false,
    "id": "gaPgBW-q4IWm",
    "nbgrader": {
     "cell_type": "code",
     "checksum": "ef347565a0990ddbd049835105753d59",
     "grade": false,
     "grade_id": "cell-ee5253a4ef602fce",
     "locked": false,
     "schema_version": 3,
     "solution": true,
     "task": false
    }
   },
   "outputs": [],
   "source": [
    "# TODO: Implement this! (2 points)\n",
    "def read_qrels(root_folder = \"./datasets/\"):\n",
    "    \"\"\"\n",
    "        Reads the qrels.text file. \n",
    "        Output: A dictionary: query_id -> [list of relevant documents]\n",
    "    \"\"\"\n",
    "    # YOUR CODE HERE\n",
    "    qrels_dict = {}\n",
    "    with open(root_folder + 'qrels.text') as f:\n",
    "        for line in f:\n",
    "            line_split = line.split(' ')\n",
    "            q_id = str(int(line_split[0]))\n",
    "            doc_id = line_split[1]\n",
    "            if q_id in qrels_dict:\n",
    "                qrels_dict[q_id].append(doc_id)\n",
    "            else:\n",
    "                qrels_dict[q_id] = [doc_id]\n",
    "        \n",
    "    return qrels_dict"
   ]
  },
  {
   "cell_type": "code",
   "execution_count": 59,
   "metadata": {
    "ExecuteTime": {
     "end_time": "2021-02-09T08:10:47.990609Z",
     "start_time": "2021-02-09T08:10:47.985923Z"
    },
    "deletable": false,
    "editable": false,
    "id": "42HAaoxI4IWm",
    "nbgrader": {
     "cell_type": "code",
     "checksum": "6a258a834392cc8cbf8af5d4ccdee81f",
     "grade": true,
     "grade_id": "cell-72215605fbe24f65",
     "locked": true,
     "points": 2,
     "schema_version": 3,
     "solution": false,
     "task": false
    }
   },
   "outputs": [],
   "source": [
    "#### Function check\n",
    "qrels = read_qrels()\n",
    "\n",
    "assert len(qrels) == 52, \"There should be 52 queries with relevance judgements\"\n",
    "assert sum(len(j) for j in qrels.values()) == 796, \"There should be a total of 796 Relevance Judgements\"\n",
    "####"
   ]
  },
  {
   "cell_type": "markdown",
   "metadata": {
    "deletable": false,
    "editable": false,
    "id": "XSWVVWzl4IWm",
    "nbgrader": {
     "cell_type": "markdown",
     "checksum": "6c9e7428a52e291a2cdf92a379730d4c",
     "grade": false,
     "grade_id": "cell-176a6fb2939d0420",
     "locked": true,
     "schema_version": 3,
     "solution": false,
     "task": false
    }
   },
   "source": [
    "---\n",
    "**Note:** For a given query `query_id`, you can assume that documents *not* in `qrels[query_id]` are not relevant to `query_id`. \n"
   ]
  },
  {
   "cell_type": "markdown",
   "metadata": {
    "deletable": false,
    "editable": false,
    "id": "Ad2E1OAb4IWm",
    "nbgrader": {
     "cell_type": "markdown",
     "checksum": "b26a818c7b4f7ad490e00b35ea0edd69",
     "grade": false,
     "grade_id": "cell-bd8341b72cdd89bb",
     "locked": true,
     "schema_version": 3,
     "solution": false,
     "task": false
    }
   },
   "source": [
    "---\n",
    "### 4.2 Precision (7 points)\n",
    "Implement the `precision@k` metric:"
   ]
  },
  {
   "cell_type": "code",
   "execution_count": 60,
   "metadata": {
    "ExecuteTime": {
     "end_time": "2021-02-09T08:10:47.995593Z",
     "start_time": "2021-02-09T08:10:47.991603Z"
    },
    "deletable": false,
    "id": "itsA-mo54IWm",
    "nbgrader": {
     "cell_type": "code",
     "checksum": "ad3cc3234a361d269ecb6b59cc447e9f",
     "grade": false,
     "grade_id": "cell-494bd0cce108ed67",
     "locked": false,
     "schema_version": 3,
     "solution": true,
     "task": false
    }
   },
   "outputs": [],
   "source": [
    "# TODO: Implement this! (7 points)\n",
    "def precision_k(results, relevant_docs, k):\n",
    "    \"\"\"\n",
    "        Compute Precision@K\n",
    "        Input: \n",
    "            results: A sorted list of 2-tuples (document_id, score), \n",
    "                    with the most relevant document in the first position\n",
    "            relevant_docs: A set of relevant documents. \n",
    "            k: the cut-off\n",
    "        Output: Precision@K\n",
    "    \"\"\"\n",
    "    # YOUR CODE HERE\n",
    "    \n",
    "    relevant_doc_set = set(relevant_docs)\n",
    "    results_doc_set = {k for k, v in results[:k]}\n",
    "\n",
    "    numerator = len(relevant_doc_set.intersection(results_doc_set))\n",
    "    denomerator = len(results_doc_set)\n",
    "    \n",
    "    precision = numerator / denomerator\n",
    "\n",
    "    return precision\n"
   ]
  },
  {
   "cell_type": "code",
   "execution_count": 61,
   "metadata": {
    "ExecuteTime": {
     "end_time": "2021-02-09T08:10:48.010560Z",
     "start_time": "2021-02-09T08:10:47.996591Z"
    },
    "deletable": false,
    "editable": false,
    "id": "QnBXQiHM4IWm",
    "nbgrader": {
     "cell_type": "code",
     "checksum": "964b214dbfff8fc53cada864019ee863",
     "grade": true,
     "grade_id": "cell-e7ff0d91c319ca64",
     "locked": true,
     "points": 7,
     "schema_version": 3,
     "solution": false,
     "task": false
    }
   },
   "outputs": [
    {
     "name": "stdout",
     "output_type": "stream",
     "text": [
      "query: What articles exist which deal with TSS (Time Sharing System), an\n",
      "operating system for IBM computers?\n",
      "\n",
      "precision@10 = 0.2\n"
     ]
    }
   ],
   "source": [
    "#### Function check\n",
    "qid = queries[0][0]\n",
    "qtext = queries[0][1]\n",
    "print(f'query:{qtext}')\n",
    "results = bm25_search(qtext, 2)\n",
    "precision = precision_k(results, qrels[qid], 10)\n",
    "print(f'precision@10 = {precision}')\n",
    "####"
   ]
  },
  {
   "cell_type": "markdown",
   "metadata": {
    "deletable": false,
    "editable": false,
    "id": "rsVw36Qs4IWn",
    "nbgrader": {
     "cell_type": "markdown",
     "checksum": "8fd3b3998197c7097a40348500affb68",
     "grade": false,
     "grade_id": "cell-afd95f865bc7191e",
     "locked": true,
     "schema_version": 3,
     "solution": false,
     "task": false
    }
   },
   "source": [
    "---\n",
    "### 4.3 Recall (7 points)\n",
    "Implement the `recall@k` metric:"
   ]
  },
  {
   "cell_type": "code",
   "execution_count": 62,
   "metadata": {
    "ExecuteTime": {
     "end_time": "2021-02-09T08:10:48.015543Z",
     "start_time": "2021-02-09T08:10:48.011554Z"
    },
    "deletable": false,
    "id": "5MCAhvPt4IWn",
    "nbgrader": {
     "cell_type": "code",
     "checksum": "b2020e5741ae03b3fe35817ed8f4ccaa",
     "grade": false,
     "grade_id": "cell-c323fc8c3f8a7cf8",
     "locked": false,
     "schema_version": 3,
     "solution": true,
     "task": false
    }
   },
   "outputs": [],
   "source": [
    "# TODO: Implement this! (7 points)\n",
    "def recall_k(results, relevant_docs, k):\n",
    "    \"\"\"\n",
    "        Compute Recall@K\n",
    "        Input: \n",
    "            results: A sorted list of 2-tuples (document_id, score), with the most relevant document in the first position\n",
    "            relevant_docs: A set of relevant documents. \n",
    "            k: the cut-off\n",
    "        Output: Recall@K\n",
    "    \"\"\"\n",
    "    # YOUR CODE HERE\n",
    "    relevant_doc_set = set(relevant_docs)\n",
    "    results_doc_set = {k for k, v in results[:k]}\n",
    "\n",
    "    numerator = len(relevant_doc_set.intersection(results_doc_set))\n",
    "    denomerator = len(relevant_doc_set)\n",
    "    \n",
    "    recall = numerator / denomerator\n",
    "\n",
    "    return recall\n"
   ]
  },
  {
   "cell_type": "code",
   "execution_count": 63,
   "metadata": {
    "ExecuteTime": {
     "end_time": "2021-02-09T08:10:48.023834Z",
     "start_time": "2021-02-09T08:10:48.016541Z"
    },
    "deletable": false,
    "editable": false,
    "id": "oJrL_tLY4IWn",
    "nbgrader": {
     "cell_type": "code",
     "checksum": "56b6e0b8522f8b2dffbfb3206b2efa84",
     "grade": true,
     "grade_id": "cell-b25172161aef165c",
     "locked": true,
     "points": 7,
     "schema_version": 3,
     "solution": false,
     "task": false
    }
   },
   "outputs": [
    {
     "name": "stdout",
     "output_type": "stream",
     "text": [
      "query: SETL, Very High Level Languages\n",
      "\n",
      "recall@10 = 0.3157894736842105\n"
     ]
    }
   ],
   "source": [
    "#### Function check\n",
    "qid = queries[10][0]\n",
    "qtext = queries[10][1]\n",
    "print(f'query:{qtext}')\n",
    "results = bm25_search(qtext, 2)\n",
    "recall = recall_k(results, qrels[qid], 10)\n",
    "print(f'recall@10 = {recall}')\n",
    "####"
   ]
  },
  {
   "cell_type": "markdown",
   "metadata": {
    "deletable": false,
    "editable": false,
    "id": "O6zOyivS4IWn",
    "nbgrader": {
     "cell_type": "markdown",
     "checksum": "d43c63fa38f333e0b52d41639b2655f7",
     "grade": false,
     "grade_id": "cell-77fd2e7a39a74739",
     "locked": true,
     "schema_version": 3,
     "solution": false,
     "task": false
    }
   },
   "source": [
    "---\n",
    "### 4.4 Mean Average Precision (12 points)\n",
    "Implement the `map` metric:"
   ]
  },
  {
   "cell_type": "code",
   "execution_count": 64,
   "metadata": {
    "ExecuteTime": {
     "end_time": "2021-02-09T08:41:24.256649Z",
     "start_time": "2021-02-09T08:41:24.249768Z"
    },
    "deletable": false,
    "id": "NtBBAX-34IWn",
    "nbgrader": {
     "cell_type": "code",
     "checksum": "aae2c62f2ffd76f5b6c004e9519b9f14",
     "grade": false,
     "grade_id": "cell-e50925fa9093a30d",
     "locked": false,
     "schema_version": 3,
     "solution": true,
     "task": false
    }
   },
   "outputs": [],
   "source": [
    "# TODO: Implement this! (12 points)\n",
    "def average_precision(results, relevant_docs):\n",
    "    \"\"\"\n",
    "        Compute Average Precision (for a single query - the results are \n",
    "        averaged across queries to get MAP in the next few cells)\n",
    "        Hint: You can use the recall_k and precision_k functions here!\n",
    "        Input: \n",
    "            results: A sorted list of 2-tuples (document_id, score), with the most \n",
    "                    relevant document in the first position\n",
    "            relevant_docs: A set of relevant documents. \n",
    "        Output: Average Precision\n",
    "    \"\"\"\n",
    "    # YOUR CODE HERE\n",
    "    precisions = []\n",
    "    relevant_results = []\n",
    "    for i in range(len(results)):\n",
    "        cur_precision = precision_k(results, relevant_docs, i+1)\n",
    "        doc_id, _ = results[i]\n",
    "        if doc_id in relevant_docs:\n",
    "            precisions.append(cur_precision)\n",
    "\n",
    "    return sum(precisions)/len(precisions)\n",
    "\n",
    "    \n",
    "\n",
    "    \n",
    "        \n"
   ]
  },
  {
   "cell_type": "code",
   "execution_count": 65,
   "metadata": {
    "ExecuteTime": {
     "end_time": "2021-02-09T08:41:26.578408Z",
     "start_time": "2021-02-09T08:41:26.287813Z"
    },
    "deletable": false,
    "editable": false,
    "id": "Ij731snQ4IWn",
    "nbgrader": {
     "cell_type": "code",
     "checksum": "5db8cb2dfd3a77554f4147b409f47f38",
     "grade": true,
     "grade_id": "cell-8a1f7ec98571e58b",
     "locked": true,
     "points": 12,
     "schema_version": 3,
     "solution": false,
     "task": false
    },
    "tags": []
   },
   "outputs": [
    {
     "name": "stdout",
     "output_type": "stream",
     "text": [
      "query: computational complexity, intractability, class-complete reductions,\n",
      "algorithms and efficiency\n",
      "\n",
      "MAP = 0.1391321152431886\n"
     ]
    }
   ],
   "source": [
    "#### Function check\n",
    "qid = queries[20][0]\n",
    "qtext = queries[20][1]\n",
    "print(f'query:{qtext}')\n",
    "results = bm25_search(qtext, 2)\n",
    "mean_ap = average_precision(results, qrels[qid])\n",
    "print(f'MAP = {mean_ap}')\n",
    "####"
   ]
  },
  {
   "cell_type": "markdown",
   "metadata": {
    "deletable": false,
    "editable": false,
    "id": "Q38CrFOO4IWo",
    "nbgrader": {
     "cell_type": "markdown",
     "checksum": "cb645b79d04cc3eed33ca060a5e7bf0f",
     "grade": false,
     "grade_id": "cell-1da18f0fe6f6d7be",
     "locked": true,
     "schema_version": 3,
     "solution": false,
     "task": false
    }
   },
   "source": [
    "---\n",
    "### 4.5 Expected Reciprocal Rank (12 points)\n",
    "Implement the `err` metric:"
   ]
  },
  {
   "cell_type": "code",
   "execution_count": 66,
   "metadata": {
    "ExecuteTime": {
     "end_time": "2021-02-09T08:10:48.333152Z",
     "start_time": "2021-02-09T08:10:48.328166Z"
    },
    "deletable": false,
    "id": "Wm7tmYcH4IWo",
    "nbgrader": {
     "cell_type": "code",
     "checksum": "9ac94db728e23ea1f5dc0d509473c6fb",
     "grade": false,
     "grade_id": "cell-64262889f9b267ea",
     "locked": false,
     "schema_version": 3,
     "solution": true,
     "task": false
    }
   },
   "outputs": [],
   "source": [
    "# TODO: Implement this! (12 points)\n",
    "def err(results, relevant_docs):\n",
    "    \"\"\"\n",
    "        Compute the expected reciprocal rank.\n",
    "        Hint: https://dl.acm.org/doi/pdf/10.1145/1645953.1646033?download=true\n",
    "        Input: \n",
    "            results: A sorted list of 2-tuples (document_id, score), with the most \n",
    "                    relevant document in the first position\n",
    "            relevant_docs: A set of relevant documents. \n",
    "        Output: ERR\n",
    "        \n",
    "    \"\"\"\n",
    "    # The relevance grade is binary, so when a document is irrelevant, we get (2^0-1)/2 = 0\n",
    "    # For a relevant document, this is (2^1-1)/2 = 0.5, hence the R of 0 or 0.5.\n",
    "    p, ERR = 1, 0\n",
    "    nr_docs = len(results)\n",
    "    for r in range(nr_docs):\n",
    "        cur_doc = results[r][0]\n",
    "        if cur_doc in relevant_docs:\n",
    "            R = 0.5\n",
    "        else:\n",
    "            R = 0\n",
    "        ERR += p * R/(r + 1)\n",
    "        p *= (1-R)\n",
    "    \n",
    "    return ERR"
   ]
  },
  {
   "cell_type": "code",
   "execution_count": 67,
   "metadata": {
    "ExecuteTime": {
     "end_time": "2021-02-09T08:10:48.707678Z",
     "start_time": "2021-02-09T08:10:48.338139Z"
    },
    "deletable": false,
    "editable": false,
    "id": "xD69_bIF4IWo",
    "nbgrader": {
     "cell_type": "code",
     "checksum": "eb97e6d89a0b992b642e4e0ff36ff9f5",
     "grade": true,
     "grade_id": "cell-071e3970ff1afae4",
     "locked": true,
     "points": 12,
     "schema_version": 3,
     "solution": false,
     "task": false
    }
   },
   "outputs": [
    {
     "name": "stdout",
     "output_type": "stream",
     "text": [
      "query: I'd like to find articles describing the use of singular value decomposition\n",
      "in digital image processing.  Applications include finding approximations\n",
      "to the original image and restoring images that are subject to noise. An\n",
      "article on the subject is H.C. Andrews and C.L. Patterson \"Outer product\n",
      "expansions and their uses in digital image processing\", American Mathematical\n",
      "Monthly, vol. 82.\n",
      ".A\n",
      "Andrews, H.C.\n",
      "Patterson, C.L.\n",
      "\n",
      "ERR = 0.3333333333333333\n"
     ]
    }
   ],
   "source": [
    "#### Function check\n",
    "qid = queries[30][0]\n",
    "qtext = queries[30][1]\n",
    "print(f'query:{qtext}')\n",
    "results = bm25_search(qtext, 2)\n",
    "ERR = err(results, qrels[qid])\n",
    "print(f'ERR = {ERR}')\n",
    "####"
   ]
  },
  {
   "cell_type": "markdown",
   "metadata": {
    "deletable": false,
    "editable": false,
    "id": "Gh1iz9Ht4IWo",
    "nbgrader": {
     "cell_type": "markdown",
     "checksum": "5bd94caf77cfa5f34675df758d91002d",
     "grade": false,
     "grade_id": "cell-43709a765f353946",
     "locked": true,
     "schema_version": 3,
     "solution": false,
     "task": false
    }
   },
   "source": [
    "---\n",
    "### 4.6 Evaluate Search Functions\n",
    "\n",
    "Let's define some metrics@k using [partial functions](https://docs.python.org/3/library/functools.html#functools.partial)"
   ]
  },
  {
   "cell_type": "code",
   "execution_count": 68,
   "metadata": {
    "ExecuteTime": {
     "end_time": "2021-02-09T08:11:06.822336Z",
     "start_time": "2021-02-09T08:11:06.815355Z"
    },
    "deletable": false,
    "editable": false,
    "id": "Z-lVjRDV4IWo",
    "nbgrader": {
     "cell_type": "code",
     "checksum": "49ccc158e5fb7340ace55e90eeb9d62a",
     "grade": false,
     "grade_id": "cell-dab560e18e340da8",
     "locked": true,
     "schema_version": 3,
     "solution": false,
     "task": false
    }
   },
   "outputs": [],
   "source": [
    "#### metrics@k functions\n",
    "\n",
    "recall_at_1 = partial(recall_k, k=1)\n",
    "recall_at_5 = partial(recall_k, k=5)\n",
    "recall_at_10 = partial(recall_k, k=10)\n",
    "precision_at_1 = partial(precision_k, k=1)\n",
    "precision_at_5 = partial(precision_k, k=5)\n",
    "precision_at_10 = partial(precision_k, k=10)\n",
    "\n",
    "\n",
    "list_of_metrics = [\n",
    "    (\"ERR\", err),\n",
    "    (\"MAP\", average_precision),\n",
    "    (\"Recall@1\",recall_at_1),\n",
    "    (\"Recall@5\", recall_at_5),\n",
    "    (\"Recall@10\", recall_at_10),\n",
    "    (\"Precision@1\", precision_at_1),\n",
    "    (\"Precision@5\", precision_at_5),\n",
    "    (\"Precision@10\", precision_at_10)]\n",
    "####"
   ]
  },
  {
   "cell_type": "markdown",
   "metadata": {
    "deletable": false,
    "editable": false,
    "id": "tkpES_rl4IWo",
    "nbgrader": {
     "cell_type": "markdown",
     "checksum": "fb541002c03221b453b8936290020ea5",
     "grade": false,
     "grade_id": "cell-580a2bdc66d03b47",
     "locked": true,
     "schema_version": 3,
     "solution": false,
     "task": false
    }
   },
   "source": [
    "---\n",
    "\n",
    "The following function evaluates a `search_fn` using the `metric_fn`. Note that the final number is averaged over all the queries"
   ]
  },
  {
   "cell_type": "code",
   "execution_count": 69,
   "metadata": {
    "ExecuteTime": {
     "end_time": "2021-02-09T08:51:39.263565Z",
     "start_time": "2021-02-09T08:51:39.251635Z"
    },
    "id": "SGKA8Ci54IWo"
   },
   "outputs": [],
   "source": [
    "#### Evaluate a search function\n",
    "\n",
    "list_of_search_fns = [\n",
    "    (\"BOW\", bow_search),\n",
    "    (\"TF-IDF\", tfidf_search),\n",
    "    (\"NaiveQL\", naive_ql_search),\n",
    "    (\"QL\", ql_search),\n",
    "    (\"BM25\", bm25_search)\n",
    "]\n",
    "\n",
    "def evaluate_search_fn(search_fn, metric_fns, index_set=None):\n",
    "    # build a dict query_id -> query \n",
    "    queries_by_id = dict((q[0], q[1]) for q in queries)\n",
    "    metrics = {}\n",
    "    for metric, metric_fn in metric_fns:\n",
    "        metrics[metric] = np.zeros(len(qrels), dtype=np.float32)\n",
    "    \n",
    "    for i, (query_id, relevant_docs) in enumerate(qrels.items()):\n",
    "        query = queries_by_id[query_id]\n",
    "        if index_set:\n",
    "            results = search_fn(query, index_set)\n",
    "        else:\n",
    "            results = search_fn(query)\n",
    "        \n",
    "        for metric, metric_fn in metric_fns:\n",
    "            metrics[metric][i] = metric_fn(results, relevant_docs)\n",
    "\n",
    "    \n",
    "    \n",
    "    final_dict = {}\n",
    "    for metric, metric_vals in metrics.items():\n",
    "        final_dict[metric] = metric_vals.mean()\n",
    "    \n",
    "    return final_dict\n",
    "####"
   ]
  },
  {
   "cell_type": "markdown",
   "metadata": {
    "deletable": false,
    "editable": false,
    "id": "b54ANEqK4IWp",
    "nbgrader": {
     "cell_type": "markdown",
     "checksum": "6ea67534f74a8f81e1f504794f641709",
     "grade": false,
     "grade_id": "cell-b156d83a0649cbb4",
     "locked": true,
     "schema_version": 3,
     "solution": false,
     "task": false
    }
   },
   "source": [
    "## Section 5: Analysis (30 points) <a class=\"anchor\" id=\"analysis\"></a>\n",
    "\n",
    "[Back to Part 1](#part1)\n",
    "\n",
    "In the final section of Part1, we will compare the different term-based IR algorithms and different preprocessing configurations and analyze their advantages and disadvantages.\n",
    "\n",
    "### Section 5.1: Plot (20 points)\n",
    "\n",
    "First, gather the results. The results should consider the index set, the different search functions and different metrics. Plot the results in bar charts, per metric, with clear labels.\n",
    "\n",
    "**Rubric:**\n",
    "- Each Metric is plotted: 7 points\n",
    "- Each Method is plotted: 7 points\n",
    "- Clear titles, x label, y labels and legends (if applicable): 6 points"
   ]
  },
  {
   "cell_type": "code",
   "execution_count": 74,
   "metadata": {
    "ExecuteTime": {
     "end_time": "2021-02-09T09:01:18.987055Z",
     "start_time": "2021-02-09T08:59:50.716185Z"
    },
    "deletable": false,
    "id": "YcKLzbIQ4IWp",
    "nbgrader": {
     "cell_type": "code",
     "checksum": "7e2588a925d13ddf588abe8311dc9cfc",
     "grade": true,
     "grade_id": "cell-46fda42a25863a04",
     "locked": false,
     "points": 20,
     "schema_version": 3,
     "solution": true,
     "task": false
    },
    "scrolled": true
   },
   "outputs": [
    {
     "name": "stdout",
     "output_type": "stream",
     "text": [
      "BOW\n",
      "{'ERR': 0.05440761, 'MAP': 0.033994578, 'Recall@1': 0.0027097901, 'Recall@5': 0.012897039, 'Recall@10': 0.039613284, 'Precision@1': 0.03846154, 'Precision@5': 0.03076923, 'Precision@10': 0.028846154}\n"
     ]
    },
    {
     "data": {
      "image/png": "[encoded data removed]",
      "text/plain": [
       "<Figure size 432x288 with 1 Axes>"
      ]
     },
     "metadata": {
      "needs_background": "light"
     },
     "output_type": "display_data"
    },
    {
     "name": "stdout",
     "output_type": "stream",
     "text": [
      "TF-IDF\n"
     ]
    },
    {
     "ename": "ZeroDivisionError",
     "evalue": "division by zero",
     "output_type": "error",
     "traceback": [
      "\u001b[1;31m---------------------------------------------------------------------------\u001b[0m",
      "\u001b[1;31mZeroDivisionError\u001b[0m                         Traceback (most recent call last)",
      "\u001b[1;32m<ipython-input-74-edabdab7e520>\u001b[0m in \u001b[0;36m<module>\u001b[1;34m\u001b[0m\n\u001b[0;32m     11\u001b[0m         \u001b[0mprint\u001b[0m\u001b[1;33m(\u001b[0m\u001b[0mname_search\u001b[0m\u001b[1;33m)\u001b[0m\u001b[1;33m\u001b[0m\u001b[1;33m\u001b[0m\u001b[0m\n\u001b[0;32m     12\u001b[0m         \u001b[1;31m#we need the first dictionary separet to get the list of keys\u001b[0m\u001b[1;33m\u001b[0m\u001b[1;33m\u001b[0m\u001b[1;33m\u001b[0m\u001b[0m\n\u001b[1;32m---> 13\u001b[1;33m         \u001b[0mscore_1_dict\u001b[0m \u001b[1;33m=\u001b[0m \u001b[0mevaluate_search_fn\u001b[0m\u001b[1;33m(\u001b[0m\u001b[0msearch_fn\u001b[0m\u001b[1;33m,\u001b[0m\u001b[0mlist_of_metrics\u001b[0m\u001b[1;33m,\u001b[0m\u001b[1;36m1\u001b[0m\u001b[1;33m)\u001b[0m\u001b[1;33m\u001b[0m\u001b[1;33m\u001b[0m\u001b[0m\n\u001b[0m\u001b[0;32m     14\u001b[0m         \u001b[0mprint\u001b[0m\u001b[1;33m(\u001b[0m\u001b[0mscore_1_dict\u001b[0m\u001b[1;33m)\u001b[0m\u001b[1;33m\u001b[0m\u001b[1;33m\u001b[0m\u001b[0m\n\u001b[0;32m     15\u001b[0m         \u001b[0mdict_keys\u001b[0m \u001b[1;33m=\u001b[0m \u001b[0mscore_1_dict\u001b[0m\u001b[1;33m.\u001b[0m\u001b[0mkeys\u001b[0m\u001b[1;33m(\u001b[0m\u001b[1;33m)\u001b[0m\u001b[1;33m\u001b[0m\u001b[1;33m\u001b[0m\u001b[0m\n",
      "\u001b[1;32m<ipython-input-69-bdf9118cd741>\u001b[0m in \u001b[0;36mevaluate_search_fn\u001b[1;34m(search_fn, metric_fns, index_set)\u001b[0m\n\u001b[0;32m     24\u001b[0m \u001b[1;33m\u001b[0m\u001b[0m\n\u001b[0;32m     25\u001b[0m         \u001b[1;32mfor\u001b[0m \u001b[0mmetric\u001b[0m\u001b[1;33m,\u001b[0m \u001b[0mmetric_fn\u001b[0m \u001b[1;32min\u001b[0m \u001b[0mmetric_fns\u001b[0m\u001b[1;33m:\u001b[0m\u001b[1;33m\u001b[0m\u001b[1;33m\u001b[0m\u001b[0m\n\u001b[1;32m---> 26\u001b[1;33m             \u001b[0mmetrics\u001b[0m\u001b[1;33m[\u001b[0m\u001b[0mmetric\u001b[0m\u001b[1;33m]\u001b[0m\u001b[1;33m[\u001b[0m\u001b[0mi\u001b[0m\u001b[1;33m]\u001b[0m \u001b[1;33m=\u001b[0m \u001b[0mmetric_fn\u001b[0m\u001b[1;33m(\u001b[0m\u001b[0mresults\u001b[0m\u001b[1;33m,\u001b[0m \u001b[0mrelevant_docs\u001b[0m\u001b[1;33m)\u001b[0m\u001b[1;33m\u001b[0m\u001b[1;33m\u001b[0m\u001b[0m\n\u001b[0m\u001b[0;32m     27\u001b[0m \u001b[1;33m\u001b[0m\u001b[0m\n\u001b[0;32m     28\u001b[0m \u001b[1;33m\u001b[0m\u001b[0m\n",
      "\u001b[1;32m<ipython-input-64-d683d554892d>\u001b[0m in \u001b[0;36maverage_precision\u001b[1;34m(results, relevant_docs)\u001b[0m\n\u001b[0;32m     20\u001b[0m             \u001b[0mprecisions\u001b[0m\u001b[1;33m.\u001b[0m\u001b[0mappend\u001b[0m\u001b[1;33m(\u001b[0m\u001b[0mcur_precision\u001b[0m\u001b[1;33m)\u001b[0m\u001b[1;33m\u001b[0m\u001b[1;33m\u001b[0m\u001b[0m\n\u001b[0;32m     21\u001b[0m \u001b[1;33m\u001b[0m\u001b[0m\n\u001b[1;32m---> 22\u001b[1;33m     \u001b[1;32mreturn\u001b[0m \u001b[0msum\u001b[0m\u001b[1;33m(\u001b[0m\u001b[0mprecisions\u001b[0m\u001b[1;33m)\u001b[0m\u001b[1;33m/\u001b[0m\u001b[0mlen\u001b[0m\u001b[1;33m(\u001b[0m\u001b[0mprecisions\u001b[0m\u001b[1;33m)\u001b[0m\u001b[1;33m\u001b[0m\u001b[1;33m\u001b[0m\u001b[0m\n\u001b[0m\u001b[0;32m     23\u001b[0m \u001b[1;33m\u001b[0m\u001b[0m\n\u001b[0;32m     24\u001b[0m \u001b[1;33m\u001b[0m\u001b[0m\n",
      "\u001b[1;31mZeroDivisionError\u001b[0m: division by zero"
     ]
    }
   ],
   "source": [
    "# YOUR CODE HERE\n",
    "list_of_search_fns = [\n",
    "    (\"BOW\", bow_search),\n",
    "    (\"TF-IDF\", tfidf_search),\n",
    "    (\"NaiveQL\", naive_ql_search),\n",
    "    (\"QL\", ql_search),\n",
    "    (\"BM25\", bm25_search)\n",
    "]\n",
    "n_groups = len(list_of_metrics)\n",
    "for (name_search,search_fn) in list_of_search_fns:\n",
    "        #we need the first dictionary separet to get the list of keys\n",
    "        score_1_dict = evaluate_search_fn(search_fn,list_of_metrics,1)\n",
    "        print(score_1_dict)\n",
    "        dict_keys = score_1_dict.keys()\n",
    "        score_1 = list(score_1_dict.values())\n",
    "        score_2 = list(evaluate_search_fn(search_fn,list_of_metrics,2).values())\n",
    "        # create plot\n",
    "        fig, ax = plt.subplots()\n",
    "        index = np.arange(n_groups)\n",
    "        bar_width = 0.35\n",
    "        opacity = 0.8\n",
    "\n",
    "        rects1 = plt.bar(index, score_1, bar_width,\n",
    "        alpha=opacity,\n",
    "        color='b',\n",
    "        label='Index set = 1')\n",
    "\n",
    "        rects2 = plt.bar(index + bar_width, score_2, bar_width,\n",
    "        alpha=opacity,\n",
    "        color='g',\n",
    "        label='Index set = 2')\n",
    "\n",
    "        plt.xlabel('Metrics')\n",
    "        plt.ylabel('Results')\n",
    "        plt.title('Results using ' + name_search + ' function!')\n",
    "        plt.xticks(index + bar_width, dict_keys )\n",
    "        plt.legend()\n",
    "\n",
    "        plt.tight_layout()\n",
    "        plt.xticks(rotation=45)\n",
    "        plt.show()"
   ]
  },
  {
   "cell_type": "markdown",
   "metadata": {
    "deletable": false,
    "editable": false,
    "id": "lZ3SttfV4IWp",
    "nbgrader": {
     "cell_type": "markdown",
     "checksum": "e88c444a0acf4e398c65e289169b75f7",
     "grade": false,
     "grade_id": "cell-8aabe3bcf265deb0",
     "locked": true,
     "points": 10,
     "schema_version": 3,
     "solution": false,
     "task": true
    }
   },
   "source": [
    "---\n",
    "### Section 5.2: Summary (10 points)\n",
    "Write a summary of what you observe in the results.\n",
    "Your summary should compare results across the 2 indices and the methods being used. State what you expected to see in the results, followed by either supporting evidence *or* justify why the results did not support your expectations.      "
   ]
  },
  {
   "cell_type": "markdown",
   "metadata": {
    "id": "iD_gTGV84IWp"
   },
   "source": [
    "Write your answer here!"
   ]
  },
  {
   "cell_type": "markdown",
   "metadata": {
    "deletable": false,
    "editable": false,
    "id": "GB_eEIJE4IWp",
    "nbgrader": {
     "cell_type": "markdown",
     "checksum": "b3eb77be74eecca205fc7b47316d1627",
     "grade": false,
     "grade_id": "cell-bb60dd5c092d0f2e",
     "locked": true,
     "schema_version": 3,
     "solution": false,
     "task": false
    }
   },
   "source": [
    "---\n",
    "---\n",
    "# Part 2: Semantic-based Matching (85 points) <a class=\"anchor\" id=\"part2\"></a>\n",
    "\n",
    "[Back to top](#top)\n",
    "\n",
    "We will now experiment with methods that go beyond lexical methods like TF-IDF, which operate at the word level and are high dimensional and sparse, and look at methods which constructs low dimensional dense representations of queries and documents. \n",
    "\n",
    "Since these low-dimensional methods have a higher time complexity, they are typically used in conjunction with methods like BM-25. That is, instead of searching through potentially million documents to find matches using low dimensional vectors, a list of K documents are retrieved using BM25, and then **re-ranked** using the other method. This is the method that is going to be applied in the following exercises. \n",
    "\n",
    "LSI/LDA takes documents that are similar on a semantic level - for instance, if they are describing the same topic - and projects them into nearby vectors, despite having low lexical overlap.\n",
    "\n",
    "In this assignment, you will use `gensim` to create LSI/LDA models and use them in re-ranking. \n",
    "\n",
    "**Note**: The following exercises only uses `doc_repr_2` and `config_2`\n",
    "\n",
    "Table of contents:\n",
    "- [Section 6: LSI](#lsi) (15 points)\n",
    "- [Section 7: LDA](#lda) (10 points)\n",
    "- [Section 8: Word2Vec/Doc2Vec](#2vec) (20 points)\n",
    "- [Section 8: Re-ranking](#reranking) (10 points)\n",
    "- [Section 9: Re-ranking Evaluation](#reranking_eval) (30 points)"
   ]
  },
  {
   "cell_type": "markdown",
   "metadata": {
    "deletable": false,
    "editable": false,
    "id": "-hdtSyZZ4IWp",
    "nbgrader": {
     "cell_type": "markdown",
     "checksum": "f7c7b2cab82f576ed0acf836ca57171c",
     "grade": false,
     "grade_id": "cell-6b2c81e7a8abd180",
     "locked": true,
     "schema_version": 3,
     "solution": false,
     "task": false
    }
   },
   "source": [
    "---\n",
    "## Section 6: Latent Semantic Indexing (LSI) (15 points) <a class=\"anchor\" id=\"lsi\"></a>\n",
    "\n",
    "[Back to Part 2](#part2)\n",
    "\n",
    "LSI is one of the methods to embed the queries and documents into vectors. It is based on a method similar to Principal Component Analysis (PCA) for obtaining a dense concept matrix out of the sparse term-document matrix.\n",
    "\n",
    "See [wikipedia](https://en.wikipedia.org/wiki/Latent_semantic_analysis), particularly [#Mathematics_of_LSI](https://en.wikipedia.org/wiki/Latent_semantic_analysis#Mathematics_of_LSI)."
   ]
  },
  {
   "cell_type": "code",
   "execution_count": 79,
   "metadata": {
    "ExecuteTime": {
     "end_time": "2021-02-09T08:10:48.711462Z",
     "start_time": "2021-02-09T08:10:42.655Z"
    },
    "deletable": false,
    "editable": false,
    "id": "Qlqfq_y34IWq",
    "nbgrader": {
     "cell_type": "code",
     "checksum": "c17ee75319cb517e2bf48ec3d9efc329",
     "grade": false,
     "grade_id": "cell-59913daee47f680d",
     "locked": true,
     "schema_version": 3,
     "solution": false,
     "task": false
    }
   },
   "outputs": [],
   "source": [
    "from gensim.corpora import Dictionary\n",
    "from gensim.models import LdaModel, LsiModel, Word2Vec\n",
    "from gensim.models.doc2vec import Doc2Vec, TaggedDocument\n",
    "from gensim import downloader as g_downloader\n",
    "# gensim uses logging, so set it up \n",
    "import logging\n",
    "logging.basicConfig(format='%(asctime)s : %(levelname)s : %(message)s', level=logging.INFO)"
   ]
  },
  {
   "cell_type": "markdown",
   "metadata": {
    "deletable": false,
    "editable": false,
    "id": "KqeQEm1Q4IWq",
    "nbgrader": {
     "cell_type": "markdown",
     "checksum": "5fce140c546759b54a9fc060901ae77c",
     "grade": false,
     "grade_id": "cell-3644faff4976598a",
     "locked": true,
     "schema_version": 3,
     "solution": false,
     "task": false
    }
   },
   "source": [
    "---\n",
    "### Section 6.1: Cosine Similarity (5 points)<a class=\"anchor\" id=\"cosing_sim\"></a>\n",
    "Before we begin, let us first define our method of similarity for the LSI model, the cosine similarity:\n",
    "\n",
    "$$\\text{similarity} = \\cos(\\theta) = {\\mathbf{A} \\cdot \\mathbf{B} \\over \\|\\mathbf{A}\\| \\|\\mathbf{B}\\|} = \\frac{ \\sum\\limits_{i=1}^{n}{A_i  B_i} }{ \\sqrt{\\sum\\limits_{i=1}^{n}{A_i^2}}  \\sqrt{\\sum\\limits_{i=1}^{n}{B_i^2}} }$$\n",
    "\n",
    "Since we are using gensim, the types of vectors returned by their classes are of the form defined below (they are not just simple vectors):"
   ]
  },
  {
   "cell_type": "code",
   "execution_count": 80,
   "metadata": {
    "ExecuteTime": {
     "end_time": "2021-02-09T08:10:48.712459Z",
     "start_time": "2021-02-09T08:10:42.657Z"
    },
    "deletable": false,
    "editable": false,
    "id": "GGCJRThj4IWq",
    "nbgrader": {
     "cell_type": "code",
     "checksum": "4e340e1a1d546f430c018fd0760e707a",
     "grade": false,
     "grade_id": "cell-3995a50f951314d5",
     "locked": true,
     "schema_version": 3,
     "solution": false,
     "task": false
    }
   },
   "outputs": [],
   "source": [
    "# 1, 2, 3 are either latent dimensions (LSI), or topics (LDA)\n",
    "# The second value in each tuple is a number (LSI) or a probability (LDA)  \n",
    "example_vec_1 = [(1, 0.2), (2, 0.3), (3, 0.4)]\n",
    "example_vec_2 = [(1, 0.2), (2, 0.7), (3, 0.4)]"
   ]
  },
  {
   "cell_type": "markdown",
   "metadata": {
    "deletable": false,
    "editable": false,
    "id": "yrXWRnVx4IWq",
    "nbgrader": {
     "cell_type": "markdown",
     "checksum": "20832fd4f579f49ae204b0efee02edd1",
     "grade": false,
     "grade_id": "cell-5e54d581858dc8f7",
     "locked": true,
     "schema_version": 3,
     "solution": false,
     "task": false
    }
   },
   "source": [
    "---\n",
    "**Implementation (2+3 points):**\n",
    "Now, implement the `dot product` operation on these types of vectors and using this operator, implement the `cosine similarity` (don't forget: two functions to implement!):"
   ]
  },
  {
   "cell_type": "code",
   "execution_count": 86,
   "metadata": {
    "ExecuteTime": {
     "end_time": "2021-02-09T08:10:48.713456Z",
     "start_time": "2021-02-09T08:10:42.659Z"
    },
    "deletable": false,
    "id": "OLHTT0Pb4IWq",
    "nbgrader": {
     "cell_type": "code",
     "checksum": "06a712ee75fc213a21c5f0067fd8fe28",
     "grade": false,
     "grade_id": "cell-0e8189f5f93de33f",
     "locked": false,
     "schema_version": 3,
     "solution": true,
     "task": false
    }
   },
   "outputs": [
    {
     "name": "stdout",
     "output_type": "stream",
     "text": [
      "0.9165587597202866\n"
     ]
    }
   ],
   "source": [
    "# TODO: Implement this! (2 points)\n",
    "def dot(vec_1,vec_2): \n",
    "    \"\"\"\n",
    "        vec_1 and vec_2 are of the form: [(int, float), (int, float), ...]\n",
    "        Return the dot product of two such vectors, computed only on the floats\n",
    "        You can assume that the lengths of the vectors are the same, and the dimensions are aligned \n",
    "            i.e you won't get: vec_1 = [(1, 0.2)] ; vec_2 = [(2, 0.3)] \n",
    "                                (dimensions are unaligned and lengths are different)\n",
    "    \"\"\"\n",
    "    # YOUR CODE HERE\n",
    "    dot_product = 0\n",
    "    for i in range(len(vec_1)):\n",
    "        dot_product +=  vec_1[i][1] * vec_2[i][1]\n",
    "    \n",
    "    return dot_product\n",
    "\n",
    "# TODO: Implement this! (3 points)\n",
    "def cosine_sim(vec_1, vec_2):\n",
    "    # YOUR CODE HERE\n",
    "    similarity = 0\n",
    "    res_a = 0\n",
    "    res_b = 0\n",
    "    for i in range(len(vec_1)):\n",
    "        res_a += vec_1[i][1] ** 2\n",
    "        res_b += vec_2[i][1] ** 2\n",
    "    numerator = dot(vec_1,vec_2)\n",
    "    denomerator = math.sqrt(res_a)*math.sqrt(res_b)\n",
    "    similarity = numerator/denomerator\n",
    "    \n",
    "    return similarity\n",
    "\n",
    "    \n",
    "print(cosine_sim(example_vec_1,example_vec_2))"
   ]
  },
  {
   "cell_type": "code",
   "execution_count": null,
   "metadata": {
    "ExecuteTime": {
     "end_time": "2021-02-09T08:10:48.714454Z",
     "start_time": "2021-02-09T08:10:42.661Z"
    },
    "deletable": false,
    "editable": false,
    "id": "opNcoM_E4IWq",
    "nbgrader": {
     "cell_type": "code",
     "checksum": "d22a4a7325ba7815a808390388f534a1",
     "grade": true,
     "grade_id": "cell-b25d04ed6b79fd35",
     "locked": true,
     "points": 2,
     "schema_version": 3,
     "solution": false,
     "task": false
    }
   },
   "outputs": [],
   "source": [
    "##### Function check\n",
    "print(f'vectors: {(example_vec_1,example_vec_2)}')\n",
    "print(f'dot product = {dot(example_vec_1,example_vec_2)}')\n",
    "print(f'cosine similarity = {cosine_sim(example_vec_1,example_vec_2)}')\n",
    "##### "
   ]
  },
  {
   "cell_type": "code",
   "execution_count": null,
   "metadata": {
    "ExecuteTime": {
     "end_time": "2021-02-09T08:10:48.715454Z",
     "start_time": "2021-02-09T08:10:42.663Z"
    },
    "deletable": false,
    "editable": false,
    "id": "fqGAn-Qy4IWr",
    "nbgrader": {
     "cell_type": "code",
     "checksum": "0744131724ce76b1b3f163b4bae5f700",
     "grade": true,
     "grade_id": "cell-ae3c4466866ace77",
     "locked": true,
     "points": 3,
     "schema_version": 3,
     "solution": false,
     "task": false
    }
   },
   "outputs": [],
   "source": [
    "#### Please do not change this. This cell is used for grading."
   ]
  },
  {
   "cell_type": "markdown",
   "metadata": {
    "deletable": false,
    "editable": false,
    "id": "-EkJ-o9j4IWr",
    "nbgrader": {
     "cell_type": "markdown",
     "checksum": "9b123f599f9ea372d14676e23f1c6a52",
     "grade": false,
     "grade_id": "cell-4b2534067c44fcdf",
     "locked": true,
     "schema_version": 3,
     "solution": false,
     "task": false
    }
   },
   "source": [
    "---\n",
    "### Section 6.2: LSI Retrieval (10 points)<a class=\"anchor\" id=\"lsi_retrieval\"></a>\n",
    "LSI retrieval is simply ranking the documents based on their cosine similarity to the query vector.\n",
    "First, let's write a parent class for vector-based retrieval models:"
   ]
  },
  {
   "cell_type": "code",
   "execution_count": 99,
   "metadata": {
    "ExecuteTime": {
     "end_time": "2021-02-09T08:10:48.716448Z",
     "start_time": "2021-02-09T08:10:42.666Z"
    },
    "deletable": false,
    "editable": false,
    "id": "vui4hfKK4IWr",
    "nbgrader": {
     "cell_type": "code",
     "checksum": "ecc111d58182570e2252b8ef5d6b02af",
     "grade": false,
     "grade_id": "cell-937936cea18711ee",
     "locked": true,
     "schema_version": 3,
     "solution": false,
     "task": false
    }
   },
   "outputs": [],
   "source": [
    "class VectorSpaceRetrievalModel:\n",
    "    \"\"\"\n",
    "        Parent class for Dense Vector Retrieval models\n",
    "    \"\"\"\n",
    "    def __init__(self, doc_repr):\n",
    "        \"\"\"\n",
    "            document_collection: \n",
    "                [\n",
    "                    (doc_id_1, [token 1, token 2, ...]), \n",
    "                    (doc_id_2, [token 1, token 2, ....]) \n",
    "                    ...\n",
    "                ]\n",
    "\n",
    "        \"\"\"\n",
    "        self.doc_repr = doc_repr\n",
    "        self.documents = [_[1] for _ in self.doc_repr]\n",
    "        \n",
    "        # construct a dictionary\n",
    "        self.dictionary = Dictionary(self.documents)\n",
    "        # Filter out words that occur less than 20 documents, or more than 50% of the documents.\n",
    "        self.dictionary.filter_extremes(no_below=10)\n",
    "        self.corpus = [self.dictionary.doc2bow(doc) for doc in self.documents]\n",
    "    \n",
    "        # Make a index to word dictionary.\n",
    "        temp = self.dictionary[0]  # This is only to \"load\" the dictionary.\n",
    "        self.id2word = self.dictionary.id2token\n",
    "        \n",
    "        # this is set by the train_model function\n",
    "        self.model = None\n",
    "        \n",
    "        \n",
    "    def vectorize_documents(self):\n",
    "        \"\"\"\n",
    "            Returns a doc_id -> vector dictionary\n",
    "        \"\"\"\n",
    "        vectors = {}\n",
    "        for (doc_id, _), cc in zip(self.doc_repr, self.corpus):\n",
    "            vectors[doc_id] = self.model[cc]\n",
    "        return vectors\n",
    "\n",
    "    def vectorize_query(self, query):\n",
    "        # Note the use of config_2 here!\n",
    "        query = process_text(query, **config_2)\n",
    "        query_vector = self.dictionary.doc2bow(query)\n",
    "        return self.model[query_vector]\n",
    "    \n",
    "    def train_model(self):\n",
    "        \"\"\"\n",
    "            Trains a model and sets the 'self.model' variable. \n",
    "            Make sure to use the variables created in the __init__ method.\n",
    "            e.g the variables which may be useful: {corpus, dictionary, id2word}\n",
    "        \"\"\"\n",
    "        raise NotImplementedError()"
   ]
  },
  {
   "cell_type": "markdown",
   "metadata": {
    "deletable": false,
    "editable": false,
    "id": "7hVlHxL34IWr",
    "nbgrader": {
     "cell_type": "markdown",
     "checksum": "ff161eefd9b81b768cd6361bc1a502b0",
     "grade": false,
     "grade_id": "cell-704a18c2f80cd60c",
     "locked": true,
     "schema_version": 3,
     "solution": false,
     "task": false
    }
   },
   "source": [
    "---\n",
    "**Implementation (5 points):**\n",
    "Implement the `train_model` method in the following class (note that this is only one line of code in `gensim`!). Ensure that the parameters defined in the `__init__` method are not changed, and are *used in the `train_method` function*. Normally, the hyperaparameter space will be searched using grid search / other methods - in this assignment we have provided the hyperparameters for you.\n",
    "\n",
    "The last two lines of code train an LSI model on the list of documents which have been stemmed, lower-cased and have stopwords removed. "
   ]
  },
  {
   "cell_type": "code",
   "execution_count": null,
   "metadata": {
    "ExecuteTime": {
     "end_time": "2021-02-09T08:10:48.717445Z",
     "start_time": "2021-02-09T08:10:42.668Z"
    },
    "deletable": false,
    "id": "stvTMFN44IWr",
    "nbgrader": {
     "cell_type": "code",
     "checksum": "0e90eedc27c248bc1ae050518a46a46c",
     "grade": false,
     "grade_id": "cell-307682c9089f15d6",
     "locked": false,
     "schema_version": 3,
     "solution": true,
     "task": false
    }
   },
   "outputs": [],
   "source": [
    "# TODO: Implement this! (5 points)\n",
    "class LsiRetrievalModel(VectorSpaceRetrievalModel):\n",
    "    def __init__(self, doc_repr):\n",
    "        super().__init__(doc_repr)\n",
    "        \n",
    "        self.num_topics = 100\n",
    "        self.chunksize = 2000\n",
    "    \n",
    "    def train_model(self):\n",
    "        # YOUR CODE HERE\n",
    "        raise NotImplementedError()"
   ]
  },
  {
   "cell_type": "code",
   "execution_count": null,
   "metadata": {
    "ExecuteTime": {
     "end_time": "2021-02-09T08:10:48.718444Z",
     "start_time": "2021-02-09T08:10:42.670Z"
    },
    "deletable": false,
    "editable": false,
    "id": "_khGWJSi4IWr",
    "nbgrader": {
     "cell_type": "code",
     "checksum": "00399cfe13d60cb4beed1271e36004b0",
     "grade": true,
     "grade_id": "cell-5ce512650c1b2dfb",
     "locked": true,
     "points": 0,
     "schema_version": 3,
     "solution": false,
     "task": false
    }
   },
   "outputs": [],
   "source": [
    "##### Function check\n",
    "lsi = LsiRetrievalModel(doc_repr_2)\n",
    "lsi.train_model()\n",
    "\n",
    "# you can now get an LSI vector for a given query in the following way:\n",
    "lsi.vectorize_query(\"report\")\n",
    "##### "
   ]
  },
  {
   "cell_type": "markdown",
   "metadata": {
    "deletable": false,
    "editable": false,
    "id": "NGA8x3e54IWs",
    "nbgrader": {
     "cell_type": "markdown",
     "checksum": "7116bb9f576c5bb04934e1d59c51d729",
     "grade": false,
     "grade_id": "cell-4c5eeb557b4fca2f",
     "locked": true,
     "points": 5,
     "schema_version": 3,
     "solution": false,
     "task": true
    }
   },
   "source": [
    "\\#### Please do not change this. This cell is used for grading."
   ]
  },
  {
   "cell_type": "markdown",
   "metadata": {
    "deletable": false,
    "editable": false,
    "id": "XC11dqNi4IWs",
    "nbgrader": {
     "cell_type": "markdown",
     "checksum": "1068a108600b8c1539117d543e720354",
     "grade": false,
     "grade_id": "cell-c4e50296cd17a555",
     "locked": true,
     "schema_version": 3,
     "solution": false,
     "task": false
    }
   },
   "source": [
    "---\n",
    "Next, implement a basic ranking class for vector space retrieval (used for all semantic methods): "
   ]
  },
  {
   "cell_type": "code",
   "execution_count": null,
   "metadata": {
    "ExecuteTime": {
     "end_time": "2021-02-09T08:10:48.719440Z",
     "start_time": "2021-02-09T08:10:42.673Z"
    },
    "deletable": false,
    "id": "7-cQ_F004IWs",
    "nbgrader": {
     "cell_type": "code",
     "checksum": "1a8389d2f0635c3405e2b0b27ed9f327",
     "grade": false,
     "grade_id": "cell-250515d288e80cdc",
     "locked": false,
     "schema_version": 3,
     "solution": true,
     "task": false
    }
   },
   "outputs": [],
   "source": [
    "# TODO: Implement this! (5 points)\n",
    "class DenseRetrievalRanker:\n",
    "    def __init__(self, vsrm, similarity_fn):\n",
    "        \"\"\"\n",
    "            vsrm: instance of `VectorSpaceRetrievalModel`\n",
    "            similarity_fn: function instance that takes in two vectors \n",
    "                            and returns a similarity score e.g cosine_sim defined earlier\n",
    "        \"\"\"\n",
    "        self.vsrm = vsrm \n",
    "        self.vectorized_documents = self.vsrm.vectorize_documents()\n",
    "        self.similarity_fn = similarity_fn\n",
    "    \n",
    "    def _compute_sim(self, query_vector):\n",
    "        \"\"\"\n",
    "            Compute the similarity of `query_vector` to documents in \n",
    "            `self.vectorized_documents` using `self.similarity_fn`\n",
    "            Returns a list of (doc_id, score) tuples\n",
    "        \"\"\"\n",
    "        # YOUR CODE HERE\n",
    "        raise NotImplementedError()\n",
    "    \n",
    "    def search(self, query):\n",
    "        scores = self._compute_sim(self.vsrm.vectorize_query(query))\n",
    "        scores.sort(key=lambda _:-_[1])\n",
    "        return scores "
   ]
  },
  {
   "cell_type": "code",
   "execution_count": null,
   "metadata": {
    "ExecuteTime": {
     "end_time": "2021-02-09T08:10:48.720438Z",
     "start_time": "2021-02-09T08:10:42.675Z"
    },
    "deletable": false,
    "editable": false,
    "id": "84ShnBqC4IWs",
    "nbgrader": {
     "cell_type": "code",
     "checksum": "f237dd1ef6c1783c06797f4b514421f5",
     "grade": true,
     "grade_id": "cell-b73068b3e77a8e31",
     "locked": true,
     "points": 0,
     "schema_version": 3,
     "solution": false,
     "task": false
    }
   },
   "outputs": [],
   "source": [
    "##### Function check\n",
    "drm_lsi = DenseRetrievalRanker(lsi, cosine_sim)\n",
    "drm_lsi.search(\"report\")[:5]\n",
    "##### "
   ]
  },
  {
   "cell_type": "markdown",
   "metadata": {
    "deletable": false,
    "editable": false,
    "id": "J7KStoCJ4IWs",
    "nbgrader": {
     "cell_type": "markdown",
     "checksum": "5b3f19fdcaa585d263706d5a26038799",
     "grade": false,
     "grade_id": "cell-034c755a6502b868",
     "locked": true,
     "points": 5,
     "schema_version": 3,
     "solution": false,
     "task": true
    }
   },
   "source": [
    "\\#### Please do not change this. This cell is used for grading."
   ]
  },
  {
   "cell_type": "markdown",
   "metadata": {
    "deletable": false,
    "editable": false,
    "id": "151cPjf34IWs",
    "nbgrader": {
     "cell_type": "markdown",
     "checksum": "dcafef6e037033c46304b914f7c78bdf",
     "grade": false,
     "grade_id": "cell-d1df23f497d5ed6b",
     "locked": true,
     "schema_version": 3,
     "solution": false,
     "task": false
    }
   },
   "source": [
    "---\n",
    "Now, you can test your LSI model in the following cell: try finding queries which are lexically different to documents, but semantically similar - does LSI work well for these queries?!"
   ]
  },
  {
   "cell_type": "code",
   "execution_count": null,
   "metadata": {
    "ExecuteTime": {
     "end_time": "2021-02-09T08:10:48.721435Z",
     "start_time": "2021-02-09T08:10:42.678Z"
    },
    "deletable": false,
    "editable": false,
    "id": "_YwVurAt4IWs",
    "nbgrader": {
     "cell_type": "code",
     "checksum": "11734bc7674377b340ad51297a8e8bb5",
     "grade": false,
     "grade_id": "cell-efd1d08dfc04ec3e",
     "locked": true,
     "schema_version": 3,
     "solution": false,
     "task": false
    }
   },
   "outputs": [],
   "source": [
    "# test your LSI model\n",
    "search_fn = drm_lsi.search\n",
    "\n",
    "text = widgets.Text(description=\"Search Bar\", width=200)\n",
    "display(text)\n",
    "\n",
    "def make_results_2(query, search_fn):\n",
    "    results = []\n",
    "    for doc_id, score in search_fn(query):\n",
    "        highlight = highlight_text(docs_by_id[doc_id], query)\n",
    "        if len(highlight.strip()) == 0:\n",
    "            highlight = docs_by_id[doc_id]\n",
    "        results.append(ResultRow(doc_id, highlight, score))\n",
    "    return results\n",
    "\n",
    "def handle_submit_2(sender):\n",
    "    print(f\"Searching for: '{sender.value}' (SEARCH FN: {search_fn})\")\n",
    "    \n",
    "    results = make_results_2(sender.value, search_fn)\n",
    "    \n",
    "    # display only the top 5\n",
    "    results = results[:5]\n",
    "    \n",
    "    body = \"\"\n",
    "    for idx, r in enumerate(results):\n",
    "        body += f\"<li>Document #{r.doc_id}({r.score}): {r.snippet}</li>\"\n",
    "    display(HTML(f\"<ul>{body}</ul>\"))\n",
    "    \n",
    "\n",
    "text.on_submit(handle_submit_2)"
   ]
  },
  {
   "cell_type": "markdown",
   "metadata": {
    "deletable": false,
    "editable": false,
    "id": "0PGe6mPD4IWt",
    "nbgrader": {
     "cell_type": "markdown",
     "checksum": "d074ce1ca48384cdda78742741c938be",
     "grade": false,
     "grade_id": "cell-3a86cef264d8f6cf",
     "locked": true,
     "schema_version": 3,
     "solution": false,
     "task": false
    }
   },
   "source": [
    "---\n",
    "## Section 7: Latent Dirichlet Allocation (LDA) (10 points) <a class=\"anchor\" id=\"lda\"></a>\n",
    "\n",
    "[Back to Part 2](#part2)\n",
    "\n",
    "The specifics of LDA is out of the scope of this assignment, but we will use the `gensim` implementation to perform search using LDA over our small document collection. The key thing to remember is that LDA, unlike LSI, outputs a topic **distribution**, not a vector. With that in mind, let's first define a similarity measure.\n"
   ]
  },
  {
   "cell_type": "markdown",
   "metadata": {
    "deletable": false,
    "editable": false,
    "id": "xMbAwqEW4IWt",
    "nbgrader": {
     "cell_type": "markdown",
     "checksum": "db01092373b18f0c9dfed1bb17db4ad9",
     "grade": false,
     "grade_id": "cell-6b78ad22c2d60ba7",
     "locked": true,
     "schema_version": 3,
     "solution": false,
     "task": false
    }
   },
   "source": [
    "---\n",
    "### Section 7.1: Jenson-Shannon divergence (5 points) <a class=\"anchor\" id=\"js_sim\"></a>\n",
    "\n",
    "The Jenson-Shannon divergence is a symmetric and finite measure on two probability distributions (unlike the KL, which is neither). For identical distributions, the JSD is equal to 0, and since our code uses 0 as irrelevant and higher scores as relevant, we use `(1 - JSD)` as the score or 'similarity' in our setup\n",
    "\n",
    "**Note**: the JSD is bounded to \\[0,1\\] only if we use log base 2. So please ensure that you're using `np.log2` instead of `np.log`"
   ]
  },
  {
   "cell_type": "code",
   "execution_count": 96,
   "metadata": {
    "ExecuteTime": {
     "end_time": "2021-02-09T08:10:48.722432Z",
     "start_time": "2021-02-09T08:10:42.681Z"
    },
    "deletable": false,
    "id": "OP-T-8i-4IWt",
    "nbgrader": {
     "cell_type": "code",
     "checksum": "a579e6cd7a24a3516bc9a84528b392d3",
     "grade": false,
     "grade_id": "cell-d2376a85a4841e98",
     "locked": false,
     "schema_version": 3,
     "solution": true,
     "task": false
    }
   },
   "outputs": [],
   "source": [
    "## TODO: Implement this! (5 points)\n",
    "def jenson_shannon_divergence(vec_1, vec_2, assert_prob=False):\n",
    "    \"\"\"\n",
    "        Computes the Jensen-Shannon divergence between two probability distributions. \n",
    "        NOTE: DO NOT RETURN 1 - JSD here, that is handled by the next function which is already implemented! \n",
    "        The inputs are *gensim* vectors - same as the vectors for the cosine_sim function\n",
    "        assert_prob is a flag that checks if the inputs are proper probability distributions \n",
    "            i.e they sum to 1 and are positive - use this to check your inputs if needed. \n",
    "                (This is optional to implement, but recommended - \n",
    "                you can the default to False to save a few ms off the runtime)\n",
    "    \"\"\"\n",
    "    # YOUR CODE HERE\n",
    "    if assert_prob:\n",
    "        sum_vec_1 = sum(value[1] for value in vec_1)\n",
    "        sum_vec_2 = sum(value[1] for value in vec_2)\n",
    "        if sum_vec_1 != 1:\n",
    "            print('Input vec_1 is not in the correct format!')\n",
    "            return\n",
    "        if sum_vec_2 != 1:\n",
    "            print('Input vec_2 is not in the correct format!')\n",
    "            return\n",
    "            \n",
    "    vec_1 = np.array(vec_1)\n",
    "    vec_2 = np.array(vec_2)\n",
    "    d1 = vec_1*np.log2(2*vec_1/(vec_1+vec_2))\n",
    "    d2 = vec_2*np.log2(2*vec_2/(vec_1+vec_2))\n",
    "    d1[np.isnan(d1)] = 0\n",
    "    d2[np.isnan(d2)] = 0\n",
    "    d = 0.5*np.sum(d1+d2)\n",
    "    \n",
    "    return d\n",
    "    \n",
    "\n",
    "def jenson_shannon_sim(vec_1, vec_2, assert_prob=False):\n",
    "    return 1 - jenson_shannon_divergence(vec_1, vec_2)"
   ]
  },
  {
   "cell_type": "code",
   "execution_count": 97,
   "metadata": {
    "ExecuteTime": {
     "end_time": "2021-02-09T08:10:48.723429Z",
     "start_time": "2021-02-09T08:10:42.683Z"
    },
    "deletable": false,
    "editable": false,
    "id": "0Jx8X0vU4IWt",
    "nbgrader": {
     "cell_type": "code",
     "checksum": "ab340aa941c9fb5c89b3fd0a9139e246",
     "grade": true,
     "grade_id": "cell-487c6d2933f38053",
     "locked": true,
     "points": 5,
     "schema_version": 3,
     "solution": false,
     "task": false
    }
   },
   "outputs": [
    {
     "data": {
      "text/plain": [
       "0.9251064410358459"
      ]
     },
     "execution_count": 97,
     "metadata": {},
     "output_type": "execute_result"
    }
   ],
   "source": [
    "##### Function check\n",
    "vec_1 = [(1, 0.3), (2, 0.4), (3, 0.3)]\n",
    "vec_2 = [(1, 0.1), (2, 0.7), (3, 0.2)]\n",
    "jenson_shannon_sim(vec_1, vec_2, assert_prob=True)\n",
    "##### "
   ]
  },
  {
   "cell_type": "markdown",
   "metadata": {
    "deletable": false,
    "editable": false,
    "id": "1qyB_mcw4IWt",
    "nbgrader": {
     "cell_type": "markdown",
     "checksum": "0a1583a5f23e3390038331cce67f5d8e",
     "grade": false,
     "grade_id": "cell-4535cc67a50b80fa",
     "locked": true,
     "schema_version": 3,
     "solution": false,
     "task": false
    }
   },
   "source": [
    "---\n",
    "### Section 7.2: LDA retrieval (5 points) <a class=\"anchor\" id=\"lda_ret\"></a>\n",
    "\n",
    "Implement the `train_model` method in the following class (note that this is only one line of code in `gensim`!). Ensure that the parameters defined in the `__init__` method are not changed, and are *used in the `train_method` function*. You do not need to set this. Normally, the hyperaparameter space will be searched using grid search / other methods. Note that training the LDA model might take some time\n",
    "\n",
    "The last two lines of code train an LDA model on the list of documents which have been stemmed, lower-cased and have stopwords removed. "
   ]
  },
  {
   "cell_type": "code",
   "execution_count": 100,
   "metadata": {
    "ExecuteTime": {
     "end_time": "2021-02-09T08:10:48.723429Z",
     "start_time": "2021-02-09T08:10:42.686Z"
    },
    "deletable": false,
    "id": "Z9-cv36K4IWt",
    "nbgrader": {
     "cell_type": "code",
     "checksum": "27de8e4fa85536bb396b73bfc51b3f50",
     "grade": false,
     "grade_id": "cell-021a48dff4a8bb91",
     "locked": false,
     "schema_version": 3,
     "solution": true,
     "task": false
    }
   },
   "outputs": [],
   "source": [
    "# TODO: Implement this! (5 points)\n",
    "class LdaRetrievalModel(VectorSpaceRetrievalModel):\n",
    "    def __init__(self, doc_repr):\n",
    "        super().__init__(doc_repr)\n",
    "        \n",
    "        # use these parameters in the train_model method\n",
    "        self.num_topics = 100\n",
    "        self.chunksize = 2000\n",
    "        self.passes = 20\n",
    "        self.iterations = 400\n",
    "        self.eval_every = 10\n",
    "        # this is need to get full vectors\n",
    "        self.minimum_probability=0.0\n",
    "        self.alpha='auto'\n",
    "        self.eta='auto'\n",
    "    \n",
    "    \n",
    "    def train_model(self):\n",
    "        # YOUR CODE HERE\n",
    "        self.model = LdaModel(self.corpus, num_topics = self.num_topics, chunksize = self.chunksize, id2word = self.id2word,\n",
    "                              passes = self.passes, iterations = self.iterations, eval_every = self.eval_every, \n",
    "                              minimum_probability = self.minimum_probability, alpha = self.alpha, eta = self.eta)"
   ]
  },
  {
   "cell_type": "code",
   "execution_count": 101,
   "metadata": {
    "ExecuteTime": {
     "end_time": "2021-02-09T08:10:48.724427Z",
     "start_time": "2021-02-09T08:10:42.687Z"
    },
    "deletable": false,
    "editable": false,
    "id": "Fb0jrpWb4IWu",
    "nbgrader": {
     "cell_type": "code",
     "checksum": "be70fcb8098d0b6ce64cd2a10e6a05b7",
     "grade": true,
     "grade_id": "cell-86750b715f0345fd",
     "locked": true,
     "points": 0,
     "schema_version": 3,
     "solution": false,
     "task": false
    }
   },
   "outputs": [
    {
     "name": "stderr",
     "output_type": "stream",
     "text": [
      "2021-02-11 12:24:01,774 : INFO : adding document #0 to Dictionary(0 unique tokens: [])\n",
      "2021-02-11 12:24:01,983 : INFO : built Dictionary(6207 unique tokens: ['-', 'algebra', 'intern', 'languag', 'preliminari']...) from 3204 documents (total 196863 corpus positions)\n",
      "2021-02-11 12:24:01,990 : INFO : discarding 4798 tokens: [('of', 2061), ('repeat', 8), ('glossari', 7), ('inspect', 8), ('the', 1794), ('uncol', 2), ('a', 1808), ('rung', 9), ('secant', 2), ('.', 1605)]...\n",
      "2021-02-11 12:24:01,991 : INFO : keeping 1409 tokens which were in no less than 10 and no more than 1602 (=50.0%) documents\n",
      "2021-02-11 12:24:01,994 : INFO : resulting dictionary: Dictionary(1409 unique tokens: ['-', 'algebra', 'intern', 'languag', 'preliminari']...)\n",
      "2021-02-11 12:24:02,101 : INFO : using autotuned alpha, starting with [0.01, 0.01, 0.01, 0.01, 0.01, 0.01, 0.01, 0.01, 0.01, 0.01, 0.01, 0.01, 0.01, 0.01, 0.01, 0.01, 0.01, 0.01, 0.01, 0.01, 0.01, 0.01, 0.01, 0.01, 0.01, 0.01, 0.01, 0.01, 0.01, 0.01, 0.01, 0.01, 0.01, 0.01, 0.01, 0.01, 0.01, 0.01, 0.01, 0.01, 0.01, 0.01, 0.01, 0.01, 0.01, 0.01, 0.01, 0.01, 0.01, 0.01, 0.01, 0.01, 0.01, 0.01, 0.01, 0.01, 0.01, 0.01, 0.01, 0.01, 0.01, 0.01, 0.01, 0.01, 0.01, 0.01, 0.01, 0.01, 0.01, 0.01, 0.01, 0.01, 0.01, 0.01, 0.01, 0.01, 0.01, 0.01, 0.01, 0.01, 0.01, 0.01, 0.01, 0.01, 0.01, 0.01, 0.01, 0.01, 0.01, 0.01, 0.01, 0.01, 0.01, 0.01, 0.01, 0.01, 0.01, 0.01, 0.01, 0.01]\n",
      "2021-02-11 12:24:02,102 : INFO : using serial LDA version on this node\n",
      "2021-02-11 12:24:02,125 : INFO : running online (multi-pass) LDA training, 100 topics, 20 passes over the supplied corpus of 3204 documents, updating model once every 2000 documents, evaluating perplexity every 3204 documents, iterating 400x with a convergence threshold of 0.001000\n",
      "2021-02-11 12:24:02,126 : INFO : PROGRESS: pass 0, at document #2000/3204\n",
      "2021-02-11 12:24:05,580 : INFO : optimized alpha [0.009757036, 0.009783024, 0.009772167, 0.009808985, 0.009830137, 0.009856114, 0.00975708, 0.009799045, 0.009798278, 0.009756907, 0.0097778, 0.009741755, 0.009803235, 0.009829567, 0.009756981, 0.009746726, 0.009772585, 0.009746896, 0.00973128, 0.009720978, 0.009985829, 0.009824735, 0.009762337, 0.010054952, 0.009778586, 0.009772922, 0.009809269, 0.009762106, 0.009788131, 0.009845302, 0.009767677, 0.009918846, 0.009877293, 0.009746993, 0.009731226, 0.010160163, 0.009793192, 0.009871262, 0.009783567, 0.009751665, 0.009736466, 0.009757209, 0.009897268, 0.009877659, 0.009772938, 0.009788288, 0.009814311, 0.009757145, 0.0098656565, 0.009772586, 0.009731212, 0.009741668, 0.009849641, 0.0097620245, 0.009752045, 0.009757255, 0.009849956, 0.009777847, 0.009783002, 0.009788121, 0.009746888, 0.009793702, 0.009767353, 0.0097674625, 0.009830299, 0.009746601, 0.009757242, 0.009859852, 0.00977812, 0.00993456, 0.009793731, 0.009833489, 0.009756872, 0.009834857, 0.009772357, 0.009767655, 0.00975201, 0.009897512, 0.009787905, 0.009746614, 0.009762288, 0.009741663, 0.009762032, 0.009757103, 0.010050398, 0.00974673, 0.009945565, 0.009813837, 0.009757068, 0.009746807, 0.009813756, 0.009768522, 0.009814762, 0.009736438, 0.009793209, 0.009746803, 0.009871982, 0.009965749, 0.009756886, 0.009793811]\n",
      "2021-02-11 12:24:05,588 : INFO : merging changes from 2000 documents into a model of 3204 documents\n",
      "2021-02-11 12:24:05,607 : INFO : topic #18 (0.010): 0.064*\"to\" + 0.051*\"be\" + 0.047*\"bit\" + 0.033*\"manipul\" + 0.032*\",\" + 0.030*\"fortran\" + 0.030*\"techniqu\" + 0.029*\"ii\" + 0.028*\"use\" + 0.025*\"comput\"\n",
      "2021-02-11 12:24:05,607 : INFO : topic #65 (0.010): 0.063*\"squar\" + 0.063*\"algorithm\" + 0.063*\"(\" + 0.042*\"])\" + 0.042*\"comput\" + 0.042*\"function\" + 0.042*\"[\" + 0.021*\"univers\" + 0.021*\"with\" + 0.021*\"fit\"\n",
      "2021-02-11 12:24:05,608 : INFO : topic #84 (0.010): 0.048*\",\" + 0.035*\"and\" + 0.028*\"to\" + 0.027*\"in\" + 0.023*\"is\" + 0.021*\"system\" + 0.019*\"-\" + 0.016*\"for\" + 0.014*\"program\" + 0.010*\"comput\"\n",
      "2021-02-11 12:24:05,609 : INFO : topic #23 (0.010): 0.037*\",\" + 0.033*\"to\" + 0.033*\"and\" + 0.027*\"-\" + 0.026*\"comput\" + 0.024*\"in\" + 0.023*\"is\" + 0.022*\"for\" + 0.016*\"are\" + 0.012*\"on\"\n",
      "2021-02-11 12:24:05,610 : INFO : topic #35 (0.010): 0.039*\",\" + 0.034*\"and\" + 0.028*\"in\" + 0.027*\"to\" + 0.026*\"is\" + 0.019*\"-\" + 0.017*\"system\" + 0.016*\"for\" + 0.014*\"are\" + 0.011*\"use\"\n",
      "2021-02-11 12:24:05,611 : INFO : topic diff=81.229385, rho=1.000000\n",
      "2021-02-11 12:24:07,965 : INFO : -6.937 per-word bound, 122.6 perplexity estimate based on a held-out corpus of 1204 documents with 79462 words\n",
      "2021-02-11 12:24:07,965 : INFO : PROGRESS: pass 0, at document #3204/3204\n",
      "2021-02-11 12:24:09,961 : INFO : optimized alpha [0.009743146, 0.009816599, 0.009850878, 0.009882932, 0.010107389, 0.010132862, 0.010095029, 0.0099212, 0.0096420925, 0.009596275, 0.009816307, 0.009652144, 0.00966477, 0.0098206885, 0.009632271, 0.009743847, 0.009817628, 0.009768581, 0.009607004, 0.009434792, 0.010291057, 0.010076737, 0.009907794, 0.010740455, 0.010085313, 0.0099013075, 0.009659865, 0.009654176, 0.009750034, 0.009961512, 0.009777768, 0.010258077, 0.010097147, 0.0096756695, 0.009507897, 0.011400558, 0.009754127, 0.0099035865, 0.009823464, 0.009753951, 0.009634778, 0.009785172, 0.010181299, 0.010467415, 0.009877643, 0.0097975405, 0.009935489, 0.00965559, 0.009755022, 0.009852374, 0.009548461, 0.009854449, 0.009804032, 0.009717597, 0.009796346, 0.010036511, 0.009704109, 0.00968723, 0.009803572, 0.009908054, 0.009797855, 0.009951159, 0.009741521, 0.009852329, 0.009881316, 0.009604496, 0.009708904, 0.009860145, 0.010017662, 0.010051851, 0.009951532, 0.009917904, 0.009712323, 0.009754689, 0.00986316, 0.009861396, 0.009895678, 0.010337507, 0.00995864, 0.009685133, 0.00966664, 0.009669363, 0.009790099, 0.009773534, 0.01097059, 0.009551839, 0.010620048, 0.009775445, 0.009725799, 0.009768206, 0.009810576, 0.00973548, 0.010156968, 0.009576073, 0.0099657485, 0.00962161, 0.010359079, 0.010554711, 0.009695914, 0.010096927]\n",
      "2021-02-11 12:24:09,970 : INFO : merging changes from 1204 documents into a model of 3204 documents\n",
      "2021-02-11 12:24:09,984 : INFO : topic #19 (0.009): 0.001*\"lead\" + 0.001*\"debug\" + 0.001*\"major\" + 0.001*\"divid\" + 0.001*\"column\" + 0.001*\"verifi\" + 0.001*\"repetit\" + 0.001*\"reduc\" + 0.001*\"quit\" + 0.001*\"maximum\"\n",
      "2021-02-11 12:24:09,985 : INFO : topic #85 (0.010): 0.066*\"back\" + 0.057*\"spars\" + 0.049*\"weak\" + 0.046*\"(\" + 0.042*\"in\" + 0.038*\"storag\" + 0.038*\"-\" + 0.035*\"alloc\" + 0.034*\")\" + 0.034*\"top\"\n",
      "2021-02-11 12:24:09,986 : INFO : topic #23 (0.011): 0.041*\",\" + 0.036*\"and\" + 0.036*\"to\" + 0.026*\"comput\" + 0.025*\"in\" + 0.024*\"-\" + 0.023*\"is\" + 0.020*\"for\" + 0.016*\"are\" + 0.014*\"thi\"\n",
      "2021-02-11 12:24:09,987 : INFO : topic #84 (0.011): 0.050*\",\" + 0.040*\"and\" + 0.030*\"to\" + 0.028*\"in\" + 0.025*\"is\" + 0.024*\"system\" + 0.016*\"for\" + 0.015*\"program\" + 0.015*\"-\" + 0.011*\"it\"\n",
      "2021-02-11 12:24:09,988 : INFO : topic #35 (0.011): 0.042*\",\" + 0.035*\"and\" + 0.031*\"to\" + 0.029*\"is\" + 0.028*\"in\" + 0.017*\"system\" + 0.016*\"-\" + 0.015*\"for\" + 0.013*\"are\" + 0.012*\"use\"\n",
      "2021-02-11 12:24:09,989 : INFO : topic diff=0.698178, rho=0.707107\n",
      "2021-02-11 12:24:09,999 : INFO : PROGRESS: pass 1, at document #2000/3204\n",
      "2021-02-11 12:24:11,890 : INFO : optimized alpha [0.009693453, 0.009852803, 0.009862181, 0.009793747, 0.010080754, 0.010070193, 0.010124253, 0.009833869, 0.00954597, 0.009766453, 0.009827591, 0.009604455, 0.009619202, 0.00982214, 0.009561439, 0.009701263, 0.009811339, 0.009744344, 0.009645835, 0.0092758415, 0.010228628, 0.010039456, 0.009955676, 0.010729092, 0.010018689, 0.009830353, 0.009610201, 0.009657849, 0.009702981, 0.009870582, 0.009808062, 0.010154245, 0.010028213, 0.009684705, 0.009611369, 0.011411337, 0.009680786, 0.009883423, 0.009793888, 0.010292281, 0.009643805, 0.009760538, 0.010076624, 0.010422944, 0.009815029, 0.009756986, 0.009911436, 0.009597314, 0.009702713, 0.009834954, 0.009645629, 0.00981778, 0.009811094, 0.00993759, 0.009714256, 0.010052434, 0.009681743, 0.009677135, 0.009697802, 0.009862711, 0.009796863, 0.009897324, 0.009834249, 0.009784554, 0.009832365, 0.009828103, 0.009652263, 0.009866913, 0.010065273, 0.010052069, 0.009860938, 0.009861916, 0.009662782, 0.00962699, 0.009998516, 0.009793929, 0.009956612, 0.0102728205, 0.0098666325, 0.009702897, 0.009590157, 0.009718974, 0.009747852, 0.009718187, 0.011012405, 0.0094984565, 0.0105813285, 0.009693739, 0.009645442, 0.009827874, 0.00972559, 0.00968568, 0.010110692, 0.009488191, 0.009964399, 0.009530841, 0.0102858115, 0.010468566, 0.009793262, 0.010023791]\n"
     ]
    },
    {
     "name": "stderr",
     "output_type": "stream",
     "text": [
      "2021-02-11 12:24:11,901 : INFO : merging changes from 2000 documents into a model of 3204 documents\n",
      "2021-02-11 12:24:11,919 : INFO : topic #19 (0.009): 0.001*\"lead\" + 0.001*\"debug\" + 0.001*\"major\" + 0.001*\"divid\" + 0.001*\"column\" + 0.001*\"verifi\" + 0.001*\"repetit\" + 0.001*\"reduc\" + 0.001*\"quit\" + 0.001*\"maximum\"\n",
      "2021-02-11 12:24:11,920 : INFO : topic #93 (0.009): 0.192*\"theori\" + 0.123*\"gaussian\" + 0.075*\"switch\" + 0.066*\"place\" + 0.055*\"find\" + 0.050*\"elimin\" + 0.047*\"in\" + 0.037*\"logic\" + 0.031*\"suggest\" + 0.027*\"by\"\n",
      "2021-02-11 12:24:11,921 : INFO : topic #23 (0.011): 0.042*\",\" + 0.037*\"and\" + 0.036*\"to\" + 0.029*\"comput\" + 0.025*\"in\" + 0.024*\"-\" + 0.023*\"is\" + 0.020*\"for\" + 0.016*\"are\" + 0.013*\"thi\"\n",
      "2021-02-11 12:24:11,922 : INFO : topic #84 (0.011): 0.051*\",\" + 0.040*\"and\" + 0.030*\"to\" + 0.028*\"in\" + 0.025*\"system\" + 0.024*\"is\" + 0.016*\"for\" + 0.016*\"-\" + 0.016*\"program\" + 0.011*\"it\"\n",
      "2021-02-11 12:24:11,923 : INFO : topic #35 (0.011): 0.042*\",\" + 0.035*\"and\" + 0.031*\"to\" + 0.029*\"is\" + 0.028*\"in\" + 0.017*\"system\" + 0.016*\"-\" + 0.015*\"for\" + 0.013*\"are\" + 0.013*\"be\"\n",
      "2021-02-11 12:24:11,925 : INFO : topic diff=0.316837, rho=0.526900\n",
      "2021-02-11 12:24:14,307 : INFO : -6.665 per-word bound, 101.5 perplexity estimate based on a held-out corpus of 1204 documents with 79462 words\n",
      "2021-02-11 12:24:14,308 : INFO : PROGRESS: pass 1, at document #3204/3204\n",
      "2021-02-11 12:24:16,415 : INFO : optimized alpha [0.009910228, 0.0100850705, 0.009986229, 0.009863535, 0.010234414, 0.010227482, 0.010375411, 0.009947356, 0.009528188, 0.00972598, 0.00992201, 0.009624017, 0.009603969, 0.009860784, 0.009628453, 0.009817204, 0.010007518, 0.009917965, 0.009714705, 0.0090831, 0.01042455, 0.010236545, 0.0102282865, 0.011114755, 0.0102629615, 0.009970803, 0.009545546, 0.009620292, 0.009799016, 0.009891371, 0.009942554, 0.010367723, 0.010201678, 0.009716732, 0.009663433, 0.01215811, 0.009689961, 0.009930639, 0.009816168, 0.010919553, 0.009696133, 0.009947407, 0.010243794, 0.010810437, 0.009990737, 0.009800324, 0.0100635, 0.009655771, 0.009660801, 0.010030765, 0.009637868, 0.009989063, 0.009814402, 0.010015539, 0.009727942, 0.010342043, 0.009605485, 0.009648234, 0.009781289, 0.010018114, 0.009952925, 0.010072159, 0.009941084, 0.009883572, 0.009898137, 0.009825811, 0.009697641, 0.009885447, 0.010308334, 0.0101531055, 0.0099614775, 0.009991653, 0.009758175, 0.009574177, 0.010144662, 0.009921779, 0.010311333, 0.010647245, 0.01003775, 0.009749543, 0.009661455, 0.009809938, 0.009848533, 0.0098799, 0.011558797, 0.009422377, 0.011064745, 0.009768663, 0.009733747, 0.010050392, 0.0097654285, 0.009767382, 0.010477823, 0.009491151, 0.010163478, 0.009483693, 0.010567736, 0.010810706, 0.00979139, 0.010291546]\n",
      "2021-02-11 12:24:16,427 : INFO : merging changes from 1204 documents into a model of 3204 documents\n",
      "2021-02-11 12:24:16,440 : INFO : topic #19 (0.009): 0.001*\"lead\" + 0.001*\"debug\" + 0.001*\"major\" + 0.001*\"divid\" + 0.001*\"column\" + 0.001*\"verifi\" + 0.001*\"repetit\" + 0.001*\"reduc\" + 0.001*\"quit\" + 0.001*\"maximum\"\n",
      "2021-02-11 12:24:16,441 : INFO : topic #85 (0.009): 0.069*\"-\" + 0.068*\"storag\" + 0.061*\"back\" + 0.060*\"american\" + 0.058*\"in\" + 0.046*\"spars\" + 0.044*\"top\" + 0.043*\"store\" + 0.041*\"for\" + 0.040*\"weak\"\n",
      "2021-02-11 12:24:16,442 : INFO : topic #23 (0.011): 0.045*\",\" + 0.039*\"and\" + 0.038*\"to\" + 0.027*\"comput\" + 0.026*\"in\" + 0.022*\"is\" + 0.022*\"-\" + 0.018*\"for\" + 0.015*\"are\" + 0.015*\"thi\"\n",
      "2021-02-11 12:24:16,443 : INFO : topic #84 (0.012): 0.051*\",\" + 0.043*\"and\" + 0.031*\"to\" + 0.028*\"in\" + 0.027*\"system\" + 0.025*\"is\" + 0.016*\"program\" + 0.016*\"for\" + 0.014*\"-\" + 0.012*\"it\"\n",
      "2021-02-11 12:24:16,444 : INFO : topic #35 (0.012): 0.044*\",\" + 0.035*\"and\" + 0.034*\"to\" + 0.030*\"is\" + 0.028*\"in\" + 0.016*\"system\" + 0.014*\"data\" + 0.014*\"for\" + 0.014*\"be\" + 0.013*\"-\"\n",
      "2021-02-11 12:24:16,446 : INFO : topic diff=0.466203, rho=0.526900\n",
      "2021-02-11 12:24:16,457 : INFO : PROGRESS: pass 2, at document #2000/3204\n",
      "2021-02-11 12:24:18,351 : INFO : optimized alpha [0.00988773, 0.010182697, 0.009952786, 0.009805115, 0.010241819, 0.010186003, 0.01052407, 0.00991081, 0.0094738845, 0.009983214, 0.009962049, 0.0096199615, 0.00961558, 0.009878907, 0.009596511, 0.00982106, 0.010031321, 0.009928197, 0.00978554, 0.008953935, 0.010382925, 0.010209232, 0.01032454, 0.011110234, 0.010230858, 0.009903286, 0.009554809, 0.009652302, 0.009804105, 0.009816222, 0.010038706, 0.010284427, 0.0101495525, 0.009769362, 0.009842097, 0.012132269, 0.009643548, 0.009953832, 0.009814768, 0.011836122, 0.009763899, 0.009985162, 0.010160528, 0.010791511, 0.0099627385, 0.009793576, 0.010070016, 0.009637648, 0.009651919, 0.010085056, 0.009742397, 0.009993199, 0.009870328, 0.010250225, 0.009674172, 0.010382563, 0.009613516, 0.009695561, 0.009722159, 0.009991463, 0.009991114, 0.010054563, 0.0100746695, 0.009835683, 0.009867535, 0.010039659, 0.009690439, 0.009877666, 0.010412715, 0.010211357, 0.009894188, 0.010015272, 0.009746803, 0.00947622, 0.010266778, 0.00988354, 0.010447595, 0.010602334, 0.009962912, 0.009783833, 0.009675037, 0.009916324, 0.009835047, 0.009860554, 0.01156661, 0.009423518, 0.011015126, 0.009751043, 0.009716828, 0.010187811, 0.009710996, 0.009804319, 0.01046457, 0.0094632795, 0.010194183, 0.009430342, 0.010492038, 0.01074538, 0.009926472, 0.010245984]\n",
      "2021-02-11 12:24:18,360 : INFO : merging changes from 2000 documents into a model of 3204 documents\n",
      "2021-02-11 12:24:18,379 : INFO : topic #19 (0.009): 0.001*\"lead\" + 0.001*\"debug\" + 0.001*\"major\" + 0.001*\"divid\" + 0.001*\"column\" + 0.001*\"verifi\" + 0.001*\"repetit\" + 0.001*\"reduc\" + 0.001*\"quit\" + 0.001*\"maximum\"\n",
      "2021-02-11 12:24:18,380 : INFO : topic #85 (0.009): 0.092*\"-\" + 0.084*\"american\" + 0.078*\"storag\" + 0.066*\"in\" + 0.059*\"for\" + 0.047*\"propos\" + 0.041*\"alloc\" + 0.041*\"back\" + 0.037*\")\" + 0.037*\"(\"\n",
      "2021-02-11 12:24:18,381 : INFO : topic #84 (0.012): 0.052*\",\" + 0.043*\"and\" + 0.031*\"to\" + 0.028*\"system\" + 0.028*\"in\" + 0.024*\"is\" + 0.017*\"program\" + 0.016*\"for\" + 0.015*\"-\" + 0.011*\"it\"\n",
      "2021-02-11 12:24:18,382 : INFO : topic #39 (0.012): 0.351*\")\" + 0.331*\"(\" + 0.204*\"algorithm\" + 0.024*\"order\" + 0.019*\"corrigendum\" + 0.011*\"evalu\" + 0.011*\"gener\" + 0.007*\"card\" + 0.006*\"arithmet\" + 0.005*\"jacobi\"\n",
      "2021-02-11 12:24:18,383 : INFO : topic #35 (0.012): 0.045*\",\" + 0.035*\"and\" + 0.034*\"to\" + 0.030*\"is\" + 0.029*\"in\" + 0.016*\"system\" + 0.014*\"for\" + 0.014*\"be\" + 0.014*\"data\" + 0.013*\"-\"\n",
      "2021-02-11 12:24:18,385 : INFO : topic diff=0.405488, rho=0.466151\n",
      "2021-02-11 12:24:20,932 : INFO : -6.581 per-word bound, 95.7 perplexity estimate based on a held-out corpus of 1204 documents with 79462 words\n",
      "2021-02-11 12:24:20,932 : INFO : PROGRESS: pass 2, at document #3204/3204\n",
      "2021-02-11 12:24:23,157 : INFO : optimized alpha [0.010124022, 0.010511568, 0.0100668995, 0.009929819, 0.010374421, 0.010345841, 0.010757676, 0.010011983, 0.00953148, 0.009971146, 0.010069026, 0.009679986, 0.009674955, 0.0099135935, 0.0097288415, 0.009962602, 0.010253528, 0.010145119, 0.009888284, 0.008796389, 0.01055742, 0.010416728, 0.010569482, 0.011470601, 0.010420787, 0.010040551, 0.009530415, 0.009673294, 0.009955259, 0.009825453, 0.010181282, 0.010482813, 0.010295877, 0.009817381, 0.009944365, 0.012673448, 0.009680245, 0.010004223, 0.009847155, 0.012749705, 0.009855939, 0.010222226, 0.010333289, 0.0111144995, 0.010186096, 0.009882842, 0.010272993, 0.009732251, 0.009651623, 0.010334893, 0.009777038, 0.010173023, 0.009892916, 0.010352727, 0.009703532, 0.01066677, 0.009564473, 0.009697635, 0.009816461, 0.0101102395, 0.010165052, 0.010261376, 0.010219491, 0.009931747, 0.009942276, 0.010031069, 0.009765856, 0.009918585, 0.0107044615, 0.010341632, 0.010007302, 0.010220807, 0.009889125, 0.009467873, 0.010448343, 0.010009199, 0.010850941, 0.010976944, 0.010142528, 0.009844565, 0.009807627, 0.010074192, 0.009924943, 0.010062882, 0.012022634, 0.009418713, 0.0114574935, 0.009871961, 0.009860695, 0.01047518, 0.009797795, 0.009926542, 0.010833444, 0.009526533, 0.010391316, 0.009459251, 0.010735143, 0.01103501, 0.009931489, 0.010477318]\n",
      "2021-02-11 12:24:23,166 : INFO : merging changes from 1204 documents into a model of 3204 documents\n",
      "2021-02-11 12:24:23,180 : INFO : topic #19 (0.009): 0.001*\"lead\" + 0.001*\"debug\" + 0.001*\"major\" + 0.001*\"divid\" + 0.001*\"column\" + 0.001*\"verifi\" + 0.001*\"repetit\" + 0.001*\"reduc\" + 0.001*\"quit\" + 0.001*\"maximum\"\n"
     ]
    },
    {
     "name": "stderr",
     "output_type": "stream",
     "text": [
      "2021-02-11 12:24:23,181 : INFO : topic #85 (0.009): 0.103*\"storag\" + 0.089*\"-\" + 0.067*\"in\" + 0.060*\"american\" + 0.051*\"back\" + 0.051*\"for\" + 0.044*\"store\" + 0.044*\"alloc\" + 0.040*\"pars\" + 0.040*\"propos\"\n",
      "2021-02-11 12:24:23,181 : INFO : topic #84 (0.012): 0.052*\",\" + 0.045*\"and\" + 0.031*\"to\" + 0.030*\"system\" + 0.027*\"in\" + 0.024*\"is\" + 0.016*\"program\" + 0.016*\"for\" + 0.014*\"-\" + 0.012*\"it\"\n",
      "2021-02-11 12:24:23,182 : INFO : topic #35 (0.013): 0.046*\",\" + 0.036*\"to\" + 0.035*\"and\" + 0.032*\"is\" + 0.030*\"in\" + 0.017*\"data\" + 0.016*\"system\" + 0.015*\"be\" + 0.014*\"use\" + 0.013*\"which\"\n",
      "2021-02-11 12:24:23,183 : INFO : topic #39 (0.013): 0.368*\")\" + 0.344*\"(\" + 0.185*\"algorithm\" + 0.026*\"order\" + 0.025*\"corrigendum\" + 0.010*\"gener\" + 0.008*\"evalu\" + 0.005*\"arithmet\" + 0.004*\"card\" + 0.003*\"jacobi\"\n",
      "2021-02-11 12:24:23,185 : INFO : topic diff=0.574195, rho=0.466151\n",
      "2021-02-11 12:24:23,200 : INFO : PROGRESS: pass 3, at document #2000/3204\n",
      "2021-02-11 12:24:25,064 : INFO : optimized alpha [0.010118928, 0.010637865, 0.010040766, 0.009902533, 0.010392191, 0.010318626, 0.011011033, 0.009985649, 0.009513944, 0.010237953, 0.010117978, 0.009707727, 0.009704368, 0.009943491, 0.009714204, 0.0099826, 0.0102956295, 0.010179038, 0.0099674035, 0.008687727, 0.010537078, 0.01039273, 0.010685858, 0.011465004, 0.010406411, 0.0099814655, 0.009577181, 0.009731874, 0.009991073, 0.00976629, 0.010299139, 0.0104132425, 0.010268328, 0.009874087, 0.010125536, 0.012642069, 0.009645864, 0.010047456, 0.009891186, 0.013828797, 0.009951342, 0.010270148, 0.010257305, 0.01109862, 0.010196175, 0.009887649, 0.010334894, 0.00973684, 0.009676038, 0.010427112, 0.009887134, 0.010188722, 0.00997414, 0.010610652, 0.009673131, 0.0106993085, 0.009581905, 0.009757922, 0.009793003, 0.0101076495, 0.010211971, 0.010257023, 0.010361096, 0.00991206, 0.009908884, 0.010227115, 0.009774525, 0.009922763, 0.010840241, 0.010434629, 0.009957493, 0.010275963, 0.009903537, 0.009398878, 0.010570632, 0.009978852, 0.011016195, 0.010943467, 0.010080403, 0.009896884, 0.009874089, 0.0101949, 0.009917244, 0.010052534, 0.012027192, 0.00945526, 0.011428907, 0.009881275, 0.009855407, 0.01064991, 0.0097847255, 0.009980814, 0.010850146, 0.009520186, 0.010426926, 0.009485388, 0.010678254, 0.010977653, 0.010055019, 0.010449821]\n",
      "2021-02-11 12:24:25,077 : INFO : merging changes from 2000 documents into a model of 3204 documents\n",
      "2021-02-11 12:24:25,096 : INFO : topic #19 (0.009): 0.001*\"lead\" + 0.001*\"debug\" + 0.001*\"major\" + 0.001*\"divid\" + 0.001*\"column\" + 0.001*\"verifi\" + 0.001*\"repetit\" + 0.001*\"reduc\" + 0.001*\"quit\" + 0.001*\"maximum\"\n",
      "2021-02-11 12:24:25,097 : INFO : topic #85 (0.009): 0.113*\"storag\" + 0.107*\"-\" + 0.076*\"american\" + 0.069*\"in\" + 0.062*\"for\" + 0.055*\"alloc\" + 0.043*\"propos\" + 0.040*\"store\" + 0.037*\"pars\" + 0.036*\"back\"\n",
      "2021-02-11 12:24:25,098 : INFO : topic #84 (0.012): 0.053*\",\" + 0.045*\"and\" + 0.031*\"to\" + 0.030*\"system\" + 0.027*\"in\" + 0.023*\"is\" + 0.017*\"program\" + 0.016*\"for\" + 0.015*\"-\" + 0.012*\"it\"\n",
      "2021-02-11 12:24:25,099 : INFO : topic #35 (0.013): 0.046*\",\" + 0.036*\"and\" + 0.036*\"to\" + 0.031*\"is\" + 0.030*\"in\" + 0.016*\"system\" + 0.016*\"data\" + 0.015*\"be\" + 0.014*\"use\" + 0.014*\"which\"\n",
      "2021-02-11 12:24:25,100 : INFO : topic #39 (0.014): 0.367*\")\" + 0.349*\"(\" + 0.196*\"algorithm\" + 0.019*\"order\" + 0.015*\"corrigendum\" + 0.010*\"evalu\" + 0.009*\"gener\" + 0.006*\"card\" + 0.005*\"arithmet\" + 0.005*\"punch\"\n",
      "2021-02-11 12:24:25,101 : INFO : topic diff=0.548896, rho=0.422502\n",
      "2021-02-11 12:24:27,382 : INFO : -6.524 per-word bound, 92.0 perplexity estimate based on a held-out corpus of 1204 documents with 79462 words\n",
      "2021-02-11 12:24:27,382 : INFO : PROGRESS: pass 3, at document #3204/3204\n",
      "2021-02-11 12:24:29,414 : INFO : optimized alpha [0.010353607, 0.011015317, 0.010145067, 0.010034278, 0.010531663, 0.010479129, 0.011221574, 0.010081786, 0.0095909145, 0.010256338, 0.010236555, 0.009779719, 0.009803259, 0.00999652, 0.009880224, 0.01013641, 0.01051048, 0.010396046, 0.010088734, 0.0085545005, 0.010700684, 0.01061581, 0.010918565, 0.011813917, 0.010561266, 0.010106918, 0.009586915, 0.009764906, 0.010157456, 0.009783809, 0.010443287, 0.010594889, 0.010424119, 0.009942375, 0.010270909, 0.0130754225, 0.009690686, 0.010089862, 0.009963105, 0.014912116, 0.010055902, 0.010531588, 0.010422446, 0.011399449, 0.01042994, 0.009993935, 0.01056882, 0.009844159, 0.009697285, 0.0106756, 0.009928583, 0.010378187, 0.010015827, 0.01074672, 0.009711414, 0.010983329, 0.009549705, 0.009777501, 0.009886414, 0.010201709, 0.010363447, 0.010467763, 0.010510733, 0.009996404, 0.009970611, 0.010238903, 0.009874875, 0.009985174, 0.011102007, 0.010583264, 0.01009632, 0.0105080465, 0.010047569, 0.0094341645, 0.010777701, 0.010093662, 0.011439678, 0.011269952, 0.010265985, 0.009987064, 0.010023038, 0.01037499, 0.009999575, 0.010252212, 0.012415103, 0.009475462, 0.011855418, 0.010044478, 0.010035879, 0.010995294, 0.009895591, 0.0101063335, 0.011250318, 0.00960177, 0.010618081, 0.009597044, 0.01092339, 0.01123893, 0.010076761, 0.0106764855]\n",
      "2021-02-11 12:24:29,423 : INFO : merging changes from 1204 documents into a model of 3204 documents\n",
      "2021-02-11 12:24:29,437 : INFO : topic #19 (0.009): 0.001*\"lead\" + 0.001*\"debug\" + 0.001*\"major\" + 0.001*\"divid\" + 0.001*\"column\" + 0.001*\"verifi\" + 0.001*\"repetit\" + 0.001*\"reduc\" + 0.001*\"quit\" + 0.001*\"maximum\"\n",
      "2021-02-11 12:24:29,438 : INFO : topic #85 (0.009): 0.138*\"storag\" + 0.102*\"-\" + 0.069*\"in\" + 0.061*\"alloc\" + 0.055*\"american\" + 0.054*\"for\" + 0.048*\"pars\" + 0.043*\"store\" + 0.043*\"back\" + 0.037*\"propos\"\n",
      "2021-02-11 12:24:29,438 : INFO : topic #84 (0.012): 0.052*\",\" + 0.046*\"and\" + 0.031*\"system\" + 0.031*\"to\" + 0.027*\"in\" + 0.024*\"is\" + 0.017*\"program\" + 0.016*\"for\" + 0.013*\"-\" + 0.013*\"it\"\n",
      "2021-02-11 12:24:29,440 : INFO : topic #35 (0.013): 0.046*\",\" + 0.037*\"to\" + 0.036*\"and\" + 0.033*\"is\" + 0.030*\"in\" + 0.019*\"data\" + 0.016*\"be\" + 0.016*\"system\" + 0.014*\"which\" + 0.014*\"use\"\n",
      "2021-02-11 12:24:29,441 : INFO : topic #39 (0.015): 0.380*\")\" + 0.359*\"(\" + 0.180*\"algorithm\" + 0.020*\"corrigendum\" + 0.020*\"order\" + 0.008*\"gener\" + 0.008*\"evalu\" + 0.004*\"arithmet\" + 0.004*\"card\" + 0.003*\"jacobi\"\n",
      "2021-02-11 12:24:29,442 : INFO : topic diff=0.669437, rho=0.422502\n",
      "2021-02-11 12:24:29,453 : INFO : PROGRESS: pass 4, at document #2000/3204\n",
      "2021-02-11 12:24:31,429 : INFO : optimized alpha [0.010349343, 0.011164706, 0.010123151, 0.010024658, 0.010562434, 0.010449233, 0.011536078, 0.010067921, 0.009582723, 0.010522943, 0.010293677, 0.009809549, 0.009853504, 0.010028429, 0.009896949, 0.0101702325, 0.010560783, 0.010444622, 0.010173699, 0.008460845, 0.010677169, 0.010610935, 0.0110305995, 0.011812629, 0.010553934, 0.01005067, 0.009644163, 0.009846263, 0.010211987, 0.009739083, 0.010581574, 0.010544961, 0.010400431, 0.010026326, 0.010424393, 0.013038601, 0.009662054, 0.010132457, 0.010027666, 0.01614654, 0.010164198, 0.010574531, 0.010362436, 0.011395703, 0.01045225, 0.010012185, 0.010650312, 0.009858168, 0.00973015, 0.010793984, 0.0100407535, 0.010405983, 0.010109031, 0.011012322, 0.009699903, 0.0110244425, 0.0095766075, 0.009839527, 0.009882727, 0.010199529, 0.010442913, 0.010481091, 0.010650711, 0.00998642, 0.00994269, 0.01041157, 0.009890815, 0.009999142, 0.011256804, 0.010696945, 0.010062176, 0.010582842, 0.010062369, 0.009370633, 0.010894994, 0.0100718, 0.011611585, 0.011249186, 0.01020986, 0.010056983, 0.010100236, 0.010507536, 0.010004645, 0.010255676, 0.0124179, 0.009521192, 0.011831396, 0.010095925, 0.010057744, 0.011185058, 0.00989719, 0.010176186, 0.0112756025, 0.00960932, 0.010652157, 0.009696512, 0.01086911, 0.01119508, 0.010195603, 0.010655872]\n",
      "2021-02-11 12:24:31,445 : INFO : merging changes from 2000 documents into a model of 3204 documents\n",
      "2021-02-11 12:24:31,472 : INFO : topic #19 (0.008): 0.001*\"lead\" + 0.001*\"debug\" + 0.001*\"major\" + 0.001*\"divid\" + 0.001*\"column\" + 0.001*\"verifi\" + 0.001*\"repetit\" + 0.001*\"reduc\" + 0.001*\"quit\" + 0.001*\"maximum\"\n",
      "2021-02-11 12:24:31,474 : INFO : topic #73 (0.009): 0.039*\"deadlock\" + 0.034*\"to\" + 0.030*\"prevent\" + 0.028*\"which\" + 0.028*\"alloc\" + 0.028*\"l\" + 0.026*\"origin\" + 0.026*\"and\" + 0.024*\"in\" + 0.023*\"order\"\n",
      "2021-02-11 12:24:31,479 : INFO : topic #84 (0.012): 0.054*\",\" + 0.045*\"and\" + 0.032*\"system\" + 0.031*\"to\" + 0.027*\"in\" + 0.023*\"is\" + 0.018*\"program\" + 0.016*\"for\" + 0.014*\"-\" + 0.013*\"it\"\n"
     ]
    },
    {
     "name": "stderr",
     "output_type": "stream",
     "text": [
      "2021-02-11 12:24:31,481 : INFO : topic #35 (0.013): 0.047*\",\" + 0.037*\"to\" + 0.036*\"and\" + 0.032*\"is\" + 0.031*\"in\" + 0.018*\"data\" + 0.016*\"be\" + 0.016*\"system\" + 0.015*\"which\" + 0.014*\"use\"\n",
      "2021-02-11 12:24:31,483 : INFO : topic #39 (0.016): 0.378*\")\" + 0.361*\"(\" + 0.189*\"algorithm\" + 0.016*\"order\" + 0.014*\"corrigendum\" + 0.009*\"evalu\" + 0.007*\"gener\" + 0.005*\"card\" + 0.004*\"arithmet\" + 0.004*\"punch\"\n",
      "2021-02-11 12:24:31,485 : INFO : topic diff=0.618012, rho=0.389191\n",
      "2021-02-11 12:24:33,925 : INFO : -6.482 per-word bound, 89.4 perplexity estimate based on a held-out corpus of 1204 documents with 79462 words\n",
      "2021-02-11 12:24:33,926 : INFO : PROGRESS: pass 4, at document #3204/3204\n",
      "2021-02-11 12:24:35,838 : INFO : optimized alpha [0.0105750095, 0.011537241, 0.010223435, 0.010182913, 0.01070573, 0.010605068, 0.011739457, 0.010177107, 0.009663926, 0.010560959, 0.01041681, 0.0098700095, 0.009977075, 0.010094022, 0.010064362, 0.010329729, 0.010771392, 0.010660899, 0.010318889, 0.0083455015, 0.010864719, 0.010842939, 0.011262333, 0.01213569, 0.010697843, 0.010173788, 0.009666148, 0.009898985, 0.010386589, 0.009763431, 0.01073901, 0.010710409, 0.010569437, 0.010118635, 0.010562277, 0.013396403, 0.009720141, 0.010185391, 0.0101042185, 0.017449971, 0.010293693, 0.0108156195, 0.010532831, 0.011684436, 0.010691025, 0.010123847, 0.010900338, 0.009973936, 0.009766016, 0.0110230185, 0.010085029, 0.010582228, 0.010150574, 0.011133486, 0.009745716, 0.011264824, 0.009560908, 0.009870616, 0.009989114, 0.010276988, 0.010586633, 0.010670483, 0.010792581, 0.010061549, 0.01000721, 0.010424387, 0.010000133, 0.010063899, 0.011498334, 0.010870121, 0.01021087, 0.010820444, 0.01020263, 0.009413964, 0.011094915, 0.010168508, 0.012063306, 0.011584317, 0.010405626, 0.010159912, 0.010251853, 0.010688681, 0.010087657, 0.0104584405, 0.012781516, 0.009580864, 0.012256522, 0.010260956, 0.010235717, 0.011541318, 0.010019438, 0.010302362, 0.01165379, 0.009697602, 0.010854003, 0.009866904, 0.01108664, 0.011453264, 0.010218509, 0.01087396]\n",
      "2021-02-11 12:24:35,850 : INFO : merging changes from 1204 documents into a model of 3204 documents\n",
      "2021-02-11 12:24:35,865 : INFO : topic #19 (0.008): 0.001*\"lead\" + 0.001*\"debug\" + 0.001*\"major\" + 0.001*\"divid\" + 0.001*\"column\" + 0.001*\"verifi\" + 0.001*\"repetit\" + 0.001*\"reduc\" + 0.001*\"quit\" + 0.001*\"maximum\"\n",
      "2021-02-11 12:24:35,866 : INFO : topic #73 (0.009): 0.045*\"deadlock\" + 0.038*\"alloc\" + 0.034*\"to\" + 0.033*\"prevent\" + 0.031*\"which\" + 0.030*\"origin\" + 0.028*\"resourc\" + 0.026*\"order\" + 0.025*\"l\" + 0.024*\"and\"\n",
      "2021-02-11 12:24:35,866 : INFO : topic #84 (0.013): 0.053*\",\" + 0.046*\"and\" + 0.033*\"system\" + 0.031*\"to\" + 0.026*\"in\" + 0.023*\"is\" + 0.018*\"program\" + 0.015*\"for\" + 0.014*\"it\" + 0.013*\"-\"\n",
      "2021-02-11 12:24:35,867 : INFO : topic #35 (0.013): 0.047*\",\" + 0.038*\"to\" + 0.037*\"and\" + 0.033*\"is\" + 0.031*\"in\" + 0.021*\"data\" + 0.017*\"be\" + 0.016*\"system\" + 0.015*\"which\" + 0.014*\"use\"\n",
      "2021-02-11 12:24:35,868 : INFO : topic #39 (0.017): 0.388*\")\" + 0.370*\"(\" + 0.174*\"algorithm\" + 0.018*\"corrigendum\" + 0.015*\"order\" + 0.007*\"evalu\" + 0.007*\"gener\" + 0.004*\"card\" + 0.003*\"arithmet\" + 0.003*\"jacobi\"\n",
      "2021-02-11 12:24:35,869 : INFO : topic diff=0.681335, rho=0.389191\n",
      "2021-02-11 12:24:35,882 : INFO : PROGRESS: pass 5, at document #2000/3204\n",
      "2021-02-11 12:24:37,617 : INFO : optimized alpha [0.010581218, 0.011692728, 0.010203251, 0.010189965, 0.01073632, 0.010582609, 0.012097498, 0.010169892, 0.009660211, 0.010824115, 0.010485479, 0.009903678, 0.010038535, 0.010127792, 0.010088615, 0.010366494, 0.010815651, 0.010721139, 0.010405875, 0.008263344, 0.0108419545, 0.010844912, 0.011383749, 0.012152326, 0.010698612, 0.010123419, 0.009727469, 0.009991833, 0.010450398, 0.009732255, 0.010881206, 0.010667443, 0.0105544925, 0.010204891, 0.010693666, 0.013378722, 0.009704908, 0.010231388, 0.01018724, 0.018906996, 0.010406858, 0.01086449, 0.010480243, 0.011687363, 0.010730342, 0.010144697, 0.011006166, 0.010005278, 0.009799014, 0.011148197, 0.010196022, 0.010609507, 0.01025869, 0.0113964705, 0.009739413, 0.011301999, 0.009599325, 0.009938074, 0.009998559, 0.0102772815, 0.01067258, 0.010688036, 0.010940272, 0.010058284, 0.009985552, 0.010570054, 0.010016845, 0.010090295, 0.011655089, 0.01101736, 0.010178626, 0.010903919, 0.010225395, 0.0093613835, 0.011208823, 0.010154031, 0.012229848, 0.011568325, 0.010357999, 0.010232864, 0.010329809, 0.010817472, 0.010098125, 0.010460673, 0.012795167, 0.009639819, 0.01224569, 0.010325708, 0.010272396, 0.011728007, 0.0100262705, 0.010382707, 0.011693979, 0.00970491, 0.010884988, 0.010021854, 0.011036708, 0.011423259, 0.010337699, 0.010859394]\n",
      "2021-02-11 12:24:37,630 : INFO : merging changes from 2000 documents into a model of 3204 documents\n",
      "2021-02-11 12:24:37,647 : INFO : topic #19 (0.008): 0.001*\"lead\" + 0.001*\"debug\" + 0.001*\"major\" + 0.001*\"divid\" + 0.001*\"column\" + 0.001*\"verifi\" + 0.001*\"repetit\" + 0.001*\"reduc\" + 0.001*\"quit\" + 0.001*\"maximum\"\n",
      "2021-02-11 12:24:37,649 : INFO : topic #73 (0.009): 0.039*\"deadlock\" + 0.034*\"to\" + 0.032*\"alloc\" + 0.031*\"which\" + 0.030*\"prevent\" + 0.028*\"l\" + 0.027*\"origin\" + 0.025*\"order\" + 0.024*\"resourc\" + 0.023*\"and\"\n",
      "2021-02-11 12:24:37,650 : INFO : topic #84 (0.013): 0.054*\",\" + 0.045*\"and\" + 0.033*\"system\" + 0.031*\"to\" + 0.026*\"in\" + 0.022*\"is\" + 0.019*\"program\" + 0.015*\"for\" + 0.014*\"-\" + 0.013*\"it\"\n",
      "2021-02-11 12:24:37,651 : INFO : topic #35 (0.013): 0.048*\",\" + 0.038*\"to\" + 0.037*\"and\" + 0.032*\"is\" + 0.031*\"in\" + 0.020*\"data\" + 0.017*\"be\" + 0.016*\"system\" + 0.015*\"which\" + 0.014*\"use\"\n",
      "2021-02-11 12:24:37,652 : INFO : topic #39 (0.019): 0.385*\")\" + 0.371*\"(\" + 0.182*\"algorithm\" + 0.013*\"corrigendum\" + 0.013*\"order\" + 0.008*\"evalu\" + 0.006*\"gener\" + 0.004*\"card\" + 0.003*\"jacobi\" + 0.003*\"punch\"\n",
      "2021-02-11 12:24:37,654 : INFO : topic diff=0.603482, rho=0.362690\n",
      "2021-02-11 12:24:39,930 : INFO : -6.450 per-word bound, 87.5 perplexity estimate based on a held-out corpus of 1204 documents with 79462 words\n",
      "2021-02-11 12:24:39,931 : INFO : PROGRESS: pass 5, at document #3204/3204\n",
      "2021-02-11 12:24:41,984 : INFO : optimized alpha [0.010806868, 0.012095665, 0.010303843, 0.010341872, 0.0108676115, 0.010738766, 0.012288486, 0.010294292, 0.009748526, 0.0108673405, 0.01060713, 0.009978425, 0.010194097, 0.010195465, 0.010273765, 0.010516502, 0.011030798, 0.010941663, 0.010570428, 0.008161737, 0.011022159, 0.011067157, 0.011605984, 0.012446991, 0.01084044, 0.010242232, 0.009760153, 0.01005297, 0.010640144, 0.009762304, 0.01101565, 0.010842828, 0.01072342, 0.0103005925, 0.010822822, 0.013699834, 0.009759932, 0.010293739, 0.010268112, 0.020408235, 0.010537709, 0.011102411, 0.010646818, 0.011974508, 0.010946266, 0.0102588, 0.011266824, 0.01012921, 0.009835848, 0.011381531, 0.010236845, 0.010775269, 0.010322144, 0.011525703, 0.009774203, 0.011535551, 0.009585527, 0.009973233, 0.010092527, 0.010365683, 0.010813757, 0.010869544, 0.011076256, 0.01013516, 0.010043699, 0.010581039, 0.010134738, 0.010154252, 0.01189068, 0.011214385, 0.010315373, 0.011141984, 0.010363344, 0.009408887, 0.011407142, 0.0102544, 0.012641903, 0.011889827, 0.010551732, 0.010338562, 0.010491188, 0.011011059, 0.010182279, 0.010651825, 0.013130061, 0.009716333, 0.012654627, 0.010499852, 0.010471279, 0.012104965, 0.010141097, 0.010504201, 0.012072804, 0.009793844, 0.011081576, 0.010228612, 0.011227584, 0.011673827, 0.010380421, 0.01105826]\n",
      "2021-02-11 12:24:41,996 : INFO : merging changes from 1204 documents into a model of 3204 documents\n",
      "2021-02-11 12:24:42,011 : INFO : topic #19 (0.008): 0.001*\"lead\" + 0.001*\"debug\" + 0.001*\"major\" + 0.001*\"divid\" + 0.001*\"column\" + 0.001*\"verifi\" + 0.001*\"repetit\" + 0.001*\"reduc\" + 0.001*\"quit\" + 0.001*\"maximum\"\n",
      "2021-02-11 12:24:42,012 : INFO : topic #73 (0.009): 0.044*\"deadlock\" + 0.040*\"alloc\" + 0.035*\"to\" + 0.034*\"which\" + 0.033*\"prevent\" + 0.032*\"resourc\" + 0.030*\"origin\" + 0.028*\"order\" + 0.025*\"l\" + 0.022*\"effici\"\n",
      "2021-02-11 12:24:42,012 : INFO : topic #84 (0.013): 0.053*\",\" + 0.046*\"and\" + 0.034*\"system\" + 0.031*\"to\" + 0.026*\"in\" + 0.023*\"is\" + 0.018*\"program\" + 0.015*\"for\" + 0.014*\"it\" + 0.013*\"-\"\n",
      "2021-02-11 12:24:42,013 : INFO : topic #35 (0.014): 0.048*\",\" + 0.038*\"to\" + 0.037*\"and\" + 0.033*\"is\" + 0.031*\"in\" + 0.023*\"data\" + 0.017*\"be\" + 0.016*\"system\" + 0.015*\"which\" + 0.014*\"use\"\n"
     ]
    },
    {
     "name": "stderr",
     "output_type": "stream",
     "text": [
      "2021-02-11 12:24:42,014 : INFO : topic #39 (0.020): 0.393*\")\" + 0.378*\"(\" + 0.170*\"algorithm\" + 0.017*\"corrigendum\" + 0.012*\"order\" + 0.007*\"evalu\" + 0.005*\"gener\" + 0.003*\"card\" + 0.003*\"jacobi\" + 0.002*\"punch\"\n",
      "2021-02-11 12:24:42,015 : INFO : topic diff=0.629951, rho=0.362690\n",
      "2021-02-11 12:24:42,028 : INFO : PROGRESS: pass 6, at document #2000/3204\n",
      "2021-02-11 12:24:43,924 : INFO : optimized alpha [0.010815215, 0.012262405, 0.0102868285, 0.010364084, 0.010909488, 0.010719041, 0.012657166, 0.01028204, 0.009751924, 0.011130869, 0.010686491, 0.010024021, 0.0102641955, 0.010234664, 0.010310127, 0.01055626, 0.011073677, 0.011003619, 0.010654507, 0.008088681, 0.011005716, 0.011073594, 0.011722994, 0.012460904, 0.010848508, 0.010203918, 0.009833708, 0.010153161, 0.010703711, 0.009734191, 0.011147092, 0.010803653, 0.010729347, 0.010403615, 0.010940297, 0.013680535, 0.009742972, 0.010342796, 0.010361153, 0.02200326, 0.010657861, 0.0111570535, 0.010609691, 0.011990019, 0.010990154, 0.010289047, 0.011386456, 0.010158633, 0.009864033, 0.011519598, 0.0103456685, 0.010809695, 0.010433886, 0.011776324, 0.009775695, 0.0115734665, 0.009642242, 0.010037377, 0.010098159, 0.010375103, 0.010900666, 0.010883555, 0.011211041, 0.010128956, 0.010024027, 0.010710326, 0.010157439, 0.010188235, 0.012064811, 0.011374197, 0.010286594, 0.011218569, 0.0103933625, 0.009362214, 0.011524669, 0.01024104, 0.012802065, 0.011880424, 0.010511387, 0.010420016, 0.010573737, 0.011127798, 0.010190669, 0.010654943, 0.013149674, 0.009788921, 0.012651752, 0.010582452, 0.01051597, 0.012312721, 0.010156154, 0.0105821295, 0.012123164, 0.009809227, 0.011115691, 0.010420901, 0.011187545, 0.011650119, 0.010495353, 0.011053117]\n",
      "2021-02-11 12:24:43,937 : INFO : merging changes from 2000 documents into a model of 3204 documents\n",
      "2021-02-11 12:24:43,956 : INFO : topic #19 (0.008): 0.001*\"lead\" + 0.001*\"debug\" + 0.001*\"major\" + 0.001*\"divid\" + 0.001*\"column\" + 0.001*\"verifi\" + 0.001*\"repetit\" + 0.001*\"reduc\" + 0.001*\"quit\" + 0.001*\"maximum\"\n",
      "2021-02-11 12:24:43,958 : INFO : topic #73 (0.009): 0.039*\"deadlock\" + 0.035*\"alloc\" + 0.035*\"to\" + 0.034*\"which\" + 0.030*\"prevent\" + 0.028*\"l\" + 0.028*\"resourc\" + 0.028*\"origin\" + 0.027*\"order\" + 0.022*\"incorpor\"\n",
      "2021-02-11 12:24:43,959 : INFO : topic #84 (0.013): 0.054*\",\" + 0.045*\"and\" + 0.034*\"system\" + 0.030*\"to\" + 0.026*\"in\" + 0.022*\"is\" + 0.019*\"program\" + 0.015*\"for\" + 0.014*\"-\" + 0.014*\"it\"\n",
      "2021-02-11 12:24:43,961 : INFO : topic #35 (0.014): 0.049*\",\" + 0.039*\"to\" + 0.037*\"and\" + 0.032*\"is\" + 0.031*\"in\" + 0.022*\"data\" + 0.018*\"be\" + 0.016*\"system\" + 0.016*\"which\" + 0.014*\"use\"\n",
      "2021-02-11 12:24:43,962 : INFO : topic #39 (0.022): 0.389*\")\" + 0.378*\"(\" + 0.179*\"algorithm\" + 0.013*\"corrigendum\" + 0.011*\"order\" + 0.008*\"evalu\" + 0.005*\"gener\" + 0.004*\"card\" + 0.003*\"jacobi\" + 0.003*\"punch\"\n",
      "2021-02-11 12:24:43,963 : INFO : topic diff=0.546470, rho=0.340958\n",
      "2021-02-11 12:24:46,182 : INFO : -6.425 per-word bound, 85.9 perplexity estimate based on a held-out corpus of 1204 documents with 79462 words\n",
      "2021-02-11 12:24:46,183 : INFO : PROGRESS: pass 6, at document #3204/3204\n",
      "2021-02-11 12:24:48,138 : INFO : optimized alpha [0.011039175, 0.012694893, 0.0103794485, 0.010519964, 0.011043368, 0.01087017, 0.01283753, 0.010394085, 0.009849912, 0.011178979, 0.010813709, 0.010086107, 0.010429497, 0.010307473, 0.010480466, 0.0107014375, 0.011294294, 0.011235975, 0.010822808, 0.007997985, 0.011173782, 0.011294461, 0.011937888, 0.012745655, 0.010970391, 0.01033414, 0.009875933, 0.01021642, 0.01090235, 0.009788852, 0.011277125, 0.010988977, 0.010911426, 0.010505819, 0.0110714445, 0.013982013, 0.009812225, 0.010398818, 0.010440308, 0.023642866, 0.010781698, 0.011406247, 0.010767766, 0.012263922, 0.011205319, 0.0104058515, 0.01165239, 0.010307895, 0.0099076405, 0.0117387585, 0.010386657, 0.010966835, 0.01049357, 0.01190421, 0.009820347, 0.011795601, 0.009640724, 0.010073448, 0.01020472, 0.010458872, 0.011031149, 0.011062069, 0.011348957, 0.01020493, 0.010093914, 0.010726115, 0.010272133, 0.010251697, 0.012292911, 0.011601331, 0.010425068, 0.011468232, 0.010535878, 0.0094187185, 0.011713177, 0.010342114, 0.013206933, 0.012170573, 0.010722109, 0.010525836, 0.0107361, 0.011324631, 0.010273405, 0.010842695, 0.013462983, 0.009866785, 0.013047974, 0.010748033, 0.010699215, 0.012698608, 0.010273691, 0.010696995, 0.01251228, 0.009901803, 0.011302403, 0.010651738, 0.011384943, 0.011888688, 0.010544161, 0.011254697]\n",
      "2021-02-11 12:24:48,148 : INFO : merging changes from 1204 documents into a model of 3204 documents\n",
      "2021-02-11 12:24:48,163 : INFO : topic #19 (0.008): 0.001*\"lead\" + 0.001*\"debug\" + 0.001*\"major\" + 0.001*\"divid\" + 0.001*\"column\" + 0.001*\"verifi\" + 0.001*\"repetit\" + 0.001*\"reduc\" + 0.001*\"quit\" + 0.001*\"maximum\"\n",
      "2021-02-11 12:24:48,164 : INFO : topic #73 (0.009): 0.044*\"alloc\" + 0.043*\"deadlock\" + 0.036*\"which\" + 0.036*\"resourc\" + 0.036*\"to\" + 0.032*\"prevent\" + 0.029*\"origin\" + 0.028*\"order\" + 0.025*\"l\" + 0.023*\"effici\"\n",
      "2021-02-11 12:24:48,164 : INFO : topic #84 (0.013): 0.053*\",\" + 0.046*\"and\" + 0.035*\"system\" + 0.030*\"to\" + 0.025*\"in\" + 0.023*\"is\" + 0.019*\"program\" + 0.015*\"for\" + 0.014*\"it\" + 0.014*\"design\"\n",
      "2021-02-11 12:24:48,165 : INFO : topic #35 (0.014): 0.049*\",\" + 0.039*\"to\" + 0.038*\"and\" + 0.033*\"is\" + 0.031*\"in\" + 0.024*\"data\" + 0.018*\"be\" + 0.016*\"system\" + 0.016*\"which\" + 0.014*\"use\"\n",
      "2021-02-11 12:24:48,166 : INFO : topic #39 (0.024): 0.397*\")\" + 0.384*\"(\" + 0.166*\"algorithm\" + 0.016*\"corrigendum\" + 0.010*\"order\" + 0.007*\"evalu\" + 0.004*\"gener\" + 0.003*\"card\" + 0.003*\"jacobi\" + 0.002*\"punch\"\n",
      "2021-02-11 12:24:48,167 : INFO : topic diff=0.556251, rho=0.340958\n",
      "2021-02-11 12:24:48,179 : INFO : PROGRESS: pass 7, at document #2000/3204\n",
      "2021-02-11 12:24:50,011 : INFO : optimized alpha [0.011051443, 0.012854941, 0.010365298, 0.010544051, 0.011086733, 0.010856404, 0.013235056, 0.010392757, 0.009861382, 0.011442559, 0.010896338, 0.010134699, 0.010497801, 0.010344942, 0.0105231805, 0.010742452, 0.0113343075, 0.011298, 0.010907999, 0.007932291, 0.01116322, 0.011301357, 0.012051413, 0.01277403, 0.010974449, 0.010302844, 0.009951259, 0.010323871, 0.010965917, 0.009769264, 0.011412111, 0.010951207, 0.010929086, 0.010614641, 0.011181867, 0.013966264, 0.009799799, 0.010449227, 0.0105377985, 0.025379794, 0.01091075, 0.01145542, 0.010735732, 0.012281091, 0.011262755, 0.010441301, 0.011779952, 0.010340552, 0.009944428, 0.0118784895, 0.010492353, 0.011006282, 0.010605689, 0.012151969, 0.009830421, 0.011830698, 0.009702933, 0.010141394, 0.010215085, 0.010473191, 0.011119404, 0.011074813, 0.011472469, 0.01019943, 0.010074202, 0.0108324075, 0.010295347, 0.010282575, 0.012468293, 0.011764596, 0.01040429, 0.01154995, 0.010565894, 0.009383057, 0.011827129, 0.01033806, 0.013374679, 0.012153711, 0.010684483, 0.01061037, 0.010813021, 0.011450806, 0.010278309, 0.010846627, 0.013479664, 0.009945786, 0.013037575, 0.010838952, 0.010753413, 0.012918088, 0.0102913, 0.010783479, 0.0125662, 0.009919716, 0.011334251, 0.010867566, 0.011357261, 0.011878605, 0.010659114, 0.011252591]\n",
      "2021-02-11 12:24:50,024 : INFO : merging changes from 2000 documents into a model of 3204 documents\n",
      "2021-02-11 12:24:50,045 : INFO : topic #19 (0.008): 0.001*\"lead\" + 0.001*\"debug\" + 0.001*\"major\" + 0.001*\"divid\" + 0.001*\"column\" + 0.001*\"verifi\" + 0.001*\"repetit\" + 0.001*\"reduc\" + 0.001*\"quit\" + 0.001*\"maximum\"\n",
      "2021-02-11 12:24:50,045 : INFO : topic #73 (0.009): 0.038*\"deadlock\" + 0.038*\"alloc\" + 0.036*\"which\" + 0.035*\"to\" + 0.031*\"resourc\" + 0.030*\"prevent\" + 0.029*\"origin\" + 0.028*\"l\" + 0.028*\"order\" + 0.022*\"effici\"\n",
      "2021-02-11 12:24:50,046 : INFO : topic #84 (0.013): 0.054*\",\" + 0.045*\"and\" + 0.034*\"system\" + 0.030*\"to\" + 0.026*\"in\" + 0.022*\"is\" + 0.020*\"program\" + 0.015*\"for\" + 0.014*\"-\" + 0.014*\"it\"\n",
      "2021-02-11 12:24:50,048 : INFO : topic #35 (0.014): 0.050*\",\" + 0.039*\"to\" + 0.038*\"and\" + 0.033*\"is\" + 0.031*\"in\" + 0.024*\"data\" + 0.018*\"be\" + 0.016*\"system\" + 0.016*\"which\" + 0.014*\"use\"\n",
      "2021-02-11 12:24:50,048 : INFO : topic #39 (0.025): 0.394*\")\" + 0.384*\"(\" + 0.174*\"algorithm\" + 0.012*\"corrigendum\" + 0.009*\"order\" + 0.008*\"evalu\" + 0.004*\"gener\" + 0.003*\"card\" + 0.003*\"jacobi\" + 0.003*\"punch\"\n",
      "2021-02-11 12:24:50,050 : INFO : topic diff=0.479113, rho=0.322715\n"
     ]
    },
    {
     "name": "stderr",
     "output_type": "stream",
     "text": [
      "2021-02-11 12:24:52,153 : INFO : -6.409 per-word bound, 85.0 perplexity estimate based on a held-out corpus of 1204 documents with 79462 words\n",
      "2021-02-11 12:24:52,154 : INFO : PROGRESS: pass 7, at document #3204/3204\n",
      "2021-02-11 12:24:53,983 : INFO : optimized alpha [0.011281105, 0.0132944, 0.010456636, 0.010704492, 0.011211458, 0.011000787, 0.013405968, 0.010516611, 0.00997925, 0.011504713, 0.011032328, 0.010196566, 0.010681318, 0.010417213, 0.010700371, 0.010883935, 0.0115549825, 0.011530438, 0.011083537, 0.00785046, 0.011326994, 0.011515918, 0.012263725, 0.013061458, 0.011096826, 0.01043845, 0.009991266, 0.010394793, 0.011162103, 0.009827244, 0.011541833, 0.011140406, 0.011112307, 0.010723306, 0.011309721, 0.01425093, 0.009876699, 0.010494137, 0.010610024, 0.027173411, 0.011037383, 0.011697917, 0.010889699, 0.0125339115, 0.01147217, 0.010552775, 0.01206511, 0.010480406, 0.009988788, 0.012091765, 0.010533634, 0.011162139, 0.010664964, 0.012279216, 0.009875925, 0.012033553, 0.009704405, 0.010183985, 0.010314029, 0.010564416, 0.011252712, 0.011248521, 0.011594381, 0.010274846, 0.010135829, 0.010852939, 0.010399238, 0.010343195, 0.012676766, 0.011992989, 0.010536436, 0.01178981, 0.010696349, 0.009445031, 0.012004178, 0.010426164, 0.013781841, 0.012448784, 0.010891935, 0.010719572, 0.010965217, 0.011651787, 0.010357352, 0.011035107, 0.013787783, 0.010043849, 0.013430918, 0.011008934, 0.010943435, 0.013322052, 0.0104145985, 0.010892882, 0.0129570225, 0.010013369, 0.011506526, 0.011134699, 0.011561483, 0.012107295, 0.010716685, 0.011442324]\n",
      "2021-02-11 12:24:53,992 : INFO : merging changes from 1204 documents into a model of 3204 documents\n",
      "2021-02-11 12:24:54,007 : INFO : topic #19 (0.008): 0.001*\"lead\" + 0.001*\"debug\" + 0.001*\"major\" + 0.001*\"divid\" + 0.001*\"column\" + 0.001*\"verifi\" + 0.001*\"repetit\" + 0.001*\"reduc\" + 0.001*\"quit\" + 0.001*\"maximum\"\n",
      "2021-02-11 12:24:54,008 : INFO : topic #73 (0.009): 0.048*\"alloc\" + 0.042*\"deadlock\" + 0.039*\"resourc\" + 0.038*\"which\" + 0.036*\"to\" + 0.031*\"origin\" + 0.031*\"prevent\" + 0.028*\"order\" + 0.025*\"l\" + 0.023*\"effici\"\n",
      "2021-02-11 12:24:54,010 : INFO : topic #84 (0.014): 0.053*\",\" + 0.045*\"and\" + 0.035*\"system\" + 0.031*\"to\" + 0.025*\"in\" + 0.022*\"is\" + 0.019*\"program\" + 0.015*\"design\" + 0.015*\"for\" + 0.014*\"it\"\n",
      "2021-02-11 12:24:54,011 : INFO : topic #35 (0.014): 0.050*\",\" + 0.040*\"to\" + 0.038*\"and\" + 0.034*\"is\" + 0.031*\"in\" + 0.026*\"data\" + 0.018*\"be\" + 0.016*\"which\" + 0.016*\"system\" + 0.013*\"use\"\n",
      "2021-02-11 12:24:54,011 : INFO : topic #39 (0.027): 0.401*\")\" + 0.390*\"(\" + 0.162*\"algorithm\" + 0.015*\"corrigendum\" + 0.009*\"order\" + 0.007*\"evalu\" + 0.003*\"gener\" + 0.002*\"jacobi\" + 0.002*\"card\" + 0.002*\"punch\"\n",
      "2021-02-11 12:24:54,012 : INFO : topic diff=0.484392, rho=0.322715\n",
      "2021-02-11 12:24:54,023 : INFO : PROGRESS: pass 8, at document #2000/3204\n",
      "2021-02-11 12:24:55,806 : INFO : optimized alpha [0.011298694, 0.013462682, 0.010445033, 0.010730355, 0.011263337, 0.010989146, 0.0138129415, 0.010513644, 0.010001, 0.011771297, 0.011114937, 0.010240145, 0.010748111, 0.010458043, 0.010745833, 0.010924602, 0.011596047, 0.01159458, 0.011171824, 0.0077908747, 0.0113164885, 0.011525098, 0.012366761, 0.013101511, 0.011100684, 0.010408442, 0.010073051, 0.010502926, 0.011239838, 0.009816828, 0.011677133, 0.011114128, 0.011133878, 0.010833034, 0.011410575, 0.014240997, 0.009866726, 0.01055098, 0.010712019, 0.029038312, 0.011158417, 0.011744121, 0.010857091, 0.012545111, 0.011528434, 0.010589942, 0.012206475, 0.01051465, 0.010021276, 0.012231869, 0.010635236, 0.011201231, 0.010786077, 0.012521475, 0.009899735, 0.012071925, 0.009771876, 0.010249368, 0.01033207, 0.010579846, 0.011349467, 0.011263591, 0.011722056, 0.010269907, 0.010125446, 0.010948338, 0.010427883, 0.010374656, 0.0128540415, 0.0121639455, 0.010511589, 0.011871232, 0.01072323, 0.00941319, 0.01211159, 0.010419356, 0.013944998, 0.012436426, 0.010856694, 0.010802372, 0.011038854, 0.011785858, 0.010359172, 0.01104848, 0.013801794, 0.010119682, 0.013432605, 0.011104605, 0.011003403, 0.013552067, 0.010436154, 0.010984328, 0.013013008, 0.010032114, 0.011538198, 0.011361178, 0.01154314, 0.012098501, 0.01083864, 0.011441441]\n",
      "2021-02-11 12:24:55,816 : INFO : merging changes from 2000 documents into a model of 3204 documents\n",
      "2021-02-11 12:24:55,832 : INFO : topic #19 (0.008): 0.001*\"lead\" + 0.001*\"debug\" + 0.001*\"major\" + 0.001*\"divid\" + 0.001*\"column\" + 0.001*\"verifi\" + 0.001*\"repetit\" + 0.001*\"reduc\" + 0.001*\"quit\" + 0.001*\"maximum\"\n",
      "2021-02-11 12:24:55,833 : INFO : topic #73 (0.009): 0.042*\"alloc\" + 0.038*\"which\" + 0.038*\"deadlock\" + 0.036*\"to\" + 0.034*\"resourc\" + 0.031*\"origin\" + 0.029*\"prevent\" + 0.028*\"l\" + 0.028*\"order\" + 0.023*\"effici\"\n",
      "2021-02-11 12:24:55,834 : INFO : topic #76 (0.014): 0.291*\"s\" + 0.273*\"'\" + 0.048*\"for\" + 0.035*\"and\" + 0.029*\"path\" + 0.024*\"method\" + 0.023*\"to\" + 0.020*\"partial\" + 0.018*\"is\" + 0.018*\"-\"\n",
      "2021-02-11 12:24:55,836 : INFO : topic #35 (0.014): 0.050*\",\" + 0.040*\"to\" + 0.038*\"and\" + 0.033*\"is\" + 0.031*\"in\" + 0.025*\"data\" + 0.018*\"be\" + 0.017*\"which\" + 0.016*\"system\" + 0.014*\"use\"\n",
      "2021-02-11 12:24:55,837 : INFO : topic #39 (0.029): 0.397*\")\" + 0.388*\"(\" + 0.171*\"algorithm\" + 0.012*\"corrigendum\" + 0.008*\"order\" + 0.008*\"evalu\" + 0.003*\"card\" + 0.003*\"jacobi\" + 0.003*\"gener\" + 0.002*\"punch\"\n",
      "2021-02-11 12:24:55,839 : INFO : topic diff=0.416660, rho=0.307119\n",
      "2021-02-11 12:24:57,938 : INFO : -6.394 per-word bound, 84.1 perplexity estimate based on a held-out corpus of 1204 documents with 79462 words\n",
      "2021-02-11 12:24:57,939 : INFO : PROGRESS: pass 8, at document #3204/3204\n",
      "2021-02-11 12:24:59,777 : INFO : optimized alpha [0.0115289185, 0.013917791, 0.010535467, 0.010898346, 0.011385918, 0.011127695, 0.013975285, 0.010643312, 0.010137659, 0.011844065, 0.011259652, 0.010304651, 0.010944017, 0.010524561, 0.010916536, 0.011068782, 0.0118057495, 0.011825093, 0.01134922, 0.007716408, 0.011473818, 0.011737589, 0.012574409, 0.013399658, 0.011212384, 0.010546698, 0.010113871, 0.010570492, 0.011454789, 0.009877898, 0.011801215, 0.011293249, 0.011324732, 0.010948161, 0.0115329325, 0.014507424, 0.009950778, 0.010596673, 0.010786465, 0.0309364, 0.011282575, 0.011987247, 0.011007661, 0.012804962, 0.011745222, 0.010705111, 0.012502259, 0.010651578, 0.010069087, 0.012437256, 0.010674342, 0.011345166, 0.010853507, 0.012645473, 0.009943662, 0.012266978, 0.009770987, 0.010284879, 0.010440398, 0.010675464, 0.011459485, 0.011427645, 0.011835464, 0.010345078, 0.010195319, 0.010973368, 0.010530168, 0.0104461545, 0.013071389, 0.0124070225, 0.010635729, 0.012102947, 0.010851192, 0.0094876, 0.0122814225, 0.010501238, 0.014348808, 0.012718065, 0.011070182, 0.010912481, 0.011185051, 0.011982548, 0.010429731, 0.0112242205, 0.01410631, 0.010213653, 0.013828369, 0.011271025, 0.011186362, 0.013958004, 0.01055706, 0.011097526, 0.013417425, 0.0101270955, 0.011700698, 0.011659954, 0.011736552, 0.012309136, 0.010926743, 0.011623914]\n",
      "2021-02-11 12:24:59,787 : INFO : merging changes from 1204 documents into a model of 3204 documents\n",
      "2021-02-11 12:24:59,801 : INFO : topic #19 (0.008): 0.001*\"lead\" + 0.001*\"debug\" + 0.001*\"major\" + 0.001*\"divid\" + 0.001*\"column\" + 0.001*\"verifi\" + 0.001*\"repetit\" + 0.001*\"reduc\" + 0.001*\"quit\" + 0.001*\"maximum\"\n",
      "2021-02-11 12:24:59,803 : INFO : topic #73 (0.009): 0.053*\"alloc\" + 0.045*\"resourc\" + 0.041*\"which\" + 0.040*\"deadlock\" + 0.037*\"to\" + 0.031*\"origin\" + 0.030*\"prevent\" + 0.028*\"order\" + 0.024*\"l\" + 0.023*\"effici\"\n",
      "2021-02-11 12:24:59,803 : INFO : topic #76 (0.014): 0.299*\"s\" + 0.281*\"'\" + 0.047*\"for\" + 0.034*\"and\" + 0.031*\"path\" + 0.024*\"to\" + 0.020*\"method\" + 0.019*\"partial\" + 0.018*\"is\" + 0.017*\"-\"\n",
      "2021-02-11 12:24:59,804 : INFO : topic #35 (0.015): 0.051*\",\" + 0.040*\"to\" + 0.039*\"and\" + 0.034*\"is\" + 0.030*\"in\" + 0.027*\"data\" + 0.018*\"be\" + 0.016*\"which\" + 0.016*\"system\" + 0.014*\"are\"\n",
      "2021-02-11 12:24:59,805 : INFO : topic #39 (0.031): 0.403*\")\" + 0.394*\"(\" + 0.160*\"algorithm\" + 0.015*\"corrigendum\" + 0.008*\"order\" + 0.007*\"evalu\" + 0.002*\"jacobi\" + 0.002*\"gener\" + 0.002*\"card\" + 0.001*\"punch\"\n",
      "2021-02-11 12:24:59,806 : INFO : topic diff=0.421328, rho=0.307119\n",
      "2021-02-11 12:24:59,817 : INFO : PROGRESS: pass 9, at document #2000/3204\n",
      "2021-02-11 12:25:01,561 : INFO : optimized alpha [0.011543079, 0.014086716, 0.010530769, 0.010929186, 0.011440909, 0.011116374, 0.01438443, 0.010648227, 0.010168932, 0.012105966, 0.011337456, 0.010349723, 0.011009639, 0.010564049, 0.010969559, 0.011107608, 0.011849832, 0.0118966885, 0.011437465, 0.0076619536, 0.011470243, 0.0117454855, 0.012671586, 0.01344075, 0.011224558, 0.010519298, 0.010197452, 0.010684342, 0.011529239, 0.00987428, 0.011930347, 0.011267517, 0.011371981, 0.011060625, 0.011625066, 0.014494368, 0.009948844, 0.010643785, 0.010893075, 0.032951202, 0.011407982, 0.012034262, 0.010981014, 0.0128239915, 0.011805756, 0.010739196, 0.012653751, 0.010679539, 0.010102117, 0.012576222, 0.010772396, 0.011389192, 0.010972341, 0.012881308, 0.009980151, 0.012297739, 0.009836296, 0.010351055, 0.010460857, 0.010693585, 0.011561249, 0.011443386, 0.011962335, 0.010345276, 0.010184311, 0.011065448, 0.010559312, 0.010482729, 0.013247366, 0.012584493, 0.010616607, 0.012184527, 0.0108784335, 0.009456083, 0.0123775415, 0.010495017, 0.014505799, 0.012712095, 0.011035354, 0.010995486, 0.011262444, 0.012112236, 0.010436477, 0.011231506, 0.014113719, 0.010286815, 0.013822808, 0.01136154, 0.011248699, 0.014197143, 0.010574507, 0.011192245, 0.013481234, 0.01015254, 0.011732472, 0.01189464, 0.011728649, 0.01229798, 0.011049457, 0.011624148]\n"
     ]
    },
    {
     "name": "stderr",
     "output_type": "stream",
     "text": [
      "2021-02-11 12:25:01,572 : INFO : merging changes from 2000 documents into a model of 3204 documents\n",
      "2021-02-11 12:25:01,592 : INFO : topic #19 (0.008): 0.001*\"lead\" + 0.001*\"debug\" + 0.001*\"major\" + 0.001*\"divid\" + 0.001*\"column\" + 0.001*\"verifi\" + 0.001*\"repetit\" + 0.001*\"reduc\" + 0.001*\"quit\" + 0.001*\"maximum\"\n",
      "2021-02-11 12:25:01,593 : INFO : topic #73 (0.009): 0.047*\"alloc\" + 0.041*\"which\" + 0.040*\"resourc\" + 0.037*\"deadlock\" + 0.036*\"to\" + 0.031*\"origin\" + 0.029*\"prevent\" + 0.028*\"l\" + 0.028*\"order\" + 0.023*\"effici\"\n",
      "2021-02-11 12:25:01,594 : INFO : topic #35 (0.014): 0.051*\",\" + 0.040*\"to\" + 0.039*\"and\" + 0.033*\"is\" + 0.031*\"in\" + 0.026*\"data\" + 0.018*\"be\" + 0.017*\"which\" + 0.017*\"system\" + 0.014*\"are\"\n",
      "2021-02-11 12:25:01,595 : INFO : topic #76 (0.015): 0.302*\"s\" + 0.285*\"'\" + 0.047*\"for\" + 0.034*\"and\" + 0.030*\"path\" + 0.023*\"to\" + 0.020*\"method\" + 0.019*\"partial\" + 0.017*\"is\" + 0.017*\"-\"\n",
      "2021-02-11 12:25:01,596 : INFO : topic #39 (0.033): 0.399*\")\" + 0.392*\"(\" + 0.168*\"algorithm\" + 0.012*\"corrigendum\" + 0.007*\"evalu\" + 0.007*\"order\" + 0.003*\"jacobi\" + 0.002*\"card\" + 0.002*\"gener\" + 0.002*\"punch\"\n",
      "2021-02-11 12:25:01,597 : INFO : topic diff=0.362544, rho=0.293585\n",
      "2021-02-11 12:25:03,586 : INFO : -6.379 per-word bound, 83.2 perplexity estimate based on a held-out corpus of 1204 documents with 79462 words\n",
      "2021-02-11 12:25:03,587 : INFO : PROGRESS: pass 9, at document #3204/3204\n",
      "2021-02-11 12:25:05,282 : INFO : optimized alpha [0.011754647, 0.014551776, 0.010623152, 0.0111048035, 0.011556163, 0.01125815, 0.014538725, 0.010775983, 0.010318684, 0.012195043, 0.011474158, 0.010414252, 0.011207431, 0.010630604, 0.011142654, 0.0112439245, 0.01204685, 0.01212302, 0.011617164, 0.007593662, 0.011627741, 0.011948028, 0.012875248, 0.013733248, 0.01133219, 0.010660382, 0.010244073, 0.010756732, 0.01173487, 0.009940585, 0.012052313, 0.011454485, 0.011559643, 0.011176747, 0.011751068, 0.014755289, 0.010037181, 0.010701002, 0.010964313, 0.03495189, 0.011532928, 0.012275824, 0.0111235, 0.013078555, 0.012006789, 0.010850086, 0.012942195, 0.010814153, 0.0101481555, 0.012774724, 0.010809519, 0.011525005, 0.011028611, 0.013002601, 0.010029911, 0.012485966, 0.009840454, 0.010387695, 0.010573024, 0.010790884, 0.0116554005, 0.011601676, 0.012076827, 0.010420253, 0.010256844, 0.011091947, 0.010657805, 0.010564354, 0.013463917, 0.012826944, 0.010733631, 0.012409018, 0.011007006, 0.009530282, 0.012532101, 0.010571371, 0.014896597, 0.012988094, 0.011249814, 0.011101341, 0.0114061795, 0.012305491, 0.0105045205, 0.011403972, 0.014411993, 0.010384755, 0.014215295, 0.011530573, 0.01142278, 0.014609862, 0.010688403, 0.011303849, 0.013887202, 0.0102489535, 0.011891944, 0.012205643, 0.011927021, 0.012504547, 0.011155646, 0.01181175]\n",
      "2021-02-11 12:25:05,292 : INFO : merging changes from 1204 documents into a model of 3204 documents\n",
      "2021-02-11 12:25:05,306 : INFO : topic #19 (0.008): 0.001*\"lead\" + 0.001*\"debug\" + 0.001*\"major\" + 0.001*\"divid\" + 0.001*\"column\" + 0.001*\"verifi\" + 0.001*\"repetit\" + 0.001*\"reduc\" + 0.001*\"quit\" + 0.001*\"maximum\"\n",
      "2021-02-11 12:25:05,308 : INFO : topic #73 (0.010): 0.057*\"alloc\" + 0.051*\"resourc\" + 0.043*\"which\" + 0.039*\"deadlock\" + 0.037*\"to\" + 0.031*\"origin\" + 0.030*\"prevent\" + 0.027*\"order\" + 0.024*\"l\" + 0.023*\"effici\"\n",
      "2021-02-11 12:25:05,309 : INFO : topic #35 (0.015): 0.051*\",\" + 0.040*\"to\" + 0.040*\"and\" + 0.034*\"is\" + 0.030*\"in\" + 0.028*\"data\" + 0.018*\"be\" + 0.016*\"which\" + 0.016*\"system\" + 0.014*\"are\"\n",
      "2021-02-11 12:25:05,310 : INFO : topic #76 (0.015): 0.309*\"s\" + 0.292*\"'\" + 0.046*\"for\" + 0.033*\"and\" + 0.032*\"path\" + 0.024*\"to\" + 0.018*\"partial\" + 0.017*\"method\" + 0.016*\"is\" + 0.016*\"-\"\n",
      "2021-02-11 12:25:05,311 : INFO : topic #39 (0.035): 0.404*\")\" + 0.398*\"(\" + 0.158*\"algorithm\" + 0.014*\"corrigendum\" + 0.007*\"order\" + 0.007*\"evalu\" + 0.002*\"jacobi\" + 0.002*\"card\" + 0.002*\"gener\" + 0.001*\"punch\"\n",
      "2021-02-11 12:25:05,312 : INFO : topic diff=0.368668, rho=0.293585\n",
      "2021-02-11 12:25:05,322 : INFO : PROGRESS: pass 10, at document #2000/3204\n",
      "2021-02-11 12:25:06,994 : INFO : optimized alpha [0.011767455, 0.014734136, 0.010618839, 0.011141926, 0.011602647, 0.011250246, 0.01494461, 0.010783672, 0.010358951, 0.012454932, 0.011552465, 0.010456495, 0.011279924, 0.010670402, 0.011203056, 0.011277999, 0.012092241, 0.01220558, 0.0116990805, 0.0075435718, 0.011623957, 0.01195487, 0.012979857, 0.013775483, 0.011337566, 0.010633757, 0.010338237, 0.01086877, 0.011814791, 0.009941686, 0.012179213, 0.011430678, 0.011603269, 0.011295441, 0.011833509, 0.014752223, 0.0100425845, 0.010757517, 0.011067734, 0.03706646, 0.011653082, 0.012329043, 0.011099272, 0.013095719, 0.01206816, 0.010882914, 0.013093269, 0.010842349, 0.010191743, 0.012916699, 0.010904508, 0.011568956, 0.011150195, 0.013243775, 0.010066867, 0.012513217, 0.009903846, 0.0104563385, 0.010591222, 0.01080998, 0.011763967, 0.011618067, 0.012199826, 0.010420737, 0.010248073, 0.011181172, 0.010689035, 0.010596788, 0.0136448685, 0.013009308, 0.0107137, 0.012490983, 0.011033124, 0.009503099, 0.012623102, 0.010558112, 0.015047965, 0.01298068, 0.011218409, 0.011181712, 0.01148901, 0.012441891, 0.010511367, 0.011420209, 0.014421653, 0.010456962, 0.014223518, 0.011616353, 0.011487545, 0.014852478, 0.010708167, 0.011406716, 0.013949072, 0.010274963, 0.01192391, 0.01245449, 0.011922142, 0.012494871, 0.011279496, 0.01181299]\n",
      "2021-02-11 12:25:07,005 : INFO : merging changes from 2000 documents into a model of 3204 documents\n",
      "2021-02-11 12:25:07,020 : INFO : topic #19 (0.008): 0.001*\"lead\" + 0.001*\"debug\" + 0.001*\"major\" + 0.001*\"divid\" + 0.001*\"column\" + 0.001*\"verifi\" + 0.001*\"repetit\" + 0.001*\"reduc\" + 0.001*\"quit\" + 0.001*\"maximum\"\n",
      "2021-02-11 12:25:07,021 : INFO : topic #73 (0.010): 0.052*\"alloc\" + 0.045*\"resourc\" + 0.043*\"which\" + 0.037*\"to\" + 0.036*\"deadlock\" + 0.031*\"origin\" + 0.028*\"prevent\" + 0.027*\"order\" + 0.027*\"l\" + 0.023*\"where\"\n",
      "2021-02-11 12:25:07,022 : INFO : topic #6 (0.015): 0.251*\"[\" + 0.175*\"algorithm\" + 0.174*\"(\" + 0.146*\"])\" + 0.086*\"]\" + 0.034*\"h\" + 0.023*\"-\" + 0.014*\"a1\" + 0.012*\"s15\" + 0.010*\"complex\"\n",
      "2021-02-11 12:25:07,024 : INFO : topic #76 (0.015): 0.313*\"s\" + 0.295*\"'\" + 0.046*\"for\" + 0.033*\"and\" + 0.031*\"path\" + 0.023*\"to\" + 0.019*\"partial\" + 0.016*\"is\" + 0.016*\"method\" + 0.016*\"-\"\n",
      "2021-02-11 12:25:07,025 : INFO : topic #39 (0.037): 0.400*\")\" + 0.395*\"(\" + 0.167*\"algorithm\" + 0.011*\"corrigendum\" + 0.007*\"evalu\" + 0.007*\"order\" + 0.003*\"jacobi\" + 0.002*\"card\" + 0.001*\"gener\" + 0.001*\"punch\"\n",
      "2021-02-11 12:25:07,027 : INFO : topic diff=0.318378, rho=0.281696\n",
      "2021-02-11 12:25:09,010 : INFO : -6.369 per-word bound, 82.6 perplexity estimate based on a held-out corpus of 1204 documents with 79462 words\n",
      "2021-02-11 12:25:09,011 : INFO : PROGRESS: pass 10, at document #3204/3204\n",
      "2021-02-11 12:25:10,661 : INFO : optimized alpha [0.011978377, 0.015214177, 0.010710797, 0.011312398, 0.011716858, 0.011390172, 0.01509508, 0.01091506, 0.010538817, 0.012551384, 0.01169005, 0.01052124, 0.011480174, 0.010737253, 0.011365855, 0.011417789, 0.012286319, 0.012425856, 0.011878884, 0.007480598, 0.011781964, 0.012151437, 0.013180517, 0.014067073, 0.011440976, 0.010767789, 0.010385356, 0.010946036, 0.012017356, 0.010005908, 0.0122968145, 0.011609316, 0.011799345, 0.01141824, 0.0119524915, 0.01501965, 0.010128073, 0.010820495, 0.011141506, 0.039123338, 0.011768264, 0.012569859, 0.011245152, 0.013343145, 0.012254654, 0.011000506, 0.013387661, 0.010972643, 0.010245867, 0.013115378, 0.0109400395, 0.011700257, 0.011206689, 0.01336598, 0.010122195, 0.012701373, 0.009903399, 0.010496632, 0.010704829, 0.010904066, 0.011846175, 0.011768583, 0.01231583, 0.010490946, 0.010320879, 0.011206645, 0.010796939, 0.010680736, 0.013865001, 0.01325529, 0.010829488, 0.012718177, 0.011157601, 0.009579506, 0.01277845, 0.010632118, 0.015430376, 0.0132364705, 0.011431842, 0.011286496, 0.011628122, 0.012632384, 0.010572462, 0.011592843, 0.01471842, 0.010554087, 0.014610787, 0.011791179, 0.011656389, 0.0152835045, 0.010825952, 0.011522488, 0.0143542625, 0.010368216, 0.012081084, 0.012793173, 0.012123218, 0.012683225, 0.011392462, 0.011983632]\n",
      "2021-02-11 12:25:10,670 : INFO : merging changes from 1204 documents into a model of 3204 documents\n"
     ]
    },
    {
     "name": "stderr",
     "output_type": "stream",
     "text": [
      "2021-02-11 12:25:10,685 : INFO : topic #19 (0.007): 0.001*\"lead\" + 0.001*\"debug\" + 0.001*\"major\" + 0.001*\"divid\" + 0.001*\"column\" + 0.001*\"verifi\" + 0.001*\"repetit\" + 0.001*\"reduc\" + 0.001*\"quit\" + 0.001*\"maximum\"\n",
      "2021-02-11 12:25:10,686 : INFO : topic #73 (0.010): 0.060*\"alloc\" + 0.056*\"resourc\" + 0.045*\"which\" + 0.039*\"deadlock\" + 0.038*\"to\" + 0.031*\"origin\" + 0.029*\"prevent\" + 0.026*\"order\" + 0.024*\"l\" + 0.024*\"where\"\n",
      "2021-02-11 12:25:10,687 : INFO : topic #89 (0.015): 0.296*\"system\" + 0.094*\"-\" + 0.063*\"time\" + 0.062*\"user\" + 0.055*\"share\" + 0.045*\"perform\" + 0.037*\"comput\" + 0.030*\"termin\" + 0.025*\"as\" + 0.025*\"to\"\n",
      "2021-02-11 12:25:10,687 : INFO : topic #76 (0.015): 0.317*\"s\" + 0.300*\"'\" + 0.045*\"for\" + 0.032*\"and\" + 0.032*\"path\" + 0.024*\"to\" + 0.018*\"partial\" + 0.016*\"on\" + 0.015*\"is\" + 0.015*\"-\"\n",
      "2021-02-11 12:25:10,688 : INFO : topic #39 (0.039): 0.405*\")\" + 0.400*\"(\" + 0.157*\"algorithm\" + 0.014*\"corrigendum\" + 0.007*\"order\" + 0.006*\"evalu\" + 0.002*\"jacobi\" + 0.002*\"card\" + 0.001*\"gener\" + 0.001*\"punch\"\n",
      "2021-02-11 12:25:10,689 : INFO : topic diff=0.325090, rho=0.281696\n",
      "2021-02-11 12:25:10,701 : INFO : PROGRESS: pass 11, at document #2000/3204\n",
      "2021-02-11 12:25:12,331 : INFO : optimized alpha [0.011989921, 0.015391588, 0.010706809, 0.011349493, 0.011769906, 0.01138704, 0.015496259, 0.010925303, 0.010591954, 0.01280831, 0.01176273, 0.010566572, 0.011558018, 0.010777476, 0.011425721, 0.011452084, 0.012328117, 0.012515802, 0.0119629, 0.007434298, 0.011774667, 0.01216071, 0.01329075, 0.014116586, 0.011449499, 0.010740479, 0.010486989, 0.011059532, 0.012094588, 0.010012767, 0.012426926, 0.011584156, 0.011847672, 0.011538556, 0.012030794, 0.015015363, 0.010151314, 0.010876892, 0.011246711, 0.041313417, 0.011888372, 0.012622361, 0.011224613, 0.01336045, 0.012320452, 0.011029267, 0.013547634, 0.01100128, 0.01028829, 0.013262395, 0.011033816, 0.011745849, 0.011325036, 0.013602202, 0.010165071, 0.01272889, 0.0099651255, 0.010561915, 0.010729692, 0.010922588, 0.011950038, 0.011780952, 0.012435397, 0.010496025, 0.010316963, 0.011294943, 0.010831598, 0.010712223, 0.014035965, 0.01343383, 0.010810265, 0.012800733, 0.011182752, 0.009556192, 0.012866493, 0.010624065, 0.015578636, 0.013224392, 0.011400499, 0.011370573, 0.0117053045, 0.012766828, 0.010578001, 0.011609667, 0.014736524, 0.010618491, 0.014618091, 0.011879122, 0.011722074, 0.015523901, 0.01084796, 0.0116241155, 0.014412368, 0.010396276, 0.012114951, 0.013043289, 0.012122686, 0.012676887, 0.0115270205, 0.0119859865]\n",
      "2021-02-11 12:25:12,343 : INFO : merging changes from 2000 documents into a model of 3204 documents\n",
      "2021-02-11 12:25:12,360 : INFO : topic #19 (0.007): 0.001*\"lead\" + 0.001*\"debug\" + 0.001*\"major\" + 0.001*\"divid\" + 0.001*\"column\" + 0.001*\"verifi\" + 0.001*\"repetit\" + 0.001*\"reduc\" + 0.001*\"quit\" + 0.001*\"maximum\"\n",
      "2021-02-11 12:25:12,362 : INFO : topic #73 (0.010): 0.056*\"alloc\" + 0.051*\"resourc\" + 0.045*\"which\" + 0.038*\"to\" + 0.036*\"deadlock\" + 0.031*\"origin\" + 0.028*\"prevent\" + 0.027*\"l\" + 0.026*\"order\" + 0.024*\"where\"\n",
      "2021-02-11 12:25:12,362 : INFO : topic #6 (0.015): 0.252*\"[\" + 0.177*\"algorithm\" + 0.175*\"(\" + 0.147*\"])\" + 0.086*\"]\" + 0.034*\"h\" + 0.022*\"-\" + 0.013*\"a1\" + 0.012*\"s15\" + 0.009*\"complex\"\n",
      "2021-02-11 12:25:12,364 : INFO : topic #76 (0.016): 0.321*\"s\" + 0.304*\"'\" + 0.045*\"for\" + 0.032*\"and\" + 0.031*\"path\" + 0.023*\"to\" + 0.018*\"partial\" + 0.015*\"on\" + 0.015*\"is\" + 0.015*\"-\"\n",
      "2021-02-11 12:25:12,365 : INFO : topic #39 (0.041): 0.401*\")\" + 0.398*\"(\" + 0.165*\"algorithm\" + 0.011*\"corrigendum\" + 0.007*\"evalu\" + 0.006*\"order\" + 0.003*\"jacobi\" + 0.002*\"card\" + 0.001*\"punch\" + 0.001*\"gener\"\n",
      "2021-02-11 12:25:12,367 : INFO : topic diff=0.282048, rho=0.271143\n",
      "2021-02-11 12:25:14,273 : INFO : -6.361 per-word bound, 82.2 perplexity estimate based on a held-out corpus of 1204 documents with 79462 words\n",
      "2021-02-11 12:25:14,273 : INFO : PROGRESS: pass 11, at document #3204/3204\n",
      "2021-02-11 12:25:15,917 : INFO : optimized alpha [0.012197904, 0.01588419, 0.010798425, 0.011523041, 0.01188862, 0.011520205, 0.015639704, 0.01105792, 0.010818458, 0.012903433, 0.011896094, 0.010624486, 0.011755909, 0.010839791, 0.011581443, 0.011587723, 0.012519692, 0.012730632, 0.012140484, 0.0073758913, 0.011930818, 0.012351853, 0.013482781, 0.014407794, 0.01154529, 0.01087297, 0.0105418945, 0.011136483, 0.012294682, 0.010081976, 0.012543311, 0.011763087, 0.012052346, 0.0116653815, 0.0121458955, 0.015254081, 0.01024114, 0.010935399, 0.011328124, 0.043416075, 0.012007755, 0.012860083, 0.011368799, 0.013586045, 0.012499011, 0.011140768, 0.013839322, 0.011122665, 0.010343023, 0.013458505, 0.011067865, 0.011873085, 0.011381886, 0.013725516, 0.010225543, 0.01291154, 0.009964882, 0.010605578, 0.010842352, 0.011013776, 0.012031932, 0.011929713, 0.012547352, 0.010564162, 0.010394673, 0.011321919, 0.010941312, 0.010800817, 0.014263072, 0.013671134, 0.010927477, 0.013016313, 0.011303519, 0.009641236, 0.013008213, 0.010695934, 0.015953207, 0.013476423, 0.011615974, 0.011474517, 0.011842879, 0.012963757, 0.0106326025, 0.01177753, 0.015029139, 0.010717357, 0.015007637, 0.012059901, 0.0118861785, 0.015949495, 0.010962186, 0.011733539, 0.014820923, 0.010498363, 0.012261964, 0.01339323, 0.012323799, 0.012877347, 0.011646684, 0.012159999]\n",
      "2021-02-11 12:25:15,926 : INFO : merging changes from 1204 documents into a model of 3204 documents\n",
      "2021-02-11 12:25:15,941 : INFO : topic #19 (0.007): 0.001*\"lead\" + 0.001*\"debug\" + 0.001*\"major\" + 0.001*\"divid\" + 0.001*\"column\" + 0.001*\"verifi\" + 0.001*\"repetit\" + 0.001*\"reduc\" + 0.001*\"quit\" + 0.001*\"maximum\"\n",
      "2021-02-11 12:25:15,942 : INFO : topic #73 (0.010): 0.066*\"alloc\" + 0.060*\"resourc\" + 0.047*\"which\" + 0.038*\"to\" + 0.038*\"deadlock\" + 0.030*\"origin\" + 0.029*\"prevent\" + 0.024*\"where\" + 0.024*\"l\" + 0.024*\"order\"\n",
      "2021-02-11 12:25:15,944 : INFO : topic #89 (0.016): 0.301*\"system\" + 0.097*\"-\" + 0.063*\"time\" + 0.062*\"user\" + 0.054*\"share\" + 0.044*\"perform\" + 0.037*\"comput\" + 0.029*\"termin\" + 0.025*\"as\" + 0.024*\"to\"\n",
      "2021-02-11 12:25:15,945 : INFO : topic #76 (0.016): 0.325*\"s\" + 0.308*\"'\" + 0.044*\"for\" + 0.033*\"path\" + 0.031*\"and\" + 0.024*\"to\" + 0.018*\"partial\" + 0.017*\"on\" + 0.014*\"is\" + 0.014*\"-\"\n",
      "2021-02-11 12:25:15,945 : INFO : topic #39 (0.043): 0.406*\")\" + 0.404*\"(\" + 0.154*\"algorithm\" + 0.014*\"corrigendum\" + 0.006*\"evalu\" + 0.006*\"order\" + 0.002*\"jacobi\" + 0.002*\"card\" + 0.001*\"gener\" + 0.001*\"punch\"\n",
      "2021-02-11 12:25:15,946 : INFO : topic diff=0.289728, rho=0.271143\n",
      "2021-02-11 12:25:15,958 : INFO : PROGRESS: pass 12, at document #2000/3204\n",
      "2021-02-11 12:25:17,486 : INFO : optimized alpha [0.012211578, 0.016063409, 0.010797575, 0.011561693, 0.011936982, 0.011518537, 0.016036615, 0.011069138, 0.01088399, 0.013169743, 0.011971314, 0.01066869, 0.011834448, 0.010878969, 0.011640921, 0.011625403, 0.012559737, 0.012822936, 0.012225164, 0.007332867, 0.011926627, 0.012363498, 0.013595372, 0.014456567, 0.011562872, 0.010847787, 0.010643926, 0.011253115, 0.012374267, 0.01009018, 0.01267188, 0.011744555, 0.012102124, 0.011792103, 0.012221987, 0.015248942, 0.010267836, 0.010980203, 0.01143079, 0.045689393, 0.012128105, 0.012918778, 0.011357708, 0.013598311, 0.012562651, 0.0111686485, 0.013995749, 0.01115479, 0.010381695, 0.013601968, 0.011160632, 0.011920331, 0.011492831, 0.013964469, 0.010278095, 0.012939433, 0.010025164, 0.01067623, 0.010869319, 0.011036171, 0.012141104, 0.011939827, 0.01266226, 0.010565173, 0.01039388, 0.011406454, 0.010973445, 0.010838548, 0.014443566, 0.013851622, 0.01091026, 0.01309799, 0.011330764, 0.00962271, 0.0130954245, 0.0106942225, 0.016094575, 0.013467076, 0.011584628, 0.011557876, 0.011917909, 0.013108668, 0.010639791, 0.0117934225, 0.015049225, 0.010779995, 0.015012175, 0.012153229, 0.011946694, 0.016194008, 0.010986308, 0.011840294, 0.01486949, 0.010525561, 0.0122946035, 0.013650042, 0.012320937, 0.012873995, 0.011788893, 0.012163419]\n",
      "2021-02-11 12:25:17,496 : INFO : merging changes from 2000 documents into a model of 3204 documents\n",
      "2021-02-11 12:25:17,514 : INFO : topic #19 (0.007): 0.001*\"lead\" + 0.001*\"debug\" + 0.001*\"major\" + 0.001*\"divid\" + 0.001*\"column\" + 0.001*\"verifi\" + 0.001*\"repetit\" + 0.001*\"reduc\" + 0.001*\"quit\" + 0.001*\"maximum\"\n",
      "2021-02-11 12:25:17,515 : INFO : topic #73 (0.010): 0.063*\"alloc\" + 0.055*\"resourc\" + 0.046*\"which\" + 0.038*\"to\" + 0.035*\"deadlock\" + 0.030*\"origin\" + 0.027*\"prevent\" + 0.027*\"l\" + 0.024*\"where\" + 0.023*\"order\"\n"
     ]
    },
    {
     "name": "stderr",
     "output_type": "stream",
     "text": [
      "2021-02-11 12:25:17,515 : INFO : topic #76 (0.016): 0.328*\"s\" + 0.311*\"'\" + 0.044*\"for\" + 0.032*\"path\" + 0.031*\"and\" + 0.023*\"to\" + 0.017*\"partial\" + 0.016*\"on\" + 0.014*\"is\" + 0.014*\"-\"\n",
      "2021-02-11 12:25:17,516 : INFO : topic #89 (0.016): 0.302*\"system\" + 0.098*\"-\" + 0.064*\"time\" + 0.061*\"user\" + 0.055*\"share\" + 0.039*\"perform\" + 0.037*\"comput\" + 0.029*\"termin\" + 0.025*\"as\" + 0.024*\"to\"\n",
      "2021-02-11 12:25:17,516 : INFO : topic #39 (0.046): 0.401*\")\" + 0.401*\"(\" + 0.163*\"algorithm\" + 0.011*\"corrigendum\" + 0.007*\"evalu\" + 0.006*\"order\" + 0.003*\"jacobi\" + 0.002*\"card\" + 0.001*\"punch\" + 0.001*\"gener\"\n",
      "2021-02-11 12:25:17,518 : INFO : topic diff=0.252250, rho=0.261694\n",
      "2021-02-11 12:25:19,422 : INFO : -6.353 per-word bound, 81.7 perplexity estimate based on a held-out corpus of 1204 documents with 79462 words\n",
      "2021-02-11 12:25:19,422 : INFO : PROGRESS: pass 12, at document #3204/3204\n",
      "2021-02-11 12:25:21,019 : INFO : optimized alpha [0.012406571, 0.016548144, 0.010886762, 0.011733557, 0.012049812, 0.011653262, 0.016173564, 0.011195879, 0.0111307595, 0.013280954, 0.012100983, 0.010724961, 0.012027947, 0.010939566, 0.011795261, 0.011757405, 0.0127466405, 0.013038612, 0.012393039, 0.0072784703, 0.012089348, 0.0125498315, 0.0137824, 0.01473185, 0.0116586, 0.0109743755, 0.010699355, 0.011337365, 0.012575158, 0.010157588, 0.012792975, 0.011934708, 0.012315802, 0.01192583, 0.012341625, 0.015491851, 0.010359714, 0.011039489, 0.011514733, 0.047851067, 0.012236042, 0.013165318, 0.011498116, 0.0138243595, 0.012742316, 0.011284492, 0.01429136, 0.011280192, 0.010434882, 0.013790108, 0.011193398, 0.012046602, 0.011545208, 0.014083217, 0.010341368, 0.013117436, 0.010031733, 0.010711518, 0.010981404, 0.011124847, 0.01221224, 0.012087263, 0.0127680125, 0.010640796, 0.010469579, 0.0114374785, 0.011085117, 0.010927036, 0.014665216, 0.014096443, 0.011024395, 0.013311415, 0.011448279, 0.009711822, 0.013244484, 0.010761887, 0.016462054, 0.013707235, 0.011792505, 0.011661308, 0.012051799, 0.013295121, 0.0107000945, 0.011959696, 0.015341866, 0.010887839, 0.01539134, 0.01233515, 0.012106569, 0.016625341, 0.01109743, 0.011951719, 0.01527209, 0.010624863, 0.0124322735, 0.014000152, 0.012525321, 0.01308101, 0.011930836, 0.012327588]\n",
      "2021-02-11 12:25:21,029 : INFO : merging changes from 1204 documents into a model of 3204 documents\n",
      "2021-02-11 12:25:21,043 : INFO : topic #19 (0.007): 0.001*\"lead\" + 0.001*\"debug\" + 0.001*\"major\" + 0.001*\"divid\" + 0.001*\"column\" + 0.001*\"verifi\" + 0.001*\"repetit\" + 0.001*\"reduc\" + 0.001*\"quit\" + 0.001*\"maximum\"\n",
      "2021-02-11 12:25:21,044 : INFO : topic #73 (0.010): 0.072*\"alloc\" + 0.063*\"resourc\" + 0.048*\"which\" + 0.038*\"to\" + 0.037*\"deadlock\" + 0.029*\"origin\" + 0.028*\"prevent\" + 0.025*\"where\" + 0.023*\"l\" + 0.023*\"effici\"\n",
      "2021-02-11 12:25:21,045 : INFO : topic #1 (0.017): 0.210*\"problem\" + 0.064*\"solut\" + 0.058*\"for\" + 0.047*\"solv\" + 0.044*\"in\" + 0.040*\"to\" + 0.030*\"linear\" + 0.026*\"is\" + 0.023*\"-\" + 0.022*\",\"\n",
      "2021-02-11 12:25:21,045 : INFO : topic #89 (0.017): 0.305*\"system\" + 0.099*\"-\" + 0.062*\"time\" + 0.061*\"user\" + 0.053*\"share\" + 0.043*\"perform\" + 0.037*\"comput\" + 0.029*\"termin\" + 0.025*\"as\" + 0.024*\"to\"\n",
      "2021-02-11 12:25:21,046 : INFO : topic #39 (0.048): 0.406*\"(\" + 0.406*\")\" + 0.153*\"algorithm\" + 0.014*\"corrigendum\" + 0.006*\"evalu\" + 0.005*\"order\" + 0.002*\"jacobi\" + 0.002*\"card\" + 0.001*\"punch\" + 0.001*\"gener\"\n",
      "2021-02-11 12:25:21,047 : INFO : topic diff=0.260038, rho=0.261694\n",
      "2021-02-11 12:25:21,058 : INFO : PROGRESS: pass 13, at document #2000/3204\n",
      "2021-02-11 12:25:22,640 : INFO : optimized alpha [0.012417581, 0.01672076, 0.0108846985, 0.011772319, 0.012096868, 0.011654418, 0.016566541, 0.011206687, 0.011205694, 0.013540399, 0.012175716, 0.010766786, 0.012105823, 0.010977898, 0.011854513, 0.011798371, 0.01279328, 0.013126741, 0.012475453, 0.0072383336, 0.012080133, 0.012560554, 0.013897374, 0.014780189, 0.011678845, 0.010952667, 0.010799208, 0.011457242, 0.012650844, 0.0101683615, 0.012923522, 0.011919118, 0.012365359, 0.012059082, 0.012415732, 0.0154899955, 0.010393529, 0.011093185, 0.0116121415, 0.05018969, 0.012355275, 0.013231797, 0.011491552, 0.01383902, 0.012804021, 0.011317286, 0.014446269, 0.0113070365, 0.010476662, 0.013933844, 0.011283964, 0.012092469, 0.011658103, 0.014319893, 0.0104005905, 0.013144087, 0.010091972, 0.010777811, 0.011010382, 0.011145292, 0.012320481, 0.012095279, 0.012878587, 0.0106433695, 0.010466319, 0.011522936, 0.011119204, 0.010966542, 0.014851616, 0.014270022, 0.01100906, 0.013387155, 0.011474716, 0.009697659, 0.013329311, 0.010752214, 0.016600957, 0.013693568, 0.011761149, 0.011742615, 0.012129445, 0.01343875, 0.010711508, 0.011973233, 0.015361934, 0.010950257, 0.0153934, 0.012427692, 0.012165302, 0.016872289, 0.011119402, 0.012057553, 0.015329117, 0.01065262, 0.012465413, 0.014260514, 0.012526623, 0.013077013, 0.01207789, 0.0123384055]\n",
      "2021-02-11 12:25:22,650 : INFO : merging changes from 2000 documents into a model of 3204 documents\n",
      "2021-02-11 12:25:22,669 : INFO : topic #19 (0.007): 0.001*\"lead\" + 0.001*\"debug\" + 0.001*\"major\" + 0.001*\"divid\" + 0.001*\"column\" + 0.001*\"verifi\" + 0.001*\"repetit\" + 0.001*\"reduc\" + 0.001*\"quit\" + 0.001*\"maximum\"\n",
      "2021-02-11 12:25:22,670 : INFO : topic #73 (0.010): 0.068*\"alloc\" + 0.059*\"resourc\" + 0.048*\"which\" + 0.038*\"to\" + 0.035*\"deadlock\" + 0.030*\"origin\" + 0.027*\"prevent\" + 0.026*\"l\" + 0.024*\"where\" + 0.022*\"effici\"\n",
      "2021-02-11 12:25:22,671 : INFO : topic #1 (0.017): 0.208*\"problem\" + 0.065*\"solut\" + 0.057*\"for\" + 0.046*\"solv\" + 0.045*\"in\" + 0.040*\"to\" + 0.029*\"linear\" + 0.026*\"is\" + 0.023*\"-\" + 0.023*\"program\"\n",
      "2021-02-11 12:25:22,672 : INFO : topic #89 (0.017): 0.305*\"system\" + 0.101*\"-\" + 0.064*\"time\" + 0.060*\"user\" + 0.055*\"share\" + 0.039*\"perform\" + 0.037*\"comput\" + 0.028*\"termin\" + 0.024*\"as\" + 0.024*\"to\"\n",
      "2021-02-11 12:25:22,673 : INFO : topic #39 (0.050): 0.403*\"(\" + 0.401*\")\" + 0.162*\"algorithm\" + 0.011*\"corrigendum\" + 0.007*\"evalu\" + 0.005*\"order\" + 0.003*\"jacobi\" + 0.002*\"card\" + 0.001*\"punch\" + 0.001*\"gener\"\n",
      "2021-02-11 12:25:22,675 : INFO : topic diff=0.227881, rho=0.253169\n",
      "2021-02-11 12:25:24,487 : INFO : -6.345 per-word bound, 81.3 perplexity estimate based on a held-out corpus of 1204 documents with 79462 words\n",
      "2021-02-11 12:25:24,488 : INFO : PROGRESS: pass 13, at document #3204/3204\n",
      "2021-02-11 12:25:26,099 : INFO : optimized alpha [0.012610704, 0.0172153, 0.010971624, 0.011947731, 0.012209342, 0.011785756, 0.016697126, 0.011337327, 0.011461193, 0.013647613, 0.012304538, 0.010819234, 0.012300327, 0.011039199, 0.012007694, 0.011929536, 0.012973191, 0.013343506, 0.012644509, 0.0071874377, 0.01223376, 0.012750468, 0.014085604, 0.015069064, 0.01176965, 0.011078377, 0.010850532, 0.011546162, 0.012852694, 0.010236177, 0.013041136, 0.012102452, 0.012580147, 0.012189498, 0.012534704, 0.01572367, 0.010489622, 0.011153236, 0.011693676, 0.05232206, 0.012457431, 0.013484662, 0.011630984, 0.014059997, 0.012973886, 0.011420593, 0.014733796, 0.011426915, 0.010532804, 0.014123283, 0.0113155255, 0.012210407, 0.011708613, 0.01443724, 0.010466488, 0.013323229, 0.0100984555, 0.010812064, 0.011124319, 0.011231642, 0.012389143, 0.01224167, 0.012983875, 0.0107194055, 0.010540134, 0.011557779, 0.011230478, 0.0110549955, 0.015068243, 0.014510116, 0.011122604, 0.01359308, 0.011589238, 0.009782523, 0.0134743005, 0.010820549, 0.016965246, 0.013931204, 0.01197667, 0.011848134, 0.012262487, 0.01362364, 0.010768107, 0.0121355895, 0.015651545, 0.0110599585, 0.015782738, 0.012608182, 0.012318692, 0.017316755, 0.011225303, 0.012173514, 0.015742952, 0.010758294, 0.0125916, 0.014625966, 0.012726515, 0.013287804, 0.012226465, 0.012501159]\n",
      "2021-02-11 12:25:26,108 : INFO : merging changes from 1204 documents into a model of 3204 documents\n",
      "2021-02-11 12:25:26,122 : INFO : topic #19 (0.007): 0.001*\"lead\" + 0.001*\"debug\" + 0.001*\"major\" + 0.001*\"divid\" + 0.001*\"column\" + 0.001*\"verifi\" + 0.001*\"repetit\" + 0.001*\"reduc\" + 0.001*\"quit\" + 0.001*\"maximum\"\n",
      "2021-02-11 12:25:26,123 : INFO : topic #73 (0.010): 0.077*\"alloc\" + 0.066*\"resourc\" + 0.049*\"which\" + 0.039*\"to\" + 0.037*\"deadlock\" + 0.029*\"origin\" + 0.028*\"prevent\" + 0.024*\"where\" + 0.023*\"l\" + 0.022*\"effici\"\n",
      "2021-02-11 12:25:26,123 : INFO : topic #1 (0.017): 0.214*\"problem\" + 0.065*\"solut\" + 0.059*\"for\" + 0.047*\"solv\" + 0.045*\"in\" + 0.041*\"to\" + 0.030*\"linear\" + 0.027*\"is\" + 0.023*\"-\" + 0.023*\"program\"\n"
     ]
    },
    {
     "name": "stderr",
     "output_type": "stream",
     "text": [
      "2021-02-11 12:25:26,124 : INFO : topic #89 (0.017): 0.308*\"system\" + 0.101*\"-\" + 0.062*\"time\" + 0.060*\"user\" + 0.053*\"share\" + 0.042*\"perform\" + 0.037*\"comput\" + 0.029*\"termin\" + 0.024*\"as\" + 0.023*\"to\"\n",
      "2021-02-11 12:25:26,125 : INFO : topic #39 (0.052): 0.408*\"(\" + 0.406*\")\" + 0.153*\"algorithm\" + 0.013*\"corrigendum\" + 0.007*\"evalu\" + 0.005*\"order\" + 0.002*\"jacobi\" + 0.001*\"card\" + 0.001*\"punch\" + 0.000*\"gener\"\n",
      "2021-02-11 12:25:26,126 : INFO : topic diff=0.235057, rho=0.253169\n",
      "2021-02-11 12:25:26,136 : INFO : PROGRESS: pass 14, at document #2000/3204\n",
      "2021-02-11 12:25:27,685 : INFO : optimized alpha [0.012619186, 0.01738981, 0.01097112, 0.0119895525, 0.0122627495, 0.011786758, 0.017086474, 0.011356132, 0.011548444, 0.013908886, 0.012378936, 0.010858829, 0.012376182, 0.0110780755, 0.012071247, 0.011966378, 0.013016735, 0.013427643, 0.012723315, 0.0071498416, 0.012230655, 0.012761864, 0.014196129, 0.015118864, 0.011787994, 0.01105714, 0.010948358, 0.011666508, 0.012927847, 0.010254389, 0.01316741, 0.012086703, 0.012635919, 0.0123172775, 0.012605389, 0.015728995, 0.0105278585, 0.011201642, 0.011790482, 0.054691978, 0.012572684, 0.0135538345, 0.011618578, 0.0140822, 0.013035424, 0.011452529, 0.014887395, 0.01144868, 0.010573697, 0.014263961, 0.011404105, 0.012256508, 0.011813356, 0.014666664, 0.0105335135, 0.013350344, 0.010163688, 0.010880952, 0.011155202, 0.011251631, 0.012499622, 0.0122583145, 0.013098402, 0.010723442, 0.010538502, 0.011641389, 0.011274782, 0.011089538, 0.015249502, 0.014682524, 0.01110493, 0.0136700375, 0.011616361, 0.009771319, 0.013556969, 0.010816869, 0.017102001, 0.013920255, 0.011946635, 0.011930486, 0.012333715, 0.013772951, 0.010780899, 0.01215139, 0.015669724, 0.0111235995, 0.015784083, 0.012700004, 0.0123818405, 0.017562235, 0.011245301, 0.012278609, 0.015808536, 0.010785299, 0.012623767, 0.014895549, 0.012727086, 0.013284837, 0.012380017, 0.0125050815]\n",
      "2021-02-11 12:25:27,695 : INFO : merging changes from 2000 documents into a model of 3204 documents\n",
      "2021-02-11 12:25:27,714 : INFO : topic #19 (0.007): 0.001*\"lead\" + 0.001*\"debug\" + 0.001*\"major\" + 0.001*\"divid\" + 0.001*\"column\" + 0.001*\"verifi\" + 0.001*\"repetit\" + 0.001*\"reduc\" + 0.001*\"quit\" + 0.001*\"maximum\"\n",
      "2021-02-11 12:25:27,715 : INFO : topic #73 (0.010): 0.073*\"alloc\" + 0.062*\"resourc\" + 0.049*\"which\" + 0.038*\"to\" + 0.034*\"deadlock\" + 0.029*\"origin\" + 0.026*\"prevent\" + 0.026*\"l\" + 0.024*\"where\" + 0.022*\"effici\"\n",
      "2021-02-11 12:25:27,716 : INFO : topic #1 (0.017): 0.211*\"problem\" + 0.066*\"solut\" + 0.058*\"for\" + 0.047*\"solv\" + 0.046*\"in\" + 0.040*\"to\" + 0.029*\"linear\" + 0.027*\"is\" + 0.023*\"-\" + 0.023*\"program\"\n",
      "2021-02-11 12:25:27,717 : INFO : topic #89 (0.018): 0.309*\"system\" + 0.103*\"-\" + 0.063*\"time\" + 0.059*\"user\" + 0.054*\"share\" + 0.038*\"perform\" + 0.037*\"comput\" + 0.028*\"termin\" + 0.024*\"as\" + 0.023*\"to\"\n",
      "2021-02-11 12:25:27,718 : INFO : topic #39 (0.055): 0.405*\"(\" + 0.401*\")\" + 0.162*\"algorithm\" + 0.011*\"corrigendum\" + 0.007*\"evalu\" + 0.004*\"order\" + 0.003*\"jacobi\" + 0.002*\"card\" + 0.001*\"punch\" + 0.000*\"gener\"\n",
      "2021-02-11 12:25:27,719 : INFO : topic diff=0.207301, rho=0.245426\n",
      "2021-02-11 12:25:29,542 : INFO : -6.339 per-word bound, 80.9 perplexity estimate based on a held-out corpus of 1204 documents with 79462 words\n",
      "2021-02-11 12:25:29,543 : INFO : PROGRESS: pass 14, at document #3204/3204\n",
      "2021-02-11 12:25:31,074 : INFO : optimized alpha [0.012800392, 0.017869787, 0.011056032, 0.012166357, 0.012374935, 0.011912622, 0.017211052, 0.011472322, 0.011832165, 0.014029216, 0.012504639, 0.010916573, 0.012574492, 0.011137904, 0.012228508, 0.012096943, 0.013198129, 0.013643242, 0.012886129, 0.007102061, 0.012391158, 0.01294256, 0.014383142, 0.01542168, 0.011881579, 0.01117542, 0.011004891, 0.011760178, 0.01313367, 0.010318501, 0.013284552, 0.012261194, 0.012862813, 0.012447135, 0.012723951, 0.015960589, 0.010628118, 0.011262543, 0.011877117, 0.05678399, 0.012679766, 0.013796821, 0.011764453, 0.014298564, 0.0131934425, 0.011560541, 0.015167379, 0.011577515, 0.0106283855, 0.014452051, 0.011436953, 0.012376563, 0.011859938, 0.014773891, 0.010595539, 0.013528283, 0.010170096, 0.010918708, 0.011278061, 0.011335907, 0.01256359, 0.012406374, 0.013211516, 0.010806547, 0.010610586, 0.011677542, 0.011385921, 0.011173569, 0.015464648, 0.014915216, 0.011211242, 0.013868883, 0.0117281955, 0.0098622395, 0.01369845, 0.010879164, 0.01745651, 0.014152939, 0.012160292, 0.012038224, 0.012463642, 0.013956625, 0.0108407065, 0.012307734, 0.015950589, 0.011235271, 0.016147926, 0.012887199, 0.012534341, 0.018013503, 0.011351056, 0.012399216, 0.016227609, 0.010895069, 0.0127391, 0.015270984, 0.012917629, 0.013485848, 0.012537962, 0.012666684]\n",
      "2021-02-11 12:25:31,083 : INFO : merging changes from 1204 documents into a model of 3204 documents\n",
      "2021-02-11 12:25:31,098 : INFO : topic #19 (0.007): 0.001*\"lead\" + 0.001*\"debug\" + 0.001*\"major\" + 0.001*\"divid\" + 0.001*\"column\" + 0.001*\"verifi\" + 0.001*\"repetit\" + 0.001*\"reduc\" + 0.001*\"quit\" + 0.001*\"maximum\"\n",
      "2021-02-11 12:25:31,099 : INFO : topic #73 (0.010): 0.081*\"alloc\" + 0.067*\"resourc\" + 0.050*\"which\" + 0.039*\"to\" + 0.036*\"deadlock\" + 0.028*\"origin\" + 0.027*\"prevent\" + 0.024*\"where\" + 0.023*\"l\" + 0.022*\"effici\"\n",
      "2021-02-11 12:25:31,099 : INFO : topic #1 (0.018): 0.217*\"problem\" + 0.066*\"solut\" + 0.059*\"for\" + 0.047*\"solv\" + 0.046*\"in\" + 0.041*\"to\" + 0.029*\"linear\" + 0.027*\"is\" + 0.024*\"-\" + 0.023*\"program\"\n",
      "2021-02-11 12:25:31,100 : INFO : topic #89 (0.018): 0.311*\"system\" + 0.103*\"-\" + 0.062*\"time\" + 0.060*\"user\" + 0.053*\"share\" + 0.041*\"perform\" + 0.037*\"comput\" + 0.028*\"termin\" + 0.024*\"as\" + 0.023*\"to\"\n",
      "2021-02-11 12:25:31,100 : INFO : topic #39 (0.057): 0.410*\"(\" + 0.405*\")\" + 0.153*\"algorithm\" + 0.013*\"corrigendum\" + 0.007*\"evalu\" + 0.004*\"order\" + 0.002*\"jacobi\" + 0.001*\"card\" + 0.001*\"punch\" + 0.000*\"gener\"\n",
      "2021-02-11 12:25:31,102 : INFO : topic diff=0.214115, rho=0.245426\n",
      "2021-02-11 12:25:31,112 : INFO : PROGRESS: pass 15, at document #2000/3204\n",
      "2021-02-11 12:25:32,694 : INFO : optimized alpha [0.01280812, 0.018048575, 0.011054334, 0.01220533, 0.012425614, 0.011916367, 0.017597003, 0.011490616, 0.011924656, 0.014289399, 0.012580251, 0.010955373, 0.012651413, 0.011174677, 0.012293406, 0.0121327685, 0.013240179, 0.01373013, 0.012963001, 0.007066738, 0.012389269, 0.01295319, 0.014492918, 0.015469064, 0.011900986, 0.01115727, 0.011107502, 0.011879734, 0.013209944, 0.0103389295, 0.013409923, 0.012246843, 0.012919958, 0.012584626, 0.012794492, 0.015964968, 0.0106718475, 0.01130997, 0.011977771, 0.059163876, 0.012795799, 0.013867096, 0.011750653, 0.014314342, 0.013254941, 0.011598628, 0.0153254345, 0.011599976, 0.010667182, 0.014584728, 0.011523733, 0.012420026, 0.011959831, 0.014999869, 0.0106637655, 0.013554295, 0.010231702, 0.010986214, 0.011305401, 0.011359531, 0.012671973, 0.012422294, 0.01332213, 0.010810568, 0.010613062, 0.011759475, 0.011431853, 0.011210011, 0.015654212, 0.015092183, 0.011192699, 0.013950356, 0.011754596, 0.009853735, 0.013779191, 0.010878538, 0.01758923, 0.014142957, 0.012131535, 0.012124558, 0.0125361895, 0.014111655, 0.010849521, 0.012318426, 0.015970966, 0.011300176, 0.01614899, 0.012983197, 0.01260189, 0.018263958, 0.011370526, 0.012505264, 0.016293857, 0.010922663, 0.012768904, 0.0155374585, 0.012917583, 0.013482337, 0.012695184, 0.0126747]\n",
      "2021-02-11 12:25:32,708 : INFO : merging changes from 2000 documents into a model of 3204 documents\n",
      "2021-02-11 12:25:32,729 : INFO : topic #19 (0.007): 0.001*\"lead\" + 0.001*\"debug\" + 0.001*\"major\" + 0.001*\"divid\" + 0.001*\"column\" + 0.001*\"verifi\" + 0.001*\"repetit\" + 0.001*\"reduc\" + 0.001*\"quit\" + 0.001*\"maximum\"\n",
      "2021-02-11 12:25:32,730 : INFO : topic #73 (0.010): 0.078*\"alloc\" + 0.064*\"resourc\" + 0.049*\"which\" + 0.039*\"to\" + 0.034*\"deadlock\" + 0.029*\"origin\" + 0.026*\"prevent\" + 0.025*\"l\" + 0.024*\"where\" + 0.022*\"effici\"\n",
      "2021-02-11 12:25:32,731 : INFO : topic #1 (0.018): 0.215*\"problem\" + 0.066*\"solut\" + 0.058*\"for\" + 0.047*\"in\" + 0.047*\"solv\" + 0.040*\"to\" + 0.029*\"linear\" + 0.027*\"is\" + 0.024*\"-\" + 0.023*\"program\"\n",
      "2021-02-11 12:25:32,733 : INFO : topic #89 (0.018): 0.311*\"system\" + 0.105*\"-\" + 0.063*\"time\" + 0.058*\"user\" + 0.054*\"share\" + 0.038*\"perform\" + 0.037*\"comput\" + 0.028*\"termin\" + 0.024*\"as\" + 0.023*\"to\"\n"
     ]
    },
    {
     "name": "stderr",
     "output_type": "stream",
     "text": [
      "2021-02-11 12:25:32,734 : INFO : topic #39 (0.059): 0.406*\"(\" + 0.401*\")\" + 0.162*\"algorithm\" + 0.011*\"corrigendum\" + 0.007*\"evalu\" + 0.003*\"order\" + 0.003*\"jacobi\" + 0.002*\"card\" + 0.001*\"punch\" + 0.000*\"gener\"\n",
      "2021-02-11 12:25:32,736 : INFO : topic diff=0.189720, rho=0.238352\n",
      "2021-02-11 12:25:34,579 : INFO : -6.334 per-word bound, 80.7 perplexity estimate based on a held-out corpus of 1204 documents with 79462 words\n",
      "2021-02-11 12:25:34,580 : INFO : PROGRESS: pass 15, at document #3204/3204\n",
      "2021-02-11 12:25:36,079 : INFO : optimized alpha [0.012980542, 0.018539067, 0.01113741, 0.012381306, 0.012537908, 0.012041876, 0.017715793, 0.0116043035, 0.012227958, 0.014420263, 0.012703087, 0.011007412, 0.012846298, 0.01123312, 0.012450048, 0.012260519, 0.013410062, 0.013950043, 0.013127525, 0.007021734, 0.012546404, 0.013132841, 0.014676042, 0.015776748, 0.011990118, 0.0112729985, 0.011160253, 0.011973409, 0.01341205, 0.010401581, 0.01352411, 0.012427774, 0.0131408, 0.012714143, 0.012912838, 0.016191985, 0.010776317, 0.01136495, 0.012059787, 0.061207358, 0.012897646, 0.014117012, 0.011900578, 0.014529301, 0.013414992, 0.011701917, 0.015601266, 0.011726105, 0.010722672, 0.0147746615, 0.011555563, 0.01253734, 0.012009804, 0.015103386, 0.010730673, 0.013731209, 0.010238041, 0.0110186115, 0.011432567, 0.011441912, 0.012731452, 0.012567345, 0.013429769, 0.010902655, 0.010685645, 0.01179461, 0.011542888, 0.0112943435, 0.015874676, 0.015327057, 0.01129903, 0.01414521, 0.011868633, 0.009952547, 0.01392011, 0.010943913, 0.01794823, 0.014362652, 0.012343672, 0.012241769, 0.012663171, 0.014302917, 0.010908131, 0.0124690235, 0.016243514, 0.011413849, 0.0165075, 0.013164399, 0.012763775, 0.018707678, 0.0114785, 0.012625568, 0.016702285, 0.011032225, 0.012884054, 0.015923256, 0.013104393, 0.013684888, 0.012852565, 0.01283045]\n",
      "2021-02-11 12:25:36,089 : INFO : merging changes from 1204 documents into a model of 3204 documents\n",
      "2021-02-11 12:25:36,105 : INFO : topic #19 (0.007): 0.001*\"lead\" + 0.001*\"debug\" + 0.001*\"major\" + 0.001*\"divid\" + 0.001*\"column\" + 0.001*\"verifi\" + 0.001*\"repetit\" + 0.001*\"reduc\" + 0.001*\"quit\" + 0.001*\"maximum\"\n",
      "2021-02-11 12:25:36,106 : INFO : topic #73 (0.010): 0.089*\"alloc\" + 0.069*\"resourc\" + 0.050*\"which\" + 0.039*\"to\" + 0.036*\"deadlock\" + 0.028*\"origin\" + 0.027*\"prevent\" + 0.024*\"where\" + 0.023*\"l\" + 0.022*\"effici\"\n",
      "2021-02-11 12:25:36,107 : INFO : topic #1 (0.019): 0.220*\"problem\" + 0.066*\"solut\" + 0.059*\"for\" + 0.047*\"solv\" + 0.047*\"in\" + 0.041*\"to\" + 0.029*\"linear\" + 0.027*\"is\" + 0.024*\"-\" + 0.023*\"program\"\n",
      "2021-02-11 12:25:36,108 : INFO : topic #89 (0.019): 0.314*\"system\" + 0.104*\"-\" + 0.061*\"time\" + 0.059*\"user\" + 0.053*\"share\" + 0.041*\"perform\" + 0.037*\"comput\" + 0.028*\"termin\" + 0.024*\"as\" + 0.022*\"to\"\n",
      "2021-02-11 12:25:36,109 : INFO : topic #39 (0.061): 0.411*\"(\" + 0.405*\")\" + 0.152*\"algorithm\" + 0.013*\"corrigendum\" + 0.007*\"evalu\" + 0.003*\"order\" + 0.002*\"jacobi\" + 0.001*\"card\" + 0.001*\"punch\" + 0.000*\"gener\"\n",
      "2021-02-11 12:25:36,110 : INFO : topic diff=0.195765, rho=0.238352\n",
      "2021-02-11 12:25:36,121 : INFO : PROGRESS: pass 16, at document #2000/3204\n",
      "2021-02-11 12:25:37,669 : INFO : optimized alpha [0.012981497, 0.018713638, 0.0111358855, 0.012421953, 0.012584503, 0.012046786, 0.018098563, 0.011628932, 0.012334436, 0.014679669, 0.012774101, 0.011048056, 0.012922865, 0.011271875, 0.01251779, 0.01229397, 0.013453935, 0.014036552, 0.0132041015, 0.0069884416, 0.012538277, 0.013138049, 0.014778272, 0.01582755, 0.012010567, 0.011255258, 0.011265004, 0.012095142, 0.013484844, 0.01042048, 0.013651956, 0.012422029, 0.013197901, 0.012856972, 0.012986326, 0.016197333, 0.010822873, 0.011414201, 0.0121586565, 0.06356843, 0.013011621, 0.014186823, 0.011890967, 0.014547409, 0.013474989, 0.011735084, 0.015752843, 0.011745191, 0.010761996, 0.014911745, 0.0116407005, 0.012581224, 0.012109391, 0.015324339, 0.010803923, 0.013756135, 0.01030211, 0.011084874, 0.011460508, 0.011465115, 0.012837822, 0.012582665, 0.013539815, 0.010910498, 0.010685693, 0.011876332, 0.011594681, 0.011332651, 0.016055815, 0.015508765, 0.011280961, 0.01422305, 0.011894366, 0.009946515, 0.0139990095, 0.010944857, 0.018074961, 0.014358739, 0.0123132095, 0.0123292655, 0.012731211, 0.014460444, 0.010919538, 0.012484925, 0.016269954, 0.011483977, 0.016514318, 0.013258384, 0.012831238, 0.018963434, 0.01149744, 0.012736937, 0.016767254, 0.011060396, 0.012920542, 0.016193982, 0.013100718, 0.013683992, 0.013022461, 0.012836401]\n",
      "2021-02-11 12:25:37,679 : INFO : merging changes from 2000 documents into a model of 3204 documents\n",
      "2021-02-11 12:25:37,699 : INFO : topic #19 (0.007): 0.001*\"lead\" + 0.001*\"debug\" + 0.001*\"major\" + 0.001*\"divid\" + 0.001*\"column\" + 0.001*\"verifi\" + 0.001*\"repetit\" + 0.001*\"reduc\" + 0.001*\"quit\" + 0.001*\"maximum\"\n",
      "2021-02-11 12:25:37,700 : INFO : topic #73 (0.010): 0.085*\"alloc\" + 0.066*\"resourc\" + 0.050*\"which\" + 0.039*\"to\" + 0.033*\"deadlock\" + 0.028*\"origin\" + 0.026*\"prevent\" + 0.025*\"l\" + 0.023*\"where\" + 0.022*\"that\"\n",
      "2021-02-11 12:25:37,701 : INFO : topic #1 (0.019): 0.218*\"problem\" + 0.067*\"solut\" + 0.058*\"for\" + 0.048*\"in\" + 0.047*\"solv\" + 0.040*\"to\" + 0.028*\"linear\" + 0.027*\"is\" + 0.024*\"-\" + 0.023*\"program\"\n",
      "2021-02-11 12:25:37,702 : INFO : topic #89 (0.019): 0.314*\"system\" + 0.106*\"-\" + 0.063*\"time\" + 0.058*\"user\" + 0.054*\"share\" + 0.037*\"perform\" + 0.037*\"comput\" + 0.028*\"termin\" + 0.024*\"as\" + 0.022*\"to\"\n",
      "2021-02-11 12:25:37,703 : INFO : topic #39 (0.064): 0.408*\"(\" + 0.400*\")\" + 0.162*\"algorithm\" + 0.011*\"corrigendum\" + 0.007*\"evalu\" + 0.003*\"order\" + 0.003*\"jacobi\" + 0.002*\"card\" + 0.001*\"punch\" + 0.000*\"gener\"\n",
      "2021-02-11 12:25:37,705 : INFO : topic diff=0.174355, rho=0.231857\n",
      "2021-02-11 12:25:39,575 : INFO : -6.329 per-word bound, 80.4 perplexity estimate based on a held-out corpus of 1204 documents with 79462 words\n",
      "2021-02-11 12:25:39,575 : INFO : PROGRESS: pass 16, at document #3204/3204\n",
      "2021-02-11 12:25:41,133 : INFO : optimized alpha [0.013145526, 0.019204045, 0.011217278, 0.012597225, 0.012686968, 0.012172095, 0.01821174, 0.011742593, 0.012662843, 0.014815493, 0.012896784, 0.0110968, 0.01311701, 0.011329047, 0.012673988, 0.01241672, 0.013625836, 0.014252978, 0.013362896, 0.0069459276, 0.012699883, 0.013314303, 0.014963638, 0.01614042, 0.012097805, 0.0113686565, 0.011316307, 0.012186571, 0.013688525, 0.010485931, 0.013760694, 0.012594868, 0.013425947, 0.012981242, 0.013102064, 0.016432885, 0.010927324, 0.011481341, 0.01223629, 0.06551451, 0.013113461, 0.014430286, 0.012035733, 0.0147528285, 0.013634564, 0.011836299, 0.016027652, 0.011866497, 0.010824619, 0.015092015, 0.011671602, 0.012698519, 0.012153258, 0.015424361, 0.010877568, 0.01392692, 0.010310356, 0.011120749, 0.01159644, 0.0115479715, 0.012885596, 0.0127248615, 0.013644804, 0.011002871, 0.010754778, 0.011912768, 0.011710287, 0.011419496, 0.01626882, 0.01574903, 0.01138072, 0.014419784, 0.012003772, 0.010041433, 0.014136848, 0.0110046575, 0.018425059, 0.014571676, 0.012528805, 0.012448716, 0.012855622, 0.014648093, 0.0109833395, 0.01263494, 0.016534578, 0.011604123, 0.016871171, 0.013436451, 0.012987577, 0.019421747, 0.011603226, 0.012852064, 0.017188149, 0.011169867, 0.01303073, 0.016593628, 0.013281575, 0.013885603, 0.01319939, 0.01298161]\n",
      "2021-02-11 12:25:41,144 : INFO : merging changes from 1204 documents into a model of 3204 documents\n",
      "2021-02-11 12:25:41,160 : INFO : topic #19 (0.007): 0.001*\"lead\" + 0.001*\"debug\" + 0.001*\"major\" + 0.001*\"divid\" + 0.001*\"column\" + 0.001*\"verifi\" + 0.001*\"repetit\" + 0.001*\"reduc\" + 0.001*\"quit\" + 0.001*\"maximum\"\n",
      "2021-02-11 12:25:41,161 : INFO : topic #73 (0.010): 0.094*\"alloc\" + 0.071*\"resourc\" + 0.050*\"which\" + 0.039*\"to\" + 0.035*\"deadlock\" + 0.028*\"origin\" + 0.027*\"prevent\" + 0.023*\"where\" + 0.022*\"l\" + 0.022*\"that\"\n",
      "2021-02-11 12:25:41,162 : INFO : topic #1 (0.019): 0.223*\"problem\" + 0.067*\"solut\" + 0.059*\"for\" + 0.048*\"in\" + 0.047*\"solv\" + 0.041*\"to\" + 0.029*\"linear\" + 0.027*\"is\" + 0.025*\"-\" + 0.023*\"program\"\n",
      "2021-02-11 12:25:41,163 : INFO : topic #89 (0.019): 0.317*\"system\" + 0.105*\"-\" + 0.061*\"time\" + 0.058*\"user\" + 0.052*\"share\" + 0.040*\"perform\" + 0.037*\"comput\" + 0.028*\"termin\" + 0.024*\"as\" + 0.022*\"and\"\n",
      "2021-02-11 12:25:41,164 : INFO : topic #39 (0.066): 0.413*\"(\" + 0.404*\")\" + 0.153*\"algorithm\" + 0.013*\"corrigendum\" + 0.007*\"evalu\" + 0.002*\"jacobi\" + 0.002*\"order\" + 0.001*\"card\" + 0.001*\"punch\" + 0.000*\"gener\"\n"
     ]
    },
    {
     "name": "stderr",
     "output_type": "stream",
     "text": [
      "2021-02-11 12:25:41,165 : INFO : topic diff=0.179847, rho=0.231857\n",
      "2021-02-11 12:25:41,177 : INFO : PROGRESS: pass 17, at document #2000/3204\n",
      "2021-02-11 12:25:42,720 : INFO : optimized alpha [0.013146078, 0.019376464, 0.011217157, 0.0126337735, 0.012731119, 0.012179557, 0.018591529, 0.011768033, 0.012767707, 0.015075993, 0.012966325, 0.011135475, 0.013196298, 0.011369774, 0.012737395, 0.012450739, 0.013668498, 0.014344041, 0.013439309, 0.006914464, 0.012700319, 0.013320421, 0.015063702, 0.016200129, 0.012126255, 0.011353789, 0.011419362, 0.012306418, 0.013764156, 0.010509282, 0.013881676, 0.01258732, 0.013490734, 0.013120676, 0.013174077, 0.016429523, 0.010975406, 0.011527103, 0.012339131, 0.06785644, 0.013224073, 0.0145029165, 0.01202597, 0.014773252, 0.013699401, 0.011867427, 0.016178338, 0.011885056, 0.010864433, 0.015226634, 0.011755223, 0.012742837, 0.012258153, 0.015637062, 0.010956957, 0.013954101, 0.010373336, 0.011184583, 0.011628918, 0.011572045, 0.012993045, 0.012744002, 0.0137528535, 0.0110130375, 0.010753779, 0.011993046, 0.0117650395, 0.011457054, 0.016445387, 0.015928255, 0.01136441, 0.014497462, 0.01202889, 0.010035497, 0.014212446, 0.011009623, 0.018548092, 0.01456699, 0.012498049, 0.012538844, 0.012926634, 0.014804962, 0.010994713, 0.012650217, 0.016565243, 0.011678192, 0.01687362, 0.01352554, 0.013054995, 0.019674119, 0.011624348, 0.012964483, 0.017255832, 0.0111998925, 0.013066456, 0.016868731, 0.013274387, 0.013887334, 0.013368914, 0.012987182]\n",
      "2021-02-11 12:25:42,730 : INFO : merging changes from 2000 documents into a model of 3204 documents\n",
      "2021-02-11 12:25:42,750 : INFO : topic #19 (0.007): 0.001*\"lead\" + 0.001*\"debug\" + 0.001*\"major\" + 0.001*\"divid\" + 0.001*\"column\" + 0.001*\"verifi\" + 0.001*\"repetit\" + 0.001*\"reduc\" + 0.001*\"quit\" + 0.001*\"maximum\"\n",
      "2021-02-11 12:25:42,752 : INFO : topic #73 (0.010): 0.090*\"alloc\" + 0.068*\"resourc\" + 0.050*\"which\" + 0.039*\"to\" + 0.033*\"deadlock\" + 0.028*\"origin\" + 0.025*\"prevent\" + 0.025*\"l\" + 0.023*\"where\" + 0.022*\"that\"\n",
      "2021-02-11 12:25:42,753 : INFO : topic #1 (0.019): 0.221*\"problem\" + 0.067*\"solut\" + 0.058*\"for\" + 0.048*\"in\" + 0.047*\"solv\" + 0.040*\"to\" + 0.028*\"linear\" + 0.027*\"is\" + 0.025*\"-\" + 0.023*\"program\"\n",
      "2021-02-11 12:25:42,754 : INFO : topic #89 (0.020): 0.317*\"system\" + 0.107*\"-\" + 0.062*\"time\" + 0.057*\"user\" + 0.054*\"share\" + 0.037*\"perform\" + 0.037*\"comput\" + 0.027*\"termin\" + 0.024*\"as\" + 0.022*\"and\"\n",
      "2021-02-11 12:25:42,755 : INFO : topic #39 (0.068): 0.409*\"(\" + 0.400*\")\" + 0.162*\"algorithm\" + 0.011*\"corrigendum\" + 0.007*\"evalu\" + 0.002*\"jacobi\" + 0.002*\"order\" + 0.002*\"card\" + 0.001*\"punch\" + 0.000*\"gener\"\n",
      "2021-02-11 12:25:42,758 : INFO : topic diff=0.160979, rho=0.225865\n",
      "2021-02-11 12:25:44,552 : INFO : -6.324 per-word bound, 80.1 perplexity estimate based on a held-out corpus of 1204 documents with 79462 words\n",
      "2021-02-11 12:25:44,553 : INFO : PROGRESS: pass 17, at document #3204/3204\n",
      "2021-02-11 12:25:46,165 : INFO : optimized alpha [0.013307106, 0.019874465, 0.011297007, 0.012808582, 0.012841206, 0.012307082, 0.018699298, 0.011877348, 0.013129575, 0.015205561, 0.01308893, 0.011181121, 0.013392364, 0.011425849, 0.012898147, 0.012568747, 0.013837333, 0.014562593, 0.013597652, 0.0068741986, 0.012851859, 0.013493536, 0.015245509, 0.016502779, 0.012218733, 0.011469305, 0.01146934, 0.012395747, 0.013972478, 0.010577348, 0.013987881, 0.012759609, 0.013723665, 0.013244904, 0.013289872, 0.016660884, 0.011079973, 0.011595072, 0.012419629, 0.06971548, 0.013326103, 0.014751101, 0.012179555, 0.01496941, 0.013856081, 0.011966691, 0.016455458, 0.01200856, 0.010923757, 0.015409147, 0.011785227, 0.012864967, 0.012303156, 0.015730815, 0.011029101, 0.014119076, 0.010385338, 0.011221708, 0.011769154, 0.011651061, 0.013044314, 0.012890783, 0.013855409, 0.011107766, 0.010819541, 0.012028544, 0.011882985, 0.011542161, 0.016641768, 0.016161928, 0.011460106, 0.014688094, 0.012136196, 0.010134322, 0.014344747, 0.011074523, 0.01889295, 0.014787174, 0.012707923, 0.012653576, 0.013050883, 0.014992228, 0.01105948, 0.012800027, 0.01683208, 0.011796074, 0.017229283, 0.01370566, 0.013220862, 0.020117532, 0.01172357, 0.013079641, 0.017669873, 0.011309396, 0.013179383, 0.017273346, 0.013452001, 0.01409101, 0.013550543, 0.013134592]\n",
      "2021-02-11 12:25:46,175 : INFO : merging changes from 1204 documents into a model of 3204 documents\n",
      "2021-02-11 12:25:46,190 : INFO : topic #19 (0.007): 0.001*\"lead\" + 0.001*\"debug\" + 0.001*\"major\" + 0.001*\"divid\" + 0.001*\"column\" + 0.001*\"verifi\" + 0.001*\"repetit\" + 0.001*\"reduc\" + 0.001*\"quit\" + 0.001*\"maximum\"\n",
      "2021-02-11 12:25:46,191 : INFO : topic #73 (0.010): 0.099*\"alloc\" + 0.072*\"resourc\" + 0.051*\"which\" + 0.040*\"to\" + 0.035*\"deadlock\" + 0.027*\"origin\" + 0.026*\"prevent\" + 0.023*\"where\" + 0.022*\"that\" + 0.022*\"l\"\n",
      "2021-02-11 12:25:46,192 : INFO : topic #1 (0.020): 0.226*\"problem\" + 0.067*\"solut\" + 0.059*\"for\" + 0.049*\"in\" + 0.047*\"solv\" + 0.041*\"to\" + 0.029*\"linear\" + 0.028*\"is\" + 0.025*\"-\" + 0.023*\"program\"\n",
      "2021-02-11 12:25:46,193 : INFO : topic #89 (0.020): 0.320*\"system\" + 0.106*\"-\" + 0.061*\"time\" + 0.057*\"user\" + 0.052*\"share\" + 0.040*\"perform\" + 0.037*\"comput\" + 0.028*\"termin\" + 0.024*\"as\" + 0.023*\"and\"\n",
      "2021-02-11 12:25:46,193 : INFO : topic #39 (0.070): 0.414*\"(\" + 0.403*\")\" + 0.153*\"algorithm\" + 0.013*\"corrigendum\" + 0.007*\"evalu\" + 0.002*\"jacobi\" + 0.002*\"order\" + 0.001*\"card\" + 0.001*\"punch\" + 0.000*\"gener\"\n",
      "2021-02-11 12:25:46,195 : INFO : topic diff=0.166141, rho=0.225865\n",
      "2021-02-11 12:25:46,206 : INFO : PROGRESS: pass 18, at document #2000/3204\n",
      "2021-02-11 12:25:47,668 : INFO : optimized alpha [0.013310213, 0.020045029, 0.011297014, 0.012848291, 0.012885899, 0.012312844, 0.019078273, 0.0119062, 0.013237243, 0.015463939, 0.0131643, 0.01122041, 0.01346851, 0.011467195, 0.012964476, 0.012603352, 0.013884925, 0.014651684, 0.0136724515, 0.0068443976, 0.012847593, 0.013497587, 0.015346895, 0.01656031, 0.012242586, 0.011457237, 0.011573444, 0.01251931, 0.014049346, 0.010600367, 0.014110056, 0.012751772, 0.013786814, 0.01337954, 0.013360496, 0.016662499, 0.011124689, 0.01163742, 0.0125209, 0.07202982, 0.013434919, 0.014823383, 0.012173701, 0.014992184, 0.013919489, 0.011999837, 0.016605452, 0.012029207, 0.010962908, 0.01554148, 0.011867461, 0.012909705, 0.012405073, 0.015937248, 0.011115768, 0.014142202, 0.010455376, 0.011289466, 0.011800758, 0.011674747, 0.013145701, 0.012909201, 0.013958606, 0.0111177135, 0.010818725, 0.012106163, 0.011935401, 0.011580318, 0.016813852, 0.016337046, 0.011444214, 0.0147672985, 0.012160748, 0.010129569, 0.014417241, 0.011078322, 0.019010289, 0.014783352, 0.0126797315, 0.012744905, 0.013120597, 0.015152019, 0.011069586, 0.012813246, 0.016862895, 0.0118688475, 0.017233483, 0.013793037, 0.013291247, 0.020370796, 0.011750715, 0.013196119, 0.017752292, 0.011337491, 0.013223024, 0.017556813, 0.013448975, 0.014093653, 0.0137213785, 0.013141241]\n",
      "2021-02-11 12:25:47,679 : INFO : merging changes from 2000 documents into a model of 3204 documents\n",
      "2021-02-11 12:25:47,699 : INFO : topic #19 (0.007): 0.001*\"lead\" + 0.001*\"debug\" + 0.001*\"major\" + 0.001*\"divid\" + 0.001*\"column\" + 0.001*\"verifi\" + 0.001*\"repetit\" + 0.001*\"reduc\" + 0.001*\"quit\" + 0.001*\"maximum\"\n",
      "2021-02-11 12:25:47,701 : INFO : topic #73 (0.010): 0.095*\"alloc\" + 0.070*\"resourc\" + 0.050*\"which\" + 0.039*\"to\" + 0.033*\"deadlock\" + 0.028*\"origin\" + 0.025*\"prevent\" + 0.024*\"l\" + 0.023*\"where\" + 0.022*\"that\"\n",
      "2021-02-11 12:25:47,701 : INFO : topic #1 (0.020): 0.224*\"problem\" + 0.067*\"solut\" + 0.058*\"for\" + 0.049*\"in\" + 0.047*\"solv\" + 0.041*\"to\" + 0.028*\"linear\" + 0.028*\"is\" + 0.025*\"-\" + 0.023*\"program\"\n",
      "2021-02-11 12:25:47,702 : INFO : topic #89 (0.020): 0.320*\"system\" + 0.108*\"-\" + 0.062*\"time\" + 0.056*\"user\" + 0.053*\"share\" + 0.037*\"comput\" + 0.037*\"perform\" + 0.027*\"termin\" + 0.023*\"as\" + 0.023*\"and\"\n",
      "2021-02-11 12:25:47,703 : INFO : topic #39 (0.072): 0.411*\"(\" + 0.399*\")\" + 0.161*\"algorithm\" + 0.011*\"corrigendum\" + 0.007*\"evalu\" + 0.002*\"jacobi\" + 0.002*\"card\" + 0.001*\"order\" + 0.001*\"punch\" + 0.000*\"gener\"\n",
      "2021-02-11 12:25:47,704 : INFO : topic diff=0.149689, rho=0.220316\n",
      "2021-02-11 12:25:49,529 : INFO : -6.321 per-word bound, 79.9 perplexity estimate based on a held-out corpus of 1204 documents with 79462 words\n"
     ]
    },
    {
     "name": "stderr",
     "output_type": "stream",
     "text": [
      "2021-02-11 12:25:49,530 : INFO : PROGRESS: pass 18, at document #3204/3204\n",
      "2021-02-11 12:25:51,022 : INFO : optimized alpha [0.013468473, 0.020539422, 0.011377488, 0.013020427, 0.01299143, 0.012438118, 0.019180808, 0.012020187, 0.013616719, 0.015592899, 0.013284492, 0.011267229, 0.0136642475, 0.011526376, 0.013122677, 0.012719192, 0.014045821, 0.0148753235, 0.013830523, 0.0068061706, 0.013008673, 0.013660201, 0.015531125, 0.0168529, 0.012328813, 0.01157064, 0.011624224, 0.012606655, 0.014251938, 0.010663275, 0.014211262, 0.0129237315, 0.014014556, 0.0135038765, 0.013476449, 0.016886866, 0.011231505, 0.011701964, 0.0125973495, 0.07377992, 0.013534752, 0.0150682395, 0.012322443, 0.015187862, 0.014078563, 0.012095034, 0.016888106, 0.012148304, 0.011019032, 0.015726348, 0.011896654, 0.013027221, 0.012453485, 0.016030809, 0.011200694, 0.014309473, 0.010467074, 0.011327827, 0.011945349, 0.011756546, 0.013195643, 0.013055829, 0.014061415, 0.011212792, 0.010883284, 0.0121407965, 0.0120579675, 0.011661671, 0.017022537, 0.016576475, 0.011536087, 0.014946613, 0.012268329, 0.010228525, 0.014552237, 0.011142132, 0.019349972, 0.014997461, 0.012891091, 0.012857419, 0.013242597, 0.015341617, 0.0111393435, 0.012958173, 0.017122589, 0.011986847, 0.0175948, 0.013972911, 0.013456868, 0.020821493, 0.011852517, 0.013321121, 0.018173331, 0.011449169, 0.013333787, 0.017960086, 0.013628693, 0.014296875, 0.013905421, 0.013281255]\n",
      "2021-02-11 12:25:51,031 : INFO : merging changes from 1204 documents into a model of 3204 documents\n",
      "2021-02-11 12:25:51,046 : INFO : topic #19 (0.007): 0.001*\"lead\" + 0.001*\"debug\" + 0.001*\"major\" + 0.001*\"divid\" + 0.001*\"column\" + 0.001*\"verifi\" + 0.001*\"repetit\" + 0.001*\"reduc\" + 0.001*\"quit\" + 0.001*\"maximum\"\n",
      "2021-02-11 12:25:51,047 : INFO : topic #73 (0.010): 0.103*\"alloc\" + 0.073*\"resourc\" + 0.051*\"which\" + 0.040*\"to\" + 0.035*\"deadlock\" + 0.027*\"origin\" + 0.026*\"prevent\" + 0.023*\"that\" + 0.022*\"where\" + 0.022*\"l\"\n",
      "2021-02-11 12:25:51,048 : INFO : topic #1 (0.021): 0.229*\"problem\" + 0.067*\"solut\" + 0.059*\"for\" + 0.049*\"in\" + 0.048*\"solv\" + 0.041*\"to\" + 0.029*\"linear\" + 0.028*\"is\" + 0.025*\"-\" + 0.023*\"program\"\n",
      "2021-02-11 12:25:51,049 : INFO : topic #89 (0.021): 0.322*\"system\" + 0.107*\"-\" + 0.061*\"time\" + 0.057*\"user\" + 0.052*\"share\" + 0.039*\"perform\" + 0.037*\"comput\" + 0.028*\"termin\" + 0.023*\"as\" + 0.023*\"and\"\n",
      "2021-02-11 12:25:51,051 : INFO : topic #39 (0.074): 0.415*\"(\" + 0.403*\")\" + 0.153*\"algorithm\" + 0.013*\"corrigendum\" + 0.007*\"evalu\" + 0.002*\"jacobi\" + 0.001*\"card\" + 0.001*\"order\" + 0.001*\"punch\" + 0.000*\"gener\"\n",
      "2021-02-11 12:25:51,052 : INFO : topic diff=0.154332, rho=0.220316\n",
      "2021-02-11 12:25:51,063 : INFO : PROGRESS: pass 19, at document #2000/3204\n",
      "2021-02-11 12:25:52,485 : INFO : optimized alpha [0.0134696625, 0.02071456, 0.011380021, 0.013054801, 0.013033884, 0.012446302, 0.019555029, 0.012045817, 0.013725716, 0.015845928, 0.013357104, 0.011304711, 0.013738822, 0.011569536, 0.013193357, 0.012754426, 0.014093717, 0.014964234, 0.013902318, 0.006777877, 0.013007026, 0.013662227, 0.015630636, 0.016910292, 0.012354919, 0.011559984, 0.011726916, 0.012731272, 0.014330182, 0.010685927, 0.014336215, 0.0129183885, 0.014085421, 0.013635369, 0.013547235, 0.016891427, 0.01128263, 0.01174359, 0.012698465, 0.07607256, 0.013639023, 0.015145157, 0.012316347, 0.015209632, 0.014142124, 0.012128897, 0.017037442, 0.012169806, 0.011061116, 0.015861519, 0.011977614, 0.013075259, 0.012553891, 0.016234672, 0.011291001, 0.0143317515, 0.010537147, 0.01139084, 0.01198129, 0.011782353, 0.013302601, 0.013072204, 0.014161439, 0.011222511, 0.010887378, 0.012217217, 0.012113318, 0.011699134, 0.017192196, 0.016752848, 0.011520598, 0.015027353, 0.012292344, 0.0102226855, 0.014626386, 0.011144794, 0.019461807, 0.014986478, 0.012862556, 0.012945891, 0.013316769, 0.015505995, 0.011151805, 0.012969423, 0.017159604, 0.012059719, 0.017598689, 0.014061642, 0.013530204, 0.02108046, 0.011879093, 0.013440263, 0.018252863, 0.011479096, 0.013376567, 0.018242389, 0.013625202, 0.014301949, 0.0140746385, 0.013287477]\n",
      "2021-02-11 12:25:52,497 : INFO : merging changes from 2000 documents into a model of 3204 documents\n",
      "2021-02-11 12:25:52,513 : INFO : topic #19 (0.007): 0.001*\"lead\" + 0.001*\"debug\" + 0.001*\"major\" + 0.001*\"divid\" + 0.001*\"column\" + 0.001*\"verifi\" + 0.001*\"repetit\" + 0.001*\"reduc\" + 0.001*\"quit\" + 0.001*\"maximum\"\n",
      "2021-02-11 12:25:52,514 : INFO : topic #73 (0.010): 0.099*\"alloc\" + 0.071*\"resourc\" + 0.051*\"which\" + 0.040*\"to\" + 0.033*\"deadlock\" + 0.027*\"origin\" + 0.025*\"prevent\" + 0.024*\"l\" + 0.023*\"that\" + 0.022*\"where\"\n",
      "2021-02-11 12:25:52,515 : INFO : topic #1 (0.021): 0.227*\"problem\" + 0.068*\"solut\" + 0.059*\"for\" + 0.050*\"in\" + 0.047*\"solv\" + 0.041*\"to\" + 0.028*\"linear\" + 0.028*\"is\" + 0.025*\"-\" + 0.023*\"program\"\n",
      "2021-02-11 12:25:52,516 : INFO : topic #89 (0.021): 0.322*\"system\" + 0.108*\"-\" + 0.062*\"time\" + 0.056*\"user\" + 0.053*\"share\" + 0.037*\"comput\" + 0.036*\"perform\" + 0.027*\"termin\" + 0.023*\"as\" + 0.023*\"and\"\n",
      "2021-02-11 12:25:52,516 : INFO : topic #39 (0.076): 0.412*\"(\" + 0.398*\")\" + 0.161*\"algorithm\" + 0.011*\"corrigendum\" + 0.007*\"evalu\" + 0.002*\"jacobi\" + 0.002*\"card\" + 0.001*\"order\" + 0.001*\"punch\" + 0.000*\"gener\"\n",
      "2021-02-11 12:25:52,518 : INFO : topic diff=0.140032, rho=0.215156\n",
      "2021-02-11 12:25:54,228 : INFO : -6.316 per-word bound, 79.7 perplexity estimate based on a held-out corpus of 1204 documents with 79462 words\n",
      "2021-02-11 12:25:54,228 : INFO : PROGRESS: pass 19, at document #3204/3204\n",
      "2021-02-11 12:25:55,657 : INFO : optimized alpha [0.013625347, 0.021213189, 0.011457099, 0.01322678, 0.013130483, 0.012569481, 0.019656023, 0.012153558, 0.0141185615, 0.015977241, 0.013477541, 0.01135269, 0.013934252, 0.011625519, 0.013351568, 0.01286593, 0.014249407, 0.0151958, 0.014060267, 0.006741506, 0.013165624, 0.013827166, 0.015806088, 0.017221194, 0.012446363, 0.011675633, 0.011778626, 0.012823586, 0.014529937, 0.010749688, 0.014440379, 0.013097322, 0.014318382, 0.013759764, 0.013661041, 0.017108858, 0.011395822, 0.011804835, 0.01277557, 0.07771892, 0.013736774, 0.015387036, 0.012464985, 0.015399471, 0.014301235, 0.012228989, 0.017325971, 0.012291275, 0.011120124, 0.016046051, 0.012003918, 0.013190613, 0.012601169, 0.016328273, 0.011380466, 0.014498829, 0.01055239, 0.01142837, 0.012130281, 0.011858482, 0.013353609, 0.013214107, 0.014257006, 0.011324061, 0.010950876, 0.012251047, 0.012229492, 0.0117832, 0.017394004, 0.016986059, 0.011612962, 0.015209155, 0.012395871, 0.0103218295, 0.01475354, 0.011205528, 0.019796686, 0.015197296, 0.013070945, 0.013056328, 0.013441314, 0.015695393, 0.011220376, 0.013114275, 0.017418627, 0.012182265, 0.017956145, 0.0142438635, 0.013695725, 0.021519743, 0.011979118, 0.0135653615, 0.018664349, 0.011593027, 0.013485304, 0.018650508, 0.0138095785, 0.014499665, 0.014261119, 0.013425139]\n",
      "2021-02-11 12:25:55,666 : INFO : merging changes from 1204 documents into a model of 3204 documents\n",
      "2021-02-11 12:25:55,681 : INFO : topic #19 (0.007): 0.001*\"lead\" + 0.001*\"debug\" + 0.001*\"major\" + 0.001*\"divid\" + 0.001*\"column\" + 0.001*\"verifi\" + 0.001*\"repetit\" + 0.001*\"reduc\" + 0.001*\"quit\" + 0.001*\"maximum\"\n",
      "2021-02-11 12:25:55,681 : INFO : topic #73 (0.010): 0.106*\"alloc\" + 0.074*\"resourc\" + 0.051*\"which\" + 0.040*\"to\" + 0.035*\"deadlock\" + 0.027*\"origin\" + 0.026*\"prevent\" + 0.023*\"that\" + 0.022*\"l\" + 0.022*\"where\"\n",
      "2021-02-11 12:25:55,682 : INFO : topic #1 (0.021): 0.232*\"problem\" + 0.068*\"solut\" + 0.059*\"for\" + 0.050*\"in\" + 0.048*\"solv\" + 0.041*\"to\" + 0.029*\"linear\" + 0.028*\"is\" + 0.026*\"-\" + 0.023*\"program\"\n",
      "2021-02-11 12:25:55,683 : INFO : topic #89 (0.022): 0.324*\"system\" + 0.108*\"-\" + 0.061*\"time\" + 0.057*\"user\" + 0.052*\"share\" + 0.039*\"perform\" + 0.037*\"comput\" + 0.027*\"termin\" + 0.023*\"as\" + 0.023*\"and\"\n",
      "2021-02-11 12:25:55,684 : INFO : topic #39 (0.078): 0.417*\"(\" + 0.402*\")\" + 0.153*\"algorithm\" + 0.013*\"corrigendum\" + 0.007*\"evalu\" + 0.002*\"jacobi\" + 0.001*\"card\" + 0.001*\"order\" + 0.001*\"punch\" + 0.000*\"gener\"\n",
      "2021-02-11 12:25:55,685 : INFO : topic diff=0.144390, rho=0.215156\n"
     ]
    },
    {
     "data": {
      "text/plain": [
       "[(0, 0.005586143),\n",
       " (1, 0.00869702),\n",
       " (2, 0.004697201),\n",
       " (3, 0.005422738),\n",
       " (4, 0.005383258),\n",
       " (5, 0.0051532574),\n",
       " (6, 0.00805861),\n",
       " (7, 0.004982737),\n",
       " (8, 0.005788352),\n",
       " (9, 0.006550377),\n",
       " (10, 0.005525545),\n",
       " (11, 0.0046543954),\n",
       " (12, 0.0057127886),\n",
       " (13, 0.00476625),\n",
       " (14, 0.0054738987),\n",
       " (15, 0.005274796),\n",
       " (16, 0.005841996),\n",
       " (17, 0.00623),\n",
       " (18, 0.0057644523),\n",
       " (19, 0.0027638942),\n",
       " (20, 0.005397665),\n",
       " (21, 0.005668885),\n",
       " (22, 0.41645655),\n",
       " (23, 0.0070603746),\n",
       " (24, 0.0051027816),\n",
       " (25, 0.004786796),\n",
       " (26, 0.004829021),\n",
       " (27, 0.005257436),\n",
       " (28, 0.0059570083),\n",
       " (29, 0.004407176),\n",
       " (30, 0.0059202914),\n",
       " (31, 0.0053696623),\n",
       " (32, 0.0058702747),\n",
       " (33, 0.005641252),\n",
       " (34, 0.005600777),\n",
       " (35, 0.007014319),\n",
       " (36, 0.004672079),\n",
       " (37, 0.0048397663),\n",
       " (38, 0.0052377502),\n",
       " (39, 0.031863336),\n",
       " (40, 0.0056318264),\n",
       " (41, 0.0063084033),\n",
       " (42, 0.005110416),\n",
       " (43, 0.0063135014),\n",
       " (44, 0.0058632446),\n",
       " (45, 0.005013662),\n",
       " (46, 0.0071033314),\n",
       " (47, 0.005039198),\n",
       " (48, 0.0045590475),\n",
       " (49, 0.0065785875),\n",
       " (50, 0.004921387),\n",
       " (51, 0.0054079103),\n",
       " (52, 0.005166249),\n",
       " (53, 0.0066942936),\n",
       " (54, 0.0046657827),\n",
       " (55, 0.005944255),\n",
       " (56, 0.0043262867),\n",
       " (57, 0.004685423),\n",
       " (58, 0.004973193),\n",
       " (59, 0.004861761),\n",
       " (60, 0.0054747355),\n",
       " (61, 0.005417542),\n",
       " (62, 0.005845112),\n",
       " (63, 0.004642658),\n",
       " (64, 0.004489659),\n",
       " (65, 0.0050227055),\n",
       " (66, 0.005013868),\n",
       " (67, 0.004830897),\n",
       " (68, 0.0071312236),\n",
       " (69, 0.0069639734),\n",
       " (70, 0.004761102),\n",
       " (71, 0.0062354757),\n",
       " (72, 0.0050820806),\n",
       " (73, 0.004231761),\n",
       " (74, 0.0060486817),\n",
       " (75, 0.0045940615),\n",
       " (76, 0.00811628),\n",
       " (77, 0.006230613),\n",
       " (78, 0.0053588483),\n",
       " (79, 0.0053528557),\n",
       " (80, 0.005510693),\n",
       " (81, 0.0064348243),\n",
       " (82, 0.004600149),\n",
       " (83, 0.0053766132),\n",
       " (84, 0.0071413186),\n",
       " (85, 0.0049945056),\n",
       " (86, 0.007361691),\n",
       " (87, 0.0058397236),\n",
       " (88, 0.005614997),\n",
       " (89, 0.008822701),\n",
       " (90, 0.0049112192),\n",
       " (91, 0.00556155),\n",
       " (92, 0.007652042),\n",
       " (93, 0.0047529293),\n",
       " (94, 0.005528728),\n",
       " (95, 0.007646367),\n",
       " (96, 0.005661675),\n",
       " (97, 0.0059445975),\n",
       " (98, 0.005846798),\n",
       " (99, 0.0055040615)]"
      ]
     },
     "execution_count": 101,
     "metadata": {},
     "output_type": "execute_result"
    }
   ],
   "source": [
    "##### Function check\n",
    "lda = LdaRetrievalModel(doc_repr_2)\n",
    "lda.train_model()\n",
    "\n",
    "# you can now get an LDA vector for a given query in the following way:\n",
    "lda.vectorize_query(\"report\")\n",
    "##### "
   ]
  },
  {
   "cell_type": "markdown",
   "metadata": {
    "deletable": false,
    "editable": false,
    "id": "Ytw2BnNn4IWu",
    "nbgrader": {
     "cell_type": "markdown",
     "checksum": "32d83b6ea79ca3ddb789a7f8805a1b25",
     "grade": false,
     "grade_id": "cell-0e24b727d5908c0e",
     "locked": true,
     "points": 5,
     "schema_version": 3,
     "solution": false,
     "task": true
    }
   },
   "source": [
    "\\#### Please do not change this. This cell is used for grading."
   ]
  },
  {
   "cell_type": "markdown",
   "metadata": {
    "deletable": false,
    "editable": false,
    "id": "PqZBboVz4IWu",
    "nbgrader": {
     "cell_type": "markdown",
     "checksum": "114a934f0b9ce696e6cf09d3b8da6a3d",
     "grade": false,
     "grade_id": "cell-b1bffcb970b18aeb",
     "locked": true,
     "schema_version": 3,
     "solution": false,
     "task": false
    }
   },
   "source": [
    "---\n",
    "Now we can use the `DenseRetrievalModel` class to obtain an LDA search function.\n",
    "You can test your LDA model in the following cell: Try finding queries which are lexically different to documents, but semantically similar - does LDA work well for these queries?!"
   ]
  },
  {
   "cell_type": "code",
   "execution_count": 102,
   "metadata": {
    "ExecuteTime": {
     "end_time": "2021-02-09T08:10:48.724427Z",
     "start_time": "2021-02-09T08:10:42.690Z"
    },
    "id": "TnPkNnQb4IWu"
   },
   "outputs": [
    {
     "ename": "NameError",
     "evalue": "name 'DenseRetrievalRanker' is not defined",
     "output_type": "error",
     "traceback": [
      "\u001b[1;31m---------------------------------------------------------------------------\u001b[0m",
      "\u001b[1;31mNameError\u001b[0m                                 Traceback (most recent call last)",
      "\u001b[1;32m<ipython-input-102-be086182ffe9>\u001b[0m in \u001b[0;36m<module>\u001b[1;34m\u001b[0m\n\u001b[1;32m----> 1\u001b[1;33m \u001b[0mdrm_lda\u001b[0m \u001b[1;33m=\u001b[0m \u001b[0mDenseRetrievalRanker\u001b[0m\u001b[1;33m(\u001b[0m\u001b[0mlda\u001b[0m\u001b[1;33m,\u001b[0m \u001b[0mjenson_shannon_sim\u001b[0m\u001b[1;33m)\u001b[0m\u001b[1;33m\u001b[0m\u001b[1;33m\u001b[0m\u001b[0m\n\u001b[0m\u001b[0;32m      2\u001b[0m \u001b[1;33m\u001b[0m\u001b[0m\n\u001b[0;32m      3\u001b[0m \u001b[1;31m# test your LDA model\u001b[0m\u001b[1;33m\u001b[0m\u001b[1;33m\u001b[0m\u001b[1;33m\u001b[0m\u001b[0m\n\u001b[0;32m      4\u001b[0m \u001b[0msearch_fn\u001b[0m \u001b[1;33m=\u001b[0m \u001b[0mdrm_lda\u001b[0m\u001b[1;33m.\u001b[0m\u001b[0msearch\u001b[0m\u001b[1;33m\u001b[0m\u001b[1;33m\u001b[0m\u001b[0m\n\u001b[0;32m      5\u001b[0m \u001b[1;33m\u001b[0m\u001b[0m\n",
      "\u001b[1;31mNameError\u001b[0m: name 'DenseRetrievalRanker' is not defined"
     ]
    }
   ],
   "source": [
    "drm_lda = DenseRetrievalRanker(lda, jenson_shannon_sim)\n",
    "\n",
    "# test your LDA model\n",
    "search_fn = drm_lda.search\n",
    "\n",
    "text = widgets.Text(description=\"Search Bar\", width=200)\n",
    "display(text)\n",
    "\n",
    "\n",
    "text.on_submit(handle_submit_2)"
   ]
  },
  {
   "cell_type": "markdown",
   "metadata": {
    "deletable": false,
    "editable": false,
    "id": "xa0oM-SP4IWu",
    "nbgrader": {
     "cell_type": "markdown",
     "checksum": "9d7f15863b655119b45f4d89354e5661",
     "grade": false,
     "grade_id": "cell-190cd0854b2791cc",
     "locked": true,
     "schema_version": 3,
     "solution": false,
     "task": false
    }
   },
   "source": [
    "## Section 8: Word2Vec/Doc2Vec (20 points) <a class=\"anchor\" id=\"2vec\"></a>\n",
    "\n",
    "[Back to Part 2](#part2)\n",
    "\n",
    "We will implement two other methods here, the Word2Vec model and the Doc2Vec model, also using `gensim`. Word2Vec creates representations of words, not documents, so the word level vectors need to be aggregated to obtain a representation for the document. Here, we will simply take the mean of the vectors. \n",
    "\n",
    "\n",
    "A drawback of these models is that they need a lot of training data. Our dataset is tiny, so in addition to using a model trained on the data, we will also use a pre-trained model for Word2Vec (this will be automatically downloaded).     \n",
    "\n",
    "*Note*:\n",
    "1. The code in vectorize_documents / vectorize_query should return gensim-like vectors i.e `[(dim, val), .. (dim, val)]`. \n",
    "2. For Word2Vec: You should also handle the following two cases: (a) A word in the query is not present in the vocabulary of the model and (b) none of the words in the query are present in the model - you can return 0 scores for all documents in this case. For either of these, you can check if a `word` is present in the vocab by using `word in self.model`\n"
   ]
  },
  {
   "cell_type": "code",
   "execution_count": null,
   "metadata": {
    "ExecuteTime": {
     "end_time": "2021-02-09T08:10:48.725424Z",
     "start_time": "2021-02-09T08:10:42.693Z"
    },
    "deletable": false,
    "id": "gPHOpyp34IWu",
    "nbgrader": {
     "cell_type": "code",
     "checksum": "83ab733608ed14c29c09b36b4e1b6daa",
     "grade": false,
     "grade_id": "cell-2b73759f9baf688f",
     "locked": false,
     "schema_version": 3,
     "solution": true,
     "task": false
    }
   },
   "outputs": [],
   "source": [
    "# TODO: Implement this! (10 points)\n",
    "class W2VRetrievalModel(VectorSpaceRetrievalModel):\n",
    "    def __init__(self, doc_repr):\n",
    "        super().__init__(doc_repr)\n",
    "        \n",
    "        # the dimensionality of the vectors\n",
    "        self.size = 100 \n",
    "        self.min_count = 1\n",
    "    \n",
    "    def train_model(self):\n",
    "        \"\"\"\n",
    "        Trains the W2V model\n",
    "        \"\"\"\n",
    "        # YOUR CODE HERE\n",
    "        raise NotImplementedError()\n",
    "        \n",
    "    def vectorize_documents(self):\n",
    "        \"\"\"\n",
    "            Returns a doc_id -> vector dictionary\n",
    "        \"\"\"\n",
    "        # YOUR CODE HERE\n",
    "        raise NotImplementedError()\n",
    "\n",
    "    def vectorize_query(self, query):\n",
    "        \"\"\"\n",
    "        Vectorizes the query using the W2V model\n",
    "        \"\"\"\n",
    "        query = process_text(query, **config_2)\n",
    "        # YOUR CODE HERE\n",
    "        raise NotImplementedError()\n",
    "    \n",
    "    \n",
    "class W2VPretrainedRetrievalModel(W2VRetrievalModel):\n",
    "    def __init__(self, doc_repr):\n",
    "        super().__init__(doc_repr)\n",
    "        self.model_name = \"word2vec-google-news-300\"\n",
    "        self.size = 300\n",
    "    \n",
    "    def train_model(self):\n",
    "        \"\"\"\n",
    "        Loads the pretrained model\n",
    "        \"\"\"\n",
    "        self.model = g_downloader.load(self.model_name)\n",
    "\n",
    "w2v = W2VRetrievalModel(doc_repr_2)\n",
    "w2v.train_model()\n",
    "\n",
    "# you can now get a W2V vector for a given query in the following way:\n",
    "w2v.vectorize_query(\"report\")"
   ]
  },
  {
   "cell_type": "code",
   "execution_count": null,
   "metadata": {
    "ExecuteTime": {
     "end_time": "2021-02-09T08:10:48.726421Z",
     "start_time": "2021-02-09T08:10:42.694Z"
    },
    "deletable": false,
    "editable": false,
    "id": "ATy5tnMV4IWv",
    "nbgrader": {
     "cell_type": "code",
     "checksum": "f92b5c5a8c6c4b80652b94223209ab0b",
     "grade": true,
     "grade_id": "cell-b31c0f8d214b8bdf",
     "locked": true,
     "points": 0,
     "schema_version": 3,
     "solution": false,
     "task": false
    }
   },
   "outputs": [],
   "source": [
    "assert len(w2v.vectorize_query(\"report\")) == 100\n",
    "assert len(w2v.vectorize_query(\"this is a sentence that is not mellifluous\")) == 100\n"
   ]
  },
  {
   "cell_type": "markdown",
   "metadata": {
    "deletable": false,
    "editable": false,
    "id": "lP0VtCid4IWv",
    "nbgrader": {
     "cell_type": "markdown",
     "checksum": "8dfaabebcb06f308a7ca61fdc5d369e7",
     "grade": false,
     "grade_id": "cell-c2614fa067386384",
     "locked": true,
     "points": 8,
     "schema_version": 3,
     "solution": false,
     "task": true
    }
   },
   "source": [
    "\\#### Please do not change this. This cell is used for grading."
   ]
  },
  {
   "cell_type": "code",
   "execution_count": null,
   "metadata": {
    "ExecuteTime": {
     "end_time": "2021-02-09T08:10:48.726421Z",
     "start_time": "2021-02-09T08:10:42.697Z"
    },
    "id": "-aeBam5p4IWv"
   },
   "outputs": [],
   "source": [
    "w2v_pretrained = W2VPretrainedRetrievalModel(doc_repr_2)\n",
    "w2v_pretrained.train_model()\n",
    "\n",
    "# you can now get an W2V vector for a given query in the following way:\n",
    "w2v_pretrained.vectorize_query(\"report\")"
   ]
  },
  {
   "cell_type": "code",
   "execution_count": null,
   "metadata": {
    "ExecuteTime": {
     "end_time": "2021-02-09T08:10:48.727419Z",
     "start_time": "2021-02-09T08:10:42.699Z"
    },
    "deletable": false,
    "editable": false,
    "id": "_0ifhcln4IWv",
    "nbgrader": {
     "cell_type": "code",
     "checksum": "0822845afb5eafe5ddb1ffeaa4f4942a",
     "grade": true,
     "grade_id": "cell-1b1466f8ce516f42",
     "locked": true,
     "points": 2,
     "schema_version": 3,
     "solution": false,
     "task": false
    }
   },
   "outputs": [],
   "source": [
    "##### Function check\n",
    "\n",
    "print(len(w2v_pretrained.vectorize_query(\"report\")))\n",
    "#####"
   ]
  },
  {
   "cell_type": "code",
   "execution_count": null,
   "metadata": {
    "ExecuteTime": {
     "end_time": "2021-02-09T08:10:48.728416Z",
     "start_time": "2021-02-09T08:10:42.701Z"
    },
    "id": "VCpO-xcU4IWv"
   },
   "outputs": [],
   "source": [
    "drm_w2v = DenseRetrievalRanker(w2v, cosine_sim)\n",
    "\n",
    "# test your LDA model\n",
    "search_fn = drm_w2v.search\n",
    "\n",
    "text = widgets.Text(description=\"Search Bar\", width=200)\n",
    "display(text)\n",
    "\n",
    "\n",
    "text.on_submit(handle_submit_2)"
   ]
  },
  {
   "cell_type": "code",
   "execution_count": null,
   "metadata": {
    "ExecuteTime": {
     "end_time": "2021-02-09T08:10:48.728416Z",
     "start_time": "2021-02-09T08:10:42.703Z"
    },
    "id": "7wyn-qfY4IWv"
   },
   "outputs": [],
   "source": [
    "drm_w2v_pretrained = DenseRetrievalRanker(w2v_pretrained, cosine_sim)\n",
    "\n",
    "# test your LDA model\n",
    "search_fn = drm_w2v_pretrained.search\n",
    "\n",
    "text = widgets.Text(description=\"Search Bar\", width=200)\n",
    "display(text)\n",
    "\n",
    "\n",
    "text.on_submit(handle_submit_2)"
   ]
  },
  {
   "cell_type": "markdown",
   "metadata": {
    "deletable": false,
    "editable": false,
    "id": "giJFuUld4IWv",
    "nbgrader": {
     "cell_type": "markdown",
     "checksum": "51b778984fd60757974f51047c61eb15",
     "grade": false,
     "grade_id": "cell-b92f701cbc706108",
     "locked": true,
     "schema_version": 3,
     "solution": false,
     "task": false
    }
   },
   "source": [
    "**Implementation (10 points):**\n",
    "For Doc2Vec, you will need to create a list of `TaggedDocument` instead of using the `self.corpus` or `self.documents` variable. Use the document id as the 'tag'.\n",
    "  "
   ]
  },
  {
   "cell_type": "code",
   "execution_count": null,
   "metadata": {
    "ExecuteTime": {
     "end_time": "2021-02-09T08:10:48.729414Z",
     "start_time": "2021-02-09T08:10:42.705Z"
    },
    "deletable": false,
    "id": "_Ie4aqXa4IWw",
    "nbgrader": {
     "cell_type": "code",
     "checksum": "1f60fdeb97febb7f4a6fd5bf109aac20",
     "grade": false,
     "grade_id": "cell-680facdcc98a19ab",
     "locked": false,
     "schema_version": 3,
     "solution": true,
     "task": false
    }
   },
   "outputs": [],
   "source": [
    "# TODO: Implement this! (10 points)\n",
    "class D2VRetrievalModel(VectorSpaceRetrievalModel):\n",
    "    def __init__(self, doc_repr):\n",
    "        super().__init__(doc_repr)\n",
    "        \n",
    "        self.vector_size= 100\n",
    "        self.min_count = 1\n",
    "        self.epochs = 20\n",
    "        \n",
    "        # YOUR CODE HERE\n",
    "        raise NotImplementedError()\n",
    "        \n",
    "    def train_model(self):\n",
    "        # YOUR CODE HERE\n",
    "        raise NotImplementedError()\n",
    "    \n",
    "    def vectorize_documents(self):\n",
    "        \"\"\"\n",
    "            Returns a doc_id -> vector dictionary\n",
    "        \"\"\"\n",
    "        # YOUR CODE HERE\n",
    "        raise NotImplementedError()\n",
    "\n",
    "    def vectorize_query(self, query):\n",
    "        # YOUR CODE HERE\n",
    "        raise NotImplementedError()\n",
    "        \n",
    "d2v = D2VRetrievalModel(doc_repr_2)\n",
    "d2v.train_model()\n",
    "\n",
    "\n",
    "# # you can now get an LSI vector for a given query in the following way:\n",
    "d2v.vectorize_query(\"report\")"
   ]
  },
  {
   "cell_type": "code",
   "execution_count": null,
   "metadata": {
    "ExecuteTime": {
     "end_time": "2021-02-09T08:10:48.729414Z",
     "start_time": "2021-02-09T08:10:42.707Z"
    },
    "deletable": false,
    "editable": false,
    "id": "PES2gma44IWw",
    "nbgrader": {
     "cell_type": "code",
     "checksum": "e83a363a9d4f136efbdde1426a83925e",
     "grade": true,
     "grade_id": "cell-5e2c5e0c9a2e8cb5",
     "locked": true,
     "points": 0,
     "schema_version": 3,
     "solution": false,
     "task": false
    }
   },
   "outputs": [],
   "source": [
    "#### Please do not change this. This cell is used for grading."
   ]
  },
  {
   "cell_type": "markdown",
   "metadata": {
    "deletable": false,
    "editable": false,
    "id": "uCHYfnTf4IWw",
    "nbgrader": {
     "cell_type": "markdown",
     "checksum": "5bb46bf6b9be1e0ca66f0b0bc6260ecb",
     "grade": false,
     "grade_id": "cell-8a49d414f798a595",
     "locked": true,
     "points": 10,
     "schema_version": 3,
     "solution": false,
     "task": true
    }
   },
   "source": [
    "\\#### Please do not change this. This cell is used for grading."
   ]
  },
  {
   "cell_type": "code",
   "execution_count": null,
   "metadata": {
    "ExecuteTime": {
     "end_time": "2021-02-09T08:10:48.730411Z",
     "start_time": "2021-02-09T08:10:42.709Z"
    },
    "id": "eceopG-Y4IWw"
   },
   "outputs": [],
   "source": [
    "drm_d2v = DenseRetrievalRanker(d2v, cosine_sim)\n",
    "\n",
    "# test your LDA model\n",
    "search_fn = drm_d2v.search\n",
    "\n",
    "text = widgets.Text(description=\"Search Bar\", width=200)\n",
    "display(text)\n",
    "\n",
    "\n",
    "text.on_submit(handle_submit_2)"
   ]
  },
  {
   "cell_type": "markdown",
   "metadata": {
    "deletable": false,
    "editable": false,
    "id": "uJBmD00Y4IWw",
    "nbgrader": {
     "cell_type": "markdown",
     "checksum": "363ec36c1d03d9f9e1c2045a6e193c14",
     "grade": false,
     "grade_id": "cell-3529ae29eece7b97",
     "locked": true,
     "schema_version": 3,
     "solution": false,
     "task": false
    }
   },
   "source": [
    "---\n",
    "## Section 9: Re-ranking (10 points) <a class=\"anchor\" id=\"reranking\"></a>\n",
    "\n",
    "[Back to Part 2](#part2)\n",
    "\n",
    "To motivate the re-ranking perspective (i.e retrieve with lexical method + rerank with a semantic method), let's search using semantic methods and compare it to BM25's performance, along with their runtime:\n"
   ]
  },
  {
   "cell_type": "code",
   "execution_count": null,
   "metadata": {
    "ExecuteTime": {
     "end_time": "2021-02-09T08:10:48.731408Z",
     "start_time": "2021-02-09T08:10:42.712Z"
    },
    "deletable": false,
    "editable": false,
    "id": "iO8Q3KWc4IWw",
    "nbgrader": {
     "cell_type": "code",
     "checksum": "5755f70e3eb28abc65d14d80125338af",
     "grade": false,
     "grade_id": "cell-f8f43bf5ae383128",
     "locked": true,
     "schema_version": 3,
     "solution": false,
     "task": false
    }
   },
   "outputs": [],
   "source": [
    "query = \"algebraic functions\"\n",
    "print(\"BM25: \")\n",
    "%timeit bm25_search(query, 2)\n",
    "print(\"LSI: \")\n",
    "%timeit drm_lsi.search(query)\n",
    "print(\"LDA: \")\n",
    "%timeit drm_lda.search(query)\n",
    "print(\"W2V: \")\n",
    "%timeit drm_w2v.search(query)\n",
    "print(\"W2V(Pretrained): \")\n",
    "%timeit drm_w2v_pretrained.search(query)\n",
    "print(\"D2V:\")\n",
    "%timeit drm_d2v.search(query)"
   ]
  },
  {
   "cell_type": "markdown",
   "metadata": {
    "deletable": false,
    "editable": false,
    "id": "oBnOArQC4IWx",
    "nbgrader": {
     "cell_type": "markdown",
     "checksum": "ae398da0a8c23c95bcbb0023b7ec6f34",
     "grade": false,
     "grade_id": "cell-db5ff09f97841af7",
     "locked": true,
     "schema_version": 3,
     "solution": false,
     "task": false
    }
   },
   "source": [
    "---\n",
    "\n",
    "**Implementation (10 points):**\n",
    "Re-ranking involves retrieving a small set of documents using simple but fast methods like BM25 and then re-ranking them with the aid of semantic methods such as LDA or LSI. Implement the following class, which takes in an `initial_retrieval_fn` - the initial retrieval function and `vsrm` - an instance of the `VectorSpaceRetrievalModel` class (i.e LSI/LDA) as input. The search function should first retrieve an initial list of K documents, and then these documents are re-ranked using a semantic method. This not only makes retrieval faster, but semantic methods perform poorly when used in isolation, as you will find out."
   ]
  },
  {
   "cell_type": "code",
   "execution_count": null,
   "metadata": {
    "ExecuteTime": {
     "end_time": "2021-02-09T08:10:48.731408Z",
     "start_time": "2021-02-09T08:10:42.714Z"
    },
    "deletable": false,
    "id": "Uxl8iQ1q4IWx",
    "nbgrader": {
     "cell_type": "code",
     "checksum": "63b6b05a676a2ae3f08d8bed1bc59428",
     "grade": false,
     "grade_id": "cell-5bf47600d1a0c507",
     "locked": false,
     "schema_version": 3,
     "solution": true,
     "task": false
    }
   },
   "outputs": [],
   "source": [
    "# TODO: Implement this! (10 points)\n",
    "class DenseRerankingModel:\n",
    "    def __init__(self, initial_retrieval_fn, vsrm, similarity_fn):\n",
    "        \"\"\"\n",
    "            initial_retrieval_fn: takes in a query and returns a list of [(doc_id, score)] (sorted)\n",
    "            vsrm: instance of `VectorSpaceRetrievalModel`\n",
    "            similarity_fn: function instance that takes in two vectors \n",
    "                            and returns a similarity score e.g cosine_sim defined earlier\n",
    "        \"\"\"\n",
    "        self.ret = initial_retrieval_fn\n",
    "        self.vsrm = vsrm\n",
    "        self.similarity_fn = similarity_fn\n",
    "        self.vectorized_documents = vsrm.vectorize_documents()\n",
    "        \n",
    "        assert len(self.vectorized_documents) == len(doc_repr_2)\n",
    "    \n",
    "    def search(self, query, K=50):\n",
    "        \"\"\"\n",
    "            First, retrieve the top K results using the retrieval function\n",
    "            Then, re-rank the results using the VSRM instance\n",
    "        \"\"\"\n",
    "        # YOUR CODE HERE\n",
    "        raise NotImplementedError()"
   ]
  },
  {
   "cell_type": "code",
   "execution_count": null,
   "metadata": {
    "ExecuteTime": {
     "end_time": "2021-02-09T08:10:48.732405Z",
     "start_time": "2021-02-09T08:10:42.716Z"
    },
    "deletable": false,
    "editable": false,
    "id": "rNBMLq3T4IWx",
    "nbgrader": {
     "cell_type": "code",
     "checksum": "334ab5af96976265cace682ab82a7387",
     "grade": true,
     "grade_id": "cell-52c6d18a4c0b4882",
     "locked": true,
     "points": 0,
     "schema_version": 3,
     "solution": false,
     "task": false
    }
   },
   "outputs": [],
   "source": [
    "##### Function check\n",
    "bm25_search_2 = partial(bm25_search, index_set=2)\n",
    "lsi_rerank = DenseRerankingModel(bm25_search_2, lsi, cosine_sim)\n",
    "lda_rerank = DenseRerankingModel(bm25_search_2, lda, jenson_shannon_sim)\n",
    "w2v_rerank = DenseRerankingModel(bm25_search_2, w2v, cosine_sim)\n",
    "w2v_pretrained_rerank = DenseRerankingModel(bm25_search_2, w2v_pretrained, cosine_sim)\n",
    "d2v_rerank = DenseRerankingModel(bm25_search_2, d2v, cosine_sim)\n",
    "\n",
    "##### "
   ]
  },
  {
   "cell_type": "markdown",
   "metadata": {
    "deletable": false,
    "editable": false,
    "id": "LPYGMblR4IWx",
    "nbgrader": {
     "cell_type": "markdown",
     "checksum": "bd904253f45f84e63bab3a69729058fc",
     "grade": false,
     "grade_id": "cell-93215dfe6bcf7cff",
     "locked": true,
     "points": 10,
     "schema_version": 3,
     "solution": false,
     "task": true
    }
   },
   "source": [
    "\\#### Please do not change this. This cell is used for grading."
   ]
  },
  {
   "cell_type": "markdown",
   "metadata": {
    "deletable": false,
    "editable": false,
    "id": "qkEXXhZR4IWx",
    "nbgrader": {
     "cell_type": "markdown",
     "checksum": "b592e60292bfe3d9ef2930a354c4077a",
     "grade": false,
     "grade_id": "cell-aa694ff55fa91e7d",
     "locked": true,
     "schema_version": 3,
     "solution": false,
     "task": false
    }
   },
   "source": [
    "---\n",
    "Now, let us time the new search functions:"
   ]
  },
  {
   "cell_type": "code",
   "execution_count": null,
   "metadata": {
    "ExecuteTime": {
     "end_time": "2021-02-09T08:10:48.733402Z",
     "start_time": "2021-02-09T08:10:42.719Z"
    },
    "deletable": false,
    "editable": false,
    "id": "CLJJ1U8P4IWy",
    "nbgrader": {
     "cell_type": "code",
     "checksum": "338c7e3528cba266a865a061287c0e38",
     "grade": false,
     "grade_id": "cell-5edbd481562ad91f",
     "locked": true,
     "schema_version": 3,
     "solution": false,
     "task": false
    }
   },
   "outputs": [],
   "source": [
    "query = \"algebraic functions\"\n",
    "print(\"BM25: \")\n",
    "%timeit bm25_search(query, 2)\n",
    "print(\"LSI: \")\n",
    "%timeit lsi_rerank.search(query)\n",
    "print(\"LDA: \")\n",
    "%timeit lda_rerank.search(query)\n",
    "print(\"W2V: \")\n",
    "%timeit w2v_rerank.search(query)\n",
    "print(\"W2V(Pretrained): \")\n",
    "%timeit w2v_pretrained_rerank.search(query)\n",
    "print(\"D2V:\")\n",
    "%timeit d2v_rerank.search(query)"
   ]
  },
  {
   "cell_type": "markdown",
   "metadata": {
    "deletable": false,
    "editable": false,
    "id": "3YxKmu1l4IWy",
    "nbgrader": {
     "cell_type": "markdown",
     "checksum": "c45c5e3f015b2de89d9d39ae3766368b",
     "grade": false,
     "grade_id": "cell-85c50f2ab9eec301",
     "locked": true,
     "schema_version": 3,
     "solution": false,
     "task": false
    }
   },
   "source": [
    "---\n",
    "As you can see, it is much faster (but BM25 is still orders of magnitude faster)."
   ]
  },
  {
   "cell_type": "markdown",
   "metadata": {
    "deletable": false,
    "editable": false,
    "id": "MdjNyWo34IWy",
    "nbgrader": {
     "cell_type": "markdown",
     "checksum": "1e2f3388e3807659f303fe31a75a010e",
     "grade": false,
     "grade_id": "cell-5071bb99b2af61cb",
     "locked": true,
     "schema_version": 3,
     "solution": false,
     "task": false
    }
   },
   "source": [
    "---\n",
    "## Section 10: Evaluation & Analysis (30 points) <a class=\"anchor\" id=\"reranking_eval\"></a>\n",
    "\n",
    "[Back to Part 2](#part2)\n",
    "\n",
    "[Previously](#evaluation) we have implemented some evaluation metrics and used them for measuring the ranking performance of term-based IR algorithms. In this section, we will do the same for semantic methods, both with and without re-ranking.\n",
    "\n",
    "### Section 10.1: Plot (10 points)\n",
    "\n",
    "First, gather the results. The results should consider the index set, the different search functions and different metrics. Plot the results in bar charts, per metric, with clear labels.\n",
    "\n",
    "Then, gather only the re-ranking models, and plot and compare them with the results obtained in part 1 (only index set 2)."
   ]
  },
  {
   "cell_type": "code",
   "execution_count": null,
   "metadata": {
    "ExecuteTime": {
     "end_time": "2021-02-09T08:10:48.733402Z",
     "start_time": "2021-02-09T08:10:42.722Z"
    },
    "deletable": false,
    "editable": false,
    "id": "2Y2Ntwj84IWy",
    "nbgrader": {
     "cell_type": "code",
     "checksum": "4fe81520ac6413a803838913fd64de03",
     "grade": false,
     "grade_id": "cell-b672fe6dfae0b1ce",
     "locked": true,
     "schema_version": 3,
     "solution": false,
     "task": false
    }
   },
   "outputs": [],
   "source": [
    "list_of_sem_search_fns = [\n",
    "    (\"lda\", drm_lda.search),\n",
    "    (\"lsi\", drm_lsi.search),\n",
    "    (\"w2v\", drm_w2v.search),\n",
    "    (\"w2v_pretrained\", drm_w2v_pretrained.search),\n",
    "    (\"d2v\", drm_d2v.search),\n",
    "    (\"lsi_rr\", lsi_rerank.search),\n",
    "    (\"lda_rr\", lda_rerank.search),\n",
    "    (\"w2v_rr\", w2v_rerank.search),\n",
    "    (\"w2v_pretrained_rr\", w2v_pretrained_rerank.search),\n",
    "    (\"d2v_rr\", d2v_rerank.search),\n",
    "    \n",
    "]"
   ]
  },
  {
   "cell_type": "code",
   "execution_count": null,
   "metadata": {
    "ExecuteTime": {
     "end_time": "2021-02-09T08:10:48.734400Z",
     "start_time": "2021-02-09T08:10:42.724Z"
    },
    "deletable": false,
    "id": "XqoUKAKO4IWy",
    "nbgrader": {
     "cell_type": "code",
     "checksum": "54707c4afac084299aeefa047259b4a9",
     "grade": true,
     "grade_id": "cell-7dd8273b0f5a3c22",
     "locked": false,
     "points": 10,
     "schema_version": 3,
     "solution": true,
     "task": false
    }
   },
   "outputs": [],
   "source": [
    "# YOUR CODE HERE\n",
    "raise NotImplementedError()"
   ]
  },
  {
   "cell_type": "markdown",
   "metadata": {
    "deletable": false,
    "editable": false,
    "id": "TO7Rx1xc4IWy",
    "nbgrader": {
     "cell_type": "markdown",
     "checksum": "a8a3b6189bdde66704c694d85e38d049",
     "grade": false,
     "grade_id": "cell-deb2ef3daa306e82",
     "locked": true,
     "schema_version": 3,
     "solution": false,
     "task": false
    }
   },
   "source": [
    "### Section 10.2: Summary (20 points)\n",
    "\n",
    "Your summary should compare methods from Part 1 and Part 2 (only for index set 2). State what you expected to see in the results, followed by either supporting evidence *or* justify why the results did not support your expectations. Consider the availability of data, scalability, domain/type of data, etc."
   ]
  },
  {
   "cell_type": "markdown",
   "metadata": {
    "deletable": false,
    "id": "8kHCX99n4IWz",
    "nbgrader": {
     "cell_type": "markdown",
     "checksum": "ff97c43837d10bff6aaffa75e1492887",
     "grade": true,
     "grade_id": "cell-ec5dd7d9cf59dd86",
     "locked": false,
     "points": 20,
     "schema_version": 3,
     "solution": true,
     "task": false
    }
   },
   "source": [
    "YOUR ANSWER HERE"
   ]
  }
 ],
 "metadata": {
  "colab": {
   "collapsed_sections": [
    "7PZ1YsjO4IWa",
    "PEw9RAKO4IWc",
    "M10Gq1wo4IWd",
    "ARVTcJrC4IWe",
    "pu4nDAJQ4IWe",
    "D3EIl_rY4IWf",
    "43wdjFkt4IWf",
    "a6te4fbZ4IWg",
    "X2fSm6OJ4IWg",
    "CF8mA1LD4IWh",
    "PwcdEmYB4IWi",
    "a3vu_N7C4IWj",
    "bD5EZ9eN4IWl",
    "V_eNBPNC4IWl",
    "gLVYII234IWl",
    "Ad2E1OAb4IWm",
    "rsVw36Qs4IWn",
    "O6zOyivS4IWn",
    "Q38CrFOO4IWo",
    "Gh1iz9Ht4IWo",
    "b54ANEqK4IWp",
    "lZ3SttfV4IWp",
    "-hdtSyZZ4IWp",
    "KqeQEm1Q4IWq",
    "-EkJ-o9j4IWr",
    "0PGe6mPD4IWt",
    "xMbAwqEW4IWt",
    "1qyB_mcw4IWt",
    "xa0oM-SP4IWu",
    "uJBmD00Y4IWw",
    "MdjNyWo34IWy",
    "TO7Rx1xc4IWy"
   ],
   "name": "13322915_13325957_13326481.ipynb",
   "provenance": []
  },
  "kernelspec": {
   "display_name": "Python 3",
   "language": "python",
   "name": "python3"
  },
  "language_info": {
   "codemirror_mode": {
    "name": "ipython",
    "version": 3
   },
   "file_extension": ".py",
   "mimetype": "text/x-python",
   "name": "python",
   "nbconvert_exporter": "python",
   "pygments_lexer": "ipython3",
   "version": "3.8.5"
  }
 },
 "nbformat": 4,
 "nbformat_minor": 1
}
