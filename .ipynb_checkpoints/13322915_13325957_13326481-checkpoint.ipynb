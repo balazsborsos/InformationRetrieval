{
 "cells": [
  {
   "cell_type": "markdown",
   "metadata": {
    "deletable": false,
    "editable": false,
    "id": "BBPDEKU44IWO",
    "nbgrader": {
     "cell_type": "markdown",
     "checksum": "758d05f39ab671358f17858c55f7161c",
     "grade": false,
     "grade_id": "cell-c9cd9e550239e812",
     "locked": true,
     "schema_version": 3,
     "solution": false,
     "task": false
    }
   },
   "source": [
    "# Homework 1 (Total Points: 260) <a class=\"anchor\" id=\"top\"></a>\n",
    "\n",
    "\n",
    "**Submission instructions**:\n",
    "- Only the code `TODO: Implement this!` denotes that these sections are graded.\n",
    "- For Part 1: You can use the `nltk`, `numpy` and `matplotlib` libraries here. Other libraries, e.g., `gensim` or `scikit-learn`, may not be used. For Part 2: `gensim` is allowed in addition to the imported libraries in the next code cell\n",
    "- The notebook you submit has to have the student ids, separated by underscores (E.g., `12341234_12341234_12341234.ipynb`). \n",
    "- This will be parsed by a regexp, so please double check your filename.\n",
    "- Only one member of each group has to submit the file to canvas.\n",
    "- Make sure to check that your notebook runs before submission. A quick way to do this is to restart the kernel and run all the cells.  \n",
    "- Please do not delete/add new cells. Removing cells can lead to grade deduction.\n",
    "- Note, that you are not allowed to use Google Colab.\n",
    "\n",
    "\n",
    "**Learning Goals**:\n",
    "- [Part 1, Term-based matching](#part1) (175 points):\n",
    "    - Learn how to load a dataset and process it.\n",
    "    - Learn how to implement several standard IR methods (TF-IDF, BM25, QL) and understand their weaknesses & strengths.\n",
    "    - Learn how to evaluate IR methods.\n",
    "- [Part 2, Semantic-based matching](#part2) (85 points):\n",
    "    - Learn how to implement vector-space retrieval methods (LSI, LDA).\n",
    "    - Learn how to use LSI and LDA for re-ranking\n",
    "\n",
    "    \n",
    "**Resources**: \n",
    "- **Part 1**: Sections 2.3, 4.1, 4.2, 4.3, 5.3, 5.6, 5.7, 6.2, 7, 8 of [Search Engines: Information Retrieval in Practice](https://ciir.cs.umass.edu/downloads/SEIRiP.pdf)\n",
    "- **Part 2**: [LSI - Chapter 18](https://nlp.stanford.edu/IR-book/pdf/18lsi.pdf) from [Introduction to Information Retrieval](https://nlp.stanford.edu/IR-book/) book and the [original LDA paper](https://jmlr.org/papers/volume3/blei03a/blei03a.pdf)"
   ]
  },
  {
   "cell_type": "code",
   "execution_count": 1,
   "metadata": {
    "ExecuteTime": {
     "end_time": "2021-02-11T12:59:32.289559Z",
     "start_time": "2021-02-11T12:59:30.954125Z"
    },
    "deletable": false,
    "editable": false,
    "id": "RS9pLvO94IWT",
    "nbgrader": {
     "cell_type": "code",
     "checksum": "c55bfe94ff1f564dd595547e516c4c6e",
     "grade": false,
     "grade_id": "cell-f5357fabdb9660e3",
     "locked": true,
     "schema_version": 3,
     "solution": false,
     "task": false
    }
   },
   "outputs": [],
   "source": [
    "# imports \n",
    "# TODO: Ensure that no additional library is imported in the notebook. \n",
    "# TODO: Only the standard library and the following libraries are allowed:\n",
    "# TODO: You can also use unlisted classes from these libraries or standard libraries (such as defaultdict, Counter, ...).\n",
    "\n",
    "import os\n",
    "import zipfile\n",
    "from functools import partial\n",
    "\n",
    "import nltk\n",
    "import requests\n",
    "import numpy as np\n",
    "from tqdm import tqdm\n",
    "\n",
    "import matplotlib.pyplot as plt\n",
    "from matplotlib.pyplot import cm\n",
    "\n",
    "from ipywidgets import widgets\n",
    "from IPython.display import display, HTML\n",
    "#from IPython.html import widgets\n",
    "from collections import namedtuple\n",
    "\n",
    "# Own imports from standard libraries\n",
    "from collections import Counter\n",
    "import math\n",
    "\n",
    "\n",
    "\n",
    "%matplotlib inline"
   ]
  },
  {
   "cell_type": "markdown",
   "metadata": {
    "deletable": false,
    "editable": false,
    "id": "A4kKorew4IWU",
    "nbgrader": {
     "cell_type": "markdown",
     "checksum": "4ef0139c6fbc22b41520721a9275c1e1",
     "grade": false,
     "grade_id": "cell-7428e12ed184408b",
     "locked": true,
     "schema_version": 3,
     "solution": false,
     "task": false
    }
   },
   "source": [
    "\n",
    "# Part 1: Term-based Matching (175 points) <a class=\"anchor\" id=\"part1\"></a>\n",
    "\n",
    "[Back to top](#top)\n",
    "\n",
    "In the first part, we will learn the basics of IR from loading and preprocessing the material, to implementing some well known search algorithms, to evaluating the ranking performance of the implemented algorithms. We will be using the CACM dataset throughout the assignment. The CACM dataset is a collection of titles and abstracts from the journal CACM (Communication of the ACM).\n",
    "\n",
    "Table of contents:\n",
    "- [Section 1: Text Processing](#text_processing) (15 points)\n",
    "- [Section 2: Indexing](#indexing) (10 points)\n",
    "- [Section 3: Ranking](#ranking) (80 points)\n",
    "- [Section 4: Evaluation](#evaluation) (40 points)\n",
    "- [Section 5: Analysis](#analysis) (30 points)\n"
   ]
  },
  {
   "cell_type": "markdown",
   "metadata": {
    "deletable": false,
    "editable": false,
    "id": "6vnjcjoy4IWU",
    "nbgrader": {
     "cell_type": "markdown",
     "checksum": "a9050c97b011a926b9e4cf6831eff5bd",
     "grade": false,
     "grade_id": "cell-4b24825cf4ae55ec",
     "locked": true,
     "schema_version": 3,
     "solution": false,
     "task": false
    }
   },
   "source": [
    "---\n",
    "## Section 1: Text Processing (15 points)<a class=\"anchor\" id=\"text_processing\"></a>\n",
    "\n",
    "[Back to Part 1](#part1)\n",
    "\n",
    "In this section, we will load the dataset and learn how to clean up the data to make it usable for an IR system. \n",
    "The points of this section are earned for the following implementations:\n",
    "- `read_cacm_docs` (4 points): Reads in the CACM documents.\n",
    "- `read_queries` (3 points): Reads in the CACM queries.\n",
    "- `load_stopwords` (1 point): Loads the stopwords.\n",
    "- `tokenize` (4 points): Tokenizes the input text.\n",
    "- `stem_token` (3 points): Stems the given token. \n",
    "\n",
    "We are using the [CACM dataset](http://ir.dcs.gla.ac.uk/resources/test_collections/cacm/), which is a small, classic IR dataset, composed of a collection of titles and abstracts from the journal CACM. It comes with relevance judgements for queries, so we can evaluate our IR system. \n"
   ]
  },
  {
   "cell_type": "markdown",
   "metadata": {
    "deletable": false,
    "editable": false,
    "id": "p_lmQikc4IWV",
    "nbgrader": {
     "cell_type": "markdown",
     "checksum": "1de1b97f9ee233ad2348359f0c158eb7",
     "grade": false,
     "grade_id": "cell-45651364e7af6d5a",
     "locked": true,
     "schema_version": 3,
     "solution": false,
     "task": false
    }
   },
   "source": [
    "---\n",
    "### 1.1 Read the CACM documents (4 points)\n",
    "\n",
    "\n",
    "The following cell downloads the dataset and unzips it to a local directory."
   ]
  },
  {
   "cell_type": "code",
   "execution_count": 2,
   "metadata": {
    "ExecuteTime": {
     "end_time": "2021-02-11T12:59:32.311783Z",
     "start_time": "2021-02-11T12:59:32.291187Z"
    },
    "deletable": false,
    "editable": false,
    "id": "GzgZPFdR4IWV",
    "nbgrader": {
     "cell_type": "code",
     "checksum": "4d43c9ad6e77cc01ce4cef0c34824930",
     "grade": false,
     "grade_id": "cell-bbc3030bb3fe7e02",
     "locked": true,
     "schema_version": 3,
     "solution": false,
     "task": false
    }
   },
   "outputs": [],
   "source": [
    "def download_dataset():\n",
    "    folder_path = os.environ.get(\"IR1_DATA_PATH\")\n",
    "    if not folder_path:\n",
    "        folder_path = \"./datasets/\"\n",
    "    os.makedirs(folder_path, exist_ok=True)\n",
    "    \n",
    "    file_location = os.path.join(folder_path, \"cacm.zip\")\n",
    "    \n",
    "    # download file if it doesn't exist\n",
    "    if not os.path.exists(file_location):\n",
    "        \n",
    "        url = \"https://surfdrive.surf.nl/files/index.php/s/M0FGJpX2p8wDwxR/download\"\n",
    "\n",
    "        with open(file_location, \"wb\") as handle:\n",
    "            print(f\"Downloading file from {url} to {file_location}\")\n",
    "            response = requests.get(url, stream=True)\n",
    "            for data in tqdm(response.iter_content()):\n",
    "                handle.write(data)\n",
    "            print(\"Finished downloading file\")\n",
    "    \n",
    "    if not os.path.exists(os.path.join(folder_path, \"train.txt\")):\n",
    "        \n",
    "        # unzip file\n",
    "        with zipfile.ZipFile(file_location, 'r') as zip_ref:\n",
    "            zip_ref.extractall(folder_path)\n",
    "        \n",
    "download_dataset()"
   ]
  },
  {
   "cell_type": "markdown",
   "metadata": {
    "deletable": false,
    "editable": false,
    "id": "mFgbUp9Q4IWW",
    "nbgrader": {
     "cell_type": "markdown",
     "checksum": "31609b0d61d0c74cbd69bc43e47c23be",
     "grade": false,
     "grade_id": "cell-a7dd9a9bf98ede05",
     "locked": true,
     "schema_version": 3,
     "solution": false,
     "task": false
    }
   },
   "source": [
    "---\n",
    "\n",
    "You can see a brief description of each file in the dataset by looking at the README file:"
   ]
  },
  {
   "cell_type": "code",
   "execution_count": 3,
   "metadata": {
    "ExecuteTime": {
     "end_time": "2021-02-11T12:59:32.369685Z",
     "start_time": "2021-02-11T12:59:32.314716Z"
    },
    "colab": {
     "base_uri": "https://localhost:8080/"
    },
    "deletable": false,
    "editable": false,
    "id": "XiphLpFK4IWW",
    "nbgrader": {
     "cell_type": "code",
     "checksum": "1783f9999c7d06955e8da815de62ba5f",
     "grade": false,
     "grade_id": "cell-9b6ff1a17124711f",
     "locked": true,
     "schema_version": 3,
     "solution": false,
     "task": false
    },
    "outputId": "0c34744f-c08a-45f7-ad13-ffdc2287cbda"
   },
   "outputs": [],
   "source": [
    "##### Read the README file \n",
    "!cat ./datasets/README\n",
    "#####"
   ]
  },
  {
   "cell_type": "markdown",
   "metadata": {
    "deletable": false,
    "editable": false,
    "id": "NYQpF9664IWW",
    "nbgrader": {
     "cell_type": "markdown",
     "checksum": "d6a5333ae8e7f69d81900e714cc43852",
     "grade": false,
     "grade_id": "cell-73351431869fda76",
     "locked": true,
     "schema_version": 3,
     "solution": false,
     "task": false
    }
   },
   "source": [
    "---\n",
    "We are interested in 4 files:\n",
    "- `cacm.all` : Contains the text for all documents. Note that some documents do not have abstracts available. \n",
    "- `query.text` : The text of all queries\n",
    "- `qrels.text` : The relevance judgements\n",
    "- `common_words` : A list of common words. This may be used as a collection of stopwords"
   ]
  },
  {
   "cell_type": "code",
   "execution_count": 4,
   "metadata": {
    "ExecuteTime": {
     "end_time": "2021-02-11T12:59:32.413563Z",
     "start_time": "2021-02-11T12:59:32.370677Z"
    },
    "colab": {
     "base_uri": "https://localhost:8080/"
    },
    "deletable": false,
    "editable": false,
    "id": "YlAL1Byf4IWW",
    "nbgrader": {
     "cell_type": "code",
     "checksum": "c78e4256a08889ce3d0d985ea799b0a9",
     "grade": false,
     "grade_id": "cell-b44dd14079f278ca",
     "locked": true,
     "schema_version": 3,
     "solution": false,
     "task": false
    },
    "outputId": "671b1068-6500-45c4-e9d5-e4578d137c7b"
   },
   "outputs": [],
   "source": [
    "##### The first 45 lines of the CACM dataset forms the first record\n",
    "# We are interested only in 3 fields. \n",
    "# 1. the '.I' field, which is the document id\n",
    "# 2. the '.T' field (the title) and\n",
    "# 3. the '.W' field (the abstract, which may be absent)\n",
    "!head -45 ./datasets/cacm.all\n",
    "#####"
   ]
  },
  {
   "cell_type": "markdown",
   "metadata": {
    "deletable": false,
    "editable": false,
    "id": "96QRlEr34IWX",
    "nbgrader": {
     "cell_type": "markdown",
     "checksum": "aff7cbe5a15a0e3329dc223e3e31abf3",
     "grade": false,
     "grade_id": "cell-c4bf2e263ec553d8",
     "locked": true,
     "schema_version": 3,
     "solution": false,
     "task": false
    }
   },
   "source": [
    "---\n",
    "\n",
    "**Implementation (4 points):**\n",
    "Write a function to read the `cacm.all` file. Note that each document has a variable number of lines. The `.I` field denotes a new document:"
   ]
  },
  {
   "cell_type": "code",
   "execution_count": 5,
   "metadata": {
    "ExecuteTime": {
     "end_time": "2021-02-11T12:59:32.421541Z",
     "start_time": "2021-02-11T12:59:32.415558Z"
    },
    "deletable": false,
    "id": "vNE2WPK-4IWX",
    "nbgrader": {
     "cell_type": "code",
     "checksum": "45fef5d5b543ee439176d7fd0a9d20be",
     "grade": false,
     "grade_id": "cell-b736116eb419c624",
     "locked": false,
     "schema_version": 3,
     "solution": true,
     "task": false
    }
   },
   "outputs": [],
   "source": [
    "# TODO: Implement this! (4 points)\n",
    "def read_cacm_docs(root_folder = \"./datasets/\"):\n",
    "    \"\"\"\n",
    "        Reads in the CACM documents. The dataset is assumed to be in the folder \"./datasets/\" by default\n",
    "        Returns: A list of 2-tuples: (doc_id, document), where 'document' is a single string created by \n",
    "            appending the title and abstract (separated by a \"\\n\"). \n",
    "            In case the record doesn't have an abstract, the document is composed only by the title\n",
    "    \"\"\"\n",
    "    # YOUR CODE HERE\n",
    "    with open(root_folder + 'cacm.all') as f:\n",
    "        doc = f.read()\n",
    "        doc_list = []\n",
    "        split_doc = doc.split('.I ')[1:]\n",
    "        for i in split_doc:\n",
    "            doc_id = i.split('.T')[0].replace('\\n','')\n",
    "            if i.find('.W\\n') == -1:\n",
    "                document = i.split('.T')[1].split('.B')[0]\n",
    "            else:\n",
    "                doc_title = i.split('.T')[1].split('\\n.W\\n')[0]\n",
    "                doc_abstract = i.split('\\n.W\\n')[1].split('.B')[0]\n",
    "                document = doc_title + '\\n' + doc_abstract\n",
    "\n",
    "            doc_list.append((doc_id,document))\n",
    "    return doc_list"
   ]
  },
  {
   "cell_type": "code",
   "execution_count": 6,
   "metadata": {
    "ExecuteTime": {
     "end_time": "2021-02-11T12:59:32.455495Z",
     "start_time": "2021-02-11T12:59:32.422538Z"
    },
    "deletable": false,
    "editable": false,
    "id": "qXIA2lFl4IWY",
    "nbgrader": {
     "cell_type": "code",
     "checksum": "70472b5c277bb7c417de8da24e4e5261",
     "grade": true,
     "grade_id": "cell-a1c43818e0d3fd79",
     "locked": true,
     "points": 4,
     "schema_version": 3,
     "solution": false,
     "task": false
    }
   },
   "outputs": [],
   "source": [
    "##### Function check\n",
    "docs = read_cacm_docs()\n",
    "assert isinstance(docs, list)\n",
    "assert len(docs) == 3204, \"There should be exactly 3024 documents\"\n",
    "##### "
   ]
  },
  {
   "cell_type": "markdown",
   "metadata": {
    "deletable": false,
    "editable": false,
    "id": "uZRyfi9R4IWY",
    "nbgrader": {
     "cell_type": "markdown",
     "checksum": "6fd095d2204cce3935444ca37c7c42da",
     "grade": false,
     "grade_id": "cell-5ed2ddc91f73c60e",
     "locked": true,
     "schema_version": 3,
     "solution": false,
     "task": false
    }
   },
   "source": [
    "---\n",
    "### 1.2 Read the CACM queries (3 points)\n",
    "\n",
    "Next, let us read the queries. They are formatted similarly:"
   ]
  },
  {
   "cell_type": "code",
   "execution_count": 7,
   "metadata": {
    "ExecuteTime": {
     "end_time": "2021-02-11T12:59:32.498336Z",
     "start_time": "2021-02-11T12:59:32.457444Z"
    },
    "colab": {
     "base_uri": "https://localhost:8080/"
    },
    "deletable": false,
    "editable": false,
    "id": "SypqoG8T4IWY",
    "nbgrader": {
     "cell_type": "code",
     "checksum": "5d26c0908e758acb9968b84056b1060a",
     "grade": false,
     "grade_id": "cell-5c7e8e7c4fc2757f",
     "locked": true,
     "schema_version": 3,
     "solution": false,
     "task": false
    },
    "outputId": "061e0dc1-6f1b-4d21-ff2b-775699a7a874"
   },
   "outputs": [],
   "source": [
    "##### The first 15 lines of 'query.text' has 2 queries\n",
    "# We are interested only in 2 fields. \n",
    "# 1. the '.I' - the query id\n",
    "# 2. the '.W' - the query\n",
    "!head -15 ./datasets/query.text\n",
    "#####"
   ]
  },
  {
   "cell_type": "markdown",
   "metadata": {
    "deletable": false,
    "editable": false,
    "id": "wrddYisC4IWY",
    "nbgrader": {
     "cell_type": "markdown",
     "checksum": "da34d95924026ea55bf0a9b2070ec237",
     "grade": false,
     "grade_id": "cell-88e293507d2dcef6",
     "locked": true,
     "schema_version": 3,
     "solution": false,
     "task": false
    }
   },
   "source": [
    "---\n",
    "\n",
    "**Implementation (3 points):**\n",
    "Write a function to read the `query.text` file:"
   ]
  },
  {
   "cell_type": "code",
   "execution_count": 8,
   "metadata": {
    "ExecuteTime": {
     "end_time": "2021-02-11T12:59:32.504320Z",
     "start_time": "2021-02-11T12:59:32.500330Z"
    },
    "deletable": false,
    "id": "Ct3uxE-s4IWZ",
    "nbgrader": {
     "cell_type": "code",
     "checksum": "f98ac81b2ccb44fe3441e202e980c847",
     "grade": false,
     "grade_id": "cell-433e3ad5d0e2572a",
     "locked": false,
     "schema_version": 3,
     "solution": true,
     "task": false
    }
   },
   "outputs": [],
   "source": [
    "# TODO: Implement this! (3 points)\n",
    "def read_queries(root_folder = \"./datasets/\"):\n",
    "    \"\"\"\n",
    "        Reads in the CACM queries. The dataset is assumed to be in the folder \"./datasets/\" by default\n",
    "        Returns: A list of 2-tuples: (query_id, query)\n",
    "    \"\"\"\n",
    "    # YOUR CODE HERE\n",
    "    with open(root_folder + 'query.text') as f:\n",
    "      doc = f.read()\n",
    "      doc_list = []\n",
    "      split_doc = doc.split('.I ')[1:]\n",
    "      for i in split_doc:\n",
    "        doc_id = i.split('.W\\n')[0].replace('\\n','')\n",
    "        document = i.split('.W\\n')[1].split('.N\\n')[0]        \n",
    "        doc_list.append((doc_id,document))\n",
    "      print(doc_list[:5])\n",
    "      return doc_list\n"
   ]
  },
  {
   "cell_type": "code",
   "execution_count": 9,
   "metadata": {
    "ExecuteTime": {
     "end_time": "2021-02-11T12:59:32.511301Z",
     "start_time": "2021-02-11T12:59:32.505318Z"
    },
    "colab": {
     "base_uri": "https://localhost:8080/"
    },
    "deletable": false,
    "editable": false,
    "id": "DYO92aQn4IWZ",
    "nbgrader": {
     "cell_type": "code",
     "checksum": "c0e7a9868bd4b92692c33732af640b8b",
     "grade": true,
     "grade_id": "cell-6ec540abce66c598",
     "locked": true,
     "points": 3,
     "schema_version": 3,
     "solution": false,
     "task": false
    },
    "outputId": "e6294e67-a14f-425e-d65d-a5780b07b487"
   },
   "outputs": [
    {
     "name": "stdout",
     "output_type": "stream",
     "text": [
      "[('1', ' What articles exist which deal with TSS (Time Sharing System), an\\noperating system for IBM computers?\\n'), ('2', ' I am interested in articles written either by Prieve or Udo Pooch\\n.A\\nPrieve, B.\\nPooch, U.\\n'), ('3', ' Intermediate languages used in construction of multi-targeted compilers; TCOLL\\n'), ('4', \" I'm interested in mechanisms for communicating between disjoint processes,\\npossibly, but not exclusively, in a distributed environment.  I would\\nrather see descriptions of complete mechanisms, with or without implementations,\\nas opposed to theoretical work on the abstract problem.  Remote procedure\\ncalls and message-passing are examples of my interests.\\n\"), ('5', \" I'd like papers on design and implementation of editing interfaces,\\nwindow-managers, command interpreters, etc.  The essential issues are\\nhuman interface design, with views on improvements to user efficiency,\\neffectiveness and satisfaction.\\n\")]\n"
     ]
    }
   ],
   "source": [
    "##### Function check\n",
    "queries = read_queries()\n",
    "\n",
    "assert isinstance(queries, list)\n",
    "assert len(queries) == 64 and all([q[1] is not None for q in queries]), \"There should be exactly 64 queries\"\n",
    "##### "
   ]
  },
  {
   "cell_type": "markdown",
   "metadata": {
    "deletable": false,
    "editable": false,
    "id": "7PZ1YsjO4IWa",
    "nbgrader": {
     "cell_type": "markdown",
     "checksum": "652f9159caea63888e06b54103bd7f32",
     "grade": false,
     "grade_id": "cell-1c31569491d7b782",
     "locked": true,
     "schema_version": 3,
     "solution": false,
     "task": false
    }
   },
   "source": [
    "---\n",
    "### 1.3 Read the stop words (1 point)\n",
    "\n",
    "We use the common words stored in `common_words`:"
   ]
  },
  {
   "cell_type": "code",
   "execution_count": 10,
   "metadata": {
    "ExecuteTime": {
     "end_time": "2021-02-11T12:59:32.554186Z",
     "start_time": "2021-02-11T12:59:32.512298Z"
    },
    "colab": {
     "base_uri": "https://localhost:8080/"
    },
    "deletable": false,
    "editable": false,
    "id": "3eIEzeOd4IWa",
    "nbgrader": {
     "cell_type": "code",
     "checksum": "1ad6f5bae6a792504c1c8513ae5751ad",
     "grade": false,
     "grade_id": "cell-34bdb63461418a96",
     "locked": true,
     "schema_version": 3,
     "solution": false,
     "task": false
    },
    "outputId": "4b9a90c7-f76e-41fa-cf60-f87c74f6061f"
   },
   "outputs": [],
   "source": [
    "##### Read the stop words file \n",
    "!head ./datasets/common_words\n",
    "##### Read the README file "
   ]
  },
  {
   "cell_type": "markdown",
   "metadata": {
    "deletable": false,
    "editable": false,
    "id": "yS-QJ59W4IWa",
    "nbgrader": {
     "cell_type": "markdown",
     "checksum": "f720edbacd79170351156a443e0018ff",
     "grade": false,
     "grade_id": "cell-4744bde0338895d8",
     "locked": true,
     "schema_version": 3,
     "solution": false,
     "task": false
    }
   },
   "source": [
    "---\n",
    "**Implementation (1 point):**\n",
    "Write a function to read the `common_words` file (For better coverage, try to keep them in lowercase):"
   ]
  },
  {
   "cell_type": "code",
   "execution_count": 11,
   "metadata": {
    "ExecuteTime": {
     "end_time": "2021-02-11T12:59:32.559173Z",
     "start_time": "2021-02-11T12:59:32.555184Z"
    },
    "deletable": false,
    "id": "lgwbY-mG4IWb",
    "nbgrader": {
     "cell_type": "code",
     "checksum": "e6a9e9bb3ad0f8dc2ec3c497a3149092",
     "grade": false,
     "grade_id": "cell-7357aa40f64e5bcb",
     "locked": false,
     "schema_version": 3,
     "solution": true,
     "task": false
    }
   },
   "outputs": [],
   "source": [
    "# TODO: Implement this! (1 point)\n",
    "def load_stopwords(root_folder = \"./datasets/\"):\n",
    "    \"\"\"\n",
    "        Loads the stopwords. The dataset is assumed to be in the folder \"./datasets/\" by default\n",
    "        Output: A set of stopwords\n",
    "    \"\"\"\n",
    "    # YOUR CODE HERE\n",
    "    with open(os.path.join(root_folder, \"common_words\"), 'r+') as f:\n",
    "        words = set(f.readlines())\n",
    "        \n",
    "    \n",
    "    return words"
   ]
  },
  {
   "cell_type": "code",
   "execution_count": 12,
   "metadata": {
    "ExecuteTime": {
     "end_time": "2021-02-11T12:59:32.564159Z",
     "start_time": "2021-02-11T12:59:32.560169Z"
    },
    "colab": {
     "base_uri": "https://localhost:8080/",
     "height": 316
    },
    "deletable": false,
    "editable": false,
    "id": "H_RpcrQ84IWb",
    "nbgrader": {
     "cell_type": "code",
     "checksum": "9211b9735b828d89d1a51d8743c448b4",
     "grade": true,
     "grade_id": "cell-2ca3ac162004de97",
     "locked": true,
     "points": 1,
     "schema_version": 3,
     "solution": false,
     "task": false
    },
    "outputId": "ac1d355d-212f-4b8a-deda-f4058a3716b2"
   },
   "outputs": [],
   "source": [
    "##### Function check\n",
    "stopwords = load_stopwords()\n",
    "\n",
    "assert isinstance(stopwords, set)\n",
    "assert len(stopwords) == 428, \"There should be exactly 428 stop words\"\n",
    "##### "
   ]
  },
  {
   "cell_type": "markdown",
   "metadata": {
    "deletable": false,
    "editable": false,
    "id": "OKFMtm3T4IWb",
    "nbgrader": {
     "cell_type": "markdown",
     "checksum": "fc7e419f35dfd3f507d8a7555ce2cde9",
     "grade": false,
     "grade_id": "cell-134b72872f4300cb",
     "locked": true,
     "schema_version": 3,
     "solution": false,
     "task": false
    }
   },
   "source": [
    "---\n",
    "### 1.4 Tokenization (4 points)\n",
    "\n",
    "We can now write some basic text processing functions. \n",
    "A first step is to tokenize the text. \n",
    "\n",
    "**Note**: Use the  `WordPunctTokenizer` available in the `nltk` library:"
   ]
  },
  {
   "cell_type": "code",
   "execution_count": 13,
   "metadata": {
    "ExecuteTime": {
     "end_time": "2021-02-11T12:59:32.568149Z",
     "start_time": "2021-02-11T12:59:32.565157Z"
    },
    "deletable": false,
    "id": "OWakwkEw4IWb",
    "nbgrader": {
     "cell_type": "code",
     "checksum": "3f5564d3c75bf22fbf832b3a9b938f37",
     "grade": false,
     "grade_id": "cell-322be4c9499bdc4b",
     "locked": false,
     "schema_version": 3,
     "solution": true,
     "task": false
    }
   },
   "outputs": [],
   "source": [
    "# TODO: Implement this! (4 points)\n",
    "def tokenize(text):\n",
    "    \"\"\"\n",
    "        Tokenizes the input text. Use the WordPunctTokenizer\n",
    "        Input: text - a string\n",
    "        Output: a list of tokens\n",
    "    \"\"\"\n",
    "    # YOUR CODE HERE\n",
    "    return nltk.tokenize.WordPunctTokenizer().tokenize(text)\n",
    "    "
   ]
  },
  {
   "cell_type": "code",
   "execution_count": 14,
   "metadata": {
    "ExecuteTime": {
     "end_time": "2021-02-11T12:59:32.573135Z",
     "start_time": "2021-02-11T12:59:32.569146Z"
    },
    "deletable": false,
    "editable": false,
    "id": "Mk4dGvkP4IWc",
    "nbgrader": {
     "cell_type": "code",
     "checksum": "f60b93aa03bf9eced64940252eb33fe3",
     "grade": true,
     "grade_id": "cell-7fbf48bf7541a622",
     "locked": true,
     "points": 4,
     "schema_version": 3,
     "solution": false,
     "task": false
    }
   },
   "outputs": [
    {
     "name": "stdout",
     "output_type": "stream",
     "text": [
      "['the', 'quick', 'brown', 'fox', 'jumps', 'over', 'the', 'lazy', 'dog']\n"
     ]
    }
   ],
   "source": [
    "##### Function check\n",
    "text = \"the quick brown fox jumps over the lazy dog\"\n",
    "tokens = tokenize(text)\n",
    "\n",
    "assert isinstance(tokens, list)\n",
    "assert len(tokens) == 9\n",
    "\n",
    "print(tokens)\n",
    "# output: ['the', 'quick', 'brown', 'fox', 'jumps', 'over', 'the', 'lazy', 'dog']\n",
    "#####"
   ]
  },
  {
   "cell_type": "markdown",
   "metadata": {
    "deletable": false,
    "editable": false,
    "id": "PEw9RAKO4IWc",
    "nbgrader": {
     "cell_type": "markdown",
     "checksum": "1b1cc868db22735e5e193bc64ff67877",
     "grade": false,
     "grade_id": "cell-fd1b98ae61b697ca",
     "locked": true,
     "schema_version": 3,
     "solution": false,
     "task": false
    }
   },
   "source": [
    "---\n",
    "### 1.5 Stemming (3 points)\n",
    "\n",
    "Write a function to stem tokens. \n",
    "Again, you can use the nltk library for this:"
   ]
  },
  {
   "cell_type": "code",
   "execution_count": 15,
   "metadata": {
    "ExecuteTime": {
     "end_time": "2021-02-11T12:59:32.577126Z",
     "start_time": "2021-02-11T12:59:32.574132Z"
    },
    "deletable": false,
    "id": "ViYt0smN4IWc",
    "nbgrader": {
     "cell_type": "code",
     "checksum": "1c4a6aa979d66158c7b6b992af43293a",
     "grade": false,
     "grade_id": "cell-e3f6c8e3f874b28d",
     "locked": false,
     "schema_version": 3,
     "solution": true,
     "task": false
    }
   },
   "outputs": [],
   "source": [
    "# TODO: Implement this! (3 points)\n",
    "def stem_token(token):\n",
    "    \"\"\"\n",
    "        Stems the given token using the PorterStemmer from the nltk library\n",
    "        Input: a single token\n",
    "        Output: the stem of the token\n",
    "    \"\"\"\n",
    "    ps = nltk.stem.PorterStemmer()\n",
    "    return ps.stem(token)\n"
   ]
  },
  {
   "cell_type": "code",
   "execution_count": 16,
   "metadata": {
    "ExecuteTime": {
     "end_time": "2021-02-11T12:59:32.582111Z",
     "start_time": "2021-02-11T12:59:32.578122Z"
    },
    "deletable": false,
    "editable": false,
    "id": "-qSBNMns4IWd",
    "nbgrader": {
     "cell_type": "code",
     "checksum": "cd2611a46e7c2e92af438d7166cf2616",
     "grade": true,
     "grade_id": "cell-cd6863e6ee6ed205",
     "locked": true,
     "points": 3,
     "schema_version": 3,
     "solution": false,
     "task": false
    }
   },
   "outputs": [],
   "source": [
    "##### Function check\n",
    "assert stem_token('owned') == 'own'\n",
    "assert stem_token('itemization') == 'item'\n",
    "#####"
   ]
  },
  {
   "cell_type": "markdown",
   "metadata": {
    "deletable": false,
    "editable": false,
    "id": "M10Gq1wo4IWd",
    "nbgrader": {
     "cell_type": "markdown",
     "checksum": "5fcc93f08a6abcaffd5bd9475e4768e5",
     "grade": false,
     "grade_id": "cell-47c9f90498699110",
     "locked": true,
     "schema_version": 3,
     "solution": false,
     "task": false
    }
   },
   "source": [
    "---\n",
    "### 1.6 Summary\n",
    "\n",
    "The following function puts it all together. Given a string, it tokenizes it and processes it according to the flags that you set."
   ]
  },
  {
   "cell_type": "code",
   "execution_count": 17,
   "metadata": {
    "ExecuteTime": {
     "end_time": "2021-02-11T12:59:32.588104Z",
     "start_time": "2021-02-11T12:59:32.583108Z"
    },
    "deletable": false,
    "editable": false,
    "id": "Y9P9q9074IWd",
    "nbgrader": {
     "cell_type": "code",
     "checksum": "2ff2d215ee8e0039c5a91fd3de12e6bd",
     "grade": false,
     "grade_id": "cell-dd0d3f46b30801da",
     "locked": true,
     "schema_version": 3,
     "solution": false,
     "task": false
    }
   },
   "outputs": [],
   "source": [
    "#### Putting it all together\n",
    "def process_text(text, stem=False, remove_stopwords=False, lowercase_text=False):\n",
    "    \n",
    "    tokens = []\n",
    "    for token in tokenize(text):\n",
    "        if remove_stopwords and token.lower() in stopwords:\n",
    "            continue\n",
    "        if stem:\n",
    "            token = stem_token(token)\n",
    "        if lowercase_text:\n",
    "            token = token.lower()\n",
    "        tokens.append(token)\n",
    "\n",
    "    return tokens\n",
    "#### "
   ]
  },
  {
   "cell_type": "markdown",
   "metadata": {
    "deletable": false,
    "editable": false,
    "id": "3ZprLpXX4IWd",
    "nbgrader": {
     "cell_type": "markdown",
     "checksum": "02d433b18eb43654fa4306a7bf55b190",
     "grade": false,
     "grade_id": "cell-8d885bfd2edd43ae",
     "locked": true,
     "schema_version": 3,
     "solution": false,
     "task": false
    }
   },
   "source": [
    "---\n",
    "\n",
    "Let's create two sets of preprocessed documents.\n",
    "We can process the documents and queries according to these two configurations:"
   ]
  },
  {
   "cell_type": "code",
   "execution_count": 18,
   "metadata": {
    "ExecuteTime": {
     "end_time": "2021-02-11T12:59:36.255464Z",
     "start_time": "2021-02-11T12:59:32.589093Z"
    },
    "deletable": false,
    "editable": false,
    "id": "zSAhYQo84IWd",
    "nbgrader": {
     "cell_type": "code",
     "checksum": "dbe4ca667be6842fdcf512fbcad50c7f",
     "grade": false,
     "grade_id": "cell-d427365ee0fb21d8",
     "locked": true,
     "schema_version": 3,
     "solution": false,
     "task": false
    }
   },
   "outputs": [],
   "source": [
    "# In this configuration:\n",
    "# Don't preprocess the text, except to tokenize \n",
    "config_1 = {\n",
    "  \"stem\": False,\n",
    "  \"remove_stopwords\" : False,\n",
    "  \"lowercase_text\": True\n",
    "} \n",
    "\n",
    "\n",
    "# In this configuration:\n",
    "# Preprocess the text, stem and remove stopwords\n",
    "config_2 = {\n",
    "  \"stem\": True,\n",
    "  \"remove_stopwords\" : True,\n",
    "  \"lowercase_text\": True, \n",
    "} \n",
    "\n",
    "####\n",
    "doc_repr_1 = []\n",
    "doc_repr_2 = []\n",
    "for (doc_id, document) in docs:\n",
    "    doc_repr_1.append((doc_id, process_text(document, **config_1)))\n",
    "    doc_repr_2.append((doc_id, process_text(document, **config_2)))\n",
    "\n",
    "####"
   ]
  },
  {
   "cell_type": "markdown",
   "metadata": {
    "deletable": false,
    "editable": false,
    "id": "ARVTcJrC4IWe",
    "nbgrader": {
     "cell_type": "markdown",
     "checksum": "b60589aac19e80941d860d9b3f1e9a16",
     "grade": false,
     "grade_id": "cell-b1c102db61ae7495",
     "locked": true,
     "schema_version": 3,
     "solution": false,
     "task": false
    }
   },
   "source": [
    "--- \n",
    "\n",
    "## Section 2: Indexing (10 points)<a class=\"anchor\" id=\"indexing\"></a>\n",
    "\n",
    "[Back to Part 1](#part1)\n",
    "\n",
    "\n",
    "\n",
    "A retrieval function usually takes in a query document pair, and scores a query against a document.  Our document set is quite small - just a few thousand documents. However, consider a web-scale dataset with a few million documents. In such a scenario, it would become infeasible to score every query and document pair. In such a case, we can build an inverted index. From Wikipedia:\n",
    "\n",
    "> ... , an inverted index (also referred to as a postings file or inverted file) is a database index storing a mapping from content, such as words or numbers, to its locations in a table, .... The purpose of an inverted index is to allow fast full-text searches, at a cost of increased processing when a document is added to the database. ...\n",
    "\n",
    "\n",
    "Consider a simple inverted index, which maps from word to document. This can improve the performance of a retrieval system significantly. In this assignment, we consider a *simple* inverted index, which maps a word to a set of documents. In practice, however, more complex indices might be used.  \n"
   ]
  },
  {
   "cell_type": "markdown",
   "metadata": {
    "deletable": false,
    "editable": false,
    "id": "pu4nDAJQ4IWe",
    "nbgrader": {
     "cell_type": "markdown",
     "checksum": "710fd943f45523ac36fcb887cc0d4d39",
     "grade": false,
     "grade_id": "cell-fa373192c1b7bb95",
     "locked": true,
     "schema_version": 3,
     "solution": false,
     "task": false
    }
   },
   "source": [
    "### 2.1 Term Frequency-index (10 points)\n",
    "In this assignment, we will be using an index created in memory since our dataset is tiny. To get started, build a simple index that maps each `token` to a list of `(doc_id, count)` where `count` is the count of the `token` in `doc_id`.\n",
    "For consistency, build this index using a python dictionary.\n",
    "    \n",
    "Now, implement a function to build an index:"
   ]
  },
  {
   "cell_type": "code",
   "execution_count": 19,
   "metadata": {
    "ExecuteTime": {
     "end_time": "2021-02-11T12:59:36.261443Z",
     "start_time": "2021-02-11T12:59:36.256455Z"
    },
    "deletable": false,
    "id": "oILPNIpe4IWe",
    "nbgrader": {
     "cell_type": "code",
     "checksum": "c281c45196493b87e45e1b3fb4ddd6c9",
     "grade": false,
     "grade_id": "cell-077599b87e953209",
     "locked": false,
     "schema_version": 3,
     "solution": true,
     "task": false
    }
   },
   "outputs": [],
   "source": [
    "# TODO: Implement this! (10 points)\n",
    "def build_tf_index(documents):\n",
    "    \"\"\"\n",
    "        Build an inverted index (with counts). The output is a dictionary which takes in a token\n",
    "        and returns a list of (doc_id, count) where 'count' is the count of the 'token' in 'doc_id'\n",
    "        Input: a list of documents - (doc_id, tokens) \n",
    "        Output: An inverted index. [token] -> [(doc_id, token_count)]\n",
    "    \"\"\"\n",
    "    # YOUR CODE HERE\n",
    "    inverted_index = {}\n",
    "    for (doc_id, words) in documents:\n",
    "        word_occurences = Counter(words)        \n",
    "        for word in word_occurences:\n",
    "            token_count = word_occurences[word]\n",
    "            if word not in inverted_index:\n",
    "               inverted_index[word] = [(doc_id,token_count)]\n",
    "            else:\n",
    "                inverted_index[word].append((doc_id, token_count))\n",
    "\n",
    "    return inverted_index"
   ]
  },
  {
   "cell_type": "markdown",
   "metadata": {
    "deletable": false,
    "editable": false,
    "id": "Ydx63-0M4IWe",
    "nbgrader": {
     "cell_type": "markdown",
     "checksum": "15e7041b4323d2a290322de538ff7670",
     "grade": false,
     "grade_id": "cell-093aebfa504f96f2",
     "locked": true,
     "schema_version": 3,
     "solution": false,
     "task": false
    }
   },
   "source": [
    "---\n",
    "Now we can build indexed documents and preprocess the queries based on the two configurations:"
   ]
  },
  {
   "cell_type": "code",
   "execution_count": 20,
   "metadata": {
    "ExecuteTime": {
     "end_time": "2021-02-11T12:59:36.427651Z",
     "start_time": "2021-02-11T12:59:36.262440Z"
    },
    "deletable": false,
    "editable": false,
    "id": "uPguIGwp4IWe",
    "nbgrader": {
     "cell_type": "code",
     "checksum": "e27540c1d8d77a3779a05f557f3f40c6",
     "grade": false,
     "grade_id": "cell-b2ff1676348b90a8",
     "locked": true,
     "schema_version": 3,
     "solution": false,
     "task": false
    },
    "tags": []
   },
   "outputs": [],
   "source": [
    "#### Indexed documents based on the two configs\n",
    "\n",
    "# Create the 2 indices\n",
    "tf_index_1 = build_tf_index(doc_repr_1)\n",
    "tf_index_2 = build_tf_index(doc_repr_2)\n",
    "\n",
    "# This function returns the tf_index of the corresponding config\n",
    "def get_index(index_set):\n",
    "    assert index_set in {1, 2}\n",
    "    return {\n",
    "        1: tf_index_1,\n",
    "        2: tf_index_2\n",
    "    }[index_set]\n",
    "\n",
    "####\n",
    "#### Preprocessed query based on the two configs\n",
    "\n",
    "# This function preprocesses the text given the index set, according to the specified config\n",
    "def preprocess_query(text, index_set):\n",
    "    assert index_set in {1, 2}\n",
    "    if index_set == 1:\n",
    "        return process_text(text, **config_1)\n",
    "    elif index_set == 2:\n",
    "        return process_text(text, **config_2)\n",
    "\n",
    "#### "
   ]
  },
  {
   "cell_type": "code",
   "execution_count": 21,
   "metadata": {
    "ExecuteTime": {
     "end_time": "2021-02-11T12:59:36.432597Z",
     "start_time": "2021-02-11T12:59:36.428608Z"
    },
    "deletable": false,
    "editable": false,
    "id": "XgY38oQB4IWe",
    "nbgrader": {
     "cell_type": "code",
     "checksum": "2c50e4b4c68261ff1184277bcf3c38d8",
     "grade": true,
     "grade_id": "cell-fc7c7232d5d2ee46",
     "locked": true,
     "points": 5,
     "schema_version": 3,
     "solution": false,
     "task": false
    }
   },
   "outputs": [
    {
     "name": "stdout",
     "output_type": "stream",
     "text": [
      "[('4', 1), ('7', 1), ('10', 1), ('13', 1), ('19', 1), ('22', 1), ('23', 1), ('37', 1), ('40', 3), ('41', 1)]\n"
     ]
    }
   ],
   "source": [
    "##### Function check\n",
    "\n",
    "print(tf_index_1['computer'][:10])\n",
    "#### "
   ]
  },
  {
   "cell_type": "code",
   "execution_count": 22,
   "metadata": {
    "ExecuteTime": {
     "end_time": "2021-02-11T12:59:36.443568Z",
     "start_time": "2021-02-11T12:59:36.436586Z"
    },
    "deletable": false,
    "editable": false,
    "id": "IaQl12X74IWe",
    "nbgrader": {
     "cell_type": "code",
     "checksum": "02de27463e2a393f46278d6fe3160481",
     "grade": true,
     "grade_id": "cell-ff06bd11204db250",
     "locked": true,
     "points": 5,
     "schema_version": 3,
     "solution": false,
     "task": false
    }
   },
   "outputs": [
    {
     "name": "stdout",
     "output_type": "stream",
     "text": [
      "[('670', 1), ('675', 1), ('1621', 3), ('1681', 1), ('2145', 1), ('2339', 1), ('2572', 1), ('2583', 1), ('2739', 1), ('3012', 1)]\n"
     ]
    }
   ],
   "source": [
    "##### Function check\n",
    "\n",
    "print(tf_index_2['computer'][:10]) \n",
    "#### "
   ]
  },
  {
   "cell_type": "markdown",
   "metadata": {
    "deletable": false,
    "editable": false,
    "id": "D3EIl_rY4IWf",
    "nbgrader": {
     "cell_type": "markdown",
     "checksum": "982112dca3f9a75e871bea74fe1adab4",
     "grade": false,
     "grade_id": "cell-89eba71f04310291",
     "locked": true,
     "schema_version": 3,
     "solution": false,
     "task": false
    }
   },
   "source": [
    "\n",
    "---\n",
    "## Section 3: Ranking  (80 points) <a class=\"anchor\" id=\"ranking\"></a>\n",
    "\n",
    "[Back to Part 1](#part1)\n",
    "\n",
    "Now that we have cleaned and processed our dataset, we can start building simple IR systems. \n",
    "\n",
    "For now, we consider *simple* IR systems, which involve computing scores from the tokens present in the document/query. More advanced methods are covered in later assignments.\n",
    "\n",
    "We will implement the following methods in this section:\n",
    "- [Section 3.1: Bag of Words](#bow) (10 points)\n",
    "- [Section 3.2: TF-IDF](#tfidf) (15 points)\n",
    "- [Section 3.3: Query Likelihood Model](#qlm) (35 points)\n",
    "- [Section 3.4: BM25](#bm25) (20 points)\n",
    "\n",
    "**Scoring policy:**\n",
    "Your implementations in this section are scored based on the expected performance of your ranking functions.\n",
    "You will get a full mark if your implementation meets the expected performance (measured by some evaluation metric).\n",
    "Otherwise, you may get partial credit.\n",
    "For example, if your *Bag of words* ranking function has 60% of expected performance, you will get 4 out of 10."
   ]
  },
  {
   "cell_type": "markdown",
   "metadata": {
    "deletable": false,
    "editable": false,
    "id": "43wdjFkt4IWf",
    "nbgrader": {
     "cell_type": "markdown",
     "checksum": "97c13d2e2cad60df4a70dcb61ea7c30e",
     "grade": false,
     "grade_id": "cell-3daf70a60e393adf",
     "locked": true,
     "schema_version": 3,
     "solution": false,
     "task": false
    }
   },
   "source": [
    "--- \n",
    "\n",
    "### Section 3.1: Bag of Words (10 points)<a class=\"anchor\" id=\"bow\"></a>\n",
    "\n",
    "Probably the simplest IR model is the Bag of Words (BOW) model.\n",
    "Implement a function that scores and ranks all the documents against a query using this model.   \n",
    "\n",
    "Note that you can use either the count of the token or 'binarize' it i.e set the value equal to 1 if the token appears.   \n"
   ]
  },
  {
   "cell_type": "code",
   "execution_count": 23,
   "metadata": {
    "ExecuteTime": {
     "end_time": "2021-02-11T12:59:36.452544Z",
     "start_time": "2021-02-11T12:59:36.446560Z"
    },
    "deletable": false,
    "id": "YdfD8mWa4IWf",
    "nbgrader": {
     "cell_type": "code",
     "checksum": "1178c8a8908b0e4dc07add7aa49b7fde",
     "grade": false,
     "grade_id": "cell-de9cf0459c4b9324",
     "locked": false,
     "schema_version": 3,
     "solution": true,
     "task": false
    }
   },
   "outputs": [],
   "source": [
    "# TODO: Implement this! (10 points)\n",
    "def bow_search(query, index_set):\n",
    "    \"\"\"\n",
    "        Perform a search over all documents with the given query. \n",
    "        Note: You have to use the `get_index` function created in the previous cells\n",
    "        Input: \n",
    "            query - a (unprocessed) query\n",
    "            index_set - the index to use\n",
    "        Output: a list of (document_id, score), sorted in descending relevance to the given query \n",
    "    \"\"\"\n",
    "    index = get_index(index_set)\n",
    "    processed_query = preprocess_query(query, index_set)\n",
    "    \n",
    "    # YOUR CODE HERE\n",
    "    doc_scores = {}\n",
    "    for query_word in processed_query:\n",
    "        if query_word in index:\n",
    "            word_occurences = index[query_word] \n",
    "            for (doc_id, counts) in word_occurences:\n",
    "                if doc_id not in doc_scores:\n",
    "                    doc_scores[doc_id] = counts\n",
    "                else:\n",
    "                    doc_scores[doc_id] += counts\n",
    "    \n",
    "    sorted_scores = [(k, float(v)) for k, v in sorted(doc_scores.items(), key=lambda item:item[1], reverse=True)]\n",
    "\n",
    "    return sorted_scores"
   ]
  },
  {
   "cell_type": "code",
   "execution_count": 24,
   "metadata": {
    "ExecuteTime": {
     "end_time": "2021-02-11T12:59:36.462517Z",
     "start_time": "2021-02-11T12:59:36.455550Z"
    },
    "deletable": false,
    "editable": false,
    "id": "YAeh2kuY4IWf",
    "nbgrader": {
     "cell_type": "code",
     "checksum": "644d6d33cf5075c6d9878d4fe24c6213",
     "grade": true,
     "grade_id": "cell-9f6aceae6dd9125f",
     "locked": true,
     "points": 2,
     "schema_version": 3,
     "solution": false,
     "task": false
    }
   },
   "outputs": [
    {
     "name": "stdout",
     "output_type": "stream",
     "text": [
      "BOW Results:\n",
      "Rank 0(6.0): An Information Algebra - Phase I Report-Language\\n...\n",
      "Rank 1(6.0): Rejuvenating Experimental Computer Science\\nThis r...\n",
      "Rank 2(3.0): ALGOL 60 Confidential\\nThe ALGOL 60 Report,* when ...\n",
      "Rank 3(2.0): Automatic Abstracting and Indexing Survey and Reco...\n",
      "Rank 4(2.0): A String Language for Symbol Manipulation Based on...\n"
     ]
    }
   ],
   "source": [
    "#### Function check\n",
    "\n",
    "docs_by_id = dict(docs)\n",
    "def print_results(docs, len_limit=50):    \n",
    "    for i, (doc_id, score) in enumerate(docs):\n",
    "        doc_content = docs_by_id[doc_id].strip().replace(\"\\n\", \"\\\\n\")[:len_limit] + \"...\"\n",
    "        print(f\"Rank {i}({score:.2}): {doc_content}\")\n",
    "\n",
    "test_bow = bow_search(\"report\", index_set=1)[:5]\n",
    "print(f\"BOW Results:\")\n",
    "print_results(test_bow)\n",
    "#### "
   ]
  },
  {
   "cell_type": "code",
   "execution_count": 25,
   "metadata": {
    "ExecuteTime": {
     "end_time": "2021-02-11T12:59:36.466508Z",
     "start_time": "2021-02-11T12:59:36.463514Z"
    },
    "deletable": false,
    "editable": false,
    "id": "VxcFb-PS4IWf",
    "nbgrader": {
     "cell_type": "code",
     "checksum": "8d54c91b913d7a54b25f3358c969fa45",
     "grade": true,
     "grade_id": "cell-4eed3abf233d9b58",
     "locked": true,
     "points": 2,
     "schema_version": 3,
     "solution": false,
     "task": false
    }
   },
   "outputs": [],
   "source": [
    "#### Please do not change this. This cell is used for grading."
   ]
  },
  {
   "cell_type": "code",
   "execution_count": 26,
   "metadata": {
    "ExecuteTime": {
     "end_time": "2021-02-11T12:59:36.471493Z",
     "start_time": "2021-02-11T12:59:36.468503Z"
    },
    "deletable": false,
    "editable": false,
    "id": "2Q52Hizy4IWf",
    "nbgrader": {
     "cell_type": "code",
     "checksum": "58bcc16d36dc079b7f41f9572423c62b",
     "grade": true,
     "grade_id": "cell-4d65a2d7090c466c",
     "locked": true,
     "points": 3,
     "schema_version": 3,
     "solution": false,
     "task": false
    }
   },
   "outputs": [],
   "source": [
    "#### Please do not change this. This cell is used for grading."
   ]
  },
  {
   "cell_type": "code",
   "execution_count": 27,
   "metadata": {
    "ExecuteTime": {
     "end_time": "2021-02-11T12:59:36.477478Z",
     "start_time": "2021-02-11T12:59:36.473488Z"
    },
    "deletable": false,
    "editable": false,
    "id": "_EV8Ezcu4IWg",
    "nbgrader": {
     "cell_type": "code",
     "checksum": "65e4561970c4eba3e5ce43b142f858af",
     "grade": true,
     "grade_id": "cell-dedf36ab5853ce20",
     "locked": true,
     "points": 3,
     "schema_version": 3,
     "solution": false,
     "task": false
    }
   },
   "outputs": [],
   "source": [
    "#### Please do not change this. This cell is used for grading."
   ]
  },
  {
   "cell_type": "markdown",
   "metadata": {
    "deletable": false,
    "editable": false,
    "id": "a6te4fbZ4IWg",
    "nbgrader": {
     "cell_type": "markdown",
     "checksum": "a5c2318004c5ce534b67c7a36bbc7c31",
     "grade": false,
     "grade_id": "cell-a5c09c79ac1f2871",
     "locked": true,
     "schema_version": 3,
     "solution": false,
     "task": false
    }
   },
   "source": [
    "\n",
    "---\n",
    "\n",
    "### Section 3.2: TF-IDF (15 points) <a class=\"anchor\" id=\"tfidf\"></a>\n",
    "\n",
    "Before we implement the tf-idf scoring functions, let's first write a function to compute the document frequencies of all words.  \n",
    "\n",
    "#### 3.2.1 Document frequency (5 points)\n",
    "Compute the document frequencies of all tokens in the collection.  "
   ]
  },
  {
   "cell_type": "code",
   "execution_count": 28,
   "metadata": {
    "ExecuteTime": {
     "end_time": "2021-02-11T12:59:36.483461Z",
     "start_time": "2021-02-11T12:59:36.479472Z"
    },
    "deletable": false,
    "id": "JTO8ZA5t4IWg",
    "nbgrader": {
     "cell_type": "code",
     "checksum": "11cdde77378ded394d7922fe36bbc5d1",
     "grade": false,
     "grade_id": "cell-9a2369f32e864b8a",
     "locked": false,
     "schema_version": 3,
     "solution": true,
     "task": false
    }
   },
   "outputs": [],
   "source": [
    "# TODO: Implement this! (5 points)\n",
    "def compute_df(documents):\n",
    "    \"\"\"\n",
    "        Compute the document frequency of all terms in the vocabulary\n",
    "        Input: A list of documents\n",
    "        Output: A dictionary with {token: document frequency)\n",
    "    \"\"\"\n",
    "    # YOUR CODE HERE\n",
    "    merge_list = []\n",
    "    for doc in documents:\n",
    "        merge_list.extend(set(doc))\n",
    "    dict_ = Counter(merge_list)\n",
    "    \n",
    "    return dict_ \n"
   ]
  },
  {
   "cell_type": "code",
   "execution_count": 29,
   "metadata": {
    "ExecuteTime": {
     "end_time": "2021-02-11T12:59:36.554271Z",
     "start_time": "2021-02-11T12:59:36.485456Z"
    },
    "deletable": false,
    "editable": false,
    "id": "pWi3HvTH4IWg",
    "nbgrader": {
     "cell_type": "code",
     "checksum": "154985511d7925c5793a1f97dea81880",
     "grade": false,
     "grade_id": "cell-4c3bddd0b73ac90e",
     "locked": true,
     "schema_version": 3,
     "solution": false,
     "task": false
    }
   },
   "outputs": [],
   "source": [
    "#### Compute df based on the two configs\n",
    "\n",
    "# get the document frequencies of each document\n",
    "df_1 = compute_df([d[1] for d in doc_repr_1])\n",
    "df_2 = compute_df([d[1] for d in doc_repr_2])\n",
    "\n",
    "def get_df(index_set):\n",
    "    assert index_set in {1, 2}\n",
    "    return {\n",
    "        1: df_1,\n",
    "        2: df_2\n",
    "    }[index_set]\n",
    "####"
   ]
  },
  {
   "cell_type": "code",
   "execution_count": 30,
   "metadata": {
    "ExecuteTime": {
     "end_time": "2021-02-11T12:59:36.559258Z",
     "start_time": "2021-02-11T12:59:36.555269Z"
    },
    "deletable": false,
    "editable": false,
    "id": "5Y16YYM04IWg",
    "nbgrader": {
     "cell_type": "code",
     "checksum": "110cc180068cf3f77c682ee3de2a117c",
     "grade": true,
     "grade_id": "cell-79e8a6db1e5fc46f",
     "locked": true,
     "points": 5,
     "schema_version": 3,
     "solution": false,
     "task": false
    }
   },
   "outputs": [
    {
     "name": "stdout",
     "output_type": "stream",
     "text": [
      "597\n",
      "11\n"
     ]
    }
   ],
   "source": [
    "#### Function check\n",
    "\n",
    "print(df_1['computer'])\n",
    "print(df_2['computer'])\n",
    "####"
   ]
  },
  {
   "cell_type": "markdown",
   "metadata": {
    "deletable": false,
    "editable": false,
    "id": "X2fSm6OJ4IWg",
    "nbgrader": {
     "cell_type": "markdown",
     "checksum": "6646996a2d016ef86e7cedd2f79a29d1",
     "grade": false,
     "grade_id": "cell-52f6acc487e1b96d",
     "locked": true,
     "schema_version": 3,
     "solution": false,
     "task": false
    }
   },
   "source": [
    "---\n",
    "#### 3.2.2 TF-IDF search (10 points)\n",
    "Next, implement a function that computes a tf-idf score given a query.      "
   ]
  },
  {
   "cell_type": "code",
   "execution_count": 31,
   "metadata": {
    "ExecuteTime": {
     "end_time": "2021-02-11T12:59:36.568234Z",
     "start_time": "2021-02-11T12:59:36.560256Z"
    },
    "deletable": false,
    "id": "xxWNAcOB4IWg",
    "nbgrader": {
     "cell_type": "code",
     "checksum": "b33c859693d1b383bcb53acea340027f",
     "grade": false,
     "grade_id": "cell-2fb5ba34b2994cd9",
     "locked": false,
     "schema_version": 3,
     "solution": true,
     "task": false
    }
   },
   "outputs": [
    {
     "name": "stdout",
     "output_type": "stream",
     "text": [
      "TFIDF Results:\n",
      "Rank 0(1.3e+01): Logic and Programming Languages\\nLogic has been lo...\n",
      "Rank 1(1.3e+01): Consumer Difficulties With Computerized Transactio...\n",
      "Rank 2(8.9): What is Proprietary In Mathematical Programming?-I...\n",
      "Rank 3(8.9): A Statistical Model for Console Behavior in Multiu...\n",
      "Rank 4(8.9): Arguments for a Moratorium on the Construction\\nof...\n"
     ]
    }
   ],
   "source": [
    "# TODO: Implement this! (10 points)\n",
    "def tfidf_search(query, index_set):\n",
    "    \"\"\"\n",
    "        Perform a search over all documents with the given query using tf-idf. \n",
    "        Note #1: You have to use the `get_index` (and the `get_df`) function created in the previous cells\n",
    "        Input: \n",
    "            query - a (unprocessed) query\n",
    "            index_set - the index to use\n",
    "        Output: a list of (document_id, score), sorted in descending relevance to the given query \n",
    "    \"\"\"\n",
    "    index = get_index(index_set)\n",
    "    df = get_df(index_set)\n",
    "    processed_query = preprocess_query(query, index_set)\n",
    "    \n",
    "    # YOUR CODE HERE\n",
    "    nr_docs = len(doc_repr_1)\n",
    "    doc_scores = {}\n",
    "    for query_word in processed_query:\n",
    "        idf = math.log(nr_docs/df[query_word])\n",
    "        if query_word in index:\n",
    "            for (doc_id, tf) in index[query_word]:\n",
    "                if doc_id not in doc_scores:\n",
    "                    doc_scores[doc_id] = tf * idf\n",
    "                else:\n",
    "                    doc_scores[doc_id] += (tf * idf)\n",
    "\n",
    "        sorted_scores = [(k, v) for k, v in sorted(doc_scores.items(), key=lambda item:item[1], reverse=True)]\n",
    "        return sorted_scores\n",
    "\n",
    "\n",
    "\n",
    "\n",
    "test_tfidf = tfidf_search(\"What articles exist which deal with TSS (Time Sharing System), an operating system for IBM computers?\", index_set=1)[:5]\n",
    "print(f\"TFIDF Results:\")\n",
    "print_results(test_tfidf)"
   ]
  },
  {
   "cell_type": "code",
   "execution_count": 32,
   "metadata": {
    "ExecuteTime": {
     "end_time": "2021-02-11T12:59:36.574219Z",
     "start_time": "2021-02-11T12:59:36.569232Z"
    },
    "deletable": false,
    "editable": false,
    "id": "leBfCIu04IWh",
    "nbgrader": {
     "cell_type": "code",
     "checksum": "10b9fd39f3c9a9f3ca274c020ad79323",
     "grade": true,
     "grade_id": "cell-bc68aeeacf42beb3",
     "locked": true,
     "points": 2,
     "schema_version": 3,
     "solution": false,
     "task": false
    },
    "tags": []
   },
   "outputs": [
    {
     "name": "stdout",
     "output_type": "stream",
     "text": [
      "TFIDF Results:\n",
      "Rank 0(2.3e+01): An Information Algebra - Phase I Report-Language\\n...\n",
      "Rank 1(2.3e+01): Rejuvenating Experimental Computer Science\\nThis r...\n",
      "Rank 2(1.2e+01): ALGOL 60 Confidential\\nThe ALGOL 60 Report,* when ...\n",
      "Rank 3(7.8): Automatic Abstracting and Indexing Survey and Reco...\n",
      "Rank 4(7.8): A String Language for Symbol Manipulation Based on...\n"
     ]
    }
   ],
   "source": [
    "#### Function check\n",
    "test_tfidf = tfidf_search(\"report\", index_set=1)[:5]\n",
    "print(f\"TFIDF Results:\")\n",
    "print_results(test_tfidf)\n",
    "####"
   ]
  },
  {
   "cell_type": "code",
   "execution_count": 33,
   "metadata": {
    "ExecuteTime": {
     "end_time": "2021-02-11T12:59:36.579205Z",
     "start_time": "2021-02-11T12:59:36.576213Z"
    },
    "deletable": false,
    "editable": false,
    "id": "Npd3IiET4IWh",
    "nbgrader": {
     "cell_type": "code",
     "checksum": "03441f97df9db4996d0f260fcc974e9d",
     "grade": true,
     "grade_id": "cell-c7702fa8179fadb9",
     "locked": true,
     "points": 2,
     "schema_version": 3,
     "solution": false,
     "task": false
    }
   },
   "outputs": [],
   "source": [
    "#### Please do not change this. This cell is used for grading."
   ]
  },
  {
   "cell_type": "code",
   "execution_count": 34,
   "metadata": {
    "ExecuteTime": {
     "end_time": "2021-02-11T12:59:36.584192Z",
     "start_time": "2021-02-11T12:59:36.580202Z"
    },
    "deletable": false,
    "editable": false,
    "id": "wNuwNNBt4IWh",
    "nbgrader": {
     "cell_type": "code",
     "checksum": "7272cfcbb457a74d23bfec1f85d22d5f",
     "grade": true,
     "grade_id": "cell-3284f50ac29abbaa",
     "locked": true,
     "points": 3,
     "schema_version": 3,
     "solution": false,
     "task": false
    }
   },
   "outputs": [],
   "source": [
    "#### Please do not change this. This cell is used for grading."
   ]
  },
  {
   "cell_type": "code",
   "execution_count": 35,
   "metadata": {
    "ExecuteTime": {
     "end_time": "2021-02-11T12:59:36.588181Z",
     "start_time": "2021-02-11T12:59:36.585190Z"
    },
    "deletable": false,
    "editable": false,
    "id": "ZH-U34qc4IWh",
    "nbgrader": {
     "cell_type": "code",
     "checksum": "fcbcc867713612b90395d653db8fd5e3",
     "grade": true,
     "grade_id": "cell-d908c80a3155354b",
     "locked": true,
     "points": 3,
     "schema_version": 3,
     "solution": false,
     "task": false
    }
   },
   "outputs": [],
   "source": [
    "#### Please do not change this. This cell is used for grading."
   ]
  },
  {
   "cell_type": "markdown",
   "metadata": {
    "deletable": false,
    "editable": false,
    "id": "CF8mA1LD4IWh",
    "nbgrader": {
     "cell_type": "markdown",
     "checksum": "cdffc83f0eaea937cf64a212e7e9af8d",
     "grade": false,
     "grade_id": "cell-f5d923459ba21733",
     "locked": true,
     "schema_version": 3,
     "solution": false,
     "task": false
    }
   },
   "source": [
    "--- \n",
    "\n",
    "### Section 3.3: Query Likelihood Model (35 points) <a class=\"anchor\" id=\"qlm\"></a>\n",
    "\n",
    "In this section, you will implement a simple query likelihood model. \n",
    "\n",
    "\n",
    "#### 3.3.1 Naive QL (15 points)\n",
    "\n",
    "First, let us implement a naive version of a QL model, assuming a multinomial unigram language model (with a uniform prior over the documents). \n",
    "\n"
   ]
  },
  {
   "cell_type": "code",
   "execution_count": 36,
   "metadata": {
    "ExecuteTime": {
     "end_time": "2021-02-11T12:59:36.595162Z",
     "start_time": "2021-02-11T12:59:36.589179Z"
    },
    "deletable": false,
    "editable": false,
    "id": "5Z4AnsRm4IWh",
    "nbgrader": {
     "cell_type": "code",
     "checksum": "b7ae2b7d818b428b4638c1c9206d2aca",
     "grade": false,
     "grade_id": "cell-98505778f7b68e7f",
     "locked": true,
     "schema_version": 3,
     "solution": false,
     "task": false
    }
   },
   "outputs": [],
   "source": [
    "#### Document length for normalization\n",
    "\n",
    "def doc_lengths(documents):\n",
    "    doc_lengths = {doc_id:len(doc) for (doc_id, doc) in documents}\n",
    "    return doc_lengths\n",
    "\n",
    "doc_lengths_1 = doc_lengths(doc_repr_1)\n",
    "doc_lengths_2 = doc_lengths(doc_repr_2)\n",
    "\n",
    "def get_doc_lengths(index_set):\n",
    "    assert index_set in {1, 2}\n",
    "    return {\n",
    "        1: doc_lengths_1,\n",
    "        2: doc_lengths_2\n",
    "    }[index_set]\n",
    "####"
   ]
  },
  {
   "cell_type": "code",
   "execution_count": 37,
   "metadata": {
    "ExecuteTime": {
     "end_time": "2021-02-11T12:59:36.601146Z",
     "start_time": "2021-02-11T12:59:36.596160Z"
    },
    "deletable": false,
    "id": "-WXzO9tU4IWi",
    "nbgrader": {
     "cell_type": "code",
     "checksum": "cedd08303a914243fefdb6b876977ca1",
     "grade": false,
     "grade_id": "cell-8bcf2b804d636c2e",
     "locked": false,
     "schema_version": 3,
     "solution": true,
     "task": false
    }
   },
   "outputs": [],
   "source": [
    "# TODO: Implement this! (15 points)\n",
    "def naive_ql_search(query, index_set):\n",
    "    \"\"\"\n",
    "        Perform a search over all documents with the given query using a naive QL model. \n",
    "        Note #1: You have to use the `get_index` (and get_doc_lengths) function created in the previous cells\n",
    "        Input: \n",
    "            query - a (unprocessed) query\n",
    "            index_set - the index to use\n",
    "        Output: a list of (document_id, score), sorted in descending relevance to the given query \n",
    "    \"\"\"\n",
    "    index = get_index(index_set)\n",
    "    doc_lengths = get_doc_lengths(index_set)\n",
    "    processed_query = preprocess_query(query, index_set)\n",
    "    # YOUR CODE HERE\n",
    "    ql_scores = {}\n",
    "    for token in processed_query:\n",
    "        if token in index:\n",
    "            for (id,num) in index[token]:\n",
    "                score = num / doc_lengths[id]\n",
    "                if id not in ql_scores:\n",
    "                    ql_scores[id] = score\n",
    "                else:\n",
    "                    ql_scores[id] += score\n",
    "                \n",
    "    ql_scores_list = [(key, score) for key, score in ql_scores.items()]\n",
    "    ql_scores_list.sort(key=lambda x: x[1], reverse = True)\n",
    "    return ql_scores_list "
   ]
  },
  {
   "cell_type": "code",
   "execution_count": 38,
   "metadata": {
    "ExecuteTime": {
     "end_time": "2021-02-11T12:59:36.606133Z",
     "start_time": "2021-02-11T12:59:36.602143Z"
    },
    "deletable": false,
    "editable": false,
    "id": "VHLDABlc4IWi",
    "nbgrader": {
     "cell_type": "code",
     "checksum": "b550d15bdad28354c336020a00c33d56",
     "grade": true,
     "grade_id": "cell-5a83ac12ecde8578",
     "locked": true,
     "points": 3,
     "schema_version": 3,
     "solution": false,
     "task": false
    }
   },
   "outputs": [
    {
     "name": "stdout",
     "output_type": "stream",
     "text": [
      "Naive QL Results:\n",
      "Rank 0(0.2): A Report Writer For COBOL...\n",
      "Rank 1(0.2): A CRT Report Generating System...\n",
      "Rank 2(0.17): Preliminary Report-International Algebraic Languag...\n",
      "Rank 3(0.17): Supplement to the ALGOL 60 Report...\n",
      "Rank 4(0.14): ALGOL Sub-Committee Report - Extensions...\n"
     ]
    }
   ],
   "source": [
    "#### Function check\n",
    "test_naiveql = naive_ql_search(\"report\", index_set=1)[:5]\n",
    "print(f\"Naive QL Results:\")\n",
    "print_results(test_naiveql)\n",
    "####"
   ]
  },
  {
   "cell_type": "code",
   "execution_count": 39,
   "metadata": {
    "ExecuteTime": {
     "end_time": "2021-02-11T12:59:36.611119Z",
     "start_time": "2021-02-11T12:59:36.608128Z"
    },
    "deletable": false,
    "editable": false,
    "id": "52J5wGHX4IWi",
    "nbgrader": {
     "cell_type": "code",
     "checksum": "799df1d81c63fe90edbb6c218fc707fb",
     "grade": true,
     "grade_id": "cell-80f4bf2137f997bb",
     "locked": true,
     "points": 2,
     "schema_version": 3,
     "solution": false,
     "task": false
    }
   },
   "outputs": [],
   "source": [
    "#### Please do not change this. This cell is used for grading."
   ]
  },
  {
   "cell_type": "code",
   "execution_count": 40,
   "metadata": {
    "ExecuteTime": {
     "end_time": "2021-02-11T12:59:36.615109Z",
     "start_time": "2021-02-11T12:59:36.612117Z"
    },
    "deletable": false,
    "editable": false,
    "id": "vXS0rYJ94IWi",
    "nbgrader": {
     "cell_type": "code",
     "checksum": "875a4a517d27e20625d41783cebec118",
     "grade": true,
     "grade_id": "cell-5ce2993458a8ce51",
     "locked": true,
     "points": 3,
     "schema_version": 3,
     "solution": false,
     "task": false
    }
   },
   "outputs": [],
   "source": [
    "#### Please do not change this. This cell is used for grading."
   ]
  },
  {
   "cell_type": "code",
   "execution_count": 41,
   "metadata": {
    "ExecuteTime": {
     "end_time": "2021-02-11T12:59:36.619098Z",
     "start_time": "2021-02-11T12:59:36.616106Z"
    },
    "deletable": false,
    "editable": false,
    "id": "E7Og-DYJ4IWi",
    "nbgrader": {
     "cell_type": "code",
     "checksum": "d5c4e1c3852e71a46f32825b122f1b71",
     "grade": true,
     "grade_id": "cell-7753bdb54e292f3d",
     "locked": true,
     "points": 3,
     "schema_version": 3,
     "solution": false,
     "task": false
    }
   },
   "outputs": [],
   "source": [
    "#### Please do not change this. This cell is used for grading."
   ]
  },
  {
   "cell_type": "code",
   "execution_count": 42,
   "metadata": {
    "ExecuteTime": {
     "end_time": "2021-02-11T12:59:36.624084Z",
     "start_time": "2021-02-11T12:59:36.621093Z"
    },
    "deletable": false,
    "editable": false,
    "id": "GIrjDu1G4IWi",
    "nbgrader": {
     "cell_type": "code",
     "checksum": "c4d4332d4356e89ce0240f6b80e1899a",
     "grade": true,
     "grade_id": "cell-54e476e2f96e64bb",
     "locked": true,
     "points": 4,
     "schema_version": 3,
     "solution": false,
     "task": false
    }
   },
   "outputs": [],
   "source": [
    "#### Please do not change this. This cell is used for grading."
   ]
  },
  {
   "cell_type": "markdown",
   "metadata": {
    "deletable": false,
    "editable": false,
    "id": "PwcdEmYB4IWi",
    "nbgrader": {
     "cell_type": "markdown",
     "checksum": "8d739dc91a22bd48897f603885f95a74",
     "grade": false,
     "grade_id": "cell-5414dfd69dab8b94",
     "locked": true,
     "schema_version": 3,
     "solution": false,
     "task": false
    }
   },
   "source": [
    "---\n",
    "#### 3.3.2 QL (20 points)\n",
    "Now, let's implement a QL model that handles the issues with the naive version. In particular, you will implement a QL model with Jelinek-Mercer Smoothing. That means an interpolated score is computed per word - one term is the same as the previous naive version, and the second term comes from a unigram language model. In addition, you should accumulate the scores by summing the **log** (smoothed) probability which leads to better numerical stability."
   ]
  },
  {
   "cell_type": "code",
   "execution_count": 43,
   "metadata": {
    "ExecuteTime": {
     "end_time": "2021-02-11T12:59:36.631065Z",
     "start_time": "2021-02-11T12:59:36.625082Z"
    },
    "deletable": false,
    "id": "vQ7JGYo34IWj",
    "nbgrader": {
     "cell_type": "code",
     "checksum": "b8c6abf937ad333e628f1db891f2e29e",
     "grade": false,
     "grade_id": "cell-bb1f506409771257",
     "locked": false,
     "schema_version": 3,
     "solution": true,
     "task": false
    }
   },
   "outputs": [],
   "source": [
    "# TODO: Implement this! (20 points)\n",
    "\n",
    "# YOUR CODE HERE\n",
    "def ql_search(query, index_set):\n",
    "    \"\"\"\n",
    "        Perform a search over all documents with the given query using a QL model \n",
    "        with Jelinek-Mercer Smoothing (set smoothing=0.1). \n",
    "        \n",
    "        \n",
    "        Note #1: You have to use the `get_index` (and get_doc_lengths) function created in the previous cells\n",
    "        Note #2: You might have to create some variables beforehand and use them in this function\n",
    "        \n",
    "        \n",
    "        Input: \n",
    "            query - a (unprocessed) query\n",
    "            index_set - the index to use\n",
    "        Output: a list of (document_id, score), sorted in descending relevance to the given query \n",
    "    \"\"\"\n",
    "    index = get_index(index_set)\n",
    "    doc_lengths = get_doc_lengths(index_set)\n",
    "    processed_query = preprocess_query(query, index_set)\n",
    "    \n",
    "    # YOUR CODE HERE\n",
    "    smoothing = 0.1\n",
    "    num_of_docs = len(doc_lengths)\n",
    "    df = get_df(index_set)\n",
    "    ql_scores = {}\n",
    "    for token in processed_query:\n",
    "        if token in index:\n",
    "            term_2 = (1-smoothing) * (df[token] / num_of_docs)\n",
    "            for (id,num) in index[token]:\n",
    "                term_1 = smoothing * (num / doc_lengths[id])\n",
    "                score = math.log(term_1 + term_2)\n",
    "                if id not in ql_scores:\n",
    "                    ql_scores[id] = score\n",
    "                else:\n",
    "                    ql_scores[id] += score\n",
    "                \n",
    "    ql_scores_list = [(key, score) for key, score in ql_scores.items()]\n",
    "    ql_scores_list.sort(key=lambda x: x[1], reverse = True)\n",
    "    return ql_scores_list\n",
    "    "
   ]
  },
  {
   "cell_type": "code",
   "execution_count": 44,
   "metadata": {
    "ExecuteTime": {
     "end_time": "2021-02-11T12:59:36.637050Z",
     "start_time": "2021-02-11T12:59:36.632063Z"
    },
    "deletable": false,
    "editable": false,
    "id": "onjd74_U4IWj",
    "nbgrader": {
     "cell_type": "code",
     "checksum": "0b12a7f3355193a257fd9f5f69a66562",
     "grade": true,
     "grade_id": "cell-850e9d6369bcec32",
     "locked": true,
     "points": 4,
     "schema_version": 3,
     "solution": false,
     "task": false
    }
   },
   "outputs": [
    {
     "name": "stdout",
     "output_type": "stream",
     "text": [
      "Rank 0(-3.3): A Report Writer For COBOL...\n",
      "Rank 1(-3.3): A CRT Report Generating System...\n",
      "Rank 2(-3.4): Preliminary Report-International Algebraic Languag...\n",
      "Rank 3(-3.4): Supplement to the ALGOL 60 Report...\n",
      "Rank 4(-3.4): ALGOL Sub-Committee Report - Extensions...\n",
      "\n",
      "Rank 0(-3.3e+01): A Report Writer For COBOL...\n",
      "Rank 1(-3.3e+01): A CRT Report Generating System...\n",
      "Rank 2(-3.4e+01): Preliminary Report-International Algebraic Languag...\n",
      "Rank 3(-3.4e+01): Supplement to the ALGOL 60 Report...\n",
      "Rank 4(-3.4e+01): ALGOL Sub-Committee Report - Extensions...\n"
     ]
    }
   ],
   "source": [
    "#### Function check\n",
    "test_ql_results = ql_search(\"report\", index_set=1)[:5]\n",
    "print_results(test_ql_results)\n",
    "print()\n",
    "test_ql_results_long = ql_search(\"report \" * 10, index_set=1)[:5]\n",
    "print_results(test_ql_results_long)\n",
    "####"
   ]
  },
  {
   "cell_type": "code",
   "execution_count": 45,
   "metadata": {
    "ExecuteTime": {
     "end_time": "2021-02-11T12:59:36.641040Z",
     "start_time": "2021-02-11T12:59:36.638047Z"
    },
    "deletable": false,
    "editable": false,
    "id": "2Nf0hYoy4IWj",
    "nbgrader": {
     "cell_type": "code",
     "checksum": "e40be645140389c115849856145f5b59",
     "grade": true,
     "grade_id": "cell-958cdcf6fd6899b7",
     "locked": true,
     "points": 3,
     "schema_version": 3,
     "solution": false,
     "task": false
    }
   },
   "outputs": [],
   "source": [
    "#### Please do not change this. This cell is used for grading."
   ]
  },
  {
   "cell_type": "code",
   "execution_count": 46,
   "metadata": {
    "ExecuteTime": {
     "end_time": "2021-02-11T12:59:36.646027Z",
     "start_time": "2021-02-11T12:59:36.643034Z"
    },
    "deletable": false,
    "editable": false,
    "id": "LBhA_QfH4IWj",
    "nbgrader": {
     "cell_type": "code",
     "checksum": "41d4aff001df17e7963ba79b45810b30",
     "grade": true,
     "grade_id": "cell-384dc23a0c251f6e",
     "locked": true,
     "points": 4,
     "schema_version": 3,
     "solution": false,
     "task": false
    }
   },
   "outputs": [],
   "source": [
    "#### Please do not change this. This cell is used for grading."
   ]
  },
  {
   "cell_type": "code",
   "execution_count": 47,
   "metadata": {
    "ExecuteTime": {
     "end_time": "2021-02-11T12:59:36.650016Z",
     "start_time": "2021-02-11T12:59:36.647024Z"
    },
    "deletable": false,
    "editable": false,
    "id": "RweZvvbK4IWj",
    "nbgrader": {
     "cell_type": "code",
     "checksum": "893e8c5a073abc8ebb763d267b91bc02",
     "grade": true,
     "grade_id": "cell-7218966cba5097cc",
     "locked": true,
     "points": 4,
     "schema_version": 3,
     "solution": false,
     "task": false
    }
   },
   "outputs": [],
   "source": [
    "#### Please do not change this. This cell is used for grading."
   ]
  },
  {
   "cell_type": "code",
   "execution_count": 48,
   "metadata": {
    "ExecuteTime": {
     "end_time": "2021-02-11T12:59:36.654005Z",
     "start_time": "2021-02-11T12:59:36.651013Z"
    },
    "deletable": false,
    "editable": false,
    "id": "9WGyJzph4IWj",
    "nbgrader": {
     "cell_type": "code",
     "checksum": "f99cb6f8b1f5830aaed8f06712ff846e",
     "grade": true,
     "grade_id": "cell-481ab073259ae53f",
     "locked": true,
     "points": 5,
     "schema_version": 3,
     "solution": false,
     "task": false
    }
   },
   "outputs": [],
   "source": [
    "#### Please do not change this. This cell is used for grading."
   ]
  },
  {
   "cell_type": "markdown",
   "metadata": {
    "deletable": false,
    "editable": false,
    "id": "a3vu_N7C4IWj",
    "nbgrader": {
     "cell_type": "markdown",
     "checksum": "c02f14705d679579b1aa9f78f54779d5",
     "grade": false,
     "grade_id": "cell-f44088bfdac1dc90",
     "locked": true,
     "schema_version": 3,
     "solution": false,
     "task": false
    }
   },
   "source": [
    "--- \n",
    "\n",
    "### Section 3.4: BM25 (20 points) <a class=\"anchor\" id=\"bm25\"></a>\n",
    "\n",
    "In this section, we will implement the BM25 scoring function. \n"
   ]
  },
  {
   "cell_type": "code",
   "execution_count": 49,
   "metadata": {
    "ExecuteTime": {
     "end_time": "2021-02-11T12:59:36.661983Z",
     "start_time": "2021-02-11T12:59:36.655999Z"
    },
    "deletable": false,
    "id": "NLVmJujG4IWk",
    "nbgrader": {
     "cell_type": "code",
     "checksum": "e57efe06ea92af1c83784a42eb3d86e0",
     "grade": false,
     "grade_id": "cell-15640fc9b5d00a3c",
     "locked": false,
     "schema_version": 3,
     "solution": true,
     "task": false
    }
   },
   "outputs": [],
   "source": [
    "# TODO: Implement this! (20 points)\n",
    "def bm25_search(query, index_set):\n",
    "    \"\"\"\n",
    "        Perform a search over all documents with the given query using BM25. Use k_1 = 1.5 and b = 0.75\n",
    "        Note #1: You have to use the `get_index` (and `get_doc_lengths`) function created in the previous cells\n",
    "        Note #2: You might have to create some variables beforehand and use them in this function\n",
    "        \n",
    "        Input: \n",
    "            query - a (unprocessed) query\n",
    "            index_set - the index to use\n",
    "        Output: a list of (document_id, score), sorted in descending relevance to the given query \n",
    "    \"\"\"\n",
    "    \n",
    "    index = get_index(index_set)\n",
    "    df = get_df(index_set)\n",
    "    doc_lengths = get_doc_lengths(index_set)\n",
    "    processed_query = preprocess_query(query, index_set)\n",
    "    \n",
    "    # YOUR CODE HERE\n",
    "    b = 0.75\n",
    "    k_1 = 1.5\n",
    "    \n",
    "    num_of_docs = len(doc_lengths)\n",
    "    avg_doc_length = sum(doc_lengths[key] for key in doc_lengths) / num_of_docs\n",
    "    \n",
    "    bm25_scores = {}\n",
    "    for token in processed_query:\n",
    "        if token in index:\n",
    "            token_freq = df[token]\n",
    "            for doc_id, num_of_occurences in index[token]:\n",
    "                doc_length = doc_lengths[doc_id]\n",
    "                idf = math.log((num_of_docs - token_freq + 0.5) / (token_freq + 0.5) + 1)\n",
    "                K = k_1 * (1 - b + b * (doc_length / avg_doc_length))\n",
    "                score = idf * (num_of_occurences * (k_1 + 1)) / (num_of_occurences + K)\n",
    "                if doc_id in bm25_scores:\n",
    "                    bm25_scores[doc_id] += score\n",
    "                else:\n",
    "                    bm25_scores[doc_id] = score \n",
    "\n",
    "    bm25_scores_list = [(key, score) for key, score in bm25_scores.items()]\n",
    "    bm25_scores_list.sort(key=lambda x: x[1], reverse = True)   \n",
    "    \n",
    "    return bm25_scores_list \n",
    "    "
   ]
  },
  {
   "cell_type": "code",
   "execution_count": 50,
   "metadata": {
    "ExecuteTime": {
     "end_time": "2021-02-11T12:59:36.666969Z",
     "start_time": "2021-02-11T12:59:36.662980Z"
    },
    "deletable": false,
    "editable": false,
    "id": "YocJglWu4IWk",
    "nbgrader": {
     "cell_type": "code",
     "checksum": "4be9de5d4e94637960d83725422bea6c",
     "grade": true,
     "grade_id": "cell-d10536bca72c74b1",
     "locked": true,
     "points": 3,
     "schema_version": 3,
     "solution": false,
     "task": false
    }
   },
   "outputs": [
    {
     "name": "stdout",
     "output_type": "stream",
     "text": [
      "Rank 0(6.7): A Report Writer For COBOL...\n",
      "Rank 1(6.7): A CRT Report Generating System...\n",
      "Rank 2(6.6): Preliminary Report-International Algebraic Languag...\n",
      "Rank 3(6.6): Supplement to the ALGOL 60 Report...\n",
      "Rank 4(6.5): ALGOL Sub-Committee Report - Extensions...\n"
     ]
    }
   ],
   "source": [
    "#### Function check\n",
    "test_bm25_results = bm25_search(\"report\", index_set=1)[:5]\n",
    "print_results(test_bm25_results)\n",
    "####"
   ]
  },
  {
   "cell_type": "code",
   "execution_count": 51,
   "metadata": {
    "ExecuteTime": {
     "end_time": "2021-02-11T12:59:36.670959Z",
     "start_time": "2021-02-11T12:59:36.667968Z"
    },
    "deletable": false,
    "editable": false,
    "id": "LMKx7x7X4IWk",
    "nbgrader": {
     "cell_type": "code",
     "checksum": "31b550d6a46ae4f8ede88788799ac2b9",
     "grade": true,
     "grade_id": "cell-60f6ec5052712d79",
     "locked": true,
     "points": 5,
     "schema_version": 3,
     "solution": false,
     "task": false
    }
   },
   "outputs": [],
   "source": [
    "#### Please do not change this. This cell is used for grading."
   ]
  },
  {
   "cell_type": "code",
   "execution_count": 52,
   "metadata": {
    "ExecuteTime": {
     "end_time": "2021-02-11T12:59:36.675946Z",
     "start_time": "2021-02-11T12:59:36.672955Z"
    },
    "deletable": false,
    "editable": false,
    "id": "zMyvPilQ4IWk",
    "nbgrader": {
     "cell_type": "code",
     "checksum": "3da2ec16bfe781916e71755d65aa2983",
     "grade": true,
     "grade_id": "cell-5d17524043a5abcc",
     "locked": true,
     "points": 5,
     "schema_version": 3,
     "solution": false,
     "task": false
    }
   },
   "outputs": [],
   "source": [
    "#### Please do not change this. This cell is used for grading."
   ]
  },
  {
   "cell_type": "code",
   "execution_count": 53,
   "metadata": {
    "ExecuteTime": {
     "end_time": "2021-02-11T12:59:36.681930Z",
     "start_time": "2021-02-11T12:59:36.677942Z"
    },
    "deletable": false,
    "editable": false,
    "id": "50XzuKTa4IWk",
    "nbgrader": {
     "cell_type": "code",
     "checksum": "e7b563d54fa84c20909c0ae107010541",
     "grade": true,
     "grade_id": "cell-ff8e704eda1184e3",
     "locked": true,
     "points": 3,
     "schema_version": 3,
     "solution": false,
     "task": false
    }
   },
   "outputs": [],
   "source": [
    "#### Please do not change this. This cell is used for grading."
   ]
  },
  {
   "cell_type": "code",
   "execution_count": 54,
   "metadata": {
    "ExecuteTime": {
     "end_time": "2021-02-11T12:59:36.685919Z",
     "start_time": "2021-02-11T12:59:36.682928Z"
    },
    "deletable": false,
    "editable": false,
    "id": "DYTt6NKh4IWk",
    "nbgrader": {
     "cell_type": "code",
     "checksum": "b013f90974b396630a8831d6f1d7e5f7",
     "grade": true,
     "grade_id": "cell-a52310500a2543cb",
     "locked": true,
     "points": 4,
     "schema_version": 3,
     "solution": false,
     "task": false
    }
   },
   "outputs": [],
   "source": [
    "#### Please do not change this. This cell is used for grading."
   ]
  },
  {
   "cell_type": "markdown",
   "metadata": {
    "deletable": false,
    "editable": false,
    "id": "bD5EZ9eN4IWl",
    "nbgrader": {
     "cell_type": "markdown",
     "checksum": "8fcf67cb7d5e8b26cb9bf1f0aa42c847",
     "grade": false,
     "grade_id": "cell-8b2b412c81d62f2d",
     "locked": true,
     "schema_version": 3,
     "solution": false,
     "task": false
    }
   },
   "source": [
    "\n",
    "---\n",
    "\n",
    "### 3.5. Test Your Functions\n",
    "\n",
    "The widget below allows you to play with the search functions you've written so far. Use this to test your search functions and ensure that they work as expected."
   ]
  },
  {
   "cell_type": "code",
   "execution_count": 55,
   "metadata": {
    "ExecuteTime": {
     "end_time": "2021-02-11T12:59:36.695893Z",
     "start_time": "2021-02-11T12:59:36.687915Z"
    },
    "deletable": false,
    "editable": false,
    "id": "mIWUmEd14IWl",
    "nbgrader": {
     "cell_type": "code",
     "checksum": "dfeb204b390acc0794dbdcac92b0cf2c",
     "grade": false,
     "grade_id": "cell-c9c2bb76354e8d97",
     "locked": true,
     "schema_version": 3,
     "solution": false,
     "task": false
    }
   },
   "outputs": [],
   "source": [
    "#### Highlighter function\n",
    "# class for results\n",
    "ResultRow = namedtuple(\"ResultRow\", [\"doc_id\", \"snippet\", \"score\"])\n",
    "# doc_id -> doc\n",
    "docs_by_id = dict((d[0], d[1]) for d in docs)\n",
    "\n",
    "def highlight_text(document, query, tol=17):\n",
    "    import re\n",
    "    tokens = tokenize(query)\n",
    "    regex = \"|\".join(f\"(\\\\b{t}\\\\b)\" for t in tokens)\n",
    "    regex = re.compile(regex, flags=re.IGNORECASE)\n",
    "    output = \"\"\n",
    "    i = 0\n",
    "    for m in regex.finditer(document):\n",
    "        start_idx = max(0, m.start() - tol)\n",
    "        end_idx = min(len(document), m.end() + tol)\n",
    "        output += \"\".join([\"...\",\n",
    "                        document[start_idx:m.start()],\n",
    "                        \"<strong>\",\n",
    "                        document[m.start():m.end()],\n",
    "                        \"</strong>\",\n",
    "                        document[m.end():end_idx],\n",
    "                        \"...\"])\n",
    "    return output.replace(\"\\n\", \" \")\n",
    "\n",
    "\n",
    "def make_results(query, search_fn, index_set):\n",
    "    results = []\n",
    "    for doc_id, score in search_fn(query, index_set):\n",
    "        highlight = highlight_text(docs_by_id[doc_id], query)\n",
    "        if len(highlight.strip()) == 0:\n",
    "            highlight = docs_by_id[doc_id]\n",
    "        results.append(ResultRow(doc_id, highlight, score))\n",
    "    return results\n",
    "####"
   ]
  },
  {
   "cell_type": "code",
   "execution_count": 56,
   "metadata": {
    "ExecuteTime": {
     "end_time": "2021-02-11T12:59:36.712847Z",
     "start_time": "2021-02-11T12:59:36.697887Z"
    },
    "id": "lLBwC48L4IWl"
   },
   "outputs": [
    {
     "data": {
      "application/vnd.jupyter.widget-view+json": {
       "model_id": "5f437628a5034297aa81211c1f425e25",
       "version_major": 2,
       "version_minor": 0
      },
      "text/plain": [
       "Text(value='', description='Search Bar')"
      ]
     },
     "metadata": {},
     "output_type": "display_data"
    }
   ],
   "source": [
    "# TODO: Set this to the function you want to test!\n",
    "# this function should take in a query (string)\n",
    "# and return a sorted list of (doc_id, score) \n",
    "# with the most relevant document in the first position\n",
    "search_fn = bm25_search\n",
    "index_set = 1\n",
    "\n",
    "text = widgets.Text(description=\"Search Bar\", width=200)\n",
    "display(text)\n",
    "\n",
    "def handle_submit(sender):\n",
    "    print(f\"Searching for: '{sender.value}'\")\n",
    "    \n",
    "    results = make_results(sender.value, search_fn, index_set)\n",
    "    \n",
    "    # display only the top 5\n",
    "    results = results[:5]\n",
    "    \n",
    "    body = \"\"\n",
    "    for idx, r in enumerate(results):\n",
    "        body += f\"<li>Document #{r.doc_id}({r.score}): {r.snippet}</li>\"\n",
    "    display(HTML(f\"<ul>{body}</ul>\"))\n",
    "    \n",
    "\n",
    "text.on_submit(handle_submit)"
   ]
  },
  {
   "cell_type": "markdown",
   "metadata": {
    "deletable": false,
    "editable": false,
    "id": "V_eNBPNC4IWl",
    "nbgrader": {
     "cell_type": "markdown",
     "checksum": "b315c280048a50e8bad7d6250f6f39d1",
     "grade": false,
     "grade_id": "cell-8d46fe8e4f3d8cdb",
     "locked": true,
     "schema_version": 3,
     "solution": false,
     "task": false
    }
   },
   "source": [
    "---\n",
    "\n",
    "## Section 4: Evaluation (40 points) <a class=\"anchor\" id=\"evaluation\"></a>\n",
    "\n",
    "[Back to Part 1](#part1)\n",
    "\n",
    "Before we jump in and implement an algorithm for retrieval, we first have to learn how to evaluate such a system. In particular, we will work with offline evaluation metrics. These metrics are computed on a dataset with known relevance judgements.\n",
    "\n",
    "Implement the following evaluation metrics. \n",
    "\n",
    "1. Precision (7 points)\n",
    "2. Recall (7 points)\n",
    "3. Mean Average Precision (12 points)\n",
    "4. Expected Reciprocal Rank (12 points)"
   ]
  },
  {
   "cell_type": "markdown",
   "metadata": {
    "deletable": false,
    "editable": false,
    "id": "gLVYII234IWl",
    "nbgrader": {
     "cell_type": "markdown",
     "checksum": "82e90076c51893e31fec5c40c49d1828",
     "grade": false,
     "grade_id": "cell-3419fd3bc663d7cc",
     "locked": true,
     "schema_version": 3,
     "solution": false,
     "task": false
    }
   },
   "source": [
    "---\n",
    "### 4.1 Read relevance labels (2 points)\n",
    "\n",
    "Let's take a look at the `qrels.text` file, which contains the ground truth relevance scores. The relevance labels for CACM are binary - either 0 or 1. \n"
   ]
  },
  {
   "cell_type": "code",
   "execution_count": 57,
   "metadata": {
    "ExecuteTime": {
     "end_time": "2021-02-11T12:59:36.755738Z",
     "start_time": "2021-02-11T12:59:36.713845Z"
    },
    "deletable": false,
    "editable": false,
    "id": "dD-BtESw4IWl",
    "nbgrader": {
     "cell_type": "code",
     "checksum": "6c11025f5a222796f2882c73c1634799",
     "grade": false,
     "grade_id": "cell-6b738366059dde9e",
     "locked": true,
     "schema_version": 3,
     "solution": false,
     "task": false
    }
   },
   "outputs": [],
   "source": [
    "!head ./datasets/qrels.text"
   ]
  },
  {
   "cell_type": "markdown",
   "metadata": {
    "deletable": false,
    "editable": false,
    "id": "O1d_Ru854IWm",
    "nbgrader": {
     "cell_type": "markdown",
     "checksum": "e77d7cc6aae69fdbadb5ac9f78f8a560",
     "grade": false,
     "grade_id": "cell-10e16bff2753ffbb",
     "locked": true,
     "schema_version": 3,
     "solution": false,
     "task": false
    }
   },
   "source": [
    "---\n",
    "**Implementation (2 points):**\n",
    "The first column is the query_id and the second column is the document_id. You can safely ignore the 3rd and 4th columns. Write a function to read in the file:"
   ]
  },
  {
   "cell_type": "code",
   "execution_count": 58,
   "metadata": {
    "ExecuteTime": {
     "end_time": "2021-02-11T12:59:36.761716Z",
     "start_time": "2021-02-11T12:59:36.756731Z"
    },
    "deletable": false,
    "id": "gaPgBW-q4IWm",
    "nbgrader": {
     "cell_type": "code",
     "checksum": "ef347565a0990ddbd049835105753d59",
     "grade": false,
     "grade_id": "cell-ee5253a4ef602fce",
     "locked": false,
     "schema_version": 3,
     "solution": true,
     "task": false
    }
   },
   "outputs": [],
   "source": [
    "# TODO: Implement this! (2 points)\n",
    "def read_qrels(root_folder = \"./datasets/\"):\n",
    "    \"\"\"\n",
    "        Reads the qrels.text file. \n",
    "        Output: A dictionary: query_id -> [list of relevant documents]\n",
    "    \"\"\"\n",
    "    # YOUR CODE HERE\n",
    "    qrels_dict = {}\n",
    "    with open(root_folder + 'qrels.text') as f:\n",
    "        for line in f:\n",
    "            line_split = line.split(' ')\n",
    "            q_id = str(int(line_split[0]))\n",
    "            doc_id = line_split[1]\n",
    "            if q_id in qrels_dict:\n",
    "                qrels_dict[q_id].append(doc_id)\n",
    "            else:\n",
    "                qrels_dict[q_id] = [doc_id]\n",
    "        \n",
    "    return qrels_dict"
   ]
  },
  {
   "cell_type": "code",
   "execution_count": 59,
   "metadata": {
    "ExecuteTime": {
     "end_time": "2021-02-11T12:59:36.767701Z",
     "start_time": "2021-02-11T12:59:36.762715Z"
    },
    "deletable": false,
    "editable": false,
    "id": "42HAaoxI4IWm",
    "nbgrader": {
     "cell_type": "code",
     "checksum": "6a258a834392cc8cbf8af5d4ccdee81f",
     "grade": true,
     "grade_id": "cell-72215605fbe24f65",
     "locked": true,
     "points": 2,
     "schema_version": 3,
     "solution": false,
     "task": false
    }
   },
   "outputs": [],
   "source": [
    "#### Function check\n",
    "qrels = read_qrels()\n",
    "\n",
    "assert len(qrels) == 52, \"There should be 52 queries with relevance judgements\"\n",
    "assert sum(len(j) for j in qrels.values()) == 796, \"There should be a total of 796 Relevance Judgements\"\n",
    "####"
   ]
  },
  {
   "cell_type": "markdown",
   "metadata": {
    "deletable": false,
    "editable": false,
    "id": "XSWVVWzl4IWm",
    "nbgrader": {
     "cell_type": "markdown",
     "checksum": "6c9e7428a52e291a2cdf92a379730d4c",
     "grade": false,
     "grade_id": "cell-176a6fb2939d0420",
     "locked": true,
     "schema_version": 3,
     "solution": false,
     "task": false
    }
   },
   "source": [
    "---\n",
    "**Note:** For a given query `query_id`, you can assume that documents *not* in `qrels[query_id]` are not relevant to `query_id`. \n"
   ]
  },
  {
   "cell_type": "markdown",
   "metadata": {
    "deletable": false,
    "editable": false,
    "id": "Ad2E1OAb4IWm",
    "nbgrader": {
     "cell_type": "markdown",
     "checksum": "b26a818c7b4f7ad490e00b35ea0edd69",
     "grade": false,
     "grade_id": "cell-bd8341b72cdd89bb",
     "locked": true,
     "schema_version": 3,
     "solution": false,
     "task": false
    }
   },
   "source": [
    "---\n",
    "### 4.2 Precision (7 points)\n",
    "Implement the `precision@k` metric:"
   ]
  },
  {
   "cell_type": "code",
   "execution_count": 60,
   "metadata": {
    "ExecuteTime": {
     "end_time": "2021-02-11T12:59:36.774682Z",
     "start_time": "2021-02-11T12:59:36.768697Z"
    },
    "deletable": false,
    "id": "itsA-mo54IWm",
    "nbgrader": {
     "cell_type": "code",
     "checksum": "ad3cc3234a361d269ecb6b59cc447e9f",
     "grade": false,
     "grade_id": "cell-494bd0cce108ed67",
     "locked": false,
     "schema_version": 3,
     "solution": true,
     "task": false
    }
   },
   "outputs": [],
   "source": [
    "# TODO: Implement this! (7 points)\n",
    "def precision_k(results, relevant_docs, k):\n",
    "    \"\"\"\n",
    "        Compute Precision@K\n",
    "        Input: \n",
    "            results: A sorted list of 2-tuples (document_id, score), \n",
    "                    with the most relevant document in the first position\n",
    "            relevant_docs: A set of relevant documents. \n",
    "            k: the cut-off\n",
    "        Output: Precision@K\n",
    "    \"\"\"\n",
    "    # YOUR CODE HERE\n",
    "    \n",
    "    relevant_doc_set = set(relevant_docs)\n",
    "    results_doc_set = {k for k, v in results[:k]}\n",
    "\n",
    "    numerator = len(relevant_doc_set.intersection(results_doc_set))\n",
    "    denomerator = len(results_doc_set)\n",
    "    \n",
    "    precision = numerator / denomerator\n",
    "\n",
    "    return precision\n"
   ]
  },
  {
   "cell_type": "code",
   "execution_count": 61,
   "metadata": {
    "ExecuteTime": {
     "end_time": "2021-02-11T12:59:36.791637Z",
     "start_time": "2021-02-11T12:59:36.775680Z"
    },
    "deletable": false,
    "editable": false,
    "id": "QnBXQiHM4IWm",
    "nbgrader": {
     "cell_type": "code",
     "checksum": "964b214dbfff8fc53cada864019ee863",
     "grade": true,
     "grade_id": "cell-e7ff0d91c319ca64",
     "locked": true,
     "points": 7,
     "schema_version": 3,
     "solution": false,
     "task": false
    }
   },
   "outputs": [
    {
     "name": "stdout",
     "output_type": "stream",
     "text": [
      "query: What articles exist which deal with TSS (Time Sharing System), an\n",
      "operating system for IBM computers?\n",
      "\n",
      "precision@10 = 0.2\n"
     ]
    }
   ],
   "source": [
    "#### Function check\n",
    "qid = queries[0][0]\n",
    "qtext = queries[0][1]\n",
    "print(f'query:{qtext}')\n",
    "results = bm25_search(qtext, 2)\n",
    "precision = precision_k(results, qrels[qid], 10)\n",
    "print(f'precision@10 = {precision}')\n",
    "####"
   ]
  },
  {
   "cell_type": "markdown",
   "metadata": {
    "deletable": false,
    "editable": false,
    "id": "rsVw36Qs4IWn",
    "nbgrader": {
     "cell_type": "markdown",
     "checksum": "8fd3b3998197c7097a40348500affb68",
     "grade": false,
     "grade_id": "cell-afd95f865bc7191e",
     "locked": true,
     "schema_version": 3,
     "solution": false,
     "task": false
    }
   },
   "source": [
    "---\n",
    "### 4.3 Recall (7 points)\n",
    "Implement the `recall@k` metric:"
   ]
  },
  {
   "cell_type": "code",
   "execution_count": 62,
   "metadata": {
    "ExecuteTime": {
     "end_time": "2021-02-11T12:59:36.797621Z",
     "start_time": "2021-02-11T12:59:36.792635Z"
    },
    "deletable": false,
    "id": "5MCAhvPt4IWn",
    "nbgrader": {
     "cell_type": "code",
     "checksum": "b2020e5741ae03b3fe35817ed8f4ccaa",
     "grade": false,
     "grade_id": "cell-c323fc8c3f8a7cf8",
     "locked": false,
     "schema_version": 3,
     "solution": true,
     "task": false
    }
   },
   "outputs": [],
   "source": [
    "# TODO: Implement this! (7 points)\n",
    "def recall_k(results, relevant_docs, k):\n",
    "    \"\"\"\n",
    "        Compute Recall@K\n",
    "        Input: \n",
    "            results: A sorted list of 2-tuples (document_id, score), with the most relevant document in the first position\n",
    "            relevant_docs: A set of relevant documents. \n",
    "            k: the cut-off\n",
    "        Output: Recall@K\n",
    "    \"\"\"\n",
    "    # YOUR CODE HERE\n",
    "    relevant_doc_set = set(relevant_docs)\n",
    "    results_doc_set = {k for k, v in results[:k]}\n",
    "\n",
    "    numerator = len(relevant_doc_set.intersection(results_doc_set))\n",
    "    denomerator = len(relevant_doc_set)\n",
    "    \n",
    "    recall = numerator / denomerator\n",
    "\n",
    "    return recall\n"
   ]
  },
  {
   "cell_type": "code",
   "execution_count": 63,
   "metadata": {
    "ExecuteTime": {
     "end_time": "2021-02-11T12:59:36.806597Z",
     "start_time": "2021-02-11T12:59:36.798618Z"
    },
    "deletable": false,
    "editable": false,
    "id": "oJrL_tLY4IWn",
    "nbgrader": {
     "cell_type": "code",
     "checksum": "56b6e0b8522f8b2dffbfb3206b2efa84",
     "grade": true,
     "grade_id": "cell-b25172161aef165c",
     "locked": true,
     "points": 7,
     "schema_version": 3,
     "solution": false,
     "task": false
    }
   },
   "outputs": [
    {
     "name": "stdout",
     "output_type": "stream",
     "text": [
      "query: SETL, Very High Level Languages\n",
      "\n",
      "recall@10 = 0.3157894736842105\n"
     ]
    }
   ],
   "source": [
    "#### Function check\n",
    "qid = queries[10][0]\n",
    "qtext = queries[10][1]\n",
    "print(f'query:{qtext}')\n",
    "results = bm25_search(qtext, 2)\n",
    "recall = recall_k(results, qrels[qid], 10)\n",
    "print(f'recall@10 = {recall}')\n",
    "####"
   ]
  },
  {
   "cell_type": "markdown",
   "metadata": {
    "deletable": false,
    "editable": false,
    "id": "O6zOyivS4IWn",
    "nbgrader": {
     "cell_type": "markdown",
     "checksum": "d43c63fa38f333e0b52d41639b2655f7",
     "grade": false,
     "grade_id": "cell-77fd2e7a39a74739",
     "locked": true,
     "schema_version": 3,
     "solution": false,
     "task": false
    }
   },
   "source": [
    "---\n",
    "### 4.4 Mean Average Precision (12 points)\n",
    "Implement the `map` metric:"
   ]
  },
  {
   "cell_type": "code",
   "execution_count": 101,
   "metadata": {
    "ExecuteTime": {
     "end_time": "2021-02-11T12:59:36.812581Z",
     "start_time": "2021-02-11T12:59:36.807595Z"
    },
    "deletable": false,
    "id": "NtBBAX-34IWn",
    "nbgrader": {
     "cell_type": "code",
     "checksum": "aae2c62f2ffd76f5b6c004e9519b9f14",
     "grade": false,
     "grade_id": "cell-e50925fa9093a30d",
     "locked": false,
     "schema_version": 3,
     "solution": true,
     "task": false
    }
   },
   "outputs": [],
   "source": [
    "# TODO: Implement this! (12 points)\n",
    "def average_precision(results, relevant_docs):\n",
    "    \"\"\"\n",
    "        Compute Average Precision (for a single query - the results are \n",
    "        averaged across queries to get MAP in the next few cells)\n",
    "        Hint: You can use the recall_k and precision_k functions here!\n",
    "        Input: \n",
    "            results: A sorted list of 2-tuples (document_id, score), with the most \n",
    "                    relevant document in the first position\n",
    "            relevant_docs: A set of relevant documents. \n",
    "        Output: Average Precision\n",
    "    \"\"\"\n",
    "    # YOUR CODE HERE\n",
    "    precisions = []\n",
    "    relevant_results = []\n",
    "    for i in range(len(results)):\n",
    "        cur_precision = precision_k(results, relevant_docs, i+1)\n",
    "        doc_id, _ = results[i]\n",
    "        if doc_id in relevant_docs:\n",
    "            precisions.append(cur_precision)\n",
    "\n",
    "    return sum(precisions)/len(precisions) if len(precisions) > 0 else 0\n",
    "\n",
    "    \n",
    "\n",
    "    \n",
    "        \n"
   ]
  },
  {
   "cell_type": "code",
   "execution_count": 102,
   "metadata": {
    "ExecuteTime": {
     "end_time": "2021-02-11T12:59:37.149679Z",
     "start_time": "2021-02-11T12:59:36.813578Z"
    },
    "deletable": false,
    "editable": false,
    "id": "Ij731snQ4IWn",
    "nbgrader": {
     "cell_type": "code",
     "checksum": "5db8cb2dfd3a77554f4147b409f47f38",
     "grade": true,
     "grade_id": "cell-8a1f7ec98571e58b",
     "locked": true,
     "points": 12,
     "schema_version": 3,
     "solution": false,
     "task": false
    },
    "tags": []
   },
   "outputs": [
    {
     "name": "stdout",
     "output_type": "stream",
     "text": [
      "query: computational complexity, intractability, class-complete reductions,\n",
      "algorithms and efficiency\n",
      "\n",
      "MAP = 0.1391321152431886\n"
     ]
    }
   ],
   "source": [
    "#### Function check\n",
    "qid = queries[20][0]\n",
    "qtext = queries[20][1]\n",
    "print(f'query:{qtext}')\n",
    "results = bm25_search(qtext, 2)\n",
    "mean_ap = average_precision(results, qrels[qid])\n",
    "print(f'MAP = {mean_ap}')\n",
    "####"
   ]
  },
  {
   "cell_type": "markdown",
   "metadata": {
    "deletable": false,
    "editable": false,
    "id": "Q38CrFOO4IWo",
    "nbgrader": {
     "cell_type": "markdown",
     "checksum": "cb645b79d04cc3eed33ca060a5e7bf0f",
     "grade": false,
     "grade_id": "cell-1da18f0fe6f6d7be",
     "locked": true,
     "schema_version": 3,
     "solution": false,
     "task": false
    }
   },
   "source": [
    "---\n",
    "### 4.5 Expected Reciprocal Rank (12 points)\n",
    "Implement the `err` metric:"
   ]
  },
  {
   "cell_type": "code",
   "execution_count": 103,
   "metadata": {
    "ExecuteTime": {
     "end_time": "2021-02-11T12:59:37.156660Z",
     "start_time": "2021-02-11T12:59:37.150676Z"
    },
    "deletable": false,
    "id": "Wm7tmYcH4IWo",
    "nbgrader": {
     "cell_type": "code",
     "checksum": "9ac94db728e23ea1f5dc0d509473c6fb",
     "grade": false,
     "grade_id": "cell-64262889f9b267ea",
     "locked": false,
     "schema_version": 3,
     "solution": true,
     "task": false
    }
   },
   "outputs": [],
   "source": [
    "# TODO: Implement this! (12 points)\n",
    "def err(results, relevant_docs):\n",
    "    \"\"\"\n",
    "        Compute the expected reciprocal rank.\n",
    "        Hint: https://dl.acm.org/doi/pdf/10.1145/1645953.1646033?download=true\n",
    "        Input: \n",
    "            results: A sorted list of 2-tuples (document_id, score), with the most \n",
    "                    relevant document in the first position\n",
    "            relevant_docs: A set of relevant documents. \n",
    "        Output: ERR\n",
    "        \n",
    "    \"\"\"\n",
    "    # The relevance grade is binary, so when a document is irrelevant, we get (2^0-1)/2 = 0\n",
    "    # For a relevant document, this is (2^1-1)/2 = 0.5, hence the R of 0 or 0.5.\n",
    "    p, ERR = 1, 0\n",
    "    nr_docs = len(results)\n",
    "    for r in range(nr_docs):\n",
    "        cur_doc = results[r][0]\n",
    "        if cur_doc in relevant_docs:\n",
    "            R = 0.5\n",
    "        else:\n",
    "            R = 0\n",
    "        ERR += p * R/(r + 1)\n",
    "        p *= (1-R)\n",
    "    \n",
    "    return ERR"
   ]
  },
  {
   "cell_type": "code",
   "execution_count": 104,
   "metadata": {
    "ExecuteTime": {
     "end_time": "2021-02-11T12:59:37.224479Z",
     "start_time": "2021-02-11T12:59:37.163642Z"
    },
    "deletable": false,
    "editable": false,
    "id": "xD69_bIF4IWo",
    "nbgrader": {
     "cell_type": "code",
     "checksum": "eb97e6d89a0b992b642e4e0ff36ff9f5",
     "grade": true,
     "grade_id": "cell-071e3970ff1afae4",
     "locked": true,
     "points": 12,
     "schema_version": 3,
     "solution": false,
     "task": false
    }
   },
   "outputs": [
    {
     "name": "stdout",
     "output_type": "stream",
     "text": [
      "query: I'd like to find articles describing the use of singular value decomposition\n",
      "in digital image processing.  Applications include finding approximations\n",
      "to the original image and restoring images that are subject to noise. An\n",
      "article on the subject is H.C. Andrews and C.L. Patterson \"Outer product\n",
      "expansions and their uses in digital image processing\", American Mathematical\n",
      "Monthly, vol. 82.\n",
      ".A\n",
      "Andrews, H.C.\n",
      "Patterson, C.L.\n",
      "\n",
      "ERR = 0.3333333333333333\n"
     ]
    }
   ],
   "source": [
    "#### Function check\n",
    "qid = queries[30][0]\n",
    "qtext = queries[30][1]\n",
    "print(f'query:{qtext}')\n",
    "results = bm25_search(qtext, 2)\n",
    "ERR = err(results, qrels[qid])\n",
    "print(f'ERR = {ERR}')\n",
    "####"
   ]
  },
  {
   "cell_type": "markdown",
   "metadata": {
    "deletable": false,
    "editable": false,
    "id": "Gh1iz9Ht4IWo",
    "nbgrader": {
     "cell_type": "markdown",
     "checksum": "5bd94caf77cfa5f34675df758d91002d",
     "grade": false,
     "grade_id": "cell-43709a765f353946",
     "locked": true,
     "schema_version": 3,
     "solution": false,
     "task": false
    }
   },
   "source": [
    "---\n",
    "### 4.6 Evaluate Search Functions\n",
    "\n",
    "Let's define some metrics@k using [partial functions](https://docs.python.org/3/library/functools.html#functools.partial)"
   ]
  },
  {
   "cell_type": "code",
   "execution_count": 105,
   "metadata": {
    "ExecuteTime": {
     "end_time": "2021-02-11T12:59:37.231460Z",
     "start_time": "2021-02-11T12:59:37.226474Z"
    },
    "deletable": false,
    "editable": false,
    "id": "Z-lVjRDV4IWo",
    "nbgrader": {
     "cell_type": "code",
     "checksum": "49ccc158e5fb7340ace55e90eeb9d62a",
     "grade": false,
     "grade_id": "cell-dab560e18e340da8",
     "locked": true,
     "schema_version": 3,
     "solution": false,
     "task": false
    }
   },
   "outputs": [],
   "source": [
    "#### metrics@k functions\n",
    "\n",
    "recall_at_1 = partial(recall_k, k=1)\n",
    "recall_at_5 = partial(recall_k, k=5)\n",
    "recall_at_10 = partial(recall_k, k=10)\n",
    "precision_at_1 = partial(precision_k, k=1)\n",
    "precision_at_5 = partial(precision_k, k=5)\n",
    "precision_at_10 = partial(precision_k, k=10)\n",
    "\n",
    "\n",
    "list_of_metrics = [\n",
    "    (\"ERR\", err),\n",
    "    (\"MAP\", average_precision),\n",
    "    (\"Recall@1\",recall_at_1),\n",
    "    (\"Recall@5\", recall_at_5),\n",
    "    (\"Recall@10\", recall_at_10),\n",
    "    (\"Precision@1\", precision_at_1),\n",
    "    (\"Precision@5\", precision_at_5),\n",
    "    (\"Precision@10\", precision_at_10)]\n",
    "####"
   ]
  },
  {
   "cell_type": "markdown",
   "metadata": {
    "deletable": false,
    "editable": false,
    "id": "tkpES_rl4IWo",
    "nbgrader": {
     "cell_type": "markdown",
     "checksum": "fb541002c03221b453b8936290020ea5",
     "grade": false,
     "grade_id": "cell-580a2bdc66d03b47",
     "locked": true,
     "schema_version": 3,
     "solution": false,
     "task": false
    }
   },
   "source": [
    "---\n",
    "\n",
    "The following function evaluates a `search_fn` using the `metric_fn`. Note that the final number is averaged over all the queries"
   ]
  },
  {
   "cell_type": "code",
   "execution_count": 106,
   "metadata": {
    "ExecuteTime": {
     "end_time": "2021-02-11T12:59:37.240436Z",
     "start_time": "2021-02-11T12:59:37.233455Z"
    },
    "id": "SGKA8Ci54IWo"
   },
   "outputs": [],
   "source": [
    "#### Evaluate a search function\n",
    "\n",
    "list_of_search_fns = [\n",
    "    (\"BOW\", bow_search),\n",
    "    (\"TF-IDF\", tfidf_search),\n",
    "    (\"NaiveQL\", naive_ql_search),\n",
    "    (\"QL\", ql_search),\n",
    "    (\"BM25\", bm25_search)\n",
    "]\n",
    "\n",
    "def evaluate_search_fn(search_fn, metric_fns, index_set=None):\n",
    "    # build a dict query_id -> query \n",
    "    queries_by_id = dict((q[0], q[1]) for q in queries)\n",
    "    metrics = {}\n",
    "    for metric, metric_fn in metric_fns:\n",
    "        metrics[metric] = np.zeros(len(qrels), dtype=np.float32)\n",
    "    \n",
    "    for i, (query_id, relevant_docs) in enumerate(qrels.items()):\n",
    "        query = queries_by_id[query_id]\n",
    "        if index_set:\n",
    "            results = search_fn(query, index_set)\n",
    "        else:\n",
    "            results = search_fn(query)\n",
    "        \n",
    "        for metric, metric_fn in metric_fns:\n",
    "            metrics[metric][i] = metric_fn(results, relevant_docs)\n",
    "\n",
    "    \n",
    "    \n",
    "    final_dict = {}\n",
    "    for metric, metric_vals in metrics.items():\n",
    "        final_dict[metric] = metric_vals.mean()\n",
    "    \n",
    "    return final_dict\n",
    "####"
   ]
  },
  {
   "cell_type": "markdown",
   "metadata": {
    "deletable": false,
    "editable": false,
    "id": "b54ANEqK4IWp",
    "nbgrader": {
     "cell_type": "markdown",
     "checksum": "6ea67534f74a8f81e1f504794f641709",
     "grade": false,
     "grade_id": "cell-b156d83a0649cbb4",
     "locked": true,
     "schema_version": 3,
     "solution": false,
     "task": false
    }
   },
   "source": [
    "## Section 5: Analysis (30 points) <a class=\"anchor\" id=\"analysis\"></a>\n",
    "\n",
    "[Back to Part 1](#part1)\n",
    "\n",
    "In the final section of Part1, we will compare the different term-based IR algorithms and different preprocessing configurations and analyze their advantages and disadvantages.\n",
    "\n",
    "### Section 5.1: Plot (20 points)\n",
    "\n",
    "First, gather the results. The results should consider the index set, the different search functions and different metrics. Plot the results in bar charts, per metric, with clear labels.\n",
    "\n",
    "**Rubric:**\n",
    "- Each Metric is plotted: 7 points\n",
    "- Each Method is plotted: 7 points\n",
    "- Clear titles, x label, y labels and legends (if applicable): 6 points"
   ]
  },
  {
   "cell_type": "code",
   "execution_count": 107,
   "metadata": {
    "ExecuteTime": {
     "end_time": "2021-02-11T12:59:58.812120Z",
     "start_time": "2021-02-11T12:59:37.241433Z"
    },
    "deletable": false,
    "id": "YcKLzbIQ4IWp",
    "nbgrader": {
     "cell_type": "code",
     "checksum": "7e2588a925d13ddf588abe8311dc9cfc",
     "grade": true,
     "grade_id": "cell-46fda42a25863a04",
     "locked": false,
     "points": 20,
     "schema_version": 3,
     "solution": true,
     "task": false
    },
    "scrolled": true
   },
   "outputs": [
    {
     "name": "stdout",
     "output_type": "stream",
     "text": [
      "{'ERR': 0.05440761, 'MAP': 0.033994578, 'Recall@1': 0.0027097901, 'Recall@5': 0.012897039, 'Recall@10': 0.039613284, 'Precision@1': 0.03846154, 'Precision@5': 0.03076923, 'Precision@10': 0.028846154}\n"
     ]
    },
    {
     "data": {
      "image/png": "[encoded data removed]",
      "text/plain": [
       "<Figure size 432x288 with 1 Axes>"
      ]
     },
     "metadata": {
      "needs_background": "light"
     },
     "output_type": "display_data"
    },
    {
     "name": "stdout",
     "output_type": "stream",
     "text": [
      "{'ERR': 0.14915784, 'MAP': 0.1861915, 'Recall@1': 0.020363005, 'Recall@5': 0.053164855, 'Recall@10': 0.06952466, 'Precision@1': 0.17307693, 'Precision@5': 0.16538462, 'Precision@10': 0.14038461}\n"
     ]
    },
    {
     "data": {
      "image/png": "[encoded data removed]",
      "text/plain": [
       "<Figure size 432x288 with 1 Axes>"
      ]
     },
     "metadata": {
      "needs_background": "light"
     },
     "output_type": "display_data"
    },
    {
     "name": "stdout",
     "output_type": "stream",
     "text": [
      "{'ERR': 0.033569284, 'MAP': 0.017173316, 'Recall@1': 0.0021520148, 'Recall@5': 0.0039002667, 'Recall@10': 0.0067073954, 'Precision@1': 0.03846154, 'Precision@5': 0.011538462, 'Precision@10': 0.011538462}\n"
     ]
    },
    {
     "data": {
      "image/png": "[encoded data removed]",
      "text/plain": [
       "<Figure size 432x288 with 1 Axes>"
      ]
     },
     "metadata": {
      "needs_background": "light"
     },
     "output_type": "display_data"
    },
    {
     "name": "stdout",
     "output_type": "stream",
     "text": [
      "{'ERR': 0.0017727956, 'MAP': 0.0045172516, 'Recall@1': 0.0, 'Recall@5': 0.0, 'Recall@10': 0.0, 'Precision@1': 0.0, 'Precision@5': 0.0, 'Precision@10': 0.0}\n"
     ]
    },
    {
     "data": {
      "image/png": "[encoded data removed]",
      "text/plain": [
       "<Figure size 432x288 with 1 Axes>"
      ]
     },
     "metadata": {
      "needs_background": "light"
     },
     "output_type": "display_data"
    },
    {
     "name": "stdout",
     "output_type": "stream",
     "text": [
      "{'ERR': 0.367008, 'MAP': 0.22600856, 'Recall@1': 0.04431635, 'Recall@5': 0.18798876, 'Recall@10': 0.25808224, 'Precision@1': 0.42307693, 'Precision@5': 0.2846154, 'Precision@10': 0.23653847}\n"
     ]
    },
    {
     "data": {
      "image/png": "[encoded data removed]",
      "text/plain": [
       "<Figure size 432x288 with 1 Axes>"
      ]
     },
     "metadata": {
      "needs_background": "light"
     },
     "output_type": "display_data"
    }
   ],
   "source": [
    "# YOUR CODE HERE\n",
    "list_of_search_fns = [\n",
    "    (\"BOW\", bow_search),\n",
    "    (\"TF-IDF\", tfidf_search),\n",
    "    (\"NaiveQL\", naive_ql_search),\n",
    "    (\"QL\", ql_search),\n",
    "    (\"BM25\", bm25_search)\n",
    "]\n",
    "n_groups = len(list_of_metrics)\n",
    "for (name_search,search_fn) in list_of_search_fns:\n",
    "        #we need the first dictionary separet to get the list of keys\n",
    "        score_1_dict = evaluate_search_fn(search_fn,list_of_metrics,1)\n",
    "        print(score_1_dict)\n",
    "        dict_keys = score_1_dict.keys()\n",
    "        score_1 = list(score_1_dict.values())\n",
    "        score_2 = list(evaluate_search_fn(search_fn,list_of_metrics,2).values())\n",
    "        # create plot\n",
    "        fig, ax = plt.subplots()\n",
    "        index = np.arange(n_groups)\n",
    "        bar_width = 0.35\n",
    "        opacity = 0.8\n",
    "\n",
    "        rects1 = plt.bar(index, score_1, bar_width,\n",
    "        alpha=opacity,\n",
    "        color='b',\n",
    "        label='Index set = 1')\n",
    "\n",
    "        rects2 = plt.bar(index + bar_width, score_2, bar_width,\n",
    "        alpha=opacity,\n",
    "        color='g',\n",
    "        label='Index set = 2')\n",
    "\n",
    "        plt.xlabel('Metrics')\n",
    "        plt.ylabel('Results')\n",
    "        plt.title('Results using ' + name_search + ' function')\n",
    "        plt.xticks(index + bar_width, dict_keys )\n",
    "        plt.legend()\n",
    "\n",
    "        plt.tight_layout()\n",
    "        plt.xticks(rotation=45)\n",
    "        plt.show()"
   ]
  },
  {
   "cell_type": "markdown",
   "metadata": {
    "deletable": false,
    "editable": false,
    "id": "lZ3SttfV4IWp",
    "nbgrader": {
     "cell_type": "markdown",
     "checksum": "e88c444a0acf4e398c65e289169b75f7",
     "grade": false,
     "grade_id": "cell-8aabe3bcf265deb0",
     "locked": true,
     "points": 10,
     "schema_version": 3,
     "solution": false,
     "task": true
    }
   },
   "source": [
    "---\n",
    "### Section 5.2: Summary (10 points)\n",
    "Write a summary of what you observe in the results.\n",
    "Your summary should compare results across the 2 indices and the methods being used. State what you expected to see in the results, followed by either supporting evidence *or* justify why the results did not support your expectations.      "
   ]
  },
  {
   "cell_type": "markdown",
   "metadata": {
    "id": "iD_gTGV84IWp"
   },
   "source": [
    "Write your answer here!"
   ]
  },
  {
   "cell_type": "markdown",
   "metadata": {
    "deletable": false,
    "editable": false,
    "id": "GB_eEIJE4IWp",
    "nbgrader": {
     "cell_type": "markdown",
     "checksum": "b3eb77be74eecca205fc7b47316d1627",
     "grade": false,
     "grade_id": "cell-bb60dd5c092d0f2e",
     "locked": true,
     "schema_version": 3,
     "solution": false,
     "task": false
    }
   },
   "source": [
    "---\n",
    "---\n",
    "# Part 2: Semantic-based Matching (85 points) <a class=\"anchor\" id=\"part2\"></a>\n",
    "\n",
    "[Back to top](#top)\n",
    "\n",
    "We will now experiment with methods that go beyond lexical methods like TF-IDF, which operate at the word level and are high dimensional and sparse, and look at methods which constructs low dimensional dense representations of queries and documents. \n",
    "\n",
    "Since these low-dimensional methods have a higher time complexity, they are typically used in conjunction with methods like BM-25. That is, instead of searching through potentially million documents to find matches using low dimensional vectors, a list of K documents are retrieved using BM25, and then **re-ranked** using the other method. This is the method that is going to be applied in the following exercises. \n",
    "\n",
    "LSI/LDA takes documents that are similar on a semantic level - for instance, if they are describing the same topic - and projects them into nearby vectors, despite having low lexical overlap.\n",
    "\n",
    "In this assignment, you will use `gensim` to create LSI/LDA models and use them in re-ranking. \n",
    "\n",
    "**Note**: The following exercises only uses `doc_repr_2` and `config_2`\n",
    "\n",
    "Table of contents:\n",
    "- [Section 6: LSI](#lsi) (15 points)\n",
    "- [Section 7: LDA](#lda) (10 points)\n",
    "- [Section 8: Word2Vec/Doc2Vec](#2vec) (20 points)\n",
    "- [Section 8: Re-ranking](#reranking) (10 points)\n",
    "- [Section 9: Re-ranking Evaluation](#reranking_eval) (30 points)"
   ]
  },
  {
   "cell_type": "markdown",
   "metadata": {
    "deletable": false,
    "editable": false,
    "id": "-hdtSyZZ4IWp",
    "nbgrader": {
     "cell_type": "markdown",
     "checksum": "f7c7b2cab82f576ed0acf836ca57171c",
     "grade": false,
     "grade_id": "cell-6b2c81e7a8abd180",
     "locked": true,
     "schema_version": 3,
     "solution": false,
     "task": false
    }
   },
   "source": [
    "---\n",
    "## Section 6: Latent Semantic Indexing (LSI) (15 points) <a class=\"anchor\" id=\"lsi\"></a>\n",
    "\n",
    "[Back to Part 2](#part2)\n",
    "\n",
    "LSI is one of the methods to embed the queries and documents into vectors. It is based on a method similar to Principal Component Analysis (PCA) for obtaining a dense concept matrix out of the sparse term-document matrix.\n",
    "\n",
    "See [wikipedia](https://en.wikipedia.org/wiki/Latent_semantic_analysis), particularly [#Mathematics_of_LSI](https://en.wikipedia.org/wiki/Latent_semantic_analysis#Mathematics_of_LSI)."
   ]
  },
  {
   "cell_type": "code",
   "execution_count": 71,
   "metadata": {
    "ExecuteTime": {
     "end_time": "2021-02-11T13:00:11.614734Z",
     "start_time": "2021-02-11T13:00:11.529742Z"
    },
    "deletable": false,
    "editable": false,
    "id": "Qlqfq_y34IWq",
    "nbgrader": {
     "cell_type": "code",
     "checksum": "c17ee75319cb517e2bf48ec3d9efc329",
     "grade": false,
     "grade_id": "cell-59913daee47f680d",
     "locked": true,
     "schema_version": 3,
     "solution": false,
     "task": false
    }
   },
   "outputs": [],
   "source": [
    "from gensim.corpora import Dictionary\n",
    "from gensim.models import LdaModel, LsiModel, Word2Vec\n",
    "from gensim.models.doc2vec import Doc2Vec, TaggedDocument\n",
    "from gensim import downloader as g_downloader\n",
    "# gensim uses logging, so set it up \n",
    "import logging\n",
    "logging.basicConfig(format='%(asctime)s : %(levelname)s : %(message)s', level=logging.INFO)"
   ]
  },
  {
   "cell_type": "markdown",
   "metadata": {
    "deletable": false,
    "editable": false,
    "id": "KqeQEm1Q4IWq",
    "nbgrader": {
     "cell_type": "markdown",
     "checksum": "5fce140c546759b54a9fc060901ae77c",
     "grade": false,
     "grade_id": "cell-3644faff4976598a",
     "locked": true,
     "schema_version": 3,
     "solution": false,
     "task": false
    }
   },
   "source": [
    "---\n",
    "### Section 6.1: Cosine Similarity (5 points)<a class=\"anchor\" id=\"cosing_sim\"></a>\n",
    "Before we begin, let us first define our method of similarity for the LSI model, the cosine similarity:\n",
    "\n",
    "$$\\text{similarity} = \\cos(\\theta) = {\\mathbf{A} \\cdot \\mathbf{B} \\over \\|\\mathbf{A}\\| \\|\\mathbf{B}\\|} = \\frac{ \\sum\\limits_{i=1}^{n}{A_i  B_i} }{ \\sqrt{\\sum\\limits_{i=1}^{n}{A_i^2}}  \\sqrt{\\sum\\limits_{i=1}^{n}{B_i^2}} }$$\n",
    "\n",
    "Since we are using gensim, the types of vectors returned by their classes are of the form defined below (they are not just simple vectors):"
   ]
  },
  {
   "cell_type": "code",
   "execution_count": 72,
   "metadata": {
    "ExecuteTime": {
     "end_time": "2021-02-11T13:00:12.769969Z",
     "start_time": "2021-02-11T13:00:12.762986Z"
    },
    "deletable": false,
    "editable": false,
    "id": "GGCJRThj4IWq",
    "nbgrader": {
     "cell_type": "code",
     "checksum": "4e340e1a1d546f430c018fd0760e707a",
     "grade": false,
     "grade_id": "cell-3995a50f951314d5",
     "locked": true,
     "schema_version": 3,
     "solution": false,
     "task": false
    }
   },
   "outputs": [],
   "source": [
    "# 1, 2, 3 are either latent dimensions (LSI), or topics (LDA)\n",
    "# The second value in each tuple is a number (LSI) or a probability (LDA)  \n",
    "example_vec_1 = [(1, 0.2), (2, 0.3), (3, 0.4)]\n",
    "example_vec_2 = [(1, 0.2), (2, 0.7), (3, 0.4)]"
   ]
  },
  {
   "cell_type": "markdown",
   "metadata": {
    "deletable": false,
    "editable": false,
    "id": "yrXWRnVx4IWq",
    "nbgrader": {
     "cell_type": "markdown",
     "checksum": "20832fd4f579f49ae204b0efee02edd1",
     "grade": false,
     "grade_id": "cell-5e54d581858dc8f7",
     "locked": true,
     "schema_version": 3,
     "solution": false,
     "task": false
    }
   },
   "source": [
    "---\n",
    "**Implementation (2+3 points):**\n",
    "Now, implement the `dot product` operation on these types of vectors and using this operator, implement the `cosine similarity` (don't forget: two functions to implement!):"
   ]
  },
  {
   "cell_type": "code",
   "execution_count": 73,
   "metadata": {
    "ExecuteTime": {
     "end_time": "2021-02-11T13:00:14.330366Z",
     "start_time": "2021-02-11T13:00:14.321387Z"
    },
    "deletable": false,
    "id": "OLHTT0Pb4IWq",
    "nbgrader": {
     "cell_type": "code",
     "checksum": "06a712ee75fc213a21c5f0067fd8fe28",
     "grade": false,
     "grade_id": "cell-0e8189f5f93de33f",
     "locked": false,
     "schema_version": 3,
     "solution": true,
     "task": false
    }
   },
   "outputs": [
    {
     "name": "stdout",
     "output_type": "stream",
     "text": [
      "0.9165587597202866\n"
     ]
    }
   ],
   "source": [
    "# TODO: Implement this! (2 points)\n",
    "def dot(vec_1,vec_2): \n",
    "    \"\"\"\n",
    "        vec_1 and vec_2 are of the form: [(int, float), (int, float), ...]\n",
    "        Return the dot product of two such vectors, computed only on the floats\n",
    "        You can assume that the lengths of the vectors are the same, and the dimensions are aligned \n",
    "            i.e you won't get: vec_1 = [(1, 0.2)] ; vec_2 = [(2, 0.3)] \n",
    "                                (dimensions are unaligned and lengths are different)\n",
    "    \"\"\"\n",
    "    # YOUR CODE HERE\n",
    "    dot_product = 0\n",
    "    for i in range(len(vec_1)):\n",
    "        dot_product +=  vec_1[i][1] * vec_2[i][1]\n",
    "    \n",
    "    return dot_product\n",
    "\n",
    "# TODO: Implement this! (3 points)\n",
    "def cosine_sim(vec_1, vec_2):\n",
    "    # YOUR CODE HERE\n",
    "    similarity = 0\n",
    "    res_a = 0\n",
    "    res_b = 0\n",
    "    for i in range(len(vec_1)):\n",
    "        res_a += vec_1[i][1] ** 2\n",
    "        res_b += vec_2[i][1] ** 2\n",
    "    numerator = dot(vec_1,vec_2)\n",
    "    denomerator = math.sqrt(res_a)*math.sqrt(res_b)\n",
    "    similarity = numerator/denomerator\n",
    "    \n",
    "    return similarity\n",
    "\n",
    "    \n",
    "print(cosine_sim(example_vec_1,example_vec_2))"
   ]
  },
  {
   "cell_type": "code",
   "execution_count": 74,
   "metadata": {
    "ExecuteTime": {
     "end_time": "2021-02-11T13:00:15.556930Z",
     "start_time": "2021-02-11T13:00:15.549973Z"
    },
    "deletable": false,
    "editable": false,
    "id": "opNcoM_E4IWq",
    "nbgrader": {
     "cell_type": "code",
     "checksum": "d22a4a7325ba7815a808390388f534a1",
     "grade": true,
     "grade_id": "cell-b25d04ed6b79fd35",
     "locked": true,
     "points": 2,
     "schema_version": 3,
     "solution": false,
     "task": false
    }
   },
   "outputs": [
    {
     "name": "stdout",
     "output_type": "stream",
     "text": [
      "vectors: ([(1, 0.2), (2, 0.3), (3, 0.4)], [(1, 0.2), (2, 0.7), (3, 0.4)])\n",
      "dot product = 0.41000000000000003\n",
      "cosine similarity = 0.9165587597202866\n"
     ]
    }
   ],
   "source": [
    "##### Function check\n",
    "print(f'vectors: {(example_vec_1,example_vec_2)}')\n",
    "print(f'dot product = {dot(example_vec_1,example_vec_2)}')\n",
    "print(f'cosine similarity = {cosine_sim(example_vec_1,example_vec_2)}')\n",
    "##### "
   ]
  },
  {
   "cell_type": "code",
   "execution_count": 75,
   "metadata": {
    "ExecuteTime": {
     "end_time": "2021-02-11T13:00:16.411883Z",
     "start_time": "2021-02-11T13:00:16.408892Z"
    },
    "deletable": false,
    "editable": false,
    "id": "fqGAn-Qy4IWr",
    "nbgrader": {
     "cell_type": "code",
     "checksum": "0744131724ce76b1b3f163b4bae5f700",
     "grade": true,
     "grade_id": "cell-ae3c4466866ace77",
     "locked": true,
     "points": 3,
     "schema_version": 3,
     "solution": false,
     "task": false
    }
   },
   "outputs": [],
   "source": [
    "#### Please do not change this. This cell is used for grading."
   ]
  },
  {
   "cell_type": "markdown",
   "metadata": {
    "deletable": false,
    "editable": false,
    "id": "-EkJ-o9j4IWr",
    "nbgrader": {
     "cell_type": "markdown",
     "checksum": "9b123f599f9ea372d14676e23f1c6a52",
     "grade": false,
     "grade_id": "cell-4b2534067c44fcdf",
     "locked": true,
     "schema_version": 3,
     "solution": false,
     "task": false
    }
   },
   "source": [
    "---\n",
    "### Section 6.2: LSI Retrieval (10 points)<a class=\"anchor\" id=\"lsi_retrieval\"></a>\n",
    "LSI retrieval is simply ranking the documents based on their cosine similarity to the query vector.\n",
    "First, let's write a parent class for vector-based retrieval models:"
   ]
  },
  {
   "cell_type": "code",
   "execution_count": 76,
   "metadata": {
    "ExecuteTime": {
     "end_time": "2021-02-11T13:00:18.479797Z",
     "start_time": "2021-02-11T13:00:18.468824Z"
    },
    "deletable": false,
    "editable": false,
    "id": "vui4hfKK4IWr",
    "nbgrader": {
     "cell_type": "code",
     "checksum": "ecc111d58182570e2252b8ef5d6b02af",
     "grade": false,
     "grade_id": "cell-937936cea18711ee",
     "locked": true,
     "schema_version": 3,
     "solution": false,
     "task": false
    }
   },
   "outputs": [],
   "source": [
    "class VectorSpaceRetrievalModel:\n",
    "    \"\"\"\n",
    "        Parent class for Dense Vector Retrieval models\n",
    "    \"\"\"\n",
    "    def __init__(self, doc_repr):\n",
    "        \"\"\"\n",
    "            document_collection: \n",
    "                [\n",
    "                    (doc_id_1, [token 1, token 2, ...]), \n",
    "                    (doc_id_2, [token 1, token 2, ....]) \n",
    "                    ...\n",
    "                ]\n",
    "\n",
    "        \"\"\"\n",
    "        self.doc_repr = doc_repr\n",
    "        self.documents = [_[1] for _ in self.doc_repr]\n",
    "        \n",
    "        # construct a dictionary\n",
    "        self.dictionary = Dictionary(self.documents)\n",
    "        # Filter out words that occur less than 20 documents, or more than 50% of the documents.\n",
    "        self.dictionary.filter_extremes(no_below=10)\n",
    "        self.corpus = [self.dictionary.doc2bow(doc) for doc in self.documents]\n",
    "    \n",
    "        # Make a index to word dictionary.\n",
    "        temp = self.dictionary[0]  # This is only to \"load\" the dictionary.\n",
    "        self.id2word = self.dictionary.id2token\n",
    "        \n",
    "        # this is set by the train_model function\n",
    "        self.model = None\n",
    "        \n",
    "        \n",
    "    def vectorize_documents(self):\n",
    "        \"\"\"\n",
    "            Returns a doc_id -> vector dictionary\n",
    "        \"\"\"\n",
    "        vectors = {}\n",
    "        for (doc_id, _), cc in zip(self.doc_repr, self.corpus):\n",
    "            vectors[doc_id] = self.model[cc]\n",
    "        return vectors\n",
    "\n",
    "    def vectorize_query(self, query):\n",
    "        # Note the use of config_2 here!\n",
    "        query = process_text(query, **config_2)\n",
    "        query_vector = self.dictionary.doc2bow(query)\n",
    "        return self.model[query_vector]\n",
    "    \n",
    "    def train_model(self):\n",
    "        \"\"\"\n",
    "            Trains a model and sets the 'self.model' variable. \n",
    "            Make sure to use the variables created in the __init__ method.\n",
    "            e.g the variables which may be useful: {corpus, dictionary, id2word}\n",
    "        \"\"\"\n",
    "        raise NotImplementedError()"
   ]
  },
  {
   "cell_type": "markdown",
   "metadata": {
    "deletable": false,
    "editable": false,
    "id": "7hVlHxL34IWr",
    "nbgrader": {
     "cell_type": "markdown",
     "checksum": "ff161eefd9b81b768cd6361bc1a502b0",
     "grade": false,
     "grade_id": "cell-704a18c2f80cd60c",
     "locked": true,
     "schema_version": 3,
     "solution": false,
     "task": false
    }
   },
   "source": [
    "---\n",
    "**Implementation (5 points):**\n",
    "Implement the `train_model` method in the following class (note that this is only one line of code in `gensim`!). Ensure that the parameters defined in the `__init__` method are not changed, and are *used in the `train_method` function*. Normally, the hyperaparameter space will be searched using grid search / other methods - in this assignment we have provided the hyperparameters for you.\n",
    "\n",
    "The last two lines of code train an LSI model on the list of documents which have been stemmed, lower-cased and have stopwords removed. "
   ]
  },
  {
   "cell_type": "code",
   "execution_count": 77,
   "metadata": {
    "ExecuteTime": {
     "end_time": "2021-02-11T13:00:20.008083Z",
     "start_time": "2021-02-11T13:00:20.002118Z"
    },
    "deletable": false,
    "id": "stvTMFN44IWr",
    "nbgrader": {
     "cell_type": "code",
     "checksum": "0e90eedc27c248bc1ae050518a46a46c",
     "grade": false,
     "grade_id": "cell-307682c9089f15d6",
     "locked": false,
     "schema_version": 3,
     "solution": true,
     "task": false
    }
   },
   "outputs": [],
   "source": [
    "# TODO: Implement this! (5 points)\n",
    "class LsiRetrievalModel(VectorSpaceRetrievalModel):\n",
    "    def __init__(self, doc_repr):\n",
    "        super().__init__(doc_repr)\n",
    "        \n",
    "        self.num_topics = 100\n",
    "        self.chunksize = 2000\n",
    "    \n",
    "    def train_model(self):\n",
    "        # YOUR CODE HERE\n",
    "        self.model = LsiModel(self.corpus, id2word = self.id2word, num_topics = self.num_topics, chunksize = self.chunksize)"
   ]
  },
  {
   "cell_type": "code",
   "execution_count": 78,
   "metadata": {
    "ExecuteTime": {
     "end_time": "2021-02-11T13:00:32.550175Z",
     "start_time": "2021-02-11T13:00:31.997652Z"
    },
    "deletable": false,
    "editable": false,
    "id": "_khGWJSi4IWr",
    "nbgrader": {
     "cell_type": "code",
     "checksum": "00399cfe13d60cb4beed1271e36004b0",
     "grade": true,
     "grade_id": "cell-5ce512650c1b2dfb",
     "locked": true,
     "points": 0,
     "schema_version": 3,
     "solution": false,
     "task": false
    }
   },
   "outputs": [
    {
     "name": "stderr",
     "output_type": "stream",
     "text": [
      "2021-02-11 23:10:30,512 : INFO : adding document #0 to Dictionary(0 unique tokens: [])\n",
      "2021-02-11 23:10:30,694 : INFO : built Dictionary(6207 unique tokens: ['-', 'algebra', 'intern', 'languag', 'preliminari']...) from 3204 documents (total 196863 corpus positions)\n",
      "2021-02-11 23:10:30,701 : INFO : discarding 4798 tokens: [('of', 2061), ('repeat', 8), ('glossari', 7), ('inspect', 8), ('the', 1794), ('uncol', 2), ('a', 1808), ('rung', 9), ('secant', 2), ('.', 1605)]...\n",
      "2021-02-11 23:10:30,702 : INFO : keeping 1409 tokens which were in no less than 10 and no more than 1602 (=50.0%) documents\n",
      "2021-02-11 23:10:30,706 : INFO : resulting dictionary: Dictionary(1409 unique tokens: ['-', 'algebra', 'intern', 'languag', 'preliminari']...)\n",
      "2021-02-11 23:10:30,810 : INFO : using serial LSI version on this node\n",
      "2021-02-11 23:10:30,811 : INFO : updating model with new documents\n",
      "2021-02-11 23:10:30,812 : INFO : preparing a new chunk of documents\n",
      "2021-02-11 23:10:30,830 : INFO : using 100 extra samples and 2 power iterations\n",
      "2021-02-11 23:10:30,831 : INFO : 1st phase: constructing (1409, 200) action matrix\n",
      "2021-02-11 23:10:30,851 : INFO : orthonormalizing (1409, 200) action matrix\n",
      "2021-02-11 23:10:30,913 : INFO : 2nd phase: running dense svd on (200, 2000) matrix\n",
      "2021-02-11 23:10:30,945 : INFO : computing the final decomposition\n",
      "2021-02-11 23:10:30,946 : INFO : keeping 100 factors (discarding 11.395% of energy spectrum)\n",
      "2021-02-11 23:10:30,950 : INFO : processed documents up to #2000\n",
      "2021-02-11 23:10:30,952 : INFO : topic #0(226.248): -0.469*\",\" + -0.358*\"and\" + -0.302*\"to\" + -0.287*\"is\" + -0.272*\"in\" + -0.231*\"for\" + -0.218*\"-\" + -0.158*\"are\" + -0.139*\"system\" + -0.137*\"program\"\n",
      "2021-02-11 23:10:30,953 : INFO : topic #1(63.173): -0.434*\"(\" + 0.349*\",\" + 0.306*\"and\" + -0.305*\")\" + -0.298*\"algorithm\" + -0.288*\"is\" + 0.268*\"system\" + -0.167*\"to\" + -0.142*\"method\" + -0.092*\"it\"\n",
      "2021-02-11 23:10:30,954 : INFO : topic #2(62.666): 0.557*\",\" + 0.393*\"(\" + -0.311*\"to\" + 0.282*\")\" + -0.248*\"is\" + 0.228*\"-\" + -0.216*\"in\" + 0.161*\"algorithm\" + -0.138*\"comput\" + -0.113*\"be\"\n",
      "2021-02-11 23:10:30,956 : INFO : topic #3(58.622): -0.759*\"-\" + 0.439*\",\" + -0.226*\"system\" + 0.218*\"is\" + -0.157*\"and\" + -0.097*\"for\" + 0.076*\"it\" + -0.075*\"time\" + -0.065*\"program\" + 0.062*\"that\"\n",
      "2021-02-11 23:10:30,957 : INFO : topic #4(52.368): 0.492*\"and\" + -0.409*\"-\" + 0.281*\"(\" + -0.260*\",\" + -0.253*\"to\" + 0.239*\"are\" + 0.217*\")\" + 0.213*\"algorithm\" + -0.183*\"is\" + 0.170*\"for\"\n",
      "2021-02-11 23:10:30,958 : INFO : preparing a new chunk of documents\n",
      "2021-02-11 23:10:30,980 : INFO : using 100 extra samples and 2 power iterations\n",
      "2021-02-11 23:10:30,981 : INFO : 1st phase: constructing (1409, 200) action matrix\n",
      "2021-02-11 23:10:31,005 : INFO : orthonormalizing (1409, 200) action matrix\n",
      "2021-02-11 23:10:31,078 : INFO : 2nd phase: running dense svd on (200, 1204) matrix\n",
      "2021-02-11 23:10:31,103 : INFO : computing the final decomposition\n",
      "2021-02-11 23:10:31,104 : INFO : keeping 100 factors (discarding 11.407% of energy spectrum)\n",
      "2021-02-11 23:10:31,108 : INFO : merging projections: (1409, 100) + (1409, 100)\n",
      "2021-02-11 23:10:31,123 : INFO : keeping 100 factors (discarding 6.289% of energy spectrum)\n",
      "2021-02-11 23:10:31,128 : INFO : processed documents up to #3204\n",
      "2021-02-11 23:10:31,130 : INFO : topic #0(340.065): 0.471*\",\" + 0.367*\"and\" + 0.309*\"to\" + 0.296*\"is\" + 0.270*\"in\" + 0.224*\"for\" + 0.212*\"-\" + 0.156*\"are\" + 0.129*\"system\" + 0.126*\"program\"\n",
      "2021-02-11 23:10:31,131 : INFO : topic #1(95.008): -0.646*\",\" + 0.354*\"is\" + -0.247*\"and\" + 0.244*\"to\" + 0.232*\"algorithm\" + 0.162*\"(\" + -0.153*\"system\" + 0.142*\"-\" + 0.142*\"method\" + 0.137*\"in\"\n",
      "2021-02-11 23:10:31,132 : INFO : topic #2(89.655): 0.436*\"(\" + 0.366*\",\" + 0.363*\"-\" + 0.315*\")\" + 0.265*\"algorithm\" + -0.229*\"to\" + -0.224*\"program\" + -0.207*\"system\" + -0.198*\"and\" + -0.160*\"in\"\n",
      "2021-02-11 23:10:31,133 : INFO : topic #3(83.161): 0.790*\"-\" + -0.297*\",\" + 0.257*\"system\" + -0.249*\"is\" + 0.182*\"and\" + -0.109*\"(\" + -0.089*\"to\" + -0.087*\"algorithm\" + -0.077*\")\" + 0.070*\"time\"\n",
      "2021-02-11 23:10:31,134 : INFO : topic #4(77.282): -0.420*\"and\" + -0.386*\"(\" + 0.312*\"is\" + -0.294*\")\" + 0.291*\",\" + 0.289*\"-\" + -0.256*\"for\" + -0.211*\"program\" + 0.202*\"to\" + -0.183*\"algorithm\"\n"
     ]
    },
    {
     "data": {
      "text/plain": [
       "[(0, 0.010001951905843683),\n",
       " (1, -0.01743070008964168),\n",
       " (2, -0.006936519835122482),\n",
       " (3, -0.0019588334470490754),\n",
       " (4, -0.006717346673037906),\n",
       " (5, 0.0015044175609751648),\n",
       " (6, 0.0052293013213869),\n",
       " (7, -0.027812807426198842),\n",
       " (8, -0.00711510896280851),\n",
       " (9, -0.012012056817344135),\n",
       " (10, 0.018592652495362974),\n",
       " (11, 0.014731808256283934),\n",
       " (12, 0.04168735250528205),\n",
       " (13, -0.005865223882839724),\n",
       " (14, 5.207395703532569e-07),\n",
       " (15, 0.0013643666925077479),\n",
       " (16, 0.014359879579883128),\n",
       " (17, -0.0008450559617857508),\n",
       " (18, 0.015894148559968492),\n",
       " (19, -0.017311502839143355),\n",
       " (20, 0.02021464695477674),\n",
       " (21, -0.00879652815691131),\n",
       " (22, 0.00779531783071241),\n",
       " (23, 0.018803284096213922),\n",
       " (24, -0.040222723221654696),\n",
       " (25, -0.0373704060015873),\n",
       " (26, -0.005518512532197287),\n",
       " (27, 0.015759608149702686),\n",
       " (28, 0.01006152911154674),\n",
       " (29, -0.01593634459235362),\n",
       " (30, -0.0016060054792224807),\n",
       " (31, -0.0017215300585473915),\n",
       " (32, -0.009062255391342193),\n",
       " (33, -0.011436884269578697),\n",
       " (34, 0.007922919756518758),\n",
       " (35, -0.009280636685783973),\n",
       " (36, -0.010024088327024035),\n",
       " (37, 0.0238847568311535),\n",
       " (38, 0.010762993777913905),\n",
       " (39, 0.018190777420702707),\n",
       " (40, 0.02297723563112031),\n",
       " (41, -0.03279565428279167),\n",
       " (42, -0.0010303323425983977),\n",
       " (43, -0.024472773911358114),\n",
       " (44, 0.048776965708568466),\n",
       " (45, 0.018949870337576516),\n",
       " (46, -0.03294222181165351),\n",
       " (47, 0.028987301973718446),\n",
       " (48, -0.005990762370357868),\n",
       " (49, -0.023741916855749577),\n",
       " (50, 0.08959590491807748),\n",
       " (51, -0.0097476093083814),\n",
       " (52, 0.03508912046882477),\n",
       " (53, -0.05674693796434377),\n",
       " (54, -0.006523512941835941),\n",
       " (55, -0.00687540689951456),\n",
       " (56, 0.04111320743659811),\n",
       " (57, 0.012011447284067243),\n",
       " (58, 0.021506666855875885),\n",
       " (59, -0.020382181778525528),\n",
       " (60, -0.06054838217687203),\n",
       " (61, -0.028948361507146428),\n",
       " (62, -0.027817626190188332),\n",
       " (63, 0.03290960692243547),\n",
       " (64, 0.035600043716207806),\n",
       " (65, 0.023366177453917475),\n",
       " (66, -0.008245914363375302),\n",
       " (67, -0.002365534289951938),\n",
       " (68, -0.025404570136587),\n",
       " (69, 0.02824945571137423),\n",
       " (70, -0.01023866094255031),\n",
       " (71, 0.01020430435443644),\n",
       " (72, 0.011853565041757939),\n",
       " (73, 0.05695109300026113),\n",
       " (74, -0.016840622245754163),\n",
       " (75, 0.003122755330173692),\n",
       " (76, -0.018659402153353308),\n",
       " (77, 0.015372990136714138),\n",
       " (78, -0.00373440576486001),\n",
       " (79, 0.032760339390810606),\n",
       " (80, -0.02426621588096172),\n",
       " (81, 0.009581995085128981),\n",
       " (82, -0.03661453424527019),\n",
       " (83, 0.04744678892692903),\n",
       " (84, 0.007239687866348599),\n",
       " (85, -0.03924377138214869),\n",
       " (86, -0.033285891590991254),\n",
       " (87, 0.06088825621273625),\n",
       " (88, -0.0005215808827000318),\n",
       " (89, -0.04118587951553623),\n",
       " (90, 0.07962102479885659),\n",
       " (91, -0.020425372882415457),\n",
       " (92, 0.021842015008117305),\n",
       " (93, -0.023319329872534454),\n",
       " (94, -0.035627442765872416),\n",
       " (95, -0.013999049349484025),\n",
       " (96, -0.025232070085387654),\n",
       " (97, -0.007517291997453181),\n",
       " (98, -0.021330721354250362),\n",
       " (99, -0.002168749499592551)]"
      ]
     },
     "execution_count": 78,
     "metadata": {},
     "output_type": "execute_result"
    }
   ],
   "source": [
    "##### Function check\n",
    "lsi = LsiRetrievalModel(doc_repr_2)\n",
    "lsi.train_model()\n",
    "\n",
    "# you can now get an LSI vector for a given query in the following way:\n",
    "lsi.vectorize_query(\"report\")\n",
    "##### "
   ]
  },
  {
   "cell_type": "markdown",
   "metadata": {
    "deletable": false,
    "editable": false,
    "id": "NGA8x3e54IWs",
    "nbgrader": {
     "cell_type": "markdown",
     "checksum": "7116bb9f576c5bb04934e1d59c51d729",
     "grade": false,
     "grade_id": "cell-4c5eeb557b4fca2f",
     "locked": true,
     "points": 5,
     "schema_version": 3,
     "solution": false,
     "task": true
    }
   },
   "source": [
    "\\#### Please do not change this. This cell is used for grading."
   ]
  },
  {
   "cell_type": "markdown",
   "metadata": {
    "deletable": false,
    "editable": false,
    "id": "XC11dqNi4IWs",
    "nbgrader": {
     "cell_type": "markdown",
     "checksum": "1068a108600b8c1539117d543e720354",
     "grade": false,
     "grade_id": "cell-c4e50296cd17a555",
     "locked": true,
     "schema_version": 3,
     "solution": false,
     "task": false
    }
   },
   "source": [
    "---\n",
    "Next, implement a basic ranking class for vector space retrieval (used for all semantic methods): "
   ]
  },
  {
   "cell_type": "code",
   "execution_count": 79,
   "metadata": {
    "ExecuteTime": {
     "end_time": "2021-02-11T13:00:34.798375Z",
     "start_time": "2021-02-11T13:00:34.789406Z"
    },
    "deletable": false,
    "id": "7-cQ_F004IWs",
    "nbgrader": {
     "cell_type": "code",
     "checksum": "1a8389d2f0635c3405e2b0b27ed9f327",
     "grade": false,
     "grade_id": "cell-250515d288e80cdc",
     "locked": false,
     "schema_version": 3,
     "solution": true,
     "task": false
    }
   },
   "outputs": [],
   "source": [
    "# TODO: Implement this! (5 points)\n",
    "class DenseRetrievalRanker:\n",
    "    def __init__(self, vsrm, similarity_fn):\n",
    "        \"\"\"\n",
    "            vsrm: instance of `VectorSpaceRetrievalModel`\n",
    "            similarity_fn: function instance that takes in two vectors \n",
    "                            and returns a similarity score e.g cosine_sim defined earlier\n",
    "        \"\"\"\n",
    "        self.vsrm = vsrm \n",
    "        self.vectorized_documents = self.vsrm.vectorize_documents()\n",
    "        self.similarity_fn = similarity_fn\n",
    "    \n",
    "    def _compute_sim(self, query_vector):\n",
    "        \"\"\"\n",
    "            Compute the similarity of `query_vector` to documents in \n",
    "            `self.vectorized_documents` using `self.similarity_fn`\n",
    "            Returns a list of (doc_id, score) tuples\n",
    "        \"\"\"\n",
    "        # YOUR CODE HERE\n",
    "        result_list = []\n",
    "        self.query_vector = query_vector\n",
    "        for key, doc in self.vectorized_documents.items():\n",
    "            if len(doc) != 0:\n",
    "                score = self.similarity_fn(doc,self.query_vector)\n",
    "                result_list.append((key,score))               \n",
    "        return result_list\n",
    "    \n",
    "    def search(self, query):\n",
    "        scores = self._compute_sim(self.vsrm.vectorize_query(query))\n",
    "        scores.sort(key=lambda _:-_[1])\n",
    "        return scores "
   ]
  },
  {
   "cell_type": "code",
   "execution_count": 80,
   "metadata": {
    "ExecuteTime": {
     "end_time": "2021-02-11T13:00:36.998126Z",
     "start_time": "2021-02-11T13:00:36.250228Z"
    },
    "deletable": false,
    "editable": false,
    "id": "84ShnBqC4IWs",
    "nbgrader": {
     "cell_type": "code",
     "checksum": "f237dd1ef6c1783c06797f4b514421f5",
     "grade": true,
     "grade_id": "cell-b73068b3e77a8e31",
     "locked": true,
     "points": 0,
     "schema_version": 3,
     "solution": false,
     "task": false
    }
   },
   "outputs": [
    {
     "data": {
      "text/plain": [
       "[('2531', 0.45691872631681724),\n",
       " ('947', 0.4507541057014776),\n",
       " ('53', 0.446893914034332),\n",
       " ('722', 0.43911689560224165),\n",
       " ('3160', 0.4368591993242723)]"
      ]
     },
     "execution_count": 80,
     "metadata": {},
     "output_type": "execute_result"
    }
   ],
   "source": [
    "##### Function check\n",
    "drm_lsi = DenseRetrievalRanker(lsi, cosine_sim)\n",
    "drm_lsi.search(\"report\")[:5]\n",
    "##### "
   ]
  },
  {
   "cell_type": "markdown",
   "metadata": {
    "deletable": false,
    "editable": false,
    "id": "J7KStoCJ4IWs",
    "nbgrader": {
     "cell_type": "markdown",
     "checksum": "5b3f19fdcaa585d263706d5a26038799",
     "grade": false,
     "grade_id": "cell-034c755a6502b868",
     "locked": true,
     "points": 5,
     "schema_version": 3,
     "solution": false,
     "task": true
    }
   },
   "source": [
    "\\#### Please do not change this. This cell is used for grading."
   ]
  },
  {
   "cell_type": "markdown",
   "metadata": {
    "deletable": false,
    "editable": false,
    "id": "151cPjf34IWs",
    "nbgrader": {
     "cell_type": "markdown",
     "checksum": "dcafef6e037033c46304b914f7c78bdf",
     "grade": false,
     "grade_id": "cell-d1df23f497d5ed6b",
     "locked": true,
     "schema_version": 3,
     "solution": false,
     "task": false
    }
   },
   "source": [
    "---\n",
    "Now, you can test your LSI model in the following cell: try finding queries which are lexically different to documents, but semantically similar - does LSI work well for these queries?!"
   ]
  },
  {
   "cell_type": "code",
   "execution_count": 82,
   "metadata": {
    "ExecuteTime": {
     "end_time": "2021-02-11T13:00:45.290917Z",
     "start_time": "2021-02-11T13:00:45.270008Z"
    },
    "deletable": false,
    "editable": false,
    "id": "_YwVurAt4IWs",
    "nbgrader": {
     "cell_type": "code",
     "checksum": "11734bc7674377b340ad51297a8e8bb5",
     "grade": false,
     "grade_id": "cell-efd1d08dfc04ec3e",
     "locked": true,
     "schema_version": 3,
     "solution": false,
     "task": false
    }
   },
   "outputs": [
    {
     "data": {
      "application/vnd.jupyter.widget-view+json": {
       "model_id": "4d0e2fbf0f6e484f93033ade795e0225",
       "version_major": 2,
       "version_minor": 0
      },
      "text/plain": [
       "Text(value='', description='Search Bar')"
      ]
     },
     "metadata": {},
     "output_type": "display_data"
    }
   ],
   "source": [
    "# test your LSI model\n",
    "search_fn = drm_lsi.search\n",
    "\n",
    "text = widgets.Text(description=\"Search Bar\", width=200)\n",
    "display(text)\n",
    "\n",
    "def make_results_2(query, search_fn):\n",
    "    results = []\n",
    "    for doc_id, score in search_fn(query):\n",
    "        highlight = highlight_text(docs_by_id[doc_id], query)\n",
    "        if len(highlight.strip()) == 0:\n",
    "            highlight = docs_by_id[doc_id]\n",
    "        results.append(ResultRow(doc_id, highlight, score))\n",
    "    return results\n",
    "\n",
    "def handle_submit_2(sender):\n",
    "    print(f\"Searching for: '{sender.value}' (SEARCH FN: {search_fn})\")\n",
    "    \n",
    "    results = make_results_2(sender.value, search_fn)\n",
    "    \n",
    "    # display only the top 5\n",
    "    results = results[:5]\n",
    "    \n",
    "    body = \"\"\n",
    "    for idx, r in enumerate(results):\n",
    "        body += f\"<li>Document #{r.doc_id}({r.score}): {r.snippet}</li>\"\n",
    "    display(HTML(f\"<ul>{body}</ul>\"))\n",
    "    \n",
    "\n",
    "text.on_submit(handle_submit_2)"
   ]
  },
  {
   "cell_type": "markdown",
   "metadata": {
    "deletable": false,
    "editable": false,
    "id": "0PGe6mPD4IWt",
    "nbgrader": {
     "cell_type": "markdown",
     "checksum": "d074ce1ca48384cdda78742741c938be",
     "grade": false,
     "grade_id": "cell-3a86cef264d8f6cf",
     "locked": true,
     "schema_version": 3,
     "solution": false,
     "task": false
    }
   },
   "source": [
    "---\n",
    "## Section 7: Latent Dirichlet Allocation (LDA) (10 points) <a class=\"anchor\" id=\"lda\"></a>\n",
    "\n",
    "[Back to Part 2](#part2)\n",
    "\n",
    "The specifics of LDA is out of the scope of this assignment, but we will use the `gensim` implementation to perform search using LDA over our small document collection. The key thing to remember is that LDA, unlike LSI, outputs a topic **distribution**, not a vector. With that in mind, let's first define a similarity measure.\n"
   ]
  },
  {
   "cell_type": "markdown",
   "metadata": {
    "deletable": false,
    "editable": false,
    "id": "xMbAwqEW4IWt",
    "nbgrader": {
     "cell_type": "markdown",
     "checksum": "db01092373b18f0c9dfed1bb17db4ad9",
     "grade": false,
     "grade_id": "cell-6b78ad22c2d60ba7",
     "locked": true,
     "schema_version": 3,
     "solution": false,
     "task": false
    }
   },
   "source": [
    "---\n",
    "### Section 7.1: Jenson-Shannon divergence (5 points) <a class=\"anchor\" id=\"js_sim\"></a>\n",
    "\n",
    "The Jenson-Shannon divergence is a symmetric and finite measure on two probability distributions (unlike the KL, which is neither). For identical distributions, the JSD is equal to 0, and since our code uses 0 as irrelevant and higher scores as relevant, we use `(1 - JSD)` as the score or 'similarity' in our setup\n",
    "\n",
    "**Note**: the JSD is bounded to \\[0,1\\] only if we use log base 2. So please ensure that you're using `np.log2` instead of `np.log`"
   ]
  },
  {
   "cell_type": "code",
   "execution_count": 83,
   "metadata": {
    "ExecuteTime": {
     "end_time": "2021-02-11T13:00:51.129979Z",
     "start_time": "2021-02-11T13:00:51.123998Z"
    },
    "deletable": false,
    "id": "OP-T-8i-4IWt",
    "nbgrader": {
     "cell_type": "code",
     "checksum": "a579e6cd7a24a3516bc9a84528b392d3",
     "grade": false,
     "grade_id": "cell-d2376a85a4841e98",
     "locked": false,
     "schema_version": 3,
     "solution": true,
     "task": false
    }
   },
   "outputs": [],
   "source": [
    "## TODO: Implement this! (5 points)\n",
    "def jenson_shannon_divergence(vec_1, vec_2, assert_prob=False):\n",
    "    \"\"\"\n",
    "        Computes the Jensen-Shannon divergence between two probability distributions. \n",
    "        NOTE: DO NOT RETURN 1 - JSD here, that is handled by the next function which is already implemented! \n",
    "        The inputs are *gensim* vectors - same as the vectors for the cosine_sim function\n",
    "        assert_prob is a flag that checks if the inputs are proper probability distributions \n",
    "            i.e they sum to 1 and are positive - use this to check your inputs if needed. \n",
    "                (This is optional to implement, but recommended - \n",
    "                you can the default to False to save a few ms off the runtime)\n",
    "    \"\"\"\n",
    "    # YOUR CODE HERE\n",
    "    if assert_prob:\n",
    "        sum_vec_1 = sum(value[1] for value in vec_1)\n",
    "        sum_vec_2 = sum(value[1] for value in vec_2)\n",
    "        if sum_vec_1 != 1:\n",
    "            print('Input vec_1 is not in the correct format!')\n",
    "            return\n",
    "        if sum_vec_2 != 1:\n",
    "            print('Input vec_2 is not in the correct format!')\n",
    "            return\n",
    "            \n",
    "    vec_1 = np.array(vec_1)\n",
    "    vec_2 = np.array(vec_2)\n",
    "    d1 = vec_1*np.log2(2*vec_1/(vec_1+vec_2))\n",
    "    d2 = vec_2*np.log2(2*vec_2/(vec_1+vec_2))\n",
    "    d1[np.isnan(d1)] = 0\n",
    "    d2[np.isnan(d2)] = 0\n",
    "    d = 0.5*np.sum(d1+d2)\n",
    "    \n",
    "    return d\n",
    "    \n",
    "\n",
    "def jenson_shannon_sim(vec_1, vec_2, assert_prob=False):\n",
    "    return 1 - jenson_shannon_divergence(vec_1, vec_2)"
   ]
  },
  {
   "cell_type": "code",
   "execution_count": 84,
   "metadata": {
    "ExecuteTime": {
     "end_time": "2021-02-11T13:00:53.379551Z",
     "start_time": "2021-02-11T13:00:53.371573Z"
    },
    "deletable": false,
    "editable": false,
    "id": "0Jx8X0vU4IWt",
    "nbgrader": {
     "cell_type": "code",
     "checksum": "ab340aa941c9fb5c89b3fd0a9139e246",
     "grade": true,
     "grade_id": "cell-487c6d2933f38053",
     "locked": true,
     "points": 5,
     "schema_version": 3,
     "solution": false,
     "task": false
    }
   },
   "outputs": [
    {
     "data": {
      "text/plain": [
       "0.9251064410358459"
      ]
     },
     "execution_count": 84,
     "metadata": {},
     "output_type": "execute_result"
    }
   ],
   "source": [
    "##### Function check\n",
    "vec_1 = [(1, 0.3), (2, 0.4), (3, 0.3)]\n",
    "vec_2 = [(1, 0.1), (2, 0.7), (3, 0.2)]\n",
    "jenson_shannon_sim(vec_1, vec_2, assert_prob=True)\n",
    "##### "
   ]
  },
  {
   "cell_type": "markdown",
   "metadata": {
    "deletable": false,
    "editable": false,
    "id": "1qyB_mcw4IWt",
    "nbgrader": {
     "cell_type": "markdown",
     "checksum": "0a1583a5f23e3390038331cce67f5d8e",
     "grade": false,
     "grade_id": "cell-4535cc67a50b80fa",
     "locked": true,
     "schema_version": 3,
     "solution": false,
     "task": false
    }
   },
   "source": [
    "---\n",
    "### Section 7.2: LDA retrieval (5 points) <a class=\"anchor\" id=\"lda_ret\"></a>\n",
    "\n",
    "Implement the `train_model` method in the following class (note that this is only one line of code in `gensim`!). Ensure that the parameters defined in the `__init__` method are not changed, and are *used in the `train_method` function*. You do not need to set this. Normally, the hyperaparameter space will be searched using grid search / other methods. Note that training the LDA model might take some time\n",
    "\n",
    "The last two lines of code train an LDA model on the list of documents which have been stemmed, lower-cased and have stopwords removed. "
   ]
  },
  {
   "cell_type": "code",
   "execution_count": 85,
   "metadata": {
    "ExecuteTime": {
     "end_time": "2021-02-11T13:00:56.021643Z",
     "start_time": "2021-02-11T13:00:56.013664Z"
    },
    "deletable": false,
    "id": "Z9-cv36K4IWt",
    "nbgrader": {
     "cell_type": "code",
     "checksum": "27de8e4fa85536bb396b73bfc51b3f50",
     "grade": false,
     "grade_id": "cell-021a48dff4a8bb91",
     "locked": false,
     "schema_version": 3,
     "solution": true,
     "task": false
    }
   },
   "outputs": [],
   "source": [
    "# TODO: Implement this! (5 points)\n",
    "class LdaRetrievalModel(VectorSpaceRetrievalModel):\n",
    "    def __init__(self, doc_repr):\n",
    "        super().__init__(doc_repr)\n",
    "        \n",
    "        # use these parameters in the train_model method\n",
    "        self.num_topics = 100\n",
    "        self.chunksize = 3204\n",
    "        self.passes = 20\n",
    "        self.iterations = 400\n",
    "        self.eval_every = 10\n",
    "        # this is need to get full vectors\n",
    "        self.minimum_probability=0.0\n",
    "        self.alpha='auto'\n",
    "        self.eta='auto'\n",
    "    \n",
    "    \n",
    "    def train_model(self):\n",
    "        # YOUR CODE HERE\n",
    "        self.model = LdaModel(self.corpus, num_topics = self.num_topics, chunksize = self.chunksize, id2word = self.id2word,\n",
    "                              passes = self.passes, iterations = self.iterations, eval_every = self.eval_every, \n",
    "                              minimum_probability = self.minimum_probability, alpha = self.alpha, eta = self.eta)"
   ]
  },
  {
   "cell_type": "code",
   "execution_count": 87,
   "metadata": {
    "ExecuteTime": {
     "end_time": "2021-02-11T13:02:31.570554Z",
     "start_time": "2021-02-11T13:00:57.797199Z"
    },
    "deletable": false,
    "editable": false,
    "id": "Fb0jrpWb4IWu",
    "nbgrader": {
     "cell_type": "code",
     "checksum": "be70fcb8098d0b6ce64cd2a10e6a05b7",
     "grade": true,
     "grade_id": "cell-86750b715f0345fd",
     "locked": true,
     "points": 0,
     "schema_version": 3,
     "solution": false,
     "task": false
    }
   },
   "outputs": [
    {
     "name": "stderr",
     "output_type": "stream",
     "text": [
      "2021-02-11 23:13:32,047 : INFO : adding document #0 to Dictionary(0 unique tokens: [])\n",
      "2021-02-11 23:13:32,232 : INFO : built Dictionary(6207 unique tokens: ['-', 'algebra', 'intern', 'languag', 'preliminari']...) from 3204 documents (total 196863 corpus positions)\n",
      "2021-02-11 23:13:32,239 : INFO : discarding 4798 tokens: [('of', 2061), ('repeat', 8), ('glossari', 7), ('inspect', 8), ('the', 1794), ('uncol', 2), ('a', 1808), ('rung', 9), ('secant', 2), ('.', 1605)]...\n",
      "2021-02-11 23:13:32,240 : INFO : keeping 1409 tokens which were in no less than 10 and no more than 1602 (=50.0%) documents\n",
      "2021-02-11 23:13:32,244 : INFO : resulting dictionary: Dictionary(1409 unique tokens: ['-', 'algebra', 'intern', 'languag', 'preliminari']...)\n",
      "2021-02-11 23:13:32,344 : INFO : using autotuned alpha, starting with [0.01, 0.01, 0.01, 0.01, 0.01, 0.01, 0.01, 0.01, 0.01, 0.01, 0.01, 0.01, 0.01, 0.01, 0.01, 0.01, 0.01, 0.01, 0.01, 0.01, 0.01, 0.01, 0.01, 0.01, 0.01, 0.01, 0.01, 0.01, 0.01, 0.01, 0.01, 0.01, 0.01, 0.01, 0.01, 0.01, 0.01, 0.01, 0.01, 0.01, 0.01, 0.01, 0.01, 0.01, 0.01, 0.01, 0.01, 0.01, 0.01, 0.01, 0.01, 0.01, 0.01, 0.01, 0.01, 0.01, 0.01, 0.01, 0.01, 0.01, 0.01, 0.01, 0.01, 0.01, 0.01, 0.01, 0.01, 0.01, 0.01, 0.01, 0.01, 0.01, 0.01, 0.01, 0.01, 0.01, 0.01, 0.01, 0.01, 0.01, 0.01, 0.01, 0.01, 0.01, 0.01, 0.01, 0.01, 0.01, 0.01, 0.01, 0.01, 0.01, 0.01, 0.01, 0.01, 0.01, 0.01, 0.01, 0.01, 0.01]\n",
      "2021-02-11 23:13:32,345 : INFO : using serial LDA version on this node\n",
      "2021-02-11 23:13:32,375 : INFO : running online (multi-pass) LDA training, 100 topics, 20 passes over the supplied corpus of 3204 documents, updating model once every 3204 documents, evaluating perplexity every 3204 documents, iterating 400x with a convergence threshold of 0.001000\n",
      "2021-02-11 23:13:40,015 : INFO : -12.631 per-word bound, 6343.4 perplexity estimate based on a held-out corpus of 3204 documents with 149996 words\n",
      "2021-02-11 23:13:40,016 : INFO : PROGRESS: pass 0, at document #3204/3204\n",
      "2021-02-11 23:13:46,930 : INFO : optimized alpha [0.009774257, 0.00988296, 0.009696747, 0.009914656, 0.009700093, 0.009777673, 0.009735432, 0.009828707, 0.009735856, 0.009989844, 0.00970962, 0.009768153, 0.00970352, 0.009748845, 0.009715031, 0.009768527, 0.010137735, 0.009699952, 0.009797902, 0.009709758, 0.009693533, 0.009771313, 0.009909477, 0.009713226, 0.0097247, 0.009738915, 0.009713329, 0.009725925, 0.009716347, 0.009729303, 0.009748505, 0.009745672, 0.009709756, 0.009709786, 0.0097556645, 0.009709905, 0.0098109655, 0.009699907, 0.00975794, 0.009761946, 0.0098248655, 0.00969372, 0.009674281, 0.009716084, 0.009728887, 0.009735482, 0.009735518, 0.009795277, 0.00969688, 0.00976796, 0.009710111, 0.00971939, 0.009758835, 0.009709918, 0.009715736, 0.00975515, 0.009814065, 0.009683844, 0.009732578, 0.009726149, 0.009704906, 0.009963844, 0.009693544, 0.009787275, 0.009781522, 0.009909154, 0.0098068975, 0.00970644, 0.009922137, 0.009745731, 0.009743236, 0.00975784, 0.0097321365, 0.009762258, 0.009816942, 0.009722857, 0.009751997, 0.0097586885, 0.009849985, 0.009860269, 0.009865629, 0.009729008, 0.0097162975, 0.009784302, 0.009716266, 0.010040103, 0.0097684795, 0.009797314, 0.00968072, 0.009736064, 0.0098829605, 0.009732815, 0.0097259665, 0.009736304, 0.009709783, 0.009700052, 0.009722876, 0.009693564, 0.009765232, 0.009674258]\n",
      "2021-02-11 23:13:46,951 : INFO : topic #48 (0.010): 0.038*\"to\" + 0.033*\"and\" + 0.032*\"-\" + 0.027*\"program\" + 0.025*\"is\" + 0.023*\",\" + 0.019*\"schedul\" + 0.019*\"time\" + 0.019*\"(\" + 0.019*\"algorithm\"\n",
      "2021-02-11 23:13:46,953 : INFO : topic #99 (0.010): 0.037*\"gaussian\" + 0.036*\"(\" + 0.035*\"d1\" + 0.034*\"))\" + 0.033*\"$\" + 0.033*\"quadratur\" + 0.032*\"formula\" + 0.030*\"algorithm\" + 0.001*\"quit\" + 0.001*\"reduc\"\n",
      "2021-02-11 23:13:46,954 : INFO : topic #9 (0.010): 0.039*\",\" + 0.036*\"and\" + 0.025*\"is\" + 0.024*\"for\" + 0.022*\"in\" + 0.022*\"to\" + 0.021*\"algorithm\" + 0.016*\"are\" + 0.015*\"-\" + 0.012*\"an\"\n",
      "2021-02-11 23:13:46,955 : INFO : topic #85 (0.010): 0.044*\",\" + 0.035*\"and\" + 0.027*\"in\" + 0.026*\"to\" + 0.025*\"is\" + 0.021*\"for\" + 0.020*\"-\" + 0.019*\"system\" + 0.018*\"comput\" + 0.014*\"program\"\n",
      "2021-02-11 23:13:46,956 : INFO : topic #16 (0.010): 0.040*\",\" + 0.034*\"and\" + 0.031*\"is\" + 0.026*\"to\" + 0.022*\"in\" + 0.022*\"for\" + 0.022*\"-\" + 0.020*\"program\" + 0.017*\"are\" + 0.012*\"comput\"\n",
      "2021-02-11 23:13:46,958 : INFO : topic diff=69.756966, rho=1.000000\n",
      "2021-02-11 23:13:50,749 : INFO : -6.841 per-word bound, 114.6 perplexity estimate based on a held-out corpus of 3204 documents with 149996 words\n",
      "2021-02-11 23:13:50,750 : INFO : PROGRESS: pass 1, at document #3204/3204\n",
      "2021-02-11 23:13:53,964 : INFO : optimized alpha [0.009656742, 0.0098185055, 0.009591016, 0.009817736, 0.00962664, 0.009656502, 0.009648517, 0.009808559, 0.009587092, 0.009902143, 0.009668243, 0.009665229, 0.0096159, 0.009583634, 0.009570622, 0.009628147, 0.010173687, 0.00960508, 0.009691093, 0.009591684, 0.009623908, 0.009637656, 0.009915086, 0.0095705, 0.009600778, 0.009630981, 0.00955459, 0.009625295, 0.009594713, 0.009552107, 0.009595549, 0.009611106, 0.00964712, 0.009566992, 0.009606685, 0.0095837815, 0.009685813, 0.009684935, 0.009647887, 0.009623434, 0.009752825, 0.009528175, 0.009509192, 0.009628344, 0.009789442, 0.009660169, 0.009632852, 0.009729237, 0.009554291, 0.009650463, 0.009565951, 0.009585042, 0.009609702, 0.009583063, 0.009585443, 0.009598614, 0.009703232, 0.009638616, 0.009628535, 0.009590005, 0.009603118, 0.009882634, 0.009602216, 0.009635035, 0.009682172, 0.009853419, 0.009645333, 0.009622547, 0.009830859, 0.009609278, 0.009605206, 0.00987836, 0.009715442, 0.009660096, 0.009685899, 0.009561897, 0.009601006, 0.009609471, 0.0097637465, 0.009765252, 0.009783059, 0.009616, 0.00960712, 0.009662748, 0.009584022, 0.01008488, 0.009653324, 0.009690377, 0.009617802, 0.009626877, 0.00979809, 0.0095825475, 0.009588101, 0.009609374, 0.009573855, 0.009639131, 0.009577957, 0.0096397605, 0.009655324, 0.009507409]\n",
      "2021-02-11 23:13:53,988 : INFO : topic #26 (0.010): 0.045*\",\" + 0.030*\"and\" + 0.028*\"to\" + 0.020*\"for\" + 0.020*\"in\" + 0.017*\"are\" + 0.016*\"code\" + 0.016*\"is\" + 0.014*\"-\" + 0.013*\"an\"\n",
      "2021-02-11 23:13:53,989 : INFO : topic #29 (0.010): 0.038*\"to\" + 0.033*\"is\" + 0.032*\",\" + 0.020*\"(\" + 0.019*\"for\" + 0.016*\"system\" + 0.015*\"and\" + 0.015*\"in\" + 0.013*\"t\" + 0.012*\"time\"\n",
      "2021-02-11 23:13:53,990 : INFO : topic #22 (0.010): 0.048*\",\" + 0.027*\"to\" + 0.026*\"and\" + 0.023*\"languag\" + 0.023*\"for\" + 0.022*\"in\" + 0.021*\"is\" + 0.021*\"-\" + 0.021*\"program\" + 0.013*\"are\"\n",
      "2021-02-11 23:13:53,991 : INFO : topic #85 (0.010): 0.048*\",\" + 0.037*\"and\" + 0.028*\"in\" + 0.027*\"to\" + 0.024*\"is\" + 0.022*\"system\" + 0.020*\"-\" + 0.020*\"for\" + 0.019*\"comput\" + 0.014*\"are\"\n",
      "2021-02-11 23:13:53,992 : INFO : topic #16 (0.010): 0.041*\",\" + 0.036*\"and\" + 0.032*\"is\" + 0.026*\"to\" + 0.023*\"program\" + 0.022*\"in\" + 0.021*\"-\" + 0.021*\"for\" + 0.018*\"are\" + 0.013*\"comput\"\n",
      "2021-02-11 23:13:53,993 : INFO : topic diff=0.384200, rho=0.577350\n",
      "2021-02-11 23:13:57,361 : INFO : -6.740 per-word bound, 106.9 perplexity estimate based on a held-out corpus of 3204 documents with 149996 words\n",
      "2021-02-11 23:13:57,362 : INFO : PROGRESS: pass 2, at document #3204/3204\n",
      "2021-02-11 23:14:00,116 : INFO : optimized alpha [0.009551753, 0.009757429, 0.009571494, 0.009737347, 0.009614703, 0.009551514, 0.009614318, 0.009729898, 0.009468489, 0.009814893, 0.00965423, 0.009595364, 0.009587722, 0.009446949, 0.009472357, 0.009508836, 0.010201893, 0.009576346, 0.009596518, 0.009503012, 0.009732264, 0.009525447, 0.009920995, 0.009467612, 0.009508593, 0.009563047, 0.009424784, 0.009584691, 0.009518215, 0.009404106, 0.009462736, 0.009494744, 0.0096211815, 0.009469969, 0.009489566, 0.009506222, 0.009586793, 0.009763732, 0.009531824, 0.009513402, 0.009694829, 0.009398814, 0.009448909, 0.009575354, 0.009826752, 0.009651593, 0.009556658, 0.009691962, 0.009458986, 0.009544033, 0.00946809, 0.00947974, 0.009484654, 0.00949327, 0.009495889, 0.009459922, 0.009616093, 0.009980571, 0.009548442, 0.0094909845, 0.009581071, 0.00980579, 0.009561351, 0.0095074875, 0.009609059, 0.009789953, 0.009510082, 0.009621746, 0.009744101, 0.009509797, 0.009486265, 0.009968731, 0.009752962, 0.0095939515, 0.009572501, 0.009434792, 0.00948362, 0.009481336, 0.0096969735, 0.009689538, 0.009719338, 0.009543433, 0.009547088, 0.00956818, 0.009471537, 0.010135503, 0.0095657045, 0.009621974, 0.009641821, 0.009555009, 0.009730855, 0.009462756, 0.009473927, 0.009513456, 0.009476301, 0.009672834, 0.009473119, 0.0096914, 0.009561053, 0.009399307]\n"
     ]
    },
    {
     "name": "stderr",
     "output_type": "stream",
     "text": [
      "2021-02-11 23:14:00,139 : INFO : topic #29 (0.009): 0.039*\"to\" + 0.036*\"is\" + 0.031*\",\" + 0.020*\"for\" + 0.017*\"(\" + 0.017*\"t\" + 0.016*\"and\" + 0.015*\"system\" + 0.015*\"in\" + 0.013*\"secur\"\n",
      "2021-02-11 23:14:00,139 : INFO : topic #41 (0.009): 0.037*\"system\" + 0.031*\"is\" + 0.029*\"to\" + 0.028*\"for\" + 0.027*\"-\" + 0.023*\"print\" + 0.022*\"applic\" + 0.020*\"and\" + 0.020*\"an\" + 0.019*\"autom\"\n",
      "2021-02-11 23:14:00,140 : INFO : topic #71 (0.010): 0.104*\"algorithm\" + 0.104*\"(\" + 0.098*\")\" + 0.061*\"matrix\" + 0.039*\"invers\" + 0.025*\"function\" + 0.025*\"and\" + 0.022*\"for\" + 0.017*\"complex\" + 0.014*\"on\"\n",
      "2021-02-11 23:14:00,140 : INFO : topic #85 (0.010): 0.051*\",\" + 0.039*\"and\" + 0.028*\"in\" + 0.027*\"to\" + 0.025*\"system\" + 0.023*\"is\" + 0.021*\"comput\" + 0.020*\"-\" + 0.019*\"for\" + 0.015*\"are\"\n",
      "2021-02-11 23:14:00,141 : INFO : topic #16 (0.010): 0.042*\",\" + 0.037*\"and\" + 0.032*\"is\" + 0.026*\"to\" + 0.025*\"program\" + 0.023*\"in\" + 0.022*\"-\" + 0.021*\"for\" + 0.019*\"are\" + 0.014*\"comput\"\n",
      "2021-02-11 23:14:00,142 : INFO : topic diff=0.375742, rho=0.500000\n",
      "2021-02-11 23:14:03,125 : INFO : -6.675 per-word bound, 102.2 perplexity estimate based on a held-out corpus of 3204 documents with 149996 words\n",
      "2021-02-11 23:14:03,126 : INFO : PROGRESS: pass 3, at document #3204/3204\n",
      "2021-02-11 23:14:05,546 : INFO : optimized alpha [0.009469802, 0.00971225, 0.009605493, 0.0096712, 0.009637935, 0.009466858, 0.009601772, 0.009661002, 0.009376114, 0.009735748, 0.009631833, 0.009551921, 0.009584696, 0.00932969, 0.009405532, 0.009407887, 0.01021441, 0.009594166, 0.009519517, 0.009436408, 0.009917986, 0.00943185, 0.0099273, 0.009392777, 0.009433548, 0.009514598, 0.00932012, 0.009591094, 0.009463542, 0.009273257, 0.009346122, 0.009399315, 0.009612837, 0.009405475, 0.009387678, 0.009452, 0.009503234, 0.009870387, 0.00942004, 0.009425765, 0.009649427, 0.0092997765, 0.009424053, 0.009539585, 0.00987029, 0.009686393, 0.009497998, 0.009666105, 0.009401313, 0.009456768, 0.009397737, 0.009408059, 0.009380062, 0.009423036, 0.009434022, 0.00934231, 0.00954267, 0.010524736, 0.009486544, 0.009408742, 0.009597002, 0.009735659, 0.009554995, 0.009400732, 0.009558784, 0.009727202, 0.009394073, 0.009657695, 0.009669671, 0.009429784, 0.009384163, 0.010046732, 0.00980054, 0.009552433, 0.009472426, 0.0093338275, 0.009388286, 0.009371411, 0.009650963, 0.009626002, 0.0096634505, 0.00948796, 0.009518818, 0.009504859, 0.009375015, 0.0102003785, 0.009502816, 0.009577255, 0.009679217, 0.009512634, 0.009657905, 0.009362661, 0.009371925, 0.009435219, 0.009406047, 0.009729465, 0.009383223, 0.009781874, 0.009470763, 0.0093170805]\n",
      "2021-02-11 23:14:05,569 : INFO : topic #29 (0.009): 0.040*\"to\" + 0.037*\"is\" + 0.030*\",\" + 0.020*\"for\" + 0.018*\"t\" + 0.016*\"and\" + 0.016*\"(\" + 0.015*\"secur\" + 0.015*\"system\" + 0.015*\"in\"\n",
      "2021-02-11 23:14:05,571 : INFO : topic #99 (0.009): 0.281*\"quadratur\" + 0.221*\"d1\" + 0.105*\"formula\" + 0.073*\"algorithm\" + 0.066*\"(\" + 0.061*\"gaussian\" + 0.028*\"))\" + 0.028*\"$\" + 0.000*\"quit\" + 0.000*\"column\"\n",
      "2021-02-11 23:14:05,572 : INFO : topic #85 (0.010): 0.053*\",\" + 0.041*\"and\" + 0.028*\"system\" + 0.028*\"in\" + 0.027*\"to\" + 0.022*\"is\" + 0.022*\"comput\" + 0.020*\"-\" + 0.019*\"for\" + 0.015*\"are\"\n",
      "2021-02-11 23:14:05,573 : INFO : topic #16 (0.010): 0.043*\",\" + 0.038*\"and\" + 0.032*\"is\" + 0.027*\"program\" + 0.027*\"to\" + 0.023*\"in\" + 0.021*\"-\" + 0.020*\"for\" + 0.020*\"are\" + 0.014*\"comput\"\n",
      "2021-02-11 23:14:05,574 : INFO : topic #57 (0.011): 0.278*\")\" + 0.263*\"(\" + 0.223*\"algorithm\" + 0.031*\"squar\" + 0.029*\"algol\" + 0.024*\"on\" + 0.023*\"note\" + 0.021*\"least\" + 0.020*\"60\" + 0.013*\"-\"\n",
      "2021-02-11 23:14:05,575 : INFO : topic diff=0.410075, rho=0.447214\n",
      "2021-02-11 23:14:08,537 : INFO : -6.627 per-word bound, 98.8 perplexity estimate based on a held-out corpus of 3204 documents with 149996 words\n",
      "2021-02-11 23:14:08,538 : INFO : PROGRESS: pass 4, at document #3204/3204\n",
      "2021-02-11 23:14:11,331 : INFO : optimized alpha [0.009399227, 0.009673016, 0.009663342, 0.009613332, 0.009681089, 0.009392602, 0.009605319, 0.009598155, 0.009298713, 0.009656086, 0.009609044, 0.009520343, 0.0095955925, 0.00922072, 0.009362899, 0.009318073, 0.010225362, 0.009649748, 0.009458202, 0.009393987, 0.010121302, 0.009354587, 0.009935447, 0.00933694, 0.009372686, 0.009469971, 0.009224663, 0.009622882, 0.00942319, 0.009157224, 0.009245008, 0.0093167825, 0.009603915, 0.009362407, 0.009299511, 0.009438785, 0.009434878, 0.009991149, 0.009325559, 0.009355014, 0.009607488, 0.009220019, 0.009405387, 0.009517205, 0.009919397, 0.009759019, 0.009454043, 0.00964406, 0.009357113, 0.009380233, 0.009352077, 0.009358605, 0.009283347, 0.009378527, 0.009388539, 0.00923904, 0.009475779, 0.011127681, 0.0094410665, 0.009347623, 0.009634847, 0.009674125, 0.009571332, 0.009309414, 0.009513749, 0.009671025, 0.009293444, 0.00970129, 0.009600618, 0.009360814, 0.009301863, 0.01011815, 0.009862068, 0.0095214, 0.009380804, 0.0092537375, 0.009310717, 0.0092774, 0.009612276, 0.009571675, 0.009613369, 0.009446864, 0.009497059, 0.009472988, 0.009304805, 0.010262896, 0.00945653, 0.009543491, 0.00972538, 0.0094907, 0.009596544, 0.009282047, 0.009286073, 0.009370353, 0.009359091, 0.009797995, 0.009303173, 0.009886471, 0.009390314, 0.009254524]\n",
      "2021-02-11 23:14:11,354 : INFO : topic #29 (0.009): 0.040*\"to\" + 0.038*\"is\" + 0.030*\",\" + 0.020*\"for\" + 0.019*\"t\" + 0.017*\"secur\" + 0.016*\"and\" + 0.015*\"system\" + 0.015*\"in\" + 0.014*\"(\"\n",
      "2021-02-11 23:14:11,355 : INFO : topic #26 (0.009): 0.049*\",\" + 0.033*\"and\" + 0.028*\"to\" + 0.028*\"code\" + 0.021*\"in\" + 0.020*\"for\" + 0.018*\"are\" + 0.018*\"is\" + 0.015*\"an\" + 0.013*\"-\"\n",
      "2021-02-11 23:14:11,357 : INFO : topic #16 (0.010): 0.044*\",\" + 0.039*\"and\" + 0.033*\"is\" + 0.028*\"program\" + 0.027*\"to\" + 0.023*\"in\" + 0.022*\"-\" + 0.021*\"are\" + 0.020*\"for\" + 0.014*\"comput\"\n",
      "2021-02-11 23:14:11,358 : INFO : topic #85 (0.010): 0.055*\",\" + 0.043*\"and\" + 0.030*\"system\" + 0.027*\"in\" + 0.027*\"to\" + 0.023*\"comput\" + 0.022*\"is\" + 0.020*\"-\" + 0.018*\"for\" + 0.015*\"are\"\n",
      "2021-02-11 23:14:11,359 : INFO : topic #57 (0.011): 0.304*\")\" + 0.289*\"(\" + 0.228*\"algorithm\" + 0.023*\"squar\" + 0.019*\"on\" + 0.018*\"algol\" + 0.018*\"note\" + 0.016*\"least\" + 0.014*\"60\" + 0.012*\"-\"\n",
      "2021-02-11 23:14:11,360 : INFO : topic diff=0.471475, rho=0.408248\n",
      "2021-02-11 23:14:14,221 : INFO : -6.585 per-word bound, 96.0 perplexity estimate based on a held-out corpus of 3204 documents with 149996 words\n",
      "2021-02-11 23:14:14,222 : INFO : PROGRESS: pass 5, at document #3204/3204\n",
      "2021-02-11 23:14:16,577 : INFO : optimized alpha [0.009337531, 0.009634985, 0.00972338, 0.009563102, 0.009733383, 0.00932314, 0.009618829, 0.0095377, 0.009233062, 0.009585073, 0.009589311, 0.009499585, 0.009605587, 0.009123478, 0.0093354015, 0.009237965, 0.010236438, 0.009719261, 0.009402599, 0.009361137, 0.010323963, 0.009289094, 0.009945235, 0.009297405, 0.009321967, 0.009443051, 0.009142839, 0.009669253, 0.009391017, 0.009053697, 0.0091569945, 0.009245453, 0.009597948, 0.009334561, 0.009226438, 0.009454955, 0.009374041, 0.010138304, 0.00924573, 0.009294252, 0.009572779, 0.009150044, 0.00938731, 0.009499096, 0.009973739, 0.009838741, 0.0094241835, 0.009627432, 0.009325939, 0.009314249, 0.009325185, 0.009323776, 0.009195986, 0.0093436595, 0.009356235, 0.009150234, 0.009421948, 0.011770065, 0.009405425, 0.009298989, 0.0096844565, 0.009618313, 0.009605634, 0.009229089, 0.009483125, 0.009624654, 0.009204729, 0.009749337, 0.009536788, 0.009299392, 0.009229618, 0.01020639, 0.00993133, 0.0094897505, 0.009301246, 0.009192326, 0.009247258, 0.009195778, 0.009581735, 0.009521161, 0.009568944, 0.009415086, 0.009478334, 0.009459985, 0.009248978, 0.010323991, 0.009422366, 0.009517399, 0.009795385, 0.009479873, 0.009547788, 0.009210173, 0.009210643, 0.009317137, 0.009338723, 0.009864284, 0.0092351455, 0.00999235, 0.009314084, 0.009210922]\n",
      "2021-02-11 23:14:16,607 : INFO : topic #29 (0.009): 0.041*\"to\" + 0.039*\"is\" + 0.030*\",\" + 0.020*\"for\" + 0.019*\"t\" + 0.017*\"secur\" + 0.016*\"and\" + 0.015*\"system\" + 0.015*\"in\" + 0.014*\"(\"\n",
      "2021-02-11 23:14:16,609 : INFO : topic #26 (0.009): 0.050*\",\" + 0.034*\"and\" + 0.033*\"code\" + 0.028*\"to\" + 0.021*\"in\" + 0.020*\"for\" + 0.019*\"are\" + 0.018*\"is\" + 0.016*\"an\" + 0.013*\"-\"\n",
      "2021-02-11 23:14:16,610 : INFO : topic #20 (0.010): 0.207*\"[\" + 0.205*\"])\" + 0.186*\"algorithm\" + 0.164*\"(\" + 0.021*\"permut\" + 0.019*\"polyphas\" + 0.017*\"g6\" + 0.015*\"determin\" + 0.012*\"f1\" + 0.011*\"-\"\n"
     ]
    },
    {
     "name": "stderr",
     "output_type": "stream",
     "text": [
      "2021-02-11 23:14:16,612 : INFO : topic #85 (0.010): 0.056*\",\" + 0.044*\"and\" + 0.032*\"system\" + 0.027*\"to\" + 0.026*\"in\" + 0.024*\"comput\" + 0.021*\"is\" + 0.021*\"-\" + 0.018*\"for\" + 0.015*\"are\"\n",
      "2021-02-11 23:14:16,613 : INFO : topic #57 (0.012): 0.324*\")\" + 0.310*\"(\" + 0.229*\"algorithm\" + 0.017*\"squar\" + 0.015*\"on\" + 0.013*\"note\" + 0.011*\"least\" + 0.011*\"algol\" + 0.011*\"-\" + 0.010*\"by\"\n",
      "2021-02-11 23:14:16,615 : INFO : topic diff=0.532759, rho=0.377964\n",
      "2021-02-11 23:14:19,489 : INFO : -6.551 per-word bound, 93.7 perplexity estimate based on a held-out corpus of 3204 documents with 149996 words\n",
      "2021-02-11 23:14:19,490 : INFO : PROGRESS: pass 6, at document #3204/3204\n",
      "2021-02-11 23:14:21,925 : INFO : optimized alpha [0.009287249, 0.009602147, 0.009791007, 0.009514824, 0.009784099, 0.009265774, 0.009637795, 0.009490716, 0.009173933, 0.009517827, 0.009576387, 0.009481591, 0.00962337, 0.009034664, 0.009309116, 0.009163603, 0.010244212, 0.0097915605, 0.0093568675, 0.009334114, 0.0105158985, 0.009232146, 0.009965461, 0.009265238, 0.009280547, 0.009424687, 0.009072064, 0.0097165, 0.009363494, 0.008962226, 0.009078565, 0.009183218, 0.009590301, 0.009319399, 0.009164686, 0.0094773, 0.009322445, 0.01030206, 0.009181948, 0.00924373, 0.009540891, 0.009086954, 0.009372752, 0.009491893, 0.010030791, 0.009915205, 0.009397724, 0.009613214, 0.009309747, 0.009255843, 0.009306789, 0.009296961, 0.009117099, 0.009322091, 0.0093234, 0.00906905, 0.009371488, 0.012458269, 0.009374774, 0.009259543, 0.009741359, 0.009568122, 0.009651326, 0.009159715, 0.009457074, 0.009584196, 0.009124641, 0.009801525, 0.009477173, 0.009244093, 0.009161387, 0.010287245, 0.010016598, 0.009459569, 0.009225368, 0.009141154, 0.009192216, 0.009119033, 0.009556879, 0.009474748, 0.009530236, 0.009387929, 0.009470583, 0.009461821, 0.009201925, 0.010386435, 0.009396199, 0.009504077, 0.009870286, 0.009478433, 0.00950516, 0.009145411, 0.009145678, 0.009270362, 0.009331306, 0.009935655, 0.009171798, 0.010098849, 0.009244275, 0.009178033]\n",
      "2021-02-11 23:14:21,950 : INFO : topic #29 (0.009): 0.041*\"to\" + 0.040*\"is\" + 0.030*\",\" + 0.020*\"for\" + 0.020*\"t\" + 0.019*\"secur\" + 0.016*\"and\" + 0.015*\"system\" + 0.015*\"in\" + 0.013*\"optim\"\n",
      "2021-02-11 23:14:21,951 : INFO : topic #13 (0.009): 0.043*\",\" + 0.038*\"and\" + 0.034*\"-\" + 0.029*\"to\" + 0.026*\"is\" + 0.021*\"system\" + 0.016*\"are\" + 0.016*\"use\" + 0.015*\"j\" + 0.014*\"in\"\n",
      "2021-02-11 23:14:21,953 : INFO : topic #85 (0.010): 0.057*\",\" + 0.046*\"and\" + 0.033*\"system\" + 0.027*\"to\" + 0.026*\"in\" + 0.024*\"comput\" + 0.021*\"-\" + 0.021*\"is\" + 0.018*\"for\" + 0.015*\"are\"\n",
      "2021-02-11 23:14:21,954 : INFO : topic #20 (0.011): 0.212*\"[\" + 0.210*\"])\" + 0.192*\"algorithm\" + 0.170*\"(\" + 0.020*\"permut\" + 0.019*\"polyphas\" + 0.017*\"g6\" + 0.014*\"determin\" + 0.012*\"-\" + 0.012*\"f1\"\n",
      "2021-02-11 23:14:21,955 : INFO : topic #57 (0.012): 0.339*\")\" + 0.325*\"(\" + 0.228*\"algorithm\" + 0.014*\"squar\" + 0.011*\"on\" + 0.010*\"-\" + 0.010*\"by\" + 0.009*\"note\" + 0.009*\"least\" + 0.007*\"algol\"\n",
      "2021-02-11 23:14:21,957 : INFO : topic diff=0.583092, rho=0.353553\n",
      "2021-02-11 23:14:24,802 : INFO : -6.522 per-word bound, 91.9 perplexity estimate based on a held-out corpus of 3204 documents with 149996 words\n",
      "2021-02-11 23:14:24,804 : INFO : PROGRESS: pass 7, at document #3204/3204\n",
      "2021-02-11 23:14:27,217 : INFO : optimized alpha [0.009246609, 0.009571685, 0.009859588, 0.009469089, 0.009830582, 0.009213709, 0.009663583, 0.009444222, 0.00911825, 0.009453652, 0.009574403, 0.009464901, 0.009639968, 0.00895846, 0.0092916265, 0.009098799, 0.010251439, 0.009866595, 0.009318497, 0.009314924, 0.010702274, 0.009182388, 0.009980016, 0.009240279, 0.009243195, 0.009411632, 0.009009557, 0.009768808, 0.009342928, 0.008878861, 0.0090080965, 0.009127592, 0.009586152, 0.009316121, 0.009107588, 0.009506139, 0.009278634, 0.010486045, 0.009122981, 0.009200858, 0.009513272, 0.0090324385, 0.009358276, 0.009484171, 0.010090471, 0.009997415, 0.0093820235, 0.009605079, 0.009299654, 0.009205722, 0.009297661, 0.009275998, 0.009046182, 0.009304068, 0.009296874, 0.008993144, 0.009329665, 0.013178826, 0.009349301, 0.00922988, 0.009798843, 0.009525726, 0.0097102905, 0.009097518, 0.009434866, 0.009547696, 0.009051663, 0.009860684, 0.009422002, 0.009197765, 0.0090993, 0.010371522, 0.01009974, 0.009435564, 0.009154271, 0.009100519, 0.009144202, 0.009048158, 0.00953892, 0.009434779, 0.009491275, 0.009364689, 0.009461416, 0.009469668, 0.009165139, 0.010438224, 0.009383813, 0.009492779, 0.009942596, 0.009480185, 0.009469721, 0.009091324, 0.00908565, 0.0092290165, 0.00933254, 0.010015998, 0.00911516, 0.010204347, 0.009181704, 0.009153254]\n",
      "2021-02-11 23:14:27,240 : INFO : topic #29 (0.009): 0.041*\"to\" + 0.040*\"is\" + 0.030*\",\" + 0.020*\"for\" + 0.019*\"secur\" + 0.019*\"t\" + 0.016*\"and\" + 0.015*\"system\" + 0.015*\"in\" + 0.013*\"optim\"\n",
      "2021-02-11 23:14:27,241 : INFO : topic #13 (0.009): 0.044*\",\" + 0.038*\"and\" + 0.033*\"-\" + 0.029*\"to\" + 0.026*\"is\" + 0.022*\"system\" + 0.016*\"use\" + 0.016*\"are\" + 0.016*\"j\" + 0.014*\"in\"\n",
      "2021-02-11 23:14:27,242 : INFO : topic #37 (0.010): 0.183*\"s\" + 0.174*\"'\" + 0.116*\"integr\" + 0.053*\"algorithm\" + 0.046*\"(\" + 0.041*\")\" + 0.036*\"and\" + 0.035*\"-\" + 0.020*\"mechan\" + 0.020*\"partit\"\n",
      "2021-02-11 23:14:27,243 : INFO : topic #20 (0.011): 0.215*\"[\" + 0.213*\"])\" + 0.196*\"algorithm\" + 0.175*\"(\" + 0.020*\"permut\" + 0.018*\"polyphas\" + 0.018*\"g6\" + 0.014*\"determin\" + 0.013*\"-\" + 0.011*\"f1\"\n",
      "2021-02-11 23:14:27,244 : INFO : topic #57 (0.013): 0.348*\")\" + 0.337*\"(\" + 0.227*\"algorithm\" + 0.012*\"squar\" + 0.009*\"-\" + 0.009*\"by\" + 0.009*\"on\" + 0.007*\"least\" + 0.007*\"note\" + 0.005*\"fit\"\n",
      "2021-02-11 23:14:27,245 : INFO : topic diff=0.616229, rho=0.333333\n",
      "2021-02-11 23:14:30,120 : INFO : -6.500 per-word bound, 90.5 perplexity estimate based on a held-out corpus of 3204 documents with 149996 words\n",
      "2021-02-11 23:14:30,121 : INFO : PROGRESS: pass 8, at document #3204/3204\n",
      "2021-02-11 23:14:32,493 : INFO : optimized alpha [0.00920682, 0.009543246, 0.009934145, 0.009428346, 0.009877351, 0.009164306, 0.0096946675, 0.009405611, 0.009069123, 0.009398707, 0.009576396, 0.00945313, 0.009660373, 0.008889428, 0.009281858, 0.009036656, 0.0102644265, 0.009951358, 0.009288329, 0.00931102, 0.010881081, 0.0091443, 0.009993767, 0.009215177, 0.009211106, 0.009402335, 0.0089549385, 0.009822046, 0.009322813, 0.0088049695, 0.008944369, 0.00907852, 0.009586104, 0.009318728, 0.0090553565, 0.009542807, 0.009240623, 0.010681359, 0.009071739, 0.009160931, 0.009486577, 0.008982568, 0.009345721, 0.009482652, 0.010150772, 0.010083233, 0.009368289, 0.009592643, 0.009300462, 0.009163639, 0.009299423, 0.009260142, 0.008980212, 0.009292803, 0.009274938, 0.008921697, 0.00929538, 0.0139378505, 0.009329262, 0.009204102, 0.009854119, 0.009482311, 0.009778606, 0.009041467, 0.009416042, 0.009517484, 0.008984713, 0.00992045, 0.0093696555, 0.009159177, 0.009044251, 0.010451083, 0.010185399, 0.009417003, 0.009089983, 0.009066292, 0.00910036, 0.00898674, 0.009526016, 0.009397475, 0.00945494, 0.00934951, 0.009458509, 0.00948759, 0.009138174, 0.010489096, 0.00938355, 0.009480371, 0.010019828, 0.009494278, 0.009435703, 0.009043686, 0.009030694, 0.009192308, 0.009343956, 0.010097859, 0.009062414, 0.010301263, 0.009122547, 0.009131947]\n",
      "2021-02-11 23:14:32,518 : INFO : topic #29 (0.009): 0.041*\"to\" + 0.040*\"is\" + 0.030*\",\" + 0.021*\"secur\" + 0.020*\"for\" + 0.018*\"t\" + 0.017*\"and\" + 0.015*\"system\" + 0.015*\"in\" + 0.013*\"optim\"\n",
      "2021-02-11 23:14:32,519 : INFO : topic #13 (0.009): 0.045*\",\" + 0.038*\"and\" + 0.033*\"-\" + 0.029*\"to\" + 0.027*\"is\" + 0.022*\"system\" + 0.016*\"j\" + 0.016*\"use\" + 0.016*\"are\" + 0.014*\"in\"\n",
      "2021-02-11 23:14:32,520 : INFO : topic #37 (0.011): 0.202*\"s\" + 0.193*\"'\" + 0.113*\"integr\" + 0.048*\"algorithm\" + 0.039*\"(\" + 0.036*\"and\" + 0.035*\")\" + 0.035*\"-\" + 0.020*\"mechan\" + 0.020*\"partit\"\n",
      "2021-02-11 23:14:32,521 : INFO : topic #20 (0.011): 0.217*\"[\" + 0.214*\"])\" + 0.199*\"algorithm\" + 0.179*\"(\" + 0.019*\"permut\" + 0.019*\"g6\" + 0.018*\"polyphas\" + 0.014*\"-\" + 0.014*\"determin\" + 0.011*\"f1\"\n",
      "2021-02-11 23:14:32,522 : INFO : topic #57 (0.014): 0.356*\")\" + 0.347*\"(\" + 0.223*\"algorithm\" + 0.010*\"squar\" + 0.009*\"by\" + 0.009*\"-\" + 0.007*\"on\" + 0.005*\"least\" + 0.005*\"note\" + 0.004*\"jacobi\"\n",
      "2021-02-11 23:14:32,523 : INFO : topic diff=0.632934, rho=0.316228\n"
     ]
    },
    {
     "name": "stderr",
     "output_type": "stream",
     "text": [
      "2021-02-11 23:14:35,429 : INFO : -6.478 per-word bound, 89.2 perplexity estimate based on a held-out corpus of 3204 documents with 149996 words\n",
      "2021-02-11 23:14:35,430 : INFO : PROGRESS: pass 9, at document #3204/3204\n",
      "2021-02-11 23:14:37,838 : INFO : optimized alpha [0.009169522, 0.009522082, 0.010006894, 0.009391036, 0.009923539, 0.009120635, 0.009726013, 0.009372048, 0.009021354, 0.009344511, 0.009581963, 0.00944388, 0.009678811, 0.008825698, 0.009278014, 0.008979329, 0.010275723, 0.010031985, 0.009260932, 0.009310989, 0.011058568, 0.009108581, 0.01000193, 0.009195091, 0.009183619, 0.009394551, 0.008905489, 0.0098772505, 0.009308349, 0.008736748, 0.0088847345, 0.009029937, 0.009585229, 0.009323932, 0.009009885, 0.0095757535, 0.009204048, 0.0108749615, 0.009023744, 0.009128709, 0.009465174, 0.008937522, 0.009334827, 0.00948399, 0.010210907, 0.010169636, 0.009354519, 0.009582823, 0.009310962, 0.009126818, 0.00930472, 0.009247891, 0.008917609, 0.009291938, 0.009255274, 0.00885658, 0.0092640985, 0.014724373, 0.009314018, 0.009179051, 0.009909412, 0.00944251, 0.009855628, 0.008993268, 0.009401069, 0.009486365, 0.00892462, 0.009978119, 0.009325116, 0.00912734, 0.008997022, 0.010531504, 0.010279319, 0.0094049685, 0.0090315575, 0.009035926, 0.009060996, 0.008932698, 0.009512097, 0.009366106, 0.009422639, 0.0093344115, 0.009459411, 0.009505492, 0.009113792, 0.0105423955, 0.009392334, 0.009473267, 0.010092342, 0.009514006, 0.0094056, 0.008999919, 0.008982625, 0.009155235, 0.009358345, 0.010178529, 0.009015573, 0.010400295, 0.00906629, 0.009113663]\n",
      "2021-02-11 23:14:37,863 : INFO : topic #29 (0.009): 0.041*\"to\" + 0.041*\"is\" + 0.030*\",\" + 0.021*\"secur\" + 0.019*\"for\" + 0.018*\"t\" + 0.017*\"and\" + 0.016*\"system\" + 0.015*\"in\" + 0.014*\"optim\"\n",
      "2021-02-11 23:14:37,864 : INFO : topic #13 (0.009): 0.045*\",\" + 0.038*\"and\" + 0.032*\"-\" + 0.029*\"to\" + 0.027*\"is\" + 0.022*\"system\" + 0.017*\"j\" + 0.016*\"use\" + 0.015*\"are\" + 0.015*\"in\"\n",
      "2021-02-11 23:14:37,865 : INFO : topic #37 (0.011): 0.218*\"s\" + 0.209*\"'\" + 0.109*\"integr\" + 0.044*\"algorithm\" + 0.036*\"and\" + 0.035*\"-\" + 0.034*\"(\" + 0.030*\")\" + 0.021*\"mechan\" + 0.020*\"partit\"\n",
      "2021-02-11 23:14:37,867 : INFO : topic #20 (0.011): 0.218*\"[\" + 0.214*\"])\" + 0.203*\"algorithm\" + 0.182*\"(\" + 0.019*\"g6\" + 0.019*\"permut\" + 0.018*\"polyphas\" + 0.014*\"-\" + 0.013*\"determin\" + 0.011*\"f1\"\n",
      "2021-02-11 23:14:37,867 : INFO : topic #57 (0.015): 0.362*\")\" + 0.355*\"(\" + 0.219*\"algorithm\" + 0.009*\"squar\" + 0.008*\"by\" + 0.008*\"-\" + 0.005*\"on\" + 0.004*\"jacobi\" + 0.004*\"least\" + 0.004*\"note\"\n",
      "2021-02-11 23:14:37,869 : INFO : topic diff=0.632422, rho=0.301511\n",
      "2021-02-11 23:14:40,910 : INFO : -6.459 per-word bound, 88.0 perplexity estimate based on a held-out corpus of 3204 documents with 149996 words\n",
      "2021-02-11 23:14:40,911 : INFO : PROGRESS: pass 10, at document #3204/3204\n",
      "2021-02-11 23:14:43,414 : INFO : optimized alpha [0.009134381, 0.009502093, 0.010079968, 0.009356755, 0.009968478, 0.009079488, 0.009763798, 0.009342966, 0.008978031, 0.009296887, 0.009590752, 0.009435166, 0.009699002, 0.008763362, 0.009278679, 0.008927826, 0.010286502, 0.010105408, 0.0092376545, 0.009314436, 0.011230287, 0.009080748, 0.010009687, 0.009180334, 0.00915852, 0.009389755, 0.0088629965, 0.009932525, 0.009296431, 0.0086758, 0.008829449, 0.008987494, 0.009587908, 0.009333992, 0.00896786, 0.009611423, 0.009169568, 0.011072391, 0.00897854, 0.009101701, 0.009444136, 0.008894304, 0.0093254205, 0.009487006, 0.010270996, 0.0102540525, 0.009344958, 0.009572693, 0.009328645, 0.009096302, 0.009315759, 0.009238889, 0.008859513, 0.00929373, 0.0092375325, 0.008796984, 0.009238837, 0.0155249145, 0.009301337, 0.009158803, 0.009964883, 0.009405031, 0.009937342, 0.0089470595, 0.009387805, 0.009456149, 0.0088680945, 0.010031303, 0.009283173, 0.009100667, 0.008952534, 0.010608233, 0.010378379, 0.009399665, 0.008975761, 0.009014695, 0.009024734, 0.008887549, 0.009505071, 0.009334791, 0.009390453, 0.009323569, 0.009462923, 0.009525173, 0.009092422, 0.010587275, 0.009401611, 0.009465739, 0.010165205, 0.009537198, 0.009376345, 0.00896279, 0.008938188, 0.009121124, 0.009375489, 0.010252749, 0.008972271, 0.01049406, 0.0090158265, 0.009098044]\n",
      "2021-02-11 23:14:43,439 : INFO : topic #29 (0.009): 0.041*\"to\" + 0.041*\"is\" + 0.030*\",\" + 0.021*\"secur\" + 0.019*\"for\" + 0.018*\"t\" + 0.017*\"and\" + 0.016*\"system\" + 0.015*\"in\" + 0.014*\"optim\"\n",
      "2021-02-11 23:14:43,440 : INFO : topic #13 (0.009): 0.046*\",\" + 0.038*\"and\" + 0.032*\"-\" + 0.029*\"to\" + 0.027*\"is\" + 0.023*\"system\" + 0.017*\"j\" + 0.016*\"use\" + 0.015*\"are\" + 0.015*\"in\"\n",
      "2021-02-11 23:14:43,441 : INFO : topic #37 (0.011): 0.231*\"s\" + 0.223*\"'\" + 0.105*\"integr\" + 0.040*\"algorithm\" + 0.037*\"and\" + 0.034*\"-\" + 0.030*\"(\" + 0.026*\")\" + 0.020*\"mechan\" + 0.020*\"partit\"\n",
      "2021-02-11 23:14:43,442 : INFO : topic #20 (0.011): 0.219*\"[\" + 0.214*\"])\" + 0.206*\"algorithm\" + 0.184*\"(\" + 0.020*\"g6\" + 0.019*\"permut\" + 0.018*\"polyphas\" + 0.015*\"-\" + 0.013*\"determin\" + 0.011*\"f1\"\n",
      "2021-02-11 23:14:43,442 : INFO : topic #57 (0.016): 0.367*\")\" + 0.362*\"(\" + 0.216*\"algorithm\" + 0.008*\"by\" + 0.008*\"-\" + 0.008*\"squar\" + 0.004*\"on\" + 0.004*\"jacobi\" + 0.003*\"least\" + 0.003*\"plot\"\n",
      "2021-02-11 23:14:43,443 : INFO : topic diff=0.619533, rho=0.288675\n",
      "2021-02-11 23:14:46,522 : INFO : -6.445 per-word bound, 87.1 perplexity estimate based on a held-out corpus of 3204 documents with 149996 words\n",
      "2021-02-11 23:14:46,523 : INFO : PROGRESS: pass 11, at document #3204/3204\n",
      "2021-02-11 23:14:49,084 : INFO : optimized alpha [0.009106736, 0.009485734, 0.010150903, 0.009330113, 0.010014037, 0.009042976, 0.009803407, 0.009317061, 0.008937038, 0.009251867, 0.009601695, 0.009429417, 0.009720827, 0.008706026, 0.009282639, 0.008877582, 0.010299531, 0.010182816, 0.009219682, 0.009322682, 0.011395037, 0.00905521, 0.010016223, 0.009167975, 0.009133158, 0.009386906, 0.008824357, 0.009983691, 0.009285961, 0.008618267, 0.00877567, 0.008948135, 0.009592997, 0.009346885, 0.008929711, 0.009642174, 0.009136153, 0.011272021, 0.008936581, 0.009079318, 0.0094250385, 0.008855742, 0.009316537, 0.0094940895, 0.010328505, 0.010338624, 0.009335938, 0.0095614325, 0.009348027, 0.00906821, 0.009326381, 0.00923203, 0.008806981, 0.009301961, 0.0092207575, 0.008739923, 0.009221424, 0.016343407, 0.009290201, 0.0091444375, 0.010017976, 0.009372061, 0.010027, 0.008908083, 0.009378548, 0.009433396, 0.008815479, 0.010082191, 0.009244313, 0.009075403, 0.008912828, 0.01068442, 0.010475327, 0.009396349, 0.008923041, 0.00899541, 0.008992811, 0.008846435, 0.009497632, 0.0093084425, 0.009359976, 0.009316621, 0.009464625, 0.009553192, 0.009075427, 0.010632006, 0.009410506, 0.0094619375, 0.010241221, 0.0095610805, 0.009349505, 0.008927666, 0.008894619, 0.009088854, 0.009392689, 0.01032917, 0.008934483, 0.01057945, 0.008968924, 0.009082488]\n",
      "2021-02-11 23:14:49,106 : INFO : topic #29 (0.009): 0.041*\"to\" + 0.041*\"is\" + 0.030*\",\" + 0.022*\"secur\" + 0.019*\"for\" + 0.017*\"t\" + 0.017*\"and\" + 0.016*\"system\" + 0.015*\"in\" + 0.014*\"properti\"\n",
      "2021-02-11 23:14:49,108 : INFO : topic #13 (0.009): 0.046*\",\" + 0.038*\"and\" + 0.032*\"-\" + 0.029*\"to\" + 0.028*\"is\" + 0.023*\"system\" + 0.018*\"j\" + 0.016*\"use\" + 0.015*\"are\" + 0.015*\"in\"\n",
      "2021-02-11 23:14:49,109 : INFO : topic #37 (0.011): 0.244*\"s\" + 0.235*\"'\" + 0.101*\"integr\" + 0.037*\"algorithm\" + 0.037*\"and\" + 0.034*\"-\" + 0.026*\"(\" + 0.022*\")\" + 0.020*\"mechan\" + 0.019*\"partit\"\n",
      "2021-02-11 23:14:49,110 : INFO : topic #20 (0.011): 0.219*\"[\" + 0.214*\"])\" + 0.209*\"algorithm\" + 0.186*\"(\" + 0.021*\"g6\" + 0.019*\"permut\" + 0.017*\"polyphas\" + 0.015*\"-\" + 0.013*\"determin\" + 0.011*\"f1\"\n",
      "2021-02-11 23:14:49,110 : INFO : topic #57 (0.016): 0.370*\")\" + 0.368*\"(\" + 0.212*\"algorithm\" + 0.008*\"by\" + 0.007*\"-\" + 0.007*\"squar\" + 0.004*\"jacobi\" + 0.004*\"on\" + 0.003*\"plot\" + 0.002*\"least\"\n",
      "2021-02-11 23:14:49,111 : INFO : topic diff=0.596995, rho=0.277350\n",
      "2021-02-11 23:14:52,498 : INFO : -6.432 per-word bound, 86.3 perplexity estimate based on a held-out corpus of 3204 documents with 149996 words\n",
      "2021-02-11 23:14:52,498 : INFO : PROGRESS: pass 12, at document #3204/3204\n",
      "2021-02-11 23:14:55,513 : INFO : optimized alpha [0.009078241, 0.009472651, 0.010221656, 0.00930322, 0.010056907, 0.009007564, 0.009842274, 0.00929484, 0.008901171, 0.009210727, 0.009613823, 0.009428012, 0.009741772, 0.008650969, 0.009285727, 0.008831426, 0.010308474, 0.010258994, 0.009204223, 0.009334584, 0.011557236, 0.009032518, 0.010022488, 0.009159357, 0.009110617, 0.009383468, 0.008791431, 0.010033663, 0.009279125, 0.008566655, 0.008724686, 0.008910797, 0.009599538, 0.009363979, 0.008895037, 0.009678154, 0.009106739, 0.011472443, 0.008896786, 0.009060413, 0.009408507, 0.008819863, 0.009308916, 0.009504095, 0.01038548, 0.010421779, 0.009327392, 0.009550751, 0.009368252, 0.009045369, 0.009343735, 0.009226341, 0.008754915, 0.009313841, 0.009207974, 0.008685824, 0.009207281, 0.017171467, 0.009278861, 0.00913312, 0.010072357, 0.009342377, 0.010116782, 0.0088703465, 0.009369793, 0.00941342, 0.008766335, 0.01013274, 0.009206649, 0.009052187, 0.008877387, 0.010762092, 0.010574018, 0.0093916785, 0.008873067, 0.008980887, 0.008961759, 0.008806693, 0.009495496, 0.009286578, 0.009334246, 0.0093124155, 0.009470288, 0.009585808, 0.009059312, 0.010678508, 0.009418285, 0.009457574, 0.01031861, 0.00958726, 0.009325602, 0.008898112, 0.008855523, 0.009060519, 0.009414748, 0.010404342, 0.008898634, 0.010659824, 0.008924449, 0.009069239]\n"
     ]
    },
    {
     "name": "stderr",
     "output_type": "stream",
     "text": [
      "2021-02-11 23:14:55,536 : INFO : topic #29 (0.009): 0.042*\"to\" + 0.041*\"is\" + 0.030*\",\" + 0.022*\"secur\" + 0.019*\"for\" + 0.017*\"t\" + 0.017*\"and\" + 0.016*\"refer\" + 0.016*\"system\" + 0.015*\"in\"\n",
      "2021-02-11 23:14:55,538 : INFO : topic #13 (0.009): 0.047*\",\" + 0.038*\"and\" + 0.032*\"-\" + 0.029*\"to\" + 0.028*\"is\" + 0.023*\"system\" + 0.018*\"j\" + 0.015*\"use\" + 0.015*\"in\" + 0.015*\"are\"\n",
      "2021-02-11 23:14:55,539 : INFO : topic #37 (0.011): 0.255*\"s\" + 0.246*\"'\" + 0.098*\"integr\" + 0.037*\"and\" + 0.034*\"algorithm\" + 0.033*\"-\" + 0.023*\"(\" + 0.020*\"mechan\" + 0.019*\")\" + 0.019*\"partit\"\n",
      "2021-02-11 23:14:55,540 : INFO : topic #20 (0.012): 0.220*\"[\" + 0.213*\"])\" + 0.211*\"algorithm\" + 0.188*\"(\" + 0.021*\"g6\" + 0.020*\"permut\" + 0.017*\"polyphas\" + 0.015*\"-\" + 0.013*\"determin\" + 0.011*\"f1\"\n",
      "2021-02-11 23:14:55,541 : INFO : topic #57 (0.017): 0.373*\")\" + 0.373*\"(\" + 0.210*\"algorithm\" + 0.007*\"by\" + 0.007*\"-\" + 0.006*\"squar\" + 0.004*\"jacobi\" + 0.003*\"on\" + 0.003*\"plot\" + 0.002*\"least\"\n",
      "2021-02-11 23:14:55,542 : INFO : topic diff=0.569242, rho=0.267261\n",
      "2021-02-11 23:14:58,981 : INFO : -6.419 per-word bound, 85.6 perplexity estimate based on a held-out corpus of 3204 documents with 149996 words\n",
      "2021-02-11 23:14:58,982 : INFO : PROGRESS: pass 13, at document #3204/3204\n",
      "2021-02-11 23:15:01,804 : INFO : optimized alpha [0.009052601, 0.009460235, 0.010295685, 0.009279886, 0.010100632, 0.008976814, 0.009883726, 0.009273697, 0.008867748, 0.009173083, 0.009626298, 0.009427523, 0.009766644, 0.008597934, 0.00929029, 0.008786825, 0.01032304, 0.010335885, 0.009188007, 0.009349883, 0.01171824, 0.009013115, 0.01002688, 0.009151906, 0.009091396, 0.0093848575, 0.0087615345, 0.010082553, 0.009271142, 0.008516886, 0.008676219, 0.008874535, 0.009608956, 0.009381251, 0.008864227, 0.009712808, 0.009083971, 0.011664684, 0.008859638, 0.0090401955, 0.009392016, 0.008785742, 0.009301705, 0.009518404, 0.010441204, 0.010505423, 0.009321565, 0.009542963, 0.009390798, 0.00902732, 0.0093612345, 0.009223946, 0.008706145, 0.009329823, 0.009195075, 0.008634411, 0.009191575, 0.01801797, 0.009271157, 0.009125371, 0.010126397, 0.009312539, 0.010215067, 0.008835158, 0.009363009, 0.009392873, 0.008717451, 0.010181402, 0.009170813, 0.009030819, 0.008845839, 0.010835191, 0.010683037, 0.009392662, 0.008827718, 0.008967829, 0.008935122, 0.00877463, 0.0094981855, 0.009264996, 0.009308962, 0.009314538, 0.00947579, 0.009613323, 0.009044002, 0.010716176, 0.009428114, 0.009452738, 0.010399029, 0.009612474, 0.009302076, 0.008875755, 0.008820481, 0.009032073, 0.009438301, 0.010478505, 0.008862339, 0.010738232, 0.008885025, 0.0090566445]\n",
      "2021-02-11 23:15:01,826 : INFO : topic #29 (0.009): 0.042*\"to\" + 0.041*\"is\" + 0.030*\",\" + 0.022*\"secur\" + 0.019*\"for\" + 0.018*\"refer\" + 0.017*\"t\" + 0.017*\"and\" + 0.016*\"system\" + 0.015*\"in\"\n",
      "2021-02-11 23:15:01,827 : INFO : topic #13 (0.009): 0.048*\",\" + 0.038*\"and\" + 0.031*\"-\" + 0.029*\"to\" + 0.028*\"is\" + 0.023*\"system\" + 0.018*\"j\" + 0.015*\"use\" + 0.015*\"in\" + 0.015*\"are\"\n",
      "2021-02-11 23:15:01,828 : INFO : topic #37 (0.012): 0.265*\"s\" + 0.257*\"'\" + 0.094*\"integr\" + 0.037*\"and\" + 0.033*\"-\" + 0.032*\"algorithm\" + 0.020*\"(\" + 0.019*\"mechan\" + 0.019*\"partit\" + 0.017*\")\"\n",
      "2021-02-11 23:15:01,829 : INFO : topic #20 (0.012): 0.220*\"[\" + 0.213*\"])\" + 0.212*\"algorithm\" + 0.189*\"(\" + 0.021*\"g6\" + 0.020*\"permut\" + 0.017*\"polyphas\" + 0.016*\"-\" + 0.013*\"determin\" + 0.011*\"f1\"\n",
      "2021-02-11 23:15:01,830 : INFO : topic #57 (0.018): 0.377*\"(\" + 0.375*\")\" + 0.207*\"algorithm\" + 0.007*\"by\" + 0.007*\"-\" + 0.005*\"squar\" + 0.004*\"jacobi\" + 0.002*\"plot\" + 0.002*\"on\" + 0.001*\"least\"\n",
      "2021-02-11 23:15:01,831 : INFO : topic diff=0.538922, rho=0.258199\n",
      "2021-02-11 23:15:05,248 : INFO : -6.408 per-word bound, 84.9 perplexity estimate based on a held-out corpus of 3204 documents with 149996 words\n",
      "2021-02-11 23:15:05,249 : INFO : PROGRESS: pass 14, at document #3204/3204\n",
      "2021-02-11 23:15:08,238 : INFO : optimized alpha [0.009031013, 0.009449174, 0.010368092, 0.0092598405, 0.010143578, 0.008946054, 0.009927639, 0.009254987, 0.008834456, 0.009137179, 0.009639875, 0.009426377, 0.00979141, 0.008548743, 0.0092947595, 0.008746364, 0.010333831, 0.01041108, 0.0091747455, 0.009369813, 0.011873807, 0.008995298, 0.010032007, 0.0091448575, 0.009073762, 0.009385509, 0.00873648, 0.010132924, 0.00926212, 0.008470768, 0.008630002, 0.008842027, 0.009620325, 0.009403098, 0.008836219, 0.009744714, 0.009060779, 0.011856603, 0.008822809, 0.009023059, 0.009377044, 0.008755256, 0.009295588, 0.009535256, 0.010492559, 0.010588764, 0.009317528, 0.009538594, 0.009414789, 0.009008697, 0.009384818, 0.009221723, 0.008660321, 0.009346011, 0.009183494, 0.008584027, 0.00917586, 0.018879527, 0.009268238, 0.009120916, 0.010179387, 0.009284782, 0.0103151845, 0.008802965, 0.009357338, 0.009375519, 0.008671521, 0.010229178, 0.009139574, 0.009013998, 0.00881643, 0.010910015, 0.010796224, 0.009393721, 0.008784472, 0.008956095, 0.0089110965, 0.008746126, 0.009502377, 0.009246592, 0.0092863, 0.009320315, 0.0094796475, 0.009641404, 0.009032964, 0.01075332, 0.009435369, 0.009451153, 0.010480919, 0.009644428, 0.009278882, 0.008853016, 0.008789124, 0.009007792, 0.009463995, 0.010553502, 0.008827701, 0.0108149, 0.008846715, 0.009044647]\n",
      "2021-02-11 23:15:08,260 : INFO : topic #29 (0.008): 0.042*\"to\" + 0.041*\"is\" + 0.030*\",\" + 0.022*\"secur\" + 0.019*\"refer\" + 0.019*\"for\" + 0.017*\"t\" + 0.017*\"and\" + 0.016*\"system\" + 0.016*\"properti\"\n",
      "2021-02-11 23:15:08,261 : INFO : topic #13 (0.009): 0.048*\",\" + 0.037*\"and\" + 0.031*\"-\" + 0.029*\"to\" + 0.028*\"is\" + 0.023*\"system\" + 0.018*\"j\" + 0.015*\"use\" + 0.015*\"in\" + 0.015*\"are\"\n",
      "2021-02-11 23:15:08,262 : INFO : topic #20 (0.012): 0.220*\"[\" + 0.214*\"algorithm\" + 0.213*\"])\" + 0.191*\"(\" + 0.022*\"g6\" + 0.020*\"permut\" + 0.017*\"polyphas\" + 0.016*\"-\" + 0.013*\"determin\" + 0.012*\"f1\"\n",
      "2021-02-11 23:15:08,263 : INFO : topic #37 (0.012): 0.273*\"s\" + 0.265*\"'\" + 0.091*\"integr\" + 0.037*\"and\" + 0.033*\"-\" + 0.030*\"algorithm\" + 0.019*\"mechan\" + 0.019*\"partit\" + 0.018*\"(\" + 0.016*\"simpson\"\n",
      "2021-02-11 23:15:08,263 : INFO : topic #57 (0.019): 0.381*\"(\" + 0.377*\")\" + 0.205*\"algorithm\" + 0.007*\"by\" + 0.007*\"-\" + 0.004*\"squar\" + 0.003*\"jacobi\" + 0.002*\"plot\" + 0.002*\"on\" + 0.001*\"move\"\n",
      "2021-02-11 23:15:08,264 : INFO : topic diff=0.507138, rho=0.250000\n",
      "2021-02-11 23:15:11,728 : INFO : -6.399 per-word bound, 84.4 perplexity estimate based on a held-out corpus of 3204 documents with 149996 words\n",
      "2021-02-11 23:15:11,728 : INFO : PROGRESS: pass 15, at document #3204/3204\n",
      "2021-02-11 23:15:14,671 : INFO : optimized alpha [0.009008983, 0.009438611, 0.010440638, 0.009240655, 0.010187436, 0.008917322, 0.009970156, 0.009237088, 0.0088032745, 0.009101432, 0.009653757, 0.009425353, 0.0098146135, 0.008501729, 0.009299847, 0.00870767, 0.010342665, 0.01048792, 0.009163494, 0.009394128, 0.012025248, 0.008979638, 0.010036206, 0.009142345, 0.009059663, 0.009387642, 0.00871251, 0.010180866, 0.009256348, 0.00842669, 0.008588458, 0.008812261, 0.009632098, 0.009424944, 0.008810108, 0.009778568, 0.009037186, 0.012047598, 0.008789604, 0.009006659, 0.00936561, 0.008726096, 0.0092904875, 0.009554483, 0.010544646, 0.010673651, 0.009313712, 0.009532251, 0.009436608, 0.008995024, 0.009408372, 0.009220344, 0.008618508, 0.009360272, 0.009174542, 0.008536542, 0.009162999, 0.01975247, 0.009265515, 0.009117386, 0.010232229, 0.0092589585, 0.010418792, 0.008772179, 0.009351935, 0.0093625495, 0.008627615, 0.010276949, 0.009109697, 0.0090006655, 0.008791666, 0.010979968, 0.010907851, 0.009397666, 0.0087444605, 0.008946944, 0.008887443, 0.0087201875, 0.009510882, 0.009229692, 0.009264649, 0.009323839, 0.009484163, 0.00967227, 0.009025205, 0.01079089, 0.009444602, 0.009450451, 0.010557937, 0.009673152, 0.009257417, 0.008830567, 0.008758461, 0.008985912, 0.009490985, 0.01062612, 0.008796607, 0.010888353, 0.008810774, 0.009033865]\n",
      "2021-02-11 23:15:14,694 : INFO : topic #29 (0.008): 0.042*\"to\" + 0.040*\"is\" + 0.030*\",\" + 0.022*\"secur\" + 0.020*\"refer\" + 0.018*\"for\" + 0.017*\"t\" + 0.017*\"and\" + 0.016*\"properti\" + 0.016*\"system\"\n",
      "2021-02-11 23:15:14,695 : INFO : topic #13 (0.009): 0.049*\",\" + 0.037*\"and\" + 0.031*\"-\" + 0.029*\"to\" + 0.029*\"is\" + 0.023*\"system\" + 0.019*\"j\" + 0.015*\"in\" + 0.015*\"use\" + 0.015*\"key\"\n",
      "2021-02-11 23:15:14,696 : INFO : topic #20 (0.012): 0.220*\"[\" + 0.216*\"algorithm\" + 0.213*\"])\" + 0.192*\"(\" + 0.022*\"g6\" + 0.020*\"permut\" + 0.017*\"polyphas\" + 0.016*\"-\" + 0.013*\"determin\" + 0.012*\"f1\"\n"
     ]
    },
    {
     "name": "stderr",
     "output_type": "stream",
     "text": [
      "2021-02-11 23:15:14,697 : INFO : topic #37 (0.012): 0.281*\"s\" + 0.273*\"'\" + 0.088*\"integr\" + 0.037*\"and\" + 0.032*\"-\" + 0.029*\"algorithm\" + 0.018*\"mechan\" + 0.018*\"partit\" + 0.016*\"simpson\" + 0.016*\"(\"\n",
      "2021-02-11 23:15:14,698 : INFO : topic #57 (0.020): 0.384*\"(\" + 0.378*\")\" + 0.203*\"algorithm\" + 0.007*\"by\" + 0.006*\"-\" + 0.004*\"squar\" + 0.003*\"jacobi\" + 0.002*\"plot\" + 0.002*\"on\" + 0.001*\"move\"\n",
      "2021-02-11 23:15:14,699 : INFO : topic diff=0.475879, rho=0.242536\n",
      "2021-02-11 23:15:18,141 : INFO : -6.390 per-word bound, 83.8 perplexity estimate based on a held-out corpus of 3204 documents with 149996 words\n",
      "2021-02-11 23:15:18,142 : INFO : PROGRESS: pass 16, at document #3204/3204\n",
      "2021-02-11 23:15:21,121 : INFO : optimized alpha [0.008992585, 0.009429211, 0.010518048, 0.009222299, 0.010233708, 0.008890443, 0.010011425, 0.009219962, 0.008773407, 0.009069232, 0.009668641, 0.009427245, 0.009840003, 0.008457342, 0.009307595, 0.008672541, 0.010355177, 0.010563365, 0.009149984, 0.009420512, 0.012171989, 0.008964647, 0.010040327, 0.009140015, 0.0090461895, 0.009391887, 0.00869277, 0.010227363, 0.009248794, 0.008385098, 0.008547385, 0.008783747, 0.0096427975, 0.009447528, 0.008785747, 0.0098120915, 0.009016599, 0.012237932, 0.008757787, 0.008990308, 0.009352574, 0.008698792, 0.009285665, 0.009574552, 0.0105998, 0.010756174, 0.009312183, 0.009529798, 0.0094619645, 0.0089832395, 0.009431236, 0.009219788, 0.00857717, 0.009376884, 0.009164666, 0.008492336, 0.009150014, 0.020647222, 0.0092622815, 0.009114088, 0.010286525, 0.009234923, 0.010527445, 0.008745928, 0.009348194, 0.0093487585, 0.008585564, 0.010319436, 0.009081749, 0.008989922, 0.008767284, 0.01104864, 0.011017303, 0.009405067, 0.008706774, 0.008938867, 0.008865445, 0.008695979, 0.009522007, 0.00921353, 0.009246674, 0.0093287, 0.0094893025, 0.009699329, 0.009018484, 0.010823182, 0.009453623, 0.0094498545, 0.010634277, 0.009701709, 0.009237536, 0.008812355, 0.008732317, 0.008963634, 0.009516484, 0.010695787, 0.008766818, 0.01095962, 0.00877633, 0.009023558]\n",
      "2021-02-11 23:15:21,144 : INFO : topic #29 (0.008): 0.042*\"to\" + 0.040*\"is\" + 0.030*\",\" + 0.022*\"secur\" + 0.021*\"refer\" + 0.018*\"for\" + 0.017*\"t\" + 0.017*\"and\" + 0.017*\"properti\" + 0.016*\"system\"\n",
      "2021-02-11 23:15:21,144 : INFO : topic #13 (0.008): 0.049*\",\" + 0.037*\"and\" + 0.031*\"-\" + 0.029*\"to\" + 0.029*\"is\" + 0.023*\"system\" + 0.019*\"j\" + 0.015*\"in\" + 0.015*\"key\" + 0.015*\"use\"\n",
      "2021-02-11 23:15:21,145 : INFO : topic #37 (0.012): 0.288*\"s\" + 0.279*\"'\" + 0.086*\"integr\" + 0.038*\"and\" + 0.032*\"-\" + 0.027*\"algorithm\" + 0.018*\"partit\" + 0.018*\"mechan\" + 0.016*\"simpson\" + 0.014*\"(\"\n",
      "2021-02-11 23:15:21,145 : INFO : topic #20 (0.012): 0.220*\"[\" + 0.217*\"algorithm\" + 0.213*\"])\" + 0.194*\"(\" + 0.022*\"g6\" + 0.020*\"permut\" + 0.017*\"polyphas\" + 0.017*\"-\" + 0.013*\"determin\" + 0.012*\"f1\"\n",
      "2021-02-11 23:15:21,146 : INFO : topic #57 (0.021): 0.387*\"(\" + 0.379*\")\" + 0.201*\"algorithm\" + 0.007*\"by\" + 0.006*\"-\" + 0.003*\"jacobi\" + 0.003*\"squar\" + 0.002*\"plot\" + 0.001*\"on\" + 0.001*\"move\"\n",
      "2021-02-11 23:15:21,148 : INFO : topic diff=0.445922, rho=0.235702\n",
      "2021-02-11 23:15:24,688 : INFO : -6.382 per-word bound, 83.4 perplexity estimate based on a held-out corpus of 3204 documents with 149996 words\n",
      "2021-02-11 23:15:24,689 : INFO : PROGRESS: pass 17, at document #3204/3204\n",
      "2021-02-11 23:15:27,720 : INFO : optimized alpha [0.008978827, 0.009419543, 0.010594104, 0.00920736, 0.010275689, 0.008868507, 0.010054384, 0.009204184, 0.008745351, 0.009037653, 0.00968449, 0.00943191, 0.009863243, 0.008414737, 0.009315835, 0.008637538, 0.010370364, 0.010637522, 0.00913636, 0.009451584, 0.012317828, 0.008950887, 0.010042918, 0.009139156, 0.009034566, 0.009395381, 0.008674435, 0.010273239, 0.009244914, 0.008345165, 0.008507958, 0.008758884, 0.009655999, 0.009469466, 0.008763618, 0.009843912, 0.008997478, 0.012426944, 0.008729146, 0.008976558, 0.0093400655, 0.0086713135, 0.009281754, 0.009596129, 0.010649596, 0.010835668, 0.009309435, 0.009527491, 0.0094879605, 0.008972575, 0.009455498, 0.009220002, 0.008539343, 0.009394374, 0.009154513, 0.0084493095, 0.009136882, 0.021552626, 0.009262591, 0.009115593, 0.010340729, 0.009212508, 0.010643296, 0.008719446, 0.0093487045, 0.009335543, 0.00854643, 0.010365889, 0.009053571, 0.008980894, 0.008744515, 0.0111208465, 0.011125568, 0.00941228, 0.008670598, 0.0089318035, 0.008843678, 0.008677151, 0.00953632, 0.009198681, 0.00922875, 0.009335466, 0.009495022, 0.009727715, 0.009013356, 0.0108521525, 0.009464455, 0.009449376, 0.010711554, 0.0097294375, 0.009218433, 0.008795493, 0.008706569, 0.008942894, 0.009539155, 0.010763494, 0.008740098, 0.011028092, 0.008745147, 0.0090136845]\n",
      "2021-02-11 23:15:27,743 : INFO : topic #29 (0.008): 0.042*\"to\" + 0.040*\"is\" + 0.030*\",\" + 0.022*\"secur\" + 0.022*\"refer\" + 0.018*\"for\" + 0.018*\"properti\" + 0.017*\"t\" + 0.017*\"and\" + 0.016*\"system\"\n",
      "2021-02-11 23:15:27,744 : INFO : topic #55 (0.008): 0.043*\"to\" + 0.036*\",\" + 0.027*\"in\" + 0.025*\"for\" + 0.023*\"is\" + 0.022*\"-\" + 0.022*\"use\" + 0.016*\"or\" + 0.013*\"and\" + 0.013*\"row\"\n",
      "2021-02-11 23:15:27,745 : INFO : topic #20 (0.012): 0.220*\"[\" + 0.218*\"algorithm\" + 0.213*\"])\" + 0.195*\"(\" + 0.022*\"g6\" + 0.020*\"permut\" + 0.017*\"polyphas\" + 0.017*\"-\" + 0.013*\"determin\" + 0.012*\"f1\"\n",
      "2021-02-11 23:15:27,746 : INFO : topic #37 (0.012): 0.294*\"s\" + 0.284*\"'\" + 0.085*\"integr\" + 0.038*\"and\" + 0.032*\"-\" + 0.026*\"algorithm\" + 0.018*\"partit\" + 0.018*\"mechan\" + 0.016*\"simpson\" + 0.014*\"product\"\n",
      "2021-02-11 23:15:27,747 : INFO : topic #57 (0.022): 0.389*\"(\" + 0.381*\")\" + 0.199*\"algorithm\" + 0.007*\"by\" + 0.006*\"-\" + 0.003*\"jacobi\" + 0.002*\"squar\" + 0.002*\"plot\" + 0.001*\"on\" + 0.001*\"move\"\n",
      "2021-02-11 23:15:27,748 : INFO : topic diff=0.417424, rho=0.229416\n",
      "2021-02-11 23:15:31,120 : INFO : -6.374 per-word bound, 82.9 perplexity estimate based on a held-out corpus of 3204 documents with 149996 words\n",
      "2021-02-11 23:15:31,121 : INFO : PROGRESS: pass 18, at document #3204/3204\n",
      "2021-02-11 23:15:33,986 : INFO : optimized alpha [0.0089687845, 0.009408912, 0.010668221, 0.009196907, 0.010321555, 0.008847411, 0.010098995, 0.009192244, 0.008720207, 0.009007269, 0.009701283, 0.009439844, 0.0098879095, 0.008374391, 0.0093284985, 0.008604496, 0.010383623, 0.010710493, 0.009125226, 0.009481184, 0.012456873, 0.008941489, 0.010046913, 0.009138401, 0.009025932, 0.009399513, 0.00865865, 0.010317129, 0.0092412215, 0.008306775, 0.008471842, 0.00873373, 0.009668851, 0.009493477, 0.008744818, 0.009876252, 0.008979731, 0.012613138, 0.008702195, 0.008964634, 0.009326738, 0.008647316, 0.009278048, 0.009619144, 0.010697252, 0.010913115, 0.009308169, 0.009527334, 0.009515312, 0.008964248, 0.009479108, 0.00922158, 0.008502373, 0.009413387, 0.009144118, 0.008409139, 0.00912492, 0.022468692, 0.009262329, 0.009117108, 0.010392755, 0.00919226, 0.010758917, 0.008697046, 0.0093486225, 0.0093248375, 0.008508797, 0.010410313, 0.009027756, 0.00897289, 0.008721986, 0.011194224, 0.0112359915, 0.009421371, 0.008635203, 0.008926305, 0.008822725, 0.00865598, 0.009554328, 0.009186376, 0.009213478, 0.009342752, 0.0095019825, 0.009755989, 0.009008485, 0.010884144, 0.009473693, 0.009446965, 0.010785368, 0.009754384, 0.0091981, 0.008779908, 0.008683056, 0.008922944, 0.009561901, 0.0108354185, 0.008715635, 0.011097043, 0.008713304, 0.009004215]\n",
      "2021-02-11 23:15:34,009 : INFO : topic #29 (0.008): 0.042*\"to\" + 0.040*\"is\" + 0.030*\",\" + 0.024*\"refer\" + 0.022*\"secur\" + 0.018*\"properti\" + 0.018*\"for\" + 0.017*\"t\" + 0.017*\"and\" + 0.016*\"system\"\n",
      "2021-02-11 23:15:34,010 : INFO : topic #13 (0.008): 0.050*\",\" + 0.037*\"and\" + 0.030*\"-\" + 0.029*\"is\" + 0.029*\"to\" + 0.023*\"system\" + 0.019*\"j\" + 0.016*\"key\" + 0.015*\"in\" + 0.015*\"use\"\n",
      "2021-02-11 23:15:34,010 : INFO : topic #20 (0.012): 0.220*\"[\" + 0.219*\"algorithm\" + 0.213*\"])\" + 0.196*\"(\" + 0.022*\"g6\" + 0.020*\"permut\" + 0.017*\"-\" + 0.017*\"polyphas\" + 0.013*\"determin\" + 0.012*\"f1\"\n",
      "2021-02-11 23:15:34,011 : INFO : topic #37 (0.013): 0.300*\"s\" + 0.289*\"'\" + 0.083*\"integr\" + 0.038*\"and\" + 0.032*\"-\" + 0.025*\"algorithm\" + 0.018*\"partit\" + 0.017*\"mechan\" + 0.016*\"simpson\" + 0.014*\"product\"\n",
      "2021-02-11 23:15:34,012 : INFO : topic #57 (0.022): 0.391*\"(\" + 0.381*\")\" + 0.198*\"algorithm\" + 0.007*\"by\" + 0.006*\"-\" + 0.003*\"jacobi\" + 0.002*\"plot\" + 0.002*\"squar\" + 0.001*\"move\" + 0.001*\"on\"\n"
     ]
    },
    {
     "name": "stderr",
     "output_type": "stream",
     "text": [
      "2021-02-11 23:15:34,013 : INFO : topic diff=0.391466, rho=0.223607\n",
      "2021-02-11 23:15:37,311 : INFO : -6.368 per-word bound, 82.6 perplexity estimate based on a held-out corpus of 3204 documents with 149996 words\n",
      "2021-02-11 23:15:37,312 : INFO : PROGRESS: pass 19, at document #3204/3204\n",
      "2021-02-11 23:15:40,221 : INFO : optimized alpha [0.008959156, 0.009400674, 0.010743432, 0.009186252, 0.010362686, 0.008830146, 0.0101424465, 0.009180755, 0.008697182, 0.00897863, 0.009718975, 0.009448264, 0.009913278, 0.008335528, 0.009341521, 0.008573843, 0.010395137, 0.01078093, 0.009111993, 0.009509373, 0.012595439, 0.008931237, 0.010048766, 0.00913773, 0.009017643, 0.009403579, 0.0086440435, 0.0103605725, 0.009239639, 0.008269789, 0.008437057, 0.008710103, 0.009684701, 0.009514905, 0.0087236855, 0.00990638, 0.0089639, 0.0128010195, 0.008678023, 0.008952536, 0.009315212, 0.008623587, 0.00927517, 0.009642232, 0.010743643, 0.010987907, 0.009305736, 0.009525262, 0.009543249, 0.0089599425, 0.009502122, 0.009222542, 0.008466172, 0.009429334, 0.0091353925, 0.008371602, 0.009114689, 0.02339689, 0.009264062, 0.009121182, 0.010444178, 0.009175915, 0.010871372, 0.008674861, 0.009347962, 0.009315205, 0.008471379, 0.01045642, 0.009003501, 0.00896829, 0.008702088, 0.011268807, 0.011345473, 0.009430257, 0.008602284, 0.0089222705, 0.008803752, 0.008636784, 0.009571914, 0.009175803, 0.009196226, 0.009349886, 0.009508806, 0.009786228, 0.009004445, 0.010916801, 0.009483371, 0.009447988, 0.010861767, 0.009784722, 0.0091817295, 0.008764915, 0.00866039, 0.008904346, 0.009584038, 0.010906264, 0.008692072, 0.0111634815, 0.008683232, 0.008995127]\n",
      "2021-02-11 23:15:40,245 : INFO : topic #29 (0.008): 0.042*\"to\" + 0.040*\"is\" + 0.030*\",\" + 0.024*\"refer\" + 0.023*\"secur\" + 0.019*\"properti\" + 0.018*\"for\" + 0.017*\"t\" + 0.017*\"and\" + 0.016*\"system\"\n",
      "2021-02-11 23:15:40,246 : INFO : topic #55 (0.008): 0.044*\"to\" + 0.036*\",\" + 0.028*\"in\" + 0.025*\"for\" + 0.023*\"is\" + 0.022*\"-\" + 0.022*\"use\" + 0.017*\"or\" + 0.014*\"row\" + 0.013*\"and\"\n",
      "2021-02-11 23:15:40,246 : INFO : topic #20 (0.013): 0.221*\"algorithm\" + 0.220*\"[\" + 0.213*\"])\" + 0.196*\"(\" + 0.023*\"g6\" + 0.021*\"permut\" + 0.017*\"-\" + 0.017*\"polyphas\" + 0.013*\"determin\" + 0.012*\"f1\"\n",
      "2021-02-11 23:15:40,247 : INFO : topic #37 (0.013): 0.305*\"s\" + 0.293*\"'\" + 0.082*\"integr\" + 0.038*\"and\" + 0.031*\"-\" + 0.024*\"algorithm\" + 0.018*\"partit\" + 0.017*\"mechan\" + 0.015*\"simpson\" + 0.014*\"product\"\n",
      "2021-02-11 23:15:40,247 : INFO : topic #57 (0.023): 0.393*\"(\" + 0.382*\")\" + 0.196*\"algorithm\" + 0.007*\"by\" + 0.006*\"-\" + 0.003*\"jacobi\" + 0.002*\"plot\" + 0.002*\"squar\" + 0.001*\"move\" + 0.001*\"on\"\n",
      "2021-02-11 23:15:40,248 : INFO : topic diff=0.367016, rho=0.218218\n"
     ]
    },
    {
     "data": {
      "text/plain": [
       "[(0, 0.0045695426),\n",
       " (1, 0.004794735),\n",
       " (2, 0.0054795975),\n",
       " (3, 0.0046853707),\n",
       " (4, 0.005285401),\n",
       " (5, 0.004503742),\n",
       " (6, 0.00517307),\n",
       " (7, 0.0046825674),\n",
       " (8, 0.004435925),\n",
       " (9, 0.004579475),\n",
       " (10, 0.0049570818),\n",
       " (11, 0.0048190076),\n",
       " (12, 0.0050561843),\n",
       " (13, 0.004251466),\n",
       " (14, 0.0047645643),\n",
       " (15, 0.004373017),\n",
       " (16, 0.0053019524),\n",
       " (17, 0.0054987227),\n",
       " (18, 0.0046474957),\n",
       " (19, 0.004850176),\n",
       " (20, 0.0064241984),\n",
       " (21, 0.0045553027),\n",
       " (22, 0.005125289),\n",
       " (23, 0.0046606227),\n",
       " (24, 0.004599373),\n",
       " (25, 0.0047962167),\n",
       " (26, 0.004408822),\n",
       " (27, 0.005284323),\n",
       " (28, 0.0047126003),\n",
       " (29, 0.004217936),\n",
       " (30, 0.00430325),\n",
       " (31, 0.004442515),\n",
       " (32, 0.004939601),\n",
       " (33, 0.004852997),\n",
       " (34, 0.0044494425),\n",
       " (35, 0.51508564),\n",
       " (36, 0.0045719617),\n",
       " (37, 0.0065290527),\n",
       " (38, 0.004426153),\n",
       " (39, 0.0045661656),\n",
       " (40, 0.004751146),\n",
       " (41, 0.0043983883),\n",
       " (42, 0.004730723),\n",
       " (43, 0.0049179397),\n",
       " (44, 0.005479705),\n",
       " (45, 0.0056042895),\n",
       " (46, 0.0047463127),\n",
       " (47, 0.00485828),\n",
       " (48, 0.0048674545),\n",
       " (49, 0.0045699435),\n",
       " (50, 0.004846478),\n",
       " (51, 0.0047038803),\n",
       " (52, 0.0043181),\n",
       " (53, 0.0048093526),\n",
       " (54, 0.00465943),\n",
       " (55, 0.0042698653),\n",
       " (56, 0.004648871),\n",
       " (57, 0.011933388),\n",
       " (58, 0.004725057),\n",
       " (59, 0.0046521826),\n",
       " (60, 0.0053269654),\n",
       " (61, 0.0046800985),\n",
       " (62, 0.005544852),\n",
       " (63, 0.00442454),\n",
       " (64, 0.0047678496),\n",
       " (65, 0.004751142),\n",
       " (66, 0.004320756),\n",
       " (67, 0.005333209),\n",
       " (68, 0.00459216),\n",
       " (69, 0.004574201),\n",
       " (70, 0.0044384273),\n",
       " (71, 0.0057475604),\n",
       " (72, 0.0057866634),\n",
       " (73, 0.0048098234),\n",
       " (74, 0.0043875226),\n",
       " (75, 0.0045507294),\n",
       " (76, 0.00449028),\n",
       " (77, 0.004405119),\n",
       " (78, 0.0048820744),\n",
       " (79, 0.004680041),\n",
       " (80, 0.0046904576),\n",
       " (81, 0.004768831),\n",
       " (82, 0.004849887),\n",
       " (83, 0.0049913833),\n",
       " (84, 0.0045926417),\n",
       " (85, 0.005568023),\n",
       " (86, 0.0048369137),\n",
       " (87, 0.004818867),\n",
       " (88, 0.0055399532),\n",
       " (89, 0.0049906154),\n",
       " (90, 0.0046830643),\n",
       " (91, 0.0044704713),\n",
       " (92, 0.004417159),\n",
       " (93, 0.004541587),\n",
       " (94, 0.004888258),\n",
       " (95, 0.0055626486),\n",
       " (96, 0.0044333185),\n",
       " (97, 0.0056938403),\n",
       " (98, 0.0044288095),\n",
       " (99, 0.004587889)]"
      ]
     },
     "execution_count": 87,
     "metadata": {},
     "output_type": "execute_result"
    }
   ],
   "source": [
    "##### Function check\n",
    "lda = LdaRetrievalModel(doc_repr_2)\n",
    "lda.train_model()\n",
    "\n",
    "# you can now get an LDA vector for a given query in the following way:\n",
    "lda.vectorize_query(\"report\")\n",
    "##### "
   ]
  },
  {
   "cell_type": "markdown",
   "metadata": {
    "deletable": false,
    "editable": false,
    "id": "Ytw2BnNn4IWu",
    "nbgrader": {
     "cell_type": "markdown",
     "checksum": "32d83b6ea79ca3ddb789a7f8805a1b25",
     "grade": false,
     "grade_id": "cell-0e24b727d5908c0e",
     "locked": true,
     "points": 5,
     "schema_version": 3,
     "solution": false,
     "task": true
    }
   },
   "source": [
    "\\#### Please do not change this. This cell is used for grading."
   ]
  },
  {
   "cell_type": "markdown",
   "metadata": {
    "deletable": false,
    "editable": false,
    "id": "PqZBboVz4IWu",
    "nbgrader": {
     "cell_type": "markdown",
     "checksum": "114a934f0b9ce696e6cf09d3b8da6a3d",
     "grade": false,
     "grade_id": "cell-b1bffcb970b18aeb",
     "locked": true,
     "schema_version": 3,
     "solution": false,
     "task": false
    }
   },
   "source": [
    "---\n",
    "Now we can use the `DenseRetrievalModel` class to obtain an LDA search function.\n",
    "You can test your LDA model in the following cell: Try finding queries which are lexically different to documents, but semantically similar - does LDA work well for these queries?!"
   ]
  },
  {
   "cell_type": "code",
   "execution_count": 88,
   "metadata": {
    "ExecuteTime": {
     "end_time": "2021-02-11T13:03:17.091241Z",
     "start_time": "2021-02-11T13:03:14.342200Z"
    },
    "id": "TnPkNnQb4IWu"
   },
   "outputs": [
    {
     "data": {
      "application/vnd.jupyter.widget-view+json": {
       "model_id": "cc5dec9e132941daba21ef587a6c4eb9",
       "version_major": 2,
       "version_minor": 0
      },
      "text/plain": [
       "Text(value='', description='Search Bar')"
      ]
     },
     "metadata": {},
     "output_type": "display_data"
    },
    {
     "name": "stdout",
     "output_type": "stream",
     "text": [
      "Searching for: 'report' (SEARCH FN: <bound method DenseRetrievalRanker.search of <__main__.DenseRetrievalRanker object at 0x00000268C0E004C0>>)\n"
     ]
    },
    {
     "name": "stderr",
     "output_type": "stream",
     "text": [
      "<ipython-input-83-fe3320dad518>:25: RuntimeWarning: invalid value encountered in true_divide\n",
      "  d1 = vec_1*np.log2(2*vec_1/(vec_1+vec_2))\n",
      "<ipython-input-83-fe3320dad518>:26: RuntimeWarning: invalid value encountered in true_divide\n",
      "  d2 = vec_2*np.log2(2*vec_2/(vec_1+vec_2))\n"
     ]
    },
    {
     "data": {
      "text/html": [
       "<ul><li>Document #929(0.9999999999928751): \n",
       "Glossary Construction\n",
       "</li><li>Document #2425(0.9797832572466046): \n",
       "The Programmer as Navigator\n",
       "</li><li>Document #165(0.9797827303964182): \n",
       "NELIAC-A Dialect of ALGOL\n",
       "</li><li>Document #1339(0.9289668968337375): \n",
       "A Contribution to the Development of ALGOL\n",
       "</li><li>Document #947(0.9289649544055535): ... to the ALGOL 60 <strong>Report</strong> ...</li></ul>"
      ],
      "text/plain": [
       "<IPython.core.display.HTML object>"
      ]
     },
     "metadata": {},
     "output_type": "display_data"
    }
   ],
   "source": [
    "drm_lda = DenseRetrievalRanker(lda, jenson_shannon_sim)\n",
    "\n",
    "# test your LDA model\n",
    "search_fn = drm_lda.search\n",
    "\n",
    "text = widgets.Text(description=\"Search Bar\", width=200)\n",
    "display(text)\n",
    "\n",
    "\n",
    "text.on_submit(handle_submit_2)"
   ]
  },
  {
   "cell_type": "markdown",
   "metadata": {
    "deletable": false,
    "editable": false,
    "id": "xa0oM-SP4IWu",
    "nbgrader": {
     "cell_type": "markdown",
     "checksum": "9d7f15863b655119b45f4d89354e5661",
     "grade": false,
     "grade_id": "cell-190cd0854b2791cc",
     "locked": true,
     "schema_version": 3,
     "solution": false,
     "task": false
    }
   },
   "source": [
    "## Section 8: Word2Vec/Doc2Vec (20 points) <a class=\"anchor\" id=\"2vec\"></a>\n",
    "\n",
    "[Back to Part 2](#part2)\n",
    "\n",
    "We will implement two other methods here, the Word2Vec model and the Doc2Vec model, also using `gensim`. Word2Vec creates representations of words, not documents, so the word level vectors need to be aggregated to obtain a representation for the document. Here, we will simply take the mean of the vectors. \n",
    "\n",
    "\n",
    "A drawback of these models is that they need a lot of training data. Our dataset is tiny, so in addition to using a model trained on the data, we will also use a pre-trained model for Word2Vec (this will be automatically downloaded).     \n",
    "\n",
    "*Note*:\n",
    "1. The code in vectorize_documents / vectorize_query should return gensim-like vectors i.e `[(dim, val), .. (dim, val)]`. \n",
    "2. For Word2Vec: You should also handle the following two cases: (a) A word in the query is not present in the vocabulary of the model and (b) none of the words in the query are present in the model - you can return 0 scores for all documents in this case. For either of these, you can check if a `word` is present in the vocab by using `word in self.model`\n"
   ]
  },
  {
   "cell_type": "code",
   "execution_count": 89,
   "metadata": {
    "ExecuteTime": {
     "end_time": "2021-02-11T12:59:58.829051Z",
     "start_time": "2021-02-11T12:59:31.205Z"
    },
    "deletable": false,
    "id": "gPHOpyp34IWu",
    "nbgrader": {
     "cell_type": "code",
     "checksum": "83ab733608ed14c29c09b36b4e1b6daa",
     "grade": false,
     "grade_id": "cell-2b73759f9baf688f",
     "locked": false,
     "schema_version": 3,
     "solution": true,
     "task": false
    }
   },
   "outputs": [
    {
     "name": "stderr",
     "output_type": "stream",
     "text": [
      "2021-02-11 23:16:43,481 : INFO : adding document #0 to Dictionary(0 unique tokens: [])\n",
      "2021-02-11 23:16:43,665 : INFO : built Dictionary(6207 unique tokens: ['-', 'algebra', 'intern', 'languag', 'preliminari']...) from 3204 documents (total 196863 corpus positions)\n",
      "2021-02-11 23:16:43,672 : INFO : discarding 4798 tokens: [('of', 2061), ('repeat', 8), ('glossari', 7), ('inspect', 8), ('the', 1794), ('uncol', 2), ('a', 1808), ('rung', 9), ('secant', 2), ('.', 1605)]...\n",
      "2021-02-11 23:16:43,673 : INFO : keeping 1409 tokens which were in no less than 10 and no more than 1602 (=50.0%) documents\n",
      "2021-02-11 23:16:43,676 : INFO : resulting dictionary: Dictionary(1409 unique tokens: ['-', 'algebra', 'intern', 'languag', 'preliminari']...)\n",
      "2021-02-11 23:16:43,779 : INFO : collecting all words and their counts\n",
      "2021-02-11 23:16:43,780 : INFO : PROGRESS: at sentence #0, processed 0 words, keeping 0 word types\n",
      "2021-02-11 23:16:43,812 : INFO : collected 6207 word types from a corpus of 196863 raw words and 3204 sentences\n",
      "2021-02-11 23:16:43,813 : INFO : Loading a fresh vocabulary\n",
      "2021-02-11 23:16:43,823 : INFO : effective_min_count=1 retains 6207 unique words (100% of original 6207, drops 0)\n",
      "2021-02-11 23:16:43,824 : INFO : effective_min_count=1 leaves 196863 word corpus (100% of original 196863, drops 0)\n",
      "2021-02-11 23:16:43,849 : INFO : deleting the raw counts dictionary of 6207 items\n",
      "2021-02-11 23:16:43,850 : INFO : sample=0.001 downsamples 42 most-common words\n",
      "2021-02-11 23:16:43,852 : INFO : downsampling leaves estimated 136752 word corpus (69.5% of prior 196863)\n",
      "2021-02-11 23:16:43,872 : INFO : estimated required memory for 6207 words and 100 dimensions: 8069100 bytes\n",
      "2021-02-11 23:16:43,872 : INFO : resetting layer weights\n",
      "2021-02-11 23:16:44,983 : INFO : training model with 3 workers on 6207 vocabulary and 100 features, using sg=0 hs=0 sample=0.001 negative=5 window=5\n",
      "2021-02-11 23:16:45,085 : INFO : worker thread finished; awaiting finish of 2 more threads\n",
      "2021-02-11 23:16:45,095 : INFO : worker thread finished; awaiting finish of 1 more threads\n",
      "2021-02-11 23:16:45,096 : INFO : worker thread finished; awaiting finish of 0 more threads\n",
      "2021-02-11 23:16:45,096 : INFO : EPOCH - 1 : training on 196863 raw words (136886 effective words) took 0.1s, 1256407 effective words/s\n",
      "2021-02-11 23:16:45,200 : INFO : worker thread finished; awaiting finish of 2 more threads\n",
      "2021-02-11 23:16:45,202 : INFO : worker thread finished; awaiting finish of 1 more threads\n",
      "2021-02-11 23:16:45,208 : INFO : worker thread finished; awaiting finish of 0 more threads\n",
      "2021-02-11 23:16:45,208 : INFO : EPOCH - 2 : training on 196863 raw words (136642 effective words) took 0.1s, 1289307 effective words/s\n",
      "2021-02-11 23:16:45,309 : INFO : worker thread finished; awaiting finish of 2 more threads\n",
      "2021-02-11 23:16:45,316 : INFO : worker thread finished; awaiting finish of 1 more threads\n",
      "2021-02-11 23:16:45,318 : INFO : worker thread finished; awaiting finish of 0 more threads\n",
      "2021-02-11 23:16:45,319 : INFO : EPOCH - 3 : training on 196863 raw words (136546 effective words) took 0.1s, 1281940 effective words/s\n",
      "2021-02-11 23:16:45,431 : INFO : worker thread finished; awaiting finish of 2 more threads\n",
      "2021-02-11 23:16:45,435 : INFO : worker thread finished; awaiting finish of 1 more threads\n",
      "2021-02-11 23:16:45,439 : INFO : worker thread finished; awaiting finish of 0 more threads\n",
      "2021-02-11 23:16:45,440 : INFO : EPOCH - 4 : training on 196863 raw words (136666 effective words) took 0.1s, 1169351 effective words/s\n",
      "2021-02-11 23:16:45,548 : INFO : worker thread finished; awaiting finish of 2 more threads\n",
      "2021-02-11 23:16:45,550 : INFO : worker thread finished; awaiting finish of 1 more threads\n",
      "2021-02-11 23:16:45,552 : INFO : worker thread finished; awaiting finish of 0 more threads\n",
      "2021-02-11 23:16:45,553 : INFO : EPOCH - 5 : training on 196863 raw words (136666 effective words) took 0.1s, 1259562 effective words/s\n",
      "2021-02-11 23:16:45,553 : INFO : training on a 984315 raw words (683406 effective words) took 0.6s, 1199575 effective words/s\n",
      "<ipython-input-89-64879a752d76>:40: DeprecationWarning: Call to deprecated `__contains__` (Method will be removed in 4.0.0, use self.wv.__contains__() instead).\n",
      "  if token in self.model:\n",
      "<ipython-input-89-64879a752d76>:41: DeprecationWarning: Call to deprecated `__getitem__` (Method will be removed in 4.0.0, use self.wv.__getitem__() instead).\n",
      "  accum_vecs.append(self.model[token])\n"
     ]
    },
    {
     "data": {
      "text/plain": [
       "[(0, -0.08439114),\n",
       " (1, 0.84338164),\n",
       " (2, 0.3297585),\n",
       " (3, 0.03780905),\n",
       " (4, -0.102751896),\n",
       " (5, 0.22660878),\n",
       " (6, -0.33965862),\n",
       " (7, -0.51527923),\n",
       " (8, -0.31847048),\n",
       " (9, -0.39252475),\n",
       " (10, -0.55596185),\n",
       " (11, 0.19546646),\n",
       " (12, 0.06426741),\n",
       " (13, 0.25020143),\n",
       " (14, 0.04780257),\n",
       " (15, -0.03263646),\n",
       " (16, -0.290819),\n",
       " (17, -0.38299578),\n",
       " (18, -0.23876968),\n",
       " (19, 0.28104204),\n",
       " (20, 0.43909633),\n",
       " (21, 0.4619552),\n",
       " (22, -0.13755687),\n",
       " (23, 0.1780646),\n",
       " (24, 0.34590843),\n",
       " (25, 0.46119037),\n",
       " (26, 0.40542668),\n",
       " (27, 0.24749088),\n",
       " (28, 0.3566908),\n",
       " (29, -0.49610707),\n",
       " (30, -0.42349064),\n",
       " (31, 0.17554015),\n",
       " (32, -0.15781762),\n",
       " (33, -0.20182766),\n",
       " (34, 0.35504407),\n",
       " (35, 0.09540253),\n",
       " (36, 0.19261625),\n",
       " (37, -0.3282573),\n",
       " (38, 0.3091924),\n",
       " (39, -0.21200833),\n",
       " (40, -0.19318871),\n",
       " (41, -0.09664083),\n",
       " (42, 0.33663198),\n",
       " (43, -0.283726),\n",
       " (44, -0.16384694),\n",
       " (45, 0.30886054),\n",
       " (46, 0.33444712),\n",
       " (47, 0.4601469),\n",
       " (48, -0.4446443),\n",
       " (49, -0.31010947),\n",
       " (50, 0.42449513),\n",
       " (51, 0.18272111),\n",
       " (52, -0.021352869),\n",
       " (53, 0.36451554),\n",
       " (54, -0.14055404),\n",
       " (55, 0.38901603),\n",
       " (56, 0.46320334),\n",
       " (57, 0.28587112),\n",
       " (58, 0.4509459),\n",
       " (59, 0.53057337),\n",
       " (60, -0.03952105),\n",
       " (61, -0.081636265),\n",
       " (62, -0.59540445),\n",
       " (63, -0.8009061),\n",
       " (64, -0.04657964),\n",
       " (65, -0.062346667),\n",
       " (66, -0.27014494),\n",
       " (67, -0.4875435),\n",
       " (68, -0.4477698),\n",
       " (69, 0.4286997),\n",
       " (70, -0.03017963),\n",
       " (71, 0.52330494),\n",
       " (72, -0.9493594),\n",
       " (73, 0.33222535),\n",
       " (74, -0.05891727),\n",
       " (75, -0.5093314),\n",
       " (76, 0.117264375),\n",
       " (77, -0.0985756),\n",
       " (78, -0.18525529),\n",
       " (79, -0.41281265),\n",
       " (80, 0.07786589),\n",
       " (81, -0.6008196),\n",
       " (82, 0.4676407),\n",
       " (83, 0.17432438),\n",
       " (84, 0.59916425),\n",
       " (85, -0.47254407),\n",
       " (86, 0.2080406),\n",
       " (87, 0.0719554),\n",
       " (88, -0.42505705),\n",
       " (89, 0.09791364),\n",
       " (90, 0.39248803),\n",
       " (91, 0.48774064),\n",
       " (92, -0.5579343),\n",
       " (93, 0.47299027),\n",
       " (94, 0.095961325),\n",
       " (95, -0.044310983),\n",
       " (96, -0.19253893),\n",
       " (97, 0.61337477),\n",
       " (98, 0.22576989),\n",
       " (99, -0.42249468)]"
      ]
     },
     "execution_count": 89,
     "metadata": {},
     "output_type": "execute_result"
    }
   ],
   "source": [
    "# TODO: Implement this! (10 points)\n",
    "class W2VRetrievalModel(VectorSpaceRetrievalModel):\n",
    "    def __init__(self, doc_repr):\n",
    "        super().__init__(doc_repr)\n",
    "        \n",
    "        # the dimensionality of the vectors\n",
    "        self.size = 100 \n",
    "        self.min_count = 1\n",
    "    \n",
    "    def train_model(self):\n",
    "        \"\"\"\n",
    "        Trains the W2V model\n",
    "        \"\"\"\n",
    "        # YOUR CODE HERE\n",
    "        self.model = Word2Vec(self.documents, size=self.size, min_count=self.min_count) \n",
    "        \n",
    "    def vectorize_documents(self):\n",
    "        \"\"\"\n",
    "            Returns a doc_id -> vector dictionary\n",
    "        \"\"\"\n",
    "        # YOUR CODE HERE\n",
    "        vectors = {}\n",
    "        for (doc_id, doc) in self.doc_repr:\n",
    "            accum_vecs = []\n",
    "            for token in doc:\n",
    "                accum_vecs.append(self.model[token])\n",
    "            aggregated_vec = np.mean(accum_vecs, axis=0)\n",
    "            vectors[doc_id] = list(zip(range(self.size), aggregated_vec))\n",
    "        return vectors\n",
    "\n",
    "    def vectorize_query(self, query):\n",
    "        \"\"\"\n",
    "        Vectorizes the query using the W2V model\n",
    "        \"\"\"\n",
    "       \n",
    "        # YOUR CODE HERE\n",
    "        query = process_text(query, **config_2)\n",
    "        accum_vecs = []\n",
    "        for token in query:\n",
    "            if token in self.model:\n",
    "                accum_vecs.append(self.model[token])\n",
    "        aggregated_vec = np.mean(accum_vecs, axis=0)\n",
    "    \n",
    "        # If no tokens are in the model\n",
    "        if not accum_vecs:\n",
    "            return list(zip(range(self.size), 0))\n",
    "        else:\n",
    "            return list(zip(range(self.size), aggregated_vec))\n",
    "    \n",
    "    \n",
    "class W2VPretrainedRetrievalModel(W2VRetrievalModel):\n",
    "    def __init__(self, doc_repr):\n",
    "        super().__init__(doc_repr)\n",
    "        self.model_name = \"word2vec-google-news-300\"\n",
    "        self.size = 300\n",
    "    \n",
    "    def train_model(self):\n",
    "        \"\"\"\n",
    "        Loads the pretrained model\n",
    "        \"\"\"\n",
    "        self.model = g_downloader.load(self.model_name)\n",
    "\n",
    "w2v = W2VRetrievalModel(doc_repr_2)\n",
    "w2v.train_model()\n",
    "\n",
    "# you can now get a W2V vector for a given query in the following way:\n",
    "w2v.vectorize_query(\"report\")"
   ]
  },
  {
   "cell_type": "code",
   "execution_count": 90,
   "metadata": {
    "ExecuteTime": {
     "end_time": "2021-02-11T12:59:58.830049Z",
     "start_time": "2021-02-11T12:59:31.207Z"
    },
    "deletable": false,
    "editable": false,
    "id": "ATy5tnMV4IWv",
    "nbgrader": {
     "cell_type": "code",
     "checksum": "f92b5c5a8c6c4b80652b94223209ab0b",
     "grade": true,
     "grade_id": "cell-b31c0f8d214b8bdf",
     "locked": true,
     "points": 0,
     "schema_version": 3,
     "solution": false,
     "task": false
    }
   },
   "outputs": [
    {
     "name": "stderr",
     "output_type": "stream",
     "text": [
      "<ipython-input-89-64879a752d76>:40: DeprecationWarning: Call to deprecated `__contains__` (Method will be removed in 4.0.0, use self.wv.__contains__() instead).\n",
      "  if token in self.model:\n",
      "<ipython-input-89-64879a752d76>:41: DeprecationWarning: Call to deprecated `__getitem__` (Method will be removed in 4.0.0, use self.wv.__getitem__() instead).\n",
      "  accum_vecs.append(self.model[token])\n"
     ]
    }
   ],
   "source": [
    "assert len(w2v.vectorize_query(\"report\")) == 100\n",
    "assert len(w2v.vectorize_query(\"this is a sentence that is not mellifluous\")) == 100\n"
   ]
  },
  {
   "cell_type": "markdown",
   "metadata": {
    "deletable": false,
    "editable": false,
    "id": "lP0VtCid4IWv",
    "nbgrader": {
     "cell_type": "markdown",
     "checksum": "8dfaabebcb06f308a7ca61fdc5d369e7",
     "grade": false,
     "grade_id": "cell-c2614fa067386384",
     "locked": true,
     "points": 8,
     "schema_version": 3,
     "solution": false,
     "task": true
    }
   },
   "source": [
    "\\#### Please do not change this. This cell is used for grading."
   ]
  },
  {
   "cell_type": "code",
   "execution_count": 91,
   "metadata": {
    "ExecuteTime": {
     "end_time": "2021-02-11T12:59:58.830049Z",
     "start_time": "2021-02-11T12:59:31.209Z"
    },
    "id": "-aeBam5p4IWv"
   },
   "outputs": [
    {
     "name": "stderr",
     "output_type": "stream",
     "text": [
      "2021-02-11 23:16:59,156 : INFO : adding document #0 to Dictionary(0 unique tokens: [])\n",
      "2021-02-11 23:16:59,333 : INFO : built Dictionary(6207 unique tokens: ['-', 'algebra', 'intern', 'languag', 'preliminari']...) from 3204 documents (total 196863 corpus positions)\n",
      "2021-02-11 23:16:59,340 : INFO : discarding 4798 tokens: [('of', 2061), ('repeat', 8), ('glossari', 7), ('inspect', 8), ('the', 1794), ('uncol', 2), ('a', 1808), ('rung', 9), ('secant', 2), ('.', 1605)]...\n",
      "2021-02-11 23:16:59,341 : INFO : keeping 1409 tokens which were in no less than 10 and no more than 1602 (=50.0%) documents\n",
      "2021-02-11 23:16:59,344 : INFO : resulting dictionary: Dictionary(1409 unique tokens: ['-', 'algebra', 'intern', 'languag', 'preliminari']...)\n",
      "2021-02-11 23:16:59,442 : INFO : Creating C:\\Users\\bblaz/gensim-data\n"
     ]
    },
    {
     "name": "stdout",
     "output_type": "stream",
     "text": [
      "[========================--------------------------] 49.7% 826.6/1662.8MB downloaded"
     ]
    },
    {
     "name": "stderr",
     "output_type": "stream",
     "text": [
      "IOPub message rate exceeded.\n",
      "The notebook server will temporarily stop sending output\n",
      "to the client in order to avoid crashing it.\n",
      "To change this limit, set the config variable\n",
      "`--NotebookApp.iopub_msg_rate_limit`.\n",
      "\n",
      "Current values:\n",
      "NotebookApp.iopub_msg_rate_limit=1000.0 (msgs/sec)\n",
      "NotebookApp.rate_limit_window=3.0 (secs)\n",
      "\n"
     ]
    },
    {
     "name": "stdout",
     "output_type": "stream",
     "text": [
      "[==========================------------------------] 52.1% 866.7/1662.8MB downloaded"
     ]
    },
    {
     "name": "stderr",
     "output_type": "stream",
     "text": [
      "IOPub message rate exceeded.\n",
      "The notebook server will temporarily stop sending output\n",
      "to the client in order to avoid crashing it.\n",
      "To change this limit, set the config variable\n",
      "`--NotebookApp.iopub_msg_rate_limit`.\n",
      "\n",
      "Current values:\n",
      "NotebookApp.iopub_msg_rate_limit=1000.0 (msgs/sec)\n",
      "NotebookApp.rate_limit_window=3.0 (secs)\n",
      "\n"
     ]
    },
    {
     "name": "stdout",
     "output_type": "stream",
     "text": [
      "[=================================================-] 99.9% 1661.6/1662.8MB downloaded"
     ]
    },
    {
     "name": "stderr",
     "output_type": "stream",
     "text": [
      "IOPub message rate exceeded.\n",
      "The notebook server will temporarily stop sending output\n",
      "to the client in order to avoid crashing it.\n",
      "To change this limit, set the config variable\n",
      "`--NotebookApp.iopub_msg_rate_limit`.\n",
      "\n",
      "Current values:\n",
      "NotebookApp.iopub_msg_rate_limit=1000.0 (msgs/sec)\n",
      "NotebookApp.rate_limit_window=3.0 (secs)\n",
      "\n",
      "2021-02-11 23:21:04,930 : INFO : loaded (3000000, 300) matrix from C:\\Users\\bblaz/gensim-data\\word2vec-google-news-300\\word2vec-google-news-300.gz\n"
     ]
    },
    {
     "data": {
      "text/plain": [
       "[(0, -0.14257812),\n",
       " (1, -0.1640625),\n",
       " (2, -0.09033203),\n",
       " (3, -0.11230469),\n",
       " (4, 0.100097656),\n",
       " (5, -0.041259766),\n",
       " (6, 0.048828125),\n",
       " (7, -0.13671875),\n",
       " (8, 0.19628906),\n",
       " (9, -0.13476562),\n",
       " (10, -0.017578125),\n",
       " (11, 0.032226562),\n",
       " (12, 0.095214844),\n",
       " (13, -0.10595703),\n",
       " (14, -0.16992188),\n",
       " (15, 0.041015625),\n",
       " (16, -0.26367188),\n",
       " (17, -0.0063171387),\n",
       " (18, -0.17773438),\n",
       " (19, -0.24023438),\n",
       " (20, 0.3515625),\n",
       " (21, -0.012207031),\n",
       " (22, -0.16210938),\n",
       " (23, -0.12060547),\n",
       " (24, 0.04321289),\n",
       " (25, 0.10986328),\n",
       " (26, 0.052490234),\n",
       " (27, 0.17871094),\n",
       " (28, -0.14550781),\n",
       " (29, 0.13769531),\n",
       " (30, -0.08203125),\n",
       " (31, -0.28320312),\n",
       " (32, -0.10888672),\n",
       " (33, -0.2890625),\n",
       " (34, 0.072265625),\n",
       " (35, -0.04736328),\n",
       " (36, 0.040283203),\n",
       " (37, 0.067871094),\n",
       " (38, 0.11669922),\n",
       " (39, 0.000831604),\n",
       " (40, 0.068359375),\n",
       " (41, 0.12011719),\n",
       " (42, -0.088378906),\n",
       " (43, 0.33789062),\n",
       " (44, -0.044677734),\n",
       " (45, -0.030151367),\n",
       " (46, 0.0076904297),\n",
       " (47, -0.021118164),\n",
       " (48, -0.25390625),\n",
       " (49, 0.14941406),\n",
       " (50, 0.3984375),\n",
       " (51, 0.021606445),\n",
       " (52, -0.02319336),\n",
       " (53, 0.0063476562),\n",
       " (54, 0.008239746),\n",
       " (55, -0.16894531),\n",
       " (56, 0.037353516),\n",
       " (57, -0.06347656),\n",
       " (58, 0.1171875),\n",
       " (59, -0.1484375),\n",
       " (60, -0.07861328),\n",
       " (61, 0.36914062),\n",
       " (62, -0.22460938),\n",
       " (63, 0.17382812),\n",
       " (64, 0.0138549805),\n",
       " (65, 0.1875),\n",
       " (66, -0.10107422),\n",
       " (67, 0.037841797),\n",
       " (68, 0.0021209717),\n",
       " (69, -0.05126953),\n",
       " (70, 0.096191406),\n",
       " (71, -0.057128906),\n",
       " (72, 0.10595703),\n",
       " (73, -0.020996094),\n",
       " (74, 0.16113281),\n",
       " (75, 0.09765625),\n",
       " (76, 0.038330078),\n",
       " (77, 0.21972656),\n",
       " (78, 0.10644531),\n",
       " (79, 0.0859375),\n",
       " (80, 0.1796875),\n",
       " (81, -0.08300781),\n",
       " (82, -0.033203125),\n",
       " (83, 0.041015625),\n",
       " (84, -0.064941406),\n",
       " (85, 0.019897461),\n",
       " (86, 0.13378906),\n",
       " (87, -0.09765625),\n",
       " (88, -0.19335938),\n",
       " (89, -0.23535156),\n",
       " (90, 0.19042969),\n",
       " (91, 0.0024871826),\n",
       " (92, -0.01574707),\n",
       " (93, 0.032226562),\n",
       " (94, -0.21972656),\n",
       " (95, -0.091308594),\n",
       " (96, 0.021240234),\n",
       " (97, 0.15820312),\n",
       " (98, 0.29882812),\n",
       " (99, -0.328125),\n",
       " (100, 0.057373047),\n",
       " (101, -0.04638672),\n",
       " (102, 0.11328125),\n",
       " (103, -0.1015625),\n",
       " (104, 0.18066406),\n",
       " (105, -0.025146484),\n",
       " (106, -0.16601562),\n",
       " (107, -0.096191406),\n",
       " (108, 0.018798828),\n",
       " (109, -0.19433594),\n",
       " (110, 0.14941406),\n",
       " (111, -0.056640625),\n",
       " (112, -0.106933594),\n",
       " (113, -0.15039062),\n",
       " (114, -0.17578125),\n",
       " (115, 0.11279297),\n",
       " (116, 0.049316406),\n",
       " (117, 0.21972656),\n",
       " (118, 0.31835938),\n",
       " (119, 0.15722656),\n",
       " (120, -0.29296875),\n",
       " (121, 0.10498047),\n",
       " (122, -0.296875),\n",
       " (123, -0.013427734),\n",
       " (124, 0.09082031),\n",
       " (125, 0.012573242),\n",
       " (126, -0.051513672),\n",
       " (127, -0.12890625),\n",
       " (128, 0.014465332),\n",
       " (129, 0.12060547),\n",
       " (130, -0.10107422),\n",
       " (131, -0.111328125),\n",
       " (132, 0.063964844),\n",
       " (133, -0.052978516),\n",
       " (134, -0.04321289),\n",
       " (135, -0.012939453),\n",
       " (136, -0.02758789),\n",
       " (137, -0.09716797),\n",
       " (138, -0.20214844),\n",
       " (139, 0.123046875),\n",
       " (140, -0.04248047),\n",
       " (141, 0.17382812),\n",
       " (142, -0.013671875),\n",
       " (143, 0.1015625),\n",
       " (144, -0.0009384155),\n",
       " (145, -0.03564453),\n",
       " (146, 0.30078125),\n",
       " (147, -0.068359375),\n",
       " (148, -0.056152344),\n",
       " (149, 0.037597656),\n",
       " (150, 0.06591797),\n",
       " (151, 0.040283203),\n",
       " (152, 0.0119018555),\n",
       " (153, 0.096191406),\n",
       " (154, 0.3671875),\n",
       " (155, -0.27929688),\n",
       " (156, -0.052001953),\n",
       " (157, -0.106933594),\n",
       " (158, -0.13476562),\n",
       " (159, -0.046142578),\n",
       " (160, 0.25),\n",
       " (161, 0.0056762695),\n",
       " (162, -0.014404297),\n",
       " (163, -0.03100586),\n",
       " (164, -0.060302734),\n",
       " (165, 0.10595703),\n",
       " (166, 0.37890625),\n",
       " (167, 0.05883789),\n",
       " (168, 0.123046875),\n",
       " (169, -0.115234375),\n",
       " (170, 0.14941406),\n",
       " (171, -0.1640625),\n",
       " (172, -0.23339844),\n",
       " (173, -0.07763672),\n",
       " (174, 0.026733398),\n",
       " (175, -0.021118164),\n",
       " (176, 0.19433594),\n",
       " (177, -0.056152344),\n",
       " (178, -0.006439209),\n",
       " (179, -0.16992188),\n",
       " (180, -0.118652344),\n",
       " (181, -0.06738281),\n",
       " (182, -0.068847656),\n",
       " (183, -0.08691406),\n",
       " (184, -0.1015625),\n",
       " (185, 0.014160156),\n",
       " (186, -0.20117188),\n",
       " (187, 0.09814453),\n",
       " (188, -0.010253906),\n",
       " (189, 0.1875),\n",
       " (190, 0.19628906),\n",
       " (191, -0.22070312),\n",
       " (192, -0.19628906),\n",
       " (193, -0.07373047),\n",
       " (194, 0.06640625),\n",
       " (195, -0.13378906),\n",
       " (196, 0.18359375),\n",
       " (197, -0.20019531),\n",
       " (198, 0.19824219),\n",
       " (199, 0.05029297),\n",
       " (200, 0.029907227),\n",
       " (201, 0.017700195),\n",
       " (202, -0.19335938),\n",
       " (203, -0.096191406),\n",
       " (204, -0.10253906),\n",
       " (205, 0.21289062),\n",
       " (206, -0.029907227),\n",
       " (207, 0.14355469),\n",
       " (208, 0.041015625),\n",
       " (209, -0.21191406),\n",
       " (210, 0.20800781),\n",
       " (211, 0.13769531),\n",
       " (212, -0.01965332),\n",
       " (213, 0.014953613),\n",
       " (214, -0.09765625),\n",
       " (215, 0.24316406),\n",
       " (216, 0.080078125),\n",
       " (217, 0.08251953),\n",
       " (218, 0.09863281),\n",
       " (219, 0.056884766),\n",
       " (220, 0.04248047),\n",
       " (221, 0.068847656),\n",
       " (222, -0.03540039),\n",
       " (223, -0.076171875),\n",
       " (224, -0.00016117096),\n",
       " (225, -0.07519531),\n",
       " (226, 0.22460938),\n",
       " (227, 0.15136719),\n",
       " (228, 0.10058594),\n",
       " (229, 0.10986328),\n",
       " (230, 0.023803711),\n",
       " (231, 0.088378906),\n",
       " (232, 0.061767578),\n",
       " (233, -0.107910156),\n",
       " (234, 0.06225586),\n",
       " (235, 0.0034332275),\n",
       " (236, 0.080566406),\n",
       " (237, 0.106933594),\n",
       " (238, 0.08886719),\n",
       " (239, -0.23730469),\n",
       " (240, 0.064941406),\n",
       " (241, 0.010192871),\n",
       " (242, -0.088378906),\n",
       " (243, -0.33203125),\n",
       " (244, 0.0046691895),\n",
       " (245, 0.21289062),\n",
       " (246, 0.0859375),\n",
       " (247, 0.020385742),\n",
       " (248, 0.045654297),\n",
       " (249, 0.1484375),\n",
       " (250, 0.11816406),\n",
       " (251, 0.055664062),\n",
       " (252, -0.17285156),\n",
       " (253, -0.125),\n",
       " (254, -0.025390625),\n",
       " (255, -0.31835938),\n",
       " (256, 0.03112793),\n",
       " (257, 0.0859375),\n",
       " (258, -0.041992188),\n",
       " (259, 0.15625),\n",
       " (260, 0.16113281),\n",
       " (261, 0.19824219),\n",
       " (262, -0.100097656),\n",
       " (263, 0.203125),\n",
       " (264, 0.12890625),\n",
       " (265, 0.23339844),\n",
       " (266, -0.26757812),\n",
       " (267, 0.05517578),\n",
       " (268, 0.048828125),\n",
       " (269, 0.072265625),\n",
       " (270, 0.24414062),\n",
       " (271, 0.24414062),\n",
       " (272, 0.056884766),\n",
       " (273, -0.0546875),\n",
       " (274, -0.033691406),\n",
       " (275, -0.12060547),\n",
       " (276, 0.03491211),\n",
       " (277, -0.14550781),\n",
       " (278, 0.087402344),\n",
       " (279, -0.08300781),\n",
       " (280, 0.017211914),\n",
       " (281, 0.14355469),\n",
       " (282, -0.122558594),\n",
       " (283, 0.1796875),\n",
       " (284, 0.13085938),\n",
       " (285, -0.16503906),\n",
       " (286, 0.012756348),\n",
       " (287, 0.16015625),\n",
       " (288, -0.03112793),\n",
       " (289, 0.08203125),\n",
       " (290, 0.17382812),\n",
       " (291, -0.16796875),\n",
       " (292, 0.13085938),\n",
       " (293, 0.08544922),\n",
       " (294, -0.2109375),\n",
       " (295, -0.13085938),\n",
       " (296, -0.028930664),\n",
       " (297, -0.10546875),\n",
       " (298, 0.084472656),\n",
       " (299, -0.14160156)]"
      ]
     },
     "execution_count": 91,
     "metadata": {},
     "output_type": "execute_result"
    }
   ],
   "source": [
    "w2v_pretrained = W2VPretrainedRetrievalModel(doc_repr_2)\n",
    "w2v_pretrained.train_model()\n",
    "\n",
    "# you can now get an W2V vector for a given query in the following way:\n",
    "w2v_pretrained.vectorize_query(\"report\")"
   ]
  },
  {
   "cell_type": "code",
   "execution_count": 92,
   "metadata": {
    "ExecuteTime": {
     "end_time": "2021-02-11T12:59:58.831045Z",
     "start_time": "2021-02-11T12:59:31.211Z"
    },
    "deletable": false,
    "editable": false,
    "id": "_0ifhcln4IWv",
    "nbgrader": {
     "cell_type": "code",
     "checksum": "0822845afb5eafe5ddb1ffeaa4f4942a",
     "grade": true,
     "grade_id": "cell-1b1466f8ce516f42",
     "locked": true,
     "points": 2,
     "schema_version": 3,
     "solution": false,
     "task": false
    }
   },
   "outputs": [
    {
     "name": "stdout",
     "output_type": "stream",
     "text": [
      "300\n"
     ]
    }
   ],
   "source": [
    "##### Function check\n",
    "\n",
    "print(len(w2v_pretrained.vectorize_query(\"report\")))\n",
    "#####"
   ]
  },
  {
   "cell_type": "code",
   "execution_count": null,
   "metadata": {
    "ExecuteTime": {
     "end_time": "2021-02-11T12:59:58.832042Z",
     "start_time": "2021-02-11T12:59:31.214Z"
    },
    "id": "VCpO-xcU4IWv"
   },
   "outputs": [],
   "source": [
    "drm_w2v = DenseRetrievalRanker(w2v, cosine_sim)\n",
    "\n",
    "# test your LDA model\n",
    "search_fn = drm_w2v.search\n",
    "\n",
    "text = widgets.Text(description=\"Search Bar\", width=200)\n",
    "display(text)\n",
    "\n",
    "\n",
    "text.on_submit(handle_submit_2)"
   ]
  },
  {
   "cell_type": "code",
   "execution_count": 96,
   "metadata": {
    "ExecuteTime": {
     "end_time": "2021-02-11T12:59:58.833040Z",
     "start_time": "2021-02-11T12:59:31.216Z"
    },
    "id": "7wyn-qfY4IWv"
   },
   "outputs": [
    {
     "ename": "KeyError",
     "evalue": "\"word 'preliminari' not in vocabulary\"",
     "output_type": "error",
     "traceback": [
      "\u001b[1;31m---------------------------------------------------------------------------\u001b[0m",
      "\u001b[1;31mKeyError\u001b[0m                                  Traceback (most recent call last)",
      "\u001b[1;32m<ipython-input-96-9bc78995897c>\u001b[0m in \u001b[0;36m<module>\u001b[1;34m\u001b[0m\n\u001b[1;32m----> 1\u001b[1;33m \u001b[0mdrm_w2v_pretrained\u001b[0m \u001b[1;33m=\u001b[0m \u001b[0mDenseRetrievalRanker\u001b[0m\u001b[1;33m(\u001b[0m\u001b[0mw2v_pretrained\u001b[0m\u001b[1;33m,\u001b[0m \u001b[0mcosine_sim\u001b[0m\u001b[1;33m)\u001b[0m\u001b[1;33m\u001b[0m\u001b[1;33m\u001b[0m\u001b[0m\n\u001b[0m\u001b[0;32m      2\u001b[0m \u001b[1;33m\u001b[0m\u001b[0m\n\u001b[0;32m      3\u001b[0m \u001b[1;31m# test your LDA model\u001b[0m\u001b[1;33m\u001b[0m\u001b[1;33m\u001b[0m\u001b[1;33m\u001b[0m\u001b[0m\n\u001b[0;32m      4\u001b[0m \u001b[0msearch_fn\u001b[0m \u001b[1;33m=\u001b[0m \u001b[0mdrm_w2v_pretrained\u001b[0m\u001b[1;33m.\u001b[0m\u001b[0msearch\u001b[0m\u001b[1;33m\u001b[0m\u001b[1;33m\u001b[0m\u001b[0m\n\u001b[0;32m      5\u001b[0m \u001b[1;33m\u001b[0m\u001b[0m\n",
      "\u001b[1;32m<ipython-input-79-eee8a0bf28a6>\u001b[0m in \u001b[0;36m__init__\u001b[1;34m(self, vsrm, similarity_fn)\u001b[0m\n\u001b[0;32m      8\u001b[0m         \"\"\"\n\u001b[0;32m      9\u001b[0m         \u001b[0mself\u001b[0m\u001b[1;33m.\u001b[0m\u001b[0mvsrm\u001b[0m \u001b[1;33m=\u001b[0m \u001b[0mvsrm\u001b[0m\u001b[1;33m\u001b[0m\u001b[1;33m\u001b[0m\u001b[0m\n\u001b[1;32m---> 10\u001b[1;33m         \u001b[0mself\u001b[0m\u001b[1;33m.\u001b[0m\u001b[0mvectorized_documents\u001b[0m \u001b[1;33m=\u001b[0m \u001b[0mself\u001b[0m\u001b[1;33m.\u001b[0m\u001b[0mvsrm\u001b[0m\u001b[1;33m.\u001b[0m\u001b[0mvectorize_documents\u001b[0m\u001b[1;33m(\u001b[0m\u001b[1;33m)\u001b[0m\u001b[1;33m\u001b[0m\u001b[1;33m\u001b[0m\u001b[0m\n\u001b[0m\u001b[0;32m     11\u001b[0m         \u001b[0mself\u001b[0m\u001b[1;33m.\u001b[0m\u001b[0msimilarity_fn\u001b[0m \u001b[1;33m=\u001b[0m \u001b[0msimilarity_fn\u001b[0m\u001b[1;33m\u001b[0m\u001b[1;33m\u001b[0m\u001b[0m\n\u001b[0;32m     12\u001b[0m \u001b[1;33m\u001b[0m\u001b[0m\n",
      "\u001b[1;32m<ipython-input-89-64879a752d76>\u001b[0m in \u001b[0;36mvectorize_documents\u001b[1;34m(self)\u001b[0m\n\u001b[0;32m     24\u001b[0m             \u001b[0maccum_vecs\u001b[0m \u001b[1;33m=\u001b[0m \u001b[1;33m[\u001b[0m\u001b[1;33m]\u001b[0m\u001b[1;33m\u001b[0m\u001b[1;33m\u001b[0m\u001b[0m\n\u001b[0;32m     25\u001b[0m             \u001b[1;32mfor\u001b[0m \u001b[0mtoken\u001b[0m \u001b[1;32min\u001b[0m \u001b[0mdoc\u001b[0m\u001b[1;33m:\u001b[0m\u001b[1;33m\u001b[0m\u001b[1;33m\u001b[0m\u001b[0m\n\u001b[1;32m---> 26\u001b[1;33m                 \u001b[0maccum_vecs\u001b[0m\u001b[1;33m.\u001b[0m\u001b[0mappend\u001b[0m\u001b[1;33m(\u001b[0m\u001b[0mself\u001b[0m\u001b[1;33m.\u001b[0m\u001b[0mmodel\u001b[0m\u001b[1;33m[\u001b[0m\u001b[0mtoken\u001b[0m\u001b[1;33m]\u001b[0m\u001b[1;33m)\u001b[0m\u001b[1;33m\u001b[0m\u001b[1;33m\u001b[0m\u001b[0m\n\u001b[0m\u001b[0;32m     27\u001b[0m             \u001b[0maggregated_vec\u001b[0m \u001b[1;33m=\u001b[0m \u001b[0mnp\u001b[0m\u001b[1;33m.\u001b[0m\u001b[0mmean\u001b[0m\u001b[1;33m(\u001b[0m\u001b[0maccum_vecs\u001b[0m\u001b[1;33m,\u001b[0m \u001b[0maxis\u001b[0m\u001b[1;33m=\u001b[0m\u001b[1;36m0\u001b[0m\u001b[1;33m)\u001b[0m\u001b[1;33m\u001b[0m\u001b[1;33m\u001b[0m\u001b[0m\n\u001b[0;32m     28\u001b[0m             \u001b[0mvectors\u001b[0m\u001b[1;33m[\u001b[0m\u001b[0mdoc_id\u001b[0m\u001b[1;33m]\u001b[0m \u001b[1;33m=\u001b[0m \u001b[0mlist\u001b[0m\u001b[1;33m(\u001b[0m\u001b[0mzip\u001b[0m\u001b[1;33m(\u001b[0m\u001b[0mrange\u001b[0m\u001b[1;33m(\u001b[0m\u001b[0mself\u001b[0m\u001b[1;33m.\u001b[0m\u001b[0msize\u001b[0m\u001b[1;33m)\u001b[0m\u001b[1;33m,\u001b[0m \u001b[0maggregated_vec\u001b[0m\u001b[1;33m)\u001b[0m\u001b[1;33m)\u001b[0m\u001b[1;33m\u001b[0m\u001b[1;33m\u001b[0m\u001b[0m\n",
      "\u001b[1;32m~\\anaconda3\\lib\\site-packages\\gensim\\models\\keyedvectors.py\u001b[0m in \u001b[0;36m__getitem__\u001b[1;34m(self, entities)\u001b[0m\n\u001b[0;32m    351\u001b[0m         \u001b[1;32mif\u001b[0m \u001b[0misinstance\u001b[0m\u001b[1;33m(\u001b[0m\u001b[0mentities\u001b[0m\u001b[1;33m,\u001b[0m \u001b[0mstring_types\u001b[0m\u001b[1;33m)\u001b[0m\u001b[1;33m:\u001b[0m\u001b[1;33m\u001b[0m\u001b[1;33m\u001b[0m\u001b[0m\n\u001b[0;32m    352\u001b[0m             \u001b[1;31m# allow calls like trained_model['office'], as a shorthand for trained_model[['office']]\u001b[0m\u001b[1;33m\u001b[0m\u001b[1;33m\u001b[0m\u001b[1;33m\u001b[0m\u001b[0m\n\u001b[1;32m--> 353\u001b[1;33m             \u001b[1;32mreturn\u001b[0m \u001b[0mself\u001b[0m\u001b[1;33m.\u001b[0m\u001b[0mget_vector\u001b[0m\u001b[1;33m(\u001b[0m\u001b[0mentities\u001b[0m\u001b[1;33m)\u001b[0m\u001b[1;33m\u001b[0m\u001b[1;33m\u001b[0m\u001b[0m\n\u001b[0m\u001b[0;32m    354\u001b[0m \u001b[1;33m\u001b[0m\u001b[0m\n\u001b[0;32m    355\u001b[0m         \u001b[1;32mreturn\u001b[0m \u001b[0mvstack\u001b[0m\u001b[1;33m(\u001b[0m\u001b[1;33m[\u001b[0m\u001b[0mself\u001b[0m\u001b[1;33m.\u001b[0m\u001b[0mget_vector\u001b[0m\u001b[1;33m(\u001b[0m\u001b[0mentity\u001b[0m\u001b[1;33m)\u001b[0m \u001b[1;32mfor\u001b[0m \u001b[0mentity\u001b[0m \u001b[1;32min\u001b[0m \u001b[0mentities\u001b[0m\u001b[1;33m]\u001b[0m\u001b[1;33m)\u001b[0m\u001b[1;33m\u001b[0m\u001b[1;33m\u001b[0m\u001b[0m\n",
      "\u001b[1;32m~\\anaconda3\\lib\\site-packages\\gensim\\models\\keyedvectors.py\u001b[0m in \u001b[0;36mget_vector\u001b[1;34m(self, word)\u001b[0m\n\u001b[0;32m    469\u001b[0m \u001b[1;33m\u001b[0m\u001b[0m\n\u001b[0;32m    470\u001b[0m     \u001b[1;32mdef\u001b[0m \u001b[0mget_vector\u001b[0m\u001b[1;33m(\u001b[0m\u001b[0mself\u001b[0m\u001b[1;33m,\u001b[0m \u001b[0mword\u001b[0m\u001b[1;33m)\u001b[0m\u001b[1;33m:\u001b[0m\u001b[1;33m\u001b[0m\u001b[1;33m\u001b[0m\u001b[0m\n\u001b[1;32m--> 471\u001b[1;33m         \u001b[1;32mreturn\u001b[0m \u001b[0mself\u001b[0m\u001b[1;33m.\u001b[0m\u001b[0mword_vec\u001b[0m\u001b[1;33m(\u001b[0m\u001b[0mword\u001b[0m\u001b[1;33m)\u001b[0m\u001b[1;33m\u001b[0m\u001b[1;33m\u001b[0m\u001b[0m\n\u001b[0m\u001b[0;32m    472\u001b[0m \u001b[1;33m\u001b[0m\u001b[0m\n\u001b[0;32m    473\u001b[0m     \u001b[1;32mdef\u001b[0m \u001b[0mwords_closer_than\u001b[0m\u001b[1;33m(\u001b[0m\u001b[0mself\u001b[0m\u001b[1;33m,\u001b[0m \u001b[0mw1\u001b[0m\u001b[1;33m,\u001b[0m \u001b[0mw2\u001b[0m\u001b[1;33m)\u001b[0m\u001b[1;33m:\u001b[0m\u001b[1;33m\u001b[0m\u001b[1;33m\u001b[0m\u001b[0m\n",
      "\u001b[1;32m~\\anaconda3\\lib\\site-packages\\gensim\\models\\keyedvectors.py\u001b[0m in \u001b[0;36mword_vec\u001b[1;34m(self, word, use_norm)\u001b[0m\n\u001b[0;32m    466\u001b[0m             \u001b[1;32mreturn\u001b[0m \u001b[0mresult\u001b[0m\u001b[1;33m\u001b[0m\u001b[1;33m\u001b[0m\u001b[0m\n\u001b[0;32m    467\u001b[0m         \u001b[1;32melse\u001b[0m\u001b[1;33m:\u001b[0m\u001b[1;33m\u001b[0m\u001b[1;33m\u001b[0m\u001b[0m\n\u001b[1;32m--> 468\u001b[1;33m             \u001b[1;32mraise\u001b[0m \u001b[0mKeyError\u001b[0m\u001b[1;33m(\u001b[0m\u001b[1;34m\"word '%s' not in vocabulary\"\u001b[0m \u001b[1;33m%\u001b[0m \u001b[0mword\u001b[0m\u001b[1;33m)\u001b[0m\u001b[1;33m\u001b[0m\u001b[1;33m\u001b[0m\u001b[0m\n\u001b[0m\u001b[0;32m    469\u001b[0m \u001b[1;33m\u001b[0m\u001b[0m\n\u001b[0;32m    470\u001b[0m     \u001b[1;32mdef\u001b[0m \u001b[0mget_vector\u001b[0m\u001b[1;33m(\u001b[0m\u001b[0mself\u001b[0m\u001b[1;33m,\u001b[0m \u001b[0mword\u001b[0m\u001b[1;33m)\u001b[0m\u001b[1;33m:\u001b[0m\u001b[1;33m\u001b[0m\u001b[1;33m\u001b[0m\u001b[0m\n",
      "\u001b[1;31mKeyError\u001b[0m: \"word 'preliminari' not in vocabulary\""
     ]
    }
   ],
   "source": [
    "drm_w2v_pretrained = DenseRetrievalRanker(w2v_pretrained, cosine_sim)\n",
    "\n",
    "# test your LDA model\n",
    "search_fn = drm_w2v_pretrained.search\n",
    "\n",
    "text = widgets.Text(description=\"Search Bar\", width=200)\n",
    "display(text)\n",
    "\n",
    "\n",
    "text.on_submit(handle_submit_2)"
   ]
  },
  {
   "cell_type": "markdown",
   "metadata": {
    "deletable": false,
    "editable": false,
    "id": "giJFuUld4IWv",
    "nbgrader": {
     "cell_type": "markdown",
     "checksum": "51b778984fd60757974f51047c61eb15",
     "grade": false,
     "grade_id": "cell-b92f701cbc706108",
     "locked": true,
     "schema_version": 3,
     "solution": false,
     "task": false
    }
   },
   "source": [
    "**Implementation (10 points):**\n",
    "For Doc2Vec, you will need to create a list of `TaggedDocument` instead of using the `self.corpus` or `self.documents` variable. Use the document id as the 'tag'.\n",
    "  "
   ]
  },
  {
   "cell_type": "code",
   "execution_count": null,
   "metadata": {
    "ExecuteTime": {
     "end_time": "2021-02-11T12:59:58.833040Z",
     "start_time": "2021-02-11T12:59:31.218Z"
    },
    "deletable": false,
    "id": "_Ie4aqXa4IWw",
    "nbgrader": {
     "cell_type": "code",
     "checksum": "1f60fdeb97febb7f4a6fd5bf109aac20",
     "grade": false,
     "grade_id": "cell-680facdcc98a19ab",
     "locked": false,
     "schema_version": 3,
     "solution": true,
     "task": false
    }
   },
   "outputs": [],
   "source": [
    "# TODO: Implement this! (10 points)\n",
    "class D2VRetrievalModel(VectorSpaceRetrievalModel):\n",
    "    def __init__(self, doc_repr):\n",
    "        super().__init__(doc_repr)\n",
    "        \n",
    "        self.vector_size= 100\n",
    "        self.min_count = 1\n",
    "        self.epochs = 20\n",
    "        \n",
    "        # YOUR CODE HERE\n",
    "        raise NotImplementedError()\n",
    "        \n",
    "    def train_model(self):\n",
    "        # YOUR CODE HERE\n",
    "        raise NotImplementedError()\n",
    "    \n",
    "    def vectorize_documents(self):\n",
    "        \"\"\"\n",
    "            Returns a doc_id -> vector dictionary\n",
    "        \"\"\"\n",
    "        # YOUR CODE HERE\n",
    "        raise NotImplementedError()\n",
    "\n",
    "    def vectorize_query(self, query):\n",
    "        # YOUR CODE HERE\n",
    "        raise NotImplementedError()\n",
    "        \n",
    "d2v = D2VRetrievalModel(doc_repr_2)\n",
    "d2v.train_model()\n",
    "\n",
    "\n",
    "# # you can now get an LSI vector for a given query in the following way:\n",
    "d2v.vectorize_query(\"report\")"
   ]
  },
  {
   "cell_type": "code",
   "execution_count": null,
   "metadata": {
    "ExecuteTime": {
     "end_time": "2021-02-11T12:59:58.834038Z",
     "start_time": "2021-02-11T12:59:31.220Z"
    },
    "deletable": false,
    "editable": false,
    "id": "PES2gma44IWw",
    "nbgrader": {
     "cell_type": "code",
     "checksum": "e83a363a9d4f136efbdde1426a83925e",
     "grade": true,
     "grade_id": "cell-5e2c5e0c9a2e8cb5",
     "locked": true,
     "points": 0,
     "schema_version": 3,
     "solution": false,
     "task": false
    }
   },
   "outputs": [],
   "source": [
    "#### Please do not change this. This cell is used for grading."
   ]
  },
  {
   "cell_type": "markdown",
   "metadata": {
    "deletable": false,
    "editable": false,
    "id": "uCHYfnTf4IWw",
    "nbgrader": {
     "cell_type": "markdown",
     "checksum": "5bb46bf6b9be1e0ca66f0b0bc6260ecb",
     "grade": false,
     "grade_id": "cell-8a49d414f798a595",
     "locked": true,
     "points": 10,
     "schema_version": 3,
     "solution": false,
     "task": true
    }
   },
   "source": [
    "\\#### Please do not change this. This cell is used for grading."
   ]
  },
  {
   "cell_type": "code",
   "execution_count": null,
   "metadata": {
    "ExecuteTime": {
     "end_time": "2021-02-11T12:59:58.835035Z",
     "start_time": "2021-02-11T12:59:31.223Z"
    },
    "id": "eceopG-Y4IWw"
   },
   "outputs": [],
   "source": [
    "drm_d2v = DenseRetrievalRanker(d2v, cosine_sim)\n",
    "\n",
    "# test your LDA model\n",
    "search_fn = drm_d2v.search\n",
    "\n",
    "text = widgets.Text(description=\"Search Bar\", width=200)\n",
    "display(text)\n",
    "\n",
    "\n",
    "text.on_submit(handle_submit_2)"
   ]
  },
  {
   "cell_type": "markdown",
   "metadata": {
    "deletable": false,
    "editable": false,
    "id": "uJBmD00Y4IWw",
    "nbgrader": {
     "cell_type": "markdown",
     "checksum": "363ec36c1d03d9f9e1c2045a6e193c14",
     "grade": false,
     "grade_id": "cell-3529ae29eece7b97",
     "locked": true,
     "schema_version": 3,
     "solution": false,
     "task": false
    }
   },
   "source": [
    "---\n",
    "## Section 9: Re-ranking (10 points) <a class=\"anchor\" id=\"reranking\"></a>\n",
    "\n",
    "[Back to Part 2](#part2)\n",
    "\n",
    "To motivate the re-ranking perspective (i.e retrieve with lexical method + rerank with a semantic method), let's search using semantic methods and compare it to BM25's performance, along with their runtime:\n"
   ]
  },
  {
   "cell_type": "code",
   "execution_count": null,
   "metadata": {
    "ExecuteTime": {
     "end_time": "2021-02-11T12:59:58.836031Z",
     "start_time": "2021-02-11T12:59:31.225Z"
    },
    "deletable": false,
    "editable": false,
    "id": "iO8Q3KWc4IWw",
    "nbgrader": {
     "cell_type": "code",
     "checksum": "5755f70e3eb28abc65d14d80125338af",
     "grade": false,
     "grade_id": "cell-f8f43bf5ae383128",
     "locked": true,
     "schema_version": 3,
     "solution": false,
     "task": false
    }
   },
   "outputs": [],
   "source": [
    "query = \"algebraic functions\"\n",
    "print(\"BM25: \")\n",
    "%timeit bm25_search(query, 2)\n",
    "print(\"LSI: \")\n",
    "%timeit drm_lsi.search(query)\n",
    "print(\"LDA: \")\n",
    "%timeit drm_lda.search(query)\n",
    "print(\"W2V: \")\n",
    "%timeit drm_w2v.search(query)\n",
    "print(\"W2V(Pretrained): \")\n",
    "%timeit drm_w2v_pretrained.search(query)\n",
    "print(\"D2V:\")\n",
    "%timeit drm_d2v.search(query)"
   ]
  },
  {
   "cell_type": "markdown",
   "metadata": {
    "deletable": false,
    "editable": false,
    "id": "oBnOArQC4IWx",
    "nbgrader": {
     "cell_type": "markdown",
     "checksum": "ae398da0a8c23c95bcbb0023b7ec6f34",
     "grade": false,
     "grade_id": "cell-db5ff09f97841af7",
     "locked": true,
     "schema_version": 3,
     "solution": false,
     "task": false
    }
   },
   "source": [
    "---\n",
    "\n",
    "**Implementation (10 points):**\n",
    "Re-ranking involves retrieving a small set of documents using simple but fast methods like BM25 and then re-ranking them with the aid of semantic methods such as LDA or LSI. Implement the following class, which takes in an `initial_retrieval_fn` - the initial retrieval function and `vsrm` - an instance of the `VectorSpaceRetrievalModel` class (i.e LSI/LDA) as input. The search function should first retrieve an initial list of K documents, and then these documents are re-ranked using a semantic method. This not only makes retrieval faster, but semantic methods perform poorly when used in isolation, as you will find out."
   ]
  },
  {
   "cell_type": "code",
   "execution_count": null,
   "metadata": {
    "ExecuteTime": {
     "end_time": "2021-02-11T12:59:58.837029Z",
     "start_time": "2021-02-11T12:59:31.228Z"
    },
    "deletable": false,
    "id": "Uxl8iQ1q4IWx",
    "nbgrader": {
     "cell_type": "code",
     "checksum": "63b6b05a676a2ae3f08d8bed1bc59428",
     "grade": false,
     "grade_id": "cell-5bf47600d1a0c507",
     "locked": false,
     "schema_version": 3,
     "solution": true,
     "task": false
    }
   },
   "outputs": [],
   "source": [
    "# TODO: Implement this! (10 points)\n",
    "class DenseRerankingModel:\n",
    "    def __init__(self, initial_retrieval_fn, vsrm, similarity_fn):\n",
    "        \"\"\"\n",
    "            initial_retrieval_fn: takes in a query and returns a list of [(doc_id, score)] (sorted)\n",
    "            vsrm: instance of `VectorSpaceRetrievalModel`\n",
    "            similarity_fn: function instance that takes in two vectors \n",
    "                            and returns a similarity score e.g cosine_sim defined earlier\n",
    "        \"\"\"\n",
    "        self.ret = initial_retrieval_fn\n",
    "        self.vsrm = vsrm\n",
    "        self.similarity_fn = similarity_fn\n",
    "        self.vectorized_documents = vsrm.vectorize_documents()\n",
    "        \n",
    "        assert len(self.vectorized_documents) == len(doc_repr_2)\n",
    "    \n",
    "    def search(self, query, K=50):\n",
    "        \"\"\"\n",
    "            First, retrieve the top K results using the retrieval function\n",
    "            Then, re-rank the results using the VSRM instance\n",
    "        \"\"\"\n",
    "        # YOUR CODE HERE\n",
    "        raise NotImplementedError()"
   ]
  },
  {
   "cell_type": "code",
   "execution_count": null,
   "metadata": {
    "ExecuteTime": {
     "end_time": "2021-02-11T12:59:58.837029Z",
     "start_time": "2021-02-11T12:59:31.230Z"
    },
    "deletable": false,
    "editable": false,
    "id": "rNBMLq3T4IWx",
    "nbgrader": {
     "cell_type": "code",
     "checksum": "334ab5af96976265cace682ab82a7387",
     "grade": true,
     "grade_id": "cell-52c6d18a4c0b4882",
     "locked": true,
     "points": 0,
     "schema_version": 3,
     "solution": false,
     "task": false
    }
   },
   "outputs": [],
   "source": [
    "##### Function check\n",
    "bm25_search_2 = partial(bm25_search, index_set=2)\n",
    "lsi_rerank = DenseRerankingModel(bm25_search_2, lsi, cosine_sim)\n",
    "lda_rerank = DenseRerankingModel(bm25_search_2, lda, jenson_shannon_sim)\n",
    "w2v_rerank = DenseRerankingModel(bm25_search_2, w2v, cosine_sim)\n",
    "w2v_pretrained_rerank = DenseRerankingModel(bm25_search_2, w2v_pretrained, cosine_sim)\n",
    "d2v_rerank = DenseRerankingModel(bm25_search_2, d2v, cosine_sim)\n",
    "\n",
    "##### "
   ]
  },
  {
   "cell_type": "markdown",
   "metadata": {
    "deletable": false,
    "editable": false,
    "id": "LPYGMblR4IWx",
    "nbgrader": {
     "cell_type": "markdown",
     "checksum": "bd904253f45f84e63bab3a69729058fc",
     "grade": false,
     "grade_id": "cell-93215dfe6bcf7cff",
     "locked": true,
     "points": 10,
     "schema_version": 3,
     "solution": false,
     "task": true
    }
   },
   "source": [
    "\\#### Please do not change this. This cell is used for grading."
   ]
  },
  {
   "cell_type": "markdown",
   "metadata": {
    "deletable": false,
    "editable": false,
    "id": "qkEXXhZR4IWx",
    "nbgrader": {
     "cell_type": "markdown",
     "checksum": "b592e60292bfe3d9ef2930a354c4077a",
     "grade": false,
     "grade_id": "cell-aa694ff55fa91e7d",
     "locked": true,
     "schema_version": 3,
     "solution": false,
     "task": false
    }
   },
   "source": [
    "---\n",
    "Now, let us time the new search functions:"
   ]
  },
  {
   "cell_type": "code",
   "execution_count": null,
   "metadata": {
    "ExecuteTime": {
     "end_time": "2021-02-11T12:59:58.838025Z",
     "start_time": "2021-02-11T12:59:31.235Z"
    },
    "deletable": false,
    "editable": false,
    "id": "CLJJ1U8P4IWy",
    "nbgrader": {
     "cell_type": "code",
     "checksum": "338c7e3528cba266a865a061287c0e38",
     "grade": false,
     "grade_id": "cell-5edbd481562ad91f",
     "locked": true,
     "schema_version": 3,
     "solution": false,
     "task": false
    }
   },
   "outputs": [],
   "source": [
    "query = \"algebraic functions\"\n",
    "print(\"BM25: \")\n",
    "%timeit bm25_search(query, 2)\n",
    "print(\"LSI: \")\n",
    "%timeit lsi_rerank.search(query)\n",
    "print(\"LDA: \")\n",
    "%timeit lda_rerank.search(query)\n",
    "print(\"W2V: \")\n",
    "%timeit w2v_rerank.search(query)\n",
    "print(\"W2V(Pretrained): \")\n",
    "%timeit w2v_pretrained_rerank.search(query)\n",
    "print(\"D2V:\")\n",
    "%timeit d2v_rerank.search(query)"
   ]
  },
  {
   "cell_type": "markdown",
   "metadata": {
    "deletable": false,
    "editable": false,
    "id": "3YxKmu1l4IWy",
    "nbgrader": {
     "cell_type": "markdown",
     "checksum": "c45c5e3f015b2de89d9d39ae3766368b",
     "grade": false,
     "grade_id": "cell-85c50f2ab9eec301",
     "locked": true,
     "schema_version": 3,
     "solution": false,
     "task": false
    }
   },
   "source": [
    "---\n",
    "As you can see, it is much faster (but BM25 is still orders of magnitude faster)."
   ]
  },
  {
   "cell_type": "markdown",
   "metadata": {
    "deletable": false,
    "editable": false,
    "id": "MdjNyWo34IWy",
    "nbgrader": {
     "cell_type": "markdown",
     "checksum": "1e2f3388e3807659f303fe31a75a010e",
     "grade": false,
     "grade_id": "cell-5071bb99b2af61cb",
     "locked": true,
     "schema_version": 3,
     "solution": false,
     "task": false
    }
   },
   "source": [
    "---\n",
    "## Section 10: Evaluation & Analysis (30 points) <a class=\"anchor\" id=\"reranking_eval\"></a>\n",
    "\n",
    "[Back to Part 2](#part2)\n",
    "\n",
    "[Previously](#evaluation) we have implemented some evaluation metrics and used them for measuring the ranking performance of term-based IR algorithms. In this section, we will do the same for semantic methods, both with and without re-ranking.\n",
    "\n",
    "### Section 10.1: Plot (10 points)\n",
    "\n",
    "First, gather the results. The results should consider the index set, the different search functions and different metrics. Plot the results in bar charts, per metric, with clear labels.\n",
    "\n",
    "Then, gather only the re-ranking models, and plot and compare them with the results obtained in part 1 (only index set 2)."
   ]
  },
  {
   "cell_type": "code",
   "execution_count": null,
   "metadata": {
    "ExecuteTime": {
     "end_time": "2021-02-11T12:59:58.838025Z",
     "start_time": "2021-02-11T12:59:31.238Z"
    },
    "deletable": false,
    "editable": false,
    "id": "2Y2Ntwj84IWy",
    "nbgrader": {
     "cell_type": "code",
     "checksum": "4fe81520ac6413a803838913fd64de03",
     "grade": false,
     "grade_id": "cell-b672fe6dfae0b1ce",
     "locked": true,
     "schema_version": 3,
     "solution": false,
     "task": false
    }
   },
   "outputs": [],
   "source": [
    "list_of_sem_search_fns = [\n",
    "    (\"lda\", drm_lda.search),\n",
    "    (\"lsi\", drm_lsi.search),\n",
    "    (\"w2v\", drm_w2v.search),\n",
    "    (\"w2v_pretrained\", drm_w2v_pretrained.search),\n",
    "    (\"d2v\", drm_d2v.search),\n",
    "    (\"lsi_rr\", lsi_rerank.search),\n",
    "    (\"lda_rr\", lda_rerank.search),\n",
    "    (\"w2v_rr\", w2v_rerank.search),\n",
    "    (\"w2v_pretrained_rr\", w2v_pretrained_rerank.search),\n",
    "    (\"d2v_rr\", d2v_rerank.search),\n",
    "    \n",
    "]"
   ]
  },
  {
   "cell_type": "code",
   "execution_count": null,
   "metadata": {
    "ExecuteTime": {
     "end_time": "2021-02-11T12:59:58.839024Z",
     "start_time": "2021-02-11T12:59:31.241Z"
    },
    "deletable": false,
    "id": "XqoUKAKO4IWy",
    "nbgrader": {
     "cell_type": "code",
     "checksum": "54707c4afac084299aeefa047259b4a9",
     "grade": true,
     "grade_id": "cell-7dd8273b0f5a3c22",
     "locked": false,
     "points": 10,
     "schema_version": 3,
     "solution": true,
     "task": false
    }
   },
   "outputs": [],
   "source": [
    "# YOUR CODE HERE\n",
    "raise NotImplementedError()"
   ]
  },
  {
   "cell_type": "markdown",
   "metadata": {
    "deletable": false,
    "editable": false,
    "id": "TO7Rx1xc4IWy",
    "nbgrader": {
     "cell_type": "markdown",
     "checksum": "a8a3b6189bdde66704c694d85e38d049",
     "grade": false,
     "grade_id": "cell-deb2ef3daa306e82",
     "locked": true,
     "schema_version": 3,
     "solution": false,
     "task": false
    }
   },
   "source": [
    "### Section 10.2: Summary (20 points)\n",
    "\n",
    "Your summary should compare methods from Part 1 and Part 2 (only for index set 2). State what you expected to see in the results, followed by either supporting evidence *or* justify why the results did not support your expectations. Consider the availability of data, scalability, domain/type of data, etc."
   ]
  },
  {
   "cell_type": "markdown",
   "metadata": {
    "deletable": false,
    "id": "8kHCX99n4IWz",
    "nbgrader": {
     "cell_type": "markdown",
     "checksum": "ff97c43837d10bff6aaffa75e1492887",
     "grade": true,
     "grade_id": "cell-ec5dd7d9cf59dd86",
     "locked": false,
     "points": 20,
     "schema_version": 3,
     "solution": true,
     "task": false
    }
   },
   "source": [
    "YOUR ANSWER HERE"
   ]
  }
 ],
 "metadata": {
  "colab": {
   "collapsed_sections": [
    "7PZ1YsjO4IWa",
    "PEw9RAKO4IWc",
    "M10Gq1wo4IWd",
    "ARVTcJrC4IWe",
    "pu4nDAJQ4IWe",
    "D3EIl_rY4IWf",
    "43wdjFkt4IWf",
    "a6te4fbZ4IWg",
    "X2fSm6OJ4IWg",
    "CF8mA1LD4IWh",
    "PwcdEmYB4IWi",
    "a3vu_N7C4IWj",
    "bD5EZ9eN4IWl",
    "V_eNBPNC4IWl",
    "gLVYII234IWl",
    "Ad2E1OAb4IWm",
    "rsVw36Qs4IWn",
    "O6zOyivS4IWn",
    "Q38CrFOO4IWo",
    "Gh1iz9Ht4IWo",
    "b54ANEqK4IWp",
    "lZ3SttfV4IWp",
    "-hdtSyZZ4IWp",
    "KqeQEm1Q4IWq",
    "-EkJ-o9j4IWr",
    "0PGe6mPD4IWt",
    "xMbAwqEW4IWt",
    "1qyB_mcw4IWt",
    "xa0oM-SP4IWu",
    "uJBmD00Y4IWw",
    "MdjNyWo34IWy",
    "TO7Rx1xc4IWy"
   ],
   "name": "13322915_13325957_13326481.ipynb",
   "provenance": []
  },
  "kernelspec": {
   "display_name": "Python 3",
   "language": "python",
   "name": "python3"
  },
  "language_info": {
   "codemirror_mode": {
    "name": "ipython",
    "version": 3
   },
   "file_extension": ".py",
   "mimetype": "text/x-python",
   "name": "python",
   "nbconvert_exporter": "python",
   "pygments_lexer": "ipython3",
   "version": "3.8.5"
  }
 },
 "nbformat": 4,
 "nbformat_minor": 1
}
