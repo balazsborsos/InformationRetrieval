{
 "cells": [
  {
   "cell_type": "markdown",
   "metadata": {
    "deletable": false,
    "editable": false,
    "id": "BBPDEKU44IWO",
    "nbgrader": {
     "cell_type": "markdown",
     "checksum": "758d05f39ab671358f17858c55f7161c",
     "grade": false,
     "grade_id": "cell-c9cd9e550239e812",
     "locked": true,
     "schema_version": 3,
     "solution": false,
     "task": false
    }
   },
   "source": [
    "# Homework 1 (Total Points: 260) <a class=\"anchor\" id=\"top\"></a>\n",
    "\n",
    "\n",
    "**Submission instructions**:\n",
    "- Only the code `TODO: Implement this!` denotes that these sections are graded.\n",
    "- For Part 1: You can use the `nltk`, `numpy` and `matplotlib` libraries here. Other libraries, e.g., `gensim` or `scikit-learn`, may not be used. For Part 2: `gensim` is allowed in addition to the imported libraries in the next code cell\n",
    "- The notebook you submit has to have the student ids, separated by underscores (E.g., `12341234_12341234_12341234.ipynb`). \n",
    "- This will be parsed by a regexp, so please double check your filename.\n",
    "- Only one member of each group has to submit the file to canvas.\n",
    "- Make sure to check that your notebook runs before submission. A quick way to do this is to restart the kernel and run all the cells.  \n",
    "- Please do not delete/add new cells. Removing cells can lead to grade deduction.\n",
    "- Note, that you are not allowed to use Google Colab.\n",
    "\n",
    "\n",
    "**Learning Goals**:\n",
    "- [Part 1, Term-based matching](#part1) (175 points):\n",
    "    - Learn how to load a dataset and process it.\n",
    "    - Learn how to implement several standard IR methods (TF-IDF, BM25, QL) and understand their weaknesses & strengths.\n",
    "    - Learn how to evaluate IR methods.\n",
    "- [Part 2, Semantic-based matching](#part2) (85 points):\n",
    "    - Learn how to implement vector-space retrieval methods (LSI, LDA).\n",
    "    - Learn how to use LSI and LDA for re-ranking\n",
    "\n",
    "    \n",
    "**Resources**: \n",
    "- **Part 1**: Sections 2.3, 4.1, 4.2, 4.3, 5.3, 5.6, 5.7, 6.2, 7, 8 of [Search Engines: Information Retrieval in Practice](https://ciir.cs.umass.edu/downloads/SEIRiP.pdf)\n",
    "- **Part 2**: [LSI - Chapter 18](https://nlp.stanford.edu/IR-book/pdf/18lsi.pdf) from [Introduction to Information Retrieval](https://nlp.stanford.edu/IR-book/) book and the [original LDA paper](https://jmlr.org/papers/volume3/blei03a/blei03a.pdf)"
   ]
  },
  {
   "cell_type": "code",
   "execution_count": 1,
   "metadata": {
    "ExecuteTime": {
     "end_time": "2021-02-19T19:16:58.733928Z",
     "start_time": "2021-02-19T19:16:57.375165Z"
    },
    "deletable": false,
    "editable": false,
    "id": "RS9pLvO94IWT",
    "nbgrader": {
     "cell_type": "code",
     "checksum": "c55bfe94ff1f564dd595547e516c4c6e",
     "grade": false,
     "grade_id": "cell-f5357fabdb9660e3",
     "locked": true,
     "schema_version": 3,
     "solution": false,
     "task": false
    }
   },
   "outputs": [],
   "source": [
    "# imports \n",
    "# TODO: Ensure that no additional library is imported in the notebook. \n",
    "# TODO: Only the standard library and the following libraries are allowed:\n",
    "# TODO: You can also use unlisted classes from these libraries or standard libraries (such as defaultdict, Counter, ...).\n",
    "\n",
    "import os\n",
    "import zipfile\n",
    "from functools import partial\n",
    "\n",
    "import nltk\n",
    "import requests\n",
    "import numpy as np\n",
    "from tqdm import tqdm\n",
    "\n",
    "import matplotlib.pyplot as plt\n",
    "from matplotlib.pyplot import cm\n",
    "\n",
    "from ipywidgets import widgets\n",
    "from IPython.display import display, HTML\n",
    "#from IPython.html import widgets\n",
    "from collections import namedtuple\n",
    "\n",
    "# Own imports from standard libraries\n",
    "from collections import Counter\n",
    "import math\n",
    "import operator\n",
    "\n",
    "\n",
    "\n",
    "%matplotlib inline"
   ]
  },
  {
   "cell_type": "markdown",
   "metadata": {
    "deletable": false,
    "editable": false,
    "id": "A4kKorew4IWU",
    "nbgrader": {
     "cell_type": "markdown",
     "checksum": "4ef0139c6fbc22b41520721a9275c1e1",
     "grade": false,
     "grade_id": "cell-7428e12ed184408b",
     "locked": true,
     "schema_version": 3,
     "solution": false,
     "task": false
    }
   },
   "source": [
    "\n",
    "# Part 1: Term-based Matching (175 points) <a class=\"anchor\" id=\"part1\"></a>\n",
    "\n",
    "[Back to top](#top)\n",
    "\n",
    "In the first part, we will learn the basics of IR from loading and preprocessing the material, to implementing some well known search algorithms, to evaluating the ranking performance of the implemented algorithms. We will be using the CACM dataset throughout the assignment. The CACM dataset is a collection of titles and abstracts from the journal CACM (Communication of the ACM).\n",
    "\n",
    "Table of contents:\n",
    "- [Section 1: Text Processing](#text_processing) (15 points)\n",
    "- [Section 2: Indexing](#indexing) (10 points)\n",
    "- [Section 3: Ranking](#ranking) (80 points)\n",
    "- [Section 4: Evaluation](#evaluation) (40 points)\n",
    "- [Section 5: Analysis](#analysis) (30 points)\n"
   ]
  },
  {
   "cell_type": "markdown",
   "metadata": {
    "deletable": false,
    "editable": false,
    "id": "6vnjcjoy4IWU",
    "nbgrader": {
     "cell_type": "markdown",
     "checksum": "a9050c97b011a926b9e4cf6831eff5bd",
     "grade": false,
     "grade_id": "cell-4b24825cf4ae55ec",
     "locked": true,
     "schema_version": 3,
     "solution": false,
     "task": false
    }
   },
   "source": [
    "---\n",
    "## Section 1: Text Processing (15 points)<a class=\"anchor\" id=\"text_processing\"></a>\n",
    "\n",
    "[Back to Part 1](#part1)\n",
    "\n",
    "In this section, we will load the dataset and learn how to clean up the data to make it usable for an IR system. \n",
    "The points of this section are earned for the following implementations:\n",
    "- `read_cacm_docs` (4 points): Reads in the CACM documents.\n",
    "- `read_queries` (3 points): Reads in the CACM queries.\n",
    "- `load_stopwords` (1 point): Loads the stopwords.\n",
    "- `tokenize` (4 points): Tokenizes the input text.\n",
    "- `stem_token` (3 points): Stems the given token. \n",
    "\n",
    "We are using the [CACM dataset](http://ir.dcs.gla.ac.uk/resources/test_collections/cacm/), which is a small, classic IR dataset, composed of a collection of titles and abstracts from the journal CACM. It comes with relevance judgements for queries, so we can evaluate our IR system. \n"
   ]
  },
  {
   "cell_type": "markdown",
   "metadata": {
    "deletable": false,
    "editable": false,
    "id": "p_lmQikc4IWV",
    "nbgrader": {
     "cell_type": "markdown",
     "checksum": "1de1b97f9ee233ad2348359f0c158eb7",
     "grade": false,
     "grade_id": "cell-45651364e7af6d5a",
     "locked": true,
     "schema_version": 3,
     "solution": false,
     "task": false
    }
   },
   "source": [
    "---\n",
    "### 1.1 Read the CACM documents (4 points)\n",
    "\n",
    "\n",
    "The following cell downloads the dataset and unzips it to a local directory."
   ]
  },
  {
   "cell_type": "code",
   "execution_count": 2,
   "metadata": {
    "ExecuteTime": {
     "end_time": "2021-02-19T19:16:58.761038Z",
     "start_time": "2021-02-19T19:16:58.740832Z"
    },
    "deletable": false,
    "editable": false,
    "id": "GzgZPFdR4IWV",
    "nbgrader": {
     "cell_type": "code",
     "checksum": "4d43c9ad6e77cc01ce4cef0c34824930",
     "grade": false,
     "grade_id": "cell-bbc3030bb3fe7e02",
     "locked": true,
     "schema_version": 3,
     "solution": false,
     "task": false
    }
   },
   "outputs": [],
   "source": [
    "def download_dataset():\n",
    "    folder_path = os.environ.get(\"IR1_DATA_PATH\")\n",
    "    if not folder_path:\n",
    "        folder_path = \"./datasets/\"\n",
    "    os.makedirs(folder_path, exist_ok=True)\n",
    "    \n",
    "    file_location = os.path.join(folder_path, \"cacm.zip\")\n",
    "    \n",
    "    # download file if it doesn't exist\n",
    "    if not os.path.exists(file_location):\n",
    "        \n",
    "        url = \"https://surfdrive.surf.nl/files/index.php/s/M0FGJpX2p8wDwxR/download\"\n",
    "\n",
    "        with open(file_location, \"wb\") as handle:\n",
    "            print(f\"Downloading file from {url} to {file_location}\")\n",
    "            response = requests.get(url, stream=True)\n",
    "            for data in tqdm(response.iter_content()):\n",
    "                handle.write(data)\n",
    "            print(\"Finished downloading file\")\n",
    "    \n",
    "    if not os.path.exists(os.path.join(folder_path, \"train.txt\")):\n",
    "        \n",
    "        # unzip file\n",
    "        with zipfile.ZipFile(file_location, 'r') as zip_ref:\n",
    "            zip_ref.extractall(folder_path)\n",
    "        \n",
    "download_dataset()"
   ]
  },
  {
   "cell_type": "markdown",
   "metadata": {
    "deletable": false,
    "editable": false,
    "id": "mFgbUp9Q4IWW",
    "nbgrader": {
     "cell_type": "markdown",
     "checksum": "31609b0d61d0c74cbd69bc43e47c23be",
     "grade": false,
     "grade_id": "cell-a7dd9a9bf98ede05",
     "locked": true,
     "schema_version": 3,
     "solution": false,
     "task": false
    }
   },
   "source": [
    "---\n",
    "\n",
    "You can see a brief description of each file in the dataset by looking at the README file:"
   ]
  },
  {
   "cell_type": "code",
   "execution_count": 3,
   "metadata": {
    "ExecuteTime": {
     "end_time": "2021-02-19T19:16:58.818785Z",
     "start_time": "2021-02-19T19:16:58.764765Z"
    },
    "colab": {
     "base_uri": "https://localhost:8080/"
    },
    "deletable": false,
    "editable": false,
    "id": "XiphLpFK4IWW",
    "nbgrader": {
     "cell_type": "code",
     "checksum": "1783f9999c7d06955e8da815de62ba5f",
     "grade": false,
     "grade_id": "cell-9b6ff1a17124711f",
     "locked": true,
     "schema_version": 3,
     "solution": false,
     "task": false
    },
    "outputId": "0c34744f-c08a-45f7-ad13-ffdc2287cbda"
   },
   "outputs": [
    {
     "name": "stdout",
     "output_type": "stream",
     "text": [
      "Files in this directory with sizes:\n",
      "          0 Jun 19 21:01 README\n",
      "\n",
      "    2187734 Jun 19 20:55 cacm.all              text of documents\n",
      "        626 Jun 19 20:58 cite.info             key to citation info\n",
      "                                                (the X sections in cacm.all)\n",
      "       2668 Jun 19 20:55 common_words           stop words used by smart\n",
      "       2194 Jun 19 20:55 make_coll*             shell script to make collection\n",
      "       1557 Jun 19 20:55 make_coll_term*        ditto (both useless without\n",
      "                                                smart system)\n",
      "       9948 Jun 19 20:55 qrels.text             relation giving\n",
      "                                                    qid did 0 0\n",
      "                                                to indicate dument did is\n",
      "                                                relevant to query qid\n",
      "      13689 Jun 19 20:55 query.text             Original text of the query\n"
     ]
    }
   ],
   "source": [
    "##### Read the README file \n",
    "!cat ./datasets/README\n",
    "#####"
   ]
  },
  {
   "cell_type": "markdown",
   "metadata": {
    "deletable": false,
    "editable": false,
    "id": "NYQpF9664IWW",
    "nbgrader": {
     "cell_type": "markdown",
     "checksum": "d6a5333ae8e7f69d81900e714cc43852",
     "grade": false,
     "grade_id": "cell-73351431869fda76",
     "locked": true,
     "schema_version": 3,
     "solution": false,
     "task": false
    }
   },
   "source": [
    "---\n",
    "We are interested in 4 files:\n",
    "- `cacm.all` : Contains the text for all documents. Note that some documents do not have abstracts available. \n",
    "- `query.text` : The text of all queries\n",
    "- `qrels.text` : The relevance judgements\n",
    "- `common_words` : A list of common words. This may be used as a collection of stopwords"
   ]
  },
  {
   "cell_type": "code",
   "execution_count": 4,
   "metadata": {
    "ExecuteTime": {
     "end_time": "2021-02-19T19:16:58.874667Z",
     "start_time": "2021-02-19T19:16:58.820815Z"
    },
    "colab": {
     "base_uri": "https://localhost:8080/"
    },
    "deletable": false,
    "editable": false,
    "id": "YlAL1Byf4IWW",
    "nbgrader": {
     "cell_type": "code",
     "checksum": "c78e4256a08889ce3d0d985ea799b0a9",
     "grade": false,
     "grade_id": "cell-b44dd14079f278ca",
     "locked": true,
     "schema_version": 3,
     "solution": false,
     "task": false
    },
    "outputId": "671b1068-6500-45c4-e9d5-e4578d137c7b"
   },
   "outputs": [
    {
     "name": "stdout",
     "output_type": "stream",
     "text": [
      ".I 1\n",
      ".T\n",
      "Preliminary Report-International Algebraic Language\n",
      ".B\n",
      "CACM December, 1958\n",
      ".A\n",
      "Perlis, A. J.\n",
      "Samelson,K.\n",
      ".N\n",
      "CA581203 JB March 22, 1978  8:28 PM\n",
      ".X\n",
      "100\t5\t1\n",
      "123\t5\t1\n",
      "164\t5\t1\n",
      "1\t5\t1\n",
      "1\t5\t1\n",
      "1\t5\t1\n",
      "205\t5\t1\n",
      "210\t5\t1\n",
      "214\t5\t1\n",
      "1982\t5\t1\n",
      "398\t5\t1\n",
      "642\t5\t1\n",
      "669\t5\t1\n",
      "1\t6\t1\n",
      "1\t6\t1\n",
      "1\t6\t1\n",
      "1\t6\t1\n",
      "1\t6\t1\n",
      "1\t6\t1\n",
      "1\t6\t1\n",
      "1\t6\t1\n",
      "1\t6\t1\n",
      "1\t6\t1\n",
      "165\t6\t1\n",
      "196\t6\t1\n",
      "196\t6\t1\n",
      "1273\t6\t1\n",
      "1883\t6\t1\n",
      "324\t6\t1\n",
      "43\t6\t1\n",
      "53\t6\t1\n",
      "91\t6\t1\n",
      "410\t6\t1\n",
      "3184\t6\t1\n"
     ]
    }
   ],
   "source": [
    "##### The first 45 lines of the CACM dataset forms the first record\n",
    "# We are interested only in 3 fields. \n",
    "# 1. the '.I' field, which is the document id\n",
    "# 2. the '.T' field (the title) and\n",
    "# 3. the '.W' field (the abstract, which may be absent)\n",
    "!head -45 ./datasets/cacm.all\n",
    "#####"
   ]
  },
  {
   "cell_type": "markdown",
   "metadata": {
    "deletable": false,
    "editable": false,
    "id": "96QRlEr34IWX",
    "nbgrader": {
     "cell_type": "markdown",
     "checksum": "aff7cbe5a15a0e3329dc223e3e31abf3",
     "grade": false,
     "grade_id": "cell-c4bf2e263ec553d8",
     "locked": true,
     "schema_version": 3,
     "solution": false,
     "task": false
    }
   },
   "source": [
    "---\n",
    "\n",
    "**Implementation (4 points):**\n",
    "Write a function to read the `cacm.all` file. Note that each document has a variable number of lines. The `.I` field denotes a new document:"
   ]
  },
  {
   "cell_type": "code",
   "execution_count": 5,
   "metadata": {
    "ExecuteTime": {
     "end_time": "2021-02-19T19:16:58.880619Z",
     "start_time": "2021-02-19T19:16:58.875633Z"
    },
    "deletable": false,
    "id": "vNE2WPK-4IWX",
    "nbgrader": {
     "cell_type": "code",
     "checksum": "45fef5d5b543ee439176d7fd0a9d20be",
     "grade": false,
     "grade_id": "cell-b736116eb419c624",
     "locked": false,
     "schema_version": 3,
     "solution": true,
     "task": false
    }
   },
   "outputs": [],
   "source": [
    "# TODO: Implement this! (4 points)\n",
    "def read_cacm_docs(root_folder = \"./datasets/\"):\n",
    "    \"\"\"\n",
    "        Reads in the CACM documents. The dataset is assumed to be in the folder \"./datasets/\" by default\n",
    "        Returns: A list of 2-tuples: (doc_id, document), where 'document' is a single string created by \n",
    "            appending the title and abstract (separated by a \"\\n\"). \n",
    "            In case the record doesn't have an abstract, the document is composed only by the title\n",
    "    \"\"\"\n",
    "    # YOUR CODE HERE\n",
    "    doc_list = []\n",
    "    with open(root_folder + 'cacm.all') as f:\n",
    "        data = (\"\\n\" + f.read()).split(\"\\n.I\")\n",
    "        for i in data[1:]:\n",
    "            lines = i.split(\"\\n.\")\n",
    "            doc_id = str(lines[0][1:])\n",
    "            document = ''\n",
    "            for line in lines[1:]:\n",
    "                if line[0] == \"T\":\n",
    "                    document += line[2:]\n",
    "                if line[0] == \"W\":\n",
    "                    document += line[1:]\n",
    "            doc_list.append((doc_id,document))\n",
    "    return doc_list"
   ]
  },
  {
   "cell_type": "code",
   "execution_count": 6,
   "metadata": {
    "ExecuteTime": {
     "end_time": "2021-02-19T19:16:58.900608Z",
     "start_time": "2021-02-19T19:16:58.882614Z"
    },
    "deletable": false,
    "editable": false,
    "id": "qXIA2lFl4IWY",
    "nbgrader": {
     "cell_type": "code",
     "checksum": "70472b5c277bb7c417de8da24e4e5261",
     "grade": true,
     "grade_id": "cell-a1c43818e0d3fd79",
     "locked": true,
     "points": 4,
     "schema_version": 3,
     "solution": false,
     "task": false
    }
   },
   "outputs": [],
   "source": [
    "##### Function check\n",
    "docs = read_cacm_docs()\n",
    "assert isinstance(docs, list)\n",
    "assert len(docs) == 3204, \"There should be exactly 3024 documents\"\n",
    "##### "
   ]
  },
  {
   "cell_type": "markdown",
   "metadata": {
    "deletable": false,
    "editable": false,
    "id": "uZRyfi9R4IWY",
    "nbgrader": {
     "cell_type": "markdown",
     "checksum": "6fd095d2204cce3935444ca37c7c42da",
     "grade": false,
     "grade_id": "cell-5ed2ddc91f73c60e",
     "locked": true,
     "schema_version": 3,
     "solution": false,
     "task": false
    }
   },
   "source": [
    "---\n",
    "### 1.2 Read the CACM queries (3 points)\n",
    "\n",
    "Next, let us read the queries. They are formatted similarly:"
   ]
  },
  {
   "cell_type": "code",
   "execution_count": 7,
   "metadata": {
    "ExecuteTime": {
     "end_time": "2021-02-19T19:16:58.942454Z",
     "start_time": "2021-02-19T19:16:58.902601Z"
    },
    "colab": {
     "base_uri": "https://localhost:8080/"
    },
    "deletable": false,
    "editable": false,
    "id": "SypqoG8T4IWY",
    "nbgrader": {
     "cell_type": "code",
     "checksum": "5d26c0908e758acb9968b84056b1060a",
     "grade": false,
     "grade_id": "cell-5c7e8e7c4fc2757f",
     "locked": true,
     "schema_version": 3,
     "solution": false,
     "task": false
    },
    "outputId": "061e0dc1-6f1b-4d21-ff2b-775699a7a874"
   },
   "outputs": [
    {
     "name": "stdout",
     "output_type": "stream",
     "text": [
      ".I 1\n",
      ".W\n",
      " What articles exist which deal with TSS (Time Sharing System), an\n",
      "operating system for IBM computers?\n",
      ".N\n",
      " 1. Richard Alexander, Comp Serv, Langmuir Lab (TSS)\n",
      " \n",
      ".I 2\n",
      ".W\n",
      " I am interested in articles written either by Prieve or Udo Pooch\n",
      ".A\n",
      "Prieve, B.\n",
      "Pooch, U.\n",
      ".N\n",
      " 2. Richard Alexander, Comp Serv, Langmuir Lab (author = Pooch or Prieve)\n"
     ]
    }
   ],
   "source": [
    "##### The first 15 lines of 'query.text' has 2 queries\n",
    "# We are interested only in 2 fields. \n",
    "# 1. the '.I' - the query id\n",
    "# 2. the '.W' - the query\n",
    "!head -15 ./datasets/query.text\n",
    "#####"
   ]
  },
  {
   "cell_type": "markdown",
   "metadata": {
    "deletable": false,
    "editable": false,
    "id": "wrddYisC4IWY",
    "nbgrader": {
     "cell_type": "markdown",
     "checksum": "da34d95924026ea55bf0a9b2070ec237",
     "grade": false,
     "grade_id": "cell-88e293507d2dcef6",
     "locked": true,
     "schema_version": 3,
     "solution": false,
     "task": false
    }
   },
   "source": [
    "---\n",
    "\n",
    "**Implementation (3 points):**\n",
    "Write a function to read the `query.text` file:"
   ]
  },
  {
   "cell_type": "code",
   "execution_count": 8,
   "metadata": {
    "ExecuteTime": {
     "end_time": "2021-02-19T19:16:58.948438Z",
     "start_time": "2021-02-19T19:16:58.943451Z"
    },
    "deletable": false,
    "id": "Ct3uxE-s4IWZ",
    "nbgrader": {
     "cell_type": "code",
     "checksum": "f98ac81b2ccb44fe3441e202e980c847",
     "grade": false,
     "grade_id": "cell-433e3ad5d0e2572a",
     "locked": false,
     "schema_version": 3,
     "solution": true,
     "task": false
    }
   },
   "outputs": [],
   "source": [
    "# TODO: Implement this! (3 points)\n",
    "def read_queries(root_folder = \"./datasets/\"):\n",
    "    \"\"\"\n",
    "        Reads in the CACM queries. The dataset is assumed to be in the folder \"./datasets/\" by default\n",
    "        Returns: A list of 2-tuples: (query_id, query)\n",
    "    \"\"\"\n",
    "    # YOUR CODE HERE\n",
    "    query_list = []\n",
    "    with open(root_folder + 'query.text') as f:\n",
    "        data = (\"\\n\" + f.read()).split(\"\\n.I\")\n",
    "        for i in data[1:]:\n",
    "            lines = i.split(\"\\n.\")\n",
    "            query_id = str(lines[0][1:])\n",
    "            query = ''\n",
    "            for line in lines[1:]:\n",
    "                if line[0] == \"W\":\n",
    "                    query += line[1:]\n",
    "            query_list.append((query_id,query))\n",
    "    return query_list\n"
   ]
  },
  {
   "cell_type": "code",
   "execution_count": 9,
   "metadata": {
    "ExecuteTime": {
     "end_time": "2021-02-19T19:16:58.954479Z",
     "start_time": "2021-02-19T19:16:58.949435Z"
    },
    "colab": {
     "base_uri": "https://localhost:8080/"
    },
    "deletable": false,
    "editable": false,
    "id": "DYO92aQn4IWZ",
    "nbgrader": {
     "cell_type": "code",
     "checksum": "c0e7a9868bd4b92692c33732af640b8b",
     "grade": true,
     "grade_id": "cell-6ec540abce66c598",
     "locked": true,
     "points": 3,
     "schema_version": 3,
     "solution": false,
     "task": false
    },
    "outputId": "e6294e67-a14f-425e-d65d-a5780b07b487"
   },
   "outputs": [
    {
     "name": "stdout",
     "output_type": "stream",
     "text": [
      "[('1', '\\n What articles exist which deal with TSS (Time Sharing System), an\\noperating system for IBM computers?'), ('2', '\\n I am interested in articles written either by Prieve or Udo Pooch'), ('3', '\\n Intermediate languages used in construction of multi-targeted compilers; TCOLL'), ('4', \"\\n I'm interested in mechanisms for communicating between disjoint processes,\\npossibly, but not exclusively, in a distributed environment.  I would\\nrather see descriptions of complete mechanisms, with or without implementations,\\nas opposed to theoretical work on the abstract problem.  Remote procedure\\ncalls and message-passing are examples of my interests.\"), ('5', \"\\n I'd like papers on design and implementation of editing interfaces,\\nwindow-managers, command interpreters, etc.  The essential issues are\\nhuman interface design, with views on improvements to user efficiency,\\neffectiveness and satisfaction.\"), ('6', '\\n Interested in articles on robotics, motion planning particularly the\\ngeometric and combinatorial aspects.  We are not interested in the\\ndynamics of arm motion.'), ('7', '\\n I am interested in distributed algorithms - concurrent programs in\\nwhich processes communicate and synchronize by using message passing.\\nAreas of particular interest include fault-tolerance and techniques\\nfor understanding the correctness of these algorithms.'), ('8', '\\n Addressing schemes for resources in networks; resource addressing in\\nnetwork operating systems'), ('9', '\\n Security considerations in local networks, network operating systems,\\nand distributed systems.'), ('10', '\\n Parallel languages; languages for parallel computation'), ('11', '\\n SETL, Very High Level Languages'), ('12', '\\n portable operating systems'), ('13', '\\n code optimization for space efficiency'), ('14', '\\n find all discussions of optimal implementations of sort algorithms for\\ndatabase management applications'), ('15', '\\n Find all discussions of horizontal microcode optimization with special\\nemphasis on optimization of loops and global optimization.'), ('16', '\\n find all descriptions of file handling in operating systems based on\\nmultiple processes and message passing.'), ('17', '\\n Optimization of intermediate and machine code'), ('18', '\\n Languages and compilers for parallel processors, especially highly\\nhorizontal microcoded machines; code compaction'), ('19', '\\n Parallel algorithms'), ('20', '\\n Graph theoretic algorithms applicable to sparse matrices'), ('21', '\\n computational complexity, intractability, class-complete reductions,\\nalgorithms and efficiency'), ('22', '\\n I am interested in hidden-line and hidden-surface algorithms for\\ncylinders, toroids, spheres, and cones.  This is a rather specialized\\ntopic in computer graphics.'), ('23', '\\n Distributed computing structures and algorithms'), ('24', '\\n Applied stochastic processes'), ('25', '\\n Performance evaluation and modelling of computer systems'), ('26', '\\n Concurrency control mechanisms in operating systems'), ('27', '\\n Memory management aspects of operating systems'), ('28', '\\n Any information on packet radio networks.  Of particular interest are\\nalgorithms for packet routing, and for dealing with changes in\\nnetwork topography.  I am not interested in the hardware used in the\\nnetwork.'), ('29', '\\n Number-theoretic algorithms, especially involving prime number series,\\nsieves, and Chinese Remainder theorem.'), ('30', '\\n Articles on text formatting systems, including \"what you see is what you\\nget\" systems.  Examples: t/nroff, scribe, bravo.'), ('31', '\\n I\\'d like to find articles describing the use of singular value decomposition\\nin digital image processing.  Applications include finding approximations\\nto the original image and restoring images that are subject to noise. An\\narticle on the subject is H.C. Andrews and C.L. Patterson \"Outer product\\nexpansions and their uses in digital image processing\", American Mathematical\\nMonthly, vol. 82.'), ('32', \"\\n I'd like to find articles describing graph algorithms that are based on\\nthe eigenvalue decomposition (or singular value decomposition) of the\\najacency matrix for the graph.  I'm especially interested in any heuristic\\nalgorithms for graph coloring and graph isomorphism using this method.\"), ('33', '\\n Articles about the sensitivity of the eigenvalue decomposition of real\\nmatrices, in particular, zero-one matrices.  I\\'m especially interested in\\nthe separation of eigenspaces corresponding to distinct eigenvalues.\\nArticles on the subject:\\nC. Davis and W.M. Kahn, \"The rotation of eigenvectors by a permutation:,\\nSIAM J. Numerical Analysis, vol. 7, no. 1 (1970); G.W. Stewart, \"Error\\nbounds for approximate invariant subspaces of closed linear operators\",\\nSIAM J. Numerical Analysis., Vol. 8, no. 4 (1971).'), ('34', '\\n Currently interested in isolation of root of polynomial; there is an old\\narticle by Heindel, L.E. in J. ACM, Vol. 18, 533-548.  I would like to find\\nmore recent material.'), ('35', '\\n Probabilistic algorithms especially those dealing with algebraic and\\nsymbolic manipulation.  Some examples:\\nRabiin, \"Probabilistic algorithm on finite field\", SIAM\\nWaztch, \"Probabilistic testing of polynomial identities\", SIAM'), ('36', '\\n Fast algorithm for context-free language recognition or parsing'), ('37', '\\n Articles describing the relationship between data types and concurrency\\n(e.g. what is the type of a process?  when is a synchronization attempt \\nbetween two processes \"type correct\"?  in a message-passing system is there\\nany notion of the types of messages?--i.e. any way to check that the sender\\nof the message and the receiver are both treating the bit stream as some\\nparticular type)'), ('38', '\\n What is the type of a module?\\t(I don\\'t want the entire literature on\\nAbstract Data Types here, but I\\'m not sure how to phrase this to avoid it.\\nI\\'m interested in questions about how one can check that a module \"matches\"\\ncontexts in which it is used.)'), ('39', '\\n What does type compatibility mean in languages that allow programmer\\ndefined types?  (You might want to restrict this to \"extensible\" languages\\nthat allow definition of abstract data types or programmer-supplied\\ndefinitions of operators like *, +.)'), ('40', '\\n List all articles dealing with data types in the following languages:\\nPascal, CLU, Alphard, Russell, Ada, ALGOL 68, EL1.  List any other languages\\nthat are referenced frequently in papers on the above languages (e.g. catch\\nany languages with interesting type structures that I might have missed).'), ('41', '\\n Theory of distributed systems and databases.  Subtopics of special\\ninterest include reliability and fault-tolerance in distributed systems,\\natomicity, distributed transactions, synchronization algorithms, \\nresource allocation; lower bounds and models for asynchronous parallel\\nsystems.  Also theory of communicating processes and protocols.   '), ('42', '\\n Computer performance evaluation techniques using pattern recognition\\nand clustering.'), ('43', '\\n Analysis and perception of shape by humans and computers.  Shape\\ndescriptions, shape recognition by computer.  Two-dimensional shapes.\\nMeasures of circularity.  Shape matching.'), ('44', '\\n Texture analysis by computer.\\tDigitized texture analysis.  Texture\\nsynthesis. Perception of texture.'), ('45', '\\n The use of operations research models to optimize information system\\nperformance.  This includes fine tuning decisions such as secondary index\\nselection, file reorganization, and distributed databases.'), ('46', '\\n The application of fuzzy subset theory to clustering and information\\nretrieval problems.  This includes performance evaluation and automatic\\nindexing considerations.'), ('47', '\\n The use of Bayesian decision models to optimize information retrieval\\nsystem performance.  This includes stopping rules to determine when a\\nuser should cease scanning the output of a retrieval search.'), ('48', '\\n The use of computer science principles (e.g. data structures, \\nnumerical methods) in generating optimization (e.g. linear programming)\\nalgorithms.  This includes issues of the Khachian (Russian, ellipsoidal)\\nalgorithm and complexity of such algorithms.'), ('49', '\\n The role of information retrieval in knowledge based systems\\n(i.e., expert systems).'), ('50', '\\n Parallel processors in information retrieval'), ('51', '\\n Parallel processors and paging algorithms'), ('52', '\\n Modelling and simulation in agricultural ecosystems.'), ('53', '\\n mathematical induction, group theory, integers modulo m,\\nprobability, binomial coefficients, binomial theorem, homomorphism,\\nmorphism, transitivity, relations, relation matrix.'), ('54', '\\n Semantics of programming languages, including abstract specifications\\nof data types, denotational semantics, and proofs of correctness.'), ('55', '\\n Anything dealing with star height of regular languages or regular\\nexpressions or regular events.'), ('56', '\\n Articles relation the algebraic theory of semigroups and monoids\\nto the study of automata and regular languages.'), ('57', '\\n Abstracts of articles:\\n    J. Backus, \"Can programming be liberated from the Von Neumann style?\\n               A functional style and its algebra of programs\", CACM 21\\n               (1978), 613-641.\\n    R.A.De Millo, R.J. Lipton, A.J. Perlis, letter to ACM Forum, CACM 22\\n\\t       (1979), 629-630'), ('58', \"\\n Algorithms or statistical packages for ANOVA, regression using least\\nsquares or generalized linear models.  System design, capabilities,\\nstatistical formula are of interest.  Student's t test, Wilcoxon and\\nsign tests, multivariate and univariate components can be included.\"), ('59', '\\n Dictionary construction and accessing methods for fast retrieval\\nof words or lexical items or morphologically related information.\\nHashing or indexing methods are usually applied to English spelling or\\nnatural language problems.'), ('60', '\\n Hardware and software relating to database management systems.\\nDatabase packages, back end computers, special associative hardware\\nwith microcomputers attached to disk heads or things like RAP, \\nrelational or network (CODASYL) or hierarchical models, systems\\nlike SYSTEM R, IMS, ADABAS, TOTAL, etc.'), ('61', '\\n Information retrieval articles by Gerard Salton or others about clustering,\\nbibliographic coupling, use of citations or co-citations, the vector\\nspace model, Boolean search methods using inverted files, feedback, etc.'), ('62', \"\\n Results relating parallel complexity theory (both for PRAM's and\\nuniform circuits).\"), ('63', '\\n Algorithms for parallel computation, and especially comparisons\\nbetween parallel and sequential algorithms.'), ('64', \"\\n List all articles on EL1 and ECL (EL1 may be given as EL/1; I don't\\nremember how they did it.\")]\n"
     ]
    }
   ],
   "source": [
    "##### Function check\n",
    "queries = read_queries()\n",
    "\n",
    "assert isinstance(queries, list)\n",
    "assert len(queries) == 64 and all([q[1] is not None for q in queries]), \"There should be exactly 64 queries\"\n",
    "##### "
   ]
  },
  {
   "cell_type": "markdown",
   "metadata": {
    "deletable": false,
    "editable": false,
    "id": "7PZ1YsjO4IWa",
    "nbgrader": {
     "cell_type": "markdown",
     "checksum": "652f9159caea63888e06b54103bd7f32",
     "grade": false,
     "grade_id": "cell-1c31569491d7b782",
     "locked": true,
     "schema_version": 3,
     "solution": false,
     "task": false
    }
   },
   "source": [
    "---\n",
    "### 1.3 Read the stop words (1 point)\n",
    "\n",
    "We use the common words stored in `common_words`:"
   ]
  },
  {
   "cell_type": "code",
   "execution_count": 10,
   "metadata": {
    "ExecuteTime": {
     "end_time": "2021-02-19T19:16:58.995351Z",
     "start_time": "2021-02-19T19:16:58.955419Z"
    },
    "colab": {
     "base_uri": "https://localhost:8080/"
    },
    "deletable": false,
    "editable": false,
    "id": "3eIEzeOd4IWa",
    "nbgrader": {
     "cell_type": "code",
     "checksum": "1ad6f5bae6a792504c1c8513ae5751ad",
     "grade": false,
     "grade_id": "cell-34bdb63461418a96",
     "locked": true,
     "schema_version": 3,
     "solution": false,
     "task": false
    },
    "outputId": "4b9a90c7-f76e-41fa-cf60-f87c74f6061f"
   },
   "outputs": [
    {
     "name": "stdout",
     "output_type": "stream",
     "text": [
      "a\n",
      "about\n",
      "above\n",
      "accordingly\n",
      "across\n",
      "after\n",
      "afterwards\n",
      "again\n",
      "against\n",
      "all\n"
     ]
    }
   ],
   "source": [
    "##### Read the stop words file \n",
    "!head ./datasets/common_words\n",
    "##### Read the README file "
   ]
  },
  {
   "cell_type": "markdown",
   "metadata": {
    "deletable": false,
    "editable": false,
    "id": "yS-QJ59W4IWa",
    "nbgrader": {
     "cell_type": "markdown",
     "checksum": "f720edbacd79170351156a443e0018ff",
     "grade": false,
     "grade_id": "cell-4744bde0338895d8",
     "locked": true,
     "schema_version": 3,
     "solution": false,
     "task": false
    }
   },
   "source": [
    "---\n",
    "**Implementation (1 point):**\n",
    "Write a function to read the `common_words` file (For better coverage, try to keep them in lowercase):"
   ]
  },
  {
   "cell_type": "code",
   "execution_count": 11,
   "metadata": {
    "ExecuteTime": {
     "end_time": "2021-02-19T19:16:59.000299Z",
     "start_time": "2021-02-19T19:16:58.996309Z"
    },
    "deletable": false,
    "id": "lgwbY-mG4IWb",
    "nbgrader": {
     "cell_type": "code",
     "checksum": "e6a9e9bb3ad0f8dc2ec3c497a3149092",
     "grade": false,
     "grade_id": "cell-7357aa40f64e5bcb",
     "locked": false,
     "schema_version": 3,
     "solution": true,
     "task": false
    }
   },
   "outputs": [],
   "source": [
    "# TODO: Implement this! (1 point)\n",
    "def load_stopwords(root_folder = \"./datasets/\"):\n",
    "    \"\"\"\n",
    "        Loads the stopwords. The dataset is assumed to be in the folder \"./datasets/\" by default\n",
    "        Output: A set of stopwords\n",
    "    \"\"\"\n",
    "    # YOUR CODE HERE\n",
    "    with open(os.path.join(root_folder, \"common_words\"), 'r+') as f:\n",
    "        words = set(f.readlines())\n",
    "        \n",
    "    \n",
    "    return words"
   ]
  },
  {
   "cell_type": "code",
   "execution_count": 12,
   "metadata": {
    "ExecuteTime": {
     "end_time": "2021-02-19T19:16:59.006283Z",
     "start_time": "2021-02-19T19:16:59.002295Z"
    },
    "colab": {
     "base_uri": "https://localhost:8080/",
     "height": 316
    },
    "deletable": false,
    "editable": false,
    "id": "H_RpcrQ84IWb",
    "nbgrader": {
     "cell_type": "code",
     "checksum": "9211b9735b828d89d1a51d8743c448b4",
     "grade": true,
     "grade_id": "cell-2ca3ac162004de97",
     "locked": true,
     "points": 1,
     "schema_version": 3,
     "solution": false,
     "task": false
    },
    "outputId": "ac1d355d-212f-4b8a-deda-f4058a3716b2"
   },
   "outputs": [],
   "source": [
    "##### Function check\n",
    "stopwords = load_stopwords()\n",
    "\n",
    "assert isinstance(stopwords, set)\n",
    "assert len(stopwords) == 428, \"There should be exactly 428 stop words\"\n",
    "##### "
   ]
  },
  {
   "cell_type": "markdown",
   "metadata": {
    "deletable": false,
    "editable": false,
    "id": "OKFMtm3T4IWb",
    "nbgrader": {
     "cell_type": "markdown",
     "checksum": "fc7e419f35dfd3f507d8a7555ce2cde9",
     "grade": false,
     "grade_id": "cell-134b72872f4300cb",
     "locked": true,
     "schema_version": 3,
     "solution": false,
     "task": false
    }
   },
   "source": [
    "---\n",
    "### 1.4 Tokenization (4 points)\n",
    "\n",
    "We can now write some basic text processing functions. \n",
    "A first step is to tokenize the text. \n",
    "\n",
    "**Note**: Use the  `WordPunctTokenizer` available in the `nltk` library:"
   ]
  },
  {
   "cell_type": "code",
   "execution_count": 13,
   "metadata": {
    "ExecuteTime": {
     "end_time": "2021-02-19T19:16:59.010273Z",
     "start_time": "2021-02-19T19:16:59.007280Z"
    },
    "deletable": false,
    "id": "OWakwkEw4IWb",
    "nbgrader": {
     "cell_type": "code",
     "checksum": "3f5564d3c75bf22fbf832b3a9b938f37",
     "grade": false,
     "grade_id": "cell-322be4c9499bdc4b",
     "locked": false,
     "schema_version": 3,
     "solution": true,
     "task": false
    }
   },
   "outputs": [],
   "source": [
    "# TODO: Implement this! (4 points)\n",
    "def tokenize(text):\n",
    "    \"\"\"\n",
    "        Tokenizes the input text. Use the WordPunctTokenizer\n",
    "        Input: text - a string\n",
    "        Output: a list of tokens\n",
    "    \"\"\"\n",
    "    # YOUR CODE HERE\n",
    "    return nltk.tokenize.WordPunctTokenizer().tokenize(text)\n",
    "    "
   ]
  },
  {
   "cell_type": "code",
   "execution_count": 14,
   "metadata": {
    "ExecuteTime": {
     "end_time": "2021-02-19T19:16:59.015259Z",
     "start_time": "2021-02-19T19:16:59.011270Z"
    },
    "deletable": false,
    "editable": false,
    "id": "Mk4dGvkP4IWc",
    "nbgrader": {
     "cell_type": "code",
     "checksum": "f60b93aa03bf9eced64940252eb33fe3",
     "grade": true,
     "grade_id": "cell-7fbf48bf7541a622",
     "locked": true,
     "points": 4,
     "schema_version": 3,
     "solution": false,
     "task": false
    }
   },
   "outputs": [
    {
     "name": "stdout",
     "output_type": "stream",
     "text": [
      "['the', 'quick', 'brown', 'fox', 'jumps', 'over', 'the', 'lazy', 'dog']\n"
     ]
    }
   ],
   "source": [
    "##### Function check\n",
    "text = \"the quick brown fox jumps over the lazy dog\"\n",
    "tokens = tokenize(text)\n",
    "\n",
    "assert isinstance(tokens, list)\n",
    "assert len(tokens) == 9\n",
    "\n",
    "print(tokens)\n",
    "# output: ['the', 'quick', 'brown', 'fox', 'jumps', 'over', 'the', 'lazy', 'dog']\n",
    "#####"
   ]
  },
  {
   "cell_type": "markdown",
   "metadata": {
    "deletable": false,
    "editable": false,
    "id": "PEw9RAKO4IWc",
    "nbgrader": {
     "cell_type": "markdown",
     "checksum": "1b1cc868db22735e5e193bc64ff67877",
     "grade": false,
     "grade_id": "cell-fd1b98ae61b697ca",
     "locked": true,
     "schema_version": 3,
     "solution": false,
     "task": false
    }
   },
   "source": [
    "---\n",
    "### 1.5 Stemming (3 points)\n",
    "\n",
    "Write a function to stem tokens. \n",
    "Again, you can use the nltk library for this:"
   ]
  },
  {
   "cell_type": "code",
   "execution_count": 15,
   "metadata": {
    "ExecuteTime": {
     "end_time": "2021-02-19T19:16:59.019249Z",
     "start_time": "2021-02-19T19:16:59.016257Z"
    },
    "deletable": false,
    "id": "ViYt0smN4IWc",
    "nbgrader": {
     "cell_type": "code",
     "checksum": "1c4a6aa979d66158c7b6b992af43293a",
     "grade": false,
     "grade_id": "cell-e3f6c8e3f874b28d",
     "locked": false,
     "schema_version": 3,
     "solution": true,
     "task": false
    }
   },
   "outputs": [],
   "source": [
    "# TODO: Implement this! (3 points)\n",
    "def stem_token(token):\n",
    "    \"\"\"\n",
    "        Stems the given token using the PorterStemmer from the nltk library\n",
    "        Input: a single token\n",
    "        Output: the stem of the token\n",
    "    \"\"\"\n",
    "    ps = nltk.stem.PorterStemmer()\n",
    "    return ps.stem(token)\n"
   ]
  },
  {
   "cell_type": "code",
   "execution_count": 16,
   "metadata": {
    "ExecuteTime": {
     "end_time": "2021-02-19T19:16:59.023238Z",
     "start_time": "2021-02-19T19:16:59.020246Z"
    },
    "deletable": false,
    "editable": false,
    "id": "-qSBNMns4IWd",
    "nbgrader": {
     "cell_type": "code",
     "checksum": "cd2611a46e7c2e92af438d7166cf2616",
     "grade": true,
     "grade_id": "cell-cd6863e6ee6ed205",
     "locked": true,
     "points": 3,
     "schema_version": 3,
     "solution": false,
     "task": false
    }
   },
   "outputs": [],
   "source": [
    "##### Function check\n",
    "assert stem_token('owned') == 'own'\n",
    "assert stem_token('itemization') == 'item'\n",
    "#####"
   ]
  },
  {
   "cell_type": "markdown",
   "metadata": {
    "deletable": false,
    "editable": false,
    "id": "M10Gq1wo4IWd",
    "nbgrader": {
     "cell_type": "markdown",
     "checksum": "5fcc93f08a6abcaffd5bd9475e4768e5",
     "grade": false,
     "grade_id": "cell-47c9f90498699110",
     "locked": true,
     "schema_version": 3,
     "solution": false,
     "task": false
    }
   },
   "source": [
    "---\n",
    "### 1.6 Summary\n",
    "\n",
    "The following function puts it all together. Given a string, it tokenizes it and processes it according to the flags that you set."
   ]
  },
  {
   "cell_type": "code",
   "execution_count": 17,
   "metadata": {
    "ExecuteTime": {
     "end_time": "2021-02-19T19:16:59.028225Z",
     "start_time": "2021-02-19T19:16:59.024235Z"
    },
    "deletable": false,
    "editable": false,
    "id": "Y9P9q9074IWd",
    "nbgrader": {
     "cell_type": "code",
     "checksum": "2ff2d215ee8e0039c5a91fd3de12e6bd",
     "grade": false,
     "grade_id": "cell-dd0d3f46b30801da",
     "locked": true,
     "schema_version": 3,
     "solution": false,
     "task": false
    }
   },
   "outputs": [],
   "source": [
    "#### Putting it all together\n",
    "def process_text(text, stem=False, remove_stopwords=False, lowercase_text=False):\n",
    "    \n",
    "    tokens = []\n",
    "    for token in tokenize(text):\n",
    "        if remove_stopwords and token.lower() in stopwords:\n",
    "            continue\n",
    "        if stem:\n",
    "            token = stem_token(token)\n",
    "        if lowercase_text:\n",
    "            token = token.lower()\n",
    "        tokens.append(token)\n",
    "\n",
    "    return tokens\n",
    "#### "
   ]
  },
  {
   "cell_type": "markdown",
   "metadata": {
    "deletable": false,
    "editable": false,
    "id": "3ZprLpXX4IWd",
    "nbgrader": {
     "cell_type": "markdown",
     "checksum": "02d433b18eb43654fa4306a7bf55b190",
     "grade": false,
     "grade_id": "cell-8d885bfd2edd43ae",
     "locked": true,
     "schema_version": 3,
     "solution": false,
     "task": false
    }
   },
   "source": [
    "---\n",
    "\n",
    "Let's create two sets of preprocessed documents.\n",
    "We can process the documents and queries according to these two configurations:"
   ]
  },
  {
   "cell_type": "code",
   "execution_count": 18,
   "metadata": {
    "ExecuteTime": {
     "end_time": "2021-02-19T19:17:02.631948Z",
     "start_time": "2021-02-19T19:16:59.029222Z"
    },
    "deletable": false,
    "editable": false,
    "id": "zSAhYQo84IWd",
    "nbgrader": {
     "cell_type": "code",
     "checksum": "dbe4ca667be6842fdcf512fbcad50c7f",
     "grade": false,
     "grade_id": "cell-d427365ee0fb21d8",
     "locked": true,
     "schema_version": 3,
     "solution": false,
     "task": false
    }
   },
   "outputs": [],
   "source": [
    "# In this configuration:\n",
    "# Don't preprocess the text, except to tokenize \n",
    "config_1 = {\n",
    "  \"stem\": False,\n",
    "  \"remove_stopwords\" : False,\n",
    "  \"lowercase_text\": True\n",
    "} \n",
    "\n",
    "\n",
    "# In this configuration:\n",
    "# Preprocess the text, stem and remove stopwords\n",
    "config_2 = {\n",
    "  \"stem\": True,\n",
    "  \"remove_stopwords\" : True,\n",
    "  \"lowercase_text\": True, \n",
    "} \n",
    "\n",
    "####\n",
    "doc_repr_1 = []\n",
    "doc_repr_2 = []\n",
    "for (doc_id, document) in docs:\n",
    "    doc_repr_1.append((doc_id, process_text(document, **config_1)))\n",
    "    doc_repr_2.append((doc_id, process_text(document, **config_2)))\n",
    "\n",
    "####"
   ]
  },
  {
   "cell_type": "markdown",
   "metadata": {
    "deletable": false,
    "editable": false,
    "id": "ARVTcJrC4IWe",
    "nbgrader": {
     "cell_type": "markdown",
     "checksum": "b60589aac19e80941d860d9b3f1e9a16",
     "grade": false,
     "grade_id": "cell-b1c102db61ae7495",
     "locked": true,
     "schema_version": 3,
     "solution": false,
     "task": false
    }
   },
   "source": [
    "--- \n",
    "\n",
    "## Section 2: Indexing (10 points)<a class=\"anchor\" id=\"indexing\"></a>\n",
    "\n",
    "[Back to Part 1](#part1)\n",
    "\n",
    "\n",
    "\n",
    "A retrieval function usually takes in a query document pair, and scores a query against a document.  Our document set is quite small - just a few thousand documents. However, consider a web-scale dataset with a few million documents. In such a scenario, it would become infeasible to score every query and document pair. In such a case, we can build an inverted index. From Wikipedia:\n",
    "\n",
    "> ... , an inverted index (also referred to as a postings file or inverted file) is a database index storing a mapping from content, such as words or numbers, to its locations in a table, .... The purpose of an inverted index is to allow fast full-text searches, at a cost of increased processing when a document is added to the database. ...\n",
    "\n",
    "\n",
    "Consider a simple inverted index, which maps from word to document. This can improve the performance of a retrieval system significantly. In this assignment, we consider a *simple* inverted index, which maps a word to a set of documents. In practice, however, more complex indices might be used.  \n"
   ]
  },
  {
   "cell_type": "markdown",
   "metadata": {
    "deletable": false,
    "editable": false,
    "id": "pu4nDAJQ4IWe",
    "nbgrader": {
     "cell_type": "markdown",
     "checksum": "710fd943f45523ac36fcb887cc0d4d39",
     "grade": false,
     "grade_id": "cell-fa373192c1b7bb95",
     "locked": true,
     "schema_version": 3,
     "solution": false,
     "task": false
    }
   },
   "source": [
    "### 2.1 Term Frequency-index (10 points)\n",
    "In this assignment, we will be using an index created in memory since our dataset is tiny. To get started, build a simple index that maps each `token` to a list of `(doc_id, count)` where `count` is the count of the `token` in `doc_id`.\n",
    "For consistency, build this index using a python dictionary.\n",
    "    \n",
    "Now, implement a function to build an index:"
   ]
  },
  {
   "cell_type": "code",
   "execution_count": 19,
   "metadata": {
    "ExecuteTime": {
     "end_time": "2021-02-19T19:17:02.636937Z",
     "start_time": "2021-02-19T19:17:02.632947Z"
    },
    "deletable": false,
    "id": "oILPNIpe4IWe",
    "nbgrader": {
     "cell_type": "code",
     "checksum": "c281c45196493b87e45e1b3fb4ddd6c9",
     "grade": false,
     "grade_id": "cell-077599b87e953209",
     "locked": false,
     "schema_version": 3,
     "solution": true,
     "task": false
    }
   },
   "outputs": [],
   "source": [
    "# TODO: Implement this! (10 points)\n",
    "def build_tf_index(documents):\n",
    "    \"\"\"\n",
    "        Build an inverted index (with counts). The output is a dictionary which takes in a token\n",
    "        and returns a list of (doc_id, count) where 'count' is the count of the 'token' in 'doc_id'\n",
    "        Input: a list of documents - (doc_id, tokens) \n",
    "        Output: An inverted index. [token] -> [(doc_id, token_count)]\n",
    "    \"\"\"\n",
    "    # YOUR CODE HERE\n",
    "    inverted_index = {}\n",
    "    for (doc_id, words) in documents:\n",
    "        word_occurences = Counter(words)        \n",
    "        for word in word_occurences:\n",
    "            token_count = word_occurences[word]\n",
    "            if word not in inverted_index:\n",
    "                inverted_index[word] = [(doc_id,token_count)]\n",
    "            else:\n",
    "                inverted_index[word].append((doc_id, token_count))\n",
    "\n",
    "    return inverted_index"
   ]
  },
  {
   "cell_type": "markdown",
   "metadata": {
    "deletable": false,
    "editable": false,
    "id": "Ydx63-0M4IWe",
    "nbgrader": {
     "cell_type": "markdown",
     "checksum": "15e7041b4323d2a290322de538ff7670",
     "grade": false,
     "grade_id": "cell-093aebfa504f96f2",
     "locked": true,
     "schema_version": 3,
     "solution": false,
     "task": false
    }
   },
   "source": [
    "---\n",
    "Now we can build indexed documents and preprocess the queries based on the two configurations:"
   ]
  },
  {
   "cell_type": "code",
   "execution_count": 20,
   "metadata": {
    "ExecuteTime": {
     "end_time": "2021-02-19T19:17:02.829465Z",
     "start_time": "2021-02-19T19:17:02.637934Z"
    },
    "deletable": false,
    "editable": false,
    "id": "uPguIGwp4IWe",
    "nbgrader": {
     "cell_type": "code",
     "checksum": "e27540c1d8d77a3779a05f557f3f40c6",
     "grade": false,
     "grade_id": "cell-b2ff1676348b90a8",
     "locked": true,
     "schema_version": 3,
     "solution": false,
     "task": false
    },
    "tags": []
   },
   "outputs": [],
   "source": [
    "#### Indexed documents based on the two configs\n",
    "\n",
    "# Create the 2 indices\n",
    "tf_index_1 = build_tf_index(doc_repr_1)\n",
    "tf_index_2 = build_tf_index(doc_repr_2)\n",
    "\n",
    "# This function returns the tf_index of the corresponding config\n",
    "def get_index(index_set):\n",
    "    assert index_set in {1, 2}\n",
    "    return {\n",
    "        1: tf_index_1,\n",
    "        2: tf_index_2\n",
    "    }[index_set]\n",
    "\n",
    "####\n",
    "#### Preprocessed query based on the two configs\n",
    "\n",
    "# This function preprocesses the text given the index set, according to the specified config\n",
    "def preprocess_query(text, index_set):\n",
    "    assert index_set in {1, 2}\n",
    "    if index_set == 1:\n",
    "        return process_text(text, **config_1)\n",
    "    elif index_set == 2:\n",
    "        return process_text(text, **config_2)\n",
    "\n",
    "#### "
   ]
  },
  {
   "cell_type": "code",
   "execution_count": 21,
   "metadata": {
    "ExecuteTime": {
     "end_time": "2021-02-19T19:17:02.834409Z",
     "start_time": "2021-02-19T19:17:02.830418Z"
    },
    "deletable": false,
    "editable": false,
    "id": "XgY38oQB4IWe",
    "nbgrader": {
     "cell_type": "code",
     "checksum": "2c50e4b4c68261ff1184277bcf3c38d8",
     "grade": true,
     "grade_id": "cell-fc7c7232d5d2ee46",
     "locked": true,
     "points": 5,
     "schema_version": 3,
     "solution": false,
     "task": false
    }
   },
   "outputs": [
    {
     "name": "stdout",
     "output_type": "stream",
     "text": [
      "[('4', 1), ('7', 1), ('10', 1), ('13', 1), ('19', 1), ('22', 1), ('23', 1), ('37', 1), ('40', 3), ('41', 1)]\n"
     ]
    }
   ],
   "source": [
    "##### Function check\n",
    "\n",
    "print(tf_index_1['computer'][:10])\n",
    "#### "
   ]
  },
  {
   "cell_type": "code",
   "execution_count": 22,
   "metadata": {
    "ExecuteTime": {
     "end_time": "2021-02-19T19:17:02.845380Z",
     "start_time": "2021-02-19T19:17:02.838398Z"
    },
    "deletable": false,
    "editable": false,
    "id": "IaQl12X74IWe",
    "nbgrader": {
     "cell_type": "code",
     "checksum": "02de27463e2a393f46278d6fe3160481",
     "grade": true,
     "grade_id": "cell-ff06bd11204db250",
     "locked": true,
     "points": 5,
     "schema_version": 3,
     "solution": false,
     "task": false
    }
   },
   "outputs": [
    {
     "name": "stdout",
     "output_type": "stream",
     "text": [
      "[('670', 1), ('675', 1), ('1621', 3), ('1681', 1), ('2145', 1), ('2339', 1), ('2572', 1), ('2583', 1), ('2739', 1), ('3012', 1)]\n"
     ]
    }
   ],
   "source": [
    "##### Function check\n",
    "\n",
    "print(tf_index_2['computer'][:10]) \n",
    "#### "
   ]
  },
  {
   "cell_type": "markdown",
   "metadata": {
    "deletable": false,
    "editable": false,
    "id": "D3EIl_rY4IWf",
    "nbgrader": {
     "cell_type": "markdown",
     "checksum": "982112dca3f9a75e871bea74fe1adab4",
     "grade": false,
     "grade_id": "cell-89eba71f04310291",
     "locked": true,
     "schema_version": 3,
     "solution": false,
     "task": false
    }
   },
   "source": [
    "\n",
    "---\n",
    "## Section 3: Ranking  (80 points) <a class=\"anchor\" id=\"ranking\"></a>\n",
    "\n",
    "[Back to Part 1](#part1)\n",
    "\n",
    "Now that we have cleaned and processed our dataset, we can start building simple IR systems. \n",
    "\n",
    "For now, we consider *simple* IR systems, which involve computing scores from the tokens present in the document/query. More advanced methods are covered in later assignments.\n",
    "\n",
    "We will implement the following methods in this section:\n",
    "- [Section 3.1: Bag of Words](#bow) (10 points)\n",
    "- [Section 3.2: TF-IDF](#tfidf) (15 points)\n",
    "- [Section 3.3: Query Likelihood Model](#qlm) (35 points)\n",
    "- [Section 3.4: BM25](#bm25) (20 points)\n",
    "\n",
    "**Scoring policy:**\n",
    "Your implementations in this section are scored based on the expected performance of your ranking functions.\n",
    "You will get a full mark if your implementation meets the expected performance (measured by some evaluation metric).\n",
    "Otherwise, you may get partial credit.\n",
    "For example, if your *Bag of words* ranking function has 60% of expected performance, you will get 4 out of 10."
   ]
  },
  {
   "cell_type": "markdown",
   "metadata": {
    "deletable": false,
    "editable": false,
    "id": "43wdjFkt4IWf",
    "nbgrader": {
     "cell_type": "markdown",
     "checksum": "97c13d2e2cad60df4a70dcb61ea7c30e",
     "grade": false,
     "grade_id": "cell-3daf70a60e393adf",
     "locked": true,
     "schema_version": 3,
     "solution": false,
     "task": false
    }
   },
   "source": [
    "--- \n",
    "\n",
    "### Section 3.1: Bag of Words (10 points)<a class=\"anchor\" id=\"bow\"></a>\n",
    "\n",
    "Probably the simplest IR model is the Bag of Words (BOW) model.\n",
    "Implement a function that scores and ranks all the documents against a query using this model.   \n",
    "\n",
    "Note that you can use either the count of the token or 'binarize' it i.e set the value equal to 1 if the token appears.   \n"
   ]
  },
  {
   "cell_type": "code",
   "execution_count": 23,
   "metadata": {
    "ExecuteTime": {
     "end_time": "2021-02-19T19:17:02.853394Z",
     "start_time": "2021-02-19T19:17:02.848403Z"
    },
    "deletable": false,
    "id": "YdfD8mWa4IWf",
    "nbgrader": {
     "cell_type": "code",
     "checksum": "1178c8a8908b0e4dc07add7aa49b7fde",
     "grade": false,
     "grade_id": "cell-de9cf0459c4b9324",
     "locked": false,
     "schema_version": 3,
     "solution": true,
     "task": false
    }
   },
   "outputs": [],
   "source": [
    "# TODO: Implement this! (10 points)\n",
    "def bow_search(query, index_set):\n",
    "    \"\"\"\n",
    "        Perform a search over all documents with the given query. \n",
    "        Note: You have to use the `get_index` function created in the previous cells\n",
    "        Input: \n",
    "            query - a (unprocessed) query\n",
    "            index_set - the index to use\n",
    "        Output: a list of (document_id, score), sorted in descending relevance to the given query \n",
    "    \"\"\"\n",
    "    index = get_index(index_set)\n",
    "    processed_query = preprocess_query(query, index_set)\n",
    "    \n",
    "    # YOUR CODE HERE\n",
    "    doc_scores = {}\n",
    "    for query_word in processed_query:\n",
    "        if query_word in index:\n",
    "            word_occurences = index[query_word] \n",
    "            for (doc_id, counts) in word_occurences:\n",
    "                if doc_id not in doc_scores:\n",
    "                    doc_scores[doc_id] = 1\n",
    "                else:\n",
    "                    doc_scores[doc_id] += 1\n",
    "    \n",
    "    sorted_scores = [(k, float(v)) for k, v in sorted(doc_scores.items(), key=lambda item:item[1], reverse=True)]\n",
    "\n",
    "    return sorted_scores"
   ]
  },
  {
   "cell_type": "code",
   "execution_count": 24,
   "metadata": {
    "ExecuteTime": {
     "end_time": "2021-02-19T19:17:02.859435Z",
     "start_time": "2021-02-19T19:17:02.855353Z"
    },
    "deletable": false,
    "editable": false,
    "id": "YAeh2kuY4IWf",
    "nbgrader": {
     "cell_type": "code",
     "checksum": "644d6d33cf5075c6d9878d4fe24c6213",
     "grade": true,
     "grade_id": "cell-9f6aceae6dd9125f",
     "locked": true,
     "points": 2,
     "schema_version": 3,
     "solution": false,
     "task": false
    }
   },
   "outputs": [
    {
     "name": "stdout",
     "output_type": "stream",
     "text": [
      "BOW Results:\n",
      "Rank 0(1.0): Preliminary Report-International Algebraic Languag...\n",
      "Rank 1(1.0): ALGOL Sub-Committee Report - Extensions...\n",
      "Rank 2(1.0): The Use of Computers in Engineering Classroom Inst...\n",
      "Rank 3(1.0): Report on a Conference of University Computing Cen...\n",
      "Rank 4(1.0): Report on the Algorithmic Language ALGOL 60...\n"
     ]
    }
   ],
   "source": [
    "#### Function check\n",
    "\n",
    "docs_by_id = dict(docs)\n",
    "def print_results(docs, len_limit=50):    \n",
    "    for i, (doc_id, score) in enumerate(docs):\n",
    "        doc_content = docs_by_id[doc_id].strip().replace(\"\\n\", \"\\\\n\")[:len_limit] + \"...\"\n",
    "        print(f\"Rank {i}({score:.2}): {doc_content}\")\n",
    "\n",
    "test_bow = bow_search(\"report\", index_set=1)[:5]\n",
    "print(f\"BOW Results:\")\n",
    "print_results(test_bow)\n",
    "#### "
   ]
  },
  {
   "cell_type": "code",
   "execution_count": 25,
   "metadata": {
    "ExecuteTime": {
     "end_time": "2021-02-19T19:17:02.865341Z",
     "start_time": "2021-02-19T19:17:02.861337Z"
    },
    "deletable": false,
    "editable": false,
    "id": "VxcFb-PS4IWf",
    "nbgrader": {
     "cell_type": "code",
     "checksum": "8d54c91b913d7a54b25f3358c969fa45",
     "grade": true,
     "grade_id": "cell-4eed3abf233d9b58",
     "locked": true,
     "points": 2,
     "schema_version": 3,
     "solution": false,
     "task": false
    }
   },
   "outputs": [],
   "source": [
    "#### Please do not change this. This cell is used for grading."
   ]
  },
  {
   "cell_type": "code",
   "execution_count": 26,
   "metadata": {
    "ExecuteTime": {
     "end_time": "2021-02-19T19:17:02.870312Z",
     "start_time": "2021-02-19T19:17:02.867321Z"
    },
    "deletable": false,
    "editable": false,
    "id": "2Q52Hizy4IWf",
    "nbgrader": {
     "cell_type": "code",
     "checksum": "58bcc16d36dc079b7f41f9572423c62b",
     "grade": true,
     "grade_id": "cell-4d65a2d7090c466c",
     "locked": true,
     "points": 3,
     "schema_version": 3,
     "solution": false,
     "task": false
    }
   },
   "outputs": [],
   "source": [
    "#### Please do not change this. This cell is used for grading."
   ]
  },
  {
   "cell_type": "code",
   "execution_count": 27,
   "metadata": {
    "ExecuteTime": {
     "end_time": "2021-02-19T19:17:02.874302Z",
     "start_time": "2021-02-19T19:17:02.871309Z"
    },
    "deletable": false,
    "editable": false,
    "id": "_EV8Ezcu4IWg",
    "nbgrader": {
     "cell_type": "code",
     "checksum": "65e4561970c4eba3e5ce43b142f858af",
     "grade": true,
     "grade_id": "cell-dedf36ab5853ce20",
     "locked": true,
     "points": 3,
     "schema_version": 3,
     "solution": false,
     "task": false
    }
   },
   "outputs": [],
   "source": [
    "#### Please do not change this. This cell is used for grading."
   ]
  },
  {
   "cell_type": "markdown",
   "metadata": {
    "deletable": false,
    "editable": false,
    "id": "a6te4fbZ4IWg",
    "nbgrader": {
     "cell_type": "markdown",
     "checksum": "a5c2318004c5ce534b67c7a36bbc7c31",
     "grade": false,
     "grade_id": "cell-a5c09c79ac1f2871",
     "locked": true,
     "schema_version": 3,
     "solution": false,
     "task": false
    }
   },
   "source": [
    "\n",
    "---\n",
    "\n",
    "### Section 3.2: TF-IDF (15 points) <a class=\"anchor\" id=\"tfidf\"></a>\n",
    "\n",
    "Before we implement the tf-idf scoring functions, let's first write a function to compute the document frequencies of all words.  \n",
    "\n",
    "#### 3.2.1 Document frequency (5 points)\n",
    "Compute the document frequencies of all tokens in the collection.  "
   ]
  },
  {
   "cell_type": "code",
   "execution_count": 28,
   "metadata": {
    "ExecuteTime": {
     "end_time": "2021-02-19T19:17:02.879288Z",
     "start_time": "2021-02-19T19:17:02.875299Z"
    },
    "deletable": false,
    "id": "JTO8ZA5t4IWg",
    "nbgrader": {
     "cell_type": "code",
     "checksum": "11cdde77378ded394d7922fe36bbc5d1",
     "grade": false,
     "grade_id": "cell-9a2369f32e864b8a",
     "locked": false,
     "schema_version": 3,
     "solution": true,
     "task": false
    }
   },
   "outputs": [],
   "source": [
    "# TODO: Implement this! (5 points)\n",
    "def compute_df(documents):\n",
    "    \"\"\"\n",
    "        Compute the document frequency of all terms in the vocabulary\n",
    "        Input: A list of documents\n",
    "        Output: A dictionary with {token: document frequency)\n",
    "    \"\"\"\n",
    "    # YOUR CODE HERE\n",
    "    merge_list = []\n",
    "    for doc in documents:\n",
    "        merge_list.extend(set(doc))\n",
    "    dict_ = Counter(merge_list)\n",
    "    \n",
    "    return dict_ \n"
   ]
  },
  {
   "cell_type": "code",
   "execution_count": 29,
   "metadata": {
    "ExecuteTime": {
     "end_time": "2021-02-19T19:17:02.928157Z",
     "start_time": "2021-02-19T19:17:02.880285Z"
    },
    "deletable": false,
    "editable": false,
    "id": "pWi3HvTH4IWg",
    "nbgrader": {
     "cell_type": "code",
     "checksum": "154985511d7925c5793a1f97dea81880",
     "grade": false,
     "grade_id": "cell-4c3bddd0b73ac90e",
     "locked": true,
     "schema_version": 3,
     "solution": false,
     "task": false
    },
    "tags": []
   },
   "outputs": [],
   "source": [
    "#### Compute df based on the two configs\n",
    "\n",
    "# get the document frequencies of each document\n",
    "df_1 = compute_df([d[1] for d in doc_repr_1])\n",
    "df_2 = compute_df([d[1] for d in doc_repr_2])\n",
    "\n",
    "def get_df(index_set):\n",
    "    assert index_set in {1, 2}\n",
    "    return {\n",
    "        1: df_1,\n",
    "        2: df_2\n",
    "    }[index_set]\n",
    "####"
   ]
  },
  {
   "cell_type": "code",
   "execution_count": 30,
   "metadata": {
    "ExecuteTime": {
     "end_time": "2021-02-19T19:17:02.933145Z",
     "start_time": "2021-02-19T19:17:02.929154Z"
    },
    "deletable": false,
    "editable": false,
    "id": "5Y16YYM04IWg",
    "nbgrader": {
     "cell_type": "code",
     "checksum": "110cc180068cf3f77c682ee3de2a117c",
     "grade": true,
     "grade_id": "cell-79e8a6db1e5fc46f",
     "locked": true,
     "points": 5,
     "schema_version": 3,
     "solution": false,
     "task": false
    }
   },
   "outputs": [
    {
     "name": "stdout",
     "output_type": "stream",
     "text": [
      "597\n",
      "11\n"
     ]
    }
   ],
   "source": [
    "#### Function check\n",
    "\n",
    "print(df_1['computer'])\n",
    "print(df_2['computer'])\n",
    "####"
   ]
  },
  {
   "cell_type": "markdown",
   "metadata": {
    "deletable": false,
    "editable": false,
    "id": "X2fSm6OJ4IWg",
    "nbgrader": {
     "cell_type": "markdown",
     "checksum": "6646996a2d016ef86e7cedd2f79a29d1",
     "grade": false,
     "grade_id": "cell-52f6acc487e1b96d",
     "locked": true,
     "schema_version": 3,
     "solution": false,
     "task": false
    }
   },
   "source": [
    "---\n",
    "#### 3.2.2 TF-IDF search (10 points)\n",
    "Next, implement a function that computes a tf-idf score given a query.      "
   ]
  },
  {
   "cell_type": "code",
   "execution_count": 31,
   "metadata": {
    "ExecuteTime": {
     "end_time": "2021-02-19T19:17:02.940220Z",
     "start_time": "2021-02-19T19:17:02.935148Z"
    },
    "deletable": false,
    "id": "xxWNAcOB4IWg",
    "nbgrader": {
     "cell_type": "code",
     "checksum": "b33c859693d1b383bcb53acea340027f",
     "grade": false,
     "grade_id": "cell-2fb5ba34b2994cd9",
     "locked": false,
     "schema_version": 3,
     "solution": true,
     "task": false
    },
    "tags": []
   },
   "outputs": [],
   "source": [
    "# TODO: Implement this! (10 points)\n",
    "def tfidf_search(query, index_set):\n",
    "    \"\"\"\n",
    "        Perform a search over all documents with the given query using tf-idf. \n",
    "        Note #1: You have to use the `get_index` (and the `get_df`) function created in the previous cells\n",
    "        Input: \n",
    "            query - a (unprocessed) query\n",
    "            index_set - the index to use\n",
    "        Output: a list of (document_id, score), sorted in descending relevance to the given query \n",
    "    \"\"\"\n",
    "    index = get_index(index_set)\n",
    "    df = get_df(index_set)\n",
    "    processed_query = preprocess_query(query, index_set)\n",
    "\n",
    "    if index_set == 1:\n",
    "        doc_repr = doc_repr_1\n",
    "    else:\n",
    "        doc_repr = doc_repr_2\n",
    "\n",
    "   \n",
    "    # YOUR CODE HERE\n",
    "    results = {}\n",
    "    length_of_docs = len(docs)\n",
    "    for token in processed_query:\n",
    "        if token in index:\n",
    "            idf = -math.log(df[token]/length_of_docs)\n",
    "            for (doc_id ,tf) in index[token]:\n",
    "                norm_tf = math.log(1 + tf)\n",
    "                if doc_id not in results:\n",
    "                    results[doc_id] = norm_tf * idf\n",
    "                else:\n",
    "                    results[doc_id] += norm_tf * idf\n",
    "    result_scores = [(k, v) for k, v in sorted(results.items(), key=lambda item:item[1], reverse=True)]\n",
    "    return result_scores"
   ]
  },
  {
   "cell_type": "code",
   "execution_count": 32,
   "metadata": {
    "ExecuteTime": {
     "end_time": "2021-02-19T19:17:02.947358Z",
     "start_time": "2021-02-19T19:17:02.942121Z"
    },
    "deletable": false,
    "editable": false,
    "id": "leBfCIu04IWh",
    "nbgrader": {
     "cell_type": "code",
     "checksum": "10b9fd39f3c9a9f3ca274c020ad79323",
     "grade": true,
     "grade_id": "cell-bc68aeeacf42beb3",
     "locked": true,
     "points": 2,
     "schema_version": 3,
     "solution": false,
     "task": false
    },
    "tags": []
   },
   "outputs": [
    {
     "name": "stdout",
     "output_type": "stream",
     "text": [
      "TFIDF Results:\n",
      "Rank 0(7.6): An Information Algebra - Phase I Report-Language\\n...\n",
      "Rank 1(7.6): Rejuvenating Experimental Computer Science\\nThis r...\n",
      "Rank 2(5.4): ALGOL 60 Confidential\\nThe ALGOL 60 Report,* when ...\n",
      "Rank 3(4.3): Automatic Abstracting and Indexing Survey and Reco...\n",
      "Rank 4(4.3): A String Language for Symbol Manipulation Based on...\n"
     ]
    }
   ],
   "source": [
    "#### Function check\n",
    "test_tfidf = tfidf_search(\"report\", index_set=1)[:5]\n",
    "print(f\"TFIDF Results:\")\n",
    "print_results(test_tfidf)\n",
    "####"
   ]
  },
  {
   "cell_type": "code",
   "execution_count": 33,
   "metadata": {
    "ExecuteTime": {
     "end_time": "2021-02-19T19:17:02.952095Z",
     "start_time": "2021-02-19T19:17:02.948104Z"
    },
    "deletable": false,
    "editable": false,
    "id": "Npd3IiET4IWh",
    "nbgrader": {
     "cell_type": "code",
     "checksum": "03441f97df9db4996d0f260fcc974e9d",
     "grade": true,
     "grade_id": "cell-c7702fa8179fadb9",
     "locked": true,
     "points": 2,
     "schema_version": 3,
     "solution": false,
     "task": false
    }
   },
   "outputs": [],
   "source": [
    "#### Please do not change this. This cell is used for grading."
   ]
  },
  {
   "cell_type": "code",
   "execution_count": 34,
   "metadata": {
    "ExecuteTime": {
     "end_time": "2021-02-19T19:17:02.956084Z",
     "start_time": "2021-02-19T19:17:02.953092Z"
    },
    "deletable": false,
    "editable": false,
    "id": "wNuwNNBt4IWh",
    "nbgrader": {
     "cell_type": "code",
     "checksum": "7272cfcbb457a74d23bfec1f85d22d5f",
     "grade": true,
     "grade_id": "cell-3284f50ac29abbaa",
     "locked": true,
     "points": 3,
     "schema_version": 3,
     "solution": false,
     "task": false
    }
   },
   "outputs": [],
   "source": [
    "#### Please do not change this. This cell is used for grading."
   ]
  },
  {
   "cell_type": "code",
   "execution_count": 35,
   "metadata": {
    "ExecuteTime": {
     "end_time": "2021-02-19T19:17:02.960074Z",
     "start_time": "2021-02-19T19:17:02.957082Z"
    },
    "deletable": false,
    "editable": false,
    "id": "ZH-U34qc4IWh",
    "nbgrader": {
     "cell_type": "code",
     "checksum": "fcbcc867713612b90395d653db8fd5e3",
     "grade": true,
     "grade_id": "cell-d908c80a3155354b",
     "locked": true,
     "points": 3,
     "schema_version": 3,
     "solution": false,
     "task": false
    }
   },
   "outputs": [],
   "source": [
    "#### Please do not change this. This cell is used for grading."
   ]
  },
  {
   "cell_type": "markdown",
   "metadata": {
    "deletable": false,
    "editable": false,
    "id": "CF8mA1LD4IWh",
    "nbgrader": {
     "cell_type": "markdown",
     "checksum": "cdffc83f0eaea937cf64a212e7e9af8d",
     "grade": false,
     "grade_id": "cell-f5d923459ba21733",
     "locked": true,
     "schema_version": 3,
     "solution": false,
     "task": false
    }
   },
   "source": [
    "--- \n",
    "\n",
    "### Section 3.3: Query Likelihood Model (35 points) <a class=\"anchor\" id=\"qlm\"></a>\n",
    "\n",
    "In this section, you will implement a simple query likelihood model. \n",
    "\n",
    "\n",
    "#### 3.3.1 Naive QL (15 points)\n",
    "\n",
    "First, let us implement a naive version of a QL model, assuming a multinomial unigram language model (with a uniform prior over the documents). \n",
    "\n"
   ]
  },
  {
   "cell_type": "code",
   "execution_count": 36,
   "metadata": {
    "ExecuteTime": {
     "end_time": "2021-02-19T19:17:02.968051Z",
     "start_time": "2021-02-19T19:17:02.962093Z"
    },
    "deletable": false,
    "editable": false,
    "id": "5Z4AnsRm4IWh",
    "nbgrader": {
     "cell_type": "code",
     "checksum": "b7ae2b7d818b428b4638c1c9206d2aca",
     "grade": false,
     "grade_id": "cell-98505778f7b68e7f",
     "locked": true,
     "schema_version": 3,
     "solution": false,
     "task": false
    }
   },
   "outputs": [],
   "source": [
    "#### Document length for normalization\n",
    "\n",
    "def doc_lengths(documents):\n",
    "    doc_lengths = {doc_id:len(doc) for (doc_id, doc) in documents}\n",
    "    return doc_lengths\n",
    "\n",
    "doc_lengths_1 = doc_lengths(doc_repr_1)\n",
    "doc_lengths_2 = doc_lengths(doc_repr_2)\n",
    "\n",
    "def get_doc_lengths(index_set):\n",
    "    assert index_set in {1, 2}\n",
    "    return {\n",
    "        1: doc_lengths_1,\n",
    "        2: doc_lengths_2\n",
    "    }[index_set]\n",
    "####"
   ]
  },
  {
   "cell_type": "code",
   "execution_count": 37,
   "metadata": {
    "ExecuteTime": {
     "end_time": "2021-02-19T19:17:02.977026Z",
     "start_time": "2021-02-19T19:17:02.969048Z"
    },
    "deletable": false,
    "id": "-WXzO9tU4IWi",
    "nbgrader": {
     "cell_type": "code",
     "checksum": "cedd08303a914243fefdb6b876977ca1",
     "grade": false,
     "grade_id": "cell-8bcf2b804d636c2e",
     "locked": false,
     "schema_version": 3,
     "solution": true,
     "task": false
    }
   },
   "outputs": [],
   "source": [
    "# TODO: Implement this! (15 points)\n",
    "def naive_ql_search(query, index_set):\n",
    "    \"\"\"\n",
    "        Perform a search over all documents with the given query using a naive QL model. \n",
    "        Note #1: You have to use the `get_index` (and get_doc_lengths) function created in the previous cells\n",
    "        Input: \n",
    "            query - a (unprocessed) query\n",
    "            index_set - the index to use\n",
    "        Output: a list of (document_id, score), sorted in descending relevance to the given query \n",
    "    \"\"\"\n",
    "    index = get_index(index_set)\n",
    "    doc_lengths = get_doc_lengths(index_set)\n",
    "    processed_query = preprocess_query(query, index_set)\n",
    "    # YOUR CODE HERE\n",
    "    sum_of_all_words = sum(doc_lengths.values())                    \n",
    "    result_dict = {}            \n",
    "    for token in processed_query:\n",
    "        if token in index:\n",
    "            dict_token = dict(index[token])\n",
    "            for (doc_id,length) in doc_lengths.items():\n",
    "                term_1 = 0\n",
    "                if doc_id in dict_token.keys():\n",
    "                    term_1 = dict_token[doc_id]/doc_lengths[doc_id]    \n",
    "                if doc_id not in result_dict:\n",
    "                    result_dict[doc_id] = term_1\n",
    "                else:\n",
    "                    result_dict[doc_id] *= term_1\n",
    "                    \n",
    "    \n",
    "    ql_scores_list = [(key, score) for key, score in result_dict.items()]\n",
    "    ql_scores_list.sort(key=lambda x: x[1], reverse = True)\n",
    "    return ql_scores_list  "
   ]
  },
  {
   "cell_type": "code",
   "execution_count": 38,
   "metadata": {
    "ExecuteTime": {
     "end_time": "2021-02-19T19:17:02.985006Z",
     "start_time": "2021-02-19T19:17:02.978024Z"
    },
    "deletable": false,
    "editable": false,
    "id": "VHLDABlc4IWi",
    "nbgrader": {
     "cell_type": "code",
     "checksum": "b550d15bdad28354c336020a00c33d56",
     "grade": true,
     "grade_id": "cell-5a83ac12ecde8578",
     "locked": true,
     "points": 3,
     "schema_version": 3,
     "solution": false,
     "task": false
    }
   },
   "outputs": [
    {
     "name": "stdout",
     "output_type": "stream",
     "text": [
      "Naive QL Results:\n",
      "Rank 0(0.2): A Report Writer For COBOL...\n",
      "Rank 1(0.2): A CRT Report Generating System...\n",
      "Rank 2(0.17): Preliminary Report-International Algebraic Languag...\n",
      "Rank 3(0.17): Supplement to the ALGOL 60 Report...\n",
      "Rank 4(0.14): ALGOL Sub-Committee Report - Extensions...\n"
     ]
    }
   ],
   "source": [
    "#### Function check\n",
    "test_naiveql = naive_ql_search(\"report\", index_set=1)[:5]\n",
    "print(f\"Naive QL Results:\")\n",
    "print_results(test_naiveql)\n",
    "####"
   ]
  },
  {
   "cell_type": "code",
   "execution_count": 39,
   "metadata": {
    "ExecuteTime": {
     "end_time": "2021-02-19T19:17:02.988995Z",
     "start_time": "2021-02-19T19:17:02.986002Z"
    },
    "deletable": false,
    "editable": false,
    "id": "52J5wGHX4IWi",
    "nbgrader": {
     "cell_type": "code",
     "checksum": "799df1d81c63fe90edbb6c218fc707fb",
     "grade": true,
     "grade_id": "cell-80f4bf2137f997bb",
     "locked": true,
     "points": 2,
     "schema_version": 3,
     "solution": false,
     "task": false
    }
   },
   "outputs": [],
   "source": [
    "#### Please do not change this. This cell is used for grading."
   ]
  },
  {
   "cell_type": "code",
   "execution_count": 40,
   "metadata": {
    "ExecuteTime": {
     "end_time": "2021-02-19T19:17:02.992984Z",
     "start_time": "2021-02-19T19:17:02.989992Z"
    },
    "deletable": false,
    "editable": false,
    "id": "vXS0rYJ94IWi",
    "nbgrader": {
     "cell_type": "code",
     "checksum": "875a4a517d27e20625d41783cebec118",
     "grade": true,
     "grade_id": "cell-5ce2993458a8ce51",
     "locked": true,
     "points": 3,
     "schema_version": 3,
     "solution": false,
     "task": false
    }
   },
   "outputs": [],
   "source": [
    "#### Please do not change this. This cell is used for grading."
   ]
  },
  {
   "cell_type": "code",
   "execution_count": 41,
   "metadata": {
    "ExecuteTime": {
     "end_time": "2021-02-19T19:17:02.996973Z",
     "start_time": "2021-02-19T19:17:02.993981Z"
    },
    "deletable": false,
    "editable": false,
    "id": "E7Og-DYJ4IWi",
    "nbgrader": {
     "cell_type": "code",
     "checksum": "d5c4e1c3852e71a46f32825b122f1b71",
     "grade": true,
     "grade_id": "cell-7753bdb54e292f3d",
     "locked": true,
     "points": 3,
     "schema_version": 3,
     "solution": false,
     "task": false
    }
   },
   "outputs": [],
   "source": [
    "#### Please do not change this. This cell is used for grading."
   ]
  },
  {
   "cell_type": "code",
   "execution_count": 42,
   "metadata": {
    "ExecuteTime": {
     "end_time": "2021-02-19T19:17:03.000964Z",
     "start_time": "2021-02-19T19:17:02.997970Z"
    },
    "deletable": false,
    "editable": false,
    "id": "GIrjDu1G4IWi",
    "nbgrader": {
     "cell_type": "code",
     "checksum": "c4d4332d4356e89ce0240f6b80e1899a",
     "grade": true,
     "grade_id": "cell-54e476e2f96e64bb",
     "locked": true,
     "points": 4,
     "schema_version": 3,
     "solution": false,
     "task": false
    }
   },
   "outputs": [],
   "source": [
    "#### Please do not change this. This cell is used for grading."
   ]
  },
  {
   "cell_type": "markdown",
   "metadata": {
    "deletable": false,
    "editable": false,
    "id": "PwcdEmYB4IWi",
    "nbgrader": {
     "cell_type": "markdown",
     "checksum": "8d739dc91a22bd48897f603885f95a74",
     "grade": false,
     "grade_id": "cell-5414dfd69dab8b94",
     "locked": true,
     "schema_version": 3,
     "solution": false,
     "task": false
    }
   },
   "source": [
    "---\n",
    "#### 3.3.2 QL (20 points)\n",
    "Now, let's implement a QL model that handles the issues with the naive version. In particular, you will implement a QL model with Jelinek-Mercer Smoothing. That means an interpolated score is computed per word - one term is the same as the previous naive version, and the second term comes from a unigram language model. In addition, you should accumulate the scores by summing the **log** (smoothed) probability which leads to better numerical stability."
   ]
  },
  {
   "cell_type": "code",
   "execution_count": 43,
   "metadata": {
    "ExecuteTime": {
     "end_time": "2021-02-19T19:17:03.009939Z",
     "start_time": "2021-02-19T19:17:03.002989Z"
    },
    "deletable": false,
    "id": "vQ7JGYo34IWj",
    "nbgrader": {
     "cell_type": "code",
     "checksum": "b8c6abf937ad333e628f1db891f2e29e",
     "grade": false,
     "grade_id": "cell-bb1f506409771257",
     "locked": false,
     "schema_version": 3,
     "solution": true,
     "task": false
    }
   },
   "outputs": [],
   "source": [
    "# TODO: Implement this! (20 points)\n",
    "\n",
    "# YOUR CODE HERE\n",
    "def ql_search(query, index_set):\n",
    "    \"\"\"\n",
    "        Perform a search over all documents with the given query using a QL model \n",
    "        with Jelinek-Mercer Smoothing (set smoothing=0.1). \n",
    "        \n",
    "        \n",
    "        Note #1: You have to use the `get_index` (and get_doc_lengths) function created in the previous cells\n",
    "        Note #2: You might have to create some variables beforehand and use them in this function\n",
    "        \n",
    "        \n",
    "        Input: \n",
    "            query - a (unprocessed) query\n",
    "            index_set - the index to use\n",
    "        Output: a list of (document_id, score), sorted in descending relevance to the given query \n",
    "    \"\"\"\n",
    "    index = get_index(index_set)\n",
    "    doc_lengths = get_doc_lengths(index_set)\n",
    "    processed_query = preprocess_query(query, index_set)\n",
    "    \n",
    "    # YOUR CODE HERE\n",
    "    smoothing = 0.9\n",
    "    sum_of_all_words = sum(doc_lengths.values())\n",
    "                    \n",
    "    result_dict = {}            \n",
    "    for token in processed_query:\n",
    "        if token in index:\n",
    "            sum_freq = 0\n",
    "            [sum_freq := sum_freq + x[1] for x in index[token]]\n",
    "            term_2= (1-smoothing) * (sum_freq / sum_of_all_words)\n",
    "            dict_token = dict(index[token])\n",
    "            for (doc_id,length) in doc_lengths.items():\n",
    "                term_1 = 0\n",
    "                if doc_id in dict_token.keys():\n",
    "                    term_1 = smoothing * (dict_token[doc_id]/doc_lengths[doc_id])    \n",
    "                if doc_id not in result_dict:\n",
    "                    result_dict[doc_id] = math.log(term_1 + term_2)\n",
    "                else:\n",
    "                    result_dict[doc_id] += math.log(term_1 + term_2)\n",
    "                    \n",
    "    \n",
    "    ql_scores_list = [(key, score) for key, score in result_dict.items()]\n",
    "    ql_scores_list.sort(key=lambda x: x[1], reverse = True)\n",
    "    return ql_scores_list  "
   ]
  },
  {
   "cell_type": "code",
   "execution_count": 44,
   "metadata": {
    "ExecuteTime": {
     "end_time": "2021-02-19T19:17:03.033875Z",
     "start_time": "2021-02-19T19:17:03.010937Z"
    },
    "deletable": false,
    "editable": false,
    "id": "onjd74_U4IWj",
    "nbgrader": {
     "cell_type": "code",
     "checksum": "0b12a7f3355193a257fd9f5f69a66562",
     "grade": true,
     "grade_id": "cell-850e9d6369bcec32",
     "locked": true,
     "points": 4,
     "schema_version": 3,
     "solution": false,
     "task": false
    }
   },
   "outputs": [
    {
     "name": "stdout",
     "output_type": "stream",
     "text": [
      "Rank 0(-1.7): A Report Writer For COBOL...\n",
      "Rank 1(-1.7): A CRT Report Generating System...\n",
      "Rank 2(-1.9): Preliminary Report-International Algebraic Languag...\n",
      "Rank 3(-1.9): Supplement to the ALGOL 60 Report...\n",
      "Rank 4(-2.1): ALGOL Sub-Committee Report - Extensions...\n",
      "\n",
      "Rank 0(-1.7e+01): A Report Writer For COBOL...\n",
      "Rank 1(-1.7e+01): A CRT Report Generating System...\n",
      "Rank 2(-1.9e+01): Preliminary Report-International Algebraic Languag...\n",
      "Rank 3(-1.9e+01): Supplement to the ALGOL 60 Report...\n",
      "Rank 4(-2.1e+01): ALGOL Sub-Committee Report - Extensions...\n"
     ]
    }
   ],
   "source": [
    "#### Function check\n",
    "test_ql_results = ql_search(\"report\", index_set=1)[:5]\n",
    "print_results(test_ql_results)\n",
    "print()\n",
    "test_ql_results_long = ql_search(\"report \" * 10, index_set=1)[:5]\n",
    "print_results(test_ql_results_long)\n",
    "####"
   ]
  },
  {
   "cell_type": "code",
   "execution_count": 45,
   "metadata": {
    "ExecuteTime": {
     "end_time": "2021-02-19T19:17:03.037864Z",
     "start_time": "2021-02-19T19:17:03.034872Z"
    },
    "deletable": false,
    "editable": false,
    "id": "2Nf0hYoy4IWj",
    "nbgrader": {
     "cell_type": "code",
     "checksum": "e40be645140389c115849856145f5b59",
     "grade": true,
     "grade_id": "cell-958cdcf6fd6899b7",
     "locked": true,
     "points": 3,
     "schema_version": 3,
     "solution": false,
     "task": false
    }
   },
   "outputs": [],
   "source": [
    "#### Please do not change this. This cell is used for grading."
   ]
  },
  {
   "cell_type": "code",
   "execution_count": 46,
   "metadata": {
    "ExecuteTime": {
     "end_time": "2021-02-19T19:17:03.040888Z",
     "start_time": "2021-02-19T19:17:03.038861Z"
    },
    "deletable": false,
    "editable": false,
    "id": "LBhA_QfH4IWj",
    "nbgrader": {
     "cell_type": "code",
     "checksum": "41d4aff001df17e7963ba79b45810b30",
     "grade": true,
     "grade_id": "cell-384dc23a0c251f6e",
     "locked": true,
     "points": 4,
     "schema_version": 3,
     "solution": false,
     "task": false
    }
   },
   "outputs": [],
   "source": [
    "#### Please do not change this. This cell is used for grading."
   ]
  },
  {
   "cell_type": "code",
   "execution_count": 47,
   "metadata": {
    "ExecuteTime": {
     "end_time": "2021-02-19T19:17:03.044863Z",
     "start_time": "2021-02-19T19:17:03.041853Z"
    },
    "deletable": false,
    "editable": false,
    "id": "RweZvvbK4IWj",
    "nbgrader": {
     "cell_type": "code",
     "checksum": "893e8c5a073abc8ebb763d267b91bc02",
     "grade": true,
     "grade_id": "cell-7218966cba5097cc",
     "locked": true,
     "points": 4,
     "schema_version": 3,
     "solution": false,
     "task": false
    }
   },
   "outputs": [],
   "source": [
    "#### Please do not change this. This cell is used for grading."
   ]
  },
  {
   "cell_type": "code",
   "execution_count": 48,
   "metadata": {
    "ExecuteTime": {
     "end_time": "2021-02-19T19:17:03.048834Z",
     "start_time": "2021-02-19T19:17:03.045843Z"
    },
    "deletable": false,
    "editable": false,
    "id": "9WGyJzph4IWj",
    "nbgrader": {
     "cell_type": "code",
     "checksum": "f99cb6f8b1f5830aaed8f06712ff846e",
     "grade": true,
     "grade_id": "cell-481ab073259ae53f",
     "locked": true,
     "points": 5,
     "schema_version": 3,
     "solution": false,
     "task": false
    }
   },
   "outputs": [],
   "source": [
    "#### Please do not change this. This cell is used for grading."
   ]
  },
  {
   "cell_type": "markdown",
   "metadata": {
    "deletable": false,
    "editable": false,
    "id": "a3vu_N7C4IWj",
    "nbgrader": {
     "cell_type": "markdown",
     "checksum": "c02f14705d679579b1aa9f78f54779d5",
     "grade": false,
     "grade_id": "cell-f44088bfdac1dc90",
     "locked": true,
     "schema_version": 3,
     "solution": false,
     "task": false
    }
   },
   "source": [
    "--- \n",
    "\n",
    "### Section 3.4: BM25 (20 points) <a class=\"anchor\" id=\"bm25\"></a>\n",
    "\n",
    "In this section, we will implement the BM25 scoring function. \n"
   ]
  },
  {
   "cell_type": "code",
   "execution_count": 49,
   "metadata": {
    "ExecuteTime": {
     "end_time": "2021-02-19T19:17:03.056813Z",
     "start_time": "2021-02-19T19:17:03.049832Z"
    },
    "deletable": false,
    "id": "NLVmJujG4IWk",
    "nbgrader": {
     "cell_type": "code",
     "checksum": "e57efe06ea92af1c83784a42eb3d86e0",
     "grade": false,
     "grade_id": "cell-15640fc9b5d00a3c",
     "locked": false,
     "schema_version": 3,
     "solution": true,
     "task": false
    }
   },
   "outputs": [],
   "source": [
    "# TODO: Implement this! (20 points)\n",
    "def bm25_search(query, index_set):\n",
    "    \"\"\"\n",
    "        Perform a search over all documents with the given query using BM25. Use k_1 = 1.5 and b = 0.75\n",
    "        Note #1: You have to use the `get_index` (and `get_doc_lengths`) function created in the previous cells\n",
    "        Note #2: You might have to create some variables beforehand and use them in this function\n",
    "        \n",
    "        Input: \n",
    "            query - a (unprocessed) query\n",
    "            index_set - the index to use\n",
    "        Output: a list of (document_id, score), sorted in descending relevance to the given query \n",
    "    \"\"\"\n",
    "    \n",
    "    index = get_index(index_set)\n",
    "    df = get_df(index_set)\n",
    "    doc_lengths = get_doc_lengths(index_set)\n",
    "    processed_query = preprocess_query(query, index_set)\n",
    "    \n",
    "    # YOUR CODE HERE\n",
    "    b = 0.75\n",
    "    k_1 = 1.5\n",
    "    \n",
    "    num_of_docs = len(doc_lengths)\n",
    "    avg_doc_length = sum(doc_lengths[key] for key in doc_lengths) / num_of_docs\n",
    "    \n",
    "    bm25_scores = {}\n",
    "    for token in processed_query:\n",
    "        if token in index:\n",
    "            token_freq = df[token]\n",
    "            for doc_id, num_of_occurences in index[token]:\n",
    "                doc_length = doc_lengths[doc_id]\n",
    "                idf = math.log((num_of_docs - token_freq + 0.5) / (token_freq + 0.5) + 1)\n",
    "                K = k_1 * (1 - b + b * (doc_length / avg_doc_length))\n",
    "                score = idf * (num_of_occurences * (k_1 + 1)) / (num_of_occurences + K)\n",
    "                if doc_id in bm25_scores:\n",
    "                    bm25_scores[doc_id] += score\n",
    "                else:\n",
    "                    bm25_scores[doc_id] = score \n",
    "\n",
    "    bm25_scores_list = [(key, score) for key, score in bm25_scores.items()]\n",
    "    bm25_scores_list.sort(key=lambda x: x[1], reverse = True)   \n",
    "    \n",
    "    return bm25_scores_list \n",
    "    "
   ]
  },
  {
   "cell_type": "code",
   "execution_count": 50,
   "metadata": {
    "ExecuteTime": {
     "end_time": "2021-02-19T19:17:03.063802Z",
     "start_time": "2021-02-19T19:17:03.058808Z"
    },
    "deletable": false,
    "editable": false,
    "id": "YocJglWu4IWk",
    "nbgrader": {
     "cell_type": "code",
     "checksum": "4be9de5d4e94637960d83725422bea6c",
     "grade": true,
     "grade_id": "cell-d10536bca72c74b1",
     "locked": true,
     "points": 3,
     "schema_version": 3,
     "solution": false,
     "task": false
    }
   },
   "outputs": [
    {
     "name": "stdout",
     "output_type": "stream",
     "text": [
      "Rank 0(6.7): A Report Writer For COBOL...\n",
      "Rank 1(6.7): A CRT Report Generating System...\n",
      "Rank 2(6.6): Preliminary Report-International Algebraic Languag...\n",
      "Rank 3(6.6): Supplement to the ALGOL 60 Report...\n",
      "Rank 4(6.5): ALGOL Sub-Committee Report - Extensions...\n"
     ]
    }
   ],
   "source": [
    "#### Function check\n",
    "test_bm25_results = bm25_search(\"report\", index_set=1)[:5]\n",
    "print_results(test_bm25_results)\n",
    "####"
   ]
  },
  {
   "cell_type": "code",
   "execution_count": 51,
   "metadata": {
    "ExecuteTime": {
     "end_time": "2021-02-19T19:17:03.067785Z",
     "start_time": "2021-02-19T19:17:03.064792Z"
    },
    "deletable": false,
    "editable": false,
    "id": "LMKx7x7X4IWk",
    "nbgrader": {
     "cell_type": "code",
     "checksum": "31b550d6a46ae4f8ede88788799ac2b9",
     "grade": true,
     "grade_id": "cell-60f6ec5052712d79",
     "locked": true,
     "points": 5,
     "schema_version": 3,
     "solution": false,
     "task": false
    }
   },
   "outputs": [],
   "source": [
    "#### Please do not change this. This cell is used for grading."
   ]
  },
  {
   "cell_type": "code",
   "execution_count": 52,
   "metadata": {
    "ExecuteTime": {
     "end_time": "2021-02-19T19:17:03.071773Z",
     "start_time": "2021-02-19T19:17:03.068781Z"
    },
    "deletable": false,
    "editable": false,
    "id": "zMyvPilQ4IWk",
    "nbgrader": {
     "cell_type": "code",
     "checksum": "3da2ec16bfe781916e71755d65aa2983",
     "grade": true,
     "grade_id": "cell-5d17524043a5abcc",
     "locked": true,
     "points": 5,
     "schema_version": 3,
     "solution": false,
     "task": false
    }
   },
   "outputs": [],
   "source": [
    "#### Please do not change this. This cell is used for grading."
   ]
  },
  {
   "cell_type": "code",
   "execution_count": 53,
   "metadata": {
    "ExecuteTime": {
     "end_time": "2021-02-19T19:17:03.075763Z",
     "start_time": "2021-02-19T19:17:03.072770Z"
    },
    "deletable": false,
    "editable": false,
    "id": "50XzuKTa4IWk",
    "nbgrader": {
     "cell_type": "code",
     "checksum": "e7b563d54fa84c20909c0ae107010541",
     "grade": true,
     "grade_id": "cell-ff8e704eda1184e3",
     "locked": true,
     "points": 3,
     "schema_version": 3,
     "solution": false,
     "task": false
    }
   },
   "outputs": [],
   "source": [
    "#### Please do not change this. This cell is used for grading."
   ]
  },
  {
   "cell_type": "code",
   "execution_count": 54,
   "metadata": {
    "ExecuteTime": {
     "end_time": "2021-02-19T19:17:03.080750Z",
     "start_time": "2021-02-19T19:17:03.076761Z"
    },
    "deletable": false,
    "editable": false,
    "id": "DYTt6NKh4IWk",
    "nbgrader": {
     "cell_type": "code",
     "checksum": "b013f90974b396630a8831d6f1d7e5f7",
     "grade": true,
     "grade_id": "cell-a52310500a2543cb",
     "locked": true,
     "points": 4,
     "schema_version": 3,
     "solution": false,
     "task": false
    }
   },
   "outputs": [],
   "source": [
    "#### Please do not change this. This cell is used for grading."
   ]
  },
  {
   "cell_type": "markdown",
   "metadata": {
    "deletable": false,
    "editable": false,
    "id": "bD5EZ9eN4IWl",
    "nbgrader": {
     "cell_type": "markdown",
     "checksum": "8fcf67cb7d5e8b26cb9bf1f0aa42c847",
     "grade": false,
     "grade_id": "cell-8b2b412c81d62f2d",
     "locked": true,
     "schema_version": 3,
     "solution": false,
     "task": false
    }
   },
   "source": [
    "\n",
    "---\n",
    "\n",
    "### 3.5. Test Your Functions\n",
    "\n",
    "The widget below allows you to play with the search functions you've written so far. Use this to test your search functions and ensure that they work as expected."
   ]
  },
  {
   "cell_type": "code",
   "execution_count": 55,
   "metadata": {
    "ExecuteTime": {
     "end_time": "2021-02-19T19:17:03.090764Z",
     "start_time": "2021-02-19T19:17:03.081769Z"
    },
    "deletable": false,
    "editable": false,
    "id": "mIWUmEd14IWl",
    "nbgrader": {
     "cell_type": "code",
     "checksum": "dfeb204b390acc0794dbdcac92b0cf2c",
     "grade": false,
     "grade_id": "cell-c9c2bb76354e8d97",
     "locked": true,
     "schema_version": 3,
     "solution": false,
     "task": false
    }
   },
   "outputs": [],
   "source": [
    "#### Highlighter function\n",
    "# class for results\n",
    "ResultRow = namedtuple(\"ResultRow\", [\"doc_id\", \"snippet\", \"score\"])\n",
    "# doc_id -> doc\n",
    "docs_by_id = dict((d[0], d[1]) for d in docs)\n",
    "\n",
    "def highlight_text(document, query, tol=17):\n",
    "    import re\n",
    "    tokens = tokenize(query)\n",
    "    regex = \"|\".join(f\"(\\\\b{t}\\\\b)\" for t in tokens)\n",
    "    regex = re.compile(regex, flags=re.IGNORECASE)\n",
    "    output = \"\"\n",
    "    i = 0\n",
    "    for m in regex.finditer(document):\n",
    "        start_idx = max(0, m.start() - tol)\n",
    "        end_idx = min(len(document), m.end() + tol)\n",
    "        output += \"\".join([\"...\",\n",
    "                        document[start_idx:m.start()],\n",
    "                        \"<strong>\",\n",
    "                        document[m.start():m.end()],\n",
    "                        \"</strong>\",\n",
    "                        document[m.end():end_idx],\n",
    "                        \"...\"])\n",
    "    return output.replace(\"\\n\", \" \")\n",
    "\n",
    "\n",
    "def make_results(query, search_fn, index_set):\n",
    "    results = []\n",
    "    for doc_id, score in search_fn(query, index_set):\n",
    "        highlight = highlight_text(docs_by_id[doc_id], query)\n",
    "        if len(highlight.strip()) == 0:\n",
    "            highlight = docs_by_id[doc_id]\n",
    "        results.append(ResultRow(doc_id, highlight, score))\n",
    "    return results\n",
    "####"
   ]
  },
  {
   "cell_type": "code",
   "execution_count": 56,
   "metadata": {
    "ExecuteTime": {
     "end_time": "2021-02-19T19:17:03.104685Z",
     "start_time": "2021-02-19T19:17:03.091721Z"
    },
    "id": "lLBwC48L4IWl"
   },
   "outputs": [
    {
     "data": {
      "application/vnd.jupyter.widget-view+json": {
       "model_id": "3cbeb0dbf1474133bc3435a4c4add157",
       "version_major": 2,
       "version_minor": 0
      },
      "text/plain": [
       "Text(value='', description='Search Bar')"
      ]
     },
     "metadata": {},
     "output_type": "display_data"
    }
   ],
   "source": [
    "# TODO: Set this to the function you want to test!\n",
    "# this function should take in a query (string)\n",
    "# and return a sorted list of (doc_id, score) \n",
    "# with the most relevant document in the first position\n",
    "search_fn = bm25_search\n",
    "index_set = 1\n",
    "\n",
    "text = widgets.Text(description=\"Search Bar\", width=200)\n",
    "display(text)\n",
    "\n",
    "def handle_submit(sender):\n",
    "    print(f\"Searching for: '{sender.value}'\")\n",
    "    \n",
    "    results = make_results(sender.value, search_fn, index_set)\n",
    "    \n",
    "    # display only the top 5\n",
    "    results = results[:5]\n",
    "    \n",
    "    body = \"\"\n",
    "    for idx, r in enumerate(results):\n",
    "        body += f\"<li>Document #{r.doc_id}({r.score}): {r.snippet}</li>\"\n",
    "    display(HTML(f\"<ul>{body}</ul>\"))\n",
    "    \n",
    "\n",
    "text.on_submit(handle_submit)"
   ]
  },
  {
   "cell_type": "markdown",
   "metadata": {
    "deletable": false,
    "editable": false,
    "id": "V_eNBPNC4IWl",
    "nbgrader": {
     "cell_type": "markdown",
     "checksum": "b315c280048a50e8bad7d6250f6f39d1",
     "grade": false,
     "grade_id": "cell-8d46fe8e4f3d8cdb",
     "locked": true,
     "schema_version": 3,
     "solution": false,
     "task": false
    }
   },
   "source": [
    "---\n",
    "\n",
    "## Section 4: Evaluation (40 points) <a class=\"anchor\" id=\"evaluation\"></a>\n",
    "\n",
    "[Back to Part 1](#part1)\n",
    "\n",
    "Before we jump in and implement an algorithm for retrieval, we first have to learn how to evaluate such a system. In particular, we will work with offline evaluation metrics. These metrics are computed on a dataset with known relevance judgements.\n",
    "\n",
    "Implement the following evaluation metrics. \n",
    "\n",
    "1. Precision (7 points)\n",
    "2. Recall (7 points)\n",
    "3. Mean Average Precision (12 points)\n",
    "4. Expected Reciprocal Rank (12 points)"
   ]
  },
  {
   "cell_type": "markdown",
   "metadata": {
    "deletable": false,
    "editable": false,
    "id": "gLVYII234IWl",
    "nbgrader": {
     "cell_type": "markdown",
     "checksum": "82e90076c51893e31fec5c40c49d1828",
     "grade": false,
     "grade_id": "cell-3419fd3bc663d7cc",
     "locked": true,
     "schema_version": 3,
     "solution": false,
     "task": false
    }
   },
   "source": [
    "---\n",
    "### 4.1 Read relevance labels (2 points)\n",
    "\n",
    "Let's take a look at the `qrels.text` file, which contains the ground truth relevance scores. The relevance labels for CACM are binary - either 0 or 1. \n"
   ]
  },
  {
   "cell_type": "code",
   "execution_count": 57,
   "metadata": {
    "ExecuteTime": {
     "end_time": "2021-02-19T19:17:03.147572Z",
     "start_time": "2021-02-19T19:17:03.106714Z"
    },
    "deletable": false,
    "editable": false,
    "id": "dD-BtESw4IWl",
    "nbgrader": {
     "cell_type": "code",
     "checksum": "6c11025f5a222796f2882c73c1634799",
     "grade": false,
     "grade_id": "cell-6b738366059dde9e",
     "locked": true,
     "schema_version": 3,
     "solution": false,
     "task": false
    }
   },
   "outputs": [
    {
     "name": "stdout",
     "output_type": "stream",
     "text": [
      "01 1410  0 0\n",
      "01 1572  0 0\n",
      "01 1605  0 0\n",
      "01 2020  0 0\n",
      "01 2358  0 0\n",
      "02 2434  0 0\n",
      "02 2863  0 0\n",
      "02 3078  0 0\n",
      "03 1134  0 0\n",
      "03 1613  0 0\n"
     ]
    }
   ],
   "source": [
    "!head ./datasets/qrels.text"
   ]
  },
  {
   "cell_type": "markdown",
   "metadata": {
    "deletable": false,
    "editable": false,
    "id": "O1d_Ru854IWm",
    "nbgrader": {
     "cell_type": "markdown",
     "checksum": "e77d7cc6aae69fdbadb5ac9f78f8a560",
     "grade": false,
     "grade_id": "cell-10e16bff2753ffbb",
     "locked": true,
     "schema_version": 3,
     "solution": false,
     "task": false
    }
   },
   "source": [
    "---\n",
    "**Implementation (2 points):**\n",
    "The first column is the query_id and the second column is the document_id. You can safely ignore the 3rd and 4th columns. Write a function to read in the file:"
   ]
  },
  {
   "cell_type": "code",
   "execution_count": 58,
   "metadata": {
    "ExecuteTime": {
     "end_time": "2021-02-19T19:17:03.154591Z",
     "start_time": "2021-02-19T19:17:03.148568Z"
    },
    "deletable": false,
    "id": "gaPgBW-q4IWm",
    "nbgrader": {
     "cell_type": "code",
     "checksum": "ef347565a0990ddbd049835105753d59",
     "grade": false,
     "grade_id": "cell-ee5253a4ef602fce",
     "locked": false,
     "schema_version": 3,
     "solution": true,
     "task": false
    }
   },
   "outputs": [],
   "source": [
    "# TODO: Implement this! (2 points)\n",
    "def read_qrels(root_folder = \"./datasets/\"):\n",
    "    \"\"\"\n",
    "        Reads the qrels.text file. \n",
    "        Output: A dictionary: query_id -> [list of relevant documents]\n",
    "    \"\"\"\n",
    "    # YOUR CODE HERE\n",
    "    qrels_dict = {}\n",
    "    with open(root_folder + 'qrels.text') as f:\n",
    "        for line in f:\n",
    "            line_split = line.split(' ')\n",
    "            q_id = str(int(line_split[0]))\n",
    "            doc_id = line_split[1]\n",
    "            if q_id in qrels_dict:\n",
    "                qrels_dict[q_id].append(doc_id)\n",
    "            else:\n",
    "                qrels_dict[q_id] = [doc_id]\n",
    "        \n",
    "    return qrels_dict"
   ]
  },
  {
   "cell_type": "code",
   "execution_count": 59,
   "metadata": {
    "ExecuteTime": {
     "end_time": "2021-02-19T19:17:03.161533Z",
     "start_time": "2021-02-19T19:17:03.155549Z"
    },
    "deletable": false,
    "editable": false,
    "id": "42HAaoxI4IWm",
    "nbgrader": {
     "cell_type": "code",
     "checksum": "6a258a834392cc8cbf8af5d4ccdee81f",
     "grade": true,
     "grade_id": "cell-72215605fbe24f65",
     "locked": true,
     "points": 2,
     "schema_version": 3,
     "solution": false,
     "task": false
    }
   },
   "outputs": [],
   "source": [
    "#### Function check\n",
    "qrels = read_qrels()\n",
    "\n",
    "assert len(qrels) == 52, \"There should be 52 queries with relevance judgements\"\n",
    "assert sum(len(j) for j in qrels.values()) == 796, \"There should be a total of 796 Relevance Judgements\"\n",
    "####"
   ]
  },
  {
   "cell_type": "markdown",
   "metadata": {
    "deletable": false,
    "editable": false,
    "id": "XSWVVWzl4IWm",
    "nbgrader": {
     "cell_type": "markdown",
     "checksum": "6c9e7428a52e291a2cdf92a379730d4c",
     "grade": false,
     "grade_id": "cell-176a6fb2939d0420",
     "locked": true,
     "schema_version": 3,
     "solution": false,
     "task": false
    }
   },
   "source": [
    "---\n",
    "**Note:** For a given query `query_id`, you can assume that documents *not* in `qrels[query_id]` are not relevant to `query_id`. \n"
   ]
  },
  {
   "cell_type": "markdown",
   "metadata": {
    "deletable": false,
    "editable": false,
    "id": "Ad2E1OAb4IWm",
    "nbgrader": {
     "cell_type": "markdown",
     "checksum": "b26a818c7b4f7ad490e00b35ea0edd69",
     "grade": false,
     "grade_id": "cell-bd8341b72cdd89bb",
     "locked": true,
     "schema_version": 3,
     "solution": false,
     "task": false
    }
   },
   "source": [
    "---\n",
    "### 4.2 Precision (7 points)\n",
    "Implement the `precision@k` metric:"
   ]
  },
  {
   "cell_type": "code",
   "execution_count": 60,
   "metadata": {
    "ExecuteTime": {
     "end_time": "2021-02-19T19:17:03.166520Z",
     "start_time": "2021-02-19T19:17:03.162530Z"
    },
    "deletable": false,
    "id": "itsA-mo54IWm",
    "nbgrader": {
     "cell_type": "code",
     "checksum": "ad3cc3234a361d269ecb6b59cc447e9f",
     "grade": false,
     "grade_id": "cell-494bd0cce108ed67",
     "locked": false,
     "schema_version": 3,
     "solution": true,
     "task": false
    }
   },
   "outputs": [],
   "source": [
    "# TODO: Implement this! (7 points)\n",
    "def precision_k(results, relevant_docs, k):\n",
    "    \"\"\"\n",
    "        Compute Precision@K\n",
    "        Input: \n",
    "            results: A sorted list of 2-tuples (document_id, score), \n",
    "                    with the most relevant document in the first position\n",
    "            relevant_docs: A set of relevant documents. \n",
    "            k: the cut-off\n",
    "        Output: Precision@K\n",
    "    \"\"\"\n",
    "    # YOUR CODE HERE\n",
    "    \n",
    "    relevant_doc_set = set(relevant_docs)\n",
    "    results_doc_set = {k for k, v in results[:k]}\n",
    "\n",
    "    numerator = len(relevant_doc_set.intersection(results_doc_set))\n",
    "    \n",
    "    precision = numerator / k\n",
    "\n",
    "\n",
    "    return precision"
   ]
  },
  {
   "cell_type": "code",
   "execution_count": 61,
   "metadata": {
    "ExecuteTime": {
     "end_time": "2021-02-19T19:17:03.182513Z",
     "start_time": "2021-02-19T19:17:03.167518Z"
    },
    "deletable": false,
    "editable": false,
    "id": "QnBXQiHM4IWm",
    "nbgrader": {
     "cell_type": "code",
     "checksum": "964b214dbfff8fc53cada864019ee863",
     "grade": true,
     "grade_id": "cell-e7ff0d91c319ca64",
     "locked": true,
     "points": 7,
     "schema_version": 3,
     "solution": false,
     "task": false
    }
   },
   "outputs": [
    {
     "name": "stdout",
     "output_type": "stream",
     "text": [
      "query:\n",
      " What articles exist which deal with TSS (Time Sharing System), an\n",
      "operating system for IBM computers?\n",
      "precision@10 = 0.2\n"
     ]
    }
   ],
   "source": [
    "#### Function check\n",
    "qid = queries[0][0]\n",
    "qtext = queries[0][1]\n",
    "print(f'query:{qtext}')\n",
    "results = bm25_search(qtext, 2)\n",
    "precision = precision_k(results, qrels[qid], 10)\n",
    "print(f'precision@10 = {precision}')\n",
    "####"
   ]
  },
  {
   "cell_type": "markdown",
   "metadata": {
    "deletable": false,
    "editable": false,
    "id": "rsVw36Qs4IWn",
    "nbgrader": {
     "cell_type": "markdown",
     "checksum": "8fd3b3998197c7097a40348500affb68",
     "grade": false,
     "grade_id": "cell-afd95f865bc7191e",
     "locked": true,
     "schema_version": 3,
     "solution": false,
     "task": false
    }
   },
   "source": [
    "---\n",
    "### 4.3 Recall (7 points)\n",
    "Implement the `recall@k` metric:"
   ]
  },
  {
   "cell_type": "code",
   "execution_count": 62,
   "metadata": {
    "ExecuteTime": {
     "end_time": "2021-02-19T19:17:03.188460Z",
     "start_time": "2021-02-19T19:17:03.183476Z"
    },
    "deletable": false,
    "id": "5MCAhvPt4IWn",
    "nbgrader": {
     "cell_type": "code",
     "checksum": "b2020e5741ae03b3fe35817ed8f4ccaa",
     "grade": false,
     "grade_id": "cell-c323fc8c3f8a7cf8",
     "locked": false,
     "schema_version": 3,
     "solution": true,
     "task": false
    }
   },
   "outputs": [],
   "source": [
    "# TODO: Implement this! (7 points)\n",
    "def recall_k(results, relevant_docs, k):\n",
    "    \"\"\"\n",
    "        Compute Recall@K\n",
    "        Input: \n",
    "            results: A sorted list of 2-tuples (document_id, score), with the most relevant document in the first position\n",
    "            relevant_docs: A set of relevant documents. \n",
    "            k: the cut-off\n",
    "        Output: Recall@K\n",
    "    \"\"\"\n",
    "    # YOUR CODE HERE\n",
    "    relevant_doc_set = set(relevant_docs)\n",
    "    results_doc_set = {k for k, v in results[:k]}\n",
    "\n",
    "    numerator = len(relevant_doc_set.intersection(results_doc_set))\n",
    "\n",
    "    denominator = len(relevant_doc_set)\n",
    "    \n",
    "    recall = numerator / denominator if denominator > 0 else 0\n",
    "\n",
    "\n",
    "    return recall\n"
   ]
  },
  {
   "cell_type": "code",
   "execution_count": 63,
   "metadata": {
    "ExecuteTime": {
     "end_time": "2021-02-19T19:17:03.196440Z",
     "start_time": "2021-02-19T19:17:03.189458Z"
    },
    "deletable": false,
    "editable": false,
    "id": "oJrL_tLY4IWn",
    "nbgrader": {
     "cell_type": "code",
     "checksum": "56b6e0b8522f8b2dffbfb3206b2efa84",
     "grade": true,
     "grade_id": "cell-b25172161aef165c",
     "locked": true,
     "points": 7,
     "schema_version": 3,
     "solution": false,
     "task": false
    }
   },
   "outputs": [
    {
     "name": "stdout",
     "output_type": "stream",
     "text": [
      "query:\n",
      " SETL, Very High Level Languages\n",
      "recall@10 = 0.3157894736842105\n"
     ]
    }
   ],
   "source": [
    "#### Function check\n",
    "qid = queries[10][0]\n",
    "qtext = queries[10][1]\n",
    "print(f'query:{qtext}')\n",
    "results = bm25_search(qtext, 2)\n",
    "recall = recall_k(results, qrels[qid], 10)\n",
    "print(f'recall@10 = {recall}')\n",
    "####"
   ]
  },
  {
   "cell_type": "markdown",
   "metadata": {
    "deletable": false,
    "editable": false,
    "id": "O6zOyivS4IWn",
    "nbgrader": {
     "cell_type": "markdown",
     "checksum": "d43c63fa38f333e0b52d41639b2655f7",
     "grade": false,
     "grade_id": "cell-77fd2e7a39a74739",
     "locked": true,
     "schema_version": 3,
     "solution": false,
     "task": false
    }
   },
   "source": [
    "---\n",
    "### 4.4 Mean Average Precision (12 points)\n",
    "Implement the `map` metric:"
   ]
  },
  {
   "cell_type": "code",
   "execution_count": 64,
   "metadata": {
    "ExecuteTime": {
     "end_time": "2021-02-19T19:17:03.202424Z",
     "start_time": "2021-02-19T19:17:03.197438Z"
    },
    "deletable": false,
    "id": "NtBBAX-34IWn",
    "nbgrader": {
     "cell_type": "code",
     "checksum": "aae2c62f2ffd76f5b6c004e9519b9f14",
     "grade": false,
     "grade_id": "cell-e50925fa9093a30d",
     "locked": false,
     "schema_version": 3,
     "solution": true,
     "task": false
    }
   },
   "outputs": [],
   "source": [
    "# TODO: Implement this! (12 points)\n",
    "def average_precision(results, relevant_docs):\n",
    "    \"\"\"\n",
    "        Compute Average Precision (for a single query - the results are \n",
    "        averaged across queries to get MAP in the next few cells)\n",
    "        Hint: You can use the recall_k and precision_k functions here!\n",
    "        Input: \n",
    "            results: A sorted list of 2-tuples (document_id, score), with the most \n",
    "                    relevant document in the first position\n",
    "            relevant_docs: A set of relevant documents. \n",
    "        Output: Average Precision\n",
    "    \"\"\"\n",
    "    # YOUR CODE HERE\n",
    "    precisions = []\n",
    "    relevant_results = []\n",
    "    for i in range(len(results)):\n",
    "        cur_precision = precision_k(results, relevant_docs, i+1)\n",
    "        doc_id, _ = results[i]\n",
    "        if doc_id in relevant_docs:\n",
    "            precisions.append(cur_precision)\n",
    "\n",
    "    return sum(precisions)/len(precisions) if len(precisions) > 0 else 0\n",
    "\n",
    "    \n",
    "\n",
    "    \n",
    "        \n"
   ]
  },
  {
   "cell_type": "code",
   "execution_count": 65,
   "metadata": {
    "ExecuteTime": {
     "end_time": "2021-02-19T19:17:03.506610Z",
     "start_time": "2021-02-19T19:17:03.203422Z"
    },
    "deletable": false,
    "editable": false,
    "id": "Ij731snQ4IWn",
    "nbgrader": {
     "cell_type": "code",
     "checksum": "5db8cb2dfd3a77554f4147b409f47f38",
     "grade": true,
     "grade_id": "cell-8a1f7ec98571e58b",
     "locked": true,
     "points": 12,
     "schema_version": 3,
     "solution": false,
     "task": false
    },
    "tags": []
   },
   "outputs": [
    {
     "name": "stdout",
     "output_type": "stream",
     "text": [
      "query:\n",
      " computational complexity, intractability, class-complete reductions,\n",
      "algorithms and efficiency\n",
      "MAP = 0.13885003916324018\n"
     ]
    }
   ],
   "source": [
    "#### Function check\n",
    "qid = queries[20][0]\n",
    "qtext = queries[20][1]\n",
    "print(f'query:{qtext}')\n",
    "results = bm25_search(qtext, 2)\n",
    "mean_ap = average_precision(results, qrels[qid])\n",
    "print(f'MAP = {mean_ap}')\n",
    "####"
   ]
  },
  {
   "cell_type": "markdown",
   "metadata": {
    "deletable": false,
    "editable": false,
    "id": "Q38CrFOO4IWo",
    "nbgrader": {
     "cell_type": "markdown",
     "checksum": "cb645b79d04cc3eed33ca060a5e7bf0f",
     "grade": false,
     "grade_id": "cell-1da18f0fe6f6d7be",
     "locked": true,
     "schema_version": 3,
     "solution": false,
     "task": false
    }
   },
   "source": [
    "---\n",
    "### 4.5 Expected Reciprocal Rank (12 points)\n",
    "Implement the `err` metric:"
   ]
  },
  {
   "cell_type": "code",
   "execution_count": 66,
   "metadata": {
    "ExecuteTime": {
     "end_time": "2021-02-19T19:17:03.511598Z",
     "start_time": "2021-02-19T19:17:03.507607Z"
    },
    "deletable": false,
    "id": "Wm7tmYcH4IWo",
    "nbgrader": {
     "cell_type": "code",
     "checksum": "9ac94db728e23ea1f5dc0d509473c6fb",
     "grade": false,
     "grade_id": "cell-64262889f9b267ea",
     "locked": false,
     "schema_version": 3,
     "solution": true,
     "task": false
    }
   },
   "outputs": [],
   "source": [
    "# TODO: Implement this! (12 points)\n",
    "def err(results, relevant_docs):\n",
    "    \"\"\"\n",
    "        Compute the expected reciprocal rank.\n",
    "        Hint: https://dl.acm.org/doi/pdf/10.1145/1645953.1646033?download=true\n",
    "        Input: \n",
    "            results: A sorted list of 2-tuples (document_id, score), with the most \n",
    "                    relevant document in the first position\n",
    "            relevant_docs: A set of relevant documents. \n",
    "        Output: ERR\n",
    "        \n",
    "    \"\"\"\n",
    "    # The relevance grade is binary, so when a document is irrelevant, we get (2^0-1)/2 = 0\n",
    "    # For a relevant document, this is (2^1-1)/2 = 0.5, hence the R of 0 or 0.5.\n",
    "    p, ERR = 1, 0\n",
    "    nr_docs = len(results)\n",
    "    for r in range(nr_docs):\n",
    "        cur_doc = results[r][0]\n",
    "        if cur_doc in relevant_docs:\n",
    "            R = 0.5\n",
    "        else:\n",
    "            R = 0\n",
    "        ERR += p * R/(r + 1)\n",
    "        p *= (1-R)\n",
    "    \n",
    "    return ERR"
   ]
  },
  {
   "cell_type": "code",
   "execution_count": 67,
   "metadata": {
    "ExecuteTime": {
     "end_time": "2021-02-19T19:17:03.568052Z",
     "start_time": "2021-02-19T19:17:03.518612Z"
    },
    "deletable": false,
    "editable": false,
    "id": "xD69_bIF4IWo",
    "nbgrader": {
     "cell_type": "code",
     "checksum": "eb97e6d89a0b992b642e4e0ff36ff9f5",
     "grade": true,
     "grade_id": "cell-071e3970ff1afae4",
     "locked": true,
     "points": 12,
     "schema_version": 3,
     "solution": false,
     "task": false
    }
   },
   "outputs": [
    {
     "name": "stdout",
     "output_type": "stream",
     "text": [
      "query:\n",
      " I'd like to find articles describing the use of singular value decomposition\n",
      "in digital image processing.  Applications include finding approximations\n",
      "to the original image and restoring images that are subject to noise. An\n",
      "article on the subject is H.C. Andrews and C.L. Patterson \"Outer product\n",
      "expansions and their uses in digital image processing\", American Mathematical\n",
      "Monthly, vol. 82.\n",
      "ERR = 0.3333333333333333\n"
     ]
    }
   ],
   "source": [
    "#### Function check\n",
    "qid = queries[30][0]\n",
    "qtext = queries[30][1]\n",
    "print(f'query:{qtext}')\n",
    "results = bm25_search(qtext, 2)\n",
    "ERR = err(results, qrels[qid])\n",
    "print(f'ERR = {ERR}')\n",
    "####"
   ]
  },
  {
   "cell_type": "markdown",
   "metadata": {
    "deletable": false,
    "editable": false,
    "id": "Gh1iz9Ht4IWo",
    "nbgrader": {
     "cell_type": "markdown",
     "checksum": "5bd94caf77cfa5f34675df758d91002d",
     "grade": false,
     "grade_id": "cell-43709a765f353946",
     "locked": true,
     "schema_version": 3,
     "solution": false,
     "task": false
    }
   },
   "source": [
    "---\n",
    "### 4.6 Evaluate Search Functions\n",
    "\n",
    "Let's define some metrics@k using [partial functions](https://docs.python.org/3/library/functools.html#functools.partial)"
   ]
  },
  {
   "cell_type": "code",
   "execution_count": 68,
   "metadata": {
    "ExecuteTime": {
     "end_time": "2021-02-19T19:17:03.574989Z",
     "start_time": "2021-02-19T19:17:03.570003Z"
    },
    "deletable": false,
    "editable": false,
    "id": "Z-lVjRDV4IWo",
    "nbgrader": {
     "cell_type": "code",
     "checksum": "49ccc158e5fb7340ace55e90eeb9d62a",
     "grade": false,
     "grade_id": "cell-dab560e18e340da8",
     "locked": true,
     "schema_version": 3,
     "solution": false,
     "task": false
    }
   },
   "outputs": [],
   "source": [
    "#### metrics@k functions\n",
    "\n",
    "recall_at_1 = partial(recall_k, k=1)\n",
    "recall_at_5 = partial(recall_k, k=5)\n",
    "recall_at_10 = partial(recall_k, k=10)\n",
    "precision_at_1 = partial(precision_k, k=1)\n",
    "precision_at_5 = partial(precision_k, k=5)\n",
    "precision_at_10 = partial(precision_k, k=10)\n",
    "\n",
    "\n",
    "list_of_metrics = [\n",
    "    (\"ERR\", err),\n",
    "    (\"MAP\", average_precision),\n",
    "    (\"Recall@1\",recall_at_1),\n",
    "    (\"Recall@5\", recall_at_5),\n",
    "    (\"Recall@10\", recall_at_10),\n",
    "    (\"Precision@1\", precision_at_1),\n",
    "    (\"Precision@5\", precision_at_5),\n",
    "    (\"Precision@10\", precision_at_10)]\n",
    "####"
   ]
  },
  {
   "cell_type": "markdown",
   "metadata": {
    "deletable": false,
    "editable": false,
    "id": "tkpES_rl4IWo",
    "nbgrader": {
     "cell_type": "markdown",
     "checksum": "fb541002c03221b453b8936290020ea5",
     "grade": false,
     "grade_id": "cell-580a2bdc66d03b47",
     "locked": true,
     "schema_version": 3,
     "solution": false,
     "task": false
    }
   },
   "source": [
    "---\n",
    "\n",
    "The following function evaluates a `search_fn` using the `metric_fn`. Note that the final number is averaged over all the queries"
   ]
  },
  {
   "cell_type": "code",
   "execution_count": 69,
   "metadata": {
    "ExecuteTime": {
     "end_time": "2021-02-19T19:17:03.581970Z",
     "start_time": "2021-02-19T19:17:03.576146Z"
    },
    "id": "SGKA8Ci54IWo"
   },
   "outputs": [],
   "source": [
    "#### Evaluate a search function\n",
    "\n",
    "list_of_search_fns = [\n",
    "    (\"BOW\", bow_search),\n",
    "    (\"TF-IDF\", tfidf_search),\n",
    "    (\"NaiveQL\", naive_ql_search),\n",
    "    (\"QL\", ql_search),\n",
    "    (\"BM25\", bm25_search)\n",
    "]\n",
    "\n",
    "def evaluate_search_fn(search_fn, metric_fns, index_set=None):\n",
    "    # build a dict query_id -> query \n",
    "    queries_by_id = dict((q[0], q[1]) for q in queries)\n",
    "    metrics = {}\n",
    "    for metric, metric_fn in metric_fns:\n",
    "        metrics[metric] = np.zeros(len(qrels), dtype=np.float32)\n",
    "    \n",
    "    for i, (query_id, relevant_docs) in enumerate(qrels.items()):\n",
    "        query = queries_by_id[query_id]\n",
    "        if index_set:\n",
    "            results = search_fn(query, index_set)\n",
    "        else:\n",
    "            results = search_fn(query)\n",
    "        \n",
    "        for metric, metric_fn in metric_fns:\n",
    "            metrics[metric][i] = metric_fn(results, relevant_docs)\n",
    "\n",
    "    \n",
    "    \n",
    "    final_dict = {}\n",
    "    for metric, metric_vals in metrics.items():\n",
    "        final_dict[metric] = metric_vals.mean()\n",
    "    \n",
    "    return final_dict\n",
    "####"
   ]
  },
  {
   "cell_type": "markdown",
   "metadata": {
    "deletable": false,
    "editable": false,
    "id": "b54ANEqK4IWp",
    "nbgrader": {
     "cell_type": "markdown",
     "checksum": "6ea67534f74a8f81e1f504794f641709",
     "grade": false,
     "grade_id": "cell-b156d83a0649cbb4",
     "locked": true,
     "schema_version": 3,
     "solution": false,
     "task": false
    }
   },
   "source": [
    "## Section 5: Analysis (30 points) <a class=\"anchor\" id=\"analysis\"></a>\n",
    "\n",
    "[Back to Part 1](#part1)\n",
    "\n",
    "In the final section of Part1, we will compare the different term-based IR algorithms and different preprocessing configurations and analyze their advantages and disadvantages.\n",
    "\n",
    "### Section 5.1: Plot (20 points)\n",
    "\n",
    "First, gather the results. The results should consider the index set, the different search functions and different metrics. Plot the results in bar charts, per metric, with clear labels.\n",
    "\n",
    "**Rubric:**\n",
    "- Each Metric is plotted: 7 points\n",
    "- Each Method is plotted: 7 points\n",
    "- Clear titles, x label, y labels and legends (if applicable): 6 points"
   ]
  },
  {
   "cell_type": "code",
   "execution_count": 70,
   "metadata": {
    "ExecuteTime": {
     "end_time": "2021-02-19T19:19:29.822877Z",
     "start_time": "2021-02-19T19:17:03.583970Z"
    },
    "deletable": false,
    "id": "YcKLzbIQ4IWp",
    "nbgrader": {
     "cell_type": "code",
     "checksum": "7e2588a925d13ddf588abe8311dc9cfc",
     "grade": true,
     "grade_id": "cell-46fda42a25863a04",
     "locked": false,
     "points": 20,
     "schema_version": 3,
     "solution": true,
     "task": false
    },
    "scrolled": true,
    "tags": []
   },
   "outputs": [
    {
     "data": {
      "image/png": "[encoded data removed]",
      "text/plain": [
       "<Figure size 432x288 with 1 Axes>"
      ]
     },
     "metadata": {
      "needs_background": "light"
     },
     "output_type": "display_data"
    },
    {
     "data": {
      "image/png": "[encoded data removed]",
      "text/plain": [
       "<Figure size 432x288 with 1 Axes>"
      ]
     },
     "metadata": {
      "needs_background": "light"
     },
     "output_type": "display_data"
    },
    {
     "data": {
      "image/png": "[encoded data removed]",
      "text/plain": [
       "<Figure size 432x288 with 1 Axes>"
      ]
     },
     "metadata": {
      "needs_background": "light"
     },
     "output_type": "display_data"
    },
    {
     "data": {
      "image/png": "[encoded data removed]",
      "text/plain": [
       "<Figure size 432x288 with 1 Axes>"
      ]
     },
     "metadata": {
      "needs_background": "light"
     },
     "output_type": "display_data"
    },
    {
     "data": {
      "image/png": "[encoded data removed]",
      "text/plain": [
       "<Figure size 432x288 with 1 Axes>"
      ]
     },
     "metadata": {
      "needs_background": "light"
     },
     "output_type": "display_data"
    },
    {
     "data": {
      "image/png": "[encoded data removed]",
      "text/plain": [
       "<Figure size 432x288 with 1 Axes>"
      ]
     },
     "metadata": {
      "needs_background": "light"
     },
     "output_type": "display_data"
    },
    {
     "data": {
      "image/png": "[encoded data removed]",
      "text/plain": [
       "<Figure size 432x288 with 1 Axes>"
      ]
     },
     "metadata": {
      "needs_background": "light"
     },
     "output_type": "display_data"
    },
    {
     "data": {
      "image/png": "[encoded data removed]",
      "text/plain": [
       "<Figure size 432x288 with 1 Axes>"
      ]
     },
     "metadata": {
      "needs_background": "light"
     },
     "output_type": "display_data"
    }
   ],
   "source": [
    "# YOUR CODE HERE\n",
    "toplot = {'ERR':[[],[]],\n",
    "          'MAP':[[],[]],\n",
    "          'Recall@1':[[],[]],\n",
    "          'Recall@5':[[],[]],\n",
    "          'Recall@10':[[],[]],\n",
    "          'Precision@1':[[],[]],\n",
    "          'Precision@5':[[],[]],\n",
    "          'Precision@10':[[],[]]\n",
    "         }\n",
    "\n",
    "for search_name, search_fn in list_of_search_fns:\n",
    "    index_set_res_1 = evaluate_search_fn(search_fn,list_of_metrics,1)\n",
    "    for key,value in index_set_res_1.items():\n",
    "        toplot[key][0].append(value)\n",
    "    index_set_res_2 = evaluate_search_fn(search_fn,list_of_metrics,2)\n",
    "    for key,value in index_set_res_2.items():\n",
    "        toplot[key][1].append(value)\n",
    "\n",
    "n_groups = len(list_of_search_fns)        \n",
    "for (name,values) in toplot.items():\n",
    "        dict_keys = dict(list_of_search_fns).keys()\n",
    "        score_1 = values[0]\n",
    "        score_2 = values[1]\n",
    "        # create plot\n",
    "        fig, ax = plt.subplots()\n",
    "        index = np.arange(n_groups)\n",
    "        bar_width = 0.35\n",
    "        opacity = 0.8\n",
    "\n",
    "        rects1 = plt.bar(index, score_1, bar_width,\n",
    "        alpha=opacity,\n",
    "        color='b',\n",
    "        label='Index set = 1')\n",
    "\n",
    "        rects2 = plt.bar(index + bar_width, score_2, bar_width,\n",
    "        alpha=opacity,\n",
    "        color='g',\n",
    "        label='Index set = 2')\n",
    "\n",
    "        plt.xlabel('Search functions')\n",
    "        plt.ylabel('Results')\n",
    "        plt.title('Results using ' + name + ' metric')\n",
    "        plt.xticks(index + bar_width, dict_keys )\n",
    "        plt.legend()\n",
    "\n",
    "        plt.tight_layout()\n",
    "        plt.xticks(rotation=45)\n",
    "        plt.show()"
   ]
  },
  {
   "cell_type": "markdown",
   "metadata": {
    "deletable": false,
    "editable": false,
    "id": "lZ3SttfV4IWp",
    "nbgrader": {
     "cell_type": "markdown",
     "checksum": "e88c444a0acf4e398c65e289169b75f7",
     "grade": false,
     "grade_id": "cell-8aabe3bcf265deb0",
     "locked": true,
     "points": 10,
     "schema_version": 3,
     "solution": false,
     "task": true
    }
   },
   "source": [
    "---\n",
    "### Section 5.2: Summary (10 points)\n",
    "Write a summary of what you observe in the results.\n",
    "Your summary should compare results across the 2 indices and the methods being used. State what you expected to see in the results, followed by either supporting evidence *or* justify why the results did not support your expectations.      "
   ]
  },
  {
   "cell_type": "markdown",
   "metadata": {
    "id": "iD_gTGV84IWp"
   },
   "source": [
    "We have implemented log normalization on the term frequencies, because it worked better when compared to using the raw frequencies. It appears that the weights of the raw term frequencies have a too large effect on the scores, and a smaller (normalized) version of the term frequencies works better in this particular collection. When comparing the BOW with the TF-IDF search function, we notice that the TF-IDF scores are higher.  This is in line with our expectations, because the TF-IDF should work better for every evaluation metric. It seems  The reason behind this is that TF-IDF penalizes words that occur in many documents, expecting them to be less relevant, whereas binarized BOW counts the query tokens that also appear in the document. Previously, we had an implementation using the term frequency, and there our hypothesis appeared to be valid: TF-IDF would score higher than BOW. It appears that in this collection, the binarized BOW worked better. It seems that for these specific queries, it is important whether a query term appears in a document and not how many times. In 2 out of the 8 cases, index 1 is better than index 2 for TF-IDF. These cases are for the evaluation metrics recall@1 and precision@1. It might be that on average, the first document that is given back is matches better with a collection still containing the stop words and performing no stemming. In line with out expectations for TF-IDF, index 2 yields higher evaluation scores more frequently, reducing the stop word noise and performing the stemming procedure. For the BOW implementation, index set 2 always scores (slightly) higher, but this result is negligible for MAP and precision@10. \n",
    "\n",
    "Naive QL appears to have the lowest scores for all evaluation metrics. This was in line with our idea of the method, because if a query term does not appear in the document, then this score will result in 0 (because it is mutliplied by zero). This is of course too extreme a measure, because there could be 4/5 query terms that are indeed appearing in the document and yet this document obtains a score of zero. In contrast, QL works way better because it uses some kind of smoothing, which allows for documents to have a relatively high score even if some of the query tokens are not in the document. For both Naive QL and QL, index 2 appears to work better than index 1. This coincides with our idea of Naive QL and QL. Stop words like 'the' may appear many times in the document, resulting in an unnaturally high score, even though it might not be relevant and possibly obfuscate more relevant documents that do not contain many stop words. Similarly, query terms that occur in a different 'form' are considered to be not in the document and obtain a 0-score or a very small score, even though they might be relevant query terms. When applying a stemming procedure, one increases the probability of obtaining the same stem for words with different 'forms', therefore not unnecessarily decreasing the total score. We surmise that therefore index 2 works better in general than index 1.\n",
    "\n",
    "BM25 is a technique that has been developed over the years and is considered to be one of the most succesful IR algorithms, according to the literature [1]. This shows in our results, because there BM25 seems to outperform all other techniques/methods when considering the same index, except for index 1 of TF-IDF of the recall@1 metric. TF-IDF appears to pick relevant documents more frequently on average. For the precision@1 metric applied on BM25 and index 1, the result is higher than 0.5, which means that in for half of the queries, a revelant document has been obtained, on average! We deem this quite impressive. Only for recall@1, index 2 outperforms index 1, but only by a small amount. Therefore we ask ourselves whether this is different is statistically significant, or if index 1 is just 'lucky'. We do not know exactly what caused this and why this is not the case for recall at other cut-off values.  \n",
    "\n",
    "\n",
    "\n",
    "\n",
    "[1] - Robertson, S., & Zaragoza, H. (2009). The probabilistic relevance framework: BM25 and beyond. Now Publishers Inc.\n"
   ]
  },
  {
   "cell_type": "markdown",
   "metadata": {
    "deletable": false,
    "editable": false,
    "id": "GB_eEIJE4IWp",
    "nbgrader": {
     "cell_type": "markdown",
     "checksum": "b3eb77be74eecca205fc7b47316d1627",
     "grade": false,
     "grade_id": "cell-bb60dd5c092d0f2e",
     "locked": true,
     "schema_version": 3,
     "solution": false,
     "task": false
    }
   },
   "source": [
    "---\n",
    "---\n",
    "# Part 2: Semantic-based Matching (85 points) <a class=\"anchor\" id=\"part2\"></a>\n",
    "\n",
    "[Back to top](#top)\n",
    "\n",
    "We will now experiment with methods that go beyond lexical methods like TF-IDF, which operate at the word level and are high dimensional and sparse, and look at methods which constructs low dimensional dense representations of queries and documents. \n",
    "\n",
    "Since these low-dimensional methods have a higher time complexity, they are typically used in conjunction with methods like BM-25. That is, instead of searching through potentially million documents to find matches using low dimensional vectors, a list of K documents are retrieved using BM25, and then **re-ranked** using the other method. This is the method that is going to be applied in the following exercises. \n",
    "\n",
    "LSI/LDA takes documents that are similar on a semantic level - for instance, if they are describing the same topic - and projects them into nearby vectors, despite having low lexical overlap.\n",
    "\n",
    "In this assignment, you will use `gensim` to create LSI/LDA models and use them in re-ranking. \n",
    "\n",
    "**Note**: The following exercises only uses `doc_repr_2` and `config_2`\n",
    "\n",
    "Table of contents:\n",
    "- [Section 6: LSI](#lsi) (15 points)\n",
    "- [Section 7: LDA](#lda) (10 points)\n",
    "- [Section 8: Word2Vec/Doc2Vec](#2vec) (20 points)\n",
    "- [Section 8: Re-ranking](#reranking) (10 points)\n",
    "- [Section 9: Re-ranking Evaluation](#reranking_eval) (30 points)"
   ]
  },
  {
   "cell_type": "markdown",
   "metadata": {
    "deletable": false,
    "editable": false,
    "id": "-hdtSyZZ4IWp",
    "nbgrader": {
     "cell_type": "markdown",
     "checksum": "f7c7b2cab82f576ed0acf836ca57171c",
     "grade": false,
     "grade_id": "cell-6b2c81e7a8abd180",
     "locked": true,
     "schema_version": 3,
     "solution": false,
     "task": false
    }
   },
   "source": [
    "---\n",
    "## Section 6: Latent Semantic Indexing (LSI) (15 points) <a class=\"anchor\" id=\"lsi\"></a>\n",
    "\n",
    "[Back to Part 2](#part2)\n",
    "\n",
    "LSI is one of the methods to embed the queries and documents into vectors. It is based on a method similar to Principal Component Analysis (PCA) for obtaining a dense concept matrix out of the sparse term-document matrix.\n",
    "\n",
    "See [wikipedia](https://en.wikipedia.org/wiki/Latent_semantic_analysis), particularly [#Mathematics_of_LSI](https://en.wikipedia.org/wiki/Latent_semantic_analysis#Mathematics_of_LSI)."
   ]
  },
  {
   "cell_type": "code",
   "execution_count": 71,
   "metadata": {
    "ExecuteTime": {
     "end_time": "2021-02-19T19:19:29.979054Z",
     "start_time": "2021-02-19T19:19:29.824871Z"
    },
    "deletable": false,
    "editable": false,
    "id": "Qlqfq_y34IWq",
    "nbgrader": {
     "cell_type": "code",
     "checksum": "c17ee75319cb517e2bf48ec3d9efc329",
     "grade": false,
     "grade_id": "cell-59913daee47f680d",
     "locked": true,
     "schema_version": 3,
     "solution": false,
     "task": false
    }
   },
   "outputs": [],
   "source": [
    "from gensim.corpora import Dictionary\n",
    "from gensim.models import LdaModel, LsiModel, Word2Vec\n",
    "from gensim.models.doc2vec import Doc2Vec, TaggedDocument\n",
    "from gensim import downloader as g_downloader\n",
    "# gensim uses logging, so set it up \n",
    "import logging\n",
    "logging.basicConfig(format='%(asctime)s : %(levelname)s : %(message)s', level=logging.INFO)"
   ]
  },
  {
   "cell_type": "markdown",
   "metadata": {
    "deletable": false,
    "editable": false,
    "id": "KqeQEm1Q4IWq",
    "nbgrader": {
     "cell_type": "markdown",
     "checksum": "5fce140c546759b54a9fc060901ae77c",
     "grade": false,
     "grade_id": "cell-3644faff4976598a",
     "locked": true,
     "schema_version": 3,
     "solution": false,
     "task": false
    }
   },
   "source": [
    "---\n",
    "### Section 6.1: Cosine Similarity (5 points)<a class=\"anchor\" id=\"cosing_sim\"></a>\n",
    "Before we begin, let us first define our method of similarity for the LSI model, the cosine similarity:\n",
    "\n",
    "$$\\text{similarity} = \\cos(\\theta) = {\\mathbf{A} \\cdot \\mathbf{B} \\over \\|\\mathbf{A}\\| \\|\\mathbf{B}\\|} = \\frac{ \\sum\\limits_{i=1}^{n}{A_i  B_i} }{ \\sqrt{\\sum\\limits_{i=1}^{n}{A_i^2}}  \\sqrt{\\sum\\limits_{i=1}^{n}{B_i^2}} }$$\n",
    "\n",
    "Since we are using gensim, the types of vectors returned by their classes are of the form defined below (they are not just simple vectors):"
   ]
  },
  {
   "cell_type": "code",
   "execution_count": 72,
   "metadata": {
    "ExecuteTime": {
     "end_time": "2021-02-19T19:19:29.984999Z",
     "start_time": "2021-02-19T19:19:29.980013Z"
    },
    "deletable": false,
    "editable": false,
    "id": "GGCJRThj4IWq",
    "nbgrader": {
     "cell_type": "code",
     "checksum": "4e340e1a1d546f430c018fd0760e707a",
     "grade": false,
     "grade_id": "cell-3995a50f951314d5",
     "locked": true,
     "schema_version": 3,
     "solution": false,
     "task": false
    }
   },
   "outputs": [],
   "source": [
    "# 1, 2, 3 are either latent dimensions (LSI), or topics (LDA)\n",
    "# The second value in each tuple is a number (LSI) or a probability (LDA)  \n",
    "example_vec_1 = [(1, 0.2), (2, 0.3), (3, 0.4)]\n",
    "example_vec_2 = [(1, 0.2), (2, 0.7), (3, 0.4)]"
   ]
  },
  {
   "cell_type": "markdown",
   "metadata": {
    "deletable": false,
    "editable": false,
    "id": "yrXWRnVx4IWq",
    "nbgrader": {
     "cell_type": "markdown",
     "checksum": "20832fd4f579f49ae204b0efee02edd1",
     "grade": false,
     "grade_id": "cell-5e54d581858dc8f7",
     "locked": true,
     "schema_version": 3,
     "solution": false,
     "task": false
    }
   },
   "source": [
    "---\n",
    "**Implementation (2+3 points):**\n",
    "Now, implement the `dot product` operation on these types of vectors and using this operator, implement the `cosine similarity` (don't forget: two functions to implement!):"
   ]
  },
  {
   "cell_type": "code",
   "execution_count": 73,
   "metadata": {
    "ExecuteTime": {
     "end_time": "2021-02-19T19:19:29.993099Z",
     "start_time": "2021-02-19T19:19:29.986995Z"
    },
    "deletable": false,
    "id": "OLHTT0Pb4IWq",
    "nbgrader": {
     "cell_type": "code",
     "checksum": "06a712ee75fc213a21c5f0067fd8fe28",
     "grade": false,
     "grade_id": "cell-0e8189f5f93de33f",
     "locked": false,
     "schema_version": 3,
     "solution": true,
     "task": false
    }
   },
   "outputs": [],
   "source": [
    "# TODO: Implement this! (2 points)\n",
    "def dot(vec_1,vec_2): \n",
    "    \"\"\"\n",
    "        vec_1 and vec_2 are of the form: [(int, float), (int, float), ...]\n",
    "        Return the dot product of two such vectors, computed only on the floats\n",
    "        You can assume that the lengths of the vectors are the same, and the dimensions are aligned \n",
    "            i.e you won't get: vec_1 = [(1, 0.2)] ; vec_2 = [(2, 0.3)] \n",
    "                                (dimensions are unaligned and lengths are different)\n",
    "    \"\"\"\n",
    "    # YOUR CODE HERE\n",
    "    dot_product = 0\n",
    "    for i in range(len(vec_1)):\n",
    "        dot_product +=  vec_1[i][1] * vec_2[i][1]\n",
    "    \n",
    "    return dot_product\n",
    "\n",
    "# TODO: Implement this! (3 points)\n",
    "def cosine_sim(vec_1, vec_2):\n",
    "    # YOUR CODE HERE\n",
    "    similarity = 0\n",
    "    res_a = 0\n",
    "    res_b = 0\n",
    "    for i in range(len(vec_1)):\n",
    "        res_a += vec_1[i][1] ** 2\n",
    "        res_b += vec_2[i][1] ** 2\n",
    "    numerator = dot(vec_1,vec_2)\n",
    "    \n",
    "    # When there exists a zero vector\n",
    "    # This happens when none of the tokens in the query are in the w2v model.\n",
    "    # As per instruction, we return a similarity score of 0.\n",
    "    if res_a == 0 or res_b == 0:\n",
    "        return 0\n",
    "    else:\n",
    "        denominator = math.sqrt(res_a)*math.sqrt(res_b)\n",
    "        return numerator/denominator\n",
    "    "
   ]
  },
  {
   "cell_type": "code",
   "execution_count": 74,
   "metadata": {
    "ExecuteTime": {
     "end_time": "2021-02-19T19:19:29.999960Z",
     "start_time": "2021-02-19T19:19:29.994975Z"
    },
    "deletable": false,
    "editable": false,
    "id": "opNcoM_E4IWq",
    "nbgrader": {
     "cell_type": "code",
     "checksum": "d22a4a7325ba7815a808390388f534a1",
     "grade": true,
     "grade_id": "cell-b25d04ed6b79fd35",
     "locked": true,
     "points": 2,
     "schema_version": 3,
     "solution": false,
     "task": false
    }
   },
   "outputs": [
    {
     "name": "stdout",
     "output_type": "stream",
     "text": [
      "vectors: ([(1, 0.2), (2, 0.3), (3, 0.4)], [(1, 0.2), (2, 0.7), (3, 0.4)])\n",
      "dot product = 0.41000000000000003\n",
      "cosine similarity = 0.9165587597202866\n"
     ]
    }
   ],
   "source": [
    "##### Function check\n",
    "print(f'vectors: {(example_vec_1,example_vec_2)}')\n",
    "print(f'dot product = {dot(example_vec_1,example_vec_2)}')\n",
    "print(f'cosine similarity = {cosine_sim(example_vec_1,example_vec_2)}')\n",
    "##### "
   ]
  },
  {
   "cell_type": "code",
   "execution_count": 75,
   "metadata": {
    "ExecuteTime": {
     "end_time": "2021-02-19T19:19:30.004946Z",
     "start_time": "2021-02-19T19:19:30.000956Z"
    },
    "deletable": false,
    "editable": false,
    "id": "fqGAn-Qy4IWr",
    "nbgrader": {
     "cell_type": "code",
     "checksum": "0744131724ce76b1b3f163b4bae5f700",
     "grade": true,
     "grade_id": "cell-ae3c4466866ace77",
     "locked": true,
     "points": 3,
     "schema_version": 3,
     "solution": false,
     "task": false
    }
   },
   "outputs": [],
   "source": [
    "#### Please do not change this. This cell is used for grading."
   ]
  },
  {
   "cell_type": "markdown",
   "metadata": {
    "deletable": false,
    "editable": false,
    "id": "-EkJ-o9j4IWr",
    "nbgrader": {
     "cell_type": "markdown",
     "checksum": "9b123f599f9ea372d14676e23f1c6a52",
     "grade": false,
     "grade_id": "cell-4b2534067c44fcdf",
     "locked": true,
     "schema_version": 3,
     "solution": false,
     "task": false
    }
   },
   "source": [
    "---\n",
    "### Section 6.2: LSI Retrieval (10 points)<a class=\"anchor\" id=\"lsi_retrieval\"></a>\n",
    "LSI retrieval is simply ranking the documents based on their cosine similarity to the query vector.\n",
    "First, let's write a parent class for vector-based retrieval models:"
   ]
  },
  {
   "cell_type": "code",
   "execution_count": 76,
   "metadata": {
    "ExecuteTime": {
     "end_time": "2021-02-19T19:19:30.012924Z",
     "start_time": "2021-02-19T19:19:30.005944Z"
    },
    "deletable": false,
    "editable": false,
    "id": "vui4hfKK4IWr",
    "nbgrader": {
     "cell_type": "code",
     "checksum": "ecc111d58182570e2252b8ef5d6b02af",
     "grade": false,
     "grade_id": "cell-937936cea18711ee",
     "locked": true,
     "schema_version": 3,
     "solution": false,
     "task": false
    }
   },
   "outputs": [],
   "source": [
    "class VectorSpaceRetrievalModel:\n",
    "    \"\"\"\n",
    "        Parent class for Dense Vector Retrieval models\n",
    "    \"\"\"\n",
    "    def __init__(self, doc_repr):\n",
    "        \"\"\"\n",
    "            document_collection: \n",
    "                [\n",
    "                    (doc_id_1, [token 1, token 2, ...]), \n",
    "                    (doc_id_2, [token 1, token 2, ....]) \n",
    "                    ...\n",
    "                ]\n",
    "\n",
    "        \"\"\"\n",
    "        self.doc_repr = doc_repr\n",
    "        self.documents = [_[1] for _ in self.doc_repr]\n",
    "        \n",
    "        # construct a dictionary\n",
    "        self.dictionary = Dictionary(self.documents)\n",
    "        # Filter out words that occur less than 20 documents, or more than 50% of the documents.\n",
    "        self.dictionary.filter_extremes(no_below=10)\n",
    "        self.corpus = [self.dictionary.doc2bow(doc) for doc in self.documents]\n",
    "    \n",
    "        # Make a index to word dictionary.\n",
    "        temp = self.dictionary[0]  # This is only to \"load\" the dictionary.\n",
    "        self.id2word = self.dictionary.id2token\n",
    "        \n",
    "        # this is set by the train_model function\n",
    "        self.model = None\n",
    "        \n",
    "        \n",
    "    def vectorize_documents(self):\n",
    "        \"\"\"\n",
    "            Returns a doc_id -> vector dictionary\n",
    "        \"\"\"\n",
    "        vectors = {}\n",
    "        for (doc_id, _), cc in zip(self.doc_repr, self.corpus):\n",
    "            vectors[doc_id] = self.model[cc]\n",
    "        return vectors\n",
    "\n",
    "    def vectorize_query(self, query):\n",
    "        # Note the use of config_2 here!\n",
    "        query = process_text(query, **config_2)\n",
    "        query_vector = self.dictionary.doc2bow(query)\n",
    "        return self.model[query_vector]\n",
    "    \n",
    "    def train_model(self):\n",
    "        \"\"\"\n",
    "            Trains a model and sets the 'self.model' variable. \n",
    "            Make sure to use the variables created in the __init__ method.\n",
    "            e.g the variables which may be useful: {corpus, dictionary, id2word}\n",
    "        \"\"\"\n",
    "        raise NotImplementedError()"
   ]
  },
  {
   "cell_type": "markdown",
   "metadata": {
    "deletable": false,
    "editable": false,
    "id": "7hVlHxL34IWr",
    "nbgrader": {
     "cell_type": "markdown",
     "checksum": "ff161eefd9b81b768cd6361bc1a502b0",
     "grade": false,
     "grade_id": "cell-704a18c2f80cd60c",
     "locked": true,
     "schema_version": 3,
     "solution": false,
     "task": false
    }
   },
   "source": [
    "---\n",
    "**Implementation (5 points):**\n",
    "Implement the `train_model` method in the following class (note that this is only one line of code in `gensim`!). Ensure that the parameters defined in the `__init__` method are not changed, and are *used in the `train_method` function*. Normally, the hyperaparameter space will be searched using grid search / other methods - in this assignment we have provided the hyperparameters for you.\n",
    "\n",
    "The last two lines of code train an LSI model on the list of documents which have been stemmed, lower-cased and have stopwords removed. "
   ]
  },
  {
   "cell_type": "code",
   "execution_count": 77,
   "metadata": {
    "ExecuteTime": {
     "end_time": "2021-02-19T19:19:30.019908Z",
     "start_time": "2021-02-19T19:19:30.014919Z"
    },
    "deletable": false,
    "id": "stvTMFN44IWr",
    "nbgrader": {
     "cell_type": "code",
     "checksum": "0e90eedc27c248bc1ae050518a46a46c",
     "grade": false,
     "grade_id": "cell-307682c9089f15d6",
     "locked": false,
     "schema_version": 3,
     "solution": true,
     "task": false
    }
   },
   "outputs": [],
   "source": [
    "# TODO: Implement this! (5 points)\n",
    "class LsiRetrievalModel(VectorSpaceRetrievalModel):\n",
    "    def __init__(self, doc_repr):\n",
    "        super().__init__(doc_repr)\n",
    "        \n",
    "        self.num_topics = 100\n",
    "        self.chunksize = 2000\n",
    "    \n",
    "    def train_model(self):\n",
    "        # YOUR CODE HERE\n",
    "        self.model = LsiModel(self.corpus, id2word = self.id2word, num_topics = self.num_topics, chunksize = self.chunksize)"
   ]
  },
  {
   "cell_type": "code",
   "execution_count": 78,
   "metadata": {
    "ExecuteTime": {
     "end_time": "2021-02-19T19:19:30.754156Z",
     "start_time": "2021-02-19T19:19:30.021901Z"
    },
    "deletable": false,
    "editable": false,
    "id": "_khGWJSi4IWr",
    "nbgrader": {
     "cell_type": "code",
     "checksum": "00399cfe13d60cb4beed1271e36004b0",
     "grade": true,
     "grade_id": "cell-5ce512650c1b2dfb",
     "locked": true,
     "points": 0,
     "schema_version": 3,
     "solution": false,
     "task": false
    }
   },
   "outputs": [
    {
     "name": "stderr",
     "output_type": "stream",
     "text": [
      "2021-02-19 20:19:30,023 : INFO : adding document #0 to Dictionary(0 unique tokens: [])\n",
      "2021-02-19 20:19:30,224 : INFO : built Dictionary(6204 unique tokens: ['-', 'algebra', 'intern', 'languag', 'preliminari']...) from 3204 documents (total 196845 corpus positions)\n",
      "2021-02-19 20:19:30,234 : INFO : discarding 4795 tokens: [('of', 2061), ('repeat', 8), ('glossari', 7), ('inspect', 8), ('the', 1794), ('uncol', 2), ('a', 1807), ('rung', 9), ('secant', 2), ('.', 1603)]...\n",
      "2021-02-19 20:19:30,236 : INFO : keeping 1409 tokens which were in no less than 10 and no more than 1602 (=50.0%) documents\n",
      "2021-02-19 20:19:30,242 : INFO : resulting dictionary: Dictionary(1409 unique tokens: ['-', 'algebra', 'intern', 'languag', 'preliminari']...)\n",
      "2021-02-19 20:19:30,353 : INFO : using serial LSI version on this node\n",
      "2021-02-19 20:19:30,353 : INFO : updating model with new documents\n",
      "2021-02-19 20:19:30,354 : INFO : preparing a new chunk of documents\n",
      "2021-02-19 20:19:30,372 : INFO : using 100 extra samples and 2 power iterations\n",
      "2021-02-19 20:19:30,373 : INFO : 1st phase: constructing (1409, 200) action matrix\n",
      "2021-02-19 20:19:30,395 : INFO : orthonormalizing (1409, 200) action matrix\n",
      "2021-02-19 20:19:30,477 : INFO : 2nd phase: running dense svd on (200, 2000) matrix\n",
      "2021-02-19 20:19:30,524 : INFO : computing the final decomposition\n",
      "2021-02-19 20:19:30,526 : INFO : keeping 100 factors (discarding 11.403% of energy spectrum)\n",
      "2021-02-19 20:19:30,530 : INFO : processed documents up to #2000\n",
      "2021-02-19 20:19:30,532 : INFO : topic #0(226.245): -0.469*\",\" + -0.358*\"and\" + -0.302*\"to\" + -0.287*\"is\" + -0.272*\"in\" + -0.231*\"for\" + -0.218*\"-\" + -0.158*\"are\" + -0.139*\"system\" + -0.137*\"program\"\n",
      "2021-02-19 20:19:30,533 : INFO : topic #1(63.170): -0.439*\"(\" + 0.341*\",\" + -0.309*\")\" + 0.307*\"and\" + -0.300*\"algorithm\" + -0.284*\"is\" + 0.269*\"system\" + -0.163*\"to\" + -0.141*\"method\" + -0.091*\"it\"\n",
      "2021-02-19 20:19:30,535 : INFO : topic #2(62.650): -0.560*\",\" + -0.387*\"(\" + 0.314*\"to\" + -0.278*\")\" + 0.252*\"is\" + -0.229*\"-\" + 0.217*\"in\" + -0.156*\"algorithm\" + 0.137*\"comput\" + 0.114*\"be\"\n",
      "2021-02-19 20:19:30,537 : INFO : topic #3(58.616): 0.758*\"-\" + -0.441*\",\" + 0.226*\"system\" + -0.217*\"is\" + 0.156*\"and\" + 0.097*\"for\" + -0.075*\"it\" + 0.075*\"time\" + 0.065*\"program\" + -0.062*\"that\"\n",
      "2021-02-19 20:19:30,538 : INFO : topic #4(52.367): -0.492*\"and\" + 0.409*\"-\" + -0.281*\"(\" + 0.260*\",\" + 0.253*\"to\" + -0.239*\"are\" + -0.217*\")\" + -0.213*\"algorithm\" + 0.183*\"is\" + -0.170*\"for\"\n",
      "2021-02-19 20:19:30,540 : INFO : preparing a new chunk of documents\n",
      "2021-02-19 20:19:30,567 : INFO : using 100 extra samples and 2 power iterations\n",
      "2021-02-19 20:19:30,568 : INFO : 1st phase: constructing (1409, 200) action matrix\n",
      "2021-02-19 20:19:30,594 : INFO : orthonormalizing (1409, 200) action matrix\n",
      "2021-02-19 20:19:30,674 : INFO : 2nd phase: running dense svd on (200, 1204) matrix\n",
      "2021-02-19 20:19:30,704 : INFO : computing the final decomposition\n",
      "2021-02-19 20:19:30,706 : INFO : keeping 100 factors (discarding 11.418% of energy spectrum)\n",
      "2021-02-19 20:19:30,711 : INFO : merging projections: (1409, 100) + (1409, 100)\n",
      "2021-02-19 20:19:30,726 : INFO : keeping 100 factors (discarding 6.298% of energy spectrum)\n",
      "2021-02-19 20:19:30,733 : INFO : processed documents up to #3204\n",
      "2021-02-19 20:19:30,734 : INFO : topic #0(340.063): 0.471*\",\" + 0.367*\"and\" + 0.309*\"to\" + 0.296*\"is\" + 0.270*\"in\" + 0.224*\"for\" + 0.212*\"-\" + 0.156*\"are\" + 0.129*\"system\" + 0.126*\"program\"\n",
      "2021-02-19 20:19:30,736 : INFO : topic #1(94.998): -0.646*\",\" + 0.354*\"is\" + -0.248*\"and\" + 0.244*\"to\" + 0.233*\"algorithm\" + 0.163*\"(\" + -0.154*\"system\" + 0.142*\"-\" + 0.142*\"method\" + 0.136*\"in\"\n",
      "2021-02-19 20:19:30,737 : INFO : topic #2(89.650): 0.436*\"(\" + 0.367*\",\" + 0.363*\"-\" + 0.315*\")\" + 0.264*\"algorithm\" + -0.229*\"to\" + -0.223*\"program\" + -0.207*\"system\" + -0.197*\"and\" + -0.160*\"in\"\n",
      "2021-02-19 20:19:30,739 : INFO : topic #3(83.160): 0.790*\"-\" + -0.297*\",\" + 0.257*\"system\" + -0.249*\"is\" + 0.182*\"and\" + -0.109*\"(\" + -0.088*\"to\" + -0.086*\"algorithm\" + -0.077*\")\" + 0.070*\"time\"\n",
      "2021-02-19 20:19:30,740 : INFO : topic #4(77.282): -0.420*\"and\" + -0.386*\"(\" + 0.312*\"is\" + -0.294*\")\" + 0.291*\",\" + 0.289*\"-\" + -0.256*\"for\" + -0.211*\"program\" + 0.202*\"to\" + -0.183*\"algorithm\"\n"
     ]
    },
    {
     "data": {
      "text/plain": [
       "[(0, 0.009993049510841165),\n",
       " (1, -0.017263683989656),\n",
       " (2, -0.007016738276046928),\n",
       " (3, -0.0019344935668243026),\n",
       " (4, -0.006771726323366735),\n",
       " (5, 0.0015104326792977525),\n",
       " (6, 0.005272817471223954),\n",
       " (7, -0.027629441536325298),\n",
       " (8, -0.007268276257129315),\n",
       " (9, -0.011921185943907248),\n",
       " (10, 0.01870357008370178),\n",
       " (11, 0.014611960061832973),\n",
       " (12, 0.041557990515479995),\n",
       " (13, -0.0056815405973926515),\n",
       " (14, -0.000413180821965415),\n",
       " (15, 0.0014513387372587627),\n",
       " (16, 0.01444106152232335),\n",
       " (17, 1.6291989267450818e-05),\n",
       " (18, 0.016556355029330738),\n",
       " (19, -0.016570186363095207),\n",
       " (20, 0.021446736400951877),\n",
       " (21, -0.00803536253562296),\n",
       " (22, 0.007636561361731365),\n",
       " (23, 0.018117128053643884),\n",
       " (24, -0.039466090770214374),\n",
       " (25, -0.03902208927631473),\n",
       " (26, -0.005300249422303867),\n",
       " (27, 0.016423868464557706),\n",
       " (28, 0.0091942941008488),\n",
       " (29, -0.01639940441424908),\n",
       " (30, -0.0016476463248328572),\n",
       " (31, -0.0018112123062673739),\n",
       " (32, -0.010443602567386728),\n",
       " (33, -0.01345378826623355),\n",
       " (34, 0.00929631339796368),\n",
       " (35, -0.010062701716985752),\n",
       " (36, -0.012621658539745336),\n",
       " (37, 0.02601899416677872),\n",
       " (38, 0.00976639070485464),\n",
       " (39, 0.017514213657124942),\n",
       " (40, 0.02054579340135187),\n",
       " (41, -0.03704918087605477),\n",
       " (42, 0.0015828519706882118),\n",
       " (43, -0.022605943232733402),\n",
       " (44, 0.050242717091403225),\n",
       " (45, 0.016393279701091938),\n",
       " (46, -0.029373177138594844),\n",
       " (47, -0.032532704627716354),\n",
       " (48, 0.011015121454191739),\n",
       " (49, -0.019159517380635975),\n",
       " (50, 0.08416092647109781),\n",
       " (51, -0.014240308936439308),\n",
       " (52, 0.027263200228187512),\n",
       " (53, -0.05638148942288925),\n",
       " (54, -0.0055440568123864085),\n",
       " (55, 0.004956437959556463),\n",
       " (56, 0.04028035507736512),\n",
       " (57, 0.022459569666151296),\n",
       " (58, 0.009417175697605109),\n",
       " (59, -0.0715522729842506),\n",
       " (60, -0.0005503501359030473),\n",
       " (61, 0.007600532639805559),\n",
       " (62, -0.0322761487776728),\n",
       " (63, 0.043604538337106834),\n",
       " (64, 0.03690184451651329),\n",
       " (65, 0.027857381189593654),\n",
       " (66, -0.00556862861241408),\n",
       " (67, -0.005674224199713019),\n",
       " (68, -0.027849004025472662),\n",
       " (69, 0.028906530637103696),\n",
       " (70, -0.013242637793209498),\n",
       " (71, 0.017523965759600735),\n",
       " (72, 0.015488000729417148),\n",
       " (73, 0.052528271578493275),\n",
       " (74, 0.012566967281272108),\n",
       " (75, 0.012018187850820948),\n",
       " (76, -0.008740727236136354),\n",
       " (77, -0.026519780399602722),\n",
       " (78, 0.00637275194257087),\n",
       " (79, 0.032323966657409824),\n",
       " (80, -0.0408285677514045),\n",
       " (81, -0.030927926615804905),\n",
       " (82, 0.016560713930434904),\n",
       " (83, 0.030658007604060077),\n",
       " (84, -0.012557687980294326),\n",
       " (85, -0.01612085184668163),\n",
       " (86, -0.01011345653857582),\n",
       " (87, 0.06136959281849487),\n",
       " (88, -0.014476678168414801),\n",
       " (89, 0.03004181751822111),\n",
       " (90, 0.03682399295560215),\n",
       " (91, 0.04572568317471097),\n",
       " (92, -0.008965448661834439),\n",
       " (93, -0.06112765226387386),\n",
       " (94, 0.0014208819623561676),\n",
       " (95, -0.036540698466118945),\n",
       " (96, -0.04116262987306272),\n",
       " (97, 0.0023475391433185576),\n",
       " (98, 0.007970800000401582),\n",
       " (99, 0.013857701408506158)]"
      ]
     },
     "execution_count": 78,
     "metadata": {},
     "output_type": "execute_result"
    }
   ],
   "source": [
    "##### Function check\n",
    "lsi = LsiRetrievalModel(doc_repr_2)\n",
    "lsi.train_model()\n",
    "\n",
    "# you can now get an LSI vector for a given query in the following way:\n",
    "lsi.vectorize_query(\"report\")\n",
    "##### "
   ]
  },
  {
   "cell_type": "markdown",
   "metadata": {
    "deletable": false,
    "editable": false,
    "id": "NGA8x3e54IWs",
    "nbgrader": {
     "cell_type": "markdown",
     "checksum": "7116bb9f576c5bb04934e1d59c51d729",
     "grade": false,
     "grade_id": "cell-4c5eeb557b4fca2f",
     "locked": true,
     "points": 5,
     "schema_version": 3,
     "solution": false,
     "task": true
    }
   },
   "source": [
    "\\#### Please do not change this. This cell is used for grading."
   ]
  },
  {
   "cell_type": "markdown",
   "metadata": {
    "deletable": false,
    "editable": false,
    "id": "XC11dqNi4IWs",
    "nbgrader": {
     "cell_type": "markdown",
     "checksum": "1068a108600b8c1539117d543e720354",
     "grade": false,
     "grade_id": "cell-c4e50296cd17a555",
     "locked": true,
     "schema_version": 3,
     "solution": false,
     "task": false
    }
   },
   "source": [
    "---\n",
    "Next, implement a basic ranking class for vector space retrieval (used for all semantic methods): "
   ]
  },
  {
   "cell_type": "code",
   "execution_count": 79,
   "metadata": {
    "ExecuteTime": {
     "end_time": "2021-02-19T19:19:30.763132Z",
     "start_time": "2021-02-19T19:19:30.756151Z"
    },
    "deletable": false,
    "id": "7-cQ_F004IWs",
    "nbgrader": {
     "cell_type": "code",
     "checksum": "1a8389d2f0635c3405e2b0b27ed9f327",
     "grade": false,
     "grade_id": "cell-250515d288e80cdc",
     "locked": false,
     "schema_version": 3,
     "solution": true,
     "task": false
    }
   },
   "outputs": [],
   "source": [
    "# TODO: Implement this! (5 points)\n",
    "class DenseRetrievalRanker:\n",
    "    def __init__(self, vsrm, similarity_fn):\n",
    "        \"\"\"\n",
    "            vsrm: instance of `VectorSpaceRetrievalModel`\n",
    "            similarity_fn: function instance that takes in two vectors \n",
    "                            and returns a similarity score e.g cosine_sim defined earlier\n",
    "        \"\"\"\n",
    "        self.vsrm = vsrm \n",
    "        self.vectorized_documents = self.vsrm.vectorize_documents()\n",
    "        self.similarity_fn = similarity_fn\n",
    "    \n",
    "    def _compute_sim(self, query_vector):\n",
    "        \"\"\"\n",
    "            Compute the similarity of `query_vector` to documents in \n",
    "            `self.vectorized_documents` using `self.similarity_fn`\n",
    "            Returns a list of (doc_id, score) tuples\n",
    "        \"\"\"\n",
    "        # YOUR CODE HERE\n",
    "        result_list = []\n",
    "        self.query_vector = query_vector\n",
    "        for key, doc in self.vectorized_documents.items():\n",
    "            if len(doc) != 0:\n",
    "                score = self.similarity_fn(doc,self.query_vector)\n",
    "                result_list.append((key,score))               \n",
    "        return result_list\n",
    "    \n",
    "    def search(self, query):\n",
    "        scores = self._compute_sim(self.vsrm.vectorize_query(query))\n",
    "        scores.sort(key=lambda _:-_[1])\n",
    "        return scores "
   ]
  },
  {
   "cell_type": "code",
   "execution_count": 80,
   "metadata": {
    "ExecuteTime": {
     "end_time": "2021-02-19T19:19:31.788426Z",
     "start_time": "2021-02-19T19:19:30.765127Z"
    },
    "deletable": false,
    "editable": false,
    "id": "84ShnBqC4IWs",
    "nbgrader": {
     "cell_type": "code",
     "checksum": "f237dd1ef6c1783c06797f4b514421f5",
     "grade": true,
     "grade_id": "cell-b73068b3e77a8e31",
     "locked": true,
     "points": 0,
     "schema_version": 3,
     "solution": false,
     "task": false
    }
   },
   "outputs": [
    {
     "data": {
      "text/plain": [
       "[('2531', 0.48541478209062994),\n",
       " ('947', 0.4461311703454635),\n",
       " ('53', 0.4398891844849914),\n",
       " ('3160', 0.433885404029399),\n",
       " ('722', 0.3980058611614757)]"
      ]
     },
     "execution_count": 80,
     "metadata": {},
     "output_type": "execute_result"
    }
   ],
   "source": [
    "##### Function check\n",
    "drm_lsi = DenseRetrievalRanker(lsi, cosine_sim)\n",
    "drm_lsi.search(\"report\")[:5]\n",
    "##### "
   ]
  },
  {
   "cell_type": "markdown",
   "metadata": {
    "deletable": false,
    "editable": false,
    "id": "J7KStoCJ4IWs",
    "nbgrader": {
     "cell_type": "markdown",
     "checksum": "5b3f19fdcaa585d263706d5a26038799",
     "grade": false,
     "grade_id": "cell-034c755a6502b868",
     "locked": true,
     "points": 5,
     "schema_version": 3,
     "solution": false,
     "task": true
    }
   },
   "source": [
    "\\#### Please do not change this. This cell is used for grading."
   ]
  },
  {
   "cell_type": "markdown",
   "metadata": {
    "deletable": false,
    "editable": false,
    "id": "151cPjf34IWs",
    "nbgrader": {
     "cell_type": "markdown",
     "checksum": "dcafef6e037033c46304b914f7c78bdf",
     "grade": false,
     "grade_id": "cell-d1df23f497d5ed6b",
     "locked": true,
     "schema_version": 3,
     "solution": false,
     "task": false
    }
   },
   "source": [
    "---\n",
    "Now, you can test your LSI model in the following cell: try finding queries which are lexically different to documents, but semantically similar - does LSI work well for these queries?!"
   ]
  },
  {
   "cell_type": "code",
   "execution_count": 81,
   "metadata": {
    "ExecuteTime": {
     "end_time": "2021-02-19T19:19:31.803388Z",
     "start_time": "2021-02-19T19:19:31.789387Z"
    },
    "deletable": false,
    "editable": false,
    "id": "_YwVurAt4IWs",
    "nbgrader": {
     "cell_type": "code",
     "checksum": "11734bc7674377b340ad51297a8e8bb5",
     "grade": false,
     "grade_id": "cell-efd1d08dfc04ec3e",
     "locked": true,
     "schema_version": 3,
     "solution": false,
     "task": false
    }
   },
   "outputs": [
    {
     "data": {
      "application/vnd.jupyter.widget-view+json": {
       "model_id": "5bc2ff122b1b40a5aba23ffa4f69889b",
       "version_major": 2,
       "version_minor": 0
      },
      "text/plain": [
       "Text(value='', description='Search Bar')"
      ]
     },
     "metadata": {},
     "output_type": "display_data"
    }
   ],
   "source": [
    "# test your LSI model\n",
    "search_fn = drm_lsi.search\n",
    "\n",
    "text = widgets.Text(description=\"Search Bar\", width=200)\n",
    "display(text)\n",
    "\n",
    "def make_results_2(query, search_fn):\n",
    "    results = []\n",
    "    for doc_id, score in search_fn(query):\n",
    "        highlight = highlight_text(docs_by_id[doc_id], query)\n",
    "        if len(highlight.strip()) == 0:\n",
    "            highlight = docs_by_id[doc_id]\n",
    "        results.append(ResultRow(doc_id, highlight, score))\n",
    "    return results\n",
    "\n",
    "def handle_submit_2(sender):\n",
    "    print(f\"Searching for: '{sender.value}' (SEARCH FN: {search_fn})\")\n",
    "    \n",
    "    results = make_results_2(sender.value, search_fn)\n",
    "    \n",
    "    # display only the top 5\n",
    "    results = results[:5]\n",
    "    \n",
    "    body = \"\"\n",
    "    for idx, r in enumerate(results):\n",
    "        body += f\"<li>Document #{r.doc_id}({r.score}): {r.snippet}</li>\"\n",
    "    display(HTML(f\"<ul>{body}</ul>\"))\n",
    "    \n",
    "\n",
    "text.on_submit(handle_submit_2)"
   ]
  },
  {
   "cell_type": "markdown",
   "metadata": {
    "deletable": false,
    "editable": false,
    "id": "0PGe6mPD4IWt",
    "nbgrader": {
     "cell_type": "markdown",
     "checksum": "d074ce1ca48384cdda78742741c938be",
     "grade": false,
     "grade_id": "cell-3a86cef264d8f6cf",
     "locked": true,
     "schema_version": 3,
     "solution": false,
     "task": false
    }
   },
   "source": [
    "---\n",
    "## Section 7: Latent Dirichlet Allocation (LDA) (10 points) <a class=\"anchor\" id=\"lda\"></a>\n",
    "\n",
    "[Back to Part 2](#part2)\n",
    "\n",
    "The specifics of LDA is out of the scope of this assignment, but we will use the `gensim` implementation to perform search using LDA over our small document collection. The key thing to remember is that LDA, unlike LSI, outputs a topic **distribution**, not a vector. With that in mind, let's first define a similarity measure.\n"
   ]
  },
  {
   "cell_type": "markdown",
   "metadata": {
    "deletable": false,
    "editable": false,
    "id": "xMbAwqEW4IWt",
    "nbgrader": {
     "cell_type": "markdown",
     "checksum": "db01092373b18f0c9dfed1bb17db4ad9",
     "grade": false,
     "grade_id": "cell-6b78ad22c2d60ba7",
     "locked": true,
     "schema_version": 3,
     "solution": false,
     "task": false
    }
   },
   "source": [
    "---\n",
    "### Section 7.1: Jenson-Shannon divergence (5 points) <a class=\"anchor\" id=\"js_sim\"></a>\n",
    "\n",
    "The Jenson-Shannon divergence is a symmetric and finite measure on two probability distributions (unlike the KL, which is neither). For identical distributions, the JSD is equal to 0, and since our code uses 0 as irrelevant and higher scores as relevant, we use `(1 - JSD)` as the score or 'similarity' in our setup\n",
    "\n",
    "**Note**: the JSD is bounded to \\[0,1\\] only if we use log base 2. So please ensure that you're using `np.log2` instead of `np.log`"
   ]
  },
  {
   "cell_type": "code",
   "execution_count": 82,
   "metadata": {
    "ExecuteTime": {
     "end_time": "2021-02-19T19:19:31.812366Z",
     "start_time": "2021-02-19T19:19:31.804347Z"
    },
    "deletable": false,
    "id": "OP-T-8i-4IWt",
    "nbgrader": {
     "cell_type": "code",
     "checksum": "a579e6cd7a24a3516bc9a84528b392d3",
     "grade": false,
     "grade_id": "cell-d2376a85a4841e98",
     "locked": false,
     "schema_version": 3,
     "solution": true,
     "task": false
    }
   },
   "outputs": [],
   "source": [
    "## TODO: Implement this! (5 points)\n",
    "def jenson_shannon_divergence(vec_1, vec_2, assert_prob=False):\n",
    "    \"\"\"\n",
    "        Computes the Jensen-Shannon divergence between two probability distributions. \n",
    "        NOTE: DO NOT RETURN 1 - JSD here, that is handled by the next function which is already implemented! \n",
    "        The inputs are *gensim* vectors - same as the vectors for the cosine_sim function\n",
    "        assert_prob is a flag that checks if the inputs are proper probability distributions \n",
    "            i.e they sum to 1 and are positive - use this to check your inputs if needed. \n",
    "                (This is optional to implement, but recommended - \n",
    "                you can the default to False to save a few ms off the runtime)\n",
    "    \"\"\"\n",
    "    # YOUR CODE HERE\n",
    "    if assert_prob:\n",
    "        sum_vec_1 = sum(value[1] for value in vec_1)\n",
    "        sum_vec_2 = sum(value[1] for value in vec_2)\n",
    "        if sum_vec_1 != 1:\n",
    "            print('Input vec_1 is not in the correct format!')\n",
    "            return\n",
    "        if sum_vec_2 != 1:\n",
    "            print('Input vec_2 is not in the correct format!')\n",
    "            return\n",
    "            \n",
    "    vec_1 = np.array([value for id,value in vec_1])\n",
    "    vec_2 = np.array([value for id,value in vec_2])\n",
    "    \n",
    "    d1 = vec_1*np.log2(vec_1/((vec_1+vec_2)/2))\n",
    "    d2 = vec_2*np.log2(vec_2/((vec_1+vec_2)/2))\n",
    "    d1[np.isnan(d1)] = 0\n",
    "    d2[np.isnan(d2)] = 0\n",
    "    d = 0.5*np.sum(d1+d2)\n",
    "    \n",
    "    return d\n",
    "    \n",
    "def jenson_shannon_sim(vec_1, vec_2, assert_prob=False):\n",
    "    return 1 - jenson_shannon_divergence(vec_1, vec_2, assert_prob)\n"
   ]
  },
  {
   "cell_type": "code",
   "execution_count": 83,
   "metadata": {
    "ExecuteTime": {
     "end_time": "2021-02-19T19:19:31.818310Z",
     "start_time": "2021-02-19T19:19:31.813323Z"
    },
    "deletable": false,
    "editable": false,
    "id": "0Jx8X0vU4IWt",
    "nbgrader": {
     "cell_type": "code",
     "checksum": "ab340aa941c9fb5c89b3fd0a9139e246",
     "grade": true,
     "grade_id": "cell-487c6d2933f38053",
     "locked": true,
     "points": 5,
     "schema_version": 3,
     "solution": false,
     "task": false
    }
   },
   "outputs": [
    {
     "data": {
      "text/plain": [
       "0.9251064410358459"
      ]
     },
     "execution_count": 83,
     "metadata": {},
     "output_type": "execute_result"
    }
   ],
   "source": [
    "##### Function check\n",
    "vec_1 = [(1, 0.3), (2, 0.4), (3, 0.3)]\n",
    "vec_2 = [(1, 0.1), (2, 0.7), (3, 0.2)]\n",
    "jenson_shannon_sim(vec_1, vec_2, assert_prob=True)\n",
    "##### "
   ]
  },
  {
   "cell_type": "markdown",
   "metadata": {
    "deletable": false,
    "editable": false,
    "id": "1qyB_mcw4IWt",
    "nbgrader": {
     "cell_type": "markdown",
     "checksum": "0a1583a5f23e3390038331cce67f5d8e",
     "grade": false,
     "grade_id": "cell-4535cc67a50b80fa",
     "locked": true,
     "schema_version": 3,
     "solution": false,
     "task": false
    }
   },
   "source": [
    "---\n",
    "### Section 7.2: LDA retrieval (5 points) <a class=\"anchor\" id=\"lda_ret\"></a>\n",
    "\n",
    "Implement the `train_model` method in the following class (note that this is only one line of code in `gensim`!). Ensure that the parameters defined in the `__init__` method are not changed, and are *used in the `train_method` function*. You do not need to set this. Normally, the hyperaparameter space will be searched using grid search / other methods. Note that training the LDA model might take some time\n",
    "\n",
    "The last two lines of code train an LDA model on the list of documents which have been stemmed, lower-cased and have stopwords removed. "
   ]
  },
  {
   "cell_type": "code",
   "execution_count": 84,
   "metadata": {
    "ExecuteTime": {
     "end_time": "2021-02-19T19:19:31.825292Z",
     "start_time": "2021-02-19T19:19:31.819307Z"
    },
    "deletable": false,
    "id": "Z9-cv36K4IWt",
    "nbgrader": {
     "cell_type": "code",
     "checksum": "27de8e4fa85536bb396b73bfc51b3f50",
     "grade": false,
     "grade_id": "cell-021a48dff4a8bb91",
     "locked": false,
     "schema_version": 3,
     "solution": true,
     "task": false
    }
   },
   "outputs": [],
   "source": [
    "# TODO: Implement this! (5 points)\n",
    "class LdaRetrievalModel(VectorSpaceRetrievalModel):\n",
    "    def __init__(self, doc_repr):\n",
    "        super().__init__(doc_repr)\n",
    "        \n",
    "        # use these parameters in the train_model method\n",
    "        self.num_topics = 100\n",
    "        self.chunksize = 2000\n",
    "        self.passes = 20\n",
    "        self.iterations = 400\n",
    "        self.eval_every = 10\n",
    "        # this is need to get full vectors\n",
    "        self.minimum_probability=0.0\n",
    "        self.alpha='auto'\n",
    "        self.eta='auto'\n",
    "    \n",
    "    \n",
    "    def train_model(self):\n",
    "        # YOUR CODE HERE\n",
    "        self.model = LdaModel(self.corpus, num_topics = self.num_topics, chunksize = self.chunksize, id2word = self.id2word,\n",
    "                              passes = self.passes, iterations = self.iterations, eval_every = self.eval_every, \n",
    "                              minimum_probability = self.minimum_probability, alpha = self.alpha, eta = self.eta)"
   ]
  },
  {
   "cell_type": "code",
   "execution_count": 85,
   "metadata": {
    "ExecuteTime": {
     "end_time": "2021-02-19T19:21:27.308802Z",
     "start_time": "2021-02-19T19:19:31.826288Z"
    },
    "deletable": false,
    "editable": false,
    "id": "Fb0jrpWb4IWu",
    "nbgrader": {
     "cell_type": "code",
     "checksum": "be70fcb8098d0b6ce64cd2a10e6a05b7",
     "grade": true,
     "grade_id": "cell-86750b715f0345fd",
     "locked": true,
     "points": 0,
     "schema_version": 3,
     "solution": false,
     "task": false
    },
    "tags": [
     "outputPrepend"
    ]
   },
   "outputs": [
    {
     "name": "stderr",
     "output_type": "stream",
     "text": [
      "2021-02-19 20:19:31,828 : INFO : adding document #0 to Dictionary(0 unique tokens: [])\n",
      "2021-02-19 20:19:32,001 : INFO : built Dictionary(6204 unique tokens: ['-', 'algebra', 'intern', 'languag', 'preliminari']...) from 3204 documents (total 196845 corpus positions)\n",
      "2021-02-19 20:19:32,007 : INFO : discarding 4795 tokens: [('of', 2061), ('repeat', 8), ('glossari', 7), ('inspect', 8), ('the', 1794), ('uncol', 2), ('a', 1807), ('rung', 9), ('secant', 2), ('.', 1603)]...\n",
      "2021-02-19 20:19:32,008 : INFO : keeping 1409 tokens which were in no less than 10 and no more than 1602 (=50.0%) documents\n",
      "2021-02-19 20:19:32,012 : INFO : resulting dictionary: Dictionary(1409 unique tokens: ['-', 'algebra', 'intern', 'languag', 'preliminari']...)\n",
      "2021-02-19 20:19:32,111 : INFO : using autotuned alpha, starting with [0.01, 0.01, 0.01, 0.01, 0.01, 0.01, 0.01, 0.01, 0.01, 0.01, 0.01, 0.01, 0.01, 0.01, 0.01, 0.01, 0.01, 0.01, 0.01, 0.01, 0.01, 0.01, 0.01, 0.01, 0.01, 0.01, 0.01, 0.01, 0.01, 0.01, 0.01, 0.01, 0.01, 0.01, 0.01, 0.01, 0.01, 0.01, 0.01, 0.01, 0.01, 0.01, 0.01, 0.01, 0.01, 0.01, 0.01, 0.01, 0.01, 0.01, 0.01, 0.01, 0.01, 0.01, 0.01, 0.01, 0.01, 0.01, 0.01, 0.01, 0.01, 0.01, 0.01, 0.01, 0.01, 0.01, 0.01, 0.01, 0.01, 0.01, 0.01, 0.01, 0.01, 0.01, 0.01, 0.01, 0.01, 0.01, 0.01, 0.01, 0.01, 0.01, 0.01, 0.01, 0.01, 0.01, 0.01, 0.01, 0.01, 0.01, 0.01, 0.01, 0.01, 0.01, 0.01, 0.01, 0.01, 0.01, 0.01, 0.01]\n",
      "2021-02-19 20:19:32,112 : INFO : using serial LDA version on this node\n",
      "2021-02-19 20:19:32,128 : INFO : running online (multi-pass) LDA training, 100 topics, 20 passes over the supplied corpus of 3204 documents, updating model once every 2000 documents, evaluating perplexity every 3204 documents, iterating 400x with a convergence threshold of 0.001000\n",
      "2021-02-19 20:19:32,129 : INFO : PROGRESS: pass 0, at document #2000/3204\n",
      "2021-02-19 20:19:35,517 : INFO : optimized alpha [0.009756766, 0.009756851, 0.0097567495, 0.009725699, 0.009798295, 0.009854324, 0.009735933, 0.009772213, 0.00973074, 0.009918808, 0.009751733, 0.009777498, 0.009819408, 0.009855671, 0.009735929, 0.009771945, 0.009923306, 0.009782691, 0.009772335, 0.009757941, 0.009756961, 0.009986804, 0.009751324, 0.009828949, 0.009751463, 0.009808801, 0.010039504, 0.009839746, 0.009782628, 0.00984476, 0.009741122, 0.00978236, 0.00994873, 0.009761637, 0.009746356, 0.009803341, 0.00976712, 0.00978216, 0.009792479, 0.009888022, 0.009751647, 0.009913223, 0.009835048, 0.009824801, 0.009735923, 0.009746375, 0.00979354, 0.009865666, 0.009834968, 0.009813559, 0.009818956, 0.00978782, 0.009793414, 0.009777173, 0.009761677, 0.009788184, 0.009746549, 0.009736052, 0.00989638, 0.009887159, 0.009736195, 0.009751437, 0.009751308, 0.009803233, 0.009868112, 0.009736032, 0.009824046, 0.009761794, 0.009902169, 0.009808156, 0.009875591, 0.009771908, 0.009735965, 0.009725683, 0.009897117, 0.009837053, 0.009897868, 0.009918373, 0.009777294, 0.009884862, 0.009741016, 0.009782443, 0.009824126, 0.009766914, 0.009756481, 0.009762313, 0.009766822, 0.0097462805, 0.009871888, 0.00972055, 0.009788102, 0.009798312, 0.009829402, 0.009804121, 0.009756857, 0.0097772945, 0.0097617665, 0.010006639, 0.009756758, 0.009756369]\n",
      "2021-02-19 20:19:35,526 : INFO : merging changes from 2000 documents into a model of 3204 documents\n",
      "2021-02-19 20:19:35,541 : INFO : topic #8 (0.010): 0.075*\"algorithm\" + 0.072*\")\" + 0.072*\"(\" + 0.054*\"schedul\" + 0.054*\"40\" + 0.054*\"critic\" + 0.054*\"path\" + 0.027*\"simpson\" + 0.026*\"integr\" + 0.025*\"'\"\n",
      "2021-02-19 20:19:35,543 : INFO : topic #30 (0.010): 0.061*\"system\" + 0.057*\"simul\" + 0.033*\"is\" + 0.031*\"to\" + 0.029*\"-\" + 0.023*\"algorithm\" + 0.022*\"for\" + 0.018*\"and\" + 0.018*\"an\" + 0.014*\"describ\"\n",
      "2021-02-19 20:19:35,544 : INFO : topic #97 (0.010): 0.043*\",\" + 0.032*\"and\" + 0.031*\"-\" + 0.030*\"is\" + 0.027*\"for\" + 0.024*\"to\" + 0.023*\"in\" + 0.012*\"(\" + 0.012*\"are\" + 0.010*\"use\"\n",
      "2021-02-19 20:19:35,545 : INFO : topic #26 (0.010): 0.048*\",\" + 0.034*\"and\" + 0.026*\"in\" + 0.023*\"for\" + 0.023*\"-\" + 0.020*\"is\" + 0.020*\"to\" + 0.020*\"system\" + 0.014*\"program\" + 0.014*\"are\"\n",
      "2021-02-19 20:19:35,546 : INFO : topic #21 (0.010): 0.039*\"to\" + 0.030*\"and\" + 0.028*\",\" + 0.026*\"is\" + 0.025*\"in\" + 0.016*\"are\" + 0.015*\"use\" + 0.014*\"for\" + 0.013*\"be\" + 0.011*\"-\"\n",
      "2021-02-19 20:19:35,547 : INFO : topic diff=80.321335, rho=1.000000\n",
      "2021-02-19 20:19:38,109 : INFO : -6.969 per-word bound, 125.3 perplexity estimate based on a held-out corpus of 1204 documents with 79462 words\n",
      "2021-02-19 20:19:38,110 : INFO : PROGRESS: pass 0, at document #3204/3204\n",
      "2021-02-19 20:19:40,364 : INFO : optimized alpha [0.009760809, 0.009872488, 0.009678603, 0.00967107, 0.009901709, 0.009684733, 0.009599697, 0.00984763, 0.009530778, 0.010342404, 0.009866704, 0.009740126, 0.009912187, 0.0099549, 0.009680581, 0.009709333, 0.01044317, 0.009862607, 0.00978783, 0.009574344, 0.0099323075, 0.01088877, 0.0096316235, 0.009825949, 0.009708918, 0.010185979, 0.010957833, 0.010241818, 0.009809641, 0.009906432, 0.009650849, 0.009638698, 0.010204341, 0.009641788, 0.009662177, 0.009948045, 0.009782091, 0.009632368, 0.0096194325, 0.010505063, 0.009844261, 0.010613896, 0.010486521, 0.010216246, 0.009617332, 0.010242984, 0.009809963, 0.01008381, 0.010028553, 0.009870158, 0.009851967, 0.009703343, 0.009898558, 0.009907709, 0.009921472, 0.009869867, 0.0099427095, 0.009756952, 0.009820543, 0.010214982, 0.0097819595, 0.00976055, 0.009851759, 0.009929364, 0.010080747, 0.009658191, 0.009709642, 0.009677424, 0.010240934, 0.009900298, 0.009998033, 0.009740024, 0.00977433, 0.009474138, 0.010277188, 0.009680382, 0.01030265, 0.01051623, 0.009587394, 0.010113623, 0.009685428, 0.009621157, 0.009946046, 0.009910403, 0.009555662, 0.010032269, 0.009606393, 0.009702962, 0.010396101, 0.0094346255, 0.009917521, 0.0097833555, 0.00984598, 0.009992786, 0.009726278, 0.009821892, 0.009659668, 0.010335893, 0.009819531, 0.010078943]\n",
      "2021-02-19 20:19:40,374 : INFO : merging changes from 1204 documents into a model of 3204 documents\n",
      "2021-02-19 20:19:40,391 : INFO : topic #73 (0.009): 0.278*\"eigenvalu\" + 0.116*\"f2\" + 0.088*\"matrix\" + 0.062*\"eigenvector\" + 0.060*\"real\" + 0.041*\"gener\" + 0.034*\"[\" + 0.030*\"and\" + 0.010*\"])\" + 0.000*\"verifi\"\n",
      "2021-02-19 20:19:40,392 : INFO : topic #89 (0.009): 0.001*\"lead\" + 0.001*\"debug\" + 0.001*\"major\" + 0.001*\"divid\" + 0.001*\"column\" + 0.001*\"verifi\" + 0.001*\"repetit\" + 0.001*\"reduc\" + 0.001*\"quit\" + 0.001*\"maximum\"\n",
      "2021-02-19 20:19:40,393 : INFO : topic #41 (0.011): 0.043*\"is\" + 0.039*\"and\" + 0.037*\",\" + 0.027*\"to\" + 0.022*\"for\" + 0.020*\"in\" + 0.015*\"are\" + 0.014*\"which\" + 0.013*\"system\" + 0.012*\"use\"\n",
      "2021-02-19 20:19:40,394 : INFO : topic #21 (0.011): 0.042*\"to\" + 0.031*\"and\" + 0.031*\",\" + 0.026*\"is\" + 0.024*\"in\" + 0.017*\"use\" + 0.016*\"are\" + 0.015*\"be\" + 0.013*\"for\" + 0.013*\"it\"\n",
      "2021-02-19 20:19:40,395 : INFO : topic #26 (0.011): 0.052*\",\" + 0.038*\"and\" + 0.024*\"to\" + 0.023*\"in\" + 0.021*\"system\" + 0.021*\"-\" + 0.021*\"for\" + 0.021*\"is\" + 0.016*\"program\" + 0.015*\"are\"\n",
      "2021-02-19 20:19:40,397 : INFO : topic diff=0.743791, rho=0.707107\n",
      "2021-02-19 20:19:40,408 : INFO : PROGRESS: pass 1, at document #2000/3204\n",
      "2021-02-19 20:19:42,260 : INFO : optimized alpha [0.009762722, 0.00991704, 0.009658616, 0.009653349, 0.009809399, 0.009574486, 0.009714286, 0.009793649, 0.009444666, 0.010295621, 0.0098542515, 0.009672725, 0.009851901, 0.009967014, 0.009778512, 0.009652138, 0.010340162, 0.009965872, 0.009787633, 0.0094924085, 0.009889793, 0.010833008, 0.009607323, 0.009769836, 0.009693382, 0.010110752, 0.011038547, 0.010190188, 0.0097564235, 0.0098427385, 0.0096385665, 0.009586031, 0.010143691, 0.009751149, 0.00971688, 0.009854204, 0.009830751, 0.010041113, 0.009546834, 0.010455069, 0.00974018, 0.01053484, 0.010390301, 0.010184776, 0.009746448, 0.010228542, 0.009767351, 0.010044179, 0.009944219, 0.00980004, 0.009846218, 0.009605503, 0.009864842, 0.009877991, 0.00991787, 0.0097865565, 0.009856935, 0.009786688, 0.009728022, 0.0101126395, 0.009741895, 0.009832135, 0.0098753795, 0.009892226, 0.00999792, 0.009655633, 0.0096486835, 0.009652341, 0.010137605, 0.009870983, 0.009981943, 0.009953784, 0.009766071, 0.00936953, 0.010175714, 0.009645254, 0.010228522, 0.010528016, 0.009489757, 0.010179387, 0.010251919, 0.009566378, 0.009850097, 0.009825114, 0.009507699, 0.009936573, 0.009590207, 0.009612462, 0.010378562, 0.009275809, 0.009819936, 0.009819691, 0.0098955985, 0.009890391, 0.009721477, 0.0098098265, 0.009614206, 0.010311371, 0.009799936, 0.010021565]\n"
     ]
    },
    {
     "name": "stderr",
     "output_type": "stream",
     "text": [
      "2021-02-19 20:19:42,271 : INFO : merging changes from 2000 documents into a model of 3204 documents\n",
      "2021-02-19 20:19:42,288 : INFO : topic #89 (0.009): 0.001*\"lead\" + 0.001*\"debug\" + 0.001*\"major\" + 0.001*\"divid\" + 0.001*\"column\" + 0.001*\"verifi\" + 0.001*\"repetit\" + 0.001*\"reduc\" + 0.001*\"quit\" + 0.001*\"maximum\"\n",
      "2021-02-19 20:19:42,289 : INFO : topic #73 (0.009): 0.240*\"eigenvalu\" + 0.171*\"matrix\" + 0.121*\"eigenvector\" + 0.107*\"f2\" + 0.085*\"real\" + 0.042*\"and\" + 0.030*\"[\" + 0.029*\"gener\" + 0.017*\"])\" + 0.000*\"verifi\"\n",
      "2021-02-19 20:19:42,291 : INFO : topic #77 (0.011): 0.051*\",\" + 0.049*\"and\" + 0.033*\"program\" + 0.028*\"in\" + 0.024*\"is\" + 0.024*\"to\" + 0.022*\"system\" + 0.018*\"for\" + 0.017*\"are\" + 0.016*\"-\"\n",
      "2021-02-19 20:19:42,292 : INFO : topic #21 (0.011): 0.043*\"to\" + 0.031*\"and\" + 0.031*\",\" + 0.026*\"is\" + 0.025*\"in\" + 0.017*\"use\" + 0.016*\"are\" + 0.016*\"be\" + 0.013*\"it\" + 0.012*\"for\"\n",
      "2021-02-19 20:19:42,292 : INFO : topic #26 (0.011): 0.054*\",\" + 0.038*\"and\" + 0.024*\"in\" + 0.023*\"to\" + 0.023*\"system\" + 0.022*\"-\" + 0.021*\"for\" + 0.020*\"is\" + 0.017*\"program\" + 0.015*\"languag\"\n",
      "2021-02-19 20:19:42,293 : INFO : topic diff=0.366746, rho=0.526900\n",
      "2021-02-19 20:19:44,765 : INFO : -6.690 per-word bound, 103.2 perplexity estimate based on a held-out corpus of 1204 documents with 79462 words\n",
      "2021-02-19 20:19:44,766 : INFO : PROGRESS: pass 1, at document #3204/3204\n",
      "2021-02-19 20:19:47,169 : INFO : optimized alpha [0.00986682, 0.0100242, 0.0097071575, 0.0097910175, 0.009975029, 0.009479994, 0.009679376, 0.009894209, 0.009432508, 0.010588506, 0.010014791, 0.009709063, 0.009974144, 0.010108177, 0.0099362945, 0.0097162705, 0.010693578, 0.010081785, 0.009878706, 0.009512926, 0.010108981, 0.011456278, 0.009595982, 0.009796738, 0.009836853, 0.010422091, 0.011579487, 0.010498367, 0.009817751, 0.010017094, 0.009647998, 0.009541488, 0.010248071, 0.009771214, 0.0097728465, 0.009953741, 0.009955445, 0.009930963, 0.009465451, 0.010807464, 0.009915116, 0.010906591, 0.010845297, 0.010397851, 0.009787943, 0.010768827, 0.009846728, 0.010238618, 0.010066161, 0.009843493, 0.010013309, 0.009587224, 0.0099393455, 0.010053372, 0.010110514, 0.009861124, 0.01004794, 0.009953907, 0.009698879, 0.010340017, 0.009851067, 0.009969495, 0.010076247, 0.010017282, 0.010138826, 0.009750201, 0.0095910495, 0.009662229, 0.0103141125, 0.0099702645, 0.010091372, 0.010129788, 0.009843286, 0.009239219, 0.010461217, 0.009613418, 0.010427849, 0.010965093, 0.009426783, 0.010359594, 0.010722671, 0.009488822, 0.009998965, 0.010050685, 0.009431674, 0.010183673, 0.009549967, 0.009678319, 0.010741829, 0.009083101, 0.009966016, 0.009848926, 0.009929775, 0.009969541, 0.009796602, 0.009926584, 0.009675241, 0.010451571, 0.00998718, 0.010265063]\n",
      "2021-02-19 20:19:47,179 : INFO : merging changes from 1204 documents into a model of 3204 documents\n",
      "2021-02-19 20:19:47,194 : INFO : topic #89 (0.009): 0.001*\"lead\" + 0.001*\"debug\" + 0.001*\"major\" + 0.001*\"divid\" + 0.001*\"column\" + 0.001*\"verifi\" + 0.001*\"repetit\" + 0.001*\"reduc\" + 0.001*\"quit\" + 0.001*\"maximum\"\n",
      "2021-02-19 20:19:47,196 : INFO : topic #73 (0.009): 0.267*\"eigenvalu\" + 0.260*\"matrix\" + 0.081*\"eigenvector\" + 0.077*\"real\" + 0.076*\"f2\" + 0.051*\"and\" + 0.047*\"gener\" + 0.014*\"[\" + 0.006*\"])\" + 0.000*\"verifi\"\n",
      "2021-02-19 20:19:47,197 : INFO : topic #77 (0.011): 0.053*\",\" + 0.052*\"and\" + 0.035*\"program\" + 0.030*\"in\" + 0.025*\"system\" + 0.024*\"to\" + 0.023*\"is\" + 0.018*\"are\" + 0.017*\"for\" + 0.016*\"-\"\n",
      "2021-02-19 20:19:47,197 : INFO : topic #21 (0.011): 0.044*\"to\" + 0.032*\",\" + 0.032*\"and\" + 0.025*\"in\" + 0.025*\"is\" + 0.018*\"use\" + 0.017*\"be\" + 0.016*\"are\" + 0.014*\"it\" + 0.013*\"that\"\n",
      "2021-02-19 20:19:47,198 : INFO : topic #26 (0.012): 0.055*\",\" + 0.042*\"and\" + 0.026*\"to\" + 0.024*\"system\" + 0.022*\"in\" + 0.021*\"-\" + 0.020*\"is\" + 0.020*\"for\" + 0.018*\"program\" + 0.018*\"languag\"\n",
      "2021-02-19 20:19:47,199 : INFO : topic diff=0.512203, rho=0.526900\n",
      "2021-02-19 20:19:47,212 : INFO : PROGRESS: pass 2, at document #2000/3204\n",
      "2021-02-19 20:19:49,093 : INFO : optimized alpha [0.009905852, 0.010115373, 0.009726813, 0.009801946, 0.009940104, 0.009386377, 0.009849549, 0.009839984, 0.009386226, 0.010558742, 0.010014635, 0.009667423, 0.0099539645, 0.010212141, 0.01009682, 0.009714653, 0.010605287, 0.010275475, 0.009951413, 0.009487747, 0.010097971, 0.011420876, 0.009629964, 0.009795426, 0.009866309, 0.010354196, 0.01162359, 0.010471402, 0.009788053, 0.009976324, 0.009665743, 0.009533562, 0.010219253, 0.009925489, 0.009909079, 0.009886025, 0.010056694, 0.010401981, 0.009416628, 0.010779032, 0.009862555, 0.010857408, 0.01075271, 0.0103949895, 0.009948675, 0.010781583, 0.00984904, 0.010228864, 0.010022611, 0.009797185, 0.010088252, 0.009520626, 0.009926649, 0.010054044, 0.010112434, 0.009786519, 0.009992313, 0.010053474, 0.009634713, 0.010264933, 0.009857697, 0.010112107, 0.010137819, 0.010019545, 0.010077525, 0.009804991, 0.009574567, 0.00974371, 0.010236817, 0.009937022, 0.010110375, 0.010369023, 0.009812708, 0.009237695, 0.010373084, 0.0096030515, 0.010373229, 0.010991322, 0.00938738, 0.010466272, 0.011673869, 0.009486555, 0.009942531, 0.009983009, 0.009403711, 0.010099155, 0.009607397, 0.009634071, 0.010721699, 0.008953993, 0.009912926, 0.009974755, 0.010000087, 0.009890159, 0.009854886, 0.009931735, 0.009656561, 0.010423934, 0.010048455, 0.010204276]\n",
      "2021-02-19 20:19:49,104 : INFO : merging changes from 2000 documents into a model of 3204 documents\n",
      "2021-02-19 20:19:49,129 : INFO : topic #89 (0.009): 0.001*\"lead\" + 0.001*\"debug\" + 0.001*\"major\" + 0.001*\"divid\" + 0.001*\"column\" + 0.001*\"verifi\" + 0.001*\"repetit\" + 0.001*\"reduc\" + 0.001*\"quit\" + 0.001*\"maximum\"\n",
      "2021-02-19 20:19:49,131 : INFO : topic #73 (0.009): 0.403*\"matrix\" + 0.185*\"eigenvalu\" + 0.086*\"eigenvector\" + 0.066*\"real\" + 0.066*\"f2\" + 0.052*\"and\" + 0.045*\"gener\" + 0.008*\"[\" + 0.003*\"])\" + 0.000*\"verifi\"\n",
      "2021-02-19 20:19:49,132 : INFO : topic #21 (0.011): 0.045*\"to\" + 0.032*\",\" + 0.032*\"and\" + 0.026*\"in\" + 0.025*\"is\" + 0.018*\"use\" + 0.017*\"be\" + 0.017*\"are\" + 0.014*\"it\" + 0.013*\"that\"\n",
      "2021-02-19 20:19:49,133 : INFO : topic #26 (0.012): 0.057*\",\" + 0.041*\"and\" + 0.025*\"to\" + 0.025*\"system\" + 0.023*\"in\" + 0.022*\"-\" + 0.020*\"is\" + 0.020*\"for\" + 0.019*\"program\" + 0.018*\"languag\"\n",
      "2021-02-19 20:19:49,135 : INFO : topic #80 (0.012): 0.325*\")\" + 0.321*\"(\" + 0.235*\"algorithm\" + 0.026*\"complex\" + 0.015*\"exponenti\" + 0.015*\"remark\" + 0.013*\"number\" + 0.008*\"on\" + 0.007*\"segment\" + 0.007*\"logarithm\"\n",
      "2021-02-19 20:19:49,136 : INFO : topic diff=0.472912, rho=0.466151\n",
      "2021-02-19 20:19:51,438 : INFO : -6.596 per-word bound, 96.7 perplexity estimate based on a held-out corpus of 1204 documents with 79462 words\n",
      "2021-02-19 20:19:51,439 : INFO : PROGRESS: pass 2, at document #3204/3204\n",
      "2021-02-19 20:19:53,530 : INFO : optimized alpha [0.010064361, 0.010233307, 0.009823639, 0.0099814, 0.010111368, 0.009357056, 0.009847566, 0.009910372, 0.009392823, 0.010863008, 0.010192908, 0.009731458, 0.010082455, 0.010402024, 0.010327237, 0.009794631, 0.010909978, 0.010413061, 0.010082571, 0.009585114, 0.010321372, 0.011986898, 0.009673326, 0.009889477, 0.0100517925, 0.010661428, 0.011995426, 0.010718138, 0.009847319, 0.010182942, 0.009735366, 0.009533815, 0.010304191, 0.009999992, 0.010000483, 0.009983152, 0.010178631, 0.010303538, 0.009404573, 0.011081952, 0.010084538, 0.011165705, 0.011146543, 0.010576255, 0.0100224465, 0.011319066, 0.009985795, 0.0104545485, 0.010158561, 0.009856205, 0.010328816, 0.009545117, 0.009997077, 0.010249178, 0.0103153065, 0.009881033, 0.0102131935, 0.01023337, 0.009623568, 0.0104956925, 0.00998563, 0.01028869, 0.010340251, 0.010162507, 0.010242717, 0.009919491, 0.00954168, 0.009786559, 0.010406085, 0.010029475, 0.010255564, 0.010670679, 0.009878005, 0.0091602355, 0.010628141, 0.009668013, 0.010508883, 0.01136098, 0.009361256, 0.010676168, 0.01239542, 0.0094435895, 0.010094556, 0.010203846, 0.00937353, 0.010319997, 0.009614246, 0.009742162, 0.011061353, 0.00879643, 0.010098121, 0.010023207, 0.010069279, 0.0099616395, 0.009948652, 0.010074452, 0.009772172, 0.0105442675, 0.010321723, 0.010402064]\n",
      "2021-02-19 20:19:53,539 : INFO : merging changes from 1204 documents into a model of 3204 documents\n",
      "2021-02-19 20:19:53,554 : INFO : topic #89 (0.009): 0.001*\"lead\" + 0.001*\"debug\" + 0.001*\"major\" + 0.001*\"divid\" + 0.001*\"column\" + 0.001*\"verifi\" + 0.001*\"repetit\" + 0.001*\"reduc\" + 0.001*\"quit\" + 0.001*\"maximum\"\n"
     ]
    },
    {
     "name": "stderr",
     "output_type": "stream",
     "text": [
      "2021-02-19 20:19:53,555 : INFO : topic #73 (0.009): 0.425*\"matrix\" + 0.197*\"eigenvalu\" + 0.064*\"eigenvector\" + 0.061*\"real\" + 0.058*\"gener\" + 0.057*\"and\" + 0.054*\"f2\" + 0.004*\"[\" + 0.002*\"])\" + 0.000*\"verifi\"\n",
      "2021-02-19 20:19:53,556 : INFO : topic #26 (0.012): 0.058*\",\" + 0.044*\"and\" + 0.028*\"to\" + 0.026*\"system\" + 0.022*\"in\" + 0.021*\"-\" + 0.021*\"languag\" + 0.020*\"program\" + 0.019*\"is\" + 0.019*\"for\"\n",
      "2021-02-19 20:19:53,556 : INFO : topic #21 (0.012): 0.045*\"to\" + 0.034*\",\" + 0.032*\"and\" + 0.026*\"in\" + 0.024*\"is\" + 0.018*\"use\" + 0.018*\"be\" + 0.017*\"are\" + 0.015*\"it\" + 0.014*\"that\"\n",
      "2021-02-19 20:19:53,557 : INFO : topic #80 (0.012): 0.339*\"(\" + 0.336*\")\" + 0.225*\"algorithm\" + 0.024*\"complex\" + 0.013*\"exponenti\" + 0.011*\"remark\" + 0.011*\"number\" + 0.007*\"on\" + 0.006*\"finit\" + 0.005*\"program\"\n",
      "2021-02-19 20:19:53,558 : INFO : topic diff=0.635204, rho=0.466151\n",
      "2021-02-19 20:19:53,569 : INFO : PROGRESS: pass 3, at document #2000/3204\n",
      "2021-02-19 20:19:55,355 : INFO : optimized alpha [0.010120658, 0.010325049, 0.009868701, 0.009988093, 0.010104895, 0.009278098, 0.010015964, 0.009874863, 0.009356866, 0.01086573, 0.0102266, 0.0097113075, 0.0100660985, 0.010552613, 0.010518313, 0.009803802, 0.010843245, 0.010608876, 0.010211063, 0.009587034, 0.010327438, 0.011967546, 0.009737352, 0.009930762, 0.010107503, 0.010603316, 0.01203192, 0.010702982, 0.009825492, 0.010151135, 0.009772456, 0.009556226, 0.010305248, 0.010187709, 0.010148594, 0.009937497, 0.010296733, 0.010763038, 0.009382585, 0.011057769, 0.010056836, 0.011134631, 0.011064425, 0.010595331, 0.010176069, 0.011360897, 0.010006591, 0.010473225, 0.010129688, 0.009836421, 0.0104272915, 0.009507346, 0.0100010885, 0.010265919, 0.010343879, 0.009818563, 0.010174065, 0.010356116, 0.009568088, 0.01043947, 0.010006212, 0.010478172, 0.010406243, 0.0101904, 0.01019104, 0.010006973, 0.009551252, 0.0098883305, 0.010339939, 0.010001707, 0.010296582, 0.0109355245, 0.00985092, 0.009190224, 0.010555104, 0.009681846, 0.010468231, 0.011391085, 0.009353759, 0.010795944, 0.013564748, 0.009461501, 0.010045243, 0.010149498, 0.009376205, 0.010235292, 0.0096958745, 0.009706443, 0.011049106, 0.008687773, 0.010057598, 0.010179069, 0.01015076, 0.009908187, 0.010033749, 0.010108583, 0.009784255, 0.010532859, 0.01040679, 0.010319047]\n",
      "2021-02-19 20:19:55,365 : INFO : merging changes from 2000 documents into a model of 3204 documents\n",
      "2021-02-19 20:19:55,388 : INFO : topic #89 (0.009): 0.001*\"lead\" + 0.001*\"debug\" + 0.001*\"major\" + 0.001*\"divid\" + 0.001*\"column\" + 0.001*\"verifi\" + 0.001*\"repetit\" + 0.001*\"reduc\" + 0.001*\"quit\" + 0.001*\"maximum\"\n",
      "2021-02-19 20:19:55,390 : INFO : topic #73 (0.009): 0.490*\"matrix\" + 0.154*\"eigenvalu\" + 0.070*\"eigenvector\" + 0.056*\"real\" + 0.055*\"and\" + 0.053*\"gener\" + 0.052*\"f2\" + 0.002*\"[\" + 0.001*\"])\" + 0.000*\"verifi\"\n",
      "2021-02-19 20:19:55,392 : INFO : topic #21 (0.012): 0.046*\"to\" + 0.034*\",\" + 0.032*\"and\" + 0.027*\"in\" + 0.024*\"is\" + 0.018*\"be\" + 0.018*\"use\" + 0.018*\"are\" + 0.015*\"it\" + 0.015*\"that\"\n",
      "2021-02-19 20:19:55,392 : INFO : topic #26 (0.012): 0.060*\",\" + 0.043*\"and\" + 0.027*\"to\" + 0.027*\"system\" + 0.022*\"in\" + 0.022*\"-\" + 0.021*\"program\" + 0.020*\"languag\" + 0.019*\"is\" + 0.019*\"for\"\n",
      "2021-02-19 20:19:55,393 : INFO : topic #80 (0.014): 0.346*\"(\" + 0.343*\")\" + 0.228*\"algorithm\" + 0.019*\"complex\" + 0.011*\"remark\" + 0.011*\"exponenti\" + 0.010*\"number\" + 0.006*\"logarithm\" + 0.005*\"on\" + 0.004*\"finit\"\n",
      "2021-02-19 20:19:55,395 : INFO : topic diff=0.613187, rho=0.422502\n",
      "2021-02-19 20:19:57,643 : INFO : -6.535 per-word bound, 92.7 perplexity estimate based on a held-out corpus of 1204 documents with 79462 words\n",
      "2021-02-19 20:19:57,644 : INFO : PROGRESS: pass 3, at document #3204/3204\n",
      "2021-02-19 20:19:59,623 : INFO : optimized alpha [0.010276142, 0.010435596, 0.00998467, 0.010137956, 0.010275775, 0.009277932, 0.010044414, 0.009960597, 0.009384401, 0.0111848, 0.010418623, 0.009780678, 0.01021578, 0.010779104, 0.010770666, 0.009904442, 0.011146327, 0.010740676, 0.0103882225, 0.009706264, 0.010539388, 0.012513896, 0.00980402, 0.010048321, 0.010301796, 0.010855032, 0.012339561, 0.010943649, 0.009922252, 0.0103837075, 0.009860011, 0.00957432, 0.010382888, 0.010350831, 0.01025252, 0.010044209, 0.010421715, 0.010665608, 0.009390237, 0.011319916, 0.010299629, 0.011441944, 0.011399789, 0.010764387, 0.010256193, 0.011845437, 0.010192079, 0.010717708, 0.010278932, 0.009908516, 0.010685957, 0.009578562, 0.010076062, 0.01044797, 0.010558476, 0.00993673, 0.010390771, 0.010560343, 0.009577417, 0.010646924, 0.010133664, 0.010676241, 0.010587612, 0.010361138, 0.010327226, 0.010142697, 0.009547193, 0.009930239, 0.010501819, 0.010093359, 0.010428963, 0.011323385, 0.009928501, 0.009148349, 0.010796048, 0.009758621, 0.010591913, 0.0117240045, 0.009355275, 0.01102269, 0.014440282, 0.009424422, 0.010202156, 0.0103732385, 0.0093872165, 0.010440982, 0.009715848, 0.009805308, 0.011345866, 0.008554482, 0.010248649, 0.010246984, 0.010224074, 0.009995186, 0.010129613, 0.010245914, 0.0099140275, 0.01065376, 0.010695611, 0.010507399]\n",
      "2021-02-19 20:19:59,632 : INFO : merging changes from 1204 documents into a model of 3204 documents\n",
      "2021-02-19 20:19:59,646 : INFO : topic #89 (0.009): 0.001*\"lead\" + 0.001*\"debug\" + 0.001*\"major\" + 0.001*\"divid\" + 0.001*\"column\" + 0.001*\"verifi\" + 0.001*\"repetit\" + 0.001*\"reduc\" + 0.001*\"quit\" + 0.001*\"maximum\"\n",
      "2021-02-19 20:19:59,647 : INFO : topic #73 (0.009): 0.497*\"matrix\" + 0.164*\"eigenvalu\" + 0.060*\"gener\" + 0.059*\"and\" + 0.055*\"eigenvector\" + 0.053*\"real\" + 0.045*\"f2\" + 0.001*\"[\" + 0.001*\"])\" + 0.000*\"verifi\"\n",
      "2021-02-19 20:19:59,647 : INFO : topic #26 (0.012): 0.061*\",\" + 0.046*\"and\" + 0.029*\"to\" + 0.027*\"system\" + 0.022*\"languag\" + 0.021*\"-\" + 0.021*\"program\" + 0.021*\"in\" + 0.019*\"for\" + 0.019*\"is\"\n",
      "2021-02-19 20:19:59,648 : INFO : topic #21 (0.013): 0.046*\"to\" + 0.035*\",\" + 0.032*\"and\" + 0.027*\"in\" + 0.023*\"is\" + 0.018*\"be\" + 0.018*\"use\" + 0.018*\"are\" + 0.016*\"that\" + 0.015*\"it\"\n",
      "2021-02-19 20:19:59,648 : INFO : topic #80 (0.014): 0.361*\"(\" + 0.349*\")\" + 0.215*\"algorithm\" + 0.017*\"complex\" + 0.010*\"exponenti\" + 0.009*\"remark\" + 0.008*\"number\" + 0.005*\"on\" + 0.005*\"program\" + 0.004*\"finit\"\n",
      "2021-02-19 20:19:59,650 : INFO : topic diff=0.730310, rho=0.422502\n",
      "2021-02-19 20:19:59,660 : INFO : PROGRESS: pass 4, at document #2000/3204\n",
      "2021-02-19 20:20:01,570 : INFO : optimized alpha [0.010339881, 0.010528744, 0.010039887, 0.01013762, 0.01027322, 0.009220542, 0.01021318, 0.009934257, 0.009354424, 0.0112157585, 0.010469471, 0.0097779855, 0.0102162585, 0.010968699, 0.010951811, 0.00992843, 0.011101867, 0.010942792, 0.010546448, 0.009724858, 0.010551923, 0.012499157, 0.009878676, 0.010092399, 0.010354539, 0.010803738, 0.012383051, 0.010929839, 0.009904342, 0.010362821, 0.0099096885, 0.009610705, 0.010402965, 0.010550766, 0.010420715, 0.010012348, 0.0105496645, 0.011094577, 0.009398937, 0.011293027, 0.0102926055, 0.011414964, 0.01133167, 0.010789802, 0.010411354, 0.01188, 0.0102162985, 0.010756654, 0.010249699, 0.009902538, 0.010795866, 0.009559568, 0.010095996, 0.010476809, 0.01060008, 0.00989502, 0.01037148, 0.010670073, 0.0095413765, 0.010608722, 0.010176337, 0.010845385, 0.010666649, 0.010404714, 0.01028977, 0.010255318, 0.009568379, 0.010048326, 0.010450897, 0.010064238, 0.010458324, 0.011609904, 0.009909892, 0.0091914525, 0.010741814, 0.0098080365, 0.01055656, 0.011751499, 0.00937703, 0.011129339, 0.015764195, 0.009453312, 0.010162259, 0.01033173, 0.009405465, 0.010380361, 0.009805276, 0.0097803315, 0.011354604, 0.008460775, 0.010222265, 0.010428667, 0.010307657, 0.009950609, 0.010228661, 0.010289122, 0.0099404445, 0.010658067, 0.010785776, 0.010430079]\n",
      "2021-02-19 20:20:01,581 : INFO : merging changes from 2000 documents into a model of 3204 documents\n",
      "2021-02-19 20:20:01,596 : INFO : topic #89 (0.008): 0.001*\"lead\" + 0.001*\"debug\" + 0.001*\"major\" + 0.001*\"divid\" + 0.001*\"column\" + 0.001*\"verifi\" + 0.001*\"repetit\" + 0.001*\"reduc\" + 0.001*\"quit\" + 0.001*\"maximum\"\n",
      "2021-02-19 20:20:01,597 : INFO : topic #73 (0.009): 0.532*\"matrix\" + 0.138*\"eigenvalu\" + 0.062*\"eigenvector\" + 0.057*\"and\" + 0.055*\"gener\" + 0.050*\"real\" + 0.046*\"f2\" + 0.001*\"[\" + 0.000*\"])\" + 0.000*\"verifi\"\n",
      "2021-02-19 20:20:01,598 : INFO : topic #26 (0.012): 0.061*\",\" + 0.045*\"and\" + 0.029*\"system\" + 0.028*\"to\" + 0.022*\"-\" + 0.022*\"in\" + 0.022*\"program\" + 0.020*\"languag\" + 0.019*\"for\" + 0.018*\"is\"\n"
     ]
    },
    {
     "name": "stderr",
     "output_type": "stream",
     "text": [
      "2021-02-19 20:20:01,599 : INFO : topic #21 (0.012): 0.047*\"to\" + 0.035*\",\" + 0.032*\"and\" + 0.028*\"in\" + 0.023*\"is\" + 0.019*\"be\" + 0.018*\"are\" + 0.018*\"use\" + 0.016*\"that\" + 0.015*\"it\"\n",
      "2021-02-19 20:20:01,600 : INFO : topic #80 (0.016): 0.362*\"(\" + 0.351*\")\" + 0.218*\"algorithm\" + 0.015*\"complex\" + 0.009*\"remark\" + 0.009*\"exponenti\" + 0.008*\"number\" + 0.005*\"logarithm\" + 0.004*\"on\" + 0.003*\"program\"\n",
      "2021-02-19 20:20:01,601 : INFO : topic diff=0.672170, rho=0.389191\n",
      "2021-02-19 20:20:03,870 : INFO : -6.490 per-word bound, 89.9 perplexity estimate based on a held-out corpus of 1204 documents with 79462 words\n",
      "2021-02-19 20:20:03,870 : INFO : PROGRESS: pass 4, at document #3204/3204\n",
      "2021-02-19 20:20:05,922 : INFO : optimized alpha [0.01050765, 0.01063068, 0.010170112, 0.010286559, 0.010428597, 0.009249398, 0.010257894, 0.010010666, 0.009381098, 0.011552288, 0.0106480755, 0.00984261, 0.010371831, 0.011187748, 0.011195165, 0.010025006, 0.011377832, 0.01108153, 0.010724834, 0.009857532, 0.010756071, 0.013012881, 0.009946506, 0.0102244625, 0.010535279, 0.011027494, 0.012665453, 0.011185868, 0.01000412, 0.010606997, 0.010009996, 0.009643487, 0.010485447, 0.010742837, 0.010522953, 0.010137885, 0.010685441, 0.010997871, 0.009437662, 0.011518463, 0.010549523, 0.011717517, 0.0116524035, 0.010967878, 0.01048452, 0.01230423, 0.010409089, 0.010981483, 0.010384937, 0.009979488, 0.011055956, 0.009651128, 0.0101854345, 0.010659498, 0.010810141, 0.010004753, 0.0105732335, 0.010887915, 0.009570115, 0.010829552, 0.010324437, 0.011029567, 0.010838559, 0.010597748, 0.010423028, 0.010394195, 0.009568808, 0.010102788, 0.010607985, 0.010136116, 0.010591386, 0.01205823, 0.010001567, 0.0091659995, 0.010955426, 0.009904714, 0.01068536, 0.012071084, 0.009397687, 0.011381358, 0.016788345, 0.009445054, 0.010321416, 0.010560249, 0.0094318, 0.010574982, 0.009839583, 0.009875338, 0.011620422, 0.008345335, 0.010436941, 0.010493485, 0.010371689, 0.010054648, 0.010320416, 0.010409669, 0.010096519, 0.010794862, 0.0110888295, 0.010601934]\n",
      "2021-02-19 20:20:05,933 : INFO : merging changes from 1204 documents into a model of 3204 documents\n",
      "2021-02-19 20:20:05,948 : INFO : topic #89 (0.008): 0.001*\"lead\" + 0.001*\"debug\" + 0.001*\"major\" + 0.001*\"divid\" + 0.001*\"column\" + 0.001*\"verifi\" + 0.001*\"repetit\" + 0.001*\"reduc\" + 0.001*\"quit\" + 0.001*\"maximum\"\n",
      "2021-02-19 20:20:05,949 : INFO : topic #73 (0.009): 0.534*\"matrix\" + 0.148*\"eigenvalu\" + 0.060*\"and\" + 0.060*\"gener\" + 0.050*\"eigenvector\" + 0.048*\"real\" + 0.041*\"f2\" + 0.000*\"[\" + 0.000*\"])\" + 0.000*\"verifi\"\n",
      "2021-02-19 20:20:05,950 : INFO : topic #26 (0.013): 0.063*\",\" + 0.048*\"and\" + 0.030*\"to\" + 0.029*\"system\" + 0.022*\"program\" + 0.022*\"languag\" + 0.021*\"-\" + 0.020*\"in\" + 0.019*\"for\" + 0.018*\"is\"\n",
      "2021-02-19 20:20:05,950 : INFO : topic #21 (0.013): 0.046*\"to\" + 0.035*\",\" + 0.032*\"and\" + 0.028*\"in\" + 0.022*\"is\" + 0.019*\"be\" + 0.019*\"are\" + 0.018*\"use\" + 0.017*\"that\" + 0.016*\"it\"\n",
      "2021-02-19 20:20:05,951 : INFO : topic #80 (0.017): 0.375*\"(\" + 0.355*\")\" + 0.208*\"algorithm\" + 0.014*\"complex\" + 0.008*\"exponenti\" + 0.008*\"remark\" + 0.007*\"number\" + 0.005*\"program\" + 0.004*\"on\" + 0.004*\"finit\"\n",
      "2021-02-19 20:20:05,952 : INFO : topic diff=0.727042, rho=0.389191\n",
      "2021-02-19 20:20:05,963 : INFO : PROGRESS: pass 5, at document #2000/3204\n",
      "2021-02-19 20:20:07,834 : INFO : optimized alpha [0.010574632, 0.01072981, 0.010232811, 0.010291332, 0.010431446, 0.0091958335, 0.010426461, 0.009993956, 0.009354306, 0.011600268, 0.010704932, 0.009840605, 0.010385067, 0.011402619, 0.011390981, 0.010049316, 0.011344689, 0.011269065, 0.01088038, 0.009892521, 0.010766703, 0.013015165, 0.010022065, 0.010286133, 0.010587897, 0.010984321, 0.012702031, 0.011185289, 0.009991302, 0.010599426, 0.010056592, 0.009681551, 0.010510238, 0.010963941, 0.010676315, 0.010124845, 0.01081373, 0.01141964, 0.009465358, 0.011493862, 0.010545066, 0.0117051955, 0.011592121, 0.011002984, 0.010644264, 0.012342111, 0.010447938, 0.01103715, 0.010361175, 0.009985308, 0.011181334, 0.009642559, 0.010213484, 0.0106837, 0.010853958, 0.0099696955, 0.010563742, 0.011004453, 0.009546555, 0.010802473, 0.010381152, 0.01119734, 0.010906309, 0.010659416, 0.010399511, 0.0105114775, 0.009591314, 0.010236226, 0.010575741, 0.010115223, 0.010630326, 0.012351676, 0.009991787, 0.009212146, 0.010905722, 0.009954593, 0.010660237, 0.012107894, 0.009434191, 0.011510132, 0.018253334, 0.009484864, 0.010291358, 0.010523768, 0.009468426, 0.010517501, 0.009939945, 0.009848724, 0.011633217, 0.008263091, 0.01044154, 0.01068066, 0.010450297, 0.010020815, 0.010428763, 0.010451817, 0.010133685, 0.010810481, 0.0111906305, 0.010523664]\n",
      "2021-02-19 20:20:07,846 : INFO : merging changes from 2000 documents into a model of 3204 documents\n",
      "2021-02-19 20:20:07,863 : INFO : topic #89 (0.008): 0.001*\"lead\" + 0.001*\"debug\" + 0.001*\"major\" + 0.001*\"divid\" + 0.001*\"column\" + 0.001*\"verifi\" + 0.001*\"repetit\" + 0.001*\"reduc\" + 0.001*\"quit\" + 0.001*\"maximum\"\n",
      "2021-02-19 20:20:07,864 : INFO : topic #73 (0.009): 0.555*\"matrix\" + 0.129*\"eigenvalu\" + 0.058*\"and\" + 0.057*\"eigenvector\" + 0.055*\"gener\" + 0.047*\"real\" + 0.042*\"f2\" + 0.000*\"[\" + 0.000*\"])\" + 0.000*\"verifi\"\n",
      "2021-02-19 20:20:07,865 : INFO : topic #26 (0.013): 0.063*\",\" + 0.047*\"and\" + 0.030*\"system\" + 0.029*\"to\" + 0.023*\"program\" + 0.022*\"-\" + 0.021*\"in\" + 0.021*\"languag\" + 0.019*\"for\" + 0.018*\"is\"\n",
      "2021-02-19 20:20:07,866 : INFO : topic #21 (0.013): 0.047*\"to\" + 0.035*\",\" + 0.032*\"and\" + 0.028*\"in\" + 0.022*\"is\" + 0.020*\"be\" + 0.019*\"are\" + 0.018*\"use\" + 0.018*\"that\" + 0.016*\"it\"\n",
      "2021-02-19 20:20:07,866 : INFO : topic #80 (0.018): 0.373*\"(\" + 0.357*\")\" + 0.211*\"algorithm\" + 0.013*\"complex\" + 0.008*\"remark\" + 0.008*\"exponenti\" + 0.007*\"number\" + 0.005*\"logarithm\" + 0.004*\"program\" + 0.003*\"on\"\n",
      "2021-02-19 20:20:07,868 : INFO : topic diff=0.640470, rho=0.362690\n",
      "2021-02-19 20:20:10,285 : INFO : -6.457 per-word bound, 87.9 perplexity estimate based on a held-out corpus of 1204 documents with 79462 words\n",
      "2021-02-19 20:20:10,286 : INFO : PROGRESS: pass 5, at document #3204/3204\n",
      "2021-02-19 20:20:12,457 : INFO : optimized alpha [0.010738746, 0.010828087, 0.010373577, 0.010431323, 0.010590108, 0.009238059, 0.010492096, 0.010074992, 0.009391632, 0.0119235935, 0.010895549, 0.009910559, 0.010528164, 0.011641156, 0.011631655, 0.010142926, 0.011619297, 0.011391461, 0.011064685, 0.010035053, 0.010958975, 0.01352702, 0.010094356, 0.010432015, 0.010773709, 0.011191463, 0.012932602, 0.01141976, 0.010088207, 0.010846501, 0.010162744, 0.009724189, 0.010587637, 0.0111711845, 0.010761732, 0.010267547, 0.010960322, 0.0113195805, 0.009513506, 0.011720058, 0.010781608, 0.012020449, 0.011909349, 0.011170288, 0.010718123, 0.012754246, 0.01064227, 0.011269826, 0.010494527, 0.010082115, 0.011434694, 0.0097464025, 0.010300515, 0.010849095, 0.01105519, 0.010091102, 0.010756993, 0.011229883, 0.009580254, 0.0110138, 0.0105488915, 0.011380287, 0.01107097, 0.010870935, 0.010534373, 0.010641568, 0.009604271, 0.010283338, 0.010746007, 0.010182916, 0.010768207, 0.012807684, 0.0100932615, 0.009205811, 0.011093422, 0.010057412, 0.010797524, 0.012399296, 0.009468129, 0.011773324, 0.01934549, 0.009489342, 0.010437829, 0.010736001, 0.009530755, 0.01071033, 0.009980702, 0.009938091, 0.011902063, 0.008161357, 0.010653896, 0.010743202, 0.010506688, 0.010136946, 0.010523856, 0.010571174, 0.010292791, 0.010942338, 0.011509566, 0.010688517]\n",
      "2021-02-19 20:20:12,467 : INFO : merging changes from 1204 documents into a model of 3204 documents\n",
      "2021-02-19 20:20:12,481 : INFO : topic #89 (0.008): 0.001*\"lead\" + 0.001*\"debug\" + 0.001*\"major\" + 0.001*\"divid\" + 0.001*\"column\" + 0.001*\"verifi\" + 0.001*\"repetit\" + 0.001*\"reduc\" + 0.001*\"quit\" + 0.001*\"maximum\"\n",
      "2021-02-19 20:20:12,483 : INFO : topic #73 (0.009): 0.559*\"matrix\" + 0.137*\"eigenvalu\" + 0.060*\"and\" + 0.059*\"gener\" + 0.047*\"eigenvector\" + 0.045*\"real\" + 0.038*\"f2\" + 0.000*\"[\" + 0.000*\"])\" + 0.000*\"verifi\"\n",
      "2021-02-19 20:20:12,484 : INFO : topic #26 (0.013): 0.066*\",\" + 0.049*\"and\" + 0.031*\"to\" + 0.030*\"system\" + 0.023*\"program\" + 0.023*\"languag\" + 0.021*\"-\" + 0.020*\"in\" + 0.019*\"for\" + 0.017*\"is\"\n",
      "2021-02-19 20:20:12,485 : INFO : topic #21 (0.014): 0.047*\"to\" + 0.036*\",\" + 0.032*\"and\" + 0.028*\"in\" + 0.022*\"is\" + 0.020*\"are\" + 0.019*\"be\" + 0.018*\"that\" + 0.018*\"use\" + 0.016*\"it\"\n"
     ]
    },
    {
     "name": "stderr",
     "output_type": "stream",
     "text": [
      "2021-02-19 20:20:12,486 : INFO : topic #80 (0.019): 0.386*\"(\" + 0.361*\")\" + 0.200*\"algorithm\" + 0.012*\"complex\" + 0.007*\"remark\" + 0.007*\"exponenti\" + 0.006*\"number\" + 0.005*\"program\" + 0.003*\"finit\" + 0.003*\"logarithm\"\n",
      "2021-02-19 20:20:12,487 : INFO : topic diff=0.661764, rho=0.362690\n",
      "2021-02-19 20:20:12,500 : INFO : PROGRESS: pass 6, at document #2000/3204\n",
      "2021-02-19 20:20:14,439 : INFO : optimized alpha [0.010809147, 0.010927599, 0.010446895, 0.010440773, 0.010595838, 0.009193636, 0.010663505, 0.010059604, 0.009370535, 0.0119881695, 0.010961765, 0.009917611, 0.010536666, 0.011879598, 0.011819049, 0.0101641845, 0.0115899835, 0.011576218, 0.011229998, 0.010066155, 0.0109756505, 0.013533513, 0.0101711, 0.0104991235, 0.010824659, 0.011147784, 0.012959155, 0.011417725, 0.010072788, 0.010850926, 0.010203257, 0.009765493, 0.010622272, 0.011394932, 0.010913282, 0.010258397, 0.011095186, 0.011719644, 0.009544933, 0.0116996225, 0.010777832, 0.012012464, 0.0118538495, 0.011208762, 0.01087391, 0.012784608, 0.010687414, 0.011325488, 0.010479176, 0.010103353, 0.011569476, 0.009761798, 0.010332435, 0.010869473, 0.011105195, 0.010061566, 0.010752639, 0.011344038, 0.009557369, 0.0110024735, 0.0106039895, 0.0115537075, 0.011142196, 0.010939944, 0.010521156, 0.010767491, 0.009634484, 0.010408468, 0.010722481, 0.010170826, 0.010808431, 0.0130988415, 0.010087589, 0.009253095, 0.011057199, 0.010116674, 0.010775498, 0.012432069, 0.009515991, 0.011893563, 0.020942684, 0.009534083, 0.010410987, 0.0107096275, 0.009577, 0.0106608365, 0.010082923, 0.00991331, 0.011918652, 0.00808816, 0.010662777, 0.010931026, 0.010583041, 0.010115699, 0.010625062, 0.010610859, 0.010338006, 0.010972106, 0.011615159, 0.010612781]\n",
      "2021-02-19 20:20:14,453 : INFO : merging changes from 2000 documents into a model of 3204 documents\n",
      "2021-02-19 20:20:14,476 : INFO : topic #89 (0.008): 0.001*\"lead\" + 0.001*\"debug\" + 0.001*\"major\" + 0.001*\"divid\" + 0.001*\"column\" + 0.001*\"verifi\" + 0.001*\"repetit\" + 0.001*\"reduc\" + 0.001*\"quit\" + 0.001*\"maximum\"\n",
      "2021-02-19 20:20:14,477 : INFO : topic #5 (0.009): 0.073*\"game\" + 0.060*\"-\" + 0.044*\"exclus\" + 0.044*\"pattern\" + 0.043*\"mutual\" + 0.039*\"play\" + 0.035*\"q\" + 0.032*\"graph\" + 0.031*\"incorpor\" + 0.029*\"case\"\n",
      "2021-02-19 20:20:14,479 : INFO : topic #71 (0.013): 0.313*\"s\" + 0.289*\"'\" + 0.124*\"integr\" + 0.057*\"algorithm\" + 0.033*\"(\" + 0.022*\")\" + 0.017*\"rule\" + 0.015*\"simpson\" + 0.013*\"s15\" + 0.013*\"ellipt\"\n",
      "2021-02-19 20:20:14,480 : INFO : topic #21 (0.014): 0.048*\"to\" + 0.035*\",\" + 0.031*\"and\" + 0.029*\"in\" + 0.022*\"is\" + 0.020*\"be\" + 0.020*\"are\" + 0.019*\"that\" + 0.018*\"use\" + 0.016*\"it\"\n",
      "2021-02-19 20:20:14,482 : INFO : topic #80 (0.021): 0.382*\"(\" + 0.362*\")\" + 0.205*\"algorithm\" + 0.011*\"complex\" + 0.007*\"remark\" + 0.007*\"exponenti\" + 0.006*\"number\" + 0.004*\"logarithm\" + 0.004*\"program\" + 0.003*\"finit\"\n",
      "2021-02-19 20:20:14,484 : INFO : topic diff=0.572748, rho=0.340958\n",
      "2021-02-19 20:20:16,870 : INFO : -6.431 per-word bound, 86.3 perplexity estimate based on a held-out corpus of 1204 documents with 79462 words\n",
      "2021-02-19 20:20:16,871 : INFO : PROGRESS: pass 6, at document #3204/3204\n",
      "2021-02-19 20:20:18,920 : INFO : optimized alpha [0.010967874, 0.011023263, 0.0105833, 0.0105793085, 0.010749428, 0.009237005, 0.010739541, 0.010139442, 0.0094038965, 0.0123122, 0.011139759, 0.009978357, 0.010684406, 0.0121349, 0.0120619675, 0.010261466, 0.011841588, 0.011694221, 0.011405043, 0.010209918, 0.011155015, 0.01402327, 0.010242074, 0.010643592, 0.011007117, 0.011347581, 0.013181626, 0.011640502, 0.010164646, 0.011102113, 0.010309506, 0.009811484, 0.010707807, 0.011624479, 0.010996454, 0.010408407, 0.011246218, 0.011616459, 0.009606909, 0.011914514, 0.010996805, 0.012331219, 0.012152679, 0.011360856, 0.010948953, 0.013169138, 0.0108905835, 0.0115536535, 0.01060256, 0.01020661, 0.011808286, 0.009882553, 0.010417716, 0.011023272, 0.011321531, 0.010179482, 0.010936167, 0.011558729, 0.009595402, 0.01121618, 0.010784567, 0.011730327, 0.011291866, 0.011157165, 0.010664024, 0.010890201, 0.009655475, 0.010461187, 0.010890221, 0.0102439355, 0.0109423185, 0.013542462, 0.010201144, 0.009260747, 0.011250958, 0.010228423, 0.01091183, 0.0127023375, 0.009569829, 0.01218985, 0.02211434, 0.00954683, 0.010567796, 0.0109204035, 0.009660584, 0.010843817, 0.010126792, 0.01000657, 0.012171167, 0.00799731, 0.0108740525, 0.0109888865, 0.01063303, 0.010243203, 0.010717835, 0.010732671, 0.010495003, 0.011090543, 0.0119348895, 0.010772166]\n",
      "2021-02-19 20:20:18,932 : INFO : merging changes from 1204 documents into a model of 3204 documents\n",
      "2021-02-19 20:20:18,948 : INFO : topic #89 (0.008): 0.001*\"lead\" + 0.001*\"debug\" + 0.001*\"major\" + 0.001*\"divid\" + 0.001*\"column\" + 0.001*\"verifi\" + 0.001*\"repetit\" + 0.001*\"reduc\" + 0.001*\"quit\" + 0.001*\"maximum\"\n",
      "2021-02-19 20:20:18,949 : INFO : topic #5 (0.009): 0.088*\"game\" + 0.058*\"pattern\" + 0.052*\"-\" + 0.046*\"mutual\" + 0.043*\"play\" + 0.043*\"exclus\" + 0.035*\"graph\" + 0.034*\"incorpor\" + 0.032*\"case\" + 0.032*\"q\"\n",
      "2021-02-19 20:20:18,950 : INFO : topic #71 (0.014): 0.342*\"s\" + 0.315*\"'\" + 0.105*\"integr\" + 0.055*\"algorithm\" + 0.028*\"(\" + 0.019*\")\" + 0.016*\"rule\" + 0.013*\"definit\" + 0.012*\"simpson\" + 0.011*\"d1\"\n",
      "2021-02-19 20:20:18,951 : INFO : topic #21 (0.014): 0.047*\"to\" + 0.036*\",\" + 0.032*\"and\" + 0.029*\"in\" + 0.021*\"is\" + 0.020*\"are\" + 0.020*\"be\" + 0.019*\"that\" + 0.018*\"use\" + 0.016*\"it\"\n",
      "2021-02-19 20:20:18,951 : INFO : topic #80 (0.022): 0.394*\"(\" + 0.367*\")\" + 0.192*\"algorithm\" + 0.011*\"complex\" + 0.006*\"remark\" + 0.006*\"exponenti\" + 0.005*\"number\" + 0.005*\"program\" + 0.003*\"finit\" + 0.003*\"logarithm\"\n",
      "2021-02-19 20:20:18,953 : INFO : topic diff=0.581883, rho=0.340958\n",
      "2021-02-19 20:20:18,964 : INFO : PROGRESS: pass 7, at document #2000/3204\n",
      "2021-02-19 20:20:20,827 : INFO : optimized alpha [0.01103465, 0.011125417, 0.010661617, 0.010587995, 0.010756157, 0.009195825, 0.010907588, 0.010135072, 0.009384723, 0.012376225, 0.011218744, 0.00999355, 0.010699138, 0.012375978, 0.012257624, 0.010291613, 0.011816128, 0.011875365, 0.011575015, 0.010242467, 0.011173768, 0.0140365455, 0.010315342, 0.010705622, 0.011056755, 0.011307068, 0.01321888, 0.011635502, 0.010148625, 0.011112061, 0.010347971, 0.009857391, 0.01075328, 0.011842796, 0.011125687, 0.010407713, 0.0113753, 0.011999373, 0.009643241, 0.011892018, 0.010990218, 0.0123294545, 0.012101428, 0.011408241, 0.011101824, 0.013190859, 0.010943496, 0.011613421, 0.010598187, 0.010228473, 0.011945035, 0.009908291, 0.010455004, 0.011040411, 0.011375596, 0.0101514375, 0.010934757, 0.0116786305, 0.009574491, 0.011202486, 0.010856, 0.011900492, 0.0113667445, 0.011240596, 0.010659955, 0.011021387, 0.009684723, 0.010592886, 0.01087262, 0.010241246, 0.010983995, 0.013834518, 0.010202318, 0.009312135, 0.011234168, 0.010289863, 0.010896056, 0.012742465, 0.009620171, 0.012310208, 0.023814127, 0.0095959995, 0.010543615, 0.0108942585, 0.009720282, 0.010805038, 0.010234474, 0.009983295, 0.01218559, 0.00793147, 0.010883253, 0.011183672, 0.010707696, 0.010227764, 0.010818099, 0.010768387, 0.010542691, 0.011122491, 0.012048434, 0.010700207]\n",
      "2021-02-19 20:20:20,841 : INFO : merging changes from 2000 documents into a model of 3204 documents\n",
      "2021-02-19 20:20:20,862 : INFO : topic #89 (0.008): 0.001*\"lead\" + 0.001*\"debug\" + 0.001*\"major\" + 0.001*\"divid\" + 0.001*\"column\" + 0.001*\"verifi\" + 0.001*\"repetit\" + 0.001*\"reduc\" + 0.001*\"quit\" + 0.001*\"maximum\"\n",
      "2021-02-19 20:20:20,863 : INFO : topic #5 (0.009): 0.074*\"game\" + 0.060*\"-\" + 0.053*\"pattern\" + 0.045*\"exclus\" + 0.044*\"mutual\" + 0.037*\"play\" + 0.036*\"incorpor\" + 0.035*\"q\" + 0.034*\"graph\" + 0.034*\"case\"\n",
      "2021-02-19 20:20:20,864 : INFO : topic #71 (0.014): 0.331*\"s\" + 0.305*\"'\" + 0.121*\"integr\" + 0.051*\"algorithm\" + 0.026*\"(\" + 0.016*\")\" + 0.016*\"rule\" + 0.014*\"simpson\" + 0.013*\"s15\" + 0.013*\"ellipt\"\n",
      "2021-02-19 20:20:20,864 : INFO : topic #21 (0.014): 0.048*\"to\" + 0.036*\",\" + 0.031*\"and\" + 0.029*\"in\" + 0.021*\"is\" + 0.020*\"be\" + 0.020*\"are\" + 0.019*\"that\" + 0.018*\"use\" + 0.016*\"it\"\n",
      "2021-02-19 20:20:20,865 : INFO : topic #80 (0.024): 0.389*\"(\" + 0.367*\")\" + 0.199*\"algorithm\" + 0.010*\"complex\" + 0.007*\"remark\" + 0.006*\"exponenti\" + 0.004*\"number\" + 0.004*\"logarithm\" + 0.004*\"program\" + 0.003*\"finit\"\n"
     ]
    },
    {
     "name": "stderr",
     "output_type": "stream",
     "text": [
      "2021-02-19 20:20:20,867 : INFO : topic diff=0.502059, rho=0.322715\n",
      "2021-02-19 20:20:23,131 : INFO : -6.412 per-word bound, 85.2 perplexity estimate based on a held-out corpus of 1204 documents with 79462 words\n",
      "2021-02-19 20:20:23,132 : INFO : PROGRESS: pass 7, at document #3204/3204\n",
      "2021-02-19 20:20:25,237 : INFO : optimized alpha [0.0111890705, 0.011219078, 0.010803168, 0.010723023, 0.010920252, 0.009242729, 0.010984956, 0.0102141285, 0.009414563, 0.012715906, 0.0113857305, 0.010059691, 0.010837307, 0.01263877, 0.012490808, 0.010398227, 0.012070134, 0.011977241, 0.011748325, 0.01039341, 0.011341985, 0.014503283, 0.010379835, 0.010840599, 0.011222093, 0.011513439, 0.013431215, 0.011845362, 0.010250163, 0.011371476, 0.010452017, 0.009903891, 0.0108406665, 0.012069587, 0.011204128, 0.01056797, 0.01152215, 0.01190301, 0.009704946, 0.012097327, 0.011205778, 0.012639579, 0.0124075245, 0.011565577, 0.011169401, 0.013547252, 0.011152902, 0.011825857, 0.010721663, 0.010338055, 0.01218743, 0.010034292, 0.010553185, 0.011190129, 0.011582783, 0.010277618, 0.011110115, 0.011884197, 0.00961646, 0.01141016, 0.011055289, 0.012078359, 0.011524699, 0.011461338, 0.010796227, 0.011137991, 0.009718245, 0.010645229, 0.011035733, 0.010308331, 0.011114666, 0.014274671, 0.010346716, 0.009322196, 0.011425439, 0.01040756, 0.011035146, 0.013012363, 0.009681684, 0.012612756, 0.025025934, 0.009613559, 0.010696285, 0.011095918, 0.009820711, 0.010991635, 0.010284017, 0.0100723775, 0.012410681, 0.007849454, 0.011085726, 0.011234374, 0.010755085, 0.010357786, 0.010900248, 0.010881582, 0.01070409, 0.011229258, 0.012373816, 0.010846613]\n",
      "2021-02-19 20:20:25,248 : INFO : merging changes from 1204 documents into a model of 3204 documents\n",
      "2021-02-19 20:20:25,264 : INFO : topic #89 (0.008): 0.001*\"lead\" + 0.001*\"debug\" + 0.001*\"major\" + 0.001*\"divid\" + 0.001*\"column\" + 0.001*\"verifi\" + 0.001*\"repetit\" + 0.001*\"reduc\" + 0.001*\"quit\" + 0.001*\"maximum\"\n",
      "2021-02-19 20:20:25,266 : INFO : topic #5 (0.009): 0.087*\"game\" + 0.071*\"pattern\" + 0.053*\"-\" + 0.046*\"mutual\" + 0.043*\"exclus\" + 0.042*\"play\" + 0.037*\"incorpor\" + 0.036*\"graph\" + 0.034*\"case\" + 0.032*\"demonstr\"\n",
      "2021-02-19 20:20:25,267 : INFO : topic #71 (0.014): 0.355*\"s\" + 0.327*\"'\" + 0.105*\"integr\" + 0.049*\"algorithm\" + 0.022*\"(\" + 0.016*\"rule\" + 0.013*\")\" + 0.013*\"definit\" + 0.012*\"simpson\" + 0.010*\"d1\"\n",
      "2021-02-19 20:20:25,268 : INFO : topic #21 (0.015): 0.047*\"to\" + 0.036*\",\" + 0.031*\"and\" + 0.029*\"in\" + 0.021*\"is\" + 0.020*\"are\" + 0.020*\"be\" + 0.020*\"that\" + 0.017*\"use\" + 0.016*\"it\"\n",
      "2021-02-19 20:20:25,269 : INFO : topic #80 (0.025): 0.400*\"(\" + 0.371*\")\" + 0.187*\"algorithm\" + 0.009*\"complex\" + 0.005*\"exponenti\" + 0.005*\"remark\" + 0.005*\"program\" + 0.004*\"number\" + 0.003*\"finit\" + 0.003*\"logarithm\"\n",
      "2021-02-19 20:20:25,270 : INFO : topic diff=0.508388, rho=0.322715\n",
      "2021-02-19 20:20:25,283 : INFO : PROGRESS: pass 8, at document #2000/3204\n",
      "2021-02-19 20:20:27,259 : INFO : optimized alpha [0.011254448, 0.011317155, 0.010888112, 0.010731021, 0.010942957, 0.009214306, 0.011143756, 0.01020866, 0.00939561, 0.012779773, 0.011469987, 0.010083821, 0.010851088, 0.012881398, 0.012683869, 0.010431762, 0.012044192, 0.0121501135, 0.01192338, 0.010420934, 0.011355902, 0.014521107, 0.010454889, 0.010903237, 0.011274251, 0.01148092, 0.01347435, 0.011841362, 0.010242917, 0.011384801, 0.0104887625, 0.009949638, 0.010892831, 0.012288835, 0.011326593, 0.010568463, 0.011651505, 0.012269261, 0.009739942, 0.012086346, 0.011210551, 0.012645723, 0.01235813, 0.0116195455, 0.011313253, 0.01357373, 0.01119939, 0.011884416, 0.010722311, 0.010365247, 0.012330544, 0.010058718, 0.010587166, 0.011214606, 0.011635581, 0.010257118, 0.011106345, 0.01201552, 0.009598702, 0.0113942865, 0.011126779, 0.012248019, 0.011603176, 0.011548056, 0.010795433, 0.011262531, 0.009749527, 0.010778609, 0.011025345, 0.010307763, 0.011166552, 0.014566279, 0.010357089, 0.00937174, 0.011408584, 0.010471197, 0.011021598, 0.01304324, 0.009731518, 0.012749603, 0.026777795, 0.00966983, 0.01068111, 0.011071638, 0.009885431, 0.010959084, 0.010390796, 0.01005351, 0.0124291675, 0.0077897017, 0.011102327, 0.011429507, 0.010826737, 0.010342852, 0.010993232, 0.010920681, 0.010755953, 0.011263211, 0.012489877, 0.01077968]\n",
      "2021-02-19 20:20:27,271 : INFO : merging changes from 2000 documents into a model of 3204 documents\n",
      "2021-02-19 20:20:27,293 : INFO : topic #89 (0.008): 0.001*\"lead\" + 0.001*\"debug\" + 0.001*\"major\" + 0.001*\"divid\" + 0.001*\"column\" + 0.001*\"verifi\" + 0.001*\"repetit\" + 0.001*\"reduc\" + 0.001*\"quit\" + 0.001*\"maximum\"\n",
      "2021-02-19 20:20:27,295 : INFO : topic #5 (0.009): 0.074*\"game\" + 0.074*\"pattern\" + 0.060*\"-\" + 0.044*\"mutual\" + 0.044*\"exclus\" + 0.039*\"incorpor\" + 0.036*\"play\" + 0.036*\"case\" + 0.035*\"graph\" + 0.035*\"q\"\n",
      "2021-02-19 20:20:27,296 : INFO : topic #21 (0.015): 0.048*\"to\" + 0.036*\",\" + 0.031*\"and\" + 0.029*\"in\" + 0.021*\"is\" + 0.021*\"be\" + 0.021*\"are\" + 0.020*\"that\" + 0.017*\"use\" + 0.016*\"it\"\n",
      "2021-02-19 20:20:27,298 : INFO : topic #71 (0.015): 0.342*\"s\" + 0.316*\"'\" + 0.121*\"integr\" + 0.046*\"algorithm\" + 0.020*\"(\" + 0.016*\"rule\" + 0.014*\"simpson\" + 0.013*\"s15\" + 0.013*\"ellipt\" + 0.012*\"definit\"\n",
      "2021-02-19 20:20:27,299 : INFO : topic #80 (0.027): 0.395*\"(\" + 0.371*\")\" + 0.194*\"algorithm\" + 0.009*\"complex\" + 0.006*\"exponenti\" + 0.004*\"program\" + 0.004*\"remark\" + 0.004*\"logarithm\" + 0.003*\"number\" + 0.003*\"finit\"\n",
      "2021-02-19 20:20:27,301 : INFO : topic diff=0.438246, rho=0.307119\n",
      "2021-02-19 20:20:29,630 : INFO : -6.394 per-word bound, 84.1 perplexity estimate based on a held-out corpus of 1204 documents with 79462 words\n",
      "2021-02-19 20:20:29,631 : INFO : PROGRESS: pass 8, at document #3204/3204\n",
      "2021-02-19 20:20:31,481 : INFO : optimized alpha [0.011408299, 0.011406443, 0.011029475, 0.010857777, 0.011106236, 0.0092667695, 0.0112226065, 0.010297604, 0.009424768, 0.013112474, 0.011651144, 0.010157556, 0.010980879, 0.013125709, 0.012911733, 0.010544551, 0.01229512, 0.012246699, 0.012095808, 0.0105712665, 0.011520192, 0.014994097, 0.010519014, 0.0110383155, 0.011430017, 0.011664346, 0.013688722, 0.012045968, 0.010343012, 0.011641404, 0.010591041, 0.009996728, 0.010976446, 0.012516853, 0.011404013, 0.010727825, 0.011795011, 0.012166577, 0.009804051, 0.012299286, 0.01141512, 0.01298878, 0.012653328, 0.011767375, 0.01137999, 0.013918393, 0.0114214, 0.012104445, 0.010840604, 0.010470328, 0.012583964, 0.010192699, 0.010675773, 0.011358232, 0.011837799, 0.0103702415, 0.011280403, 0.01222242, 0.009644273, 0.011605907, 0.011330421, 0.012431039, 0.01175164, 0.011800017, 0.010931792, 0.011382447, 0.00979443, 0.010825166, 0.011179051, 0.010372223, 0.011288847, 0.014993008, 0.010509189, 0.009383966, 0.011589363, 0.010592041, 0.01115785, 0.013313457, 0.009787841, 0.013072888, 0.028068455, 0.00969171, 0.010827659, 0.011262675, 0.010006925, 0.011144075, 0.010440407, 0.010141594, 0.012655284, 0.007715005, 0.011311709, 0.011488439, 0.010880235, 0.010467595, 0.011082876, 0.011037522, 0.010913831, 0.011371287, 0.012818899, 0.010922954]\n",
      "2021-02-19 20:20:31,490 : INFO : merging changes from 1204 documents into a model of 3204 documents\n",
      "2021-02-19 20:20:31,506 : INFO : topic #89 (0.008): 0.001*\"lead\" + 0.001*\"debug\" + 0.001*\"major\" + 0.001*\"divid\" + 0.001*\"column\" + 0.001*\"verifi\" + 0.001*\"repetit\" + 0.001*\"reduc\" + 0.001*\"quit\" + 0.001*\"maximum\"\n",
      "2021-02-19 20:20:31,507 : INFO : topic #5 (0.009): 0.090*\"pattern\" + 0.086*\"game\" + 0.053*\"-\" + 0.045*\"mutual\" + 0.042*\"exclus\" + 0.041*\"play\" + 0.038*\"incorpor\" + 0.037*\"case\" + 0.037*\"all\" + 0.036*\"graph\"\n",
      "2021-02-19 20:20:31,507 : INFO : topic #21 (0.015): 0.048*\"to\" + 0.036*\",\" + 0.031*\"and\" + 0.029*\"in\" + 0.021*\"are\" + 0.020*\"be\" + 0.020*\"that\" + 0.020*\"is\" + 0.017*\"use\" + 0.016*\"it\"\n",
      "2021-02-19 20:20:31,508 : INFO : topic #71 (0.015): 0.363*\"s\" + 0.336*\"'\" + 0.105*\"integr\" + 0.045*\"algorithm\" + 0.017*\"(\" + 0.015*\"rule\" + 0.012*\"definit\" + 0.012*\"simpson\" + 0.010*\"d1\" + 0.010*\"adapt\"\n",
      "2021-02-19 20:20:31,508 : INFO : topic #80 (0.028): 0.405*\"(\" + 0.376*\")\" + 0.183*\"algorithm\" + 0.008*\"complex\" + 0.005*\"program\" + 0.005*\"exponenti\" + 0.003*\"finit\" + 0.003*\"remark\" + 0.003*\"number\" + 0.003*\"logarithm\"\n",
      "2021-02-19 20:20:31,510 : INFO : topic diff=0.443970, rho=0.307119\n",
      "2021-02-19 20:20:31,522 : INFO : PROGRESS: pass 9, at document #2000/3204\n"
     ]
    },
    {
     "name": "stderr",
     "output_type": "stream",
     "text": [
      "2021-02-19 20:20:33,287 : INFO : optimized alpha [0.011472539, 0.011497583, 0.011116064, 0.010865254, 0.011130836, 0.0092455745, 0.011376386, 0.010298613, 0.009410122, 0.013180423, 0.01173721, 0.010183923, 0.010987331, 0.013364678, 0.013104778, 0.010579793, 0.012279808, 0.012417672, 0.012255065, 0.010600467, 0.011531324, 0.015011832, 0.01059139, 0.011105079, 0.011469781, 0.011630782, 0.013739756, 0.01204474, 0.01034076, 0.0116685415, 0.010629404, 0.010042395, 0.011021753, 0.012739654, 0.011527379, 0.01073097, 0.011918142, 0.0125248, 0.009843607, 0.012295142, 0.011408622, 0.013002049, 0.012603728, 0.011822498, 0.011522424, 0.013945653, 0.011468674, 0.012161704, 0.010844289, 0.010494839, 0.012724224, 0.010220471, 0.010708477, 0.0113780955, 0.0118931085, 0.010353605, 0.011276131, 0.01235099, 0.009629255, 0.011600078, 0.011410667, 0.012597183, 0.011833966, 0.011884903, 0.010934045, 0.01151597, 0.00983055, 0.010957323, 0.011170278, 0.010372027, 0.011342043, 0.0152803315, 0.010527988, 0.009433295, 0.01158288, 0.010662716, 0.011149664, 0.013347521, 0.009835897, 0.013226213, 0.029930927, 0.009754621, 0.010817613, 0.011248581, 0.010076568, 0.011123807, 0.010546641, 0.010123732, 0.012677707, 0.0076603605, 0.01133347, 0.011681263, 0.010957446, 0.010456272, 0.011172575, 0.011073355, 0.010964976, 0.0114038065, 0.012934119, 0.01085563]\n",
      "2021-02-19 20:20:33,298 : INFO : merging changes from 2000 documents into a model of 3204 documents\n",
      "2021-02-19 20:20:33,315 : INFO : topic #89 (0.008): 0.001*\"lead\" + 0.001*\"debug\" + 0.001*\"major\" + 0.001*\"divid\" + 0.001*\"column\" + 0.001*\"verifi\" + 0.001*\"repetit\" + 0.001*\"reduc\" + 0.001*\"quit\" + 0.001*\"maximum\"\n",
      "2021-02-19 20:20:33,316 : INFO : topic #5 (0.009): 0.091*\"pattern\" + 0.073*\"game\" + 0.059*\"-\" + 0.043*\"mutual\" + 0.043*\"exclus\" + 0.040*\"incorpor\" + 0.038*\"case\" + 0.037*\"all\" + 0.036*\"graph\" + 0.035*\"play\"\n",
      "2021-02-19 20:20:33,318 : INFO : topic #21 (0.015): 0.048*\"to\" + 0.036*\",\" + 0.031*\"and\" + 0.029*\"in\" + 0.021*\"be\" + 0.021*\"are\" + 0.020*\"that\" + 0.020*\"is\" + 0.017*\"use\" + 0.016*\"it\"\n",
      "2021-02-19 20:20:33,319 : INFO : topic #71 (0.015): 0.350*\"s\" + 0.325*\"'\" + 0.121*\"integr\" + 0.042*\"algorithm\" + 0.016*\"(\" + 0.016*\"rule\" + 0.014*\"simpson\" + 0.013*\"s15\" + 0.013*\"ellipt\" + 0.012*\"definit\"\n",
      "2021-02-19 20:20:33,320 : INFO : topic #80 (0.030): 0.399*\"(\" + 0.375*\")\" + 0.191*\"algorithm\" + 0.008*\"complex\" + 0.005*\"exponenti\" + 0.004*\"program\" + 0.004*\"logarithm\" + 0.003*\"finit\" + 0.003*\"number\" + 0.002*\"remark\"\n",
      "2021-02-19 20:20:33,321 : INFO : topic diff=0.383361, rho=0.293585\n",
      "2021-02-19 20:20:35,370 : INFO : -6.381 per-word bound, 83.4 perplexity estimate based on a held-out corpus of 1204 documents with 79462 words\n",
      "2021-02-19 20:20:35,371 : INFO : PROGRESS: pass 9, at document #3204/3204\n",
      "2021-02-19 20:20:37,212 : INFO : optimized alpha [0.011612302, 0.011583119, 0.011268617, 0.010984652, 0.011291166, 0.009323556, 0.011451489, 0.0103893485, 0.009438694, 0.013527798, 0.011909182, 0.010259945, 0.011098789, 0.013624614, 0.013328201, 0.010688372, 0.012522557, 0.01250651, 0.012418204, 0.010750689, 0.011683985, 0.015492731, 0.01065283, 0.011243517, 0.011614263, 0.011819213, 0.013935807, 0.012242189, 0.010434712, 0.011923409, 0.010727856, 0.010087693, 0.011107597, 0.012972848, 0.011595615, 0.0108979475, 0.01205903, 0.012425352, 0.009917235, 0.012500722, 0.011603555, 0.013332877, 0.0128925955, 0.011961873, 0.011588541, 0.0142697925, 0.011686668, 0.012374593, 0.010966201, 0.010603682, 0.012985974, 0.010357325, 0.010801682, 0.011522004, 0.012094237, 0.010470217, 0.011438407, 0.012559929, 0.00967346, 0.011796013, 0.011619199, 0.012770532, 0.0119797485, 0.012135628, 0.011065367, 0.01163937, 0.0098786345, 0.011004052, 0.011329588, 0.0104342615, 0.011468194, 0.015698092, 0.010682615, 0.009445229, 0.011757315, 0.010786998, 0.011291937, 0.013609298, 0.00989478, 0.013548259, 0.031233072, 0.009787565, 0.010961518, 0.011446908, 0.010196216, 0.01130516, 0.010601687, 0.010213593, 0.012908814, 0.0075918487, 0.011538806, 0.011739552, 0.011016801, 0.010578993, 0.011269526, 0.01118306, 0.011122645, 0.011502091, 0.013271022, 0.010988415]\n",
      "2021-02-19 20:20:37,222 : INFO : merging changes from 1204 documents into a model of 3204 documents\n",
      "2021-02-19 20:20:37,236 : INFO : topic #89 (0.008): 0.001*\"lead\" + 0.001*\"debug\" + 0.001*\"major\" + 0.001*\"divid\" + 0.001*\"column\" + 0.001*\"verifi\" + 0.001*\"repetit\" + 0.001*\"reduc\" + 0.001*\"quit\" + 0.001*\"maximum\"\n",
      "2021-02-19 20:20:37,237 : INFO : topic #5 (0.009): 0.121*\"pattern\" + 0.081*\"game\" + 0.052*\"-\" + 0.043*\"mutual\" + 0.041*\"all\" + 0.040*\"exclus\" + 0.038*\"play\" + 0.038*\"case\" + 0.038*\"graph\" + 0.037*\"incorpor\"\n",
      "2021-02-19 20:20:37,237 : INFO : topic #21 (0.015): 0.048*\"to\" + 0.036*\",\" + 0.031*\"and\" + 0.029*\"in\" + 0.021*\"are\" + 0.021*\"be\" + 0.021*\"that\" + 0.020*\"is\" + 0.017*\"use\" + 0.016*\"have\"\n",
      "2021-02-19 20:20:37,238 : INFO : topic #71 (0.016): 0.370*\"s\" + 0.342*\"'\" + 0.106*\"integr\" + 0.042*\"algorithm\" + 0.015*\"rule\" + 0.014*\"(\" + 0.012*\"simpson\" + 0.012*\"definit\" + 0.010*\"d1\" + 0.010*\"adapt\"\n",
      "2021-02-19 20:20:37,238 : INFO : topic #80 (0.031): 0.409*\"(\" + 0.379*\")\" + 0.180*\"algorithm\" + 0.007*\"complex\" + 0.005*\"program\" + 0.005*\"exponenti\" + 0.004*\"finit\" + 0.003*\"logarithm\" + 0.002*\"number\" + 0.002*\"remark\"\n",
      "2021-02-19 20:20:37,240 : INFO : topic diff=0.389667, rho=0.293585\n",
      "2021-02-19 20:20:37,252 : INFO : PROGRESS: pass 10, at document #2000/3204\n",
      "2021-02-19 20:20:38,936 : INFO : optimized alpha [0.011672519, 0.0116729, 0.011353921, 0.010991676, 0.011322475, 0.009303343, 0.0116008725, 0.010393388, 0.009423916, 0.013611533, 0.011997316, 0.010294169, 0.011109711, 0.013864565, 0.013518003, 0.010732851, 0.012499236, 0.012672582, 0.012581783, 0.010776962, 0.011697559, 0.015510303, 0.010727335, 0.011304696, 0.011655571, 0.011786161, 0.013974386, 0.012245389, 0.010431125, 0.01194503, 0.010772321, 0.010136223, 0.011153042, 0.013196154, 0.011715145, 0.010898874, 0.012180006, 0.012769765, 0.009958292, 0.012493991, 0.0116046695, 0.013335864, 0.012848439, 0.012018317, 0.01173003, 0.014285898, 0.011731564, 0.012427593, 0.010969651, 0.010636238, 0.013144374, 0.010389773, 0.010833262, 0.0115441, 0.012148643, 0.010457104, 0.011441855, 0.012698433, 0.009659546, 0.011789663, 0.011696407, 0.012930084, 0.012062507, 0.012220692, 0.0110720545, 0.011773857, 0.009917928, 0.011135369, 0.011325559, 0.010437384, 0.011522719, 0.01597714, 0.010710876, 0.009494437, 0.011753887, 0.0108598, 0.011285368, 0.013654688, 0.009941266, 0.013706672, 0.033172466, 0.009849931, 0.0109593235, 0.0114357555, 0.01026787, 0.011286581, 0.01070469, 0.01019513, 0.012934896, 0.007541555, 0.011573857, 0.011925594, 0.011093086, 0.010570968, 0.011364415, 0.011215932, 0.011173265, 0.011533594, 0.013387403, 0.010922236]\n",
      "2021-02-19 20:20:38,946 : INFO : merging changes from 2000 documents into a model of 3204 documents\n",
      "2021-02-19 20:20:38,962 : INFO : topic #89 (0.008): 0.001*\"lead\" + 0.001*\"debug\" + 0.001*\"major\" + 0.001*\"divid\" + 0.001*\"column\" + 0.001*\"verifi\" + 0.001*\"repetit\" + 0.001*\"reduc\" + 0.001*\"quit\" + 0.001*\"maximum\"\n",
      "2021-02-19 20:20:38,963 : INFO : topic #5 (0.009): 0.120*\"pattern\" + 0.071*\"game\" + 0.057*\"-\" + 0.042*\"mutual\" + 0.041*\"all\" + 0.041*\"exclus\" + 0.039*\"incorpor\" + 0.038*\"case\" + 0.037*\"graph\" + 0.033*\"play\"\n",
      "2021-02-19 20:20:38,964 : INFO : topic #21 (0.016): 0.049*\"to\" + 0.036*\",\" + 0.031*\"and\" + 0.030*\"in\" + 0.022*\"be\" + 0.021*\"are\" + 0.021*\"that\" + 0.020*\"is\" + 0.017*\"use\" + 0.017*\"have\"\n",
      "2021-02-19 20:20:38,965 : INFO : topic #71 (0.016): 0.357*\"s\" + 0.331*\"'\" + 0.121*\"integr\" + 0.039*\"algorithm\" + 0.015*\"rule\" + 0.014*\"simpson\" + 0.013*\"s15\" + 0.013*\"ellipt\" + 0.013*\"(\" + 0.011*\"adapt\"\n",
      "2021-02-19 20:20:38,965 : INFO : topic #80 (0.033): 0.403*\"(\" + 0.377*\")\" + 0.188*\"algorithm\" + 0.006*\"complex\" + 0.005*\"exponenti\" + 0.004*\"program\" + 0.004*\"logarithm\" + 0.003*\"finit\" + 0.002*\"number\" + 0.002*\"remark\"\n",
      "2021-02-19 20:20:38,967 : INFO : topic diff=0.336536, rho=0.281696\n",
      "2021-02-19 20:20:40,985 : INFO : -6.370 per-word bound, 82.7 perplexity estimate based on a held-out corpus of 1204 documents with 79462 words\n",
      "2021-02-19 20:20:40,985 : INFO : PROGRESS: pass 10, at document #3204/3204\n",
      "2021-02-19 20:20:42,751 : INFO : optimized alpha [0.011815776, 0.011760621, 0.011506938, 0.011107076, 0.011477668, 0.009385424, 0.011675327, 0.010483519, 0.00945199, 0.013961342, 0.012183753, 0.010374869, 0.011233288, 0.014114587, 0.013740885, 0.0108427545, 0.012725985, 0.012757253, 0.012742452, 0.010924935, 0.011847966, 0.015970191, 0.010788905, 0.011438537, 0.011792517, 0.011962952, 0.014173894, 0.012436684, 0.010524468, 0.012193233, 0.010867354, 0.01017994, 0.011228011, 0.013425886, 0.011777718, 0.011060606, 0.012310102, 0.012667375, 0.010031784, 0.012693179, 0.011793546, 0.013635996, 0.013129242, 0.012158726, 0.011795908, 0.014594194, 0.011951592, 0.0126522705, 0.011087435, 0.010741453, 0.013418417, 0.010517441, 0.010928414, 0.011688781, 0.012346441, 0.010567422, 0.011596234, 0.012903958, 0.009707114, 0.011999317, 0.011893696, 0.013109614, 0.012214662, 0.012476712, 0.011206925, 0.011895567, 0.009976059, 0.011179791, 0.011477119, 0.010502551, 0.011655684, 0.016386466, 0.010886036, 0.009508309, 0.011931179, 0.010985001, 0.011441688, 0.013908749, 0.009995734, 0.014067324, 0.034473404, 0.009883943, 0.01110383, 0.011628109, 0.0103980005, 0.011481094, 0.010757411, 0.010286797, 0.013171547, 0.007478329, 0.011784306, 0.011986362, 0.011163217, 0.010692134, 0.011457818, 0.011324512, 0.011328623, 0.011628437, 0.01371715, 0.011053256]\n"
     ]
    },
    {
     "name": "stderr",
     "output_type": "stream",
     "text": [
      "2021-02-19 20:20:42,761 : INFO : merging changes from 1204 documents into a model of 3204 documents\n",
      "2021-02-19 20:20:42,776 : INFO : topic #89 (0.007): 0.001*\"lead\" + 0.001*\"debug\" + 0.001*\"major\" + 0.001*\"divid\" + 0.001*\"column\" + 0.001*\"verifi\" + 0.001*\"repetit\" + 0.001*\"reduc\" + 0.001*\"quit\" + 0.001*\"maximum\"\n",
      "2021-02-19 20:20:42,777 : INFO : topic #5 (0.009): 0.151*\"pattern\" + 0.078*\"game\" + 0.051*\"-\" + 0.043*\"all\" + 0.041*\"graph\" + 0.041*\"mutual\" + 0.038*\"exclus\" + 0.037*\"case\" + 0.036*\"incorpor\" + 0.036*\"play\"\n",
      "2021-02-19 20:20:42,778 : INFO : topic #21 (0.016): 0.048*\"to\" + 0.036*\",\" + 0.031*\"and\" + 0.030*\"in\" + 0.021*\"are\" + 0.021*\"be\" + 0.021*\"that\" + 0.019*\"is\" + 0.017*\"use\" + 0.017*\"have\"\n",
      "2021-02-19 20:20:42,779 : INFO : topic #71 (0.016): 0.374*\"s\" + 0.347*\"'\" + 0.107*\"integr\" + 0.039*\"algorithm\" + 0.015*\"rule\" + 0.012*\"definit\" + 0.012*\"simpson\" + 0.011*\"(\" + 0.010*\"adapt\" + 0.010*\"d1\"\n",
      "2021-02-19 20:20:42,780 : INFO : topic #80 (0.034): 0.412*\"(\" + 0.381*\")\" + 0.177*\"algorithm\" + 0.005*\"program\" + 0.005*\"complex\" + 0.005*\"exponenti\" + 0.004*\"finit\" + 0.003*\"logarithm\" + 0.002*\"number\" + 0.001*\"remark\"\n",
      "2021-02-19 20:20:42,781 : INFO : topic diff=0.344020, rho=0.281696\n",
      "2021-02-19 20:20:42,793 : INFO : PROGRESS: pass 11, at document #2000/3204\n",
      "2021-02-19 20:20:44,401 : INFO : optimized alpha [0.01187386, 0.011850958, 0.011592719, 0.0111152595, 0.01150601, 0.009371168, 0.011820843, 0.010497515, 0.009438338, 0.0140490765, 0.012272275, 0.01041087, 0.011245154, 0.01435198, 0.013924176, 0.010885683, 0.012704174, 0.0129188895, 0.012905462, 0.010951483, 0.011854186, 0.015988037, 0.010861247, 0.0114992475, 0.011827421, 0.011930449, 0.014214499, 0.012440734, 0.010519579, 0.012218037, 0.010908949, 0.010232652, 0.011275292, 0.013648457, 0.011884194, 0.011065544, 0.012427616, 0.013004182, 0.010072987, 0.0126965465, 0.011797224, 0.01365228, 0.013084686, 0.01221491, 0.011932032, 0.014613802, 0.01199593, 0.012701169, 0.011093671, 0.01077731, 0.013574685, 0.010558824, 0.0109679485, 0.011708242, 0.012401801, 0.010553282, 0.011597547, 0.013042119, 0.009695474, 0.011992192, 0.011971521, 0.01326849, 0.01230465, 0.012570647, 0.011216258, 0.012031343, 0.010012907, 0.011307567, 0.01147756, 0.010507283, 0.011709984, 0.016659772, 0.010926204, 0.009556201, 0.0119288955, 0.011058546, 0.011436478, 0.01395541, 0.010043601, 0.01424482, 0.036490433, 0.009949907, 0.011101395, 0.011621314, 0.010470247, 0.011476541, 0.010858998, 0.010269101, 0.013208642, 0.007431802, 0.011820769, 0.012166274, 0.011244942, 0.01068273, 0.011554716, 0.011356248, 0.011385033, 0.01166696, 0.013833231, 0.010991057]\n",
      "2021-02-19 20:20:44,412 : INFO : merging changes from 2000 documents into a model of 3204 documents\n",
      "2021-02-19 20:20:44,432 : INFO : topic #89 (0.007): 0.001*\"lead\" + 0.001*\"debug\" + 0.001*\"major\" + 0.001*\"divid\" + 0.001*\"column\" + 0.001*\"verifi\" + 0.001*\"repetit\" + 0.001*\"reduc\" + 0.001*\"quit\" + 0.001*\"maximum\"\n",
      "2021-02-19 20:20:44,434 : INFO : topic #5 (0.009): 0.148*\"pattern\" + 0.069*\"game\" + 0.056*\"-\" + 0.043*\"all\" + 0.040*\"graph\" + 0.040*\"mutual\" + 0.039*\"exclus\" + 0.038*\"case\" + 0.038*\"incorpor\" + 0.032*\"play\"\n",
      "2021-02-19 20:20:44,435 : INFO : topic #21 (0.016): 0.049*\"to\" + 0.036*\",\" + 0.031*\"and\" + 0.030*\"in\" + 0.022*\"be\" + 0.022*\"are\" + 0.021*\"that\" + 0.019*\"is\" + 0.017*\"use\" + 0.017*\"have\"\n",
      "2021-02-19 20:20:44,436 : INFO : topic #71 (0.017): 0.362*\"s\" + 0.336*\"'\" + 0.121*\"integr\" + 0.037*\"algorithm\" + 0.015*\"rule\" + 0.014*\"simpson\" + 0.013*\"s15\" + 0.013*\"ellipt\" + 0.011*\"definit\" + 0.011*\"adapt\"\n",
      "2021-02-19 20:20:44,437 : INFO : topic #80 (0.036): 0.406*\"(\" + 0.379*\")\" + 0.186*\"algorithm\" + 0.005*\"exponenti\" + 0.005*\"program\" + 0.004*\"complex\" + 0.004*\"logarithm\" + 0.003*\"finit\" + 0.001*\"number\" + 0.001*\"remark\"\n",
      "2021-02-19 20:20:44,439 : INFO : topic diff=0.297720, rho=0.271143\n",
      "2021-02-19 20:20:46,409 : INFO : -6.361 per-word bound, 82.2 perplexity estimate based on a held-out corpus of 1204 documents with 79462 words\n",
      "2021-02-19 20:20:46,410 : INFO : PROGRESS: pass 11, at document #3204/3204\n",
      "2021-02-19 20:20:48,099 : INFO : optimized alpha [0.01200741, 0.011935589, 0.011741342, 0.011227087, 0.011654075, 0.009450806, 0.011892229, 0.010584873, 0.009465965, 0.014411619, 0.012461779, 0.010486674, 0.011354722, 0.014602423, 0.014147104, 0.010997044, 0.012936351, 0.012993928, 0.013072766, 0.011100146, 0.0120054195, 0.016458027, 0.010920653, 0.011636964, 0.011960155, 0.012104751, 0.014388226, 0.012626441, 0.010612517, 0.0124547295, 0.011000936, 0.0102749225, 0.011350355, 0.013875195, 0.011944365, 0.011230291, 0.012550533, 0.0129048675, 0.010139632, 0.012884313, 0.011986152, 0.013970785, 0.013367134, 0.01234807, 0.011995174, 0.014910836, 0.0122104855, 0.012914292, 0.011207879, 0.010874359, 0.013861407, 0.010677989, 0.011062616, 0.011851216, 0.012605164, 0.010662639, 0.011749911, 0.013244909, 0.0097418, 0.012196249, 0.012169119, 0.013451436, 0.012463223, 0.012832645, 0.011349627, 0.012151646, 0.010071496, 0.011347327, 0.011632592, 0.010575319, 0.011838905, 0.017061096, 0.01112407, 0.009569757, 0.0121147055, 0.01117993, 0.011588281, 0.014206038, 0.010103069, 0.014612876, 0.037753258, 0.0099894395, 0.011241706, 0.011811012, 0.010617868, 0.011665791, 0.010917031, 0.010358029, 0.01344212, 0.0073731416, 0.012015126, 0.012226767, 0.01131009, 0.010802667, 0.011644893, 0.0114587955, 0.011538505, 0.01176409, 0.014175252, 0.011115651]\n",
      "2021-02-19 20:20:48,109 : INFO : merging changes from 1204 documents into a model of 3204 documents\n",
      "2021-02-19 20:20:48,124 : INFO : topic #89 (0.007): 0.001*\"lead\" + 0.001*\"debug\" + 0.001*\"major\" + 0.001*\"divid\" + 0.001*\"column\" + 0.001*\"verifi\" + 0.001*\"repetit\" + 0.001*\"reduc\" + 0.001*\"quit\" + 0.001*\"maximum\"\n",
      "2021-02-19 20:20:48,125 : INFO : topic #5 (0.009): 0.173*\"pattern\" + 0.076*\"game\" + 0.051*\"-\" + 0.046*\"all\" + 0.043*\"graph\" + 0.040*\"mutual\" + 0.037*\"case\" + 0.037*\"exclus\" + 0.036*\"incorpor\" + 0.035*\"play\"\n",
      "2021-02-19 20:20:48,125 : INFO : topic #21 (0.016): 0.049*\"to\" + 0.036*\",\" + 0.031*\"and\" + 0.030*\"in\" + 0.022*\"are\" + 0.022*\"be\" + 0.021*\"that\" + 0.019*\"is\" + 0.017*\"have\" + 0.017*\"use\"\n",
      "2021-02-19 20:20:48,126 : INFO : topic #71 (0.017): 0.378*\"s\" + 0.350*\"'\" + 0.108*\"integr\" + 0.036*\"algorithm\" + 0.014*\"rule\" + 0.012*\"definit\" + 0.012*\"simpson\" + 0.010*\"adapt\" + 0.010*\"d1\" + 0.010*\"s15\"\n",
      "2021-02-19 20:20:48,126 : INFO : topic #80 (0.038): 0.415*\"(\" + 0.383*\")\" + 0.175*\"algorithm\" + 0.006*\"program\" + 0.004*\"exponenti\" + 0.004*\"complex\" + 0.004*\"finit\" + 0.003*\"logarithm\" + 0.001*\"number\" + 0.001*\"remark\"\n",
      "2021-02-19 20:20:48,127 : INFO : topic diff=0.304869, rho=0.271143\n",
      "2021-02-19 20:20:48,139 : INFO : PROGRESS: pass 12, at document #2000/3204\n",
      "2021-02-19 20:20:49,750 : INFO : optimized alpha [0.012058877, 0.01202188, 0.011827746, 0.011234899, 0.0116843255, 0.009439581, 0.0120358225, 0.01060264, 0.009452067, 0.014495797, 0.012555824, 0.010524468, 0.011370715, 0.014843532, 0.014331694, 0.011037163, 0.012917519, 0.013151618, 0.013233764, 0.011122589, 0.012012659, 0.016467296, 0.010991023, 0.011697361, 0.01199537, 0.012082355, 0.014427134, 0.012624689, 0.01061211, 0.0124827195, 0.011039866, 0.010324927, 0.011394823, 0.014097242, 0.012052787, 0.011242025, 0.012666582, 0.013236705, 0.010181024, 0.0128851365, 0.011988997, 0.01398858, 0.013322112, 0.012407338, 0.012127918, 0.0149242515, 0.012252798, 0.012952444, 0.01121378, 0.01091488, 0.014012319, 0.010719469, 0.011105366, 0.0118744075, 0.0126648685, 0.010650326, 0.011749219, 0.01337601, 0.009730956, 0.012190123, 0.012242881, 0.013609978, 0.012550524, 0.012930504, 0.01135842, 0.0122841615, 0.0101113375, 0.011473389, 0.011643472, 0.0105815185, 0.011900953, 0.01732888, 0.011171322, 0.0096177235, 0.01211824, 0.011252861, 0.011589001, 0.014250256, 0.010152303, 0.014796017, 0.03982951, 0.010056285, 0.011244921, 0.011802129, 0.010689452, 0.011666954, 0.011018969, 0.010341042, 0.01348429, 0.007329888, 0.012053143, 0.012401111, 0.011394071, 0.010799113, 0.011743872, 0.011489536, 0.0115869185, 0.011801475, 0.014287452, 0.0110526895]\n",
      "2021-02-19 20:20:49,759 : INFO : merging changes from 2000 documents into a model of 3204 documents\n",
      "2021-02-19 20:20:49,778 : INFO : topic #89 (0.007): 0.001*\"lead\" + 0.001*\"debug\" + 0.001*\"major\" + 0.001*\"divid\" + 0.001*\"column\" + 0.001*\"verifi\" + 0.001*\"repetit\" + 0.001*\"reduc\" + 0.001*\"quit\" + 0.001*\"maximum\"\n"
     ]
    },
    {
     "name": "stderr",
     "output_type": "stream",
     "text": [
      "2021-02-19 20:20:49,780 : INFO : topic #8 (0.009): 0.480*\"schedul\" + 0.214*\"algorithm\" + 0.172*\"path\" + 0.052*\"critic\" + 0.035*\"40\" + 0.000*\"(\" + 0.000*\")\" + 0.000*\"'\" + 0.000*\"s\" + 0.000*\"simpson\"\n",
      "2021-02-19 20:20:49,781 : INFO : topic #21 (0.016): 0.049*\"to\" + 0.036*\",\" + 0.031*\"and\" + 0.030*\"in\" + 0.022*\"are\" + 0.022*\"be\" + 0.022*\"that\" + 0.019*\"is\" + 0.017*\"have\" + 0.017*\"use\"\n",
      "2021-02-19 20:20:49,782 : INFO : topic #71 (0.017): 0.365*\"s\" + 0.340*\"'\" + 0.121*\"integr\" + 0.034*\"algorithm\" + 0.015*\"rule\" + 0.014*\"simpson\" + 0.013*\"s15\" + 0.013*\"ellipt\" + 0.011*\"definit\" + 0.011*\"adapt\"\n",
      "2021-02-19 20:20:49,783 : INFO : topic #80 (0.040): 0.408*\"(\" + 0.381*\")\" + 0.184*\"algorithm\" + 0.005*\"program\" + 0.005*\"exponenti\" + 0.004*\"logarithm\" + 0.003*\"finit\" + 0.003*\"complex\" + 0.001*\"number\" + 0.001*\"remark\"\n",
      "2021-02-19 20:20:49,785 : INFO : topic diff=0.265076, rho=0.261694\n",
      "2021-02-19 20:20:51,752 : INFO : -6.353 per-word bound, 81.7 perplexity estimate based on a held-out corpus of 1204 documents with 79462 words\n",
      "2021-02-19 20:20:51,753 : INFO : PROGRESS: pass 12, at document #3204/3204\n",
      "2021-02-19 20:20:53,421 : INFO : optimized alpha [0.012193877, 0.012103756, 0.011982712, 0.0113411145, 0.011833544, 0.009525328, 0.012104414, 0.010696836, 0.009479292, 0.014875187, 0.012740695, 0.01060036, 0.011482178, 0.015088322, 0.014558209, 0.011145339, 0.013141176, 0.013223482, 0.013404882, 0.011264828, 0.012159743, 0.016918179, 0.011048479, 0.011831385, 0.0121216895, 0.012243923, 0.01461524, 0.012799782, 0.010711784, 0.012716806, 0.011126759, 0.010365921, 0.011467515, 0.014324484, 0.012121238, 0.011410003, 0.012782868, 0.013137274, 0.010250185, 0.013070734, 0.012173121, 0.014306866, 0.0135921175, 0.012528435, 0.012188497, 0.015210802, 0.01246218, 0.0131662125, 0.011327197, 0.01101633, 0.014287784, 0.010840054, 0.011204608, 0.012010872, 0.012865814, 0.010761295, 0.011900009, 0.013576553, 0.009778304, 0.012389102, 0.012446587, 0.013793794, 0.012693871, 0.01319611, 0.011485647, 0.012403365, 0.010170437, 0.011511346, 0.011794448, 0.010650013, 0.012036824, 0.017722558, 0.011387092, 0.009630987, 0.012302078, 0.011363431, 0.011734251, 0.0144946575, 0.010207761, 0.015165605, 0.04106539, 0.0100989, 0.011386314, 0.011981815, 0.0108380625, 0.011867033, 0.011074949, 0.010427513, 0.013715123, 0.007275214, 0.012250753, 0.012464332, 0.0114570465, 0.010918085, 0.011841526, 0.011584063, 0.011746429, 0.011895699, 0.014614342, 0.011173847]\n",
      "2021-02-19 20:20:53,431 : INFO : merging changes from 1204 documents into a model of 3204 documents\n",
      "2021-02-19 20:20:53,446 : INFO : topic #89 (0.007): 0.001*\"lead\" + 0.001*\"debug\" + 0.001*\"major\" + 0.001*\"divid\" + 0.001*\"column\" + 0.001*\"verifi\" + 0.001*\"repetit\" + 0.001*\"reduc\" + 0.001*\"quit\" + 0.001*\"maximum\"\n",
      "2021-02-19 20:20:53,447 : INFO : topic #8 (0.009): 0.490*\"schedul\" + 0.219*\"algorithm\" + 0.175*\"path\" + 0.044*\"critic\" + 0.029*\"40\" + 0.000*\"(\" + 0.000*\")\" + 0.000*\"'\" + 0.000*\"s\" + 0.000*\"simpson\"\n",
      "2021-02-19 20:20:53,448 : INFO : topic #21 (0.017): 0.049*\"to\" + 0.036*\",\" + 0.031*\"and\" + 0.030*\"in\" + 0.022*\"are\" + 0.022*\"that\" + 0.022*\"be\" + 0.018*\"is\" + 0.017*\"have\" + 0.017*\"use\"\n",
      "2021-02-19 20:20:53,449 : INFO : topic #71 (0.018): 0.381*\"s\" + 0.353*\"'\" + 0.108*\"integr\" + 0.034*\"algorithm\" + 0.014*\"rule\" + 0.012*\"simpson\" + 0.012*\"definit\" + 0.010*\"adapt\" + 0.010*\"d1\" + 0.010*\"s15\"\n",
      "2021-02-19 20:20:53,449 : INFO : topic #80 (0.041): 0.417*\"(\" + 0.384*\")\" + 0.173*\"algorithm\" + 0.006*\"program\" + 0.004*\"exponenti\" + 0.004*\"finit\" + 0.003*\"complex\" + 0.003*\"logarithm\" + 0.001*\"number\" + 0.001*\"remark\"\n",
      "2021-02-19 20:20:53,450 : INFO : topic diff=0.271929, rho=0.261694\n",
      "2021-02-19 20:20:53,461 : INFO : PROGRESS: pass 13, at document #2000/3204\n",
      "2021-02-19 20:20:55,025 : INFO : optimized alpha [0.012245294, 0.012187902, 0.012068375, 0.011348648, 0.011859585, 0.009514483, 0.012244842, 0.010718159, 0.009466373, 0.01497903, 0.012845204, 0.010634478, 0.01149911, 0.015323887, 0.014737156, 0.0111884745, 0.013125199, 0.013379303, 0.013566, 0.011289132, 0.0121679455, 0.016936848, 0.011115744, 0.011893073, 0.012157261, 0.012224923, 0.014654429, 0.012797457, 0.010715482, 0.012739744, 0.011163226, 0.010416069, 0.011515405, 0.014542804, 0.012233336, 0.011420874, 0.01290421, 0.013461456, 0.01029313, 0.0130709, 0.0121752, 0.014328025, 0.01355032, 0.012584378, 0.012322879, 0.0152202565, 0.012504217, 0.013211147, 0.011332847, 0.011054306, 0.014444581, 0.010881599, 0.011247642, 0.012037788, 0.012924954, 0.0107506, 0.011898908, 0.013702715, 0.009768139, 0.012388791, 0.0125228455, 0.013948803, 0.01278204, 0.013291115, 0.011495439, 0.012534516, 0.010215801, 0.011637508, 0.011801545, 0.010653458, 0.01210177, 0.017987324, 0.011444196, 0.009677891, 0.012312763, 0.011441685, 0.011734611, 0.014538595, 0.010255776, 0.015368484, 0.04320842, 0.010164145, 0.011392092, 0.011974048, 0.010911805, 0.011877991, 0.011178833, 0.010412479, 0.01375178, 0.007234844, 0.012288705, 0.01263673, 0.011552232, 0.01091308, 0.011942737, 0.011616903, 0.011797631, 0.011930522, 0.0147247445, 0.011114399]\n",
      "2021-02-19 20:20:55,035 : INFO : merging changes from 2000 documents into a model of 3204 documents\n",
      "2021-02-19 20:20:55,054 : INFO : topic #89 (0.007): 0.001*\"lead\" + 0.001*\"debug\" + 0.001*\"major\" + 0.001*\"divid\" + 0.001*\"column\" + 0.001*\"verifi\" + 0.001*\"repetit\" + 0.001*\"reduc\" + 0.001*\"quit\" + 0.001*\"maximum\"\n",
      "2021-02-19 20:20:55,055 : INFO : topic #8 (0.009): 0.482*\"schedul\" + 0.211*\"algorithm\" + 0.173*\"path\" + 0.052*\"critic\" + 0.034*\"40\" + 0.000*\"(\" + 0.000*\")\" + 0.000*\"'\" + 0.000*\"s\" + 0.000*\"simpson\"\n",
      "2021-02-19 20:20:55,056 : INFO : topic #21 (0.017): 0.050*\"to\" + 0.036*\",\" + 0.031*\"and\" + 0.030*\"in\" + 0.022*\"are\" + 0.022*\"be\" + 0.022*\"that\" + 0.018*\"is\" + 0.018*\"have\" + 0.017*\"use\"\n",
      "2021-02-19 20:20:55,057 : INFO : topic #71 (0.018): 0.368*\"s\" + 0.343*\"'\" + 0.122*\"integr\" + 0.032*\"algorithm\" + 0.015*\"rule\" + 0.015*\"simpson\" + 0.013*\"s15\" + 0.013*\"ellipt\" + 0.011*\"adapt\" + 0.011*\"definit\"\n",
      "2021-02-19 20:20:55,058 : INFO : topic #80 (0.043): 0.411*\"(\" + 0.382*\")\" + 0.182*\"algorithm\" + 0.005*\"program\" + 0.005*\"exponenti\" + 0.004*\"logarithm\" + 0.003*\"finit\" + 0.002*\"complex\" + 0.001*\"number\" + 0.001*\"remark\"\n",
      "2021-02-19 20:20:55,059 : INFO : topic diff=0.237802, rho=0.253169\n",
      "2021-02-19 20:20:56,961 : INFO : -6.346 per-word bound, 81.4 perplexity estimate based on a held-out corpus of 1204 documents with 79462 words\n",
      "2021-02-19 20:20:56,962 : INFO : PROGRESS: pass 13, at document #3204/3204\n",
      "2021-02-19 20:20:58,622 : INFO : optimized alpha [0.012371563, 0.012267276, 0.0122272745, 0.011452064, 0.012005077, 0.009598057, 0.012310896, 0.01080991, 0.00949324, 0.0153631335, 0.013025788, 0.010708318, 0.011607707, 0.015573205, 0.014961407, 0.011293781, 0.013352116, 0.013451089, 0.013732849, 0.011427922, 0.0123139, 0.017384294, 0.011171465, 0.012018566, 0.012280257, 0.01238781, 0.014831267, 0.012973648, 0.0108148735, 0.012971707, 0.011247759, 0.01045807, 0.011578662, 0.014773929, 0.012302069, 0.011584924, 0.013025116, 0.013359094, 0.01036476, 0.013263167, 0.012357635, 0.014634357, 0.013814408, 0.012710248, 0.012381176, 0.015513247, 0.012714456, 0.013426006, 0.011448129, 0.011155442, 0.014721473, 0.011003809, 0.011346688, 0.012170753, 0.013126736, 0.010861046, 0.012045901, 0.013895561, 0.0098144235, 0.012585964, 0.012727397, 0.014127756, 0.012935022, 0.013563536, 0.011621846, 0.012650226, 0.010277623, 0.011678745, 0.011953824, 0.010720249, 0.012236754, 0.018373655, 0.011692442, 0.00969089, 0.012487043, 0.011554171, 0.011881215, 0.01478063, 0.010311837, 0.015740316, 0.04442453, 0.010214005, 0.011534793, 0.012152058, 0.011063895, 0.012084019, 0.011232956, 0.010496758, 0.0139804445, 0.0071836733, 0.012476758, 0.012697278, 0.011615623, 0.011029046, 0.01203242, 0.011711284, 0.011950913, 0.012024846, 0.0150524285, 0.01123484]\n",
      "2021-02-19 20:20:58,632 : INFO : merging changes from 1204 documents into a model of 3204 documents\n",
      "2021-02-19 20:20:58,647 : INFO : topic #89 (0.007): 0.001*\"lead\" + 0.001*\"debug\" + 0.001*\"major\" + 0.001*\"divid\" + 0.001*\"column\" + 0.001*\"verifi\" + 0.001*\"repetit\" + 0.001*\"reduc\" + 0.001*\"quit\" + 0.001*\"maximum\"\n",
      "2021-02-19 20:20:58,648 : INFO : topic #8 (0.009): 0.491*\"schedul\" + 0.217*\"algorithm\" + 0.175*\"path\" + 0.045*\"critic\" + 0.029*\"40\" + 0.000*\"(\" + 0.000*\")\" + 0.000*\"'\" + 0.000*\"s\" + 0.000*\"simpson\"\n"
     ]
    },
    {
     "name": "stderr",
     "output_type": "stream",
     "text": [
      "2021-02-19 20:20:58,649 : INFO : topic #21 (0.017): 0.049*\"to\" + 0.036*\",\" + 0.031*\"and\" + 0.030*\"in\" + 0.022*\"are\" + 0.022*\"that\" + 0.022*\"be\" + 0.018*\"is\" + 0.018*\"have\" + 0.016*\"use\"\n",
      "2021-02-19 20:20:58,649 : INFO : topic #71 (0.018): 0.383*\"s\" + 0.355*\"'\" + 0.109*\"integr\" + 0.031*\"algorithm\" + 0.014*\"rule\" + 0.012*\"simpson\" + 0.012*\"definit\" + 0.010*\"adapt\" + 0.010*\"d1\" + 0.010*\"s15\"\n",
      "2021-02-19 20:20:58,650 : INFO : topic #80 (0.044): 0.419*\"(\" + 0.385*\")\" + 0.170*\"algorithm\" + 0.006*\"program\" + 0.004*\"exponenti\" + 0.004*\"finit\" + 0.003*\"logarithm\" + 0.002*\"complex\" + 0.001*\"number\" + 0.001*\"remark\"\n",
      "2021-02-19 20:20:58,651 : INFO : topic diff=0.244251, rho=0.253169\n",
      "2021-02-19 20:20:58,661 : INFO : PROGRESS: pass 14, at document #2000/3204\n",
      "2021-02-19 20:21:00,220 : INFO : optimized alpha [0.012419998, 0.012350995, 0.012313853, 0.011459365, 0.012037531, 0.009589905, 0.0124499975, 0.010830674, 0.009482328, 0.015463434, 0.013131061, 0.010741614, 0.011627085, 0.015822817, 0.01514041, 0.011335728, 0.013342297, 0.013603636, 0.013892607, 0.011448443, 0.01231693, 0.017408183, 0.011237167, 0.012078622, 0.012313239, 0.0123658255, 0.014870903, 0.012969193, 0.010819774, 0.012993101, 0.011286059, 0.010505834, 0.011625449, 0.014990599, 0.01241318, 0.011596517, 0.013143875, 0.013677783, 0.010409258, 0.013267648, 0.012360574, 0.014657053, 0.0137721645, 0.012766207, 0.012512811, 0.015513078, 0.012754779, 0.013477531, 0.011456365, 0.011199253, 0.014877213, 0.011045473, 0.011391444, 0.012204231, 0.013182217, 0.010854588, 0.012048942, 0.014018713, 0.0098061105, 0.012589611, 0.012806196, 0.014279434, 0.0130178, 0.0136524625, 0.0116312, 0.012778641, 0.010330817, 0.011803659, 0.011969191, 0.010722495, 0.012301505, 0.018633327, 0.011750524, 0.009736821, 0.012500046, 0.011630586, 0.011885572, 0.014818656, 0.010361284, 0.015940046, 0.046617344, 0.010280272, 0.011542941, 0.012143898, 0.011137191, 0.012104581, 0.011330477, 0.010482235, 0.0140170725, 0.0071458453, 0.012517831, 0.012875891, 0.011713001, 0.01102406, 0.012134491, 0.0117446985, 0.012006446, 0.012060317, 0.015166941, 0.011177201]\n",
      "2021-02-19 20:21:00,230 : INFO : merging changes from 2000 documents into a model of 3204 documents\n",
      "2021-02-19 20:21:00,249 : INFO : topic #89 (0.007): 0.001*\"lead\" + 0.001*\"debug\" + 0.001*\"major\" + 0.001*\"divid\" + 0.001*\"column\" + 0.001*\"verifi\" + 0.001*\"repetit\" + 0.001*\"reduc\" + 0.001*\"quit\" + 0.001*\"maximum\"\n",
      "2021-02-19 20:21:00,250 : INFO : topic #8 (0.009): 0.484*\"schedul\" + 0.207*\"algorithm\" + 0.173*\"path\" + 0.052*\"critic\" + 0.035*\"40\" + 0.000*\"(\" + 0.000*\")\" + 0.000*\"'\" + 0.000*\"s\" + 0.000*\"simpson\"\n",
      "2021-02-19 20:21:00,252 : INFO : topic #21 (0.017): 0.050*\"to\" + 0.036*\",\" + 0.031*\"and\" + 0.030*\"in\" + 0.023*\"are\" + 0.022*\"be\" + 0.022*\"that\" + 0.018*\"is\" + 0.018*\"have\" + 0.017*\"use\"\n",
      "2021-02-19 20:21:00,253 : INFO : topic #71 (0.019): 0.371*\"s\" + 0.345*\"'\" + 0.122*\"integr\" + 0.030*\"algorithm\" + 0.015*\"rule\" + 0.015*\"simpson\" + 0.013*\"s15\" + 0.013*\"ellipt\" + 0.011*\"adapt\" + 0.011*\"definit\"\n",
      "2021-02-19 20:21:00,255 : INFO : topic #80 (0.047): 0.413*\"(\" + 0.383*\")\" + 0.180*\"algorithm\" + 0.006*\"program\" + 0.005*\"exponenti\" + 0.004*\"finit\" + 0.004*\"logarithm\" + 0.002*\"complex\" + 0.001*\"number\" + 0.000*\"remark\"\n",
      "2021-02-19 20:21:00,256 : INFO : topic diff=0.214787, rho=0.245426\n",
      "2021-02-19 20:21:02,188 : INFO : -6.339 per-word bound, 81.0 perplexity estimate based on a held-out corpus of 1204 documents with 79462 words\n",
      "2021-02-19 20:21:02,189 : INFO : PROGRESS: pass 14, at document #3204/3204\n",
      "2021-02-19 20:21:03,780 : INFO : optimized alpha [0.01254061, 0.012428089, 0.012471783, 0.011560244, 0.012182175, 0.009679327, 0.012513702, 0.010924618, 0.00950884, 0.015849775, 0.013315821, 0.010815743, 0.011735485, 0.01606718, 0.015359651, 0.0114384005, 0.013556096, 0.01367271, 0.01405247, 0.011586395, 0.012456865, 0.01785653, 0.011291301, 0.012201101, 0.0124332, 0.012527471, 0.01504648, 0.01314399, 0.010921202, 0.013223261, 0.011368408, 0.010551011, 0.011689396, 0.015222798, 0.012484772, 0.011764072, 0.013261527, 0.013575351, 0.010483361, 0.013455816, 0.012536447, 0.014979607, 0.014033767, 0.012899379, 0.012568985, 0.015800083, 0.012966044, 0.013693733, 0.011571303, 0.011297872, 0.015158883, 0.011160363, 0.0114880055, 0.012336509, 0.013387692, 0.010955706, 0.01219002, 0.014204256, 0.009851417, 0.0127800945, 0.013017333, 0.014459849, 0.013161809, 0.013920623, 0.011757041, 0.012896317, 0.010397428, 0.011843266, 0.012110658, 0.01078772, 0.012435783, 0.019012643, 0.012009943, 0.009749573, 0.012675684, 0.011737908, 0.012036187, 0.015052479, 0.0104137305, 0.016304445, 0.047758058, 0.0103308335, 0.011680082, 0.012318029, 0.011288476, 0.012321724, 0.011380623, 0.010566628, 0.0142439455, 0.0070977826, 0.012712347, 0.01293398, 0.011772092, 0.011137297, 0.0122341635, 0.011841517, 0.012161221, 0.012147281, 0.015489633, 0.011294803]\n",
      "2021-02-19 20:21:03,792 : INFO : merging changes from 1204 documents into a model of 3204 documents\n",
      "2021-02-19 20:21:03,809 : INFO : topic #89 (0.007): 0.001*\"lead\" + 0.001*\"debug\" + 0.001*\"major\" + 0.001*\"divid\" + 0.001*\"column\" + 0.001*\"verifi\" + 0.001*\"repetit\" + 0.001*\"reduc\" + 0.001*\"quit\" + 0.001*\"maximum\"\n",
      "2021-02-19 20:21:03,810 : INFO : topic #8 (0.010): 0.494*\"schedul\" + 0.212*\"algorithm\" + 0.176*\"path\" + 0.045*\"critic\" + 0.030*\"40\" + 0.000*\"(\" + 0.000*\")\" + 0.000*\"'\" + 0.000*\"s\" + 0.000*\"simpson\"\n",
      "2021-02-19 20:21:03,810 : INFO : topic #21 (0.018): 0.050*\"to\" + 0.036*\",\" + 0.031*\"and\" + 0.030*\"in\" + 0.023*\"are\" + 0.022*\"that\" + 0.022*\"be\" + 0.018*\"have\" + 0.018*\"is\" + 0.016*\"use\"\n",
      "2021-02-19 20:21:03,811 : INFO : topic #71 (0.019): 0.384*\"s\" + 0.357*\"'\" + 0.110*\"integr\" + 0.030*\"algorithm\" + 0.014*\"rule\" + 0.013*\"simpson\" + 0.012*\"definit\" + 0.010*\"adapt\" + 0.010*\"s15\" + 0.010*\"d1\"\n",
      "2021-02-19 20:21:03,811 : INFO : topic #80 (0.048): 0.420*\"(\" + 0.386*\")\" + 0.169*\"algorithm\" + 0.007*\"program\" + 0.004*\"exponenti\" + 0.004*\"finit\" + 0.003*\"logarithm\" + 0.002*\"complex\" + 0.001*\"number\" + 0.000*\"remark\"\n",
      "2021-02-19 20:21:03,813 : INFO : topic diff=0.220929, rho=0.245426\n",
      "2021-02-19 20:21:03,824 : INFO : PROGRESS: pass 15, at document #2000/3204\n",
      "2021-02-19 20:21:05,338 : INFO : optimized alpha [0.0125862425, 0.012509987, 0.012553363, 0.011567305, 0.012212088, 0.0096702045, 0.012654611, 0.010943526, 0.009497531, 0.015950749, 0.013429947, 0.010848262, 0.011758584, 0.016317682, 0.015542535, 0.011480626, 0.013538906, 0.013825481, 0.014217707, 0.011604749, 0.012463975, 0.017881162, 0.011355598, 0.012259738, 0.012462235, 0.0125116585, 0.01509569, 0.013140655, 0.010929877, 0.013241546, 0.011404465, 0.01059528, 0.011733795, 0.015436253, 0.012592147, 0.011777681, 0.013381033, 0.013889063, 0.010531852, 0.01346619, 0.012535665, 0.015009121, 0.013991113, 0.012952332, 0.012698066, 0.015805919, 0.013003118, 0.013740122, 0.011581939, 0.011341995, 0.015315339, 0.011199672, 0.011544193, 0.012365973, 0.013447646, 0.010948031, 0.012194158, 0.014331406, 0.009844833, 0.0127783185, 0.0130862165, 0.014610192, 0.013250316, 0.014022243, 0.011765995, 0.013025331, 0.010451979, 0.01196435, 0.012124003, 0.0107913995, 0.012500482, 0.0192696, 0.012073298, 0.009794614, 0.012686299, 0.011811207, 0.0120400265, 0.015094186, 0.010462137, 0.016518481, 0.049964488, 0.010396965, 0.011693393, 0.012309469, 0.011361434, 0.01234999, 0.011476212, 0.010552568, 0.014284048, 0.0070622168, 0.012756599, 0.013109599, 0.011868899, 0.011132292, 0.012337106, 0.011872674, 0.012222579, 0.012178995, 0.01559899, 0.011240161]\n",
      "2021-02-19 20:21:05,353 : INFO : merging changes from 2000 documents into a model of 3204 documents\n",
      "2021-02-19 20:21:05,369 : INFO : topic #89 (0.007): 0.001*\"lead\" + 0.001*\"debug\" + 0.001*\"major\" + 0.001*\"divid\" + 0.001*\"column\" + 0.001*\"verifi\" + 0.001*\"repetit\" + 0.001*\"reduc\" + 0.001*\"quit\" + 0.001*\"maximum\"\n",
      "2021-02-19 20:21:05,371 : INFO : topic #8 (0.009): 0.488*\"schedul\" + 0.202*\"algorithm\" + 0.174*\"path\" + 0.053*\"critic\" + 0.035*\"40\" + 0.000*\"(\" + 0.000*\")\" + 0.000*\"'\" + 0.000*\"s\" + 0.000*\"simpson\"\n",
      "2021-02-19 20:21:05,372 : INFO : topic #21 (0.018): 0.050*\"to\" + 0.036*\",\" + 0.031*\"and\" + 0.030*\"in\" + 0.023*\"are\" + 0.023*\"that\" + 0.022*\"be\" + 0.018*\"have\" + 0.018*\"is\" + 0.016*\"use\"\n",
      "2021-02-19 20:21:05,373 : INFO : topic #71 (0.019): 0.372*\"s\" + 0.347*\"'\" + 0.123*\"integr\" + 0.028*\"algorithm\" + 0.015*\"rule\" + 0.015*\"simpson\" + 0.013*\"s15\" + 0.013*\"ellipt\" + 0.011*\"definit\" + 0.011*\"adapt\"\n"
     ]
    },
    {
     "name": "stderr",
     "output_type": "stream",
     "text": [
      "2021-02-19 20:21:05,374 : INFO : topic #80 (0.050): 0.414*\"(\" + 0.384*\")\" + 0.178*\"algorithm\" + 0.006*\"program\" + 0.004*\"exponenti\" + 0.003*\"logarithm\" + 0.003*\"finit\" + 0.001*\"complex\" + 0.000*\"number\" + 0.000*\"remark\"\n",
      "2021-02-19 20:21:05,375 : INFO : topic diff=0.195893, rho=0.238352\n",
      "2021-02-19 20:21:07,140 : INFO : -6.334 per-word bound, 80.7 perplexity estimate based on a held-out corpus of 1204 documents with 79462 words\n",
      "2021-02-19 20:21:07,141 : INFO : PROGRESS: pass 15, at document #3204/3204\n",
      "2021-02-19 20:21:08,661 : INFO : optimized alpha [0.012704005, 0.012584975, 0.012705585, 0.011665875, 0.012351192, 0.009757665, 0.012723613, 0.011033195, 0.009523737, 0.01632663, 0.013616429, 0.010925002, 0.011866984, 0.016560534, 0.015763143, 0.011583204, 0.013743104, 0.013894811, 0.014382315, 0.011746629, 0.012605795, 0.018330785, 0.011410521, 0.012384389, 0.012576942, 0.012669915, 0.015264287, 0.013309032, 0.011029115, 0.013472986, 0.011484854, 0.0106414985, 0.011798586, 0.015669854, 0.012666736, 0.011944324, 0.013495645, 0.013789356, 0.0106105, 0.013658676, 0.012707943, 0.015323996, 0.01425624, 0.013077342, 0.012752306, 0.01609391, 0.01321313, 0.01395791, 0.011696578, 0.011433854, 0.015596071, 0.01131653, 0.011645471, 0.012500271, 0.013651788, 0.011055689, 0.012329646, 0.014524218, 0.009889237, 0.012970191, 0.013298972, 0.0147864865, 0.0134015605, 0.0143006155, 0.011889097, 0.013134784, 0.010521187, 0.012000026, 0.012267304, 0.010853048, 0.012631861, 0.019642035, 0.012351455, 0.009807157, 0.012853181, 0.011918417, 0.012189875, 0.015341609, 0.010511145, 0.016895743, 0.051059112, 0.010450333, 0.011822857, 0.012482464, 0.011516529, 0.012566042, 0.0115225455, 0.010639244, 0.014512325, 0.007016941, 0.0129526155, 0.013165332, 0.011935788, 0.011243012, 0.012439286, 0.011962488, 0.0123838205, 0.012271291, 0.01592937, 0.011352932]\n",
      "2021-02-19 20:21:08,672 : INFO : merging changes from 1204 documents into a model of 3204 documents\n",
      "2021-02-19 20:21:08,689 : INFO : topic #89 (0.007): 0.001*\"lead\" + 0.001*\"debug\" + 0.001*\"major\" + 0.001*\"divid\" + 0.001*\"column\" + 0.001*\"verifi\" + 0.001*\"repetit\" + 0.001*\"reduc\" + 0.001*\"quit\" + 0.001*\"maximum\"\n",
      "2021-02-19 20:21:08,690 : INFO : topic #8 (0.010): 0.497*\"schedul\" + 0.207*\"algorithm\" + 0.177*\"path\" + 0.045*\"critic\" + 0.030*\"40\" + 0.000*\"(\" + 0.000*\")\" + 0.000*\"'\" + 0.000*\"s\" + 0.000*\"simpson\"\n",
      "2021-02-19 20:21:08,691 : INFO : topic #21 (0.018): 0.050*\"to\" + 0.036*\",\" + 0.031*\"and\" + 0.030*\"in\" + 0.023*\"are\" + 0.023*\"that\" + 0.022*\"be\" + 0.018*\"have\" + 0.017*\"is\" + 0.016*\"use\"\n",
      "2021-02-19 20:21:08,692 : INFO : topic #71 (0.020): 0.386*\"s\" + 0.358*\"'\" + 0.111*\"integr\" + 0.028*\"algorithm\" + 0.014*\"rule\" + 0.013*\"simpson\" + 0.012*\"definit\" + 0.010*\"s15\" + 0.010*\"adapt\" + 0.010*\"d1\"\n",
      "2021-02-19 20:21:08,693 : INFO : topic #80 (0.051): 0.421*\"(\" + 0.386*\")\" + 0.168*\"algorithm\" + 0.007*\"program\" + 0.004*\"exponenti\" + 0.004*\"finit\" + 0.003*\"logarithm\" + 0.001*\"complex\" + 0.000*\"number\" + 0.000*\"remark\"\n",
      "2021-02-19 20:21:08,694 : INFO : topic diff=0.201853, rho=0.238352\n",
      "2021-02-19 20:21:08,704 : INFO : PROGRESS: pass 16, at document #2000/3204\n",
      "2021-02-19 20:21:10,180 : INFO : optimized alpha [0.012748458, 0.012663699, 0.012788269, 0.011672735, 0.012377253, 0.009749881, 0.0128635755, 0.0110555515, 0.009514244, 0.01644188, 0.01372992, 0.010959389, 0.011885263, 0.016808096, 0.015933778, 0.011625771, 0.013733789, 0.014048112, 0.014551709, 0.011765606, 0.012613868, 0.018342953, 0.011474859, 0.012444595, 0.012603705, 0.012654065, 0.015308425, 0.013306837, 0.01103884, 0.013488258, 0.011522793, 0.01068614, 0.011850479, 0.015880251, 0.012778068, 0.011955713, 0.013614455, 0.014103377, 0.010654319, 0.01366814, 0.012709629, 0.015351392, 0.0142147355, 0.013121237, 0.0128820455, 0.016098076, 0.01325484, 0.014010802, 0.011708205, 0.011472934, 0.015755335, 0.0113614425, 0.011707256, 0.012528838, 0.013708254, 0.01104808, 0.012331931, 0.01464701, 0.009881949, 0.012967764, 0.013379985, 0.014933995, 0.013489713, 0.014398043, 0.011900465, 0.013262894, 0.010579546, 0.012120303, 0.012284351, 0.010858076, 0.0127010485, 0.01989198, 0.012410059, 0.009851395, 0.012863031, 0.01199981, 0.012191829, 0.015388618, 0.010558591, 0.017117001, 0.05328115, 0.010516395, 0.011837048, 0.012477925, 0.011591887, 0.012606366, 0.01161638, 0.010625588, 0.01454895, 0.006983409, 0.0129922405, 0.013338174, 0.012029344, 0.011237981, 0.01253737, 0.01199713, 0.012444985, 0.012308047, 0.016039178, 0.011295813]\n",
      "2021-02-19 20:21:10,194 : INFO : merging changes from 2000 documents into a model of 3204 documents\n",
      "2021-02-19 20:21:10,212 : INFO : topic #89 (0.007): 0.001*\"lead\" + 0.001*\"debug\" + 0.001*\"major\" + 0.001*\"divid\" + 0.001*\"column\" + 0.001*\"verifi\" + 0.001*\"repetit\" + 0.001*\"reduc\" + 0.001*\"quit\" + 0.001*\"maximum\"\n",
      "2021-02-19 20:21:10,213 : INFO : topic #8 (0.010): 0.490*\"schedul\" + 0.198*\"algorithm\" + 0.175*\"path\" + 0.053*\"critic\" + 0.036*\"40\" + 0.000*\"(\" + 0.000*\")\" + 0.000*\"'\" + 0.000*\"s\" + 0.000*\"simpson\"\n",
      "2021-02-19 20:21:10,215 : INFO : topic #21 (0.018): 0.051*\"to\" + 0.036*\",\" + 0.031*\"and\" + 0.031*\"in\" + 0.023*\"are\" + 0.023*\"that\" + 0.023*\"be\" + 0.018*\"have\" + 0.017*\"is\" + 0.016*\"use\"\n",
      "2021-02-19 20:21:10,216 : INFO : topic #71 (0.020): 0.374*\"s\" + 0.348*\"'\" + 0.123*\"integr\" + 0.027*\"algorithm\" + 0.015*\"rule\" + 0.015*\"simpson\" + 0.013*\"s15\" + 0.013*\"ellipt\" + 0.011*\"adapt\" + 0.011*\"definit\"\n",
      "2021-02-19 20:21:10,218 : INFO : topic #80 (0.053): 0.415*\"(\" + 0.384*\")\" + 0.177*\"algorithm\" + 0.007*\"program\" + 0.004*\"exponenti\" + 0.003*\"logarithm\" + 0.003*\"finit\" + 0.001*\"complex\" + 0.000*\"number\" + 0.000*\"remark\"\n",
      "2021-02-19 20:21:10,219 : INFO : topic diff=0.180450, rho=0.231857\n",
      "2021-02-19 20:21:11,980 : INFO : -6.328 per-word bound, 80.4 perplexity estimate based on a held-out corpus of 1204 documents with 79462 words\n",
      "2021-02-19 20:21:11,980 : INFO : PROGRESS: pass 16, at document #3204/3204\n",
      "2021-02-19 20:21:13,494 : INFO : optimized alpha [0.012866161, 0.012739221, 0.012939999, 0.011769181, 0.012513517, 0.009837409, 0.012927948, 0.011151919, 0.009540159, 0.016823728, 0.01391298, 0.011036592, 0.011996025, 0.01705296, 0.016149925, 0.011723891, 0.013945131, 0.014114996, 0.01470984, 0.011904703, 0.012752769, 0.018798295, 0.0115283895, 0.012559289, 0.012715935, 0.012814058, 0.015476293, 0.013477084, 0.011142391, 0.013718522, 0.01159916, 0.010731289, 0.011909115, 0.016112454, 0.012853116, 0.012119235, 0.013726234, 0.014003371, 0.010737428, 0.013864916, 0.012878607, 0.015658842, 0.014472611, 0.013238306, 0.012936929, 0.016380839, 0.013461246, 0.014227759, 0.011824986, 0.011562774, 0.016056836, 0.011475954, 0.01180631, 0.012660349, 0.0139113, 0.011151408, 0.012466986, 0.014835946, 0.009929333, 0.013158667, 0.013584214, 0.015109306, 0.01364042, 0.0146785565, 0.012018689, 0.01336956, 0.010649275, 0.012152315, 0.012434445, 0.010920588, 0.012824758, 0.020265313, 0.012704856, 0.009863727, 0.013029328, 0.012104657, 0.012341137, 0.015622505, 0.010606466, 0.01749737, 0.05431345, 0.010568433, 0.011973161, 0.012652528, 0.011742107, 0.012826507, 0.011661425, 0.010714563, 0.014761802, 0.0069406214, 0.013184865, 0.013389145, 0.012094431, 0.0113486275, 0.012634699, 0.012084948, 0.012610553, 0.012403104, 0.01635576, 0.011408453]\n",
      "2021-02-19 20:21:13,504 : INFO : merging changes from 1204 documents into a model of 3204 documents\n",
      "2021-02-19 20:21:13,520 : INFO : topic #89 (0.007): 0.001*\"lead\" + 0.001*\"debug\" + 0.001*\"major\" + 0.001*\"divid\" + 0.001*\"column\" + 0.001*\"verifi\" + 0.001*\"repetit\" + 0.001*\"reduc\" + 0.001*\"quit\" + 0.001*\"maximum\"\n",
      "2021-02-19 20:21:13,521 : INFO : topic #8 (0.010): 0.498*\"schedul\" + 0.204*\"algorithm\" + 0.178*\"path\" + 0.046*\"critic\" + 0.031*\"40\" + 0.000*\"(\" + 0.000*\")\" + 0.000*\"'\" + 0.000*\"s\" + 0.000*\"simpson\"\n",
      "2021-02-19 20:21:13,522 : INFO : topic #21 (0.019): 0.050*\"to\" + 0.036*\",\" + 0.031*\"and\" + 0.030*\"in\" + 0.023*\"are\" + 0.023*\"that\" + 0.022*\"be\" + 0.018*\"have\" + 0.017*\"is\" + 0.016*\"use\"\n",
      "2021-02-19 20:21:13,523 : INFO : topic #71 (0.020): 0.387*\"s\" + 0.359*\"'\" + 0.112*\"integr\" + 0.026*\"algorithm\" + 0.014*\"rule\" + 0.013*\"simpson\" + 0.012*\"definit\" + 0.010*\"s15\" + 0.010*\"adapt\" + 0.010*\"d1\"\n",
      "2021-02-19 20:21:13,524 : INFO : topic #80 (0.054): 0.422*\"(\" + 0.387*\")\" + 0.167*\"algorithm\" + 0.008*\"program\" + 0.004*\"exponenti\" + 0.004*\"finit\" + 0.003*\"logarithm\" + 0.001*\"complex\" + 0.000*\"number\" + 0.000*\"remark\"\n"
     ]
    },
    {
     "name": "stderr",
     "output_type": "stream",
     "text": [
      "2021-02-19 20:21:13,526 : INFO : topic diff=0.186228, rho=0.231857\n",
      "2021-02-19 20:21:13,535 : INFO : PROGRESS: pass 17, at document #2000/3204\n",
      "2021-02-19 20:21:14,919 : INFO : optimized alpha [0.012909513, 0.012817812, 0.013016558, 0.011775842, 0.012538745, 0.009828647, 0.013065645, 0.011183899, 0.009530187, 0.016935933, 0.014030673, 0.01106776, 0.012015114, 0.01730361, 0.016321177, 0.011764172, 0.013936781, 0.014268962, 0.014875021, 0.01192298, 0.012758943, 0.018806743, 0.011591518, 0.012618201, 0.0127434265, 0.012798134, 0.015528088, 0.013474396, 0.01115052, 0.013732481, 0.011636324, 0.010779981, 0.011955985, 0.016319944, 0.012963977, 0.012135412, 0.013844498, 0.0143100405, 0.010783953, 0.013873393, 0.012885613, 0.015687762, 0.014430617, 0.013285677, 0.013067407, 0.016381463, 0.013501434, 0.014274088, 0.011837543, 0.011599694, 0.016231863, 0.011519811, 0.011865543, 0.012689489, 0.013964454, 0.011147732, 0.012467542, 0.01496468, 0.009922465, 0.013158608, 0.013661792, 0.015254161, 0.013728257, 0.014770448, 0.012030975, 0.013495499, 0.010708919, 0.012270532, 0.012452182, 0.010925673, 0.012896952, 0.02051057, 0.012773005, 0.009907212, 0.013044505, 0.012180447, 0.012339827, 0.015667686, 0.010653035, 0.01771181, 0.05653741, 0.010634466, 0.011990882, 0.012644624, 0.011817304, 0.012868309, 0.011756249, 0.010701261, 0.014790116, 0.006908916, 0.013224652, 0.013557864, 0.0121904155, 0.011347497, 0.012729621, 0.012114702, 0.01267737, 0.012434772, 0.016445797, 0.0113553945]\n",
      "2021-02-19 20:21:14,934 : INFO : merging changes from 2000 documents into a model of 3204 documents\n",
      "2021-02-19 20:21:14,953 : INFO : topic #89 (0.007): 0.001*\"lead\" + 0.001*\"debug\" + 0.001*\"major\" + 0.001*\"divid\" + 0.001*\"column\" + 0.001*\"verifi\" + 0.001*\"repetit\" + 0.001*\"reduc\" + 0.001*\"quit\" + 0.001*\"maximum\"\n",
      "2021-02-19 20:21:14,955 : INFO : topic #8 (0.010): 0.492*\"schedul\" + 0.196*\"algorithm\" + 0.176*\"path\" + 0.053*\"critic\" + 0.035*\"40\" + 0.000*\"(\" + 0.000*\")\" + 0.000*\"'\" + 0.000*\"s\" + 0.000*\"simpson\"\n",
      "2021-02-19 20:21:14,956 : INFO : topic #21 (0.019): 0.051*\"to\" + 0.036*\",\" + 0.031*\"and\" + 0.031*\"in\" + 0.023*\"are\" + 0.023*\"that\" + 0.023*\"be\" + 0.018*\"have\" + 0.017*\"is\" + 0.016*\"use\"\n",
      "2021-02-19 20:21:14,957 : INFO : topic #71 (0.021): 0.375*\"s\" + 0.350*\"'\" + 0.124*\"integr\" + 0.025*\"algorithm\" + 0.015*\"rule\" + 0.015*\"simpson\" + 0.013*\"s15\" + 0.013*\"ellipt\" + 0.011*\"adapt\" + 0.011*\"definit\"\n",
      "2021-02-19 20:21:14,958 : INFO : topic #80 (0.057): 0.416*\"(\" + 0.384*\")\" + 0.176*\"algorithm\" + 0.007*\"program\" + 0.004*\"exponenti\" + 0.003*\"logarithm\" + 0.003*\"finit\" + 0.001*\"complex\" + 0.000*\"number\" + 0.000*\"remark\"\n",
      "2021-02-19 20:21:14,960 : INFO : topic diff=0.167525, rho=0.225865\n",
      "2021-02-19 20:21:16,734 : INFO : -6.325 per-word bound, 80.1 perplexity estimate based on a held-out corpus of 1204 documents with 79462 words\n",
      "2021-02-19 20:21:16,735 : INFO : PROGRESS: pass 17, at document #3204/3204\n",
      "2021-02-19 20:21:18,131 : INFO : optimized alpha [0.013022343, 0.012889054, 0.01316545, 0.011870336, 0.01267238, 0.009916289, 0.013130478, 0.011278328, 0.00955583, 0.017327473, 0.014215814, 0.011143324, 0.012132759, 0.017544102, 0.01652998, 0.011860228, 0.014139239, 0.014330885, 0.015029671, 0.012061642, 0.012890204, 0.019249687, 0.0116481325, 0.012732988, 0.012858118, 0.012955025, 0.015689638, 0.0136414645, 0.011254207, 0.013961719, 0.011711064, 0.010824105, 0.012017907, 0.016550858, 0.013034591, 0.012305328, 0.013953623, 0.014212492, 0.010871495, 0.014066901, 0.013056435, 0.016006432, 0.014689718, 0.013405381, 0.013118067, 0.01665646, 0.013709656, 0.014484821, 0.011958854, 0.011689821, 0.016520828, 0.011632133, 0.011962564, 0.012823174, 0.014166579, 0.011249039, 0.012595219, 0.015152761, 0.00996901, 0.013338794, 0.013865413, 0.0154286055, 0.013881059, 0.015053171, 0.012146911, 0.01360206, 0.010781153, 0.012303625, 0.0126043465, 0.010986973, 0.0130158095, 0.020873686, 0.013073021, 0.0099193575, 0.013212754, 0.0122785065, 0.012491051, 0.015897576, 0.010699787, 0.018102543, 0.057502557, 0.010683293, 0.012122211, 0.0128209265, 0.011967211, 0.013092805, 0.011800033, 0.010788484, 0.0150049245, 0.0068683713, 0.013416598, 0.013609422, 0.012253796, 0.011456001, 0.012831924, 0.01220297, 0.0128377285, 0.012518377, 0.016761318, 0.011463678]\n",
      "2021-02-19 20:21:18,143 : INFO : merging changes from 1204 documents into a model of 3204 documents\n",
      "2021-02-19 20:21:18,159 : INFO : topic #89 (0.007): 0.001*\"lead\" + 0.001*\"debug\" + 0.001*\"major\" + 0.001*\"divid\" + 0.001*\"column\" + 0.001*\"verifi\" + 0.001*\"repetit\" + 0.001*\"reduc\" + 0.001*\"quit\" + 0.001*\"maximum\"\n",
      "2021-02-19 20:21:18,160 : INFO : topic #8 (0.010): 0.499*\"schedul\" + 0.203*\"algorithm\" + 0.178*\"path\" + 0.046*\"critic\" + 0.030*\"40\" + 0.000*\"(\" + 0.000*\")\" + 0.000*\"'\" + 0.000*\"s\" + 0.000*\"simpson\"\n",
      "2021-02-19 20:21:18,161 : INFO : topic #21 (0.019): 0.050*\"to\" + 0.036*\",\" + 0.031*\"and\" + 0.030*\"in\" + 0.023*\"are\" + 0.023*\"that\" + 0.022*\"be\" + 0.018*\"have\" + 0.017*\"is\" + 0.016*\"use\"\n",
      "2021-02-19 20:21:18,162 : INFO : topic #71 (0.021): 0.387*\"s\" + 0.360*\"'\" + 0.112*\"integr\" + 0.025*\"algorithm\" + 0.014*\"rule\" + 0.013*\"simpson\" + 0.012*\"definit\" + 0.010*\"s15\" + 0.010*\"adapt\" + 0.010*\"d1\"\n",
      "2021-02-19 20:21:18,163 : INFO : topic #80 (0.058): 0.423*\"(\" + 0.386*\")\" + 0.167*\"algorithm\" + 0.008*\"program\" + 0.004*\"exponenti\" + 0.004*\"finit\" + 0.003*\"logarithm\" + 0.001*\"complex\" + 0.000*\"number\" + 0.000*\"remark\"\n",
      "2021-02-19 20:21:18,164 : INFO : topic diff=0.172748, rho=0.225865\n",
      "2021-02-19 20:21:18,175 : INFO : PROGRESS: pass 18, at document #2000/3204\n",
      "2021-02-19 20:21:19,567 : INFO : optimized alpha [0.013066182, 0.012964795, 0.013244757, 0.0118768085, 0.012698192, 0.009907669, 0.013266061, 0.011314604, 0.009547502, 0.017440263, 0.0143362135, 0.011171415, 0.0121526355, 0.017792081, 0.016700178, 0.011902247, 0.014130233, 0.014480849, 0.015192445, 0.012076544, 0.012894509, 0.019268055, 0.0117101185, 0.01279069, 0.012884863, 0.01293753, 0.015741847, 0.013639809, 0.0112683335, 0.013975919, 0.011747506, 0.010869584, 0.012066659, 0.016757356, 0.013145058, 0.01232205, 0.014069888, 0.014513766, 0.010920742, 0.014072996, 0.0130583625, 0.016031384, 0.014647276, 0.013448636, 0.013245018, 0.016655546, 0.013748374, 0.014524703, 0.011973605, 0.011728539, 0.016695403, 0.011673836, 0.012027385, 0.01285429, 0.014216505, 0.01124534, 0.012595537, 0.015285793, 0.009963648, 0.013339633, 0.013944263, 0.015572562, 0.01397013, 0.015146026, 0.012160133, 0.013730474, 0.010840979, 0.012419938, 0.012626978, 0.01099451, 0.01308656, 0.021114381, 0.013143578, 0.009962158, 0.0132285645, 0.0123569835, 0.012493535, 0.01595168, 0.010746711, 0.018316215, 0.059714977, 0.010746988, 0.012139335, 0.012815407, 0.012042284, 0.013137536, 0.011893324, 0.010775475, 0.015040289, 0.006838317, 0.013461064, 0.01377881, 0.012344138, 0.01145349, 0.012928075, 0.012234747, 0.012900222, 0.012550838, 0.016841117, 0.011413185]\n",
      "2021-02-19 20:21:19,582 : INFO : merging changes from 2000 documents into a model of 3204 documents\n",
      "2021-02-19 20:21:19,599 : INFO : topic #89 (0.007): 0.001*\"lead\" + 0.001*\"debug\" + 0.001*\"major\" + 0.001*\"divid\" + 0.001*\"column\" + 0.001*\"verifi\" + 0.001*\"repetit\" + 0.001*\"reduc\" + 0.001*\"quit\" + 0.001*\"maximum\"\n",
      "2021-02-19 20:21:19,600 : INFO : topic #8 (0.010): 0.493*\"schedul\" + 0.194*\"algorithm\" + 0.176*\"path\" + 0.053*\"critic\" + 0.036*\"40\" + 0.000*\"(\" + 0.000*\")\" + 0.000*\"'\" + 0.000*\"s\" + 0.000*\"simpson\"\n",
      "2021-02-19 20:21:19,602 : INFO : topic #21 (0.019): 0.051*\"to\" + 0.036*\",\" + 0.031*\"in\" + 0.031*\"and\" + 0.023*\"are\" + 0.023*\"that\" + 0.023*\"be\" + 0.019*\"have\" + 0.017*\"is\" + 0.016*\"use\"\n",
      "2021-02-19 20:21:19,603 : INFO : topic #71 (0.021): 0.376*\"s\" + 0.351*\"'\" + 0.124*\"integr\" + 0.024*\"algorithm\" + 0.015*\"rule\" + 0.015*\"simpson\" + 0.013*\"s15\" + 0.013*\"ellipt\" + 0.011*\"definit\" + 0.011*\"adapt\"\n",
      "2021-02-19 20:21:19,604 : INFO : topic #80 (0.060): 0.417*\"(\" + 0.384*\")\" + 0.176*\"algorithm\" + 0.007*\"program\" + 0.004*\"exponenti\" + 0.003*\"logarithm\" + 0.003*\"finit\" + 0.000*\"complex\" + 0.000*\"number\" + 0.000*\"remark\"\n",
      "2021-02-19 20:21:19,606 : INFO : topic diff=0.156716, rho=0.220316\n",
      "2021-02-19 20:21:21,326 : INFO : -6.319 per-word bound, 79.8 perplexity estimate based on a held-out corpus of 1204 documents with 79462 words\n"
     ]
    },
    {
     "name": "stderr",
     "output_type": "stream",
     "text": [
      "2021-02-19 20:21:21,327 : INFO : PROGRESS: pass 18, at document #3204/3204\n",
      "2021-02-19 20:21:22,717 : INFO : optimized alpha [0.013179143, 0.01303439, 0.013393419, 0.0119695, 0.012829373, 0.009993751, 0.013331428, 0.011419788, 0.009572894, 0.017828852, 0.014520986, 0.011247603, 0.012272649, 0.018034771, 0.016904857, 0.011996413, 0.0143294465, 0.014535339, 0.01534949, 0.012215004, 0.013023285, 0.019706087, 0.011763338, 0.012908062, 0.012999693, 0.01308693, 0.015903225, 0.013801379, 0.011370073, 0.014194063, 0.011818582, 0.010912783, 0.012129515, 0.016981106, 0.013226001, 0.012493849, 0.014179093, 0.0144185955, 0.011006625, 0.014271206, 0.013226395, 0.016349332, 0.014902479, 0.013568467, 0.013296496, 0.016926229, 0.013945759, 0.0147431595, 0.01209494, 0.011821199, 0.016990412, 0.011788437, 0.012122479, 0.012985518, 0.01442045, 0.011344796, 0.012718522, 0.015473154, 0.010011252, 0.01352437, 0.014144985, 0.015743535, 0.014125354, 0.015428639, 0.01227167, 0.013832061, 0.010913778, 0.012449544, 0.012771893, 0.011054684, 0.013212937, 0.02147113, 0.013463579, 0.009974131, 0.0133939935, 0.012455213, 0.012642213, 0.01618079, 0.010796435, 0.018703813, 0.06059861, 0.010794734, 0.012270623, 0.012981678, 0.012196421, 0.013373914, 0.011938118, 0.01086108, 0.015251554, 0.0067998106, 0.013657615, 0.013828441, 0.01241279, 0.011562139, 0.013030721, 0.012318995, 0.013057965, 0.012637506, 0.017143086, 0.011519478]\n",
      "2021-02-19 20:21:22,729 : INFO : merging changes from 1204 documents into a model of 3204 documents\n",
      "2021-02-19 20:21:22,750 : INFO : topic #89 (0.007): 0.001*\"lead\" + 0.001*\"debug\" + 0.001*\"major\" + 0.001*\"divid\" + 0.001*\"column\" + 0.001*\"verifi\" + 0.001*\"repetit\" + 0.001*\"reduc\" + 0.001*\"quit\" + 0.001*\"maximum\"\n",
      "2021-02-19 20:21:22,750 : INFO : topic #8 (0.010): 0.500*\"schedul\" + 0.202*\"algorithm\" + 0.178*\"path\" + 0.046*\"critic\" + 0.031*\"40\" + 0.000*\"(\" + 0.000*\")\" + 0.000*\"'\" + 0.000*\"s\" + 0.000*\"simpson\"\n",
      "2021-02-19 20:21:22,750 : INFO : topic #21 (0.020): 0.050*\"to\" + 0.036*\",\" + 0.031*\"and\" + 0.030*\"in\" + 0.023*\"are\" + 0.023*\"that\" + 0.022*\"be\" + 0.019*\"have\" + 0.016*\"is\" + 0.016*\"use\"\n",
      "2021-02-19 20:21:22,751 : INFO : topic #71 (0.021): 0.388*\"s\" + 0.361*\"'\" + 0.112*\"integr\" + 0.024*\"algorithm\" + 0.014*\"rule\" + 0.013*\"simpson\" + 0.012*\"definit\" + 0.010*\"s15\" + 0.010*\"adapt\" + 0.010*\"d1\"\n",
      "2021-02-19 20:21:22,752 : INFO : topic #80 (0.061): 0.423*\"(\" + 0.387*\")\" + 0.166*\"algorithm\" + 0.009*\"program\" + 0.004*\"exponenti\" + 0.003*\"finit\" + 0.003*\"logarithm\" + 0.000*\"complex\" + 0.000*\"number\" + 0.000*\"remark\"\n",
      "2021-02-19 20:21:22,753 : INFO : topic diff=0.161756, rho=0.220316\n",
      "2021-02-19 20:21:22,764 : INFO : PROGRESS: pass 19, at document #2000/3204\n",
      "2021-02-19 20:21:24,181 : INFO : optimized alpha [0.013223435, 0.0131074, 0.013471233, 0.011975816, 0.012855796, 0.009987411, 0.013466501, 0.011457805, 0.009565074, 0.017934738, 0.014639477, 0.011276382, 0.01228791, 0.01828213, 0.017074188, 0.0120350085, 0.014321419, 0.014683023, 0.015513411, 0.012227958, 0.01303153, 0.01972535, 0.011824274, 0.012964631, 0.013025707, 0.013073711, 0.01595409, 0.0138008315, 0.011387512, 0.014208614, 0.011855636, 0.010961051, 0.012178795, 0.017188506, 0.013333367, 0.012509709, 0.014291957, 0.014721047, 0.011056211, 0.014278046, 0.0132335685, 0.016384907, 0.014859439, 0.013612237, 0.013424373, 0.016931234, 0.013987715, 0.014792964, 0.012105233, 0.011857903, 0.017158877, 0.011835592, 0.012183465, 0.013018604, 0.01447033, 0.011339856, 0.012720019, 0.015608896, 0.010007275, 0.0135231335, 0.014225192, 0.015888501, 0.014214254, 0.015519334, 0.012281837, 0.013960026, 0.010973819, 0.01256409, 0.012792344, 0.011064599, 0.013283824, 0.021709656, 0.013533659, 0.010016291, 0.013409049, 0.012533656, 0.012647004, 0.016229628, 0.010842577, 0.018920815, 0.06279963, 0.010859696, 0.012287141, 0.012974353, 0.012270141, 0.013417179, 0.012032569, 0.010847181, 0.015277122, 0.0067712604, 0.013691726, 0.014000122, 0.01250575, 0.011562055, 0.013126773, 0.012352829, 0.013124684, 0.012669373, 0.017220112, 0.011466431]\n",
      "2021-02-19 20:21:24,195 : INFO : merging changes from 2000 documents into a model of 3204 documents\n",
      "2021-02-19 20:21:24,213 : INFO : topic #89 (0.007): 0.001*\"lead\" + 0.001*\"debug\" + 0.001*\"major\" + 0.001*\"divid\" + 0.001*\"column\" + 0.001*\"verifi\" + 0.001*\"repetit\" + 0.001*\"reduc\" + 0.001*\"quit\" + 0.001*\"maximum\"\n",
      "2021-02-19 20:21:24,215 : INFO : topic #8 (0.010): 0.493*\"schedul\" + 0.194*\"algorithm\" + 0.176*\"path\" + 0.053*\"critic\" + 0.036*\"40\" + 0.000*\"(\" + 0.000*\")\" + 0.000*\"'\" + 0.000*\"s\" + 0.000*\"simpson\"\n",
      "2021-02-19 20:21:24,216 : INFO : topic #21 (0.020): 0.051*\"to\" + 0.036*\",\" + 0.031*\"in\" + 0.031*\"and\" + 0.023*\"are\" + 0.023*\"that\" + 0.023*\"be\" + 0.019*\"have\" + 0.016*\"is\" + 0.016*\"use\"\n",
      "2021-02-19 20:21:24,217 : INFO : topic #71 (0.022): 0.377*\"s\" + 0.352*\"'\" + 0.124*\"integr\" + 0.023*\"algorithm\" + 0.015*\"rule\" + 0.015*\"simpson\" + 0.013*\"s15\" + 0.013*\"ellipt\" + 0.011*\"definit\" + 0.011*\"adapt\"\n",
      "2021-02-19 20:21:24,219 : INFO : topic #80 (0.063): 0.417*\"(\" + 0.384*\")\" + 0.175*\"algorithm\" + 0.008*\"program\" + 0.004*\"exponenti\" + 0.003*\"logarithm\" + 0.003*\"finit\" + 0.000*\"complex\" + 0.000*\"number\" + 0.000*\"remark\"\n",
      "2021-02-19 20:21:24,220 : INFO : topic diff=0.147704, rho=0.215156\n",
      "2021-02-19 20:21:25,882 : INFO : -6.315 per-word bound, 79.6 perplexity estimate based on a held-out corpus of 1204 documents with 79462 words\n",
      "2021-02-19 20:21:25,883 : INFO : PROGRESS: pass 19, at document #3204/3204\n",
      "2021-02-19 20:21:27,252 : INFO : optimized alpha [0.013336672, 0.013175427, 0.013619826, 0.012066822, 0.012984681, 0.010073788, 0.013532432, 0.011561175, 0.009590211, 0.018330324, 0.014816041, 0.011357199, 0.012408142, 0.01852391, 0.017278047, 0.012129534, 0.014517533, 0.01473832, 0.015664577, 0.012364159, 0.013155593, 0.020177059, 0.011876329, 0.013075167, 0.013140778, 0.0132253, 0.01612126, 0.0139596565, 0.0114916, 0.014426216, 0.011927446, 0.011003376, 0.012244919, 0.017414263, 0.013414754, 0.0126767075, 0.014401315, 0.014622713, 0.011138606, 0.014475997, 0.013394114, 0.016705615, 0.015113694, 0.013717542, 0.013471886, 0.017197656, 0.014184746, 0.015003023, 0.012220087, 0.011944643, 0.017450713, 0.011950368, 0.012281178, 0.013145137, 0.0146711795, 0.011441661, 0.012843036, 0.015792912, 0.010054093, 0.013695199, 0.014430837, 0.016058834, 0.014364243, 0.015793255, 0.01239141, 0.014061756, 0.011051187, 0.012592654, 0.012939619, 0.011123726, 0.013412625, 0.022060117, 0.013881474, 0.010028092, 0.0135791795, 0.0126300035, 0.012788589, 0.0164492, 0.010887377, 0.019305104, 0.06360849, 0.010902508, 0.012418446, 0.013142643, 0.012428575, 0.01366327, 0.012076214, 0.010927394, 0.015473986, 0.0067346073, 0.013880538, 0.014052914, 0.012568366, 0.011673017, 0.013243923, 0.012435478, 0.013284547, 0.012752113, 0.017518114, 0.011570888]\n",
      "2021-02-19 20:21:27,267 : INFO : merging changes from 1204 documents into a model of 3204 documents\n",
      "2021-02-19 20:21:27,283 : INFO : topic #89 (0.007): 0.001*\"lead\" + 0.001*\"debug\" + 0.001*\"major\" + 0.001*\"divid\" + 0.001*\"column\" + 0.001*\"verifi\" + 0.001*\"repetit\" + 0.001*\"reduc\" + 0.001*\"quit\" + 0.001*\"maximum\"\n",
      "2021-02-19 20:21:27,284 : INFO : topic #8 (0.010): 0.501*\"schedul\" + 0.199*\"algorithm\" + 0.178*\"path\" + 0.046*\"critic\" + 0.031*\"40\" + 0.000*\"(\" + 0.000*\")\" + 0.000*\"'\" + 0.000*\"s\" + 0.000*\"simpson\"\n",
      "2021-02-19 20:21:27,285 : INFO : topic #21 (0.020): 0.050*\"to\" + 0.036*\",\" + 0.031*\"and\" + 0.031*\"in\" + 0.023*\"are\" + 0.023*\"that\" + 0.022*\"be\" + 0.019*\"have\" + 0.016*\"is\" + 0.015*\"use\"\n",
      "2021-02-19 20:21:27,286 : INFO : topic #71 (0.022): 0.388*\"s\" + 0.362*\"'\" + 0.113*\"integr\" + 0.023*\"algorithm\" + 0.014*\"rule\" + 0.013*\"simpson\" + 0.012*\"definit\" + 0.010*\"s15\" + 0.010*\"adapt\" + 0.010*\"d1\"\n",
      "2021-02-19 20:21:27,287 : INFO : topic #80 (0.064): 0.424*\"(\" + 0.386*\")\" + 0.166*\"algorithm\" + 0.009*\"program\" + 0.004*\"exponenti\" + 0.003*\"finit\" + 0.003*\"logarithm\" + 0.000*\"complex\" + 0.000*\"number\" + 0.000*\"remark\"\n",
      "2021-02-19 20:21:27,288 : INFO : topic diff=0.152206, rho=0.215156\n"
     ]
    },
    {
     "data": {
      "text/plain": [
       "[(0, 0.0055419593),\n",
       " (1, 0.005474955),\n",
       " (2, 0.0056596217),\n",
       " (3, 0.0050142817),\n",
       " (4, 0.0053956914),\n",
       " (5, 0.004186091),\n",
       " (6, 0.0056233057),\n",
       " (7, 0.0048041637),\n",
       " (8, 0.0039851437),\n",
       " (9, 0.007617036),\n",
       " (10, 0.0061567),\n",
       " (11, 0.004719403),\n",
       " (12, 0.005156115),\n",
       " (13, 0.0076974784),\n",
       " (14, 0.007179769),\n",
       " (15, 0.0050403415),\n",
       " (16, 0.0060326573),\n",
       " (17, 0.006124404),\n",
       " (18, 0.0065093036),\n",
       " (19, 0.0051378384),\n",
       " (20, 0.0054667126),\n",
       " (21, 0.008384433),\n",
       " (22, 0.004935124),\n",
       " (23, 0.42097157),\n",
       " (24, 0.0054605566),\n",
       " (25, 0.005495679),\n",
       " (26, 0.006699075),\n",
       " (27, 0.005800836),\n",
       " (28, 0.0047752527),\n",
       " (29, 0.005994711),\n",
       " (30, 0.004956365),\n",
       " (31, 0.0045723743),\n",
       " (32, 0.005088289),\n",
       " (33, 0.0072363727),\n",
       " (34, 0.005574405),\n",
       " (35, 0.0052677155),\n",
       " (36, 0.0059843636),\n",
       " (37, 0.0060763643),\n",
       " (38, 0.0046285684),\n",
       " (39, 0.006015397),\n",
       " (40, 0.0055658286),\n",
       " (41, 0.006941899),\n",
       " (42, 0.0062803878),\n",
       " (43, 0.005700227),\n",
       " (44, 0.005598146),\n",
       " (45, 0.007146363),\n",
       " (46, 0.00589437),\n",
       " (47, 0.006234399),\n",
       " (48, 0.00507797),\n",
       " (49, 0.004963511),\n",
       " (50, 0.0072515192),\n",
       " (51, 0.00496589),\n",
       " (52, 0.0051033557),\n",
       " (53, 0.005462368),\n",
       " (54, 0.006096504),\n",
       " (55, 0.0047545005),\n",
       " (56, 0.0053368323),\n",
       " (57, 0.006562632),\n",
       " (58, 0.0041779066),\n",
       " (59, 0.0056909425),\n",
       " (60, 0.0059966315),\n",
       " (61, 0.006673134),\n",
       " (62, 0.0059689586),\n",
       " (63, 0.0065627745),\n",
       " (64, 0.005149162),\n",
       " (65, 0.0058432627),\n",
       " (66, 0.004592242),\n",
       " (67, 0.0052327877),\n",
       " (68, 0.005376966),\n",
       " (69, 0.004622385),\n",
       " (70, 0.0055735204),\n",
       " (71, 0.009166924),\n",
       " (72, 0.0057683475),\n",
       " (73, 0.0041671023),\n",
       " (74, 0.005642731),\n",
       " (75, 0.0052483077),\n",
       " (76, 0.005314207),\n",
       " (77, 0.006835348),\n",
       " (78, 0.004524172),\n",
       " (79, 0.008022099),\n",
       " (80, 0.026432054),\n",
       " (81, 0.0045304596),\n",
       " (82, 0.005160397),\n",
       " (83, 0.0054613315),\n",
       " (84, 0.005164606),\n",
       " (85, 0.0056776744),\n",
       " (86, 0.0050181844),\n",
       " (87, 0.0045408006),\n",
       " (88, 0.0064301044),\n",
       " (89, 0.002798518),\n",
       " (90, 0.0057679587),\n",
       " (91, 0.0058395886),\n",
       " (92, 0.005222695),\n",
       " (93, 0.004850639),\n",
       " (94, 0.005503418),\n",
       " (95, 0.0051674745),\n",
       " (96, 0.005520299),\n",
       " (97, 0.0052990494),\n",
       " (98, 0.0072795274),\n",
       " (99, 0.0048082)]"
      ]
     },
     "execution_count": 85,
     "metadata": {},
     "output_type": "execute_result"
    }
   ],
   "source": [
    "##### Function check\n",
    "lda = LdaRetrievalModel(doc_repr_2)\n",
    "lda.train_model()\n",
    "\n",
    "# you can now get an LDA vector for a given query in the following way:\n",
    "lda.vectorize_query(\"report\")\n",
    "##### "
   ]
  },
  {
   "cell_type": "markdown",
   "metadata": {
    "deletable": false,
    "editable": false,
    "id": "Ytw2BnNn4IWu",
    "nbgrader": {
     "cell_type": "markdown",
     "checksum": "32d83b6ea79ca3ddb789a7f8805a1b25",
     "grade": false,
     "grade_id": "cell-0e24b727d5908c0e",
     "locked": true,
     "points": 5,
     "schema_version": 3,
     "solution": false,
     "task": true
    }
   },
   "source": [
    "\\#### Please do not change this. This cell is used for grading."
   ]
  },
  {
   "cell_type": "markdown",
   "metadata": {
    "deletable": false,
    "editable": false,
    "id": "PqZBboVz4IWu",
    "nbgrader": {
     "cell_type": "markdown",
     "checksum": "114a934f0b9ce696e6cf09d3b8da6a3d",
     "grade": false,
     "grade_id": "cell-b1bffcb970b18aeb",
     "locked": true,
     "schema_version": 3,
     "solution": false,
     "task": false
    }
   },
   "source": [
    "---\n",
    "Now we can use the `DenseRetrievalModel` class to obtain an LDA search function.\n",
    "You can test your LDA model in the following cell: Try finding queries which are lexically different to documents, but semantically similar - does LDA work well for these queries?!"
   ]
  },
  {
   "cell_type": "code",
   "execution_count": 86,
   "metadata": {
    "ExecuteTime": {
     "end_time": "2021-02-19T19:21:30.598730Z",
     "start_time": "2021-02-19T19:21:27.309800Z"
    },
    "id": "TnPkNnQb4IWu"
   },
   "outputs": [
    {
     "data": {
      "application/vnd.jupyter.widget-view+json": {
       "model_id": "fef4963567704018a14de93539caa9e1",
       "version_major": 2,
       "version_minor": 0
      },
      "text/plain": [
       "Text(value='', description='Search Bar')"
      ]
     },
     "metadata": {},
     "output_type": "display_data"
    }
   ],
   "source": [
    "drm_lda = DenseRetrievalRanker(lda, jenson_shannon_sim)\n",
    "\n",
    "# test your LDA model\n",
    "search_fn = drm_lda.search\n",
    "\n",
    "text = widgets.Text(description=\"Search Bar\", width=200)\n",
    "display(text)\n",
    "\n",
    "\n",
    "text.on_submit(handle_submit_2)"
   ]
  },
  {
   "cell_type": "markdown",
   "metadata": {
    "deletable": false,
    "editable": false,
    "id": "xa0oM-SP4IWu",
    "nbgrader": {
     "cell_type": "markdown",
     "checksum": "9d7f15863b655119b45f4d89354e5661",
     "grade": false,
     "grade_id": "cell-190cd0854b2791cc",
     "locked": true,
     "schema_version": 3,
     "solution": false,
     "task": false
    }
   },
   "source": [
    "## Section 8: Word2Vec/Doc2Vec (20 points) <a class=\"anchor\" id=\"2vec\"></a>\n",
    "\n",
    "[Back to Part 2](#part2)\n",
    "\n",
    "We will implement two other methods here, the Word2Vec model and the Doc2Vec model, also using `gensim`. Word2Vec creates representations of words, not documents, so the word level vectors need to be aggregated to obtain a representation for the document. Here, we will simply take the mean of the vectors. \n",
    "\n",
    "\n",
    "A drawback of these models is that they need a lot of training data. Our dataset is tiny, so in addition to using a model trained on the data, we will also use a pre-trained model for Word2Vec (this will be automatically downloaded).     \n",
    "\n",
    "*Note*:\n",
    "1. The code in vectorize_documents / vectorize_query should return gensim-like vectors i.e `[(dim, val), .. (dim, val)]`. \n",
    "2. For Word2Vec: You should also handle the following two cases: (a) A word in the query is not present in the vocabulary of the model and (b) none of the words in the query are present in the model - you can return 0 scores for all documents in this case. For either of these, you can check if a `word` is present in the vocab by using `word in self.model`\n"
   ]
  },
  {
   "cell_type": "code",
   "execution_count": 87,
   "metadata": {
    "ExecuteTime": {
     "end_time": "2021-02-19T19:21:32.603598Z",
     "start_time": "2021-02-19T19:21:30.600725Z"
    },
    "deletable": false,
    "id": "gPHOpyp34IWu",
    "nbgrader": {
     "cell_type": "code",
     "checksum": "83ab733608ed14c29c09b36b4e1b6daa",
     "grade": false,
     "grade_id": "cell-2b73759f9baf688f",
     "locked": false,
     "schema_version": 3,
     "solution": true,
     "task": false
    }
   },
   "outputs": [
    {
     "name": "stderr",
     "output_type": "stream",
     "text": [
      "2021-02-19 20:21:30,610 : INFO : adding document #0 to Dictionary(0 unique tokens: [])\n",
      "2021-02-19 20:21:30,797 : INFO : built Dictionary(6204 unique tokens: ['-', 'algebra', 'intern', 'languag', 'preliminari']...) from 3204 documents (total 196845 corpus positions)\n",
      "2021-02-19 20:21:30,805 : INFO : discarding 4795 tokens: [('of', 2061), ('repeat', 8), ('glossari', 7), ('inspect', 8), ('the', 1794), ('uncol', 2), ('a', 1807), ('rung', 9), ('secant', 2), ('.', 1603)]...\n",
      "2021-02-19 20:21:30,806 : INFO : keeping 1409 tokens which were in no less than 10 and no more than 1602 (=50.0%) documents\n",
      "2021-02-19 20:21:30,809 : INFO : resulting dictionary: Dictionary(1409 unique tokens: ['-', 'algebra', 'intern', 'languag', 'preliminari']...)\n",
      "2021-02-19 20:21:30,909 : INFO : collecting all words and their counts\n",
      "2021-02-19 20:21:30,910 : INFO : PROGRESS: at sentence #0, processed 0 words, keeping 0 word types\n",
      "2021-02-19 20:21:30,942 : INFO : collected 6204 word types from a corpus of 196845 raw words and 3204 sentences\n",
      "2021-02-19 20:21:30,942 : INFO : Loading a fresh vocabulary\n",
      "2021-02-19 20:21:30,956 : INFO : effective_min_count=1 retains 6204 unique words (100% of original 6204, drops 0)\n",
      "2021-02-19 20:21:30,956 : INFO : effective_min_count=1 leaves 196845 word corpus (100% of original 196845, drops 0)\n",
      "2021-02-19 20:21:30,975 : INFO : deleting the raw counts dictionary of 6204 items\n",
      "2021-02-19 20:21:30,976 : INFO : sample=0.001 downsamples 42 most-common words\n",
      "2021-02-19 20:21:30,976 : INFO : downsampling leaves estimated 136742 word corpus (69.5% of prior 196845)\n",
      "2021-02-19 20:21:30,990 : INFO : estimated required memory for 6204 words and 100 dimensions: 8065200 bytes\n",
      "2021-02-19 20:21:30,991 : INFO : resetting layer weights\n",
      "2021-02-19 20:21:32,043 : INFO : training model with 3 workers on 6204 vocabulary and 100 features, using sg=0 hs=0 sample=0.001 negative=5 window=5\n",
      "2021-02-19 20:21:32,125 : INFO : worker thread finished; awaiting finish of 2 more threads\n",
      "2021-02-19 20:21:32,133 : INFO : worker thread finished; awaiting finish of 1 more threads\n",
      "2021-02-19 20:21:32,135 : INFO : worker thread finished; awaiting finish of 0 more threads\n",
      "2021-02-19 20:21:32,135 : INFO : EPOCH - 1 : training on 196845 raw words (136686 effective words) took 0.1s, 1551311 effective words/s\n",
      "2021-02-19 20:21:32,230 : INFO : worker thread finished; awaiting finish of 2 more threads\n",
      "2021-02-19 20:21:32,238 : INFO : worker thread finished; awaiting finish of 1 more threads\n",
      "2021-02-19 20:21:32,239 : INFO : worker thread finished; awaiting finish of 0 more threads\n",
      "2021-02-19 20:21:32,239 : INFO : EPOCH - 2 : training on 196845 raw words (136850 effective words) took 0.1s, 1382773 effective words/s\n",
      "2021-02-19 20:21:32,344 : INFO : worker thread finished; awaiting finish of 2 more threads\n",
      "2021-02-19 20:21:32,352 : INFO : worker thread finished; awaiting finish of 1 more threads\n",
      "2021-02-19 20:21:32,353 : INFO : worker thread finished; awaiting finish of 0 more threads\n",
      "2021-02-19 20:21:32,354 : INFO : EPOCH - 3 : training on 196845 raw words (136837 effective words) took 0.1s, 1255889 effective words/s\n",
      "2021-02-19 20:21:32,467 : INFO : worker thread finished; awaiting finish of 2 more threads\n",
      "2021-02-19 20:21:32,469 : INFO : worker thread finished; awaiting finish of 1 more threads\n",
      "2021-02-19 20:21:32,473 : INFO : worker thread finished; awaiting finish of 0 more threads\n",
      "2021-02-19 20:21:32,475 : INFO : EPOCH - 4 : training on 196845 raw words (136752 effective words) took 0.1s, 1175707 effective words/s\n",
      "2021-02-19 20:21:32,581 : INFO : worker thread finished; awaiting finish of 2 more threads\n",
      "2021-02-19 20:21:32,586 : INFO : worker thread finished; awaiting finish of 1 more threads\n",
      "2021-02-19 20:21:32,587 : INFO : worker thread finished; awaiting finish of 0 more threads\n",
      "2021-02-19 20:21:32,588 : INFO : EPOCH - 5 : training on 196845 raw words (136732 effective words) took 0.1s, 1265954 effective words/s\n",
      "2021-02-19 20:21:32,589 : INFO : training on a 984225 raw words (683857 effective words) took 0.5s, 1254380 effective words/s\n",
      "<ipython-input-87-2f5bb1a63d99>:44: DeprecationWarning: Call to deprecated `__contains__` (Method will be removed in 4.0.0, use self.wv.__contains__() instead).\n",
      "  if token in self.model:\n",
      "<ipython-input-87-2f5bb1a63d99>:45: DeprecationWarning: Call to deprecated `__getitem__` (Method will be removed in 4.0.0, use self.wv.__getitem__() instead).\n",
      "  accum_vecs.append(self.model[token])\n"
     ]
    },
    {
     "data": {
      "text/plain": [
       "[(0, 0.019834446),\n",
       " (1, -0.27434406),\n",
       " (2, -0.30371475),\n",
       " (3, -0.158919),\n",
       " (4, 0.13506174),\n",
       " (5, 0.06990083),\n",
       " (6, -0.13702156),\n",
       " (7, -0.12127109),\n",
       " (8, 0.0029872605),\n",
       " (9, -0.20639823),\n",
       " (10, 0.075837106),\n",
       " (11, 0.10550836),\n",
       " (12, -0.35749993),\n",
       " (13, -0.017794903),\n",
       " (14, 0.79662246),\n",
       " (15, 0.16631009),\n",
       " (16, -0.28408295),\n",
       " (17, -0.0005069222),\n",
       " (18, -0.24732192),\n",
       " (19, -0.97361916),\n",
       " (20, 0.083729245),\n",
       " (21, 0.80059147),\n",
       " (22, -0.026542464),\n",
       " (23, -0.0062306393),\n",
       " (24, 0.23809284),\n",
       " (25, 0.09438409),\n",
       " (26, 0.2808498),\n",
       " (27, -0.94135636),\n",
       " (28, 0.5823641),\n",
       " (29, 0.29717433),\n",
       " (30, 0.06345297),\n",
       " (31, -0.09743194),\n",
       " (32, 0.4557281),\n",
       " (33, 0.024157593),\n",
       " (34, 0.42910868),\n",
       " (35, 0.1556147),\n",
       " (36, -0.7256454),\n",
       " (37, -0.1764237),\n",
       " (38, 0.12924305),\n",
       " (39, 0.18210611),\n",
       " (40, 0.29939252),\n",
       " (41, 0.428955),\n",
       " (42, 0.41114017),\n",
       " (43, 0.06325522),\n",
       " (44, -0.13652533),\n",
       " (45, -0.0077273627),\n",
       " (46, 0.056944627),\n",
       " (47, 0.13625059),\n",
       " (48, -0.26957396),\n",
       " (49, 0.5592083),\n",
       " (50, 0.10620781),\n",
       " (51, 0.12771815),\n",
       " (52, -0.10086274),\n",
       " (53, 0.46515122),\n",
       " (54, -0.11086507),\n",
       " (55, 0.21610704),\n",
       " (56, 0.2289766),\n",
       " (57, 0.16069105),\n",
       " (58, -0.2693887),\n",
       " (59, 0.060450714),\n",
       " (60, 0.50476557),\n",
       " (61, 0.06530077),\n",
       " (62, 0.2210947),\n",
       " (63, 0.44351166),\n",
       " (64, -0.21190217),\n",
       " (65, 0.25517878),\n",
       " (66, 0.27671787),\n",
       " (67, -0.23109427),\n",
       " (68, 0.42920497),\n",
       " (69, -0.22641486),\n",
       " (70, -0.36533228),\n",
       " (71, -0.5567864),\n",
       " (72, -0.23098063),\n",
       " (73, 0.63995415),\n",
       " (74, -0.15934315),\n",
       " (75, 0.42254782),\n",
       " (76, -0.652583),\n",
       " (77, -0.4009145),\n",
       " (78, -0.3211365),\n",
       " (79, 0.52672154),\n",
       " (80, -0.6038143),\n",
       " (81, -0.17776899),\n",
       " (82, -0.11173369),\n",
       " (83, 0.41928715),\n",
       " (84, 0.28267938),\n",
       " (85, -0.682649),\n",
       " (86, -0.54657495),\n",
       " (87, -0.33649537),\n",
       " (88, -0.41416395),\n",
       " (89, -0.30671868),\n",
       " (90, -0.21112283),\n",
       " (91, -0.37355396),\n",
       " (92, -0.0021927627),\n",
       " (93, 0.0033543399),\n",
       " (94, 0.31077203),\n",
       " (95, -0.112938896),\n",
       " (96, -0.29402173),\n",
       " (97, 0.18046549),\n",
       " (98, 0.93094206),\n",
       " (99, -0.1798336)]"
      ]
     },
     "execution_count": 87,
     "metadata": {},
     "output_type": "execute_result"
    }
   ],
   "source": [
    "# TODO: Implement this! (10 points)\n",
    "class W2VRetrievalModel(VectorSpaceRetrievalModel):\n",
    "    def __init__(self, doc_repr):\n",
    "        super().__init__(doc_repr)\n",
    "        \n",
    "        # the dimensionality of the vectors\n",
    "        self.size = 100 \n",
    "        self.min_count = 1\n",
    "    \n",
    "    def train_model(self):\n",
    "        \"\"\"\n",
    "        Trains the W2V model\n",
    "        \"\"\"\n",
    "        # YOUR CODE HERE\n",
    "        self.model = Word2Vec(self.documents, size=self.size, min_count=self.min_count) \n",
    "        \n",
    "    def vectorize_documents(self):\n",
    "        \"\"\"\n",
    "            Returns a doc_id -> vector dictionary\n",
    "        \"\"\"\n",
    "        # YOUR CODE HERE\n",
    "        vectors = {}\n",
    "        for (doc_id, doc) in self.doc_repr:\n",
    "            accum_vecs = []\n",
    "            for token in doc:\n",
    "                if token in self.model:\n",
    "                    accum_vecs.append(self.model[token])\n",
    "\n",
    "            aggregated_vec = np.mean(accum_vecs, axis=0)\n",
    "            if not accum_vecs:\n",
    "                vectors[doc_id] = list(zip(range(self.size), self.size * [0]))\n",
    "            else:\n",
    "                vectors[doc_id] = list(zip(range(self.size), aggregated_vec))\n",
    "        return vectors\n",
    "\n",
    "    def vectorize_query(self, query):\n",
    "        \"\"\"\n",
    "        Vectorizes the query using the W2V model\n",
    "        \"\"\"\n",
    "        query = process_text(query, **config_2)\n",
    "        # YOUR CODE HERE\n",
    "        accum_vecs = []\n",
    "        for token in query:\n",
    "            if token in self.model:\n",
    "                accum_vecs.append(self.model[token])\n",
    "        aggregated_vec = np.mean(accum_vecs, axis=0)\n",
    "    \n",
    "        # If no tokens are in the model\n",
    "        if not accum_vecs:\n",
    "            return list(zip(range(self.size), self.size * [0]))\n",
    "        else:\n",
    "            return list(zip(range(self.size), aggregated_vec))\n",
    "    \n",
    "    \n",
    "class W2VPretrainedRetrievalModel(W2VRetrievalModel):\n",
    "    def __init__(self, doc_repr):\n",
    "        super().__init__(doc_repr)\n",
    "        self.model_name = \"word2vec-google-news-300\"\n",
    "        self.size = 300\n",
    "    \n",
    "    def train_model(self):\n",
    "        \"\"\"\n",
    "        Loads the pretrained model\n",
    "        \"\"\"\n",
    "        self.model = g_downloader.load(self.model_name)\n",
    "\n",
    "w2v = W2VRetrievalModel(doc_repr_2)\n",
    "w2v.train_model()\n",
    "\n",
    "# you can now get a W2V vector for a given query in the following way:\n",
    "w2v.vectorize_query(\"report\")"
   ]
  },
  {
   "cell_type": "code",
   "execution_count": 88,
   "metadata": {
    "ExecuteTime": {
     "end_time": "2021-02-19T19:21:32.609583Z",
     "start_time": "2021-02-19T19:21:32.605593Z"
    },
    "deletable": false,
    "editable": false,
    "id": "ATy5tnMV4IWv",
    "nbgrader": {
     "cell_type": "code",
     "checksum": "f92b5c5a8c6c4b80652b94223209ab0b",
     "grade": true,
     "grade_id": "cell-b31c0f8d214b8bdf",
     "locked": true,
     "points": 0,
     "schema_version": 3,
     "solution": false,
     "task": false
    }
   },
   "outputs": [
    {
     "name": "stderr",
     "output_type": "stream",
     "text": [
      "<ipython-input-87-2f5bb1a63d99>:44: DeprecationWarning: Call to deprecated `__contains__` (Method will be removed in 4.0.0, use self.wv.__contains__() instead).\n",
      "  if token in self.model:\n",
      "<ipython-input-87-2f5bb1a63d99>:45: DeprecationWarning: Call to deprecated `__getitem__` (Method will be removed in 4.0.0, use self.wv.__getitem__() instead).\n",
      "  accum_vecs.append(self.model[token])\n"
     ]
    }
   ],
   "source": [
    "assert len(w2v.vectorize_query(\"report\")) == 100\n",
    "assert len(w2v.vectorize_query(\"this is a sentence that is not mellifluous\")) == 100\n"
   ]
  },
  {
   "cell_type": "markdown",
   "metadata": {
    "deletable": false,
    "editable": false,
    "id": "lP0VtCid4IWv",
    "nbgrader": {
     "cell_type": "markdown",
     "checksum": "8dfaabebcb06f308a7ca61fdc5d369e7",
     "grade": false,
     "grade_id": "cell-c2614fa067386384",
     "locked": true,
     "points": 8,
     "schema_version": 3,
     "solution": false,
     "task": true
    }
   },
   "source": [
    "\\#### Please do not change this. This cell is used for grading."
   ]
  },
  {
   "cell_type": "code",
   "execution_count": 89,
   "metadata": {
    "ExecuteTime": {
     "end_time": "2021-02-19T19:22:08.856231Z",
     "start_time": "2021-02-19T19:21:32.610579Z"
    },
    "id": "-aeBam5p4IWv"
   },
   "outputs": [
    {
     "name": "stderr",
     "output_type": "stream",
     "text": [
      "2021-02-19 20:21:32,616 : INFO : adding document #0 to Dictionary(0 unique tokens: [])\n",
      "2021-02-19 20:21:32,818 : INFO : built Dictionary(6204 unique tokens: ['-', 'algebra', 'intern', 'languag', 'preliminari']...) from 3204 documents (total 196845 corpus positions)\n",
      "2021-02-19 20:21:32,824 : INFO : discarding 4795 tokens: [('of', 2061), ('repeat', 8), ('glossari', 7), ('inspect', 8), ('the', 1794), ('uncol', 2), ('a', 1807), ('rung', 9), ('secant', 2), ('.', 1603)]...\n",
      "2021-02-19 20:21:32,825 : INFO : keeping 1409 tokens which were in no less than 10 and no more than 1602 (=50.0%) documents\n",
      "2021-02-19 20:21:32,828 : INFO : resulting dictionary: Dictionary(1409 unique tokens: ['-', 'algebra', 'intern', 'languag', 'preliminari']...)\n",
      "2021-02-19 20:21:32,985 : INFO : loading projection weights from C:\\Users\\Lenovo/gensim-data\\word2vec-google-news-300\\word2vec-google-news-300.gz\n",
      "2021-02-19 20:22:08,841 : INFO : loaded (3000000, 300) matrix from C:\\Users\\Lenovo/gensim-data\\word2vec-google-news-300\\word2vec-google-news-300.gz\n"
     ]
    },
    {
     "data": {
      "text/plain": [
       "[(0, -0.14257812),\n",
       " (1, -0.1640625),\n",
       " (2, -0.09033203),\n",
       " (3, -0.11230469),\n",
       " (4, 0.100097656),\n",
       " (5, -0.041259766),\n",
       " (6, 0.048828125),\n",
       " (7, -0.13671875),\n",
       " (8, 0.19628906),\n",
       " (9, -0.13476562),\n",
       " (10, -0.017578125),\n",
       " (11, 0.032226562),\n",
       " (12, 0.095214844),\n",
       " (13, -0.10595703),\n",
       " (14, -0.16992188),\n",
       " (15, 0.041015625),\n",
       " (16, -0.26367188),\n",
       " (17, -0.0063171387),\n",
       " (18, -0.17773438),\n",
       " (19, -0.24023438),\n",
       " (20, 0.3515625),\n",
       " (21, -0.012207031),\n",
       " (22, -0.16210938),\n",
       " (23, -0.12060547),\n",
       " (24, 0.04321289),\n",
       " (25, 0.10986328),\n",
       " (26, 0.052490234),\n",
       " (27, 0.17871094),\n",
       " (28, -0.14550781),\n",
       " (29, 0.13769531),\n",
       " (30, -0.08203125),\n",
       " (31, -0.28320312),\n",
       " (32, -0.10888672),\n",
       " (33, -0.2890625),\n",
       " (34, 0.072265625),\n",
       " (35, -0.04736328),\n",
       " (36, 0.040283203),\n",
       " (37, 0.067871094),\n",
       " (38, 0.11669922),\n",
       " (39, 0.000831604),\n",
       " (40, 0.068359375),\n",
       " (41, 0.12011719),\n",
       " (42, -0.088378906),\n",
       " (43, 0.33789062),\n",
       " (44, -0.044677734),\n",
       " (45, -0.030151367),\n",
       " (46, 0.0076904297),\n",
       " (47, -0.021118164),\n",
       " (48, -0.25390625),\n",
       " (49, 0.14941406),\n",
       " (50, 0.3984375),\n",
       " (51, 0.021606445),\n",
       " (52, -0.02319336),\n",
       " (53, 0.0063476562),\n",
       " (54, 0.008239746),\n",
       " (55, -0.16894531),\n",
       " (56, 0.037353516),\n",
       " (57, -0.06347656),\n",
       " (58, 0.1171875),\n",
       " (59, -0.1484375),\n",
       " (60, -0.07861328),\n",
       " (61, 0.36914062),\n",
       " (62, -0.22460938),\n",
       " (63, 0.17382812),\n",
       " (64, 0.0138549805),\n",
       " (65, 0.1875),\n",
       " (66, -0.10107422),\n",
       " (67, 0.037841797),\n",
       " (68, 0.0021209717),\n",
       " (69, -0.05126953),\n",
       " (70, 0.096191406),\n",
       " (71, -0.057128906),\n",
       " (72, 0.10595703),\n",
       " (73, -0.020996094),\n",
       " (74, 0.16113281),\n",
       " (75, 0.09765625),\n",
       " (76, 0.038330078),\n",
       " (77, 0.21972656),\n",
       " (78, 0.10644531),\n",
       " (79, 0.0859375),\n",
       " (80, 0.1796875),\n",
       " (81, -0.08300781),\n",
       " (82, -0.033203125),\n",
       " (83, 0.041015625),\n",
       " (84, -0.064941406),\n",
       " (85, 0.019897461),\n",
       " (86, 0.13378906),\n",
       " (87, -0.09765625),\n",
       " (88, -0.19335938),\n",
       " (89, -0.23535156),\n",
       " (90, 0.19042969),\n",
       " (91, 0.0024871826),\n",
       " (92, -0.01574707),\n",
       " (93, 0.032226562),\n",
       " (94, -0.21972656),\n",
       " (95, -0.091308594),\n",
       " (96, 0.021240234),\n",
       " (97, 0.15820312),\n",
       " (98, 0.29882812),\n",
       " (99, -0.328125),\n",
       " (100, 0.057373047),\n",
       " (101, -0.04638672),\n",
       " (102, 0.11328125),\n",
       " (103, -0.1015625),\n",
       " (104, 0.18066406),\n",
       " (105, -0.025146484),\n",
       " (106, -0.16601562),\n",
       " (107, -0.096191406),\n",
       " (108, 0.018798828),\n",
       " (109, -0.19433594),\n",
       " (110, 0.14941406),\n",
       " (111, -0.056640625),\n",
       " (112, -0.106933594),\n",
       " (113, -0.15039062),\n",
       " (114, -0.17578125),\n",
       " (115, 0.11279297),\n",
       " (116, 0.049316406),\n",
       " (117, 0.21972656),\n",
       " (118, 0.31835938),\n",
       " (119, 0.15722656),\n",
       " (120, -0.29296875),\n",
       " (121, 0.10498047),\n",
       " (122, -0.296875),\n",
       " (123, -0.013427734),\n",
       " (124, 0.09082031),\n",
       " (125, 0.012573242),\n",
       " (126, -0.051513672),\n",
       " (127, -0.12890625),\n",
       " (128, 0.014465332),\n",
       " (129, 0.12060547),\n",
       " (130, -0.10107422),\n",
       " (131, -0.111328125),\n",
       " (132, 0.063964844),\n",
       " (133, -0.052978516),\n",
       " (134, -0.04321289),\n",
       " (135, -0.012939453),\n",
       " (136, -0.02758789),\n",
       " (137, -0.09716797),\n",
       " (138, -0.20214844),\n",
       " (139, 0.123046875),\n",
       " (140, -0.04248047),\n",
       " (141, 0.17382812),\n",
       " (142, -0.013671875),\n",
       " (143, 0.1015625),\n",
       " (144, -0.0009384155),\n",
       " (145, -0.03564453),\n",
       " (146, 0.30078125),\n",
       " (147, -0.068359375),\n",
       " (148, -0.056152344),\n",
       " (149, 0.037597656),\n",
       " (150, 0.06591797),\n",
       " (151, 0.040283203),\n",
       " (152, 0.0119018555),\n",
       " (153, 0.096191406),\n",
       " (154, 0.3671875),\n",
       " (155, -0.27929688),\n",
       " (156, -0.052001953),\n",
       " (157, -0.106933594),\n",
       " (158, -0.13476562),\n",
       " (159, -0.046142578),\n",
       " (160, 0.25),\n",
       " (161, 0.0056762695),\n",
       " (162, -0.014404297),\n",
       " (163, -0.03100586),\n",
       " (164, -0.060302734),\n",
       " (165, 0.10595703),\n",
       " (166, 0.37890625),\n",
       " (167, 0.05883789),\n",
       " (168, 0.123046875),\n",
       " (169, -0.115234375),\n",
       " (170, 0.14941406),\n",
       " (171, -0.1640625),\n",
       " (172, -0.23339844),\n",
       " (173, -0.07763672),\n",
       " (174, 0.026733398),\n",
       " (175, -0.021118164),\n",
       " (176, 0.19433594),\n",
       " (177, -0.056152344),\n",
       " (178, -0.006439209),\n",
       " (179, -0.16992188),\n",
       " (180, -0.118652344),\n",
       " (181, -0.06738281),\n",
       " (182, -0.068847656),\n",
       " (183, -0.08691406),\n",
       " (184, -0.1015625),\n",
       " (185, 0.014160156),\n",
       " (186, -0.20117188),\n",
       " (187, 0.09814453),\n",
       " (188, -0.010253906),\n",
       " (189, 0.1875),\n",
       " (190, 0.19628906),\n",
       " (191, -0.22070312),\n",
       " (192, -0.19628906),\n",
       " (193, -0.07373047),\n",
       " (194, 0.06640625),\n",
       " (195, -0.13378906),\n",
       " (196, 0.18359375),\n",
       " (197, -0.20019531),\n",
       " (198, 0.19824219),\n",
       " (199, 0.05029297),\n",
       " (200, 0.029907227),\n",
       " (201, 0.017700195),\n",
       " (202, -0.19335938),\n",
       " (203, -0.096191406),\n",
       " (204, -0.10253906),\n",
       " (205, 0.21289062),\n",
       " (206, -0.029907227),\n",
       " (207, 0.14355469),\n",
       " (208, 0.041015625),\n",
       " (209, -0.21191406),\n",
       " (210, 0.20800781),\n",
       " (211, 0.13769531),\n",
       " (212, -0.01965332),\n",
       " (213, 0.014953613),\n",
       " (214, -0.09765625),\n",
       " (215, 0.24316406),\n",
       " (216, 0.080078125),\n",
       " (217, 0.08251953),\n",
       " (218, 0.09863281),\n",
       " (219, 0.056884766),\n",
       " (220, 0.04248047),\n",
       " (221, 0.068847656),\n",
       " (222, -0.03540039),\n",
       " (223, -0.076171875),\n",
       " (224, -0.00016117096),\n",
       " (225, -0.07519531),\n",
       " (226, 0.22460938),\n",
       " (227, 0.15136719),\n",
       " (228, 0.10058594),\n",
       " (229, 0.10986328),\n",
       " (230, 0.023803711),\n",
       " (231, 0.088378906),\n",
       " (232, 0.061767578),\n",
       " (233, -0.107910156),\n",
       " (234, 0.06225586),\n",
       " (235, 0.0034332275),\n",
       " (236, 0.080566406),\n",
       " (237, 0.106933594),\n",
       " (238, 0.08886719),\n",
       " (239, -0.23730469),\n",
       " (240, 0.064941406),\n",
       " (241, 0.010192871),\n",
       " (242, -0.088378906),\n",
       " (243, -0.33203125),\n",
       " (244, 0.0046691895),\n",
       " (245, 0.21289062),\n",
       " (246, 0.0859375),\n",
       " (247, 0.020385742),\n",
       " (248, 0.045654297),\n",
       " (249, 0.1484375),\n",
       " (250, 0.11816406),\n",
       " (251, 0.055664062),\n",
       " (252, -0.17285156),\n",
       " (253, -0.125),\n",
       " (254, -0.025390625),\n",
       " (255, -0.31835938),\n",
       " (256, 0.03112793),\n",
       " (257, 0.0859375),\n",
       " (258, -0.041992188),\n",
       " (259, 0.15625),\n",
       " (260, 0.16113281),\n",
       " (261, 0.19824219),\n",
       " (262, -0.100097656),\n",
       " (263, 0.203125),\n",
       " (264, 0.12890625),\n",
       " (265, 0.23339844),\n",
       " (266, -0.26757812),\n",
       " (267, 0.05517578),\n",
       " (268, 0.048828125),\n",
       " (269, 0.072265625),\n",
       " (270, 0.24414062),\n",
       " (271, 0.24414062),\n",
       " (272, 0.056884766),\n",
       " (273, -0.0546875),\n",
       " (274, -0.033691406),\n",
       " (275, -0.12060547),\n",
       " (276, 0.03491211),\n",
       " (277, -0.14550781),\n",
       " (278, 0.087402344),\n",
       " (279, -0.08300781),\n",
       " (280, 0.017211914),\n",
       " (281, 0.14355469),\n",
       " (282, -0.122558594),\n",
       " (283, 0.1796875),\n",
       " (284, 0.13085938),\n",
       " (285, -0.16503906),\n",
       " (286, 0.012756348),\n",
       " (287, 0.16015625),\n",
       " (288, -0.03112793),\n",
       " (289, 0.08203125),\n",
       " (290, 0.17382812),\n",
       " (291, -0.16796875),\n",
       " (292, 0.13085938),\n",
       " (293, 0.08544922),\n",
       " (294, -0.2109375),\n",
       " (295, -0.13085938),\n",
       " (296, -0.028930664),\n",
       " (297, -0.10546875),\n",
       " (298, 0.084472656),\n",
       " (299, -0.14160156)]"
      ]
     },
     "execution_count": 89,
     "metadata": {},
     "output_type": "execute_result"
    }
   ],
   "source": [
    "w2v_pretrained = W2VPretrainedRetrievalModel(doc_repr_2)\n",
    "w2v_pretrained.train_model()\n",
    "\n",
    "# you can now get an W2V vector for a given query in the following way:\n",
    "w2v_pretrained.vectorize_query(\"report\")"
   ]
  },
  {
   "cell_type": "code",
   "execution_count": 90,
   "metadata": {
    "ExecuteTime": {
     "end_time": "2021-02-19T19:22:08.861222Z",
     "start_time": "2021-02-19T19:22:08.857194Z"
    },
    "deletable": false,
    "editable": false,
    "id": "_0ifhcln4IWv",
    "nbgrader": {
     "cell_type": "code",
     "checksum": "0822845afb5eafe5ddb1ffeaa4f4942a",
     "grade": true,
     "grade_id": "cell-1b1466f8ce516f42",
     "locked": true,
     "points": 2,
     "schema_version": 3,
     "solution": false,
     "task": false
    }
   },
   "outputs": [
    {
     "name": "stdout",
     "output_type": "stream",
     "text": [
      "300\n"
     ]
    }
   ],
   "source": [
    "##### Function check\n",
    "\n",
    "print(len(w2v_pretrained.vectorize_query(\"report\")))\n",
    "#####"
   ]
  },
  {
   "cell_type": "code",
   "execution_count": 91,
   "metadata": {
    "ExecuteTime": {
     "end_time": "2021-02-19T19:22:10.036324Z",
     "start_time": "2021-02-19T19:22:08.862182Z"
    },
    "id": "VCpO-xcU4IWv"
   },
   "outputs": [
    {
     "name": "stderr",
     "output_type": "stream",
     "text": [
      "<ipython-input-87-2f5bb1a63d99>:26: DeprecationWarning: Call to deprecated `__contains__` (Method will be removed in 4.0.0, use self.wv.__contains__() instead).\n",
      "  if token in self.model:\n",
      "<ipython-input-87-2f5bb1a63d99>:27: DeprecationWarning: Call to deprecated `__getitem__` (Method will be removed in 4.0.0, use self.wv.__getitem__() instead).\n",
      "  accum_vecs.append(self.model[token])\n"
     ]
    },
    {
     "data": {
      "application/vnd.jupyter.widget-view+json": {
       "model_id": "b11bb6bf91964cf6aff6e78a2787108b",
       "version_major": 2,
       "version_minor": 0
      },
      "text/plain": [
       "Text(value='', description='Search Bar')"
      ]
     },
     "metadata": {},
     "output_type": "display_data"
    }
   ],
   "source": [
    "drm_w2v = DenseRetrievalRanker(w2v, cosine_sim)\n",
    "\n",
    "# test your LDA model\n",
    "search_fn = drm_w2v.search\n",
    "\n",
    "text = widgets.Text(description=\"Search Bar\", width=200)\n",
    "display(text)\n",
    "\n",
    "\n",
    "text.on_submit(handle_submit_2)"
   ]
  },
  {
   "cell_type": "code",
   "execution_count": 92,
   "metadata": {
    "ExecuteTime": {
     "end_time": "2021-02-19T19:22:10.616585Z",
     "start_time": "2021-02-19T19:22:10.038317Z"
    },
    "id": "7wyn-qfY4IWv"
   },
   "outputs": [
    {
     "name": "stderr",
     "output_type": "stream",
     "text": [
      "C:\\Users\\Lenovo\\anaconda3\\lib\\site-packages\\numpy\\core\\fromnumeric.py:3372: RuntimeWarning: Mean of empty slice.\n",
      "  return _methods._mean(a, axis=axis, dtype=dtype,\n",
      "C:\\Users\\Lenovo\\anaconda3\\lib\\site-packages\\numpy\\core\\_methods.py:170: RuntimeWarning: invalid value encountered in double_scalars\n",
      "  ret = ret.dtype.type(ret / rcount)\n"
     ]
    },
    {
     "data": {
      "application/vnd.jupyter.widget-view+json": {
       "model_id": "fd3c5a4f42ab463abd6df884ab9e2e6d",
       "version_major": 2,
       "version_minor": 0
      },
      "text/plain": [
       "Text(value='', description='Search Bar')"
      ]
     },
     "metadata": {},
     "output_type": "display_data"
    }
   ],
   "source": [
    "drm_w2v_pretrained = DenseRetrievalRanker(w2v_pretrained, cosine_sim)\n",
    "\n",
    "# test your LDA model\n",
    "search_fn = drm_w2v_pretrained.search\n",
    "\n",
    "text = widgets.Text(description=\"Search Bar\", width=200)\n",
    "display(text)\n",
    "\n",
    "\n",
    "text.on_submit(handle_submit_2)"
   ]
  },
  {
   "cell_type": "markdown",
   "metadata": {
    "deletable": false,
    "editable": false,
    "id": "giJFuUld4IWv",
    "nbgrader": {
     "cell_type": "markdown",
     "checksum": "51b778984fd60757974f51047c61eb15",
     "grade": false,
     "grade_id": "cell-b92f701cbc706108",
     "locked": true,
     "schema_version": 3,
     "solution": false,
     "task": false
    }
   },
   "source": [
    "**Implementation (10 points):**\n",
    "For Doc2Vec, you will need to create a list of `TaggedDocument` instead of using the `self.corpus` or `self.documents` variable. Use the document id as the 'tag'.\n",
    "  "
   ]
  },
  {
   "cell_type": "code",
   "execution_count": 93,
   "metadata": {
    "ExecuteTime": {
     "end_time": "2021-02-19T19:22:17.319612Z",
     "start_time": "2021-02-19T19:22:10.617583Z"
    },
    "deletable": false,
    "id": "_Ie4aqXa4IWw",
    "nbgrader": {
     "cell_type": "code",
     "checksum": "1f60fdeb97febb7f4a6fd5bf109aac20",
     "grade": false,
     "grade_id": "cell-680facdcc98a19ab",
     "locked": false,
     "schema_version": 3,
     "solution": true,
     "task": false
    },
    "tags": []
   },
   "outputs": [
    {
     "name": "stderr",
     "output_type": "stream",
     "text": [
      "2021-02-19 20:22:10,624 : INFO : adding document #0 to Dictionary(0 unique tokens: [])\n",
      "2021-02-19 20:22:10,822 : INFO : built Dictionary(6204 unique tokens: ['-', 'algebra', 'intern', 'languag', 'preliminari']...) from 3204 documents (total 196845 corpus positions)\n",
      "2021-02-19 20:22:10,829 : INFO : discarding 4795 tokens: [('of', 2061), ('repeat', 8), ('glossari', 7), ('inspect', 8), ('the', 1794), ('uncol', 2), ('a', 1807), ('rung', 9), ('secant', 2), ('.', 1603)]...\n",
      "2021-02-19 20:22:10,830 : INFO : keeping 1409 tokens which were in no less than 10 and no more than 1602 (=50.0%) documents\n",
      "2021-02-19 20:22:10,833 : INFO : resulting dictionary: Dictionary(1409 unique tokens: ['-', 'algebra', 'intern', 'languag', 'preliminari']...)\n",
      "2021-02-19 20:22:10,974 : INFO : collecting all words and their counts\n",
      "2021-02-19 20:22:10,975 : INFO : PROGRESS: at example #0, processed 0 words (0/s), 0 word types, 0 tags\n",
      "2021-02-19 20:22:11,021 : INFO : collected 6204 word types and 3205 unique tags from a corpus of 3204 examples and 196845 words\n",
      "2021-02-19 20:22:11,022 : INFO : Loading a fresh vocabulary\n",
      "2021-02-19 20:22:11,036 : INFO : effective_min_count=1 retains 6204 unique words (100% of original 6204, drops 0)\n",
      "2021-02-19 20:22:11,037 : INFO : effective_min_count=1 leaves 196845 word corpus (100% of original 196845, drops 0)\n",
      "2021-02-19 20:22:11,056 : INFO : deleting the raw counts dictionary of 6204 items\n",
      "2021-02-19 20:22:11,056 : INFO : sample=0.001 downsamples 42 most-common words\n",
      "2021-02-19 20:22:11,057 : INFO : downsampling leaves estimated 136742 word corpus (69.5% of prior 196845)\n",
      "2021-02-19 20:22:11,073 : INFO : estimated required memory for 6204 words and 100 dimensions: 9347200 bytes\n",
      "2021-02-19 20:22:11,073 : INFO : resetting layer weights\n",
      "2021-02-19 20:22:12,643 : INFO : training model with 3 workers on 6204 vocabulary and 100 features, using sg=0 hs=0 sample=0.001 negative=5 window=5\n",
      "2021-02-19 20:22:12,824 : INFO : worker thread finished; awaiting finish of 2 more threads\n",
      "2021-02-19 20:22:12,840 : INFO : worker thread finished; awaiting finish of 1 more threads\n",
      "2021-02-19 20:22:12,842 : INFO : worker thread finished; awaiting finish of 0 more threads\n",
      "2021-02-19 20:22:12,843 : INFO : EPOCH - 1 : training on 196845 raw words (140053 effective words) took 0.2s, 718508 effective words/s\n",
      "2021-02-19 20:22:13,045 : INFO : worker thread finished; awaiting finish of 2 more threads\n",
      "2021-02-19 20:22:13,061 : INFO : worker thread finished; awaiting finish of 1 more threads\n",
      "2021-02-19 20:22:13,063 : INFO : worker thread finished; awaiting finish of 0 more threads\n",
      "2021-02-19 20:22:13,064 : INFO : EPOCH - 2 : training on 196845 raw words (140135 effective words) took 0.2s, 652193 effective words/s\n",
      "2021-02-19 20:22:13,281 : INFO : worker thread finished; awaiting finish of 2 more threads\n",
      "2021-02-19 20:22:13,293 : INFO : worker thread finished; awaiting finish of 1 more threads\n",
      "2021-02-19 20:22:13,296 : INFO : worker thread finished; awaiting finish of 0 more threads\n",
      "2021-02-19 20:22:13,297 : INFO : EPOCH - 3 : training on 196845 raw words (140027 effective words) took 0.2s, 612623 effective words/s\n",
      "2021-02-19 20:22:13,510 : INFO : worker thread finished; awaiting finish of 2 more threads\n",
      "2021-02-19 20:22:13,527 : INFO : worker thread finished; awaiting finish of 1 more threads\n",
      "2021-02-19 20:22:13,528 : INFO : worker thread finished; awaiting finish of 0 more threads\n",
      "2021-02-19 20:22:13,528 : INFO : EPOCH - 4 : training on 196845 raw words (139941 effective words) took 0.2s, 619315 effective words/s\n",
      "2021-02-19 20:22:13,747 : INFO : worker thread finished; awaiting finish of 2 more threads\n",
      "2021-02-19 20:22:13,758 : INFO : worker thread finished; awaiting finish of 1 more threads\n",
      "2021-02-19 20:22:13,761 : INFO : worker thread finished; awaiting finish of 0 more threads\n",
      "2021-02-19 20:22:13,762 : INFO : EPOCH - 5 : training on 196845 raw words (139943 effective words) took 0.2s, 615765 effective words/s\n",
      "2021-02-19 20:22:13,984 : INFO : worker thread finished; awaiting finish of 2 more threads\n",
      "2021-02-19 20:22:13,998 : INFO : worker thread finished; awaiting finish of 1 more threads\n",
      "2021-02-19 20:22:13,999 : INFO : worker thread finished; awaiting finish of 0 more threads\n",
      "2021-02-19 20:22:14,000 : INFO : EPOCH - 6 : training on 196845 raw words (140102 effective words) took 0.2s, 602682 effective words/s\n",
      "2021-02-19 20:22:14,228 : INFO : worker thread finished; awaiting finish of 2 more threads\n",
      "2021-02-19 20:22:14,234 : INFO : worker thread finished; awaiting finish of 1 more threads\n",
      "2021-02-19 20:22:14,238 : INFO : worker thread finished; awaiting finish of 0 more threads\n",
      "2021-02-19 20:22:14,239 : INFO : EPOCH - 7 : training on 196845 raw words (139732 effective words) took 0.2s, 594586 effective words/s\n",
      "2021-02-19 20:22:14,463 : INFO : worker thread finished; awaiting finish of 2 more threads\n",
      "2021-02-19 20:22:14,474 : INFO : worker thread finished; awaiting finish of 1 more threads\n",
      "2021-02-19 20:22:14,477 : INFO : worker thread finished; awaiting finish of 0 more threads\n",
      "2021-02-19 20:22:14,477 : INFO : EPOCH - 8 : training on 196845 raw words (139788 effective words) took 0.2s, 599189 effective words/s\n",
      "2021-02-19 20:22:14,699 : INFO : worker thread finished; awaiting finish of 2 more threads\n",
      "2021-02-19 20:22:14,709 : INFO : worker thread finished; awaiting finish of 1 more threads\n",
      "2021-02-19 20:22:14,710 : INFO : worker thread finished; awaiting finish of 0 more threads\n",
      "2021-02-19 20:22:14,710 : INFO : EPOCH - 9 : training on 196845 raw words (139897 effective words) took 0.2s, 614292 effective words/s\n",
      "2021-02-19 20:22:14,930 : INFO : worker thread finished; awaiting finish of 2 more threads\n",
      "2021-02-19 20:22:14,946 : INFO : worker thread finished; awaiting finish of 1 more threads\n",
      "2021-02-19 20:22:14,947 : INFO : worker thread finished; awaiting finish of 0 more threads\n",
      "2021-02-19 20:22:14,948 : INFO : EPOCH - 10 : training on 196845 raw words (139952 effective words) took 0.2s, 604575 effective words/s\n",
      "2021-02-19 20:22:15,176 : INFO : worker thread finished; awaiting finish of 2 more threads\n",
      "2021-02-19 20:22:15,183 : INFO : worker thread finished; awaiting finish of 1 more threads\n",
      "2021-02-19 20:22:15,185 : INFO : worker thread finished; awaiting finish of 0 more threads\n",
      "2021-02-19 20:22:15,186 : INFO : EPOCH - 11 : training on 196845 raw words (140150 effective words) took 0.2s, 604521 effective words/s\n",
      "2021-02-19 20:22:15,407 : INFO : worker thread finished; awaiting finish of 2 more threads\n",
      "2021-02-19 20:22:15,420 : INFO : worker thread finished; awaiting finish of 1 more threads\n",
      "2021-02-19 20:22:15,421 : INFO : worker thread finished; awaiting finish of 0 more threads\n",
      "2021-02-19 20:22:15,421 : INFO : EPOCH - 12 : training on 196845 raw words (139960 effective words) took 0.2s, 605629 effective words/s\n",
      "2021-02-19 20:22:15,643 : INFO : worker thread finished; awaiting finish of 2 more threads\n",
      "2021-02-19 20:22:15,651 : INFO : worker thread finished; awaiting finish of 1 more threads\n",
      "2021-02-19 20:22:15,653 : INFO : worker thread finished; awaiting finish of 0 more threads\n",
      "2021-02-19 20:22:15,653 : INFO : EPOCH - 13 : training on 196845 raw words (140005 effective words) took 0.2s, 617150 effective words/s\n",
      "2021-02-19 20:22:15,881 : INFO : worker thread finished; awaiting finish of 2 more threads\n",
      "2021-02-19 20:22:15,886 : INFO : worker thread finished; awaiting finish of 1 more threads\n",
      "2021-02-19 20:22:15,887 : INFO : worker thread finished; awaiting finish of 0 more threads\n",
      "2021-02-19 20:22:15,888 : INFO : EPOCH - 14 : training on 196845 raw words (140024 effective words) took 0.2s, 606075 effective words/s\n",
      "2021-02-19 20:22:16,116 : INFO : worker thread finished; awaiting finish of 2 more threads\n",
      "2021-02-19 20:22:16,125 : INFO : worker thread finished; awaiting finish of 1 more threads\n",
      "2021-02-19 20:22:16,126 : INFO : worker thread finished; awaiting finish of 0 more threads\n",
      "2021-02-19 20:22:16,127 : INFO : EPOCH - 15 : training on 196845 raw words (140010 effective words) took 0.2s, 597944 effective words/s\n",
      "2021-02-19 20:22:16,345 : INFO : worker thread finished; awaiting finish of 2 more threads\n",
      "2021-02-19 20:22:16,358 : INFO : worker thread finished; awaiting finish of 1 more threads\n"
     ]
    },
    {
     "name": "stderr",
     "output_type": "stream",
     "text": [
      "2021-02-19 20:22:16,362 : INFO : worker thread finished; awaiting finish of 0 more threads\n",
      "2021-02-19 20:22:16,363 : INFO : EPOCH - 16 : training on 196845 raw words (139946 effective words) took 0.2s, 602665 effective words/s\n",
      "2021-02-19 20:22:16,591 : INFO : worker thread finished; awaiting finish of 2 more threads\n",
      "2021-02-19 20:22:16,601 : INFO : worker thread finished; awaiting finish of 1 more threads\n",
      "2021-02-19 20:22:16,602 : INFO : worker thread finished; awaiting finish of 0 more threads\n",
      "2021-02-19 20:22:16,603 : INFO : EPOCH - 17 : training on 196845 raw words (139897 effective words) took 0.2s, 590890 effective words/s\n",
      "2021-02-19 20:22:16,824 : INFO : worker thread finished; awaiting finish of 2 more threads\n",
      "2021-02-19 20:22:16,842 : INFO : worker thread finished; awaiting finish of 1 more threads\n",
      "2021-02-19 20:22:16,844 : INFO : worker thread finished; awaiting finish of 0 more threads\n",
      "2021-02-19 20:22:16,844 : INFO : EPOCH - 18 : training on 196845 raw words (140027 effective words) took 0.2s, 588197 effective words/s\n",
      "2021-02-19 20:22:17,063 : INFO : worker thread finished; awaiting finish of 2 more threads\n",
      "2021-02-19 20:22:17,070 : INFO : worker thread finished; awaiting finish of 1 more threads\n",
      "2021-02-19 20:22:17,072 : INFO : worker thread finished; awaiting finish of 0 more threads\n",
      "2021-02-19 20:22:17,073 : INFO : EPOCH - 19 : training on 196845 raw words (139991 effective words) took 0.2s, 619775 effective words/s\n",
      "2021-02-19 20:22:17,288 : INFO : worker thread finished; awaiting finish of 2 more threads\n",
      "2021-02-19 20:22:17,304 : INFO : worker thread finished; awaiting finish of 1 more threads\n",
      "2021-02-19 20:22:17,305 : INFO : worker thread finished; awaiting finish of 0 more threads\n",
      "2021-02-19 20:22:17,305 : INFO : EPOCH - 20 : training on 196845 raw words (139885 effective words) took 0.2s, 614845 effective words/s\n",
      "2021-02-19 20:22:17,306 : INFO : training on a 3936900 raw words (2799465 effective words) took 4.7s, 600416 effective words/s\n"
     ]
    },
    {
     "data": {
      "text/plain": [
       "[(0, 0.011862625),\n",
       " (1, -0.06411413),\n",
       " (2, 0.013776044),\n",
       " (3, -0.029686827),\n",
       " (4, 0.012960108),\n",
       " (5, -0.022450244),\n",
       " (6, -0.0051411553),\n",
       " (7, -0.052902374),\n",
       " (8, 0.00936165),\n",
       " (9, 0.0022066706),\n",
       " (10, -0.08702062),\n",
       " (11, -0.032581102),\n",
       " (12, -0.04307674),\n",
       " (13, 0.022891674),\n",
       " (14, 0.17341977),\n",
       " (15, 0.07625597),\n",
       " (16, -0.07402339),\n",
       " (17, -0.021709073),\n",
       " (18, -0.015729658),\n",
       " (19, -0.0797711),\n",
       " (20, 0.03466593),\n",
       " (21, 0.10513477),\n",
       " (22, 0.014601102),\n",
       " (23, -0.05888763),\n",
       " (24, 0.04739286),\n",
       " (25, 0.004605172),\n",
       " (26, 0.0876364),\n",
       " (27, -0.16559184),\n",
       " (28, 0.07602314),\n",
       " (29, 0.02170989),\n",
       " (30, -0.09131337),\n",
       " (31, 0.014741568),\n",
       " (32, 0.12451332),\n",
       " (33, 0.008601921),\n",
       " (34, 0.04559589),\n",
       " (35, 0.00408496),\n",
       " (36, -0.055852197),\n",
       " (37, -0.08651404),\n",
       " (38, 0.048778486),\n",
       " (39, 0.028542403),\n",
       " (40, 0.08571146),\n",
       " (41, 0.07536117),\n",
       " (42, 0.073124975),\n",
       " (43, 0.019873397),\n",
       " (44, 0.020515196),\n",
       " (45, -0.016573185),\n",
       " (46, -0.022195363),\n",
       " (47, 0.11866014),\n",
       " (48, -0.056061707),\n",
       " (49, 0.08175567),\n",
       " (50, 0.021091592),\n",
       " (51, 0.060995836),\n",
       " (52, -0.011749669),\n",
       " (53, 0.029397184),\n",
       " (54, -0.016514646),\n",
       " (55, 0.05726307),\n",
       " (56, 0.00020969084),\n",
       " (57, -0.03372664),\n",
       " (58, -0.04462769),\n",
       " (59, 0.025142),\n",
       " (60, 0.06893725),\n",
       " (61, 0.057925288),\n",
       " (62, 0.088458955),\n",
       " (63, 0.06036322),\n",
       " (64, -0.046439145),\n",
       " (65, 0.052438803),\n",
       " (66, 0.021032285),\n",
       " (67, -0.0716662),\n",
       " (68, 0.0771716),\n",
       " (69, -0.0607612),\n",
       " (70, -0.037312668),\n",
       " (71, -0.067353286),\n",
       " (72, -0.0060929973),\n",
       " (73, 0.15152493),\n",
       " (74, -0.03864961),\n",
       " (75, 0.07936796),\n",
       " (76, -0.13859567),\n",
       " (77, -0.0039680214),\n",
       " (78, -0.08913161),\n",
       " (79, 0.09720348),\n",
       " (80, -0.05856782),\n",
       " (81, 0.01910598),\n",
       " (82, -0.0332404),\n",
       " (83, 0.012852487),\n",
       " (84, 0.03098044),\n",
       " (85, -0.04101624),\n",
       " (86, -0.10950067),\n",
       " (87, -0.12889339),\n",
       " (88, -0.0766326),\n",
       " (89, -0.05813764),\n",
       " (90, -0.04858428),\n",
       " (91, -0.047647912),\n",
       " (92, -0.04809426),\n",
       " (93, 0.017929347),\n",
       " (94, 0.10316658),\n",
       " (95, 0.004138555),\n",
       " (96, 0.010488661),\n",
       " (97, 0.043608606),\n",
       " (98, 0.08989278),\n",
       " (99, -0.012025001)]"
      ]
     },
     "execution_count": 93,
     "metadata": {},
     "output_type": "execute_result"
    }
   ],
   "source": [
    "# TODO: Implement this! (10 points)\n",
    "class D2VRetrievalModel(VectorSpaceRetrievalModel):\n",
    "    def __init__(self, doc_repr):\n",
    "        super().__init__(doc_repr)\n",
    "        \n",
    "        self.vector_size= 100\n",
    "        self.min_count = 1\n",
    "        self.epochs = 20\n",
    "        \n",
    "        # YOUR CODE HERE\n",
    "        self.tagged_docs = [TaggedDocument(doc, [int(doc_id)]) for doc_id, doc in self.doc_repr]\n",
    "\n",
    "    def train_model(self):\n",
    "        # YOUR CODE HERE\n",
    "        self.model = Doc2Vec(self.tagged_docs, vector_size=self.vector_size, min_count=self.min_count, epochs=self.epochs)\n",
    "    \n",
    "    def vectorize_documents(self):\n",
    "        \"\"\"\n",
    "            Returns a doc_id -> vector dictionary\n",
    "        \"\"\"\n",
    "        # YOUR CODE HERE\n",
    "        vectors = {}\n",
    "        for (doc_id, _) in self.doc_repr:\n",
    "            vectors[doc_id] = list(zip(range(self.vector_size), self.model[int(doc_id)]))\n",
    "        return vectors\n",
    "\n",
    "    def vectorize_query(self, query): \n",
    "        query = process_text(query, **config_2)\n",
    "        # YOUR CODE HERE\n",
    "        # Here we just infer the vector for the query.\n",
    "        return list(zip(range(self.vector_size), self.model.infer_vector(query)))\n",
    "        \n",
    "d2v = D2VRetrievalModel(doc_repr_2)\n",
    "d2v.train_model()\n",
    "\n",
    "\n",
    "# # you can now get an LSI vector for a given query in the following way:\n",
    "d2v.vectorize_query(\"report\")"
   ]
  },
  {
   "cell_type": "code",
   "execution_count": 94,
   "metadata": {
    "ExecuteTime": {
     "end_time": "2021-02-19T19:22:17.323599Z",
     "start_time": "2021-02-19T19:22:17.320642Z"
    },
    "deletable": false,
    "editable": false,
    "id": "PES2gma44IWw",
    "nbgrader": {
     "cell_type": "code",
     "checksum": "e83a363a9d4f136efbdde1426a83925e",
     "grade": true,
     "grade_id": "cell-5e2c5e0c9a2e8cb5",
     "locked": true,
     "points": 0,
     "schema_version": 3,
     "solution": false,
     "task": false
    }
   },
   "outputs": [],
   "source": [
    "#### Please do not change this. This cell is used for grading."
   ]
  },
  {
   "cell_type": "markdown",
   "metadata": {
    "deletable": false,
    "editable": false,
    "id": "uCHYfnTf4IWw",
    "nbgrader": {
     "cell_type": "markdown",
     "checksum": "5bb46bf6b9be1e0ca66f0b0bc6260ecb",
     "grade": false,
     "grade_id": "cell-8a49d414f798a595",
     "locked": true,
     "points": 10,
     "schema_version": 3,
     "solution": false,
     "task": true
    }
   },
   "source": [
    "\\#### Please do not change this. This cell is used for grading."
   ]
  },
  {
   "cell_type": "code",
   "execution_count": 95,
   "metadata": {
    "ExecuteTime": {
     "end_time": "2021-02-19T19:22:17.399431Z",
     "start_time": "2021-02-19T19:22:17.324596Z"
    },
    "id": "eceopG-Y4IWw",
    "tags": []
   },
   "outputs": [
    {
     "data": {
      "application/vnd.jupyter.widget-view+json": {
       "model_id": "da95c50f2fcf4cd780bbc2b791025eea",
       "version_major": 2,
       "version_minor": 0
      },
      "text/plain": [
       "Text(value='', description='Search Bar')"
      ]
     },
     "metadata": {},
     "output_type": "display_data"
    }
   ],
   "source": [
    "drm_d2v = DenseRetrievalRanker(d2v, cosine_sim)\n",
    "\n",
    "# test your LDA model\n",
    "search_fn = drm_d2v.search\n",
    "\n",
    "text = widgets.Text(description=\"Search Bar\", width=200)\n",
    "display(text)\n",
    "\n",
    "\n",
    "text.on_submit(handle_submit_2)"
   ]
  },
  {
   "cell_type": "markdown",
   "metadata": {
    "deletable": false,
    "editable": false,
    "id": "uJBmD00Y4IWw",
    "nbgrader": {
     "cell_type": "markdown",
     "checksum": "363ec36c1d03d9f9e1c2045a6e193c14",
     "grade": false,
     "grade_id": "cell-3529ae29eece7b97",
     "locked": true,
     "schema_version": 3,
     "solution": false,
     "task": false
    }
   },
   "source": [
    "---\n",
    "## Section 9: Re-ranking (10 points) <a class=\"anchor\" id=\"reranking\"></a>\n",
    "\n",
    "[Back to Part 2](#part2)\n",
    "\n",
    "To motivate the re-ranking perspective (i.e retrieve with lexical method + rerank with a semantic method), let's search using semantic methods and compare it to BM25's performance, along with their runtime:\n"
   ]
  },
  {
   "cell_type": "code",
   "execution_count": 96,
   "metadata": {
    "ExecuteTime": {
     "end_time": "2021-02-19T19:23:46.299156Z",
     "start_time": "2021-02-19T19:22:17.400394Z"
    },
    "deletable": false,
    "editable": false,
    "id": "iO8Q3KWc4IWw",
    "nbgrader": {
     "cell_type": "code",
     "checksum": "5755f70e3eb28abc65d14d80125338af",
     "grade": false,
     "grade_id": "cell-f8f43bf5ae383128",
     "locked": true,
     "schema_version": 3,
     "solution": false,
     "task": false
    }
   },
   "outputs": [
    {
     "name": "stdout",
     "output_type": "stream",
     "text": [
      "BM25: \n",
      "750 µs ± 28.4 µs per loop (mean ± std. dev. of 7 runs, 1000 loops each)\n",
      "LSI: \n",
      "416 ms ± 15.8 ms per loop (mean ± std. dev. of 7 runs, 1 loop each)\n",
      "LDA: \n",
      "147 ms ± 950 µs per loop (mean ± std. dev. of 7 runs, 10 loops each)\n",
      "W2V: \n"
     ]
    },
    {
     "name": "stderr",
     "output_type": "stream",
     "text": [
      "<ipython-input-87-2f5bb1a63d99>:44: DeprecationWarning: Call to deprecated `__contains__` (Method will be removed in 4.0.0, use self.wv.__contains__() instead).\n",
      "  if token in self.model:\n",
      "<ipython-input-87-2f5bb1a63d99>:45: DeprecationWarning: Call to deprecated `__getitem__` (Method will be removed in 4.0.0, use self.wv.__getitem__() instead).\n",
      "  accum_vecs.append(self.model[token])\n"
     ]
    },
    {
     "name": "stdout",
     "output_type": "stream",
     "text": [
      "1.71 s ± 69.1 ms per loop (mean ± std. dev. of 7 runs, 1 loop each)\n",
      "W2V(Pretrained): \n",
      "4.97 s ± 141 ms per loop (mean ± std. dev. of 7 runs, 1 loop each)\n",
      "D2V:\n",
      "1.65 s ± 14.8 ms per loop (mean ± std. dev. of 7 runs, 1 loop each)\n"
     ]
    }
   ],
   "source": [
    "query = \"algebraic functions\"\n",
    "print(\"BM25: \")\n",
    "%timeit bm25_search(query, 2)\n",
    "print(\"LSI: \")\n",
    "%timeit drm_lsi.search(query)\n",
    "print(\"LDA: \")\n",
    "%timeit drm_lda.search(query)\n",
    "print(\"W2V: \")\n",
    "%timeit drm_w2v.search(query)\n",
    "print(\"W2V(Pretrained): \")\n",
    "%timeit drm_w2v_pretrained.search(query)\n",
    "print(\"D2V:\")\n",
    "%timeit drm_d2v.search(query)"
   ]
  },
  {
   "cell_type": "markdown",
   "metadata": {
    "deletable": false,
    "editable": false,
    "id": "oBnOArQC4IWx",
    "nbgrader": {
     "cell_type": "markdown",
     "checksum": "ae398da0a8c23c95bcbb0023b7ec6f34",
     "grade": false,
     "grade_id": "cell-db5ff09f97841af7",
     "locked": true,
     "schema_version": 3,
     "solution": false,
     "task": false
    }
   },
   "source": [
    "---\n",
    "\n",
    "**Implementation (10 points):**\n",
    "Re-ranking involves retrieving a small set of documents using simple but fast methods like BM25 and then re-ranking them with the aid of semantic methods such as LDA or LSI. Implement the following class, which takes in an `initial_retrieval_fn` - the initial retrieval function and `vsrm` - an instance of the `VectorSpaceRetrievalModel` class (i.e LSI/LDA) as input. The search function should first retrieve an initial list of K documents, and then these documents are re-ranked using a semantic method. This not only makes retrieval faster, but semantic methods perform poorly when used in isolation, as you will find out."
   ]
  },
  {
   "cell_type": "code",
   "execution_count": 97,
   "metadata": {
    "ExecuteTime": {
     "end_time": "2021-02-19T19:23:46.305171Z",
     "start_time": "2021-02-19T19:23:46.300145Z"
    },
    "deletable": false,
    "id": "Uxl8iQ1q4IWx",
    "nbgrader": {
     "cell_type": "code",
     "checksum": "63b6b05a676a2ae3f08d8bed1bc59428",
     "grade": false,
     "grade_id": "cell-5bf47600d1a0c507",
     "locked": false,
     "schema_version": 3,
     "solution": true,
     "task": false
    }
   },
   "outputs": [],
   "source": [
    "# TODO: Implement this! (10 points)\n",
    "class DenseRerankingModel:\n",
    "    def __init__(self, initial_retrieval_fn, vsrm, similarity_fn):\n",
    "        \"\"\"\n",
    "            initial_retrieval_fn: takes in a query and returns a list of [(doc_id, score)] (sorted)\n",
    "            vsrm: instance of `VectorSpaceRetrievalModel`\n",
    "            similarity_fn: function instance that takes in two vectors \n",
    "                            and returns a similarity score e.g cosine_sim defined earlier\n",
    "        \"\"\"\n",
    "        self.ret = initial_retrieval_fn\n",
    "        self.vsrm = vsrm\n",
    "        self.similarity_fn = similarity_fn\n",
    "        self.vectorized_documents = vsrm.vectorize_documents()\n",
    "        \n",
    "        assert len(self.vectorized_documents) == len(doc_repr_2)\n",
    "    \n",
    "    def search(self, query, K=50):\n",
    "        \"\"\"\n",
    "            First, retrieve the top K results using the retrieval function\n",
    "            Then, re-rank the results using the VSRM instance\n",
    "        \"\"\"\n",
    "        # YOUR CODE HERE\n",
    "        init_ranking = self.ret(query)[:K]\n",
    "        doc_ids_init_ranking = [rank[0] for rank in init_ranking]\n",
    "        rerank_docs = {}\n",
    "        for doc_id in doc_ids_init_ranking:\n",
    "            rerank_docs[doc_id] = self.vectorized_documents[doc_id]\n",
    "        \n",
    "        rerank_results = []\n",
    "        query_vector = self.vsrm.vectorize_query(query)\n",
    "        for key, doc_vector in rerank_docs.items():\n",
    "            score = self.similarity_fn(doc_vector, query_vector)\n",
    "            rerank_results.append((key,score))               \n",
    "\n",
    "        rerank_results.sort(key=lambda _:-_[1])\n",
    "\n",
    "        return rerank_results"
   ]
  },
  {
   "cell_type": "code",
   "execution_count": 98,
   "metadata": {
    "ExecuteTime": {
     "end_time": "2021-02-19T19:23:51.549626Z",
     "start_time": "2021-02-19T19:23:46.306128Z"
    },
    "deletable": false,
    "editable": false,
    "id": "rNBMLq3T4IWx",
    "nbgrader": {
     "cell_type": "code",
     "checksum": "334ab5af96976265cace682ab82a7387",
     "grade": true,
     "grade_id": "cell-52c6d18a4c0b4882",
     "locked": true,
     "points": 0,
     "schema_version": 3,
     "solution": false,
     "task": false
    }
   },
   "outputs": [
    {
     "name": "stderr",
     "output_type": "stream",
     "text": [
      "<ipython-input-87-2f5bb1a63d99>:26: DeprecationWarning: Call to deprecated `__contains__` (Method will be removed in 4.0.0, use self.wv.__contains__() instead).\n",
      "  if token in self.model:\n",
      "<ipython-input-87-2f5bb1a63d99>:27: DeprecationWarning: Call to deprecated `__getitem__` (Method will be removed in 4.0.0, use self.wv.__getitem__() instead).\n",
      "  accum_vecs.append(self.model[token])\n"
     ]
    }
   ],
   "source": [
    "##### Function check\n",
    "bm25_search_2 = partial(bm25_search, index_set=2)\n",
    "lsi_rerank = DenseRerankingModel(bm25_search_2, lsi, cosine_sim)\n",
    "lda_rerank = DenseRerankingModel(bm25_search_2, lda, jenson_shannon_sim)\n",
    "w2v_rerank = DenseRerankingModel(bm25_search_2, w2v, cosine_sim)\n",
    "w2v_pretrained_rerank = DenseRerankingModel(bm25_search_2, w2v_pretrained, cosine_sim)\n",
    "d2v_rerank = DenseRerankingModel(bm25_search_2, d2v, cosine_sim)\n",
    "\n",
    "##### "
   ]
  },
  {
   "cell_type": "markdown",
   "metadata": {
    "deletable": false,
    "editable": false,
    "id": "LPYGMblR4IWx",
    "nbgrader": {
     "cell_type": "markdown",
     "checksum": "bd904253f45f84e63bab3a69729058fc",
     "grade": false,
     "grade_id": "cell-93215dfe6bcf7cff",
     "locked": true,
     "points": 10,
     "schema_version": 3,
     "solution": false,
     "task": true
    }
   },
   "source": [
    "\\#### Please do not change this. This cell is used for grading."
   ]
  },
  {
   "cell_type": "markdown",
   "metadata": {
    "deletable": false,
    "editable": false,
    "id": "qkEXXhZR4IWx",
    "nbgrader": {
     "cell_type": "markdown",
     "checksum": "b592e60292bfe3d9ef2930a354c4077a",
     "grade": false,
     "grade_id": "cell-aa694ff55fa91e7d",
     "locked": true,
     "schema_version": 3,
     "solution": false,
     "task": false
    }
   },
   "source": [
    "---\n",
    "Now, let us time the new search functions:"
   ]
  },
  {
   "cell_type": "code",
   "execution_count": 99,
   "metadata": {
    "ExecuteTime": {
     "end_time": "2021-02-19T19:24:16.358815Z",
     "start_time": "2021-02-19T19:23:51.551306Z"
    },
    "deletable": false,
    "editable": false,
    "id": "CLJJ1U8P4IWy",
    "nbgrader": {
     "cell_type": "code",
     "checksum": "338c7e3528cba266a865a061287c0e38",
     "grade": false,
     "grade_id": "cell-5edbd481562ad91f",
     "locked": true,
     "schema_version": 3,
     "solution": false,
     "task": false
    }
   },
   "outputs": [
    {
     "name": "stdout",
     "output_type": "stream",
     "text": [
      "BM25: \n",
      "683 µs ± 7.54 µs per loop (mean ± std. dev. of 7 runs, 1000 loops each)\n",
      "LSI: \n",
      "7.14 ms ± 45.1 µs per loop (mean ± std. dev. of 7 runs, 100 loops each)\n",
      "LDA: \n",
      "3.37 ms ± 28.8 µs per loop (mean ± std. dev. of 7 runs, 100 loops each)\n",
      "W2V: \n"
     ]
    },
    {
     "name": "stderr",
     "output_type": "stream",
     "text": [
      "<ipython-input-87-2f5bb1a63d99>:44: DeprecationWarning: Call to deprecated `__contains__` (Method will be removed in 4.0.0, use self.wv.__contains__() instead).\n",
      "  if token in self.model:\n",
      "<ipython-input-87-2f5bb1a63d99>:45: DeprecationWarning: Call to deprecated `__getitem__` (Method will be removed in 4.0.0, use self.wv.__getitem__() instead).\n",
      "  accum_vecs.append(self.model[token])\n"
     ]
    },
    {
     "name": "stdout",
     "output_type": "stream",
     "text": [
      "26.7 ms ± 254 µs per loop (mean ± std. dev. of 7 runs, 10 loops each)\n",
      "W2V(Pretrained): \n",
      "77.7 ms ± 265 µs per loop (mean ± std. dev. of 7 runs, 10 loops each)\n",
      "D2V:\n",
      "27.2 ms ± 278 µs per loop (mean ± std. dev. of 7 runs, 10 loops each)\n"
     ]
    }
   ],
   "source": [
    "query = \"algebraic functions\"\n",
    "print(\"BM25: \")\n",
    "%timeit bm25_search(query, 2)\n",
    "print(\"LSI: \")\n",
    "%timeit lsi_rerank.search(query)\n",
    "print(\"LDA: \")\n",
    "%timeit lda_rerank.search(query)\n",
    "print(\"W2V: \")\n",
    "%timeit w2v_rerank.search(query)\n",
    "print(\"W2V(Pretrained): \")\n",
    "%timeit w2v_pretrained_rerank.search(query)\n",
    "print(\"D2V:\")\n",
    "%timeit d2v_rerank.search(query)"
   ]
  },
  {
   "cell_type": "markdown",
   "metadata": {
    "deletable": false,
    "editable": false,
    "id": "3YxKmu1l4IWy",
    "nbgrader": {
     "cell_type": "markdown",
     "checksum": "c45c5e3f015b2de89d9d39ae3766368b",
     "grade": false,
     "grade_id": "cell-85c50f2ab9eec301",
     "locked": true,
     "schema_version": 3,
     "solution": false,
     "task": false
    }
   },
   "source": [
    "---\n",
    "As you can see, it is much faster (but BM25 is still orders of magnitude faster)."
   ]
  },
  {
   "cell_type": "markdown",
   "metadata": {
    "deletable": false,
    "editable": false,
    "id": "MdjNyWo34IWy",
    "nbgrader": {
     "cell_type": "markdown",
     "checksum": "1e2f3388e3807659f303fe31a75a010e",
     "grade": false,
     "grade_id": "cell-5071bb99b2af61cb",
     "locked": true,
     "schema_version": 3,
     "solution": false,
     "task": false
    }
   },
   "source": [
    "---\n",
    "## Section 10: Evaluation & Analysis (30 points) <a class=\"anchor\" id=\"reranking_eval\"></a>\n",
    "\n",
    "[Back to Part 2](#part2)\n",
    "\n",
    "[Previously](#evaluation) we have implemented some evaluation metrics and used them for measuring the ranking performance of term-based IR algorithms. In this section, we will do the same for semantic methods, both with and without re-ranking.\n",
    "\n",
    "### Section 10.1: Plot (10 points)\n",
    "\n",
    "First, gather the results. The results should consider the index set, the different search functions and different metrics. Plot the results in bar charts, per metric, with clear labels.\n",
    "\n",
    "Then, gather only the re-ranking models, and plot and compare them with the results obtained in part 1 (only index set 2)."
   ]
  },
  {
   "cell_type": "code",
   "execution_count": 100,
   "metadata": {
    "ExecuteTime": {
     "end_time": "2021-02-19T19:24:16.363809Z",
     "start_time": "2021-02-19T19:24:16.359778Z"
    },
    "deletable": false,
    "editable": false,
    "id": "2Y2Ntwj84IWy",
    "nbgrader": {
     "cell_type": "code",
     "checksum": "4fe81520ac6413a803838913fd64de03",
     "grade": false,
     "grade_id": "cell-b672fe6dfae0b1ce",
     "locked": true,
     "schema_version": 3,
     "solution": false,
     "task": false
    }
   },
   "outputs": [],
   "source": [
    "list_of_sem_search_fns = [\n",
    "    (\"lda\", drm_lda.search),\n",
    "    (\"lsi\", drm_lsi.search),\n",
    "    (\"w2v\", drm_w2v.search),\n",
    "    (\"w2v_pretrained\", drm_w2v_pretrained.search),\n",
    "    (\"d2v\", drm_d2v.search),\n",
    "    (\"lsi_rr\", lsi_rerank.search),\n",
    "    (\"lda_rr\", lda_rerank.search),\n",
    "    (\"w2v_rr\", w2v_rerank.search),\n",
    "    (\"w2v_pretrained_rr\", w2v_pretrained_rerank.search),\n",
    "    (\"d2v_rr\", d2v_rerank.search),\n",
    "    \n",
    "]"
   ]
  },
  {
   "cell_type": "code",
   "execution_count": 101,
   "metadata": {
    "ExecuteTime": {
     "end_time": "2021-02-19T19:33:54.848403Z",
     "start_time": "2021-02-19T19:24:16.364763Z"
    },
    "deletable": false,
    "id": "XqoUKAKO4IWy",
    "nbgrader": {
     "cell_type": "code",
     "checksum": "54707c4afac084299aeefa047259b4a9",
     "grade": true,
     "grade_id": "cell-7dd8273b0f5a3c22",
     "locked": false,
     "points": 10,
     "schema_version": 3,
     "solution": true,
     "task": false
    }
   },
   "outputs": [
    {
     "name": "stderr",
     "output_type": "stream",
     "text": [
      "<ipython-input-87-2f5bb1a63d99>:44: DeprecationWarning: Call to deprecated `__contains__` (Method will be removed in 4.0.0, use self.wv.__contains__() instead).\n",
      "  if token in self.model:\n",
      "<ipython-input-87-2f5bb1a63d99>:45: DeprecationWarning: Call to deprecated `__getitem__` (Method will be removed in 4.0.0, use self.wv.__getitem__() instead).\n",
      "  accum_vecs.append(self.model[token])\n"
     ]
    },
    {
     "data": {
      "image/png": "[encoded data removed]",
      "text/plain": [
       "<Figure size 432x288 with 1 Axes>"
      ]
     },
     "metadata": {
      "needs_background": "light"
     },
     "output_type": "display_data"
    },
    {
     "data": {
      "image/png": "[encoded data removed]",
      "text/plain": [
       "<Figure size 432x288 with 1 Axes>"
      ]
     },
     "metadata": {
      "needs_background": "light"
     },
     "output_type": "display_data"
    },
    {
     "data": {
      "image/png": "[encoded data removed]",
      "text/plain": [
       "<Figure size 432x288 with 1 Axes>"
      ]
     },
     "metadata": {
      "needs_background": "light"
     },
     "output_type": "display_data"
    },
    {
     "data": {
      "image/png": "[encoded data removed]",
      "text/plain": [
       "<Figure size 432x288 with 1 Axes>"
      ]
     },
     "metadata": {
      "needs_background": "light"
     },
     "output_type": "display_data"
    },
    {
     "data": {
      "image/png": "[encoded data removed]",
      "text/plain": [
       "<Figure size 432x288 with 1 Axes>"
      ]
     },
     "metadata": {
      "needs_background": "light"
     },
     "output_type": "display_data"
    },
    {
     "data": {
      "image/png": "[encoded data removed]",
      "text/plain": [
       "<Figure size 432x288 with 1 Axes>"
      ]
     },
     "metadata": {
      "needs_background": "light"
     },
     "output_type": "display_data"
    },
    {
     "data": {
      "image/png": "[encoded data removed]",
      "text/plain": [
       "<Figure size 432x288 with 1 Axes>"
      ]
     },
     "metadata": {
      "needs_background": "light"
     },
     "output_type": "display_data"
    },
    {
     "data": {
      "image/png": "[encoded data removed]",
      "text/plain": [
       "<Figure size 432x288 with 1 Axes>"
      ]
     },
     "metadata": {
      "needs_background": "light"
     },
     "output_type": "display_data"
    },
    {
     "data": {
      "image/png": "[encoded data removed]",
      "text/plain": [
       "<Figure size 432x288 with 1 Axes>"
      ]
     },
     "metadata": {
      "needs_background": "light"
     },
     "output_type": "display_data"
    },
    {
     "data": {
      "image/png": "[encoded data removed]",
      "text/plain": [
       "<Figure size 432x288 with 1 Axes>"
      ]
     },
     "metadata": {
      "needs_background": "light"
     },
     "output_type": "display_data"
    },
    {
     "data": {
      "image/png": "[encoded data removed]",
      "text/plain": [
       "<Figure size 432x288 with 1 Axes>"
      ]
     },
     "metadata": {
      "needs_background": "light"
     },
     "output_type": "display_data"
    },
    {
     "data": {
      "image/png": "[encoded data removed]",
      "text/plain": [
       "<Figure size 432x288 with 1 Axes>"
      ]
     },
     "metadata": {
      "needs_background": "light"
     },
     "output_type": "display_data"
    },
    {
     "data": {
      "image/png": "[encoded data removed]",
      "text/plain": [
       "<Figure size 432x288 with 1 Axes>"
      ]
     },
     "metadata": {
      "needs_background": "light"
     },
     "output_type": "display_data"
    },
    {
     "data": {
      "image/png": "[encoded data removed]",
      "text/plain": [
       "<Figure size 432x288 with 1 Axes>"
      ]
     },
     "metadata": {
      "needs_background": "light"
     },
     "output_type": "display_data"
    },
    {
     "data": {
      "image/png": "[encoded data removed]",
      "text/plain": [
       "<Figure size 432x288 with 1 Axes>"
      ]
     },
     "metadata": {
      "needs_background": "light"
     },
     "output_type": "display_data"
    },
    {
     "data": {
      "image/png": "[encoded data removed]",
      "text/plain": [
       "<Figure size 432x288 with 1 Axes>"
      ]
     },
     "metadata": {
      "needs_background": "light"
     },
     "output_type": "display_data"
    }
   ],
   "source": [
    "# YOUR CODE HERE\n",
    "toplot = {'ERR':[],\n",
    "          'MAP':[],\n",
    "          'Recall@1':[],\n",
    "          'Recall@5':[],\n",
    "          'Recall@10':[],\n",
    "          'Precision@1':[],\n",
    "          'Precision@5':[],\n",
    "          'Precision@10':[]\n",
    "         }\n",
    "toplot_rr = {'ERR':[],\n",
    "          'MAP':[],\n",
    "          'Recall@1':[],\n",
    "          'Recall@5':[],\n",
    "          'Recall@10':[],\n",
    "          'Precision@1':[],\n",
    "          'Precision@5':[],\n",
    "          'Precision@10':[]\n",
    "         }\n",
    "\n",
    "for (name,fn) in list_of_sem_search_fns:\n",
    "    if name[-2:] != 'rr':\n",
    "        result = evaluate_search_fn(fn,list_of_metrics)\n",
    "        for key,value in result.items():\n",
    "            toplot[key].append(value)\n",
    "    else:\n",
    "        result = evaluate_search_fn(fn,list_of_metrics)\n",
    "        for key,value in result.items():\n",
    "            toplot_rr[key].append(value)\n",
    "            \n",
    "for (name,list_scores) in toplot.items():\n",
    "    objects = dict(list_of_sem_search_fns[:5]).keys()\n",
    "    y_pos = np.arange(len(objects))\n",
    "    score = list_scores\n",
    "    plt.bar(y_pos, score, align='center', alpha=0.5, color='b')\n",
    "    plt.xticks(y_pos, objects)\n",
    "    plt.ylabel('Scores')\n",
    "    plt.title('Results using ' + name + ' metric')\n",
    "    plt.show()\n",
    "    \n",
    "for (name,list_scores) in toplot_rr.items():\n",
    "    objects = dict(list_of_sem_search_fns[5:]).keys()\n",
    "    y_pos = np.arange(len(objects))\n",
    "    score = list_scores\n",
    "    plt.bar(y_pos, score, align='center', alpha=0.5, color='b')\n",
    "    plt.xticks(y_pos, objects)\n",
    "    plt.ylabel('Scores')\n",
    "    plt.title('Results using ' + name + ' metric')\n",
    "    plt.show()"
   ]
  },
  {
   "cell_type": "markdown",
   "metadata": {
    "deletable": false,
    "editable": false,
    "id": "TO7Rx1xc4IWy",
    "nbgrader": {
     "cell_type": "markdown",
     "checksum": "a8a3b6189bdde66704c694d85e38d049",
     "grade": false,
     "grade_id": "cell-deb2ef3daa306e82",
     "locked": true,
     "schema_version": 3,
     "solution": false,
     "task": false
    }
   },
   "source": [
    "### Section 10.2: Summary (20 points)\n",
    "\n",
    "Your summary should compare methods from Part 1 and Part 2 (only for index set 2). State what you expected to see in the results, followed by either supporting evidence *or* justify why the results did not support your expectations. Consider the availability of data, scalability, domain/type of data, etc."
   ]
  },
  {
   "cell_type": "markdown",
   "metadata": {
    "deletable": false,
    "id": "8kHCX99n4IWz",
    "nbgrader": {
     "cell_type": "markdown",
     "checksum": "ff97c43837d10bff6aaffa75e1492887",
     "grade": true,
     "grade_id": "cell-ec5dd7d9cf59dd86",
     "locked": false,
     "points": 20,
     "schema_version": 3,
     "solution": true,
     "task": false
    }
   },
   "source": [
    "Contrary to our expectations, even after re-ranking, the scores were lower for semantic matching than the best of term-based matching. We found that BM25 in its own outperforms all of the other methods. A reason for that could be that the size of our dataset is so small that even with the pre-trained model, it is not adequate to learn enough from it. This argument can be supported with the fact that models that were not pre-trained, performed significantly worse than any term-based matching algorithms and the pre-trained model was the single best performer before re-ranking. Another reason that semantic reranking does not help to improve performance could be that our collection has a specific vocabulary, which may result in less synonymously/semantically related tokens. Considering the semantic-only methods, they would not scale well, due to their long query times, which was tested in section 9.\n",
    "\n",
    "After re-ranking all models improved remarkably - due to the combination of semantics and term-based information using multistage rankers -, and our own models almost reached the pre-trained model’s score. The pre-trained Word2Vec outperforms in most of the cases, except for precision@10: then lda_rr outperforms it. Here, probably the ability of LDA - to extract topics of documents - pays off better than looking at the semantics of the words. On the contrary, Word2Vec trained on our dataset is the lowest performer, before and after re-ranking too. Without re-ranking it seems almost useless, as the score is always really close to 0. This was a really surprising result for us, since it is a tool that was designed for the same intent as the BOW model. BOW does the same, but lacks some desired features of Word2vec like using the order of words and assigning semantic meaning to the distances between word representations. The scarcity of the data could be a reason for this, however we would still expect better results than we received. The pre-trained model also suggests this by outperforming BOW after the re-ranking. Doc2Vec appears to do better than W2V, which makes sense, because of vectorizing entire documents instead of averaging words to vectorize a document could yield more accurate results\n"
   ]
  }
 ],
 "metadata": {
  "colab": {
   "collapsed_sections": [
    "7PZ1YsjO4IWa",
    "PEw9RAKO4IWc",
    "M10Gq1wo4IWd",
    "ARVTcJrC4IWe",
    "pu4nDAJQ4IWe",
    "D3EIl_rY4IWf",
    "43wdjFkt4IWf",
    "a6te4fbZ4IWg",
    "X2fSm6OJ4IWg",
    "CF8mA1LD4IWh",
    "PwcdEmYB4IWi",
    "a3vu_N7C4IWj",
    "bD5EZ9eN4IWl",
    "V_eNBPNC4IWl",
    "gLVYII234IWl",
    "Ad2E1OAb4IWm",
    "rsVw36Qs4IWn",
    "O6zOyivS4IWn",
    "Q38CrFOO4IWo",
    "Gh1iz9Ht4IWo",
    "b54ANEqK4IWp",
    "lZ3SttfV4IWp",
    "-hdtSyZZ4IWp",
    "KqeQEm1Q4IWq",
    "-EkJ-o9j4IWr",
    "0PGe6mPD4IWt",
    "xMbAwqEW4IWt",
    "1qyB_mcw4IWt",
    "xa0oM-SP4IWu",
    "uJBmD00Y4IWw",
    "MdjNyWo34IWy",
    "TO7Rx1xc4IWy"
   ],
   "name": "13322915_13325957_13326481.ipynb",
   "provenance": []
  },
  "kernelspec": {
   "display_name": "Python 3",
   "language": "python",
   "name": "python3"
  },
  "language_info": {
   "codemirror_mode": {
    "name": "ipython",
    "version": 3
   },
   "file_extension": ".py",
   "mimetype": "text/x-python",
   "name": "python",
   "nbconvert_exporter": "python",
   "pygments_lexer": "ipython3",
   "version": "3.8.5"
  }
 },
 "nbformat": 4,
 "nbformat_minor": 1
}
