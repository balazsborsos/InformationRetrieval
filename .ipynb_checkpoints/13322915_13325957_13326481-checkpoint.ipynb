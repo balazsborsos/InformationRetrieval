{
 "cells": [
  {
   "cell_type": "markdown",
   "metadata": {
    "deletable": false,
    "editable": false,
    "id": "BBPDEKU44IWO",
    "nbgrader": {
     "cell_type": "markdown",
     "checksum": "758d05f39ab671358f17858c55f7161c",
     "grade": false,
     "grade_id": "cell-c9cd9e550239e812",
     "locked": true,
     "schema_version": 3,
     "solution": false,
     "task": false
    }
   },
   "source": [
    "# Homework 1 (Total Points: 260) <a class=\"anchor\" id=\"top\"></a>\n",
    "\n",
    "\n",
    "**Submission instructions**:\n",
    "- Only the code `TODO: Implement this!` denotes that these sections are graded.\n",
    "- For Part 1: You can use the `nltk`, `numpy` and `matplotlib` libraries here. Other libraries, e.g., `gensim` or `scikit-learn`, may not be used. For Part 2: `gensim` is allowed in addition to the imported libraries in the next code cell\n",
    "- The notebook you submit has to have the student ids, separated by underscores (E.g., `12341234_12341234_12341234.ipynb`). \n",
    "- This will be parsed by a regexp, so please double check your filename.\n",
    "- Only one member of each group has to submit the file to canvas.\n",
    "- Make sure to check that your notebook runs before submission. A quick way to do this is to restart the kernel and run all the cells.  \n",
    "- Please do not delete/add new cells. Removing cells can lead to grade deduction.\n",
    "- Note, that you are not allowed to use Google Colab.\n",
    "\n",
    "\n",
    "**Learning Goals**:\n",
    "- [Part 1, Term-based matching](#part1) (175 points):\n",
    "    - Learn how to load a dataset and process it.\n",
    "    - Learn how to implement several standard IR methods (TF-IDF, BM25, QL) and understand their weaknesses & strengths.\n",
    "    - Learn how to evaluate IR methods.\n",
    "- [Part 2, Semantic-based matching](#part2) (85 points):\n",
    "    - Learn how to implement vector-space retrieval methods (LSI, LDA).\n",
    "    - Learn how to use LSI and LDA for re-ranking\n",
    "\n",
    "    \n",
    "**Resources**: \n",
    "- **Part 1**: Sections 2.3, 4.1, 4.2, 4.3, 5.3, 5.6, 5.7, 6.2, 7, 8 of [Search Engines: Information Retrieval in Practice](https://ciir.cs.umass.edu/downloads/SEIRiP.pdf)\n",
    "- **Part 2**: [LSI - Chapter 18](https://nlp.stanford.edu/IR-book/pdf/18lsi.pdf) from [Introduction to Information Retrieval](https://nlp.stanford.edu/IR-book/) book and the [original LDA paper](https://jmlr.org/papers/volume3/blei03a/blei03a.pdf)"
   ]
  },
  {
   "cell_type": "code",
   "execution_count": 1,
   "metadata": {
    "ExecuteTime": {
     "end_time": "2021-02-15T19:21:58.961191Z",
     "start_time": "2021-02-15T19:21:57.662919Z"
    },
    "deletable": false,
    "editable": false,
    "id": "RS9pLvO94IWT",
    "nbgrader": {
     "cell_type": "code",
     "checksum": "c55bfe94ff1f564dd595547e516c4c6e",
     "grade": false,
     "grade_id": "cell-f5357fabdb9660e3",
     "locked": true,
     "schema_version": 3,
     "solution": false,
     "task": false
    }
   },
   "outputs": [],
   "source": [
    "# imports \n",
    "# TODO: Ensure that no additional library is imported in the notebook. \n",
    "# TODO: Only the standard library and the following libraries are allowed:\n",
    "# TODO: You can also use unlisted classes from these libraries or standard libraries (such as defaultdict, Counter, ...).\n",
    "\n",
    "import os\n",
    "import zipfile\n",
    "from functools import partial\n",
    "\n",
    "import nltk\n",
    "import requests\n",
    "import numpy as np\n",
    "from tqdm import tqdm\n",
    "\n",
    "import matplotlib.pyplot as plt\n",
    "from matplotlib.pyplot import cm\n",
    "\n",
    "from ipywidgets import widgets\n",
    "from IPython.display import display, HTML\n",
    "#from IPython.html import widgets\n",
    "from collections import namedtuple\n",
    "\n",
    "# Own imports from standard libraries\n",
    "from collections import Counter\n",
    "import math\n",
    "\n",
    "\n",
    "\n",
    "%matplotlib inline"
   ]
  },
  {
   "cell_type": "markdown",
   "metadata": {
    "deletable": false,
    "editable": false,
    "id": "A4kKorew4IWU",
    "nbgrader": {
     "cell_type": "markdown",
     "checksum": "4ef0139c6fbc22b41520721a9275c1e1",
     "grade": false,
     "grade_id": "cell-7428e12ed184408b",
     "locked": true,
     "schema_version": 3,
     "solution": false,
     "task": false
    }
   },
   "source": [
    "\n",
    "# Part 1: Term-based Matching (175 points) <a class=\"anchor\" id=\"part1\"></a>\n",
    "\n",
    "[Back to top](#top)\n",
    "\n",
    "In the first part, we will learn the basics of IR from loading and preprocessing the material, to implementing some well known search algorithms, to evaluating the ranking performance of the implemented algorithms. We will be using the CACM dataset throughout the assignment. The CACM dataset is a collection of titles and abstracts from the journal CACM (Communication of the ACM).\n",
    "\n",
    "Table of contents:\n",
    "- [Section 1: Text Processing](#text_processing) (15 points)\n",
    "- [Section 2: Indexing](#indexing) (10 points)\n",
    "- [Section 3: Ranking](#ranking) (80 points)\n",
    "- [Section 4: Evaluation](#evaluation) (40 points)\n",
    "- [Section 5: Analysis](#analysis) (30 points)\n"
   ]
  },
  {
   "cell_type": "markdown",
   "metadata": {
    "deletable": false,
    "editable": false,
    "id": "6vnjcjoy4IWU",
    "nbgrader": {
     "cell_type": "markdown",
     "checksum": "a9050c97b011a926b9e4cf6831eff5bd",
     "grade": false,
     "grade_id": "cell-4b24825cf4ae55ec",
     "locked": true,
     "schema_version": 3,
     "solution": false,
     "task": false
    }
   },
   "source": [
    "---\n",
    "## Section 1: Text Processing (15 points)<a class=\"anchor\" id=\"text_processing\"></a>\n",
    "\n",
    "[Back to Part 1](#part1)\n",
    "\n",
    "In this section, we will load the dataset and learn how to clean up the data to make it usable for an IR system. \n",
    "The points of this section are earned for the following implementations:\n",
    "- `read_cacm_docs` (4 points): Reads in the CACM documents.\n",
    "- `read_queries` (3 points): Reads in the CACM queries.\n",
    "- `load_stopwords` (1 point): Loads the stopwords.\n",
    "- `tokenize` (4 points): Tokenizes the input text.\n",
    "- `stem_token` (3 points): Stems the given token. \n",
    "\n",
    "We are using the [CACM dataset](http://ir.dcs.gla.ac.uk/resources/test_collections/cacm/), which is a small, classic IR dataset, composed of a collection of titles and abstracts from the journal CACM. It comes with relevance judgements for queries, so we can evaluate our IR system. \n"
   ]
  },
  {
   "cell_type": "markdown",
   "metadata": {
    "deletable": false,
    "editable": false,
    "id": "p_lmQikc4IWV",
    "nbgrader": {
     "cell_type": "markdown",
     "checksum": "1de1b97f9ee233ad2348359f0c158eb7",
     "grade": false,
     "grade_id": "cell-45651364e7af6d5a",
     "locked": true,
     "schema_version": 3,
     "solution": false,
     "task": false
    }
   },
   "source": [
    "---\n",
    "### 1.1 Read the CACM documents (4 points)\n",
    "\n",
    "\n",
    "The following cell downloads the dataset and unzips it to a local directory."
   ]
  },
  {
   "cell_type": "code",
   "execution_count": 2,
   "metadata": {
    "ExecuteTime": {
     "end_time": "2021-02-15T19:21:58.983098Z",
     "start_time": "2021-02-15T19:21:58.963153Z"
    },
    "deletable": false,
    "editable": false,
    "id": "GzgZPFdR4IWV",
    "nbgrader": {
     "cell_type": "code",
     "checksum": "4d43c9ad6e77cc01ce4cef0c34824930",
     "grade": false,
     "grade_id": "cell-bbc3030bb3fe7e02",
     "locked": true,
     "schema_version": 3,
     "solution": false,
     "task": false
    }
   },
   "outputs": [],
   "source": [
    "def download_dataset():\n",
    "    folder_path = os.environ.get(\"IR1_DATA_PATH\")\n",
    "    if not folder_path:\n",
    "        folder_path = \"./datasets/\"\n",
    "    os.makedirs(folder_path, exist_ok=True)\n",
    "    \n",
    "    file_location = os.path.join(folder_path, \"cacm.zip\")\n",
    "    \n",
    "    # download file if it doesn't exist\n",
    "    if not os.path.exists(file_location):\n",
    "        \n",
    "        url = \"https://surfdrive.surf.nl/files/index.php/s/M0FGJpX2p8wDwxR/download\"\n",
    "\n",
    "        with open(file_location, \"wb\") as handle:\n",
    "            print(f\"Downloading file from {url} to {file_location}\")\n",
    "            response = requests.get(url, stream=True)\n",
    "            for data in tqdm(response.iter_content()):\n",
    "                handle.write(data)\n",
    "            print(\"Finished downloading file\")\n",
    "    \n",
    "    if not os.path.exists(os.path.join(folder_path, \"train.txt\")):\n",
    "        \n",
    "        # unzip file\n",
    "        with zipfile.ZipFile(file_location, 'r') as zip_ref:\n",
    "            zip_ref.extractall(folder_path)\n",
    "        \n",
    "download_dataset()"
   ]
  },
  {
   "cell_type": "markdown",
   "metadata": {
    "deletable": false,
    "editable": false,
    "id": "mFgbUp9Q4IWW",
    "nbgrader": {
     "cell_type": "markdown",
     "checksum": "31609b0d61d0c74cbd69bc43e47c23be",
     "grade": false,
     "grade_id": "cell-a7dd9a9bf98ede05",
     "locked": true,
     "schema_version": 3,
     "solution": false,
     "task": false
    }
   },
   "source": [
    "---\n",
    "\n",
    "You can see a brief description of each file in the dataset by looking at the README file:"
   ]
  },
  {
   "cell_type": "code",
   "execution_count": 3,
   "metadata": {
    "ExecuteTime": {
     "end_time": "2021-02-15T19:21:59.054932Z",
     "start_time": "2021-02-15T19:21:58.987088Z"
    },
    "colab": {
     "base_uri": "https://localhost:8080/"
    },
    "deletable": false,
    "editable": false,
    "id": "XiphLpFK4IWW",
    "nbgrader": {
     "cell_type": "code",
     "checksum": "1783f9999c7d06955e8da815de62ba5f",
     "grade": false,
     "grade_id": "cell-9b6ff1a17124711f",
     "locked": true,
     "schema_version": 3,
     "solution": false,
     "task": false
    },
    "outputId": "0c34744f-c08a-45f7-ad13-ffdc2287cbda"
   },
   "outputs": [
    {
     "name": "stdout",
     "output_type": "stream",
     "text": [
      "Files in this directory with sizes:\n",
      "          0 Jun 19 21:01 README\n",
      "\n",
      "    2187734 Jun 19 20:55 cacm.all              text of documents\n",
      "        626 Jun 19 20:58 cite.info             key to citation info\n",
      "                                                (the X sections in cacm.all)\n",
      "       2668 Jun 19 20:55 common_words           stop words used by smart\n",
      "       2194 Jun 19 20:55 make_coll*             shell script to make collection\n",
      "       1557 Jun 19 20:55 make_coll_term*        ditto (both useless without\n",
      "                                                smart system)\n",
      "       9948 Jun 19 20:55 qrels.text             relation giving\n",
      "                                                    qid did 0 0\n",
      "                                                to indicate dument did is\n",
      "                                                relevant to query qid\n",
      "      13689 Jun 19 20:55 query.text             Original text of the query\n"
     ]
    }
   ],
   "source": [
    "##### Read the README file \n",
    "!cat ./datasets/README\n",
    "#####"
   ]
  },
  {
   "cell_type": "markdown",
   "metadata": {
    "deletable": false,
    "editable": false,
    "id": "NYQpF9664IWW",
    "nbgrader": {
     "cell_type": "markdown",
     "checksum": "d6a5333ae8e7f69d81900e714cc43852",
     "grade": false,
     "grade_id": "cell-73351431869fda76",
     "locked": true,
     "schema_version": 3,
     "solution": false,
     "task": false
    }
   },
   "source": [
    "---\n",
    "We are interested in 4 files:\n",
    "- `cacm.all` : Contains the text for all documents. Note that some documents do not have abstracts available. \n",
    "- `query.text` : The text of all queries\n",
    "- `qrels.text` : The relevance judgements\n",
    "- `common_words` : A list of common words. This may be used as a collection of stopwords"
   ]
  },
  {
   "cell_type": "code",
   "execution_count": 4,
   "metadata": {
    "ExecuteTime": {
     "end_time": "2021-02-15T19:21:59.107766Z",
     "start_time": "2021-02-15T19:21:59.055906Z"
    },
    "colab": {
     "base_uri": "https://localhost:8080/"
    },
    "deletable": false,
    "editable": false,
    "id": "YlAL1Byf4IWW",
    "nbgrader": {
     "cell_type": "code",
     "checksum": "c78e4256a08889ce3d0d985ea799b0a9",
     "grade": false,
     "grade_id": "cell-b44dd14079f278ca",
     "locked": true,
     "schema_version": 3,
     "solution": false,
     "task": false
    },
    "outputId": "671b1068-6500-45c4-e9d5-e4578d137c7b"
   },
   "outputs": [
    {
     "name": "stdout",
     "output_type": "stream",
     "text": [
      ".I 1\n",
      ".T\n",
      "Preliminary Report-International Algebraic Language\n",
      ".B\n",
      "CACM December, 1958\n",
      ".A\n",
      "Perlis, A. J.\n",
      "Samelson,K.\n",
      ".N\n",
      "CA581203 JB March 22, 1978  8:28 PM\n",
      ".X\n",
      "100\t5\t1\n",
      "123\t5\t1\n",
      "164\t5\t1\n",
      "1\t5\t1\n",
      "1\t5\t1\n",
      "1\t5\t1\n",
      "205\t5\t1\n",
      "210\t5\t1\n",
      "214\t5\t1\n",
      "1982\t5\t1\n",
      "398\t5\t1\n",
      "642\t5\t1\n",
      "669\t5\t1\n",
      "1\t6\t1\n",
      "1\t6\t1\n",
      "1\t6\t1\n",
      "1\t6\t1\n",
      "1\t6\t1\n",
      "1\t6\t1\n",
      "1\t6\t1\n",
      "1\t6\t1\n",
      "1\t6\t1\n",
      "1\t6\t1\n",
      "165\t6\t1\n",
      "196\t6\t1\n",
      "196\t6\t1\n",
      "1273\t6\t1\n",
      "1883\t6\t1\n",
      "324\t6\t1\n",
      "43\t6\t1\n",
      "53\t6\t1\n",
      "91\t6\t1\n",
      "410\t6\t1\n",
      "3184\t6\t1\n"
     ]
    }
   ],
   "source": [
    "##### The first 45 lines of the CACM dataset forms the first record\n",
    "# We are interested only in 3 fields. \n",
    "# 1. the '.I' field, which is the document id\n",
    "# 2. the '.T' field (the title) and\n",
    "# 3. the '.W' field (the abstract, which may be absent)\n",
    "!head -45 ./datasets/cacm.all\n",
    "#####"
   ]
  },
  {
   "cell_type": "markdown",
   "metadata": {
    "deletable": false,
    "editable": false,
    "id": "96QRlEr34IWX",
    "nbgrader": {
     "cell_type": "markdown",
     "checksum": "aff7cbe5a15a0e3329dc223e3e31abf3",
     "grade": false,
     "grade_id": "cell-c4bf2e263ec553d8",
     "locked": true,
     "schema_version": 3,
     "solution": false,
     "task": false
    }
   },
   "source": [
    "---\n",
    "\n",
    "**Implementation (4 points):**\n",
    "Write a function to read the `cacm.all` file. Note that each document has a variable number of lines. The `.I` field denotes a new document:"
   ]
  },
  {
   "cell_type": "code",
   "execution_count": 5,
   "metadata": {
    "ExecuteTime": {
     "end_time": "2021-02-15T19:21:59.113750Z",
     "start_time": "2021-02-15T19:21:59.108763Z"
    },
    "deletable": false,
    "id": "vNE2WPK-4IWX",
    "nbgrader": {
     "cell_type": "code",
     "checksum": "45fef5d5b543ee439176d7fd0a9d20be",
     "grade": false,
     "grade_id": "cell-b736116eb419c624",
     "locked": false,
     "schema_version": 3,
     "solution": true,
     "task": false
    }
   },
   "outputs": [],
   "source": [
    "# TODO: Implement this! (4 points)\n",
    "def read_cacm_docs(root_folder = \"./datasets/\"):\n",
    "    \"\"\"\n",
    "        Reads in the CACM documents. The dataset is assumed to be in the folder \"./datasets/\" by default\n",
    "        Returns: A list of 2-tuples: (doc_id, document), where 'document' is a single string created by \n",
    "            appending the title and abstract (separated by a \"\\n\"). \n",
    "            In case the record doesn't have an abstract, the document is composed only by the title\n",
    "    \"\"\"\n",
    "    # YOUR CODE HERE\n",
    "    doc_list = []\n",
    "    with open(root_folder + 'cacm.all') as f:\n",
    "        data = (\"\\n\" + f.read()).split(\"\\n.I\")\n",
    "        for i in data[1:]:\n",
    "            lines = i.split(\"\\n.\")\n",
    "            doc_id = str(lines[0][1:])\n",
    "            document = ''\n",
    "            for line in lines[1:]:\n",
    "                if line[0] == \"T\":\n",
    "                    document += line[2:]\n",
    "                if line[0] == \"W\":\n",
    "                    document += line[1:]\n",
    "            doc_list.append((doc_id,document))\n",
    "    return doc_list"
   ]
  },
  {
   "cell_type": "code",
   "execution_count": 6,
   "metadata": {
    "ExecuteTime": {
     "end_time": "2021-02-15T19:21:59.134718Z",
     "start_time": "2021-02-15T19:21:59.114779Z"
    },
    "deletable": false,
    "editable": false,
    "id": "qXIA2lFl4IWY",
    "nbgrader": {
     "cell_type": "code",
     "checksum": "70472b5c277bb7c417de8da24e4e5261",
     "grade": true,
     "grade_id": "cell-a1c43818e0d3fd79",
     "locked": true,
     "points": 4,
     "schema_version": 3,
     "solution": false,
     "task": false
    }
   },
   "outputs": [],
   "source": [
    "##### Function check\n",
    "docs = read_cacm_docs()\n",
    "assert isinstance(docs, list)\n",
    "assert len(docs) == 3204, \"There should be exactly 3024 documents\"\n",
    "##### "
   ]
  },
  {
   "cell_type": "markdown",
   "metadata": {
    "deletable": false,
    "editable": false,
    "id": "uZRyfi9R4IWY",
    "nbgrader": {
     "cell_type": "markdown",
     "checksum": "6fd095d2204cce3935444ca37c7c42da",
     "grade": false,
     "grade_id": "cell-5ed2ddc91f73c60e",
     "locked": true,
     "schema_version": 3,
     "solution": false,
     "task": false
    }
   },
   "source": [
    "---\n",
    "### 1.2 Read the CACM queries (3 points)\n",
    "\n",
    "Next, let us read the queries. They are formatted similarly:"
   ]
  },
  {
   "cell_type": "code",
   "execution_count": 7,
   "metadata": {
    "ExecuteTime": {
     "end_time": "2021-02-15T19:21:59.188553Z",
     "start_time": "2021-02-15T19:21:59.136688Z"
    },
    "colab": {
     "base_uri": "https://localhost:8080/"
    },
    "deletable": false,
    "editable": false,
    "id": "SypqoG8T4IWY",
    "nbgrader": {
     "cell_type": "code",
     "checksum": "5d26c0908e758acb9968b84056b1060a",
     "grade": false,
     "grade_id": "cell-5c7e8e7c4fc2757f",
     "locked": true,
     "schema_version": 3,
     "solution": false,
     "task": false
    },
    "outputId": "061e0dc1-6f1b-4d21-ff2b-775699a7a874"
   },
   "outputs": [
    {
     "name": "stdout",
     "output_type": "stream",
     "text": [
      ".I 1\n",
      ".W\n",
      " What articles exist which deal with TSS (Time Sharing System), an\n",
      "operating system for IBM computers?\n",
      ".N\n",
      " 1. Richard Alexander, Comp Serv, Langmuir Lab (TSS)\n",
      " \n",
      ".I 2\n",
      ".W\n",
      " I am interested in articles written either by Prieve or Udo Pooch\n",
      ".A\n",
      "Prieve, B.\n",
      "Pooch, U.\n",
      ".N\n",
      " 2. Richard Alexander, Comp Serv, Langmuir Lab (author = Pooch or Prieve)\n"
     ]
    }
   ],
   "source": [
    "##### The first 15 lines of 'query.text' has 2 queries\n",
    "# We are interested only in 2 fields. \n",
    "# 1. the '.I' - the query id\n",
    "# 2. the '.W' - the query\n",
    "!head -15 ./datasets/query.text\n",
    "#####"
   ]
  },
  {
   "cell_type": "markdown",
   "metadata": {
    "deletable": false,
    "editable": false,
    "id": "wrddYisC4IWY",
    "nbgrader": {
     "cell_type": "markdown",
     "checksum": "da34d95924026ea55bf0a9b2070ec237",
     "grade": false,
     "grade_id": "cell-88e293507d2dcef6",
     "locked": true,
     "schema_version": 3,
     "solution": false,
     "task": false
    }
   },
   "source": [
    "---\n",
    "\n",
    "**Implementation (3 points):**\n",
    "Write a function to read the `query.text` file:"
   ]
  },
  {
   "cell_type": "code",
   "execution_count": 8,
   "metadata": {
    "ExecuteTime": {
     "end_time": "2021-02-15T19:21:59.195570Z",
     "start_time": "2021-02-15T19:21:59.190545Z"
    },
    "deletable": false,
    "id": "Ct3uxE-s4IWZ",
    "nbgrader": {
     "cell_type": "code",
     "checksum": "f98ac81b2ccb44fe3441e202e980c847",
     "grade": false,
     "grade_id": "cell-433e3ad5d0e2572a",
     "locked": false,
     "schema_version": 3,
     "solution": true,
     "task": false
    }
   },
   "outputs": [],
   "source": [
    "# TODO: Implement this! (3 points)\n",
    "def read_queries(root_folder = \"./datasets/\"):\n",
    "    \"\"\"\n",
    "        Reads in the CACM queries. The dataset is assumed to be in the folder \"./datasets/\" by default\n",
    "        Returns: A list of 2-tuples: (query_id, query)\n",
    "    \"\"\"\n",
    "    # YOUR CODE HERE\n",
    "    query_list = []\n",
    "    with open(root_folder + 'query.text') as f:\n",
    "        data = (\"\\n\" + f.read()).split(\"\\n.I\")\n",
    "        for i in data[1:]:\n",
    "            lines = i.split(\"\\n.\")\n",
    "            query_id = str(lines[0][1:])\n",
    "            query = ''\n",
    "            for line in lines[1:]:\n",
    "                if line[0] == \"W\":\n",
    "                    query += line[1:]\n",
    "            query_list.append((query_id,query))\n",
    "    print(query_list)\n",
    "    return query_list\n"
   ]
  },
  {
   "cell_type": "code",
   "execution_count": 9,
   "metadata": {
    "ExecuteTime": {
     "end_time": "2021-02-15T19:21:59.201556Z",
     "start_time": "2021-02-15T19:21:59.196527Z"
    },
    "colab": {
     "base_uri": "https://localhost:8080/"
    },
    "deletable": false,
    "editable": false,
    "id": "DYO92aQn4IWZ",
    "nbgrader": {
     "cell_type": "code",
     "checksum": "c0e7a9868bd4b92692c33732af640b8b",
     "grade": true,
     "grade_id": "cell-6ec540abce66c598",
     "locked": true,
     "points": 3,
     "schema_version": 3,
     "solution": false,
     "task": false
    },
    "outputId": "e6294e67-a14f-425e-d65d-a5780b07b487"
   },
   "outputs": [
    {
     "name": "stdout",
     "output_type": "stream",
     "text": [
      "[('1', '\\n What articles exist which deal with TSS (Time Sharing System), an\\noperating system for IBM computers?'), ('2', '\\n I am interested in articles written either by Prieve or Udo Pooch'), ('3', '\\n Intermediate languages used in construction of multi-targeted compilers; TCOLL'), ('4', \"\\n I'm interested in mechanisms for communicating between disjoint processes,\\npossibly, but not exclusively, in a distributed environment.  I would\\nrather see descriptions of complete mechanisms, with or without implementations,\\nas opposed to theoretical work on the abstract problem.  Remote procedure\\ncalls and message-passing are examples of my interests.\"), ('5', \"\\n I'd like papers on design and implementation of editing interfaces,\\nwindow-managers, command interpreters, etc.  The essential issues are\\nhuman interface design, with views on improvements to user efficiency,\\neffectiveness and satisfaction.\"), ('6', '\\n Interested in articles on robotics, motion planning particularly the\\ngeometric and combinatorial aspects.  We are not interested in the\\ndynamics of arm motion.'), ('7', '\\n I am interested in distributed algorithms - concurrent programs in\\nwhich processes communicate and synchronize by using message passing.\\nAreas of particular interest include fault-tolerance and techniques\\nfor understanding the correctness of these algorithms.'), ('8', '\\n Addressing schemes for resources in networks; resource addressing in\\nnetwork operating systems'), ('9', '\\n Security considerations in local networks, network operating systems,\\nand distributed systems.'), ('10', '\\n Parallel languages; languages for parallel computation'), ('11', '\\n SETL, Very High Level Languages'), ('12', '\\n portable operating systems'), ('13', '\\n code optimization for space efficiency'), ('14', '\\n find all discussions of optimal implementations of sort algorithms for\\ndatabase management applications'), ('15', '\\n Find all discussions of horizontal microcode optimization with special\\nemphasis on optimization of loops and global optimization.'), ('16', '\\n find all descriptions of file handling in operating systems based on\\nmultiple processes and message passing.'), ('17', '\\n Optimization of intermediate and machine code'), ('18', '\\n Languages and compilers for parallel processors, especially highly\\nhorizontal microcoded machines; code compaction'), ('19', '\\n Parallel algorithms'), ('20', '\\n Graph theoretic algorithms applicable to sparse matrices'), ('21', '\\n computational complexity, intractability, class-complete reductions,\\nalgorithms and efficiency'), ('22', '\\n I am interested in hidden-line and hidden-surface algorithms for\\ncylinders, toroids, spheres, and cones.  This is a rather specialized\\ntopic in computer graphics.'), ('23', '\\n Distributed computing structures and algorithms'), ('24', '\\n Applied stochastic processes'), ('25', '\\n Performance evaluation and modelling of computer systems'), ('26', '\\n Concurrency control mechanisms in operating systems'), ('27', '\\n Memory management aspects of operating systems'), ('28', '\\n Any information on packet radio networks.  Of particular interest are\\nalgorithms for packet routing, and for dealing with changes in\\nnetwork topography.  I am not interested in the hardware used in the\\nnetwork.'), ('29', '\\n Number-theoretic algorithms, especially involving prime number series,\\nsieves, and Chinese Remainder theorem.'), ('30', '\\n Articles on text formatting systems, including \"what you see is what you\\nget\" systems.  Examples: t/nroff, scribe, bravo.'), ('31', '\\n I\\'d like to find articles describing the use of singular value decomposition\\nin digital image processing.  Applications include finding approximations\\nto the original image and restoring images that are subject to noise. An\\narticle on the subject is H.C. Andrews and C.L. Patterson \"Outer product\\nexpansions and their uses in digital image processing\", American Mathematical\\nMonthly, vol. 82.'), ('32', \"\\n I'd like to find articles describing graph algorithms that are based on\\nthe eigenvalue decomposition (or singular value decomposition) of the\\najacency matrix for the graph.  I'm especially interested in any heuristic\\nalgorithms for graph coloring and graph isomorphism using this method.\"), ('33', '\\n Articles about the sensitivity of the eigenvalue decomposition of real\\nmatrices, in particular, zero-one matrices.  I\\'m especially interested in\\nthe separation of eigenspaces corresponding to distinct eigenvalues.\\nArticles on the subject:\\nC. Davis and W.M. Kahn, \"The rotation of eigenvectors by a permutation:,\\nSIAM J. Numerical Analysis, vol. 7, no. 1 (1970); G.W. Stewart, \"Error\\nbounds for approximate invariant subspaces of closed linear operators\",\\nSIAM J. Numerical Analysis., Vol. 8, no. 4 (1971).'), ('34', '\\n Currently interested in isolation of root of polynomial; there is an old\\narticle by Heindel, L.E. in J. ACM, Vol. 18, 533-548.  I would like to find\\nmore recent material.'), ('35', '\\n Probabilistic algorithms especially those dealing with algebraic and\\nsymbolic manipulation.  Some examples:\\nRabiin, \"Probabilistic algorithm on finite field\", SIAM\\nWaztch, \"Probabilistic testing of polynomial identities\", SIAM'), ('36', '\\n Fast algorithm for context-free language recognition or parsing'), ('37', '\\n Articles describing the relationship between data types and concurrency\\n(e.g. what is the type of a process?  when is a synchronization attempt \\nbetween two processes \"type correct\"?  in a message-passing system is there\\nany notion of the types of messages?--i.e. any way to check that the sender\\nof the message and the receiver are both treating the bit stream as some\\nparticular type)'), ('38', '\\n What is the type of a module?\\t(I don\\'t want the entire literature on\\nAbstract Data Types here, but I\\'m not sure how to phrase this to avoid it.\\nI\\'m interested in questions about how one can check that a module \"matches\"\\ncontexts in which it is used.)'), ('39', '\\n What does type compatibility mean in languages that allow programmer\\ndefined types?  (You might want to restrict this to \"extensible\" languages\\nthat allow definition of abstract data types or programmer-supplied\\ndefinitions of operators like *, +.)'), ('40', '\\n List all articles dealing with data types in the following languages:\\nPascal, CLU, Alphard, Russell, Ada, ALGOL 68, EL1.  List any other languages\\nthat are referenced frequently in papers on the above languages (e.g. catch\\nany languages with interesting type structures that I might have missed).'), ('41', '\\n Theory of distributed systems and databases.  Subtopics of special\\ninterest include reliability and fault-tolerance in distributed systems,\\natomicity, distributed transactions, synchronization algorithms, \\nresource allocation; lower bounds and models for asynchronous parallel\\nsystems.  Also theory of communicating processes and protocols.   '), ('42', '\\n Computer performance evaluation techniques using pattern recognition\\nand clustering.'), ('43', '\\n Analysis and perception of shape by humans and computers.  Shape\\ndescriptions, shape recognition by computer.  Two-dimensional shapes.\\nMeasures of circularity.  Shape matching.'), ('44', '\\n Texture analysis by computer.\\tDigitized texture analysis.  Texture\\nsynthesis. Perception of texture.'), ('45', '\\n The use of operations research models to optimize information system\\nperformance.  This includes fine tuning decisions such as secondary index\\nselection, file reorganization, and distributed databases.'), ('46', '\\n The application of fuzzy subset theory to clustering and information\\nretrieval problems.  This includes performance evaluation and automatic\\nindexing considerations.'), ('47', '\\n The use of Bayesian decision models to optimize information retrieval\\nsystem performance.  This includes stopping rules to determine when a\\nuser should cease scanning the output of a retrieval search.'), ('48', '\\n The use of computer science principles (e.g. data structures, \\nnumerical methods) in generating optimization (e.g. linear programming)\\nalgorithms.  This includes issues of the Khachian (Russian, ellipsoidal)\\nalgorithm and complexity of such algorithms.'), ('49', '\\n The role of information retrieval in knowledge based systems\\n(i.e., expert systems).'), ('50', '\\n Parallel processors in information retrieval'), ('51', '\\n Parallel processors and paging algorithms'), ('52', '\\n Modelling and simulation in agricultural ecosystems.'), ('53', '\\n mathematical induction, group theory, integers modulo m,\\nprobability, binomial coefficients, binomial theorem, homomorphism,\\nmorphism, transitivity, relations, relation matrix.'), ('54', '\\n Semantics of programming languages, including abstract specifications\\nof data types, denotational semantics, and proofs of correctness.'), ('55', '\\n Anything dealing with star height of regular languages or regular\\nexpressions or regular events.'), ('56', '\\n Articles relation the algebraic theory of semigroups and monoids\\nto the study of automata and regular languages.'), ('57', '\\n Abstracts of articles:\\n    J. Backus, \"Can programming be liberated from the Von Neumann style?\\n               A functional style and its algebra of programs\", CACM 21\\n               (1978), 613-641.\\n    R.A.De Millo, R.J. Lipton, A.J. Perlis, letter to ACM Forum, CACM 22\\n\\t       (1979), 629-630'), ('58', \"\\n Algorithms or statistical packages for ANOVA, regression using least\\nsquares or generalized linear models.  System design, capabilities,\\nstatistical formula are of interest.  Student's t test, Wilcoxon and\\nsign tests, multivariate and univariate components can be included.\"), ('59', '\\n Dictionary construction and accessing methods for fast retrieval\\nof words or lexical items or morphologically related information.\\nHashing or indexing methods are usually applied to English spelling or\\nnatural language problems.'), ('60', '\\n Hardware and software relating to database management systems.\\nDatabase packages, back end computers, special associative hardware\\nwith microcomputers attached to disk heads or things like RAP, \\nrelational or network (CODASYL) or hierarchical models, systems\\nlike SYSTEM R, IMS, ADABAS, TOTAL, etc.'), ('61', '\\n Information retrieval articles by Gerard Salton or others about clustering,\\nbibliographic coupling, use of citations or co-citations, the vector\\nspace model, Boolean search methods using inverted files, feedback, etc.'), ('62', \"\\n Results relating parallel complexity theory (both for PRAM's and\\nuniform circuits).\"), ('63', '\\n Algorithms for parallel computation, and especially comparisons\\nbetween parallel and sequential algorithms.'), ('64', \"\\n List all articles on EL1 and ECL (EL1 may be given as EL/1; I don't\\nremember how they did it.\")]\n"
     ]
    }
   ],
   "source": [
    "##### Function check\n",
    "queries = read_queries()\n",
    "\n",
    "assert isinstance(queries, list)\n",
    "assert len(queries) == 64 and all([q[1] is not None for q in queries]), \"There should be exactly 64 queries\"\n",
    "##### "
   ]
  },
  {
   "cell_type": "markdown",
   "metadata": {
    "deletable": false,
    "editable": false,
    "id": "7PZ1YsjO4IWa",
    "nbgrader": {
     "cell_type": "markdown",
     "checksum": "652f9159caea63888e06b54103bd7f32",
     "grade": false,
     "grade_id": "cell-1c31569491d7b782",
     "locked": true,
     "schema_version": 3,
     "solution": false,
     "task": false
    }
   },
   "source": [
    "---\n",
    "### 1.3 Read the stop words (1 point)\n",
    "\n",
    "We use the common words stored in `common_words`:"
   ]
  },
  {
   "cell_type": "code",
   "execution_count": 10,
   "metadata": {
    "ExecuteTime": {
     "end_time": "2021-02-15T19:21:59.253376Z",
     "start_time": "2021-02-15T19:21:59.202511Z"
    },
    "colab": {
     "base_uri": "https://localhost:8080/"
    },
    "deletable": false,
    "editable": false,
    "id": "3eIEzeOd4IWa",
    "nbgrader": {
     "cell_type": "code",
     "checksum": "1ad6f5bae6a792504c1c8513ae5751ad",
     "grade": false,
     "grade_id": "cell-34bdb63461418a96",
     "locked": true,
     "schema_version": 3,
     "solution": false,
     "task": false
    },
    "outputId": "4b9a90c7-f76e-41fa-cf60-f87c74f6061f"
   },
   "outputs": [
    {
     "name": "stdout",
     "output_type": "stream",
     "text": [
      "a\n",
      "about\n",
      "above\n",
      "accordingly\n",
      "across\n",
      "after\n",
      "afterwards\n",
      "again\n",
      "against\n",
      "all\n"
     ]
    }
   ],
   "source": [
    "##### Read the stop words file \n",
    "!head ./datasets/common_words\n",
    "##### Read the README file "
   ]
  },
  {
   "cell_type": "markdown",
   "metadata": {
    "deletable": false,
    "editable": false,
    "id": "yS-QJ59W4IWa",
    "nbgrader": {
     "cell_type": "markdown",
     "checksum": "f720edbacd79170351156a443e0018ff",
     "grade": false,
     "grade_id": "cell-4744bde0338895d8",
     "locked": true,
     "schema_version": 3,
     "solution": false,
     "task": false
    }
   },
   "source": [
    "---\n",
    "**Implementation (1 point):**\n",
    "Write a function to read the `common_words` file (For better coverage, try to keep them in lowercase):"
   ]
  },
  {
   "cell_type": "code",
   "execution_count": 11,
   "metadata": {
    "ExecuteTime": {
     "end_time": "2021-02-15T19:21:59.259359Z",
     "start_time": "2021-02-15T19:21:59.254375Z"
    },
    "deletable": false,
    "id": "lgwbY-mG4IWb",
    "nbgrader": {
     "cell_type": "code",
     "checksum": "e6a9e9bb3ad0f8dc2ec3c497a3149092",
     "grade": false,
     "grade_id": "cell-7357aa40f64e5bcb",
     "locked": false,
     "schema_version": 3,
     "solution": true,
     "task": false
    }
   },
   "outputs": [],
   "source": [
    "# TODO: Implement this! (1 point)\n",
    "def load_stopwords(root_folder = \"./datasets/\"):\n",
    "    \"\"\"\n",
    "        Loads the stopwords. The dataset is assumed to be in the folder \"./datasets/\" by default\n",
    "        Output: A set of stopwords\n",
    "    \"\"\"\n",
    "    # YOUR CODE HERE\n",
    "    with open(os.path.join(root_folder, \"common_words\"), 'r+') as f:\n",
    "        words = set(f.readlines())\n",
    "        \n",
    "    \n",
    "    return words"
   ]
  },
  {
   "cell_type": "code",
   "execution_count": 12,
   "metadata": {
    "ExecuteTime": {
     "end_time": "2021-02-15T19:21:59.264379Z",
     "start_time": "2021-02-15T19:21:59.261355Z"
    },
    "colab": {
     "base_uri": "https://localhost:8080/",
     "height": 316
    },
    "deletable": false,
    "editable": false,
    "id": "H_RpcrQ84IWb",
    "nbgrader": {
     "cell_type": "code",
     "checksum": "9211b9735b828d89d1a51d8743c448b4",
     "grade": true,
     "grade_id": "cell-2ca3ac162004de97",
     "locked": true,
     "points": 1,
     "schema_version": 3,
     "solution": false,
     "task": false
    },
    "outputId": "ac1d355d-212f-4b8a-deda-f4058a3716b2"
   },
   "outputs": [],
   "source": [
    "##### Function check\n",
    "stopwords = load_stopwords()\n",
    "\n",
    "assert isinstance(stopwords, set)\n",
    "assert len(stopwords) == 428, \"There should be exactly 428 stop words\"\n",
    "##### "
   ]
  },
  {
   "cell_type": "markdown",
   "metadata": {
    "deletable": false,
    "editable": false,
    "id": "OKFMtm3T4IWb",
    "nbgrader": {
     "cell_type": "markdown",
     "checksum": "fc7e419f35dfd3f507d8a7555ce2cde9",
     "grade": false,
     "grade_id": "cell-134b72872f4300cb",
     "locked": true,
     "schema_version": 3,
     "solution": false,
     "task": false
    }
   },
   "source": [
    "---\n",
    "### 1.4 Tokenization (4 points)\n",
    "\n",
    "We can now write some basic text processing functions. \n",
    "A first step is to tokenize the text. \n",
    "\n",
    "**Note**: Use the  `WordPunctTokenizer` available in the `nltk` library:"
   ]
  },
  {
   "cell_type": "code",
   "execution_count": 13,
   "metadata": {
    "ExecuteTime": {
     "end_time": "2021-02-15T19:21:59.268336Z",
     "start_time": "2021-02-15T19:21:59.265343Z"
    },
    "deletable": false,
    "id": "OWakwkEw4IWb",
    "nbgrader": {
     "cell_type": "code",
     "checksum": "3f5564d3c75bf22fbf832b3a9b938f37",
     "grade": false,
     "grade_id": "cell-322be4c9499bdc4b",
     "locked": false,
     "schema_version": 3,
     "solution": true,
     "task": false
    }
   },
   "outputs": [],
   "source": [
    "# TODO: Implement this! (4 points)\n",
    "def tokenize(text):\n",
    "    \"\"\"\n",
    "        Tokenizes the input text. Use the WordPunctTokenizer\n",
    "        Input: text - a string\n",
    "        Output: a list of tokens\n",
    "    \"\"\"\n",
    "    # YOUR CODE HERE\n",
    "    return nltk.tokenize.WordPunctTokenizer().tokenize(text)\n",
    "    "
   ]
  },
  {
   "cell_type": "code",
   "execution_count": 14,
   "metadata": {
    "ExecuteTime": {
     "end_time": "2021-02-15T19:21:59.274319Z",
     "start_time": "2021-02-15T19:21:59.269332Z"
    },
    "deletable": false,
    "editable": false,
    "id": "Mk4dGvkP4IWc",
    "nbgrader": {
     "cell_type": "code",
     "checksum": "f60b93aa03bf9eced64940252eb33fe3",
     "grade": true,
     "grade_id": "cell-7fbf48bf7541a622",
     "locked": true,
     "points": 4,
     "schema_version": 3,
     "solution": false,
     "task": false
    }
   },
   "outputs": [
    {
     "name": "stdout",
     "output_type": "stream",
     "text": [
      "['the', 'quick', 'brown', 'fox', 'jumps', 'over', 'the', 'lazy', 'dog']\n"
     ]
    }
   ],
   "source": [
    "##### Function check\n",
    "text = \"the quick brown fox jumps over the lazy dog\"\n",
    "tokens = tokenize(text)\n",
    "\n",
    "assert isinstance(tokens, list)\n",
    "assert len(tokens) == 9\n",
    "\n",
    "print(tokens)\n",
    "# output: ['the', 'quick', 'brown', 'fox', 'jumps', 'over', 'the', 'lazy', 'dog']\n",
    "#####"
   ]
  },
  {
   "cell_type": "markdown",
   "metadata": {
    "deletable": false,
    "editable": false,
    "id": "PEw9RAKO4IWc",
    "nbgrader": {
     "cell_type": "markdown",
     "checksum": "1b1cc868db22735e5e193bc64ff67877",
     "grade": false,
     "grade_id": "cell-fd1b98ae61b697ca",
     "locked": true,
     "schema_version": 3,
     "solution": false,
     "task": false
    }
   },
   "source": [
    "---\n",
    "### 1.5 Stemming (3 points)\n",
    "\n",
    "Write a function to stem tokens. \n",
    "Again, you can use the nltk library for this:"
   ]
  },
  {
   "cell_type": "code",
   "execution_count": 15,
   "metadata": {
    "ExecuteTime": {
     "end_time": "2021-02-15T19:21:59.278309Z",
     "start_time": "2021-02-15T19:21:59.275317Z"
    },
    "deletable": false,
    "id": "ViYt0smN4IWc",
    "nbgrader": {
     "cell_type": "code",
     "checksum": "1c4a6aa979d66158c7b6b992af43293a",
     "grade": false,
     "grade_id": "cell-e3f6c8e3f874b28d",
     "locked": false,
     "schema_version": 3,
     "solution": true,
     "task": false
    }
   },
   "outputs": [],
   "source": [
    "# TODO: Implement this! (3 points)\n",
    "def stem_token(token):\n",
    "    \"\"\"\n",
    "        Stems the given token using the PorterStemmer from the nltk library\n",
    "        Input: a single token\n",
    "        Output: the stem of the token\n",
    "    \"\"\"\n",
    "    ps = nltk.stem.PorterStemmer()\n",
    "    return ps.stem(token)\n"
   ]
  },
  {
   "cell_type": "code",
   "execution_count": 16,
   "metadata": {
    "ExecuteTime": {
     "end_time": "2021-02-15T19:21:59.282298Z",
     "start_time": "2021-02-15T19:21:59.279306Z"
    },
    "deletable": false,
    "editable": false,
    "id": "-qSBNMns4IWd",
    "nbgrader": {
     "cell_type": "code",
     "checksum": "cd2611a46e7c2e92af438d7166cf2616",
     "grade": true,
     "grade_id": "cell-cd6863e6ee6ed205",
     "locked": true,
     "points": 3,
     "schema_version": 3,
     "solution": false,
     "task": false
    }
   },
   "outputs": [],
   "source": [
    "##### Function check\n",
    "assert stem_token('owned') == 'own'\n",
    "assert stem_token('itemization') == 'item'\n",
    "#####"
   ]
  },
  {
   "cell_type": "markdown",
   "metadata": {
    "deletable": false,
    "editable": false,
    "id": "M10Gq1wo4IWd",
    "nbgrader": {
     "cell_type": "markdown",
     "checksum": "5fcc93f08a6abcaffd5bd9475e4768e5",
     "grade": false,
     "grade_id": "cell-47c9f90498699110",
     "locked": true,
     "schema_version": 3,
     "solution": false,
     "task": false
    }
   },
   "source": [
    "---\n",
    "### 1.6 Summary\n",
    "\n",
    "The following function puts it all together. Given a string, it tokenizes it and processes it according to the flags that you set."
   ]
  },
  {
   "cell_type": "code",
   "execution_count": 17,
   "metadata": {
    "ExecuteTime": {
     "end_time": "2021-02-15T19:21:59.287285Z",
     "start_time": "2021-02-15T19:21:59.283296Z"
    },
    "deletable": false,
    "editable": false,
    "id": "Y9P9q9074IWd",
    "nbgrader": {
     "cell_type": "code",
     "checksum": "2ff2d215ee8e0039c5a91fd3de12e6bd",
     "grade": false,
     "grade_id": "cell-dd0d3f46b30801da",
     "locked": true,
     "schema_version": 3,
     "solution": false,
     "task": false
    }
   },
   "outputs": [],
   "source": [
    "#### Putting it all together\n",
    "def process_text(text, stem=False, remove_stopwords=False, lowercase_text=False):\n",
    "    \n",
    "    tokens = []\n",
    "    for token in tokenize(text):\n",
    "        if remove_stopwords and token.lower() in stopwords:\n",
    "            continue\n",
    "        if stem:\n",
    "            token = stem_token(token)\n",
    "        if lowercase_text:\n",
    "            token = token.lower()\n",
    "        tokens.append(token)\n",
    "\n",
    "    return tokens\n",
    "#### "
   ]
  },
  {
   "cell_type": "markdown",
   "metadata": {
    "deletable": false,
    "editable": false,
    "id": "3ZprLpXX4IWd",
    "nbgrader": {
     "cell_type": "markdown",
     "checksum": "02d433b18eb43654fa4306a7bf55b190",
     "grade": false,
     "grade_id": "cell-8d885bfd2edd43ae",
     "locked": true,
     "schema_version": 3,
     "solution": false,
     "task": false
    }
   },
   "source": [
    "---\n",
    "\n",
    "Let's create two sets of preprocessed documents.\n",
    "We can process the documents and queries according to these two configurations:"
   ]
  },
  {
   "cell_type": "code",
   "execution_count": 18,
   "metadata": {
    "ExecuteTime": {
     "end_time": "2021-02-15T19:22:02.708638Z",
     "start_time": "2021-02-15T19:21:59.288282Z"
    },
    "deletable": false,
    "editable": false,
    "id": "zSAhYQo84IWd",
    "nbgrader": {
     "cell_type": "code",
     "checksum": "dbe4ca667be6842fdcf512fbcad50c7f",
     "grade": false,
     "grade_id": "cell-d427365ee0fb21d8",
     "locked": true,
     "schema_version": 3,
     "solution": false,
     "task": false
    }
   },
   "outputs": [],
   "source": [
    "# In this configuration:\n",
    "# Don't preprocess the text, except to tokenize \n",
    "config_1 = {\n",
    "  \"stem\": False,\n",
    "  \"remove_stopwords\" : False,\n",
    "  \"lowercase_text\": True\n",
    "} \n",
    "\n",
    "\n",
    "# In this configuration:\n",
    "# Preprocess the text, stem and remove stopwords\n",
    "config_2 = {\n",
    "  \"stem\": True,\n",
    "  \"remove_stopwords\" : True,\n",
    "  \"lowercase_text\": True, \n",
    "} \n",
    "\n",
    "####\n",
    "doc_repr_1 = []\n",
    "doc_repr_2 = []\n",
    "for (doc_id, document) in docs:\n",
    "    doc_repr_1.append((doc_id, process_text(document, **config_1)))\n",
    "    doc_repr_2.append((doc_id, process_text(document, **config_2)))\n",
    "\n",
    "####"
   ]
  },
  {
   "cell_type": "markdown",
   "metadata": {
    "deletable": false,
    "editable": false,
    "id": "ARVTcJrC4IWe",
    "nbgrader": {
     "cell_type": "markdown",
     "checksum": "b60589aac19e80941d860d9b3f1e9a16",
     "grade": false,
     "grade_id": "cell-b1c102db61ae7495",
     "locked": true,
     "schema_version": 3,
     "solution": false,
     "task": false
    }
   },
   "source": [
    "--- \n",
    "\n",
    "## Section 2: Indexing (10 points)<a class=\"anchor\" id=\"indexing\"></a>\n",
    "\n",
    "[Back to Part 1](#part1)\n",
    "\n",
    "\n",
    "\n",
    "A retrieval function usually takes in a query document pair, and scores a query against a document.  Our document set is quite small - just a few thousand documents. However, consider a web-scale dataset with a few million documents. In such a scenario, it would become infeasible to score every query and document pair. In such a case, we can build an inverted index. From Wikipedia:\n",
    "\n",
    "> ... , an inverted index (also referred to as a postings file or inverted file) is a database index storing a mapping from content, such as words or numbers, to its locations in a table, .... The purpose of an inverted index is to allow fast full-text searches, at a cost of increased processing when a document is added to the database. ...\n",
    "\n",
    "\n",
    "Consider a simple inverted index, which maps from word to document. This can improve the performance of a retrieval system significantly. In this assignment, we consider a *simple* inverted index, which maps a word to a set of documents. In practice, however, more complex indices might be used.  \n"
   ]
  },
  {
   "cell_type": "markdown",
   "metadata": {
    "deletable": false,
    "editable": false,
    "id": "pu4nDAJQ4IWe",
    "nbgrader": {
     "cell_type": "markdown",
     "checksum": "710fd943f45523ac36fcb887cc0d4d39",
     "grade": false,
     "grade_id": "cell-fa373192c1b7bb95",
     "locked": true,
     "schema_version": 3,
     "solution": false,
     "task": false
    }
   },
   "source": [
    "### 2.1 Term Frequency-index (10 points)\n",
    "In this assignment, we will be using an index created in memory since our dataset is tiny. To get started, build a simple index that maps each `token` to a list of `(doc_id, count)` where `count` is the count of the `token` in `doc_id`.\n",
    "For consistency, build this index using a python dictionary.\n",
    "    \n",
    "Now, implement a function to build an index:"
   ]
  },
  {
   "cell_type": "code",
   "execution_count": 19,
   "metadata": {
    "ExecuteTime": {
     "end_time": "2021-02-15T19:22:02.729389Z",
     "start_time": "2021-02-15T19:22:02.708638Z"
    },
    "deletable": false,
    "id": "oILPNIpe4IWe",
    "nbgrader": {
     "cell_type": "code",
     "checksum": "c281c45196493b87e45e1b3fb4ddd6c9",
     "grade": false,
     "grade_id": "cell-077599b87e953209",
     "locked": false,
     "schema_version": 3,
     "solution": true,
     "task": false
    }
   },
   "outputs": [],
   "source": [
    "# TODO: Implement this! (10 points)\n",
    "def build_tf_index(documents):\n",
    "    \"\"\"\n",
    "        Build an inverted index (with counts). The output is a dictionary which takes in a token\n",
    "        and returns a list of (doc_id, count) where 'count' is the count of the 'token' in 'doc_id'\n",
    "        Input: a list of documents - (doc_id, tokens) \n",
    "        Output: An inverted index. [token] -> [(doc_id, token_count)]\n",
    "    \"\"\"\n",
    "    # YOUR CODE HERE\n",
    "    inverted_index = {}\n",
    "    for (doc_id, words) in documents:\n",
    "        word_occurences = Counter(words)        \n",
    "        for word in word_occurences:\n",
    "            token_count = word_occurences[word]\n",
    "            if word not in inverted_index:\n",
    "               inverted_index[word] = [(doc_id,token_count)]\n",
    "            else:\n",
    "                inverted_index[word].append((doc_id, token_count))\n",
    "\n",
    "    return inverted_index"
   ]
  },
  {
   "cell_type": "markdown",
   "metadata": {
    "deletable": false,
    "editable": false,
    "id": "Ydx63-0M4IWe",
    "nbgrader": {
     "cell_type": "markdown",
     "checksum": "15e7041b4323d2a290322de538ff7670",
     "grade": false,
     "grade_id": "cell-093aebfa504f96f2",
     "locked": true,
     "schema_version": 3,
     "solution": false,
     "task": false
    }
   },
   "source": [
    "---\n",
    "Now we can build indexed documents and preprocess the queries based on the two configurations:"
   ]
  },
  {
   "cell_type": "code",
   "execution_count": 20,
   "metadata": {
    "ExecuteTime": {
     "end_time": "2021-02-15T19:22:02.897999Z",
     "start_time": "2021-02-15T19:22:02.729389Z"
    },
    "deletable": false,
    "editable": false,
    "id": "uPguIGwp4IWe",
    "nbgrader": {
     "cell_type": "code",
     "checksum": "e27540c1d8d77a3779a05f557f3f40c6",
     "grade": false,
     "grade_id": "cell-b2ff1676348b90a8",
     "locked": true,
     "schema_version": 3,
     "solution": false,
     "task": false
    },
    "tags": []
   },
   "outputs": [],
   "source": [
    "#### Indexed documents based on the two configs\n",
    "\n",
    "# Create the 2 indices\n",
    "tf_index_1 = build_tf_index(doc_repr_1)\n",
    "tf_index_2 = build_tf_index(doc_repr_2)\n",
    "\n",
    "# This function returns the tf_index of the corresponding config\n",
    "def get_index(index_set):\n",
    "    assert index_set in {1, 2}\n",
    "    return {\n",
    "        1: tf_index_1,\n",
    "        2: tf_index_2\n",
    "    }[index_set]\n",
    "\n",
    "####\n",
    "#### Preprocessed query based on the two configs\n",
    "\n",
    "# This function preprocesses the text given the index set, according to the specified config\n",
    "def preprocess_query(text, index_set):\n",
    "    assert index_set in {1, 2}\n",
    "    if index_set == 1:\n",
    "        return process_text(text, **config_1)\n",
    "    elif index_set == 2:\n",
    "        return process_text(text, **config_2)\n",
    "\n",
    "#### "
   ]
  },
  {
   "cell_type": "code",
   "execution_count": 21,
   "metadata": {
    "ExecuteTime": {
     "end_time": "2021-02-15T19:22:02.901953Z",
     "start_time": "2021-02-15T19:22:02.898959Z"
    },
    "deletable": false,
    "editable": false,
    "id": "XgY38oQB4IWe",
    "nbgrader": {
     "cell_type": "code",
     "checksum": "2c50e4b4c68261ff1184277bcf3c38d8",
     "grade": true,
     "grade_id": "cell-fc7c7232d5d2ee46",
     "locked": true,
     "points": 5,
     "schema_version": 3,
     "solution": false,
     "task": false
    }
   },
   "outputs": [
    {
     "name": "stdout",
     "output_type": "stream",
     "text": [
      "[('4', 1), ('7', 1), ('10', 1), ('13', 1), ('19', 1), ('22', 1), ('23', 1), ('37', 1), ('40', 3), ('41', 1)]\n"
     ]
    }
   ],
   "source": [
    "##### Function check\n",
    "\n",
    "print(tf_index_1['computer'][:10])\n",
    "#### "
   ]
  },
  {
   "cell_type": "code",
   "execution_count": 22,
   "metadata": {
    "ExecuteTime": {
     "end_time": "2021-02-15T19:22:02.912925Z",
     "start_time": "2021-02-15T19:22:02.905941Z"
    },
    "deletable": false,
    "editable": false,
    "id": "IaQl12X74IWe",
    "nbgrader": {
     "cell_type": "code",
     "checksum": "02de27463e2a393f46278d6fe3160481",
     "grade": true,
     "grade_id": "cell-ff06bd11204db250",
     "locked": true,
     "points": 5,
     "schema_version": 3,
     "solution": false,
     "task": false
    }
   },
   "outputs": [
    {
     "name": "stdout",
     "output_type": "stream",
     "text": [
      "[('670', 1), ('675', 1), ('1621', 3), ('1681', 1), ('2145', 1), ('2339', 1), ('2572', 1), ('2583', 1), ('2739', 1), ('3012', 1)]\n"
     ]
    }
   ],
   "source": [
    "##### Function check\n",
    "\n",
    "print(tf_index_2['computer'][:10]) \n",
    "#### "
   ]
  },
  {
   "cell_type": "markdown",
   "metadata": {
    "deletable": false,
    "editable": false,
    "id": "D3EIl_rY4IWf",
    "nbgrader": {
     "cell_type": "markdown",
     "checksum": "982112dca3f9a75e871bea74fe1adab4",
     "grade": false,
     "grade_id": "cell-89eba71f04310291",
     "locked": true,
     "schema_version": 3,
     "solution": false,
     "task": false
    }
   },
   "source": [
    "\n",
    "---\n",
    "## Section 3: Ranking  (80 points) <a class=\"anchor\" id=\"ranking\"></a>\n",
    "\n",
    "[Back to Part 1](#part1)\n",
    "\n",
    "Now that we have cleaned and processed our dataset, we can start building simple IR systems. \n",
    "\n",
    "For now, we consider *simple* IR systems, which involve computing scores from the tokens present in the document/query. More advanced methods are covered in later assignments.\n",
    "\n",
    "We will implement the following methods in this section:\n",
    "- [Section 3.1: Bag of Words](#bow) (10 points)\n",
    "- [Section 3.2: TF-IDF](#tfidf) (15 points)\n",
    "- [Section 3.3: Query Likelihood Model](#qlm) (35 points)\n",
    "- [Section 3.4: BM25](#bm25) (20 points)\n",
    "\n",
    "**Scoring policy:**\n",
    "Your implementations in this section are scored based on the expected performance of your ranking functions.\n",
    "You will get a full mark if your implementation meets the expected performance (measured by some evaluation metric).\n",
    "Otherwise, you may get partial credit.\n",
    "For example, if your *Bag of words* ranking function has 60% of expected performance, you will get 4 out of 10."
   ]
  },
  {
   "cell_type": "markdown",
   "metadata": {
    "deletable": false,
    "editable": false,
    "id": "43wdjFkt4IWf",
    "nbgrader": {
     "cell_type": "markdown",
     "checksum": "97c13d2e2cad60df4a70dcb61ea7c30e",
     "grade": false,
     "grade_id": "cell-3daf70a60e393adf",
     "locked": true,
     "schema_version": 3,
     "solution": false,
     "task": false
    }
   },
   "source": [
    "--- \n",
    "\n",
    "### Section 3.1: Bag of Words (10 points)<a class=\"anchor\" id=\"bow\"></a>\n",
    "\n",
    "Probably the simplest IR model is the Bag of Words (BOW) model.\n",
    "Implement a function that scores and ranks all the documents against a query using this model.   \n",
    "\n",
    "Note that you can use either the count of the token or 'binarize' it i.e set the value equal to 1 if the token appears.   \n"
   ]
  },
  {
   "cell_type": "code",
   "execution_count": 23,
   "metadata": {
    "ExecuteTime": {
     "end_time": "2021-02-15T19:22:02.920936Z",
     "start_time": "2021-02-15T19:22:02.916938Z"
    },
    "deletable": false,
    "id": "YdfD8mWa4IWf",
    "nbgrader": {
     "cell_type": "code",
     "checksum": "1178c8a8908b0e4dc07add7aa49b7fde",
     "grade": false,
     "grade_id": "cell-de9cf0459c4b9324",
     "locked": false,
     "schema_version": 3,
     "solution": true,
     "task": false
    }
   },
   "outputs": [],
   "source": [
    "# TODO: Implement this! (10 points)\n",
    "def bow_search(query, index_set):\n",
    "    \"\"\"\n",
    "        Perform a search over all documents with the given query. \n",
    "        Note: You have to use the `get_index` function created in the previous cells\n",
    "        Input: \n",
    "            query - a (unprocessed) query\n",
    "            index_set - the index to use\n",
    "        Output: a list of (document_id, score), sorted in descending relevance to the given query \n",
    "    \"\"\"\n",
    "    index = get_index(index_set)\n",
    "    processed_query = preprocess_query(query, index_set)\n",
    "    \n",
    "    # YOUR CODE HERE\n",
    "    doc_scores = {}\n",
    "    for query_word in processed_query:\n",
    "        if query_word in index:\n",
    "            word_occurences = index[query_word] \n",
    "            for (doc_id, counts) in word_occurences:\n",
    "                if doc_id not in doc_scores:\n",
    "                    doc_scores[doc_id] = counts\n",
    "                else:\n",
    "                    doc_scores[doc_id] += counts\n",
    "    \n",
    "    sorted_scores = [(k, float(v)) for k, v in sorted(doc_scores.items(), key=lambda item:item[1], reverse=True)]\n",
    "\n",
    "    return sorted_scores"
   ]
  },
  {
   "cell_type": "code",
   "execution_count": 24,
   "metadata": {
    "ExecuteTime": {
     "end_time": "2021-02-15T19:22:02.926943Z",
     "start_time": "2021-02-15T19:22:02.921898Z"
    },
    "deletable": false,
    "editable": false,
    "id": "YAeh2kuY4IWf",
    "nbgrader": {
     "cell_type": "code",
     "checksum": "644d6d33cf5075c6d9878d4fe24c6213",
     "grade": true,
     "grade_id": "cell-9f6aceae6dd9125f",
     "locked": true,
     "points": 2,
     "schema_version": 3,
     "solution": false,
     "task": false
    }
   },
   "outputs": [
    {
     "name": "stdout",
     "output_type": "stream",
     "text": [
      "BOW Results:\n",
      "Rank 0(6.0): An Information Algebra - Phase I Report-Language\\n...\n",
      "Rank 1(6.0): Rejuvenating Experimental Computer Science\\nThis r...\n",
      "Rank 2(3.0): ALGOL 60 Confidential\\nThe ALGOL 60 Report,* when ...\n",
      "Rank 3(2.0): Automatic Abstracting and Indexing Survey and Reco...\n",
      "Rank 4(2.0): A String Language for Symbol Manipulation Based on...\n"
     ]
    }
   ],
   "source": [
    "#### Function check\n",
    "\n",
    "docs_by_id = dict(docs)\n",
    "def print_results(docs, len_limit=50):    \n",
    "    for i, (doc_id, score) in enumerate(docs):\n",
    "        doc_content = docs_by_id[doc_id].strip().replace(\"\\n\", \"\\\\n\")[:len_limit] + \"...\"\n",
    "        print(f\"Rank {i}({score:.2}): {doc_content}\")\n",
    "\n",
    "test_bow = bow_search(\"report\", index_set=1)[:5]\n",
    "print(f\"BOW Results:\")\n",
    "print_results(test_bow)\n",
    "#### "
   ]
  },
  {
   "cell_type": "code",
   "execution_count": 25,
   "metadata": {
    "ExecuteTime": {
     "end_time": "2021-02-15T19:22:02.932869Z",
     "start_time": "2021-02-15T19:22:02.927882Z"
    },
    "deletable": false,
    "editable": false,
    "id": "VxcFb-PS4IWf",
    "nbgrader": {
     "cell_type": "code",
     "checksum": "8d54c91b913d7a54b25f3358c969fa45",
     "grade": true,
     "grade_id": "cell-4eed3abf233d9b58",
     "locked": true,
     "points": 2,
     "schema_version": 3,
     "solution": false,
     "task": false
    }
   },
   "outputs": [],
   "source": [
    "#### Please do not change this. This cell is used for grading."
   ]
  },
  {
   "cell_type": "code",
   "execution_count": 26,
   "metadata": {
    "ExecuteTime": {
     "end_time": "2021-02-15T19:22:02.936897Z",
     "start_time": "2021-02-15T19:22:02.934864Z"
    },
    "deletable": false,
    "editable": false,
    "id": "2Q52Hizy4IWf",
    "nbgrader": {
     "cell_type": "code",
     "checksum": "58bcc16d36dc079b7f41f9572423c62b",
     "grade": true,
     "grade_id": "cell-4d65a2d7090c466c",
     "locked": true,
     "points": 3,
     "schema_version": 3,
     "solution": false,
     "task": false
    }
   },
   "outputs": [],
   "source": [
    "#### Please do not change this. This cell is used for grading."
   ]
  },
  {
   "cell_type": "code",
   "execution_count": 27,
   "metadata": {
    "ExecuteTime": {
     "end_time": "2021-02-15T19:22:02.940878Z",
     "start_time": "2021-02-15T19:22:02.937865Z"
    },
    "deletable": false,
    "editable": false,
    "id": "_EV8Ezcu4IWg",
    "nbgrader": {
     "cell_type": "code",
     "checksum": "65e4561970c4eba3e5ce43b142f858af",
     "grade": true,
     "grade_id": "cell-dedf36ab5853ce20",
     "locked": true,
     "points": 3,
     "schema_version": 3,
     "solution": false,
     "task": false
    }
   },
   "outputs": [],
   "source": [
    "#### Please do not change this. This cell is used for grading."
   ]
  },
  {
   "cell_type": "markdown",
   "metadata": {
    "deletable": false,
    "editable": false,
    "id": "a6te4fbZ4IWg",
    "nbgrader": {
     "cell_type": "markdown",
     "checksum": "a5c2318004c5ce534b67c7a36bbc7c31",
     "grade": false,
     "grade_id": "cell-a5c09c79ac1f2871",
     "locked": true,
     "schema_version": 3,
     "solution": false,
     "task": false
    }
   },
   "source": [
    "\n",
    "---\n",
    "\n",
    "### Section 3.2: TF-IDF (15 points) <a class=\"anchor\" id=\"tfidf\"></a>\n",
    "\n",
    "Before we implement the tf-idf scoring functions, let's first write a function to compute the document frequencies of all words.  \n",
    "\n",
    "#### 3.2.1 Document frequency (5 points)\n",
    "Compute the document frequencies of all tokens in the collection.  "
   ]
  },
  {
   "cell_type": "code",
   "execution_count": 28,
   "metadata": {
    "ExecuteTime": {
     "end_time": "2021-02-15T19:22:02.946832Z",
     "start_time": "2021-02-15T19:22:02.941846Z"
    },
    "deletable": false,
    "id": "JTO8ZA5t4IWg",
    "nbgrader": {
     "cell_type": "code",
     "checksum": "11cdde77378ded394d7922fe36bbc5d1",
     "grade": false,
     "grade_id": "cell-9a2369f32e864b8a",
     "locked": false,
     "schema_version": 3,
     "solution": true,
     "task": false
    }
   },
   "outputs": [],
   "source": [
    "# TODO: Implement this! (5 points)\n",
    "def compute_df(documents):\n",
    "    \"\"\"\n",
    "        Compute the document frequency of all terms in the vocabulary\n",
    "        Input: A list of documents\n",
    "        Output: A dictionary with {token: document frequency)\n",
    "    \"\"\"\n",
    "    # YOUR CODE HERE\n",
    "    merge_list = []\n",
    "    for doc in documents:\n",
    "        merge_list.extend(set(doc))\n",
    "    dict_ = Counter(merge_list)\n",
    "    \n",
    "    return dict_ \n"
   ]
  },
  {
   "cell_type": "code",
   "execution_count": 29,
   "metadata": {
    "ExecuteTime": {
     "end_time": "2021-02-15T19:22:03.001685Z",
     "start_time": "2021-02-15T19:22:02.947830Z"
    },
    "deletable": false,
    "editable": false,
    "id": "pWi3HvTH4IWg",
    "nbgrader": {
     "cell_type": "code",
     "checksum": "154985511d7925c5793a1f97dea81880",
     "grade": false,
     "grade_id": "cell-4c3bddd0b73ac90e",
     "locked": true,
     "schema_version": 3,
     "solution": false,
     "task": false
    }
   },
   "outputs": [],
   "source": [
    "#### Compute df based on the two configs\n",
    "\n",
    "# get the document frequencies of each document\n",
    "df_1 = compute_df([d[1] for d in doc_repr_1])\n",
    "df_2 = compute_df([d[1] for d in doc_repr_2])\n",
    "\n",
    "def get_df(index_set):\n",
    "    assert index_set in {1, 2}\n",
    "    return {\n",
    "        1: df_1,\n",
    "        2: df_2\n",
    "    }[index_set]\n",
    "####"
   ]
  },
  {
   "cell_type": "code",
   "execution_count": 30,
   "metadata": {
    "ExecuteTime": {
     "end_time": "2021-02-15T19:22:03.007670Z",
     "start_time": "2021-02-15T19:22:03.002682Z"
    },
    "deletable": false,
    "editable": false,
    "id": "5Y16YYM04IWg",
    "nbgrader": {
     "cell_type": "code",
     "checksum": "110cc180068cf3f77c682ee3de2a117c",
     "grade": true,
     "grade_id": "cell-79e8a6db1e5fc46f",
     "locked": true,
     "points": 5,
     "schema_version": 3,
     "solution": false,
     "task": false
    }
   },
   "outputs": [
    {
     "name": "stdout",
     "output_type": "stream",
     "text": [
      "597\n",
      "11\n"
     ]
    }
   ],
   "source": [
    "#### Function check\n",
    "\n",
    "print(df_1['computer'])\n",
    "print(df_2['computer'])\n",
    "####"
   ]
  },
  {
   "cell_type": "markdown",
   "metadata": {
    "deletable": false,
    "editable": false,
    "id": "X2fSm6OJ4IWg",
    "nbgrader": {
     "cell_type": "markdown",
     "checksum": "6646996a2d016ef86e7cedd2f79a29d1",
     "grade": false,
     "grade_id": "cell-52f6acc487e1b96d",
     "locked": true,
     "schema_version": 3,
     "solution": false,
     "task": false
    }
   },
   "source": [
    "---\n",
    "#### 3.2.2 TF-IDF search (10 points)\n",
    "Next, implement a function that computes a tf-idf score given a query.      "
   ]
  },
  {
   "cell_type": "code",
   "execution_count": 31,
   "metadata": {
    "ExecuteTime": {
     "end_time": "2021-02-15T19:22:03.018640Z",
     "start_time": "2021-02-15T19:22:03.009672Z"
    },
    "deletable": false,
    "id": "xxWNAcOB4IWg",
    "nbgrader": {
     "cell_type": "code",
     "checksum": "b33c859693d1b383bcb53acea340027f",
     "grade": false,
     "grade_id": "cell-2fb5ba34b2994cd9",
     "locked": false,
     "schema_version": 3,
     "solution": true,
     "task": false
    }
   },
   "outputs": [
    {
     "name": "stdout",
     "output_type": "stream",
     "text": [
      "TFIDF Results:\n",
      "Rank 0(1.3e+01): Logic and Programming Languages\\nLogic has been lo...\n",
      "Rank 1(1.3e+01): Consumer Difficulties With Computerized Transactio...\n",
      "Rank 2(8.9): What is Proprietary In Mathematical Programming?-I...\n",
      "Rank 3(8.9): A Statistical Model for Console Behavior in Multiu...\n",
      "Rank 4(8.9): Arguments for a Moratorium on the Construction\\nof...\n"
     ]
    }
   ],
   "source": [
    "# TODO: Implement this! (10 points)\n",
    "def tfidf_search(query, index_set):\n",
    "    \"\"\"\n",
    "        Perform a search over all documents with the given query using tf-idf. \n",
    "        Note #1: You have to use the `get_index` (and the `get_df`) function created in the previous cells\n",
    "        Input: \n",
    "            query - a (unprocessed) query\n",
    "            index_set - the index to use\n",
    "        Output: a list of (document_id, score), sorted in descending relevance to the given query \n",
    "    \"\"\"\n",
    "    index = get_index(index_set)\n",
    "    df = get_df(index_set)\n",
    "    processed_query = preprocess_query(query, index_set)\n",
    "    \n",
    "    # YOUR CODE HERE\n",
    "    nr_docs = len(doc_repr_1)\n",
    "    doc_scores = {}\n",
    "    for query_word in processed_query:\n",
    "        idf = math.log(nr_docs/df[query_word])\n",
    "        if query_word in index:\n",
    "            for (doc_id, tf) in index[query_word]:\n",
    "                if doc_id not in doc_scores:\n",
    "                    doc_scores[doc_id] = tf * idf\n",
    "                else:\n",
    "                    doc_scores[doc_id] += (tf * idf)\n",
    "\n",
    "        sorted_scores = [(k, v) for k, v in sorted(doc_scores.items(), key=lambda item:item[1], reverse=True)]\n",
    "        return sorted_scores\n",
    "\n",
    "\n",
    "\n",
    "\n",
    "test_tfidf = tfidf_search(\"What articles exist which deal with TSS (Time Sharing System), an operating system for IBM computers?\", index_set=1)[:5]\n",
    "print(f\"TFIDF Results:\")\n",
    "print_results(test_tfidf)"
   ]
  },
  {
   "cell_type": "code",
   "execution_count": 32,
   "metadata": {
    "ExecuteTime": {
     "end_time": "2021-02-15T19:22:03.025622Z",
     "start_time": "2021-02-15T19:22:03.020634Z"
    },
    "deletable": false,
    "editable": false,
    "id": "leBfCIu04IWh",
    "nbgrader": {
     "cell_type": "code",
     "checksum": "10b9fd39f3c9a9f3ca274c020ad79323",
     "grade": true,
     "grade_id": "cell-bc68aeeacf42beb3",
     "locked": true,
     "points": 2,
     "schema_version": 3,
     "solution": false,
     "task": false
    },
    "tags": []
   },
   "outputs": [
    {
     "name": "stdout",
     "output_type": "stream",
     "text": [
      "TFIDF Results:\n",
      "Rank 0(2.3e+01): An Information Algebra - Phase I Report-Language\\n...\n",
      "Rank 1(2.3e+01): Rejuvenating Experimental Computer Science\\nThis r...\n",
      "Rank 2(1.2e+01): ALGOL 60 Confidential\\nThe ALGOL 60 Report,* when ...\n",
      "Rank 3(7.8): Automatic Abstracting and Indexing Survey and Reco...\n",
      "Rank 4(7.8): A String Language for Symbol Manipulation Based on...\n"
     ]
    }
   ],
   "source": [
    "#### Function check\n",
    "test_tfidf = tfidf_search(\"report\", index_set=1)[:5]\n",
    "print(f\"TFIDF Results:\")\n",
    "print_results(test_tfidf)\n",
    "####"
   ]
  },
  {
   "cell_type": "code",
   "execution_count": 33,
   "metadata": {
    "ExecuteTime": {
     "end_time": "2021-02-15T19:22:03.031606Z",
     "start_time": "2021-02-15T19:22:03.027616Z"
    },
    "deletable": false,
    "editable": false,
    "id": "Npd3IiET4IWh",
    "nbgrader": {
     "cell_type": "code",
     "checksum": "03441f97df9db4996d0f260fcc974e9d",
     "grade": true,
     "grade_id": "cell-c7702fa8179fadb9",
     "locked": true,
     "points": 2,
     "schema_version": 3,
     "solution": false,
     "task": false
    }
   },
   "outputs": [],
   "source": [
    "#### Please do not change this. This cell is used for grading."
   ]
  },
  {
   "cell_type": "code",
   "execution_count": 34,
   "metadata": {
    "ExecuteTime": {
     "end_time": "2021-02-15T19:22:03.036592Z",
     "start_time": "2021-02-15T19:22:03.033600Z"
    },
    "deletable": false,
    "editable": false,
    "id": "wNuwNNBt4IWh",
    "nbgrader": {
     "cell_type": "code",
     "checksum": "7272cfcbb457a74d23bfec1f85d22d5f",
     "grade": true,
     "grade_id": "cell-3284f50ac29abbaa",
     "locked": true,
     "points": 3,
     "schema_version": 3,
     "solution": false,
     "task": false
    }
   },
   "outputs": [],
   "source": [
    "#### Please do not change this. This cell is used for grading."
   ]
  },
  {
   "cell_type": "code",
   "execution_count": 35,
   "metadata": {
    "ExecuteTime": {
     "end_time": "2021-02-15T19:22:03.041578Z",
     "start_time": "2021-02-15T19:22:03.038586Z"
    },
    "deletable": false,
    "editable": false,
    "id": "ZH-U34qc4IWh",
    "nbgrader": {
     "cell_type": "code",
     "checksum": "fcbcc867713612b90395d653db8fd5e3",
     "grade": true,
     "grade_id": "cell-d908c80a3155354b",
     "locked": true,
     "points": 3,
     "schema_version": 3,
     "solution": false,
     "task": false
    }
   },
   "outputs": [],
   "source": [
    "#### Please do not change this. This cell is used for grading."
   ]
  },
  {
   "cell_type": "markdown",
   "metadata": {
    "deletable": false,
    "editable": false,
    "id": "CF8mA1LD4IWh",
    "nbgrader": {
     "cell_type": "markdown",
     "checksum": "cdffc83f0eaea937cf64a212e7e9af8d",
     "grade": false,
     "grade_id": "cell-f5d923459ba21733",
     "locked": true,
     "schema_version": 3,
     "solution": false,
     "task": false
    }
   },
   "source": [
    "--- \n",
    "\n",
    "### Section 3.3: Query Likelihood Model (35 points) <a class=\"anchor\" id=\"qlm\"></a>\n",
    "\n",
    "In this section, you will implement a simple query likelihood model. \n",
    "\n",
    "\n",
    "#### 3.3.1 Naive QL (15 points)\n",
    "\n",
    "First, let us implement a naive version of a QL model, assuming a multinomial unigram language model (with a uniform prior over the documents). \n",
    "\n"
   ]
  },
  {
   "cell_type": "code",
   "execution_count": 36,
   "metadata": {
    "ExecuteTime": {
     "end_time": "2021-02-15T19:22:03.050555Z",
     "start_time": "2021-02-15T19:22:03.043573Z"
    },
    "deletable": false,
    "editable": false,
    "id": "5Z4AnsRm4IWh",
    "nbgrader": {
     "cell_type": "code",
     "checksum": "b7ae2b7d818b428b4638c1c9206d2aca",
     "grade": false,
     "grade_id": "cell-98505778f7b68e7f",
     "locked": true,
     "schema_version": 3,
     "solution": false,
     "task": false
    }
   },
   "outputs": [],
   "source": [
    "#### Document length for normalization\n",
    "\n",
    "def doc_lengths(documents):\n",
    "    doc_lengths = {doc_id:len(doc) for (doc_id, doc) in documents}\n",
    "    return doc_lengths\n",
    "\n",
    "doc_lengths_1 = doc_lengths(doc_repr_1)\n",
    "doc_lengths_2 = doc_lengths(doc_repr_2)\n",
    "\n",
    "def get_doc_lengths(index_set):\n",
    "    assert index_set in {1, 2}\n",
    "    return {\n",
    "        1: doc_lengths_1,\n",
    "        2: doc_lengths_2\n",
    "    }[index_set]\n",
    "####"
   ]
  },
  {
   "cell_type": "code",
   "execution_count": 37,
   "metadata": {
    "ExecuteTime": {
     "end_time": "2021-02-15T19:22:03.059530Z",
     "start_time": "2021-02-15T19:22:03.052549Z"
    },
    "deletable": false,
    "id": "-WXzO9tU4IWi",
    "nbgrader": {
     "cell_type": "code",
     "checksum": "cedd08303a914243fefdb6b876977ca1",
     "grade": false,
     "grade_id": "cell-8bcf2b804d636c2e",
     "locked": false,
     "schema_version": 3,
     "solution": true,
     "task": false
    }
   },
   "outputs": [],
   "source": [
    "# TODO: Implement this! (15 points)\n",
    "def naive_ql_search(query, index_set):\n",
    "    \"\"\"\n",
    "        Perform a search over all documents with the given query using a naive QL model. \n",
    "        Note #1: You have to use the `get_index` (and get_doc_lengths) function created in the previous cells\n",
    "        Input: \n",
    "            query - a (unprocessed) query\n",
    "            index_set - the index to use\n",
    "        Output: a list of (document_id, score), sorted in descending relevance to the given query \n",
    "    \"\"\"\n",
    "    index = get_index(index_set)\n",
    "    doc_lengths = get_doc_lengths(index_set)\n",
    "    processed_query = preprocess_query(query, index_set)\n",
    "    # YOUR CODE HERE\n",
    "    #structure is {'doc_id':['score','query occurence']}\n",
    "    ql_scores = {}\n",
    "    num_query = 0\n",
    "    for token in processed_query:\n",
    "        if token in index:\n",
    "            num_query += 1\n",
    "            for (id,num) in index[token]:\n",
    "                score = num / doc_lengths[id]\n",
    "                if id not in ql_scores:\n",
    "                    ql_scores[id] = [score,1]\n",
    "                else:\n",
    "                    ql_scores[id][0] *= score\n",
    "                    ql_scores[id][1] +=1\n",
    "    \n",
    "                       \n",
    "    ql_scores_list = []\n",
    "    for (key,score) in ql_scores.items():\n",
    "        if score[1] == num_query:\n",
    "            ql_scores_list.append((key,score[0]))  \n",
    "    ql_scores_list.sort(key=lambda x: x[1], reverse = True)\n",
    "    return ql_scores_list"
   ]
  },
  {
   "cell_type": "code",
   "execution_count": 38,
   "metadata": {
    "ExecuteTime": {
     "end_time": "2021-02-15T19:22:03.065514Z",
     "start_time": "2021-02-15T19:22:03.061526Z"
    },
    "deletable": false,
    "editable": false,
    "id": "VHLDABlc4IWi",
    "nbgrader": {
     "cell_type": "code",
     "checksum": "b550d15bdad28354c336020a00c33d56",
     "grade": true,
     "grade_id": "cell-5a83ac12ecde8578",
     "locked": true,
     "points": 3,
     "schema_version": 3,
     "solution": false,
     "task": false
    }
   },
   "outputs": [
    {
     "name": "stdout",
     "output_type": "stream",
     "text": [
      "Naive QL Results:\n",
      "Rank 0(0.2): A Report Writer For COBOL...\n",
      "Rank 1(0.2): A CRT Report Generating System...\n",
      "Rank 2(0.17): Preliminary Report-International Algebraic Languag...\n",
      "Rank 3(0.17): Supplement to the ALGOL 60 Report...\n",
      "Rank 4(0.14): ALGOL Sub-Committee Report - Extensions...\n"
     ]
    }
   ],
   "source": [
    "#### Function check\n",
    "test_naiveql = naive_ql_search(\"report\", index_set=1)[:5]\n",
    "print(f\"Naive QL Results:\")\n",
    "print_results(test_naiveql)\n",
    "####"
   ]
  },
  {
   "cell_type": "code",
   "execution_count": 39,
   "metadata": {
    "ExecuteTime": {
     "end_time": "2021-02-15T19:22:03.070501Z",
     "start_time": "2021-02-15T19:22:03.067509Z"
    },
    "deletable": false,
    "editable": false,
    "id": "52J5wGHX4IWi",
    "nbgrader": {
     "cell_type": "code",
     "checksum": "799df1d81c63fe90edbb6c218fc707fb",
     "grade": true,
     "grade_id": "cell-80f4bf2137f997bb",
     "locked": true,
     "points": 2,
     "schema_version": 3,
     "solution": false,
     "task": false
    }
   },
   "outputs": [],
   "source": [
    "#### Please do not change this. This cell is used for grading."
   ]
  },
  {
   "cell_type": "code",
   "execution_count": 40,
   "metadata": {
    "ExecuteTime": {
     "end_time": "2021-02-15T19:22:03.075488Z",
     "start_time": "2021-02-15T19:22:03.072497Z"
    },
    "deletable": false,
    "editable": false,
    "id": "vXS0rYJ94IWi",
    "nbgrader": {
     "cell_type": "code",
     "checksum": "875a4a517d27e20625d41783cebec118",
     "grade": true,
     "grade_id": "cell-5ce2993458a8ce51",
     "locked": true,
     "points": 3,
     "schema_version": 3,
     "solution": false,
     "task": false
    }
   },
   "outputs": [],
   "source": [
    "#### Please do not change this. This cell is used for grading."
   ]
  },
  {
   "cell_type": "code",
   "execution_count": 41,
   "metadata": {
    "ExecuteTime": {
     "end_time": "2021-02-15T19:22:03.080474Z",
     "start_time": "2021-02-15T19:22:03.076485Z"
    },
    "deletable": false,
    "editable": false,
    "id": "E7Og-DYJ4IWi",
    "nbgrader": {
     "cell_type": "code",
     "checksum": "d5c4e1c3852e71a46f32825b122f1b71",
     "grade": true,
     "grade_id": "cell-7753bdb54e292f3d",
     "locked": true,
     "points": 3,
     "schema_version": 3,
     "solution": false,
     "task": false
    }
   },
   "outputs": [],
   "source": [
    "#### Please do not change this. This cell is used for grading."
   ]
  },
  {
   "cell_type": "code",
   "execution_count": 42,
   "metadata": {
    "ExecuteTime": {
     "end_time": "2021-02-15T19:22:03.084463Z",
     "start_time": "2021-02-15T19:22:03.081471Z"
    },
    "deletable": false,
    "editable": false,
    "id": "GIrjDu1G4IWi",
    "nbgrader": {
     "cell_type": "code",
     "checksum": "c4d4332d4356e89ce0240f6b80e1899a",
     "grade": true,
     "grade_id": "cell-54e476e2f96e64bb",
     "locked": true,
     "points": 4,
     "schema_version": 3,
     "solution": false,
     "task": false
    }
   },
   "outputs": [],
   "source": [
    "#### Please do not change this. This cell is used for grading."
   ]
  },
  {
   "cell_type": "markdown",
   "metadata": {
    "deletable": false,
    "editable": false,
    "id": "PwcdEmYB4IWi",
    "nbgrader": {
     "cell_type": "markdown",
     "checksum": "8d739dc91a22bd48897f603885f95a74",
     "grade": false,
     "grade_id": "cell-5414dfd69dab8b94",
     "locked": true,
     "schema_version": 3,
     "solution": false,
     "task": false
    }
   },
   "source": [
    "---\n",
    "#### 3.3.2 QL (20 points)\n",
    "Now, let's implement a QL model that handles the issues with the naive version. In particular, you will implement a QL model with Jelinek-Mercer Smoothing. That means an interpolated score is computed per word - one term is the same as the previous naive version, and the second term comes from a unigram language model. In addition, you should accumulate the scores by summing the **log** (smoothed) probability which leads to better numerical stability."
   ]
  },
  {
   "cell_type": "code",
   "execution_count": 43,
   "metadata": {
    "ExecuteTime": {
     "end_time": "2021-02-15T19:22:03.091445Z",
     "start_time": "2021-02-15T19:22:03.085461Z"
    },
    "deletable": false,
    "id": "vQ7JGYo34IWj",
    "nbgrader": {
     "cell_type": "code",
     "checksum": "b8c6abf937ad333e628f1db891f2e29e",
     "grade": false,
     "grade_id": "cell-bb1f506409771257",
     "locked": false,
     "schema_version": 3,
     "solution": true,
     "task": false
    }
   },
   "outputs": [],
   "source": [
    "# TODO: Implement this! (20 points)\n",
    "\n",
    "# YOUR CODE HERE\n",
    "def ql_search(query, index_set):\n",
    "    \"\"\"\n",
    "        Perform a search over all documents with the given query using a QL model \n",
    "        with Jelinek-Mercer Smoothing (set smoothing=0.1). \n",
    "        \n",
    "        \n",
    "        Note #1: You have to use the `get_index` (and get_doc_lengths) function created in the previous cells\n",
    "        Note #2: You might have to create some variables beforehand and use them in this function\n",
    "        \n",
    "        \n",
    "        Input: \n",
    "            query - a (unprocessed) query\n",
    "            index_set - the index to use\n",
    "        Output: a list of (document_id, score), sorted in descending relevance to the given query \n",
    "    \"\"\"\n",
    "    index = get_index(index_set)\n",
    "    doc_lengths = get_doc_lengths(index_set)\n",
    "    processed_query = preprocess_query(query, index_set)\n",
    "    \n",
    "    # YOUR CODE HERE\n",
    "    smoothing = 0.9\n",
    "    sum_of_all_words = sum(doc_lengths.values())\n",
    "                    \n",
    "    result_dict = {}            \n",
    "    for token in processed_query:\n",
    "        if token in index:\n",
    "            sum_freq = 0\n",
    "            [sum_freq := sum_freq + x[1] for x in index[token]]\n",
    "            term_2= (1-smoothing) * (sum_freq / sum_of_all_words)\n",
    "            dict_token = dict(index[token])\n",
    "            for (doc_id,length) in doc_lengths.items():\n",
    "                term_1 = 0\n",
    "                if doc_id in dict_token.keys():\n",
    "                    term_1 = smoothing * (dict_token[doc_id]/doc_lengths[doc_id])    \n",
    "                if doc_id not in result_dict:\n",
    "                    result_dict[doc_id] = math.log(term_1 + term_2)\n",
    "                else:\n",
    "                    result_dict[doc_id] += math.log(term_1 + term_2)\n",
    "                    \n",
    "    \n",
    "    ql_scores_list = [(key, score) for key, score in result_dict.items()]\n",
    "    ql_scores_list.sort(key=lambda x: x[1], reverse = True)\n",
    "    return ql_scores_list  "
   ]
  },
  {
   "cell_type": "code",
   "execution_count": 44,
   "metadata": {
    "ExecuteTime": {
     "end_time": "2021-02-15T19:22:03.113386Z",
     "start_time": "2021-02-15T19:22:03.092442Z"
    },
    "deletable": false,
    "editable": false,
    "id": "onjd74_U4IWj",
    "nbgrader": {
     "cell_type": "code",
     "checksum": "0b12a7f3355193a257fd9f5f69a66562",
     "grade": true,
     "grade_id": "cell-850e9d6369bcec32",
     "locked": true,
     "points": 4,
     "schema_version": 3,
     "solution": false,
     "task": false
    }
   },
   "outputs": [
    {
     "name": "stdout",
     "output_type": "stream",
     "text": [
      "Rank 0(-1.7): A Report Writer For COBOL...\n",
      "Rank 1(-1.7): A CRT Report Generating System...\n",
      "Rank 2(-1.9): Preliminary Report-International Algebraic Languag...\n",
      "Rank 3(-1.9): Supplement to the ALGOL 60 Report...\n",
      "Rank 4(-2.1): ALGOL Sub-Committee Report - Extensions...\n",
      "\n",
      "Rank 0(-1.7e+01): A Report Writer For COBOL...\n",
      "Rank 1(-1.7e+01): A CRT Report Generating System...\n",
      "Rank 2(-1.9e+01): Preliminary Report-International Algebraic Languag...\n",
      "Rank 3(-1.9e+01): Supplement to the ALGOL 60 Report...\n",
      "Rank 4(-2.1e+01): ALGOL Sub-Committee Report - Extensions...\n"
     ]
    }
   ],
   "source": [
    "#### Function check\n",
    "test_ql_results = ql_search(\"report\", index_set=1)[:5]\n",
    "print_results(test_ql_results)\n",
    "print()\n",
    "test_ql_results_long = ql_search(\"report \" * 10, index_set=1)[:5]\n",
    "print_results(test_ql_results_long)\n",
    "####"
   ]
  },
  {
   "cell_type": "code",
   "execution_count": 45,
   "metadata": {
    "ExecuteTime": {
     "end_time": "2021-02-15T19:22:03.117376Z",
     "start_time": "2021-02-15T19:22:03.114384Z"
    },
    "deletable": false,
    "editable": false,
    "id": "2Nf0hYoy4IWj",
    "nbgrader": {
     "cell_type": "code",
     "checksum": "e40be645140389c115849856145f5b59",
     "grade": true,
     "grade_id": "cell-958cdcf6fd6899b7",
     "locked": true,
     "points": 3,
     "schema_version": 3,
     "solution": false,
     "task": false
    }
   },
   "outputs": [],
   "source": [
    "#### Please do not change this. This cell is used for grading."
   ]
  },
  {
   "cell_type": "code",
   "execution_count": 46,
   "metadata": {
    "ExecuteTime": {
     "end_time": "2021-02-15T19:22:03.122371Z",
     "start_time": "2021-02-15T19:22:03.118373Z"
    },
    "deletable": false,
    "editable": false,
    "id": "LBhA_QfH4IWj",
    "nbgrader": {
     "cell_type": "code",
     "checksum": "41d4aff001df17e7963ba79b45810b30",
     "grade": true,
     "grade_id": "cell-384dc23a0c251f6e",
     "locked": true,
     "points": 4,
     "schema_version": 3,
     "solution": false,
     "task": false
    }
   },
   "outputs": [],
   "source": [
    "#### Please do not change this. This cell is used for grading."
   ]
  },
  {
   "cell_type": "code",
   "execution_count": 47,
   "metadata": {
    "ExecuteTime": {
     "end_time": "2021-02-15T19:22:03.127349Z",
     "start_time": "2021-02-15T19:22:03.124366Z"
    },
    "deletable": false,
    "editable": false,
    "id": "RweZvvbK4IWj",
    "nbgrader": {
     "cell_type": "code",
     "checksum": "893e8c5a073abc8ebb763d267b91bc02",
     "grade": true,
     "grade_id": "cell-7218966cba5097cc",
     "locked": true,
     "points": 4,
     "schema_version": 3,
     "solution": false,
     "task": false
    }
   },
   "outputs": [],
   "source": [
    "#### Please do not change this. This cell is used for grading."
   ]
  },
  {
   "cell_type": "code",
   "execution_count": 48,
   "metadata": {
    "ExecuteTime": {
     "end_time": "2021-02-15T19:22:03.132336Z",
     "start_time": "2021-02-15T19:22:03.129344Z"
    },
    "deletable": false,
    "editable": false,
    "id": "9WGyJzph4IWj",
    "nbgrader": {
     "cell_type": "code",
     "checksum": "f99cb6f8b1f5830aaed8f06712ff846e",
     "grade": true,
     "grade_id": "cell-481ab073259ae53f",
     "locked": true,
     "points": 5,
     "schema_version": 3,
     "solution": false,
     "task": false
    }
   },
   "outputs": [],
   "source": [
    "#### Please do not change this. This cell is used for grading."
   ]
  },
  {
   "cell_type": "markdown",
   "metadata": {
    "deletable": false,
    "editable": false,
    "id": "a3vu_N7C4IWj",
    "nbgrader": {
     "cell_type": "markdown",
     "checksum": "c02f14705d679579b1aa9f78f54779d5",
     "grade": false,
     "grade_id": "cell-f44088bfdac1dc90",
     "locked": true,
     "schema_version": 3,
     "solution": false,
     "task": false
    }
   },
   "source": [
    "--- \n",
    "\n",
    "### Section 3.4: BM25 (20 points) <a class=\"anchor\" id=\"bm25\"></a>\n",
    "\n",
    "In this section, we will implement the BM25 scoring function. \n"
   ]
  },
  {
   "cell_type": "code",
   "execution_count": 49,
   "metadata": {
    "ExecuteTime": {
     "end_time": "2021-02-15T19:22:03.140315Z",
     "start_time": "2021-02-15T19:22:03.133333Z"
    },
    "deletable": false,
    "id": "NLVmJujG4IWk",
    "nbgrader": {
     "cell_type": "code",
     "checksum": "e57efe06ea92af1c83784a42eb3d86e0",
     "grade": false,
     "grade_id": "cell-15640fc9b5d00a3c",
     "locked": false,
     "schema_version": 3,
     "solution": true,
     "task": false
    }
   },
   "outputs": [],
   "source": [
    "# TODO: Implement this! (20 points)\n",
    "def bm25_search(query, index_set):\n",
    "    \"\"\"\n",
    "        Perform a search over all documents with the given query using BM25. Use k_1 = 1.5 and b = 0.75\n",
    "        Note #1: You have to use the `get_index` (and `get_doc_lengths`) function created in the previous cells\n",
    "        Note #2: You might have to create some variables beforehand and use them in this function\n",
    "        \n",
    "        Input: \n",
    "            query - a (unprocessed) query\n",
    "            index_set - the index to use\n",
    "        Output: a list of (document_id, score), sorted in descending relevance to the given query \n",
    "    \"\"\"\n",
    "    \n",
    "    index = get_index(index_set)\n",
    "    df = get_df(index_set)\n",
    "    doc_lengths = get_doc_lengths(index_set)\n",
    "    processed_query = preprocess_query(query, index_set)\n",
    "    \n",
    "    # YOUR CODE HERE\n",
    "    b = 0.75\n",
    "    k_1 = 1.5\n",
    "    \n",
    "    num_of_docs = len(doc_lengths)\n",
    "    avg_doc_length = sum(doc_lengths[key] for key in doc_lengths) / num_of_docs\n",
    "    \n",
    "    bm25_scores = {}\n",
    "    for token in processed_query:\n",
    "        if token in index:\n",
    "            token_freq = df[token]\n",
    "            for doc_id, num_of_occurences in index[token]:\n",
    "                doc_length = doc_lengths[doc_id]\n",
    "                idf = math.log((num_of_docs - token_freq + 0.5) / (token_freq + 0.5) + 1)\n",
    "                K = k_1 * (1 - b + b * (doc_length / avg_doc_length))\n",
    "                score = idf * (num_of_occurences * (k_1 + 1)) / (num_of_occurences + K)\n",
    "                if doc_id in bm25_scores:\n",
    "                    bm25_scores[doc_id] += score\n",
    "                else:\n",
    "                    bm25_scores[doc_id] = score \n",
    "\n",
    "    bm25_scores_list = [(key, score) for key, score in bm25_scores.items()]\n",
    "    bm25_scores_list.sort(key=lambda x: x[1], reverse = True)   \n",
    "    \n",
    "    return bm25_scores_list \n",
    "    "
   ]
  },
  {
   "cell_type": "code",
   "execution_count": 50,
   "metadata": {
    "ExecuteTime": {
     "end_time": "2021-02-15T19:22:03.145320Z",
     "start_time": "2021-02-15T19:22:03.141317Z"
    },
    "deletable": false,
    "editable": false,
    "id": "YocJglWu4IWk",
    "nbgrader": {
     "cell_type": "code",
     "checksum": "4be9de5d4e94637960d83725422bea6c",
     "grade": true,
     "grade_id": "cell-d10536bca72c74b1",
     "locked": true,
     "points": 3,
     "schema_version": 3,
     "solution": false,
     "task": false
    }
   },
   "outputs": [
    {
     "name": "stdout",
     "output_type": "stream",
     "text": [
      "Rank 0(6.7): A Report Writer For COBOL...\n",
      "Rank 1(6.7): A CRT Report Generating System...\n",
      "Rank 2(6.6): Preliminary Report-International Algebraic Languag...\n",
      "Rank 3(6.6): Supplement to the ALGOL 60 Report...\n",
      "Rank 4(6.5): ALGOL Sub-Committee Report - Extensions...\n"
     ]
    }
   ],
   "source": [
    "#### Function check\n",
    "test_bm25_results = bm25_search(\"report\", index_set=1)[:5]\n",
    "print_results(test_bm25_results)\n",
    "####"
   ]
  },
  {
   "cell_type": "code",
   "execution_count": 51,
   "metadata": {
    "ExecuteTime": {
     "end_time": "2021-02-15T19:22:03.150288Z",
     "start_time": "2021-02-15T19:22:03.147296Z"
    },
    "deletable": false,
    "editable": false,
    "id": "LMKx7x7X4IWk",
    "nbgrader": {
     "cell_type": "code",
     "checksum": "31b550d6a46ae4f8ede88788799ac2b9",
     "grade": true,
     "grade_id": "cell-60f6ec5052712d79",
     "locked": true,
     "points": 5,
     "schema_version": 3,
     "solution": false,
     "task": false
    }
   },
   "outputs": [],
   "source": [
    "#### Please do not change this. This cell is used for grading."
   ]
  },
  {
   "cell_type": "code",
   "execution_count": 52,
   "metadata": {
    "ExecuteTime": {
     "end_time": "2021-02-15T19:22:03.155274Z",
     "start_time": "2021-02-15T19:22:03.152283Z"
    },
    "deletable": false,
    "editable": false,
    "id": "zMyvPilQ4IWk",
    "nbgrader": {
     "cell_type": "code",
     "checksum": "3da2ec16bfe781916e71755d65aa2983",
     "grade": true,
     "grade_id": "cell-5d17524043a5abcc",
     "locked": true,
     "points": 5,
     "schema_version": 3,
     "solution": false,
     "task": false
    }
   },
   "outputs": [],
   "source": [
    "#### Please do not change this. This cell is used for grading."
   ]
  },
  {
   "cell_type": "code",
   "execution_count": 53,
   "metadata": {
    "ExecuteTime": {
     "end_time": "2021-02-15T19:22:03.159263Z",
     "start_time": "2021-02-15T19:22:03.156272Z"
    },
    "deletable": false,
    "editable": false,
    "id": "50XzuKTa4IWk",
    "nbgrader": {
     "cell_type": "code",
     "checksum": "e7b563d54fa84c20909c0ae107010541",
     "grade": true,
     "grade_id": "cell-ff8e704eda1184e3",
     "locked": true,
     "points": 3,
     "schema_version": 3,
     "solution": false,
     "task": false
    }
   },
   "outputs": [],
   "source": [
    "#### Please do not change this. This cell is used for grading."
   ]
  },
  {
   "cell_type": "code",
   "execution_count": 54,
   "metadata": {
    "ExecuteTime": {
     "end_time": "2021-02-15T19:22:03.163253Z",
     "start_time": "2021-02-15T19:22:03.160261Z"
    },
    "deletable": false,
    "editable": false,
    "id": "DYTt6NKh4IWk",
    "nbgrader": {
     "cell_type": "code",
     "checksum": "b013f90974b396630a8831d6f1d7e5f7",
     "grade": true,
     "grade_id": "cell-a52310500a2543cb",
     "locked": true,
     "points": 4,
     "schema_version": 3,
     "solution": false,
     "task": false
    }
   },
   "outputs": [],
   "source": [
    "#### Please do not change this. This cell is used for grading."
   ]
  },
  {
   "cell_type": "markdown",
   "metadata": {
    "deletable": false,
    "editable": false,
    "id": "bD5EZ9eN4IWl",
    "nbgrader": {
     "cell_type": "markdown",
     "checksum": "8fcf67cb7d5e8b26cb9bf1f0aa42c847",
     "grade": false,
     "grade_id": "cell-8b2b412c81d62f2d",
     "locked": true,
     "schema_version": 3,
     "solution": false,
     "task": false
    }
   },
   "source": [
    "\n",
    "---\n",
    "\n",
    "### 3.5. Test Your Functions\n",
    "\n",
    "The widget below allows you to play with the search functions you've written so far. Use this to test your search functions and ensure that they work as expected."
   ]
  },
  {
   "cell_type": "code",
   "execution_count": 55,
   "metadata": {
    "ExecuteTime": {
     "end_time": "2021-02-15T19:22:03.172229Z",
     "start_time": "2021-02-15T19:22:03.164250Z"
    },
    "deletable": false,
    "editable": false,
    "id": "mIWUmEd14IWl",
    "nbgrader": {
     "cell_type": "code",
     "checksum": "dfeb204b390acc0794dbdcac92b0cf2c",
     "grade": false,
     "grade_id": "cell-c9c2bb76354e8d97",
     "locked": true,
     "schema_version": 3,
     "solution": false,
     "task": false
    }
   },
   "outputs": [],
   "source": [
    "#### Highlighter function\n",
    "# class for results\n",
    "ResultRow = namedtuple(\"ResultRow\", [\"doc_id\", \"snippet\", \"score\"])\n",
    "# doc_id -> doc\n",
    "docs_by_id = dict((d[0], d[1]) for d in docs)\n",
    "\n",
    "def highlight_text(document, query, tol=17):\n",
    "    import re\n",
    "    tokens = tokenize(query)\n",
    "    regex = \"|\".join(f\"(\\\\b{t}\\\\b)\" for t in tokens)\n",
    "    regex = re.compile(regex, flags=re.IGNORECASE)\n",
    "    output = \"\"\n",
    "    i = 0\n",
    "    for m in regex.finditer(document):\n",
    "        start_idx = max(0, m.start() - tol)\n",
    "        end_idx = min(len(document), m.end() + tol)\n",
    "        output += \"\".join([\"...\",\n",
    "                        document[start_idx:m.start()],\n",
    "                        \"<strong>\",\n",
    "                        document[m.start():m.end()],\n",
    "                        \"</strong>\",\n",
    "                        document[m.end():end_idx],\n",
    "                        \"...\"])\n",
    "    return output.replace(\"\\n\", \" \")\n",
    "\n",
    "\n",
    "def make_results(query, search_fn, index_set):\n",
    "    results = []\n",
    "    for doc_id, score in search_fn(query, index_set):\n",
    "        highlight = highlight_text(docs_by_id[doc_id], query)\n",
    "        if len(highlight.strip()) == 0:\n",
    "            highlight = docs_by_id[doc_id]\n",
    "        results.append(ResultRow(doc_id, highlight, score))\n",
    "    return results\n",
    "####"
   ]
  },
  {
   "cell_type": "code",
   "execution_count": 56,
   "metadata": {
    "ExecuteTime": {
     "end_time": "2021-02-15T19:22:03.184197Z",
     "start_time": "2021-02-15T19:22:03.173226Z"
    },
    "id": "lLBwC48L4IWl"
   },
   "outputs": [
    {
     "data": {
      "application/vnd.jupyter.widget-view+json": {
       "model_id": "d5d9439e8b814703b0884c5248b80c9e",
       "version_major": 2,
       "version_minor": 0
      },
      "text/plain": [
       "Text(value='', description='Search Bar')"
      ]
     },
     "metadata": {},
     "output_type": "display_data"
    }
   ],
   "source": [
    "# TODO: Set this to the function you want to test!\n",
    "# this function should take in a query (string)\n",
    "# and return a sorted list of (doc_id, score) \n",
    "# with the most relevant document in the first position\n",
    "search_fn = bm25_search\n",
    "index_set = 1\n",
    "\n",
    "text = widgets.Text(description=\"Search Bar\", width=200)\n",
    "display(text)\n",
    "\n",
    "def handle_submit(sender):\n",
    "    print(f\"Searching for: '{sender.value}'\")\n",
    "    \n",
    "    results = make_results(sender.value, search_fn, index_set)\n",
    "    \n",
    "    # display only the top 5\n",
    "    results = results[:5]\n",
    "    \n",
    "    body = \"\"\n",
    "    for idx, r in enumerate(results):\n",
    "        body += f\"<li>Document #{r.doc_id}({r.score}): {r.snippet}</li>\"\n",
    "    display(HTML(f\"<ul>{body}</ul>\"))\n",
    "    \n",
    "\n",
    "text.on_submit(handle_submit)"
   ]
  },
  {
   "cell_type": "markdown",
   "metadata": {
    "deletable": false,
    "editable": false,
    "id": "V_eNBPNC4IWl",
    "nbgrader": {
     "cell_type": "markdown",
     "checksum": "b315c280048a50e8bad7d6250f6f39d1",
     "grade": false,
     "grade_id": "cell-8d46fe8e4f3d8cdb",
     "locked": true,
     "schema_version": 3,
     "solution": false,
     "task": false
    }
   },
   "source": [
    "---\n",
    "\n",
    "## Section 4: Evaluation (40 points) <a class=\"anchor\" id=\"evaluation\"></a>\n",
    "\n",
    "[Back to Part 1](#part1)\n",
    "\n",
    "Before we jump in and implement an algorithm for retrieval, we first have to learn how to evaluate such a system. In particular, we will work with offline evaluation metrics. These metrics are computed on a dataset with known relevance judgements.\n",
    "\n",
    "Implement the following evaluation metrics. \n",
    "\n",
    "1. Precision (7 points)\n",
    "2. Recall (7 points)\n",
    "3. Mean Average Precision (12 points)\n",
    "4. Expected Reciprocal Rank (12 points)"
   ]
  },
  {
   "cell_type": "markdown",
   "metadata": {
    "deletable": false,
    "editable": false,
    "id": "gLVYII234IWl",
    "nbgrader": {
     "cell_type": "markdown",
     "checksum": "82e90076c51893e31fec5c40c49d1828",
     "grade": false,
     "grade_id": "cell-3419fd3bc663d7cc",
     "locked": true,
     "schema_version": 3,
     "solution": false,
     "task": false
    }
   },
   "source": [
    "---\n",
    "### 4.1 Read relevance labels (2 points)\n",
    "\n",
    "Let's take a look at the `qrels.text` file, which contains the ground truth relevance scores. The relevance labels for CACM are binary - either 0 or 1. \n"
   ]
  },
  {
   "cell_type": "code",
   "execution_count": 57,
   "metadata": {
    "ExecuteTime": {
     "end_time": "2021-02-15T19:22:03.227083Z",
     "start_time": "2021-02-15T19:22:03.185195Z"
    },
    "deletable": false,
    "editable": false,
    "id": "dD-BtESw4IWl",
    "nbgrader": {
     "cell_type": "code",
     "checksum": "6c11025f5a222796f2882c73c1634799",
     "grade": false,
     "grade_id": "cell-6b738366059dde9e",
     "locked": true,
     "schema_version": 3,
     "solution": false,
     "task": false
    }
   },
   "outputs": [
    {
     "name": "stdout",
     "output_type": "stream",
     "text": [
      "01 1410  0 0\n",
      "01 1572  0 0\n",
      "01 1605  0 0\n",
      "01 2020  0 0\n",
      "01 2358  0 0\n",
      "02 2434  0 0\n",
      "02 2863  0 0\n",
      "02 3078  0 0\n",
      "03 1134  0 0\n",
      "03 1613  0 0\n"
     ]
    }
   ],
   "source": [
    "!head ./datasets/qrels.text"
   ]
  },
  {
   "cell_type": "markdown",
   "metadata": {
    "deletable": false,
    "editable": false,
    "id": "O1d_Ru854IWm",
    "nbgrader": {
     "cell_type": "markdown",
     "checksum": "e77d7cc6aae69fdbadb5ac9f78f8a560",
     "grade": false,
     "grade_id": "cell-10e16bff2753ffbb",
     "locked": true,
     "schema_version": 3,
     "solution": false,
     "task": false
    }
   },
   "source": [
    "---\n",
    "**Implementation (2 points):**\n",
    "The first column is the query_id and the second column is the document_id. You can safely ignore the 3rd and 4th columns. Write a function to read in the file:"
   ]
  },
  {
   "cell_type": "code",
   "execution_count": 58,
   "metadata": {
    "ExecuteTime": {
     "end_time": "2021-02-15T19:22:03.235062Z",
     "start_time": "2021-02-15T19:22:03.229079Z"
    },
    "deletable": false,
    "id": "gaPgBW-q4IWm",
    "nbgrader": {
     "cell_type": "code",
     "checksum": "ef347565a0990ddbd049835105753d59",
     "grade": false,
     "grade_id": "cell-ee5253a4ef602fce",
     "locked": false,
     "schema_version": 3,
     "solution": true,
     "task": false
    }
   },
   "outputs": [],
   "source": [
    "# TODO: Implement this! (2 points)\n",
    "def read_qrels(root_folder = \"./datasets/\"):\n",
    "    \"\"\"\n",
    "        Reads the qrels.text file. \n",
    "        Output: A dictionary: query_id -> [list of relevant documents]\n",
    "    \"\"\"\n",
    "    # YOUR CODE HERE\n",
    "    qrels_dict = {}\n",
    "    with open(root_folder + 'qrels.text') as f:\n",
    "        for line in f:\n",
    "            line_split = line.split(' ')\n",
    "            q_id = str(int(line_split[0]))\n",
    "            doc_id = line_split[1]\n",
    "            if q_id in qrels_dict:\n",
    "                qrels_dict[q_id].append(doc_id)\n",
    "            else:\n",
    "                qrels_dict[q_id] = [doc_id]\n",
    "        \n",
    "    return qrels_dict"
   ]
  },
  {
   "cell_type": "code",
   "execution_count": 59,
   "metadata": {
    "ExecuteTime": {
     "end_time": "2021-02-15T19:22:03.242043Z",
     "start_time": "2021-02-15T19:22:03.237056Z"
    },
    "deletable": false,
    "editable": false,
    "id": "42HAaoxI4IWm",
    "nbgrader": {
     "cell_type": "code",
     "checksum": "6a258a834392cc8cbf8af5d4ccdee81f",
     "grade": true,
     "grade_id": "cell-72215605fbe24f65",
     "locked": true,
     "points": 2,
     "schema_version": 3,
     "solution": false,
     "task": false
    }
   },
   "outputs": [],
   "source": [
    "#### Function check\n",
    "qrels = read_qrels()\n",
    "\n",
    "assert len(qrels) == 52, \"There should be 52 queries with relevance judgements\"\n",
    "assert sum(len(j) for j in qrels.values()) == 796, \"There should be a total of 796 Relevance Judgements\"\n",
    "####"
   ]
  },
  {
   "cell_type": "markdown",
   "metadata": {
    "deletable": false,
    "editable": false,
    "id": "XSWVVWzl4IWm",
    "nbgrader": {
     "cell_type": "markdown",
     "checksum": "6c9e7428a52e291a2cdf92a379730d4c",
     "grade": false,
     "grade_id": "cell-176a6fb2939d0420",
     "locked": true,
     "schema_version": 3,
     "solution": false,
     "task": false
    }
   },
   "source": [
    "---\n",
    "**Note:** For a given query `query_id`, you can assume that documents *not* in `qrels[query_id]` are not relevant to `query_id`. \n"
   ]
  },
  {
   "cell_type": "markdown",
   "metadata": {
    "deletable": false,
    "editable": false,
    "id": "Ad2E1OAb4IWm",
    "nbgrader": {
     "cell_type": "markdown",
     "checksum": "b26a818c7b4f7ad490e00b35ea0edd69",
     "grade": false,
     "grade_id": "cell-bd8341b72cdd89bb",
     "locked": true,
     "schema_version": 3,
     "solution": false,
     "task": false
    }
   },
   "source": [
    "---\n",
    "### 4.2 Precision (7 points)\n",
    "Implement the `precision@k` metric:"
   ]
  },
  {
   "cell_type": "code",
   "execution_count": 60,
   "metadata": {
    "ExecuteTime": {
     "end_time": "2021-02-15T19:22:03.247030Z",
     "start_time": "2021-02-15T19:22:03.243040Z"
    },
    "deletable": false,
    "id": "itsA-mo54IWm",
    "nbgrader": {
     "cell_type": "code",
     "checksum": "ad3cc3234a361d269ecb6b59cc447e9f",
     "grade": false,
     "grade_id": "cell-494bd0cce108ed67",
     "locked": false,
     "schema_version": 3,
     "solution": true,
     "task": false
    }
   },
   "outputs": [],
   "source": [
    "# TODO: Implement this! (7 points)\n",
    "def precision_k(results, relevant_docs, k):\n",
    "    \"\"\"\n",
    "        Compute Precision@K\n",
    "        Input: \n",
    "            results: A sorted list of 2-tuples (document_id, score), \n",
    "                    with the most relevant document in the first position\n",
    "            relevant_docs: A set of relevant documents. \n",
    "            k: the cut-off\n",
    "        Output: Precision@K\n",
    "    \"\"\"\n",
    "    # YOUR CODE HERE\n",
    "    \n",
    "    relevant_doc_set = set(relevant_docs)\n",
    "    results_doc_set = {k for k, v in results[:k]}\n",
    "\n",
    "    numerator = len(relevant_doc_set.intersection(results_doc_set))\n",
    "    denomerator = len(results_doc_set)\n",
    "    \n",
    "    precision = numerator / denomerator if denomerator > 0 else 0\n",
    "\n",
    "\n",
    "    return precision"
   ]
  },
  {
   "cell_type": "code",
   "execution_count": 61,
   "metadata": {
    "ExecuteTime": {
     "end_time": "2021-02-15T19:22:03.260992Z",
     "start_time": "2021-02-15T19:22:03.248026Z"
    },
    "deletable": false,
    "editable": false,
    "id": "QnBXQiHM4IWm",
    "nbgrader": {
     "cell_type": "code",
     "checksum": "964b214dbfff8fc53cada864019ee863",
     "grade": true,
     "grade_id": "cell-e7ff0d91c319ca64",
     "locked": true,
     "points": 7,
     "schema_version": 3,
     "solution": false,
     "task": false
    }
   },
   "outputs": [
    {
     "name": "stdout",
     "output_type": "stream",
     "text": [
      "query:\n",
      " What articles exist which deal with TSS (Time Sharing System), an\n",
      "operating system for IBM computers?\n",
      "precision@10 = 0.2\n"
     ]
    }
   ],
   "source": [
    "#### Function check\n",
    "qid = queries[0][0]\n",
    "qtext = queries[0][1]\n",
    "print(f'query:{qtext}')\n",
    "results = bm25_search(qtext, 2)\n",
    "precision = precision_k(results, qrels[qid], 10)\n",
    "print(f'precision@10 = {precision}')\n",
    "####"
   ]
  },
  {
   "cell_type": "markdown",
   "metadata": {
    "deletable": false,
    "editable": false,
    "id": "rsVw36Qs4IWn",
    "nbgrader": {
     "cell_type": "markdown",
     "checksum": "8fd3b3998197c7097a40348500affb68",
     "grade": false,
     "grade_id": "cell-afd95f865bc7191e",
     "locked": true,
     "schema_version": 3,
     "solution": false,
     "task": false
    }
   },
   "source": [
    "---\n",
    "### 4.3 Recall (7 points)\n",
    "Implement the `recall@k` metric:"
   ]
  },
  {
   "cell_type": "code",
   "execution_count": 62,
   "metadata": {
    "ExecuteTime": {
     "end_time": "2021-02-15T19:22:03.265978Z",
     "start_time": "2021-02-15T19:22:03.261989Z"
    },
    "deletable": false,
    "id": "5MCAhvPt4IWn",
    "nbgrader": {
     "cell_type": "code",
     "checksum": "b2020e5741ae03b3fe35817ed8f4ccaa",
     "grade": false,
     "grade_id": "cell-c323fc8c3f8a7cf8",
     "locked": false,
     "schema_version": 3,
     "solution": true,
     "task": false
    }
   },
   "outputs": [],
   "source": [
    "# TODO: Implement this! (7 points)\n",
    "def recall_k(results, relevant_docs, k):\n",
    "    \"\"\"\n",
    "        Compute Recall@K\n",
    "        Input: \n",
    "            results: A sorted list of 2-tuples (document_id, score), with the most relevant document in the first position\n",
    "            relevant_docs: A set of relevant documents. \n",
    "            k: the cut-off\n",
    "        Output: Recall@K\n",
    "    \"\"\"\n",
    "    # YOUR CODE HERE\n",
    "    relevant_doc_set = set(relevant_docs)\n",
    "    results_doc_set = {k for k, v in results[:k]}\n",
    "\n",
    "    numerator = len(relevant_doc_set.intersection(results_doc_set))\n",
    "    denomerator = len(relevant_doc_set)\n",
    "    \n",
    "    recall = numerator / denomerator if denomerator > 0 else 0\n",
    "\n",
    "    return recall\n"
   ]
  },
  {
   "cell_type": "code",
   "execution_count": 63,
   "metadata": {
    "ExecuteTime": {
     "end_time": "2021-02-15T19:22:03.273957Z",
     "start_time": "2021-02-15T19:22:03.266976Z"
    },
    "deletable": false,
    "editable": false,
    "id": "oJrL_tLY4IWn",
    "nbgrader": {
     "cell_type": "code",
     "checksum": "56b6e0b8522f8b2dffbfb3206b2efa84",
     "grade": true,
     "grade_id": "cell-b25172161aef165c",
     "locked": true,
     "points": 7,
     "schema_version": 3,
     "solution": false,
     "task": false
    }
   },
   "outputs": [
    {
     "name": "stdout",
     "output_type": "stream",
     "text": [
      "query:\n",
      " SETL, Very High Level Languages\n",
      "recall@10 = 0.3157894736842105\n"
     ]
    }
   ],
   "source": [
    "#### Function check\n",
    "qid = queries[10][0]\n",
    "qtext = queries[10][1]\n",
    "print(f'query:{qtext}')\n",
    "results = bm25_search(qtext, 2)\n",
    "recall = recall_k(results, qrels[qid], 10)\n",
    "print(f'recall@10 = {recall}')\n",
    "####"
   ]
  },
  {
   "cell_type": "markdown",
   "metadata": {
    "deletable": false,
    "editable": false,
    "id": "O6zOyivS4IWn",
    "nbgrader": {
     "cell_type": "markdown",
     "checksum": "d43c63fa38f333e0b52d41639b2655f7",
     "grade": false,
     "grade_id": "cell-77fd2e7a39a74739",
     "locked": true,
     "schema_version": 3,
     "solution": false,
     "task": false
    }
   },
   "source": [
    "---\n",
    "### 4.4 Mean Average Precision (12 points)\n",
    "Implement the `map` metric:"
   ]
  },
  {
   "cell_type": "code",
   "execution_count": 64,
   "metadata": {
    "ExecuteTime": {
     "end_time": "2021-02-15T19:22:03.278943Z",
     "start_time": "2021-02-15T19:22:03.274954Z"
    },
    "deletable": false,
    "id": "NtBBAX-34IWn",
    "nbgrader": {
     "cell_type": "code",
     "checksum": "aae2c62f2ffd76f5b6c004e9519b9f14",
     "grade": false,
     "grade_id": "cell-e50925fa9093a30d",
     "locked": false,
     "schema_version": 3,
     "solution": true,
     "task": false
    }
   },
   "outputs": [],
   "source": [
    "# TODO: Implement this! (12 points)\n",
    "def average_precision(results, relevant_docs):\n",
    "    \"\"\"\n",
    "        Compute Average Precision (for a single query - the results are \n",
    "        averaged across queries to get MAP in the next few cells)\n",
    "        Hint: You can use the recall_k and precision_k functions here!\n",
    "        Input: \n",
    "            results: A sorted list of 2-tuples (document_id, score), with the most \n",
    "                    relevant document in the first position\n",
    "            relevant_docs: A set of relevant documents. \n",
    "        Output: Average Precision\n",
    "    \"\"\"\n",
    "    # YOUR CODE HERE\n",
    "    precisions = []\n",
    "    relevant_results = []\n",
    "    for i in range(len(results)):\n",
    "        cur_precision = precision_k(results, relevant_docs, i+1)\n",
    "        doc_id, _ = results[i]\n",
    "        if doc_id in relevant_docs:\n",
    "            precisions.append(cur_precision)\n",
    "\n",
    "    return sum(precisions)/len(precisions) if len(precisions) > 0 else 0\n",
    "\n",
    "    \n",
    "\n",
    "    \n",
    "        \n"
   ]
  },
  {
   "cell_type": "code",
   "execution_count": 65,
   "metadata": {
    "ExecuteTime": {
     "end_time": "2021-02-15T19:22:03.580158Z",
     "start_time": "2021-02-15T19:22:03.279940Z"
    },
    "deletable": false,
    "editable": false,
    "id": "Ij731snQ4IWn",
    "nbgrader": {
     "cell_type": "code",
     "checksum": "5db8cb2dfd3a77554f4147b409f47f38",
     "grade": true,
     "grade_id": "cell-8a1f7ec98571e58b",
     "locked": true,
     "points": 12,
     "schema_version": 3,
     "solution": false,
     "task": false
    },
    "tags": []
   },
   "outputs": [
    {
     "name": "stdout",
     "output_type": "stream",
     "text": [
      "query:\n",
      " computational complexity, intractability, class-complete reductions,\n",
      "algorithms and efficiency\n",
      "MAP = 0.13885003916324018\n"
     ]
    }
   ],
   "source": [
    "#### Function check\n",
    "qid = queries[20][0]\n",
    "qtext = queries[20][1]\n",
    "print(f'query:{qtext}')\n",
    "results = bm25_search(qtext, 2)\n",
    "mean_ap = average_precision(results, qrels[qid])\n",
    "print(f'MAP = {mean_ap}')\n",
    "####"
   ]
  },
  {
   "cell_type": "markdown",
   "metadata": {
    "deletable": false,
    "editable": false,
    "id": "Q38CrFOO4IWo",
    "nbgrader": {
     "cell_type": "markdown",
     "checksum": "cb645b79d04cc3eed33ca060a5e7bf0f",
     "grade": false,
     "grade_id": "cell-1da18f0fe6f6d7be",
     "locked": true,
     "schema_version": 3,
     "solution": false,
     "task": false
    }
   },
   "source": [
    "---\n",
    "### 4.5 Expected Reciprocal Rank (12 points)\n",
    "Implement the `err` metric:"
   ]
  },
  {
   "cell_type": "code",
   "execution_count": 66,
   "metadata": {
    "ExecuteTime": {
     "end_time": "2021-02-15T19:22:03.585125Z",
     "start_time": "2021-02-15T19:22:03.581135Z"
    },
    "deletable": false,
    "id": "Wm7tmYcH4IWo",
    "nbgrader": {
     "cell_type": "code",
     "checksum": "9ac94db728e23ea1f5dc0d509473c6fb",
     "grade": false,
     "grade_id": "cell-64262889f9b267ea",
     "locked": false,
     "schema_version": 3,
     "solution": true,
     "task": false
    }
   },
   "outputs": [],
   "source": [
    "# TODO: Implement this! (12 points)\n",
    "def err(results, relevant_docs):\n",
    "    \"\"\"\n",
    "        Compute the expected reciprocal rank.\n",
    "        Hint: https://dl.acm.org/doi/pdf/10.1145/1645953.1646033?download=true\n",
    "        Input: \n",
    "            results: A sorted list of 2-tuples (document_id, score), with the most \n",
    "                    relevant document in the first position\n",
    "            relevant_docs: A set of relevant documents. \n",
    "        Output: ERR\n",
    "        \n",
    "    \"\"\"\n",
    "    # The relevance grade is binary, so when a document is irrelevant, we get (2^0-1)/2 = 0\n",
    "    # For a relevant document, this is (2^1-1)/2 = 0.5, hence the R of 0 or 0.5.\n",
    "    p, ERR = 1, 0\n",
    "    nr_docs = len(results)\n",
    "    for r in range(nr_docs):\n",
    "        cur_doc = results[r][0]\n",
    "        if cur_doc in relevant_docs:\n",
    "            R = 0.5\n",
    "        else:\n",
    "            R = 0\n",
    "        ERR += p * R/(r + 1)\n",
    "        p *= (1-R)\n",
    "    \n",
    "    return ERR"
   ]
  },
  {
   "cell_type": "code",
   "execution_count": 67,
   "metadata": {
    "ExecuteTime": {
     "end_time": "2021-02-15T19:22:03.642017Z",
     "start_time": "2021-02-15T19:22:03.593103Z"
    },
    "deletable": false,
    "editable": false,
    "id": "xD69_bIF4IWo",
    "nbgrader": {
     "cell_type": "code",
     "checksum": "eb97e6d89a0b992b642e4e0ff36ff9f5",
     "grade": true,
     "grade_id": "cell-071e3970ff1afae4",
     "locked": true,
     "points": 12,
     "schema_version": 3,
     "solution": false,
     "task": false
    }
   },
   "outputs": [
    {
     "name": "stdout",
     "output_type": "stream",
     "text": [
      "query:\n",
      " I'd like to find articles describing the use of singular value decomposition\n",
      "in digital image processing.  Applications include finding approximations\n",
      "to the original image and restoring images that are subject to noise. An\n",
      "article on the subject is H.C. Andrews and C.L. Patterson \"Outer product\n",
      "expansions and their uses in digital image processing\", American Mathematical\n",
      "Monthly, vol. 82.\n",
      "ERR = 0.3333333333333333\n"
     ]
    }
   ],
   "source": [
    "#### Function check\n",
    "qid = queries[30][0]\n",
    "qtext = queries[30][1]\n",
    "print(f'query:{qtext}')\n",
    "results = bm25_search(qtext, 2)\n",
    "ERR = err(results, qrels[qid])\n",
    "print(f'ERR = {ERR}')\n",
    "####"
   ]
  },
  {
   "cell_type": "markdown",
   "metadata": {
    "deletable": false,
    "editable": false,
    "id": "Gh1iz9Ht4IWo",
    "nbgrader": {
     "cell_type": "markdown",
     "checksum": "5bd94caf77cfa5f34675df758d91002d",
     "grade": false,
     "grade_id": "cell-43709a765f353946",
     "locked": true,
     "schema_version": 3,
     "solution": false,
     "task": false
    }
   },
   "source": [
    "---\n",
    "### 4.6 Evaluate Search Functions\n",
    "\n",
    "Let's define some metrics@k using [partial functions](https://docs.python.org/3/library/functools.html#functools.partial)"
   ]
  },
  {
   "cell_type": "code",
   "execution_count": 68,
   "metadata": {
    "ExecuteTime": {
     "end_time": "2021-02-15T19:22:03.649952Z",
     "start_time": "2021-02-15T19:22:03.644998Z"
    },
    "deletable": false,
    "editable": false,
    "id": "Z-lVjRDV4IWo",
    "nbgrader": {
     "cell_type": "code",
     "checksum": "49ccc158e5fb7340ace55e90eeb9d62a",
     "grade": false,
     "grade_id": "cell-dab560e18e340da8",
     "locked": true,
     "schema_version": 3,
     "solution": false,
     "task": false
    }
   },
   "outputs": [],
   "source": [
    "#### metrics@k functions\n",
    "\n",
    "recall_at_1 = partial(recall_k, k=1)\n",
    "recall_at_5 = partial(recall_k, k=5)\n",
    "recall_at_10 = partial(recall_k, k=10)\n",
    "precision_at_1 = partial(precision_k, k=1)\n",
    "precision_at_5 = partial(precision_k, k=5)\n",
    "precision_at_10 = partial(precision_k, k=10)\n",
    "\n",
    "\n",
    "list_of_metrics = [\n",
    "    (\"ERR\", err),\n",
    "    (\"MAP\", average_precision),\n",
    "    (\"Recall@1\",recall_at_1),\n",
    "    (\"Recall@5\", recall_at_5),\n",
    "    (\"Recall@10\", recall_at_10),\n",
    "    (\"Precision@1\", precision_at_1),\n",
    "    (\"Precision@5\", precision_at_5),\n",
    "    (\"Precision@10\", precision_at_10)]\n",
    "####"
   ]
  },
  {
   "cell_type": "markdown",
   "metadata": {
    "deletable": false,
    "editable": false,
    "id": "tkpES_rl4IWo",
    "nbgrader": {
     "cell_type": "markdown",
     "checksum": "fb541002c03221b453b8936290020ea5",
     "grade": false,
     "grade_id": "cell-580a2bdc66d03b47",
     "locked": true,
     "schema_version": 3,
     "solution": false,
     "task": false
    }
   },
   "source": [
    "---\n",
    "\n",
    "The following function evaluates a `search_fn` using the `metric_fn`. Note that the final number is averaged over all the queries"
   ]
  },
  {
   "cell_type": "code",
   "execution_count": 69,
   "metadata": {
    "ExecuteTime": {
     "end_time": "2021-02-15T19:22:03.656976Z",
     "start_time": "2021-02-15T19:22:03.650985Z"
    },
    "id": "SGKA8Ci54IWo"
   },
   "outputs": [],
   "source": [
    "#### Evaluate a search function\n",
    "\n",
    "list_of_search_fns = [\n",
    "    (\"BOW\", bow_search),\n",
    "    (\"TF-IDF\", tfidf_search),\n",
    "    (\"NaiveQL\", naive_ql_search),\n",
    "    (\"QL\", ql_search),\n",
    "    (\"BM25\", bm25_search)\n",
    "]\n",
    "\n",
    "def evaluate_search_fn(search_fn, metric_fns, index_set=None):\n",
    "    # build a dict query_id -> query \n",
    "    queries_by_id = dict((q[0], q[1]) for q in queries)\n",
    "    metrics = {}\n",
    "    for metric, metric_fn in metric_fns:\n",
    "        metrics[metric] = np.zeros(len(qrels), dtype=np.float32)\n",
    "    \n",
    "    for i, (query_id, relevant_docs) in enumerate(qrels.items()):\n",
    "        query = queries_by_id[query_id]\n",
    "        if index_set:\n",
    "            results = search_fn(query, index_set)\n",
    "        else:\n",
    "            results = search_fn(query)\n",
    "        \n",
    "        for metric, metric_fn in metric_fns:\n",
    "            metrics[metric][i] = metric_fn(results, relevant_docs)\n",
    "\n",
    "    \n",
    "    \n",
    "    final_dict = {}\n",
    "    for metric, metric_vals in metrics.items():\n",
    "        final_dict[metric] = metric_vals.mean()\n",
    "    \n",
    "    return final_dict\n",
    "####"
   ]
  },
  {
   "cell_type": "markdown",
   "metadata": {
    "deletable": false,
    "editable": false,
    "id": "b54ANEqK4IWp",
    "nbgrader": {
     "cell_type": "markdown",
     "checksum": "6ea67534f74a8f81e1f504794f641709",
     "grade": false,
     "grade_id": "cell-b156d83a0649cbb4",
     "locked": true,
     "schema_version": 3,
     "solution": false,
     "task": false
    }
   },
   "source": [
    "## Section 5: Analysis (30 points) <a class=\"anchor\" id=\"analysis\"></a>\n",
    "\n",
    "[Back to Part 1](#part1)\n",
    "\n",
    "In the final section of Part1, we will compare the different term-based IR algorithms and different preprocessing configurations and analyze their advantages and disadvantages.\n",
    "\n",
    "### Section 5.1: Plot (20 points)\n",
    "\n",
    "First, gather the results. The results should consider the index set, the different search functions and different metrics. Plot the results in bar charts, per metric, with clear labels.\n",
    "\n",
    "**Rubric:**\n",
    "- Each Metric is plotted: 7 points\n",
    "- Each Method is plotted: 7 points\n",
    "- Clear titles, x label, y labels and legends (if applicable): 6 points"
   ]
  },
  {
   "cell_type": "code",
   "execution_count": 70,
   "metadata": {
    "ExecuteTime": {
     "end_time": "2021-02-15T19:23:23.981932Z",
     "start_time": "2021-02-15T19:22:03.657979Z"
    },
    "deletable": false,
    "id": "YcKLzbIQ4IWp",
    "nbgrader": {
     "cell_type": "code",
     "checksum": "7e2588a925d13ddf588abe8311dc9cfc",
     "grade": true,
     "grade_id": "cell-46fda42a25863a04",
     "locked": false,
     "points": 20,
     "schema_version": 3,
     "solution": true,
     "task": false
    },
    "scrolled": true
   },
   "outputs": [
    {
     "data": {
      "image/png": "[encoded data removed]",
      "text/plain": [
       "<Figure size 432x288 with 1 Axes>"
      ]
     },
     "metadata": {
      "needs_background": "light"
     },
     "output_type": "display_data"
    },
    {
     "data": {
      "image/png": "[encoded data removed]",
      "text/plain": [
       "<Figure size 432x288 with 1 Axes>"
      ]
     },
     "metadata": {
      "needs_background": "light"
     },
     "output_type": "display_data"
    },
    {
     "data": {
      "image/png": "[encoded data removed]",
      "text/plain": [
       "<Figure size 432x288 with 1 Axes>"
      ]
     },
     "metadata": {
      "needs_background": "light"
     },
     "output_type": "display_data"
    },
    {
     "data": {
      "image/png": "[encoded data removed]",
      "text/plain": [
       "<Figure size 432x288 with 1 Axes>"
      ]
     },
     "metadata": {
      "needs_background": "light"
     },
     "output_type": "display_data"
    },
    {
     "data": {
      "image/png": "[encoded data removed]",
      "text/plain": [
       "<Figure size 432x288 with 1 Axes>"
      ]
     },
     "metadata": {
      "needs_background": "light"
     },
     "output_type": "display_data"
    },
    {
     "data": {
      "image/png": "[encoded data removed]",
      "text/plain": [
       "<Figure size 432x288 with 1 Axes>"
      ]
     },
     "metadata": {
      "needs_background": "light"
     },
     "output_type": "display_data"
    },
    {
     "data": {
      "image/png": "[encoded data removed]",
      "text/plain": [
       "<Figure size 432x288 with 1 Axes>"
      ]
     },
     "metadata": {
      "needs_background": "light"
     },
     "output_type": "display_data"
    },
    {
     "data": {
      "image/png": "[encoded data removed]",
      "text/plain": [
       "<Figure size 432x288 with 1 Axes>"
      ]
     },
     "metadata": {
      "needs_background": "light"
     },
     "output_type": "display_data"
    }
   ],
   "source": [
    "# YOUR CODE HERE\n",
    "toplot = {'ERR':[[],[]],\n",
    "          'MAP':[[],[]],\n",
    "          'Recall@1':[[],[]],\n",
    "          'Recall@5':[[],[]],\n",
    "          'Recall@10':[[],[]],\n",
    "          'Precision@1':[[],[]],\n",
    "          'Precision@5':[[],[]],\n",
    "          'Precision@10':[[],[]]\n",
    "         }\n",
    "\n",
    "for search_name, search_fn in list_of_search_fns:\n",
    "    index_set_res_1 = evaluate_search_fn(search_fn,list_of_metrics,1)\n",
    "    for key,value in index_set_res_1.items():\n",
    "        toplot[key][0].append(value)\n",
    "    index_set_res_2 = evaluate_search_fn(search_fn,list_of_metrics,2)\n",
    "    for key,value in index_set_res_2.items():\n",
    "        toplot[key][1].append(value)\n",
    "\n",
    "n_groups = len(list_of_search_fns)        \n",
    "for (name,values) in toplot.items():\n",
    "        dict_keys = dict(list_of_search_fns).keys()\n",
    "        score_1 = values[0]\n",
    "        score_2 = values[1]\n",
    "        # create plot\n",
    "        fig, ax = plt.subplots()\n",
    "        index = np.arange(n_groups)\n",
    "        bar_width = 0.35\n",
    "        opacity = 0.8\n",
    "\n",
    "        rects1 = plt.bar(index, score_1, bar_width,\n",
    "        alpha=opacity,\n",
    "        color='b',\n",
    "        label='Index set = 1')\n",
    "\n",
    "        rects2 = plt.bar(index + bar_width, score_2, bar_width,\n",
    "        alpha=opacity,\n",
    "        color='g',\n",
    "        label='Index set = 2')\n",
    "\n",
    "        plt.xlabel('Search functions')\n",
    "        plt.ylabel('Results')\n",
    "        plt.title('Results using ' + name + ' metric')\n",
    "        plt.xticks(index + bar_width, dict_keys )\n",
    "        plt.legend()\n",
    "\n",
    "        plt.tight_layout()\n",
    "        plt.xticks(rotation=45)\n",
    "        plt.show()"
   ]
  },
  {
   "cell_type": "markdown",
   "metadata": {
    "deletable": false,
    "editable": false,
    "id": "lZ3SttfV4IWp",
    "nbgrader": {
     "cell_type": "markdown",
     "checksum": "e88c444a0acf4e398c65e289169b75f7",
     "grade": false,
     "grade_id": "cell-8aabe3bcf265deb0",
     "locked": true,
     "points": 10,
     "schema_version": 3,
     "solution": false,
     "task": true
    }
   },
   "source": [
    "---\n",
    "### Section 5.2: Summary (10 points)\n",
    "Write a summary of what you observe in the results.\n",
    "Your summary should compare results across the 2 indices and the methods being used. State what you expected to see in the results, followed by either supporting evidence *or* justify why the results did not support your expectations.      "
   ]
  },
  {
   "cell_type": "markdown",
   "metadata": {
    "id": "iD_gTGV84IWp"
   },
   "source": [
    "Write your answer here!"
   ]
  },
  {
   "cell_type": "markdown",
   "metadata": {
    "deletable": false,
    "editable": false,
    "id": "GB_eEIJE4IWp",
    "nbgrader": {
     "cell_type": "markdown",
     "checksum": "b3eb77be74eecca205fc7b47316d1627",
     "grade": false,
     "grade_id": "cell-bb60dd5c092d0f2e",
     "locked": true,
     "schema_version": 3,
     "solution": false,
     "task": false
    }
   },
   "source": [
    "---\n",
    "---\n",
    "# Part 2: Semantic-based Matching (85 points) <a class=\"anchor\" id=\"part2\"></a>\n",
    "\n",
    "[Back to top](#top)\n",
    "\n",
    "We will now experiment with methods that go beyond lexical methods like TF-IDF, which operate at the word level and are high dimensional and sparse, and look at methods which constructs low dimensional dense representations of queries and documents. \n",
    "\n",
    "Since these low-dimensional methods have a higher time complexity, they are typically used in conjunction with methods like BM-25. That is, instead of searching through potentially million documents to find matches using low dimensional vectors, a list of K documents are retrieved using BM25, and then **re-ranked** using the other method. This is the method that is going to be applied in the following exercises. \n",
    "\n",
    "LSI/LDA takes documents that are similar on a semantic level - for instance, if they are describing the same topic - and projects them into nearby vectors, despite having low lexical overlap.\n",
    "\n",
    "In this assignment, you will use `gensim` to create LSI/LDA models and use them in re-ranking. \n",
    "\n",
    "**Note**: The following exercises only uses `doc_repr_2` and `config_2`\n",
    "\n",
    "Table of contents:\n",
    "- [Section 6: LSI](#lsi) (15 points)\n",
    "- [Section 7: LDA](#lda) (10 points)\n",
    "- [Section 8: Word2Vec/Doc2Vec](#2vec) (20 points)\n",
    "- [Section 8: Re-ranking](#reranking) (10 points)\n",
    "- [Section 9: Re-ranking Evaluation](#reranking_eval) (30 points)"
   ]
  },
  {
   "cell_type": "markdown",
   "metadata": {
    "deletable": false,
    "editable": false,
    "id": "-hdtSyZZ4IWp",
    "nbgrader": {
     "cell_type": "markdown",
     "checksum": "f7c7b2cab82f576ed0acf836ca57171c",
     "grade": false,
     "grade_id": "cell-6b2c81e7a8abd180",
     "locked": true,
     "schema_version": 3,
     "solution": false,
     "task": false
    }
   },
   "source": [
    "---\n",
    "## Section 6: Latent Semantic Indexing (LSI) (15 points) <a class=\"anchor\" id=\"lsi\"></a>\n",
    "\n",
    "[Back to Part 2](#part2)\n",
    "\n",
    "LSI is one of the methods to embed the queries and documents into vectors. It is based on a method similar to Principal Component Analysis (PCA) for obtaining a dense concept matrix out of the sparse term-document matrix.\n",
    "\n",
    "See [wikipedia](https://en.wikipedia.org/wiki/Latent_semantic_analysis), particularly [#Mathematics_of_LSI](https://en.wikipedia.org/wiki/Latent_semantic_analysis#Mathematics_of_LSI)."
   ]
  },
  {
   "cell_type": "code",
   "execution_count": 71,
   "metadata": {
    "ExecuteTime": {
     "end_time": "2021-02-15T19:23:24.053858Z",
     "start_time": "2021-02-15T19:23:23.982930Z"
    },
    "deletable": false,
    "editable": false,
    "id": "Qlqfq_y34IWq",
    "nbgrader": {
     "cell_type": "code",
     "checksum": "c17ee75319cb517e2bf48ec3d9efc329",
     "grade": false,
     "grade_id": "cell-59913daee47f680d",
     "locked": true,
     "schema_version": 3,
     "solution": false,
     "task": false
    }
   },
   "outputs": [],
   "source": [
    "from gensim.corpora import Dictionary\n",
    "from gensim.models import LdaModel, LsiModel, Word2Vec\n",
    "from gensim.models.doc2vec import Doc2Vec, TaggedDocument\n",
    "from gensim import downloader as g_downloader\n",
    "# gensim uses logging, so set it up \n",
    "import logging\n",
    "logging.basicConfig(format='%(asctime)s : %(levelname)s : %(message)s', level=logging.INFO)"
   ]
  },
  {
   "cell_type": "markdown",
   "metadata": {
    "deletable": false,
    "editable": false,
    "id": "KqeQEm1Q4IWq",
    "nbgrader": {
     "cell_type": "markdown",
     "checksum": "5fce140c546759b54a9fc060901ae77c",
     "grade": false,
     "grade_id": "cell-3644faff4976598a",
     "locked": true,
     "schema_version": 3,
     "solution": false,
     "task": false
    }
   },
   "source": [
    "---\n",
    "### Section 6.1: Cosine Similarity (5 points)<a class=\"anchor\" id=\"cosing_sim\"></a>\n",
    "Before we begin, let us first define our method of similarity for the LSI model, the cosine similarity:\n",
    "\n",
    "$$\\text{similarity} = \\cos(\\theta) = {\\mathbf{A} \\cdot \\mathbf{B} \\over \\|\\mathbf{A}\\| \\|\\mathbf{B}\\|} = \\frac{ \\sum\\limits_{i=1}^{n}{A_i  B_i} }{ \\sqrt{\\sum\\limits_{i=1}^{n}{A_i^2}}  \\sqrt{\\sum\\limits_{i=1}^{n}{B_i^2}} }$$\n",
    "\n",
    "Since we are using gensim, the types of vectors returned by their classes are of the form defined below (they are not just simple vectors):"
   ]
  },
  {
   "cell_type": "code",
   "execution_count": 72,
   "metadata": {
    "ExecuteTime": {
     "end_time": "2021-02-15T19:23:24.059764Z",
     "start_time": "2021-02-15T19:23:24.055773Z"
    },
    "deletable": false,
    "editable": false,
    "id": "GGCJRThj4IWq",
    "nbgrader": {
     "cell_type": "code",
     "checksum": "4e340e1a1d546f430c018fd0760e707a",
     "grade": false,
     "grade_id": "cell-3995a50f951314d5",
     "locked": true,
     "schema_version": 3,
     "solution": false,
     "task": false
    }
   },
   "outputs": [],
   "source": [
    "# 1, 2, 3 are either latent dimensions (LSI), or topics (LDA)\n",
    "# The second value in each tuple is a number (LSI) or a probability (LDA)  \n",
    "example_vec_1 = [(1, 0.2), (2, 0.3), (3, 0.4)]\n",
    "example_vec_2 = [(1, 0.2), (2, 0.7), (3, 0.4)]"
   ]
  },
  {
   "cell_type": "markdown",
   "metadata": {
    "deletable": false,
    "editable": false,
    "id": "yrXWRnVx4IWq",
    "nbgrader": {
     "cell_type": "markdown",
     "checksum": "20832fd4f579f49ae204b0efee02edd1",
     "grade": false,
     "grade_id": "cell-5e54d581858dc8f7",
     "locked": true,
     "schema_version": 3,
     "solution": false,
     "task": false
    }
   },
   "source": [
    "---\n",
    "**Implementation (2+3 points):**\n",
    "Now, implement the `dot product` operation on these types of vectors and using this operator, implement the `cosine similarity` (don't forget: two functions to implement!):"
   ]
  },
  {
   "cell_type": "code",
   "execution_count": 73,
   "metadata": {
    "ExecuteTime": {
     "end_time": "2021-02-15T19:23:24.066746Z",
     "start_time": "2021-02-15T19:23:24.061758Z"
    },
    "deletable": false,
    "id": "OLHTT0Pb4IWq",
    "nbgrader": {
     "cell_type": "code",
     "checksum": "06a712ee75fc213a21c5f0067fd8fe28",
     "grade": false,
     "grade_id": "cell-0e8189f5f93de33f",
     "locked": false,
     "schema_version": 3,
     "solution": true,
     "task": false
    }
   },
   "outputs": [
    {
     "name": "stdout",
     "output_type": "stream",
     "text": [
      "0.9165587597202866\n"
     ]
    }
   ],
   "source": [
    "# TODO: Implement this! (2 points)\n",
    "def dot(vec_1,vec_2): \n",
    "    \"\"\"\n",
    "        vec_1 and vec_2 are of the form: [(int, float), (int, float), ...]\n",
    "        Return the dot product of two such vectors, computed only on the floats\n",
    "        You can assume that the lengths of the vectors are the same, and the dimensions are aligned \n",
    "            i.e you won't get: vec_1 = [(1, 0.2)] ; vec_2 = [(2, 0.3)] \n",
    "                                (dimensions are unaligned and lengths are different)\n",
    "    \"\"\"\n",
    "    # YOUR CODE HERE\n",
    "    dot_product = 0\n",
    "    for i in range(len(vec_1)):\n",
    "        dot_product +=  vec_1[i][1] * vec_2[i][1]\n",
    "    \n",
    "    return dot_product\n",
    "\n",
    "# TODO: Implement this! (3 points)\n",
    "def cosine_sim(vec_1, vec_2):\n",
    "    # YOUR CODE HERE\n",
    "    similarity = 0\n",
    "    res_a = 0\n",
    "    res_b = 0\n",
    "    for i in range(len(vec_1)):\n",
    "        res_a += vec_1[i][1] ** 2\n",
    "        res_b += vec_2[i][1] ** 2\n",
    "    numerator = dot(vec_1,vec_2)\n",
    "    \n",
    "    # When there exists a zero vector\n",
    "    # This happens when none of the tokens in the query are in the w2v model.\n",
    "    # As per instruction, we return a similarity score of 0.\n",
    "    if res_a == 0 or res_b == 0:\n",
    "        return 0\n",
    "    else:\n",
    "        denominator = math.sqrt(res_a)*math.sqrt(res_b)\n",
    "        return numerator/denominator\n",
    "    \n",
    "    \n",
    "print(cosine_sim(example_vec_1,example_vec_2))"
   ]
  },
  {
   "cell_type": "code",
   "execution_count": 74,
   "metadata": {
    "ExecuteTime": {
     "end_time": "2021-02-15T19:23:24.072728Z",
     "start_time": "2021-02-15T19:23:24.068772Z"
    },
    "deletable": false,
    "editable": false,
    "id": "opNcoM_E4IWq",
    "nbgrader": {
     "cell_type": "code",
     "checksum": "d22a4a7325ba7815a808390388f534a1",
     "grade": true,
     "grade_id": "cell-b25d04ed6b79fd35",
     "locked": true,
     "points": 2,
     "schema_version": 3,
     "solution": false,
     "task": false
    }
   },
   "outputs": [
    {
     "name": "stdout",
     "output_type": "stream",
     "text": [
      "vectors: ([(1, 0.2), (2, 0.3), (3, 0.4)], [(1, 0.2), (2, 0.7), (3, 0.4)])\n",
      "dot product = 0.41000000000000003\n",
      "cosine similarity = 0.9165587597202866\n"
     ]
    }
   ],
   "source": [
    "##### Function check\n",
    "print(f'vectors: {(example_vec_1,example_vec_2)}')\n",
    "print(f'dot product = {dot(example_vec_1,example_vec_2)}')\n",
    "print(f'cosine similarity = {cosine_sim(example_vec_1,example_vec_2)}')\n",
    "##### "
   ]
  },
  {
   "cell_type": "code",
   "execution_count": 75,
   "metadata": {
    "ExecuteTime": {
     "end_time": "2021-02-15T19:23:24.077716Z",
     "start_time": "2021-02-15T19:23:24.074723Z"
    },
    "deletable": false,
    "editable": false,
    "id": "fqGAn-Qy4IWr",
    "nbgrader": {
     "cell_type": "code",
     "checksum": "0744131724ce76b1b3f163b4bae5f700",
     "grade": true,
     "grade_id": "cell-ae3c4466866ace77",
     "locked": true,
     "points": 3,
     "schema_version": 3,
     "solution": false,
     "task": false
    }
   },
   "outputs": [],
   "source": [
    "#### Please do not change this. This cell is used for grading."
   ]
  },
  {
   "cell_type": "markdown",
   "metadata": {
    "deletable": false,
    "editable": false,
    "id": "-EkJ-o9j4IWr",
    "nbgrader": {
     "cell_type": "markdown",
     "checksum": "9b123f599f9ea372d14676e23f1c6a52",
     "grade": false,
     "grade_id": "cell-4b2534067c44fcdf",
     "locked": true,
     "schema_version": 3,
     "solution": false,
     "task": false
    }
   },
   "source": [
    "---\n",
    "### Section 6.2: LSI Retrieval (10 points)<a class=\"anchor\" id=\"lsi_retrieval\"></a>\n",
    "LSI retrieval is simply ranking the documents based on their cosine similarity to the query vector.\n",
    "First, let's write a parent class for vector-based retrieval models:"
   ]
  },
  {
   "cell_type": "code",
   "execution_count": 76,
   "metadata": {
    "ExecuteTime": {
     "end_time": "2021-02-15T19:23:24.086691Z",
     "start_time": "2021-02-15T19:23:24.078712Z"
    },
    "deletable": false,
    "editable": false,
    "id": "vui4hfKK4IWr",
    "nbgrader": {
     "cell_type": "code",
     "checksum": "ecc111d58182570e2252b8ef5d6b02af",
     "grade": false,
     "grade_id": "cell-937936cea18711ee",
     "locked": true,
     "schema_version": 3,
     "solution": false,
     "task": false
    }
   },
   "outputs": [],
   "source": [
    "class VectorSpaceRetrievalModel:\n",
    "    \"\"\"\n",
    "        Parent class for Dense Vector Retrieval models\n",
    "    \"\"\"\n",
    "    def __init__(self, doc_repr):\n",
    "        \"\"\"\n",
    "            document_collection: \n",
    "                [\n",
    "                    (doc_id_1, [token 1, token 2, ...]), \n",
    "                    (doc_id_2, [token 1, token 2, ....]) \n",
    "                    ...\n",
    "                ]\n",
    "\n",
    "        \"\"\"\n",
    "        self.doc_repr = doc_repr\n",
    "        self.documents = [_[1] for _ in self.doc_repr]\n",
    "        \n",
    "        # construct a dictionary\n",
    "        self.dictionary = Dictionary(self.documents)\n",
    "        # Filter out words that occur less than 20 documents, or more than 50% of the documents.\n",
    "        self.dictionary.filter_extremes(no_below=10)\n",
    "        self.corpus = [self.dictionary.doc2bow(doc) for doc in self.documents]\n",
    "    \n",
    "        # Make a index to word dictionary.\n",
    "        temp = self.dictionary[0]  # This is only to \"load\" the dictionary.\n",
    "        self.id2word = self.dictionary.id2token\n",
    "        \n",
    "        # this is set by the train_model function\n",
    "        self.model = None\n",
    "        \n",
    "        \n",
    "    def vectorize_documents(self):\n",
    "        \"\"\"\n",
    "            Returns a doc_id -> vector dictionary\n",
    "        \"\"\"\n",
    "        vectors = {}\n",
    "        for (doc_id, _), cc in zip(self.doc_repr, self.corpus):\n",
    "            vectors[doc_id] = self.model[cc]\n",
    "        return vectors\n",
    "\n",
    "    def vectorize_query(self, query):\n",
    "        # Note the use of config_2 here!\n",
    "        query = process_text(query, **config_2)\n",
    "        query_vector = self.dictionary.doc2bow(query)\n",
    "        return self.model[query_vector]\n",
    "    \n",
    "    def train_model(self):\n",
    "        \"\"\"\n",
    "            Trains a model and sets the 'self.model' variable. \n",
    "            Make sure to use the variables created in the __init__ method.\n",
    "            e.g the variables which may be useful: {corpus, dictionary, id2word}\n",
    "        \"\"\"\n",
    "        raise NotImplementedError()"
   ]
  },
  {
   "cell_type": "markdown",
   "metadata": {
    "deletable": false,
    "editable": false,
    "id": "7hVlHxL34IWr",
    "nbgrader": {
     "cell_type": "markdown",
     "checksum": "ff161eefd9b81b768cd6361bc1a502b0",
     "grade": false,
     "grade_id": "cell-704a18c2f80cd60c",
     "locked": true,
     "schema_version": 3,
     "solution": false,
     "task": false
    }
   },
   "source": [
    "---\n",
    "**Implementation (5 points):**\n",
    "Implement the `train_model` method in the following class (note that this is only one line of code in `gensim`!). Ensure that the parameters defined in the `__init__` method are not changed, and are *used in the `train_method` function*. Normally, the hyperaparameter space will be searched using grid search / other methods - in this assignment we have provided the hyperparameters for you.\n",
    "\n",
    "The last two lines of code train an LSI model on the list of documents which have been stemmed, lower-cased and have stopwords removed. "
   ]
  },
  {
   "cell_type": "code",
   "execution_count": 77,
   "metadata": {
    "ExecuteTime": {
     "end_time": "2021-02-15T19:23:24.091680Z",
     "start_time": "2021-02-15T19:23:24.087688Z"
    },
    "deletable": false,
    "id": "stvTMFN44IWr",
    "nbgrader": {
     "cell_type": "code",
     "checksum": "0e90eedc27c248bc1ae050518a46a46c",
     "grade": false,
     "grade_id": "cell-307682c9089f15d6",
     "locked": false,
     "schema_version": 3,
     "solution": true,
     "task": false
    }
   },
   "outputs": [],
   "source": [
    "# TODO: Implement this! (5 points)\n",
    "class LsiRetrievalModel(VectorSpaceRetrievalModel):\n",
    "    def __init__(self, doc_repr):\n",
    "        super().__init__(doc_repr)\n",
    "        \n",
    "        self.num_topics = 100\n",
    "        self.chunksize = 2000\n",
    "    \n",
    "    def train_model(self):\n",
    "        # YOUR CODE HERE\n",
    "        self.model = LsiModel(self.corpus, id2word = self.id2word, num_topics = self.num_topics, chunksize = self.chunksize)"
   ]
  },
  {
   "cell_type": "code",
   "execution_count": 78,
   "metadata": {
    "ExecuteTime": {
     "end_time": "2021-02-15T19:23:24.706733Z",
     "start_time": "2021-02-15T19:23:24.092675Z"
    },
    "deletable": false,
    "editable": false,
    "id": "_khGWJSi4IWr",
    "nbgrader": {
     "cell_type": "code",
     "checksum": "00399cfe13d60cb4beed1271e36004b0",
     "grade": true,
     "grade_id": "cell-5ce512650c1b2dfb",
     "locked": true,
     "points": 0,
     "schema_version": 3,
     "solution": false,
     "task": false
    }
   },
   "outputs": [
    {
     "name": "stderr",
     "output_type": "stream",
     "text": [
      "2021-02-15 20:23:24,094 : INFO : adding document #0 to Dictionary(0 unique tokens: [])\n",
      "2021-02-15 20:23:24,235 : INFO : built Dictionary(6204 unique tokens: ['-', 'algebra', 'intern', 'languag', 'preliminari']...) from 3204 documents (total 196845 corpus positions)\n",
      "2021-02-15 20:23:24,241 : INFO : discarding 4795 tokens: [('of', 2061), ('repeat', 8), ('glossari', 7), ('inspect', 8), ('the', 1794), ('uncol', 2), ('a', 1807), ('rung', 9), ('secant', 2), ('.', 1603)]...\n",
      "2021-02-15 20:23:24,242 : INFO : keeping 1409 tokens which were in no less than 10 and no more than 1602 (=50.0%) documents\n",
      "2021-02-15 20:23:24,244 : INFO : resulting dictionary: Dictionary(1409 unique tokens: ['-', 'algebra', 'intern', 'languag', 'preliminari']...)\n",
      "2021-02-15 20:23:24,389 : INFO : using serial LSI version on this node\n",
      "2021-02-15 20:23:24,389 : INFO : updating model with new documents\n",
      "2021-02-15 20:23:24,390 : INFO : preparing a new chunk of documents\n",
      "2021-02-15 20:23:24,404 : INFO : using 100 extra samples and 2 power iterations\n",
      "2021-02-15 20:23:24,405 : INFO : 1st phase: constructing (1409, 200) action matrix\n",
      "2021-02-15 20:23:24,423 : INFO : orthonormalizing (1409, 200) action matrix\n",
      "2021-02-15 20:23:24,492 : INFO : 2nd phase: running dense svd on (200, 2000) matrix\n",
      "2021-02-15 20:23:24,521 : INFO : computing the final decomposition\n",
      "2021-02-15 20:23:24,522 : INFO : keeping 100 factors (discarding 11.399% of energy spectrum)\n",
      "2021-02-15 20:23:24,531 : INFO : processed documents up to #2000\n",
      "2021-02-15 20:23:24,534 : INFO : topic #0(226.245): -0.469*\",\" + -0.358*\"and\" + -0.302*\"to\" + -0.287*\"is\" + -0.272*\"in\" + -0.231*\"for\" + -0.218*\"-\" + -0.158*\"are\" + -0.139*\"system\" + -0.137*\"program\"\n",
      "2021-02-15 20:23:24,536 : INFO : topic #1(63.170): 0.439*\"(\" + -0.341*\",\" + 0.309*\")\" + -0.307*\"and\" + 0.300*\"algorithm\" + 0.284*\"is\" + -0.269*\"system\" + 0.163*\"to\" + 0.141*\"method\" + 0.091*\"it\"\n",
      "2021-02-15 20:23:24,538 : INFO : topic #2(62.650): -0.560*\",\" + -0.387*\"(\" + 0.314*\"to\" + -0.278*\")\" + 0.252*\"is\" + -0.229*\"-\" + 0.217*\"in\" + -0.156*\"algorithm\" + 0.137*\"comput\" + 0.114*\"be\"\n",
      "2021-02-15 20:23:24,541 : INFO : topic #3(58.616): -0.758*\"-\" + 0.441*\",\" + -0.226*\"system\" + 0.217*\"is\" + -0.156*\"and\" + -0.097*\"for\" + 0.075*\"it\" + -0.075*\"time\" + -0.065*\"program\" + 0.062*\"that\"\n",
      "2021-02-15 20:23:24,543 : INFO : topic #4(52.367): 0.492*\"and\" + -0.409*\"-\" + 0.281*\"(\" + -0.260*\",\" + -0.253*\"to\" + 0.239*\"are\" + 0.217*\")\" + 0.213*\"algorithm\" + -0.183*\"is\" + 0.170*\"for\"\n",
      "2021-02-15 20:23:24,545 : INFO : preparing a new chunk of documents\n",
      "2021-02-15 20:23:24,571 : INFO : using 100 extra samples and 2 power iterations\n",
      "2021-02-15 20:23:24,573 : INFO : 1st phase: constructing (1409, 200) action matrix\n",
      "2021-02-15 20:23:24,591 : INFO : orthonormalizing (1409, 200) action matrix\n",
      "2021-02-15 20:23:24,648 : INFO : 2nd phase: running dense svd on (200, 1204) matrix\n",
      "2021-02-15 20:23:24,669 : INFO : computing the final decomposition\n",
      "2021-02-15 20:23:24,669 : INFO : keeping 100 factors (discarding 11.435% of energy spectrum)\n",
      "2021-02-15 20:23:24,673 : INFO : merging projections: (1409, 100) + (1409, 100)\n",
      "2021-02-15 20:23:24,686 : INFO : keeping 100 factors (discarding 6.297% of energy spectrum)\n",
      "2021-02-15 20:23:24,691 : INFO : processed documents up to #3204\n",
      "2021-02-15 20:23:24,692 : INFO : topic #0(340.063): 0.471*\",\" + 0.367*\"and\" + 0.309*\"to\" + 0.296*\"is\" + 0.270*\"in\" + 0.224*\"for\" + 0.212*\"-\" + 0.156*\"are\" + 0.129*\"system\" + 0.126*\"program\"\n",
      "2021-02-15 20:23:24,693 : INFO : topic #1(94.998): -0.646*\",\" + 0.354*\"is\" + -0.248*\"and\" + 0.244*\"to\" + 0.233*\"algorithm\" + 0.163*\"(\" + -0.154*\"system\" + 0.142*\"-\" + 0.142*\"method\" + 0.136*\"in\"\n",
      "2021-02-15 20:23:24,694 : INFO : topic #2(89.651): 0.436*\"(\" + 0.367*\",\" + 0.363*\"-\" + 0.315*\")\" + 0.264*\"algorithm\" + -0.229*\"to\" + -0.223*\"program\" + -0.207*\"system\" + -0.197*\"and\" + -0.160*\"in\"\n",
      "2021-02-15 20:23:24,694 : INFO : topic #3(83.160): 0.790*\"-\" + -0.297*\",\" + 0.257*\"system\" + -0.249*\"is\" + 0.182*\"and\" + -0.109*\"(\" + -0.088*\"to\" + -0.086*\"algorithm\" + -0.077*\")\" + 0.070*\"time\"\n",
      "2021-02-15 20:23:24,695 : INFO : topic #4(77.282): -0.420*\"and\" + -0.386*\"(\" + 0.312*\"is\" + -0.294*\")\" + 0.291*\",\" + 0.289*\"-\" + -0.256*\"for\" + -0.212*\"program\" + 0.202*\"to\" + -0.183*\"algorithm\"\n"
     ]
    },
    {
     "data": {
      "text/plain": [
       "[(0, 0.009993403888033691),\n",
       " (1, -0.017300643584104693),\n",
       " (2, -0.007049283578520631),\n",
       " (3, -0.001888841983888497),\n",
       " (4, -0.006781052540247688),\n",
       " (5, 0.0014419288287035054),\n",
       " (6, 0.005245904095487602),\n",
       " (7, -0.027806033201135533),\n",
       " (8, -0.007058626056448119),\n",
       " (9, -0.011921461553635385),\n",
       " (10, 0.018550688134020395),\n",
       " (11, 0.014381793136217746),\n",
       " (12, 0.04160010347878751),\n",
       " (13, -0.005734862640518618),\n",
       " (14, -0.00035357510353093737),\n",
       " (15, 0.0014218377703690312),\n",
       " (16, 0.014663742700973878),\n",
       " (17, -0.0008197879971339524),\n",
       " (18, 0.016081847893402366),\n",
       " (19, -0.016841210506413056),\n",
       " (20, 0.021227762266467182),\n",
       " (21, -0.008005744718894566),\n",
       " (22, 0.00781823433000701),\n",
       " (23, 0.01784384900733557),\n",
       " (24, -0.040008238372601944),\n",
       " (25, -0.03768375574810871),\n",
       " (26, -0.005703256781369563),\n",
       " (27, 0.015401431885770447),\n",
       " (28, 0.009592709650481894),\n",
       " (29, -0.016248038745273776),\n",
       " (30, -0.0009680051879805783),\n",
       " (31, -0.0006949394281032598),\n",
       " (32, -0.01112285704576922),\n",
       " (33, -0.01276205592535723),\n",
       " (34, 0.006308110210935064),\n",
       " (35, -0.010774363706270374),\n",
       " (36, -0.01106682494690654),\n",
       " (37, 0.02451706460323809),\n",
       " (38, 0.009941665847975652),\n",
       " (39, 0.017146487398334884),\n",
       " (40, 0.021689988165305606),\n",
       " (41, -0.03336133888154059),\n",
       " (42, 0.002025338773991912),\n",
       " (43, -0.024111704464168795),\n",
       " (44, 0.04728228694087984),\n",
       " (45, 0.01712146139715867),\n",
       " (46, -0.03436597197388501),\n",
       " (47, -0.031073855426231374),\n",
       " (48, 0.011830633328585638),\n",
       " (49, -0.01922406726354997),\n",
       " (50, 0.08649630818559445),\n",
       " (51, -0.011879298831228659),\n",
       " (52, 0.026689792710630263),\n",
       " (53, -0.05611506240849342),\n",
       " (54, -0.011601001918694467),\n",
       " (55, 0.011932506728725993),\n",
       " (56, 0.03987388441836093),\n",
       " (57, 0.017753507745422496),\n",
       " (58, 0.02703735419345632),\n",
       " (59, -0.07132017093879264),\n",
       " (60, -0.0012566858114562535),\n",
       " (61, 0.003397951251526695),\n",
       " (62, -0.03238918546269134),\n",
       " (63, 0.033997878192041475),\n",
       " (64, 0.04531205323011226),\n",
       " (65, 0.03040710142912002),\n",
       " (66, -0.014182205805693505),\n",
       " (67, -0.006587979685786354),\n",
       " (68, -0.025970166129419832),\n",
       " (69, 0.02808621725891383),\n",
       " (70, 0.0013774702633619833),\n",
       " (71, 0.010300030697454797),\n",
       " (72, 0.024010220880437902),\n",
       " (73, 0.05716146229446131),\n",
       " (74, -0.008853969042410155),\n",
       " (75, 0.007199456170137685),\n",
       " (76, -0.008009908202127396),\n",
       " (77, -0.02374923906228163),\n",
       " (78, -0.03008340392873375),\n",
       " (79, 0.019442253813154856),\n",
       " (80, -0.041199087301438946),\n",
       " (81, -0.02981080687216224),\n",
       " (82, -0.011816918693412858),\n",
       " (83, 0.02747255193694878),\n",
       " (84, -0.028242853772611178),\n",
       " (85, -0.02140961579764915),\n",
       " (86, -0.03860076200442648),\n",
       " (87, 0.052461070730201204),\n",
       " (88, 0.004680673234589164),\n",
       " (89, 0.021749059284169404),\n",
       " (90, 0.08237032899818064),\n",
       " (91, 0.029247686635317977),\n",
       " (92, -0.01852425660353699),\n",
       " (93, 0.015014895406626455),\n",
       " (94, -0.0298634070002012),\n",
       " (95, 0.006207979597509126),\n",
       " (96, -0.046223918899376784),\n",
       " (97, 0.0074883332118559146),\n",
       " (98, -0.01859628203905705),\n",
       " (99, 0.019122331713385576)]"
      ]
     },
     "execution_count": 78,
     "metadata": {},
     "output_type": "execute_result"
    }
   ],
   "source": [
    "##### Function check\n",
    "lsi = LsiRetrievalModel(doc_repr_2)\n",
    "lsi.train_model()\n",
    "\n",
    "# you can now get an LSI vector for a given query in the following way:\n",
    "lsi.vectorize_query(\"report\")\n",
    "##### "
   ]
  },
  {
   "cell_type": "markdown",
   "metadata": {
    "deletable": false,
    "editable": false,
    "id": "NGA8x3e54IWs",
    "nbgrader": {
     "cell_type": "markdown",
     "checksum": "7116bb9f576c5bb04934e1d59c51d729",
     "grade": false,
     "grade_id": "cell-4c5eeb557b4fca2f",
     "locked": true,
     "points": 5,
     "schema_version": 3,
     "solution": false,
     "task": true
    }
   },
   "source": [
    "\\#### Please do not change this. This cell is used for grading."
   ]
  },
  {
   "cell_type": "markdown",
   "metadata": {
    "deletable": false,
    "editable": false,
    "id": "XC11dqNi4IWs",
    "nbgrader": {
     "cell_type": "markdown",
     "checksum": "1068a108600b8c1539117d543e720354",
     "grade": false,
     "grade_id": "cell-c4e50296cd17a555",
     "locked": true,
     "schema_version": 3,
     "solution": false,
     "task": false
    }
   },
   "source": [
    "---\n",
    "Next, implement a basic ranking class for vector space retrieval (used for all semantic methods): "
   ]
  },
  {
   "cell_type": "code",
   "execution_count": 79,
   "metadata": {
    "ExecuteTime": {
     "end_time": "2021-02-15T19:23:24.715708Z",
     "start_time": "2021-02-15T19:23:24.707729Z"
    },
    "deletable": false,
    "id": "7-cQ_F004IWs",
    "nbgrader": {
     "cell_type": "code",
     "checksum": "1a8389d2f0635c3405e2b0b27ed9f327",
     "grade": false,
     "grade_id": "cell-250515d288e80cdc",
     "locked": false,
     "schema_version": 3,
     "solution": true,
     "task": false
    }
   },
   "outputs": [],
   "source": [
    "# TODO: Implement this! (5 points)\n",
    "class DenseRetrievalRanker:\n",
    "    def __init__(self, vsrm, similarity_fn):\n",
    "        \"\"\"\n",
    "            vsrm: instance of `VectorSpaceRetrievalModel`\n",
    "            similarity_fn: function instance that takes in two vectors \n",
    "                            and returns a similarity score e.g cosine_sim defined earlier\n",
    "        \"\"\"\n",
    "        self.vsrm = vsrm \n",
    "        self.vectorized_documents = self.vsrm.vectorize_documents()\n",
    "        self.similarity_fn = similarity_fn\n",
    "    \n",
    "    def _compute_sim(self, query_vector):\n",
    "        \"\"\"\n",
    "            Compute the similarity of `query_vector` to documents in \n",
    "            `self.vectorized_documents` using `self.similarity_fn`\n",
    "            Returns a list of (doc_id, score) tuples\n",
    "        \"\"\"\n",
    "        # YOUR CODE HERE\n",
    "        result_list = []\n",
    "        self.query_vector = query_vector\n",
    "        for key, doc in self.vectorized_documents.items():\n",
    "            if len(doc) != 0:\n",
    "                score = self.similarity_fn(doc,self.query_vector)\n",
    "                result_list.append((key,score))               \n",
    "        return result_list\n",
    "    \n",
    "    def search(self, query):\n",
    "        scores = self._compute_sim(self.vsrm.vectorize_query(query))\n",
    "        scores.sort(key=lambda _:-_[1])\n",
    "        return scores "
   ]
  },
  {
   "cell_type": "code",
   "execution_count": 80,
   "metadata": {
    "ExecuteTime": {
     "end_time": "2021-02-15T19:23:25.518491Z",
     "start_time": "2021-02-15T19:23:24.717703Z"
    },
    "deletable": false,
    "editable": false,
    "id": "84ShnBqC4IWs",
    "nbgrader": {
     "cell_type": "code",
     "checksum": "f237dd1ef6c1783c06797f4b514421f5",
     "grade": true,
     "grade_id": "cell-b73068b3e77a8e31",
     "locked": true,
     "points": 0,
     "schema_version": 3,
     "solution": false,
     "task": false
    }
   },
   "outputs": [
    {
     "data": {
      "text/plain": [
       "[('2531', 0.4867071062773301),\n",
       " ('53', 0.45281219071418494),\n",
       " ('947', 0.45145216962235196),\n",
       " ('3160', 0.43163093495889576),\n",
       " ('722', 0.4133383775485038)]"
      ]
     },
     "execution_count": 80,
     "metadata": {},
     "output_type": "execute_result"
    }
   ],
   "source": [
    "##### Function check\n",
    "drm_lsi = DenseRetrievalRanker(lsi, cosine_sim)\n",
    "drm_lsi.search(\"report\")[:5]\n",
    "##### "
   ]
  },
  {
   "cell_type": "markdown",
   "metadata": {
    "deletable": false,
    "editable": false,
    "id": "J7KStoCJ4IWs",
    "nbgrader": {
     "cell_type": "markdown",
     "checksum": "5b3f19fdcaa585d263706d5a26038799",
     "grade": false,
     "grade_id": "cell-034c755a6502b868",
     "locked": true,
     "points": 5,
     "schema_version": 3,
     "solution": false,
     "task": true
    }
   },
   "source": [
    "\\#### Please do not change this. This cell is used for grading."
   ]
  },
  {
   "cell_type": "markdown",
   "metadata": {
    "deletable": false,
    "editable": false,
    "id": "151cPjf34IWs",
    "nbgrader": {
     "cell_type": "markdown",
     "checksum": "dcafef6e037033c46304b914f7c78bdf",
     "grade": false,
     "grade_id": "cell-d1df23f497d5ed6b",
     "locked": true,
     "schema_version": 3,
     "solution": false,
     "task": false
    }
   },
   "source": [
    "---\n",
    "Now, you can test your LSI model in the following cell: try finding queries which are lexically different to documents, but semantically similar - does LSI work well for these queries?!"
   ]
  },
  {
   "cell_type": "code",
   "execution_count": 81,
   "metadata": {
    "ExecuteTime": {
     "end_time": "2021-02-15T19:23:25.533011Z",
     "start_time": "2021-02-15T19:23:25.519048Z"
    },
    "deletable": false,
    "editable": false,
    "id": "_YwVurAt4IWs",
    "nbgrader": {
     "cell_type": "code",
     "checksum": "11734bc7674377b340ad51297a8e8bb5",
     "grade": false,
     "grade_id": "cell-efd1d08dfc04ec3e",
     "locked": true,
     "schema_version": 3,
     "solution": false,
     "task": false
    }
   },
   "outputs": [
    {
     "data": {
      "application/vnd.jupyter.widget-view+json": {
       "model_id": "6973ed04d06949d6b5c50b7ae0064c23",
       "version_major": 2,
       "version_minor": 0
      },
      "text/plain": [
       "Text(value='', description='Search Bar')"
      ]
     },
     "metadata": {},
     "output_type": "display_data"
    }
   ],
   "source": [
    "# test your LSI model\n",
    "search_fn = drm_lsi.search\n",
    "\n",
    "text = widgets.Text(description=\"Search Bar\", width=200)\n",
    "display(text)\n",
    "\n",
    "def make_results_2(query, search_fn):\n",
    "    results = []\n",
    "    for doc_id, score in search_fn(query):\n",
    "        highlight = highlight_text(docs_by_id[doc_id], query)\n",
    "        if len(highlight.strip()) == 0:\n",
    "            highlight = docs_by_id[doc_id]\n",
    "        results.append(ResultRow(doc_id, highlight, score))\n",
    "    return results\n",
    "\n",
    "def handle_submit_2(sender):\n",
    "    print(f\"Searching for: '{sender.value}' (SEARCH FN: {search_fn})\")\n",
    "    \n",
    "    results = make_results_2(sender.value, search_fn)\n",
    "    \n",
    "    # display only the top 5\n",
    "    results = results[:5]\n",
    "    \n",
    "    body = \"\"\n",
    "    for idx, r in enumerate(results):\n",
    "        body += f\"<li>Document #{r.doc_id}({r.score}): {r.snippet}</li>\"\n",
    "    display(HTML(f\"<ul>{body}</ul>\"))\n",
    "    \n",
    "\n",
    "text.on_submit(handle_submit_2)"
   ]
  },
  {
   "cell_type": "markdown",
   "metadata": {
    "deletable": false,
    "editable": false,
    "id": "0PGe6mPD4IWt",
    "nbgrader": {
     "cell_type": "markdown",
     "checksum": "d074ce1ca48384cdda78742741c938be",
     "grade": false,
     "grade_id": "cell-3a86cef264d8f6cf",
     "locked": true,
     "schema_version": 3,
     "solution": false,
     "task": false
    }
   },
   "source": [
    "---\n",
    "## Section 7: Latent Dirichlet Allocation (LDA) (10 points) <a class=\"anchor\" id=\"lda\"></a>\n",
    "\n",
    "[Back to Part 2](#part2)\n",
    "\n",
    "The specifics of LDA is out of the scope of this assignment, but we will use the `gensim` implementation to perform search using LDA over our small document collection. The key thing to remember is that LDA, unlike LSI, outputs a topic **distribution**, not a vector. With that in mind, let's first define a similarity measure.\n"
   ]
  },
  {
   "cell_type": "markdown",
   "metadata": {
    "deletable": false,
    "editable": false,
    "id": "xMbAwqEW4IWt",
    "nbgrader": {
     "cell_type": "markdown",
     "checksum": "db01092373b18f0c9dfed1bb17db4ad9",
     "grade": false,
     "grade_id": "cell-6b78ad22c2d60ba7",
     "locked": true,
     "schema_version": 3,
     "solution": false,
     "task": false
    }
   },
   "source": [
    "---\n",
    "### Section 7.1: Jenson-Shannon divergence (5 points) <a class=\"anchor\" id=\"js_sim\"></a>\n",
    "\n",
    "The Jenson-Shannon divergence is a symmetric and finite measure on two probability distributions (unlike the KL, which is neither). For identical distributions, the JSD is equal to 0, and since our code uses 0 as irrelevant and higher scores as relevant, we use `(1 - JSD)` as the score or 'similarity' in our setup\n",
    "\n",
    "**Note**: the JSD is bounded to \\[0,1\\] only if we use log base 2. So please ensure that you're using `np.log2` instead of `np.log`"
   ]
  },
  {
   "cell_type": "code",
   "execution_count": 82,
   "metadata": {
    "ExecuteTime": {
     "end_time": "2021-02-15T19:23:25.539998Z",
     "start_time": "2021-02-15T19:23:25.534008Z"
    },
    "deletable": false,
    "id": "OP-T-8i-4IWt",
    "nbgrader": {
     "cell_type": "code",
     "checksum": "a579e6cd7a24a3516bc9a84528b392d3",
     "grade": false,
     "grade_id": "cell-d2376a85a4841e98",
     "locked": false,
     "schema_version": 3,
     "solution": true,
     "task": false
    }
   },
   "outputs": [],
   "source": [
    "## TODO: Implement this! (5 points)\n",
    "def jenson_shannon_divergence(vec_1, vec_2, assert_prob=False):\n",
    "    \"\"\"\n",
    "        Computes the Jensen-Shannon divergence between two probability distributions. \n",
    "        NOTE: DO NOT RETURN 1 - JSD here, that is handled by the next function which is already implemented! \n",
    "        The inputs are *gensim* vectors - same as the vectors for the cosine_sim function\n",
    "        assert_prob is a flag that checks if the inputs are proper probability distributions \n",
    "            i.e they sum to 1 and are positive - use this to check your inputs if needed. \n",
    "                (This is optional to implement, but recommended - \n",
    "                you can the default to False to save a few ms off the runtime)\n",
    "    \"\"\"\n",
    "    # YOUR CODE HERE\n",
    "    if assert_prob:\n",
    "        sum_vec_1 = sum(value[1] for value in vec_1)\n",
    "        sum_vec_2 = sum(value[1] for value in vec_2)\n",
    "        if sum_vec_1 != 1:\n",
    "            print('Input vec_1 is not in the correct format!')\n",
    "            return\n",
    "        if sum_vec_2 != 1:\n",
    "            print('Input vec_2 is not in the correct format!')\n",
    "            return\n",
    "            \n",
    "    vec_1 = np.array([value for id,value in vec_1])\n",
    "    vec_2 = np.array([value for id,value in vec_2])\n",
    "    \n",
    "    d1 = vec_1*np.log2(vec_1/((vec_1+vec_2)/2))\n",
    "    d2 = vec_2*np.log2(vec_2/((vec_1+vec_2)/2))\n",
    "    d1[np.isnan(d1)] = 0\n",
    "    d2[np.isnan(d2)] = 0\n",
    "    d = 0.5*np.sum(d1+d2)\n",
    "    \n",
    "    return d\n",
    "    \n",
    "def jenson_shannon_sim(vec_1, vec_2, assert_prob=False):\n",
    "    return 1 - jenson_shannon_divergence(vec_1, vec_2, assert_prob)\n"
   ]
  },
  {
   "cell_type": "code",
   "execution_count": 83,
   "metadata": {
    "ExecuteTime": {
     "end_time": "2021-02-15T19:23:25.547974Z",
     "start_time": "2021-02-15T19:23:25.541988Z"
    },
    "deletable": false,
    "editable": false,
    "id": "0Jx8X0vU4IWt",
    "nbgrader": {
     "cell_type": "code",
     "checksum": "ab340aa941c9fb5c89b3fd0a9139e246",
     "grade": true,
     "grade_id": "cell-487c6d2933f38053",
     "locked": true,
     "points": 5,
     "schema_version": 3,
     "solution": false,
     "task": false
    }
   },
   "outputs": [
    {
     "data": {
      "text/plain": [
       "0.9251064410358459"
      ]
     },
     "execution_count": 83,
     "metadata": {},
     "output_type": "execute_result"
    }
   ],
   "source": [
    "##### Function check\n",
    "vec_1 = [(1, 0.3), (2, 0.4), (3, 0.3)]\n",
    "vec_2 = [(1, 0.1), (2, 0.7), (3, 0.2)]\n",
    "jenson_shannon_sim(vec_1, vec_2, assert_prob=True)\n",
    "##### "
   ]
  },
  {
   "cell_type": "markdown",
   "metadata": {
    "deletable": false,
    "editable": false,
    "id": "1qyB_mcw4IWt",
    "nbgrader": {
     "cell_type": "markdown",
     "checksum": "0a1583a5f23e3390038331cce67f5d8e",
     "grade": false,
     "grade_id": "cell-4535cc67a50b80fa",
     "locked": true,
     "schema_version": 3,
     "solution": false,
     "task": false
    }
   },
   "source": [
    "---\n",
    "### Section 7.2: LDA retrieval (5 points) <a class=\"anchor\" id=\"lda_ret\"></a>\n",
    "\n",
    "Implement the `train_model` method in the following class (note that this is only one line of code in `gensim`!). Ensure that the parameters defined in the `__init__` method are not changed, and are *used in the `train_method` function*. You do not need to set this. Normally, the hyperaparameter space will be searched using grid search / other methods. Note that training the LDA model might take some time\n",
    "\n",
    "The last two lines of code train an LDA model on the list of documents which have been stemmed, lower-cased and have stopwords removed. "
   ]
  },
  {
   "cell_type": "code",
   "execution_count": 84,
   "metadata": {
    "ExecuteTime": {
     "end_time": "2021-02-15T19:23:25.554955Z",
     "start_time": "2021-02-15T19:23:25.549965Z"
    },
    "deletable": false,
    "id": "Z9-cv36K4IWt",
    "nbgrader": {
     "cell_type": "code",
     "checksum": "27de8e4fa85536bb396b73bfc51b3f50",
     "grade": false,
     "grade_id": "cell-021a48dff4a8bb91",
     "locked": false,
     "schema_version": 3,
     "solution": true,
     "task": false
    }
   },
   "outputs": [],
   "source": [
    "# TODO: Implement this! (5 points)\n",
    "class LdaRetrievalModel(VectorSpaceRetrievalModel):\n",
    "    def __init__(self, doc_repr):\n",
    "        super().__init__(doc_repr)\n",
    "        \n",
    "        # use these parameters in the train_model method\n",
    "        self.num_topics = 100\n",
    "        self.chunksize = 2000\n",
    "        self.passes = 20\n",
    "        self.iterations = 400\n",
    "        self.eval_every = 10\n",
    "        # this is need to get full vectors\n",
    "        self.minimum_probability=0.0\n",
    "        self.alpha='auto'\n",
    "        self.eta='auto'\n",
    "    \n",
    "    \n",
    "    def train_model(self):\n",
    "        # YOUR CODE HERE\n",
    "        self.model = LdaModel(self.corpus, num_topics = self.num_topics, chunksize = self.chunksize, id2word = self.id2word,\n",
    "                              passes = self.passes, iterations = self.iterations, eval_every = self.eval_every, \n",
    "                              minimum_probability = self.minimum_probability, alpha = self.alpha, eta = self.eta)"
   ]
  },
  {
   "cell_type": "code",
   "execution_count": 85,
   "metadata": {
    "ExecuteTime": {
     "end_time": "2021-02-15T19:24:28.125327Z",
     "start_time": "2021-02-15T19:23:25.556947Z"
    },
    "deletable": false,
    "editable": false,
    "id": "Fb0jrpWb4IWu",
    "nbgrader": {
     "cell_type": "code",
     "checksum": "be70fcb8098d0b6ce64cd2a10e6a05b7",
     "grade": true,
     "grade_id": "cell-86750b715f0345fd",
     "locked": true,
     "points": 0,
     "schema_version": 3,
     "solution": false,
     "task": false
    },
    "tags": []
   },
   "outputs": [
    {
     "name": "stderr",
     "output_type": "stream",
     "text": [
      "2021-02-15 20:23:25,557 : INFO : adding document #0 to Dictionary(0 unique tokens: [])\n",
      "2021-02-15 20:23:25,703 : INFO : built Dictionary(6204 unique tokens: ['-', 'algebra', 'intern', 'languag', 'preliminari']...) from 3204 documents (total 196845 corpus positions)\n",
      "2021-02-15 20:23:25,709 : INFO : discarding 4795 tokens: [('of', 2061), ('repeat', 8), ('glossari', 7), ('inspect', 8), ('the', 1794), ('uncol', 2), ('a', 1807), ('rung', 9), ('secant', 2), ('.', 1603)]...\n",
      "2021-02-15 20:23:25,709 : INFO : keeping 1409 tokens which were in no less than 10 and no more than 1602 (=50.0%) documents\n",
      "2021-02-15 20:23:25,714 : INFO : resulting dictionary: Dictionary(1409 unique tokens: ['-', 'algebra', 'intern', 'languag', 'preliminari']...)\n",
      "2021-02-15 20:23:25,798 : INFO : using autotuned alpha, starting with [0.01, 0.01, 0.01, 0.01, 0.01, 0.01, 0.01, 0.01, 0.01, 0.01, 0.01, 0.01, 0.01, 0.01, 0.01, 0.01, 0.01, 0.01, 0.01, 0.01, 0.01, 0.01, 0.01, 0.01, 0.01, 0.01, 0.01, 0.01, 0.01, 0.01, 0.01, 0.01, 0.01, 0.01, 0.01, 0.01, 0.01, 0.01, 0.01, 0.01, 0.01, 0.01, 0.01, 0.01, 0.01, 0.01, 0.01, 0.01, 0.01, 0.01, 0.01, 0.01, 0.01, 0.01, 0.01, 0.01, 0.01, 0.01, 0.01, 0.01, 0.01, 0.01, 0.01, 0.01, 0.01, 0.01, 0.01, 0.01, 0.01, 0.01, 0.01, 0.01, 0.01, 0.01, 0.01, 0.01, 0.01, 0.01, 0.01, 0.01, 0.01, 0.01, 0.01, 0.01, 0.01, 0.01, 0.01, 0.01, 0.01, 0.01, 0.01, 0.01, 0.01, 0.01, 0.01, 0.01, 0.01, 0.01, 0.01, 0.01]\n",
      "2021-02-15 20:23:25,799 : INFO : using serial LDA version on this node\n",
      "2021-02-15 20:23:25,812 : INFO : running online (multi-pass) LDA training, 100 topics, 20 passes over the supplied corpus of 3204 documents, updating model once every 2000 documents, evaluating perplexity every 3204 documents, iterating 400x with a convergence threshold of 0.001000\n",
      "2021-02-15 20:23:25,813 : INFO : PROGRESS: pass 0, at document #2000/3204\n",
      "2021-02-15 20:23:28,498 : INFO : optimized alpha [0.0098193055, 0.009792781, 0.009772233, 0.0097772535, 0.009803699, 0.009756772, 0.009746574, 0.009766926, 0.009767446, 0.009819186, 0.010079631, 0.009741312, 0.009829932, 0.009788417, 0.009813409, 0.009797941, 0.009756851, 0.009825009, 0.009741457, 0.00979334, 0.009777169, 0.0098505225, 0.009792621, 0.009761812, 0.009782828, 0.009777122, 0.009803437, 0.009843789, 0.009803919, 0.009741354, 0.009845327, 0.009741295, 0.009855921, 0.00975677, 0.009782515, 0.009777307, 0.009750659, 0.009782984, 0.009814136, 0.009787869, 0.009772867, 0.009829823, 0.00974659, 0.009987682, 0.009772455, 0.009736089, 0.009802997, 0.009921518, 0.009902385, 0.009839796, 0.009860722, 0.009772292, 0.009819835, 0.009903094, 0.009730967, 0.0098406505, 0.009746508, 0.00979805, 0.009866545, 0.009751642, 0.009741358, 0.009741329, 0.009849588, 0.009787334, 0.009861515, 0.009819848, 0.009772094, 0.009792959, 0.009793514, 0.009746654, 0.009751797, 0.009881319, 0.010070718, 0.009809251, 0.009756801, 0.009772282, 0.009812509, 0.009756774, 0.009788287, 0.0097620245, 0.009757132, 0.009746446, 0.009808816, 0.009816079, 0.00983525, 0.009876052, 0.009741475, 0.009866553, 0.009829579, 0.009777646, 0.009803686, 0.009741321, 0.009834671, 0.009828915, 0.009798279, 0.009824674, 0.009772098, 0.00983501, 0.009840632, 0.009725817]\n",
      "2021-02-15 20:23:28,508 : INFO : merging changes from 2000 documents into a model of 3204 documents\n",
      "2021-02-15 20:23:28,529 : INFO : topic #60 (0.010): 0.069*\"algorithm\" + 0.068*\"matrix\" + 0.067*\"(\" + 0.052*\"f1\" + 0.052*\"integ\" + 0.052*\"])\" + 0.052*\"[\" + 0.026*\"scale\" + 0.026*\"concept\" + 0.026*\"new\"\n",
      "2021-02-15 20:23:28,530 : INFO : topic #61 (0.010): 0.055*\"list\" + 0.047*\"concept\" + 0.047*\"structur\" + 0.047*\"is\" + 0.031*\"by\" + 0.031*\"descript\" + 0.026*\"algorithm\" + 0.024*\"-\" + 0.024*\"definit\" + 0.024*\"recurs\"\n",
      "2021-02-15 20:23:28,531 : INFO : topic #43 (0.010): 0.040*\",\" + 0.038*\"and\" + 0.030*\"to\" + 0.027*\"system\" + 0.024*\"in\" + 0.023*\"is\" + 0.021*\"program\" + 0.021*\"for\" + 0.018*\"are\" + 0.016*\"-\"\n",
      "2021-02-15 20:23:28,532 : INFO : topic #72 (0.010): 0.053*\",\" + 0.034*\"to\" + 0.031*\"and\" + 0.024*\"-\" + 0.023*\"for\" + 0.022*\"is\" + 0.020*\"in\" + 0.014*\"are\" + 0.013*\"program\" + 0.011*\"an\"\n",
      "2021-02-15 20:23:28,534 : INFO : topic #10 (0.010): 0.043*\"and\" + 0.029*\",\" + 0.028*\"for\" + 0.025*\"-\" + 0.025*\"is\" + 0.022*\"in\" + 0.020*\"to\" + 0.019*\"are\" + 0.016*\"system\" + 0.011*\"algorithm\"\n",
      "2021-02-15 20:23:28,535 : INFO : topic diff=79.769196, rho=1.000000\n",
      "2021-02-15 20:23:30,344 : INFO : -6.977 per-word bound, 126.0 perplexity estimate based on a held-out corpus of 1204 documents with 79462 words\n",
      "2021-02-15 20:23:30,344 : INFO : PROGRESS: pass 0, at document #3204/3204\n",
      "2021-02-15 20:23:31,961 : INFO : optimized alpha [0.009871126, 0.009672226, 0.009646995, 0.009740006, 0.009997876, 0.009783772, 0.009756474, 0.009734668, 0.009937231, 0.0097818365, 0.010527796, 0.009709785, 0.010184357, 0.009929024, 0.009868749, 0.00975338, 0.009760373, 0.010270236, 0.009751032, 0.009792225, 0.009773466, 0.010105524, 0.0099294325, 0.009752497, 0.010003055, 0.00990828, 0.009788702, 0.010033355, 0.010044352, 0.009564657, 0.009748269, 0.009622572, 0.01029647, 0.009725616, 0.009698619, 0.00974026, 0.009706501, 0.009828813, 0.009836643, 0.009879083, 0.010101805, 0.009804824, 0.010072535, 0.010877624, 0.009745975, 0.009564934, 0.00972324, 0.0097548375, 0.010062115, 0.010079688, 0.010008606, 0.009793549, 0.010110498, 0.010201235, 0.009589732, 0.0100557245, 0.009698746, 0.009783165, 0.010413716, 0.009702948, 0.009621977, 0.009977824, 0.009733221, 0.009614186, 0.010038723, 0.010158518, 0.009599509, 0.010019755, 0.010069962, 0.009657509, 0.009978298, 0.010003671, 0.0110418005, 0.010086807, 0.009608787, 0.0097820945, 0.010007139, 0.009772108, 0.009952793, 0.009888004, 0.0098385, 0.009668153, 0.009800254, 0.010081922, 0.009989287, 0.009891394, 0.00979308, 0.010396961, 0.009986686, 0.009864444, 0.009813539, 0.009791048, 0.009832823, 0.010085156, 0.009801808, 0.010019426, 0.009922935, 0.010028474, 0.010189989, 0.009589158]\n",
      "2021-02-15 20:23:31,975 : INFO : merging changes from 1204 documents into a model of 3204 documents\n",
      "2021-02-15 20:23:31,986 : INFO : topic #29 (0.010): 0.156*\"order\" + 0.065*\"find\" + 0.056*\"is\" + 0.044*\"defin\" + 0.032*\"posit\" + 0.028*\"function\" + 0.027*\"on\" + 0.025*\"set\" + 0.025*\"an\" + 0.021*\"valu\"\n",
      "2021-02-15 20:23:31,987 : INFO : topic #54 (0.010): 0.153*\"(\" + 0.138*\")\" + 0.131*\"t\" + 0.108*\"algorithm\" + 0.093*\"f\" + 0.086*\"q\" + 0.071*\"-\" + 0.037*\"function\" + 0.034*\"probabl\" + 0.031*\"[\"\n",
      "2021-02-15 20:23:31,988 : INFO : topic #10 (0.011): 0.045*\"and\" + 0.031*\",\" + 0.030*\"is\" + 0.024*\"for\" + 0.023*\"-\" + 0.022*\"to\" + 0.021*\"in\" + 0.021*\"are\" + 0.013*\"algorithm\" + 0.013*\"system\"\n",
      "2021-02-15 20:23:31,988 : INFO : topic #43 (0.011): 0.047*\",\" + 0.043*\"and\" + 0.031*\"system\" + 0.030*\"to\" + 0.024*\"is\" + 0.023*\"in\" + 0.020*\"for\" + 0.019*\"are\" + 0.017*\"program\" + 0.014*\"-\"\n",
      "2021-02-15 20:23:31,988 : INFO : topic #72 (0.011): 0.062*\",\" + 0.036*\"to\" + 0.035*\"and\" + 0.022*\"is\" + 0.021*\"for\" + 0.020*\"-\" + 0.020*\"in\" + 0.015*\"are\" + 0.012*\"as\" + 0.012*\"program\"\n",
      "2021-02-15 20:23:31,989 : INFO : topic diff=0.711631, rho=0.707107\n",
      "2021-02-15 20:23:31,999 : INFO : PROGRESS: pass 1, at document #2000/3204\n",
      "2021-02-15 20:23:33,354 : INFO : optimized alpha [0.009832839, 0.009567456, 0.009619645, 0.009687819, 0.009916794, 0.009798105, 0.009771358, 0.009838943, 0.009867539, 0.009716275, 0.010431378, 0.009678819, 0.010082296, 0.009961456, 0.009771468, 0.00966182, 0.009725818, 0.010196283, 0.009709169, 0.009713445, 0.009754141, 0.010068793, 0.009854538, 0.009806241, 0.009936797, 0.010062126, 0.009685788, 0.010809896, 0.009959244, 0.009503228, 0.009699621, 0.009669842, 0.010205621, 0.009652752, 0.009678649, 0.009750875, 0.009819716, 0.009772987, 0.009762357, 0.009781897, 0.010123639, 0.009784109, 0.010071493, 0.010902531, 0.0096833585, 0.009447357, 0.009697651, 0.009705805, 0.009971765, 0.009990791, 0.009949417, 0.009708882, 0.010007898, 0.010159259, 0.009799652, 0.010080091, 0.0096529415, 0.009740446, 0.010327463, 0.009679932, 0.009692185, 0.010036852, 0.009736559, 0.009559429, 0.009978923, 0.010076473, 0.009481029, 0.009931522, 0.009978363, 0.009599654, 0.009926093, 0.009920238, 0.011019022, 0.009968359, 0.0096362885, 0.00976089, 0.009971444, 0.00977436, 0.009888857, 0.009943237, 0.00982412, 0.009635061, 0.009746989, 0.010033987, 0.010003214, 0.009786552, 0.00974988, 0.01041307, 0.009908842, 0.009759598, 0.0097477045, 0.009804665, 0.009853553, 0.010203838, 0.009774505, 0.010030158, 0.009813489, 0.009927922, 0.010087942, 0.00959786]\n"
     ]
    },
    {
     "name": "stderr",
     "output_type": "stream",
     "text": [
      "2021-02-15 20:23:33,369 : INFO : merging changes from 2000 documents into a model of 3204 documents\n",
      "2021-02-15 20:23:33,389 : INFO : topic #45 (0.009): 0.174*\"polygon\" + 0.106*\"employ\" + 0.066*\"to\" + 0.063*\"macro\" + 0.056*\"extens\" + 0.042*\"posit\" + 0.038*\"algorithm\" + 0.038*\"exist\" + 0.023*\"new\" + 0.023*\"an\"\n",
      "2021-02-15 20:23:33,391 : INFO : topic #66 (0.009): 0.079*\"cycl\" + 0.050*\"section\" + 0.037*\"independ\" + 0.036*\"mainli\" + 0.035*\"one\" + 0.032*\"in\" + 0.026*\"display\" + 0.025*\"group\" + 0.023*\"\"\" + 0.022*\"restrict\"\n",
      "2021-02-15 20:23:33,391 : INFO : topic #27 (0.011): 0.179*\"algorithm\" + 0.170*\"(\" + 0.141*\"[\" + 0.107*\"])\" + 0.062*\")\" + 0.021*\"integr\" + 0.021*\"function\" + 0.015*\"h\" + 0.014*\"solut\" + 0.012*\"-\"\n",
      "2021-02-15 20:23:33,392 : INFO : topic #43 (0.011): 0.047*\",\" + 0.044*\"and\" + 0.035*\"system\" + 0.029*\"to\" + 0.023*\"in\" + 0.022*\"is\" + 0.020*\"for\" + 0.020*\"program\" + 0.019*\"are\" + 0.015*\"-\"\n",
      "2021-02-15 20:23:33,393 : INFO : topic #72 (0.011): 0.063*\",\" + 0.037*\"to\" + 0.034*\"and\" + 0.022*\"is\" + 0.022*\"for\" + 0.021*\"-\" + 0.020*\"in\" + 0.015*\"are\" + 0.013*\"as\" + 0.013*\"program\"\n",
      "2021-02-15 20:23:33,394 : INFO : topic diff=0.340142, rho=0.526900\n",
      "2021-02-15 20:23:35,065 : INFO : -6.690 per-word bound, 103.2 perplexity estimate based on a held-out corpus of 1204 documents with 79462 words\n",
      "2021-02-15 20:23:35,065 : INFO : PROGRESS: pass 1, at document #3204/3204\n",
      "2021-02-15 20:23:36,488 : INFO : optimized alpha [0.009920829, 0.009579119, 0.009583493, 0.009723431, 0.010075232, 0.009953561, 0.009918031, 0.009823407, 0.010029456, 0.009700816, 0.010618725, 0.0097964695, 0.010276164, 0.0100926105, 0.009792928, 0.009705924, 0.009893926, 0.01049702, 0.00985635, 0.009736877, 0.0098356195, 0.010300685, 0.009930957, 0.0098731285, 0.010193985, 0.010247544, 0.009695693, 0.011006436, 0.010120852, 0.009617098, 0.009684835, 0.009717595, 0.010479368, 0.009710354, 0.009696989, 0.009873652, 0.00988625, 0.00986528, 0.009811831, 0.009868441, 0.01038471, 0.009811566, 0.010460235, 0.011434804, 0.009675545, 0.009376764, 0.009736902, 0.009585987, 0.010104432, 0.010156465, 0.010154235, 0.009740042, 0.010230453, 0.010381557, 0.010033529, 0.010285128, 0.00980014, 0.009809299, 0.01069341, 0.009702647, 0.009747443, 0.010369005, 0.009684739, 0.009528261, 0.010083655, 0.010312993, 0.009426443, 0.010188065, 0.010211668, 0.009671011, 0.010104708, 0.010007363, 0.011490361, 0.010144923, 0.009706645, 0.009795069, 0.01010334, 0.009855918, 0.01004726, 0.010111296, 0.009950767, 0.009709108, 0.009799557, 0.010228355, 0.010234061, 0.009774443, 0.00987609, 0.010758438, 0.010008638, 0.009865168, 0.009805388, 0.00998061, 0.009901033, 0.010380756, 0.0098005235, 0.010238402, 0.010031182, 0.010085709, 0.010341658, 0.009615786]\n",
      "2021-02-15 20:23:36,499 : INFO : merging changes from 1204 documents into a model of 3204 documents\n",
      "2021-02-15 20:23:36,513 : INFO : topic #45 (0.009): 0.266*\"polygon\" + 0.181*\"employ\" + 0.072*\"extens\" + 0.054*\"to\" + 0.048*\"algorithm\" + 0.045*\"exist\" + 0.027*\"macro\" + 0.024*\"new\" + 0.023*\"present\" + 0.019*\"posit\"\n",
      "2021-02-15 20:23:36,514 : INFO : topic #66 (0.009): 0.143*\"cycl\" + 0.078*\"section\" + 0.066*\"independ\" + 0.047*\"mainli\" + 0.034*\"\"\" + 0.031*\"restrict\" + 0.030*\"one\" + 0.029*\"in\" + 0.028*\"group\" + 0.025*\"display\"\n",
      "2021-02-15 20:23:36,514 : INFO : topic #27 (0.011): 0.178*\"algorithm\" + 0.168*\"(\" + 0.161*\"[\" + 0.087*\")\" + 0.064*\"])\" + 0.022*\"integr\" + 0.020*\"h\" + 0.019*\"function\" + 0.014*\"solut\" + 0.012*\"equat\"\n",
      "2021-02-15 20:23:36,515 : INFO : topic #43 (0.011): 0.050*\",\" + 0.047*\"and\" + 0.040*\"system\" + 0.029*\"to\" + 0.023*\"is\" + 0.022*\"in\" + 0.019*\"for\" + 0.019*\"are\" + 0.017*\"program\" + 0.015*\"-\"\n",
      "2021-02-15 20:23:36,515 : INFO : topic #72 (0.011): 0.068*\",\" + 0.038*\"to\" + 0.036*\"and\" + 0.022*\"is\" + 0.021*\"for\" + 0.020*\"in\" + 0.020*\"-\" + 0.015*\"are\" + 0.013*\"as\" + 0.012*\"program\"\n",
      "2021-02-15 20:23:36,516 : INFO : topic diff=0.524710, rho=0.526900\n",
      "2021-02-15 20:23:36,526 : INFO : PROGRESS: pass 2, at document #2000/3204\n",
      "2021-02-15 20:23:37,923 : INFO : optimized alpha [0.0099248495, 0.009536793, 0.009588276, 0.009680966, 0.010002872, 0.010009719, 0.009990796, 0.009940922, 0.00998113, 0.009675317, 0.010514333, 0.009856666, 0.010192089, 0.0101591265, 0.009709729, 0.009652407, 0.009878339, 0.010425095, 0.009867351, 0.009712946, 0.009846365, 0.010288038, 0.0098656835, 0.009989456, 0.010127623, 0.010379521, 0.009614855, 0.011605245, 0.010052013, 0.00963497, 0.009680884, 0.009805175, 0.010423403, 0.009642817, 0.009721652, 0.009962184, 0.010028173, 0.009811597, 0.009775709, 0.009800219, 0.010443098, 0.0098480135, 0.010478987, 0.011474631, 0.009631802, 0.009304977, 0.009774529, 0.009566976, 0.010026996, 0.010072421, 0.010138903, 0.009667417, 0.010142793, 0.010371458, 0.010703737, 0.01035158, 0.00981894, 0.009813494, 0.010621917, 0.009699462, 0.009859656, 0.01046707, 0.00974877, 0.009518242, 0.010040364, 0.010253005, 0.009358093, 0.010152708, 0.010142916, 0.009668822, 0.010050133, 0.009960825, 0.011462772, 0.01007091, 0.009845742, 0.00979091, 0.01008776, 0.009957552, 0.010020937, 0.010213854, 0.009944658, 0.009698426, 0.009767332, 0.01020615, 0.010282874, 0.009680972, 0.009876995, 0.010781431, 0.009959308, 0.009792253, 0.009757903, 0.010037641, 0.009933692, 0.010506771, 0.009795808, 0.0102755865, 0.009958501, 0.010013168, 0.01026598, 0.009662371]\n",
      "2021-02-15 20:23:37,932 : INFO : merging changes from 2000 documents into a model of 3204 documents\n",
      "2021-02-15 20:23:37,945 : INFO : topic #45 (0.009): 0.177*\"polygon\" + 0.158*\"employ\" + 0.106*\"extens\" + 0.076*\"macro\" + 0.061*\"to\" + 0.046*\"exist\" + 0.037*\"algorithm\" + 0.024*\"new\" + 0.023*\"present\" + 0.021*\"posit\"\n",
      "2021-02-15 20:23:37,946 : INFO : topic #66 (0.009): 0.116*\"cycl\" + 0.081*\"section\" + 0.070*\"independ\" + 0.042*\"group\" + 0.037*\"one\" + 0.035*\"mainli\" + 0.034*\"in\" + 0.033*\"\"\" + 0.025*\"restrict\" + 0.023*\"display\"\n",
      "2021-02-15 20:23:37,947 : INFO : topic #43 (0.011): 0.050*\",\" + 0.047*\"and\" + 0.044*\"system\" + 0.028*\"to\" + 0.022*\"in\" + 0.021*\"is\" + 0.020*\"for\" + 0.019*\"are\" + 0.019*\"program\" + 0.016*\"-\"\n",
      "2021-02-15 20:23:37,948 : INFO : topic #72 (0.011): 0.070*\",\" + 0.038*\"to\" + 0.035*\"and\" + 0.022*\"for\" + 0.022*\"is\" + 0.020*\"in\" + 0.020*\"-\" + 0.015*\"are\" + 0.014*\"as\" + 0.012*\"program\"\n",
      "2021-02-15 20:23:37,949 : INFO : topic #27 (0.012): 0.174*\"algorithm\" + 0.170*\"[\" + 0.169*\"(\" + 0.124*\"])\" + 0.053*\")\" + 0.023*\"integr\" + 0.019*\"function\" + 0.018*\"h\" + 0.013*\"g6\" + 0.011*\"-\"\n",
      "2021-02-15 20:23:37,950 : INFO : topic diff=0.474176, rho=0.466151\n",
      "2021-02-15 20:23:39,519 : INFO : -6.595 per-word bound, 96.6 perplexity estimate based on a held-out corpus of 1204 documents with 79462 words\n",
      "2021-02-15 20:23:39,519 : INFO : PROGRESS: pass 2, at document #3204/3204\n",
      "2021-02-15 20:23:40,970 : INFO : optimized alpha [0.010018671, 0.009604619, 0.009599447, 0.009732636, 0.010171724, 0.010171369, 0.010163391, 0.00993772, 0.010124851, 0.009690355, 0.010663926, 0.009995589, 0.01035635, 0.010266998, 0.009727229, 0.009742266, 0.010112835, 0.010701925, 0.010056431, 0.009761753, 0.009964993, 0.010490796, 0.009957717, 0.010059248, 0.010393086, 0.010555996, 0.009656293, 0.01175701, 0.010203506, 0.009833772, 0.009703872, 0.009885098, 0.01065964, 0.009695396, 0.009746594, 0.010181508, 0.010116754, 0.009913364, 0.009882173, 0.009904851, 0.010692981, 0.00993078, 0.010850555, 0.01196011, 0.009638544, 0.00930878, 0.009847691, 0.009488912, 0.010165211, 0.010227811, 0.010373678, 0.009692982, 0.010345027, 0.010584988, 0.011203933, 0.01054615, 0.009966998, 0.009936069, 0.010941643, 0.00976228, 0.009934355, 0.010848293, 0.009730819, 0.009518686, 0.01014907, 0.010439371, 0.009346672, 0.010409484, 0.010366891, 0.009770585, 0.0102090575, 0.010050582, 0.01180522, 0.010223945, 0.01004203, 0.009844641, 0.01022466, 0.010032638, 0.010165661, 0.010378711, 0.010053178, 0.0097947465, 0.009837898, 0.01035875, 0.010521338, 0.009692809, 0.010047028, 0.0110660065, 0.01006415, 0.009929146, 0.009821779, 0.010221193, 0.009995257, 0.010692005, 0.009835138, 0.010457428, 0.010222414, 0.0101614315, 0.010492243, 0.009693434]\n",
      "2021-02-15 20:23:40,978 : INFO : merging changes from 1204 documents into a model of 3204 documents\n",
      "2021-02-15 20:23:40,994 : INFO : topic #45 (0.009): 0.223*\"polygon\" + 0.207*\"employ\" + 0.133*\"extens\" + 0.051*\"exist\" + 0.051*\"to\" + 0.042*\"macro\" + 0.039*\"algorithm\" + 0.025*\"new\" + 0.024*\"present\" + 0.018*\"an\"\n"
     ]
    },
    {
     "name": "stderr",
     "output_type": "stream",
     "text": [
      "2021-02-15 20:23:40,994 : INFO : topic #66 (0.009): 0.151*\"cycl\" + 0.093*\"section\" + 0.085*\"independ\" + 0.046*\"\"\" + 0.046*\"mainli\" + 0.039*\"group\" + 0.032*\"in\" + 0.031*\"one\" + 0.025*\"concurr\" + 0.025*\"circular\"\n",
      "2021-02-15 20:23:40,994 : INFO : topic #27 (0.012): 0.188*\"[\" + 0.172*\"algorithm\" + 0.166*\"(\" + 0.085*\"])\" + 0.071*\")\" + 0.023*\"integr\" + 0.023*\"h\" + 0.019*\"function\" + 0.014*\"g6\" + 0.012*\"d1\"\n",
      "2021-02-15 20:23:40,994 : INFO : topic #72 (0.012): 0.074*\",\" + 0.039*\"to\" + 0.037*\"and\" + 0.022*\"is\" + 0.021*\"for\" + 0.020*\"in\" + 0.019*\"-\" + 0.015*\"are\" + 0.015*\"as\" + 0.012*\"or\"\n",
      "2021-02-15 20:23:40,994 : INFO : topic #43 (0.012): 0.052*\",\" + 0.050*\"and\" + 0.048*\"system\" + 0.028*\"to\" + 0.021*\"in\" + 0.021*\"is\" + 0.019*\"for\" + 0.018*\"are\" + 0.016*\"-\" + 0.016*\"program\"\n",
      "2021-02-15 20:23:40,994 : INFO : topic diff=0.657753, rho=0.466151\n",
      "2021-02-15 20:23:40,994 : INFO : PROGRESS: pass 3, at document #2000/3204\n",
      "2021-02-15 20:23:42,329 : INFO : optimized alpha [0.010061042, 0.0095812185, 0.009602652, 0.009695118, 0.010125116, 0.010249979, 0.01026145, 0.010076694, 0.010087054, 0.009689323, 0.010576514, 0.010088395, 0.010293107, 0.01038022, 0.009656469, 0.009698354, 0.010133229, 0.010629203, 0.010090859, 0.00976375, 0.009980695, 0.010484575, 0.009916406, 0.0102098035, 0.010339113, 0.0106913345, 0.009593225, 0.012273461, 0.010149459, 0.009879974, 0.009734591, 0.009979442, 0.010609277, 0.009629498, 0.009807087, 0.010340048, 0.0102701085, 0.009867165, 0.009849471, 0.009862486, 0.010758213, 0.010006291, 0.010877757, 0.0120227635, 0.009617225, 0.009267903, 0.0099174185, 0.009482306, 0.010097207, 0.010162349, 0.010393548, 0.00963141, 0.010277652, 0.010585422, 0.012107178, 0.01062142, 0.0099982405, 0.00995622, 0.010877657, 0.0097744325, 0.010044732, 0.010956357, 0.009804296, 0.009535035, 0.0101143215, 0.010390659, 0.009299309, 0.010390366, 0.010320616, 0.009783103, 0.010178553, 0.010013219, 0.0117735155, 0.010160814, 0.010233611, 0.009864236, 0.010216651, 0.010173856, 0.010154225, 0.01048944, 0.010060274, 0.009805835, 0.00984298, 0.010329085, 0.0105866585, 0.009625534, 0.010061765, 0.01110107, 0.010028303, 0.009879981, 0.009802849, 0.010308902, 0.010025216, 0.010828993, 0.009837905, 0.010510655, 0.010173411, 0.010115026, 0.010421766, 0.009744432]\n",
      "2021-02-15 20:23:42,329 : INFO : merging changes from 2000 documents into a model of 3204 documents\n",
      "2021-02-15 20:23:42,356 : INFO : topic #66 (0.009): 0.126*\"cycl\" + 0.099*\"section\" + 0.084*\"independ\" + 0.052*\"group\" + 0.042*\"\"\" + 0.037*\"in\" + 0.036*\"one\" + 0.035*\"mainli\" + 0.024*\"critic\" + 0.021*\"concurr\"\n",
      "2021-02-15 20:23:42,356 : INFO : topic #45 (0.009): 0.180*\"employ\" + 0.165*\"extens\" + 0.157*\"polygon\" + 0.079*\"macro\" + 0.054*\"to\" + 0.053*\"exist\" + 0.033*\"algorithm\" + 0.026*\"present\" + 0.024*\"new\" + 0.020*\"an\"\n",
      "2021-02-15 20:23:42,356 : INFO : topic #43 (0.012): 0.052*\",\" + 0.052*\"system\" + 0.050*\"and\" + 0.028*\"to\" + 0.021*\"in\" + 0.021*\"is\" + 0.019*\"for\" + 0.019*\"are\" + 0.018*\"program\" + 0.017*\"-\"\n",
      "2021-02-15 20:23:42,356 : INFO : topic #54 (0.012): 0.321*\"(\" + 0.307*\")\" + 0.209*\"algorithm\" + 0.037*\"-\" + 0.036*\"function\" + 0.027*\"t\" + 0.016*\"f\" + 0.012*\"s14\" + 0.011*\"q\" + 0.006*\"probabl\"\n",
      "2021-02-15 20:23:42,356 : INFO : topic #27 (0.012): 0.193*\"[\" + 0.171*\"algorithm\" + 0.168*\"(\" + 0.136*\"])\" + 0.040*\")\" + 0.021*\"integr\" + 0.020*\"h\" + 0.020*\"function\" + 0.015*\"g6\" + 0.010*\"-\"\n",
      "2021-02-15 20:23:42,356 : INFO : topic diff=0.636794, rho=0.422502\n",
      "2021-02-15 20:23:43,910 : INFO : -6.531 per-word bound, 92.5 perplexity estimate based on a held-out corpus of 1204 documents with 79462 words\n",
      "2021-02-15 20:23:43,911 : INFO : PROGRESS: pass 3, at document #3204/3204\n",
      "2021-02-15 20:23:45,255 : INFO : optimized alpha [0.010189214, 0.009663661, 0.009634127, 0.009742824, 0.010293827, 0.010386306, 0.010433134, 0.010083252, 0.010199907, 0.009724559, 0.010690394, 0.0102576725, 0.010443017, 0.010488696, 0.009681158, 0.009839091, 0.010391242, 0.010870924, 0.010285172, 0.0098188715, 0.010095844, 0.010665844, 0.010007712, 0.010289879, 0.010608149, 0.010870479, 0.009645958, 0.012393073, 0.0103018675, 0.0101243155, 0.0097802365, 0.010072564, 0.010848412, 0.009695583, 0.009843537, 0.010608088, 0.010363686, 0.009967041, 0.009960748, 0.009986075, 0.010994672, 0.010113125, 0.011248593, 0.012479109, 0.00965889, 0.009299222, 0.010014934, 0.009434914, 0.010223356, 0.01031497, 0.010668296, 0.009673179, 0.010469597, 0.01078044, 0.012792179, 0.010802504, 0.010168455, 0.0100888, 0.011186863, 0.009856052, 0.010108164, 0.011341566, 0.009802362, 0.009546475, 0.010206311, 0.010564424, 0.009301012, 0.010640485, 0.01052147, 0.009900164, 0.010323404, 0.010113412, 0.012070315, 0.010300369, 0.010482115, 0.009941152, 0.010348606, 0.01026608, 0.010293391, 0.010672619, 0.010148117, 0.0099245915, 0.009914429, 0.01047911, 0.010797719, 0.009641681, 0.010238256, 0.011377908, 0.010120489, 0.010033213, 0.009851245, 0.010497878, 0.010088301, 0.011012695, 0.009884598, 0.010680288, 0.010451131, 0.010246518, 0.010639448, 0.009772641]\n",
      "2021-02-15 20:23:45,270 : INFO : merging changes from 1204 documents into a model of 3204 documents\n",
      "2021-02-15 20:23:45,286 : INFO : topic #45 (0.009): 0.218*\"employ\" + 0.196*\"polygon\" + 0.177*\"extens\" + 0.053*\"exist\" + 0.047*\"to\" + 0.046*\"macro\" + 0.033*\"algorithm\" + 0.027*\"present\" + 0.026*\"new\" + 0.018*\"an\"\n",
      "2021-02-15 20:23:45,287 : INFO : topic #66 (0.009): 0.149*\"cycl\" + 0.099*\"section\" + 0.089*\"independ\" + 0.056*\"\"\" + 0.045*\"group\" + 0.043*\"mainli\" + 0.035*\"in\" + 0.031*\"concurr\" + 0.030*\"one\" + 0.028*\"circular\"\n",
      "2021-02-15 20:23:45,287 : INFO : topic #27 (0.012): 0.206*\"[\" + 0.168*\"algorithm\" + 0.164*\"(\" + 0.100*\"])\" + 0.054*\")\" + 0.025*\"h\" + 0.021*\"integr\" + 0.020*\"function\" + 0.016*\"g6\" + 0.013*\"d1\"\n",
      "2021-02-15 20:23:45,288 : INFO : topic #43 (0.012): 0.056*\"system\" + 0.053*\",\" + 0.051*\"and\" + 0.027*\"to\" + 0.021*\"in\" + 0.021*\"is\" + 0.019*\"for\" + 0.018*\"are\" + 0.017*\"-\" + 0.017*\"data\"\n",
      "2021-02-15 20:23:45,288 : INFO : topic #54 (0.013): 0.331*\"(\" + 0.312*\")\" + 0.198*\"algorithm\" + 0.038*\"-\" + 0.032*\"function\" + 0.030*\"t\" + 0.017*\"f\" + 0.012*\"q\" + 0.009*\"s14\" + 0.006*\"probabl\"\n",
      "2021-02-15 20:23:45,289 : INFO : topic diff=0.763364, rho=0.422502\n",
      "2021-02-15 20:23:45,298 : INFO : PROGRESS: pass 4, at document #2000/3204\n",
      "2021-02-15 20:23:46,600 : INFO : optimized alpha [0.010252073, 0.009657492, 0.009643334, 0.009707178, 0.010258237, 0.010471044, 0.010539938, 0.010240027, 0.010171011, 0.00973762, 0.010619061, 0.010343276, 0.010390568, 0.010604251, 0.009619873, 0.009807719, 0.010418402, 0.010806132, 0.010317938, 0.009834655, 0.01010408, 0.010671674, 0.009981754, 0.010441914, 0.010566241, 0.011008347, 0.009602392, 0.012876897, 0.010257582, 0.010175494, 0.009816788, 0.010163835, 0.010834419, 0.009647377, 0.00992117, 0.010804487, 0.01050422, 0.009926576, 0.009940333, 0.009948851, 0.011071016, 0.010194857, 0.0112812985, 0.012553156, 0.00964961, 0.009275403, 0.010106597, 0.009454523, 0.010158737, 0.010260281, 0.010701543, 0.009623571, 0.010400223, 0.010792084, 0.013819369, 0.010897181, 0.0102123525, 0.010114762, 0.011126772, 0.009876936, 0.010210465, 0.011446764, 0.009901767, 0.009567921, 0.010184713, 0.010529176, 0.0092628775, 0.0106601175, 0.010481722, 0.009936742, 0.010296842, 0.010095176, 0.01204538, 0.01026025, 0.010686735, 0.0099767335, 0.010338677, 0.01041823, 0.010296616, 0.010787375, 0.010162729, 0.009944156, 0.009925144, 0.010465692, 0.010874141, 0.009583632, 0.0102687925, 0.011410378, 0.010105665, 0.009991254, 0.009842301, 0.010572423, 0.010112094, 0.011152681, 0.009903165, 0.01073307, 0.010413479, 0.010217763, 0.010591817, 0.009823919]\n",
      "2021-02-15 20:23:46,615 : INFO : merging changes from 2000 documents into a model of 3204 documents\n",
      "2021-02-15 20:23:46,627 : INFO : topic #45 (0.009): 0.200*\"extens\" + 0.193*\"employ\" + 0.147*\"polygon\" + 0.080*\"macro\" + 0.055*\"exist\" + 0.051*\"to\" + 0.028*\"present\" + 0.026*\"algorithm\" + 0.024*\"new\" + 0.020*\"an\"\n",
      "2021-02-15 20:23:46,627 : INFO : topic #66 (0.009): 0.125*\"cycl\" + 0.103*\"section\" + 0.087*\"independ\" + 0.055*\"\"\" + 0.055*\"group\" + 0.040*\"in\" + 0.034*\"one\" + 0.033*\"mainli\" + 0.029*\"critic\" + 0.027*\"concurr\"\n",
      "2021-02-15 20:23:46,628 : INFO : topic #43 (0.013): 0.059*\"system\" + 0.054*\",\" + 0.051*\"and\" + 0.027*\"to\" + 0.021*\"in\" + 0.020*\"is\" + 0.019*\"for\" + 0.019*\"are\" + 0.018*\"-\" + 0.017*\"data\"\n"
     ]
    },
    {
     "name": "stderr",
     "output_type": "stream",
     "text": [
      "2021-02-15 20:23:46,629 : INFO : topic #27 (0.013): 0.205*\"[\" + 0.170*\"algorithm\" + 0.168*\"(\" + 0.144*\"])\" + 0.032*\")\" + 0.021*\"h\" + 0.021*\"function\" + 0.020*\"integr\" + 0.016*\"g6\" + 0.011*\"d1\"\n",
      "2021-02-15 20:23:46,629 : INFO : topic #54 (0.014): 0.336*\"(\" + 0.320*\")\" + 0.207*\"algorithm\" + 0.033*\"-\" + 0.031*\"function\" + 0.021*\"t\" + 0.013*\"f\" + 0.010*\"s14\" + 0.009*\"q\" + 0.005*\"probabl\"\n",
      "2021-02-15 20:23:46,630 : INFO : topic diff=0.703723, rho=0.389191\n",
      "2021-02-15 20:23:48,242 : INFO : -6.487 per-word bound, 89.7 perplexity estimate based on a held-out corpus of 1204 documents with 79462 words\n",
      "2021-02-15 20:23:48,243 : INFO : PROGRESS: pass 4, at document #3204/3204\n",
      "2021-02-15 20:23:49,842 : INFO : optimized alpha [0.010404482, 0.009733968, 0.009676134, 0.009758452, 0.010435162, 0.010610783, 0.010712909, 0.01027122, 0.0102789905, 0.009799429, 0.010746045, 0.010520601, 0.010533036, 0.010724799, 0.009647278, 0.009976824, 0.010690178, 0.011030725, 0.0105020795, 0.009901916, 0.010210802, 0.010843497, 0.010079754, 0.010518146, 0.010841202, 0.011181332, 0.009667728, 0.012939739, 0.010398832, 0.010430344, 0.009871985, 0.010265839, 0.011074993, 0.009712373, 0.0099771805, 0.011099283, 0.010606782, 0.010029107, 0.010059827, 0.010066761, 0.01128009, 0.010310041, 0.011622479, 0.012975998, 0.009707735, 0.009329231, 0.010225796, 0.009424869, 0.010275839, 0.010428821, 0.010972666, 0.009672625, 0.010574948, 0.0109695615, 0.014682994, 0.011064865, 0.0103835985, 0.010250645, 0.011418865, 0.009949332, 0.010274966, 0.0118177235, 0.009912751, 0.0095946565, 0.010286799, 0.0107078655, 0.009272146, 0.010903949, 0.010675204, 0.010058313, 0.010448093, 0.01018819, 0.012317474, 0.010403161, 0.010951117, 0.010044588, 0.0104643, 0.010519576, 0.010449078, 0.010971371, 0.010237387, 0.010054217, 0.010004484, 0.010584114, 0.011081188, 0.009622051, 0.010432818, 0.011653279, 0.010197938, 0.01017589, 0.0098974155, 0.010764865, 0.010183774, 0.011319038, 0.0099691395, 0.01089049, 0.010696465, 0.01035332, 0.010811617, 0.009846882]\n",
      "2021-02-15 20:23:49,856 : INFO : merging changes from 1204 documents into a model of 3204 documents\n",
      "2021-02-15 20:23:49,869 : INFO : topic #66 (0.009): 0.141*\"cycl\" + 0.098*\"section\" + 0.088*\"independ\" + 0.069*\"\"\" + 0.046*\"group\" + 0.040*\"mainli\" + 0.038*\"in\" + 0.038*\"concurr\" + 0.032*\"one\" + 0.028*\"critic\"\n",
      "2021-02-15 20:23:49,870 : INFO : topic #45 (0.009): 0.222*\"employ\" + 0.212*\"extens\" + 0.182*\"polygon\" + 0.053*\"exist\" + 0.047*\"macro\" + 0.045*\"to\" + 0.029*\"present\" + 0.026*\"algorithm\" + 0.026*\"new\" + 0.018*\"an\"\n",
      "2021-02-15 20:23:49,870 : INFO : topic #27 (0.013): 0.214*\"[\" + 0.168*\"algorithm\" + 0.164*\"(\" + 0.111*\"])\" + 0.043*\")\" + 0.026*\"h\" + 0.022*\"function\" + 0.021*\"integr\" + 0.017*\"g6\" + 0.014*\"d1\"\n",
      "2021-02-15 20:23:49,871 : INFO : topic #43 (0.013): 0.062*\"system\" + 0.055*\",\" + 0.053*\"and\" + 0.027*\"to\" + 0.020*\"in\" + 0.020*\"is\" + 0.018*\"-\" + 0.018*\"for\" + 0.018*\"are\" + 0.017*\"data\"\n",
      "2021-02-15 20:23:49,871 : INFO : topic #54 (0.015): 0.346*\"(\" + 0.325*\")\" + 0.195*\"algorithm\" + 0.034*\"-\" + 0.029*\"function\" + 0.023*\"t\" + 0.013*\"f\" + 0.011*\"q\" + 0.008*\"s14\" + 0.005*\"probabl\"\n",
      "2021-02-15 20:23:49,872 : INFO : topic diff=0.760646, rho=0.389191\n",
      "2021-02-15 20:23:49,881 : INFO : PROGRESS: pass 5, at document #2000/3204\n",
      "2021-02-15 20:23:51,180 : INFO : optimized alpha [0.01049359, 0.0097337095, 0.009694005, 0.009725897, 0.010408723, 0.010713237, 0.010826426, 0.010437605, 0.01024822, 0.009813692, 0.010675798, 0.010612047, 0.010478005, 0.010845003, 0.0095917955, 0.00995941, 0.010729355, 0.010970772, 0.010552873, 0.009938555, 0.010220183, 0.010864129, 0.010055622, 0.010668979, 0.010809473, 0.011312716, 0.009627766, 0.013413837, 0.01036104, 0.010482669, 0.009920972, 0.010355045, 0.011051977, 0.0096664205, 0.01004996, 0.011312745, 0.0107447365, 0.009991566, 0.010057106, 0.010033738, 0.011359148, 0.010392186, 0.011658937, 0.013093135, 0.009708398, 0.009316046, 0.010326728, 0.009447579, 0.01022529, 0.010379092, 0.011018256, 0.009629201, 0.010521209, 0.010979479, 0.015816942, 0.0111614475, 0.010425805, 0.010276315, 0.011364285, 0.009981656, 0.010370904, 0.011910599, 0.010020747, 0.00962216, 0.01026672, 0.010689952, 0.009241335, 0.010938492, 0.010640853, 0.010097872, 0.01043414, 0.010182647, 0.012289424, 0.010369094, 0.011151851, 0.010085206, 0.010466249, 0.0106803365, 0.010459183, 0.0110847885, 0.01025116, 0.01007405, 0.010021919, 0.010585194, 0.011158149, 0.009581669, 0.010458806, 0.011699381, 0.010186105, 0.010146862, 0.00989876, 0.010851556, 0.010213617, 0.011464837, 0.009986699, 0.010943333, 0.010672348, 0.010322326, 0.01076759, 0.009905953]\n",
      "2021-02-15 20:23:51,195 : INFO : merging changes from 2000 documents into a model of 3204 documents\n",
      "2021-02-15 20:23:51,209 : INFO : topic #66 (0.009): 0.122*\"cycl\" + 0.103*\"section\" + 0.083*\"independ\" + 0.066*\"\"\" + 0.054*\"group\" + 0.042*\"in\" + 0.035*\"one\" + 0.033*\"mainli\" + 0.032*\"concurr\" + 0.032*\"critic\"\n",
      "2021-02-15 20:23:51,210 : INFO : topic #45 (0.009): 0.231*\"extens\" + 0.201*\"employ\" + 0.141*\"polygon\" + 0.073*\"macro\" + 0.055*\"exist\" + 0.048*\"to\" + 0.029*\"present\" + 0.024*\"new\" + 0.022*\"algorithm\" + 0.020*\"an\"\n",
      "2021-02-15 20:23:51,210 : INFO : topic #43 (0.013): 0.065*\"system\" + 0.055*\",\" + 0.053*\"and\" + 0.027*\"to\" + 0.020*\"in\" + 0.019*\"is\" + 0.019*\"-\" + 0.019*\"for\" + 0.018*\"are\" + 0.018*\"data\"\n",
      "2021-02-15 20:23:51,211 : INFO : topic #27 (0.013): 0.209*\"[\" + 0.171*\"algorithm\" + 0.169*\"(\" + 0.149*\"])\" + 0.026*\")\" + 0.023*\"h\" + 0.022*\"function\" + 0.019*\"integr\" + 0.016*\"g6\" + 0.012*\"d1\"\n",
      "2021-02-15 20:23:51,211 : INFO : topic #54 (0.016): 0.347*\"(\" + 0.329*\")\" + 0.202*\"algorithm\" + 0.030*\"-\" + 0.028*\"function\" + 0.018*\"t\" + 0.011*\"f\" + 0.009*\"s14\" + 0.009*\"q\" + 0.004*\"probabl\"\n",
      "2021-02-15 20:23:51,212 : INFO : topic diff=0.669435, rho=0.362690\n",
      "2021-02-15 20:23:52,783 : INFO : -6.458 per-word bound, 87.9 perplexity estimate based on a held-out corpus of 1204 documents with 79462 words\n",
      "2021-02-15 20:23:52,783 : INFO : PROGRESS: pass 5, at document #3204/3204\n",
      "2021-02-15 20:23:54,159 : INFO : optimized alpha [0.010697607, 0.00981127, 0.009724991, 0.009771661, 0.010591025, 0.010840771, 0.0109854415, 0.010481139, 0.010355897, 0.009880851, 0.010821637, 0.010782064, 0.010618247, 0.010957714, 0.009621534, 0.010127502, 0.01099641, 0.011201993, 0.010726181, 0.010019551, 0.010326357, 0.0110222725, 0.010169241, 0.010745621, 0.011082189, 0.01147464, 0.009710059, 0.013404928, 0.010503044, 0.010749258, 0.009987784, 0.010446963, 0.011292396, 0.009742608, 0.010114191, 0.011628872, 0.010846466, 0.010093988, 0.010172334, 0.010138263, 0.0115520805, 0.010506158, 0.012007502, 0.013496553, 0.009780908, 0.009375302, 0.010447497, 0.0094239395, 0.010332172, 0.0105564445, 0.01127823, 0.009687509, 0.010688496, 0.0111630475, 0.016818376, 0.011318358, 0.010593026, 0.010406675, 0.01164674, 0.010061402, 0.010433751, 0.012274702, 0.010042841, 0.009650356, 0.01036251, 0.010870972, 0.009259655, 0.011175496, 0.0108228875, 0.010233482, 0.010601547, 0.010269863, 0.01253771, 0.01052206, 0.011430074, 0.01015474, 0.010583985, 0.01078094, 0.01060566, 0.011277738, 0.010321072, 0.010198541, 0.010114676, 0.010686454, 0.011380247, 0.009618622, 0.010622304, 0.01192825, 0.010288281, 0.010338989, 0.009950554, 0.011039023, 0.010277592, 0.011620265, 0.010060902, 0.011080762, 0.010943226, 0.01044959, 0.010974311, 0.009933366]\n",
      "2021-02-15 20:23:54,182 : INFO : merging changes from 1204 documents into a model of 3204 documents\n",
      "2021-02-15 20:23:54,195 : INFO : topic #66 (0.009): 0.134*\"cycl\" + 0.095*\"section\" + 0.083*\"independ\" + 0.080*\"\"\" + 0.046*\"group\" + 0.042*\"concurr\" + 0.041*\"in\" + 0.038*\"mainli\" + 0.033*\"critic\" + 0.032*\"one\"\n",
      "2021-02-15 20:23:54,196 : INFO : topic #45 (0.009): 0.234*\"extens\" + 0.228*\"employ\" + 0.174*\"polygon\" + 0.051*\"exist\" + 0.046*\"macro\" + 0.043*\"to\" + 0.031*\"present\" + 0.025*\"new\" + 0.022*\"algorithm\" + 0.018*\"an\"\n",
      "2021-02-15 20:23:54,197 : INFO : topic #27 (0.013): 0.213*\"[\" + 0.169*\"algorithm\" + 0.165*\"(\" + 0.120*\"])\" + 0.034*\")\" + 0.028*\"h\" + 0.022*\"function\" + 0.021*\"integr\" + 0.018*\"g6\" + 0.015*\"d1\"\n",
      "2021-02-15 20:23:54,198 : INFO : topic #43 (0.013): 0.067*\"system\" + 0.055*\",\" + 0.054*\"and\" + 0.026*\"to\" + 0.020*\"in\" + 0.020*\"is\" + 0.020*\"-\" + 0.018*\"for\" + 0.018*\"are\" + 0.017*\"data\"\n"
     ]
    },
    {
     "name": "stderr",
     "output_type": "stream",
     "text": [
      "2021-02-15 20:23:54,198 : INFO : topic #54 (0.017): 0.355*\"(\" + 0.334*\")\" + 0.191*\"algorithm\" + 0.031*\"-\" + 0.027*\"function\" + 0.019*\"t\" + 0.011*\"f\" + 0.010*\"q\" + 0.007*\"s14\" + 0.004*\"probabl\"\n",
      "2021-02-15 20:23:54,200 : INFO : topic diff=0.687108, rho=0.362690\n",
      "2021-02-15 20:23:54,209 : INFO : PROGRESS: pass 6, at document #2000/3204\n",
      "2021-02-15 20:23:55,476 : INFO : optimized alpha [0.010805567, 0.009806025, 0.009743965, 0.009740152, 0.010570708, 0.0109546045, 0.011096561, 0.010639403, 0.010330513, 0.0099012675, 0.010762958, 0.010875738, 0.010566196, 0.011079457, 0.0095707225, 0.010120656, 0.011041291, 0.0111476695, 0.01077731, 0.010059378, 0.010338502, 0.011050745, 0.010156952, 0.010894388, 0.011049925, 0.011599115, 0.009684525, 0.013864323, 0.010468856, 0.010804699, 0.010063436, 0.010543734, 0.011280829, 0.009703259, 0.010195238, 0.0118642915, 0.010969953, 0.010058818, 0.010173128, 0.010108974, 0.011640085, 0.010585586, 0.012049561, 0.013603486, 0.00979011, 0.009371261, 0.010551937, 0.009455984, 0.010286693, 0.0105142705, 0.0113297505, 0.009650747, 0.010637282, 0.011175352, 0.018047608, 0.011421188, 0.010632291, 0.010432309, 0.0115989, 0.010090202, 0.010526367, 0.012375459, 0.010147127, 0.009684959, 0.010352722, 0.010864477, 0.009238151, 0.011210621, 0.010791426, 0.01029154, 0.010591362, 0.010280927, 0.012520419, 0.0104967095, 0.01163624, 0.010193206, 0.010585681, 0.010946845, 0.010622, 0.01137917, 0.010343203, 0.010215155, 0.010146684, 0.010693046, 0.011463999, 0.009584964, 0.010646037, 0.011993346, 0.0102842515, 0.010312316, 0.009957478, 0.011120553, 0.010314709, 0.011762544, 0.010086208, 0.011138101, 0.010920157, 0.010427433, 0.010942952, 0.009992855]\n",
      "2021-02-15 20:23:55,499 : INFO : merging changes from 2000 documents into a model of 3204 documents\n",
      "2021-02-15 20:23:55,512 : INFO : topic #66 (0.009): 0.116*\"cycl\" + 0.100*\"section\" + 0.081*\"independ\" + 0.078*\"\"\" + 0.053*\"group\" + 0.044*\"in\" + 0.037*\"concurr\" + 0.036*\"critic\" + 0.034*\"one\" + 0.033*\"mainli\"\n",
      "2021-02-15 20:23:55,513 : INFO : topic #45 (0.009): 0.250*\"extens\" + 0.210*\"employ\" + 0.139*\"polygon\" + 0.067*\"macro\" + 0.053*\"exist\" + 0.046*\"to\" + 0.031*\"present\" + 0.023*\"new\" + 0.019*\"an\" + 0.018*\"algorithm\"\n",
      "2021-02-15 20:23:55,513 : INFO : topic #43 (0.014): 0.070*\"system\" + 0.056*\",\" + 0.054*\"and\" + 0.026*\"to\" + 0.020*\"-\" + 0.020*\"in\" + 0.019*\"is\" + 0.018*\"for\" + 0.018*\"data\" + 0.018*\"are\"\n",
      "2021-02-15 20:23:55,514 : INFO : topic #27 (0.014): 0.209*\"[\" + 0.172*\"algorithm\" + 0.170*\"(\" + 0.153*\"])\" + 0.024*\"h\" + 0.022*\"function\" + 0.020*\")\" + 0.020*\"integr\" + 0.017*\"g6\" + 0.013*\"d1\"\n",
      "2021-02-15 20:23:55,515 : INFO : topic #54 (0.018): 0.354*\"(\" + 0.336*\")\" + 0.198*\"algorithm\" + 0.028*\"-\" + 0.026*\"function\" + 0.016*\"t\" + 0.009*\"f\" + 0.009*\"s14\" + 0.008*\"q\" + 0.004*\"probabl\"\n",
      "2021-02-15 20:23:55,516 : INFO : topic diff=0.593261, rho=0.340958\n",
      "2021-02-15 20:23:57,103 : INFO : -6.434 per-word bound, 86.5 perplexity estimate based on a held-out corpus of 1204 documents with 79462 words\n",
      "2021-02-15 20:23:57,103 : INFO : PROGRESS: pass 6, at document #3204/3204\n",
      "2021-02-15 20:23:58,543 : INFO : optimized alpha [0.011043226, 0.009882233, 0.00977361, 0.0097924005, 0.01075598, 0.01108441, 0.011246965, 0.01068535, 0.010429458, 0.00997049, 0.010910674, 0.011052434, 0.010699075, 0.011195069, 0.009597171, 0.010285958, 0.011305802, 0.01136377, 0.010972468, 0.010135866, 0.010438903, 0.011226182, 0.010267503, 0.010975108, 0.011331513, 0.011765307, 0.009765455, 0.013836631, 0.010615338, 0.011074904, 0.010132002, 0.010630083, 0.01150969, 0.009778488, 0.010261389, 0.012199637, 0.01106861, 0.010150077, 0.010299728, 0.010213828, 0.011832951, 0.01069613, 0.012397168, 0.014022381, 0.009881028, 0.0094381245, 0.010686701, 0.009439926, 0.010393947, 0.010688462, 0.011561377, 0.00971187, 0.010808179, 0.011345926, 0.019203775, 0.0115791485, 0.010802958, 0.010576309, 0.01186785, 0.0101712635, 0.010588217, 0.012735628, 0.010164706, 0.009714593, 0.010449387, 0.011042565, 0.009266936, 0.011442554, 0.010957788, 0.010437597, 0.010768317, 0.010375433, 0.012781471, 0.0106386, 0.011936203, 0.010253005, 0.010697049, 0.011059724, 0.010779079, 0.011568656, 0.010412346, 0.010327217, 0.010257452, 0.010798165, 0.011681994, 0.009628923, 0.010806872, 0.012189836, 0.010377961, 0.010509455, 0.010021154, 0.011304609, 0.010381027, 0.011909017, 0.010165087, 0.011281011, 0.011193833, 0.010562966, 0.011145493, 0.010018728]\n",
      "2021-02-15 20:23:58,553 : INFO : merging changes from 1204 documents into a model of 3204 documents\n",
      "2021-02-15 20:23:58,565 : INFO : topic #66 (0.009): 0.125*\"cycl\" + 0.095*\"\"\" + 0.091*\"section\" + 0.083*\"independ\" + 0.046*\"concurr\" + 0.046*\"group\" + 0.043*\"in\" + 0.036*\"critic\" + 0.036*\"mainli\" + 0.030*\"problem\"\n",
      "2021-02-15 20:23:58,566 : INFO : topic #45 (0.009): 0.258*\"extens\" + 0.231*\"employ\" + 0.169*\"polygon\" + 0.044*\"macro\" + 0.044*\"exist\" + 0.041*\"to\" + 0.031*\"present\" + 0.024*\"new\" + 0.018*\"algorithm\" + 0.017*\"an\"\n",
      "2021-02-15 20:23:58,566 : INFO : topic #27 (0.014): 0.213*\"[\" + 0.171*\"algorithm\" + 0.165*\"(\" + 0.129*\"])\" + 0.029*\"h\" + 0.024*\")\" + 0.023*\"function\" + 0.021*\"integr\" + 0.019*\"g6\" + 0.016*\"d1\"\n",
      "2021-02-15 20:23:58,567 : INFO : topic #43 (0.014): 0.072*\"system\" + 0.056*\",\" + 0.055*\"and\" + 0.026*\"to\" + 0.021*\"-\" + 0.020*\"in\" + 0.019*\"is\" + 0.018*\"are\" + 0.018*\"for\" + 0.017*\"data\"\n",
      "2021-02-15 20:23:58,568 : INFO : topic #54 (0.019): 0.361*\"(\" + 0.341*\")\" + 0.187*\"algorithm\" + 0.029*\"-\" + 0.025*\"function\" + 0.017*\"t\" + 0.009*\"q\" + 0.009*\"f\" + 0.007*\"s14\" + 0.004*\"probabl\"\n",
      "2021-02-15 20:23:58,569 : INFO : topic diff=0.598634, rho=0.340958\n",
      "2021-02-15 20:23:58,578 : INFO : PROGRESS: pass 7, at document #2000/3204\n",
      "2021-02-15 20:23:59,928 : INFO : optimized alpha [0.011160466, 0.00988063, 0.009801511, 0.00975684, 0.010741074, 0.011194791, 0.011356397, 0.010842206, 0.01040891, 0.00999654, 0.010858347, 0.01115239, 0.0106513435, 0.011311339, 0.0095518585, 0.010282093, 0.011363611, 0.01130722, 0.011029309, 0.010193486, 0.010448639, 0.011261921, 0.010259033, 0.011121035, 0.011300466, 0.011893367, 0.009751103, 0.014279213, 0.010587686, 0.011135341, 0.010202576, 0.01073946, 0.011506863, 0.009743276, 0.010350396, 0.0124401525, 0.011184758, 0.010122024, 0.0103119, 0.0101944115, 0.011922117, 0.010776961, 0.01244684, 0.014152327, 0.009899375, 0.009439048, 0.010788002, 0.009474012, 0.010354424, 0.010651184, 0.0116094, 0.009680757, 0.010773021, 0.011358659, 0.020518955, 0.011678853, 0.010830857, 0.010606959, 0.01182816, 0.010201867, 0.010674833, 0.012830172, 0.010274274, 0.009750959, 0.01044704, 0.011041023, 0.009248876, 0.011478381, 0.0109380735, 0.010501087, 0.010759531, 0.010394427, 0.012763106, 0.010617602, 0.012146861, 0.010289729, 0.010694992, 0.0112206135, 0.010799363, 0.011672448, 0.010433655, 0.0103411125, 0.0102927545, 0.010806125, 0.011765008, 0.009600963, 0.010839337, 0.012245036, 0.0103759095, 0.010489803, 0.010034514, 0.0113854185, 0.010414795, 0.012040957, 0.010195847, 0.011335305, 0.011171636, 0.01054856, 0.01112741, 0.010082046]\n",
      "2021-02-15 20:23:59,950 : INFO : merging changes from 2000 documents into a model of 3204 documents\n",
      "2021-02-15 20:23:59,963 : INFO : topic #66 (0.009): 0.109*\"cycl\" + 0.100*\"\"\" + 0.094*\"section\" + 0.081*\"independ\" + 0.051*\"group\" + 0.047*\"in\" + 0.040*\"concurr\" + 0.037*\"critic\" + 0.032*\"one\" + 0.031*\"mainli\"\n",
      "2021-02-15 20:23:59,964 : INFO : topic #45 (0.009): 0.271*\"extens\" + 0.218*\"employ\" + 0.138*\"polygon\" + 0.062*\"macro\" + 0.047*\"exist\" + 0.044*\"to\" + 0.031*\"present\" + 0.022*\"new\" + 0.019*\"an\" + 0.015*\"algorithm\"\n",
      "2021-02-15 20:23:59,965 : INFO : topic #43 (0.014): 0.074*\"system\" + 0.056*\",\" + 0.054*\"and\" + 0.026*\"to\" + 0.021*\"-\" + 0.020*\"in\" + 0.019*\"is\" + 0.019*\"time\" + 0.018*\"for\" + 0.018*\"are\"\n",
      "2021-02-15 20:23:59,966 : INFO : topic #27 (0.014): 0.209*\"[\" + 0.174*\"algorithm\" + 0.171*\"(\" + 0.158*\"])\" + 0.025*\"h\" + 0.022*\"function\" + 0.020*\"integr\" + 0.018*\"g6\" + 0.014*\")\" + 0.014*\"d1\"\n",
      "2021-02-15 20:23:59,967 : INFO : topic #54 (0.021): 0.359*\"(\" + 0.342*\")\" + 0.194*\"algorithm\" + 0.027*\"-\" + 0.025*\"function\" + 0.014*\"t\" + 0.008*\"s14\" + 0.008*\"f\" + 0.008*\"q\" + 0.004*\"probabl\"\n",
      "2021-02-15 20:23:59,968 : INFO : topic diff=0.514031, rho=0.322715\n",
      "2021-02-15 20:24:01,588 : INFO : -6.416 per-word bound, 85.4 perplexity estimate based on a held-out corpus of 1204 documents with 79462 words\n"
     ]
    },
    {
     "name": "stderr",
     "output_type": "stream",
     "text": [
      "2021-02-15 20:24:01,588 : INFO : PROGRESS: pass 7, at document #3204/3204\n",
      "2021-02-15 20:24:02,966 : INFO : optimized alpha [0.011446823, 0.009961174, 0.0098458165, 0.009809713, 0.01092698, 0.0113242585, 0.0115117375, 0.01089632, 0.0105061075, 0.010073275, 0.010996324, 0.011321337, 0.010786677, 0.011424106, 0.009580564, 0.01044555, 0.011627063, 0.011501258, 0.011222054, 0.010282645, 0.010541371, 0.011429432, 0.010361665, 0.011199996, 0.011588968, 0.012051551, 0.00983902, 0.014226908, 0.0107330885, 0.011407519, 0.010273133, 0.010821008, 0.011745157, 0.009823096, 0.010404558, 0.012775897, 0.01128402, 0.010198119, 0.010438239, 0.01029157, 0.012103069, 0.01087902, 0.012765129, 0.014581307, 0.0100048045, 0.009502831, 0.0109279165, 0.009472173, 0.010445501, 0.010837739, 0.011834599, 0.009752331, 0.010944857, 0.011533716, 0.021752562, 0.011832473, 0.010993842, 0.010761406, 0.012092211, 0.010276143, 0.010739019, 0.013191552, 0.010293338, 0.009784473, 0.010539139, 0.011226053, 0.009286884, 0.011697457, 0.011096896, 0.01065195, 0.010949017, 0.01049293, 0.013005638, 0.01076153, 0.012453215, 0.010354812, 0.010783633, 0.011330496, 0.010963966, 0.011859692, 0.010499464, 0.010447795, 0.010406793, 0.0108944755, 0.011973734, 0.009648368, 0.01100445, 0.012432397, 0.01046516, 0.010684034, 0.010100816, 0.01156728, 0.010480745, 0.012186442, 0.010284596, 0.011465239, 0.011440238, 0.010683559, 0.011321144, 0.010111966]\n",
      "2021-02-15 20:24:02,978 : INFO : merging changes from 1204 documents into a model of 3204 documents\n",
      "2021-02-15 20:24:02,992 : INFO : topic #66 (0.009): 0.120*\"\"\" + 0.116*\"cycl\" + 0.086*\"section\" + 0.080*\"independ\" + 0.050*\"concurr\" + 0.045*\"in\" + 0.044*\"group\" + 0.036*\"critic\" + 0.033*\"mainli\" + 0.032*\"problem\"\n",
      "2021-02-15 20:24:02,993 : INFO : topic #45 (0.010): 0.274*\"extens\" + 0.239*\"employ\" + 0.168*\"polygon\" + 0.043*\"macro\" + 0.039*\"to\" + 0.035*\"exist\" + 0.032*\"present\" + 0.022*\"new\" + 0.017*\"an\" + 0.015*\"algorithm\"\n",
      "2021-02-15 20:24:02,993 : INFO : topic #27 (0.014): 0.212*\"[\" + 0.173*\"algorithm\" + 0.166*\"(\" + 0.136*\"])\" + 0.029*\"h\" + 0.023*\"function\" + 0.021*\"integr\" + 0.020*\"g6\" + 0.017*\"d1\" + 0.016*\")\"\n",
      "2021-02-15 20:24:02,994 : INFO : topic #43 (0.015): 0.076*\"system\" + 0.057*\",\" + 0.055*\"and\" + 0.026*\"to\" + 0.022*\"-\" + 0.020*\"in\" + 0.019*\"is\" + 0.018*\"time\" + 0.018*\"are\" + 0.018*\"for\"\n",
      "2021-02-15 20:24:02,994 : INFO : topic #54 (0.022): 0.367*\"(\" + 0.347*\")\" + 0.184*\"algorithm\" + 0.027*\"-\" + 0.024*\"function\" + 0.015*\"t\" + 0.009*\"q\" + 0.007*\"f\" + 0.007*\"s14\" + 0.004*\"probabl\"\n",
      "2021-02-15 20:24:02,996 : INFO : topic diff=0.517290, rho=0.322715\n",
      "2021-02-15 20:24:03,005 : INFO : PROGRESS: pass 8, at document #2000/3204\n",
      "2021-02-15 20:24:04,411 : INFO : optimized alpha [0.011582444, 0.009965874, 0.009880345, 0.009782512, 0.010913533, 0.011440614, 0.011623749, 0.011047296, 0.010489831, 0.010098265, 0.010948091, 0.011418825, 0.010742656, 0.011542882, 0.009539934, 0.010449171, 0.0116849, 0.011448235, 0.011275678, 0.010348918, 0.010550661, 0.011468379, 0.01035516, 0.011345522, 0.0115605965, 0.012172436, 0.00983922, 0.014658872, 0.010711266, 0.011467762, 0.010337577, 0.010924363, 0.011750238, 0.009791419, 0.010491632, 0.013026188, 0.0114007555, 0.010173344, 0.010444717, 0.010284192, 0.012203181, 0.010959803, 0.012808723, 0.014722707, 0.010026829, 0.009500994, 0.011031819, 0.009506612, 0.010414642, 0.010801229, 0.011894373, 0.009724585, 0.010902054, 0.011548674, 0.023157328, 0.011929688, 0.011016513, 0.010800102, 0.012054313, 0.010311728, 0.01082372, 0.013278453, 0.010400235, 0.009824016, 0.010546758, 0.011227291, 0.009278869, 0.011728767, 0.011079319, 0.010725678, 0.010949794, 0.010507751, 0.012992792, 0.010739396, 0.0126634985, 0.010397988, 0.010781797, 0.0114908805, 0.0109862415, 0.011966227, 0.010523293, 0.010462549, 0.010448366, 0.010905518, 0.012058214, 0.009626849, 0.011043308, 0.012486506, 0.010473012, 0.010664113, 0.010120177, 0.0116442405, 0.010514793, 0.012320484, 0.0103155635, 0.011524084, 0.0114170555, 0.010674526, 0.01130821, 0.010177438]\n",
      "2021-02-15 20:24:04,428 : INFO : merging changes from 2000 documents into a model of 3204 documents\n",
      "2021-02-15 20:24:04,440 : INFO : topic #66 (0.009): 0.127*\"\"\" + 0.102*\"cycl\" + 0.088*\"section\" + 0.078*\"independ\" + 0.049*\"in\" + 0.047*\"group\" + 0.044*\"concurr\" + 0.036*\"critic\" + 0.035*\"process\" + 0.031*\"one\"\n",
      "2021-02-15 20:24:04,441 : INFO : topic #45 (0.010): 0.288*\"extens\" + 0.227*\"employ\" + 0.139*\"polygon\" + 0.053*\"macro\" + 0.042*\"to\" + 0.039*\"exist\" + 0.032*\"present\" + 0.021*\"new\" + 0.019*\"an\" + 0.014*\"by\"\n",
      "2021-02-15 20:24:04,442 : INFO : topic #27 (0.015): 0.209*\"[\" + 0.175*\"algorithm\" + 0.172*\"(\" + 0.162*\"])\" + 0.025*\"h\" + 0.023*\"function\" + 0.021*\"integr\" + 0.018*\"g6\" + 0.015*\"d1\" + 0.012*\"s15\"\n",
      "2021-02-15 20:24:04,442 : INFO : topic #43 (0.015): 0.078*\"system\" + 0.056*\",\" + 0.055*\"and\" + 0.026*\"to\" + 0.022*\"-\" + 0.020*\"in\" + 0.019*\"time\" + 0.019*\"is\" + 0.018*\"data\" + 0.018*\"are\"\n",
      "2021-02-15 20:24:04,443 : INFO : topic #54 (0.023): 0.364*\"(\" + 0.347*\")\" + 0.191*\"algorithm\" + 0.026*\"-\" + 0.024*\"function\" + 0.013*\"t\" + 0.008*\"s14\" + 0.008*\"q\" + 0.007*\"f\" + 0.004*\"probabl\"\n",
      "2021-02-15 20:24:04,444 : INFO : topic diff=0.443525, rho=0.307119\n",
      "2021-02-15 20:24:05,990 : INFO : -6.398 per-word bound, 84.3 perplexity estimate based on a held-out corpus of 1204 documents with 79462 words\n",
      "2021-02-15 20:24:05,990 : INFO : PROGRESS: pass 8, at document #3204/3204\n",
      "2021-02-15 20:24:07,348 : INFO : optimized alpha [0.011893872, 0.010048069, 0.009932945, 0.009838528, 0.011103594, 0.011561449, 0.011766419, 0.011103733, 0.010580243, 0.01017436, 0.011091932, 0.011586834, 0.010880853, 0.011662428, 0.009570608, 0.010600783, 0.011954485, 0.011634381, 0.011460925, 0.0104447445, 0.010644897, 0.011637966, 0.010450828, 0.011423078, 0.011847929, 0.012326887, 0.009943746, 0.014587532, 0.010847878, 0.0117252115, 0.010412854, 0.011013007, 0.011989163, 0.009863021, 0.010543096, 0.013367289, 0.011492322, 0.010246494, 0.010571266, 0.010377275, 0.01237356, 0.0110572465, 0.01311954, 0.015128374, 0.0101304855, 0.009569431, 0.011162968, 0.00950526, 0.010512883, 0.010988724, 0.012126701, 0.0097909095, 0.0110754445, 0.011710562, 0.024478763, 0.012095297, 0.011178534, 0.010951011, 0.012321145, 0.010374798, 0.010884723, 0.013615176, 0.010428709, 0.009861122, 0.010645834, 0.011408138, 0.0093300035, 0.011945514, 0.011231672, 0.0108788125, 0.011126261, 0.010604755, 0.013215496, 0.010885658, 0.012957977, 0.010460179, 0.010877831, 0.011595399, 0.011147139, 0.012145951, 0.01058626, 0.0105646895, 0.010573571, 0.010990172, 0.012271394, 0.009677597, 0.011204641, 0.012653062, 0.010563843, 0.010848062, 0.010191566, 0.011821694, 0.010586125, 0.012452942, 0.010403184, 0.011660563, 0.011676102, 0.010803944, 0.011494243, 0.010203257]\n",
      "2021-02-15 20:24:07,364 : INFO : merging changes from 1204 documents into a model of 3204 documents\n",
      "2021-02-15 20:24:07,383 : INFO : topic #66 (0.009): 0.156*\"\"\" + 0.106*\"cycl\" + 0.079*\"section\" + 0.078*\"independ\" + 0.050*\"concurr\" + 0.047*\"in\" + 0.042*\"group\" + 0.034*\"process\" + 0.034*\"critic\" + 0.032*\"problem\"\n",
      "2021-02-15 20:24:07,383 : INFO : topic #47 (0.010): 0.117*\"commun\" + 0.106*\"(\" + 0.061*\")\" + 0.043*\"4\" + 0.040*\"for\" + 0.037*\"control\" + 0.037*\"s\" + 0.036*\"inform\" + 0.027*\"3\" + 0.027*\"),\"\n",
      "2021-02-15 20:24:07,384 : INFO : topic #27 (0.015): 0.211*\"[\" + 0.174*\"algorithm\" + 0.167*\"(\" + 0.142*\"])\" + 0.028*\"h\" + 0.023*\"function\" + 0.022*\"integr\" + 0.021*\"g6\" + 0.018*\"d1\" + 0.013*\"z\"\n",
      "2021-02-15 20:24:07,385 : INFO : topic #43 (0.015): 0.080*\"system\" + 0.057*\",\" + 0.056*\"and\" + 0.025*\"to\" + 0.022*\"-\" + 0.020*\"in\" + 0.019*\"is\" + 0.018*\"time\" + 0.018*\"data\" + 0.018*\"are\"\n",
      "2021-02-15 20:24:07,385 : INFO : topic #54 (0.024): 0.371*\"(\" + 0.351*\")\" + 0.182*\"algorithm\" + 0.026*\"-\" + 0.022*\"function\" + 0.013*\"t\" + 0.009*\"q\" + 0.007*\"s14\" + 0.006*\"f\" + 0.004*\"probabl\"\n",
      "2021-02-15 20:24:07,386 : INFO : topic diff=0.446987, rho=0.307119\n",
      "2021-02-15 20:24:07,396 : INFO : PROGRESS: pass 9, at document #2000/3204\n",
      "2021-02-15 20:24:08,674 : INFO : optimized alpha [0.012035696, 0.0100555625, 0.0099677425, 0.009815881, 0.011098096, 0.0116687, 0.011882858, 0.011259456, 0.010563167, 0.010195342, 0.01104379, 0.011678889, 0.010846576, 0.011780526, 0.009535488, 0.010614657, 0.012010692, 0.011584481, 0.011513538, 0.010517684, 0.010655352, 0.011692063, 0.010449226, 0.011566979, 0.0118219815, 0.012439644, 0.00995411, 0.015001507, 0.01082334, 0.011782135, 0.010484182, 0.011114239, 0.011992823, 0.009834477, 0.010637986, 0.013634176, 0.011603118, 0.010227685, 0.010581878, 0.010377882, 0.012467804, 0.011139862, 0.013159547, 0.015272677, 0.01015902, 0.009570604, 0.011261375, 0.009545737, 0.010485013, 0.010957678, 0.012196087, 0.009770451, 0.011038681, 0.011720865, 0.025947595, 0.012192354, 0.01119802, 0.010990986, 0.012292226, 0.010406047, 0.010966284, 0.013701081, 0.010539579, 0.009896452, 0.01066101, 0.011413573, 0.009332392, 0.011976284, 0.011217652, 0.010954449, 0.011137854, 0.010618974, 0.013205948, 0.010862358, 0.013166477, 0.010501742, 0.01087771, 0.011757458, 0.011176276, 0.012244714, 0.010617188, 0.010577165, 0.010614805, 0.010997554, 0.012357652, 0.009664666, 0.011241394, 0.012706423, 0.01057136, 0.010831308, 0.010217848, 0.011896988, 0.010623587, 0.0125840185, 0.010432857, 0.011723882, 0.011652094, 0.010801507, 0.011486137, 0.010263422]\n"
     ]
    },
    {
     "name": "stderr",
     "output_type": "stream",
     "text": [
      "2021-02-15 20:24:08,690 : INFO : merging changes from 2000 documents into a model of 3204 documents\n",
      "2021-02-15 20:24:08,709 : INFO : topic #66 (0.009): 0.169*\"\"\" + 0.092*\"cycl\" + 0.081*\"section\" + 0.075*\"independ\" + 0.050*\"in\" + 0.044*\"group\" + 0.043*\"concurr\" + 0.040*\"process\" + 0.034*\"critic\" + 0.030*\"problem\"\n",
      "2021-02-15 20:24:08,709 : INFO : topic #14 (0.010): 0.109*\"hash\" + 0.092*\"method\" + 0.063*\"tabl\" + 0.055*\"quadrat\" + 0.053*\"search\" + 0.051*\"speed\" + 0.051*\"is\" + 0.037*\"cluster\" + 0.028*\"e\" + 0.026*\"code\"\n",
      "2021-02-15 20:24:08,710 : INFO : topic #27 (0.015): 0.208*\"[\" + 0.176*\"algorithm\" + 0.173*\"(\" + 0.165*\"])\" + 0.024*\"h\" + 0.023*\"function\" + 0.021*\"integr\" + 0.019*\"g6\" + 0.016*\"d1\" + 0.013*\"s15\"\n",
      "2021-02-15 20:24:08,711 : INFO : topic #43 (0.015): 0.081*\"system\" + 0.057*\",\" + 0.056*\"and\" + 0.026*\"to\" + 0.023*\"-\" + 0.019*\"time\" + 0.019*\"in\" + 0.019*\"is\" + 0.018*\"data\" + 0.018*\"are\"\n",
      "2021-02-15 20:24:08,711 : INFO : topic #54 (0.026): 0.368*\"(\" + 0.351*\")\" + 0.189*\"algorithm\" + 0.025*\"-\" + 0.022*\"function\" + 0.011*\"t\" + 0.008*\"s14\" + 0.008*\"q\" + 0.006*\"f\" + 0.004*\"probabl\"\n",
      "2021-02-15 20:24:08,712 : INFO : topic diff=0.383380, rho=0.293585\n",
      "2021-02-15 20:24:10,166 : INFO : -6.385 per-word bound, 83.6 perplexity estimate based on a held-out corpus of 1204 documents with 79462 words\n",
      "2021-02-15 20:24:10,166 : INFO : PROGRESS: pass 9, at document #3204/3204\n",
      "2021-02-15 20:24:11,472 : INFO : optimized alpha [0.012363973, 0.010134569, 0.010030475, 0.009877269, 0.011292561, 0.0117990095, 0.012028654, 0.011312624, 0.0106552765, 0.010276071, 0.011185045, 0.011840834, 0.010982322, 0.011906895, 0.009565557, 0.010768664, 0.012275159, 0.011760979, 0.011680859, 0.01061475, 0.010743298, 0.011872955, 0.010551535, 0.011635011, 0.012120743, 0.012578637, 0.010066931, 0.014927382, 0.010965519, 0.0120377485, 0.010556239, 0.011212562, 0.012238962, 0.009901105, 0.010681761, 0.0139646875, 0.011687695, 0.010290653, 0.010708909, 0.010472503, 0.01263486, 0.011230441, 0.013454409, 0.015660629, 0.010271188, 0.009638796, 0.011387325, 0.009551738, 0.010587432, 0.011149344, 0.012430113, 0.009841546, 0.011211321, 0.011870864, 0.027337184, 0.012339543, 0.011356944, 0.011139035, 0.012550305, 0.010474236, 0.011021808, 0.01403484, 0.0105663715, 0.009934566, 0.010750978, 0.011588077, 0.009400174, 0.012185644, 0.011364444, 0.011099382, 0.011313625, 0.01071487, 0.01343031, 0.011005851, 0.013440134, 0.010563931, 0.010972739, 0.01186868, 0.011320319, 0.012426729, 0.01067232, 0.01067277, 0.010743181, 0.011078926, 0.012578866, 0.009723272, 0.011394085, 0.012860101, 0.010664021, 0.011016802, 0.010286562, 0.0120708505, 0.010697335, 0.01271081, 0.010517021, 0.011860917, 0.011911369, 0.010928699, 0.011662706, 0.010288123]\n",
      "2021-02-15 20:24:11,497 : INFO : merging changes from 1204 documents into a model of 3204 documents\n",
      "2021-02-15 20:24:11,512 : INFO : topic #66 (0.009): 0.206*\"\"\" + 0.094*\"cycl\" + 0.074*\"independ\" + 0.071*\"section\" + 0.048*\"in\" + 0.047*\"concurr\" + 0.039*\"process\" + 0.038*\"group\" + 0.031*\"problem\" + 0.031*\"critic\"\n",
      "2021-02-15 20:24:11,513 : INFO : topic #47 (0.010): 0.123*\"commun\" + 0.106*\"(\" + 0.057*\")\" + 0.047*\"4\" + 0.042*\"for\" + 0.041*\"control\" + 0.038*\"inform\" + 0.031*\"s\" + 0.028*\"),\" + 0.028*\"3\"\n",
      "2021-02-15 20:24:11,514 : INFO : topic #27 (0.015): 0.209*\"[\" + 0.175*\"algorithm\" + 0.169*\"(\" + 0.147*\"])\" + 0.027*\"h\" + 0.024*\"function\" + 0.023*\"integr\" + 0.021*\"g6\" + 0.020*\"d1\" + 0.013*\"z\"\n",
      "2021-02-15 20:24:11,514 : INFO : topic #43 (0.016): 0.082*\"system\" + 0.058*\",\" + 0.056*\"and\" + 0.025*\"to\" + 0.023*\"-\" + 0.019*\"in\" + 0.019*\"is\" + 0.018*\"time\" + 0.018*\"data\" + 0.018*\"are\"\n",
      "2021-02-15 20:24:11,515 : INFO : topic #54 (0.027): 0.375*\"(\" + 0.354*\")\" + 0.181*\"algorithm\" + 0.025*\"-\" + 0.021*\"function\" + 0.012*\"t\" + 0.009*\"q\" + 0.007*\"s14\" + 0.005*\"f\" + 0.004*\"probabl\"\n",
      "2021-02-15 20:24:11,516 : INFO : topic diff=0.389006, rho=0.293585\n",
      "2021-02-15 20:24:11,524 : INFO : PROGRESS: pass 10, at document #2000/3204\n",
      "2021-02-15 20:24:12,843 : INFO : optimized alpha [0.012503547, 0.010147609, 0.010062717, 0.0098586185, 0.011287966, 0.011911134, 0.012136183, 0.011473372, 0.010643476, 0.010303677, 0.011146542, 0.011931221, 0.010947569, 0.012028056, 0.009529889, 0.010784592, 0.012335224, 0.011717385, 0.011741146, 0.010686712, 0.010754878, 0.011929799, 0.010546914, 0.011772967, 0.012096965, 0.012698136, 0.010092423, 0.015327288, 0.010939926, 0.012096769, 0.010629755, 0.011312028, 0.012244519, 0.009878257, 0.01077519, 0.014226867, 0.0117932195, 0.01027001, 0.01072342, 0.01047164, 0.01272922, 0.011306994, 0.013487445, 0.015803544, 0.010297047, 0.009638696, 0.011487203, 0.009596504, 0.010562197, 0.0111185005, 0.012507163, 0.009823543, 0.011176867, 0.011888799, 0.028887223, 0.012440132, 0.011375186, 0.011181887, 0.012522568, 0.010495508, 0.011100643, 0.01411818, 0.010675348, 0.00997161, 0.0107671395, 0.011596037, 0.009417309, 0.012216035, 0.011348923, 0.011191199, 0.011325668, 0.010736214, 0.013417977, 0.010989295, 0.013649295, 0.010605623, 0.010977277, 0.012031177, 0.011344767, 0.0125271, 0.010702346, 0.010689196, 0.010788825, 0.011087765, 0.012666979, 0.009715249, 0.011442084, 0.0129222805, 0.0106742205, 0.011004427, 0.010319419, 0.0121397, 0.010739631, 0.012837446, 0.010551611, 0.0119252475, 0.011889871, 0.010940133, 0.011655803, 0.010350723]\n",
      "2021-02-15 20:24:12,853 : INFO : merging changes from 2000 documents into a model of 3204 documents\n",
      "2021-02-15 20:24:12,865 : INFO : topic #66 (0.009): 0.224*\"\"\" + 0.082*\"cycl\" + 0.072*\"section\" + 0.070*\"independ\" + 0.051*\"in\" + 0.043*\"process\" + 0.040*\"concurr\" + 0.039*\"group\" + 0.030*\"problem\" + 0.030*\"critic\"\n",
      "2021-02-15 20:24:12,866 : INFO : topic #14 (0.010): 0.111*\"hash\" + 0.095*\"method\" + 0.066*\"tabl\" + 0.056*\"quadrat\" + 0.055*\"search\" + 0.054*\"speed\" + 0.052*\"is\" + 0.037*\"cluster\" + 0.028*\"e\" + 0.026*\"code\"\n",
      "2021-02-15 20:24:12,867 : INFO : topic #27 (0.015): 0.208*\"[\" + 0.178*\"algorithm\" + 0.174*\"(\" + 0.168*\"])\" + 0.024*\"h\" + 0.023*\"function\" + 0.022*\"integr\" + 0.019*\"g6\" + 0.017*\"d1\" + 0.013*\"s15\"\n",
      "2021-02-15 20:24:12,868 : INFO : topic #43 (0.016): 0.084*\"system\" + 0.058*\",\" + 0.056*\"and\" + 0.025*\"to\" + 0.024*\"-\" + 0.019*\"time\" + 0.019*\"in\" + 0.019*\"is\" + 0.018*\"data\" + 0.018*\"are\"\n",
      "2021-02-15 20:24:12,868 : INFO : topic #54 (0.029): 0.372*\"(\" + 0.354*\")\" + 0.188*\"algorithm\" + 0.024*\"-\" + 0.021*\"function\" + 0.010*\"t\" + 0.008*\"s14\" + 0.008*\"q\" + 0.005*\"f\" + 0.004*\"probabl\"\n",
      "2021-02-15 20:24:12,869 : INFO : topic diff=0.334280, rho=0.281696\n",
      "2021-02-15 20:24:14,362 : INFO : -6.374 per-word bound, 83.0 perplexity estimate based on a held-out corpus of 1204 documents with 79462 words\n",
      "2021-02-15 20:24:14,362 : INFO : PROGRESS: pass 10, at document #3204/3204\n",
      "2021-02-15 20:24:15,686 : INFO : optimized alpha [0.012849417, 0.01022871, 0.010137401, 0.009925121, 0.011489947, 0.012039607, 0.012282569, 0.011529086, 0.010735002, 0.010381653, 0.011291264, 0.012090723, 0.011081416, 0.012149778, 0.009557295, 0.01093877, 0.012595654, 0.011896404, 0.0119142765, 0.010790443, 0.01083975, 0.012116388, 0.010643333, 0.011837882, 0.012390898, 0.0128320195, 0.010220533, 0.015243603, 0.011087759, 0.012351376, 0.010701512, 0.011406621, 0.012501567, 0.00994513, 0.0108298175, 0.014543953, 0.0118825985, 0.010338396, 0.010851424, 0.010555705, 0.012887531, 0.011396834, 0.013780384, 0.01619404, 0.010415195, 0.009711343, 0.01161413, 0.009604785, 0.010663742, 0.011314783, 0.012725671, 0.0098947, 0.011341346, 0.012030951, 0.030313622, 0.012588222, 0.011534274, 0.011322449, 0.012773157, 0.010566301, 0.011159117, 0.014456584, 0.010703275, 0.010010772, 0.010854001, 0.011765128, 0.009509603, 0.012418957, 0.0114909345, 0.011339481, 0.011501167, 0.010841579, 0.013615771, 0.01113068, 0.0139289135, 0.010668136, 0.011063949, 0.012143665, 0.011500131, 0.012709063, 0.010760688, 0.010784081, 0.01092312, 0.0111637525, 0.012896762, 0.0097788405, 0.011595154, 0.013073634, 0.010763666, 0.011181534, 0.010395538, 0.012310722, 0.010810718, 0.012959274, 0.010630371, 0.01204917, 0.012139031, 0.011057863, 0.01183498, 0.0103745]\n",
      "2021-02-15 20:24:15,707 : INFO : merging changes from 1204 documents into a model of 3204 documents\n",
      "2021-02-15 20:24:15,720 : INFO : topic #66 (0.010): 0.270*\"\"\" + 0.083*\"cycl\" + 0.067*\"independ\" + 0.063*\"section\" + 0.048*\"in\" + 0.042*\"concurr\" + 0.042*\"process\" + 0.034*\"group\" + 0.029*\"problem\" + 0.028*\"critic\"\n"
     ]
    },
    {
     "name": "stderr",
     "output_type": "stream",
     "text": [
      "2021-02-15 20:24:15,721 : INFO : topic #14 (0.010): 0.122*\"hash\" + 0.100*\"method\" + 0.075*\"tabl\" + 0.060*\"quadrat\" + 0.058*\"search\" + 0.054*\"is\" + 0.045*\"speed\" + 0.042*\"cluster\" + 0.026*\"linear\" + 0.025*\"e\"\n",
      "2021-02-15 20:24:15,721 : INFO : topic #27 (0.015): 0.208*\"[\" + 0.176*\"algorithm\" + 0.169*\"(\" + 0.151*\"])\" + 0.027*\"h\" + 0.024*\"function\" + 0.023*\"integr\" + 0.022*\"g6\" + 0.021*\"d1\" + 0.013*\"z\"\n",
      "2021-02-15 20:24:15,722 : INFO : topic #43 (0.016): 0.085*\"system\" + 0.059*\",\" + 0.057*\"and\" + 0.025*\"to\" + 0.024*\"-\" + 0.019*\"is\" + 0.019*\"in\" + 0.018*\"time\" + 0.018*\"data\" + 0.018*\"user\"\n",
      "2021-02-15 20:24:15,722 : INFO : topic #54 (0.030): 0.378*\"(\" + 0.357*\")\" + 0.180*\"algorithm\" + 0.024*\"-\" + 0.020*\"function\" + 0.011*\"t\" + 0.008*\"q\" + 0.007*\"s14\" + 0.004*\"f\" + 0.004*\"probabl\"\n",
      "2021-02-15 20:24:15,723 : INFO : topic diff=0.341834, rho=0.281696\n",
      "2021-02-15 20:24:15,735 : INFO : PROGRESS: pass 11, at document #2000/3204\n",
      "2021-02-15 20:24:16,986 : INFO : optimized alpha [0.013004535, 0.010244131, 0.010174086, 0.009910087, 0.01148778, 0.01215663, 0.012390062, 0.011688853, 0.010723669, 0.010409766, 0.011255426, 0.012183133, 0.011056758, 0.012264219, 0.009527612, 0.010955193, 0.012659668, 0.0118552875, 0.011973832, 0.010863073, 0.010850951, 0.012182582, 0.010633044, 0.011970358, 0.012369175, 0.01294784, 0.010257478, 0.015634598, 0.011070219, 0.012405818, 0.010777067, 0.011507784, 0.012502104, 0.009927563, 0.010932433, 0.014811697, 0.011980109, 0.01032305, 0.01086664, 0.0105549535, 0.0129823275, 0.011467883, 0.013803069, 0.016338412, 0.010452802, 0.009708717, 0.011714117, 0.009650963, 0.010639414, 0.0112902075, 0.012801571, 0.009882929, 0.011312182, 0.012044634, 0.031924665, 0.012690867, 0.0115513485, 0.011366615, 0.012744813, 0.010589787, 0.011237102, 0.014543454, 0.010825179, 0.010050876, 0.010875605, 0.011778752, 0.009533962, 0.012455873, 0.011477213, 0.011436311, 0.011507295, 0.0108636655, 0.013602994, 0.011117334, 0.014131673, 0.010710017, 0.011072985, 0.012298722, 0.01153439, 0.012806087, 0.010795819, 0.010811662, 0.010971541, 0.011170945, 0.0129799135, 0.009769988, 0.011639601, 0.013131613, 0.010772041, 0.011170292, 0.010428783, 0.012375249, 0.010853198, 0.013082186, 0.010669625, 0.012116275, 0.012120048, 0.011065797, 0.011827619, 0.010433901]\n",
      "2021-02-15 20:24:16,997 : INFO : merging changes from 2000 documents into a model of 3204 documents\n",
      "2021-02-15 20:24:17,013 : INFO : topic #66 (0.010): 0.285*\"\"\" + 0.073*\"cycl\" + 0.064*\"independ\" + 0.064*\"section\" + 0.050*\"in\" + 0.046*\"process\" + 0.036*\"concurr\" + 0.031*\"group\" + 0.028*\"problem\" + 0.028*\"critic\"\n",
      "2021-02-15 20:24:17,013 : INFO : topic #14 (0.010): 0.112*\"hash\" + 0.098*\"method\" + 0.071*\"tabl\" + 0.057*\"quadrat\" + 0.056*\"search\" + 0.055*\"speed\" + 0.053*\"is\" + 0.038*\"cluster\" + 0.027*\"e\" + 0.026*\"code\"\n",
      "2021-02-15 20:24:17,013 : INFO : topic #27 (0.016): 0.207*\"[\" + 0.178*\"algorithm\" + 0.175*\"(\" + 0.170*\"])\" + 0.023*\"h\" + 0.023*\"function\" + 0.022*\"integr\" + 0.019*\"g6\" + 0.018*\"d1\" + 0.013*\"s15\"\n",
      "2021-02-15 20:24:17,013 : INFO : topic #43 (0.016): 0.087*\"system\" + 0.058*\",\" + 0.057*\"and\" + 0.025*\"to\" + 0.025*\"-\" + 0.019*\"time\" + 0.019*\"is\" + 0.019*\"in\" + 0.018*\"data\" + 0.018*\"user\"\n",
      "2021-02-15 20:24:17,013 : INFO : topic #54 (0.032): 0.375*\"(\" + 0.356*\")\" + 0.186*\"algorithm\" + 0.023*\"-\" + 0.020*\"function\" + 0.010*\"t\" + 0.008*\"s14\" + 0.007*\"q\" + 0.004*\"f\" + 0.004*\"probabl\"\n",
      "2021-02-15 20:24:17,013 : INFO : topic diff=0.295214, rho=0.271143\n",
      "2021-02-15 20:24:18,517 : INFO : -6.365 per-word bound, 82.4 perplexity estimate based on a held-out corpus of 1204 documents with 79462 words\n",
      "2021-02-15 20:24:18,517 : INFO : PROGRESS: pass 11, at document #3204/3204\n",
      "2021-02-15 20:24:19,826 : INFO : optimized alpha [0.013369239, 0.010324927, 0.010246312, 0.009976866, 0.011692234, 0.012275408, 0.0125400685, 0.011736562, 0.0108123245, 0.010487564, 0.011395806, 0.012335047, 0.011194135, 0.01237909, 0.009558974, 0.011112406, 0.012922468, 0.01203711, 0.012141931, 0.010973223, 0.010938102, 0.012355464, 0.010728873, 0.012029719, 0.012658923, 0.013080068, 0.010395869, 0.0155348545, 0.011211106, 0.012657121, 0.010846273, 0.01159643, 0.012749991, 0.009992462, 0.010984919, 0.015129458, 0.012066203, 0.0103894975, 0.010993201, 0.010650851, 0.013135439, 0.011549357, 0.014082285, 0.016716674, 0.010579148, 0.009779176, 0.011842186, 0.009663402, 0.010737836, 0.01148884, 0.013040591, 0.009956459, 0.01147708, 0.012174155, 0.033371232, 0.012837033, 0.011705731, 0.011507969, 0.012997403, 0.01065825, 0.011295941, 0.014867678, 0.010854074, 0.01009104, 0.01097206, 0.011945653, 0.009651648, 0.012650274, 0.011628041, 0.011596068, 0.011677717, 0.010955829, 0.013816742, 0.011259446, 0.014417686, 0.01077279, 0.0111594815, 0.012404263, 0.011693276, 0.012988381, 0.010854707, 0.010903525, 0.0111117745, 0.011249749, 0.013203774, 0.0098316, 0.01179326, 0.013278114, 0.010863576, 0.011349883, 0.010507278, 0.012546689, 0.010919442, 0.013205572, 0.010757947, 0.012247426, 0.01236813, 0.011182472, 0.012006914, 0.010456855]\n",
      "2021-02-15 20:24:19,840 : INFO : merging changes from 1204 documents into a model of 3204 documents\n",
      "2021-02-15 20:24:19,860 : INFO : topic #14 (0.010): 0.122*\"hash\" + 0.103*\"method\" + 0.081*\"tabl\" + 0.060*\"quadrat\" + 0.059*\"search\" + 0.054*\"is\" + 0.046*\"speed\" + 0.043*\"cluster\" + 0.027*\"linear\" + 0.025*\"e\"\n",
      "2021-02-15 20:24:19,861 : INFO : topic #66 (0.010): 0.331*\"\"\" + 0.073*\"cycl\" + 0.061*\"independ\" + 0.055*\"section\" + 0.048*\"in\" + 0.043*\"process\" + 0.037*\"concurr\" + 0.028*\"group\" + 0.027*\"problem\" + 0.025*\"critic\"\n",
      "2021-02-15 20:24:19,862 : INFO : topic #27 (0.016): 0.207*\"[\" + 0.177*\"algorithm\" + 0.170*\"(\" + 0.154*\"])\" + 0.025*\"h\" + 0.024*\"integr\" + 0.023*\"function\" + 0.022*\"g6\" + 0.022*\"d1\" + 0.013*\"z\"\n",
      "2021-02-15 20:24:19,863 : INFO : topic #43 (0.017): 0.087*\"system\" + 0.059*\",\" + 0.057*\"and\" + 0.025*\"-\" + 0.025*\"to\" + 0.019*\"is\" + 0.019*\"in\" + 0.019*\"user\" + 0.018*\"time\" + 0.018*\"data\"\n",
      "2021-02-15 20:24:19,864 : INFO : topic #54 (0.033): 0.381*\"(\" + 0.359*\")\" + 0.178*\"algorithm\" + 0.023*\"-\" + 0.019*\"function\" + 0.010*\"t\" + 0.008*\"q\" + 0.007*\"s14\" + 0.004*\"probabl\" + 0.003*\"f\"\n",
      "2021-02-15 20:24:19,865 : INFO : topic diff=0.303722, rho=0.271143\n",
      "2021-02-15 20:24:19,874 : INFO : PROGRESS: pass 12, at document #2000/3204\n",
      "2021-02-15 20:24:21,063 : INFO : optimized alpha [0.013515607, 0.010342585, 0.010281921, 0.009967768, 0.011689142, 0.012394166, 0.012637903, 0.011895596, 0.010805676, 0.01051483, 0.011362399, 0.012424748, 0.011174453, 0.012500398, 0.009527135, 0.011129269, 0.012978498, 0.011994999, 0.012200929, 0.011046626, 0.010951872, 0.012426027, 0.010721771, 0.012161936, 0.012635933, 0.013195953, 0.010439652, 0.01591969, 0.011193734, 0.012708978, 0.01092695, 0.011699417, 0.012757723, 0.0099796755, 0.011089294, 0.01539936, 0.012165721, 0.010377691, 0.0110120475, 0.010650066, 0.013230725, 0.011616831, 0.01409703, 0.01686271, 0.010618196, 0.009777991, 0.0119425, 0.009709738, 0.010717234, 0.011465553, 0.013115452, 0.0099465195, 0.011448264, 0.012191915, 0.03505758, 0.012940176, 0.011724845, 0.011550477, 0.012964933, 0.010678308, 0.011371773, 0.014950539, 0.01097721, 0.01013008, 0.010991475, 0.01195514, 0.009690376, 0.012696865, 0.011620505, 0.011687241, 0.011686113, 0.01097716, 0.013805169, 0.011246079, 0.014612457, 0.010816345, 0.011171335, 0.012557259, 0.011727642, 0.013084088, 0.010888901, 0.010930179, 0.011165824, 0.011259837, 0.013283962, 0.009825864, 0.011840636, 0.013337728, 0.010878819, 0.0113367615, 0.01053956, 0.012615465, 0.010960712, 0.013316396, 0.010803084, 0.012318975, 0.012348201, 0.011192967, 0.0119990315, 0.010513316]\n",
      "2021-02-15 20:24:21,075 : INFO : merging changes from 2000 documents into a model of 3204 documents\n",
      "2021-02-15 20:24:21,096 : INFO : topic #14 (0.010): 0.114*\"hash\" + 0.100*\"method\" + 0.077*\"tabl\" + 0.057*\"quadrat\" + 0.057*\"search\" + 0.056*\"speed\" + 0.053*\"is\" + 0.039*\"cluster\" + 0.027*\"e\" + 0.026*\"code\"\n",
      "2021-02-15 20:24:21,096 : INFO : topic #66 (0.010): 0.345*\"\"\" + 0.065*\"cycl\" + 0.057*\"independ\" + 0.056*\"section\" + 0.050*\"in\" + 0.047*\"process\" + 0.031*\"concurr\" + 0.026*\"group\" + 0.025*\"problem\" + 0.025*\"one\"\n",
      "2021-02-15 20:24:21,097 : INFO : topic #27 (0.016): 0.206*\"[\" + 0.179*\"algorithm\" + 0.176*\"(\" + 0.172*\"])\" + 0.023*\"function\" + 0.023*\"h\" + 0.022*\"integr\" + 0.020*\"g6\" + 0.018*\"d1\" + 0.013*\"s15\"\n"
     ]
    },
    {
     "name": "stderr",
     "output_type": "stream",
     "text": [
      "2021-02-15 20:24:21,098 : INFO : topic #43 (0.017): 0.088*\"system\" + 0.059*\",\" + 0.057*\"and\" + 0.025*\"-\" + 0.025*\"to\" + 0.019*\"time\" + 0.019*\"is\" + 0.019*\"in\" + 0.018*\"user\" + 0.018*\"data\"\n",
      "2021-02-15 20:24:21,099 : INFO : topic #54 (0.035): 0.377*\"(\" + 0.358*\")\" + 0.185*\"algorithm\" + 0.022*\"-\" + 0.020*\"function\" + 0.009*\"t\" + 0.008*\"s14\" + 0.007*\"q\" + 0.004*\"probabl\" + 0.003*\"f\"\n",
      "2021-02-15 20:24:21,100 : INFO : topic diff=0.264037, rho=0.261694\n",
      "2021-02-15 20:24:22,590 : INFO : -6.356 per-word bound, 81.9 perplexity estimate based on a held-out corpus of 1204 documents with 79462 words\n",
      "2021-02-15 20:24:22,590 : INFO : PROGRESS: pass 12, at document #3204/3204\n",
      "2021-02-15 20:24:23,821 : INFO : optimized alpha [0.0138820205, 0.010423265, 0.010354159, 0.010052292, 0.011886001, 0.0125118885, 0.012783455, 0.011940917, 0.010894142, 0.010590317, 0.011509102, 0.012572297, 0.011308056, 0.012608829, 0.009553852, 0.011279935, 0.013232697, 0.012166476, 0.012372526, 0.01114871, 0.011045999, 0.012591716, 0.010819587, 0.012216126, 0.012916547, 0.01333263, 0.010583432, 0.015818711, 0.011335621, 0.012954662, 0.0109937135, 0.01179006, 0.013008594, 0.01004716, 0.011144637, 0.015714658, 0.012246101, 0.010440014, 0.011142373, 0.010743222, 0.013385093, 0.011693086, 0.014369481, 0.017229367, 0.010750421, 0.009846444, 0.012064155, 0.0097197825, 0.010812964, 0.0116591165, 0.013340398, 0.010018005, 0.011608675, 0.012333673, 0.036520246, 0.013087671, 0.011882625, 0.011687859, 0.0132142175, 0.0107494, 0.0114285555, 0.015270932, 0.011007048, 0.0101712, 0.011082595, 0.012120221, 0.009836838, 0.0128915515, 0.01176205, 0.011850539, 0.011862323, 0.01107879, 0.014016086, 0.011389187, 0.014889193, 0.010879476, 0.011252829, 0.012661801, 0.011890046, 0.013275649, 0.010948352, 0.011019278, 0.011307186, 0.011336271, 0.013514204, 0.009894402, 0.011982321, 0.0134977, 0.010972398, 0.011514079, 0.010618017, 0.012784843, 0.0110273035, 0.013441514, 0.010884008, 0.012440735, 0.012592956, 0.011313707, 0.012186967, 0.010533261]\n",
      "2021-02-15 20:24:23,832 : INFO : merging changes from 1204 documents into a model of 3204 documents\n",
      "2021-02-15 20:24:23,846 : INFO : topic #14 (0.010): 0.123*\"hash\" + 0.106*\"method\" + 0.084*\"tabl\" + 0.061*\"quadrat\" + 0.060*\"search\" + 0.054*\"is\" + 0.047*\"speed\" + 0.043*\"cluster\" + 0.028*\"linear\" + 0.024*\"e\"\n",
      "2021-02-15 20:24:23,847 : INFO : topic #47 (0.010): 0.139*\"commun\" + 0.106*\"(\" + 0.054*\"control\" + 0.054*\"4\" + 0.048*\")\" + 0.046*\"for\" + 0.042*\"inform\" + 0.034*\"),\" + 0.027*\"3\" + 0.020*\"interchang\"\n",
      "2021-02-15 20:24:23,848 : INFO : topic #27 (0.016): 0.206*\"[\" + 0.177*\"algorithm\" + 0.172*\"(\" + 0.157*\"])\" + 0.024*\"integr\" + 0.024*\"h\" + 0.023*\"function\" + 0.023*\"d1\" + 0.022*\"g6\" + 0.013*\"z\"\n",
      "2021-02-15 20:24:23,849 : INFO : topic #43 (0.017): 0.089*\"system\" + 0.059*\",\" + 0.058*\"and\" + 0.025*\"-\" + 0.025*\"to\" + 0.019*\"is\" + 0.019*\"user\" + 0.018*\"in\" + 0.018*\"time\" + 0.017*\"data\"\n",
      "2021-02-15 20:24:23,850 : INFO : topic #54 (0.037): 0.383*\"(\" + 0.360*\")\" + 0.178*\"algorithm\" + 0.022*\"-\" + 0.019*\"function\" + 0.010*\"t\" + 0.008*\"q\" + 0.007*\"s14\" + 0.004*\"probabl\" + 0.003*\"f\"\n",
      "2021-02-15 20:24:23,851 : INFO : topic diff=0.272786, rho=0.261694\n",
      "2021-02-15 20:24:23,860 : INFO : PROGRESS: pass 13, at document #2000/3204\n",
      "2021-02-15 20:24:25,169 : INFO : optimized alpha [0.014033835, 0.010441729, 0.01039536, 0.010042212, 0.0118882125, 0.012619875, 0.012880149, 0.012096519, 0.0108877625, 0.010615516, 0.011482261, 0.012659507, 0.011291626, 0.012735538, 0.009526125, 0.011297335, 0.013294639, 0.012131258, 0.012431042, 0.011224443, 0.011057936, 0.012660109, 0.010812653, 0.012342143, 0.012892366, 0.0134489015, 0.01063514, 0.016198209, 0.011321314, 0.013012298, 0.011075207, 0.011887538, 0.013021584, 0.010032355, 0.011253693, 0.015984913, 0.0123492405, 0.010431528, 0.01116037, 0.010743798, 0.013472548, 0.011757154, 0.014384114, 0.017368415, 0.010793593, 0.009846649, 0.01216655, 0.009772506, 0.010791645, 0.01164009, 0.013414347, 0.010011041, 0.011578682, 0.012352242, 0.038241476, 0.013193236, 0.011897629, 0.011731836, 0.013179519, 0.010771687, 0.011502458, 0.015359815, 0.01112876, 0.010208035, 0.011107066, 0.012132032, 0.009888164, 0.012932923, 0.011758918, 0.01195152, 0.011875969, 0.01110942, 0.014009419, 0.011378698, 0.015083816, 0.010921918, 0.011264338, 0.012811412, 0.01192772, 0.013371895, 0.010984521, 0.011040905, 0.011360977, 0.011346171, 0.013602031, 0.009883845, 0.012038762, 0.013555205, 0.010992793, 0.011499108, 0.010656317, 0.012852968, 0.011064609, 0.0135527905, 0.01093066, 0.012519897, 0.012570584, 0.0113352705, 0.012184762, 0.01058971]\n",
      "2021-02-15 20:24:25,181 : INFO : merging changes from 2000 documents into a model of 3204 documents\n",
      "2021-02-15 20:24:25,194 : INFO : topic #14 (0.010): 0.115*\"hash\" + 0.103*\"method\" + 0.082*\"tabl\" + 0.058*\"quadrat\" + 0.058*\"search\" + 0.056*\"speed\" + 0.053*\"is\" + 0.039*\"cluster\" + 0.027*\"e\" + 0.027*\"linear\"\n",
      "2021-02-15 20:24:25,195 : INFO : topic #47 (0.010): 0.126*\"commun\" + 0.105*\"(\" + 0.054*\"4\" + 0.054*\"control\" + 0.049*\")\" + 0.048*\"for\" + 0.045*\"inform\" + 0.034*\"),\" + 0.026*\"interchang\" + 0.025*\"3\"\n",
      "2021-02-15 20:24:25,196 : INFO : topic #27 (0.016): 0.205*\"[\" + 0.179*\"algorithm\" + 0.176*\"(\" + 0.173*\"])\" + 0.023*\"integr\" + 0.022*\"h\" + 0.022*\"function\" + 0.020*\"g6\" + 0.019*\"d1\" + 0.013*\"s15\"\n",
      "2021-02-15 20:24:25,197 : INFO : topic #43 (0.017): 0.090*\"system\" + 0.059*\",\" + 0.057*\"and\" + 0.026*\"-\" + 0.025*\"to\" + 0.020*\"time\" + 0.019*\"is\" + 0.019*\"user\" + 0.018*\"in\" + 0.018*\"data\"\n",
      "2021-02-15 20:24:25,198 : INFO : topic #54 (0.038): 0.379*\"(\" + 0.359*\")\" + 0.184*\"algorithm\" + 0.021*\"-\" + 0.019*\"function\" + 0.009*\"t\" + 0.008*\"s14\" + 0.007*\"q\" + 0.004*\"probabl\" + 0.003*\"f\"\n",
      "2021-02-15 20:24:25,199 : INFO : topic diff=0.239095, rho=0.253169\n",
      "2021-02-15 20:24:26,743 : INFO : -6.349 per-word bound, 81.5 perplexity estimate based on a held-out corpus of 1204 documents with 79462 words\n",
      "2021-02-15 20:24:26,744 : INFO : PROGRESS: pass 13, at document #3204/3204\n"
     ]
    },
    {
     "ename": "KeyboardInterrupt",
     "evalue": "",
     "output_type": "error",
     "traceback": [
      "\u001b[1;31m---------------------------------------------------------------------------\u001b[0m",
      "\u001b[1;31mKeyboardInterrupt\u001b[0m                         Traceback (most recent call last)",
      "\u001b[1;32m<ipython-input-85-bf75ba619448>\u001b[0m in \u001b[0;36m<module>\u001b[1;34m\u001b[0m\n\u001b[0;32m      1\u001b[0m \u001b[1;31m##### Function check\u001b[0m\u001b[1;33m\u001b[0m\u001b[1;33m\u001b[0m\u001b[1;33m\u001b[0m\u001b[0m\n\u001b[0;32m      2\u001b[0m \u001b[0mlda\u001b[0m \u001b[1;33m=\u001b[0m \u001b[0mLdaRetrievalModel\u001b[0m\u001b[1;33m(\u001b[0m\u001b[0mdoc_repr_2\u001b[0m\u001b[1;33m)\u001b[0m\u001b[1;33m\u001b[0m\u001b[1;33m\u001b[0m\u001b[0m\n\u001b[1;32m----> 3\u001b[1;33m \u001b[0mlda\u001b[0m\u001b[1;33m.\u001b[0m\u001b[0mtrain_model\u001b[0m\u001b[1;33m(\u001b[0m\u001b[1;33m)\u001b[0m\u001b[1;33m\u001b[0m\u001b[1;33m\u001b[0m\u001b[0m\n\u001b[0m\u001b[0;32m      4\u001b[0m \u001b[1;33m\u001b[0m\u001b[0m\n\u001b[0;32m      5\u001b[0m \u001b[1;31m# you can now get an LDA vector for a given query in the following way:\u001b[0m\u001b[1;33m\u001b[0m\u001b[1;33m\u001b[0m\u001b[1;33m\u001b[0m\u001b[0m\n",
      "\u001b[1;32m<ipython-input-84-2a669d0288b6>\u001b[0m in \u001b[0;36mtrain_model\u001b[1;34m(self)\u001b[0m\n\u001b[0;32m     18\u001b[0m     \u001b[1;32mdef\u001b[0m \u001b[0mtrain_model\u001b[0m\u001b[1;33m(\u001b[0m\u001b[0mself\u001b[0m\u001b[1;33m)\u001b[0m\u001b[1;33m:\u001b[0m\u001b[1;33m\u001b[0m\u001b[1;33m\u001b[0m\u001b[0m\n\u001b[0;32m     19\u001b[0m         \u001b[1;31m# YOUR CODE HERE\u001b[0m\u001b[1;33m\u001b[0m\u001b[1;33m\u001b[0m\u001b[1;33m\u001b[0m\u001b[0m\n\u001b[1;32m---> 20\u001b[1;33m         self.model = LdaModel(self.corpus, num_topics = self.num_topics, chunksize = self.chunksize, id2word = self.id2word,\n\u001b[0m\u001b[0;32m     21\u001b[0m                               \u001b[0mpasses\u001b[0m \u001b[1;33m=\u001b[0m \u001b[0mself\u001b[0m\u001b[1;33m.\u001b[0m\u001b[0mpasses\u001b[0m\u001b[1;33m,\u001b[0m \u001b[0miterations\u001b[0m \u001b[1;33m=\u001b[0m \u001b[0mself\u001b[0m\u001b[1;33m.\u001b[0m\u001b[0miterations\u001b[0m\u001b[1;33m,\u001b[0m \u001b[0meval_every\u001b[0m \u001b[1;33m=\u001b[0m \u001b[0mself\u001b[0m\u001b[1;33m.\u001b[0m\u001b[0meval_every\u001b[0m\u001b[1;33m,\u001b[0m\u001b[1;33m\u001b[0m\u001b[1;33m\u001b[0m\u001b[0m\n\u001b[0;32m     22\u001b[0m                               minimum_probability = self.minimum_probability, alpha = self.alpha, eta = self.eta)\n",
      "\u001b[1;32m~\\anaconda3\\lib\\site-packages\\gensim\\models\\ldamodel.py\u001b[0m in \u001b[0;36m__init__\u001b[1;34m(self, corpus, num_topics, id2word, distributed, chunksize, passes, update_every, alpha, eta, decay, offset, eval_every, iterations, gamma_threshold, minimum_probability, random_state, ns_conf, minimum_phi_value, per_word_topics, callbacks, dtype)\u001b[0m\n\u001b[0;32m    517\u001b[0m         \u001b[1;32mif\u001b[0m \u001b[0mcorpus\u001b[0m \u001b[1;32mis\u001b[0m \u001b[1;32mnot\u001b[0m \u001b[1;32mNone\u001b[0m\u001b[1;33m:\u001b[0m\u001b[1;33m\u001b[0m\u001b[1;33m\u001b[0m\u001b[0m\n\u001b[0;32m    518\u001b[0m             \u001b[0muse_numpy\u001b[0m \u001b[1;33m=\u001b[0m \u001b[0mself\u001b[0m\u001b[1;33m.\u001b[0m\u001b[0mdispatcher\u001b[0m \u001b[1;32mis\u001b[0m \u001b[1;32mnot\u001b[0m \u001b[1;32mNone\u001b[0m\u001b[1;33m\u001b[0m\u001b[1;33m\u001b[0m\u001b[0m\n\u001b[1;32m--> 519\u001b[1;33m             \u001b[0mself\u001b[0m\u001b[1;33m.\u001b[0m\u001b[0mupdate\u001b[0m\u001b[1;33m(\u001b[0m\u001b[0mcorpus\u001b[0m\u001b[1;33m,\u001b[0m \u001b[0mchunks_as_numpy\u001b[0m\u001b[1;33m=\u001b[0m\u001b[0muse_numpy\u001b[0m\u001b[1;33m)\u001b[0m\u001b[1;33m\u001b[0m\u001b[1;33m\u001b[0m\u001b[0m\n\u001b[0m\u001b[0;32m    520\u001b[0m \u001b[1;33m\u001b[0m\u001b[0m\n\u001b[0;32m    521\u001b[0m     \u001b[1;32mdef\u001b[0m \u001b[0minit_dir_prior\u001b[0m\u001b[1;33m(\u001b[0m\u001b[0mself\u001b[0m\u001b[1;33m,\u001b[0m \u001b[0mprior\u001b[0m\u001b[1;33m,\u001b[0m \u001b[0mname\u001b[0m\u001b[1;33m)\u001b[0m\u001b[1;33m:\u001b[0m\u001b[1;33m\u001b[0m\u001b[1;33m\u001b[0m\u001b[0m\n",
      "\u001b[1;32m~\\anaconda3\\lib\\site-packages\\gensim\\models\\ldamodel.py\u001b[0m in \u001b[0;36mupdate\u001b[1;34m(self, corpus, chunksize, decay, offset, passes, update_every, eval_every, iterations, gamma_threshold, chunks_as_numpy)\u001b[0m\n\u001b[0;32m    978\u001b[0m                         \u001b[0mpass_\u001b[0m\u001b[1;33m,\u001b[0m \u001b[0mchunk_no\u001b[0m \u001b[1;33m*\u001b[0m \u001b[0mchunksize\u001b[0m \u001b[1;33m+\u001b[0m \u001b[0mlen\u001b[0m\u001b[1;33m(\u001b[0m\u001b[0mchunk\u001b[0m\u001b[1;33m)\u001b[0m\u001b[1;33m,\u001b[0m \u001b[0mlencorpus\u001b[0m\u001b[1;33m\u001b[0m\u001b[1;33m\u001b[0m\u001b[0m\n\u001b[0;32m    979\u001b[0m                     )\n\u001b[1;32m--> 980\u001b[1;33m                     \u001b[0mgammat\u001b[0m \u001b[1;33m=\u001b[0m \u001b[0mself\u001b[0m\u001b[1;33m.\u001b[0m\u001b[0mdo_estep\u001b[0m\u001b[1;33m(\u001b[0m\u001b[0mchunk\u001b[0m\u001b[1;33m,\u001b[0m \u001b[0mother\u001b[0m\u001b[1;33m)\u001b[0m\u001b[1;33m\u001b[0m\u001b[1;33m\u001b[0m\u001b[0m\n\u001b[0m\u001b[0;32m    981\u001b[0m \u001b[1;33m\u001b[0m\u001b[0m\n\u001b[0;32m    982\u001b[0m                     \u001b[1;32mif\u001b[0m \u001b[0mself\u001b[0m\u001b[1;33m.\u001b[0m\u001b[0moptimize_alpha\u001b[0m\u001b[1;33m:\u001b[0m\u001b[1;33m\u001b[0m\u001b[1;33m\u001b[0m\u001b[0m\n",
      "\u001b[1;32m~\\anaconda3\\lib\\site-packages\\gensim\\models\\ldamodel.py\u001b[0m in \u001b[0;36mdo_estep\u001b[1;34m(self, chunk, state)\u001b[0m\n\u001b[0;32m    740\u001b[0m         \u001b[1;32mif\u001b[0m \u001b[0mstate\u001b[0m \u001b[1;32mis\u001b[0m \u001b[1;32mNone\u001b[0m\u001b[1;33m:\u001b[0m\u001b[1;33m\u001b[0m\u001b[1;33m\u001b[0m\u001b[0m\n\u001b[0;32m    741\u001b[0m             \u001b[0mstate\u001b[0m \u001b[1;33m=\u001b[0m \u001b[0mself\u001b[0m\u001b[1;33m.\u001b[0m\u001b[0mstate\u001b[0m\u001b[1;33m\u001b[0m\u001b[1;33m\u001b[0m\u001b[0m\n\u001b[1;32m--> 742\u001b[1;33m         \u001b[0mgamma\u001b[0m\u001b[1;33m,\u001b[0m \u001b[0msstats\u001b[0m \u001b[1;33m=\u001b[0m \u001b[0mself\u001b[0m\u001b[1;33m.\u001b[0m\u001b[0minference\u001b[0m\u001b[1;33m(\u001b[0m\u001b[0mchunk\u001b[0m\u001b[1;33m,\u001b[0m \u001b[0mcollect_sstats\u001b[0m\u001b[1;33m=\u001b[0m\u001b[1;32mTrue\u001b[0m\u001b[1;33m)\u001b[0m\u001b[1;33m\u001b[0m\u001b[1;33m\u001b[0m\u001b[0m\n\u001b[0m\u001b[0;32m    743\u001b[0m         \u001b[0mstate\u001b[0m\u001b[1;33m.\u001b[0m\u001b[0msstats\u001b[0m \u001b[1;33m+=\u001b[0m \u001b[0msstats\u001b[0m\u001b[1;33m\u001b[0m\u001b[1;33m\u001b[0m\u001b[0m\n\u001b[0;32m    744\u001b[0m         \u001b[0mstate\u001b[0m\u001b[1;33m.\u001b[0m\u001b[0mnumdocs\u001b[0m \u001b[1;33m+=\u001b[0m \u001b[0mgamma\u001b[0m\u001b[1;33m.\u001b[0m\u001b[0mshape\u001b[0m\u001b[1;33m[\u001b[0m\u001b[1;36m0\u001b[0m\u001b[1;33m]\u001b[0m  \u001b[1;31m# avoids calling len(chunk) on a generator\u001b[0m\u001b[1;33m\u001b[0m\u001b[1;33m\u001b[0m\u001b[0m\n",
      "\u001b[1;32m~\\anaconda3\\lib\\site-packages\\gensim\\models\\ldamodel.py\u001b[0m in \u001b[0;36minference\u001b[1;34m(self, chunk, collect_sstats)\u001b[0m\n\u001b[0;32m    694\u001b[0m                 \u001b[0mElogthetad\u001b[0m \u001b[1;33m=\u001b[0m \u001b[0mdirichlet_expectation\u001b[0m\u001b[1;33m(\u001b[0m\u001b[0mgammad\u001b[0m\u001b[1;33m)\u001b[0m\u001b[1;33m\u001b[0m\u001b[1;33m\u001b[0m\u001b[0m\n\u001b[0;32m    695\u001b[0m                 \u001b[0mexpElogthetad\u001b[0m \u001b[1;33m=\u001b[0m \u001b[0mnp\u001b[0m\u001b[1;33m.\u001b[0m\u001b[0mexp\u001b[0m\u001b[1;33m(\u001b[0m\u001b[0mElogthetad\u001b[0m\u001b[1;33m)\u001b[0m\u001b[1;33m\u001b[0m\u001b[1;33m\u001b[0m\u001b[0m\n\u001b[1;32m--> 696\u001b[1;33m                 \u001b[0mphinorm\u001b[0m \u001b[1;33m=\u001b[0m \u001b[0mnp\u001b[0m\u001b[1;33m.\u001b[0m\u001b[0mdot\u001b[0m\u001b[1;33m(\u001b[0m\u001b[0mexpElogthetad\u001b[0m\u001b[1;33m,\u001b[0m \u001b[0mexpElogbetad\u001b[0m\u001b[1;33m)\u001b[0m \u001b[1;33m+\u001b[0m \u001b[0mepsilon\u001b[0m\u001b[1;33m\u001b[0m\u001b[1;33m\u001b[0m\u001b[0m\n\u001b[0m\u001b[0;32m    697\u001b[0m                 \u001b[1;31m# If gamma hasn't changed much, we're done.\u001b[0m\u001b[1;33m\u001b[0m\u001b[1;33m\u001b[0m\u001b[1;33m\u001b[0m\u001b[0m\n\u001b[0;32m    698\u001b[0m                 \u001b[0mmeanchange\u001b[0m \u001b[1;33m=\u001b[0m \u001b[0mmean_absolute_difference\u001b[0m\u001b[1;33m(\u001b[0m\u001b[0mgammad\u001b[0m\u001b[1;33m,\u001b[0m \u001b[0mlastgamma\u001b[0m\u001b[1;33m)\u001b[0m\u001b[1;33m\u001b[0m\u001b[1;33m\u001b[0m\u001b[0m\n",
      "\u001b[1;32m<__array_function__ internals>\u001b[0m in \u001b[0;36mdot\u001b[1;34m(*args, **kwargs)\u001b[0m\n",
      "\u001b[1;31mKeyboardInterrupt\u001b[0m: "
     ]
    }
   ],
   "source": [
    "##### Function check\n",
    "lda = LdaRetrievalModel(doc_repr_2)\n",
    "lda.train_model()\n",
    "\n",
    "# you can now get an LDA vector for a given query in the following way:\n",
    "lda.vectorize_query(\"report\")\n",
    "##### "
   ]
  },
  {
   "cell_type": "markdown",
   "metadata": {
    "deletable": false,
    "editable": false,
    "id": "Ytw2BnNn4IWu",
    "nbgrader": {
     "cell_type": "markdown",
     "checksum": "32d83b6ea79ca3ddb789a7f8805a1b25",
     "grade": false,
     "grade_id": "cell-0e24b727d5908c0e",
     "locked": true,
     "points": 5,
     "schema_version": 3,
     "solution": false,
     "task": true
    }
   },
   "source": [
    "\\#### Please do not change this. This cell is used for grading."
   ]
  },
  {
   "cell_type": "markdown",
   "metadata": {
    "deletable": false,
    "editable": false,
    "id": "PqZBboVz4IWu",
    "nbgrader": {
     "cell_type": "markdown",
     "checksum": "114a934f0b9ce696e6cf09d3b8da6a3d",
     "grade": false,
     "grade_id": "cell-b1bffcb970b18aeb",
     "locked": true,
     "schema_version": 3,
     "solution": false,
     "task": false
    }
   },
   "source": [
    "---\n",
    "Now we can use the `DenseRetrievalModel` class to obtain an LDA search function.\n",
    "You can test your LDA model in the following cell: Try finding queries which are lexically different to documents, but semantically similar - does LDA work well for these queries?!"
   ]
  },
  {
   "cell_type": "code",
   "execution_count": null,
   "metadata": {
    "ExecuteTime": {
     "end_time": "2021-02-15T19:24:28.126298Z",
     "start_time": "2021-02-15T19:21:57.925Z"
    },
    "id": "TnPkNnQb4IWu"
   },
   "outputs": [],
   "source": [
    "drm_lda = DenseRetrievalRanker(lda, jenson_shannon_sim)\n",
    "\n",
    "# test your LDA model\n",
    "search_fn = drm_lda.search\n",
    "\n",
    "text = widgets.Text(description=\"Search Bar\", width=200)\n",
    "display(text)\n",
    "\n",
    "\n",
    "text.on_submit(handle_submit_2)"
   ]
  },
  {
   "cell_type": "markdown",
   "metadata": {
    "deletable": false,
    "editable": false,
    "id": "xa0oM-SP4IWu",
    "nbgrader": {
     "cell_type": "markdown",
     "checksum": "9d7f15863b655119b45f4d89354e5661",
     "grade": false,
     "grade_id": "cell-190cd0854b2791cc",
     "locked": true,
     "schema_version": 3,
     "solution": false,
     "task": false
    }
   },
   "source": [
    "## Section 8: Word2Vec/Doc2Vec (20 points) <a class=\"anchor\" id=\"2vec\"></a>\n",
    "\n",
    "[Back to Part 2](#part2)\n",
    "\n",
    "We will implement two other methods here, the Word2Vec model and the Doc2Vec model, also using `gensim`. Word2Vec creates representations of words, not documents, so the word level vectors need to be aggregated to obtain a representation for the document. Here, we will simply take the mean of the vectors. \n",
    "\n",
    "\n",
    "A drawback of these models is that they need a lot of training data. Our dataset is tiny, so in addition to using a model trained on the data, we will also use a pre-trained model for Word2Vec (this will be automatically downloaded).     \n",
    "\n",
    "*Note*:\n",
    "1. The code in vectorize_documents / vectorize_query should return gensim-like vectors i.e `[(dim, val), .. (dim, val)]`. \n",
    "2. For Word2Vec: You should also handle the following two cases: (a) A word in the query is not present in the vocabulary of the model and (b) none of the words in the query are present in the model - you can return 0 scores for all documents in this case. For either of these, you can check if a `word` is present in the vocab by using `word in self.model`\n"
   ]
  },
  {
   "cell_type": "code",
   "execution_count": null,
   "metadata": {
    "ExecuteTime": {
     "end_time": "2021-02-15T19:24:28.127295Z",
     "start_time": "2021-02-15T19:21:57.928Z"
    },
    "deletable": false,
    "id": "gPHOpyp34IWu",
    "nbgrader": {
     "cell_type": "code",
     "checksum": "83ab733608ed14c29c09b36b4e1b6daa",
     "grade": false,
     "grade_id": "cell-2b73759f9baf688f",
     "locked": false,
     "schema_version": 3,
     "solution": true,
     "task": false
    }
   },
   "outputs": [],
   "source": [
    "# TODO: Implement this! (10 points)\n",
    "class W2VRetrievalModel(VectorSpaceRetrievalModel):\n",
    "    def __init__(self, doc_repr):\n",
    "        super().__init__(doc_repr)\n",
    "        \n",
    "        # the dimensionality of the vectors\n",
    "        self.size = 100 \n",
    "        self.min_count = 1\n",
    "    \n",
    "    def train_model(self):\n",
    "        \"\"\"\n",
    "        Trains the W2V model\n",
    "        \"\"\"\n",
    "        # YOUR CODE HERE\n",
    "        self.model = Word2Vec(self.documents, size=self.size, min_count=self.min_count) \n",
    "        \n",
    "    def vectorize_documents(self):\n",
    "        \"\"\"\n",
    "            Returns a doc_id -> vector dictionary\n",
    "        \"\"\"\n",
    "        # YOUR CODE HERE\n",
    "        vectors = {}\n",
    "        for (doc_id, doc) in self.doc_repr:\n",
    "            accum_vecs = []\n",
    "            for token in doc:\n",
    "                if token in self.model:\n",
    "                    accum_vecs.append(self.model[token])\n",
    "\n",
    "            aggregated_vec = np.mean(accum_vecs, axis=0)\n",
    "            if not accum_vecs:\n",
    "                vectors[doc_id] = list(zip(range(self.size), self.size * [0]))\n",
    "            else:\n",
    "                vectors[doc_id] = list(zip(range(self.size), aggregated_vec))\n",
    "        return vectors\n",
    "\n",
    "    def vectorize_query(self, query):\n",
    "        \"\"\"\n",
    "        Vectorizes the query using the W2V model\n",
    "        \"\"\"\n",
    "        query = process_text(query, **config_2)\n",
    "        # YOUR CODE HERE\n",
    "        accum_vecs = []\n",
    "        for token in query:\n",
    "            if token in self.model:\n",
    "                accum_vecs.append(self.model[token])\n",
    "        aggregated_vec = np.mean(accum_vecs, axis=0)\n",
    "    \n",
    "        # If no tokens are in the model\n",
    "        if not accum_vecs:\n",
    "            return list(zip(range(self.size), self.size * [0]))\n",
    "        else:\n",
    "            return list(zip(range(self.size), aggregated_vec))\n",
    "    \n",
    "    \n",
    "class W2VPretrainedRetrievalModel(W2VRetrievalModel):\n",
    "    def __init__(self, doc_repr):\n",
    "        super().__init__(doc_repr)\n",
    "        self.model_name = \"word2vec-google-news-300\"\n",
    "        self.size = 300\n",
    "    \n",
    "    def train_model(self):\n",
    "        \"\"\"\n",
    "        Loads the pretrained model\n",
    "        \"\"\"\n",
    "        self.model = g_downloader.load(self.model_name)\n",
    "\n",
    "w2v = W2VRetrievalModel(doc_repr_2)\n",
    "w2v.train_model()\n",
    "\n",
    "# you can now get a W2V vector for a given query in the following way:\n",
    "w2v.vectorize_query(\"report\")"
   ]
  },
  {
   "cell_type": "code",
   "execution_count": null,
   "metadata": {
    "ExecuteTime": {
     "end_time": "2021-02-15T19:24:28.128293Z",
     "start_time": "2021-02-15T19:21:57.931Z"
    },
    "deletable": false,
    "editable": false,
    "id": "ATy5tnMV4IWv",
    "nbgrader": {
     "cell_type": "code",
     "checksum": "f92b5c5a8c6c4b80652b94223209ab0b",
     "grade": true,
     "grade_id": "cell-b31c0f8d214b8bdf",
     "locked": true,
     "points": 0,
     "schema_version": 3,
     "solution": false,
     "task": false
    }
   },
   "outputs": [],
   "source": [
    "assert len(w2v.vectorize_query(\"report\")) == 100\n",
    "assert len(w2v.vectorize_query(\"this is a sentence that is not mellifluous\")) == 100\n"
   ]
  },
  {
   "cell_type": "markdown",
   "metadata": {
    "deletable": false,
    "editable": false,
    "id": "lP0VtCid4IWv",
    "nbgrader": {
     "cell_type": "markdown",
     "checksum": "8dfaabebcb06f308a7ca61fdc5d369e7",
     "grade": false,
     "grade_id": "cell-c2614fa067386384",
     "locked": true,
     "points": 8,
     "schema_version": 3,
     "solution": false,
     "task": true
    }
   },
   "source": [
    "\\#### Please do not change this. This cell is used for grading."
   ]
  },
  {
   "cell_type": "code",
   "execution_count": null,
   "metadata": {
    "ExecuteTime": {
     "end_time": "2021-02-15T19:24:28.129290Z",
     "start_time": "2021-02-15T19:21:57.934Z"
    },
    "id": "-aeBam5p4IWv"
   },
   "outputs": [],
   "source": [
    "w2v_pretrained = W2VPretrainedRetrievalModel(doc_repr_2)\n",
    "w2v_pretrained.train_model()\n",
    "\n",
    "# you can now get an W2V vector for a given query in the following way:\n",
    "w2v_pretrained.vectorize_query(\"report\")"
   ]
  },
  {
   "cell_type": "code",
   "execution_count": null,
   "metadata": {
    "ExecuteTime": {
     "end_time": "2021-02-15T19:24:28.129290Z",
     "start_time": "2021-02-15T19:21:57.936Z"
    },
    "deletable": false,
    "editable": false,
    "id": "_0ifhcln4IWv",
    "nbgrader": {
     "cell_type": "code",
     "checksum": "0822845afb5eafe5ddb1ffeaa4f4942a",
     "grade": true,
     "grade_id": "cell-1b1466f8ce516f42",
     "locked": true,
     "points": 2,
     "schema_version": 3,
     "solution": false,
     "task": false
    }
   },
   "outputs": [],
   "source": [
    "##### Function check\n",
    "\n",
    "print(len(w2v_pretrained.vectorize_query(\"report\")))\n",
    "#####"
   ]
  },
  {
   "cell_type": "code",
   "execution_count": null,
   "metadata": {
    "ExecuteTime": {
     "end_time": "2021-02-15T19:24:28.130287Z",
     "start_time": "2021-02-15T19:21:57.938Z"
    },
    "id": "VCpO-xcU4IWv"
   },
   "outputs": [],
   "source": [
    "drm_w2v = DenseRetrievalRanker(w2v, cosine_sim)\n",
    "\n",
    "# test your LDA model\n",
    "search_fn = drm_w2v.search\n",
    "\n",
    "text = widgets.Text(description=\"Search Bar\", width=200)\n",
    "display(text)\n",
    "\n",
    "\n",
    "text.on_submit(handle_submit_2)"
   ]
  },
  {
   "cell_type": "code",
   "execution_count": null,
   "metadata": {
    "ExecuteTime": {
     "end_time": "2021-02-15T19:24:28.131285Z",
     "start_time": "2021-02-15T19:21:57.940Z"
    },
    "id": "7wyn-qfY4IWv"
   },
   "outputs": [],
   "source": [
    "drm_w2v_pretrained = DenseRetrievalRanker(w2v_pretrained, cosine_sim)\n",
    "\n",
    "# test your LDA model\n",
    "search_fn = drm_w2v_pretrained.search\n",
    "\n",
    "text = widgets.Text(description=\"Search Bar\", width=200)\n",
    "display(text)\n",
    "\n",
    "\n",
    "text.on_submit(handle_submit_2)"
   ]
  },
  {
   "cell_type": "markdown",
   "metadata": {
    "deletable": false,
    "editable": false,
    "id": "giJFuUld4IWv",
    "nbgrader": {
     "cell_type": "markdown",
     "checksum": "51b778984fd60757974f51047c61eb15",
     "grade": false,
     "grade_id": "cell-b92f701cbc706108",
     "locked": true,
     "schema_version": 3,
     "solution": false,
     "task": false
    }
   },
   "source": [
    "**Implementation (10 points):**\n",
    "For Doc2Vec, you will need to create a list of `TaggedDocument` instead of using the `self.corpus` or `self.documents` variable. Use the document id as the 'tag'.\n",
    "  "
   ]
  },
  {
   "cell_type": "code",
   "execution_count": null,
   "metadata": {
    "ExecuteTime": {
     "end_time": "2021-02-15T19:24:28.131285Z",
     "start_time": "2021-02-15T19:21:57.943Z"
    },
    "deletable": false,
    "id": "_Ie4aqXa4IWw",
    "nbgrader": {
     "cell_type": "code",
     "checksum": "1f60fdeb97febb7f4a6fd5bf109aac20",
     "grade": false,
     "grade_id": "cell-680facdcc98a19ab",
     "locked": false,
     "schema_version": 3,
     "solution": true,
     "task": false
    },
    "tags": []
   },
   "outputs": [],
   "source": [
    "# TODO: Implement this! (10 points)\n",
    "class D2VRetrievalModel(VectorSpaceRetrievalModel):\n",
    "    def __init__(self, doc_repr):\n",
    "        super().__init__(doc_repr)\n",
    "        \n",
    "        self.vector_size= 100\n",
    "        self.min_count = 1\n",
    "        self.epochs = 20\n",
    "        \n",
    "        # YOUR CODE HERE\n",
    "        self.tagged_docs = [TaggedDocument(doc, [int(doc_id)]) for doc_id, doc in self.doc_repr]\n",
    "\n",
    "    def train_model(self):\n",
    "        # YOUR CODE HERE\n",
    "        self.model = Doc2Vec(self.tagged_docs, vector_size=self.vector_size, min_count=self.min_count, epochs=self.epochs)\n",
    "    \n",
    "    def vectorize_documents(self):\n",
    "        \"\"\"\n",
    "            Returns a doc_id -> vector dictionary\n",
    "        \"\"\"\n",
    "        # YOUR CODE HERE\n",
    "        vectors = {}\n",
    "        for (doc_id, _) in self.doc_repr:\n",
    "            vectors[doc_id] = list(zip(range(self.vector_size), self.model[int(doc_id)]))\n",
    "        return vectors\n",
    "\n",
    "    def vectorize_query(self, query): \n",
    "        query = process_text(query, **config_2)\n",
    "        # YOUR CODE HERE\n",
    "        # Here we just infer the vector for the query.\n",
    "        return list(zip(range(self.vector_size), self.model.infer_vector(query)))\n",
    "        \n",
    "d2v = D2VRetrievalModel(doc_repr_2)\n",
    "d2v.train_model()\n",
    "\n",
    "\n",
    "# # you can now get an LSI vector for a given query in the following way:\n",
    "d2v.vectorize_query(\"report\")"
   ]
  },
  {
   "cell_type": "code",
   "execution_count": null,
   "metadata": {
    "ExecuteTime": {
     "end_time": "2021-02-15T19:24:28.132281Z",
     "start_time": "2021-02-15T19:21:57.946Z"
    },
    "deletable": false,
    "editable": false,
    "id": "PES2gma44IWw",
    "nbgrader": {
     "cell_type": "code",
     "checksum": "e83a363a9d4f136efbdde1426a83925e",
     "grade": true,
     "grade_id": "cell-5e2c5e0c9a2e8cb5",
     "locked": true,
     "points": 0,
     "schema_version": 3,
     "solution": false,
     "task": false
    }
   },
   "outputs": [],
   "source": [
    "#### Please do not change this. This cell is used for grading."
   ]
  },
  {
   "cell_type": "markdown",
   "metadata": {
    "deletable": false,
    "editable": false,
    "id": "uCHYfnTf4IWw",
    "nbgrader": {
     "cell_type": "markdown",
     "checksum": "5bb46bf6b9be1e0ca66f0b0bc6260ecb",
     "grade": false,
     "grade_id": "cell-8a49d414f798a595",
     "locked": true,
     "points": 10,
     "schema_version": 3,
     "solution": false,
     "task": true
    }
   },
   "source": [
    "\\#### Please do not change this. This cell is used for grading."
   ]
  },
  {
   "cell_type": "code",
   "execution_count": null,
   "metadata": {
    "ExecuteTime": {
     "end_time": "2021-02-15T19:24:28.133279Z",
     "start_time": "2021-02-15T19:21:57.948Z"
    },
    "id": "eceopG-Y4IWw",
    "tags": []
   },
   "outputs": [],
   "source": [
    "drm_d2v = DenseRetrievalRanker(d2v, cosine_sim)\n",
    "\n",
    "# test your LDA model\n",
    "search_fn = drm_d2v.search\n",
    "\n",
    "text = widgets.Text(description=\"Search Bar\", width=200)\n",
    "display(text)\n",
    "\n",
    "\n",
    "text.on_submit(handle_submit_2)"
   ]
  },
  {
   "cell_type": "markdown",
   "metadata": {
    "deletable": false,
    "editable": false,
    "id": "uJBmD00Y4IWw",
    "nbgrader": {
     "cell_type": "markdown",
     "checksum": "363ec36c1d03d9f9e1c2045a6e193c14",
     "grade": false,
     "grade_id": "cell-3529ae29eece7b97",
     "locked": true,
     "schema_version": 3,
     "solution": false,
     "task": false
    }
   },
   "source": [
    "---\n",
    "## Section 9: Re-ranking (10 points) <a class=\"anchor\" id=\"reranking\"></a>\n",
    "\n",
    "[Back to Part 2](#part2)\n",
    "\n",
    "To motivate the re-ranking perspective (i.e retrieve with lexical method + rerank with a semantic method), let's search using semantic methods and compare it to BM25's performance, along with their runtime:\n"
   ]
  },
  {
   "cell_type": "code",
   "execution_count": null,
   "metadata": {
    "ExecuteTime": {
     "end_time": "2021-02-15T19:24:28.134277Z",
     "start_time": "2021-02-15T19:21:57.951Z"
    },
    "deletable": false,
    "editable": false,
    "id": "iO8Q3KWc4IWw",
    "nbgrader": {
     "cell_type": "code",
     "checksum": "5755f70e3eb28abc65d14d80125338af",
     "grade": false,
     "grade_id": "cell-f8f43bf5ae383128",
     "locked": true,
     "schema_version": 3,
     "solution": false,
     "task": false
    }
   },
   "outputs": [],
   "source": [
    "query = \"algebraic functions\"\n",
    "print(\"BM25: \")\n",
    "%timeit bm25_search(query, 2)\n",
    "print(\"LSI: \")\n",
    "%timeit drm_lsi.search(query)\n",
    "print(\"LDA: \")\n",
    "%timeit drm_lda.search(query)\n",
    "print(\"W2V: \")\n",
    "%timeit drm_w2v.search(query)\n",
    "print(\"W2V(Pretrained): \")\n",
    "%timeit drm_w2v_pretrained.search(query)\n",
    "print(\"D2V:\")\n",
    "%timeit drm_d2v.search(query)"
   ]
  },
  {
   "cell_type": "markdown",
   "metadata": {
    "deletable": false,
    "editable": false,
    "id": "oBnOArQC4IWx",
    "nbgrader": {
     "cell_type": "markdown",
     "checksum": "ae398da0a8c23c95bcbb0023b7ec6f34",
     "grade": false,
     "grade_id": "cell-db5ff09f97841af7",
     "locked": true,
     "schema_version": 3,
     "solution": false,
     "task": false
    }
   },
   "source": [
    "---\n",
    "\n",
    "**Implementation (10 points):**\n",
    "Re-ranking involves retrieving a small set of documents using simple but fast methods like BM25 and then re-ranking them with the aid of semantic methods such as LDA or LSI. Implement the following class, which takes in an `initial_retrieval_fn` - the initial retrieval function and `vsrm` - an instance of the `VectorSpaceRetrievalModel` class (i.e LSI/LDA) as input. The search function should first retrieve an initial list of K documents, and then these documents are re-ranked using a semantic method. This not only makes retrieval faster, but semantic methods perform poorly when used in isolation, as you will find out."
   ]
  },
  {
   "cell_type": "code",
   "execution_count": null,
   "metadata": {
    "ExecuteTime": {
     "end_time": "2021-02-15T19:24:28.135274Z",
     "start_time": "2021-02-15T19:21:57.954Z"
    },
    "deletable": false,
    "id": "Uxl8iQ1q4IWx",
    "nbgrader": {
     "cell_type": "code",
     "checksum": "63b6b05a676a2ae3f08d8bed1bc59428",
     "grade": false,
     "grade_id": "cell-5bf47600d1a0c507",
     "locked": false,
     "schema_version": 3,
     "solution": true,
     "task": false
    }
   },
   "outputs": [],
   "source": [
    "# TODO: Implement this! (10 points)\n",
    "class DenseRerankingModel:\n",
    "    def __init__(self, initial_retrieval_fn, vsrm, similarity_fn):\n",
    "        \"\"\"\n",
    "            initial_retrieval_fn: takes in a query and returns a list of [(doc_id, score)] (sorted)\n",
    "            vsrm: instance of `VectorSpaceRetrievalModel`\n",
    "            similarity_fn: function instance that takes in two vectors \n",
    "                            and returns a similarity score e.g cosine_sim defined earlier\n",
    "        \"\"\"\n",
    "        self.ret = initial_retrieval_fn\n",
    "        self.vsrm = vsrm\n",
    "        self.similarity_fn = similarity_fn\n",
    "        self.vectorized_documents = vsrm.vectorize_documents()\n",
    "        \n",
    "        assert len(self.vectorized_documents) == len(doc_repr_2)\n",
    "    \n",
    "    def search(self, query, K=50):\n",
    "        \"\"\"\n",
    "            First, retrieve the top K results using the retrieval function\n",
    "            Then, re-rank the results using the VSRM instance\n",
    "        \"\"\"\n",
    "        # YOUR CODE HERE\n",
    "        init_ranking = self.ret(query)[:K]\n",
    "        doc_ids_init_ranking = [rank[0] for rank in init_ranking]\n",
    "        rerank_docs = {}\n",
    "        for doc_id in doc_ids_init_ranking:\n",
    "            rerank_docs[doc_id] = self.vectorized_documents[doc_id]\n",
    "        \n",
    "        rerank_results = []\n",
    "        query_vector = self.vsrm.vectorize_query(query)\n",
    "        for key, doc_vector in rerank_docs.items():\n",
    "            score = self.similarity_fn(doc_vector, query_vector)\n",
    "            rerank_results.append((key,score))               \n",
    "\n",
    "        rerank_results.sort(key=lambda _:-_[1])\n",
    "\n",
    "        return rerank_results"
   ]
  },
  {
   "cell_type": "code",
   "execution_count": null,
   "metadata": {
    "ExecuteTime": {
     "end_time": "2021-02-15T19:24:28.135274Z",
     "start_time": "2021-02-15T19:21:57.956Z"
    },
    "deletable": false,
    "editable": false,
    "id": "rNBMLq3T4IWx",
    "nbgrader": {
     "cell_type": "code",
     "checksum": "334ab5af96976265cace682ab82a7387",
     "grade": true,
     "grade_id": "cell-52c6d18a4c0b4882",
     "locked": true,
     "points": 0,
     "schema_version": 3,
     "solution": false,
     "task": false
    }
   },
   "outputs": [],
   "source": [
    "##### Function check\n",
    "bm25_search_2 = partial(bm25_search, index_set=2)\n",
    "lsi_rerank = DenseRerankingModel(bm25_search_2, lsi, cosine_sim)\n",
    "lda_rerank = DenseRerankingModel(bm25_search_2, lda, jenson_shannon_sim)\n",
    "w2v_rerank = DenseRerankingModel(bm25_search_2, w2v, cosine_sim)\n",
    "w2v_pretrained_rerank = DenseRerankingModel(bm25_search_2, w2v_pretrained, cosine_sim)\n",
    "d2v_rerank = DenseRerankingModel(bm25_search_2, d2v, cosine_sim)\n",
    "\n",
    "##### "
   ]
  },
  {
   "cell_type": "markdown",
   "metadata": {
    "deletable": false,
    "editable": false,
    "id": "LPYGMblR4IWx",
    "nbgrader": {
     "cell_type": "markdown",
     "checksum": "bd904253f45f84e63bab3a69729058fc",
     "grade": false,
     "grade_id": "cell-93215dfe6bcf7cff",
     "locked": true,
     "points": 10,
     "schema_version": 3,
     "solution": false,
     "task": true
    }
   },
   "source": [
    "\\#### Please do not change this. This cell is used for grading."
   ]
  },
  {
   "cell_type": "markdown",
   "metadata": {
    "deletable": false,
    "editable": false,
    "id": "qkEXXhZR4IWx",
    "nbgrader": {
     "cell_type": "markdown",
     "checksum": "b592e60292bfe3d9ef2930a354c4077a",
     "grade": false,
     "grade_id": "cell-aa694ff55fa91e7d",
     "locked": true,
     "schema_version": 3,
     "solution": false,
     "task": false
    }
   },
   "source": [
    "---\n",
    "Now, let us time the new search functions:"
   ]
  },
  {
   "cell_type": "code",
   "execution_count": null,
   "metadata": {
    "ExecuteTime": {
     "end_time": "2021-02-15T19:24:28.136271Z",
     "start_time": "2021-02-15T19:21:57.960Z"
    },
    "deletable": false,
    "editable": false,
    "id": "CLJJ1U8P4IWy",
    "nbgrader": {
     "cell_type": "code",
     "checksum": "338c7e3528cba266a865a061287c0e38",
     "grade": false,
     "grade_id": "cell-5edbd481562ad91f",
     "locked": true,
     "schema_version": 3,
     "solution": false,
     "task": false
    }
   },
   "outputs": [],
   "source": [
    "query = \"algebraic functions\"\n",
    "print(\"BM25: \")\n",
    "%timeit bm25_search(query, 2)\n",
    "print(\"LSI: \")\n",
    "%timeit lsi_rerank.search(query)\n",
    "print(\"LDA: \")\n",
    "%timeit lda_rerank.search(query)\n",
    "print(\"W2V: \")\n",
    "%timeit w2v_rerank.search(query)\n",
    "print(\"W2V(Pretrained): \")\n",
    "%timeit w2v_pretrained_rerank.search(query)\n",
    "print(\"D2V:\")\n",
    "%timeit d2v_rerank.search(query)"
   ]
  },
  {
   "cell_type": "markdown",
   "metadata": {
    "deletable": false,
    "editable": false,
    "id": "3YxKmu1l4IWy",
    "nbgrader": {
     "cell_type": "markdown",
     "checksum": "c45c5e3f015b2de89d9d39ae3766368b",
     "grade": false,
     "grade_id": "cell-85c50f2ab9eec301",
     "locked": true,
     "schema_version": 3,
     "solution": false,
     "task": false
    }
   },
   "source": [
    "---\n",
    "As you can see, it is much faster (but BM25 is still orders of magnitude faster)."
   ]
  },
  {
   "cell_type": "markdown",
   "metadata": {
    "deletable": false,
    "editable": false,
    "id": "MdjNyWo34IWy",
    "nbgrader": {
     "cell_type": "markdown",
     "checksum": "1e2f3388e3807659f303fe31a75a010e",
     "grade": false,
     "grade_id": "cell-5071bb99b2af61cb",
     "locked": true,
     "schema_version": 3,
     "solution": false,
     "task": false
    }
   },
   "source": [
    "---\n",
    "## Section 10: Evaluation & Analysis (30 points) <a class=\"anchor\" id=\"reranking_eval\"></a>\n",
    "\n",
    "[Back to Part 2](#part2)\n",
    "\n",
    "[Previously](#evaluation) we have implemented some evaluation metrics and used them for measuring the ranking performance of term-based IR algorithms. In this section, we will do the same for semantic methods, both with and without re-ranking.\n",
    "\n",
    "### Section 10.1: Plot (10 points)\n",
    "\n",
    "First, gather the results. The results should consider the index set, the different search functions and different metrics. Plot the results in bar charts, per metric, with clear labels.\n",
    "\n",
    "Then, gather only the re-ranking models, and plot and compare them with the results obtained in part 1 (only index set 2)."
   ]
  },
  {
   "cell_type": "code",
   "execution_count": null,
   "metadata": {
    "ExecuteTime": {
     "end_time": "2021-02-15T19:24:28.137269Z",
     "start_time": "2021-02-15T19:21:57.963Z"
    },
    "deletable": false,
    "editable": false,
    "id": "2Y2Ntwj84IWy",
    "nbgrader": {
     "cell_type": "code",
     "checksum": "4fe81520ac6413a803838913fd64de03",
     "grade": false,
     "grade_id": "cell-b672fe6dfae0b1ce",
     "locked": true,
     "schema_version": 3,
     "solution": false,
     "task": false
    }
   },
   "outputs": [],
   "source": [
    "list_of_sem_search_fns = [\n",
    "    (\"lda\", drm_lda.search),\n",
    "    (\"lsi\", drm_lsi.search),\n",
    "    (\"w2v\", drm_w2v.search),\n",
    "    (\"w2v_pretrained\", drm_w2v_pretrained.search),\n",
    "    (\"d2v\", drm_d2v.search),\n",
    "    (\"lsi_rr\", lsi_rerank.search),\n",
    "    (\"lda_rr\", lda_rerank.search),\n",
    "    (\"w2v_rr\", w2v_rerank.search),\n",
    "    (\"w2v_pretrained_rr\", w2v_pretrained_rerank.search),\n",
    "    (\"d2v_rr\", d2v_rerank.search),\n",
    "    \n",
    "]"
   ]
  },
  {
   "cell_type": "code",
   "execution_count": null,
   "metadata": {
    "ExecuteTime": {
     "end_time": "2021-02-15T19:24:28.138266Z",
     "start_time": "2021-02-15T19:21:57.965Z"
    },
    "deletable": false,
    "id": "XqoUKAKO4IWy",
    "nbgrader": {
     "cell_type": "code",
     "checksum": "54707c4afac084299aeefa047259b4a9",
     "grade": true,
     "grade_id": "cell-7dd8273b0f5a3c22",
     "locked": false,
     "points": 10,
     "schema_version": 3,
     "solution": true,
     "task": false
    }
   },
   "outputs": [],
   "source": [
    "# YOUR CODE HERE\n",
    "raise NotImplementedError()"
   ]
  },
  {
   "cell_type": "markdown",
   "metadata": {
    "deletable": false,
    "editable": false,
    "id": "TO7Rx1xc4IWy",
    "nbgrader": {
     "cell_type": "markdown",
     "checksum": "a8a3b6189bdde66704c694d85e38d049",
     "grade": false,
     "grade_id": "cell-deb2ef3daa306e82",
     "locked": true,
     "schema_version": 3,
     "solution": false,
     "task": false
    }
   },
   "source": [
    "### Section 10.2: Summary (20 points)\n",
    "\n",
    "Your summary should compare methods from Part 1 and Part 2 (only for index set 2). State what you expected to see in the results, followed by either supporting evidence *or* justify why the results did not support your expectations. Consider the availability of data, scalability, domain/type of data, etc."
   ]
  },
  {
   "cell_type": "markdown",
   "metadata": {
    "deletable": false,
    "id": "8kHCX99n4IWz",
    "nbgrader": {
     "cell_type": "markdown",
     "checksum": "ff97c43837d10bff6aaffa75e1492887",
     "grade": true,
     "grade_id": "cell-ec5dd7d9cf59dd86",
     "locked": false,
     "points": 20,
     "schema_version": 3,
     "solution": true,
     "task": false
    }
   },
   "source": [
    "YOUR ANSWER HERE"
   ]
  }
 ],
 "metadata": {
  "colab": {
   "collapsed_sections": [
    "7PZ1YsjO4IWa",
    "PEw9RAKO4IWc",
    "M10Gq1wo4IWd",
    "ARVTcJrC4IWe",
    "pu4nDAJQ4IWe",
    "D3EIl_rY4IWf",
    "43wdjFkt4IWf",
    "a6te4fbZ4IWg",
    "X2fSm6OJ4IWg",
    "CF8mA1LD4IWh",
    "PwcdEmYB4IWi",
    "a3vu_N7C4IWj",
    "bD5EZ9eN4IWl",
    "V_eNBPNC4IWl",
    "gLVYII234IWl",
    "Ad2E1OAb4IWm",
    "rsVw36Qs4IWn",
    "O6zOyivS4IWn",
    "Q38CrFOO4IWo",
    "Gh1iz9Ht4IWo",
    "b54ANEqK4IWp",
    "lZ3SttfV4IWp",
    "-hdtSyZZ4IWp",
    "KqeQEm1Q4IWq",
    "-EkJ-o9j4IWr",
    "0PGe6mPD4IWt",
    "xMbAwqEW4IWt",
    "1qyB_mcw4IWt",
    "xa0oM-SP4IWu",
    "uJBmD00Y4IWw",
    "MdjNyWo34IWy",
    "TO7Rx1xc4IWy"
   ],
   "name": "13322915_13325957_13326481.ipynb",
   "provenance": []
  },
  "kernelspec": {
   "display_name": "Python 3",
   "language": "python",
   "name": "python3"
  },
  "language_info": {
   "codemirror_mode": {
    "name": "ipython",
    "version": 3
   },
   "file_extension": ".py",
   "mimetype": "text/x-python",
   "name": "python",
   "nbconvert_exporter": "python",
   "pygments_lexer": "ipython3",
   "version": "3.8.5"
  }
 },
 "nbformat": 4,
 "nbformat_minor": 1
}
