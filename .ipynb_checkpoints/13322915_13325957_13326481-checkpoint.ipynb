{
 "cells": [
  {
   "cell_type": "markdown",
   "metadata": {
    "deletable": false,
    "editable": false,
    "id": "BBPDEKU44IWO",
    "nbgrader": {
     "cell_type": "markdown",
     "checksum": "758d05f39ab671358f17858c55f7161c",
     "grade": false,
     "grade_id": "cell-c9cd9e550239e812",
     "locked": true,
     "schema_version": 3,
     "solution": false,
     "task": false
    }
   },
   "source": [
    "# Homework 1 (Total Points: 260) <a class=\"anchor\" id=\"top\"></a>\n",
    "\n",
    "\n",
    "**Submission instructions**:\n",
    "- Only the code `TODO: Implement this!` denotes that these sections are graded.\n",
    "- For Part 1: You can use the `nltk`, `numpy` and `matplotlib` libraries here. Other libraries, e.g., `gensim` or `scikit-learn`, may not be used. For Part 2: `gensim` is allowed in addition to the imported libraries in the next code cell\n",
    "- The notebook you submit has to have the student ids, separated by underscores (E.g., `12341234_12341234_12341234.ipynb`). \n",
    "- This will be parsed by a regexp, so please double check your filename.\n",
    "- Only one member of each group has to submit the file to canvas.\n",
    "- Make sure to check that your notebook runs before submission. A quick way to do this is to restart the kernel and run all the cells.  \n",
    "- Please do not delete/add new cells. Removing cells can lead to grade deduction.\n",
    "- Note, that you are not allowed to use Google Colab.\n",
    "\n",
    "\n",
    "**Learning Goals**:\n",
    "- [Part 1, Term-based matching](#part1) (175 points):\n",
    "    - Learn how to load a dataset and process it.\n",
    "    - Learn how to implement several standard IR methods (TF-IDF, BM25, QL) and understand their weaknesses & strengths.\n",
    "    - Learn how to evaluate IR methods.\n",
    "- [Part 2, Semantic-based matching](#part2) (85 points):\n",
    "    - Learn how to implement vector-space retrieval methods (LSI, LDA).\n",
    "    - Learn how to use LSI and LDA for re-ranking\n",
    "\n",
    "    \n",
    "**Resources**: \n",
    "- **Part 1**: Sections 2.3, 4.1, 4.2, 4.3, 5.3, 5.6, 5.7, 6.2, 7, 8 of [Search Engines: Information Retrieval in Practice](https://ciir.cs.umass.edu/downloads/SEIRiP.pdf)\n",
    "- **Part 2**: [LSI - Chapter 18](https://nlp.stanford.edu/IR-book/pdf/18lsi.pdf) from [Introduction to Information Retrieval](https://nlp.stanford.edu/IR-book/) book and the [original LDA paper](https://jmlr.org/papers/volume3/blei03a/blei03a.pdf)"
   ]
  },
  {
   "cell_type": "code",
   "execution_count": 1,
   "metadata": {
    "ExecuteTime": {
     "end_time": "2021-02-11T12:59:32.289559Z",
     "start_time": "2021-02-11T12:59:30.954125Z"
    },
    "deletable": false,
    "editable": false,
    "id": "RS9pLvO94IWT",
    "nbgrader": {
     "cell_type": "code",
     "checksum": "c55bfe94ff1f564dd595547e516c4c6e",
     "grade": false,
     "grade_id": "cell-f5357fabdb9660e3",
     "locked": true,
     "schema_version": 3,
     "solution": false,
     "task": false
    }
   },
   "outputs": [],
   "source": [
    "# imports \n",
    "# TODO: Ensure that no additional library is imported in the notebook. \n",
    "# TODO: Only the standard library and the following libraries are allowed:\n",
    "# TODO: You can also use unlisted classes from these libraries or standard libraries (such as defaultdict, Counter, ...).\n",
    "\n",
    "import os\n",
    "import zipfile\n",
    "from functools import partial\n",
    "\n",
    "import nltk\n",
    "import requests\n",
    "import numpy as np\n",
    "from tqdm import tqdm\n",
    "\n",
    "import matplotlib.pyplot as plt\n",
    "from matplotlib.pyplot import cm\n",
    "\n",
    "from ipywidgets import widgets\n",
    "from IPython.display import display, HTML\n",
    "#from IPython.html import widgets\n",
    "from collections import namedtuple\n",
    "\n",
    "# Own imports from standard libraries\n",
    "from collections import Counter\n",
    "import math\n",
    "\n",
    "\n",
    "\n",
    "%matplotlib inline"
   ]
  },
  {
   "cell_type": "markdown",
   "metadata": {
    "deletable": false,
    "editable": false,
    "id": "A4kKorew4IWU",
    "nbgrader": {
     "cell_type": "markdown",
     "checksum": "4ef0139c6fbc22b41520721a9275c1e1",
     "grade": false,
     "grade_id": "cell-7428e12ed184408b",
     "locked": true,
     "schema_version": 3,
     "solution": false,
     "task": false
    }
   },
   "source": [
    "\n",
    "# Part 1: Term-based Matching (175 points) <a class=\"anchor\" id=\"part1\"></a>\n",
    "\n",
    "[Back to top](#top)\n",
    "\n",
    "In the first part, we will learn the basics of IR from loading and preprocessing the material, to implementing some well known search algorithms, to evaluating the ranking performance of the implemented algorithms. We will be using the CACM dataset throughout the assignment. The CACM dataset is a collection of titles and abstracts from the journal CACM (Communication of the ACM).\n",
    "\n",
    "Table of contents:\n",
    "- [Section 1: Text Processing](#text_processing) (15 points)\n",
    "- [Section 2: Indexing](#indexing) (10 points)\n",
    "- [Section 3: Ranking](#ranking) (80 points)\n",
    "- [Section 4: Evaluation](#evaluation) (40 points)\n",
    "- [Section 5: Analysis](#analysis) (30 points)\n"
   ]
  },
  {
   "cell_type": "markdown",
   "metadata": {
    "deletable": false,
    "editable": false,
    "id": "6vnjcjoy4IWU",
    "nbgrader": {
     "cell_type": "markdown",
     "checksum": "a9050c97b011a926b9e4cf6831eff5bd",
     "grade": false,
     "grade_id": "cell-4b24825cf4ae55ec",
     "locked": true,
     "schema_version": 3,
     "solution": false,
     "task": false
    }
   },
   "source": [
    "---\n",
    "## Section 1: Text Processing (15 points)<a class=\"anchor\" id=\"text_processing\"></a>\n",
    "\n",
    "[Back to Part 1](#part1)\n",
    "\n",
    "In this section, we will load the dataset and learn how to clean up the data to make it usable for an IR system. \n",
    "The points of this section are earned for the following implementations:\n",
    "- `read_cacm_docs` (4 points): Reads in the CACM documents.\n",
    "- `read_queries` (3 points): Reads in the CACM queries.\n",
    "- `load_stopwords` (1 point): Loads the stopwords.\n",
    "- `tokenize` (4 points): Tokenizes the input text.\n",
    "- `stem_token` (3 points): Stems the given token. \n",
    "\n",
    "We are using the [CACM dataset](http://ir.dcs.gla.ac.uk/resources/test_collections/cacm/), which is a small, classic IR dataset, composed of a collection of titles and abstracts from the journal CACM. It comes with relevance judgements for queries, so we can evaluate our IR system. \n"
   ]
  },
  {
   "cell_type": "markdown",
   "metadata": {
    "deletable": false,
    "editable": false,
    "id": "p_lmQikc4IWV",
    "nbgrader": {
     "cell_type": "markdown",
     "checksum": "1de1b97f9ee233ad2348359f0c158eb7",
     "grade": false,
     "grade_id": "cell-45651364e7af6d5a",
     "locked": true,
     "schema_version": 3,
     "solution": false,
     "task": false
    }
   },
   "source": [
    "---\n",
    "### 1.1 Read the CACM documents (4 points)\n",
    "\n",
    "\n",
    "The following cell downloads the dataset and unzips it to a local directory."
   ]
  },
  {
   "cell_type": "code",
   "execution_count": 2,
   "metadata": {
    "ExecuteTime": {
     "end_time": "2021-02-11T12:59:32.311783Z",
     "start_time": "2021-02-11T12:59:32.291187Z"
    },
    "deletable": false,
    "editable": false,
    "id": "GzgZPFdR4IWV",
    "nbgrader": {
     "cell_type": "code",
     "checksum": "4d43c9ad6e77cc01ce4cef0c34824930",
     "grade": false,
     "grade_id": "cell-bbc3030bb3fe7e02",
     "locked": true,
     "schema_version": 3,
     "solution": false,
     "task": false
    }
   },
   "outputs": [],
   "source": [
    "def download_dataset():\n",
    "    folder_path = os.environ.get(\"IR1_DATA_PATH\")\n",
    "    if not folder_path:\n",
    "        folder_path = \"./datasets/\"\n",
    "    os.makedirs(folder_path, exist_ok=True)\n",
    "    \n",
    "    file_location = os.path.join(folder_path, \"cacm.zip\")\n",
    "    \n",
    "    # download file if it doesn't exist\n",
    "    if not os.path.exists(file_location):\n",
    "        \n",
    "        url = \"https://surfdrive.surf.nl/files/index.php/s/M0FGJpX2p8wDwxR/download\"\n",
    "\n",
    "        with open(file_location, \"wb\") as handle:\n",
    "            print(f\"Downloading file from {url} to {file_location}\")\n",
    "            response = requests.get(url, stream=True)\n",
    "            for data in tqdm(response.iter_content()):\n",
    "                handle.write(data)\n",
    "            print(\"Finished downloading file\")\n",
    "    \n",
    "    if not os.path.exists(os.path.join(folder_path, \"train.txt\")):\n",
    "        \n",
    "        # unzip file\n",
    "        with zipfile.ZipFile(file_location, 'r') as zip_ref:\n",
    "            zip_ref.extractall(folder_path)\n",
    "        \n",
    "download_dataset()"
   ]
  },
  {
   "cell_type": "markdown",
   "metadata": {
    "deletable": false,
    "editable": false,
    "id": "mFgbUp9Q4IWW",
    "nbgrader": {
     "cell_type": "markdown",
     "checksum": "31609b0d61d0c74cbd69bc43e47c23be",
     "grade": false,
     "grade_id": "cell-a7dd9a9bf98ede05",
     "locked": true,
     "schema_version": 3,
     "solution": false,
     "task": false
    }
   },
   "source": [
    "---\n",
    "\n",
    "You can see a brief description of each file in the dataset by looking at the README file:"
   ]
  },
  {
   "cell_type": "code",
   "execution_count": 3,
   "metadata": {
    "ExecuteTime": {
     "end_time": "2021-02-11T12:59:32.369685Z",
     "start_time": "2021-02-11T12:59:32.314716Z"
    },
    "colab": {
     "base_uri": "https://localhost:8080/"
    },
    "deletable": false,
    "editable": false,
    "id": "XiphLpFK4IWW",
    "nbgrader": {
     "cell_type": "code",
     "checksum": "1783f9999c7d06955e8da815de62ba5f",
     "grade": false,
     "grade_id": "cell-9b6ff1a17124711f",
     "locked": true,
     "schema_version": 3,
     "solution": false,
     "task": false
    },
    "outputId": "0c34744f-c08a-45f7-ad13-ffdc2287cbda"
   },
   "outputs": [
    {
     "name": "stdout",
     "output_type": "stream",
     "text": [
      "Files in this directory with sizes:\n",
      "          0 Jun 19 21:01 README\n",
      "\n",
      "    2187734 Jun 19 20:55 cacm.all              text of documents\n",
      "        626 Jun 19 20:58 cite.info             key to citation info\n",
      "                                                (the X sections in cacm.all)\n",
      "       2668 Jun 19 20:55 common_words           stop words used by smart\n",
      "       2194 Jun 19 20:55 make_coll*             shell script to make collection\n",
      "       1557 Jun 19 20:55 make_coll_term*        ditto (both useless without\n",
      "                                                smart system)\n",
      "       9948 Jun 19 20:55 qrels.text             relation giving\n",
      "                                                    qid did 0 0\n",
      "                                                to indicate dument did is\n",
      "                                                relevant to query qid\n",
      "      13689 Jun 19 20:55 query.text             Original text of the query\n"
     ]
    }
   ],
   "source": [
    "##### Read the README file \n",
    "!cat ./datasets/README\n",
    "#####"
   ]
  },
  {
   "cell_type": "markdown",
   "metadata": {
    "deletable": false,
    "editable": false,
    "id": "NYQpF9664IWW",
    "nbgrader": {
     "cell_type": "markdown",
     "checksum": "d6a5333ae8e7f69d81900e714cc43852",
     "grade": false,
     "grade_id": "cell-73351431869fda76",
     "locked": true,
     "schema_version": 3,
     "solution": false,
     "task": false
    }
   },
   "source": [
    "---\n",
    "We are interested in 4 files:\n",
    "- `cacm.all` : Contains the text for all documents. Note that some documents do not have abstracts available. \n",
    "- `query.text` : The text of all queries\n",
    "- `qrels.text` : The relevance judgements\n",
    "- `common_words` : A list of common words. This may be used as a collection of stopwords"
   ]
  },
  {
   "cell_type": "code",
   "execution_count": 4,
   "metadata": {
    "ExecuteTime": {
     "end_time": "2021-02-11T12:59:32.413563Z",
     "start_time": "2021-02-11T12:59:32.370677Z"
    },
    "colab": {
     "base_uri": "https://localhost:8080/"
    },
    "deletable": false,
    "editable": false,
    "id": "YlAL1Byf4IWW",
    "nbgrader": {
     "cell_type": "code",
     "checksum": "c78e4256a08889ce3d0d985ea799b0a9",
     "grade": false,
     "grade_id": "cell-b44dd14079f278ca",
     "locked": true,
     "schema_version": 3,
     "solution": false,
     "task": false
    },
    "outputId": "671b1068-6500-45c4-e9d5-e4578d137c7b"
   },
   "outputs": [
    {
     "name": "stdout",
     "output_type": "stream",
     "text": [
      ".I 1\n",
      ".T\n",
      "Preliminary Report-International Algebraic Language\n",
      ".B\n",
      "CACM December, 1958\n",
      ".A\n",
      "Perlis, A. J.\n",
      "Samelson,K.\n",
      ".N\n",
      "CA581203 JB March 22, 1978  8:28 PM\n",
      ".X\n",
      "100\t5\t1\n",
      "123\t5\t1\n",
      "164\t5\t1\n",
      "1\t5\t1\n",
      "1\t5\t1\n",
      "1\t5\t1\n",
      "205\t5\t1\n",
      "210\t5\t1\n",
      "214\t5\t1\n",
      "1982\t5\t1\n",
      "398\t5\t1\n",
      "642\t5\t1\n",
      "669\t5\t1\n",
      "1\t6\t1\n",
      "1\t6\t1\n",
      "1\t6\t1\n",
      "1\t6\t1\n",
      "1\t6\t1\n",
      "1\t6\t1\n",
      "1\t6\t1\n",
      "1\t6\t1\n",
      "1\t6\t1\n",
      "1\t6\t1\n",
      "165\t6\t1\n",
      "196\t6\t1\n",
      "196\t6\t1\n",
      "1273\t6\t1\n",
      "1883\t6\t1\n",
      "324\t6\t1\n",
      "43\t6\t1\n",
      "53\t6\t1\n",
      "91\t6\t1\n",
      "410\t6\t1\n",
      "3184\t6\t1\n"
     ]
    }
   ],
   "source": [
    "##### The first 45 lines of the CACM dataset forms the first record\n",
    "# We are interested only in 3 fields. \n",
    "# 1. the '.I' field, which is the document id\n",
    "# 2. the '.T' field (the title) and\n",
    "# 3. the '.W' field (the abstract, which may be absent)\n",
    "!head -45 ./datasets/cacm.all\n",
    "#####"
   ]
  },
  {
   "cell_type": "markdown",
   "metadata": {
    "deletable": false,
    "editable": false,
    "id": "96QRlEr34IWX",
    "nbgrader": {
     "cell_type": "markdown",
     "checksum": "aff7cbe5a15a0e3329dc223e3e31abf3",
     "grade": false,
     "grade_id": "cell-c4bf2e263ec553d8",
     "locked": true,
     "schema_version": 3,
     "solution": false,
     "task": false
    }
   },
   "source": [
    "---\n",
    "\n",
    "**Implementation (4 points):**\n",
    "Write a function to read the `cacm.all` file. Note that each document has a variable number of lines. The `.I` field denotes a new document:"
   ]
  },
  {
   "cell_type": "code",
   "execution_count": 5,
   "metadata": {
    "ExecuteTime": {
     "end_time": "2021-02-11T12:59:32.421541Z",
     "start_time": "2021-02-11T12:59:32.415558Z"
    },
    "deletable": false,
    "id": "vNE2WPK-4IWX",
    "nbgrader": {
     "cell_type": "code",
     "checksum": "45fef5d5b543ee439176d7fd0a9d20be",
     "grade": false,
     "grade_id": "cell-b736116eb419c624",
     "locked": false,
     "schema_version": 3,
     "solution": true,
     "task": false
    }
   },
   "outputs": [],
   "source": [
    "# TODO: Implement this! (4 points)\n",
    "def read_cacm_docs(root_folder = \"./datasets/\"):\n",
    "    \"\"\"\n",
    "        Reads in the CACM documents. The dataset is assumed to be in the folder \"./datasets/\" by default\n",
    "        Returns: A list of 2-tuples: (doc_id, document), where 'document' is a single string created by \n",
    "            appending the title and abstract (separated by a \"\\n\"). \n",
    "            In case the record doesn't have an abstract, the document is composed only by the title\n",
    "    \"\"\"\n",
    "    # YOUR CODE HERE\n",
    "    with open(root_folder + 'cacm.all') as f:\n",
    "        doc = f.read()\n",
    "        doc_list = []\n",
    "        split_doc = doc.split('.I ')[1:]\n",
    "        for i in split_doc:\n",
    "            doc_id = i.split('.T')[0].replace('\\n','')\n",
    "            if i.find('.W\\n') == -1:\n",
    "                document = i.split('.T')[1].split('.B')[0]\n",
    "            else:\n",
    "                doc_title = i.split('.T')[1].split('\\n.W\\n')[0]\n",
    "                doc_abstract = i.split('\\n.W\\n')[1].split('.B')[0]\n",
    "                document = doc_title + '\\n' + doc_abstract\n",
    "\n",
    "            doc_list.append((doc_id,document))\n",
    "    return doc_list"
   ]
  },
  {
   "cell_type": "code",
   "execution_count": 6,
   "metadata": {
    "ExecuteTime": {
     "end_time": "2021-02-11T12:59:32.455495Z",
     "start_time": "2021-02-11T12:59:32.422538Z"
    },
    "deletable": false,
    "editable": false,
    "id": "qXIA2lFl4IWY",
    "nbgrader": {
     "cell_type": "code",
     "checksum": "70472b5c277bb7c417de8da24e4e5261",
     "grade": true,
     "grade_id": "cell-a1c43818e0d3fd79",
     "locked": true,
     "points": 4,
     "schema_version": 3,
     "solution": false,
     "task": false
    }
   },
   "outputs": [],
   "source": [
    "##### Function check\n",
    "docs = read_cacm_docs()\n",
    "assert isinstance(docs, list)\n",
    "assert len(docs) == 3204, \"There should be exactly 3024 documents\"\n",
    "##### "
   ]
  },
  {
   "cell_type": "markdown",
   "metadata": {
    "deletable": false,
    "editable": false,
    "id": "uZRyfi9R4IWY",
    "nbgrader": {
     "cell_type": "markdown",
     "checksum": "6fd095d2204cce3935444ca37c7c42da",
     "grade": false,
     "grade_id": "cell-5ed2ddc91f73c60e",
     "locked": true,
     "schema_version": 3,
     "solution": false,
     "task": false
    }
   },
   "source": [
    "---\n",
    "### 1.2 Read the CACM queries (3 points)\n",
    "\n",
    "Next, let us read the queries. They are formatted similarly:"
   ]
  },
  {
   "cell_type": "code",
   "execution_count": 7,
   "metadata": {
    "ExecuteTime": {
     "end_time": "2021-02-11T12:59:32.498336Z",
     "start_time": "2021-02-11T12:59:32.457444Z"
    },
    "colab": {
     "base_uri": "https://localhost:8080/"
    },
    "deletable": false,
    "editable": false,
    "id": "SypqoG8T4IWY",
    "nbgrader": {
     "cell_type": "code",
     "checksum": "5d26c0908e758acb9968b84056b1060a",
     "grade": false,
     "grade_id": "cell-5c7e8e7c4fc2757f",
     "locked": true,
     "schema_version": 3,
     "solution": false,
     "task": false
    },
    "outputId": "061e0dc1-6f1b-4d21-ff2b-775699a7a874"
   },
   "outputs": [
    {
     "name": "stdout",
     "output_type": "stream",
     "text": [
      ".I 1\n",
      ".W\n",
      " What articles exist which deal with TSS (Time Sharing System), an\n",
      "operating system for IBM computers?\n",
      ".N\n",
      " 1. Richard Alexander, Comp Serv, Langmuir Lab (TSS)\n",
      " \n",
      ".I 2\n",
      ".W\n",
      " I am interested in articles written either by Prieve or Udo Pooch\n",
      ".A\n",
      "Prieve, B.\n",
      "Pooch, U.\n",
      ".N\n",
      " 2. Richard Alexander, Comp Serv, Langmuir Lab (author = Pooch or Prieve)\n"
     ]
    }
   ],
   "source": [
    "##### The first 15 lines of 'query.text' has 2 queries\n",
    "# We are interested only in 2 fields. \n",
    "# 1. the '.I' - the query id\n",
    "# 2. the '.W' - the query\n",
    "!head -15 ./datasets/query.text\n",
    "#####"
   ]
  },
  {
   "cell_type": "markdown",
   "metadata": {
    "deletable": false,
    "editable": false,
    "id": "wrddYisC4IWY",
    "nbgrader": {
     "cell_type": "markdown",
     "checksum": "da34d95924026ea55bf0a9b2070ec237",
     "grade": false,
     "grade_id": "cell-88e293507d2dcef6",
     "locked": true,
     "schema_version": 3,
     "solution": false,
     "task": false
    }
   },
   "source": [
    "---\n",
    "\n",
    "**Implementation (3 points):**\n",
    "Write a function to read the `query.text` file:"
   ]
  },
  {
   "cell_type": "code",
   "execution_count": 8,
   "metadata": {
    "ExecuteTime": {
     "end_time": "2021-02-11T12:59:32.504320Z",
     "start_time": "2021-02-11T12:59:32.500330Z"
    },
    "deletable": false,
    "id": "Ct3uxE-s4IWZ",
    "nbgrader": {
     "cell_type": "code",
     "checksum": "f98ac81b2ccb44fe3441e202e980c847",
     "grade": false,
     "grade_id": "cell-433e3ad5d0e2572a",
     "locked": false,
     "schema_version": 3,
     "solution": true,
     "task": false
    }
   },
   "outputs": [],
   "source": [
    "# TODO: Implement this! (3 points)\n",
    "def read_queries(root_folder = \"./datasets/\"):\n",
    "    \"\"\"\n",
    "        Reads in the CACM queries. The dataset is assumed to be in the folder \"./datasets/\" by default\n",
    "        Returns: A list of 2-tuples: (query_id, query)\n",
    "    \"\"\"\n",
    "    # YOUR CODE HERE\n",
    "    with open(root_folder + 'query.text') as f:\n",
    "      doc = f.read()\n",
    "      doc_list = []\n",
    "      split_doc = doc.split('.I ')[1:]\n",
    "      for i in split_doc:\n",
    "        doc_id = i.split('.W\\n')[0].replace('\\n','')\n",
    "        document = i.split('.W\\n')[1].split('.N\\n')[0]        \n",
    "        doc_list.append((doc_id,document))\n",
    "      print(doc_list[:5])\n",
    "      return doc_list\n"
   ]
  },
  {
   "cell_type": "code",
   "execution_count": 9,
   "metadata": {
    "ExecuteTime": {
     "end_time": "2021-02-11T12:59:32.511301Z",
     "start_time": "2021-02-11T12:59:32.505318Z"
    },
    "colab": {
     "base_uri": "https://localhost:8080/"
    },
    "deletable": false,
    "editable": false,
    "id": "DYO92aQn4IWZ",
    "nbgrader": {
     "cell_type": "code",
     "checksum": "c0e7a9868bd4b92692c33732af640b8b",
     "grade": true,
     "grade_id": "cell-6ec540abce66c598",
     "locked": true,
     "points": 3,
     "schema_version": 3,
     "solution": false,
     "task": false
    },
    "outputId": "e6294e67-a14f-425e-d65d-a5780b07b487"
   },
   "outputs": [
    {
     "name": "stdout",
     "output_type": "stream",
     "text": [
      "[('1', ' What articles exist which deal with TSS (Time Sharing System), an\\noperating system for IBM computers?\\n'), ('2', ' I am interested in articles written either by Prieve or Udo Pooch\\n.A\\nPrieve, B.\\nPooch, U.\\n'), ('3', ' Intermediate languages used in construction of multi-targeted compilers; TCOLL\\n'), ('4', \" I'm interested in mechanisms for communicating between disjoint processes,\\npossibly, but not exclusively, in a distributed environment.  I would\\nrather see descriptions of complete mechanisms, with or without implementations,\\nas opposed to theoretical work on the abstract problem.  Remote procedure\\ncalls and message-passing are examples of my interests.\\n\"), ('5', \" I'd like papers on design and implementation of editing interfaces,\\nwindow-managers, command interpreters, etc.  The essential issues are\\nhuman interface design, with views on improvements to user efficiency,\\neffectiveness and satisfaction.\\n\")]\n"
     ]
    }
   ],
   "source": [
    "##### Function check\n",
    "queries = read_queries()\n",
    "\n",
    "assert isinstance(queries, list)\n",
    "assert len(queries) == 64 and all([q[1] is not None for q in queries]), \"There should be exactly 64 queries\"\n",
    "##### "
   ]
  },
  {
   "cell_type": "markdown",
   "metadata": {
    "deletable": false,
    "editable": false,
    "id": "7PZ1YsjO4IWa",
    "nbgrader": {
     "cell_type": "markdown",
     "checksum": "652f9159caea63888e06b54103bd7f32",
     "grade": false,
     "grade_id": "cell-1c31569491d7b782",
     "locked": true,
     "schema_version": 3,
     "solution": false,
     "task": false
    }
   },
   "source": [
    "---\n",
    "### 1.3 Read the stop words (1 point)\n",
    "\n",
    "We use the common words stored in `common_words`:"
   ]
  },
  {
   "cell_type": "code",
   "execution_count": 10,
   "metadata": {
    "ExecuteTime": {
     "end_time": "2021-02-11T12:59:32.554186Z",
     "start_time": "2021-02-11T12:59:32.512298Z"
    },
    "colab": {
     "base_uri": "https://localhost:8080/"
    },
    "deletable": false,
    "editable": false,
    "id": "3eIEzeOd4IWa",
    "nbgrader": {
     "cell_type": "code",
     "checksum": "1ad6f5bae6a792504c1c8513ae5751ad",
     "grade": false,
     "grade_id": "cell-34bdb63461418a96",
     "locked": true,
     "schema_version": 3,
     "solution": false,
     "task": false
    },
    "outputId": "4b9a90c7-f76e-41fa-cf60-f87c74f6061f"
   },
   "outputs": [
    {
     "name": "stdout",
     "output_type": "stream",
     "text": [
      "a\n",
      "about\n",
      "above\n",
      "accordingly\n",
      "across\n",
      "after\n",
      "afterwards\n",
      "again\n",
      "against\n",
      "all\n"
     ]
    }
   ],
   "source": [
    "##### Read the stop words file \n",
    "!head ./datasets/common_words\n",
    "##### Read the README file "
   ]
  },
  {
   "cell_type": "markdown",
   "metadata": {
    "deletable": false,
    "editable": false,
    "id": "yS-QJ59W4IWa",
    "nbgrader": {
     "cell_type": "markdown",
     "checksum": "f720edbacd79170351156a443e0018ff",
     "grade": false,
     "grade_id": "cell-4744bde0338895d8",
     "locked": true,
     "schema_version": 3,
     "solution": false,
     "task": false
    }
   },
   "source": [
    "---\n",
    "**Implementation (1 point):**\n",
    "Write a function to read the `common_words` file (For better coverage, try to keep them in lowercase):"
   ]
  },
  {
   "cell_type": "code",
   "execution_count": 11,
   "metadata": {
    "ExecuteTime": {
     "end_time": "2021-02-11T12:59:32.559173Z",
     "start_time": "2021-02-11T12:59:32.555184Z"
    },
    "deletable": false,
    "id": "lgwbY-mG4IWb",
    "nbgrader": {
     "cell_type": "code",
     "checksum": "e6a9e9bb3ad0f8dc2ec3c497a3149092",
     "grade": false,
     "grade_id": "cell-7357aa40f64e5bcb",
     "locked": false,
     "schema_version": 3,
     "solution": true,
     "task": false
    }
   },
   "outputs": [],
   "source": [
    "# TODO: Implement this! (1 point)\n",
    "def load_stopwords(root_folder = \"./datasets/\"):\n",
    "    \"\"\"\n",
    "        Loads the stopwords. The dataset is assumed to be in the folder \"./datasets/\" by default\n",
    "        Output: A set of stopwords\n",
    "    \"\"\"\n",
    "    # YOUR CODE HERE\n",
    "    with open(os.path.join(root_folder, \"common_words\"), 'r+') as f:\n",
    "        words = set(f.readlines())\n",
    "        \n",
    "    \n",
    "    return words"
   ]
  },
  {
   "cell_type": "code",
   "execution_count": 12,
   "metadata": {
    "ExecuteTime": {
     "end_time": "2021-02-11T12:59:32.564159Z",
     "start_time": "2021-02-11T12:59:32.560169Z"
    },
    "colab": {
     "base_uri": "https://localhost:8080/",
     "height": 316
    },
    "deletable": false,
    "editable": false,
    "id": "H_RpcrQ84IWb",
    "nbgrader": {
     "cell_type": "code",
     "checksum": "9211b9735b828d89d1a51d8743c448b4",
     "grade": true,
     "grade_id": "cell-2ca3ac162004de97",
     "locked": true,
     "points": 1,
     "schema_version": 3,
     "solution": false,
     "task": false
    },
    "outputId": "ac1d355d-212f-4b8a-deda-f4058a3716b2"
   },
   "outputs": [],
   "source": [
    "##### Function check\n",
    "stopwords = load_stopwords()\n",
    "\n",
    "assert isinstance(stopwords, set)\n",
    "assert len(stopwords) == 428, \"There should be exactly 428 stop words\"\n",
    "##### "
   ]
  },
  {
   "cell_type": "markdown",
   "metadata": {
    "deletable": false,
    "editable": false,
    "id": "OKFMtm3T4IWb",
    "nbgrader": {
     "cell_type": "markdown",
     "checksum": "fc7e419f35dfd3f507d8a7555ce2cde9",
     "grade": false,
     "grade_id": "cell-134b72872f4300cb",
     "locked": true,
     "schema_version": 3,
     "solution": false,
     "task": false
    }
   },
   "source": [
    "---\n",
    "### 1.4 Tokenization (4 points)\n",
    "\n",
    "We can now write some basic text processing functions. \n",
    "A first step is to tokenize the text. \n",
    "\n",
    "**Note**: Use the  `WordPunctTokenizer` available in the `nltk` library:"
   ]
  },
  {
   "cell_type": "code",
   "execution_count": 13,
   "metadata": {
    "ExecuteTime": {
     "end_time": "2021-02-11T12:59:32.568149Z",
     "start_time": "2021-02-11T12:59:32.565157Z"
    },
    "deletable": false,
    "id": "OWakwkEw4IWb",
    "nbgrader": {
     "cell_type": "code",
     "checksum": "3f5564d3c75bf22fbf832b3a9b938f37",
     "grade": false,
     "grade_id": "cell-322be4c9499bdc4b",
     "locked": false,
     "schema_version": 3,
     "solution": true,
     "task": false
    }
   },
   "outputs": [],
   "source": [
    "# TODO: Implement this! (4 points)\n",
    "def tokenize(text):\n",
    "    \"\"\"\n",
    "        Tokenizes the input text. Use the WordPunctTokenizer\n",
    "        Input: text - a string\n",
    "        Output: a list of tokens\n",
    "    \"\"\"\n",
    "    # YOUR CODE HERE\n",
    "    return nltk.tokenize.WordPunctTokenizer().tokenize(text)\n",
    "    "
   ]
  },
  {
   "cell_type": "code",
   "execution_count": 14,
   "metadata": {
    "ExecuteTime": {
     "end_time": "2021-02-11T12:59:32.573135Z",
     "start_time": "2021-02-11T12:59:32.569146Z"
    },
    "deletable": false,
    "editable": false,
    "id": "Mk4dGvkP4IWc",
    "nbgrader": {
     "cell_type": "code",
     "checksum": "f60b93aa03bf9eced64940252eb33fe3",
     "grade": true,
     "grade_id": "cell-7fbf48bf7541a622",
     "locked": true,
     "points": 4,
     "schema_version": 3,
     "solution": false,
     "task": false
    }
   },
   "outputs": [
    {
     "name": "stdout",
     "output_type": "stream",
     "text": [
      "['the', 'quick', 'brown', 'fox', 'jumps', 'over', 'the', 'lazy', 'dog']\n"
     ]
    }
   ],
   "source": [
    "##### Function check\n",
    "text = \"the quick brown fox jumps over the lazy dog\"\n",
    "tokens = tokenize(text)\n",
    "\n",
    "assert isinstance(tokens, list)\n",
    "assert len(tokens) == 9\n",
    "\n",
    "print(tokens)\n",
    "# output: ['the', 'quick', 'brown', 'fox', 'jumps', 'over', 'the', 'lazy', 'dog']\n",
    "#####"
   ]
  },
  {
   "cell_type": "markdown",
   "metadata": {
    "deletable": false,
    "editable": false,
    "id": "PEw9RAKO4IWc",
    "nbgrader": {
     "cell_type": "markdown",
     "checksum": "1b1cc868db22735e5e193bc64ff67877",
     "grade": false,
     "grade_id": "cell-fd1b98ae61b697ca",
     "locked": true,
     "schema_version": 3,
     "solution": false,
     "task": false
    }
   },
   "source": [
    "---\n",
    "### 1.5 Stemming (3 points)\n",
    "\n",
    "Write a function to stem tokens. \n",
    "Again, you can use the nltk library for this:"
   ]
  },
  {
   "cell_type": "code",
   "execution_count": 15,
   "metadata": {
    "ExecuteTime": {
     "end_time": "2021-02-11T12:59:32.577126Z",
     "start_time": "2021-02-11T12:59:32.574132Z"
    },
    "deletable": false,
    "id": "ViYt0smN4IWc",
    "nbgrader": {
     "cell_type": "code",
     "checksum": "1c4a6aa979d66158c7b6b992af43293a",
     "grade": false,
     "grade_id": "cell-e3f6c8e3f874b28d",
     "locked": false,
     "schema_version": 3,
     "solution": true,
     "task": false
    }
   },
   "outputs": [],
   "source": [
    "# TODO: Implement this! (3 points)\n",
    "def stem_token(token):\n",
    "    \"\"\"\n",
    "        Stems the given token using the PorterStemmer from the nltk library\n",
    "        Input: a single token\n",
    "        Output: the stem of the token\n",
    "    \"\"\"\n",
    "    ps = nltk.stem.PorterStemmer()\n",
    "    return ps.stem(token)\n"
   ]
  },
  {
   "cell_type": "code",
   "execution_count": 16,
   "metadata": {
    "ExecuteTime": {
     "end_time": "2021-02-11T12:59:32.582111Z",
     "start_time": "2021-02-11T12:59:32.578122Z"
    },
    "deletable": false,
    "editable": false,
    "id": "-qSBNMns4IWd",
    "nbgrader": {
     "cell_type": "code",
     "checksum": "cd2611a46e7c2e92af438d7166cf2616",
     "grade": true,
     "grade_id": "cell-cd6863e6ee6ed205",
     "locked": true,
     "points": 3,
     "schema_version": 3,
     "solution": false,
     "task": false
    }
   },
   "outputs": [],
   "source": [
    "##### Function check\n",
    "assert stem_token('owned') == 'own'\n",
    "assert stem_token('itemization') == 'item'\n",
    "#####"
   ]
  },
  {
   "cell_type": "markdown",
   "metadata": {
    "deletable": false,
    "editable": false,
    "id": "M10Gq1wo4IWd",
    "nbgrader": {
     "cell_type": "markdown",
     "checksum": "5fcc93f08a6abcaffd5bd9475e4768e5",
     "grade": false,
     "grade_id": "cell-47c9f90498699110",
     "locked": true,
     "schema_version": 3,
     "solution": false,
     "task": false
    }
   },
   "source": [
    "---\n",
    "### 1.6 Summary\n",
    "\n",
    "The following function puts it all together. Given a string, it tokenizes it and processes it according to the flags that you set."
   ]
  },
  {
   "cell_type": "code",
   "execution_count": 17,
   "metadata": {
    "ExecuteTime": {
     "end_time": "2021-02-11T12:59:32.588104Z",
     "start_time": "2021-02-11T12:59:32.583108Z"
    },
    "deletable": false,
    "editable": false,
    "id": "Y9P9q9074IWd",
    "nbgrader": {
     "cell_type": "code",
     "checksum": "2ff2d215ee8e0039c5a91fd3de12e6bd",
     "grade": false,
     "grade_id": "cell-dd0d3f46b30801da",
     "locked": true,
     "schema_version": 3,
     "solution": false,
     "task": false
    }
   },
   "outputs": [],
   "source": [
    "#### Putting it all together\n",
    "def process_text(text, stem=False, remove_stopwords=False, lowercase_text=False):\n",
    "    \n",
    "    tokens = []\n",
    "    for token in tokenize(text):\n",
    "        if remove_stopwords and token.lower() in stopwords:\n",
    "            continue\n",
    "        if stem:\n",
    "            token = stem_token(token)\n",
    "        if lowercase_text:\n",
    "            token = token.lower()\n",
    "        tokens.append(token)\n",
    "\n",
    "    return tokens\n",
    "#### "
   ]
  },
  {
   "cell_type": "markdown",
   "metadata": {
    "deletable": false,
    "editable": false,
    "id": "3ZprLpXX4IWd",
    "nbgrader": {
     "cell_type": "markdown",
     "checksum": "02d433b18eb43654fa4306a7bf55b190",
     "grade": false,
     "grade_id": "cell-8d885bfd2edd43ae",
     "locked": true,
     "schema_version": 3,
     "solution": false,
     "task": false
    }
   },
   "source": [
    "---\n",
    "\n",
    "Let's create two sets of preprocessed documents.\n",
    "We can process the documents and queries according to these two configurations:"
   ]
  },
  {
   "cell_type": "code",
   "execution_count": 18,
   "metadata": {
    "ExecuteTime": {
     "end_time": "2021-02-11T12:59:36.255464Z",
     "start_time": "2021-02-11T12:59:32.589093Z"
    },
    "deletable": false,
    "editable": false,
    "id": "zSAhYQo84IWd",
    "nbgrader": {
     "cell_type": "code",
     "checksum": "dbe4ca667be6842fdcf512fbcad50c7f",
     "grade": false,
     "grade_id": "cell-d427365ee0fb21d8",
     "locked": true,
     "schema_version": 3,
     "solution": false,
     "task": false
    }
   },
   "outputs": [],
   "source": [
    "# In this configuration:\n",
    "# Don't preprocess the text, except to tokenize \n",
    "config_1 = {\n",
    "  \"stem\": False,\n",
    "  \"remove_stopwords\" : False,\n",
    "  \"lowercase_text\": True\n",
    "} \n",
    "\n",
    "\n",
    "# In this configuration:\n",
    "# Preprocess the text, stem and remove stopwords\n",
    "config_2 = {\n",
    "  \"stem\": True,\n",
    "  \"remove_stopwords\" : True,\n",
    "  \"lowercase_text\": True, \n",
    "} \n",
    "\n",
    "####\n",
    "doc_repr_1 = []\n",
    "doc_repr_2 = []\n",
    "for (doc_id, document) in docs:\n",
    "    doc_repr_1.append((doc_id, process_text(document, **config_1)))\n",
    "    doc_repr_2.append((doc_id, process_text(document, **config_2)))\n",
    "\n",
    "####"
   ]
  },
  {
   "cell_type": "markdown",
   "metadata": {
    "deletable": false,
    "editable": false,
    "id": "ARVTcJrC4IWe",
    "nbgrader": {
     "cell_type": "markdown",
     "checksum": "b60589aac19e80941d860d9b3f1e9a16",
     "grade": false,
     "grade_id": "cell-b1c102db61ae7495",
     "locked": true,
     "schema_version": 3,
     "solution": false,
     "task": false
    }
   },
   "source": [
    "--- \n",
    "\n",
    "## Section 2: Indexing (10 points)<a class=\"anchor\" id=\"indexing\"></a>\n",
    "\n",
    "[Back to Part 1](#part1)\n",
    "\n",
    "\n",
    "\n",
    "A retrieval function usually takes in a query document pair, and scores a query against a document.  Our document set is quite small - just a few thousand documents. However, consider a web-scale dataset with a few million documents. In such a scenario, it would become infeasible to score every query and document pair. In such a case, we can build an inverted index. From Wikipedia:\n",
    "\n",
    "> ... , an inverted index (also referred to as a postings file or inverted file) is a database index storing a mapping from content, such as words or numbers, to its locations in a table, .... The purpose of an inverted index is to allow fast full-text searches, at a cost of increased processing when a document is added to the database. ...\n",
    "\n",
    "\n",
    "Consider a simple inverted index, which maps from word to document. This can improve the performance of a retrieval system significantly. In this assignment, we consider a *simple* inverted index, which maps a word to a set of documents. In practice, however, more complex indices might be used.  \n"
   ]
  },
  {
   "cell_type": "markdown",
   "metadata": {
    "deletable": false,
    "editable": false,
    "id": "pu4nDAJQ4IWe",
    "nbgrader": {
     "cell_type": "markdown",
     "checksum": "710fd943f45523ac36fcb887cc0d4d39",
     "grade": false,
     "grade_id": "cell-fa373192c1b7bb95",
     "locked": true,
     "schema_version": 3,
     "solution": false,
     "task": false
    }
   },
   "source": [
    "### 2.1 Term Frequency-index (10 points)\n",
    "In this assignment, we will be using an index created in memory since our dataset is tiny. To get started, build a simple index that maps each `token` to a list of `(doc_id, count)` where `count` is the count of the `token` in `doc_id`.\n",
    "For consistency, build this index using a python dictionary.\n",
    "    \n",
    "Now, implement a function to build an index:"
   ]
  },
  {
   "cell_type": "code",
   "execution_count": 19,
   "metadata": {
    "ExecuteTime": {
     "end_time": "2021-02-11T12:59:36.261443Z",
     "start_time": "2021-02-11T12:59:36.256455Z"
    },
    "deletable": false,
    "id": "oILPNIpe4IWe",
    "nbgrader": {
     "cell_type": "code",
     "checksum": "c281c45196493b87e45e1b3fb4ddd6c9",
     "grade": false,
     "grade_id": "cell-077599b87e953209",
     "locked": false,
     "schema_version": 3,
     "solution": true,
     "task": false
    }
   },
   "outputs": [],
   "source": [
    "# TODO: Implement this! (10 points)\n",
    "def build_tf_index(documents):\n",
    "    \"\"\"\n",
    "        Build an inverted index (with counts). The output is a dictionary which takes in a token\n",
    "        and returns a list of (doc_id, count) where 'count' is the count of the 'token' in 'doc_id'\n",
    "        Input: a list of documents - (doc_id, tokens) \n",
    "        Output: An inverted index. [token] -> [(doc_id, token_count)]\n",
    "    \"\"\"\n",
    "    # YOUR CODE HERE\n",
    "    inverted_index = {}\n",
    "    for (doc_id, words) in documents:\n",
    "        word_occurences = Counter(words)        \n",
    "        for word in word_occurences:\n",
    "            token_count = word_occurences[word]\n",
    "            if word not in inverted_index:\n",
    "               inverted_index[word] = [(doc_id,token_count)]\n",
    "            else:\n",
    "                inverted_index[word].append((doc_id, token_count))\n",
    "\n",
    "    return inverted_index"
   ]
  },
  {
   "cell_type": "markdown",
   "metadata": {
    "deletable": false,
    "editable": false,
    "id": "Ydx63-0M4IWe",
    "nbgrader": {
     "cell_type": "markdown",
     "checksum": "15e7041b4323d2a290322de538ff7670",
     "grade": false,
     "grade_id": "cell-093aebfa504f96f2",
     "locked": true,
     "schema_version": 3,
     "solution": false,
     "task": false
    }
   },
   "source": [
    "---\n",
    "Now we can build indexed documents and preprocess the queries based on the two configurations:"
   ]
  },
  {
   "cell_type": "code",
   "execution_count": 20,
   "metadata": {
    "ExecuteTime": {
     "end_time": "2021-02-11T12:59:36.427651Z",
     "start_time": "2021-02-11T12:59:36.262440Z"
    },
    "deletable": false,
    "editable": false,
    "id": "uPguIGwp4IWe",
    "nbgrader": {
     "cell_type": "code",
     "checksum": "e27540c1d8d77a3779a05f557f3f40c6",
     "grade": false,
     "grade_id": "cell-b2ff1676348b90a8",
     "locked": true,
     "schema_version": 3,
     "solution": false,
     "task": false
    },
    "tags": []
   },
   "outputs": [],
   "source": [
    "#### Indexed documents based on the two configs\n",
    "\n",
    "# Create the 2 indices\n",
    "tf_index_1 = build_tf_index(doc_repr_1)\n",
    "tf_index_2 = build_tf_index(doc_repr_2)\n",
    "\n",
    "# This function returns the tf_index of the corresponding config\n",
    "def get_index(index_set):\n",
    "    assert index_set in {1, 2}\n",
    "    return {\n",
    "        1: tf_index_1,\n",
    "        2: tf_index_2\n",
    "    }[index_set]\n",
    "\n",
    "####\n",
    "#### Preprocessed query based on the two configs\n",
    "\n",
    "# This function preprocesses the text given the index set, according to the specified config\n",
    "def preprocess_query(text, index_set):\n",
    "    assert index_set in {1, 2}\n",
    "    if index_set == 1:\n",
    "        return process_text(text, **config_1)\n",
    "    elif index_set == 2:\n",
    "        return process_text(text, **config_2)\n",
    "\n",
    "#### "
   ]
  },
  {
   "cell_type": "code",
   "execution_count": 21,
   "metadata": {
    "ExecuteTime": {
     "end_time": "2021-02-11T12:59:36.432597Z",
     "start_time": "2021-02-11T12:59:36.428608Z"
    },
    "deletable": false,
    "editable": false,
    "id": "XgY38oQB4IWe",
    "nbgrader": {
     "cell_type": "code",
     "checksum": "2c50e4b4c68261ff1184277bcf3c38d8",
     "grade": true,
     "grade_id": "cell-fc7c7232d5d2ee46",
     "locked": true,
     "points": 5,
     "schema_version": 3,
     "solution": false,
     "task": false
    }
   },
   "outputs": [
    {
     "name": "stdout",
     "output_type": "stream",
     "text": [
      "[('4', 1), ('7', 1), ('10', 1), ('13', 1), ('19', 1), ('22', 1), ('23', 1), ('37', 1), ('40', 3), ('41', 1)]\n"
     ]
    }
   ],
   "source": [
    "##### Function check\n",
    "\n",
    "print(tf_index_1['computer'][:10])\n",
    "#### "
   ]
  },
  {
   "cell_type": "code",
   "execution_count": 22,
   "metadata": {
    "ExecuteTime": {
     "end_time": "2021-02-11T12:59:36.443568Z",
     "start_time": "2021-02-11T12:59:36.436586Z"
    },
    "deletable": false,
    "editable": false,
    "id": "IaQl12X74IWe",
    "nbgrader": {
     "cell_type": "code",
     "checksum": "02de27463e2a393f46278d6fe3160481",
     "grade": true,
     "grade_id": "cell-ff06bd11204db250",
     "locked": true,
     "points": 5,
     "schema_version": 3,
     "solution": false,
     "task": false
    }
   },
   "outputs": [
    {
     "name": "stdout",
     "output_type": "stream",
     "text": [
      "[('670', 1), ('675', 1), ('1621', 3), ('1681', 1), ('2145', 1), ('2339', 1), ('2572', 1), ('2583', 1), ('2739', 1), ('3012', 1)]\n"
     ]
    }
   ],
   "source": [
    "##### Function check\n",
    "\n",
    "print(tf_index_2['computer'][:10]) \n",
    "#### "
   ]
  },
  {
   "cell_type": "markdown",
   "metadata": {
    "deletable": false,
    "editable": false,
    "id": "D3EIl_rY4IWf",
    "nbgrader": {
     "cell_type": "markdown",
     "checksum": "982112dca3f9a75e871bea74fe1adab4",
     "grade": false,
     "grade_id": "cell-89eba71f04310291",
     "locked": true,
     "schema_version": 3,
     "solution": false,
     "task": false
    }
   },
   "source": [
    "\n",
    "---\n",
    "## Section 3: Ranking  (80 points) <a class=\"anchor\" id=\"ranking\"></a>\n",
    "\n",
    "[Back to Part 1](#part1)\n",
    "\n",
    "Now that we have cleaned and processed our dataset, we can start building simple IR systems. \n",
    "\n",
    "For now, we consider *simple* IR systems, which involve computing scores from the tokens present in the document/query. More advanced methods are covered in later assignments.\n",
    "\n",
    "We will implement the following methods in this section:\n",
    "- [Section 3.1: Bag of Words](#bow) (10 points)\n",
    "- [Section 3.2: TF-IDF](#tfidf) (15 points)\n",
    "- [Section 3.3: Query Likelihood Model](#qlm) (35 points)\n",
    "- [Section 3.4: BM25](#bm25) (20 points)\n",
    "\n",
    "**Scoring policy:**\n",
    "Your implementations in this section are scored based on the expected performance of your ranking functions.\n",
    "You will get a full mark if your implementation meets the expected performance (measured by some evaluation metric).\n",
    "Otherwise, you may get partial credit.\n",
    "For example, if your *Bag of words* ranking function has 60% of expected performance, you will get 4 out of 10."
   ]
  },
  {
   "cell_type": "markdown",
   "metadata": {
    "deletable": false,
    "editable": false,
    "id": "43wdjFkt4IWf",
    "nbgrader": {
     "cell_type": "markdown",
     "checksum": "97c13d2e2cad60df4a70dcb61ea7c30e",
     "grade": false,
     "grade_id": "cell-3daf70a60e393adf",
     "locked": true,
     "schema_version": 3,
     "solution": false,
     "task": false
    }
   },
   "source": [
    "--- \n",
    "\n",
    "### Section 3.1: Bag of Words (10 points)<a class=\"anchor\" id=\"bow\"></a>\n",
    "\n",
    "Probably the simplest IR model is the Bag of Words (BOW) model.\n",
    "Implement a function that scores and ranks all the documents against a query using this model.   \n",
    "\n",
    "Note that you can use either the count of the token or 'binarize' it i.e set the value equal to 1 if the token appears.   \n"
   ]
  },
  {
   "cell_type": "code",
   "execution_count": 23,
   "metadata": {
    "ExecuteTime": {
     "end_time": "2021-02-11T12:59:36.452544Z",
     "start_time": "2021-02-11T12:59:36.446560Z"
    },
    "deletable": false,
    "id": "YdfD8mWa4IWf",
    "nbgrader": {
     "cell_type": "code",
     "checksum": "1178c8a8908b0e4dc07add7aa49b7fde",
     "grade": false,
     "grade_id": "cell-de9cf0459c4b9324",
     "locked": false,
     "schema_version": 3,
     "solution": true,
     "task": false
    }
   },
   "outputs": [],
   "source": [
    "# TODO: Implement this! (10 points)\n",
    "def bow_search(query, index_set):\n",
    "    \"\"\"\n",
    "        Perform a search over all documents with the given query. \n",
    "        Note: You have to use the `get_index` function created in the previous cells\n",
    "        Input: \n",
    "            query - a (unprocessed) query\n",
    "            index_set - the index to use\n",
    "        Output: a list of (document_id, score), sorted in descending relevance to the given query \n",
    "    \"\"\"\n",
    "    index = get_index(index_set)\n",
    "    processed_query = preprocess_query(query, index_set)\n",
    "    \n",
    "    # YOUR CODE HERE\n",
    "    doc_scores = {}\n",
    "    for query_word in processed_query:\n",
    "        if query_word in index:\n",
    "            word_occurences = index[query_word] \n",
    "            for (doc_id, counts) in word_occurences:\n",
    "                if doc_id not in doc_scores:\n",
    "                    doc_scores[doc_id] = counts\n",
    "                else:\n",
    "                    doc_scores[doc_id] += counts\n",
    "    \n",
    "    sorted_scores = [(k, float(v)) for k, v in sorted(doc_scores.items(), key=lambda item:item[1], reverse=True)]\n",
    "\n",
    "    return sorted_scores"
   ]
  },
  {
   "cell_type": "code",
   "execution_count": 24,
   "metadata": {
    "ExecuteTime": {
     "end_time": "2021-02-11T12:59:36.462517Z",
     "start_time": "2021-02-11T12:59:36.455550Z"
    },
    "deletable": false,
    "editable": false,
    "id": "YAeh2kuY4IWf",
    "nbgrader": {
     "cell_type": "code",
     "checksum": "644d6d33cf5075c6d9878d4fe24c6213",
     "grade": true,
     "grade_id": "cell-9f6aceae6dd9125f",
     "locked": true,
     "points": 2,
     "schema_version": 3,
     "solution": false,
     "task": false
    }
   },
   "outputs": [
    {
     "name": "stdout",
     "output_type": "stream",
     "text": [
      "BOW Results:\n",
      "Rank 0(6.0): An Information Algebra - Phase I Report-Language\\n...\n",
      "Rank 1(6.0): Rejuvenating Experimental Computer Science\\nThis r...\n",
      "Rank 2(3.0): ALGOL 60 Confidential\\nThe ALGOL 60 Report,* when ...\n",
      "Rank 3(2.0): Automatic Abstracting and Indexing Survey and Reco...\n",
      "Rank 4(2.0): A String Language for Symbol Manipulation Based on...\n"
     ]
    }
   ],
   "source": [
    "#### Function check\n",
    "\n",
    "docs_by_id = dict(docs)\n",
    "def print_results(docs, len_limit=50):    \n",
    "    for i, (doc_id, score) in enumerate(docs):\n",
    "        doc_content = docs_by_id[doc_id].strip().replace(\"\\n\", \"\\\\n\")[:len_limit] + \"...\"\n",
    "        print(f\"Rank {i}({score:.2}): {doc_content}\")\n",
    "\n",
    "test_bow = bow_search(\"report\", index_set=1)[:5]\n",
    "print(f\"BOW Results:\")\n",
    "print_results(test_bow)\n",
    "#### "
   ]
  },
  {
   "cell_type": "code",
   "execution_count": 25,
   "metadata": {
    "ExecuteTime": {
     "end_time": "2021-02-11T12:59:36.466508Z",
     "start_time": "2021-02-11T12:59:36.463514Z"
    },
    "deletable": false,
    "editable": false,
    "id": "VxcFb-PS4IWf",
    "nbgrader": {
     "cell_type": "code",
     "checksum": "8d54c91b913d7a54b25f3358c969fa45",
     "grade": true,
     "grade_id": "cell-4eed3abf233d9b58",
     "locked": true,
     "points": 2,
     "schema_version": 3,
     "solution": false,
     "task": false
    }
   },
   "outputs": [],
   "source": [
    "#### Please do not change this. This cell is used for grading."
   ]
  },
  {
   "cell_type": "code",
   "execution_count": 26,
   "metadata": {
    "ExecuteTime": {
     "end_time": "2021-02-11T12:59:36.471493Z",
     "start_time": "2021-02-11T12:59:36.468503Z"
    },
    "deletable": false,
    "editable": false,
    "id": "2Q52Hizy4IWf",
    "nbgrader": {
     "cell_type": "code",
     "checksum": "58bcc16d36dc079b7f41f9572423c62b",
     "grade": true,
     "grade_id": "cell-4d65a2d7090c466c",
     "locked": true,
     "points": 3,
     "schema_version": 3,
     "solution": false,
     "task": false
    }
   },
   "outputs": [],
   "source": [
    "#### Please do not change this. This cell is used for grading."
   ]
  },
  {
   "cell_type": "code",
   "execution_count": 27,
   "metadata": {
    "ExecuteTime": {
     "end_time": "2021-02-11T12:59:36.477478Z",
     "start_time": "2021-02-11T12:59:36.473488Z"
    },
    "deletable": false,
    "editable": false,
    "id": "_EV8Ezcu4IWg",
    "nbgrader": {
     "cell_type": "code",
     "checksum": "65e4561970c4eba3e5ce43b142f858af",
     "grade": true,
     "grade_id": "cell-dedf36ab5853ce20",
     "locked": true,
     "points": 3,
     "schema_version": 3,
     "solution": false,
     "task": false
    }
   },
   "outputs": [],
   "source": [
    "#### Please do not change this. This cell is used for grading."
   ]
  },
  {
   "cell_type": "markdown",
   "metadata": {
    "deletable": false,
    "editable": false,
    "id": "a6te4fbZ4IWg",
    "nbgrader": {
     "cell_type": "markdown",
     "checksum": "a5c2318004c5ce534b67c7a36bbc7c31",
     "grade": false,
     "grade_id": "cell-a5c09c79ac1f2871",
     "locked": true,
     "schema_version": 3,
     "solution": false,
     "task": false
    }
   },
   "source": [
    "\n",
    "---\n",
    "\n",
    "### Section 3.2: TF-IDF (15 points) <a class=\"anchor\" id=\"tfidf\"></a>\n",
    "\n",
    "Before we implement the tf-idf scoring functions, let's first write a function to compute the document frequencies of all words.  \n",
    "\n",
    "#### 3.2.1 Document frequency (5 points)\n",
    "Compute the document frequencies of all tokens in the collection.  "
   ]
  },
  {
   "cell_type": "code",
   "execution_count": 28,
   "metadata": {
    "ExecuteTime": {
     "end_time": "2021-02-11T12:59:36.483461Z",
     "start_time": "2021-02-11T12:59:36.479472Z"
    },
    "deletable": false,
    "id": "JTO8ZA5t4IWg",
    "nbgrader": {
     "cell_type": "code",
     "checksum": "11cdde77378ded394d7922fe36bbc5d1",
     "grade": false,
     "grade_id": "cell-9a2369f32e864b8a",
     "locked": false,
     "schema_version": 3,
     "solution": true,
     "task": false
    }
   },
   "outputs": [],
   "source": [
    "# TODO: Implement this! (5 points)\n",
    "def compute_df(documents):\n",
    "    \"\"\"\n",
    "        Compute the document frequency of all terms in the vocabulary\n",
    "        Input: A list of documents\n",
    "        Output: A dictionary with {token: document frequency)\n",
    "    \"\"\"\n",
    "    # YOUR CODE HERE\n",
    "    merge_list = []\n",
    "    for doc in documents:\n",
    "        merge_list.extend(set(doc))\n",
    "    dict_ = Counter(merge_list)\n",
    "    \n",
    "    return dict_ \n"
   ]
  },
  {
   "cell_type": "code",
   "execution_count": 29,
   "metadata": {
    "ExecuteTime": {
     "end_time": "2021-02-11T12:59:36.554271Z",
     "start_time": "2021-02-11T12:59:36.485456Z"
    },
    "deletable": false,
    "editable": false,
    "id": "pWi3HvTH4IWg",
    "nbgrader": {
     "cell_type": "code",
     "checksum": "154985511d7925c5793a1f97dea81880",
     "grade": false,
     "grade_id": "cell-4c3bddd0b73ac90e",
     "locked": true,
     "schema_version": 3,
     "solution": false,
     "task": false
    }
   },
   "outputs": [],
   "source": [
    "#### Compute df based on the two configs\n",
    "\n",
    "# get the document frequencies of each document\n",
    "df_1 = compute_df([d[1] for d in doc_repr_1])\n",
    "df_2 = compute_df([d[1] for d in doc_repr_2])\n",
    "\n",
    "def get_df(index_set):\n",
    "    assert index_set in {1, 2}\n",
    "    return {\n",
    "        1: df_1,\n",
    "        2: df_2\n",
    "    }[index_set]\n",
    "####"
   ]
  },
  {
   "cell_type": "code",
   "execution_count": 30,
   "metadata": {
    "ExecuteTime": {
     "end_time": "2021-02-11T12:59:36.559258Z",
     "start_time": "2021-02-11T12:59:36.555269Z"
    },
    "deletable": false,
    "editable": false,
    "id": "5Y16YYM04IWg",
    "nbgrader": {
     "cell_type": "code",
     "checksum": "110cc180068cf3f77c682ee3de2a117c",
     "grade": true,
     "grade_id": "cell-79e8a6db1e5fc46f",
     "locked": true,
     "points": 5,
     "schema_version": 3,
     "solution": false,
     "task": false
    }
   },
   "outputs": [
    {
     "name": "stdout",
     "output_type": "stream",
     "text": [
      "597\n",
      "11\n"
     ]
    }
   ],
   "source": [
    "#### Function check\n",
    "\n",
    "print(df_1['computer'])\n",
    "print(df_2['computer'])\n",
    "####"
   ]
  },
  {
   "cell_type": "markdown",
   "metadata": {
    "deletable": false,
    "editable": false,
    "id": "X2fSm6OJ4IWg",
    "nbgrader": {
     "cell_type": "markdown",
     "checksum": "6646996a2d016ef86e7cedd2f79a29d1",
     "grade": false,
     "grade_id": "cell-52f6acc487e1b96d",
     "locked": true,
     "schema_version": 3,
     "solution": false,
     "task": false
    }
   },
   "source": [
    "---\n",
    "#### 3.2.2 TF-IDF search (10 points)\n",
    "Next, implement a function that computes a tf-idf score given a query.      "
   ]
  },
  {
   "cell_type": "code",
   "execution_count": 31,
   "metadata": {
    "ExecuteTime": {
     "end_time": "2021-02-11T12:59:36.568234Z",
     "start_time": "2021-02-11T12:59:36.560256Z"
    },
    "deletable": false,
    "id": "xxWNAcOB4IWg",
    "nbgrader": {
     "cell_type": "code",
     "checksum": "b33c859693d1b383bcb53acea340027f",
     "grade": false,
     "grade_id": "cell-2fb5ba34b2994cd9",
     "locked": false,
     "schema_version": 3,
     "solution": true,
     "task": false
    }
   },
   "outputs": [
    {
     "name": "stdout",
     "output_type": "stream",
     "text": [
      "TFIDF Results:\n",
      "Rank 0(1.3e+01): Logic and Programming Languages\\nLogic has been lo...\n",
      "Rank 1(1.3e+01): Consumer Difficulties With Computerized Transactio...\n",
      "Rank 2(8.9): What is Proprietary In Mathematical Programming?-I...\n",
      "Rank 3(8.9): A Statistical Model for Console Behavior in Multiu...\n",
      "Rank 4(8.9): Arguments for a Moratorium on the Construction\\nof...\n"
     ]
    }
   ],
   "source": [
    "# TODO: Implement this! (10 points)\n",
    "def tfidf_search(query, index_set):\n",
    "    \"\"\"\n",
    "        Perform a search over all documents with the given query using tf-idf. \n",
    "        Note #1: You have to use the `get_index` (and the `get_df`) function created in the previous cells\n",
    "        Input: \n",
    "            query - a (unprocessed) query\n",
    "            index_set - the index to use\n",
    "        Output: a list of (document_id, score), sorted in descending relevance to the given query \n",
    "    \"\"\"\n",
    "    index = get_index(index_set)\n",
    "    df = get_df(index_set)\n",
    "    processed_query = preprocess_query(query, index_set)\n",
    "    \n",
    "    # YOUR CODE HERE\n",
    "    nr_docs = len(doc_repr_1)\n",
    "    doc_scores = {}\n",
    "    for query_word in processed_query:\n",
    "        idf = math.log(nr_docs/df[query_word])\n",
    "        if query_word in index:\n",
    "            for (doc_id, tf) in index[query_word]:\n",
    "                if doc_id not in doc_scores:\n",
    "                    doc_scores[doc_id] = tf * idf\n",
    "                else:\n",
    "                    doc_scores[doc_id] += (tf * idf)\n",
    "\n",
    "        sorted_scores = [(k, v) for k, v in sorted(doc_scores.items(), key=lambda item:item[1], reverse=True)]\n",
    "        return sorted_scores\n",
    "\n",
    "\n",
    "\n",
    "\n",
    "test_tfidf = tfidf_search(\"What articles exist which deal with TSS (Time Sharing System), an operating system for IBM computers?\", index_set=1)[:5]\n",
    "print(f\"TFIDF Results:\")\n",
    "print_results(test_tfidf)"
   ]
  },
  {
   "cell_type": "code",
   "execution_count": 32,
   "metadata": {
    "ExecuteTime": {
     "end_time": "2021-02-11T12:59:36.574219Z",
     "start_time": "2021-02-11T12:59:36.569232Z"
    },
    "deletable": false,
    "editable": false,
    "id": "leBfCIu04IWh",
    "nbgrader": {
     "cell_type": "code",
     "checksum": "10b9fd39f3c9a9f3ca274c020ad79323",
     "grade": true,
     "grade_id": "cell-bc68aeeacf42beb3",
     "locked": true,
     "points": 2,
     "schema_version": 3,
     "solution": false,
     "task": false
    },
    "tags": []
   },
   "outputs": [
    {
     "name": "stdout",
     "output_type": "stream",
     "text": [
      "TFIDF Results:\n",
      "Rank 0(2.3e+01): An Information Algebra - Phase I Report-Language\\n...\n",
      "Rank 1(2.3e+01): Rejuvenating Experimental Computer Science\\nThis r...\n",
      "Rank 2(1.2e+01): ALGOL 60 Confidential\\nThe ALGOL 60 Report,* when ...\n",
      "Rank 3(7.8): Automatic Abstracting and Indexing Survey and Reco...\n",
      "Rank 4(7.8): A String Language for Symbol Manipulation Based on...\n"
     ]
    }
   ],
   "source": [
    "#### Function check\n",
    "test_tfidf = tfidf_search(\"report\", index_set=1)[:5]\n",
    "print(f\"TFIDF Results:\")\n",
    "print_results(test_tfidf)\n",
    "####"
   ]
  },
  {
   "cell_type": "code",
   "execution_count": 33,
   "metadata": {
    "ExecuteTime": {
     "end_time": "2021-02-11T12:59:36.579205Z",
     "start_time": "2021-02-11T12:59:36.576213Z"
    },
    "deletable": false,
    "editable": false,
    "id": "Npd3IiET4IWh",
    "nbgrader": {
     "cell_type": "code",
     "checksum": "03441f97df9db4996d0f260fcc974e9d",
     "grade": true,
     "grade_id": "cell-c7702fa8179fadb9",
     "locked": true,
     "points": 2,
     "schema_version": 3,
     "solution": false,
     "task": false
    }
   },
   "outputs": [],
   "source": [
    "#### Please do not change this. This cell is used for grading."
   ]
  },
  {
   "cell_type": "code",
   "execution_count": 34,
   "metadata": {
    "ExecuteTime": {
     "end_time": "2021-02-11T12:59:36.584192Z",
     "start_time": "2021-02-11T12:59:36.580202Z"
    },
    "deletable": false,
    "editable": false,
    "id": "wNuwNNBt4IWh",
    "nbgrader": {
     "cell_type": "code",
     "checksum": "7272cfcbb457a74d23bfec1f85d22d5f",
     "grade": true,
     "grade_id": "cell-3284f50ac29abbaa",
     "locked": true,
     "points": 3,
     "schema_version": 3,
     "solution": false,
     "task": false
    }
   },
   "outputs": [],
   "source": [
    "#### Please do not change this. This cell is used for grading."
   ]
  },
  {
   "cell_type": "code",
   "execution_count": 35,
   "metadata": {
    "ExecuteTime": {
     "end_time": "2021-02-11T12:59:36.588181Z",
     "start_time": "2021-02-11T12:59:36.585190Z"
    },
    "deletable": false,
    "editable": false,
    "id": "ZH-U34qc4IWh",
    "nbgrader": {
     "cell_type": "code",
     "checksum": "fcbcc867713612b90395d653db8fd5e3",
     "grade": true,
     "grade_id": "cell-d908c80a3155354b",
     "locked": true,
     "points": 3,
     "schema_version": 3,
     "solution": false,
     "task": false
    }
   },
   "outputs": [],
   "source": [
    "#### Please do not change this. This cell is used for grading."
   ]
  },
  {
   "cell_type": "markdown",
   "metadata": {
    "deletable": false,
    "editable": false,
    "id": "CF8mA1LD4IWh",
    "nbgrader": {
     "cell_type": "markdown",
     "checksum": "cdffc83f0eaea937cf64a212e7e9af8d",
     "grade": false,
     "grade_id": "cell-f5d923459ba21733",
     "locked": true,
     "schema_version": 3,
     "solution": false,
     "task": false
    }
   },
   "source": [
    "--- \n",
    "\n",
    "### Section 3.3: Query Likelihood Model (35 points) <a class=\"anchor\" id=\"qlm\"></a>\n",
    "\n",
    "In this section, you will implement a simple query likelihood model. \n",
    "\n",
    "\n",
    "#### 3.3.1 Naive QL (15 points)\n",
    "\n",
    "First, let us implement a naive version of a QL model, assuming a multinomial unigram language model (with a uniform prior over the documents). \n",
    "\n"
   ]
  },
  {
   "cell_type": "code",
   "execution_count": 36,
   "metadata": {
    "ExecuteTime": {
     "end_time": "2021-02-11T12:59:36.595162Z",
     "start_time": "2021-02-11T12:59:36.589179Z"
    },
    "deletable": false,
    "editable": false,
    "id": "5Z4AnsRm4IWh",
    "nbgrader": {
     "cell_type": "code",
     "checksum": "b7ae2b7d818b428b4638c1c9206d2aca",
     "grade": false,
     "grade_id": "cell-98505778f7b68e7f",
     "locked": true,
     "schema_version": 3,
     "solution": false,
     "task": false
    }
   },
   "outputs": [],
   "source": [
    "#### Document length for normalization\n",
    "\n",
    "def doc_lengths(documents):\n",
    "    doc_lengths = {doc_id:len(doc) for (doc_id, doc) in documents}\n",
    "    return doc_lengths\n",
    "\n",
    "doc_lengths_1 = doc_lengths(doc_repr_1)\n",
    "doc_lengths_2 = doc_lengths(doc_repr_2)\n",
    "\n",
    "def get_doc_lengths(index_set):\n",
    "    assert index_set in {1, 2}\n",
    "    return {\n",
    "        1: doc_lengths_1,\n",
    "        2: doc_lengths_2\n",
    "    }[index_set]\n",
    "####"
   ]
  },
  {
   "cell_type": "code",
   "execution_count": 37,
   "metadata": {
    "ExecuteTime": {
     "end_time": "2021-02-11T12:59:36.601146Z",
     "start_time": "2021-02-11T12:59:36.596160Z"
    },
    "deletable": false,
    "id": "-WXzO9tU4IWi",
    "nbgrader": {
     "cell_type": "code",
     "checksum": "cedd08303a914243fefdb6b876977ca1",
     "grade": false,
     "grade_id": "cell-8bcf2b804d636c2e",
     "locked": false,
     "schema_version": 3,
     "solution": true,
     "task": false
    }
   },
   "outputs": [],
   "source": [
    "# TODO: Implement this! (15 points)\n",
    "def naive_ql_search(query, index_set):\n",
    "    \"\"\"\n",
    "        Perform a search over all documents with the given query using a naive QL model. \n",
    "        Note #1: You have to use the `get_index` (and get_doc_lengths) function created in the previous cells\n",
    "        Input: \n",
    "            query - a (unprocessed) query\n",
    "            index_set - the index to use\n",
    "        Output: a list of (document_id, score), sorted in descending relevance to the given query \n",
    "    \"\"\"\n",
    "    index = get_index(index_set)\n",
    "    doc_lengths = get_doc_lengths(index_set)\n",
    "    processed_query = preprocess_query(query, index_set)\n",
    "    # YOUR CODE HERE\n",
    "    ql_scores = {}\n",
    "    for token in processed_query:\n",
    "        if token in index:\n",
    "            for (id,num) in index[token]:\n",
    "                score = num / doc_lengths[id]\n",
    "                if id not in ql_scores:\n",
    "                    ql_scores[id] = score\n",
    "                else:\n",
    "                    ql_scores[id] += score\n",
    "                \n",
    "    ql_scores_list = [(key, score) for key, score in ql_scores.items()]\n",
    "    ql_scores_list.sort(key=lambda x: x[1], reverse = True)\n",
    "    return ql_scores_list "
   ]
  },
  {
   "cell_type": "code",
   "execution_count": 38,
   "metadata": {
    "ExecuteTime": {
     "end_time": "2021-02-11T12:59:36.606133Z",
     "start_time": "2021-02-11T12:59:36.602143Z"
    },
    "deletable": false,
    "editable": false,
    "id": "VHLDABlc4IWi",
    "nbgrader": {
     "cell_type": "code",
     "checksum": "b550d15bdad28354c336020a00c33d56",
     "grade": true,
     "grade_id": "cell-5a83ac12ecde8578",
     "locked": true,
     "points": 3,
     "schema_version": 3,
     "solution": false,
     "task": false
    }
   },
   "outputs": [
    {
     "name": "stdout",
     "output_type": "stream",
     "text": [
      "Naive QL Results:\n",
      "Rank 0(0.2): A Report Writer For COBOL...\n",
      "Rank 1(0.2): A CRT Report Generating System...\n",
      "Rank 2(0.17): Preliminary Report-International Algebraic Languag...\n",
      "Rank 3(0.17): Supplement to the ALGOL 60 Report...\n",
      "Rank 4(0.14): ALGOL Sub-Committee Report - Extensions...\n"
     ]
    }
   ],
   "source": [
    "#### Function check\n",
    "test_naiveql = naive_ql_search(\"report\", index_set=1)[:5]\n",
    "print(f\"Naive QL Results:\")\n",
    "print_results(test_naiveql)\n",
    "####"
   ]
  },
  {
   "cell_type": "code",
   "execution_count": 39,
   "metadata": {
    "ExecuteTime": {
     "end_time": "2021-02-11T12:59:36.611119Z",
     "start_time": "2021-02-11T12:59:36.608128Z"
    },
    "deletable": false,
    "editable": false,
    "id": "52J5wGHX4IWi",
    "nbgrader": {
     "cell_type": "code",
     "checksum": "799df1d81c63fe90edbb6c218fc707fb",
     "grade": true,
     "grade_id": "cell-80f4bf2137f997bb",
     "locked": true,
     "points": 2,
     "schema_version": 3,
     "solution": false,
     "task": false
    }
   },
   "outputs": [],
   "source": [
    "#### Please do not change this. This cell is used for grading."
   ]
  },
  {
   "cell_type": "code",
   "execution_count": 40,
   "metadata": {
    "ExecuteTime": {
     "end_time": "2021-02-11T12:59:36.615109Z",
     "start_time": "2021-02-11T12:59:36.612117Z"
    },
    "deletable": false,
    "editable": false,
    "id": "vXS0rYJ94IWi",
    "nbgrader": {
     "cell_type": "code",
     "checksum": "875a4a517d27e20625d41783cebec118",
     "grade": true,
     "grade_id": "cell-5ce2993458a8ce51",
     "locked": true,
     "points": 3,
     "schema_version": 3,
     "solution": false,
     "task": false
    }
   },
   "outputs": [],
   "source": [
    "#### Please do not change this. This cell is used for grading."
   ]
  },
  {
   "cell_type": "code",
   "execution_count": 41,
   "metadata": {
    "ExecuteTime": {
     "end_time": "2021-02-11T12:59:36.619098Z",
     "start_time": "2021-02-11T12:59:36.616106Z"
    },
    "deletable": false,
    "editable": false,
    "id": "E7Og-DYJ4IWi",
    "nbgrader": {
     "cell_type": "code",
     "checksum": "d5c4e1c3852e71a46f32825b122f1b71",
     "grade": true,
     "grade_id": "cell-7753bdb54e292f3d",
     "locked": true,
     "points": 3,
     "schema_version": 3,
     "solution": false,
     "task": false
    }
   },
   "outputs": [],
   "source": [
    "#### Please do not change this. This cell is used for grading."
   ]
  },
  {
   "cell_type": "code",
   "execution_count": 42,
   "metadata": {
    "ExecuteTime": {
     "end_time": "2021-02-11T12:59:36.624084Z",
     "start_time": "2021-02-11T12:59:36.621093Z"
    },
    "deletable": false,
    "editable": false,
    "id": "GIrjDu1G4IWi",
    "nbgrader": {
     "cell_type": "code",
     "checksum": "c4d4332d4356e89ce0240f6b80e1899a",
     "grade": true,
     "grade_id": "cell-54e476e2f96e64bb",
     "locked": true,
     "points": 4,
     "schema_version": 3,
     "solution": false,
     "task": false
    }
   },
   "outputs": [],
   "source": [
    "#### Please do not change this. This cell is used for grading."
   ]
  },
  {
   "cell_type": "markdown",
   "metadata": {
    "deletable": false,
    "editable": false,
    "id": "PwcdEmYB4IWi",
    "nbgrader": {
     "cell_type": "markdown",
     "checksum": "8d739dc91a22bd48897f603885f95a74",
     "grade": false,
     "grade_id": "cell-5414dfd69dab8b94",
     "locked": true,
     "schema_version": 3,
     "solution": false,
     "task": false
    }
   },
   "source": [
    "---\n",
    "#### 3.3.2 QL (20 points)\n",
    "Now, let's implement a QL model that handles the issues with the naive version. In particular, you will implement a QL model with Jelinek-Mercer Smoothing. That means an interpolated score is computed per word - one term is the same as the previous naive version, and the second term comes from a unigram language model. In addition, you should accumulate the scores by summing the **log** (smoothed) probability which leads to better numerical stability."
   ]
  },
  {
   "cell_type": "code",
   "execution_count": 43,
   "metadata": {
    "ExecuteTime": {
     "end_time": "2021-02-11T12:59:36.631065Z",
     "start_time": "2021-02-11T12:59:36.625082Z"
    },
    "deletable": false,
    "id": "vQ7JGYo34IWj",
    "nbgrader": {
     "cell_type": "code",
     "checksum": "b8c6abf937ad333e628f1db891f2e29e",
     "grade": false,
     "grade_id": "cell-bb1f506409771257",
     "locked": false,
     "schema_version": 3,
     "solution": true,
     "task": false
    }
   },
   "outputs": [],
   "source": [
    "# TODO: Implement this! (20 points)\n",
    "\n",
    "# YOUR CODE HERE\n",
    "def ql_search(query, index_set):\n",
    "    \"\"\"\n",
    "        Perform a search over all documents with the given query using a QL model \n",
    "        with Jelinek-Mercer Smoothing (set smoothing=0.1). \n",
    "        \n",
    "        \n",
    "        Note #1: You have to use the `get_index` (and get_doc_lengths) function created in the previous cells\n",
    "        Note #2: You might have to create some variables beforehand and use them in this function\n",
    "        \n",
    "        \n",
    "        Input: \n",
    "            query - a (unprocessed) query\n",
    "            index_set - the index to use\n",
    "        Output: a list of (document_id, score), sorted in descending relevance to the given query \n",
    "    \"\"\"\n",
    "    index = get_index(index_set)\n",
    "    doc_lengths = get_doc_lengths(index_set)\n",
    "    processed_query = preprocess_query(query, index_set)\n",
    "    \n",
    "    # YOUR CODE HERE\n",
    "    smoothing = 0.1\n",
    "    num_of_docs = len(doc_lengths)\n",
    "    df = get_df(index_set)\n",
    "    ql_scores = {}\n",
    "    for token in processed_query:\n",
    "        if token in index:\n",
    "            term_2 = (1-smoothing) * (df[token] / num_of_docs)\n",
    "            for (id,num) in index[token]:\n",
    "                term_1 = smoothing * (num / doc_lengths[id])\n",
    "                score = math.log(term_1 + term_2)\n",
    "                if id not in ql_scores:\n",
    "                    ql_scores[id] = score\n",
    "                else:\n",
    "                    ql_scores[id] += score\n",
    "                \n",
    "    ql_scores_list = [(key, score) for key, score in ql_scores.items()]\n",
    "    ql_scores_list.sort(key=lambda x: x[1], reverse = True)\n",
    "    return ql_scores_list\n",
    "    "
   ]
  },
  {
   "cell_type": "code",
   "execution_count": 44,
   "metadata": {
    "ExecuteTime": {
     "end_time": "2021-02-11T12:59:36.637050Z",
     "start_time": "2021-02-11T12:59:36.632063Z"
    },
    "deletable": false,
    "editable": false,
    "id": "onjd74_U4IWj",
    "nbgrader": {
     "cell_type": "code",
     "checksum": "0b12a7f3355193a257fd9f5f69a66562",
     "grade": true,
     "grade_id": "cell-850e9d6369bcec32",
     "locked": true,
     "points": 4,
     "schema_version": 3,
     "solution": false,
     "task": false
    }
   },
   "outputs": [
    {
     "name": "stdout",
     "output_type": "stream",
     "text": [
      "Rank 0(-3.3): A Report Writer For COBOL...\n",
      "Rank 1(-3.3): A CRT Report Generating System...\n",
      "Rank 2(-3.4): Preliminary Report-International Algebraic Languag...\n",
      "Rank 3(-3.4): Supplement to the ALGOL 60 Report...\n",
      "Rank 4(-3.4): ALGOL Sub-Committee Report - Extensions...\n",
      "\n",
      "Rank 0(-3.3e+01): A Report Writer For COBOL...\n",
      "Rank 1(-3.3e+01): A CRT Report Generating System...\n",
      "Rank 2(-3.4e+01): Preliminary Report-International Algebraic Languag...\n",
      "Rank 3(-3.4e+01): Supplement to the ALGOL 60 Report...\n",
      "Rank 4(-3.4e+01): ALGOL Sub-Committee Report - Extensions...\n"
     ]
    }
   ],
   "source": [
    "#### Function check\n",
    "test_ql_results = ql_search(\"report\", index_set=1)[:5]\n",
    "print_results(test_ql_results)\n",
    "print()\n",
    "test_ql_results_long = ql_search(\"report \" * 10, index_set=1)[:5]\n",
    "print_results(test_ql_results_long)\n",
    "####"
   ]
  },
  {
   "cell_type": "code",
   "execution_count": 45,
   "metadata": {
    "ExecuteTime": {
     "end_time": "2021-02-11T12:59:36.641040Z",
     "start_time": "2021-02-11T12:59:36.638047Z"
    },
    "deletable": false,
    "editable": false,
    "id": "2Nf0hYoy4IWj",
    "nbgrader": {
     "cell_type": "code",
     "checksum": "e40be645140389c115849856145f5b59",
     "grade": true,
     "grade_id": "cell-958cdcf6fd6899b7",
     "locked": true,
     "points": 3,
     "schema_version": 3,
     "solution": false,
     "task": false
    }
   },
   "outputs": [],
   "source": [
    "#### Please do not change this. This cell is used for grading."
   ]
  },
  {
   "cell_type": "code",
   "execution_count": 46,
   "metadata": {
    "ExecuteTime": {
     "end_time": "2021-02-11T12:59:36.646027Z",
     "start_time": "2021-02-11T12:59:36.643034Z"
    },
    "deletable": false,
    "editable": false,
    "id": "LBhA_QfH4IWj",
    "nbgrader": {
     "cell_type": "code",
     "checksum": "41d4aff001df17e7963ba79b45810b30",
     "grade": true,
     "grade_id": "cell-384dc23a0c251f6e",
     "locked": true,
     "points": 4,
     "schema_version": 3,
     "solution": false,
     "task": false
    }
   },
   "outputs": [],
   "source": [
    "#### Please do not change this. This cell is used for grading."
   ]
  },
  {
   "cell_type": "code",
   "execution_count": 47,
   "metadata": {
    "ExecuteTime": {
     "end_time": "2021-02-11T12:59:36.650016Z",
     "start_time": "2021-02-11T12:59:36.647024Z"
    },
    "deletable": false,
    "editable": false,
    "id": "RweZvvbK4IWj",
    "nbgrader": {
     "cell_type": "code",
     "checksum": "893e8c5a073abc8ebb763d267b91bc02",
     "grade": true,
     "grade_id": "cell-7218966cba5097cc",
     "locked": true,
     "points": 4,
     "schema_version": 3,
     "solution": false,
     "task": false
    }
   },
   "outputs": [],
   "source": [
    "#### Please do not change this. This cell is used for grading."
   ]
  },
  {
   "cell_type": "code",
   "execution_count": 48,
   "metadata": {
    "ExecuteTime": {
     "end_time": "2021-02-11T12:59:36.654005Z",
     "start_time": "2021-02-11T12:59:36.651013Z"
    },
    "deletable": false,
    "editable": false,
    "id": "9WGyJzph4IWj",
    "nbgrader": {
     "cell_type": "code",
     "checksum": "f99cb6f8b1f5830aaed8f06712ff846e",
     "grade": true,
     "grade_id": "cell-481ab073259ae53f",
     "locked": true,
     "points": 5,
     "schema_version": 3,
     "solution": false,
     "task": false
    }
   },
   "outputs": [],
   "source": [
    "#### Please do not change this. This cell is used for grading."
   ]
  },
  {
   "cell_type": "markdown",
   "metadata": {
    "deletable": false,
    "editable": false,
    "id": "a3vu_N7C4IWj",
    "nbgrader": {
     "cell_type": "markdown",
     "checksum": "c02f14705d679579b1aa9f78f54779d5",
     "grade": false,
     "grade_id": "cell-f44088bfdac1dc90",
     "locked": true,
     "schema_version": 3,
     "solution": false,
     "task": false
    }
   },
   "source": [
    "--- \n",
    "\n",
    "### Section 3.4: BM25 (20 points) <a class=\"anchor\" id=\"bm25\"></a>\n",
    "\n",
    "In this section, we will implement the BM25 scoring function. \n"
   ]
  },
  {
   "cell_type": "code",
   "execution_count": 49,
   "metadata": {
    "ExecuteTime": {
     "end_time": "2021-02-11T12:59:36.661983Z",
     "start_time": "2021-02-11T12:59:36.655999Z"
    },
    "deletable": false,
    "id": "NLVmJujG4IWk",
    "nbgrader": {
     "cell_type": "code",
     "checksum": "e57efe06ea92af1c83784a42eb3d86e0",
     "grade": false,
     "grade_id": "cell-15640fc9b5d00a3c",
     "locked": false,
     "schema_version": 3,
     "solution": true,
     "task": false
    }
   },
   "outputs": [],
   "source": [
    "# TODO: Implement this! (20 points)\n",
    "def bm25_search(query, index_set):\n",
    "    \"\"\"\n",
    "        Perform a search over all documents with the given query using BM25. Use k_1 = 1.5 and b = 0.75\n",
    "        Note #1: You have to use the `get_index` (and `get_doc_lengths`) function created in the previous cells\n",
    "        Note #2: You might have to create some variables beforehand and use them in this function\n",
    "        \n",
    "        Input: \n",
    "            query - a (unprocessed) query\n",
    "            index_set - the index to use\n",
    "        Output: a list of (document_id, score), sorted in descending relevance to the given query \n",
    "    \"\"\"\n",
    "    \n",
    "    index = get_index(index_set)\n",
    "    df = get_df(index_set)\n",
    "    doc_lengths = get_doc_lengths(index_set)\n",
    "    processed_query = preprocess_query(query, index_set)\n",
    "    \n",
    "    # YOUR CODE HERE\n",
    "    b = 0.75\n",
    "    k_1 = 1.5\n",
    "    \n",
    "    num_of_docs = len(doc_lengths)\n",
    "    avg_doc_length = sum(doc_lengths[key] for key in doc_lengths) / num_of_docs\n",
    "    \n",
    "    bm25_scores = {}\n",
    "    for token in processed_query:\n",
    "        if token in index:\n",
    "            token_freq = df[token]\n",
    "            for doc_id, num_of_occurences in index[token]:\n",
    "                doc_length = doc_lengths[doc_id]\n",
    "                idf = math.log((num_of_docs - token_freq + 0.5) / (token_freq + 0.5) + 1)\n",
    "                K = k_1 * (1 - b + b * (doc_length / avg_doc_length))\n",
    "                score = idf * (num_of_occurences * (k_1 + 1)) / (num_of_occurences + K)\n",
    "                if doc_id in bm25_scores:\n",
    "                    bm25_scores[doc_id] += score\n",
    "                else:\n",
    "                    bm25_scores[doc_id] = score \n",
    "\n",
    "    bm25_scores_list = [(key, score) for key, score in bm25_scores.items()]\n",
    "    bm25_scores_list.sort(key=lambda x: x[1], reverse = True)   \n",
    "    \n",
    "    return bm25_scores_list \n",
    "    "
   ]
  },
  {
   "cell_type": "code",
   "execution_count": 50,
   "metadata": {
    "ExecuteTime": {
     "end_time": "2021-02-11T12:59:36.666969Z",
     "start_time": "2021-02-11T12:59:36.662980Z"
    },
    "deletable": false,
    "editable": false,
    "id": "YocJglWu4IWk",
    "nbgrader": {
     "cell_type": "code",
     "checksum": "4be9de5d4e94637960d83725422bea6c",
     "grade": true,
     "grade_id": "cell-d10536bca72c74b1",
     "locked": true,
     "points": 3,
     "schema_version": 3,
     "solution": false,
     "task": false
    }
   },
   "outputs": [
    {
     "name": "stdout",
     "output_type": "stream",
     "text": [
      "Rank 0(6.7): A Report Writer For COBOL...\n",
      "Rank 1(6.7): A CRT Report Generating System...\n",
      "Rank 2(6.6): Preliminary Report-International Algebraic Languag...\n",
      "Rank 3(6.6): Supplement to the ALGOL 60 Report...\n",
      "Rank 4(6.5): ALGOL Sub-Committee Report - Extensions...\n"
     ]
    }
   ],
   "source": [
    "#### Function check\n",
    "test_bm25_results = bm25_search(\"report\", index_set=1)[:5]\n",
    "print_results(test_bm25_results)\n",
    "####"
   ]
  },
  {
   "cell_type": "code",
   "execution_count": 51,
   "metadata": {
    "ExecuteTime": {
     "end_time": "2021-02-11T12:59:36.670959Z",
     "start_time": "2021-02-11T12:59:36.667968Z"
    },
    "deletable": false,
    "editable": false,
    "id": "LMKx7x7X4IWk",
    "nbgrader": {
     "cell_type": "code",
     "checksum": "31b550d6a46ae4f8ede88788799ac2b9",
     "grade": true,
     "grade_id": "cell-60f6ec5052712d79",
     "locked": true,
     "points": 5,
     "schema_version": 3,
     "solution": false,
     "task": false
    }
   },
   "outputs": [],
   "source": [
    "#### Please do not change this. This cell is used for grading."
   ]
  },
  {
   "cell_type": "code",
   "execution_count": 52,
   "metadata": {
    "ExecuteTime": {
     "end_time": "2021-02-11T12:59:36.675946Z",
     "start_time": "2021-02-11T12:59:36.672955Z"
    },
    "deletable": false,
    "editable": false,
    "id": "zMyvPilQ4IWk",
    "nbgrader": {
     "cell_type": "code",
     "checksum": "3da2ec16bfe781916e71755d65aa2983",
     "grade": true,
     "grade_id": "cell-5d17524043a5abcc",
     "locked": true,
     "points": 5,
     "schema_version": 3,
     "solution": false,
     "task": false
    }
   },
   "outputs": [],
   "source": [
    "#### Please do not change this. This cell is used for grading."
   ]
  },
  {
   "cell_type": "code",
   "execution_count": 53,
   "metadata": {
    "ExecuteTime": {
     "end_time": "2021-02-11T12:59:36.681930Z",
     "start_time": "2021-02-11T12:59:36.677942Z"
    },
    "deletable": false,
    "editable": false,
    "id": "50XzuKTa4IWk",
    "nbgrader": {
     "cell_type": "code",
     "checksum": "e7b563d54fa84c20909c0ae107010541",
     "grade": true,
     "grade_id": "cell-ff8e704eda1184e3",
     "locked": true,
     "points": 3,
     "schema_version": 3,
     "solution": false,
     "task": false
    }
   },
   "outputs": [],
   "source": [
    "#### Please do not change this. This cell is used for grading."
   ]
  },
  {
   "cell_type": "code",
   "execution_count": 54,
   "metadata": {
    "ExecuteTime": {
     "end_time": "2021-02-11T12:59:36.685919Z",
     "start_time": "2021-02-11T12:59:36.682928Z"
    },
    "deletable": false,
    "editable": false,
    "id": "DYTt6NKh4IWk",
    "nbgrader": {
     "cell_type": "code",
     "checksum": "b013f90974b396630a8831d6f1d7e5f7",
     "grade": true,
     "grade_id": "cell-a52310500a2543cb",
     "locked": true,
     "points": 4,
     "schema_version": 3,
     "solution": false,
     "task": false
    }
   },
   "outputs": [],
   "source": [
    "#### Please do not change this. This cell is used for grading."
   ]
  },
  {
   "cell_type": "markdown",
   "metadata": {
    "deletable": false,
    "editable": false,
    "id": "bD5EZ9eN4IWl",
    "nbgrader": {
     "cell_type": "markdown",
     "checksum": "8fcf67cb7d5e8b26cb9bf1f0aa42c847",
     "grade": false,
     "grade_id": "cell-8b2b412c81d62f2d",
     "locked": true,
     "schema_version": 3,
     "solution": false,
     "task": false
    }
   },
   "source": [
    "\n",
    "---\n",
    "\n",
    "### 3.5. Test Your Functions\n",
    "\n",
    "The widget below allows you to play with the search functions you've written so far. Use this to test your search functions and ensure that they work as expected."
   ]
  },
  {
   "cell_type": "code",
   "execution_count": 55,
   "metadata": {
    "ExecuteTime": {
     "end_time": "2021-02-11T12:59:36.695893Z",
     "start_time": "2021-02-11T12:59:36.687915Z"
    },
    "deletable": false,
    "editable": false,
    "id": "mIWUmEd14IWl",
    "nbgrader": {
     "cell_type": "code",
     "checksum": "dfeb204b390acc0794dbdcac92b0cf2c",
     "grade": false,
     "grade_id": "cell-c9c2bb76354e8d97",
     "locked": true,
     "schema_version": 3,
     "solution": false,
     "task": false
    }
   },
   "outputs": [],
   "source": [
    "#### Highlighter function\n",
    "# class for results\n",
    "ResultRow = namedtuple(\"ResultRow\", [\"doc_id\", \"snippet\", \"score\"])\n",
    "# doc_id -> doc\n",
    "docs_by_id = dict((d[0], d[1]) for d in docs)\n",
    "\n",
    "def highlight_text(document, query, tol=17):\n",
    "    import re\n",
    "    tokens = tokenize(query)\n",
    "    regex = \"|\".join(f\"(\\\\b{t}\\\\b)\" for t in tokens)\n",
    "    regex = re.compile(regex, flags=re.IGNORECASE)\n",
    "    output = \"\"\n",
    "    i = 0\n",
    "    for m in regex.finditer(document):\n",
    "        start_idx = max(0, m.start() - tol)\n",
    "        end_idx = min(len(document), m.end() + tol)\n",
    "        output += \"\".join([\"...\",\n",
    "                        document[start_idx:m.start()],\n",
    "                        \"<strong>\",\n",
    "                        document[m.start():m.end()],\n",
    "                        \"</strong>\",\n",
    "                        document[m.end():end_idx],\n",
    "                        \"...\"])\n",
    "    return output.replace(\"\\n\", \" \")\n",
    "\n",
    "\n",
    "def make_results(query, search_fn, index_set):\n",
    "    results = []\n",
    "    for doc_id, score in search_fn(query, index_set):\n",
    "        highlight = highlight_text(docs_by_id[doc_id], query)\n",
    "        if len(highlight.strip()) == 0:\n",
    "            highlight = docs_by_id[doc_id]\n",
    "        results.append(ResultRow(doc_id, highlight, score))\n",
    "    return results\n",
    "####"
   ]
  },
  {
   "cell_type": "code",
   "execution_count": 56,
   "metadata": {
    "ExecuteTime": {
     "end_time": "2021-02-11T12:59:36.712847Z",
     "start_time": "2021-02-11T12:59:36.697887Z"
    },
    "id": "lLBwC48L4IWl"
   },
   "outputs": [
    {
     "data": {
      "application/vnd.jupyter.widget-view+json": {
       "model_id": "57e66f2286094dc09fcbfc74a85c208f",
       "version_major": 2,
       "version_minor": 0
      },
      "text/plain": [
       "Text(value='', description='Search Bar')"
      ]
     },
     "metadata": {},
     "output_type": "display_data"
    }
   ],
   "source": [
    "# TODO: Set this to the function you want to test!\n",
    "# this function should take in a query (string)\n",
    "# and return a sorted list of (doc_id, score) \n",
    "# with the most relevant document in the first position\n",
    "search_fn = bm25_search\n",
    "index_set = 1\n",
    "\n",
    "text = widgets.Text(description=\"Search Bar\", width=200)\n",
    "display(text)\n",
    "\n",
    "def handle_submit(sender):\n",
    "    print(f\"Searching for: '{sender.value}'\")\n",
    "    \n",
    "    results = make_results(sender.value, search_fn, index_set)\n",
    "    \n",
    "    # display only the top 5\n",
    "    results = results[:5]\n",
    "    \n",
    "    body = \"\"\n",
    "    for idx, r in enumerate(results):\n",
    "        body += f\"<li>Document #{r.doc_id}({r.score}): {r.snippet}</li>\"\n",
    "    display(HTML(f\"<ul>{body}</ul>\"))\n",
    "    \n",
    "\n",
    "text.on_submit(handle_submit)"
   ]
  },
  {
   "cell_type": "markdown",
   "metadata": {
    "deletable": false,
    "editable": false,
    "id": "V_eNBPNC4IWl",
    "nbgrader": {
     "cell_type": "markdown",
     "checksum": "b315c280048a50e8bad7d6250f6f39d1",
     "grade": false,
     "grade_id": "cell-8d46fe8e4f3d8cdb",
     "locked": true,
     "schema_version": 3,
     "solution": false,
     "task": false
    }
   },
   "source": [
    "---\n",
    "\n",
    "## Section 4: Evaluation (40 points) <a class=\"anchor\" id=\"evaluation\"></a>\n",
    "\n",
    "[Back to Part 1](#part1)\n",
    "\n",
    "Before we jump in and implement an algorithm for retrieval, we first have to learn how to evaluate such a system. In particular, we will work with offline evaluation metrics. These metrics are computed on a dataset with known relevance judgements.\n",
    "\n",
    "Implement the following evaluation metrics. \n",
    "\n",
    "1. Precision (7 points)\n",
    "2. Recall (7 points)\n",
    "3. Mean Average Precision (12 points)\n",
    "4. Expected Reciprocal Rank (12 points)"
   ]
  },
  {
   "cell_type": "markdown",
   "metadata": {
    "deletable": false,
    "editable": false,
    "id": "gLVYII234IWl",
    "nbgrader": {
     "cell_type": "markdown",
     "checksum": "82e90076c51893e31fec5c40c49d1828",
     "grade": false,
     "grade_id": "cell-3419fd3bc663d7cc",
     "locked": true,
     "schema_version": 3,
     "solution": false,
     "task": false
    }
   },
   "source": [
    "---\n",
    "### 4.1 Read relevance labels (2 points)\n",
    "\n",
    "Let's take a look at the `qrels.text` file, which contains the ground truth relevance scores. The relevance labels for CACM are binary - either 0 or 1. \n"
   ]
  },
  {
   "cell_type": "code",
   "execution_count": 57,
   "metadata": {
    "ExecuteTime": {
     "end_time": "2021-02-11T12:59:36.755738Z",
     "start_time": "2021-02-11T12:59:36.713845Z"
    },
    "deletable": false,
    "editable": false,
    "id": "dD-BtESw4IWl",
    "nbgrader": {
     "cell_type": "code",
     "checksum": "6c11025f5a222796f2882c73c1634799",
     "grade": false,
     "grade_id": "cell-6b738366059dde9e",
     "locked": true,
     "schema_version": 3,
     "solution": false,
     "task": false
    }
   },
   "outputs": [
    {
     "name": "stdout",
     "output_type": "stream",
     "text": [
      "01 1410  0 0\n",
      "01 1572  0 0\n",
      "01 1605  0 0\n",
      "01 2020  0 0\n",
      "01 2358  0 0\n",
      "02 2434  0 0\n",
      "02 2863  0 0\n",
      "02 3078  0 0\n",
      "03 1134  0 0\n",
      "03 1613  0 0\n"
     ]
    }
   ],
   "source": [
    "!head ./datasets/qrels.text"
   ]
  },
  {
   "cell_type": "markdown",
   "metadata": {
    "deletable": false,
    "editable": false,
    "id": "O1d_Ru854IWm",
    "nbgrader": {
     "cell_type": "markdown",
     "checksum": "e77d7cc6aae69fdbadb5ac9f78f8a560",
     "grade": false,
     "grade_id": "cell-10e16bff2753ffbb",
     "locked": true,
     "schema_version": 3,
     "solution": false,
     "task": false
    }
   },
   "source": [
    "---\n",
    "**Implementation (2 points):**\n",
    "The first column is the query_id and the second column is the document_id. You can safely ignore the 3rd and 4th columns. Write a function to read in the file:"
   ]
  },
  {
   "cell_type": "code",
   "execution_count": 58,
   "metadata": {
    "ExecuteTime": {
     "end_time": "2021-02-11T12:59:36.761716Z",
     "start_time": "2021-02-11T12:59:36.756731Z"
    },
    "deletable": false,
    "id": "gaPgBW-q4IWm",
    "nbgrader": {
     "cell_type": "code",
     "checksum": "ef347565a0990ddbd049835105753d59",
     "grade": false,
     "grade_id": "cell-ee5253a4ef602fce",
     "locked": false,
     "schema_version": 3,
     "solution": true,
     "task": false
    }
   },
   "outputs": [],
   "source": [
    "# TODO: Implement this! (2 points)\n",
    "def read_qrels(root_folder = \"./datasets/\"):\n",
    "    \"\"\"\n",
    "        Reads the qrels.text file. \n",
    "        Output: A dictionary: query_id -> [list of relevant documents]\n",
    "    \"\"\"\n",
    "    # YOUR CODE HERE\n",
    "    qrels_dict = {}\n",
    "    with open(root_folder + 'qrels.text') as f:\n",
    "        for line in f:\n",
    "            line_split = line.split(' ')\n",
    "            q_id = str(int(line_split[0]))\n",
    "            doc_id = line_split[1]\n",
    "            if q_id in qrels_dict:\n",
    "                qrels_dict[q_id].append(doc_id)\n",
    "            else:\n",
    "                qrels_dict[q_id] = [doc_id]\n",
    "        \n",
    "    return qrels_dict"
   ]
  },
  {
   "cell_type": "code",
   "execution_count": 59,
   "metadata": {
    "ExecuteTime": {
     "end_time": "2021-02-11T12:59:36.767701Z",
     "start_time": "2021-02-11T12:59:36.762715Z"
    },
    "deletable": false,
    "editable": false,
    "id": "42HAaoxI4IWm",
    "nbgrader": {
     "cell_type": "code",
     "checksum": "6a258a834392cc8cbf8af5d4ccdee81f",
     "grade": true,
     "grade_id": "cell-72215605fbe24f65",
     "locked": true,
     "points": 2,
     "schema_version": 3,
     "solution": false,
     "task": false
    }
   },
   "outputs": [],
   "source": [
    "#### Function check\n",
    "qrels = read_qrels()\n",
    "\n",
    "assert len(qrels) == 52, \"There should be 52 queries with relevance judgements\"\n",
    "assert sum(len(j) for j in qrels.values()) == 796, \"There should be a total of 796 Relevance Judgements\"\n",
    "####"
   ]
  },
  {
   "cell_type": "markdown",
   "metadata": {
    "deletable": false,
    "editable": false,
    "id": "XSWVVWzl4IWm",
    "nbgrader": {
     "cell_type": "markdown",
     "checksum": "6c9e7428a52e291a2cdf92a379730d4c",
     "grade": false,
     "grade_id": "cell-176a6fb2939d0420",
     "locked": true,
     "schema_version": 3,
     "solution": false,
     "task": false
    }
   },
   "source": [
    "---\n",
    "**Note:** For a given query `query_id`, you can assume that documents *not* in `qrels[query_id]` are not relevant to `query_id`. \n"
   ]
  },
  {
   "cell_type": "markdown",
   "metadata": {
    "deletable": false,
    "editable": false,
    "id": "Ad2E1OAb4IWm",
    "nbgrader": {
     "cell_type": "markdown",
     "checksum": "b26a818c7b4f7ad490e00b35ea0edd69",
     "grade": false,
     "grade_id": "cell-bd8341b72cdd89bb",
     "locked": true,
     "schema_version": 3,
     "solution": false,
     "task": false
    }
   },
   "source": [
    "---\n",
    "### 4.2 Precision (7 points)\n",
    "Implement the `precision@k` metric:"
   ]
  },
  {
   "cell_type": "code",
   "execution_count": 60,
   "metadata": {
    "ExecuteTime": {
     "end_time": "2021-02-11T12:59:36.774682Z",
     "start_time": "2021-02-11T12:59:36.768697Z"
    },
    "deletable": false,
    "id": "itsA-mo54IWm",
    "nbgrader": {
     "cell_type": "code",
     "checksum": "ad3cc3234a361d269ecb6b59cc447e9f",
     "grade": false,
     "grade_id": "cell-494bd0cce108ed67",
     "locked": false,
     "schema_version": 3,
     "solution": true,
     "task": false
    }
   },
   "outputs": [],
   "source": [
    "# TODO: Implement this! (7 points)\n",
    "def precision_k(results, relevant_docs, k):\n",
    "    \"\"\"\n",
    "        Compute Precision@K\n",
    "        Input: \n",
    "            results: A sorted list of 2-tuples (document_id, score), \n",
    "                    with the most relevant document in the first position\n",
    "            relevant_docs: A set of relevant documents. \n",
    "            k: the cut-off\n",
    "        Output: Precision@K\n",
    "    \"\"\"\n",
    "    # YOUR CODE HERE\n",
    "    \n",
    "    relevant_doc_set = set(relevant_docs)\n",
    "    results_doc_set = {k for k, v in results[:k]}\n",
    "\n",
    "    numerator = len(relevant_doc_set.intersection(results_doc_set))\n",
    "    denomerator = len(results_doc_set)\n",
    "    \n",
    "    precision = numerator / denomerator\n",
    "\n",
    "    return precision\n"
   ]
  },
  {
   "cell_type": "code",
   "execution_count": 61,
   "metadata": {
    "ExecuteTime": {
     "end_time": "2021-02-11T12:59:36.791637Z",
     "start_time": "2021-02-11T12:59:36.775680Z"
    },
    "deletable": false,
    "editable": false,
    "id": "QnBXQiHM4IWm",
    "nbgrader": {
     "cell_type": "code",
     "checksum": "964b214dbfff8fc53cada864019ee863",
     "grade": true,
     "grade_id": "cell-e7ff0d91c319ca64",
     "locked": true,
     "points": 7,
     "schema_version": 3,
     "solution": false,
     "task": false
    }
   },
   "outputs": [
    {
     "name": "stdout",
     "output_type": "stream",
     "text": [
      "query: What articles exist which deal with TSS (Time Sharing System), an\n",
      "operating system for IBM computers?\n",
      "\n",
      "precision@10 = 0.2\n"
     ]
    }
   ],
   "source": [
    "#### Function check\n",
    "qid = queries[0][0]\n",
    "qtext = queries[0][1]\n",
    "print(f'query:{qtext}')\n",
    "results = bm25_search(qtext, 2)\n",
    "precision = precision_k(results, qrels[qid], 10)\n",
    "print(f'precision@10 = {precision}')\n",
    "####"
   ]
  },
  {
   "cell_type": "markdown",
   "metadata": {
    "deletable": false,
    "editable": false,
    "id": "rsVw36Qs4IWn",
    "nbgrader": {
     "cell_type": "markdown",
     "checksum": "8fd3b3998197c7097a40348500affb68",
     "grade": false,
     "grade_id": "cell-afd95f865bc7191e",
     "locked": true,
     "schema_version": 3,
     "solution": false,
     "task": false
    }
   },
   "source": [
    "---\n",
    "### 4.3 Recall (7 points)\n",
    "Implement the `recall@k` metric:"
   ]
  },
  {
   "cell_type": "code",
   "execution_count": 62,
   "metadata": {
    "ExecuteTime": {
     "end_time": "2021-02-11T12:59:36.797621Z",
     "start_time": "2021-02-11T12:59:36.792635Z"
    },
    "deletable": false,
    "id": "5MCAhvPt4IWn",
    "nbgrader": {
     "cell_type": "code",
     "checksum": "b2020e5741ae03b3fe35817ed8f4ccaa",
     "grade": false,
     "grade_id": "cell-c323fc8c3f8a7cf8",
     "locked": false,
     "schema_version": 3,
     "solution": true,
     "task": false
    }
   },
   "outputs": [],
   "source": [
    "# TODO: Implement this! (7 points)\n",
    "def recall_k(results, relevant_docs, k):\n",
    "    \"\"\"\n",
    "        Compute Recall@K\n",
    "        Input: \n",
    "            results: A sorted list of 2-tuples (document_id, score), with the most relevant document in the first position\n",
    "            relevant_docs: A set of relevant documents. \n",
    "            k: the cut-off\n",
    "        Output: Recall@K\n",
    "    \"\"\"\n",
    "    # YOUR CODE HERE\n",
    "    relevant_doc_set = set(relevant_docs)\n",
    "    results_doc_set = {k for k, v in results[:k]}\n",
    "\n",
    "    numerator = len(relevant_doc_set.intersection(results_doc_set))\n",
    "    denomerator = len(relevant_doc_set)\n",
    "    \n",
    "    recall = numerator / denomerator\n",
    "\n",
    "    return recall\n"
   ]
  },
  {
   "cell_type": "code",
   "execution_count": 63,
   "metadata": {
    "ExecuteTime": {
     "end_time": "2021-02-11T12:59:36.806597Z",
     "start_time": "2021-02-11T12:59:36.798618Z"
    },
    "deletable": false,
    "editable": false,
    "id": "oJrL_tLY4IWn",
    "nbgrader": {
     "cell_type": "code",
     "checksum": "56b6e0b8522f8b2dffbfb3206b2efa84",
     "grade": true,
     "grade_id": "cell-b25172161aef165c",
     "locked": true,
     "points": 7,
     "schema_version": 3,
     "solution": false,
     "task": false
    }
   },
   "outputs": [
    {
     "name": "stdout",
     "output_type": "stream",
     "text": [
      "query: SETL, Very High Level Languages\n",
      "\n",
      "recall@10 = 0.3157894736842105\n"
     ]
    }
   ],
   "source": [
    "#### Function check\n",
    "qid = queries[10][0]\n",
    "qtext = queries[10][1]\n",
    "print(f'query:{qtext}')\n",
    "results = bm25_search(qtext, 2)\n",
    "recall = recall_k(results, qrels[qid], 10)\n",
    "print(f'recall@10 = {recall}')\n",
    "####"
   ]
  },
  {
   "cell_type": "markdown",
   "metadata": {
    "deletable": false,
    "editable": false,
    "id": "O6zOyivS4IWn",
    "nbgrader": {
     "cell_type": "markdown",
     "checksum": "d43c63fa38f333e0b52d41639b2655f7",
     "grade": false,
     "grade_id": "cell-77fd2e7a39a74739",
     "locked": true,
     "schema_version": 3,
     "solution": false,
     "task": false
    }
   },
   "source": [
    "---\n",
    "### 4.4 Mean Average Precision (12 points)\n",
    "Implement the `map` metric:"
   ]
  },
  {
   "cell_type": "code",
   "execution_count": 64,
   "metadata": {
    "ExecuteTime": {
     "end_time": "2021-02-11T12:59:36.812581Z",
     "start_time": "2021-02-11T12:59:36.807595Z"
    },
    "deletable": false,
    "id": "NtBBAX-34IWn",
    "nbgrader": {
     "cell_type": "code",
     "checksum": "aae2c62f2ffd76f5b6c004e9519b9f14",
     "grade": false,
     "grade_id": "cell-e50925fa9093a30d",
     "locked": false,
     "schema_version": 3,
     "solution": true,
     "task": false
    }
   },
   "outputs": [],
   "source": [
    "# TODO: Implement this! (12 points)\n",
    "def average_precision(results, relevant_docs):\n",
    "    \"\"\"\n",
    "        Compute Average Precision (for a single query - the results are \n",
    "        averaged across queries to get MAP in the next few cells)\n",
    "        Hint: You can use the recall_k and precision_k functions here!\n",
    "        Input: \n",
    "            results: A sorted list of 2-tuples (document_id, score), with the most \n",
    "                    relevant document in the first position\n",
    "            relevant_docs: A set of relevant documents. \n",
    "        Output: Average Precision\n",
    "    \"\"\"\n",
    "    # YOUR CODE HERE\n",
    "    precisions = []\n",
    "    relevant_results = []\n",
    "    for i in range(len(results)):\n",
    "        cur_precision = precision_k(results, relevant_docs, i+1)\n",
    "        doc_id, _ = results[i]\n",
    "        if doc_id in relevant_docs:\n",
    "            precisions.append(cur_precision)\n",
    "\n",
    "    return sum(precisions)/len(precisions)\n",
    "\n",
    "    \n",
    "\n",
    "    \n",
    "        \n"
   ]
  },
  {
   "cell_type": "code",
   "execution_count": 65,
   "metadata": {
    "ExecuteTime": {
     "end_time": "2021-02-11T12:59:37.149679Z",
     "start_time": "2021-02-11T12:59:36.813578Z"
    },
    "deletable": false,
    "editable": false,
    "id": "Ij731snQ4IWn",
    "nbgrader": {
     "cell_type": "code",
     "checksum": "5db8cb2dfd3a77554f4147b409f47f38",
     "grade": true,
     "grade_id": "cell-8a1f7ec98571e58b",
     "locked": true,
     "points": 12,
     "schema_version": 3,
     "solution": false,
     "task": false
    },
    "tags": []
   },
   "outputs": [
    {
     "name": "stdout",
     "output_type": "stream",
     "text": [
      "query: computational complexity, intractability, class-complete reductions,\n",
      "algorithms and efficiency\n",
      "\n",
      "MAP = 0.1391321152431886\n"
     ]
    }
   ],
   "source": [
    "#### Function check\n",
    "qid = queries[20][0]\n",
    "qtext = queries[20][1]\n",
    "print(f'query:{qtext}')\n",
    "results = bm25_search(qtext, 2)\n",
    "mean_ap = average_precision(results, qrels[qid])\n",
    "print(f'MAP = {mean_ap}')\n",
    "####"
   ]
  },
  {
   "cell_type": "markdown",
   "metadata": {
    "deletable": false,
    "editable": false,
    "id": "Q38CrFOO4IWo",
    "nbgrader": {
     "cell_type": "markdown",
     "checksum": "cb645b79d04cc3eed33ca060a5e7bf0f",
     "grade": false,
     "grade_id": "cell-1da18f0fe6f6d7be",
     "locked": true,
     "schema_version": 3,
     "solution": false,
     "task": false
    }
   },
   "source": [
    "---\n",
    "### 4.5 Expected Reciprocal Rank (12 points)\n",
    "Implement the `err` metric:"
   ]
  },
  {
   "cell_type": "code",
   "execution_count": 66,
   "metadata": {
    "ExecuteTime": {
     "end_time": "2021-02-11T12:59:37.156660Z",
     "start_time": "2021-02-11T12:59:37.150676Z"
    },
    "deletable": false,
    "id": "Wm7tmYcH4IWo",
    "nbgrader": {
     "cell_type": "code",
     "checksum": "9ac94db728e23ea1f5dc0d509473c6fb",
     "grade": false,
     "grade_id": "cell-64262889f9b267ea",
     "locked": false,
     "schema_version": 3,
     "solution": true,
     "task": false
    }
   },
   "outputs": [],
   "source": [
    "# TODO: Implement this! (12 points)\n",
    "def err(results, relevant_docs):\n",
    "    \"\"\"\n",
    "        Compute the expected reciprocal rank.\n",
    "        Hint: https://dl.acm.org/doi/pdf/10.1145/1645953.1646033?download=true\n",
    "        Input: \n",
    "            results: A sorted list of 2-tuples (document_id, score), with the most \n",
    "                    relevant document in the first position\n",
    "            relevant_docs: A set of relevant documents. \n",
    "        Output: ERR\n",
    "        \n",
    "    \"\"\"\n",
    "    # The relevance grade is binary, so when a document is irrelevant, we get (2^0-1)/2 = 0\n",
    "    # For a relevant document, this is (2^1-1)/2 = 0.5, hence the R of 0 or 0.5.\n",
    "    p, ERR = 1, 0\n",
    "    nr_docs = len(results)\n",
    "    for r in range(nr_docs):\n",
    "        cur_doc = results[r][0]\n",
    "        if cur_doc in relevant_docs:\n",
    "            R = 0.5\n",
    "        else:\n",
    "            R = 0\n",
    "        ERR += p * R/(r + 1)\n",
    "        p *= (1-R)\n",
    "    \n",
    "    return ERR"
   ]
  },
  {
   "cell_type": "code",
   "execution_count": 67,
   "metadata": {
    "ExecuteTime": {
     "end_time": "2021-02-11T12:59:37.224479Z",
     "start_time": "2021-02-11T12:59:37.163642Z"
    },
    "deletable": false,
    "editable": false,
    "id": "xD69_bIF4IWo",
    "nbgrader": {
     "cell_type": "code",
     "checksum": "eb97e6d89a0b992b642e4e0ff36ff9f5",
     "grade": true,
     "grade_id": "cell-071e3970ff1afae4",
     "locked": true,
     "points": 12,
     "schema_version": 3,
     "solution": false,
     "task": false
    }
   },
   "outputs": [
    {
     "name": "stdout",
     "output_type": "stream",
     "text": [
      "query: I'd like to find articles describing the use of singular value decomposition\n",
      "in digital image processing.  Applications include finding approximations\n",
      "to the original image and restoring images that are subject to noise. An\n",
      "article on the subject is H.C. Andrews and C.L. Patterson \"Outer product\n",
      "expansions and their uses in digital image processing\", American Mathematical\n",
      "Monthly, vol. 82.\n",
      ".A\n",
      "Andrews, H.C.\n",
      "Patterson, C.L.\n",
      "\n",
      "ERR = 0.3333333333333333\n"
     ]
    }
   ],
   "source": [
    "#### Function check\n",
    "qid = queries[30][0]\n",
    "qtext = queries[30][1]\n",
    "print(f'query:{qtext}')\n",
    "results = bm25_search(qtext, 2)\n",
    "ERR = err(results, qrels[qid])\n",
    "print(f'ERR = {ERR}')\n",
    "####"
   ]
  },
  {
   "cell_type": "markdown",
   "metadata": {
    "deletable": false,
    "editable": false,
    "id": "Gh1iz9Ht4IWo",
    "nbgrader": {
     "cell_type": "markdown",
     "checksum": "5bd94caf77cfa5f34675df758d91002d",
     "grade": false,
     "grade_id": "cell-43709a765f353946",
     "locked": true,
     "schema_version": 3,
     "solution": false,
     "task": false
    }
   },
   "source": [
    "---\n",
    "### 4.6 Evaluate Search Functions\n",
    "\n",
    "Let's define some metrics@k using [partial functions](https://docs.python.org/3/library/functools.html#functools.partial)"
   ]
  },
  {
   "cell_type": "code",
   "execution_count": 68,
   "metadata": {
    "ExecuteTime": {
     "end_time": "2021-02-11T12:59:37.231460Z",
     "start_time": "2021-02-11T12:59:37.226474Z"
    },
    "deletable": false,
    "editable": false,
    "id": "Z-lVjRDV4IWo",
    "nbgrader": {
     "cell_type": "code",
     "checksum": "49ccc158e5fb7340ace55e90eeb9d62a",
     "grade": false,
     "grade_id": "cell-dab560e18e340da8",
     "locked": true,
     "schema_version": 3,
     "solution": false,
     "task": false
    }
   },
   "outputs": [],
   "source": [
    "#### metrics@k functions\n",
    "\n",
    "recall_at_1 = partial(recall_k, k=1)\n",
    "recall_at_5 = partial(recall_k, k=5)\n",
    "recall_at_10 = partial(recall_k, k=10)\n",
    "precision_at_1 = partial(precision_k, k=1)\n",
    "precision_at_5 = partial(precision_k, k=5)\n",
    "precision_at_10 = partial(precision_k, k=10)\n",
    "\n",
    "\n",
    "list_of_metrics = [\n",
    "    (\"ERR\", err),\n",
    "    (\"MAP\", average_precision),\n",
    "    (\"Recall@1\",recall_at_1),\n",
    "    (\"Recall@5\", recall_at_5),\n",
    "    (\"Recall@10\", recall_at_10),\n",
    "    (\"Precision@1\", precision_at_1),\n",
    "    (\"Precision@5\", precision_at_5),\n",
    "    (\"Precision@10\", precision_at_10)]\n",
    "####"
   ]
  },
  {
   "cell_type": "markdown",
   "metadata": {
    "deletable": false,
    "editable": false,
    "id": "tkpES_rl4IWo",
    "nbgrader": {
     "cell_type": "markdown",
     "checksum": "fb541002c03221b453b8936290020ea5",
     "grade": false,
     "grade_id": "cell-580a2bdc66d03b47",
     "locked": true,
     "schema_version": 3,
     "solution": false,
     "task": false
    }
   },
   "source": [
    "---\n",
    "\n",
    "The following function evaluates a `search_fn` using the `metric_fn`. Note that the final number is averaged over all the queries"
   ]
  },
  {
   "cell_type": "code",
   "execution_count": 69,
   "metadata": {
    "ExecuteTime": {
     "end_time": "2021-02-11T12:59:37.240436Z",
     "start_time": "2021-02-11T12:59:37.233455Z"
    },
    "id": "SGKA8Ci54IWo"
   },
   "outputs": [],
   "source": [
    "#### Evaluate a search function\n",
    "\n",
    "list_of_search_fns = [\n",
    "    (\"BOW\", bow_search),\n",
    "    (\"TF-IDF\", tfidf_search),\n",
    "    (\"NaiveQL\", naive_ql_search),\n",
    "    (\"QL\", ql_search),\n",
    "    (\"BM25\", bm25_search)\n",
    "]\n",
    "\n",
    "def evaluate_search_fn(search_fn, metric_fns, index_set=None):\n",
    "    # build a dict query_id -> query \n",
    "    queries_by_id = dict((q[0], q[1]) for q in queries)\n",
    "    metrics = {}\n",
    "    for metric, metric_fn in metric_fns:\n",
    "        metrics[metric] = np.zeros(len(qrels), dtype=np.float32)\n",
    "    \n",
    "    for i, (query_id, relevant_docs) in enumerate(qrels.items()):\n",
    "        query = queries_by_id[query_id]\n",
    "        if index_set:\n",
    "            results = search_fn(query, index_set)\n",
    "        else:\n",
    "            results = search_fn(query)\n",
    "        \n",
    "        for metric, metric_fn in metric_fns:\n",
    "            metrics[metric][i] = metric_fn(results, relevant_docs)\n",
    "\n",
    "    \n",
    "    \n",
    "    final_dict = {}\n",
    "    for metric, metric_vals in metrics.items():\n",
    "        final_dict[metric] = metric_vals.mean()\n",
    "    \n",
    "    return final_dict\n",
    "####"
   ]
  },
  {
   "cell_type": "markdown",
   "metadata": {
    "deletable": false,
    "editable": false,
    "id": "b54ANEqK4IWp",
    "nbgrader": {
     "cell_type": "markdown",
     "checksum": "6ea67534f74a8f81e1f504794f641709",
     "grade": false,
     "grade_id": "cell-b156d83a0649cbb4",
     "locked": true,
     "schema_version": 3,
     "solution": false,
     "task": false
    }
   },
   "source": [
    "## Section 5: Analysis (30 points) <a class=\"anchor\" id=\"analysis\"></a>\n",
    "\n",
    "[Back to Part 1](#part1)\n",
    "\n",
    "In the final section of Part1, we will compare the different term-based IR algorithms and different preprocessing configurations and analyze their advantages and disadvantages.\n",
    "\n",
    "### Section 5.1: Plot (20 points)\n",
    "\n",
    "First, gather the results. The results should consider the index set, the different search functions and different metrics. Plot the results in bar charts, per metric, with clear labels.\n",
    "\n",
    "**Rubric:**\n",
    "- Each Metric is plotted: 7 points\n",
    "- Each Method is plotted: 7 points\n",
    "- Clear titles, x label, y labels and legends (if applicable): 6 points"
   ]
  },
  {
   "cell_type": "code",
   "execution_count": 70,
   "metadata": {
    "ExecuteTime": {
     "end_time": "2021-02-11T12:59:58.812120Z",
     "start_time": "2021-02-11T12:59:37.241433Z"
    },
    "deletable": false,
    "id": "YcKLzbIQ4IWp",
    "nbgrader": {
     "cell_type": "code",
     "checksum": "7e2588a925d13ddf588abe8311dc9cfc",
     "grade": true,
     "grade_id": "cell-46fda42a25863a04",
     "locked": false,
     "points": 20,
     "schema_version": 3,
     "solution": true,
     "task": false
    },
    "scrolled": true
   },
   "outputs": [
    {
     "name": "stdout",
     "output_type": "stream",
     "text": [
      "{'ERR': 0.05440761, 'MAP': 0.033994578, 'Recall@1': 0.0027097901, 'Recall@5': 0.012897039, 'Recall@10': 0.039613284, 'Precision@1': 0.03846154, 'Precision@5': 0.03076923, 'Precision@10': 0.028846154}\n"
     ]
    },
    {
     "data": {
      "image/png": "[encoded data removed]",
      "text/plain": [
       "<Figure size 432x288 with 1 Axes>"
      ]
     },
     "metadata": {
      "needs_background": "light"
     },
     "output_type": "display_data"
    },
    {
     "ename": "ZeroDivisionError",
     "evalue": "division by zero",
     "output_type": "error",
     "traceback": [
      "\u001b[1;31m---------------------------------------------------------------------------\u001b[0m",
      "\u001b[1;31mZeroDivisionError\u001b[0m                         Traceback (most recent call last)",
      "\u001b[1;32m<ipython-input-70-a4d0a297f562>\u001b[0m in \u001b[0;36m<module>\u001b[1;34m\u001b[0m\n\u001b[0;32m     10\u001b[0m \u001b[1;32mfor\u001b[0m \u001b[1;33m(\u001b[0m\u001b[0mname_search\u001b[0m\u001b[1;33m,\u001b[0m\u001b[0msearch_fn\u001b[0m\u001b[1;33m)\u001b[0m \u001b[1;32min\u001b[0m \u001b[0mlist_of_search_fns\u001b[0m\u001b[1;33m:\u001b[0m\u001b[1;33m\u001b[0m\u001b[1;33m\u001b[0m\u001b[0m\n\u001b[0;32m     11\u001b[0m         \u001b[1;31m#we need the first dictionary separet to get the list of keys\u001b[0m\u001b[1;33m\u001b[0m\u001b[1;33m\u001b[0m\u001b[1;33m\u001b[0m\u001b[0m\n\u001b[1;32m---> 12\u001b[1;33m         \u001b[0mscore_1_dict\u001b[0m \u001b[1;33m=\u001b[0m \u001b[0mevaluate_search_fn\u001b[0m\u001b[1;33m(\u001b[0m\u001b[0msearch_fn\u001b[0m\u001b[1;33m,\u001b[0m\u001b[0mlist_of_metrics\u001b[0m\u001b[1;33m,\u001b[0m\u001b[1;36m1\u001b[0m\u001b[1;33m)\u001b[0m\u001b[1;33m\u001b[0m\u001b[1;33m\u001b[0m\u001b[0m\n\u001b[0m\u001b[0;32m     13\u001b[0m         \u001b[0mprint\u001b[0m\u001b[1;33m(\u001b[0m\u001b[0mscore_1_dict\u001b[0m\u001b[1;33m)\u001b[0m\u001b[1;33m\u001b[0m\u001b[1;33m\u001b[0m\u001b[0m\n\u001b[0;32m     14\u001b[0m         \u001b[0mdict_keys\u001b[0m \u001b[1;33m=\u001b[0m \u001b[0mscore_1_dict\u001b[0m\u001b[1;33m.\u001b[0m\u001b[0mkeys\u001b[0m\u001b[1;33m(\u001b[0m\u001b[1;33m)\u001b[0m\u001b[1;33m\u001b[0m\u001b[1;33m\u001b[0m\u001b[0m\n",
      "\u001b[1;32m<ipython-input-69-bdf9118cd741>\u001b[0m in \u001b[0;36mevaluate_search_fn\u001b[1;34m(search_fn, metric_fns, index_set)\u001b[0m\n\u001b[0;32m     24\u001b[0m \u001b[1;33m\u001b[0m\u001b[0m\n\u001b[0;32m     25\u001b[0m         \u001b[1;32mfor\u001b[0m \u001b[0mmetric\u001b[0m\u001b[1;33m,\u001b[0m \u001b[0mmetric_fn\u001b[0m \u001b[1;32min\u001b[0m \u001b[0mmetric_fns\u001b[0m\u001b[1;33m:\u001b[0m\u001b[1;33m\u001b[0m\u001b[1;33m\u001b[0m\u001b[0m\n\u001b[1;32m---> 26\u001b[1;33m             \u001b[0mmetrics\u001b[0m\u001b[1;33m[\u001b[0m\u001b[0mmetric\u001b[0m\u001b[1;33m]\u001b[0m\u001b[1;33m[\u001b[0m\u001b[0mi\u001b[0m\u001b[1;33m]\u001b[0m \u001b[1;33m=\u001b[0m \u001b[0mmetric_fn\u001b[0m\u001b[1;33m(\u001b[0m\u001b[0mresults\u001b[0m\u001b[1;33m,\u001b[0m \u001b[0mrelevant_docs\u001b[0m\u001b[1;33m)\u001b[0m\u001b[1;33m\u001b[0m\u001b[1;33m\u001b[0m\u001b[0m\n\u001b[0m\u001b[0;32m     27\u001b[0m \u001b[1;33m\u001b[0m\u001b[0m\n\u001b[0;32m     28\u001b[0m \u001b[1;33m\u001b[0m\u001b[0m\n",
      "\u001b[1;32m<ipython-input-64-d683d554892d>\u001b[0m in \u001b[0;36maverage_precision\u001b[1;34m(results, relevant_docs)\u001b[0m\n\u001b[0;32m     20\u001b[0m             \u001b[0mprecisions\u001b[0m\u001b[1;33m.\u001b[0m\u001b[0mappend\u001b[0m\u001b[1;33m(\u001b[0m\u001b[0mcur_precision\u001b[0m\u001b[1;33m)\u001b[0m\u001b[1;33m\u001b[0m\u001b[1;33m\u001b[0m\u001b[0m\n\u001b[0;32m     21\u001b[0m \u001b[1;33m\u001b[0m\u001b[0m\n\u001b[1;32m---> 22\u001b[1;33m     \u001b[1;32mreturn\u001b[0m \u001b[0msum\u001b[0m\u001b[1;33m(\u001b[0m\u001b[0mprecisions\u001b[0m\u001b[1;33m)\u001b[0m\u001b[1;33m/\u001b[0m\u001b[0mlen\u001b[0m\u001b[1;33m(\u001b[0m\u001b[0mprecisions\u001b[0m\u001b[1;33m)\u001b[0m\u001b[1;33m\u001b[0m\u001b[1;33m\u001b[0m\u001b[0m\n\u001b[0m\u001b[0;32m     23\u001b[0m \u001b[1;33m\u001b[0m\u001b[0m\n\u001b[0;32m     24\u001b[0m \u001b[1;33m\u001b[0m\u001b[0m\n",
      "\u001b[1;31mZeroDivisionError\u001b[0m: division by zero"
     ]
    }
   ],
   "source": [
    "# YOUR CODE HERE\n",
    "list_of_search_fns = [\n",
    "    (\"BOW\", bow_search),\n",
    "    (\"TF-IDF\", tfidf_search),\n",
    "    (\"NaiveQL\", naive_ql_search),\n",
    "    (\"QL\", ql_search),\n",
    "    (\"BM25\", bm25_search)\n",
    "]\n",
    "n_groups = len(list_of_metrics)\n",
    "for (name_search,search_fn) in list_of_search_fns:\n",
    "        #we need the first dictionary separet to get the list of keys\n",
    "        score_1_dict = evaluate_search_fn(search_fn,list_of_metrics,1)\n",
    "        print(score_1_dict)\n",
    "        dict_keys = score_1_dict.keys()\n",
    "        score_1 = list(score_1_dict.values())\n",
    "        score_2 = list(evaluate_search_fn(search_fn,list_of_metrics,2).values())\n",
    "        # create plot\n",
    "        fig, ax = plt.subplots()\n",
    "        index = np.arange(n_groups)\n",
    "        bar_width = 0.35\n",
    "        opacity = 0.8\n",
    "\n",
    "        rects1 = plt.bar(index, score_1, bar_width,\n",
    "        alpha=opacity,\n",
    "        color='b',\n",
    "        label='Index set = 1')\n",
    "\n",
    "        rects2 = plt.bar(index + bar_width, score_2, bar_width,\n",
    "        alpha=opacity,\n",
    "        color='g',\n",
    "        label='Index set = 2')\n",
    "\n",
    "        plt.xlabel('Metrics')\n",
    "        plt.ylabel('Results')\n",
    "        plt.title('Results using ' + name_search + ' function!')\n",
    "        plt.xticks(index + bar_width, dict_keys )\n",
    "        plt.legend()\n",
    "\n",
    "        plt.tight_layout()\n",
    "        plt.xticks(rotation=45)\n",
    "        plt.show()"
   ]
  },
  {
   "cell_type": "markdown",
   "metadata": {
    "deletable": false,
    "editable": false,
    "id": "lZ3SttfV4IWp",
    "nbgrader": {
     "cell_type": "markdown",
     "checksum": "e88c444a0acf4e398c65e289169b75f7",
     "grade": false,
     "grade_id": "cell-8aabe3bcf265deb0",
     "locked": true,
     "points": 10,
     "schema_version": 3,
     "solution": false,
     "task": true
    }
   },
   "source": [
    "---\n",
    "### Section 5.2: Summary (10 points)\n",
    "Write a summary of what you observe in the results.\n",
    "Your summary should compare results across the 2 indices and the methods being used. State what you expected to see in the results, followed by either supporting evidence *or* justify why the results did not support your expectations.      "
   ]
  },
  {
   "cell_type": "markdown",
   "metadata": {
    "id": "iD_gTGV84IWp"
   },
   "source": [
    "Write your answer here!"
   ]
  },
  {
   "cell_type": "markdown",
   "metadata": {
    "deletable": false,
    "editable": false,
    "id": "GB_eEIJE4IWp",
    "nbgrader": {
     "cell_type": "markdown",
     "checksum": "b3eb77be74eecca205fc7b47316d1627",
     "grade": false,
     "grade_id": "cell-bb60dd5c092d0f2e",
     "locked": true,
     "schema_version": 3,
     "solution": false,
     "task": false
    }
   },
   "source": [
    "---\n",
    "---\n",
    "# Part 2: Semantic-based Matching (85 points) <a class=\"anchor\" id=\"part2\"></a>\n",
    "\n",
    "[Back to top](#top)\n",
    "\n",
    "We will now experiment with methods that go beyond lexical methods like TF-IDF, which operate at the word level and are high dimensional and sparse, and look at methods which constructs low dimensional dense representations of queries and documents. \n",
    "\n",
    "Since these low-dimensional methods have a higher time complexity, they are typically used in conjunction with methods like BM-25. That is, instead of searching through potentially million documents to find matches using low dimensional vectors, a list of K documents are retrieved using BM25, and then **re-ranked** using the other method. This is the method that is going to be applied in the following exercises. \n",
    "\n",
    "LSI/LDA takes documents that are similar on a semantic level - for instance, if they are describing the same topic - and projects them into nearby vectors, despite having low lexical overlap.\n",
    "\n",
    "In this assignment, you will use `gensim` to create LSI/LDA models and use them in re-ranking. \n",
    "\n",
    "**Note**: The following exercises only uses `doc_repr_2` and `config_2`\n",
    "\n",
    "Table of contents:\n",
    "- [Section 6: LSI](#lsi) (15 points)\n",
    "- [Section 7: LDA](#lda) (10 points)\n",
    "- [Section 8: Word2Vec/Doc2Vec](#2vec) (20 points)\n",
    "- [Section 8: Re-ranking](#reranking) (10 points)\n",
    "- [Section 9: Re-ranking Evaluation](#reranking_eval) (30 points)"
   ]
  },
  {
   "cell_type": "markdown",
   "metadata": {
    "deletable": false,
    "editable": false,
    "id": "-hdtSyZZ4IWp",
    "nbgrader": {
     "cell_type": "markdown",
     "checksum": "f7c7b2cab82f576ed0acf836ca57171c",
     "grade": false,
     "grade_id": "cell-6b2c81e7a8abd180",
     "locked": true,
     "schema_version": 3,
     "solution": false,
     "task": false
    }
   },
   "source": [
    "---\n",
    "## Section 6: Latent Semantic Indexing (LSI) (15 points) <a class=\"anchor\" id=\"lsi\"></a>\n",
    "\n",
    "[Back to Part 2](#part2)\n",
    "\n",
    "LSI is one of the methods to embed the queries and documents into vectors. It is based on a method similar to Principal Component Analysis (PCA) for obtaining a dense concept matrix out of the sparse term-document matrix.\n",
    "\n",
    "See [wikipedia](https://en.wikipedia.org/wiki/Latent_semantic_analysis), particularly [#Mathematics_of_LSI](https://en.wikipedia.org/wiki/Latent_semantic_analysis#Mathematics_of_LSI)."
   ]
  },
  {
   "cell_type": "code",
   "execution_count": 71,
   "metadata": {
    "ExecuteTime": {
     "end_time": "2021-02-11T13:00:11.614734Z",
     "start_time": "2021-02-11T13:00:11.529742Z"
    },
    "deletable": false,
    "editable": false,
    "id": "Qlqfq_y34IWq",
    "nbgrader": {
     "cell_type": "code",
     "checksum": "c17ee75319cb517e2bf48ec3d9efc329",
     "grade": false,
     "grade_id": "cell-59913daee47f680d",
     "locked": true,
     "schema_version": 3,
     "solution": false,
     "task": false
    }
   },
   "outputs": [],
   "source": [
    "from gensim.corpora import Dictionary\n",
    "from gensim.models import LdaModel, LsiModel, Word2Vec\n",
    "from gensim.models.doc2vec import Doc2Vec, TaggedDocument\n",
    "from gensim import downloader as g_downloader\n",
    "# gensim uses logging, so set it up \n",
    "import logging\n",
    "logging.basicConfig(format='%(asctime)s : %(levelname)s : %(message)s', level=logging.INFO)"
   ]
  },
  {
   "cell_type": "markdown",
   "metadata": {
    "deletable": false,
    "editable": false,
    "id": "KqeQEm1Q4IWq",
    "nbgrader": {
     "cell_type": "markdown",
     "checksum": "5fce140c546759b54a9fc060901ae77c",
     "grade": false,
     "grade_id": "cell-3644faff4976598a",
     "locked": true,
     "schema_version": 3,
     "solution": false,
     "task": false
    }
   },
   "source": [
    "---\n",
    "### Section 6.1: Cosine Similarity (5 points)<a class=\"anchor\" id=\"cosing_sim\"></a>\n",
    "Before we begin, let us first define our method of similarity for the LSI model, the cosine similarity:\n",
    "\n",
    "$$\\text{similarity} = \\cos(\\theta) = {\\mathbf{A} \\cdot \\mathbf{B} \\over \\|\\mathbf{A}\\| \\|\\mathbf{B}\\|} = \\frac{ \\sum\\limits_{i=1}^{n}{A_i  B_i} }{ \\sqrt{\\sum\\limits_{i=1}^{n}{A_i^2}}  \\sqrt{\\sum\\limits_{i=1}^{n}{B_i^2}} }$$\n",
    "\n",
    "Since we are using gensim, the types of vectors returned by their classes are of the form defined below (they are not just simple vectors):"
   ]
  },
  {
   "cell_type": "code",
   "execution_count": 72,
   "metadata": {
    "ExecuteTime": {
     "end_time": "2021-02-11T13:00:12.769969Z",
     "start_time": "2021-02-11T13:00:12.762986Z"
    },
    "deletable": false,
    "editable": false,
    "id": "GGCJRThj4IWq",
    "nbgrader": {
     "cell_type": "code",
     "checksum": "4e340e1a1d546f430c018fd0760e707a",
     "grade": false,
     "grade_id": "cell-3995a50f951314d5",
     "locked": true,
     "schema_version": 3,
     "solution": false,
     "task": false
    }
   },
   "outputs": [],
   "source": [
    "# 1, 2, 3 are either latent dimensions (LSI), or topics (LDA)\n",
    "# The second value in each tuple is a number (LSI) or a probability (LDA)  \n",
    "example_vec_1 = [(1, 0.2), (2, 0.3), (3, 0.4)]\n",
    "example_vec_2 = [(1, 0.2), (2, 0.7), (3, 0.4)]"
   ]
  },
  {
   "cell_type": "markdown",
   "metadata": {
    "deletable": false,
    "editable": false,
    "id": "yrXWRnVx4IWq",
    "nbgrader": {
     "cell_type": "markdown",
     "checksum": "20832fd4f579f49ae204b0efee02edd1",
     "grade": false,
     "grade_id": "cell-5e54d581858dc8f7",
     "locked": true,
     "schema_version": 3,
     "solution": false,
     "task": false
    }
   },
   "source": [
    "---\n",
    "**Implementation (2+3 points):**\n",
    "Now, implement the `dot product` operation on these types of vectors and using this operator, implement the `cosine similarity` (don't forget: two functions to implement!):"
   ]
  },
  {
   "cell_type": "code",
   "execution_count": 73,
   "metadata": {
    "ExecuteTime": {
     "end_time": "2021-02-11T13:00:14.330366Z",
     "start_time": "2021-02-11T13:00:14.321387Z"
    },
    "deletable": false,
    "id": "OLHTT0Pb4IWq",
    "nbgrader": {
     "cell_type": "code",
     "checksum": "06a712ee75fc213a21c5f0067fd8fe28",
     "grade": false,
     "grade_id": "cell-0e8189f5f93de33f",
     "locked": false,
     "schema_version": 3,
     "solution": true,
     "task": false
    }
   },
   "outputs": [
    {
     "name": "stdout",
     "output_type": "stream",
     "text": [
      "0.9165587597202866\n"
     ]
    }
   ],
   "source": [
    "# TODO: Implement this! (2 points)\n",
    "def dot(vec_1,vec_2): \n",
    "    \"\"\"\n",
    "        vec_1 and vec_2 are of the form: [(int, float), (int, float), ...]\n",
    "        Return the dot product of two such vectors, computed only on the floats\n",
    "        You can assume that the lengths of the vectors are the same, and the dimensions are aligned \n",
    "            i.e you won't get: vec_1 = [(1, 0.2)] ; vec_2 = [(2, 0.3)] \n",
    "                                (dimensions are unaligned and lengths are different)\n",
    "    \"\"\"\n",
    "    # YOUR CODE HERE\n",
    "    dot_product = 0\n",
    "    for i in range(len(vec_1)):\n",
    "        dot_product +=  vec_1[i][1] * vec_2[i][1]\n",
    "    \n",
    "    return dot_product\n",
    "\n",
    "# TODO: Implement this! (3 points)\n",
    "def cosine_sim(vec_1, vec_2):\n",
    "    # YOUR CODE HERE\n",
    "    similarity = 0\n",
    "    res_a = 0\n",
    "    res_b = 0\n",
    "    for i in range(len(vec_1)):\n",
    "        res_a += vec_1[i][1] ** 2\n",
    "        res_b += vec_2[i][1] ** 2\n",
    "    numerator = dot(vec_1,vec_2)\n",
    "    denomerator = math.sqrt(res_a)*math.sqrt(res_b)\n",
    "    similarity = numerator/denomerator\n",
    "    \n",
    "    return similarity\n",
    "\n",
    "    \n",
    "print(cosine_sim(example_vec_1,example_vec_2))"
   ]
  },
  {
   "cell_type": "code",
   "execution_count": 74,
   "metadata": {
    "ExecuteTime": {
     "end_time": "2021-02-11T13:00:15.556930Z",
     "start_time": "2021-02-11T13:00:15.549973Z"
    },
    "deletable": false,
    "editable": false,
    "id": "opNcoM_E4IWq",
    "nbgrader": {
     "cell_type": "code",
     "checksum": "d22a4a7325ba7815a808390388f534a1",
     "grade": true,
     "grade_id": "cell-b25d04ed6b79fd35",
     "locked": true,
     "points": 2,
     "schema_version": 3,
     "solution": false,
     "task": false
    }
   },
   "outputs": [
    {
     "name": "stdout",
     "output_type": "stream",
     "text": [
      "vectors: ([(1, 0.2), (2, 0.3), (3, 0.4)], [(1, 0.2), (2, 0.7), (3, 0.4)])\n",
      "dot product = 0.41000000000000003\n",
      "cosine similarity = 0.9165587597202866\n"
     ]
    }
   ],
   "source": [
    "##### Function check\n",
    "print(f'vectors: {(example_vec_1,example_vec_2)}')\n",
    "print(f'dot product = {dot(example_vec_1,example_vec_2)}')\n",
    "print(f'cosine similarity = {cosine_sim(example_vec_1,example_vec_2)}')\n",
    "##### "
   ]
  },
  {
   "cell_type": "code",
   "execution_count": 75,
   "metadata": {
    "ExecuteTime": {
     "end_time": "2021-02-11T13:00:16.411883Z",
     "start_time": "2021-02-11T13:00:16.408892Z"
    },
    "deletable": false,
    "editable": false,
    "id": "fqGAn-Qy4IWr",
    "nbgrader": {
     "cell_type": "code",
     "checksum": "0744131724ce76b1b3f163b4bae5f700",
     "grade": true,
     "grade_id": "cell-ae3c4466866ace77",
     "locked": true,
     "points": 3,
     "schema_version": 3,
     "solution": false,
     "task": false
    }
   },
   "outputs": [],
   "source": [
    "#### Please do not change this. This cell is used for grading."
   ]
  },
  {
   "cell_type": "markdown",
   "metadata": {
    "deletable": false,
    "editable": false,
    "id": "-EkJ-o9j4IWr",
    "nbgrader": {
     "cell_type": "markdown",
     "checksum": "9b123f599f9ea372d14676e23f1c6a52",
     "grade": false,
     "grade_id": "cell-4b2534067c44fcdf",
     "locked": true,
     "schema_version": 3,
     "solution": false,
     "task": false
    }
   },
   "source": [
    "---\n",
    "### Section 6.2: LSI Retrieval (10 points)<a class=\"anchor\" id=\"lsi_retrieval\"></a>\n",
    "LSI retrieval is simply ranking the documents based on their cosine similarity to the query vector.\n",
    "First, let's write a parent class for vector-based retrieval models:"
   ]
  },
  {
   "cell_type": "code",
   "execution_count": 76,
   "metadata": {
    "ExecuteTime": {
     "end_time": "2021-02-11T13:00:18.479797Z",
     "start_time": "2021-02-11T13:00:18.468824Z"
    },
    "deletable": false,
    "editable": false,
    "id": "vui4hfKK4IWr",
    "nbgrader": {
     "cell_type": "code",
     "checksum": "ecc111d58182570e2252b8ef5d6b02af",
     "grade": false,
     "grade_id": "cell-937936cea18711ee",
     "locked": true,
     "schema_version": 3,
     "solution": false,
     "task": false
    }
   },
   "outputs": [],
   "source": [
    "class VectorSpaceRetrievalModel:\n",
    "    \"\"\"\n",
    "        Parent class for Dense Vector Retrieval models\n",
    "    \"\"\"\n",
    "    def __init__(self, doc_repr):\n",
    "        \"\"\"\n",
    "            document_collection: \n",
    "                [\n",
    "                    (doc_id_1, [token 1, token 2, ...]), \n",
    "                    (doc_id_2, [token 1, token 2, ....]) \n",
    "                    ...\n",
    "                ]\n",
    "\n",
    "        \"\"\"\n",
    "        self.doc_repr = doc_repr\n",
    "        self.documents = [_[1] for _ in self.doc_repr]\n",
    "        \n",
    "        # construct a dictionary\n",
    "        self.dictionary = Dictionary(self.documents)\n",
    "        # Filter out words that occur less than 20 documents, or more than 50% of the documents.\n",
    "        self.dictionary.filter_extremes(no_below=10)\n",
    "        self.corpus = [self.dictionary.doc2bow(doc) for doc in self.documents]\n",
    "    \n",
    "        # Make a index to word dictionary.\n",
    "        temp = self.dictionary[0]  # This is only to \"load\" the dictionary.\n",
    "        self.id2word = self.dictionary.id2token\n",
    "        \n",
    "        # this is set by the train_model function\n",
    "        self.model = None\n",
    "        \n",
    "        \n",
    "    def vectorize_documents(self):\n",
    "        \"\"\"\n",
    "            Returns a doc_id -> vector dictionary\n",
    "        \"\"\"\n",
    "        vectors = {}\n",
    "        for (doc_id, _), cc in zip(self.doc_repr, self.corpus):\n",
    "            vectors[doc_id] = self.model[cc]\n",
    "        return vectors\n",
    "\n",
    "    def vectorize_query(self, query):\n",
    "        # Note the use of config_2 here!\n",
    "        query = process_text(query, **config_2)\n",
    "        query_vector = self.dictionary.doc2bow(query)\n",
    "        return self.model[query_vector]\n",
    "    \n",
    "    def train_model(self):\n",
    "        \"\"\"\n",
    "            Trains a model and sets the 'self.model' variable. \n",
    "            Make sure to use the variables created in the __init__ method.\n",
    "            e.g the variables which may be useful: {corpus, dictionary, id2word}\n",
    "        \"\"\"\n",
    "        raise NotImplementedError()"
   ]
  },
  {
   "cell_type": "markdown",
   "metadata": {
    "deletable": false,
    "editable": false,
    "id": "7hVlHxL34IWr",
    "nbgrader": {
     "cell_type": "markdown",
     "checksum": "ff161eefd9b81b768cd6361bc1a502b0",
     "grade": false,
     "grade_id": "cell-704a18c2f80cd60c",
     "locked": true,
     "schema_version": 3,
     "solution": false,
     "task": false
    }
   },
   "source": [
    "---\n",
    "**Implementation (5 points):**\n",
    "Implement the `train_model` method in the following class (note that this is only one line of code in `gensim`!). Ensure that the parameters defined in the `__init__` method are not changed, and are *used in the `train_method` function*. Normally, the hyperaparameter space will be searched using grid search / other methods - in this assignment we have provided the hyperparameters for you.\n",
    "\n",
    "The last two lines of code train an LSI model on the list of documents which have been stemmed, lower-cased and have stopwords removed. "
   ]
  },
  {
   "cell_type": "code",
   "execution_count": 77,
   "metadata": {
    "ExecuteTime": {
     "end_time": "2021-02-11T13:00:20.008083Z",
     "start_time": "2021-02-11T13:00:20.002118Z"
    },
    "deletable": false,
    "id": "stvTMFN44IWr",
    "nbgrader": {
     "cell_type": "code",
     "checksum": "0e90eedc27c248bc1ae050518a46a46c",
     "grade": false,
     "grade_id": "cell-307682c9089f15d6",
     "locked": false,
     "schema_version": 3,
     "solution": true,
     "task": false
    }
   },
   "outputs": [],
   "source": [
    "# TODO: Implement this! (5 points)\n",
    "class LsiRetrievalModel(VectorSpaceRetrievalModel):\n",
    "    def __init__(self, doc_repr):\n",
    "        super().__init__(doc_repr)\n",
    "        \n",
    "        self.num_topics = 100\n",
    "        self.chunksize = 2000\n",
    "    \n",
    "    def train_model(self):\n",
    "        # YOUR CODE HERE\n",
    "        self.model = LsiModel(self.corpus, id2word = self.id2word, num_topics = self.num_topics, chunksize = self.chunksize)"
   ]
  },
  {
   "cell_type": "code",
   "execution_count": 80,
   "metadata": {
    "ExecuteTime": {
     "end_time": "2021-02-11T13:00:32.550175Z",
     "start_time": "2021-02-11T13:00:31.997652Z"
    },
    "deletable": false,
    "editable": false,
    "id": "_khGWJSi4IWr",
    "nbgrader": {
     "cell_type": "code",
     "checksum": "00399cfe13d60cb4beed1271e36004b0",
     "grade": true,
     "grade_id": "cell-5ce512650c1b2dfb",
     "locked": true,
     "points": 0,
     "schema_version": 3,
     "solution": false,
     "task": false
    }
   },
   "outputs": [
    {
     "name": "stderr",
     "output_type": "stream",
     "text": [
      "2021-02-11 14:00:31,999 : INFO : adding document #0 to Dictionary(0 unique tokens: [])\n",
      "2021-02-11 14:00:32,152 : INFO : built Dictionary(6207 unique tokens: ['-', 'algebra', 'intern', 'languag', 'preliminari']...) from 3204 documents (total 196863 corpus positions)\n",
      "2021-02-11 14:00:32,158 : INFO : discarding 4798 tokens: [('of', 2061), ('repeat', 8), ('glossari', 7), ('inspect', 8), ('the', 1794), ('uncol', 2), ('a', 1808), ('rung', 9), ('secant', 2), ('.', 1605)]...\n",
      "2021-02-11 14:00:32,159 : INFO : keeping 1409 tokens which were in no less than 10 and no more than 1602 (=50.0%) documents\n",
      "2021-02-11 14:00:32,162 : INFO : resulting dictionary: Dictionary(1409 unique tokens: ['-', 'algebra', 'intern', 'languag', 'preliminari']...)\n",
      "2021-02-11 14:00:32,246 : INFO : using serial LSI version on this node\n",
      "2021-02-11 14:00:32,246 : INFO : updating model with new documents\n",
      "2021-02-11 14:00:32,246 : INFO : preparing a new chunk of documents\n",
      "2021-02-11 14:00:32,261 : INFO : using 100 extra samples and 2 power iterations\n",
      "2021-02-11 14:00:32,262 : INFO : 1st phase: constructing (1409, 200) action matrix\n",
      "2021-02-11 14:00:32,279 : INFO : orthonormalizing (1409, 200) action matrix\n",
      "2021-02-11 14:00:32,337 : INFO : 2nd phase: running dense svd on (200, 2000) matrix\n",
      "2021-02-11 14:00:32,375 : INFO : computing the final decomposition\n",
      "2021-02-11 14:00:32,376 : INFO : keeping 100 factors (discarding 11.376% of energy spectrum)\n",
      "2021-02-11 14:00:32,379 : INFO : processed documents up to #2000\n",
      "2021-02-11 14:00:32,380 : INFO : topic #0(226.248): -0.469*\",\" + -0.358*\"and\" + -0.302*\"to\" + -0.287*\"is\" + -0.272*\"in\" + -0.231*\"for\" + -0.218*\"-\" + -0.158*\"are\" + -0.139*\"system\" + -0.137*\"program\"\n",
      "2021-02-11 14:00:32,382 : INFO : topic #1(63.173): -0.434*\"(\" + 0.349*\",\" + 0.306*\"and\" + -0.305*\")\" + -0.298*\"algorithm\" + -0.288*\"is\" + 0.268*\"system\" + -0.167*\"to\" + -0.142*\"method\" + -0.092*\"it\"\n",
      "2021-02-11 14:00:32,383 : INFO : topic #2(62.666): -0.557*\",\" + -0.393*\"(\" + 0.311*\"to\" + -0.282*\")\" + 0.248*\"is\" + -0.228*\"-\" + 0.216*\"in\" + -0.161*\"algorithm\" + 0.138*\"comput\" + 0.113*\"be\"\n",
      "2021-02-11 14:00:32,384 : INFO : topic #3(58.622): -0.759*\"-\" + 0.439*\",\" + -0.226*\"system\" + 0.218*\"is\" + -0.157*\"and\" + -0.097*\"for\" + 0.076*\"it\" + -0.075*\"time\" + -0.065*\"program\" + 0.062*\"that\"\n",
      "2021-02-11 14:00:32,385 : INFO : topic #4(52.368): -0.492*\"and\" + 0.409*\"-\" + -0.281*\"(\" + 0.260*\",\" + 0.253*\"to\" + -0.239*\"are\" + -0.217*\")\" + -0.213*\"algorithm\" + 0.183*\"is\" + -0.170*\"for\"\n",
      "2021-02-11 14:00:32,386 : INFO : preparing a new chunk of documents\n",
      "2021-02-11 14:00:32,402 : INFO : using 100 extra samples and 2 power iterations\n",
      "2021-02-11 14:00:32,403 : INFO : 1st phase: constructing (1409, 200) action matrix\n",
      "2021-02-11 14:00:32,420 : INFO : orthonormalizing (1409, 200) action matrix\n",
      "2021-02-11 14:00:32,485 : INFO : 2nd phase: running dense svd on (200, 1204) matrix\n",
      "2021-02-11 14:00:32,507 : INFO : computing the final decomposition\n",
      "2021-02-11 14:00:32,508 : INFO : keeping 100 factors (discarding 11.420% of energy spectrum)\n",
      "2021-02-11 14:00:32,511 : INFO : merging projections: (1409, 100) + (1409, 100)\n",
      "2021-02-11 14:00:32,523 : INFO : keeping 100 factors (discarding 6.289% of energy spectrum)\n",
      "2021-02-11 14:00:32,530 : INFO : processed documents up to #3204\n",
      "2021-02-11 14:00:32,531 : INFO : topic #0(340.065): 0.471*\",\" + 0.367*\"and\" + 0.309*\"to\" + 0.296*\"is\" + 0.270*\"in\" + 0.224*\"for\" + 0.212*\"-\" + 0.156*\"are\" + 0.129*\"system\" + 0.126*\"program\"\n",
      "2021-02-11 14:00:32,532 : INFO : topic #1(95.008): -0.646*\",\" + 0.354*\"is\" + -0.247*\"and\" + 0.244*\"to\" + 0.232*\"algorithm\" + 0.162*\"(\" + -0.153*\"system\" + 0.142*\"-\" + 0.142*\"method\" + 0.137*\"in\"\n",
      "2021-02-11 14:00:32,533 : INFO : topic #2(89.655): 0.436*\"(\" + 0.366*\",\" + 0.363*\"-\" + 0.315*\")\" + 0.265*\"algorithm\" + -0.229*\"to\" + -0.224*\"program\" + -0.207*\"system\" + -0.198*\"and\" + -0.160*\"in\"\n",
      "2021-02-11 14:00:32,535 : INFO : topic #3(83.162): 0.790*\"-\" + -0.297*\",\" + 0.257*\"system\" + -0.249*\"is\" + 0.182*\"and\" + -0.109*\"(\" + -0.089*\"to\" + -0.086*\"algorithm\" + -0.077*\")\" + 0.070*\"time\"\n",
      "2021-02-11 14:00:32,536 : INFO : topic #4(77.283): -0.420*\"and\" + -0.386*\"(\" + 0.312*\"is\" + -0.294*\")\" + 0.291*\",\" + 0.289*\"-\" + -0.256*\"for\" + -0.211*\"program\" + 0.202*\"to\" + -0.183*\"algorithm\"\n"
     ]
    },
    {
     "data": {
      "text/plain": [
       "[(0, 0.01000183440915486),\n",
       " (1, -0.017414619035667215),\n",
       " (2, -0.006948902083909916),\n",
       " (3, -0.0019813848077676202),\n",
       " (4, -0.006731204747874866),\n",
       " (5, 0.0014904234908874395),\n",
       " (6, 0.005241616674446906),\n",
       " (7, -0.027810395879416777),\n",
       " (8, -0.007148282559356466),\n",
       " (9, -0.011948696308853576),\n",
       " (10, 0.01840986318975303),\n",
       " (11, 0.01450580483328285),\n",
       " (12, 0.04127574006783318),\n",
       " (13, -0.0059992029531800006),\n",
       " (14, -0.00030037352455202556),\n",
       " (15, 0.0014062305903829037),\n",
       " (16, 0.014168444066152593),\n",
       " (17, -0.0008548584360453257),\n",
       " (18, 0.015778997324557602),\n",
       " (19, -0.016453115553618492),\n",
       " (20, 0.02158498544990202),\n",
       " (21, -0.008063046378582878),\n",
       " (22, 0.008083187279022975),\n",
       " (23, 0.01765053255021745),\n",
       " (24, -0.04034970103254535),\n",
       " (25, -0.03770283713825548),\n",
       " (26, -0.0034629963722202853),\n",
       " (27, 0.01605793682728959),\n",
       " (28, 0.011391268622252829),\n",
       " (29, -0.016081579984081766),\n",
       " (30, -0.0024337310500073257),\n",
       " (31, 0.00018341030378569642),\n",
       " (32, -0.009533871372404214),\n",
       " (33, -0.013287644976452606),\n",
       " (34, 0.00839340538050268),\n",
       " (35, -0.012080651031577811),\n",
       " (36, -0.009896421418773432),\n",
       " (37, 0.024910996910523002),\n",
       " (38, 0.011051039652415174),\n",
       " (39, 0.017949858387941282),\n",
       " (40, 0.021585317468013954),\n",
       " (41, -0.031997964312182214),\n",
       " (42, -0.0004040841964137402),\n",
       " (43, -0.023930900462728173),\n",
       " (44, 0.050356860438597606),\n",
       " (45, 0.014592655297407775),\n",
       " (46, -0.0347852320380471),\n",
       " (47, -0.03165825332001664),\n",
       " (48, 0.0019598045585865684),\n",
       " (49, -0.024741564563725033),\n",
       " (50, 0.08880061123353242),\n",
       " (51, 0.0017112397375253427),\n",
       " (52, 0.033296241439044874),\n",
       " (53, -0.05121104352070001),\n",
       " (54, -0.006151391145914463),\n",
       " (55, 0.01606874808509897),\n",
       " (56, 0.03921763758677987),\n",
       " (57, 0.013503016342590348),\n",
       " (58, 0.019623704992519413),\n",
       " (59, -0.06405568307891972),\n",
       " (60, 0.010118838356008297),\n",
       " (61, -0.007724949053921723),\n",
       " (62, -0.03351705295824759),\n",
       " (63, 0.04353419152951084),\n",
       " (64, 0.03500226707510693),\n",
       " (65, 0.020727089983240084),\n",
       " (66, 0.0017896400225308785),\n",
       " (67, -0.007760551582468703),\n",
       " (68, -0.026478702884864397),\n",
       " (69, 0.036455972628270224),\n",
       " (70, -0.009326546744173842),\n",
       " (71, 0.015662159023847315),\n",
       " (72, 0.02412358963321986),\n",
       " (73, 0.05016720473638395),\n",
       " (74, -0.008219207428349501),\n",
       " (75, -0.001737250803242569),\n",
       " (76, -0.003485021301051117),\n",
       " (77, -0.01947180201435153),\n",
       " (78, 0.0002907792846206271),\n",
       " (79, 0.020395441907996387),\n",
       " (80, -0.03863331145661743),\n",
       " (81, 0.03905479689244588),\n",
       " (82, 0.008368115658628782),\n",
       " (83, 0.04743992663517815),\n",
       " (84, 0.006070804562122296),\n",
       " (85, -0.03329283717261287),\n",
       " (86, -0.04084009915541182),\n",
       " (87, 0.051262897602504506),\n",
       " (88, 0.01812424526541469),\n",
       " (89, -0.0050408576894118646),\n",
       " (90, 0.023818493413557712),\n",
       " (91, 0.01414610043083084),\n",
       " (92, 0.07192388932739405),\n",
       " (93, 0.013092996673123983),\n",
       " (94, -0.06324389707913351),\n",
       " (95, -0.029041984475783794),\n",
       " (96, -0.0020912073211133576),\n",
       " (97, -0.005408055419889049),\n",
       " (98, 0.059868187780099724),\n",
       " (99, -0.027884916886326175)]"
      ]
     },
     "execution_count": 80,
     "metadata": {},
     "output_type": "execute_result"
    }
   ],
   "source": [
    "##### Function check\n",
    "lsi = LsiRetrievalModel(doc_repr_2)\n",
    "lsi.train_model()\n",
    "\n",
    "# you can now get an LSI vector for a given query in the following way:\n",
    "lsi.vectorize_query(\"report\")\n",
    "##### "
   ]
  },
  {
   "cell_type": "markdown",
   "metadata": {
    "deletable": false,
    "editable": false,
    "id": "NGA8x3e54IWs",
    "nbgrader": {
     "cell_type": "markdown",
     "checksum": "7116bb9f576c5bb04934e1d59c51d729",
     "grade": false,
     "grade_id": "cell-4c5eeb557b4fca2f",
     "locked": true,
     "points": 5,
     "schema_version": 3,
     "solution": false,
     "task": true
    }
   },
   "source": [
    "\\#### Please do not change this. This cell is used for grading."
   ]
  },
  {
   "cell_type": "markdown",
   "metadata": {
    "deletable": false,
    "editable": false,
    "id": "XC11dqNi4IWs",
    "nbgrader": {
     "cell_type": "markdown",
     "checksum": "1068a108600b8c1539117d543e720354",
     "grade": false,
     "grade_id": "cell-c4e50296cd17a555",
     "locked": true,
     "schema_version": 3,
     "solution": false,
     "task": false
    }
   },
   "source": [
    "---\n",
    "Next, implement a basic ranking class for vector space retrieval (used for all semantic methods): "
   ]
  },
  {
   "cell_type": "code",
   "execution_count": 81,
   "metadata": {
    "ExecuteTime": {
     "end_time": "2021-02-11T13:00:34.798375Z",
     "start_time": "2021-02-11T13:00:34.789406Z"
    },
    "deletable": false,
    "id": "7-cQ_F004IWs",
    "nbgrader": {
     "cell_type": "code",
     "checksum": "1a8389d2f0635c3405e2b0b27ed9f327",
     "grade": false,
     "grade_id": "cell-250515d288e80cdc",
     "locked": false,
     "schema_version": 3,
     "solution": true,
     "task": false
    }
   },
   "outputs": [],
   "source": [
    "# TODO: Implement this! (5 points)\n",
    "class DenseRetrievalRanker:\n",
    "    def __init__(self, vsrm, similarity_fn):\n",
    "        \"\"\"\n",
    "            vsrm: instance of `VectorSpaceRetrievalModel`\n",
    "            similarity_fn: function instance that takes in two vectors \n",
    "                            and returns a similarity score e.g cosine_sim defined earlier\n",
    "        \"\"\"\n",
    "        self.vsrm = vsrm \n",
    "        self.vectorized_documents = self.vsrm.vectorize_documents()\n",
    "        self.similarity_fn = similarity_fn\n",
    "    \n",
    "    def _compute_sim(self, query_vector):\n",
    "        \"\"\"\n",
    "            Compute the similarity of `query_vector` to documents in \n",
    "            `self.vectorized_documents` using `self.similarity_fn`\n",
    "            Returns a list of (doc_id, score) tuples\n",
    "        \"\"\"\n",
    "        # YOUR CODE HERE\n",
    "        result_list = []\n",
    "        self.query_vector = query_vector\n",
    "        for key, doc in self.vectorized_documents.items():\n",
    "            if len(doc) != 0:\n",
    "                score = self.similarity_fn(doc,self.query_vector)\n",
    "                result_list.append((key,score))               \n",
    "        return result_list\n",
    "    \n",
    "    def search(self, query):\n",
    "        scores = self._compute_sim(self.vsrm.vectorize_query(query))\n",
    "        scores.sort(key=lambda _:-_[1])\n",
    "        return scores "
   ]
  },
  {
   "cell_type": "code",
   "execution_count": 82,
   "metadata": {
    "ExecuteTime": {
     "end_time": "2021-02-11T13:00:36.998126Z",
     "start_time": "2021-02-11T13:00:36.250228Z"
    },
    "deletable": false,
    "editable": false,
    "id": "84ShnBqC4IWs",
    "nbgrader": {
     "cell_type": "code",
     "checksum": "f237dd1ef6c1783c06797f4b514421f5",
     "grade": true,
     "grade_id": "cell-b73068b3e77a8e31",
     "locked": true,
     "points": 0,
     "schema_version": 3,
     "solution": false,
     "task": false
    }
   },
   "outputs": [
    {
     "data": {
      "text/plain": [
       "[('947', 0.47155662557997907),\n",
       " ('53', 0.46815566437224204),\n",
       " ('2531', 0.46131862039250604),\n",
       " ('722', 0.4531107773193079),\n",
       " ('3160', 0.425523276198691)]"
      ]
     },
     "execution_count": 82,
     "metadata": {},
     "output_type": "execute_result"
    }
   ],
   "source": [
    "##### Function check\n",
    "drm_lsi = DenseRetrievalRanker(lsi, cosine_sim)\n",
    "drm_lsi.search(\"report\")[:5]\n",
    "##### "
   ]
  },
  {
   "cell_type": "markdown",
   "metadata": {
    "deletable": false,
    "editable": false,
    "id": "J7KStoCJ4IWs",
    "nbgrader": {
     "cell_type": "markdown",
     "checksum": "5b3f19fdcaa585d263706d5a26038799",
     "grade": false,
     "grade_id": "cell-034c755a6502b868",
     "locked": true,
     "points": 5,
     "schema_version": 3,
     "solution": false,
     "task": true
    }
   },
   "source": [
    "\\#### Please do not change this. This cell is used for grading."
   ]
  },
  {
   "cell_type": "markdown",
   "metadata": {
    "deletable": false,
    "editable": false,
    "id": "151cPjf34IWs",
    "nbgrader": {
     "cell_type": "markdown",
     "checksum": "dcafef6e037033c46304b914f7c78bdf",
     "grade": false,
     "grade_id": "cell-d1df23f497d5ed6b",
     "locked": true,
     "schema_version": 3,
     "solution": false,
     "task": false
    }
   },
   "source": [
    "---\n",
    "Now, you can test your LSI model in the following cell: try finding queries which are lexically different to documents, but semantically similar - does LSI work well for these queries?!"
   ]
  },
  {
   "cell_type": "code",
   "execution_count": 83,
   "metadata": {
    "ExecuteTime": {
     "end_time": "2021-02-11T13:00:45.290917Z",
     "start_time": "2021-02-11T13:00:45.270008Z"
    },
    "deletable": false,
    "editable": false,
    "id": "_YwVurAt4IWs",
    "nbgrader": {
     "cell_type": "code",
     "checksum": "11734bc7674377b340ad51297a8e8bb5",
     "grade": false,
     "grade_id": "cell-efd1d08dfc04ec3e",
     "locked": true,
     "schema_version": 3,
     "solution": false,
     "task": false
    }
   },
   "outputs": [
    {
     "data": {
      "application/vnd.jupyter.widget-view+json": {
       "model_id": "169a75cd1eb64acaba234f4502096f87",
       "version_major": 2,
       "version_minor": 0
      },
      "text/plain": [
       "Text(value='', description='Search Bar')"
      ]
     },
     "metadata": {},
     "output_type": "display_data"
    }
   ],
   "source": [
    "# test your LSI model\n",
    "search_fn = drm_lsi.search\n",
    "\n",
    "text = widgets.Text(description=\"Search Bar\", width=200)\n",
    "display(text)\n",
    "\n",
    "def make_results_2(query, search_fn):\n",
    "    results = []\n",
    "    for doc_id, score in search_fn(query):\n",
    "        highlight = highlight_text(docs_by_id[doc_id], query)\n",
    "        if len(highlight.strip()) == 0:\n",
    "            highlight = docs_by_id[doc_id]\n",
    "        results.append(ResultRow(doc_id, highlight, score))\n",
    "    return results\n",
    "\n",
    "def handle_submit_2(sender):\n",
    "    print(f\"Searching for: '{sender.value}' (SEARCH FN: {search_fn})\")\n",
    "    \n",
    "    results = make_results_2(sender.value, search_fn)\n",
    "    \n",
    "    # display only the top 5\n",
    "    results = results[:5]\n",
    "    \n",
    "    body = \"\"\n",
    "    for idx, r in enumerate(results):\n",
    "        body += f\"<li>Document #{r.doc_id}({r.score}): {r.snippet}</li>\"\n",
    "    display(HTML(f\"<ul>{body}</ul>\"))\n",
    "    \n",
    "\n",
    "text.on_submit(handle_submit_2)"
   ]
  },
  {
   "cell_type": "markdown",
   "metadata": {
    "deletable": false,
    "editable": false,
    "id": "0PGe6mPD4IWt",
    "nbgrader": {
     "cell_type": "markdown",
     "checksum": "d074ce1ca48384cdda78742741c938be",
     "grade": false,
     "grade_id": "cell-3a86cef264d8f6cf",
     "locked": true,
     "schema_version": 3,
     "solution": false,
     "task": false
    }
   },
   "source": [
    "---\n",
    "## Section 7: Latent Dirichlet Allocation (LDA) (10 points) <a class=\"anchor\" id=\"lda\"></a>\n",
    "\n",
    "[Back to Part 2](#part2)\n",
    "\n",
    "The specifics of LDA is out of the scope of this assignment, but we will use the `gensim` implementation to perform search using LDA over our small document collection. The key thing to remember is that LDA, unlike LSI, outputs a topic **distribution**, not a vector. With that in mind, let's first define a similarity measure.\n"
   ]
  },
  {
   "cell_type": "markdown",
   "metadata": {
    "deletable": false,
    "editable": false,
    "id": "xMbAwqEW4IWt",
    "nbgrader": {
     "cell_type": "markdown",
     "checksum": "db01092373b18f0c9dfed1bb17db4ad9",
     "grade": false,
     "grade_id": "cell-6b78ad22c2d60ba7",
     "locked": true,
     "schema_version": 3,
     "solution": false,
     "task": false
    }
   },
   "source": [
    "---\n",
    "### Section 7.1: Jenson-Shannon divergence (5 points) <a class=\"anchor\" id=\"js_sim\"></a>\n",
    "\n",
    "The Jenson-Shannon divergence is a symmetric and finite measure on two probability distributions (unlike the KL, which is neither). For identical distributions, the JSD is equal to 0, and since our code uses 0 as irrelevant and higher scores as relevant, we use `(1 - JSD)` as the score or 'similarity' in our setup\n",
    "\n",
    "**Note**: the JSD is bounded to \\[0,1\\] only if we use log base 2. So please ensure that you're using `np.log2` instead of `np.log`"
   ]
  },
  {
   "cell_type": "code",
   "execution_count": 84,
   "metadata": {
    "ExecuteTime": {
     "end_time": "2021-02-11T13:00:51.129979Z",
     "start_time": "2021-02-11T13:00:51.123998Z"
    },
    "deletable": false,
    "id": "OP-T-8i-4IWt",
    "nbgrader": {
     "cell_type": "code",
     "checksum": "a579e6cd7a24a3516bc9a84528b392d3",
     "grade": false,
     "grade_id": "cell-d2376a85a4841e98",
     "locked": false,
     "schema_version": 3,
     "solution": true,
     "task": false
    }
   },
   "outputs": [],
   "source": [
    "## TODO: Implement this! (5 points)\n",
    "def jenson_shannon_divergence(vec_1, vec_2, assert_prob=False):\n",
    "    \"\"\"\n",
    "        Computes the Jensen-Shannon divergence between two probability distributions. \n",
    "        NOTE: DO NOT RETURN 1 - JSD here, that is handled by the next function which is already implemented! \n",
    "        The inputs are *gensim* vectors - same as the vectors for the cosine_sim function\n",
    "        assert_prob is a flag that checks if the inputs are proper probability distributions \n",
    "            i.e they sum to 1 and are positive - use this to check your inputs if needed. \n",
    "                (This is optional to implement, but recommended - \n",
    "                you can the default to False to save a few ms off the runtime)\n",
    "    \"\"\"\n",
    "    # YOUR CODE HERE\n",
    "    if assert_prob:\n",
    "        sum_vec_1 = sum(value[1] for value in vec_1)\n",
    "        sum_vec_2 = sum(value[1] for value in vec_2)\n",
    "        if sum_vec_1 != 1:\n",
    "            print('Input vec_1 is not in the correct format!')\n",
    "            return\n",
    "        if sum_vec_2 != 1:\n",
    "            print('Input vec_2 is not in the correct format!')\n",
    "            return\n",
    "            \n",
    "    vec_1 = np.array(vec_1)\n",
    "    vec_2 = np.array(vec_2)\n",
    "    d1 = vec_1*np.log2(2*vec_1/(vec_1+vec_2))\n",
    "    d2 = vec_2*np.log2(2*vec_2/(vec_1+vec_2))\n",
    "    d1[np.isnan(d1)] = 0\n",
    "    d2[np.isnan(d2)] = 0\n",
    "    d = 0.5*np.sum(d1+d2)\n",
    "    \n",
    "    return d\n",
    "    \n",
    "\n",
    "def jenson_shannon_sim(vec_1, vec_2, assert_prob=False):\n",
    "    return 1 - jenson_shannon_divergence(vec_1, vec_2)"
   ]
  },
  {
   "cell_type": "code",
   "execution_count": 85,
   "metadata": {
    "ExecuteTime": {
     "end_time": "2021-02-11T13:00:53.379551Z",
     "start_time": "2021-02-11T13:00:53.371573Z"
    },
    "deletable": false,
    "editable": false,
    "id": "0Jx8X0vU4IWt",
    "nbgrader": {
     "cell_type": "code",
     "checksum": "ab340aa941c9fb5c89b3fd0a9139e246",
     "grade": true,
     "grade_id": "cell-487c6d2933f38053",
     "locked": true,
     "points": 5,
     "schema_version": 3,
     "solution": false,
     "task": false
    }
   },
   "outputs": [
    {
     "data": {
      "text/plain": [
       "0.9251064410358459"
      ]
     },
     "execution_count": 85,
     "metadata": {},
     "output_type": "execute_result"
    }
   ],
   "source": [
    "##### Function check\n",
    "vec_1 = [(1, 0.3), (2, 0.4), (3, 0.3)]\n",
    "vec_2 = [(1, 0.1), (2, 0.7), (3, 0.2)]\n",
    "jenson_shannon_sim(vec_1, vec_2, assert_prob=True)\n",
    "##### "
   ]
  },
  {
   "cell_type": "markdown",
   "metadata": {
    "deletable": false,
    "editable": false,
    "id": "1qyB_mcw4IWt",
    "nbgrader": {
     "cell_type": "markdown",
     "checksum": "0a1583a5f23e3390038331cce67f5d8e",
     "grade": false,
     "grade_id": "cell-4535cc67a50b80fa",
     "locked": true,
     "schema_version": 3,
     "solution": false,
     "task": false
    }
   },
   "source": [
    "---\n",
    "### Section 7.2: LDA retrieval (5 points) <a class=\"anchor\" id=\"lda_ret\"></a>\n",
    "\n",
    "Implement the `train_model` method in the following class (note that this is only one line of code in `gensim`!). Ensure that the parameters defined in the `__init__` method are not changed, and are *used in the `train_method` function*. You do not need to set this. Normally, the hyperaparameter space will be searched using grid search / other methods. Note that training the LDA model might take some time\n",
    "\n",
    "The last two lines of code train an LDA model on the list of documents which have been stemmed, lower-cased and have stopwords removed. "
   ]
  },
  {
   "cell_type": "code",
   "execution_count": 86,
   "metadata": {
    "ExecuteTime": {
     "end_time": "2021-02-11T13:00:56.021643Z",
     "start_time": "2021-02-11T13:00:56.013664Z"
    },
    "deletable": false,
    "id": "Z9-cv36K4IWt",
    "nbgrader": {
     "cell_type": "code",
     "checksum": "27de8e4fa85536bb396b73bfc51b3f50",
     "grade": false,
     "grade_id": "cell-021a48dff4a8bb91",
     "locked": false,
     "schema_version": 3,
     "solution": true,
     "task": false
    }
   },
   "outputs": [],
   "source": [
    "# TODO: Implement this! (5 points)\n",
    "class LdaRetrievalModel(VectorSpaceRetrievalModel):\n",
    "    def __init__(self, doc_repr):\n",
    "        super().__init__(doc_repr)\n",
    "        \n",
    "        # use these parameters in the train_model method\n",
    "        self.num_topics = 100\n",
    "        self.chunksize = 2000\n",
    "        self.passes = 20\n",
    "        self.iterations = 400\n",
    "        self.eval_every = 10\n",
    "        # this is need to get full vectors\n",
    "        self.minimum_probability=0.0\n",
    "        self.alpha='auto'\n",
    "        self.eta='auto'\n",
    "    \n",
    "    \n",
    "    def train_model(self):\n",
    "        # YOUR CODE HERE\n",
    "        self.model = LdaModel(self.corpus, num_topics = self.num_topics, chunksize = self.chunksize, id2word = self.id2word,\n",
    "                              passes = self.passes, iterations = self.iterations, eval_every = self.eval_every, \n",
    "                              minimum_probability = self.minimum_probability, alpha = self.alpha, eta = self.eta)"
   ]
  },
  {
   "cell_type": "code",
   "execution_count": 87,
   "metadata": {
    "ExecuteTime": {
     "end_time": "2021-02-11T13:02:31.570554Z",
     "start_time": "2021-02-11T13:00:57.797199Z"
    },
    "deletable": false,
    "editable": false,
    "id": "Fb0jrpWb4IWu",
    "nbgrader": {
     "cell_type": "code",
     "checksum": "be70fcb8098d0b6ce64cd2a10e6a05b7",
     "grade": true,
     "grade_id": "cell-86750b715f0345fd",
     "locked": true,
     "points": 0,
     "schema_version": 3,
     "solution": false,
     "task": false
    }
   },
   "outputs": [
    {
     "name": "stderr",
     "output_type": "stream",
     "text": [
      "2021-02-11 14:00:57,800 : INFO : adding document #0 to Dictionary(0 unique tokens: [])\n",
      "2021-02-11 14:00:57,953 : INFO : built Dictionary(6207 unique tokens: ['-', 'algebra', 'intern', 'languag', 'preliminari']...) from 3204 documents (total 196863 corpus positions)\n",
      "2021-02-11 14:00:57,958 : INFO : discarding 4798 tokens: [('of', 2061), ('repeat', 8), ('glossari', 7), ('inspect', 8), ('the', 1794), ('uncol', 2), ('a', 1808), ('rung', 9), ('secant', 2), ('.', 1605)]...\n",
      "2021-02-11 14:00:57,959 : INFO : keeping 1409 tokens which were in no less than 10 and no more than 1602 (=50.0%) documents\n",
      "2021-02-11 14:00:57,962 : INFO : resulting dictionary: Dictionary(1409 unique tokens: ['-', 'algebra', 'intern', 'languag', 'preliminari']...)\n",
      "2021-02-11 14:00:58,046 : INFO : using autotuned alpha, starting with [0.01, 0.01, 0.01, 0.01, 0.01, 0.01, 0.01, 0.01, 0.01, 0.01, 0.01, 0.01, 0.01, 0.01, 0.01, 0.01, 0.01, 0.01, 0.01, 0.01, 0.01, 0.01, 0.01, 0.01, 0.01, 0.01, 0.01, 0.01, 0.01, 0.01, 0.01, 0.01, 0.01, 0.01, 0.01, 0.01, 0.01, 0.01, 0.01, 0.01, 0.01, 0.01, 0.01, 0.01, 0.01, 0.01, 0.01, 0.01, 0.01, 0.01, 0.01, 0.01, 0.01, 0.01, 0.01, 0.01, 0.01, 0.01, 0.01, 0.01, 0.01, 0.01, 0.01, 0.01, 0.01, 0.01, 0.01, 0.01, 0.01, 0.01, 0.01, 0.01, 0.01, 0.01, 0.01, 0.01, 0.01, 0.01, 0.01, 0.01, 0.01, 0.01, 0.01, 0.01, 0.01, 0.01, 0.01, 0.01, 0.01, 0.01, 0.01, 0.01, 0.01, 0.01, 0.01, 0.01, 0.01, 0.01, 0.01, 0.01]\n",
      "2021-02-11 14:00:58,047 : INFO : using serial LDA version on this node\n",
      "2021-02-11 14:00:58,060 : INFO : running online (multi-pass) LDA training, 100 topics, 20 passes over the supplied corpus of 3204 documents, updating model once every 2000 documents, evaluating perplexity every 3204 documents, iterating 400x with a convergence threshold of 0.001000\n",
      "2021-02-11 14:00:58,061 : INFO : PROGRESS: pass 0, at document #2000/3204\n",
      "2021-02-11 14:01:01,107 : INFO : optimized alpha [0.009844792, 0.009756535, 0.009834796, 0.009797749, 0.009746078, 0.00975664, 0.00979801, 0.009818839, 0.009868309, 0.009924261, 0.009881656, 0.009855511, 0.009740945, 0.009849868, 0.009792915, 0.009767195, 0.009725513, 0.00985615, 0.009823105, 0.0098452475, 0.009803733, 0.0098183835, 0.009761817, 0.009746424, 0.010018388, 0.009891421, 0.009761306, 0.009756385, 0.009766957, 0.009913972, 0.009829202, 0.009839388, 0.009793794, 0.009766938, 0.009751586, 0.009797485, 0.009762162, 0.009777202, 0.009867956, 0.009833939, 0.009746476, 0.009756328, 0.009787961, 0.009761548, 0.009735768, 0.00973581, 0.009751202, 0.009771617, 0.009730746, 0.009730727, 0.009818051, 0.00983446, 0.00983458, 0.009741083, 0.009735778, 0.009772353, 0.009861185, 0.009782534, 0.009735787, 0.009761613, 0.009767769, 0.009735887, 0.009756642, 0.009818801, 0.009843759, 0.009845457, 0.009787264, 0.0097513525, 0.009782069, 0.009829732, 0.009756741, 0.009761652, 0.009748702, 0.009751603, 0.009920759, 0.009746179, 0.009817865, 0.009803352, 0.009798227, 0.00984537, 0.009902771, 0.009797615, 0.009834795, 0.0097827, 0.00977742, 0.009777373, 0.009767108, 0.009740957, 0.009834114, 0.009827152, 0.0097828945, 0.009777589, 0.009892817, 0.009782789, 0.010038889, 0.009782412, 0.009907604, 0.009896812, 0.009741171, 0.009760886]\n",
      "2021-02-11 14:01:01,113 : INFO : merging changes from 2000 documents into a model of 3204 documents\n",
      "2021-02-11 14:01:01,126 : INFO : topic #61 (0.010): 0.030*\"system\" + 0.025*\"an\" + 0.024*\"algorithm\" + 0.021*\"comput\" + 0.021*\"data\" + 0.020*\"linear\" + 0.018*\",\" + 0.017*\"must\" + 0.017*\"at\" + 0.017*\")\"\n",
      "2021-02-11 14:01:01,126 : INFO : topic #98 (0.010): 0.060*\"and\" + 0.045*\"in\" + 0.037*\"for\" + 0.036*\"automat\" + 0.033*\",\" + 0.026*\"analysi\" + 0.024*\"-\" + 0.023*\"is\" + 0.023*\"to\" + 0.018*\"survey\"\n",
      "2021-02-11 14:01:01,127 : INFO : topic #29 (0.010): 0.045*\",\" + 0.032*\"is\" + 0.029*\"to\" + 0.028*\"and\" + 0.023*\"for\" + 0.023*\"in\" + 0.019*\"-\" + 0.014*\"on\" + 0.013*\"system\" + 0.012*\"are\"\n",
      "2021-02-11 14:01:01,127 : INFO : topic #24 (0.010): 0.040*\",\" + 0.035*\"and\" + 0.033*\"in\" + 0.026*\"is\" + 0.025*\"to\" + 0.022*\"for\" + 0.018*\"are\" + 0.017*\"-\" + 0.013*\"that\" + 0.013*\"comput\"\n",
      "2021-02-11 14:01:01,128 : INFO : topic #94 (0.010): 0.037*\",\" + 0.033*\"is\" + 0.033*\"and\" + 0.030*\"for\" + 0.030*\"to\" + 0.019*\"-\" + 0.017*\"in\" + 0.013*\"gener\" + 0.013*\"program\" + 0.013*\"system\"\n",
      "2021-02-11 14:01:01,129 : INFO : topic diff=80.185745, rho=1.000000\n",
      "2021-02-11 14:01:03,040 : INFO : -6.952 per-word bound, 123.8 perplexity estimate based on a held-out corpus of 1204 documents with 79462 words\n",
      "2021-02-11 14:01:03,041 : INFO : PROGRESS: pass 0, at document #3204/3204\n",
      "2021-02-11 14:01:04,750 : INFO : optimized alpha [0.010028145, 0.0097831795, 0.009958098, 0.009765969, 0.009766494, 0.009714443, 0.009884475, 0.010077613, 0.010094098, 0.0104528, 0.010341095, 0.010108372, 0.009697205, 0.009853859, 0.009732086, 0.009624677, 0.009479703, 0.010099195, 0.010002105, 0.010368947, 0.010038801, 0.009743658, 0.009678059, 0.009909854, 0.010716252, 0.010217463, 0.009795031, 0.0098464545, 0.009957739, 0.010663574, 0.010021184, 0.009729828, 0.009802706, 0.009787612, 0.009896405, 0.0096650915, 0.009914309, 0.009710376, 0.010177179, 0.0098428475, 0.009850384, 0.009718839, 0.010005195, 0.0097706765, 0.009564702, 0.009529989, 0.009719006, 0.009651584, 0.009787723, 0.009670296, 0.009714214, 0.009987006, 0.010297534, 0.009716554, 0.0096287625, 0.00984644, 0.010206099, 0.009809798, 0.009524119, 0.009613247, 0.009967365, 0.0095128715, 0.009755809, 0.009922467, 0.009892341, 0.0102500655, 0.009755409, 0.009924037, 0.009667776, 0.010219683, 0.009809022, 0.009800669, 0.009887568, 0.009727401, 0.010182918, 0.009836658, 0.0098496545, 0.009968215, 0.0098023685, 0.00989715, 0.01011068, 0.009699912, 0.010083154, 0.010045897, 0.009811434, 0.009922423, 0.010018974, 0.009616252, 0.010093109, 0.009730146, 0.010212707, 0.009857882, 0.01046134, 0.009993865, 0.010454799, 0.009850685, 0.010133221, 0.009983594, 0.009879355, 0.00962995]\n",
      "2021-02-11 14:01:04,759 : INFO : merging changes from 1204 documents into a model of 3204 documents\n",
      "2021-02-11 14:01:04,771 : INFO : topic #16 (0.009): 0.224*\"wave\" + 0.221*\"s22\" + 0.086*\"function\" + 0.062*\"algorithm\" + 0.052*\"(\" + 0.027*\"[\" + 0.011*\"])\" + 0.000*\"verifi\" + 0.000*\"quit\" + 0.000*\"divid\"\n",
      "2021-02-11 14:01:04,772 : INFO : topic #58 (0.010): 0.100*\"(\" + 0.100*\"algorithm\" + 0.090*\"through\" + 0.087*\"-\" + 0.083*\")\" + 0.079*\"*\" + 0.053*\"translat\" + 0.047*\"squar\" + 0.028*\"analysi\" + 0.026*\"syntact\"\n",
      "2021-02-11 14:01:04,773 : INFO : topic #94 (0.010): 0.043*\",\" + 0.033*\"and\" + 0.033*\"to\" + 0.032*\"is\" + 0.027*\"for\" + 0.020*\"-\" + 0.018*\"in\" + 0.014*\"system\" + 0.012*\"use\" + 0.012*\"program\"\n",
      "2021-02-11 14:01:04,774 : INFO : topic #29 (0.011): 0.048*\",\" + 0.035*\"and\" + 0.034*\"is\" + 0.030*\"to\" + 0.023*\"in\" + 0.020*\"for\" + 0.016*\"-\" + 0.014*\"are\" + 0.014*\"on\" + 0.013*\"system\"\n",
      "2021-02-11 14:01:04,774 : INFO : topic #24 (0.011): 0.050*\",\" + 0.040*\"and\" + 0.036*\"in\" + 0.028*\"to\" + 0.027*\"is\" + 0.022*\"for\" + 0.019*\"are\" + 0.014*\"that\" + 0.014*\"program\" + 0.013*\"-\"\n",
      "2021-02-11 14:01:04,776 : INFO : topic diff=0.724452, rho=0.707107\n",
      "2021-02-11 14:01:04,785 : INFO : PROGRESS: pass 1, at document #2000/3204\n",
      "2021-02-11 14:01:06,211 : INFO : optimized alpha [0.010062367, 0.009740394, 0.009886057, 0.009684673, 0.009778757, 0.0096935425, 0.009821774, 0.009986172, 0.010022407, 0.010364067, 0.010245864, 0.009997508, 0.009598882, 0.009752448, 0.009685478, 0.009626911, 0.009372227, 0.010018771, 0.010306153, 0.010267841, 0.009994207, 0.009652367, 0.009619696, 0.009923322, 0.010728472, 0.010164141, 0.009704992, 0.00975239, 0.009884605, 0.010600952, 0.009955482, 0.009613378, 0.009859427, 0.0096977465, 0.009950478, 0.009621757, 0.009842935, 0.009591547, 0.010144593, 0.009817894, 0.009927548, 0.00969504, 0.009899372, 0.009805708, 0.009641525, 0.009492267, 0.009791203, 0.009712069, 0.009859678, 0.009775967, 0.009647384, 0.009898035, 0.010194969, 0.009859375, 0.0095554115, 0.00979753, 0.010189444, 0.009753579, 0.009610011, 0.009497045, 0.009902575, 0.009442123, 0.0097140055, 0.00986958, 0.009956452, 0.0102075385, 0.009791708, 0.009968245, 0.009881491, 0.010133058, 0.009824256, 0.009739144, 0.009876554, 0.009701853, 0.010411824, 0.009876832, 0.009771405, 0.009895951, 0.009746944, 0.00982939, 0.010022204, 0.009606937, 0.009992116, 0.009971063, 0.009752969, 0.009855844, 0.009987819, 0.009658556, 0.010031174, 0.009652325, 0.01013723, 0.009764346, 0.010414434, 0.009933719, 0.010391576, 0.009933413, 0.010102057, 0.009935687, 0.009936825, 0.009574781]\n"
     ]
    },
    {
     "name": "stderr",
     "output_type": "stream",
     "text": [
      "2021-02-11 14:01:06,223 : INFO : merging changes from 2000 documents into a model of 3204 documents\n",
      "2021-02-11 14:01:06,241 : INFO : topic #16 (0.009): 0.171*\"s22\" + 0.171*\"wave\" + 0.153*\"function\" + 0.097*\"algorithm\" + 0.094*\"(\" + 0.073*\"])\" + 0.067*\"[\" + 0.000*\"verifi\" + 0.000*\"quit\" + 0.000*\"divid\"\n",
      "2021-02-11 14:01:06,243 : INFO : topic #61 (0.009): 0.150*\"code\" + 0.093*\"linear\" + 0.036*\"solv\" + 0.036*\"25\" + 0.035*\"zero\" + 0.033*\"algorithm\" + 0.031*\"semi\" + 0.030*\"an\" + 0.025*\"comput\" + 0.025*\"program\"\n",
      "2021-02-11 14:01:06,244 : INFO : topic #94 (0.010): 0.044*\",\" + 0.034*\"and\" + 0.034*\"to\" + 0.033*\"is\" + 0.029*\"for\" + 0.020*\"-\" + 0.018*\"in\" + 0.014*\"system\" + 0.013*\"gener\" + 0.013*\"use\"\n",
      "2021-02-11 14:01:06,245 : INFO : topic #29 (0.011): 0.049*\",\" + 0.034*\"and\" + 0.033*\"is\" + 0.030*\"to\" + 0.023*\"in\" + 0.020*\"for\" + 0.016*\"-\" + 0.014*\"are\" + 0.014*\"on\" + 0.013*\"system\"\n",
      "2021-02-11 14:01:06,246 : INFO : topic #24 (0.011): 0.049*\",\" + 0.040*\"and\" + 0.036*\"in\" + 0.028*\"to\" + 0.027*\"is\" + 0.022*\"for\" + 0.019*\"are\" + 0.014*\"that\" + 0.014*\"program\" + 0.013*\"comput\"\n",
      "2021-02-11 14:01:06,247 : INFO : topic diff=0.353616, rho=0.526900\n",
      "2021-02-11 14:01:08,072 : INFO : -6.665 per-word bound, 101.5 perplexity estimate based on a held-out corpus of 1204 documents with 79462 words\n",
      "2021-02-11 14:01:08,073 : INFO : PROGRESS: pass 1, at document #3204/3204\n",
      "2021-02-11 14:01:09,671 : INFO : optimized alpha [0.01029331, 0.009826508, 0.009964833, 0.009656283, 0.00992079, 0.009763975, 0.009895418, 0.010228954, 0.010186549, 0.0106311105, 0.010496647, 0.010114145, 0.009609437, 0.009740921, 0.0097566135, 0.009590159, 0.009225084, 0.010204496, 0.010394857, 0.010634055, 0.010182906, 0.009658005, 0.009584095, 0.010182392, 0.01112907, 0.010317442, 0.009801554, 0.009906926, 0.010070699, 0.011025688, 0.010120534, 0.009565275, 0.009971202, 0.009741633, 0.010159908, 0.009606185, 0.009991906, 0.009611383, 0.010454384, 0.009878377, 0.010150059, 0.009890137, 0.010061587, 0.009986279, 0.009595211, 0.009437731, 0.010036743, 0.009715896, 0.010147119, 0.009873645, 0.009571862, 0.010077982, 0.010551163, 0.009923084, 0.0096342005, 0.00990132, 0.010403304, 0.009814878, 0.009530859, 0.009421436, 0.010149088, 0.009446789, 0.009788728, 0.009982813, 0.010017945, 0.0104720285, 0.009842946, 0.010335998, 0.009904312, 0.010417571, 0.0099994, 0.009882197, 0.010006386, 0.0097338315, 0.010606857, 0.010001036, 0.009835973, 0.010019132, 0.0098221, 0.00983841, 0.010136538, 0.009625458, 0.010191378, 0.0101633435, 0.009814383, 0.009964161, 0.010206527, 0.009633329, 0.010300914, 0.00964197, 0.010549452, 0.0098429015, 0.01079385, 0.010153313, 0.01058751, 0.010040553, 0.010266117, 0.009982943, 0.010153843, 0.009598896]\n",
      "2021-02-11 14:01:09,679 : INFO : merging changes from 1204 documents into a model of 3204 documents\n",
      "2021-02-11 14:01:09,691 : INFO : topic #16 (0.009): 0.262*\"function\" + 0.163*\"s22\" + 0.163*\"wave\" + 0.084*\"algorithm\" + 0.074*\"(\" + 0.054*\"[\" + 0.034*\"])\" + 0.000*\"verifi\" + 0.000*\"quit\" + 0.000*\"divid\"\n",
      "2021-02-11 14:01:09,692 : INFO : topic #59 (0.009): 0.072*\"condit\" + 0.065*\"govern\" + 0.052*\"in\" + 0.043*\"impact\" + 0.034*\",\" + 0.031*\"for\" + 0.027*\"particularli\" + 0.027*\"affect\" + 0.027*\"convert\" + 0.022*\"decis\"\n",
      "2021-02-11 14:01:09,692 : INFO : topic #92 (0.011): 0.046*\",\" + 0.035*\"to\" + 0.032*\"in\" + 0.030*\"and\" + 0.019*\"is\" + 0.017*\"use\" + 0.017*\"thi\" + 0.016*\"problem\" + 0.016*\"data\" + 0.014*\"-\"\n",
      "2021-02-11 14:01:09,693 : INFO : topic #29 (0.011): 0.050*\",\" + 0.038*\"and\" + 0.034*\"is\" + 0.030*\"to\" + 0.023*\"in\" + 0.019*\"for\" + 0.015*\"are\" + 0.015*\"-\" + 0.014*\"as\" + 0.013*\"on\"\n",
      "2021-02-11 14:01:09,693 : INFO : topic #24 (0.011): 0.054*\",\" + 0.043*\"and\" + 0.038*\"in\" + 0.028*\"to\" + 0.026*\"is\" + 0.022*\"for\" + 0.020*\"are\" + 0.014*\"program\" + 0.014*\"that\" + 0.013*\"comput\"\n",
      "2021-02-11 14:01:09,694 : INFO : topic diff=0.492330, rho=0.526900\n",
      "2021-02-11 14:01:09,703 : INFO : PROGRESS: pass 2, at document #2000/3204\n",
      "2021-02-11 14:01:11,245 : INFO : optimized alpha [0.010419359, 0.009802958, 0.009907008, 0.009562708, 0.009851066, 0.0097802915, 0.009873669, 0.010189246, 0.010132056, 0.010561969, 0.010407374, 0.010016901, 0.009534515, 0.009675794, 0.00979247, 0.009677598, 0.009239119, 0.010139381, 0.010572999, 0.010544287, 0.010166073, 0.009618994, 0.009551212, 0.010213527, 0.011139821, 0.010266859, 0.009743712, 0.009832712, 0.010018936, 0.010960822, 0.0100804325, 0.009490003, 0.010085885, 0.009694269, 0.010321874, 0.009617557, 0.009954329, 0.009528004, 0.010474235, 0.0098777125, 0.010276816, 0.009939656, 0.00998219, 0.010045996, 0.009752458, 0.009454099, 0.010188477, 0.009792281, 0.010299851, 0.010025215, 0.009523371, 0.010012396, 0.010465212, 0.010144164, 0.009629185, 0.00986748, 0.010408722, 0.00979408, 0.009639275, 0.009342214, 0.0101372525, 0.009504221, 0.009779865, 0.009957307, 0.010081546, 0.010451305, 0.009914438, 0.010432581, 0.010477115, 0.010364804, 0.010047004, 0.009866695, 0.009991222, 0.009735581, 0.010763955, 0.010063938, 0.009770432, 0.009966992, 0.0098181935, 0.009794752, 0.010090041, 0.009573124, 0.010111895, 0.010102894, 0.009784699, 0.009919706, 0.01019814, 0.009689704, 0.010264756, 0.009576169, 0.0104990415, 0.009775739, 0.010757255, 0.010122141, 0.010522014, 0.01019889, 0.010256992, 0.009970304, 0.010265655, 0.009587758]\n",
      "2021-02-11 14:01:11,253 : INFO : merging changes from 2000 documents into a model of 3204 documents\n",
      "2021-02-11 14:01:11,268 : INFO : topic #16 (0.009): 0.365*\"function\" + 0.102*\"])\" + 0.098*\"[\" + 0.095*\"algorithm\" + 0.087*\"s22\" + 0.087*\"(\" + 0.087*\"wave\" + 0.000*\"verifi\" + 0.000*\"quit\" + 0.000*\"divid\"\n",
      "2021-02-11 14:01:11,270 : INFO : topic #59 (0.009): 0.065*\"govern\" + 0.060*\"condit\" + 0.051*\"in\" + 0.036*\",\" + 0.035*\"impact\" + 0.034*\"for\" + 0.027*\"affect\" + 0.025*\"particularli\" + 0.025*\"convert\" + 0.023*\"gauss\"\n",
      "2021-02-11 14:01:11,270 : INFO : topic #92 (0.011): 0.045*\",\" + 0.035*\"to\" + 0.033*\"in\" + 0.029*\"and\" + 0.018*\"is\" + 0.018*\"use\" + 0.017*\"thi\" + 0.016*\"problem\" + 0.016*\"data\" + 0.015*\"-\"\n",
      "2021-02-11 14:01:11,271 : INFO : topic #29 (0.011): 0.051*\",\" + 0.036*\"and\" + 0.034*\"is\" + 0.031*\"to\" + 0.023*\"in\" + 0.019*\"for\" + 0.015*\"are\" + 0.014*\"-\" + 0.014*\"as\" + 0.014*\"on\"\n",
      "2021-02-11 14:01:11,271 : INFO : topic #24 (0.011): 0.053*\",\" + 0.043*\"and\" + 0.038*\"in\" + 0.029*\"to\" + 0.026*\"is\" + 0.022*\"for\" + 0.020*\"are\" + 0.015*\"that\" + 0.015*\"program\" + 0.014*\"comput\"\n",
      "2021-02-11 14:01:11,272 : INFO : topic diff=0.463012, rho=0.466151\n",
      "2021-02-11 14:01:13,164 : INFO : -6.576 per-word bound, 95.4 perplexity estimate based on a held-out corpus of 1204 documents with 79462 words\n",
      "2021-02-11 14:01:13,165 : INFO : PROGRESS: pass 2, at document #3204/3204\n",
      "2021-02-11 14:01:14,780 : INFO : optimized alpha [0.010621107, 0.009895111, 0.0100128185, 0.009545026, 0.010000769, 0.009854494, 0.009916144, 0.010430104, 0.010282131, 0.010795844, 0.01060974, 0.010109358, 0.009557327, 0.009687318, 0.009901798, 0.009697883, 0.009233401, 0.0103207845, 0.010586858, 0.0108517315, 0.01032582, 0.009682303, 0.009574825, 0.010469658, 0.011460283, 0.010390802, 0.009906456, 0.0099968845, 0.010223546, 0.011312145, 0.01021083, 0.009533616, 0.010246843, 0.009742122, 0.010557125, 0.0096729975, 0.010102487, 0.00958501, 0.010765104, 0.009981903, 0.0105156405, 0.010254104, 0.010102924, 0.010253431, 0.009717789, 0.009463995, 0.010448056, 0.009830097, 0.01063965, 0.010165202, 0.009464552, 0.010168429, 0.01079298, 0.010221535, 0.009748129, 0.009979266, 0.010628314, 0.009891356, 0.009592364, 0.009309504, 0.010449529, 0.009601266, 0.009873338, 0.010089462, 0.010131693, 0.010699623, 0.009959134, 0.0108967945, 0.01067745, 0.010623225, 0.010222526, 0.010036558, 0.010126276, 0.009787537, 0.010915348, 0.010200993, 0.009859382, 0.0100730425, 0.00997813, 0.009819893, 0.010207923, 0.009658745, 0.010265533, 0.010273787, 0.009862923, 0.010016201, 0.010444732, 0.009705662, 0.0105339065, 0.009629938, 0.010863371, 0.009865523, 0.011051097, 0.010317798, 0.0106540825, 0.010284416, 0.010414922, 0.010020734, 0.0104910135, 0.009670281]\n",
      "2021-02-11 14:01:14,789 : INFO : merging changes from 1204 documents into a model of 3204 documents\n",
      "2021-02-11 14:01:14,801 : INFO : topic #16 (0.009): 0.563*\"function\" + 0.073*\"algorithm\" + 0.066*\"(\" + 0.065*\"s22\" + 0.065*\"wave\" + 0.060*\"[\" + 0.044*\"])\" + 0.000*\"verifi\" + 0.000*\"quit\" + 0.000*\"divid\"\n"
     ]
    },
    {
     "name": "stderr",
     "output_type": "stream",
     "text": [
      "2021-02-11 14:01:14,802 : INFO : topic #59 (0.009): 0.077*\"govern\" + 0.073*\"condit\" + 0.055*\"in\" + 0.052*\"impact\" + 0.039*\"affect\" + 0.037*\",\" + 0.032*\"convert\" + 0.032*\"busi\" + 0.032*\"for\" + 0.028*\"particularli\"\n",
      "2021-02-11 14:01:14,802 : INFO : topic #92 (0.011): 0.047*\",\" + 0.037*\"to\" + 0.034*\"in\" + 0.030*\"and\" + 0.019*\"is\" + 0.019*\"thi\" + 0.019*\"use\" + 0.019*\"problem\" + 0.015*\"paper\" + 0.014*\"which\"\n",
      "2021-02-11 14:01:14,803 : INFO : topic #29 (0.011): 0.053*\",\" + 0.040*\"and\" + 0.035*\"is\" + 0.031*\"to\" + 0.022*\"in\" + 0.018*\"for\" + 0.016*\"are\" + 0.016*\"as\" + 0.014*\"-\" + 0.013*\"on\"\n",
      "2021-02-11 14:01:14,804 : INFO : topic #24 (0.011): 0.058*\",\" + 0.045*\"and\" + 0.039*\"in\" + 0.030*\"to\" + 0.025*\"is\" + 0.022*\"for\" + 0.021*\"are\" + 0.015*\"that\" + 0.015*\"program\" + 0.013*\"comput\"\n",
      "2021-02-11 14:01:14,805 : INFO : topic diff=0.604708, rho=0.466151\n",
      "2021-02-11 14:01:14,816 : INFO : PROGRESS: pass 3, at document #2000/3204\n",
      "2021-02-11 14:01:16,282 : INFO : optimized alpha [0.010802219, 0.009899171, 0.009977775, 0.009478079, 0.009930576, 0.00987369, 0.009899409, 0.010412026, 0.010243255, 0.0107521005, 0.0105412565, 0.010018189, 0.009495648, 0.009638797, 0.009984831, 0.009810616, 0.009368529, 0.010269528, 0.010706091, 0.010783307, 0.010327314, 0.009676574, 0.0095564565, 0.01053172, 0.011471438, 0.010342668, 0.009870119, 0.009935285, 0.0101793045, 0.01125117, 0.010176127, 0.00947943, 0.010394453, 0.00971283, 0.010748641, 0.009749608, 0.010078719, 0.009531456, 0.010804031, 0.010002411, 0.010649138, 0.010321064, 0.010042219, 0.010334523, 0.009915648, 0.009526337, 0.010633278, 0.009908018, 0.010808898, 0.010334134, 0.009429444, 0.010114957, 0.010729621, 0.01045994, 0.009772056, 0.009965349, 0.010649779, 0.00988514, 0.009689275, 0.009247058, 0.010466856, 0.009692041, 0.009882222, 0.010074566, 0.01019389, 0.010703761, 0.010030693, 0.011044973, 0.011398879, 0.01057747, 0.010273621, 0.010034348, 0.010116341, 0.009798021, 0.011041884, 0.010279136, 0.009815394, 0.010045361, 0.010003725, 0.009786093, 0.010174575, 0.00963645, 0.010206453, 0.010218037, 0.009855421, 0.009982579, 0.010457118, 0.009777596, 0.010500782, 0.00959008, 0.010827201, 0.009822267, 0.0110169705, 0.010294669, 0.01058524, 0.010469107, 0.010437336, 0.010014214, 0.01061475, 0.009668556]\n",
      "2021-02-11 14:01:16,293 : INFO : merging changes from 2000 documents into a model of 3204 documents\n",
      "2021-02-11 14:01:16,306 : INFO : topic #59 (0.009): 0.073*\"govern\" + 0.062*\"condit\" + 0.054*\"in\" + 0.042*\"impact\" + 0.038*\",\" + 0.037*\"busi\" + 0.036*\"affect\" + 0.033*\"for\" + 0.031*\"convert\" + 0.028*\"particularli\"\n",
      "2021-02-11 14:01:16,307 : INFO : topic #16 (0.009): 0.555*\"function\" + 0.083*\"[\" + 0.077*\"algorithm\" + 0.076*\"])\" + 0.065*\"(\" + 0.049*\"s22\" + 0.049*\"wave\" + 0.000*\"verifi\" + 0.000*\"quit\" + 0.000*\"divid\"\n",
      "2021-02-11 14:01:16,308 : INFO : topic #29 (0.011): 0.054*\",\" + 0.038*\"and\" + 0.035*\"is\" + 0.031*\"to\" + 0.023*\"in\" + 0.018*\"for\" + 0.016*\"as\" + 0.015*\"are\" + 0.014*\"-\" + 0.014*\"on\"\n",
      "2021-02-11 14:01:16,308 : INFO : topic #68 (0.011): 0.265*\"(\" + 0.254*\")\" + 0.216*\"algorithm\" + 0.025*\"integr\" + 0.022*\"calcul\" + 0.017*\"polynomi\" + 0.013*\"by\" + 0.012*\"s15\" + 0.011*\"orthogon\" + 0.010*\"evalu\"\n",
      "2021-02-11 14:01:16,309 : INFO : topic #24 (0.011): 0.057*\",\" + 0.045*\"and\" + 0.040*\"in\" + 0.030*\"to\" + 0.025*\"is\" + 0.022*\"for\" + 0.021*\"are\" + 0.016*\"that\" + 0.015*\"program\" + 0.015*\"comput\"\n",
      "2021-02-11 14:01:16,310 : INFO : topic diff=0.592842, rho=0.422502\n",
      "2021-02-11 14:01:18,073 : INFO : -6.519 per-word bound, 91.7 perplexity estimate based on a held-out corpus of 1204 documents with 79462 words\n",
      "2021-02-11 14:01:18,074 : INFO : PROGRESS: pass 3, at document #3204/3204\n",
      "2021-02-11 14:01:19,481 : INFO : optimized alpha [0.011009644, 0.010011213, 0.010081674, 0.009471598, 0.010095252, 0.00996235, 0.009945831, 0.010654825, 0.010413291, 0.010931179, 0.010736941, 0.010117614, 0.009514706, 0.009671575, 0.010094651, 0.009876786, 0.009448195, 0.010446183, 0.010717593, 0.011069155, 0.010469119, 0.009782658, 0.0095925415, 0.010785843, 0.011757261, 0.010422244, 0.010050401, 0.010098928, 0.010380485, 0.01155332, 0.010298106, 0.009574246, 0.010562497, 0.009770958, 0.010975871, 0.009834418, 0.0102176, 0.0095776245, 0.011091329, 0.010136328, 0.010887218, 0.0106671285, 0.010149144, 0.010571348, 0.0098821465, 0.009596849, 0.010913465, 0.009952475, 0.011147509, 0.010504584, 0.009392663, 0.010268035, 0.011042538, 0.010546586, 0.009911273, 0.010099268, 0.010846651, 0.009984263, 0.009650264, 0.009249749, 0.010758631, 0.009820736, 0.009977808, 0.010223859, 0.010232088, 0.010942731, 0.01009565, 0.011563018, 0.011718058, 0.010818125, 0.010481014, 0.0102247745, 0.010243128, 0.009841992, 0.011182657, 0.010410778, 0.009910466, 0.01015651, 0.010185644, 0.009831277, 0.01030415, 0.009762359, 0.010350285, 0.010373909, 0.009927038, 0.01009206, 0.01069054, 0.009809193, 0.01076643, 0.009673921, 0.011209781, 0.009928955, 0.0112945195, 0.010476974, 0.01070938, 0.010548969, 0.01059594, 0.010092678, 0.010836338, 0.009761189]\n",
      "2021-02-11 14:01:19,489 : INFO : merging changes from 1204 documents into a model of 3204 documents\n",
      "2021-02-11 14:01:19,501 : INFO : topic #59 (0.009): 0.077*\"govern\" + 0.068*\"busi\" + 0.064*\"condit\" + 0.057*\"in\" + 0.053*\"impact\" + 0.046*\"affect\" + 0.043*\"convert\" + 0.038*\",\" + 0.031*\"for\" + 0.029*\"field\"\n",
      "2021-02-11 14:01:19,503 : INFO : topic #50 (0.009): 0.110*\"gamma\" + 0.068*\"(\" + 0.063*\")\" + 0.062*\"l\" + 0.050*\"function\" + 0.037*\"algorithm\" + 0.030*\"label\" + 0.029*\"to\" + 0.028*\"s14\" + 0.022*\"english\"\n",
      "2021-02-11 14:01:19,504 : INFO : topic #67 (0.012): 0.167*\"s\" + 0.156*\"'\" + 0.054*\"for\" + 0.050*\"and\" + 0.043*\"graph\" + 0.040*\"recurs\" + 0.037*\"method\" + 0.034*\"is\" + 0.029*\"gener\" + 0.027*\"path\"\n",
      "2021-02-11 14:01:19,505 : INFO : topic #68 (0.012): 0.279*\"(\" + 0.272*\")\" + 0.228*\"algorithm\" + 0.022*\"integr\" + 0.018*\"calcul\" + 0.014*\"polynomi\" + 0.010*\"by\" + 0.010*\"normal\" + 0.010*\"orthogon\" + 0.008*\"s15\"\n",
      "2021-02-11 14:01:19,506 : INFO : topic #24 (0.012): 0.060*\",\" + 0.047*\"and\" + 0.040*\"in\" + 0.031*\"to\" + 0.024*\"is\" + 0.022*\"for\" + 0.021*\"are\" + 0.016*\"that\" + 0.015*\"program\" + 0.014*\"comput\"\n",
      "2021-02-11 14:01:19,508 : INFO : topic diff=0.703027, rho=0.422502\n",
      "2021-02-11 14:01:19,517 : INFO : PROGRESS: pass 4, at document #2000/3204\n",
      "2021-02-11 14:01:20,934 : INFO : optimized alpha [0.011207429, 0.010018714, 0.010057484, 0.009425364, 0.010029952, 0.00999177, 0.009937101, 0.0106551, 0.01038061, 0.010896471, 0.010681124, 0.010036642, 0.009469025, 0.009632026, 0.01019729, 0.010000806, 0.009617914, 0.0104063405, 0.010838582, 0.011009923, 0.010482476, 0.009800357, 0.009585881, 0.010867446, 0.011774443, 0.01038903, 0.0100236265, 0.010045419, 0.010342314, 0.011486935, 0.010284097, 0.009537889, 0.01072861, 0.009750497, 0.011172532, 0.009942248, 0.010199338, 0.009540795, 0.011149588, 0.01017868, 0.011043036, 0.01075656, 0.010097653, 0.010659719, 0.010119373, 0.00969061, 0.011110239, 0.010040301, 0.011333815, 0.010674595, 0.009358745, 0.010222187, 0.010995863, 0.010793011, 0.00994255, 0.010099815, 0.010876177, 0.009996276, 0.009745883, 0.009205172, 0.010785116, 0.009929523, 0.00998597, 0.010219678, 0.010295897, 0.010959963, 0.0101777585, 0.011715919, 0.012480844, 0.010793192, 0.010529354, 0.010245542, 0.010237611, 0.009852289, 0.0112994695, 0.010521503, 0.009879914, 0.010134998, 0.010234595, 0.009814668, 0.0102752615, 0.0097490465, 0.010308031, 0.010334203, 0.009922413, 0.01006307, 0.010714896, 0.009868239, 0.010739824, 0.009666114, 0.011196536, 0.009897142, 0.011269328, 0.010462744, 0.010652449, 0.010748619, 0.010615947, 0.010104809, 0.010963658, 0.009765359]\n",
      "2021-02-11 14:01:20,943 : INFO : merging changes from 2000 documents into a model of 3204 documents\n",
      "2021-02-11 14:01:20,958 : INFO : topic #59 (0.009): 0.075*\"govern\" + 0.072*\"busi\" + 0.057*\"condit\" + 0.055*\"in\" + 0.044*\"impact\" + 0.042*\"affect\" + 0.040*\"convert\" + 0.040*\",\" + 0.032*\"for\" + 0.029*\"field\"\n",
      "2021-02-11 14:01:20,959 : INFO : topic #50 (0.009): 0.108*\"gamma\" + 0.065*\"(\" + 0.063*\"l\" + 0.054*\")\" + 0.044*\"function\" + 0.039*\"s14\" + 0.034*\"algorithm\" + 0.029*\"to\" + 0.025*\"english\" + 0.025*\"label\"\n",
      "2021-02-11 14:01:20,961 : INFO : topic #67 (0.012): 0.175*\"s\" + 0.166*\"'\" + 0.053*\"for\" + 0.048*\"and\" + 0.039*\"recurs\" + 0.036*\"method\" + 0.036*\"graph\" + 0.034*\"is\" + 0.029*\"gener\" + 0.026*\"path\"\n"
     ]
    },
    {
     "name": "stderr",
     "output_type": "stream",
     "text": [
      "2021-02-11 14:01:20,961 : INFO : topic #24 (0.012): 0.059*\",\" + 0.046*\"and\" + 0.041*\"in\" + 0.031*\"to\" + 0.025*\"is\" + 0.022*\"are\" + 0.021*\"for\" + 0.017*\"that\" + 0.016*\"program\" + 0.015*\"comput\"\n",
      "2021-02-11 14:01:20,962 : INFO : topic #68 (0.012): 0.280*\"(\" + 0.272*\")\" + 0.239*\"algorithm\" + 0.024*\"integr\" + 0.020*\"calcul\" + 0.015*\"polynomi\" + 0.011*\"by\" + 0.011*\"s15\" + 0.010*\"orthogon\" + 0.009*\"evalu\"\n",
      "2021-02-11 14:01:20,963 : INFO : topic diff=0.655963, rho=0.389191\n",
      "2021-02-11 14:01:22,608 : INFO : -6.477 per-word bound, 89.1 perplexity estimate based on a held-out corpus of 1204 documents with 79462 words\n",
      "2021-02-11 14:01:22,608 : INFO : PROGRESS: pass 4, at document #3204/3204\n",
      "2021-02-11 14:01:24,139 : INFO : optimized alpha [0.011426264, 0.010135551, 0.010153926, 0.009445954, 0.010215414, 0.010106363, 0.009980572, 0.010895204, 0.010565847, 0.011058959, 0.010852264, 0.010129239, 0.009494135, 0.009685729, 0.010335135, 0.010090357, 0.009777493, 0.010591067, 0.01085883, 0.011272795, 0.0106173735, 0.009908375, 0.009635595, 0.011087063, 0.012048422, 0.0104494, 0.010217161, 0.010197263, 0.010539345, 0.011764346, 0.0104073025, 0.009657354, 0.010912178, 0.009817525, 0.011402594, 0.010046226, 0.010338225, 0.009596758, 0.011414796, 0.010332684, 0.0112760225, 0.011118477, 0.010187113, 0.010911742, 0.010085862, 0.0098443, 0.01138396, 0.010084183, 0.011649756, 0.01084987, 0.009333289, 0.010364214, 0.011295769, 0.010902727, 0.010094157, 0.010243919, 0.0110661825, 0.010088155, 0.009712941, 0.009215289, 0.011093621, 0.010071101, 0.010087525, 0.010385016, 0.010317491, 0.011186087, 0.010270533, 0.012242187, 0.01282097, 0.011052863, 0.010725868, 0.010439334, 0.010358528, 0.009886949, 0.011470028, 0.010653118, 0.00997474, 0.010251444, 0.010444242, 0.009873335, 0.01041948, 0.009887915, 0.010434665, 0.010482255, 0.010005168, 0.010161302, 0.010928784, 0.009906973, 0.011011984, 0.009775609, 0.011545388, 0.009999526, 0.011546832, 0.010638793, 0.01076393, 0.010834858, 0.010766578, 0.010187553, 0.011176961, 0.009870356]\n",
      "2021-02-11 14:01:24,147 : INFO : merging changes from 1204 documents into a model of 3204 documents\n",
      "2021-02-11 14:01:24,159 : INFO : topic #59 (0.009): 0.095*\"busi\" + 0.077*\"govern\" + 0.058*\"in\" + 0.053*\"impact\" + 0.053*\"condit\" + 0.051*\"affect\" + 0.047*\"convert\" + 0.039*\",\" + 0.030*\"for\" + 0.030*\"field\"\n",
      "2021-02-11 14:01:24,160 : INFO : topic #50 (0.009): 0.121*\"gamma\" + 0.069*\"l\" + 0.062*\"(\" + 0.057*\")\" + 0.039*\"function\" + 0.038*\"label\" + 0.031*\"s14\" + 0.030*\"to\" + 0.029*\"algorithm\" + 0.025*\"english\"\n",
      "2021-02-11 14:01:24,161 : INFO : topic #24 (0.012): 0.062*\",\" + 0.048*\"and\" + 0.041*\"in\" + 0.032*\"to\" + 0.024*\"is\" + 0.022*\"are\" + 0.022*\"for\" + 0.017*\"that\" + 0.016*\"program\" + 0.015*\"comput\"\n",
      "2021-02-11 14:01:24,161 : INFO : topic #67 (0.012): 0.192*\"s\" + 0.180*\"'\" + 0.053*\"for\" + 0.050*\"and\" + 0.038*\"recurs\" + 0.034*\"method\" + 0.034*\"graph\" + 0.032*\"is\" + 0.027*\"path\" + 0.026*\"gener\"\n",
      "2021-02-11 14:01:24,162 : INFO : topic #68 (0.013): 0.286*\"(\" + 0.280*\")\" + 0.254*\"algorithm\" + 0.022*\"integr\" + 0.016*\"calcul\" + 0.013*\"polynomi\" + 0.009*\"normal\" + 0.009*\"orthogon\" + 0.009*\"by\" + 0.008*\"s15\"\n",
      "2021-02-11 14:01:24,163 : INFO : topic diff=0.715317, rho=0.389191\n",
      "2021-02-11 14:01:24,172 : INFO : PROGRESS: pass 5, at document #2000/3204\n",
      "2021-02-11 14:01:25,691 : INFO : optimized alpha [0.011634732, 0.010149731, 0.01012787, 0.0094199525, 0.010166572, 0.010142818, 0.009971316, 0.010903803, 0.010538351, 0.011040362, 0.010801481, 0.010064023, 0.009459839, 0.009662224, 0.010452298, 0.010210705, 0.009968291, 0.010556863, 0.010974316, 0.011215293, 0.01064309, 0.009939326, 0.009633442, 0.011173141, 0.012066861, 0.010419137, 0.010198384, 0.010148728, 0.010504398, 0.01171728, 0.010399696, 0.009640962, 0.011094948, 0.009807948, 0.011614018, 0.01018074, 0.010324624, 0.009577252, 0.011486956, 0.010381283, 0.011416697, 0.011217193, 0.010143431, 0.010981897, 0.010338275, 0.009984663, 0.01158924, 0.010168427, 0.011860244, 0.011014372, 0.009310262, 0.010330619, 0.011251492, 0.011139059, 0.010130132, 0.010251362, 0.011107043, 0.010108722, 0.009808059, 0.009180352, 0.011116299, 0.010184264, 0.010104291, 0.010399489, 0.010383278, 0.011198712, 0.01035302, 0.012425424, 0.013648664, 0.0110376915, 0.010772166, 0.010480542, 0.010353194, 0.009900748, 0.011574809, 0.010784222, 0.009962698, 0.010233177, 0.010506543, 0.009860303, 0.010415165, 0.009882151, 0.010395134, 0.010450597, 0.010004704, 0.010139996, 0.010960373, 0.009958897, 0.010996957, 0.009782478, 0.011538221, 0.009982882, 0.011518693, 0.010622668, 0.010709129, 0.011041626, 0.010812573, 0.010210271, 0.011288389, 0.009884906]\n",
      "2021-02-11 14:01:25,701 : INFO : merging changes from 2000 documents into a model of 3204 documents\n",
      "2021-02-11 14:01:25,714 : INFO : topic #59 (0.009): 0.094*\"busi\" + 0.073*\"govern\" + 0.056*\"in\" + 0.046*\"affect\" + 0.044*\"impact\" + 0.044*\"convert\" + 0.043*\"condit\" + 0.040*\",\" + 0.036*\"field\" + 0.032*\"for\"\n",
      "2021-02-11 14:01:25,715 : INFO : topic #50 (0.009): 0.117*\"gamma\" + 0.068*\"l\" + 0.056*\"(\" + 0.046*\")\" + 0.043*\"s14\" + 0.037*\"function\" + 0.031*\"to\" + 0.030*\"label\" + 0.030*\"english\" + 0.026*\"algorithm\"\n",
      "2021-02-11 14:01:25,716 : INFO : topic #24 (0.012): 0.061*\",\" + 0.048*\"and\" + 0.041*\"in\" + 0.032*\"to\" + 0.024*\"is\" + 0.022*\"are\" + 0.021*\"for\" + 0.018*\"that\" + 0.016*\"program\" + 0.016*\"comput\"\n",
      "2021-02-11 14:01:25,717 : INFO : topic #67 (0.012): 0.201*\"s\" + 0.190*\"'\" + 0.052*\"for\" + 0.048*\"and\" + 0.038*\"recurs\" + 0.033*\"method\" + 0.032*\"is\" + 0.029*\"graph\" + 0.026*\"gener\" + 0.026*\"path\"\n",
      "2021-02-11 14:01:25,717 : INFO : topic #68 (0.014): 0.284*\"(\" + 0.279*\")\" + 0.259*\"algorithm\" + 0.024*\"integr\" + 0.018*\"calcul\" + 0.013*\"polynomi\" + 0.010*\"s15\" + 0.010*\"orthogon\" + 0.010*\"by\" + 0.009*\"evalu\"\n",
      "2021-02-11 14:01:25,718 : INFO : topic diff=0.635059, rho=0.362690\n",
      "2021-02-11 14:01:27,426 : INFO : -6.444 per-word bound, 87.0 perplexity estimate based on a held-out corpus of 1204 documents with 79462 words\n",
      "2021-02-11 14:01:27,426 : INFO : PROGRESS: pass 5, at document #3204/3204\n",
      "2021-02-11 14:01:28,978 : INFO : optimized alpha [0.011837327, 0.010256239, 0.010221578, 0.009457383, 0.010371705, 0.010244002, 0.010018601, 0.011140016, 0.010731964, 0.01119622, 0.0109787565, 0.010160569, 0.009487218, 0.009724934, 0.010603576, 0.010312542, 0.010166375, 0.010740247, 0.0110058775, 0.011476844, 0.010750058, 0.010067783, 0.009692091, 0.011407389, 0.012317392, 0.0104666175, 0.010399038, 0.010294282, 0.010705454, 0.011985981, 0.010515206, 0.009779693, 0.011267235, 0.009889038, 0.011820482, 0.010286977, 0.010458196, 0.009630053, 0.011737551, 0.010529036, 0.011632749, 0.011594052, 0.010240111, 0.011220121, 0.010297981, 0.010202499, 0.011866393, 0.01020895, 0.012150317, 0.011198832, 0.009288337, 0.010470264, 0.011545253, 0.011247212, 0.010275561, 0.010405203, 0.011275441, 0.010191683, 0.009777167, 0.009207708, 0.011446122, 0.010326242, 0.010208533, 0.010570964, 0.0104033165, 0.01142539, 0.01045814, 0.012934551, 0.013974716, 0.011279325, 0.010960271, 0.010675629, 0.010466604, 0.009930537, 0.011755869, 0.010920131, 0.010057724, 0.0103425095, 0.010723722, 0.009921866, 0.010576196, 0.01003952, 0.010507543, 0.010589573, 0.010091621, 0.010238494, 0.011161752, 0.009998081, 0.011250419, 0.009888257, 0.011894033, 0.010079015, 0.011798329, 0.0107912505, 0.010836763, 0.011120841, 0.010960443, 0.010294039, 0.011485832, 0.009977433]\n",
      "2021-02-11 14:01:28,987 : INFO : merging changes from 1204 documents into a model of 3204 documents\n",
      "2021-02-11 14:01:28,999 : INFO : topic #59 (0.009): 0.109*\"busi\" + 0.074*\"govern\" + 0.058*\"in\" + 0.054*\"impact\" + 0.052*\"affect\" + 0.050*\"convert\" + 0.041*\"condit\" + 0.039*\",\" + 0.035*\"field\" + 0.032*\"elimin\"\n",
      "2021-02-11 14:01:28,999 : INFO : topic #50 (0.009): 0.128*\"gamma\" + 0.073*\"l\" + 0.054*\"(\" + 0.048*\")\" + 0.045*\"label\" + 0.036*\"s14\" + 0.034*\"function\" + 0.032*\"to\" + 0.028*\"english\" + 0.027*\"with\"\n",
      "2021-02-11 14:01:29,000 : INFO : topic #24 (0.012): 0.064*\",\" + 0.049*\"and\" + 0.042*\"in\" + 0.032*\"to\" + 0.023*\"is\" + 0.022*\"are\" + 0.021*\"for\" + 0.017*\"that\" + 0.016*\"program\" + 0.015*\"comput\"\n",
      "2021-02-11 14:01:29,001 : INFO : topic #67 (0.013): 0.218*\"s\" + 0.203*\"'\" + 0.051*\"for\" + 0.049*\"and\" + 0.038*\"recurs\" + 0.030*\"is\" + 0.030*\"method\" + 0.027*\"path\" + 0.024*\"gener\" + 0.023*\"graph\"\n"
     ]
    },
    {
     "name": "stderr",
     "output_type": "stream",
     "text": [
      "2021-02-11 14:01:29,003 : INFO : topic #68 (0.014): 0.287*\"(\" + 0.284*\")\" + 0.271*\"algorithm\" + 0.022*\"integr\" + 0.016*\"calcul\" + 0.012*\"polynomi\" + 0.009*\"orthogon\" + 0.009*\"normal\" + 0.008*\"by\" + 0.008*\"s15\"\n",
      "2021-02-11 14:01:29,003 : INFO : topic diff=0.658945, rho=0.362690\n",
      "2021-02-11 14:01:29,013 : INFO : PROGRESS: pass 6, at document #2000/3204\n",
      "2021-02-11 14:01:30,543 : INFO : optimized alpha [0.0120634865, 0.010269455, 0.010206044, 0.009440208, 0.010338686, 0.010287104, 0.010008752, 0.011154317, 0.010710646, 0.011183993, 0.010928292, 0.010112151, 0.009456001, 0.009715072, 0.010734833, 0.010432111, 0.010372023, 0.01071827, 0.011126475, 0.011428736, 0.010779697, 0.010124364, 0.009697007, 0.011505852, 0.0123374, 0.010440887, 0.010399656, 0.010251717, 0.010671328, 0.011937378, 0.010509697, 0.009785651, 0.011468686, 0.009888798, 0.012033063, 0.010443247, 0.010450538, 0.009617211, 0.011809008, 0.0105836205, 0.01177612, 0.01169844, 0.01020641, 0.011295027, 0.01054815, 0.010375187, 0.012068763, 0.010288617, 0.012362285, 0.011363188, 0.009272897, 0.01045083, 0.011510908, 0.011471617, 0.010319636, 0.010411575, 0.011321332, 0.010219853, 0.009872355, 0.009172739, 0.0114869, 0.01043698, 0.010224194, 0.010583857, 0.010460375, 0.0114438245, 0.0105487425, 0.013106523, 0.014837788, 0.011275175, 0.0110012805, 0.010722864, 0.010472218, 0.00994412, 0.011864595, 0.011055851, 0.010049947, 0.010328847, 0.010792966, 0.009915176, 0.010591717, 0.010030034, 0.010477778, 0.01057221, 0.010093046, 0.010225546, 0.011188652, 0.0100422315, 0.011234416, 0.00990816, 0.011886235, 0.010075591, 0.011777942, 0.010779027, 0.010790887, 0.0113317305, 0.011005511, 0.010320976, 0.011606776, 0.00999452]\n",
      "2021-02-11 14:01:30,554 : INFO : merging changes from 2000 documents into a model of 3204 documents\n",
      "2021-02-11 14:01:30,569 : INFO : topic #59 (0.009): 0.107*\"busi\" + 0.071*\"govern\" + 0.057*\"in\" + 0.047*\"affect\" + 0.047*\"convert\" + 0.045*\"impact\" + 0.041*\"field\" + 0.038*\"bank\" + 0.037*\",\" + 0.034*\"condit\"\n",
      "2021-02-11 14:01:30,570 : INFO : topic #50 (0.009): 0.124*\"gamma\" + 0.072*\"l\" + 0.049*\"s14\" + 0.048*\"(\" + 0.038*\")\" + 0.037*\"label\" + 0.034*\"english\" + 0.033*\"function\" + 0.032*\"to\" + 0.027*\"with\"\n",
      "2021-02-11 14:01:30,571 : INFO : topic #48 (0.012): 0.123*\"storag\" + 0.112*\"system\" + 0.088*\"inform\" + 0.075*\"data\" + 0.066*\"organ\" + 0.062*\"for\" + 0.044*\"manag\" + 0.044*\"store\" + 0.040*\"and\" + 0.037*\"level\"\n",
      "2021-02-11 14:01:30,571 : INFO : topic #67 (0.013): 0.225*\"s\" + 0.211*\"'\" + 0.051*\"for\" + 0.047*\"and\" + 0.038*\"recurs\" + 0.030*\"is\" + 0.029*\"method\" + 0.026*\"path\" + 0.023*\"gener\" + 0.021*\"find\"\n",
      "2021-02-11 14:01:30,573 : INFO : topic #68 (0.015): 0.286*\"(\" + 0.284*\")\" + 0.271*\"algorithm\" + 0.024*\"integr\" + 0.017*\"calcul\" + 0.013*\"polynomi\" + 0.010*\"s15\" + 0.009*\"orthogon\" + 0.009*\"by\" + 0.008*\"evalu\"\n",
      "2021-02-11 14:01:30,574 : INFO : topic diff=0.573272, rho=0.340958\n",
      "2021-02-11 14:01:32,271 : INFO : -6.420 per-word bound, 85.6 perplexity estimate based on a held-out corpus of 1204 documents with 79462 words\n",
      "2021-02-11 14:01:32,272 : INFO : PROGRESS: pass 6, at document #3204/3204\n",
      "2021-02-11 14:01:33,788 : INFO : optimized alpha [0.012269699, 0.010376077, 0.010297785, 0.009489677, 0.010542312, 0.010397187, 0.01006826, 0.0113757, 0.010888177, 0.011335024, 0.011089917, 0.010212493, 0.009482715, 0.009774695, 0.010881147, 0.010533843, 0.010593456, 0.010898342, 0.011164932, 0.011684062, 0.010893088, 0.010283499, 0.009752677, 0.011739122, 0.0125789875, 0.010492444, 0.010602007, 0.010389507, 0.010862086, 0.0121995555, 0.010624973, 0.009917235, 0.011634879, 0.0099740345, 0.012249473, 0.010546156, 0.010579985, 0.009672911, 0.012051073, 0.0107235545, 0.011974781, 0.012072124, 0.010306897, 0.011528318, 0.010513602, 0.010643087, 0.012340547, 0.01032646, 0.012654115, 0.011541352, 0.009264225, 0.010604063, 0.011810495, 0.011572522, 0.010463243, 0.0105722435, 0.011484043, 0.010301256, 0.009848767, 0.009196846, 0.011806542, 0.010574286, 0.010328553, 0.010764775, 0.01048233, 0.0116691, 0.010647841, 0.013560106, 0.015179757, 0.01152458, 0.01119863, 0.010911126, 0.010588522, 0.009975535, 0.012052884, 0.011180855, 0.010145553, 0.010432175, 0.011027839, 0.009985099, 0.010750686, 0.0101792505, 0.010590306, 0.010709893, 0.01017531, 0.010321726, 0.011376458, 0.010087804, 0.011475516, 0.010028121, 0.012223465, 0.010169524, 0.012054475, 0.01094191, 0.010911664, 0.011405088, 0.011161458, 0.010406082, 0.011790579, 0.010084856]\n",
      "2021-02-11 14:01:33,799 : INFO : merging changes from 1204 documents into a model of 3204 documents\n",
      "2021-02-11 14:01:33,812 : INFO : topic #59 (0.009): 0.118*\"busi\" + 0.073*\"govern\" + 0.060*\"in\" + 0.053*\"affect\" + 0.052*\"impact\" + 0.048*\"convert\" + 0.043*\"elimin\" + 0.041*\"field\" + 0.036*\",\" + 0.033*\"condit\"\n",
      "2021-02-11 14:01:33,813 : INFO : topic #50 (0.009): 0.132*\"gamma\" + 0.076*\"l\" + 0.049*\"label\" + 0.045*\"(\" + 0.040*\"s14\" + 0.039*\")\" + 0.034*\"to\" + 0.032*\"respect\" + 0.031*\"english\" + 0.031*\"with\"\n",
      "2021-02-11 14:01:33,814 : INFO : topic #48 (0.013): 0.120*\"storag\" + 0.116*\"system\" + 0.087*\"inform\" + 0.075*\"data\" + 0.066*\"organ\" + 0.061*\"for\" + 0.053*\"manag\" + 0.045*\"store\" + 0.040*\"level\" + 0.040*\"and\"\n",
      "2021-02-11 14:01:33,815 : INFO : topic #67 (0.014): 0.240*\"s\" + 0.224*\"'\" + 0.050*\"for\" + 0.047*\"and\" + 0.038*\"recurs\" + 0.028*\"is\" + 0.027*\"path\" + 0.027*\"method\" + 0.021*\"gener\" + 0.019*\"to\"\n",
      "2021-02-11 14:01:33,816 : INFO : topic #68 (0.015): 0.289*\"(\" + 0.288*\")\" + 0.283*\"algorithm\" + 0.021*\"integr\" + 0.015*\"calcul\" + 0.012*\"polynomi\" + 0.009*\"orthogon\" + 0.008*\"normal\" + 0.008*\"by\" + 0.007*\"s15\"\n",
      "2021-02-11 14:01:33,818 : INFO : topic diff=0.581123, rho=0.340958\n",
      "2021-02-11 14:01:33,826 : INFO : PROGRESS: pass 7, at document #2000/3204\n",
      "2021-02-11 14:01:35,383 : INFO : optimized alpha [0.012492017, 0.010390177, 0.010288256, 0.009480111, 0.010518357, 0.010448109, 0.010075725, 0.011391787, 0.010884972, 0.011324745, 0.011054351, 0.010166909, 0.009457125, 0.009762616, 0.011010297, 0.010651505, 0.010802897, 0.01088024, 0.011281751, 0.011648133, 0.010924679, 0.010355453, 0.009762448, 0.011847774, 0.012611139, 0.010474001, 0.01060324, 0.010352194, 0.010839305, 0.012153487, 0.010629989, 0.009932228, 0.01184566, 0.009986938, 0.012466257, 0.010706593, 0.010577605, 0.009665852, 0.012122295, 0.010780378, 0.012107837, 0.012188186, 0.010278432, 0.011602509, 0.010759364, 0.010830877, 0.012545137, 0.010404075, 0.012864465, 0.0117063215, 0.009252179, 0.010588525, 0.011773452, 0.011788603, 0.010511479, 0.010584519, 0.011530986, 0.0103298, 0.009942794, 0.009170627, 0.011858937, 0.010678309, 0.010344992, 0.010783291, 0.01053356, 0.011689216, 0.010739414, 0.013719514, 0.016064916, 0.011522785, 0.011244123, 0.010962404, 0.010590214, 0.00998896, 0.012150221, 0.011314264, 0.010136526, 0.010431115, 0.011096617, 0.009983989, 0.010779096, 0.010174584, 0.010562113, 0.010694727, 0.010185121, 0.010309589, 0.011401152, 0.010126728, 0.011471827, 0.010054928, 0.012221281, 0.010181265, 0.012038926, 0.010940349, 0.010868169, 0.011611597, 0.011202084, 0.010436761, 0.011909642, 0.0101010185]\n",
      "2021-02-11 14:01:35,391 : INFO : merging changes from 2000 documents into a model of 3204 documents\n",
      "2021-02-11 14:01:35,407 : INFO : topic #59 (0.009): 0.115*\"busi\" + 0.070*\"govern\" + 0.058*\"in\" + 0.048*\"affect\" + 0.046*\"field\" + 0.046*\"convert\" + 0.044*\"elimin\" + 0.044*\"impact\" + 0.041*\"bank\" + 0.037*\",\"\n",
      "2021-02-11 14:01:35,408 : INFO : topic #50 (0.009): 0.128*\"gamma\" + 0.075*\"l\" + 0.051*\"s14\" + 0.041*\"label\" + 0.040*\"(\" + 0.037*\"english\" + 0.034*\"to\" + 0.031*\")\" + 0.030*\"with\" + 0.027*\"function\"\n",
      "2021-02-11 14:01:35,409 : INFO : topic #48 (0.013): 0.124*\"storag\" + 0.118*\"system\" + 0.089*\"inform\" + 0.078*\"data\" + 0.065*\"organ\" + 0.062*\"for\" + 0.044*\"store\" + 0.044*\"manag\" + 0.041*\"and\" + 0.035*\"level\"\n",
      "2021-02-11 14:01:35,410 : INFO : topic #67 (0.014): 0.246*\"s\" + 0.230*\"'\" + 0.050*\"for\" + 0.046*\"and\" + 0.037*\"recurs\" + 0.028*\"is\" + 0.027*\"method\" + 0.026*\"path\" + 0.020*\"gener\" + 0.018*\"to\"\n",
      "2021-02-11 14:01:35,411 : INFO : topic #68 (0.016): 0.288*\"(\" + 0.286*\")\" + 0.281*\"algorithm\" + 0.023*\"integr\" + 0.015*\"calcul\" + 0.013*\"polynomi\" + 0.009*\"s15\" + 0.009*\"orthogon\" + 0.008*\"by\" + 0.008*\"evalu\"\n",
      "2021-02-11 14:01:35,414 : INFO : topic diff=0.502765, rho=0.322715\n"
     ]
    },
    {
     "name": "stderr",
     "output_type": "stream",
     "text": [
      "2021-02-11 14:01:37,090 : INFO : -6.401 per-word bound, 84.5 perplexity estimate based on a held-out corpus of 1204 documents with 79462 words\n",
      "2021-02-11 14:01:37,090 : INFO : PROGRESS: pass 7, at document #3204/3204\n",
      "2021-02-11 14:01:38,579 : INFO : optimized alpha [0.012685695, 0.010488949, 0.010370177, 0.0095276, 0.01072723, 0.010558537, 0.010132536, 0.011603557, 0.011072416, 0.011478064, 0.011223766, 0.010262715, 0.009485805, 0.009825012, 0.011164714, 0.010767834, 0.011045235, 0.011058132, 0.011317555, 0.011905588, 0.011065265, 0.01051312, 0.009818282, 0.012093901, 0.012828192, 0.010526429, 0.010796861, 0.0104835145, 0.011038942, 0.012394128, 0.010742623, 0.010060491, 0.012016563, 0.010073521, 0.012676514, 0.010806872, 0.010698093, 0.009721775, 0.012354397, 0.010916574, 0.012313847, 0.012563931, 0.010379885, 0.011832259, 0.010718441, 0.011155362, 0.01282328, 0.010442395, 0.01314891, 0.011885652, 0.009257495, 0.010743426, 0.012067554, 0.011892861, 0.010648435, 0.010732161, 0.011695628, 0.010410013, 0.009920366, 0.009194315, 0.012186457, 0.010809085, 0.010447188, 0.010953408, 0.010554462, 0.011920777, 0.01083922, 0.014163646, 0.016402353, 0.011774288, 0.011441875, 0.011162948, 0.010703879, 0.010016486, 0.012346406, 0.011435845, 0.010238588, 0.010532428, 0.011337324, 0.010075086, 0.01094857, 0.010316981, 0.01067519, 0.010843386, 0.010263549, 0.010401318, 0.011574026, 0.010172816, 0.011693378, 0.010163885, 0.0125526255, 0.010279104, 0.012320684, 0.011089876, 0.010989289, 0.01170193, 0.011350855, 0.010520605, 0.01209139, 0.010192571]\n",
      "2021-02-11 14:01:38,587 : INFO : merging changes from 1204 documents into a model of 3204 documents\n",
      "2021-02-11 14:01:38,600 : INFO : topic #59 (0.009): 0.122*\"busi\" + 0.072*\"govern\" + 0.060*\"in\" + 0.053*\"affect\" + 0.052*\"elimin\" + 0.051*\"impact\" + 0.048*\"convert\" + 0.044*\"field\" + 0.036*\",\" + 0.029*\"bank\"\n",
      "2021-02-11 14:01:38,600 : INFO : topic #50 (0.009): 0.134*\"gamma\" + 0.077*\"l\" + 0.052*\"label\" + 0.044*\"s14\" + 0.037*\"respect\" + 0.037*\"pattern\" + 0.037*\"to\" + 0.036*\"(\" + 0.033*\"english\" + 0.033*\"with\"\n",
      "2021-02-11 14:01:38,600 : INFO : topic #48 (0.013): 0.123*\"system\" + 0.122*\"storag\" + 0.088*\"inform\" + 0.076*\"data\" + 0.065*\"organ\" + 0.061*\"for\" + 0.052*\"manag\" + 0.045*\"store\" + 0.040*\"and\" + 0.038*\"level\"\n",
      "2021-02-11 14:01:38,601 : INFO : topic #67 (0.014): 0.258*\"s\" + 0.240*\"'\" + 0.049*\"for\" + 0.046*\"and\" + 0.038*\"recurs\" + 0.027*\"path\" + 0.026*\"is\" + 0.024*\"method\" + 0.019*\"gener\" + 0.019*\"to\"\n",
      "2021-02-11 14:01:38,601 : INFO : topic #68 (0.016): 0.294*\"algorithm\" + 0.289*\"(\" + 0.287*\")\" + 0.021*\"integr\" + 0.014*\"calcul\" + 0.012*\"polynomi\" + 0.008*\"orthogon\" + 0.007*\"normal\" + 0.007*\"s15\" + 0.007*\"by\"\n",
      "2021-02-11 14:01:38,602 : INFO : topic diff=0.506927, rho=0.322715\n",
      "2021-02-11 14:01:38,612 : INFO : PROGRESS: pass 8, at document #2000/3204\n",
      "2021-02-11 14:01:40,131 : INFO : optimized alpha [0.012914908, 0.010503983, 0.010359711, 0.009521855, 0.01070808, 0.010615259, 0.010143128, 0.0116214985, 0.011071957, 0.011475094, 0.011196234, 0.010217951, 0.00945785, 0.009824472, 0.011304383, 0.010889139, 0.011264499, 0.011045242, 0.011431375, 0.01188458, 0.011100305, 0.0105834175, 0.009832441, 0.012214407, 0.012853854, 0.010512691, 0.010790374, 0.010449325, 0.011026323, 0.012356364, 0.010747236, 0.010077579, 0.012231703, 0.010090565, 0.012888406, 0.010971729, 0.0107057, 0.009724371, 0.012425609, 0.010974012, 0.012447006, 0.012684214, 0.0103561245, 0.01190788, 0.010957604, 0.011367871, 0.013023194, 0.010520007, 0.013348311, 0.012050134, 0.009245437, 0.010732947, 0.01202787, 0.012105531, 0.010692666, 0.010740075, 0.011743697, 0.010448523, 0.010013714, 0.009170164, 0.012229108, 0.010908845, 0.010462762, 0.010979034, 0.010600518, 0.011940516, 0.01092532, 0.014326696, 0.017314909, 0.011780199, 0.011488242, 0.011214689, 0.010715288, 0.01003756, 0.01243908, 0.011565828, 0.010231461, 0.010534636, 0.011407754, 0.010077168, 0.010976935, 0.01031525, 0.0106583, 0.010835132, 0.010276252, 0.010393022, 0.0116040595, 0.010211804, 0.011692268, 0.010190906, 0.01255386, 0.010293516, 0.012315471, 0.011098327, 0.0109461285, 0.011912418, 0.011403554, 0.01054996, 0.012205362, 0.010212716]\n",
      "2021-02-11 14:01:40,139 : INFO : merging changes from 2000 documents into a model of 3204 documents\n",
      "2021-02-11 14:01:40,156 : INFO : topic #59 (0.009): 0.119*\"busi\" + 0.068*\"govern\" + 0.059*\"in\" + 0.052*\"elimin\" + 0.049*\"field\" + 0.048*\"affect\" + 0.045*\"convert\" + 0.044*\"bank\" + 0.044*\"impact\" + 0.036*\",\"\n",
      "2021-02-11 14:01:40,157 : INFO : topic #50 (0.009): 0.131*\"gamma\" + 0.077*\"l\" + 0.055*\"s14\" + 0.044*\"label\" + 0.039*\"english\" + 0.037*\"to\" + 0.034*\"pattern\" + 0.033*\"(\" + 0.032*\"with\" + 0.031*\"dictionari\"\n",
      "2021-02-11 14:01:40,157 : INFO : topic #48 (0.013): 0.125*\"storag\" + 0.124*\"system\" + 0.090*\"inform\" + 0.079*\"data\" + 0.064*\"organ\" + 0.062*\"for\" + 0.045*\"store\" + 0.044*\"manag\" + 0.041*\"and\" + 0.034*\"level\"\n",
      "2021-02-11 14:01:40,158 : INFO : topic #67 (0.014): 0.263*\"s\" + 0.245*\"'\" + 0.049*\"for\" + 0.044*\"and\" + 0.038*\"recurs\" + 0.026*\"path\" + 0.026*\"is\" + 0.025*\"method\" + 0.019*\"gener\" + 0.018*\"to\"\n",
      "2021-02-11 14:01:40,159 : INFO : topic #68 (0.017): 0.290*\"algorithm\" + 0.288*\"(\" + 0.286*\")\" + 0.023*\"integr\" + 0.014*\"calcul\" + 0.013*\"polynomi\" + 0.009*\"s15\" + 0.009*\"orthogon\" + 0.008*\"ellipt\" + 0.007*\"evalu\"\n",
      "2021-02-11 14:01:40,160 : INFO : topic diff=0.438141, rho=0.307119\n",
      "2021-02-11 14:01:41,863 : INFO : -6.385 per-word bound, 83.6 perplexity estimate based on a held-out corpus of 1204 documents with 79462 words\n",
      "2021-02-11 14:01:41,863 : INFO : PROGRESS: pass 8, at document #3204/3204\n",
      "2021-02-11 14:01:43,336 : INFO : optimized alpha [0.013100481, 0.010595828, 0.010438341, 0.009569958, 0.0109144, 0.010734421, 0.010197683, 0.011831222, 0.011257817, 0.0116401855, 0.011344236, 0.010317846, 0.00948587, 0.009897064, 0.011466988, 0.011008513, 0.011511343, 0.011224598, 0.011473711, 0.012129375, 0.011243717, 0.010751161, 0.009891016, 0.0124612255, 0.013065495, 0.010563236, 0.010987421, 0.010572489, 0.01121814, 0.012590732, 0.010863384, 0.010218748, 0.012401612, 0.010170884, 0.013096981, 0.011078315, 0.010821097, 0.0097779995, 0.012661954, 0.011107306, 0.012641605, 0.013060355, 0.010464121, 0.012138275, 0.010919131, 0.0117184995, 0.01328874, 0.010556272, 0.013609448, 0.012228238, 0.009251339, 0.010889914, 0.012321103, 0.012200898, 0.010826646, 0.010895428, 0.011895431, 0.010511648, 0.009999874, 0.009193465, 0.01257497, 0.011034036, 0.010571303, 0.011145216, 0.010620661, 0.012166447, 0.011017705, 0.014759531, 0.017606415, 0.012025712, 0.011693264, 0.011424879, 0.010829555, 0.010066804, 0.012630703, 0.011681736, 0.010326574, 0.010631712, 0.011661115, 0.010167134, 0.011151373, 0.010459797, 0.010766589, 0.01097214, 0.010359338, 0.010480933, 0.011766865, 0.010250693, 0.011893157, 0.010297844, 0.0128744, 0.010392599, 0.012606695, 0.011261849, 0.0110622095, 0.012012828, 0.011540296, 0.01063567, 0.012376395, 0.0103003625]\n",
      "2021-02-11 14:01:43,344 : INFO : merging changes from 1204 documents into a model of 3204 documents\n",
      "2021-02-11 14:01:43,356 : INFO : topic #59 (0.009): 0.125*\"busi\" + 0.071*\"govern\" + 0.061*\"in\" + 0.058*\"elimin\" + 0.053*\"affect\" + 0.050*\"impact\" + 0.047*\"convert\" + 0.047*\"field\" + 0.035*\",\" + 0.032*\"bank\"\n",
      "2021-02-11 14:01:43,358 : INFO : topic #50 (0.009): 0.137*\"gamma\" + 0.079*\"l\" + 0.054*\"label\" + 0.048*\"s14\" + 0.044*\"pattern\" + 0.042*\"respect\" + 0.039*\"to\" + 0.035*\"english\" + 0.035*\"with\" + 0.034*\"dictionari\"\n",
      "2021-02-11 14:01:43,358 : INFO : topic #48 (0.014): 0.129*\"system\" + 0.122*\"storag\" + 0.090*\"inform\" + 0.075*\"data\" + 0.065*\"organ\" + 0.061*\"for\" + 0.052*\"manag\" + 0.046*\"store\" + 0.040*\"and\" + 0.036*\"level\"\n",
      "2021-02-11 14:01:43,359 : INFO : topic #67 (0.015): 0.272*\"s\" + 0.252*\"'\" + 0.048*\"for\" + 0.045*\"and\" + 0.038*\"recurs\" + 0.028*\"path\" + 0.024*\"is\" + 0.022*\"method\" + 0.019*\"to\" + 0.017*\"gener\"\n",
      "2021-02-11 14:01:43,359 : INFO : topic #68 (0.018): 0.306*\"algorithm\" + 0.286*\"(\" + 0.285*\")\" + 0.020*\"integr\" + 0.013*\"calcul\" + 0.012*\"polynomi\" + 0.008*\"orthogon\" + 0.007*\"s15\" + 0.007*\"normal\" + 0.006*\"by\"\n",
      "2021-02-11 14:01:43,360 : INFO : topic diff=0.441773, rho=0.307119\n",
      "2021-02-11 14:01:43,369 : INFO : PROGRESS: pass 9, at document #2000/3204\n",
      "2021-02-11 14:01:44,849 : INFO : optimized alpha [0.0133137675, 0.010618071, 0.010437871, 0.009566227, 0.010902934, 0.010790367, 0.010209624, 0.011850956, 0.01126168, 0.011631512, 0.011320895, 0.010278242, 0.009465454, 0.009896779, 0.011612123, 0.011130509, 0.011727684, 0.011211344, 0.011595169, 0.0121095115, 0.011283614, 0.010831145, 0.00990628, 0.012593786, 0.01309694, 0.010560054, 0.010981753, 0.01053957, 0.011206681, 0.012554967, 0.010872479, 0.01023929, 0.012618194, 0.010185803, 0.013296971, 0.011241579, 0.010831442, 0.009779346, 0.012741009, 0.011167263, 0.012773596, 0.013185152, 0.0104475655, 0.012210258, 0.011157589, 0.011937649, 0.013474757, 0.010630985, 0.013804665, 0.012392809, 0.009243263, 0.010888904, 0.012286296, 0.01240915, 0.010868744, 0.010897544, 0.011946633, 0.010555038, 0.010091356, 0.009176492, 0.012615848, 0.011131717, 0.0105876615, 0.011174181, 0.010663565, 0.012189735, 0.011105448, 0.014917919, 0.018543255, 0.012035237, 0.011742107, 0.01147551, 0.010838692, 0.010085967, 0.01272121, 0.011808847, 0.01032279, 0.010636896, 0.011740218, 0.010172147, 0.011189811, 0.010459127, 0.010756902, 0.010968739, 0.0103761535, 0.010476186, 0.011793348, 0.01028985, 0.011896431, 0.010323587, 0.012875113, 0.010407907, 0.012603472, 0.011272674, 0.011025826, 0.012224427, 0.011587294, 0.01066386, 0.012489659, 0.010316656]\n"
     ]
    },
    {
     "name": "stderr",
     "output_type": "stream",
     "text": [
      "2021-02-11 14:01:44,857 : INFO : merging changes from 2000 documents into a model of 3204 documents\n",
      "2021-02-11 14:01:44,870 : INFO : topic #59 (0.009): 0.122*\"busi\" + 0.067*\"govern\" + 0.060*\"in\" + 0.059*\"elimin\" + 0.054*\"field\" + 0.049*\"affect\" + 0.047*\"bank\" + 0.044*\"convert\" + 0.044*\"impact\" + 0.034*\",\"\n",
      "2021-02-11 14:01:44,871 : INFO : topic #50 (0.009): 0.134*\"gamma\" + 0.079*\"l\" + 0.060*\"s14\" + 0.046*\"label\" + 0.041*\"pattern\" + 0.041*\"english\" + 0.039*\"to\" + 0.035*\"dictionari\" + 0.034*\"with\" + 0.032*\"respect\"\n",
      "2021-02-11 14:01:44,873 : INFO : topic #48 (0.014): 0.130*\"system\" + 0.126*\"storag\" + 0.091*\"inform\" + 0.078*\"data\" + 0.064*\"organ\" + 0.062*\"for\" + 0.045*\"store\" + 0.044*\"manag\" + 0.041*\"and\" + 0.032*\"level\"\n",
      "2021-02-11 14:01:44,873 : INFO : topic #67 (0.015): 0.275*\"s\" + 0.257*\"'\" + 0.048*\"for\" + 0.043*\"and\" + 0.038*\"recurs\" + 0.027*\"path\" + 0.024*\"is\" + 0.022*\"method\" + 0.019*\"to\" + 0.017*\"gener\"\n",
      "2021-02-11 14:01:44,874 : INFO : topic #68 (0.019): 0.299*\"algorithm\" + 0.286*\"(\" + 0.286*\")\" + 0.023*\"integr\" + 0.014*\"calcul\" + 0.012*\"polynomi\" + 0.009*\"s15\" + 0.009*\"orthogon\" + 0.008*\"ellipt\" + 0.007*\"by\"\n",
      "2021-02-11 14:01:44,875 : INFO : topic diff=0.382910, rho=0.293585\n",
      "2021-02-11 14:01:46,589 : INFO : -6.371 per-word bound, 82.8 perplexity estimate based on a held-out corpus of 1204 documents with 79462 words\n",
      "2021-02-11 14:01:46,590 : INFO : PROGRESS: pass 9, at document #3204/3204\n",
      "2021-02-11 14:01:48,056 : INFO : optimized alpha [0.013498793, 0.0107063865, 0.010513611, 0.009615019, 0.011113005, 0.01090761, 0.01026469, 0.012050553, 0.011469102, 0.011790546, 0.011460621, 0.010379595, 0.009495237, 0.00997401, 0.011783117, 0.011255961, 0.011968276, 0.01139255, 0.011635162, 0.012352314, 0.011430147, 0.01100115, 0.00996266, 0.012848544, 0.013304308, 0.010616791, 0.011172017, 0.010668271, 0.011394341, 0.01277479, 0.010992201, 0.010372837, 0.012781424, 0.010265595, 0.013488217, 0.011343576, 0.010961273, 0.009833486, 0.012969715, 0.011295522, 0.01295793, 0.013549917, 0.010554161, 0.012441957, 0.011118596, 0.012298246, 0.013728581, 0.010662906, 0.014067523, 0.012567343, 0.009249637, 0.011048241, 0.012567233, 0.012499537, 0.011005619, 0.01104732, 0.012092705, 0.010633868, 0.010077934, 0.009203899, 0.012946608, 0.01125202, 0.010692085, 0.011340089, 0.010683057, 0.012404932, 0.011212962, 0.015340542, 0.018823361, 0.012269883, 0.011948849, 0.011678832, 0.010953928, 0.010116827, 0.012921563, 0.01191397, 0.010414241, 0.010730189, 0.0119891, 0.010256199, 0.011377844, 0.010603575, 0.010861146, 0.01110879, 0.010456061, 0.010563416, 0.011947124, 0.010329774, 0.012096219, 0.010436603, 0.013211813, 0.010518605, 0.012885914, 0.011430423, 0.01114038, 0.012331876, 0.01173047, 0.0107542295, 0.012654163, 0.010398355]\n",
      "2021-02-11 14:01:48,064 : INFO : merging changes from 1204 documents into a model of 3204 documents\n",
      "2021-02-11 14:01:48,076 : INFO : topic #59 (0.009): 0.127*\"busi\" + 0.071*\"govern\" + 0.062*\"in\" + 0.062*\"elimin\" + 0.055*\"field\" + 0.053*\"affect\" + 0.050*\"impact\" + 0.047*\"convert\" + 0.034*\"bank\" + 0.033*\",\"\n",
      "2021-02-11 14:01:48,077 : INFO : topic #50 (0.009): 0.139*\"gamma\" + 0.080*\"l\" + 0.057*\"label\" + 0.052*\"s14\" + 0.050*\"pattern\" + 0.044*\"respect\" + 0.041*\"to\" + 0.037*\"english\" + 0.037*\"dictionari\" + 0.036*\"with\"\n",
      "2021-02-11 14:01:48,078 : INFO : topic #48 (0.014): 0.135*\"system\" + 0.123*\"storag\" + 0.090*\"inform\" + 0.075*\"data\" + 0.064*\"organ\" + 0.062*\"for\" + 0.052*\"manag\" + 0.046*\"store\" + 0.041*\"and\" + 0.034*\"level\"\n",
      "2021-02-11 14:01:48,079 : INFO : topic #67 (0.015): 0.283*\"s\" + 0.263*\"'\" + 0.047*\"for\" + 0.044*\"and\" + 0.039*\"recurs\" + 0.028*\"path\" + 0.022*\"is\" + 0.020*\"method\" + 0.019*\"to\" + 0.016*\"use\"\n",
      "2021-02-11 14:01:48,080 : INFO : topic #68 (0.019): 0.315*\"algorithm\" + 0.285*\")\" + 0.285*\"(\" + 0.020*\"integr\" + 0.013*\"calcul\" + 0.011*\"polynomi\" + 0.008*\"orthogon\" + 0.007*\"s15\" + 0.007*\"normal\" + 0.006*\"by\"\n",
      "2021-02-11 14:01:48,081 : INFO : topic diff=0.387636, rho=0.293585\n",
      "2021-02-11 14:01:48,090 : INFO : PROGRESS: pass 10, at document #2000/3204\n",
      "2021-02-11 14:01:49,501 : INFO : optimized alpha [0.013708646, 0.010729305, 0.010511821, 0.009618555, 0.011099258, 0.01096604, 0.01027351, 0.012068687, 0.011476727, 0.011781626, 0.011436252, 0.010341625, 0.009474925, 0.009976667, 0.011930841, 0.011382104, 0.012182089, 0.011377367, 0.011759337, 0.012344191, 0.011469877, 0.011085986, 0.009976124, 0.012993225, 0.013345191, 0.010618562, 0.011165599, 0.010636342, 0.011382453, 0.012744684, 0.011002302, 0.010395177, 0.012992703, 0.010284402, 0.013690219, 0.01150559, 0.010975637, 0.009837815, 0.013047272, 0.011351559, 0.01308367, 0.013673814, 0.010539622, 0.012517635, 0.011363386, 0.01253159, 0.013920787, 0.01073815, 0.014261271, 0.012727183, 0.009243862, 0.0110530015, 0.0125262365, 0.012702247, 0.011047386, 0.011050442, 0.012150424, 0.010677229, 0.010167855, 0.009190782, 0.0129897045, 0.011351152, 0.010713728, 0.011370677, 0.010723203, 0.012426299, 0.011300962, 0.015501273, 0.019766092, 0.012283195, 0.011995134, 0.01173198, 0.010965607, 0.010137065, 0.013006654, 0.012037066, 0.010412063, 0.010735168, 0.01207524, 0.010264002, 0.011430724, 0.010605448, 0.010847136, 0.011116233, 0.010476805, 0.01056192, 0.011973908, 0.0103677185, 0.012103616, 0.01046565, 0.013215677, 0.01054669, 0.012882886, 0.011448477, 0.011102152, 0.01253973, 0.011785634, 0.010785961, 0.012761546, 0.010414019]\n",
      "2021-02-11 14:01:49,511 : INFO : merging changes from 2000 documents into a model of 3204 documents\n",
      "2021-02-11 14:01:49,525 : INFO : topic #59 (0.009): 0.123*\"busi\" + 0.066*\"govern\" + 0.064*\"elimin\" + 0.062*\"field\" + 0.061*\"in\" + 0.049*\"affect\" + 0.048*\"bank\" + 0.044*\"convert\" + 0.044*\"impact\" + 0.032*\",\"\n",
      "2021-02-11 14:01:49,526 : INFO : topic #50 (0.009): 0.137*\"gamma\" + 0.080*\"l\" + 0.065*\"s14\" + 0.048*\"label\" + 0.046*\"pattern\" + 0.043*\"english\" + 0.040*\"to\" + 0.037*\"dictionari\" + 0.035*\"with\" + 0.035*\"respect\"\n",
      "2021-02-11 14:01:49,527 : INFO : topic #48 (0.014): 0.135*\"system\" + 0.126*\"storag\" + 0.091*\"inform\" + 0.077*\"data\" + 0.062*\"organ\" + 0.062*\"for\" + 0.045*\"store\" + 0.044*\"manag\" + 0.041*\"and\" + 0.031*\"level\"\n",
      "2021-02-11 14:01:49,528 : INFO : topic #67 (0.016): 0.285*\"s\" + 0.266*\"'\" + 0.047*\"for\" + 0.042*\"and\" + 0.038*\"recurs\" + 0.027*\"path\" + 0.022*\"is\" + 0.021*\"method\" + 0.019*\"to\" + 0.016*\"use\"\n",
      "2021-02-11 14:01:49,529 : INFO : topic #68 (0.020): 0.308*\"algorithm\" + 0.285*\")\" + 0.285*\"(\" + 0.022*\"integr\" + 0.013*\"calcul\" + 0.012*\"polynomi\" + 0.009*\"s15\" + 0.009*\"orthogon\" + 0.007*\"ellipt\" + 0.007*\"by\"\n",
      "2021-02-11 14:01:49,531 : INFO : topic diff=0.336639, rho=0.281696\n",
      "2021-02-11 14:01:51,173 : INFO : -6.359 per-word bound, 82.1 perplexity estimate based on a held-out corpus of 1204 documents with 79462 words\n",
      "2021-02-11 14:01:51,173 : INFO : PROGRESS: pass 10, at document #3204/3204\n",
      "2021-02-11 14:01:52,617 : INFO : optimized alpha [0.01388057, 0.010822107, 0.010587508, 0.00966806, 0.011313413, 0.011081748, 0.010334107, 0.012253315, 0.011661717, 0.0119495345, 0.011560304, 0.010444526, 0.009504133, 0.010056076, 0.012102125, 0.011508354, 0.01242256, 0.01155023, 0.01181371, 0.01257428, 0.011625233, 0.011269074, 0.010025894, 0.013260085, 0.013542555, 0.010671007, 0.011342011, 0.010763157, 0.011572107, 0.012963575, 0.011120525, 0.010539098, 0.013162266, 0.010368673, 0.013881147, 0.011606106, 0.011098462, 0.009890167, 0.013297168, 0.01148337, 0.01325859, 0.014044145, 0.010650078, 0.012745573, 0.011323667, 0.012903081, 0.014170287, 0.010771096, 0.0145131415, 0.012889738, 0.009248455, 0.011207111, 0.012799064, 0.012791179, 0.011179638, 0.011195257, 0.012294362, 0.0107659, 0.01016196, 0.009217619, 0.01331565, 0.011467114, 0.010817017, 0.011531329, 0.010744627, 0.012628923, 0.0114098, 0.015911072, 0.020048594, 0.012525725, 0.012192856, 0.0119292075, 0.011076895, 0.010174203, 0.013203646, 0.01213514, 0.010500346, 0.010820082, 0.012317709, 0.010352516, 0.011610592, 0.01074518, 0.010942617, 0.011285874, 0.01055145, 0.010646184, 0.01212242, 0.010406259, 0.012291348, 0.010572312, 0.013537696, 0.010658672, 0.01316673, 0.011614634, 0.0112155285, 0.012636446, 0.011926794, 0.010873182, 0.012923377, 0.010492888]\n",
      "2021-02-11 14:01:52,625 : INFO : merging changes from 1204 documents into a model of 3204 documents\n"
     ]
    },
    {
     "name": "stderr",
     "output_type": "stream",
     "text": [
      "2021-02-11 14:01:52,638 : INFO : topic #59 (0.009): 0.128*\"busi\" + 0.070*\"govern\" + 0.066*\"elimin\" + 0.063*\"in\" + 0.062*\"field\" + 0.053*\"affect\" + 0.050*\"impact\" + 0.046*\"convert\" + 0.036*\"bank\" + 0.030*\",\"\n",
      "2021-02-11 14:01:52,639 : INFO : topic #50 (0.009): 0.142*\"gamma\" + 0.082*\"l\" + 0.059*\"label\" + 0.056*\"s14\" + 0.055*\"pattern\" + 0.047*\"respect\" + 0.043*\"to\" + 0.039*\"english\" + 0.039*\"dictionari\" + 0.038*\"with\"\n",
      "2021-02-11 14:01:52,640 : INFO : topic #48 (0.015): 0.139*\"system\" + 0.124*\"storag\" + 0.091*\"inform\" + 0.074*\"data\" + 0.063*\"organ\" + 0.062*\"for\" + 0.051*\"manag\" + 0.046*\"store\" + 0.041*\"and\" + 0.033*\"level\"\n",
      "2021-02-11 14:01:52,641 : INFO : topic #67 (0.016): 0.291*\"s\" + 0.271*\"'\" + 0.046*\"for\" + 0.043*\"and\" + 0.039*\"recurs\" + 0.028*\"path\" + 0.021*\"is\" + 0.020*\"to\" + 0.019*\"method\" + 0.016*\"rule\"\n",
      "2021-02-11 14:01:52,641 : INFO : topic #68 (0.020): 0.325*\"algorithm\" + 0.284*\")\" + 0.281*\"(\" + 0.020*\"integr\" + 0.012*\"calcul\" + 0.011*\"polynomi\" + 0.008*\"orthogon\" + 0.007*\"s15\" + 0.006*\"normal\" + 0.006*\"by\"\n",
      "2021-02-11 14:01:52,642 : INFO : topic diff=0.343208, rho=0.281696\n",
      "2021-02-11 14:01:52,651 : INFO : PROGRESS: pass 11, at document #2000/3204\n",
      "2021-02-11 14:01:54,008 : INFO : optimized alpha [0.014085523, 0.010847199, 0.010590284, 0.0096717365, 0.011298988, 0.011141182, 0.010347084, 0.012271741, 0.011674847, 0.011951881, 0.011535079, 0.010409362, 0.009485131, 0.010058712, 0.012254292, 0.011637301, 0.012632568, 0.01154284, 0.0119359, 0.012568741, 0.011663244, 0.011352712, 0.010040451, 0.013417096, 0.013583165, 0.0106731225, 0.011333533, 0.01073209, 0.011561297, 0.012927891, 0.011134641, 0.010563193, 0.013370622, 0.010389674, 0.014074443, 0.011764262, 0.011113678, 0.009894594, 0.0133734215, 0.011546786, 0.013385708, 0.014176894, 0.010640312, 0.012818128, 0.01158136, 0.013149542, 0.01435551, 0.010846998, 0.01469384, 0.013045271, 0.009243501, 0.011206482, 0.012759202, 0.012994167, 0.011221272, 0.011196237, 0.012351632, 0.010812251, 0.010251988, 0.009206734, 0.01336106, 0.011564832, 0.010843724, 0.011560437, 0.010780673, 0.01264685, 0.011498143, 0.016070195, 0.021001892, 0.0125425365, 0.01223696, 0.011984906, 0.011088018, 0.010195443, 0.013287236, 0.012256315, 0.010499664, 0.010826428, 0.012410881, 0.010361544, 0.011664576, 0.010748026, 0.010930622, 0.011295488, 0.010570077, 0.010646335, 0.012151194, 0.010443144, 0.012299341, 0.010597328, 0.01354292, 0.010695861, 0.013167393, 0.011633063, 0.011175528, 0.012846367, 0.0119832745, 0.0109083075, 0.013025582, 0.010509473]\n",
      "2021-02-11 14:01:54,017 : INFO : merging changes from 2000 documents into a model of 3204 documents\n",
      "2021-02-11 14:01:54,036 : INFO : topic #59 (0.009): 0.124*\"busi\" + 0.070*\"field\" + 0.068*\"elimin\" + 0.066*\"govern\" + 0.062*\"in\" + 0.050*\"bank\" + 0.049*\"affect\" + 0.044*\"impact\" + 0.044*\"convert\" + 0.029*\",\"\n",
      "2021-02-11 14:01:54,038 : INFO : topic #50 (0.009): 0.140*\"gamma\" + 0.082*\"l\" + 0.068*\"s14\" + 0.051*\"pattern\" + 0.051*\"label\" + 0.044*\"english\" + 0.042*\"to\" + 0.038*\"dictionari\" + 0.037*\"respect\" + 0.036*\"with\"\n",
      "2021-02-11 14:01:54,039 : INFO : topic #48 (0.015): 0.139*\"system\" + 0.126*\"storag\" + 0.092*\"inform\" + 0.077*\"data\" + 0.063*\"for\" + 0.062*\"organ\" + 0.045*\"store\" + 0.044*\"manag\" + 0.042*\"and\" + 0.030*\"level\"\n",
      "2021-02-11 14:01:54,040 : INFO : topic #67 (0.016): 0.293*\"s\" + 0.275*\"'\" + 0.046*\"for\" + 0.042*\"and\" + 0.038*\"recurs\" + 0.027*\"path\" + 0.021*\"is\" + 0.019*\"method\" + 0.019*\"to\" + 0.016*\"comput\"\n",
      "2021-02-11 14:01:54,041 : INFO : topic #68 (0.021): 0.315*\"algorithm\" + 0.285*\")\" + 0.283*\"(\" + 0.021*\"integr\" + 0.012*\"calcul\" + 0.011*\"polynomi\" + 0.009*\"s15\" + 0.009*\"orthogon\" + 0.007*\"ellipt\" + 0.007*\"by\"\n",
      "2021-02-11 14:01:54,042 : INFO : topic diff=0.299161, rho=0.271143\n",
      "2021-02-11 14:01:55,759 : INFO : -6.348 per-word bound, 81.5 perplexity estimate based on a held-out corpus of 1204 documents with 79462 words\n",
      "2021-02-11 14:01:55,760 : INFO : PROGRESS: pass 11, at document #3204/3204\n",
      "2021-02-11 14:01:57,217 : INFO : optimized alpha [0.014251461, 0.010939535, 0.010673299, 0.009724167, 0.011515098, 0.011255693, 0.010403432, 0.012448149, 0.011881452, 0.012114809, 0.011644704, 0.010511499, 0.009515953, 0.010138039, 0.012417833, 0.011769799, 0.012867754, 0.01171325, 0.0119878175, 0.012789382, 0.011819316, 0.011538655, 0.010086392, 0.013683914, 0.013765232, 0.010724071, 0.011499663, 0.010854959, 0.011753306, 0.013140351, 0.011254276, 0.0107029565, 0.013537558, 0.010473605, 0.014252666, 0.011852985, 0.011242833, 0.0099476315, 0.013616861, 0.011684893, 0.013558016, 0.014553691, 0.010754659, 0.0130341295, 0.011540668, 0.013544775, 0.01458824, 0.010881048, 0.014942023, 0.013205398, 0.00924855, 0.011361157, 0.013036697, 0.013078932, 0.011349434, 0.011336653, 0.012496762, 0.010907898, 0.010246118, 0.009235144, 0.013679738, 0.011679501, 0.010948631, 0.011716447, 0.010804026, 0.012846576, 0.011608477, 0.016471531, 0.021271804, 0.012784568, 0.0124263335, 0.012179425, 0.011195821, 0.0102291955, 0.013481476, 0.012353522, 0.010587531, 0.010906168, 0.012661695, 0.010449647, 0.011847639, 0.010888436, 0.011028166, 0.011468062, 0.010647112, 0.0107279625, 0.012295008, 0.010480427, 0.012487047, 0.010703046, 0.013866874, 0.010809222, 0.013444291, 0.011783697, 0.0112955365, 0.01294455, 0.01212561, 0.0110002505, 0.013179274, 0.010576217]\n",
      "2021-02-11 14:01:57,225 : INFO : merging changes from 1204 documents into a model of 3204 documents\n",
      "2021-02-11 14:01:57,245 : INFO : topic #59 (0.009): 0.129*\"busi\" + 0.075*\"field\" + 0.070*\"govern\" + 0.069*\"elimin\" + 0.064*\"in\" + 0.053*\"affect\" + 0.050*\"impact\" + 0.044*\"convert\" + 0.038*\"bank\" + 0.028*\",\"\n",
      "2021-02-11 14:01:57,246 : INFO : topic #50 (0.009): 0.144*\"gamma\" + 0.083*\"l\" + 0.060*\"label\" + 0.059*\"pattern\" + 0.058*\"s14\" + 0.048*\"respect\" + 0.045*\"to\" + 0.040*\"english\" + 0.040*\"dictionari\" + 0.039*\"with\"\n",
      "2021-02-11 14:01:57,246 : INFO : topic #48 (0.015): 0.144*\"system\" + 0.124*\"storag\" + 0.091*\"inform\" + 0.074*\"data\" + 0.062*\"for\" + 0.062*\"organ\" + 0.051*\"manag\" + 0.046*\"store\" + 0.041*\"and\" + 0.032*\"level\"\n",
      "2021-02-11 14:01:57,247 : INFO : topic #67 (0.016): 0.298*\"s\" + 0.278*\"'\" + 0.045*\"for\" + 0.042*\"and\" + 0.040*\"recurs\" + 0.028*\"path\" + 0.020*\"to\" + 0.019*\"is\" + 0.017*\"method\" + 0.016*\"rule\"\n",
      "2021-02-11 14:01:57,247 : INFO : topic #68 (0.021): 0.332*\"algorithm\" + 0.282*\")\" + 0.279*\"(\" + 0.020*\"integr\" + 0.012*\"calcul\" + 0.011*\"polynomi\" + 0.008*\"orthogon\" + 0.007*\"s15\" + 0.006*\"by\" + 0.006*\"normal\"\n",
      "2021-02-11 14:01:57,248 : INFO : topic diff=0.306331, rho=0.271143\n",
      "2021-02-11 14:01:57,259 : INFO : PROGRESS: pass 12, at document #2000/3204\n",
      "2021-02-11 14:01:58,738 : INFO : optimized alpha [0.014459472, 0.010965216, 0.010676051, 0.009727917, 0.011501472, 0.011310295, 0.010413434, 0.012468558, 0.011902676, 0.012116514, 0.011623391, 0.0104789175, 0.009496849, 0.010143311, 0.012569718, 0.011897115, 0.013074218, 0.01170535, 0.012108272, 0.012776044, 0.0118526, 0.011624312, 0.01010469, 0.013846197, 0.01380966, 0.010739274, 0.011490771, 0.010823277, 0.0117435, 0.01310294, 0.011267713, 0.010735877, 0.013734543, 0.010491191, 0.014437716, 0.012010622, 0.011258789, 0.009953457, 0.013684585, 0.011753879, 0.013679625, 0.014689783, 0.01074646, 0.01310725, 0.011802301, 0.013790873, 0.014768791, 0.010956261, 0.015127996, 0.013358747, 0.009244324, 0.011362951, 0.013003167, 0.013272194, 0.011389558, 0.011341638, 0.012558786, 0.010951271, 0.010335048, 0.009225042, 0.01373286, 0.011774524, 0.010978666, 0.011751937, 0.010844869, 0.012861294, 0.011695892, 0.016620737, 0.022249065, 0.012799613, 0.012466799, 0.012239217, 0.0112122735, 0.01025816, 0.013556788, 0.0124714775, 0.01058687, 0.010910932, 0.012760242, 0.010461076, 0.011905949, 0.010892176, 0.011019487, 0.0114782015, 0.010666623, 0.010731028, 0.01232247, 0.010514999, 0.012495712, 0.010724301, 0.013878997, 0.0108537115, 0.013461435, 0.011802702, 0.011262781, 0.013143282, 0.012191538, 0.0110372035, 0.013276657, 0.010591007]\n",
      "2021-02-11 14:01:58,751 : INFO : merging changes from 2000 documents into a model of 3204 documents\n",
      "2021-02-11 14:01:58,771 : INFO : topic #59 (0.009): 0.126*\"busi\" + 0.081*\"field\" + 0.071*\"elimin\" + 0.066*\"govern\" + 0.063*\"in\" + 0.051*\"bank\" + 0.049*\"affect\" + 0.044*\"impact\" + 0.042*\"convert\" + 0.027*\",\"\n"
     ]
    },
    {
     "name": "stderr",
     "output_type": "stream",
     "text": [
      "2021-02-11 14:01:58,773 : INFO : topic #50 (0.009): 0.141*\"gamma\" + 0.083*\"l\" + 0.070*\"s14\" + 0.054*\"pattern\" + 0.052*\"label\" + 0.045*\"english\" + 0.044*\"to\" + 0.039*\"dictionari\" + 0.038*\"respect\" + 0.037*\"with\"\n",
      "2021-02-11 14:01:58,774 : INFO : topic #48 (0.015): 0.143*\"system\" + 0.127*\"storag\" + 0.092*\"inform\" + 0.077*\"data\" + 0.063*\"for\" + 0.061*\"organ\" + 0.045*\"store\" + 0.044*\"manag\" + 0.042*\"and\" + 0.029*\"level\"\n",
      "2021-02-11 14:01:58,775 : INFO : topic #67 (0.017): 0.301*\"s\" + 0.281*\"'\" + 0.045*\"for\" + 0.041*\"and\" + 0.039*\"recurs\" + 0.027*\"path\" + 0.019*\"to\" + 0.019*\"is\" + 0.018*\"method\" + 0.016*\"comput\"\n",
      "2021-02-11 14:01:58,776 : INFO : topic #68 (0.022): 0.322*\"algorithm\" + 0.283*\")\" + 0.281*\"(\" + 0.021*\"integr\" + 0.012*\"calcul\" + 0.011*\"polynomi\" + 0.009*\"s15\" + 0.009*\"orthogon\" + 0.007*\"ellipt\" + 0.007*\"by\"\n",
      "2021-02-11 14:01:58,777 : INFO : topic diff=0.268940, rho=0.261694\n",
      "2021-02-11 14:02:00,354 : INFO : -6.338 per-word bound, 80.9 perplexity estimate based on a held-out corpus of 1204 documents with 79462 words\n",
      "2021-02-11 14:02:00,355 : INFO : PROGRESS: pass 12, at document #3204/3204\n",
      "2021-02-11 14:02:01,727 : INFO : optimized alpha [0.014626533, 0.011054853, 0.010751983, 0.009783141, 0.011714836, 0.011421441, 0.010463663, 0.012642889, 0.012101784, 0.012266927, 0.011740207, 0.010578138, 0.009527132, 0.010222615, 0.012734315, 0.012041298, 0.013304437, 0.011879065, 0.012160583, 0.013008259, 0.011996774, 0.011810993, 0.010151575, 0.0141168665, 0.013974247, 0.010793512, 0.011654979, 0.010945006, 0.011922749, 0.013312505, 0.011386391, 0.010876663, 0.013911254, 0.010579584, 0.014610396, 0.012096, 0.01139921, 0.010002844, 0.013922276, 0.011895753, 0.013834656, 0.015057568, 0.010857545, 0.013326289, 0.011760573, 0.014201772, 0.0149920015, 0.010984208, 0.015366429, 0.013516844, 0.009249799, 0.011528384, 0.013277115, 0.013353226, 0.011509113, 0.0114781065, 0.012699992, 0.011056188, 0.010331412, 0.009258923, 0.014057343, 0.0118805, 0.011087747, 0.011914002, 0.010877014, 0.0130641805, 0.011800277, 0.017010504, 0.022515777, 0.013036035, 0.012656702, 0.012434199, 0.011319366, 0.01029324, 0.013751678, 0.012568029, 0.010676778, 0.0109883575, 0.013019913, 0.010546618, 0.012084552, 0.011028704, 0.011116668, 0.011651398, 0.010736774, 0.010817427, 0.012459502, 0.0105512, 0.012672822, 0.010829363, 0.014196117, 0.010970944, 0.013744281, 0.011949255, 0.011391805, 0.013249039, 0.012321575, 0.011131369, 0.0134373205, 0.010655823]\n",
      "2021-02-11 14:02:01,740 : INFO : merging changes from 1204 documents into a model of 3204 documents\n",
      "2021-02-11 14:02:01,755 : INFO : topic #50 (0.009): 0.144*\"gamma\" + 0.083*\"l\" + 0.066*\"pattern\" + 0.059*\"s14\" + 0.059*\"label\" + 0.048*\"respect\" + 0.047*\"to\" + 0.041*\"english\" + 0.040*\"dictionari\" + 0.039*\"with\"\n",
      "2021-02-11 14:02:01,757 : INFO : topic #59 (0.009): 0.129*\"busi\" + 0.090*\"field\" + 0.070*\"elimin\" + 0.070*\"govern\" + 0.064*\"in\" + 0.053*\"affect\" + 0.050*\"impact\" + 0.043*\"convert\" + 0.039*\"bank\" + 0.026*\",\"\n",
      "2021-02-11 14:02:01,758 : INFO : topic #48 (0.015): 0.147*\"system\" + 0.125*\"storag\" + 0.092*\"inform\" + 0.073*\"data\" + 0.063*\"for\" + 0.061*\"organ\" + 0.051*\"manag\" + 0.046*\"store\" + 0.041*\"and\" + 0.031*\"level\"\n",
      "2021-02-11 14:02:01,759 : INFO : topic #67 (0.017): 0.305*\"s\" + 0.284*\"'\" + 0.044*\"for\" + 0.041*\"and\" + 0.040*\"recurs\" + 0.028*\"path\" + 0.020*\"to\" + 0.018*\"is\" + 0.017*\"rule\" + 0.016*\"method\"\n",
      "2021-02-11 14:02:01,760 : INFO : topic #68 (0.023): 0.338*\"algorithm\" + 0.280*\")\" + 0.277*\"(\" + 0.019*\"integr\" + 0.012*\"calcul\" + 0.011*\"polynomi\" + 0.008*\"orthogon\" + 0.007*\"s15\" + 0.006*\"by\" + 0.006*\"ellipt\"\n",
      "2021-02-11 14:02:01,762 : INFO : topic diff=0.276149, rho=0.261694\n",
      "2021-02-11 14:02:01,770 : INFO : PROGRESS: pass 13, at document #2000/3204\n",
      "2021-02-11 14:02:03,109 : INFO : optimized alpha [0.01483993, 0.011084007, 0.010754735, 0.009786927, 0.011703426, 0.011477263, 0.010476242, 0.012657115, 0.012123216, 0.012269682, 0.011726941, 0.010549273, 0.009510321, 0.010233008, 0.012886296, 0.0121703, 0.013507564, 0.011869217, 0.012278092, 0.013002502, 0.012025657, 0.011888227, 0.010170826, 0.0142774815, 0.014027794, 0.010800119, 0.011648701, 0.010916814, 0.011909451, 0.013282119, 0.011397694, 0.010909719, 0.014111411, 0.010601993, 0.014778266, 0.012258142, 0.0114158355, 0.01000996, 0.013987375, 0.011962699, 0.013947715, 0.0152009325, 0.010849364, 0.013393284, 0.012023586, 0.014472941, 0.015173924, 0.011056114, 0.015551943, 0.013663226, 0.009245054, 0.01153981, 0.0132324025, 0.013544178, 0.011556606, 0.011486942, 0.012753434, 0.011105313, 0.010419459, 0.009249475, 0.014118227, 0.011971518, 0.01112241, 0.011951171, 0.010915369, 0.013079294, 0.011886899, 0.017158682, 0.023499433, 0.01304944, 0.012701795, 0.012494949, 0.011339499, 0.010320289, 0.013827851, 0.012683059, 0.010676082, 0.010997271, 0.013120627, 0.01056043, 0.012145646, 0.011033321, 0.0111082615, 0.011666484, 0.010754434, 0.010819001, 0.012484245, 0.01058499, 0.012682106, 0.010851196, 0.014204066, 0.011016882, 0.013757648, 0.011959672, 0.011359785, 0.01344564, 0.012387187, 0.011167206, 0.013528352, 0.01067165]\n",
      "2021-02-11 14:02:03,122 : INFO : merging changes from 2000 documents into a model of 3204 documents\n",
      "2021-02-11 14:02:03,138 : INFO : topic #59 (0.009): 0.126*\"busi\" + 0.095*\"field\" + 0.072*\"elimin\" + 0.066*\"govern\" + 0.063*\"in\" + 0.051*\"bank\" + 0.049*\"affect\" + 0.044*\"impact\" + 0.040*\"convert\" + 0.025*\"common\"\n",
      "2021-02-11 14:02:03,138 : INFO : topic #50 (0.009): 0.142*\"gamma\" + 0.083*\"l\" + 0.071*\"s14\" + 0.060*\"pattern\" + 0.051*\"label\" + 0.046*\"english\" + 0.045*\"to\" + 0.040*\"dictionari\" + 0.039*\"respect\" + 0.038*\"with\"\n",
      "2021-02-11 14:02:03,138 : INFO : topic #48 (0.016): 0.148*\"system\" + 0.127*\"storag\" + 0.093*\"inform\" + 0.076*\"data\" + 0.063*\"for\" + 0.060*\"organ\" + 0.045*\"store\" + 0.044*\"manag\" + 0.042*\"and\" + 0.028*\"retriev\"\n",
      "2021-02-11 14:02:03,139 : INFO : topic #67 (0.017): 0.307*\"s\" + 0.287*\"'\" + 0.044*\"for\" + 0.040*\"and\" + 0.039*\"recurs\" + 0.027*\"path\" + 0.019*\"to\" + 0.018*\"is\" + 0.017*\"method\" + 0.016*\"comput\"\n",
      "2021-02-11 14:02:03,140 : INFO : topic #68 (0.023): 0.327*\"algorithm\" + 0.282*\")\" + 0.279*\"(\" + 0.021*\"integr\" + 0.012*\"calcul\" + 0.011*\"polynomi\" + 0.009*\"s15\" + 0.009*\"orthogon\" + 0.007*\"ellipt\" + 0.006*\"by\"\n",
      "2021-02-11 14:02:03,141 : INFO : topic diff=0.244060, rho=0.253169\n",
      "2021-02-11 14:02:04,751 : INFO : -6.332 per-word bound, 80.5 perplexity estimate based on a held-out corpus of 1204 documents with 79462 words\n",
      "2021-02-11 14:02:04,752 : INFO : PROGRESS: pass 13, at document #3204/3204\n",
      "2021-02-11 14:02:06,133 : INFO : optimized alpha [0.015008294, 0.011178202, 0.01082635, 0.009840765, 0.0119170165, 0.011585362, 0.010529629, 0.0128269335, 0.01231519, 0.012424167, 0.011843205, 0.010645899, 0.009540079, 0.010314539, 0.01304115, 0.012315821, 0.013733094, 0.012046277, 0.012330936, 0.013229459, 0.012176328, 0.012073257, 0.010220753, 0.014546171, 0.014187796, 0.010857587, 0.011806283, 0.011037607, 0.012086747, 0.013483533, 0.01151804, 0.011042481, 0.014283299, 0.010690248, 0.014926951, 0.012340379, 0.011548133, 0.010062295, 0.014225729, 0.012108496, 0.014092277, 0.0155728385, 0.01095996, 0.013604395, 0.011983331, 0.014879255, 0.015394459, 0.011090005, 0.01579096, 0.013813862, 0.009254757, 0.0116938725, 0.013506221, 0.013618912, 0.01168019, 0.011629599, 0.012893641, 0.011214516, 0.010417942, 0.009290444, 0.014446104, 0.012081957, 0.011238035, 0.01211447, 0.010948943, 0.013274428, 0.01199318, 0.017544616, 0.023722844, 0.013280717, 0.012887155, 0.012693317, 0.011443714, 0.010358845, 0.01401501, 0.012773777, 0.010759044, 0.011077299, 0.013384084, 0.010645942, 0.012330723, 0.011164029, 0.011198103, 0.011860503, 0.010827212, 0.010900756, 0.012620179, 0.01061797, 0.012849388, 0.010948827, 0.014527185, 0.011135757, 0.014035023, 0.012110127, 0.011490264, 0.013550441, 0.0125298705, 0.011265933, 0.013673136, 0.010737001]\n",
      "2021-02-11 14:02:06,142 : INFO : merging changes from 1204 documents into a model of 3204 documents\n",
      "2021-02-11 14:02:06,155 : INFO : topic #59 (0.009): 0.128*\"busi\" + 0.107*\"field\" + 0.071*\"elimin\" + 0.069*\"govern\" + 0.064*\"in\" + 0.053*\"affect\" + 0.049*\"impact\" + 0.041*\"convert\" + 0.039*\"bank\" + 0.024*\"common\"\n",
      "2021-02-11 14:02:06,156 : INFO : topic #50 (0.009): 0.144*\"gamma\" + 0.083*\"l\" + 0.071*\"pattern\" + 0.062*\"s14\" + 0.059*\"label\" + 0.049*\"respect\" + 0.048*\"to\" + 0.042*\"english\" + 0.040*\"dictionari\" + 0.039*\"with\"\n"
     ]
    },
    {
     "name": "stderr",
     "output_type": "stream",
     "text": [
      "2021-02-11 14:02:06,157 : INFO : topic #48 (0.016): 0.152*\"system\" + 0.125*\"storag\" + 0.093*\"inform\" + 0.073*\"data\" + 0.063*\"for\" + 0.061*\"organ\" + 0.051*\"manag\" + 0.046*\"store\" + 0.041*\"and\" + 0.028*\"level\"\n",
      "2021-02-11 14:02:06,158 : INFO : topic #67 (0.018): 0.310*\"s\" + 0.289*\"'\" + 0.043*\"for\" + 0.041*\"recurs\" + 0.040*\"and\" + 0.028*\"path\" + 0.020*\"to\" + 0.017*\"rule\" + 0.017*\"is\" + 0.016*\"comput\"\n",
      "2021-02-11 14:02:06,158 : INFO : topic #68 (0.024): 0.341*\"algorithm\" + 0.280*\")\" + 0.276*\"(\" + 0.019*\"integr\" + 0.011*\"calcul\" + 0.010*\"polynomi\" + 0.008*\"orthogon\" + 0.007*\"s15\" + 0.006*\"by\" + 0.006*\"ellipt\"\n",
      "2021-02-11 14:02:06,159 : INFO : topic diff=0.250782, rho=0.253169\n",
      "2021-02-11 14:02:06,168 : INFO : PROGRESS: pass 14, at document #2000/3204\n",
      "2021-02-11 14:02:07,505 : INFO : optimized alpha [0.0152121335, 0.011207901, 0.010830477, 0.009844614, 0.011907763, 0.011642479, 0.010542025, 0.01284173, 0.012338411, 0.012431107, 0.011831588, 0.010615231, 0.00952419, 0.010322089, 0.013194908, 0.012445183, 0.013933108, 0.012038988, 0.012445784, 0.013226071, 0.012207086, 0.012151354, 0.010239627, 0.014724998, 0.014237806, 0.010866951, 0.011795286, 0.011008661, 0.012074502, 0.013453097, 0.0115330545, 0.011078521, 0.0144833205, 0.010712019, 0.01509856, 0.012500969, 0.011565445, 0.01006816, 0.014293697, 0.012180971, 0.014202418, 0.015723795, 0.01095736, 0.013670647, 0.0122748185, 0.0151545, 0.015577883, 0.011157504, 0.015972476, 0.013960361, 0.009250639, 0.011700186, 0.013462607, 0.01380955, 0.011726253, 0.011637777, 0.012951921, 0.011269193, 0.010503983, 0.009281522, 0.014502121, 0.012170746, 0.011270199, 0.012148701, 0.010989057, 0.01328993, 0.012077664, 0.017687757, 0.024732083, 0.01329438, 0.012928891, 0.012751941, 0.011461772, 0.010389191, 0.014085158, 0.012887731, 0.010762347, 0.0110846795, 0.013481972, 0.010663375, 0.012391438, 0.011168182, 0.011188501, 0.011884743, 0.010845703, 0.010905016, 0.012645484, 0.01065106, 0.012861041, 0.0109699285, 0.014532795, 0.01118725, 0.014042935, 0.012125844, 0.011461766, 0.013750192, 0.012606325, 0.011299392, 0.013765058, 0.0107512]\n",
      "2021-02-11 14:02:07,516 : INFO : merging changes from 2000 documents into a model of 3204 documents\n",
      "2021-02-11 14:02:07,532 : INFO : topic #50 (0.009): 0.142*\"gamma\" + 0.083*\"l\" + 0.072*\"s14\" + 0.064*\"pattern\" + 0.052*\"label\" + 0.047*\"to\" + 0.046*\"english\" + 0.040*\"dictionari\" + 0.039*\"respect\" + 0.038*\"with\"\n",
      "2021-02-11 14:02:07,533 : INFO : topic #59 (0.009): 0.126*\"busi\" + 0.110*\"field\" + 0.072*\"elimin\" + 0.066*\"govern\" + 0.063*\"in\" + 0.052*\"bank\" + 0.049*\"affect\" + 0.044*\"impact\" + 0.040*\"convert\" + 0.026*\"common\"\n",
      "2021-02-11 14:02:07,534 : INFO : topic #48 (0.016): 0.152*\"system\" + 0.128*\"storag\" + 0.094*\"inform\" + 0.075*\"data\" + 0.064*\"for\" + 0.060*\"organ\" + 0.045*\"store\" + 0.044*\"manag\" + 0.042*\"and\" + 0.028*\"retriev\"\n",
      "2021-02-11 14:02:07,534 : INFO : topic #67 (0.018): 0.312*\"s\" + 0.292*\"'\" + 0.043*\"for\" + 0.040*\"recurs\" + 0.039*\"and\" + 0.027*\"path\" + 0.019*\"to\" + 0.017*\"comput\" + 0.017*\"rule\" + 0.016*\"is\"\n",
      "2021-02-11 14:02:07,536 : INFO : topic #68 (0.025): 0.330*\"algorithm\" + 0.282*\")\" + 0.279*\"(\" + 0.021*\"integr\" + 0.012*\"calcul\" + 0.011*\"polynomi\" + 0.009*\"s15\" + 0.009*\"orthogon\" + 0.007*\"ellipt\" + 0.006*\"by\"\n",
      "2021-02-11 14:02:07,537 : INFO : topic diff=0.223193, rho=0.245426\n",
      "2021-02-11 14:02:09,081 : INFO : -6.325 per-word bound, 80.2 perplexity estimate based on a held-out corpus of 1204 documents with 79462 words\n",
      "2021-02-11 14:02:09,082 : INFO : PROGRESS: pass 14, at document #3204/3204\n",
      "2021-02-11 14:02:10,452 : INFO : optimized alpha [0.015378929, 0.011308876, 0.010904783, 0.009899121, 0.012114587, 0.011752512, 0.010589752, 0.013010229, 0.012536611, 0.0125845205, 0.011944958, 0.01070954, 0.009551529, 0.010395175, 0.013351288, 0.0125973215, 0.014154147, 0.012216978, 0.012504192, 0.013459435, 0.012354183, 0.012340052, 0.010286253, 0.015001194, 0.01439659, 0.010923048, 0.011946713, 0.011124228, 0.012250157, 0.013655394, 0.011650396, 0.011215072, 0.014653557, 0.010800231, 0.015252137, 0.012572676, 0.011701574, 0.010119194, 0.014527162, 0.012320843, 0.0143398335, 0.016093992, 0.011067389, 0.0138798505, 0.012230357, 0.015571504, 0.015796006, 0.011187993, 0.016215513, 0.014109628, 0.009260509, 0.011853118, 0.0137254875, 0.013886714, 0.011844338, 0.01177703, 0.01308596, 0.011387252, 0.010506529, 0.009319709, 0.0148247285, 0.012275656, 0.011385325, 0.012313397, 0.01102394, 0.013478031, 0.012188531, 0.018062977, 0.024956707, 0.013529323, 0.013112651, 0.01294606, 0.011563329, 0.010424609, 0.01426781, 0.012972867, 0.0108409915, 0.011162658, 0.013755292, 0.010751097, 0.012572648, 0.011295747, 0.011280691, 0.012074843, 0.010916587, 0.010986951, 0.012778018, 0.010685402, 0.013034923, 0.011069584, 0.014853455, 0.0113078365, 0.014317953, 0.012272771, 0.011591431, 0.013851314, 0.012740338, 0.011388618, 0.013917306, 0.01081705]\n",
      "2021-02-11 14:02:10,462 : INFO : merging changes from 1204 documents into a model of 3204 documents\n",
      "2021-02-11 14:02:10,478 : INFO : topic #50 (0.009): 0.144*\"gamma\" + 0.083*\"l\" + 0.074*\"pattern\" + 0.063*\"s14\" + 0.058*\"label\" + 0.050*\"to\" + 0.049*\"respect\" + 0.042*\"english\" + 0.040*\"dictionari\" + 0.040*\"with\"\n",
      "2021-02-11 14:02:10,479 : INFO : topic #59 (0.009): 0.129*\"busi\" + 0.121*\"field\" + 0.071*\"elimin\" + 0.069*\"govern\" + 0.065*\"in\" + 0.053*\"affect\" + 0.049*\"impact\" + 0.041*\"convert\" + 0.040*\"bank\" + 0.025*\"common\"\n",
      "2021-02-11 14:02:10,480 : INFO : topic #48 (0.016): 0.156*\"system\" + 0.125*\"storag\" + 0.094*\"inform\" + 0.072*\"data\" + 0.064*\"for\" + 0.061*\"organ\" + 0.051*\"manag\" + 0.045*\"store\" + 0.041*\"and\" + 0.027*\"retriev\"\n",
      "2021-02-11 14:02:10,481 : INFO : topic #67 (0.018): 0.315*\"s\" + 0.294*\"'\" + 0.042*\"for\" + 0.041*\"recurs\" + 0.040*\"and\" + 0.028*\"path\" + 0.020*\"to\" + 0.018*\"rule\" + 0.017*\"comput\" + 0.016*\"is\"\n",
      "2021-02-11 14:02:10,481 : INFO : topic #68 (0.025): 0.344*\"algorithm\" + 0.279*\")\" + 0.276*\"(\" + 0.019*\"integr\" + 0.011*\"calcul\" + 0.010*\"polynomi\" + 0.008*\"orthogon\" + 0.007*\"s15\" + 0.006*\"ellipt\" + 0.006*\"by\"\n",
      "2021-02-11 14:02:10,482 : INFO : topic diff=0.229004, rho=0.245426\n",
      "2021-02-11 14:02:10,492 : INFO : PROGRESS: pass 15, at document #2000/3204\n",
      "2021-02-11 14:02:11,841 : INFO : optimized alpha [0.015590606, 0.011341809, 0.010911493, 0.009904174, 0.012106014, 0.011806723, 0.010603303, 0.0130208405, 0.012567645, 0.012589359, 0.01193355, 0.010686157, 0.009538768, 0.010406307, 0.013507083, 0.012727185, 0.014351193, 0.012210608, 0.012619575, 0.013458199, 0.012385232, 0.012420457, 0.01030605, 0.015189512, 0.014450132, 0.01093095, 0.011936895, 0.011095876, 0.012240403, 0.013619816, 0.011660584, 0.011252653, 0.014848418, 0.010821382, 0.015407365, 0.012734993, 0.011720918, 0.010127492, 0.014594623, 0.012390027, 0.014445588, 0.016244955, 0.011068752, 0.013947125, 0.012532865, 0.01584158, 0.015972083, 0.011256685, 0.016395383, 0.014253116, 0.009261335, 0.011857322, 0.013689731, 0.014072283, 0.011889146, 0.011787409, 0.013142595, 0.0114432415, 0.01059076, 0.009314631, 0.014879542, 0.012360951, 0.011420564, 0.012346288, 0.011067095, 0.013489082, 0.012269625, 0.018199107, 0.025957154, 0.013543164, 0.013152766, 0.013004293, 0.011582176, 0.010454407, 0.014335627, 0.013084265, 0.010844242, 0.011172602, 0.013857245, 0.010766742, 0.012637801, 0.011300767, 0.0112768505, 0.012109476, 0.010934656, 0.010992455, 0.012802386, 0.010716597, 0.013051943, 0.011087384, 0.0148550635, 0.011367517, 0.014341798, 0.012290657, 0.011563402, 0.0140494425, 0.012814899, 0.011429394, 0.014008467, 0.01083096]\n",
      "2021-02-11 14:02:11,854 : INFO : merging changes from 2000 documents into a model of 3204 documents\n",
      "2021-02-11 14:02:11,873 : INFO : topic #50 (0.009): 0.142*\"gamma\" + 0.083*\"l\" + 0.075*\"s14\" + 0.066*\"pattern\" + 0.051*\"label\" + 0.049*\"to\" + 0.046*\"english\" + 0.041*\"dictionari\" + 0.040*\"respect\" + 0.039*\"with\"\n",
      "2021-02-11 14:02:11,874 : INFO : topic #59 (0.009): 0.126*\"busi\" + 0.124*\"field\" + 0.073*\"elimin\" + 0.066*\"govern\" + 0.063*\"in\" + 0.052*\"bank\" + 0.049*\"affect\" + 0.044*\"impact\" + 0.039*\"convert\" + 0.026*\"common\"\n",
      "2021-02-11 14:02:11,875 : INFO : topic #48 (0.016): 0.156*\"system\" + 0.128*\"storag\" + 0.094*\"inform\" + 0.074*\"data\" + 0.065*\"for\" + 0.060*\"organ\" + 0.044*\"store\" + 0.044*\"manag\" + 0.042*\"and\" + 0.028*\"retriev\"\n"
     ]
    },
    {
     "name": "stderr",
     "output_type": "stream",
     "text": [
      "2021-02-11 14:02:11,876 : INFO : topic #67 (0.018): 0.317*\"s\" + 0.297*\"'\" + 0.042*\"for\" + 0.040*\"recurs\" + 0.039*\"and\" + 0.027*\"path\" + 0.019*\"to\" + 0.017*\"comput\" + 0.017*\"rule\" + 0.015*\"is\"\n",
      "2021-02-11 14:02:11,876 : INFO : topic #68 (0.026): 0.333*\"algorithm\" + 0.281*\")\" + 0.279*\"(\" + 0.021*\"integr\" + 0.011*\"calcul\" + 0.011*\"polynomi\" + 0.009*\"s15\" + 0.009*\"orthogon\" + 0.007*\"ellipt\" + 0.006*\"by\"\n",
      "2021-02-11 14:02:11,877 : INFO : topic diff=0.205111, rho=0.238352\n",
      "2021-02-11 14:02:13,447 : INFO : -6.319 per-word bound, 79.8 perplexity estimate based on a held-out corpus of 1204 documents with 79462 words\n",
      "2021-02-11 14:02:13,448 : INFO : PROGRESS: pass 15, at document #3204/3204\n",
      "2021-02-11 14:02:14,757 : INFO : optimized alpha [0.015759146, 0.011440511, 0.010988454, 0.009961416, 0.012311355, 0.011914219, 0.010654242, 0.01318035, 0.012769805, 0.0127420155, 0.012046788, 0.010784717, 0.009565758, 0.010484032, 0.013665234, 0.0128785325, 0.014568042, 0.0123850135, 0.012673563, 0.013690019, 0.012529288, 0.012610652, 0.010363997, 0.015467519, 0.014605236, 0.010985795, 0.012082669, 0.01121101, 0.012412405, 0.013815012, 0.011782213, 0.01139313, 0.015008457, 0.010914086, 0.015541116, 0.012806769, 0.011854107, 0.010177408, 0.01483252, 0.012531782, 0.014576364, 0.01662369, 0.0111741405, 0.014157598, 0.012491755, 0.016263423, 0.016181894, 0.011288477, 0.016626583, 0.01440121, 0.009271354, 0.012002239, 0.013942365, 0.014149329, 0.012004492, 0.01192363, 0.013281514, 0.011560963, 0.010597259, 0.009357581, 0.015203317, 0.012463165, 0.011539912, 0.012517551, 0.011096715, 0.013678636, 0.012380186, 0.018567704, 0.026204111, 0.013779232, 0.013332774, 0.013197188, 0.011683688, 0.010489047, 0.014511372, 0.013159076, 0.010918889, 0.011251034, 0.014143496, 0.010854655, 0.012807969, 0.01142551, 0.0113714915, 0.012305709, 0.011003886, 0.011072531, 0.012929307, 0.01075019, 0.013229993, 0.011184727, 0.015164604, 0.011490042, 0.01462988, 0.012434358, 0.011685515, 0.014147278, 0.0129563045, 0.01152805, 0.014151478, 0.010886568]\n",
      "2021-02-11 14:02:14,770 : INFO : merging changes from 1204 documents into a model of 3204 documents\n",
      "2021-02-11 14:02:14,783 : INFO : topic #50 (0.009): 0.143*\"gamma\" + 0.083*\"l\" + 0.076*\"pattern\" + 0.066*\"s14\" + 0.057*\"label\" + 0.051*\"to\" + 0.049*\"respect\" + 0.042*\"english\" + 0.041*\"dictionari\" + 0.040*\"with\"\n",
      "2021-02-11 14:02:14,784 : INFO : topic #59 (0.009): 0.133*\"field\" + 0.129*\"busi\" + 0.071*\"elimin\" + 0.069*\"govern\" + 0.065*\"in\" + 0.053*\"affect\" + 0.049*\"impact\" + 0.041*\"bank\" + 0.040*\"convert\" + 0.026*\"identifi\"\n",
      "2021-02-11 14:02:14,785 : INFO : topic #41 (0.017): 0.249*\"data\" + 0.238*\"structur\" + 0.052*\"implement\" + 0.036*\"an\" + 0.028*\"for\" + 0.027*\"and\" + 0.027*\"is\" + 0.023*\"in\" + 0.023*\"languag\" + 0.020*\"which\"\n",
      "2021-02-11 14:02:14,786 : INFO : topic #67 (0.019): 0.319*\"s\" + 0.298*\"'\" + 0.041*\"for\" + 0.041*\"recurs\" + 0.039*\"and\" + 0.028*\"path\" + 0.020*\"to\" + 0.018*\"rule\" + 0.017*\"comput\" + 0.016*\"on\"\n",
      "2021-02-11 14:02:14,787 : INFO : topic #68 (0.026): 0.348*\"algorithm\" + 0.277*\")\" + 0.275*\"(\" + 0.019*\"integr\" + 0.011*\"calcul\" + 0.010*\"polynomi\" + 0.008*\"orthogon\" + 0.007*\"s15\" + 0.006*\"ellipt\" + 0.006*\"by\"\n",
      "2021-02-11 14:02:14,788 : INFO : topic diff=0.210040, rho=0.238352\n",
      "2021-02-11 14:02:14,798 : INFO : PROGRESS: pass 16, at document #2000/3204\n",
      "2021-02-11 14:02:16,026 : INFO : optimized alpha [0.015973208, 0.011479279, 0.010991199, 0.009965296, 0.012304895, 0.011969875, 0.010667608, 0.013194791, 0.012802491, 0.012749351, 0.012036955, 0.010763186, 0.009552593, 0.010494894, 0.01382952, 0.013010641, 0.014762267, 0.012383966, 0.012789606, 0.013686062, 0.012563614, 0.012690589, 0.010384646, 0.015660139, 0.014655331, 0.010998802, 0.012071229, 0.011181897, 0.012406551, 0.013776237, 0.011793259, 0.011432226, 0.015205431, 0.010935906, 0.015687538, 0.012970963, 0.011874101, 0.010186859, 0.014902992, 0.012603635, 0.014683125, 0.01677485, 0.01117263, 0.014225963, 0.012801395, 0.01654335, 0.016362041, 0.011355774, 0.016798962, 0.014538505, 0.009273629, 0.012003076, 0.013900987, 0.014331808, 0.012049503, 0.011933368, 0.013335122, 0.011622273, 0.010679821, 0.009351732, 0.015262453, 0.012548039, 0.011575475, 0.012553545, 0.01114151, 0.013691884, 0.012463811, 0.018701334, 0.027192917, 0.013791637, 0.013366676, 0.013256625, 0.011703331, 0.010519537, 0.014575485, 0.013266721, 0.010923333, 0.011262117, 0.014254578, 0.010872423, 0.0128729595, 0.011430127, 0.011366347, 0.012350374, 0.011022858, 0.011079168, 0.012952806, 0.010782053, 0.013244387, 0.011201993, 0.015160523, 0.011549649, 0.014660423, 0.012451413, 0.011656589, 0.01434402, 0.01303534, 0.011563825, 0.01424549, 0.010899008]\n",
      "2021-02-11 14:02:16,038 : INFO : merging changes from 2000 documents into a model of 3204 documents\n",
      "2021-02-11 14:02:16,059 : INFO : topic #50 (0.009): 0.141*\"gamma\" + 0.082*\"l\" + 0.076*\"s14\" + 0.069*\"pattern\" + 0.050*\"label\" + 0.050*\"to\" + 0.046*\"english\" + 0.042*\"dictionari\" + 0.041*\"respect\" + 0.039*\"with\"\n",
      "2021-02-11 14:02:16,060 : INFO : topic #59 (0.009): 0.136*\"field\" + 0.127*\"busi\" + 0.072*\"elimin\" + 0.066*\"govern\" + 0.064*\"in\" + 0.053*\"bank\" + 0.050*\"affect\" + 0.044*\"impact\" + 0.038*\"convert\" + 0.026*\"identifi\"\n",
      "2021-02-11 14:02:16,061 : INFO : topic #48 (0.017): 0.161*\"system\" + 0.128*\"storag\" + 0.094*\"inform\" + 0.073*\"data\" + 0.065*\"for\" + 0.059*\"organ\" + 0.044*\"manag\" + 0.044*\"store\" + 0.042*\"and\" + 0.028*\"larg\"\n",
      "2021-02-11 14:02:16,062 : INFO : topic #67 (0.019): 0.322*\"s\" + 0.301*\"'\" + 0.041*\"for\" + 0.041*\"recurs\" + 0.038*\"and\" + 0.027*\"path\" + 0.019*\"to\" + 0.017*\"comput\" + 0.017*\"rule\" + 0.015*\"on\"\n",
      "2021-02-11 14:02:16,064 : INFO : topic #68 (0.027): 0.338*\"algorithm\" + 0.280*\")\" + 0.278*\"(\" + 0.020*\"integr\" + 0.011*\"polynomi\" + 0.011*\"calcul\" + 0.009*\"s15\" + 0.009*\"orthogon\" + 0.007*\"ellipt\" + 0.006*\"by\"\n",
      "2021-02-11 14:02:16,065 : INFO : topic diff=0.189157, rho=0.231857\n",
      "2021-02-11 14:02:17,641 : INFO : -6.311 per-word bound, 79.4 perplexity estimate based on a held-out corpus of 1204 documents with 79462 words\n",
      "2021-02-11 14:02:17,642 : INFO : PROGRESS: pass 16, at document #3204/3204\n",
      "2021-02-11 14:02:18,905 : INFO : optimized alpha [0.016137617, 0.011582502, 0.011064381, 0.010027092, 0.012508995, 0.012072614, 0.010721598, 0.01334833, 0.013001174, 0.012911441, 0.012150066, 0.010857621, 0.009579269, 0.010579091, 0.013978918, 0.013163781, 0.014975049, 0.012555025, 0.012841732, 0.013919352, 0.012709581, 0.012882352, 0.010441352, 0.015921699, 0.014812743, 0.011050343, 0.01221396, 0.011296714, 0.012575097, 0.013964718, 0.011916927, 0.011572192, 0.015370144, 0.011024421, 0.015826624, 0.013042702, 0.012004603, 0.010235701, 0.0151367225, 0.012747279, 0.014799052, 0.017155915, 0.011273578, 0.014429763, 0.012758363, 0.016966917, 0.016563728, 0.011388826, 0.017018668, 0.014682951, 0.00928375, 0.012154349, 0.014151923, 0.014406006, 0.012162317, 0.0120690875, 0.013465853, 0.011748771, 0.010685968, 0.009393838, 0.015578864, 0.012647711, 0.01170135, 0.012728997, 0.011176868, 0.013880424, 0.012569325, 0.019056309, 0.027403684, 0.014023704, 0.013545748, 0.01345112, 0.011804898, 0.010553416, 0.014750316, 0.0133469915, 0.010994201, 0.011332165, 0.014540165, 0.010960584, 0.013047505, 0.011552245, 0.011459002, 0.012553088, 0.011088364, 0.011161783, 0.013076931, 0.010816986, 0.013424075, 0.0113037275, 0.015465179, 0.0116763795, 0.014941368, 0.012594535, 0.011778416, 0.014441408, 0.013181479, 0.011655812, 0.0143962, 0.010953405]\n",
      "2021-02-11 14:02:18,914 : INFO : merging changes from 1204 documents into a model of 3204 documents\n",
      "2021-02-11 14:02:18,928 : INFO : topic #50 (0.009): 0.142*\"gamma\" + 0.082*\"l\" + 0.079*\"pattern\" + 0.067*\"s14\" + 0.056*\"label\" + 0.053*\"to\" + 0.049*\"respect\" + 0.042*\"english\" + 0.041*\"dictionari\" + 0.041*\"with\"\n",
      "2021-02-11 14:02:18,929 : INFO : topic #59 (0.009): 0.143*\"field\" + 0.129*\"busi\" + 0.071*\"elimin\" + 0.069*\"govern\" + 0.065*\"in\" + 0.053*\"affect\" + 0.049*\"impact\" + 0.042*\"bank\" + 0.039*\"convert\" + 0.027*\"identifi\"\n",
      "2021-02-11 14:02:18,930 : INFO : topic #41 (0.017): 0.253*\"data\" + 0.238*\"structur\" + 0.052*\"implement\" + 0.036*\"an\" + 0.028*\"for\" + 0.027*\"and\" + 0.026*\"is\" + 0.023*\"in\" + 0.023*\"languag\" + 0.020*\"which\"\n",
      "2021-02-11 14:02:18,930 : INFO : topic #67 (0.019): 0.324*\"s\" + 0.303*\"'\" + 0.040*\"recurs\" + 0.040*\"for\" + 0.038*\"and\" + 0.028*\"path\" + 0.020*\"to\" + 0.019*\"rule\" + 0.017*\"comput\" + 0.016*\"on\"\n"
     ]
    },
    {
     "name": "stderr",
     "output_type": "stream",
     "text": [
      "2021-02-11 14:02:18,931 : INFO : topic #68 (0.027): 0.351*\"algorithm\" + 0.276*\")\" + 0.275*\"(\" + 0.019*\"integr\" + 0.010*\"polynomi\" + 0.010*\"calcul\" + 0.008*\"orthogon\" + 0.007*\"s15\" + 0.006*\"ellipt\" + 0.006*\"by\"\n",
      "2021-02-11 14:02:18,932 : INFO : topic diff=0.193942, rho=0.231857\n",
      "2021-02-11 14:02:18,943 : INFO : PROGRESS: pass 17, at document #2000/3204\n",
      "2021-02-11 14:02:20,197 : INFO : optimized alpha [0.016341213, 0.011625561, 0.011070925, 0.010030937, 0.012498915, 0.0121242795, 0.010734784, 0.0133589255, 0.013047378, 0.012921043, 0.012148744, 0.010840288, 0.009565707, 0.010590891, 0.014136059, 0.013292229, 0.015166571, 0.012547617, 0.012955638, 0.013915909, 0.012739964, 0.012961898, 0.010462814, 0.016124342, 0.014863098, 0.011060712, 0.012205109, 0.0112745045, 0.012567255, 0.01392931, 0.011928822, 0.011611477, 0.015564255, 0.011046948, 0.01597202, 0.013207467, 0.012028023, 0.010247401, 0.015205054, 0.012818881, 0.014906919, 0.017301487, 0.011270698, 0.014497685, 0.013068088, 0.017253023, 0.016732879, 0.011453526, 0.01718769, 0.014816018, 0.009287362, 0.012162953, 0.014106774, 0.014583881, 0.012204821, 0.012082334, 0.013522756, 0.011808744, 0.010768209, 0.009387226, 0.015637085, 0.012732247, 0.011741213, 0.012769542, 0.011219468, 0.013892561, 0.012649807, 0.019183407, 0.028425887, 0.01403634, 0.013579884, 0.013513354, 0.01182527, 0.010583407, 0.014812425, 0.013451068, 0.010997365, 0.011345651, 0.014653765, 0.010981671, 0.013110826, 0.011557764, 0.011451318, 0.012597712, 0.011106954, 0.011170834, 0.013101172, 0.010850762, 0.0134406155, 0.011321749, 0.015466423, 0.011738645, 0.014957693, 0.012612289, 0.0117459, 0.014636986, 0.01326641, 0.011696046, 0.0144831985, 0.01096693]\n",
      "2021-02-11 14:02:20,206 : INFO : merging changes from 2000 documents into a model of 3204 documents\n",
      "2021-02-11 14:02:20,218 : INFO : topic #50 (0.009): 0.140*\"gamma\" + 0.082*\"l\" + 0.078*\"s14\" + 0.072*\"pattern\" + 0.051*\"to\" + 0.050*\"label\" + 0.046*\"english\" + 0.042*\"dictionari\" + 0.041*\"respect\" + 0.040*\"with\"\n",
      "2021-02-11 14:02:20,219 : INFO : topic #59 (0.009): 0.146*\"field\" + 0.128*\"busi\" + 0.072*\"elimin\" + 0.067*\"govern\" + 0.064*\"in\" + 0.054*\"bank\" + 0.050*\"affect\" + 0.045*\"impact\" + 0.036*\"convert\" + 0.027*\"identifi\"\n",
      "2021-02-11 14:02:20,219 : INFO : topic #41 (0.017): 0.255*\"data\" + 0.232*\"structur\" + 0.051*\"implement\" + 0.036*\"an\" + 0.027*\"for\" + 0.027*\"and\" + 0.026*\"is\" + 0.024*\"in\" + 0.023*\"languag\" + 0.020*\"which\"\n",
      "2021-02-11 14:02:20,220 : INFO : topic #67 (0.019): 0.326*\"s\" + 0.306*\"'\" + 0.040*\"recurs\" + 0.040*\"for\" + 0.038*\"and\" + 0.027*\"path\" + 0.019*\"to\" + 0.018*\"comput\" + 0.018*\"rule\" + 0.016*\"on\"\n",
      "2021-02-11 14:02:20,221 : INFO : topic #68 (0.028): 0.340*\"algorithm\" + 0.279*\")\" + 0.277*\"(\" + 0.020*\"integr\" + 0.011*\"polynomi\" + 0.010*\"calcul\" + 0.009*\"s15\" + 0.009*\"orthogon\" + 0.007*\"ellipt\" + 0.006*\"by\"\n",
      "2021-02-11 14:02:20,222 : INFO : topic diff=0.175213, rho=0.225865\n",
      "2021-02-11 14:02:21,701 : INFO : -6.308 per-word bound, 79.2 perplexity estimate based on a held-out corpus of 1204 documents with 79462 words\n",
      "2021-02-11 14:02:21,702 : INFO : PROGRESS: pass 17, at document #3204/3204\n",
      "2021-02-11 14:02:23,007 : INFO : optimized alpha [0.016507823, 0.011724506, 0.011144722, 0.010093388, 0.012699644, 0.012224818, 0.010785665, 0.013511782, 0.013240356, 0.013072777, 0.012268955, 0.0109369615, 0.009592078, 0.010671442, 0.014284866, 0.0134473415, 0.01537546, 0.012720337, 0.013008523, 0.014158918, 0.012890459, 0.013148166, 0.0105223255, 0.016403425, 0.01502283, 0.0111133, 0.012340481, 0.011387043, 0.012737336, 0.01411149, 0.012052323, 0.01174235, 0.015724977, 0.011129481, 0.016107524, 0.013266937, 0.012155432, 0.010295258, 0.015440578, 0.012962158, 0.015028404, 0.01767851, 0.011373922, 0.014697784, 0.01302068, 0.017675003, 0.016936313, 0.011483532, 0.017412413, 0.014951488, 0.009302795, 0.01231372, 0.014359049, 0.014655412, 0.012317565, 0.012217695, 0.013658553, 0.0119417645, 0.0107740285, 0.009428554, 0.015952233, 0.012831917, 0.011864638, 0.012944484, 0.011251861, 0.0140803335, 0.012757779, 0.019535892, 0.02862215, 0.014269961, 0.01375827, 0.013712116, 0.011924724, 0.010616587, 0.014983756, 0.013524063, 0.011068851, 0.0114207165, 0.014958675, 0.011070148, 0.013282434, 0.011677478, 0.011539875, 0.012809364, 0.011175286, 0.011251797, 0.013220172, 0.0108829215, 0.013616906, 0.011419211, 0.01576674, 0.011862949, 0.015234579, 0.012755034, 0.011867486, 0.014731279, 0.013412305, 0.011790628, 0.0146333305, 0.011020214]\n",
      "2021-02-11 14:02:23,018 : INFO : merging changes from 1204 documents into a model of 3204 documents\n",
      "2021-02-11 14:02:23,033 : INFO : topic #50 (0.009): 0.140*\"gamma\" + 0.081*\"pattern\" + 0.081*\"l\" + 0.068*\"s14\" + 0.055*\"label\" + 0.054*\"to\" + 0.050*\"respect\" + 0.041*\"dictionari\" + 0.041*\"english\" + 0.041*\"with\"\n",
      "2021-02-11 14:02:23,034 : INFO : topic #59 (0.009): 0.151*\"field\" + 0.130*\"busi\" + 0.071*\"elimin\" + 0.070*\"govern\" + 0.065*\"in\" + 0.054*\"affect\" + 0.050*\"impact\" + 0.043*\"bank\" + 0.038*\"convert\" + 0.029*\"identifi\"\n",
      "2021-02-11 14:02:23,035 : INFO : topic #41 (0.018): 0.257*\"data\" + 0.238*\"structur\" + 0.051*\"implement\" + 0.036*\"an\" + 0.028*\"and\" + 0.028*\"for\" + 0.026*\"is\" + 0.024*\"in\" + 0.023*\"languag\" + 0.020*\"which\"\n",
      "2021-02-11 14:02:23,036 : INFO : topic #67 (0.020): 0.328*\"s\" + 0.306*\"'\" + 0.041*\"recurs\" + 0.039*\"for\" + 0.038*\"and\" + 0.028*\"path\" + 0.020*\"to\" + 0.019*\"rule\" + 0.018*\"comput\" + 0.017*\"on\"\n",
      "2021-02-11 14:02:23,037 : INFO : topic #68 (0.029): 0.352*\"algorithm\" + 0.275*\"(\" + 0.275*\")\" + 0.018*\"integr\" + 0.010*\"polynomi\" + 0.010*\"calcul\" + 0.008*\"orthogon\" + 0.007*\"s15\" + 0.006*\"by\" + 0.006*\"ellipt\"\n",
      "2021-02-11 14:02:23,039 : INFO : topic diff=0.179619, rho=0.225865\n",
      "2021-02-11 14:02:23,049 : INFO : PROGRESS: pass 18, at document #2000/3204\n",
      "2021-02-11 14:02:24,405 : INFO : optimized alpha [0.016708503, 0.011774393, 0.011149908, 0.010096082, 0.012694421, 0.012278021, 0.010801103, 0.0135201765, 0.013286573, 0.0130802635, 0.012266071, 0.010922368, 0.009579175, 0.010684128, 0.01443975, 0.013575239, 0.015564415, 0.012718146, 0.013121889, 0.014157587, 0.012924072, 0.013224481, 0.010542282, 0.016612738, 0.015075006, 0.011124835, 0.0123300925, 0.011363897, 0.012729028, 0.014076205, 0.012062359, 0.011781944, 0.015918057, 0.011155203, 0.016244914, 0.013432325, 0.012178178, 0.010303409, 0.015506799, 0.01303511, 0.015139017, 0.017828338, 0.011376054, 0.014763791, 0.013330675, 0.017967364, 0.017108062, 0.011548322, 0.017580101, 0.0150821535, 0.009306616, 0.01232168, 0.014316649, 0.014832255, 0.012360396, 0.012235767, 0.01371262, 0.012001789, 0.010853643, 0.0094222585, 0.016013194, 0.012914833, 0.011907419, 0.012982231, 0.011293731, 0.014093065, 0.012838094, 0.019654348, 0.02964374, 0.014284381, 0.013784893, 0.013774059, 0.011944548, 0.010651989, 0.015044119, 0.013626268, 0.011073201, 0.011431375, 0.015069811, 0.011093264, 0.013353261, 0.0116839, 0.011533628, 0.012859612, 0.011192305, 0.011260678, 0.013245151, 0.01091375, 0.013629375, 0.011436732, 0.015766004, 0.011929151, 0.015261205, 0.012773471, 0.01184087, 0.014925907, 0.013503188, 0.011828665, 0.014726472, 0.011034809]\n",
      "2021-02-11 14:02:24,416 : INFO : merging changes from 2000 documents into a model of 3204 documents\n",
      "2021-02-11 14:02:24,431 : INFO : topic #50 (0.009): 0.138*\"gamma\" + 0.081*\"l\" + 0.079*\"s14\" + 0.074*\"pattern\" + 0.052*\"to\" + 0.049*\"label\" + 0.045*\"english\" + 0.042*\"dictionari\" + 0.042*\"respect\" + 0.040*\"with\"\n",
      "2021-02-11 14:02:24,432 : INFO : topic #59 (0.009): 0.153*\"field\" + 0.129*\"busi\" + 0.072*\"elimin\" + 0.068*\"govern\" + 0.064*\"in\" + 0.055*\"bank\" + 0.051*\"affect\" + 0.045*\"impact\" + 0.034*\"convert\" + 0.028*\"identifi\"\n",
      "2021-02-11 14:02:24,433 : INFO : topic #45 (0.018): 0.455*\"(\" + 0.388*\")\" + 0.049*\"1\" + 0.023*\"or\" + 0.018*\"associ\" + 0.013*\"machin\" + 0.009*\"for\" + 0.008*\"with\" + 0.007*\"part\" + 0.006*\"legendr\"\n",
      "2021-02-11 14:02:24,434 : INFO : topic #67 (0.020): 0.331*\"s\" + 0.310*\"'\" + 0.040*\"recurs\" + 0.039*\"for\" + 0.037*\"and\" + 0.027*\"path\" + 0.019*\"to\" + 0.018*\"comput\" + 0.018*\"rule\" + 0.016*\"on\"\n",
      "2021-02-11 14:02:24,435 : INFO : topic #68 (0.030): 0.342*\"algorithm\" + 0.278*\"(\" + 0.277*\")\" + 0.019*\"integr\" + 0.011*\"polynomi\" + 0.010*\"calcul\" + 0.009*\"s15\" + 0.009*\"orthogon\" + 0.007*\"ellipt\" + 0.006*\"by\"\n"
     ]
    },
    {
     "name": "stderr",
     "output_type": "stream",
     "text": [
      "2021-02-11 14:02:24,436 : INFO : topic diff=0.162997, rho=0.220316\n",
      "2021-02-11 14:02:25,924 : INFO : -6.304 per-word bound, 79.0 perplexity estimate based on a held-out corpus of 1204 documents with 79462 words\n",
      "2021-02-11 14:02:25,925 : INFO : PROGRESS: pass 18, at document #3204/3204\n",
      "2021-02-11 14:02:27,228 : INFO : optimized alpha [0.01687424, 0.0118778525, 0.011222258, 0.010162873, 0.012894323, 0.012378687, 0.010852996, 0.013672557, 0.013469206, 0.013229186, 0.012381681, 0.011017244, 0.009603487, 0.010763113, 0.014590792, 0.013729972, 0.01576949, 0.0128879445, 0.013177936, 0.014389086, 0.013069492, 0.013415178, 0.010606409, 0.016891323, 0.015234321, 0.011180609, 0.012467437, 0.011474272, 0.01289841, 0.014257645, 0.012183523, 0.011919192, 0.016077869, 0.011242198, 0.016377002, 0.013492188, 0.012308301, 0.01035034, 0.015738774, 0.013185299, 0.015254741, 0.018204527, 0.011477347, 0.014965781, 0.013276538, 0.018397335, 0.017307023, 0.011577512, 0.01779049, 0.015211662, 0.00932026, 0.012476642, 0.014565011, 0.014898475, 0.012468619, 0.012373127, 0.013853509, 0.0121391285, 0.0108591365, 0.009464569, 0.016327197, 0.013009904, 0.012030792, 0.0131543055, 0.0113317035, 0.014280224, 0.012941369, 0.019997275, 0.029829511, 0.014514589, 0.01396508, 0.013969666, 0.012042034, 0.0106864115, 0.0152148865, 0.01369731, 0.011145283, 0.011502811, 0.015371861, 0.011184162, 0.013519604, 0.011801365, 0.011622622, 0.013082898, 0.011250965, 0.011342142, 0.013366632, 0.0109472675, 0.013805019, 0.01153443, 0.01605921, 0.012051181, 0.015540088, 0.012918305, 0.011960197, 0.015011717, 0.013651498, 0.0119323535, 0.014876249, 0.011082929]\n",
      "2021-02-11 14:02:27,242 : INFO : merging changes from 1204 documents into a model of 3204 documents\n",
      "2021-02-11 14:02:27,257 : INFO : topic #50 (0.009): 0.138*\"gamma\" + 0.082*\"pattern\" + 0.080*\"l\" + 0.069*\"s14\" + 0.055*\"to\" + 0.054*\"label\" + 0.050*\"respect\" + 0.042*\"with\" + 0.042*\"dictionari\" + 0.041*\"english\"\n",
      "2021-02-11 14:02:27,258 : INFO : topic #59 (0.009): 0.159*\"field\" + 0.131*\"busi\" + 0.071*\"elimin\" + 0.070*\"govern\" + 0.065*\"in\" + 0.054*\"affect\" + 0.050*\"impact\" + 0.045*\"bank\" + 0.037*\"convert\" + 0.030*\"identifi\"\n",
      "2021-02-11 14:02:27,259 : INFO : topic #45 (0.018): 0.459*\"(\" + 0.388*\")\" + 0.050*\"1\" + 0.023*\"or\" + 0.017*\"associ\" + 0.013*\"machin\" + 0.009*\"for\" + 0.007*\"with\" + 0.006*\"part\" + 0.005*\"argument\"\n",
      "2021-02-11 14:02:27,260 : INFO : topic #67 (0.020): 0.333*\"s\" + 0.311*\"'\" + 0.040*\"recurs\" + 0.038*\"for\" + 0.037*\"and\" + 0.028*\"path\" + 0.020*\"to\" + 0.019*\"rule\" + 0.018*\"comput\" + 0.018*\"on\"\n",
      "2021-02-11 14:02:27,260 : INFO : topic #68 (0.030): 0.355*\"algorithm\" + 0.275*\"(\" + 0.274*\")\" + 0.018*\"integr\" + 0.010*\"polynomi\" + 0.010*\"calcul\" + 0.008*\"orthogon\" + 0.007*\"s15\" + 0.006*\"by\" + 0.006*\"ellipt\"\n",
      "2021-02-11 14:02:27,261 : INFO : topic diff=0.167310, rho=0.220316\n",
      "2021-02-11 14:02:27,271 : INFO : PROGRESS: pass 19, at document #2000/3204\n",
      "2021-02-11 14:02:28,591 : INFO : optimized alpha [0.017072307, 0.011933189, 0.011231039, 0.010163318, 0.012889729, 0.01243346, 0.010868233, 0.013686262, 0.013514095, 0.013239064, 0.012380024, 0.011001688, 0.009593259, 0.010777879, 0.014745095, 0.013855938, 0.015955944, 0.012889379, 0.013295123, 0.014389833, 0.0131035345, 0.01349418, 0.010630616, 0.017105538, 0.015285083, 0.011193252, 0.012456866, 0.011451444, 0.01289239, 0.014222419, 0.012194403, 0.0119564375, 0.01627003, 0.011264874, 0.016510123, 0.013661342, 0.012330289, 0.010361829, 0.015809957, 0.013260997, 0.015358358, 0.01835087, 0.011480546, 0.015031499, 0.013589834, 0.018686028, 0.017479563, 0.011641211, 0.01795325, 0.015338381, 0.009324288, 0.012482522, 0.0145189045, 0.015071162, 0.012513167, 0.012390503, 0.013906318, 0.01220051, 0.010938599, 0.009461621, 0.016381884, 0.013091311, 0.012076505, 0.013195147, 0.011374034, 0.014288786, 0.0130188, 0.020111691, 0.030869646, 0.01453088, 0.013992024, 0.014029908, 0.0120639745, 0.010718962, 0.0152718155, 0.013800714, 0.01114956, 0.011513299, 0.015490658, 0.011205481, 0.013584432, 0.0118074035, 0.011617725, 0.013132999, 0.011270155, 0.011354464, 0.013392335, 0.010977614, 0.013819604, 0.0115527045, 0.01605504, 0.01211614, 0.015564843, 0.012941621, 0.01193261, 0.015202294, 0.013743905, 0.011970844, 0.014965872, 0.0110973595]\n",
      "2021-02-11 14:02:28,601 : INFO : merging changes from 2000 documents into a model of 3204 documents\n",
      "2021-02-11 14:02:28,619 : INFO : topic #50 (0.009): 0.137*\"gamma\" + 0.080*\"l\" + 0.079*\"s14\" + 0.075*\"pattern\" + 0.054*\"to\" + 0.048*\"label\" + 0.045*\"english\" + 0.043*\"respect\" + 0.043*\"dictionari\" + 0.041*\"with\"\n",
      "2021-02-11 14:02:28,620 : INFO : topic #59 (0.009): 0.160*\"field\" + 0.130*\"busi\" + 0.072*\"elimin\" + 0.068*\"govern\" + 0.064*\"in\" + 0.057*\"bank\" + 0.051*\"affect\" + 0.046*\"impact\" + 0.033*\"convert\" + 0.029*\"identifi\"\n",
      "2021-02-11 14:02:28,621 : INFO : topic #45 (0.019): 0.457*\"(\" + 0.388*\")\" + 0.049*\"1\" + 0.023*\"or\" + 0.018*\"associ\" + 0.013*\"machin\" + 0.009*\"for\" + 0.007*\"with\" + 0.006*\"part\" + 0.006*\"legendr\"\n",
      "2021-02-11 14:02:28,622 : INFO : topic #67 (0.020): 0.336*\"s\" + 0.314*\"'\" + 0.040*\"recurs\" + 0.038*\"for\" + 0.036*\"and\" + 0.027*\"path\" + 0.019*\"to\" + 0.019*\"comput\" + 0.018*\"rule\" + 0.017*\"on\"\n",
      "2021-02-11 14:02:28,623 : INFO : topic #68 (0.031): 0.344*\"algorithm\" + 0.277*\"(\" + 0.276*\")\" + 0.019*\"integr\" + 0.011*\"polynomi\" + 0.010*\"calcul\" + 0.009*\"s15\" + 0.009*\"orthogon\" + 0.007*\"ellipt\" + 0.007*\"by\"\n",
      "2021-02-11 14:02:28,623 : INFO : topic diff=0.152298, rho=0.215156\n",
      "2021-02-11 14:02:30,165 : INFO : -6.299 per-word bound, 78.7 perplexity estimate based on a held-out corpus of 1204 documents with 79462 words\n",
      "2021-02-11 14:02:30,166 : INFO : PROGRESS: pass 19, at document #3204/3204\n",
      "2021-02-11 14:02:31,509 : INFO : optimized alpha [0.017249992, 0.012045504, 0.011304129, 0.010238052, 0.01308445, 0.012534397, 0.010919238, 0.013833553, 0.013698957, 0.013387955, 0.012498096, 0.01109888, 0.009613924, 0.010863313, 0.014898506, 0.014015359, 0.016157439, 0.013058903, 0.013352009, 0.014628736, 0.013248945, 0.013679775, 0.010693592, 0.01738673, 0.015435741, 0.011254085, 0.012591839, 0.011557801, 0.013056706, 0.014398133, 0.012313475, 0.012093612, 0.016432099, 0.0113502825, 0.016635938, 0.013721685, 0.012464932, 0.0104116555, 0.016044369, 0.013408721, 0.015463071, 0.018713478, 0.011586283, 0.015227599, 0.013531527, 0.019117862, 0.017661963, 0.011669705, 0.018172408, 0.015465005, 0.009341258, 0.01263714, 0.014758294, 0.015132361, 0.012621543, 0.012525555, 0.014049779, 0.012340044, 0.010943824, 0.009506601, 0.016695194, 0.013184375, 0.012199993, 0.013374237, 0.011409188, 0.0144756315, 0.013122283, 0.020441787, 0.031038575, 0.014752591, 0.0141718965, 0.014222646, 0.012159682, 0.010754727, 0.015439533, 0.013867511, 0.011218344, 0.011585507, 0.015804334, 0.011294733, 0.013748162, 0.0119249495, 0.01170938, 0.013363214, 0.01132977, 0.011438563, 0.013511586, 0.011008585, 0.013987363, 0.011642312, 0.016350321, 0.012238249, 0.015843157, 0.01308877, 0.012054212, 0.01528267, 0.013897264, 0.0120705515, 0.015115467, 0.01114667]\n",
      "2021-02-11 14:02:31,524 : INFO : merging changes from 1204 documents into a model of 3204 documents\n",
      "2021-02-11 14:02:31,545 : INFO : topic #50 (0.009): 0.137*\"gamma\" + 0.084*\"pattern\" + 0.079*\"l\" + 0.069*\"s14\" + 0.056*\"to\" + 0.053*\"label\" + 0.051*\"respect\" + 0.042*\"with\" + 0.041*\"dictionari\" + 0.040*\"english\"\n",
      "2021-02-11 14:02:31,546 : INFO : topic #59 (0.010): 0.166*\"field\" + 0.131*\"busi\" + 0.071*\"elimin\" + 0.070*\"govern\" + 0.065*\"in\" + 0.054*\"affect\" + 0.050*\"impact\" + 0.046*\"bank\" + 0.035*\"convert\" + 0.030*\"identifi\"\n",
      "2021-02-11 14:02:31,546 : INFO : topic #45 (0.019): 0.460*\"(\" + 0.389*\")\" + 0.049*\"1\" + 0.023*\"or\" + 0.017*\"associ\" + 0.013*\"machin\" + 0.008*\"for\" + 0.007*\"with\" + 0.006*\"part\" + 0.005*\"legendr\"\n",
      "2021-02-11 14:02:31,547 : INFO : topic #67 (0.020): 0.338*\"s\" + 0.315*\"'\" + 0.039*\"recurs\" + 0.037*\"for\" + 0.036*\"and\" + 0.028*\"path\" + 0.020*\"to\" + 0.019*\"rule\" + 0.018*\"comput\" + 0.018*\"on\"\n",
      "2021-02-11 14:02:31,548 : INFO : topic #68 (0.031): 0.355*\"algorithm\" + 0.275*\"(\" + 0.273*\")\" + 0.018*\"integr\" + 0.011*\"polynomi\" + 0.010*\"calcul\" + 0.008*\"orthogon\" + 0.007*\"s15\" + 0.006*\"by\" + 0.006*\"ellipt\"\n",
      "2021-02-11 14:02:31,549 : INFO : topic diff=0.156456, rho=0.215156\n"
     ]
    },
    {
     "data": {
      "text/plain": [
       "[(0, 0.007312152),\n",
       " (1, 0.0051060054),\n",
       " (2, 0.0047917417),\n",
       " (3, 0.0043398393),\n",
       " (4, 0.0055464073),\n",
       " (5, 0.0053132437),\n",
       " (6, 0.0046285894),\n",
       " (7, 0.005863947),\n",
       " (8, 0.0058068926),\n",
       " (9, 0.005675061),\n",
       " (10, 0.005297856),\n",
       " (11, 0.0047047385),\n",
       " (12, 0.0040752757),\n",
       " (13, 0.004604883),\n",
       " (14, 0.0063153733),\n",
       " (15, 0.0059410133),\n",
       " (16, 0.0068490263),\n",
       " (17, 0.0055355784),\n",
       " (18, 0.005659824),\n",
       " (19, 0.00620102),\n",
       " (20, 0.005616136),\n",
       " (21, 0.0057987617),\n",
       " (22, 0.0045329393),\n",
       " (23, 0.0073701143),\n",
       " (24, 0.0065431036),\n",
       " (25, 0.0047705285),\n",
       " (26, 0.005337593),\n",
       " (27, 0.0048992713),\n",
       " (28, 0.005534647),\n",
       " (29, 0.006103269),\n",
       " (30, 0.0052195964),\n",
       " (31, 0.005126398),\n",
       " (32, 0.006965453),\n",
       " (33, 0.004811306),\n",
       " (34, 0.0070518586),\n",
       " (35, 0.005816527),\n",
       " (36, 0.005283798),\n",
       " (37, 0.0044134287),\n",
       " (38, 0.0068010967),\n",
       " (39, 0.005683864),\n",
       " (40, 0.0065546883),\n",
       " (41, 0.007932513),\n",
       " (42, 0.004911345),\n",
       " (43, 0.0064548734),\n",
       " (44, 0.0057359203),\n",
       " (45, 0.008103929),\n",
       " (46, 0.0074867834),\n",
       " (47, 0.004946707),\n",
       " (48, 0.0077031576),\n",
       " (49, 0.0065555084),\n",
       " (50, 0.0039596944),\n",
       " (51, 0.005356796),\n",
       " (52, 0.0062559387),\n",
       " (53, 0.006414503),\n",
       " (54, 0.0053501846),\n",
       " (55, 0.0053094956),\n",
       " (56, 0.005955604),\n",
       " (57, 0.005230859),\n",
       " (58, 0.0046390113),\n",
       " (59, 0.004029782),\n",
       " (60, 0.007076977),\n",
       " (61, 0.0055887653),\n",
       " (62, 0.0051714927),\n",
       " (63, 0.0056692464),\n",
       " (64, 0.0048362757),\n",
       " (65, 0.00613612),\n",
       " (66, 0.0055624447),\n",
       " (67, 0.008665131),\n",
       " (68, 0.013157036),\n",
       " (69, 0.006253521),\n",
       " (70, 0.0060073687),\n",
       " (71, 0.006028881),\n",
       " (72, 0.005154405),\n",
       " (73, 0.0045588543),\n",
       " (74, 0.0065447106),\n",
       " (75, 0.005878342),\n",
       " (76, 0.0047553782),\n",
       " (77, 0.0049110157),\n",
       " (78, 0.0066993474),\n",
       " (79, 0.004787759),\n",
       " (80, 0.0058277505),\n",
       " (81, 0.005054903),\n",
       " (82, 0.004963525),\n",
       " (83, 0.005664574),\n",
       " (84, 0.0048026107),\n",
       " (85, 0.0048487275),\n",
       " (86, 0.0057274676),\n",
       " (87, 0.0046664625),\n",
       " (88, 0.0059291464),\n",
       " (89, 0.004935095),\n",
       " (90, 0.006930788),\n",
       " (91, 0.005187709),\n",
       " (92, 0.0067158043),\n",
       " (93, 0.0055482388),\n",
       " (94, 0.005109697),\n",
       " (95, 0.006478218),\n",
       " (96, 0.005890954),\n",
       " (97, 0.005116623),\n",
       " (98, 0.43029818),\n",
       " (99, 0.004724996)]"
      ]
     },
     "execution_count": 87,
     "metadata": {},
     "output_type": "execute_result"
    }
   ],
   "source": [
    "##### Function check\n",
    "lda = LdaRetrievalModel(doc_repr_2)\n",
    "lda.train_model()\n",
    "\n",
    "# you can now get an LDA vector for a given query in the following way:\n",
    "lda.vectorize_query(\"report\")\n",
    "##### "
   ]
  },
  {
   "cell_type": "markdown",
   "metadata": {
    "deletable": false,
    "editable": false,
    "id": "Ytw2BnNn4IWu",
    "nbgrader": {
     "cell_type": "markdown",
     "checksum": "32d83b6ea79ca3ddb789a7f8805a1b25",
     "grade": false,
     "grade_id": "cell-0e24b727d5908c0e",
     "locked": true,
     "points": 5,
     "schema_version": 3,
     "solution": false,
     "task": true
    }
   },
   "source": [
    "\\#### Please do not change this. This cell is used for grading."
   ]
  },
  {
   "cell_type": "markdown",
   "metadata": {
    "deletable": false,
    "editable": false,
    "id": "PqZBboVz4IWu",
    "nbgrader": {
     "cell_type": "markdown",
     "checksum": "114a934f0b9ce696e6cf09d3b8da6a3d",
     "grade": false,
     "grade_id": "cell-b1bffcb970b18aeb",
     "locked": true,
     "schema_version": 3,
     "solution": false,
     "task": false
    }
   },
   "source": [
    "---\n",
    "Now we can use the `DenseRetrievalModel` class to obtain an LDA search function.\n",
    "You can test your LDA model in the following cell: Try finding queries which are lexically different to documents, but semantically similar - does LDA work well for these queries?!"
   ]
  },
  {
   "cell_type": "code",
   "execution_count": 88,
   "metadata": {
    "ExecuteTime": {
     "end_time": "2021-02-11T13:03:17.091241Z",
     "start_time": "2021-02-11T13:03:14.342200Z"
    },
    "id": "TnPkNnQb4IWu"
   },
   "outputs": [
    {
     "data": {
      "application/vnd.jupyter.widget-view+json": {
       "model_id": "40f333a85cab41d88c403016d6c942a4",
       "version_major": 2,
       "version_minor": 0
      },
      "text/plain": [
       "Text(value='', description='Search Bar')"
      ]
     },
     "metadata": {},
     "output_type": "display_data"
    },
    {
     "name": "stdout",
     "output_type": "stream",
     "text": [
      "Searching for: 'report' (SEARCH FN: <bound method DenseRetrievalRanker.search of <__main__.DenseRetrievalRanker object at 0x0000026E0F3A9970>>)\n"
     ]
    },
    {
     "name": "stderr",
     "output_type": "stream",
     "text": [
      "<ipython-input-84-fe3320dad518>:25: RuntimeWarning: invalid value encountered in true_divide\n",
      "  d1 = vec_1*np.log2(2*vec_1/(vec_1+vec_2))\n",
      "<ipython-input-84-fe3320dad518>:26: RuntimeWarning: invalid value encountered in true_divide\n",
      "  d2 = vec_2*np.log2(2*vec_2/(vec_1+vec_2))\n"
     ]
    },
    {
     "data": {
      "text/html": [
       "<ul><li>Document #218(0.9791312238138182): \n",
       "Computer Preparation of a Poetry Concordance\n",
       "</li><li>Document #1107(0.9493383105639457): \n",
       "Computers and Education\n",
       "</li><li>Document #72(0.8609250081227295): \n",
       "An Educational Program in Computing \n",
       "</li><li>Document #34(0.8559655042682267): \n",
       "Tables for Automatic Computation\n",
       "</li><li>Document #223(0.8512772756475337): \n",
       "Selfcipher: Programming\n",
       "</li></ul>"
      ],
      "text/plain": [
       "<IPython.core.display.HTML object>"
      ]
     },
     "metadata": {},
     "output_type": "display_data"
    }
   ],
   "source": [
    "drm_lda = DenseRetrievalRanker(lda, jenson_shannon_sim)\n",
    "\n",
    "# test your LDA model\n",
    "search_fn = drm_lda.search\n",
    "\n",
    "text = widgets.Text(description=\"Search Bar\", width=200)\n",
    "display(text)\n",
    "\n",
    "\n",
    "text.on_submit(handle_submit_2)"
   ]
  },
  {
   "cell_type": "markdown",
   "metadata": {
    "deletable": false,
    "editable": false,
    "id": "xa0oM-SP4IWu",
    "nbgrader": {
     "cell_type": "markdown",
     "checksum": "9d7f15863b655119b45f4d89354e5661",
     "grade": false,
     "grade_id": "cell-190cd0854b2791cc",
     "locked": true,
     "schema_version": 3,
     "solution": false,
     "task": false
    }
   },
   "source": [
    "## Section 8: Word2Vec/Doc2Vec (20 points) <a class=\"anchor\" id=\"2vec\"></a>\n",
    "\n",
    "[Back to Part 2](#part2)\n",
    "\n",
    "We will implement two other methods here, the Word2Vec model and the Doc2Vec model, also using `gensim`. Word2Vec creates representations of words, not documents, so the word level vectors need to be aggregated to obtain a representation for the document. Here, we will simply take the mean of the vectors. \n",
    "\n",
    "\n",
    "A drawback of these models is that they need a lot of training data. Our dataset is tiny, so in addition to using a model trained on the data, we will also use a pre-trained model for Word2Vec (this will be automatically downloaded).     \n",
    "\n",
    "*Note*:\n",
    "1. The code in vectorize_documents / vectorize_query should return gensim-like vectors i.e `[(dim, val), .. (dim, val)]`. \n",
    "2. For Word2Vec: You should also handle the following two cases: (a) A word in the query is not present in the vocabulary of the model and (b) none of the words in the query are present in the model - you can return 0 scores for all documents in this case. For either of these, you can check if a `word` is present in the vocab by using `word in self.model`\n"
   ]
  },
  {
   "cell_type": "code",
   "execution_count": null,
   "metadata": {
    "ExecuteTime": {
     "end_time": "2021-02-11T12:59:58.829051Z",
     "start_time": "2021-02-11T12:59:31.205Z"
    },
    "deletable": false,
    "id": "gPHOpyp34IWu",
    "nbgrader": {
     "cell_type": "code",
     "checksum": "83ab733608ed14c29c09b36b4e1b6daa",
     "grade": false,
     "grade_id": "cell-2b73759f9baf688f",
     "locked": false,
     "schema_version": 3,
     "solution": true,
     "task": false
    }
   },
   "outputs": [],
   "source": [
    "# TODO: Implement this! (10 points)\n",
    "class W2VRetrievalModel(VectorSpaceRetrievalModel):\n",
    "    def __init__(self, doc_repr):\n",
    "        super().__init__(doc_repr)\n",
    "        \n",
    "        # the dimensionality of the vectors\n",
    "        self.size = 100 \n",
    "        self.min_count = 1\n",
    "    \n",
    "    def train_model(self):\n",
    "        \"\"\"\n",
    "        Trains the W2V model\n",
    "        \"\"\"\n",
    "        # YOUR CODE HERE\n",
    "        raise NotImplementedError()\n",
    "        \n",
    "    def vectorize_documents(self):\n",
    "        \"\"\"\n",
    "            Returns a doc_id -> vector dictionary\n",
    "        \"\"\"\n",
    "        # YOUR CODE HERE\n",
    "        raise NotImplementedError()\n",
    "\n",
    "    def vectorize_query(self, query):\n",
    "        \"\"\"\n",
    "        Vectorizes the query using the W2V model\n",
    "        \"\"\"\n",
    "        query = process_text(query, **config_2)\n",
    "        # YOUR CODE HERE\n",
    "        raise NotImplementedError()\n",
    "    \n",
    "    \n",
    "class W2VPretrainedRetrievalModel(W2VRetrievalModel):\n",
    "    def __init__(self, doc_repr):\n",
    "        super().__init__(doc_repr)\n",
    "        self.model_name = \"word2vec-google-news-300\"\n",
    "        self.size = 300\n",
    "    \n",
    "    def train_model(self):\n",
    "        \"\"\"\n",
    "        Loads the pretrained model\n",
    "        \"\"\"\n",
    "        self.model = g_downloader.load(self.model_name)\n",
    "\n",
    "w2v = W2VRetrievalModel(doc_repr_2)\n",
    "w2v.train_model()\n",
    "\n",
    "# you can now get a W2V vector for a given query in the following way:\n",
    "w2v.vectorize_query(\"report\")"
   ]
  },
  {
   "cell_type": "code",
   "execution_count": null,
   "metadata": {
    "ExecuteTime": {
     "end_time": "2021-02-11T12:59:58.830049Z",
     "start_time": "2021-02-11T12:59:31.207Z"
    },
    "deletable": false,
    "editable": false,
    "id": "ATy5tnMV4IWv",
    "nbgrader": {
     "cell_type": "code",
     "checksum": "f92b5c5a8c6c4b80652b94223209ab0b",
     "grade": true,
     "grade_id": "cell-b31c0f8d214b8bdf",
     "locked": true,
     "points": 0,
     "schema_version": 3,
     "solution": false,
     "task": false
    }
   },
   "outputs": [],
   "source": [
    "assert len(w2v.vectorize_query(\"report\")) == 100\n",
    "assert len(w2v.vectorize_query(\"this is a sentence that is not mellifluous\")) == 100\n"
   ]
  },
  {
   "cell_type": "markdown",
   "metadata": {
    "deletable": false,
    "editable": false,
    "id": "lP0VtCid4IWv",
    "nbgrader": {
     "cell_type": "markdown",
     "checksum": "8dfaabebcb06f308a7ca61fdc5d369e7",
     "grade": false,
     "grade_id": "cell-c2614fa067386384",
     "locked": true,
     "points": 8,
     "schema_version": 3,
     "solution": false,
     "task": true
    }
   },
   "source": [
    "\\#### Please do not change this. This cell is used for grading."
   ]
  },
  {
   "cell_type": "code",
   "execution_count": null,
   "metadata": {
    "ExecuteTime": {
     "end_time": "2021-02-11T12:59:58.830049Z",
     "start_time": "2021-02-11T12:59:31.209Z"
    },
    "id": "-aeBam5p4IWv"
   },
   "outputs": [],
   "source": [
    "w2v_pretrained = W2VPretrainedRetrievalModel(doc_repr_2)\n",
    "w2v_pretrained.train_model()\n",
    "\n",
    "# you can now get an W2V vector for a given query in the following way:\n",
    "w2v_pretrained.vectorize_query(\"report\")"
   ]
  },
  {
   "cell_type": "code",
   "execution_count": null,
   "metadata": {
    "ExecuteTime": {
     "end_time": "2021-02-11T12:59:58.831045Z",
     "start_time": "2021-02-11T12:59:31.211Z"
    },
    "deletable": false,
    "editable": false,
    "id": "_0ifhcln4IWv",
    "nbgrader": {
     "cell_type": "code",
     "checksum": "0822845afb5eafe5ddb1ffeaa4f4942a",
     "grade": true,
     "grade_id": "cell-1b1466f8ce516f42",
     "locked": true,
     "points": 2,
     "schema_version": 3,
     "solution": false,
     "task": false
    }
   },
   "outputs": [],
   "source": [
    "##### Function check\n",
    "\n",
    "print(len(w2v_pretrained.vectorize_query(\"report\")))\n",
    "#####"
   ]
  },
  {
   "cell_type": "code",
   "execution_count": null,
   "metadata": {
    "ExecuteTime": {
     "end_time": "2021-02-11T12:59:58.832042Z",
     "start_time": "2021-02-11T12:59:31.214Z"
    },
    "id": "VCpO-xcU4IWv"
   },
   "outputs": [],
   "source": [
    "drm_w2v = DenseRetrievalRanker(w2v, cosine_sim)\n",
    "\n",
    "# test your LDA model\n",
    "search_fn = drm_w2v.search\n",
    "\n",
    "text = widgets.Text(description=\"Search Bar\", width=200)\n",
    "display(text)\n",
    "\n",
    "\n",
    "text.on_submit(handle_submit_2)"
   ]
  },
  {
   "cell_type": "code",
   "execution_count": null,
   "metadata": {
    "ExecuteTime": {
     "end_time": "2021-02-11T12:59:58.833040Z",
     "start_time": "2021-02-11T12:59:31.216Z"
    },
    "id": "7wyn-qfY4IWv"
   },
   "outputs": [],
   "source": [
    "drm_w2v_pretrained = DenseRetrievalRanker(w2v_pretrained, cosine_sim)\n",
    "\n",
    "# test your LDA model\n",
    "search_fn = drm_w2v_pretrained.search\n",
    "\n",
    "text = widgets.Text(description=\"Search Bar\", width=200)\n",
    "display(text)\n",
    "\n",
    "\n",
    "text.on_submit(handle_submit_2)"
   ]
  },
  {
   "cell_type": "markdown",
   "metadata": {
    "deletable": false,
    "editable": false,
    "id": "giJFuUld4IWv",
    "nbgrader": {
     "cell_type": "markdown",
     "checksum": "51b778984fd60757974f51047c61eb15",
     "grade": false,
     "grade_id": "cell-b92f701cbc706108",
     "locked": true,
     "schema_version": 3,
     "solution": false,
     "task": false
    }
   },
   "source": [
    "**Implementation (10 points):**\n",
    "For Doc2Vec, you will need to create a list of `TaggedDocument` instead of using the `self.corpus` or `self.documents` variable. Use the document id as the 'tag'.\n",
    "  "
   ]
  },
  {
   "cell_type": "code",
   "execution_count": null,
   "metadata": {
    "ExecuteTime": {
     "end_time": "2021-02-11T12:59:58.833040Z",
     "start_time": "2021-02-11T12:59:31.218Z"
    },
    "deletable": false,
    "id": "_Ie4aqXa4IWw",
    "nbgrader": {
     "cell_type": "code",
     "checksum": "1f60fdeb97febb7f4a6fd5bf109aac20",
     "grade": false,
     "grade_id": "cell-680facdcc98a19ab",
     "locked": false,
     "schema_version": 3,
     "solution": true,
     "task": false
    }
   },
   "outputs": [],
   "source": [
    "# TODO: Implement this! (10 points)\n",
    "class D2VRetrievalModel(VectorSpaceRetrievalModel):\n",
    "    def __init__(self, doc_repr):\n",
    "        super().__init__(doc_repr)\n",
    "        \n",
    "        self.vector_size= 100\n",
    "        self.min_count = 1\n",
    "        self.epochs = 20\n",
    "        \n",
    "        # YOUR CODE HERE\n",
    "        raise NotImplementedError()\n",
    "        \n",
    "    def train_model(self):\n",
    "        # YOUR CODE HERE\n",
    "        raise NotImplementedError()\n",
    "    \n",
    "    def vectorize_documents(self):\n",
    "        \"\"\"\n",
    "            Returns a doc_id -> vector dictionary\n",
    "        \"\"\"\n",
    "        # YOUR CODE HERE\n",
    "        raise NotImplementedError()\n",
    "\n",
    "    def vectorize_query(self, query):\n",
    "        # YOUR CODE HERE\n",
    "        raise NotImplementedError()\n",
    "        \n",
    "d2v = D2VRetrievalModel(doc_repr_2)\n",
    "d2v.train_model()\n",
    "\n",
    "\n",
    "# # you can now get an LSI vector for a given query in the following way:\n",
    "d2v.vectorize_query(\"report\")"
   ]
  },
  {
   "cell_type": "code",
   "execution_count": null,
   "metadata": {
    "ExecuteTime": {
     "end_time": "2021-02-11T12:59:58.834038Z",
     "start_time": "2021-02-11T12:59:31.220Z"
    },
    "deletable": false,
    "editable": false,
    "id": "PES2gma44IWw",
    "nbgrader": {
     "cell_type": "code",
     "checksum": "e83a363a9d4f136efbdde1426a83925e",
     "grade": true,
     "grade_id": "cell-5e2c5e0c9a2e8cb5",
     "locked": true,
     "points": 0,
     "schema_version": 3,
     "solution": false,
     "task": false
    }
   },
   "outputs": [],
   "source": [
    "#### Please do not change this. This cell is used for grading."
   ]
  },
  {
   "cell_type": "markdown",
   "metadata": {
    "deletable": false,
    "editable": false,
    "id": "uCHYfnTf4IWw",
    "nbgrader": {
     "cell_type": "markdown",
     "checksum": "5bb46bf6b9be1e0ca66f0b0bc6260ecb",
     "grade": false,
     "grade_id": "cell-8a49d414f798a595",
     "locked": true,
     "points": 10,
     "schema_version": 3,
     "solution": false,
     "task": true
    }
   },
   "source": [
    "\\#### Please do not change this. This cell is used for grading."
   ]
  },
  {
   "cell_type": "code",
   "execution_count": null,
   "metadata": {
    "ExecuteTime": {
     "end_time": "2021-02-11T12:59:58.835035Z",
     "start_time": "2021-02-11T12:59:31.223Z"
    },
    "id": "eceopG-Y4IWw"
   },
   "outputs": [],
   "source": [
    "drm_d2v = DenseRetrievalRanker(d2v, cosine_sim)\n",
    "\n",
    "# test your LDA model\n",
    "search_fn = drm_d2v.search\n",
    "\n",
    "text = widgets.Text(description=\"Search Bar\", width=200)\n",
    "display(text)\n",
    "\n",
    "\n",
    "text.on_submit(handle_submit_2)"
   ]
  },
  {
   "cell_type": "markdown",
   "metadata": {
    "deletable": false,
    "editable": false,
    "id": "uJBmD00Y4IWw",
    "nbgrader": {
     "cell_type": "markdown",
     "checksum": "363ec36c1d03d9f9e1c2045a6e193c14",
     "grade": false,
     "grade_id": "cell-3529ae29eece7b97",
     "locked": true,
     "schema_version": 3,
     "solution": false,
     "task": false
    }
   },
   "source": [
    "---\n",
    "## Section 9: Re-ranking (10 points) <a class=\"anchor\" id=\"reranking\"></a>\n",
    "\n",
    "[Back to Part 2](#part2)\n",
    "\n",
    "To motivate the re-ranking perspective (i.e retrieve with lexical method + rerank with a semantic method), let's search using semantic methods and compare it to BM25's performance, along with their runtime:\n"
   ]
  },
  {
   "cell_type": "code",
   "execution_count": null,
   "metadata": {
    "ExecuteTime": {
     "end_time": "2021-02-11T12:59:58.836031Z",
     "start_time": "2021-02-11T12:59:31.225Z"
    },
    "deletable": false,
    "editable": false,
    "id": "iO8Q3KWc4IWw",
    "nbgrader": {
     "cell_type": "code",
     "checksum": "5755f70e3eb28abc65d14d80125338af",
     "grade": false,
     "grade_id": "cell-f8f43bf5ae383128",
     "locked": true,
     "schema_version": 3,
     "solution": false,
     "task": false
    }
   },
   "outputs": [],
   "source": [
    "query = \"algebraic functions\"\n",
    "print(\"BM25: \")\n",
    "%timeit bm25_search(query, 2)\n",
    "print(\"LSI: \")\n",
    "%timeit drm_lsi.search(query)\n",
    "print(\"LDA: \")\n",
    "%timeit drm_lda.search(query)\n",
    "print(\"W2V: \")\n",
    "%timeit drm_w2v.search(query)\n",
    "print(\"W2V(Pretrained): \")\n",
    "%timeit drm_w2v_pretrained.search(query)\n",
    "print(\"D2V:\")\n",
    "%timeit drm_d2v.search(query)"
   ]
  },
  {
   "cell_type": "markdown",
   "metadata": {
    "deletable": false,
    "editable": false,
    "id": "oBnOArQC4IWx",
    "nbgrader": {
     "cell_type": "markdown",
     "checksum": "ae398da0a8c23c95bcbb0023b7ec6f34",
     "grade": false,
     "grade_id": "cell-db5ff09f97841af7",
     "locked": true,
     "schema_version": 3,
     "solution": false,
     "task": false
    }
   },
   "source": [
    "---\n",
    "\n",
    "**Implementation (10 points):**\n",
    "Re-ranking involves retrieving a small set of documents using simple but fast methods like BM25 and then re-ranking them with the aid of semantic methods such as LDA or LSI. Implement the following class, which takes in an `initial_retrieval_fn` - the initial retrieval function and `vsrm` - an instance of the `VectorSpaceRetrievalModel` class (i.e LSI/LDA) as input. The search function should first retrieve an initial list of K documents, and then these documents are re-ranked using a semantic method. This not only makes retrieval faster, but semantic methods perform poorly when used in isolation, as you will find out."
   ]
  },
  {
   "cell_type": "code",
   "execution_count": null,
   "metadata": {
    "ExecuteTime": {
     "end_time": "2021-02-11T12:59:58.837029Z",
     "start_time": "2021-02-11T12:59:31.228Z"
    },
    "deletable": false,
    "id": "Uxl8iQ1q4IWx",
    "nbgrader": {
     "cell_type": "code",
     "checksum": "63b6b05a676a2ae3f08d8bed1bc59428",
     "grade": false,
     "grade_id": "cell-5bf47600d1a0c507",
     "locked": false,
     "schema_version": 3,
     "solution": true,
     "task": false
    }
   },
   "outputs": [],
   "source": [
    "# TODO: Implement this! (10 points)\n",
    "class DenseRerankingModel:\n",
    "    def __init__(self, initial_retrieval_fn, vsrm, similarity_fn):\n",
    "        \"\"\"\n",
    "            initial_retrieval_fn: takes in a query and returns a list of [(doc_id, score)] (sorted)\n",
    "            vsrm: instance of `VectorSpaceRetrievalModel`\n",
    "            similarity_fn: function instance that takes in two vectors \n",
    "                            and returns a similarity score e.g cosine_sim defined earlier\n",
    "        \"\"\"\n",
    "        self.ret = initial_retrieval_fn\n",
    "        self.vsrm = vsrm\n",
    "        self.similarity_fn = similarity_fn\n",
    "        self.vectorized_documents = vsrm.vectorize_documents()\n",
    "        \n",
    "        assert len(self.vectorized_documents) == len(doc_repr_2)\n",
    "    \n",
    "    def search(self, query, K=50):\n",
    "        \"\"\"\n",
    "            First, retrieve the top K results using the retrieval function\n",
    "            Then, re-rank the results using the VSRM instance\n",
    "        \"\"\"\n",
    "        # YOUR CODE HERE\n",
    "        raise NotImplementedError()"
   ]
  },
  {
   "cell_type": "code",
   "execution_count": null,
   "metadata": {
    "ExecuteTime": {
     "end_time": "2021-02-11T12:59:58.837029Z",
     "start_time": "2021-02-11T12:59:31.230Z"
    },
    "deletable": false,
    "editable": false,
    "id": "rNBMLq3T4IWx",
    "nbgrader": {
     "cell_type": "code",
     "checksum": "334ab5af96976265cace682ab82a7387",
     "grade": true,
     "grade_id": "cell-52c6d18a4c0b4882",
     "locked": true,
     "points": 0,
     "schema_version": 3,
     "solution": false,
     "task": false
    }
   },
   "outputs": [],
   "source": [
    "##### Function check\n",
    "bm25_search_2 = partial(bm25_search, index_set=2)\n",
    "lsi_rerank = DenseRerankingModel(bm25_search_2, lsi, cosine_sim)\n",
    "lda_rerank = DenseRerankingModel(bm25_search_2, lda, jenson_shannon_sim)\n",
    "w2v_rerank = DenseRerankingModel(bm25_search_2, w2v, cosine_sim)\n",
    "w2v_pretrained_rerank = DenseRerankingModel(bm25_search_2, w2v_pretrained, cosine_sim)\n",
    "d2v_rerank = DenseRerankingModel(bm25_search_2, d2v, cosine_sim)\n",
    "\n",
    "##### "
   ]
  },
  {
   "cell_type": "markdown",
   "metadata": {
    "deletable": false,
    "editable": false,
    "id": "LPYGMblR4IWx",
    "nbgrader": {
     "cell_type": "markdown",
     "checksum": "bd904253f45f84e63bab3a69729058fc",
     "grade": false,
     "grade_id": "cell-93215dfe6bcf7cff",
     "locked": true,
     "points": 10,
     "schema_version": 3,
     "solution": false,
     "task": true
    }
   },
   "source": [
    "\\#### Please do not change this. This cell is used for grading."
   ]
  },
  {
   "cell_type": "markdown",
   "metadata": {
    "deletable": false,
    "editable": false,
    "id": "qkEXXhZR4IWx",
    "nbgrader": {
     "cell_type": "markdown",
     "checksum": "b592e60292bfe3d9ef2930a354c4077a",
     "grade": false,
     "grade_id": "cell-aa694ff55fa91e7d",
     "locked": true,
     "schema_version": 3,
     "solution": false,
     "task": false
    }
   },
   "source": [
    "---\n",
    "Now, let us time the new search functions:"
   ]
  },
  {
   "cell_type": "code",
   "execution_count": null,
   "metadata": {
    "ExecuteTime": {
     "end_time": "2021-02-11T12:59:58.838025Z",
     "start_time": "2021-02-11T12:59:31.235Z"
    },
    "deletable": false,
    "editable": false,
    "id": "CLJJ1U8P4IWy",
    "nbgrader": {
     "cell_type": "code",
     "checksum": "338c7e3528cba266a865a061287c0e38",
     "grade": false,
     "grade_id": "cell-5edbd481562ad91f",
     "locked": true,
     "schema_version": 3,
     "solution": false,
     "task": false
    }
   },
   "outputs": [],
   "source": [
    "query = \"algebraic functions\"\n",
    "print(\"BM25: \")\n",
    "%timeit bm25_search(query, 2)\n",
    "print(\"LSI: \")\n",
    "%timeit lsi_rerank.search(query)\n",
    "print(\"LDA: \")\n",
    "%timeit lda_rerank.search(query)\n",
    "print(\"W2V: \")\n",
    "%timeit w2v_rerank.search(query)\n",
    "print(\"W2V(Pretrained): \")\n",
    "%timeit w2v_pretrained_rerank.search(query)\n",
    "print(\"D2V:\")\n",
    "%timeit d2v_rerank.search(query)"
   ]
  },
  {
   "cell_type": "markdown",
   "metadata": {
    "deletable": false,
    "editable": false,
    "id": "3YxKmu1l4IWy",
    "nbgrader": {
     "cell_type": "markdown",
     "checksum": "c45c5e3f015b2de89d9d39ae3766368b",
     "grade": false,
     "grade_id": "cell-85c50f2ab9eec301",
     "locked": true,
     "schema_version": 3,
     "solution": false,
     "task": false
    }
   },
   "source": [
    "---\n",
    "As you can see, it is much faster (but BM25 is still orders of magnitude faster)."
   ]
  },
  {
   "cell_type": "markdown",
   "metadata": {
    "deletable": false,
    "editable": false,
    "id": "MdjNyWo34IWy",
    "nbgrader": {
     "cell_type": "markdown",
     "checksum": "1e2f3388e3807659f303fe31a75a010e",
     "grade": false,
     "grade_id": "cell-5071bb99b2af61cb",
     "locked": true,
     "schema_version": 3,
     "solution": false,
     "task": false
    }
   },
   "source": [
    "---\n",
    "## Section 10: Evaluation & Analysis (30 points) <a class=\"anchor\" id=\"reranking_eval\"></a>\n",
    "\n",
    "[Back to Part 2](#part2)\n",
    "\n",
    "[Previously](#evaluation) we have implemented some evaluation metrics and used them for measuring the ranking performance of term-based IR algorithms. In this section, we will do the same for semantic methods, both with and without re-ranking.\n",
    "\n",
    "### Section 10.1: Plot (10 points)\n",
    "\n",
    "First, gather the results. The results should consider the index set, the different search functions and different metrics. Plot the results in bar charts, per metric, with clear labels.\n",
    "\n",
    "Then, gather only the re-ranking models, and plot and compare them with the results obtained in part 1 (only index set 2)."
   ]
  },
  {
   "cell_type": "code",
   "execution_count": null,
   "metadata": {
    "ExecuteTime": {
     "end_time": "2021-02-11T12:59:58.838025Z",
     "start_time": "2021-02-11T12:59:31.238Z"
    },
    "deletable": false,
    "editable": false,
    "id": "2Y2Ntwj84IWy",
    "nbgrader": {
     "cell_type": "code",
     "checksum": "4fe81520ac6413a803838913fd64de03",
     "grade": false,
     "grade_id": "cell-b672fe6dfae0b1ce",
     "locked": true,
     "schema_version": 3,
     "solution": false,
     "task": false
    }
   },
   "outputs": [],
   "source": [
    "list_of_sem_search_fns = [\n",
    "    (\"lda\", drm_lda.search),\n",
    "    (\"lsi\", drm_lsi.search),\n",
    "    (\"w2v\", drm_w2v.search),\n",
    "    (\"w2v_pretrained\", drm_w2v_pretrained.search),\n",
    "    (\"d2v\", drm_d2v.search),\n",
    "    (\"lsi_rr\", lsi_rerank.search),\n",
    "    (\"lda_rr\", lda_rerank.search),\n",
    "    (\"w2v_rr\", w2v_rerank.search),\n",
    "    (\"w2v_pretrained_rr\", w2v_pretrained_rerank.search),\n",
    "    (\"d2v_rr\", d2v_rerank.search),\n",
    "    \n",
    "]"
   ]
  },
  {
   "cell_type": "code",
   "execution_count": null,
   "metadata": {
    "ExecuteTime": {
     "end_time": "2021-02-11T12:59:58.839024Z",
     "start_time": "2021-02-11T12:59:31.241Z"
    },
    "deletable": false,
    "id": "XqoUKAKO4IWy",
    "nbgrader": {
     "cell_type": "code",
     "checksum": "54707c4afac084299aeefa047259b4a9",
     "grade": true,
     "grade_id": "cell-7dd8273b0f5a3c22",
     "locked": false,
     "points": 10,
     "schema_version": 3,
     "solution": true,
     "task": false
    }
   },
   "outputs": [],
   "source": [
    "# YOUR CODE HERE\n",
    "raise NotImplementedError()"
   ]
  },
  {
   "cell_type": "markdown",
   "metadata": {
    "deletable": false,
    "editable": false,
    "id": "TO7Rx1xc4IWy",
    "nbgrader": {
     "cell_type": "markdown",
     "checksum": "a8a3b6189bdde66704c694d85e38d049",
     "grade": false,
     "grade_id": "cell-deb2ef3daa306e82",
     "locked": true,
     "schema_version": 3,
     "solution": false,
     "task": false
    }
   },
   "source": [
    "### Section 10.2: Summary (20 points)\n",
    "\n",
    "Your summary should compare methods from Part 1 and Part 2 (only for index set 2). State what you expected to see in the results, followed by either supporting evidence *or* justify why the results did not support your expectations. Consider the availability of data, scalability, domain/type of data, etc."
   ]
  },
  {
   "cell_type": "markdown",
   "metadata": {
    "deletable": false,
    "id": "8kHCX99n4IWz",
    "nbgrader": {
     "cell_type": "markdown",
     "checksum": "ff97c43837d10bff6aaffa75e1492887",
     "grade": true,
     "grade_id": "cell-ec5dd7d9cf59dd86",
     "locked": false,
     "points": 20,
     "schema_version": 3,
     "solution": true,
     "task": false
    }
   },
   "source": [
    "YOUR ANSWER HERE"
   ]
  }
 ],
 "metadata": {
  "colab": {
   "collapsed_sections": [
    "7PZ1YsjO4IWa",
    "PEw9RAKO4IWc",
    "M10Gq1wo4IWd",
    "ARVTcJrC4IWe",
    "pu4nDAJQ4IWe",
    "D3EIl_rY4IWf",
    "43wdjFkt4IWf",
    "a6te4fbZ4IWg",
    "X2fSm6OJ4IWg",
    "CF8mA1LD4IWh",
    "PwcdEmYB4IWi",
    "a3vu_N7C4IWj",
    "bD5EZ9eN4IWl",
    "V_eNBPNC4IWl",
    "gLVYII234IWl",
    "Ad2E1OAb4IWm",
    "rsVw36Qs4IWn",
    "O6zOyivS4IWn",
    "Q38CrFOO4IWo",
    "Gh1iz9Ht4IWo",
    "b54ANEqK4IWp",
    "lZ3SttfV4IWp",
    "-hdtSyZZ4IWp",
    "KqeQEm1Q4IWq",
    "-EkJ-o9j4IWr",
    "0PGe6mPD4IWt",
    "xMbAwqEW4IWt",
    "1qyB_mcw4IWt",
    "xa0oM-SP4IWu",
    "uJBmD00Y4IWw",
    "MdjNyWo34IWy",
    "TO7Rx1xc4IWy"
   ],
   "name": "13322915_13325957_13326481.ipynb",
   "provenance": []
  },
  "kernelspec": {
   "display_name": "Python 3",
   "language": "python",
   "name": "python3"
  },
  "language_info": {
   "codemirror_mode": {
    "name": "ipython",
    "version": 3
   },
   "file_extension": ".py",
   "mimetype": "text/x-python",
   "name": "python",
   "nbconvert_exporter": "python",
   "pygments_lexer": "ipython3",
   "version": "3.8.5"
  }
 },
 "nbformat": 4,
 "nbformat_minor": 1
}
